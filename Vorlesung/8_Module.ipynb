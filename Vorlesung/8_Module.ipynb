{
 "cells": [
  {
   "cell_type": "markdown",
   "metadata": {},
   "source": [
    "# Pakete"
   ]
  },
  {
   "cell_type": "markdown",
   "metadata": {},
   "source": [
    "## Code in Dateien, Module und Pakete aufteilen"
   ]
  },
  {
   "cell_type": "markdown",
   "metadata": {},
   "source": [
    "Größere Programme enthalten oft dutzende Klassen mit hunderten Funktionen und vielen tausend Zeilen Code. Hier wird es sehr schnell schwer einen Überblick zu behalten, wenn alle Klassen in einer Datei definiert sind. Insbesondere wenn verschiedene Programmierer an verschiedenen Stellen im Programm arbeiten, kommt es dann sehr schnell zu Versionskonflikten, wenn Leute an ähnlichen Dateien arbeiten.\n",
    "\n",
    "Um dies organisiert und übersichtlich zu halten, wird Code in mehrere Dateien mit der Erweiterung `.py` aufgespalten. Dabei ist es üblich jeweils eine Datei\n",
    "-  pro Klasse, wenn Klassen definiert werden\n",
    "-  pro Thema, wenn Hilfsfunktionen definiert werden (z.B. Mathematik-Funktionen, …)\n",
    "-  pro Aufgabenbereich, wenn (z.B. Laden von Daten getrennt von deren Verarbeitung. So kann man z.B. später andere Verarbeitungsschritte definieren und das Laden wiederverwenden)"
   ]
  },
  {
   "cell_type": "markdown",
   "metadata": {},
   "source": [
    "Speichern wir jede Klasse der Geometrieelemente aus dem Teil der [Klassendefinition](7a_Objects.ipynb) aus der letzten Vorlesung so hätten wir dann z.B. eine Projektstruktur entsprechend:"
   ]
  },
  {
   "cell_type": "markdown",
   "metadata": {},
   "source": [
    "- 📁 geometry\n",
    "    - 📄 [ImmutablePoint.py](geometry/points/ImmutablePoint.py)\n",
    "    - 📄 [Point.py](geometry/points/Point.py)\n",
    "    - 📄 [Line.py](geometry/shapes/Line.py)\n",
    "    - 📄 [Pentagon.py](geometry/shapes/Pentagon.py)\n",
    "    - 📄 [Polygon.py](geometry/shapes/Polygon.py)\n",
    "    - 📄 [Tetragon.py](geometry/shapes/Tetragon.py)\n",
    "    - 📄 [Triangle.py](geometry/shapes/Triangle.py)\n",
    "\n",
    "<!-- <center><img src=\"images/files.png\" style=\"width: 40ex\"></center> -->"
   ]
  },
  {
   "cell_type": "markdown",
   "metadata": {},
   "source": [
    "Dabei enthält jede Datei nur den Code der gleichnamigen Klasse, auch wenn dies nur wenige Zeilen sind, wie im Fall der Klassen `Triangle`, `Tetragon` und `Pentagon`. Entscheidend ist, dass wenn ein Programmierer nach dem Code für eine Klasse sucht, er genau sieht in welcher Datei dieser zu finden ist und nicht groß suchen muss.\n",
    "\n",
    "Noch größere Projekte spalten man in mehrere *Module* indem man weitere Unterverzeichnisse anlegt. So wollen wir z.B. alle generischen Klassen für Punkte in das Verzeichnis `points` gruppieren und alle geometrischen Formen in das Verzeichnis `shapes`. So lassen sich größere Projekte gut strukturieren.\n",
    "\n",
    "Die Summe aller Module formt dann ein *Package*. In diesem Fall das Package `geometry`, welches wir in verschiedenen Implementierungen wieder verwenden können."
   ]
  },
  {
   "cell_type": "markdown",
   "metadata": {},
   "source": [
    "- 📁 geometry\n",
    "    - 📁 points\n",
    "        - 📄 [ImmutablePoint.py](geometry/points/ImmutablePoint.py)\n",
    "        - 📄 [Point.py](geometry/points/Point.py)\n",
    "    - 📁 shapes\n",
    "        - 📄 [Line.py](geometry/shapes/Line.py)\n",
    "        - 📄 [Pentagon.py](geometry/shapes/Pentagon.py)\n",
    "        - 📄 [Polygon.py](geometry/shapes/Polygon.py)\n",
    "        - 📄 [Tetragon.py](geometry/shapes/Tetragon.py)\n",
    "        - 📄 [Triangle.py](geometry/shapes/Triangle.py)\n",
    "\n",
    "<!-- <center><img src=\"images/shapes.png\" style=\"width: 40ex\"></center> -->"
   ]
  },
  {
   "cell_type": "markdown",
   "metadata": {},
   "source": [
    "## `main()` - Der Startpunkt eines Programmes "
   ]
  },
  {
   "cell_type": "markdown",
   "metadata": {},
   "source": [
    "Wenn Code über mehrere Dateien verteilt ist, braucht Python einen Hinweis welcher Code ausgeführt werden soll. Hierfür definiert man die spezielle Einstiegsfunktion `main()`. Sie gibt es in fast allen Programmiersprachen und gibt immer den Startpunkt eines Programms an.\n",
    "\n",
    "In Python hat sie entweder keine Argumente oder sie erhält diese dynamisch, wenn sie vom Nutzer / von einem anderen Programm aufgerufen wird (a.k.a. Kommandozeilenargumente)."
   ]
  },
  {
   "cell_type": "code",
   "execution_count": 1,
   "metadata": {},
   "outputs": [],
   "source": [
    "def main():\n",
    "\tprint(\"This is the main function\")"
   ]
  },
  {
   "cell_type": "markdown",
   "metadata": {},
   "source": [
    "Allerdings möchte man vermeiden, dass die Funktion `main()` auch aufgerufen wird, wenn die Python-Datei zum Beispiel als Bibliothek eingebunden wird, wo man nur an den Funktionen interessiert ist. Deshalb nutzt man am Ende einer Datei mit einer `main()`-Funktion die folgende Verzweigung."
   ]
  },
  {
   "cell_type": "code",
   "execution_count": 2,
   "metadata": {},
   "outputs": [
    {
     "name": "stdout",
     "output_type": "stream",
     "text": [
      "This is the main function\n"
     ]
    }
   ],
   "source": [
    "if __name__ == \"__main__\":\n",
    "\tmain()"
   ]
  },
  {
   "cell_type": "markdown",
   "metadata": {},
   "source": [
    "Sie nutzt aus, dass der Wert der Standardvariable `__name__` in der Hauptdatei immer `'__main__'` lautet. Während sie in einer importierten Datei den Namen der Hauptdatei angibt."
   ]
  },
  {
   "cell_type": "markdown",
   "metadata": {},
   "source": [
    "## Importieren von Modulen"
   ]
  },
  {
   "cell_type": "markdown",
   "metadata": {},
   "source": [
    "Um zu vermeiden, dass ständig unnötiger Code geladen wird lädt Python diesen Code nicht automatisch. Wollen wir also den Code in unseren Dateien, Modulen und Packages nutzen so müssen wir vorher Python anweisen diesen zu laden. Dieses *Importieren* weist man mit dem Befehl `import` an.\n",
    "\n",
    "Ein einfacher Import ist der import ganzer Pakete. Dies geschieht, indem wir `import` und dem Paketnamen schreiben."
   ]
  },
  {
   "cell_type": "code",
   "execution_count": 3,
   "metadata": {},
   "outputs": [
    {
     "name": "stdout",
     "output_type": "stream",
     "text": [
      "Die Länge der Linie zwischen Punkt 1 und 2 ist: 0.016747010509340444\n"
     ]
    }
   ],
   "source": [
    "import geometry.points.ImmutablePoint\n",
    "import geometry.shapes.Line\n",
    "\n",
    "def main():\n",
    "\tpoint_1 = geometry.points.ImmutablePoint.ImmutablePoint(x=54.083336, y=12.108811)\n",
    "\tpoint_2 = geometry.points.ImmutablePoint.ImmutablePoint(y=12.094167, x=54.075211)\n",
    "\tlinie_1 = geometry.shapes.Line.Line(start=point_1, end=point_2)\n",
    "\tprint(f\"Die Länge der Linie zwischen Punkt 1 und 2 ist: {linie_1.length()}\")\n",
    "\n",
    "if __name__ == \"__main__\":\n",
    "\tmain()"
   ]
  },
  {
   "cell_type": "markdown",
   "metadata": {},
   "source": [
    "Der Nachteil des Imports ganzer Pakete ist, dass wenn wir hieraus einzelne Klassen referenzieren wollen, die sich in Untermodulen befinden, so müssen wir den kompletten Pfad der Klasse angeben. In dem Beispiel oben zum Beispiel `geometry.points.ImmutablePoint.ImmutablePoint`."
   ]
  },
  {
   "cell_type": "markdown",
   "metadata": {},
   "source": [
    "Deshalb importiert man meist einzelne Module indem man den Pfad eines Moduls angibt, wie zum Beispiel `geometry.points.ImmutablePoint.ImmutablePoint`. Hierbei kann man den importierten Modulen auch neue Namen geben wie `point` oder `line` in dem Beispiel unten."
   ]
  },
  {
   "cell_type": "code",
   "execution_count": 4,
   "metadata": {},
   "outputs": [
    {
     "name": "stdout",
     "output_type": "stream",
     "text": [
      "Die Länge der Linie zwischen Punkt 1 und 2 ist: 0.016747010509340444\n"
     ]
    }
   ],
   "source": [
    "import geometry.points.ImmutablePoint as point\n",
    "import geometry.shapes.Line as line\n",
    "\n",
    "def main():\n",
    "\tpoint_1 = point.ImmutablePoint(x=54.083336, y=12.108811)\n",
    "\tpoint_2 = point.ImmutablePoint(y=12.094167, x=54.075211)\n",
    "\tlinie_1 = line.Line(start=point_1, end=point_2)\n",
    "\tprint(f\"Die Länge der Linie zwischen Punkt 1 und 2 ist: {linie_1.length()}\")\n",
    "\n",
    "if __name__ == \"__main__\":\n",
    "\tmain()"
   ]
  },
  {
   "cell_type": "markdown",
   "metadata": {},
   "source": [
    "Alternativ lassen sich auch Teile eines Moduls mit dem Platzhalter `*` und dem Befehl `from` importieren. Alle Elemente werden mit dem Platzhalter `*` importiert. Spezifische Elemente wie einzelne Klassen können auch direkt angegeben werden, wie im folgenden Beispiel `Line`."
   ]
  },
  {
   "cell_type": "code",
   "execution_count": 5,
   "metadata": {},
   "outputs": [
    {
     "name": "stdout",
     "output_type": "stream",
     "text": [
      "Die Länge der Linie zwischen Punkt 1 und 2 ist: 0.016747010509340444\n"
     ]
    }
   ],
   "source": [
    "from geometry.points.ImmutablePoint import *\n",
    "from geometry.shapes.Line import Line\n",
    "\n",
    "def main():\n",
    "\tpoint_1 = ImmutablePoint(x=54.083336, y=12.108811)\n",
    "\tpoint_2 = ImmutablePoint(y=12.094167, x=54.075211)\n",
    "\tlinie_1 = Line(start=point_1, end=point_2)\n",
    "\tprint(f\"Die Länge der Linie zwischen Punkt 1 und 2 ist: {linie_1.length()}\")\n",
    "\n",
    "if __name__ == \"__main__\":\n",
    "\tmain()"
   ]
  },
  {
   "cell_type": "markdown",
   "metadata": {},
   "source": [
    "## Standard Paktete aus Python importieren"
   ]
  },
  {
   "cell_type": "markdown",
   "metadata": {},
   "source": [
    "Python beinhaltet viele [Standardpakete](https://python.readthedocs.io/en/latest/library/index.html) für typische Aufgaben. Für die Bau- und Umweltinformatik sind die folgenden am sinnvollsten:"
   ]
  },
  {
   "cell_type": "markdown",
   "metadata": {},
   "source": [
    "| packet |   description |\n",
    "| ------ | ------------- |\n",
    "| collections | Mehr komplexe Datentypen zum zählen, sortieren     |\n",
    "| http   | Funktionen des HTTP-Internetprotokolls wie Web-Server   |\n",
    "| json   | Funktionen um Objekte als Text abzuspeichern            |\n",
    "| logging| Funktionen um Logs zu schreiben                         |\n",
    "| math   | Mathematische Funktionen                                |\n",
    "| os     | Funktionen um Dateien zu finden, laden und speichern     |\n",
    "| pickle | Funktionen um Objekte binär abzuspeichern               |\n",
    "| pprint | print-Funktionen um Objekte schöner (pretty) auszugeben |\n",
    "| random | Funktionen zum Erzeugen von Zufallszahlen               |\n",
    "| re     | Funktionen für Reguläre Ausdrücke um Text zu suchen     |\n",
    "| sys    | Funktionen um Systeminformationen zu erhalten           |\n",
    "| time   | Funktionen für Zeit und Datumsangaben                   |\n",
    "| timeit | Funktionen um die Performance von Funktionen zu testen  |\n",
    "|traceback| Funktionen um den Stack aufzulisten                    |\n",
    "| urllib | Funktionen um ULRs im Internet zu laden und verarbeiten |"
   ]
  },
  {
   "cell_type": "markdown",
   "metadata": {},
   "source": [
    "Von der Liste haben wir die Bibliotheken `math`, `time`, `timeit`, `traceback` und `logging` schon kennen gelernt und benutzt. Die anderen Pakete bieten allerdings weitere sinnvolle Funktionen.\n",
    "\n",
    " Wollen wir zum Beispiel alle Dateien in einem Verzeichnis auflisten, so nutzen wir das Paket `os`."
   ]
  },
  {
   "cell_type": "code",
   "execution_count": 6,
   "metadata": {},
   "outputs": [
    {
     "name": "stdout",
     "output_type": "stream",
     "text": [
      "geometry/shapes/Line.py\n",
      "geometry/shapes/Pentagon.py\n",
      "geometry/shapes/Polygon.py\n",
      "geometry/shapes/Tetragon.py\n",
      "geometry/shapes/Triangle.py\n"
     ]
    }
   ],
   "source": [
    "import os\n",
    "folder = \"geometry/shapes/\"\n",
    "for count, filename in enumerate(os.listdir(folder)):\n",
    "\tif os.path.isfile(os.path.join(folder, filename)):\n",
    "\t\tpath = os.path.join(folder, filename)\n",
    "\t\tprint(path)"
   ]
  },
  {
   "cell_type": "markdown",
   "metadata": {},
   "source": [
    "Viele Webseiten bieten Programmierschnittstellen an, so genannte APIs, da diese APIs auch von den eigenen Webseiten genutzt werden, um Daten nachzuladen, die auf der Webseite angezeigt werden. Die APIs nutzen meist das JSON-Format um Daten auszutauschen. Dies ist ein Text-basiertes Dateiformat, das in Python sehr stark dem `dict`-Datentyp ähnelt, aber auch alle anderen primitiven und zusammengesetzten Datentypen von Python unterstützt. \n",
    "\n",
    "Wir möchten zum Beispiel die Wetterdaten einer Wetterstation in Deutschland analysieren. Diese Daten bekommen wir beim [Deutschen Wetterdiest](https://www.dwd.de). Diese Daten kann man sich auch von der [API](https://dwd.api.bund.dev/) herunterladen. Hierfür braucht man die ID (Identifikationsnummer) einer Wetterstation welche [hier](https://www.dwd.de/DE/leistungen/klimadatendeutschland/statliste/statlex_html.html?view=nasPublication&nn=16102) zu finden ist. Wir nehmen als Beispiel eine Station im Hansaviertel in Rostock mit der ID `12495`.\n",
    "\n",
    "Dann kann man die Wetterdaten mit Python mit Hilfe des Paketes `urllib` von der API laden. Das JSON-Format können wir mit dem `json` Paket verarbeiten. Wir laden dazu zuerst vom Deutschen Wetterdienst ein binäres Datenpaket vom Datentype `bytes`. Dieses konvertieren wir mit der Funktion `loads` aus dem `json` Paket in ein Python `dict`. Um das schöner lesbar auszugeben, nutzen wir die Funktion `pprint` aus dem Paket `pprint` (pretty-print)."
   ]
  },
  {
   "cell_type": "code",
   "execution_count": 7,
   "metadata": {
    "tags": [
     "output_scroll"
    ]
   },
   "outputs": [
    {
     "name": "stdout",
     "output_type": "stream",
     "text": [
      "{ '12495': { 'days': [ { 'dayDate': '2022-12-12',\n",
      "                         'icon': 14,\n",
      "                         'icon1': None,\n",
      "                         'icon2': None,\n",
      "                         'moonPhase': 5,\n",
      "                         'moonrise': 1670868029000,\n",
      "                         'moonset': 1670839150000,\n",
      "                         'precipitation': 23,\n",
      "                         'stationId': None,\n",
      "                         'sunrise': 1670826325000,\n",
      "                         'sunset': 1670854976000,\n",
      "                         'sunshine': 0,\n",
      "                         'temperatureMax': -12,\n",
      "                         'temperatureMin': -49,\n",
      "                         'windDirection': 2500,\n",
      "                         'windGust': 333,\n",
      "                         'windSpeed': 148},\n",
      "                       { 'dayDate': '2022-12-13',\n",
      "                         'icon': 22,\n",
      "                         'icon1': None,\n",
      "                         'icon2': None,\n",
      "                         'moonPhase': 5,\n",
      "                         'moonrise': 1670958722000,\n",
      "                         'moonset': 1670926892000,\n",
      "                         'precipitation': 18,\n",
      "                         'stationId': None,\n",
      "                         'sunrise': 1670912782000,\n",
      "                         'sunset': 1670941377000,\n",
      "                         'sunshine': 600,\n",
      "                         'temperatureMax': -13,\n",
      "                         'temperatureMin': -65,\n",
      "                         'windDirection': 2610,\n",
      "                         'windGust': 333,\n",
      "                         'windSpeed': 167},\n",
      "                       { 'dayDate': '2022-12-14',\n",
      "                         'icon': 14,\n",
      "                         'icon1': None,\n",
      "                         'icon2': None,\n",
      "                         'moonPhase': 5,\n",
      "                         'moonrise': 1671049428000,\n",
      "                         'moonset': 1671014328000,\n",
      "                         'precipitation': 24,\n",
      "                         'stationId': None,\n",
      "                         'sunrise': 1670999236000,\n",
      "                         'sunset': 1671027781000,\n",
      "                         'sunshine': 840,\n",
      "                         'temperatureMax': -40,\n",
      "                         'temperatureMin': -100,\n",
      "                         'windDirection': 1400,\n",
      "                         'windGust': 352,\n",
      "                         'windSpeed': 130},\n",
      "                       { 'dayDate': '2022-12-15',\n",
      "                         'icon': 14,\n",
      "                         'icon1': None,\n",
      "                         'icon2': None,\n",
      "                         'moonPhase': 5,\n",
      "                         'moonrise': 1671140123000,\n",
      "                         'moonset': 1671101572000,\n",
      "                         'precipitation': 12,\n",
      "                         'stationId': None,\n",
      "                         'sunrise': 1671085688000,\n",
      "                         'sunset': 1671114188000,\n",
      "                         'sunshine': 1020,\n",
      "                         'temperatureMax': -17,\n",
      "                         'temperatureMin': -38,\n",
      "                         'windDirection': 2660,\n",
      "                         'windGust': 259,\n",
      "                         'windSpeed': 93},\n",
      "                       { 'dayDate': '2022-12-16',\n",
      "                         'icon': 14,\n",
      "                         'icon1': None,\n",
      "                         'icon2': None,\n",
      "                         'moonPhase': 6,\n",
      "                         'moonrise': 1671230852000,\n",
      "                         'moonset': 1671188717000,\n",
      "                         'precipitation': 87,\n",
      "                         'stationId': None,\n",
      "                         'sunrise': 1671172137000,\n",
      "                         'sunset': 1671200598000,\n",
      "                         'sunshine': 0,\n",
      "                         'temperatureMax': -10,\n",
      "                         'temperatureMin': -30,\n",
      "                         'windDirection': 270,\n",
      "                         'windGust': 278,\n",
      "                         'windSpeed': 130},\n",
      "                       { 'dayDate': '2022-12-17',\n",
      "                         'icon': 14,\n",
      "                         'icon1': None,\n",
      "                         'icon2': None,\n",
      "                         'moonPhase': 6,\n",
      "                         'moonrise': 1671321697000,\n",
      "                         'moonset': 1671275838000,\n",
      "                         'precipitation': 20,\n",
      "                         'stationId': None,\n",
      "                         'sunrise': 1671258582000,\n",
      "                         'sunset': 1671287012000,\n",
      "                         'sunshine': 0,\n",
      "                         'temperatureMax': -30,\n",
      "                         'temperatureMin': -63,\n",
      "                         'windDirection': 3250,\n",
      "                         'windGust': 352,\n",
      "                         'windSpeed': 167},\n",
      "                       { 'dayDate': '2022-12-18',\n",
      "                         'icon': 4,\n",
      "                         'icon1': None,\n",
      "                         'icon2': None,\n",
      "                         'moonPhase': 6,\n",
      "                         'moonrise': 1671321697000,\n",
      "                         'moonset': 1671362993000,\n",
      "                         'precipitation': 0,\n",
      "                         'stationId': None,\n",
      "                         'sunrise': 1671345025000,\n",
      "                         'sunset': 1671373430000,\n",
      "                         'sunshine': 0,\n",
      "                         'temperatureMax': -40,\n",
      "                         'temperatureMin': -64,\n",
      "                         'windDirection': 2740,\n",
      "                         'windGust': 222,\n",
      "                         'windSpeed': 93},\n",
      "                       { 'dayDate': '2022-12-19',\n",
      "                         'icon': 3,\n",
      "                         'icon1': None,\n",
      "                         'icon2': None,\n",
      "                         'moonPhase': 6,\n",
      "                         'moonrise': 1671412775000,\n",
      "                         'moonset': 1671450258000,\n",
      "                         'precipitation': 0,\n",
      "                         'stationId': None,\n",
      "                         'sunrise': 1671431465000,\n",
      "                         'sunset': 1671459851000,\n",
      "                         'sunshine': 1800,\n",
      "                         'temperatureMax': -33,\n",
      "                         'temperatureMin': -62,\n",
      "                         'windDirection': 1660,\n",
      "                         'windGust': 241,\n",
      "                         'windSpeed': 93},\n",
      "                       { 'dayDate': '2022-12-20',\n",
      "                         'icon': 4,\n",
      "                         'icon1': None,\n",
      "                         'icon2': None,\n",
      "                         'moonPhase': 7,\n",
      "                         'moonrise': 1671504145000,\n",
      "                         'moonset': 1671537743000,\n",
      "                         'precipitation': 0,\n",
      "                         'stationId': None,\n",
      "                         'sunrise': 1671517901000,\n",
      "                         'sunset': 1671546275000,\n",
      "                         'sunshine': 1080,\n",
      "                         'temperatureMax': -14,\n",
      "                         'temperatureMin': -46,\n",
      "                         'windDirection': 1960,\n",
      "                         'windGust': 315,\n",
      "                         'windSpeed': 130},\n",
      "                       { 'dayDate': '2022-12-21',\n",
      "                         'icon': 4,\n",
      "                         'icon1': None,\n",
      "                         'icon2': None,\n",
      "                         'moonPhase': 7,\n",
      "                         'moonrise': 1671595801000,\n",
      "                         'moonset': 1671625649000,\n",
      "                         'precipitation': 0,\n",
      "                         'stationId': None,\n",
      "                         'sunrise': 1671604335000,\n",
      "                         'sunset': 1671632702000,\n",
      "                         'sunshine': 0,\n",
      "                         'temperatureMax': 4,\n",
      "                         'temperatureMin': -26,\n",
      "                         'windDirection': 2470,\n",
      "                         'windGust': 296,\n",
      "                         'windSpeed': 130}],\n",
      "             'forecast1': { 'dewPoint2m': [ -38, -32, -30, -29, -27, -26, -25,\n",
      "                                            -24, -24, -24, -25, -26, -27, -28,\n",
      "                                            -29, -31, -34, -34, -36, -38, -42,\n",
      "                                            -44, -45, -45, -45, -48, -48, -53,\n",
      "                                            -58, -62, -67, -70, -71, -74, -78,\n",
      "                                            -80, -83, -88, -89, -92, -99, -104,\n",
      "                                            -106, -108, -105, -102, -91, -86,\n",
      "                                            -82, -76, -76, -75, -73, -74, -73,\n",
      "                                            -74, -64, -62, -57, -54, -51],\n",
      "                            'humidity': [ 914, 935, 935, 942, 950, 957, 950,\n",
      "                                          943, 929, 922, 909, 915, 908, 895,\n",
      "                                          889, 888, 862, 875, 869, 875, 855,\n",
      "                                          842, 842, 836, 836, 830, 848, 854,\n",
      "                                          853, 853, 846, 852, 865, 865, 864,\n",
      "                                          877, 870, 904, 911, 925, 939, 910,\n",
      "                                          931, 939, 946, 882, 890, 857, 831,\n",
      "                                          838, 826, 845, 891, 871, 865, 851,\n",
      "                                          892, 899, 906, 913, 920],\n",
      "                            'icon': [ 15, 32767, 32767, 32767, 32767, 32767, 14,\n",
      "                                      32767, 32767, 32767, 32767, 32767, 14, 14,\n",
      "                                      14, 14, 14, 14, 14, 14, 14, 14, 14, 14,\n",
      "                                      14, 14, 14, 22, 22, 4, 22, 22, 14, 14, 14,\n",
      "                                      14, 14, 14, 14, 14, 22, 22, 14, 22, 4, 4,\n",
      "                                      4, 4, 4, 4, 3, 3, 3, 3, 3, 3, 3, 3, 3, 3,\n",
      "                                      3, 3, 3, 3, 3, 4, 14, 14, 14, 14, 14, 14,\n",
      "                                      14],\n",
      "                            'isDay': [ False, False, False, False, False, False,\n",
      "                                       False, False, False, False, False, False,\n",
      "                                       True, True, True, True, False, False,\n",
      "                                       False, False, False, False, False, False,\n",
      "                                       False, False, False, False, False, False,\n",
      "                                       False, False, True, True, True, True,\n",
      "                                       True, True, True, True, False, False,\n",
      "                                       False, False, False, False, False, False,\n",
      "                                       False, False, False, False, False, False,\n",
      "                                       False, False, True, True, True, True,\n",
      "                                       True, True, True, True, False, False,\n",
      "                                       False, False, False, False, False, False,\n",
      "                                       False],\n",
      "                            'precipitationProbablity': None,\n",
      "                            'precipitationProbablityIndex': None,\n",
      "                            'precipitationTotal': [ 32767, 32767, 32767, 32767,\n",
      "                                                    32767, 32767, 32767, 32767,\n",
      "                                                    32767, 32767, 32767, 32767,\n",
      "                                                    3, 6, 2, 3, 3, 3, 3, 2, 1,\n",
      "                                                    1, 1, 3, 1, 1, 1, 1, 1, 0,\n",
      "                                                    1, 1, 1, 1, 1, 1, 1, 1, 1,\n",
      "                                                    1, 1, 1, 1, 1, 0, 0, 0, 0,\n",
      "                                                    0, 0, 0, 0, 0, 0, 0, 0, 0,\n",
      "                                                    0, 0, 0, 0, 0, 0, 0, 0, 0,\n",
      "                                                    3, 4, 4, 4, 5, 2, 2],\n",
      "                            'start': 1670799600000,\n",
      "                            'stationId': '12495',\n",
      "                            'surfacePressure': [ 10022, 10021, 10025, 10027,\n",
      "                                                 10032, 10033, 10036, 10039,\n",
      "                                                 10045, 10051, 10057, 10063,\n",
      "                                                 10068, 10074, 10078, 10083,\n",
      "                                                 10087, 10091, 10097, 10101,\n",
      "                                                 10108, 10114, 10117, 10120,\n",
      "                                                 10121, 10124, 10127, 10131,\n",
      "                                                 10135, 10139, 10143, 10146,\n",
      "                                                 10151, 10152, 10153, 10155,\n",
      "                                                 10157, 10157, 10157, 10155,\n",
      "                                                 10156, 10153, 10151, 10148,\n",
      "                                                 10147, 10142, 10138, 10132,\n",
      "                                                 10124, 10118, 10108, 10100,\n",
      "                                                 10094, 10085, 10077, 10069,\n",
      "                                                 10060, 10051, 10047, 10043,\n",
      "                                                 10037],\n",
      "                            'temperature': [ 32767, -47, 32767, 32767, 32767,\n",
      "                                             32767, 32767, -49, 32767, 32767,\n",
      "                                             32767, 32767, 32767, -26, -23, -21,\n",
      "                                             -21, -20, -20, -18, -16, -14, -13,\n",
      "                                             -12, -14, -14, -13, -13, -15, -14,\n",
      "                                             -16, -17, -20, -21, -21, -22, -21,\n",
      "                                             -21, -23, -26, -32, -37, -41, -45,\n",
      "                                             -49, -52, -55, -59, -63, -65, -75,\n",
      "                                             -77, -82, -91, -92, -97, -100, -98,\n",
      "                                             -86, -76, -66, -58, -53, -51, -53,\n",
      "                                             -58, -56, -54, -53, -49, -48, -44,\n",
      "                                             -42, -40, -38, -36, -33, -32, -30,\n",
      "                                             -31, -31, -28, -27, -23, -19, -17,\n",
      "                                             -17, -18, -21, -25, -27, -30, -29,\n",
      "                                             -31, -32, -30, -32, -30, -30, -27,\n",
      "                                             -26, -23, -24, -24, -18, -17, -16,\n",
      "                                             -16, -13, -12, -10, -10, -12, -14,\n",
      "                                             -16, -14, -16, -17, -21, -22, -24,\n",
      "                                             -26, -30, -31, -33, -37, -39, -40,\n",
      "                                             -44, -41, -38, -38, -36, -35, -33,\n",
      "                                             -34, -39, -44, -47, -48, -51, -52,\n",
      "                                             -59, -60, -61, -63, -64, -64, -63,\n",
      "                                             -60, -59, -57, -55, -54, -50, -50,\n",
      "                                             -46, -43, -42, -40, -42, -42, -44,\n",
      "                                             -47, -48, -50, -50, -53, -55, -56,\n",
      "                                             -59, -61, -61, -62, -62, -62, -60,\n",
      "                                             -58, -56, -43, -39, -38, -35, -33,\n",
      "                                             -35, -37, -40, -43, -44, -46, -46,\n",
      "                                             -46, -47, -47, -46, -45, -45, -45,\n",
      "                                             -46, -46, -45, -42, -38, -29, -24,\n",
      "                                             -19, -14, -15, -16, -18, -20, -21,\n",
      "                                             -17, -19, -21, -23, -24, -25, -26,\n",
      "                                             -24, -24, -24, -24, -24, -20, -16,\n",
      "                                             -13, -7, 0, 4, 3, 3, 2, -3, -5, -7,\n",
      "                                             -8, -12, -13, -15, -18, -19],\n",
      "                            'temperatureStd': [ 0, 0, 0, 0, 0, 0, 0, 0, 0, 0, 0,\n",
      "                                                0, 0, 9, 9, 9, 9, 9, 11, 10, 9,\n",
      "                                                9, 9, 9, 9, 9, 9, 9, 9, 9, 9, 9,\n",
      "                                                9, 9, 9, 9, 9, 9, 9, 9, 9, 9,\n",
      "                                                11, 12, 14, 15, 15, 15, 16, 16,\n",
      "                                                16, 17, 17, 17, 17, 18, 19, 20,\n",
      "                                                17, 15, 15, 14, 15, 14, 14, 12,\n",
      "                                                15, 15, 16, 16, 16, 15, 14, 15,\n",
      "                                                15, 15, 15, 15, 15, 15, 15, 16,\n",
      "                                                16, 15, 15, 15, 15, 14, 13, 13,\n",
      "                                                14, 16, 17, 18, 19, 19, 18, 18,\n",
      "                                                20, 20, 20, 20, 21, 21, 20, 21,\n",
      "                                                20, 20, 21, 20, 20, 18, 18, 18,\n",
      "                                                18, 19, 19, 20, 20, 21, 20, 21,\n",
      "                                                20, 22, 21, 22, 21, 21, 19, 21,\n",
      "                                                19, 16, 17, 15, 15, 15, 14, 15,\n",
      "                                                16, 18, 19, 19, 20, 20, 20, 21,\n",
      "                                                21, 21, 20, 20, 23, 23, 23, 23,\n",
      "                                                22, 18, 19, 18, 19, 18, 19, 19,\n",
      "                                                20, 20, 21, 22, 21, 22, 22, 22,\n",
      "                                                22, 23, 23, 23, 23, 23, 23, 23,\n",
      "                                                23, 22, 22, 22, 23, 23, 23, 24,\n",
      "                                                24, 25, 25, 25, 25, 25, 26, 26,\n",
      "                                                26, 26, 27, 27, 27, 27, 28, 28,\n",
      "                                                27, 26, 24, 25, 25, 25, 25, 25,\n",
      "                                                25, 26, 25, 25, 25, 25, 25, 26,\n",
      "                                                25, 25, 25, 25, 25, 25, 25, 25,\n",
      "                                                24, 23, 22, 21, 21, 21, 21, 21,\n",
      "                                                22, 22, 22, 22, 22, 22, 23,\n",
      "                                                23],\n",
      "                            'timeStep': 3600000,\n",
      "                            'windDirection': None,\n",
      "                            'windGust': None,\n",
      "                            'windSpeed': None},\n",
      "             'forecast2': { 'dewPoint2m': [ -43, -39, -40, -37, -44, -47, -46,\n",
      "                                            -44, -29, -27, -16, -16, -21, -30,\n",
      "                                            -34, -35, -45, -51, -51, -50, -50,\n",
      "                                            -53, -59, -71, -74, -74, -67, -59,\n",
      "                                            -56, -57, -58, -60, -63, -65, -64,\n",
      "                                            -59, -53, -58, -60, -59, -59, -59,\n",
      "                                            -53, -39, -42, -43, -45, -46, -43,\n",
      "                                            -43, -37, -26, -28, -24, -27, -26],\n",
      "                            'humidity': [ 928, 942, 908, 862, 842, 880, 900,\n",
      "                                          901, 978, 978, 1000, 971, 936, 888,\n",
      "                                          908, 935, 914, 920, 907, 893, 920,\n",
      "                                          963, 1000, 940, 919, 878, 878, 886,\n",
      "                                          900, 927, 941, 970, 985, 977, 941,\n",
      "                                          853, 873, 893, 899, 913, 899, 906,\n",
      "                                          893, 862, 824, 849, 836, 855, 868,\n",
      "                                          868, 837, 803, 802, 883, 902, 950],\n",
      "                            'icon': [ 14, 14, 14, 4, 3, 3, 4, 4, 14, 14, 14, 14,\n",
      "                                      14, 14, 14, 14, 14, 14, 14, 14, 14, 14,\n",
      "                                      14, 4, 4, 4, 4, 4, 4, 4, 4, 4, 4, 4, 4, 3,\n",
      "                                      3, 3, 3, 3, 3, 4, 4, 4, 3, 3, 4, 4, 4, 4,\n",
      "                                      4, 4, 4, 4, 4, 4],\n",
      "                            'isDay': [ False, False, True, True, True, False,\n",
      "                                       False, False, False, False, True, True,\n",
      "                                       True, False, False, False, False, False,\n",
      "                                       True, True, True, False, False, False,\n",
      "                                       False, False, False, True, True, False,\n",
      "                                       False, False, False, False, False, True,\n",
      "                                       True, False, False, False, False, False,\n",
      "                                       False, True, True, False, False, False,\n",
      "                                       False, False, False, True, True, False,\n",
      "                                       False, False],\n",
      "                            'precipitationProbablity': None,\n",
      "                            'precipitationProbablityIndex': None,\n",
      "                            'precipitationTotal': [ 6, 3, 3, 0, 0, 0, 0, 0, 3,\n",
      "                                                    22, 21, 16, 13, 6, 3, 3, 3,\n",
      "                                                    3, 3, 3, 3, 3, 2, 0, 0, 0,\n",
      "                                                    0, 0, 0, 0, 0, 0, 0, 0, 0,\n",
      "                                                    0, 0, 0, 0, 0, 0, 0, 0, 0,\n",
      "                                                    0, 0, 0, 0, 0, 0, 0, 0, 0,\n",
      "                                                    0, 0, 0],\n",
      "                            'start': 1671058800000,\n",
      "                            'stationId': '12495',\n",
      "                            'surfacePressure': [ 10040, 10048, 10077, 10098,\n",
      "                                                 10106, 10114, 10116, 10120,\n",
      "                                                 10094, 10089, 10091, 10088,\n",
      "                                                 10089, 10104, 10126, 10146,\n",
      "                                                 10167, 10183, 10200, 10224,\n",
      "                                                 10240, 10254, 10283, 10301,\n",
      "                                                 10309, 10317, 10327, 10326,\n",
      "                                                 10325, 10328, 10321, 10327,\n",
      "                                                 10324, 10330, 10327, 10321,\n",
      "                                                 10316, 10323, 10314, 10308,\n",
      "                                                 10294, 10292, 10284, 10280,\n",
      "                                                 10271, 10275, 10271, 10262,\n",
      "                                                 10248, 10250, 10247, 10238,\n",
      "                                                 10231, 10228, 10222, 10219],\n",
      "                            'temperature': [],\n",
      "                            'temperatureStd': [],\n",
      "                            'timeStep': 10800000,\n",
      "                            'windDirection': None,\n",
      "                            'windGust': None,\n",
      "                            'windSpeed': None},\n",
      "             'forecastStart': None,\n",
      "             'threeHourSummaries': None,\n",
      "             'warnings': []}}\n"
     ]
    }
   ],
   "source": [
    "import urllib.request\n",
    "import json\n",
    "import pprint\n",
    "\n",
    "stationID='12495' # Rostock-Hansaviertel\n",
    "with urllib.request.urlopen(f'https://dwd.api.proxy.bund.dev/v30/stationOverviewExtended?stationIds={stationID}') as f:\n",
    "    data=f.read() # Dies gibt uns ein binären Datentyp zurück\n",
    "    wetter=json.loads(data) # Wir konvertieren den binären Datentyp in ein dict\n",
    "    pprint.pprint(wetter, indent=2, compact=True)"
   ]
  },
  {
   "cell_type": "markdown",
   "metadata": {},
   "source": [
    "<!-- Einen eigenen Webserver können wir mit dem Paket `http.server` starten.\n",
    "\n",
    "import http.server as server\n",
    "\n",
    "server_object = server.HTTPServer(server_address=('', 80), \tRequestHandlerClass=server.CGIHTTPRequestHandler)\n",
    "\n",
    "server_object.serve_forever()\n",
    "\n",
    "-->"
   ]
  },
  {
   "cell_type": "markdown",
   "metadata": {},
   "source": [
    "## Externe Pakete installieren und importieren"
   ]
  },
  {
   "cell_type": "markdown",
   "metadata": {},
   "source": [
    "Die Stärke von Python ist allerdings die riesige Auswahl an vorhandenen Paketen. Für die meisten Anwendungszwecke gibt es entsprechende Python Packages. Ein solches Verzeichnis is [PyPi](https://pypi.org/) das über 400.000 Pakete listet."
   ]
  },
  {
   "cell_type": "markdown",
   "metadata": {},
   "source": [
    "Die Installation neuer Pakete für Python ist einfach. Hierfür öffnet man ein Terminal (Kommandozeile) und gibt den Befehl `pip install <packetname>` ein. \n",
    "\n",
    "Zum Beispiel wollen wir die eben geladenen Wetterdaten anzeigen. Hierfür nutzen wir:\n",
    "- zuerst das Paket `pandas` zum Erzeugen einer Tabelle aus den Wetterdaten. \n",
    "- dann nutzen wir das Paket `plotly` zum Zeichnen eines Diagramms. \n",
    "- zuletzt erzeugen wir uns einen Webserver mit `dash` der uns das Diagramm immer anzeigt\n",
    "\n",
    "Alles drei installieren wir mit `pip`. Wir können das in einem Aufruf machen. Wir nutzen den `--quiet` Switch, um die Ausgabe zu reduzieren."
   ]
  },
  {
   "cell_type": "code",
   "execution_count": 8,
   "metadata": {},
   "outputs": [
    {
     "name": "stdout",
     "output_type": "stream",
     "text": [
      "Note: you may need to restart the kernel to use updated packages.\n"
     ]
    }
   ],
   "source": [
    "pip install pandas plotly dash  --quiet"
   ]
  },
  {
   "cell_type": "markdown",
   "metadata": {},
   "source": [
    "Jetzt laden wir beide Pakete, wobei man üblicher Weise `pandas` die Abkürzung `pd` zuweist und Plotly Express, welches einfach zu bedienen ist, die Abkürzung `px`."
   ]
  },
  {
   "cell_type": "code",
   "execution_count": 9,
   "metadata": {},
   "outputs": [],
   "source": [
    "import pandas as pd\n",
    "import plotly.express as px\n",
    "import dash"
   ]
  },
  {
   "cell_type": "markdown",
   "metadata": {},
   "source": [
    "Nun wandeln wir die tageweise Wettervorhersage `days` der Daten von der Wetterstation mit der `stationID` zuerst in eine Tabelle um, da diese von Plotly express verarbeitet werden kann. Tabellen heißen in Pandas DataFrames (allgemein werden so Tabellen in der Data Science genannt). Wir erzeugen also aus der Wettervorhersage ein neue Objektinstanz vom Typ `DataFrame` via"
   ]
  },
  {
   "cell_type": "code",
   "execution_count": 10,
   "metadata": {},
   "outputs": [
    {
     "data": {
      "text/html": [
       "<div>\n",
       "<style scoped>\n",
       "    .dataframe tbody tr th:only-of-type {\n",
       "        vertical-align: middle;\n",
       "    }\n",
       "\n",
       "    .dataframe tbody tr th {\n",
       "        vertical-align: top;\n",
       "    }\n",
       "\n",
       "    .dataframe thead th {\n",
       "        text-align: right;\n",
       "    }\n",
       "</style>\n",
       "<table border=\"1\" class=\"dataframe\">\n",
       "  <thead>\n",
       "    <tr style=\"text-align: right;\">\n",
       "      <th></th>\n",
       "      <th>stationId</th>\n",
       "      <th>dayDate</th>\n",
       "      <th>temperatureMin</th>\n",
       "      <th>temperatureMax</th>\n",
       "      <th>icon</th>\n",
       "      <th>icon1</th>\n",
       "      <th>icon2</th>\n",
       "      <th>precipitation</th>\n",
       "      <th>windSpeed</th>\n",
       "      <th>windGust</th>\n",
       "      <th>windDirection</th>\n",
       "      <th>sunshine</th>\n",
       "      <th>sunrise</th>\n",
       "      <th>sunset</th>\n",
       "      <th>moonrise</th>\n",
       "      <th>moonset</th>\n",
       "      <th>moonPhase</th>\n",
       "    </tr>\n",
       "  </thead>\n",
       "  <tbody>\n",
       "    <tr>\n",
       "      <th>0</th>\n",
       "      <td>None</td>\n",
       "      <td>2022-12-12</td>\n",
       "      <td>-49</td>\n",
       "      <td>-12</td>\n",
       "      <td>14</td>\n",
       "      <td>None</td>\n",
       "      <td>None</td>\n",
       "      <td>23</td>\n",
       "      <td>148</td>\n",
       "      <td>333</td>\n",
       "      <td>2500</td>\n",
       "      <td>0</td>\n",
       "      <td>1670826325000</td>\n",
       "      <td>1670854976000</td>\n",
       "      <td>1670868029000</td>\n",
       "      <td>1670839150000</td>\n",
       "      <td>5</td>\n",
       "    </tr>\n",
       "    <tr>\n",
       "      <th>1</th>\n",
       "      <td>None</td>\n",
       "      <td>2022-12-13</td>\n",
       "      <td>-65</td>\n",
       "      <td>-13</td>\n",
       "      <td>22</td>\n",
       "      <td>None</td>\n",
       "      <td>None</td>\n",
       "      <td>18</td>\n",
       "      <td>167</td>\n",
       "      <td>333</td>\n",
       "      <td>2610</td>\n",
       "      <td>600</td>\n",
       "      <td>1670912782000</td>\n",
       "      <td>1670941377000</td>\n",
       "      <td>1670958722000</td>\n",
       "      <td>1670926892000</td>\n",
       "      <td>5</td>\n",
       "    </tr>\n",
       "    <tr>\n",
       "      <th>2</th>\n",
       "      <td>None</td>\n",
       "      <td>2022-12-14</td>\n",
       "      <td>-100</td>\n",
       "      <td>-40</td>\n",
       "      <td>14</td>\n",
       "      <td>None</td>\n",
       "      <td>None</td>\n",
       "      <td>24</td>\n",
       "      <td>130</td>\n",
       "      <td>352</td>\n",
       "      <td>1400</td>\n",
       "      <td>840</td>\n",
       "      <td>1670999236000</td>\n",
       "      <td>1671027781000</td>\n",
       "      <td>1671049428000</td>\n",
       "      <td>1671014328000</td>\n",
       "      <td>5</td>\n",
       "    </tr>\n",
       "    <tr>\n",
       "      <th>3</th>\n",
       "      <td>None</td>\n",
       "      <td>2022-12-15</td>\n",
       "      <td>-38</td>\n",
       "      <td>-17</td>\n",
       "      <td>14</td>\n",
       "      <td>None</td>\n",
       "      <td>None</td>\n",
       "      <td>12</td>\n",
       "      <td>93</td>\n",
       "      <td>259</td>\n",
       "      <td>2660</td>\n",
       "      <td>1020</td>\n",
       "      <td>1671085688000</td>\n",
       "      <td>1671114188000</td>\n",
       "      <td>1671140123000</td>\n",
       "      <td>1671101572000</td>\n",
       "      <td>5</td>\n",
       "    </tr>\n",
       "    <tr>\n",
       "      <th>4</th>\n",
       "      <td>None</td>\n",
       "      <td>2022-12-16</td>\n",
       "      <td>-30</td>\n",
       "      <td>-10</td>\n",
       "      <td>14</td>\n",
       "      <td>None</td>\n",
       "      <td>None</td>\n",
       "      <td>87</td>\n",
       "      <td>130</td>\n",
       "      <td>278</td>\n",
       "      <td>270</td>\n",
       "      <td>0</td>\n",
       "      <td>1671172137000</td>\n",
       "      <td>1671200598000</td>\n",
       "      <td>1671230852000</td>\n",
       "      <td>1671188717000</td>\n",
       "      <td>6</td>\n",
       "    </tr>\n",
       "    <tr>\n",
       "      <th>5</th>\n",
       "      <td>None</td>\n",
       "      <td>2022-12-17</td>\n",
       "      <td>-63</td>\n",
       "      <td>-30</td>\n",
       "      <td>14</td>\n",
       "      <td>None</td>\n",
       "      <td>None</td>\n",
       "      <td>20</td>\n",
       "      <td>167</td>\n",
       "      <td>352</td>\n",
       "      <td>3250</td>\n",
       "      <td>0</td>\n",
       "      <td>1671258582000</td>\n",
       "      <td>1671287012000</td>\n",
       "      <td>1671321697000</td>\n",
       "      <td>1671275838000</td>\n",
       "      <td>6</td>\n",
       "    </tr>\n",
       "    <tr>\n",
       "      <th>6</th>\n",
       "      <td>None</td>\n",
       "      <td>2022-12-18</td>\n",
       "      <td>-64</td>\n",
       "      <td>-40</td>\n",
       "      <td>4</td>\n",
       "      <td>None</td>\n",
       "      <td>None</td>\n",
       "      <td>0</td>\n",
       "      <td>93</td>\n",
       "      <td>222</td>\n",
       "      <td>2740</td>\n",
       "      <td>0</td>\n",
       "      <td>1671345025000</td>\n",
       "      <td>1671373430000</td>\n",
       "      <td>1671321697000</td>\n",
       "      <td>1671362993000</td>\n",
       "      <td>6</td>\n",
       "    </tr>\n",
       "    <tr>\n",
       "      <th>7</th>\n",
       "      <td>None</td>\n",
       "      <td>2022-12-19</td>\n",
       "      <td>-62</td>\n",
       "      <td>-33</td>\n",
       "      <td>3</td>\n",
       "      <td>None</td>\n",
       "      <td>None</td>\n",
       "      <td>0</td>\n",
       "      <td>93</td>\n",
       "      <td>241</td>\n",
       "      <td>1660</td>\n",
       "      <td>1800</td>\n",
       "      <td>1671431465000</td>\n",
       "      <td>1671459851000</td>\n",
       "      <td>1671412775000</td>\n",
       "      <td>1671450258000</td>\n",
       "      <td>6</td>\n",
       "    </tr>\n",
       "    <tr>\n",
       "      <th>8</th>\n",
       "      <td>None</td>\n",
       "      <td>2022-12-20</td>\n",
       "      <td>-46</td>\n",
       "      <td>-14</td>\n",
       "      <td>4</td>\n",
       "      <td>None</td>\n",
       "      <td>None</td>\n",
       "      <td>0</td>\n",
       "      <td>130</td>\n",
       "      <td>315</td>\n",
       "      <td>1960</td>\n",
       "      <td>1080</td>\n",
       "      <td>1671517901000</td>\n",
       "      <td>1671546275000</td>\n",
       "      <td>1671504145000</td>\n",
       "      <td>1671537743000</td>\n",
       "      <td>7</td>\n",
       "    </tr>\n",
       "    <tr>\n",
       "      <th>9</th>\n",
       "      <td>None</td>\n",
       "      <td>2022-12-21</td>\n",
       "      <td>-26</td>\n",
       "      <td>4</td>\n",
       "      <td>4</td>\n",
       "      <td>None</td>\n",
       "      <td>None</td>\n",
       "      <td>0</td>\n",
       "      <td>130</td>\n",
       "      <td>296</td>\n",
       "      <td>2470</td>\n",
       "      <td>0</td>\n",
       "      <td>1671604335000</td>\n",
       "      <td>1671632702000</td>\n",
       "      <td>1671595801000</td>\n",
       "      <td>1671625649000</td>\n",
       "      <td>7</td>\n",
       "    </tr>\n",
       "  </tbody>\n",
       "</table>\n",
       "</div>"
      ],
      "text/plain": [
       "  stationId     dayDate  temperatureMin  temperatureMax  icon icon1 icon2  \\\n",
       "0      None  2022-12-12             -49             -12    14  None  None   \n",
       "1      None  2022-12-13             -65             -13    22  None  None   \n",
       "2      None  2022-12-14            -100             -40    14  None  None   \n",
       "3      None  2022-12-15             -38             -17    14  None  None   \n",
       "4      None  2022-12-16             -30             -10    14  None  None   \n",
       "5      None  2022-12-17             -63             -30    14  None  None   \n",
       "6      None  2022-12-18             -64             -40     4  None  None   \n",
       "7      None  2022-12-19             -62             -33     3  None  None   \n",
       "8      None  2022-12-20             -46             -14     4  None  None   \n",
       "9      None  2022-12-21             -26               4     4  None  None   \n",
       "\n",
       "   precipitation  windSpeed  windGust  windDirection  sunshine        sunrise  \\\n",
       "0             23        148       333           2500         0  1670826325000   \n",
       "1             18        167       333           2610       600  1670912782000   \n",
       "2             24        130       352           1400       840  1670999236000   \n",
       "3             12         93       259           2660      1020  1671085688000   \n",
       "4             87        130       278            270         0  1671172137000   \n",
       "5             20        167       352           3250         0  1671258582000   \n",
       "6              0         93       222           2740         0  1671345025000   \n",
       "7              0         93       241           1660      1800  1671431465000   \n",
       "8              0        130       315           1960      1080  1671517901000   \n",
       "9              0        130       296           2470         0  1671604335000   \n",
       "\n",
       "          sunset       moonrise        moonset  moonPhase  \n",
       "0  1670854976000  1670868029000  1670839150000          5  \n",
       "1  1670941377000  1670958722000  1670926892000          5  \n",
       "2  1671027781000  1671049428000  1671014328000          5  \n",
       "3  1671114188000  1671140123000  1671101572000          5  \n",
       "4  1671200598000  1671230852000  1671188717000          6  \n",
       "5  1671287012000  1671321697000  1671275838000          6  \n",
       "6  1671373430000  1671321697000  1671362993000          6  \n",
       "7  1671459851000  1671412775000  1671450258000          6  \n",
       "8  1671546275000  1671504145000  1671537743000          7  \n",
       "9  1671632702000  1671595801000  1671625649000          7  "
      ]
     },
     "execution_count": 10,
     "metadata": {},
     "output_type": "execute_result"
    }
   ],
   "source": [
    "df = pd.DataFrame(wetter[stationID]['days'])\n",
    "df"
   ]
  },
  {
   "cell_type": "markdown",
   "metadata": {},
   "source": [
    "Nun plotten wir die Daten `df` als LinienDiagramm mit Hilfe von Plotly wobei wir als `x`-Axe das Datum wählen (`dayDate`) und als `y`-Axe die minimale Temperatur `temperatureMin` und maximale Temperatur `temperatureMax`."
   ]
  },
  {
   "cell_type": "code",
   "execution_count": 11,
   "metadata": {},
   "outputs": [
    {
     "data": {
      "application/vnd.plotly.v1+json": {
       "config": {
        "plotlyServerURL": "https://plot.ly"
       },
       "data": [
        {
         "hovertemplate": "variable=temperatureMin<br>dayDate=%{x}<br>value=%{y}<extra></extra>",
         "legendgroup": "temperatureMin",
         "line": {
          "color": "#636efa",
          "dash": "solid"
         },
         "marker": {
          "symbol": "circle"
         },
         "mode": "lines",
         "name": "temperatureMin",
         "orientation": "v",
         "showlegend": true,
         "type": "scatter",
         "x": [
          "2022-12-12",
          "2022-12-13",
          "2022-12-14",
          "2022-12-15",
          "2022-12-16",
          "2022-12-17",
          "2022-12-18",
          "2022-12-19",
          "2022-12-20",
          "2022-12-21"
         ],
         "xaxis": "x",
         "y": [
          -49,
          -65,
          -100,
          -38,
          -30,
          -63,
          -64,
          -62,
          -46,
          -26
         ],
         "yaxis": "y"
        },
        {
         "hovertemplate": "variable=temperatureMax<br>dayDate=%{x}<br>value=%{y}<extra></extra>",
         "legendgroup": "temperatureMax",
         "line": {
          "color": "#EF553B",
          "dash": "solid"
         },
         "marker": {
          "symbol": "circle"
         },
         "mode": "lines",
         "name": "temperatureMax",
         "orientation": "v",
         "showlegend": true,
         "type": "scatter",
         "x": [
          "2022-12-12",
          "2022-12-13",
          "2022-12-14",
          "2022-12-15",
          "2022-12-16",
          "2022-12-17",
          "2022-12-18",
          "2022-12-19",
          "2022-12-20",
          "2022-12-21"
         ],
         "xaxis": "x",
         "y": [
          -12,
          -13,
          -40,
          -17,
          -10,
          -30,
          -40,
          -33,
          -14,
          4
         ],
         "yaxis": "y"
        }
       ],
       "layout": {
        "legend": {
         "title": {
          "text": "variable"
         },
         "tracegroupgap": 0
        },
        "margin": {
         "t": 60
        },
        "template": {
         "data": {
          "bar": [
           {
            "error_x": {
             "color": "#2a3f5f"
            },
            "error_y": {
             "color": "#2a3f5f"
            },
            "marker": {
             "line": {
              "color": "#E5ECF6",
              "width": 0.5
             },
             "pattern": {
              "fillmode": "overlay",
              "size": 10,
              "solidity": 0.2
             }
            },
            "type": "bar"
           }
          ],
          "barpolar": [
           {
            "marker": {
             "line": {
              "color": "#E5ECF6",
              "width": 0.5
             },
             "pattern": {
              "fillmode": "overlay",
              "size": 10,
              "solidity": 0.2
             }
            },
            "type": "barpolar"
           }
          ],
          "carpet": [
           {
            "aaxis": {
             "endlinecolor": "#2a3f5f",
             "gridcolor": "white",
             "linecolor": "white",
             "minorgridcolor": "white",
             "startlinecolor": "#2a3f5f"
            },
            "baxis": {
             "endlinecolor": "#2a3f5f",
             "gridcolor": "white",
             "linecolor": "white",
             "minorgridcolor": "white",
             "startlinecolor": "#2a3f5f"
            },
            "type": "carpet"
           }
          ],
          "choropleth": [
           {
            "colorbar": {
             "outlinewidth": 0,
             "ticks": ""
            },
            "type": "choropleth"
           }
          ],
          "contour": [
           {
            "colorbar": {
             "outlinewidth": 0,
             "ticks": ""
            },
            "colorscale": [
             [
              0,
              "#0d0887"
             ],
             [
              0.1111111111111111,
              "#46039f"
             ],
             [
              0.2222222222222222,
              "#7201a8"
             ],
             [
              0.3333333333333333,
              "#9c179e"
             ],
             [
              0.4444444444444444,
              "#bd3786"
             ],
             [
              0.5555555555555556,
              "#d8576b"
             ],
             [
              0.6666666666666666,
              "#ed7953"
             ],
             [
              0.7777777777777778,
              "#fb9f3a"
             ],
             [
              0.8888888888888888,
              "#fdca26"
             ],
             [
              1,
              "#f0f921"
             ]
            ],
            "type": "contour"
           }
          ],
          "contourcarpet": [
           {
            "colorbar": {
             "outlinewidth": 0,
             "ticks": ""
            },
            "type": "contourcarpet"
           }
          ],
          "heatmap": [
           {
            "colorbar": {
             "outlinewidth": 0,
             "ticks": ""
            },
            "colorscale": [
             [
              0,
              "#0d0887"
             ],
             [
              0.1111111111111111,
              "#46039f"
             ],
             [
              0.2222222222222222,
              "#7201a8"
             ],
             [
              0.3333333333333333,
              "#9c179e"
             ],
             [
              0.4444444444444444,
              "#bd3786"
             ],
             [
              0.5555555555555556,
              "#d8576b"
             ],
             [
              0.6666666666666666,
              "#ed7953"
             ],
             [
              0.7777777777777778,
              "#fb9f3a"
             ],
             [
              0.8888888888888888,
              "#fdca26"
             ],
             [
              1,
              "#f0f921"
             ]
            ],
            "type": "heatmap"
           }
          ],
          "heatmapgl": [
           {
            "colorbar": {
             "outlinewidth": 0,
             "ticks": ""
            },
            "colorscale": [
             [
              0,
              "#0d0887"
             ],
             [
              0.1111111111111111,
              "#46039f"
             ],
             [
              0.2222222222222222,
              "#7201a8"
             ],
             [
              0.3333333333333333,
              "#9c179e"
             ],
             [
              0.4444444444444444,
              "#bd3786"
             ],
             [
              0.5555555555555556,
              "#d8576b"
             ],
             [
              0.6666666666666666,
              "#ed7953"
             ],
             [
              0.7777777777777778,
              "#fb9f3a"
             ],
             [
              0.8888888888888888,
              "#fdca26"
             ],
             [
              1,
              "#f0f921"
             ]
            ],
            "type": "heatmapgl"
           }
          ],
          "histogram": [
           {
            "marker": {
             "pattern": {
              "fillmode": "overlay",
              "size": 10,
              "solidity": 0.2
             }
            },
            "type": "histogram"
           }
          ],
          "histogram2d": [
           {
            "colorbar": {
             "outlinewidth": 0,
             "ticks": ""
            },
            "colorscale": [
             [
              0,
              "#0d0887"
             ],
             [
              0.1111111111111111,
              "#46039f"
             ],
             [
              0.2222222222222222,
              "#7201a8"
             ],
             [
              0.3333333333333333,
              "#9c179e"
             ],
             [
              0.4444444444444444,
              "#bd3786"
             ],
             [
              0.5555555555555556,
              "#d8576b"
             ],
             [
              0.6666666666666666,
              "#ed7953"
             ],
             [
              0.7777777777777778,
              "#fb9f3a"
             ],
             [
              0.8888888888888888,
              "#fdca26"
             ],
             [
              1,
              "#f0f921"
             ]
            ],
            "type": "histogram2d"
           }
          ],
          "histogram2dcontour": [
           {
            "colorbar": {
             "outlinewidth": 0,
             "ticks": ""
            },
            "colorscale": [
             [
              0,
              "#0d0887"
             ],
             [
              0.1111111111111111,
              "#46039f"
             ],
             [
              0.2222222222222222,
              "#7201a8"
             ],
             [
              0.3333333333333333,
              "#9c179e"
             ],
             [
              0.4444444444444444,
              "#bd3786"
             ],
             [
              0.5555555555555556,
              "#d8576b"
             ],
             [
              0.6666666666666666,
              "#ed7953"
             ],
             [
              0.7777777777777778,
              "#fb9f3a"
             ],
             [
              0.8888888888888888,
              "#fdca26"
             ],
             [
              1,
              "#f0f921"
             ]
            ],
            "type": "histogram2dcontour"
           }
          ],
          "mesh3d": [
           {
            "colorbar": {
             "outlinewidth": 0,
             "ticks": ""
            },
            "type": "mesh3d"
           }
          ],
          "parcoords": [
           {
            "line": {
             "colorbar": {
              "outlinewidth": 0,
              "ticks": ""
             }
            },
            "type": "parcoords"
           }
          ],
          "pie": [
           {
            "automargin": true,
            "type": "pie"
           }
          ],
          "scatter": [
           {
            "fillpattern": {
             "fillmode": "overlay",
             "size": 10,
             "solidity": 0.2
            },
            "type": "scatter"
           }
          ],
          "scatter3d": [
           {
            "line": {
             "colorbar": {
              "outlinewidth": 0,
              "ticks": ""
             }
            },
            "marker": {
             "colorbar": {
              "outlinewidth": 0,
              "ticks": ""
             }
            },
            "type": "scatter3d"
           }
          ],
          "scattercarpet": [
           {
            "marker": {
             "colorbar": {
              "outlinewidth": 0,
              "ticks": ""
             }
            },
            "type": "scattercarpet"
           }
          ],
          "scattergeo": [
           {
            "marker": {
             "colorbar": {
              "outlinewidth": 0,
              "ticks": ""
             }
            },
            "type": "scattergeo"
           }
          ],
          "scattergl": [
           {
            "marker": {
             "colorbar": {
              "outlinewidth": 0,
              "ticks": ""
             }
            },
            "type": "scattergl"
           }
          ],
          "scattermapbox": [
           {
            "marker": {
             "colorbar": {
              "outlinewidth": 0,
              "ticks": ""
             }
            },
            "type": "scattermapbox"
           }
          ],
          "scatterpolar": [
           {
            "marker": {
             "colorbar": {
              "outlinewidth": 0,
              "ticks": ""
             }
            },
            "type": "scatterpolar"
           }
          ],
          "scatterpolargl": [
           {
            "marker": {
             "colorbar": {
              "outlinewidth": 0,
              "ticks": ""
             }
            },
            "type": "scatterpolargl"
           }
          ],
          "scatterternary": [
           {
            "marker": {
             "colorbar": {
              "outlinewidth": 0,
              "ticks": ""
             }
            },
            "type": "scatterternary"
           }
          ],
          "surface": [
           {
            "colorbar": {
             "outlinewidth": 0,
             "ticks": ""
            },
            "colorscale": [
             [
              0,
              "#0d0887"
             ],
             [
              0.1111111111111111,
              "#46039f"
             ],
             [
              0.2222222222222222,
              "#7201a8"
             ],
             [
              0.3333333333333333,
              "#9c179e"
             ],
             [
              0.4444444444444444,
              "#bd3786"
             ],
             [
              0.5555555555555556,
              "#d8576b"
             ],
             [
              0.6666666666666666,
              "#ed7953"
             ],
             [
              0.7777777777777778,
              "#fb9f3a"
             ],
             [
              0.8888888888888888,
              "#fdca26"
             ],
             [
              1,
              "#f0f921"
             ]
            ],
            "type": "surface"
           }
          ],
          "table": [
           {
            "cells": {
             "fill": {
              "color": "#EBF0F8"
             },
             "line": {
              "color": "white"
             }
            },
            "header": {
             "fill": {
              "color": "#C8D4E3"
             },
             "line": {
              "color": "white"
             }
            },
            "type": "table"
           }
          ]
         },
         "layout": {
          "annotationdefaults": {
           "arrowcolor": "#2a3f5f",
           "arrowhead": 0,
           "arrowwidth": 1
          },
          "autotypenumbers": "strict",
          "coloraxis": {
           "colorbar": {
            "outlinewidth": 0,
            "ticks": ""
           }
          },
          "colorscale": {
           "diverging": [
            [
             0,
             "#8e0152"
            ],
            [
             0.1,
             "#c51b7d"
            ],
            [
             0.2,
             "#de77ae"
            ],
            [
             0.3,
             "#f1b6da"
            ],
            [
             0.4,
             "#fde0ef"
            ],
            [
             0.5,
             "#f7f7f7"
            ],
            [
             0.6,
             "#e6f5d0"
            ],
            [
             0.7,
             "#b8e186"
            ],
            [
             0.8,
             "#7fbc41"
            ],
            [
             0.9,
             "#4d9221"
            ],
            [
             1,
             "#276419"
            ]
           ],
           "sequential": [
            [
             0,
             "#0d0887"
            ],
            [
             0.1111111111111111,
             "#46039f"
            ],
            [
             0.2222222222222222,
             "#7201a8"
            ],
            [
             0.3333333333333333,
             "#9c179e"
            ],
            [
             0.4444444444444444,
             "#bd3786"
            ],
            [
             0.5555555555555556,
             "#d8576b"
            ],
            [
             0.6666666666666666,
             "#ed7953"
            ],
            [
             0.7777777777777778,
             "#fb9f3a"
            ],
            [
             0.8888888888888888,
             "#fdca26"
            ],
            [
             1,
             "#f0f921"
            ]
           ],
           "sequentialminus": [
            [
             0,
             "#0d0887"
            ],
            [
             0.1111111111111111,
             "#46039f"
            ],
            [
             0.2222222222222222,
             "#7201a8"
            ],
            [
             0.3333333333333333,
             "#9c179e"
            ],
            [
             0.4444444444444444,
             "#bd3786"
            ],
            [
             0.5555555555555556,
             "#d8576b"
            ],
            [
             0.6666666666666666,
             "#ed7953"
            ],
            [
             0.7777777777777778,
             "#fb9f3a"
            ],
            [
             0.8888888888888888,
             "#fdca26"
            ],
            [
             1,
             "#f0f921"
            ]
           ]
          },
          "colorway": [
           "#636efa",
           "#EF553B",
           "#00cc96",
           "#ab63fa",
           "#FFA15A",
           "#19d3f3",
           "#FF6692",
           "#B6E880",
           "#FF97FF",
           "#FECB52"
          ],
          "font": {
           "color": "#2a3f5f"
          },
          "geo": {
           "bgcolor": "white",
           "lakecolor": "white",
           "landcolor": "#E5ECF6",
           "showlakes": true,
           "showland": true,
           "subunitcolor": "white"
          },
          "hoverlabel": {
           "align": "left"
          },
          "hovermode": "closest",
          "mapbox": {
           "style": "light"
          },
          "paper_bgcolor": "white",
          "plot_bgcolor": "#E5ECF6",
          "polar": {
           "angularaxis": {
            "gridcolor": "white",
            "linecolor": "white",
            "ticks": ""
           },
           "bgcolor": "#E5ECF6",
           "radialaxis": {
            "gridcolor": "white",
            "linecolor": "white",
            "ticks": ""
           }
          },
          "scene": {
           "xaxis": {
            "backgroundcolor": "#E5ECF6",
            "gridcolor": "white",
            "gridwidth": 2,
            "linecolor": "white",
            "showbackground": true,
            "ticks": "",
            "zerolinecolor": "white"
           },
           "yaxis": {
            "backgroundcolor": "#E5ECF6",
            "gridcolor": "white",
            "gridwidth": 2,
            "linecolor": "white",
            "showbackground": true,
            "ticks": "",
            "zerolinecolor": "white"
           },
           "zaxis": {
            "backgroundcolor": "#E5ECF6",
            "gridcolor": "white",
            "gridwidth": 2,
            "linecolor": "white",
            "showbackground": true,
            "ticks": "",
            "zerolinecolor": "white"
           }
          },
          "shapedefaults": {
           "line": {
            "color": "#2a3f5f"
           }
          },
          "ternary": {
           "aaxis": {
            "gridcolor": "white",
            "linecolor": "white",
            "ticks": ""
           },
           "baxis": {
            "gridcolor": "white",
            "linecolor": "white",
            "ticks": ""
           },
           "bgcolor": "#E5ECF6",
           "caxis": {
            "gridcolor": "white",
            "linecolor": "white",
            "ticks": ""
           }
          },
          "title": {
           "x": 0.05
          },
          "xaxis": {
           "automargin": true,
           "gridcolor": "white",
           "linecolor": "white",
           "ticks": "",
           "title": {
            "standoff": 15
           },
           "zerolinecolor": "white",
           "zerolinewidth": 2
          },
          "yaxis": {
           "automargin": true,
           "gridcolor": "white",
           "linecolor": "white",
           "ticks": "",
           "title": {
            "standoff": 15
           },
           "zerolinecolor": "white",
           "zerolinewidth": 2
          }
         }
        },
        "xaxis": {
         "anchor": "y",
         "domain": [
          0,
          1
         ],
         "title": {
          "text": "dayDate"
         }
        },
        "yaxis": {
         "anchor": "x",
         "domain": [
          0,
          1
         ],
         "title": {
          "text": "value"
         }
        }
       }
      }
     },
     "metadata": {},
     "output_type": "display_data"
    }
   ],
   "source": [
    "fig=px.line(df, x=\"dayDate\", y=[\"temperatureMin\", \"temperatureMax\"])\n",
    "fig.show()"
   ]
  },
  {
   "cell_type": "markdown",
   "metadata": {},
   "source": [
    "Zuletzt wollen wir dieses Diagramm in einer Webseite auf einem Webserver anzeigen. Hier nutzen wir das Paket `dash` welches erlaubt eine Webseite mit Python-Befehlen zu erzeugen und darin interaktive Diagramme von Plotly mit anzuzeigen."
   ]
  },
  {
   "cell_type": "code",
   "execution_count": 12,
   "metadata": {},
   "outputs": [],
   "source": [
    "import dash\n",
    "\n",
    "app = dash.Dash()"
   ]
  },
  {
   "cell_type": "code",
   "execution_count": 13,
   "metadata": {
    "tags": [
     "remove-cell"
    ]
   },
   "outputs": [
    {
     "name": "stdout",
     "output_type": "stream",
     "text": [
      "Note: you may need to restart the kernel to use updated packages.\n"
     ]
    }
   ],
   "source": [
    "pip install jupyter_dash  --quiet"
   ]
  },
  {
   "cell_type": "code",
   "execution_count": 14,
   "metadata": {
    "tags": [
     "remove-cell"
    ]
   },
   "outputs": [],
   "source": [
    "# und ersetzen das Dash objekt\n",
    "from jupyter_dash import JupyterDash\n",
    "\n",
    "app = JupyterDash()"
   ]
  },
  {
   "cell_type": "markdown",
   "metadata": {},
   "source": [
    "Dann erzeugen wir eine Webseite mit einer Überschrift (`H1`), welche den Plot als `Graph` enthält."
   ]
  },
  {
   "cell_type": "code",
   "execution_count": 15,
   "metadata": {},
   "outputs": [],
   "source": [
    "app.layout = dash.html.Div(children = [\n",
    "    dash.html.H1(children='Wetter in Rostock'),\n",
    "    dash.dcc.Graph(id=\"fare_vs_age\", figure=fig)\n",
    "])"
   ]
  },
  {
   "cell_type": "markdown",
   "metadata": {},
   "source": [
    "Und starten den Webserver."
   ]
  },
  {
   "cell_type": "code",
   "execution_count": 16,
   "metadata": {},
   "outputs": [
    {
     "name": "stdout",
     "output_type": "stream",
     "text": [
      "Dash app running on http://127.0.0.1:8050/\n"
     ]
    }
   ],
   "source": [
    "app.run_server()"
   ]
  },
  {
   "cell_type": "markdown",
   "metadata": {},
   "source": [
    "Dies startet einen Webserver auf den wir in einem Browser unter `http://127.0.0.1:8083/` zugreifen können. Er zeigt uns eine Webseite mit einem interaktiven Diagramm welches die Wetterdaten anzeigt."
   ]
  },
  {
   "cell_type": "markdown",
   "metadata": {},
   "source": [
    "![](images/wetter.png)"
   ]
  }
 ],
 "metadata": {
  "kernelspec": {
   "display_name": "Python 3.10.6 ('lehre')",
   "language": "python",
   "name": "python3"
  },
  "language_info": {
   "codemirror_mode": {
    "name": "ipython",
    "version": 3
   },
   "file_extension": ".py",
   "mimetype": "text/x-python",
   "name": "python",
   "nbconvert_exporter": "python",
   "pygments_lexer": "ipython3",
   "version": "3.10.6"
  },
  "orig_nbformat": 4,
  "vscode": {
   "interpreter": {
    "hash": "c6f6ea9c9385f57658f4c302ffd3b717b6cd59b095fbd1c55795f0b67656eecd"
   }
  }
 },
 "nbformat": 4,
 "nbformat_minor": 2
}
