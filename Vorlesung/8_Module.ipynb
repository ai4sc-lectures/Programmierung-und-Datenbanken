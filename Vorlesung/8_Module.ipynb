{
 "cells": [
  {
   "cell_type": "markdown",
   "metadata": {},
   "source": [
    "# Modularisierung"
   ]
  },
  {
   "cell_type": "markdown",
   "metadata": {},
   "source": [
    "Größere Programme enthalten oft dutzende Klassen mit hunderten Funktionen und vielen tausend Zeilen Code. Hier wird es sehr schnell schwer einen Überblick zu behalten, wenn alle Klassen in einer Datei definiert sind. Insbesondere wenn verschiedene Programmierer an verschiedenen Stellen im Programm arbeiten kommt es dann sehr schnell zu Versionskonflikten, wenn Leute an ähnlichen Dateien arbeiten.\n",
    "\n",
    "Um dies organisiert und übersichtlich zu halten, wird Code in mehrere Dateien mit der Erweiterung `.py` aufgespalten. Dabei ist es üblich jeweils eine Datei\n",
    "-  pro Klasse, wenn Klassen definiert werden\n",
    "-  pro Thema, wenn Hilfsfunktionen definiert werden (z.B. Mathematik-Funktionen, …)\n",
    "-  pro Aufgabenbereich, wenn (z.B. Laden von Daten getrennt von deren Verarbeitung. So kann man z.B. später andere Verarbeitungsschritte definieren und das Laden wiederverwenden)"
   ]
  },
  {
   "cell_type": "markdown",
   "metadata": {},
   "source": [
    "📁 geometry\n",
    "- 📄 [ImmutablePoint.py](geometry/points/ImmutablePoint.py)\n",
    "- 📄 [Point.py](geometry/points/Point.py)\n",
    "- 📄 [Line.py](geometry/shapes/Line.py)\n",
    "- 📄 [Pentagon.py](geometry/shapes/Pentagon.py)\n",
    "- 📄 [Polygon.py](geometry/shapes/Polygon.py)\n",
    "- 📄 [Tetragon.py](geometry/shapes/Tetragon.py)\n",
    "- 📄 [Triangle.py](geometry/shapes/Triangle.py)"
   ]
  },
  {
   "cell_type": "markdown",
   "metadata": {},
   "source": [
    "Für die Klassendefinition aus der letzten Vorlesung für Geometrie hätten wir dann z.B. eine Projektstruktur entsprechend:"
   ]
  },
  {
   "cell_type": "markdown",
   "metadata": {},
   "source": [
    "<center><img src=\"images/files.png\" style=\"width: 40ex\"></center>"
   ]
  },
  {
   "cell_type": "markdown",
   "metadata": {},
   "source": [
    "Dabei enthält jede Datei nur den Code der gleichnahmigen Klasse, auch wenn dies nur wenige Zeilen sind, wie im Fall der Klassen `Triangle`, `Tetragon` und `Pentagon`. Entscheidend ist, dass wenn ein Programmierer nach dem Code für eine Klasse sucht, er genau sieht in welcher Datei dieser zu finden ist und nicht groß suchen muss.\n",
    "\n",
    "Noch größere Projekte spalten man in mehrere Module indem man weitere Unterverzeichnisse anlegt. So wollen wir z.B. alle generischen Klassen für Punkte in das Verzeichnis `points` gruppieren und alle geometrischen Formen in das Verzeichnis `shapes`. So lassen sich gößere Projekte gut strukturieren."
   ]
  },
  {
   "cell_type": "markdown",
   "metadata": {},
   "source": [
    "<center><img src=\"images/shapes.png\" style=\"width: 40ex\"></center>"
   ]
  },
  {
   "cell_type": "markdown",
   "metadata": {},
   "source": [
    "## `main()` - Der Startpunkt eines Programmes "
   ]
  },
  {
   "cell_type": "markdown",
   "metadata": {},
   "source": [
    "Wenn Code über mehrere Dateien verteilt ist, braucht Python einen Hinweis welcher Code ausgeführt werden soll. Hierfür definiert man die spezielle Einstiegsfunktion `main()`. Sie gibt es in fast allen Programmiersprachen und gibt immer den Startpunkt eines Programms an.\n",
    "\n",
    "In Python hat sie entweder gar keine Argumente oder sie erhält diese dynamisch, wenn sie vom Nutzer / von einem anderen Programm aufgerufen wird (a.k.a. Kommandozeilenargumente)."
   ]
  },
  {
   "cell_type": "code",
   "execution_count": 1,
   "metadata": {},
   "outputs": [],
   "source": [
    "def main():\n",
    "\tprint(\"This is the main function\")"
   ]
  },
  {
   "cell_type": "markdown",
   "metadata": {},
   "source": [
    "Allerdings möchte man vermeiden, dass die Funktion `main()` auch aufgerufen wird, wenn die Python-Datei zum Beispiel als Bibliothek eingebunden wird, wo man nur an den Funktionen interessiert ist. Deshalb nutzt man am Ende einer Datei mit einer `main()`-Funktion die folgende Verzweigung."
   ]
  },
  {
   "cell_type": "code",
   "execution_count": 2,
   "metadata": {},
   "outputs": [
    {
     "name": "stdout",
     "output_type": "stream",
     "text": [
      "This is the main function\n"
     ]
    }
   ],
   "source": [
    "if __name__ == \"__main__\":\n",
    "\tmain()"
   ]
  },
  {
   "cell_type": "markdown",
   "metadata": {},
   "source": [
    "Sie nutzt aus, dass der Wert der Standardvariable `__name__` in der Hauptdatei immer `'__main__'` lautet. Während sie in einer importierten Datei den Namen der Hautpdatei angibt."
   ]
  },
  {
   "cell_type": "code",
   "execution_count": 6,
   "metadata": {},
   "outputs": [
    {
     "ename": "NameError",
     "evalue": "name 'ImmutablePoint' is not defined",
     "output_type": "error",
     "traceback": [
      "\u001b[0;31m---------------------------------------------------------------------------\u001b[0m",
      "\u001b[0;31mNameError\u001b[0m                                 Traceback (most recent call last)",
      "Cell \u001b[0;32mIn [6], line 12\u001b[0m\n\u001b[1;32m      8\u001b[0m \t\u001b[39mprint\u001b[39m(\u001b[39mf\u001b[39m\u001b[39m\"\u001b[39m\u001b[39mDie Länge der Linie zwischen Punkt 1 und 2 ist: \u001b[39m\u001b[39m{\u001b[39;00mlinie_1\u001b[39m.\u001b[39mlength()\u001b[39m}\u001b[39;00m\u001b[39m\"\u001b[39m)\n\u001b[1;32m     11\u001b[0m \u001b[39mif\u001b[39;00m \u001b[39m__name__\u001b[39m \u001b[39m==\u001b[39m \u001b[39m\"\u001b[39m\u001b[39m__main__\u001b[39m\u001b[39m\"\u001b[39m:\n\u001b[0;32m---> 12\u001b[0m \tmain()\n",
      "Cell \u001b[0;32mIn [6], line 5\u001b[0m, in \u001b[0;36mmain\u001b[0;34m()\u001b[0m\n\u001b[1;32m      4\u001b[0m \u001b[39mdef\u001b[39;00m \u001b[39mmain\u001b[39m():\n\u001b[0;32m----> 5\u001b[0m \tpoint_1 \u001b[39m=\u001b[39m ImmutablePoint\u001b[39m.\u001b[39mImmutablePoint(x\u001b[39m=\u001b[39m\u001b[39m54.083336\u001b[39m, y\u001b[39m=\u001b[39m\u001b[39m12.108811\u001b[39m)\n\u001b[1;32m      6\u001b[0m \tpoint_2 \u001b[39m=\u001b[39m ImmutablePoint\u001b[39m.\u001b[39mImmutablePoint(y\u001b[39m=\u001b[39m\u001b[39m12.094167\u001b[39m, x\u001b[39m=\u001b[39m\u001b[39m54.075211\u001b[39m)\n\u001b[1;32m      7\u001b[0m \tlinie_1 \u001b[39m=\u001b[39m Line\u001b[39m.\u001b[39mLine(start\u001b[39m=\u001b[39mpoint_1, end\u001b[39m=\u001b[39mpoint_2)\n",
      "\u001b[0;31mNameError\u001b[0m: name 'ImmutablePoint' is not defined"
     ]
    }
   ],
   "source": [
    "import geometry.points.ImmutablePoint\n",
    "import geometry.shapes.Line\n",
    "\n",
    "def main():\n",
    "\tpoint_1 = ImmutablePoint.ImmutablePoint(x=54.083336, y=12.108811)\n",
    "\tpoint_2 = ImmutablePoint.ImmutablePoint(y=12.094167, x=54.075211)\n",
    "\tlinie_1 = Line.Line(start=point_1, end=point_2)\n",
    "\tprint(f\"Die Länge der Linie zwischen Punkt 1 und 2 ist: {linie_1.length()}\")\n",
    "\n",
    "\n",
    "if __name__ == \"__main__\":\n",
    "\tmain()\n"
   ]
  },
  {
   "cell_type": "markdown",
   "metadata": {},
   "source": []
  },
  {
   "cell_type": "code",
   "execution_count": null,
   "metadata": {},
   "outputs": [],
   "source": [
    "from geometry.points.ImmutablePoint import *\n",
    "from geometry.shapes.Line import *\n",
    "\n",
    "def main():\n",
    "\tpoint_1 = ImmutablePoint(x=54.083336, y=12.108811)\n",
    "\tpoint_2 = ImmutablePoint(y=12.094167, x=54.075211)\n",
    "\tlinie_1 = Line(start=point_1, end=point_2)\n",
    "\tprint(f\"Die Länge der Linie zwischen Punkt 1 und 2 ist: {linie_1.length()}\")\n",
    "\n",
    "\n",
    "if __name__ == \"__main__\":\n",
    "\tmain()"
   ]
  },
  {
   "cell_type": "code",
   "execution_count": null,
   "metadata": {},
   "outputs": [],
   "source": [
    "point_"
   ]
  },
  {
   "cell_type": "code",
   "execution_count": null,
   "metadata": {},
   "outputs": [],
   "source": [
    "from external_file import external_function as ext_func\n"
   ]
  },
  {
   "cell_type": "code",
   "execution_count": null,
   "metadata": {},
   "outputs": [],
   "source": [
    "import http.server as server\n",
    "\n",
    "server_object = server.HTTPServer(server_address=('', 80), \tRequestHandlerClass=server.CGIHTTPRequestHandler)\n",
    "\n",
    "server_object.serve_forever()\n"
   ]
  },
  {
   "cell_type": "code",
   "execution_count": null,
   "metadata": {},
   "outputs": [],
   "source": [
    "import os\n",
    "folder = \"…\"\n",
    "for count, filename in enumerate(os.listdir(folder)):\n",
    "\tpath = folder + \"/\" + filename\n",
    "\tnew_filename = str(count) + \".jpg\"\n",
    "\tnew_path = folder + \"/\" + new_filename\n",
    "\tos.rename(path, new_path)\n"
   ]
  },
  {
   "cell_type": "code",
   "execution_count": null,
   "metadata": {},
   "outputs": [],
   "source": [
    "from owslib.wms import WebMapService\n",
    "\n",
    "wms = WebMapService('https://ows.terrestris.de/osm/service?')\n",
    "img = wms.getmap(layers=['OSM-WMS‘], …)\n",
    "\n",
    "out = open('map.jpg', 'wb')\n",
    "out.write(img.read())\n",
    "out.close()\n"
   ]
  }
 ],
 "metadata": {
  "kernelspec": {
   "display_name": "Python 3.9.10 ('base')",
   "language": "python",
   "name": "python3"
  },
  "language_info": {
   "codemirror_mode": {
    "name": "ipython",
    "version": 3
   },
   "file_extension": ".py",
   "mimetype": "text/x-python",
   "name": "python",
   "nbconvert_exporter": "python",
   "pygments_lexer": "ipython3",
   "version": "3.9.10"
  },
  "orig_nbformat": 4,
  "vscode": {
   "interpreter": {
    "hash": "6d5b4c1aed727cf1aeefa5ce625efdd40a732dd8ec11ef525b58c5aca2b06a32"
   }
  }
 },
 "nbformat": 4,
 "nbformat_minor": 2
}
