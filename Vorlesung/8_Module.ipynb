{
 "cells": [
  {
   "cell_type": "markdown",
   "metadata": {},
   "source": [
    "# Pakete"
   ]
  },
  {
   "cell_type": "markdown",
   "metadata": {},
   "source": [
    "## Code in Dateien, Module und Pakete aufteilen"
   ]
  },
  {
   "cell_type": "markdown",
   "metadata": {},
   "source": [
    "Größere Programme enthalten oft dutzende Klassen mit hunderten Funktionen und vielen tausend Zeilen Code. Hier wird es sehr schnell schwer einen Überblick zu behalten, wenn alle Klassen in einer Datei definiert sind. Insbesondere wenn verschiedene Programmierer an verschiedenen Stellen im Programm arbeiten, kommt es dann sehr schnell zu Versionskonflikten, wenn Leute an ähnlichen Dateien arbeiten.\n",
    "\n",
    "Um dies organisiert und übersichtlich zu halten, wird Code in mehrere Dateien mit der Erweiterung `.py` aufgespalten. Dabei ist es üblich jeweils eine Datei\n",
    "-  pro Klasse, wenn Klassen definiert werden\n",
    "-  pro Thema, wenn Hilfsfunktionen definiert werden (z.B. Mathematik-Funktionen, …)\n",
    "-  pro Aufgabenbereich, wenn (z.B. Laden von Daten getrennt von deren Verarbeitung. So kann man z.B. später andere Verarbeitungsschritte definieren und das Laden wiederverwenden)"
   ]
  },
  {
   "cell_type": "markdown",
   "metadata": {},
   "source": [
    "Speichern wir jede Klasse der Geometrieelemente aus dem Teil der [Klassendefinition](7a_Objects.ipynb) aus der letzten Vorlesung so hätten wir dann z.B. eine Projektstruktur entsprechend:"
   ]
  },
  {
   "cell_type": "markdown",
   "metadata": {},
   "source": [
    "- 📁 geometry\n",
    "    - 📄 [ImmutablePoint.py](geometry/points/ImmutablePoint.py)\n",
    "    - 📄 [Point.py](geometry/points/Point.py)\n",
    "    - 📄 [Line.py](geometry/shapes/Line.py)\n",
    "    - 📄 [Pentagon.py](geometry/shapes/Pentagon.py)\n",
    "    - 📄 [Polygon.py](geometry/shapes/Polygon.py)\n",
    "    - 📄 [Tetragon.py](geometry/shapes/Tetragon.py)\n",
    "    - 📄 [Triangle.py](geometry/shapes/Triangle.py)\n",
    "\n",
    "<!-- <center><img src=\"images/files.png\" style=\"width: 40ex\"></center> -->"
   ]
  },
  {
   "cell_type": "markdown",
   "metadata": {},
   "source": [
    "Dabei enthält jede Datei nur den Code der gleichnamigen Klasse, auch wenn dies nur wenige Zeilen sind, wie im Fall der Klassen `Triangle`, `Tetragon` und `Pentagon`. Entscheidend ist, dass wenn ein Programmierer nach dem Code für eine Klasse sucht, er genau sieht in welcher Datei dieser zu finden ist und nicht groß suchen muss.\n",
    "\n",
    "Noch größere Projekte spalten man in mehrere *Module* indem man weitere Unterverzeichnisse anlegt. So wollen wir z.B. alle generischen Klassen für Punkte in das Verzeichnis `points` gruppieren und alle geometrischen Formen in das Verzeichnis `shapes`. So lassen sich größere Projekte gut strukturieren.\n",
    "\n",
    "Die Summe aller Module formt dann ein *Package*. In diesem Fall das Package `geometry`, welches wir in verschiedenen Implementierungen wieder verwenden können."
   ]
  },
  {
   "cell_type": "markdown",
   "metadata": {},
   "source": [
    "- 📁 geometry\n",
    "    - 📁 points\n",
    "        - 📄 [ImmutablePoint.py](geometry/points/ImmutablePoint.py)\n",
    "        - 📄 [Point.py](geometry/points/Point.py)\n",
    "    - 📁 shapes\n",
    "        - 📄 [Line.py](geometry/shapes/Line.py)\n",
    "        - 📄 [Pentagon.py](geometry/shapes/Pentagon.py)\n",
    "        - 📄 [Polygon.py](geometry/shapes/Polygon.py)\n",
    "        - 📄 [Tetragon.py](geometry/shapes/Tetragon.py)\n",
    "        - 📄 [Triangle.py](geometry/shapes/Triangle.py)\n",
    "\n",
    "<!-- <center><img src=\"images/shapes.png\" style=\"width: 40ex\"></center> -->"
   ]
  },
  {
   "cell_type": "markdown",
   "metadata": {},
   "source": [
    "## `main()` - Der Startpunkt eines Programmes "
   ]
  },
  {
   "cell_type": "markdown",
   "metadata": {},
   "source": [
    "Wenn Code über mehrere Dateien verteilt ist, braucht Python einen Hinweis welcher Code ausgeführt werden soll. Hierfür definiert man die spezielle Einstiegsfunktion `main()`. Sie gibt es in fast allen Programmiersprachen und gibt immer den Startpunkt eines Programms an.\n",
    "\n",
    "In Python hat sie entweder keine Argumente oder sie erhält diese dynamisch, wenn sie vom Nutzer / von einem anderen Programm aufgerufen wird (a.k.a. Kommandozeilenargumente)."
   ]
  },
  {
   "cell_type": "code",
   "execution_count": 1,
   "metadata": {},
   "outputs": [],
   "source": [
    "def main():\n",
    "\tprint(\"This is the main function\")"
   ]
  },
  {
   "cell_type": "markdown",
   "metadata": {},
   "source": [
    "Allerdings möchte man vermeiden, dass die Funktion `main()` auch aufgerufen wird, wenn die Python-Datei zum Beispiel als Bibliothek eingebunden wird, wo man nur an den Funktionen interessiert ist. Deshalb nutzt man am Ende einer Datei mit einer `main()`-Funktion die folgende Verzweigung."
   ]
  },
  {
   "cell_type": "code",
   "execution_count": 2,
   "metadata": {},
   "outputs": [
    {
     "name": "stdout",
     "output_type": "stream",
     "text": [
      "This is the main function\n"
     ]
    }
   ],
   "source": [
    "if __name__ == \"__main__\":\n",
    "\tmain()"
   ]
  },
  {
   "cell_type": "markdown",
   "metadata": {},
   "source": [
    "Sie nutzt aus, dass der Wert der Standardvariable `__name__` in der Hauptdatei immer `'__main__'` lautet. Während sie in einer importierten Datei den Namen der Hauptdatei angibt."
   ]
  },
  {
   "cell_type": "markdown",
   "metadata": {},
   "source": [
    "## Importieren von Modulen"
   ]
  },
  {
   "cell_type": "markdown",
   "metadata": {},
   "source": [
    "Um zu vermeiden, dass ständig unnötiger Code geladen wird lädt Python diesen Code nicht automatisch. Wollen wir also den Code in unseren Dateien, Modulen und Packages nutzen so müssen wir vorher Python anweisen diesen zu laden. Dieses *Importieren* weist man mit dem Befehl `import` an.\n",
    "\n",
    "Ein einfacher Import ist der import ganzer Pakete. Dies geschieht, indem wir `import` und dem Paketnamen schreiben."
   ]
  },
  {
   "cell_type": "code",
   "execution_count": 3,
   "metadata": {},
   "outputs": [
    {
     "name": "stdout",
     "output_type": "stream",
     "text": [
      "Die Länge der Linie zwischen Punkt 1 und 2 ist: 0.016747010509340444\n"
     ]
    }
   ],
   "source": [
    "import geometry.points.ImmutablePoint\n",
    "import geometry.shapes.Line\n",
    "\n",
    "def main():\n",
    "\tpoint_1 = geometry.points.ImmutablePoint.ImmutablePoint(x=54.083336, y=12.108811)\n",
    "\tpoint_2 = geometry.points.ImmutablePoint.ImmutablePoint(y=12.094167, x=54.075211)\n",
    "\tlinie_1 = geometry.shapes.Line.Line(start=point_1, end=point_2)\n",
    "\tprint(f\"Die Länge der Linie zwischen Punkt 1 und 2 ist: {linie_1.length()}\")\n",
    "\n",
    "if __name__ == \"__main__\":\n",
    "\tmain()"
   ]
  },
  {
   "cell_type": "markdown",
   "metadata": {},
   "source": [
    "Der Nachteil des Imports ganzer Pakete ist, dass wenn wir hieraus einzelne Klassen referenzieren wollen, die sich in Untermodulen befinden, so müssen wir den kompletten Pfad der Klasse angeben. In dem Beispiel oben zum Beispiel `geometry.points.ImmutablePoint.ImmutablePoint`."
   ]
  },
  {
   "cell_type": "markdown",
   "metadata": {},
   "source": [
    "Deshalb importiert man meist einzelne Module indem man den Pfad eines Moduls angibt, wie zum Beispiel `geometry.points.ImmutablePoint.ImmutablePoint`. Hierbei kann man den importierten Modulen auch neue Namen geben wie `point` oder `line` in dem Beispiel unten."
   ]
  },
  {
   "cell_type": "code",
   "execution_count": 4,
   "metadata": {},
   "outputs": [
    {
     "name": "stdout",
     "output_type": "stream",
     "text": [
      "Die Länge der Linie zwischen Punkt 1 und 2 ist: 0.016747010509340444\n"
     ]
    }
   ],
   "source": [
    "import geometry.points.ImmutablePoint as point\n",
    "import geometry.shapes.Line as line\n",
    "\n",
    "def main():\n",
    "\tpoint_1 = point.ImmutablePoint(x=54.083336, y=12.108811)\n",
    "\tpoint_2 = point.ImmutablePoint(y=12.094167, x=54.075211)\n",
    "\tlinie_1 = line.Line(start=point_1, end=point_2)\n",
    "\tprint(f\"Die Länge der Linie zwischen Punkt 1 und 2 ist: {linie_1.length()}\")\n",
    "\n",
    "if __name__ == \"__main__\":\n",
    "\tmain()"
   ]
  },
  {
   "cell_type": "markdown",
   "metadata": {},
   "source": [
    "Alternativ lassen sich auch Teile eines Moduls mit dem Platzhalter `*` und dem Befehl `from` importieren. Alle Elemente werden mit dem Platzhalter `*` importiert. Spezifische Elemente wie einzelne Klassen können auch direkt angegeben werden, wie im folgenden Beispiel `Line`."
   ]
  },
  {
   "cell_type": "code",
   "execution_count": 5,
   "metadata": {},
   "outputs": [
    {
     "name": "stdout",
     "output_type": "stream",
     "text": [
      "Die Länge der Linie zwischen Punkt 1 und 2 ist: 0.016747010509340444\n"
     ]
    }
   ],
   "source": [
    "from geometry.points.ImmutablePoint import *\n",
    "from geometry.shapes.Line import Line\n",
    "\n",
    "def main():\n",
    "\tpoint_1 = ImmutablePoint(x=54.083336, y=12.108811)\n",
    "\tpoint_2 = ImmutablePoint(y=12.094167, x=54.075211)\n",
    "\tlinie_1 = Line(start=point_1, end=point_2)\n",
    "\tprint(f\"Die Länge der Linie zwischen Punkt 1 und 2 ist: {linie_1.length()}\")\n",
    "\n",
    "if __name__ == \"__main__\":\n",
    "\tmain()"
   ]
  },
  {
   "cell_type": "markdown",
   "metadata": {},
   "source": [
    "## Standard Paktete aus Python importieren"
   ]
  },
  {
   "cell_type": "markdown",
   "metadata": {},
   "source": [
    "Python beinhaltet viele [Standardpakete](https://python.readthedocs.io/en/latest/library/index.html) für typische Aufgaben. Für die Bau- und Umweltinformatik sind die folgenden am sinnvollsten:"
   ]
  },
  {
   "cell_type": "markdown",
   "metadata": {},
   "source": [
    "| packet |   description |\n",
    "| ------ | ------------- |\n",
    "| collections | Mehr komplexe Datentypen zum zählen, sortieren     |\n",
    "| http   | Funktionen des HTTP-Internetprotokolls wie Web-Server   |\n",
    "| json   | Funktionen um Objekte als Text abzuspeichern            |\n",
    "| logging| Funktionen um Logs zu schreiben                         |\n",
    "| math   | Mathematische Funktionen                                |\n",
    "| os     | Funktionen um Dateien zu finden, laden und speichern     |\n",
    "| pickle | Funktionen um Objekte binär abzuspeichern               |\n",
    "| pprint | print-Funktionen um Objekte schöner (pretty) auszugeben |\n",
    "| random | Funktionen zum Erzeugen von Zufallszahlen               |\n",
    "| re     | Funktionen für Reguläre Ausdrücke um Text zu suchen     |\n",
    "| sys    | Funktionen um Systeminformationen zu erhalten           |\n",
    "| time   | Funktionen für Zeit und Datumsangaben                   |\n",
    "| timeit | Funktionen um die Performance von Funktionen zu testen  |\n",
    "|traceback| Funktionen um den Stack aufzulisten                    |\n",
    "| urllib | Funktionen um ULRs im Internet zu laden und verarbeiten |"
   ]
  },
  {
   "cell_type": "markdown",
   "metadata": {},
   "source": [
    "Von der Liste haben wir die Bibliotheken `math`, `time`, `timeit`, `traceback` und `logging` schon kennen gelernt und benutzt. Die anderen Pakete bieten allerdings weitere sinnvolle Funktionen.\n",
    "\n",
    " Wollen wir zum Beispiel alle Dateien in einem Verzeichnis auflisten, so nutzen wir das Paket `os`."
   ]
  },
  {
   "cell_type": "code",
   "execution_count": 6,
   "metadata": {},
   "outputs": [
    {
     "name": "stdout",
     "output_type": "stream",
     "text": [
      "geometry/shapes/Tetragon.py\n",
      "geometry/shapes/Pentagon.py\n",
      "geometry/shapes/Line.py\n",
      "geometry/shapes/Polygon.py\n",
      "geometry/shapes/__pycache__\n",
      "geometry/shapes/Triangle.py\n"
     ]
    }
   ],
   "source": [
    "import os\n",
    "folder = \"geometry/shapes/\"\n",
    "for count, filename in enumerate(os.listdir(folder)):\n",
    "\tpath = os.path.join(folder, filename)\n",
    "\tprint(path)"
   ]
  },
  {
   "cell_type": "markdown",
   "metadata": {},
   "source": [
    "Viele Webseiten bieten Programmierschnittstellen an, so genannte APIs, da diese APIs auch von den eigenen Webseiten genutzt werden, um Daten nachzuladen, die auf der Webseite angezeigt werden. Die APIs nutzen meist das JSON-Format um Daten auszutauschen. Dies ist ein Text-basiertes Dateiformat, das in Python sehr stark dem `dict`-Datentyp ähnelt, aber auch alle anderen primitiven und zusammengesetzten Datentypen von Python unterstützt. \n",
    "\n",
    "Wir möchten zum Beispiel die Wetterdaten einer Wetterstation in Deutschland analysieren. Diese Daten bekommen wir beim [Deutschen Wetterdiest](https://www.dwd.de). Diese Daten kann man sich auch von der [API](https://dwd.api.bund.dev/) herunterladen. Hierfür braucht man die ID (Identifikationsnummer) einer Wetterstation welche [hier](https://www.dwd.de/DE/leistungen/klimadatendeutschland/statliste/statlex_html.html?view=nasPublication&nn=16102) zu finden ist. Wir nehmen als Beispiel eine Station im Hansaviertel in Rostock mit der ID `12495`.\n",
    "\n",
    "Dann kann man die Wetterdaten mit Python mit Hilfe des Paketes `urllib` von der API laden. Das JSON-Format können wir mit dem `json` Paket verarbeiten. Wir laden dazu zuerst vom Deutschen Wetterdienst ein binäres Datenpaket vom Datentype `bytes`. Dieses konvertieren wir mit der Funktion `loads` aus dem `json` Paket in ein Python `dict`. Um das schöner lesbar auszugeben, nutzen wir die Funktion `pprint` aus dem Paket `pprint` (pretty-print)."
   ]
  },
  {
   "cell_type": "code",
   "execution_count": 16,
   "metadata": {
    "tags": [
     "output_scroll"
    ]
   },
   "outputs": [
    {
     "name": "stdout",
     "output_type": "stream",
     "text": [
      "{ '12495': { 'days': [ { 'dayDate': '2022-11-30',\n",
      "                         'icon': 4,\n",
      "                         'icon1': None,\n",
      "                         'icon2': None,\n",
      "                         'moonPhase': 1,\n",
      "                         'moonrise': 1669808688000,\n",
      "                         'moonset': 1669845431000,\n",
      "                         'precipitation': 3,\n",
      "                         'stationId': None,\n",
      "                         'sunrise': 1669788650000,\n",
      "                         'sunset': 1669818431000,\n",
      "                         'sunshine': 0,\n",
      "                         'temperatureMax': 5,\n",
      "                         'temperatureMin': -3,\n",
      "                         'windDirection': 1160,\n",
      "                         'windGust': 204,\n",
      "                         'windSpeed': 93},\n",
      "                       { 'dayDate': '2022-12-01',\n",
      "                         'icon': 4,\n",
      "                         'icon1': None,\n",
      "                         'icon2': None,\n",
      "                         'moonPhase': 2,\n",
      "                         'moonrise': 1669895999000,\n",
      "                         'moonset': 1669936688000,\n",
      "                         'precipitation': 0,\n",
      "                         'stationId': None,\n",
      "                         'sunrise': 1669875134000,\n",
      "                         'sunset': 1669904792000,\n",
      "                         'sunshine': 0,\n",
      "                         'temperatureMax': -2,\n",
      "                         'temperatureMin': -35,\n",
      "                         'windDirection': 640,\n",
      "                         'windGust': 204,\n",
      "                         'windSpeed': 74},\n",
      "                       { 'dayDate': '2022-12-02',\n",
      "                         'icon': 4,\n",
      "                         'icon1': None,\n",
      "                         'icon2': None,\n",
      "                         'moonPhase': 2,\n",
      "                         'moonrise': 1669983204000,\n",
      "                         'moonset': 1670027777000,\n",
      "                         'precipitation': 0,\n",
      "                         'stationId': None,\n",
      "                         'sunrise': 1669961617000,\n",
      "                         'sunset': 1669991156000,\n",
      "                         'sunshine': 0,\n",
      "                         'temperatureMax': -22,\n",
      "                         'temperatureMin': -40,\n",
      "                         'windDirection': 690,\n",
      "                         'windGust': 185,\n",
      "                         'windSpeed': 74},\n",
      "                       { 'dayDate': '2022-12-03',\n",
      "                         'icon': 14,\n",
      "                         'icon1': None,\n",
      "                         'icon2': None,\n",
      "                         'moonPhase': 2,\n",
      "                         'moonrise': 1670070373000,\n",
      "                         'moonset': 1670027777000,\n",
      "                         'precipitation': 8,\n",
      "                         'stationId': None,\n",
      "                         'sunrise': 1670048098000,\n",
      "                         'sunset': 1670077523000,\n",
      "                         'sunshine': 0,\n",
      "                         'temperatureMax': -11,\n",
      "                         'temperatureMin': -32,\n",
      "                         'windDirection': 1060,\n",
      "                         'windGust': 222,\n",
      "                         'windSpeed': 93},\n",
      "                       { 'dayDate': '2022-12-04',\n",
      "                         'icon': 4,\n",
      "                         'icon1': None,\n",
      "                         'icon2': None,\n",
      "                         'moonPhase': 3,\n",
      "                         'moonrise': 1670157577000,\n",
      "                         'moonset': 1670118778000,\n",
      "                         'precipitation': 0,\n",
      "                         'stationId': None,\n",
      "                         'sunrise': 1670134577000,\n",
      "                         'sunset': 1670163894000,\n",
      "                         'sunshine': 0,\n",
      "                         'temperatureMax': 3,\n",
      "                         'temperatureMin': -25,\n",
      "                         'windDirection': 1220,\n",
      "                         'windGust': 296,\n",
      "                         'windSpeed': 130},\n",
      "                       { 'dayDate': '2022-12-05',\n",
      "                         'icon': 4,\n",
      "                         'icon1': None,\n",
      "                         'icon2': None,\n",
      "                         'moonPhase': 3,\n",
      "                         'moonrise': 1670244887000,\n",
      "                         'moonset': 1670209767000,\n",
      "                         'precipitation': 0,\n",
      "                         'stationId': None,\n",
      "                         'sunrise': 1670221053000,\n",
      "                         'sunset': 1670250268000,\n",
      "                         'sunshine': 0,\n",
      "                         'temperatureMax': 9,\n",
      "                         'temperatureMin': -15,\n",
      "                         'windDirection': 1210,\n",
      "                         'windGust': 296,\n",
      "                         'windSpeed': 130},\n",
      "                       { 'dayDate': '2022-12-06',\n",
      "                         'icon': 4,\n",
      "                         'icon1': None,\n",
      "                         'icon2': None,\n",
      "                         'moonPhase': 3,\n",
      "                         'moonrise': 1670332412000,\n",
      "                         'moonset': 1670300765000,\n",
      "                         'precipitation': 0,\n",
      "                         'stationId': None,\n",
      "                         'sunrise': 1670307528000,\n",
      "                         'sunset': 1670336645000,\n",
      "                         'sunshine': 0,\n",
      "                         'temperatureMax': -9,\n",
      "                         'temperatureMin': -21,\n",
      "                         'windDirection': 1030,\n",
      "                         'windGust': 241,\n",
      "                         'windSpeed': 93},\n",
      "                       { 'dayDate': '2022-12-07',\n",
      "                         'icon': 4,\n",
      "                         'icon1': None,\n",
      "                         'icon2': None,\n",
      "                         'moonPhase': 3,\n",
      "                         'moonrise': 1670420273000,\n",
      "                         'moonset': 1670391695000,\n",
      "                         'precipitation': 0,\n",
      "                         'stationId': None,\n",
      "                         'sunrise': 1670394000000,\n",
      "                         'sunset': 1670423025000,\n",
      "                         'sunshine': 0,\n",
      "                         'temperatureMax': 3,\n",
      "                         'temperatureMin': -19,\n",
      "                         'windDirection': 1220,\n",
      "                         'windGust': 278,\n",
      "                         'windSpeed': 111},\n",
      "                       { 'dayDate': '2022-12-08',\n",
      "                         'icon': 4,\n",
      "                         'icon1': None,\n",
      "                         'icon2': None,\n",
      "                         'moonPhase': 4,\n",
      "                         'moonrise': 1670508609000,\n",
      "                         'moonset': 1670482391000,\n",
      "                         'precipitation': 0,\n",
      "                         'stationId': None,\n",
      "                         'sunrise': 1670480470000,\n",
      "                         'sunset': 1670509408000,\n",
      "                         'sunshine': 0,\n",
      "                         'temperatureMax': 12,\n",
      "                         'temperatureMin': -10,\n",
      "                         'windDirection': 1850,\n",
      "                         'windGust': 315,\n",
      "                         'windSpeed': 130},\n",
      "                       { 'dayDate': '2022-12-09',\n",
      "                         'icon': 4,\n",
      "                         'icon1': None,\n",
      "                         'icon2': None,\n",
      "                         'moonPhase': 4,\n",
      "                         'moonrise': 1670597587000,\n",
      "                         'moonset': 1670572614000,\n",
      "                         'precipitation': 1,\n",
      "                         'stationId': None,\n",
      "                         'sunrise': 1670566938000,\n",
      "                         'sunset': 1670595795000,\n",
      "                         'sunshine': 0,\n",
      "                         'temperatureMax': 18,\n",
      "                         'temperatureMin': -10,\n",
      "                         'windDirection': 2340,\n",
      "                         'windGust': 296,\n",
      "                         'windSpeed': 130}],\n",
      "             'forecast1': { 'dewPoint2m': [ -14, -13, -11, -11, -11, -11, -12,\n",
      "                                            -12, -11, -11, -10, -9, -9, -12,\n",
      "                                            -12, -13, -15, -16, -16, -18, -18,\n",
      "                                            -20, -20, -21, -22, -23, -24, -26,\n",
      "                                            -29, -35, -37, -37, -40, -42, -44,\n",
      "                                            -45, -47, -48, -49, -51, -53, -53,\n",
      "                                            -53, -53, -53, -52, -52, -51, -48,\n",
      "                                            -48, -49, -49, -50, -51, -50, -51,\n",
      "                                            -49, -52, -52, -52, -53, -55],\n",
      "                            'humidity': [ 871, 877, 890, 897, 897, 897, 884,\n",
      "                                          884, 903, 903, 916, 930, 930, 923,\n",
      "                                          930, 923, 923, 923, 923, 916, 936,\n",
      "                                          929, 936, 936, 916, 909, 902, 902,\n",
      "                                          895, 869, 881, 888, 881, 874, 874,\n",
      "                                          881, 880, 907, 907, 907, 893, 900,\n",
      "                                          907, 900, 880, 873, 854, 842, 848,\n",
      "                                          836, 817, 823, 829, 823, 842, 848,\n",
      "                                          848, 835, 841, 835, 841, 816],\n",
      "                            'icon': [ 32767, 32767, 32767, 32767, 32767, 32767,\n",
      "                                      4, 32767, 32767, 32767, 32767, 4, 4, 4, 4,\n",
      "                                      4, 4, 4, 4, 4, 4, 4, 4, 4, 4, 4, 4, 4, 4,\n",
      "                                      4, 4, 4, 4, 4, 4, 4, 4, 4, 4, 4, 4, 4, 4,\n",
      "                                      4, 4, 4, 4, 4, 4, 4, 4, 4, 4, 4, 4, 4, 4,\n",
      "                                      4, 4, 4, 4, 4, 4, 4, 4, 4, 4, 4, 4, 4, 4,\n",
      "                                      4, 4],\n",
      "                            'isDay': [ False, False, False, False, False, False,\n",
      "                                       False, False, False, False, False, True,\n",
      "                                       True, True, True, True, False, False,\n",
      "                                       False, False, False, False, False, False,\n",
      "                                       False, False, False, False, False, False,\n",
      "                                       False, False, True, True, True, True,\n",
      "                                       True, True, True, True, False, False,\n",
      "                                       False, False, False, False, False, False,\n",
      "                                       False, False, False, False, False, False,\n",
      "                                       False, False, True, True, True, True,\n",
      "                                       True, True, True, True, False, False,\n",
      "                                       False, False, False, False, False, False,\n",
      "                                       False],\n",
      "                            'precipitationProbablity': None,\n",
      "                            'precipitationProbablityIndex': None,\n",
      "                            'precipitationTotal': [ 32767, 32767, 32767, 32767,\n",
      "                                                    32767, 32767, 32767, 32767,\n",
      "                                                    32767, 32767, 32767, 0, 0,\n",
      "                                                    0, 0, 0, 0, 0, 0, 0, 0, 0,\n",
      "                                                    0, 0, 0, 0, 0, 0, 0, 0, 0,\n",
      "                                                    0, 0, 0, 0, 0, 0, 0, 0, 0,\n",
      "                                                    0, 0, 0, 0, 0, 0, 0, 0, 0,\n",
      "                                                    0, 0, 0, 0, 0, 0, 0, 0, 0,\n",
      "                                                    0, 0, 0, 0, 0, 0, 0, 0, 0,\n",
      "                                                    0, 0, 0, 0, 0, 0],\n",
      "                            'start': 1669762800000,\n",
      "                            'stationId': '12495',\n",
      "                            'surfacePressure': [ 10302, 10301, 10303, 10302,\n",
      "                                                 10303, 10303, 10304, 10305,\n",
      "                                                 10307, 10309, 10311, 10312,\n",
      "                                                 10313, 10314, 10313, 10312,\n",
      "                                                 10310, 10310, 10307, 10307,\n",
      "                                                 10309, 10310, 10311, 10312,\n",
      "                                                 10311, 10308, 10307, 10307,\n",
      "                                                 10308, 10306, 10306, 10305,\n",
      "                                                 10305, 10303, 10303, 10302,\n",
      "                                                 10301, 10297, 10297, 10297,\n",
      "                                                 10296, 10296, 10295, 10295,\n",
      "                                                 10295, 10295, 10295, 10294,\n",
      "                                                 10292, 10290, 10290, 10289,\n",
      "                                                 10289, 10291, 10292, 10292,\n",
      "                                                 10293, 10293, 10294, 10294,\n",
      "                                                 10294, 10294],\n",
      "                            'temperature': [ 32767, 0, 32767, 32767, 32767,\n",
      "                                             32767, 32767, 2, 32767, 32767,\n",
      "                                             32767, 32767, 5, 5, 5, 4, 4, 4, 5,\n",
      "                                             5, 3, 3, 2, 1, 1, -1, -2, -2, -4,\n",
      "                                             -5, -5, -6, -9, -10, -11, -12, -10,\n",
      "                                             -10, -10, -12, -14, -16, -20, -21,\n",
      "                                             -23, -24, -26, -28, -30, -35, -36,\n",
      "                                             -38, -38, -39, -40, -39, -36, -34,\n",
      "                                             -31, -28, -26, -24, -22, -23, -25,\n",
      "                                             -25, -27, -29, -27, -28, -29, -28,\n",
      "                                             -30, -28, -28, -29, -31, -31, -32,\n",
      "                                             -32, -31, -27, -25, -21, -17, -15,\n",
      "                                             -11, -11, -13, -14, -16, -17, -19,\n",
      "                                             -19, -20, -23, -23, -25, -24, -25,\n",
      "                                             -25, -24, -25, -24, -22, -18, -15,\n",
      "                                             -9, -3, 1, 3, 3, 0, -2, -4, -5, -6,\n",
      "                                             -5, -6, -4, -5, -6, -6, -7, -7, -7,\n",
      "                                             -8, -6, -5, -2, 0, 3, 7, 9, 8, 4,\n",
      "                                             0, -3, -8, -9, -10, -11, -13, -13,\n",
      "                                             -14, -15, -16, -16, -18, -18, -20,\n",
      "                                             -20, -21, -20, -17, -16, -15, -12,\n",
      "                                             -9, -11, -12, -13, -15, -17, -18,\n",
      "                                             -19, -20, -21, -21, -21, -19, -19,\n",
      "                                             -19, -19, -19, -18, -16, -14, -11,\n",
      "                                             -8, -4, 1, 3, 3, 1, -2, -1, -2, -3,\n",
      "                                             -5, -5, -8, -9, -10, -9, -8, -9,\n",
      "                                             -10, -9, -9, -8, -7, -3, 3, 6, 8,\n",
      "                                             12, 11, 8, 5, 1, -1, -2, -4, -5,\n",
      "                                             -6, -7, -7, -8, -9, -9, -9, -10,\n",
      "                                             -9, -7, -3, 3, 7, 13, 18, 16, 15,\n",
      "                                             13, 10, 7, 6, 6, 2, 0, 1, -1, -1],\n",
      "                            'temperatureStd': [ 0, 0, 0, 0, 0, 0, 0, 0, 0, 0, 0,\n",
      "                                                0, 9, 9, 9, 9, 9, 9, 9, 10, 11,\n",
      "                                                10, 11, 9, 9, 10, 10, 11, 11,\n",
      "                                                10, 10, 10, 10, 12, 12, 11, 12,\n",
      "                                                12, 13, 13, 13, 13, 14, 15, 14,\n",
      "                                                17, 17, 17, 18, 16, 16, 17, 17,\n",
      "                                                16, 16, 15, 15, 16, 14, 14, 14,\n",
      "                                                14, 14, 13, 12, 13, 14, 14, 15,\n",
      "                                                14, 14, 13, 14, 14, 14, 14, 14,\n",
      "                                                14, 14, 14, 15, 15, 15, 14, 14,\n",
      "                                                14, 14, 14, 14, 13, 14, 14, 14,\n",
      "                                                14, 14, 14, 14, 14, 14, 14, 15,\n",
      "                                                14, 15, 15, 14, 15, 14, 14, 15,\n",
      "                                                15, 16, 16, 15, 15, 15, 14, 14,\n",
      "                                                14, 14, 14, 14, 16, 13, 16, 16,\n",
      "                                                16, 15, 16, 16, 16, 15, 14, 14,\n",
      "                                                15, 15, 16, 15, 14, 15, 15, 15,\n",
      "                                                15, 16, 16, 16, 16, 17, 16, 18,\n",
      "                                                17, 16, 15, 17, 16, 16, 18, 17,\n",
      "                                                18, 18, 18, 17, 17, 17, 17, 17,\n",
      "                                                17, 18, 18, 19, 19, 20, 20, 20,\n",
      "                                                20, 20, 20, 21, 20, 20, 19, 20,\n",
      "                                                20, 20, 20, 20, 20, 20, 20, 20,\n",
      "                                                20, 20, 20, 20, 20, 20, 20, 20,\n",
      "                                                20, 20, 21, 21, 21, 21, 20, 23,\n",
      "                                                23, 23, 23, 23, 23, 23, 23, 23,\n",
      "                                                23, 24, 23, 23, 23, 21, 20, 20,\n",
      "                                                20, 20, 20, 18, 18, 18, 18, 16,\n",
      "                                                16, 16, 17, 17, 17, 17, 17, 17,\n",
      "                                                17, 17, 18, 18, 18],\n",
      "                            'timeStep': 3600000,\n",
      "                            'windDirection': None,\n",
      "                            'windGust': None,\n",
      "                            'windSpeed': None},\n",
      "             'forecast2': { 'dewPoint2m': [ -49, -49, -41, -31, -27, -30, -31,\n",
      "                                            -30, -29, -30, -19, -8, -6, -10,\n",
      "                                            -11, -12, -13, -13, -11, -5, -8,\n",
      "                                            -11, -13, -15, -18, -20, -19, -17,\n",
      "                                            -16, -20, -22, -22, -21, -18, -15,\n",
      "                                            -7, -7, -10, -10, -10, -9, -9, -6,\n",
      "                                            -1, -2, -4, -5, -9, -9, -9, -3, 2,\n",
      "                                            2, -1, 0, -1],\n",
      "                            'humidity': [ 874, 880, 887, 888, 902, 908, 922,\n",
      "                                          964, 971, 956, 971, 937, 957, 964,\n",
      "                                          964, 957, 957, 950, 923, 904, 943,\n",
      "                                          985, 1000, 1000, 1000, 1000, 985, 964,\n",
      "                                          971, 978, 985, 993, 985, 1000, 971,\n",
      "                                          943, 943, 943, 964, 1000, 1000, 1000,\n",
      "                                          978, 937, 930, 978, 1000, 985, 1000,\n",
      "                                          1000, 957, 891, 924, 951, 1000,\n",
      "                                          1000],\n",
      "                            'icon': [ 14, 14, 14, 4, 4, 4, 4, 4, 4, 4, 4, 4, 4,\n",
      "                                      4, 4, 4, 4, 4, 4, 4, 4, 4, 4, 4, 4, 4, 4,\n",
      "                                      4, 4, 4, 4, 4, 4, 4, 4, 4, 4, 4, 4, 4, 4,\n",
      "                                      4, 4, 4, 4, 4, 4, 4, 4, 4, 4, 4, 4, 4, 4,\n",
      "                                      7],\n",
      "                            'isDay': [ False, False, True, True, True, False,\n",
      "                                       False, False, False, False, True, True,\n",
      "                                       True, False, False, False, False, False,\n",
      "                                       True, True, True, False, False, False,\n",
      "                                       False, False, True, True, True, False,\n",
      "                                       False, False, False, False, True, True,\n",
      "                                       True, False, False, False, False, False,\n",
      "                                       True, True, True, False, False, False,\n",
      "                                       False, False, True, True, True, False,\n",
      "                                       False, False],\n",
      "                            'precipitationProbablity': None,\n",
      "                            'precipitationProbablityIndex': None,\n",
      "                            'precipitationTotal': [ 2, 3, 3, 0, 0, 0, 0, 0, 0,\n",
      "                                                    0, 0, 0, 0, 0, 0, 0, 0, 0,\n",
      "                                                    0, 0, 0, 0, 0, 0, 0, 0, 0,\n",
      "                                                    0, 0, 0, 0, 0, 0, 0, 0, 0,\n",
      "                                                    0, 0, 0, 0, 0, 0, 0, 0, 0,\n",
      "                                                    0, 0, 0, 0, 0, 0, 0, 0, 0,\n",
      "                                                    0, 1],\n",
      "                            'start': 1670022000000,\n",
      "                            'stationId': '12495',\n",
      "                            'surfacePressure': [ 10295, 10299, 10296, 10291,\n",
      "                                                 10288, 10292, 10291, 10290,\n",
      "                                                 10285, 10287, 10290, 10282,\n",
      "                                                 10273, 10275, 10275, 10272,\n",
      "                                                 10270, 10268, 10272, 10271,\n",
      "                                                 10268, 10276, 10275, 10274,\n",
      "                                                 10269, 10264, 10258, 10248,\n",
      "                                                 10246, 10250, 10244, 10232,\n",
      "                                                 10220, 10197, 10196, 10186,\n",
      "                                                 10170, 10166, 10155, 10146,\n",
      "                                                 10141, 10135, 10132, 10127,\n",
      "                                                 10118, 10105, 10114, 10113,\n",
      "                                                 10096, 10105, 10115, 10107,\n",
      "                                                 10099, 10096, 10093, 10096],\n",
      "                            'temperature': [],\n",
      "                            'temperatureStd': [],\n",
      "                            'timeStep': 10800000,\n",
      "                            'windDirection': None,\n",
      "                            'windGust': None,\n",
      "                            'windSpeed': None},\n",
      "             'forecastStart': None,\n",
      "             'threeHourSummaries': None,\n",
      "             'warnings': []}}\n"
     ]
    }
   ],
   "source": [
    "import urllib.request\n",
    "import json\n",
    "import pprint\n",
    "\n",
    "stationID='12495' # Rostock-Hansaviertel\n",
    "with urllib.request.urlopen(f'https://dwd.api.proxy.bund.dev/v30/stationOverviewExtended?stationIds={stationID}') as f:\n",
    "    data=f.read() # Dies gibt uns ein binären Datentyp zurück\n",
    "    wetter=json.loads(data) # Wir konvertieren den binären Datentyp in ein dict\n",
    "    pprint.pprint(wetter, indent=2, compact=True)"
   ]
  },
  {
   "cell_type": "markdown",
   "metadata": {},
   "source": [
    "<!-- Einen eigenen Webserver können wir mit dem Paket `http.server` starten.\n",
    "\n",
    "import http.server as server\n",
    "\n",
    "server_object = server.HTTPServer(server_address=('', 80), \tRequestHandlerClass=server.CGIHTTPRequestHandler)\n",
    "\n",
    "server_object.serve_forever()\n",
    "\n",
    "-->"
   ]
  },
  {
   "cell_type": "markdown",
   "metadata": {},
   "source": [
    "## Externe Pakete installieren und importieren"
   ]
  },
  {
   "cell_type": "markdown",
   "metadata": {},
   "source": [
    "Die Stärke von Python ist allerdings die riesige Auswahl an vorhandenen Paketen. Für die meisten Anwendungszwecke gibt es entsprechende Python Packages. Ein solches Verzeichnis is [PyPi](https://pypi.org/) das über 400.000 Pakete listet."
   ]
  },
  {
   "cell_type": "markdown",
   "metadata": {},
   "source": [
    "Die Installation neuer Pakete für Python ist einfach. Hierfür öffnet man ein Terminal (Kommandozeile) und gibt den Befehl `pip install <packetname>` ein. \n",
    "\n",
    "Zum Beispiel wollen wir die eben geladenen Wetterdaten anzeigen. Hierfür nutzen wir:\n",
    "- zuerst das Paket `pandas` zum Erzeugen einer Tabelle aus den Wetterdaten. \n",
    "- dann nutzen wir das Paket `plotly` zum Zeichnen eines Diagramms. \n",
    "- zuletzt erzeugen wir uns einen Webserver mit `dash` der uns das Diagramm immer anzeigt\n",
    "\n",
    "Alles drei installieren wir mit `pip`."
   ]
  },
  {
   "cell_type": "markdown",
   "metadata": {},
   "source": [
    "### QuickSort"
   ]
  },
  {
   "cell_type": "markdown",
   "metadata": {},
   "source": [
    "QuickSort ist ein Divide-and-Conquer-Algorithmus. Er wählt ein Element aus der Liste als zentrales Element und sortiert dann Elemente als Kleiner oder Größer in zwei Teillisten, welche weiter sortiert werden."
   ]
  },
  {
   "cell_type": "code",
   "execution_count": null,
   "metadata": {},
   "outputs": [],
   "source": [
    "def quickSort(elements):\n",
    "    less = []\n",
    "    equal = []\n",
    "    greater = []\n",
    "\n",
    "    if len(elements) > 1:\n",
    "        pivot = elements[len(elements) % 2]\n",
    "        for x in elements:\n",
    "            if x < pivot:\n",
    "                less.append(x)\n",
    "            elif x == pivot:\n",
    "                equal.append(x)\n",
    "            elif x > pivot:\n",
    "                greater.append(x)\n",
    "        return quickSort(less) + equal + quickSort(greater)\n",
    "    else:  # Falls nur ein oder kein Element in der list ist\n",
    "        return elements"
   ]
  },
  {
   "cell_type": "markdown",
   "metadata": {},
   "source": [
    "Das Ergebnis ist eine sortierte Liste welche neu ist und zugewiesen werden muss."
   ]
  },
  {
   "cell_type": "code",
   "execution_count": null,
   "metadata": {},
   "outputs": [
    {
     "data": {
      "text/plain": [
       "[3, 6, 9, 12, 15, 18, 21]"
      ]
     },
     "metadata": {},
     "output_type": "display_data"
    }
   ],
   "source": [
    "zahlenfolge = [12, 6, 3, 9, 18, 15, 21]\n",
    "\n",
    "zahlenfolge=quickSort(zahlenfolge)\n",
    "\n",
    "zahlenfolge"
   ]
  },
  {
   "cell_type": "code",
   "execution_count": 8,
   "metadata": {},
   "outputs": [
    {
     "name": "stdout",
     "output_type": "stream",
     "text": [
      "Requirement already satisfied: pandas in /Users/jploennigs/miniconda3/lib/python3.9/site-packages (1.4.4)\n",
      "Requirement already satisfied: plotly in /Users/jploennigs/miniconda3/lib/python3.9/site-packages (5.10.0)\n",
      "Requirement already satisfied: dash in /Users/jploennigs/miniconda3/lib/python3.9/site-packages (2.7.0)\n",
      "Requirement already satisfied: pytz>=2020.1 in /Users/jploennigs/miniconda3/lib/python3.9/site-packages (from pandas) (2022.2.1)\n",
      "Requirement already satisfied: python-dateutil>=2.8.1 in /Users/jploennigs/miniconda3/lib/python3.9/site-packages (from pandas) (2.8.2)\n",
      "Requirement already satisfied: numpy>=1.20.0 in /Users/jploennigs/miniconda3/lib/python3.9/site-packages (from pandas) (1.23.3)\n",
      "Requirement already satisfied: tenacity>=6.2.0 in /Users/jploennigs/miniconda3/lib/python3.9/site-packages (from plotly) (8.1.0)\n",
      "Requirement already satisfied: dash-table==5.0.0 in /Users/jploennigs/miniconda3/lib/python3.9/site-packages (from dash) (5.0.0)\n",
      "Requirement already satisfied: Flask>=1.0.4 in /Users/jploennigs/miniconda3/lib/python3.9/site-packages (from dash) (2.2.2)\n",
      "Requirement already satisfied: dash-core-components==2.0.0 in /Users/jploennigs/miniconda3/lib/python3.9/site-packages (from dash) (2.0.0)\n",
      "Requirement already satisfied: dash-html-components==2.0.0 in /Users/jploennigs/miniconda3/lib/python3.9/site-packages (from dash) (2.0.0)\n",
      "Requirement already satisfied: Werkzeug>=2.2.2 in /Users/jploennigs/miniconda3/lib/python3.9/site-packages (from Flask>=1.0.4->dash) (2.2.2)\n",
      "Requirement already satisfied: Jinja2>=3.0 in /Users/jploennigs/miniconda3/lib/python3.9/site-packages (from Flask>=1.0.4->dash) (3.1.2)\n",
      "Requirement already satisfied: itsdangerous>=2.0 in /Users/jploennigs/miniconda3/lib/python3.9/site-packages (from Flask>=1.0.4->dash) (2.1.2)\n",
      "Requirement already satisfied: importlib-metadata>=3.6.0 in /Users/jploennigs/miniconda3/lib/python3.9/site-packages (from Flask>=1.0.4->dash) (5.1.0)\n",
      "Requirement already satisfied: click>=8.0 in /Users/jploennigs/miniconda3/lib/python3.9/site-packages (from Flask>=1.0.4->dash) (8.0.4)\n",
      "Requirement already satisfied: zipp>=0.5 in /Users/jploennigs/miniconda3/lib/python3.9/site-packages (from importlib-metadata>=3.6.0->Flask>=1.0.4->dash) (3.8.1)\n",
      "Requirement already satisfied: MarkupSafe>=2.0 in /Users/jploennigs/miniconda3/lib/python3.9/site-packages (from Jinja2>=3.0->Flask>=1.0.4->dash) (2.1.1)\n",
      "Requirement already satisfied: six>=1.5 in /Users/jploennigs/miniconda3/lib/python3.9/site-packages (from python-dateutil>=2.8.1->pandas) (1.16.0)\n",
      "Note: you may need to restart the kernel to use updated packages.\n"
     ]
    }
   ],
   "source": [
    "pip install pandas plotly dash"
   ]
  },
  {
   "cell_type": "markdown",
   "metadata": {},
   "source": [
    "Jetzt laden wir beide Pakete, wobei man üblicher Weise `pandas` die Abkürzung `pd` zuweist und Plotly Express, welches einfach zu bedienen ist, die Abkürzung `px`."
   ]
  },
  {
   "cell_type": "code",
   "execution_count": 9,
   "metadata": {},
   "outputs": [],
   "source": [
    "import pandas as pd\n",
    "import plotly.express as px\n",
    "import dash"
   ]
  },
  {
   "cell_type": "markdown",
   "metadata": {},
   "source": [
    "Nun wandeln wir die tageweise Wettervorhersage `days` der Daten von der Wetterstation mit der `stationID` zuerst in eine Tabelle um, da diese von Plotly express verarbeitet werden kann. Tabellen heißen in Pandas DataFrames (allgemein werden so Tabellen in der Data Science genannt). Wir erzeugen also aus der Wettervorhersage ein neue Objektinstanz vom Typ `DataFrame` via"
   ]
  },
  {
   "cell_type": "code",
   "execution_count": 10,
   "metadata": {},
   "outputs": [
    {
     "data": {
      "text/html": [
       "<div>\n",
       "<style scoped>\n",
       "    .dataframe tbody tr th:only-of-type {\n",
       "        vertical-align: middle;\n",
       "    }\n",
       "\n",
       "    .dataframe tbody tr th {\n",
       "        vertical-align: top;\n",
       "    }\n",
       "\n",
       "    .dataframe thead th {\n",
       "        text-align: right;\n",
       "    }\n",
       "</style>\n",
       "<table border=\"1\" class=\"dataframe\">\n",
       "  <thead>\n",
       "    <tr style=\"text-align: right;\">\n",
       "      <th></th>\n",
       "      <th>stationId</th>\n",
       "      <th>dayDate</th>\n",
       "      <th>temperatureMin</th>\n",
       "      <th>temperatureMax</th>\n",
       "      <th>icon</th>\n",
       "      <th>icon1</th>\n",
       "      <th>icon2</th>\n",
       "      <th>precipitation</th>\n",
       "      <th>windSpeed</th>\n",
       "      <th>windGust</th>\n",
       "      <th>windDirection</th>\n",
       "      <th>sunshine</th>\n",
       "      <th>sunrise</th>\n",
       "      <th>sunset</th>\n",
       "      <th>moonrise</th>\n",
       "      <th>moonset</th>\n",
       "      <th>moonPhase</th>\n",
       "    </tr>\n",
       "  </thead>\n",
       "  <tbody>\n",
       "    <tr>\n",
       "      <th>0</th>\n",
       "      <td>None</td>\n",
       "      <td>2022-11-30</td>\n",
       "      <td>-8</td>\n",
       "      <td>6</td>\n",
       "      <td>4</td>\n",
       "      <td>None</td>\n",
       "      <td>None</td>\n",
       "      <td>0</td>\n",
       "      <td>74</td>\n",
       "      <td>204</td>\n",
       "      <td>1000</td>\n",
       "      <td>0</td>\n",
       "      <td>1669788650000</td>\n",
       "      <td>1669818431000</td>\n",
       "      <td>1669808688000</td>\n",
       "      <td>1669845431000</td>\n",
       "      <td>1</td>\n",
       "    </tr>\n",
       "    <tr>\n",
       "      <th>1</th>\n",
       "      <td>None</td>\n",
       "      <td>2022-12-01</td>\n",
       "      <td>-33</td>\n",
       "      <td>-2</td>\n",
       "      <td>4</td>\n",
       "      <td>None</td>\n",
       "      <td>None</td>\n",
       "      <td>0</td>\n",
       "      <td>74</td>\n",
       "      <td>204</td>\n",
       "      <td>580</td>\n",
       "      <td>0</td>\n",
       "      <td>1669875134000</td>\n",
       "      <td>1669904792000</td>\n",
       "      <td>1669895999000</td>\n",
       "      <td>1669936688000</td>\n",
       "      <td>2</td>\n",
       "    </tr>\n",
       "    <tr>\n",
       "      <th>2</th>\n",
       "      <td>None</td>\n",
       "      <td>2022-12-02</td>\n",
       "      <td>-40</td>\n",
       "      <td>-24</td>\n",
       "      <td>4</td>\n",
       "      <td>None</td>\n",
       "      <td>None</td>\n",
       "      <td>1</td>\n",
       "      <td>74</td>\n",
       "      <td>204</td>\n",
       "      <td>710</td>\n",
       "      <td>0</td>\n",
       "      <td>1669961617000</td>\n",
       "      <td>1669991156000</td>\n",
       "      <td>1669983204000</td>\n",
       "      <td>1670027777000</td>\n",
       "      <td>2</td>\n",
       "    </tr>\n",
       "    <tr>\n",
       "      <th>3</th>\n",
       "      <td>None</td>\n",
       "      <td>2022-12-03</td>\n",
       "      <td>-32</td>\n",
       "      <td>-13</td>\n",
       "      <td>14</td>\n",
       "      <td>None</td>\n",
       "      <td>None</td>\n",
       "      <td>9</td>\n",
       "      <td>93</td>\n",
       "      <td>204</td>\n",
       "      <td>1050</td>\n",
       "      <td>0</td>\n",
       "      <td>1670048098000</td>\n",
       "      <td>1670077523000</td>\n",
       "      <td>1670070373000</td>\n",
       "      <td>1670027777000</td>\n",
       "      <td>2</td>\n",
       "    </tr>\n",
       "    <tr>\n",
       "      <th>4</th>\n",
       "      <td>None</td>\n",
       "      <td>2022-12-04</td>\n",
       "      <td>-26</td>\n",
       "      <td>0</td>\n",
       "      <td>4</td>\n",
       "      <td>None</td>\n",
       "      <td>None</td>\n",
       "      <td>0</td>\n",
       "      <td>130</td>\n",
       "      <td>296</td>\n",
       "      <td>1180</td>\n",
       "      <td>0</td>\n",
       "      <td>1670134577000</td>\n",
       "      <td>1670163894000</td>\n",
       "      <td>1670157577000</td>\n",
       "      <td>1670118778000</td>\n",
       "      <td>3</td>\n",
       "    </tr>\n",
       "    <tr>\n",
       "      <th>5</th>\n",
       "      <td>None</td>\n",
       "      <td>2022-12-05</td>\n",
       "      <td>-10</td>\n",
       "      <td>3</td>\n",
       "      <td>4</td>\n",
       "      <td>None</td>\n",
       "      <td>None</td>\n",
       "      <td>0</td>\n",
       "      <td>148</td>\n",
       "      <td>333</td>\n",
       "      <td>1250</td>\n",
       "      <td>0</td>\n",
       "      <td>1670221053000</td>\n",
       "      <td>1670250268000</td>\n",
       "      <td>1670244887000</td>\n",
       "      <td>1670209767000</td>\n",
       "      <td>3</td>\n",
       "    </tr>\n",
       "    <tr>\n",
       "      <th>6</th>\n",
       "      <td>None</td>\n",
       "      <td>2022-12-06</td>\n",
       "      <td>-22</td>\n",
       "      <td>1</td>\n",
       "      <td>4</td>\n",
       "      <td>None</td>\n",
       "      <td>None</td>\n",
       "      <td>0</td>\n",
       "      <td>111</td>\n",
       "      <td>296</td>\n",
       "      <td>1120</td>\n",
       "      <td>0</td>\n",
       "      <td>1670307528000</td>\n",
       "      <td>1670336645000</td>\n",
       "      <td>1670332412000</td>\n",
       "      <td>1670300765000</td>\n",
       "      <td>3</td>\n",
       "    </tr>\n",
       "    <tr>\n",
       "      <th>7</th>\n",
       "      <td>None</td>\n",
       "      <td>2022-12-07</td>\n",
       "      <td>-30</td>\n",
       "      <td>-8</td>\n",
       "      <td>4</td>\n",
       "      <td>None</td>\n",
       "      <td>None</td>\n",
       "      <td>0</td>\n",
       "      <td>130</td>\n",
       "      <td>296</td>\n",
       "      <td>650</td>\n",
       "      <td>0</td>\n",
       "      <td>1670394000000</td>\n",
       "      <td>1670423025000</td>\n",
       "      <td>1670420273000</td>\n",
       "      <td>1670391695000</td>\n",
       "      <td>3</td>\n",
       "    </tr>\n",
       "    <tr>\n",
       "      <th>8</th>\n",
       "      <td>None</td>\n",
       "      <td>2022-12-08</td>\n",
       "      <td>-36</td>\n",
       "      <td>-13</td>\n",
       "      <td>4</td>\n",
       "      <td>None</td>\n",
       "      <td>None</td>\n",
       "      <td>1</td>\n",
       "      <td>148</td>\n",
       "      <td>352</td>\n",
       "      <td>1760</td>\n",
       "      <td>0</td>\n",
       "      <td>1670480470000</td>\n",
       "      <td>1670509408000</td>\n",
       "      <td>1670508609000</td>\n",
       "      <td>1670482391000</td>\n",
       "      <td>4</td>\n",
       "    </tr>\n",
       "    <tr>\n",
       "      <th>9</th>\n",
       "      <td>None</td>\n",
       "      <td>2022-12-09</td>\n",
       "      <td>-37</td>\n",
       "      <td>-11</td>\n",
       "      <td>4</td>\n",
       "      <td>None</td>\n",
       "      <td>None</td>\n",
       "      <td>0</td>\n",
       "      <td>130</td>\n",
       "      <td>333</td>\n",
       "      <td>2250</td>\n",
       "      <td>0</td>\n",
       "      <td>1670566938000</td>\n",
       "      <td>1670595795000</td>\n",
       "      <td>1670597587000</td>\n",
       "      <td>1670572614000</td>\n",
       "      <td>4</td>\n",
       "    </tr>\n",
       "  </tbody>\n",
       "</table>\n",
       "</div>"
      ],
      "text/plain": [
       "  stationId     dayDate  temperatureMin  temperatureMax  icon icon1 icon2  \\\n",
       "0      None  2022-11-30              -8               6     4  None  None   \n",
       "1      None  2022-12-01             -33              -2     4  None  None   \n",
       "2      None  2022-12-02             -40             -24     4  None  None   \n",
       "3      None  2022-12-03             -32             -13    14  None  None   \n",
       "4      None  2022-12-04             -26               0     4  None  None   \n",
       "5      None  2022-12-05             -10               3     4  None  None   \n",
       "6      None  2022-12-06             -22               1     4  None  None   \n",
       "7      None  2022-12-07             -30              -8     4  None  None   \n",
       "8      None  2022-12-08             -36             -13     4  None  None   \n",
       "9      None  2022-12-09             -37             -11     4  None  None   \n",
       "\n",
       "   precipitation  windSpeed  windGust  windDirection  sunshine        sunrise  \\\n",
       "0              0         74       204           1000         0  1669788650000   \n",
       "1              0         74       204            580         0  1669875134000   \n",
       "2              1         74       204            710         0  1669961617000   \n",
       "3              9         93       204           1050         0  1670048098000   \n",
       "4              0        130       296           1180         0  1670134577000   \n",
       "5              0        148       333           1250         0  1670221053000   \n",
       "6              0        111       296           1120         0  1670307528000   \n",
       "7              0        130       296            650         0  1670394000000   \n",
       "8              1        148       352           1760         0  1670480470000   \n",
       "9              0        130       333           2250         0  1670566938000   \n",
       "\n",
       "          sunset       moonrise        moonset  moonPhase  \n",
       "0  1669818431000  1669808688000  1669845431000          1  \n",
       "1  1669904792000  1669895999000  1669936688000          2  \n",
       "2  1669991156000  1669983204000  1670027777000          2  \n",
       "3  1670077523000  1670070373000  1670027777000          2  \n",
       "4  1670163894000  1670157577000  1670118778000          3  \n",
       "5  1670250268000  1670244887000  1670209767000          3  \n",
       "6  1670336645000  1670332412000  1670300765000          3  \n",
       "7  1670423025000  1670420273000  1670391695000          3  \n",
       "8  1670509408000  1670508609000  1670482391000          4  \n",
       "9  1670595795000  1670597587000  1670572614000          4  "
      ]
     },
     "execution_count": 10,
     "metadata": {},
     "output_type": "execute_result"
    }
   ],
   "source": [
    "df = pd.DataFrame(wetter[stationID]['days'])\n",
    "df"
   ]
  },
  {
   "cell_type": "markdown",
   "metadata": {},
   "source": [
    "Nun plotten wir die Daten `df` als LinienDiagramm mit Hilfe von Plotly wobei wir als `x`-Axe das Datum wählen (`dayDate`) und als `y`-Axe die minimale Temperatur `temperatureMin` und maximale Temperatur `temperatureMax`."
   ]
  },
  {
   "cell_type": "code",
   "execution_count": 11,
   "metadata": {},
   "outputs": [
    {
     "data": {
      "image/svg+xml": "<svg class=\"main-svg\" xmlns=\"http://www.w3.org/2000/svg\" xmlns:xlink=\"http://www.w3.org/1999/xlink\" width=\"700\" height=\"500\" style=\"\" viewBox=\"0 0 700 500\"><rect x=\"0\" y=\"0\" width=\"700\" height=\"500\" style=\"fill: rgb(255, 255, 255); fill-opacity: 1;\"/><defs id=\"defs-817bbf\"><g class=\"clips\"><clipPath id=\"clip817bbfxyplot\" class=\"plotclip\"><rect width=\"454\" height=\"360\"/></clipPath><clipPath class=\"axesclip\" id=\"clip817bbfx\"><rect x=\"80\" y=\"0\" width=\"454\" height=\"500\"/></clipPath><clipPath class=\"axesclip\" id=\"clip817bbfy\"><rect x=\"0\" y=\"60\" width=\"700\" height=\"360\"/></clipPath><clipPath class=\"axesclip\" id=\"clip817bbfxy\"><rect x=\"80\" y=\"60\" width=\"454\" height=\"360\"/></clipPath></g><g class=\"gradients\"/><g class=\"patterns\"/></defs><g class=\"bglayer\"><rect class=\"bg\" x=\"80\" y=\"60\" width=\"454\" height=\"360\" style=\"fill: rgb(229, 236, 246); fill-opacity: 1; stroke-width: 0;\"/></g><g class=\"layer-below\"><g class=\"imagelayer\"/><g class=\"shapelayer\"/></g><g class=\"cartesianlayer\"><g class=\"subplot xy\"><g class=\"layer-subplot\"><g class=\"shapelayer\"/><g class=\"imagelayer\"/></g><g class=\"minor-gridlayer\"><g class=\"x\"/><g class=\"y\"/></g><g class=\"gridlayer\"><g class=\"x\"><path class=\"xgrid crisp\" transform=\"translate(180.89,0)\" d=\"M0,60v360\" style=\"stroke: rgb(255, 255, 255); stroke-opacity: 1; stroke-width: 1px;\"/><path class=\"xgrid crisp\" transform=\"translate(281.78,0)\" d=\"M0,60v360\" style=\"stroke: rgb(255, 255, 255); stroke-opacity: 1; stroke-width: 1px;\"/><path class=\"xgrid crisp\" transform=\"translate(382.67,0)\" d=\"M0,60v360\" style=\"stroke: rgb(255, 255, 255); stroke-opacity: 1; stroke-width: 1px;\"/><path class=\"xgrid crisp\" transform=\"translate(483.56,0)\" d=\"M0,60v360\" style=\"stroke: rgb(255, 255, 255); stroke-opacity: 1; stroke-width: 1px;\"/></g><g class=\"y\"><path class=\"ygrid crisp\" transform=\"translate(0,402)\" d=\"M80,0h454\" style=\"stroke: rgb(255, 255, 255); stroke-opacity: 1; stroke-width: 1px;\"/><path class=\"ygrid crisp\" transform=\"translate(0,331.57)\" d=\"M80,0h454\" style=\"stroke: rgb(255, 255, 255); stroke-opacity: 1; stroke-width: 1px;\"/><path class=\"ygrid crisp\" transform=\"translate(0,261.13)\" d=\"M80,0h454\" style=\"stroke: rgb(255, 255, 255); stroke-opacity: 1; stroke-width: 1px;\"/><path class=\"ygrid crisp\" transform=\"translate(0,190.7)\" d=\"M80,0h454\" style=\"stroke: rgb(255, 255, 255); stroke-opacity: 1; stroke-width: 1px;\"/></g></g><g class=\"zerolinelayer\"><path class=\"yzl zl crisp\" transform=\"translate(0,120.25999999999999)\" d=\"M80,0h454\" style=\"stroke: rgb(255, 255, 255); stroke-opacity: 1; stroke-width: 2px;\"/></g><path class=\"xlines-below\"/><path class=\"ylines-below\"/><g class=\"overlines-below\"/><g class=\"xaxislayer-below\"/><g class=\"yaxislayer-below\"/><g class=\"overaxes-below\"/><g class=\"plot\" transform=\"translate(80,60)\" clip-path=\"url(#clip817bbfxyplot)\"><g class=\"scatterlayer mlayer\"><g class=\"trace scatter traceb7806d\" style=\"stroke-miterlimit: 2; opacity: 1;\"><g class=\"fills\"/><g class=\"errorbars\"/><g class=\"lines\"><path class=\"js-line\" d=\"M0,116.61L50.44,292.7L100.89,342L151.33,285.65L201.78,243.39L252.22,130.7L302.67,215.22L353.11,271.57L403.56,313.83L454,320.87\" style=\"vector-effect: non-scaling-stroke; fill: none; stroke: rgb(99, 110, 250); stroke-opacity: 1; stroke-width: 2px; opacity: 1;\"/></g><g class=\"points\"/><g class=\"text\"/></g><g class=\"trace scatter trace67bcdc\" style=\"stroke-miterlimit: 2; opacity: 1;\"><g class=\"fills\"/><g class=\"errorbars\"/><g class=\"lines\"><path class=\"js-line\" d=\"M0,18L50.44,74.35L100.89,229.3L151.33,151.83L201.78,60.26L252.22,39.13L302.67,53.22L353.11,116.61L403.56,151.83L454,137.74\" style=\"vector-effect: non-scaling-stroke; fill: none; stroke: rgb(239, 85, 59); stroke-opacity: 1; stroke-width: 2px; opacity: 1;\"/></g><g class=\"points\"/><g class=\"text\"/></g></g></g><g class=\"overplot\"/><path class=\"xlines-above crisp\" d=\"M0,0\" style=\"fill: none;\"/><path class=\"ylines-above crisp\" d=\"M0,0\" style=\"fill: none;\"/><g class=\"overlines-above\"/><g class=\"xaxislayer-above\"><g class=\"xtick\"><text text-anchor=\"middle\" x=\"0\" y=\"433\" transform=\"translate(80,0)\" style=\"font-family: 'Open Sans', verdana, arial, sans-serif; font-size: 12px; fill: rgb(42, 63, 95); fill-opacity: 1; white-space: pre; opacity: 1;\"><tspan class=\"line\" dy=\"0em\" x=\"0\" y=\"433\">Nov 30</tspan><tspan class=\"line\" dy=\"1.3em\" x=\"0\" y=\"433\">2022</tspan></text></g><g class=\"xtick\"><text text-anchor=\"middle\" x=\"0\" y=\"433\" style=\"font-family: 'Open Sans', verdana, arial, sans-serif; font-size: 12px; fill: rgb(42, 63, 95); fill-opacity: 1; white-space: pre; opacity: 1;\" transform=\"translate(180.89,0)\">Dec 2</text></g><g class=\"xtick\"><text text-anchor=\"middle\" x=\"0\" y=\"433\" style=\"font-family: 'Open Sans', verdana, arial, sans-serif; font-size: 12px; fill: rgb(42, 63, 95); fill-opacity: 1; white-space: pre; opacity: 1;\" transform=\"translate(281.78,0)\">Dec 4</text></g><g class=\"xtick\"><text text-anchor=\"middle\" x=\"0\" y=\"433\" style=\"font-family: 'Open Sans', verdana, arial, sans-serif; font-size: 12px; fill: rgb(42, 63, 95); fill-opacity: 1; white-space: pre; opacity: 1;\" transform=\"translate(382.67,0)\">Dec 6</text></g><g class=\"xtick\"><text text-anchor=\"middle\" x=\"0\" y=\"433\" style=\"font-family: 'Open Sans', verdana, arial, sans-serif; font-size: 12px; fill: rgb(42, 63, 95); fill-opacity: 1; white-space: pre; opacity: 1;\" transform=\"translate(483.56,0)\">Dec 8</text></g></g><g class=\"yaxislayer-above\"><g class=\"ytick\"><text text-anchor=\"end\" x=\"79\" y=\"4.199999999999999\" transform=\"translate(0,402)\" style=\"font-family: 'Open Sans', verdana, arial, sans-serif; font-size: 12px; fill: rgb(42, 63, 95); fill-opacity: 1; white-space: pre; opacity: 1;\">−40</text></g><g class=\"ytick\"><text text-anchor=\"end\" x=\"79\" y=\"4.199999999999999\" style=\"font-family: 'Open Sans', verdana, arial, sans-serif; font-size: 12px; fill: rgb(42, 63, 95); fill-opacity: 1; white-space: pre; opacity: 1;\" transform=\"translate(0,331.57)\">−30</text></g><g class=\"ytick\"><text text-anchor=\"end\" x=\"79\" y=\"4.199999999999999\" style=\"font-family: 'Open Sans', verdana, arial, sans-serif; font-size: 12px; fill: rgb(42, 63, 95); fill-opacity: 1; white-space: pre; opacity: 1;\" transform=\"translate(0,261.13)\">−20</text></g><g class=\"ytick\"><text text-anchor=\"end\" x=\"79\" y=\"4.199999999999999\" style=\"font-family: 'Open Sans', verdana, arial, sans-serif; font-size: 12px; fill: rgb(42, 63, 95); fill-opacity: 1; white-space: pre; opacity: 1;\" transform=\"translate(0,190.7)\">−10</text></g><g class=\"ytick\"><text text-anchor=\"end\" x=\"79\" y=\"4.199999999999999\" style=\"font-family: 'Open Sans', verdana, arial, sans-serif; font-size: 12px; fill: rgb(42, 63, 95); fill-opacity: 1; white-space: pre; opacity: 1;\" transform=\"translate(0,120.25999999999999)\">0</text></g></g><g class=\"overaxes-above\"/></g></g><g class=\"polarlayer\"/><g class=\"smithlayer\"/><g class=\"ternarylayer\"/><g class=\"geolayer\"/><g class=\"funnelarealayer\"/><g class=\"pielayer\"/><g class=\"iciclelayer\"/><g class=\"treemaplayer\"/><g class=\"sunburstlayer\"/><g class=\"glimages\"/><defs id=\"topdefs-817bbf\"><g class=\"clips\"/><clipPath id=\"legend817bbf\"><rect width=\"145\" height=\"67\" x=\"0\" y=\"0\"/></clipPath></defs><g class=\"layer-above\"><g class=\"imagelayer\"/><g class=\"shapelayer\"/></g><g class=\"infolayer\"><g class=\"legend\" pointer-events=\"all\" transform=\"translate(543.0799999999999,60)\"><rect class=\"bg\" shape-rendering=\"crispEdges\" style=\"stroke: rgb(68, 68, 68); stroke-opacity: 1; fill: rgb(255, 255, 255); fill-opacity: 1; stroke-width: 0px;\" width=\"145\" height=\"67\" x=\"0\" y=\"0\"/><g class=\"scrollbox\" transform=\"\" clip-path=\"url(#legend817bbf)\"><text class=\"legendtitletext\" text-anchor=\"start\" x=\"2\" y=\"18.2\" style=\"font-family: 'Open Sans', verdana, arial, sans-serif; font-size: 14px; fill: rgb(42, 63, 95); fill-opacity: 1; white-space: pre;\">variable</text><g class=\"groups\" transform=\"\"><g class=\"traces\" transform=\"translate(0,32.7)\" style=\"opacity: 1;\"><text class=\"legendtext\" text-anchor=\"start\" x=\"40\" y=\"4.680000000000001\" style=\"font-family: 'Open Sans', verdana, arial, sans-serif; font-size: 12px; fill: rgb(42, 63, 95); fill-opacity: 1; white-space: pre;\">temperatureMin</text><g class=\"layers\" style=\"opacity: 1;\"><g class=\"legendfill\"/><g class=\"legendlines\"><path class=\"js-line\" d=\"M5,0h30\" style=\"fill: none; stroke: rgb(99, 110, 250); stroke-opacity: 1; stroke-width: 2px;\"/></g><g class=\"legendsymbols\"><g class=\"legendpoints\"/></g></g><rect class=\"legendtoggle\" x=\"0\" y=\"-9.5\" width=\"139.515625\" height=\"19\" style=\"fill: rgb(0, 0, 0); fill-opacity: 0;\"/></g></g><g class=\"groups\" transform=\"\"><g class=\"traces\" transform=\"translate(0,51.7)\" style=\"opacity: 1;\"><text class=\"legendtext\" text-anchor=\"start\" x=\"40\" y=\"4.680000000000001\" style=\"font-family: 'Open Sans', verdana, arial, sans-serif; font-size: 12px; fill: rgb(42, 63, 95); fill-opacity: 1; white-space: pre;\">temperatureMax</text><g class=\"layers\" style=\"opacity: 1;\"><g class=\"legendfill\"/><g class=\"legendlines\"><path class=\"js-line\" d=\"M5,0h30\" style=\"fill: none; stroke: rgb(239, 85, 59); stroke-opacity: 1; stroke-width: 2px;\"/></g><g class=\"legendsymbols\"><g class=\"legendpoints\"/></g></g><rect class=\"legendtoggle\" x=\"0\" y=\"-9.5\" width=\"139.515625\" height=\"19\" style=\"fill: rgb(0, 0, 0); fill-opacity: 0;\"/></g></g></g><rect class=\"scrollbar\" rx=\"20\" ry=\"3\" width=\"0\" height=\"0\" style=\"fill: rgb(128, 139, 164); fill-opacity: 1;\" x=\"0\" y=\"0\"/></g><g class=\"g-gtitle\"/><g class=\"g-xtitle\"><text class=\"xtitle\" x=\"307\" y=\"475.909375\" text-anchor=\"middle\" style=\"font-family: 'Open Sans', verdana, arial, sans-serif; font-size: 14px; fill: rgb(42, 63, 95); opacity: 1; font-weight: normal; white-space: pre;\">dayDate</text></g><g class=\"g-ytitle\"><text class=\"ytitle\" transform=\"rotate(-90,29.121875000000003,240)\" x=\"29.121875000000003\" y=\"240\" text-anchor=\"middle\" style=\"font-family: 'Open Sans', verdana, arial, sans-serif; font-size: 14px; fill: rgb(42, 63, 95); opacity: 1; font-weight: normal; white-space: pre;\">value</text></g></g></svg>"
     },
     "metadata": {},
     "output_type": "display_data"
    }
   ],
   "source": [
    "fig=px.line(df, x=\"dayDate\", y=[\"temperatureMin\", \"temperatureMax\"])\n",
    "fig.show('svg')"
   ]
  },
  {
   "cell_type": "markdown",
   "metadata": {},
   "source": [
    "Zuletzt wollen wir dieses Diagramm in einer Webseite auf einem Webserver anzeigen. Hier nutzen wir das Paket `dash` welches erlaubt eine Webseite mit Python-Befehlen zu erzeugen und darin interaktive Diagramme von Plotly mit anzuzeigen."
   ]
  },
  {
   "cell_type": "code",
   "execution_count": 12,
   "metadata": {},
   "outputs": [],
   "source": [
    "import dash\n",
    "\n",
    "app = dash.Dash()"
   ]
  },
  {
   "cell_type": "code",
   "execution_count": 13,
   "metadata": {
    "tags": [
     "remove-cell"
    ]
   },
   "outputs": [],
   "source": [
    "# da dies ein Jupyter Notebook ist nutzen wir eine besondere Version von Dash\n",
    "from jupyter_dash import JupyterDash\n",
    "\n",
    "app = JupyterDash()"
   ]
  },
  {
   "cell_type": "markdown",
   "metadata": {},
   "source": [
    "Dann erzeugen wir eine Webseite mit einer Überschrift (`H1`), welche den Plot als `Graph` enthält."
   ]
  },
  {
   "cell_type": "code",
   "execution_count": 14,
   "metadata": {},
   "outputs": [],
   "source": [
    "app.layout = dash.html.Div(children = [\n",
    "    dash.html.H1(children='Wetter in Rostock'),\n",
    "    dash.dcc.Graph(id=\"fare_vs_age\", figure=fig)\n",
    "])"
   ]
  },
  {
   "cell_type": "markdown",
   "metadata": {},
   "source": [
    "Und starten den Webserver."
   ]
  },
  {
   "cell_type": "code",
   "execution_count": 15,
   "metadata": {},
   "outputs": [
    {
     "name": "stdout",
     "output_type": "stream",
     "text": [
      "Dash app running on http://127.0.0.1:8083/\n"
     ]
    }
   ],
   "source": [
    "app.run_server()"
   ]
  },
  {
   "cell_type": "markdown",
   "metadata": {},
   "source": [
    "Dies startet einen Webserver auf den wir in einem Browser unter `http://127.0.0.1:8083/` zugreifen können. Er zeigt uns eine Webseite mit einem interaktiven Diagramm welches die Wetterdaten anzeigt."
   ]
  },
  {
   "cell_type": "markdown",
   "metadata": {},
   "source": [
    "![](images/wetter.png)"
   ]
  }
 ],
 "metadata": {
  "kernelspec": {
   "display_name": "Python 3.9.10 ('base')",
   "language": "python",
   "name": "python3"
  },
  "language_info": {
   "codemirror_mode": {
    "name": "ipython",
    "version": 3
   },
   "file_extension": ".py",
   "mimetype": "text/x-python",
   "name": "python",
   "nbconvert_exporter": "python",
   "pygments_lexer": "ipython3",
   "version": "3.9.10"
  },
  "orig_nbformat": 4,
  "vscode": {
   "interpreter": {
    "hash": "6d5b4c1aed727cf1aeefa5ce625efdd40a732dd8ec11ef525b58c5aca2b06a32"
   }
  }
 },
 "nbformat": 4,
 "nbformat_minor": 2
}
