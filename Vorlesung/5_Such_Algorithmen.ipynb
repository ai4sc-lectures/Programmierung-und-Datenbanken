{
 "cells": [
  {
   "cell_type": "markdown",
   "metadata": {},
   "source": [
    "# Such- und Sortieralgorithmen"
   ]
  },
  {
   "cell_type": "markdown",
   "metadata": {},
   "source": [
    "## Komplexe Datenstruktur - Bäume"
   ]
  },
  {
   "cell_type": "markdown",
   "metadata": {},
   "source": [
    "Eine weitere wichtige Komplexe (zusammengesetzte) Datenstruktur sind Bäume. Sie werden insbesondere für effizientes Suchen benutzt."
   ]
  },
  {
   "cell_type": "markdown",
   "metadata": {},
   "source": [
    "Die trivialste Repräsentation eines Baumes in Python ist mit Hilfe von Tupeln. Ein Tupel besteht dabei aus einem Wert und einer Liste an direkten Kindern. Diese Liste enthält wiedrum Tupel der gleichen Form mit jeweils einem Wert und einer Liste an Kindern. Dies ist eine rekursive Datenstruktur!\n",
    "\n",
    "Wir definieren den folgenden Baum"
   ]
  },
  {
   "cell_type": "markdown",
   "metadata": {},
   "source": [
    "[![](https://mermaid.ink/img/pako:eNptj8EKgzAQRH8l7GkDekhE0Rx68g_aYy7BrFUwKjY5FPHfm2pbKLinmXnDsrtCM1kCBffFzB271XpkcYREFJJzlqYXxgrEgvODHHrPM8TsJK4Qq2_8v0eU0ZU_9nE7E3k0-SmSAlEKziEBR4szvY3nru-iBt-RIw0qSkutCYPXoMctVk3w0_U5NqD8EiiBMFvjqe5NfNSBas3woO0FhYI-BA?type=png)](https://mermaid.live/edit#pako:eNptj8EKgzAQRH8l7GkDekhE0Rx68g_aYy7BrFUwKjY5FPHfm2pbKLinmXnDsrtCM1kCBffFzB271XpkcYREFJJzlqYXxgrEgvODHHrPM8TsJK4Qq2_8v0eU0ZU_9nE7E3k0-SmSAlEKziEBR4szvY3nru-iBt-RIw0qSkutCYPXoMctVk3w0_U5NqD8EiiBMFvjqe5NfNSBas3woO0FhYI-BA)"
   ]
  },
  {
   "cell_type": "code",
   "execution_count": 124,
   "metadata": {},
   "outputs": [],
   "source": [
    "baum_tuples = (12, [\n",
    "    (6,[\n",
    "        (3,[]),\n",
    "        (9,[])\n",
    "        ]),\n",
    "    (18,[\n",
    "        (15,[]),\n",
    "        (21,[])\n",
    "        ])\n",
    "])"
   ]
  },
  {
   "cell_type": "markdown",
   "metadata": {},
   "source": [
    "Wenn wir den Baum durchlaufen (traversen) wollen, brauchen wir rekursive Funktionen. Sie lassen sich nicht in Loops umwandeln. Die rekursiven Funktionen arbeiten dabei auf dem angegebenen Knoten und rufen sich dann selbst mit dem entsprechenden Teilbaum der Kinder auf."
   ]
  },
  {
   "cell_type": "code",
   "execution_count": 126,
   "metadata": {},
   "outputs": [],
   "source": [
    "def traverse_tuples(tree):\t\n",
    "\twert=tree[0] \t\t  \t\t\t\t# der aktuelle Wert\n",
    "\tprint(wert)  \t\t  \t\t\t\t# gebe den aktuellen Wert aus\n",
    "\tif tree[1]:  \t\t  \t\t\t\t# wenn kinder definiert sind\n",
    "\t\tfor child in tree[1]: \t\t\t# iteriere durch alle Kinder\n",
    "\t\t\ttraverse_tuples(child)\t\t# und rufe die Funktion rekursiv auf"
   ]
  },
  {
   "cell_type": "code",
   "execution_count": 127,
   "metadata": {},
   "outputs": [
    {
     "name": "stdout",
     "output_type": "stream",
     "text": [
      "12\n",
      "6\n",
      "3\n",
      "9\n",
      "18\n",
      "15\n",
      "21\n"
     ]
    }
   ],
   "source": [
    "traverse_tuples(baum_tuples)"
   ]
  },
  {
   "cell_type": "markdown",
   "metadata": {},
   "source": [
    "Wenn wir den Baum rekursiv durchlaufen (traversen), dann sehen wir, das wir den Baum von oben nach unten, links vor rechts durchlaufen. Wir fangen also beim Wurzelknoten 12 an, und gehen dann links tiefer zur 6 von dort links tiefer zur 3, dann rechts zur l, weil kein tieferes Element existiert, u.s.w."
   ]
  },
  {
   "cell_type": "markdown",
   "metadata": {},
   "source": [
    "Die Darstellung von Bäumen als Tupel ist zwar kompakt allerdings schlecht lesbar. Deshalb verwendet man meist Dictionaries bei denen man die Felder semantisch als `wert` und `kinder` bezeichnen kann. Durch Einrücken der Kinder wird die Struktur auch sichtbarer."
   ]
  },
  {
   "cell_type": "code",
   "execution_count": 128,
   "metadata": {},
   "outputs": [],
   "source": [
    "baum_dict = {\"wert\":12, \n",
    "        \"kinder\":[\n",
    "                {\"wert\":6, \n",
    "                \"kinder\":[\n",
    "                        {\"wert\":3, \"kinder\":[]},\n",
    "                        {\"wert\":9, \"kinder\":[]}\n",
    "                ]},\n",
    "                {\"wert\":18, \n",
    "                \"kinder\":[\n",
    "                        {\"wert\":15, \"kinder\":[]},\n",
    "                        {\"wert\":21, \"kinder\":[]}\n",
    "                ]}\n",
    "        ]\n",
    "}"
   ]
  },
  {
   "cell_type": "markdown",
   "metadata": {},
   "source": [
    "Dadurch wird auch die `traverse` Funktion lesbarer."
   ]
  },
  {
   "cell_type": "code",
   "execution_count": 129,
   "metadata": {},
   "outputs": [],
   "source": [
    "def traverse_dict(tree):\t\n",
    "\twert=tree[\"wert\"]     \t\t\t\t# der aktuelle Wert\n",
    "\tprint(wert)  \t\t  \t\t\t\t# gebe den aktuellen Wert aus\n",
    "\tif tree[\"kinder\"]:  \t\t\t\t# wenn kinder definiert sind\n",
    "\t\tfor child in tree[\"kinder\"]: \t# iteriere durch alle Kinder\n",
    "\t\t\ttraverse_dict(child)   \t\t\t# und rufe die Funktion rekursiv auf"
   ]
  },
  {
   "cell_type": "markdown",
   "metadata": {},
   "source": [
    "Das Ergebnis bleibt identisch."
   ]
  },
  {
   "cell_type": "code",
   "execution_count": 130,
   "metadata": {},
   "outputs": [
    {
     "name": "stdout",
     "output_type": "stream",
     "text": [
      "12\n",
      "6\n",
      "3\n",
      "9\n",
      "18\n",
      "15\n",
      "21\n"
     ]
    }
   ],
   "source": [
    "traverse_dict(baum_dict)"
   ]
  },
  {
   "cell_type": "markdown",
   "metadata": {},
   "source": [
    "## Bubble Sort"
   ]
  },
  {
   "cell_type": "markdown",
   "metadata": {},
   "source": [
    "Das Sortieren von Elementen in einer Liste ist ein übliche Aufgabe beim Programmieren. Hierfür gibt es einige Standard-Algorithmen, die man kennen sollte.\n",
    "\n",
    "Bubble Sort ist einer der einfachsten Sortieralgorithmen. Hierbei wird jedes Element der Liste durchlaufen und mit dem nächsten Element verglichen. Ist das zweite Element kleiner als das erste wird die Position getauscht. Die Liste wird so lange wieder und wieder durchlaufen bis dieser Fall nicht mehr auftritt."
   ]
  },
  {
   "cell_type": "code",
   "execution_count": 64,
   "metadata": {},
   "outputs": [],
   "source": [
    "def bubbleSort(numbers):\n",
    "    for i in range(len(numbers)-1):\n",
    "        for j in range(0, len(numbers)-i-1):\n",
    "            if numbers[j] > numbers[j + 1] :\n",
    "                numbers[j], numbers[j + 1] = numbers[j + 1], numbers[j]"
   ]
  },
  {
   "cell_type": "code",
   "execution_count": 66,
   "metadata": {},
   "outputs": [
    {
     "data": {
      "text/plain": [
       "[3, 6, 9, 12, 15, 18, 21]"
      ]
     },
     "execution_count": 66,
     "metadata": {},
     "output_type": "execute_result"
    }
   ],
   "source": [
    "zahlenfolge = [12, 6, 3, 9, 18, 15, 21]\n",
    "\n",
    "bubbleSort(zahlenfolge)\n",
    "\n",
    "zahlenfolge"
   ]
  },
  {
   "cell_type": "markdown",
   "metadata": {},
   "source": [
    "Es ist zu beachten, das Bubble Sort die Liste direkt modifiziert, also die vorherige Reihenfolge geändert wird.\n",
    "\n",
    "Ein weiterer Algorithmus zum Sortieren ist Insertion-Sort. Er basiert auf der menschlichen Strategie Karten zu sortieren, indem wir die Werte dort einfügen wo sie am besten passen."
   ]
  },
  {
   "cell_type": "code",
   "execution_count": 106,
   "metadata": {},
   "outputs": [],
   "source": [
    "# Function to do insertion sort\n",
    "def insertion_sort(arr):\n",
    "    # Traverse through 1 to len(arr)\n",
    "    for i in range(1, len(arr)):\n",
    "        key = arr[i]\n",
    "        # Move elements of arr[0..i-1], that are\n",
    "        # greater than key, to one position ahead\n",
    "        # of their current position\n",
    "        j = i-1\n",
    "        while j >=0 and key < arr[j] :\n",
    "                arr[j+1] = arr[j]\n",
    "                j -= 1\n",
    "        arr[j+1] = key"
   ]
  },
  {
   "cell_type": "code",
   "execution_count": 107,
   "metadata": {},
   "outputs": [
    {
     "data": {
      "text/plain": [
       "[3, 6, 9, 12, 15, 18, 21]"
      ]
     },
     "execution_count": 107,
     "metadata": {},
     "output_type": "execute_result"
    }
   ],
   "source": [
    "zahlenfolge = [12, 6, 3, 9, 18, 15, 21]\n",
    "\n",
    "insertion_sort(zahlenfolge)\n",
    "\n",
    "zahlenfolge"
   ]
  },
  {
   "cell_type": "markdown",
   "metadata": {},
   "source": [
    "Die Lösung im Programmieralltag ist die in Python eingebaute Funktion `sorted()`. Hier wird die Liste nicht modifiziert und muss neu zugewiesen werden."
   ]
  },
  {
   "cell_type": "code",
   "execution_count": 93,
   "metadata": {},
   "outputs": [
    {
     "data": {
      "text/plain": [
       "[3, 6, 9, 12, 15, 18, 21]"
      ]
     },
     "execution_count": 93,
     "metadata": {},
     "output_type": "execute_result"
    }
   ],
   "source": [
    "zahlenfolge = [12, 6, 3, 9, 18, 15, 21]\n",
    "\n",
    "zahlenfolge=sorted(zahlenfolge)\n",
    "\n",
    "zahlenfolge"
   ]
  },
  {
   "cell_type": "markdown",
   "metadata": {},
   "source": [
    "Im Performancevergleich der Funktionen schneidet Bubble-Sort schlechter ab als Insertion-Sort. Die eingebaute Funktion `sorted()` ist natürlich deutlich schneller als beide. Sie nutzt den Timsort-Algorithmus (eine variante von insertion_sort) und ist in C implementiert."
   ]
  },
  {
   "cell_type": "code",
   "execution_count": 112,
   "metadata": {},
   "outputs": [
    {
     "name": "stdout",
     "output_type": "stream",
     "text": [
      "2.84 µs ± 71.7 ns per loop (mean ± std. dev. of 7 runs, 100,000 loops each)\n"
     ]
    }
   ],
   "source": [
    "%timeit bubbleSort([12, 6, 3, 9, 18, 15, 21])"
   ]
  },
  {
   "cell_type": "code",
   "execution_count": 113,
   "metadata": {},
   "outputs": [
    {
     "name": "stdout",
     "output_type": "stream",
     "text": [
      "1.55 µs ± 654 ns per loop (mean ± std. dev. of 7 runs, 1,000,000 loops each)\n"
     ]
    }
   ],
   "source": [
    "%timeit insertion_sort([12, 6, 3, 9, 18, 15, 21])"
   ]
  },
  {
   "cell_type": "code",
   "execution_count": 114,
   "metadata": {},
   "outputs": [
    {
     "name": "stdout",
     "output_type": "stream",
     "text": [
      "216 ns ± 67.2 ns per loop (mean ± std. dev. of 7 runs, 10,000,000 loops each)\n"
     ]
    }
   ],
   "source": [
    "%timeit sorted([12, 6, 3, 9, 18, 15, 21])"
   ]
  },
  {
   "cell_type": "markdown",
   "metadata": {},
   "source": [
    "## Finden von Elementen in Listen"
   ]
  },
  {
   "cell_type": "markdown",
   "metadata": {},
   "source": [
    "Auch das finden von Elementen in Listen ist ein tägliche Aufgabe. Auch hier gibt es typische Algorithmen.\n",
    "\n",
    "Der naive Ansatz ist die vollständige Suche indem man durch alle Elemente in einer Liste get um zu sehen ob das Element irgendwo zu finden ist."
   ]
  },
  {
   "cell_type": "code",
   "execution_count": 154,
   "metadata": {},
   "outputs": [],
   "source": [
    "def contains(list, x):\t\n",
    "\tfor l in list:\t\n",
    "\t\tif(l == x):\n",
    "\t\t\treturn True\n",
    "\treturn False"
   ]
  },
  {
   "cell_type": "markdown",
   "metadata": {},
   "source": [
    "Suchen wir als Beispiel ob 21 in unserer unsortierten Zahlenfolge `[12, 6, 3, 9, 18, 15, 21]` ist"
   ]
  },
  {
   "cell_type": "code",
   "execution_count": 159,
   "metadata": {},
   "outputs": [
    {
     "data": {
      "text/plain": [
       "True"
      ]
     },
     "execution_count": 159,
     "metadata": {},
     "output_type": "execute_result"
    }
   ],
   "source": [
    "zahlenfolge = [12, 6, 3, 9, 18, 15, 21]\n",
    "\n",
    "contains(zahlenfolge, 21)"
   ]
  },
  {
   "cell_type": "markdown",
   "metadata": {},
   "source": [
    "und ob 1 enthalten ist"
   ]
  },
  {
   "cell_type": "code",
   "execution_count": 156,
   "metadata": {},
   "outputs": [
    {
     "data": {
      "text/plain": [
       "False"
      ]
     },
     "execution_count": 156,
     "metadata": {},
     "output_type": "execute_result"
    }
   ],
   "source": [
    "contains(zahlenfolge, 1)"
   ]
  },
  {
   "cell_type": "markdown",
   "metadata": {},
   "source": [
    "Auch der am Anfang aufgestellte Suchbaum kann zur Suche verwendet werden. Wir definieren eine neue Suchfunktion."
   ]
  },
  {
   "cell_type": "code",
   "execution_count": 160,
   "metadata": {},
   "outputs": [],
   "source": [
    "def tree_search(tree, suchwert):\t\n",
    "\twert=tree[0] \t\t  \t\t\t\t# der aktuelle Wert\n",
    "\tif wert == suchwert: \n",
    "\t\treturn True\n",
    "\tif tree[1]:\n",
    "\t\tif suchwert < wert: \n",
    "\t\t\treturn tree_search(tree[1][0], suchwert)\n",
    "\t\telse:\n",
    "\t\t\treturn tree_search(tree[1][1], suchwert)\n",
    "\telse:\n",
    "\t\treturn False"
   ]
  },
  {
   "cell_type": "code",
   "execution_count": 161,
   "metadata": {},
   "outputs": [
    {
     "data": {
      "text/plain": [
       "True"
      ]
     },
     "execution_count": 161,
     "metadata": {},
     "output_type": "execute_result"
    }
   ],
   "source": [
    "tree_search(baum_tuples, 21)"
   ]
  },
  {
   "cell_type": "markdown",
   "metadata": {},
   "source": [
    "Im Alltag kann die in Python eingebaute Suche mit `3 in zahlenfolge` genutzt werden."
   ]
  },
  {
   "cell_type": "code",
   "execution_count": 162,
   "metadata": {},
   "outputs": [
    {
     "data": {
      "text/plain": [
       "True"
      ]
     },
     "execution_count": 162,
     "metadata": {},
     "output_type": "execute_result"
    }
   ],
   "source": [
    "21 in zahlenfolge"
   ]
  },
  {
   "cell_type": "markdown",
   "metadata": {},
   "source": [
    "Im Performancevergleich siegt wieder die eingebaute Suche mit `3 in zahlenfolge`. Die Performance der naiven Suche mit `contains` ist besser als die Suche im Suchbaum, was an dem kleinen Beispiel liegt und dem Overhead durch die Datenstruktur und die rekursiven Funktionsaufruf. Insbesondere bei sehr großen Listen sind Suchbäume deutlich effektiver als die vollständige Suche."
   ]
  },
  {
   "cell_type": "code",
   "execution_count": 163,
   "metadata": {},
   "outputs": [
    {
     "name": "stdout",
     "output_type": "stream",
     "text": [
      "246 ns ± 3.37 ns per loop (mean ± std. dev. of 7 runs, 1,000,000 loops each)\n"
     ]
    }
   ],
   "source": [
    "%timeit contains(zahlenfolge, 21)"
   ]
  },
  {
   "cell_type": "code",
   "execution_count": 164,
   "metadata": {},
   "outputs": [
    {
     "name": "stdout",
     "output_type": "stream",
     "text": [
      "The slowest run took 5.62 times longer than the fastest. This could mean that an intermediate result is being cached.\n",
      "687 ns ± 651 ns per loop (mean ± std. dev. of 7 runs, 1,000,000 loops each)\n"
     ]
    }
   ],
   "source": [
    "%timeit tree_search(baum_tuples, 21)"
   ]
  },
  {
   "cell_type": "code",
   "execution_count": 165,
   "metadata": {},
   "outputs": [
    {
     "name": "stdout",
     "output_type": "stream",
     "text": [
      "79.3 ns ± 2.14 ns per loop (mean ± std. dev. of 7 runs, 10,000,000 loops each)\n"
     ]
    }
   ],
   "source": [
    "%timeit 21 in zahlenfolge"
   ]
  },
  {
   "cell_type": "markdown",
   "metadata": {},
   "source": [
    "Allerdings gilt auch hier das Sets schneller sind als Listen. Insbesondere bei großen Listen (>> 100) lohnt sich die Umwandlung in ein Set. "
   ]
  },
  {
   "cell_type": "code",
   "execution_count": 166,
   "metadata": {},
   "outputs": [],
   "source": [
    "zahlenset = set(zahlenfolge)"
   ]
  },
  {
   "cell_type": "code",
   "execution_count": 167,
   "metadata": {},
   "outputs": [
    {
     "name": "stdout",
     "output_type": "stream",
     "text": [
      "31.8 ns ± 1.08 ns per loop (mean ± std. dev. of 7 runs, 10,000,000 loops each)\n"
     ]
    }
   ],
   "source": [
    "%timeit 21 in zahlenset"
   ]
  },
  {
   "cell_type": "code",
   "execution_count": null,
   "metadata": {},
   "outputs": [],
   "source": []
  }
 ],
 "metadata": {
  "kernelspec": {
   "display_name": "Python 3.10.6 ('lehre')",
   "language": "python",
   "name": "python3"
  },
  "language_info": {
   "codemirror_mode": {
    "name": "ipython",
    "version": 3
   },
   "file_extension": ".py",
   "mimetype": "text/x-python",
   "name": "python",
   "nbconvert_exporter": "python",
   "pygments_lexer": "ipython3",
   "version": "3.10.6"
  },
  "orig_nbformat": 4,
  "vscode": {
   "interpreter": {
    "hash": "c6f6ea9c9385f57658f4c302ffd3b717b6cd59b095fbd1c55795f0b67656eecd"
   }
  }
 },
 "nbformat": 4,
 "nbformat_minor": 2
}
