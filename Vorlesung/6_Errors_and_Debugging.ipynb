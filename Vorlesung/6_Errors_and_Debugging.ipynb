{
 "cells": [
  {
   "cell_type": "markdown",
   "metadata": {},
   "source": [
    "# Fehler, Ausnahmen und Testen"
   ]
  },
  {
   "cell_type": "markdown",
   "metadata": {},
   "source": [
    "## Fehler mit Exceptions behandeln"
   ]
  },
  {
   "cell_type": "markdown",
   "metadata": {},
   "source": [
    "Exceptions unterbrechen den normalen Verlauf eines Programmes in einem Fehlerfall. Sie dienen dazu den Fehler zu im Programm zu kommunizieren (haben meist eine Fehlermeldung) und werden genutzt um im Fehlerfall unkontrolliertes Abstürzen des Programmes zu verhindern.\n",
    "\n",
    "Bekannte Exceptions sollten immer abgefangen. In Python werden sie durch den `try-except`-Block abgefangen. Dieser startet mit einem `try` und endet mit einem `except`. Nach dem `try´ folgt der Block mit der bekannten (oder unbekannten) Exception. Nach dem `except` folgt der Block zur Fehlerbehandlung.\n",
    "\n",
    "Es ist zu beachten, dass bei Exceptions keine Wertzuweisung stattfindet (der Wert ist ja nicht bekannt). Also im folgenden Beispiel bei einer Division durch 0, das vorher als `None` initialisierte Ergebnis nicht überschrieben wird."
   ]
  },
  {
   "cell_type": "code",
   "execution_count": 1,
   "metadata": {},
   "outputs": [
    {
     "name": "stdout",
     "output_type": "stream",
     "text": [
      "Division durch 0\n",
      "Das Ergebnis von 10/0 = None\n"
     ]
    }
   ],
   "source": [
    "zaehler = 10\n",
    "nenner = 0\n",
    "ergebnis = None\n",
    "try:\n",
    "    # Block mit bekannter Exception\n",
    "    ergebnis = zaehler / nenner\n",
    "    # Dieser Teil wird nur ausgeführt wenn keine Exception auftrat\n",
    "    print(\"Die Division war erfolgreich\")\n",
    "except:\n",
    "    # Fehlerbehandlung\n",
    "    print(\"Division durch 0\")\n",
    "\n",
    "print(f\"Das Ergebnis von {zaehler}/{nenner} = {ergebnis}\")"
   ]
  },
  {
   "cell_type": "markdown",
   "metadata": {},
   "source": [
    "Das `except` is in dem obigen Fall untypisiert. Damit lassen sich alle Fehler die auftreten können abfangen (auch unbekannte). Damit definieren wir zum Beispiel unsere Funktion zur Division mit der Fehlerbehandlung falscher Typen und Division durch 0 kurz als."
   ]
  },
  {
   "cell_type": "code",
   "execution_count": 2,
   "metadata": {},
   "outputs": [
    {
     "name": "stdout",
     "output_type": "stream",
     "text": [
      "Divisionsfehler\n",
      "Das Ergebnis von keine_zahl/0 = None\n"
     ]
    }
   ],
   "source": [
    "zaehler = 'keine_zahl'\n",
    "nenner = 0\n",
    "ergebnis = None\n",
    "try:\n",
    "    ergebnis = zaehler / nenner\n",
    "except:\n",
    "    print(\"Divisionsfehler\")\n",
    "    ergebnis = None\n",
    "\n",
    "print(f\"Das Ergebnis von {zaehler}/{nenner} = {ergebnis}\")"
   ]
  },
  {
   "cell_type": "markdown",
   "metadata": {},
   "source": [
    "Das Problem hierbei ist dass wir keine Information über die Exception erhalten. Deshalb ist es immer sinnvoll die genaue Exception abzufangen und die Fehlermeldung auszugeben. Der allgemeinste Fehlertyp in Python ist die `Exception` welche wir wie folgt als Variable `e` abfangen."
   ]
  },
  {
   "cell_type": "code",
   "execution_count": 3,
   "metadata": {},
   "outputs": [
    {
     "name": "stdout",
     "output_type": "stream",
     "text": [
      "Divisionsfehler mit Fehler vom typ `<class 'TypeError'>` und Meldung `unsupported operand type(s) for /: 'str' and 'int'`\n",
      "Das Ergebnis von keine_zahl/0 = None\n"
     ]
    }
   ],
   "source": [
    "zaehler = 'keine_zahl'\n",
    "nenner = 0\n",
    "ergebnis = None\n",
    "try:\n",
    "    ergebnis = zaehler / nenner\n",
    "except Exception as e:\n",
    "    # Fehlerbehandlung\n",
    "    print(f\"Divisionsfehler mit Fehler vom typ `{type(e)}` und Meldung `{e}`\")\n",
    "\n",
    "print(f\"Das Ergebnis von {zaehler}/{nenner} = {ergebnis}\")"
   ]
  },
  {
   "cell_type": "markdown",
   "metadata": {},
   "source": [
    "Sind die Exceptions bekannt sollten sie auch typisiert behandelt werden, um spezifische Meldungen auszugeben."
   ]
  },
  {
   "cell_type": "code",
   "execution_count": 4,
   "metadata": {},
   "outputs": [
    {
     "name": "stdout",
     "output_type": "stream",
     "text": [
      "Zaehler oder Nenner nicht vom Datentyp `int`\n",
      "Das Ergebnis von keine_zahl/0 = None\n"
     ]
    }
   ],
   "source": [
    "zaehler = 'keine_zahl'\n",
    "nenner = 0\n",
    "ergebnis = None\n",
    "try:\n",
    "    ergebnis = zaehler / nenner\n",
    "except TypeError as e:\n",
    "    print(f\"Zaehler oder Nenner nicht vom Datentyp `int`\")\n",
    "except ZeroDivisionError as e:\n",
    "    print(\"Teilung durch 0\")\n",
    "\n",
    "print(f\"Das Ergebnis von {zaehler}/{nenner} = {ergebnis}\")"
   ]
  },
  {
   "cell_type": "markdown",
   "metadata": {},
   "source": [
    "Der `try-except`-Block unterstütz auch die `else`-Anweisung, welche immer ausgeführt wird wenn **keine** Exception auftritt. Ferner gibt es die `finally`-Anweisung welche **immer** ausgeführt wird also im Fehlerfreien- und Fehlerfall.\n",
    "\n",
    "Soll zum Beispiel eine Ausgabe nur gemacht werden wenn der `try`-Block erfolgreich war nutzen wir `else`"
   ]
  },
  {
   "cell_type": "code",
   "execution_count": 5,
   "metadata": {},
   "outputs": [
    {
     "name": "stdout",
     "output_type": "stream",
     "text": [
      "Zaehler oder Nenner nicht vom Datentyp `int`\n"
     ]
    }
   ],
   "source": [
    "zaehler = 'keine_zahl'\n",
    "nenner = 0\n",
    "ergebnis = None\n",
    "try:\n",
    "    ergebnis = zaehler / nenner\n",
    "except TypeError as e:\n",
    "    print(f\"Zaehler oder Nenner nicht vom Datentyp `int`\")\n",
    "except ZeroDivisionError as e:\n",
    "    print(\"Teilung durch 0\")\n",
    "else:\n",
    "    print(f\"Die Division war erfolgreich und resultiert in {zaehler}/{nenner} = {ergebnis}\")"
   ]
  },
  {
   "cell_type": "markdown",
   "metadata": {},
   "source": [
    "Soll immer eine Ausgabe erfolgen können wir `finally` verwenden."
   ]
  },
  {
   "cell_type": "code",
   "execution_count": 6,
   "metadata": {},
   "outputs": [
    {
     "name": "stdout",
     "output_type": "stream",
     "text": [
      "Zaehler oder Nenner nicht vom Datentyp `int`\n",
      "Das Ergebnis von keine_zahl/0 = None\n"
     ]
    }
   ],
   "source": [
    "zaehler = 'keine_zahl'\n",
    "nenner = 0\n",
    "ergebnis = None\n",
    "try:\n",
    "    ergebnis = zaehler / nenner\n",
    "except TypeError as e:\n",
    "    print(f\"Zaehler oder Nenner nicht vom Datentyp `int`\")\n",
    "except ZeroDivisionError as e:\n",
    "    print(\"Teilung durch 0\")\n",
    "finally:\n",
    "    print(f\"Das Ergebnis von {zaehler}/{nenner} = {ergebnis}\")"
   ]
  },
  {
   "cell_type": "markdown",
   "metadata": {},
   "source": [
    "## Exceptions selbst erzeugen"
   ]
  },
  {
   "cell_type": "markdown",
   "metadata": {},
   "source": [
    "Exceptions können auch selbst mit `raise` erzeugt werden. Das ist sinnvoll wenn in dem eigenen Code Fehler auftreten können, die woanders behandelt werden müssen. Hierbei muss ein Fehlertyp angegeben werden. Entweder man nutzt den allgemeinsten Fehlertyp `Exception`, einen passenden Standardfehler von Python oder einen selbst definierten. Es ist ratsam meist spezifische Fehlertypen zu nutzen, da der Typ des Fehlers viel beim Behandeln und Debuggen hilft. \n",
    "\n",
    "Definieren wir als Beispiel unsere eigene Divisionsfunktion mit klarer Fehlerbenenung ob Zähler oder Nenner vom falschen Typ sind. Hier wollen wir dass anstatt des `TypeError` ein `ValueError` erzeugt wird. Bei einer Division durch 0 soll anstatt eines Fehlers der Wert `None` zurück gegeben werden."
   ]
  },
  {
   "cell_type": "code",
   "execution_count": 7,
   "metadata": {},
   "outputs": [],
   "source": [
    "def division(zaehler, nenner):\n",
    "    if not isinstance(nenner, (int, float)):\n",
    "        raise ValueError(f\"Nenner nicht vom Datentyp `int` oder `float`\")\n",
    "    elif not isinstance(zaehler, (int, float)):\n",
    "        raise ValueError(f\"Zaehler nicht vom Datentyp `int` oder `float`\")\n",
    "    elif not nenner:\n",
    "        print(\"Warnung Division durch 0\")\n",
    "        return None\n",
    "    else:\n",
    "        ergebnis = zaehler / nenner\n",
    "        print(f\"Das Ergebnis von {zaehler}/{nenner} = {ergebnis}\")\n",
    "        return ergebnis"
   ]
  },
  {
   "cell_type": "code",
   "execution_count": 8,
   "metadata": {},
   "outputs": [
    {
     "ename": "ValueError",
     "evalue": "Zaehler nicht vom Datentyp `int` oder `float`",
     "output_type": "error",
     "traceback": [
      "\u001b[1;31m---------------------------------------------------------------------------\u001b[0m",
      "\u001b[1;31mValueError\u001b[0m                                Traceback (most recent call last)",
      "\u001b[1;32mc:\\Users\\ploennigs\\Documents\\code\\Lehre\\Programmierung-und-Datenbanken\\Vorlesung\\6_Errors_and_Debugging.ipynb Zelle 18\u001b[0m in \u001b[0;36m<cell line: 4>\u001b[1;34m()\u001b[0m\n\u001b[0;32m      <a href='vscode-notebook-cell:/c%3A/Users/ploennigs/Documents/code/Lehre/Programmierung-und-Datenbanken/Vorlesung/6_Errors_and_Debugging.ipynb#X23sZmlsZQ%3D%3D?line=0'>1</a>\u001b[0m zaehler \u001b[39m=\u001b[39m \u001b[39m'\u001b[39m\u001b[39mkeine_zahl\u001b[39m\u001b[39m'\u001b[39m\n\u001b[0;32m      <a href='vscode-notebook-cell:/c%3A/Users/ploennigs/Documents/code/Lehre/Programmierung-und-Datenbanken/Vorlesung/6_Errors_and_Debugging.ipynb#X23sZmlsZQ%3D%3D?line=1'>2</a>\u001b[0m nenner \u001b[39m=\u001b[39m \u001b[39m0\u001b[39m\n\u001b[1;32m----> <a href='vscode-notebook-cell:/c%3A/Users/ploennigs/Documents/code/Lehre/Programmierung-und-Datenbanken/Vorlesung/6_Errors_and_Debugging.ipynb#X23sZmlsZQ%3D%3D?line=3'>4</a>\u001b[0m ergebnis \u001b[39m=\u001b[39m division(zaehler, nenner)\n",
      "\u001b[1;32mc:\\Users\\ploennigs\\Documents\\code\\Lehre\\Programmierung-und-Datenbanken\\Vorlesung\\6_Errors_and_Debugging.ipynb Zelle 18\u001b[0m in \u001b[0;36mdivision\u001b[1;34m(zaehler, nenner)\u001b[0m\n\u001b[0;32m      <a href='vscode-notebook-cell:/c%3A/Users/ploennigs/Documents/code/Lehre/Programmierung-und-Datenbanken/Vorlesung/6_Errors_and_Debugging.ipynb#X23sZmlsZQ%3D%3D?line=2'>3</a>\u001b[0m     \u001b[39mraise\u001b[39;00m \u001b[39mValueError\u001b[39;00m(\u001b[39mf\u001b[39m\u001b[39m\"\u001b[39m\u001b[39mNenner nicht vom Datentyp `int` oder `float`\u001b[39m\u001b[39m\"\u001b[39m)\n\u001b[0;32m      <a href='vscode-notebook-cell:/c%3A/Users/ploennigs/Documents/code/Lehre/Programmierung-und-Datenbanken/Vorlesung/6_Errors_and_Debugging.ipynb#X23sZmlsZQ%3D%3D?line=3'>4</a>\u001b[0m \u001b[39melif\u001b[39;00m \u001b[39mnot\u001b[39;00m \u001b[39misinstance\u001b[39m(zaehler, (\u001b[39mint\u001b[39m, \u001b[39mfloat\u001b[39m)):\n\u001b[1;32m----> <a href='vscode-notebook-cell:/c%3A/Users/ploennigs/Documents/code/Lehre/Programmierung-und-Datenbanken/Vorlesung/6_Errors_and_Debugging.ipynb#X23sZmlsZQ%3D%3D?line=4'>5</a>\u001b[0m     \u001b[39mraise\u001b[39;00m \u001b[39mValueError\u001b[39;00m(\u001b[39mf\u001b[39m\u001b[39m\"\u001b[39m\u001b[39mZaehler nicht vom Datentyp `int` oder `float`\u001b[39m\u001b[39m\"\u001b[39m)\n\u001b[0;32m      <a href='vscode-notebook-cell:/c%3A/Users/ploennigs/Documents/code/Lehre/Programmierung-und-Datenbanken/Vorlesung/6_Errors_and_Debugging.ipynb#X23sZmlsZQ%3D%3D?line=5'>6</a>\u001b[0m \u001b[39melif\u001b[39;00m \u001b[39mnot\u001b[39;00m nenner:\n\u001b[0;32m      <a href='vscode-notebook-cell:/c%3A/Users/ploennigs/Documents/code/Lehre/Programmierung-und-Datenbanken/Vorlesung/6_Errors_and_Debugging.ipynb#X23sZmlsZQ%3D%3D?line=6'>7</a>\u001b[0m     \u001b[39mprint\u001b[39m(\u001b[39m\"\u001b[39m\u001b[39mWarnung Division durch 0\u001b[39m\u001b[39m\"\u001b[39m)\n",
      "\u001b[1;31mValueError\u001b[0m: Zaehler nicht vom Datentyp `int` oder `float`"
     ]
    }
   ],
   "source": [
    "zaehler = 'keine_zahl'\n",
    "nenner = 0\n",
    "\n",
    "ergebnis = division(zaehler, nenner)"
   ]
  },
  {
   "cell_type": "code",
   "execution_count": 9,
   "metadata": {},
   "outputs": [],
   "source": [
    "zaehler= 10\n",
    "nenner = 2"
   ]
  },
  {
   "cell_type": "code",
   "execution_count": 10,
   "metadata": {},
   "outputs": [
    {
     "name": "stdout",
     "output_type": "stream",
     "text": [
      "Das Ergebnis von 10/1 = 10.0\n"
     ]
    }
   ],
   "source": [
    "zaehler = 10\n",
    "nenner = 1\n",
    "\n",
    "ergebnis = division(zaehler, nenner)"
   ]
  },
  {
   "cell_type": "markdown",
   "metadata": {},
   "source": [
    "### Fehlerbehandlung bei Funktionen im Stack"
   ]
  },
  {
   "cell_type": "markdown",
   "metadata": {},
   "source": [
    "Exceptions werden im Stack (Aufrufreihenfolge der Funktionen) nach oben weiter gegeben, bis sie entweder abgefangen und behandelt werden oder das Programm abstürzt, wenn das Ende des Stacks erreicht wird. Ziel des Abfangen und Behandeln von Exceptions ist es das Programm zurück in einen Zustand zu bringen in dem es weiterlaufen kann.\n",
    "\n",
    "Als Beispiel wollen wir eine rekursive Funktion definieren welche uns einen Fehler ausgibt, wenn die Rekurssionstiefe zu groß wird um einen Stack-Overflow-Fehler zu vermeiden. Wir nutzen als Beispiel die Fakultät aus dem Rekursions Beispiel."
   ]
  },
  {
   "cell_type": "code",
   "execution_count": 11,
   "metadata": {},
   "outputs": [],
   "source": [
    "def factorial_recursiv(x, depth=1):\n",
    "    if depth > 20:\n",
    "        raise RecursionError(\"Recursion zu tief\")\n",
    "    if x > 1:\n",
    "        return x * factorial_recursiv(x-1, depth+1)\n",
    "    else:\n",
    "        return 1"
   ]
  },
  {
   "cell_type": "code",
   "execution_count": 12,
   "metadata": {},
   "outputs": [
    {
     "data": {
      "text/plain": [
       "2432902008176640000"
      ]
     },
     "execution_count": 12,
     "metadata": {},
     "output_type": "execute_result"
    }
   ],
   "source": [
    "factorial_recursiv(20)"
   ]
  },
  {
   "cell_type": "code",
   "execution_count": 13,
   "metadata": {},
   "outputs": [
    {
     "ename": "RecursionError",
     "evalue": "Recursion zu tief",
     "output_type": "error",
     "traceback": [
      "\u001b[1;31m---------------------------------------------------------------------------\u001b[0m",
      "\u001b[1;31mRecursionError\u001b[0m                            Traceback (most recent call last)",
      "\u001b[1;32mc:\\Users\\ploennigs\\Documents\\code\\Lehre\\Programmierung-und-Datenbanken\\Vorlesung\\6_Errors_and_Debugging.ipynb Zelle 25\u001b[0m in \u001b[0;36m<cell line: 1>\u001b[1;34m()\u001b[0m\n\u001b[1;32m----> <a href='vscode-notebook-cell:/c%3A/Users/ploennigs/Documents/code/Lehre/Programmierung-und-Datenbanken/Vorlesung/6_Errors_and_Debugging.ipynb#X33sZmlsZQ%3D%3D?line=0'>1</a>\u001b[0m factorial_recursiv(\u001b[39m21\u001b[39;49m)\n",
      "\u001b[1;32mc:\\Users\\ploennigs\\Documents\\code\\Lehre\\Programmierung-und-Datenbanken\\Vorlesung\\6_Errors_and_Debugging.ipynb Zelle 25\u001b[0m in \u001b[0;36mfactorial_recursiv\u001b[1;34m(x, depth)\u001b[0m\n\u001b[0;32m      <a href='vscode-notebook-cell:/c%3A/Users/ploennigs/Documents/code/Lehre/Programmierung-und-Datenbanken/Vorlesung/6_Errors_and_Debugging.ipynb#X33sZmlsZQ%3D%3D?line=2'>3</a>\u001b[0m     \u001b[39mraise\u001b[39;00m \u001b[39mRecursionError\u001b[39;00m(\u001b[39m\"\u001b[39m\u001b[39mRecursion zu tief\u001b[39m\u001b[39m\"\u001b[39m)\n\u001b[0;32m      <a href='vscode-notebook-cell:/c%3A/Users/ploennigs/Documents/code/Lehre/Programmierung-und-Datenbanken/Vorlesung/6_Errors_and_Debugging.ipynb#X33sZmlsZQ%3D%3D?line=3'>4</a>\u001b[0m \u001b[39mif\u001b[39;00m x \u001b[39m>\u001b[39m \u001b[39m1\u001b[39m:\n\u001b[1;32m----> <a href='vscode-notebook-cell:/c%3A/Users/ploennigs/Documents/code/Lehre/Programmierung-und-Datenbanken/Vorlesung/6_Errors_and_Debugging.ipynb#X33sZmlsZQ%3D%3D?line=4'>5</a>\u001b[0m     \u001b[39mreturn\u001b[39;00m x \u001b[39m*\u001b[39m factorial_recursiv(x\u001b[39m-\u001b[39;49m\u001b[39m1\u001b[39;49m, depth\u001b[39m+\u001b[39;49m\u001b[39m1\u001b[39;49m)\n\u001b[0;32m      <a href='vscode-notebook-cell:/c%3A/Users/ploennigs/Documents/code/Lehre/Programmierung-und-Datenbanken/Vorlesung/6_Errors_and_Debugging.ipynb#X33sZmlsZQ%3D%3D?line=5'>6</a>\u001b[0m \u001b[39melse\u001b[39;00m:\n\u001b[0;32m      <a href='vscode-notebook-cell:/c%3A/Users/ploennigs/Documents/code/Lehre/Programmierung-und-Datenbanken/Vorlesung/6_Errors_and_Debugging.ipynb#X33sZmlsZQ%3D%3D?line=6'>7</a>\u001b[0m     \u001b[39mreturn\u001b[39;00m \u001b[39m1\u001b[39m\n",
      "\u001b[1;32mc:\\Users\\ploennigs\\Documents\\code\\Lehre\\Programmierung-und-Datenbanken\\Vorlesung\\6_Errors_and_Debugging.ipynb Zelle 25\u001b[0m in \u001b[0;36mfactorial_recursiv\u001b[1;34m(x, depth)\u001b[0m\n\u001b[0;32m      <a href='vscode-notebook-cell:/c%3A/Users/ploennigs/Documents/code/Lehre/Programmierung-und-Datenbanken/Vorlesung/6_Errors_and_Debugging.ipynb#X33sZmlsZQ%3D%3D?line=2'>3</a>\u001b[0m     \u001b[39mraise\u001b[39;00m \u001b[39mRecursionError\u001b[39;00m(\u001b[39m\"\u001b[39m\u001b[39mRecursion zu tief\u001b[39m\u001b[39m\"\u001b[39m)\n\u001b[0;32m      <a href='vscode-notebook-cell:/c%3A/Users/ploennigs/Documents/code/Lehre/Programmierung-und-Datenbanken/Vorlesung/6_Errors_and_Debugging.ipynb#X33sZmlsZQ%3D%3D?line=3'>4</a>\u001b[0m \u001b[39mif\u001b[39;00m x \u001b[39m>\u001b[39m \u001b[39m1\u001b[39m:\n\u001b[1;32m----> <a href='vscode-notebook-cell:/c%3A/Users/ploennigs/Documents/code/Lehre/Programmierung-und-Datenbanken/Vorlesung/6_Errors_and_Debugging.ipynb#X33sZmlsZQ%3D%3D?line=4'>5</a>\u001b[0m     \u001b[39mreturn\u001b[39;00m x \u001b[39m*\u001b[39m factorial_recursiv(x\u001b[39m-\u001b[39;49m\u001b[39m1\u001b[39;49m, depth\u001b[39m+\u001b[39;49m\u001b[39m1\u001b[39;49m)\n\u001b[0;32m      <a href='vscode-notebook-cell:/c%3A/Users/ploennigs/Documents/code/Lehre/Programmierung-und-Datenbanken/Vorlesung/6_Errors_and_Debugging.ipynb#X33sZmlsZQ%3D%3D?line=5'>6</a>\u001b[0m \u001b[39melse\u001b[39;00m:\n\u001b[0;32m      <a href='vscode-notebook-cell:/c%3A/Users/ploennigs/Documents/code/Lehre/Programmierung-und-Datenbanken/Vorlesung/6_Errors_and_Debugging.ipynb#X33sZmlsZQ%3D%3D?line=6'>7</a>\u001b[0m     \u001b[39mreturn\u001b[39;00m \u001b[39m1\u001b[39m\n",
      "    \u001b[1;31m[... skipping similar frames: factorial_recursiv at line 5 (17 times)]\u001b[0m\n",
      "\u001b[1;32mc:\\Users\\ploennigs\\Documents\\code\\Lehre\\Programmierung-und-Datenbanken\\Vorlesung\\6_Errors_and_Debugging.ipynb Zelle 25\u001b[0m in \u001b[0;36mfactorial_recursiv\u001b[1;34m(x, depth)\u001b[0m\n\u001b[0;32m      <a href='vscode-notebook-cell:/c%3A/Users/ploennigs/Documents/code/Lehre/Programmierung-und-Datenbanken/Vorlesung/6_Errors_and_Debugging.ipynb#X33sZmlsZQ%3D%3D?line=2'>3</a>\u001b[0m     \u001b[39mraise\u001b[39;00m \u001b[39mRecursionError\u001b[39;00m(\u001b[39m\"\u001b[39m\u001b[39mRecursion zu tief\u001b[39m\u001b[39m\"\u001b[39m)\n\u001b[0;32m      <a href='vscode-notebook-cell:/c%3A/Users/ploennigs/Documents/code/Lehre/Programmierung-und-Datenbanken/Vorlesung/6_Errors_and_Debugging.ipynb#X33sZmlsZQ%3D%3D?line=3'>4</a>\u001b[0m \u001b[39mif\u001b[39;00m x \u001b[39m>\u001b[39m \u001b[39m1\u001b[39m:\n\u001b[1;32m----> <a href='vscode-notebook-cell:/c%3A/Users/ploennigs/Documents/code/Lehre/Programmierung-und-Datenbanken/Vorlesung/6_Errors_and_Debugging.ipynb#X33sZmlsZQ%3D%3D?line=4'>5</a>\u001b[0m     \u001b[39mreturn\u001b[39;00m x \u001b[39m*\u001b[39m factorial_recursiv(x\u001b[39m-\u001b[39;49m\u001b[39m1\u001b[39;49m, depth\u001b[39m+\u001b[39;49m\u001b[39m1\u001b[39;49m)\n\u001b[0;32m      <a href='vscode-notebook-cell:/c%3A/Users/ploennigs/Documents/code/Lehre/Programmierung-und-Datenbanken/Vorlesung/6_Errors_and_Debugging.ipynb#X33sZmlsZQ%3D%3D?line=5'>6</a>\u001b[0m \u001b[39melse\u001b[39;00m:\n\u001b[0;32m      <a href='vscode-notebook-cell:/c%3A/Users/ploennigs/Documents/code/Lehre/Programmierung-und-Datenbanken/Vorlesung/6_Errors_and_Debugging.ipynb#X33sZmlsZQ%3D%3D?line=6'>7</a>\u001b[0m     \u001b[39mreturn\u001b[39;00m \u001b[39m1\u001b[39m\n",
      "\u001b[1;32mc:\\Users\\ploennigs\\Documents\\code\\Lehre\\Programmierung-und-Datenbanken\\Vorlesung\\6_Errors_and_Debugging.ipynb Zelle 25\u001b[0m in \u001b[0;36mfactorial_recursiv\u001b[1;34m(x, depth)\u001b[0m\n\u001b[0;32m      <a href='vscode-notebook-cell:/c%3A/Users/ploennigs/Documents/code/Lehre/Programmierung-und-Datenbanken/Vorlesung/6_Errors_and_Debugging.ipynb#X33sZmlsZQ%3D%3D?line=0'>1</a>\u001b[0m \u001b[39mdef\u001b[39;00m \u001b[39mfactorial_recursiv\u001b[39m(x, depth\u001b[39m=\u001b[39m\u001b[39m1\u001b[39m):\n\u001b[0;32m      <a href='vscode-notebook-cell:/c%3A/Users/ploennigs/Documents/code/Lehre/Programmierung-und-Datenbanken/Vorlesung/6_Errors_and_Debugging.ipynb#X33sZmlsZQ%3D%3D?line=1'>2</a>\u001b[0m     \u001b[39mif\u001b[39;00m depth \u001b[39m>\u001b[39m \u001b[39m20\u001b[39m:\n\u001b[1;32m----> <a href='vscode-notebook-cell:/c%3A/Users/ploennigs/Documents/code/Lehre/Programmierung-und-Datenbanken/Vorlesung/6_Errors_and_Debugging.ipynb#X33sZmlsZQ%3D%3D?line=2'>3</a>\u001b[0m         \u001b[39mraise\u001b[39;00m \u001b[39mRecursionError\u001b[39;00m(\u001b[39m\"\u001b[39m\u001b[39mRecursion zu tief\u001b[39m\u001b[39m\"\u001b[39m)\n\u001b[0;32m      <a href='vscode-notebook-cell:/c%3A/Users/ploennigs/Documents/code/Lehre/Programmierung-und-Datenbanken/Vorlesung/6_Errors_and_Debugging.ipynb#X33sZmlsZQ%3D%3D?line=3'>4</a>\u001b[0m     \u001b[39mif\u001b[39;00m x \u001b[39m>\u001b[39m \u001b[39m1\u001b[39m:\n\u001b[0;32m      <a href='vscode-notebook-cell:/c%3A/Users/ploennigs/Documents/code/Lehre/Programmierung-und-Datenbanken/Vorlesung/6_Errors_and_Debugging.ipynb#X33sZmlsZQ%3D%3D?line=4'>5</a>\u001b[0m         \u001b[39mreturn\u001b[39;00m x \u001b[39m*\u001b[39m factorial_recursiv(x\u001b[39m-\u001b[39m\u001b[39m1\u001b[39m, depth\u001b[39m+\u001b[39m\u001b[39m1\u001b[39m)\n",
      "\u001b[1;31mRecursionError\u001b[0m: Recursion zu tief"
     ]
    }
   ],
   "source": [
    "factorial_recursiv(21)"
   ]
  },
  {
   "cell_type": "markdown",
   "metadata": {},
   "source": [
    "In der obigen Fehlermeldung bringt das Programm selbst zum erliegen (es stürtzt allerdings nicht der ganze Kernel ab, wie beim Stack-Overflow-Fehler). Um das zu vermeiden müssen wir den Fehler mit `try-except` abfangen. In der Fehlermeldung oben deutet sich schon der Stack-Trace an, also die Liste der Funktionsaufrufe die auf dem Stack gesammelt wurde. "
   ]
  },
  {
   "cell_type": "code",
   "execution_count": 14,
   "metadata": {},
   "outputs": [
    {
     "name": "stdout",
     "output_type": "stream",
     "text": [
      "Recursion zu tief\n"
     ]
    },
    {
     "name": "stderr",
     "output_type": "stream",
     "text": [
      "Traceback (most recent call last):\n",
      "  File \"C:\\Users\\ploennigs\\AppData\\Local\\Temp\\ipykernel_16904\\841887965.py\", line 3, in <cell line: 2>\n",
      "    factorial_recursiv(21)\n",
      "  File \"C:\\Users\\ploennigs\\AppData\\Local\\Temp\\ipykernel_16904\\43912226.py\", line 5, in factorial_recursiv\n",
      "    return x * factorial_recursiv(x-1, depth+1)\n",
      "  File \"C:\\Users\\ploennigs\\AppData\\Local\\Temp\\ipykernel_16904\\43912226.py\", line 5, in factorial_recursiv\n",
      "    return x * factorial_recursiv(x-1, depth+1)\n",
      "  File \"C:\\Users\\ploennigs\\AppData\\Local\\Temp\\ipykernel_16904\\43912226.py\", line 5, in factorial_recursiv\n",
      "    return x * factorial_recursiv(x-1, depth+1)\n",
      "  [Previous line repeated 17 more times]\n",
      "  File \"C:\\Users\\ploennigs\\AppData\\Local\\Temp\\ipykernel_16904\\43912226.py\", line 3, in factorial_recursiv\n",
      "    raise RecursionError(\"Recursion zu tief\")\n",
      "RecursionError: Recursion zu tief\n"
     ]
    }
   ],
   "source": [
    "import traceback\n",
    "try:\n",
    "    factorial_recursiv(21)\n",
    "except RecursionError as e:\n",
    "    print(e)\n",
    "    traceback.print_exc()"
   ]
  },
  {
   "cell_type": "markdown",
   "metadata": {},
   "source": [
    "Wir sehen, dass die Zeile \"[Previous line repeated 17 more times]\" dass der Stack durchaus den Funktionsaufruf `factorial_recursiv` aus der rekursiven Zeile `return x * factorial_recursiv(x-1, depth+1)` genau 20 mal enthält."
   ]
  },
  {
   "cell_type": "markdown",
   "metadata": {},
   "source": [
    "## Unit-Tests"
   ]
  },
  {
   "cell_type": "markdown",
   "metadata": {},
   "source": [
    "Unit-Tests sind zum vermeiden und diagnostizieren von Fehlern sehr wichtig. Ein Unit-Test testet ein einzelnes Code-Modul, wie z.B. eine Funktion oder eine Klasse. \n",
    "\n",
    "Zum Testen verwendet man in Python meist spezielle Bibliortheken wie `unittest` oder `nosetest`, welche dann automatisch bei Code-Änderungen ausgeführt werden. Einfache Tests können direkt in den Code geschrieben werden. Hierfür ist der `assert` Befehl da. Er prüft ob eine Testbedingung erfüllt ist (assert) und löst eine `AssertionError` Exception aus, wenn dies nicht der Fall ist.\n",
    "\n",
    "Wir wollen zum Beispiel die oben definierte Divisionsfunktion `division()` testen. Hierfür schreiben wir als erstes einen **Funktionstest**. Diese überprüfen die korrekte Funktion eines Moduls mit mehreren Eingaben für die wir das korrekte Ergebnis kennen. Hier macht man meist mehrere Tests um sicherzustellen, dass man nicht `zufällig` das richtige Ergebnis bekommt, sondern für verschiedene Kombinationen."
   ]
  },
  {
   "cell_type": "markdown",
   "metadata": {},
   "source": [
    "<center><img src=\"https://mermaid.ink/img/pako:eNptj0trAjEUhf9KuCuFEargJrSCokihuKh0NZlFas44wcyN5FGx4n9vrC100bs65_Kd-7jQzhuQpH3Qx068vCoWpeKgXj1v1vPF6vE9zD41OofwNH64OQZzMZNmKEajmRCn2tgPG63n5h4-3fsY1PO37e-MgJQDi2kz_NmQzg4iitY6J9kzqpiCP-Bb_0XwP0IV9Qi9tqYcf7kFFKUOPRTJIg1anV1SpPhaUJ2T3555RzKFjIry0eiEpdXl7Z5kq13E9QvkMFg7?type=png)](https://mermaid.live/edit#pako:eNptj0trAjEUhf9KuCuFEargJrSCokihuKh0NZlFas44wcyN5FGx4n9vrC100bs65_Kd-7jQzhuQpH3Qx068vCoWpeKgXj1v1vPF6vE9zD41OofwNH64OQZzMZNmKEajmRCn2tgPG63n5h4-3fsY1PO37e-MgJQDi2kz_NmQzg4iitY6J9kzqpiCP-Bb_0XwP0IV9Qi9tqYcf7kFFKUOPRTJIg1anV1SpPhaUJ2T3555RzKFjIry0eiEpdXl7Z5kq13E9QvkMFg7\"></center>"
   ]
  },
  {
   "cell_type": "code",
   "execution_count": 15,
   "metadata": {},
   "outputs": [],
   "source": [
    "def test_funktion(): # Die übliche Notation für Tests in Python ist die Funktionsnamen mit `test_` zu beginnen\n",
    "    assert division(10, 2) == 5\n",
    "    assert division(10, 5) == 2\n",
    "    assert division(50, 1) == 50\n",
    "    assert division(50, 5) == 10"
   ]
  },
  {
   "cell_type": "code",
   "execution_count": 16,
   "metadata": {},
   "outputs": [
    {
     "name": "stdout",
     "output_type": "stream",
     "text": [
      "Das Ergebnis von 10/2 = 5.0\n",
      "Das Ergebnis von 10/5 = 2.0\n",
      "Das Ergebnis von 50/1 = 50.0\n",
      "Das Ergebnis von 50/5 = 10.0\n"
     ]
    }
   ],
   "source": [
    "test_funktion()"
   ]
  },
  {
   "cell_type": "markdown",
   "metadata": {},
   "source": [
    "Ein weiterer wichtiger Test ist der **Grenzwerttest**. Hier prüft man ob Eingaben im Grenzwertbereich korrekt behandelt werden. Zum Beispiel ob positiv oder negativ Unendlich behandelt werden oder ob die Division durch 0 behandelt wird. Wir haben oben beim erstellen der Funktion definiert, dass bei einer Division durch 0 die Funktion den Wert `None` ausgeben soll."
   ]
  },
  {
   "cell_type": "markdown",
   "metadata": {},
   "source": [
    "<center><img src=\"https://mermaid.ink/img/pako:eNptT8uKAjEQ_JXQJ4UR9Bp2BUURQTwoe3Eyh17T4wQznSGPFRX_feO6ggf7VFVd1Y8r7J0mkHDw2DVitVEscoVeOV-uF5Pp_OPbjy9IjSX_ORreGRNzJsOqLwaDsRCnUpsfE4zj6hE-PXTqlZOv7XOGp5g8i7Vjqvr_S-LZkgiiNtZKzo0iRO-O9IdfLfTeAgW05Fs0Ot9_vQcUxIZaUiAz1FRjslGB4lu2Yopue-Y9yOgTFZA6jZFmBvPnLcgabchqh7xz7slvv-QCXy0?type=png)](https://mermaid.live/edit#pako:eNptT8uKAjEQ_JXQJ4UR9Bp2BUURQTwoe3Eyh17T4wQznSGPFRX_feO6ggf7VFVd1Y8r7J0mkHDw2DVitVEscoVeOV-uF5Pp_OPbjy9IjSX_ORreGRNzJsOqLwaDsRCnUpsfE4zj6hE-PXTqlZOv7XOGp5g8i7Vjqvr_S-LZkgiiNtZKzo0iRO-O9IdfLfTeAgW05Fs0Ot9_vQcUxIZaUiAz1FRjslGB4lu2Yopue-Y9yOgTFZA6jZFmBvPnLcgabchqh7xz7slvv-QCXy0\"></center>"
   ]
  },
  {
   "cell_type": "code",
   "execution_count": 17,
   "metadata": {},
   "outputs": [],
   "source": [
    "import math # die Zahl unendlich ist in der math bibliothek definiert\n",
    "\n",
    "def test_grenzwert():\n",
    "    assert division(math.inf, 1) == math.inf\n",
    "    assert division(math.inf, 100) == math.inf\n",
    "    assert math.isnan(division(math.inf, math.inf)) # Das prüfen auf nan (not a number) ist nur durch die funktion `isnan` moeglich\n",
    "    assert division(1, math.inf) == 0\n",
    "    assert division(100, 0) is None"
   ]
  },
  {
   "cell_type": "code",
   "execution_count": 18,
   "metadata": {},
   "outputs": [
    {
     "name": "stdout",
     "output_type": "stream",
     "text": [
      "Das Ergebnis von inf/1 = inf\n",
      "Das Ergebnis von inf/100 = inf\n",
      "Das Ergebnis von inf/inf = nan\n",
      "Das Ergebnis von 1/inf = 0.0\n",
      "Warnung Division durch 0\n"
     ]
    }
   ],
   "source": [
    "test_grenzwert()"
   ]
  },
  {
   "cell_type": "markdown",
   "metadata": {},
   "source": [
    "Da Python dynamische Datentypen unterstützt ist es sehr wichtig **Datentyptest**. Hierbei wird getetstet ob die Funktion falsche Datentypen als Eingabe richtig behandelt. \n",
    "\n",
    "<center><img src=\"https://mermaid.ink/img/pako:eNptT8tqAkEQ_JWhLyqskPOQCIpLCIQcIvGQHQ_tTm92yGzPMo-oEf89s1HBg32qKqq6qCPUThNI-PLYt-L1XbHIF8ZV-fL2PF-Uj1s_-0VqLfmnUYh-NAhMzJk_bCZiOp0Jsau0-THBON6c87uzTuNq_rG6vlmjTVTua-rj4JxcquLBkgiiMdZKdkxFbnHf9I9vLXTfAgV05Ds0Oq84DgEFsaWOFMgMNTWYbFSg-JStmKJbHbgGGX2iAlKvMdLSYN7fgWzQhqz2yJ_OXfnpD57_Yc8?type=png)](https://mermaid.live/edit#pako:eNptT8tqAkEQ_JWhLyqskPOQCIpLCIQcIvGQHQ_tTm92yGzPMo-oEf89s1HBg32qKqq6qCPUThNI-PLYt-L1XbHIF8ZV-fL2PF-Uj1s_-0VqLfmnUYh-NAhMzJk_bCZiOp0Jsau0-THBON6c87uzTuNq_rG6vlmjTVTua-rj4JxcquLBkgiiMdZKdkxFbnHf9I9vLXTfAgV05Ds0Oq84DgEFsaWOFMgMNTWYbFSg-JStmKJbHbgGGX2iAlKvMdLSYN7fgWzQhqz2yJ_OXfnpD57_Yc8\"></center>\n",
    "\n",
    "Hierbei können wir nicht direkt `assert` nutzen da es ja unseren Code zum absturtzt bringt."
   ]
  },
  {
   "cell_type": "code",
   "execution_count": 19,
   "metadata": {},
   "outputs": [
    {
     "ename": "ValueError",
     "evalue": "Zaehler nicht vom Datentyp `int` oder `float`",
     "output_type": "error",
     "traceback": [
      "\u001b[1;31m---------------------------------------------------------------------------\u001b[0m",
      "\u001b[1;31mValueError\u001b[0m                                Traceback (most recent call last)",
      "\u001b[1;32mc:\\Users\\ploennigs\\Documents\\code\\Lehre\\Programmierung-und-Datenbanken\\Vorlesung\\6_Errors_and_Debugging.ipynb Zelle 39\u001b[0m in \u001b[0;36m<cell line: 1>\u001b[1;34m()\u001b[0m\n\u001b[1;32m----> <a href='vscode-notebook-cell:/c%3A/Users/ploennigs/Documents/code/Lehre/Programmierung-und-Datenbanken/Vorlesung/6_Errors_and_Debugging.ipynb#X53sZmlsZQ%3D%3D?line=0'>1</a>\u001b[0m \u001b[39massert\u001b[39;00m division(\u001b[39m\"\u001b[39;49m\u001b[39mfalscher typ\u001b[39;49m\u001b[39m\"\u001b[39;49m, \u001b[39m1\u001b[39;49m) \u001b[39mis\u001b[39;00m \u001b[39mValueError\u001b[39;00m\n",
      "\u001b[1;32mc:\\Users\\ploennigs\\Documents\\code\\Lehre\\Programmierung-und-Datenbanken\\Vorlesung\\6_Errors_and_Debugging.ipynb Zelle 39\u001b[0m in \u001b[0;36mdivision\u001b[1;34m(zaehler, nenner)\u001b[0m\n\u001b[0;32m      <a href='vscode-notebook-cell:/c%3A/Users/ploennigs/Documents/code/Lehre/Programmierung-und-Datenbanken/Vorlesung/6_Errors_and_Debugging.ipynb#X53sZmlsZQ%3D%3D?line=2'>3</a>\u001b[0m     \u001b[39mraise\u001b[39;00m \u001b[39mValueError\u001b[39;00m(\u001b[39mf\u001b[39m\u001b[39m\"\u001b[39m\u001b[39mNenner nicht vom Datentyp `int` oder `float`\u001b[39m\u001b[39m\"\u001b[39m)\n\u001b[0;32m      <a href='vscode-notebook-cell:/c%3A/Users/ploennigs/Documents/code/Lehre/Programmierung-und-Datenbanken/Vorlesung/6_Errors_and_Debugging.ipynb#X53sZmlsZQ%3D%3D?line=3'>4</a>\u001b[0m \u001b[39melif\u001b[39;00m \u001b[39mnot\u001b[39;00m \u001b[39misinstance\u001b[39m(zaehler, (\u001b[39mint\u001b[39m, \u001b[39mfloat\u001b[39m)):\n\u001b[1;32m----> <a href='vscode-notebook-cell:/c%3A/Users/ploennigs/Documents/code/Lehre/Programmierung-und-Datenbanken/Vorlesung/6_Errors_and_Debugging.ipynb#X53sZmlsZQ%3D%3D?line=4'>5</a>\u001b[0m     \u001b[39mraise\u001b[39;00m \u001b[39mValueError\u001b[39;00m(\u001b[39mf\u001b[39m\u001b[39m\"\u001b[39m\u001b[39mZaehler nicht vom Datentyp `int` oder `float`\u001b[39m\u001b[39m\"\u001b[39m)\n\u001b[0;32m      <a href='vscode-notebook-cell:/c%3A/Users/ploennigs/Documents/code/Lehre/Programmierung-und-Datenbanken/Vorlesung/6_Errors_and_Debugging.ipynb#X53sZmlsZQ%3D%3D?line=5'>6</a>\u001b[0m \u001b[39melif\u001b[39;00m \u001b[39mnot\u001b[39;00m nenner:\n\u001b[0;32m      <a href='vscode-notebook-cell:/c%3A/Users/ploennigs/Documents/code/Lehre/Programmierung-und-Datenbanken/Vorlesung/6_Errors_and_Debugging.ipynb#X53sZmlsZQ%3D%3D?line=6'>7</a>\u001b[0m     \u001b[39mprint\u001b[39m(\u001b[39m\"\u001b[39m\u001b[39mWarnung Division durch 0\u001b[39m\u001b[39m\"\u001b[39m)\n",
      "\u001b[1;31mValueError\u001b[0m: Zaehler nicht vom Datentyp `int` oder `float`"
     ]
    }
   ],
   "source": [
    "assert division(\"falscher typ\", 1) is ValueError"
   ]
  },
  {
   "cell_type": "markdown",
   "metadata": {},
   "source": [
    "Stattdessen nutzen wir im Test einen `try-except`-Block und die `else`-Anweisung. Sie wird ja nur dann ausgeführt, wenn imf `try`-Block *keine* Exception auftrit, was im Testfall ja unerwünscht ist, also `raise` wir in diesm Fall ein AssertionError, da der Testfall scheitert. Ferner prüfen wir ob die geworfene Exception der Funktion auch den richtigen Typen `TypeError` hat."
   ]
  },
  {
   "cell_type": "code",
   "execution_count": 20,
   "metadata": {},
   "outputs": [],
   "source": [
    "def test_datentyp():\n",
    "    # wir testen den Zähler\n",
    "    try:  \n",
    "        division(\"falscher typ\", 1)\n",
    "    except Exception as e:\n",
    "        assert isinstance(e, ValueError)\n",
    "    else:\n",
    "        raise AssertionError(\"Datatype\")\n",
    "    # den zweiten Fall des Nenners\n",
    "    try:\n",
    "        division(10, \"falscher typ\")\n",
    "    except Exception as e:\n",
    "        assert isinstance(e, ValueError)\n",
    "    else:\n",
    "        raise AssertionError(\"Datatype\")"
   ]
  },
  {
   "cell_type": "code",
   "execution_count": 21,
   "metadata": {},
   "outputs": [],
   "source": [
    "test_datentyp()"
   ]
  },
  {
   "cell_type": "markdown",
   "metadata": {},
   "source": [
    "Diese Unit-Tests haben wir absichtlich als Funktion definiert, so dass wir sie nun bei Code-Änderungen immer wieder durchführen können. So kann man dann testen ob die Implementation die gestellten Erwartungen überhaupt oder immer noch erfüllt.\n",
    "\n",
    "Wird zum Beispiel die Divisionsfunktion durch eine triviale Implementation überschrieben."
   ]
  },
  {
   "cell_type": "code",
   "execution_count": 22,
   "metadata": {},
   "outputs": [],
   "source": [
    "def division(zaehler, nenner):\n",
    "    return zaehler / nenner"
   ]
  },
  {
   "cell_type": "markdown",
   "metadata": {},
   "source": [
    "So funktioniert immer noch unser Funktionstest. Weshalb es meistens nicht hinreichend ist nur diesen zu implementieren oder bei der Entwicklung nur die Funktion zu prüfen."
   ]
  },
  {
   "cell_type": "code",
   "execution_count": 23,
   "metadata": {},
   "outputs": [],
   "source": [
    "test_funktion()"
   ]
  },
  {
   "cell_type": "markdown",
   "metadata": {},
   "source": [
    "Der Grenzwerttest wird allerdings jetzt eine Ausnahme werfen."
   ]
  },
  {
   "cell_type": "code",
   "execution_count": 24,
   "metadata": {},
   "outputs": [
    {
     "ename": "ZeroDivisionError",
     "evalue": "division by zero",
     "output_type": "error",
     "traceback": [
      "\u001b[1;31m---------------------------------------------------------------------------\u001b[0m",
      "\u001b[1;31mZeroDivisionError\u001b[0m                         Traceback (most recent call last)",
      "\u001b[1;32mc:\\Users\\ploennigs\\Documents\\code\\Lehre\\Programmierung-und-Datenbanken\\Vorlesung\\6_Errors_and_Debugging.ipynb Zelle 48\u001b[0m in \u001b[0;36m<cell line: 1>\u001b[1;34m()\u001b[0m\n\u001b[1;32m----> <a href='vscode-notebook-cell:/c%3A/Users/ploennigs/Documents/code/Lehre/Programmierung-und-Datenbanken/Vorlesung/6_Errors_and_Debugging.ipynb#X65sZmlsZQ%3D%3D?line=0'>1</a>\u001b[0m test_grenzwert()\n",
      "\u001b[1;32mc:\\Users\\ploennigs\\Documents\\code\\Lehre\\Programmierung-und-Datenbanken\\Vorlesung\\6_Errors_and_Debugging.ipynb Zelle 48\u001b[0m in \u001b[0;36mtest_grenzwert\u001b[1;34m()\u001b[0m\n\u001b[0;32m      <a href='vscode-notebook-cell:/c%3A/Users/ploennigs/Documents/code/Lehre/Programmierung-und-Datenbanken/Vorlesung/6_Errors_and_Debugging.ipynb#X65sZmlsZQ%3D%3D?line=5'>6</a>\u001b[0m \u001b[39massert\u001b[39;00m math\u001b[39m.\u001b[39misnan(division(math\u001b[39m.\u001b[39minf, math\u001b[39m.\u001b[39minf)) \u001b[39m# Das prüfen auf nan (not a number) ist nur durch die funktion `isnan` moeglich\u001b[39;00m\n\u001b[0;32m      <a href='vscode-notebook-cell:/c%3A/Users/ploennigs/Documents/code/Lehre/Programmierung-und-Datenbanken/Vorlesung/6_Errors_and_Debugging.ipynb#X65sZmlsZQ%3D%3D?line=6'>7</a>\u001b[0m \u001b[39massert\u001b[39;00m division(\u001b[39m1\u001b[39m, math\u001b[39m.\u001b[39minf) \u001b[39m==\u001b[39m \u001b[39m0\u001b[39m\n\u001b[1;32m----> <a href='vscode-notebook-cell:/c%3A/Users/ploennigs/Documents/code/Lehre/Programmierung-und-Datenbanken/Vorlesung/6_Errors_and_Debugging.ipynb#X65sZmlsZQ%3D%3D?line=7'>8</a>\u001b[0m \u001b[39massert\u001b[39;00m division(\u001b[39m100\u001b[39;49m, \u001b[39m0\u001b[39;49m) \u001b[39mis\u001b[39;00m \u001b[39mNone\u001b[39;00m\n",
      "\u001b[1;32mc:\\Users\\ploennigs\\Documents\\code\\Lehre\\Programmierung-und-Datenbanken\\Vorlesung\\6_Errors_and_Debugging.ipynb Zelle 48\u001b[0m in \u001b[0;36mdivision\u001b[1;34m(zaehler, nenner)\u001b[0m\n\u001b[0;32m      <a href='vscode-notebook-cell:/c%3A/Users/ploennigs/Documents/code/Lehre/Programmierung-und-Datenbanken/Vorlesung/6_Errors_and_Debugging.ipynb#X65sZmlsZQ%3D%3D?line=0'>1</a>\u001b[0m \u001b[39mdef\u001b[39;00m \u001b[39mdivision\u001b[39m(zaehler, nenner):\n\u001b[1;32m----> <a href='vscode-notebook-cell:/c%3A/Users/ploennigs/Documents/code/Lehre/Programmierung-und-Datenbanken/Vorlesung/6_Errors_and_Debugging.ipynb#X65sZmlsZQ%3D%3D?line=1'>2</a>\u001b[0m     \u001b[39mreturn\u001b[39;00m zaehler \u001b[39m/\u001b[39;49m nenner\n",
      "\u001b[1;31mZeroDivisionError\u001b[0m: division by zero"
     ]
    }
   ],
   "source": [
    "test_grenzwert()"
   ]
  },
  {
   "cell_type": "markdown",
   "metadata": {},
   "source": [
    "Auch der Datentyptest ist nicht erfolgreich, weil wir ja definiert haben, dass bei falschen Eingabedatentypen ein `ValueError` erzeugt werden soll, wir aber einen `TypeError` erhalten."
   ]
  },
  {
   "cell_type": "code",
   "execution_count": 25,
   "metadata": {},
   "outputs": [
    {
     "ename": "AssertionError",
     "evalue": "",
     "output_type": "error",
     "traceback": [
      "\u001b[1;31m---------------------------------------------------------------------------\u001b[0m",
      "\u001b[1;31mTypeError\u001b[0m                                 Traceback (most recent call last)",
      "\u001b[1;32mc:\\Users\\ploennigs\\Documents\\code\\Lehre\\Programmierung-und-Datenbanken\\Vorlesung\\6_Errors_and_Debugging.ipynb Zelle 50\u001b[0m in \u001b[0;36mtest_datentyp\u001b[1;34m()\u001b[0m\n\u001b[0;32m      <a href='vscode-notebook-cell:/c%3A/Users/ploennigs/Documents/code/Lehre/Programmierung-und-Datenbanken/Vorlesung/6_Errors_and_Debugging.ipynb#Y100sZmlsZQ%3D%3D?line=2'>3</a>\u001b[0m \u001b[39mtry\u001b[39;00m:  \n\u001b[1;32m----> <a href='vscode-notebook-cell:/c%3A/Users/ploennigs/Documents/code/Lehre/Programmierung-und-Datenbanken/Vorlesung/6_Errors_and_Debugging.ipynb#Y100sZmlsZQ%3D%3D?line=3'>4</a>\u001b[0m     division(\u001b[39m\"\u001b[39;49m\u001b[39mfalscher typ\u001b[39;49m\u001b[39m\"\u001b[39;49m, \u001b[39m1\u001b[39;49m)\n\u001b[0;32m      <a href='vscode-notebook-cell:/c%3A/Users/ploennigs/Documents/code/Lehre/Programmierung-und-Datenbanken/Vorlesung/6_Errors_and_Debugging.ipynb#Y100sZmlsZQ%3D%3D?line=4'>5</a>\u001b[0m \u001b[39mexcept\u001b[39;00m \u001b[39mException\u001b[39;00m \u001b[39mas\u001b[39;00m e:\n",
      "\u001b[1;32mc:\\Users\\ploennigs\\Documents\\code\\Lehre\\Programmierung-und-Datenbanken\\Vorlesung\\6_Errors_and_Debugging.ipynb Zelle 50\u001b[0m in \u001b[0;36mdivision\u001b[1;34m(zaehler, nenner)\u001b[0m\n\u001b[0;32m      <a href='vscode-notebook-cell:/c%3A/Users/ploennigs/Documents/code/Lehre/Programmierung-und-Datenbanken/Vorlesung/6_Errors_and_Debugging.ipynb#Y100sZmlsZQ%3D%3D?line=0'>1</a>\u001b[0m \u001b[39mdef\u001b[39;00m \u001b[39mdivision\u001b[39m(zaehler, nenner):\n\u001b[1;32m----> <a href='vscode-notebook-cell:/c%3A/Users/ploennigs/Documents/code/Lehre/Programmierung-und-Datenbanken/Vorlesung/6_Errors_and_Debugging.ipynb#Y100sZmlsZQ%3D%3D?line=1'>2</a>\u001b[0m     \u001b[39mreturn\u001b[39;00m zaehler \u001b[39m/\u001b[39;49m nenner\n",
      "\u001b[1;31mTypeError\u001b[0m: unsupported operand type(s) for /: 'str' and 'int'",
      "\nDuring handling of the above exception, another exception occurred:\n",
      "\u001b[1;31mAssertionError\u001b[0m                            Traceback (most recent call last)",
      "\u001b[1;32mc:\\Users\\ploennigs\\Documents\\code\\Lehre\\Programmierung-und-Datenbanken\\Vorlesung\\6_Errors_and_Debugging.ipynb Zelle 50\u001b[0m in \u001b[0;36m<cell line: 1>\u001b[1;34m()\u001b[0m\n\u001b[1;32m----> <a href='vscode-notebook-cell:/c%3A/Users/ploennigs/Documents/code/Lehre/Programmierung-und-Datenbanken/Vorlesung/6_Errors_and_Debugging.ipynb#Y100sZmlsZQ%3D%3D?line=0'>1</a>\u001b[0m test_datentyp()\n",
      "\u001b[1;32mc:\\Users\\ploennigs\\Documents\\code\\Lehre\\Programmierung-und-Datenbanken\\Vorlesung\\6_Errors_and_Debugging.ipynb Zelle 50\u001b[0m in \u001b[0;36mtest_datentyp\u001b[1;34m()\u001b[0m\n\u001b[0;32m      <a href='vscode-notebook-cell:/c%3A/Users/ploennigs/Documents/code/Lehre/Programmierung-und-Datenbanken/Vorlesung/6_Errors_and_Debugging.ipynb#Y100sZmlsZQ%3D%3D?line=3'>4</a>\u001b[0m     division(\u001b[39m\"\u001b[39m\u001b[39mfalscher typ\u001b[39m\u001b[39m\"\u001b[39m, \u001b[39m1\u001b[39m)\n\u001b[0;32m      <a href='vscode-notebook-cell:/c%3A/Users/ploennigs/Documents/code/Lehre/Programmierung-und-Datenbanken/Vorlesung/6_Errors_and_Debugging.ipynb#Y100sZmlsZQ%3D%3D?line=4'>5</a>\u001b[0m \u001b[39mexcept\u001b[39;00m \u001b[39mException\u001b[39;00m \u001b[39mas\u001b[39;00m e:\n\u001b[1;32m----> <a href='vscode-notebook-cell:/c%3A/Users/ploennigs/Documents/code/Lehre/Programmierung-und-Datenbanken/Vorlesung/6_Errors_and_Debugging.ipynb#Y100sZmlsZQ%3D%3D?line=5'>6</a>\u001b[0m     \u001b[39massert\u001b[39;00m \u001b[39misinstance\u001b[39m(e, \u001b[39mValueError\u001b[39;00m)\n\u001b[0;32m      <a href='vscode-notebook-cell:/c%3A/Users/ploennigs/Documents/code/Lehre/Programmierung-und-Datenbanken/Vorlesung/6_Errors_and_Debugging.ipynb#Y100sZmlsZQ%3D%3D?line=6'>7</a>\u001b[0m \u001b[39melse\u001b[39;00m:\n\u001b[0;32m      <a href='vscode-notebook-cell:/c%3A/Users/ploennigs/Documents/code/Lehre/Programmierung-und-Datenbanken/Vorlesung/6_Errors_and_Debugging.ipynb#Y100sZmlsZQ%3D%3D?line=7'>8</a>\u001b[0m     \u001b[39mraise\u001b[39;00m \u001b[39mAssertionError\u001b[39;00m(\u001b[39m\"\u001b[39m\u001b[39mDatatype\u001b[39m\u001b[39m\"\u001b[39m)\n",
      "\u001b[1;31mAssertionError\u001b[0m: "
     ]
    }
   ],
   "source": [
    "test_datentyp()"
   ]
  },
  {
   "cell_type": "markdown",
   "metadata": {},
   "source": [
    "# Debugging"
   ]
  },
  {
   "cell_type": "markdown",
   "metadata": {},
   "source": [
    "## Debugging mit `print()`"
   ]
  },
  {
   "cell_type": "markdown",
   "metadata": {},
   "source": [
    "Logische Fehler treten häufig erst dynamich auf und lassen sich nicht durch statische Code-Analyse durch Lint-Tools finden. Hier muss man dann den aktuellen Programmfluss nachvollziehen. Dies nennt man Debugging. Die einfachste Form ist das `print`-Debugging bei der man den Code mit `print()`-Befehlen zuspamt.\n",
    "\n",
    "Wir erweitern mal unsere Divisionsfunktion mit schönen vielen `print()`-Statements. Üblich ist es zum Beispiel, die Parameter zu printen. Fehler und Warnungen auszugeben, als auch dann Ergebnisse zu loggen."
   ]
  },
  {
   "cell_type": "code",
   "execution_count": 26,
   "metadata": {},
   "outputs": [],
   "source": [
    "def division(zaehler, nenner):\n",
    "    print(f\"Debug: Eingabe Zaehler: {zaehler}\")\n",
    "    print(f\"Debug: Eingabe Nenner: {nenner}\")\n",
    "    if not isinstance(nenner, (int, float)):\n",
    "        print(f\"Error: Nenner nicht vom Datentyp `int` oder `float`, sondern vom Typ {type(nenner)}\")\n",
    "        raise ValueError(f\"Nenner nicht vom Datentyp `int` oder `float`, sondern vom Typ {type(nenner)}\")\n",
    "    elif not isinstance(zaehler, (int, float)):\n",
    "        print(f\"Error: Zaehler nicht vom Datentyp `int` oder `float`, sondern vom Typ {type(zaehler)}\")\n",
    "        raise ValueError(f\"Zaehler nicht vom Datentyp `int` oder `float`, sondern vom Typ {type(zaehler)}\")\n",
    "    elif not nenner:\n",
    "        print(\"Warning: Division durch 0\")\n",
    "        return None\n",
    "    else:\n",
    "        ergebnis = zaehler / nenner\n",
    "        print(f\"Info: Das Ergebnis von {zaehler}/{nenner} = {ergebnis}\")\n",
    "        return ergebnis"
   ]
  },
  {
   "cell_type": "markdown",
   "metadata": {},
   "source": [
    "Jetzt können wir insbesondere im Fehlerfall sehr gut nachvollziehen was genau geschehen ist. Zum Beispiel bei der Division durch 0."
   ]
  },
  {
   "cell_type": "code",
   "execution_count": 27,
   "metadata": {},
   "outputs": [
    {
     "name": "stdout",
     "output_type": "stream",
     "text": [
      "Debug: Eingabe Zaehler: 10\n",
      "Debug: Eingabe Nenner: 0\n",
      "Warning: Division durch 0\n"
     ]
    }
   ],
   "source": [
    "division(10, 0)"
   ]
  },
  {
   "cell_type": "markdown",
   "metadata": {},
   "source": [
    "Allerdings haben wir auch im korrekten Fall sehr viele Ausgaben. Das kann sehr störend sein, weil man dann richtige Fehler sehr schnell übersieht. Zum Beispiel erzeugen wir zehn Divisionen, von der eine eine Division durch 0 war."
   ]
  },
  {
   "cell_type": "code",
   "execution_count": 28,
   "metadata": {},
   "outputs": [
    {
     "name": "stdout",
     "output_type": "stream",
     "text": [
      "Debug: Eingabe Zaehler: 10\n",
      "Debug: Eingabe Nenner: -2\n",
      "Info: Das Ergebnis von 10/-2 = -5.0\n",
      "Debug: Eingabe Zaehler: 10\n",
      "Debug: Eingabe Nenner: -1\n",
      "Info: Das Ergebnis von 10/-1 = -10.0\n",
      "Debug: Eingabe Zaehler: 10\n",
      "Debug: Eingabe Nenner: 0\n",
      "Warning: Division durch 0\n",
      "Debug: Eingabe Zaehler: 10\n",
      "Debug: Eingabe Nenner: 1\n",
      "Info: Das Ergebnis von 10/1 = 10.0\n",
      "Debug: Eingabe Zaehler: 10\n",
      "Debug: Eingabe Nenner: 2\n",
      "Info: Das Ergebnis von 10/2 = 5.0\n",
      "Debug: Eingabe Zaehler: 10\n",
      "Debug: Eingabe Nenner: 3\n",
      "Info: Das Ergebnis von 10/3 = 3.3333333333333335\n",
      "Debug: Eingabe Zaehler: 10\n",
      "Debug: Eingabe Nenner: 4\n",
      "Info: Das Ergebnis von 10/4 = 2.5\n",
      "Debug: Eingabe Zaehler: 10\n",
      "Debug: Eingabe Nenner: 5\n",
      "Info: Das Ergebnis von 10/5 = 2.0\n",
      "Debug: Eingabe Zaehler: 10\n",
      "Debug: Eingabe Nenner: 6\n",
      "Info: Das Ergebnis von 10/6 = 1.6666666666666667\n",
      "Debug: Eingabe Zaehler: 10\n",
      "Debug: Eingabe Nenner: 7\n",
      "Info: Das Ergebnis von 10/7 = 1.4285714285714286\n"
     ]
    }
   ],
   "source": [
    "for nenner in range(-2, 8):\n",
    "    division(10, nenner)"
   ]
  },
  {
   "cell_type": "markdown",
   "metadata": {},
   "source": [
    "## Debugging mit Logging"
   ]
  },
  {
   "cell_type": "markdown",
   "metadata": {},
   "source": [
    "Deshalb verwendet man bei komplexeren Programmen meist logging-Bibliotheken. Diese erlauben es `print`-Statements Kategorien zuzuordnen und anhand dieser zu filtern. In der Python-Bibliothek `logging` sind die Kategorien: `debug`, `info`, `warning`, `error` und `critical`."
   ]
  },
  {
   "cell_type": "code",
   "execution_count": 29,
   "metadata": {},
   "outputs": [],
   "source": [
    "import logging\n",
    "\n",
    "log=logging.getLogger(\"meinlog\")\n",
    "\n",
    "def division(zaehler, nenner):\n",
    "    log.debug(f\"Eingabe Zaehler: {zaehler}\")\n",
    "    log.debug(f\"Eingabe Nenner: {nenner}\")\n",
    "    if not isinstance(nenner, (int, float)):\n",
    "        log.error(f\"Nenner nicht vom Datentyp `int` oder `float`, sondern vom Typ {type(nenner)}\")\n",
    "        raise ValueError(f\"Nenner nicht vom Datentyp `int` oder `float`, sondern vom Typ {type(nenner)}\")\n",
    "    elif not isinstance(zaehler, (int, float)):\n",
    "        log.error(f\"Zaehler nicht vom Datentyp `int` oder `float`, sondern vom Typ {type(zaehler)}\")\n",
    "        raise ValueError(f\"Zaehler nicht vom Datentyp `int` oder `float`, sondern vom Typ {type(zaehler)}\")\n",
    "    elif not nenner:\n",
    "        log.warning(\"Division durch 0\")\n",
    "        return None\n",
    "    else:\n",
    "        ergebnis = zaehler / nenner\n",
    "        log.info(f\"Das Ergebnis von {zaehler}/{nenner} = {ergebnis}\")\n",
    "        return ergebnis"
   ]
  },
  {
   "cell_type": "markdown",
   "metadata": {},
   "source": [
    "Wenn wir jetzt die Funktion aufrufen sehen wir nur noch die Division durch 0 Warnung."
   ]
  },
  {
   "cell_type": "code",
   "execution_count": 30,
   "metadata": {},
   "outputs": [
    {
     "name": "stderr",
     "output_type": "stream",
     "text": [
      "Division durch 0\n"
     ]
    }
   ],
   "source": [
    "log.setLevel(logging.WARNING)\n",
    "for nenner in range(-2, 8):\n",
    "    division(10, nenner)"
   ]
  },
  {
   "cell_type": "markdown",
   "metadata": {},
   "source": [
    "Wir können allerdings bei Bedarf, wie bei der Fehlersuche den Loglevel auch erhöhen. Zum Beispiel wollen wir alle Debug-Nachrichten erhalten."
   ]
  },
  {
   "cell_type": "code",
   "execution_count": 31,
   "metadata": {},
   "outputs": [
    {
     "name": "stderr",
     "output_type": "stream",
     "text": [
      "Division durch 0\n"
     ]
    }
   ],
   "source": [
    "log.setLevel(logging.DEBUG)\n",
    "for nenner in range(-2, 8):\n",
    "    division(10, nenner)"
   ]
  },
  {
   "cell_type": "markdown",
   "metadata": {},
   "source": [
    "Ferner erlaub das Logging auch automatisch weitere Informationen hinzuzufügen. Wir sehen im Log oben bereits, das nicht nur das Level (INFO, DEBUG, WARNING) sondern auch den Namen des Loggers (meinlog). Wir können dieses Format anpassen um z.B. auch die Zeit auszugeben, was insbesondere wichtig ist um zu verstehen wann etwas passiert ist."
   ]
  },
  {
   "cell_type": "code",
   "execution_count": 32,
   "metadata": {},
   "outputs": [
    {
     "name": "stderr",
     "output_type": "stream",
     "text": [
      "2022-11-12 16:04:09,156  meinlog  INFO: Das Ergebnis von 10/-2 = -5.0\n",
      "2022-11-12 16:04:09,157  meinlog  INFO: Das Ergebnis von 10/-1 = -10.0\n",
      "2022-11-12 16:04:09,158  meinlog  WARNING: Division durch 0\n",
      "2022-11-12 16:04:09,158  meinlog  INFO: Das Ergebnis von 10/1 = 10.0\n",
      "2022-11-12 16:04:09,159  meinlog  INFO: Das Ergebnis von 10/2 = 5.0\n",
      "2022-11-12 16:04:09,160  meinlog  INFO: Das Ergebnis von 10/3 = 3.3333333333333335\n",
      "2022-11-12 16:04:09,160  meinlog  INFO: Das Ergebnis von 10/4 = 2.5\n",
      "2022-11-12 16:04:09,161  meinlog  INFO: Das Ergebnis von 10/5 = 2.0\n",
      "2022-11-12 16:04:09,161  meinlog  INFO: Das Ergebnis von 10/6 = 1.6666666666666667\n",
      "2022-11-12 16:04:09,162  meinlog  INFO: Das Ergebnis von 10/7 = 1.4285714285714286\n"
     ]
    }
   ],
   "source": [
    "sh=logging.StreamHandler()\n",
    "formatter = logging.Formatter('%(asctime)s  %(name)s  %(levelname)s: %(message)s')\n",
    "sh.setFormatter(formatter)\n",
    "log.addHandler(sh)\n",
    "log.setLevel(logging.INFO)\n",
    "\n",
    "for nenner in range(-2, 8):\n",
    "    division(10, nenner)"
   ]
  },
  {
   "cell_type": "markdown",
   "metadata": {},
   "source": [
    "In der Praxis wird das Logging sehr häufig insbesondere in Cloud-Anwendungen verwendet. Da diese ja meist keine Bildschirme haben, müssen Fehler in Logs gesucht werden. So lange alles ok ist, läuft so eine Anwendung dann z.B. im Log-Level `INFO`, mit nur wenig Ausgaben. Tritt ein Fehler auf, so wird der Server auf das Log-Level `DEBUG` gesetzt und man sucht in den detaillierten Logs dann nach Informationen um den Fehler einzugrenzen."
   ]
  },
  {
   "cell_type": "markdown",
   "metadata": {},
   "source": [
    "## Debugging durch Debug-Oberflächen"
   ]
  },
  {
   "cell_type": "markdown",
   "metadata": {},
   "source": [
    "Viele integrierte Entwicklungsumgebungen (IDE) bieten an direkt Debugger auszuführen. Diese Debugger erlauben es die dynamische Ausführung des Codes zu unterbrechen. Ziel ist es kurz vor Auftreten des Fehlers die Ausführung anzuhalten, um dann das Fehlerverhalten genau beobachten zu können.\n",
    "\n",
    "Dabei werden meist zwei Formen der Unterbrechung unterstützt:\n",
    "-  Die Unterbrechung in bestimmten Code-Zeilen mit Hilfe von Breakpoints.\n",
    "-  Die Unterbrechung bei bestimmten Exceptions."
   ]
  },
  {
   "cell_type": "markdown",
   "metadata": {},
   "source": [
    "### Debugging in Jupyter-Notebooks in VSCode"
   ]
  },
  {
   "cell_type": "markdown",
   "metadata": {},
   "source": [
    "Die Debug-Oberflächen sehen je nach IDE etwas anders aus, verfügen aber über ähnliche Funktionen. Dieses Jupyter Notebook wurde in VSCode geschrieben, welches wir als erstes Beispiel betrachten."
   ]
  },
  {
   "cell_type": "markdown",
   "metadata": {},
   "source": [
    "Dafür kann man meist in der IDE links neben eine Zeile klicken um einen Breakpoint <span style=\"color: red\">⬤</span> zu setzen. Wir setzen dafür einen Breakpoint auf die Zeile 11 auf die Ausgabe der Warnung.\n",
    "\n",
    "\n",
    "<center><img src=\"debug_vscode_1.png\" style=\"height: 3ex\"></center>"
   ]
  },
  {
   "cell_type": "markdown",
   "metadata": {},
   "source": [
    "Dann wird der Code in einer speziellen Debugumgebung ausgeführt, die es erlaub die Ausführung zu unterbrechen. In unserm Notebook in VSCode starten wird diese durch das Symbol <img src=\"debug_vscode_2.png\" style=\"height: 2ex\">."
   ]
  },
  {
   "cell_type": "code",
   "execution_count": 33,
   "metadata": {},
   "outputs": [
    {
     "name": "stderr",
     "output_type": "stream",
     "text": [
      "2022-11-12 16:04:18,072  meinlog  WARNING: Division durch 0\n"
     ]
    }
   ],
   "source": [
    "def division(zaehler, nenner):\n",
    "    log.debug(f\"Eingabe Zaehler: {zaehler}\")\n",
    "    log.debug(f\"Eingabe Nenner: {nenner}\")\n",
    "    if not isinstance(nenner, (int, float)):\n",
    "        log.error(f\"Nenner nicht vom Datentyp `int` oder `float`, sondern vom Typ {type(nenner)}\")\n",
    "        raise ValueError(f\"Nenner nicht vom Datentyp `int` oder `float`, sondern vom Typ {type(nenner)}\")\n",
    "    elif not isinstance(zaehler, (int, float)):\n",
    "        log.error(f\"Zaehler nicht vom Datentyp `int` oder `float`, sondern vom Typ {type(zaehler)}\")\n",
    "        raise ValueError(f\"Zaehler nicht vom Datentyp `int` oder `float`, sondern vom Typ {type(zaehler)}\")\n",
    "    elif not nenner:\n",
    "        log.warning(\"Division durch 0\")\n",
    "        return None\n",
    "    else:\n",
    "        ergebnis = zaehler / nenner\n",
    "        log.info(f\"Das Ergebnis von {zaehler}/{nenner} = {ergebnis}\")\n",
    "        return ergebnis\n",
    "\n",
    "division(10, 0)"
   ]
  },
  {
   "cell_type": "markdown",
   "metadata": {},
   "source": [
    "Dies started den Debug-Modus. In diesem wird die aktuelle Zeile vorgehoben als auch die aktuellen Variablen im Speicher angezeigt.\n",
    "\n",
    "<center><img src=\"debug_vscode_3.png\"></center>"
   ]
  },
  {
   "cell_type": "markdown",
   "metadata": {},
   "source": [
    "In der Debugumgebung kann man dann Zeile für Zeile vorgehen durch drücken von <img src=\"debug_vscode_2.png\" style=\"height: 2ex\"> und damit nachvollziehen wie das Programm bearbeitet wird und welche Variablen sich ändern."
   ]
  },
  {
   "cell_type": "markdown",
   "metadata": {},
   "source": [
    "### Debugging in repl.it"
   ]
  },
  {
   "cell_type": "markdown",
   "metadata": {},
   "source": [
    "In repl.it sieht die Debugging-Oberfläche ähnlich aus. Wir setzen einen Breakpoint <span style=\"color: red\">⬤</span> durch klicken auf die Zeile 11 auf die Ausgabe der Warnung.\n",
    "\n",
    "<center><img src=\"debug_replit_1.png\" style=\"height: 3ex\"></center>"
   ]
  },
  {
   "cell_type": "markdown",
   "metadata": {},
   "source": [
    "Die Debugumgebung wird durch  <img src=\"debug_replit_2.png\" height=\"20px\"> gestartet. Sie erlaub die Ausführung zu starten, einzelne Zeilen auszuführen, den Schritt zu überspringen oder bis zum Breakpoint auszuführen (links nach rechts).\n",
    "\n",
    "<center><img src=\"debug_replit_3.png\" style=\"height: 4ex\"></center>\n",
    "\n",
    "Auch hier werden die aktuellen Variablen angezeigt als auch der Stack.\n",
    "\n",
    "<center><img src=\"debug_replit_4.png\" width=\"30%\"></center>"
   ]
  }
 ],
 "metadata": {
  "kernelspec": {
   "display_name": "Python 3.10.6 ('lehre')",
   "language": "python",
   "name": "python3"
  },
  "language_info": {
   "codemirror_mode": {
    "name": "ipython",
    "version": 3
   },
   "file_extension": ".py",
   "mimetype": "text/x-python",
   "name": "python",
   "nbconvert_exporter": "python",
   "pygments_lexer": "ipython3",
   "version": "3.10.6"
  },
  "orig_nbformat": 4,
  "vscode": {
   "interpreter": {
    "hash": "c6f6ea9c9385f57658f4c302ffd3b717b6cd59b095fbd1c55795f0b67656eecd"
   }
  }
 },
 "nbformat": 4,
 "nbformat_minor": 2
}
