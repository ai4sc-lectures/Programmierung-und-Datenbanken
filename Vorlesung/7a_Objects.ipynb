{
 "cells": [
  {
   "cell_type": "markdown",
   "metadata": {},
   "source": [
    "# Objekte"
   ]
  },
  {
   "cell_type": "markdown",
   "metadata": {},
   "source": [
    "Objektorientierte Programmierung (OOP) ist ein Programmierparadigma das annimmt dass ein Programm ausschließlich aus **Objekten** die miteinander kooperativ interagieren. Jedes Objekt verfügt über **Attribute** (Eigenschaften) und **Methoden**. Die Attribute definieren dabei über ihre Werte den Zustand eines Objektes, die Methoden die möglichen Zustandsänderungen (Handlungen) eines Objektes.\n",
    "\n",
    "Die Objektorientierung löst dabei einige Problem im Umgang mit sich oft wiederholenden Datenstrukturen in großen Programmen."
   ]
  },
  {
   "cell_type": "markdown",
   "metadata": {},
   "source": [
    "## Herausforderungen mit sich stark wiederholenden Datenstrukturen"
   ]
  },
  {
   "cell_type": "markdown",
   "metadata": {},
   "source": [
    "### Das syntaktische Problem"
   ]
  },
  {
   "cell_type": "markdown",
   "metadata": {},
   "source": [
    "Objekte werden verwendet, um festzulegen wie Datenstrukturen die sich wiederholen gespeichert werden. Hierbei geht es darum, dass der Syntax der Datenstruktur eindeutig ist.\n",
    "\n",
    "Wächst das Programm an, so wächst auch die Menge der Variablen und Datenstrukturen\n",
    "-  zur Speicherung von Daten\n",
    "-  zur Kontrolle des Programmflusses\n",
    "-  zum Abspeichern von Zuständen\n",
    "-  zum Verarbeiten von Ein- und Ausgaben\n",
    "\n",
    "Dabei basieren die zugrundeliegenden Elemente meist auf sich wiederholenden Datenstrukturen. Analysiert man z.B. Baupläne oder Karten so verwaltet man viele Punkt-Koordinaten. Hierbei kann man allerdings ein Koordinate unterschiedlich z.B. als Tupel oder als Liste ausdrücken."
   ]
  },
  {
   "cell_type": "code",
   "execution_count": 115,
   "metadata": {},
   "outputs": [],
   "source": [
    "punkt_1 = (54.083336, 12.108811)\n",
    "punkt_2 = [12.094167, 54.075211]"
   ]
  },
  {
   "cell_type": "markdown",
   "metadata": {},
   "source": [
    "### Das semantische Problem"
   ]
  },
  {
   "cell_type": "markdown",
   "metadata": {},
   "source": [
    "Objekte werden auch verwendet, um die Semantik von Werten einer Datenstrukturen eindeutig zu definieren.\n",
    "\n",
    "Haben wir uns z.B. darauf geeinigt, dass wir ein Punkt syntaktisch durch ein Tupel repräsentieren, so ist die Bedeutung der Werte dennoch nicht bekannt."
   ]
  },
  {
   "cell_type": "code",
   "execution_count": 114,
   "metadata": {},
   "outputs": [],
   "source": [
    "punkt_1 = (54.083336, 12.108811)\n",
    "punkt_2 = (12.094167, 54.075211)"
   ]
  },
  {
   "cell_type": "markdown",
   "metadata": {},
   "source": [
    "Ein anderer Programmierer wird hier aber ggf. nicht die semantische Bedeutung verstehen. In diesem Beispiel kann man vermuten, dass der erste Wert die `x`-Koordinate ist und der zweite die `y`-Koordinate. Vieleicht ist es aber auch andersherum. Ggf. handelt es sich aber auch garnicht um ein karthesisches Koordinatensystem sondern um ein radiales."
   ]
  },
  {
   "cell_type": "markdown",
   "metadata": {},
   "source": [
    "### Das Verhaltensproblem"
   ]
  },
  {
   "cell_type": "markdown",
   "metadata": {},
   "source": [
    "\n",
    "\n",
    "Objekte werden zudem verwendet, um die Funktionen zur Verarbeitung der Datenstrukturen direkt mit dieser zu bündeln, so dass die Datenstruktur nur jene Funktionen anbietet, welche auch sinnvoll anwendbar sind.\n",
    "\n",
    "Definieren wir z.B. eine Funktion um die Distanz zweier Punkte zu berechnen, so kann man aufgrund der dynamischen Typisierung in Python diese ja auch auf andere Datenstrukturen anwenden, z.B. auf eine Line. Was ein semantisch oder logischer Fehler wäre."
   ]
  },
  {
   "cell_type": "code",
   "execution_count": 138,
   "metadata": {},
   "outputs": [],
   "source": [
    "import math\n",
    "\n",
    "def distanz(a, b):\n",
    "    return math.sqrt((a[0]-b[0])**2 + (a[1]-b[1])**2)"
   ]
  },
  {
   "cell_type": "markdown",
   "metadata": {},
   "source": [
    "## Objektorientierung"
   ]
  },
  {
   "cell_type": "markdown",
   "metadata": {},
   "source": [
    "## Klassen deklaration"
   ]
  },
  {
   "cell_type": "markdown",
   "metadata": {},
   "source": [
    "Anstatt unübersichtlich viele verstreute Datenstrukturen und Funktionen zu benutzen, gruppieren wir diese in Objekte. \n",
    "Da man ja normieren will, muss die Struktur dieser Objekte vor Verwendung definiert werden. Dies geschieht über **Klassen**, welche eine Art Bauplan für die damit normierten Objekte darstellt. Eine Klasse definiert:\n",
    "\n",
    "-   welche Attribute (Eigenschaften) ein Objekt dieser Klasse besitzt\n",
    "-   und welche Methoden (Funktionen) ein Objekt der Klasse bereit stellt"
   ]
  },
  {
   "cell_type": "markdown",
   "metadata": {},
   "source": [
    "Der erste Schritt zu einem Objekt ist das Definieren einer neuen Klasse für den Typ des Objektes. Dies geschieht über den `class`-Kennwort auf welches der Klassenname folgt. Danach wird wie die Klassendefinition eingerückt. Diese legt fest welche Attribute und Methoden die Klasse besitzt."
   ]
  },
  {
   "cell_type": "code",
   "execution_count": 139,
   "metadata": {},
   "outputs": [],
   "source": [
    "class Klassenname:\n",
    "    # Klassendefinition\n",
    "    pass"
   ]
  },
  {
   "cell_type": "markdown",
   "metadata": {},
   "source": [
    "### Konstruktor"
   ]
  },
  {
   "cell_type": "markdown",
   "metadata": {},
   "source": [
    "Eine der wichtigsten Methoden einer Klasse ist der Konstruktor `__init__()`. Das ist eine spezielle Methode, die festlegt wie eine neue Instanz der Klasse erzeugt werden kann. Er wird genutzt um Attribute initial zuzuweisen als auch Initialisierungsschritte (Tests, Berechnungen, Konfiguration, etc.) durchzuführen.\n",
    "\n",
    "Jede Klasse muss genau einen Konstruktur haben. Wird dieser nicht definiert, so wird ein leerer Konstruktor von Python erzeugt, der nichts macht, wie das folgende Beispiel."
   ]
  },
  {
   "cell_type": "code",
   "execution_count": 140,
   "metadata": {},
   "outputs": [],
   "source": [
    "class Klassenname:\n",
    "    # Leerer Konstruktor\n",
    "    def __init__(self):\n",
    "        pass"
   ]
  },
  {
   "cell_type": "markdown",
   "metadata": {},
   "source": [
    "### Instanzattribute"
   ]
  },
  {
   "cell_type": "markdown",
   "metadata": {},
   "source": [
    "Der Konstruktor wird als Funktion `__init__(self)` mit dem Parameter `self` definiert. `self` ist dabei eine Selbst-Referenz auf die neue Instanz der Klasse. Sie dient dazu, dass man Instanzattribute direkt beim Erzeugen der Instanz zuweisen kann. **Instanzattribute** sind Attribute die in jeder Instanz unterschiedlich sein können, also wenn es individuelle Werte der Eingenschaft gibt.\n",
    "\n",
    "Definieren wir z.B. die Klasse eines Punktes mit `x`- und `y`-Koordinaten. Da jede Instanz diese beiden Koordinaten haben muss und sie auch für jede Instanz unterschiedlich sein können, weisen wir sie bereits im Konstruktor als Instanzattribute zu. Damit ist festgelet, dass jede Instanz der Klasse diese Attribute hat."
   ]
  },
  {
   "cell_type": "code",
   "execution_count": 141,
   "metadata": {},
   "outputs": [],
   "source": [
    "class Punkt:\n",
    "    # Konstruktor\n",
    "    def __init__(self, x, y):\n",
    "        self.x = x\n",
    "        self.y = y"
   ]
  },
  {
   "cell_type": "markdown",
   "metadata": {},
   "source": [
    "Die Zuweisung erfolgt hierbei über den Punkt-Syntax bei dem ein Punkt die Instanzvariable (`self`) von dem Attributnamen `x` trennt. `self.x` ist somit eine Referenz auf das Attribut `x` der Instanz `self`. Die Zuweisung `self.x = x` bedeutet dass wir den Wert der Variablen `x` dem neuen Instanzattribut `x` zuweise. Obwohl beide gleich heißen sind sie nicht die gleiche Variable, weil `self.x` ja ein Attribut der Instanz ist und `x` ein Parameter der Funktion ist und nur in dieser gültig ist."
   ]
  },
  {
   "cell_type": "markdown",
   "metadata": {},
   "source": [
    "Da `__init__()` eine Funktion ist, wenn auch besonders, kann man auch Defaults definieren. Wollen wir z.B. definieren wir, dass `x` und `y` mit 0 initialisiert werden, wenn sie nicht angegeben werden, so können wir auch dies als Defaultwerte deklarieren"
   ]
  },
  {
   "cell_type": "code",
   "execution_count": 142,
   "metadata": {},
   "outputs": [],
   "source": [
    "class Punkt:\n",
    "    # Konstruktor\n",
    "    def __init__(self, x = 0.0, y = 0.0):\n",
    "        self.x = x\n",
    "        self.y = y"
   ]
  },
  {
   "cell_type": "markdown",
   "metadata": {},
   "source": [
    "### Klassenattribute"
   ]
  },
  {
   "cell_type": "markdown",
   "metadata": {},
   "source": [
    "Neben Instanzattributen gibt es auch **Klassenattribute**. Dies sind Attribute welche für alle Instanzen einer Klasse den gleichen Wert haben sollen. "
   ]
  },
  {
   "cell_type": "code",
   "execution_count": 143,
   "metadata": {},
   "outputs": [],
   "source": [
    "class Punkt:\n",
    "    # Attribut aller Instanzen\n",
    "    einheit = \"m\""
   ]
  },
  {
   "cell_type": "markdown",
   "metadata": {},
   "source": [
    ":::{warning}\n",
    "**Klassenattribute** gelten für alle Instanzen. Wenn also eine Instanz den Wert ändert, so ändert er sich in allen anderen Instanzen auch.\n",
    ":::"
   ]
  },
  {
   "cell_type": "markdown",
   "metadata": {},
   "source": [
    "### Methoden"
   ]
  },
  {
   "cell_type": "markdown",
   "metadata": {},
   "source": [
    "Klassen definieren häufig auch eigene Methoden, also Funktionen die speziell nur auf Instanzen dieser Klasse angewendet werden sollen und nicht auf andere Objekte.\n",
    "\n",
    "Methoden werden als Funktionen innerhalb der Einrückung der Klassendefinition deklariert. Diese Methoden sind dann in allen Instanzen verfügbar. Methoden besitzen immer `self` als ersten Parameter. Auch hier ist das eine Referenz auf die aktuelle Instanz. Dadurch kann man dann auf die Attribute oder andere Methoden zugreifen.\n",
    "\n",
    "So können wir zum Beispiel die `distanz`-Funktion vom Anfang als Methode definieren, dass sie nun die Distanz zweier Punkte `self` und `other` berechnen."
   ]
  },
  {
   "cell_type": "code",
   "execution_count": 145,
   "metadata": {},
   "outputs": [],
   "source": [
    "class Punkt:\n",
    "    # Attribut aller Instanzen\n",
    "    einheit = \"m\"\n",
    "    \n",
    "    # Konstruktor\n",
    "    def __init__(self, x, y):\n",
    "        self.x = x\n",
    "        self.y = y\n",
    "\n",
    "    # Methode\n",
    "    def distanz(self, other):\n",
    "        return math.sqrt((self.x - other.x)**2 + (self.y - other.y)**2)"
   ]
  },
  {
   "cell_type": "markdown",
   "metadata": {},
   "source": [
    "## Klasseninstanzen"
   ]
  },
  {
   "cell_type": "markdown",
   "metadata": {},
   "source": [
    "Objekte selbst sind immer Instanzen einer Klasse (die Klasse ist ja nur ein Bauplan). Eine Klasse kann beliebig viele Instanzen haben oder gar keine. Alle Instanzen sind gleich aufgebaut, besitzen aber nicht unbedingt die gleiche Werte in den Attributen.\n",
    "\n",
    "Mit der neuen Klasse `Punkt` können wir nun die Punkte am Anfang jetzt syntaktisch, semantisch und im Verhalten eindeutig definieren. Dabei erzeugen wir Instanzen der Klasse nicht direkt mit dem Konstruktor sondern indem wir den Klassennahmen wie eine Funktion aufrufen, mit den Parametern des Konstruktors. Dabei wird der `self`-Parameter weggelassen (er wird von Python zugewiesen).\n",
    "\n",
    "Dabei können wir die Parameter auch bennen und so semantische Unklarheiten umgehen."
   ]
  },
  {
   "cell_type": "code",
   "execution_count": 159,
   "metadata": {},
   "outputs": [],
   "source": [
    "punkt_1 = Punkt(x=54.083336, y=12.108811)\n",
    "punkt_2 = Punkt(y=12.094167, x=54.075211)"
   ]
  },
  {
   "cell_type": "markdown",
   "metadata": {},
   "source": [
    "Auch die Werte des Objektes sind nun semantisch klar definiert. Wir können auf sie mit dem Punkt-Syntax zugreifen, wobei der Variablenname des Objektes links steht und der Attributname rechts. Um auf das Attribut `x` zuzugreifen schreiben wir"
   ]
  },
  {
   "cell_type": "code",
   "execution_count": 160,
   "metadata": {},
   "outputs": [
    {
     "data": {
      "text/plain": [
       "54.083336"
      ]
     },
     "execution_count": 160,
     "metadata": {},
     "output_type": "execute_result"
    }
   ],
   "source": [
    "punkt_1.x"
   ]
  },
  {
   "cell_type": "markdown",
   "metadata": {},
   "source": [
    "Das funktioniert auch für die Klassenattribute. In voller Schönheit können wir dann z.B. schreiben"
   ]
  },
  {
   "cell_type": "code",
   "execution_count": 161,
   "metadata": {},
   "outputs": [
    {
     "name": "stdout",
     "output_type": "stream",
     "text": [
      "Der Punkt liegt bei x: 54.083336 m; y: 12.108811 m\n"
     ]
    }
   ],
   "source": [
    "print(f\"Der Punkt liegt bei x: {punkt_1.x} {punkt_1.einheit}; y: {punkt_1.y} {punkt_1.einheit}\")"
   ]
  },
  {
   "cell_type": "markdown",
   "metadata": {},
   "source": [
    "In gleicher Weise können wir den Attributen neue Werte zuweisen."
   ]
  },
  {
   "cell_type": "code",
   "execution_count": 165,
   "metadata": {},
   "outputs": [],
   "source": [
    "punkt_1.x = 54.08\n",
    "punkt_1.y = 12.11"
   ]
  },
  {
   "cell_type": "code",
   "execution_count": 166,
   "metadata": {},
   "outputs": [
    {
     "name": "stdout",
     "output_type": "stream",
     "text": [
      "Der Punkt liegt nun bei x: 54.08 m; y: 12.11 m\n"
     ]
    }
   ],
   "source": [
    "print(f\"Der Punkt liegt nun bei x: {punkt_1.x} {punkt_1.einheit}; y: {punkt_1.y} {punkt_1.einheit}\")"
   ]
  },
  {
   "cell_type": "code",
   "execution_count": 168,
   "metadata": {},
   "outputs": [],
   "source": [
    "punkt_2.einheit = \"in\""
   ]
  },
  {
   "cell_type": "code",
   "execution_count": 169,
   "metadata": {},
   "outputs": [
    {
     "name": "stdout",
     "output_type": "stream",
     "text": [
      "Der Punkt liegt nun bei x: 54.08 m; y: 12.11 m\n"
     ]
    }
   ],
   "source": [
    "print(f\"Der Punkt liegt nun bei x: {punkt_1.x} {punkt_1.einheit}; y: {punkt_1.y} {punkt_1.einheit}\")"
   ]
  },
  {
   "cell_type": "markdown",
   "metadata": {},
   "source": [
    "Mit dem Punkt-Syntax können wir auch die Methoden aufrufen. Wollen wir die Distanz von `punkt_1` und `punkt_2` berechnen, so schreiben wir"
   ]
  },
  {
   "cell_type": "code",
   "execution_count": 162,
   "metadata": {},
   "outputs": [
    {
     "data": {
      "text/plain": [
       "0.016747010509340444"
      ]
     },
     "execution_count": 162,
     "metadata": {},
     "output_type": "execute_result"
    }
   ],
   "source": [
    "punkt_1.distanz(punkt_2)"
   ]
  },
  {
   "cell_type": "code",
   "execution_count": 51,
   "metadata": {},
   "outputs": [
    {
     "ename": "AttributeError",
     "evalue": "'Punkt' object has no attribute 'x'",
     "output_type": "error",
     "traceback": [
      "\u001b[1;31m---------------------------------------------------------------------------\u001b[0m",
      "\u001b[1;31mAttributeError\u001b[0m                            Traceback (most recent call last)",
      "\u001b[1;32mc:\\Users\\ploennigs\\Documents\\code\\Lehre\\Programmierung-und-Datenbanken\\Vorlesung\\7a_Objects.ipynb Zelle 11\u001b[0m in \u001b[0;36m<cell line: 1>\u001b[1;34m()\u001b[0m\n\u001b[1;32m----> <a href='vscode-notebook-cell:/c%3A/Users/ploennigs/Documents/code/Lehre/Programmierung-und-Datenbanken/Vorlesung/7a_Objects.ipynb#X24sZmlsZQ%3D%3D?line=0'>1</a>\u001b[0m \u001b[39mprint\u001b[39m(\u001b[39mf\u001b[39m\u001b[39m\"\u001b[39m\u001b[39mDer Punkt liegt bei x: \u001b[39m\u001b[39m{\u001b[39;00mpunkt_1\u001b[39m.\u001b[39mx\u001b[39m}\u001b[39;00m\u001b[39m \u001b[39m\u001b[39m{\u001b[39;00mpunkt_1\u001b[39m.\u001b[39meinheit\u001b[39m}\u001b[39;00m\u001b[39m; y: \u001b[39m\u001b[39m{\u001b[39;00mpunkt_1\u001b[39m.\u001b[39my\u001b[39m}\u001b[39;00m\u001b[39m \u001b[39m\u001b[39m{\u001b[39;00mpunkt_1\u001b[39m.\u001b[39meinheit\u001b[39m}\u001b[39;00m\u001b[39m\"\u001b[39m)\n",
      "\u001b[1;31mAttributeError\u001b[0m: 'Punkt' object has no attribute 'x'"
     ]
    }
   ],
   "source": []
  },
  {
   "cell_type": "code",
   "execution_count": 52,
   "metadata": {},
   "outputs": [],
   "source": [
    "punkt_1.x = 20"
   ]
  },
  {
   "cell_type": "code",
   "execution_count": 53,
   "metadata": {},
   "outputs": [
    {
     "ename": "AttributeError",
     "evalue": "'Punkt' object has no attribute 'y'",
     "output_type": "error",
     "traceback": [
      "\u001b[1;31m---------------------------------------------------------------------------\u001b[0m",
      "\u001b[1;31mAttributeError\u001b[0m                            Traceback (most recent call last)",
      "\u001b[1;32mc:\\Users\\ploennigs\\Documents\\code\\Lehre\\Programmierung-und-Datenbanken\\Vorlesung\\7a_Objects.ipynb Zelle 13\u001b[0m in \u001b[0;36m<cell line: 1>\u001b[1;34m()\u001b[0m\n\u001b[1;32m----> <a href='vscode-notebook-cell:/c%3A/Users/ploennigs/Documents/code/Lehre/Programmierung-und-Datenbanken/Vorlesung/7a_Objects.ipynb#X25sZmlsZQ%3D%3D?line=0'>1</a>\u001b[0m \u001b[39mprint\u001b[39m(\u001b[39mf\u001b[39m\u001b[39m\"\u001b[39m\u001b[39mDer Punkt liegt bei x: \u001b[39m\u001b[39m{\u001b[39;00mpunkt_1\u001b[39m.\u001b[39mx\u001b[39m}\u001b[39;00m\u001b[39m \u001b[39m\u001b[39m{\u001b[39;00mpunkt_1\u001b[39m.\u001b[39meinheit\u001b[39m}\u001b[39;00m\u001b[39m; y: \u001b[39m\u001b[39m{\u001b[39;00mpunkt_1\u001b[39m.\u001b[39my\u001b[39m}\u001b[39;00m\u001b[39m \u001b[39m\u001b[39m{\u001b[39;00mpunkt_1\u001b[39m.\u001b[39meinheit\u001b[39m}\u001b[39;00m\u001b[39m\"\u001b[39m)\n",
      "\u001b[1;31mAttributeError\u001b[0m: 'Punkt' object has no attribute 'y'"
     ]
    }
   ],
   "source": [
    "print(f\"Der Punkt liegt bei x: {punkt_1.x} {punkt_1.einheit}; y: {punkt_1.y} {punkt_1.einheit}\")"
   ]
  },
  {
   "cell_type": "code",
   "execution_count": 54,
   "metadata": {},
   "outputs": [],
   "source": [
    "class Linie:\n",
    "    def __init__(self, start: Punkt, ende: Punkt):\n",
    "        self.start = start\n",
    "        self.ende  = ende\n",
    "\n",
    "    def laenge(self):\n",
    "        return self.start.distanz(self.ende)"
   ]
  },
  {
   "cell_type": "code",
   "execution_count": 47,
   "metadata": {},
   "outputs": [],
   "source": [
    "linie_1 = Linie(start=punkt_1, ende=punkt_2)"
   ]
  },
  {
   "cell_type": "code",
   "execution_count": 48,
   "metadata": {},
   "outputs": [
    {
     "data": {
      "text/plain": [
       "42.70985381395429"
      ]
     },
     "execution_count": 48,
     "metadata": {},
     "output_type": "execute_result"
    }
   ],
   "source": [
    "linie_1.laenge()"
   ]
  },
  {
   "cell_type": "code",
   "execution_count": null,
   "metadata": {},
   "outputs": [],
   "source": []
  },
  {
   "cell_type": "code",
   "execution_count": 56,
   "metadata": {},
   "outputs": [
    {
     "ename": "AttributeError",
     "evalue": "'Punkt' object has no attribute '__x'",
     "output_type": "error",
     "traceback": [
      "\u001b[1;31m---------------------------------------------------------------------------\u001b[0m",
      "\u001b[1;31mAttributeError\u001b[0m                            Traceback (most recent call last)",
      "\u001b[1;32mc:\\Users\\ploennigs\\Documents\\code\\Lehre\\Programmierung-und-Datenbanken\\Vorlesung\\7a_Objects.ipynb Zelle 18\u001b[0m in \u001b[0;36m<cell line: 1>\u001b[1;34m()\u001b[0m\n\u001b[1;32m----> <a href='vscode-notebook-cell:/c%3A/Users/ploennigs/Documents/code/Lehre/Programmierung-und-Datenbanken/Vorlesung/7a_Objects.ipynb#X35sZmlsZQ%3D%3D?line=0'>1</a>\u001b[0m \u001b[39mprint\u001b[39m(\u001b[39mf\u001b[39m\u001b[39m\"\u001b[39m\u001b[39mDer Punkt liegt bei x: \u001b[39m\u001b[39m{\u001b[39;00mpunkt_1\u001b[39m.\u001b[39m__x\u001b[39m}\u001b[39;00m\u001b[39m \u001b[39m\u001b[39m{\u001b[39;00mpunkt_1\u001b[39m.\u001b[39meinheit\u001b[39m}\u001b[39;00m\u001b[39m; y: \u001b[39m\u001b[39m{\u001b[39;00mpunkt_1\u001b[39m.\u001b[39my\u001b[39m}\u001b[39;00m\u001b[39m \u001b[39m\u001b[39m{\u001b[39;00mpunkt_1\u001b[39m.\u001b[39meinheit\u001b[39m}\u001b[39;00m\u001b[39m\"\u001b[39m)\n",
      "\u001b[1;31mAttributeError\u001b[0m: 'Punkt' object has no attribute '__x'"
     ]
    }
   ],
   "source": []
  },
  {
   "cell_type": "markdown",
   "metadata": {},
   "source": [
    "immutable Punkt"
   ]
  },
  {
   "cell_type": "code",
   "execution_count": 103,
   "metadata": {},
   "outputs": [],
   "source": [
    "class Punkt:\n",
    "    # Attribut aller Instanzen\n",
    "    einheit = \"m\"\n",
    "    \n",
    "    # Konstruktor\n",
    "    def __init__(self, x, y):\n",
    "        self.__x = x\n",
    "        self.__y = y\n",
    "\n",
    "    # Methode\n",
    "    def distanz(self, punkt_2):\n",
    "        return math.sqrt((self.__x - punkt_2.__x)**2 + (self.__y - punkt_2.__y)**2)\n",
    "    \n",
    "    def get_x(self):\n",
    "        return self.__x\n",
    "\n",
    "    def get_y(self):\n",
    "        return self.__y"
   ]
  },
  {
   "cell_type": "code",
   "execution_count": 104,
   "metadata": {},
   "outputs": [],
   "source": [
    "punkt_1 = Punkt(54.083336, 12.108811)\n",
    "punkt_2 = Punkt(12.0941671, 54.075211)"
   ]
  },
  {
   "cell_type": "code",
   "execution_count": 105,
   "metadata": {},
   "outputs": [
    {
     "ename": "AttributeError",
     "evalue": "'Punkt' object has no attribute '__x'",
     "output_type": "error",
     "traceback": [
      "\u001b[1;31m---------------------------------------------------------------------------\u001b[0m",
      "\u001b[1;31mAttributeError\u001b[0m                            Traceback (most recent call last)",
      "\u001b[1;32mc:\\Users\\ploennigs\\Documents\\code\\Lehre\\Programmierung-und-Datenbanken\\Vorlesung\\7a_Objects.ipynb Zelle 22\u001b[0m in \u001b[0;36m<cell line: 1>\u001b[1;34m()\u001b[0m\n\u001b[1;32m----> <a href='vscode-notebook-cell:/c%3A/Users/ploennigs/Documents/code/Lehre/Programmierung-und-Datenbanken/Vorlesung/7a_Objects.ipynb#X34sZmlsZQ%3D%3D?line=0'>1</a>\u001b[0m \u001b[39mprint\u001b[39m(\u001b[39mf\u001b[39m\u001b[39m\"\u001b[39m\u001b[39mDer Punkt liegt bei x: \u001b[39m\u001b[39m{\u001b[39;00mpunkt_1\u001b[39m.\u001b[39m__x\u001b[39m}\u001b[39;00m\u001b[39m \u001b[39m\u001b[39m{\u001b[39;00mpunkt_1\u001b[39m.\u001b[39meinheit\u001b[39m}\u001b[39;00m\u001b[39m; y: \u001b[39m\u001b[39m{\u001b[39;00mpunkt_1\u001b[39m.\u001b[39m__y\u001b[39m}\u001b[39;00m\u001b[39m \u001b[39m\u001b[39m{\u001b[39;00mpunkt_1\u001b[39m.\u001b[39meinheit\u001b[39m}\u001b[39;00m\u001b[39m\"\u001b[39m)\n",
      "\u001b[1;31mAttributeError\u001b[0m: 'Punkt' object has no attribute '__x'"
     ]
    }
   ],
   "source": [
    "print(f\"Der Punkt liegt bei x: {punkt_1.__x} {punkt_1.einheit}; y: {punkt_1.__y} {punkt_1.einheit}\")"
   ]
  },
  {
   "cell_type": "code",
   "execution_count": 107,
   "metadata": {},
   "outputs": [
    {
     "name": "stdout",
     "output_type": "stream",
     "text": [
      "Der Punkt liegt bei x: 54.083336 m; y: 12.108811 m\n"
     ]
    }
   ],
   "source": [
    "print(f\"Der Punkt liegt bei x: {punkt_1.get_x()} {punkt_1.einheit}; y: {punkt_1.get_y()} {punkt_1.einheit}\")"
   ]
  },
  {
   "cell_type": "code",
   "execution_count": 108,
   "metadata": {},
   "outputs": [],
   "source": [
    "class GeoKoordinate(Punkt):\n",
    "    # Attribut aller Instanzen\n",
    "    einheit = \"m\"\n",
    "\n",
    "    def __init__(self, longitude, latitude):\n",
    "        super().__init__(longitude, latitude)\n",
    "\n",
    "    def get_longitude(self):\n",
    "        return self.get_x()\n",
    "\n",
    "    def get_latitude(self):\n",
    "        return self.get_y()"
   ]
  },
  {
   "cell_type": "code",
   "execution_count": 109,
   "metadata": {},
   "outputs": [],
   "source": [
    "punkt_1 = GeoKoordinate(54.083336, 12.108811)"
   ]
  },
  {
   "cell_type": "code",
   "execution_count": 110,
   "metadata": {},
   "outputs": [
    {
     "data": {
      "text/plain": [
       "54.083336"
      ]
     },
     "execution_count": 110,
     "metadata": {},
     "output_type": "execute_result"
    }
   ],
   "source": [
    "punkt_1.get_x()"
   ]
  },
  {
   "cell_type": "code",
   "execution_count": 111,
   "metadata": {},
   "outputs": [
    {
     "data": {
      "text/plain": [
       "12.108811"
      ]
     },
     "execution_count": 111,
     "metadata": {},
     "output_type": "execute_result"
    }
   ],
   "source": [
    "punkt_1.get_latitude()"
   ]
  },
  {
   "cell_type": "code",
   "execution_count": 12,
   "metadata": {},
   "outputs": [],
   "source": [
    "class Quader:\n",
    "    # Attribut aller Instanzen\n",
    "    einheit = \"m\"\n",
    "    \n",
    "    # Konstruktor\n",
    "    def __init__(self, laenge, breite, hoehe):\n",
    "        self.laenge = laenge\n",
    "        self.breite = breite\n",
    "        self.hoehe  = hoehe\n",
    "\n",
    "    # Methode\n",
    "    def volumen(self):\n",
    "        return self.laenge  * self.breite * self.hoehe"
   ]
  },
  {
   "cell_type": "code",
   "execution_count": 13,
   "metadata": {},
   "outputs": [],
   "source": [
    "quader1 = Quader(10, 20, 2)"
   ]
  },
  {
   "cell_type": "code",
   "execution_count": 14,
   "metadata": {},
   "outputs": [
    {
     "data": {
      "text/plain": [
       "400"
      ]
     },
     "execution_count": 14,
     "metadata": {},
     "output_type": "execute_result"
    }
   ],
   "source": [
    "quader1.volumen()"
   ]
  },
  {
   "cell_type": "code",
   "execution_count": 15,
   "metadata": {},
   "outputs": [
    {
     "name": "stdout",
     "output_type": "stream",
     "text": [
      "10\n"
     ]
    }
   ],
   "source": [
    "print(quader1.laenge)\n"
   ]
  },
  {
   "cell_type": "code",
   "execution_count": 16,
   "metadata": {},
   "outputs": [],
   "source": [
    "quader1.laenge = 20"
   ]
  },
  {
   "cell_type": "code",
   "execution_count": null,
   "metadata": {},
   "outputs": [],
   "source": []
  }
 ],
 "metadata": {
  "kernelspec": {
   "display_name": "Python 3.10.6 ('lehre')",
   "language": "python",
   "name": "python3"
  },
  "language_info": {
   "codemirror_mode": {
    "name": "ipython",
    "version": 3
   },
   "file_extension": ".py",
   "mimetype": "text/x-python",
   "name": "python",
   "nbconvert_exporter": "python",
   "pygments_lexer": "ipython3",
   "version": "3.10.6"
  },
  "orig_nbformat": 4,
  "vscode": {
   "interpreter": {
    "hash": "c6f6ea9c9385f57658f4c302ffd3b717b6cd59b095fbd1c55795f0b67656eecd"
   }
  }
 },
 "nbformat": 4,
 "nbformat_minor": 2
}
