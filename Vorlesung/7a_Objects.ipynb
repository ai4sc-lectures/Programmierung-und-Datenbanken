{
 "cells": [
  {
   "cell_type": "markdown",
   "metadata": {},
   "source": [
    "# Objekte"
   ]
  },
  {
   "cell_type": "markdown",
   "metadata": {},
   "source": [
    "Objektorientierte Programmierung (OOP) ist ein Programmierparadigma das annimmt, dass ein Programm ausschließlich aus **Objekten** besteht, die miteinander kooperativ interagieren. Jedes Objekt verfügt über **Attribute** (Eigenschaften) und **Methoden**. Die Attribute definieren dabei über ihre Werte den Zustand eines Objektes, die Methoden die möglichen Zustandsänderungen (Handlungen) eines Objektes.\n",
    "\n",
    "Die Objektorientierung löst dabei einige Problem im Umgang mit sich oft wiederholenden Datenstrukturen in großen Programmen."
   ]
  },
  {
   "cell_type": "markdown",
   "metadata": {},
   "source": [
    "## Herausforderungen mit sich stark wiederholenden Datenstrukturen"
   ]
  },
  {
   "cell_type": "markdown",
   "metadata": {},
   "source": [
    "### Das syntaktische Problem"
   ]
  },
  {
   "cell_type": "markdown",
   "metadata": {},
   "source": [
    "Objekte werden verwendet, um festzulegen wie Datenstrukturen die sich wiederholen gespeichert werden. Hierbei geht es darum, dass der Syntax der Datenstruktur eindeutig ist.\n",
    "\n",
    "Wächst das Programm an, so wächst auch die Menge der Variablen und Datenstrukturen\n",
    "-  zur Speicherung von Daten\n",
    "-  zur Kontrolle des Programmflusses\n",
    "-  zum Abspeichern von Zuständen\n",
    "-  zum Verarbeiten von Ein- und Ausgaben\n",
    "\n",
    "Dabei basieren die zugrundeliegenden Elemente meist auf sich wiederholenden Datenstrukturen. Analysiert man z.B. Baupläne oder Karten so verwaltet man viele Punkt-Koordinaten. Hierbei kann man allerdings ein Koordinate unterschiedlich z.B. als Tupel oder als Liste ausdrücken."
   ]
  },
  {
   "cell_type": "code",
   "execution_count": 1,
   "metadata": {},
   "outputs": [],
   "source": [
    "point_1 = (54.083336, 12.108811)\n",
    "point_2 = [12.094167, 54.075211]"
   ]
  },
  {
   "cell_type": "markdown",
   "metadata": {},
   "source": [
    "Will man diese Punkte verarbeiten so ergeben sich ggf. Probleme da beide unterschiedliche Datentypen besitzen. Das ist das syntaktische Problem im Umgang mit Variablen in großen Programmen. Hier will man den Syntax der Datenstruktur definieren können."
   ]
  },
  {
   "cell_type": "markdown",
   "metadata": {},
   "source": [
    "### Das semantische Problem"
   ]
  },
  {
   "cell_type": "markdown",
   "metadata": {},
   "source": [
    "Objekte werden auch verwendet, um die Semantik von Werten einer Datenstrukturen eindeutig zu definieren.\n",
    "\n",
    "Haben wir uns z.B. darauf geeinigt, dass wir ein Punkt syntaktisch durch ein Tupel repräsentieren, so ist die Bedeutung der Werte dennoch nicht bekannt."
   ]
  },
  {
   "cell_type": "code",
   "execution_count": 2,
   "metadata": {},
   "outputs": [],
   "source": [
    "point_1 = (54.083336, 12.108811)\n",
    "point_2 = (12.094167, 54.075211)"
   ]
  },
  {
   "cell_type": "markdown",
   "metadata": {},
   "source": [
    "Ein anderer Programmierer wird hier aber ggf. nicht die semantische Bedeutung verstehen. In diesem Beispiel kann man vermuten, dass der erste Wert die `x`-Koordinate ist und der zweite die `y`-Koordinate. Vieleicht ist es aber auch andersherum. Ggf. handelt es sich aber auch garnicht um ein karthesisches Koordinatensystem sondern um ein radiales. Um solche Unklarheiten zu beseitigen, will man der Datenstrur eine klare semantische Definition geben, wo eindeutig ist, was die Werte bedeuten."
   ]
  },
  {
   "cell_type": "markdown",
   "metadata": {},
   "source": [
    "### Das Verhaltensproblem"
   ]
  },
  {
   "cell_type": "markdown",
   "metadata": {},
   "source": [
    "\n",
    "\n",
    "Objekte werden zudem verwendet, um die Funktionen zur Verarbeitung der Datenstrukturen direkt mit dieser zu bündeln, so dass die Datenstruktur nur jene Funktionen anbietet, welche auch sinnvoll anwendbar sind.\n",
    "\n",
    "Definieren wir z.B. eine Funktion um die Distanz zweier Punkte zu berechnen:"
   ]
  },
  {
   "cell_type": "code",
   "execution_count": 3,
   "metadata": {},
   "outputs": [],
   "source": [
    "import math\n",
    "\n",
    "def distance(a, b):\n",
    "    return math.sqrt((a[0]-b[0])**2 + (a[1]-b[1])**2)"
   ]
  },
  {
   "cell_type": "markdown",
   "metadata": {},
   "source": [
    "Diese Funktion kann man aufgrund der dynamischen Typisierung in Python ja auch auf andere Datenstrukturen anwenden, z.B. auf eine Line. Das führt zu semantischen oder logischen Fehlern. Um das zu vermeiden müsste man für jede Variante eine andere Funktion definieren, diese zuordbar benennen und viele Datentyp-Tests vornehmen. Einfacher ist es, sicher zu stellen, dass eine solche Funktion nur für die entsprechende Datenstruktur verfügbar ist."
   ]
  },
  {
   "cell_type": "markdown",
   "metadata": {},
   "source": [
    "## Objektorientierung"
   ]
  },
  {
   "cell_type": "markdown",
   "metadata": {},
   "source": [
    "## Klassen deklaration"
   ]
  },
  {
   "cell_type": "markdown",
   "metadata": {},
   "source": [
    "Anstatt unübersichtlich viele verstreute Datenstrukturen und Funktionen zu benutzen, gruppieren wir diese in Objekte. \n",
    "Da wir die Datenstrukturen normieren wollen, muss wir die Struktur dieser Objekte vor Verwendung definiert werden. Dies geschieht über **Klassen**, welche eine Art Bauplan für die damit normierten Objekte darstellt. Eine Klasse definiert:\n",
    "\n",
    "-   welche Attribute (Eigenschaften) ein Objekt dieser Klasse besitzt\n",
    "-   und welche Methoden (Funktionen) ein Objekt der Klasse bereit stellt"
   ]
  },
  {
   "cell_type": "markdown",
   "metadata": {},
   "source": [
    "Der erste Schritt zu einem Objekt ist das Definieren einer neuen Klasse für den Typ des Objektes. Dies geschieht über den `class`-Kennwort auf welches der Klassenname folgt. Danach wird wie die Klassendefinition eingerückt. Diese legt fest welche Attribute und Methoden die Klasse besitzt."
   ]
  },
  {
   "cell_type": "code",
   "execution_count": 4,
   "metadata": {},
   "outputs": [],
   "source": [
    "class Klassenname:\n",
    "    # Klassendefinition\n",
    "    pass"
   ]
  },
  {
   "cell_type": "markdown",
   "metadata": {},
   "source": [
    "### Konstruktor"
   ]
  },
  {
   "cell_type": "markdown",
   "metadata": {},
   "source": [
    "Eine der wichtigsten Methoden einer Klasse ist der Konstruktor `__init__()`. Das ist eine spezielle Methode, die festlegt wie eine neue Instanz der Klasse erzeugt werden kann. Er wird genutzt um Attribute initial zuzuweisen als auch Initialisierungsschritte (Tests, Berechnungen, Konfiguration, etc.) durchzuführen.\n",
    "\n",
    "Jede Klasse muss genau einen Konstruktur haben. Wird dieser nicht definiert, so wird ein leerer Konstruktor von Python erzeugt, der nichts macht, wie das folgende Beispiel."
   ]
  },
  {
   "cell_type": "code",
   "execution_count": 5,
   "metadata": {},
   "outputs": [],
   "source": [
    "class Klassenname:\n",
    "    # Leerer Konstruktor\n",
    "    def __init__(self):\n",
    "        pass"
   ]
  },
  {
   "cell_type": "markdown",
   "metadata": {},
   "source": [
    "### Instanzattribute"
   ]
  },
  {
   "cell_type": "markdown",
   "metadata": {},
   "source": [
    "Der Konstruktor wird als Funktion `__init__(self)` mit dem Parameter `self` definiert. `self` ist dabei eine Selbst-Referenz auf die neue Instanz der Klasse. Sie dient dazu, dass man Instanzattribute direkt beim Erzeugen der Instanz zuweisen kann. **Instanzattribute** sind Attribute die in jeder Instanz unterschiedlich sein können, also wenn es individuelle Werte der Eingenschaft gibt.\n",
    "\n",
    "Definieren wir z.B. die Klasse eines Punktes mit `x`- und `y`-Koordinaten. Da jede Instanz diese beiden Koordinaten haben muss und sie auch für jede Instanz unterschiedlich sein können, weisen wir sie bereits im Konstruktor als Instanzattribute zu. Damit ist festgelet, dass jede Instanz der Klasse diese Attribute hat."
   ]
  },
  {
   "cell_type": "code",
   "execution_count": 6,
   "metadata": {},
   "outputs": [],
   "source": [
    "class Point:\n",
    "    # Konstruktor\n",
    "    def __init__(self, x, y):\n",
    "        self.x = x\n",
    "        self.y = y"
   ]
  },
  {
   "cell_type": "markdown",
   "metadata": {},
   "source": [
    "Die Zuweisung erfolgt hierbei über den Punkt-Syntax bei dem ein Punkt die Instanzvariable (`self`) von dem Attributnamen `x` trennt. `self.x` ist somit eine Referenz auf das Attribut `x` der Instanz `self`. Die Zuweisung `self.x = x` bedeutet dass wir den Wert der Variablen `x` dem neuen Instanzattribut `x` zuweise. Obwohl beide gleich heißen sind sie nicht die gleiche Variable, weil `self.x` ja ein Attribut der Instanz ist und `x` ein Parameter der Funktion ist und nur in dieser gültig ist."
   ]
  },
  {
   "cell_type": "markdown",
   "metadata": {},
   "source": [
    "Da `__init__()` eine Funktion ist, wenn auch besonders, kann man auch Defaults definieren. Wollen wir z.B. definieren wir, dass `x` und `y` mit 0 initialisiert werden, wenn sie nicht angegeben werden, so können wir auch dies als Defaultwerte deklarieren"
   ]
  },
  {
   "cell_type": "code",
   "execution_count": 7,
   "metadata": {},
   "outputs": [],
   "source": [
    "class Point:\n",
    "    # Konstruktor\n",
    "    def __init__(self, x = 0.0, y = 0.0):\n",
    "        self.x = x\n",
    "        self.y = y"
   ]
  },
  {
   "cell_type": "markdown",
   "metadata": {},
   "source": [
    "### Klassenattribute"
   ]
  },
  {
   "cell_type": "markdown",
   "metadata": {},
   "source": [
    "Neben Instanzattributen gibt es auch **Klassenattribute**. Dies sind Attribute welche für alle Instanzen einer Klasse den gleichen Wert haben sollen. "
   ]
  },
  {
   "cell_type": "code",
   "execution_count": 8,
   "metadata": {},
   "outputs": [],
   "source": [
    "class Point:\n",
    "    # Attribut aller Instanzen\n",
    "    unit = \"m\""
   ]
  },
  {
   "cell_type": "markdown",
   "metadata": {},
   "source": [
    ":::{warning}\n",
    "**Klassenattribute** gelten für alle Instanzen. Insbesondere bei zusammengesetzten Datentypen bedeutet das, wenn eine Instanz den Wert ändert, so ändert er sich in allen anderen Instanzen auch.\n",
    ":::"
   ]
  },
  {
   "cell_type": "markdown",
   "metadata": {},
   "source": [
    "### Methoden"
   ]
  },
  {
   "cell_type": "markdown",
   "metadata": {},
   "source": [
    "Klassen definieren häufig auch eigene Methoden, also Funktionen die speziell nur auf Instanzen dieser Klasse angewendet werden sollen und nicht auf andere Objekte.\n",
    "\n",
    "Methoden werden als Funktionen innerhalb der Einrückung der Klassendefinition deklariert. Diese Methoden sind dann in allen Instanzen verfügbar. Methoden besitzen immer `self` als ersten Parameter. Auch hier ist das eine Referenz auf die aktuelle Instanz. Dadurch kann man dann auf die Attribute oder andere Methoden zugreifen.\n",
    "\n",
    "So können wir zum Beispiel die `distance`-Funktion vom Anfang als Methode definieren, dass sie nun die Distanz zweier Punkte `self` und `other` berechnen."
   ]
  },
  {
   "cell_type": "code",
   "execution_count": 9,
   "metadata": {},
   "outputs": [],
   "source": [
    "class Point:\n",
    "    # Attribut aller Instanzen\n",
    "    unit = \"m\"\n",
    "    \n",
    "    # Konstruktor\n",
    "    def __init__(self, x, y):\n",
    "        self.x = x\n",
    "        self.y = y\n",
    "\n",
    "    # Eigene Methode\n",
    "    def distance(self, other):\n",
    "        return math.sqrt((self.x - other.x)**2 + (self.y - other.y)**2)"
   ]
  },
  {
   "cell_type": "markdown",
   "metadata": {},
   "source": [
    "## Klasseninstanzen"
   ]
  },
  {
   "cell_type": "markdown",
   "metadata": {},
   "source": [
    "Objekte selbst sind immer Instanzen einer Klasse (die Klasse ist ja nur ein Bauplan). Eine Klasse kann beliebig viele Instanzen haben oder gar keine. Alle Instanzen sind gleich aufgebaut, besitzen aber nicht unbedingt die gleiche Werte in den Attributen.\n",
    "\n",
    "Mit der neuen Klasse `Punkt` können wir nun die Punkte am Anfang jetzt syntaktisch, semantisch und im Verhalten eindeutig definieren. Dabei erzeugen wir Instanzen der Klasse nicht direkt mit dem Konstruktor sondern indem wir den Klassennahmen wie eine Funktion aufrufen, mit den Parametern des Konstruktors. Dabei wird der `self`-Parameter weggelassen (er wird von Python zugewiesen).\n",
    "\n",
    "Dabei können wir die Parameter auch bennen und so semantische Unklarheiten umgehen."
   ]
  },
  {
   "cell_type": "code",
   "execution_count": 10,
   "metadata": {},
   "outputs": [],
   "source": [
    "point_1 = Point(x=54.083336, y=12.108811)\n",
    "point_2 = Point(y=12.094167, x=54.075211)"
   ]
  },
  {
   "cell_type": "markdown",
   "metadata": {},
   "source": [
    "Auch die Werte des Objektes sind nun semantisch klar definiert. Wir können auf sie mit dem Punkt-Syntax zugreifen, wobei der Variablenname des Objektes links steht und der Attributname rechts. Um auf das Attribut `x` zuzugreifen schreiben wir"
   ]
  },
  {
   "cell_type": "code",
   "execution_count": 11,
   "metadata": {},
   "outputs": [
    {
     "data": {
      "text/plain": [
       "54.083336"
      ]
     },
     "execution_count": 11,
     "metadata": {},
     "output_type": "execute_result"
    }
   ],
   "source": [
    "point_1.x"
   ]
  },
  {
   "cell_type": "markdown",
   "metadata": {},
   "source": [
    "Das funktioniert auch für die Klassenattribute. In voller Schönheit können wir dann z.B. schreiben"
   ]
  },
  {
   "cell_type": "code",
   "execution_count": 12,
   "metadata": {},
   "outputs": [
    {
     "name": "stdout",
     "output_type": "stream",
     "text": [
      "Der Punkt liegt bei x: 54.083336 m; y: 12.108811 m\n"
     ]
    }
   ],
   "source": [
    "print(f\"Der Punkt liegt bei x: {point_1.x} {point_1.unit}; y: {point_1.y} {point_1.unit}\")"
   ]
  },
  {
   "cell_type": "markdown",
   "metadata": {},
   "source": [
    "In gleicher Weise können wir den Attributen neue Werte zuweisen."
   ]
  },
  {
   "cell_type": "code",
   "execution_count": 13,
   "metadata": {},
   "outputs": [],
   "source": [
    "point_1.x = 54.08\n",
    "point_1.y = 12.11"
   ]
  },
  {
   "cell_type": "code",
   "execution_count": 14,
   "metadata": {},
   "outputs": [
    {
     "name": "stdout",
     "output_type": "stream",
     "text": [
      "Der Punkt liegt bei x: 54.08 m; y: 12.11 m\n"
     ]
    }
   ],
   "source": [
    "print(f\"Der Punkt liegt bei x: {point_1.x} {point_1.unit}; y: {point_1.y} {point_1.unit}\")"
   ]
  },
  {
   "cell_type": "markdown",
   "metadata": {},
   "source": [
    "Mit dem Punkt-Syntax können wir auch die Methoden aufrufen. Wollen wir die Distanz von `point_1` und `point_2` berechnen, so schreiben wir"
   ]
  },
  {
   "cell_type": "code",
   "execution_count": 15,
   "metadata": {},
   "outputs": [
    {
     "data": {
      "text/plain": [
       "0.016541414993884864"
      ]
     },
     "execution_count": 15,
     "metadata": {},
     "output_type": "execute_result"
    }
   ],
   "source": [
    "point_1.distance(point_2)"
   ]
  },
  {
   "cell_type": "markdown",
   "metadata": {},
   "source": [
    "## Referenzen"
   ]
  },
  {
   "cell_type": "markdown",
   "metadata": {},
   "source": [
    "In Programmen stehen Objekte meist im Zusammenhang. Z.B. besteht eine Linie aus zwei Punkten. Diesen Zusammenhang zweier Objekt-Klassen bezeichnet man als Referenz. Diesen Zusammenhang zweier Objekt-Klassen bezeichnet man als Referenz."
   ]
  },
  {
   "cell_type": "markdown",
   "metadata": {},
   "source": [
    "Um Referenzen in Python zu erstellen, erstellt man einfach ein Attribut vom Datentypen des anderen Objektes. So kann eine Linie als Verbindung zweier Punkte definiert werden mit der Länge berechnet durch die zuvor definierte Methode `distance`."
   ]
  },
  {
   "cell_type": "code",
   "execution_count": 16,
   "metadata": {},
   "outputs": [],
   "source": [
    "class Line:\n",
    "    def __init__(self, start: Point, end: Point):\n",
    "        self.start = start\n",
    "        self.end = end\n",
    "\n",
    "    def length(self):\n",
    "        return self.start.distance(self.end)"
   ]
  },
  {
   "cell_type": "code",
   "execution_count": 17,
   "metadata": {},
   "outputs": [],
   "source": [
    "linie_1 = Line(start=point_1, end=point_2)"
   ]
  },
  {
   "cell_type": "code",
   "execution_count": 18,
   "metadata": {},
   "outputs": [
    {
     "data": {
      "text/plain": [
       "0.016541414993884864"
      ]
     },
     "execution_count": 18,
     "metadata": {},
     "output_type": "execute_result"
    }
   ],
   "source": [
    "linie_1.length()"
   ]
  },
  {
   "cell_type": "markdown",
   "metadata": {},
   "source": [
    "## Kapzelung von Attributen und Methoden"
   ]
  },
  {
   "cell_type": "markdown",
   "metadata": {},
   "source": [
    "Häufig möchte man in der Programmierung kontrolle darüber haben ob und wie Attribute verändert werden und wer welche Methoden aufrufen darf.\n",
    "\n",
    "Hierfür erlaubt Python die Unterscheidung in *private*, *protected* und *public* Attribute und Methoden. Wenn nicht anders festgelegt sind alle Attribute und Methoden *public*. Ein *public* Attribut oder Methode ist ausserhalb der Klasse für alle sichtbar, lesbar und veränderbar. Das haben wir oben genutzt um oben `point_1.x` auszulesen und mit `point_1.x = 54.08` einen neuen Wert zuzuweisen. Damit diese Attribute oder Methoden nicht mehr zugreifbar sind müssen wir sie als *private* oder *protected* deklarieren, womit sie nur innerhalb der Klasse (*private*) oder Unterklasse (*protected*) über `self` zugreifbar sind. Um ein Attribut- oder Methode als privat zu deklarieren fügen wir dem Namen ein `__` am Anfang hinzu oder ein `_` für protected.\n",
    "\n",
    "Zum Beispiel wollen wir sicherstellen, dass die Position des Objektes `Point` nach Erstellung nicht mehr veränderbar ist. Ein solches unveränderliches Objekt nennt man *immutable*. Ein Grund dafür kann sein, dass eine Änderung inkonsistenzen und potentielle Fehler erzeugen würden. Wollen wir z.B. ein Rechteck aus den Punkten erzeugen, so müssen wir in der Init-Funktion prüfen, ob alle Linien rechtwinklig sind. Wären die Punkte verschiebbar, so müssten wir bei einer Änderung entweder neu prüfen oder wir verbieten die Veränderung einfach.\n",
    "\n",
    "Um sicher zu stellen, dass niemand mehr die Koordinaten ändern kann müssen wir `x` und `y` als privat zu deklarieren indem wir sie in `__x` und `__y` benennen. Jetzt kann aber niemand ausserhalb der Instanz die Werte lesen. Um das zu ermöglichen definieren wir zwei public Getter-Methoden `get_x()` und `get_y()` die nur den Wert zurück geben. Sollten wir den Wert veränderbar machen, müssten wir auch noch Setter-Methoden definieren, welche die Werte setzen würden. "
   ]
  },
  {
   "cell_type": "code",
   "execution_count": 19,
   "metadata": {},
   "outputs": [],
   "source": [
    "class ImmutablePoint:\n",
    "    unit = \"m\"\n",
    "    \n",
    "    def __init__(self, x, y):\n",
    "        self.__x = x\n",
    "        self.__y = y\n",
    "\n",
    "    def distance(self, other):\n",
    "        return math.sqrt((self.x - other.x)**2 + (self.y - other.y)**2)\n",
    "\n",
    "    def get_x(self):\n",
    "        return self.__x\n",
    "\n",
    "    def get_y(self):\n",
    "        return self.__y"
   ]
  },
  {
   "cell_type": "markdown",
   "metadata": {},
   "source": [
    "Definieren wir nun wieder unsere zwei Instanzen"
   ]
  },
  {
   "cell_type": "code",
   "execution_count": 20,
   "metadata": {},
   "outputs": [],
   "source": [
    "point_1 = ImmutablePoint(54.083336, 12.108811)"
   ]
  },
  {
   "cell_type": "markdown",
   "metadata": {},
   "source": [
    "und versuchen den Wert `__x` oder `__y` zu lesen, so erhalten wir nun eine Fehlermeldung. "
   ]
  },
  {
   "cell_type": "code",
   "execution_count": 21,
   "metadata": {},
   "outputs": [
    {
     "ename": "AttributeError",
     "evalue": "'ImmutablePoint' object has no attribute '__x'",
     "output_type": "error",
     "traceback": [
      "\u001b[1;31m---------------------------------------------------------------------------\u001b[0m",
      "\u001b[1;31mAttributeError\u001b[0m                            Traceback (most recent call last)",
      "\u001b[1;32mc:\\Users\\ploennigs\\Documents\\code\\Lehre\\Programmierung-und-Datenbanken\\Vorlesung\\7a_Objects.ipynb Zelle 59\u001b[0m in \u001b[0;36m<cell line: 1>\u001b[1;34m()\u001b[0m\n\u001b[1;32m----> <a href='vscode-notebook-cell:/c%3A/Users/ploennigs/Documents/code/Lehre/Programmierung-und-Datenbanken/Vorlesung/7a_Objects.ipynb#Y110sZmlsZQ%3D%3D?line=0'>1</a>\u001b[0m \u001b[39mprint\u001b[39m(\u001b[39mf\u001b[39m\u001b[39m\"\u001b[39m\u001b[39mDer Punkt liegt bei x: \u001b[39m\u001b[39m{\u001b[39;00mpoint_1\u001b[39m.\u001b[39m__x\u001b[39m}\u001b[39;00m\u001b[39m \u001b[39m\u001b[39m{\u001b[39;00mpoint_1\u001b[39m.\u001b[39munit\u001b[39m}\u001b[39;00m\u001b[39m; y: \u001b[39m\u001b[39m{\u001b[39;00mpoint_1\u001b[39m.\u001b[39m__y\u001b[39m}\u001b[39;00m\u001b[39m \u001b[39m\u001b[39m{\u001b[39;00mpoint_1\u001b[39m.\u001b[39munit\u001b[39m}\u001b[39;00m\u001b[39m\"\u001b[39m)\n",
      "\u001b[1;31mAttributeError\u001b[0m: 'ImmutablePoint' object has no attribute '__x'"
     ]
    }
   ],
   "source": [
    "print(f\"Der Punkt liegt bei x: {point_1.__x} {point_1.unit}; y: {point_1.__y} {point_1.unit}\")"
   ]
  },
  {
   "cell_type": "markdown",
   "metadata": {},
   "source": [
    "Zum Auslesen der Werte müssen wir stattdessen die Getter-Methode benutzen."
   ]
  },
  {
   "cell_type": "code",
   "execution_count": 22,
   "metadata": {},
   "outputs": [
    {
     "name": "stdout",
     "output_type": "stream",
     "text": [
      "Der Punkt liegt bei x: 54.083336 m; y: 12.108811 m\n"
     ]
    }
   ],
   "source": [
    "print(f\"Der Punkt liegt bei x: {point_1.get_x()} {point_1.unit}; y: {point_1.get_y()} {point_1.unit}\")"
   ]
  },
  {
   "cell_type": "markdown",
   "metadata": {},
   "source": [
    "Wir können die Werte auch nicht verändern. Wir können es zwar versuchen:"
   ]
  },
  {
   "cell_type": "code",
   "execution_count": 23,
   "metadata": {},
   "outputs": [],
   "source": [
    "point_1.__x = 54.08\n",
    "point_1.__y = 12.11"
   ]
  },
  {
   "cell_type": "markdown",
   "metadata": {},
   "source": [
    "aber es hat keine Auswirkung."
   ]
  },
  {
   "cell_type": "code",
   "execution_count": 24,
   "metadata": {},
   "outputs": [
    {
     "name": "stdout",
     "output_type": "stream",
     "text": [
      "Der Punkt liegt bei x: 54.083336 m; y: 12.108811 m\n"
     ]
    }
   ],
   "source": [
    "print(f\"Der Punkt liegt bei x: {point_1.get_x()} {point_1.unit}; y: {point_1.get_y()} {point_1.unit}\")"
   ]
  },
  {
   "cell_type": "markdown",
   "metadata": {},
   "source": [
    "## Vererbung"
   ]
  },
  {
   "cell_type": "markdown",
   "metadata": {},
   "source": [
    "Vererbung ist eine der wichtigsten Eigenschaften von Objektorientierung. Ziel der Vererbung ist es Attribute und Methoden die in vielen ähnlichen Klassen vorkommen nur einmal definieren zu müssen. \n",
    "\n",
    "Hierfür unterteilt man die Klassen in *Oberklassen* (Eltern) welche Attribute und Methoden an *Unterklassen* (Kinder) vererben. Das heißt jede Unterklasse (Kind) besitzt alle Attribute und Methoden der Oberklasse (Eltern), wir müssen sie also nicht noch einmal definieren. Neue Attribute und Methoden die für eine Unterklasse definiert werden, werden jedoch nicht an die Eltern oder Geschwister übertragen. Deshalb spricht man bei den Unterklassen von einer *Spezialisierung* und den Oberklassen von einer *Generalisierung*, da sie für mehrere Klassen gelten.\n",
    "\n",
    "Zum Beispiel stellen wir fest, dass verschiedenen geometrischen Objekte wie Dreieck, Viereck, Fünfeck, etc. alle Polygone darstellen, welche sich aus mit Linien verbundene Punkte darstellen. Dreieck, Viereck, Fünfeck sind hierbei Spezialisierungen der Klasse Polygon. Wir definieren also zuerst die generische Klasse `Polygon` welche als Instanzattribut eine `list` von mehr als 2 `ImmutablePoint` akzeptiert und als privates Attribut `__points` abspeichert. Wir definieren weiterhin ein optionales Attribut `name` welches public und veränderbar ist."
   ]
  },
  {
   "cell_type": "code",
   "execution_count": 25,
   "metadata": {},
   "outputs": [],
   "source": [
    "class Polygon:\n",
    "    def __init__(self, points, name=\"Polygon\"):\n",
    "        if not isinstance(points, list):\n",
    "            raise TypeError(\"points not of type list\")\n",
    "        if not len(points) > 2:\n",
    "            raise TypeError(\"points need to contain at least 2 Points\")\n",
    "        for point in points:\n",
    "            if not isinstance(point, ImmutablePoint):\n",
    "                raise TypeError(\"Point not of type ImmutablePoint\")\n",
    "        self.__points = points\n",
    "        self.name = name\n",
    "\n",
    "    def get_points(self):\n",
    "        return self.__points\n",
    "\n",
    "    # Fläche des Polygons entsprechend der Gaußsche Trapezformel\n",
    "    def area(self):\n",
    "        n = len(self.__points) # of corners\n",
    "        area = 0.0\n",
    "        for i in range(n):\n",
    "            j = (i + 1) % n\n",
    "            area += self.__points[i].get_x() * self.__points[j].get_y()\n",
    "            area -= self.__points[j].get_x() * self.__points[i].get_y()\n",
    "        area = abs(area) / 2.0\n",
    "        return area\n",
    "\n",
    "    # Überschriebene Standardmethode zur Erzeugung eines Strings\n",
    "    def __str__(self):\n",
    "        description = f\"{self.name} has an area of {self.area()} and is defined by\\n\" # \\n ist ein Zeilenumbruch\n",
    "        for i,point in enumerate(self.__points):\n",
    "            description += f\"  Point {i} at x: {point.get_x()} {point.unit}; y: {point.get_y()} {point.unit}\\n\"\n",
    "        return description"
   ]
  },
  {
   "cell_type": "markdown",
   "metadata": {},
   "source": [
    "Hierbei überschreiben wir auch die Standardmethode `__str__(self)` eines Objektes, welche immer aufgerufen wird, wenn das Objekt in einen String konvertiert werden soll. Die Funktion wird auch von der `print()`-Anweisung genutzt, weshalb wir diese lesbarer gestallten können.\n",
    "\n",
    "Wir definieren auch die Funktion `area()` welches die Fläche des Polygons (konkav und ohne Löcher) mit der [Gaußchen Trapezformel](https://de.wikipedia.org/wiki/Gau%C3%9Fsche_Trapezformel) berechnet."
   ]
  },
  {
   "cell_type": "markdown",
   "metadata": {},
   "source": [
    "Jetzt wollen wir die Untertypen Dreieck, Viereck und Fünfeck definieren. Hierzu geben wir beim deklarieren der neuen Klasse die Oberklasse in Klammern mit an. Wir können dann auch einen neuen Konstruktor definieren (sonst wird der der Oberklasse genommen). Dabei müssen wir immer den Konstruktor der Oberklasse mit aufrufen, welche wir mit der Funktion `super()` erhalten. Wir definieren z.B Konstruktoren welche genau die richtige Anzahl an Punkten akzeptiert."
   ]
  },
  {
   "cell_type": "code",
   "execution_count": 26,
   "metadata": {},
   "outputs": [],
   "source": [
    "class Triangle(Polygon):\n",
    "    def __init__(self, p1, p2, p3, name= \"Triangle\"):\n",
    "        super().__init__(points=[p1, p2, p3], name=name)\n",
    "\n",
    "class Tetragon(Polygon):\n",
    "    def __init__(self, p1, p2, p3, p4, name= \"Tetragon\"):\n",
    "        super().__init__(points=[p1, p2, p3, p4], name=name)\n",
    "\n",
    "class Pentagon(Polygon):\n",
    "    def __init__(self, p1, p2, p3, p4, p5, name=\"Pentagon\"):\n",
    "        super().__init__(points=[p1, p2, p3, p4, p5], name=name)\n"
   ]
  },
  {
   "cell_type": "markdown",
   "metadata": {},
   "source": [
    "Das entscheidende bei der Vererbung ist nun, dass alle Instanzen von `Triangle`, `Tetragon` oder `Pentagon` die Attribute `__points` (es ist allerdings nicht sichtbar), `name` und die Methoden `get_points` und `__str__` haben.\n",
    "\n",
    "Definieren wir z.B. ein Dreieck und wenden darauf `print()` an, so wird intern die geerbte Funktion `__str__` der Oberklasse `Polygon` angewendet."
   ]
  },
  {
   "cell_type": "code",
   "execution_count": 27,
   "metadata": {},
   "outputs": [
    {
     "name": "stdout",
     "output_type": "stream",
     "text": [
      "Dreieck has an area of 1.0 and is defined by\n",
      "  Point 0 at x: 0 m; y: 0 m\n",
      "  Point 1 at x: 1 m; y: 1 m\n",
      "  Point 2 at x: 2 m; y: 0 m\n",
      "\n"
     ]
    }
   ],
   "source": [
    "dreieck_1 = Triangle(ImmutablePoint(0,0), ImmutablePoint(1,1),ImmutablePoint(2,0), \"Dreieck\")\n",
    "print(dreieck_1)"
   ]
  },
  {
   "cell_type": "markdown",
   "metadata": {},
   "source": [
    "Das Gleiche funktioniert auch für Vierecke und Fünfecke:"
   ]
  },
  {
   "cell_type": "code",
   "execution_count": 28,
   "metadata": {},
   "outputs": [
    {
     "name": "stdout",
     "output_type": "stream",
     "text": [
      "Viereck has an area of 1.0 and is defined by\n",
      "  Point 0 at x: 0 m; y: 0 m\n",
      "  Point 1 at x: 0 m; y: 1 m\n",
      "  Point 2 at x: 1 m; y: 1 m\n",
      "  Point 3 at x: 1 m; y: 0 m\n",
      "\n"
     ]
    }
   ],
   "source": [
    "viereck_1 = Tetragon(ImmutablePoint(0,0), ImmutablePoint(0,1),ImmutablePoint(1,1), ImmutablePoint(1,0), \"Viereck\")\n",
    "print(viereck_1)"
   ]
  },
  {
   "cell_type": "code",
   "execution_count": 29,
   "metadata": {},
   "outputs": [
    {
     "name": "stdout",
     "output_type": "stream",
     "text": [
      "Fünfeck has an area of 4.0 and is defined by\n",
      "  Point 0 at x: 0 m; y: 0 m\n",
      "  Point 1 at x: -1 m; y: 1 m\n",
      "  Point 2 at x: 1 m; y: 2 m\n",
      "  Point 3 at x: 2 m; y: 1 m\n",
      "  Point 4 at x: 2 m; y: 0 m\n",
      "\n"
     ]
    }
   ],
   "source": [
    "fuenfeck_1 = Pentagon(ImmutablePoint(0,0), ImmutablePoint(-1,1),ImmutablePoint(1,2), ImmutablePoint(2,1), ImmutablePoint(2,0), \"Fünfeck\")\n",
    "print(fuenfeck_1)"
   ]
  },
  {
   "cell_type": "markdown",
   "metadata": {},
   "source": [
    "## Objektorientierter Softwareentwurf mit UML"
   ]
  },
  {
   "cell_type": "markdown",
   "metadata": {},
   "source": [
    "Im objektorientierten Softwareentwurf, wird ein Programm so entworfen, dass es nur aus Objekten besteht. Hierbei verwendet man meist die Modellierungssprache [UML](https://de.wikipedia.org/wiki/Unified_Modeling_Language) können Klassen auch visuell entworfen werden. \n",
    "Man modelliert im Entwurf wie:\n",
    "-  diese Objekte in Form von Klassen definiert sind,\n",
    "-  welche Attribute und Methoden sie besitzen,\n",
    "-  wie diese Klassen aufeinander aufbauen (Vererbung), \n",
    "-  als auch wie sie miteinander in statischer Beziehung stehen (Referenzen)\n",
    "-  und wie sie dynamisch interagieren (Verhalten)"
   ]
  },
  {
   "cell_type": "markdown",
   "metadata": {},
   "source": [
    "### Klassen, Attribute und Methoden"
   ]
  },
  {
   "cell_type": "markdown",
   "metadata": {},
   "source": [
    "Eine Klasse ist hierbei einfach nur ein Viereck mit drei Ebenen. In der ersten Ebene schreibt man den Klassennamen. In der zweiten Ebene listet man alle primitiven Attribute einer Klasse (welche keine Referenzen darstellen). Die dritte Ebene enthält alle Methoden der Klasse. Für den zuvor definierten `Point` mit den Attributen `x` und `y` und der Methode `distance()` eines anderen Punktes sieht die Klasse in UML so aus:"
   ]
  },
  {
   "cell_type": "markdown",
   "metadata": {},
   "source": [
    "<center><img src=\"https://mermaid.ink/img/pako:eNpdjk0OAiEMRq9CutI4J2DtAUzcGTYNFCWBMoGSOJnM3UVGXdhV30t_vhVsdgQabMRazwHvBZNh1WsYdcmBZd2NUicfM4p6_vHyYxeqIFs6jL3j7jeYIFFJGFz_NI4ZkAclMqB768hji2LA8HsUm-Trwha0lEYTtNmh0CcbaI-xdjsj33L-8vYCAldBOA?type=png\"></center>"
   ]
  },
  {
   "cell_type": "markdown",
   "metadata": {},
   "source": [
    "### Referenzen"
   ]
  },
  {
   "cell_type": "markdown",
   "metadata": {},
   "source": [
    "Eine sehr wichtige Arbeit mit UML ist die Visualisierung von Abhängigkeiten zwischen Klassen in Form von Referenzen. Man unterscheidet in UML die Referenzen in der Art der Besitzverhältnisse, also ob ein Objekt Teil eines anderen ist und ohne ihn existieren kann (Aggregated) oder nicht ohne diesen existieren kann (Composition) oder komplett unabhängig ist (Assoziation). Hierfür definiert UML unterschiedliche Pfeiltypen. Hierbei kann man an den Linien die Häufigkeit (Multiplizität) der Ursprungs- und Zielklasse angeben."
   ]
  },
  {
   "cell_type": "markdown",
   "metadata": {},
   "source": [
    "<center><table><tr>\n",
    "<td><img src=\"https://mermaid.ink/img/pako:eNpljj0KwzAMha8iNJYk0NVb2t6gWxEEESuuwT_BsYcScvc6bTpVg3jv00PSimPUggpHx8tys2wSewpQ60Pguveh_0eXLzrmQHgmhNi2u-q6UzVHDhT0xiQxnG0MgA16SZ6trlfXfQlhfooXQlWllomLy4QUthrlkuP9FUZUORVpsMyasxx_oprYLZXOHB4x_vz2BiRzRRk?type=png\"></td>\n",
    "<td><img src=\"https://mermaid.ink/img/pako:eNpljjEKwzAMRa9iNIYk0NVbm96gWxEEESutwbZMbA8l5O512nSqBvH_00fSCpMYBg2To5Sulh4LeQyq1oeoYe_j-R9dvuiYK4QTgmq6bld931Rz5JRWg_goyWYrAVrwvHiyph5d9x0I-cmeEXSVhmcqLiNg2GqUSpbbK0yg81K4hRINZT7eBD2TS5VGCneRn9_e4yBE4A?type=png\"></td>\n",
    "<td><img src=\"https://mermaid.ink/img/pako:eNpljkELwjAMhf9KeUfZBl57EKb-A28SkNBmWlhbWduDjP13O50ncwjvfXkkmWGiFWiYkVM6O75P7CmoWh-iTmu_9f_o-EXbXBH2BNW2h1V13a6aLae06lOKxnF2MaCBl8mzs_XovO4g5Id4IegqrQxcxkygsNQolxwvr2Cg81SkQXlazrK9CT3wmCp9crjG-PPLG-QFRN0?type=png\"></td>\n",
    "</tr>\n",
    "</table></center>"
   ]
  },
  {
   "cell_type": "markdown",
   "metadata": {},
   "source": [
    "Die zuvor definierte Klasse `Line` beinhaltet den `start`- und `end`-Punkt. Das stellt in UML eine *Aggregation* dar, weil die Punkte ja zur Linie gehören, allerdings durchaus auch separat existieren können (wir brauchen ja keine Linie um einen Punkt zu definieren). Die Multiplizität ist hierbei, dass je `1` Instanz einer `Line` je `2` Instanzen der Klasse `Point` besitzt."
   ]
  },
  {
   "cell_type": "markdown",
   "metadata": {},
   "source": [
    "<center><img src=\"https://mermaid.ink/img/pako:eNpdT0EKwkAM_ErISbEe9Lhnjx4Eb7KX0E3rwjYrbQoW6d8NqxY1p5lhZsI8sM6B0WGdaBgOkdqeOi9gVxQ45Sj6eCkAmyZlUrj_8WnhIQ5KUvOq5NYvff4uPEZhWAotklhava5-vcXlcecR8nZraG-odIIDe9FrBSwBK-y47ygGm1BKPeqVO_boDAZuaEzq0ctsVho1nyep0Wk_coXjLZDyezS6htJg6o3kkvOHz0_cjFoV?type=png\"></center>"
   ]
  },
  {
   "cell_type": "markdown",
   "metadata": {},
   "source": [
    "### Vererbung"
   ]
  },
  {
   "cell_type": "markdown",
   "metadata": {},
   "source": [
    "Der letze wichtige Aspekt in der Arbeit mit UML ist die Vererbung. Die Vererbung wird in UML durch ein Referenz mit einem gefüllten Dreick \"▲\" bei der Oberklasse (es ist kein Pfeil) gezeichnet. Um zum Beispiel auszudrücken, dass `Triangle`, `Tetragon` und `Pentagon` Unterklassen des Polygons sind, können wir zeichnen."
   ]
  },
  {
   "cell_type": "markdown",
   "metadata": {},
   "source": [
    "<center><img src=\"https://mermaid.ink/img/pako:eNptjz0KwzAMha9iNLU0vYDp2AME2qkYjIiVNOCfYMtDSHP3OkkDHaJFet-T4GmCJhgCCY3FlO49dhGd8qLUSkQd7NgFL6YNLnXBSHg6_wGtE0etdzZvbT-9fa5X8Yw9-s7SkUUccVEHXk2eFw8qcBQd9qZkXbMo4Dc5UiDLaKjFbFmB8nNZxczhMfoGJMdMFeTBINPvO5At2lTogP4Vwq7nLzIuVXA?type=png\"></center>"
   ]
  },
  {
   "cell_type": "markdown",
   "metadata": {},
   "source": [
    "Fügen wir die einzelnen Elemente zusammen, so sieht das UML Diagram unseres Klassen-Modells wie folgt aus:"
   ]
  },
  {
   "cell_type": "markdown",
   "metadata": {},
   "source": [
    "<center><img src=\"https://mermaid.ink/img/pako:eNptUcFqwzAM_RWjU7o1hW03s-OOOxS20zAEEStpwJGDrcBCl3-fkyxlKfFJ7-m9JxldofSWQEPpMMa3BuuArWGV3syos29Yrguj1GPlPIr6vsPDDdsmCnJJ2ew7LPy4DXRD7VndMpMLA2F2-EcURZRQFNlewHvDtHE74loud9p5vjLwbEDluU_VU6pmr1ZpxyBHRWy34pfT6WGjX5fVqpskcZUv7OtPnqvP0CDXjvZaJAEntNM7E8vUgyO0FFpsbDrC_CsDcqGWDOhUWqqwd2LA8Jik2Iv_GLgELaGnI_SdRaG_s4Gu0MXEdshf3q94_AW6H5O5?type=png\"></center>"
   ]
  },
  {
   "cell_type": "markdown",
   "metadata": {},
   "source": [
    "Diese Modell können wir jetzt weiter verfeinern und weitere spezifischer Klassen für Dreiecke einführen wie rechtwinklige (Right), spitzwinklige (Acute) und stumpfwinklige (Obtuse) Dreiecke die unregelmäßig (Scalene), gleichschenklig (Isosceles) oder gleichseitig (Equilateral) sein können. Genauso können wir Vierecke klassifizieren in Trapeze, Parallelogramme und Drachen (Kite) mit den Spezialisierungen Rhombus, Rechteck und Quadrat (Square). Entlang der Vererbungshierarchie könnte man jetzt weitere Attribute und Methoden definieren, welche spezifische Berechnungen durchführen können oder z.B. testen ob die Punkte, Linien und Winkel den entsprechenden Bedingungen entsprechen."
   ]
  },
  {
   "cell_type": "markdown",
   "metadata": {},
   "source": [
    "<center><img src=\"https://mermaid.ink/img/pako:eNp9k01PwzAMhv9KlNMG6yTgVnFBggMCiWnbCVWqTOt1kdJkSxyJMfbfyZp2NFW1nmK_j1-7-TjyQpfIU15IsPZZQGWgzhTzX5NhCy0UHUOGsduN1EDsexAfLnEpLIEqcNLUTUP-FBvKQ6UVu3j6KjAIk2kvkeeWTJ5PxgzehcKoWqKqaDtgm_4s4_cZZ0mi_erOr5ralPkZDc0YqjKGH-bzm4jvhk3Z7ozYDg_Zx98kYWsjQFUSg9RFQVsV4IfDfCmqLV0DPr7I2asWT4WjFohcA_VqtS1Qou23is2HYL9l1GQI9joPkiygL3snJBAakGP7g2TgHI1oC1R01tof78iggfeTKPX_jYyBtYEd_owpb6IbODIJ4nKr6y_XnuSZHEkH61bAgnoHPOYYE5ewPcC989e7lUKTvsBnvEZTgyj9I2xudcZpizVmPPXLEjfgJGU8UyePgiO9OqiCp2QczrjblX7j22fL0w1I67M7UJ9ad_HpD1l7PXc?type=png\"></center>"
   ]
  }
 ],
 "metadata": {
  "kernelspec": {
   "display_name": "Python 3.10.6 ('lehre')",
   "language": "python",
   "name": "python3"
  },
  "language_info": {
   "codemirror_mode": {
    "name": "ipython",
    "version": 3
   },
   "file_extension": ".py",
   "mimetype": "text/x-python",
   "name": "python",
   "nbconvert_exporter": "python",
   "pygments_lexer": "ipython3",
   "version": "3.10.6"
  },
  "orig_nbformat": 4,
  "vscode": {
   "interpreter": {
    "hash": "c6f6ea9c9385f57658f4c302ffd3b717b6cd59b095fbd1c55795f0b67656eecd"
   }
  }
 },
 "nbformat": 4,
 "nbformat_minor": 2
}
