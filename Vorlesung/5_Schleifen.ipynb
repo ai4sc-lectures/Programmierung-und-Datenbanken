{
 "cells": [
  {
   "cell_type": "code",
   "execution_count": null,
   "metadata": {},
   "outputs": [],
   "source": [
    "for Element in Sequenz:\n",
    "\tStatement1…\n"
   ]
  },
  {
   "cell_type": "markdown",
   "metadata": {},
   "source": [
    "Der For-Loop wiederholt ein Block an Statements für alle Elemente in einer Sequenz. Element ist dabei eine Variable die immer mit dem aktuellen Element aus der Sequenz belegt wird."
   ]
  },
  {
   "cell_type": "code",
   "execution_count": null,
   "metadata": {},
   "outputs": [],
   "source": [
    "for Element in Sequenz:\n",
    "\t# Statement"
   ]
  },
  {
   "cell_type": "code",
   "execution_count": 2,
   "metadata": {},
   "outputs": [
    {
     "name": "stdout",
     "output_type": "stream",
     "text": [
      "a\n",
      "b\n",
      "c\n"
     ]
    }
   ],
   "source": [
    "seq = ['a','b','c']\n",
    "for e in seq:\n",
    "\tprint(e)"
   ]
  },
  {
   "cell_type": "code",
   "execution_count": 3,
   "metadata": {},
   "outputs": [
    {
     "name": "stdout",
     "output_type": "stream",
     "text": [
      "0\n",
      "1\n",
      "2\n"
     ]
    }
   ],
   "source": [
    "n = 3\n",
    "seq = range(n)\n",
    "for e in seq:\n",
    "\tprint(e)"
   ]
  },
  {
   "cell_type": "code",
   "execution_count": 6,
   "metadata": {},
   "outputs": [
    {
     "name": "stdout",
     "output_type": "stream",
     "text": [
      "[1.2801600000000002, 0.70104, 1.88976, 3.2004]\n"
     ]
    }
   ],
   "source": [
    "measurements_feet = [4.2, 2.3, 6.2, 10.5]   # Eingabe\n",
    "measurements_meter = []                            # Liste für Ergebnisse\n",
    "for feets in measurements_feet:\n",
    "\tmeasurements_meter.append(0.3048 * feets)\n",
    "print(measurements_meter)"
   ]
  },
  {
   "cell_type": "code",
   "execution_count": 3,
   "metadata": {},
   "outputs": [],
   "source": [
    "def while_loop(n):\n",
    "\twhile n > 0:\n",
    "\t\tprint(f\"Die While-Schleife wird ausgeführt wenn die Bedingung am Anfang der Schleife {n} > 0 wahr ist\")\n",
    "\t\tn -= 1 # wir zählen die variable n runter"
   ]
  },
  {
   "cell_type": "code",
   "execution_count": 4,
   "metadata": {},
   "outputs": [
    {
     "name": "stdout",
     "output_type": "stream",
     "text": [
      "Die While-Schleife wird 3 mal ausgeführt\n",
      "Die While-Schleife wird ausgeführt wenn die Bedingung am Anfang der Schleife 3 > 0 wahr ist\n",
      "Die While-Schleife wird ausgeführt wenn die Bedingung am Anfang der Schleife 2 > 0 wahr ist\n",
      "Die While-Schleife wird ausgeführt wenn die Bedingung am Anfang der Schleife 1 > 0 wahr ist\n"
     ]
    }
   ],
   "source": [
    "print(f\"Die While-Schleife wird 3 mal ausgeführt\")\n",
    "while_loop(3)"
   ]
  },
  {
   "cell_type": "code",
   "execution_count": 6,
   "metadata": {},
   "outputs": [
    {
     "name": "stdout",
     "output_type": "stream",
     "text": [
      "Die While-Schleife wird nicht ausgeführt, da n bereits 0 ist\n"
     ]
    }
   ],
   "source": [
    "print(f\"Die While-Schleife wird nicht ausgeführt, da n bereits 0 ist\")\n",
    "while_loop(0)"
   ]
  },
  {
   "cell_type": "code",
   "execution_count": null,
   "metadata": {},
   "outputs": [],
   "source": []
  },
  {
   "cell_type": "code",
   "execution_count": 7,
   "metadata": {},
   "outputs": [],
   "source": [
    "def do_while_loop(n):\n",
    "\tbedingung = True # Bedingung ist immer als True innitialisiert\n",
    "\twhile bedingung:\n",
    "\t\tprint(f\"Die Do-While-Schleife wird mindestens einmal ausgeführt bis die Bedingung am Ende der Schleife {n} > 0 wahr ist\")\n",
    "\t\tn -= 1 # wir zählen die variable n runter\n",
    "\t\tbedingung = n > 0 # Die bedingung wird erst am Ende der schleife neu gesetzt"
   ]
  },
  {
   "cell_type": "code",
   "execution_count": 8,
   "metadata": {},
   "outputs": [
    {
     "name": "stdout",
     "output_type": "stream",
     "text": [
      "Die Do-While-Schleife wird auch 3 mal ausgeführt\n",
      "Die Do-While-Schleife wird mindestens einmal ausgeführt bis die Bedingung am Ende der Schleife 3 > 0 wahr ist\n",
      "Die Do-While-Schleife wird mindestens einmal ausgeführt bis die Bedingung am Ende der Schleife 2 > 0 wahr ist\n",
      "Die Do-While-Schleife wird mindestens einmal ausgeführt bis die Bedingung am Ende der Schleife 1 > 0 wahr ist\n"
     ]
    }
   ],
   "source": [
    "print(f\"Die Do-While-Schleife wird auch 3 mal ausgeführt\")\n",
    "do_while_loop(3)"
   ]
  },
  {
   "cell_type": "code",
   "execution_count": 9,
   "metadata": {},
   "outputs": [
    {
     "name": "stdout",
     "output_type": "stream",
     "text": [
      "Die While-Schleife wird einmal ausgeführt, obwohl n bereits 0 ist\n",
      "Die Do-While-Schleife wird mindestens einmal ausgeführt bis die Bedingung am Ende der Schleife 0 > 0 wahr ist\n"
     ]
    }
   ],
   "source": [
    "print(f\"Die Do-While-Schleife wird einmal ausgeführt, obwohl n bereits 0 ist\")\n",
    "do_while_loop(0)"
   ]
  },
  {
   "cell_type": "code",
   "execution_count": 1,
   "metadata": {},
   "outputs": [
    {
     "name": "stdout",
     "output_type": "stream",
     "text": [
      "Die Repeat-Until-Schleife wird immer einmal ausgeführt, da die Bedingung am Anfang der Schleife immer False ist\n",
      "Die Repeat-Until-Schleife wird ausgeführt bis Bedingung am Ende True ist\n"
     ]
    }
   ],
   "source": [
    "def repeat_until_loop(n):\n",
    "\tbedingung = False # Bedingung ist immer als False innitialisiert\n",
    "\twhile not bedingung:  # wird aber im while negiert\n",
    "\t\tprint(f\"Die Repeat-Until-Schleife wird mindestens einmal ausgeführt bis die Bedingung am Ende der Schleife {n} > 0 falsch ist\")\n",
    "\t\tn -= 1 # wir zählen die variable n runter\n",
    "\t\tbedingung = n > 0 # Die bedingung wird erst am Ende der schleife neu gesetzt"
   ]
  },
  {
   "cell_type": "code",
   "execution_count": 10,
   "metadata": {},
   "outputs": [
    {
     "name": "stdout",
     "output_type": "stream",
     "text": [
      "Die Repeat-Until-Schleife wird auch 3 mal ausgeführt\n",
      "Die Do-While-Schleife wird mindestens einmal ausgeführt bis die Bedingung am Ende der Schleife 3 > 0 wahr ist\n",
      "Die Do-While-Schleife wird mindestens einmal ausgeführt bis die Bedingung am Ende der Schleife 2 > 0 wahr ist\n",
      "Die Do-While-Schleife wird mindestens einmal ausgeführt bis die Bedingung am Ende der Schleife 1 > 0 wahr ist\n"
     ]
    }
   ],
   "source": [
    "print(f\"Die Repeat-Until-Schleife wird auch 3 mal ausgeführt\")\n",
    "repeat_until_loop(3)"
   ]
  },
  {
   "cell_type": "code",
   "execution_count": null,
   "metadata": {},
   "outputs": [],
   "source": [
    "print(f\"Die While-Schleife wird einmal ausgeführt, obwohl n bereits 0 ist\")\n",
    "repeat_until_loop(0)"
   ]
  },
  {
   "cell_type": "code",
   "execution_count": null,
   "metadata": {},
   "outputs": [],
   "source": [
    "Bedingung = True\n",
    "cnt = 0\n",
    "while Bedingung:    # DAS IST EINE ENDLOSSCHLEIFE\n",
    "\t# Statements\n",
    "    print(\"Die Schleife wird \")\n",
    "    if cnt>999: break"
   ]
  }
 ],
 "metadata": {
  "kernelspec": {
   "display_name": "Python 3.10.6 ('lehre')",
   "language": "python",
   "name": "python3"
  },
  "language_info": {
   "codemirror_mode": {
    "name": "ipython",
    "version": 3
   },
   "file_extension": ".py",
   "mimetype": "text/x-python",
   "name": "python",
   "nbconvert_exporter": "python",
   "pygments_lexer": "ipython3",
   "version": "3.10.6"
  },
  "orig_nbformat": 4,
  "vscode": {
   "interpreter": {
    "hash": "c6f6ea9c9385f57658f4c302ffd3b717b6cd59b095fbd1c55795f0b67656eecd"
   }
  }
 },
 "nbformat": 4,
 "nbformat_minor": 2
}
