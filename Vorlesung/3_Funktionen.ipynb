{
 "cells": [
  {
   "cell_type": "markdown",
   "metadata": {},
   "source": [
    "# Operatoren"
   ]
  },
  {
   "cell_type": "markdown",
   "metadata": {},
   "source": [
    "## Arithmetische Operatoren"
   ]
  },
  {
   "cell_type": "markdown",
   "metadata": {},
   "source": [
    "Operatoren werden in Programmiersprachen verwendet um zwei oder mehrer Werte oder Variablen miteinander zu verknüpfen. Die arithmetischen Operatoren `*, -, *, /` aus der Mathematik gibt es auch in Python."
   ]
  },
  {
   "cell_type": "code",
   "execution_count": 47,
   "metadata": {},
   "outputs": [
    {
     "name": "stdout",
     "output_type": "stream",
     "text": [
      "2\n"
     ]
    }
   ],
   "source": [
    "a = 1 + 1\n",
    "print(a)"
   ]
  },
  {
   "cell_type": "markdown",
   "metadata": {},
   "source": [
    "Die Operationen funktionieren genauso mit Variablen oder gemischt."
   ]
  },
  {
   "cell_type": "code",
   "execution_count": 48,
   "metadata": {},
   "outputs": [
    {
     "name": "stdout",
     "output_type": "stream",
     "text": [
      "3\n"
     ]
    }
   ],
   "source": [
    "a = a + 1\n",
    "print(a)"
   ]
  },
  {
   "cell_type": "markdown",
   "metadata": {},
   "source": [
    "In diesem Beispiel ist die erste Eingangsvariable `a` identisch mit der Ergebnisvariable. In diesem Fall bietet Python auch die Kurzform an wo der Operator vor dem Zuweisungs"
   ]
  },
  {
   "cell_type": "code",
   "execution_count": 49,
   "metadata": {},
   "outputs": [
    {
     "name": "stdout",
     "output_type": "stream",
     "text": [
      "4\n"
     ]
    }
   ],
   "source": [
    "a += 1\n",
    "print(a)"
   ]
  },
  {
   "cell_type": "code",
   "execution_count": 50,
   "metadata": {},
   "outputs": [
    {
     "name": "stdout",
     "output_type": "stream",
     "text": [
      "8\n"
     ]
    }
   ],
   "source": [
    "a *= 2\n",
    "print(a)"
   ]
  },
  {
   "cell_type": "markdown",
   "metadata": {},
   "source": [
    "Hierbei bestimmen Klammern auch die Berechnungsreihenfolge, genauso wie in der Mathematik und können das Ergebnis beeinflussen. So, sind die folgenden beiden Ausdrücke nicht identisch:"
   ]
  },
  {
   "cell_type": "code",
   "execution_count": 56,
   "metadata": {},
   "outputs": [
    {
     "name": "stdout",
     "output_type": "stream",
     "text": [
      "-28\n"
     ]
    }
   ],
   "source": [
    "c1 = (6 + a) * (-2)\n",
    "print(c1)"
   ]
  },
  {
   "cell_type": "code",
   "execution_count": 57,
   "metadata": {},
   "outputs": [
    {
     "name": "stdout",
     "output_type": "stream",
     "text": [
      "-10\n"
     ]
    }
   ],
   "source": [
    "c2 = 6 + a * -2\n",
    "print(c2)"
   ]
  },
  {
   "cell_type": "markdown",
   "metadata": {},
   "source": [
    "### Logische Operatoren"
   ]
  },
  {
   "cell_type": "markdown",
   "metadata": {},
   "source": [
    "Um zu prüfen ob der Wert zweier Variablen gleich ist, wird in den meisten Programmiersprachen nicht das Gleichheitszeichen `=` verwendet, das es dort meist als Zuweisungsoperator definiert ist (und somit die erste Variable überschreiben würde). In Python nutzt man deshalb ein doppeltes Gleichheitszeichen `==` (mathematisch für exakt das gleiche). In unserem Beispiel ist `c1` nicht gleich `c2`, also die folgende Aussage falsch."
   ]
  },
  {
   "cell_type": "code",
   "execution_count": 58,
   "metadata": {},
   "outputs": [
    {
     "data": {
      "text/plain": [
       "False"
      ]
     },
     "execution_count": 58,
     "metadata": {},
     "output_type": "execute_result"
    }
   ],
   "source": [
    "c1 == c2"
   ]
  },
  {
   "cell_type": "markdown",
   "metadata": {},
   "source": [
    "Für Ungleichheit wird in Python der `!=` Operator verwendet"
   ]
  },
  {
   "cell_type": "code",
   "execution_count": 60,
   "metadata": {},
   "outputs": [
    {
     "data": {
      "text/plain": [
       "True"
      ]
     },
     "execution_count": 60,
     "metadata": {},
     "output_type": "execute_result"
    }
   ],
   "source": [
    "c1 != c2"
   ]
  },
  {
   "cell_type": "markdown",
   "metadata": {},
   "source": [
    "Auch die mathematischen Operatoren für kleiner `<`, kleiner gleich `≤`, größer `<`, und größer gleich `≥` werden unterstützt"
   ]
  },
  {
   "cell_type": "code",
   "execution_count": 62,
   "metadata": {},
   "outputs": [
    {
     "data": {
      "text/plain": [
       "True"
      ]
     },
     "execution_count": 62,
     "metadata": {},
     "output_type": "execute_result"
    }
   ],
   "source": [
    "c1 < c2"
   ]
  },
  {
   "cell_type": "code",
   "execution_count": 63,
   "metadata": {},
   "outputs": [
    {
     "data": {
      "text/plain": [
       "True"
      ]
     },
     "execution_count": 63,
     "metadata": {},
     "output_type": "execute_result"
    }
   ],
   "source": [
    "c1 <= c2"
   ]
  },
  {
   "cell_type": "code",
   "execution_count": 64,
   "metadata": {},
   "outputs": [
    {
     "data": {
      "text/plain": [
       "False"
      ]
     },
     "execution_count": 64,
     "metadata": {},
     "output_type": "execute_result"
    }
   ],
   "source": [
    "c1 > c2"
   ]
  },
  {
   "cell_type": "code",
   "execution_count": 65,
   "metadata": {},
   "outputs": [
    {
     "data": {
      "text/plain": [
       "False"
      ]
     },
     "execution_count": 65,
     "metadata": {},
     "output_type": "execute_result"
    }
   ],
   "source": [
    "c1 >= c2"
   ]
  },
  {
   "cell_type": "markdown",
   "metadata": {},
   "source": [
    "Boolche (logische) Werte werden in Python nicht durch die üblichen Operatoren für UND `&`, ODER `|`, NOT `~` kombiniert, sondern als `and`, `or`, `not` ausgeschrieben. Das Gößergleich `≥` ist z.B. identisch mit der Bedingung"
   ]
  },
  {
   "cell_type": "code",
   "execution_count": 68,
   "metadata": {},
   "outputs": [
    {
     "data": {
      "text/plain": [
       "False"
      ]
     },
     "execution_count": 68,
     "metadata": {},
     "output_type": "execute_result"
    }
   ],
   "source": [
    "c1 > c2 or c1 == c2"
   ]
  },
  {
   "cell_type": "markdown",
   "metadata": {},
   "source": [
    "## Bitweise Operatoren"
   ]
  },
  {
   "cell_type": "markdown",
   "metadata": {},
   "source": [
    "Die üblichen logischen Operatoren UND `&`, ODER `|`, sowie XOR `^` sind für bitweise Verknüpfung reserviert. Dies benutzt man nur sehr selten, bei bestimmten Berechnungen oder beim Masking."
   ]
  },
  {
   "cell_type": "code",
   "execution_count": 70,
   "metadata": {},
   "outputs": [],
   "source": [
    "a = 10 # binär 1010\n",
    "b = 4  # binär 0100"
   ]
  },
  {
   "cell_type": "code",
   "execution_count": 72,
   "metadata": {},
   "outputs": [
    {
     "name": "stdout",
     "output_type": "stream",
     "text": [
      "0\n"
     ]
    }
   ],
   "source": [
    "c = a & b\n",
    "print(c) # binär 0000"
   ]
  },
  {
   "cell_type": "code",
   "execution_count": 73,
   "metadata": {},
   "outputs": [
    {
     "name": "stdout",
     "output_type": "stream",
     "text": [
      "14\n"
     ]
    }
   ],
   "source": [
    "c = a | b\n",
    "print(c) # binär 1110"
   ]
  },
  {
   "cell_type": "markdown",
   "metadata": {},
   "source": [
    "Mit den Linksverschiebungs- `<<` und Rechtsverschiebungs-Operatoren `>>` lassen sich auch sehr schnelle Berechnungen realisieren. Eine Multiplikation mit 4 ist zum Beispiel eine Linksverschiebung um 2, eine Division um 4 hingegen eine Rechtsverschiebung um 2. Dies nuten Compiler intern um Berechnungen zu optimieren."
   ]
  },
  {
   "cell_type": "code",
   "execution_count": 77,
   "metadata": {},
   "outputs": [
    {
     "name": "stdout",
     "output_type": "stream",
     "text": [
      "40\n"
     ]
    }
   ],
   "source": [
    "c = a << 2\n",
    "print(c)"
   ]
  },
  {
   "cell_type": "code",
   "execution_count": 78,
   "metadata": {},
   "outputs": [
    {
     "name": "stdout",
     "output_type": "stream",
     "text": [
      "10\n"
     ]
    }
   ],
   "source": [
    "d = c >> 2\n",
    "print(d)"
   ]
  },
  {
   "cell_type": "markdown",
   "metadata": {},
   "source": [
    "## Ergebnisrückgabe"
   ]
  },
  {
   "cell_type": "markdown",
   "metadata": {},
   "source": [
    "Die Anweisung `return` wird in Funktionen benutzt, um die Ausführung einer Funktion zu beenden und den zugewiesenen Wert(e) als Ergebnis der Funktion zurück zu geben."
   ]
  },
  {
   "cell_type": "code",
   "execution_count": 173,
   "metadata": {},
   "outputs": [],
   "source": [
    "def funktion_mit_einer_ausgabe():\n",
    "    return \"Ausgabewert\"\n",
    "    print(\"Dieser Teil wird nicht ausgeführt\")"
   ]
  },
  {
   "cell_type": "code",
   "execution_count": 174,
   "metadata": {},
   "outputs": [
    {
     "data": {
      "text/plain": [
       "'Ausgabewert'"
      ]
     },
     "execution_count": 174,
     "metadata": {},
     "output_type": "execute_result"
    }
   ],
   "source": [
    "ergebnis = funktion_mit_einer_ausgabe()\n",
    "ergebnis"
   ]
  },
  {
   "cell_type": "markdown",
   "metadata": {},
   "source": [
    "Wir sehen, dass das Ergebnis 'Ausgabewert' ist und die `print()` Funktion nicht aufgerufen worden ist."
   ]
  },
  {
   "cell_type": "markdown",
   "metadata": {},
   "source": [
    "Es können mehrere Ausgabewerte mit return zurück gegeben werden."
   ]
  },
  {
   "cell_type": "code",
   "execution_count": 175,
   "metadata": {},
   "outputs": [],
   "source": [
    "def funktion_mit_zwei_ausgaben():\n",
    "    return \"Ausgabewert1\", \"Ausgabewert2\""
   ]
  },
  {
   "cell_type": "code",
   "execution_count": 176,
   "metadata": {},
   "outputs": [
    {
     "data": {
      "text/plain": [
       "('Ausgabewert1', 'Ausgabewert2')"
      ]
     },
     "execution_count": 176,
     "metadata": {},
     "output_type": "execute_result"
    }
   ],
   "source": [
    "ergebnis = funktion_mit_zwei_ausgaben()\n",
    "ergebnis"
   ]
  },
  {
   "cell_type": "markdown",
   "metadata": {},
   "source": [
    "Das Ergebnis von Funktionen mit mehreren Rückgaben ist ein Tuple."
   ]
  },
  {
   "cell_type": "code",
   "execution_count": 104,
   "metadata": {},
   "outputs": [
    {
     "data": {
      "text/plain": [
       "tuple"
      ]
     },
     "execution_count": 104,
     "metadata": {},
     "output_type": "execute_result"
    }
   ],
   "source": [
    "type(ergebnis)"
   ]
  },
  {
   "cell_type": "markdown",
   "metadata": {},
   "source": [
    "Auf die einzelnen Werte im Tuple kann durch den Index zugegriffen werden. Zur Erinnerung der Index einer Liste oder eines Tuples startet mit 0."
   ]
  },
  {
   "cell_type": "code",
   "execution_count": 105,
   "metadata": {},
   "outputs": [
    {
     "data": {
      "text/plain": [
       "'Ausgabewert1'"
      ]
     },
     "execution_count": 105,
     "metadata": {},
     "output_type": "execute_result"
    }
   ],
   "source": [
    "ergebnis[0]"
   ]
  },
  {
   "cell_type": "markdown",
   "metadata": {},
   "source": [
    "Das Tuple kann allerdings auch durch Mehrfachzuweisung verhindert werden. Bei einer Mehrfachzuweisung listet man mehrere durch Komma getrennte Variablen links von der Zuweisung auf. "
   ]
  },
  {
   "cell_type": "code",
   "execution_count": 178,
   "metadata": {},
   "outputs": [
    {
     "name": "stdout",
     "output_type": "stream",
     "text": [
      "Ausgabewert1\n",
      "Ausgabewert2\n",
      "<class 'str'>\n",
      "<class 'str'>\n"
     ]
    }
   ],
   "source": [
    "ergebnis1, ergebnis2 = funktion_mit_zwei_ausgaben()\n",
    "print(ergebnis1)\n",
    "print(ergebnis2)\n",
    "print(type(ergebnis1))\n",
    "print(type(ergebnis2))"
   ]
  },
  {
   "cell_type": "markdown",
   "metadata": {},
   "source": [
    "## Variablengültigkeit"
   ]
  },
  {
   "cell_type": "markdown",
   "metadata": {},
   "source": [
    "## Überladen von Operatoren"
   ]
  },
  {
   "cell_type": "markdown",
   "metadata": {},
   "source": [
    "Die arithmetischen Operatoren `+` und `-` sind in Python *überladen*, d.h. man kann sie auch auf nicht numersiche Datentypen anwenden. Um mehrere Strings zu verbinden kann man zum Beispiel schreiben:"
   ]
  },
  {
   "cell_type": "code",
   "execution_count": null,
   "metadata": {},
   "outputs": [
    {
     "name": "stdout",
     "output_type": "stream",
     "text": [
      "Der Ball ist rund.\n"
     ]
    }
   ],
   "source": [
    "satz = \"Der \"+ \"Ball \" + \"ist \" + \"rund.\"\n",
    "print(satz)"
   ]
  },
  {
   "cell_type": "markdown",
   "metadata": {},
   "source": [
    "Dies funktioniert auch für Listen"
   ]
  },
  {
   "cell_type": "code",
   "execution_count": null,
   "metadata": {},
   "outputs": [
    {
     "name": "stdout",
     "output_type": "stream",
     "text": [
      "[1, 2, 3, 4, 5, 6]\n"
     ]
    }
   ],
   "source": [
    "liste1 = [1,2,3]\n",
    "liste2 = [2,3,4]\n",
    "\n",
    "liste12 = liste1 + liste2\n",
    "print(liste12)"
   ]
  },
  {
   "cell_type": "markdown",
   "metadata": {},
   "source": [
    "oder als Subtraktion für Mengen"
   ]
  },
  {
   "cell_type": "code",
   "execution_count": null,
   "metadata": {},
   "outputs": [
    {
     "name": "stdout",
     "output_type": "stream",
     "text": [
      "{1}\n"
     ]
    }
   ],
   "source": [
    "menge1 = {1,2,3}\n",
    "menge2 = {2,3,4}\n",
    "\n",
    "menge12 = menge1 - menge2\n",
    "print(menge12)"
   ]
  },
  {
   "cell_type": "markdown",
   "metadata": {},
   "source": [
    "Hierbei ist zu beachten, dass die Operatoren ihrer semantische Bedeutung ändern, jenachdem welche Datentypen kombiniert werden. So ist die Addition zweier Strings `str` formal eine `concat` in einen neuen String. Bei der Liste bedeutet `+` das kopieren der ersten Liste in eine neue, welche dann mit `expand` um den Inhalt der nächsten Liste erweitert wird. Bei beiden ist der Operator für die Subtraktion `-` nicht definiert. Bei einem Set ist `+` nicht definiert, dafür aber `-` um Differenzmenge zu bestimmen.\n",
    "\n",
    "Ferner müssen bei Python beide verknüpften Werte immer den gleichen Datentypen haben. So kann man nicht, wie in Java oder JavaScript, ein String und eine Nummer kombinieren, sondern muss die Nummer zuerst in einen String konvertieren (casting)."
   ]
  },
  {
   "cell_type": "code",
   "execution_count": null,
   "metadata": {},
   "outputs": [
    {
     "ename": "TypeError",
     "evalue": "can only concatenate str (not \"int\") to str",
     "output_type": "error",
     "traceback": [
      "\u001b[1;31m---------------------------------------------------------------------------\u001b[0m\n",
      "\u001b[1;31mTypeError\u001b[0m                                 Traceback (most recent call last)\n",
      "\u001b[1;32mc:\\Users\\ploennigs\\Documents\\code\\AI4SC\\ProgrammierUebung\\Vorlesung\\3_Funktionen.ipynb Zelle 41\u001b[0m in \u001b[0;36m<cell line: 1>\u001b[1;34m()\u001b[0m\n",
      "\u001b[1;32m----> <a href='vscode-notebook-cell:/c%3A/Users/ploennigs/Documents/code/AI4SC/ProgrammierUebung/Vorlesung/3_Funktionen.ipynb#Y135sZmlsZQ%3D%3D?line=0'>1</a>\u001b[0m \u001b[39m\"\u001b[39;49m\u001b[39mDer Wert ist \u001b[39;49m\u001b[39m\"\u001b[39;49m \u001b[39m+\u001b[39;49m \u001b[39m1\u001b[39;49m\n",
      "\n",
      "\u001b[1;31mTypeError\u001b[0m: can only concatenate str (not \"int\") to str"
     ]
    }
   ],
   "source": [
    "\"Der Wert ist \" + 1  # geht nicht"
   ]
  },
  {
   "cell_type": "code",
   "execution_count": null,
   "metadata": {},
   "outputs": [
    {
     "data": {
      "text/plain": [
       "'Der Wert ist 1'"
      ]
     },
     "metadata": {},
     "output_type": "display_data"
    }
   ],
   "source": [
    "\"Der Wert ist \" + str(1)  # geht"
   ]
  },
  {
   "cell_type": "markdown",
   "metadata": {},
   "source": [
    "Dies hat damit zu tun dass bestimte Statements sonst mehrdeutig wären. So ist hier unklar ob das Ergebnis ein String sein soll oder eine Zahl."
   ]
  },
  {
   "cell_type": "code",
   "execution_count": null,
   "metadata": {},
   "outputs": [
    {
     "ename": "TypeError",
     "evalue": "can only concatenate str (not \"int\") to str",
     "output_type": "error",
     "traceback": [
      "\u001b[1;31m---------------------------------------------------------------------------\u001b[0m\n",
      "\u001b[1;31mTypeError\u001b[0m                                 Traceback (most recent call last)\n",
      "\u001b[1;32mc:\\Users\\ploennigs\\Documents\\code\\AI4SC\\ProgrammierUebung\\Vorlesung\\3_Funktionen.ipynb Zelle 43\u001b[0m in \u001b[0;36m<cell line: 1>\u001b[1;34m()\u001b[0m\n",
      "\u001b[1;32m----> <a href='vscode-notebook-cell:/c%3A/Users/ploennigs/Documents/code/AI4SC/ProgrammierUebung/Vorlesung/3_Funktionen.ipynb#Y144sZmlsZQ%3D%3D?line=0'>1</a>\u001b[0m \u001b[39m\"\u001b[39;49m\u001b[39m1\u001b[39;49m\u001b[39m\"\u001b[39;49m \u001b[39m+\u001b[39;49m \u001b[39m1\u001b[39;49m\n",
      "\n",
      "\u001b[1;31mTypeError\u001b[0m: can only concatenate str (not \"int\") to str"
     ]
    }
   ],
   "source": [
    "\"1\" + 1  # geht nicht"
   ]
  },
  {
   "cell_type": "markdown",
   "metadata": {},
   "source": [
    "Durch Casting der Werte in den richtigen Typ wird das Statement eindeutig"
   ]
  },
  {
   "cell_type": "code",
   "execution_count": null,
   "metadata": {},
   "outputs": [
    {
     "data": {
      "text/plain": [
       "2"
      ]
     },
     "metadata": {},
     "output_type": "display_data"
    }
   ],
   "source": [
    "int(\"1\") + 1  # geht"
   ]
  },
  {
   "cell_type": "markdown",
   "metadata": {},
   "source": [
    "# Funktionen"
   ]
  },
  {
   "cell_type": "markdown",
   "metadata": {},
   "source": [
    "## Funktionsdefinition und Funktionsaufruf"
   ]
  },
  {
   "cell_type": "markdown",
   "metadata": {},
   "source": [
    "Alle höheren Programmiersprachen erlauben die Definition von Funktionen (oder Prozeduren), um sich ständig wiederholdenen Code nur einmal schreiben zu müssen und komplexe Programme zu strukturieren. "
   ]
  },
  {
   "cell_type": "markdown",
   "metadata": {},
   "source": [
    "Funktionen werden in Python mit dem Schlüsselwort `def` definiert. Sie haben einen `funktionsnamen` und können mehrere Argumente als Eingabe in einer Klammer haben. Die Deklaration der Funktion wird mit `:` beendet. Der Körper der Funktion, also der Teil welcher beim Aufrufen der Funktion ausgeführt werden soll, muss immer eingerückt werden."
   ]
  },
  {
   "cell_type": "code",
   "execution_count": null,
   "metadata": {},
   "outputs": [],
   "source": [
    "def funktionsname(argument1, argument2):\n",
    "    # Funktionskörper\n",
    "    print(\"Der Datentyp von Argument 1 ist \"+str(type(argument1)))\n",
    "    print(\"Der Datentyp von Argument 2 ist \"+str(type(argument2)))"
   ]
  },
  {
   "cell_type": "markdown",
   "metadata": {},
   "source": [
    "Hierbei müssen alle Teile der Funktion gleich eingerückt werden. Der folgende Code ist z.B. syntaktisch falsch"
   ]
  },
  {
   "cell_type": "code",
   "execution_count": null,
   "metadata": {},
   "outputs": [
    {
     "ename": "IndentationError",
     "evalue": "unexpected indent (2361781394.py, line 4)",
     "output_type": "error",
     "traceback": [
      "\u001b[1;36m  Input \u001b[1;32mIn [120]\u001b[1;36m\u001b[0m\n",
      "\u001b[1;33m    print(\"Der Datentyp von Argument 2 ist \"+str(type(argument2)))\u001b[0m\n",
      "\u001b[1;37m    ^\u001b[0m\n",
      "\u001b[1;31mIndentationError\u001b[0m\u001b[1;31m:\u001b[0m unexpected indent\n"
     ]
    }
   ],
   "source": [
    "def funktionsname(argument1, argument):\n",
    "    # Funktionskörper\n",
    "    print(\"Der Datentyp von Argument 1 ist \"+str(type(argument1)))\n",
    "        print(\"Der Datentyp von Argument 2 ist \"+str(type(argument2)))"
   ]
  },
  {
   "cell_type": "markdown",
   "metadata": {},
   "source": [
    "Beim Aufruf der Funktion durch den `funktionsname(wert1, wert2)` müssen die Argumente mit Eingabewerten belegt werden. Die Argumente in Python werden wie andere Variablen dynamisch typisiert (Wir wissen also nicht unbedingt welchen Datentyp sie später haben werden. Das ist eine typische Fehlerquelle).\n"
   ]
  },
  {
   "cell_type": "code",
   "execution_count": null,
   "metadata": {},
   "outputs": [
    {
     "name": "stdout",
     "output_type": "stream",
     "text": [
      "Der Datentyp von Argument 1 ist <class 'str'>\n",
      "Der Datentyp von Argument 2 ist <class 'int'>\n"
     ]
    }
   ],
   "source": [
    "funktionsname(\"wert1\", 2)"
   ]
  },
  {
   "cell_type": "markdown",
   "metadata": {},
   "source": [
    "Das entscheidende ist, dass die Argumente ihre Werte ändern können."
   ]
  },
  {
   "cell_type": "code",
   "execution_count": null,
   "metadata": {},
   "outputs": [
    {
     "name": "stdout",
     "output_type": "stream",
     "text": [
      "Der Datentyp von Argument 1 ist <class 'str'>\n",
      "Der Datentyp von Argument 2 ist <class 'str'>\n"
     ]
    }
   ],
   "source": [
    "funktionsname(\"anderer wert \", \"noch ein anderer\")"
   ]
  },
  {
   "cell_type": "markdown",
   "metadata": {},
   "source": [
    "Variablen innerhalb von Funktionen sind nicht global gültig. So sind die Variablen der Argumente nur innerhalb der Funktion gültig. Auch neue Variablen die in der Funktion definiert werden sind nicht ausserhalb der Funktion gültig. So sind in der folgenden Funktion:"
   ]
  },
  {
   "cell_type": "code",
   "execution_count": null,
   "metadata": {},
   "outputs": [],
   "source": [
    "def meine_funktion(argument):\n",
    "    interne_variable = \"geheim\"\n",
    "    print(\"Der Wert von argument innerhalb der Funktion ist \"+str(argument))\n",
    "    print(\"Der Wert von intern innerhalb der Funktion ist \"+str(interne_variable))"
   ]
  },
  {
   "cell_type": "markdown",
   "metadata": {},
   "source": [
    "die Werte von `argument` und `intern` innerhalb der Funktion definiert und werden im ´print()´ Statement ausgegeben."
   ]
  },
  {
   "cell_type": "code",
   "execution_count": null,
   "metadata": {},
   "outputs": [
    {
     "name": "stdout",
     "output_type": "stream",
     "text": [
      "Der Wert von argument innerhalb der Funktion ist argument_wert\n",
      "Der Wert von intern innerhalb der Funktion ist geheim\n"
     ]
    }
   ],
   "source": [
    "meine_funktion(\"argument_wert\")"
   ]
  },
  {
   "cell_type": "markdown",
   "metadata": {},
   "source": [
    "Die Variablen `argument` und `interne_variable` sind nach dem Ausführen der Funktion allerdings nicht global verfügbar."
   ]
  },
  {
   "cell_type": "code",
   "execution_count": null,
   "metadata": {},
   "outputs": [
    {
     "name": "stdout",
     "output_type": "stream",
     "text": [
      "6\n"
     ]
    }
   ],
   "source": [
    "print(argument)"
   ]
  },
  {
   "cell_type": "code",
   "execution_count": null,
   "metadata": {},
   "outputs": [
    {
     "ename": "NameError",
     "evalue": "name 'interne_variable' is not defined",
     "output_type": "error",
     "traceback": [
      "\u001b[1;31m---------------------------------------------------------------------------\u001b[0m\n",
      "\u001b[1;31mNameError\u001b[0m                                 Traceback (most recent call last)\n",
      "\u001b[1;32mc:\\Users\\ploennigs\\Documents\\code\\AI4SC\\ProgrammierUebung\\Vorlesung\\3_Funktionen.ipynb Zelle 65\u001b[0m in \u001b[0;36m<cell line: 1>\u001b[1;34m()\u001b[0m\n",
      "\u001b[1;32m----> <a href='vscode-notebook-cell:/c%3A/Users/ploennigs/Documents/code/AI4SC/ProgrammierUebung/Vorlesung/3_Funktionen.ipynb#X25sZmlsZQ%3D%3D?line=0'>1</a>\u001b[0m \u001b[39mprint\u001b[39m(interne_variable)\n",
      "\n",
      "\u001b[1;31mNameError\u001b[0m: name 'interne_variable' is not defined"
     ]
    }
   ],
   "source": [
    "print(interne_variable)"
   ]
  },
  {
   "cell_type": "markdown",
   "metadata": {},
   "source": [
    "Die erlaubt es auch Variablennamen ausserhalb der Funktion zu definieren, welche innerhalb der Funktion einen anderen Wert haben können. So bleibt der Wert von `argument` unverändert."
   ]
  },
  {
   "cell_type": "code",
   "execution_count": null,
   "metadata": {},
   "outputs": [
    {
     "name": "stdout",
     "output_type": "stream",
     "text": [
      "Der Wert von argument vor der Funktion ist 6\n",
      "Der Wert von argument innerhalb der Funktion ist 6\n",
      "Der Wert von intern innerhalb der Funktion ist geheim\n",
      "Der Wert von argument nach der Funktion ist immer noch 6\n"
     ]
    }
   ],
   "source": [
    "argument = 6 # orginalwert\n",
    "print(\"Der Wert von argument vor der Funktion ist \"+str(argument))\n",
    "meine_funktion(argument)\n",
    "print(\"Der Wert von argument nach der Funktion ist immer noch \"+str(argument))"
   ]
  },
  {
   "cell_type": "markdown",
   "metadata": {},
   "source": [
    "## Veränderte und unveränderte Argumente"
   ]
  },
  {
   "cell_type": "markdown",
   "metadata": {},
   "source": [
    "Grundsätzlich werden Modifikationen an Argumenten primitiver Datentypen innerhalb der Funktion nicht übernommen (pass-by-value). So, lässt sich innerhalb der Funktion auch Argumenten neue Werte zuweisen."
   ]
  },
  {
   "cell_type": "code",
   "execution_count": null,
   "metadata": {},
   "outputs": [
    {
     "name": "stdout",
     "output_type": "stream",
     "text": [
      "Der Wert von argument vor der Funktion ist 6\n",
      "Der Wert von argument am Anfang der Funktion ist 6\n",
      "Der Wert von argument am Ende der Funktion ist 3\n",
      "Der Wert von argument nach der Funktion ist immer noch 6\n"
     ]
    }
   ],
   "source": [
    "def meine_funktion(argument):\n",
    "    print(\"Der Wert von argument am Anfang der Funktion ist \"+str(argument))\n",
    "    argument = 3\n",
    "    print(\"Der Wert von argument am Ende der Funktion ist \"+str(argument))\n",
    "\n",
    "argument = 6 # orginalwert\n",
    "print(\"Der Wert von argument vor der Funktion ist \"+str(argument))\n",
    "meine_funktion(argument)\n",
    "print(\"Der Wert von argument nach der Funktion ist immer noch \"+str(argument))"
   ]
  },
  {
   "cell_type": "markdown",
   "metadata": {},
   "source": [
    "Das funktioniert auch bei komplexen Datentypen, wie `list`, `set`, `dict`, sofern sie komplett neu zugewiesen werden."
   ]
  },
  {
   "cell_type": "code",
   "execution_count": null,
   "metadata": {},
   "outputs": [
    {
     "name": "stdout",
     "output_type": "stream",
     "text": [
      "Der Wert von argument vor der Funktion ist [6]\n",
      "Der Wert von argument am Anfang der Funktion ist [6]\n",
      "Der Wert von argument am Ende der Funktion ist [3]\n",
      "Der Wert von argument nach der Funktion ist immer noch [6]\n"
     ]
    }
   ],
   "source": [
    "def meine_funktion(argument):\n",
    "    print(\"Der Wert von argument am Anfang der Funktion ist \"+str(argument))\n",
    "    argument = [3]\n",
    "    print(\"Der Wert von argument am Ende der Funktion ist \"+str(argument))\n",
    "\n",
    "argument = [6] # orginalwert\n",
    "print(\"Der Wert von argument vor der Funktion ist \"+str(argument))\n",
    "meine_funktion(argument)\n",
    "print(\"Der Wert von argument nach der Funktion ist immer noch \"+str(argument))"
   ]
  },
  {
   "cell_type": "markdown",
   "metadata": {},
   "source": [
    "Werden sie alldering nur modifiziert (pass-by-reference), so sind diese Änderungen auch global."
   ]
  },
  {
   "cell_type": "code",
   "execution_count": null,
   "metadata": {},
   "outputs": [
    {
     "name": "stdout",
     "output_type": "stream",
     "text": [
      "Der Wert von argument vor der Funktion ist [6]\n",
      "Der Wert von argument am Anfang der Funktion ist [6]\n",
      "Der Wert von argument am Ende der Funktion ist [6, 3]\n",
      "Der Wert von argument nach der Funktion ist auf einmal [6, 3]\n"
     ]
    }
   ],
   "source": [
    "def meine_funktion(argument):\n",
    "    print(\"Der Wert von argument am Anfang der Funktion ist \"+str(argument))\n",
    "    argument.append(3) # Wir fügen 3 der liste hinzu\n",
    "    print(\"Der Wert von argument am Ende der Funktion ist \"+str(argument))\n",
    "    \n",
    "argument = [6] # orginalwert\n",
    "print(\"Der Wert von argument vor der Funktion ist \"+str(argument))\n",
    "meine_funktion(argument)\n",
    "print(\"Der Wert von argument nach der Funktion ist auf einmal \"+str(argument))"
   ]
  },
  {
   "cell_type": "markdown",
   "metadata": {},
   "source": [
    "Das kann sehr schnell zu Fehlern führen, wenn man unbeabsichtigt globale Datenstrukturen verändert."
   ]
  }
 ],
 "metadata": {
  "kernelspec": {
   "display_name": "Python 3.10.6 ('lehre')",
   "language": "python",
   "name": "python3"
  },
  "language_info": {
   "codemirror_mode": {
    "name": "ipython",
    "version": 3
   },
   "file_extension": ".py",
   "mimetype": "text/x-python",
   "name": "python",
   "nbconvert_exporter": "python",
   "pygments_lexer": "ipython3",
   "version": "3.10.6"
  },
  "orig_nbformat": 4,
  "vscode": {
   "interpreter": {
    "hash": "c6f6ea9c9385f57658f4c302ffd3b717b6cd59b095fbd1c55795f0b67656eecd"
   }
  }
 },
 "nbformat": 4,
 "nbformat_minor": 2
}
