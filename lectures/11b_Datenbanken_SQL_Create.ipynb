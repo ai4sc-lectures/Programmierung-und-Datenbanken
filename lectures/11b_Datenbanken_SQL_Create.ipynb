{
 "cells": [
  {
   "cell_type": "markdown",
   "metadata": {
    "editable": true,
    "slideshow": {
     "slide_type": "slide"
    },
    "tags": [
     "remove-cell"
    ]
   },
   "source": [
    "<div class=\"vslide\">\n",
    "  <div class=\"vslide-title\">\n",
    "    <p style=\"font-family: Protomolecule; font-size: 2.3em; line-height: 90%; margin: 0px auto; text-align: center; width: 100%;\"><span style=\"letter-spacing: .04rem;\">programmierung</span><br><span style=\"letter-spacing: .0rem;\">und datenbanken</span></p>\n",
    "<p class=\"author\" style=\"font-family: Protomolecule; margin: 0px auto;  text-align: center; width: 100%; font-size: 1.2em;\">Joern Ploennigs</p>\n",
    "<p class=\"subtitle\" style=\"font-family: Protomolecule; margin: 1em auto; text-align: center; width: 100%; font-size: 1.2em;\">Tabellen Anlegen</p>\n",
    "    <figcaption>Midjourney: The creation of SQL, ref. Michelangelo</figcaption>\n",
    "  </div>\n",
    "<script>\n",
    "  function setSectionBackground(c,v){\n",
    "    let e=document.currentScript.previousElementSibling;\n",
    "    while(e&&e.tagName!=='SECTION')e=e.parentElement;\n",
    "    if(e){\n",
    "      if(c)e.setAttribute('data-background-color',c);\n",
    "      if(v){\n",
    "        e.setAttribute('data-background-video',v);\n",
    "        e.setAttribute('data-background-video-loop','true');\n",
    "        e.setAttribute('data-background-video-muted','true');\n",
    "      }\n",
    "    }\n",
    "  }\n",
    "  setSectionBackground('#000000', 'images/11b_Datenbanken_SQL_Create/mj_title.mp4');\n",
    "</script>\n",
    "<style>\n",
    ".flex-row{display:flex; gap:2rem; align-items:flex-start; justify-content:space-between;}\n",
    ".flex-row .col1{flex:1; min-width:10px}\n",
    ".flex-row .col2{flex:2; min-width:10px}\n",
    ".flex-row .col3{flex:3; min-width:10px}\n",
    ".flex-row .col4{flex:4; min-width:10px}\n",
    ".flex-row .col5{flex:5; min-width:10px}\n",
    ".flex-row .col6{flex:6; min-width:10px}\n",
    ".flex-row .col7{flex:7; min-width:10px}\n",
    ".vcent{display:flex; align-items:center; justify-content:center}\n",
    "</style>\n",
    "</div>"
   ]
  },
  {
   "cell_type": "markdown",
   "metadata": {
    "editable": true,
    "slideshow": {
     "slide_type": "skip"
    },
    "tags": []
   },
   "source": [
    "# Tabellen mit SQL anlegen"
   ]
  },
  {
   "cell_type": "markdown",
   "metadata": {
    "editable": true,
    "slideshow": {
     "slide_type": "skip"
    },
    "tags": []
   },
   "source": [
    "<figure class=\"mj-tile-band\">\n",
    "    <img src='images/11b_Datenbanken_SQL_Create/mj_title_band.jpg'>\n",
    "    <figcaption>Midjourney: The creation of SQL, ref. Michelangelo</figcaption>\n",
    "</figure>\n",
    "\n",
    "> The problem with SQL is that it pretends to implement the relational model, but doesn’t.\n",
    ">\n",
    "> — David McGoveran"
   ]
  },
  {
   "cell_type": "markdown",
   "metadata": {
    "editable": true,
    "slideshow": {
     "slide_type": "skip"
    },
    "tags": []
   },
   "source": [
    "## <a href=\"../lec_slides/11b_Datenbanken_SQL_Create.slides.html\">Folien</a>/<a href=\"../pdf/slides/11b_Datenbanken_SQL_Create.pdf\">PDF</a>\n",
    "<iframe src=\"../lec_slides/11b_Datenbanken_SQL_Create.slides.html\" width=\"750\" height=\"500\"></iframe>"
   ]
  },
  {
   "cell_type": "markdown",
   "metadata": {
    "editable": true,
    "slideshow": {
     "slide_type": "slide"
    },
    "tags": [
     "remove-cell"
    ]
   },
   "source": [
    "## Ablauf\n",
    "\n",
    "![](images/partB_3.svg)"
   ]
  },
  {
   "attachments": {},
   "cell_type": "markdown",
   "metadata": {
    "editable": true,
    "slideshow": {
     "slide_type": "skip"
    },
    "tags": []
   },
   "source": [
    "## Tabellen mit SQL implementieren"
   ]
  },
  {
   "attachments": {},
   "cell_type": "markdown",
   "metadata": {
    "slideshow": {
     "slide_type": "skip"
    }
   },
   "source": [
    "SQL erlaubt es uns nicht nur Daten aus bestehenden Tabellen abzufragen, sondern auch neue Tabellen zu erzeugen und diese zu verändern. Wir wollen diese Funktionalität im folgenden nutzen, um unseren Logischen Entwurf für die Geometrieobjekte zu implementieren.\n",
    "\n",
    "Hierfür nutzen wir wieder SQLite und erzeugen uns eine neue Datenbank `geometry.sqlite`. Wir setzten uns auch direkt einen Kursor `cur`, um SQL Befehle auf der Datenbank auszuführen."
   ]
  },
  {
   "cell_type": "code",
   "execution_count": null,
   "metadata": {
    "slideshow": {
     "slide_type": "skip"
    }
   },
   "outputs": [],
   "source": [
    "import sqlite3\n",
    "\n",
    "# Create a SQL connection to our SQLite database\n",
    "con = sqlite3.connect(\"geometry.sqlite\")\n",
    "cur = con.cursor()"
   ]
  },
  {
   "attachments": {},
   "cell_type": "markdown",
   "metadata": {
    "slideshow": {
     "slide_type": "skip"
    }
   },
   "source": [
    "Als erstes müssen wir die generischen Datentypen des logischen Entwurfs auf die konkreten Datentypen von SQLite abbilden. Grundsätzlich unterscheiden die Datentypen sich für jedes DBMS etwas und man muss immer schauen, welche Datentypen am besten geeignet ist. SQLite beschränkt sich auf relativ wenige Datentypen, welche gut mit den primitiven Datentypen von Python überein stimmen. Die folgende Tabelle vergleicht die Datentypen von SQLite mit Python."
   ]
  },
  {
   "attachments": {},
   "cell_type": "markdown",
   "metadata": {
    "slideshow": {
     "slide_type": "skip"
    }
   },
   "source": [
    "|       | SQLite | Python |\n",
    "|----|-----|----|\n",
    "| Boolean       | (INTEGER) | bool | \n",
    "| Ganzzahl | INTEGER | int | \n",
    "| Gleitkommazahl | REAL | float | \n",
    "| Interpretiert beliebige Dateneingaben als Zahl | NUMERIC | - | \n",
    "| Text-String, gespeichert in UTF-8 oder UTF-16 | TEXT | str | \n",
    "| Beliebiger Block an Binärdaten | BLOB | bytes | \n",
    "| Keine Daten | NULL | None | \n"
   ]
  },
  {
   "attachments": {},
   "cell_type": "markdown",
   "metadata": {
    "slideshow": {
     "slide_type": "skip"
    }
   },
   "source": [
    "Besonderheit hier ist der `NUMERIC` Datentyp, welcher dazu da ist, dass Zahlen aus Texteingaben automatisch in die passende Zahlenrepräsentation in der Datenbank umgewandelt wird. Der `NULL` Wert ist in der Tabelle kein Datentyp an sich sondern wird benutzt beim Laden von Daten in Tabellen fehlende Werte zu übertragen.\n",
    "\n",
    "Mit diesen Datentypen und dem ER-Diagramm des Logischen Entwurfsmodells oben können wir jetzt unsere Tabellen erzeugen. Dies geschieht in SQL mit dem `CREATE TABLE` Befehl auf welchen der Tabellenname (Entitätsname) folgt und dann in Klammern, die einzelnen Attribute. Für die fünf Entitäten ergeben sich die folgenden SQL Befehle."
   ]
  },
  {
   "cell_type": "code",
   "execution_count": null,
   "metadata": {
    "slideshow": {
     "slide_type": "skip"
    }
   },
   "outputs": [],
   "source": [
    "sql='''\n",
    "CREATE TABLE Points (\n",
    "  point_id INTEGER,\n",
    "  x REAL,\n",
    "  y REAL\n",
    ");\n",
    "\n",
    "CREATE TABLE Lines (\n",
    "  lines_id INTEGER,\n",
    "  start INTEGER,\n",
    "  end INTEGER\n",
    ");\n",
    "\n",
    "CREATE TABLE PolygonTypes (\n",
    "  polygontype_id INTEGER,\n",
    "  name TEXT\n",
    ");\n",
    "\n",
    "CREATE TABLE Polygons (\n",
    "  polygon_id INTEGER,\n",
    "  polygontype INTEGER\n",
    ");\n",
    "\n",
    "CREATE TABLE PolygonPoints (\n",
    "  polypoint_id INTEGER,\n",
    "  polygon_id INTEGER,\n",
    "  point_id INTEGER\n",
    ");\n",
    "'''"
   ]
  },
  {
   "attachments": {},
   "cell_type": "markdown",
   "metadata": {
    "slideshow": {
     "slide_type": "skip"
    }
   },
   "source": [
    "Prinzipiell könnten wir diese Befehle bereits an die SQLite DB senden und die Tabellen anlegen. Allerdings fehlen hier noch die Deklarierung der Primär- und Fremdschlüssel sowie die `Not Null` Constraints.\n",
    "\n",
    "Hierfür ergänzen wir die Zeilen der Attribute welche als Primärschlüssel dienen mit der Anmerkung `PRIMARY KEY`. In unserm Beispiel definieren wir den Schlüssel als `AUTOINCREMENT`, das heißt, dass neuen Daten die ohne Schlüssel hinzugefügt werden, automatisch ein Schlüssel zugewiesen wird.\n",
    "\n",
    "Die Fremdschlüssel definieren wir als zusätzlichen Constraint (Bedingung) indem wir angeben welche Attribute Fremdschlüssel sind und auf welche Tabelle und Schlüsselattribute diese sich beziehen. Der Fremdschlüssel `polytype` in der Tabelle `Polygons` verweißt zum Beispiel auf den Primärschlüssel `polytype_id` in der Tabelle `PolygonTypes`. Mehrfachnennungen sind hier möglich wie das Beispiel für den `start` und `end` Point in der Tabelle `Lines` zeigt.\n",
    "\n",
    "Wir annotieren weiterhin alle Attribute und Fremdschlüssel die nicht Null sein dürfen mit `NOT NULL`. Primärschlüssel dürfen nie null sein, weshalb wir diese Annotation nicht brauchen.\n",
    "\n",
    "Damit ergibt sich unser vervollständigtes SQL-Skript zum Erzeugen aller Tabellen zu:"
   ]
  },
  {
   "cell_type": "code",
   "execution_count": null,
   "metadata": {
    "slideshow": {
     "slide_type": "skip"
    }
   },
   "outputs": [],
   "source": [
    "sql='''\n",
    "CREATE TABLE Points (\n",
    "  point_id INTEGER PRIMARY KEY AUTOINCREMENT,\n",
    "  x REAL NOT NULL,\n",
    "  y REAL NOT NULL\n",
    ");\n",
    "\n",
    "CREATE TABLE Lines (\n",
    "  lines_id INTEGER PRIMARY KEY AUTOINCREMENT,\n",
    "  start INTEGER NOT NULL,\n",
    "  end INTEGER NOT NULL,\n",
    "  FOREIGN KEY(start,end) REFERENCES Points(point_id,point_id)\n",
    ");\n",
    "\n",
    "CREATE TABLE PolygonTypes (\n",
    "  polytype_id INTEGER PRIMARY KEY AUTOINCREMENT,\n",
    "  name TEXT\n",
    ");\n",
    "\n",
    "CREATE TABLE Polygons (\n",
    "  polygon_id INTEGER PRIMARY KEY AUTOINCREMENT,\n",
    "  polytype INTEGER,\n",
    "  FOREIGN KEY(polytype) REFERENCES PolygonTypes(polytype_id)\n",
    ");\n",
    "\n",
    "CREATE TABLE PolygonPoints (\n",
    "  polypoint_id INTEGER PRIMARY KEY AUTOINCREMENT,\n",
    "  polygon_id INTEGER,\n",
    "  point_id INTEGER,\n",
    "  FOREIGN KEY(polygon_id) REFERENCES Polygons(polygon_id),\n",
    "  FOREIGN KEY(point_id) REFERENCES Points(point_id)\n",
    ");\n",
    "'''"
   ]
  },
  {
   "attachments": {},
   "cell_type": "markdown",
   "metadata": {
    "slideshow": {
     "slide_type": "skip"
    }
   },
   "source": [
    "Da dieses SQL-Script mehrere Befehle enthält, können wir es nicht mit `cur.execute(sql)` an die Datenbank senden, sondern benutzen"
   ]
  },
  {
   "cell_type": "code",
   "execution_count": null,
   "metadata": {
    "slideshow": {
     "slide_type": "skip"
    },
    "tags": [
     "remove-output"
    ]
   },
   "outputs": [],
   "source": [
    "cur.executescript(sql)"
   ]
  },
  {
   "attachments": {},
   "cell_type": "markdown",
   "metadata": {
    "slideshow": {
     "slide_type": "skip"
    }
   },
   "source": [
    "Um zu prüfen ob unsere Tabellen angelegt worden sind, können wir alle Tabellen in der SQLite Datebank abfragen mit:"
   ]
  },
  {
   "cell_type": "code",
   "execution_count": null,
   "metadata": {
    "slideshow": {
     "slide_type": "skip"
    }
   },
   "outputs": [],
   "source": [
    "sql=\"SELECT name FROM sqlite_schema WHERE type='table' ORDER BY name;\"\n",
    "\n",
    "rows=cur.execute(sql)\n",
    "for row in rows:\n",
    "    print(row)"
   ]
  },
  {
   "attachments": {},
   "cell_type": "markdown",
   "metadata": {
    "slideshow": {
     "slide_type": "skip"
    }
   },
   "source": [
    "## Daten hinzufügen"
   ]
  },
  {
   "attachments": {},
   "cell_type": "markdown",
   "metadata": {
    "slideshow": {
     "slide_type": "skip"
    }
   },
   "source": [
    "Im nächsten Schritt wollen wir einige Werte in die Datenbank laden. Dies geschieht mit dem SQL Befehl `INSERT INTO` mit dem Tabellennamen und den einzutragenden Werten, in genau der Reihenfolge der vorher deklarierten Spalten (also point_id, x, y).\n",
    "\n",
    "Zum Beispiel wollen wir zwei Punkte mit den Koordinaten (54.083336, 12.108811) und (12.094167, 54.075211). Dabei geben wir auch den Wert des Primärindex als 1 und 2 mit an:"
   ]
  },
  {
   "cell_type": "code",
   "execution_count": null,
   "metadata": {
    "slideshow": {
     "slide_type": "skip"
    }
   },
   "outputs": [],
   "source": [
    "sql=\"\"\"\n",
    "INSERT INTO Points VALUES(1, 54.083336, 12.108811);\n",
    "INSERT INTO Points VALUES(2, 12.094167, 54.075211);\n",
    "\"\"\""
   ]
  },
  {
   "cell_type": "code",
   "execution_count": null,
   "metadata": {
    "slideshow": {
     "slide_type": "skip"
    },
    "tags": [
     "remove-output"
    ]
   },
   "outputs": [],
   "source": [
    "cur.executescript(sql)"
   ]
  },
  {
   "attachments": {},
   "cell_type": "markdown",
   "metadata": {
    "slideshow": {
     "slide_type": "skip"
    }
   },
   "source": [
    "Dieser Primärindex muss einmalig sein. Wollen wir zum Beispiel die gleichen Punkte noch einmal erzeugen, so gibt uns die Datenbank eine Fehlermeldung zurück, dass die Punkte schon existieren."
   ]
  },
  {
   "cell_type": "code",
   "execution_count": null,
   "metadata": {
    "slideshow": {
     "slide_type": "skip"
    },
    "tags": [
     "raises-exception"
    ]
   },
   "outputs": [],
   "source": [
    "cur.executescript(sql)"
   ]
  },
  {
   "attachments": {},
   "cell_type": "markdown",
   "metadata": {
    "slideshow": {
     "slide_type": "skip"
    }
   },
   "source": [
    "Wollen wir von der Spaltenreihenfolge abweichen oder Werte weglassen. So können wir die zu schreibenden Spaltennamen am `INSERT` Befehl auch mit angeben. Lassen wir eine Spalte weg, so wird sie mit `NULL` beschrieben, sofern die Spalte Nullwerte erlaubt. Da wir bei der Tabellendeklaration den Primärschlüssel `point_id` als `AUTOINCREMENT` deklariert haben, müssen wir diesen nicht unbedingt mit angeben. Ihm wird dann automatisch ein Wert zugewiesen."
   ]
  },
  {
   "cell_type": "code",
   "execution_count": null,
   "metadata": {
    "slideshow": {
     "slide_type": "skip"
    },
    "tags": [
     "remove-output"
    ]
   },
   "outputs": [],
   "source": [
    "sql=\"INSERT INTO Points(x, y) VALUES(54.083336, 12.108811);\"\n",
    "cur.execute(sql)"
   ]
  },
  {
   "attachments": {},
   "cell_type": "markdown",
   "metadata": {
    "slideshow": {
     "slide_type": "skip"
    }
   },
   "source": [
    "Hier haben wir allerdings das Problem, dass wir den Wert nicht kennen und somit auch später als Fremdschlüssel nicht weiter verwenden können. In Python wird dieser im Cursor gespeichert unter"
   ]
  },
  {
   "cell_type": "code",
   "execution_count": null,
   "metadata": {
    "slideshow": {
     "slide_type": "skip"
    }
   },
   "outputs": [],
   "source": [
    "cur.lastrowid"
   ]
  },
  {
   "attachments": {},
   "cell_type": "markdown",
   "metadata": {
    "slideshow": {
     "slide_type": "skip"
    }
   },
   "source": [
    "Als nächstes wollen wir eine Linie zwischen dem Punkt (54.083336, 12.108811) und (12.094167, 54.075211) erzeugen. Dies können wir nicht direkt mit den Koordinaten, sondern müssen die Fremdschlüssel der Punkte nutzen, welche wir beim erzeugen zugewiesen haben. Also 1 und 2."
   ]
  },
  {
   "cell_type": "code",
   "execution_count": null,
   "metadata": {
    "slideshow": {
     "slide_type": "skip"
    }
   },
   "outputs": [],
   "source": [
    "sql=\"INSERT INTO Lines(start, end) VALUES(1, 2);\"\n",
    "cur.execute(sql)\n",
    "cur.lastrowid"
   ]
  },
  {
   "attachments": {},
   "cell_type": "markdown",
   "metadata": {
    "slideshow": {
     "slide_type": "skip"
    }
   },
   "source": [
    "Bevor wir ein Polygon erzeugen können müssen wir erst den Polygontyp in der Tabelle `PolygonTypes` deklarieren. Zum Beispiel sagen wir, dass es den Polygontyp \"Dreieck\" gibt mit dem Primärschlüsselwert 0."
   ]
  },
  {
   "cell_type": "code",
   "execution_count": null,
   "metadata": {
    "slideshow": {
     "slide_type": "skip"
    }
   },
   "outputs": [],
   "source": [
    "sql='INSERT INTO PolygonTypes VALUES(0, \"Dreieck\");'\n",
    "cur.execute(sql)\n",
    "cur.lastrowid"
   ]
  },
  {
   "attachments": {},
   "cell_type": "markdown",
   "metadata": {
    "slideshow": {
     "slide_type": "skip"
    }
   },
   "source": [
    "Jetzt erzeugen wir den Eintrag für das Polygon in der Tabelle `Polygon`. Hier gibt es nur den Primärschlüssel, z.B. 33 und den Fremdschlüssel 0 für den Polygontyp."
   ]
  },
  {
   "cell_type": "code",
   "execution_count": null,
   "metadata": {
    "slideshow": {
     "slide_type": "skip"
    }
   },
   "outputs": [],
   "source": [
    "sql='INSERT INTO Polygons VALUES(33, 0);'\n",
    "cur.execute(sql)\n",
    "cur.lastrowid"
   ]
  },
  {
   "attachments": {},
   "cell_type": "markdown",
   "metadata": {
    "slideshow": {
     "slide_type": "skip"
    }
   },
   "source": [
    "Wollen wir zum Beispiel ein Polygon für einen nicht existenten Polygontypen mit dem Fremdschlüssel 6 erzeugen, so gibt uns die Datenbank eine Fehlermeldung zurück."
   ]
  },
  {
   "cell_type": "code",
   "execution_count": null,
   "metadata": {
    "slideshow": {
     "slide_type": "skip"
    },
    "tags": [
     "raises-exception"
    ]
   },
   "outputs": [],
   "source": [
    "sql='INSERT INTO Polygons VALUES(66, 6);'\n",
    "cur.execute(sql)\n",
    "cur.lastrowid"
   ]
  },
  {
   "attachments": {},
   "cell_type": "markdown",
   "metadata": {
    "slideshow": {
     "slide_type": "skip"
    }
   },
   "source": [
    "Hier sieht man die Datenbank die Integrität der Daten absichert und uns vor der Eingabe falscher Daten abhält.\n",
    "\n",
    "Allerdings ist unser Polygon noch nicht fertig definiert und wir müssen noch die dem Polygon zugehörigen Punkte verknüpfen. Dies machen wir durch drei Eintragungen in der Tabelle `PolygonPoints` unter Angabe der neuen Primärschlüssel (331, 332, 333), des Fremdschlüssel für das Polygon 33 und der Fremdschlüssel für die drei Punkte (1,2,3)."
   ]
  },
  {
   "cell_type": "code",
   "execution_count": null,
   "metadata": {
    "slideshow": {
     "slide_type": "skip"
    }
   },
   "outputs": [],
   "source": [
    "sql=\"\"\"INSERT INTO PolygonPoints VALUES(331, 33, 1);\n",
    "INSERT INTO PolygonPoints VALUES(332, 33, 2);\n",
    "INSERT INTO PolygonPoints VALUES(333, 33, 3);\n",
    "\"\"\"\n",
    "cur.executescript(sql)\n",
    "cur.lastrowid"
   ]
  },
  {
   "attachments": {},
   "cell_type": "markdown",
   "metadata": {
    "slideshow": {
     "slide_type": "skip"
    }
   },
   "source": [
    "## Daten löschen"
   ]
  },
  {
   "attachments": {},
   "cell_type": "markdown",
   "metadata": {
    "slideshow": {
     "slide_type": "skip"
    }
   },
   "source": [
    "Um Einträge aus einer Tabelle zu löschen verwendet man in SQL den `DELETE FROM` Befehl mit der Tabelle und einer `WHERE`-Bedingung, welche angibt welche Einträge zu löschen sind. Wollen wir zum Beispiel die eben verknüpften Punkte aus der Tabelle `PolygonPoints` wieder löschen so können wir schreiben, dass wir alle Zeilen löschen, wo die refernzierte Polygon die `polygon_id` 33 hat."
   ]
  },
  {
   "cell_type": "code",
   "execution_count": null,
   "metadata": {
    "slideshow": {
     "slide_type": "skip"
    },
    "tags": []
   },
   "outputs": [],
   "source": [
    "sql=\"DELETE FROM PolygonPoints WHERE polygon_id=33;\"\n",
    "cur.execute(sql)\n",
    "cur.lastrowid # gibt uns die zuletzt gelöschte Zeile zurück"
   ]
  },
  {
   "attachments": {},
   "cell_type": "markdown",
   "metadata": {
    "slideshow": {
     "slide_type": "skip"
    }
   },
   "source": [
    "## Tabellen umbenennen und verändern"
   ]
  },
  {
   "attachments": {},
   "cell_type": "markdown",
   "metadata": {
    "slideshow": {
     "slide_type": "skip"
    }
   },
   "source": [
    "Machmal ist es notwendig Tabellen zu sichern oder SQL Abfragen mit SQL Select zu \"materialisieren\", also als neue Tabelle zu speichern. Dafür können wir den `CREATE TABLE ... AS` mit einem `SELECT` benutzen. Dies ist sinnvoll um zum Beispiel eine Kopie einer Tabelle zu erzeugen, bevor man z.B. Änderungen vornimmt. Man beachte"
   ]
  },
  {
   "cell_type": "code",
   "execution_count": null,
   "metadata": {
    "slideshow": {
     "slide_type": "skip"
    },
    "tags": [
     "remove-output"
    ]
   },
   "outputs": [],
   "source": [
    "sql=\"CREATE TABLE PointsCopy AS SELECT * FROM Points;\"\n",
    "cur.execute(sql)"
   ]
  },
  {
   "attachments": {},
   "cell_type": "markdown",
   "metadata": {
    "slideshow": {
     "slide_type": "skip"
    }
   },
   "source": [
    "Möchte man eine Tabelle umbennenen so nutzt man dafür den `ALTER TABLE ... RENAME` Befehl in SQL. Um die Tabelle `Points` nach `Punkte` umzubenennen, schreiben wir"
   ]
  },
  {
   "cell_type": "code",
   "execution_count": null,
   "metadata": {
    "slideshow": {
     "slide_type": "skip"
    },
    "tags": [
     "remove-output"
    ]
   },
   "outputs": [],
   "source": [
    "sql=\"ALTER TABLE Points RENAME TO Punkte;\"\n",
    "cur.execute(sql)"
   ]
  },
  {
   "attachments": {},
   "cell_type": "markdown",
   "metadata": {
    "slideshow": {
     "slide_type": "skip"
    }
   },
   "source": [
    "Auf ähnliche Weise können wir auch Spalten in Tabellen umbenennen oder neue Spalten hinzufügen. Wollen wir zum Beispiel beim Polygontypen eine neue Spalte hinzufügen, welche die maximale Anzahl an Punkten enthält so geschieht dies wie folgt:"
   ]
  },
  {
   "cell_type": "code",
   "execution_count": null,
   "metadata": {
    "slideshow": {
     "slide_type": "skip"
    },
    "tags": [
     "remove-output"
    ]
   },
   "outputs": [],
   "source": [
    "sql=\"ALTER TABLE PolygonTypes ADD COLUMN maxPoints INTEGER DEFAULT 0;\"\n",
    "cur.execute(sql)"
   ]
  },
  {
   "attachments": {},
   "cell_type": "markdown",
   "metadata": {
    "slideshow": {
     "slide_type": "skip"
    }
   },
   "source": [
    "Es ist zu beachten, dass dies die Spalte zwar anlegt aber keine Werte schreibt. Deshalb weisen wir hier der Spalten den Standartwert 0 mit `DEFAULT 0` zu."
   ]
  },
  {
   "attachments": {},
   "cell_type": "markdown",
   "metadata": {
    "slideshow": {
     "slide_type": "skip"
    }
   },
   "source": [
    "## Tabellen löschen"
   ]
  },
  {
   "attachments": {},
   "cell_type": "markdown",
   "metadata": {
    "slideshow": {
     "slide_type": "skip"
    }
   },
   "source": [
    "SQL bietet natürlich auch einen Befehl um Tabellen vollständig zu löschen. Möchte man nur alle Daten aus einer Tabelle löschen aber die Definition der Tabelle behalten (wenn man zum Beispiel die Daten austauscht), so kann man den `DELETE FROM` ohne `WHERE`-Bedingung nutzen. Dies nennt man auch Truncating einer Tabelle."
   ]
  },
  {
   "cell_type": "code",
   "execution_count": null,
   "metadata": {
    "slideshow": {
     "slide_type": "skip"
    },
    "tags": []
   },
   "outputs": [],
   "source": [
    "sql=\"DELETE FROM PointsCopy;\"\n",
    "cur.execute(sql)"
   ]
  },
  {
   "attachments": {},
   "cell_type": "markdown",
   "metadata": {
    "slideshow": {
     "slide_type": "skip"
    }
   },
   "source": [
    "Möchte man eine Tabelle vollständig löschen so nutzt man den `DROP TABLE` Befehl. Hier nutzen wir den optionalen Zusatz `IF EXISTS` um sicherzustellen, das die Tabelle nur gelöscht wird, wenn sie existiert."
   ]
  },
  {
   "cell_type": "code",
   "execution_count": null,
   "metadata": {
    "slideshow": {
     "slide_type": "skip"
    }
   },
   "outputs": [],
   "source": [
    "sql='''\n",
    "DROP TABLE IF EXISTS PointsCopy;\n",
    "DROP TABLE IF EXISTS Punkte;\n",
    "DROP TABLE IF EXISTS Lines;\n",
    "DROP TABLE IF EXISTS PolygonTypes;\n",
    "DROP TABLE IF EXISTS Polygons;\n",
    "DROP TABLE IF EXISTS PolygonPoints;\n",
    "'''"
   ]
  },
  {
   "cell_type": "code",
   "execution_count": null,
   "metadata": {
    "slideshow": {
     "slide_type": "skip"
    },
    "tags": [
     "remove-output"
    ]
   },
   "outputs": [],
   "source": [
    "cur.executescript(sql)"
   ]
  },
  {
   "attachments": {},
   "cell_type": "markdown",
   "metadata": {
    "slideshow": {
     "slide_type": "skip"
    }
   },
   "source": [
    "Damit haben wir die Exkursion in SQL zum Umgang mit Datenbanken abgeschlossen. Zuletzt müssen wir die Verbindung zur Datenbank noch mit `close()` schließen."
   ]
  },
  {
   "cell_type": "code",
   "execution_count": null,
   "metadata": {
    "slideshow": {
     "slide_type": "skip"
    }
   },
   "outputs": [],
   "source": [
    "cur.close()\n",
    "con.close()"
   ]
  },
  {
   "attachments": {},
   "cell_type": "markdown",
   "metadata": {
    "editable": true,
    "slideshow": {
     "slide_type": "skip"
    },
    "tags": []
   },
   "source": [
    "## Anmerkung zu Tabellen in SQLite speichern mit Pandas\n",
    "\n",
    ":::{note}\n",
    "In der letzten Übung haben wir Tabellen direkt mit Pandas in SQLite erzeugt. Das ist durchaus sinnvoll, wenn man größere Datensätze mal schnell sicher in einer Datenbank speichern möchte. Es ist aber darauf hinzuweisen, dass die von Pandas erzeugten Tabellen keine Relationen mit Fremdschlüssel, Constraints (z.B. NotNull) oder Suchindizies definieren. Die resultierenden Tabellen sind also keinesfalls 3NF-Konform und optimiert für die Abfrage und das speichern großer Datenmengen in praktischen Anwendungen. Hier ist immer zu empfehlen einen richtigen ER-Entwurf zu machen. Die Tabellen mit `CREATE` mit allen Relationen, Constraints und Indizies zu erzeugen und dann erst mit Pandas Daten in die bestehenden Tabellen zu laden.\n",
    ":::"
   ]
  },
  {
   "cell_type": "markdown",
   "metadata": {
    "editable": true,
    "slideshow": {
     "slide_type": "slide"
    },
    "tags": [
     "remove-cell"
    ]
   },
   "source": [
    "## Tabellen mit SQL anlegen \n",
    "\n",
    "<script>setSectionBackground('#E2F0D9');</script>\n",
    "<div class=\"flex-row\">\n",
    "  <div class=\"col4 vcent\">\n",
    "\n",
    "  </div>\n",
    "  <div class=\"col6\"> \n",
    "    <figure class=\"mj-fig\">\n",
    "        <img src=\"images/11b_Datenbanken_SQL_Create/mj_babel2.png\" class=\"mj-fig-img\">\n",
    "        <figcaption class=\"mj-fig-cap\">\n",
    "            Midjourney: Construction plan of the tower of babel\n",
    "        </figcaption>\n",
    "    </figure>\n",
    "  </div>\n",
    "</div>"
   ]
  },
  {
   "cell_type": "markdown",
   "metadata": {
    "editable": true,
    "slideshow": {
     "slide_type": "subslide"
    },
    "tags": [
     "remove-cell"
    ]
   },
   "source": [
    "## Letzter Schritt: Implementierung des ER-Diagrammes\n",
    "\n",
    "Abbilden des ER-Modells auf SQL-Befehle zum Erzeugen der Tabellen\n",
    "\n",
    "- Erstellen der Tabellen\n",
    "- Für jedes Attribut jeder Relation einen sinnvollen Datentyp finden\n",
    "- Festlegen ob Attribute Nullbar oder Nicht Null sind\n",
    "- Festlegen des Primärschlüssel\n",
    "- Festlegen von Fremdschlüssel\n",
    "- Deklarieren zusätzlicher Suchindexe zur Performanceoptimierung\n",
    "- Definition von Zugriffsrechten\n",
    "\n",
    "Um die Tabelle zu erstellen, benötigt man den `CREATE TABLE SQL`-Befehl.\n",
    "\n",
    "*Dieser fügt noch keine Daten ein, sondern erstellt nur ein leeres Grundgerüst.*"
   ]
  },
  {
   "cell_type": "markdown",
   "metadata": {
    "editable": true,
    "slideshow": {
     "slide_type": "subslide"
    },
    "tags": [
     "remove-cell"
    ]
   },
   "source": [
    "## DDL - Data Definition Language\n",
    "\n",
    "Erlaubt Operationen auf den Definitionen von Datenstrukturen:\n",
    "\n",
    "<div class=\"flex-row\">\n",
    "  <div class=\"col1\">\n",
    "\n",
    "- `CREATE` – Tabellen erzeugen\n",
    "- `ALTER` – Tabellen verändern\n",
    "- `DROP` – Tabellen löschen\n",
    "- `TRUNC` – Daten aber nicht die Tabelle löschen\n",
    "\n",
    "  </div>\n",
    "  <div class=\"col1\"> \n",
    "\n",
    "Die möglichen Datenstrukturen sind dabei:\n",
    "\n",
    "- `TABLE` – Tabellen zum speichern von Daten\n",
    "- `VIEW` – Dynamisch generierte Ansichten auf Tabellen\n",
    "- `MATERIALIZED VIEW` – Tabellen die sich aus anderen Tabellen ableiten\n",
    "\n",
    "  </div>\n",
    "</div>\n"
   ]
  },
  {
   "cell_type": "markdown",
   "metadata": {
    "editable": true,
    "slideshow": {
     "slide_type": "slide"
    },
    "tags": [
     "remove-cell"
    ]
   },
   "source": [
    "## Tabellen erstellen in SQL\n",
    "\n",
    "```sql\n",
    "CREATE TABLE table_name (\n",
    "    attribute1_name attribute1_type attribute1_constraints,\n",
    "    attribute2_name attribute2_type attribute2_constraints,\n",
    "    …,\n",
    "    table_constraints\n",
    ")\n",
    "```"
   ]
  },
  {
   "cell_type": "markdown",
   "metadata": {
    "editable": true,
    "slideshow": {
     "slide_type": "subslide"
    },
    "tags": [
     "remove-cell"
    ]
   },
   "source": [
    "## Datentypen in SQLite vs. Python\n",
    "\n",
    "| SQLite | Python | Beschreibung |\n",
    "|-----|----|-----|\n",
    "| `Boolean (INTEGER)` | `bool` | Wahrheitswerte |\n",
    "| `INTEGER` | `int` | Ganzzahl |\n",
    "| `REAL` | `float` | Gleitkommazahl |\n",
    "| `NUMERIC` | - | Interpretiert beliebige Dateneingaben als Zahl |\n",
    "| `TEXT` | `str` | Text-String, gespeichert in UTF-8 oder UTF-16 |\n",
    "| `BLOB` | `bytes` | Beliebiger Block an Binärdaten |\n",
    "| `NULL` | `None` | Keine Daten |"
   ]
  },
  {
   "cell_type": "markdown",
   "metadata": {
    "editable": true,
    "slideshow": {
     "slide_type": "subslide"
    },
    "tags": [
     "remove-cell"
    ]
   },
   "source": [
    "## Beispiel: Tabellen erstellen in SQLite\n",
    "\n",
    "Für unser Geometriebeispiel ergeben sich folgende CREATE TABLE Statements:\n",
    "\n",
    "```sql\n",
    "CREATE TABLE Points (\n",
    "    point_id INTEGER,\n",
    "    x REAL,\n",
    "    y REAL\n",
    ");\n",
    "\n",
    "CREATE TABLE Lines (\n",
    "    lines_id INTEGER,\n",
    "    start INTEGER,\n",
    "    end INTEGER\n",
    ");\n",
    "```"
   ]
  },
  {
   "cell_type": "markdown",
   "metadata": {
    "editable": true,
    "slideshow": {
     "slide_type": "subslide"
    },
    "tags": [
     "remove-cell"
    ]
   },
   "source": [
    "## Schlüssel und Constraints in SQL\n",
    "\n",
    "- Primär- und Sekundärschlüssel werden meistens durch INTEGER-Spalten abgebildet.\n",
    "\n",
    "- Der Primärschlüssel jeder Relation muss speziell markiert werden durch den PRIMARY KEY Constraint.\n",
    "\n",
    "- Weitere Constraints die beim Einfügen neuer Daten eingehalten werden:\n",
    "\n",
    "- `NOT NULL` – Werte dürfen nicht null sein\n",
    "- `AUTOINCREMENT` – Numerische Primärschlüssel werden automatisch berechnet\n",
    "- `UNIQUE` – Werte müssen eindeutig sein, keine Dopplungen erlaubt\n",
    "- `CHECKED` – Zusätzliche logische Bedingung für neue Werte\n",
    "- `FOREIGN KEY` – Wert eines existierenden Fremdschlüssels"
   ]
  },
  {
   "cell_type": "markdown",
   "metadata": {
    "editable": true,
    "slideshow": {
     "slide_type": "subslide"
    },
    "tags": [
     "remove-cell"
    ]
   },
   "source": [
    "## Beispiel: Primärschlüssel, Fremdschlüssel und Constraints\n",
    "\n",
    "```sql\n",
    "CREATE TABLE Points (\n",
    "    point_id INTEGER PRIMARY KEY AUTOINCREMENT,\n",
    "    x REAL NOT NULL,\n",
    "    y REAL NOT NULL\n",
    ");\n",
    "\n",
    "CREATE TABLE Lines (\n",
    "    lines_id INTEGER PRIMARY KEY AUTOINCREMENT,\n",
    "    start INTEGER NOT NULL,\n",
    "    end INTEGER NOT NULL,\n",
    "    FOREIGN KEY(start) REFERENCES Points(point_id),\n",
    "    FOREIGN KEY(end) REFERENCES Points(point_id)\n",
    ");\n",
    "```"
   ]
  },
  {
   "cell_type": "markdown",
   "metadata": {
    "editable": true,
    "slideshow": {
     "slide_type": "slide"
    },
    "tags": [
     "remove-cell"
    ]
   },
   "source": [
    "## CREATE TABLE erweiterte Funktionen\n",
    "\n",
    "Zusätzliche Optionen:\n",
    "\n",
    "- `DEFAULT`: Standardwert für neue Elemente festlegen\n",
    "- `WITHOUT ROWID`: Tabellen die nicht durchnummeriert werden\n",
    "- `STRICT`: Tabelle forciert Datentypen strikt"
   ]
  },
  {
   "cell_type": "markdown",
   "metadata": {
    "editable": true,
    "slideshow": {
     "slide_type": "subslide"
    },
    "tags": [
     "remove-cell"
    ]
   },
   "source": [
    "## Daten zu Tabellen hinzufügen\n",
    "\n",
    "Daten werden in Tabellen mit dem SQL-Befehl `INSERT` hinzugefügt\n",
    "\n",
    "<div class=\"flex-row\">\n",
    "  <div class=\"col1\">\n",
    "\n",
    "Daten hinzufügen in der Reihenfolge der Spaltennamen:\n",
    "\n",
    "```sql\n",
    "INSERT INTO Points VALUES(1, 54.083336, 12.108811);\n",
    "INSERT INTO Points VALUES(2, 12.094167, 54.075211);\n",
    "INSERT INTO Lines VALUES(1, 1, 2);\n",
    "```\n",
    "\n",
    "  </div>\n",
    "  <div class=\"col1\"> \n",
    "\n",
    "oder mit expliziten Spaltennamen:\n",
    "\n",
    "```sql\n",
    "INSERT INTO Points(x, y) VALUES(54.083336, 12.108811);\n",
    "INSERT INTO Points(x, y) VALUES(12.094167, 54.075211);\n",
    "INSERT INTO Lines(start, end) VALUES(1, 2);\n",
    "```\n",
    "\n",
    "  </div>\n",
    "</div>\n"
   ]
  },
  {
   "cell_type": "markdown",
   "metadata": {
    "editable": true,
    "slideshow": {
     "slide_type": "subslide"
    },
    "tags": [
     "remove-cell"
    ]
   },
   "source": [
    "## Tabelle aus bestehenden Daten erstellen\n",
    "\n",
    "```sql\n",
    "CREATE TABLE tablename AS\n",
    "SELECT … FROM … WHERE …\n",
    "```\n",
    "\n",
    "Hat keinen Primärschlüssel, kann nur nachträglich definiert werden"
   ]
  },
  {
   "cell_type": "markdown",
   "metadata": {
    "editable": true,
    "slideshow": {
     "slide_type": "subslide"
    },
    "tags": [
     "remove-cell"
    ]
   },
   "source": [
    "## ALTER TABLE - Statement\n",
    "\n",
    "Ändern von Tabellen und Spaltennamen, Hinzufügen und Löschen von Spalten\n",
    "\n",
    "```sql\n",
    "ALTER TABLE tablename TO newtablename\n",
    "```\n",
    "\n",
    "<br/>\n",
    "Beispiel:\n",
    "```sql\n",
    "ALTER TABLE Points RENAME TO Punkte\n",
    "```"
   ]
  },
  {
   "cell_type": "markdown",
   "metadata": {
    "editable": true,
    "slideshow": {
     "slide_type": "subslide"
    },
    "tags": [
     "remove-cell"
    ]
   },
   "source": [
    "## ALTER TABLE - Beispiel\n",
    "\n",
    "Besitzer zu Kunde umbenennen, Spalte für Kontonummer hinzufügen\n",
    "\n",
    "```sql\n",
    "ALTER TABLE tablename ADD COLUMN column_name column_type\n",
    "```\n",
    "\n",
    "<br/>\n",
    "Beispiel:\n",
    "```sql\n",
    "ALTER TABLE PolygonType ADD COLUMN maxPoints INTEGER\n",
    "```"
   ]
  },
  {
   "cell_type": "markdown",
   "metadata": {
    "editable": true,
    "slideshow": {
     "slide_type": "subslide"
    },
    "tags": [
     "remove-cell"
    ]
   },
   "source": [
    "## DROP TABLE - Statement\n",
    "\n",
    "Das Löschen von kompletten Tabellen.\n",
    "\n",
    "```sql\n",
    "DROP TABLE tablename\n",
    "```\n",
    "\n",
    "<br/>\n",
    "Beispiel:\n",
    "```sql\n",
    "DROP TABLE Points\n",
    "```"
   ]
  },
  {
   "cell_type": "markdown",
   "metadata": {
    "editable": true,
    "slideshow": {
     "slide_type": "skip"
    },
    "tags": []
   },
   "source": [
    "## Quiz\n",
    "\n",
    "\n",
    "```{quizdown}\n",
    "    ---\n",
    "    shuffleQuestions: true\n",
    "    shuffleAnswers: true\n",
    "    ---\n",
    "\n",
    "\n",
    "    ### Welche Schritte gehören zum klassischen Datenbankentwurf?\n",
    "\n",
    "    - [x] Anforderungsanalyse, Konzeptioneller Entwurf, Logischer Entwurf\n",
    "    - [ ] Nur Konzeptioneller und Physikalischer Entwurf\n",
    "    - [x] Physikalischer Entwurf, Implementation und Test\n",
    "    - [ ] Nur Implementation und Wartung\n",
    "\n",
    "\n",
    "    ### Was ist der Hauptunterschied zwischen konzeptionellem und logischem Entwurf?\n",
    "\n",
    "    - [x] Konzeptioneller Entwurf ist ein Grobentwurf, logischer ein Detailentwurf\n",
    "    - [ ] Konzeptioneller Entwurf verwendet SQL, logischer nicht\n",
    "    - [ ] Es gibt keinen Unterschied\n",
    "    - [ ] Logischer Entwurf kommt vor dem konzeptionellen\n",
    "\n",
    "\n",
    "    ### Sortiere die Schritte des Datenbankentwurfs in der richtigen Reihenfolge:\n",
    "\n",
    "    1. Anforderungsanalyse\n",
    "    2. Konzeptioneller Entwurf\n",
    "    3. Logischer Entwurf\n",
    "    4. Physikalischer Entwurf\n",
    "    5. Implementation und Test\n",
    "\n",
    "\n",
    "    ### Was kennzeichnet eine Entität in der UML-Notation für ER-Diagramme?\n",
    "\n",
    "    - [x] Die Anmerkung `<<Entity>>`\n",
    "    - [ ] Der Name `Entity`\n",
    "    - [ ] Die Anmerkung `<Table>`\n",
    "    - [ ] Das spezielles Symbol `ER`\n",
    "    - [ ] Keine besondere Kennzeichnung\n",
    "\n",
    "\n",
    "    ### Welche UML-Elemente werden in ER-Diagrammen NICHT verwendet?\n",
    "\n",
    "    - [x] Methoden und Vererbung\n",
    "    - [ ] Attribute und Klassen\n",
    "    - [x] Polymorphismus und Kapselung\n",
    "    - [ ] Assoziationen\n",
    "\n",
    "\n",
    "    ### Was bedeutet das Zeichen `>>` in einer Relation?\n",
    "\n",
    "    - [x] Die Relation wird von links nach rechts gelesen\n",
    "    - [ ] Die Relation ist bidirektional\n",
    "    - [ ] Es ist ein Fehler in der Notation\n",
    "    - [ ] Die Relation wird von rechts nach links gelesen\n",
    "\n",
    "\n",
    "    ### Was bedeutet die Kardinalität \"1 zu 0..*\"?\n",
    "\n",
    "    - [x] Eine Entität kann mit null bis vielen anderen verknüpft sein\n",
    "    - [ ] Eine Entität muss mit mindestens einer anderen verknüpft sein\n",
    "    - [ ] Genau eine Verknüpfung ist erlaubt\n",
    "    - [ ] Die Kardinalität ist ungültig\n",
    "\n",
    "\n",
    "    ### Bei welcher Kardinalität werden neue Tabellen für Relationen benötigt?\n",
    "\n",
    "    - [ ] 1 zu 1\n",
    "    - [ ] 1 zu 0..1\n",
    "    - [x] 1 zu 0..*\n",
    "    - [x] 1 zu 1..*\n",
    "\n",
    "\n",
    "    ### Welcher Fehler steckt in diesem ER-Diagramm-Fragment?\n",
    "    ```\n",
    "    Person >>wohnt in>> Ort\n",
    "    1                    1..*\n",
    "    ```\n",
    "\n",
    "    - [x] Die Leserichtung macht bei dieser Kardinalität keinen Sinn\n",
    "    - [ ] Personen können nicht in Orten wohnen\n",
    "    - [ ] Die Notation ist völlig falsch\n",
    "    - [ ] Es fehlen Attribute\n",
    "\n",
    "\n",
    "    ### Was ist das Ziel der Normalisierung?\n",
    "\n",
    "    - [x] Redundanzen minimieren\n",
    "    - [x] Datenintegrität sicherstellen\n",
    "    - [ ] Abfragen verlangsamen\n",
    "    - [ ] Mehr Tabellen erstellen\n",
    "\n",
    "\n",
    "    ### Was verlangt die 1. Normalform (1NF)?\n",
    "\n",
    "    - [x] Alle Attributwerte sind atomar\n",
    "    - [ ] Alle Attribute sind Primärschlüssel\n",
    "    - [x] Keine komplexen Attribute wie Listen\n",
    "    - [ ] Mindestens drei Tabellen\n",
    "\n",
    "\n",
    "    ### Welche Normalform wird verletzt, wenn Kundendaten direkt in der Rechnungstabelle gespeichert werden?\n",
    "\n",
    "    - [ ] 1NF\n",
    "    - [x] 2NF\n",
    "    - [ ] 3NF\n",
    "    - [ ] Keine Verletzung\n",
    "\n",
    "\n",
    "    ### Sortiere die Normalformen nach ihrer Strenge (von weniger zu mehr streng):\n",
    "\n",
    "    1. 1NF (Erste Normalform)\n",
    "    2. 2NF (Zweite Normalform) \n",
    "    3. 3NF (Dritte Normalform)\n",
    "    4. BCNF (Boyce-Codd-Normalform)\n",
    "\n",
    "\n",
    "    ### Welcher Fehler steckt in diesem Tabellenentwurf?\n",
    "    ```sql\n",
    "    CREATE TABLE Kunden (\n",
    "      id INTEGER,\n",
    "      name TEXT,\n",
    "      adressen LIST<TEXT>\n",
    "    )\n",
    "    ```\n",
    "\n",
    "    - [x] Das Attribut `adressen` verletzt die 1NF (nicht atomar)\n",
    "    - [ ] Der Datentyp INTEGER ist falsch\n",
    "    - [ ] Es fehlt ein Primärschlüssel\n",
    "    - [ ] Der Tabellenname ist ungültig\n",
    "\n",
    "\n",
    "    ### Wie wird eine 1:1-Relation in Tabellen abgebildet?\n",
    "\n",
    "    - [x] Durch Fremdschlüssel in einer der Tabellen\n",
    "    - [ ] Durch eine separate Relationstabelle\n",
    "    - [ ] Durch Duplizierung aller Attribute\n",
    "    - [ ] Gar nicht, da ungültig\n",
    "\n",
    "\n",
    "    ### Wann ist ein Fremdschlüssel \"Nullable\"?\n",
    "\n",
    "    - [x] Bei Kardinalität 1 zu 0..1\n",
    "    - [ ] Bei Kardinalität 1 zu 1\n",
    "    - [x] Wenn die Beziehung optional ist\n",
    "    - [ ] Niemals\n",
    "\n",
    "\n",
    "    ### Sortiere diese Schritte zur Normalisierung einer 1:n-Relation:\n",
    "\n",
    "    1. Neue Relationstabelle erstellen\n",
    "    2. Fremdschlüssel zu beiden ursprünglichen Tabellen hinzufügen\n",
    "    3. Primärschlüssel für die Relationstabelle definieren\n",
    "    4. Kardinalität überprüfen\n",
    "\n",
    "\n",
    "    ### Welcher SQL-Befehl erstellt eine neue Tabelle?\n",
    "\n",
    "    - [x] CREATE TABLE\n",
    "    - [ ] INSERT TABLE\n",
    "    - [ ] NEW TABLE\n",
    "    - [ ] MAKE TABLE\n",
    "\n",
    "\n",
    "    ### Was bewirkt AUTOINCREMENT bei einem Primärschlüssel?\n",
    "\n",
    "    - [x] Automatische Zuweisung eindeutiger Werte\n",
    "    - [ ] Automatisches Löschen alter Einträge\n",
    "    - [x] Erleichtert das Einfügen neuer Datensätze\n",
    "    - [ ] Verhindert Datenänderungen\n",
    "\n",
    "\n",
    "    ### Welcher Fehler steckt in diesem SQL-Code?\n",
    "    ```sql\n",
    "    CREATE TABLE Points (\n",
    "      point_id INTEGER PRIMARY KEY,\n",
    "      x REAL NOT NULL,\n",
    "      y REAL NOT NULL,\n",
    "      FOREIGN KEY(x) REFERENCES Lines(line_id)\n",
    "    )\n",
    "    ```\n",
    "\n",
    "    - [x] Ein Attribut (x) kann nicht gleichzeitig Koordinate und Fremdschlüssel sein\n",
    "    - [ ] REAL ist kein gültiger Datentyp\n",
    "    - [ ] PRIMARY KEY ist falsch geschrieben\n",
    "    - [ ] NOT NULL ist überflüssig\n",
    "\n",
    "\n",
    "    ### Sortiere diese SQL-Befehle in der logischen Reihenfolge für das Erstellen einer Datenbank:\n",
    "\n",
    "    1. CREATE TABLE für Hauptentitäten\n",
    "    2. CREATE TABLE für Fremdschlüssel-abhängige Tabellen  \n",
    "    3. INSERT Grunddaten\n",
    "    4. INSERT verknüpfte Daten\n",
    "\n",
    "\n",
    "    ### Mit welchem SQL-Befehl fügt man Daten hinzu?\n",
    "\n",
    "    - [x] INSERT INTO\n",
    "    - [ ] ADD DATA\n",
    "    - [ ] CREATE DATA\n",
    "    - [ ] PUT INTO\n",
    "\n",
    "\n",
    "    ### Was passiert bei diesem SQL-Befehl?\n",
    "    ```sql\n",
    "    DELETE FROM Points WHERE x > 50;\n",
    "    ```\n",
    "\n",
    "    - [x] Alle Punkte mit x-Koordinate > 50 werden gelöscht\n",
    "    - [ ] Die Tabelle Points wird gelöscht\n",
    "    - [ ] Nur der erste gefundene Punkt wird gelöscht\n",
    "    - [ ] Es ist ein Syntaxfehler\n",
    "\n",
    "\n",
    "    ### Welcher Fehler steckt in diesem INSERT-Statement?\n",
    "    ```sql\n",
    "    INSERT INTO Lines VALUES(1, 99, 100);\n",
    "    ```\n",
    "    *Angenommen, die Punkte mit ID 99 und 100 existieren nicht*\n",
    "\n",
    "    - [x] Fremdschlüssel-Constraint wird verletzt\n",
    "    - [ ] Zu viele Werte angegeben\n",
    "    - [ ] INTEGER ist kein gültiger Datentyp\n",
    "    - [ ] INSERT ist falsch geschrieben\n",
    "\n",
    "    ### Sortiere diese Schritte zum sicheren Löschen von Daten:\n",
    "\n",
    "    1. Backup der Tabelle erstellen\n",
    "    2. DELETE-Statement mit WHERE-Bedingung testen\n",
    "    3. Tatsächliches Löschen durchführen  \n",
    "    4. Ergebnis überprüfen\n",
    "\n",
    "    ### Mit welchem Befehl benennt man eine Tabelle um?\n",
    "\n",
    "    - [x] ALTER TABLE ... RENAME TO\n",
    "    - [ ] CHANGE TABLE NAME\n",
    "    - [ ] RENAME TABLE\n",
    "    - [ ] UPDATE TABLE NAME\n",
    "\n",
    "    ### Was ist der Unterschied zwischen DELETE FROM table und DROP TABLE?\n",
    "\n",
    "    - [x] DELETE löscht nur Daten, DROP löscht die ganze Tabelle\n",
    "    - [ ] Es gibt keinen Unterschied\n",
    "    - [x] DROP entfernt auch die Tabellenstruktur\n",
    "    - [ ] DELETE ist schneller\n",
    "\n",
    "    ### Welcher Fehler steckt in diesem ALTER-Statement?\n",
    "    ```sql\n",
    "    ALTER TABLE Points ADD COLUMN z REAL;\n",
    "    ```\n",
    "    *Angenommen, es gibt bereits Daten in der Tabelle*\n",
    "\n",
    "    - [ ] ADD COLUMN ist falsch\n",
    "    - [ ] REAL ist kein gültiger Datentyp  \n",
    "    - [x] Es fehlt ein DEFAULT-Wert für bestehende Zeilen\n",
    "    - [ ] Der Spaltenname z ist zu kurz\n",
    "\n",
    "    ### Sortiere diese Schritte zur sicheren Tabellenmodifikation:\n",
    "\n",
    "    1. Backup der Tabelle erstellen\n",
    "    2. ALTER-Statement planen\n",
    "    3. Änderung durchführen\n",
    "    4. Datenintegrität prüfen\n",
    "```"
   ]
  },
  {
   "cell_type": "markdown",
   "metadata": {
    "editable": true,
    "slideshow": {
     "slide_type": "slide"
    },
    "tags": [
     "remove-cell"
    ]
   },
   "source": [
    "<div class=\"vslide\">\n",
    "  <div class=\"vslide-title\">\n",
    "    <p style=\"font-family: Protomolecule; font-size: 2.3em; margin: 0px auto; text-align: center; width: 100%;\">fragen?</p>\n",
    "  </div>\n",
    "  <script>setSectionBackground('#000000', 'images/mj_questions.mp4');</script>\n",
    "</div>"
   ]
  }
 ],
 "metadata": {
  "kernelspec": {
   "display_name": "Python 3 (ipykernel)",
   "language": "python",
   "name": "python3"
  },
  "language_info": {
   "codemirror_mode": {
    "name": "ipython",
    "version": 3
   },
   "file_extension": ".py",
   "mimetype": "text/x-python",
   "name": "python",
   "nbconvert_exporter": "python",
   "pygments_lexer": "ipython3",
   "version": "3.12.10"
  },
  "rise": {
   "auto_select": "none",
   "center": false,
   "enable_chalkboard": true,
   "header": "<img src=\"images/pd_logo.svg\" class=\"header_title_logo\"><img src=\"images/ai4sc_logo_v2.svg\" class=\"header_ai4sc_logo\">",
   "scroll": true,
   "show_buttons_on_startup": false,
   "slideNumber": true,
   "theme": "white"
  },
  "vscode": {
   "interpreter": {
    "hash": "c6f6ea9c9385f57658f4c302ffd3b717b6cd59b095fbd1c55795f0b67656eecd"
   }
  }
 },
 "nbformat": 4,
 "nbformat_minor": 4
}
