{
 "cells": [
  {
   "cell_type": "markdown",
   "id": "8043417e90d44dd6bc1e160f4e5fc70f",
   "metadata": {
    "slideshow": {
     "slide_type": "skip"
    },
    "tags": [
     "translated_en"
    ],
    "translation": {
     "lang": "de",
     "src_hash": "f3fb2d54a8bd21742eb4d794ad4199cdb8d14c3a5e9280aab0ef417039851e48",
     "updated_at_iso": "2025-08-16T15:54:08.712889+00:00"
    }
   },
   "source": [
    "# Objects"
   ]
  },
  {
   "cell_type": "markdown",
   "id": "ac4d1850ee734d7d80805a86dc68179b",
   "metadata": {
    "slideshow": {
     "slide_type": "skip"
    },
    "tags": [
     "translated_en"
    ],
    "translation": {
     "lang": "de",
     "src_hash": "8064ba616120e65509eb0abc27f3f35aa0e6aad196d8f9101ddc3b4777cfef2a",
     "updated_at_iso": "2025-08-16T15:54:12.663203+00:00"
    }
   },
   "source": [
    "<figure class=\"mj-tile-band\">\n",
    "    <img src='images/04c_Objects/mj_title_band.jpg'>\n",
    "    <figcaption>Midjourney: Bauhaus line drawing</figcaption>\n",
    "</figure>\n",
    "\n",
    "> The best way to predict the future is to invent it — and then encapsulate it in objects.\n",
    ">\n",
    "> — Alan Kay"
   ]
  },
  {
   "cell_type": "markdown",
   "id": "5e2590665b7e422e90ad9871390c78d2",
   "metadata": {
    "slideshow": {
     "slide_type": "skip"
    },
    "tags": [
     "translated_en"
    ],
    "translation": {
     "lang": "de",
     "src_hash": "17e059679026c52dbe9b3621d0525e6b945d769eb8681dd45dfe92f6c5f57a17",
     "updated_at_iso": "2025-08-16T15:54:18.085996+00:00"
    }
   },
   "source": [
    "## <a href=\"/lec_slides/04c_Objects.slides.html\">Slides</a>/<a href=\"/pdf/slides/04c_Objects.pdf\">PDF</a>\n",
    "<iframe src=\"/lec_slides/04c_Objects.slides.html\" width=\"750\" height=\"500\"></iframe>"
   ]
  },
  {
   "cell_type": "markdown",
   "id": "62b6312e39804411a5598a6e7012fed8",
   "metadata": {
    "slideshow": {
     "slide_type": "skip"
    },
    "tags": [
     "translated_en"
    ],
    "translation": {
     "lang": "de",
     "src_hash": "efd80ab1e3d7ed88458a5eac69b7c38d86ec7268892a30f4604f3e0129e54f53",
     "updated_at_iso": "2025-08-16T15:54:30.375392+00:00"
    }
   },
   "source": [
    "Object-oriented programming (OOP) is a programming paradigm that assumes that a program consists exclusively of *Objects* that interact cooperatively with one another. Each object has *attributes* (properties) and *methods*. The attributes define the object's state by their values, while the methods define the possible state changes (actions) of an object.\n",
    "\n",
    "Object-oriented programming helps address some problems that arise when dealing with frequently recurring data structures in large programs."
   ]
  },
  {
   "cell_type": "markdown",
   "id": "12889a0981794745a0b619ba74aa39d6",
   "metadata": {
    "slideshow": {
     "slide_type": "skip"
    },
    "tags": [
     "translated_en"
    ],
    "translation": {
     "lang": "de",
     "src_hash": "0570fadd96628d704d0838e1b58ed9c081aa7ec5c99aab52ed3a3075d22962a3",
     "updated_at_iso": "2025-08-16T15:54:34.146025+00:00"
    }
   },
   "source": [
    "## Challenges with Highly Repetitive Data Structures"
   ]
  },
  {
   "cell_type": "markdown",
   "id": "9ce9b3857b984160bd36d7bbba98928b",
   "metadata": {
    "slideshow": {
     "slide_type": "skip"
    },
    "tags": [
     "translated_en"
    ],
    "translation": {
     "lang": "de",
     "src_hash": "4ec7e1e1bbc344606b5b3c288c5e02af050ccd1f15d16ea903935e7a6fd5e342",
     "updated_at_iso": "2025-08-16T15:54:37.022965+00:00"
    }
   },
   "source": [
    "### The syntactic problem"
   ]
  },
  {
   "cell_type": "markdown",
   "id": "643b027ae3e64fba94ad06c935686a6d",
   "metadata": {
    "slideshow": {
     "slide_type": "skip"
    },
    "tags": [
     "translated_en"
    ],
    "translation": {
     "lang": "de",
     "src_hash": "1c35bedb7095768b4ee42ffd5947d399fef6e191f456d4f27fa142747aa4cab6",
     "updated_at_iso": "2025-08-16T15:54:46.465063+00:00"
    }
   },
   "source": [
    "Objects are used to specify how highly repetitive data structures are stored. The point here is that the syntax of the data structure is unambiguous.\n",
    "\n",
    "As the program grows, so does the number of variables and data structures\n",
    "- for storing data\n",
    "- for controlling the program flow\n",
    "- for saving states\n",
    "- for processing input and output\n",
    "\n",
    "The underlying elements are usually based on repetitive data structures. For example, when analyzing blueprints or maps, one handles many point coordinates. However, a coordinate can be expressed differently, for example as a tuple or as a list."
   ]
  },
  {
   "cell_type": "code",
   "execution_count": null,
   "id": "1dc4a01d12804bbba079354470826e5e",
   "metadata": {
    "slideshow": {
     "slide_type": "skip"
    },
    "tags": [
     "translated_en"
    ],
    "translation": {
     "lang": "de",
     "src_hash": "71a279b8229f013c3cb165581b39e0156f28aa72d367e7d9fa9f2541cbecf6bb",
     "updated_at_iso": "2025-08-16T15:54:48.505705+00:00"
    }
   },
   "outputs": [],
   "source": [
    "point_1 = (54.083336, 12.108811)\n",
    "point_2 = [12.094167, 54.075211]"
   ]
  },
  {
   "cell_type": "markdown",
   "id": "0303fd0545b142f9920055287c890441",
   "metadata": {
    "slideshow": {
     "slide_type": "skip"
    },
    "tags": [
     "translated_en"
    ],
    "translation": {
     "lang": "de",
     "src_hash": "e7646531c06d21e91f27b82ca32bc0d77c5d858d41b6f73ca1b5d3d48b9c144d",
     "updated_at_iso": "2025-08-16T15:54:53.245269+00:00"
    }
   },
   "source": [
    "If you try to process these points, you may encounter problems because both have different data types. This is the syntactic problem when dealing with variables in large programs. Here, one wants to be able to define the syntax of the data structure."
   ]
  },
  {
   "cell_type": "markdown",
   "id": "dc45ac2ce45b4217b031b40e5c77807c",
   "metadata": {
    "slideshow": {
     "slide_type": "skip"
    },
    "tags": [
     "translated_en"
    ],
    "translation": {
     "lang": "de",
     "src_hash": "9166fcbc10eb1f3ea726a4d9db6c9fd93337e8796cc23a2a42c800ca7b817861",
     "updated_at_iso": "2025-08-16T15:54:55.591319+00:00"
    }
   },
   "source": [
    "### The semantic problem"
   ]
  },
  {
   "cell_type": "markdown",
   "id": "afdab379a83742169e031fa97e6a1164",
   "metadata": {
    "slideshow": {
     "slide_type": "skip"
    },
    "tags": [
     "translated_en"
    ],
    "translation": {
     "lang": "de",
     "src_hash": "588c16f69622ee5dfbb78609e0520cb50b0c5778749b782ce34e4d84b42fa46e",
     "updated_at_iso": "2025-08-16T15:55:01.481590+00:00"
    }
   },
   "source": [
    "Objects are also used to unambiguously define the semantics of values in a data structure.\n",
    "\n",
    "For example, if we agree that a point is represented syntactically by a tuple, the meaning of the values remains unknown."
   ]
  },
  {
   "cell_type": "code",
   "execution_count": null,
   "id": "1dee1b61485d4b718f632c994a942044",
   "metadata": {
    "slideshow": {
     "slide_type": "skip"
    },
    "tags": [
     "translated_en"
    ],
    "translation": {
     "lang": "de",
     "src_hash": "99aa8d93ae5fb30c8f13a9e025545e4a21e2181a41114401fca1216a319557f5",
     "updated_at_iso": "2025-08-16T15:55:04.471999+00:00"
    }
   },
   "outputs": [],
   "source": [
    "point_1 = (54.083336, 12.108811)\n",
    "point_2 = (12.094167, 54.075211)"
   ]
  },
  {
   "cell_type": "markdown",
   "id": "e2ae56632de34b85a269a135fff0121e",
   "metadata": {
    "slideshow": {
     "slide_type": "skip"
    },
    "tags": [
     "translated_en"
    ],
    "translation": {
     "lang": "de",
     "src_hash": "6a436c3131f18b5348bc4491da68464587222e85cd0cd9e7bbd5493566b5e916",
     "updated_at_iso": "2025-08-16T15:55:11.903229+00:00"
    }
   },
   "source": [
    "Another programmer may not understand the semantic meaning here. In this example, one might assume that the first value is the `x` coordinate and the second is the `y` coordinate. Maybe it’s the other way around. Perhaps it is not a Cartesian coordinate system, but a radial one. To eliminate such ambiguities, one would like to give the data structure a clear semantic definition, where it is unambiguous what the values mean."
   ]
  },
  {
   "cell_type": "markdown",
   "id": "8db9ced3f298414b8c61ee630faba17b",
   "metadata": {
    "slideshow": {
     "slide_type": "skip"
    },
    "tags": [
     "translated_en"
    ],
    "translation": {
     "lang": "de",
     "src_hash": "ae92b545fdf71eb9c5946bd49a20a9a746ecd244d56fb664aa8f0b4fb212d3ba",
     "updated_at_iso": "2025-08-16T15:55:14.784364+00:00"
    }
   },
   "source": [
    "### The Behavioral Problem"
   ]
  },
  {
   "cell_type": "markdown",
   "id": "a8b20ffbcc8a411eb22f5d6ffaba73b6",
   "metadata": {
    "slideshow": {
     "slide_type": "skip"
    },
    "tags": [
     "translated_en"
    ],
    "translation": {
     "lang": "de",
     "src_hash": "200e6eae965769ac5a23d357ee2875c87b58e3f4d6134ac51fa494f03ccf3a31",
     "updated_at_iso": "2025-08-16T15:55:21.471639+00:00"
    }
   },
   "source": [
    "Objects are also used to bundle the functions for processing the data structure directly with it, so that the data structure only exposes those functions that are meaningful to apply to it.\n",
    "\n",
    "For example, let's define a function to calculate the distance between two points:"
   ]
  },
  {
   "cell_type": "code",
   "execution_count": null,
   "id": "00fd6b0523b74033bd3355bb393f8b25",
   "metadata": {
    "editable": true,
    "slideshow": {
     "slide_type": "skip"
    },
    "tags": [
     "translated_en"
    ],
    "translation": {
     "lang": "de",
     "src_hash": "ec024a780b381761a176624c384e2f953f16b5e0e0d922260fa8b7adf1f33cb3",
     "updated_at_iso": "2025-08-16T15:55:23.636975+00:00"
    }
   },
   "outputs": [],
   "source": [
    "import math\n",
    "\n",
    "def distance(a, b):\n",
    "    return math.sqrt((a[0]-b[0])**2 + (a[1]-b[1])**2)"
   ]
  },
  {
   "cell_type": "markdown",
   "id": "8c771f1f10e4484e8d40bfc39f653867",
   "metadata": {
    "slideshow": {
     "slide_type": "skip"
    },
    "tags": [
     "translated_en"
    ],
    "translation": {
     "lang": "de",
     "src_hash": "e65316ed65b3b245d78796ab056bd2c1ea43874950aced5cc717b803b6b804f7",
     "updated_at_iso": "2025-08-16T15:55:32.426109+00:00"
    }
   },
   "source": [
    "This function can, due to Python's dynamic typing, also be applied to other data structures, e.g., to a Line. That leads to semantic or logical errors. To avoid this, one would have to define a different function for each variant, name it in a way that associates it with that variant, and perform many data-type checks. A simpler approach is to ensure that such a function is available only for the corresponding data structure."
   ]
  },
  {
   "cell_type": "markdown",
   "id": "21c224da98df430ca02b538d876b54d8",
   "metadata": {
    "slideshow": {
     "slide_type": "skip"
    },
    "tags": [
     "translated_en"
    ],
    "translation": {
     "lang": "de",
     "src_hash": "a01b4796acfb511d822d2ed13477aee4e7464e0be08cfaaa074cce693870c46e",
     "updated_at_iso": "2025-08-16T15:55:36.226896+00:00"
    }
   },
   "source": [
    "## Object-Oriented Programming"
   ]
  },
  {
   "cell_type": "markdown",
   "id": "ce21dc33a025415fb4e8ddbaf9143d38",
   "metadata": {
    "slideshow": {
     "slide_type": "skip"
    },
    "tags": [
     "translated_en"
    ],
    "translation": {
     "lang": "de",
     "src_hash": "ab41b11467566e4584168b60147260a67732496bd1182fc4d8d242766d2bbba0",
     "updated_at_iso": "2025-08-16T15:55:38.207410+00:00"
    }
   },
   "source": [
    "## Declaring Classes"
   ]
  },
  {
   "cell_type": "markdown",
   "id": "9197112a19724e14b125e76b4bec8186",
   "metadata": {
    "slideshow": {
     "slide_type": "skip"
    },
    "tags": [
     "translated_en"
    ],
    "translation": {
     "lang": "de",
     "src_hash": "109f5ee82c4a64e04be8cdea319815f52d682500d59b6dbed05ed7c625b61ed7",
     "updated_at_iso": "2025-08-16T15:55:46.885530+00:00"
    }
   },
   "source": [
    "Instead of using a tangle of scattered data structures and functions, we group them into objects.\n",
    "Since we want to standardize the data structures, the structure of these objects must be defined before they are used. This is done via *Classes*, which represent a blueprint for the objects standardized in this way. A class defines:\n",
    "\n",
    "- which attributes (properties) an object of this class has\n",
    "- and which methods (functions) an object of the class provides"
   ]
  },
  {
   "cell_type": "markdown",
   "id": "abe8a3d37e4b4fc48a57254d043596bc",
   "metadata": {
    "slideshow": {
     "slide_type": "skip"
    },
    "tags": [
     "translated_en"
    ],
    "translation": {
     "lang": "de",
     "src_hash": "989a2cf091aebacbdec967979ae0bbf3a5c3b8e7df788fef6b2a48f20cc1707f",
     "updated_at_iso": "2025-08-16T15:55:52.544453+00:00"
    }
   },
   "source": [
    "The first step toward creating an object is to define a new class for the object's type. This is done using the `class` keyword, followed by the class name. Thereafter, the contents are indented in the same way as the class definition. This defines which attributes and methods the class has."
   ]
  },
  {
   "cell_type": "code",
   "execution_count": null,
   "id": "a008910e99bc4259a85987b87663d8de",
   "metadata": {
    "slideshow": {
     "slide_type": "skip"
    },
    "tags": [
     "translated_en"
    ],
    "translation": {
     "lang": "de",
     "src_hash": "23bea9c22885161ff0bad7ba87315bcd4e584e0555be8186c849505b5d4ba5d5",
     "updated_at_iso": "2025-08-16T15:55:54.557541+00:00"
    }
   },
   "outputs": [],
   "source": [
    "class ClassName:\n",
    "    # Class definition\n",
    "    pass"
   ]
  },
  {
   "cell_type": "markdown",
   "id": "0c3f14dc006f4ab7abe0b0272d49741e",
   "metadata": {
    "slideshow": {
     "slide_type": "skip"
    },
    "tags": [
     "translated_en"
    ],
    "translation": {
     "lang": "de",
     "src_hash": "f4e4d03cae1b9ad365f8a5039d647cbfe01792fb2ba2154309abd29b350df286",
     "updated_at_iso": "2025-08-16T15:55:56.184997+00:00"
    }
   },
   "source": [
    "### Constructor"
   ]
  },
  {
   "cell_type": "markdown",
   "id": "e1192270149a48d7adb685037fc87871",
   "metadata": {
    "slideshow": {
     "slide_type": "skip"
    },
    "tags": [
     "translated_en"
    ],
    "translation": {
     "lang": "de",
     "src_hash": "bc9c3dad378df48d92fc8d2dde850862deccfc26adc18094457fe2725d598c62",
     "updated_at_iso": "2025-08-16T15:56:02.136282+00:00"
    }
   },
   "source": [
    "One of the most important methods of a class is the constructor `__init__()`. This is a special method that determines how a new instance of the class can be created. It is used to assign initial values to attributes as well as to perform initialization steps (tests, calculations, configuration, etc.).\n",
    "\n",
    "Every class must have exactly one constructor. If this is not defined, Python creates an empty constructor that does nothing, as in the following example."
   ]
  },
  {
   "cell_type": "code",
   "execution_count": null,
   "id": "33e76a7aa7204403871c0980a9ee7d65",
   "metadata": {
    "slideshow": {
     "slide_type": "skip"
    },
    "tags": [
     "translated_en"
    ],
    "translation": {
     "lang": "de",
     "src_hash": "a104662b0c8389fa431c1e04d24f545c0dab677e3e2f1238ccb313eebaf547cd",
     "updated_at_iso": "2025-08-16T15:56:06.795839+00:00"
    }
   },
   "outputs": [],
   "source": [
    "class ClassName:\n",
    "    # Empty constructor\n",
    "    def __init__(self):\n",
    "        pass"
   ]
  },
  {
   "cell_type": "markdown",
   "id": "9080683194ac47ae97227049ad2a48d7",
   "metadata": {
    "slideshow": {
     "slide_type": "skip"
    },
    "tags": [
     "translated_en"
    ],
    "translation": {
     "lang": "de",
     "src_hash": "cda58d777fb5411cc1d91370f76f8934ba2c567998977ca4a30b4c2daef1011c",
     "updated_at_iso": "2025-08-16T15:56:12.036111+00:00"
    }
   },
   "source": [
    "### Instance Attributes"
   ]
  },
  {
   "cell_type": "markdown",
   "id": "de56229eb2c04d0eb6da73d3e0110b14",
   "metadata": {
    "slideshow": {
     "slide_type": "skip"
    },
    "tags": [
     "translated_en"
    ],
    "translation": {
     "lang": "de",
     "src_hash": "52062c85c60520905ab7fa725bb6816addc757ab8b3893162a582fb46fe43476",
     "updated_at_iso": "2025-08-16T15:56:20.761469+00:00"
    }
   },
   "source": [
    "The constructor is defined as a function `__init__(self)` with the parameter `self`. `self` is, in this context, a self-reference to the new instance of the class. It serves to allow instance attributes to be assigned directly when creating the instance. *Instance attributes* are attributes that can differ in each instance, i.e., when there are individual values of the property.\n",
    "\n",
    "For example, let's define the class of a point with `x` and `y` coordinates. Since every instance must have these two coordinates and they can also be different for each instance, we assign them as instance attributes already in the constructor. This establishes that every instance of the class has these attributes."
   ]
  },
  {
   "cell_type": "code",
   "execution_count": null,
   "id": "e43d34cd09ab404ba43c03be4fc7af01",
   "metadata": {
    "slideshow": {
     "slide_type": "skip"
    },
    "tags": [
     "translated_en"
    ],
    "translation": {
     "lang": "de",
     "src_hash": "7ce65cc6155da726368ab49bd9baacb5dfa7ed3508f383c308b0d2d0b405ded4",
     "updated_at_iso": "2025-08-16T15:56:24.413155+00:00"
    }
   },
   "outputs": [],
   "source": [
    "class Point:\n",
    "    # Constructor\n",
    "    def __init__(self, x, y):\n",
    "        self.x = x\n",
    "        self.y = y"
   ]
  },
  {
   "cell_type": "markdown",
   "id": "43037542710a45108f3c371971d4a17f",
   "metadata": {
    "slideshow": {
     "slide_type": "skip"
    },
    "tags": [
     "translated_en"
    ],
    "translation": {
     "lang": "de",
     "src_hash": "e4573ef478580c5f4f2b7043ca3421b5e44d51df9a035e4affe4d00e75736596",
     "updated_at_iso": "2025-08-16T15:56:32.953081+00:00"
    }
   },
   "source": [
    "The assignment is performed here via dot notation, in which a dot separates the instance variable (`self`) from the attribute name `x`. `self.x` is thus a reference to the attribute `x` of the instance `self`. The assignment `self.x = x` means that we assign to the new instance attribute `x` of the instance `self` the value of the variable `x`. Although both share the same name, they are not the same variable, because `self.x` is an attribute of the instance and `x` is a parameter of the function and is only valid within this scope."
   ]
  },
  {
   "cell_type": "markdown",
   "id": "23ef12afcbdb48c2b50910c07d0b0250",
   "metadata": {
    "slideshow": {
     "slide_type": "skip"
    },
    "tags": [
     "translated_en"
    ],
    "translation": {
     "lang": "de",
     "src_hash": "29834700cc756a3c3c20c27da5f60b37cef97892a6a8752f6ea547a365452d6d",
     "updated_at_iso": "2025-08-16T15:56:38.276939+00:00"
    }
   },
   "source": [
    "Since `__init__()` is a function, albeit a special one, you can also define defaults. For example, should we define that `x` and `y` are initialized to 0 if they are not provided, so we can declare this as default values."
   ]
  },
  {
   "cell_type": "code",
   "execution_count": null,
   "id": "80a1ad1186ac429988e5999862f84d4b",
   "metadata": {
    "slideshow": {
     "slide_type": "skip"
    },
    "tags": [
     "translated_en"
    ],
    "translation": {
     "lang": "de",
     "src_hash": "23b6624eb0d5a7ec618f329f0de80d218005e44a2a06268e4d9755b85ba1ebf6",
     "updated_at_iso": "2025-08-16T15:56:41.457422+00:00"
    }
   },
   "outputs": [],
   "source": [
    "class Point:\n",
    "    # Constructor\n",
    "    def __init__(self, x = 0.0, y = 0.0):\n",
    "        self.x = x\n",
    "        self.y = y"
   ]
  },
  {
   "cell_type": "markdown",
   "id": "22de5e972c874289a5dfa40efd737285",
   "metadata": {
    "slideshow": {
     "slide_type": "skip"
    },
    "tags": [
     "translated_en"
    ],
    "translation": {
     "lang": "de",
     "src_hash": "1663561822868990eda83956f1106cd0d9c2f5f13a7a76afe04e276eee452de6",
     "updated_at_iso": "2025-08-16T15:56:44.557030+00:00"
    }
   },
   "source": [
    "### Class attributes"
   ]
  },
  {
   "cell_type": "markdown",
   "id": "650d2004748b4393aadc67055354ee4a",
   "metadata": {
    "slideshow": {
     "slide_type": "skip"
    },
    "tags": [
     "translated_en"
    ],
    "translation": {
     "lang": "de",
     "src_hash": "1e6fc17ec75b5a9ff0b7c7a632b00b42b048ed5d0972e331b310af7ed342b3f7",
     "updated_at_iso": "2025-08-16T15:57:48.673418+00:00"
    }
   },
   "source": [
    "Besides instance attributes, there are also *class attributes*. These are attributes that should have the same value for all instances of a class."
   ]
  },
  {
   "cell_type": "code",
   "execution_count": null,
   "id": "601422ae9e5d4e16bea129c9e87b02dd",
   "metadata": {
    "slideshow": {
     "slide_type": "skip"
    },
    "tags": [
     "translated_en"
    ],
    "translation": {
     "lang": "de",
     "src_hash": "80d55bb2fb7c5dba6585250a87bec1f4481dd9e409177f39d4329281e3ac27a8",
     "updated_at_iso": "2025-08-16T15:57:52.835777+00:00"
    }
   },
   "outputs": [],
   "source": [
    "class Point:\n",
    "    # Attribute of all instances\n",
    "    unit = \"m\""
   ]
  },
  {
   "cell_type": "markdown",
   "id": "5bbd3d6c8d7f49a8a7f7727d10ea9377",
   "metadata": {
    "slideshow": {
     "slide_type": "skip"
    },
    "tags": [
     "translated_en"
    ],
    "translation": {
     "lang": "de",
     "src_hash": "cd1d817a7e26f499abd1485d3cbd6f58de0b201c03782cd59a637d82612a1d7e",
     "updated_at_iso": "2025-08-16T15:58:00.086204+00:00"
    }
   },
   "source": [
    ":::{warning}\n",
    "*Class attributes* apply to all instances. In particular, with composite data types, this means that if one instance changes the value, the value changes in all other instances as well.\n",
    ":::"
   ]
  },
  {
   "cell_type": "markdown",
   "id": "5ec6cb7661df4aeebdc73748a959f2e9",
   "metadata": {
    "slideshow": {
     "slide_type": "skip"
    },
    "tags": [
     "translated_en"
    ],
    "translation": {
     "lang": "de",
     "src_hash": "81bd117273b689e63c849cc72df96a1d8e33f0abad72d4e590b6ba0867c188c8",
     "updated_at_iso": "2025-08-16T15:58:01.896522+00:00"
    }
   },
   "source": [
    "### Methods"
   ]
  },
  {
   "cell_type": "markdown",
   "id": "18bcef04770343d98b168f6ac931a3ae",
   "metadata": {
    "slideshow": {
     "slide_type": "skip"
    },
    "tags": [
     "translated_en"
    ],
    "translation": {
     "lang": "de",
     "src_hash": "c72537d8590c41c0fe037f2e2639cb7fe4f945ac983f1127d2c5d2f0599d0edf",
     "updated_at_iso": "2025-08-16T15:58:12.642718+00:00"
    }
   },
   "source": [
    "Classes often also define their own methods, i.e., functions that are intended to be applied specifically to instances of this class and not to other objects.\n",
    "\n",
    "Methods are declared as functions within the indentation of the class definition. These methods are then available in all instances. Methods always have `self` as their first parameter. Here too, this is a reference to the current instance. This allows you to access the attributes or other methods.\n",
    "\n",
    "For example, we can define the am Anfang definierte `distance`-Funktion as a method, so that it now computes the distance between two points `self` and `other`."
   ]
  },
  {
   "cell_type": "code",
   "execution_count": null,
   "id": "7002cc15b0554c2a872e7a9e81221102",
   "metadata": {
    "editable": true,
    "slideshow": {
     "slide_type": "skip"
    },
    "tags": [
     "translated_en"
    ],
    "translation": {
     "lang": "de",
     "src_hash": "acf2a8215c676b14d4db20970cb5890813421db75bdb47c9a835bf5a7fb15505",
     "updated_at_iso": "2025-08-16T15:58:22.059837+00:00"
    }
   },
   "outputs": [],
   "source": [
    "class Point:\n",
    "    # Class attribute\n",
    "    unit = \"m\"\n",
    "    \n",
    "    # Constructor\n",
    "    def __init__(self, x, y):\n",
    "        self.x = x\n",
    "        self.y = y\n",
    "\n",
    "    # Instance method\n",
    "    def distance(self, other):\n",
    "        return math.sqrt((self.x - other.x)**2 + (self.y - other.y)**2)"
   ]
  },
  {
   "cell_type": "markdown",
   "id": "ca861781459d49af8780f70b28988303",
   "metadata": {
    "slideshow": {
     "slide_type": "skip"
    },
    "tags": [
     "translated_en"
    ],
    "translation": {
     "lang": "de",
     "src_hash": "94bc2b6c53d69ce95aaf17eebabc66bf915cee78a23763b40facd4485b2d37f9",
     "updated_at_iso": "2025-08-16T15:58:24.247987+00:00"
    }
   },
   "source": [
    "## Class Instances"
   ]
  },
  {
   "cell_type": "markdown",
   "id": "2a446b85883847af9289bfb4f5e4b6f6",
   "metadata": {
    "slideshow": {
     "slide_type": "skip"
    },
    "tags": [
     "translated_en"
    ],
    "translation": {
     "lang": "de",
     "src_hash": "c32f9759c37152ccf47770e383e61a808bef9bac6f727000d700fbd7357ef5f2",
     "updated_at_iso": "2025-08-16T15:58:35.819259+00:00"
    }
   },
   "source": [
    "Objects themselves are always instances of a class (the class is just a blueprint). A class can have any number of instances, or none at all. All instances have the same structure, but they don’t necessarily have the same values in their attributes.\n",
    "\n",
    "With the new class `Point`, we can now define the points at the outset syntactically, semantically, and in their behavior in a clear way. We create instances of the class not directly with the constructor but by calling the class name as a function, with the parameters of the constructor. The `self` parameter is omitted (it is assigned by Python).\n",
    "\n",
    "We can also name the parameters and thus avoid semantic ambiguities."
   ]
  },
  {
   "cell_type": "code",
   "execution_count": null,
   "id": "b31b608c91fc40f18675ed2b1cb9976f",
   "metadata": {
    "slideshow": {
     "slide_type": "skip"
    },
    "tags": [
     "translated_en"
    ],
    "translation": {
     "lang": "de",
     "src_hash": "a9a60eb213e1c35170bc49867ed9603b838de8a12a32bddb5c05b848e05f62ef",
     "updated_at_iso": "2025-08-16T15:58:40.836185+00:00"
    }
   },
   "outputs": [],
   "source": [
    "point_1 = Point(x=54.083336, y=12.108811)\n",
    "point_2 = Point(y=12.094167, x=54.075211) # With named parameters, we can change the order"
   ]
  },
  {
   "cell_type": "markdown",
   "id": "c70e1125bda0440189421a27836724dc",
   "metadata": {
    "slideshow": {
     "slide_type": "skip"
    },
    "tags": [
     "translated_en"
    ],
    "translation": {
     "lang": "de",
     "src_hash": "1f9950e2a991606917a0a1fdf48c77fd9b60d44b31d4bbcd853dba882518d7f6",
     "updated_at_iso": "2025-08-16T15:58:45.344862+00:00"
    }
   },
   "source": [
    "Also the values of the object are now semantically well-defined. We can access them using dot notation, where the object’s variable name is on the left and the attribute name on the right. To access the attribute `x`, we write"
   ]
  },
  {
   "cell_type": "code",
   "execution_count": null,
   "id": "c7acaeb893804ca381e94605c2496891",
   "metadata": {
    "slideshow": {
     "slide_type": "skip"
    },
    "tags": [
     "translated_en"
    ],
    "translation": {
     "lang": "de",
     "src_hash": "78e66fd007147077a6c318c1c2ce3b51fe7f04ba463f224b52dd89b940ee0162",
     "updated_at_iso": "2025-08-16T15:58:47.677185+00:00"
    }
   },
   "outputs": [],
   "source": [
    "point_1.x"
   ]
  },
  {
   "cell_type": "markdown",
   "id": "c98d64789431403193a12f3651956a95",
   "metadata": {
    "slideshow": {
     "slide_type": "skip"
    },
    "tags": [
     "translated_en"
    ],
    "translation": {
     "lang": "de",
     "src_hash": "732a2903c9abf1009732fbdc15f586fe2a0c09e4a1bc7fec0da0cf4cb4164083",
     "updated_at_iso": "2025-08-16T15:58:54.002911+00:00"
    }
   },
   "source": [
    "That also works for class attributes. In all its glory, we can then write, e.g.,"
   ]
  },
  {
   "cell_type": "code",
   "execution_count": null,
   "id": "94a2d2cc437e4c17b138daff2377728d",
   "metadata": {
    "slideshow": {
     "slide_type": "skip"
    },
    "tags": [
     "translated_en"
    ],
    "translation": {
     "lang": "de",
     "src_hash": "22b5d6c03985acf32fd4f4f8afca3f6507dcb571735ca0f668da6dcfe4b057d8",
     "updated_at_iso": "2025-08-16T15:58:58.195099+00:00"
    }
   },
   "outputs": [],
   "source": [
    "print(f\"Der Punkt liegt bei x: {point_1.x} {point_1.unit}; y: {point_1.y} {point_1.unit}\")"
   ]
  },
  {
   "cell_type": "markdown",
   "id": "782e58af80ea4156924a5e711b1bf49f",
   "metadata": {
    "slideshow": {
     "slide_type": "skip"
    },
    "tags": [
     "translated_en"
    ],
    "translation": {
     "lang": "de",
     "src_hash": "ee53004568970b8132f648d441fa058ecbe1b49146307c953acfa98cab773da7",
     "updated_at_iso": "2025-08-16T15:59:00.905547+00:00"
    }
   },
   "source": [
    "Similarly, we can assign new values to the attributes."
   ]
  },
  {
   "cell_type": "code",
   "execution_count": null,
   "id": "d8ec622782f34d5e9e603ee4593037b2",
   "metadata": {
    "slideshow": {
     "slide_type": "skip"
    },
    "tags": [
     "translated_en"
    ],
    "translation": {
     "lang": "de",
     "src_hash": "4dab1f8a056f696558b7196644522d31356f2348e839ab8aa1545147a603c8a2",
     "updated_at_iso": "2025-08-16T15:59:04.626145+00:00"
    }
   },
   "outputs": [],
   "source": [
    "point_1.x = 54.08\n",
    "point_1.y = 12.11"
   ]
  },
  {
   "cell_type": "code",
   "execution_count": null,
   "id": "423044d5162141f38b9436a99a2bcf6a",
   "metadata": {
    "slideshow": {
     "slide_type": "skip"
    },
    "tags": [
     "translated_en"
    ],
    "translation": {
     "lang": "de",
     "src_hash": "22b5d6c03985acf32fd4f4f8afca3f6507dcb571735ca0f668da6dcfe4b057d8",
     "updated_at_iso": "2025-08-16T15:59:10.350402+00:00"
    }
   },
   "outputs": [],
   "source": [
    "print(f\"Der Punkt liegt bei x: {point_1.x} {point_1.unit}; y: {point_1.y} {point_1.unit}\")"
   ]
  },
  {
   "cell_type": "markdown",
   "id": "364ce9ffa7ae4f7bb28a9fbaa3adc670",
   "metadata": {
    "slideshow": {
     "slide_type": "skip"
    },
    "tags": [
     "translated_en"
    ],
    "translation": {
     "lang": "de",
     "src_hash": "98072fe5ac2238de39bacc7f426c5fa4bf399f1a596ab6bb0c9bfbad64a76bca",
     "updated_at_iso": "2025-08-16T15:59:14.322296+00:00"
    }
   },
   "source": [
    "With dot notation we can also call the methods. If we want to calculate the distance between `point_1` and `point_2`, we write"
   ]
  },
  {
   "cell_type": "code",
   "execution_count": null,
   "id": "cc8126e699c4460c81eabb9cd483f9d4",
   "metadata": {
    "slideshow": {
     "slide_type": "skip"
    },
    "tags": [
     "translated_en"
    ],
    "translation": {
     "lang": "de",
     "src_hash": "6ae4af4b320e830003a39d4d167d5b39ec0e2ac135920c5a02d6efff2563034f",
     "updated_at_iso": "2025-08-16T15:59:16.297221+00:00"
    }
   },
   "outputs": [],
   "source": [
    "point_1.distance(point_2)"
   ]
  },
  {
   "cell_type": "markdown",
   "id": "def7110c191849128922505fc864fe5d",
   "metadata": {
    "slideshow": {
     "slide_type": "skip"
    },
    "tags": [
     "translated_en"
    ],
    "translation": {
     "lang": "de",
     "src_hash": "c2f24812850ca907b95495bd9b8f3e0c41571c4d4a810afab9425b28c7c63e7a",
     "updated_at_iso": "2025-08-16T15:59:17.947865+00:00"
    }
   },
   "source": [
    "## References"
   ]
  },
  {
   "cell_type": "markdown",
   "id": "3c5b1ae2bea74f4e896f715628dc6e47",
   "metadata": {
    "slideshow": {
     "slide_type": "skip"
    },
    "tags": [
     "translated_en"
    ],
    "translation": {
     "lang": "de",
     "src_hash": "a5e4a84482013ab6441eccb64dec2232d175058396b75eaabe108f014b006057",
     "updated_at_iso": "2025-08-16T15:59:26.166266+00:00"
    }
   },
   "source": [
    "In programs, objects are usually related. For example, a line consists of two points. This relationship between two object classes is called a reference. This relationship between two object classes is called a reference."
   ]
  },
  {
   "cell_type": "markdown",
   "id": "cd2ce4084e9743758d9c74ff3e0141bb",
   "metadata": {
    "slideshow": {
     "slide_type": "skip"
    },
    "tags": [
     "translated_en"
    ],
    "translation": {
     "lang": "de",
     "src_hash": "3356621370207b13b48a6833440ae72758ce3ec1ecda6ec837139a8187c38f5f",
     "updated_at_iso": "2025-08-16T15:59:32.115135+00:00"
    }
   },
   "source": [
    "To create references in Python, you simply create an attribute of the other object's type. Thus a line can be defined as a connection between two points, with its length calculated by the previously defined method `distance`."
   ]
  },
  {
   "cell_type": "code",
   "execution_count": null,
   "id": "7adecde7c15d4d46bcd42af83cc161a4",
   "metadata": {
    "slideshow": {
     "slide_type": "skip"
    },
    "tags": [
     "translated_en"
    ],
    "translation": {
     "lang": "de",
     "src_hash": "1b416496c670bcb64689fc0b47abb70c81869e0d8ff7f3011b84d7627d8588de",
     "updated_at_iso": "2025-08-16T15:59:35.601836+00:00"
    }
   },
   "outputs": [],
   "source": [
    "class Line:\n",
    "    def __init__(self, start: Point, end: Point):\n",
    "        self.start = start\n",
    "        self.end = end\n",
    "\n",
    "    def length(self):\n",
    "        return self.start.distance(self.end)"
   ]
  },
  {
   "cell_type": "code",
   "execution_count": null,
   "id": "08e31c6c228f4dafbdfaf839e3c684e6",
   "metadata": {
    "slideshow": {
     "slide_type": "skip"
    },
    "tags": [
     "translated_en"
    ],
    "translation": {
     "lang": "de",
     "src_hash": "c850ea551495f98121b2ccd5056c5064fe0f9a1e0efb8deca58d0c6866f3a683",
     "updated_at_iso": "2025-08-16T15:59:38.221660+00:00"
    }
   },
   "outputs": [],
   "source": [
    "line_1 = Line(start=point_1, end=point_2)"
   ]
  },
  {
   "cell_type": "code",
   "execution_count": null,
   "id": "03de65d80d8448f097f9fbbf9c82bc12",
   "metadata": {
    "slideshow": {
     "slide_type": "skip"
    },
    "tags": [
     "translated_en"
    ],
    "translation": {
     "lang": "de",
     "src_hash": "2087658c68060e1fef4b339f6fa867a866f37b4c7e2fc7336443814196e50aa7",
     "updated_at_iso": "2025-08-16T15:59:41.953343+00:00"
    }
   },
   "outputs": [],
   "source": [
    "line_1.length()"
   ]
  },
  {
   "cell_type": "markdown",
   "id": "2cd8379b0fbf4c88979e72db43c8c2e4",
   "metadata": {
    "slideshow": {
     "slide_type": "skip"
    },
    "tags": [
     "translated_en"
    ],
    "translation": {
     "lang": "de",
     "src_hash": "6676716c62756606efd3da9ba5ce954ce9ccfff9d14054b526de582b72004158",
     "updated_at_iso": "2025-08-16T15:59:44.552610+00:00"
    }
   },
   "source": [
    "## Encapsulation of Attributes and Methods"
   ]
  },
  {
   "cell_type": "markdown",
   "id": "9b4fee80e8804dd5833151c10855a2ba",
   "metadata": {
    "slideshow": {
     "slide_type": "skip"
    },
    "tags": [
     "translated_en"
    ],
    "translation": {
     "lang": "de",
     "src_hash": "6dda50e484717e07463485ba8120ead7b5dc4b83f6f3f0b6bdf5c22dc1900484",
     "updated_at_iso": "2025-08-16T16:00:02.250360+00:00"
    }
   },
   "source": [
    "Often one wants in programming to have control over if and how attributes are changed and who may call which methods.\n",
    "\n",
    "For this, Python allows the distinction between *private*, *protected*, and *public* attributes and methods. If not otherwise specified, all attributes and methods are *public*. A *public* attribute or method is visible, readable, and modifiable outside the class. We used this above to read `point_1.x` and to assign a new value with `point_1.x = 54.08`. To make these attributes or methods inaccessible, we must declare them as *private* or *protected*, which means they are accessible only within the class (*private*) or within a subclass (*protected*) via `self`. To declare an attribute or method as private, we prefix the name with `__` at the beginning or `_` for protected.\n",
    "\n",
    "For example, we want to ensure that the position of the object `Point` cannot be changed after creation. Such an immutable object is called *immutable*. One reason for this could be that a change would create inconsistencies and potential errors. If we want, for instance, to construct a rectangle from the points, we must check in the Init function whether all edges are perpendicular. If the points were movable, with any change we would either have to re-check or we would simply prohibit the change.\n",
    "\n",
    "To ensure that no one can change the coordinates anymore, we must declare `x` and `y` as private by naming them `__x` and `__y`. But now no one outside the instance can read the values. To enable that, we define two public getter methods `get_x()` and `get_y()` that only return the value. If we should make the value mutable, we would also need to define setter methods that would set the values."
   ]
  },
  {
   "cell_type": "code",
   "execution_count": null,
   "id": "9f35f9131638472490f1c97557383d32",
   "metadata": {
    "editable": true,
    "slideshow": {
     "slide_type": "skip"
    },
    "tags": [
     "translated_en"
    ],
    "translation": {
     "lang": "de",
     "src_hash": "9457d40c3fe9be0f25a5ffb0b4540c7f936d6c26e614fe7038bb46c35535814d",
     "updated_at_iso": "2025-08-16T16:00:09.027124+00:00"
    }
   },
   "outputs": [],
   "source": [
    "class ImmutablePoint:\n",
    "    unit = \"m\"\n",
    "    \n",
    "    def __init__(self, x, y):\n",
    "        self.__x = x\n",
    "        self.__y = y\n",
    "\n",
    "    def distance(self, other):\n",
    "        return math.sqrt((self.__x - other.__x)**2 + (self.__y - other.__y)**2)\n",
    "\n",
    "    def get_x(self):\n",
    "        return self.__x\n",
    "\n",
    "    def get_y(self):\n",
    "        return self.__y"
   ]
  },
  {
   "cell_type": "markdown",
   "id": "7bfddf26c9144161971e768308baa1cc",
   "metadata": {
    "slideshow": {
     "slide_type": "skip"
    },
    "tags": [
     "translated_en"
    ],
    "translation": {
     "lang": "de",
     "src_hash": "06ab4f949d7386bf950a1103da3eaa18eed62586ecf1e6f5b231998fb74ed316",
     "updated_at_iso": "2025-08-16T16:00:13.658523+00:00"
    }
   },
   "source": [
    "Let's define our two instances again."
   ]
  },
  {
   "cell_type": "code",
   "execution_count": null,
   "id": "decd48dc7559435a83b9bf4cceb1e8f2",
   "metadata": {
    "slideshow": {
     "slide_type": "skip"
    },
    "tags": [
     "translated_en"
    ],
    "translation": {
     "lang": "de",
     "src_hash": "da9b3b92c1103399289f2d43a92529d73768a5f0c3c4db7a5500503d99e00830",
     "updated_at_iso": "2025-08-16T16:00:16.157121+00:00"
    }
   },
   "outputs": [],
   "source": [
    "point_1 = ImmutablePoint(54.083336, 12.108811)"
   ]
  },
  {
   "cell_type": "markdown",
   "id": "ff4bcb5f3689496295a18dec7be66043",
   "metadata": {
    "slideshow": {
     "slide_type": "skip"
    },
    "tags": [
     "translated_en"
    ],
    "translation": {
     "lang": "de",
     "src_hash": "9d4d4b763606d61d51b367452e4959207c75c8710bf92d628c262e7aafd2d60a",
     "updated_at_iso": "2025-08-16T16:00:20.954927+00:00"
    }
   },
   "source": [
    "and if we try to read the value `__x` or `__y`, we now get an error message."
   ]
  },
  {
   "cell_type": "code",
   "execution_count": null,
   "id": "1f76ca30a22348389a348b3366913e7d",
   "metadata": {
    "slideshow": {
     "slide_type": "skip"
    },
    "tags": [
     "raises-exception",
     "translated_en"
    ],
    "translation": {
     "lang": "de",
     "src_hash": "2d9c0382730c397ba9d34794f025c310c5e469c37f60277b04f64b035084dbb7",
     "updated_at_iso": "2025-08-16T16:00:27.292037+00:00"
    }
   },
   "outputs": [],
   "source": [
    "print(f\"Der Punkt liegt bei x: {point_1.__x} {point_1.unit}; y: {point_1.__y} {point_1.unit}\")"
   ]
  },
  {
   "cell_type": "markdown",
   "id": "46b622ca2b9e42feb906f032c6d15d57",
   "metadata": {
    "slideshow": {
     "slide_type": "skip"
    },
    "tags": [
     "translated_en"
    ],
    "translation": {
     "lang": "de",
     "src_hash": "934f686cae83b550197e14fd3010ff217c73aba0e64603d63b258f5ed5b27de0",
     "updated_at_iso": "2025-08-16T16:00:32.165315+00:00"
    }
   },
   "source": [
    "To read the values, we must use the getter method instead."
   ]
  },
  {
   "cell_type": "code",
   "execution_count": null,
   "id": "379feece9a0a4d3f8e5de075e628cbc0",
   "metadata": {
    "slideshow": {
     "slide_type": "skip"
    },
    "tags": [
     "translated_en"
    ],
    "translation": {
     "lang": "de",
     "src_hash": "f098e382036ce6abed3f249e9a6f9fc56ce128c6a557b9ea682f9f115156346d",
     "updated_at_iso": "2025-08-16T16:00:36.741602+00:00"
    }
   },
   "outputs": [],
   "source": [
    "print(f\"Der Punkt liegt bei x: {point_1.get_x()} {point_1.unit}; y: {point_1.get_y()} {point_1.unit}\")"
   ]
  },
  {
   "cell_type": "markdown",
   "id": "a1ad2100886549fea8ecbfa5c2afe5c1",
   "metadata": {
    "slideshow": {
     "slide_type": "skip"
    },
    "tags": [
     "translated_en"
    ],
    "translation": {
     "lang": "de",
     "src_hash": "1e6ef9e1de629d2ae43919729a643976545839aa72f2f72232abc14b3977ecb7",
     "updated_at_iso": "2025-08-16T16:00:39.427539+00:00"
    }
   },
   "source": [
    "We can't change the values either. We can try it, though:"
   ]
  },
  {
   "cell_type": "code",
   "execution_count": null,
   "id": "5aff39f607124092a20e66a28dd62361",
   "metadata": {
    "slideshow": {
     "slide_type": "skip"
    },
    "tags": [
     "translated_en"
    ],
    "translation": {
     "lang": "de",
     "src_hash": "4f8b51232562a11f19f63bd7ea6039654394de527eb913ddd9119afa570d1766",
     "updated_at_iso": "2025-08-16T16:00:42.853688+00:00"
    }
   },
   "outputs": [],
   "source": [
    "point_1.__x = 54.08\n",
    "point_1.__y = 12.11"
   ]
  },
  {
   "cell_type": "markdown",
   "id": "609729064d594706bbadcf291ef10a75",
   "metadata": {
    "slideshow": {
     "slide_type": "skip"
    },
    "tags": [
     "translated_en"
    ],
    "translation": {
     "lang": "de",
     "src_hash": "e2d5bbbb83f4f30b33ee4b976455a7929d05c3a628222d1d4480fe3f26db8d45",
     "updated_at_iso": "2025-08-16T16:00:45.253483+00:00"
    }
   },
   "source": [
    "But it has no effect."
   ]
  },
  {
   "cell_type": "code",
   "execution_count": null,
   "id": "3d417d0be7b946078e24b4c1885ae6cd",
   "metadata": {
    "slideshow": {
     "slide_type": "skip"
    },
    "tags": [
     "translated_en"
    ],
    "translation": {
     "lang": "de",
     "src_hash": "f098e382036ce6abed3f249e9a6f9fc56ce128c6a557b9ea682f9f115156346d",
     "updated_at_iso": "2025-08-16T16:00:49.962762+00:00"
    }
   },
   "outputs": [],
   "source": [
    "print(f\"Der Punkt liegt bei x: {point_1.get_x()} {point_1.unit}; y: {point_1.get_y()} {point_1.unit}\")"
   ]
  },
  {
   "cell_type": "markdown",
   "id": "4c5d466f78974d479b56ec966b59ce5f",
   "metadata": {
    "slideshow": {
     "slide_type": "skip"
    },
    "tags": [
     "translated_en"
    ],
    "translation": {
     "lang": "de",
     "src_hash": "688eecd568b3f2fe2824af02dfec7ccf1d35f7f9886dc5d4bfcfa01103aed035",
     "updated_at_iso": "2025-08-16T16:00:53.076232+00:00"
    }
   },
   "source": [
    "## Inheritance, Generalization, and Polymorphism"
   ]
  },
  {
   "cell_type": "markdown",
   "id": "2fa8287558ac42138e5940717d677893",
   "metadata": {
    "slideshow": {
     "slide_type": "skip"
    },
    "tags": [
     "translated_en"
    ],
    "translation": {
     "lang": "de",
     "src_hash": "b0df365d89de920df3f1dd7829fe1d33352c2b453291c2420942fbb26c5c7282",
     "updated_at_iso": "2025-08-16T16:01:04.923312+00:00"
    }
   },
   "source": [
    "Inheritance is one of the most important features of object-oriented programming. The goal of inheritance is to define attributes and methods that occur in many similar classes only once.\n",
    "\n",
    "For this, classes are divided into *superclasses* (parents) which pass down attributes and methods to *subclasses* (children). That means every subclass (child) possesses all attributes and methods of the superclass (parents), so we do not have to define them again. New attributes and methods defined for a subclass are, however, not transmitted to the parents or siblings. Therefore, in the context of the subclasses one speaks of a *specialization* and of the *generalization* for the superclasses, since they apply to multiple classes.\n",
    "\n",
    "For example, we note that various geometric objects such as triangles, quadrilaterals, pentagons, etc. all represent polygons, which consist of points connected by lines. Triangles, quadrilaterals, pentagons are here *specializations* of the class `Polygon`. So we first define the generic class `Polygon` which, as an instance attribute, accepts a `list` of more than 2 `ImmutablePoint` and stores it as a private attribute `__points`. We also define an optional attribute `name` which is public and mutable."
   ]
  },
  {
   "cell_type": "code",
   "execution_count": null,
   "id": "254943801d214689803fee41f5e4f206",
   "metadata": {
    "slideshow": {
     "slide_type": "skip"
    },
    "tags": [
     "translated_en"
    ],
    "translation": {
     "lang": "de",
     "src_hash": "b09d599fabe41d31449f465eb3f64832a2343442a02a0dccc863d305a89789aa",
     "updated_at_iso": "2025-08-16T16:01:17.227342+00:00"
    }
   },
   "outputs": [],
   "source": [
    "from typing import List\n",
    "\n",
    "class Polygon:\n",
    "    def __init__(self, points: List[Point], name=\"Polygon\"):\n",
    "        if not isinstance(points, list):\n",
    "            raise TypeError(\"points not of type list\")\n",
    "        if not len(points) > 2:\n",
    "            raise TypeError(\"points need to contain at least 2 Points\")\n",
    "        for point in points:\n",
    "            if not isinstance(point, ImmutablePoint):\n",
    "                raise TypeError(\"Point not of type ImmutablePoint\")\n",
    "        self.__points = points\n",
    "        self.name = name\n",
    "\n",
    "    def get_points(self):\n",
    "        return self.__points\n",
    "\n",
    "    # Area of the polygon according to the Gauss-Shoelace formula\n",
    "    def area(self):\n",
    "        n = len(self.__points) # of corners\n",
    "        area = 0.0\n",
    "        for i in range(n):\n",
    "            j = (i + 1) % n\n",
    "            area += self.__points[i].get_x() * self.__points[j].get_y()\n",
    "            area -= self.__points[j].get_x() * self.__points[i].get_y()\n",
    "        area = abs(area) / 2.0\n",
    "        return area\n",
    "\n",
    "    # Overridden standard method for generating a string\n",
    "    def __str__(self):\n",
    "        description = f\"{self.name} has an area of {self.area()} and is defined by\\n\" # \\\\n is a line break\n",
    "        for i,point in enumerate(self.__points):\n",
    "            description += f\"  Point {i} at x: {point.get_x()} {point.unit}; y: {point.get_y()} {point.unit}\\n\"\n",
    "        return description"
   ]
  },
  {
   "cell_type": "markdown",
   "id": "906d63d5f6b64d08a019a12ba8be19e4",
   "metadata": {
    "slideshow": {
     "slide_type": "skip"
    },
    "tags": [
     "translated_en"
    ],
    "translation": {
     "lang": "de",
     "src_hash": "056fa9323d3153975d5a315125b70eb051e1e742d7b4a62c6eb672ba3ef293e3",
     "updated_at_iso": "2025-08-16T16:01:25.240471+00:00"
    }
   },
   "source": [
    "Here, we also override the standard method `__str__(self)` of an object, which is always called when the object is converted to a string. The function is also used by the `print()` statement, which is why we can make it more readable. This ability to override methods is called *polymorphism* or also *method overloading* (Overloading). With this, we have learned all the programming paradigms of object-oriented programming."
   ]
  },
  {
   "cell_type": "markdown",
   "id": "a3c5357e8bb34e5ead746568589cd498",
   "metadata": {
    "slideshow": {
     "slide_type": "skip"
    },
    "tags": [
     "translated_en"
    ],
    "translation": {
     "lang": "de",
     "src_hash": "af185a3e4cd8cc7cbe5d95fa5c62b79149554c2d466a4947af91e29667d61f29",
     "updated_at_iso": "2025-08-16T16:01:33.836353+00:00"
    }
   },
   "source": [
    "| Inheritance | Generalization | Polymorphism | Encapsulation |\n",
    "|--|--|--|--|\n",
    "| Attributes and methods from parent classes are inherited by child classes. This helps avoid redundancies and errors. | Commonalities are implemented in generalized parent classes. | Child classes can override methods and thus redefine them. | Encapsulation of data and methods in objects is a protective mechanism to restrict improper changes. |"
   ]
  },
  {
   "cell_type": "markdown",
   "id": "70bc971da9434b29b2795500630cdca0",
   "metadata": {
    "slideshow": {
     "slide_type": "skip"
    },
    "tags": [
     "translated_en"
    ],
    "translation": {
     "lang": "de",
     "src_hash": "47a4de7a44816b42828ffba2beb57773c12fdc640473e8f57fa653060d38e8e2",
     "updated_at_iso": "2025-08-16T16:01:46.028999+00:00"
    }
   },
   "source": [
    "We also define the function `area()` which computes the area of the polygon (concave and without holes) using the Gauss's trapezoidal formula."
   ]
  },
  {
   "cell_type": "markdown",
   "id": "0945adcb60ec47ce8ecb39ecfae6c83c",
   "metadata": {
    "slideshow": {
     "slide_type": "skip"
    },
    "tags": [
     "translated_en"
    ],
    "translation": {
     "lang": "de",
     "src_hash": "6a23aabaff04433617a79baf91be681dfb9e1bef9a42ea04cfadd6747f2bb051",
     "updated_at_iso": "2025-08-16T16:01:59.069584+00:00"
    }
   },
   "source": [
    "Now we want to define the subtypes Triangle, Quadrilateral, and Pentagon. To do this, when declaring the new class we specify the superclass in parentheses. We can then also define a new constructor (otherwise the constructor of the superclass is used). In doing so we must always call the constructor of the superclass, which we obtain with the function `super()`. For example, we define constructors that accept exactly the right number of points."
   ]
  },
  {
   "cell_type": "code",
   "execution_count": null,
   "id": "ff93de395b0740fcb4b8ac27b4800eab",
   "metadata": {
    "slideshow": {
     "slide_type": "skip"
    },
    "tags": [
     "translated_en"
    ],
    "translation": {
     "lang": "de",
     "src_hash": "ec615ecb5809625731ab0fde27a54f8c7efd9adb81436a4e7dbc80096038dc0d",
     "updated_at_iso": "2025-08-16T16:02:04.116133+00:00"
    }
   },
   "outputs": [],
   "source": [
    "class Triangle(Polygon):\n",
    "    def __init__(self, p1, p2, p3, name= \"Triangle\"):\n",
    "        super().__init__(points=[p1, p2, p3], name=name)\n",
    "\n",
    "class Tetragon(Polygon):\n",
    "    def __init__(self, p1, p2, p3, p4, name= \"Tetragon\"):\n",
    "        super().__init__(points=[p1, p2, p3, p4], name=name)\n",
    "\n",
    "class Pentagon(Polygon):\n",
    "    def __init__(self, p1, p2, p3, p4, p5, name=\"Pentagon\"):\n",
    "        super().__init__(points=[p1, p2, p3, p4, p5], name=name)"
   ]
  },
  {
   "cell_type": "markdown",
   "id": "0ab7eb8e49e64007968e68e4bb059c1f",
   "metadata": {
    "slideshow": {
     "slide_type": "skip"
    },
    "tags": [
     "translated_en"
    ],
    "translation": {
     "lang": "de",
     "src_hash": "208aa7318ccd2e33724e8a7bd3d41075e6e292f63b6549078fb90461f12f206a",
     "updated_at_iso": "2025-08-16T16:02:12.192639+00:00"
    }
   },
   "source": [
    "The key thing about inheritance now is that all instances of `Triangle`, `Tetragon` or `Pentagon` have the attributes `__points` (though it is not visible), `name` and the methods `get_points` and `__str__`.\n",
    "\n",
    "For example, if we define a `triangle` and apply `print()` to it, the inherited `__str__` method from the superclass `Polygon` is invoked internally."
   ]
  },
  {
   "cell_type": "code",
   "execution_count": null,
   "id": "8e488686ba384d73bf5424a2cfafa64a",
   "metadata": {
    "slideshow": {
     "slide_type": "skip"
    },
    "tags": [
     "translated_en"
    ],
    "translation": {
     "lang": "de",
     "src_hash": "72ce95ba442929b79f7e80f4207a6e9b36d55443336e4c02700d079e35d90fc5",
     "updated_at_iso": "2025-08-16T16:02:16.446852+00:00"
    }
   },
   "outputs": [],
   "source": [
    "triangle_1 = Triangle(ImmutablePoint(0,0), ImmutablePoint(1,1), ImmutablePoint(2,0), \"Dreieck\")\n",
    "print(triangle_1)\n",
    "triangle_1.area()"
   ]
  },
  {
   "cell_type": "markdown",
   "id": "bd8d34e02b6048ed886ceb8bbe5e933f",
   "metadata": {
    "slideshow": {
     "slide_type": "skip"
    },
    "tags": [
     "translated_en"
    ],
    "translation": {
     "lang": "de",
     "src_hash": "3d5740cd4e58800f3a940f49b0bd335aedeae1421d9ba42d4bf5727010ac93c5",
     "updated_at_iso": "2025-08-16T16:02:19.902619+00:00"
    }
   },
   "source": [
    "The same applies to quadrilaterals and pentagons:"
   ]
  },
  {
   "cell_type": "code",
   "execution_count": null,
   "id": "ddd27073867f4f97b4c035e0545a2326",
   "metadata": {
    "slideshow": {
     "slide_type": "skip"
    },
    "tags": [
     "translated_en"
    ],
    "translation": {
     "lang": "de",
     "src_hash": "06d50adbc068600e543cef338aa13d955d8f842c73f36937d92912909b79dd72",
     "updated_at_iso": "2025-08-16T16:02:26.100968+00:00"
    }
   },
   "outputs": [],
   "source": [
    "quadrilateral_1 = Tetragon(ImmutablePoint(0,0), ImmutablePoint(0,1),ImmutablePoint(1,1), ImmutablePoint(1,0), \"Viereck\")\n",
    "print(quadrilateral_1)\n",
    "quadrilateral_1.area()"
   ]
  },
  {
   "cell_type": "code",
   "execution_count": null,
   "id": "5f9597d1070a465c8353e6af312c87a1",
   "metadata": {
    "editable": true,
    "slideshow": {
     "slide_type": "skip"
    },
    "tags": [
     "translated_en"
    ],
    "translation": {
     "lang": "de",
     "src_hash": "e18d94005ff30c3282b2e214bd7b80cce0297ffed34bc68328f0d4defe3c8388",
     "updated_at_iso": "2025-08-16T16:02:32.573375+00:00"
    }
   },
   "outputs": [],
   "source": [
    "pentagon_1 = Pentagon(ImmutablePoint(0,0), ImmutablePoint(-1,1), ImmutablePoint(1,2), ImmutablePoint(2,1), ImmutablePoint(2,0), \"Fünfeck\")\n",
    "print(pentagon_1)\n",
    "pentagon_1.area()"
   ]
  },
  {
   "cell_type": "markdown",
   "id": "0630525e60494d1792167983f1365b99",
   "metadata": {
    "editable": true,
    "slideshow": {
     "slide_type": "slide"
    },
    "tags": [
     "remove-cell",
     "translated_en"
    ],
    "translation": {
     "lang": "de",
     "src_hash": "d092c5da928d1af8e73869b7d433a540afc0d249af730196d3401fe45edeef72",
     "updated_at_iso": "2025-08-16T16:02:40.599558+00:00"
    }
   },
   "source": [
    "<div class=\"vslide\">\n",
    "  <div class=\"vslide-title\">\n",
    "    <p style=\"font-family: Protomolecule; font-size: 2.3em; line-height: 90%; margin: 0px auto; text-align: center; width: 100%;\"><span style=\"letter-spacing: .04rem;\">Programming</span><br><span style=\"letter-spacing: .0rem;\">and databases</span></p>\n",
    "<p class=\"author\" style=\"font-family: Protomolecule; margin: 0px auto;  text-align: center; width: 100%; font-size: 1.2em;\">Joern Ploennigs</p>\n",
    "<p class=\"subtitle\" style=\"font-family: Protomolecule; margin: 1em auto; text-align: center; width: 100%; font-size: 1.2em;\">Objects</p>\n",
    "    <figcaption>Midjourney: Bauhaus line drawing</figcaption>\n",
    "  </div>\n",
    "<script>\n",
    "  function setSectionBackground(c,v){\n",
    "    let e=document.currentScript.previousElementSibling;\n",
    "    while(e&&e.tagName!=='SECTION')e=e.parentElement;\n",
    "    if(e){\n",
    "      if(c)e.setAttribute('data-background-color',c);\n",
    "      if(v){\n",
    "        e.setAttribute('data-background-video',v);\n",
    "        e.setAttribute('data-background-video-loop','true');\n",
    "        e.setAttribute('data-background-video-muted','true');\n",
    "      }\n",
    "    }\n",
    "  }\n",
    "  setSectionBackground('#000000', 'images/04c_Objects/mj_title.mp4');\n",
    "</script>\n",
    "<style>\n",
    ".flex-row{display:flex; gap:2rem; align-items:flex-start; justify-content:space-between;}\n",
    ".flex-row .col1{flex:1; min-width:10px}\n",
    ".flex-row .col2{flex:2; min-width:10px}\n",
    ".flex-row .col3{flex:3; min-width:10px}\n",
    ".flex-row .col4{flex:4; min-width:10px}\n",
    ".flex-row .col5{flex:5; min-width:10px}\n",
    ".flex-row .col6{flex:6; min-width:10px}\n",
    ".flex-row .col7{flex:7; min-width:10px}\n",
    ".vcent{display:flex; align-items:center; justify-content:center}\n",
    "</style>\n",
    "</div>"
   ]
  },
  {
   "cell_type": "markdown",
   "id": "6c6d1d106443445ba473b4cec3a52929",
   "metadata": {
    "jp-MarkdownHeadingCollapsed": true,
    "slideshow": {
     "slide_type": "slide"
    },
    "tags": [
     "remove-cell",
     "translated_en"
    ],
    "translation": {
     "lang": "de",
     "src_hash": "87e9d4b462e721cbe2846d75db398ae3910dd563f57295fef452f0d72e1f4299",
     "updated_at_iso": "2025-08-16T16:02:43.829452+00:00"
    }
   },
   "source": [
    "## Process\n",
    "\n",
    "![](images/partA_6.svg)"
   ]
  },
  {
   "cell_type": "markdown",
   "id": "3bfc2b335fad44b6aebb7f8427aa56bb",
   "metadata": {
    "editable": true,
    "slideshow": {
     "slide_type": "slide"
    },
    "tags": [
     "remove-cell",
     "translated_en"
    ],
    "translation": {
     "lang": "de",
     "src_hash": "b58dbcd007246280c9805b42e55292b81115e0e0f37c107abff0d665926c3696",
     "updated_at_iso": "2025-08-16T16:02:48.533546+00:00"
    }
   },
   "source": [
    "## Objectives\n",
    "\n",
    "- Learn the fundamentals of object-oriented programming  \n",
    "- A basic understanding of programming with objects  \n",
    "- Data types vs. classes  \n",
    "- Functions vs. methods\n",
    "\n",
    "- Introduction to advanced concepts such as inheritance"
   ]
  },
  {
   "cell_type": "markdown",
   "id": "4507d53d12e24baaac779f1deab0145e",
   "metadata": {
    "slideshow": {
     "slide_type": "slide"
    },
    "tags": [
     "remove-cell",
     "translated_en"
    ],
    "translation": {
     "lang": "de",
     "src_hash": "32ee7332465c0579eeb83753a025d98e1465adfb454a7f40433bdf3b71a42ba8",
     "updated_at_iso": "2025-08-16T16:02:57.587185+00:00"
    }
   },
   "source": [
    "## Object-Oriented Programming\n",
    "\n",
    "<div class=\"alert alert-block alert-success\">\n",
    "<b>📘 Definition: Object-Oriented Programming</b>\n",
    "\n",
    "Object-oriented programming (OOP) is a programming paradigm that assumes that a program consists exclusively of objects that interact cooperatively with each other.\n",
    "</div>\n",
    "\n",
    "Each object has:\n",
    "- *Attributes* (Properties): Define the value describing the state of an object.\n",
    "- *Methods* define the possible state changes (actions) of an object."
   ]
  },
  {
   "cell_type": "markdown",
   "id": "bfb2c368c64a4552962fa26e94142d77",
   "metadata": {
    "slideshow": {
     "slide_type": "subslide"
    },
    "tags": [
     "remove-cell",
     "translated_en"
    ],
    "translation": {
     "lang": "de",
     "src_hash": "04bfb16f365b65725e52a04105d094852d77fb2149f23c792cdb0ca46c704e0a",
     "updated_at_iso": "2025-08-16T16:03:14.515531+00:00"
    }
   },
   "source": [
    "## Why Objects – The Syntactic Problem of Repeating Data Structures\n",
    "\n",
    "- Objects are used to determine how repeating data structures are stored.\n",
    "- As the program grows, so does the number of variables and data structures\n",
    "    - for storing data\n",
    "    - for controlling the flow of the program\n",
    "    - for storing states\n",
    "    - for processing input and output\n",
    "- The underlying elements are usually based on repeating data structures.\n",
    "- For example, point coordinates in blueprints or maps could be expressed as tuples or lists.\n",
    "\n",
    "```python\n",
    "punkt_1 = (54.083336, 12.108811) # What is the correct syntax?\n",
    "punkt_2 = [12.108811, 54.083336]\n",
    "```"
   ]
  },
  {
   "cell_type": "markdown",
   "id": "e4469acf761b4b95b072e4dac01336ef",
   "metadata": {
    "slideshow": {
     "slide_type": "subslide"
    },
    "tags": [
     "remove-cell",
     "translated_en"
    ],
    "translation": {
     "lang": "de",
     "src_hash": "e21e64e89e67a97232f61f6ce9b4b6365549d512a381a1d04e6a183b3b6cf969",
     "updated_at_iso": "2025-08-16T16:03:23.831052+00:00"
    }
   },
   "source": [
    "## Why Objects – The Semantic Problem of Repeated Data Structures\n",
    "\n",
    "- Objects are also used to clearly define the semantics of values within a data structure.\n",
    "\n",
    "- For instance, if we've agreed that we syntactically represent a point as a tuple, the meaning of the values is still unknown\n",
    "\n",
    "```python\n",
    "punkt_1 = (54.083336, 12.108811) # What is the semantics of these values?\n",
    "punkt_2 = (12.108811, 54.083336) # So which is Latitude, which is Longitude?\n",
    "```"
   ]
  },
  {
   "cell_type": "markdown",
   "id": "5a2cd7e407c74205b6d0820c286d7c5d",
   "metadata": {
    "editable": true,
    "slideshow": {
     "slide_type": "subslide"
    },
    "tags": [
     "remove-cell",
     "translated_en"
    ],
    "translation": {
     "lang": "de",
     "src_hash": "0a8be99588bdd02212bc6e1dbb63c17df5593617e4ba3fea8769640c40e76aad",
     "updated_at_iso": "2025-08-16T16:03:33.023753+00:00"
    }
   },
   "source": [
    "## Why Objects – The Behavioral Problem of Repeated Data Structures\n",
    "\n",
    "- Objects bundle functions and data structures.\n",
    "\n",
    "- A distance function can be applied to the wrong data structures, e.g., to lines instead of points.\n",
    "\n",
    "```python\n",
    "def distance(a, b):\n",
    "    return math.sqrt((a[0]-b[0])**2 + (a[1]-b[1])**2)\n",
    "\n",
    "point_1 = (54.083336, 12.108811)\n",
    "point_2 = (12.108811, 54.083336)\n",
    "\n",
    "distance(point_1, point_2)\n",
    "\n",
    "line_1 = [(54.08, 12.11), (54.10, 12.11)]\n",
    "line_2 = [(12.11, 54.08), (12.20, 54.10)]\n",
    "\n",
    "distance(line_1, line_2)\n",
    "```"
   ]
  },
  {
   "cell_type": "markdown",
   "id": "232ad801f7554f719aba075cd9486933",
   "metadata": {
    "slideshow": {
     "slide_type": "slide"
    },
    "tags": [
     "remove-cell",
     "translated_en"
    ],
    "translation": {
     "lang": "de",
     "src_hash": "e2f2211695ffe34b8b5e2b42296fe6aa0410026cbea70b970dcc619928bb4bce",
     "updated_at_iso": "2025-08-16T16:03:39.628532+00:00"
    }
   },
   "source": [
    "## Basics of Object-Oriented Programming\n",
    "\n",
    "- Instead of using a large number of scattered data structures and functions in a confusing way, we group them into objects.\n",
    "\n",
    "- The structure of these objects is defined in the form of *classes*, which act as a kind of blueprint. A class defines:\n",
    "    - which *attributes* (variables / properties) an object of this class possesses.\n",
    "    - which *methods* (functions) an object of the class provides"
   ]
  },
  {
   "cell_type": "markdown",
   "id": "3ab6e82a0e54442e998861291f727fd1",
   "metadata": {
    "slideshow": {
     "slide_type": "subslide"
    },
    "tags": [
     "remove-cell",
     "translated_en"
    ],
    "translation": {
     "lang": "de",
     "src_hash": "5c8f0b248e90c8571162df8dc7f5c216dd7bdda0ad28332ab0ed21111e0aa7bb",
     "updated_at_iso": "2025-08-16T16:03:54.080994+00:00"
    }
   },
   "source": [
    "## Classes and Instances\n",
    "\n",
    "- Objects are *instances* of a class (the class is just a blueprint).\n",
    "- A class can have any number of instances.\n",
    "- All instances have the same structure.\n",
    "- However, instances do not necessarily have the same values in their attributes.\n",
    "\n",
    "<div class=\"flex-row\">\n",
    "<div class=\"col1\">\n",
    "\n",
    "![](https://mermaid.ink/svg/pako:eNp9kT1vgzAQhv-KdTNBODh8eOjQdkFtl6pT4wwWNmAJ7MiYfoTw32sgZKyX8z3vvXfS3QilERIoVK35LhtuHXr8YBr599LyvpfHNZyYXqlQVpZOGY1e31dS4GOhe8f1BeHTDek70ndngdFu93BVvUOb-GX09TZnM_5XAwHUVgmgzg4ygE7ajs8pjLObgWtkJxlQ_xWy4kPrGDA9eduZ609jus1pzVA3QCve9j4bzoI7-ax4bXl3p1ZqIe2TGbQDSiKyNAE6wg9QHCchjj3MSIJzTKIkgN-5KtyTPM8TnB3iaJ_GZArgssyNwiydJS_gPI3IwfeTQjlj39b9L2eY_gD5vnxs)\n",
    "\n",
    "</div>\n",
    "<div class=\"col1\">\n",
    "\n",
    "![](https://mermaid.ink/svg/pako:eNp9kTtvgzAQgP8KupkgG8zDHjq0XaK2UlV1aslgYQNWwY6M6SOE_15eyRhPvu_uu5PuBiiMkMCgbMxPUXPrvPv3XHvTe2p418nP115_uUOuVyiUlYVTRnvPbyvZ47XEw4cN6A3oq7XH3m53d1adm7Kd4_rkfRt93kZctFs14ENllQDmbC99aKVt-RzCMNs5uFq2Mgc2fYUsed-4HHI9TtqR6w9j2otpTV_VwEredFPUHwV38lHxyvL2Sq3UQtoH02sHLEZoaQJsgF9gOEoCHBFEMpJgiglKfPgDRlAQEkppgrM4QmEakdGH0zIXBVk6p2iYJDSNaIx9kEI5Y1_W1S8XGP8BBLJ6eQ)\n",
    "\n",
    "</div>\n",
    "</div>"
   ]
  },
  {
   "cell_type": "markdown",
   "id": "42b506ea2fae493593ddd5c67f1ad122",
   "metadata": {
    "slideshow": {
     "slide_type": "subslide"
    },
    "tags": [
     "remove-cell",
     "translated_en"
    ],
    "translation": {
     "lang": "de",
     "src_hash": "c24c1a28106bc8449d37547cdd5d192616f7064894ff155bb87be8bd67a43de0",
     "updated_at_iso": "2025-08-16T16:03:59.536713+00:00"
    }
   },
   "source": [
    "## Object-oriented Programming in Python\n",
    "\n",
    "- Python is object-oriented from the ground up – a fact we have so far ignored\n",
    "\n",
    "- All data types in Python are objects (that’s why they also have their own methods)\n",
    "- User-defined classes are always a composite (complex) data type\n",
    "    - Each data type has: value, type, identity\n",
    "    - Variables are references"
   ]
  },
  {
   "cell_type": "markdown",
   "id": "4dc87aa309a34510a279f1a455eb1ef0",
   "metadata": {
    "slideshow": {
     "slide_type": "slide"
    },
    "tags": [
     "remove-cell",
     "translated_en"
    ],
    "translation": {
     "lang": "de",
     "src_hash": "3cbf422d16cce48223c2fc213c4cacc00e164cd7a3e998807c0940c141261b55",
     "updated_at_iso": "2025-08-16T16:04:05.496088+00:00"
    }
   },
   "source": [
    "## Defining Classes\n",
    "\n",
    "The first step in creating an object is to define a new class for the object's type. This is done using the `class` keyword:\n",
    "\n",
    "```python\n",
    "class ClassName:\n",
    "    # class definition\n",
    "```"
   ]
  },
  {
   "cell_type": "markdown",
   "id": "bed0f96d657947fdb44a6d1406ba2537",
   "metadata": {
    "slideshow": {
     "slide_type": "subslide"
    },
    "tags": [
     "remove-cell",
     "translated_en"
    ],
    "translation": {
     "lang": "de",
     "src_hash": "bc57c071ee199ce04ab55f32c502ff21e3bcd102de421cdf1bb4896706bd160e",
     "updated_at_iso": "2025-08-16T16:04:12.807580+00:00"
    }
   },
   "source": [
    "## Constructors with the __init__ method\n",
    "\n",
    "The constructor `__init__()` is a special method that defines how a new instance of the class is created.\n",
    "\n",
    "```python\n",
    "class Point:\n",
    "    # Constructor\n",
    "    def __init__(self, x, y):\n",
    "        self.x = x\n",
    "        self.y = y\n",
    "```\n",
    "\n",
    "- `self` describes a self-reference to the new instance of the class\n",
    "- You can access the attributes of an instance using dot syntax\n",
    "- `self.x` is therefore a reference to the instance's x attribute\n",
    "- `self.x = x` means that we assign the value of the variable x to the new instance attribute x\n",
    "- Since `__init__` is a function, you can also define defaults\n",
    "\n"
   ]
  },
  {
   "cell_type": "markdown",
   "id": "b605f62d182941f1aa1bc76ae3254273",
   "metadata": {
    "slideshow": {
     "slide_type": "subslide"
    },
    "tags": [
     "remove-cell",
     "translated_en"
    ],
    "translation": {
     "lang": "de",
     "src_hash": "1e28fcc11a427543acd541ba65f81a8f649153ff112dd78e11013a5b8abe561b",
     "updated_at_iso": "2025-08-16T16:04:22.580866+00:00"
    }
   },
   "source": [
    "## Creating Instances\n",
    "\n",
    "Instances of the class are created by using the class name as if it were a function (this implicitly calls the constructor). The `self` parameter is not supplied.\n",
    "\n",
    "```python\n",
    "punkt_1 = Punkt(54.083336, 12.108811)\n",
    "punkt_2 = Punkt(12.108811, 54.083336)\n",
    "```"
   ]
  },
  {
   "cell_type": "markdown",
   "id": "4625b575a10b42b5bdd1baee24418f0a",
   "metadata": {
    "slideshow": {
     "slide_type": "subslide"
    },
    "tags": [
     "remove-cell",
     "translated_en"
    ],
    "translation": {
     "lang": "de",
     "src_hash": "9fc6e4eb3f52bba2a88bfeafbad3e7fd35009479ecbb1cabf2d8b1295788bf4b",
     "updated_at_iso": "2025-08-16T16:04:29.265191+00:00"
    }
   },
   "source": [
    "## Instance-level Attributes\n",
    "\n",
    "- Instance attributes can differ between instances\n",
    "- If one instance changes the attribute, the change does not affect other instances (isolation)\n",
    "- They are defined in the constructor `__init__`\n",
    "\n",
    "```python\n",
    "class Punkt:\n",
    "    # Konstruktor\n",
    "    def __init__(self, x, y):\n",
    "        self.x = x\n",
    "        self.y = y\n",
    "```"
   ]
  },
  {
   "cell_type": "markdown",
   "id": "96f443799c514de3ab7bfc2c7fe30c7b",
   "metadata": {
    "slideshow": {
     "slide_type": "subslide"
    },
    "tags": [
     "remove-cell",
     "translated_en"
    ],
    "translation": {
     "lang": "de",
     "src_hash": "b5c7e97a554f5545a6c4c993af96d0dd00b4c04dc00c0878681979b9ad983d65",
     "updated_at_iso": "2025-08-16T16:04:41.091673+00:00"
    }
   },
   "source": [
    "## Class-Level Attributes\n",
    "\n",
    "- Class attributes are attributes that have the same value for all instances of a class\n",
    "- They are defined at the class level using the `class` keyword, just like a variable\n",
    "- *Important!* They apply to all instances; if one instance changes the value, it changes for all other instances\n",
    "\n",
    "```python\n",
    "class Punkt:\n",
    "    # Attribut aller Instanzen\n",
    "    einheit = \"m\"\n",
    "```"
   ]
  },
  {
   "cell_type": "markdown",
   "id": "cd7a8cb2e8ee460589f92eb307c04e3c",
   "metadata": {
    "editable": true,
    "slideshow": {
     "slide_type": "subslide"
    },
    "tags": [
     "remove-cell",
     "translated_en"
    ],
    "translation": {
     "lang": "de",
     "src_hash": "d13d1217191b57acab7f56b27ae67c97bd2f825700f784cb10ae2e6fcdec6ae3",
     "updated_at_iso": "2025-08-16T16:04:45.891549+00:00"
    }
   },
   "source": [
    "## Methods\n",
    "\n",
    "- Methods are defined like functions with the keyword `def`, indented at the same level as the class\n",
    "- These methods are then available to all instances\n",
    "- Methods always have `self` as the first parameter (reference to the current instance)\n",
    "- This allows you to access attributes or other methods\n",
    "- You can also assign defaults to method parameters\n",
    "\n",
    "```python\n",
    "class Punkt:\n",
    "    # Methode\n",
    "    def distanz(self, punkt_2):\n",
    "        return math.sqrt((self.x - punkt_2.x)**2 + (self.y - punkt_2.y)**2)\n",
    "```"
   ]
  },
  {
   "cell_type": "markdown",
   "id": "ace2c8f4e21b4d989d5c78b15ad0d962",
   "metadata": {
    "slideshow": {
     "slide_type": "subslide"
    },
    "tags": [
     "remove-cell",
     "translated_en"
    ],
    "translation": {
     "lang": "de",
     "src_hash": "ceb44107c02c61c82d054e095ae4e5bad21b47b048239e203310751a2bcf8e27",
     "updated_at_iso": "2025-08-16T16:14:54.196347+00:00"
    }
   },
   "source": [
    "## Calling Methods\n",
    "\n",
    "Class methods are available on all instances. They are invoked using dot syntax:\n",
    "\n",
    "```python\n",
    "punkt_1.distanz()\n",
    "```\n",
    "\n",
    "In the same way, attributes can also be accessed:\n",
    "\n",
    "```python\n",
    "print(punkt_1.x, punkt_1.y)\n",
    "```\n",
    "\n",
    "and these can be modified:\n",
    "\n",
    "```python\n",
    "punkt_1.x = 20\n",
    "```"
   ]
  },
  {
   "cell_type": "markdown",
   "id": "eacee0d78ca442a594bac188ee4e1993",
   "metadata": {
    "editable": true,
    "slideshow": {
     "slide_type": "skip"
    },
    "tags": [
     "translated_en"
    ],
    "translation": {
     "lang": "de",
     "src_hash": "1ec66911ec064f18bffcecc1402c521780585e743263d39678781eea4fcd49dc",
     "updated_at_iso": "2025-08-16T16:15:35.944400+00:00"
    }
   },
   "source": [
    "## Quiz\n",
    "\n",
    "\n",
    "```{quizdown}\n",
    "\t\n",
    "\tshuffleQuestions: true\n",
    "\tshuffleAnswers: true\n",
    "\t\n",
    "\n",
    "    ### Was beschreibt ein Objekt in der objektorientierten Programmierung?\n",
    "    - [x] Eine Einheit mit Zustand (Attribute) und Verhalten (Methoden)\n",
    "    - [ ] Eine reine Datenstruktur ohne Funktionen\n",
    "    - [ ] Nur eine Methode in einem Programm\n",
    "    - [ ] Eine Zeile in einer Datenbank\n",
    "\n",
    "    ### Wozu dienen Methoden in einem Objekt?\n",
    "    - [x] Zur Änderung des Objektzustands\n",
    "    - [ ] Zur Definition von Klassen\n",
    "    - [ ] Zum Kompilieren des Codes\n",
    "    - [ ] Zur Initialisierung von Attributen\n",
    "\n",
    "    ### Warum verwendet man Objekte bei wiederholenden Datenstrukturen?\n",
    "    - [x] Um missverständliche Strukturen zu vermeiden\n",
    "    - [x] Um redundante Strukturen zu vermeiden\n",
    "    - [ ] Um Daten alphabetisch zu sortieren\n",
    "    - [ ] Um den Programmfluss zu verlangsamen\n",
    "\n",
    "    ### Welcher Nachteil ergibt sich aus unterschiedlichen Datentypen wie Liste und Tupel zur Darstellung eines Punkts?\n",
    "    - [x] Sie haben unterschiedliche Syntax und Verhalten\n",
    "    - [x] Sie führen zu uneinheitlichem Zugriff\n",
    "    - [ ] Sie sind nicht speicherbar in Python\n",
    "    - [ ] Sie brauchen zwingend gleiche Länge\n",
    "\n",
    "    ### Warum helfen Objekte bei semantischen Problemen?\n",
    "    - [x] Sie machen Bedeutung der Werte durch Attributnamen klar\n",
    "    - [ ] Sie ersetzen alle Werte automatisch durch Strings\n",
    "    - [ ] Sie benötigen keine Werte zur Laufzeit\n",
    "    - [ ] Sie wandeln alles in Listen um\n",
    "\n",
    "    ### Warum kann die Funktion `distance(a, b)` problematisch sein?\n",
    "    ```python\n",
    "    def distance(a, b):\n",
    "        return math.sqrt((a[0]-b[0])**2 + (a[1]-b[1])**2)\n",
    "    ```\n",
    "    - [x] Sie ist nicht auf einen bestimmten Typ beschränkt\n",
    "    - [ ] Sie verwendet `math` und das ist nicht erlaubt\n",
    "    - [ ] Sie benötigt Strings statt Zahlen\n",
    "    - [ ] Sie berechnet die Distanz nicht korrekt\n",
    "\n",
    "    ### Sortiere die folgenden Zeilen, um eine einfache Klasse `Punkt` korrekt zu definieren:\n",
    "    ```python\n",
    "    # Instanziiere ein Objekt\n",
    "    ```\n",
    "    1. `class Punkt:`\n",
    "    2. `  def __init__(self, x, y):`\n",
    "    3. `    self.x = x`\n",
    "    4. `    self.y = y`\n",
    "    5. `p = Punkt(1, 2)`\n",
    "\n",
    "    ### Welcher Fehler steckt in diesem Beispiel?\n",
    "    ```python\n",
    "    class Hund:\n",
    "        def bellen():\n",
    "            print(\"Wuff\")\n",
    "\n",
    "    h = Hund()\n",
    "    h.bellen()\n",
    "    ```\n",
    "    - [x] Der Methode fehlt der Parameter `self`\n",
    "    - [ ] Die Methode heißt falsch\n",
    "    - [ ] Die Klasse `Hund` darf nicht so definiert werden\n",
    "    - [ ] Methoden dürfen nicht `print` verwenden\n",
    "\n",
    "    ### Welcher Fehler kann in folgendem Beispiel auftreten?\n",
    "    ```python\n",
    "    import math\n",
    "\n",
    "    def distance(a, b):\n",
    "        return math.sqrt((a[0]-b[0])**2 + (a[1]-b[1])**2)\n",
    "\n",
    "    print(distance(\"Berlin\", \"Paris\"))\n",
    "    ```\n",
    "    - [x] Strings sind keine gültigen Punktkoordinaten\n",
    "    - [ ] Der Funktionsname ist reserviert\n",
    "    - [ ] `math.sqrt` funktioniert nicht\n",
    "    - [ ] Die Funktion hat keine Rückgabe\n",
    "\n",
    "\n",
    "    ### Was ist der Zweck des Konstruktors `__init__()`?\n",
    "    - [x] Initialisierung von Attributen beim Erzeugen eines Objekts\n",
    "    - [x] Durchführung von Startaufgaben wie Berechnungen oder Prüfungen\n",
    "    - [ ] Erstellen von Klassennamen\n",
    "    - [ ] Kompilieren von Methoden\n",
    "\n",
    "    ### Was passiert, wenn kein Konstruktor definiert wird?\n",
    "    - [x] Python erzeugt automatisch einen leeren Konstruktor\n",
    "    - [ ] Das Programm wird nicht ausgeführt\n",
    "    - [ ] Es wird ein Fehler geworfen\n",
    "    - [ ] Alle Attribute werden automatisch gesetzt\n",
    "\n",
    "    ### Was beschreibt ein Instanzattribut?\n",
    "    - [x] Eine Eigenschaft, die in jeder Objektinstanz unterschiedlich sein kann\n",
    "    - [ ] Eine Eigenschaft, die alle Klassen gemeinsam haben\n",
    "    - [ ] Ein Modul-Import\n",
    "    - [ ] Eine Klasse im Konstruktor\n",
    "\n",
    "    ### Warum verwendet man `self` im Konstruktor?\n",
    "    - [x] Um Attribute der Instanz zu definieren\n",
    "    - [ ] Um Klassenmethoden zu importieren\n",
    "    - [ ] Um globale Variablen zu ersetzen\n",
    "    - [ ] Um den Konstruktor aufzurufen\n",
    "\n",
    "    ### Warum verwendet man Klassen in Python?\n",
    "    - [x] Um Objekte zu strukturieren und Daten + Verhalten zu bündeln\n",
    "    - [x] Um einen Bauplan für gleichartige Objekte zu schaffen\n",
    "    - [ ] Um schneller zu kompilieren\n",
    "    - [ ] Um Variablennamen zu ersetzen\n",
    "\n",
    "    ### Was gehört typischerweise zur Definition einer Klasse?\n",
    "    - [x] Welche Attribute ein Objekt hat\n",
    "    - [x] Welche Methoden ein Objekt bereitstellt\n",
    "    - [ ] Welche Module importiert werden\n",
    "    - [ ] Welche Variablen global verfügbar sind\n",
    "\n",
    "    ### Sortiere die folgenden Zeilen, um eine vollständige Klasse `Hund` mit Konstruktor zu definieren:\n",
    "    ```python\n",
    "    # Erzeuge ein Objekt mit Eigenschaften\n",
    "    ```\n",
    "    1. `class Hund:`\n",
    "    2. `  def __init__(self, name):`\n",
    "    3. `    self.name = name`\n",
    "    4. `mein_hund = Hund(\"Fiffi\")`\n",
    "\n",
    "\n",
    "    ### Was passiert, wenn bei folgender Klasse keine Argumente übergeben werden?\n",
    "    ```python\n",
    "    class Point:\n",
    "        def __init__(self, x = 0.0, y = 0.0):\n",
    "            self.x = x\n",
    "            self.y = y\n",
    "\n",
    "    p = Point()\n",
    "    ```\n",
    "    - [x] Die Werte `0.0` werden für `x` und `y` verwendet\n",
    "    - [ ] Es wird ein Fehler ausgegeben\n",
    "    - [ ] Die Attribute bleiben undefiniert\n",
    "    - [ ] Die Konstruktion ist in Python nicht erlaubt\n",
    "\n",
    "    ### Was ist ein Klassenattribut?\n",
    "    - [x] Ein Attribut, das allen Instanzen einer Klasse gemeinsam ist\n",
    "    - [ ] Ein Attribut, das innerhalb der Methode `__init__()` definiert wird\n",
    "    - [ ] Eine Methode mit Funktionsinhalt\n",
    "    - [ ] Ein lokal verwendetes Attribut\n",
    "\n",
    "    ### Welche Gefahr besteht bei veränderlichen Klassenattributen?\n",
    "    - [x] Änderungen durch eine Instanz wirken sich auf alle anderen aus\n",
    "    - [ ] Sie sind nicht zugänglich von Methoden\n",
    "    - [ ] Sie werden nicht gespeichert\n",
    "    - [ ] Sie führen zu Syntaxfehlern\n",
    "\n",
    "    ### Was ist eine Methode in einer Klasse?\n",
    "    - [x] Eine Funktion, die auf eine Instanz der Klasse angewendet wird\n",
    "    - [ ] Eine globale Funktion\n",
    "    - [ ] Eine Variable mit Funktionsinhalt\n",
    "    - [ ] Eine Schleife mit Klassenname\n",
    "\n",
    "    ### Warum hat eine Methode in einer Klasse immer `self` als ersten Parameter?\n",
    "    - [x] Damit sie auf Attribute der Instanz zugreifen kann\n",
    "    - [ ] Damit der Konstruktor korrekt aufgerufen wird\n",
    "    - [ ] Damit man sie nur einmal aufrufen kann\n",
    "    - [ ] Damit sie von außen nicht sichtbar ist\n",
    "\n",
    "    ### Was ist eine Klasseninstanz?\n",
    "    - [x] Ein konkretes Objekt, das nach dem Bauplan der Klasse erstellt wurde\n",
    "    - [ ] Eine Methode einer Klasse\n",
    "    - [ ] Eine spezielle Variable im Konstruktor\n",
    "    - [ ] Eine Liste von Methoden\n",
    "\n",
    "    ### Wie wird eine Instanz einer Klasse erzeugt?\n",
    "    - [x] Durch Aufruf des Klassennamens mit passenden Argumenten\n",
    "    - [ ] Durch Aufruf von `__init__()` direkt\n",
    "    - [ ] Durch eine Zuweisung im Konstruktor\n",
    "    - [ ] Durch Deklaration mit `new`\n",
    "\n",
    "    ### Was ist der Vorteil benannter Parameter bei der Objekterzeugung?\n",
    "    - [x] Die Reihenfolge der Argumente spielt keine Rolle mehr\n",
    "    - [ ] Die Parameter werden automatisch validiert\n",
    "    - [ ] Es wird automatisch `self` übergeben\n",
    "    - [ ] Nur benannte Parameter sind erlaubt in Python\n",
    "\n",
    "    ### Wie greift man auf das Attribut `x` eines Objekts `p` zu?\n",
    "    - [x] Mit `p.x`\n",
    "    - [ ] Mit `x.p`\n",
    "    - [ ] Mit `p->x`\n",
    "    - [ ] Mit `get(x, p)`\n",
    "\n",
    "    ### Was gibt folgender Ausdruck zurück?\n",
    "    ```python\n",
    "    point_1.unit\n",
    "    ```\n",
    "    - [x] Das Klassenattribut `unit` von `point_1`\n",
    "    - [ ] Den Standardwert von `x`\n",
    "    - [ ] Die Methode `unit()` als Funktion\n",
    "    - [ ] Eine Fehlermeldung\n",
    "\n",
    "    ### Was passiert bei folgender Anweisung?\n",
    "    ```python\n",
    "    point_1.x = 54.08\n",
    "    ```\n",
    "    - [x] Der Wert des Attributs `x` von `point_1` wird auf `54.08` gesetzt\n",
    "    - [ ] Es wird ein neues Attribut `x` erstellt\n",
    "    - [ ] Das Klassenattribut wird überschrieben\n",
    "    - [ ] Eine neue Instanz wird erzeugt\n",
    "\n",
    "    ### Was ist Polymorphismus?\n",
    "    - [x] Die Fähigkeit, dass verschiedene Klassen die gleiche Methode unterschiedlich implementieren\n",
    "    - [ ] Eine spezielle Art von Schleife\n",
    "    - [ ] Eine Methode, die nur in einer Klasse existiert\n",
    "    - [ ] Eine Variable, die mehrere Typen annehmen kann\n",
    "\n",
    "    ### Was ist Kapselung?\n",
    "    - [x] Das Verbergen von Implementierungsdetails und Zugriff auf Attribute über Methoden\n",
    "    - [ ] Eine spezielle Art von Datenstruktur\n",
    "    - [ ] Eine Methode, die nur in einer Klasse existiert\n",
    "    - [ ] Eine Variable, die nur innerhalb der Klasse sichtbar ist\n",
    "\n",
    "    ### Was ist Vererbung?\n",
    "    - [x] Die Möglichkeit, eine Klasse von einer anderen abzuleiten und deren Eigenschaften zu übernehmen\n",
    "    - [ ] Eine spezielle Art von Schleife\n",
    "    - [ ] Eine Methode, die nur in einer Klasse existiert\n",
    "    - [ ] Eine Variable, die mehrere Typen annehmen kann\n",
    "    - [ ] Eine Klasse, die keine Attribute hat\n",
    "\n",
    "    ### Was sind objektorientierte Programmierparadigmen?\n",
    "    - [x] Polymorphismus\n",
    "    - [x] Kapselung\n",
    "    - [ ] Multiplizität\n",
    "    - [ ] Redundanz\n",
    "    - [x] Vererbung\n",
    "    - [x] Generalisierung\n",
    "    - [ ] Spezialisierung\n",
    "\n",
    "    ### Was ist UML?\n",
    "    - [x] Eine grafische Notation für Software-Design\n",
    "    - [ ] Die Programmiersprache\n",
    "    - [ ] Die Datenbank-Sprache\n",
    "    - [ ] Eine Art von Algorithmus \n",
    "```"
   ]
  },
  {
   "cell_type": "markdown",
   "id": "7062820ac7424830b36b4930e08647f8",
   "metadata": {
    "slideshow": {
     "slide_type": "slide"
    },
    "tags": [
     "remove-cell",
     "translated_en"
    ],
    "translation": {
     "lang": "de",
     "src_hash": "d2b7467259ef9f52d61ecf9953374631953b152baba6f1edeaac46d4c3d40a0b",
     "updated_at_iso": "2025-08-16T16:15:40.331804+00:00"
    }
   },
   "source": [
    "<div class=\"vslide\">\n",
    "  <div class=\"vslide-title\">\n",
    "    <p style=\"font-family: Protomolecule; font-size: 2.3em; margin: 0px auto; text-align: center; width: 100%;\">Questions?</p>\n",
    "  </div>\n",
    "  <script>setSectionBackground('#000000', 'images/mj_questions.mp4');</script>\n",
    "</div>"
   ]
  }
 ],
 "metadata": {
  "kernelspec": {
   "display_name": "Python 3 (ipykernel)",
   "language": "python",
   "name": "python3"
  },
  "language_info": {
   "codemirror_mode": {
    "name": "ipython",
    "version": 3
   },
   "file_extension": ".py",
   "mimetype": "text/x-python",
   "name": "python",
   "nbconvert_exporter": "python",
   "pygments_lexer": "ipython3",
   "version": "3.11.6"
  },
  "rise": {
   "auto_select": "none",
   "center": false,
   "enable_chalkboard": true,
   "header": "<img src=\"images/pd_logo.svg\" class=\"header_title_logo\"><img src=\"images/ai4sc_logo_v2.svg\" class=\"header_ai4sc_logo\">",
   "scroll": true,
   "show_buttons_on_startup": false,
   "slideNumber": true,
   "theme": "white"
  },
  "vscode": {
   "interpreter": {
    "hash": "c6f6ea9c9385f57658f4c302ffd3b717b6cd59b095fbd1c55795f0b67656eecd"
   }
  }
 },
 "nbformat": 4,
 "nbformat_minor": 4
}
