{
 "cells": [
  {
   "cell_type": "markdown",
   "metadata": {
    "editable": true,
    "slideshow": {
     "slide_type": "skip"
    },
    "tags": []
   },
   "source": [
    "# Datentypen"
   ]
  },
  {
   "cell_type": "markdown",
   "metadata": {
    "editable": true,
    "slideshow": {
     "slide_type": "skip"
    },
    "tags": []
   },
   "source": [
    "![](images/02c_Datentypen/mj_title_band.jpg)\n",
    "\n",
    "> The definition of ‘insanity’ in programming is doing the same thing over and over again and expecting different data types\n",
    "> \n",
    "> — Linus Torvalds"
   ]
  },
  {
   "cell_type": "markdown",
   "metadata": {
    "editable": true,
    "slideshow": {
     "slide_type": "skip"
    },
    "tags": []
   },
   "source": [
    "## <a href=\"/lec_slides/02c_Datentypen.slides.html\">Folien</a>\n",
    "<iframe src=\"/lec_slides/02c_Datentypen.slides.html\" width=\"750\" height=\"500\"></iframe>"
   ]
  },
  {
   "cell_type": "markdown",
   "metadata": {
    "editable": true,
    "slideshow": {
     "slide_type": "skip"
    },
    "tags": []
   },
   "source": [
    "## Variablen in Python"
   ]
  },
  {
   "cell_type": "markdown",
   "metadata": {
    "editable": true,
    "slideshow": {
     "slide_type": "skip"
    },
    "tags": []
   },
   "source": [
    "Fast alle Programmiersprachen benutzen Variablen, um Werte abzuspeichern. Eine Variable ist dabei eine Zuweisung eines Wertes zu einem Namen. Intern verweist dieser Name dann auf die Speicheradresse im Arbeitsspeicher des Programmes, wo der Wert gespeichert ist. Dadurch kann man bei der Programmierung mit dem Namen der Variable arbeiten, ohne sich um die genaue Speicheradresse kümmern zu müssen.\n",
    "\n",
    "<div class=\"alert alert-block alert-success\">\n",
    "    <b>📘 Definition: Variable</b><br/>\n",
    "    Bei der Programmierung ist eine Variable ein Wert, der bei der Ausführung eines Computerprogramms auftritt und meist verändert werden kann. Eine Variable wird normalerweise im Quelltext durch einen Namen bezeichnet, hat einen Datentypen und eine Adresse im Speicher des Computers.\n",
    "</div>\n",
    "\n",
    "Neben Variablen gibt es auch Konstanten.  In den meisten compilierten Programmiersprachen gibt es spezielle Syntax, um Konstanten zu definieren, da diese direkt in den Programmcode hinterlegt werden und nicht im Arbeitsspeicher des Programmes. \n",
    "\n",
    "<div class=\"alert alert-block alert-success\">\n",
    "    <b>📘 Definition: Konstante</b><br/>\n",
    "    Eine Konstante ist ein Wert, der nicht verändert werden kann, nachdem er einmal zugewiesen wurde.\n",
    "</div>\n",
    "\n",
    "In Python gibt es keine speziellen Konstanten, aber es ist üblich, Variablen, die als Konstanten verwendet werden sollen, in Großbuchstaben zu schreiben, um sie von normalen Variablen zu unterscheiden. Sowohl Konstanten als auch Variablen haben einen Datentyp, der angibt, welche Art von Wert sie speichern können.\n",
    "\n",
    "<div class=\"alert alert-block alert-success\">\n",
    "    <b>📘 Definition: Datentyp</b><br/>\n",
    "    Der Datentyp einer Variable bestimmt den Typ des Wertes, der in der Variable gespeichert ist und welche Operationen auf diesem ausgeführt werden können. Z.B. ob es sich um eine Zahl, einen Text oder eine Liste handelt.\n",
    "</div>"
   ]
  },
  {
   "cell_type": "markdown",
   "metadata": {
    "editable": true,
    "slideshow": {
     "slide_type": "skip"
    },
    "tags": []
   },
   "source": [
    "Der Datentyp einer Variable wird in Python automatisch bestimmt, wenn der Wert zugewiesen wird. Deshalb nennt man Python auch eine *dynamisch typisierte* Sprache. Das heißt, dass wir den Datentypen einer Variable nicht vorher festlegen müssen, sondern er dynamisch durch Zuweisung eines Wertes zur Variable festgelegt wird.  In anderen Programmiersprachen muss der Datentyp einer Variable oft explizit deklariert werden, bevor der Wert zugewiesen wird. Diese nennt man auch *statisch typisierte* Sprachen. Sie gelten als sicherer und fehlerfreier, da der Datentyp einer Variable bereits zur Compile-Zeit überprüft wird. \n",
    "\n",
    "Eine Zuweisung geschieht durch den '=' Operator auf dessen linker Seite immer der Variablenname steht und rechts der Wert, der zugewiesen werden soll. In Python können Variablen beliebige Namen haben, solange sie den Regeln für Bezeichner entsprechen. Ein Bezeichner darf nur Buchstaben, Ziffern und Unterstriche enthalten, darf nicht mit einer Ziffer beginnen und darf keine reservierten Schlüsselwörter der Programmiersprache verwenden."
   ]
  },
  {
   "cell_type": "code",
   "execution_count": null,
   "metadata": {
    "editable": true,
    "slideshow": {
     "slide_type": "skip"
    },
    "tags": []
   },
   "outputs": [],
   "source": [
    "nummer = 1  # variablenname = wert"
   ]
  },
  {
   "cell_type": "markdown",
   "metadata": {
    "editable": true,
    "slideshow": {
     "slide_type": "skip"
    },
    "tags": []
   },
   "source": [
    "Der Wert einer Variable kann mit `print(variablenname)` angezeigt werden"
   ]
  },
  {
   "cell_type": "code",
   "execution_count": null,
   "metadata": {
    "editable": true,
    "slideshow": {
     "slide_type": "skip"
    },
    "tags": []
   },
   "outputs": [],
   "source": [
    "print(nummer)"
   ]
  },
  {
   "cell_type": "markdown",
   "metadata": {
    "editable": true,
    "slideshow": {
     "slide_type": "skip"
    },
    "tags": []
   },
   "source": [
    "In einem Notebook, wie diesem, wird automatisch auf die letzte Code-Zeile in einem Code-Block ein `print()` angewendet. Also können wir auch schreiben"
   ]
  },
  {
   "cell_type": "code",
   "execution_count": null,
   "metadata": {
    "editable": true,
    "slideshow": {
     "slide_type": "skip"
    },
    "tags": []
   },
   "outputs": [],
   "source": [
    "nummer"
   ]
  },
  {
   "cell_type": "markdown",
   "metadata": {
    "editable": true,
    "slideshow": {
     "slide_type": "skip"
    },
    "tags": []
   },
   "source": [
    "Grundsätzlich sollte man bei der Benennung von Variablen darauf achten, dass sie aussagekräftig sind und den Inhalt der Variable beschreiben. Das erleichtert das Verständnis des Codes und die Wartung des Programms. Es gibt hierbei einige Regeln\n",
    "\n",
    "* Verwenden Sie Namen, die die Bedeutung und den Inhalt der Variablen klar vermitteln.\n",
    "* Vermeiden Sie übermäßig generische Namen wie \"Daten\" oder \"v\".\n",
    "* Halten Sie die Namenskonventionen in Ihrem Code konsistent.\n",
    "* Verwenden Sie Kleinbuchstaben mit Unterstrichen (_) zur Trennung von Wörtern (Snake Case), z.B. `meine_variable`.\n",
    "* Vermeiden Sie Sonderzeichen wie ä, ö, ü, ß da diese in der Zeichenkodierung Probleme verursachen können.\n",
    "* Verwenden Sie keine reservierten Schlüsselwörter der Programmiersprache als Variablennamen (z.B. `if`, `for`, `while`).\n",
    "* Vermeiden Sie Abkürzungen oder Akronyme, es sei denn, sie sind allgemein verständlich (z.B. \"BIP\").\n",
    "* Streben Sie nach einem Gleichgewicht zwischen Klarheit und Kürze."
   ]
  },
  {
   "cell_type": "markdown",
   "metadata": {
    "editable": true,
    "slideshow": {
     "slide_type": "skip"
    },
    "tags": []
   },
   "source": [
    "Hier sind einige Beispiele für gute und schlechte Variablennamen:\n",
    "\n",
    "Gut          | Schlecht | Beschreibung\n",
    "-------------|----------|-----------------------------------------------\n",
    "age          | a        | Steht eindeutig für das Alter einer Person.\n",
    "first_name   | fn       | Beschreibt eindeutig den Vornamen.\n",
    "birth_year   | by       | Eindeutig und verständlich für das Geburtsjahr.\n",
    "email_address| email    | Verdeutlicht, dass es sich um eine E-Mail-Adresse handelt.\n",
    "is_on        | on       | `is_` zeigt, dass es sich um einen Wahrheitswert handelt.\n",
    "product_list | products | Macht deutlich, dass es sich um eine Liste handelt.\n",
    "score_total  | score    | Zeigt, dass es sich um die Gesamtsumme handelt.\n",
    "user_count   | count    | Gibt an, dass es sich um die Anzahl der Nutzer handelt."
   ]
  },
  {
   "cell_type": "markdown",
   "metadata": {
    "editable": true,
    "slideshow": {
     "slide_type": "skip"
    },
    "tags": []
   },
   "source": [
    "## Datentypen"
   ]
  },
  {
   "cell_type": "markdown",
   "metadata": {
    "editable": true,
    "slideshow": {
     "slide_type": "skip"
    },
    "tags": []
   },
   "source": [
    "Es gibt verschiedene Datentypen, die in Python und in Programmiersprachen allgemein verwendet werden können. Man unterscheidet einfache und zusammengesetzte Datentypen. Einfache Datentypen (Primitive Datentypen) können nur einen Wert des entsprechenden Wertebereichs aufnehmen. Zusammengesetzte Datentypen (Komplexe Datentypen) sind ein Datenkonstrukt, welches aus einfacheren Datentypen besteht. Da sie theoretisch beliebig komplex werden können, werden sie auch häufig schon zu den Datenstrukturen gezählt.\n",
    "\n",
    "![](images/02c_Datentypen/datentyp1.svg){width=250px}"
   ]
  },
  {
   "cell_type": "markdown",
   "metadata": {
    "editable": true,
    "slideshow": {
     "slide_type": "skip"
    },
    "tags": []
   },
   "source": [
    "Der Datentyp einer Variable wird mit `type(variablenname)` bestimmt und mit `print(type(variablenname))` ausgegeben."
   ]
  },
  {
   "cell_type": "code",
   "execution_count": null,
   "metadata": {
    "editable": true,
    "slideshow": {
     "slide_type": "skip"
    },
    "tags": []
   },
   "outputs": [],
   "source": [
    "print(type(nummer)) # in einem program nutzt man die print() funktion um eine ausgabe zu erzeugen"
   ]
  },
  {
   "cell_type": "markdown",
   "metadata": {
    "editable": true,
    "slideshow": {
     "slide_type": "skip"
    },
    "tags": []
   },
   "source": [
    "Da Python eine dynamisch typisierte Sprache ist, können wir den Datentyp einer Variable durch eine neue Zuweisung einfach ändern."
   ]
  },
  {
   "cell_type": "code",
   "execution_count": null,
   "metadata": {
    "editable": true,
    "slideshow": {
     "slide_type": "skip"
    },
    "tags": []
   },
   "outputs": [],
   "source": [
    "nummer = 2     # die Variable nummer hat jetzt den Wert 2, was immer noch numerisch ist\n",
    "print(\"Wert: \", nummer, \"\\nDatentyp: \", type(nummer))"
   ]
  },
  {
   "cell_type": "code",
   "execution_count": null,
   "metadata": {
    "editable": true,
    "slideshow": {
     "slide_type": "skip"
    },
    "tags": []
   },
   "outputs": [],
   "source": [
    "nummer = \"text\" # text ist kein numerischer Wert sondern ein Text-String\n",
    "print(\"Wert: \", nummer, \"\\nDatentyp: \", type(nummer))"
   ]
  },
  {
   "cell_type": "markdown",
   "metadata": {
    "editable": true,
    "slideshow": {
     "slide_type": "skip"
    },
    "tags": []
   },
   "source": [
    "### Numerische Datentypen"
   ]
  },
  {
   "cell_type": "markdown",
   "metadata": {
    "editable": true,
    "slideshow": {
     "slide_type": "skip"
    },
    "tags": []
   },
   "source": [
    "Numerische Datentypen sind Datentypen, die zur Darstellung und Verarbeitung von Zahlen verwendet werden. Sie bilden die Grundlage für mathematische Berechnungen in Programmiersprachen. Zu den numerischen Datentypen zählen ganze Zahlen (Integer), Gleitkommazahlen (Float) und komplexe Zahlen.\n",
    "\n",
    "- **Ganze Zahlen (Integer):** Sie repräsentieren Zahlen ohne Nachkommastellen, sowohl positive als auch negative Werte. In vielen Programmiersprachen gibt es verschiedene Varianten, die sich durch ihre Speicherkapazität unterscheiden, wie z.B. Short, Int oder Long.\n",
    "\n",
    "- **Gleitkommazahlen (Float):** Diese Datentypen werden verwendet, um Zahlen mit Dezimalstellen darzustellen. Sie ermöglichen die Darstellung von Brüchen und sehr großen oder sehr kleinen Zahlen durch eine wissenschaftliche Notation.\n",
    "\n",
    "Die genaue Bezeichnung und Größe der numerischen Datentypen kann je nach Programmiersprache variieren. In Python werden numerische Werte automatisch dem passenden Typ zugeordnet, ohne dass der Programmierer die Größe oder das Vorzeichen explizit angeben muss.\n",
    "\n",
    "![](images/02c_Datentypen/datentyp2.svg){width=500px}"
   ]
  },
  {
   "cell_type": "markdown",
   "metadata": {
    "editable": true,
    "slideshow": {
     "slide_type": "skip"
    },
    "tags": []
   },
   "source": [
    "Python unterscheidet intern nur zwischen `int` (Integer) und `float` (Gleitkommazahl). Es gibt keine speziellen Datentypen für Short, Long oder Double wie in anderen Programmiersprachen. Der Vorteil von Python als dynamisch typisierte Programmiersprache ist, dass Python intern die passende Repräsentation wählt. Man kann also z.B. auch problemlos sehr lange Integer Werte speichern, welche in den meisten typisierten Sprachen nicht verarbeitet werden könnten, da die Zahl zu groß ist. Dies ist insbesondere bei Berechnungen mit sehr großen Zahlen (wie Multiplikation) sehr hilfreich, da dabei keine Überläufe passieren können, wenn die Ergebnisse den Zahlenbereich überschreiten."
   ]
  },
  {
   "cell_type": "code",
   "execution_count": null,
   "metadata": {
    "editable": true,
    "slideshow": {
     "slide_type": "skip"
    },
    "tags": []
   },
   "outputs": [],
   "source": [
    "nummer = 3.14  # die Variable nummer hat jetzt den Wert 3.14, was eine Gleitkommazahl ist\n",
    "print(\"Wert: \", nummer, \"\\nDatentyp: \", type(nummer))"
   ]
  },
  {
   "cell_type": "code",
   "execution_count": null,
   "metadata": {
    "editable": true,
    "scrolled": true,
    "slideshow": {
     "slide_type": "skip"
    },
    "tags": []
   },
   "outputs": [],
   "source": [
    "nummer = 1232321361278362746384633213232142142131231312323123212132313231332132312 # die Variable nummer hat jetzt einen sehr langen Integer Wert\n",
    "print(\"Wert: \", nummer, \"\\nDatentyp: \", type(nummer))"
   ]
  },
  {
   "cell_type": "markdown",
   "metadata": {
    "editable": true,
    "slideshow": {
     "slide_type": "skip"
    },
    "tags": []
   },
   "source": [
    "### Boolesche Datentypen"
   ]
  },
  {
   "cell_type": "markdown",
   "metadata": {
    "editable": true,
    "slideshow": {
     "slide_type": "skip"
    },
    "tags": []
   },
   "source": [
    "In allen Programmiersprachen gibt es boolesche Datentypen, um Wahrheitswerte auszudrücken und logische Operationen auszuführen.\n",
    "\n",
    "\n",
    "![](images/02c_Datentypen/datentyp4.svg){width=450px}"
   ]
  },
  {
   "cell_type": "markdown",
   "metadata": {
    "editable": true,
    "slideshow": {
     "slide_type": "skip"
    },
    "tags": []
   },
   "source": [
    "\n",
    "In Python gibt es den Datentyp `bool` und die Wahrheitswerte `True` und `False` für Wahr und Falsch. Zu beachten ist hierbei die Großschreibung des Anfangsbuchstaben, da diese zwischen den Programmierspachen sehr stark variieren kann."
   ]
  },
  {
   "cell_type": "code",
   "execution_count": null,
   "metadata": {
    "editable": true,
    "slideshow": {
     "slide_type": "skip"
    },
    "tags": []
   },
   "outputs": [],
   "source": [
    "richtigoderfalsch = True\n",
    "print(\"Wert: \", richtigoderfalsch, \"\\nDatentyp: \", type(richtigoderfalsch))"
   ]
  },
  {
   "cell_type": "markdown",
   "metadata": {
    "editable": true,
    "slideshow": {
     "slide_type": "skip"
    },
    "tags": []
   },
   "source": [
    "Die Variable `richtigoderfalsch` hat den Datentypen `bool`."
   ]
  },
  {
   "cell_type": "markdown",
   "metadata": {
    "editable": true,
    "slideshow": {
     "slide_type": "skip"
    },
    "tags": []
   },
   "source": [
    "Die komplette Großchreibung oder Kleinschreibung des Wahrheitswertes `True` ist z.B. nicht erlaubt."
   ]
  },
  {
   "cell_type": "code",
   "execution_count": null,
   "metadata": {
    "editable": true,
    "slideshow": {
     "slide_type": "skip"
    },
    "tags": [
     "raises-exception"
    ]
   },
   "outputs": [],
   "source": [
    "richtigoderfalsch = TRUE"
   ]
  },
  {
   "cell_type": "markdown",
   "metadata": {
    "editable": true,
    "slideshow": {
     "slide_type": "skip"
    },
    "tags": []
   },
   "source": [
    "Bei einem Fehler wird der Code nicht ausgeführt also hat sich auch der Wert der Variable nicht geändert"
   ]
  },
  {
   "cell_type": "code",
   "execution_count": null,
   "metadata": {
    "editable": true,
    "slideshow": {
     "slide_type": "skip"
    },
    "tags": []
   },
   "outputs": [],
   "source": [
    "print(richtigoderfalsch)"
   ]
  },
  {
   "cell_type": "markdown",
   "metadata": {
    "editable": true,
    "slideshow": {
     "slide_type": "skip"
    },
    "tags": []
   },
   "source": [
    "### Textuelle Datentypen"
   ]
  },
  {
   "cell_type": "markdown",
   "metadata": {
    "editable": true,
    "slideshow": {
     "slide_type": "skip"
    },
    "tags": []
   },
   "source": [
    "Textuelle Datentypen werden verwendet, um Buchstaben und Zeichenfolgen darzustellen. Ein einzelnes Zeichen wird als Char bezeichnet, während eine Folge von mehreren Zeichen als String bezeichnet wird. Strings können auch als zusammengesetzte Datentypen betrachtet werden, da sie aus mehreren Zeichen bestehen.\n",
    "\n",
    "![](images/02c_Datentypen/datentyp6.svg){width=450px}"
   ]
  },
  {
   "cell_type": "markdown",
   "metadata": {
    "editable": true,
    "slideshow": {
     "slide_type": "skip"
    },
    "tags": []
   },
   "source": [
    "Python unterscheidet zwischen Char und Strings nicht. Für beide gibt es den Datentyp `str`. Ein String ist eine Zeichenkette, die aus einer beliebigen Anzahl von Zeichen besteht. Strings werden in Python in Anführungszeichen gesetzt, entweder in einfachen (`'`) oder in doppelten (`\"`) Anführungszeichen."
   ]
  },
  {
   "cell_type": "code",
   "execution_count": null,
   "metadata": {
    "editable": true,
    "slideshow": {
     "slide_type": "skip"
    },
    "tags": []
   },
   "outputs": [],
   "source": [
    "zeichen = 'a'\n",
    "print(\"Wert: \", zeichen, \"\\nDatentyp: \", type(zeichen))"
   ]
  },
  {
   "cell_type": "code",
   "execution_count": null,
   "metadata": {
    "editable": true,
    "slideshow": {
     "slide_type": "skip"
    },
    "tags": []
   },
   "outputs": [],
   "source": [
    "zeichenkette = 'hallo welt'\n",
    "print(\"Wert: \", zeichenkette, \"\\nDatentyp: \", type(zeichenkette))"
   ]
  },
  {
   "cell_type": "markdown",
   "metadata": {
    "editable": true,
    "slideshow": {
     "slide_type": "skip"
    },
    "tags": []
   },
   "source": [
    "Python unterscheidet diese Datentypen nicht und nutzt für beide den Datentyp `str`."
   ]
  },
  {
   "cell_type": "markdown",
   "metadata": {
    "editable": true,
    "slideshow": {
     "slide_type": "skip"
    },
    "tags": []
   },
   "source": [
    "Das Zeichen ist in Python einfach ein `str` mit der Länge 1. Wir bestimmen die Länge mit der `len()` Funktion."
   ]
  },
  {
   "cell_type": "code",
   "execution_count": null,
   "metadata": {
    "editable": true,
    "slideshow": {
     "slide_type": "skip"
    },
    "tags": []
   },
   "outputs": [],
   "source": [
    "print(len(zeichen))"
   ]
  },
  {
   "cell_type": "code",
   "execution_count": null,
   "metadata": {
    "editable": true,
    "slideshow": {
     "slide_type": "skip"
    },
    "tags": []
   },
   "outputs": [],
   "source": [
    "print(len(zeichenkette))"
   ]
  },
  {
   "cell_type": "markdown",
   "metadata": {
    "editable": true,
    "slideshow": {
     "slide_type": "skip"
    },
    "tags": []
   },
   "source": [
    "In Python kann eine Zeichenkette (String) im Code mit einfachen `'` oder doppelten `\"` Anführungszeichen geschrieben werden. Je nach dem welches Anführungszeichen muss die Zeichenkette auch mit dem gleichen Anführungszeichen beendet werden. Dies hat den Vorteil, dass sich verschachtelte Anführungszeichen nicht extra kodiert (escaped) werden müssen."
   ]
  },
  {
   "cell_type": "code",
   "execution_count": null,
   "metadata": {
    "editable": true,
    "slideshow": {
     "slide_type": "skip"
    },
    "tags": []
   },
   "outputs": [],
   "source": [
    "zeichenkette = \"hallo 'welt'\"\n",
    "print(\"Wert: \", zeichenkette, \"\\nDatentyp: \", type(zeichenkette))"
   ]
  },
  {
   "cell_type": "markdown",
   "metadata": {
    "editable": true,
    "slideshow": {
     "slide_type": "skip"
    },
    "tags": []
   },
   "source": [
    "Sollte eine Kodierung (Escaping) notwendig sein, so geschieht sie in Python mit `\\`. Also geht die alternative Schreibweise "
   ]
  },
  {
   "cell_type": "code",
   "execution_count": null,
   "metadata": {
    "editable": true,
    "slideshow": {
     "slide_type": "skip"
    },
    "tags": []
   },
   "outputs": [],
   "source": [
    "zeichenkette = 'hallo \\'welt\\''\n",
    "print(\"Wert: \", zeichenkette, \"\\nDatentyp: \", type(zeichenkette))"
   ]
  },
  {
   "cell_type": "markdown",
   "metadata": {
    "editable": true,
    "slideshow": {
     "slide_type": "skip"
    },
    "tags": []
   },
   "source": [
    "Python hat auch einige besonders einfache Syntaxzucker. Zum Beispiel kann man Formatierte Zeichenketten einfach erzeugen, indem wir ein `f` vor die Zeichenkette schreiben. In dem String kann man dann direkt Variablenwerte schreiben mit `{variablenname}` die dann in der Zeichenketten vor Ausgabe ersetzt werden."
   ]
  },
  {
   "cell_type": "code",
   "execution_count": null,
   "metadata": {
    "editable": true,
    "slideshow": {
     "slide_type": "skip"
    },
    "tags": []
   },
   "outputs": [],
   "source": [
    "zeichenkette = f\"der wert von nummer ist '{nummer}'\"\n",
    "print(\"Wert: \", zeichenkette, \"\\nDatentyp: \", type(zeichenkette))"
   ]
  },
  {
   "cell_type": "markdown",
   "metadata": {
    "editable": true,
    "slideshow": {
     "slide_type": "skip"
    },
    "tags": []
   },
   "source": [
    "### Binäre Datentypen"
   ]
  },
  {
   "cell_type": "markdown",
   "metadata": {
    "editable": true,
    "slideshow": {
     "slide_type": "skip"
    },
    "tags": []
   },
   "source": [
    "Im Computer werden alle Daten *binär* gespeichert, also als eine Folge von 0 und 1. Hierfür gibt es in Programmiersprachen spezifische binäre Datentypen, die es ermöglichen, Daten in dieser Form zu repräsentieren, ohne sie in andere Formate umzuwandeln (z.B. Text, Nummern, Bool). Binäre Datentypen können damit beliebige Zeichen repräsentieren. Sie kommen häufig vor, um komplexe Dateien wie Bilder, Videos oder CAD-Dateien zu speichern.\n",
    "\n",
    "Da sie an sich nur eine Zeichenkette sind, können sie auch als String interpretiert werden. Deshalb kann man sie Python erzeugen, indem man vor einem String `b` schreibt. Das erzeugt einen binären String (auch Bytearray), dessen Datentyp in Python ist `bytes`."
   ]
  },
  {
   "cell_type": "code",
   "execution_count": null,
   "metadata": {
    "editable": true,
    "slideshow": {
     "slide_type": "skip"
    },
    "tags": []
   },
   "outputs": [],
   "source": [
    "wort = b\"byte\"\n",
    "print(\"Wert: \", wort, \"\\nDatentyp: \", type(wort))"
   ]
  },
  {
   "cell_type": "markdown",
   "metadata": {
    "editable": true,
    "slideshow": {
     "slide_type": "skip"
    },
    "tags": []
   },
   "source": [
    "Der Wert eines einzelnen `Byte` in dem Bytearray ist normalerweise eine natürliche Zahl von 0 bis 255. In Python wird hierfür ein ´int´ benutzt. Das lässt sich zeigen, indem man auf den Index eines einzelnen Bytes in dem Bytearray zugreift. "
   ]
  },
  {
   "cell_type": "code",
   "execution_count": null,
   "metadata": {
    "editable": true,
    "slideshow": {
     "slide_type": "skip"
    },
    "tags": []
   },
   "outputs": [],
   "source": [
    "print(\"Wert: \", wort[0], \"\\nDatentyp: \", type(wort[0]))"
   ]
  },
  {
   "cell_type": "markdown",
   "metadata": {
    "editable": true,
    "slideshow": {
     "slide_type": "skip"
    },
    "tags": []
   },
   "source": [
    "### Sequenzen"
   ]
  },
  {
   "cell_type": "markdown",
   "metadata": {
    "editable": true,
    "slideshow": {
     "slide_type": "skip"
    },
    "tags": []
   },
   "source": [
    "Sequenzen sind eine geordnete Abfolge an Werten. Sequenzen werden in Programmiersprachen meist als `Array` bezeichnet. `Array` haben oft eine feste, unveränderliche Länge und nur Werte von einem Datentyp, der bei der Erzeugung definiert wird. Die Werte in dem Array sind allerdings veränderlich.\n",
    "\n",
    "Listen sind ein weiterer typischer Datentyp für Sequenzen. Listen haben oft keine feste Länge und können beliebig erweitert werden.\n",
    "\n",
    "![](images/02c_Datentypen/datentyp10.svg){width=450px}"
   ]
  },
  {
   "cell_type": "markdown",
   "metadata": {
    "editable": true,
    "slideshow": {
     "slide_type": "skip"
    },
    "tags": []
   },
   "source": [
    "\n",
    "Python unterstützt den Datentyp `Array` nicht, sondern nur Listen (`list`) und Tupel (`tuple`). Beide können unterschiedliche Datentypen enthalten. `list` werden durch eckige Klammern deklariert, mit den einzelnen Werten die durch Komma getrennt werden. Diese Werte können unterschiedliche Datentypen haben."
   ]
  },
  {
   "cell_type": "code",
   "execution_count": null,
   "metadata": {
    "editable": true,
    "slideshow": {
     "slide_type": "skip"
    },
    "tags": []
   },
   "outputs": [],
   "source": [
    "liste = [1, 2, 3, \"a\", True]\n",
    "print(\"Wert: \", liste, \"\\nDatentyp: \", type(liste))"
   ]
  },
  {
   "cell_type": "markdown",
   "metadata": {
    "editable": true,
    "slideshow": {
     "slide_type": "skip"
    },
    "tags": []
   },
   "source": [
    "Einzelne Werte in einer Liste können überschrieben werden. Dazu kann man auf einzelne Indexe in der Liste zugreifen."
   ]
  },
  {
   "cell_type": "code",
   "execution_count": null,
   "metadata": {
    "editable": true,
    "slideshow": {
     "slide_type": "skip"
    },
    "tags": []
   },
   "outputs": [],
   "source": [
    "liste[1] = \"anders\"\n",
    "print(\"Wert: \", liste)"
   ]
  },
  {
   "cell_type": "markdown",
   "metadata": {
    "editable": true,
    "slideshow": {
     "slide_type": "skip"
    },
    "tags": []
   },
   "source": [
    "Listen können modifiziert werden und dadurch ihre Länge ändern (weshalb sie keine Arrays sind). Um ein neuen Wert an die Liste anzuhängen kann die `append()`-Funktion der Liste genutzt werden."
   ]
  },
  {
   "cell_type": "code",
   "execution_count": null,
   "metadata": {
    "editable": true,
    "slideshow": {
     "slide_type": "skip"
    },
    "tags": []
   },
   "outputs": [],
   "source": [
    "liste.append(False)\n",
    "print(\"Wert: \", liste)"
   ]
  },
  {
   "cell_type": "markdown",
   "metadata": {
    "editable": true,
    "slideshow": {
     "slide_type": "skip"
    },
    "tags": []
   },
   "source": [
    "Die Länge der Liste kann mit der Funktion `len()` bestimmen."
   ]
  },
  {
   "cell_type": "code",
   "execution_count": null,
   "metadata": {
    "editable": true,
    "slideshow": {
     "slide_type": "skip"
    },
    "tags": []
   },
   "outputs": [],
   "source": [
    "print(len(liste))"
   ]
  },
  {
   "cell_type": "markdown",
   "metadata": {
    "editable": true,
    "slideshow": {
     "slide_type": "skip"
    },
    "tags": []
   },
   "source": [
    "`tuple` haben im Vergleich zu Listen eine feste Länge in Python. Da sie unterschiedliche Datentypen enthalten können, sind sie auch keine Arrays.\n"
   ]
  },
  {
   "cell_type": "code",
   "execution_count": null,
   "metadata": {
    "editable": true,
    "slideshow": {
     "slide_type": "skip"
    },
    "tags": []
   },
   "outputs": [],
   "source": [
    "tuple = (1,2,3,\"a\", True)\n",
    "print(\"Wert: \", tuple, \"\\nDatentyp: \", type(tuple))"
   ]
  },
  {
   "cell_type": "markdown",
   "metadata": {
    "editable": true,
    "slideshow": {
     "slide_type": "skip"
    },
    "tags": []
   },
   "source": [
    "`tuple` sind im Gegensatz zu Listen unveränderlich (*immutable*)."
   ]
  },
  {
   "cell_type": "code",
   "execution_count": null,
   "metadata": {
    "editable": true,
    "slideshow": {
     "slide_type": "skip"
    },
    "tags": [
     "raises-exception"
    ]
   },
   "outputs": [],
   "source": [
    "tuple[0]=True\n",
    "print(tuple)"
   ]
  },
  {
   "cell_type": "markdown",
   "metadata": {
    "editable": true,
    "slideshow": {
     "slide_type": "skip"
    },
    "tags": []
   },
   "source": [
    "Zusätzlich gibt es den besonderen Datentyp `range` um Sequenz von ganzen Zahlen zu erzeugen. Sie werden mit der Funktion `range` erzeugt."
   ]
  },
  {
   "cell_type": "code",
   "execution_count": null,
   "metadata": {
    "editable": true,
    "slideshow": {
     "slide_type": "skip"
    },
    "tags": []
   },
   "outputs": [],
   "source": [
    "zahlenfolge = range(1,10)\n",
    "print(\"Wert: \", zahlenfolge, \"\\nDatentyp: \", type(zahlenfolge))"
   ]
  },
  {
   "cell_type": "markdown",
   "metadata": {
    "editable": true,
    "slideshow": {
     "slide_type": "skip"
    },
    "tags": []
   },
   "source": [
    "Um auf ein Element zuzugreifen wird die Elementzahl in eine eckige Klammer geschrieben. In Python wird der Index in einer Liste ab 0 gezählt (ab 1 in einigen Programmiersprachen)."
   ]
  },
  {
   "cell_type": "code",
   "execution_count": null,
   "metadata": {
    "editable": true,
    "slideshow": {
     "slide_type": "skip"
    },
    "tags": []
   },
   "outputs": [],
   "source": [
    "print( liste[0] ) # gibt das erste Element aus\n",
    "print( liste[1] ) # printed das zweite Element aus"
   ]
  },
  {
   "cell_type": "markdown",
   "metadata": {
    "editable": true,
    "slideshow": {
     "slide_type": "skip"
    },
    "tags": []
   },
   "source": [
    "Eine Besonderheit in Python ist, dass auch negative Indizes erlaubt sind um das Ende von Listen zuzugreifen (sowas nennt man unter Programmierern *Syntaxzucker*)."
   ]
  },
  {
   "cell_type": "code",
   "execution_count": null,
   "metadata": {
    "editable": true,
    "slideshow": {
     "slide_type": "skip"
    },
    "tags": []
   },
   "outputs": [],
   "source": [
    "print( liste[-1] )             # gibt das letzte Element aus\n",
    "print( liste[len(liste)-1] )   # wäre die übliche umständliche Variante das letze Elemente auszugeben über die Länge len(x)"
   ]
  },
  {
   "cell_type": "markdown",
   "metadata": {
    "editable": true,
    "slideshow": {
     "slide_type": "skip"
    },
    "tags": []
   },
   "source": [
    "In Python kann auch auf Listenteile zugegriffen werden durch Slicing. Das kann man nutzen, um Teillisten zu erzeugen."
   ]
  },
  {
   "cell_type": "code",
   "execution_count": null,
   "metadata": {
    "editable": true,
    "slideshow": {
     "slide_type": "skip"
    },
    "tags": []
   },
   "outputs": [],
   "source": [
    "print(liste[0:10]) # greift auf die ersten zehn Element zu (ohne 10)\n",
    "print(liste[:10])  # greift auch auf die ersten zehn Element zu (ohne 10)\n",
    "print(liste[-10:]) # greift auf die letzten zehn Element zu"
   ]
  },
  {
   "cell_type": "markdown",
   "metadata": {
    "editable": true,
    "slideshow": {
     "slide_type": "skip"
    },
    "tags": []
   },
   "source": [
    "### Mengen"
   ]
  },
  {
   "cell_type": "markdown",
   "metadata": {
    "editable": true,
    "slideshow": {
     "slide_type": "skip"
    },
    "tags": []
   },
   "source": [
    "Mengen stellen eine Gruppe an Werten ohne Wiederholungen dar, so wie in der Mathematik.\n",
    "\n",
    "![](images/02c_Datentypen/datentyp11.svg){width=450px}"
   ]
  },
  {
   "cell_type": "markdown",
   "metadata": {
    "editable": true,
    "slideshow": {
     "slide_type": "skip"
    },
    "tags": []
   },
   "source": [
    "Der Datentyp für Mengen in Python heißt `set`. Sie werden durch geschweifte Klammern deklariert."
   ]
  },
  {
   "cell_type": "code",
   "execution_count": null,
   "metadata": {
    "editable": true,
    "slideshow": {
     "slide_type": "skip"
    },
    "tags": []
   },
   "outputs": [],
   "source": [
    "menge = {1, 2, 3}\n",
    "print(menge)\n",
    "print(type(menge))"
   ]
  },
  {
   "cell_type": "markdown",
   "metadata": {
    "editable": true,
    "slideshow": {
     "slide_type": "skip"
    },
    "tags": []
   },
   "source": [
    "Mengen kann man gut nutzen, um z.B. alle einzigartigen Werte in einer Liste mit Wiederholungen zu finden wie aus einer Namensliste. "
   ]
  },
  {
   "cell_type": "code",
   "execution_count": null,
   "metadata": {
    "editable": true,
    "slideshow": {
     "slide_type": "skip"
    },
    "tags": []
   },
   "outputs": [],
   "source": [
    "listemitwiederholung = list([1,2,2,2,2,2,3])\n",
    "menge = set(listemitwiederholung)\n",
    "print(\"Wert: \", menge, \"\\nDatentyp: \", type(menge))"
   ]
  },
  {
   "cell_type": "markdown",
   "metadata": {
    "editable": true,
    "slideshow": {
     "slide_type": "skip"
    },
    "tags": []
   },
   "source": [
    "Ein andere wichtige Anwendung von Sets ist, um zu prüfen ob ein Element in dem Set ist. Dies kann man mit dem Schlüsselwort `in` machen"
   ]
  },
  {
   "cell_type": "code",
   "execution_count": null,
   "metadata": {
    "editable": true,
    "slideshow": {
     "slide_type": "skip"
    },
    "tags": []
   },
   "outputs": [],
   "source": [
    "1 in menge"
   ]
  },
  {
   "cell_type": "markdown",
   "metadata": {
    "editable": true,
    "slideshow": {
     "slide_type": "skip"
    },
    "tags": []
   },
   "source": [
    "Das geht genauso bei der Liste ist allerdings langsamer, insbesondere wenn die Liste sehr groß ist (>> 1000 Länge)."
   ]
  },
  {
   "cell_type": "code",
   "execution_count": null,
   "metadata": {
    "editable": true,
    "slideshow": {
     "slide_type": "skip"
    },
    "tags": []
   },
   "outputs": [],
   "source": [
    "1 in listemitwiederholung"
   ]
  },
  {
   "cell_type": "markdown",
   "metadata": {
    "editable": true,
    "slideshow": {
     "slide_type": "skip"
    },
    "tags": []
   },
   "source": [
    "### Wörterbücher"
   ]
  },
  {
   "cell_type": "markdown",
   "metadata": {
    "editable": true,
    "slideshow": {
     "slide_type": "skip"
    },
    "tags": []
   },
   "source": [
    "Wörterbücher werden in vielen Programmiersprachen genutzt, um Schlüssel-Wert-Paare zu verwalten, wie zum Beispiel die Eigenschaften und ihre Werte eines Datenobjektes.\n",
    "Wörterbücher bilden mathematisch eine Abbildung von einer Menge an Schlüsseln auf eine Menge an Werte dar (Key-Value). Die Menge der Schlüssel darf keine Wiederholung aufweisen, die Menge der Werte schon.\n",
    "\n",
    "![](images/02c_Datentypen/datentyp11.svg){width=450px}"
   ]
  },
  {
   "cell_type": "markdown",
   "metadata": {
    "editable": true,
    "slideshow": {
     "slide_type": "skip"
    },
    "tags": []
   },
   "source": [
    "\n",
    "Wörterbücher werden in den meisten Programmiersprachen als Map (von engl. Mapping = Abbildung) bezeichnet. In Python werden sie als `dict` bezeichnet. Sie werden durch geschweifte Klammern und Schlüssel/Wert-Paaren definiert."
   ]
  },
  {
   "cell_type": "code",
   "execution_count": null,
   "metadata": {
    "editable": true,
    "slideshow": {
     "slide_type": "skip"
    },
    "tags": []
   },
   "outputs": [],
   "source": [
    "haus = {\n",
    "  \"Gebäudetyp\": \"Wohnhaus\", \t\n",
    "  \"Baujahr\": 2022\n",
    "}\n",
    "print(\"Wert: \", haus, \"\\nDatentyp: \", type(haus))"
   ]
  },
  {
   "cell_type": "markdown",
   "metadata": {
    "editable": true,
    "slideshow": {
     "slide_type": "skip"
    },
    "tags": []
   },
   "source": [
    "Neue Werte können den Wörterbüchern hinzugefügt werden, indem man einem Schlüssel als Index einen Wert zuweist."
   ]
  },
  {
   "cell_type": "code",
   "execution_count": null,
   "metadata": {
    "editable": true,
    "slideshow": {
     "slide_type": "skip"
    },
    "tags": []
   },
   "outputs": [],
   "source": [
    "haus['Material'] = \"Stein\"\n",
    "print(\"Wert: \", haus, \"\\nDatentyp: \", type(haus))"
   ]
  },
  {
   "cell_type": "markdown",
   "metadata": {
    "editable": true,
    "slideshow": {
     "slide_type": "skip"
    },
    "tags": []
   },
   "source": [
    "Auch hier kann man testen, ob ein Element im `dict` ist."
   ]
  },
  {
   "cell_type": "code",
   "execution_count": null,
   "metadata": {
    "editable": true,
    "slideshow": {
     "slide_type": "skip"
    },
    "tags": []
   },
   "outputs": [],
   "source": [
    "'Material' in haus"
   ]
  },
  {
   "cell_type": "markdown",
   "metadata": {
    "editable": true,
    "slideshow": {
     "slide_type": "skip"
    },
    "tags": []
   },
   "source": [
    "Werte können über den Index auch gelöscht werden mit dem Schlüsselwort `del`."
   ]
  },
  {
   "cell_type": "code",
   "execution_count": null,
   "metadata": {
    "editable": true,
    "slideshow": {
     "slide_type": "skip"
    },
    "tags": []
   },
   "outputs": [],
   "source": [
    "del haus['Material']\n",
    "print(\"Wert: \", haus, \"\\nDatentyp: \", type(haus))"
   ]
  },
  {
   "cell_type": "markdown",
   "metadata": {
    "editable": true,
    "slideshow": {
     "slide_type": "skip"
    },
    "tags": []
   },
   "source": [
    "### Null-Werte"
   ]
  },
  {
   "cell_type": "markdown",
   "metadata": {
    "editable": true,
    "slideshow": {
     "slide_type": "skip"
    },
    "tags": []
   },
   "source": [
    "In vielen Programmiersprachen gibt es auch einen Wert, um einen fehlenden Wert darzustellen, z.B. wenn etwas nicht da ist. \n",
    "\n",
    "![](images/02c_Datentypen/datentyp12.svg){width=450px}\n"
   ]
  },
  {
   "cell_type": "markdown",
   "metadata": {
    "editable": true,
    "slideshow": {
     "slide_type": "skip"
    },
    "tags": []
   },
   "source": [
    "\n",
    "Der Null-Wert in Python heißt `None` und sein Datentyp ist `NoneType`."
   ]
  },
  {
   "cell_type": "code",
   "execution_count": null,
   "metadata": {
    "editable": true,
    "slideshow": {
     "slide_type": "skip"
    },
    "tags": []
   },
   "outputs": [],
   "source": [
    "noch_kein_wert = None\n",
    "print(\"Wert: \", noch_kein_wert, \"\\nDatentyp: \", type(noch_kein_wert))"
   ]
  },
  {
   "cell_type": "markdown",
   "metadata": {
    "editable": true,
    "slideshow": {
     "slide_type": "skip"
    },
    "tags": []
   },
   "source": [
    "Der `None` Wert wird oft genutzt, um zum Beispiel zu markieren, dass eine Variable zwar existiert, aber noch kein Wert zugewiesen wurde."
   ]
  },
  {
   "cell_type": "markdown",
   "metadata": {
    "editable": true,
    "slideshow": {
     "slide_type": "skip"
    },
    "tags": []
   },
   "source": [
    "<div class=\"alert alert-block alert-warning\">\n",
    "\n",
    "Der Null-Wert ist in der Informatik umstritten, da er zu Fehlern führen kann, wenn Programmiersprachen ihn sehr oft benutzen (wie Java). Einige moderne Programmiersprachen haben ihn deshalb abgeschafft. \n",
    "\n",
    "Das Problem ist, dass man nicht unterscheiden kann, ob etwas `None` - nicht definiert - oder `None` - als Null definiert - ist.\n",
    "\n",
    "Das passiert auch in Python. Die `get()` Funktion eines `dict` gibt z.B. den Wert für ein Schlüssel im Wörterbuch und `None` wenn dieser nicht vorhanden ist.\n",
    "\n",
    "</div>"
   ]
  },
  {
   "cell_type": "code",
   "execution_count": null,
   "metadata": {
    "editable": true,
    "slideshow": {
     "slide_type": "skip"
    },
    "tags": []
   },
   "outputs": [],
   "source": [
    "print(haus.get('schluessel_fehlt'))"
   ]
  },
  {
   "cell_type": "markdown",
   "metadata": {
    "editable": true,
    "slideshow": {
     "slide_type": "skip"
    },
    "tags": []
   },
   "source": [
    "Allerdings kann man auch `None` einem Wert im Dictionary zuweisen."
   ]
  },
  {
   "cell_type": "code",
   "execution_count": null,
   "metadata": {
    "editable": true,
    "slideshow": {
     "slide_type": "skip"
    },
    "tags": []
   },
   "outputs": [],
   "source": [
    "haus['ist_none'] = None\n",
    "print(haus.get('ist_none'))"
   ]
  },
  {
   "cell_type": "markdown",
   "metadata": {
    "editable": true,
    "slideshow": {
     "slide_type": "skip"
    },
    "tags": []
   },
   "source": [
    "In beiden Fällen gibt die `get()` Funktion `None` zurück und können nicht mehr direkt unterscheiden, ob der Wert nicht da ist oder mit `None` belegt ist."
   ]
  },
  {
   "cell_type": "markdown",
   "metadata": {
    "editable": true,
    "slideshow": {
     "slide_type": "skip"
    },
    "tags": []
   },
   "source": [
    "## Modifizierbarkeit (Mutability)"
   ]
  },
  {
   "cell_type": "markdown",
   "metadata": {
    "editable": true,
    "slideshow": {
     "slide_type": "skip"
    },
    "tags": []
   },
   "source": [
    "Grundsätzlich unterscheidet man in Programmiersprachen zwischen veränderlichen (*mutable*) und unveränderlichen (*immutable*) Datentypen. \n",
    "\n",
    "<div class=\"alert alert-block alert-success\">\n",
    "    <b>📘 Definition: Mutability</b><br/>\n",
    "Modifizierbarkeit beschreibt die Veränderbarkeit von Datenstrukturen.\n",
    "\n",
    "- Ist ein Datentyp *mutable* können Variablen von diesem Typ direkt verändert werden.\n",
    "- Ist er *immutable* kann man diese nur durch eine komplette Neubelegung verändern.\n",
    "</div>"
   ]
  },
  {
   "cell_type": "markdown",
   "metadata": {
    "editable": true,
    "slideshow": {
     "slide_type": "skip"
    },
    "tags": []
   },
   "source": [
    "Um Programmierfehler zu verhindern und Zugriffssicherheit (Datenschutz) zu gewährleisten, unterscheiden einige Programmiersprachen sehr strikt zwischen mutable und  immutable Datentypen.\n",
    "\n",
    "| Mutabel (änderbar) | Immutabel (nicht änderbar) |\n",
    "|--------------------|----------------------------|\n",
    "| `list`             | `tuple`                    |\n",
    "| `set`              | `frozenset`                |\n",
    "| `dict`             | `frozendict`               |\n",
    "| `bytearray`        | `bytes`                    |"
   ]
  },
  {
   "cell_type": "markdown",
   "metadata": {},
   "source": [
    "<div class=\"vslide\">\n",
    "  <div class=\"vslide-title\">\n",
    "    <p style=\"font-family: Protomolecule; font-size: 2.3em; line-height: 90%; margin: 0px auto; text-align: center; width: 100%;\"><span style=\"letter-spacing: .04rem;\">programmierung</span><br><span style=\"letter-spacing: .0rem;\">und datenbanken</span></p>\n",
    "<p class=\"author\" style=\"font-family: Protomolecule; margin: 0px auto;  text-align: center; width: 100%; font-size: 1.2em;\">Joern Ploennigs</p>\n",
    "<p class=\"subtitle\" style=\"font-family: Protomolecule; margin: 1em auto; text-align: center; width: 100%; font-size: 1.2em;\">Datentypen</p>\n",
    "  </div>\n",
    "<script>\n",
    "  function setSectionBackground(c,v){\n",
    "    let e=document.currentScript.previousElementSibling;\n",
    "    while(e&&e.tagName!=='SECTION')e=e.parentElement;\n",
    "    if(e){\n",
    "      if(c)e.setAttribute('data-background-color',c);\n",
    "      if(v){\n",
    "        e.setAttribute('data-background-video',v);\n",
    "        e.setAttribute('data-background-video-loop','true');\n",
    "        e.setAttribute('data-background-video-muted','true');\n",
    "      }\n",
    "    }\n",
    "  }\n",
    "  setSectionBackground('#000000', 'images/02c_Datentypen/mj_title.mp4');\n",
    "</script>\n",
    "<style>\n",
    ".flex-row{display:flex; gap:2rem; align-items:flex-start; justify-content:space-between;}\n",
    ".flex-row .col1{flex:1; min-width:10px}\n",
    ".flex-row .col2{flex:2; min-width:10px}\n",
    ".flex-row .col3{flex:3; min-width:10px}\n",
    ".flex-row .col4{flex:4; min-width:10px}\n",
    ".flex-row .col5{flex:5; min-width:10px}\n",
    ".flex-row .col6{flex:6; min-width:10px}\n",
    ".flex-row .col7{flex:7; min-width:10px}\n",
    ".vcent{display:flex; align-items:center; justify-content:center}\n",
    "</style>\n",
    "</div>"
   ]
  },
  {
   "cell_type": "markdown",
   "metadata": {},
   "source": [
    "## Ablauf\n",
    "\n",
    "![](images/partA_3.svg)"
   ]
  },
  {
   "cell_type": "markdown",
   "metadata": {
    "editable": true,
    "slideshow": {
     "slide_type": "slide"
    },
    "tags": [
     "remove-cell"
    ]
   },
   "source": [
    "## Variablen\n",
    "\n",
    "<div class=\"alert alert-block alert-success\">\n",
    "<b>📘 Definition: Variablen</b>\n",
    "\n",
    "Bei der Programmierung ist eine Variable ein Wert, der bei der Ausführung eines Computerprogramms auftritt und meist verändert werden kann. Eine Variable wird normalerweise im Quelltext durch einen Namen bezeichnet, hat einen Datentypen und eine Adresse im Speicher des Computers.\n",
    "</div>\n",
    "\n",
    "<div class=\"alert alert-block alert-success\">\n",
    "<b>📘 Definition: Konstante</b>\n",
    "\n",
    "Eine Konstante ist ein Wert, der nicht verändert werden kann, nachdem er einmal zugewiesen wurde.\n",
    "</div>\n"
   ]
  },
  {
   "cell_type": "markdown",
   "metadata": {
    "editable": true,
    "slideshow": {
     "slide_type": "subslide"
    },
    "tags": [
     "remove-cell"
    ]
   },
   "source": [
    "\n",
    "## Variablen in Python\n",
    "\n",
    "Variablen in Python müssen nicht explizit deklariert werden (wie in vielen anderen Programmiersprachen), sondern werden durch Zuweisungsoperator (=) einem Wert zugeordnet.\n",
    "\n",
    "Beispiel:\n",
    "```python\n",
    "a = 1  # a hat den Wert 1\n",
    "\n",
    "a = 2 # a hat nun den Wert 2\n",
    "\n",
    "a = \"test\" # a hat nun den Wert \"test\" \n",
    "```\n",
    "\n",
    "Der Typ einer Variable kann mit der Funktion type(a) abgefragt werden.\n"
   ]
  },
  {
   "cell_type": "markdown",
   "metadata": {
    "editable": true,
    "slideshow": {
     "slide_type": "subslide"
    },
    "tags": [
     "remove-cell"
    ]
   },
   "source": [
    "## Variablennamen\n",
    "\n",
    "* Verwenden Sie Namen, die die Bedeutung und den Inhalt der Variablen klar vermitteln.\n",
    "* Vermeiden Sie übermäßig generische Namen wie \"Daten\" oder \"v\".\n",
    "* Halten Sie die Namenskonventionen in Ihrem Code konsistent.\n",
    "* Verwenden Sie Kleinbuchstaben mit Unterstrichen (_) zur Trennung von Wörtern (Snake Case), z.B. `meine_variable`.\n",
    "* Vermeiden Sie Sonderzeichen wie ä, ö, ü, ß da diese in der Zeichenkodierung Probleme verursachen können.\n",
    "* Verwenden Sie keine reservierten Schlüsselwörter der Programmiersprache als Variablennamen (z.B. `if`, `for`, `while`).\n",
    "* Vermeiden Sie Abkürzungen oder Akronyme, es sei denn, sie sind allgemein verständlich (z.B. \"BIP\").\n",
    "* Streben Sie nach einem Gleichgewicht zwischen Klarheit und Kürze.\n"
   ]
  },
  {
   "cell_type": "markdown",
   "metadata": {
    "editable": true,
    "slideshow": {
     "slide_type": "subslide"
    },
    "tags": [
     "remove-cell"
    ]
   },
   "source": [
    "## Beispiele für gut und schlechte Variablennamen\n",
    "\n",
    "| Gut          | Schlecht | Beschreibung                                          |\n",
    "|--------------|----------|-------------------------------------------------------|\n",
    "| age          | a        | Steht eindeutig für das Alter einer Person.          |\n",
    "| first_name   | fn       | Beschreibt eindeutig den Vornamen.                   |\n",
    "| birth_year   | by       | Eindeutig und verständlich für das Geburtsjahr.      |\n",
    "| email_address| email    | Verdeutlicht, dass es sich um eine E-Mail-Adresse handelt. |\n",
    "| is_on        | on       | `is_` zeigt, dass es sich um einen Wahrheitswert handelt. |\n",
    "| product_list | products | Macht deutlich, dass es sich um eine Liste handelt.  |\n",
    "| score_total  | score    | Zeigt, dass es sich um die Gesamtsumme handelt.      |\n",
    "| user_count   | count    | Gibt an, dass es sich um die Anzahl der Nutzer handelt. |\n"
   ]
  },
  {
   "cell_type": "markdown",
   "metadata": {
    "editable": true,
    "slideshow": {
     "slide_type": "subslide"
    },
    "tags": [
     "remove-cell"
    ]
   },
   "source": [
    "## Datentyp\n",
    "\n",
    "<div class=\"alert alert-block alert-success\">\n",
    "<b>📘 Definition: Datentyp</b>\n",
    "\n",
    "Der Datentyp gibt die Art der Daten an, die mit ihm beschrieben werden und welche Operationen auf diesen ausgeführt werden können.\n",
    "</div>"
   ]
  },
  {
   "cell_type": "markdown",
   "metadata": {
    "editable": true,
    "slideshow": {
     "slide_type": "subslide"
    },
    "tags": [
     "remove-cell"
    ]
   },
   "source": [
    "## Datentypen - Struktur\n",
    "\n",
    "<div class=\"flex-row\">\n",
    "<div class=\"col1\">\n",
    "\n",
    "- Einfache Datentypen (Primitive Datentypen) können nur einen Wert des entsprechenden Wertebereichs aufnehmen.\n",
    "\n",
    "- Zusammengesetzte Datentypen (Komplexe Datentypen) sind ein Datenkonstrukt, das sich aus einfacheren Datentypen zusammensetzt. Da sie theoretisch beliebig komplex werden können, werden sie auch häufig schon zu den Datenstrukturen gezählt.\n",
    "\n",
    "</div>\n",
    "<div class=\"col1\">\n",
    "\n",
    "![](images/02c_Datentypen/datentyp1.svg)\n",
    "\n",
    "</div>\n",
    "</div>"
   ]
  },
  {
   "cell_type": "markdown",
   "metadata": {
    "editable": true,
    "slideshow": {
     "slide_type": "slide"
    },
    "tags": [
     "remove-cell"
    ]
   },
   "source": [
    "## Einfache Datentypen - Numerisch\n",
    "\n",
    "<div class=\"flex-row\">\n",
    "<div class=\"col1\">\n",
    "\n",
    "- Numerische Datentypen repräsentieren Zahlen.\n",
    "\n",
    "- Ganze und Natürliche Zahlen werden als signed und unsigned Integer abgebildet. Nach Speicherkapazität unterscheidet man\n",
    "    - Short Integer (8 Bit), \n",
    "    - Integer (32 Bit) und \n",
    "    - Long (64 Bit).\n",
    "\n",
    "- Reelle Zahlen werden als Gleitkommazahl \n",
    "    - Float (32 Bit) oder \n",
    "    - Double (64  Bit) abgebildet.\n",
    "\n",
    "- Diese Varianten werden in verschiedenen Programmiersprachen unterschiedlich bezeichnet.\n",
    "\n",
    "</div>\n",
    "<div class=\"col1\">\n",
    "\n",
    "![](images/02c_Datentypen/datentyp2.svg)\n",
    "\n",
    "</div>\n",
    "</div>"
   ]
  },
  {
   "cell_type": "markdown",
   "metadata": {
    "editable": true,
    "slideshow": {
     "slide_type": "subslide"
    },
    "tags": [
     "remove-cell"
    ]
   },
   "source": [
    "## Einfache Datentypen – Numerisch in Python\n",
    "\n",
    "<div class=\"flex-row\">\n",
    "<div class=\"col1\">\n",
    "\n",
    "- Ganze und Natürliche Zahlen werden in Python als Integer `int` abgebildet und nicht unterschieden.\n",
    "\n",
    "- Reelle Zahlen werden als Gleitkommazahl `float` abgebildet.\n",
    "\n",
    "- **Info**: Cython, eine typisierte Variante von Python die nach C compiliert wird (also nicht interpretiert) unterscheidet zwischen `(signed) short/int/long` Typen und `float/double` um schneller zu laufen.\n",
    "\n",
    "</div>\n",
    "<div class=\"col1\">\n",
    "\n",
    "![](images/02c_Datentypen/datentyp3.svg)\n",
    "\n",
    "</div>\n",
    "</div>"
   ]
  },
  {
   "cell_type": "markdown",
   "metadata": {
    "editable": true,
    "slideshow": {
     "slide_type": "subslide"
    },
    "tags": [
     "remove-cell"
    ]
   },
   "source": [
    "## Einfache Datentypen - Logische\n",
    "\n",
    "<div class=\"flex-row\">\n",
    "<div class=\"col1\">\n",
    "\n",
    "- Logische Datentypen repräsentieren binäre Werte wie Wahr oder Falsch.\n",
    "\n",
    "- Wahrheitswerte werden als boolesche Werte bezeichnet.\n",
    "\n",
    "</div>\n",
    "<div class=\"col1\">\n",
    "\n",
    "![](images/02c_Datentypen/datentyp4.svg)\n",
    "\n",
    "</div>\n",
    "</div>"
   ]
  },
  {
   "cell_type": "markdown",
   "metadata": {
    "editable": true,
    "slideshow": {
     "slide_type": "subslide"
    },
    "tags": [
     "remove-cell"
    ]
   },
   "source": [
    "##  Einfache Datentypen – Logische in Python\n",
    "\n",
    "<div class=\"flex-row\">\n",
    "<div class=\"col1\">\n",
    "\n",
    "- In Python werden boolesche (binäre) Werte als `bool` bezeichnet.\n",
    "\n",
    "- Der Wert „Wahr\" wird in Python als `True` geschrieben und „Falsch\" als `False`.\n",
    "\n",
    "</div>\n",
    "<div class=\"col1\">\n",
    "\n",
    "![](images/02c_Datentypen/datentyp5.svg)\n",
    "\n",
    "</div>\n",
    "</div>"
   ]
  },
  {
   "cell_type": "markdown",
   "metadata": {
    "editable": true,
    "slideshow": {
     "slide_type": "subslide"
    },
    "tags": [
     "remove-cell"
    ]
   },
   "source": [
    "## Einfache Datentypen - Textuell\n",
    "\n",
    "<div class=\"flex-row\">\n",
    "<div class=\"col1\">\n",
    "\n",
    "- Textuelle Datentypen repräsentieren Buchstaben.\n",
    "\n",
    "- Einzelne textuelle Zeichen werden als Char bezeichnet.\n",
    "\n",
    "- Mehrere textuelle Zeichen werden als String bezeichnet (Sie werden z. T. auch zu den zusammengesetzten Datentypen gezählt).\n",
    "\n",
    "</div>\n",
    "<div class=\"col1\">\n",
    "\n",
    "![](images/02c_Datentypen/datentyp6.svg)\n",
    "\n",
    "</div>\n",
    "</div>"
   ]
  },
  {
   "cell_type": "markdown",
   "metadata": {
    "editable": true,
    "slideshow": {
     "slide_type": "subslide"
    },
    "tags": [
     "remove-cell"
    ]
   },
   "source": [
    "## Einfache Datentypen – Textuell in Python\n",
    "\n",
    "<div class=\"flex-row\">\n",
    "<div class=\"col1\">\n",
    "\n",
    "- Einzelne textuelle Zeichen werden in Python als `str` mit der Länge 1 abgebildet. \n",
    "\n",
    "- Mehrere textuelle Zeichen werden in Python als `str` definiert.\n",
    "\n",
    "- Ein `str` in Python kann mit einem `'` oder zwei `\"` Anführungsstrichen angefangen und beendet werden.\n",
    "\n",
    "  ```python\n",
    "  name = \"Joern\"\n",
    "  name = 'Joern'\n",
    "  ```\n",
    "\n",
    "</div>\n",
    "<div class=\"col1\">\n",
    "\n",
    "![](images/02c_Datentypen/datentyp7.svg)\n",
    "\n",
    "</div>\n",
    "</div>"
   ]
  },
  {
   "cell_type": "markdown",
   "metadata": {
    "editable": true,
    "slideshow": {
     "slide_type": "subslide"
    },
    "tags": [
     "remove-cell"
    ]
   },
   "source": [
    "## Einfache Datentypen - Binär\n",
    "\n",
    "<div class=\"flex-row\">\n",
    "<div class=\"col1\">\n",
    "\n",
    "- Binäre Datentypen können beliebige Zeichen repräsentieren.\n",
    "\n",
    "- Einzelne binäre Zeichen werden als Byte bezeichnet.\n",
    "\n",
    "- Mehrere Zeichen werden als Bytearray oder Bytestring bezeichnet (Sie werden z.T. auch zu den zusammengesetzten Datentypen gezählt).\n",
    "\n",
    "</div>\n",
    "<div class=\"col1\">\n",
    "\n",
    "![](images/02c_Datentypen/datentyp8.svg)\n",
    "\n",
    "</div>\n",
    "</div>"
   ]
  },
  {
   "cell_type": "markdown",
   "metadata": {
    "editable": true,
    "slideshow": {
     "slide_type": "subslide"
    },
    "tags": [
     "remove-cell"
    ]
   },
   "source": [
    "## Einfache Datentypen – Binär in Python\n",
    "\n",
    "<div class=\"flex-row\">\n",
    "<div class=\"col1\">\n",
    "\n",
    "- Binäre Datentypen können beliebige Zeichen repräsentieren.\n",
    "\n",
    "- Einzelne binäre Zeichen werden in Python als `int` abgebildet.\n",
    "\n",
    "- Mehrere binäre Zeichen werden als `bytes` bezeichnet.\n",
    "\n",
    "- Ein bytes in Python wird als String deklariert mit einem führendem `b`.\n",
    "\n",
    "  ```python\n",
    "  name = b\"Joern\"\n",
    "  name = b'Joern'\n",
    "  ```\n",
    "\n",
    "</div>\n",
    "<div class=\"col1\">\n",
    "\n",
    "![](images/02c_Datentypen/datentyp9.svg)\n",
    "\n",
    "</div>\n",
    "</div>"
   ]
  },
  {
   "cell_type": "markdown",
   "metadata": {
    "editable": true,
    "slideshow": {
     "slide_type": "slide"
    },
    "tags": [
     "remove-cell"
    ]
   },
   "source": [
    "## Zusammengesetzte Datentypen – Sequenzen\n",
    "\n",
    "<div class=\"flex-row\">\n",
    "<div class=\"col1\">\n",
    "\n",
    "- Sequenzen sind eine geordnete Abfolge an Werten, meist vom selben Datentyp.\n",
    "\n",
    "- Sequenzen werden in Programmiersprachen meist als Array bezeichnet. Arrays haben oft eine feste, unveränderliche Länge, die bei der Erzeugung definiert wird. Die Werte sind veränderlich.\n",
    "\n",
    "  Beispiel in Cython:\n",
    "\n",
    "  ```python\n",
    "  cdef int a = 5 # Variablendeklaration\n",
    "  cdef int a[5] = [0, 1, 2, 3, 4] #Array-Deklaration\n",
    "  ```\n",
    "\n",
    "- Listen sind ein weiterer typischer Datentyp für Sequenzen. Listen haben oft keine feste Länge und können beliebig erweitert werden.\n",
    "\n",
    "</div>\n",
    "<div class=\"col1\">\n",
    "\n",
    "![](images/02c_Datentypen/datentyp10.svg)\n",
    "\n",
    "</div>\n",
    "</div>"
   ]
  },
  {
   "cell_type": "markdown",
   "metadata": {
    "editable": true,
    "slideshow": {
     "slide_type": "subslide"
    },
    "tags": [
     "remove-cell"
    ]
   },
   "source": [
    "## Zusammengesetzte Datentypen – Sequenzen in Python\n",
    "\n",
    "<div class=\"flex-row\">\n",
    "<div class=\"col1\">\n",
    "\n",
    "- Python unterstützt keine Arrays sondern nutzt `list` und `tuple`. Sie werden durch eckige oder runde Klammern deklariert.\n",
    "\n",
    "\t```python\n",
    "  x = [0, 1, 2, 3, 1] # Liste\n",
    "\tx = (0, 1, 2, 3, 1) # Tuple\n",
    "  ```\n",
    "\n",
    "- `tuple` haben eine feste Länge in Python. Sie sind unveränderlich (immutable).\n",
    "\n",
    "- Zusätzlich gibt es den besonderen Datentyp `range` um Sequenz von ganzen Zahlen zu erzeugen. \n",
    "\n",
    "\t```python\n",
    "  x = range(0,10) # Range Funktion\n",
    "  ```\n",
    "\n",
    "</div>\n",
    "<div class=\"col1\">\n",
    "\n",
    "![](images/02c_Datentypen/datentyp11a.svg)\n",
    "\n",
    "</div>\n",
    "</div>"
   ]
  },
  {
   "cell_type": "markdown",
   "metadata": {
    "editable": true,
    "slideshow": {
     "slide_type": "subslide"
    },
    "tags": [
     "remove-cell"
    ]
   },
   "source": [
    "## Zusammengesetzte Datentypen – Sequenzen Zugriff auf Elemente\n",
    "\n",
    "<div class=\"flex-row\">\n",
    "<div class=\"col1\">\n",
    "\n",
    "- Um auf ein Element zuzugreifen wird die Elementzahl in eine eckige Klammer geschrieben.\n",
    "\n",
    "- In Python wird der Index in einer Liste ab 0 gezählt (ab 1 in einigen Sprachen). \n",
    "\n",
    "  ```python\n",
    "\tx[0] # 1. Element\n",
    "\tx[1] # 2. Element\n",
    "  ```\n",
    "\n",
    "- Eine Besonderheit in Python ist dass auch negative Indizes erlaubt sind um das Ende von Listen zuzugreifen (a.k.a. Syntax-Suggar)\n",
    "\n",
    "  ```python\n",
    "\tx[-1] # letzte Element\n",
    "\tx[len(x)–1] # alternatives Vorgehen\n",
    "  ```\n",
    "\n",
    "- In Python kann durch Slicing auch auf Listenteile zugegriffen werden\n",
    "\n",
    "  ```python\n",
    "\tx[0:10] # ersten 10 Elemente (ohne 10)\n",
    "\tx[:10]  # ersten 10 Elemente (ohne 10)\n",
    "\tx[-10:] # letzten 10 Elemente\n",
    "  ```\n",
    "\n",
    "</div>\n",
    "<div class=\"col1\">\n",
    "\n",
    "![](images/02c_Datentypen/datentyp11a.svg)\n",
    "\n",
    "</div>\n",
    "</div>"
   ]
  },
  {
   "cell_type": "markdown",
   "metadata": {
    "editable": true,
    "slideshow": {
     "slide_type": "subslide"
    },
    "tags": [
     "remove-cell"
    ]
   },
   "source": [
    "## Zusammengesetzte Datentypen – Mengen\n",
    "\n",
    "<div class=\"flex-row\">\n",
    "<div class=\"col1\">\n",
    "\n",
    "- Mengen stellen eine Menge an Werten ohne Wiederholungen dar, so wie in der Mathematik.\n",
    "\n",
    "- In den meisten Programmiersprachen werden Mengen als Set bezeichnet.\n",
    "\n",
    "- Es wird häufig auch zwischen Datentypen für sortierte und unsortierte Sets unterschieden.\n",
    "\n",
    "</div>\n",
    "<div class=\"col1\">\n",
    "\n",
    "![](images/02c_Datentypen/datentyp11.svg)\n",
    "\n",
    "</div>\n",
    "</div>"
   ]
  },
  {
   "cell_type": "markdown",
   "metadata": {
    "editable": true,
    "slideshow": {
     "slide_type": "subslide"
    },
    "tags": [
     "remove-cell"
    ]
   },
   "source": [
    "## Zusammengesetzte Datentypen – Mengen in Python\n",
    "\n",
    "<div class=\"flex-row\">\n",
    "<div class=\"col1\">\n",
    "\n",
    "- Der Datentyp für Mengen in Python heißt `set`. Sie werden durch geschweifte Klammern deklariert.\n",
    "  ```python\n",
    "\tx = {0, 1, 2, 3}\n",
    "  ```\n",
    "\n",
    "</div>\n",
    "<div class=\"col1\">\n",
    "\n",
    "![](images/02c_Datentypen/datentyp11b.svg)\n",
    "\n",
    "</div>\n",
    "</div>"
   ]
  },
  {
   "cell_type": "markdown",
   "metadata": {
    "editable": true,
    "slideshow": {
     "slide_type": "subslide"
    },
    "tags": [
     "remove-cell"
    ]
   },
   "source": [
    "## Zusammengesetzte Datentypen – Wörterbücher\n",
    "\n",
    "<div class=\"flex-row\">\n",
    "<div class=\"col1\">\n",
    "\n",
    "- Wörterbücher bilden eine Abbildung von einer Menge an Schlüsseln auf eine Menge an Werten (Key-Value). Die Menge der Schlüssel darf keine Wiederholung aufweisen, die Menge der Werte schon.\n",
    "\n",
    "- Wörterbücher werden in den meisten Programmiersprachen als Map (von engl. Mapping = Abbildung) bezeichnet.\n",
    "\n",
    "- **Info**: Sets werden häufig intern als Map ohne Werte gespeichert, weil Schlüssel keine Dopplung aufweisen dürfen.\n",
    "  \n",
    "</div>\n",
    "<div class=\"col1\">\n",
    "\n",
    "![](images/02c_Datentypen/datentyp11.svg)\n",
    "\n",
    "</div>\n",
    "</div>"
   ]
  },
  {
   "cell_type": "markdown",
   "metadata": {
    "editable": true,
    "slideshow": {
     "slide_type": "subslide"
    },
    "tags": [
     "remove-cell"
    ]
   },
   "source": [
    "## Zusammengesetzte Datentypen – Wörterbücher in Python\n",
    "\n",
    "<div class=\"flex-row\">\n",
    "<div class=\"col1\">\n",
    "\n",
    "- Wörterbücher bilden eine Abbildung einer Menge an Schlüsseln auf eine Menge an Werten (Key-Value).\n",
    "\n",
    "- Wörterbücher werden in Python als `dict` bezeichnet. Sie werden durch geschweifte Klammern und Schlüssel/Wert-Paaren definiert.\n",
    "  ```python\n",
    "  x = {\n",
    "    \"Gebäudetyp\": \"Wohnhaus\", \t\n",
    "    \"Baujahr\": 2022\n",
    "  }\n",
    "  ```\n",
    "\n",
    "- neue Werte können auch dynamisch zugewiesen werden:\n",
    "  ```python\n",
    "  x[\"Bauweise\"] = \"Holzbauweise\"\n",
    "  ```\n",
    "\n",
    "</div>\n",
    "<div class=\"col1\">\n",
    "\n",
    "![](images/02c_Datentypen/datentyp11c.svg)\n",
    "\n",
    "</div>\n",
    "</div>"
   ]
  },
  {
   "cell_type": "markdown",
   "metadata": {
    "editable": true,
    "slideshow": {
     "slide_type": "subslide"
    },
    "tags": [
     "remove-cell"
    ]
   },
   "source": [
    "## Zusammengesetzte Datentypen – Wörterbücher Zugriff auf Elemente\n",
    "\n",
    "<div class=\"flex-row\">\n",
    "<div class=\"col1\">\n",
    "\n",
    "- Um auf ein Element in einem `dict` zuzugreifen wird der Schlüssel in einer eckige Klammer geschrieben.\n",
    "\n",
    "  ```python\n",
    "  x[\"Baujahr\"]\n",
    "  ```\n",
    "- Dies funktioniert nicht bei Mengen (`set`), da ja kein Wert dahinter steht, sondern nur interessant ist ob der Schlüssel in der Menge enthalten ist. Was man so abfragt\n",
    "\n",
    "  ```python\n",
    "  \"Baujahr\" in x\n",
    "  ```\n",
    "- Um Werte aus einem `dict` oder `set` zu entfernen, nutzt man\n",
    "\n",
    "  ```python\n",
    "  del x[\"Baujahr\"]\n",
    "  ```\n",
    "\n",
    "</div>\n",
    "<div class=\"col1\">\n",
    "\n",
    "![](images/02c_Datentypen/datentyp11c.svg)\n",
    "\n",
    "</div>\n",
    "</div>"
   ]
  },
  {
   "cell_type": "markdown",
   "metadata": {
    "editable": true,
    "slideshow": {
     "slide_type": "slide"
    },
    "tags": [
     "remove-cell"
    ]
   },
   "source": [
    "## Datentypen – Undefinierte Werte\n",
    "\n",
    "<div class=\"flex-row\">\n",
    "<div class=\"col1\">\n",
    "\n",
    "- In vielen Programmiersprachen gibt es auch einen Wert um einen undefinierten Wert darzustellen, z.B. wenn etwas nicht da ist.\n",
    "\n",
    "- Dieser undefinierte Wert wird häufig als `Null`-Wert bezeichnet.\n",
    "\n",
    "<div class=\"alert alert-block alert-warning\">\n",
    "\n",
    "Die Notwendigkeit für einen Null-Wert ist heutzutage sehr umstritten, da Null-Werte schnell Fehler erzeugen. Deshalb haben einige moderne Sprachen keinen Null-Wert.\n",
    "\n",
    "</div>\n",
    "</div>\n",
    "<div class=\"col1\">\n",
    "\n",
    "![](images/02c_Datentypen/datentyp12.svg)\n",
    "\n",
    "</div>\n",
    "</div>"
   ]
  },
  {
   "cell_type": "markdown",
   "metadata": {
    "editable": true,
    "slideshow": {
     "slide_type": "subslide"
    },
    "tags": [
     "remove-cell"
    ]
   },
   "source": [
    "## Datentypen – Undefinierte Werte in Python\n",
    "\n",
    "<div class=\"flex-row\">\n",
    "<div class=\"col1\">\n",
    "\n",
    "- Der Null-Wert in Python heißt `None`.\n",
    "\n",
    "- Bedeutet dass eine Variable keinen Wert zugewiesen hat, oder eine Operation keinen Wert zurück gibt.\n",
    "- Der Datentyp einer Variable vom Wert `None` ist `NoneType`.\n",
    "\n",
    "</div>\n",
    "<div class=\"col1\">\n",
    "\n",
    "![](images/02c_Datentypen/datentyp12.svg)\n",
    "\n",
    "</div>\n",
    "</div>"
   ]
  },
  {
   "cell_type": "markdown",
   "metadata": {
    "editable": true,
    "jp-MarkdownHeadingCollapsed": true,
    "slideshow": {
     "slide_type": "slide"
    },
    "tags": [
     "remove-cell"
    ]
   },
   "source": [
    "## Datentypen – Modifizierbarkeit (Mutability)\n",
    "\n",
    "<div class=\"alert alert-block alert-success\">\n",
    "<b>📘 Definition: Mutability</b>\n",
    "\n",
    "Modifizierbarkeit beschreibt die Veränderbarkeit von Datenstrukturen.\n",
    "\n",
    "- Ist ein Datentyp *mutable* können Variablen von diesem Typ direkt verändert werden.\n",
    "- Ist er *immutable* kann man diese nur durch eine komplette Neubelegung verändern.\n",
    "\n",
    "</div>\n",
    "\n",
    "| Mutabel (änderbar) | Immutabel (nicht änderbar) |\n",
    "|--------------------|----------------------------|\n",
    "| `list`             | `tuple`                    |\n",
    "| `set`              | `frozenset`                |\n",
    "| `dict`             | `frozendict`               |\n",
    "| `bytearray`        | `bytes`                    |\n",
    "\n",
    "- Um Programmierfehler zu verhindern und Zugriffssicherheit (Datenschutz) zu gewährleisten, unterscheiden einige Programmiersprachen sehr strikt zwischen mutable und  immutable Datentypen."
   ]
  },
  {
   "cell_type": "markdown",
   "metadata": {
    "editable": true,
    "slideshow": {
     "slide_type": "skip"
    },
    "tags": []
   },
   "source": [
    "## Quiz\n",
    "\n",
    "\n",
    "```{quizdown}\n",
    "\t---\n",
    "\tshuffleQuestions: true\n",
    "\tshuffleAnswers: true\n",
    "\t---\n",
    "\n",
    "    ### Was sind die grundlegenden Kategorien von Datentypen?\n",
    "\n",
    "    > Es gibt zwei Kategorien\n",
    "\n",
    "    - [X] Einfache\n",
    "    - [X] Zusammengesetzt\n",
    "    - [ ] Text\n",
    "    - [ ] Objekte\n",
    "    - [ ] Zahlen\n",
    "\n",
    "\n",
    "    ### Was sind einfache Datentypen?\n",
    "\n",
    "    > Es gibt vier einfache Datentypen\n",
    "\n",
    "    - [X] Numerisch\n",
    "    - [X] Logisch\n",
    "    - [X] Textuel\n",
    "    - [X] Binär\n",
    "    - [ ] Sequenz\n",
    "    - [ ] Mengen\n",
    "\n",
    "    ### Was sind zusammengesetzte Datentypen?\n",
    "\n",
    "    > Es gibt drei zusammengesetzte Datentypen\n",
    "\n",
    "    - [ ] Ganze Zahlen\n",
    "    - [ ] Textuel\n",
    "    - [ ] Array\n",
    "    - [X] Sequenz\n",
    "    - [X] Mengen\n",
    "    - [X] Wörterbuch\n",
    "\n",
    "    ### Was sind numerisch Datentypen?\n",
    "\n",
    "    > Es gibt drei numerisch Datentypen\n",
    "\n",
    "    - [X] Ganze Zahlen\n",
    "    - [ ] Halbe Zahlen\n",
    "    - [X] Natürliche Zahlen\n",
    "    - [ ] Unnatürliche Zahlen\n",
    "    - [X] Reelle Zahlen\n",
    "    - [ ] Komplexe Zahlen\n",
    "\n",
    "    ### Was sind textuelle Datentypen?\n",
    "\n",
    "    > Es gibt zwei textuelle Datentypen\n",
    "\n",
    "    - [ ] Ganze Zahlen\n",
    "    - [X] String\n",
    "    - [X] Char\n",
    "    - [ ] Komplexe Zahlen\n",
    "    - [ ] Blobs\n",
    "\n",
    "    ### Was sind logische Datentypen?\n",
    "\n",
    "    > Es gibt einen logischen Datentyp\n",
    "\n",
    "    - [X] Boolean\n",
    "    - [ ] String\n",
    "    - [ ] Char\n",
    "    - [ ] True/False\n",
    "\n",
    "    ### Was sind binäre Datentypen?\n",
    "\n",
    "    > Es gibt zwei binäre Datentypen\n",
    "\n",
    "    - [ ] Ganze Zahlen\n",
    "    - [X] Byte\n",
    "    - [ ] Char\n",
    "    - [X] Byte Array\n",
    "\n",
    "    ### Welche Datentypen werden in Python mit `int` ausgedrückt?\n",
    "\n",
    "    > `int` wird für drei Datentypen benutzt\n",
    "\n",
    "    - [X] Ganze Zahlen\n",
    "    - [X] Natürliche Zahlen\n",
    "    - [ ] Reelle Zahlen\n",
    "    - [ ] Komplexe Zahlen\n",
    "    - [X] Byte\n",
    "    - [ ] Char\n",
    "\n",
    "    ### Welche Datentypen werden in Python mit `str` ausgedrückt?\n",
    "\n",
    "    > `str` wird für zwei Datentypen benutzt\n",
    "\n",
    "    - [X] String\n",
    "    - [X] Char\n",
    "    - [ ] Byte\n",
    "    - [ ] Byte Array\n",
    "\n",
    "    ### Welche Datentypen sind das?\n",
    "\n",
    "    ```python\n",
    "    variable = [\"a\", \"b\", \"c\"]\n",
    "    ```\n",
    "\n",
    "    > Zwei Datentypen sind richtig\n",
    "\n",
    "    - [ ] String\n",
    "    - [ ] Dict\n",
    "    - [ ] Set\n",
    "    - [X] List\n",
    "    - [ ] Array\n",
    "    - [X] Sequenz\n",
    "    - [ ] Mengen\n",
    "    - [ ] Wörterbuch\n",
    "\n",
    "    ### Welche Datentypen sind das?\n",
    "\n",
    "    ```python\n",
    "    variable = {\"a\", \"b\", \"c\"}\n",
    "    ```\n",
    "\n",
    "    > Zwei Datentypen sind richtig\n",
    "\n",
    "    - [ ] String\n",
    "    - [ ] Dict\n",
    "    - [X] Set\n",
    "    - [ ] List\n",
    "    - [ ] Array\n",
    "    - [ ] Sequenz\n",
    "    - [X] Mengen\n",
    "    - [ ] Wörterbuch\n",
    "\n",
    "    ### Welche Datentypen sind das?\n",
    "\n",
    "    ```python\n",
    "    variable = {\"a\":1, \"b\":2, \"c\":3}\n",
    "    ```\n",
    "\n",
    "    > Zwei Datentypen sind richtig\n",
    "\n",
    "    - [ ] String\n",
    "    - [X] Dict\n",
    "    - [ ] Set\n",
    "    - [ ] List\n",
    "    - [ ] Sequenz\n",
    "    - [ ] Mengen\n",
    "    - [X] Wörterbuch\n",
    "\n",
    "    ### Welche der folgenden Python-Datentypen sind **mutabel**?\n",
    "\n",
    "    > Drei Datentypen sind richtig\n",
    "\n",
    "    - [x] list\n",
    "    - [x] set\n",
    "    - [x] dict\n",
    "    - [ ] tuple\n",
    "    - [ ] str\n",
    "\n",
    "    ### Welche Aussage zur Mutabilität ist **korrekt**?\n",
    "\n",
    "    - [ ] Ein `tuple` kann nach seiner Erstellung verändert werden.\n",
    "    - [ ] `frozenset` ist eine mutierbare Variante von `set`.\n",
    "    - [x] `bytearray` ist eine mutierbare Version von `bytes`.\n",
    "    - [ ] Strings (`str`) in Python sind mutabel.\n",
    "\n",
    "\n",
    "    ### Was bedeutet „mutabel“ im Kontext von Python-Datentypen?\n",
    "\n",
    "    - [x] Der Inhalt eines Objekts kann nach der Erstellung verändert werden.\n",
    "    - [ ] Das Objekt kann nicht kopiert werden.\n",
    "    - [ ] Das Objekt belegt immer mehr Speicher als ein immutables Objekt.\n",
    "    - [ ] Ein mutables Objekt kann nicht Teil eines Sets sein.\n",
    "```"
   ]
  },
  {
   "cell_type": "markdown",
   "metadata": {
    "editable": true,
    "slideshow": {
     "slide_type": "slide"
    },
    "tags": [
     "remove-cell"
    ]
   },
   "source": [
    "<div class=\"vslide\">\n",
    "  <div class=\"vslide-title\">\n",
    "    <p style=\"font-family: Protomolecule; font-size: 2.3em; margin: 0px auto; text-align: center; width: 100%;\">fragen?</p>\n",
    "  </div>\n",
    "  <script>setSectionBackground('#000000', 'images/mj_questions.mp4');</script>\n",
    "</div>"
   ]
  }
 ],
 "metadata": {
  "kernelspec": {
   "display_name": "base",
   "language": "python",
   "name": "python3"
  },
  "language_info": {
   "codemirror_mode": {
    "name": "ipython",
    "version": 3
   },
   "file_extension": ".py",
   "mimetype": "text/x-python",
   "name": "python",
   "nbconvert_exporter": "python",
   "pygments_lexer": "ipython3",
   "version": "3.12.2"
  },
  "rise": {
   "auto_select": "none",
   "center": false,
   "enable_chalkboard": true,
   "footer": "<img src=\"images/pd_logo.svg\" class=\"header_title_logo\"><img src=\"images/ai4sc_logo_v2.svg\" class=\"header_ai4sc_logo\">",
   "header": "<img src=\"images/pd_logo.svg\" class=\"header_title_logo\"><img src=\"images/ai4sc_logo_v2.svg\" class=\"header_ai4sc_logo\">",
   "scroll": true,
   "show_buttons_on_startup": false,
   "slideNumber": true,
   "theme": "white"
  }
 },
 "nbformat": 4,
 "nbformat_minor": 4
}
