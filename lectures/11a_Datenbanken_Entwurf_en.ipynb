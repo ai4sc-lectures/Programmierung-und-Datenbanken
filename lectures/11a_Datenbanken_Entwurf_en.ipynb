{
 "cells": [
  {
   "cell_type": "markdown",
   "id": "c8e3909452d54279b4da208a991c4c89",
   "metadata": {
    "editable": true,
    "slideshow": {
     "slide_type": "slide"
    },
    "tags": [
     "remove-cell",
     "translated_en"
    ],
    "translation": {
     "lang": "de",
     "src_hash": "4f9de9a08f327589601a69b80cdf4a5169b4533bdffab5abe9770088a4ad1e7b",
     "updated_at_iso": "2025-08-16T17:42:26.980886+00:00"
    }
   },
   "source": [
    "<div class=\"vslide\">\n",
    "  <div class=\"vslide-title\">\n",
    "    <p style=\"font-family: Protomolecule; font-size: 2.3em; line-height: 90%; margin: 0px auto; text-align: center; width: 100%;\"><span style=\"letter-spacing: .04rem;\">programming</span><br><span style=\"letter-spacing: .0rem;\">and databases</span></p>\n",
    "<p class=\"author\" style=\"font-family: Protomolecule; margin: 0px auto;  text-align: center; width: 100%; font-size: 1.2em;\">Joern Ploennigs</p>\n",
    "<p class=\"subtitle\" style=\"font-family: Protomolecule; margin: 1em auto; text-align: center; width: 100%; font-size: 1.2em;\">Database design</p>\n",
    "    <figcaption>Midjourney: A walk in the park, ref. Georges Seurat</figcaption>\n",
    "  </div>\n",
    "<script>\n",
    "  function setSectionBackground(c,v){\n",
    "    let e=document.currentScript.previousElementSibling;\n",
    "    while(e&&e.tagName!=='SECTION')e=e.parentElement;\n",
    "    if(e){\n",
    "      if(c)e.setAttribute('data-background-color',c);\n",
    "      if(v){\n",
    "        e.setAttribute('data-background-video',v);\n",
    "        e.setAttribute('data-background-video-loop','true');\n",
    "        e.setAttribute('data-background-video-muted','true');\n",
    "      }\n",
    "    }\n",
    "  }\n",
    "  setSectionBackground('#000000', 'images/11a_Datenbanken_Entwurf/mj_title.mp4');\n",
    "</script>\n",
    "<style>\n",
    ".flex-row{display:flex; gap:2rem; align-items:flex-start; justify-content:space-between;}\n",
    ".flex-row .col1{flex:1; min-width:10px}\n",
    ".flex-row .col2{flex:2; min-width:10px}\n",
    ".flex-row .col3{flex:3; min-width:10px}\n",
    ".flex-row .col4{flex:4; min-width:10px}\n",
    ".flex-row .col5{flex:5; min-width:10px}\n",
    ".flex-row .col6{flex:6; min-width:10px}\n",
    ".flex-row .col7{flex:7; min-width:10px}\n",
    ".vcent{display:flex; align-items:center; justify-content:center}\n",
    "</style>\n",
    "</div>"
   ]
  },
  {
   "cell_type": "markdown",
   "id": "ca16851f1872410f935a11947965b925",
   "metadata": {
    "slideshow": {
     "slide_type": "skip"
    },
    "tags": [
     "translated_en"
    ],
    "translation": {
     "lang": "de",
     "src_hash": "49f574784154ae1b170cf4a2a81d67a9e661bcae3327edb62fd7df50817fa975",
     "updated_at_iso": "2025-08-16T17:42:29.673764+00:00"
    }
   },
   "source": [
    "# Relational Database Design"
   ]
  },
  {
   "cell_type": "markdown",
   "id": "5f2644df9f164af3ad5c274cab3be5ec",
   "metadata": {
    "editable": true,
    "slideshow": {
     "slide_type": "skip"
    },
    "tags": [
     "translated_en"
    ],
    "translation": {
     "lang": "de",
     "src_hash": "d6c9201934d071f24c91297e49014915cfb002f3b806aa6202d86c5dc0c602e5",
     "updated_at_iso": "2025-08-16T17:42:32.933489+00:00"
    }
   },
   "source": [
    "<figure class=\"mj-tile-band\">\n",
    "    <img src='images/11a_Datenbanken_Entwurf/mj_title_band.jpg'>\n",
    "    <figcaption>Midjourney: A walk in the park, ref. Georges Seurat</figcaption>\n",
    "</figure>\n",
    "\n",
    "> Simple things should be simple. Complex things should be possible.\n",
    ">\n",
    "> - Alan Kay"
   ]
  },
  {
   "cell_type": "markdown",
   "id": "2ea41dc14e3848e69483dc9927db5630",
   "metadata": {
    "editable": true,
    "slideshow": {
     "slide_type": "skip"
    },
    "tags": [
     "translated_en"
    ],
    "translation": {
     "lang": "de",
     "src_hash": "fa3376cef4b7c7493a363d1810362e1038ba9a3d1f42bb2bfa459ac0e1014f94",
     "updated_at_iso": "2025-08-16T17:42:39.183385+00:00"
    }
   },
   "source": [
    "## <a href=\"../lec_slides/11a_Datenbanken_Entwurf.slides.html\">Slides</a>/<a href=\"../pdf/slides/11a_Datenbanken_Entwurf.pdf\">PDF</a>\n",
    "<iframe src=\"../lec_slides/11a_Datenbanken_Entwurf.slides.html\" width=\"750\" height=\"500\"></iframe>"
   ]
  },
  {
   "cell_type": "markdown",
   "id": "a3c0f0c0478f403db80562e0eefc669a",
   "metadata": {
    "editable": true,
    "slideshow": {
     "slide_type": "subslide"
    },
    "tags": [
     "remove-cell",
     "translated_en"
    ],
    "translation": {
     "lang": "de",
     "src_hash": "1ea0a88798fbd9d5ef67f2877e765daa20fbb9ed78d798e43507bad88a6d2326",
     "updated_at_iso": "2025-08-16T17:42:43.812550+00:00"
    }
   },
   "source": [
    "## Review: In-Class Question\n",
    "\n",
    "<script>setSectionBackground('#FFD966');</script>\n",
    "<div class=\"flex-row\">\n",
    "  <div class=\"col4 vcent\">\n",
    "\n",
    "What kinds of databases are there?\n",
    " \n",
    "  </div>\n",
    "  <div class=\"col6\"> \n",
    "    <figure class=\"mj-fig\">\n",
    "        <img src=\"images/11a_Datenbanken_Entwurf/mj_datenbank0.png\" class=\"mj-fig-img\">\n",
    "        <figcaption class=\"mj-fig-cap\">\n",
    "            Midjourney: Data Bank\n",
    "        </figcaption>\n",
    "    </figure>\n",
    "  </div>\n",
    "</div>"
   ]
  },
  {
   "cell_type": "markdown",
   "id": "6bc7cfc8887e46eb93d764dd3aea7db5",
   "metadata": {
    "editable": true,
    "slideshow": {
     "slide_type": "subslide"
    },
    "tags": [
     "remove-cell",
     "translated_en"
    ],
    "translation": {
     "lang": "de",
     "src_hash": "4fe90bc77882a7c4aa4dce3507df3e19b4632da1749897bc547984c84681408c",
     "updated_at_iso": "2025-08-16T17:42:48.080664+00:00"
    }
   },
   "source": [
    "## Review: Database Types\n",
    "\n",
    "<script>setSectionBackground('#FFD966');</script>\n",
    "\n",
    "![Distribution of database types](images/10a_Datenbanktypen/databases.svg)"
   ]
  },
  {
   "cell_type": "markdown",
   "id": "6194d7a6124947f2a636d7e8f705f813",
   "metadata": {
    "editable": true,
    "slideshow": {
     "slide_type": "subslide"
    },
    "tags": [
     "remove-cell",
     "translated_en"
    ],
    "translation": {
     "lang": "de",
     "src_hash": "59784521970be912751b9aa9956ccd378dc87569d22e4adbf30c18d7beef0f8b",
     "updated_at_iso": "2025-08-16T17:42:54.620166+00:00"
    }
   },
   "source": [
    "## Review: In-class Question\n",
    "\n",
    "<script>setSectionBackground('#FFD966');</script>\n",
    "<div class=\"flex-row\">\n",
    "  <div class=\"col4 vcent\">\n",
    "\n",
    "What are relational databases?\n",
    " \n",
    "  </div>\n",
    "  <div class=\"col6\"> \n",
    "    <figure class=\"mj-fig\">\n",
    "        <img src=\"images/11a_Datenbanken_Entwurf/mj_datenbank1.png\" class=\"mj-fig-img\">\n",
    "        <figcaption class=\"mj-fig-cap\">\n",
    "            Midjourney: Relational Database\n",
    "        </figcaption>\n",
    "    </figure>\n",
    "  </div>\n",
    "</div>"
   ]
  },
  {
   "cell_type": "markdown",
   "id": "901525766a4449deb3eb2060df0a5902",
   "metadata": {
    "editable": true,
    "slideshow": {
     "slide_type": "subslide"
    },
    "tags": [
     "remove-cell",
     "translated_en"
    ],
    "translation": {
     "lang": "de",
     "src_hash": "2d78130f17e0ceceefbcc12b8501293b8075a4899c0d8991d1150691f55c0ea8",
     "updated_at_iso": "2025-08-16T17:43:03.601194+00:00"
    }
   },
   "source": [
    "## Recap: Relational Databases\n",
    "\n",
    "<script>setSectionBackground('#FFD966');</script>\n",
    "\n",
    "*RDBMS* have been in use since the early 1980s and are based on the relational (= table-oriented) data model\n",
    "- The schema of a table (= relation schema) is defined by the table name and a fixed set of attributes (= columns) with corresponding data types\n",
    "- Since data are organized in tables, they are highly structured with a structure defined by the table (normalization)\n",
    "- The standard language for creating/modifying/deleting is *SQL*\n",
    "\n",
    "- Popular systems: Oracle, MySQL, Microsoft SQL Server, PostgreSQL, IBM Db2"
   ]
  },
  {
   "cell_type": "markdown",
   "id": "27ba3fe06a49489d875ef418b0e50057",
   "metadata": {
    "editable": true,
    "slideshow": {
     "slide_type": "subslide"
    },
    "tags": [
     "remove-cell",
     "translated_en"
    ],
    "translation": {
     "lang": "de",
     "src_hash": "45f330275d23ded91aa1effeb9860ff5735cf1ec74e967fde89a93e4a28e07e0",
     "updated_at_iso": "2025-08-16T17:43:08.256850+00:00"
    }
   },
   "source": [
    "## Review: Lecture Hall Question\n",
    "\n",
    "<script>setSectionBackground('#FFD966');</script>\n",
    "<div class=\"flex-row\">\n",
    "  <div class=\"col4 vcent\">\n",
    "\n",
    "What types of keys are there in relational databases?\n",
    " \n",
    "  </div>\n",
    "  <div class=\"col6\"> \n",
    "    <figure class=\"mj-fig\">\n",
    "        <img src=\"images/11a_Datenbanken_Entwurf/mj_schluessel.png\" class=\"mj-fig-img\">\n",
    "        <figcaption class=\"mj-fig-cap\">\n",
    "            Midjourney: Key on a Keyring\n",
    "        </figcaption>\n",
    "    </figure>\n",
    "  </div>\n",
    "</div>"
   ]
  },
  {
   "cell_type": "markdown",
   "id": "21396d4a47f841408817e7a48d94387d",
   "metadata": {
    "editable": true,
    "slideshow": {
     "slide_type": "subslide"
    },
    "tags": [
     "remove-cell",
     "translated_en"
    ],
    "translation": {
     "lang": "de",
     "src_hash": "86e1f2a8b6466983dbb20b8caff849816082f79afdd249632dc6aaec312a5f95",
     "updated_at_iso": "2025-08-16T17:43:17.500128+00:00"
    }
   },
   "source": [
    "## Recap: Key References\n",
    "\n",
    "<div class=\"flex-row\">\n",
    "  <div class=\"col1\">\n",
    "\n",
    "**Municipalities Table**\n",
    "\n",
    "| MunicipalityID | Name | Population |\n",
    "|---|--------------|-------|\n",
    "| 1 | Dummerstorf  | 7,329 |\n",
    "| 2 | Graal-Müritz | 4,278 |\n",
    "| 3 | Sanitz       | 5,831 |\n",
    "\n",
    "<br/> Primary key: MunicipalityID\n",
    "\n",
    "  </div>\n",
    "  <div class=\"col1\"> \n",
    "\n",
    "**Buildings Table**\n",
    "\n",
    "| BuildingID | Building Type | MunicipalityID |\n",
    "|------------|-------------|------------|\n",
    "| 5000       | Gas Station  | 2 |\n",
    "| 5001       | Hotel        | 1 |\n",
    "| 5002       | Church       | 2 |\n",
    "\n",
    "\n",
    "<br/> Foreign key: MunicipalityID\n",
    "\n",
    "  </div>\n",
    "</div>"
   ]
  },
  {
   "cell_type": "markdown",
   "id": "a8bd30021f944335a0a49bda8b9386ae",
   "metadata": {
    "editable": true,
    "slideshow": {
     "slide_type": "slide"
    },
    "tags": [
     "remove-cell",
     "translated_en"
    ],
    "translation": {
     "lang": "de",
     "src_hash": "0240e2a6721129ea55a3fdec2731af675a9285c3475fd78763bbb5127d789bd4",
     "updated_at_iso": "2025-08-16T17:43:20.520901+00:00"
    }
   },
   "source": [
    "## Process\n",
    "\n",
    "![](images/partB_3.svg)"
   ]
  },
  {
   "cell_type": "markdown",
   "id": "51802e1fd2504cc59fb57e869b182049",
   "metadata": {
    "slideshow": {
     "slide_type": "skip"
    },
    "tags": [
     "translated_en"
    ],
    "translation": {
     "lang": "de",
     "src_hash": "81fbb986e776996e150103de54d0a12343b2a02a45bf83a28d8a3b1d77cfe571",
     "updated_at_iso": "2025-08-16T17:43:23.682383+00:00"
    }
   },
   "source": [
    "## Design Approach"
   ]
  },
  {
   "cell_type": "markdown",
   "id": "36e72aa1d1ca42f49a818030d3307abc",
   "metadata": {
    "slideshow": {
     "slide_type": "skip"
    },
    "tags": [
     "translated_en"
    ],
    "translation": {
     "lang": "de",
     "src_hash": "c28237f9e0b869d4bc736a9acf467473f355c47adffa70d628c1ced468250cd4",
     "updated_at_iso": "2025-08-16T17:43:37.796279+00:00"
    }
   },
   "source": [
    "The classic design approach for databases is similar to the waterfall model in software design. In this approach, the requirements and use cases are defined first:\n",
    "\n",
    "- Requirements analysis: What requirements and use cases does the database have?\n",
    "- Conceptual design: High-level design in which the required entities, attributes, and relationships are mapped in the ER diagram\n",
    "- Logical design: Detailed design of the concrete database schema for a specific DBMS that maps the actual tables in the database and is normalized\n",
    "- Physical design: Final determinations of primary indexes and additional search indexes for access optimization\n",
    "- Implementation and testing: Creating the database with SQL\n",
    "- Deployment and maintenance: Use of the database\n",
    "\n",
    "What is decisive in the approach is that there is a high-level design at the conceptual stage, in which the functionally necessary entities are designed, and a subsequent detailed design with the logical and physical design, in which the actual tables in a DBMS are derived, which usually differ, as shown below."
   ]
  },
  {
   "cell_type": "markdown",
   "id": "381e6c09968a42a996167755db03de8c",
   "metadata": {
    "slideshow": {
     "slide_type": "skip"
    },
    "tags": [
     "translated_en"
    ],
    "translation": {
     "lang": "de",
     "src_hash": "e54f6cea71503013a8ba3a73b63e962b7583b81a0e3240be9abcd449f91b222a",
     "updated_at_iso": "2025-08-16T17:43:40.865636+00:00"
    }
   },
   "source": [
    "![Steps in Database Design](images/11a_Datenbanken_Entwurf/dbentwurf.png)"
   ]
  },
  {
   "cell_type": "markdown",
   "id": "9eeff87ffc934db8a2a936c45536c50b",
   "metadata": {
    "slideshow": {
     "slide_type": "skip"
    },
    "tags": [
     "translated_en"
    ],
    "translation": {
     "lang": "de",
     "src_hash": "ee35a8428cd8d181c440e199a15a276a75deb8502d1d4732bbec76e44fd19a2f",
     "updated_at_iso": "2025-08-16T17:43:43.488001+00:00"
    }
   },
   "source": [
    "## ER Diagrams"
   ]
  },
  {
   "cell_type": "markdown",
   "id": "56648d2b7598465cbb9ca11fee5bd69e",
   "metadata": {
    "slideshow": {
     "slide_type": "skip"
    },
    "tags": [
     "translated_en"
    ],
    "translation": {
     "lang": "de",
     "src_hash": "a177cb4ce86ce3ce973213ceb35ed888a1fa3f9fe980199a2b71d6cd0fb8c2ff",
     "updated_at_iso": "2025-08-16T17:43:48.936623+00:00"
    }
   },
   "source": [
    "To represent database designs, one uses Entity-Relationship diagrams. In them, one visualizes the entities with their attributes and the relationships between the entities. There are different variants of ER diagrams, as shown in the figure below. What is common to all of them is that they depict entities, attributes (not shown here) and relationships with cardinalities. They differ primarily in notation rather than in the use of symbols."
   ]
  },
  {
   "cell_type": "markdown",
   "id": "89e3ee703ddd465a8478dd9d0fe0d453",
   "metadata": {
    "slideshow": {
     "slide_type": "skip"
    },
    "tags": [
     "translated_en"
    ],
    "translation": {
     "lang": "de",
     "src_hash": "104ed80f9659a94343bc08d7984e980e3c9c746d26cbeaa57373dd86f502decb",
     "updated_at_iso": "2025-08-16T17:43:56.558095+00:00"
    }
   },
   "source": [
    "![ER diagrams in different notations (https://de.wikipedia.org/wiki/Datei:ERD_Darstellungen.png)](images/11a_Datenbanken_Entwurf/er-diagramme.png)"
   ]
  },
  {
   "cell_type": "markdown",
   "id": "2e334b966676451abd93fa8dd7d8ec70",
   "metadata": {
    "slideshow": {
     "slide_type": "skip"
    },
    "tags": [
     "translated_en"
    ],
    "translation": {
     "lang": "de",
     "src_hash": "ab9a81c2aa9b74db479211a73fe353d441db0479a40a5d9617549f891f6d8fb3",
     "updated_at_iso": "2025-08-16T17:44:08.609649+00:00"
    }
   },
   "source": [
    "We will use the UML notation below, which is based on UML class diagrams.\n",
    "\n",
    "- Classes receive the annotation `<<Entity>>` to distinguish them from normal classes\n",
    "- Attributes (table columns) are represented as class attributes with their data type\n",
    "- Primary keys are marked with PK\n",
    "- Relationship attributes (foreign keys) are modeled with associations\n",
    "- The reading direction of relationship types is indicated with `<<` or `>>`\n",
    "- Numbers on relationships indicate cardinality\n",
    "\n",
    "An important difference to UML diagrams is that in ER diagrams there are no methods, inheritance, polymorphism, encapsulation, or class hierarchies. Therefore we do not apply corresponding symbols.\n",
    "\n",
    "A simple example is shown in the following image. We have a person who lives in a place. The person has the attributes Ausweisnummer and a name. We use the Ausweisnummer as the primary key, since it is unique. The place has a postal code and a name. The postal code serves here as the primary key for simplicity (since a postal code can cover many municipalities or a place can have multiple postal codes, this is not ideal). As a relationship we denote here that a person lives in exactly one place. Note the reading direction `>>` here and the cardinalities 1-to-1 that appear at the start and end of the relationship."
   ]
  },
  {
   "cell_type": "markdown",
   "id": "9ee567701379432b94188abac502127c",
   "metadata": {
    "slideshow": {
     "slide_type": "skip"
    },
    "tags": [
     "translated_en"
    ],
    "translation": {
     "lang": "de",
     "src_hash": "429b55a6957e26d4c83233fddc72fe860ff567b43487fb4ee17c49321c4d214d",
     "updated_at_iso": "2025-08-16T17:44:12.341984+00:00"
    }
   },
   "source": [
    "<center><img src=\"https://mermaid.ink/svg/pako:eNqNUEFqAzEM_IrROTn0akIg0FsLXZpb8UWslazBloMtE9Kwf8lb-rKKZk0p9BCYgzQeeYa5wpg9gYUxYq3PAY8Fk-Ovm1H4UGiUkNm8vnduoFKVcPDkwKzXy_BWxFhzzhOLCWy22y7_-XY5unbyjs2GWIJcfsV3VCmBj2bX6plC5ZYSFTO8_CtiTNQf5r-eGulBw6Chh1wlUpBPnOKDZrACTZYweK1PrYx2IROpBqyOng7YojhwPKsUm-T9hUewUhqtoJ08Ci2Fgz1grMqekD9y7vv8DX4bo1o\" width=\"350\"></center>"
   ]
  },
  {
   "cell_type": "markdown",
   "id": "8f5793703d76498b9da9ceddd8f04064",
   "metadata": {
    "slideshow": {
     "slide_type": "skip"
    },
    "tags": [
     "translated_en"
    ],
    "translation": {
     "lang": "de",
     "src_hash": "cf12eff5ba4a63f8d90597a06f68caa3fb58479e886ab39e12e89b99e1e32301",
     "updated_at_iso": "2025-08-16T17:44:14.036806+00:00"
    }
   },
   "source": [
    "## Cardinalities"
   ]
  },
  {
   "cell_type": "markdown",
   "id": "aa51783a9812464fb4a80d110fe464dd",
   "metadata": {
    "slideshow": {
     "slide_type": "skip"
    },
    "tags": [
     "translated_en"
    ],
    "translation": {
     "lang": "de",
     "src_hash": "4ca68c21625b22ca69daf895f205d965a2cac0a93c9b3f8025cbcfce82620ea6",
     "updated_at_iso": "2025-08-16T17:44:18.959133+00:00"
    }
   },
   "source": [
    "In ER diagrams, the cardinality of relationships plays a key role, since it leads to different table representations. Cardinalities describe the number of minimal and maximal possible relationships between entities for this relationship. In general, the following cardinalities are distinguished:"
   ]
  },
  {
   "cell_type": "markdown",
   "id": "e11c4083622147dc88d830bf6742a156",
   "metadata": {
    "editable": true,
    "slideshow": {
     "slide_type": "skip"
    },
    "tags": [
     "translated_en"
    ],
    "translation": {
     "lang": "de",
     "src_hash": "8ef1d8e1295abf95d0dfece124aa7e303ae9554edb9bb76e7869aa48d6da57e1",
     "updated_at_iso": "2025-08-16T17:44:41.649541+00:00"
    }
   },
   "source": [
    "<table>\n",
    "    <tr>\n",
    "        <td style=\"width: 10%\">Cardinality</td>\n",
    "        <td style=\"width: 40%\">Example</td>\n",
    "        <td style=\"width: 50%\">ER Diagram</td>\n",
    "    </tr>\n",
    "    <tr>\n",
    "        <td>1 to 1</td>\n",
    "        <td>A person is born in at least one, at most one place.</td>\n",
    "        <td><img src=\"https://mermaid.ink/svg/pako:eNqNjzEOwjAMRa8SeW4H1gh1YkQCwYaymMYtkdqkSpyhqnoXzsLJMNAKsSF7sL_--7InqIMl0FB3mNLOYRuxN_5xV9LWRarZBa_2p1U7UkwiGNgYUGW5DIfISquWriGSV86rqlqBd_CCTav46e2WPDsev-b5l5LYf5BXQQE9xR6dlWcEUnIZ36gnA1pGSw3mjg0YP4sVM4fz6GvQHDMVkAeLTMv7oBvskqgD-ksI6z4_AW2lcZg\"></td>\n",
    "    </tr>\n",
    "    <tr>\n",
    "        <td>1 to 0..1</td>\n",
    "        <td>A person has died in zero or one place.</td>\n",
    "        <td><img src=\"https://mermaid.ink/svg/pako:eNqNkLEKwkAMhl_lyNyCrkfp5CgousktsZfWg_au3KVDKX0Xn8UnM2qLuEky_PnJF5JMUAVLoKFqMaWdwyZiZ_zjriSti1SxC17tT6t3pJjEMLA1oPJcxEbEIbLSqqHEIV7JK-dVWa7Ie_QCTqv5yaIgz47Hb_P8S8ngf5BXQAYdxQ6dlXMEUrIb36gjA1qkpRqHlg0YP0srDhzOo69Acxwog6G3yLQ8AHSNbRK3R38JYa3nJ20xcn4\"></td>\n",
    "    </tr>\n",
    "    <tr>\n",
    "        <td>1 to 0..*</td>\n",
    "        <td>A person goes on vacation to zero or more places.</td>\n",
    "        <td><img src=\"https://mermaid.ink/svg/pako:eNqNkL0KQjEMhV8lZBQVXYs4OQqKbtIltlELt630poPIfRefxScz_lzETXqG00O-NOkVXfaMBl1DbbsIdCwUbbrfQOVDYSchJ1hu-mzNpdXA4tQijEZqJuPxQP2qCBiI5E4CtTRU9xASzOc9-Hrgg1_78K3ZjJMEuXyLu19Ke_-DPA8OMXKJFLwupRDohHLiyBaNWs8Hqo1YtKnTUqqSt5fk0EipPMR69iT8-QY0B2paTc-Udjn39-4BWmFz8w\"></td>\n",
    "    </tr>\n",
    "    <tr>\n",
    "        <td>1 to 1..*</td>\n",
    "        <td>A person has previously been to at least one, at most many places.</td>\n",
    "        <td><img src=\"https://mermaid.ink/svg/pako:eNqNT0EKwkAM_MqSo7QFr0vpyaOg6E32ErqpLrS7ZZsipfQvvsWXmWqLeJPMYTLMDMkIZbAEGsoau27n8BqxMf75UALrIpXsglf706odKXYiGNgaUGk6kyzbCD9EVlrdMSrnVVGs_nfvkhpX8YM8J8-Oh695-k1J5T-ReSCBhmKDzsovElJyGN-oIQNaqKUK-5oNGD-JFXsO58GXoDn2lEDfWmRavgddYd2J2qK_hLDu0wtjFnCG\"></td>\n",
    "    </tr>\n",
    "</table>"
   ]
  },
  {
   "cell_type": "markdown",
   "id": "32d5b6f100634073a92bac28aca71505",
   "metadata": {
    "slideshow": {
     "slide_type": "skip"
    },
    "tags": [
     "translated_en"
    ],
    "translation": {
     "lang": "de",
     "src_hash": "09811369960029a29a9103f609f7974201ca829e496b9aee62d68b2179e07c8d",
     "updated_at_iso": "2025-08-16T17:44:48.761459+00:00"
    }
   },
   "source": [
    "It should be noted that the reading direction (`<<` or `>>`) is important, since no statement is made about the cardinality of the reverse direction! In the above example, only a statement is made about how many places *one* person was in, and not about how many people can be in places."
   ]
  },
  {
   "cell_type": "markdown",
   "id": "b669d1b086004403bb5063a1da68035b",
   "metadata": {
    "slideshow": {
     "slide_type": "skip"
    },
    "tags": [
     "translated_en"
    ],
    "translation": {
     "lang": "de",
     "src_hash": "5d7289fb15f818061de60d3470a79c5fcd449e36370d4bb04c2f3be1ec59740b",
     "updated_at_iso": "2025-08-16T17:44:51.793415+00:00"
    }
   },
   "source": [
    "## Example: ER Conceptual Design for Geometric Objects"
   ]
  },
  {
   "cell_type": "markdown",
   "id": "dc368f9bfd32420f88c1cb59ab2cb714",
   "metadata": {
    "slideshow": {
     "slide_type": "skip"
    },
    "tags": [
     "translated_en"
    ],
    "translation": {
     "lang": "de",
     "src_hash": "9d9d8fdf817affeedc1d3a3ad5cd3ff065b19741e04886399fdffb34256aa12e",
     "updated_at_iso": "2025-08-16T17:45:05.645542+00:00"
    }
   },
   "source": [
    "As a design example, we refer to the geometry objects example discussed in the chapter [Objektorientierung](7a_Objects.html). We have the classes `Point`, `Line` and `Polygon` with the variants `Triangle`, `Tetragon` and `Pentagon`.\n",
    "\n",
    "The `Point` has attributes the `x` and `y` coordinates of type `float`, both of which are `public` as annotated with `+`. Furthermore, there are different methods in `Point`, `Line`, and `Polygon` for calculating the distance, area, and length of the respective objects.\n",
    "\n",
    "In the UML diagram we have depicted that a `Polygon` has the aggregation association with multiplicity `1` to `3..*` to the class `Point`, i.e., a polygon is linked to at least three points. The `Line` is, in turn, associated with the `Point` class with the multiplicity `1` to `2`, i.e., a line is associated with exactly two points.\n",
    "\n",
    "The classes `Triangle`, `Tetragon` and `Pentagon` are subclasses of `Polygon`, which add no further functionality."
   ]
  },
  {
   "cell_type": "markdown",
   "id": "d745003319704ec2a7118b7fe462e938",
   "metadata": {
    "slideshow": {
     "slide_type": "skip"
    },
    "tags": [
     "translated_en"
    ],
    "translation": {
     "lang": "de",
     "src_hash": "3b6377102de6bf53a475c43efecefc59f4b2229dc1ea879042708f2aceb68411",
     "updated_at_iso": "2025-08-16T17:45:11.019628+00:00"
    }
   },
   "source": [
    "<center><img src=\"https://mermaid.ink/svg/pako:eNptUcFqwzAM_RWjU7o1hW03s-OOOxS20zAEEStpwJGDrcBCl3-fkyxlKfFJ7-m9JxldofSWQEPpMMa3BuuArWGV3syos29Yrguj1GPlPIr6vsPDDdsmCnJJ2ew7LPy4DXRD7VndMpMLA2F2-EcURZRQFNlewHvDtHE74loud9p5vjLwbEDluU_VU6pmr1ZpxyBHRWy34pfT6WGjX5fVqpskcZUv7OtPnqvP0CDXjvZaJAEntNM7E8vUgyO0FFpsbDrC_CsDcqGWDOhUWqqwd2LA8Jik2Iv_GLgELaGnI_SdRaG_s4Gu0MXEdshf3q94_AW6H5O5\"  width=\"400\"></center>"
   ]
  },
  {
   "cell_type": "markdown",
   "id": "3e2ec8a5a92c4f9ba0c29d93b13e2bd8",
   "metadata": {
    "slideshow": {
     "slide_type": "skip"
    },
    "tags": [
     "translated_en"
    ],
    "translation": {
     "lang": "de",
     "src_hash": "c86293460d363422a4a5416da6835a2b96473b2b97d99603e10db27dfed8d5ca",
     "updated_at_iso": "2025-08-16T17:45:28.060176+00:00"
    }
   },
   "source": [
    "To design a database schema for these objects, we map them into an ER diagram by applying the conversion rules shown above.\n",
    "- We annotate the classes first with `<<Entity>>` to mark them as such.\n",
    "- We remove all methods, since ER diagrams do not support them.\n",
    "- We remove all encapsulation annotations `+`, `-`, or `#` before attributes\n",
    "- We add primary keys to all entities\n",
    "- We convert the special association types Aggregation and Composition into simple associations\n",
    "\n",
    "Since there is no inheritance in ER diagrams and DBMS, we need to decide how to handle the subclasses `Triangle`, `Tetragon`, and `Pentagon`. One possibility would be to introduce a new entity for each, built just like a Polygon. But this would lead to several redundant tables. This is necessary if the subclasses introduce their own attributes. Since they do not do this, we also do not need separate entities, but can incorporate them into the generic Polygon entity by introducing the attribute `PolygonType`, in which we can store whether it is a `Triangle`, `Tetragon`, `Pentagon`, or subtype.\n",
    "\n",
    "We obtain the following conceptual design:\n",
    "\n",
    "<center><img src=\"https://mermaid.ink/svg/pako:eNqVUk1rwzAM_StCx9EWxm6m9NTLWA-h62n4osVKZ5bYwZGhofS_7Lfsl83Nx0ZIDysIIz-_Jz0ZnTH3hlFhXlLTbC0dA1XafX9BCmMD52K9g91-xHbWWQaNjxphuRySLLpPAQWNUBA28M4WNpt_SdiZmaDz0svOI9bHes1OrLR_3D6skyufn7eQvYxPl2m9ruMd9TKfzknBPorSk8DpFtjOWvdjanxarR4m4_uyPaaPVRCrIrmT2fgD4y7DneKG5UbC-Hpo61-TuMCKQ0XWpAVIjSCZkw-uWKNKqeGCYikatbtSKYp_bV2OSkLkBcbakPCwMqgKKpuE1uTevB_vlx87g-rt\" width=\"500\"></center>\n",
    "\n",
    "In the conceptual design there are three entity types. The entity `Point` still has `x` and `y` coordinates as attributes of type `float`. The entity `Line` has two relations to `Point` for the start point and end point. The entity `Polygon` has the relation to `Point` with cardinality `1` to `3..*`, i.e., at least three points. It also has a new attribute `PolygonType` of type `str` to store the subtype. For all three entities we have defined a numeric primary key, since numeric indexes are the most efficient."
   ]
  },
  {
   "cell_type": "markdown",
   "id": "fc4db4b4c4c9418ba529ddb9ef53a404",
   "metadata": {
    "slideshow": {
     "slide_type": "skip"
    },
    "tags": [
     "translated_en"
    ],
    "translation": {
     "lang": "de",
     "src_hash": "3c3f24c66937e4b8e1001622c0d7a9331e07a744d74ff56d1f7bf9dc4007eca1",
     "updated_at_iso": "2025-08-16T17:45:29.831693+00:00"
    }
   },
   "source": [
    "## Normalization of Conceptual Designs to Logical Designs"
   ]
  },
  {
   "cell_type": "markdown",
   "id": "d88efe6e505e416d89ce540d2ac9afe0",
   "metadata": {
    "slideshow": {
     "slide_type": "skip"
    },
    "tags": [
     "translated_en"
    ],
    "translation": {
     "lang": "de",
     "src_hash": "c52a6889c7b9cd10d7b0bf1aebb95e9e483d5391abe0c3da2cff47b72e5d6fe1",
     "updated_at_iso": "2025-08-16T17:45:36.134201+00:00"
    }
   },
   "source": [
    "The normalization is an important step in the process of mapping a conceptual data model to a logical and physical data model. Its purpose is to minimize redundancies (storing the same fact multiple times) by creating new tables and linking them via new relations for\n",
    "- complex attributes (lists, dictionaries)\n",
    "- relations with high cardinality\n",
    "- redundant data (e.g., polygon type)"
   ]
  },
  {
   "cell_type": "markdown",
   "id": "77bc932ca0e14c49914a3ef690eeb0c1",
   "metadata": {
    "slideshow": {
     "slide_type": "skip"
    },
    "tags": [
     "translated_en"
    ],
    "translation": {
     "lang": "de",
     "src_hash": "3ae8e2270908986cfd5d540c1877752c81c1c038125987d92ac1a84619f898aa",
     "updated_at_iso": "2025-08-16T17:45:48.096348+00:00"
    }
   },
   "source": [
    "There are several normal forms, defined by progressively stricter conditions on the database schema:\n",
    "- 1NF - First Normal Form: All attribute values are atomic — that is, each piece of information within a table gets its own column, and related information, such as the postal code and the city, or complex attributes like lists or dictionaries, are not stored in a single column.\n",
    "- 2NF - Second Normal Form: Non-key attributes are fully functionally dependent on all primary keys — that is, only information that functionally depends on the key is stored in an entity. For example, for an invoice, the customer's name is not stored directly, but belongs to a separate Customer entity, since a customer can have multiple invoices. When drawing an ER diagram and thinking about the entities, you usually automatically apply the Second Normal Form.\n",
    "- 3NF - Third Normal Form: Non-key attributes depend only on the primary key — that is, redundant attributes that belong together should be stored together. So ZIP codes and place names tend to occur in pairs and should form a separate entity.\n",
    "- BCNF - Boyce-Codd Normal Form: All attributes on which other attributes depend are keys — that is, if several foreign keys occur in an entity and these depend on each other, this dependency is moved into its own entity. For example, if you store place names and ZIP codes in separate entities (because place names duplicate), you should not store the foreign keys ZIP and city name in the Customer entity, but still need the ZIP–City entity.\n",
    "- 4NF - Fourth Normal Form: There are only trivial multivalued dependencies remaining — that is, if multivalued attributes occur with foreign keys or other multivalued attributes that have no functional relation, they are moved out. For example, in 4NF it is incorrect to store in one table an order’s shipping address, customer number, and item numbers, since the shipping address depends on the customer number but not on the item numbers. The correct design is two tables with shipping address and customer number, and one with item number and customer number.\n",
    "- 5NF - Fifth Normal Form: There are no join dependencies remaining — that is, every join dependency between attributes and foreign keys is moved into its own table.\n",
    "\n",
    "Usually only the first three normal forms are relevant in database design. Higher normal forms result in a very large number of small tables, which even for simple queries must be joined together, drastically limiting usability."
   ]
  },
  {
   "cell_type": "markdown",
   "id": "91eee6fd12cc4c6aa91ba3352ee277cd",
   "metadata": {
    "slideshow": {
     "slide_type": "skip"
    },
    "tags": [
     "translated_en"
    ],
    "translation": {
     "lang": "de",
     "src_hash": "fba14d65d6db090991bbd8de25a8ae49bcb653a0d7788d2308f61022ceb8ab20",
     "updated_at_iso": "2025-08-16T17:45:54.720968+00:00"
    }
   },
   "source": [
    "In our geometry example, we want to look at a few examples of violations of the first through third normal forms.\n",
    "\n",
    "In the following ER diagram, we violate the first normal form because we define a complex attribute `List<Punkt>` instead of decomposing it into a relation."
   ]
  },
  {
   "cell_type": "markdown",
   "id": "c50015f088fc42929bd77e410ee45a06",
   "metadata": {
    "slideshow": {
     "slide_type": "skip"
    },
    "tags": [
     "translated_en"
    ],
    "translation": {
     "lang": "de",
     "src_hash": "e72977c267cb4367b67d8c9a1037c40c11cd7b0632002f220041adccaae430fe",
     "updated_at_iso": "2025-08-16T17:45:59.651984+00:00"
    }
   },
   "source": [
    "<center><img src=\"https://mermaid.ink/svg/pako:eNpVjzEOgzAMRa8See4JEGJiqcqA2q3KYiWGRgUHgTMgBGfpWXqyhpYMtb5k--l_yV7AeEuQgelwmkqH7Yi95vdLRVk3khHnWVXXxL4-Vftubj0vif6U58TiZC6Kf-5YUuJcqvqiWR1VuUm2OvBTNjXsjVJy1awZTtDT2KOz8cJlj2mQB_WkIYujpQZDJxo0r9GKQfxtZgOZjIFOEAaLQsdPkDXYTZEOyHfv075-AHfmYNg\" width=\"200\"></center>"
   ]
  },
  {
   "cell_type": "markdown",
   "id": "1a1858045e734c589ce2b0ef3062b140",
   "metadata": {
    "slideshow": {
     "slide_type": "skip"
    },
    "tags": [
     "translated_en"
    ],
    "translation": {
     "lang": "de",
     "src_hash": "e06ce757edcd7dc02fa40e4b6af86991ebce6e180dc6fcae666a1c216166250d",
     "updated_at_iso": "2025-08-16T17:46:12.089223+00:00"
    }
   },
   "source": [
    "In the second ER diagram we violate the second normal form, because we store the coordinates of the start and end points directly in the line, even though these points are represented as points and thus have a functional dependency. Here is the solution: move them into the `Punkt` entity and create relationships."
   ]
  },
  {
   "cell_type": "markdown",
   "id": "636c3c97bbb544a38f4fec5d37823901",
   "metadata": {
    "slideshow": {
     "slide_type": "skip"
    },
    "tags": [
     "translated_en"
    ],
    "translation": {
     "lang": "de",
     "src_hash": "2a3eca55414293371e26c53fcb86a085a9936276d4abd6789c1d231e5c9f41d6",
     "updated_at_iso": "2025-08-16T17:46:16.692592+00:00"
    }
   },
   "source": [
    "<center><img src=\"https://mermaid.ink/svg/pako:eNp1kEEKg0AMRa8yZO0JRFy5KXVR2l0ZKMGJ7YBmZMxARbxLz9KTdWxrQbCQRfL-_5BkhMoZghSqBvu-sHj12Gp-PlQsYz1VYh2r8riwt0-Vli2NC_tUlhGLlSHP19yyzH7aFeqwX0t141BUL-jlcv8vDVsSsdnOzMIvMWmGBFryLVoTz4w7K6VBbtSShjS2hmoMjWjQPEUrBnGngStIxQdKIHQGhb6PgbTGpo-0Qz47t8zTCyn2gtQ\" width=\"200\"></center>"
   ]
  },
  {
   "cell_type": "markdown",
   "id": "85cc2751afa543b29a4ee400960050fc",
   "metadata": {
    "slideshow": {
     "slide_type": "skip"
    },
    "tags": [
     "translated_en"
    ],
    "translation": {
     "lang": "de",
     "src_hash": "713009d386507831afe09b73f46315de15d8c1589ba8e00c256f03d91f016abb",
     "updated_at_iso": "2025-08-16T17:46:24.820591+00:00"
    }
   },
   "source": [
    "In the last example, we erroneously store the PolygonTyp attribute in the Point entity, even though it belongs to the Polygon entity.\n",
    "\n",
    "<center><img src=\"https://mermaid.ink/svg/pako:eNqVUctqwzAQ_JVljyUJLrmJkFMupT2Ypqeii2rJqageRl5BRfC_9Fv6ZV0ci2LopbCI0czuMiNdsYvaoMDOqXE8WXVJysvw_QVc2ibTkY0Bnp4rN_dBm8MHXSt3q8PBBLJUjsc1bwNBG_l8OEH7uNZ6FxXB519kWZMjJd7iyiWGlzJUbapgkUDivUTYbhnsd7s7xrNVEJB9z84Jfu0tUW6T_wozT6zisBGZm6Z5kwE36E3yymp-Vl4L7IXejTcSBUNtepUdSZRh4laVKZ5L6FBQymaDedCKzPIRKHrlRmYHFV5jrPfpB_QlrEw\" width=\"400\"></center>"
   ]
  },
  {
   "cell_type": "markdown",
   "id": "7e5230e8e90341708a062a76dd84b120",
   "metadata": {
    "slideshow": {
     "slide_type": "skip"
    },
    "tags": [
     "translated_en"
    ],
    "translation": {
     "lang": "de",
     "src_hash": "7504d69e863ed686181151ae0a8eb82ffd9880b25629723f5dc1ffc55bca41f1",
     "updated_at_iso": "2025-08-16T17:46:26.470374+00:00"
    }
   },
   "source": [
    "## Normalization of Cardinalities"
   ]
  },
  {
   "cell_type": "markdown",
   "id": "d5f249263eef4a5bada2d6e20826dd05",
   "metadata": {
    "slideshow": {
     "slide_type": "skip"
    },
    "tags": [
     "translated_en"
    ],
    "translation": {
     "lang": "de",
     "src_hash": "ad71a3c3d8d3f9f7aa34922dbabfedd0dbfa41efb5589b494158c818fc913e51",
     "updated_at_iso": "2025-08-16T17:46:35.192836+00:00"
    }
   },
   "source": [
    "According to the first normal form, we must map cardinalities differently according to their degree. Simple cardinalities (0 or 1) can be stored as an attribute, while higher cardinalities `>1` are mapped as a relation in a new entity. In both logical and physical design, it matters whether an attribute when storing a new entity in the database does not have to be specified (`Nullable`) or must be specified (`Not Null`)."
   ]
  },
  {
   "cell_type": "markdown",
   "id": "5b3f05d7271a42268973494bcd3fd57f",
   "metadata": {
    "editable": true,
    "slideshow": {
     "slide_type": "skip"
    },
    "tags": [
     "translated_en"
    ],
    "translation": {
     "lang": "de",
     "src_hash": "c19cf6d66122c8dd00e160302031ffa283c484e8e8e73a97c0062abe4439a384",
     "updated_at_iso": "2025-08-16T17:46:58.473178+00:00"
    }
   },
   "source": [
    "<table>\n",
    "    <tr>\n",
    "        <td style=\"width: 10%\">Cardinality</td>\n",
    "        <td style=\"width: 40%\">Example</td>\n",
    "        <td style=\"width\": 50%\">ER Diagram</td>\n",
    "    </tr>\n",
    "    <tr>\n",
    "        <td>1 to 1</td>\n",
    "        <td>The relationships are represented by foreign keys in the entity from which the relationship starts, denoted by `>>`. The foreign key is `NOT NULL`, so an entry must ALWAYS be present.</td>\n",
    "        <td><img src=\"https://mermaid.ink/svg/pako:eNp1UMtqQjEQ_ZVh1rpwG8SVCGKx0u5KNtOb0QZyJ5I7WYjcf-m3-GWNmiAihbOYnJxHMmfsomM02AUahqWnQ6LeyuUXCpxP3KmPAm8fjdtxGgphcWYRptM6vCcFAwf-jokFvMBi0Qy34Go7N_KO-ZxFvZ4e4ju8aDWsl7DbvF7WorXAagPbqLDNITTZ-NxcnvZvLbxGF_lT6YgT7Dn15F3ZUkmC8mX94Z4tmjI63lMOatHKVUpZ4-dJOjSaMk8wHx0p172i2VMYCnsk-Yqxncc_DKqVow\"></td>\n",
    "    </tr>\n",
    "    <tr>\n",
    "        <td>1 to 0..1</td>\n",
    "        <td>The relation is represented by a foreign key in the entity. The foreign key is `NULLABLE`, so an entry does not have to be present.</td>\n",
    "        <td><img src=\"https://mermaid.ink/svg/pako:eNp1UMFqQjEQ_JVlj0WFXoN4koJYWmlvkkt8WW0gbyPJ5iDy_sVv6Zd1W19aRApzmExmZ5I9Y5c8ocEuulKWwR2y6y1_XkDhQ6ZOQmJ4fmvahnJRweKjRZhOv8ls9qD8NQsYOFCRlHfEEBgWizb1kz7Onpt4xXxOLEFOf-YrAss4sFrCZn1_-Vu1Ynhaw0uN0e0iNeNw263P-7cY7sPVflOraTjBnnLvgtd1aRbo3-WDerJolHrauxrFouVBra5Kej9xh0ZypQnWo3dC44LR7F0sqh4db1Nq5-ELDQSZBA\" ></td>\n",
    "    </tr>\n",
    "    <tr>\n",
    "        <td>1 to 0..*</td>\n",
    "        <td>The relation is represented as a new entity with a foreign key.</td>\n",
    "        <td><img src=\"https://mermaid.ink/svg/pako:eNqVUctKA0EQ_JWmz8nB6xICQhAkgkHxInNpd3rdgXmE2Z5DCPsvfotfZrsPkhg9CH2oqX5U9fQR62QZK6w9dd3G0XumYOLnB2hYl7kWlyI8PM3cUAc7zl2Kx5kcY7XiKE4O6_Ul76JMDfcb2G3nZD-DMQcGbwzCcjmB29LouJa8MFQ6GwLVrUDJnsrbpZvHLH9agWsvWv67kXPJH260R124CKflRu2znn98x7DLy7AK3G2v8yp0ontcYOAcyFk9lKqAmpKWAxusFFpuqHgxaOJ3KRVJz4dYYyW58ALL3pLwdFqsGvKdsnuKrynN7_4L_TzJhQ\"></td>\n",
    "    </tr>\n",
    "    <tr>\n",
    "        <td>1 to 1..*</td>\n",
    "        <td>The relation is represented as a new entity with a foreign key. At least one entry should exist (this is a consistency rule that cannot be enforced by a DBMS alone (there is otherwise a chicken-and-egg problem)).</td>\n",
    "        <td><img src=\"https://mermaid.ink/svg/pako:eNqVkc1qwzAMx19F6NweejWlMCiF0cHKdhu-iFhZDYldHPlQSt5lz7Inq2jiNl23w8AH-a-vn6QTVtExGqwa6rq1p89ErQ3fX6DP-cSV-Bjg5a1olzjYcepiOBVxeMslB_FyXK3udR9kTHhew25bnH0xBh9YXFiE-Xw0nnKt5fbUCIPR2kBX4Z7lNcmfIPBIouG_Y0wb_mDRHGXwAW6jDb0nOf9Yxm0S2Gwf3dpnM8XDGbacWvJO76RtQKlkzy1bNGo6rinrUtCGXkMpS3w_hgqNpMwzzAdHwuNl0dTUdKoeKHzEWP79GZXPyXc\"></td>\n",
    "    </tr>\n",
    "</table>"
   ]
  },
  {
   "cell_type": "markdown",
   "id": "d7c0b3c7ed44442b886fd4bdb6ea103b",
   "metadata": {
    "slideshow": {
     "slide_type": "skip"
    },
    "tags": [
     "translated_en"
    ],
    "translation": {
     "lang": "de",
     "src_hash": "7466a1c75488104570ea12e99d74e625c0a93b9f2a438823587cdd800d6a3eeb",
     "updated_at_iso": "2025-08-16T17:47:01.470349+00:00"
    }
   },
   "source": [
    "## Example Geometry"
   ]
  },
  {
   "cell_type": "markdown",
   "id": "14e9517f88a241ec918a09e3f463fdcc",
   "metadata": {
    "slideshow": {
     "slide_type": "skip"
    },
    "tags": [
     "translated_en"
    ],
    "translation": {
     "lang": "de",
     "src_hash": "436ffa42593b2efc6d6ec019e1f248530ffdb147c249f0c7373d3f22dbf15de6",
     "updated_at_iso": "2025-08-16T17:47:11.878331+00:00"
    }
   },
   "source": [
    "To convert the above-mentioned conceptual design for the geometry objects into a logical design, we must normalize the design. Let's take another look at the design.\n",
    "\n",
    "<center><img src=\"https://mermaid.ink/svg/pako:eNqVUk1rwzAM_StCx9EWxm6m9NTLWA-h62n4osVKZ5bYwZGhofS_7Lfsl83Nx0ZIDysIIz-_Jz0ZnTH3hlFhXlLTbC0dA1XafX9BCmMD52K9g91-xHbWWQaNjxphuRySLLpPAQWNUBA28M4WNpt_SdiZmaDz0svOI9bHes1OrLR_3D6skyufn7eQvYxPl2m9ruMd9TKfzknBPorSk8DpFtjOWvdjanxarR4m4_uyPaaPVRCrIrmT2fgD4y7DneKG5UbC-Hpo61-TuMCKQ0XWpAVIjSCZkw-uWKNKqeGCYikatbtSKYp_bV2OSkLkBcbakPCwMqgKKpuE1uTevB_vlx87g-rt\" width=\"500\"></center>"
   ]
  },
  {
   "cell_type": "markdown",
   "id": "a41f7e069229436e9d8bd5b8de73bc12",
   "metadata": {
    "slideshow": {
     "slide_type": "skip"
    },
    "tags": [
     "translated_en"
    ],
    "translation": {
     "lang": "de",
     "src_hash": "150942f636c50fb3891b5d1031702930865ba6faec4078c0811a53ac4c43b09a",
     "updated_at_iso": "2025-08-16T17:47:19.880162+00:00"
    }
   },
   "source": [
    "We have the three entities `Linie`, `Punkt` and `Polygon` with two 1:1 relationships from `Linie` to `Punkt` and a 1:3..*-relationship from `Polygon` to `Punkt`.\n",
    "\n",
    "First, by applying the rules of 1NF and decomposing these relations according to the table mentioned above, we can represent the two 1:1 relationships from `Linie` to `Punkt` using foreign keys in the `Linie` entity.\n",
    "\n",
    "The 1:3..*-relationships from `Polygon` to `Punkt`, however, cannot be directly mapped according to 1NF, since the multiplicity is greater than 1 and we must introduce a new entity. This entity (table) lists which polygons use which points. The new entity thus contains the two foreign keys and a new primary key. In the logical design we also include the foreign keys as attributes to represent them unambiguously."
   ]
  },
  {
   "cell_type": "markdown",
   "id": "870ca0b5bac7438d86ecc3c986eb1840",
   "metadata": {
    "slideshow": {
     "slide_type": "skip"
    },
    "tags": [
     "translated_en"
    ],
    "translation": {
     "lang": "de",
     "src_hash": "91384bd8fa5756cc6e84e11bea67ae3e41d67c29825c76d6459671e38b5e05f6",
     "updated_at_iso": "2025-08-16T17:47:23.999431+00:00"
    }
   },
   "source": [
    "<center><img src=\"https://mermaid.ink/svg/pako:eNqVk0FqwzAQRa8yaJ0sujUmq7RQEoJJuireqNY4FZUlI49KTchdepaerLIVNzi22xoGIc38j56k0YllRiCLWKZ4Va0lP1pepPrrE3wIaTEjaTRs911uK7VESNldymC5vEwSp98IIqiIW0IBLyhhtfqXBbUYGFqWYDt1uRBxjJok1VdtCKmp0ePjGpLNsHRouMKODxvYGdo5pYayey2mROc-WyubwZYYP47A5cpwgo9xpFCs_0Ixqj4aPQumdYzgVGS76lNdTm4cLun2QYOvraF_2DgGV-SekH5sPcW43Rvf_XjbCz3rjKPuUfGmgSf64noTv7VF93gjXcEWrEBbcCn8F_Jc4E9Dr1hgyiI_FZhzpyhlqW6k3JE51DpjEVmHC-ZKwQkvn45FOVeVz5ZcPxvTrc_fQ2JraQ\"></center>"
   ]
  },
  {
   "cell_type": "markdown",
   "id": "037025668ad54212905f06a348df49bb",
   "metadata": {
    "slideshow": {
     "slide_type": "skip"
    },
    "tags": [
     "translated_en"
    ],
    "translation": {
     "lang": "de",
     "src_hash": "9368a50c414baec690a7983f9b13f98c457d6e1ad3aaf955858ab1eb1bbe6f12",
     "updated_at_iso": "2025-08-16T17:47:33.129847+00:00"
    }
   },
   "source": [
    "In this draft, 2NF and 3NF are already satisfied.\n",
    "\n",
    "However, we have many duplications (redundancies) with the attribute `PolygonTyp`, which can only take the values `Triangle`, `Tetragon`, and `Pentagon`, but must be stored as a new string each time. At the same time, we also want this attribute to only take these values and not be filled with gibberish.\n",
    "\n",
    "Therefore, it makes sense to constrain the values here and to avoid duplication of strings by introducing a new entity `PolygonType`. This defines the base types `Triangle`, `Tetragon`, and `Pentagon` and assigns them a numeric primary key, which we reference in the entity `Polygon` as a foreign key.\n",
    "\n",
    "Lastly, we also define for all attributes and foreign keys whether they are `Nullable` or `NotNull`.\n",
    "\n",
    "We obtain the final logical design:"
   ]
  },
  {
   "cell_type": "markdown",
   "id": "4e5a5c31ad3e4478b208dfc1156edab5",
   "metadata": {
    "slideshow": {
     "slide_type": "skip"
    },
    "tags": [
     "translated_en"
    ],
    "translation": {
     "lang": "de",
     "src_hash": "073c357514a967dbf7e4597e57c0785864425f7987e0a03d79e26b0546310602",
     "updated_at_iso": "2025-08-16T17:47:50.007544+00:00"
    }
   },
   "source": [
    "<center><img src=\"https://mermaid.ink/svg/pako:eNqVVEFugzAQ_MrK5-TQK0I5pZWqRBFKeqp8cfGSWDV2BOuqKOIvfUtfVoMhVQKhDbIs450RM7M2J5ZaiSxiqRZluVRiX4icm-8v8EOqAlNS1sB62--tlVEInD1wBvN5t0iceSeIoCRREEp4QwWLxb8oaOSA0GoJtFO_F0YcoyFF1S82DGWowePzEpLVsLRrdIUvPq1gY2njtB7CHo28BaovtbWwO7Ql1s8j4jJtBcHnuKRQrP6SYnW1t-YuMS3jRlZd9aU6esBEECGp664GcltD3904BpdnXiadaReIcbonfvj5-kBcUCf8Qvc0braoRXOCp82OOh12byqNc2pobrvycRx8S0dttdT7uxj6dO2tpAI2IscRvWzGcixyoaS_9acmLc7ogDlyFvmlxEw4TZxxU3uocGR3lUlZRIXDGXNHKQi7_0S_eRTm1Vr_mgldYv0DvTmt6A\"></center>"
   ]
  },
  {
   "cell_type": "markdown",
   "id": "af7b6c48a47742c1b70481fa48c54faa",
   "metadata": {
    "editable": true,
    "slideshow": {
     "slide_type": "skip"
    },
    "tags": [
     "translated_en"
    ],
    "translation": {
     "lang": "de",
     "src_hash": "a239e0b45b36a446cb93284b3e827e056bf4032699b3065d51d872c9c175189d",
     "updated_at_iso": "2025-08-16T17:48:01.779006+00:00"
    }
   },
   "source": [
    "Wichtig zu erkennen in dem logischen Entwurf ist, dass wir jetzt nur noch 1:1-Relationen haben, also alle höherwertigen Kardinalitäten aufgelöst haben. Zusätzlich haben wir Redundanzen aufgelöst und haben jetzt ein sehr effizienten Datenbankentwurf.\n",
    "\n",
    "Im Physikalischen Entwurf würde man diesem Entwurf jetzt noch weitere Informationen hinzufügen, wie zum Beispiel zusätzliche Zugangangsbeschränkungen oder Abfrageindizies. Zugangsbeschränkungen gibt es in den meisten DBMSs nur auf Entitätsebene und nicht auf Attributsebene (wie in UML), man kann also Beschränken welche Nutzer, welche Tabellen sehen, lesen, erzeugen, oder verändern können, aber nicht welche Spalten sie sehen. \n",
    "\n",
    "Beim Entwurf von Abfrageindizies ist die Regel, dass man versucht alle häufig genutzten `WHERE`-Bedingungen, die man in `SELECT`-Anfragen in SQL benutzt, durch entsprechende Indizies beschleunigt werden.\n",
    "\n",
    "Damit sind wir auch schon direkt im SQL Thema wo wir uns mit der Erzeugung von Tabellen beschäftigen wollen."
   ]
  },
  {
   "cell_type": "markdown",
   "id": "404e871d75124b4683d87b3a08a37d9a",
   "metadata": {
    "editable": true,
    "slideshow": {
     "slide_type": "slide"
    },
    "tags": [
     "remove-cell",
     "translated_en"
    ],
    "translation": {
     "lang": "de",
     "src_hash": "0dd79e5f80a820e437ce7394c24ca80be3452aaae1b6eae0a2417f8be029bbe3",
     "updated_at_iso": "2025-08-16T17:48:09.858464+00:00"
    }
   },
   "source": [
    "## Database Design Process\n",
    "\n",
    "The traditional design process resembles the waterfall model used in software design.\n",
    "\n",
    "1. *Requirements analysis*: What requirements and use cases does the database need to support?\n",
    "2. *Conceptual design*: High-level design in the ER diagram with entities, attributes, and relationships\n",
    "3. *Logical design*: Detailed design of the concrete database schema for a specific DBMS\n",
    "4. *Physical design*: Primary indexes and secondary indexes to optimize access\n",
    "5. *Implementation*: Creating the database with SQL\n",
    "6. *Maintenance*: Using the database"
   ]
  },
  {
   "cell_type": "markdown",
   "id": "4340009980e741f7a24d771d1b7561e7",
   "metadata": {
    "editable": true,
    "slideshow": {
     "slide_type": "subslide"
    },
    "tags": [
     "remove-cell",
     "translated_en"
    ],
    "translation": {
     "lang": "de",
     "src_hash": "7c996df428dc3401842dcf5b82ddd4dc81d7aa50a25fc4c951889282409c3147",
     "updated_at_iso": "2025-08-16T17:48:14.772653+00:00"
    }
   },
   "source": [
    "## Entity-Relationship Model - Introduction\n",
    "\n",
    "- Entity-Relationship models design the data model of a database\n",
    "- They specify: *what*, *how*, and with *which relationships* data is stored\n",
    "- Often found in software documentation and procurement specifications\n",
    "- Developed in 1976 by Peter Chen: *\"The Entity-Relationship Model\"*\n",
    "- *Various variants* of ER diagrams exist"
   ]
  },
  {
   "cell_type": "markdown",
   "id": "9b27eb4a511146ab99af7e9e84a69799",
   "metadata": {
    "editable": true,
    "slideshow": {
     "slide_type": "subslide"
    },
    "tags": [
     "remove-cell",
     "translated_en"
    ],
    "translation": {
     "lang": "de",
     "src_hash": "cf26511bb1e6e2153b6557f1d180df6b28794e6e9b1b01ee8773d9a884b524ed",
     "updated_at_iso": "2025-08-16T17:48:28.207900+00:00"
    }
   },
   "source": [
    "## ER Model - Basic Concepts\n",
    "\n",
    "<div class=\"flex-row\">\n",
    "  <div class=\"col1\">\n",
    "\n",
    "*Core Concepts:*\n",
    "\n",
    "- *Entity Type*: Class of objects (Example: Point, Line, Polygon)\n",
    "\n",
    "- *Entity*: A single identifiable object (Example: A single point)\n",
    "\n",
    "  </div>\n",
    "  <div class=\"col1\"> \n",
    "\n",
    "*Additional Components:*\n",
    "\n",
    "- *Attributes*: Properties of an entity (Example: the x and y coordinates of a point)\n",
    "\n",
    "- *Relationship*: Relationships between entities (Example: Point (0,0) \"belongs_to\" Line 1)\n",
    "\n",
    "  </div>\n",
    "</div>"
   ]
  },
  {
   "cell_type": "markdown",
   "id": "40631834570345939b9e65853d808729",
   "metadata": {
    "editable": true,
    "slideshow": {
     "slide_type": "subslide"
    },
    "tags": [
     "remove-cell",
     "translated_en"
    ],
    "translation": {
     "lang": "de",
     "src_hash": "a2ba429885dd6c8fc232cdd9413c6f8ca57af94f63e296bd2144c777c7195308",
     "updated_at_iso": "2025-08-16T17:48:42.592978+00:00"
    }
   },
   "source": [
    "## Diagram Types — Different Notations\n",
    "\n",
    "<div class=\"flex-row\">\n",
    "  <div class=\"col1\">\n",
    "\n",
    "*Historical development:*\n",
    "- *Chen notation* (Peter Chen, 1976)\n",
    "- *IDEF1X* (U.S. government standard, 1985)  \n",
    "- *Bachman notation* (Charles Bachman, 1969)\n",
    "- *Crow's Foot notation* (Gordon Everest, 1976)\n",
    "- *(min, max) notation* (Jean-Raymond Abrial, 1974)\n",
    "\n",
    "*Modern approaches:*\n",
    "- *UML* as an ISO standard (replacement for ER diagrams)\n",
    "\n",
    "  </div>\n",
    "  <div class=\"col1\"> \n",
    "    <figure class=\"mj-fig\">\n",
    "        <img src=\"images/11a_Datenbanken_Entwurf/notation.png\" class=\"mj-fig-img\" style=\"height: 60vh\">\n",
    "        <figcaption class=\"mj-fig-cap\">\n",
    "            https://de.wikipedia.org/wiki/Datei:ERD_Darstellungen.png\n",
    "        </figcaption>\n",
    "    </figure>\n",
    "  </div>\n",
    "</div>"
   ]
  },
  {
   "cell_type": "markdown",
   "id": "51ffcea165b24a58a7bd17319c47127c",
   "metadata": {
    "editable": true,
    "slideshow": {
     "slide_type": "subslide"
    },
    "tags": [
     "remove-cell",
     "translated_en"
    ],
    "translation": {
     "lang": "de",
     "src_hash": "b6fc59074e57faee0a01c036ee5d706bf6cb5b025b236202ce81799c21970a45",
     "updated_at_iso": "2025-08-16T17:48:55.580438+00:00"
    }
   },
   "source": [
    "## Terminology Differences\n",
    "\n",
    "| Object Orientation | Relational Database | ER Diagrams |\n",
    "|--|--|--|\n",
    "| Object Instance | Data Tuple | Entity |\n",
    "| Classes | Relations | Entity Type |\n",
    "| Class Definition | Relation Schema | Entity-Relationship Model |\n",
    "| Attribute | Attribute | Attribute |\n",
    "| Association | Foreign Key | Relations |\n",
    "| Multiplicities | - | Cardinalities |"
   ]
  },
  {
   "cell_type": "markdown",
   "id": "f8364ec29e474a40b78f878171970b94",
   "metadata": {
    "editable": true,
    "slideshow": {
     "slide_type": "subslide"
    },
    "tags": [
     "remove-cell",
     "translated_en"
    ],
    "translation": {
     "lang": "de",
     "src_hash": "c30ca19741d9b75a37c26c068639429b22e41f2d72d75ad34846199c945d01bc",
     "updated_at_iso": "2025-08-16T17:49:04.400309+00:00"
    }
   },
   "source": [
    "## OOP vs Relational Databases - Comparison\n",
    "\n",
    "| Feature                  | Object-Oriented     | Relational Databases |\n",
    "|--------------------------|---------------------|-------------------------|\n",
    "| Modeling                 | ✅ as objects       | ✅ as relations        |\n",
    "| Attributes               | ✅                   | ✅                      |\n",
    "| Methods                  | ✅                   | ❌                      |\n",
    "| Inheritance              | ✅                   | ❌                      |\n",
    "| Polymorphism             | ✅                   | ❌                      |\n",
    "| Generalization           | ✅                   | ❌                      |\n",
    "| Aggregation              | ✅                   | ❌                      |\n",
    "| Encapsulation            | ✅                   | ✅                      |"
   ]
  },
  {
   "cell_type": "markdown",
   "id": "df4eb353a4eb4823aefa3273a42711d9",
   "metadata": {
    "editable": true,
    "slideshow": {
     "slide_type": "subslide"
    },
    "tags": [
     "remove-cell",
     "translated_en"
    ],
    "translation": {
     "lang": "de",
     "src_hash": "eb96603678d86cdeb27588ac9b2ada2596e8e48699b2f6f498ebb7b749c14ab9",
     "updated_at_iso": "2025-08-16T17:49:12.957043+00:00"
    }
   },
   "source": [
    "## Object-Oriented Software Design\n",
    "\n",
    "In object-oriented software design, a *program of objects* is modeled:\n",
    "\n",
    "- *Class Definition*: How are objects defined in the form of classes?\n",
    "- *Attributes and Methods*: What properties and behaviors do they have?\n",
    "- *Inheritance*: How do classes build on one another?\n",
    "- *Static Relationships*: How do they relate to each other?\n",
    "- *Dynamic Interaction*: How do they interact at runtime?\n",
    "\n",
    "*Modeling Language*: UML diagrams"
   ]
  },
  {
   "cell_type": "markdown",
   "id": "a30b8da76084472096eb911c43a866b9",
   "metadata": {
    "editable": true,
    "slideshow": {
     "slide_type": "subslide"
    },
    "tags": [
     "remove-cell",
     "translated_en"
    ],
    "translation": {
     "lang": "de",
     "src_hash": "fa78a103c791df1f4911be7f9da83c8b2e4cba10d2f560dd3efa4df045b6a8b8",
     "updated_at_iso": "2025-08-16T17:49:21.832657+00:00"
    }
   },
   "source": [
    "## Database Design\n",
    "\n",
    "In database design, an *entity-based database* is modeled:\n",
    "\n",
    "- *Entity types*: How are they defined in the form of tables?\n",
    "- *Attributes*: What properties do entities have as columns?\n",
    "- *Static relationships*: How do they relate to each other?\n",
    "\n",
    "*Modeling language*: Entity-Relationship diagrams"
   ]
  },
  {
   "cell_type": "markdown",
   "id": "1f468e841532408fa7ef4d0e6048b6fb",
   "metadata": {
    "editable": true,
    "slideshow": {
     "slide_type": "subslide"
    },
    "tags": [
     "remove-cell",
     "translated_en"
    ],
    "translation": {
     "lang": "de",
     "src_hash": "5d8b1b3c2a3889863d5c582a563b57980d93d6280bfa711b4404d7bff5a36976",
     "updated_at_iso": "2025-08-16T17:49:34.975424+00:00"
    }
   },
   "source": [
    "## UML for ER Diagrams - Special Features\n",
    "\n",
    "<div class=\"flex-row\">\n",
    "  <div class=\"col1\">\n",
    "\n",
    "- Annotate classes with `<<Entity>>`\n",
    "- Attributes as class attributes with data types\n",
    "- *PK* designates the primary key\n",
    "- Foreign keys as associations\n",
    "- Reading direction: `<<` or `>>`\n",
    "- Numbers indicate *cardinality*\n",
    "- *No methods!*\n",
    "\n",
    "  </div>\n",
    "  <div class=\"col1\"> \n",
    "\n",
    "<img src=\"https://mermaid.ink/svg/pako:eNqVUctqwzAQ_JVljyUJLrmJkFMupT2Ypqeii2rJqageRl5BRfC_9Fv6ZV0ci2LopbCI0czuMiNdsYvaoMDOqXE8WXVJysvw_QVc2ibTkY0Bnp4rN_dBm8MHXSt3q8PBBLJUjsc1bwNBG_l8OEH7uNZ6FxXB519kWZMjJd7iyiWGlzJUbapgkUDivUTYbhnsd7s7xrNVEJB9z84Jfu0tUW6T_wozT6zisBGZm6Z5kwE36E3yymp-Vl4L7IXejTcSBUNtepUdSZRh4laVKZ5L6FBQymaDedCKzPIRKHrlRmYHFV5jrPfpB_QlrEw\">\n",
    "\n",
    "  </div>\n",
    "</div>"
   ]
  },
  {
   "cell_type": "markdown",
   "id": "f45d3c0a6cd74680841c2acc2f54514c",
   "metadata": {
    "editable": true,
    "slideshow": {
     "slide_type": "subslide"
    },
    "tags": [
     "remove-cell",
     "translated_en"
    ],
    "translation": {
     "lang": "de",
     "src_hash": "14107837c5e10e0d788b12c5ebcded6d893fd68c204be7f1a059987afeefe5ad",
     "updated_at_iso": "2025-08-16T17:50:05.491988+00:00"
    }
   },
   "source": [
    "## Cardinalities (Multiplicities)\n",
    "\n",
    "<table>\n",
    "    <tr>\n",
    "        <td style=\"width: 30%\">Cardinality</td>\n",
    "        <td style=\"width: 70%\">ER Diagram</td>\n",
    "    </tr>\n",
    "    <tr>\n",
    "        <td>1-to-1: A person is born in exactly one location</td>\n",
    "        <td><img src=\"https://mermaid.ink/svg/pako:eNp1UMtqQjEQ_ZVh1rpwG8SVCGKx0u5KNtOb0QZyJ5I7WYjcf-m3-GWNmiAihbOYnJxHMmfsomM02AUahqWnQ6LeyuUXCpxP3KmPAm8fjdtxGgphcWYRptM6vCcFAwf-jokFvMBi0Qy34Go7N_KO-ZxFvZ4e4ju8aDWsl7DbvF7WorXAagPbqLDNITTZ-NxcnvZvLbxGF_lT6YgT7Dn15F3ZUkmC8mX94Z4tmjI63lMOatHKVUpZ4-dJOjSaMk8wHx0p172i2VMYCnsk-Yqxncc_DKqVow\" style=\"height:15vh;text-align:center;margin:0;\"></td>\n",
    "    </tr>\n",
    "    <tr>\n",
    "        <td>1-to-0..1: A person dies in zero or one location</td>\n",
    "        <td><img src=\"https://mermaid.ink/svg/pako:eNp1UMFqQjEQ_JVlj0WFXoN4koJYWmlvkkt8WW0gbyPJ5iDy_sVv6Zd1W19aRApzmExmZ5I9Y5c8ocEuulKWwR2y6y1_XkDhQ6ZOQmJ4fmvahnJRweKjRZhOv8ls9qD8NQsYOFCRlHfEEBgWizb1kz7Onpt4xXxOLEFOf-YrAss4sFrCZn1_-Vu1Ynhaw0uN0e0iNeNw263P-7cY7sPVflOraTjBnnLvgtd1aRbo3-WDerJolHrauxrFouVBra5Kej9xh0ZypQnWo3dC44LR7F0sqh4db1Nq5-ELDQSZBA\" style=\"height:15vh;text-align:center;margin:0;\"></td>\n",
    "    </tr>\n",
    "    <tr>\n",
    "        <td>1-to-0..*: A person vacations in zero to many locations</td>\n",
    "        <td><img src=\"https://mermaid.ink/svg/pako:eNqVUctKA0EQ_JWmz8nB6xICQhAkgkHxInNpd3rdgXmE2Z5DCPsvfotfZrsPkhg9CH2oqX5U9fQR62QZK6w9dd3G0XumYOLnB2hYl7kWlyI8PM3cUAc7zl2Kx5kcY7XiKE4O6_Ul76JMDfcb2G3nZD-DMQcGbwzCcjmB29LouJa8MFQ6GwLVrUDJnsrbpZvHLH9agWsvWv67kXPJH260R124CKflRu2znn98x7DLy7AK3G2v8yp0ontcYOAcyFk9lKqAmpKWAxusFFpuqHgxaOJ3KRVJz4dYYyW58ALL3pLwdFqsGvKdsnuKrynN7_4L_TzJhQ\" style=\"height:15vh;text-align:center;margin:0;\"></td>\n",
    "    </tr>\n",
    "    <tr>\n",
    "        <td>1-to-1..*: A person has previously been to one or more locations</td>\n",
    "        <td><img src=\"https://mermaid.ink/svg/pako:eNqVkc1qwzAMx19F6NweejWlMCiF0cHKdhu-iFhZDYldHPlQSt5lz7Inq2jiNl23w8AH-a-vn6QTVtExGqwa6rq1p89ErQ3fX6DP-cSV-Bjg5a1olzjYcepiOBVxeMslB_FyXK3udR9kTHhew25bnH0xBh9YXFiE-Xw0nnKt5fbUCIPR2kBX4Z7lNcmfIPBIouG_Y0wb_mDRHGXwAW6jDb0nOf9Yxm0S2Gwf3dpnM8XDGbacWvJO76RtQKlkzy1bNGo6rinrUtCGXkMpS3w_hgqNpMwzzAdHwuNl0dTUdKoeKHzEWP79GZXPyXc\" style=\"height:15vh;text-align:center;margin:0;\"></td>\n",
    "    </tr>\n",
    "</table>"
   ]
  },
  {
   "cell_type": "markdown",
   "id": "8de25d11a0a44d699e78b5863b18160d",
   "metadata": {
    "editable": true,
    "slideshow": {
     "slide_type": "subslide"
    },
    "tags": [
     "remove-cell",
     "translated_en"
    ],
    "translation": {
     "lang": "de",
     "src_hash": "481e1bb9066a9671a49d19d01e7cac9a17029f76630cf8a90e9a69593441c1b7",
     "updated_at_iso": "2025-08-16T17:50:11.780644+00:00"
    }
   },
   "source": [
    "## From the Conceptual Model to the Logical Model\n",
    "\n",
    "- Different DBMSs offer different data types\n",
    "- Complex attributes (lists, dictionaries) cannot be stored directly\n",
    "- Relationships with multiplicities greater than 1 cannot be stored in a single table with the entity\n",
    "- Redundant data (e.g., polygon type or addresses) that always have the same values waste storage unnecessarily and are hard to maintain (updates in many places)\n",
    "- These constraints mean that conceptual data models are often not directly mappable to a database"
   ]
  },
  {
   "cell_type": "markdown",
   "id": "5cc1dc84bbbe43efbc53d6486266447b",
   "metadata": {
    "editable": true,
    "slideshow": {
     "slide_type": "slide"
    },
    "tags": [
     "remove-cell",
     "translated_en"
    ],
    "translation": {
     "lang": "de",
     "src_hash": "257775125718918c873b897eb6369b50637a1d1e47de95aa8c88dcf7bfebb907",
     "updated_at_iso": "2025-08-16T17:50:19.291418+00:00"
    }
   },
   "source": [
    "## Normalization\n",
    "\n",
    "<div class=\"alert alert-block alert-success\">\n",
    "<b>📘 Definition: Normalization</b>\n",
    "\n",
    "Normalization is an important step in the process of mapping a conceptual data model to a logical and physical data model. Its purpose is to minimize redundancies (storing the same fact multiple times) by:\n",
    "</div>\n",
    "\n",
    "- complex attributes are moved to new tables\n",
    "- high-cardinality relationships are moved to new tables\n",
    "- redundant data (e.g., polygon type) are moved to new tables"
   ]
  },
  {
   "cell_type": "markdown",
   "id": "f1522e6da6134ab7b3f4241295b3d1dd",
   "metadata": {
    "editable": true,
    "slideshow": {
     "slide_type": "subslide"
    },
    "tags": [
     "remove-cell",
     "translated_en"
    ],
    "translation": {
     "lang": "de",
     "src_hash": "373f748bf4eebc063604df2265fd821804fe41088bcb704f3a65079c68172c6b",
     "updated_at_iso": "2025-08-16T17:50:30.229919+00:00"
    }
   },
   "source": [
    "## Normal Forms\n",
    "\n",
    "Different normal forms with progressively stricter constraints on the database schema:\n",
    "\n",
    "- *1st Normal Form:* All attribute values are atomic (not complex)\n",
    "- *2nd Normal Form:* Non-key attributes are fully functionally dependent on all primary keys\n",
    "- *3rd Normal Form:* Non-key attributes are functionally dependent only on the primary key\n",
    "- *Boyce-Codd Normal Form:* All attributes on which attributes depend are keys\n",
    "- *4th Normal Form:* There are only trivial multivalued dependencies left\n",
    "- *5th Normal Form:* There are no multivalued dependencies that depend on each other\n",
    "\n",
    "This results in many, highly simplified tables, which can be recombined into larger relations.\n",
    "\n",
    "*Most of the time, only the first three normal forms are relevant in everyday database work.*"
   ]
  },
  {
   "cell_type": "markdown",
   "id": "ae1fb53df00d4824b4edd5d31fe0a8e2",
   "metadata": {
    "editable": true,
    "slideshow": {
     "slide_type": "subslide"
    },
    "tags": [
     "remove-cell",
     "translated_en"
    ],
    "translation": {
     "lang": "de",
     "src_hash": "d733acf22f1fd3b0a28578f558fc415c117fa2dcafac2ce4dc3f2afd564d0e2f",
     "updated_at_iso": "2025-08-16T17:50:41.011243+00:00"
    }
   },
   "source": [
    "## First Normal Form\n",
    "\n",
    "- *Example:* First Normal Form violated\n",
    "- *Error:* List<Punkt> as attribute instead of relation\n",
    "\n",
    "<div class=\"flex-row\">\n",
    "  <div class=\"col1\">\n",
    "\n",
    "```sql\n",
    "-- Falsch: Komplexe Attribute\n",
    "CREATE TABLE Polygon (\n",
    "    id INT PRIMARY KEY,\n",
    "    punkte LIST<Punkt>  -- Verletzt 1NF\n",
    ");\n",
    "```\n",
    "\n",
    "  </div>\n",
    "  <div class=\"col1\"> \n",
    "\n",
    "```sql\n",
    "-- Richtig: Atomare Attribute\n",
    "CREATE TABLE Polygon (\n",
    "    id INT PRIMARY KEY\n",
    ");\n",
    "\n",
    "CREATE TABLE PolygonPunkte (\n",
    "    polygon_id INT,\n",
    "    punkt_id INT,\n",
    "    FOREIGN KEY (polygon_id) REFERENCES Polygon(id),\n",
    "    FOREIGN KEY (punkt_id) REFERENCES Punkt(id)\n",
    ");\n",
    "```\n",
    "\n",
    "  </div>\n",
    "</div>"
   ]
  },
  {
   "cell_type": "markdown",
   "id": "ea718a73a3074e6094d7d01e07ce0509",
   "metadata": {
    "editable": true,
    "slideshow": {
     "slide_type": "subslide"
    },
    "tags": [
     "remove-cell",
     "translated_en"
    ],
    "translation": {
     "lang": "de",
     "src_hash": "baf12f6a3226e2a2f3889e1d63b30698029c04afac74787a3a4541119725abd5",
     "updated_at_iso": "2025-08-16T17:50:52.112194+00:00"
    }
   },
   "source": [
    "## Second Normal Form\n",
    "\n",
    "- *Example:* Second Normal Form violated\n",
    "- *Error:* Point not moved to a separate table\n",
    "\n",
    "\n",
    "<div class=\"flex-row\">\n",
    "  <div class=\"col1\">\n",
    "\n",
    "```sql\n",
    "-- Wrong: Not fully dependent on the primary key\n",
    "CREATE TABLE Linie (\n",
    "    id INT PRIMARY KEY,\n",
    "    start_x FLOAT,\n",
    "    start_y FLOAT,\n",
    "    end_x FLOAT,\n",
    "    end_y FLOAT\n",
    ");\n",
    "```\n",
    "\n",
    "  </div>\n",
    "  <div class=\"col1\"> \n",
    "\n",
    "```sql\n",
    "-- Correct: Points moved out\n",
    "CREATE TABLE Punkt (\n",
    "    id INT PRIMARY KEY,\n",
    "    x FLOAT,\n",
    "    y FLOAT\n",
    ");\n",
    "\n",
    "CREATE TABLE Linie (\n",
    "    id INT PRIMARY KEY,\n",
    "    start_punkt_id INT NOT NULL,\n",
    "    end_punkt_id INT NOT NULL,\n",
    "    FOREIGN KEY (start_punkt_id) REFERENCES Punkt(id),\n",
    "    FOREIGN KEY (end_punkt_id) REFERENCES Punkt(id)\n",
    ");\n",
    "```\n",
    "\n",
    "  </div>\n",
    "</div>"
   ]
  },
  {
   "cell_type": "markdown",
   "id": "268150f5b5b94385b3586959fbe15d39",
   "metadata": {
    "editable": true,
    "slideshow": {
     "slide_type": "subslide"
    },
    "tags": [
     "remove-cell",
     "translated_en"
    ],
    "translation": {
     "lang": "de",
     "src_hash": "fa3ef9f3e9cc4a9ca406d4e3c9f9540ebff918cb7af8b4dda9af7945372fb60e",
     "updated_at_iso": "2025-08-16T17:51:05.755027+00:00"
    }
   },
   "source": [
    "## Third Normal Form\n",
    "\n",
    "- *Example:* Third Normal Form violation\n",
    "- *Error:* PolygonTyp is dependent on Polygon\n",
    "\n",
    "<div class=\"flex-row\">\n",
    "  <div class=\"col1\">\n",
    "\n",
    "```sql\n",
    "-- Incorrect: Transitive dependency\n",
    "CREATE TABLE Polygon (\n",
    "    id INT PRIMARY KEY,\n",
    "    typ_name VARCHAR(50),\n",
    "    typ_beschreibung VARCHAR(200)\n",
    ");\n",
    "```\n",
    "\n",
    "  </div>\n",
    "  <div class=\"col1\"> \n",
    "\n",
    "```sql\n",
    "-- Correct: PolygonTyp moved to a separate table\n",
    "CREATE TABLE PolygonTyp (\n",
    "    id INT PRIMARY KEY,\n",
    "    name VARCHAR(50),\n",
    "    beschreibung VARCHAR(200)\n",
    ");\n",
    "\n",
    "CREATE TABLE Polygon (\n",
    "    id INT PRIMARY KEY,\n",
    "    typ_id INT,\n",
    "    FOREIGN KEY (typ_id) REFERENCES PolygonTyp(id)\n",
    ");\n",
    "```\n",
    "\n",
    "  </div>\n",
    "</div>"
   ]
  },
  {
   "cell_type": "markdown",
   "id": "7dbe61b3e7ce4514b010926e79ba0d97",
   "metadata": {
    "editable": true,
    "slideshow": {
     "slide_type": "subslide"
    },
    "tags": [
     "remove-cell",
     "translated_en"
    ],
    "translation": {
     "lang": "de",
     "src_hash": "4af95f25d8cb976021d59a9b0d9ff170edd9966a95be2a258c2ac22d1e134390",
     "updated_at_iso": "2025-08-16T17:51:18.200146+00:00"
    }
   },
   "source": [
    "## Cardinalities (Multiplicities)\n",
    "\n",
    "Cardinalities are represented differently:\n",
    "- *one-to-one:* The relation is represented with a foreign key in the entity. The foreign key must not be NULL\n",
    "- *one-to-zero-or-one:* The relation is represented with a foreign key in the entity. The foreign key may be NULL\n",
    "- *one-to-zero-or-more:* The relation is represented as a new entity with foreign keys\n",
    "- *one-to-one-or-more:* The relation is represented as a new entity with foreign keys. At least one entry should exist"
   ]
  },
  {
   "cell_type": "markdown",
   "id": "2508bfc37c954e4ab682c86375ff6b5c",
   "metadata": {
    "editable": true,
    "slideshow": {
     "slide_type": "slide"
    },
    "tags": [
     "remove-cell",
     "translated_en"
    ],
    "translation": {
     "lang": "de",
     "src_hash": "b24427b5eb827504aaa214b30f29b6871bd447db55a0e0bf39cfe9908b07b471",
     "updated_at_iso": "2025-08-16T17:51:28.032433+00:00"
    }
   },
   "source": [
    "## Lecture hall question\n",
    "\n",
    "<script>setSectionBackground('#FFD966');</script>\n",
    "<div class=\"flex-row\">\n",
    "  <div class=\"col4 vcent\">\n",
    "\n",
    "Which tables do we need for our geometry example?\n",
    "\n",
    "  </div>\n",
    "  <div class=\"col6\"> \n",
    "    <figure class=\"mj-fig\">\n",
    "    <img src=\"https://mermaid.ink/svg/pako:eNp9VF1vmzAU_SvWlSp1G40guPlAe9m6PVTbtKjb04QUuXADloxNbSM1zfLfazBEkEb1C9f3nnuOfWxzgEzlCAlkghnzjbNCsyqVxI2rK_KVGSQFqgqt3pMOgsZXuwnZKC4tOfhUOz7thGKWPL_J7EeZnBvLZIbXXfsHXzmmcsz8k0ucEAuUhS2vL6M3SuwLJScNTCMb4F1iuzVWb7dvKNxG71RVK8MtdxwaBWsDU_K63-xAn0KUAlE3Ny6KXeS3n5C6_fbYbuEe-LEDzkdAt29tA4IyH4nfyxI17xwhJUfNdFbuyU6rahCeruLzf8f7V3MmC4GXSu602OWuDUrrS744sPjqn4w5l3H7wIvSvgf4_Wgbg-8hvmSNxUFlwutx90aZDAWasdiU_hw4Fp3InAN77RZ3lvTI708Nd0fsjBYnH3rLBm9ZjS-XKhvmmgQK5Z9J7_A46XEPmNnR8ZymvUlPjbucl7V_8GHtbdSzlap6bAwEUGieQ2J1gwFUqCvWTqG79SnYEitMIXFhjjvWCJtCKo-urWbyn1LV0KlVU5SQ7JgwbtbUuTOjf_qnrHZ3FPWdaqSFJA5pRwLJAZ4hieLFLIppSFd0Ea0jGi4C2ENCw9mcrtfrRbS6jcP5MqbHAF463XC2Wt6GbkSrJZ1HlMYBYM6t0r_630_7Ob4C5I5vIg\" class=\"mj-fig-img\" style=\"height:60vh\">\n",
    "    </figure>\n",
    "  </div>\n",
    "</div>"
   ]
  },
  {
   "cell_type": "markdown",
   "id": "e4f5b3f28fb44d128f75bb10bb5aa470",
   "metadata": {
    "editable": true,
    "slideshow": {
     "slide_type": "subslide"
    },
    "tags": [
     "remove-cell",
     "translated_en"
    ],
    "translation": {
     "lang": "de",
     "src_hash": "630c641599162174bd494a78f3a285f44872c9656788b78e894900c867340421",
     "updated_at_iso": "2025-08-16T17:51:49.433283+00:00"
    }
   },
   "source": [
    "## Lecture Hall Question\n",
    "\n",
    "<script>setSectionBackground('#FFD966');</script>\n",
    "<div class=\"flex-row\">\n",
    "  <div class=\"col4\">\n",
    "\n",
    "By normalization we obtain *five tables:*\n",
    "\n",
    "- *Point:* Has the attributes x and y coordinates, data type float\n",
    "- *Line:* The start and end points are foreign keys that are non-null because there is a one-to-one relation\n",
    "- *Polygon:* A table with a primary key (PK) and foreign key (FK) to the polygon types; the points are external\n",
    "- *PolygonType:* A table of the redundant polygon types with name (triangle, quadrilateral, etc.) and PK\n",
    "- *PolygonPoints:* A table that for each polygon lists the associated point FKs, since there was a 3..* relation\n",
    "- *For all five* we need a primary key (Always Not Null)\n",
    "\n",
    "  </div>\n",
    "  <div class=\"col6\"> \n",
    "    <figure class=\"mj-fig\">\n",
    "    <img src=\"https://mermaid.ink/svg/pako:eNp9VF1vmzAU_SvWlSp1G40guPlAe9m6PVTbtKjb04QUuXADloxNbSM1zfLfazBEkEb1C9f3nnuOfWxzgEzlCAlkghnzjbNCsyqVxI2rK_KVGSQFqgqt3pMOgsZXuwnZKC4tOfhUOz7thGKWPL_J7EeZnBvLZIbXXfsHXzmmcsz8k0ucEAuUhS2vL6M3SuwLJScNTCMb4F1iuzVWb7dvKNxG71RVK8MtdxwaBWsDU_K63-xAn0KUAlE3Ny6KXeS3n5C6_fbYbuEe-LEDzkdAt29tA4IyH4nfyxI17xwhJUfNdFbuyU6rahCeruLzf8f7V3MmC4GXSu602OWuDUrrS744sPjqn4w5l3H7wIvSvgf4_Wgbg-8hvmSNxUFlwutx90aZDAWasdiU_hw4Fp3InAN77RZ3lvTI708Nd0fsjBYnH3rLBm9ZjS-XKhvmmgQK5Z9J7_A46XEPmNnR8ZymvUlPjbucl7V_8GHtbdSzlap6bAwEUGieQ2J1gwFUqCvWTqG79SnYEitMIXFhjjvWCJtCKo-urWbyn1LV0KlVU5SQ7JgwbtbUuTOjf_qnrHZ3FPWdaqSFJA5pRwLJAZ4hieLFLIppSFd0Ea0jGi4C2ENCw9mcrtfrRbS6jcP5MqbHAF463XC2Wt6GbkSrJZ1HlMYBYM6t0r_630_7Ob4C5I5vIg\" class=\"mj-fig-img\" style=\"height:60vh\">\n",
    "    </figure>\n",
    "  </div>\n",
    "</div>"
   ]
  },
  {
   "cell_type": "markdown",
   "id": "29196f8443dd49da81488a71d229f3ba",
   "metadata": {
    "editable": true,
    "slideshow": {
     "slide_type": "slide"
    },
    "tags": [
     "remove-cell",
     "translated_en"
    ],
    "translation": {
     "lang": "de",
     "src_hash": "41db6c2fcb950c9abc086398cb78b48f34a3e66b9153070d3f18ce1f1543c65d",
     "updated_at_iso": "2025-08-16T17:51:55.381376+00:00"
    }
   },
   "source": [
    "## Lesson Learned\n",
    "\n",
    "<script>setSectionBackground('#66ccffff');</script>\n",
    "<div class=\"flex-row\">\n",
    "<div class=\"col2\">\n",
    "\n",
    "</div>\n",
    "<div class=\"col3\">\n",
    "    <figure class=\"mj-fig\">\n",
    "        <img src=\"images/11a_Datenbanken_Entwurf/mj_title.png\" class=\"mj-fig-img\">\n",
    "        <figcaption class=\"mj-fig-cap\">\n",
    "            Midjourney: planning a trip trough the jungle with the panic monkey\n",
    "        </figcaption>\n",
    "    </figure>\n",
    "  </div>\n",
    "</div>"
   ]
  },
  {
   "cell_type": "markdown",
   "id": "779f1d2f2c3c4175816b24959e5aea23",
   "metadata": {
    "editable": true,
    "slideshow": {
     "slide_type": "subslide"
    },
    "tags": [
     "remove-cell",
     "translated_en"
    ],
    "translation": {
     "lang": "de",
     "src_hash": "268dcd518cc038d861809af1721bb2acfcd6b6bea9209bb6b2113f7f80a32edf",
     "updated_at_iso": "2025-08-16T17:52:02.106034+00:00"
    }
   },
   "source": [
    "## Lessons Learned - Procrastination & Exam Planning\n",
    "\n",
    "<script>setSectionBackground('#66ccffff');</script>\n",
    "\n",
    "<center>\n",
    "<figure class=\"vcent\">\n",
    "    <img src=\"images/11a_Datenbanken_Entwurf/timing0.svg\" style=\" width: 90%; z-index: -1;\" alt=\"Flashcards\">\n",
    "</figure>\n",
    "</center>\n",
    "\n",
    "- People tend to estimate the time for exam preparation optimistically\n",
    "- When preparing right before the exam, you realize you need more time -> panic\n",
    "- You go into the exam in a panic -> bad karma"
   ]
  },
  {
   "cell_type": "markdown",
   "id": "898ad003cffc4eefa7e84e3c552d9a94",
   "metadata": {
    "editable": true,
    "slideshow": {
     "slide_type": "subslide"
    },
    "tags": [
     "remove-cell",
     "translated_en"
    ],
    "translation": {
     "lang": "de",
     "src_hash": "863f7eac5c59905a8a59dc00702c108b0f71de65fd2588bbd92993326e34526f",
     "updated_at_iso": "2025-08-16T17:52:09.562945+00:00"
    }
   },
   "source": [
    "## Lessons Learned - Exam Planning & Time Management\n",
    "\n",
    "<script>setSectionBackground('#66ccffff');</script>\n",
    "\n",
    "<center>\n",
    "<figure class=\"vcent\">\n",
    "    <img src=\"images/11a_Datenbanken_Entwurf/timing2.svg\" style=\" width: 90%; z-index: -1;\" alt=\"Study flashcards\">\n",
    "</figure>\n",
    "</center>\n",
    "\n",
    "- Pro: You leverage your subconscious to work on it\n",
    "- Pro: Through the planning and information phase you can better estimate the effort involved\n",
    "- Con: You can still misjudge"
   ]
  },
  {
   "cell_type": "markdown",
   "id": "4560c6bd04b14cc7a38084726146896e",
   "metadata": {
    "editable": true,
    "slideshow": {
     "slide_type": "subslide"
    },
    "tags": [
     "remove-cell",
     "translated_en"
    ],
    "translation": {
     "lang": "de",
     "src_hash": "8ca112c2f5d463ad942ef5de4ce33a401558c7f709fbce0cc3359ad3bfd47b1e",
     "updated_at_iso": "2025-08-16T17:52:23.349656+00:00"
    }
   },
   "source": [
    "## Lessons Learned - Exam Planning & Time Management\n",
    "\n",
    "<script>setSectionBackground('#66ccffff');</script>\n",
    "\n",
    "First estimate the effort and only then look at the date (don't plan based on how much time you have, but on how much time you need)\n",
    "\n",
    "| Subject            | Exam Type  | Content                       | Study Effort     | Date      |\n",
    "|--------------------|-------------|-----------------------------|------------------|-----------|\n",
    "| Mathematics        | Written     | 100% exercises               | 2+1 days         |           |\n",
    "| Technical Mechanics| Written     | 80% exercises / 20% learning | 4+1 days         |           |\n",
    "| Computer Science   | Written     | 50% exercises / 50% learning | 3+1 days         |           |\n",
    "| Construction Chemistry | Written | 40% exercises / 60% learning | 3+2 days         |           |\n",
    "| Construction Materials | Written | 100% learning               | 2+1 days         |           |"
   ]
  },
  {
   "cell_type": "markdown",
   "id": "3e1c63b201164fe1a10b7532384e28c8",
   "metadata": {
    "editable": true,
    "slideshow": {
     "slide_type": "skip"
    },
    "tags": [
     "translated_en"
    ],
    "translation": {
     "lang": "de",
     "src_hash": "64ef3755dc9c66796c63b66ec2155a679a25482793a161c31ba1ebd5ad93c63a",
     "updated_at_iso": "2025-08-16T17:53:17.047871+00:00"
    }
   },
   "source": [
    "## Quiz\n",
    "\n",
    "\n",
    "```{quizdown}\n",
    "    ---\n",
    "    shuffleQuestions: true\n",
    "    shuffleAnswers: true\n",
    "    ---\n",
    "\n",
    "\n",
    "    ### Which steps belong to the classic database design?\n",
    "\n",
    "    - [x] Requirements analysis, conceptual design, logical design\n",
    "    - [ ] Only conceptual and physical design\n",
    "    - [x] Physical design, implementation and testing\n",
    "    - [ ] Only implementation and maintenance\n",
    "\n",
    "\n",
    "    ### What is the main difference between conceptual and logical design?\n",
    "\n",
    "    - [x] Conceptual design is a rough outline, logical is a detailed design\n",
    "    - [ ] Conceptual design uses SQL, logical does not\n",
    "    - [ ] There is no difference\n",
    "    - [ ] Logical design comes before the conceptual\n",
    "\n",
    "\n",
    "    ### Sort the steps of database design in the correct order:\n",
    "\n",
    "    1. Requirements analysis\n",
    "    2. Conceptual design\n",
    "    3. Logical design\n",
    "    4. Physical design\n",
    "    5. Implementation and testing\n",
    "\n",
    "\n",
    "    ### What characterizes an entity in the UML notation for ER diagrams?\n",
    "\n",
    "    - [x] The annotation `<<Entity>>`\n",
    "    - [ ] The name `Entity`\n",
    "    - [ ] The annotation `<Table>`\n",
    "    - [ ] The special symbol `ER`\n",
    "    - [ ] No special designation\n",
    "\n",
    "\n",
    "    ### Which UML elements are NOT used in ER diagrams?\n",
    "\n",
    "    - [x] Methods and inheritance\n",
    "    - [ ] Attributes and classes\n",
    "    - [x] Polymorphism and encapsulation\n",
    "    - [ ] Associations\n",
    "\n",
    "\n",
    "    ### What does the symbol `>>` mean in a relation?\n",
    "\n",
    "    - [x] The relation is read from left to right\n",
    "    - [ ] The relation is bidirectional\n",
    "    - [ ] It is a notation error\n",
    "    - [ ] The relation is read from right to left\n",
    "\n",
    "\n",
    "    ### What does the cardinality \"1 to 0..*\" mean?\n",
    "\n",
    "    - [x] An entity can be linked to zero to many others\n",
    "    - [ ] An entity must be linked to at least one other\n",
    "    - [ ] Exactly one link is allowed\n",
    "    - [ ] The cardinality is invalid\n",
    "\n",
    "\n",
    "    ### In which cardinality are new tables needed for relations?\n",
    "\n",
    "    - [ ] 1 to 1\n",
    "    - [ ] 1 to 0..1\n",
    "    - [x] 1 to 0..*\n",
    "    - [x] 1 to 1..*\n",
    "\n",
    "\n",
    "    ### Which error is present in this ER diagram fragment?\n",
    "    ```\n",
    "    Person >>lives in>> Location\n",
    "    1                    1..*\n",
    "    ```\n",
    "\n",
    "    - [x] The reading direction does not make sense for this cardinality\n",
    "    - [ ] People cannot live in locations\n",
    "    - [ ] The notation is completely wrong\n",
    "    - [ ] Attributes are missing\n",
    "\n",
    "\n",
    "    ### What is the goal of normalization?\n",
    "\n",
    "    - [x] Minimize redundancies\n",
    "    - [x] Ensure data integrity\n",
    "    - [ ] Slow down queries\n",
    "    - [ ] Create more tables\n",
    "\n",
    "\n",
    "    ### What does the 1st normal form (1NF) require?\n",
    "\n",
    "    - [x] All attribute values are atomic\n",
    "    - [ ] All attributes are primary keys\n",
    "    - [x] No complex attributes like lists\n",
    "    - [ ] At least three tables\n",
    "\n",
    "\n",
    "    ### Which normal form is violated if customer data is stored directly in the invoice table?\n",
    "\n",
    "    - [ ] 1NF\n",
    "    - [x] 2NF\n",
    "    - [ ] 3NF\n",
    "    - [ ] No violation\n",
    "\n",
    "\n",
    "    ### Sort the normal forms by their strictness (from less to more strict):\n",
    "\n",
    "    1. 1NF (First Normal Form)\n",
    "    2. 2NF (Second Normal Form) \n",
    "    3. 3NF (Third Normal Form)\n",
    "    4. BCNF (Boyce-Codd Normal Form)\n",
    "\n",
    "\n",
    "    ### Which error is present in this table design?\n",
    "    ```sql\n",
    "    CREATE TABLE Customers (\n",
    "      id INTEGER,\n",
    "      name TEXT,\n",
    "      addresses LIST<TEXT>\n",
    "    )\n",
    "    ```\n",
    "\n",
    "    - [x] The attribute `addresses` violates 1NF (not atomic)\n",
    "    - [ ] The data type INTEGER is incorrect\n",
    "    - [ ] A primary key is missing\n",
    "    - [ ] The table name is invalid\n",
    "\n",
    "\n",
    "    ### How is a 1:1 relation mapped in tables?\n",
    "\n",
    "    - [x] By a foreign key in one of the tables\n",
    "    - [ ] By a separate relation table\n",
    "    - [ ] By duplicating all attributes\n",
    "    - [ ] Not at all, because it is invalid\n",
    "\n",
    "\n",
    "    ### When is a foreign key \"Nullable\"?\n",
    "\n",
    "    - [x] With cardinality 1 to 0..1\n",
    "    - [ ] With cardinality 1 to 1\n",
    "    - [x] When the relationship is optional\n",
    "    - [ ] Never\n",
    "\n",
    "\n",
    "    ### Sort these steps for normalizing a 1:n relation:\n",
    "\n",
    "    1. Create a new relation table\n",
    "    2. Add foreign keys to both original tables\n",
    "    3. Define the primary key for the relation table\n",
    "    4. Check cardinality\n",
    "\n",
    "\n",
    "    ### Which SQL command creates a new table?\n",
    "\n",
    "    - [x] CREATE TABLE\n",
    "    - [ ] INSERT TABLE\n",
    "    - [ ] NEW TABLE\n",
    "    - [ ] MAKE TABLE\n",
    "\n",
    "\n",
    "    ### What does AUTOINCREMENT do for a primary key?\n",
    "\n",
    "    - [x] Automatically assigns unique values\n",
    "    - [ ] Automatically deletes old entries\n",
    "    - [x] Facilitates inserting new records\n",
    "    - [ ] Prevents data changes\n",
    "\n",
    "\n",
    "    ### Which error is present in this SQL code?\n",
    "    ```sql\n",
    "    CREATE TABLE Points (\n",
    "      point_id INTEGER PRIMARY KEY,\n",
    "      x REAL NOT NULL,\n",
    "      y REAL NOT NULL,\n",
    "      FOREIGN KEY(x) REFERENCES Lines(line_id)\n",
    "    )\n",
    "    ```\n",
    "\n",
    "    - [x] An attribute (x) cannot be both a coordinate and a foreign key\n",
    "    - [ ] REAL is not a valid data type\n",
    "    - [ ] PRIMARY KEY is misspelled\n",
    "    - [ ] NOT NULL is redundant\n",
    "\n",
    "\n",
    "    ### Sort these SQL commands in the logical order for creating a database:\n",
    "\n",
    "    1. CREATE TABLE for main entities\n",
    "    2. CREATE TABLE for foreign-key dependent tables  \n",
    "    3. INSERT core data\n",
    "    4. INSERT linked data\n",
    "\n",
    "\n",
    "    ### With which SQL command do you insert data?\n",
    "\n",
    "    - [x] INSERT INTO\n",
    "    - [ ] ADD DATA\n",
    "    - [ ] CREATE DATA\n",
    "    - [ ] PUT INTO\n",
    "\n",
    "\n",
    "    ### What happens with this SQL command?\n",
    "    ```sql\n",
    "    DELETE FROM Points WHERE x > 50;\n",
    "    ```\n",
    "\n",
    "    - [x] All points with x-coordinate > 50 are deleted\n",
    "    - [ ] The Points table is deleted\n",
    "    - [ ] Only the first found point will be deleted\n",
    "    - [ ] It is a syntax error\n",
    "\n",
    "\n",
    "    ### Which error is present in this INSERT statement?\n",
    "    ```sql\n",
    "    INSERT INTO Lines VALUES(1, 99, 100);\n",
    "    ```\n",
    "    *Assume the points with IDs 99 and 100 do not exist*\n",
    "\n",
    "    - [x] Foreign key constraint will be violated\n",
    "    - [ ] Too many values provided\n",
    "    - [ ] INTEGER is not a valid data type\n",
    "    - [ ] INSERT is misspelled\n",
    "\n",
    "\n",
    "    ### Sort these steps for safe deletion of data:\n",
    "\n",
    "    1. Create a backup of the table\n",
    "    2. Test the DELETE statement with a WHERE condition\n",
    "    3. Perform the actual deletion\n",
    "    4. Verify the result\n",
    "\n",
    "\n",
    "    ### With which command do you rename a table?\n",
    "\n",
    "    - [x] ALTER TABLE ... RENAME TO\n",
    "    - [ ] CHANGE TABLE NAME\n",
    "    - [ ] RENAME TABLE\n",
    "    - [ ] UPDATE TABLE NAME\n",
    "\n",
    "\n",
    "    ### What is the difference between DELETE FROM table and DROP TABLE?\n",
    "\n",
    "    - [x] DELETE deletes only data, DROP deletes the entire table\n",
    "    - [ ] There is no difference\n",
    "    - [x] DROP also removes the table structure\n",
    "    - [ ] DELETE is faster\n",
    "\n",
    "\n",
    "    ### Which error is present in this ALTER statement?\n",
    "    ```sql\n",
    "    ALTER TABLE Points ADD COLUMN z REAL;\n",
    "    ```\n",
    "    *Assume there is already data in the table*\n",
    "\n",
    "    - [ ] ADD COLUMN is wrong\n",
    "    - [ ] REAL is not a valid data type  \n",
    "    - [x] A DEFAULT value is missing for existing rows\n",
    "    - [ ] The column name z is too short\n",
    "\n",
    "\n",
    "    ### Sort these steps for safe table modification:\n",
    "\n",
    "    1. Create a backup of the table\n",
    "    2. Plan the ALTER statement\n",
    "    3. Perform the change\n",
    "    4. Check data integrity\n",
    "```"
   ]
  },
  {
   "cell_type": "markdown",
   "id": "a4d5456dc953400abb0c4b4b0c7df6cb",
   "metadata": {
    "editable": true,
    "slideshow": {
     "slide_type": "slide"
    },
    "tags": [
     "remove-cell",
     "translated_en"
    ],
    "translation": {
     "lang": "de",
     "src_hash": "d2b7467259ef9f52d61ecf9953374631953b152baba6f1edeaac46d4c3d40a0b",
     "updated_at_iso": "2025-08-16T17:53:21.527073+00:00"
    }
   },
   "source": [
    "<div class=\"vslide\">\n",
    "  <div class=\"vslide-title\">\n",
    "    <p style=\"font-family: Protomolecule; font-size: 2.3em; margin: 0px auto; text-align: center; width: 100%;\">Questions?</p>\n",
    "  </div>\n",
    "  <script>setSectionBackground('#000000', 'images/mj_questions1.mp4');</script>\n",
    "</div>"
   ]
  }
 ],
 "metadata": {
  "kernelspec": {
   "display_name": "Python 3 (ipykernel)",
   "language": "python",
   "name": "python3"
  },
  "language_info": {
   "codemirror_mode": {
    "name": "ipython",
    "version": 3
   },
   "file_extension": ".py",
   "mimetype": "text/x-python",
   "name": "python",
   "nbconvert_exporter": "python",
   "pygments_lexer": "ipython3",
   "version": "3.12.10"
  },
  "rise": {
   "auto_select": "none",
   "center": false,
   "enable_chalkboard": true,
   "header": "<img src=\"images/pd_logo.svg\" class=\"header_title_logo\"><img src=\"images/ai4sc_logo_v2.svg\" class=\"header_ai4sc_logo\">",
   "scroll": true,
   "show_buttons_on_startup": false,
   "slideNumber": true,
   "theme": "white"
  }
 },
 "nbformat": 4,
 "nbformat_minor": 4
}
