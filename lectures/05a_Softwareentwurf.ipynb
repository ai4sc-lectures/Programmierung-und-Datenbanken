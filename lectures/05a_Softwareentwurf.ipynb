{
 "cells": [
  {
   "cell_type": "markdown",
   "id": "58a98a18",
   "metadata": {
    "editable": true,
    "slideshow": {
     "slide_type": "slide"
    },
    "tags": [
     "remove-cell"
    ]
   },
   "source": [
    "<div class=\"vslide\">\n",
    "  <div class=\"vslide-title\">\n",
    "    <p style=\"font-family: Protomolecule; font-size: 2.3em; line-height: 90%; margin: 0px auto; text-align: center; width: 100%;\"><span style=\"letter-spacing: .04rem;\">programmierung</span><br><span style=\"letter-spacing: .0rem;\">und datenbanken</span></p>\n",
    "<p class=\"author\" style=\"font-family: Protomolecule; margin: 0px auto;  text-align: center; width: 100%; font-size: 1.2em;\">Joern Ploennigs</p>\n",
    "<p class=\"subtitle\" style=\"font-family: Protomolecule; margin: 1em auto; text-align: center; width: 100%; font-size: 1.2em;\">Softwareentwurf</p>\n",
    "    <figcaption>Midjourney: Waterfall in chinese mountain range</figcaption>\n",
    "  </div>\n",
    "<script>\n",
    "  function setSectionBackground(c,v){\n",
    "    let e=document.currentScript.previousElementSibling;\n",
    "    while(e&&e.tagName!=='SECTION')e=e.parentElement;\n",
    "    if(e){\n",
    "      if(c)e.setAttribute('data-background-color',c);\n",
    "      if(v){\n",
    "        e.setAttribute('data-background-video',v);\n",
    "        e.setAttribute('data-background-video-loop','true');\n",
    "        e.setAttribute('data-background-video-muted','true');\n",
    "      }\n",
    "    }\n",
    "  }\n",
    "  setSectionBackground('#000000', 'images/05b_Softwareentwurf/mj_title.mp4');\n",
    "</script>\n",
    "<style>\n",
    ".flex-row{display:flex; gap:2rem; align-items:flex-start; justify-content:space-between;}\n",
    ".flex-row .col1{flex:1; min-width:10px}\n",
    ".flex-row .col2{flex:2; min-width:10px}\n",
    ".flex-row .col3{flex:3; min-width:10px}\n",
    ".flex-row .col4{flex:4; min-width:10px}\n",
    ".flex-row .col5{flex:5; min-width:10px}\n",
    ".flex-row .col6{flex:6; min-width:10px}\n",
    ".flex-row .col7{flex:7; min-width:10px}\n",
    ".vcent{display:flex; align-items:center; justify-content:center}\n",
    "</style>\n",
    "</div>"
   ]
  },
  {
   "cell_type": "markdown",
   "id": "6114743a",
   "metadata": {
    "editable": true,
    "slideshow": {
     "slide_type": "skip"
    },
    "tags": []
   },
   "source": [
    "# Softwareentwurf"
   ]
  },
  {
   "cell_type": "markdown",
   "id": "bbd92669",
   "metadata": {
    "editable": true,
    "slideshow": {
     "slide_type": "skip"
    },
    "tags": []
   },
   "source": [
    "<figure class=\"mj-tile-band\">\n",
    "    <img src='images/05a_Softwareentwurf/mj_title_band.jpg'>\n",
    "    <figcaption>Midjourney: Waterfall in chinese mountain range</figcaption>\n",
    "</figure>\n",
    "\n",
    "> Architecture is about the important stuff — whatever that is.\n",
    ">\n",
    "> — Ralph Johnson"
   ]
  },
  {
   "cell_type": "markdown",
   "id": "3b291148",
   "metadata": {
    "editable": true,
    "slideshow": {
     "slide_type": "skip"
    },
    "tags": []
   },
   "source": [
    "## <a href=\"/lec_slides/05a_Softwareentwurf.slides.html\">Folien</a>/<a href=\"/pdf/slides/05a_Softwareentwurf.pdf\">PDF</a>\n",
    "<iframe src=\"/lec_slides/05a_Softwareentwurf.slides.html\" width=\"750\" height=\"500\"></iframe>"
   ]
  },
  {
   "cell_type": "markdown",
   "id": "e645335c",
   "metadata": {
    "editable": true,
    "slideshow": {
     "slide_type": "slide"
    },
    "tags": [
     "remove-cell"
    ]
   },
   "source": [
    "## Ablauf\n",
    "\n",
    "![](images/partA_6.svg)"
   ]
  },
  {
   "cell_type": "markdown",
   "id": "a314c890-bbc3-47b9-8418-4b84fb8cc309",
   "metadata": {
    "editable": true,
    "slideshow": {
     "slide_type": "skip"
    },
    "tags": []
   },
   "source": [
    "## Objektorientierter Softwareentwurf mit UML"
   ]
  },
  {
   "cell_type": "markdown",
   "id": "6b31caf2-1f9a-4ebc-bd6a-0f001558a034",
   "metadata": {
    "editable": true,
    "slideshow": {
     "slide_type": "skip"
    },
    "tags": []
   },
   "source": [
    "Im objektorientierten Softwareentwurf, wird ein Programm so entworfen, dass es nur aus Objekten besteht. Hierbei verwendet man meist die Modellierungssprache [UML](https://de.wikipedia.org/wiki/Unified_Modeling_Language) können Klassen auch visuell entworfen werden. \n",
    "Man modelliert im Entwurf wie:\n",
    "-  diese Objekte in Form von Klassen definiert sind,\n",
    "-  welche Attribute und Methoden sie besitzen,\n",
    "-  wie diese Klassen aufeinander aufbauen (Vererbung), \n",
    "-  als auch wie sie miteinander in statischer Beziehung stehen (Referenzen)\n",
    "-  und wie sie dynamisch interagieren (Verhalten)"
   ]
  },
  {
   "cell_type": "markdown",
   "id": "0cc34b7d-f2bb-4c5f-91f0-08aad77850e3",
   "metadata": {
    "editable": true,
    "slideshow": {
     "slide_type": "skip"
    },
    "tags": []
   },
   "source": [
    "## Klassen, Attribute und Methoden"
   ]
  },
  {
   "cell_type": "markdown",
   "id": "9c9fe5bd-8984-4760-aeab-d99da769c1dd",
   "metadata": {
    "editable": true,
    "slideshow": {
     "slide_type": "skip"
    },
    "tags": []
   },
   "source": [
    "Eine Klasse ist hierbei nur ein Viereck mit drei Ebenen. In der ersten Ebene schreibt man den Klassennamen. In der zweiten Ebene listet man alle primitiven Attribute einer Klasse (welche keine Referenzen darstellen). Die dritte Ebene enthält alle Methoden der Klasse. Für den zuvor definierten `Point` mit den Attributen `x` und `y` und der Methode `distance()` eines anderen Punktes sieht die Klasse in UML so aus:"
   ]
  },
  {
   "attachments": {},
   "cell_type": "markdown",
   "id": "e67369e5-fdc6-475c-8722-9c0efb0f12fb",
   "metadata": {
    "editable": true,
    "slideshow": {
     "slide_type": "skip"
    },
    "tags": []
   },
   "source": [
    "<center><img src=\"https://mermaid.ink/svg/pako:eNpdjk0OAiEMRq9CutI4J2DtAUzcGTYNFCWBMoGSOJnM3UVGXdhV30t_vhVsdgQabMRazwHvBZNh1WsYdcmBZd2NUicfM4p6_vHyYxeqIFs6jL3j7jeYIFFJGFz_NI4ZkAclMqB768hji2LA8HsUm-Trwha0lEYTtNmh0CcbaI-xdjsj33L-8vYCAldBOA\" width=\"150\"></center>"
   ]
  },
  {
   "cell_type": "markdown",
   "id": "9262c168-0f09-408f-8a28-43dce89f46d8",
   "metadata": {
    "editable": true,
    "slideshow": {
     "slide_type": "skip"
    },
    "tags": []
   },
   "source": [
    "## Referenzen"
   ]
  },
  {
   "cell_type": "markdown",
   "id": "6784a5ca-2e84-4f11-8a74-bef8e9a7f3ba",
   "metadata": {
    "editable": true,
    "slideshow": {
     "slide_type": "skip"
    },
    "tags": []
   },
   "source": [
    "Eine sehr wichtige Arbeit mit UML ist die Visualisierung von Abhängigkeiten zwischen Klassen in Form von Referenzen. Man unterscheidet in UML die Referenzen in der Art der Besitzverhältnisse, also ob ein Objekt Teil eines anderen ist und ohne ihn existieren kann (Aggregated) oder nicht ohne diesen existieren kann (Composition) oder komplett unabhängig ist (Assoziation). Hierfür definiert UML unterschiedliche Pfeiltypen. Hierbei kann man an den Linien die Häufigkeit (Multiplizität) der Ursprungs- und Zielklasse angeben."
   ]
  },
  {
   "attachments": {},
   "cell_type": "markdown",
   "id": "1be48465-0cdd-4847-9b8f-cd14937bf729",
   "metadata": {
    "editable": true,
    "slideshow": {
     "slide_type": "skip"
    },
    "tags": []
   },
   "source": [
    "<center><table><tr>\n",
    "<td style=\"border: none;\"><img src=\"https://mermaid.ink/svg/pako:eNpljj0KwzAMha8iNJYk0NVb2t6gWxEEESuuwT_BsYcScvc6bTpVg3jv00PSimPUggpHx8tys2wSewpQ60Pguveh_0eXLzrmQHgmhNi2u-q6UzVHDhT0xiQxnG0MgA16SZ6trlfXfQlhfooXQlWllomLy4QUthrlkuP9FUZUORVpsMyasxx_oprYLZXOHB4x_vz2BiRzRRk\" width=\"150\"></td>\n",
    "<td style=\"border: none;\"><img src=\"https://mermaid.ink/svg/pako:eNpljjEKwzAMRa9iNIYk0NVbm96gWxEEESutwbZMbA8l5O512nSqBvH_00fSCpMYBg2To5Sulh4LeQyq1oeoYe_j-R9dvuiYK4QTgmq6bld931Rz5JRWg_goyWYrAVrwvHiyph5d9x0I-cmeEXSVhmcqLiNg2GqUSpbbK0yg81K4hRINZT7eBD2TS5VGCneRn9_e4yBE4A\" width=\"150\"></td>\n",
    "<td style=\"border: none;\"><img src=\"https://mermaid.ink/svg/pako:eNpljkELwjAMhf9KeUfZBl57EKb-A28SkNBmWlhbWduDjP13O50ncwjvfXkkmWGiFWiYkVM6O75P7CmoWh-iTmu_9f_o-EXbXBH2BNW2h1V13a6aLae06lOKxnF2MaCBl8mzs_XovO4g5Id4IegqrQxcxkygsNQolxwvr2Cg81SkQXlazrK9CT3wmCp9crjG-PPLG-QFRN0\" width=\"150\"></td>\n",
    "</tr>\n",
    "</table></center>"
   ]
  },
  {
   "cell_type": "markdown",
   "id": "323a2028-e510-417c-ab95-6b185caa0285",
   "metadata": {
    "editable": true,
    "slideshow": {
     "slide_type": "skip"
    },
    "tags": []
   },
   "source": [
    "Die zuvor definierte Klasse `Line` beinhaltet den `start`- und `end`-Punkt. Das stellt in UML eine *Aggregation* dar, weil die Punkte ja zur Linie gehören, allerdings durchaus auch separat existieren können (wir brauchen ja keine Linie um einen Punkt zu definieren). Die Multiplizität ist hierbei, dass je `1` Instanz einer `Line` je `2` Instanzen der Klasse `Point` besitzt."
   ]
  },
  {
   "attachments": {},
   "cell_type": "markdown",
   "id": "ad48ae84-68d7-4148-86a0-ac51e8bb32aa",
   "metadata": {
    "editable": true,
    "slideshow": {
     "slide_type": "skip"
    },
    "tags": []
   },
   "source": [
    "<center><img src=\"https://mermaid.ink/svg/pako:eNpdT0EKwkAM_ErISbEe9Lhnjx4Eb7KX0E3rwjYrbQoW6d8NqxY1p5lhZsI8sM6B0WGdaBgOkdqeOi9gVxQ45Sj6eCkAmyZlUrj_8WnhIQ5KUvOq5NYvff4uPEZhWAotklhava5-vcXlcecR8nZraG-odIIDe9FrBSwBK-y47ygGm1BKPeqVO_boDAZuaEzq0ctsVho1nyep0Wk_coXjLZDyezS6htJg6o3kkvOHz0_cjFoV\" width=\"150\"></center>"
   ]
  },
  {
   "cell_type": "markdown",
   "id": "9a31eceb-a030-49e3-8cd5-d8d2c8d7f48c",
   "metadata": {
    "editable": true,
    "slideshow": {
     "slide_type": "skip"
    },
    "tags": []
   },
   "source": [
    "## Vererbung"
   ]
  },
  {
   "cell_type": "markdown",
   "id": "20d281fa-563a-4f45-8fd3-809a9c137801",
   "metadata": {
    "editable": true,
    "slideshow": {
     "slide_type": "skip"
    },
    "tags": []
   },
   "source": [
    "Ein wichtiger Aspekt in der Arbeit mit UML ist die Vererbung. Die Vererbung wird in UML durch eine Referenz mit einem gefüllten Dreick \"▲\" bei der Oberklasse (es ist kein Pfeil) gezeichnet. Um zum Beispiel auszudrücken, dass `Triangle`, `Tetragon` und `Pentagon` Unterklassen des Polygons sind, können wir zeichnen."
   ]
  },
  {
   "attachments": {},
   "cell_type": "markdown",
   "id": "2622e0e4-0121-40a7-ba50-2110e24a155a",
   "metadata": {
    "editable": true,
    "slideshow": {
     "slide_type": "skip"
    },
    "tags": []
   },
   "source": [
    "<center><img src=\"https://mermaid.ink/svg/pako:eNptjz0KwzAMha9iNLU0vYDp2AME2qkYjIiVNOCfYMtDSHP3OkkDHaJFet-T4GmCJhgCCY3FlO49dhGd8qLUSkQd7NgFL6YNLnXBSHg6_wGtE0etdzZvbT-9fa5X8Yw9-s7SkUUccVEHXk2eFw8qcBQd9qZkXbMo4Dc5UiDLaKjFbFmB8nNZxczhMfoGJMdMFeTBINPvO5At2lTogP4Vwq7nLzIuVXA\" width=\"300\"></center>"
   ]
  },
  {
   "cell_type": "markdown",
   "id": "c339bb4c-6ea9-451e-abc7-e5a2093fd5c1",
   "metadata": {
    "editable": true,
    "slideshow": {
     "slide_type": "skip"
    },
    "tags": []
   },
   "source": [
    "Fügen wir die einzelnen Elemente zusammen, so sieht das UML-Diagramm unseres Klassen-Modells wie folgt aus:"
   ]
  },
  {
   "attachments": {},
   "cell_type": "markdown",
   "id": "677ed3c1-2c94-417e-bd97-667a35f19714",
   "metadata": {
    "editable": true,
    "slideshow": {
     "slide_type": "skip"
    },
    "tags": []
   },
   "source": [
    "<center><img src=\"https://mermaid.ink/svg/pako:eNptUcFqwzAM_RWjU7o1hW03s-OOOxS20zAEEStpwJGDrcBCl3-fkyxlKfFJ7-m9JxldofSWQEPpMMa3BuuArWGV3syos29Yrguj1GPlPIr6vsPDDdsmCnJJ2ew7LPy4DXRD7VndMpMLA2F2-EcURZRQFNlewHvDtHE74loud9p5vjLwbEDluU_VU6pmr1ZpxyBHRWy34pfT6WGjX5fVqpskcZUv7OtPnqvP0CDXjvZaJAEntNM7E8vUgyO0FFpsbDrC_CsDcqGWDOhUWqqwd2LA8Jik2Iv_GLgELaGnI_SdRaG_s4Gu0MXEdshf3q94_AW6H5O5\"  width=\"300\"></center>"
   ]
  },
  {
   "cell_type": "markdown",
   "id": "e0c29bcb-3890-419e-b012-ed29af8079dc",
   "metadata": {
    "editable": true,
    "slideshow": {
     "slide_type": "skip"
    },
    "tags": []
   },
   "source": [
    "Auf Basis dieses UML-Diagramms, würde ein Programmierer die Zusammenhänge der Klassen verstehen und könnte diese entsprechend implementieren. Sie eignen sich besonders gut, um solche Datenstrukturen zu definieren und zu kommunizieren.\n",
    "\n",
    "Dieses Modell können wir jetzt weiter verfeinern und weitere spezifischer Klassen für Dreiecke einführen wie rechtwinklige (Right), spitzwinklige (Acute) und stumpfwinklige (Obtuse) Dreiecke die unregelmäßig (Scalene), gleichschenklig (Isosceles) oder gleichseitig (Equilateral) sein können. Genauso können wir Vierecke klassifizieren in Trapeze, Parallelogramme und Drachen (Kite) mit den Spezialisierungen Rhombus, Rechteck und Quadrat (Square)."
   ]
  },
  {
   "attachments": {},
   "cell_type": "markdown",
   "id": "fc7baf59-c52e-4a4c-840d-f4f2a63046b5",
   "metadata": {
    "editable": true,
    "slideshow": {
     "slide_type": "skip"
    },
    "tags": []
   },
   "source": [
    "<center><img src=\"https://mermaid.ink/svg/pako:eNp9k01PwzAMhv9KlNMG6yTgVnFBggMCiWnbCVWqTOt1kdJkSxyJMfbfyZp2NFW1nmK_j1-7-TjyQpfIU15IsPZZQGWgzhTzX5NhCy0UHUOGsduN1EDsexAfLnEpLIEqcNLUTUP-FBvKQ6UVu3j6KjAIk2kvkeeWTJ5PxgzehcKoWqKqaDtgm_4s4_cZZ0mi_erOr5ralPkZDc0YqjKGH-bzm4jvhk3Z7ozYDg_Zx98kYWsjQFUSg9RFQVsV4IfDfCmqLV0DPr7I2asWT4WjFohcA_VqtS1Qou23is2HYL9l1GQI9joPkiygL3snJBAakGP7g2TgHI1oC1R01tof78iggfeTKPX_jYyBtYEd_owpb6IbODIJ4nKr6y_XnuSZHEkH61bAgnoHPOYYE5ewPcC989e7lUKTvsBnvEZTgyj9I2xudcZpizVmPPXLEjfgJGU8UyePgiO9OqiCp2QczrjblX7j22fL0w1I67M7UJ9ad_HpD1l7PXc\"></center>"
   ]
  },
  {
   "cell_type": "markdown",
   "id": "03d5e0ac-175e-477c-bc63-323d94a1aec0",
   "metadata": {
    "editable": true,
    "slideshow": {
     "slide_type": "skip"
    },
    "tags": []
   },
   "source": [
    "Jede Instanz dieser speziellen Klassen erbt dabei die Funktionen `area()` und `__str__()`. Wir haben also mit der einen generischen Implementation von `area()` zur Flächenberechnung eines Polygons, nur eine einzige Methode implementieren müssen, die die Flächenberechnung aller geometrischen Grundelemente abdeckt, ohne eine weitere Zeile Code für diese schreiben zu müssen.\n",
    "\n",
    "Entlang der Vererbungshierarchie könnte man jetzt weitere Attribute und Methoden definieren, welche spezifische Berechnungen durchführen können oder z.B. testen ob die Punkte, Linien und Winkel den entsprechenden Bedingungen entsprechen. Dies ist jedoch außerhalb des Rahmens dieses Beispiels."
   ]
  },
  {
   "cell_type": "markdown",
   "id": "412b7a45",
   "metadata": {
    "slideshow": {
     "slide_type": "skip"
    }
   },
   "source": [
    "## Entwurfsvorgehen in der Softwareentwicklung\n",
    "\n",
    "Software wird heute fast ausschließlich im Team über längere Zeiträume entwickelt. Diese Teamarbeit erfordert einen durchdachten Projektplan, der sowohl den strukturellen Aufbau der Software als auch das zeitliche Vorgehen bei der Entwicklung festlegt. Der Softwareentwurf umfasst daher zwei wesentliche Komponenten: den Bauplan in Form des Klassenentwurfs und die Bauablaufplanung als Programmiervorgehen.\n",
    "\n",
    "Das Vorgehen beim Softwareentwurf zeigt bemerkenswerte Ähnlichkeiten mit etablierten Praktiken im Bau- und Umweltingenieurwesen. Genau wie beim Bau einer Brücke oder einer Kläranlage müssen auch bei der Softwareentwicklung die Anforderungen klar definiert, ein strukturierter Entwurf erstellt und die Umsetzung systematisch geplant werden. Diese Parallelen helfen dabei, die Prinzipien des Softwareentwurfs besser zu verstehen.\n",
    "\n",
    "Ein strukturiertes Vorgehen ist essentiell, weil es Teamarbeit ermöglicht, Qualität sicherstellt und Kosten kontrollierbar macht. Ohne systematische Planung entstehen oft chaotische Entwicklungsprozesse, die zu fehlerhafter Software, Terminüberschreitungen und Budgetproblemen führen."
   ]
  },
  {
   "cell_type": "markdown",
   "id": "7d792fc5",
   "metadata": {
    "slideshow": {
     "slide_type": "skip"
    }
   },
   "source": [
    "## Die Phasen der Softwareentwicklung\n",
    "\n",
    "### Anforderungsdefinition\n",
    "\n",
    "Die erste Phase dient der präzisen Definition dessen, was die Software leisten soll. Hier werden sowohl die funktionalen Aspekte als auch die Randbedingungen festgelegt. Im Bauingenieurwesen entspricht dies der Ausschreibung, in der dokumentiert wird, welche Funktionen und Randbedingungen das Bauwerk erfüllen muss.\n",
    "\n",
    "Bei einer Brücke werden beispielsweise die zulässigen Verkehrslasten, die zu überbrückende Spannweite und die geforderte Lebensdauer definiert. Für eine Kläranlage werden die Anzahl der anzuschließenden Einwohner, der geforderte Reinigungsgrad und die einzuhaltenden Grenzwerte spezifiziert. Genauso müssen bei der Softwareentwicklung alle funktionalen Anforderungen, Leistungsparameter und technischen Beschränkungen klar formuliert werden.\n",
    "\n",
    "### Entwurfsphase\n",
    "\n",
    "Der Entwurf definiert, wie die Software strukturell aufgebaut werden soll. Diese Phase gliedert sich in die Grobplanung, bei der die Software in logische Module aufgeteilt wird, und die Feinplanung, die festlegt, wann welche Komponenten von wem entwickelt werden.\n",
    "\n",
    "Im Bauwesen entspricht dies der Architektur- und Entwurfsplanung. Bei einem Hochbau wird zunächst die Grundstruktur mit Fundament, Rohbau und Ausbau geplant, bevor die Details wie Bewehrungspläne und Installationen ausgearbeitet werden. Ähnlich wird bei der Softwareentwicklung erst die Gesamtarchitektur entworfen, bevor die einzelnen Klassen und ihre Schnittstellen definiert werden.\n",
    "\n",
    "### Ausführungsphase\n",
    "\n",
    "Die Ausführung umfasst sowohl die Implementation der einzelnen Softwarekomponenten als auch deren Integration zu einem funktionsfähigen Gesamtsystem. Während der Implementation werden die einzelnen Klassen und Module nach den Vorgaben des Entwurfs programmiert. Die anschließende Integration führt diese Einzelteile zur fertigen Lösung zusammen.\n",
    "\n",
    "Im Bauwesen arbeiten verschiedene Gewerke parallel an ihren spezifischen Aufgaben, bevor ihre Arbeiten koordiniert zusammengeführt werden. Bei einem Wasserbauprojekt werden beispielsweise Pumpstationen, Rohrleitungen und Steuerungssysteme zunächst separat erstellt und dann zu einem funktionsfähigen Wasserversorgungssystem verbunden.\n",
    "\n",
    "### Abnahme und Test\n",
    "\n",
    "Die Abnahmephase stellt sicher, dass die fertige Software alle Anforderungen erfüllt. Dies geschieht in mehreren Stufen: Zunächst werden einzelne Module isoliert getestet, dann wird das Zusammenspiel zwischen den Modulen geprüft, und schließlich wird das Gesamtsystem unter realen Bedingungen getestet.\n",
    "\n",
    "Diese Vorgehensweise entspricht der Bauabnahme, bei der ebenfalls stufenweise vorgegangen wird. Bei einer Kläranlage werden zunächst einzelne Pumpen auf ihre Funktion geprüft, dann das Zusammenspiel von Steuerung, Pumpen und Sensoren getestet, und schließlich wird die gesamte Anlage unter Realbedingungen abgenommen."
   ]
  },
  {
   "cell_type": "markdown",
   "id": "7b491e32",
   "metadata": {
    "slideshow": {
     "slide_type": "skip"
    }
   },
   "source": [
    "## Wasserfallmethode - Das traditionelle Entwicklungsmodell\n",
    "\n",
    "Die Wasserfallmethode repräsentiert den traditionellen Ansatz der Softwareentwicklung und wird noch heute häufig in Ausschreibungen großer Systeme gefordert. Ihr charakteristisches Merkmal ist die streng sequenzielle Abarbeitung der Entwicklungsphasen, wobei jede Phase vollständig abgeschlossen werden muss, bevor die nächste beginnt.\n",
    "\n",
    "Diese Methode zeichnet sich durch eine begrenzte Nutzerbeteiligung aus, die hauptsächlich auf die Anforderungsdefinition beschränkt ist. Jede Aktivität wird umfassend dokumentiert, was die Methode besonders für Ausschreibungen und ISO-9000-konforme Entwicklungen geeignet macht.\n",
    "\n",
    "![](images/05a_Softwareentwurf/waterflow.svg)\n",
    "\n",
    "Der große Vorteil dieser Methode liegt in ihrer Planbarkeit und dem strukturierten Vorgehen. Kosten und Termine lassen sich präzise schätzen, und die umfassende Dokumentation erfüllt alle formalen Anforderungen. Allerdings führt die sequenzielle Natur dazu, dass Fehler aus frühen Phasen erst sehr spät entdeckt werden, was teure Nachbesserungen zur Folge haben kann.\n",
    "\n",
    "Die Wasserfallmethode entspricht dem traditionellen Bauvorgehen. Bei einer Autobahnbrücke werden zunächst alle Anforderungen in der Ausschreibung definiert, dann erfolgt die komplette Planung von der Statik bis zur Ausführungsplanung, bevor mit dem eigentlichen Bau begonnen wird. Erst nach Fertigstellung des gesamten Bauwerks erfolgen die Belastungstests und die Abnahme."
   ]
  },
  {
   "cell_type": "markdown",
   "id": "15387920",
   "metadata": {
    "slideshow": {
     "slide_type": "skip"
    }
   },
   "source": [
    "## V-Methode - Entwicklung mit systematischer Testplanung\n",
    "\n",
    "Die V-Methode wurde speziell für die Entwicklung sicherheitskritischer Software konzipiert und findet hauptsächlich in der Automobil- und Luftfahrtindustrie Anwendung. Sie erweitert das Wasserfallmodell um eine systematische Testplanung, die bereits während der Entwicklungsphase beginnt.\n",
    "\n",
    "Das charakteristische V-förmige Modell trennt Entwicklungs- und Testaktivitäten klar voneinander. Während auf der linken Seite die eigentliche Entwicklung stattfindet, werden auf der rechten Seite die entsprechenden Tests definiert und durchgeführt. Jede Entwicklungsphase hat ihre korrespondierende Testphase, wodurch eine hohe Testabdeckung erreicht wird.\n",
    "\n",
    "![](images/05a_Softwareentwurf/vmodel.svg)\n",
    "\n",
    "Die V-Methode bietet den Vorteil einer systematischen Qualitätssicherung mit hoher Rückverfolgbarkeit. Allerdings ist sie aufwendiger als andere Methoden und eignet sich daher primär für Bereiche, in denen Sicherheit und Zuverlässigkeit oberste Priorität haben.\n",
    "\n",
    "Im Tunnelbau, einem sicherheitskritischen Bereich des Bauingenieurwesens, wird ähnlich vorgegangen. Bereits während der Planung der Sicherheitssysteme werden die entsprechenden Testverfahren definiert. Für jeden Brandmelder wird festgelegt, wie er getestet wird, für das Zusammenspiel von Brandmeldung und Lüftungssteuerung werden Integrationstests geplant, und für das Gesamtsystem wird eine komplette Evakuierungsübung mit der Feuerwehr konzipiert."
   ]
  },
  {
   "cell_type": "markdown",
   "id": "ffac5ac5",
   "metadata": {
    "slideshow": {
     "slide_type": "skip"
    }
   },
   "source": [
    "## Agile Methode - Flexibilität durch iterative Entwicklung\n",
    "\n",
    "Die agile Methode stellt eine moderne Antwort auf die Herausforderungen sich schnell ändernder Anforderungen dar. Anstatt ein komplettes System von Anfang bis Ende zu planen, wird schrittweise entwickelt und kontinuierlich verbessert.\n",
    "\n",
    "Der agile Ansatz beginnt mit einem Minimal Viable Product, einer einfachsten funktionsfähigen Version der Software. Diese wird dann in regelmäßigen Zyklen erweitert und verbessert, wobei jede Iteration neue Funktionen hinzufügt oder bestehende optimiert. Die Entwicklungszyklen sind typischerweise kurz und dauern meist nur wenige Monate.\n",
    "\n",
    "![](images/05a_Softwareentwurf/agile.svg)\n",
    "\n",
    "Der große Vorteil der agilen Methode liegt in ihrer Flexibilität und der Möglichkeit, frühzeitig Feedback zu erhalten. Benutzer können bereits funktionsfähige Versionen testen und Verbesserungsvorschläge einbringen. Dies reduziert das Risiko, an den tatsächlichen Bedürfnissen vorbei zu entwickeln.\n",
    "\n",
    "Allerdings birgt die agile Methode auch Risiken. Entwurfsfehler in frühen Iterationen können dazu führen, dass die gesamte Architektur überarbeitet werden muss. Zudem ist die Kosten- und Zeitplanung schwieriger, da das Endprodukt zu Projektbeginn nicht vollständig spezifiziert ist.\n",
    "\n",
    "Ein Beispiel aus dem Bauwesen ist das modulare Bauen, was insbesondere im Holzbau zunehmend beliebter wird. Anstatt eine Bauwerk komplett zu planen und zu bauen, werden dort zuerst einzelne Module geplant, die man immer wieder miteinander kombinieren kann. Die Module kann man einzeln aufbauen und testen, bevor man sie im finalen Bauwerk zusammen setzt."
   ]
  },
  {
   "cell_type": "markdown",
   "id": "84c64a77",
   "metadata": {
    "slideshow": {
     "slide_type": "skip"
    }
   },
   "source": [
    "## Vorgehenswahl in der Praxis\n",
    "\n",
    "Die Wahl der geeigneten Vorgehensmodells hängt stark vom Projektkontext ab. Für standardisierte Systeme mit klaren Anforderungen eignet sich die Wasserfallmethode, während sicherheitskritische Anwendungen die systematische Testplanung der V-Methode erfordern. Agile Methoden sind ideal für innovative Projekte mit evolvierende Anforderungen.\n",
    "\n",
    "In der Ingenieurspraxis zeigt sich, dass oft auch Mischformen sinnvoll sind. Ein Tunnelprojekt könnte beispielsweise die grundlegende Konstruktion nach dem Wasserfallmodell planen, die Sicherheitssysteme nach der V-Methode entwickeln und die Betriebsführungssoftware agil umsetzen."
   ]
  },
  {
   "cell_type": "markdown",
   "id": "fe3fb017",
   "metadata": {
    "editable": true,
    "slideshow": {
     "slide_type": "slide"
    },
    "tags": [
     "remove-cell"
    ]
   },
   "source": [
    "## Modellierung mit Objekten\n",
    "\n",
    "- Unsere Wahrnehmung und unser Denken besteht darauf Objekte zu erkennen. Das setzt voraus, dass wir das Objekt von anderen Objekten trennen können (z.B. Stuhl und Tisch)\n",
    "- Das Nachbilden dieser Wahrnehmung und dieses Weltverständnisses im Computer, nennt man *Modellierung*.\n",
    "- Da unsere Wahrnehmung auf Objekten basiert, ist es naheliegend für die Modellierung auch Objekte zu nutzen.\n",
    "- Die Objekte in der Welt interagieren, dieses Verhalten müssen wir auch modellieren.\n",
    "  \n",
    "<div class=\"alert alert-block alert-success\">\n",
    "<b>📘 Definition: Modell</b>\n",
    "\n",
    "Ein Modell ist eine abstrakte, vereinfachte Abbildung eines Systems (meist aus der Realität).\n",
    "</div>"
   ]
  },
  {
   "cell_type": "markdown",
   "id": "b24dcbc3",
   "metadata": {
    "editable": true,
    "slideshow": {
     "slide_type": "subslide"
    },
    "tags": [
     "remove-cell"
    ]
   },
   "source": [
    "## Hörsaalfrage\n",
    "\n",
    "<script>setSectionBackground('#FFD966');</script>\n",
    "<div class=\"flex-row\">\n",
    "  <div class=\"col4 vcent\">\n",
    "\n",
    "*Was haben diese Elemente gemein?*\n",
    "\n",
    "  </div>\n",
    "  <div class=\"col6\"> \n",
    "    <figure class=\"mj-fig\">\n",
    "        <img src=\"images/05a_Softwareentwurf/elemente.svg\" class=\"mj-fig-img\">\n",
    "    </figure>\n",
    "  </div>\n",
    "</div>"
   ]
  },
  {
   "cell_type": "markdown",
   "id": "5bec18bc",
   "metadata": {
    "editable": true,
    "slideshow": {
     "slide_type": "subslide"
    },
    "tags": [
     "remove-cell"
    ]
   },
   "source": [
    "## Hörsaalfrage\n",
    "\n",
    "<script>setSectionBackground('#FFD966');</script>\n",
    "<div class=\"flex-row\">\n",
    "  <div class=\"col4\">\n",
    "\n",
    "- Das sind alles *geometrische Objekte*\n",
    "- Sie bestehen alle aus *Punkten*, die mit *Linien* verbunden sind\n",
    "- Das können wir bei der Modellierung ausnutzen und Klassen so definieren, dass sie die *Gemeinsamkeit* ausnutzen\n",
    "\n",
    "  </div>\n",
    "  <div class=\"col6\"> \n",
    "    <figure class=\"mj-fig\">\n",
    "        <img src=\"images/05a_Softwareentwurf/elemente.svg\" class=\"mj-fig-img\">\n",
    "    </figure>\n",
    "  </div>\n",
    "</div>"
   ]
  },
  {
   "cell_type": "markdown",
   "id": "8564df26",
   "metadata": {
    "editable": true,
    "slideshow": {
     "slide_type": "subslide"
    },
    "tags": [
     "remove-cell"
    ]
   },
   "source": [
    "## Objektorientierter Softwareentwurf\n",
    "\n",
    "<div class=\"alert alert-block alert-success\">\n",
    "<b>📘 Definition: Objektorientierten Softwareentwurf</b>\n",
    "\n",
    "Objektorientierten Softwareentwurf, wird ein Programm so entworfen, dass es nur aus *Objekten* besteht.\n",
    "</div>\n",
    "\n",
    "- Der Softwareentwurf gleicht dabei stark dem Vorgehen von Ingenieuren beim Entwurf von Plänen\n",
    "- Die übliche Modellierungssprache sind *UML Diagramme*.\n",
    "- Man modelliert im Entwurf wie:\n",
    "    - wie Objekte in Form von *Klassen* definiert sind,\n",
    "    - welche *Attribute und Methoden* sie besitzen,\n",
    "    - wie diese Klassen aufeinander aufbauen (*Vererbung*),\n",
    "    - als auch wie sie miteinander in statischer Beziehung stehen (*Referenzen*)\n",
    "    - und wie sie dynamisch interagieren (*Verhalten*)"
   ]
  },
  {
   "cell_type": "markdown",
   "id": "47e3dde3",
   "metadata": {
    "editable": true,
    "slideshow": {
     "slide_type": "subslide"
    },
    "tags": [
     "remove-cell"
    ]
   },
   "source": [
    "## Referenzen\n",
    "\n",
    "<div class=\"flex-row\">\n",
    "<div class=\"col1\">\n",
    "\n",
    "- In Programmen stehen Objekte meist im Zusammenhang. z.B. besteht eine Linie aus zwei Punkten.\n",
    "- Diesen Zusammenhang zweier Objekt-Klassen bezeichnet man als *Referenz*.\n",
    "- Referenzen in Python erstellt man als Attribut vom Datentyp des anderen Objektes.\n",
    "\n",
    "</div>\n",
    "<div class=\"col1\">\n",
    "\n",
    "```python\n",
    "class Line:\n",
    "    def __init__(self, start, end):\n",
    "        self.start = start\n",
    "        self.end = end\n",
    "\n",
    "    def length(self):\n",
    "        return self.start.distance(self.end)\n",
    "```\n",
    "\n",
    "</div>\n",
    "</div>"
   ]
  },
  {
   "cell_type": "markdown",
   "id": "bad7ea7a",
   "metadata": {
    "editable": true,
    "slideshow": {
     "slide_type": "subslide"
    },
    "tags": [
     "remove-cell"
    ]
   },
   "source": [
    "## Vererbung\n",
    "\n",
    "- Gleiche Objekte teilen oft auch ähnliche Eigenschaften und Methoden. z.B. bestehen alle geometrischen Elemente aus Punkten die mit Linien verbunden sind\n",
    "- Um diese Attribute und Methoden nicht jedes mal neu definieren zu müssen dabei ggf. Fehler zu machen, gibt es die *Vererbung* in der OOP\n",
    "- OOP erlaubt das Definieren von spezialisierten *Unterklassen*, bzw. von generalisierten *Oberklassen*.\n",
    "- Die Unterklasse (Spezialklasse) besitzt die Methoden und Attribute der generalisierten Oberklasse (Basisklasse).\n",
    "- Angelehnt an die Genetik auch *„Vererbung\"* genannt"
   ]
  },
  {
   "cell_type": "markdown",
   "id": "2a9a9c15",
   "metadata": {
    "editable": true,
    "slideshow": {
     "slide_type": "subslide"
    },
    "tags": [
     "remove-cell"
    ]
   },
   "source": [
    "## Beispiel Vererbung\n",
    "\n",
    "<div class=\"flex-row\">\n",
    "<div class=\"col1\"></div>\n",
    "<div class=\"col4\">\n",
    "\n",
    "<img src=\"https://mermaid.ink/svg/pako:eNptkT9vgzAQxb8KupkgA-aPPWRou1bqkKnyYuELsQR2ZIzUlPLdayi0idRb7Hvvfu8ke4LGKgQOTSeH4UXL1slemCiU0g4br62Jnk4_yjoTvdnu1lojzL14clqatsMHDb2T6-QdjMbLO3rnosPh6_gXvVob_o-1pzxYEEPrtALu3Ygx9Oh6ubQwLZAAf8EeBfBwVXiWY-cFCDMH7CrNu7X9Tjo7thfgZ9kNoRuvSnrcXuZXdWgUumc7Gg88Y-UaAnyCD-BpXiZpTgmtaZmylJLg3oBTkmSUMVamdZGTrMrpHMPnupckdVWQUFmWFaxiZR0DKu2te91-Zznmb1rAhx8\">\n",
    "\n",
    "</div>\n",
    "<div class=\"col1\"></div>\n",
    "</div>"
   ]
  },
  {
   "cell_type": "markdown",
   "id": "7a21d5b9",
   "metadata": {
    "editable": true,
    "slideshow": {
     "slide_type": "slide"
    },
    "tags": [
     "remove-cell"
    ]
   },
   "source": [
    "## Polymorphie\n",
    "\n",
    "- Ein Objekt einer *Spezialklasse* kann stets auch als Mitglied der *Basisklasse* betrachtet werden.\n",
    "\n",
    "- Die Spezialklasse kann die geerbten Methoden/Attribute der Basisklasse *überschreiben* und somit umdefinieren.\n",
    "\n",
    "- In statisch typisierten Sprachen gilt außerdem: In einer Variablen die ein Objekt der Basisklasse aufnehmen kann, kann auch ein Objekt einer abgeleiteten Klasse gespeichert werden."
   ]
  },
  {
   "cell_type": "markdown",
   "id": "1ff4278c",
   "metadata": {
    "editable": true,
    "slideshow": {
     "slide_type": "subslide"
    },
    "tags": [
     "remove-cell"
    ]
   },
   "source": [
    "## Datenkapselung\n",
    "\n",
    "- Ziel der *Datenkapselung* ist es Kontrolle darüber zu haben, welche Attribute lesbar oder beschreibbar sind und wie dies geschehen kann\n",
    "- Ferner kontrolliert man ob Attribute nur *lesbar* oder auch *schreibbar* sind. Dafür werden Attribute als *privat* deklariert und sind dann nur durch Get-Funktionen lesbar und durch Set-Funktionen veränderbar.\n",
    "- Hierfür deklariert man Attribute oder Methoden als:\n",
    "    - *privat* – Nur die Instanz der gleichen Klasse kann zugreifen\n",
    "    - *protected* – Nur die Instanz der gleichen Klasse oder Unterklasse kann zugreifen\n",
    "    - *public* – Alle können zugreifen\n"
   ]
  },
  {
   "cell_type": "markdown",
   "id": "20ee0eef",
   "metadata": {
    "editable": true,
    "slideshow": {
     "slide_type": "subslide"
    },
    "tags": [
     "remove-cell"
    ]
   },
   "source": [
    "## Dynamik in Klassen\n",
    "\n",
    "- In der OOP wird angenommen, dass Klassen *statisch* sind und es keine anderen als die in der Klasse definierten Attribute und Methoden gibt.\n",
    "\n",
    "- Python bietet ein höheres Maß an Dynamik als andere Programmiersprachen:\n",
    "  - Dynamische Typisierung von Variablen\n",
    "  - Dynamisches Binden von Methoden und Attributen\n",
    "  - Wir können sogar Attribute und Methoden selbst hinzufügen, wenn diese nicht in der Klasse definiert sind.\n",
    "  - So können z.B. zur Laufzeit Referenzen zwischen Objekten schaffen die im vordefinierten Datenmodell keinen Bezug haben."
   ]
  },
  {
   "cell_type": "markdown",
   "id": "8f5eb7fa",
   "metadata": {
    "slideshow": {
     "slide_type": "slide"
    },
    "tags": [
     "remove-cell"
    ]
   },
   "source": [
    "## Objektorientierte Programmierparadigmen\n",
    "\n",
    "| Vererbung | Generalisierung | Polymorphismus | Kapzelung |\n",
    "|--|--|-|--|\n",
    "| Attribute und Methoden von Elternklassen werden an Kinder vererbt. Das hilft Redundanzen und Fehler zu vermeiden. | Gemeinsamkeiten werden in generalisierten Eltern-Klassen implementiert | Kinderklassen können Methoden überschreiben und somit umdefinieren. | Kapselung von Daten und Methoden in Objekten ist ein Schutzmechanismus, um schadhafte Änderungen einzuschränken.  |"
   ]
  },
  {
   "cell_type": "markdown",
   "id": "d6b23bac",
   "metadata": {
    "editable": true,
    "slideshow": {
     "slide_type": "slide"
    },
    "tags": [
     "remove-cell"
    ]
   },
   "source": [
    "## Unified Modelling Language - Grundlagen\n",
    "\n",
    "\n",
    "<div class=\"flex-row\">\n",
    "<div class=\"col1\">\n",
    "\n",
    "- *UML (Unified Modelling Language)* ist ein ISO-Standard zur Beschreibung von Softwareentwürfen\n",
    "- Er wird genutzt für den Entwurf, Ausschreibung, Implementation und Dokumentation von:\n",
    "    - Funktionalitäten\n",
    "    - Strukturen\n",
    "    - Businessprozessen\n",
    "    - Nutzerinteraktionen\n",
    "\n",
    "</div>\n",
    "\n",
    "<div class=\"col1\">\n",
    "\n",
    "Der Standard umfasst 13 Diagrammtypen, die typischsten:\n",
    "- *Klassendiagramme* (Für die Klassen- und Datenstruktur)\n",
    "- *Programmablaufplan* (Für allgemeine Abläufe und Algorithmen)\n",
    "- *Sequenzdiagramme* (Für Interaktionen)\n",
    "- *Use-Case Diagramme* (Für Nutzer und Nutzfälle)\n",
    "\n",
    "</div>\n",
    "</div>"
   ]
  },
  {
   "cell_type": "markdown",
   "id": "c2cafa9d",
   "metadata": {
    "editable": true,
    "slideshow": {
     "slide_type": "subslide"
    },
    "tags": [
     "remove-cell"
    ]
   },
   "source": [
    "## UML Klassendiagramm\n",
    "\n",
    "- Das am *häufigsten verwendete Diagramm* im objektorientierten Modellieren\n",
    "\n",
    "- Im Klassendiagramm modelliert werden:\n",
    "  - Klassen mit: Attributen, Methoden\n",
    "  - Beziehungen\n",
    "  - Hierarchien & Vererbungen"
   ]
  },
  {
   "cell_type": "markdown",
   "id": "e488df44",
   "metadata": {
    "editable": true,
    "slideshow": {
     "slide_type": "subslide"
    },
    "tags": [
     "remove-cell"
    ]
   },
   "source": [
    "## Klassendiagramm – Vererbung\n",
    "\n",
    "<div class=\"flex-row\">\n",
    "<div class=\"col1\">\n",
    "\n",
    "- *Vererbung* wird in UML durch ein Referenz mit einem *gefüllten Dreieck \"▲\"* bei der Oberklasse gezeichnet.\n",
    "\n",
    "- Um zum Beispiel auszudrücken, dass `Triangle`, `Tetragon` und `Pentagon` Unterklassen des Polygons sind, können wir zeichnen.\n",
    "\n",
    "</div>\n",
    "<div class=\"col1\">\n",
    "\n",
    "<img src=\"https://mermaid.ink/svg/pako:eNptkcFqwzAMhl8l6LSxNNiJmzo-7LDtOtihp2EYplbTQGIXxYF1Xd99SZOUZUwILH3SLxn7DDtvERTsatO2L5UpyTTaRb3ZinAXKu-ip-1Irj3Rm69PpXcjmhIVPRhCc3f_l2r90XsbaAyGht-ztlQZV9a4YBjI3BZMO9GFkY101kWr1ffj8kaz_J_SPGVRghhKqiyoQB3G0CA1ZkjhPIg0hAM2qEH1ocW96eqgQbtLLzsa9-59MyvJd-UB1N7UbZ91R2sCTg96o4TOIj37zgVQacGvQ0Cd4RMUz_KEZ4IJKXJecMHyGE6gBEtSURRFzuU6Y-kmE5cYvq57WSI3a9Ybz6TMWC5lDGir4Ol1-tThuPwAlpuYcw\" style=\"height: 60vh;\">\n",
    "\n",
    "</div>\n",
    "</div>"
   ]
  },
  {
   "cell_type": "markdown",
   "id": "82b8ffe3",
   "metadata": {
    "editable": true,
    "slideshow": {
     "slide_type": "subslide"
    },
    "tags": [
     "remove-cell"
    ]
   },
   "source": [
    "## Klassendiagramm - Referenzen\n",
    "\n",
    "<div class=\"flex-row\">\n",
    "<div class=\"col1\">\n",
    "\n",
    "- *Referenzen* werden in UML mit Linien zwischen Objekten gekennzeichnet. Die Art der Linie und des Pfeils geben den Typ der Referenz an.\n",
    "\n",
    "- Man unterscheidet in UML die Referenzen in der Art der *Besitzverhältnisse*:\n",
    "  - *Aggregated* - ein Objekt ist Teil eines anderen und kann ohne ihn existieren\n",
    "  - *Composition* - kann nicht ohne diesen existieren  \n",
    "  - *Assoziation* - komplett unabhängig\n",
    "\n",
    "- *Zahlen* an den Referenzen geben die *Multiplizität* an, also wie viele Objekte in dieser Relation im Zusammenhang stehen.\n",
    "\n",
    "</div>\n",
    "<div class=\"col1\">\n",
    "\n",
    "<img src=\"https://mermaid.ink/svg/pako:eNplUctugzAQ_BVrT2lLkAFjwNf22Eo9V75YeHlIYEfGSEkR_14H0ipt5-LZ0c7Oar1AbTWCgHpQ0_TSq9apURoSsCnktTdIll254mlA0_ru8LBLqzT33e-2N_5XezNY5cn5n3K5U3Q_eWVqPGz2v5O3DSQkEsjj8RhYGtgeJEgwOh8RNBoiaF2vQXg3YwQjulFdS9i2keA7HFGCCFRjo-bBS5BmDbaTMh_Wjt9OZ-e2A9GoYQrVfNLK4-0wP6oLgeie7Ww8iIzSbQiIBc4gkozHScYoKxlPqoRRHsEFBKNxyqqq4kmZZzQtMrZG8Lnl0rgschqQcp7nrEqLCFD33rq32-dcn_ULxVV9zA\" style=\"height: 60vh;\">\n",
    "\n",
    "</div>\n",
    "</div>\n"
   ]
  },
  {
   "cell_type": "markdown",
   "id": "bad6598c",
   "metadata": {
    "editable": true,
    "jp-MarkdownHeadingCollapsed": true,
    "slideshow": {
     "slide_type": "subslide"
    },
    "tags": [
     "remove-cell"
    ]
   },
   "source": [
    "## Klassendiagramm - Gesamtbeispiel\n",
    "\n",
    "<div class=\"flex-row\">\n",
    "<div class=\"col1\">\n",
    "\n",
    "- *Klassendiagramme* können recht schnell groß werden\n",
    "\n",
    "- Sie eignen sich sehr gut um das *(Daten-) Modell* darzustellen\n",
    "\n",
    "</div>\n",
    "<div class=\"col5\">\n",
    "\n",
    "<img src=\"https://mermaid.ink/svg/pako:eNp9VF1vmzAU_SvWlSp1G40guPlAe9m6PVTbtKjb04QUuXADloxNbSM1zfLfazBEkEb1C9f3nnuOfWxzgEzlCAlkghnzjbNCsyqVxI2rK_KVGSQFqgqt3pMOgsZXuwnZKC4tOfhUOz7thGKWPL_J7EeZnBvLZIbXXfsHXzmmcsz8k0ucEAuUhS2vL6M3SuwLJScNTCMb4F1iuzVWb7dvKNxG71RVK8MtdxwaBWsDU_K63-xAn0KUAlE3Ny6KXeS3n5C6_fbYbuEe-LEDzkdAt29tA4IyH4nfyxI17xwhJUfNdFbuyU6rahCeruLzf8f7V3MmC4GXSu602OWuDUrrS744sPjqn4w5l3H7wIvSvgf4_Wgbg-8hvmSNxUFlwutx90aZDAWasdiU_hw4Fp3InAN77RZ3lvTI708Nd0fsjBYnH3rLBm9ZjS-XKhvmmgQK5Z9J7_A46XEPmNnR8ZymvUlPjbucl7V_8GHtbdSzlap6bAwEUGieQ2J1gwFUqCvWTqG79SnYEitMIXFhjjvWCJtCKo-urWbyn1LV0KlVU5SQ7JgwbtbUuTOjf_qnrHZ3FPWdaqSFJA5pRwLJAZ4hieLFLIppSFd0Ea0jGi4C2ENCw9mcrtfrRbS6jcP5MqbHAF463XC2Wt6GbkSrJZ1HlMYBYM6t0r_630_7Ob4C5I5vIg\" style=\"height: 60vh;\">\n",
    "\n",
    "</div>\n",
    "</div>\n"
   ]
  },
  {
   "cell_type": "markdown",
   "id": "db48b005",
   "metadata": {
    "editable": true,
    "slideshow": {
     "slide_type": "subslide"
    },
    "tags": [
     "remove-cell"
    ]
   },
   "source": [
    "## Anwendungsbeispiel – BIM (Building Information Models)\n",
    "\n",
    "<div class=\"flex-row\">\n",
    "<div class=\"col6\">\n",
    "\n",
    "- Bauzeichnungen werden heutzutage als *IFC (Industry Foundation Class)* gespeichert\n",
    "- *IFC* ist ein objektorientiertes Model, mit Vererbung, Spezialisierung, Generalisierung und Polymorphismus\n",
    "- Es wird u.a. in *UML* dokumentiert\n",
    "\n",
    "</div>\n",
    "<div class=\"col4\">\n",
    "\n",
    "![Polygon Klassen](images/05a_Softwareentwurf/ifc_classes.jpg)\n",
    "\n",
    "</div>\n",
    "</div>"
   ]
  },
  {
   "cell_type": "markdown",
   "id": "e86c47a4",
   "metadata": {
    "editable": true,
    "slideshow": {
     "slide_type": "slide"
    },
    "tags": [
     "remove-cell"
    ]
   },
   "source": [
    "## Entwurfsvorgehen\n",
    "\n",
    "<script>setSectionBackground('#FFD966');</script>\n",
    "<div class=\"flex-row\">\n",
    "  <div class=\"col4 vcent\">\n",
    "\n",
    "  </div>\n",
    "  <div class=\"col6\"> \n",
    "    <figure class=\"mj-fig\">\n",
    "        <img src=\"images/05a_Softwareentwurf/waterfall.png\" class=\"mj-fig-img\">\n",
    "        <figcaption class=\"mj-fig-cap\">\n",
    "            Midjourney: Software Waterfall\n",
    "        </figcaption>\n",
    "    </figure>\n",
    "  </div>\n",
    "</div>\n"
   ]
  },
  {
   "cell_type": "markdown",
   "id": "f93e2f7e",
   "metadata": {
    "editable": true,
    "slideshow": {
     "slide_type": "subslide"
    },
    "tags": [
     "remove-cell"
    ]
   },
   "source": [
    "## Softwareentwurf\n",
    "\n",
    "- Software wird selten allein entwickelt, sondern oft im Team über einen längeren Zeitraum.  \n",
    "- Dafür wird ein Projektplan benötigt, der beschreibt wie die Software arbeitsteilig entwickelt werden soll  \n",
    "- Das Erstellen dieses Projektplans nennt man *Softwareentwurf*\n",
    "- Der Ablauf ähnelt stark dem *Entwurfsvorgehen im Umwelt- und Bauingenieurwesen*\n",
    "- Der Projektplan umfasst:  \n",
    "  - den *Klassenentwurf* (Bauplan)  \n",
    "  - die *Programmiervorgehen* (Bauablaufplanung)\n"
   ]
  },
  {
   "cell_type": "markdown",
   "id": "1b2c8be4",
   "metadata": {
    "editable": true,
    "slideshow": {
     "slide_type": "subslide"
    },
    "tags": [
     "remove-cell"
    ]
   },
   "source": [
    "## Softwareentwurf - Phasen\n",
    "\n",
    "<div class=\"flex-row\">\n",
    "<div class=\"col1\">\n",
    "\n",
    "- *Anforderungsdefinition* \n",
    "  – Definition welche Funktionen und Randbedingungen realisiert werden\n",
    "\n",
    "- *Entwurf*\n",
    "  - Klassenentwurf der Software\n",
    "  - Ausführungsplanung – Was wird wann, durch wen, und wie implementiert\n",
    "\n",
    "</div>\n",
    "<div class=\"col1\">\n",
    "\n",
    "- *Ausführung*\n",
    "  - Implementation – Programmieren der einzelnen Klassen & Module \n",
    "  - Integration – Zusammenführen der Module zur fertigen Lösung \n",
    "\n",
    "- *Abnahme* – Test des fertigen Softwareprogramms\n",
    "  - Modultest – Unit-Test von Modulen \n",
    "  - Integrationstest – Kombination von Module testen \n",
    "  - Systemtest – Gesamtheit der Module testen \n",
    " \n",
    "</div>\n",
    "</div>\n",
    "\n"
   ]
  },
  {
   "cell_type": "markdown",
   "id": "e1f041c9",
   "metadata": {
    "editable": true,
    "slideshow": {
     "slide_type": "subslide"
    },
    "tags": [
     "remove-cell"
    ]
   },
   "source": [
    "## Vergleich: Software- vs. Bauingenieurwesen\n",
    "\n",
    "<div class=\"flex-row\">\n",
    "<div class=\"col1\">\n",
    "\n",
    "**Softwareentwurf**\n",
    "\n",
    "- *Anforderungsdefinition:* Definition welche Funktionen und Randbedingungen realisiert werden\n",
    "\n",
    "</div>\n",
    "<div class=\"col1\">\n",
    "\n",
    "**Bauingeneurwesen**\n",
    "\n",
    "- *Ausschreibung:* Dokumentieren welche Funktionen und Randbedingungen das Bauwerk erfüllen\n",
    "\n",
    "</div>\n",
    "</div>\n",
    "\n",
    "<div class=\"flex-row\">\n",
    "<div class=\"col1\">\n",
    "\n",
    "- *Entwurf*\n",
    "  - Modulentwurf – Definition welche Teile die Software hat\n",
    "  - Klassenentwurf – Definition in welche Klassen die Software strukturiert ist\n",
    "  - Ausführungsplanung – Was wird wann, durch wen, und wie implementiert\n",
    "\n",
    "</div>\n",
    "<div class=\"col1\">\n",
    "\n",
    "- *Entwurf*\n",
    "  - Architektur und Grobentwurf – Definition wir das Bauwerk grob strukturiert ist\n",
    "  - Fein- und Gewerkplanung - Definition wie Teile und die Gewerke umgesetzt werden\n",
    "  - Ausführungsplanung – Was wird wann, durch wen, und wie gebaut\n",
    "\n",
    "</div>\n",
    "</div>"
   ]
  },
  {
   "cell_type": "markdown",
   "id": "5c39d0bc",
   "metadata": {
    "editable": true,
    "slideshow": {
     "slide_type": "subslide"
    },
    "tags": [
     "remove-cell"
    ]
   },
   "source": [
    "## Vergleich: Software- vs. Bauingenieurwesen (Fortsetzung)\n",
    "\n",
    "<div class=\"flex-row\">\n",
    "<div class=\"col1\">\n",
    "\n",
    "**Softwareentwurf (Fortsetzung)**\n",
    "\n",
    "- *Ausführung*\n",
    "  - Implementation – Programmieren der einzelnen Klassen & Module\n",
    "  - Integration – Zusammenführen der Module zur fertigen Lösung\n",
    "\n",
    "</div>\n",
    "<div class=\"col1\">\n",
    "\n",
    "**Bauingenieurwesen (Fortsetzung)**\n",
    "\n",
    "- *Ausführung*\n",
    "  - Einzelne Gewerke werden umgesetzt\n",
    "  - Gewerke im Bau integrieren, wie Energie und Wasser mit Klima integrieren\n",
    "\n",
    "</div>\n",
    "</div>\n",
    "\n",
    "<div class=\"flex-row\">\n",
    "<div class=\"col1\">\n",
    "\n",
    "- *Abnahme*\n",
    "  - Modultest – Unit-Test von Modulen\n",
    "  - Integrationstest – Kombination von Module testen\n",
    "  - Systemtest – Gesamtheit der Module testen\n",
    "\n",
    "</div>\n",
    "<div class=\"col1\">\n",
    "\n",
    "- *Abnahme*\n",
    "  - Abnahme einzelner Gewerke\n",
    "  - Test mehrerer Gewerke gemeinsam\n",
    "  - Gesamtbauwerk abnehmen\n",
    "\n",
    "</div>\n",
    "</div>"
   ]
  },
  {
   "cell_type": "markdown",
   "id": "134f061b",
   "metadata": {
    "editable": true,
    "slideshow": {
     "slide_type": "subslide"
    },
    "tags": [
     "remove-cell"
    ]
   },
   "source": [
    "## Lineare Methode - Wasserfallmethode\n",
    "\n",
    "<div class=\"flex-row\">\n",
    "<div class=\"col1\">\n",
    "\n",
    "- Traditionelles Modell das häufig noch in der Ausschreibung großer Systeme gefordert wird\n",
    "\n",
    "- Entwicklung ist in mehrere sequenzielle Schritte aufgeteilt und jeder Schritt muss vor dem nächsten beendet werden\n",
    "\n",
    "- Benutzerbeteiligung nur in der Anforderungsdefinition\n",
    "\n",
    "- Jeder Aktivität wird dokumentiert → Gut geeignet für Ausschreibungen (nach der Anforderungsdefinition oder dem Entwurf, ISO 9000)\n",
    "\n",
    "</div>\n",
    "  <div class=\"col1\">\n",
    "    <figure class=\"mj-fig\">\n",
    "        <img src=\"images/05a_Softwareentwurf/waterflow.svg\" class=\"mj-fig-img\" style=\"height: 80%\">\n",
    "    </figure>\n",
    "  </div>\n",
    "</div>"
   ]
  },
  {
   "cell_type": "markdown",
   "id": "146aee71",
   "metadata": {
    "editable": true,
    "slideshow": {
     "slide_type": "subslide"
    },
    "tags": [
     "remove-cell"
    ]
   },
   "source": [
    "## V-Methode\n",
    "\n",
    "\n",
    "<div class=\"flex-row\">\n",
    "<div class=\"col1\">\n",
    "\n",
    "- Primär verwendet bei der Entwicklung sicherheitskritischer Software (Auto, Flugzeug, etc.)\n",
    "\n",
    "- Separiert Entwicklungs- (linke Seite) und Testaktivitäten (rechte Seite)\n",
    "\n",
    "- Tests werden schon im Entwicklungsarm definiert\n",
    "\n",
    "- Ziel einer hohen Testabdeckung\n",
    "\n",
    "- Benutzerbeteiligung in der Anforderungsdefinition und im Abnahmetest\n",
    "\n",
    "</div>\n",
    "  <div class=\"col1\">\n",
    "    <figure class=\"mj-fig\">\n",
    "        <img src=\"images/05a_Softwareentwurf/vmodel.svg\" class=\"mj-fig-img\" style=\"height: 80%\">\n",
    "    </figure>\n",
    "  </div>\n",
    "</div>\n"
   ]
  },
  {
   "cell_type": "markdown",
   "id": "43562188",
   "metadata": {
    "editable": true,
    "slideshow": {
     "slide_type": "subslide"
    },
    "tags": [
     "remove-cell"
    ]
   },
   "source": [
    "## Agile Methode\n",
    "\n",
    "<div class=\"flex-row\">\n",
    "<div class=\"col1\">\n",
    "\n",
    "- Moderne Methode um mit sich an ständig ändernden Anforderungen anpassen\n",
    "\n",
    "- Ziel der schrittweisen Entwicklung der Lösung, um Aufwand und Komplexität einzelner Schritte in Grenzen zu halten\n",
    "\n",
    "- Startet mit einer einfachen und ausbaufähigen Implementierung (MVP – Minimal Viable Produkt)\n",
    "\n",
    "- Schrittweise Erweiterung und Verbesserung des Produktes mit regelmäßigen Releases (meist alle 3 Monate)\n",
    "\n",
    "- Entwurfsfehler der ersten Iterationen können zu kompletten Neuentwurf führen\n",
    "\n",
    "</div>\n",
    "  <div class=\"col1\">\n",
    "    <figure class=\"mj-fig\">\n",
    "        <img src=\"images/05a_Softwareentwurf/agile.svg\" class=\"mj-fig-img\" style=\"height: 80%\">\n",
    "    </figure>\n",
    "  </div>\n",
    "</div>"
   ]
  },
  {
   "cell_type": "markdown",
   "id": "401bbdef-1517-41f3-816a-b6e78622a578",
   "metadata": {
    "editable": true,
    "slideshow": {
     "slide_type": "skip"
    },
    "tags": []
   },
   "source": [
    "## Quiz\n",
    "\n",
    "```{quizdown}\n",
    "\t---\n",
    "\tshuffleQuestions: true\n",
    "\tshuffleAnswers: true\n",
    "\t---\n",
    "\n",
    "    ### Was ist der Hauptzweck von Programmablaufplänen?\n",
    "    - [x] Die Übersetzung eines realen Problems in einzelne Programmschritte\n",
    "    - [ ] Das Schreiben von effizientem Code\n",
    "    - [ ] Die Dokumentation fertiger Programme\n",
    "    - [ ] Die Visualisierung von Datenstrukturen\n",
    "\n",
    "    ### Welche Form haben Start- und End-Elemente in Flussdiagrammen?\n",
    "    - [x] Elemente mit runden Ecken\n",
    "    - [ ] Rechteckige Elemente\n",
    "    - [ ] Rhomben\n",
    "    - [ ] Kreise\n",
    "\n",
    "    ### Welche Form haben Anweisungen (Statements) in Flussdiagrammen?\n",
    "    - [x] Rechteckige Elemente\n",
    "    - [ ] Rhomben\n",
    "    - [ ] Kreise\n",
    "    - [ ] Elemente mit runden Ecken\n",
    "\n",
    "    ### Sortiere die folgenden Elemente eines Flussdiagramms nach ihrer typischen Reihenfolge:\n",
    "    1. `Start (abgerundetes Rechteck)`\n",
    "    2. `Eingabe (Rhombus)`\n",
    "    3. `Verarbeitung (Rechteck)`\n",
    "    4. `Entscheidung (Drachenviereck)`\n",
    "    5. `Ende (abgerundetes Rechteck)`\n",
    "\n",
    "    ### Welcher Fehler steckt in diesem Flussdiagramm?\n",
    "    ```mermaid\n",
    "    graph TD\n",
    "        A[Start] --> B{Eingabe}\n",
    "        B --> C[Verarbeitung]\n",
    "        C --> D{Entscheidung}\n",
    "        D --> B\n",
    "    ```\n",
    "    - [x] Eingabe wird mit falscher Form (Rhombus statt Parallelogramm) dargestellt\n",
    "    - [ ] Die Pfeilrichtung ist falsch\n",
    "    - [ ] Start-Element fehlt\n",
    "    - [ ] Entscheidungen können nicht zu Eingaben zurückführen\n",
    "\n",
    "    ### Welche Form wird für if-Anweisungen verwendet?\n",
    "    - [x] Drachenviereck\n",
    "    - [ ] Rechteck\n",
    "    - [ ] Rhombus\n",
    "    - [ ] Kreis\n",
    "\n",
    "    ### Was charakterisiert Unterprogramm-Elemente in Flussdiagrammen?\n",
    "    - [x] Rechteckige Form mit doppelter Linie\n",
    "    - [ ] Kreisförmige Form\n",
    "    - [ ] Gestrichelte Linien\n",
    "    - [ ] Schattierte Rechtecke\n",
    "\n",
    "```"
   ]
  },
  {
   "cell_type": "markdown",
   "id": "ca139770",
   "metadata": {
    "slideshow": {
     "slide_type": "slide"
    },
    "tags": [
     "remove-cell"
    ]
   },
   "source": [
    "<div class=\"vslide\">\n",
    "  <div class=\"vslide-title\">\n",
    "    <p style=\"font-family: Protomolecule; font-size: 2.3em; margin: 0px auto; text-align: center; width: 100%;\">fragen?</p>\n",
    "  </div>\n",
    "  <script>setSectionBackground('#000000', 'images/mj_questions.mp4');</script>\n",
    "</div>"
   ]
  }
 ],
 "metadata": {
  "kernelspec": {
   "display_name": "Python 3 (ipykernel)",
   "language": "python",
   "name": "python3"
  },
  "language_info": {
   "codemirror_mode": {
    "name": "ipython",
    "version": 3
   },
   "file_extension": ".py",
   "mimetype": "text/x-python",
   "name": "python",
   "nbconvert_exporter": "python",
   "pygments_lexer": "ipython3",
   "version": "3.11.6"
  }
 },
 "nbformat": 4,
 "nbformat_minor": 5
}
