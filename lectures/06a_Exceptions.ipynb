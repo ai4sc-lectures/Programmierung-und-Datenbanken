{
 "cells": [
  {
   "cell_type": "markdown",
   "metadata": {
    "slideshow": {
     "slide_type": "slide"
    },
    "tags": [
     "remove-cell"
    ]
   },
   "source": [
    "<div class=\"vslide\">\n",
    "  <div class=\"vslide-title\">\n",
    "    <p style=\"font-family: Protomolecule; font-size: 2.3em; line-height: 90%; margin: 0px auto; text-align: center; width: 100%;\"><span style=\"letter-spacing: .04rem;\">programmierung</span><br><span style=\"letter-spacing: .0rem;\">und datenbanken</span></p>\n",
    "<p class=\"author\" style=\"font-family: Protomolecule; margin: 0px auto;  text-align: center; width: 100%; font-size: 1.2em;\">Joern Ploennigs</p>\n",
    "<p class=\"subtitle\" style=\"font-family: Protomolecule; margin: 1em auto; text-align: center; width: 100%; font-size: 1.2em;\">Exceptions</p>\n",
    "  </div>\n",
    "<script>\n",
    "  function setSectionBackground(c,v){\n",
    "    let e=document.currentScript.previousElementSibling;\n",
    "    while(e&&e.tagName!=='SECTION')e=e.parentElement;\n",
    "    if(e){\n",
    "      if(c)e.setAttribute('data-background-color',c);\n",
    "      if(v){\n",
    "        e.setAttribute('data-background-video',v);\n",
    "        e.setAttribute('data-background-video-loop','true');\n",
    "        e.setAttribute('data-background-video-muted','true');\n",
    "      }\n",
    "    }\n",
    "  }\n",
    "  setSectionBackground('#000000', 'images/06a_Exceptions/mj_title.mp4');\n",
    "</script>\n",
    "<style>\n",
    ".flex-row{display:flex; gap:1rem; align-items:flex-start; justify-content:space-between;}\n",
    ".flex-row .col1{flex:1; min-width:10px}\n",
    ".flex-row .col2{flex:2; min-width:10px}\n",
    ".flex-row .col3{flex:3; min-width:10px}\n",
    ".flex-row .col4{flex:4; min-width:10px}\n",
    ".flex-row .col5{flex:5; min-width:10px}\n",
    ".flex-row .col6{flex:6; min-width:10px}\n",
    ".flex-row .col7{flex:7; min-width:10px}\n",
    "</style>\n",
    "</div>"
   ]
  },
  {
   "cell_type": "markdown",
   "metadata": {
    "slideshow": {
     "slide_type": "skip"
    }
   },
   "source": [
    "# Exceptions"
   ]
  },
  {
   "cell_type": "markdown",
   "metadata": {
    "slideshow": {
     "slide_type": "skip"
    }
   },
   "source": [
    "![](images/06a_Exceptions/mj_title.png)\n",
    "\n",
    "> Anything that can go wrong, will go wrong.\n",
    ">\n",
    "> - Murphy’s Law #1"
   ]
  },
  {
   "cell_type": "markdown",
   "metadata": {
    "slideshow": {
     "slide_type": "skip"
    }
   },
   "source": [
    "## <a href=\"/lec_slides/06a_Exceptions.slides.html\">Folien</a>\n",
    "<iframe src=\"/lec_slides/06a_Exceptions.slides.html\" width=\"750\" height=\"500\"></iframe>"
   ]
  },
  {
   "cell_type": "markdown",
   "metadata": {
    "slideshow": {
     "slide_type": "slide"
    },
    "tags": [
     "remove-cell"
    ]
   },
   "source": [
    "## Ablauf\n",
    "\n",
    "![](images/partA_7.svg)"
   ]
  },
  {
   "cell_type": "markdown",
   "metadata": {
    "slideshow": {
     "slide_type": "skip"
    }
   },
   "source": [
    "## Fehler mit Exceptions behandeln"
   ]
  },
  {
   "cell_type": "markdown",
   "metadata": {
    "slideshow": {
     "slide_type": "skip"
    }
   },
   "source": [
    "Exceptions unterbrechen den normalen Verlauf eines Programmes in einem Fehlerfall. Sie dienen dazu den Fehler im Programm zu kommunizieren (sie haben meist eine Fehlermeldung) und werden genutzt, um im Fehlerfall unkontrolliertes Abstürzen des Programmes zu verhindern.\n",
    "\n",
    "Bekannte Exceptions sollten immer abgefangen. In Python werden sie durch den `try-except`-Block abgefangen. Dieser startet mit einem `try` und endet mit einem `except`. Nach dem `try` folgt der Block mit der bekannten (oder unbekannten) Exception. Nach dem `except` folgt der Block zur Fehlerbehandlung.\n",
    "\n",
    "Es ist zu beachten, dass bei Exceptions keine Wertzuweisung stattfindet (der Wert ist ja nicht bekannt). Betrachten wir mal wieder, die aus der [Verzweigung bekannte Division durch 0](4a_Verzweigung.html#elif_-_Für_noch_mehr_Alternativen) mit ihren verschiedenen Fehlerfällen der Null-Division und falscher Datentypen der Eingaben. Ohne diese Fehlerfälle genau zu spezifizieren können wir schreiben."
   ]
  },
  {
   "cell_type": "code",
   "execution_count": null,
   "metadata": {
    "slideshow": {
     "slide_type": "skip"
    }
   },
   "outputs": [],
   "source": [
    "zaehler = 10\n",
    "nenner = 0\n",
    "ergebnis = None\n",
    "try:\n",
    "    # Block mit bekannter Exception\n",
    "    ergebnis = zaehler / nenner\n",
    "    # Dieser Teil wird nur ausgeführt wenn keine Exception auftrat\n",
    "    print(\"Die Division war erfolgreich\")\n",
    "except:\n",
    "    # Fehlerbehandlung\n",
    "    print(\"Divisionsfehler\")\n",
    "\n",
    "print(f\"Das Ergebnis von {zaehler}/{nenner} = {ergebnis}\")"
   ]
  },
  {
   "cell_type": "markdown",
   "metadata": {
    "slideshow": {
     "slide_type": "skip"
    }
   },
   "source": [
    "Das `except` is in dem obigen Fall untypisiert. Damit lassen sich alle Fehler, die auftreten können abfangen (auch unbekannte). Damit fängt der `try-except`-Block auch Fehler eines falschen Datentyps ab."
   ]
  },
  {
   "cell_type": "code",
   "execution_count": null,
   "metadata": {
    "slideshow": {
     "slide_type": "skip"
    }
   },
   "outputs": [],
   "source": [
    "zaehler = 'keine_zahl'\n",
    "nenner = 2\n",
    "ergebnis = None\n",
    "try:\n",
    "    ergebnis = zaehler / nenner\n",
    "except:\n",
    "    print(\"Divisionsfehler\")\n",
    "\n",
    "print(f\"Das Ergebnis von {zaehler}/{nenner} = {ergebnis}\")"
   ]
  },
  {
   "cell_type": "markdown",
   "metadata": {
    "slideshow": {
     "slide_type": "skip"
    }
   },
   "source": [
    "Das Problem hierbei ist, dass wir keine Information über die Exception erhalten. Deshalb ist es immer sinnvoll die genaue Exception abzufangen und die Fehlermeldung auszugeben. Der allgemeinste Fehlertyp in Python ist die `Exception` welche wir wie folgt als Variable `e` abfangen."
   ]
  },
  {
   "cell_type": "code",
   "execution_count": null,
   "metadata": {
    "slideshow": {
     "slide_type": "skip"
    }
   },
   "outputs": [],
   "source": [
    "zaehler = 'keine_zahl'\n",
    "nenner = 0\n",
    "ergebnis = None\n",
    "try:\n",
    "    ergebnis = zaehler / nenner\n",
    "except Exception as e:\n",
    "    print(f\"Divisionsfehler mit Fehler vom typ `{type(e)}` und Meldung `{e}`\")\n",
    "\n",
    "print(f\"Das Ergebnis von {zaehler}/{nenner} = {ergebnis}\")"
   ]
  },
  {
   "cell_type": "markdown",
   "metadata": {
    "slideshow": {
     "slide_type": "skip"
    }
   },
   "source": [
    "Sind die Exceptions bekannt sollten sie auch typisiert behandelt werden, um spezifische Meldungen auszugeben."
   ]
  },
  {
   "cell_type": "code",
   "execution_count": null,
   "metadata": {
    "slideshow": {
     "slide_type": "skip"
    }
   },
   "outputs": [],
   "source": [
    "zaehler = 'keine_zahl'\n",
    "nenner = 0\n",
    "ergebnis = None\n",
    "try:\n",
    "    ergebnis = zaehler / nenner\n",
    "except TypeError as e:\n",
    "    print(f\"Zaehler oder Nenner nicht vom Datentyp `int`\")\n",
    "except ZeroDivisionError as e:\n",
    "    print(\"Teilung durch 0\")\n",
    "\n",
    "print(f\"Das Ergebnis von {zaehler}/{nenner} = {ergebnis}\")"
   ]
  },
  {
   "cell_type": "markdown",
   "metadata": {
    "slideshow": {
     "slide_type": "skip"
    }
   },
   "source": [
    "Der `try-except`-Block unterstütz auch die `else`-Anweisung, welche immer ausgeführt wird, wenn **keine** Exception auftritt. Ferner gibt es die `finally`-Anweisung, welche **immer** ausgeführt wird also im fehlerfreien Fall und im Fehlerfall.\n",
    "\n",
    "Soll zum Beispiel eine Ausgabe nur gemacht werden, wenn der `try`-Block erfolgreich war, nutzen wir `else`."
   ]
  },
  {
   "cell_type": "code",
   "execution_count": null,
   "metadata": {
    "slideshow": {
     "slide_type": "skip"
    }
   },
   "outputs": [],
   "source": [
    "zaehler = 2\n",
    "nenner = 1\n",
    "ergebnis = None\n",
    "try:\n",
    "    ergebnis = zaehler / nenner\n",
    "except TypeError as e:\n",
    "    print(f\"Zaehler oder Nenner nicht vom Datentyp `int`\")\n",
    "except ZeroDivisionError as e:\n",
    "    print(\"Teilung durch 0\")\n",
    "else:\n",
    "    print(f\"Die Division war erfolgreich und resultiert in {zaehler}/{nenner} = {ergebnis}\")"
   ]
  },
  {
   "cell_type": "markdown",
   "metadata": {
    "slideshow": {
     "slide_type": "skip"
    }
   },
   "source": [
    "Soll immer eine Ausgabe erfolgen können wir `finally` verwenden. Dies wird häufig verwendet, um Schritte durchzuführen die auch im Fehlerfall gemacht werden sollen, z.B. um Verbindungen zu Dateien oder zu einer Datenbank zu schließen, damit diese nicht unendlich lange offen bleiben (und irgendwann zu Fehlern führen)."
   ]
  },
  {
   "cell_type": "code",
   "execution_count": null,
   "metadata": {
    "slideshow": {
     "slide_type": "skip"
    }
   },
   "outputs": [],
   "source": [
    "zaehler = 'keine_zahl'\n",
    "nenner = 0\n",
    "ergebnis = None\n",
    "try:\n",
    "    ergebnis = zaehler / nenner\n",
    "except TypeError as e:\n",
    "    print(f\"Zaehler oder Nenner nicht vom Datentyp `int`\")\n",
    "except ZeroDivisionError as e:\n",
    "    print(\"Teilung durch 0\")\n",
    "finally:\n",
    "    print(f\"Das Ergebnis von {zaehler}/{nenner} = {ergebnis}\")"
   ]
  },
  {
   "cell_type": "markdown",
   "metadata": {
    "slideshow": {
     "slide_type": "skip"
    }
   },
   "source": [
    "## Exceptions selbst erzeugen"
   ]
  },
  {
   "cell_type": "markdown",
   "metadata": {
    "slideshow": {
     "slide_type": "skip"
    }
   },
   "source": [
    "Exceptions können auch selbst mit `raise` erzeugt werden. Das ist sinnvoll, wenn in dem eigenen Code Fehler auftreten können, die woanders behandelt werden müssen. Hierbei muss ein Fehlertyp angegeben werden. Entweder man nutzt den allgemeinsten Fehlertyp `Exception`, einen passenden Standardfehler von Python oder einen selbst definierten. Es ist ratsam meist spezifische Fehlertypen zu nutzen, da der Typ des Fehlers viel beim Behandeln und Debuggen hilft. \n",
    "\n",
    "Definieren wir als Beispiel unsere eigene Divisionsfunktion mit klarer Fehlerbenenung ob Zähler oder Nenner vom falschen Typ sind. Hier wollen wir, dass anstatt des `TypeError` ein `ValueError` erzeugt wird. Bei einer Division durch 0 soll anstatt eines Fehlers der Wert `None` zurückgegeben werden."
   ]
  },
  {
   "cell_type": "code",
   "execution_count": null,
   "metadata": {
    "slideshow": {
     "slide_type": "skip"
    }
   },
   "outputs": [],
   "source": [
    "def division(zaehler, nenner):\n",
    "    if not isinstance(nenner, (int, float)):\n",
    "        raise ValueError(f\"Nenner nicht vom Datentyp `int` oder `float`\")\n",
    "    elif not isinstance(zaehler, (int, float)):\n",
    "        raise ValueError(f\"Zaehler nicht vom Datentyp `int` oder `float`\")\n",
    "    elif nenner == 0:\n",
    "        print(\"Warnung Division durch 0\")\n",
    "        return None\n",
    "    else:\n",
    "        ergebnis = zaehler / nenner\n",
    "        print(f\"Das Ergebnis von {zaehler}/{nenner} = {ergebnis}\")\n",
    "        return ergebnis"
   ]
  },
  {
   "cell_type": "code",
   "execution_count": null,
   "metadata": {
    "slideshow": {
     "slide_type": "skip"
    },
    "tags": [
     "raises-exception"
    ]
   },
   "outputs": [],
   "source": [
    "zaehler = 'keine_zahl'\n",
    "nenner = 0\n",
    "\n",
    "ergebnis = division(zaehler, nenner)"
   ]
  },
  {
   "cell_type": "code",
   "execution_count": null,
   "metadata": {
    "slideshow": {
     "slide_type": "skip"
    }
   },
   "outputs": [],
   "source": [
    "zaehler= 10\n",
    "nenner = 2"
   ]
  },
  {
   "cell_type": "code",
   "execution_count": null,
   "metadata": {
    "slideshow": {
     "slide_type": "skip"
    }
   },
   "outputs": [],
   "source": [
    "zaehler = 10\n",
    "nenner = 1\n",
    "\n",
    "ergebnis = division(zaehler, nenner)"
   ]
  },
  {
   "cell_type": "markdown",
   "metadata": {
    "slideshow": {
     "slide_type": "skip"
    }
   },
   "source": [
    "### Fehlerbehandlung bei Funktionen im Stack"
   ]
  },
  {
   "cell_type": "markdown",
   "metadata": {
    "slideshow": {
     "slide_type": "skip"
    }
   },
   "source": [
    "Exceptions werden im Stack (Aufrufreihenfolge der Funktionen) nach oben weitergegeben, bis sie entweder abgefangen und behandelt werden oder das Programm abstürzt, wenn das Ende des Stacks erreicht wird. Ziel des Abfangens und Behandelns von Exceptions ist es das Programm zurück in einen Zustand zu bringen in dem es weiterlaufen kann.\n",
    "\n",
    "Als Beispiel wollen wir eine rekursive Funktion definieren, welche uns einen Fehler ausgibt, wenn die Rekurssionstiefe zu groß wird um einen Stack-Overflow-Fehler zu vermeiden. Wir nutzen als Beispiel die Fakultät aus dem [Rekursionbeispiel](5b_Rekursion.html)."
   ]
  },
  {
   "cell_type": "code",
   "execution_count": null,
   "metadata": {
    "slideshow": {
     "slide_type": "skip"
    }
   },
   "outputs": [],
   "source": [
    "def factorial_recursiv(x, depth=1):\n",
    "    if depth > 20:\n",
    "        raise RecursionError(\"Recursion zu tief\")\n",
    "    if x > 1:\n",
    "        return x * factorial_recursiv(x-1, depth+1)\n",
    "    else:\n",
    "        return 1"
   ]
  },
  {
   "cell_type": "code",
   "execution_count": null,
   "metadata": {
    "slideshow": {
     "slide_type": "skip"
    }
   },
   "outputs": [],
   "source": [
    "factorial_recursiv(20)"
   ]
  },
  {
   "cell_type": "code",
   "execution_count": null,
   "metadata": {
    "slideshow": {
     "slide_type": "skip"
    },
    "tags": [
     "raises-exception"
    ]
   },
   "outputs": [],
   "source": [
    "factorial_recursiv(21)"
   ]
  },
  {
   "cell_type": "markdown",
   "metadata": {
    "slideshow": {
     "slide_type": "skip"
    }
   },
   "source": [
    "In der obigen Fehlermeldung bringt das Programm selbst zum erliegen (es stürtzt allerdings nicht der ganze Kernel ab, wie beim Stack-Overflow-Fehler). Um das zu vermeiden müssen wir den Fehler mit `try-except` abfangen. In der Fehlermeldung oben deutet sich schon der Stack-Trace an, also die Liste der Funktionsaufrufe die auf dem Stack gesammelt wurde. "
   ]
  },
  {
   "cell_type": "code",
   "execution_count": null,
   "metadata": {
    "slideshow": {
     "slide_type": "skip"
    }
   },
   "outputs": [],
   "source": [
    "import traceback\n",
    "try:\n",
    "    factorial_recursiv(21)\n",
    "except RecursionError as e:\n",
    "    print(e)\n",
    "    traceback.print_exc()"
   ]
  },
  {
   "cell_type": "markdown",
   "metadata": {
    "slideshow": {
     "slide_type": "skip"
    }
   },
   "source": [
    "## Quiz\n",
    "\n",
    "\n",
    "```{quizdown}\n",
    "    ---\n",
    "    shuffleQuestions: true\n",
    "    shuffleAnswers: true\n",
    "    ---\n",
    "\n",
    "    ### Was ist eine Exception in Python?\n",
    "    - [x] Eine Ausnahme, die den normalen Ablauf des Programms unterbricht\n",
    "    - [ ] Ein Spezialfall bei Loops\n",
    "    - [ ] Eine Warnung, die ignoriert werden kann\n",
    "    - [ ] Eine globale Variable\n",
    "\n",
    "    ### Warum verwendet man `try-except`-Blöcke?\n",
    "    - [x] Um kontrolliert auf Fehler zu reagieren\n",
    "    - [x] Um das Programm vor Abstürzen zu bewahren\n",
    "    - [ ] Um Variablen zu initialisieren\n",
    "    - [ ] Um Funktionen automatisch zu wiederholen\n",
    "\n",
    "    ### Was passiert, wenn eine Exception im `try`-Block auftritt?\n",
    "    - [x] Der Code im `except`-Block wird ausgeführt\n",
    "    - [ ] Der `try`-Block wird ignoriert\n",
    "    - [ ] Das Programm wird automatisch beendet\n",
    "    - [ ] Der Fehler wird immer ignoriert\n",
    "\n",
    "    ### Sortiere die folgenden Zeilen, um einen vollständigen `try-except`-Block korrekt aufzubauen:\n",
    "    ```python\n",
    "    # Annahme: Fehlerhafte Division\n",
    "    ```\n",
    "    1. `try:`\n",
    "    2. `  ergebnis = 10 / 0`\n",
    "    3. `  print(\"Ergebnis:\", ergebnis)`\n",
    "    4. `except:`\n",
    "    5. `  print(\"Fehler bei der Division\")`\n",
    "\n",
    "    ### Welcher Fehler steckt in diesem Beispiel?\n",
    "    ```python\n",
    "    x = 10\n",
    "    y = 0\n",
    "    z = x / y\n",
    "    print(\"Ergebnis:\", z)\n",
    "    ```\n",
    "    - [x] Division durch null führt zu einer `ZeroDivisionError`-Exception\n",
    "    - [ ] `print` darf nicht in try-Blöcken verwendet werden\n",
    "    - [ ] `x` darf nicht 10 sein\n",
    "    - [ ] `y` muss als String deklariert werden\n",
    "\n",
    "    ### Was ist der Vorteil, wenn man `Exception as e` verwendet?\n",
    "    - [x] Man kann Typ und Fehlermeldung der Exception gezielt ausgeben\n",
    "    - [ ] Dadurch wird die Exception automatisch gelöst\n",
    "    - [ ] Der Code wird kürzer\n",
    "    - [ ] `as` ist Pflicht in jeder Fehlerbehandlung\n",
    "\n",
    "    ### Warum sollte man bekannte Exception-Typen (wie `TypeError`) explizit abfangen?\n",
    "    - [x] Um unterschiedliche Fehler gezielt zu behandeln\n",
    "    - [ ] Weil Python sonst nicht funktioniert\n",
    "    - [ ] Damit die Ausgabe schöner wird\n",
    "    - [ ] Das ist nur bei `int`-Werten nötig\n",
    "\n",
    "    ### Sortiere die folgenden Zeilen, um eine typisierte Fehlerbehandlung für Divisionen korrekt aufzubauen:\n",
    "    ```python\n",
    "    # Beispiel mit Division durch 0 und falschem Typ\n",
    "    ```\n",
    "    1. `try:`\n",
    "    2. `  ergebnis = \"zehn\" / 0`\n",
    "    3. `except TypeError:`\n",
    "    4. `  print(\"Falscher Datentyp\")`\n",
    "    5. `except ZeroDivisionError:`\n",
    "    6. `  print(\"Division durch 0\")`\n",
    "\n",
    "    ### Wann wird der `else`-Block bei `try-except-else` ausgeführt?\n",
    "    - [x] Nur wenn im `try`-Block **keine** Exception auftritt\n",
    "    - [ ] Wenn irgendein Fehler auftritt\n",
    "    - [ ] Immer nach dem `except`\n",
    "    - [ ] Wenn `print()` im `try` verwendet wird\n",
    "\n",
    "    ### Was bewirkt ein `finally`-Block in Python?\n",
    "    - [x] Der Code im `finally` wird **immer** ausgeführt – egal ob Fehler oder nicht\n",
    "    - [ ] Der Code wird übersprungen bei Fehlern\n",
    "    - [ ] Nur verwendet bei Netzwerken\n",
    "    - [ ] Dient zur Initialisierung von Variablen\n",
    "\n",
    "    ### Wann sollte man eigene Exceptions mit `raise` erzeugen?\n",
    "    - [x] Wenn man Fehler gezielt kennzeichnen und weiterreichen will\n",
    "    - [ ] Wenn man eine Schleife abbrechen will\n",
    "    - [ ] Nur bei Syntaxfehlern\n",
    "    - [ ] Nur für Debugging-Zwecke\n",
    "\n",
    "    ### Warum ist es sinnvoll, spezifische Fehlertypen wie `ValueError` zu verwenden?\n",
    "    - [x] Damit Fehler gezielter behandelt und unterschieden werden können\n",
    "    - [ ] Damit `try`-Blöcke kürzer werden\n",
    "    - [ ] Damit das Programm schneller läuft\n",
    "    - [ ] Weil `Exception` in Python nicht erlaubt ist\n",
    "\n",
    "    ### Welcher Fehler steckt in diesem Beispiel?\n",
    "    ```python\n",
    "    if not isinstance(x, int):\n",
    "        raise \"Fehler\"\n",
    "    ```\n",
    "    - [x] `raise` erwartet ein Exception-Objekt, kein String\n",
    "    - [ ] `raise` ist kein gültiges Python-Schlüsselwort\n",
    "    - [ ] Strings dürfen nicht mit `if` verglichen werden\n",
    "    - [ ] `int` ist kein gültiger Typ\n",
    "\n",
    "    ### Sortiere die folgenden Zeilen, um eine sichere Divisionsfunktion mit Fehlern zu definieren:\n",
    "    ```python\n",
    "    # Annahme: Division mit Typprüfung und Division durch 0\n",
    "    ```\n",
    "    1. `def division(zaehler, nenner):`\n",
    "    2. `  if not isinstance(zaehler, (int, float)):`\n",
    "    3. `    raise ValueError(\"Zaehler ist ungültig\")`\n",
    "    4. `  if nenner == 0:`\n",
    "    5. `    return None`\n",
    "    6. `  return zaehler / nenner`\n",
    "\n",
    "    ### Wie verhalten sich Exceptions in einem Funktionsaufruf-Stack?\n",
    "    - [x] Sie steigen nach oben, bis sie behandelt oder zum Absturz führen\n",
    "    - [ ] Sie verschwinden nach dem ersten Funktionsaufruf\n",
    "    - [ ] Sie führen nur in der aktuellen Funktion zum Fehler\n",
    "    - [ ] Sie werden automatisch ignoriert\n",
    "\n",
    "    ### Was bewirkt folgende Zeile in einer rekursiven Funktion?\n",
    "    ```python\n",
    "    raise RecursionError(\"Recursion zu tief\")\n",
    "    ```\n",
    "    - [x] Sie erzeugt gezielt einen Fehler, wenn die Rekursion zu tief wird\n",
    "    - [ ] Sie verhindert eine Exception\n",
    "    - [ ] Sie beendet die Rekursion erfolgreich\n",
    "    - [ ] Sie wandelt den Rückgabewert in eine Exception um\n",
    "\n",
    "    ### Was ist der Stack?\n",
    "    - [x] Eine Datenstruktur, die Funktionsaufrufe speichert\n",
    "    - [ ] Eine Liste aller Variablen im Programm\n",
    "    - [ ] Ein spezieller Datentyp für Schleifen\n",
    "    - [ ] Eine Art von Exception\n",
    "\n",
    "    ### Was ist der Heap?\n",
    "    - [x] Ein Speicherbereich für dynamisch erzeugte Objekte\n",
    "    - [ ] Eine spezielle Art von Schleife\n",
    "    - [ ] Ein Datentyp für Zahlen\n",
    "    - [ ] Ein Bereich für globale Variablen\n",
    "\n",
    "    ### Was ist der Unterschied zwischen Stack und Heap?\n",
    "    - [x] Stack speichert Funktionsaufrufe, Heap dynamisch erzeugte Objekte\n",
    "    - [ ] Stack ist schneller, Heap langsamer\n",
    "    - [ ] Stack ist für Schleifen, Heap für Bedingungen\n",
    "    - [ ] Stack ist für globale Variablen, Heap für lokale\n",
    "    \n",
    "```"
   ]
  },
  {
   "cell_type": "markdown",
   "metadata": {
    "slideshow": {
     "slide_type": "slide"
    },
    "tags": [
     "remove-cell"
    ]
   },
   "source": [
    "<div class=\"vslide\">\n",
    "  <div class=\"vslide-title\">\n",
    "    <p style=\"font-family: Protomolecule; font-size: 2.3em; margin: 0px auto; text-align: center; width: 100%;\">fragen?</p>\n",
    "  </div>\n",
    "  <script>setSectionBackground('#000000', 'images/mj_questions.mp4');</script>\n",
    "</div>"
   ]
  }
 ],
 "metadata": {
  "kernelspec": {
   "display_name": "Python 3 (ipykernel)",
   "language": "python",
   "name": "python3"
  },
  "language_info": {
   "codemirror_mode": {
    "name": "ipython",
    "version": 3
   },
   "file_extension": ".py",
   "mimetype": "text/x-python",
   "name": "python",
   "nbconvert_exporter": "python",
   "pygments_lexer": "ipython3",
   "version": "3.12.10"
  },
  "rise": {
   "auto_select": "none",
   "center": false,
   "enable_chalkboard": true,
   "header": "<img src=\"images/pd_logo.svg\" class=\"header_title_logo\"><img src=\"images/ai4sc_logo_v2.svg\" class=\"header_ai4sc_logo\">",
   "scroll": true,
   "show_buttons_on_startup": false,
   "slideNumber": true,
   "theme": "white"
  },
  "vscode": {
   "interpreter": {
    "hash": "6d5b4c1aed727cf1aeefa5ce625efdd40a732dd8ec11ef525b58c5aca2b06a32"
   }
  }
 },
 "nbformat": 4,
 "nbformat_minor": 4
}
