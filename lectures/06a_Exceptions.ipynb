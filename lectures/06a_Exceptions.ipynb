{
 "cells": [
  {
   "cell_type": "markdown",
   "metadata": {
    "editable": true,
    "slideshow": {
     "slide_type": "slide"
    },
    "tags": [
     "remove-cell"
    ]
   },
   "source": [
    "<div class=\"vslide\">\n",
    "  <div class=\"vslide-title\">\n",
    "    <p style=\"font-family: Protomolecule; font-size: 2.3em; line-height: 90%; margin: 0px auto; text-align: center; width: 100%;\"><span style=\"letter-spacing: .04rem;\">programmierung</span><br><span style=\"letter-spacing: .0rem;\">und datenbanken</span></p>\n",
    "<p class=\"author\" style=\"font-family: Protomolecule; margin: 0px auto;  text-align: center; width: 100%; font-size: 1.2em;\">Joern Ploennigs</p>\n",
    "<p class=\"subtitle\" style=\"font-family: Protomolecule; margin: 1em auto; text-align: center; width: 100%; font-size: 1.2em;\">Exceptions</p>\n",
    "<figcaption>Midjourney: Exception in Time, ref. Salvador Dalí</figcaption>\n",
    "  </div>\n",
    "<script>\n",
    "  function setSectionBackground(c,v){\n",
    "    let e=document.currentScript.previousElementSibling;\n",
    "    while(e&&e.tagName!=='SECTION')e=e.parentElement;\n",
    "    if(e){\n",
    "      if(c)e.setAttribute('data-background-color',c);\n",
    "      if(v){\n",
    "        e.setAttribute('data-background-video',v);\n",
    "        e.setAttribute('data-background-video-loop','true');\n",
    "        e.setAttribute('data-background-video-muted','true');\n",
    "      }\n",
    "    }\n",
    "  }\n",
    "  setSectionBackground('#000000', 'images/06a_Exceptions/mj_title.mp4');\n",
    "</script>\n",
    "<style>\n",
    ".flex-row{display:flex; gap:2rem; align-items:flex-start; justify-content:space-between;}\n",
    ".flex-row .col1{flex:1; min-width:10px}\n",
    ".flex-row .col2{flex:2; min-width:10px}\n",
    ".flex-row .col3{flex:3; min-width:10px}\n",
    ".flex-row .col4{flex:4; min-width:10px}\n",
    ".flex-row .col5{flex:5; min-width:10px}\n",
    ".flex-row .col6{flex:6; min-width:10px}\n",
    ".flex-row .col7{flex:7; min-width:10px}\n",
    ".vcent{display:flex; align-items:center; justify-content:center}\n",
    "</style>\n",
    "</div>"
   ]
  },
  {
   "cell_type": "markdown",
   "metadata": {
    "editable": true,
    "slideshow": {
     "slide_type": "skip"
    },
    "tags": []
   },
   "source": [
    "# Exceptions"
   ]
  },
  {
   "cell_type": "markdown",
   "metadata": {
    "slideshow": {
     "slide_type": "skip"
    }
   },
   "source": [
    "<figure class=\"mj-tile-band\">\n",
    "    <img src='images/06a_Exceptions/mj_title_band.jpg'>\n",
    "    <figcaption>Midjourney: Exception in Time, ref. Salvador Dalí</figcaption>\n",
    "</figure>\n",
    "\n",
    "> Anything that can go wrong, will go wrong.\n",
    ">\n",
    "> — Murphy’s Law #1"
   ]
  },
  {
   "cell_type": "markdown",
   "metadata": {
    "slideshow": {
     "slide_type": "skip"
    }
   },
   "source": [
    "## <a href=\"/lec_slides/06a_Exceptions.slides.html\">Folien</a>/<a href=\"/pdf/slides/06a_Exceptions.pdf\">PDF</a>\n",
    "<iframe src=\"/lec_slides/06a_Exceptions.slides.html\" width=\"750\" height=\"500\"></iframe>"
   ]
  },
  {
   "cell_type": "markdown",
   "metadata": {
    "slideshow": {
     "slide_type": "slide"
    },
    "tags": [
     "remove-cell"
    ]
   },
   "source": [
    "## Ablauf\n",
    "\n",
    "![](images/partA_7.svg)"
   ]
  },
  {
   "cell_type": "markdown",
   "metadata": {
    "slideshow": {
     "slide_type": "skip"
    }
   },
   "source": [
    "## Fehler mit Exceptions behandeln"
   ]
  },
  {
   "cell_type": "markdown",
   "metadata": {
    "slideshow": {
     "slide_type": "skip"
    }
   },
   "source": [
    "Exceptions unterbrechen den normalen Verlauf eines Programmes in einem Fehlerfall. Sie dienen dazu den Fehler im Programm zu kommunizieren (sie haben meist eine Fehlermeldung) und werden genutzt, um im Fehlerfall unkontrolliertes Abstürzen des Programmes zu verhindern.\n",
    "\n",
    "Bekannte Exceptions sollten immer abgefangen. In Python werden sie durch den `try-except`-Block abgefangen. Dieser startet mit einem `try` und endet mit einem `except`. Nach dem `try` folgt der Block mit der bekannten (oder unbekannten) Exception. Nach dem `except` folgt der Block zur Fehlerbehandlung.\n",
    "\n",
    "Es ist zu beachten, dass bei Exceptions keine Wertzuweisung stattfindet (der Wert ist ja nicht bekannt). Betrachten wir mal wieder, die aus der [Verzweigung bekannte Division durch 0](4a_Verzweigung.html#elif_-_Für_noch_mehr_Alternativen) mit ihren verschiedenen Fehlerfällen der Null-Division und falscher Datentypen der Eingaben. Ohne diese Fehlerfälle genau zu spezifizieren können wir schreiben."
   ]
  },
  {
   "cell_type": "code",
   "execution_count": null,
   "metadata": {
    "slideshow": {
     "slide_type": "skip"
    }
   },
   "outputs": [],
   "source": [
    "zaehler = 10\n",
    "nenner = 0\n",
    "ergebnis = None\n",
    "try:\n",
    "    # Block mit bekannter Exception\n",
    "    ergebnis = zaehler / nenner\n",
    "    # Dieser Teil wird nur ausgeführt wenn keine Exception auftrat\n",
    "    print(\"Die Division war erfolgreich\")\n",
    "except:\n",
    "    # Fehlerbehandlung\n",
    "    print(\"Divisionsfehler\")\n",
    "\n",
    "print(f\"Das Ergebnis von {zaehler}/{nenner} = {ergebnis}\")"
   ]
  },
  {
   "cell_type": "markdown",
   "metadata": {
    "slideshow": {
     "slide_type": "skip"
    }
   },
   "source": [
    "Das `except` is in dem obigen Fall untypisiert. Damit lassen sich alle Fehler, die auftreten können abfangen (auch unbekannte). Damit fängt der `try-except`-Block auch Fehler eines falschen Datentyps ab."
   ]
  },
  {
   "cell_type": "code",
   "execution_count": null,
   "metadata": {
    "slideshow": {
     "slide_type": "skip"
    }
   },
   "outputs": [],
   "source": [
    "zaehler = 'keine_zahl'\n",
    "nenner = 2\n",
    "ergebnis = None\n",
    "try:\n",
    "    ergebnis = zaehler / nenner\n",
    "except:\n",
    "    print(\"Divisionsfehler\")\n",
    "\n",
    "print(f\"Das Ergebnis von {zaehler}/{nenner} = {ergebnis}\")"
   ]
  },
  {
   "cell_type": "markdown",
   "metadata": {
    "slideshow": {
     "slide_type": "skip"
    }
   },
   "source": [
    "Das Problem hierbei ist, dass wir keine Information über die Exception erhalten. Deshalb ist es immer sinnvoll die genaue Exception abzufangen und die Fehlermeldung auszugeben. Der allgemeinste Fehlertyp in Python ist die `Exception` welche wir wie folgt als Variable `e` abfangen."
   ]
  },
  {
   "cell_type": "code",
   "execution_count": null,
   "metadata": {
    "slideshow": {
     "slide_type": "skip"
    }
   },
   "outputs": [],
   "source": [
    "zaehler = 'keine_zahl'\n",
    "nenner = 0\n",
    "ergebnis = None\n",
    "try:\n",
    "    ergebnis = zaehler / nenner\n",
    "except Exception as e:\n",
    "    print(f\"Divisionsfehler mit Fehler vom typ `{type(e)}` und Meldung `{e}`\")\n",
    "\n",
    "print(f\"Das Ergebnis von {zaehler}/{nenner} = {ergebnis}\")"
   ]
  },
  {
   "cell_type": "markdown",
   "metadata": {
    "slideshow": {
     "slide_type": "skip"
    }
   },
   "source": [
    "Sind die Exceptions bekannt sollten sie auch typisiert behandelt werden, um spezifische Meldungen auszugeben."
   ]
  },
  {
   "cell_type": "code",
   "execution_count": null,
   "metadata": {
    "slideshow": {
     "slide_type": "skip"
    }
   },
   "outputs": [],
   "source": [
    "zaehler = 'keine_zahl'\n",
    "nenner = 0\n",
    "ergebnis = None\n",
    "try:\n",
    "    ergebnis = zaehler / nenner\n",
    "except TypeError as e:\n",
    "    print(f\"Zaehler oder Nenner nicht vom Datentyp `int`\")\n",
    "except ZeroDivisionError as e:\n",
    "    print(\"Teilung durch 0\")\n",
    "\n",
    "print(f\"Das Ergebnis von {zaehler}/{nenner} = {ergebnis}\")"
   ]
  },
  {
   "cell_type": "markdown",
   "metadata": {
    "editable": true,
    "slideshow": {
     "slide_type": "skip"
    },
    "tags": []
   },
   "source": [
    "Der `try-except`-Block unterstütz auch die `else`-Anweisung, welche immer ausgeführt wird, wenn *keine* Exception auftritt. Ferner gibt es die `finally`-Anweisung, welche *immer* ausgeführt wird also im fehlerfreien Fall und im Fehlerfall.\n",
    "\n",
    "Soll zum Beispiel eine Ausgabe nur gemacht werden, wenn der `try`-Block erfolgreich war, nutzen wir `else`."
   ]
  },
  {
   "cell_type": "code",
   "execution_count": null,
   "metadata": {
    "slideshow": {
     "slide_type": "skip"
    }
   },
   "outputs": [],
   "source": [
    "zaehler = 2\n",
    "nenner = 1\n",
    "ergebnis = None\n",
    "try:\n",
    "    ergebnis = zaehler / nenner\n",
    "except TypeError as e:\n",
    "    print(f\"Zaehler oder Nenner nicht vom Datentyp `int`\")\n",
    "except ZeroDivisionError as e:\n",
    "    print(\"Teilung durch 0\")\n",
    "else:\n",
    "    print(f\"Die Division war erfolgreich und resultiert in {zaehler}/{nenner} = {ergebnis}\")"
   ]
  },
  {
   "cell_type": "markdown",
   "metadata": {
    "slideshow": {
     "slide_type": "skip"
    }
   },
   "source": [
    "Soll immer eine Ausgabe erfolgen können wir `finally` verwenden. Dies wird häufig verwendet, um Schritte durchzuführen die auch im Fehlerfall gemacht werden sollen, z.B. um Verbindungen zu Dateien oder zu einer Datenbank zu schließen, damit diese nicht unendlich lange offen bleiben (und irgendwann zu Fehlern führen)."
   ]
  },
  {
   "cell_type": "code",
   "execution_count": null,
   "metadata": {
    "slideshow": {
     "slide_type": "skip"
    }
   },
   "outputs": [],
   "source": [
    "zaehler = 'keine_zahl'\n",
    "nenner = 0\n",
    "ergebnis = None\n",
    "try:\n",
    "    ergebnis = zaehler / nenner\n",
    "except TypeError as e:\n",
    "    print(f\"Zaehler oder Nenner nicht vom Datentyp `int`\")\n",
    "except ZeroDivisionError as e:\n",
    "    print(\"Teilung durch 0\")\n",
    "finally:\n",
    "    print(f\"Das Ergebnis von {zaehler}/{nenner} = {ergebnis}\")"
   ]
  },
  {
   "cell_type": "markdown",
   "metadata": {
    "slideshow": {
     "slide_type": "skip"
    }
   },
   "source": [
    "## Exceptions selbst erzeugen"
   ]
  },
  {
   "cell_type": "markdown",
   "metadata": {
    "slideshow": {
     "slide_type": "skip"
    }
   },
   "source": [
    "Exceptions können auch selbst mit `raise` erzeugt werden. Das ist sinnvoll, wenn in dem eigenen Code Fehler auftreten können, die woanders behandelt werden müssen. Hierbei muss ein Fehlertyp angegeben werden. Entweder man nutzt den allgemeinsten Fehlertyp `Exception`, einen passenden Standardfehler von Python oder einen selbst definierten. Es ist ratsam meist spezifische Fehlertypen zu nutzen, da der Typ des Fehlers viel beim Behandeln und Debuggen hilft. \n",
    "\n",
    "Definieren wir als Beispiel unsere eigene Divisionsfunktion mit klarer Fehlerbenenung ob Zähler oder Nenner vom falschen Typ sind. Hier wollen wir, dass anstatt des `TypeError` ein `ValueError` erzeugt wird. Bei einer Division durch 0 soll anstatt eines Fehlers der Wert `None` zurückgegeben werden."
   ]
  },
  {
   "cell_type": "code",
   "execution_count": null,
   "metadata": {
    "slideshow": {
     "slide_type": "skip"
    }
   },
   "outputs": [],
   "source": [
    "def division(zaehler, nenner):\n",
    "    if not isinstance(nenner, (int, float)):\n",
    "        raise ValueError(f\"Nenner nicht vom Datentyp `int` oder `float`\")\n",
    "    elif not isinstance(zaehler, (int, float)):\n",
    "        raise ValueError(f\"Zaehler nicht vom Datentyp `int` oder `float`\")\n",
    "    elif nenner == 0:\n",
    "        print(\"Warnung Division durch 0\")\n",
    "        return None\n",
    "    else:\n",
    "        ergebnis = zaehler / nenner\n",
    "        print(f\"Das Ergebnis von {zaehler}/{nenner} = {ergebnis}\")\n",
    "        return ergebnis"
   ]
  },
  {
   "cell_type": "code",
   "execution_count": null,
   "metadata": {
    "slideshow": {
     "slide_type": "skip"
    },
    "tags": [
     "raises-exception"
    ]
   },
   "outputs": [],
   "source": [
    "zaehler = 'keine_zahl'\n",
    "nenner = 0\n",
    "\n",
    "ergebnis = division(zaehler, nenner)"
   ]
  },
  {
   "cell_type": "code",
   "execution_count": null,
   "metadata": {
    "slideshow": {
     "slide_type": "skip"
    }
   },
   "outputs": [],
   "source": [
    "zaehler= 10\n",
    "nenner = 2"
   ]
  },
  {
   "cell_type": "code",
   "execution_count": null,
   "metadata": {
    "slideshow": {
     "slide_type": "skip"
    }
   },
   "outputs": [],
   "source": [
    "zaehler = 10\n",
    "nenner = 1\n",
    "\n",
    "ergebnis = division(zaehler, nenner)"
   ]
  },
  {
   "cell_type": "markdown",
   "metadata": {
    "slideshow": {
     "slide_type": "skip"
    }
   },
   "source": [
    "### Fehlerbehandlung bei Funktionen im Stack"
   ]
  },
  {
   "cell_type": "markdown",
   "metadata": {
    "slideshow": {
     "slide_type": "skip"
    }
   },
   "source": [
    "Exceptions werden im Stack (Aufrufreihenfolge der Funktionen) nach oben weitergegeben, bis sie entweder abgefangen und behandelt werden oder das Programm abstürzt, wenn das Ende des Stacks erreicht wird. Ziel des Abfangens und Behandelns von Exceptions ist es das Programm zurück in einen Zustand zu bringen in dem es weiterlaufen kann.\n",
    "\n",
    "Als Beispiel wollen wir eine rekursive Funktion definieren, welche uns einen Fehler ausgibt, wenn die Rekurssionstiefe zu groß wird um einen Stack-Overflow-Fehler zu vermeiden. Wir nutzen als Beispiel die Fakultät aus dem [Rekursionbeispiel](5b_Rekursion.html)."
   ]
  },
  {
   "cell_type": "code",
   "execution_count": null,
   "metadata": {
    "slideshow": {
     "slide_type": "skip"
    }
   },
   "outputs": [],
   "source": [
    "def factorial_recursiv(x, depth=1):\n",
    "    if depth > 20:\n",
    "        raise RecursionError(\"Recursion zu tief\")\n",
    "    if x > 1:\n",
    "        return x * factorial_recursiv(x-1, depth+1)\n",
    "    else:\n",
    "        return 1"
   ]
  },
  {
   "cell_type": "code",
   "execution_count": null,
   "metadata": {
    "slideshow": {
     "slide_type": "skip"
    }
   },
   "outputs": [],
   "source": [
    "factorial_recursiv(20)"
   ]
  },
  {
   "cell_type": "code",
   "execution_count": null,
   "metadata": {
    "slideshow": {
     "slide_type": "skip"
    },
    "tags": [
     "raises-exception"
    ]
   },
   "outputs": [],
   "source": [
    "factorial_recursiv(21)"
   ]
  },
  {
   "cell_type": "markdown",
   "metadata": {
    "editable": true,
    "slideshow": {
     "slide_type": "skip"
    },
    "tags": []
   },
   "source": [
    "In der obigen Fehlermeldung bringt das Programm selbst zum erliegen (es stürtzt allerdings nicht der ganze Kernel ab, wie beim Stack-Overflow-Fehler). Um das zu vermeiden müssen wir den Fehler mit `try-except` abfangen. In der Fehlermeldung oben deutet sich schon der Stack-Trace an, also die Liste der Funktionsaufrufe die auf dem Stack gesammelt wurde. "
   ]
  },
  {
   "cell_type": "code",
   "execution_count": null,
   "metadata": {
    "editable": true,
    "slideshow": {
     "slide_type": "skip"
    },
    "tags": []
   },
   "outputs": [],
   "source": [
    "import traceback\n",
    "try:\n",
    "    factorial_recursiv(21)\n",
    "except RecursionError as e:\n",
    "    print(e)\n",
    "    traceback.print_exc()"
   ]
  },
  {
   "cell_type": "markdown",
   "metadata": {
    "editable": true,
    "slideshow": {
     "slide_type": "skip"
    },
    "tags": []
   },
   "source": [
    "## Debugging mit `print()`"
   ]
  },
  {
   "cell_type": "markdown",
   "metadata": {
    "slideshow": {
     "slide_type": "skip"
    }
   },
   "source": [
    "Logische Fehler treten häufig erst dynamisch auf und lassen sich nicht durch statische Code-Analyse durch Lint-Tools finden. Hier muss man dann den aktuellen Programmfluss nachvollziehen. Dies nennt man Debugging. Die einfachste Form ist das `print`-Debugging bei der man den Code mit `print()`-Befehlen zuspammt.\n",
    "\n",
    "Wir erweitern mal unsere Divisionsfunktion mit schönen vielen `print()`-Statements. Üblich ist es zum Beispiel, die Eingangsparameter auszugeben, Fehler und Warnungen auszugeben, als auch dann Ergebnisse zu loggen."
   ]
  },
  {
   "cell_type": "code",
   "execution_count": null,
   "metadata": {
    "slideshow": {
     "slide_type": "skip"
    }
   },
   "outputs": [],
   "source": [
    "def division(zaehler, nenner):\n",
    "    print(f\"Debug: Eingabe Zaehler: {zaehler}\")\n",
    "    print(f\"Debug: Eingabe Nenner: {nenner}\")\n",
    "    if not isinstance(nenner, (int, float)):\n",
    "        print(f\"Error: Nenner nicht vom Datentyp `int` oder `float`, sondern vom Typ {type(nenner)}\")\n",
    "        raise ValueError(f\"Nenner nicht vom Datentyp `int` oder `float`, sondern vom Typ {type(nenner)}\")\n",
    "    elif not isinstance(zaehler, (int, float)):\n",
    "        print(f\"Error: Zaehler nicht vom Datentyp `int` oder `float`, sondern vom Typ {type(zaehler)}\")\n",
    "        raise ValueError(f\"Zaehler nicht vom Datentyp `int` oder `float`, sondern vom Typ {type(zaehler)}\")\n",
    "    elif not nenner:\n",
    "        print(\"Warning: Division durch 0\")\n",
    "        return None\n",
    "    else:\n",
    "        ergebnis = zaehler / nenner\n",
    "        print(f\"Info: Das Ergebnis von {zaehler}/{nenner} = {ergebnis}\")\n",
    "        return ergebnis"
   ]
  },
  {
   "cell_type": "markdown",
   "metadata": {
    "slideshow": {
     "slide_type": "skip"
    }
   },
   "source": [
    "Jetzt können wir insbesondere im Fehlerfall sehr gut nachvollziehen was genau geschehen ist. Zum Beispiel bei der Division durch 0."
   ]
  },
  {
   "cell_type": "code",
   "execution_count": null,
   "metadata": {
    "slideshow": {
     "slide_type": "skip"
    }
   },
   "outputs": [],
   "source": [
    "division(10, 0)"
   ]
  },
  {
   "cell_type": "markdown",
   "metadata": {
    "slideshow": {
     "slide_type": "skip"
    }
   },
   "source": [
    "Allerdings haben wir auch im korrekten Fall sehr viele Ausgaben. Das kann sehr störend sein, weil man dann richtige Fehler sehr schnell übersieht. Zum Beispiel erzeugen wir zehn Divisionen, von der eine eine Division durch 0 war."
   ]
  },
  {
   "cell_type": "code",
   "execution_count": null,
   "metadata": {
    "slideshow": {
     "slide_type": "skip"
    }
   },
   "outputs": [],
   "source": [
    "for nenner in range(-2, 8):\n",
    "    division(10, nenner)"
   ]
  },
  {
   "cell_type": "markdown",
   "metadata": {
    "slideshow": {
     "slide_type": "skip"
    }
   },
   "source": [
    "## Debugging mit `logging`"
   ]
  },
  {
   "cell_type": "markdown",
   "metadata": {
    "slideshow": {
     "slide_type": "skip"
    }
   },
   "source": [
    "Deshalb verwendet man bei komplexeren Programmen meist ein `logging`-Paket. Diese erlauben es `print`-Statements Kategorien zuzuordnen und anhand dieser zu filtern. In der Python-Bibliothek `logging` sind die Kategorien: `debug`, `info`, `warning`, `error` und `critical`."
   ]
  },
  {
   "cell_type": "code",
   "execution_count": null,
   "metadata": {
    "slideshow": {
     "slide_type": "skip"
    }
   },
   "outputs": [],
   "source": [
    "import logging\n",
    "\n",
    "log=logging.getLogger(\"meinlog\")\n",
    "\n",
    "def division(zaehler, nenner):\n",
    "    log.debug(f\"Eingabe Zaehler: {zaehler}\")\n",
    "    log.debug(f\"Eingabe Nenner: {nenner}\")\n",
    "    if not isinstance(nenner, (int, float)):\n",
    "        log.error(f\"Nenner nicht vom Datentyp `int` oder `float`, sondern vom Typ {type(nenner)}\")\n",
    "        raise ValueError(f\"Nenner nicht vom Datentyp `int` oder `float`, sondern vom Typ {type(nenner)}\")\n",
    "    elif not isinstance(zaehler, (int, float)):\n",
    "        log.error(f\"Zaehler nicht vom Datentyp `int` oder `float`, sondern vom Typ {type(zaehler)}\")\n",
    "        raise ValueError(f\"Zaehler nicht vom Datentyp `int` oder `float`, sondern vom Typ {type(zaehler)}\")\n",
    "    elif not nenner:\n",
    "        log.warning(\"Division durch 0\")\n",
    "        return None\n",
    "    else:\n",
    "        ergebnis = zaehler / nenner\n",
    "        log.info(f\"Das Ergebnis von {zaehler}/{nenner} = {ergebnis}\")\n",
    "        return ergebnis"
   ]
  },
  {
   "cell_type": "markdown",
   "metadata": {
    "slideshow": {
     "slide_type": "skip"
    }
   },
   "source": [
    "Wenn wir jetzt die Funktion aufrufen, sehen wir nur noch die Division durch 0 Warnung."
   ]
  },
  {
   "cell_type": "code",
   "execution_count": null,
   "metadata": {
    "slideshow": {
     "slide_type": "skip"
    }
   },
   "outputs": [],
   "source": [
    "log.setLevel(logging.WARNING)\n",
    "for nenner in range(-2, 8):\n",
    "    division(10, nenner)"
   ]
  },
  {
   "cell_type": "markdown",
   "metadata": {
    "slideshow": {
     "slide_type": "skip"
    }
   },
   "source": [
    "Wir können allerdings bei Bedarf, wie bei der Fehlersuche den Loglevel auch erhöhen. Zum Beispiel wollen wir alle Debug-Nachrichten erhalten."
   ]
  },
  {
   "cell_type": "code",
   "execution_count": null,
   "metadata": {
    "slideshow": {
     "slide_type": "skip"
    }
   },
   "outputs": [],
   "source": [
    "log.setLevel(logging.DEBUG)\n",
    "for nenner in range(-2, 8):\n",
    "    division(10, nenner)"
   ]
  },
  {
   "cell_type": "markdown",
   "metadata": {
    "slideshow": {
     "slide_type": "skip"
    }
   },
   "source": [
    "Ferner erlaub das Logging auch automatisch weitere Informationen hinzuzufügen. Wir sehen im Log oben bereits, das nicht nur das Level (INFO, DEBUG, WARNING) sondern auch den Namen des Loggers (meinlog). Wir können dieses Format anpassen um z.B. auch die Zeit auszugeben, was insbesondere wichtig ist um zu verstehen wann etwas passiert ist."
   ]
  },
  {
   "cell_type": "code",
   "execution_count": null,
   "metadata": {
    "slideshow": {
     "slide_type": "skip"
    }
   },
   "outputs": [],
   "source": [
    "sh=logging.StreamHandler()\n",
    "formatter = logging.Formatter('%(asctime)s  %(name)s  %(levelname)s: %(message)s')\n",
    "sh.setFormatter(formatter)\n",
    "log.addHandler(sh)\n",
    "log.setLevel(logging.INFO)\n",
    "\n",
    "for nenner in range(-2, 8):\n",
    "    division(10, nenner)"
   ]
  },
  {
   "cell_type": "markdown",
   "metadata": {
    "slideshow": {
     "slide_type": "skip"
    }
   },
   "source": [
    "In der Praxis wird das Logging sehr häufig insbesondere in Cloud-Anwendungen verwendet. Da diese ja keine Bildschirme haben, müssen Fehler in Logs gesucht werden. Solange alles ok ist, läuft so eine Anwendung dann z.B. im Log-Level `INFO`, mit nur wenig Ausgaben. Tritt ein Fehler auf, so wird der Server auf das Log-Level `DEBUG` gesetzt und man sucht in den detaillierten Logs dann nach Informationen, um den Fehler einzugrenzen."
   ]
  },
  {
   "cell_type": "markdown",
   "metadata": {
    "slideshow": {
     "slide_type": "skip"
    }
   },
   "source": [
    "## Debugging durch Debug-Oberflächen"
   ]
  },
  {
   "cell_type": "markdown",
   "metadata": {
    "slideshow": {
     "slide_type": "skip"
    }
   },
   "source": [
    "Viele integrierte Entwicklungsumgebungen (IDE) bieten an direkt Debugger auszuführen. Diese Debugger erlauben es die dynamische Ausführung des Codes zu unterbrechen. Ziel ist es kurz vor Auftreten des Fehlers die Ausführung anzuhalten, um dann das Fehlerverhalten genau beobachten zu können.\n",
    "\n",
    "Dabei werden meist zwei Formen der Unterbrechung unterstützt:\n",
    "-  Die Unterbrechung in bestimmten Code-Zeilen mit Hilfe von Breakpoints.\n",
    "-  Die Unterbrechung bei bestimmten Exceptions."
   ]
  },
  {
   "cell_type": "markdown",
   "metadata": {
    "slideshow": {
     "slide_type": "skip"
    }
   },
   "source": [
    "### Debugging in Jupyter-Notebooks in VSCode"
   ]
  },
  {
   "cell_type": "markdown",
   "metadata": {
    "slideshow": {
     "slide_type": "skip"
    }
   },
   "source": [
    "Die Debug-Oberflächen sehen je nach IDE etwas anders aus, verfügen aber über ähnliche Funktionen. Dieses Jupyter Notebook wurde in VSCode geschrieben, welches wir als erstes Beispiel betrachten."
   ]
  },
  {
   "cell_type": "markdown",
   "metadata": {
    "slideshow": {
     "slide_type": "skip"
    }
   },
   "source": [
    "Dafür kann man meist in der IDE links neben eine Zeile klicken um einen Breakpoint <span style=\"color: red\">⬤</span> zu setzen. Wir setzen dafür einen Breakpoint auf die Zeile 11 auf die Ausgabe der Warnung."
   ]
  },
  {
   "attachments": {},
   "cell_type": "markdown",
   "metadata": {
    "slideshow": {
     "slide_type": "skip"
    }
   },
   "source": [
    "![](images/06a_Exceptions/debug_vscode_1.png)"
   ]
  },
  {
   "cell_type": "markdown",
   "metadata": {
    "slideshow": {
     "slide_type": "skip"
    }
   },
   "source": [
    "Dann wird der Code in einer speziellen Debugumgebung ausgeführt, die es erlaub die Ausführung zu unterbrechen. In unserm Notebook in VSCode starten wird diese durch das Symbol <img src=\"images/06a_Exceptions/debug_vscode_2.png\" style=\"height: 2ex\">."
   ]
  },
  {
   "cell_type": "code",
   "execution_count": null,
   "metadata": {
    "slideshow": {
     "slide_type": "skip"
    }
   },
   "outputs": [],
   "source": [
    "def division(zaehler, nenner):\n",
    "    log.debug(f\"Eingabe Zaehler: {zaehler}\")\n",
    "    log.debug(f\"Eingabe Nenner: {nenner}\")\n",
    "    if not isinstance(nenner, (int, float)):\n",
    "        log.error(f\"Nenner nicht vom Datentyp `int` oder `float`, sondern vom Typ {type(nenner)}\")\n",
    "        raise ValueError(f\"Nenner nicht vom Datentyp `int` oder `float`, sondern vom Typ {type(nenner)}\")\n",
    "    elif not isinstance(zaehler, (int, float)):\n",
    "        log.error(f\"Zaehler nicht vom Datentyp `int` oder `float`, sondern vom Typ {type(zaehler)}\")\n",
    "        raise ValueError(f\"Zaehler nicht vom Datentyp `int` oder `float`, sondern vom Typ {type(zaehler)}\")\n",
    "    elif not nenner:\n",
    "        log.warning(\"Division durch 0\")\n",
    "        return None\n",
    "    else:\n",
    "        ergebnis = zaehler / nenner\n",
    "        log.info(f\"Das Ergebnis von {zaehler}/{nenner} = {ergebnis}\")\n",
    "        return ergebnis\n",
    "\n",
    "division(10, 0)"
   ]
  },
  {
   "cell_type": "markdown",
   "metadata": {
    "slideshow": {
     "slide_type": "skip"
    }
   },
   "source": [
    "Dies startet den Debug-Modus. In diesem wird die aktuelle Zeile vorgehoben als auch die aktuellen Variablen im Speicher angezeigt."
   ]
  },
  {
   "attachments": {},
   "cell_type": "markdown",
   "metadata": {
    "slideshow": {
     "slide_type": "skip"
    }
   },
   "source": [
    "![Debuggin in VS Code](images/06a_Exceptions/debug_vscode_3.png)"
   ]
  },
  {
   "cell_type": "markdown",
   "metadata": {
    "slideshow": {
     "slide_type": "skip"
    }
   },
   "source": [
    "In der Debugumgebung kann man dann Zeile für Zeile vorgehen durch drücken von <img src=\"images/06a_Exceptions/debug_vscode_2.png\" style=\"height: 2ex\"> und damit nachvollziehen wie das Programm bearbeitet wird und welche Variablen sich ändern."
   ]
  },
  {
   "cell_type": "markdown",
   "metadata": {
    "editable": true,
    "slideshow": {
     "slide_type": "skip"
    },
    "tags": [
     "remove-cell"
    ]
   },
   "source": [
    "### Debugging in repl.it"
   ]
  },
  {
   "cell_type": "markdown",
   "metadata": {
    "editable": true,
    "slideshow": {
     "slide_type": "skip"
    },
    "tags": [
     "remove-cell"
    ]
   },
   "source": [
    "In repl.it sieht die Debugging-Oberfläche ähnlich aus. Wir setzen einen Breakpoint <span style=\"color: red\">⬤</span> durch klicken auf die Zeile 11 auf die Ausgabe der Warnung."
   ]
  },
  {
   "attachments": {},
   "cell_type": "markdown",
   "metadata": {
    "editable": true,
    "slideshow": {
     "slide_type": "skip"
    },
    "tags": [
     "remove-cell"
    ]
   },
   "source": [
    "![](images/06a_Exceptions/debug_replit_1.png)"
   ]
  },
  {
   "cell_type": "markdown",
   "metadata": {
    "slideshow": {
     "slide_type": "skip"
    },
    "tags": [
     "remove-cell"
    ]
   },
   "source": [
    "Die Debugumgebung wird durch <img src=\"images/06a_Exceptions/debug_replit_2.png\" height=\"2ex\"> gestartet. Sie erlaub die Ausführung zu starten, einzelne Zeilen auszuführen, den Schritt zu überspringen oder bis zum Breakpoint auszuführen (links nach rechts)."
   ]
  },
  {
   "attachments": {},
   "cell_type": "markdown",
   "metadata": {
    "slideshow": {
     "slide_type": "skip"
    },
    "tags": [
     "remove-cell"
    ]
   },
   "source": [
    "![](images/06a_Exceptions/debug_replit_3.png)"
   ]
  },
  {
   "cell_type": "markdown",
   "metadata": {
    "slideshow": {
     "slide_type": "skip"
    },
    "tags": [
     "remove-cell"
    ]
   },
   "source": [
    "Auch hier werden die aktuellen Variablen angezeigt als auch der Stack."
   ]
  },
  {
   "attachments": {},
   "cell_type": "markdown",
   "metadata": {
    "editable": true,
    "slideshow": {
     "slide_type": "skip"
    },
    "tags": [
     "remove-cell"
    ]
   },
   "source": [
    "![](images/06a_Exceptions/debug_replit_4.png)"
   ]
  },
  {
   "cell_type": "markdown",
   "metadata": {
    "editable": true,
    "slideshow": {
     "slide_type": "slide"
    },
    "tags": [
     "remove-cell"
    ]
   },
   "source": [
    "## Warum machen wir Fehler?\n",
    "\n",
    "<div class=\"flex-row\">\n",
    "<div class=\"col1\">\n",
    "\n",
    "*Gewollte Fehler passieren, wenn:*\n",
    "\n",
    "- wir bewusst Fakten ignorieren und lieber unserem Bauch vertrauen\n",
    "- wenn wir Tests durchführen, um zu prüfen ob ein Programm diese Fehler behandelt\n",
    "- durch gezielte Sabotage (Insider Thread in der Datensicherheit)\n",
    "\n",
    "</div>\n",
    "<div class=\"col1\">\n",
    "\n",
    "*Ungewollte Fehler passieren u.a. durch:*\n",
    "\n",
    "- falsche Annahmen da z.B. die Anforderungen nicht hinreichend analysiert worden oder man nicht alle Fehlerfälle durchdacht hat\n",
    "- Unaufmerksamkeit (Flüchtigkeitsfehler) durch Müdigkeit, Zeitdruck oder Desinteresse\n",
    "- weil wir an kognitive/körperliche Limits stoßen (z.B. optische Täuschungen)\n",
    "\n",
    "</div>\n",
    "</div>"
   ]
  },
  {
   "cell_type": "markdown",
   "metadata": {
    "editable": true,
    "slideshow": {
     "slide_type": "subslide"
    },
    "tags": [
     "remove-cell"
    ]
   },
   "source": [
    "## Fehler sind Menschlich\n",
    "\n",
    "- *Computer sind von Menschen gemacht*\n",
    "- Die mentalen Modelle anderer Menschen haben (oft subtile) Unterschiede zu unseren eigenen, z.B. wegen:\n",
    "  - Alter\n",
    "  - Herkunft\n",
    "  - Ausbildung\n",
    "  - Erfahrung\n",
    "  - Kultur\n",
    "- Die meisten Fehler im Alltag passieren an der *Schnittstelle zwischen uns und den internen Vorgängen*: Nutzeroberflächen, Hardware, etc."
   ]
  },
  {
   "cell_type": "markdown",
   "metadata": {
    "editable": true,
    "slideshow": {
     "slide_type": "subslide"
    },
    "tags": [
     "remove-cell"
    ]
   },
   "source": [
    "## Hörsaalfrage\n",
    "\n",
    "<script>setSectionBackground('#FFD966');</script>\n",
    "<div class=\"flex-row\">\n",
    "  <div class=\"col4 vcent\">\n",
    "\n",
    "**Was bedeutet dieses Zeichen?**\n",
    "\n",
    "  </div>\n",
    "  <div class=\"col6\"> \n",
    "    <figure class=\"mj-fig\">\n",
    "        <img src=\"images/06a_Exceptions/diskette.png\" class=\"mj-fig-img\">\n",
    "        <figcaption class=\"mj-fig-cap\">\n",
    "            icon-icons.com\n",
    "        </figcaption>\n",
    "    </figure>\n",
    "  </div>\n",
    "</div>"
   ]
  },
  {
   "cell_type": "markdown",
   "metadata": {
    "editable": true,
    "slideshow": {
     "slide_type": "subslide"
    },
    "tags": [
     "remove-cell"
    ]
   },
   "source": [
    "## Was bedeutet dieses Zeichen?\n",
    "\n",
    "- Das Diskettensymbol wird häufig zum Abspeichern benutzt.\n",
    "- Es stammt ursprünglich aus den 90er wo Daten noch auf Disketten gespeichert wurden.\n",
    "- Heutzutage haben viele diesen Kontext nicht und können das Symbol nicht intuitiv deuten.\n",
    "- Beispiel für unterschiedliche mentale Modelle zwischen Generationen\n",
    "\n",
    "<div class=\"flex-row\">\n",
    "  <div class=\"col1\"> \n",
    "    <figure class=\"mj-fig\">\n",
    "        <img src=\"images/06a_Exceptions/diskette.png\" class=\"mj-fig-img\">\n",
    "        <figcaption class=\"mj-fig-cap\">\n",
    "            icon-icons.com\n",
    "        </figcaption>\n",
    "    </figure>\n",
    "  </div>\n",
    "  <div class=\"col1\"> \n",
    "    <figure class=\"mj-fig\">\n",
    "        <img src=\"images/06a_Exceptions/diskette2.jpg\" class=\"mj-fig-img\">\n",
    "        <figcaption class=\"mj-fig-cap\">\n",
    "            www.pxfuel.com\n",
    "        </figcaption>\n",
    "    </figure>\n",
    "  </div>\n",
    "</div>"
   ]
  },
  {
   "cell_type": "markdown",
   "metadata": {
    "editable": true,
    "slideshow": {
     "slide_type": "subslide"
    },
    "tags": [
     "remove-cell"
    ]
   },
   "source": [
    "## Wann machen Computer Fehler?\n",
    "\n",
    "- Computer machen nur sehr selten Fehler (z.B. Bitfehler durch kosmische Strahlung, Fehler bei Berechnungen mit Fließkommazahlen, Überläufe von Integer, Fehler bei der Datenübertragung oder Speicherung)\n",
    "- Meistens ist es allerdings der Nutzer oder Programmierer der die Fehler erst ermöglicht hat (Falsche Datentypen, keine gute Ausnahmen- oder Fehlerbehandlung)\n",
    "- Die eigentliche Frage ist: Gibt es Fehler im System abseits von unserem eigenen Programmcode?"
   ]
  },
  {
   "cell_type": "markdown",
   "metadata": {
    "editable": true,
    "slideshow": {
     "slide_type": "slide"
    },
    "tags": [
     "remove-cell"
    ]
   },
   "source": [
    "## Wie beugt man Fehlern vor?\n",
    "\n",
    "- *Nutzen einer integrierten Entwicklungsumgebung (IDE)*\n",
    "  - Automatische Fehlererkennung von Syntaxfehlern\n",
    "  - Code-Vervollständigung\n",
    "  - Code-Generierung (z.B. aus Diagrammen)\n",
    "- *Umfangreiches Planen* der Software mit Anforderungsanalyse, Softwareentwurf, Testentwurf, etc.\n",
    "- *TESTEN, TESTEN, TESTEN* mittels spezieller Testfälle (Unit-Tests)!\n",
    "  - Nicht nur reiner Funktionstest (macht es was es soll?)\n"
   ]
  },
  {
   "cell_type": "markdown",
   "metadata": {
    "editable": true,
    "slideshow": {
     "slide_type": "subslide"
    },
    "tags": [
     "remove-cell"
    ]
   },
   "source": [
    "## Klassen von Fehlern\n",
    "\n",
    "<div class=\"flex-row\">\n",
    "<div class=\"col3\">\n",
    "\n",
    "*Entlang der Wissenspyramide:*\n",
    "- *Lexikalisch* – Code enthält ungültige Zeichen oder Zeichenketten\n",
    "- *Syntaktisch* – Code kombiniert lexikalisch gültige Wörter in ungültiger Weise  \n",
    "- *Semantisch* – Code ist syntaktisch gültig, aber liefert keine Ergebnisse/stürzt ab\n",
    "- *Logisch* – Code ist semantisch gültig, aber löst das gegebene Problem nicht\n",
    "\n",
    "</div>\n",
    "<div class=\"col2\">\n",
    "\n",
    "![Wissenspyramide](images/wissenspyramide.svg)\n",
    "\n",
    "</div>\n",
    "</div>"
   ]
  },
  {
   "cell_type": "markdown",
   "metadata": {
    "editable": true,
    "slideshow": {
     "slide_type": "subslide"
    },
    "tags": [
     "remove-cell"
    ]
   },
   "source": [
    "## Andere Klassifizierungen von Fehlern\n",
    "\n",
    "<div class=\"flex-row\">\n",
    "<div class=\"col1\">\n",
    "\n",
    "*Nach Häufigkeit und Reproduzierbarkeit:*\n",
    "\n",
    "- *Deterministische Fehler* - treten immer auf und lassen sich reproduzieren\n",
    "- *Sporadische Fehler* - treten nur selten und in besonderen Zuständen auf. Sind schwer zu reproduzieren\n",
    "\n",
    "</div>\n",
    "<div class=\"col1\">\n",
    "\n",
    "*Nach Auftreten:*\n",
    "\n",
    "- *Statische Fehler* - Direkt im geschriebenen Code erkennbar\n",
    "- *Dynamische Fehler* - Treten erst beim Ausführen des Programms auf\n",
    "\n",
    "</div>\n",
    "</div>"
   ]
  },
  {
   "cell_type": "markdown",
   "metadata": {
    "editable": true,
    "slideshow": {
     "slide_type": "subslide"
    },
    "tags": [
     "remove-cell"
    ]
   },
   "source": [
    "## Lexikalische & Syntaktische Fehler\n",
    "\n",
    "- Sind in den meisten Fällen *statisch* und *deterministisch*\n",
    "- Erzeugen *immer* eine Fehlermeldung\n",
    "  - Schon in IDE, beim Compilieren oder nach dem Ausführen\n",
    "- *Diese Fehlermeldungen können allerdings trügerisch sein!*"
   ]
  },
  {
   "cell_type": "markdown",
   "metadata": {
    "editable": true,
    "slideshow": {
     "slide_type": "subslide"
    },
    "tags": [
     "remove-cell"
    ]
   },
   "source": [
    "## Lexikalische & Syntaktische Fehler - Beispiele\n",
    "\n",
    "- Ein *Schlüsselwort* ist falsch geschrieben\n",
    "- *Nicht geschlossene* Anführungszeichen oder Klammern\n",
    "- Einen *Doppelpunkt* nach einer Bedingung oder Funktion vergessen\n",
    "- *Falsche Einrückung* nach einer Bedingung, Schleife oder Funktion\n",
    "- Ggf. auch falsches Einrücken durch *Tabs vs. Leerzeichen*"
   ]
  },
  {
   "cell_type": "markdown",
   "metadata": {
    "editable": true,
    "slideshow": {
     "slide_type": "subslide"
    },
    "tags": [
     "remove-cell"
    ]
   },
   "source": [
    "## Lexikalische & Syntaktische Fehler - Behandlung\n",
    "\n",
    "- *Erster Blick:* In welcher Zeile ist der Fehler aufgetreten?\n",
    "- Gibt der *Text der Fehlermeldung* einen Hinweis?\n",
    "- Liegt der Fehler in der Zeile oder ist der Fehler nur ein *Symptom* und der Fehler liegt in einer Zeile davor?\n",
    "- Normalerweise *einfach zu beheben* und von der Fehlerzeile den Code Zeile für Zeile rückwärts durchgehen\n",
    "- Falls nicht: *Refactoring* - Code zur besseren Lesbarkeit umstrukturieren ohne das Verhalten zu verändern"
   ]
  },
  {
   "cell_type": "markdown",
   "metadata": {
    "editable": true,
    "slideshow": {
     "slide_type": "subslide"
    },
    "tags": [
     "remove-cell"
    ]
   },
   "source": [
    "## Semantische Fehler - Grundlagen\n",
    "\n",
    "- Entstehen durch die *fehlerhafte Anwendung* von syntaktisch korrekten Programmstrukturen auf ein bestimmtes Problem\n",
    "- Semantische Fehler können *erkennbar* oder *unerkennbar* sein. Sie sind immer deterministisch, aber können statisch oder dynamisch auftreten\n",
    "- *Erkennbare Fehler* sind Fehler von denen man weiß, dass sie auftreten können (z.B. Division durch Null, keine Internetverbindung, etc.)\n",
    "  - Sollten *immer* abgefangen und behandelt werden\n",
    "- *Unerkannte Fehler* sind beim Erstellen des Programms unbekannt. Deutlich schwieriger abzufangen"
   ]
  },
  {
   "cell_type": "markdown",
   "metadata": {
    "editable": true,
    "slideshow": {
     "slide_type": "subslide"
    },
    "tags": [
     "remove-cell"
    ]
   },
   "source": [
    "## Semantische Fehler - Beispiele\n",
    "\n",
    "- Eine *Variable wird als Funktion* aufgerufen  \n",
    "  *(statisch, deterministisch)*\n",
    "- Ein *Operator wird mit einem Wert des falschen Typs* genutzt  \n",
    "  *(statisch oder dynamisch, deterministisch)*\n",
    "- Ein *Wert des falschen Typs* wird in eine Funktion übergeben  \n",
    "  *(statisch oder dynamisch, deterministisch)*\n",
    "- Es geschieht eine *Division durch 0*  \n",
    "  *(dynamisch, deterministisch)*"
   ]
  },
  {
   "cell_type": "markdown",
   "metadata": {
    "editable": true,
    "slideshow": {
     "slide_type": "subslide"
    },
    "tags": [
     "remove-cell"
    ]
   },
   "source": [
    "## Semantische Fehler - Behandlung\n",
    "\n",
    "*Erster Schritt: Verstehen der Fehlermeldung*\n",
    "\n",
    "- *Idealfall:* Gibt das exakte Problem an\n",
    "- *Meistens:* Gibt Hinweise auf ein Problem\n",
    "  - Ort\n",
    "  - Art des Problems  \n",
    "  - Die betroffene Variable/Operation\n",
    "- *Oft:* Die Fehlermeldung ist nur ein Symptom des eigentlichen Problems"
   ]
  },
  {
   "cell_type": "markdown",
   "metadata": {
    "editable": true,
    "slideshow": {
     "slide_type": "subslide"
    },
    "tags": [
     "remove-cell"
    ]
   },
   "source": [
    "## Semantische Fehler - Behandlung (2)\n",
    "\n",
    "*Falls die Fehlermeldung nicht genug Informationen gibt:*\n",
    "\n",
    "- *Programmablauf loggen* und so besser nachvollziehen:\n",
    "  - Weitere Ausgaben hinzufügen (z.B. über `print()`-Funktion)\n",
    "  - Variablenzustände prüfen oder prüfen ob gewisse Zeilen erreicht werden\n",
    "\n",
    "- *Debugging-Tools* nutzen:\n",
    "  - Programmablauf an bestimmten Punkten (*Breakpoints*) pausieren\n",
    "  - Programmablauf *Schritt für Schritt* nachvollziehen\n",
    "  - *Variablen beobachten* in diesem Moment"
   ]
  },
  {
   "cell_type": "markdown",
   "metadata": {
    "editable": true,
    "slideshow": {
     "slide_type": "subslide"
    },
    "tags": [
     "remove-cell"
    ]
   },
   "source": [
    "## Logische Fehler - Grundlagen\n",
    "\n",
    "*Entstehen durch:*\n",
    "- Fehler in der *Programmlogik*\n",
    "- Ein *falsches mentales Modell*\n",
    "- Einen grundlegenden *Fehler im Programmentwurf*\n",
    "- *Flüchtigkeitsfehler* bei der Übersetzung vom Entwurf zur Implementierung\n",
    "\n",
    "*Charakteristika:*\n",
    "- Erzeugen *nur selten Exceptions* sondern falsches Verhalten/Ergebnisse\n",
    "- Bleiben oft *unentdeckt* und treten erst dynamisch auf\n",
    "- Können *deterministisch* oder *sporadisch* sein"
   ]
  },
  {
   "cell_type": "markdown",
   "metadata": {
    "editable": true,
    "slideshow": {
     "slide_type": "subslide"
    },
    "tags": [
     "remove-cell"
    ]
   },
   "source": [
    "## Logische Fehler - Beispiele\n",
    "\n",
    "<div class=\"flex-row\">\n",
    "<div class=\"col1\">\n",
    "\n",
    "*Deterministische Fehler:*\n",
    "\n",
    "- Verwendung eines *falschen Faktors* in einer Einheitenkonvertierung\n",
    "- Verwenden der *falschen Art von Schleife* oder falsche Schachtelung\n",
    "- Verwenden einer *falschen Zeitzone* beim Schreiben von Sensor-Daten\n",
    "\n",
    "</div>\n",
    "<div class=\"col1\">\n",
    "\n",
    "*Sporadische Fehler:*\n",
    "\n",
    "- Probleme mit *Sommer-/Winterzeitkonvertierung* bei Sensor-Daten\n",
    "- Die Bedingung in einer Schleife hat Fälle in der sie *immer True* ist und so endlos wird\n",
    "\n",
    "</div>\n",
    "</div>"
   ]
  },
  {
   "cell_type": "markdown",
   "metadata": {
    "editable": true,
    "slideshow": {
     "slide_type": "subslide"
    },
    "tags": [
     "remove-cell"
    ]
   },
   "source": [
    "## Logische Fehler - Behandlung\n",
    "\n",
    "<div class=\"flex-row\">\n",
    "<div class=\"col1\">\n",
    "\n",
    "*Deterministische Fehler:*\n",
    "\n",
    "- *Testfälle erstellen* um zu reproduzieren wann und wie unerwartetes Verhalten stattfindet\n",
    "- *Debugger nutzen* um die Ausführung nachzuvollziehen und Fehlerursache zu isolieren\n",
    "- Werte *systematisch verfolgen* und Schritt-für-Schritt auf Korrektheit prüfen\n",
    "\n",
    "</div>\n",
    "<div class=\"col1\">\n",
    "\n",
    "*Sporadische Fehler:*\n",
    "\n",
    "- Mittels *Logging* (`print()`) den Zustand des Fehlers identifizieren, so dass er reproduzierbar wird\n",
    "- *Bedingte Breakpoints* im Debugging nutzen (Programm bleibt nur stehen, wenn eine Fehlerbedingung gegeben ist)\n",
    "\n",
    "</div>\n",
    "</div>"
   ]
  },
  {
   "cell_type": "markdown",
   "metadata": {
    "editable": true,
    "slideshow": {
     "slide_type": "slide"
    },
    "tags": [
     "remove-cell"
    ]
   },
   "source": [
    "## Zusatz: Warnungen in der IDE oder vom Compiler\n",
    "\n",
    "- Weisen auf Code hin, der *syntaktisch und semantisch korrekt* scheint, seinen Zweck aber wahrscheinlich *nicht erfüllen* wird\n",
    "\n",
    "- Basieren z.B. auf *Erfahrungswerten*\n",
    "\n",
    "- Können dabei helfen *semantische und logische Fehler frühzeitig* zu erkennen"
   ]
  },
  {
   "cell_type": "markdown",
   "metadata": {
    "slideshow": {
     "slide_type": "slide"
    },
    "tags": [
     "remove-cell"
    ]
   },
   "source": [
    "## Lesson Learned\n",
    "\n",
    "<script>setSectionBackground('#66ccffff');</script>\n",
    "<div class=\"flex-row\">\n",
    "<div class=\"col2\">\n",
    "\n",
    "Wofür ist Feedback gut?\n",
    "\n",
    "</div>\n",
    "<div class=\"col3\">\n",
    "    <figure class=\"mj-fig\">\n",
    "        <img src=\"images/06a_Exceptions/dorian.jpg\" class=\"mj-fig-img\">\n",
    "        <figcaption class=\"mj-fig-cap\">\n",
    "            Midjourney: Dorian Gray looking at his picture seeing an old monster\n",
    "        </figcaption>\n",
    "    </figure>\n",
    "  </div>\n",
    "</div>"
   ]
  },
  {
   "cell_type": "markdown",
   "metadata": {
    "editable": true,
    "slideshow": {
     "slide_type": "subslide"
    },
    "tags": [
     "remove-cell"
    ]
   },
   "source": [
    "## Lesson Learned - Selbst und Fremdwarnehmung\n",
    "\n",
    "<script>setSectionBackground('#66ccffff');</script>\n",
    "\n",
    "<div class=\"flex-row\">\n",
    "  <div class=\"col1\">\n",
    "\n",
    "- Unser Selbstbild stimmt nie mit dem Fremdbild überein, da wir unsere Erfahrungen und Gedanken mit einbringen\n",
    "- Das Fremdbild wird nur durch Beobachtung und Schilderungen von unserer Person gebildet \n",
    "- Feedback ist entscheidend, um das Selbstbild und Fremdbild abzugleichen\n",
    "\n",
    "  </div>\n",
    "  <div class=\"col1\">\n",
    "    <figure class=\"mj-fig\">\n",
    "        <img src=\"images/06a_Exceptions/feedback.png\" class=\"mj-fig-img\">\n",
    "    </figure>\n",
    "  </div>\n",
    "</div>"
   ]
  },
  {
   "cell_type": "markdown",
   "metadata": {
    "editable": true,
    "slideshow": {
     "slide_type": "skip"
    },
    "tags": []
   },
   "source": [
    "## Quiz\n",
    "\n",
    "\n",
    "```{quizdown}\n",
    "    ---\n",
    "    shuffleQuestions: true\n",
    "    shuffleAnswers: true\n",
    "    ---\n",
    "\n",
    "    ### Was ist eine Exception in Python?\n",
    "    - [x] Eine Ausnahme, die den normalen Ablauf des Programms unterbricht\n",
    "    - [ ] Ein Spezialfall bei Loops\n",
    "    - [ ] Eine Warnung, die ignoriert werden kann\n",
    "    - [ ] Eine globale Variable\n",
    "\n",
    "    ### Warum verwendet man `try-except`-Blöcke?\n",
    "    - [x] Um kontrolliert auf Fehler zu reagieren\n",
    "    - [x] Um das Programm vor Abstürzen zu bewahren\n",
    "    - [ ] Um Variablen zu initialisieren\n",
    "    - [ ] Um Funktionen automatisch zu wiederholen\n",
    "\n",
    "    ### Was passiert, wenn eine Exception im `try`-Block auftritt?\n",
    "    - [x] Der Code im `except`-Block wird ausgeführt\n",
    "    - [ ] Der `try`-Block wird ignoriert\n",
    "    - [ ] Das Programm wird automatisch beendet\n",
    "    - [ ] Der Fehler wird immer ignoriert\n",
    "\n",
    "    ### Sortiere die folgenden Zeilen, um einen vollständigen `try-except`-Block korrekt aufzubauen:\n",
    "    ```python\n",
    "    # Annahme: Fehlerhafte Division\n",
    "    ```\n",
    "    1. `try:`\n",
    "    2. `  ergebnis = 10 / 0`\n",
    "    3. `  print(\"Ergebnis:\", ergebnis)`\n",
    "    4. `except:`\n",
    "    5. `  print(\"Fehler bei der Division\")`\n",
    "\n",
    "    ### Welcher Fehler steckt in diesem Beispiel?\n",
    "    ```python\n",
    "    x = 10\n",
    "    y = 0\n",
    "    z = x / y\n",
    "    print(\"Ergebnis:\", z)\n",
    "    ```\n",
    "    - [x] Division durch null führt zu einer `ZeroDivisionError`-Exception\n",
    "    - [ ] `print` darf nicht in try-Blöcken verwendet werden\n",
    "    - [ ] `x` darf nicht 10 sein\n",
    "    - [ ] `y` muss als String deklariert werden\n",
    "\n",
    "    ### Was ist der Vorteil, wenn man `Exception as e` verwendet?\n",
    "    - [x] Man kann Typ und Fehlermeldung der Exception gezielt ausgeben\n",
    "    - [ ] Dadurch wird die Exception automatisch gelöst\n",
    "    - [ ] Der Code wird kürzer\n",
    "    - [ ] `as` ist Pflicht in jeder Fehlerbehandlung\n",
    "\n",
    "    ### Warum sollte man bekannte Exception-Typen (wie `TypeError`) explizit abfangen?\n",
    "    - [x] Um unterschiedliche Fehler gezielt zu behandeln\n",
    "    - [ ] Weil Python sonst nicht funktioniert\n",
    "    - [ ] Damit die Ausgabe schöner wird\n",
    "    - [ ] Das ist nur bei `int`-Werten nötig\n",
    "\n",
    "    ### Sortiere die folgenden Zeilen, um eine typisierte Fehlerbehandlung für Divisionen korrekt aufzubauen:\n",
    "    ```python\n",
    "    # Beispiel mit Division durch 0 und falschem Typ\n",
    "    ```\n",
    "    1. `try:`\n",
    "    2. `  ergebnis = \"zehn\" / 0`\n",
    "    3. `except TypeError:`\n",
    "    4. `  print(\"Falscher Datentyp\")`\n",
    "    5. `except ZeroDivisionError:`\n",
    "    6. `  print(\"Division durch 0\")`\n",
    "\n",
    "    ### Wann wird der `else`-Block bei `try-except-else` ausgeführt?\n",
    "    - [x] Nur wenn im `try`-Block **keine** Exception auftritt\n",
    "    - [ ] Wenn irgendein Fehler auftritt\n",
    "    - [ ] Immer nach dem `except`\n",
    "    - [ ] Wenn `print()` im `try` verwendet wird\n",
    "\n",
    "    ### Was bewirkt ein `finally`-Block in Python?\n",
    "    - [x] Der Code im `finally` wird **immer** ausgeführt – egal ob Fehler oder nicht\n",
    "    - [ ] Der Code wird übersprungen bei Fehlern\n",
    "    - [ ] Nur verwendet bei Netzwerken\n",
    "    - [ ] Dient zur Initialisierung von Variablen\n",
    "\n",
    "    ### Wann sollte man eigene Exceptions mit `raise` erzeugen?\n",
    "    - [x] Wenn man Fehler gezielt kennzeichnen und weiterreichen will\n",
    "    - [ ] Wenn man eine Schleife abbrechen will\n",
    "    - [ ] Nur bei Syntaxfehlern\n",
    "    - [ ] Nur für Debugging-Zwecke\n",
    "\n",
    "    ### Warum ist es sinnvoll, spezifische Fehlertypen wie `ValueError` zu verwenden?\n",
    "    - [x] Damit Fehler gezielter behandelt und unterschieden werden können\n",
    "    - [ ] Damit `try`-Blöcke kürzer werden\n",
    "    - [ ] Damit das Programm schneller läuft\n",
    "    - [ ] Weil `Exception` in Python nicht erlaubt ist\n",
    "\n",
    "    ### Welcher Fehler steckt in diesem Beispiel?\n",
    "    ```python\n",
    "    if not isinstance(x, int):\n",
    "        raise \"Fehler\"\n",
    "    ```\n",
    "    - [x] `raise` erwartet ein Exception-Objekt, kein String\n",
    "    - [ ] `raise` ist kein gültiges Python-Schlüsselwort\n",
    "    - [ ] Strings dürfen nicht mit `if` verglichen werden\n",
    "    - [ ] `int` ist kein gültiger Typ\n",
    "\n",
    "    ### Sortiere die folgenden Zeilen, um eine sichere Divisionsfunktion mit Fehlern zu definieren:\n",
    "    ```python\n",
    "    # Annahme: Division mit Typprüfung und Division durch 0\n",
    "    ```\n",
    "    1. `def division(zaehler, nenner):`\n",
    "    2. `  if not isinstance(zaehler, (int, float)):`\n",
    "    3. `    raise ValueError(\"Zaehler ist ungültig\")`\n",
    "    4. `  if nenner == 0:`\n",
    "    5. `    return None`\n",
    "    6. `  return zaehler / nenner`\n",
    "\n",
    "    ### Wie verhalten sich Exceptions in einem Funktionsaufruf-Stack?\n",
    "    - [x] Sie steigen nach oben, bis sie behandelt oder zum Absturz führen\n",
    "    - [ ] Sie verschwinden nach dem ersten Funktionsaufruf\n",
    "    - [ ] Sie führen nur in der aktuellen Funktion zum Fehler\n",
    "    - [ ] Sie werden automatisch ignoriert\n",
    "\n",
    "    ### Was bewirkt folgende Zeile in einer rekursiven Funktion?\n",
    "    ```python\n",
    "    raise RecursionError(\"Recursion zu tief\")\n",
    "    ```\n",
    "    - [x] Sie erzeugt gezielt einen Fehler, wenn die Rekursion zu tief wird\n",
    "    - [ ] Sie verhindert eine Exception\n",
    "    - [ ] Sie beendet die Rekursion erfolgreich\n",
    "    - [ ] Sie wandelt den Rückgabewert in eine Exception um\n",
    "\n",
    "    ### Was ist der Stack?\n",
    "    - [x] Eine Datenstruktur, die Funktionsaufrufe speichert\n",
    "    - [ ] Eine Liste aller Variablen im Programm\n",
    "    - [ ] Ein spezieller Datentyp für Schleifen\n",
    "    - [ ] Eine Art von Exception\n",
    "\n",
    "    ### Was ist der Heap?\n",
    "    - [x] Ein Speicherbereich für dynamisch erzeugte Objekte\n",
    "    - [ ] Eine spezielle Art von Schleife\n",
    "    - [ ] Ein Datentyp für Zahlen\n",
    "    - [ ] Ein Bereich für globale Variablen\n",
    "\n",
    "    ### Was ist der Unterschied zwischen Stack und Heap?\n",
    "    - [x] Stack speichert Funktionsaufrufe, Heap dynamisch erzeugte Objekte\n",
    "    - [ ] Stack ist schneller, Heap langsamer\n",
    "    - [ ] Stack ist für Schleifen, Heap für Bedingungen\n",
    "    - [ ] Stack ist für globale Variablen, Heap für lokale\n",
    "    \n",
    "```"
   ]
  },
  {
   "cell_type": "markdown",
   "metadata": {
    "editable": true,
    "slideshow": {
     "slide_type": "slide"
    },
    "tags": [
     "remove-cell"
    ]
   },
   "source": [
    "<div class=\"vslide\">\n",
    "  <div class=\"vslide-title\">\n",
    "    <p style=\"font-family: Protomolecule; font-size: 2.3em; margin: 0px auto; text-align: center; width: 100%;\">fragen?</p>\n",
    "  </div>\n",
    "  <script>setSectionBackground('#000000', 'images/mj_questions.mp4');</script>\n",
    "</div>"
   ]
  }
 ],
 "metadata": {
  "kernelspec": {
   "display_name": "Python 3 (ipykernel)",
   "language": "python",
   "name": "python3"
  },
  "language_info": {
   "codemirror_mode": {
    "name": "ipython",
    "version": 3
   },
   "file_extension": ".py",
   "mimetype": "text/x-python",
   "name": "python",
   "nbconvert_exporter": "python",
   "pygments_lexer": "ipython3",
   "version": "3.11.6"
  },
  "rise": {
   "auto_select": "none",
   "center": false,
   "enable_chalkboard": true,
   "header": "<img src=\"images/pd_logo.svg\" class=\"header_title_logo\"><img src=\"images/ai4sc_logo_v2.svg\" class=\"header_ai4sc_logo\">",
   "scroll": true,
   "show_buttons_on_startup": false,
   "slideNumber": true,
   "theme": "white"
  },
  "vscode": {
   "interpreter": {
    "hash": "6d5b4c1aed727cf1aeefa5ce625efdd40a732dd8ec11ef525b58c5aca2b06a32"
   }
  }
 },
 "nbformat": 4,
 "nbformat_minor": 4
}
