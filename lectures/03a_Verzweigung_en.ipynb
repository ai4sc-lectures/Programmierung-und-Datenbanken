{
 "cells": [
  {
   "cell_type": "markdown",
   "id": "75504d046ff247729a7da2e17333849d",
   "metadata": {
    "slideshow": {
     "slide_type": "skip"
    },
    "tags": [
     "translated_en"
    ],
    "translation": {
     "lang": "de",
     "src_hash": "4cdc36b00897e87fc1cab2eb78b5ec2fa93b5f2ee2b5fabb99d6d4b191c361b5",
     "updated_at_iso": "2025-08-16T15:16:39.569878+00:00"
    }
   },
   "source": [
    "# Branching"
   ]
  },
  {
   "cell_type": "markdown",
   "id": "117bb5eb4cfe4838adcb09191c884ead",
   "metadata": {
    "slideshow": {
     "slide_type": "skip"
    },
    "tags": [
     "translated_en"
    ],
    "translation": {
     "lang": "de",
     "src_hash": "6dfc22fd5a0b2dcac7a1c5022b4585983049a4436bba83b92a68da82f8311494",
     "updated_at_iso": "2025-08-16T15:16:45.263513+00:00"
    }
   },
   "source": [
    "<figure class=\"mj-tile-band\">\n",
    "<img src='images/03a_Verzweigung/mj_title_band.jpg'>\n",
    "<figcaption>Midjourney: Red or Blue Pill, ref. Leonardo da Vinci</figcaption>\n",
    "</figure>\n",
    "\n",
    "> When you come to a fork in the road, take it. \n",
    ">\n",
    "> — Yogi Berra"
   ]
  },
  {
   "cell_type": "markdown",
   "id": "0925eed229e540608c130cdcbe80e4da",
   "metadata": {
    "editable": true,
    "slideshow": {
     "slide_type": "skip"
    },
    "tags": [
     "translated_en"
    ],
    "translation": {
     "lang": "de",
     "src_hash": "f6bfd3cbde110c1234dbc96e634cac49b432c363689a971d360c327527dfafd5",
     "updated_at_iso": "2025-08-16T15:16:48.926173+00:00"
    }
   },
   "source": [
    "## <a href=\"../lec_slides/03a_Verzweigung.slides.html\">Slides</a>/<a href=\"../pdf/slides/03a_Verzweigung.pdf\">PDF</a>\n",
    "<iframe src=\"../lec_slides/03a_Verzweigung.slides.html\" width=\"750\" height=\"500\"></iframe>"
   ]
  },
  {
   "cell_type": "markdown",
   "id": "0fa55a6ec11d45b88b7448309d7ff241",
   "metadata": {
    "editable": true,
    "slideshow": {
     "slide_type": "skip"
    },
    "tags": [
     "translated_en"
    ],
    "translation": {
     "lang": "de",
     "src_hash": "95bb3d87dae3562eb92ea78630758d11cb98573287bfd536310682d3843adeef",
     "updated_at_iso": "2025-08-16T15:16:52.304612+00:00"
    }
   },
   "source": [
    "## Conditional branching"
   ]
  },
  {
   "cell_type": "markdown",
   "id": "a625a4f9200247cf83b2e1750c6956c6",
   "metadata": {
    "editable": true,
    "slideshow": {
     "slide_type": "skip"
    },
    "tags": [
     "translated_en"
    ],
    "translation": {
     "lang": "de",
     "src_hash": "2ad7775e113f5783bea3b9420aacd6f806808d2ba4cb6244bf77e3a3a7d2d141",
     "updated_at_iso": "2025-08-16T15:16:57.749261+00:00"
    }
   },
   "source": [
    "A computer often has to decide how information should be processed. To do this, the program must be able to execute certain statements or parts of the program only under certain conditions. For this purpose, all programming languages provide the concept of branching."
   ]
  },
  {
   "cell_type": "markdown",
   "id": "ccdb4fa2f51f4c9a823d817a5243f07f",
   "metadata": {
    "editable": true,
    "slideshow": {
     "slide_type": "skip"
    },
    "tags": [
     "translated_en"
    ],
    "translation": {
     "lang": "de",
     "src_hash": "39db66b02b12e22c8667130b91a3a4383e264a060af620e3bc1c91fd97f9c613",
     "updated_at_iso": "2025-08-16T15:17:06.783719+00:00"
    }
   },
   "source": [
    "The simplest form of branching is conditional branching, which executes a block of code only when a logical condition is met. In Python, the `if` statement (If-Then) is provided for this purpose, which precedes a statement that is executed only if the condition is met. It is common to write the statements on a new line. Then *they must* be indented."
   ]
  },
  {
   "cell_type": "code",
   "execution_count": null,
   "id": "26b5a6e77b4e4107b740c12af603cbc1",
   "metadata": {
    "editable": true,
    "slideshow": {
     "slide_type": "skip"
    },
    "tags": [
     "translated_en"
    ],
    "translation": {
     "lang": "de",
     "src_hash": "5658f126b74d96c5af7fad7c714381af8b86443fa9f4577c8cff5788e5b34937",
     "updated_at_iso": "2025-08-16T15:17:19.147205+00:00"
    }
   },
   "outputs": [],
   "source": [
    "condition = True\n",
    "if condition:\n",
    "    # will only execute if condition is True\n",
    "    print(f\"Der Block mit 'bedingung={condition}' wurde ausgeführt. 1\")\n",
    "\n",
    "condition = False\n",
    "if condition:\n",
    "    # will only execute if condition is True\n",
    "    print(f\"Der Block mit 'bedingung={condition}' wurde ausgeführt. 2\")"
   ]
  },
  {
   "cell_type": "markdown",
   "id": "d18595b5f2dd47aa812b546e1e95c853",
   "metadata": {
    "editable": true,
    "slideshow": {
     "slide_type": "skip"
    },
    "tags": [
     "translated_en"
    ],
    "translation": {
     "lang": "de",
     "src_hash": "c24243e8a5f7ff47f9372b017608d129012b6c5cf39012a13852273f27f28608",
     "updated_at_iso": "2025-08-16T15:17:25.949107+00:00"
    }
   },
   "source": [
    "::: {info} In English-language publications in computer science, the word `iff` is often used in writing as well, which stands for 'if-and-only-if' and explicitly indicates that a strict logical statement is being made and that a natural-language, informal 'if' is not used. :::"
   ]
  },
  {
   "cell_type": "markdown",
   "id": "cc82771313154b18927aa8c7c853ee22",
   "metadata": {
    "slideshow": {
     "slide_type": "skip"
    },
    "tags": [
     "translated_en"
    ],
    "translation": {
     "lang": "de",
     "src_hash": "782e94de2c31bd250590f36bcc2b4436a17cacba6c7534242f476fe3595eab46",
     "updated_at_iso": "2025-08-16T15:17:30.273557+00:00"
    }
   },
   "source": [
    "With the logical operator `not`, you can negate the conditions and combine them with `and`, `or`, and parentheses."
   ]
  },
  {
   "cell_type": "code",
   "execution_count": null,
   "id": "e7422c2b58a54f3f82227e22df5163df",
   "metadata": {
    "slideshow": {
     "slide_type": "skip"
    },
    "tags": [
     "translated_en"
    ],
    "translation": {
     "lang": "de",
     "src_hash": "80c2d52d65bd168e8b74d86c05a177982e7b6768eb6c6ec9788533f0364dd1b0",
     "updated_at_iso": "2025-08-16T15:17:47.368779+00:00"
    }
   },
   "outputs": [],
   "source": [
    "condition = True\n",
    "if not condition:\n",
    "    # is only executed when the condition is True\n",
    "    print(f\"Der Block mit 'bedingung={condition}' wurde ausgeführt.\")\n",
    "\n",
    "condition = 0\n",
    "if condition:\n",
    "    # is only executed if the condition is equivalent to True\n",
    "    print(f\"Der Block mit 'bedingung'={condition} wurde ausgeführt.\")\n",
    "\n",
    "condition = 2\n",
    "if condition:\n",
    "    # is only executed if the condition is equivalent to True\n",
    "    print(f\"Der Block mit 'bedingung'={condition} wurde ausgeführt.\")\n",
    "\n",
    "if not condition:\n",
    "    # is only executed when the condition is True\n",
    "    print(f\"Der Block mit 'bedingung={condition}' wurde ausgeführt.\")"
   ]
  },
  {
   "cell_type": "markdown",
   "id": "690b4051c5be46678d94465349e32465",
   "metadata": {
    "slideshow": {
     "slide_type": "skip"
    },
    "tags": [
     "translated_en"
    ],
    "translation": {
     "lang": "de",
     "src_hash": "64607fa8ee1eaec06cf381c363001d311964288d8edba4ef19b89d701549ed83",
     "updated_at_iso": "2025-08-16T15:17:52.855277+00:00"
    }
   },
   "source": [
    "Strings that are empty and have length 0 correspond to the boolean value `False`, and non-empty strings correspond to the boolean value `True`."
   ]
  },
  {
   "cell_type": "code",
   "execution_count": null,
   "id": "227da625bf5247fa93a18e4587d24452",
   "metadata": {
    "slideshow": {
     "slide_type": "skip"
    },
    "tags": [
     "translated_en"
    ],
    "translation": {
     "lang": "de",
     "src_hash": "f04d4ad501a119a80fb1e243856f39164a3588514512e352332e4b9e72cb1e34",
     "updated_at_iso": "2025-08-16T15:18:00.744979+00:00"
    }
   },
   "outputs": [],
   "source": [
    "condition = ''  # empty string\n",
    "if condition:\n",
    "    # will only execute when the condition evaluates to True\n",
    "    print(f\"The block with 'condition'={condition} was executed.\")\n",
    "\n",
    "condition = ' '\n",
    "if condition:\n",
    "    # will only execute when the condition evaluates to True\n",
    "    print(f\"The block with 'condition'={condition} was executed.\")"
   ]
  },
  {
   "cell_type": "markdown",
   "id": "ad77513160dc4fd1b2ad4c88736fbf18",
   "metadata": {
    "slideshow": {
     "slide_type": "skip"
    },
    "tags": [
     "translated_en"
    ],
    "translation": {
     "lang": "de",
     "src_hash": "948b5b0bafc28ff6417177cc92276354471a8079ca032d5493c3748e7e8cb5ff",
     "updated_at_iso": "2025-08-16T15:18:06.103680+00:00"
    }
   },
   "source": [
    "The same applies to lists and dictionaries when they are empty (`False`) or filled (`True`)."
   ]
  },
  {
   "cell_type": "code",
   "execution_count": null,
   "id": "e012a097b4ce448abb2aaf7805e5595e",
   "metadata": {
    "slideshow": {
     "slide_type": "skip"
    },
    "tags": [
     "translated_en"
    ],
    "translation": {
     "lang": "de",
     "src_hash": "d040e1c3379c6acb4eb3d10da73bc19eb394c80b852a58df2f7fc63dae784216",
     "updated_at_iso": "2025-08-16T15:18:16.025348+00:00"
    }
   },
   "outputs": [],
   "source": [
    "condition = []  # empty list\n",
    "if condition:\n",
    "    # will only be executed when the condition evaluates to True\n",
    "    print(f\"Der Block mit 'bedingung'={condition} wurde ausgeführt.\")\n",
    "\n",
    "condition = ['nicht_leer']  # non-empty list\n",
    "if condition:\n",
    "    # will only be executed when the condition evaluates to True\n",
    "    print(f\"Der Block mit 'bedingung'={condition} wurde ausgeführt.\")"
   ]
  },
  {
   "cell_type": "markdown",
   "id": "0f3815270e0441cabd84a6fd877ca6d2",
   "metadata": {
    "slideshow": {
     "slide_type": "skip"
    },
    "tags": [
     "translated_en"
    ],
    "translation": {
     "lang": "de",
     "src_hash": "2e3bc2f222dcc034650e170cb10998a807171ed1a0f608ab7403d89f8f66ca2d",
     "updated_at_iso": "2025-08-16T15:18:23.128357+00:00"
    }
   },
   "source": [
    "That makes it easy to quickly check in code whether, for example, a list already contains elements and whether they should be processed further.\n",
    "\n",
    "For more complex data types, such as objects that can take the value None, this value is interpreted as False, and everything else as True, which in turn lets you check whether the variable has already been set."
   ]
  },
  {
   "cell_type": "code",
   "execution_count": null,
   "id": "a1bdb60e47eb4504ad8a9304936a1de9",
   "metadata": {
    "slideshow": {
     "slide_type": "skip"
    },
    "tags": [
     "translated_en"
    ],
    "translation": {
     "lang": "de",
     "src_hash": "f6c9fcb8e9fd1425d83fd2e164cd1e9c4d9e07203aa63cc4dbb4c561eadffc0e",
     "updated_at_iso": "2025-08-16T15:18:41.775557+00:00"
    }
   },
   "outputs": [],
   "source": [
    "condition=None  # not set\n",
    "if condition:\n",
    "    # will only execute if the condition is truthy\n",
    "    print(f\"Der Block mit 'bedingung'={condition} wurde ausgeführt.\")\n",
    "\n",
    "condition=\"nicht_None\"  # set\n",
    "if condition:\n",
    "    # will only execute if the condition is truthy\n",
    "    print(f\"Der Block mit 'bedingung'={condition} wurde ausgeführt.\")\n",
    "\n",
    "condition=None  # not set\n",
    "if condition is not None:\n",
    "    # will only execute if the condition is truthy\n",
    "    print(f\"Der Block mit 'bedingung'={condition} wurde ausgeführt.\")\n",
    "\n",
    "condition=\"nicht_None\"  # set\n",
    "if condition is not None:\n",
    "    # will only execute if the condition is truthy\n",
    "    print(f\"Der Block mit 'bedingung'={condition} wurde ausgeführt.\")"
   ]
  },
  {
   "cell_type": "markdown",
   "id": "4559ebb389f64da88776ddfd3b9b62bc",
   "metadata": {
    "slideshow": {
     "slide_type": "skip"
    },
    "tags": [
     "translated_en"
    ],
    "translation": {
     "lang": "de",
     "src_hash": "e74ee2d70bad0531bcfda087711ecca6fca8b9a9cd59c4aa6087c9784f9dc4a7",
     "updated_at_iso": "2025-08-16T15:18:43.558314+00:00"
    }
   },
   "source": [
    "## The Alternative"
   ]
  },
  {
   "cell_type": "markdown",
   "id": "b0c387a6795a43408cfedb8f41bffb4d",
   "metadata": {
    "slideshow": {
     "slide_type": "skip"
    },
    "tags": [
     "translated_en"
    ],
    "translation": {
     "lang": "de",
     "src_hash": "09ca1a8a2f5eee34338b3781ef82b0acc3b1a054afd90ba85fb9236e4b2d1b53",
     "updated_at_iso": "2025-08-16T15:18:49.590669+00:00"
    }
   },
   "source": [
    "It often happens that not only something should be executed when the condition is true, but in the other case something should also be executed. For this there is the `else` statement, which may only follow an `if` and, when there are multiple lines, must be indented at the same level as the `if` it belongs to."
   ]
  },
  {
   "cell_type": "code",
   "execution_count": null,
   "id": "024d0623370542ab8e09dbdf49e4eb47",
   "metadata": {
    "slideshow": {
     "slide_type": "skip"
    },
    "tags": [
     "translated_en"
    ],
    "translation": {
     "lang": "de",
     "src_hash": "72d2b766d72aac912a51e4513cbb1207acfe61fe41714c3ea1f9193613b7a184",
     "updated_at_iso": "2025-08-16T15:19:06.419038+00:00"
    }
   },
   "outputs": [],
   "source": [
    "condition = True\n",
    "if condition:\n",
    "    # is only executed when Condition is True\n",
    "    print(f\"Der Block mit 'bedingung={condition}' wurde ausgeführt.\")\n",
    "else:\n",
    "    # is only executed when Condition is False\n",
    "    print(f\"Der alternative Block mit 'bedingung={condition}' wurde ausgeführt.\")"
   ]
  },
  {
   "cell_type": "code",
   "execution_count": null,
   "id": "d591cbb257ff45e0b2dde82c52ab8c9e",
   "metadata": {
    "slideshow": {
     "slide_type": "skip"
    },
    "tags": [
     "translated_en"
    ],
    "translation": {
     "lang": "de",
     "src_hash": "c7c7bde6364ff2f0f0af6c6b13f10c13c39bcf33e57eee733b2217e2e057ec96",
     "updated_at_iso": "2025-08-16T15:19:10.964699+00:00"
    }
   },
   "outputs": [],
   "source": [
    "condition = False\n",
    "if condition:\n",
    "    # is only executed when the condition is True\n",
    "    print(f\"Der Block mit 'condition={condition}' wurde ausgeführt.\")\n",
    "else:\n",
    "    # is only executed when the condition is False\n",
    "    print(f\"Der alternative Block mit 'condition={condition}' wurde ausgeführt.\")"
   ]
  },
  {
   "cell_type": "markdown",
   "id": "16c1a443a3ba4b55b5f9dd8cbd953017",
   "metadata": {
    "slideshow": {
     "slide_type": "skip"
    },
    "tags": [
     "translated_en"
    ],
    "translation": {
     "lang": "de",
     "src_hash": "405c0fa7782ab42e1a05c623fe406958c9d09e35e40e249e09b80b18f782c5c6",
     "updated_at_iso": "2025-08-16T15:19:16.329788+00:00"
    }
   },
   "source": [
    "A typical example is catching division by zero. In computations you cannot always guarantee that the denominator will not be zero. Since division by zero is undefined, it can lead to a program error and, possibly, a program crash."
   ]
  },
  {
   "cell_type": "code",
   "execution_count": null,
   "id": "b271a5d8511443e191b94fde70aa6ac3",
   "metadata": {
    "editable": true,
    "slideshow": {
     "slide_type": "skip"
    },
    "tags": [
     "raises-exception",
     "translated_en"
    ],
    "translation": {
     "lang": "de",
     "src_hash": "abc6f4d7bbaca0c954da2a3d67d90c18095a78efc9ce28dafa5f21f6d93ff324",
     "updated_at_iso": "2025-08-16T15:19:18.839895+00:00"
    }
   },
   "outputs": [],
   "source": [
    "numerator = 5\n",
    "denominator = 0\n",
    "result = numerator / denominator"
   ]
  },
  {
   "cell_type": "markdown",
   "id": "db3ffb0e231a49ba9b56d5abca0720df",
   "metadata": {
    "slideshow": {
     "slide_type": "skip"
    },
    "tags": [
     "translated_en"
    ],
    "translation": {
     "lang": "de",
     "src_hash": "7dfe16a5aa48b5390c5063e17b3c0b3e428bd191d90a151bb66f42e583e51cc2",
     "updated_at_iso": "2025-08-16T15:19:23.269134+00:00"
    }
   },
   "source": [
    "To handle this, we can use an `if-else` branch and assign the result the value `None` (in the sense of 'undefined')."
   ]
  },
  {
   "cell_type": "code",
   "execution_count": null,
   "id": "91dd4de4bde54fc0b16de194872a963d",
   "metadata": {
    "editable": true,
    "slideshow": {
     "slide_type": "skip"
    },
    "tags": [
     "translated_en"
    ],
    "translation": {
     "lang": "de",
     "src_hash": "13c1b8a54488c9ba2a0f9d5a4d24d4336198a11ce2c8e6e1fdb7dbda5d1da0d0",
     "updated_at_iso": "2025-08-16T15:19:40.418560+00:00"
    }
   },
   "outputs": [],
   "source": [
    "denominator = 0\n",
    "if denominator:  # the truth value of an int is False for 0 and True for values not equal to 0\n",
    "\tresult = numerator / denominator\n",
    "else:\n",
    "\tprint(\"Teilung durch 0\")\n",
    "\tresult = None\n",
    "print(f\"Das Ergebnis von {numerator}/{denominator} = {result}\")"
   ]
  },
  {
   "cell_type": "markdown",
   "id": "8d2ac1d66dc54f479fc1effae4beee79",
   "metadata": {
    "slideshow": {
     "slide_type": "skip"
    },
    "tags": [
     "translated_en"
    ],
    "translation": {
     "lang": "de",
     "src_hash": "600ffd3ec25fcda8824b64a423679b1c4c458feca94329cf5df83803f1084252",
     "updated_at_iso": "2025-08-16T15:19:47.949569+00:00"
    }
   },
   "source": [
    "Since, with Python's dynamic typing, you cannot guarantee that `zaehler` and `nenner` are of the correct data type `int`, it makes sense to add a type check. For this, we first check the data type with the built-in function `type()` before performing the zero-division check. For this, we nest the `if-else` conditions."
   ]
  },
  {
   "cell_type": "code",
   "execution_count": null,
   "id": "816982a24c304f969acb1e31a1ddf6c7",
   "metadata": {
    "slideshow": {
     "slide_type": "skip"
    },
    "tags": [
     "translated_en"
    ],
    "translation": {
     "lang": "de",
     "src_hash": "3e1f3ab107b91610323bfa2e5902aa8c02893c05ecf345905211d4ba61f57f32",
     "updated_at_iso": "2025-08-16T15:19:58.022399+00:00"
    }
   },
   "outputs": [],
   "source": [
    "numerator = 'keine_zahl'\n",
    "denominator = 0\n",
    "if type(numerator) == int:\n",
    "    if type(denominator) == int:\n",
    "        if denominator:  # the truth value of an int is False for 0 and True for != 0\n",
    "            result = numerator / denominator\n",
    "        else:\n",
    "            print(\"Division by zero\")\n",
    "            result = None\n",
    "    else:\n",
    "        print(f\"Denominator not of type `int`, but of type {type(denominator)}\")\n",
    "        result = None\n",
    "else:\n",
    "    print(f\"Numerator not of type `int`, but of type {type(numerator)}\")\n",
    "    result = None\n",
    "\n",
    "print(f\"The result of {numerator}/{denominator} = {result}\")"
   ]
  },
  {
   "cell_type": "markdown",
   "id": "4bea79153b884cb29fac3274d6f08214",
   "metadata": {
    "slideshow": {
     "slide_type": "skip"
    },
    "tags": [
     "translated_en"
    ],
    "translation": {
     "lang": "de",
     "src_hash": "bc6cee4bfdf5bc35fb6a273c66bc388d62c0239bf88ab49c9c1524661aac2915",
     "updated_at_iso": "2025-08-16T15:20:04.335571+00:00"
    }
   },
   "source": [
    "## Branching Alternatives"
   ]
  },
  {
   "cell_type": "markdown",
   "id": "8eee2e7cca4d46ca877f2eaffa682513",
   "metadata": {
    "slideshow": {
     "slide_type": "skip"
    },
    "tags": [
     "translated_en"
    ],
    "translation": {
     "lang": "de",
     "src_hash": "79d65cc017fef077f0bedb15807808c5366b57ff5a9dd5382cb01800f7d85bbb",
     "updated_at_iso": "2025-08-16T15:20:10.133998+00:00"
    }
   },
   "source": [
    "If there are multiple nested alternatives as in the last example, the code quickly becomes hard to read and you need a more compact syntax. For this, Python has the `elif` statement, which is simply a shorthand for `else if` and does not require any further indentation. This way, you can write the previous code more readably as:"
   ]
  },
  {
   "cell_type": "code",
   "execution_count": null,
   "id": "2e49d5cdf5ff4048883cc79ca0228a67",
   "metadata": {
    "slideshow": {
     "slide_type": "skip"
    },
    "tags": [
     "translated_en"
    ],
    "translation": {
     "lang": "de",
     "src_hash": "b0df9baf1e44617440f2f37f9c06f9edc35590ac5ebd9774f17098be98a2c58a",
     "updated_at_iso": "2025-08-16T15:20:20.961642+00:00"
    }
   },
   "outputs": [],
   "source": [
    "numerator = 'keine_zahl'\n",
    "denominator = 0\n",
    "result = None\n",
    "if not isinstance(denominator, int):\n",
    "    print(f\"Nenner nicht vom Datentyp `int`, sondern vom Typ {type(denominator)}\")\n",
    "elif not isinstance(numerator, int):\n",
    "    print(f\"Zaehler nicht vom Datentyp `int`, sondern vom Typ {type(numerator)}\")\n",
    "elif not denominator:\n",
    "    print(\"Teilung durch 0\")\n",
    "else:\n",
    "    result = numerator / denominator\n",
    "\n",
    "print(f\"Das Ergebnis von {numerator}/{denominator} = {result}\")"
   ]
  },
  {
   "cell_type": "markdown",
   "id": "f763ff029ff84eada132a79ddf38517f",
   "metadata": {
    "slideshow": {
     "slide_type": "skip"
    },
    "tags": [
     "translated_en"
    ],
    "translation": {
     "lang": "de",
     "src_hash": "1ae48bde1266a869660eaa2dcfa6a374c1b2d85e3abe30ecd3c75b47141e6123",
     "updated_at_iso": "2025-08-16T15:20:29.710986+00:00"
    }
   },
   "source": [
    "Here, we have:\n",
    "- first, the condition `type(zaehler) == int` replaced by the standard function `isinstance(zaehler, int)` which is identical and easier to read.\n",
    "- we have addressed all error cases first, to ensure they are checked before executing the calculation\n",
    "- thus we first check whether the `zaehler` is not of type `int` and in this case output an error message\n",
    "- if that is not the case, then `nenner` could not be of type `int` and we would in this case output a different error message\n",
    "- then the `nenner` must be of type `int` and we check whether it is 0 with an appropriate error message\n",
    "- since in all three cases the `ergebnis` has the value `None`, we set this assignment before the `if` block\n",
    "- the last `else` block is only reached if none of this applies, i.e., `zaehler` and `nenner` are of type `int` and `nenner` is not 0. Only in this case is `ergebnis` assigned the value of the division"
   ]
  },
  {
   "cell_type": "markdown",
   "id": "f854c8c535ba458885b7a8731806706f",
   "metadata": {
    "editable": true,
    "slideshow": {
     "slide_type": "skip"
    },
    "tags": [
     "translated_en"
    ],
    "translation": {
     "lang": "de",
     "src_hash": "6f398ed6c03e13689f5fd5bdaf0b947eca124713d813feae14194654dd592c78",
     "updated_at_iso": "2025-08-16T15:20:40.833753+00:00"
    }
   },
   "source": [
    "<div class=\"alert alert-block alert-info\">\n",
    "    <b>ℹ️ Info:</b> Here it should be noted that we deliberately moved the error message \"Division by zero\" to the end. It would also be possible to start with the condition `if not nenner` in the original order. However, there is a risk that, due to the truth values of other data types, e.g., an empty list, this condition would be satisfied. We would therefore get an incorrect error message displayed (\"Division by zero\" instead of \"denominator of type `int`\"), as shown in the following example. This is one of the typical dangers of dynamically typed languages. Therefore, type checks should always be performed first.\n",
    "</div>"
   ]
  },
  {
   "cell_type": "code",
   "execution_count": null,
   "id": "fe02d0e27eff474f8f772569592dba98",
   "metadata": {
    "editable": true,
    "slideshow": {
     "slide_type": "skip"
    },
    "tags": [
     "translated_en"
    ],
    "translation": {
     "lang": "de",
     "src_hash": "6efc00381112b1e17793c4620dddc75004559e1b7edecc622e6a99429f46ed37",
     "updated_at_iso": "2025-08-16T15:20:50.203357+00:00"
    }
   },
   "outputs": [],
   "source": [
    "numerator = 10\n",
    "denominator = []\n",
    "result = None\n",
    "if not denominator:\n",
    "    print(\"Teilung durch 0\")\n",
    "elif not isinstance(denominator, int):\n",
    "    print(f\"Nenner nicht vom Datentyp `int`, sondern vom Typ {type(denominator)}\")\n",
    "elif not isinstance(numerator, int):\n",
    "    print(f\"Zaehler nicht vom Datentyp `int`, sondern vom Typ {type(numerator)}\")\n",
    "else:\n",
    "    result = numerator / denominator\n",
    "\n",
    "print(f\"Das Ergebnis von {numerator}/{denominator} = {result}\")"
   ]
  },
  {
   "cell_type": "markdown",
   "id": "dc9a67c2f99940979f134cbca1bf66c2",
   "metadata": {
    "editable": true,
    "slideshow": {
     "slide_type": "slide"
    },
    "tags": [
     "remove-cell",
     "translated_en"
    ],
    "translation": {
     "lang": "de",
     "src_hash": "b055c4341e21770d60e5d2b13a495752173f5570147a935c51e360d2950fec75",
     "updated_at_iso": "2025-08-16T15:21:04.565405+00:00"
    }
   },
   "source": [
    "<div class=\"vslide\">\n",
    "  <div class=\"vslide-title\">\n",
    "    <p style=\"font-family: Protomolecule; font-size: 2.3em; line-height: 90%; margin: 0px auto; text-align: center; width: 100%;\"><span style=\"letter-spacing: .04rem;\">Programming</span><br><span style=\"letter-spacing: .0rem;\">and databases</span></p>\n",
    "<p class=\"author\" style=\"font-family: Protomolecule; margin: 0px auto;  text-align: center; width: 100%; font-size: 1.2em;\">Joern Ploennigs</p>\n",
    "<p class=\"subtitle\" style=\"font-family: Protomolecule; margin: 1em auto; text-align: center; width: 100%; font-size: 1.2em;\">Branching</p>\n",
    "    <figcaption>Midjourney: Red or Blue Pill, ref. Leonardo da Vinci</figcaption>\n",
    "  </div>\n",
    "<script>\n",
    "  function setSectionBackground(c, v, w){\n",
    "    let e = document.currentScript.previousElementSibling;\n",
    "    while (e && e.tagName !== 'SECTION') e = e.parentElement;\n",
    "    if (!e) return;\n",
    "    if (c) e.setAttribute('data-background-color', c);\n",
    "    if (v) {\n",
    "      e.setAttribute('data-background-video', v);\n",
    "      e.setAttribute('data-background-video-loop', 'true');\n",
    "      e.setAttribute('data-background-video-muted', 'true');\n",
    "    }\n",
    "    if (w) {\n",
    "      const d = e.querySelector('div');\n",
    "      if (d) d.style.backgroundColor = 'rgba(255,255,255,0.6)';\n",
    "    }\n",
    "  }\n",
    "  setSectionBackground('#000000', 'images/03a_Verzweigung/mj_title.mp4');\n",
    "</script>\n",
    "<style>\n",
    ".flex-row{display:flex; gap:2rem; align-items:flex-start; justify-content:space-between;}\n",
    ".flex-row .col1{flex:1; min-width:10px}\n",
    ".flex-row .col2{flex:2; min-width:10px}\n",
    ".flex-row .col3{flex:3; min-width:10px}\n",
    ".flex-row .col4{flex:4; min-width:10px}\n",
    ".flex-row .col5{flex:5; min-width:10px}\n",
    ".flex-row .col6{flex:6; min-width:10px}\n",
    ".flex-row .col7{flex:7; min-width:10px}\n",
    ".vcent{display:flex; align-items:center; justify-content:center}\n",
    "</style>\n",
    "</div>"
   ]
  },
  {
   "cell_type": "markdown",
   "id": "a0d079a0c5d54fbbaae57abbc8b3d8eb",
   "metadata": {
    "jp-MarkdownHeadingCollapsed": true,
    "slideshow": {
     "slide_type": "slide"
    },
    "tags": [
     "remove-cell",
     "translated_en"
    ],
    "translation": {
     "lang": "de",
     "src_hash": "713bea4d88df0c1dabd9f1a7de5f9dfbde9e125a22daa59f11ec200a910d49ec",
     "updated_at_iso": "2025-08-16T15:21:07.701813+00:00"
    }
   },
   "source": [
    "## Process\n",
    "\n",
    "![](images/partA_4.svg)"
   ]
  },
  {
   "cell_type": "markdown",
   "id": "772f3cd793aa40f8bc813b4d7663fc00",
   "metadata": {
    "slideshow": {
     "slide_type": "slide"
    },
    "tags": [
     "remove-cell",
     "translated_en"
    ],
    "translation": {
     "lang": "de",
     "src_hash": "610799950b0b1cae8dd6ea5ea5a0001017c137f078010c30cb57b2f05849e653",
     "updated_at_iso": "2025-08-16T15:21:21.793995+00:00"
    }
   },
   "source": [
    "## Conditional Branching\n",
    "\n",
    "- We can use control statements that, based on a condition, branch to a particular statement.\n",
    "\n",
    "- These conditions are statements whose output is a boolean value (True or False):\n",
    "    - `True` - Boolean values\n",
    "    - `a` - Variable values, if a has been assigned a boolean, i.e., the boolean equivalent of a\n",
    "    - `2 < 5` - All comparison operators"
   ]
  },
  {
   "cell_type": "markdown",
   "id": "e0bd7eda468248f5a36e6556208ec08f",
   "metadata": {
    "slideshow": {
     "slide_type": "subslide"
    },
    "tags": [
     "remove-cell",
     "translated_en"
    ],
    "translation": {
     "lang": "de",
     "src_hash": "53cd19fa3c55f31571edca062f8e9ebee9203077827bb23869b772190e66202a",
     "updated_at_iso": "2025-08-16T15:21:37.715591+00:00"
    }
   },
   "source": [
    "## If … Then …\n",
    "\n",
    "- The basic form of such branching is:\n",
    "  > \"If the condition is true, then execute the following statements.\"\n",
    "\n",
    "- There is often also an \"else\" that executes the following statement instead.\n",
    "\n",
    "- Python has three branching statements:\n",
    "    - `if` - if\n",
    "    - `else` - else  \n",
    "    - `elif` - short for else-if"
   ]
  },
  {
   "cell_type": "markdown",
   "id": "7a02954629684ad4a442791714ddfcb6",
   "metadata": {
    "slideshow": {
     "slide_type": "subslide"
    },
    "tags": [
     "remove-cell",
     "translated_en"
    ],
    "translation": {
     "lang": "de",
     "src_hash": "fc10458132978d5ff525650a106cce22f21cdac2fabc61cc4a8a35c39da48a1e",
     "updated_at_iso": "2025-08-16T15:21:44.576918+00:00"
    }
   },
   "source": [
    "## If Statement\n",
    "\n",
    "- The if statement is needed to start a conditional branch.\n",
    "\n",
    "- Important: The conditional code block must be indented\n",
    "\n",
    "```python\n",
    "if Condition:\n",
    "    # then execute the following block only if the condition is true\n",
    "    Statement1\n",
    "    Statement2\n",
    "    # ...\n",
    "```\n",
    "\n",
    "If the condition is `True`, the indented statements will be executed."
   ]
  },
  {
   "cell_type": "markdown",
   "id": "d4e52087803d4fdeb149b3898136f3c2",
   "metadata": {
    "slideshow": {
     "slide_type": "subslide"
    },
    "tags": [
     "remove-cell",
     "translated_en"
    ],
    "translation": {
     "lang": "de",
     "src_hash": "05b700960f518332220213aa8a08bb77e9ea8c3b4056f8b8163249f0a2b2100b",
     "updated_at_iso": "2025-08-16T15:21:54.907056+00:00"
    }
   },
   "source": [
    "## Example: Using an if statement to skip code\n",
    "\n",
    "```python\n",
    "activateOutput = True\n",
    "a = 10\n",
    "b = 13\n",
    "c = math.sqrt(a**2 + b**2) # Pythagoras\n",
    "\n",
    "if activateOutput:\n",
    "    print(\"Seitenlänge:\" + str(c))\n",
    "    umfang = a + b + c\n",
    "    # ...\n",
    "```"
   ]
  },
  {
   "cell_type": "markdown",
   "id": "4dd737598e234b67976575831c876ad2",
   "metadata": {
    "slideshow": {
     "slide_type": "subslide"
    },
    "tags": [
     "remove-cell",
     "translated_en"
    ],
    "translation": {
     "lang": "de",
     "src_hash": "4c4b4297c29226db1ff434b614ed3a2ae9f4454d027c86d41c68fd92c2f27700",
     "updated_at_iso": "2025-08-16T15:22:03.658448+00:00"
    }
   },
   "source": [
    "## Alternatives\n",
    "\n",
    "- `else` follows only after an `if`\n",
    "- Is executed when the condition specified in the `if` evaluates to false\n",
    "- Also requires indentation of the conditional code block\n",
    "\n",
    "```python\n",
    "if Condition:\n",
    "    # then execute the following block only if the condition is true\n",
    "    Statement1\n",
    "    Statement2\n",
    "    # ...\n",
    "else:\n",
    "    Statement1b\n",
    "    # ...\n",
    "```"
   ]
  },
  {
   "cell_type": "markdown",
   "id": "a9ca2d18874b46c09549362ac8116725",
   "metadata": {
    "slideshow": {
     "slide_type": "subslide"
    },
    "tags": [
     "remove-cell",
     "translated_en"
    ],
    "translation": {
     "lang": "de",
     "src_hash": "9b8f695972e7c6eeffe05dbddbf8fe395202e3fb1ed196c2db8ed3ea77bb1558",
     "updated_at_iso": "2025-08-16T15:22:09.529718+00:00"
    }
   },
   "source": [
    "### Example: Catching Division by 0 (Simple Branching)\n",
    "\n",
    "Implicit Version\n",
    "```python\n",
    "a = 5\n",
    "b = 0\n",
    "if b:  # the truth value of an int is False for 0 and True for != 0\n",
    "    c = a / b\n",
    "else:\n",
    "    print(\"Division by Zero\")\n",
    "    c = None\n",
    "```"
   ]
  },
  {
   "cell_type": "markdown",
   "id": "2259d6e5beb64873b680f19e4da41dae",
   "metadata": {
    "slideshow": {
     "slide_type": "subslide"
    },
    "tags": [
     "remove-cell",
     "translated_en"
    ],
    "translation": {
     "lang": "de",
     "src_hash": "95f3268fbbdb96155f648ff659cb5933d65b30986f0c544ddca3e8be8eec8234",
     "updated_at_iso": "2025-08-16T15:22:16.820329+00:00"
    }
   },
   "source": [
    "### Example: Catching division by zero (simple branching)\n",
    "\n",
    "Explicit version\n",
    "```python\n",
    "a = 5\n",
    "b = 0\n",
    "if b != 0: # Explicit truth value\n",
    "    c = a / b\n",
    "else:\n",
    "    print(\"Division by Zero\")\n",
    "    c = None\n",
    "```"
   ]
  },
  {
   "cell_type": "markdown",
   "id": "ab32c950df524569a3b0b3ff4c2e13c3",
   "metadata": {
    "slideshow": {
     "slide_type": "subslide"
    },
    "tags": [
     "remove-cell",
     "translated_en"
    ],
    "translation": {
     "lang": "de",
     "src_hash": "d7299f038a1056f6b41bf23518c92c116c1271425571ed7f3ba35e70aaaea359",
     "updated_at_iso": "2025-08-16T15:22:20.514009+00:00"
    }
   },
   "source": [
    "## Nested Conditionals\n",
    "\n",
    "By indenting multiple levels, we can define nested conditionals:\n",
    "\n",
    "```python\n",
    "if Condition1:\n",
    "    StatementA\n",
    "else:\n",
    "    if Condition2:\n",
    "        StatementB\n",
    "    else:\n",
    "        StatementC\n",
    "```"
   ]
  },
  {
   "cell_type": "markdown",
   "id": "5dcdaa0dbb194813800145b6d0c93b48",
   "metadata": {
    "slideshow": {
     "slide_type": "subslide"
    },
    "tags": [
     "remove-cell",
     "translated_en"
    ],
    "translation": {
     "lang": "de",
     "src_hash": "1652b045c029cc44cc5f15f3e24d44de1c6da19a424461afaec072e7e3fba935",
     "updated_at_iso": "2025-08-16T15:22:26.107062+00:00"
    }
   },
   "source": [
    "### Example: Checking the sign (Nested branching)\n",
    "\n",
    "```python\n",
    "if a < 0:\n",
    "    print(\"Number is negative\")\n",
    "else:\n",
    "    if a > 0:\n",
    "        print(\"Number is positive\")\n",
    "    else:\n",
    "        print(\"Number is zero\")\n",
    "```"
   ]
  },
  {
   "cell_type": "markdown",
   "id": "2225d53fad284de78868088bf936434a",
   "metadata": {
    "editable": true,
    "slideshow": {
     "slide_type": "slide"
    },
    "tags": [
     "remove-cell",
     "translated_en"
    ],
    "translation": {
     "lang": "de",
     "src_hash": "91ac11dc6c24bbd948cb412c7aa4c24a290306b9c0588025f6c9c9c54ecb203f",
     "updated_at_iso": "2025-08-16T15:22:32.094374+00:00"
    }
   },
   "source": [
    "## Multiple branching: ELIF statement\n",
    "\n",
    "- Instead of an `else` statement, we can use the `elif` statement, which, like `if`, has a condition.\n",
    "\n",
    "- An `elif` statement can be followed by:\n",
    "    - Another `elif` statement\n",
    "    - `else` statement - is executed when none of the previous statements were true\n",
    "    - No statement – second variant of the optional code"
   ]
  },
  {
   "cell_type": "markdown",
   "id": "f9fc3bdbd3dc498d9593404c0b99d6ee",
   "metadata": {
    "editable": true,
    "slideshow": {
     "slide_type": "subslide"
    },
    "tags": [
     "remove-cell",
     "translated_en"
    ],
    "translation": {
     "lang": "de",
     "src_hash": "16dcb9a82895449419a0aca880aba7dfde2231bdf02393e82963dd56ff7948fc",
     "updated_at_iso": "2025-08-16T15:22:36.728726+00:00"
    }
   },
   "source": [
    "### Example: Testing the sign (multi-way branching)\n",
    "\n",
    "```python\n",
    "if a < 0:\n",
    "    print(\"Number is negative\")\n",
    "elif a > 0:\n",
    "    print(\"Number is positive\")\n",
    "else:\n",
    "    print(\"Number is zero\")\n",
    "```\n",
    "\n",
    "Much cleaner and more readable than nested if-else statements!"
   ]
  },
  {
   "cell_type": "markdown",
   "id": "38fe13daf9334b3381062b1b526bcc4c",
   "metadata": {
    "editable": true,
    "slideshow": {
     "slide_type": "subslide"
    },
    "tags": [
     "translated_en"
    ],
    "translation": {
     "lang": "de",
     "src_hash": "ac185012c7be4be0ca7cf697590689422fc73998a2a9667250c341023ffece7f",
     "updated_at_iso": "2025-08-16T15:22:44.625202+00:00"
    }
   },
   "source": [
    "## Many Alternatives\n",
    "\n",
    "In Python 3.10, the match statement was introduced, which already exists in many other languages. It allows you to compare a variable against several possible values.\n",
    "\n",
    "<div class=\"flex-row\">\n",
    "<div class=\"col1\">\n",
    "    \n",
    "Traditionally (many elifs):\n",
    "```python\n",
    "if Variable == ValueA:\n",
    "    StatementA\n",
    "elif Variable == ValueB:\n",
    "    StatementB\n",
    "else:\n",
    "    StatementC\n",
    "```\n",
    "\n",
    "</div>\n",
    "<div class=\"col1\">\n",
    "\n",
    "New (match-case):\n",
    "```python\n",
    "match Variable:\n",
    "    case ValueA:\n",
    "        StatementA\n",
    "    case ValueB:\n",
    "        StatementB\n",
    "    case _:\n",
    "        StatementC\n",
    "```\n",
    "\n",
    "</div>\n",
    "</div>"
   ]
  },
  {
   "cell_type": "markdown",
   "id": "34c7df7e6503452f9d36c1bec92f281f",
   "metadata": {
    "slideshow": {
     "slide_type": "slide"
    },
    "tags": [
     "remove-cell",
     "translated_en"
    ],
    "translation": {
     "lang": "de",
     "src_hash": "2dab28b5106cd5527801577b935eee10fb216d94dba41e3874523c8b190a0a92",
     "updated_at_iso": "2025-08-16T15:22:50.141648+00:00"
    }
   },
   "source": [
    "## Lesson Learned\n",
    "<figcaption class=\"mj-slide-cap\">Midjourney: Six Sense</figcaption>\n",
    "\n",
    "<script>setSectionBackground('#66ccffff', 'images/02b_Wissenspyramide/mj_senses.mp4', true);</script>\n",
    "\n",
    "<div class=\"flex-row\">\n",
    "<div class=\"col2\">\n",
    "\n",
    "What learning styles are there?\n",
    "\n",
    "</div>\n",
    "<div class=\"col3\">\n",
    "    <!--<figure class=\"mj-fig\">\n",
    "    <video controls autoplay muted class=\"mj-fig-img\">\n",
    "      <source src=\"images/02b_Wissenspyramide/mj_senses.mp4\" type=\"video/mp4\">\n",
    "      Your browser does not support the video tag.\n",
    "    </video>\n",
    "        <figcaption class=\"mj-fig-cap\">\n",
    "            Midjourney: Six Sense\n",
    "        </figcaption>\n",
    "    </figure>-->\n",
    "  </div>\n",
    "</div>"
   ]
  },
  {
   "cell_type": "markdown",
   "id": "00d7d41783b446f59030425ed8b906ba",
   "metadata": {
    "slideshow": {
     "slide_type": "subslide"
    },
    "tags": [
     "remove-cell",
     "translated_en"
    ],
    "translation": {
     "lang": "de",
     "src_hash": "aaf011a6709b75b16d3159932b9964262bd6c028b1b6bf395f40f4ef979ff4a2",
     "updated_at_iso": "2025-08-16T15:22:59.759050+00:00"
    }
   },
   "source": [
    "## Lesson Learned - Notes\n",
    "\n",
    "<script>setSectionBackground('#66ccffff');</script>\n",
    "\n",
    "![](images/03a_Verzweigung/process.svg)\n",
    "\n",
    "- You should always take notes (because we remember written material better, both by touch and visually).\n",
    "- You should not copy the slides, but rather capture key information, terms, and questions.\n",
    "- You should take the time to review your notes, clarify questions, and structure the content yourself."
   ]
  },
  {
   "cell_type": "markdown",
   "id": "2796d2eafeff4ab99bdf7f601466c35e",
   "metadata": {
    "slideshow": {
     "slide_type": "subslide"
    },
    "tags": [
     "remove-cell",
     "translated_en"
    ],
    "translation": {
     "lang": "de",
     "src_hash": "a4f27a3967a8fdc3878bc575779b78033d665ec050c3c938357a77659d50ddcd",
     "updated_at_iso": "2025-08-16T15:23:17.237414+00:00"
    }
   },
   "source": [
    "## Follow-Up\n",
    "\n",
    "<script>setSectionBackground('#66ccffff');</script>\n",
    "\n",
    "- **S**urvey (Gain an overview): Skim through a topic to gain an overview\n",
    "- **Q**uestion (Questions): Note down questions about points you don’t understand\n",
    "- **R**ead (Read): Read through your notes; highlight keywords; research the questions\n",
    "- **R**ecite (Recall): Recapitulate each section (content, keywords, relationships). Organize the content, e.g., with mind maps. Repeat what you’ve learned multiple times (flashcards)\n",
    "- **R**eview (Recap): Mentally review the key points and answer your questions\n",
    "\n",
    "<div class=\"flex-row\">\n",
    "  <div class=\"col1\">\n",
    "\n",
    "[![https://youtu.be/n0ql-yeY9u0](https://img.youtube.com/vi/n0ql-yeY9u0/0.jpg)](https://www.youtube.com/watch?v=n0ql-yeY9u0)\n",
    "\n",
    "  </div>\n",
    "  <div class=\"col1\"> \n",
    "\n",
    "[![https://youtu.be/NONST7mwhX8](https://img.youtube.com/vi/NONST7mwhX8/0.jpg)](https://www.youtube.com/watch?v=NONST7mwhX8)\n",
    "\n",
    "  </div>\n",
    "</div>"
   ]
  },
  {
   "cell_type": "markdown",
   "id": "3e2e80f611154e3580ad3400fbcc81ad",
   "metadata": {
    "editable": true,
    "slideshow": {
     "slide_type": "skip"
    },
    "tags": [
     "translated_en"
    ],
    "translation": {
     "lang": "de",
     "src_hash": "a7dc0b9807e35ec9564602bd5946d91460094c60a82a3f54f3aad13a3ea82a8e",
     "updated_at_iso": "2025-08-16T15:24:40.773144+00:00"
    }
   },
   "source": [
    "## Quiz\n",
    "\n",
    "```{quizdown}\n",
    "\t---\n",
    "\tshuffleQuestions: true\n",
    "\tshuffleAnswers: true\n",
    "\t---\n",
    "\n",
    "    ### What does an `if` statement do in Python?\n",
    "    - [x] Executes a block when the condition is true\n",
    "    - [ ] Repeats code multiple times\n",
    "    - [ ] Terminates the program\n",
    "    - [ ] Prompts the user for input\n",
    "\n",
    "    ### Which syntax is correct for an `if` condition in Python?\n",
    "    - [x] if x > 5:  \n",
    "    - [ ] if (x > 5)  \n",
    "    - [ ] if x > 5 then  \n",
    "    - [ ] if x > 5 {}\n",
    "\n",
    "    ### What happens with the condition `if not x:` in Python?\n",
    "    - [x] The code block is executed when `x` is interpreted as False\n",
    "    - [ ] The code block is executed for `x == True`\n",
    "    - [ ] The variable `x` is deleted\n",
    "    - [ ] Python raises an error\n",
    "\n",
    "    ### Which of these values count as `False` in Python?\n",
    "    - [x] Empty list `[]`\n",
    "    - [x] The value `None`\n",
    "    - [x] Empty string `\"\"`\n",
    "    - [ ] The number `1`\n",
    "\n",
    "    ### When is an `else` block executed in Python?\n",
    "    - [x] When the `if` condition does not apply\n",
    "    - [ ] When the `if` condition is true\n",
    "    - [ ] Always when an error occurs\n",
    "    - [ ] Immediately after the program starts\n",
    "\n",
    "    ### What is `else` commonly used for?\n",
    "    - [x] To execute alternative code\n",
    "    - [ ] To define functions\n",
    "    - [ ] To delete variables\n",
    "    - [ ] To check indentation\n",
    "\n",
    "    ### What is `elif` in Python?\n",
    "    - [x] Short form for “else if”\n",
    "    - [ ] A method for string processing\n",
    "    - [ ] A logical operator\n",
    "    - [ ] An alternative type of loop\n",
    "\n",
    "    ### Why is `elif` useful?\n",
    "    - [x] It makes the code shorter and clearer\n",
    "    - [ ] It replaces the `while` loop\n",
    "    - [ ] It disables `else`\n",
    "    - [ ] It forces Python to restart\n",
    "\n",
    "    ### What does `isinstance(x, int)` do?\n",
    "    - [x] Checks whether `x` is of type `int`\n",
    "    - [ ] Converts `x` to an `int`\n",
    "    - [ ] Deletes the variable `x`\n",
    "    - [ ] Creates a new instance\n",
    "\n",
    "    ### Why is type checking in Python useful?\n",
    "    - [x] To avoid errors, e.g., in division by 0\n",
    "    - [ ] Because Python is strongly typed\n",
    "    - [ ] To copy variables into functions\n",
    "    - [ ] To end loops\n",
    "\n",
    "    ### Sort the following lines to obtain a correctly indented `if-else` statement. Given are:\n",
    "    ```python\n",
    "    a = 3\n",
    "    b = 5\n",
    "    ```\n",
    "    1. `if a < b:`\n",
    "    2. `  print(\"a is smaller than b\")`\n",
    "    3. `else:`\n",
    "    4. `  print(\"a is greater than or equal to b\")`\n",
    "\n",
    "    ### Sort the lines correctly for a function with `if` and `return`:\n",
    "    1. `  if x > 0:`\n",
    "    2. `    return \"positive\"`\n",
    "    3. `  else:`\n",
    "    4. `    return \"not positive\"`\n",
    "\n",
    "\n",
    "    ### Put the `if-elif-else` structure in the correct order:\n",
    "    1. `if note == 1:`\n",
    "    2. `  print(\"very good\")`\n",
    "    3. `elif note >= 4:`\n",
    "    4. `  print(\"passed\")`\n",
    "    5. `else:`\n",
    "    6. `  print(\"not passed\")`\n",
    "\n",
    "\n",
    "    ### What error is in the following code?\n",
    "    ```python\n",
    "    if x > 5\n",
    "        print(\"x is greater than 5\")\n",
    "    ```\n",
    "    - [x] The colon `:` after the condition is missing\n",
    "    - [ ] The indentation is too large\n",
    "    - [ ] `if` may not be combined with `>`\n",
    "    - [ ] `print` may not be inside an `if` statement\n",
    "\n",
    "\n",
    "    ### What is wrong with this code?\n",
    "    ```python\n",
    "    if y == 10:\n",
    "    print(\"y is equal to 10\")\n",
    "    ```\n",
    "    - [x] The line with `print` is not indented\n",
    "    - [ ] The equality operator `==` is invalid\n",
    "    - [ ] The `if` condition must not contain a `:`\n",
    "    - [ ] Strings must be enclosed in quotes\n",
    "\n",
    "\n",
    "    ### Where is the error in this code?\n",
    "    ```python\n",
    "    if x > 5:\n",
    "        return True\n",
    "    else\n",
    "        return False\n",
    "    ```\n",
    "    - [x] After `else` a colon `:` is missing\n",
    "    - [ ] `return` may not be inside an `if`\n",
    "    - [ ] Functions may not contain an `if`\n",
    "    - [ ] The parentheses around `test` are wrong\n",
    "\n",
    "\n",
    "    ### What error is contained in this example?\n",
    "    ```python\n",
    "    if x = 5:\n",
    "        print(\"x is 5\")\n",
    "    ```\n",
    "    - [x] An assignment (`=`) is used instead of a comparison (`==`)\n",
    "    - [ ] `x` is not a valid variable name\n",
    "    - [ ] The `print` statement is deprecated\n",
    "    - [ ] Numbers may not be compared\n",
    "```"
   ]
  },
  {
   "cell_type": "markdown",
   "id": "a3141a2ad4ef4ef5a2fc2d212bed2426",
   "metadata": {
    "editable": true,
    "slideshow": {
     "slide_type": "slide"
    },
    "tags": [
     "remove-cell",
     "translated_en"
    ],
    "translation": {
     "lang": "de",
     "src_hash": "d2b7467259ef9f52d61ecf9953374631953b152baba6f1edeaac46d4c3d40a0b",
     "updated_at_iso": "2025-08-16T15:24:44.789885+00:00"
    }
   },
   "source": [
    "<div class=\"vslide\">\n",
    "  <div class=\"vslide-title\">\n",
    "    <p style=\"font-family: Protomolecule; font-size: 2.3em; margin: 0px auto; text-align: center; width: 100%;\">Questions?</p>\n",
    "  </div>\n",
    "  <script>setSectionBackground('#000000', 'images/mj_questions3.mp4');</script>\n",
    "</div>"
   ]
  }
 ],
 "metadata": {
  "kernelspec": {
   "display_name": "base",
   "language": "python",
   "name": "python3"
  },
  "language_info": {
   "codemirror_mode": {
    "name": "ipython",
    "version": 3
   },
   "file_extension": ".py",
   "mimetype": "text/x-python",
   "name": "python",
   "nbconvert_exporter": "python",
   "pygments_lexer": "ipython3",
   "version": "3.12.2"
  },
  "rise": {
   "auto_select": "none",
   "center": false,
   "enable_chalkboard": true,
   "header": "<img src=\"images/pd_logo.svg\" class=\"header_title_logo\"><img src=\"images/ai4sc_logo_v2.svg\" class=\"header_ai4sc_logo\">",
   "scroll": true,
   "show_buttons_on_startup": false,
   "slideNumber": true,
   "theme": "white"
  }
 },
 "nbformat": 4,
 "nbformat_minor": 4
}
