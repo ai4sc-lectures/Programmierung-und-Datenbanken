{
 "cells": [
  {
   "cell_type": "markdown",
   "id": "e72fc537c7ff46be80b7d3af3c783b5a",
   "metadata": {
    "editable": true,
    "slideshow": {
     "slide_type": "skip"
    },
    "tags": [
     "translated_en"
    ],
    "translation": {
     "lang": "de",
     "src_hash": "3f0c51c147ee1d8d306dcea5858708291ad08e63fb93d5c57b25f62da63c446f",
     "updated_at_iso": "2025-08-16T14:43:47.567714+00:00"
    }
   },
   "source": [
    "# Data types"
   ]
  },
  {
   "cell_type": "markdown",
   "id": "40d798ea34cf4db98ba95cab22cb6f58",
   "metadata": {
    "editable": true,
    "slideshow": {
     "slide_type": "skip"
    },
    "tags": [
     "translated_en"
    ],
    "translation": {
     "lang": "de",
     "src_hash": "1c7e2d31d13b9dca2727ee2471f6ee7b3d12117437c3b0cf0ccab44d13a6d44f",
     "updated_at_iso": "2025-08-16T14:43:54.249372+00:00"
    }
   },
   "source": [
    "<figure class=\"mj-tile-band\">\n",
    "<img src='images/02c_Datentypen/mj_title_band.jpg'>\n",
    "<figcaption>Midjourney: Datatype Jungle, ref. Henri Rousseau</figcaption>\n",
    "</figure>\n",
    "\n",
    "> The definition of ‘insanity’ in programming is doing the same thing over and over again and expecting different data types\n",
    "> \n",
    "> — Linus Torvalds"
   ]
  },
  {
   "cell_type": "markdown",
   "id": "1670dec946d649908a94a161bce472e4",
   "metadata": {
    "editable": true,
    "slideshow": {
     "slide_type": "skip"
    },
    "tags": [
     "translated_en"
    ],
    "translation": {
     "lang": "de",
     "src_hash": "a963d1f67f56a62bb76893bcfe2fda23866dc08213192a04e528622ec2fd3b06",
     "updated_at_iso": "2025-08-16T14:43:59.516992+00:00"
    }
   },
   "source": [
    "## <a href=\"../lec_slides/02c_Datentypen.slides.html\">Slides</a>/<a href=\"../pdf/slides/02c_Datentypen.pdf\">PDF</a>\n",
    "<iframe src=\"../lec_slides/02c_Datentypen.slides.html\" width=\"750\" height=\"500\"></iframe>"
   ]
  },
  {
   "cell_type": "markdown",
   "id": "aee366482af143efa6aab7f556aca1e5",
   "metadata": {
    "editable": true,
    "slideshow": {
     "slide_type": "skip"
    },
    "tags": [
     "translated_en"
    ],
    "translation": {
     "lang": "de",
     "src_hash": "536192f2ddc2e8e81cbc439a3a409f911122b26c15d7b8da3db495b815e61e51",
     "updated_at_iso": "2025-08-16T14:44:01.508328+00:00"
    }
   },
   "source": [
    "## Variables in Python"
   ]
  },
  {
   "cell_type": "markdown",
   "id": "6a38f81c54ee417893aea32534363a7c",
   "metadata": {
    "editable": true,
    "slideshow": {
     "slide_type": "skip"
    },
    "tags": [
     "translated_en"
    ],
    "translation": {
     "lang": "de",
     "src_hash": "3e55e9eb527099131c25f8c3feebf36a913cfe693a4e0d8ff2d7371fc549905d",
     "updated_at_iso": "2025-08-16T14:44:14.552178+00:00"
    }
   },
   "source": [
    "Most programming languages use variables to store values. A variable is, in this context, a binding of a value to a name. Internally, this name then points to the memory address in the program's RAM where the value is stored. This allows you to work with the variable's name in your code without needing to worry about the exact memory address.\n",
    "\n",
    "<div class=\"alert alert-block alert-success\">\n",
    "    <b>📘 Definition: Variable</b><br/>\n",
    "    In programming, a variable is a value that occurs during the execution of a computer program and is usually changeable. A variable is normally referred to in source code by a name, has a data type, and an address in the computer's memory.\n",
    "</div>\n",
    "\n",
    "Besides variables there are also constants. In most compiled programming languages there is a special syntax to define constants, since these are embedded directly in the program code and not in the program's memory. \n",
    "\n",
    "<div class=\"alert alert-block alert-success\">\n",
    "    <b>📘 Definition: Constant</b><br/>\n",
    "    A constant is a value that cannot be changed once it has been assigned.\n",
    "</div>\n",
    "\n",
    "In Python there are no special constants, but it is common to write variables that are intended to be used as constants in uppercase, to distinguish them from ordinary variables. Both constants and variables have a data type that indicates what kind of value they can store.\n",
    "\n",
    "<div class=\"alert alert-block alert-success\">\n",
    "    <b>📘 Definition: Data Type</b><br/>\n",
    "    The data type of a variable determines the kind of value stored in the variable and which operations can be performed on it. E.g., whether it is a number, text, or a list.\n",
    "</div>"
   ]
  },
  {
   "cell_type": "markdown",
   "id": "e53de8a0502d423db32b67a26f64c1f5",
   "metadata": {
    "editable": true,
    "slideshow": {
     "slide_type": "skip"
    },
    "tags": [
     "translated_en"
    ],
    "translation": {
     "lang": "de",
     "src_hash": "e56c453e4f193ee99be3edd0712c79a334c14aa76eb349a70c10625f4488a8a1",
     "updated_at_iso": "2025-08-16T14:44:25.370264+00:00"
    }
   },
   "source": [
    "The data type of a variable is determined automatically in Python when the value is assigned. Therefore Python is also called a *dynamically typed* language. That means that we do not have to specify the data type of a variable in advance; it is dynamically determined by assigning a value to the variable. In other programming languages, the data type of a variable is often required to be explicitly declared before the value is assigned. These are also called *statically typed* languages. They are regarded as safer and less error-prone, since the data type of a variable is checked at compile time.\n",
    "\n",
    "An assignment is performed by the '=' operator, on whose left-hand side the variable name always stands and on the right-hand side the value to be assigned. In Python, variables can have arbitrary names, as long as they conform to the rules for identifiers. An identifier may contain only letters, digits, and underscores, may not begin with a digit, and may not use any reserved keywords of the programming language."
   ]
  },
  {
   "cell_type": "code",
   "execution_count": null,
   "id": "126fda835ec74b3d91f89380d00ef1f0",
   "metadata": {
    "editable": true,
    "slideshow": {
     "slide_type": "skip"
    },
    "tags": [
     "translated_en"
    ],
    "translation": {
     "lang": "de",
     "src_hash": "069311cd56a8698390957f7d771b9bb5e6a471e945e7c7c96e214c8ed1e06c46",
     "updated_at_iso": "2025-08-16T14:44:28.212112+00:00"
    }
   },
   "outputs": [],
   "source": [
    "number = 1  # variable name = value"
   ]
  },
  {
   "cell_type": "markdown",
   "id": "ee6ec9b2bb2045e1a0ef40ac9ef203f6",
   "metadata": {
    "editable": true,
    "slideshow": {
     "slide_type": "skip"
    },
    "tags": [
     "translated_en"
    ],
    "translation": {
     "lang": "de",
     "src_hash": "bfc25dba3e4a7bdb7f85d163ba1a150909a5355571015766f5b62f83cf79b186",
     "updated_at_iso": "2025-08-16T14:44:32.542780+00:00"
    }
   },
   "source": [
    "The value of a variable can be displayed with `print(variable_name)`."
   ]
  },
  {
   "cell_type": "code",
   "execution_count": null,
   "id": "3362888d73ff46c784597c2715436f0c",
   "metadata": {
    "editable": true,
    "slideshow": {
     "slide_type": "skip"
    },
    "tags": [
     "translated_en"
    ],
    "translation": {
     "lang": "de",
     "src_hash": "d070fdcb431a22a95d1d55d5972150f2b677c7ac14c3b77e01e685ee8b6e8761",
     "updated_at_iso": "2025-08-16T14:44:34.434829+00:00"
    }
   },
   "outputs": [],
   "source": [
    "print(number)"
   ]
  },
  {
   "cell_type": "markdown",
   "id": "51d895b3f99642848834dac547ed14b3",
   "metadata": {
    "editable": true,
    "slideshow": {
     "slide_type": "skip"
    },
    "tags": [
     "translated_en"
    ],
    "translation": {
     "lang": "de",
     "src_hash": "c2a29dfa7cef73e93b79abed70ff209f7e3f9d89fd6b245447594cbbb2f50a16",
     "updated_at_iso": "2025-08-16T14:44:39.277958+00:00"
    }
   },
   "source": [
    "In a notebook like this, the last line of code in a code block is automatically wrapped in a `print()` call. So we can also write"
   ]
  },
  {
   "cell_type": "code",
   "execution_count": null,
   "id": "99c1672b328b4f848cdffad3ec168d2d",
   "metadata": {
    "editable": true,
    "slideshow": {
     "slide_type": "skip"
    },
    "tags": [
     "translated_en"
    ],
    "translation": {
     "lang": "de",
     "src_hash": "37406b52ac5b251fdf5733ce8cb81cf0aa3c4540f7b80de4e1e63731fd85eaa4",
     "updated_at_iso": "2025-08-16T14:44:45.376541+00:00"
    }
   },
   "outputs": [],
   "source": [
    "# number"
   ]
  },
  {
   "cell_type": "markdown",
   "id": "8c36e0d43feb4090ad4d31143a4e260f",
   "metadata": {
    "editable": true,
    "slideshow": {
     "slide_type": "skip"
    },
    "tags": [
     "translated_en"
    ],
    "translation": {
     "lang": "de",
     "src_hash": "a94a596ebf70c16213941c394d8841a50cd52d07ca88f58f8a1aade0523bea13",
     "updated_at_iso": "2025-08-16T14:45:01.750217+00:00"
    }
   },
   "source": [
    "Basically, when naming variables you should ensure that they are meaningful and describe the content of the variable. This makes the code easier to understand and the program easier to maintain. There are a few rules:\n",
    "\n",
    "- Use names that clearly convey the meaning and content of the variable.\n",
    "- Avoid overly generic names like 'data' or 'v'.\n",
    "- Keep the naming conventions in your code consistent.\n",
    "- Use lowercase letters with underscores (_) to separate words (snake_case), e.g., `meine_variable`.\n",
    "- Avoid special characters such as ä, ö, ü, ß since these can cause problems in character encoding.\n",
    "- Do not use reserved keywords of the programming language as variable names (e.g., `if`, `for`, `while`).\n",
    "- Avoid abbreviations or acronyms unless they are generally understandable (e.g., \"GDP\").\n",
    "- Strive for a balance between clarity and brevity."
   ]
  },
  {
   "cell_type": "markdown",
   "id": "652b761f37514da5b140d919c1849093",
   "metadata": {
    "editable": true,
    "slideshow": {
     "slide_type": "skip"
    },
    "tags": [
     "translated_en"
    ],
    "translation": {
     "lang": "de",
     "src_hash": "ffed776cbcc8d764c1d19ce1695941b05082f810f3a4261ea96737440f2f6b83",
     "updated_at_iso": "2025-08-16T14:45:11.535621+00:00"
    }
   },
   "source": [
    "Here are some examples of good and bad variable names:\n",
    "\n",
    "| Good | Bad | Description |\n",
    "|------|-----|-------------|\n",
    "| age | a | Clearly denotes a person's age. |\n",
    "| first_name | fn | Clearly describes the first name. |\n",
    "| birth_year | by | Unambiguous and understandable for the birth year. |\n",
    "| email_address | email | Makes it clear that it's an email address. |\n",
    "| is_on | on | `is_` indicates that this is a boolean value. |\n",
    "| product_list | products | Makes it clear that it's a list. |\n",
    "| score_total | score | Indicates that this is the total score. |\n",
    "| user_count | count | Indicates that this is the number of users. |"
   ]
  },
  {
   "cell_type": "markdown",
   "id": "2623113561a84f29809eca63f21ca737",
   "metadata": {
    "editable": true,
    "slideshow": {
     "slide_type": "skip"
    },
    "tags": [
     "translated_en"
    ],
    "translation": {
     "lang": "de",
     "src_hash": "98eee5d8703d3d0bb852e4a654cfcc58dc388bc29b9dbff9c88b928792146736",
     "updated_at_iso": "2025-08-16T14:45:13.159057+00:00"
    }
   },
   "source": [
    "## Data types"
   ]
  },
  {
   "cell_type": "markdown",
   "id": "3a350705d0d54df5956e92cb0b4f8160",
   "metadata": {
    "editable": true,
    "slideshow": {
     "slide_type": "skip"
    },
    "tags": [
     "translated_en"
    ],
    "translation": {
     "lang": "de",
     "src_hash": "3aec35c3b05d23a7eb27605b9e2dfe79eb41bb74b3b0d588da2192600f107983",
     "updated_at_iso": "2025-08-16T14:45:22.442476+00:00"
    }
   },
   "source": [
    "There are various data types that can be used in Python and in programming languages in general. We distinguish between simple and composite data types. Simple data types (primitive data types) can only hold a single value from the corresponding range of values. Composite data types (complex data types) are a data construct that consists of simpler data types. Because they can theoretically become arbitrarily complex, they are often counted among data structures.\n",
    "\n",
    "![](images/02c_Datentypen/datentyp1.svg){width=250px}"
   ]
  },
  {
   "cell_type": "markdown",
   "id": "b15725c46ab84c53bfc736301c24e969",
   "metadata": {
    "editable": true,
    "slideshow": {
     "slide_type": "skip"
    },
    "tags": [
     "translated_en"
    ],
    "translation": {
     "lang": "de",
     "src_hash": "b66cb413b9e6680e0752d7099245cef5016276752bf8cbeaca5cabc79874305f",
     "updated_at_iso": "2025-08-16T14:45:25.444994+00:00"
    }
   },
   "source": [
    "The data type of a variable is determined with `type(variable_name)` and printed with `print(type(variable_name))`."
   ]
  },
  {
   "cell_type": "code",
   "execution_count": null,
   "id": "50b3d694b6c34016b258d1b190c3127a",
   "metadata": {
    "editable": true,
    "slideshow": {
     "slide_type": "skip"
    },
    "tags": [
     "translated_en"
    ],
    "translation": {
     "lang": "de",
     "src_hash": "b6e491e0f22c0560e396646453d2a5d3648a96cb585171858e474c1c1ae4ae3d",
     "updated_at_iso": "2025-08-16T14:45:29.080627+00:00"
    }
   },
   "outputs": [],
   "source": [
    "print(type(number)) # In a program you use the print() function to produce output"
   ]
  },
  {
   "cell_type": "markdown",
   "id": "3ee2a22775114462a8b4e19e2556cd2b",
   "metadata": {
    "editable": true,
    "slideshow": {
     "slide_type": "skip"
    },
    "tags": [
     "translated_en"
    ],
    "translation": {
     "lang": "de",
     "src_hash": "d3b9ccf7c2dfa60916d0850d968302c110d618d59876e673a1b0d83137daee82",
     "updated_at_iso": "2025-08-16T14:45:33.183269+00:00"
    }
   },
   "source": [
    "Since Python is a dynamically typed language, we can simply change a variable's data type by assigning it a new value."
   ]
  },
  {
   "cell_type": "code",
   "execution_count": null,
   "id": "ff84e1f9c0e145abb705a07ce18ffafe",
   "metadata": {
    "editable": true,
    "slideshow": {
     "slide_type": "skip"
    },
    "tags": [
     "translated_en"
    ],
    "translation": {
     "lang": "de",
     "src_hash": "ec13d342b7f888d54ec7ce1c91d955af718b97a41c58d8c77ab27ec7040a673b",
     "updated_at_iso": "2025-08-16T14:45:37.244133+00:00"
    }
   },
   "outputs": [],
   "source": [
    "number = 2     # the variable number now has value 2, which is still numeric\n",
    "print(\"Wert: \", number, \"\\nDatentyp: \", type(number))"
   ]
  },
  {
   "cell_type": "code",
   "execution_count": null,
   "id": "62310b739e054397bd8a89a86b8c3fa4",
   "metadata": {
    "editable": true,
    "slideshow": {
     "slide_type": "skip"
    },
    "tags": [
     "translated_en"
    ],
    "translation": {
     "lang": "de",
     "src_hash": "5d3b792968934819f5653ce91fb40ba79a51765950e09be781804c5d5f2db0d2",
     "updated_at_iso": "2025-08-16T14:45:46.601747+00:00"
    }
   },
   "outputs": [],
   "source": [
    "number = \"text\" # text is not a numeric value but a text string\n",
    "print(\"Wert: \", number, \"\\nDatentyp: \", type(number))"
   ]
  },
  {
   "cell_type": "markdown",
   "id": "525601e53eff45ed90139144d5563cef",
   "metadata": {
    "editable": true,
    "slideshow": {
     "slide_type": "skip"
    },
    "tags": [
     "translated_en"
    ],
    "translation": {
     "lang": "de",
     "src_hash": "164080ac557e24d82a2a3a3c9e6f2250c94f338e46eb6cbcf37dc69d3abbf028",
     "updated_at_iso": "2025-08-16T14:45:49.729863+00:00"
    }
   },
   "source": [
    "### Numeric data types"
   ]
  },
  {
   "cell_type": "markdown",
   "id": "4535bc30f3ec4236bd75c61ccdbaca70",
   "metadata": {
    "editable": true,
    "slideshow": {
     "slide_type": "skip"
    },
    "tags": [
     "translated_en"
    ],
    "translation": {
     "lang": "de",
     "src_hash": "940139711dd375b6343b4afeb13b420a5b62ed52e6b46df1dd23d9d3847dbdaf",
     "updated_at_iso": "2025-08-16T14:45:59.663828+00:00"
    }
   },
   "source": [
    "Numeric data types are data types used to represent and process numbers. They form the basis for mathematical computations in programming languages. Numeric data types include integers (Integer), floating-point numbers (Float), and complex numbers.\n",
    "\n",
    "- **Integers (Integer):** They represent numbers without decimal places, both positive and negative values. In many programming languages there are different variants that differ by their storage capacity, such as Short, Int, or Long.\n",
    "\n",
    "- **Floating-point numbers (Float):** These data types are used to represent numbers with decimal places. They allow the representation of fractions and very large or very small numbers through scientific notation.\n",
    "\n",
    "The exact naming and size of numeric data types can vary depending on the programming language. In Python, numeric values are automatically assigned to the appropriate type, without the programmer having to specify the size or sign explicitly.\n",
    "\n",
    "![](images/02c_Datentypen/datentyp2.svg){width=500px}"
   ]
  },
  {
   "cell_type": "markdown",
   "id": "1062f7ccc07144469409e49bde622839",
   "metadata": {
    "editable": true,
    "slideshow": {
     "slide_type": "skip"
    },
    "tags": [
     "translated_en"
    ],
    "translation": {
     "lang": "de",
     "src_hash": "d69db1d02c0436712b72d3d0eedb8c60aba9c654c4842935b2855e277d14bca0",
     "updated_at_iso": "2025-08-16T14:46:06.490836+00:00"
    }
   },
   "source": [
    "Python internally distinguishes only between `int` (integer) and `float` (floating-point number). There are no special data types for Short, Long, or Double as in other programming languages. The advantage of Python as a dynamically typed language is that Python internally selects the appropriate representation. So you can, for example, store very large integer values without any problems, which in most statically typed languages could not be processed because the number is too large. This is especially helpful for calculations with very large numbers (such as multiplication), since overflows cannot occur if the results exceed the representable range."
   ]
  },
  {
   "cell_type": "code",
   "execution_count": null,
   "id": "1ad7f7ca5d654cc0a68236e7a626e60b",
   "metadata": {
    "editable": true,
    "slideshow": {
     "slide_type": "skip"
    },
    "tags": [
     "translated_en"
    ],
    "translation": {
     "lang": "de",
     "src_hash": "7bcad5c238e8fa5b0f4ccc40fbc97f6f31d2489a7cf20b504539e85e781c8c09",
     "updated_at_iso": "2025-08-16T14:46:12.132903+00:00"
    }
   },
   "outputs": [],
   "source": [
    "number = 3.14  # the variable number now has the value 3.14, which is a floating-point number\n",
    "print(\"Wert: \", number, \"\\nDatentyp: \", type(number))"
   ]
  },
  {
   "cell_type": "code",
   "execution_count": null,
   "id": "ae3a11f6ec224eecae0fdfa6170e7b47",
   "metadata": {
    "editable": true,
    "scrolled": true,
    "slideshow": {
     "slide_type": "skip"
    },
    "tags": [
     "translated_en"
    ],
    "translation": {
     "lang": "de",
     "src_hash": "b44cdd85626dd2ea2205442afb883befa96b9e50545e10d2fefaf914d9f1c39a",
     "updated_at_iso": "2025-08-16T14:46:18.208917+00:00"
    }
   },
   "outputs": [],
   "source": [
    "number = 1232321361278362746384633213232142142131231312323123212132313231332132312 # The variable number now has a very long integer value\n",
    "print(\"Wert: \", number, \"\\nDatentyp: \", type(number))"
   ]
  },
  {
   "cell_type": "markdown",
   "id": "c9eaa395f4de4f5990033b07c88782e8",
   "metadata": {
    "editable": true,
    "slideshow": {
     "slide_type": "skip"
    },
    "tags": [
     "translated_en"
    ],
    "translation": {
     "lang": "de",
     "src_hash": "9d573e76a645c63425b5bd1ab3c3f0dd723e630d165f8a1e670e7efe9c1e90ad",
     "updated_at_iso": "2025-08-16T14:46:19.711942+00:00"
    }
   },
   "source": [
    "### Boolean Data Types"
   ]
  },
  {
   "cell_type": "markdown",
   "id": "6236d72526874cf3a32782170ac4fe1c",
   "metadata": {
    "editable": true,
    "slideshow": {
     "slide_type": "skip"
    },
    "tags": [
     "translated_en"
    ],
    "translation": {
     "lang": "de",
     "src_hash": "255a012dae60011aabd49e9e7f6f3e2c5eaeece51d912d95c144b0b3e26a7e9e",
     "updated_at_iso": "2025-08-16T14:46:24.230927+00:00"
    }
   },
   "source": [
    "In all programming languages there are boolean data types to express truth values and to perform logical operations.\n",
    "\n",
    "![](images/02c_Datentypen/datentyp4.svg){width=450px}"
   ]
  },
  {
   "cell_type": "markdown",
   "id": "386b1d62f1cd481a88951c4225d6d4ee",
   "metadata": {
    "editable": true,
    "slideshow": {
     "slide_type": "skip"
    },
    "tags": [
     "translated_en"
    ],
    "translation": {
     "lang": "de",
     "src_hash": "7720ace5cf6f127eb313f3d5188aa8027976c5cf06816ac1a86b04b29a119361",
     "updated_at_iso": "2025-08-16T14:46:28.850896+00:00"
    }
   },
   "source": [
    "In Python there is the data type `bool` and the truth values `True` and `False` for true and false. Note the capitalization of the initial letter, as this can vary greatly between programming languages."
   ]
  },
  {
   "cell_type": "code",
   "execution_count": null,
   "id": "c3b53969b70348b9bdbe6ca2623cca6f",
   "metadata": {
    "editable": true,
    "slideshow": {
     "slide_type": "skip"
    },
    "tags": [
     "translated_en"
    ],
    "translation": {
     "lang": "de",
     "src_hash": "2d3ea1bfeaeb66954f339848d03343fe4accdba1080cffc8cfd236e15fcdd70b",
     "updated_at_iso": "2025-08-16T14:46:33.419525+00:00"
    }
   },
   "outputs": [],
   "source": [
    "true_or_false = True\n",
    "print(\"Wert: \", true_or_false, \"\\nDatentyp: \", type(true_or_false))"
   ]
  },
  {
   "cell_type": "markdown",
   "id": "d5ae15d571054f88a66945ab697cbe11",
   "metadata": {
    "editable": true,
    "slideshow": {
     "slide_type": "skip"
    },
    "tags": [
     "translated_en"
    ],
    "translation": {
     "lang": "de",
     "src_hash": "e473e802e99df36ea21b7a222375e24ab47e51f855a7f53e9fe87472de2f9bdb",
     "updated_at_iso": "2025-08-16T14:46:35.795470+00:00"
    }
   },
   "source": [
    "The variable `richtigoderfalsch` has the data type `bool`."
   ]
  },
  {
   "cell_type": "markdown",
   "id": "f5dfd1f858f4440680b09d953f241ac8",
   "metadata": {
    "editable": true,
    "slideshow": {
     "slide_type": "skip"
    },
    "tags": [
     "translated_en"
    ],
    "translation": {
     "lang": "de",
     "src_hash": "35ac38c3610c5afb18f4eac1443a27125ce9647e7fd1aa962831fcaa8977c0ac",
     "updated_at_iso": "2025-08-16T14:46:38.505744+00:00"
    }
   },
   "source": [
    "For example, using all-uppercase or all-lowercase for the truth value `True` is not allowed."
   ]
  },
  {
   "cell_type": "code",
   "execution_count": null,
   "id": "a910914a172c4bd3b434bba9deac2b8b",
   "metadata": {
    "editable": true,
    "slideshow": {
     "slide_type": "skip"
    },
    "tags": [
     "raises-exception",
     "translated_en"
    ],
    "translation": {
     "lang": "de",
     "src_hash": "c74ac14b9d7f51f0fa876b3c5998e45ec8f162c183cd151b9c5d2076bf372aa7",
     "updated_at_iso": "2025-08-16T14:46:46.482356+00:00"
    }
   },
   "outputs": [],
   "source": [
    "true_or_false = TRUE"
   ]
  },
  {
   "cell_type": "markdown",
   "id": "b242468ba81344b0a58855aef1a58b6c",
   "metadata": {
    "editable": true,
    "slideshow": {
     "slide_type": "skip"
    },
    "tags": [
     "translated_en"
    ],
    "translation": {
     "lang": "de",
     "src_hash": "985c24e7db806cd0d3f4c265474b1a3e07bdf33e9142f9cc12b038df4ae152bc",
     "updated_at_iso": "2025-08-16T14:46:50.806802+00:00"
    }
   },
   "source": [
    "If an error occurs, the code isn’t executed, so the value of the variable doesn’t change."
   ]
  },
  {
   "cell_type": "code",
   "execution_count": null,
   "id": "f019e586c8c84d1090eb0859a6f5e66e",
   "metadata": {
    "editable": true,
    "slideshow": {
     "slide_type": "skip"
    },
    "tags": [
     "translated_en"
    ],
    "translation": {
     "lang": "de",
     "src_hash": "3a7515455722bcceb664ee3127c28bd3a6de336d6702671d6a447bd40e8f985b",
     "updated_at_iso": "2025-08-16T14:46:57.453343+00:00"
    }
   },
   "outputs": [],
   "source": [
    "print(true_or_false)"
   ]
  },
  {
   "cell_type": "markdown",
   "id": "655b4c1d03f24a788446415fd83116c3",
   "metadata": {
    "editable": true,
    "slideshow": {
     "slide_type": "skip"
    },
    "tags": [
     "translated_en"
    ],
    "translation": {
     "lang": "de",
     "src_hash": "0e6f12223582c7fdff0f96b1f6dac04ca64623fbe1d8b5c58002ca59c29db2d1",
     "updated_at_iso": "2025-08-16T14:46:59.323748+00:00"
    }
   },
   "source": [
    "### Textual Data Types"
   ]
  },
  {
   "cell_type": "markdown",
   "id": "bf82dfb3b1154e99ba3621ee70900fac",
   "metadata": {
    "editable": true,
    "slideshow": {
     "slide_type": "skip"
    },
    "tags": [
     "translated_en"
    ],
    "translation": {
     "lang": "de",
     "src_hash": "d283e85ac74d156e7aa14f496bb14403e4a7388d11fc80bc6bfa2d8b2fb61635",
     "updated_at_iso": "2025-08-16T14:47:05.934521+00:00"
    }
   },
   "source": [
    "Textual data types are used to represent letters and character sequences. A single character is referred to as a Char, while a sequence of several characters is referred to as a String. Strings can also be regarded as composite data types, since they consist of multiple characters.\n",
    "\n",
    "![](images/02c_Datentypen/datentyp6.svg){width=450px}"
   ]
  },
  {
   "cell_type": "markdown",
   "id": "26be0806b0074f1d9f0b6ce4656360f2",
   "metadata": {
    "editable": true,
    "slideshow": {
     "slide_type": "skip"
    },
    "tags": [
     "translated_en"
    ],
    "translation": {
     "lang": "de",
     "src_hash": "61250f1cc7b024bbb9b9d14391cbef3030ca52c8eaef915fae9859af5bb0a358",
     "updated_at_iso": "2025-08-16T14:47:12.229924+00:00"
    }
   },
   "source": [
    "Python does not distinguish between chars and strings. For both, there is the data type `str`. A string is a sequence of characters of any length. Strings in Python are enclosed in quotation marks, either in single (`'`) or in double (`\"`) quotation marks."
   ]
  },
  {
   "cell_type": "code",
   "execution_count": null,
   "id": "8ec28b10af844ce5a2d0a40736b74376",
   "metadata": {
    "editable": true,
    "slideshow": {
     "slide_type": "skip"
    },
    "tags": [
     "translated_en"
    ],
    "translation": {
     "lang": "de",
     "src_hash": "0d721daae1bb22f85d412ad1de367711c2c17a3d2dd50bcb88b972fe116e9168",
     "updated_at_iso": "2025-08-16T14:47:17.449158+00:00"
    }
   },
   "outputs": [],
   "source": [
    "character = 'a'\n",
    "print(\"Wert: \", character, \"\\nDatentyp: \", type(character))"
   ]
  },
  {
   "cell_type": "code",
   "execution_count": null,
   "id": "1ece5347ba264445a41c89024517f8bc",
   "metadata": {
    "editable": true,
    "slideshow": {
     "slide_type": "skip"
    },
    "tags": [
     "translated_en"
    ],
    "translation": {
     "lang": "de",
     "src_hash": "eaae08aea1bf8693c4a0368f3ed851326b68eb30cf7a09806f8732c6ac0563eb",
     "updated_at_iso": "2025-08-16T14:47:23.072371+00:00"
    }
   },
   "outputs": [],
   "source": [
    "string = 'hallo welt'\n",
    "print(\"Wert: \", string, \"\\nDatentyp: \", type(string))"
   ]
  },
  {
   "cell_type": "markdown",
   "id": "7115a66c11ab4b12b5b726db3a7fe0df",
   "metadata": {
    "editable": true,
    "slideshow": {
     "slide_type": "skip"
    },
    "tags": [
     "translated_en"
    ],
    "translation": {
     "lang": "de",
     "src_hash": "f9e074de9d0a8d3bf130dccc106cf151943012446e9e6e657a5f40968030abfe",
     "updated_at_iso": "2025-08-16T14:47:26.011806+00:00"
    }
   },
   "source": [
    "Python does not distinguish between these data types and uses the `str` type for both."
   ]
  },
  {
   "cell_type": "markdown",
   "id": "9d891a076bc44bd89cc199f0ca058d7c",
   "metadata": {
    "editable": true,
    "slideshow": {
     "slide_type": "skip"
    },
    "tags": [
     "translated_en"
    ],
    "translation": {
     "lang": "de",
     "src_hash": "a65e31c65a240387a2143a7c01179350cdf75e21e3a947155383d520c58f86a8",
     "updated_at_iso": "2025-08-16T14:47:29.343547+00:00"
    }
   },
   "source": [
    "In Python, a character is simply a `str` of length 1. We determine the length with the `len()` function."
   ]
  },
  {
   "cell_type": "code",
   "execution_count": null,
   "id": "57a86292b222489b9d8716f708b74519",
   "metadata": {
    "editable": true,
    "slideshow": {
     "slide_type": "skip"
    },
    "tags": [
     "translated_en"
    ],
    "translation": {
     "lang": "de",
     "src_hash": "f2d1163fb77c53852eec1252fd71603054fe458bce9b3eb69de3f661b6272553",
     "updated_at_iso": "2025-08-16T14:47:33.130678+00:00"
    }
   },
   "outputs": [],
   "source": [
    "print(len(characters))"
   ]
  },
  {
   "cell_type": "code",
   "execution_count": null,
   "id": "5a272d177133481595a1d28b2f6f496f",
   "metadata": {
    "editable": true,
    "slideshow": {
     "slide_type": "skip"
    },
    "tags": [
     "translated_en"
    ],
    "translation": {
     "lang": "de",
     "src_hash": "6db418281db5aace8b1a27cecb0c7f16caf41b2405d94ead3e72bf9d6f63b7ab",
     "updated_at_iso": "2025-08-16T14:47:35.839461+00:00"
    }
   },
   "outputs": [],
   "source": [
    "print(len(string))"
   ]
  },
  {
   "cell_type": "markdown",
   "id": "9e4236a160474759a9af1549c42fb0d3",
   "metadata": {
    "editable": true,
    "slideshow": {
     "slide_type": "skip"
    },
    "tags": [
     "translated_en"
    ],
    "translation": {
     "lang": "de",
     "src_hash": "e9dd39c8d340f1e23d5a84e2111491d49c1f27d505f838257083ebbeee47e27d",
     "updated_at_iso": "2025-08-16T14:47:44.747179+00:00"
    }
   },
   "source": [
    "In Python, a string in code can be written using either single `'` or double `\"` quotation marks. Depending on which quotation mark you use, the string must be terminated with the same quotation mark. This has the advantage that nested quotes do not need to be escaped."
   ]
  },
  {
   "cell_type": "code",
   "execution_count": null,
   "id": "f6b3f25c2d59427bb0bf693520f04e95",
   "metadata": {
    "editable": true,
    "slideshow": {
     "slide_type": "skip"
    },
    "tags": [
     "translated_en"
    ],
    "translation": {
     "lang": "de",
     "src_hash": "d82567e2ada20411932c15749c0fa8267348be25cc20b3cdb3a11ed0a3a1f8e4",
     "updated_at_iso": "2025-08-16T14:47:50.682615+00:00"
    }
   },
   "outputs": [],
   "source": [
    "string = \"hallo 'welt'\"\n",
    "print(\"Wert: \", string, \"\\nDatentyp: \", type(string))"
   ]
  },
  {
   "cell_type": "markdown",
   "id": "e501f0637085456680b85da710ae53c0",
   "metadata": {
    "editable": true,
    "slideshow": {
     "slide_type": "skip"
    },
    "tags": [
     "translated_en"
    ],
    "translation": {
     "lang": "de",
     "src_hash": "5b7e362ddd502523641527a9b79081707fa350a9610d7dceeae28bb2b17ecc25",
     "updated_at_iso": "2025-08-16T14:47:56.094987+00:00"
    }
   },
   "source": [
    "If encoding (escaping) is necessary, it is done in Python with `\\`. That is how the alternative notation goes."
   ]
  },
  {
   "cell_type": "code",
   "execution_count": null,
   "id": "4affdd59f4de4a2db96482ba2c99fc43",
   "metadata": {
    "editable": true,
    "slideshow": {
     "slide_type": "skip"
    },
    "tags": [
     "translated_en"
    ],
    "translation": {
     "lang": "de",
     "src_hash": "27a744bc7a0da6e64a7393fc4f056a37beec966cbcbbb3ad4ec0dd91d1916932",
     "updated_at_iso": "2025-08-16T14:48:00.510450+00:00"
    }
   },
   "outputs": [],
   "source": [
    "text = 'hallo \\'welt\\''\n",
    "print(\"Wert: \", text, \"\\nDatentyp: \", type(text))"
   ]
  },
  {
   "cell_type": "markdown",
   "id": "cd4613c19d59403e8d6579b49a78ad5c",
   "metadata": {
    "editable": true,
    "slideshow": {
     "slide_type": "skip"
    },
    "tags": [
     "translated_en"
    ],
    "translation": {
     "lang": "de",
     "src_hash": "8057e62479e7e5c56ff135bc081dacf376c095c4d47aca9a483bc35a946519b2",
     "updated_at_iso": "2025-08-16T14:48:08.203910+00:00"
    }
   },
   "source": [
    "Python also has some particularly simple syntactic sugar. For example, you can easily create formatted strings by prefixing the string with an `f`. In the string you can then directly embed variable values using `{variable_name}`, which are then substituted into the string before output."
   ]
  },
  {
   "cell_type": "code",
   "execution_count": null,
   "id": "bea8c0a93a92438aaf3078807f56f57f",
   "metadata": {
    "editable": true,
    "slideshow": {
     "slide_type": "skip"
    },
    "tags": [
     "translated_en"
    ],
    "translation": {
     "lang": "de",
     "src_hash": "ab8189d27012f3276bf069e20f4a4d26cdbf753981253dbbdc8771773df25ba5",
     "updated_at_iso": "2025-08-16T14:48:15.965002+00:00"
    }
   },
   "outputs": [],
   "source": [
    "string_value = f\"der wert von nummer ist '{number}'\"\n",
    "print(\"Wert: \", string_value, \"\\nDatentyp: \", type(string_value))"
   ]
  },
  {
   "cell_type": "markdown",
   "id": "bed3440f59c043f4a14e8a5ab8aa7256",
   "metadata": {
    "editable": true,
    "slideshow": {
     "slide_type": "skip"
    },
    "tags": [
     "translated_en"
    ],
    "translation": {
     "lang": "de",
     "src_hash": "ce995826bed108745f967f51f9ca7421326a1fa802d34e4a3c3a41bb2671436b",
     "updated_at_iso": "2025-08-16T14:48:18.542010+00:00"
    }
   },
   "source": [
    "### Binary Data Types"
   ]
  },
  {
   "cell_type": "markdown",
   "id": "d48e74dc19a44a1e89c3c63884526876",
   "metadata": {
    "editable": true,
    "slideshow": {
     "slide_type": "skip"
    },
    "tags": [
     "translated_en"
    ],
    "translation": {
     "lang": "de",
     "src_hash": "2b78c07c4958d7fc79b93465615d80a3ad42a1c1d73a069faad673be23d7288c",
     "updated_at_iso": "2025-08-16T14:48:29.837421+00:00"
    }
   },
   "source": [
    "In a computer, all data are stored in binary, as a sequence of 0s and 1s. For this, there are specific binary data types in programming languages that allow representing data in this form without converting them to other formats (e.g., text, numbers, bool). Binary data types can represent arbitrary characters. They are commonly used to store complex files such as images, videos, or CAD files.\n",
    "\n",
    "Since they are essentially just a string of characters, they can also be interpreted as a string. Therefore you can create them in Python by prefixing a string with a `b`. This creates a binary string (also a bytearray), whose data type in Python is `bytes`."
   ]
  },
  {
   "cell_type": "code",
   "execution_count": null,
   "id": "2b1b1167c09e430f9678e35ca7c21ede",
   "metadata": {
    "editable": true,
    "slideshow": {
     "slide_type": "skip"
    },
    "tags": [
     "translated_en"
    ],
    "translation": {
     "lang": "de",
     "src_hash": "2a01236d6825463e29e7237a32607c25489006e64bf18596148a57016256546a",
     "updated_at_iso": "2025-08-16T14:48:34.939815+00:00"
    }
   },
   "outputs": [],
   "source": [
    "word = b\"byte\"\n",
    "print(\"Wert: \", word, \"\\nDatentyp: \", type(word))"
   ]
  },
  {
   "cell_type": "markdown",
   "id": "f67a02c2fafa49e99094d3f63f454dc9",
   "metadata": {
    "editable": true,
    "slideshow": {
     "slide_type": "skip"
    },
    "tags": [
     "translated_en"
    ],
    "translation": {
     "lang": "de",
     "src_hash": "dcab3240aea633d410043470d938dbecf3e3857c19b523ebdded411eacb44553",
     "updated_at_iso": "2025-08-16T14:48:43.173659+00:00"
    }
   },
   "source": [
    "The value of a single `byte` in the `bytearray` is typically an integer from 0 to 255. In Python, an `int` is used for this. This can be demonstrated by indexing into the `bytearray` to access a single `byte`."
   ]
  },
  {
   "cell_type": "code",
   "execution_count": null,
   "id": "52e173a4208c4820930f902faef024e3",
   "metadata": {
    "editable": true,
    "slideshow": {
     "slide_type": "skip"
    },
    "tags": [
     "translated_en"
    ],
    "translation": {
     "lang": "de",
     "src_hash": "3a0044b13eeb6ed6b703d3cdcfdb13665224c9dad4541f604653ac53f979bdd4",
     "updated_at_iso": "2025-08-16T14:48:48.765335+00:00"
    }
   },
   "outputs": [],
   "source": [
    "print(\"Wert: \", word[0], \"\\nDatentyp: \", type(word[0]))"
   ]
  },
  {
   "cell_type": "markdown",
   "id": "75d5e9cc116447ecaf7557ce92206071",
   "metadata": {
    "editable": true,
    "slideshow": {
     "slide_type": "skip"
    },
    "tags": [
     "translated_en"
    ],
    "translation": {
     "lang": "de",
     "src_hash": "01003c126de80fa7b9e60318f9de3b96af4f04ebd180f5f066104f772286df63",
     "updated_at_iso": "2025-08-16T14:48:50.664696+00:00"
    }
   },
   "source": [
    "### Sequences"
   ]
  },
  {
   "cell_type": "markdown",
   "id": "5437101409f34aa995a5b58be29b4bfc",
   "metadata": {
    "editable": true,
    "slideshow": {
     "slide_type": "skip"
    },
    "tags": [
     "translated_en"
    ],
    "translation": {
     "lang": "de",
     "src_hash": "dc4b9af592a7c92904fb1dfa57eba05a01d42f71e01cd5d15b9351eeba22866c",
     "updated_at_iso": "2025-08-16T14:49:01.944750+00:00"
    }
   },
   "source": [
    "Sequences are an ordered collection of values. In programming languages, sequences are usually called `Array`s. Arrays often have a fixed, immutable length and contain values of a single data type that is defined at creation. The values inside the array, however, are mutable.\n",
    "\n",
    "Lists are another common data type for sequences. Lists often have no fixed length and can be extended arbitrarily.\n",
    "\n",
    "![](images/02c_Datentypen/datentyp10.svg){width=450px}"
   ]
  },
  {
   "cell_type": "markdown",
   "id": "b300cd535a1a414aa38073d2dffd9f75",
   "metadata": {
    "editable": true,
    "slideshow": {
     "slide_type": "skip"
    },
    "tags": [
     "translated_en"
    ],
    "translation": {
     "lang": "de",
     "src_hash": "2e548361913263ac79cff5f092d37046081a421e9cedf627ecfcf74f66cf0e72",
     "updated_at_iso": "2025-08-16T14:49:09.974474+00:00"
    }
   },
   "source": [
    "Python does not support the data type `Array`, but only lists (`list`) and tuples (`tuple`). Both can contain different data types. The `list` type is declared with square brackets, with the individual values separated by commas. These values can have different data types."
   ]
  },
  {
   "cell_type": "code",
   "execution_count": null,
   "id": "b75e00891082431788639713813bb1a9",
   "metadata": {
    "editable": true,
    "slideshow": {
     "slide_type": "skip"
    },
    "tags": [
     "translated_en"
    ],
    "translation": {
     "lang": "de",
     "src_hash": "1ab7359408d34434e9091e084479217e49cf7d1efc8514901e4286742f77fb44",
     "updated_at_iso": "2025-08-16T14:49:14.612896+00:00"
    }
   },
   "outputs": [],
   "source": [
    "list = [1, 2, 3, \"a\", True]\n",
    "print(\"Wert: \", list, \"\\nDatentyp: \", type(list))"
   ]
  },
  {
   "cell_type": "markdown",
   "id": "58df8a41f7494c0cb6191dcf18f8ea4d",
   "metadata": {
    "editable": true,
    "slideshow": {
     "slide_type": "skip"
    },
    "tags": [
     "translated_en"
    ],
    "translation": {
     "lang": "de",
     "src_hash": "21ac08578deafd3a2678d37b4322356d6c0166cb6d97e4731953aa916b569779",
     "updated_at_iso": "2025-08-16T14:49:17.425659+00:00"
    }
   },
   "source": [
    "Individual values in a list can be overwritten. To do this, you can access individual indices in the list."
   ]
  },
  {
   "cell_type": "code",
   "execution_count": null,
   "id": "f55fb3bc97bc449cae11cec5e31f8898",
   "metadata": {
    "editable": true,
    "slideshow": {
     "slide_type": "skip"
    },
    "tags": [
     "translated_en"
    ],
    "translation": {
     "lang": "de",
     "src_hash": "858fd0ce7c187e78acad9482ddf68f6a2e4982c2fa4bdee7694ca7c0c607f0ff",
     "updated_at_iso": "2025-08-16T14:49:25.360268+00:00"
    }
   },
   "outputs": [],
   "source": [
    "my_list[1] = \"anders\"\n",
    "print(\"Wert: \", my_list)"
   ]
  },
  {
   "cell_type": "markdown",
   "id": "c02f74b17a984f4c9dfaf47db8852d26",
   "metadata": {
    "editable": true,
    "slideshow": {
     "slide_type": "skip"
    },
    "tags": [
     "translated_en"
    ],
    "translation": {
     "lang": "de",
     "src_hash": "bfe94d514a256cc3f140b0b2b511e0d1414d75e0792145df47ed283f7cb2d041",
     "updated_at_iso": "2025-08-16T14:49:30.179940+00:00"
    }
   },
   "source": [
    "Lists can be modified and thereby change their length (which is why they are not arrays). To append a new value to the list, the list's `append()` function can be used."
   ]
  },
  {
   "cell_type": "code",
   "execution_count": null,
   "id": "78c2501e647c4fe88cdb87f500e2548c",
   "metadata": {
    "editable": true,
    "slideshow": {
     "slide_type": "skip"
    },
    "tags": [
     "translated_en"
    ],
    "translation": {
     "lang": "de",
     "src_hash": "7586f57c1bb8c9beffe183f0b8d2c8fb66768371efa89f8a1e01ef5a6c81ea78",
     "updated_at_iso": "2025-08-16T14:49:36.393731+00:00"
    }
   },
   "outputs": [],
   "source": [
    "my_list.append(False)\n",
    "print(\"Wert: \", my_list)"
   ]
  },
  {
   "cell_type": "markdown",
   "id": "fa935803ca1143dda8b4b9c516b54972",
   "metadata": {
    "editable": true,
    "slideshow": {
     "slide_type": "skip"
    },
    "tags": [
     "translated_en"
    ],
    "translation": {
     "lang": "de",
     "src_hash": "2d793a1644df7dea14268ab07f4045223cca6233b7cb9be5493717365da2053e",
     "updated_at_iso": "2025-08-16T14:49:38.674397+00:00"
    }
   },
   "source": [
    "The length of the list can be determined with the `len()` function."
   ]
  },
  {
   "cell_type": "code",
   "execution_count": null,
   "id": "78a78543319047a9b5931d4f251b4ae0",
   "metadata": {
    "editable": true,
    "slideshow": {
     "slide_type": "skip"
    },
    "tags": [
     "translated_en"
    ],
    "translation": {
     "lang": "de",
     "src_hash": "4e2ede6c4a9b67f354a647d62ce5618ffc11d9930bebb70dc54deded19866cf5",
     "updated_at_iso": "2025-08-16T14:49:44.022399+00:00"
    }
   },
   "outputs": [],
   "source": [
    "print(len(my_list))"
   ]
  },
  {
   "cell_type": "markdown",
   "id": "bd7337f3e0cf470083b32210e941a729",
   "metadata": {
    "editable": true,
    "slideshow": {
     "slide_type": "skip"
    },
    "tags": [
     "translated_en"
    ],
    "translation": {
     "lang": "de",
     "src_hash": "6ab1cd60edb309117e2fc2b78b53a84522ecd75a823daec8f74a2f015038c7d1",
     "updated_at_iso": "2025-08-16T14:49:53.259353+00:00"
    }
   },
   "source": [
    "In Python, `tuple`s have a fixed length compared to lists. Since they can contain different data types, they are not arrays either."
   ]
  },
  {
   "cell_type": "code",
   "execution_count": null,
   "id": "114d066ace8b4b63a4c855d2a029a100",
   "metadata": {
    "editable": true,
    "slideshow": {
     "slide_type": "skip"
    },
    "tags": [
     "translated_en"
    ],
    "translation": {
     "lang": "de",
     "src_hash": "3f2cd9a6ca5cdb7d2fab8fa74e7730bb1916077180351d643f7a56e36c3b986a",
     "updated_at_iso": "2025-08-16T14:50:01.332504+00:00"
    }
   },
   "outputs": [],
   "source": [
    "tuple = (1,2,3,\"a\", True)\n",
    "print(\"Wert: \", tuple, \"\\nDatentyp: \", type(tuple))"
   ]
  },
  {
   "cell_type": "markdown",
   "id": "e8cf61b89b514b15a4eea6ae96bec966",
   "metadata": {
    "editable": true,
    "slideshow": {
     "slide_type": "skip"
    },
    "tags": [
     "translated_en"
    ],
    "translation": {
     "lang": "de",
     "src_hash": "0439ef98c8e5bb6b0b9a45c257f043f4598b338ceeef0ae007c58609f880c2e4",
     "updated_at_iso": "2025-08-16T14:50:05.338014+00:00"
    }
   },
   "source": [
    "The `tuple` is immutable (*immutable*), unlike lists."
   ]
  },
  {
   "cell_type": "code",
   "execution_count": null,
   "id": "6a41b2edf862418984b35ab30b2af2c0",
   "metadata": {
    "editable": true,
    "slideshow": {
     "slide_type": "skip"
    },
    "tags": [
     "raises-exception",
     "translated_en"
    ],
    "translation": {
     "lang": "de",
     "src_hash": "7ad1932aca4c308fdcf334631b3bccf0101ed7c4c3a2d55c63fe84b39babfa77",
     "updated_at_iso": "2025-08-16T14:50:13.769126+00:00"
    }
   },
   "outputs": [],
   "source": [
    "tuple[0] = True\n",
    "print(tuple)"
   ]
  },
  {
   "cell_type": "markdown",
   "id": "d57c2ed9a22f424796652f2ed3d51f9b",
   "metadata": {
    "editable": true,
    "slideshow": {
     "slide_type": "skip"
    },
    "tags": [
     "translated_en"
    ],
    "translation": {
     "lang": "de",
     "src_hash": "4b37a5d08484730e9803a344a69378a9db4a9a24ab178d1c1a57d43b36916906",
     "updated_at_iso": "2025-08-16T14:50:22.384160+00:00"
    }
   },
   "source": [
    "Additionally, there is the special data type `range` to generate a sequence of integers. It is generated by the `range` function."
   ]
  },
  {
   "cell_type": "code",
   "execution_count": null,
   "id": "ea25b5d524b94222afab53c90a2b177b",
   "metadata": {
    "editable": true,
    "slideshow": {
     "slide_type": "skip"
    },
    "tags": [
     "translated_en"
    ],
    "translation": {
     "lang": "de",
     "src_hash": "a28d0998c116b28b932815de5219134e4f8329c26cd9d1dc9e68e9bac62ab9b1",
     "updated_at_iso": "2025-08-16T14:50:26.296958+00:00"
    }
   },
   "outputs": [],
   "source": [
    "number_sequence = range(1,10)\n",
    "print(\"Wert: \", number_sequence, \"\\nDatentyp: \", type(number_sequence))"
   ]
  },
  {
   "cell_type": "markdown",
   "id": "444fa0bb4c2547ea94736253f67b76ab",
   "metadata": {
    "editable": true,
    "slideshow": {
     "slide_type": "skip"
    },
    "tags": [
     "translated_en"
    ],
    "translation": {
     "lang": "de",
     "src_hash": "c5f1012543b0ff3763ff144bce9e823f4c9e01dcfdfdd3f0c96256f77e1a070c",
     "updated_at_iso": "2025-08-16T14:50:31.314743+00:00"
    }
   },
   "source": [
    "To access an element, its index is written in square brackets. In Python, the index in a list starts at 0 (starting at 1 in some programming languages)."
   ]
  },
  {
   "cell_type": "code",
   "execution_count": null,
   "id": "92dfe7f14c23489db6df7ced2ee55d5a",
   "metadata": {
    "editable": true,
    "slideshow": {
     "slide_type": "skip"
    },
    "tags": [
     "translated_en"
    ],
    "translation": {
     "lang": "de",
     "src_hash": "e6b178699734a108963eb4d670afe7e3e15a34c3bbd76f85ff60b76b500f324b",
     "updated_at_iso": "2025-08-16T14:50:35.753992+00:00"
    }
   },
   "outputs": [],
   "source": [
    "print( my_list[0] ) # prints the first element\n",
    "print( my_list[1] ) # prints the second element"
   ]
  },
  {
   "cell_type": "markdown",
   "id": "1736641ddcd44c64bb81f2a9465ebb96",
   "metadata": {
    "editable": true,
    "slideshow": {
     "slide_type": "skip"
    },
    "tags": [
     "translated_en"
    ],
    "translation": {
     "lang": "de",
     "src_hash": "e89c9db6b0782d34be092338fae7dfe9df4d75ad02a8b15515dda0870b391638",
     "updated_at_iso": "2025-08-16T14:50:39.613039+00:00"
    }
   },
   "source": [
    "A peculiarity of Python is that negative indices are also allowed to access the end of lists (this is called *syntax sugar* among programmers)."
   ]
  },
  {
   "cell_type": "code",
   "execution_count": null,
   "id": "21354fc10c354eb08514a55580340af8",
   "metadata": {
    "editable": true,
    "slideshow": {
     "slide_type": "skip"
    },
    "tags": [
     "translated_en"
    ],
    "translation": {
     "lang": "de",
     "src_hash": "4db0c52b0d30a0b954b5134cf8385cc00ee0600f43613febee850731b934e9b2",
     "updated_at_iso": "2025-08-16T14:50:51.247502+00:00"
    }
   },
   "outputs": [],
   "source": [
    "print( list[-1] )             # prints the last element\n",
    "print( list[len(list)-1] )    # would be the usual cumbersome way to output the last element using the length len(list)"
   ]
  },
  {
   "cell_type": "markdown",
   "id": "51407fe2a5d54728a51ef7597f053aca",
   "metadata": {
    "editable": true,
    "slideshow": {
     "slide_type": "skip"
    },
    "tags": [
     "translated_en"
    ],
    "translation": {
     "lang": "de",
     "src_hash": "852b3d8fb1984d314e3daf3010fc500d24b16ac62b7f54f3af34fe6ab1d62509",
     "updated_at_iso": "2025-08-16T14:50:53.481463+00:00"
    }
   },
   "source": [
    "In Python, you can also access parts of lists using slicing. You can use this to create sublists."
   ]
  },
  {
   "cell_type": "code",
   "execution_count": null,
   "id": "5aaf8b21171641018389b267155699ef",
   "metadata": {
    "editable": true,
    "slideshow": {
     "slide_type": "skip"
    },
    "tags": [
     "translated_en"
    ],
    "translation": {
     "lang": "de",
     "src_hash": "e495ccdff6d8af89ce70be01032ab0d41681aae5b725425a7e605ca7f90c0581",
     "updated_at_iso": "2025-08-16T14:51:04.109400+00:00"
    }
   },
   "outputs": [],
   "source": [
    "print(my_list[0:10]) # accesses the first ten elements (excluding 10)\n",
    "print(my_list[:10])  # also accesses the first ten elements (excluding 10)\n",
    "print(my_list[-10:]) # accesses the last ten elements"
   ]
  },
  {
   "cell_type": "markdown",
   "id": "b075fc9fc0124fd5acb4e6310aed3a36",
   "metadata": {
    "editable": true,
    "slideshow": {
     "slide_type": "skip"
    },
    "tags": [
     "translated_en"
    ],
    "translation": {
     "lang": "de",
     "src_hash": "5ba64626ab9870b6297932930c3592db9d871712ddbf0e35737562b3b3b27601",
     "updated_at_iso": "2025-08-16T14:51:05.732459+00:00"
    }
   },
   "source": [
    "### Sets"
   ]
  },
  {
   "cell_type": "markdown",
   "id": "2edfd0e755b34d3eaf2ecaf5c6e19d2c",
   "metadata": {
    "editable": true,
    "slideshow": {
     "slide_type": "skip"
    },
    "tags": [
     "translated_en"
    ],
    "translation": {
     "lang": "de",
     "src_hash": "69c9d72940ce0e39e54fa787b5ffd52cc0660d6b30c4ae04c8ceff87e5a102bb",
     "updated_at_iso": "2025-08-16T14:51:10.458405+00:00"
    }
   },
   "source": [
    "Sets represent a collection of values without duplicates, just like in mathematics.\n",
    "\n",
    "![](images/02c_Datentypen/datentyp11.svg){width=450px}"
   ]
  },
  {
   "cell_type": "markdown",
   "id": "66dbe5c671c54b0aa4bd4a4f7f6c795a",
   "metadata": {
    "editable": true,
    "slideshow": {
     "slide_type": "skip"
    },
    "tags": [
     "translated_en"
    ],
    "translation": {
     "lang": "de",
     "src_hash": "4cc84acafacb3cf08889864277c2c51699b564b2c2299439be51e5dca7dd100f",
     "updated_at_iso": "2025-08-16T15:01:13.373356+00:00"
    }
   },
   "source": [
    "The data type for sets in Python is called `set`. They are declared using curly braces."
   ]
  },
  {
   "cell_type": "code",
   "execution_count": null,
   "id": "7cd3cc92b4734f058bde88adeb80aa2f",
   "metadata": {
    "editable": true,
    "slideshow": {
     "slide_type": "skip"
    },
    "tags": [
     "translated_en"
    ],
    "translation": {
     "lang": "de",
     "src_hash": "aa33688b0a3aefe8e71ea5915b4cb49727a6b8564f9eff687ef0b79cd2ae6515",
     "updated_at_iso": "2025-08-16T15:01:21.142968+00:00"
    }
   },
   "outputs": [],
   "source": [
    "set = {1, 2, 3}\n",
    "print(set)\n",
    "print(type(set))"
   ]
  },
  {
   "cell_type": "markdown",
   "id": "2fb6255620a948bd867ac25df1c8b4c1",
   "metadata": {
    "editable": true,
    "slideshow": {
     "slide_type": "skip"
    },
    "tags": [
     "translated_en"
    ],
    "translation": {
     "lang": "de",
     "src_hash": "0ee75db5f30c6cff5c48feffd69246efcbba54179be2304355469875cc7bf046",
     "updated_at_iso": "2025-08-16T15:01:25.166859+00:00"
    }
   },
   "source": [
    "Sets are a good way to find all unique values in a list that contains duplicates, such as a list of names."
   ]
  },
  {
   "cell_type": "code",
   "execution_count": null,
   "id": "676ffa031a7749d0b6441891cd0d973a",
   "metadata": {
    "editable": true,
    "slideshow": {
     "slide_type": "skip"
    },
    "tags": [
     "translated_en"
    ],
    "translation": {
     "lang": "de",
     "src_hash": "4bfc221e2d0aa31553e1256f3355b2e42ac72125cef4d5c74aa50e7302a73977",
     "updated_at_iso": "2025-08-16T15:01:31.831982+00:00"
    }
   },
   "outputs": [],
   "source": [
    "list_with_repetition = list([1,2,2,2,2,2,3])\n",
    "unique_set = set(list_with_repetition)\n",
    "print(\"Wert: \", unique_set, \"\\nDatentyp: \", type(unique_set))"
   ]
  },
  {
   "cell_type": "markdown",
   "id": "1b935785d60c4f10b3d4f37a4cff9f0f",
   "metadata": {
    "editable": true,
    "slideshow": {
     "slide_type": "skip"
    },
    "tags": [
     "translated_en"
    ],
    "translation": {
     "lang": "de",
     "src_hash": "800b81c074184a730cc0c4ca8f91ac9c77d8eedbdb0c66d3c0d9d1d65885a06c",
     "updated_at_iso": "2025-08-16T15:01:36.114409+00:00"
    }
   },
   "source": [
    "Another important application of sets is to check whether an element is in the set. This can be done with the keyword `in`."
   ]
  },
  {
   "cell_type": "code",
   "execution_count": null,
   "id": "5e66517757c2425d81ea37bf7b10410d",
   "metadata": {
    "editable": true,
    "slideshow": {
     "slide_type": "skip"
    },
    "tags": [
     "translated_en"
    ],
    "translation": {
     "lang": "de",
     "src_hash": "e4d86a1a8e1800d9e4a9e9305e5b278e9545305645cc0a6e4ff0c065d737b32f",
     "updated_at_iso": "2025-08-16T15:01:39.918315+00:00"
    }
   },
   "outputs": [],
   "source": [
    "1 in quantity"
   ]
  },
  {
   "cell_type": "markdown",
   "id": "064a72ec27b6485989ff73d10765b82b",
   "metadata": {
    "editable": true,
    "slideshow": {
     "slide_type": "skip"
    },
    "tags": [
     "translated_en"
    ],
    "translation": {
     "lang": "de",
     "src_hash": "7ca784596ce87bd2681f11b9fb42c1cba12270def1ada62581bd0074979a4031",
     "updated_at_iso": "2025-08-16T15:01:43.058252+00:00"
    }
   },
   "source": [
    "That works the same for the list, but it’s slower, especially when the list is very large (length over 1000)."
   ]
  },
  {
   "cell_type": "code",
   "execution_count": null,
   "id": "e1f041a163f945719c0a2fce29740d49",
   "metadata": {
    "editable": true,
    "slideshow": {
     "slide_type": "skip"
    },
    "tags": [
     "translated_en"
    ],
    "translation": {
     "lang": "de",
     "src_hash": "87ba41b26e5c2c08eff181859b177c3800be36ea64fc74419e8044812c5dcacc",
     "updated_at_iso": "2025-08-16T15:01:47.110319+00:00"
    }
   },
   "outputs": [],
   "source": [
    "1 in list_with_repetition"
   ]
  },
  {
   "cell_type": "markdown",
   "id": "2c68eb1d6682471ebc88e5f59eb680ea",
   "metadata": {
    "editable": true,
    "slideshow": {
     "slide_type": "skip"
    },
    "tags": [
     "translated_en"
    ],
    "translation": {
     "lang": "de",
     "src_hash": "10faafa6ca73932be3f70d730e06edb0b736fb1bd2b30d71f0f68c689d44e0e6",
     "updated_at_iso": "2025-08-16T15:01:48.605367+00:00"
    }
   },
   "source": [
    "### Dictionaries"
   ]
  },
  {
   "cell_type": "markdown",
   "id": "2f0dedc9471f4993acd29ecb33427e2a",
   "metadata": {
    "editable": true,
    "slideshow": {
     "slide_type": "skip"
    },
    "tags": [
     "translated_en"
    ],
    "translation": {
     "lang": "de",
     "src_hash": "833f1a870f33e0ced6f92a3f3649133642180b943d42cbefb91623ee7f7c852d",
     "updated_at_iso": "2025-08-16T15:02:01.088345+00:00"
    }
   },
   "source": [
    "Dictionaries are used in many programming languages to manage key-value pairs, such as the properties of a data object and their values.\n",
    "\n",
    "Mathematically, dictionaries represent a mapping from a set of keys to a set of values (Key-Value). The set of keys must not contain duplicates; the set of values may contain duplicates.\n",
    "\n",
    "![](images/02c_Datentypen/datentyp11.svg){width=450px}"
   ]
  },
  {
   "cell_type": "markdown",
   "id": "8c08474f5dcc4022b7734785f023eded",
   "metadata": {
    "editable": true,
    "slideshow": {
     "slide_type": "skip"
    },
    "tags": [
     "translated_en"
    ],
    "translation": {
     "lang": "de",
     "src_hash": "9c7c9e06cbaf77e4d0ed5879a86be4889ed1c58fd5b89a84904bb4e2ce2a8c58",
     "updated_at_iso": "2025-08-16T15:02:10.228765+00:00"
    }
   },
   "source": [
    "Dictionaries are called maps in most programming languages (from the English term 'mapping'). In Python they are called `dict`. They are defined using curly braces and key/value pairs."
   ]
  },
  {
   "cell_type": "code",
   "execution_count": null,
   "id": "4edabe1fafe74603b9fba7bdf3e31b05",
   "metadata": {
    "editable": true,
    "slideshow": {
     "slide_type": "skip"
    },
    "tags": [
     "translated_en"
    ],
    "translation": {
     "lang": "de",
     "src_hash": "3a5839b2d3e5da2919866f88bd711fd0d57248ef6550020002812439b3a90fc2",
     "updated_at_iso": "2025-08-16T15:02:16.237931+00:00"
    }
   },
   "outputs": [],
   "source": [
    "house = {\n",
    "  \"Gebäudetyp\": \"Wohnhaus\",\n",
    "  \"Baujahr\": 2022\n",
    "}\n",
    "print(\"Wert: \", house, \"\\nDatentyp: \", type(house))"
   ]
  },
  {
   "cell_type": "markdown",
   "id": "b4d9b5afcf0247438134786c1842c4e9",
   "metadata": {
    "editable": true,
    "slideshow": {
     "slide_type": "skip"
    },
    "tags": [
     "translated_en"
    ],
    "translation": {
     "lang": "de",
     "src_hash": "342ff2516185ec63b97adbbf1233a13ec80ad05d64425f1b2ce1cd22801fc7aa",
     "updated_at_iso": "2025-08-16T15:02:18.647657+00:00"
    }
   },
   "source": [
    "New values can be added to dictionaries by assigning a value to a key."
   ]
  },
  {
   "cell_type": "code",
   "execution_count": null,
   "id": "3e226dba48ea4507a66801043b5f7489",
   "metadata": {
    "editable": true,
    "slideshow": {
     "slide_type": "skip"
    },
    "tags": [
     "translated_en"
    ],
    "translation": {
     "lang": "de",
     "src_hash": "b1451443577f00ddec3fbaff95827f49fa9e5a62078a0cde6ec71932aa7d8323",
     "updated_at_iso": "2025-08-16T15:02:28.670289+00:00"
    }
   },
   "outputs": [],
   "source": [
    "house['Material'] = \"Stein\"\n",
    "print(\"Wert: \", house, \"\\nDatentyp: \", type(house))"
   ]
  },
  {
   "cell_type": "markdown",
   "id": "5531a2c7d4754406871f8f1967485990",
   "metadata": {
    "editable": true,
    "slideshow": {
     "slide_type": "skip"
    },
    "tags": [
     "translated_en"
    ],
    "translation": {
     "lang": "de",
     "src_hash": "a3c91b735338e212cf69d34652ac830df179c6a4683f5bba6bf430df80995b27",
     "updated_at_iso": "2025-08-16T15:02:31.299009+00:00"
    }
   },
   "source": [
    "You can also test whether an element is in the `dict` here."
   ]
  },
  {
   "cell_type": "code",
   "execution_count": null,
   "id": "b6ed593f95b74c86900d37b04a60e6a8",
   "metadata": {
    "editable": true,
    "slideshow": {
     "slide_type": "skip"
    },
    "tags": [
     "translated_en"
    ],
    "translation": {
     "lang": "de",
     "src_hash": "b5af70ce54bf44b4b8317d6bfabf3513d085b5ea73eff456675105facc9e7867",
     "updated_at_iso": "2025-08-16T15:02:34.678583+00:00"
    }
   },
   "outputs": [],
   "source": [
    "'Material' in house"
   ]
  },
  {
   "cell_type": "markdown",
   "id": "6df29b4247784735a3515975fc2318af",
   "metadata": {
    "editable": true,
    "slideshow": {
     "slide_type": "skip"
    },
    "tags": [
     "translated_en"
    ],
    "translation": {
     "lang": "de",
     "src_hash": "9207634db56d4cf1587160912ac9b044a935b77fb61fed2ae9b2c46f7dd466e7",
     "updated_at_iso": "2025-08-16T15:02:37.696053+00:00"
    }
   },
   "source": [
    "Values can also be deleted from the index using the `del` keyword."
   ]
  },
  {
   "cell_type": "code",
   "execution_count": null,
   "id": "d48440b8ee3342ca8e58fbe24b4fefa0",
   "metadata": {
    "editable": true,
    "slideshow": {
     "slide_type": "skip"
    },
    "tags": [
     "translated_en"
    ],
    "translation": {
     "lang": "de",
     "src_hash": "b5e296ec11385fde10426a2bf8d760183cd40ce3ecefe33df74b26f4c687bf20",
     "updated_at_iso": "2025-08-16T15:02:42.805390+00:00"
    }
   },
   "outputs": [],
   "source": [
    "del house['Material']\n",
    "print(\"Wert: \", house, \"\\nDatentyp: \", type(house))"
   ]
  },
  {
   "cell_type": "markdown",
   "id": "2ed22c25f97741e08945e5870ccc1f16",
   "metadata": {
    "editable": true,
    "slideshow": {
     "slide_type": "skip"
    },
    "tags": [
     "translated_en"
    ],
    "translation": {
     "lang": "de",
     "src_hash": "6ec18afac42eaec697c213a18478d5e7cd367e0305ae1416cf0ceb976d5f413b",
     "updated_at_iso": "2025-08-16T15:02:45.219184+00:00"
    }
   },
   "source": [
    "### Null Values"
   ]
  },
  {
   "cell_type": "markdown",
   "id": "85d8be1f169c443fb513b7b19b2dc2f4",
   "metadata": {
    "editable": true,
    "slideshow": {
     "slide_type": "skip"
    },
    "tags": [
     "translated_en"
    ],
    "translation": {
     "lang": "de",
     "src_hash": "4b0edb70eecb824f042cc43d0ad1efa8b989c3c7fcfc91c2ff9b9afa3ccf782a",
     "updated_at_iso": "2025-08-16T15:02:48.595546+00:00"
    }
   },
   "source": [
    "In many programming languages there is also a value to represent a missing value, e.g. when something isn't there.\n",
    "\n",
    "![](images/02c_Datentypen/datentyp12.svg){width=450px}"
   ]
  },
  {
   "cell_type": "markdown",
   "id": "6ca7bea086f94245ae083fad48d75603",
   "metadata": {
    "editable": true,
    "slideshow": {
     "slide_type": "skip"
    },
    "tags": [
     "translated_en"
    ],
    "translation": {
     "lang": "de",
     "src_hash": "bacf078cef2b0bbad942f3bd6a9a60196bd973cf431ea799a1c0cbd85c5e8e1d",
     "updated_at_iso": "2025-08-16T15:02:51.418158+00:00"
    }
   },
   "source": [
    "In Python, the null value is called `None`, and its data type is `NoneType`."
   ]
  },
  {
   "cell_type": "code",
   "execution_count": null,
   "id": "f709887911cc4c76a791be92d01b9de9",
   "metadata": {
    "editable": true,
    "slideshow": {
     "slide_type": "skip"
    },
    "tags": [
     "translated_en"
    ],
    "translation": {
     "lang": "de",
     "src_hash": "0bf1200edf76aca0ea3bf01c147beea6efbe8818c0ef8cdacab0173aff129da0",
     "updated_at_iso": "2025-08-16T15:02:54.444063+00:00"
    }
   },
   "outputs": [],
   "source": [
    "no_value_yet = None\n",
    "print(\"Wert: \", no_value_yet, \"\\nDatentyp: \", type(no_value_yet))"
   ]
  },
  {
   "cell_type": "markdown",
   "id": "97645f1967864cc689b779a6127c2cea",
   "metadata": {
    "editable": true,
    "slideshow": {
     "slide_type": "skip"
    },
    "tags": [
     "translated_en"
    ],
    "translation": {
     "lang": "de",
     "src_hash": "0b9ef1bd3ad48bd83abbaf4fe93bca083d0f12b2725d7e032fdd9bf0ba8ebfb9",
     "updated_at_iso": "2025-08-16T15:02:57.627576+00:00"
    }
   },
   "source": [
    "The `None` value is often used, for example, to indicate that a variable exists but has not yet been assigned a value."
   ]
  },
  {
   "cell_type": "markdown",
   "id": "e1daa5f79213440c97c96b67177baf26",
   "metadata": {
    "editable": true,
    "slideshow": {
     "slide_type": "skip"
    },
    "tags": [
     "translated_en"
    ],
    "translation": {
     "lang": "de",
     "src_hash": "40b8bff19bad238e2f8f73aca9bea4ef0c38cd2df4e9eb21ee4cf1b11fe8e175",
     "updated_at_iso": "2025-08-16T15:03:06.929787+00:00"
    }
   },
   "source": [
    "<div class=\"alert alert-block alert-warning\">\n",
    "\n",
    "The null value is controversial in computer science because it can lead to errors when programming languages use it very often (as Java does). Some modern programming languages have therefore done away with it. \n",
    "\n",
    "The problem is that you can't distinguish whether something is `None` — undefined — or `None` — defined as null.\n",
    "\n",
    "This also happens in Python. The `get()` function of a `dict` returns, for example, the value for a key in the dictionary and `None` when this key is not present.\n",
    "\n",
    "</div>"
   ]
  },
  {
   "cell_type": "code",
   "execution_count": null,
   "id": "a17f68cabc6d4a05a2cf9886e01ef3d0",
   "metadata": {
    "editable": true,
    "slideshow": {
     "slide_type": "skip"
    },
    "tags": [
     "translated_en"
    ],
    "translation": {
     "lang": "de",
     "src_hash": "cd9239628172fb169881986204a6091dfb57d4563345fd13264b2263d7983b99",
     "updated_at_iso": "2025-08-16T15:03:11.249799+00:00"
    }
   },
   "outputs": [],
   "source": [
    "print(house.get('schluessel_fehlt'))"
   ]
  },
  {
   "cell_type": "markdown",
   "id": "04e1c502721d4bf3b74566d6e7de366c",
   "metadata": {
    "editable": true,
    "slideshow": {
     "slide_type": "skip"
    },
    "tags": [
     "translated_en"
    ],
    "translation": {
     "lang": "de",
     "src_hash": "b90e80daef2b3237256739c68e686c8722aa3fc4e855a8c704378cb6b564320e",
     "updated_at_iso": "2025-08-16T15:03:13.688909+00:00"
    }
   },
   "source": [
    "However, you can also assign `None` to a value in a dictionary."
   ]
  },
  {
   "cell_type": "code",
   "execution_count": null,
   "id": "25f3562fa00545cb8f23e25dfb379b62",
   "metadata": {
    "editable": true,
    "slideshow": {
     "slide_type": "skip"
    },
    "tags": [
     "translated_en"
    ],
    "translation": {
     "lang": "de",
     "src_hash": "24ad6d7f11d6ebc82ceca985430cea027f86bedc5adaf0de956803811720d768",
     "updated_at_iso": "2025-08-16T15:03:18.470983+00:00"
    }
   },
   "outputs": [],
   "source": [
    "house['ist_none'] = None\n",
    "print(house.get('ist_none'))"
   ]
  },
  {
   "cell_type": "markdown",
   "id": "4cd0934ee8fa4997a0554bc19b7d705c",
   "metadata": {
    "editable": true,
    "slideshow": {
     "slide_type": "skip"
    },
    "tags": [
     "translated_en"
    ],
    "translation": {
     "lang": "de",
     "src_hash": "be3f17b07e93ebd1ba78506041866fe5b2246d85996a24880e88ed242447db6d",
     "updated_at_iso": "2025-08-16T15:03:22.499608+00:00"
    }
   },
   "source": [
    "In both cases, the `get()` function returns `None`, and you can no longer directly tell whether the value is not present or is set to `None`."
   ]
  },
  {
   "cell_type": "markdown",
   "id": "2d1adfca13f54b97b46b11958115ff9e",
   "metadata": {
    "editable": true,
    "slideshow": {
     "slide_type": "skip"
    },
    "tags": [
     "translated_en"
    ],
    "translation": {
     "lang": "de",
     "src_hash": "ea4f61c83eb7817c5e3d85cde00679057d51c13414b3c90886535d175978cb49",
     "updated_at_iso": "2025-08-16T15:03:25.452955+00:00"
    }
   },
   "source": [
    "## Modifiability (Mutability)"
   ]
  },
  {
   "cell_type": "markdown",
   "id": "56676f8ecabf45849ca9012f115f0a29",
   "metadata": {
    "editable": true,
    "slideshow": {
     "slide_type": "skip"
    },
    "tags": [
     "translated_en"
    ],
    "translation": {
     "lang": "de",
     "src_hash": "33ab170dc39d96a013fd2d692c24290babf11e8a025501b8fb9202d20448239f",
     "updated_at_iso": "2025-08-16T15:03:34.151637+00:00"
    }
   },
   "source": [
    "Generally, programming languages distinguish between mutable and immutable data types. \n",
    "\n",
    "<div class=\"alert alert-block alert-success\">\n",
    "    <b>📘 Definition: Mutability</b><br/>\n",
    "Modifiability describes the mutability of data structures.\n",
    "\n",
    "- If a data type is *mutable*, variables of this type can be modified directly.\n",
    "- If it is *immutable*, you can only change them through a complete reassignment.\n",
    "</div>"
   ]
  },
  {
   "cell_type": "markdown",
   "id": "242525e65ef94c9ea9342fc14fddcb67",
   "metadata": {
    "editable": true,
    "slideshow": {
     "slide_type": "skip"
    },
    "tags": [
     "translated_en"
    ],
    "translation": {
     "lang": "de",
     "src_hash": "a8c079e535686703b46667291f57642ef2b42f6e26605552876319c7e11d27d0",
     "updated_at_iso": "2025-08-16T15:03:45.115715+00:00"
    }
   },
   "source": [
    "To prevent programming errors and ensure data security (privacy), some programming languages distinguish very strictly between mutable and immutable data types.\n",
    "\n",
    "| Mutable (changeable) | Immutable (unchangeable) |\n",
    "|----------------------|-------------------------|\n",
    "| `list`               | `tuple`                 |\n",
    "| `set`                | `frozenset`             |\n",
    "| `dict`               | `frozendict`            |\n",
    "| `bytearray`          | `bytes`                 |"
   ]
  },
  {
   "cell_type": "markdown",
   "id": "f181df300cfa4d0f9918c85d90f41a4b",
   "metadata": {
    "slideshow": {
     "slide_type": "slide"
    },
    "tags": [
     "remove-cell",
     "translated_en"
    ],
    "translation": {
     "lang": "de",
     "src_hash": "5650f3598e13ed6b4e3c781f5e858478fcdcf049b8c87c2fb81e840553031b1b",
     "updated_at_iso": "2025-08-16T15:03:58.420541+00:00"
    }
   },
   "source": [
    "<div class=\"vslide\">\n",
    "  <div class=\"vslide-title\">\n",
    "    <p style=\"font-family: Protomolecule; font-size: 2.3em; line-height: 90%; margin: 0px auto; text-align: center; width: 100%;\"><span style=\"letter-spacing: .04rem;\">programming</span><br><span style=\"letter-spacing: .0rem;\">and databases</span></p>\n",
    "<p class=\"author\" style=\"font-family: Protomolecule; margin: 0px auto;  text-align: center; width: 100%; font-size: 1.2em;\">Joern Ploennigs</p>\n",
    "<p class=\"subtitle\" style=\"font-family: Protomolecule; margin: 1em auto; text-align: center; width: 100%; font-size: 1.2em;\">Data types</p>\n",
    "    <figcaption>Midjourney: Datatype Jungle, ref. Henri Rousseau</figcaption>\n",
    "  </div>\n",
    "<script>\n",
    "  function setSectionBackground(c,v){\n",
    "    let e=document.currentScript.previousElementSibling;\n",
    "    while(e&&e.tagName!=='SECTION')e=e.parentElement;\n",
    "    if(e){\n",
    "      if(c)e.setAttribute('data-background-color',c);\n",
    "      if(v){\n",
    "        e.setAttribute('data-background-video',v);\n",
    "        e.setAttribute('data-background-video-loop','true');\n",
    "        e.setAttribute('data-background-video-muted','true');\n",
    "      }\n",
    "    }\n",
    "  }\n",
    "  setSectionBackground('#000000', 'images/02c_Datentypen/mj_title.mp4');\n",
    "</script>\n",
    "<style>\n",
    ".flex-row{display:flex; gap:2rem; align-items:flex-start; justify-content:space-between;}\n",
    ".flex-row .col1{flex:1; min-width:10px}\n",
    ".flex-row .col2{flex:2; min-width:10px}\n",
    ".flex-row .col3{flex:3; min-width:10px}\n",
    ".flex-row .col4{flex:4; min-width:10px}\n",
    ".flex-row .col5{flex:5; min-width:10px}\n",
    ".flex-row .col6{flex:6; min-width:10px}\n",
    ".flex-row .col7{flex:7; min-width:10px}\n",
    ".vcent{display:flex; align-items:center; justify-content:center}\n",
    "</style>\n",
    "</div>"
   ]
  },
  {
   "cell_type": "markdown",
   "id": "fb8d038c7de64b83adb90db3e639a0a7",
   "metadata": {
    "slideshow": {
     "slide_type": "subslide"
    },
    "tags": [
     "remove-cell",
     "translated_en"
    ],
    "translation": {
     "lang": "de",
     "src_hash": "20a7639555c3d2e2c8875535b17f19d381144828a8a9f7ad489ec321689ca3e3",
     "updated_at_iso": "2025-08-16T15:04:01.745731+00:00"
    }
   },
   "source": [
    "## Process\n",
    "\n",
    "![](images/partA_3.svg)"
   ]
  },
  {
   "cell_type": "markdown",
   "id": "6c34526ab0ed42639b9a03e802fff872",
   "metadata": {
    "editable": true,
    "slideshow": {
     "slide_type": "slide"
    },
    "tags": [
     "remove-cell",
     "translated_en"
    ],
    "translation": {
     "lang": "de",
     "src_hash": "fd9725e157351b383db8222a40f9202659faa784437437a166ccd16fdad0f053",
     "updated_at_iso": "2025-08-16T15:04:06.805619+00:00"
    }
   },
   "source": [
    "## Variables\n",
    "\n",
    "<div class=\"alert alert-block alert-success\">\n",
    "<b>📘 Definition: Variables</b>\n",
    "\n",
    "In programming, a variable is a value that arises during the execution of a computer program and can usually be changed. A variable is normally identified in source code by a name, has a data type, and an address in the computer's memory.\n",
    "</div>\n",
    "\n",
    "<div class=\"alert alert-block alert-success\">\n",
    "<b>📘 Definition: Constant</b>\n",
    "\n",
    "A constant is a value that cannot be changed once it has been assigned.\n",
    "</div>"
   ]
  },
  {
   "cell_type": "markdown",
   "id": "7133000e710444e19681a17b0cfe9983",
   "metadata": {
    "editable": true,
    "slideshow": {
     "slide_type": "subslide"
    },
    "tags": [
     "remove-cell",
     "translated_en"
    ],
    "translation": {
     "lang": "de",
     "src_hash": "1c69c0b386f28db5a491b44a21db5cc80b6bb3937120a5f993bdc9ed3e8a5956",
     "updated_at_iso": "2025-08-16T15:04:13.668288+00:00"
    }
   },
   "source": [
    "## Variables in Python\n",
    "\n",
    "Variables in Python do not need to be explicitly declared (as in many other programming languages); instead, they are assigned a value using the assignment operator (=).\n",
    "\n",
    "Example:\n",
    "```python\n",
    "a = 1  # a has the value 1\n",
    "\n",
    "a = 2 # a now has the value 2\n",
    "\n",
    "a = \"test\" # a now has the value \"test\" \n",
    "```\n",
    "\n",
    "The type of a variable can be queried with the function type(a)."
   ]
  },
  {
   "cell_type": "markdown",
   "id": "055031de111b43808bef1a1ffadf4c0c",
   "metadata": {
    "editable": true,
    "slideshow": {
     "slide_type": "subslide"
    },
    "tags": [
     "remove-cell",
     "translated_en"
    ],
    "translation": {
     "lang": "de",
     "src_hash": "ee4dc04dfe3637cfd0d68d3f3d2741899981ad6b76a0b227a72ccf18c8a89482",
     "updated_at_iso": "2025-08-16T15:04:20.853699+00:00"
    }
   },
   "source": [
    "## Variable Names\n",
    "\n",
    "* Use names that clearly convey the meaning and content of the variables.\n",
    "* Avoid overly generic names like 'data' or 'v'.\n",
    "* Keep the naming conventions in your code consistent.\n",
    "* Use lowercase letters with underscores (_) to separate words (snake_case), e.g., `my_variable`.\n",
    "* Avoid special characters such as ä, ö, ü, ß, as these can cause problems with character encoding.\n",
    "* Do not use reserved keywords of the programming language as variable names (e.g., `if`, `for`, `while`).\n",
    "* Avoid abbreviations or acronyms, unless they are generally understood (e.g., 'GDP').\n",
    "* Strive for a balance between clarity and brevity."
   ]
  },
  {
   "cell_type": "markdown",
   "id": "9e210f0c47304657aae2a99f642a7720",
   "metadata": {
    "editable": true,
    "slideshow": {
     "slide_type": "subslide"
    },
    "tags": [
     "remove-cell",
     "translated_en"
    ],
    "translation": {
     "lang": "de",
     "src_hash": "f0a38ce57b6af3ccd119aa6a5739ae7ab4277c81f5d2bf3e037bece02289e3a9",
     "updated_at_iso": "2025-08-16T15:04:30.261457+00:00"
    }
   },
   "source": [
    "## Examples of good and bad variable names\n",
    "\n",
    "| Good          | Bad       | Description                                          |\n",
    "|--------------|-----------|------------------------------------------------------|\n",
    "| age          | a         | Clearly represents a person's age.                  |\n",
    "| first_name   | fn        | Clearly describes the first name.                    |\n",
    "| birth_year   | by        | Clearly and unambiguously indicates the birth year. |\n",
    "| email_address| email     | Makes it clear that this is an email address.        |\n",
    "| is_on        | on        | `is_` indicates that this is a boolean value.        |\n",
    "| product_list | products  | Makes it clear that this is a list.                  |\n",
    "| score_total  | score     | Shows that this is the total sum.                    |\n",
    "| user_count   | count     | Indicates that this is the number of users.          |"
   ]
  },
  {
   "cell_type": "markdown",
   "id": "b6510b74b1bd4409a8302004b42512cf",
   "metadata": {
    "editable": true,
    "slideshow": {
     "slide_type": "subslide"
    },
    "tags": [
     "remove-cell",
     "translated_en"
    ],
    "translation": {
     "lang": "de",
     "src_hash": "3e81fd3ee1268c72b3e09c9324b80834168e1576f04e49349200b944fd0ae3a6",
     "updated_at_iso": "2025-08-16T15:04:35.594290+00:00"
    }
   },
   "source": [
    "## Data Type\n",
    "\n",
    "<div class=\"alert alert-block alert-success\">\n",
    "<b>📘 Definition: Data Type</b>\n",
    "\n",
    "The data type specifies the kind of data described by it and the operations that can be performed on that data.\n",
    "</div>"
   ]
  },
  {
   "cell_type": "markdown",
   "id": "52db4f0dc10544ee9bed3daa29b8a563",
   "metadata": {
    "editable": true,
    "slideshow": {
     "slide_type": "subslide"
    },
    "tags": [
     "remove-cell",
     "translated_en"
    ],
    "translation": {
     "lang": "de",
     "src_hash": "2a09510be9f3164e5d339005b0cc55f0cb659d9799027f8bc5cd3da5d8dbd737",
     "updated_at_iso": "2025-08-16T15:04:43.362848+00:00"
    }
   },
   "source": [
    "## Data Types - Structure\n",
    "\n",
    "<div class=\"flex-row\">\n",
    "<div class=\"col1\">\n",
    "\n",
    "- Simple data types (primitive data types) can only hold a single value within the corresponding value range.\n",
    "\n",
    "- Composite data types (complex data types) are data constructs that consist of simpler data types. Since they can theoretically become arbitrarily complex, they are often counted among data structures.\n",
    "\n",
    "</div>\n",
    "<div class=\"col1\">\n",
    "\n",
    "![](images/02c_Datentypen/datentyp1.svg)\n",
    "\n",
    "</div>\n",
    "</div>"
   ]
  },
  {
   "cell_type": "markdown",
   "id": "6075eb356ce04aa68c2b7f045aee449a",
   "metadata": {
    "editable": true,
    "slideshow": {
     "slide_type": "slide"
    },
    "tags": [
     "remove-cell",
     "translated_en"
    ],
    "translation": {
     "lang": "de",
     "src_hash": "3db5317387c95f64f4b4bb2f73fbb4f4a5569b8392e78cbf2b4833e96fa0b8da",
     "updated_at_iso": "2025-08-16T15:04:58.419459+00:00"
    }
   },
   "source": [
    "## Primitive Data Types - Numeric\n",
    "\n",
    "<div class=\"flex-row\">\n",
    "<div class=\"col1\">\n",
    "\n",
    "- Numeric data types represent numbers.\n",
    "\n",
    "- Integers and natural numbers are represented as signed and unsigned integers. Depending on storage capacity, the following sizes are distinguished:\n",
    "    - Short integer (8-bit),\n",
    "    - Integer (32-bit) and\n",
    "    - Long (64-bit).\n",
    "\n",
    "- Real numbers are represented as floating-point numbers\n",
    "    - Float (32-bit) or\n",
    "    - Double (64-bit)\n",
    "\n",
    "- These variants are named differently in different programming languages.\n",
    "\n",
    "</div>\n",
    "<div class=\"col1\">\n",
    "\n",
    "![](images/02c_Datentypen/datentyp2.svg)\n",
    "\n",
    "</div>\n",
    "</div>"
   ]
  },
  {
   "cell_type": "markdown",
   "id": "7a9957d43f584db7b8488bf3b0d2f61c",
   "metadata": {
    "editable": true,
    "slideshow": {
     "slide_type": "subslide"
    },
    "tags": [
     "remove-cell",
     "translated_en"
    ],
    "translation": {
     "lang": "de",
     "src_hash": "8a5379f510a64da1428b40c3d35936c579eec3f0769450d23f0aae3431a92cd6",
     "updated_at_iso": "2025-08-16T15:05:06.180599+00:00"
    }
   },
   "source": [
    "## Simple Data Types – Numeric in Python\n",
    "\n",
    "<div class=\"flex-row\">\n",
    "<div class=\"col1\">\n",
    "\n",
    "- Integers and natural numbers are represented in Python by the integer type `int`, and no distinction is made between them.\n",
    "\n",
    "- Real numbers are represented as the floating-point type `float`.\n",
    "\n",
    "- **Note**: Cython, a typed variant of Python that compiles to C (i.e., not interpreted), differentiates between `(signed) short/int/long` types and `float/double` to run faster.\n",
    "\n",
    "</div>\n",
    "<div class=\"col1\">\n",
    "\n",
    "![](images/02c_Datentypen/datentyp3.svg)\n",
    "\n",
    "</div>\n",
    "</div>"
   ]
  },
  {
   "cell_type": "markdown",
   "id": "eaeda6884c4947a0adf0ed9838f41cc4",
   "metadata": {
    "editable": true,
    "slideshow": {
     "slide_type": "subslide"
    },
    "tags": [
     "remove-cell",
     "translated_en"
    ],
    "translation": {
     "lang": "de",
     "src_hash": "eb9ccc2f09ef684ca0d7f8d291621db5dd879d26fd25c251322b51f295bce37b",
     "updated_at_iso": "2025-08-16T15:05:12.320465+00:00"
    }
   },
   "source": [
    "## Basic Data Types - Boolean\n",
    "\n",
    "<div class=\"flex-row\">\n",
    "<div class=\"col1\">\n",
    "\n",
    "- Boolean data types represent binary values such as true or false.\n",
    "\n",
    "- Truth values are referred to as boolean values.\n",
    "\n",
    "</div>\n",
    "<div class=\"col1\">\n",
    "\n",
    "![](images/02c_Datentypen/datentyp4.svg)\n",
    "\n",
    "</div>\n",
    "</div>"
   ]
  },
  {
   "cell_type": "markdown",
   "id": "35338afab2724fbda2936ed76bb9bdc9",
   "metadata": {
    "editable": true,
    "slideshow": {
     "slide_type": "subslide"
    },
    "tags": [
     "remove-cell",
     "translated_en"
    ],
    "translation": {
     "lang": "de",
     "src_hash": "8ad0725dd5804c925f4b7635930905fb608628b1b4dbfd6a8789d106b2cfca59",
     "updated_at_iso": "2025-08-16T15:05:23.164859+00:00"
    }
   },
   "source": [
    "## Simple Data Types – Booleans in Python\n",
    "\n",
    "<div class=\"flex-row\">\n",
    "<div class=\"col1\">\n",
    "\n",
    "- In Python, boolean (binary) values are called `bool`.\n",
    "\n",
    "- The value 'True' is written in Python as `True` and 'False' as `False`.\n",
    "\n",
    "</div>\n",
    "<div class=\"col1\">\n",
    "\n",
    "![](images/02c_Datentypen/datentyp5.svg)\n",
    "\n",
    "</div>\n",
    "</div>"
   ]
  },
  {
   "cell_type": "markdown",
   "id": "7757de91aeaf458e8bd71b0479257432",
   "metadata": {
    "editable": true,
    "slideshow": {
     "slide_type": "subslide"
    },
    "tags": [
     "remove-cell",
     "translated_en"
    ],
    "translation": {
     "lang": "de",
     "src_hash": "73a8b8781ba488195be767336411bde13cab83d013225f8959a14ba2bd89acd1",
     "updated_at_iso": "2025-08-16T15:05:36.206738+00:00"
    }
   },
   "source": [
    "## Simple Data Types - Textual\n",
    "\n",
    "<div class=\"flex-row\">\n",
    "<div class=\"col1\">\n",
    "\n",
    "- Textual data types represent letters.\n",
    "\n",
    "- A single textual character is called a char.\n",
    "\n",
    "- A string is a sequence of textual characters (it is sometimes also counted among the composite data types).\n",
    "\n",
    "</div>\n",
    "<div class=\"col1\">\n",
    "\n",
    "![](images/02c_Datentypen/datentyp6.svg)\n",
    "\n",
    "</div>\n",
    "</div>"
   ]
  },
  {
   "cell_type": "markdown",
   "id": "f3b21c965f9246e791d6effcda76d499",
   "metadata": {
    "editable": true,
    "slideshow": {
     "slide_type": "subslide"
    },
    "tags": [
     "remove-cell",
     "translated_en"
    ],
    "translation": {
     "lang": "de",
     "src_hash": "4a679e8cbff51538fd6829056b52974459fae2ee5305c461067aa279f7f700e8",
     "updated_at_iso": "2025-08-16T15:05:50.373266+00:00"
    }
   },
   "source": [
    "## Simple Data Types – Textual Data in Python\n",
    "\n",
    "<div class=\"flex-row\">\n",
    "<div class=\"col1\">\n",
    "\n",
    "- Individual textual characters are represented in Python as `str` with length 1.\n",
    "\n",
    "- Multiple textual characters are defined in Python as `str`.\n",
    "\n",
    "- A `str` in Python can be started and ended with either a `'` or a `\"` quotation mark.\n",
    "\n",
    "  ```python\n",
    "  name = \"Joern\"\n",
    "  name = 'Joern'\n",
    "  ```\n",
    "\n",
    "</div>\n",
    "<div class=\"col1\">\n",
    "\n",
    "![](images/02c_Datentypen/datentyp7.svg)\n",
    "\n",
    "</div>\n",
    "</div>"
   ]
  },
  {
   "cell_type": "markdown",
   "id": "c35889b6cb5d4a7c8c65ede8c2340083",
   "metadata": {
    "editable": true,
    "slideshow": {
     "slide_type": "subslide"
    },
    "tags": [
     "remove-cell",
     "translated_en"
    ],
    "translation": {
     "lang": "de",
     "src_hash": "cd1021a6943f9807b9952757b8719be1b63dec1856580cf33f8d5f3d5cee5f02",
     "updated_at_iso": "2025-08-16T15:05:57.875516+00:00"
    }
   },
   "source": [
    "## Primitive Data Types - Binary\n",
    "\n",
    "<div class=\"flex-row\">\n",
    "<div class=\"col1\">\n",
    "\n",
    "- Binary data types can represent arbitrary characters.\n",
    "\n",
    "- A single binary character is called a byte.\n",
    "\n",
    "- Several characters are referred to as a byte array or byte string (they are also sometimes counted among the composite data types).\n",
    "\n",
    "</div>\n",
    "<div class=\"col1\">\n",
    "\n",
    "![](images/02c_Datentypen/datentyp8.svg)\n",
    "\n",
    "</div>\n",
    "</div>"
   ]
  },
  {
   "cell_type": "markdown",
   "id": "562d66a973bf4bb08b2852050b3117d3",
   "metadata": {
    "editable": true,
    "slideshow": {
     "slide_type": "subslide"
    },
    "tags": [
     "remove-cell",
     "translated_en"
    ],
    "translation": {
     "lang": "de",
     "src_hash": "0e60afa7d2ce44bc398f84ed466e9b0ba9c54c89afaa883dcf4a863599621694",
     "updated_at_iso": "2025-08-16T15:06:03.135768+00:00"
    }
   },
   "source": [
    "## Simple Data Types – Binary in Python\n",
    "\n",
    "<div class=\"flex-row\">\n",
    "<div class=\"col1\">\n",
    "\n",
    "- Binary data types can represent arbitrary characters.\n",
    "\n",
    "- Individual binary characters are represented in Python as `int`.\n",
    "\n",
    "- Multiple binary characters are referred to as `bytes`.\n",
    "\n",
    "- A bytes object in Python is declared as a string with a leading `b`.\n",
    "\n",
    "  ```python\n",
    "  name = b\"Joern\"\n",
    "  name = b'Joern'\n",
    "  ```\n",
    "\n",
    "</div>\n",
    "<div class=\"col1\">\n",
    "\n",
    "![](images/02c_Datentypen/datentyp9.svg)\n",
    "\n",
    "</div>\n",
    "</div>"
   ]
  },
  {
   "cell_type": "markdown",
   "id": "473b0609633e445fb922ec1ea8437304",
   "metadata": {
    "editable": true,
    "slideshow": {
     "slide_type": "slide"
    },
    "tags": [
     "remove-cell",
     "translated_en"
    ],
    "translation": {
     "lang": "de",
     "src_hash": "5fffac4eb057da87f0affee3a52a39b8c115d9b378f1dceef14c169cd6bb2fb1",
     "updated_at_iso": "2025-08-16T15:06:14.180539+00:00"
    }
   },
   "source": [
    "## Composite Data Types – Sequences\n",
    "\n",
    "<div class=\"flex-row\">\n",
    "<div class=\"col1\">\n",
    "\n",
    "- Sequences are an ordered collection of values, usually of the same data type.\n",
    "\n",
    "- Sequences are typically referred to as arrays in programming languages. Arrays often have a fixed, immutable length defined at creation. The values are mutable.\n",
    "\n",
    "  Example in Cython:\n",
    "\n",
    "  ```python\n",
    "  cdef int a = 5 # Variable declaration\n",
    "  cdef int a[5] = [0, 1, 2, 3, 4] # Array declaration\n",
    "  ```\n",
    "\n",
    "- Lists are another common data type for sequences. Lists often have no fixed length and can be extended arbitrarily.\n",
    "\n",
    "</div>\n",
    "<div class=\"col1\">\n",
    "\n",
    "![](images/02c_Datentypen/datentyp10.svg)\n",
    "\n",
    "</div>\n",
    "</div>"
   ]
  },
  {
   "cell_type": "markdown",
   "id": "388b757bc71c44c3af51d156d9c3084f",
   "metadata": {
    "editable": true,
    "slideshow": {
     "slide_type": "subslide"
    },
    "tags": [
     "remove-cell",
     "translated_en"
    ],
    "translation": {
     "lang": "de",
     "src_hash": "07a3f50857a2cde965d717f203e5a2398447b1d6263aade93a97e661f4a7d34f",
     "updated_at_iso": "2025-08-16T15:06:22.695911+00:00"
    }
   },
   "source": [
    "## Composite Data Types – Sequences in Python\n",
    "\n",
    "<div class=\"flex-row\">\n",
    "<div class=\"col1\">\n",
    "\n",
    "- Python doesn't have arrays; it uses `list` and `tuple`. They are declared using square or round brackets.\n",
    "\n",
    "\t```python\n",
    "  x = [0, 1, 2, 3, 1] # List\n",
    "\tx = (0, 1, 2, 3, 1) # Tuple\n",
    "  ```\n",
    "\n",
    "- `tuple`s have a fixed length in Python. They are immutable.\n",
    "\n",
    "- Additionally, there is the special data type `range` to generate a sequence of integers. \n",
    "\n",
    "\t```python\n",
    "  x = range(0,10) # Range function\n",
    "  ```\n",
    "\n",
    "</div>\n",
    "<div class=\"col1\">\n",
    "\n",
    "![](images/02c_Datentypen/datentyp11a.svg)\n",
    "\n",
    "</div>\n",
    "</div>"
   ]
  },
  {
   "cell_type": "markdown",
   "id": "82738aa198fe41da8886505449af2768",
   "metadata": {
    "editable": true,
    "slideshow": {
     "slide_type": "subslide"
    },
    "tags": [
     "remove-cell",
     "translated_en"
    ],
    "translation": {
     "lang": "de",
     "src_hash": "655849566238e92e416125727742eb0bd640fd8de25570de2f410d835179c479",
     "updated_at_iso": "2025-08-16T15:06:33.177441+00:00"
    }
   },
   "source": [
    "## Composite Data Types – Sequences: Accessing Elements\n",
    "\n",
    "<div class=\"flex-row\">\n",
    "<div class=\"col1\">\n",
    "\n",
    "- To access an element, the index is written in square brackets.\n",
    "\n",
    "- In Python, the index in a list starts at 0 (starting at 1 in some languages). \n",
    "\n",
    "  ```python\n",
    "\tx[0] # 1st element\n",
    "\tx[1] # 2nd element\n",
    "  ```\n",
    "\n",
    "- A peculiarity in Python is that negative indices are allowed to access the end of lists (a.k.a. syntax sugar)\n",
    "\n",
    "  ```python\n",
    "\tx[-1] # last element\n",
    "\tx[len(x) - 1] # alternative approach\n",
    "  ```\n",
    "\n",
    "- In Python, slicing can also be used to access portions of lists\n",
    "\n",
    "  ```python\n",
    "\tx[0:10] # first 10 elements (not including 10)\n",
    "\tx[:10]  # first 10 elements (not including 10)\n",
    "\tx[-10:] # last 10 elements\n",
    "  ```\n",
    "\n",
    "</div>\n",
    "<div class=\"col1\">\n",
    "\n",
    "![](images/02c_Datentypen/datentyp11a.svg)\n",
    "\n",
    "</div>\n",
    "</div>"
   ]
  },
  {
   "cell_type": "markdown",
   "id": "101390cd187c46148017aac3a6e8aab2",
   "metadata": {
    "editable": true,
    "slideshow": {
     "slide_type": "subslide"
    },
    "tags": [
     "remove-cell",
     "translated_en"
    ],
    "translation": {
     "lang": "de",
     "src_hash": "e0a7d02048f5953bbc292d4ed0da704bbfc57cd79516b36c954cce184ec631e2",
     "updated_at_iso": "2025-08-16T15:06:41.753948+00:00"
    }
   },
   "source": [
    "## Composite Data Types – Sets\n",
    "\n",
    "<div class=\"flex-row\">\n",
    "<div class=\"col1\">\n",
    "\n",
    "- Sets represent a collection of values without duplicates, just like in mathematics.\n",
    "\n",
    "- In most programming languages, sets are simply called \"sets\".\n",
    "\n",
    "- There is often also a distinction between data types for ordered and unordered sets.\n",
    "\n",
    "</div>\n",
    "<div class=\"col1\">\n",
    "\n",
    "![](images/02c_Datentypen/datentyp11.svg)\n",
    "\n",
    "</div>\n",
    "</div>"
   ]
  },
  {
   "cell_type": "markdown",
   "id": "361dcfd79ec542cb9d867b45da97678f",
   "metadata": {
    "editable": true,
    "slideshow": {
     "slide_type": "subslide"
    },
    "tags": [
     "remove-cell",
     "translated_en"
    ],
    "translation": {
     "lang": "de",
     "src_hash": "87e87ef5895b353c451b9254450400819bd5a91ea37dd8084fe0dc24ed7649bb",
     "updated_at_iso": "2025-08-16T15:06:48.330092+00:00"
    }
   },
   "source": [
    "## Composite data types – sets in Python\n",
    "\n",
    "<div class=\"flex-row\">\n",
    "<div class=\"col1\">\n",
    "\n",
    "- The data type for sets in Python is called `set`. They are declared using curly braces.\n",
    "  ```python\n",
    "\tx = {0, 1, 2, 3}\n",
    "  ```\n",
    "\n",
    "</div>\n",
    "<div class=\"col1\">\n",
    "\n",
    "![](images/02c_Datentypen/datentyp11b.svg)\n",
    "\n",
    "</div>\n",
    "</div>"
   ]
  },
  {
   "cell_type": "markdown",
   "id": "af12b663ba0b4b118f81e5ac2d206295",
   "metadata": {
    "editable": true,
    "slideshow": {
     "slide_type": "subslide"
    },
    "tags": [
     "remove-cell",
     "translated_en"
    ],
    "translation": {
     "lang": "de",
     "src_hash": "110eb9e2011ad3bb074abe8e5c21771bc4b2e06a15b2952c7997a46fb602a505",
     "updated_at_iso": "2025-08-16T15:06:56.572724+00:00"
    }
   },
   "source": [
    "## Composite Data Types – Dictionaries\n",
    "\n",
    "<div class=\"flex-row\">\n",
    "<div class=\"col1\">\n",
    "\n",
    "- Dictionaries map a set of keys to a set of values (Key-Value). The set of keys must not contain duplicates; the set of values may.\n",
    "\n",
    "- Dictionaries are called maps in most programming languages (from English: Mapping = Abbildung).\n",
    "\n",
    "- **Info**: Sets are often stored internally as maps without values, because keys must not be duplicated.\n",
    "  \n",
    "</div>\n",
    "<div class=\"col1\">\n",
    "\n",
    "![](images/02c_Datentypen/datentyp11.svg)\n",
    "\n",
    "</div>\n",
    "</div>"
   ]
  },
  {
   "cell_type": "markdown",
   "id": "17463e46f20f4af79fa131b782ce70d1",
   "metadata": {
    "editable": true,
    "slideshow": {
     "slide_type": "subslide"
    },
    "tags": [
     "remove-cell",
     "translated_en"
    ],
    "translation": {
     "lang": "de",
     "src_hash": "16b3862d08da48fcf3bb87c2571da6a8ec3f2c97f66bb3e97115cd229b8285e3",
     "updated_at_iso": "2025-08-16T15:07:06.986541+00:00"
    }
   },
   "source": [
    "## Composite Data Types – Dictionaries in Python\n",
    "\n",
    "<div class=\"flex-row\">\n",
    "<div class=\"col1\">\n",
    "\n",
    "- Dictionaries map a set of keys to a set of values (key-value pairs).\n",
    "\n",
    "- Dictionaries in Python are called `dict`. They are defined using curly braces and key/value pairs.\n",
    "  ```python\n",
    "  x = {\n",
    "    \"Building type\": \"Residential building\", \t\n",
    "    \"Year built\": 2022\n",
    "  }\n",
    "  ```\n",
    "\n",
    "- New values can also be assigned dynamically:\n",
    "  ```python\n",
    "  x[\"Construction method\"] = \"Timber construction\"\n",
    "  ```\n",
    "\n",
    "</div>\n",
    "<div class=\"col1\">\n",
    "\n",
    "![](images/02c_Datentypen/datentyp11c.svg)\n",
    "\n",
    "</div>\n",
    "</div>"
   ]
  },
  {
   "cell_type": "markdown",
   "id": "4f1e6975b47b4ff3acd16b1b9c02e2f1",
   "metadata": {
    "editable": true,
    "slideshow": {
     "slide_type": "subslide"
    },
    "tags": [
     "remove-cell",
     "translated_en"
    ],
    "translation": {
     "lang": "de",
     "src_hash": "05b2006d28a1f868e192e135a1485ea0c1899d602d0f4126660929c262f36993",
     "updated_at_iso": "2025-08-16T15:07:16.215493+00:00"
    }
   },
   "source": [
    "## Composite Data Types – Dictionaries: Accessing Elements\n",
    "\n",
    "<div class=\"flex-row\">\n",
    "<div class=\"col1\">\n",
    "\n",
    "- To access an element in a `dict`, the key is written inside square brackets.\n",
    "\n",
    "  ```python\n",
    "  x[\"Baujahr\"]\n",
    "  ```\n",
    "- This does not work with sets, since there is no value behind it, only whether the key is contained in the set. This is how you check it\n",
    "\n",
    "  ```python\n",
    "  \"Baujahr\" in x\n",
    "  ```\n",
    "- To remove values from a `dict` or `set`, you use\n",
    "\n",
    "  ```python\n",
    "  del x[\"Baujahr\"]\n",
    "  ```\n",
    "\n",
    "</div>\n",
    "<div class=\"col1\">\n",
    "\n",
    "![](images/02c_Datentypen/datentyp11c.svg)\n",
    "\n",
    "</div>\n",
    "</div>"
   ]
  },
  {
   "cell_type": "markdown",
   "id": "78b4a39ca44c40b2a90b6b9c97acf034",
   "metadata": {
    "editable": true,
    "slideshow": {
     "slide_type": "slide"
    },
    "tags": [
     "remove-cell",
     "translated_en"
    ],
    "translation": {
     "lang": "de",
     "src_hash": "249a3d3c4f0f9d565111e670424133b50b740369dbb69b77e1343e30cdec8c3b",
     "updated_at_iso": "2025-08-16T15:07:23.787272+00:00"
    }
   },
   "source": [
    "## Data Types – Undefined Values\n",
    "\n",
    "<div class=\"flex-row\">\n",
    "<div class=\"col1\">\n",
    "\n",
    "- In many programming languages there is also a value to represent an undefined value, for example when something is not present.\n",
    "\n",
    "- This undefined value is often referred to as the `null` value.\n",
    "\n",
    "<div class=\"alert alert-block alert-warning\">\n",
    "\n",
    "The need for a null value is nowadays highly controversial, because null values can easily cause errors. Therefore some modern languages do not have a null value.\n",
    "\n",
    "</div>\n",
    "</div>\n",
    "<div class=\"col1\">\n",
    "\n",
    "![](images/02c_Datentypen/datentyp12.svg)\n",
    "\n",
    "</div>\n",
    "</div>"
   ]
  },
  {
   "cell_type": "markdown",
   "id": "9bc38564c06e48098da9b112eeac26a9",
   "metadata": {
    "editable": true,
    "slideshow": {
     "slide_type": "subslide"
    },
    "tags": [
     "remove-cell",
     "translated_en"
    ],
    "translation": {
     "lang": "de",
     "src_hash": "5f21002cd408ffe1a457dd33d17c14665678bbd39f3a0d4cd0acce08bd4af216",
     "updated_at_iso": "2025-08-16T15:07:30.853827+00:00"
    }
   },
   "source": [
    "## Data types – Undefined values in Python\n",
    "\n",
    "<div class=\"flex-row\">\n",
    "<div class=\"col1\">\n",
    "\n",
    "- The null value in Python is called `None`.\n",
    "\n",
    "- This means that a variable has not been assigned a value, or that an operation does not return a value.\n",
    "\n",
    "- The data type of a variable with the value `None` is `NoneType`.\n",
    "\n",
    "</div>\n",
    "<div class=\"col1\">\n",
    "\n",
    "![](images/02c_Datentypen/datentyp12.svg)\n",
    "\n",
    "</div>\n",
    "</div>"
   ]
  },
  {
   "cell_type": "markdown",
   "id": "30e81dbda84b463593a5717232200eba",
   "metadata": {
    "editable": true,
    "jp-MarkdownHeadingCollapsed": true,
    "slideshow": {
     "slide_type": "slide"
    },
    "tags": [
     "remove-cell",
     "translated_en"
    ],
    "translation": {
     "lang": "de",
     "src_hash": "6df2e281cf8a679ace29eb49f49eafa6f2036f5c004ca819549473adfc328408",
     "updated_at_iso": "2025-08-16T15:07:42.815902+00:00"
    }
   },
   "source": [
    "## Data Types – Mutability\n",
    "\n",
    "<div class=\"alert alert-block alert-success\">\n",
    "<b>📘 Definition: Mutability</b>\n",
    "\n",
    "Mutability describes the ability to modify data structures.\n",
    "\n",
    "- If a data type is mutable, variables of this type can be modified directly.\n",
    "- If it is immutable, you can only change them by performing a complete reassignment.\n",
    "\n",
    "</div>\n",
    "\n",
    "| Mutable (changeable) | Immutable (not changeable) |\n",
    "|----------------------|----------------------------|\n",
    "| `list`               | `tuple`                    |\n",
    "| `set`                | `frozenset`                |\n",
    "| `dict`               | `frozendict`               |\n",
    "| `bytearray`          | `bytes`                    |\n",
    "\n",
    "- To prevent programming errors and ensure access security (data protection), some programming languages distinguish very strictly between mutable and immutable data types."
   ]
  },
  {
   "cell_type": "markdown",
   "id": "368c3cd8d9864129b3c6f5e2b0e56c32",
   "metadata": {
    "editable": true,
    "slideshow": {
     "slide_type": "skip"
    },
    "tags": [
     "translated_en"
    ],
    "translation": {
     "lang": "de",
     "src_hash": "4e52c7504a8239f6b525821697768bab6fcb647efdae9acfb857eacba310d27d",
     "updated_at_iso": "2025-08-16T15:08:16.754714+00:00"
    }
   },
   "source": [
    "## Quiz\n",
    "\n",
    "\n",
    "```{quizdown}\n",
    "\t---\n",
    "\tshuffleQuestions: true\n",
    "\tshuffleAnswers: true\n",
    "\t---\n",
    "\n",
    "    ### What are the basic categories of data types?\n",
    "\n",
    "    > There are two categories\n",
    "\n",
    "    - [X] Primitive\n",
    "    - [X] Composite\n",
    "    - [ ] Text\n",
    "    - [ ] Objects\n",
    "    - [ ] Numbers\n",
    "\n",
    "\n",
    "    ### What are primitive data types?\n",
    "\n",
    "    > There are four primitive data types\n",
    "\n",
    "    - [X] Numeric\n",
    "    - [X] Boolean\n",
    "    - [X] Textual\n",
    "    - [X] Binary\n",
    "    - [ ] Sequence\n",
    "    - [ ] Sets\n",
    "\n",
    "    ### What are composite data types?\n",
    "\n",
    "    > There are three composite data types\n",
    "\n",
    "    - [ ] Integers\n",
    "    - [ ] Textual\n",
    "    - [ ] Array\n",
    "    - [X] Sequence\n",
    "    - [X] Sets\n",
    "    - [X] Dictionary\n",
    "\n",
    "    ### What are numeric data types?\n",
    "\n",
    "    > There are three numeric data types\n",
    "\n",
    "    - [X] Integers\n",
    "    - [ ] Fractional numbers\n",
    "    - [X] Natural numbers\n",
    "    - [ ] Non-natural numbers\n",
    "    - [X] Real numbers\n",
    "    - [ ] Complex numbers\n",
    "\n",
    "    ### What are textual data types?\n",
    "\n",
    "    > There are two textual data types\n",
    "\n",
    "    - [ ] Integers\n",
    "    - [X] String\n",
    "    - [X] Char\n",
    "    - [ ] Complex numbers\n",
    "    - [ ] Blobs\n",
    "\n",
    "    ### What are logical data types?\n",
    "\n",
    "    > There is one logical data type\n",
    "\n",
    "    - [X] Boolean\n",
    "    - [ ] String\n",
    "    - [ ] Char\n",
    "    - [ ] True/False\n",
    "\n",
    "    ### What are binary data types?\n",
    "\n",
    "    > There are two binary data types\n",
    "\n",
    "    - [ ] Integers\n",
    "    - [X] Byte\n",
    "    - [ ] Char\n",
    "    - [X] Byte Array\n",
    "\n",
    "    ### Which data types are expressed in Python with `int`?\n",
    "\n",
    "    > `int` is used for three data types\n",
    "\n",
    "    - [X] Integers\n",
    "    - [X] Natural numbers\n",
    "    - [ ] Real numbers\n",
    "    - [ ] Complex numbers\n",
    "    - [X] Byte\n",
    "    - [ ] Char\n",
    "\n",
    "    ### Which data types are expressed in Python with `str`?\n",
    "\n",
    "    > `str` is used for two data types\n",
    "\n",
    "    - [X] String\n",
    "    - [X] Char\n",
    "    - [ ] Byte\n",
    "    - [ ] Byte Array\n",
    "\n",
    "    ### Which data types are these?\n",
    "\n",
    "    ```python\n",
    "    variable = [\"a\", \"b\", \"c\"]\n",
    "    ```\n",
    "\n",
    "    > Two data types are correct\n",
    "\n",
    "    - [ ] String\n",
    "    - [ ] Dict\n",
    "    - [ ] Set\n",
    "    - [X] List\n",
    "    - [ ] Array\n",
    "    - [X] Sequence\n",
    "    - [ ] Sets\n",
    "    - [ ] Dictionary\n",
    "\n",
    "    ### Which data types are these?\n",
    "\n",
    "    ```python\n",
    "    variable = {\"a\", \"b\", \"c\"}\n",
    "    ```\n",
    "\n",
    "    > Two data types are correct\n",
    "\n",
    "    - [ ] String\n",
    "    - [ ] Dict\n",
    "    - [X] Set\n",
    "    - [ ] List\n",
    "    - [ ] Array\n",
    "    - [ ] Sequence\n",
    "    - [X] Sets\n",
    "    - [ ] Dictionary\n",
    "\n",
    "    ### Which data types are these?\n",
    "\n",
    "    ```python\n",
    "    variable = {\"a\":1, \"b\":2, \"c\":3}\n",
    "    ```\n",
    "\n",
    "    > Two data types are correct\n",
    "\n",
    "    - [ ] String\n",
    "    - [X] Dict\n",
    "    - [ ] Set\n",
    "    - [ ] List\n",
    "    - [ ] Sequence\n",
    "    - [ ] Sets\n",
    "    - [X] Dictionary\n",
    "\n",
    "    ### Which of the following Python data types are **mutable**?\n",
    "\n",
    "    > Three data types are correct\n",
    "\n",
    "    - [x] list\n",
    "    - [x] set\n",
    "    - [x] dict\n",
    "    - [ ] tuple\n",
    "    - [ ] str\n",
    "\n",
    "    ### Which statement about mutability is **correct**?\n",
    "\n",
    "    - [ ] A `tuple` can be modified after its creation.\n",
    "    - [ ] `frozenset` is a mutable variant of `set`.\n",
    "    - [x] `bytearray` is a mutable version of `bytes`.\n",
    "    - [ ] Strings (`str`) in Python are mutable.\n",
    "\n",
    "\n",
    "    ### What does “mutable” mean in the context of Python data types?\n",
    "\n",
    "    - [x] The contents of an object can be changed after creation.\n",
    "    - [ ] The object cannot be copied.\n",
    "    - [ ] The object always occupies more memory than an immutable object.\n",
    "    - [ ] A mutable object cannot be part of a set.\n",
    "```"
   ]
  },
  {
   "cell_type": "markdown",
   "id": "98be87d24ace4920bdbc3a4032a18c7c",
   "metadata": {
    "editable": true,
    "slideshow": {
     "slide_type": "slide"
    },
    "tags": [
     "remove-cell",
     "translated_en"
    ],
    "translation": {
     "lang": "de",
     "src_hash": "d2b7467259ef9f52d61ecf9953374631953b152baba6f1edeaac46d4c3d40a0b",
     "updated_at_iso": "2025-08-16T15:08:19.912859+00:00"
    }
   },
   "source": [
    "<div class=\"vslide\">\n",
    "  <div class=\"vslide-title\">\n",
    "    <p style=\"font-family: Protomolecule; font-size: 2.3em; margin: 0px auto; text-align: center; width: 100%;\">Questions?</p>\n",
    "  </div>\n",
    "  <script>setSectionBackground('#000000', 'images/mj_questions.mp4');</script>\n",
    "</div>"
   ]
  }
 ],
 "metadata": {
  "kernelspec": {
   "display_name": "base",
   "language": "python",
   "name": "python3"
  },
  "language_info": {
   "codemirror_mode": {
    "name": "ipython",
    "version": 3
   },
   "file_extension": ".py",
   "mimetype": "text/x-python",
   "name": "python",
   "nbconvert_exporter": "python",
   "pygments_lexer": "ipython3",
   "version": "3.12.2"
  },
  "rise": {
   "auto_select": "none",
   "center": false,
   "enable_chalkboard": true,
   "footer": "<img src=\"images/pd_logo.svg\" class=\"header_title_logo\"><img src=\"images/ai4sc_logo_v2.svg\" class=\"header_ai4sc_logo\">",
   "header": "<img src=\"images/pd_logo.svg\" class=\"header_title_logo\"><img src=\"images/ai4sc_logo_v2.svg\" class=\"header_ai4sc_logo\">",
   "scroll": true,
   "show_buttons_on_startup": false,
   "slideNumber": true,
   "theme": "white"
  }
 },
 "nbformat": 4,
 "nbformat_minor": 4
}
