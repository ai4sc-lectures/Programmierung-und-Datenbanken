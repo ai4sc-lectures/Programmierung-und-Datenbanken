{
 "cells": [
  {
   "cell_type": "markdown",
   "id": "ecc0d98a88f5455ab7cc45aa4a2a0df1",
   "metadata": {
    "editable": true,
    "slideshow": {
     "slide_type": "slide"
    },
    "tags": [
     "remove-cell",
     "translated_en"
    ],
    "translation": {
     "lang": "de",
     "src_hash": "939126c84a1156fb3022f7e56a7506d1ace27e04af89309cd79025127843d05b",
     "updated_at_iso": "2025-08-16T17:53:35.964494+00:00"
    }
   },
   "source": [
    "<div class=\"vslide\">\n",
    "  <div class=\"vslide-title\">\n",
    "    <p style=\"font-family: Protomolecule; font-size: 2.3em; line-height: 90%; margin: 0px auto; text-align: center; width: 100%;\"><span style=\"letter-spacing: .04rem;\">Programming</span><br><span style=\"letter-spacing: .0rem;\">and Databases</span></p>\n",
    "<p class=\"author\" style=\"font-family: Protomolecule; margin: 0px auto;  text-align: center; width: 100%; font-size: 1.2em;\">Joern Ploennigs</p>\n",
    "<p class=\"subtitle\" style=\"font-family: Protomolecule; margin: 1em auto; text-align: center; width: 100%; font-size: 1.2em;\">Creating Tables</p>\n",
    "    <figcaption>Midjourney: The creation of SQL, ref. Michelangelo</figcaption>\n",
    "  </div>\n",
    "<script>\n",
    "  function setSectionBackground(c,v){\n",
    "    let e=document.currentScript.previousElementSibling;\n",
    "    while(e&&e.tagName!=='SECTION')e=e.parentElement;\n",
    "    if(e){\n",
    "      if(c)e.setAttribute('data-background-color',c);\n",
    "      if(v){\n",
    "        e.setAttribute('data-background-video',v);\n",
    "        e.setAttribute('data-background-video-loop','true');\n",
    "        e.setAttribute('data-background-video-muted','true');\n",
    "      }\n",
    "    }\n",
    "  }\n",
    "  setSectionBackground('#000000', 'images/11b_Datenbanken_SQL_Create/mj_title.mp4');\n",
    "</script>\n",
    "<style>\n",
    ".flex-row{display:flex; gap:2rem; align-items:flex-start; justify-content:space-between;}\n",
    ".flex-row .col1{flex:1; min-width:10px}\n",
    ".flex-row .col2{flex:2; min-width:10px}\n",
    ".flex-row .col3{flex:3; min-width:10px}\n",
    ".flex-row .col4{flex:4; min-width:10px}\n",
    ".flex-row .col5{flex:5; min-width:10px}\n",
    ".flex-row .col6{flex:6; min-width:10px}\n",
    ".flex-row .col7{flex:7; min-width:10px}\n",
    ".vcent{display:flex; align-items:center; justify-content:center}\n",
    "</style>\n",
    "</div>"
   ]
  },
  {
   "cell_type": "markdown",
   "id": "80db41239208494ea3ec4e11ddac6b58",
   "metadata": {
    "editable": true,
    "slideshow": {
     "slide_type": "skip"
    },
    "tags": [
     "translated_en"
    ],
    "translation": {
     "lang": "de",
     "src_hash": "55a6cfe4c9df2682c93b8c27b9fb61654245710b527f8ff8807ac451a76bb949",
     "updated_at_iso": "2025-08-16T17:53:38.734998+00:00"
    }
   },
   "source": [
    "# Create tables with SQL"
   ]
  },
  {
   "cell_type": "markdown",
   "id": "e14ccd49c19b4b27a1619ec1c902b3b9",
   "metadata": {
    "editable": true,
    "slideshow": {
     "slide_type": "skip"
    },
    "tags": [
     "translated_en"
    ],
    "translation": {
     "lang": "de",
     "src_hash": "7b4330ab49658a7e59001bb586a3a3d4d4d9c4bfee0adc8f2d91f87ae148e62c",
     "updated_at_iso": "2025-08-16T17:53:42.659961+00:00"
    }
   },
   "source": [
    "<figure class=\"mj-tile-band\">\n",
    "    <img src='images/11b_Datenbanken_SQL_Create/mj_title_band.jpg'>\n",
    "    <figcaption>Midjourney: The creation of SQL, ref. Michelangelo</figcaption>\n",
    "</figure>\n",
    "\n",
    "> The problem with SQL is that it pretends to implement the relational model, but doesn’t.\n",
    ">\n",
    "> — David McGoveran"
   ]
  },
  {
   "cell_type": "markdown",
   "id": "157d1627f1894842b26a72834d1aa657",
   "metadata": {
    "editable": true,
    "slideshow": {
     "slide_type": "skip"
    },
    "tags": [
     "translated_en"
    ],
    "translation": {
     "lang": "de",
     "src_hash": "6c7e19ebc011aea23d985e50704a165a3ec275c68fe92d3882a589e35f00c127",
     "updated_at_iso": "2025-08-16T17:53:50.908695+00:00"
    }
   },
   "source": [
    "## <a href=\"../lec_slides/11b_Datenbanken_SQL_Create.slides.html\">Slides</a>/<a href=\"../pdf/slides/11b_Datenbanken_SQL_Create.pdf\">PDF</a>\n",
    "<iframe src=\"../lec_slides/11b_Datenbanken_SQL_Create.slides.html\" width=\"750\" height=\"500\"></iframe>"
   ]
  },
  {
   "cell_type": "markdown",
   "id": "bdde6cd64b0942e091724f64b4ab1836",
   "metadata": {
    "editable": true,
    "slideshow": {
     "slide_type": "slide"
    },
    "tags": [
     "remove-cell",
     "translated_en"
    ],
    "translation": {
     "lang": "de",
     "src_hash": "0240e2a6721129ea55a3fdec2731af675a9285c3475fd78763bbb5127d789bd4",
     "updated_at_iso": "2025-08-16T17:53:54.323331+00:00"
    }
   },
   "source": [
    "## Procedure\n",
    "\n",
    "![](images/partB_3.svg)"
   ]
  },
  {
   "cell_type": "markdown",
   "id": "74bf6de2f3e9470a87efd71a83b33be9",
   "metadata": {
    "editable": true,
    "slideshow": {
     "slide_type": "skip"
    },
    "tags": [
     "translated_en"
    ],
    "translation": {
     "lang": "de",
     "src_hash": "ed9d32eb69c84417c9e441897882036bc90adec9858ebb52f9d676bb0b7e1dd6",
     "updated_at_iso": "2025-08-16T17:53:58.290471+00:00"
    }
   },
   "source": [
    "## Implement Tables with SQL"
   ]
  },
  {
   "cell_type": "markdown",
   "id": "11389721caca405bb33fa8f36c357a76",
   "metadata": {
    "slideshow": {
     "slide_type": "skip"
    },
    "tags": [
     "translated_en"
    ],
    "translation": {
     "lang": "de",
     "src_hash": "1c12f338728c8723e4b81c9445749724e5667e395538cdef0463d56982ae0758",
     "updated_at_iso": "2025-08-16T17:54:04.060139+00:00"
    }
   },
   "source": [
    "SQL not only allows us to query data from existing tables, but also to create new tables and modify them. We want to use this functionality in the following to implement our logical design for the geometry objects.\n",
    "\n",
    "For this, we will use SQLite again and create a new database `geometry.sqlite`. We will also set up a cursor `cur` directly to execute SQL commands on the database."
   ]
  },
  {
   "cell_type": "code",
   "execution_count": null,
   "id": "a012d290f8ba434ca5034342890b392e",
   "metadata": {
    "slideshow": {
     "slide_type": "skip"
    },
    "tags": [
     "translated_en"
    ],
    "translation": {
     "lang": "de",
     "src_hash": "d5ccedd6bdbc4063ee6821a647d7ba3e3389517d0ae934b04bd87db566e6acbe",
     "updated_at_iso": "2025-08-16T17:54:06.524671+00:00"
    }
   },
   "outputs": [],
   "source": [
    "import sqlite3\n",
    "\n",
    "# Create a SQL connection to our SQLite database\n",
    "con = sqlite3.connect(\"geometry.sqlite\")\n",
    "cur = con.cursor()"
   ]
  },
  {
   "cell_type": "markdown",
   "id": "167af34894b346eb995240df3f5c2ecc",
   "metadata": {
    "slideshow": {
     "slide_type": "skip"
    },
    "tags": [
     "translated_en"
    ],
    "translation": {
     "lang": "de",
     "src_hash": "20c3e5361cae91f9a40a59df3da40c86483a925f6849da8e9d972f236ce5820b",
     "updated_at_iso": "2025-08-16T17:54:10.982754+00:00"
    }
   },
   "source": [
    "First, we must map the generic data types of the logical design to the concrete data types of SQLite. In principle, data types differ somewhat between DBMSs, and one must always consider which data types are best suited. SQLite is limited to a relatively small set of data types that align well with Python's primitive data types. The following table compares SQLite's data types with Python."
   ]
  },
  {
   "cell_type": "markdown",
   "id": "44c7cae01aa645ccba0a842a8695b9c2",
   "metadata": {
    "slideshow": {
     "slide_type": "skip"
    },
    "tags": [
     "translated_en"
    ],
    "translation": {
     "lang": "de",
     "src_hash": "88dcca1610cb2789a9be80937e778e77e51d5c05650cdb6e4f2446bf9e506ec1",
     "updated_at_iso": "2025-08-16T17:54:19.114438+00:00"
    }
   },
   "source": [
    "|       | SQLite | Python |\n",
    "|----|-----|----|\n",
    "| Boolean | (INTEGER) | bool |\n",
    "| Integer | INTEGER | int |\n",
    "| Floating-Point Number | REAL | float |\n",
    "| Interprets arbitrary input data as a number | NUMERIC | - |\n",
    "| Text string stored in UTF-8 or UTF-16 | TEXT | str |\n",
    "| Arbitrary block of binary data | BLOB | bytes |\n",
    "| No data | NULL | None |"
   ]
  },
  {
   "cell_type": "markdown",
   "id": "5bdcc75067514cf09e2bc4710f982594",
   "metadata": {
    "slideshow": {
     "slide_type": "skip"
    },
    "tags": [
     "translated_en"
    ],
    "translation": {
     "lang": "de",
     "src_hash": "e879b65461b53443a3231ea7b4090b33406568e4e420a1fa3569eddeeb33b2e9",
     "updated_at_iso": "2025-08-16T17:54:25.998516+00:00"
    }
   },
   "source": [
    "One feature here is the `NUMERIC` data type, which is intended to automatically convert numbers from text input into the appropriate numeric representation in the database. The `NULL` value is not a data type in the table itself; it is used when loading data into tables to convey missing values.\n",
    "\n",
    "With these data types and the ER diagram of the logical design model above, we can now create our tables. This is done in SQL with the `CREATE TABLE` command, to which the table name (entity name) follows, and then in parentheses the individual attributes. For the five entities, the following SQL commands result."
   ]
  },
  {
   "cell_type": "code",
   "execution_count": null,
   "id": "ee1a38544f984e88880285d3e970ae63",
   "metadata": {
    "slideshow": {
     "slide_type": "skip"
    },
    "tags": [
     "translated_en"
    ],
    "translation": {
     "lang": "de",
     "src_hash": "35cb237ff6cd2f7ea841ccbfd69b24f1efb9d9b92debf827e324a1ad918e66f4",
     "updated_at_iso": "2025-08-16T17:54:30.810097+00:00"
    }
   },
   "outputs": [],
   "source": [
    "sql='''\n",
    "CREATE TABLE Points (\n",
    "  point_id INTEGER,\n",
    "  x REAL,\n",
    "  y REAL\n",
    ");\n",
    "\n",
    "CREATE TABLE Lines (\n",
    "  lines_id INTEGER,\n",
    "  start INTEGER,\n",
    "  end INTEGER\n",
    ");\n",
    "\n",
    "CREATE TABLE PolygonTypes (\n",
    "  polygontype_id INTEGER,\n",
    "  name TEXT\n",
    ");\n",
    "\n",
    "CREATE TABLE Polygons (\n",
    "  polygon_id INTEGER,\n",
    "  polygontype INTEGER\n",
    ");\n",
    "\n",
    "CREATE TABLE PolygonPoints (\n",
    "  polypoint_id INTEGER,\n",
    "  polygon_id INTEGER,\n",
    "  point_id INTEGER\n",
    ");\n",
    "'''"
   ]
  },
  {
   "cell_type": "markdown",
   "id": "c6d09ce52d544488901e23ba903bab2a",
   "metadata": {
    "slideshow": {
     "slide_type": "skip"
    },
    "tags": [
     "translated_en"
    ],
    "translation": {
     "lang": "de",
     "src_hash": "80eeebc94bd0a52c1a1cbeabf4401ae24678825b2c0916f171b698f4e64f7f0c",
     "updated_at_iso": "2025-08-16T17:54:46.888752+00:00"
    }
   },
   "source": [
    "In principle, we could already send these commands to the SQLite database and create the tables. However, the declaration of the primary and foreign keys as well as the `NOT NULL` constraints is still missing here.\n",
    "\n",
    "To do this, we mark the lines of the attributes that serve as primary keys with the annotation `PRIMARY KEY`. In our example we define the key as `AUTOINCREMENT`, meaning that new rows added without a key are automatically assigned a key.\n",
    "\n",
    "We define the foreign keys as an additional constraint (condition) by specifying which attributes are foreign keys and on which table and key attributes they refer. The foreign key `polytype` in the table `Polygons` for instance references the primary key `polytype_id` in the table `PolygonTypes`. Multiple occurrences are possible here, as the example for the `start` and `end` Point in the table `Lines` shows.\n",
    "\n",
    "We continue to annotate all attributes and foreign keys that must not be null with `NOT NULL`. Primary keys must never be null, which is why we do not need this annotation.\n",
    "\n",
    "Thus, our completed SQL script for creating all tables is:"
   ]
  },
  {
   "cell_type": "code",
   "execution_count": null,
   "id": "91c87f02a3824d32b514dd389dfa4510",
   "metadata": {
    "slideshow": {
     "slide_type": "skip"
    },
    "tags": [
     "translated_en"
    ],
    "translation": {
     "lang": "de",
     "src_hash": "d7339335e75c2dd2157870dfec97e8095ea13001f5623ad70594d104e142aff5",
     "updated_at_iso": "2025-08-16T17:54:52.250648+00:00"
    }
   },
   "outputs": [],
   "source": [
    "sql='''\n",
    "CREATE TABLE Points (\n",
    "  point_id INTEGER PRIMARY KEY AUTOINCREMENT,\n",
    "  x REAL NOT NULL,\n",
    "  y REAL NOT NULL\n",
    ");\n",
    "\n",
    "CREATE TABLE Lines (\n",
    "  lines_id INTEGER PRIMARY KEY AUTOINCREMENT,\n",
    "  start INTEGER NOT NULL,\n",
    "  end INTEGER NOT NULL,\n",
    "  FOREIGN KEY(start,end) REFERENCES Points(point_id,point_id)\n",
    ");\n",
    "\n",
    "CREATE TABLE PolygonTypes (\n",
    "  polytype_id INTEGER PRIMARY KEY AUTOINCREMENT,\n",
    "  name TEXT\n",
    ");\n",
    "\n",
    "CREATE TABLE Polygons (\n",
    "  polygon_id INTEGER PRIMARY KEY AUTOINCREMENT,\n",
    "  polytype INTEGER,\n",
    "  FOREIGN KEY(polytype) REFERENCES PolygonTypes(polytype_id)\n",
    ");\n",
    "\n",
    "CREATE TABLE PolygonPoints (\n",
    "  polypoint_id INTEGER PRIMARY KEY AUTOINCREMENT,\n",
    "  polygon_id INTEGER,\n",
    "  point_id INTEGER,\n",
    "  FOREIGN KEY(polygon_id) REFERENCES Polygons(polygon_id),\n",
    "  FOREIGN KEY(point_id) REFERENCES Points(point_id)\n",
    ");\n",
    "'''"
   ]
  },
  {
   "cell_type": "markdown",
   "id": "da1371b1d39943269066073a5877a2d9",
   "metadata": {
    "slideshow": {
     "slide_type": "skip"
    },
    "tags": [
     "translated_en"
    ],
    "translation": {
     "lang": "de",
     "src_hash": "c73cf361219e68c4135a14ab9c189da4179a79f01dc1fd57eb3187707010ca1c",
     "updated_at_iso": "2025-08-16T17:54:58.452446+00:00"
    }
   },
   "source": [
    "Since this SQL script contains multiple commands, we can't send it to the database with `cur.execute(sql)`, but we use"
   ]
  },
  {
   "cell_type": "code",
   "execution_count": null,
   "id": "0795b74216144e7ea251481afec0e698",
   "metadata": {
    "slideshow": {
     "slide_type": "skip"
    },
    "tags": [
     "remove-output",
     "translated_en"
    ],
    "translation": {
     "lang": "de",
     "src_hash": "557339fd6d7574bde00a1438af73b51fd1f4d19f32e38fdfc6a34b92660d0dca",
     "updated_at_iso": "2025-08-16T17:55:00.598735+00:00"
    }
   },
   "outputs": [],
   "source": [
    "cur.executescript(sql)"
   ]
  },
  {
   "cell_type": "markdown",
   "id": "9a5d956e90fc48339b3a41eab7a278c9",
   "metadata": {
    "slideshow": {
     "slide_type": "skip"
    },
    "tags": [
     "translated_en"
    ],
    "translation": {
     "lang": "de",
     "src_hash": "82e17627024221a58a08bf97a773a0bc19df265ebcc907d42814db55a8a48a9e",
     "updated_at_iso": "2025-08-16T17:55:04.362631+00:00"
    }
   },
   "source": [
    "To verify that our tables have been created, we can query all tables in the SQLite database with:"
   ]
  },
  {
   "cell_type": "code",
   "execution_count": null,
   "id": "28d014428d1e44a290cc16652fc68b63",
   "metadata": {
    "slideshow": {
     "slide_type": "skip"
    },
    "tags": [
     "translated_en"
    ],
    "translation": {
     "lang": "de",
     "src_hash": "05cd871a3b747794c4a8d81f92ae64085d7fd95639b21fedaf549a64482c62fb",
     "updated_at_iso": "2025-08-16T17:55:08.048340+00:00"
    }
   },
   "outputs": [],
   "source": [
    "sql=\"SELECT name FROM sqlite_schema WHERE type='table' ORDER BY name;\"\n",
    "\n",
    "rows=cur.execute(sql)\n",
    "for row in rows:\n",
    "    print(row)"
   ]
  },
  {
   "cell_type": "markdown",
   "id": "1682ea6ff26d4c828c5fc6a45b409961",
   "metadata": {
    "slideshow": {
     "slide_type": "skip"
    },
    "tags": [
     "translated_en"
    ],
    "translation": {
     "lang": "de",
     "src_hash": "084bda49469bbac937a19f4fe33f767809b06d42845a95a9a7bcdf9b1a9330a6",
     "updated_at_iso": "2025-08-16T17:55:10.512506+00:00"
    }
   },
   "source": [
    "## Add data"
   ]
  },
  {
   "cell_type": "markdown",
   "id": "8328acb811de48e7ae46053e37974000",
   "metadata": {
    "slideshow": {
     "slide_type": "skip"
    },
    "tags": [
     "translated_en"
    ],
    "translation": {
     "lang": "de",
     "src_hash": "9411b537edbada4c8e2b9d88e010fdf4176eca6e81493556506935ddf28b72b4",
     "updated_at_iso": "2025-08-16T17:55:16.733625+00:00"
    }
   },
   "source": [
    "In the next step, we want to load some values into the database. This is done with the SQL command `INSERT INTO` with the table name and the values to be inserted, in exactly the order of the previously declared columns (that is, point_id, x, y).\n",
    "\n",
    "For example, we want two points with coordinates (54.083336, 12.108811) and (12.094167, 54.075211). We also specify the primary key values as 1 and 2:"
   ]
  },
  {
   "cell_type": "code",
   "execution_count": null,
   "id": "7acedd54b2bf4896bf9c6ea5e6494b57",
   "metadata": {
    "slideshow": {
     "slide_type": "skip"
    },
    "tags": [
     "translated_en"
    ],
    "translation": {
     "lang": "de",
     "src_hash": "6b6eb4914ea731c9eed204f1de96b9a1c03fa30b722796867ef64d957af86b82",
     "updated_at_iso": "2025-08-16T17:55:19.267834+00:00"
    }
   },
   "outputs": [],
   "source": [
    "sql=\"\"\"\n",
    "INSERT INTO Points VALUES(1, 54.083336, 12.108811);\n",
    "INSERT INTO Points VALUES(2, 12.094167, 54.075211);\n",
    "\"\"\""
   ]
  },
  {
   "cell_type": "code",
   "execution_count": null,
   "id": "57403de23fe84780ad3e04915167cd43",
   "metadata": {
    "slideshow": {
     "slide_type": "skip"
    },
    "tags": [
     "remove-output",
     "translated_en"
    ],
    "translation": {
     "lang": "de",
     "src_hash": "557339fd6d7574bde00a1438af73b51fd1f4d19f32e38fdfc6a34b92660d0dca",
     "updated_at_iso": "2025-08-16T17:55:21.147274+00:00"
    }
   },
   "outputs": [],
   "source": [
    "cur.executescript(sql)"
   ]
  },
  {
   "cell_type": "markdown",
   "id": "f55aa472fe9a4c298356f1ef4a6ebdac",
   "metadata": {
    "slideshow": {
     "slide_type": "skip"
    },
    "tags": [
     "translated_en"
    ],
    "translation": {
     "lang": "de",
     "src_hash": "36e08ced80e826dac4fbebc1877e2b0bd6ae7912abc001bd7f35c06477e13920",
     "updated_at_iso": "2025-08-16T17:55:24.916470+00:00"
    }
   },
   "source": [
    "This primary index must be unique. If we try to create the same points again, the database will return an error indicating that the points already exist."
   ]
  },
  {
   "cell_type": "code",
   "execution_count": null,
   "id": "01d359c978d545d6bcb6cf7f5d88aab1",
   "metadata": {
    "slideshow": {
     "slide_type": "skip"
    },
    "tags": [
     "raises-exception",
     "translated_en"
    ],
    "translation": {
     "lang": "de",
     "src_hash": "557339fd6d7574bde00a1438af73b51fd1f4d19f32e38fdfc6a34b92660d0dca",
     "updated_at_iso": "2025-08-16T17:55:26.366010+00:00"
    }
   },
   "outputs": [],
   "source": [
    "cur.executescript(sql)"
   ]
  },
  {
   "cell_type": "markdown",
   "id": "91ea719147fb4faa997f5a64357251b0",
   "metadata": {
    "slideshow": {
     "slide_type": "skip"
    },
    "tags": [
     "translated_en"
    ],
    "translation": {
     "lang": "de",
     "src_hash": "5ae73761e5e381539bd05c69a5273ecc177f9900599f4c30072fe73297ec2ab5",
     "updated_at_iso": "2025-08-16T17:55:32.944381+00:00"
    }
   },
   "source": [
    "Should we deviate from the column order or omit values? This way we can also specify the column names to be written in the `INSERT` command. If we omit a column, it will be set to `NULL`, provided the column allows NULL values. Since we declared the primary key `point_id` as `AUTOINCREMENT` in the table declaration, we do not necessarily need to include it. A value will then be assigned to it automatically."
   ]
  },
  {
   "cell_type": "code",
   "execution_count": null,
   "id": "fc39c76c4fe543cbb998fb66c4d60ffa",
   "metadata": {
    "slideshow": {
     "slide_type": "skip"
    },
    "tags": [
     "remove-output",
     "translated_en"
    ],
    "translation": {
     "lang": "de",
     "src_hash": "83a0e7e74839d5e8a75179ce2555073df5d3c37b504608ba495622a2c046df2c",
     "updated_at_iso": "2025-08-16T17:55:35.687198+00:00"
    }
   },
   "outputs": [],
   "source": [
    "sql=\"INSERT INTO Points(x, y) VALUES(54.083336, 12.108811);\"\n",
    "cur.execute(sql)"
   ]
  },
  {
   "cell_type": "markdown",
   "id": "289dedade2f94c94a13259d8a2b39839",
   "metadata": {
    "slideshow": {
     "slide_type": "skip"
    },
    "tags": [
     "translated_en"
    ],
    "translation": {
     "lang": "de",
     "src_hash": "96719a840d79a8e3a96147ee9afed94a0ce5b9e996508bc48792324fa6b4ea3b",
     "updated_at_iso": "2025-08-16T17:55:41.155998+00:00"
    }
   },
   "source": [
    "However, we have a problem here: we don’t know the value, and thus can’t use it later as a foreign key. In Python, this is stored in the cursor under"
   ]
  },
  {
   "cell_type": "code",
   "execution_count": null,
   "id": "38ad274039a94d80b76ed77ca18408c2",
   "metadata": {
    "slideshow": {
     "slide_type": "skip"
    },
    "tags": [
     "translated_en"
    ],
    "translation": {
     "lang": "de",
     "src_hash": "b70f66b7081ad3319fd9c8ab0a93a8f2ef3de1940fd49d8122e8e2ff9533e072",
     "updated_at_iso": "2025-08-16T17:55:43.410447+00:00"
    }
   },
   "outputs": [],
   "source": [
    "cur.lastrowid"
   ]
  },
  {
   "cell_type": "markdown",
   "id": "50e30d1180034c7eb03b72c6127c6a46",
   "metadata": {
    "slideshow": {
     "slide_type": "skip"
    },
    "tags": [
     "translated_en"
    ],
    "translation": {
     "lang": "de",
     "src_hash": "52ec97dcfa4a675b962040ce33c13b3caae7e32f70a8fe9f59f58bcbab5d4fd8",
     "updated_at_iso": "2025-08-16T17:55:48.660479+00:00"
    }
   },
   "source": [
    "Next, we want to create a line between the point (54.083336, 12.108811) and (12.094167, 54.075211). We can't do this directly with the coordinates; instead we must use the foreign keys of the points that we assigned when creating them. So 1 and 2."
   ]
  },
  {
   "cell_type": "code",
   "execution_count": null,
   "id": "b321af049a514850b893575056e019ba",
   "metadata": {
    "slideshow": {
     "slide_type": "skip"
    },
    "tags": [
     "translated_en"
    ],
    "translation": {
     "lang": "de",
     "src_hash": "da150ac5bbad242a051763f2c4c332bf87ee0d84f29eb52593a1fb7ed3ad6883",
     "updated_at_iso": "2025-08-16T17:55:51.352894+00:00"
    }
   },
   "outputs": [],
   "source": [
    "sql=\"INSERT INTO Lines(start, end) VALUES(1, 2);\"\n",
    "cur.execute(sql)\n",
    "cur.lastrowid"
   ]
  },
  {
   "cell_type": "markdown",
   "id": "50434e06014343e09286af9c41b03d09",
   "metadata": {
    "slideshow": {
     "slide_type": "skip"
    },
    "tags": [
     "translated_en"
    ],
    "translation": {
     "lang": "de",
     "src_hash": "db088e3110c0d30847cd159c9078798637b4d08858569fa61fd007b4aa47498c",
     "updated_at_iso": "2025-08-16T17:55:56.788910+00:00"
    }
   },
   "source": [
    "Before we can create a polygon, we first need to declare the polygon type in the `PolygonTypes` table. For example, we say that the polygon type 'Triangle' exists with the primary key value 0."
   ]
  },
  {
   "cell_type": "code",
   "execution_count": null,
   "id": "8a8b61a9120b4ce8b24a0a9149ce1624",
   "metadata": {
    "slideshow": {
     "slide_type": "skip"
    },
    "tags": [
     "translated_en"
    ],
    "translation": {
     "lang": "de",
     "src_hash": "15968c1057dbe662692df62260dc66cba021a03fe732728f9f46e0a0b16d7cff",
     "updated_at_iso": "2025-08-16T17:56:00.390833+00:00"
    }
   },
   "outputs": [],
   "source": [
    "sql='INSERT INTO PolygonTypes VALUES(0, \"Dreieck\");'\n",
    "cur.execute(sql)\n",
    "cur.lastrowid"
   ]
  },
  {
   "cell_type": "markdown",
   "id": "a049526b9bb8430c9788b95412897fab",
   "metadata": {
    "slideshow": {
     "slide_type": "skip"
    },
    "tags": [
     "translated_en"
    ],
    "translation": {
     "lang": "de",
     "src_hash": "c5951c4d4565bc2a7769c3c534330683b80b2937c823af65e61e9f42c8af105b",
     "updated_at_iso": "2025-08-16T17:56:06.046274+00:00"
    }
   },
   "source": [
    "Now we create the entry for the polygon in the `Polygon` table. Here there is only the primary key, e.g., 33, and the foreign key 0 for the polygon type."
   ]
  },
  {
   "cell_type": "code",
   "execution_count": null,
   "id": "62809778f28f4f4e98d2c3d5bd874fc1",
   "metadata": {
    "slideshow": {
     "slide_type": "skip"
    },
    "tags": [
     "translated_en"
    ],
    "translation": {
     "lang": "de",
     "src_hash": "9c22c8f922f0489aee92ff4628c3e4522ae962286eee24ee115e18ceccd6db31",
     "updated_at_iso": "2025-08-16T17:56:11.428449+00:00"
    }
   },
   "outputs": [],
   "source": [
    "sql='INSERT INTO Polygons VALUES(33, 0);'\n",
    "cur.execute(sql)\n",
    "cur.lastrowid"
   ]
  },
  {
   "cell_type": "markdown",
   "id": "4c97b9de628548bfa05c4117e4984bd8",
   "metadata": {
    "slideshow": {
     "slide_type": "skip"
    },
    "tags": [
     "translated_en"
    ],
    "translation": {
     "lang": "de",
     "src_hash": "ed721e191c669751bc86e328f66461fa0ed6b6102eba2b61303e823dcd58af14",
     "updated_at_iso": "2025-08-16T17:56:14.852060+00:00"
    }
   },
   "source": [
    "For example, if we try to create a polygon for a non-existent polygon type with the foreign key 6, the database will return an error message."
   ]
  },
  {
   "cell_type": "code",
   "execution_count": null,
   "id": "62fbe4a609844a6298f69b138347241f",
   "metadata": {
    "slideshow": {
     "slide_type": "skip"
    },
    "tags": [
     "raises-exception",
     "translated_en"
    ],
    "translation": {
     "lang": "de",
     "src_hash": "5b1974e45fd3eea1c6bdc5f76d008aaf641d4df9d81384dcec5329713235cac6",
     "updated_at_iso": "2025-08-16T17:56:17.097092+00:00"
    }
   },
   "outputs": [],
   "source": [
    "sql='INSERT INTO Polygons VALUES(66, 6);'\n",
    "cur.execute(sql)\n",
    "cur.lastrowid"
   ]
  },
  {
   "cell_type": "markdown",
   "id": "73965384d644444f821ef7b8bb8ac95c",
   "metadata": {
    "slideshow": {
     "slide_type": "skip"
    },
    "tags": [
     "translated_en"
    ],
    "translation": {
     "lang": "de",
     "src_hash": "2912f9e5b852298bab0d1ba6b66721ee0fac2249532b1bb6e5926c8f10ccf246",
     "updated_at_iso": "2025-08-16T17:56:24.099201+00:00"
    }
   },
   "source": [
    "Here you can see the database that safeguards data integrity and keeps us from entering incorrect data.\n",
    "\n",
    "However, our polygon is not yet fully defined, and we still need to link the points belonging to the polygon. We do this with three entries in the table `PolygonPoints`, specifying the new primary keys (331, 332, 333), the foreign key for the polygon 33, and the foreign keys for the three points (1, 2, 3)."
   ]
  },
  {
   "cell_type": "code",
   "execution_count": null,
   "id": "f2142950878f45df860ded721f6c1950",
   "metadata": {
    "slideshow": {
     "slide_type": "skip"
    },
    "tags": [
     "translated_en"
    ],
    "translation": {
     "lang": "de",
     "src_hash": "7cf5ce436b8864c6596f923d19a2a922ef7b9c09f7dfa992bc033ca0e27cb9ed",
     "updated_at_iso": "2025-08-16T17:56:27.859143+00:00"
    }
   },
   "outputs": [],
   "source": [
    "sql=\"\"\"INSERT INTO PolygonPoints VALUES(331, 33, 1);\n",
    "INSERT INTO PolygonPoints VALUES(332, 33, 2);\n",
    "INSERT INTO PolygonPoints VALUES(333, 33, 3);\n",
    "\"\"\"\n",
    "cur.executescript(sql)\n",
    "cur.lastrowid"
   ]
  },
  {
   "cell_type": "markdown",
   "id": "5fa271f58b2544b7be3302fe721248a4",
   "metadata": {
    "slideshow": {
     "slide_type": "skip"
    },
    "tags": [
     "translated_en"
    ],
    "translation": {
     "lang": "de",
     "src_hash": "ad28f5766c5583e90bb1120bc62b179a9aefa3944631a461dcfdaf08dd1ce27b",
     "updated_at_iso": "2025-08-16T17:56:32.857449+00:00"
    }
   },
   "source": [
    "## Delete data"
   ]
  },
  {
   "cell_type": "markdown",
   "id": "c578127b0a8b4a2a96fca124d8665052",
   "metadata": {
    "slideshow": {
     "slide_type": "skip"
    },
    "tags": [
     "translated_en"
    ],
    "translation": {
     "lang": "de",
     "src_hash": "54b21fdf76f086fe50b80cacf3746fd7ae069da01259a63e668c02192ca0790d",
     "updated_at_iso": "2025-08-16T17:56:38.328998+00:00"
    }
   },
   "source": [
    "To delete entries from a table in SQL, you use the `DELETE FROM` command with the table and a `WHERE` clause that specifies which entries should be deleted. For example, if we want to delete the points that were just linked from the `PolygonPoints` table, we can write that we delete all rows where the referenced polygon has a `polygon_id` of 33."
   ]
  },
  {
   "cell_type": "code",
   "execution_count": null,
   "id": "2563e2842e7a441ab4acdb7dc9f14b38",
   "metadata": {
    "slideshow": {
     "slide_type": "skip"
    },
    "tags": [
     "translated_en"
    ],
    "translation": {
     "lang": "de",
     "src_hash": "2b4a97d3e36a40d90d3091abe11f890e79a9e0f4b291f2e5e0f04aa9f01e8444",
     "updated_at_iso": "2025-08-16T17:56:44.386714+00:00"
    }
   },
   "outputs": [],
   "source": [
    "sql=\"DELETE FROM PolygonPoints WHERE polygon_id=33;\"\n",
    "cur.execute(sql)\n",
    "cur.lastrowid  # returns the most recently deleted row"
   ]
  },
  {
   "cell_type": "markdown",
   "id": "d4d688e403b64a5183629b14e1a78742",
   "metadata": {
    "slideshow": {
     "slide_type": "skip"
    },
    "tags": [
     "translated_en"
    ],
    "translation": {
     "lang": "de",
     "src_hash": "6a3cee818d0b199b9dc3ed0a19a855d3b6203dbae559d035bfeb5e0b27b523dc",
     "updated_at_iso": "2025-08-16T17:56:46.538702+00:00"
    }
   },
   "source": [
    "## Renaming and Modifying Tables"
   ]
  },
  {
   "cell_type": "markdown",
   "id": "1bfb37486f7c49588848805c317dba88",
   "metadata": {
    "slideshow": {
     "slide_type": "skip"
    },
    "tags": [
     "translated_en"
    ],
    "translation": {
     "lang": "de",
     "src_hash": "165196d0252a22be5b8b2fda0e88d476039c6f35fc0539a820c66c2055eb0fe0",
     "updated_at_iso": "2025-08-16T17:56:58.077156+00:00"
    }
   },
   "source": [
    "Sometimes it is necessary to back up tables or to 'materialize' SQL queries with a `SELECT`, i.e., to store them as a new table. For this we can use `CREATE TABLE ... AS` with a `SELECT`. This is useful, for example, to create a copy of a table before making changes. Note"
   ]
  },
  {
   "cell_type": "code",
   "execution_count": null,
   "id": "c3989e1583fb4c97957eabb167b1a967",
   "metadata": {
    "slideshow": {
     "slide_type": "skip"
    },
    "tags": [
     "remove-output",
     "translated_en"
    ],
    "translation": {
     "lang": "de",
     "src_hash": "f58763bdb686f1151a47c9cdbf6ca1bef09408f0ce586e00797c726d70a44383",
     "updated_at_iso": "2025-08-16T17:57:00.434951+00:00"
    }
   },
   "outputs": [],
   "source": [
    "sql=\"CREATE TABLE PointsCopy AS SELECT * FROM Points;\"\n",
    "cur.execute(sql)"
   ]
  },
  {
   "cell_type": "markdown",
   "id": "1fa52b3ee337480a9ea365ddb3a42fdf",
   "metadata": {
    "slideshow": {
     "slide_type": "skip"
    },
    "tags": [
     "translated_en"
    ],
    "translation": {
     "lang": "de",
     "src_hash": "d9c23aa2549c37fdf56ee0ea9a77ed504d18549feb9e6200f02dabde7451f92b",
     "updated_at_iso": "2025-08-16T17:57:07.063570+00:00"
    }
   },
   "source": [
    "If you want to rename a table, you use the `ALTER TABLE ... RENAME` command in SQL. To rename the table `Points` to `Punkte`, we write"
   ]
  },
  {
   "cell_type": "code",
   "execution_count": null,
   "id": "56fb9270ea2a4fd9a69d2e4f7c7df40d",
   "metadata": {
    "slideshow": {
     "slide_type": "skip"
    },
    "tags": [
     "remove-output",
     "translated_en"
    ],
    "translation": {
     "lang": "de",
     "src_hash": "5ec927319fd4727b8111d286abfdedb183d743e7f97f828b95539b3a817d4ae2",
     "updated_at_iso": "2025-08-16T17:57:12.009147+00:00"
    }
   },
   "outputs": [],
   "source": [
    "sql=\"ALTER TABLE Points RENAME TO Punkte;\"\n",
    "cur.execute(sql)"
   ]
  },
  {
   "cell_type": "markdown",
   "id": "d4ee02d737ac47f7a9ba2e9b1f77a80e",
   "metadata": {
    "slideshow": {
     "slide_type": "skip"
    },
    "tags": [
     "translated_en"
    ],
    "translation": {
     "lang": "de",
     "src_hash": "9309aac15a84b2d44bcb39a6f1206fb0b8863a703350ef36f92c93fd3ab214ce",
     "updated_at_iso": "2025-08-16T17:57:16.278107+00:00"
    }
   },
   "source": [
    "In a similar way, we can also rename columns in tables or add new columns. For example, if we want to add a new column to the polygon types that contains the maximum number of points, this is done as follows:"
   ]
  },
  {
   "cell_type": "code",
   "execution_count": null,
   "id": "20b152825d6144f49ee1eb0a3a4d609b",
   "metadata": {
    "slideshow": {
     "slide_type": "skip"
    },
    "tags": [
     "remove-output",
     "translated_en"
    ],
    "translation": {
     "lang": "de",
     "src_hash": "01ed690dae89276b60fac3543e73b3d88c9e01c9126b62ad14d29c8d6798ab5f",
     "updated_at_iso": "2025-08-16T17:57:19.492635+00:00"
    }
   },
   "outputs": [],
   "source": [
    "sql=\"ALTER TABLE PolygonTypes ADD COLUMN maxPoints INTEGER DEFAULT 0;\"\n",
    "cur.execute(sql)"
   ]
  },
  {
   "cell_type": "markdown",
   "id": "d37ba6fecc774e9cba9df77308a6beaa",
   "metadata": {
    "slideshow": {
     "slide_type": "skip"
    },
    "tags": [
     "translated_en"
    ],
    "translation": {
     "lang": "de",
     "src_hash": "e167af8761f4dffc7bb2d3fecd4ee5db6aa630b8ada932f391aa43bc17079bbc",
     "updated_at_iso": "2025-08-16T17:57:24.348873+00:00"
    }
   },
   "source": [
    "It should be noted that this creates the column but doesn't write any values. Therefore, we assign the default value of 0 to the column here using `DEFAULT 0`."
   ]
  },
  {
   "cell_type": "markdown",
   "id": "ddad9fdacd3a4cc79a71259d2b06ef0f",
   "metadata": {
    "slideshow": {
     "slide_type": "skip"
    },
    "tags": [
     "translated_en"
    ],
    "translation": {
     "lang": "de",
     "src_hash": "bbee01481cdc8ae4eb2cb32793d506beb79686395b07c9dd3a1c53b4e7608b4e",
     "updated_at_iso": "2025-08-16T17:57:27.286676+00:00"
    }
   },
   "source": [
    "## Delete tables"
   ]
  },
  {
   "cell_type": "markdown",
   "id": "a1143d5274fc46df9a05b3ad16761f52",
   "metadata": {
    "slideshow": {
     "slide_type": "skip"
    },
    "tags": [
     "translated_en"
    ],
    "translation": {
     "lang": "de",
     "src_hash": "e72458af2e31596585d009bbb57c72e569cfbef96d319cb807a3c17878bb13cd",
     "updated_at_iso": "2025-08-16T17:57:35.559052+00:00"
    }
   },
   "source": [
    "SQL also naturally provides a command to completely delete a table's contents. If you want to delete only the data from a table while keeping the table's definition (for example when you swap the data), you can use `DELETE FROM` without a `WHERE` clause. This is also called truncating a table."
   ]
  },
  {
   "cell_type": "code",
   "execution_count": null,
   "id": "52c46c39567546678fcb5119e60dd905",
   "metadata": {
    "slideshow": {
     "slide_type": "skip"
    },
    "tags": [
     "translated_en"
    ],
    "translation": {
     "lang": "de",
     "src_hash": "f3de185f7ad45e0e36f1d4ee2d07a75a2474d7fe7e5d58c1fae2010cebf65795",
     "updated_at_iso": "2025-08-16T17:57:38.038454+00:00"
    }
   },
   "outputs": [],
   "source": [
    "sql=\"DELETE FROM PointsCopy;\"\n",
    "cur.execute(sql)"
   ]
  },
  {
   "cell_type": "markdown",
   "id": "a0f751c74da44f0cbcb699ab152150e9",
   "metadata": {
    "slideshow": {
     "slide_type": "skip"
    },
    "tags": [
     "translated_en"
    ],
    "translation": {
     "lang": "de",
     "src_hash": "fdcf76e80279ff33784f0a3fe676d1f3f33c9114c7a8bd5c6a04b865561db16d",
     "updated_at_iso": "2025-08-16T17:57:42.829280+00:00"
    }
   },
   "source": [
    "If you want to drop a table entirely, you use the `DROP TABLE` statement. Here we use the optional `IF EXISTS` clause to ensure that the table is only dropped if it exists."
   ]
  },
  {
   "cell_type": "code",
   "execution_count": null,
   "id": "7948aaf7007d4e208f255ca1c2252d9b",
   "metadata": {
    "slideshow": {
     "slide_type": "skip"
    },
    "tags": [
     "translated_en"
    ],
    "translation": {
     "lang": "de",
     "src_hash": "349f754058b425dc8b19f4bee467de68f3e6de83fa268da70caf643b191e9f9c",
     "updated_at_iso": "2025-08-16T17:57:46.667525+00:00"
    }
   },
   "outputs": [],
   "source": [
    "sql='''\n",
    "DROP TABLE IF EXISTS PointsCopy;\n",
    "DROP TABLE IF EXISTS Punkte;\n",
    "DROP TABLE IF EXISTS Lines;\n",
    "DROP TABLE IF EXISTS PolygonTypes;\n",
    "DROP TABLE IF EXISTS Polygons;\n",
    "DROP TABLE IF EXISTS PolygonPoints;\n",
    "'''"
   ]
  },
  {
   "cell_type": "code",
   "execution_count": null,
   "id": "019e9a22f396482489352241858d32ca",
   "metadata": {
    "slideshow": {
     "slide_type": "skip"
    },
    "tags": [
     "remove-output",
     "translated_en"
    ],
    "translation": {
     "lang": "de",
     "src_hash": "557339fd6d7574bde00a1438af73b51fd1f4d19f32e38fdfc6a34b92660d0dca",
     "updated_at_iso": "2025-08-16T17:57:49.881464+00:00"
    }
   },
   "outputs": [],
   "source": [
    "cur.executescript(sql)"
   ]
  },
  {
   "cell_type": "markdown",
   "id": "06d48e568c9541b9b997721ceb86f30c",
   "metadata": {
    "slideshow": {
     "slide_type": "skip"
    },
    "tags": [
     "translated_en"
    ],
    "translation": {
     "lang": "de",
     "src_hash": "64247551645b0fe576401913209b2197d0623552a95b8252703cab33c61a689b",
     "updated_at_iso": "2025-08-16T17:57:53.579018+00:00"
    }
   },
   "source": [
    "That wraps up our foray into SQL for working with databases. Finally, we need to close the database connection with `close()`."
   ]
  },
  {
   "cell_type": "code",
   "execution_count": null,
   "id": "a3dba8411ba74da4b7d0e6df5b6d46e2",
   "metadata": {
    "slideshow": {
     "slide_type": "skip"
    },
    "tags": [
     "translated_en"
    ],
    "translation": {
     "lang": "de",
     "src_hash": "0b1214a68d3dbd2df3bbdf298b5fd646337d6a046349ad93d01c3216c6e7cfde",
     "updated_at_iso": "2025-08-16T17:57:56.511097+00:00"
    }
   },
   "outputs": [],
   "source": [
    "cur.close()\n",
    "con.close()"
   ]
  },
  {
   "cell_type": "markdown",
   "id": "c0ff786940f34b299d4a529c3bfbefc3",
   "metadata": {
    "editable": true,
    "slideshow": {
     "slide_type": "skip"
    },
    "tags": [
     "translated_en"
    ],
    "translation": {
     "lang": "de",
     "src_hash": "aad89128715e0e82dc3fa11a5aef2bc781b3feb6d945a2cf58c62c74925b0f8b",
     "updated_at_iso": "2025-08-16T17:58:11.003133+00:00"
    }
   },
   "source": [
    "## Note on storing tables in SQLite with Pandas\n",
    "\n",
    ":::note\n",
    "In the last exercise we created tables directly with Pandas in SQLite. This is certainly sensible when you want to quickly and securely store larger datasets in a database. However, it should be noted that the tables generated by Pandas do not define relationships with foreign keys, constraints (e.g., NOT NULL), or search indexes. The resulting tables are therefore by no means 3NF-compliant and not optimized for querying and storing large amounts of data in practical applications. It is always recommended to create a proper ER design. Create the tables with `CREATE` including all relations, constraints, and indexes, and only then load data into the existing tables with Pandas.\n",
    ":::"
   ]
  },
  {
   "cell_type": "markdown",
   "id": "bbff55af406e4033adbb1d4fd47437a0",
   "metadata": {
    "editable": true,
    "slideshow": {
     "slide_type": "slide"
    },
    "tags": [
     "remove-cell",
     "translated_en"
    ],
    "translation": {
     "lang": "de",
     "src_hash": "0899a21a5476025980279e74e469e94469282af9c79a9ee70979efcc8ba269e2",
     "updated_at_iso": "2025-08-16T17:58:15.330150+00:00"
    }
   },
   "source": [
    "## Creating tables with SQL\n",
    "\n",
    "<script>setSectionBackground('#E2F0D9');</script>\n",
    "<div class=\"flex-row\">\n",
    "  <div class=\"col4 vcent\">\n",
    "\n",
    "  </div>\n",
    "  <div class=\"col6\"> \n",
    "    <figure class=\"mj-fig\">\n",
    "        <img src=\"images/11b_Datenbanken_SQL_Create/mj_babel2.png\" class=\"mj-fig-img\">\n",
    "        <figcaption class=\"mj-fig-cap\">\n",
    "            Midjourney: Construction plan of the tower of babel\n",
    "        </figcaption>\n",
    "    </figure>\n",
    "  </div>\n",
    "</div>"
   ]
  },
  {
   "cell_type": "markdown",
   "id": "a2eed3b6762744b9ab54acb41886e3d6",
   "metadata": {
    "editable": true,
    "slideshow": {
     "slide_type": "subslide"
    },
    "tags": [
     "remove-cell",
     "translated_en"
    ],
    "translation": {
     "lang": "de",
     "src_hash": "2dff9d7a9b2061a08b82fc90f5c22d9077cf8774231ac57de68f7b09d72dfcdf",
     "updated_at_iso": "2025-08-16T17:58:24.197268+00:00"
    }
   },
   "source": [
    "## Final Step: Implementation of the ER Diagram\n",
    "\n",
    "Mapping the ER model to SQL commands to create the tables\n",
    "\n",
    "- Create the tables\n",
    "- For every attribute of every relation, find a sensible data type\n",
    "- Determine whether attributes are nullable or non-nullable\n",
    "- Define the primary key\n",
    "- Define foreign keys\n",
    "- Declare additional indexes to optimize performance\n",
    "- Define access rights\n",
    "\n",
    "To create the table, you need the `CREATE TABLE` SQL command.\n",
    "\n",
    "*This does not insert any data yet, but only creates an empty scaffold.*"
   ]
  },
  {
   "cell_type": "markdown",
   "id": "0173e20d3f55437b928db2a6298875e5",
   "metadata": {
    "editable": true,
    "slideshow": {
     "slide_type": "subslide"
    },
    "tags": [
     "remove-cell",
     "translated_en"
    ],
    "translation": {
     "lang": "de",
     "src_hash": "2cd8cd19f553fa12a8a5be84f9d76fd47eec2e9c4c57adf810045dbb4e9bd3c1",
     "updated_at_iso": "2025-08-16T17:58:36.916370+00:00"
    }
   },
   "source": [
    "## DDL - Data Definition Language\n",
    "\n",
    "Allows operations on the definitions of data structures:\n",
    "\n",
    "<div class=\"flex-row\">\n",
    "  <div class=\"col1\">\n",
    "\n",
    "- `CREATE` – creating tables\n",
    "- `ALTER` – modifying tables\n",
    "- `DROP` – deleting tables\n",
    "- `TRUNC` – truncating data but not deleting the table\n",
    "\n",
    "  </div>\n",
    "  <div class=\"col1\"> \n",
    "\n",
    "The possible data structures are:\n",
    "\n",
    "- `TABLE` – tables for storing data\n",
    "- `VIEW` – dynamically generated views on tables\n",
    "- `MATERIALIZED VIEW` – tables that are derived from other tables\n",
    "\n",
    "  </div>\n",
    "</div>"
   ]
  },
  {
   "cell_type": "markdown",
   "id": "d4ab00526b3f4345af8672642b632a50",
   "metadata": {
    "editable": true,
    "slideshow": {
     "slide_type": "slide"
    },
    "tags": [
     "remove-cell",
     "translated_en"
    ],
    "translation": {
     "lang": "de",
     "src_hash": "22d70ec28bf92e28c73d878aec8db5a211820c4017a8308531d4c63c5a0d2583",
     "updated_at_iso": "2025-08-16T17:58:42.039806+00:00"
    }
   },
   "source": [
    "## Creating Tables in SQL\n",
    "\n",
    "```sql\n",
    "CREATE TABLE table_name (\n",
    "    attribute1_name attribute1_type attribute1_constraints,\n",
    "    attribute2_name attribute2_type attribute2_constraints,\n",
    "    …,\n",
    "    table_constraints\n",
    ")\n",
    "```"
   ]
  },
  {
   "cell_type": "markdown",
   "id": "2bade0e7767d4cfdb003f3ee2159aefb",
   "metadata": {
    "editable": true,
    "slideshow": {
     "slide_type": "subslide"
    },
    "tags": [
     "remove-cell",
     "translated_en"
    ],
    "translation": {
     "lang": "de",
     "src_hash": "b548e524d77ef3a8168b99d5199e1843ad5736ee04929b19d2ac73aed1b0507f",
     "updated_at_iso": "2025-08-16T17:58:51.608858+00:00"
    }
   },
   "source": [
    "## Data types in SQLite vs. Python\n",
    "\n",
    "| SQLite | Python | Description |\n",
    "|-----|----|-----|\n",
    "| `Boolean (INTEGER)` | `bool` | Boolean values |\n",
    "| `INTEGER` | `int` | Integer |\n",
    "| `REAL` | `float` | Floating-point number |\n",
    "| `NUMERIC` | - | Interprets arbitrary input data as numbers |\n",
    "| `TEXT` | `str` | Text string, stored in UTF-8 or UTF-16 |\n",
    "| `BLOB` | `bytes` | Arbitrary block of binary data |\n",
    "| `NULL` | `None` | No data |"
   ]
  },
  {
   "cell_type": "markdown",
   "id": "d5bfa4d3f86847b0a9bcb67ae59b50c1",
   "metadata": {
    "editable": true,
    "slideshow": {
     "slide_type": "subslide"
    },
    "tags": [
     "remove-cell",
     "translated_en"
    ],
    "translation": {
     "lang": "de",
     "src_hash": "72d60357b65d71a247f2d4a4f0c7dc5fbc143744c4d560a67524268be8fc9517",
     "updated_at_iso": "2025-08-16T17:58:57.027865+00:00"
    }
   },
   "source": [
    "## Example: Creating Tables in SQLite\n",
    "\n",
    "For our geometry example, the following CREATE TABLE statements are produced:\n",
    "\n",
    "```sql\n",
    "CREATE TABLE Points (\n",
    "    point_id INTEGER,\n",
    "    x REAL,\n",
    "    y REAL\n",
    ");\n",
    "\n",
    "CREATE TABLE Lines (\n",
    "    lines_id INTEGER,\n",
    "    start INTEGER,\n",
    "    end INTEGER\n",
    ");\n",
    "```"
   ]
  },
  {
   "cell_type": "markdown",
   "id": "4e369978453b48a4807e078cb4e7cade",
   "metadata": {
    "editable": true,
    "slideshow": {
     "slide_type": "subslide"
    },
    "tags": [
     "remove-cell",
     "translated_en"
    ],
    "translation": {
     "lang": "de",
     "src_hash": "3620924243c5c49f3b31cbc4e89d51dc3991ea11df84d139c8926f2434865713",
     "updated_at_iso": "2025-08-16T17:59:12.235798+00:00"
    }
   },
   "source": [
    "## Keys and Constraints in SQL\n",
    "\n",
    "- Primary and secondary keys are usually represented by INTEGER columns.\n",
    "\n",
    "- The primary key of every table must be explicitly marked by the PRIMARY KEY constraint.\n",
    "\n",
    "- Other constraints that must be observed when inserting new data:\n",
    "\n",
    "- `NOT NULL` – Values must not be null\n",
    "- `AUTOINCREMENT` – Numeric primary keys are generated automatically\n",
    "- `UNIQUE` – Values must be unique; duplicates are not allowed\n",
    "- `CHECKED` – Additional logical constraint for new values\n",
    "- `FOREIGN KEY` – Value of an existing foreign key"
   ]
  },
  {
   "cell_type": "markdown",
   "id": "bda893fe50da4f16b42b9fb47587a57b",
   "metadata": {
    "editable": true,
    "slideshow": {
     "slide_type": "subslide"
    },
    "tags": [
     "remove-cell",
     "translated_en"
    ],
    "translation": {
     "lang": "de",
     "src_hash": "2f9646c60f0e05036dc4edf53adf7963a7aa931fcab262711a1667348a89ed0a",
     "updated_at_iso": "2025-08-16T17:59:17.761917+00:00"
    }
   },
   "source": [
    "## Example: Primary Keys, Foreign Keys, and Constraints\n",
    "\n",
    "```sql\n",
    "CREATE TABLE Points (\n",
    "    point_id INTEGER PRIMARY KEY AUTOINCREMENT,\n",
    "    x REAL NOT NULL,\n",
    "    y REAL NOT NULL\n",
    ");\n",
    "\n",
    "CREATE TABLE Lines (\n",
    "    lines_id INTEGER PRIMARY KEY AUTOINCREMENT,\n",
    "    start INTEGER NOT NULL,\n",
    "    end INTEGER NOT NULL,\n",
    "    FOREIGN KEY(start) REFERENCES Points(point_id),\n",
    "    FOREIGN KEY(end) REFERENCES Points(point_id)\n",
    ");\n",
    "```"
   ]
  },
  {
   "cell_type": "markdown",
   "id": "cd97dc0102e141f19633d6cc46b219d0",
   "metadata": {
    "editable": true,
    "slideshow": {
     "slide_type": "slide"
    },
    "tags": [
     "remove-cell",
     "translated_en"
    ],
    "translation": {
     "lang": "de",
     "src_hash": "cdea15712b5844d67a327489a598885ae1ce4c0d1b3858d69e5dfcd94d1a86c2",
     "updated_at_iso": "2025-08-16T17:59:25.624277+00:00"
    }
   },
   "source": [
    "## CREATE TABLE Advanced Features\n",
    "\n",
    "Additional options:\n",
    "\n",
    "- `DEFAULT`: Set the default value for new elements\n",
    "- `WITHOUT ROWID`: Tables without a ROWID\n",
    "- `STRICT`: Enforces strict data types for the table"
   ]
  },
  {
   "cell_type": "markdown",
   "id": "98df13f65956469887f992501736f0b5",
   "metadata": {
    "editable": true,
    "slideshow": {
     "slide_type": "subslide"
    },
    "tags": [
     "remove-cell",
     "translated_en"
    ],
    "translation": {
     "lang": "de",
     "src_hash": "3d5a2fd52af11e35a2e09438a5d8a63426240e180d22d09ad8b09bf01ff6ca1c",
     "updated_at_iso": "2025-08-16T17:59:35.990201+00:00"
    }
   },
   "source": [
    "## Adding data to tables\n",
    "\n",
    "Data is added to tables using the SQL command `INSERT`\n",
    "\n",
    "<div class=\"flex-row\">\n",
    "  <div class=\"col1\">\n",
    "\n",
    "Add data in the order of the column names:\n",
    "\n",
    "```sql\n",
    "INSERT INTO Points VALUES(1, 54.083336, 12.108811);\n",
    "INSERT INTO Points VALUES(2, 12.094167, 54.075211);\n",
    "INSERT INTO Lines VALUES(1, 1, 2);\n",
    "```\n",
    "\n",
    "  </div>\n",
    "  <div class=\"col1\"> \n",
    "\n",
    "or with explicit column names:\n",
    "\n",
    "```sql\n",
    "INSERT INTO Points(x, y) VALUES(54.083336, 12.108811);\n",
    "INSERT INTO Points(x, y) VALUES(12.094167, 54.075211);\n",
    "INSERT INTO Lines(start, end) VALUES(1, 2);\n",
    "```\n",
    "\n",
    "  </div>\n",
    "</div>"
   ]
  },
  {
   "cell_type": "markdown",
   "id": "b2dd16d834ce429d9680fdee384e072c",
   "metadata": {
    "editable": true,
    "slideshow": {
     "slide_type": "subslide"
    },
    "tags": [
     "remove-cell",
     "translated_en"
    ],
    "translation": {
     "lang": "de",
     "src_hash": "40f02f56d8e970177ca5810917793f7ab70ccd57aed56c83910885aa61dc5cc4",
     "updated_at_iso": "2025-08-16T17:59:44.778224+00:00"
    }
   },
   "source": [
    "## Create a table from existing data\n",
    "\n",
    "```sql\n",
    "CREATE TABLE tablename AS\n",
    "SELECT … FROM … WHERE …\n",
    "```\n",
    "\n",
    "It has no primary key; it can only be defined afterwards."
   ]
  },
  {
   "cell_type": "markdown",
   "id": "102f434e48e741ffa9f62676c9633ae3",
   "metadata": {
    "editable": true,
    "slideshow": {
     "slide_type": "subslide"
    },
    "tags": [
     "remove-cell",
     "translated_en"
    ],
    "translation": {
     "lang": "de",
     "src_hash": "0b1d31b8390f42892aa7fa03c18041d736f5f7f5dbc7e17b7f1f3898f1e2226c",
     "updated_at_iso": "2025-08-16T17:59:53.224976+00:00"
    }
   },
   "source": [
    "## ALTER TABLE - Statement\n",
    "\n",
    "Renaming tables and columns, and adding and dropping columns\n",
    "\n",
    "```sql\n",
    "ALTER TABLE tablename TO newtablename\n",
    "```\n",
    "\n",
    "<br/>\n",
    "Example:\n",
    "```sql\n",
    "ALTER TABLE Points RENAME TO Punkte\n",
    "```"
   ]
  },
  {
   "cell_type": "markdown",
   "id": "3bad15408517489dbe7efef14f69fa4a",
   "metadata": {
    "editable": true,
    "slideshow": {
     "slide_type": "subslide"
    },
    "tags": [
     "remove-cell",
     "translated_en"
    ],
    "translation": {
     "lang": "de",
     "src_hash": "6edf703f1fadfc3ab7975f196ebcec2bdf45351ffa24f9c1ff0752d0f8d12e67",
     "updated_at_iso": "2025-08-16T18:00:00.649934+00:00"
    }
   },
   "source": [
    "## ALTER TABLE - Example\n",
    "\n",
    "Rename owner to customer, add a column for account number\n",
    "\n",
    "```sql\n",
    "ALTER TABLE tablename ADD COLUMN column_name column_type\n",
    "```\n",
    "\n",
    "<br/>\n",
    "Example:\n",
    "```sql\n",
    "ALTER TABLE PolygonType ADD COLUMN maxPoints INTEGER\n",
    "```"
   ]
  },
  {
   "cell_type": "markdown",
   "id": "840781da0e57403a940567f8d714d49c",
   "metadata": {
    "editable": true,
    "slideshow": {
     "slide_type": "subslide"
    },
    "tags": [
     "remove-cell",
     "translated_en"
    ],
    "translation": {
     "lang": "de",
     "src_hash": "ce1bd529fa68633ec966899ba25b6970964881f75a08ba9b8ebc7c3cdec0de2c",
     "updated_at_iso": "2025-08-16T18:00:05.374370+00:00"
    }
   },
   "source": [
    "## DROP TABLE - Statement\n",
    "\n",
    "Deleting entire tables.\n",
    "\n",
    "```sql\n",
    "DROP TABLE tablename\n",
    "```\n",
    "\n",
    "<br/>\n",
    "Example:\n",
    "```sql\n",
    "DROP TABLE Points\n",
    "```"
   ]
  },
  {
   "cell_type": "markdown",
   "id": "8a301653fa2c495ca6548485c5601310",
   "metadata": {
    "editable": true,
    "slideshow": {
     "slide_type": "skip"
    },
    "tags": [
     "translated_en"
    ],
    "translation": {
     "lang": "de",
     "src_hash": "64ef3755dc9c66796c63b66ec2155a679a25482793a161c31ba1ebd5ad93c63a",
     "updated_at_iso": "2025-08-16T18:00:39.083166+00:00"
    }
   },
   "source": [
    "## Quiz\n",
    "\n",
    "\n",
    "```{quizdown}\n",
    "    ---\n",
    "    shuffleQuestions: true\n",
    "    shuffleAnswers: true\n",
    "    ---\n",
    "\n",
    "\n",
    "    ### Which steps are part of the classic database design?\n",
    "\n",
    "    - [x] Requirements analysis, conceptual design, logical design\n",
    "    - [ ] Only conceptual and physical design\n",
    "    - [x] Physical design, implementation and testing\n",
    "    - [ ] Only implementation and maintenance\n",
    "\n",
    "\n",
    "    ### What is the main difference between conceptual and logical design?\n",
    "\n",
    "    - [x] Conceptual design is a rough design, logical is a detailed design\n",
    "    - [ ] Conceptual design uses SQL, logical does not\n",
    "    - [ ] There is no difference\n",
    "    - [ ] Logical design comes before conceptual\n",
    "\n",
    "\n",
    "    ### Sort the steps of database design in the correct order:\n",
    "\n",
    "    1. Requirements analysis\n",
    "    2. Conceptual design\n",
    "    3. Logical design\n",
    "    4. Physical design\n",
    "    5. Implementation and testing\n",
    "\n",
    "\n",
    "    ### What characterizes an entity in the UML notation for ER diagrams?\n",
    "\n",
    "    - [x] The annotation `<<Entity>>`\n",
    "    - [ ] The name `Entity`\n",
    "    - [ ] The annotation `<Table>`\n",
    "    - [ ] The special symbol `ER`\n",
    "    - [ ] No special designation\n",
    "\n",
    "\n",
    "    ### Which UML elements are NOT used in ER diagrams?\n",
    "\n",
    "    - [x] Methods and inheritance\n",
    "    - [ ] Attributes and classes\n",
    "    - [x] Polymorphism and encapsulation\n",
    "    - [ ] Associations\n",
    "\n",
    "\n",
    "    ### What does the symbol `>>` in a relation mean?\n",
    "\n",
    "    - [x] The relation is read from left to right\n",
    "    - [ ] The relation is bidirectional\n",
    "    - [ ] It is a notation error\n",
    "    - [ ] The relation is read from right to left\n",
    "\n",
    "\n",
    "    ### What does the cardinality \"1 to 0..*\" mean?\n",
    "\n",
    "    - [x] An entity can be linked to zero to many others\n",
    "    - [ ] An entity must be linked to at least one other\n",
    "    - [ ] Exactly one linkage is allowed\n",
    "    - [ ] The cardinality is invalid\n",
    "\n",
    "\n",
    "    ### In which cardinality are new tables for relations required?\n",
    "\n",
    "    - [ ] 1 to 1\n",
    "    - [ ] 1 to 0..1\n",
    "    - [x] 1 to 0..*\n",
    "    - [x] 1 to 1..*\n",
    "\n",
    "\n",
    "    ### What is the error in this ER diagram fragment?\n",
    "    ```\n",
    "    Person >>lives in>> Place\n",
    "    1                    1..*\n",
    "    ```\n",
    "\n",
    "    - [x] The reading direction doesn't make sense for this cardinality\n",
    "    - [ ] People cannot live in places\n",
    "    - [ ] The notation is completely wrong\n",
    "    - [ ] Attributes are missing\n",
    "\n",
    "\n",
    "    ### What is the goal of normalization?\n",
    "\n",
    "    - [x] Minimize redundancies\n",
    "    - [x] Ensure data integrity\n",
    "    - [ ] Slow down queries\n",
    "    - [ ] Create more tables\n",
    "\n",
    "\n",
    "    ### What does the 1st Normal Form (1NF) require?\n",
    "\n",
    "    - [x] All attribute values are atomic\n",
    "    - [ ] All attributes are primary keys\n",
    "    - [x] No complex attributes like lists\n",
    "    - [ ] At least three tables\n",
    "\n",
    "\n",
    "    ### Which normal form is violated if customer data is stored directly in the invoice table?\n",
    "\n",
    "    - [ ] 1NF\n",
    "    - [x] 2NF\n",
    "    - [ ] 3NF\n",
    "    - [ ] No violation\n",
    "\n",
    "\n",
    "    ### Sort the normal forms by their strictness (from less to more strict):\n",
    "\n",
    "    1. 1NF (First Normal Form)\n",
    "    2. 2NF (Second Normal Form) \n",
    "    3. 3NF (Third Normal Form)\n",
    "    4. BCNF (Boyce-Codd Normal Form)\n",
    "\n",
    "\n",
    "    ### What is the error in this table design?\n",
    "    ```sql\n",
    "    CREATE TABLE Customers (\n",
    "      id INTEGER,\n",
    "      name TEXT,\n",
    "      addresses LIST<TEXT>\n",
    "    )\n",
    "    ```\n",
    "\n",
    "    - [x] The attribute `addresses` violates 1NF (not atomic)\n",
    "    - [ ] The datatype INTEGER is incorrect\n",
    "    - [ ] A primary key is missing\n",
    "    - [ ] The table name is invalid\n",
    "\n",
    "\n",
    "    ### How is a 1:1 relation represented in tables?\n",
    "\n",
    "    - [x] By a foreign key in one of the tables\n",
    "    - [ ] By a separate relation table\n",
    "    - [ ] By duplicating all attributes\n",
    "    - [ ] Not at all, as it is invalid\n",
    "\n",
    "\n",
    "    ### When is a foreign key \"Nullable\"?\n",
    "\n",
    "    - [x] With cardinality 1 to 0..1\n",
    "    - [ ] With cardinality 1 to 1\n",
    "    - [x] If the relationship is optional\n",
    "    - [ ] Never\n",
    "\n",
    "\n",
    "    ### Sort these steps for normalizing a 1:n relation:\n",
    "\n",
    "    1. Create a new relation table\n",
    "    2. Add foreign keys to both original tables\n",
    "    3. Define the primary key for the relation table\n",
    "    4. Check cardinality\n",
    "\n",
    "\n",
    "    ### Which SQL command creates a new table?\n",
    "\n",
    "    - [x] CREATE TABLE\n",
    "    - [ ] INSERT TABLE\n",
    "    - [ ] NEW TABLE\n",
    "    - [ ] MAKE TABLE\n",
    "\n",
    "\n",
    "    ### What does AUTOINCREMENT do on a primary key?\n",
    "\n",
    "    - [x] Automatically assigns unique values\n",
    "    - [ ] Automatically deletes old entries\n",
    "    - [x] Facilitates inserting new records\n",
    "    - [ ] Prevents data changes\n",
    "\n",
    "\n",
    "    ### What is the error in this SQL code?\n",
    "    ```sql\n",
    "    CREATE TABLE Points (\n",
    "      point_id INTEGER PRIMARY KEY,\n",
    "      x REAL NOT NULL,\n",
    "      y REAL NOT NULL,\n",
    "      FOREIGN KEY(x) REFERENCES Lines(line_id)\n",
    "    )\n",
    "    ```\n",
    "\n",
    "    - [x] An attribute (x) cannot be both a coordinate and a foreign key\n",
    "    - [ ] REAL is not a valid data type\n",
    "    - [ ] PRIMARY KEY is misspelled\n",
    "    - [ ] NOT NULL is redundant\n",
    "\n",
    "\n",
    "    ### Sort these SQL commands in the logical order for creating a database:\n",
    "\n",
    "    1. CREATE TABLE for main entities\n",
    "    2. CREATE TABLE for foreign-key dependent tables  \n",
    "    3. INSERT seed data\n",
    "    4. INSERT linked data\n",
    "\n",
    "\n",
    "    ### With which SQL command do you add data?\n",
    "\n",
    "    - [x] INSERT INTO\n",
    "    - [ ] ADD DATA\n",
    "    - [ ] CREATE DATA\n",
    "    - [ ] PUT INTO\n",
    "\n",
    "\n",
    "    ### What happens with this SQL command?\n",
    "    ```sql\n",
    "    DELETE FROM Points WHERE x > 50;\n",
    "    ```\n",
    "\n",
    "    - [x] All points with x-coordinate > 50 are deleted\n",
    "    - [ ] The table Points is deleted\n",
    "    - [ ] Only the first found point is deleted\n",
    "    - [ ] There is a syntax error\n",
    "\n",
    "\n",
    "    ### Which error is in this INSERT statement?\n",
    "    ```sql\n",
    "    INSERT INTO Lines VALUES(1, 99, 100);\n",
    "    ```\n",
    "    *Assume the points with IDs 99 and 100 do not exist*\n",
    "\n",
    "    - [x] Foreign key constraint is violated\n",
    "    - [ ] Too many values provided\n",
    "    - [ ] INTEGER is not a valid data type\n",
    "    - [ ] INSERT is misspelled\n",
    "\n",
    "\n",
    "    ### Sort these steps for safe deletion of data:\n",
    "\n",
    "    1. Create a backup of the table\n",
    "    2. Test the DELETE statement with a WHERE condition\n",
    "    3. Perform the actual deletion\n",
    "    4. Verify the result\n",
    "\n",
    "\n",
    "    ### With which command do you rename a table?\n",
    "\n",
    "    - [x] ALTER TABLE ... RENAME TO\n",
    "    - [ ] CHANGE TABLE NAME\n",
    "    - [ ] RENAME TABLE\n",
    "    - [ ] UPDATE TABLE NAME\n",
    "\n",
    "\n",
    "    ### What is the difference between DELETE FROM table and DROP TABLE?\n",
    "\n",
    "    - [x] DELETE deletes only data, DROP deletes the entire table\n",
    "    - [ ] There is no difference\n",
    "    - [x] DROP also removes the table structure\n",
    "    - [ ] DELETE is faster\n",
    "\n",
    "\n",
    "    ### Which error is in this ALTER statement?\n",
    "    ```sql\n",
    "    ALTER TABLE Points ADD COLUMN z REAL;\n",
    "    ```\n",
    "    *Assume there is already data in the table*\n",
    "\n",
    "    - [ ] ADD COLUMN is wrong\n",
    "    - [ ] REAL is not a valid data type  \n",
    "    - [x] A DEFAULT value is missing for existing rows\n",
    "    - [ ] The column name z is too short\n",
    "\n",
    "\n",
    "    ### Sort these steps for safe table modification:\n",
    "\n",
    "    1. Create a backup of the table\n",
    "    2. Plan the ALTER statement\n",
    "    3. Apply the change\n",
    "    4. Check data integrity\n",
    "```"
   ]
  },
  {
   "cell_type": "markdown",
   "id": "20e24d2fdfda495ebd672dc2c8acdc45",
   "metadata": {
    "editable": true,
    "slideshow": {
     "slide_type": "slide"
    },
    "tags": [
     "remove-cell",
     "translated_en"
    ],
    "translation": {
     "lang": "de",
     "src_hash": "d2b7467259ef9f52d61ecf9953374631953b152baba6f1edeaac46d4c3d40a0b",
     "updated_at_iso": "2025-08-16T18:00:43.839678+00:00"
    }
   },
   "source": [
    "<div class=\"vslide\">\n",
    "  <div class=\"vslide-title\">\n",
    "    <p style=\"font-family: Protomolecule; font-size: 2.3em; margin: 0px auto; text-align: center; width: 100%;\">Questions?</p>\n",
    "  </div>\n",
    "  <script>setSectionBackground('#000000', 'images/mj_questions1.mp4');</script>\n",
    "</div>"
   ]
  }
 ],
 "metadata": {
  "kernelspec": {
   "display_name": "Python 3 (ipykernel)",
   "language": "python",
   "name": "python3"
  },
  "language_info": {
   "codemirror_mode": {
    "name": "ipython",
    "version": 3
   },
   "file_extension": ".py",
   "mimetype": "text/x-python",
   "name": "python",
   "nbconvert_exporter": "python",
   "pygments_lexer": "ipython3",
   "version": "3.12.10"
  },
  "rise": {
   "auto_select": "none",
   "center": false,
   "enable_chalkboard": true,
   "header": "<img src=\"images/pd_logo.svg\" class=\"header_title_logo\"><img src=\"images/ai4sc_logo_v2.svg\" class=\"header_ai4sc_logo\">",
   "scroll": true,
   "show_buttons_on_startup": false,
   "slideNumber": true,
   "theme": "white"
  },
  "vscode": {
   "interpreter": {
    "hash": "c6f6ea9c9385f57658f4c302ffd3b717b6cd59b095fbd1c55795f0b67656eecd"
   }
  }
 },
 "nbformat": 4,
 "nbformat_minor": 4
}
