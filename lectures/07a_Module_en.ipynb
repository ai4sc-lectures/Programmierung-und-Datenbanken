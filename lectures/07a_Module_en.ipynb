{
 "cells": [
  {
   "cell_type": "markdown",
   "id": "696ce2732c84450a9856a49342e6ddc3",
   "metadata": {
    "editable": true,
    "slideshow": {
     "slide_type": "slide"
    },
    "tags": [
     "remove-cell",
     "translated_en"
    ],
    "translation": {
     "lang": "de",
     "src_hash": "50eeac47d9ae3eb061f15afe4ccf947013672a0494be9d1ed5f9c3dc6ba3afba",
     "updated_at_iso": "2025-08-16T17:02:05.734518+00:00"
    }
   },
   "source": [
    "<div class=\"vslide\">\n",
    "  <div class=\"vslide-title\">\n",
    "    <p style=\"font-family: Protomolecule; font-size: 2.3em; line-height: 90%; margin: 0px auto; text-align: center; width: 100%;\"><span style=\"letter-spacing: .04rem;\">Programming</span><br><span style=\"letter-spacing: .0rem;\">and Databases</span></p>\n",
    "<p class=\"author\" style=\"font-family: Protomolecule; margin: 0px auto;  text-align: center; width: 100%; font-size: 1.2em;\">Joern Ploennigs</p>\n",
    "<p class=\"subtitle\" style=\"font-family: Protomolecule; margin: 1em auto; text-align: center; width: 100%; font-size: 1.2em;\">Modularization</p>\n",
    "    <figcaption>Midjourney: Modular Blocks, ref. Piet Mondrian</figcaption>\n",
    "  </div>\n",
    "<script>\n",
    "  function setSectionBackground(c,v){\n",
    "    let e=document.currentScript.previousElementSibling;\n",
    "    while(e&&e.tagName!=='SECTION')e=e.parentElement;\n",
    "    if(e){\n",
    "      if(c)e.setAttribute('data-background-color',c);\n",
    "      if(v){\n",
    "        e.setAttribute('data-background-video',v);\n",
    "        e.setAttribute('data-background-video-loop','true');\n",
    "        e.setAttribute('data-background-video-muted','true');\n",
    "      }\n",
    "    }\n",
    "  }\n",
    "  setSectionBackground('#000000', 'images/07a_Module/mj_title.mp4');\n",
    "</script>\n",
    "<style>\n",
    ".flex-row{display:flex; gap:2rem; align-items:flex-start; justify-content:space-between;}\n",
    ".flex-row .col1{flex:1; min-width:10px}\n",
    ".flex-row .col2{flex:2; min-width:10px}\n",
    ".flex-row .col3{flex:3; min-width:10px}\n",
    ".flex-row .col4{flex:4; min-width:10px}\n",
    ".flex-row .col5{flex:5; min-width:10px}\n",
    ".flex-row .col6{flex:6; min-width:10px}\n",
    ".flex-row .col7{flex:7; min-width:10px}\n",
    ".vcent{display:flex; align-items:center; justify-content:center}\n",
    "</style>\n",
    "</div>"
   ]
  },
  {
   "cell_type": "markdown",
   "id": "ba78f100698a4feda3b48911bb07b936",
   "metadata": {
    "slideshow": {
     "slide_type": "skip"
    },
    "tags": [
     "translated_en"
    ],
    "translation": {
     "lang": "de",
     "src_hash": "8066bf18fb3307606240c4de161cad81fdce859264c1f93762f81f9a557fc101",
     "updated_at_iso": "2025-08-16T17:02:07.774938+00:00"
    }
   },
   "source": [
    "# Modularization"
   ]
  },
  {
   "cell_type": "markdown",
   "id": "d2dc27b610634c33a8e81b192e474aa7",
   "metadata": {
    "slideshow": {
     "slide_type": "skip"
    },
    "tags": [
     "translated_en"
    ],
    "translation": {
     "lang": "de",
     "src_hash": "bbccef8e2a7cc2a26a4a31266745e0611bdad2c0496b414fe6af95303357cc66",
     "updated_at_iso": "2025-08-16T17:02:11.823042+00:00"
    }
   },
   "source": [
    "<figure class=\"mj-tile-band\">\n",
    "    <img src='images/07a_Module/mj_title_band.jpg'>\n",
    "    <figcaption>Midjourney: Modular Blocks, ref. Piet Mondrian</figcaption>\n",
    "</figure>\n",
    "\n",
    "> Write programs that do one thing and do it well.\n",
    ">\n",
    "> — Doug McIlroy"
   ]
  },
  {
   "cell_type": "markdown",
   "id": "b3a1d2df0d5c47e0abb9ed81a8a79689",
   "metadata": {
    "slideshow": {
     "slide_type": "skip"
    },
    "tags": [
     "translated_en"
    ],
    "translation": {
     "lang": "de",
     "src_hash": "06dda01d57d37e42fc4e56f0ac83fc62fc51ba3ac10acffbdca46329dca8165c",
     "updated_at_iso": "2025-08-16T17:02:18.427285+00:00"
    }
   },
   "source": [
    "## <a href=\"/lec_slides/07a_Module.slides.html\">Slides</a>/<a href=\"/pdf/slides/07a_Module.pdf\">PDF</a>\n",
    "<iframe src=\"/lec_slides/07a_Module.slides.html\" width=\"750\" height=\"500\"></iframe>"
   ]
  },
  {
   "cell_type": "markdown",
   "id": "224b881001584bd689b121e097cf9000",
   "metadata": {
    "slideshow": {
     "slide_type": "slide"
    },
    "tags": [
     "remove-cell",
     "translated_en"
    ],
    "translation": {
     "lang": "de",
     "src_hash": "d8f4d61e0eefd23fbe16a5496f79f0e30a86a4cc3dc4ab6fa992563035c24ac9",
     "updated_at_iso": "2025-08-16T17:02:24.253027+00:00"
    }
   },
   "source": [
    "## Process\n",
    "\n",
    "![](images/partB_1.svg)"
   ]
  },
  {
   "cell_type": "markdown",
   "id": "424dea51003e4a62b03c3f6256d851ce",
   "metadata": {
    "slideshow": {
     "slide_type": "skip"
    },
    "tags": [
     "translated_en"
    ],
    "translation": {
     "lang": "de",
     "src_hash": "0fd072af8835dce19863e481479ad393cedad9fe402b22b6d4cc0bd8620973cb",
     "updated_at_iso": "2025-08-16T17:02:26.852806+00:00"
    }
   },
   "source": [
    "## Split code into files, modules, and packages"
   ]
  },
  {
   "cell_type": "markdown",
   "id": "e164713959a4480ba01f516f4f706147",
   "metadata": {
    "slideshow": {
     "slide_type": "skip"
    },
    "tags": [
     "translated_en"
    ],
    "translation": {
     "lang": "de",
     "src_hash": "fa283babc42d64c6eabcf39c717038ecbf76b3325c67b890af759d7b84552d73",
     "updated_at_iso": "2025-08-16T17:02:34.471414+00:00"
    }
   },
   "source": [
    "Large programs often contain dozens of classes with hundreds of functions and many thousands of lines of code. It quickly becomes difficult to keep an overview when all classes are defined in a single file. Especially when different programmers work at different places in the program, version conflicts can arise very quickly when people work on similar files.\n",
    "\n",
    "To keep this organized and easy to navigate, code is split into multiple files with the extension `.py`. It is common to have one file\n",
    "- per class, when classes are defined\n",
    "- per topic, when helper functions are defined (e.g., mathematical functions, …)\n",
    "- per area of responsibility, when (for example) data loading is separated from its processing. This way you can later define other processing steps and reuse the loading."
   ]
  },
  {
   "cell_type": "markdown",
   "id": "65a6769066c54818925c5ea9fef2da8c",
   "metadata": {
    "slideshow": {
     "slide_type": "skip"
    },
    "tags": [
     "translated_en"
    ],
    "translation": {
     "lang": "de",
     "src_hash": "fb3f9f487bd82993dafad061b92d2979b472058389ea849950f436fc5f2047e2",
     "updated_at_iso": "2025-08-16T17:02:42.467117+00:00"
    }
   },
   "source": [
    "If we save each class of the geometry elements from the Class Definition section of the last lecture, we would then have, for example, a project structure corresponding to:"
   ]
  },
  {
   "cell_type": "markdown",
   "id": "1a29441f4bdc4441a02dd74298603d72",
   "metadata": {
    "slideshow": {
     "slide_type": "skip"
    },
    "tags": [
     "translated_en"
    ],
    "translation": {
     "lang": "de",
     "src_hash": "bf05c996f7ca20ed80e0d05856a0192d37ee311747b8e93233117bcf86051b43",
     "updated_at_iso": "2025-08-16T17:02:47.383230+00:00"
    }
   },
   "source": [
    "- 📁 geometry\n",
    "    - 📄 [ImmutablePoint.py](points/ImmutablePoint.py)\n",
    "    - 📄 [Point.py](points/Point.py)\n",
    "    - 📄 [Line.py](shapes/Line.py)\n",
    "    - 📄 [Pentagon.py](shapes/Pentagon.py)\n",
    "    - 📄 [Polygon.py](shapes/Polygon.py)\n",
    "    - 📄 [Tetragon.py](shapes/Tetragon.py)\n",
    "    - 📄 [Triangle.py](shapes/Triangle.py)\n",
    "\n",
    "<!-- <center><img src=\"images/07a_Module/files.png\" style=\"width: 40ex\"></center> -->"
   ]
  },
  {
   "cell_type": "markdown",
   "id": "9a27a98f23aa4913ae0ff3e14c6b2e01",
   "metadata": {
    "slideshow": {
     "slide_type": "skip"
    },
    "tags": [
     "translated_en"
    ],
    "translation": {
     "lang": "de",
     "src_hash": "6c7ab4d36b805587e114b9bdc8f7ce0dc4c0337108ba4ac6c92f1d37a548140f",
     "updated_at_iso": "2025-08-16T17:02:56.566389+00:00"
    }
   },
   "source": [
    "Each file contains only the code of the class with the same name, even if that is only a few lines, as in the case of the classes `Triangle`, `Tetragon`, and `Pentagon`. Crucially, when a programmer searches for the code of a class, they should be able to see exactly in which file it can be found and not have to search far.\n",
    "\n",
    "Larger projects are split into multiple *modules* by creating additional subdirectories. For example, we want to group all generic classes for points in the `points` directory and all geometric shapes in the `shapes` directory. This makes it easy to structure larger projects.\n",
    "\n",
    "The sum of all modules then forms a *package*. In this case the `geometry` package, which we can reuse in different implementations."
   ]
  },
  {
   "cell_type": "markdown",
   "id": "ab7e77de9149477a9e45748e01862163",
   "metadata": {
    "slideshow": {
     "slide_type": "skip"
    },
    "tags": [
     "translated_en"
    ],
    "translation": {
     "lang": "de",
     "src_hash": "b28e6c73c7714b77e4608ec4c51408a39c8ab60a31c605909ffd0d6ad464d378",
     "updated_at_iso": "2025-08-16T17:03:00.013885+00:00"
    }
   },
   "source": [
    "- 📁 geometry\n",
    "    - 📁 points\n",
    "        - 📄 [ImmutablePoint.py](geometry/points/ImmutablePoint.py)\n",
    "        - 📄 [Point.py](geometry/points/Point.py)\n",
    "    - 📁 shapes\n",
    "        - 📄 [Line.py](geometry/shapes/Line.py)\n",
    "        - 📄 [Pentagon.py](geometry/shapes/Pentagon.py)\n",
    "        - 📄 [Polygon.py](geometry/shapes/Polygon.py)\n",
    "        - 📄 [Tetragon.py](geometry/shapes/Tetragon.py)\n",
    "        - 📄 [Triangle.py](geometry/shapes/Triangle.py)\n",
    "\n",
    "<!-- <center><img src=\"images/07a_Module/shapes.png\" style=\"width: 40ex\"></center> -->"
   ]
  },
  {
   "cell_type": "markdown",
   "id": "d5d5cb34e0524c5685daa3302dcb5e46",
   "metadata": {
    "slideshow": {
     "slide_type": "skip"
    },
    "tags": [
     "translated_en"
    ],
    "translation": {
     "lang": "de",
     "src_hash": "dc177cc6bd95d2e79ea06658e2774579eafcc7148da18c2e25b7bcfa7c3be029",
     "updated_at_iso": "2025-08-16T17:03:02.316082+00:00"
    }
   },
   "source": [
    "## `main()` - The entry point of a program"
   ]
  },
  {
   "cell_type": "markdown",
   "id": "d4a97c98fc8b4d99b51a901e75259c82",
   "metadata": {
    "slideshow": {
     "slide_type": "skip"
    },
    "tags": [
     "translated_en"
    ],
    "translation": {
     "lang": "de",
     "src_hash": "cd7de283271a20e2be26e324cdfedac3f6a3c7250fc8762c08684c51649e4711",
     "updated_at_iso": "2025-08-16T17:03:09.678559+00:00"
    }
   },
   "source": [
    "When code is spread across multiple files, Python needs a hint about which code should be executed. For this, you define the special entry function `main()`.\n",
    "\n",
    "It exists in almost all programming languages and always designates the starting point of a program.\n",
    "\n",
    "In Python, it either takes no arguments or receives them dynamically when it is invoked by the user or by another program (a.k.a. command-line arguments)."
   ]
  },
  {
   "cell_type": "code",
   "execution_count": null,
   "id": "9539116b29454e8a8ae71c7b56cd59ce",
   "metadata": {
    "slideshow": {
     "slide_type": "skip"
    },
    "tags": [
     "translated_en"
    ],
    "translation": {
     "lang": "de",
     "src_hash": "f11f661af44bf0200c5aaa7984563e2b3c750054665ee8bbe9261e46e9d49908",
     "updated_at_iso": "2025-08-16T17:03:11.693235+00:00"
    }
   },
   "outputs": [],
   "source": [
    "def main():\n",
    "\tprint(\"This is the main function\")"
   ]
  },
  {
   "cell_type": "markdown",
   "id": "f09bb01407ca43efa60dcba9e6953fc6",
   "metadata": {
    "slideshow": {
     "slide_type": "skip"
    },
    "tags": [
     "translated_en"
    ],
    "translation": {
     "lang": "de",
     "src_hash": "5a8727ba637fbea52c68fbee93f510dcebbdcfd9920e0af36ce320d6a6f636cf",
     "updated_at_iso": "2025-08-16T17:03:17.887453+00:00"
    }
   },
   "source": [
    "However, you want to avoid the function `main()` from being called when the Python file is, for example, imported as a library, where you’re only interested in the functions. Therefore, at the end of a file that defines a `main()` function you use the following conditional."
   ]
  },
  {
   "cell_type": "code",
   "execution_count": null,
   "id": "7e95c9c9cd44413aacebfb520690e370",
   "metadata": {
    "slideshow": {
     "slide_type": "skip"
    },
    "tags": [
     "translated_en"
    ],
    "translation": {
     "lang": "de",
     "src_hash": "3fd70df21bea11461f933f33b7c09716a0b797928dd4b30e4022caeeb6a450a3",
     "updated_at_iso": "2025-08-16T17:03:20.491420+00:00"
    }
   },
   "outputs": [],
   "source": [
    "if __name__ == \"__main__\":\n",
    "\tmain()"
   ]
  },
  {
   "cell_type": "markdown",
   "id": "b1d3dee5a2e24a15a897144a70829b12",
   "metadata": {
    "slideshow": {
     "slide_type": "skip"
    },
    "tags": [
     "translated_en"
    ],
    "translation": {
     "lang": "de",
     "src_hash": "ffbe93e9b7029b81264e8516fc720d27a04fcd86e451f2491d12cd2ee387c44e",
     "updated_at_iso": "2025-08-16T17:03:28.769210+00:00"
    }
   },
   "source": [
    "She takes advantage of the fact that the value of the special variable `__name__` in the main file is always `'__main__'`, whereas in an imported file it indicates the name of the main file."
   ]
  },
  {
   "cell_type": "markdown",
   "id": "b65e07e34c9b4464b01c0ce9b1b8b26a",
   "metadata": {
    "slideshow": {
     "slide_type": "skip"
    },
    "tags": [
     "translated_en"
    ],
    "translation": {
     "lang": "de",
     "src_hash": "003884556a5500e4d5649ab3b77ff76f6db21e5740087032cc3c1ac5d3f5b3d0",
     "updated_at_iso": "2025-08-16T17:03:30.785814+00:00"
    }
   },
   "source": [
    "## Importing Modules"
   ]
  },
  {
   "cell_type": "markdown",
   "id": "bce2ef76a608409f936b7935ac3dd323",
   "metadata": {
    "slideshow": {
     "slide_type": "skip"
    },
    "tags": [
     "translated_en"
    ],
    "translation": {
     "lang": "de",
     "src_hash": "929fd2fbd2edbdfca49f279ec041cdec8e3a8794997a96ceda23eb7665f5d1f5",
     "updated_at_iso": "2025-08-16T17:03:38.263948+00:00"
    }
   },
   "source": [
    "To avoid constantly loading unnecessary code, Python does not load this code automatically.\n",
    "\n",
    "So, if we want to use the code in our files, modules, and packages, we must first tell Python to load it.\n",
    "\n",
    "This *importing* is done with the `import` command.\n",
    "\n",
    "A simple import is importing an entire package.\n",
    "\n",
    "This is done by writing `import` followed by the package name."
   ]
  },
  {
   "cell_type": "code",
   "execution_count": null,
   "id": "4ea7af269c104392aa6b07f2746d89f1",
   "metadata": {
    "slideshow": {
     "slide_type": "skip"
    },
    "tags": [
     "translated_en"
    ],
    "translation": {
     "lang": "de",
     "src_hash": "eac412febea69ed2ba451fb3920c00f13d96d2703a93d8b185cdf93a50c8991d",
     "updated_at_iso": "2025-08-16T17:03:46.132061+00:00"
    }
   },
   "outputs": [],
   "source": [
    "import geometry.points.ImmutablePoint\n",
    "import geometry.shapes.Line\n",
    "\n",
    "def main():\n",
    "\tpoint_1 = geometry.points.ImmutablePoint.ImmutablePoint(x=54.083336, y=12.108811)\n",
    "\tpoint_2 = geometry.points.ImmutablePoint.ImmutablePoint(y=12.094167, x=54.075211)\n",
    "\tline_1 = geometry.shapes.Line.Line(start=point_1, end=point_2)\n",
    "\tprint(f\"Die Länge der Linie zwischen Punkt 1 und 2 ist: {line_1.length()}\")\n",
    "\n",
    "if __name__ == \"__main__\":\n",
    "\tmain()"
   ]
  },
  {
   "cell_type": "markdown",
   "id": "2efd8344511b4a6dac87bef652c7ebfd",
   "metadata": {
    "slideshow": {
     "slide_type": "skip"
    },
    "tags": [
     "translated_en"
    ],
    "translation": {
     "lang": "de",
     "src_hash": "7b1e1dd067dabbc43edec1bb27b73ec535c871708fb22e051d53db812cfefe35",
     "updated_at_iso": "2025-08-16T17:03:51.932919+00:00"
    }
   },
   "source": [
    "One drawback of importing entire packages is that if we want to reference individual classes that reside in submodules, we must specify the fully qualified class name. For example, in the example above: `geometry.points.ImmutablePoint.ImmutablePoint`."
   ]
  },
  {
   "cell_type": "markdown",
   "id": "496325d852d44720ae22990bff11e1be",
   "metadata": {
    "slideshow": {
     "slide_type": "skip"
    },
    "tags": [
     "translated_en"
    ],
    "translation": {
     "lang": "de",
     "src_hash": "792a2763eb884783df9df8cfe80a0cfef91f638ce07ba482d1bd1fc572ee5880",
     "updated_at_iso": "2025-08-16T17:03:56.093453+00:00"
    }
   },
   "source": [
    "Therefore, one typically imports individual modules by specifying the path to a module, for example `geometry.points.ImmutablePoint.ImmutablePoint`. Here, you can also assign new names to the imported modules, such as `point` or `line`, in the example below."
   ]
  },
  {
   "cell_type": "code",
   "execution_count": null,
   "id": "992d24bd5e3f486988acc1f762f08e50",
   "metadata": {
    "slideshow": {
     "slide_type": "skip"
    },
    "tags": [
     "translated_en"
    ],
    "translation": {
     "lang": "de",
     "src_hash": "2facc98dbbbbbca7e8bd87d55345ddf70e8974b8b6d6fc8601a6968530524b9a",
     "updated_at_iso": "2025-08-16T17:04:06.550676+00:00"
    }
   },
   "outputs": [],
   "source": [
    "import geometry.points.ImmutablePoint as point\n",
    "import geometry.shapes.Line as line\n",
    "\n",
    "def main():\n",
    "\tpoint_1 = point.ImmutablePoint(x=54.083336, y=12.108811)\n",
    "\tpoint_2 = point.ImmutablePoint(y=12.094167, x=54.075211)\n",
    "\tline_1 = line.Line(start=point_1, end=point_2)\n",
    "\tprint(f\"Die Länge der Linie zwischen Punkt 1 und 2 ist: {line_1.length()}\")\n",
    "\n",
    "if __name__ == \"__main__\":\n",
    "\tmain()"
   ]
  },
  {
   "cell_type": "markdown",
   "id": "312ea091c7c34b7bb1373413809a0064",
   "metadata": {
    "slideshow": {
     "slide_type": "skip"
    },
    "tags": [
     "translated_en"
    ],
    "translation": {
     "lang": "de",
     "src_hash": "38304067248ae039808b7cf1f43e1a0f2af2241c2c7739afd897038b75c3d6e5",
     "updated_at_iso": "2025-08-16T17:04:13.085714+00:00"
    }
   },
   "source": [
    "Alternatively, parts of a module can also be imported using the wildcard `*` and the `from` statement. All elements are imported with the wildcard `*`. Specific elements, such as individual classes, can also be specified directly, as in the following example `Line`."
   ]
  },
  {
   "cell_type": "code",
   "execution_count": null,
   "id": "0d788ddbe2be4e4b8bcb026b0efe2abd",
   "metadata": {
    "slideshow": {
     "slide_type": "skip"
    },
    "tags": [
     "translated_en"
    ],
    "translation": {
     "lang": "de",
     "src_hash": "57926e2f2d9f61f35ea387d919ec98baab2e70a6b4f7859c75ca3072f6dbaf06",
     "updated_at_iso": "2025-08-16T17:04:20.903600+00:00"
    }
   },
   "outputs": [],
   "source": [
    "from geometry.points.ImmutablePoint import *\n",
    "from geometry.shapes.Line import Line\n",
    "\n",
    "def main():\n",
    "\tpoint_1 = ImmutablePoint(x=54.083336, y=12.108811)\n",
    "\tpoint_2 = ImmutablePoint(y=12.094167, x=54.075211)\n",
    "\tline_1 = Line(start=point_1, end=point_2)\n",
    "\tprint(f\"Die Länge der Linie zwischen Punkt 1 und 2 ist: {line_1.length()}\")\n",
    "\n",
    "if __name__ == \"__main__\":\n",
    "\tmain()"
   ]
  },
  {
   "cell_type": "markdown",
   "id": "f5cd7a08f27f4b309f5841636d041949",
   "metadata": {
    "slideshow": {
     "slide_type": "skip"
    },
    "tags": [
     "translated_en"
    ],
    "translation": {
     "lang": "de",
     "src_hash": "5a9ceaee3c7abbc25a6574d84e06201fa6ae4f85d3ec76e7c56500fb0f42c373",
     "updated_at_iso": "2025-08-16T17:04:23.204364+00:00"
    }
   },
   "source": [
    "## Import standard packages from Python"
   ]
  },
  {
   "cell_type": "markdown",
   "id": "0e034b6830db46f1a9da513d7e966cbb",
   "metadata": {
    "slideshow": {
     "slide_type": "skip"
    },
    "tags": [
     "translated_en"
    ],
    "translation": {
     "lang": "de",
     "src_hash": "dbbd3cf8951f27493af1b2c1afa0666fb09f2e52659180f488e2ccb02da0c5e7",
     "updated_at_iso": "2025-08-16T17:04:29.511521+00:00"
    }
   },
   "source": [
    "Python includes many [standard libraries](https://python.readthedocs.io/en/latest/library/index.html) for common tasks. For construction and environmental informatics, the following are the most useful:"
   ]
  },
  {
   "cell_type": "markdown",
   "id": "98f6ae755eee4d37942f79adb6f9e3d9",
   "metadata": {
    "slideshow": {
     "slide_type": "skip"
    },
    "tags": [
     "translated_en"
    ],
    "translation": {
     "lang": "de",
     "src_hash": "25fcdc8d48e828313a8548af827c01c60f1d002d211155f18b17a1bc30f77e1c",
     "updated_at_iso": "2025-08-16T17:04:41.860709+00:00"
    }
   },
   "source": [
    "| packet |   description |\n",
    "| ------ | ------------- |\n",
    "| collections | More complex data types for counting, sorting |\n",
    "| http   | Functions of the HTTP protocol, such as web servers |\n",
    "| json   | Functions to store objects as text |\n",
    "| logging| Functions to write logs |\n",
    "| math   | Mathematical functions |\n",
    "| os     | Functions to locate, load, and save files |\n",
    "| pickle | Functions to store objects in binary form |\n",
    "| pprint | print functions for pretty-printing objects |\n",
    "| random | Functions for generating random numbers |\n",
    "| re     | Functions for regular expressions to search text |\n",
    "| sys    | Functions to obtain system information |\n",
    "| time   | Functions for time and date information |\n",
    "| timeit | Functions to measure the performance of functions |\n",
    "|traceback| Functions to display the stack trace |\n",
    "| urllib | Functions to load and process URLs on the Internet |"
   ]
  },
  {
   "cell_type": "markdown",
   "id": "477afe66ec2a44ee93b5f5798d2760bc",
   "metadata": {
    "slideshow": {
     "slide_type": "skip"
    },
    "tags": [
     "translated_en"
    ],
    "translation": {
     "lang": "de",
     "src_hash": "fd6524c57ee425597d6311c094920baf04a8d447c90df19841cb615dcfd65194",
     "updated_at_iso": "2025-08-16T17:04:46.872084+00:00"
    }
   },
   "source": [
    "From the list, we have already become familiar with and used the libraries `math`, `time`, `timeit`, `traceback`, and `logging`. The other packages, however, offer additional useful functions.\n",
    "\n",
    "For example, if we want to list all files in a directory, we use the `os` package."
   ]
  },
  {
   "cell_type": "code",
   "execution_count": null,
   "id": "6503c3221be0472f9236793c711650cb",
   "metadata": {
    "slideshow": {
     "slide_type": "skip"
    },
    "tags": [
     "translated_en"
    ],
    "translation": {
     "lang": "de",
     "src_hash": "4f11b545ec266e5b181e7e50c9ce8f91c6bcb7dec3496cc3b41121882fccd9d6",
     "updated_at_iso": "2025-08-16T17:04:49.847983+00:00"
    }
   },
   "outputs": [],
   "source": [
    "import os\n",
    "\n",
    "folder = \"geometry/shapes/\"\n",
    "for count, filename in enumerate(os.listdir(folder)):\n",
    "\tif os.path.isfile(os.path.join(folder, filename)):\n",
    "\t\tpath = os.path.join(folder, filename)\n",
    "\t\tprint(path)"
   ]
  },
  {
   "cell_type": "markdown",
   "id": "f3f56018227a41c6b651bff900d14b83",
   "metadata": {
    "slideshow": {
     "slide_type": "skip"
    },
    "tags": [
     "translated_en"
    ],
    "translation": {
     "lang": "de",
     "src_hash": "27673ed8da2ab5c11b48f2310775e5a6042e26cf9c77691464f7408d586ec476",
     "updated_at_iso": "2025-08-16T17:05:03.000890+00:00"
    }
   },
   "source": [
    "Many websites offer application programming interfaces, so-called APIs, because these APIs are also used by their own websites to load data that is displayed on the page. The APIs usually use the JSON format to exchange data. This is a text-based file format that in Python closely resembles the `dict` data type, but it also supports all other primitive and composite data types in Python. \n",
    "\n",
    "We would like, for example, to analyze the weather data of a weather station in Germany. We obtain these data from the [German Weather Service](https://www.dwd.de). These data can also be downloaded from the [API](https://dwd.api.bund.dev/). For this, you need the ID (identification number) of a weather station, which can be found [here](https://www.dwd.de/DE/leistungen/klimadatendeutschland/statliste/statlex_html.html?view=nasPublication&nn=16102). We take as an example a station in the Hansaviertel in Rostock with the ID `12495`.\n",
    "\n",
    "Then you can load the weather data with Python with the help of the `urllib` package from the API. The JSON format can be processed with the `json` package. To output this in a nicer way, we use the `pprint` function from the `pprint` package (pretty-print)."
   ]
  },
  {
   "cell_type": "code",
   "execution_count": null,
   "id": "c4776b238df145dbbe2ab08bddb6c64f",
   "metadata": {
    "slideshow": {
     "slide_type": "skip"
    },
    "tags": [
     "output_scroll",
     "translated_en"
    ],
    "translation": {
     "lang": "de",
     "src_hash": "246b6879a2891aac1256badac76b55b93a06c80b62daed240548ecfdda4bcfad",
     "updated_at_iso": "2025-08-16T17:05:13.359340+00:00"
    }
   },
   "outputs": [],
   "source": [
    "import urllib.request\n",
    "import json\n",
    "import pprint\n",
    "\n",
    "stationID='12495' # Rostock-Hansaviertel\n",
    "with urllib.request.urlopen(f'https://dwd.api.proxy.bund.dev/v30/stationOverviewExtended?stationIds={stationID}') as f:\n",
    "    data=f.read() # This returns binary data\n",
    "    weather=json.loads(data) # We convert the binary data into a dict\n",
    "    pprint.pprint(weather, indent=2, compact=True)"
   ]
  },
  {
   "cell_type": "markdown",
   "id": "13dbae480572484ead50b28a5a65b72d",
   "metadata": {
    "slideshow": {
     "slide_type": "skip"
    },
    "tags": [
     "translated_en"
    ],
    "translation": {
     "lang": "de",
     "src_hash": "adf2cfd0bd857f38022c616fc1bb73c28f32e75f37bd023d90d9dea885e3c5b3",
     "updated_at_iso": "2025-08-16T17:05:18.768297+00:00"
    }
   },
   "source": [
    "<!-- We can start our own web server with the `http.server` package.\n",
    "\n",
    "import http.server as server\n",
    "\n",
    "server_object = server.HTTPServer(server_address=('', 80), \tRequestHandlerClass=server.CGIHTTPRequestHandler)\n",
    "\n",
    "server_object.serve_forever()\n",
    "\n",
    "-->"
   ]
  },
  {
   "cell_type": "markdown",
   "id": "4f0b4cd614fb41acb18c51a50b62f8d5",
   "metadata": {
    "slideshow": {
     "slide_type": "skip"
    },
    "tags": [
     "translated_en"
    ],
    "translation": {
     "lang": "de",
     "src_hash": "39d52c9be47458c4f77d352dad0f04e87ab8d53e3e95c78d4174f08d9c049f63",
     "updated_at_iso": "2025-08-16T17:05:20.598946+00:00"
    }
   },
   "source": [
    "## Installing and Importing External Packages"
   ]
  },
  {
   "cell_type": "markdown",
   "id": "86c83ca116f548ab8249c6b868cbd075",
   "metadata": {
    "slideshow": {
     "slide_type": "skip"
    },
    "tags": [
     "translated_en"
    ],
    "translation": {
     "lang": "de",
     "src_hash": "f997398f8d37307ce0e809ce92d2dfeb7622b46a8a52aaec5bbeb77fed327957",
     "updated_at_iso": "2025-08-16T17:05:27.433202+00:00"
    }
   },
   "source": [
    "Python's strength, however, lies in its enormous selection of available packages. For most purposes, there are Python packages available. One such directory is [PyPI](https://pypi.org/), which lists over 400,000 packages."
   ]
  },
  {
   "cell_type": "markdown",
   "id": "df0099e75c534f6eadca94d066f98d57",
   "metadata": {
    "slideshow": {
     "slide_type": "skip"
    },
    "tags": [
     "translated_en"
    ],
    "translation": {
     "lang": "de",
     "src_hash": "c1cf70ad058bc702a18f72928c9745aaf5ad341a04b808a9367b095bf0592431",
     "updated_at_iso": "2025-08-16T17:05:36.880082+00:00"
    }
   },
   "source": [
    "The installation of new packages for Python is easy. For this, you open a terminal (command line) and enter the command `pip install <packetname>`.\n",
    "\n",
    "For example, we want to display the weather data we just loaded. To do this we use:\n",
    "- first the `pandas` package for creating a table from the weather data.\n",
    "- then we use the `plotly` package to draw a chart.\n",
    "- finally we create a web server with `dash` that will display the chart to us\n",
    "\n",
    "We install all three with `pip`. We can do this in a single call. We use the `--quiet` switch to reduce the output."
   ]
  },
  {
   "cell_type": "code",
   "execution_count": null,
   "id": "8225539d483046f8a24092d5bcece522",
   "metadata": {
    "slideshow": {
     "slide_type": "skip"
    },
    "tags": [
     "translated_en"
    ],
    "translation": {
     "lang": "de",
     "src_hash": "394d5f292265ca224ed83c6be4a11eccbb03be5eaefccfb407aef61f98b70dd3",
     "updated_at_iso": "2025-08-16T17:05:43.333758+00:00"
    }
   },
   "outputs": [],
   "source": [
    "# pip install pandas plotly dash  --quiet"
   ]
  },
  {
   "cell_type": "markdown",
   "id": "34804d2712d84bc1a0ef69b937a02217",
   "metadata": {
    "slideshow": {
     "slide_type": "skip"
    },
    "tags": [
     "translated_en"
    ],
    "translation": {
     "lang": "de",
     "src_hash": "43489b650e55f85c2793defaadc8ae08d77adf19ffe2883f7cf618401f9f9862",
     "updated_at_iso": "2025-08-16T17:05:46.860479+00:00"
    }
   },
   "source": [
    "Now we load both packages, with pandas typically assigned the alias `pd` and Plotly Express, which is easy to use, assigned the alias `px`."
   ]
  },
  {
   "cell_type": "code",
   "execution_count": null,
   "id": "c141f21b425d45b8883445809c655f8f",
   "metadata": {
    "slideshow": {
     "slide_type": "skip"
    },
    "tags": [
     "translated_en"
    ],
    "translation": {
     "lang": "de",
     "src_hash": "fa733901a657825f3f68940a6a51835f3ea9975b4d2b87074cb9f8145867533d",
     "updated_at_iso": "2025-08-16T17:05:48.654889+00:00"
    }
   },
   "outputs": [],
   "source": [
    "import pandas as pd\n",
    "import plotly.express as px\n",
    "import dash"
   ]
  },
  {
   "cell_type": "markdown",
   "id": "c30ad71a20ed49f2b066f3b44230c066",
   "metadata": {
    "slideshow": {
     "slide_type": "skip"
    },
    "tags": [
     "translated_en"
    ],
    "translation": {
     "lang": "de",
     "src_hash": "277d0d0a40fdb9e98b6ec9be725d70327162342b55ab51074c332f4f9d320119",
     "updated_at_iso": "2025-08-16T17:05:54.406416+00:00"
    }
   },
   "source": [
    "First, we convert the daily weather forecast `days` data from the weather station with the `stationID` into a table, since this can be processed by Plotly Express. Tables are called DataFrames in Pandas (in general, that's what such tables are called in data science). So we create from the weather forecast a new object instance of type `DataFrame` via"
   ]
  },
  {
   "cell_type": "code",
   "execution_count": null,
   "id": "d3b378982d15448fb8d932df49be19f3",
   "metadata": {
    "slideshow": {
     "slide_type": "skip"
    },
    "tags": [
     "output_scroll",
     "translated_en"
    ],
    "translation": {
     "lang": "de",
     "src_hash": "baef377d12b18b18ed5a82f00848243bfeef90b88bd6e917a4c6c0b8c98038b4",
     "updated_at_iso": "2025-08-16T17:05:58.974535+00:00"
    }
   },
   "outputs": [],
   "source": [
    "df = pd.DataFrame(weather[stationID]['days'])\n",
    "df"
   ]
  },
  {
   "cell_type": "markdown",
   "id": "c2c1dda362c44e61b9e56d48418c90e5",
   "metadata": {
    "slideshow": {
     "slide_type": "skip"
    },
    "tags": [
     "translated_en"
    ],
    "translation": {
     "lang": "de",
     "src_hash": "20fff56444eaf89bda6660afb14e6cc907e244a7b2e1fc6712c1781514d5dada",
     "updated_at_iso": "2025-08-16T17:06:04.030085+00:00"
    }
   },
   "source": [
    "Now we plot the data `df` as a line chart using Plotly, with the date axis on the x-axis (`dayDate`) and the minimum temperature `temperatureMin` and the maximum temperature `temperatureMax` on the y-axis."
   ]
  },
  {
   "cell_type": "code",
   "execution_count": null,
   "id": "7dde359a3b974bb0a8c266875bd6cf65",
   "metadata": {
    "slideshow": {
     "slide_type": "skip"
    },
    "tags": [
     "translated_en"
    ],
    "translation": {
     "lang": "de",
     "src_hash": "c0f6d8ca196451b2fbdd43a2dd4647dd0ffbaa2ee85987025b8c856b2e77f9bb",
     "updated_at_iso": "2025-08-16T17:06:08.083114+00:00"
    }
   },
   "outputs": [],
   "source": [
    "fig=px.line(df, x=\"dayDate\", y=[\"temperatureMin\", \"temperatureMax\"])\n",
    "fig.show(renderer=\"svg\")"
   ]
  },
  {
   "cell_type": "markdown",
   "id": "31983faae85a45ae935c78667a1f3b9b",
   "metadata": {
    "slideshow": {
     "slide_type": "skip"
    },
    "tags": [
     "translated_en"
    ],
    "translation": {
     "lang": "de",
     "src_hash": "8bd607efff6c56300247c2c9b05245a61fbf3fcabae13bedc59278ba5d3adceb",
     "updated_at_iso": "2025-08-16T17:06:12.561337+00:00"
    }
   },
   "source": [
    "Finally, we want to display this diagram on a webpage on a web server. Here we use the package `dash`, which enables creating a webpage with Python commands and displaying interactive Plotly charts in it."
   ]
  },
  {
   "cell_type": "code",
   "execution_count": null,
   "id": "278df4886a594fd8b72d7fe81ff0aa92",
   "metadata": {
    "slideshow": {
     "slide_type": "skip"
    },
    "tags": [
     "translated_en"
    ],
    "translation": {
     "lang": "de",
     "src_hash": "b239d5feaf8105e53435f55778f6a9870a35ed8d3e04c659add2e60f286a42c4",
     "updated_at_iso": "2025-08-16T17:06:15.706452+00:00"
    }
   },
   "outputs": [],
   "source": [
    "import dash\n",
    "\n",
    "app = dash.Dash()"
   ]
  },
  {
   "cell_type": "code",
   "execution_count": null,
   "id": "2c1fedb5accb4f2f87c183889ebf6cc6",
   "metadata": {
    "slideshow": {
     "slide_type": "skip"
    },
    "tags": [
     "remove-cell",
     "translated_en"
    ],
    "translation": {
     "lang": "de",
     "src_hash": "da16a753981c5b2408da394b5a69dfff15da4f9379926fa16336d0dfd1d364af",
     "updated_at_iso": "2025-08-16T17:06:29.068565+00:00"
    }
   },
   "outputs": [],
   "source": [
    "Please provide the Python code to translate (German names, docstrings, and comments) so I can perform the translation."
   ]
  },
  {
   "cell_type": "code",
   "execution_count": null,
   "id": "82f3de546f114b8185a6d289aa13c93f",
   "metadata": {
    "slideshow": {
     "slide_type": "skip"
    },
    "tags": [
     "remove-cell",
     "translated_en"
    ],
    "translation": {
     "lang": "de",
     "src_hash": "1ab947c8359d0f6b02f0bb8ed1191a27723fc35f88bd9218bcd4d47a950e4d50",
     "updated_at_iso": "2025-08-16T17:06:33.859339+00:00"
    }
   },
   "outputs": [],
   "source": [
    "# and replace the Dash object\n",
    "from jupyter_dash import JupyterDash\n",
    "\n",
    "app = JupyterDash()"
   ]
  },
  {
   "cell_type": "markdown",
   "id": "847e19eaca5b4322b1704fd62a96188f",
   "metadata": {
    "slideshow": {
     "slide_type": "skip"
    },
    "tags": [
     "translated_en"
    ],
    "translation": {
     "lang": "de",
     "src_hash": "79bcb4f988899c84daf1461ec55bc0c83f0b23ed6c1e41bde5a939dc39b51894",
     "updated_at_iso": "2025-08-16T17:06:36.728062+00:00"
    }
   },
   "source": [
    "Then we generate a webpage with a heading (`H1`) that contains the plot as a `Graph`."
   ]
  },
  {
   "cell_type": "code",
   "execution_count": null,
   "id": "ec0c925c27324bf2b5131f5770c5ebaa",
   "metadata": {
    "slideshow": {
     "slide_type": "skip"
    },
    "tags": [
     "translated_en"
    ],
    "translation": {
     "lang": "de",
     "src_hash": "8121a6b10cca39aa1817d6cf88dc8b9a6d9d7b56d7eb554956f517410fc8ce9b",
     "updated_at_iso": "2025-08-16T17:06:40.404081+00:00"
    }
   },
   "outputs": [],
   "source": [
    "app.layout = dash.html.Div(children = [\n",
    "    dash.html.H1(children='Wetter in Rostock'),\n",
    "    dash.dcc.Graph(id=\"fare_vs_age\", figure=fig)\n",
    "])"
   ]
  },
  {
   "cell_type": "markdown",
   "id": "6bc090322fe84c8ab23efbbac33bf573",
   "metadata": {
    "slideshow": {
     "slide_type": "skip"
    },
    "tags": [
     "translated_en"
    ],
    "translation": {
     "lang": "de",
     "src_hash": "4f386c1622198b6c53f3326a270c231ab9213768119ebeb8f9985c49384314c7",
     "updated_at_iso": "2025-08-16T17:06:44.253901+00:00"
    }
   },
   "source": [
    "And start the web server."
   ]
  },
  {
   "cell_type": "code",
   "execution_count": null,
   "id": "280a264102864079997130e21d4bd22f",
   "metadata": {
    "slideshow": {
     "slide_type": "skip"
    },
    "tags": [
     "translated_en"
    ],
    "translation": {
     "lang": "de",
     "src_hash": "401f1d4cdafb2e0c93874004aa1d24d2cdbd7902de18e097da680ade40cd5323",
     "updated_at_iso": "2025-08-16T17:06:45.980076+00:00"
    }
   },
   "outputs": [],
   "source": [
    "app.run_server()"
   ]
  },
  {
   "cell_type": "markdown",
   "id": "e52416829ef4402ca7cd74763086d497",
   "metadata": {
    "slideshow": {
     "slide_type": "skip"
    },
    "tags": [
     "translated_en"
    ],
    "translation": {
     "lang": "de",
     "src_hash": "67bd95a95393c2e31480cc38af056bdfbbc89ac3bbe32c2fd86e5efd9c06fb5d",
     "updated_at_iso": "2025-08-16T17:06:49.838142+00:00"
    }
   },
   "source": [
    "This starts a web server that we can access in a browser at `http://127.0.0.1:8083/`. It shows a webpage with an interactive chart that displays the weather data."
   ]
  },
  {
   "cell_type": "markdown",
   "id": "f52e2c4d943a468ab9aea2e9b789931d",
   "metadata": {
    "editable": true,
    "slideshow": {
     "slide_type": "skip"
    },
    "tags": [
     "translated_en"
    ],
    "translation": {
     "lang": "de",
     "src_hash": "0400fcf4c2798c1634060c7c8853593bd28f57b8c1917bcbb0d01af437b9d2d1",
     "updated_at_iso": "2025-08-16T17:06:52.241815+00:00"
    }
   },
   "source": [
    "![](images/07a_Module/wetter.png)"
   ]
  },
  {
   "cell_type": "markdown",
   "id": "8daf663e15af4ff79b86e538e1917add",
   "metadata": {
    "editable": true,
    "slideshow": {
     "slide_type": "slide"
    },
    "tags": [
     "remove-cell",
     "translated_en"
    ],
    "translation": {
     "lang": "de",
     "src_hash": "4ea8ea6c3995f6ee1bb737fcb0adc4f10aaebb04e8b484da5799db9f5408d7d8",
     "updated_at_iso": "2025-08-16T17:07:03.636134+00:00"
    }
   },
   "source": [
    "## Organizing projects across multiple files\n",
    "\n",
    "<div class=\"flex-row\">\n",
    "  <div class=\"col1\">\n",
    "\n",
    "Challenges of large programs:\n",
    "\n",
    "- Dozens of classes with hundreds of functions\n",
    "- Thousands of lines of code\n",
    "- Difficult to keep an overview\n",
    "- Version conflicts when multiple programmers work on it\n",
    "\n",
    "  </div>\n",
    "  <div class=\"col1\"> \n",
    "\n",
    "Solution - Split code into .py files:\n",
    "\n",
    "- *Per class* one file (for class definitions)\n",
    "- *Per topic* one file (e.g., math functions)\n",
    "- *Per domain* one file (e.g., loading vs. processing)\n",
    "\n",
    "  </div>\n",
    "</div>"
   ]
  },
  {
   "cell_type": "markdown",
   "id": "c8d78069af994d2f8d2c6f5a554712a0",
   "metadata": {
    "editable": true,
    "slideshow": {
     "slide_type": "subslide"
    },
    "tags": [
     "remove-cell",
     "translated_en"
    ],
    "translation": {
     "lang": "de",
     "src_hash": "07ba2ecab14752dc199eacbf2957c28c6911a28c8cb49a016340b26958d97e90",
     "updated_at_iso": "2025-08-16T17:07:09.996573+00:00"
    }
   },
   "source": [
    "## The main() function as the standard entry point\n",
    "\n",
    "Where does Python know what to run?\n",
    "\n",
    "- Declare a specific file as the project’s *center*\n",
    "- This contains a special function named `main()`\n",
    "- Exists in almost every programming language\n",
    "- Specifies the *start point of the program*\n",
    "- Can receive no arguments or dynamic arguments (command-line arguments)"
   ]
  },
  {
   "cell_type": "markdown",
   "id": "4b953d92abea49d89c9841b275f0271e",
   "metadata": {
    "editable": true,
    "slideshow": {
     "slide_type": "subslide"
    },
    "tags": [
     "remove-cell",
     "translated_en"
    ],
    "translation": {
     "lang": "de",
     "src_hash": "153127624d7ee74f2046864917b718ab13f40d830d2765d7daa21c6c075a1cae",
     "updated_at_iso": "2025-08-16T17:07:20.265995+00:00"
    }
   },
   "source": [
    "## The main() function in Python\n",
    "\n",
    "<div class=\"flex-row\">\n",
    "  <div class=\"col1\">\n",
    "\n",
    "Different ways to run:\n",
    "1. As a script on the command line / standalone program\n",
    "2. Imported into an interactive Python console  \n",
    "3. Imported into another Python file\n",
    "\n",
    "Problem: In case 1 we want to use the entire script, in case 2+3 only parts\n",
    "\n",
    "The solution: the __name__ variable:\n",
    "\n",
    "  </div>\n",
    "  <div class=\"col1\"> \n",
    "\n",
    "```python\n",
    "def main():\n",
    "    print(\"This is the main function\")\n",
    "\n",
    "if __name__ == \"__main__\":\n",
    "    main()  # nur bei direktem Aufruf\n",
    "```\n",
    "\n",
    "  </div>\n",
    "</div>"
   ]
  },
  {
   "cell_type": "markdown",
   "id": "d02a23b31de84af1a06aad9ae146dbb6",
   "metadata": {
    "editable": true,
    "slideshow": {
     "slide_type": "subslide"
    },
    "tags": [
     "remove-cell",
     "translated_en"
    ],
    "translation": {
     "lang": "de",
     "src_hash": "816b7126464aeef36b7e32637bac1b5850300f0909ea5e7786078ca9493c6b03",
     "updated_at_iso": "2025-08-16T17:07:27.461885+00:00"
    }
   },
   "source": [
    "## Best Practice for the main() function\n",
    "\n",
    "What belongs BEFORE the main() definition:\n",
    "\n",
    "<div class=\"flex-row\">\n",
    "  <div class=\"col1\">\n",
    "\n",
    "✅ Only allowed:\n",
    "- Function definitions\n",
    "- Class definitions\n",
    "\n",
    "  </div>\n",
    "  <div class=\"col1\"> \n",
    "\n",
    "❌ Avoid:\n",
    "- Variable assignments (global variables)\n",
    "- Function calls (side effects)\n",
    "\n",
    "  </div>\n",
    "</div>\n",
    "\n",
    "Advantages of this structure:\n",
    "- The program flow becomes clearer\n",
    "- The program is easy to modify\n",
    "- The program is more reusable"
   ]
  },
  {
   "cell_type": "markdown",
   "id": "b6180980effa4a73b2a2017bc8992862",
   "metadata": {
    "editable": true,
    "slideshow": {
     "slide_type": "slide"
    },
    "tags": [
     "remove-cell",
     "translated_en"
    ],
    "translation": {
     "lang": "de",
     "src_hash": "4b1959602600aac7b20e74b7005cc0efd14aa6f92e5432737c7bdaf6ef8a9b46",
     "updated_at_iso": "2025-08-16T17:07:35.709727+00:00"
    }
   },
   "source": [
    "## Program Flow Across Multiple Files\n",
    "\n",
    "- We now have a central starting point.\n",
    "\n",
    "- How do we call code from other files?\n",
    "\n",
    "- Every programming language has commands to load external code:\n",
    "    - `import` and `include` (Python)\n",
    "    - Special 'header files' that define the relationships between files"
   ]
  },
  {
   "cell_type": "markdown",
   "id": "ede15770162643fd9c673ddeea72962c",
   "metadata": {
    "editable": true,
    "slideshow": {
     "slide_type": "subslide"
    },
    "tags": [
     "remove-cell",
     "translated_en"
    ],
    "translation": {
     "lang": "de",
     "src_hash": "720d3b3162d7cd95c873396d7901d510a6ade5aa1c4e7481e4bdc61edae2123d",
     "updated_at_iso": "2025-08-16T17:07:43.756433+00:00"
    }
   },
   "source": [
    "## Program flow in Python - import Statement\n",
    "\n",
    "<div class=\"flex-row\">\n",
    "  <div class=\"col1\">\n",
    "\n",
    "Strategy:\n",
    "- A .py file contains `main()` (Case 1)\n",
    "- All others without `main()` or with `__name__` are ignored (Case 3)\n",
    "- The `import` statement loads external files\n",
    "\n",
    "- *Warning:* The entire code is executed, including variables and function calls!\n",
    "\n",
    "  </div>\n",
    "  <div class=\"col1\"> \n",
    "\n",
    "```python\n",
    "import external_file\n",
    "\n",
    "def main():\n",
    "    print(\"This is the main function\")\n",
    "```\n",
    "Variables/functions/classes from `external_file.py` are stored in the object `external_file`\n",
    "\n",
    "  </div>\n",
    "</div>"
   ]
  },
  {
   "cell_type": "markdown",
   "id": "1659cb3f415c47459770989d087ab2d6",
   "metadata": {
    "editable": true,
    "slideshow": {
     "slide_type": "subslide"
    },
    "tags": [
     "remove-cell",
     "translated_en"
    ],
    "translation": {
     "lang": "de",
     "src_hash": "e35aa96f39a99814bcf5d636fd2e89e21183e74449db70b56b1153c471b0824b",
     "updated_at_iso": "2025-08-16T17:07:48.481991+00:00"
    }
   },
   "source": [
    "## Importing External Libraries (Packages)\n",
    "\n",
    "*Terminology:*\n",
    "- *Module:* Imported scripts\n",
    "- *Namespace:* The resulting object (type: module)\n",
    "- *Package:* A module with additional submodules"
   ]
  },
  {
   "cell_type": "markdown",
   "id": "75d34613772a47548ebe1c9f2b5be8d3",
   "metadata": {
    "editable": true,
    "slideshow": {
     "slide_type": "subslide"
    },
    "tags": [
     "remove-cell",
     "translated_en"
    ],
    "translation": {
     "lang": "de",
     "src_hash": "1f9d32c4276ebd3cca06d5136db7486d6da1e07a100de271e78121fc3301184e",
     "updated_at_iso": "2025-08-16T17:07:56.784639+00:00"
    }
   },
   "source": [
    "## Fundamentals of Project Structure\n",
    "\n",
    "<div class=\"flex-row\">\n",
    "  <div class=\"col1\">\n",
    "\n",
    "**General Structure**\n",
    "\n",
    "```\n",
    "main.py [contains main()]\n",
    "├── module1.py\n",
    "├── module2.py  \n",
    "└── helpers.py\n",
    "```\n",
    "\n",
    "Code in `main.py`\n",
    "```python\n",
    "import module1\n",
    "import module2\n",
    "import helpers\n",
    "```\n",
    "\n",
    "  </div>\n",
    "  <div class=\"col1\"> \n",
    "\n",
    "**Example - City Project**\n",
    "\n",
    "```\n",
    "city.py\n",
    "├── buildings.py\n",
    "├── streets.py\n",
    "└── geometry.py\n",
    "```\n",
    "\n",
    "Code in `main.py`\n",
    "```python\n",
    "import buildings\n",
    "import streets\n",
    "import geometry\n",
    "```\n",
    "\n",
    "  </div>\n",
    "</div>"
   ]
  },
  {
   "cell_type": "markdown",
   "id": "7a0292bed02a48358a95e4c58531ab66",
   "metadata": {
    "editable": true,
    "slideshow": {
     "slide_type": "subslide"
    },
    "tags": [
     "remove-cell",
     "translated_en"
    ],
    "translation": {
     "lang": "de",
     "src_hash": "aa4be63e17c3091fb087b4bfb86e5c8716e4d2bb576d9259564c78d38f6787f1",
     "updated_at_iso": "2025-08-16T17:08:04.529904+00:00"
    }
   },
   "source": [
    "## The Import Statement: Advanced Use Cases\n",
    "\n",
    "- Python's import system is complex and multifaceted.\n",
    "- In day-to-day use, however, you typically encounter only the following additional constructs:\n",
    "    - `from-import` statement: Imports a submodule or a portion of a module directly, without the parent namespace\n",
    "    - `from-import-as` statement: Works the same, but renames the imported object\n",
    "\n",
    "```python\n",
    "from external_file import external_function as ext_func\n",
    "```"
   ]
  },
  {
   "cell_type": "markdown",
   "id": "9907025e691f43afbda899da1bcecee6",
   "metadata": {
    "editable": true,
    "slideshow": {
     "slide_type": "slide"
    },
    "tags": [
     "remove-cell",
     "translated_en"
    ],
    "translation": {
     "lang": "de",
     "src_hash": "213516d0d3450e7b6e025cbfce21143fd6c45ffbba0bd5ecd310b7c88d8ea659",
     "updated_at_iso": "2025-08-16T17:08:14.445518+00:00"
    }
   },
   "source": [
    "## Import Statements – The Gateway to the World\n",
    "\n",
    "- We can import not only our own packages, but also packages published by other people/organizations!\n",
    "- There are several ways to access packages:\n",
    "- The package is included with Python\n",
    "- Download directly as .py files / folders containing .py files\n",
    "- Use a package manager (pip, uv) (Better!)"
   ]
  },
  {
   "cell_type": "markdown",
   "id": "2a87214b7a8544a681de1b3a6ecfc4ce",
   "metadata": {
    "editable": true,
    "slideshow": {
     "slide_type": "subslide"
    },
    "tags": [
     "remove-cell",
     "translated_en"
    ],
    "translation": {
     "lang": "de",
     "src_hash": "269e8e90225be37327bf78fbad697b650e9b8788f420a63008031a46e67ae07a",
     "updated_at_iso": "2025-08-16T17:08:21.152107+00:00"
    }
   },
   "source": [
    "## Packages - The Real Power of Python\n",
    "\n",
    "- Python's position as the world's most popular programming language is largely based on its evolution into an interface and pipeline language.\n",
    "- Almost every computer-solvable problem can be solved by cleverly chaining together the right Python packages.\n",
    "- The official hub for packages, the Python Package Index (PyPI), currently hosts over 418,000 freely available packages.\n",
    "- These can in most cases be installed with a single command or click\n",
    "\n",
    "<center><a href=\"https://pypi.org\"><img src=\"images/07a_Module/pip.png\" style=\"width:400px;\"></a></center>"
   ]
  },
  {
   "cell_type": "markdown",
   "id": "2d4a5667a6d7401598544beb62b0cf0f",
   "metadata": {
    "slideshow": {
     "slide_type": "slide"
    },
    "tags": [
     "remove-cell",
     "translated_en"
    ],
    "translation": {
     "lang": "de",
     "src_hash": "34fcfc4abb546b79141da20f48dec8aca5756ced5ec6352bbde81ccb91f5204c",
     "updated_at_iso": "2025-08-16T17:08:26.198248+00:00"
    }
   },
   "source": [
    "## Lesson Learned\n",
    "\n",
    "<script>setSectionBackground('#66ccffff');</script>\n",
    "<div class=\"flex-row\">\n",
    "<div class=\"col2\">\n",
    "\n",
    "How do you prioritize correctly?\n",
    "\n",
    "</div>\n",
    "<div class=\"col3\">\n",
    "    <figure class=\"mj-fig\">\n",
    "        <img src=\"images/07a_Module/eisenhower.jpg\" class=\"mj-fig-img\">\n",
    "        <figcaption class=\"mj-fig-cap\">\n",
    "            “I have two kinds of problems, the urgent and the important. The urgent are not important, and the important are never urgent.”, Eisenhower\n",
    "        </figcaption>\n",
    "    </figure>\n",
    "  </div>\n",
    "</div>"
   ]
  },
  {
   "cell_type": "markdown",
   "id": "cf1931ffca294cfbbc7569d8b32920b3",
   "metadata": {
    "slideshow": {
     "slide_type": "subslide"
    },
    "tags": [
     "remove-cell",
     "translated_en"
    ],
    "translation": {
     "lang": "de",
     "src_hash": "3549609c45e70f01d6472f96103f138c40775cb129285301f8ee6d80f22e5f53",
     "updated_at_iso": "2025-08-16T17:08:33.700518+00:00"
    }
   },
   "source": [
    "## Lesson Learned - Prioritization\n",
    "\n",
    "<script>setSectionBackground('#66ccffff');</script>\n",
    "\n",
    "<div class=\"flex-row\">\n",
    "  <div class=\"col1\">\n",
    "\n",
    "- With the Eisenhower matrix, tasks are divided into urgent and important\n",
    "- You first tackle the urgent and important tasks\n",
    "\n",
    "  </div>\n",
    "  <div class=\"col1\">\n",
    "    <figure class=\"mj-fig\">\n",
    "        <img src=\"images/07a_Module/priotisierung.svg\" class=\"mj-fig-img\">\n",
    "    </figure>\n",
    "  </div>\n",
    "</div>"
   ]
  },
  {
   "cell_type": "markdown",
   "id": "b5e7040a16f04d708ec92ac3a4975325",
   "metadata": {
    "slideshow": {
     "slide_type": "slide"
    },
    "tags": [
     "remove-cell",
     "translated_en"
    ],
    "translation": {
     "lang": "de",
     "src_hash": "d2b7467259ef9f52d61ecf9953374631953b152baba6f1edeaac46d4c3d40a0b",
     "updated_at_iso": "2025-08-16T17:08:38.180562+00:00"
    }
   },
   "source": [
    "<div class=\"vslide\">\n",
    "  <div class=\"vslide-title\">\n",
    "    <p style=\"font-family: Protomolecule; font-size: 2.3em; margin: 0px auto; text-align: center; width: 100%;\">Questions?</p>\n",
    "  </div>\n",
    "  <script>setSectionBackground('#000000', 'images/mj_questions.mp4');</script>\n",
    "</div>"
   ]
  }
 ],
 "metadata": {
  "kernelspec": {
   "display_name": "Python 3 (ipykernel)",
   "language": "python",
   "name": "python3"
  },
  "language_info": {
   "codemirror_mode": {
    "name": "ipython",
    "version": 3
   },
   "file_extension": ".py",
   "mimetype": "text/x-python",
   "name": "python",
   "nbconvert_exporter": "python",
   "pygments_lexer": "ipython3",
   "version": "3.12.10"
  },
  "rise": {
   "auto_select": "none",
   "center": false,
   "enable_chalkboard": true,
   "header": "<img src=\"images/pd_logo.svg\" class=\"header_title_logo\"><img src=\"images/ai4sc_logo_v2.svg\" class=\"header_ai4sc_logo\">",
   "scroll": true,
   "show_buttons_on_startup": false,
   "slideNumber": true,
   "theme": "white"
  },
  "vscode": {
   "interpreter": {
    "hash": "c6f6ea9c9385f57658f4c302ffd3b717b6cd59b095fbd1c55795f0b67656eecd"
   }
  }
 },
 "nbformat": 4,
 "nbformat_minor": 4
}
