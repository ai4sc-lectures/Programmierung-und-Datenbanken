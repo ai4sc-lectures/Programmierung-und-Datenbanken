{
 "cells": [
  {
   "cell_type": "markdown",
   "id": "9f425d98-ff8b-452a-aec5-69f93dde62d8",
   "metadata": {
    "editable": true,
    "slideshow": {
     "slide_type": "slide"
    },
    "tags": [
     "remove-cell"
    ]
   },
   "source": [
    "<div class=\"vslide\">\n",
    "  <div class=\"vslide-title\">\n",
    "    <p style=\"font-family: Protomolecule; font-size: 2.3em; line-height: 90%; margin: 0px auto; text-align: center; width: 100%;\"><span style=\"letter-spacing: .04rem;\">programmierung</span><br><span style=\"letter-spacing: .0rem;\">und datenbanken</span></p>\n",
    "<p class=\"author\" style=\"font-family: Protomolecule; margin: 0px auto;  text-align: center; width: 100%; font-size: 1.2em;\">Joern Ploennigs</p>\n",
    "<p class=\"subtitle\" style=\"font-family: Protomolecule; margin: 1em auto; text-align: center; width: 100%; font-size: 1.2em;\">Softwarearchitektur</p>\n",
    "    <figcaption class=\"mj-slide-cap\">Midjourney: Soft Architecture</figcaption>\n",
    "  </div>\n",
    "<script>\n",
    "  function setSectionBackground(c,v){\n",
    "    let e=document.currentScript.previousElementSibling;\n",
    "    while(e&&e.tagName!=='SECTION')e=e.parentElement;\n",
    "    if(e){\n",
    "      if(c)e.setAttribute('data-background-color',c);\n",
    "      if(v){\n",
    "        e.setAttribute('data-background-video',v);\n",
    "        e.setAttribute('data-background-video-loop','true');\n",
    "        e.setAttribute('data-background-video-muted','true');\n",
    "      }\n",
    "    }\n",
    "  }\n",
    "  setSectionBackground('#000000', 'images/02a_Softwarearchitektur/mj_title.mp4');\n",
    "</script>\n",
    "<style>\n",
    ".flex-row{display:flex; gap:2rem; align-items:flex-start; justify-content:space-between;}\n",
    ".flex-row .col1{flex:1; min-width:10px}\n",
    ".flex-row .col2{flex:2; min-width:10px}\n",
    ".flex-row .col3{flex:3; min-width:10px}\n",
    ".flex-row .col4{flex:4; min-width:10px}\n",
    ".flex-row .col5{flex:5; min-width:10px}\n",
    ".flex-row .col6{flex:6; min-width:10px}\n",
    ".flex-row .col7{flex:7; min-width:10px}\n",
    ".vcent{display:flex; align-items:center; justify-content:center}\n",
    "</style>\n",
    "</div>"
   ]
  },
  {
   "cell_type": "markdown",
   "id": "948875af",
   "metadata": {
    "editable": true,
    "slideshow": {
     "slide_type": "skip"
    },
    "tags": []
   },
   "source": [
    "# Softwarearchitektur"
   ]
  },
  {
   "cell_type": "markdown",
   "id": "9ae339a8-3e41-4515-a74a-c9d70fdc4186",
   "metadata": {
    "editable": true,
    "raw_mimetype": "",
    "slideshow": {
     "slide_type": "skip"
    }
   },
   "source": [
    "<figure class=\"mj-tile-band\">\n",
    "<img src='images/02a_Softwarearchitektur/mj_title_band.jpg'>\n",
    "<figcaption>Midjourney: Soft Architecture</figcaption>\n",
    "</figure>\n",
    "\n",
    "> Good architecture is not just about structure - it’s about intention. In code as in buildings, clarity and purpose leave the longest legacy\n",
    "> \n",
    "> — Louis Kahn"
   ]
  },
  {
   "cell_type": "markdown",
   "id": "554b63b9-c908-4a46-9157-6928f4cfbd28",
   "metadata": {
    "editable": true,
    "slideshow": {
     "slide_type": "skip"
    },
    "tags": []
   },
   "source": [
    "## <a href=\"/lec_slides/02a_Softwarearchitektur.slides.html\">Folien</a>/<a href=\"/pdf/slides/02a_Softwarearchitektur.pdf\">PDF</a>\n",
    "<iframe src=\"/lec_slides/02a_Softwarearchitektur.slides.html\" width=\"750\" height=\"500\"></iframe>"
   ]
  },
  {
   "cell_type": "markdown",
   "id": "98411366",
   "metadata": {
    "slideshow": {
     "slide_type": "subslide"
    },
    "tags": [
     "remove-cell"
    ]
   },
   "source": [
    "## Wiederholung: Hörsaalfrage\n",
    "\n",
    "<script>setSectionBackground('#FFD966');</script>\n",
    "<div class=\"flex-row\">\n",
    "  <div class=\"col4 vcent\">\n",
    "\n",
    "Was ist „Informatik“?\n",
    " \n",
    "  </div>\n",
    "  <div class=\"col6\"> \n",
    "    <figure class=\"mj-fig\">\n",
    "        <img src=\"images/01a_Ueberblick/dijkstra.jpg\" class=\"mj-fig-img\">\n",
    "        <figcaption class=\"mj-fig-cap\">\n",
    "            ”Computer science is no more about computers than astronomy is about telescopes.“, Edsger W. Dijkstra\n",
    "        </figcaption>\n",
    "    </figure>\n",
    "  </div>\n",
    "</div>"
   ]
  },
  {
   "cell_type": "markdown",
   "id": "ba0a71ae",
   "metadata": {
    "slideshow": {
     "slide_type": "subslide"
    },
    "tags": [
     "remove-cell"
    ]
   },
   "source": [
    "## Wiederholung: Definition - Informatik\n",
    "\n",
    "<script>setSectionBackground('#FFD966');</script>\n",
    "<div class=\"alert alert-block alert-success\">\n",
    "<b>📘 Definition: Informatik</b>\n",
    "\n",
    "Informatik ist die Wissenschaft von der systematischen Verarbeitung von Informationen.\n",
    "\n",
    "Ursprung: Mathematik (Logik, Algorithmen) + Elektrotechnik (Hardware)\n",
    "</div>\n"
   ]
  },
  {
   "cell_type": "markdown",
   "id": "2898887f",
   "metadata": {
    "slideshow": {
     "slide_type": "subslide"
    },
    "tags": [
     "remove-cell"
    ]
   },
   "source": [
    "## Wiederholung: Hörsaalfrage\n",
    "\n",
    "<script>setSectionBackground('#FFD966');</script>\n",
    "<div class=\"flex-row\">\n",
    "  <div class=\"col4 vcent\">\n",
    "\n",
    "Aus welcher Hardware besteht ein Computer? \n",
    " \n",
    "  </div>\n",
    "  <div class=\"col6\"> \n",
    "    <figure class=\"mj-fig\">\n",
    "        <img src=\"images/01c_Computerhardware/image_4.jpg\" class=\"mj-fig-img\">\n",
    "        <figcaption class=\"mj-fig-cap\">\n",
    "            DALL-E 2: Early designs of the iPhone by Leonardo da Vinci\n",
    "        </figcaption>\n",
    "    </figure>\n",
    "  </div>\n",
    "</div>"
   ]
  },
  {
   "cell_type": "markdown",
   "id": "417a8446",
   "metadata": {
    "slideshow": {
     "slide_type": "subslide"
    },
    "tags": [
     "remove-cell"
    ]
   },
   "source": [
    "## Wiederholung: Computer Aufbau\n",
    "\n",
    "<script>setSectionBackground('#FFD966');</script>\n",
    "<img src=\"images/01c_Computerhardware/computer_hardware2.svg\" style=\"width: 60%; display: block; margin: 0 auto;\" alt=\"Image\">"
   ]
  },
  {
   "cell_type": "markdown",
   "id": "6e9ba359",
   "metadata": {
    "slideshow": {
     "slide_type": "subslide"
    },
    "tags": [
     "remove-cell"
    ]
   },
   "source": [
    "## Wiederholung: Hörsaalfrage\n",
    "\n",
    "<script>setSectionBackground('#FFD966');</script>\n",
    "<div class=\"flex-row\">\n",
    "  <div class=\"col4 vcent\">\n",
    "\n",
    "Was sind binäre Zahlen?\n",
    " \n",
    "  </div>\n",
    "  <div class=\"col6\"> \n",
    "    <figure class=\"mj-fig\">\n",
    "        <img src=\"images/02a_Softwarearchitektur/mj_datariver.png\" class=\"mj-fig-img\">\n",
    "        <figcaption class=\"mj-fig-cap\">\n",
    "            DALL·E 2: River of data flowing between computers in matrix style\n",
    "        </figcaption>\n",
    "    </figure>\n",
    "  </div>\n",
    "</div>"
   ]
  },
  {
   "cell_type": "markdown",
   "id": "1d2d8888",
   "metadata": {
    "slideshow": {
     "slide_type": "subslide"
    },
    "tags": [
     "remove-cell"
    ]
   },
   "source": [
    "## Binären Zahlen\n",
    "\n",
    "<script>setSectionBackground('#FFD966');</script>\n",
    "\n",
    "- Computer speichern, verarbeiten & kommunizieren Daten als binären Zahlen, weil Transistoren in einem Gatter nur logische Operationen ausführen können.\n",
    "- binarius – Zweifach, doppelt\n",
    "- Das kleinste mögliche (nützliche) System von Zeichen\n",
    "\n",
    "- Mögliche Repräsentationen von Binärcode:\n",
    "  - 0 / 1\n",
    "  - Falsch / Wahr\n",
    "  - Aus / An"
   ]
  },
  {
   "cell_type": "markdown",
   "id": "5f1c64ce",
   "metadata": {
    "editable": true,
    "slideshow": {
     "slide_type": "slide"
    },
    "tags": [
     "remove-cell"
    ]
   },
   "source": [
    "## Ablauf\n",
    "\n",
    "![](images/partA_2.svg)"
   ]
  },
  {
   "cell_type": "markdown",
   "id": "4a3d513a",
   "metadata": {
    "editable": true,
    "slideshow": {
     "slide_type": "slide"
    },
    "tags": [
     "remove-cell"
    ]
   },
   "source": [
    "## Monolithische, maschinennahe Software vor 1950\n",
    "\n",
    "<div class=\"flex-row\">\n",
    "  <div class=\"col1\">\n",
    "    <ul>\n",
    "      <li>Die ersten Programme wurden direkt in binärem Maschinencode geschrieben.</li>\n",
    "      <li>Die Software war monolithisch, d.h. es gab keine Trennung von Funktionalitäten.</li>\n",
    "      <li>Die Software war eng an die Hardware gebunden.</li>\n",
    "      <li style=\"color: orange\">Problem: Änderungen an der Hardware erforderten oft eine komplette Neuprogrammierung.</li>\n",
    "    </ul>\n",
    "  </div>\n",
    "  <div class=\"col1\">\n",
    "    <img src=\"images/02a_Softwarearchitektur/archi_1.svg\" alt=\"Monolithische Software\">\n",
    "  </div>\n",
    "</div>"
   ]
  },
  {
   "cell_type": "markdown",
   "id": "45d58d34-23e5-4479-9c15-79585575e5d8",
   "metadata": {
    "editable": true,
    "slideshow": {
     "slide_type": "skip"
    },
    "tags": []
   },
   "source": [
    "## Monolithische, maschinennahe Software vor 1950\n",
    "\n",
    "<div class=\"flex-row\">\n",
    "  <div class=\"col1\">\n",
    "Über die Jahre haben sich die Softwarearchitekturen den modernen Anforderungen angepasst. Dadurch haben sich auch neue Programmiersprachen und Softwarearchitekturen entwickelt. Die ersten Programme wurden direkt in binären Maschinencode geschrieben. Dieser wurde mit speziellen Maschinen programmiert, die direkt mit der Hardware kommunizierten. Die Software war monolithisch, d.h. es gab keine Trennung von Funktionalitäten. Alle Funktionen waren in einem einzigen Programm vereint. Diese Software war eng an die Hardware gebunden, was bedeutete, dass sie nur auf einer bestimmten Hardwareplattform lief.\n",
    "\n",
    "Problem: Dabei entstand das Problem, dass Programme für neue Hardware meist komplett neu geschrieben oder stark angepasst werden mussten.\n",
    "  </div>\n",
    "  <div class=\"col1\">\n",
    "    <img src=\"images/02a_Softwarearchitektur/archi_1.svg\" alt=\"Monolithische Software\">\n",
    "  </div>\n",
    "</div>"
   ]
  },
  {
   "cell_type": "markdown",
   "id": "25162f80",
   "metadata": {
    "editable": true,
    "slideshow": {
     "slide_type": "subslide"
    },
    "tags": [
     "remove-cell"
    ]
   },
   "source": [
    "## Aufteilung in Betriebssysteme und monolithischer Software seit 1960\n",
    "\n",
    "<div class=\"flex-row\">\n",
    "  <div class=\"col1\">\n",
    "    <ul>\n",
    "      <li>Betriebssysteme wurden eingeführt, um die Hardware zu abstrahieren. </li>\n",
    "      <li>Betriebssysteme abstrahieren Standardaufgaben (z.B. Dateiverwaltung)</li>\n",
    "      <li>Hardware wird durch Treiber abstrahiert</li>\n",
    "      <li>Änderungen an Hardware erfordern nur neue Treiber</li>\n",
    "      <li style=\"color: orange\">Problem: Die Programme sind immer noch schwer zu schreiben, weil sie sehr low-level sind und sehr gutes Verständnis von Hardwarefunktionen erfordern.</li>\n",
    "    </ul>\n",
    "  </div>\n",
    "  <div class=\"col1\">\n",
    "    <img src=\"images/02a_Softwarearchitektur/archi_3.svg\" alt=\"Betriebssysteme\">\n",
    "  </div>\n",
    "</div>"
   ]
  },
  {
   "cell_type": "markdown",
   "id": "689cfa33-cc8e-4dcb-9c32-01a2a08a4b10",
   "metadata": {
    "editable": true,
    "slideshow": {
     "slide_type": "skip"
    },
    "tags": []
   },
   "source": [
    "## Aufteilung in Betriebssysteme und Monolithische Software ab ca. 1960\n",
    "\n",
    "<div class=\"flex-row\">\n",
    "  <div class=\"col1\">\n",
    "Betriebssysteme wurden eingeführt um Standardaufgaben zu erfüllen (Dateiverwaltung, Speichermanagement, Anzeige, etc.) und die Hardware zu abstrahieren. Dies geschieht durch hardwarespezifische Treiber. Dadurch muss bei neuer Hardware, nur der Treiber ausgewechselt werden, welcher die gleichen Funktionen wie der alter Treiber bietet. Das Programm muss nicht angepasst werden.\n",
    "\n",
    "\n",
    "Problem: Die Programme sind sehr schwer zu schreiben, weil sie sehr gutes Verständnis der Hardware, der Treiber und der Betriebssystemfunktionen erfordern. Sie sind sehr low-level und bieten wenig Abstraktion.\n",
    "  </div>\n",
    "  <div class=\"col1\">\n",
    "    <img src=\"images/02a_Softwarearchitektur/archi_3.svg\" alt=\"Betriebssysteme\">\n",
    "  </div>\n",
    "</div>"
   ]
  },
  {
   "cell_type": "markdown",
   "id": "4296ae97",
   "metadata": {
    "editable": true,
    "slideshow": {
     "slide_type": "subslide"
    },
    "tags": [
     "remove-cell"
    ]
   },
   "source": [
    "## Einführung von höheren Programmiersprachen 1970\n",
    "\n",
    "<div class=\"flex-row\">\n",
    "  <div class=\"col1\">\n",
    "    <ul>\n",
    "      <li>Um die Programmierung zu vereinfachen, wurden höhere Programmiersprachen eingeführt.</li>\n",
    "      <li>Höhere Programmiersprachen müssen mit Compilern in Maschinensprache übersetzt werden.</li>\n",
    "      <li>Höhere Programmiersprachen sind meist ‘natürlichsprachlicher’</li>\n",
    "      <li style=\"color: orange\">Problem: Wechsel zwischen Betriebssysteme erfordert mindestens neue Compilierung, meist Umschrieben.</li>\n",
    "    </ul>\n",
    "  </div>\n",
    "  <div class=\"col1\">\n",
    "    <img src=\"images/02a_Softwarearchitektur/archi_5.svg\" alt=\"Höheren Programmiersprachen\">\n",
    "  </div>\n",
    "</div>"
   ]
  },
  {
   "cell_type": "markdown",
   "id": "0426581c-7d0b-495a-8f59-30700ab68369",
   "metadata": {
    "editable": true,
    "slideshow": {
     "slide_type": "skip"
    },
    "tags": []
   },
   "source": [
    "## Entwicklung von höheren Programmiersprachen ab ca. 1970\n",
    "\n",
    "<div class=\"flex-row\">\n",
    "  <div class=\"col1\">\n",
    "Um die Programmierung zu vereinfachen, wurden höhere Programmiersprachen eingeführt, die ‘natürlichsprachlichere’ Befehle benutzen. Sie müssen mit Compilern oder Interpretern in Maschinensprache übersetzt werden. Die ist allerdings spezifisch für das Betriebssystem und die genutzten Treibern, um deren spezifische Funktionen anzusprechen. Das bedeutet, dass Programme, die für ein bestimmtes Betriebssystem und Treiber geschrieben wurden, nicht ohne Weiteres auf einem anderen Betriebssystem laufen können.\n",
    "\n",
    "Problem: Wenn sich die Betriebssysteme ändern, so funktionieren Programme nicht und müssen entweder neu Kompiliert werden oder umgeschrieben werden.\n",
    "    </ul>\n",
    "  </div>\n",
    "  <div class=\"col1\">\n",
    "    <img src=\"images/02a_Softwarearchitektur/archi_5.svg\" alt=\"Höheren Programmiersprachen\">\n",
    "  </div>\n",
    "</div>\n"
   ]
  },
  {
   "cell_type": "markdown",
   "id": "cea62fdb",
   "metadata": {
    "editable": true,
    "slideshow": {
     "slide_type": "subslide"
    },
    "tags": [
     "remove-cell"
    ]
   },
   "source": [
    "## Virtualisierung monolithischer Software seit 1995\n",
    "\n",
    "<div class=\"flex-row\">\n",
    "  <div class=\"col1\">\n",
    "    <ul>\n",
    "      <li>Virtuelle Laufzeitumgebungen abstrahieren die Betriebssysteme.</li>\n",
    "      <li>Virtuelle Laufzeitumgebungen compilierten Code in Echtzeit (Java) oder interpretieren ihn (Python)</li>\n",
    "      <li style=\"color: orange\">Problem: Mit dem Internet entwickelte sich der Bedarf auf Inhalte mobil zuzugreifen.</li>\n",
    "    </ul>\n",
    "  </div>\n",
    "  <div class=\"col1\">\n",
    "    <img src=\"images/02a_Softwarearchitektur/archi_7.svg\" alt=\"Virtualisierung\">\n",
    "  </div>\n",
    "</div>"
   ]
  },
  {
   "cell_type": "markdown",
   "id": "b8378cdf-4949-4008-9485-ab0a6bba3c50",
   "metadata": {
    "editable": true,
    "slideshow": {
     "slide_type": "skip"
    },
    "tags": []
   },
   "source": [
    "## Virtualisierung Monolithischer Software ab ca. 1995\n",
    "\n",
    "<div class=\"flex-row\">\n",
    "  <div class=\"col1\">\n",
    "Um die Abhängigkeit von Betriebssystemen zu verringern, wurden virtuelle Laufzeitumgebungen eingeführt. Diese abstrahieren die Betriebssysteme und ermöglichen es, Code in Echtzeit zu kompilieren (z.B. Java) oder ihn zu interpretieren (z.B. Python). Dadurch können Programme auf verschiedenen Betriebssystemen laufen, ohne dass sie neu geschrieben werden müssen.\n",
    "\n",
    "Dadurch wurde es auch einfacher neue Betriebsysteme zu entwickeln, weshalb auch Android und iOS für mobile Geräte entstanden sind, die sehr stark Virtualisierung nutzen.\n",
    "\n",
    "Problem: Mit dem Internet entwickelte sich der Bedarf nicht nur Text und Bilder zu teilen, sondern auch Inhalte auf Webseiten dynamisch anzupassen und kleinere (bis größere) Programme auszuführen. Um von verschiedenen Geräten auf die Daten zuzugreifen, braucht man einen zentralen Punkt um die Daten zu speichern und komplexere Berechnungen auszuführen.\n",
    "  </div>\n",
    "  <div class=\"col1\">\n",
    "    <img src=\"images/02a_Softwarearchitektur/archi_7.svg\" alt=\"Virtualisierung\">\n",
    "  </div>\n",
    "</div>"
   ]
  },
  {
   "cell_type": "markdown",
   "id": "7d367b34",
   "metadata": {
    "editable": true,
    "slideshow": {
     "slide_type": "subslide"
    },
    "tags": [
     "remove-cell"
    ]
   },
   "source": [
    "## Verteilte, Virtualisierte Software im Internet seit 2000\n",
    "\n",
    "<div class=\"flex-row\">\n",
    "  <div class=\"col1\">\n",
    "    <ul>\n",
    "      <li>Backend Webserver stellen  die Webseiten zur Verfügung</li>\n",
    "      <li>Separate Datenbankserver verwalten die Langzeitdaten</li>\n",
    "      <li>Frontend Apps visualisieren die Inhalte</li>\n",
    "      <li>Frontend Apps interagieren mit den Nutzern</li>\n",
    "      <li>Frontend Apps machen nur leichte Berechnungen</li>\n",
    "      <li style=\"color: orange\">Problem: Im Internet greifen oft sehr viele Nutzer gleichzeitig auf die gleichen Server (Seiten) zu. Um diese nicht zu überlasten, brauchte man Wege diese bei Bedarf schnell zu duplizieren.</li>\n",
    "    </ul>\n",
    "  </div>\n",
    "  <div class=\"col1\">\n",
    "    <img src=\"images/02a_Softwarearchitektur/archi_8.svg\" alt=\"Verteilte Software\">\n",
    "  </div>\n",
    "</div>"
   ]
  },
  {
   "cell_type": "markdown",
   "id": "fb101ace-e6e3-4c6b-a899-f2373bacf5e6",
   "metadata": {
    "editable": true,
    "slideshow": {
     "slide_type": "skip"
    },
    "tags": []
   },
   "source": [
    "## Verteilte, Virtualisierte Software im Internet ab ca. 2000\n",
    "\n",
    "<div class=\"flex-row\">\n",
    "  <div class=\"col1\">\n",
    "Im Internet funktionierten traditionelle monolithische Softwareanwendungen die auf einem einzelnen Computer liefen nicht mehr gut. Es stieg der Bedarf an Anwendungen, die auf mehreren z.T. mobilen Geräten laufen und gleiche Daten verwenden können. Hierfür wurde verteilte Softwarearchitektur entwickelt. \n",
    "\n",
    "Diese Architektur trennt die Frontend-Anwendungen von den Backend-Servern. Die Frontend-Anwendungen sind für die Darstellung der Inhalte und die Interaktion mit den Nutzern zuständig, während die Backend-Server die Webseiten bereitstellen und die Langzeitdaten in Datenbanken verwalten. Diese Trennung ermöglicht es, dass Frontend-Anwendungen (Webseiten oder Apps) die Inhalte visualisieren und mit den Nutzern interagieren können, ohne dass sie direkt auf die Datenbanken zugreifen müssen.\n",
    "\n",
    "Problem: Im Internet greifen oft sehr viele Nutzer gleichzeitig auf die gleichen Server (Seiten) zu. Um diese nicht zu überlasten, brauchte man Wege diese bei Bedarf schnell zu duplizieren. Mit der Entwicklung von mobilen Geräten (Smart Phones, Tablets, etc.) gab es immer mehr relativ kleine spezialisierte Anwendungen (Apps)  Hier kann der Bedarf an Rechenkapazitäten dynamisch schnell wachsen und man benötigte auch dynamisch skallierbare Server.\n",
    "  </div>\n",
    "  <div class=\"col1\">\n",
    "    <img src=\"images/02a_Softwarearchitektur/archi_8.svg\" alt=\"Verteilte Software\">\n",
    "  </div>\n",
    "</div>"
   ]
  },
  {
   "cell_type": "markdown",
   "id": "fa9a9d74",
   "metadata": {
    "editable": true,
    "slideshow": {
     "slide_type": "subslide"
    },
    "tags": [
     "remove-cell"
    ]
   },
   "source": [
    "## Verteilte, Virtualisierte Apps und Cloud Software seit den 2010\n",
    "\n",
    "<div class=\"flex-row\">\n",
    "  <div class=\"col1\">\n",
    "    <ul>\n",
    "      <li>Betriebssystem und Programme werden in Images gebündelt</li>\n",
    "      <li>Images können auf Servern schnell verteilt werden</li>\n",
    "      <li>Dadurch können Server bei Bedarf (Ansturm) schnell hochgefahren werden</li>\n",
    "      <li>Apps und Websites lösen vollständig traditionelle monolithische Programme ab</li>\n",
    "      <li>Dadurch liegen Daten selten auf einem einzelnen Rechner</li>\n",
    "      <li style=\"color: orange\">Problem: Im Internet greifen oft sehr viele Nutzer gleichzeitig auf die gleichen Server (Seiten) zu. Um diese nicht zu überlasten, brauchte man Wege diese bei Bedarf schnell zu duplizieren.</li>\n",
    "    </ul>\n",
    "  </div>\n",
    "  <div class=\"col1\">\n",
    "    <img src=\"images/02a_Softwarearchitektur/archi_10.svg\" alt=\"Images und Cloud Software\">\n",
    "  </div>\n",
    "</div>"
   ]
  },
  {
   "cell_type": "markdown",
   "id": "127396e1-5840-4026-b777-5b2f291a5eab",
   "metadata": {
    "editable": true,
    "slideshow": {
     "slide_type": "skip"
    },
    "tags": []
   },
   "source": [
    "## Verteilte, Virtualisierte Apps und Cloud Software ab ca. 2010\n",
    "\n",
    "<div class=\"flex-row\">\n",
    "  <div class=\"col1\">\n",
    "Apps und Websites lösen vollständig traditionelle monolithische Programme ab. Sie laufen nicht mehr vollständig auf einem einzigen Computer, sondern haben Benutzeroberflächen auf mobilen Geräten und die Daten in der Cloud. Das erfordert auch die Skalierbarkeit und Flexibilität von Anwendungen im Internet zu verbessern, um auf hohes Nutzeraufkommen schnell reagieren zu können. Um Webserver und Berechnungen in der Cloud besser zu skalieren, bündelt man Programme mit dem Betriebssystem in Images und virtualisiert Hardware. Dadurch kann man sehr schnell Programme mit dem kompletten Betriebssystem auf vielen Rechnern verteilen.\n",
    "\n",
    "Problem: Die resultierenden modernen verteilten Anwendungen weisen eine sehr hohe Komplexität auf. Es gibt viele spezialisierte Programmiersprachen und Teilarchitekturen, um einzelne Probleme darin zu lösen.\n",
    "  </div>\n",
    "  <div class=\"col1\">\n",
    "    <img src=\"images/02a_Softwarearchitektur/archi_10.svg\" alt=\"Images und Cloud Software\">\n",
    "  </div>\n",
    "</div>"
   ]
  },
  {
   "cell_type": "markdown",
   "id": "6b49a962",
   "metadata": {
    "editable": true,
    "slideshow": {
     "slide_type": "slide"
    },
    "tags": []
   },
   "source": [
    "## Klassifikation der Programmiersprachen nach historischer Anwendung\n",
    "\n",
    "Die Programmiersprachen haben sich entsprechend den Architekturen auch mit der Zeit entwickelt. Deshalb änderten sich auch über die Zeit die beliebten Programmiersprachen.\n",
    "\n",
    "![Klassifikation der Programmiersprachen](images/02a_Softwarearchitektur/archi_11.svg)\n"
   ]
  },
  {
   "cell_type": "markdown",
   "id": "1a1b7747-359c-42b3-bd72-48ae17ecc042",
   "metadata": {
    "slideshow": {
     "slide_type": "skip"
    }
   },
   "source": [
    "## Quiz\n",
    "\n",
    "\n",
    "```{quizdown}\n",
    "    ---\n",
    "    shuffleQuestions: true\n",
    "    shuffleAnswers: true\n",
    "    ---\n",
    "\n",
    "    ### Was war typisch für Software vor 1950?\n",
    "    - [x] Direkt in binärem Maschinencode geschrieben  \n",
    "    - [x] Monolithischer Aufbau ohne Funktions-Trennung  \n",
    "    - [x] Enge Kopplung an spezifische Hardware  \n",
    "    - [ ] Nutzung von Cloud-basierten Microservices\n",
    "\n",
    "    ### Welches Hauptproblem ergab sich durch die enge Kopplung von Software und Hardware?\n",
    "    - [x] Änderungen an der Hardware erforderten oft eine komplette Neuprogrammierung  \n",
    "    - [ ] Software war nicht ausführbar  \n",
    "    - [ ] Es konnte kein Speicher genutzt werden  \n",
    "    - [ ] Software war zu langsam für den Einsatz\n",
    "\n",
    "    ### Wozu wurden Betriebssysteme ab den 1960er Jahren eingeführt?\n",
    "    - [x] Um Hardwarefunktionen zu abstrahieren  \n",
    "    - [x] Um Standardaufgaben wie Dateiverwaltung zu übernehmen  \n",
    "    - [ ] Um Hardware komplett zu ersetzen  \n",
    "    - [ ] Um Spiele effizienter zu gestalten\n",
    "\n",
    "    ### Welche Rolle spielen Treiber in modernen Betriebssystemen?\n",
    "    - [x] Sie erlauben den Austausch von Hardware ohne Änderung am Programm  \n",
    "    - [ ] Sie speichern Programme im RAM  \n",
    "    - [ ] Sie stellen das GUI bereit  \n",
    "    - [ ] Sie sind optional für Hardwareansteuerung\n",
    "\n",
    "    ### Warum wurden höhere Programmiersprachen eingeführt?\n",
    "    - [x] Um die Programmierung zu vereinfachen  \n",
    "    - [ ] Um direkt Maschinencode zu schreiben  \n",
    "    - [x] Um Programme menschenlesbarer zu gestalten  \n",
    "    - [ ] Um Compiler zu vermeiden\n",
    "\n",
    "    ### Was ist ein Nachteil höherer Programmiersprachen?\n",
    "    - [x] Programme müssen für jedes Betriebssystem neu kompiliert oder umgeschrieben werden  \n",
    "    - [ ] Sie können keine Zahlen verarbeiten  \n",
    "    - [ ] Sie sind zu nah an der Hardware  \n",
    "    - [ ] Sie funktionieren nicht auf modernen Rechnern\n",
    "\n",
    "    ### Welche Aufgabe übernehmen virtuelle Laufzeitumgebungen?\n",
    "    - [x] Sie abstrahieren das Betriebssystem  \n",
    "    - [x] Sie interpretieren oder kompilieren Code zur Laufzeit  \n",
    "    - [ ] Sie ersetzen den Compiler vollständig  \n",
    "    - [ ] Sie verwalten den Dateizugriff im Netzwerk\n",
    "\n",
    "    ### Warum stieg der Bedarf an Virtualisierung ab ca. 1995?\n",
    "    - [ ] Weil Server nicht mehr funktionierten  \n",
    "    - [x] Weil Inhalte mobil über das Internet verfügbar sein mussten  \n",
    "    - [ ] Weil es keine Compiler mehr gab  \n",
    "    - [ ] Weil Betriebssysteme abgeschafft wurden\n",
    "\n",
    "    ### Welche Aufgaben übernimmt das Frontend in verteilter Websoftware?\n",
    "    - [x] Visualisierung der Inhalte  \n",
    "    - [x] Interaktion mit Nutzern  \n",
    "    - [ ] Verwaltung von Langzeitdaten  \n",
    "    - [ ] Steuerung der Serverhardware\n",
    "\n",
    "    ### Welche Herausforderung trat bei Webservern mit vielen gleichzeitigen Nutzern auf?\n",
    "    - [x] Gefahr der Serverüberlastung  \n",
    "    - [ ] Sicherheitslücken in CSS  \n",
    "    - [x] Notwendigkeit zur schnellen Vervielfältigung (Skalierung)  \n",
    "    - [ ] Keine Möglichkeit der Speicherung von Daten\n",
    "\n",
    "    ### Wie helfen Images bei der Skalierung von Cloud-Anwendungen?\n",
    "    - [x] Programme und Betriebssysteme werden gebündelt  \n",
    "    - [x] Sie lassen sich schnell auf Server verteilen  \n",
    "    - [ ] Images ersetzen die Benutzeroberfläche  \n",
    "    - [ ] Sie ermöglichen Code-Analyse durch KI\n",
    "\n",
    "    ### Was ist ein Merkmal moderner Apps und Cloud-Software?\n",
    "    - [ ] Sie werden lokal installiert und betrieben  \n",
    "    - [ ] Sie laufen nur auf einem Computer  \n",
    "    - [x] Sie sind verteilt und speichern Daten in der Cloud  \n",
    "    - [x] Sie ersetzen monolithische Software\n",
    "\n",
    "    ### Wie stehen Programmiersprachen mit Softwarearchitektur im Zusammenhang?\n",
    "    - [x] Sie haben sich zusammen mit Architekturmustern weiterentwickelt  \n",
    "    - [x] Beliebte Sprachen hängen von der Art der Architektur ab  \n",
    "    - [ ] Sie haben keinen Bezug zur Architektur  \n",
    "    - [ ] Nur objektorientierte Sprachen können verwendet werden\n",
    "\n",
    "```"
   ]
  },
  {
   "cell_type": "markdown",
   "id": "6b32d9cb",
   "metadata": {
    "editable": true,
    "slideshow": {
     "slide_type": "slide"
    },
    "tags": [
     "remove-cell"
    ]
   },
   "source": [
    "<div class=\"vslide\">\n",
    "  <div class=\"vslide-title\">\n",
    "    <p style=\"font-family: Protomolecule; font-size: 2.3em; margin: 0px auto; text-align: center; width: 100%;\">fragen?</p>\n",
    "  </div>\n",
    "<script>setSectionBackground('#000000', 'images/mj_questions3.mp4');</script>\n",
    "</div>"
   ]
  }
 ],
 "metadata": {
  "kernelspec": {
   "display_name": "Python 3 (ipykernel)",
   "language": "python",
   "name": "python3"
  },
  "language_info": {
   "codemirror_mode": {
    "name": "ipython",
    "version": 3
   },
   "file_extension": ".py",
   "mimetype": "text/x-python",
   "name": "python",
   "nbconvert_exporter": "python",
   "pygments_lexer": "ipython3",
   "version": "3.12.10"
  },
  "rise": {
   "auto_select": "none",
   "center": false,
   "enable_chalkboard": true,
   "header": "<img src=\"images/pd_logo.svg\" class=\"header_title_logo\"><img src=\"images/ai4sc_logo_v2.svg\" class=\"header_ai4sc_logo\">",
   "scroll": true,
   "show_buttons_on_startup": false,
   "slideNumber": true,
   "theme": "white"
  }
 },
 "nbformat": 4,
 "nbformat_minor": 5
}
