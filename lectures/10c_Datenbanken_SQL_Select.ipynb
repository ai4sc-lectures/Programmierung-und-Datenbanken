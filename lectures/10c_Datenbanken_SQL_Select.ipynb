{
 "cells": [
  {
   "cell_type": "markdown",
   "metadata": {
    "editable": true,
    "slideshow": {
     "slide_type": "slide"
    },
    "tags": [
     "remove-cell"
    ]
   },
   "source": [
    "<div class=\"vslide\">\n",
    "  <div class=\"vslide-title\">\n",
    "    <p style=\"font-family: Protomolecule; font-size: 2.3em; line-height: 90%; margin: 0px auto; text-align: center; width: 100%;\"><span style=\"letter-spacing: .04rem;\">programmierung</span><br><span style=\"letter-spacing: .0rem;\">und datenbanken</span></p>\n",
    "<p class=\"author\" style=\"font-family: Protomolecule; margin: 0px auto;  text-align: center; width: 100%; font-size: 1.2em;\">Joern Ploennigs</p>\n",
    "<p class=\"subtitle\" style=\"font-family: Protomolecule; margin: 1em auto; text-align: center; width: 100%; font-size: 1.2em;\">SQL Select</p>\n",
    "    <figcaption>Midjourney: Deep Dive in a Wimmelbild</figcaption>\n",
    "  </div>\n",
    "<script>\n",
    "  function setSectionBackground(c,v){\n",
    "    let e=document.currentScript.previousElementSibling;\n",
    "    while(e&&e.tagName!=='SECTION')e=e.parentElement;\n",
    "    if(e){\n",
    "      if(c)e.setAttribute('data-background-color',c);\n",
    "      if(v){\n",
    "        e.setAttribute('data-background-video',v);\n",
    "        e.setAttribute('data-background-video-loop','true');\n",
    "        e.setAttribute('data-background-video-muted','true');\n",
    "      }\n",
    "    }\n",
    "  }\n",
    "  setSectionBackground('#000000', 'images/10c_Datenbanken_SQL_Select/mj_title.mp4');\n",
    "</script>\n",
    "<style>\n",
    ".flex-row{display:flex; gap:2rem; align-items:flex-start; justify-content:space-between;}\n",
    ".flex-row .col1{flex:1; min-width:10px}\n",
    ".flex-row .col2{flex:2; min-width:10px}\n",
    ".flex-row .col3{flex:3; min-width:10px}\n",
    ".flex-row .col4{flex:4; min-width:10px}\n",
    ".flex-row .col5{flex:5; min-width:10px}\n",
    ".flex-row .col6{flex:6; min-width:10px}\n",
    ".flex-row .col7{flex:7; min-width:10px}\n",
    ".vcent{display:flex; align-items:center; justify-content:center}\n",
    "</style>\n",
    "</div>"
   ]
  },
  {
   "cell_type": "markdown",
   "metadata": {
    "editable": true,
    "slideshow": {
     "slide_type": "skip"
    },
    "tags": []
   },
   "source": [
    "# Tabellen mit SQL analysieren"
   ]
  },
  {
   "cell_type": "markdown",
   "metadata": {
    "editable": true,
    "slideshow": {
     "slide_type": "skip"
    },
    "tags": []
   },
   "source": [
    "<figure class=\"mj-tile-band\">\n",
    "    <img src='images/10c_Datenbanken_SQL_Select/mj_title_band.jpg'>\n",
    "    <figcaption>Midjourney: Deep Dive in a Wimmelbild</figcaption>\n",
    "</figure>\n",
    "\n",
    "> If you think you understand SQL, you’re probably wrong.\n",
    ">\n",
    "> — C. J. Date"
   ]
  },
  {
   "cell_type": "markdown",
   "metadata": {
    "editable": true,
    "slideshow": {
     "slide_type": "skip"
    },
    "tags": []
   },
   "source": [
    "## <a href=\"/lec_slides/10c_Datenbanken_SQL_Select.slides.html\">Folien</a>/<a href=\"/pdf/slides/10c_Datenbanken_SQL_Select.pdf\">PDF</a>\n",
    "<iframe src=\"/lec_slides/10c_Datenbanken_SQL_Select.slides.html\" width=\"750\" height=\"500\"></iframe>"
   ]
  },
  {
   "cell_type": "markdown",
   "metadata": {
    "editable": true,
    "slideshow": {
     "slide_type": "slide"
    },
    "tags": [
     "remove-cell"
    ]
   },
   "source": [
    "## Ablauf\n",
    "\n",
    "![](images/partB_2.svg)"
   ]
  },
  {
   "attachments": {},
   "cell_type": "markdown",
   "metadata": {
    "slideshow": {
     "slide_type": "skip"
    }
   },
   "source": [
    "## Praxisbeispiel"
   ]
  },
  {
   "attachments": {},
   "cell_type": "markdown",
   "metadata": {
    "slideshow": {
     "slide_type": "skip"
    }
   },
   "source": [
    "Informationen sind in der Praxis meist über verschiedene Systeme und Tabellen verteilt und müssen oft zusammengeführt verarbeitet werden, um daraus anwendbares Wissen abzuleiten.\n",
    "\n",
    "Die Hansestadt Rostock bietet zum Beispiel viele relevante Daten für Bau- und Umweltingenieure auf dem [OpenData Portal Rostock](https://www.opendata-hro.de).\n",
    "\n",
    "Dort erhalten wir zum Beispiel:\n",
    "- die [Liste aller Baustellen](https://www.opendata-hro.de/dataset/baustellen)\n",
    "- die [Liste aller Strassen und Adressen](https://www.opendata-hro.de/dataset/adressenliste)\n",
    "- die [Liste aller Gemeinden](https://www.opendata-hro.de/dataset/gemeinden_mecklenburg-vorpommern) \n",
    "<!-- - die [Liste aller Bodenrichtwerte](https://www.opendata-hro.de/dataset/bodenrichtwerte_2022)\n",
    "\n",
    "Die Bevölkerungsdichte der Bezirke wiederum erhalten wir auf der Landesseite (https://www.laiv-mv.de/Statistik/Zahlen-und-Fakten/Gesellschaft-&-Staat/Bevoelkerung/). \n",
    "\n",
    "# Siehe https://www.opendata-hro.de/dataset/bodenrichtwerte_2022\n",
    "with urllib.request.urlopen(f'https://geo.sv.rostock.de/download/opendata/bodenrichtwerte_2022/bodenrichtwerte_2022.csv') as f:\n",
    "    bodenrichtwerte=pd.read_csv(f, usecols=[\"gesl\", \"genu\", \"ortst\", \"wnum\", \"gema\", \"flae\", \"typ\", \"brw\", \"nuta\", \"entw\", \"geometrie_wkt\"])\n",
    "bodenrichtwerte.head()\n",
    "\n",
    "# Siehe https://www.laiv-mv.de/Statistik/Zahlen-und-Fakten/Gesellschaft-&-Staat/Bevoelkerung/\n",
    "with urllib.request.urlopen(f'https://www.laiv-mv.de/static/LAIV/Statistik/Dateien/Publikationen/A%20I%20Bev%C3%B6lkerungsstand/A123/2022/A123%202022%2021.xlsx') as f:\n",
    "    bevoelkerung=pd.read_excel(f.read(), sheet_name=\"2\", header=1, usecols=range(7), skiprows=range(2,9)) # wähle Blatt 2, die ersten 7 Spalten und überspringe Zeilen 2-9\n",
    "bevoelkerung.columns=[c.replace(\"-\\n\", \"\").replace(\"\\n\", \"\") for c in bevoelkerung.columns] # entferne Zeilenumbrüche in den Spaltennamen\n",
    "bevoelkerung.head()\n",
    "\n",
    "-->"
   ]
  },
  {
   "attachments": {},
   "cell_type": "markdown",
   "metadata": {
    "slideshow": {
     "slide_type": "skip"
    }
   },
   "source": [
    "Wie in den letzten Beispielen gezeigt können wir uns die Daten auch sehr einfach in Python herunter laden und anzeigen. Dafür nutzen wir das CSV Format das auf den Webseiten angeboten wird und die Python Pakete `urllib` und `pandas`. Wir öffnen zuerst die Datei im Internet mit `urllib.request.urlopen` und laden sie dann in Pandas als Tabelle mit `pd.read_csv(f)`. Zuletzt zeigen wir die ersten 5 Zeilen der Tabelle mit `.head()` an."
   ]
  },
  {
   "cell_type": "code",
   "execution_count": null,
   "metadata": {
    "slideshow": {
     "slide_type": "skip"
    }
   },
   "outputs": [],
   "source": [
    "import urllib.request\n",
    "import pandas as pd"
   ]
  },
  {
   "cell_type": "code",
   "execution_count": null,
   "metadata": {
    "slideshow": {
     "slide_type": "skip"
    },
    "tags": [
     "output_scroll"
    ]
   },
   "outputs": [],
   "source": [
    "# Siehe https://www.opendata-hro.de/dataset/baustellen\n",
    "with urllib.request.urlopen(f'https://geo.sv.rostock.de/download/opendata/baustellen/baustellen.csv') as f:\n",
    "    baustellen = pd.read_csv(f, usecols=[\"latitude\", \"longitude\", \"strasse_schluessel\", \"sparte\", \"von\", \"nach\", \"baubeginn\", \"bauende\", \"verkehrsbeeintraechtigungen\", \"baumassnahme\"]) #, parse_dates=[\"baubeginn\", \"bauende\"]\n",
    "baustellen.head()"
   ]
  },
  {
   "cell_type": "code",
   "execution_count": null,
   "metadata": {
    "slideshow": {
     "slide_type": "skip"
    },
    "tags": [
     "output_scroll"
    ]
   },
   "outputs": [],
   "source": [
    "# Siehe https://geo.sv.rostock.de/download/opendata/adressenliste\n",
    "with urllib.request.urlopen(f'https://geo.sv.rostock.de/download/opendata/adressenliste/adressenliste.csv') as f:\n",
    "    adressenliste=pd.read_csv(f, usecols=[\"gemeinde_schluessel\", \"gemeindeteil_name\", \"strasse_name\", \"strasse_schluessel\", \"hausnummer\", \"hausnummer_zusatz\", \"postleitzahl\"])\n",
    "adressenliste.head()"
   ]
  },
  {
   "cell_type": "code",
   "execution_count": null,
   "metadata": {
    "slideshow": {
     "slide_type": "skip"
    },
    "tags": [
     "output_scroll"
    ]
   },
   "outputs": [],
   "source": [
    "# Siehe https://www.opendata-hro.de/dataset/gemeinden_mecklenburg-vorpommern\n",
    "with urllib.request.urlopen(f'https://geo.sv.rostock.de/download/opendata/gemeinden_mecklenburg-vorpommern/gemeinden_mecklenburg-vorpommern.csv') as f:\n",
    "    gemeinden=pd.read_csv(f, usecols=[\"kreis_name\", \"kreis_schluessel\", \"gemeindeverband_name\", \"gemeindeverband_schluessel\", \"gemeinde_name\", \"gemeinde_schluessel\", \"st_transform\"])\n",
    "gemeinden.head()"
   ]
  },
  {
   "attachments": {},
   "cell_type": "markdown",
   "metadata": {
    "slideshow": {
     "slide_type": "skip"
    }
   },
   "source": [
    "Wenn wir die Tabellen vergleichen, so stellen wir fest, dass alle eine etwas andere Struktur haben und meist nur einen Teil der Informationen erhalten. Wollen wir zum Beispiel wissen was die Bevölkerungsdichte in den Stadtbezirken mit Baustellen ist, so lässen sich dieses Wissen nicht sofort ableiten."
   ]
  },
  {
   "attachments": {},
   "cell_type": "markdown",
   "metadata": {
    "slideshow": {
     "slide_type": "skip"
    }
   },
   "source": [
    "## Tabellen in SQLite speichern mit Pandas"
   ]
  },
  {
   "attachments": {},
   "cell_type": "markdown",
   "metadata": {
    "slideshow": {
     "slide_type": "skip"
    }
   },
   "source": [
    "Um diese Daten langfristig zu speichern wollen wir uns eine Datenbank anlegen. Da die Daten ja bereits als Tabellen vorliegen, nutzen wir eine relationale Datenbank. Eine sehr einfache, lokale relationale Datenbank, die ohne Server auskommt ist SQLite. Sie ist bereits in Python enthalten. Wir erzeugen uns eine neue Datenbank indem wir eine Verbindung zu einer neuen Datenbankdatei anlegen."
   ]
  },
  {
   "cell_type": "code",
   "execution_count": null,
   "metadata": {
    "slideshow": {
     "slide_type": "skip"
    }
   },
   "outputs": [],
   "source": [
    "import sqlite3\n",
    "\n",
    "# Create a SQL connection to our SQLite database\n",
    "con = sqlite3.connect(\"opendatahro.sqlite\")"
   ]
  },
  {
   "attachments": {},
   "cell_type": "markdown",
   "metadata": {
    "slideshow": {
     "slide_type": "skip"
    }
   },
   "source": [
    "Wir schauen uns später an wie wir Tabellen direkt mit SQL erzeugen. Pandas hat diese Funktion bereits eingebaut, so dass wir unsere Tabelle direkt in der SQLite Datenbank speichern können."
   ]
  },
  {
   "cell_type": "code",
   "execution_count": null,
   "metadata": {
    "slideshow": {
     "slide_type": "skip"
    }
   },
   "outputs": [],
   "source": [
    "baustellen.to_sql(\"baustellen\", con, if_exists=\"replace\")\n",
    "adressenliste.to_sql(\"adressenliste\", con, if_exists=\"replace\")\n",
    "gemeinden.to_sql(\"gemeinden\", con, if_exists=\"replace\")"
   ]
  },
  {
   "attachments": {},
   "cell_type": "markdown",
   "metadata": {
    "slideshow": {
     "slide_type": "skip"
    }
   },
   "source": [
    "## Daten aus Tabellen abfragen mit `SELECT`"
   ]
  },
  {
   "attachments": {},
   "cell_type": "markdown",
   "metadata": {
    "slideshow": {
     "slide_type": "skip"
    }
   },
   "source": [
    "SQL ist die Standartsprache um mit relationalen Datenbanken zu arbeiten. Sie bietet verschiedene Befehle um Tabellen zu definieren, Daten in ihnen zu speichern als auch die Daten abzufragen. Letzteres wird mit dem `SELECT` Befehl gemacht. SQL orientiert sich dabei etwas an natürlicher Sprache. Man fragt in SQL quasi nach den Daten aus (`FROM`) einer bestimmten Tabelle . Um zum Beispiel alle Spalten aus einer Tabelle abzufragen nutzen wir den Befehl mit dem Platzhalter `*` (=alle Spalten)."
   ]
  },
  {
   "cell_type": "code",
   "execution_count": null,
   "metadata": {
    "slideshow": {
     "slide_type": "skip"
    }
   },
   "outputs": [],
   "source": [
    "sql='SELECT * FROM baustellen;'"
   ]
  },
  {
   "attachments": {},
   "cell_type": "markdown",
   "metadata": {
    "slideshow": {
     "slide_type": "skip"
    }
   },
   "source": [
    "Um den SQL Befehl an die Datenbank zu senden, erzeugen wir aus unserer Datenbankverbindung `con` einen neuen Cursor `cur`. Mit `cur.execute(sql)` führen wir den SQL Befehl aus und die Datenbank sendet und die Datenbank fängt an uns alle Ergebnisse der Anfrage Zeile für Zeile zurück zu senden. Der Cursor zeigt dabei immer auf die aktuelle Zeile. Damit will man vermeiden alle Daten, welche sehr (sehr) viele Zeilen sein können, auf einmal zu senden und damit ggf. das Netzwerk oder das Programm zu überlasten."
   ]
  },
  {
   "cell_type": "code",
   "execution_count": null,
   "metadata": {
    "slideshow": {
     "slide_type": "skip"
    },
    "tags": [
     "output_scroll"
    ]
   },
   "outputs": [],
   "source": [
    "cur = con.cursor()\n",
    "\n",
    "rows=cur.execute(sql)\n",
    "for row in rows:\n",
    "    print(row)\n",
    "print(type(row))"
   ]
  },
  {
   "attachments": {},
   "cell_type": "markdown",
   "metadata": {
    "slideshow": {
     "slide_type": "skip"
    }
   },
   "source": [
    "Wie wir sehen erhalten wir jede Zeile als Tuple zurück. Dabei kennen wir in diesem Fall nicht die Spaltennamen der Werte. Wir können diese vom Cursor abfragen mit"
   ]
  },
  {
   "cell_type": "code",
   "execution_count": null,
   "metadata": {
    "slideshow": {
     "slide_type": "skip"
    }
   },
   "outputs": [],
   "source": [
    "cur.description"
   ]
  },
  {
   "attachments": {},
   "cell_type": "markdown",
   "metadata": {
    "slideshow": {
     "slide_type": "skip"
    }
   },
   "source": [
    "Meist fragt man allerdings nicht alle Spalten einer Tabelle mit dem Platzhalter `*` ab, sonder gibt geziehlt die Spalten an, die man erhalten möchte. So kann man unnötigen Datenverkehr spaaren."
   ]
  },
  {
   "cell_type": "code",
   "execution_count": null,
   "metadata": {
    "slideshow": {
     "slide_type": "skip"
    },
    "tags": [
     "output_scroll"
    ]
   },
   "outputs": [],
   "source": [
    "sql='SELECT strasse_schluessel, sparte, latitude, longitude, baumassnahme FROM baustellen;'\n",
    "for row in cur.execute(sql):\n",
    "    print(row)"
   ]
  },
  {
   "attachments": {},
   "cell_type": "markdown",
   "metadata": {
    "slideshow": {
     "slide_type": "skip"
    }
   },
   "source": [
    "## Filtern von Ergebnissen mit `WHERE`"
   ]
  },
  {
   "attachments": {},
   "cell_type": "markdown",
   "metadata": {
    "slideshow": {
     "slide_type": "skip"
    }
   },
   "source": [
    "Oft will man nur bestimmte Zeilen aus einer Tabelle in einer Datenbank abrufen. Diese Auswahl definiert man mit dem SQL Befehl `WHERE` und zusätzlichen logischen Vergleichsoperatoren.\n",
    "\n",
    "Wollen wir zum Beispiel nur die Baustellen haben die einen Baubegin in 2023 haben, so können wir definieren"
   ]
  },
  {
   "cell_type": "code",
   "execution_count": null,
   "metadata": {
    "slideshow": {
     "slide_type": "skip"
    },
    "tags": [
     "output_scroll"
    ]
   },
   "outputs": [],
   "source": [
    "sql='''SELECT strasse_schluessel, sparte, latitude, longitude, baumassnahme, baubeginn, bauende\n",
    "       FROM baustellen\n",
    "       WHERE baubeginn >= '2023-01-01 00:00:00+01';'''\n",
    "for row in cur.execute(sql):\n",
    "    print(row)"
   ]
  },
  {
   "attachments": {},
   "cell_type": "markdown",
   "metadata": {
    "slideshow": {
     "slide_type": "skip"
    }
   },
   "source": [
    "Mehrere Bedingungen können durch logische Operatoren wie 'AND', 'OR' oder 'NOT' verknüpft werden. Wollen wir alle Baustellen die im 1 Quartal 2023 angefangen und beendet werden, so schreiben wir"
   ]
  },
  {
   "cell_type": "code",
   "execution_count": null,
   "metadata": {
    "slideshow": {
     "slide_type": "skip"
    }
   },
   "outputs": [],
   "source": [
    "sql='''SELECT strasse_schluessel, sparte, latitude, longitude, baumassnahme, baubeginn, bauende\n",
    "       FROM baustellen\n",
    "       WHERE baubeginn >= '2023-01-01 00:00:00+01' AND bauende < '2024-04-01 00:00:00+01';'''\n",
    "for row in cur.execute(sql):\n",
    "    print(row)"
   ]
  },
  {
   "cell_type": "markdown",
   "metadata": {
    "slideshow": {
     "slide_type": "skip"
    }
   },
   "source": [
    "## Daten Aggregieren"
   ]
  },
  {
   "attachments": {},
   "cell_type": "markdown",
   "metadata": {
    "slideshow": {
     "slide_type": "skip"
    }
   },
   "source": [
    "Da die Ergebnisse Zeile für Zeile übertragen werden, ist die Anzahl der Ergebnisse auch nicht unbedingt vorher bekannt. Deshalb unterstützen alle relationale Datenbanken die Aggregatfunktion `count(*)`, um die Anzahl der Zeilen der Ergebnisse zurück zu geben."
   ]
  },
  {
   "cell_type": "code",
   "execution_count": null,
   "metadata": {
    "slideshow": {
     "slide_type": "skip"
    }
   },
   "outputs": [],
   "source": [
    "sql='SELECT count(*) FROM baustellen;'\n",
    "\n",
    "for row in cur.execute(sql):\n",
    "    print(row)"
   ]
  },
  {
   "attachments": {},
   "cell_type": "markdown",
   "metadata": {
    "slideshow": {
     "slide_type": "skip"
    }
   },
   "source": [
    "Hier erhalten wir nur eine Ergebniszeile zurück, mit der Anzahl der Zeilen in der Tabelle."
   ]
  },
  {
   "attachments": {},
   "cell_type": "markdown",
   "metadata": {
    "slideshow": {
     "slide_type": "skip"
    }
   },
   "source": [
    "Darüber hinaus unerstützt SQL viele Aggregierfunktionen. Wollen wir zum Beispiel in unserem Beispieldatensatz die minimalen Baubeginn aller Baustellen identifizieren nutzen wir die `min()`-Funktion mit dem entsprechenden Spaltennamen."
   ]
  },
  {
   "cell_type": "code",
   "execution_count": null,
   "metadata": {
    "slideshow": {
     "slide_type": "skip"
    }
   },
   "outputs": [],
   "source": [
    "sql='SELECT min(baubeginn) FROM baustellen;'\n",
    "\n",
    "for row in cur.execute(sql):\n",
    "    print(row)"
   ]
  },
  {
   "attachments": {},
   "cell_type": "markdown",
   "metadata": {
    "slideshow": {
     "slide_type": "skip"
    }
   },
   "source": [
    "Wieder erhalten wir ein Ergebnis mit dem Datum. Das entscheidende ist, dass diese Aggregatfunktionen direkt in der Datenbank ausgeführt wird. Wir müssen also nicht alle Daten runterladen, um einfache Kennwerte wie die Anzahl, das Minimum oder Maximum von Spalten zu erhalten. Dabei können wir auch mehrere Aggregierungen in einer Anfrage und mathematische Berechnungen ausführen. Das folgende Beispiel gibt uns die Anzahl der Baustellen sowie den minimalen Baubeginn und das maximale Bauende sowie die Baudauer. Die Baudauer berechnen wir direkt in der Datenbank als den arithmethischen Durchschnitt `avg` der Differenz zwischen Bauende und Baubeginn in Tagen im Julianischen Kalender."
   ]
  },
  {
   "cell_type": "code",
   "execution_count": null,
   "metadata": {
    "slideshow": {
     "slide_type": "skip"
    }
   },
   "outputs": [],
   "source": [
    "sql='''SELECT sparte, count(*), min(baubeginn), max(bauende), avg(JulianDay(bauende)-JulianDay(baubeginn))\n",
    "       FROM baustellen;'''\n",
    "\n",
    "for row in cur.execute(sql):\n",
    "    print(row)"
   ]
  },
  {
   "attachments": {},
   "cell_type": "markdown",
   "metadata": {
    "slideshow": {
     "slide_type": "skip"
    }
   },
   "source": [
    "## Statistiken Extrahieren mit Aggregieren von Gruppen, Sortieren und Limitieren"
   ]
  },
  {
   "attachments": {},
   "cell_type": "markdown",
   "metadata": {
    "slideshow": {
     "slide_type": "skip"
    }
   },
   "source": [
    "Das letzte Beispiel zeigt bereits, wie wir SQL nutzen können um Statistiken der Daten in einer Datenbank zu berechnen. Das wird besonders dann interessant, wenn wir das mit Gruppierungen kombinieren. Gruppierungen fassen die abgefragten Zeilen in der Tabelle entlang den angegebenen Spaltennamen als Gruppe zusammen. Wollen wir zum Beispiel wissen, wie lange im Durchschnitt die Dauer der Baustellen je nach `sparte` ist, so können wir diese Spalte als Gruppe definieren und die mittleren Baudauer für jede Gruppe bestimmen. Dafür bietet SQL den Befehl `GROUP BY` an, hinter dem wir die Spalte angeben nach welcher gruppiert werden soll."
   ]
  },
  {
   "cell_type": "code",
   "execution_count": null,
   "metadata": {
    "slideshow": {
     "slide_type": "skip"
    }
   },
   "outputs": [],
   "source": [
    "sql='''SELECT sparte, count(*), min(baubeginn), max(bauende), avg(JulianDay(bauende)-JulianDay(baubeginn))\n",
    "       FROM baustellen \n",
    "       GROUP BY sparte;'''\n",
    "\n",
    "for row in cur.execute(sql):\n",
    "    print(row)"
   ]
  },
  {
   "attachments": {},
   "cell_type": "markdown",
   "metadata": {
    "slideshow": {
     "slide_type": "skip"
    }
   },
   "source": [
    "Wir sehen jetzt, dass 'Hochbau' die größte Gruppen mit 29 Zeilen (Baustellen) bildet, gefolgt von Straßenbau mit 14 Zeilen. Hochbau braucht Hochbau mit 507 Tagen fast doppelt so lange wie Strassenbau mit 274 Tagen. \n",
    "\n",
    "(Da wir die Daten tagesaktuell von Opendata-HRO laden, können sich diese Beispielzahlen im Verlauf der Zeit durchaus ändern)."
   ]
  },
  {
   "attachments": {},
   "cell_type": "markdown",
   "metadata": {
    "slideshow": {
     "slide_type": "skip"
    }
   },
   "source": [
    "Um die Ergebnisse zu sortieren bietet SQL den `ORDER BY` Befehl. Wollen wir die Ergebnisse nach der Dauer absteigend (`DESC`) sortieren, so schreiben wir:"
   ]
  },
  {
   "cell_type": "code",
   "execution_count": null,
   "metadata": {
    "slideshow": {
     "slide_type": "skip"
    }
   },
   "outputs": [],
   "source": [
    "sql='''SELECT sparte, count(*), min(baubeginn), max(bauende), avg(JulianDay(bauende)-JulianDay(baubeginn)) as Baudauer \n",
    "       FROM baustellen \n",
    "       GROUP BY sparte\n",
    "       ORDER BY Baudauer DESC;'''  # ASC - Aufsteigend, DESC - Absteigend\n",
    "\n",
    "for row in cur.execute(sql):\n",
    "    print(row)"
   ]
  },
  {
   "attachments": {},
   "cell_type": "markdown",
   "metadata": {
    "slideshow": {
     "slide_type": "skip"
    }
   },
   "source": [
    "Sind wir jetzt nur an der Top 3 interessiert, so können wir mit `LIMIT` die Anzahl an Ergebnissen die maximal zurück gegeben werden."
   ]
  },
  {
   "cell_type": "code",
   "execution_count": null,
   "metadata": {
    "slideshow": {
     "slide_type": "skip"
    }
   },
   "outputs": [],
   "source": [
    "sql='''SELECT sparte, count(*), min(baubeginn), max(bauende), avg(JulianDay(bauende)-JulianDay(baubeginn)) as Baudauer \n",
    "       FROM baustellen \n",
    "       GROUP BY sparte\n",
    "       ORDER BY Baudauer DESC\n",
    "       LIMIT 3;'''\n",
    "\n",
    "for row in cur.execute(sql):\n",
    "    print(row)"
   ]
  },
  {
   "attachments": {},
   "cell_type": "markdown",
   "metadata": {
    "slideshow": {
     "slide_type": "skip"
    }
   },
   "source": [
    "## Daten aus mehreren Tabellen verknüpfen und gleichzeitig abfragen mit `JOIN`"
   ]
  },
  {
   "attachments": {},
   "cell_type": "markdown",
   "metadata": {
    "slideshow": {
     "slide_type": "skip"
    }
   },
   "source": [
    "In unserm Beispiel kennen wir nicht die Straßennamen der Baustelle, sondern nur eine obskure ID namens `strasse_schluessel`. Diese finden wir auch in der Tabelle `adressenliste` zusammen mit dem gesuchten Straßennamen. Wir müssen also nun eine Abfrage über beide Tabellen gemeinsam durchführen, um auch die Straße für die Baustellen zu erfahren. Dafür nutzt man den SQL Befehl `JOIN` und gibt an wo (`WHERE`) die Ergebnisse zusammenzuführen sind indem man eine Gleichheitsbedingung spezifiziert. Da die Spalte `strasse_schluessel` in beiden Tabellen vorkommt und es nicht ganz eindeutig ist auf welche man sich bezieht, gibt man jetzt auch bei den Spaltennamen die Tabelle mit der Dotnotation mit an, also:"
   ]
  },
  {
   "cell_type": "code",
   "execution_count": null,
   "metadata": {
    "slideshow": {
     "slide_type": "skip"
    },
    "tags": [
     "output_scroll"
    ]
   },
   "outputs": [],
   "source": [
    "sql='''SELECT baustellen.strasse_schluessel, baustellen.sparte, baustellen.latitude, baustellen.longitude, baustellen.baumassnahme, baustellen.baubeginn, baustellen.bauende, \n",
    "              adressenliste.gemeindeteil_name, adressenliste.strasse_name \n",
    "       FROM baustellen \n",
    "       JOIN adressenliste \n",
    "       WHERE baustellen.strasse_schluessel=adressenliste.strasse_schluessel;'''\n",
    "for row in cur.execute(sql):\n",
    "    print(row)"
   ]
  },
  {
   "attachments": {},
   "cell_type": "markdown",
   "metadata": {
    "slideshow": {
     "slide_type": "skip"
    }
   },
   "source": [
    "Da diese ständige Wiederholung der Tabellennamen sehr schreiblastig ist, kann man in SQL mit dem Befehl `AS` auch kürzere Namen für Spalten und Tabellen verwenden"
   ]
  },
  {
   "cell_type": "code",
   "execution_count": null,
   "metadata": {
    "slideshow": {
     "slide_type": "skip"
    },
    "tags": [
     "output_scroll"
    ]
   },
   "outputs": [],
   "source": [
    "sql='''SELECT b.strasse_schluessel, b.sparte, b.latitude, b.longitude, b.baumassnahme, b.baubeginn, b.bauende, \n",
    "              a.gemeindeteil_name, a.strasse_name \n",
    "       FROM baustellen AS b \n",
    "       JOIN adressenliste AS a\n",
    "       WHERE b.strasse_schluessel=a.strasse_schluessel;'''\n",
    "for row in cur.execute(sql):\n",
    "    print(row)"
   ]
  },
  {
   "attachments": {},
   "cell_type": "markdown",
   "metadata": {
    "slideshow": {
     "slide_type": "skip"
    }
   },
   "source": [
    "Jetzt kommt es allerdings zu vielen Dopplungen in unseren Ergebnissen, da jede Ergebniszeile aus der Tabelle `baustellen` mit jeder Zeile aus der Tabelle `adressenliste` wiederholt wird, weil in der letzteren ja eine Straße mit dem gleichen `strasse_schluessel` mehrmals vorkommt. Diese Duplikate wollen wir rausfiltern mit dem SQL Befehl `DISTINCT`"
   ]
  },
  {
   "cell_type": "code",
   "execution_count": null,
   "metadata": {
    "slideshow": {
     "slide_type": "skip"
    },
    "tags": [
     "output_scroll"
    ]
   },
   "outputs": [],
   "source": [
    "sql='''SELECT DISTINCT b.strasse_schluessel, b.sparte, b.latitude, b.longitude, b.baumassnahme, a.gemeindeteil_name, a.strasse_name \n",
    "       FROM baustellen AS b\n",
    "       JOIN adressenliste AS a\n",
    "       WHERE b.strasse_schluessel=a.strasse_schluessel;'''\n",
    "for row in cur.execute(sql):\n",
    "    print(row)"
   ]
  },
  {
   "attachments": {},
   "cell_type": "markdown",
   "metadata": {
    "slideshow": {
     "slide_type": "skip"
    }
   },
   "source": [
    "Jetzt kennen wir schon den richtigen Straßenname zu jeder Baustelle, allerdings fehlt uns die Gemeinde. Hierfür verknüpfen wir die Daten mit der Tabelle\n",
    "`gemeinden`. Dafür ergänzen wir die zusätzliche Tabelle im `JOIN` und definieren die weitere Verknüpfungsbedingung auf die Spalte `gemeinde_schluessel`.\n"
   ]
  },
  {
   "cell_type": "code",
   "execution_count": null,
   "metadata": {
    "slideshow": {
     "slide_type": "skip"
    },
    "tags": [
     "output_scroll"
    ]
   },
   "outputs": [],
   "source": [
    "sql='''SELECT DISTINCT b.strasse_schluessel, b.sparte, b.latitude, b.longitude, b.baumassnahme, a.gemeindeteil_name, a.strasse_name, g.gemeinde_name\n",
    "       FROM baustellen AS b\n",
    "       JOIN adressenliste AS a, gemeinden AS g\n",
    "       WHERE b.strasse_schluessel=a.strasse_schluessel AND a.gemeinde_schluessel=g.gemeinde_schluessel;'''\n",
    "for row in cur.execute(sql):\n",
    "    print(row)"
   ]
  },
  {
   "attachments": {},
   "cell_type": "markdown",
   "metadata": {
    "slideshow": {
     "slide_type": "skip"
    }
   },
   "source": [
    "Es gibt [verschiedene Typen von Joins](https://www.w3schools.com/sql/sql_join.asp) je nachdem ob man nur die Ergebnisse haben will für die es:\n",
    "- Einträge in beiden Tabellen gibt (INNER, Default)\n",
    "- Einträge in mindestens der ersten Tabelle gibt (RIGHT)\n",
    "- Einträge in mindestens der zweiten Tabelle gibt (LEFT)\n",
    "- Einträge in mindestens der zweiten Tabelle gibt (OUTER)\n",
    "\n",
    "Der `NATURAL JOIN` Typen vereinfachen die Schreibarbeit. Beim `NATURAL JOIN` werden dabei die Spalten gematcht, welche identisch heißen. Er funktioniert somit nur wenn die Spalten in den zu matchenden Tabellen identisch heißen und alle anderen Spalten andere Namen haben, was eher seltener der Fall ist."
   ]
  },
  {
   "cell_type": "code",
   "execution_count": null,
   "metadata": {
    "slideshow": {
     "slide_type": "skip"
    },
    "tags": [
     "output_scroll"
    ]
   },
   "outputs": [],
   "source": [
    "sqlNJ='''SELECT DISTINCT strasse_schluessel, sparte, latitude, longitude, baumassnahme, gemeindeteil_name, strasse_name, gemeinde_name\n",
    "       FROM baustellen\n",
    "       NATURAL JOIN adressenliste, gemeinden;'''\n",
    "for row in cur.execute(sqlNJ):\n",
    "    print(row)"
   ]
  },
  {
   "attachments": {},
   "cell_type": "markdown",
   "metadata": {
    "slideshow": {
     "slide_type": "skip"
    }
   },
   "source": [
    ":::{warning}\n",
    "Es funktioniert auch in diesem Beispiel nicht. Es werden zwar Ergebnisse zurück gegeben, allerdings, deutlich mehr als im letzten Join. Die Gemeinden werden hier kreuzkombiniert. Man sieht also, dass der `NATURAL JOIN` mit Vorsicht zu benutzen ist.\n",
    ":::"
   ]
  },
  {
   "attachments": {},
   "cell_type": "markdown",
   "metadata": {
    "slideshow": {
     "slide_type": "skip"
    }
   },
   "source": [
    "## Daten mit SQL und Pandas abfragen und mit GeoJSON visualisieren"
   ]
  },
  {
   "attachments": {},
   "cell_type": "markdown",
   "metadata": {
    "slideshow": {
     "slide_type": "skip"
    }
   },
   "source": [
    "Wir haben am Anfang ja die Tabellen in der SQLite Datenbank bereits mit Pandas erzeugt. Wir können Pandas auch nutzen um Daten aus einer SQL Anfrage direkt als Dataframe (Pandas Tabelle) zu laden. \n",
    "\n",
    "Fügen wir einmal die Beispiele zusammen und lassen uns alle Baustellen mit Strasse und Gemeinde im ersten Quartal 2023 auf einer Karte anzeigen. Die SQL Abfrage dazu sieht wie folgt aus"
   ]
  },
  {
   "cell_type": "code",
   "execution_count": null,
   "metadata": {
    "slideshow": {
     "slide_type": "skip"
    }
   },
   "outputs": [],
   "source": [
    "sql='''SELECT DISTINCT b.strasse_schluessel, b.sparte, b.latitude, b.longitude, b.baumassnahme, b.baubeginn, b.bauende, a.gemeindeteil_name, a.strasse_name, g.gemeinde_name\n",
    "       FROM baustellen AS b\n",
    "       JOIN adressenliste AS a, gemeinden AS g\n",
    "       WHERE b.strasse_schluessel=a.strasse_schluessel AND a.gemeinde_schluessel=g.gemeinde_schluessel\n",
    "         AND b.baubeginn >= '2023-01-01 00:00:00+01' AND b.bauende < '2024-04-01 00:00:00+01';'''"
   ]
  },
  {
   "attachments": {},
   "cell_type": "markdown",
   "metadata": {
    "slideshow": {
     "slide_type": "skip"
    }
   },
   "source": [
    "Wir führen die SQL Abfrage direkt mit der Pandas Funktion `pd.read_sql(sql, con)` aus und erzeugen uns einen DataFrame der die gewünschten Daten enthält."
   ]
  },
  {
   "cell_type": "code",
   "execution_count": null,
   "metadata": {
    "slideshow": {
     "slide_type": "skip"
    },
    "tags": [
     "output_scroll"
    ]
   },
   "outputs": [],
   "source": [
    "baustellen_mit_strasse = pd.read_sql(sql, con)\n",
    "baustellen_mit_strasse"
   ]
  },
  {
   "attachments": {},
   "cell_type": "markdown",
   "metadata": {
    "slideshow": {
     "slide_type": "skip"
    }
   },
   "source": [
    "\n",
    "Die Tabelle enthält ja bereits die Latitude und Longitude. Mit dem Paket `pandas_geojson` können wir aus den Dataframe in ein GeoJSON FeatureCollection umwandeln. Wir installieren zuerst das Paket mit pip."
   ]
  },
  {
   "cell_type": "code",
   "execution_count": null,
   "metadata": {
    "slideshow": {
     "slide_type": "skip"
    }
   },
   "outputs": [],
   "source": [
    "pip install pandas_geojson --quiet"
   ]
  },
  {
   "cell_type": "code",
   "execution_count": null,
   "metadata": {
    "slideshow": {
     "slide_type": "skip"
    }
   },
   "outputs": [],
   "source": [
    "from pandas_geojson import to_geojson\n",
    "\n",
    "geo_json = to_geojson(df=baustellen_mit_strasse, lat='latitude', lon='longitude',\n",
    "                 properties=['strasse_name','sparte','baumassnahme', 'baubeginn', 'bauende'])"
   ]
  },
  {
   "attachments": {},
   "cell_type": "markdown",
   "metadata": {
    "slideshow": {
     "slide_type": "skip"
    }
   },
   "source": [
    "Jetzt können wir uns die Baustellen  mit dem schon bekannten Paket `geojsonio` auf einer Karte visualisieren."
   ]
  },
  {
   "cell_type": "code",
   "execution_count": null,
   "metadata": {
    "slideshow": {
     "slide_type": "skip"
    },
    "tags": [
     "hide-output"
    ]
   },
   "outputs": [],
   "source": [
    "import json\n",
    "import geojsonio\n",
    "\n",
    "geojsonio.display(json.dumps(geo_json))"
   ]
  },
  {
   "attachments": {},
   "cell_type": "markdown",
   "metadata": {
    "editable": true,
    "slideshow": {
     "slide_type": "skip"
    },
    "tags": []
   },
   "source": [
    "![Baustellen](images/10c_Datenbanken_SQL_Select/baustellen.png)"
   ]
  },
  {
   "cell_type": "markdown",
   "metadata": {
    "editable": true,
    "slideshow": {
     "slide_type": "skip"
    },
    "tags": [
     "remove-cell"
    ]
   },
   "source": [
    "## SQL - Structured Query Language\n",
    "\n",
    "<script>setSectionBackground('#E2F0D9');</script>\n",
    "<div class=\"flex-row\">\n",
    "  <div class=\"col4 vcent\">\n",
    "\n",
    "  </div>\n",
    "  <div class=\"col6\"> \n",
    "    <figure class=\"mj-fig\">\n",
    "        <img src=\"images/10c_Datenbanken_SQL_Select/mj_sql.png\" class=\"mj-fig-img\">\n",
    "        <figcaption class=\"mj-fig-cap\">\n",
    "            Midjourney: Structured Query Language\n",
    "        </figcaption>\n",
    "    </figure>\n",
    "  </div>\n",
    "</div>"
   ]
  },
  {
   "cell_type": "markdown",
   "metadata": {
    "editable": true,
    "slideshow": {
     "slide_type": "subslide"
    },
    "tags": [
     "remove-cell"
    ]
   },
   "source": [
    "## Wie erhält man Daten aus den Tabellen?\n",
    "\n",
    "- Die Tabellen werden nicht wie Dateien sequentiell ausgelesen, sondern wir führen *Anfrageoperationen* aus\n",
    "- Diese berechnen aus einer Menge an Tabellen eine neue *Ergebnistabelle*\n",
    "- Diese Operationen sind dabei ähnlich wie bekannte Rechenarten kombinierbar\n",
    "- Wir nutzen also ein System aus Berechnungen über Tabellen: eine *Relationenalgebra*"
   ]
  },
  {
   "cell_type": "markdown",
   "metadata": {
    "editable": true,
    "slideshow": {
     "slide_type": "subslide"
    },
    "tags": [
     "remove-cell"
    ]
   },
   "source": [
    "## Wie führen wir diese in der Praxis aus?\n",
    "\n",
    "- Historisch haben sich hier eigene *Anfragesprachen* entwickelt, anstatt nur Zusatz-Funktionen und Bibliotheken in anderen Programmiersprachen\n",
    "- Die populärste dieser Sprachen ist die *Structured Query Language (SQL)*\n",
    "- Hat eine Syntax die speziell auf die hier erlaubten Operationen ausgelegt ist\n",
    "- Damit in der Anwendung deutlich fokussierter als Python"
   ]
  },
  {
   "cell_type": "markdown",
   "metadata": {
    "editable": true,
    "slideshow": {
     "slide_type": "subslide"
    },
    "tags": [
     "remove-cell"
    ]
   },
   "source": [
    "## SQL (Structured Query Language)\n",
    "\n",
    "- *1975* SEQUEL = Structured English Query Language\n",
    "- *seit 1986* SQL ANSI-Standard, seit 1987 ISO-Standard\n",
    "- *1992* SQL 2 (SQL-92) neuer ISO-Standard\n",
    "- *1999* SQL 3 (SQL:1999) neuer ISO-Standard\n",
    "- *2016* SQL 7 (SQL:2011) neuer ISO-Standard\n",
    "- *2019* SQL 9 (SQL:2019) stable release\n",
    "- *SQL:2016* ISO/IEC 9075-1:2016 ist der derzeitige ISO-Standard"
   ]
  },
  {
   "cell_type": "markdown",
   "metadata": {
    "editable": true,
    "slideshow": {
     "slide_type": "subslide"
    },
    "tags": [
     "remove-cell"
    ]
   },
   "source": [
    "## Projektion\n",
    "\n",
    "<div class=\"flex-row\">\n",
    "  <div class=\"col1\">\n",
    "\n",
    "- Gegeben sei die Relation Gemeinden {GemeindeID, Name, Einwohner}\n",
    "- *Projektion* bedeutet das Auswählen bestimmter Spalten durch explizite Auflistung\n",
    "- Beispiel: GemeindeID, Name\n",
    "\n",
    "  </div>\n",
    "  <div class=\"col1\"> \n",
    "\n",
    "| GemeindeID | Name | Einwohner |\n",
    "|---|--------------|-------|\n",
    "| 1 | Dummerstorf  | 7.329 |\n",
    "| 2 | Graal-Müritz | 4.278 |\n",
    "| 3 | Sanitz       | 5.831 |\n",
    "\n",
    "  </div>\n",
    "</div>"
   ]
  },
  {
   "cell_type": "markdown",
   "metadata": {
    "editable": true,
    "slideshow": {
     "slide_type": "subslide"
    },
    "tags": [
     "remove-cell"
    ]
   },
   "source": [
    "## Projektion - in SQL\n",
    "\n",
    "<div class=\"flex-row\">\n",
    "  <div class=\"col1\">\n",
    "\n",
    "*Syntax:*\n",
    "```sql\n",
    "SELECT … FROM …\n",
    "```\n",
    "\n",
    "<br/>\n",
    "- *SELECT* – Selektiert die benötigten Spalten (mit * werden alle Spalten gewählt)\n",
    "- *FROM* – Legt die Relationen fest, aus denen selektiert wird\n",
    "\n",
    "<br/>\n",
    "```sql\n",
    "SELECT GemeindeID, Name \n",
    "FROM Gemeinden\n",
    "```\n",
    "\n",
    "  </div>\n",
    "  <div class=\"col1\"> \n",
    "\n",
    "*Ergebnis:*\n",
    "<br/>\n",
    "\n",
    "| GemeindeID | Name |\n",
    "|---|--------------|\n",
    "| 1 | Dummerstorf |\n",
    "| 2 | Graal-Müritz |\n",
    "| 3 | Sanitz |\n",
    "\n",
    "  </div>\n",
    "</div>\n"
   ]
  },
  {
   "cell_type": "markdown",
   "metadata": {
    "editable": true,
    "slideshow": {
     "slide_type": "subslide"
    },
    "tags": [
     "remove-cell"
    ]
   },
   "source": [
    "## Selektion\n",
    "\n",
    "<div class=\"flex-row\">\n",
    "  <div class=\"col1\">\n",
    "\n",
    "- *Selektion* bedeutet das Auswählen bestimmter Zeilen anhand einer Bedingung\n",
    "- Für die Bedingungen werden wie gehabt Vergleichsoperatoren genutzt\n",
    "- Bedingung: Einwohner > 5000\n",
    "\n",
    "  </div>\n",
    "  <div class=\"col1\"> \n",
    "\n",
    "| GemeindeID | Name | Einwohner |\n",
    "|---|--------------|-------|\n",
    "| 1 | Dummerstorf | 7.329 |\n",
    "| ~~2~~ | ~~Graal-Müritz~~ | ~~4.278~~ |\n",
    "| 3 | Sanitz | 5.831 |\n",
    "\n",
    "  </div>\n",
    "</div>"
   ]
  },
  {
   "cell_type": "markdown",
   "metadata": {
    "editable": true,
    "slideshow": {
     "slide_type": "subslide"
    },
    "tags": [
     "remove-cell"
    ]
   },
   "source": [
    "## Selektion - in SQL\n",
    "\n",
    "<div class=\"flex-row\">\n",
    "  <div class=\"col1\">\n",
    "\n",
    "*Syntax:*\n",
    "```sql\n",
    "SELECT … FROM … WHERE …\n",
    "```\n",
    "\n",
    "<br/>\n",
    "- *WHERE* – Filtert in den ausgewählten Tabellen nach bestimmten Bedingungen\n",
    "\n",
    "<br/>\n",
    "*Beispiel:*\n",
    "```sql\n",
    "SELECT * FROM Gemeinden \n",
    "WHERE Einwohner > 5000\n",
    "```\n",
    "\n",
    "  </div>\n",
    "  <div class=\"col1\"> \n",
    "\n",
    "| GemeindeID | Name | Einwohner |\n",
    "|---|--------------|-------|\n",
    "| 1 | Dummerstorf | 7.329 |\n",
    "| 3 | Sanitz | 5.831 |\n",
    "\n",
    "  </div>\n",
    "</div>\n"
   ]
  },
  {
   "cell_type": "markdown",
   "metadata": {
    "editable": true,
    "slideshow": {
     "slide_type": "subslide"
    },
    "tags": [
     "remove-cell"
    ]
   },
   "source": [
    "## Natürlicher Verbund\n",
    "\n",
    "\n",
    "Bei einem *JOIN* kombinieren wir die Einträge aus beiden Tabellen da wo immer Fremdschlüssel und Primärschlüssel übereinstimmen\n",
    "\n",
    "<div class=\"flex-row\">\n",
    "  <div class=\"col1\">\n",
    "\n",
    "**Gemeinden Tabelle**\n",
    "\n",
    "| GemeindeID | Name | Einwohner |\n",
    "|---|--------------|-------|\n",
    "| 1 | Dummerstorf  | 7.329 |\n",
    "| 2 | Graal-Müritz | 4.278 |\n",
    "| 3 | Sanitz       | 5.831 |\n",
    "\n",
    "<br/> Primärschlüssel: GemeindeID\n",
    "\n",
    "  </div>\n",
    "  <div class=\"col1\"> \n",
    "\n",
    "**Bauwerke Tabelle**\n",
    "\n",
    "| BauwerksID | Bauwerkstyp | GemeindeID |\n",
    "|------------|-------------|------------|\n",
    "| 5000       | Tankstelle  | 2 |\n",
    "| 5001       | Hotel       | 1 |\n",
    "| 5002       | Kirche      | 2 |\n",
    "\n",
    "\n",
    "<br/> Fremdschlüssel: GemeindeID\n",
    "\n",
    "  </div>\n",
    "</div>\n"
   ]
  },
  {
   "cell_type": "markdown",
   "metadata": {
    "editable": true,
    "slideshow": {
     "slide_type": "subslide"
    },
    "tags": [
     "remove-cell"
    ]
   },
   "source": [
    "## Natürlicher Verbund - Ergebnis\n",
    "\n",
    "Verknüpfung von Tabellen durch übereinstimmende Spalten:\n",
    "\n",
    "<div class=\"flex-row\">\n",
    "  <div class=\"col1\">\n",
    "\n",
    "**Gemeinden Tabelle**\n",
    "\n",
    "| GemeindeID | Name | Einwohner |\n",
    "|---|--------------|-------|\n",
    "| 1 | Dummerstorf  | 7.329 |\n",
    "| 2 | Graal-Müritz | 4.278 |\n",
    "| 3 | Sanitz       | 5.831 |\n",
    "\n",
    "<br/> Primärschlüssel: GemeindeID\n",
    "\n",
    "  </div>\n",
    "  <div class=\"col1\"> \n",
    "\n",
    "**Bauwerke Tabelle**\n",
    "\n",
    "| BauwerksID | Bauwerkstyp | GemeindeID |\n",
    "|------------|-------------|------------|\n",
    "| 5000       | Tankstelle  | 2 |\n",
    "| 5001       | Hotel       | 1 |\n",
    "| 5002       | Kirche      | 2 |\n",
    "\n",
    "\n",
    "<br/> Fremdschlüssel: GemeindeID\n",
    "\n",
    "  </div>\n",
    "</div>\n",
    "\n",
    "Ergebnis<br/>\n",
    "\n",
    "| BauwerksID | Bauwerkstyp | GemeindeID | Name | Einwohner |\n",
    "|--|--|--|--|--|\n",
    "| 5000 | Tankstelle | 2 | Graal-Müritz | 4.278 |\n",
    "| 5001 | Hotel | 1 | Dummerstorf | 7.329 |\n",
    "| 5002 | Kirche | 2 | Graal-Müritz | 4.278 |\n",
    "\n",
    "*Wichtig:* Tupel, deren Attributwert in der jeweiligen Spalte der anderen Relation nicht auftaucht, werden auch in der Ergebnistabelle nicht auftauchen.\n",
    "\n",
    "Im Beispiel: Sanitz taucht im Ergebnis nicht auf, weil keines der vorhandenen Bauwerke hier gebaut ist.\n"
   ]
  },
  {
   "cell_type": "markdown",
   "metadata": {
    "editable": true,
    "slideshow": {
     "slide_type": "subslide"
    },
    "tags": [
     "remove-cell"
    ]
   },
   "source": [
    "## Natürlicher Verbund - in SQL\n",
    "\n",
    "*Syntax:*\n",
    "```sql\n",
    "SELECT … FROM … NATURAL JOIN\n",
    "```\n",
    "\n",
    "<br/>\n",
    "- *NATURAL JOIN* – Verbindet zwei Tabellen über den natürlichen Verbund\n",
    "\n",
    "<br/>\n",
    "*Beispiel:*\n",
    "```sql\n",
    "SELECT * FROM Bauwerke \n",
    "NATURAL JOIN Gemeinden\n",
    "```\n"
   ]
  },
  {
   "cell_type": "markdown",
   "metadata": {
    "editable": true,
    "slideshow": {
     "slide_type": "subslide"
    },
    "tags": [
     "remove-cell"
    ]
   },
   "source": [
    "## Weitere Verbundformen in SQL\n",
    "\n",
    "*Kreuzprodukt:*\n",
    "```sql\n",
    "SELECT … FROM Table1, Table2\n",
    "```\n",
    "\n",
    "<br/>\n",
    "- Separiert man statt mit NATURAL JOIN mit einem Komma, wird ein *Kreuzprodukt* gebildet – alle Zeilen werden mit allen Zeilen verbunden!\n",
    "\n",
    "<br/>\n",
    "*Sinnvoll um mehrere Tabellen nach bestimmten Bedingungen zu kombinieren:*\n",
    "```sql\n",
    "SELECT … FROM Table1, Table2 \n",
    "WHERE Table1.Foreign = Table2.Primary\n",
    "```\n",
    "\n",
    "Kann damit auch den Natürlichen Verbund erzeugen"
   ]
  },
  {
   "cell_type": "markdown",
   "metadata": {
    "editable": true,
    "slideshow": {
     "slide_type": "subslide"
    },
    "tags": [
     "remove-cell"
    ]
   },
   "source": [
    "## Umbenennung\n",
    "\n",
    "<div class=\"flex-row\">\n",
    "  <div class=\"col1\">\n",
    "\n",
    "- Manchmal haben die gleichen Attributwerte in verschiedenen Tabellen verschiedene Bedeutungen, besonders beim Erzeugen von Verbunden\n",
    "- Gegeben Relation Bauwerke {BauwerksID, Bauwerkstyp, Name}\n",
    "- Verbund: Bauwerke × Gemeinden\n",
    "- Spalten: BauwerksID, Bauwerkstyp, Name\n",
    "- *Umbenennung:* Name → Gemeindename\n",
    "\n",
    "  </div>\n",
    "  <div class=\"col1\"> \n",
    "\n",
    "| BauwerksID | Bauwerkstyp | Gemeindename |\n",
    "|------|------------|--------------|\n",
    "| 5000 | Tankstelle | Graal-Müritz |\n",
    "| 5001 | Hotel      | Dummerstorf |\n",
    "| 5002 | Kirche     | Graal-Müritz |\n",
    "\n",
    "  </div>\n",
    "</div>"
   ]
  },
  {
   "cell_type": "markdown",
   "metadata": {
    "editable": true,
    "slideshow": {
     "slide_type": "subslide"
    },
    "tags": [
     "remove-cell"
    ]
   },
   "source": [
    "## Umbenennung - in SQL\n",
    "\n",
    "*Mit `AS` Keyword:*\n",
    "```sql\n",
    "SELECT tbl1.attr1 AS Identifikationsnummer \n",
    "FROM Table1 AS tbl1\n",
    "```\n",
    "\n",
    "<br/>\n",
    "*Das Beispiel von vorhin:*\n",
    "```sql\n",
    "SELECT BauwerksID, Bauwerkstyp, Name AS Gemeindename\n",
    "FROM Bauwerke\n",
    "NATURAL JOIN Gemeinden\n",
    "```\n",
    "\n",
    "<br/>\n",
    "Sowohl im `SELECT` als auch im `FROM` möglich durch die Nutzung des `AS` Keywords\n"
   ]
  },
  {
   "cell_type": "markdown",
   "metadata": {
    "editable": true,
    "slideshow": {
     "slide_type": "slide"
    },
    "tags": [
     "remove-cell"
    ]
   },
   "source": [
    "## Aggregatfunktionen\n",
    "\n",
    "<div class=\"flex-row\">\n",
    "  <div class=\"col1\">\n",
    "\n",
    "- Fassen Spaltenwerte nach einer bestimmten Vorgehensweise zusammen\n",
    "- Bilden dabei standardmäßig eine 1×1 Tabelle als Ergebnis\n",
    "- Soll mehr als nur ein Wert erscheinen, muss nach einer bestimmten Bedingung aggregiert werden\n",
    "- Gibt es eine Bedingung, repräsentieren die Zeilen verschiedene Fälle\n",
    "- *Häufige Aggregatfunktionen:* Summenbildungen oder Zählungen\n",
    "\n",
    "  </div>\n",
    "  <div class=\"col1\"> \n",
    "\n",
    "| GemeindeID | Name | Einwohner |\n",
    "|--|--|--|\n",
    "| 1 | Dummerstorf | 7.329 |\n",
    "| 2 | Graal-Müritz | 4.278 |\n",
    "| 3 | Sanitz | 5.831 |\n",
    "\n",
    "<br/>\n",
    "*Summe: 17.438*\n",
    "\n",
    "  </div>\n",
    "</div>"
   ]
  },
  {
   "cell_type": "markdown",
   "metadata": {
    "editable": true,
    "slideshow": {
     "slide_type": "subslide"
    },
    "tags": [
     "remove-cell"
    ]
   },
   "source": [
    "## Aggregatfunktionen - in SQL\n",
    "\n",
    "<div class=\"flex-row\">\n",
    "  <div class=\"col1\">\n",
    "\n",
    "*COUNT-Funktion* zählt die Anzahl der Zeilen:\n",
    "```sql\n",
    "SELECT COUNT(GemeindeID) FROM Gemeinden\n",
    "```\n",
    "\n",
    "  </div>\n",
    "  <div class=\"col1\"> \n",
    "\n",
    "    *COUNT: 3*\n",
    "\n",
    "  </div>\n",
    "</div>\n",
    "\n",
    "<div class=\"flex-row\">\n",
    "  <div class=\"col1\">\n",
    "\n",
    "*SUM-Funktion* summiert eine Spalte numerisch auf:\n",
    "```sql\n",
    "SELECT SUM(Einwohner) FROM Gemeinden\n",
    "```\n",
    "\n",
    "  </div>\n",
    "  <div class=\"col1\"> \n",
    "\n",
    "    *SUM: 17.438*\n",
    "\n",
    "  </div>\n",
    "</div>\n"
   ]
  },
  {
   "cell_type": "markdown",
   "metadata": {
    "editable": true,
    "slideshow": {
     "slide_type": "subslide"
    },
    "tags": [
     "remove-cell"
    ]
   },
   "source": [
    "## Bedingte Aggregation - in SQL\n",
    "\n",
    "- Aggregiert man nach einem bestimmten Attribut, dann werden nur jeweils jene Tupel zusammengefasst (summiert, gezählt, gemittelt,…) die den gleichen Attributwert haben\n",
    "- Hierfür ist in SQL der `GROUP BY` Befehl zuständig\n",
    "\n",
    "*Beispiel:* Eine Tabelle Mitarbeiter enthält Honorarzahlungen an Mitarbeiter, pro Zahlung ist dabei eine Zeile angelegt. Man will nun das gemittelte Honorar für jeden Mitarbeiter ausgeben lassen.\n",
    "\n",
    "Gegeben die Relation Mitarbeiter{MitarbeiterID, Name, Honorar}\n",
    "\n",
    "```sql\n",
    "SELECT MitarbeiterID, Name, AVG(Honorar) \n",
    "FROM Mitarbeiter\n",
    "GROUP BY MitarbeiterID\n",
    "```"
   ]
  },
  {
   "cell_type": "markdown",
   "metadata": {
    "editable": true,
    "slideshow": {
     "slide_type": "subslide"
    },
    "tags": [
     "remove-cell"
    ]
   },
   "source": [
    "## Weitere Operationen: Sortierung & Anzahl\n",
    "\n",
    "*Sortierung:*\n",
    "```sql\n",
    "SELECT * FROM Gemeinden \n",
    "ORDER BY Einwohner DESC\n",
    "```\n",
    "\n",
    "<br/>\n",
    "- `ORDER BY` mit `ASC` (aufsteigend) oder `DESC` (absteigend)\n",
    "\n",
    "<br/>\n",
    "*Begrenzung der Ergebnismenge:*\n",
    "```sql\n",
    "SELECT * FROM Gemeinden \n",
    "ORDER BY Einwohner DESC \n",
    "LIMIT 2\n",
    "```\n",
    "\n",
    "<br/>\n",
    "- `LIMIT` schneidet die Ergebnistabelle nach einer gewissen Anzahl an Elementen ab\n",
    "- Hier: Die zwei Gemeinden mit der höchsten Einwohnerzahl"
   ]
  },
  {
   "cell_type": "markdown",
   "metadata": {
    "editable": true,
    "slideshow": {
     "slide_type": "subslide"
    },
    "tags": [
     "remove-cell"
    ]
   },
   "source": [
    "## Kombination von Bedingungen\n",
    "\n",
    "Bedingungen können wie in Python mit `AND` und `OR` kombiniert werden:\n",
    "\n",
    "<div class=\"flex-row\">\n",
    "  <div class=\"col1\">\n",
    "\n",
    "```sql\n",
    "SELECT * FROM Bauwerke \n",
    "NATURAL JOIN Gemeinden\n",
    "WHERE Einwohner > 5000 AND Bauwerkstyp = \"Hotel\"\n",
    "```\n",
    "\n",
    "  </div>\n",
    "  <div class=\"col1\"> \n",
    "\n",
    "*Ergebnis:*\n",
    "| BauwerksID | Bauwerkstyp | GemeindeID | Name | Einwohner |\n",
    "|--|--|--|--|--|\n",
    "| 5001 | Hotel | 1 | Dummerstorf | 7.329 |\n",
    "\n",
    "  </div>\n",
    "</div>"
   ]
  },
  {
   "cell_type": "markdown",
   "metadata": {
    "editable": true,
    "slideshow": {
     "slide_type": "subslide"
    },
    "tags": [
     "remove-cell"
    ]
   },
   "source": [
    "## Ausblick: SQL - Mehr als eine Anfragesprache\n",
    "\n",
    "*Bisher:* Nur ein einzelner Aspekt von SQL (`SELECT` …)\n",
    "\n",
    "SQL bietet weit mehr Funktionalitäten:\n",
    "- *DML (Data Manipulation Language):*\n",
    "  - Daten aus Tabellen anfragen und modifizieren (`SELECT, UPDATE, DELETE` ...)\n",
    "\n",
    "- *DDL (Data Definition Language):*\n",
    "  - Definieren und Verwalten von Schemas und Tabellen (`CREATE, ALTER, DROP` …)\n",
    "\n",
    "- *DCL (Data Control Language):*\n",
    "  - Nutzerzugriffsrechte (`GRANT, REVOKE` …)\n",
    "  - Kontrollieren von Transaktionen (`COMMIT, ROLLBACK` …)\n"
   ]
  },
  {
   "cell_type": "markdown",
   "metadata": {
    "editable": true,
    "slideshow": {
     "slide_type": "skip"
    },
    "tags": []
   },
   "source": [
    "## Quiz\n",
    "\n",
    "\n",
    "```{quizdown}\n",
    "    ---\n",
    "    shuffleQuestions: true\n",
    "    shuffleAnswers: true\n",
    "    ---\n",
    "\n",
    "    ### Welche Python-Pakete werden zum Laden von CSV-Daten aus dem Internet verwendet?\n",
    "\n",
    "    - [x] `urllib` und `pandas`\n",
    "    - [ ] `requests` und `numpy`\n",
    "    - [ ] `json` und `matplotlib`\n",
    "    - [ ] `sqlite3` und `os`\n",
    "\n",
    "    ### Was ist SQL?\n",
    "    - [x] Eine Sprache zur Abfrage und Manipulation von Datenbanken\n",
    "    - [ ] Ein Programm zur Datenvisualisierung\n",
    "    - [ ] Eine Programmiersprache wie Python\n",
    "    - [ ] Ein Datenformat wie JSON\n",
    "\n",
    "    ### Was ist SQLite?\n",
    "\n",
    "    - [x] Eine lokale relationale Datenbank ohne Server\n",
    "    - [ ] Ein Cloud-Datenbank-Service\n",
    "    - [ ] Ein NoSQL-Datenbanksystem\n",
    "    - [ ] Ein Datenvisualisierungstool\n",
    "\n",
    "    ### Sortiere die folgenden Zeilen für das Speichern einer Pandas-Tabelle in SQLite:\n",
    "\n",
    "    ```python\n",
    "    import sqlite3\n",
    "    import pandas as pd\n",
    "    ```\n",
    "    1. `df = pd.DataFrame({'col1': [1, 2], 'col2': [3, 4]})`\n",
    "    2. `con = sqlite3.connect(\"test.sqlite\")`\n",
    "    3. `df.to_sql(\"tabelle\", con, if_exists=\"replace\")`\n",
    "\n",
    "    ### Welcher Fehler steckt in diesem Beispiel?\n",
    "\n",
    "    ```python\n",
    "    con = sqlite3.connect(\"test.sqlite\")\n",
    "    df.to_sql(\"tabelle\", con, if_exists=\"append\")\n",
    "    ```\n",
    "\n",
    "    - [ ] `sqlite3` ist nicht importiert\n",
    "    - [ ] Der Datenbankname ist zu kurz\n",
    "    - [x] Kein Fehler - der Code ist korrekt\n",
    "    - [ ] `to_sql` existiert nicht\n",
    "\n",
    "    ### Was macht der SQL-Befehl `SELECT * FROM baustellen;`?\n",
    "\n",
    "    - [ ] Löscht alle Daten aus der Tabelle\n",
    "    - [x] Gibt alle Spalten und Zeilen der Tabelle zurück\n",
    "    - [ ] Erstellt eine neue Tabelle\n",
    "    - [ ] Zählt die Zeilen in der Tabelle\n",
    "\n",
    "\n",
    "    ### Wie führt man einen SQL-Befehl in Python aus?\n",
    "\n",
    "    - [x] Mit `cur.execute(sql)` nach Erstellung eines Cursors\n",
    "    - [ ] Mit `con.run(sql)`\n",
    "    - [ ] Mit `sqlite3.query(sql)`\n",
    "    - [ ] Mit `pd.sql(sql)`\n",
    "\n",
    "\n",
    "    ### Sortiere die folgenden Zeilen für eine SQL-Abfrage:\n",
    "\n",
    "    ```python\n",
    "    con = sqlite3.connect(\"test.sqlite\")\n",
    "    ```\n",
    "\n",
    "    1. `cur = con.cursor()`\n",
    "    2. `sql = 'SELECT * FROM tabelle;'`\n",
    "    3. `for row in cur.execute(sql):`\n",
    "    4. `    print(row)`\n",
    "\n",
    "    ### Welcher SQL-Befehl filtert Baustellen mit Baubeginn ab 2023?\n",
    "\n",
    "    - [ ] `FILTER baubeginn >= '2023-01-01'`\n",
    "    - [x] `WHERE baubeginn >= '2023-01-01 00:00:00+01'`\n",
    "    - [ ] `IF baubeginn >= '2023-01-01'`\n",
    "    - [ ] `SELECT baubeginn >= '2023-01-01'`\n",
    "\n",
    "    ### Wie verknüpft man mehrere Bedingungen in SQL?\n",
    "\n",
    "    - [x] Mit `AND`, `OR`, `NOT`\n",
    "    - [ ] Mit `&&`, `||`, `!`\n",
    "    - [ ] Mit `+`, `-`, `*`\n",
    "    - [ ] Mit `COMBINE`, `MERGE`, `JOIN`\n",
    "\n",
    "\n",
    "    ### Welcher Fehler steckt in diesem SQL-Beispiel?\n",
    "\n",
    "    ```sql\n",
    "    SELECT * FROM baustellen\n",
    "    WHERE baubeginn = '2023-01-01' AND bauende = '2024-01-01'\n",
    "    ```\n",
    "\n",
    "    - [ ] `AND` ist nicht erlaubt\n",
    "    - [ ] Datumsformat ist falsch\n",
    "    - [x] Kein Fehler - der Code ist korrekt\n",
    "    - [ ] `WHERE` muss am Ende stehen\n",
    "\n",
    "\n",
    "    ### Was macht die SQL-Funktion `count(*)`?\n",
    "\n",
    "    - [ ] Summiert alle Werte\n",
    "    - [x] Zählt die Anzahl der Zeilen\n",
    "    - [ ] Findet den Maximalwert\n",
    "    - [ ] Berechnet den Durchschnitt\n",
    "\n",
    "\n",
    "    ### Welche Aggregatfunktionen gibt es in SQL?\n",
    "\n",
    "    - [x] `min()`, `max()`, `avg()`, `sum()`, `count()`\n",
    "    - [ ] `first()`, `last()`, `middle()`\n",
    "    - [ ] `add()`, `subtract()`, `multiply()`\n",
    "    - [ ] `top()`, `bottom()`, `center()`\n",
    "\n",
    "\n",
    "    ### Sortiere die folgenden Teile einer SQL-Aggregationsabfrage:\n",
    "\n",
    "    1. `SELECT sparte, count(*), avg(baudauer)`\n",
    "    2. `FROM baustellen`\n",
    "    3. `GROUP BY sparte`\n",
    "\n",
    "\n",
    "    ### Was macht `GROUP BY sparte` in einer SQL-Abfrage?\n",
    "\n",
    "    - [ ] Sortiert nach Sparte\n",
    "    - [x] Fasst Zeilen mit gleicher Sparte zusammen\n",
    "    - [ ] Filtert nach Sparte\n",
    "    - [ ] Löscht doppelte Sparten\n",
    "\n",
    "\n",
    "    ### Wie sortiert man Ergebnisse in SQL absteigend?\n",
    "\n",
    "    - [ ] `SORT BY spalte DOWN`\n",
    "    - [x] `ORDER BY spalte DESC`\n",
    "    - [ ] `ARRANGE BY spalte REVERSE`\n",
    "    - [ ] `DESCEND BY spalte`\n",
    "\n",
    "\n",
    "    ### Was bewirkt `LIMIT 3` in einer SQL-Abfrage?\n",
    "\n",
    "    - [ ] Begrenzt auf 3 Spalten\n",
    "    - [x] Gibt maximal 3 Ergebniszeilen zurück\n",
    "    - [ ] Sortiert die ersten 3 Einträge\n",
    "    - [ ] Filtert nach Werten kleiner 3\n",
    "\n",
    "\n",
    "    ### Welcher Fehler steckt in diesem SQL-Beispiel?\n",
    "\n",
    "    ```sql\n",
    "    SELECT sparte, count(*)\n",
    "    FROM baustellen\n",
    "    ORDER BY count(*)\n",
    "    GROUP BY sparte\n",
    "    ```\n",
    "\n",
    "    - [x] `ORDER BY` muss nach `GROUP BY` stehen\n",
    "    - [ ] `count(*)` kann nicht sortiert werden\n",
    "    - [ ] `GROUP BY` ist falsch positioniert\n",
    "    - [ ] Es fehlt ein `WHERE`\n",
    "\n",
    "\n",
    "    ### Was macht ein `JOIN` in SQL?\n",
    "\n",
    "    - [ ] Kombiniert Spalten einer Tabelle\n",
    "    - [x] Verknüpft Daten aus mehreren Tabellen\n",
    "    - [ ] Sortiert Tabellendaten\n",
    "    - [ ] Löscht doppelte Einträge\n",
    "\n",
    "\n",
    "    ### Warum verwendet man Tabellenpräfixe wie `b.spalte` bei JOINs?\n",
    "\n",
    "    - [ ] Zur Verschönerung des Codes\n",
    "    - [x] Zur eindeutigen Identifikation bei gleichnamigen Spalten\n",
    "    - [ ] Zur Beschleunigung der Abfrage\n",
    "    - [ ] Zur Fehlerbehandlung\n",
    "\n",
    "\n",
    "    ### Was macht `DISTINCT` in einer SQL-Abfrage?\n",
    "\n",
    "    - [ ] Sortiert die Ergebnisse\n",
    "    - [ ] Begrenzt die Anzahl der Ergebnisse\n",
    "    - [x] Entfernt doppelte Zeilen aus den Ergebnissen\n",
    "    - [ ] Verbindet mehrere Tabellen\n",
    "\n",
    "    ### Was ist der Unterschied zwischen INNER JOIN und LEFT JOIN?\n",
    "    - [x] INNER JOIN gibt nur übereinstimmende Zeilen zurück, LEFT JOIN alle Zeilen der linken Tabelle\n",
    "    - [ ] LEFT JOIN gibt nur übereinstimmende Zeilen zurück, INNER JOIN alle Zeilen der linken Tabelle\n",
    "    - [ ] Es gibt keinen Unterschied, beide sind gleich\n",
    "    - [ ] INNER JOIN ist schneller als LEFT JOIN\n",
    "\n",
    "\n",
    "    ### Sortiere die folgenden Teile einer JOIN-Abfrage:\n",
    "\n",
    "    1. `SELECT b.spalte1, a.spalte2`\n",
    "    2. `FROM baustellen AS b`\n",
    "    3. `JOIN adressenliste AS a`\n",
    "    4. `WHERE b.id = a.id`\n",
    "\n",
    "\n",
    "    ### Was ist der Unterschied zwischen verschiedenen JOIN-Typen?\n",
    "\n",
    "    - [x] Sie bestimmen, welche Zeilen bei fehlenden Übereinstimmungen zurückgegeben werden\n",
    "    - [ ] Sie beeinflussen die Geschwindigkeit der Abfrage\n",
    "    - [ ] Sie ändern die Sortierung der Ergebnisse\n",
    "    - [ ] Sie bestimmen die Anzahl der verknüpften Tabellen\n",
    "\n",
    "\n",
    "    ### Welcher Fehler steckt in diesem JOIN-Beispiel?\n",
    "\n",
    "    ```sql\n",
    "    SELECT * FROM baustellen\n",
    "    NATURAL JOIN adressenliste, gemeinden\n",
    "    ```\n",
    "\n",
    "    - [ ] `NATURAL JOIN` existiert nicht\n",
    "    - [ ] Zu viele Tabellen im JOIN\n",
    "    - [x] Potentielle Kreuzverknüpfung durch mehrere Tabellen ohne explizite Bedingungen\n",
    "    - [ ] Falsche Syntax bei `NATURAL JOIN`\n",
    "\n",
    "\n",
    "```"
   ]
  },
  {
   "cell_type": "markdown",
   "metadata": {
    "slideshow": {
     "slide_type": "slide"
    },
    "tags": [
     "remove-cell"
    ]
   },
   "source": [
    "<div class=\"vslide\">\n",
    "  <div class=\"vslide-title\">\n",
    "    <p style=\"font-family: Protomolecule; font-size: 2.3em; margin: 0px auto; text-align: center; width: 100%;\">fragen?</p>\n",
    "  </div>\n",
    "  <script>setSectionBackground('#000000', 'images/mj_questions.mp4');</script>\n",
    "</div>"
   ]
  }
 ],
 "metadata": {
  "kernelspec": {
   "display_name": "Python 3 (ipykernel)",
   "language": "python",
   "name": "python3"
  },
  "language_info": {
   "codemirror_mode": {
    "name": "ipython",
    "version": 3
   },
   "file_extension": ".py",
   "mimetype": "text/x-python",
   "name": "python",
   "nbconvert_exporter": "python",
   "pygments_lexer": "ipython3",
   "version": "3.12.10"
  },
  "rise": {
   "auto_select": "none",
   "center": false,
   "enable_chalkboard": true,
   "header": "<img src=\"images/pd_logo.svg\" class=\"header_title_logo\"><img src=\"images/ai4sc_logo_v2.svg\" class=\"header_ai4sc_logo\">",
   "scroll": true,
   "show_buttons_on_startup": false,
   "slideNumber": true,
   "theme": "white"
  }
 },
 "nbformat": 4,
 "nbformat_minor": 4
}
