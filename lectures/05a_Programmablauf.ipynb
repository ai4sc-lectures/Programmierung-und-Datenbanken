{
 "cells": [
  {
   "cell_type": "markdown",
   "id": "58a98a18",
   "metadata": {
    "slideshow": {
     "slide_type": "slide"
    },
    "tags": [
     "remove-cell"
    ]
   },
   "source": [
    "<div class=\"vslide\">\n",
    "  <div class=\"vslide-title\">\n",
    "    <p style=\"font-family: Protomolecule; font-size: 2.3em; line-height: 90%; margin: 0px auto; text-align: center; width: 100%;\"><span style=\"letter-spacing: .04rem;\">programmierung</span><br><span style=\"letter-spacing: .0rem;\">und datenbanken</span></p>\n",
    "<p class=\"author\" style=\"font-family: Protomolecule; margin: 0px auto;  text-align: center; width: 100%; font-size: 1.2em;\">Joern Ploennigs</p>\n",
    "<p class=\"subtitle\" style=\"font-family: Protomolecule; margin: 1em auto; text-align: center; width: 100%; font-size: 1.2em;\">Programmablauf</p>\n",
    "  </div>\n",
    "<script>\n",
    "  function setSectionBackground(c,v){\n",
    "    let e=document.currentScript.previousElementSibling;\n",
    "    while(e&&e.tagName!=='SECTION')e=e.parentElement;\n",
    "    if(e){\n",
    "      if(c)e.setAttribute('data-background-color',c);\n",
    "      if(v){\n",
    "        e.setAttribute('data-background-video',v);\n",
    "        e.setAttribute('data-background-video-loop','true');\n",
    "        e.setAttribute('data-background-video-muted','true');\n",
    "      }\n",
    "    }\n",
    "  }\n",
    "  setSectionBackground('#000000', 'images/05a_Programmablauf/mj_title.mp4');\n",
    "</script>\n",
    "<style>\n",
    ".flex-row{display:flex; gap:1rem; align-items:flex-start; justify-content:space-between;}\n",
    ".flex-row .col1{flex:1; min-width:10px}\n",
    ".flex-row .col2{flex:2; min-width:10px}\n",
    ".flex-row .col3{flex:3; min-width:10px}\n",
    ".flex-row .col4{flex:4; min-width:10px}\n",
    ".flex-row .col5{flex:5; min-width:10px}\n",
    ".flex-row .col6{flex:6; min-width:10px}\n",
    ".flex-row .col7{flex:7; min-width:10px}\n",
    "</style>\n",
    "</div>"
   ]
  },
  {
   "cell_type": "markdown",
   "id": "6114743a",
   "metadata": {
    "slideshow": {
     "slide_type": "skip"
    }
   },
   "source": [
    "# Programmablauf"
   ]
  },
  {
   "cell_type": "markdown",
   "id": "bbd92669",
   "metadata": {
    "slideshow": {
     "slide_type": "skip"
    }
   },
   "source": [
    "![](images/05a_Programmablauf/mj_title.png)\n",
    "\n",
    "> A fool with a tool is still a fool.\n",
    ">\n",
    "> - Grady Booch"
   ]
  },
  {
   "cell_type": "markdown",
   "id": "3b291148",
   "metadata": {
    "slideshow": {
     "slide_type": "skip"
    }
   },
   "source": [
    "## <a href=\"/lec_slides/05a_Programmablauf.slides.html\">Folien</a>\n",
    "<iframe src=\"/lec_slides/05a_Programmablauf.slides.html\" width=\"750\" height=\"500\"></iframe>"
   ]
  },
  {
   "cell_type": "markdown",
   "id": "e645335c",
   "metadata": {
    "slideshow": {
     "slide_type": "slide"
    },
    "tags": [
     "remove-cell"
    ]
   },
   "source": [
    "## Ablauf\n",
    "\n",
    "![](images/partA_6.svg)"
   ]
  },
  {
   "cell_type": "markdown",
   "id": "267480c3",
   "metadata": {
    "slideshow": {
     "slide_type": "skip"
    }
   },
   "source": [
    "\n",
    "Die wichtigste Fähigkeit beim Programmieren ist es, ein Problem der echten Welt in einzelne Schritte zu übersetzen und zu kommunizieren. Ein Werkzeug zum Darstellen dieser Schritte sind \"Programmablaufpläne\" die allgemein auch als \"Flussdiagramme\" bezeichnet werden. Diese Pläne helfen dabei, die Struktur und Logik des Programms zu verstehen und zu optimieren."
   ]
  },
  {
   "cell_type": "markdown",
   "id": "76d52e7f",
   "metadata": {
    "slideshow": {
     "slide_type": "skip"
    }
   },
   "source": [
    "# Programmablaufpläne (Flussdiagramme)\n",
    "\n",
    "Ein Werkzeug zum Darstellen dieser Schritte sind \"Programmablaufpläne\" die allgemein auch als \"Flussdiagramme\" bezeichnet werden.\n",
    "\n",
    "![Flussdiagramm Beispiel](https://mermaid.ink/svg/pako:eNplkbFuwyAURX8FMSVSouxWlSqJHQ_tVA8ZsAcKzwEZniMDQ2X534thaWUmuPccngQzFaMEWtDnxF-KfH61SOJyO9Z4PvluT47HM7nk9MIeMQPCQ__2PZ0foBVyoTxgl7CanWowkqjRAJ66LNWpus1XcB7c6tXghAIc3pdM3CJB4mWYyJKxSuMQZwCutLapM1zGMd0foxnFANmpts6HAS0DPt1WvAahknbfamv3zygTCTtWoYRun8Mqh_lwzwd6oBYmy7WMrzmvVUu9AgstLeJWQs-D8S1tcYkoD35sflDQwk8BDjS8JPdQah7_wdKi58bB8gsH3IB5)\n",
    "\n",
    "\n",
    "Sie bestehen aus einzelnen Elementen, die durch gerichtete Linien in der Ablauffolge verbunden werden. Die Form der Elemente definiert dabei ihre Bedeutung.\n",
    "\n",
    "Sie beinhalten die grundlegenden Bausteine eines Programms. Diese Bausteine sind:\n",
    "- **Anweisungen**: Sie führen Aktionen aus, wie z.B. das Ausgeben von Text oder das Berechnen von Werten.\n",
    "- **Variablen**: Sie speichern Werte, die im Programm verwendet werden.\n",
    "- **Operatoren**: Sie führen Berechnungen oder Vergleiche durch.\n",
    "- **Verzweigungen**: Sie ermöglichen es, Entscheidungen zu treffen und den Programmfluss zu ändern.\n",
    "- **Schleifen**: Sie wiederholen bestimmte Anweisungen, solange eine Bedingung erfüllt ist.\n",
    "- **Funktionen**: Sie kapseln Code in wiederverwendbaren Blöcken."
   ]
  },
  {
   "cell_type": "markdown",
   "id": "6b2eee0d",
   "metadata": {
    "slideshow": {
     "slide_type": "skip"
    }
   },
   "source": [
    "Es gibt Start- und End-Elemente mit runden Ecken. Sie sind die einzigen mit genau einem Ausgang- bzw. genau einem Eingang. Sie werden z.T. weggelassen, wenn Start und Ende z.B. durch die Leserichtung klar erkennbar sind.\n",
    "\n",
    "![Start-/End-Element](https://mermaid.ink/svg/pako:eNoVjTEOgzAQBL9y2gok-ICLVEmXKpQcxQkfAQkbZM4FQvw9zlRbzGoujJtXOHyT7DO9PxypcFR9Z5JsqKltH0Ra9a_odajRIGgKsvjyuf4yw2YNynBlep0kr8bgeBdVsm3dGUc4S1kb5N2L6XORUgtwk6yH3j9tCCps)"
   ]
  },
  {
   "cell_type": "markdown",
   "id": "c09dee24",
   "metadata": {
    "slideshow": {
     "slide_type": "skip"
    }
   },
   "source": [
    "Anweisungen (Statements) werden mit eckigen Elementen dargestellt. Sie können mehrere Eingänge, aber nur einen Ausgang haben. Der Text in dem Element beschreibt die auszuführende Anweisung. Die Ein- und Ausgangsvariablen können an die Pfeile geschrieben werden.\n",
    "\n",
    "![Anweisung](https://mermaid.ink/svg/pako:eNptjzEOgzAQBL9yuiqR4AMuUqVMlRQUmOKEj2DFGGSfhRDi73EgRYpstcWMtLtiOxpGhc9AUw-3u_aQE081NGcoywvAXFcUhIFSBxXb3lPbC_vmIOcD4l34yrI4hgiddU750XMRJYwv3vsvwv8RLHDgMJA1edf6ETRKzwNrVLka7ig50aj9llFKMj4W36KSkLjANBkSvlrKjwZUHbnI2xv_DEvD)"
   ]
  },
  {
   "cell_type": "markdown",
   "id": "d8c47539",
   "metadata": {
    "slideshow": {
     "slide_type": "skip"
    }
   },
   "source": [
    "Eingaben und Ausgaben werden durch Rhomben dargestellt. Hier die Eingabe `Geld holen`.\n",
    "\n",
    "![Eingabe](https://mermaid.ink/svg/pako:eNptj7sKwkAURH_lciuFhPRbWAlprLR0UyzZiQnuI-yjCCH_7hotLJxqYM7AzMq912DBj6DmkS5X6agoHu7UHamuT9TemxZG0-gNXNN98naPCDv2raTFgCINkzHCeYcqpuCf2P0vgv8IV2wRrJp0WbO-C5LTCAvJoliNQWWTJEu3FVTl5G-L61mkkFFxnrVKOE-q_LAsBmUithdoTkdm)"
   ]
  },
  {
   "cell_type": "markdown",
   "id": "a76ae848",
   "metadata": {
    "slideshow": {
     "slide_type": "skip"
    }
   },
   "source": [
    "`if`-Anweisungen werden durch Drachenviereck dargestellt. Sie haben mindestens zwei Ausgänge. Die Bedingung wird in das Viereck geschrieben, die alternativen Werte der Bedingung (meist Ja/Nein) wird an die ausgehenden Pfeile geschrieben.\n",
    "\n",
    "![If-Anweisung](https://mermaid.ink/svg/pako:eNqF0M-KwjAQBvBXGea0Qn2BIApa9eJJDx7MHrLp121pmkj-HKT03c1WWBQE5zR8328uM7B2FVjwr1fXhg5HaSlP-LrQ94zm8yXRZlgjRITFj1_uEXQD263Gh9tkQme0dqJlPnrKT053eDTb12addDPlu_88xJsBBapbY4R1FkWI3nWY9mdSfibbz2T3nnDBPXyv2iq_ZPg7kBwb9JAs8lqhVslEydKOmaoU3elmNYvoEwpO10pFlK3Kz-xZ1MoEjHdF83Dg)"
   ]
  },
  {
   "cell_type": "markdown",
   "id": "1ac91ffe",
   "metadata": {
    "slideshow": {
     "slide_type": "skip"
    }
   },
   "source": [
    "Unterprogramme, wie z.B. Funktionsaufrufe, werden durch eckige Elemente mit doppelter Linie dargestellt.\n",
    "\n",
    "![Unterprogramm](https://mermaid.ink/svg/pako:eNptjzsOwjAQRK-y2gqkcAELpQpUVFBQxCkWvCFW7E3k2EUU5e6YT0HBVFO8J80seB8Mo8JHoLGD01kL5EybGpot7HYlQFXXBys9pZZlfwul9XBlK44MS9N8-OqNHrP09ePsGCZorXNKBuFiimHo-d1_keN_BAv0HDxZk6ctL0Fj7NizRpWr4ZaSixq1rBmlFIfLLHdUMSQuMI2GIleW8imPqiU38foEAr9M6g)"
   ]
  },
  {
   "cell_type": "markdown",
   "id": "8ffc1cc8",
   "metadata": {
    "slideshow": {
     "slide_type": "skip"
    }
   },
   "source": [
    "## Funktionsablauf"
   ]
  },
  {
   "cell_type": "markdown",
   "id": "1f8a7c08",
   "metadata": {
    "slideshow": {
     "slide_type": "skip"
    }
   },
   "source": [
    "Programme können als Abfolge von durchnummerierten Statements betrachtet werden. Diese werden sequenziell (nacheinander) Statement nach Statement ausgeführt, in der Reihenfolge wie es im Programm definiert wurde. Werden Funktionen aufgerufen, so wird der in der Funktion definierte code an der Stelle des Aufrufs aufgeführt. Das folgende Beispiel soll dies verdeutlichen. Es definiert ein einfaches Skript was den Pythagoras zweier Variablen `x` und `y` mit Hilfe einer Funktion berechnet. Um den Programablauf zu verdeutlichen wurde jede Zeile (bis auf Zeile 4, da dies im Syntax der Funktionsdefinition nicht funktioniert) mit einem Printstatement der Zeile erweitert."
   ]
  },
  {
   "cell_type": "code",
   "execution_count": null,
   "id": "a8c88e48",
   "metadata": {
    "slideshow": {
     "slide_type": "skip"
    }
   },
   "outputs": [],
   "source": [
    "import math\n",
    "x = 3; print(\"Zeile 1\")\n",
    "y = 4; print(\"Zeile 2\")\n",
    "\n",
    "def pythagoras(a, b):\n",
    "  res = math.sqrt((a**2)+(b**2));  print(\"Zeile 5\")\n",
    "  return res;  print(\"Zeile 6\");\n",
    "\n",
    "p_xy = pythagoras(x, y);  print(\"Zeile 8\")\n",
    "print(\"Zeile 10\")"
   ]
  },
  {
   "cell_type": "markdown",
   "id": "8091d3a8",
   "metadata": {
    "slideshow": {
     "slide_type": "skip"
    }
   },
   "source": [
    "Nach Ausführung des Programms erkennen wir das die Zeilen 1 bis 3 in sequentieller Reihenfolge ausgeführt werden. Dann überspringt die Ausführung die Zeilen 5 und 6, weil diese die Funktion `pythagoras` definiert, diese aber bisher noch nicht aufgerufen worden ist. Die Funktion wird erst am Anfang von Zeile 8 aufgerufen, weshalb als nächstes die Zeile 5 vor Zeile 8 ausgeführt wird. Es fehlt dann die Ausgabe der 'Zeile 6', weil die Funktion bereits mit dem `return` beendet worden ist. Da die Funktion nochmals mit vertauschten Parametern in Zeile 9 aufgerufen wird, wird wieder Zeile 5 ausgegeben und dann erst Zeile 9 und 10.\n",
    "\n",
    "Damit sehen wir sowohl, dass das Programm sequenziell von oben nach unten ausgeführt worden ist. Da die Funktionen allerdings wiederholbaren Statements kanzeln, werden diese bei Aufruf mehrmals ausgeführt."
   ]
  },
  {
   "cell_type": "markdown",
   "id": "0941d447",
   "metadata": {
    "slideshow": {
     "slide_type": "skip"
    }
   },
   "source": [
    "\n",
    "## Programmablauf - Beispiel\n",
    "\n",
    "```python\n",
    "1. x = 3                    # Zuweisung\n",
    "2. y = 4                    # Zuweisung\n",
    "3.\n",
    "4. def pythagoras(a, b):    # Abspeichern der Funktion\n",
    "5.     return sqrt((a**2)+(b**2))  # Berechnung\n",
    "6.\n",
    "7. z = pythagoras(x, y)     # Funktionsaufruf, Zuweisung zu z\n",
    "8. print(z)                 # Variablenausgabe\n",
    "```\n",
    "\n",
    "**Output:** `5`\n"
   ]
  },
  {
   "cell_type": "markdown",
   "id": "401bbdef-1517-41f3-816a-b6e78622a578",
   "metadata": {
    "slideshow": {
     "slide_type": "skip"
    }
   },
   "source": [
    "## Quiz\n",
    "\n",
    "```{quizdown}\n",
    "\t---\n",
    "\tshuffleQuestions: true\n",
    "\tshuffleAnswers: true\n",
    "\t---\n",
    "\n",
    "    ### Was ist der Hauptzweck von Programmablaufplänen?\n",
    "    - [x] Die Übersetzung eines realen Problems in einzelne Programmschritte\n",
    "    - [ ] Das Schreiben von effizientem Code\n",
    "    - [ ] Die Dokumentation fertiger Programme\n",
    "    - [ ] Die Visualisierung von Datenstrukturen\n",
    "\n",
    "    ### Welche Form haben Start- und End-Elemente in Flussdiagrammen?\n",
    "    - [x] Elemente mit runden Ecken\n",
    "    - [ ] Rechteckige Elemente\n",
    "    - [ ] Rhomben\n",
    "    - [ ] Kreise\n",
    "\n",
    "    ### Welche Form haben Anweisungen (Statements) in Flussdiagrammen?\n",
    "    - [x] Rechteckige Elemente\n",
    "    - [ ] Rhomben\n",
    "    - [ ] Kreise\n",
    "    - [ ] Elemente mit runden Ecken\n",
    "\n",
    "    ### Sortiere die folgenden Elemente eines Flussdiagramms nach ihrer typischen Reihenfolge:\n",
    "    1. `Start (abgerundetes Rechteck)`\n",
    "    2. `Eingabe (Rhombus)`\n",
    "    3. `Verarbeitung (Rechteck)`\n",
    "    4. `Entscheidung (Drachenviereck)`\n",
    "    5. `Ende (abgerundetes Rechteck)`\n",
    "\n",
    "    ### Welcher Fehler steckt in diesem Flussdiagramm?\n",
    "    ```mermaid\n",
    "    graph TD\n",
    "        A[Start] --> B{Eingabe}\n",
    "        B --> C[Verarbeitung]\n",
    "        C --> D{Entscheidung}\n",
    "        D --> B\n",
    "    ```\n",
    "    - [x] Eingabe wird mit falscher Form (Rhombus statt Parallelogramm) dargestellt\n",
    "    - [ ] Die Pfeilrichtung ist falsch\n",
    "    - [ ] Start-Element fehlt\n",
    "    - [ ] Entscheidungen können nicht zu Eingaben zurückführen\n",
    "\n",
    "    ### Welche Form wird für if-Anweisungen verwendet?\n",
    "    - [x] Drachenviereck\n",
    "    - [ ] Rechteck\n",
    "    - [ ] Rhombus\n",
    "    - [ ] Kreis\n",
    "\n",
    "    ### Was charakterisiert Unterprogramm-Elemente in Flussdiagrammen?\n",
    "    - [x] Rechteckige Form mit doppelter Linie\n",
    "    - [ ] Kreisförmige Form\n",
    "    - [ ] Gestrichelte Linien\n",
    "    - [ ] Schattierte Rechtecke\n",
    "\n",
    "```"
   ]
  },
  {
   "cell_type": "markdown",
   "id": "ca139770",
   "metadata": {
    "slideshow": {
     "slide_type": "slide"
    },
    "tags": [
     "remove-cell"
    ]
   },
   "source": [
    "<div class=\"vslide\">\n",
    "  <div class=\"vslide-title\">\n",
    "    <p style=\"font-family: Protomolecule; font-size: 2.3em; margin: 0px auto; text-align: center; width: 100%;\">fragen?</p>\n",
    "  </div>\n",
    "  <script>setSectionBackground('#000000', 'images/mj_questions.mp4');</script>\n",
    "</div>"
   ]
  }
 ],
 "metadata": {
  "kernelspec": {
   "display_name": "base",
   "language": "python",
   "name": "python3"
  },
  "language_info": {
   "codemirror_mode": {
    "name": "ipython",
    "version": 3
   },
   "file_extension": ".py",
   "mimetype": "text/x-python",
   "name": "python",
   "nbconvert_exporter": "python",
   "pygments_lexer": "ipython3",
   "version": "3.12.2"
  }
 },
 "nbformat": 4,
 "nbformat_minor": 5
}
