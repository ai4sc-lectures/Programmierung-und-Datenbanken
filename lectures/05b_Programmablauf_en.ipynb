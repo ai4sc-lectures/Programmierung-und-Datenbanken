{
 "cells": [
  {
   "cell_type": "markdown",
   "id": "58a98a18",
   "metadata": {
    "editable": true,
    "slideshow": {
     "slide_type": "slide"
    },
    "tags": [
     "remove-cell",
     "translated_en"
    ],
    "translation": {
     "lang": "de",
     "src_hash": "063e691a4e9022975c6acfd8c691fdff86c0e5b1186000b322754e4518540b82",
     "updated_at_iso": "2025-08-16T10:51:48.147676+00:00"
    }
   },
   "source": [
    "<div class=\"vslide\">\n",
    "  <div class=\"vslide-title\">\n",
    "    <p style=\"font-family: Protomolecule; font-size: 2.3em; line-height: 90%; margin: 0px auto; text-align: center; width: 100%;\"><span style=\"letter-spacing: .04rem;\">Programming</span><br><span style=\"letter-spacing: .0rem;\">Databases</span></p>\n",
    "<p class=\"author\" style=\"font-family: Protomolecule; margin: 0px auto;  text-align: center; width: 100%; font-size: 1.2em;\">Joern Ploennigs</p>\n",
    "<p class=\"subtitle\" style=\"font-family: Protomolecule; margin: 1em auto; text-align: center; width: 100%; font-size: 1.2em;\">Program Flow</p>\n",
    "    <figcaption>Midjourney: Doves to Blocks, ref. M. C. Escher</figcaption>\n",
    "  </div>\n",
    "<script>\n",
    "  function setSectionBackground(c, v, w){\n",
    "    let e = document.currentScript.previousElementSibling;\n",
    "    while (e && e.tagName !== 'SECTION') e = e.parentElement;\n",
    "    if (!e) return;\n",
    "    if (c) e.setAttribute('data-background-color', c);\n",
    "    if (v) {\n",
    "      e.setAttribute('data-background-video', v);\n",
    "      e.setAttribute('data-background-video-loop', 'true');\n",
    "      e.setAttribute('data-background-video-muted', 'true');\n",
    "    }\n",
    "    if (w) {\n",
    "      const d = e.querySelector('div');\n",
    "      if (d) d.style.backgroundColor = 'rgba(255,255,255,0.6)';\n",
    "    }\n",
    "  }\n",
    "  setSectionBackground('#000000', 'images/05b_Programmablauf/mj_title.mp4');\n",
    "</script>\n",
    "<style>\n",
    ".flex-row{display:flex; gap:2rem; align-items:flex-start; justify-content:space-between;}\n",
    ".flex-row .col1{flex:1; min-width:10px}\n",
    ".flex-row .col2{flex:2; min-width:10px}\n",
    ".flex-row .col3{flex:3; min-width:10px}\n",
    ".flex-row .col4{flex:4; min-width:10px}\n",
    ".flex-row .col5{flex:5; min-width:10px}\n",
    ".flex-row .col6{flex:6; min-width:10px}\n",
    ".flex-row .col7{flex:7; min-width:10px}\n",
    ".vcent{display:flex; align-items:center; justify-content:center}\n",
    "</style>\n",
    "</div>"
   ]
  },
  {
   "cell_type": "markdown",
   "id": "6114743a",
   "metadata": {
    "slideshow": {
     "slide_type": "skip"
    },
    "tags": [
     "translated_en"
    ],
    "translation": {
     "lang": "de",
     "src_hash": "da3923cb1ed703d46517480c8c319df56faaa7345bfb7b8aae72f376245da5a1",
     "updated_at_iso": "2025-08-16T10:51:50.266180+00:00"
    }
   },
   "source": [
    "# Program Flow"
   ]
  },
  {
   "cell_type": "markdown",
   "id": "bbd92669",
   "metadata": {
    "slideshow": {
     "slide_type": "skip"
    },
    "tags": [
     "translated_en"
    ],
    "translation": {
     "lang": "de",
     "src_hash": "c4cd2a3fca42e921da11bcbba0c049dfc88e03d4fd55876f31ca04e13ce5803a",
     "updated_at_iso": "2025-08-16T10:51:54.715303+00:00"
    }
   },
   "source": [
    "<figure class=\"mj-tile-band\">\n",
    "    <img src='images/05b_Programmablauf/mj_title_band.jpg'>\n",
    "    <figcaption>Midjourney: Doves to Blocks, ref. M. C. Escher</figcaption>\n",
    "</figure>\n",
    "\n",
    "> A fool with a tool is still a fool.\n",
    ">\n",
    "> — Grady Booch"
   ]
  },
  {
   "cell_type": "markdown",
   "id": "3b291148",
   "metadata": {
    "editable": true,
    "slideshow": {
     "slide_type": "skip"
    },
    "tags": [
     "translated_en"
    ],
    "translation": {
     "lang": "de",
     "src_hash": "4b4631c4e5d6051398d7917280504729138e678c2b44babd8ea1569c7aef2c91",
     "updated_at_iso": "2025-08-16T10:51:59.151113+00:00"
    }
   },
   "source": [
    "## <a href=\"../lec_slides/05b_Programmablauf.slides.html\">Slides</a>/<a href=\"../pdf/slides/05b_Programmablauf.pdf\">PDF</a>\n",
    "<iframe src=\"../lec_slides/05b_Programmablauf.slides.html\" width=\"750\" height=\"500\"></iframe>"
   ]
  },
  {
   "cell_type": "markdown",
   "id": "e645335c",
   "metadata": {
    "editable": true,
    "slideshow": {
     "slide_type": "slide"
    },
    "tags": [
     "remove-cell",
     "translated_en"
    ],
    "translation": {
     "lang": "de",
     "src_hash": "87e9d4b462e721cbe2846d75db398ae3910dd563f57295fef452f0d72e1f4299",
     "updated_at_iso": "2025-08-16T10:52:01.841868+00:00"
    }
   },
   "source": [
    "## Process\n",
    "\n",
    "![](images/partA_6.svg)"
   ]
  },
  {
   "cell_type": "markdown",
   "id": "267480c3",
   "metadata": {
    "slideshow": {
     "slide_type": "skip"
    },
    "tags": [
     "translated_en"
    ],
    "translation": {
     "lang": "de",
     "src_hash": "bcc7afacd5431bfe8704bc67d7f8d58d59664a89935461e8cb887e443c253587",
     "updated_at_iso": "2025-08-16T10:52:08.747686+00:00"
    }
   },
   "source": [
    "The most important skill in programming is to translate a real-world problem into individual steps and communicate it. A tool for representing these steps is 'Programmablaufpläne', commonly also referred to as 'Flussdiagramme'. These diagrams help to understand and optimize the structure and logic of the program."
   ]
  },
  {
   "cell_type": "markdown",
   "id": "76d52e7f",
   "metadata": {
    "editable": true,
    "slideshow": {
     "slide_type": "skip"
    },
    "tags": [
     "translated_en"
    ],
    "translation": {
     "lang": "de",
     "src_hash": "4d5c9815e5b955f39a2276eba9959aea623b042ade88fda6e7ad4876912f648c",
     "updated_at_iso": "2025-08-16T10:52:18.580825+00:00"
    }
   },
   "source": [
    "# Program flowcharts (flow diagrams)\n",
    "\n",
    "A tool for representing these steps is the program flowchart, commonly also referred to as a flowchart.\n",
    "\n",
    "![Flowchart example](https://mermaid.ink/svg/pako:eNplkbFuwyAURX8FMSVSouxWlSqJHQ_tVA8ZsAcKzwEZniMDQ2X534thaWUmuPccngQzFaMEWtDnxF-KfH61SOJyO9Z4PvluT47HM7nk9MIeMQPCQ__2PZ0foBVyoTxgl7CanWowkqjRAJ66LNWpus1XcB7c6tXghAIc3pdM3CJB4mWYyJKxSuMQZwCutLapM1zGMd0foxnFANmpts6HAS0DPt1WvAahknbfamv3zygTCTtWoYRun8Mqh_lwzwd6oBYmy7WMrzmvVUu9AgstLeJWQs-D8S1tcYkoD35sflDQwk8BDjS8JPdQah7_wdKi58bB8gsH3IB5)\n",
    "\n",
    "They consist of individual elements connected by directed lines in the execution order. The shape of the elements defines their meaning.\n",
    "\n",
    "They contain the basic building blocks of a program. These building blocks are:\n",
    "- *Statements*: They perform actions, such as outputting text or calculating values.\n",
    "- *Variables*: They store values that are used by the program.\n",
    "- *Operators*: They perform calculations or comparisons.\n",
    "- *Branches*: They enable making decisions and changing the program flow.\n",
    "- *Loops*: They repeat certain instructions as long as a condition is met.\n",
    "- *Functions*: They encapsulate code in reusable blocks."
   ]
  },
  {
   "cell_type": "markdown",
   "id": "6b2eee0d",
   "metadata": {
    "editable": true,
    "slideshow": {
     "slide_type": "skip"
    },
    "tags": [
     "translated_en"
    ],
    "translation": {
     "lang": "de",
     "src_hash": "6be73e06c2b99a4e95cff686e8884ffea55fdec14687ac668c57d821c200c907",
     "updated_at_iso": "2025-08-16T10:52:26.679652+00:00"
    }
   },
   "source": [
    "There are start- and end-elements with rounded corners. They are the only ones with exactly one outgoing edge or exactly one incoming edge. They are sometimes omitted when the start and end are, for example, clearly recognizable by the reading direction.\n",
    "\n",
    "![Start-/End-Element](https://mermaid.ink/svg/pako:eNoVjTEOgzAQBL9y2gok-ICLVEmXKpQcxQkfAQkbZM4FQvw9zlRbzGoujJtXOHyT7DO9PxypcFR9Z5JsqKltH0Ra9a_odajRIGgKsvjyuf4yw2YNynBlep0kr8bgeBdVsm3dGUc4S1kb5N2L6XORUgtwk6yH3j9tCCps)"
   ]
  },
  {
   "cell_type": "markdown",
   "id": "c09dee24",
   "metadata": {
    "editable": true,
    "slideshow": {
     "slide_type": "skip"
    },
    "tags": [
     "translated_en"
    ],
    "translation": {
     "lang": "de",
     "src_hash": "7297efc51386121c740dc418fcaa3ea4fa27bf75eedd5765eab051fc1a5f7898",
     "updated_at_iso": "2025-08-16T10:52:34.035129+00:00"
    }
   },
   "source": [
    "Instructions (Statements) are represented by square-bracketed elements. They can have multiple inputs but only one output. The text inside the element describes the instruction to be executed. The input and output variables can be written on the arrows.\n",
    "\n",
    "![Instruction](https://mermaid.ink/svg/pako:eNptjzEOgzAQBL9yuiqR4AMuUqVMlRQUmOKEj2DFGGSfhRDi73EgRYpstcWMtLtiOxpGhc9AUw-3u_aQE081NGcoywvAXFcUhIFSBxXb3lPbC_vmIOcD4l34yrI4hgiddU750XMRJYwv3vsvwv8RLHDgMJA1edf6ETRKzwNrVLka7ig50aj9llFKMj4W36KSkLjANBkSvlrKjwZUHbnI2xv_DEvD)"
   ]
  },
  {
   "cell_type": "markdown",
   "id": "d8c47539",
   "metadata": {
    "editable": true,
    "slideshow": {
     "slide_type": "skip"
    },
    "tags": [
     "translated_en"
    ],
    "translation": {
     "lang": "de",
     "src_hash": "868d8d703bc6b98f659e202b3f8d8dc4f532443278bd4f393c0c3d585a7bdfc8",
     "updated_at_iso": "2025-08-16T10:52:40.178826+00:00"
    }
   },
   "source": [
    "Inputs and outputs are represented by rhombuses. Here is the input `Geld holen`.\n",
    "\n",
    "![Input](https://mermaid.ink/svg/pako:eNptj7sKwkAURH_lciuFhPRbWAlprLR0UyzZiQnuI-yjCCH_7hotLJxqYM7AzMq912DBj6DmkS5X6agoHu7UHamuT9TemxZG0-gNXNN98naPCDv2raTFgCINkzHCeYcqpuCf2P0vgv8IV2wRrJp0WbO-C5LTCAvJoliNQWWTJEu3FVTl5G-L61mkkFFxnrVKOE-q_LAsBmUithdoTkdm)"
   ]
  },
  {
   "cell_type": "markdown",
   "id": "a76ae848",
   "metadata": {
    "editable": true,
    "slideshow": {
     "slide_type": "skip"
    },
    "tags": [
     "translated_en"
    ],
    "translation": {
     "lang": "de",
     "src_hash": "7f626b6ae33ca462e7cf336257548da2e4eca119cb1bfa15021090086e27fde6",
     "updated_at_iso": "2025-08-16T10:52:53.806098+00:00"
    }
   },
   "source": [
    "`if` statements are represented by diamond shapes. They have at least two outputs. The condition is written inside the diamond, and the alternative values of the condition (usually Yes/No) are written on the outgoing arrows.\n",
    "\n",
    "![If statement](https://mermaid.ink/svg/pako:eNqF0M-KwjAQBvBXGea0Qn2BIApa9eJJDx7MHrLp121pmkj-HKT03c1WWBQE5zR8328uM7B2FVjwr1fXhg5HaSlP-LrQ94zm8yXRZlgjRITFj1_uEXQD263Gh9tkQme0dqJlPnrKT053eDTb12addDPlu_88xJsBBapbY4R1FkWI3nWY9mdSfibbz2T3nnDBPXyv2iq_ZPg7kBwb9JAs8lqhVslEydKOmaoU3elmNYvoEwpO10pFlK3Kz-xZ1MoEjHdF83Dg)"
   ]
  },
  {
   "cell_type": "markdown",
   "id": "1ac91ffe",
   "metadata": {
    "slideshow": {
     "slide_type": "skip"
    },
    "tags": [
     "translated_en"
    ],
    "translation": {
     "lang": "de",
     "src_hash": "a21a540630d3dc2af8968e198f8b882c5eb81a2f9bd0c274e86d6af1fa1f238e",
     "updated_at_iso": "2025-08-16T10:53:00.314553+00:00"
    }
   },
   "source": [
    "Subroutines, such as function calls, are depicted by square elements with double borders.\n",
    "\n",
    "![Subroutine](https://mermaid.ink/svg/pako:eNptjzsOwjAQRK-y2gqkcAELpQpUVFBQxCkWvCFW7E3k2EUU5e6YT0HBVFO8J80seB8Mo8JHoLGD01kL5EybGpot7HYlQFXXBys9pZZlfwul9XBlK44MS9N8-OqNHrP09ePsGCZorXNKBuFiimHo-d1_keN_BAv0HDxZk6ctL0Fj7NizRpWr4ZaSixq1rBmlFIfLLHdUMSQuMI2GIleW8imPqiU38foEAr9M6g)"
   ]
  },
  {
   "cell_type": "markdown",
   "id": "8ffc1cc8",
   "metadata": {
    "slideshow": {
     "slide_type": "skip"
    },
    "tags": [
     "translated_en"
    ],
    "translation": {
     "lang": "de",
     "src_hash": "59f558b8c85cb608630446f7356f07c768fe1408bc9bfa997abe8e9887f54bec",
     "updated_at_iso": "2025-08-16T10:53:02.803827+00:00"
    }
   },
   "source": [
    "## Function Flow"
   ]
  },
  {
   "cell_type": "markdown",
   "id": "1f8a7c08",
   "metadata": {
    "slideshow": {
     "slide_type": "skip"
    },
    "tags": [
     "translated_en"
    ],
    "translation": {
     "lang": "de",
     "src_hash": "265e75f08652d1dc245bdf6aa82f31b7e4490eec29553b9ff001e90f41652773",
     "updated_at_iso": "2025-08-16T10:53:08.846937+00:00"
    }
   },
   "source": [
    "Programs can be viewed as a sequence of numbered statements. They are executed sequentially (one after another) statement by statement, in the order defined in the program. When functions are called, the code defined inside the function is executed at the point of the call. The following example is intended to illustrate this. It defines a simple script that computes the Pythagoras' theorem for two variables `x` and `y` with the help of a function. To illustrate the program flow, every line (except line 4, since this does not work in the syntax of the function definition) was augmented with a print statement for that line."
   ]
  },
  {
   "cell_type": "code",
   "execution_count": null,
   "id": "a8c88e48",
   "metadata": {
    "slideshow": {
     "slide_type": "skip"
    },
    "tags": [
     "translated_en"
    ],
    "translation": {
     "lang": "de",
     "src_hash": "e10d432c1a25e47c8aa1728eae4512fed0fa429feda92012d43b3cff0836d8c9",
     "updated_at_iso": "2025-08-16T10:53:20.152343+00:00"
    }
   },
   "outputs": [],
   "source": [
    "import math\n",
    "x = 3; print(\"Zeile 1\")\n",
    "y = 4; print(\"Zeile 2\")\n",
    "\n",
    "def pythagoras(a, b):\n",
    "  res = math.sqrt((a*2)+(b*2));  print(\"Zeile 5\")\n",
    "  return res;  print(\"Zeile 6\");\n",
    "\n",
    "p_xy = pythagoras(x, y);  print(\"Zeile 8\")\n",
    "print(\"Zeile 10\")"
   ]
  },
  {
   "cell_type": "markdown",
   "id": "8091d3a8",
   "metadata": {
    "slideshow": {
     "slide_type": "skip"
    },
    "tags": [
     "translated_en"
    ],
    "translation": {
     "lang": "de",
     "src_hash": "eb1e7fd54eebc00512926a9735f3ec6c3ef018443c3183c149e2f930c5ab1cfe",
     "updated_at_iso": "2025-08-16T10:53:31.139723+00:00"
    }
   },
   "source": [
    "After running the program, we observe that lines 1 to 3 are executed in sequential order. Then the execution skips lines 5 and 6, because these define the function `pythagoras`, which has not yet been called. The function is only invoked at the start of line 8, which is why next line 5 is executed before line 8. The output for 'Line 6' is then missing, because the function has already terminated with the `return`. Since the function is called again with swapped parameters on line 9, line 5 is output again and then lines 9 and 10.\n",
    "\n",
    "Thus we see that the program was executed sequentially from top to bottom. However, since the functions are repeatable statements, they are executed multiple times when called."
   ]
  },
  {
   "cell_type": "markdown",
   "id": "0941d447",
   "metadata": {
    "editable": true,
    "slideshow": {
     "slide_type": "slide"
    },
    "tags": [
     "remove-cell",
     "translated_en"
    ],
    "translation": {
     "lang": "de",
     "src_hash": "978f0350ecde1b4f356da318b370ff520f2679d1de7e67e04564553d7ced7155",
     "updated_at_iso": "2025-08-16T10:53:33.467056+00:00"
    }
   },
   "source": [
    "## Program flow - Example"
   ]
  },
  {
   "cell_type": "code",
   "execution_count": null,
   "id": "de8661ca",
   "metadata": {
    "editable": true,
    "slideshow": {
     "slide_type": ""
    },
    "tags": [
     "remove-cell",
     "translated_en"
    ],
    "translation": {
     "lang": "de",
     "src_hash": "fb3e05616ec63f53aa2ac1585492c0bd26c485ce4e2650285eacb151da3842a6",
     "updated_at_iso": "2025-08-16T10:53:43.748135+00:00"
    }
   },
   "outputs": [],
   "source": [
    "x = 3                    # Assignment\n",
    "y = 4                    # Assignment\n",
    "\n",
    "def pythagoras(a, b):    # Storing the function\n",
    "    return math.sqrt((a*2)+(b*2))  # Calculation\n",
    "\n",
    "z = pythagoras(x, y)     # Function call, assign to z\n",
    "print(z)                  # Variable output"
   ]
  },
  {
   "cell_type": "markdown",
   "id": "4bd52e99-4a67-4571-af4b-fa26e04216b8",
   "metadata": {
    "editable": true,
    "slideshow": {
     "slide_type": "slide"
    },
    "tags": [
     "remove-cell",
     "translated_en"
    ],
    "translation": {
     "lang": "de",
     "src_hash": "d5f2eb5a3a629bc128ae9ab85920afdd6a242d9318b69dfb05497c670c455b3b",
     "updated_at_iso": "2025-08-16T10:53:51.064819+00:00"
    }
   },
   "source": [
    "## Defining the Problem\n",
    "\n",
    "- The most important skill in programming is to translate a real-world problem into individual program instructions (i.e., operations on symbols).\n",
    "\n",
    "- *First step:* What are the inputs, what are the outputs of the current problem?\n",
    "\n",
    "- Not unlike how a function is defined!\n",
    "  - Input parameters\n",
    "  - Return value"
   ]
  },
  {
   "cell_type": "markdown",
   "id": "468393c6",
   "metadata": {
    "editable": true,
    "slideshow": {
     "slide_type": "subslide"
    },
    "tags": [
     "remove-cell",
     "translated_en"
    ],
    "translation": {
     "lang": "de",
     "src_hash": "afd944efdd31f0f421d8d5363b7d3d8b9958ecd3ee82c60bcb9d89619399f0a4",
     "updated_at_iso": "2025-08-16T10:53:58.062191+00:00"
    }
   },
   "source": [
    "## Lecture Hall Question\n",
    "\n",
    "<script>setSectionBackground('#FFD966');</script>\n",
    "<div class=\"flex-row\">\n",
    "  <div class=\"col4 vcent\">\n",
    "\n",
    "What inputs and outputs are involved in calculating the volume of a rectangular prism (house)?\n",
    "\n",
    "  </div>\n",
    "  <div class=\"col6 vcent\">\n",
    "    <figure class=\"mj-fig\">\n",
    "        <img src=\"images/05b_Programmablauf/rectangle.png\" class=\"mj-fig-img\">\n",
    "    </figure>\n",
    "  </div>\n",
    "</div>"
   ]
  },
  {
   "cell_type": "markdown",
   "id": "d274aa45",
   "metadata": {
    "editable": true,
    "slideshow": {
     "slide_type": "subslide"
    },
    "tags": [
     "remove-cell",
     "translated_en"
    ],
    "translation": {
     "lang": "de",
     "src_hash": "834862c4b290798630907929d41b881209eb4668b9376f7450eead08e751e121",
     "updated_at_iso": "2025-08-16T10:54:04.332079+00:00"
    }
   },
   "source": [
    "### Example: Volume calculation of a rectangular prism (house)\n",
    "\n",
    "- *Simplification:* The house is rectangular and has a flat roof.\n",
    "\n",
    "- *Inputs:* Side lengths `a` and `b`, height `h` (in m)\n",
    "\n",
    "- *Outputs:* Volume in m³\n",
    "\n",
    "- *First considerations:*\n",
    "  - What data types do these inputs and outputs have?\n",
    "  - What different scenarios exist?"
   ]
  },
  {
   "cell_type": "markdown",
   "id": "ec3bb82e",
   "metadata": {
    "editable": true,
    "slideshow": {
     "slide_type": "subslide"
    },
    "tags": [
     "remove-cell",
     "translated_en"
    ],
    "translation": {
     "lang": "de",
     "src_hash": "47c40ca2309a0ea2640d69d10190693ac8318f1e1cab5b633102bdc11b28c951",
     "updated_at_iso": "2025-08-16T10:54:10.001802+00:00"
    }
   },
   "source": [
    "## Breaking the Problem into Steps\n",
    "\n",
    "- *The core question:*  \n",
    ">  \"How do we get from the given input to the desired output?\"\n",
    "\n",
    "- *Not Easy:* To answer this question for arbitrary problems, one must adopt a way of thinking, break the problem into steps, and work through them.\n",
    "\n",
    "- *Our Advantage:* The ability to decompose and solve problems is a fundamental skill for engineers."
   ]
  },
  {
   "cell_type": "markdown",
   "id": "44fed53d",
   "metadata": {
    "editable": true,
    "slideshow": {
     "slide_type": "subslide"
    },
    "tags": [
     "remove-cell",
     "translated_en"
    ],
    "translation": {
     "lang": "de",
     "src_hash": "1d16b102516c7c84ba4e0a53f489983a85f779ab4d277e306eb71c537734ca33",
     "updated_at_iso": "2025-08-16T10:54:17.846790+00:00"
    }
   },
   "source": [
    "## A Tool for Designing Algorithms\n",
    "\n",
    "- Also called *'flowcharts'*\n",
    "- Describe sequences of operations\n",
    "- Can have the following elements, which are connected by arrows:\n",
    "\n",
    "![Oval](images/05b_Programmablauf/elements.svg)"
   ]
  },
  {
   "cell_type": "markdown",
   "id": "edeeeb53",
   "metadata": {
    "editable": true,
    "slideshow": {
     "slide_type": "subslide"
    },
    "tags": [
     "remove-cell",
     "translated_en"
    ],
    "translation": {
     "lang": "de",
     "src_hash": "c2ce385199bf80323db2609ebda5750f3f7f124008ba12b4926beeed886f522c",
     "updated_at_iso": "2025-08-16T10:54:27.793458+00:00"
    }
   },
   "source": [
    "## Program Flowcharts — Fundamentals\n",
    "\n",
    "- The most important blocks:\n",
    "\n",
    "<div class=\"flex-row\">\n",
    "<div class=\"col1\">\n",
    "\n",
    "- Statements do not need to be written in the syntax of a programming language – they can be pseudocode.\n",
    "\n",
    "![Instruction](https://mermaid.ink/svg/pako:eNptjzEOgzAQBL9yuiqR4AMuUqVMlRQUmOKEj2DFGGSfhRDi73EgRYpstcWMtLtiOxpGhc9AUw-3u_aQE081NGcoywvAXFcUhIFSBxXb3lPbC_vmIOcD4l34yrI4hgiddU750XMRJYwv3vsvwv8RLHDgMJA1edf6ETRKzwNrVLka7ig50aj9llFKMj4W36KSkLjANBkSvlrKjwZUHbnI2xv_DEvD)\n",
    "\n",
    "</div>\n",
    "<div class=\"col1\">\n",
    "\n",
    "- Arrows originate from a branching point, indicating whether the condition evaluated to True or False (if/else).\n",
    "\n",
    "![If statement](https://mermaid.ink/svg/pako:eNqF0M-KwjAQBvBXGea0Qn2BIApa9eJJDx7MHrLp121pmkj-HKT03c1WWBQE5zR8328uM7B2FVjwr1fXhg5HaSlP-LrQ94zm8yXRZlgjRITFj1_uEXQD263Gh9tkQme0dqJlPnrKT053eDTb12addDPlu_88xJsBBapbY4R1FkWI3nWY9mdSfibbz2T3nnDBPXyv2iq_ZPg7kBwb9JAs8lqhVslEydKOmaoU3elmNYvoEwpO10pFlK3Kz-xZ1MoEjHdF83Dg)\n",
    "\n",
    "</div>\n",
    "</div>"
   ]
  },
  {
   "cell_type": "markdown",
   "id": "e309cca9",
   "metadata": {
    "editable": true,
    "slideshow": {
     "slide_type": "subslide"
    },
    "tags": [
     "remove-cell",
     "translated_en"
    ],
    "translation": {
     "lang": "de",
     "src_hash": "53e98a4d8d9df9835922e46ec9c62c3a7549cfa27640b8439a4be90655847a88",
     "updated_at_iso": "2025-08-16T10:54:36.422000+00:00"
    }
   },
   "source": [
    "### Example: Christmas Shopping\n",
    "\n",
    "![Flowchart example](https://mermaid.ink/svg/pako:eNplkbFuwyAURX8FMSVSouxWlSqJHQ_tVA8ZsAcKzwEZniMDQ2X534thaWUmuPccngQzFaMEWtDnxF-KfH61SOJyO9Z4PvluT47HM7nk9MIeMQPCQ__2PZ0foBVyoTxgl7CanWowkqjRAJ66LNWpus1XcB7c6tXghAIc3pdM3CJB4mWYyJKxSuMQZwCutLapM1zGMd0foxnFANmpts6HAS0DPt1WvAahknbfamv3zygTCTtWoYRun8Mqh_lwzwd6oBYmy7WMrzmvVUu9AgstLeJWQs-D8S1tcYkoD35sflDQwk8BDjS8JPdQah7_wdKi58bB8gsH3IB5)"
   ]
  },
  {
   "cell_type": "markdown",
   "id": "4fac2bc5",
   "metadata": {
    "editable": true,
    "slideshow": {
     "slide_type": "subslide"
    },
    "tags": [
     "remove-cell",
     "translated_en"
    ],
    "translation": {
     "lang": "de",
     "src_hash": "c576dd23e6c237f11a88df8e68608ae64c847dc9a443bfa2b73d3780e7d24223",
     "updated_at_iso": "2025-08-16T10:54:44.362391+00:00"
    }
   },
   "source": [
    "## What is this used for in everyday life?\n",
    "\n",
    "<div class=\"flex-row\">\n",
    "<div class=\"col1\">\n",
    "\n",
    "\n",
    "*Process modeling*\n",
    "\n",
    "- Geothermal process flows\n",
    "- IP management process optimization\n",
    "- Business processes\n",
    "- Quality assurance\n",
    "\n",
    "</div>\n",
    "  <div class=\"col1\">\n",
    "\n",
    "*Patents*\n",
    "\n",
    "- Algorithmic descriptions\n",
    "- Process patents\n",
    "- Technical documentation\n",
    "\n",
    "  </div>\n",
    "</div>"
   ]
  },
  {
   "cell_type": "markdown",
   "id": "fa53c41b",
   "metadata": {
    "tags": [
     "remove-cell",
     "translated_en"
    ],
    "translation": {
     "lang": "de",
     "src_hash": "564be081e884c89465effb03029cb77568d42204e59850c0f7c9e8cbfdaa220b",
     "updated_at_iso": "2025-08-16T10:54:48.764634+00:00"
    }
   },
   "source": [
    "## Lesson Learned\n",
    "<figcaption class=\"mj-slide-cap\">Midjourney: Dorian Gray</figcaption>\n",
    "\n",
    "<script>setSectionBackground('#66ccffff', 'images/05b_Programmablauf/mj_dorian.mp4', true);</script>\n",
    "<div class=\"flex-row\">\n",
    "<div class=\"col2\">\n",
    "\n",
    "</div>\n",
    "<div class=\"col3\">\n",
    "  </div>\n",
    "</div>"
   ]
  },
  {
   "cell_type": "markdown",
   "id": "093c6083",
   "metadata": {
    "slideshow": {
     "slide_type": "slide"
    },
    "tags": [
     "remove-cell",
     "translated_en"
    ],
    "translation": {
     "lang": "de",
     "src_hash": "1532ec0a098ad02911c9e7297d9c6e0f4c2dbb690fb85a34923c21306f874ea4",
     "updated_at_iso": "2025-08-16T10:55:03.850123+00:00"
    }
   },
   "source": [
    "## Lessons Learned - Flashcards\n",
    "\n",
    "<script>setSectionBackground('#66ccffff');</script>\n",
    "\n",
    "<center>\n",
    "<figure class=\"vcent\">\n",
    "    <img src=\"images/05b_Programmablauf/wiederholung.svg\" style=\" width: 60%; z-index: -1;\" alt=\"Flashcards\">\n",
    "</figure>\n",
    "</center>\n",
    "\n",
    "- The question goes on the front of the flashcard, the answer on the back\n",
    "- The cards for Subject 1 are reviewed **daily**\n",
    "- The Subject 2 cards are reviewed **every other day**\n",
    "- The Subject 3 cards are reviewed **once a week**\n",
    "- and the Subject 4 cards are reviewed **every 30 days**"
   ]
  },
  {
   "cell_type": "markdown",
   "id": "401bbdef-1517-41f3-816a-b6e78622a578",
   "metadata": {
    "editable": true,
    "slideshow": {
     "slide_type": "skip"
    },
    "tags": [
     "translated_en"
    ],
    "translation": {
     "lang": "de",
     "src_hash": "2b6e1817175d5e6be74a06753a5b37b8993bbdf2839db62a2a18abdeda38813f",
     "updated_at_iso": "2025-08-16T10:55:29.327294+00:00"
    }
   },
   "source": [
    "## Quiz\n",
    "\n",
    "```{quizdown}\n",
    "\t---\n",
    "\tshuffleQuestions: true\n",
    "\tshuffleAnswers: true\n",
    "\t---\n",
    "\n",
    "    ### What is the main purpose of flowcharts?\n",
    "    - [x] The translation of a real problem into individual program steps\n",
    "    - [ ] Writing efficient code\n",
    "    - [ ] Documentation of finished programs\n",
    "    - [ ] Visualization of data structures\n",
    "\n",
    "    ### What form do start and end elements in flowcharts take?\n",
    "    - [x] Elements with rounded corners\n",
    "    - [ ] Rectangular elements\n",
    "    - [ ] Rhombuses\n",
    "    - [ ] Circles\n",
    "\n",
    "    ### What form do statements in flowcharts take?\n",
    "    - [x] Rectangular elements\n",
    "    - [ ] Rhombuses\n",
    "    - [ ] Circles\n",
    "    - [ ] Elements with rounded corners\n",
    "\n",
    "    ### Sort the following elements of a flowchart by their typical order:\n",
    "    1. `Start (rounded rectangle)`\n",
    "    2. `Input (Rhombus)`\n",
    "    3. `Processing (Rectangle)`\n",
    "    4. `Decision (Diamond)`\n",
    "    5. `End (rounded rectangle)`\n",
    "\n",
    "    ### What error is present in this flowchart?\n",
    "    ```mermaid\n",
    "    graph TD\n",
    "        A[Start] --> B{Input}\n",
    "        B --> C[Processing]\n",
    "        C --> D{Decision}\n",
    "        D --> B\n",
    "    ```\n",
    "    - [x] Input is depicted with the wrong shape (Diamond instead of Parallelogram)\n",
    "    - [ ] The arrow direction is wrong\n",
    "    - [ ] Start element is missing\n",
    "    - [ ] Decisions can not lead back to inputs\n",
    "\n",
    "    ### What shape is used for if statements?\n",
    "    - [x] Diamond\n",
    "    - [ ] Rectangle\n",
    "    - [ ] Rhombus\n",
    "    - [ ] Circle\n",
    "\n",
    "    ### What characterizes subroutine elements in flowcharts?\n",
    "    - [x] Rectangular shape with a double line\n",
    "    - [ ] Circular shape\n",
    "    - [ ] Dashed lines\n",
    "    - [ ] Shaded rectangles\n",
    "\n",
    "```"
   ]
  },
  {
   "cell_type": "markdown",
   "id": "ca139770",
   "metadata": {
    "slideshow": {
     "slide_type": "slide"
    },
    "tags": [
     "remove-cell",
     "translated_en"
    ],
    "translation": {
     "lang": "de",
     "src_hash": "d2b7467259ef9f52d61ecf9953374631953b152baba6f1edeaac46d4c3d40a0b",
     "updated_at_iso": "2025-08-16T10:55:34.516262+00:00"
    }
   },
   "source": [
    "<div class=\"vslide\">\n",
    "  <div class=\"vslide-title\">\n",
    "    <p style=\"font-family: Protomolecule; font-size: 2.3em; margin: 0px auto; text-align: center; width: 100%;\">Questions?</p>\n",
    "  </div>\n",
    "  <script>setSectionBackground('#000000', 'images/mj_questions3.mp4');</script>\n",
    "</div>"
   ]
  }
 ],
 "metadata": {
  "kernelspec": {
   "display_name": "base",
   "language": "python",
   "name": "python3"
  },
  "language_info": {
   "codemirror_mode": {
    "name": "ipython",
    "version": 3
   },
   "file_extension": ".py",
   "mimetype": "text/x-python",
   "name": "python",
   "nbconvert_exporter": "python",
   "pygments_lexer": "ipython3",
   "version": "3.12.2"
  }
 },
 "nbformat": 4,
 "nbformat_minor": 5
}
