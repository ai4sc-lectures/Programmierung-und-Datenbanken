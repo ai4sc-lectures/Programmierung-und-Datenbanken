{
 "cells": [
  {
   "cell_type": "markdown",
   "id": "aaf0723a866f4a3ead2622ec0736c15f",
   "metadata": {
    "editable": true,
    "slideshow": {
     "slide_type": "slide"
    },
    "tags": [
     "remove-cell",
     "translated_en"
    ],
    "translation": {
     "lang": "de",
     "src_hash": "05d2a9ac656c3ef02ea669ca038a59ee0f7753f976b41326143adc7c818115e8",
     "updated_at_iso": "2025-08-16T17:28:26.586986+00:00"
    }
   },
   "source": [
    "<div class=\"vslide\">\n",
    "  <div class=\"vslide-title\">\n",
    "    <p style=\"font-family: Protomolecule; font-size: 2.3em; line-height: 90%; margin: 0px auto; text-align: center; width: 100%;\"><span style=\"letter-spacing: .04rem;\">Programming</span><br><span style=\"letter-spacing: .0rem;\">and Databases</span></p>\n",
    "<p class=\"author\" style=\"font-family: Protomolecule; margin: 0px auto;  text-align: center; width: 100%; font-size: 1.2em;\">Joern Ploennigs</p>\n",
    "<p class=\"subtitle\" style=\"font-family: Protomolecule; margin: 1em auto; text-align: center; width: 100%; font-size: 1.2em;\">Relational Databases</p>\n",
    "    <figcaption>Midjourney: Tabular Relief, ref. Ben Nicholson</figcaption>\n",
    "  </div>\n",
    "<script>\n",
    "  function setSectionBackground(c,v){\n",
    "    let e=document.currentScript.previousElementSibling;\n",
    "    while(e&&e.tagName!=='SECTION')e=e.parentElement;\n",
    "    if(e){\n",
    "      if(c)e.setAttribute('data-background-color',c);\n",
    "      if(v){\n",
    "        e.setAttribute('data-background-video',v);\n",
    "        e.setAttribute('data-background-video-loop','true');\n",
    "        e.setAttribute('data-background-video-muted','true');\n",
    "      }\n",
    "    }\n",
    "  }\n",
    "  setSectionBackground('#000000', 'images/10b_RelationaleDatenbanken/mj_title.mp4');\n",
    "</script>\n",
    "<style>\n",
    ".flex-row{display:flex; gap:2rem; align-items:flex-start; justify-content:space-between;}\n",
    ".flex-row .col1{flex:1; min-width:10px}\n",
    ".flex-row .col2{flex:2; min-width:10px}\n",
    ".flex-row .col3{flex:3; min-width:10px}\n",
    ".flex-row .col4{flex:4; min-width:10px}\n",
    ".flex-row .col5{flex:5; min-width:10px}\n",
    ".flex-row .col6{flex:6; min-width:10px}\n",
    ".flex-row .col7{flex:7; min-width:10px}\n",
    ".vcent{display:flex; align-items:center; justify-content:center}\n",
    "</style>\n",
    "</div>"
   ]
  },
  {
   "cell_type": "markdown",
   "id": "15abe4c5743f44fa87e7465277c1ed63",
   "metadata": {
    "editable": true,
    "slideshow": {
     "slide_type": "skip"
    },
    "tags": [
     "translated_en"
    ],
    "translation": {
     "lang": "de",
     "src_hash": "ccaeaff8bcf6c9395c259404956bad41f87645a48b97b16101da93dc4f27f49f",
     "updated_at_iso": "2025-08-16T17:28:28.123961+00:00"
    }
   },
   "source": [
    "# Relational Databases"
   ]
  },
  {
   "cell_type": "markdown",
   "id": "26c2f869fb7e45fa8e22f42cfa29cad7",
   "metadata": {
    "editable": true,
    "slideshow": {
     "slide_type": "skip"
    },
    "tags": [
     "translated_en"
    ],
    "translation": {
     "lang": "de",
     "src_hash": "f063f9e1ca9ba1f149db6e11573166861b4df31d29502148ec3672679b2d557b",
     "updated_at_iso": "2025-08-16T17:28:31.245399+00:00"
    }
   },
   "source": [
    "<figure class=\"mj-tile-band\">\n",
    "    <img src='images/10b_RelationaleDatenbanken/mj_title_band.jpg'>\n",
    "    <figcaption>Midjourney: Tabular Relief, ref. Ben Nicholson</figcaption>\n",
    "</figure>\n",
    "\n",
    "> If you think you understand SQL, you’re probably wrong.\n",
    ">\n",
    "> — C. J. Date"
   ]
  },
  {
   "cell_type": "markdown",
   "id": "00a3730419014ad5b4f25059591abca2",
   "metadata": {
    "editable": true,
    "slideshow": {
     "slide_type": "skip"
    },
    "tags": [
     "translated_en"
    ],
    "translation": {
     "lang": "de",
     "src_hash": "9d5979ed55241902678614a7001cbc2736fd4cfafeeb5c5cb79dad64aba676d1",
     "updated_at_iso": "2025-08-16T17:28:34.146258+00:00"
    }
   },
   "source": [
    "## <a href=\"../lec_slides/10b_RelationaleDatenbanken.slides.html\">Slides</a>/<a href=\"../pdf/slides/10b_RelationaleDatenbanken.pdf\">PDF</a>\n",
    "<iframe src=\"../lec_slides/10b_RelationaleDatenbanken.slides.html\" width=\"750\" height=\"500\"></iframe>"
   ]
  },
  {
   "cell_type": "markdown",
   "id": "30f75bdb78994e33a8500d439ac8ad64",
   "metadata": {
    "editable": true,
    "slideshow": {
     "slide_type": "slide"
    },
    "tags": [
     "remove-cell",
     "translated_en"
    ],
    "translation": {
     "lang": "de",
     "src_hash": "5f0f77748ead25e93792437404a4592d83c4c93acca06563dc1493df65d1f714",
     "updated_at_iso": "2025-08-16T17:28:37.169142+00:00"
    }
   },
   "source": [
    "## Process\n",
    "\n",
    "![](images/partB_2.svg)"
   ]
  },
  {
   "cell_type": "markdown",
   "id": "4ffb97bc78924fc3a28d781ee124cd98",
   "metadata": {
    "slideshow": {
     "slide_type": "skip"
    },
    "tags": [
     "translated_en"
    ],
    "translation": {
     "lang": "de",
     "src_hash": "82aa935e9f4d87d782d2b98367b8887f95d01cee0d6d63604a4f8a9de3049d9b",
     "updated_at_iso": "2025-08-16T17:28:51.095843+00:00"
    }
   },
   "source": [
    "## Introduction to Relational Databases\n",
    "\n",
    "Relational databases form the foundation of modern information systems and are indispensable in today's engineering practice. A relational database is a database system that stores information in tables, where the data are organized as tuples and each column has a defined data type. This structured approach enables engineers to efficiently manage complex data sets and to relate them in a meaningful way.\n",
    "\n",
    "<div class=\"alert alert-block alert-success\">\n",
    "<b>📘 Definition: Relational Database</b>\n",
    "\n",
    "A relational database is a *database system* that stores information in *tables* (relations), where the data are organized as *tuples* (rows) and each column (attribute) has a defined data type.\n",
    "</div>\n",
    "\n",
    "The term \"relation\" originates from mathematics and denotes a table with all its data rows. A relational database thus consists of a collection of tables that are logically connected. For engineers, this means, for example, that project data, bills of materials, and cost estimates can be stored in separate, but linked, tables."
   ]
  },
  {
   "cell_type": "markdown",
   "id": "6aca3bc8dfee4130ba9f0463cc320af5",
   "metadata": {
    "slideshow": {
     "slide_type": "skip"
    },
    "tags": [
     "translated_en"
    ],
    "translation": {
     "lang": "de",
     "src_hash": "f1781e8dc4d196b042ade2a0309a899f41772a511698884c8404b3bfe6221f75",
     "updated_at_iso": "2025-08-16T17:29:00.433077+00:00"
    }
   },
   "source": [
    "## Table structure and basic concepts\n",
    "\n",
    "Each table in a relational database has a unique name (*Relationennamen*), which describes its content. The *Relation* itself refers to the set of all data tuples in this table. A *Tupel* corresponds to a single row and consists of a sequence of attribute values. The meaning of these values is defined by the *Relationenschema*, which defines the column names and their order.\n",
    "\n",
    "<div class=\"flex-row\">\n",
    "  <div class=\"col1\"></div>\n",
    "  <div class=\"col2\"> \n",
    "\n",
    "| Attribute 1   | Attribute 2 | Attribute 3 |\n",
    "|--------------|------------|------------|\n",
    "| Attribute value |     ...    |     ...    |\n",
    "| Attribute value |     ...    |     ...    |\n",
    "\n",
    "  </div>\n",
    "  <div class=\"col1\"></div>\n",
    "</div>\n",
    "\n",
    "In environmental engineering, a table 'Measurement Stations' could, for example, contain information about various monitoring locations. Each row would represent a specific measurement station, while the columns describe properties such as location, installation date, or sensor type."
   ]
  },
  {
   "cell_type": "markdown",
   "id": "9e5d20d61cd844d2b6c07df68447a238",
   "metadata": {
    "slideshow": {
     "slide_type": "skip"
    },
    "tags": [
     "translated_en"
    ],
    "translation": {
     "lang": "de",
     "src_hash": "523307018fe79b2575c26592e84b8ff8587dbaa4350230eb18d236eca39a6ad0",
     "updated_at_iso": "2025-08-16T17:29:08.942644+00:00"
    }
   },
   "source": [
    "## Unique Keys\n",
    "\n",
    "Relational databases are built on fixed principles. Information is typically spread across different tables (construction sites, addresses, orders, etc.) and must be linked to derive actionable knowledge. This is done via *key attributes*. These are special columns that serve to uniquely identify records. These attributes are uniquely assignable and exist in the table *only once*, which enables reliable identification of each tuple. Row numbers are not suitable as keys, since they can be altered during delete operations and thus lose their uniqueness.\n",
    "\n",
    "Keys can be defined as a single attribute or consist of a set of attributes. The most common are:\n",
    "- *Single attribute* or *a set of attributes*\n",
    "- *Unique ID (UID)* - single attribute\n",
    "- *Globally Unique Identifiers (GUID)* - globally unique\n",
    "- *UUID* (universally unique identifier) - ISO standard"
   ]
  },
  {
   "cell_type": "markdown",
   "id": "710d80f2a2ac4e5e85361f757e7f4a56",
   "metadata": {
    "slideshow": {
     "slide_type": "skip"
    },
    "tags": [
     "translated_en"
    ],
    "translation": {
     "lang": "de",
     "src_hash": "25eca4524a2bad88191bdb0193cbf54a325ce36b62ad87180bead8015965dc8b",
     "updated_at_iso": "2025-08-16T17:29:21.767400+00:00"
    }
   },
   "source": [
    "The strength of relational databases lies in the ability to connect tables via keys. The keys of a table are called the *Primary Key*, while keys from other tables act as *Foreign Keys*. The foreign key always references the primary key in the other table.\n",
    "\n",
    "This relationship can be illustrated with the example of municipalities and buildings. The Buildings table contains, in addition to its own BuildingID, the MunicipalityID as a Foreign Key. This creates a logical connection to the Municipalities table without repeating municipality information in the Buildings table. A civil engineer can, for example, find all hotels in Dummerstorf by querying buildings with the type \"Hotel\" and the corresponding MunicipalityID.\n",
    "\n",
    "<div class=\"flex-row\">\n",
    "  <div class=\"col1\">\n",
    "\n",
    "**Municipalities Table**\n",
    "\n",
    "| MunicipalityID | Name | Population |\n",
    "|---|--------------|-------|\n",
    "| 1 | Dummerstorf  | 7,329 |\n",
    "| 2 | Graal-Müritz | 4,278 |\n",
    "| 3 | Sanitz       | 5,831 |\n",
    "\n",
    "<br/> Primary Key: MunicipalityID\n",
    "\n",
    "  </div>\n",
    "  <div class=\"col1\"> \n",
    "\n",
    "**Buildings Table**\n",
    "\n",
    "| BuildingID | BuildingType | MunicipalityID |\n",
    "|------------|-------------|------------|\n",
    "| 5000       | Gas Station  | 2 |\n",
    "| 5001       | Hotel       | 1 |\n",
    "| 5002       | Church      | 2 |\n",
    "\n",
    "<br/> Foreign Key: MunicipalityID\n",
    "\n",
    "  </div>\n",
    "</div>"
   ]
  },
  {
   "cell_type": "markdown",
   "id": "4142e17e644946cc9b15167ce43743d1",
   "metadata": {
    "slideshow": {
     "slide_type": "skip"
    },
    "tags": [
     "translated_en"
    ],
    "translation": {
     "lang": "de",
     "src_hash": "89a058a2c3fadbe556a83e2707532aac6e5c4c1f62a56ad5cdb21bd511220d42",
     "updated_at_iso": "2025-08-16T17:29:32.073178+00:00"
    }
   },
   "source": [
    "## Integrity constraints and data quality\n",
    "\n",
    "Keys define important integrity constraints that ensure data quality and consistency. Primary keys guarantee the *local integrity* of individual tables by preventing identical records from being stored more than once. Foreign keys, on the other hand, safeguard the *global integrity* of the entire database system by ensuring that all references between tables remain valid.\n",
    "\n",
    "For engineers, this integrity is crucial. In a construction database, for example, every reference to a building material must point to an existing material. An invalid reference could lead to errors in cost calculation or material procurement. Equally critical in environmental engineering is the correct mapping of measurement data to their source stations to avoid drawing incorrect conclusions about environmental conditions.\n",
    "\n",
    "Thus, the tables are related via keys, creating a cohesive and consistent data model that forms the foundation for reliable engineering decisions."
   ]
  },
  {
   "cell_type": "markdown",
   "id": "cc86ec1289744b82aa0da95a48960627",
   "metadata": {
    "editable": true,
    "jp-MarkdownHeadingCollapsed": true,
    "slideshow": {
     "slide_type": "subslide"
    },
    "tags": [
     "remove-cell",
     "translated_en"
    ],
    "translation": {
     "lang": "de",
     "src_hash": "67fc5e47874c567b4fb3cae8af1ebc39a0ca7feb2898089246de0ab18faf99d9",
     "updated_at_iso": "2025-08-16T17:29:37.407514+00:00"
    }
   },
   "source": [
    "## Relational Databases\n",
    "\n",
    "<script>setSectionBackground('#E2F0D9');</script>\n",
    "<div class=\"flex-row\">\n",
    "  <div class=\"col4 vcent\">\n",
    "\n",
    "  </div>\n",
    "  <div class=\"col6\"> \n",
    "    <figure class=\"mj-fig\">\n",
    "        <img src=\"images/10b_RelationaleDatenbanken/mj_databank2.png\" class=\"mj-fig-img\">\n",
    "        <figcaption class=\"mj-fig-cap\">\n",
    "            Midjourney: Relational Database\n",
    "        </figcaption>\n",
    "    </figure>\n",
    "  </div>\n",
    "</div>"
   ]
  },
  {
   "cell_type": "markdown",
   "id": "19968b5b6f73425e8f4ee27a4943a008",
   "metadata": {
    "editable": true,
    "slideshow": {
     "slide_type": "subslide"
    },
    "tags": [
     "remove-cell",
     "translated_en"
    ],
    "translation": {
     "lang": "de",
     "src_hash": "7ba61804f75248873a4744cea8ae7c135aae31bd19a76fab513ce4a69256d028",
     "updated_at_iso": "2025-08-16T17:29:47.443055+00:00"
    }
   },
   "source": [
    "## Relational Databases - Core Concepts\n",
    "\n",
    "<div class=\"alert alert-block alert-success\">\n",
    "<b>📘 Definition: Relational Database</b>\n",
    "\n",
    "A relational database is a *database system* that stores information in *tables* (relations), where the data are organized as *tuples* (rows) and each column (attribute) has a defined data type.\n",
    "</div>\n",
    "\n",
    "<div class=\"flex-row\">\n",
    "  <div class=\"col1\">\n",
    "\n",
    "- Data are organized in table structures (schemas)\n",
    "- *Relation* is the term for a table\n",
    "- A *relational database* is a set of tables\n",
    "\n",
    "  </div>\n",
    "  <div class=\"col1\"> \n",
    "\n",
    "| Column 1 | Column 2 | Column 3 |\n",
    "|----------|----------|----------|\n",
    "| Row 1  | ...      | ...      |\n",
    "| Row 2  | ...      | ...      |\n",
    "\n",
    "  </div>\n",
    "</div>"
   ]
  },
  {
   "cell_type": "markdown",
   "id": "5c9c12098e614b5d9c5751206f1f664b",
   "metadata": {
    "editable": true,
    "slideshow": {
     "slide_type": "subslide"
    },
    "tags": [
     "remove-cell",
     "translated_en"
    ],
    "translation": {
     "lang": "de",
     "src_hash": "3b03536f32e87309c4e738891b1b1e5083d5f193b0b926cf6524ca0390c0ce0f",
     "updated_at_iso": "2025-08-16T17:29:59.730781+00:00"
    }
   },
   "source": [
    "## Relational Databases - Basic Concepts\n",
    "\n",
    "<div class=\"flex-row\">\n",
    "  <div class=\"col1\">\n",
    "\n",
    "- Jede Tabelle hat einen *relation name* (table name)\n",
    "- *Relation* denotes the set of all data tuples (all rows)\n",
    "- Jedes *tuple* an Daten besteht aus einer Abfolge von Attributwerten (Einzelne Zeile)\n",
    "- Reihenfolge festgelegt durch *relation schema* (Spaltennamen)\n",
    "\n",
    "  </div>\n",
    "  <div class=\"col1\"> \n",
    "\n",
    "| Attribute 1   | Attribute 2 | Attribute 3 |\n",
    "|--------------|------------|------------|\n",
    "| Attribute value |     ...    |     ...    |\n",
    "| Attribute value |     ...    |     ...    |\n",
    "\n",
    "  </div>\n",
    "</div>"
   ]
  },
  {
   "cell_type": "markdown",
   "id": "b072b5b5897d4514afca33afafeab4a2",
   "metadata": {
    "editable": true,
    "slideshow": {
     "slide_type": "subslide"
    },
    "tags": [
     "remove-cell",
     "translated_en"
    ],
    "translation": {
     "lang": "de",
     "src_hash": "9e1ef9852c588b0c5befc89aa5570a8fa0eb2fd855887cf92565071c3a058df1",
     "updated_at_iso": "2025-08-16T17:30:06.442060+00:00"
    }
   },
   "source": [
    "## Example: OpenData Hanseatic City of Rostock\n",
    "\n",
    "Information is usually spread across several tables and often needs to be merged and processed to derive actionable knowledge.\n",
    "\n",
    "- Example: https://www.opendata-hro.de\n",
    "    - Land-use plans\n",
    "    - Municipalities\n",
    "    - Construction sites\n",
    "    - Standard land values\n",
    "    - Address list"
   ]
  },
  {
   "cell_type": "markdown",
   "id": "bccb3f5485d9412097e9b1202efe17aa",
   "metadata": {
    "editable": true,
    "slideshow": {
     "slide_type": "subslide"
    },
    "tags": [
     "remove-cell",
     "translated_en"
    ],
    "translation": {
     "lang": "de",
     "src_hash": "b9f196010059ce5111d6ba3247ca2374b8d30a7bf65dc48aec4bcb45e2fe2ffc",
     "updated_at_iso": "2025-08-16T17:30:16.516524+00:00"
    }
   },
   "source": [
    "## Key Attributes\n",
    "\n",
    "<div class=\"flex-row\">\n",
    "  <div class=\"col1\">\n",
    "\n",
    "- Certain *attributes (columns)* can be marked as *keys*\n",
    "- Keys are usually *uniquely identifiable*\n",
    "- They exist in the table only *once*\n",
    "- They can be used to identify the *row (tuple)*\n",
    "- Row numbers are not suitable (they can be deleted)\n",
    "\n",
    "  </div>\n",
    "  <div class=\"col1\"> \n",
    "\n",
    "Key types:\n",
    "- *A single attribute* or *a set of attributes*\n",
    "- *Unique ID (UID)* - a single attribute\n",
    "- *Globally Unique IDs (GUID)* - globally unique\n",
    "- *UUID* (universally unique identifier) - ISO standard\n",
    "\n",
    "  </div>\n",
    "</div>"
   ]
  },
  {
   "cell_type": "markdown",
   "id": "e10d493c53ce4f77999f19a739dc4338",
   "metadata": {
    "editable": true,
    "slideshow": {
     "slide_type": "subslide"
    },
    "tags": [
     "remove-cell",
     "translated_en"
    ],
    "translation": {
     "lang": "de",
     "src_hash": "35444b53c15051d4168b5c1882ec0a4d5c3857f80d939b08c25f8da8f25d2733",
     "updated_at_iso": "2025-08-16T17:30:24.137218+00:00"
    }
   },
   "source": [
    "## Key Attributes - Example\n",
    "\n",
    "**Municipalities Table**\n",
    "\n",
    "| MunicipalityID | Name | Population |\n",
    "|------------|------|-----------|\n",
    "| 1 | Dummerstorf | 7.329 |\n",
    "| 2 | Graal-Müritz | 4.278 |\n",
    "| 3 | Sanitz | 5.831 |\n",
    "\n",
    "<br/> Key: MunicipalityID"
   ]
  },
  {
   "cell_type": "markdown",
   "id": "2c01792a748d44f0a0b6762204b31cf2",
   "metadata": {
    "editable": true,
    "slideshow": {
     "slide_type": "subslide"
    },
    "tags": [
     "remove-cell",
     "translated_en"
    ],
    "translation": {
     "lang": "de",
     "src_hash": "475502b24ac578a26efc94ba154181b1ac5b1e15f4cb22b3521edbbd5ca6cd35",
     "updated_at_iso": "2025-08-16T17:30:34.111447+00:00"
    }
   },
   "source": [
    "## Key References\n",
    "\n",
    "<div class=\"flex-row\">\n",
    "  <div class=\"col1\">\n",
    "\n",
    "**Municipalities Table**\n",
    "\n",
    "| MunicipalityID | Name | Population |\n",
    "|---|--------------|--------|\n",
    "| 1 | Dummerstorf  | 7,329 |\n",
    "| 2 | Graal-Müritz | 4,278 |\n",
    "| 3 | Sanitz       | 5,831 |\n",
    "\n",
    "<br/> Primary Key: MunicipalityID\n",
    "\n",
    "  </div>\n",
    "  <div class=\"col1\"> \n",
    "\n",
    "**Buildings Table**\n",
    "\n",
    "| BuildingID | BuildingType | MunicipalityID |\n",
    "|------------|-------------|------------|\n",
    "| 5000       | Gas Station  | 2 |\n",
    "| 5001       | Hotel       | 1 |\n",
    "| 5002       | Church      | 2 |\n",
    "\n",
    "\n",
    "<br/> Foreign Key: MunicipalityID\n",
    "\n",
    "  </div>\n",
    "</div>"
   ]
  },
  {
   "cell_type": "markdown",
   "id": "b054cf0a03c14e8cbd40bf00e03461c6",
   "metadata": {
    "editable": true,
    "slideshow": {
     "slide_type": "subslide"
    },
    "tags": [
     "remove-cell",
     "translated_en"
    ],
    "translation": {
     "lang": "de",
     "src_hash": "29489ca8123e3786bf457e9c7101f45a60938bca9a9e251feda31f8df5d4da43",
     "updated_at_iso": "2025-08-16T17:30:49.297583+00:00"
    }
   },
   "source": [
    "## Key Concepts\n",
    "\n",
    "- The *keys of other tables* can be used to refer to rows in those tables\n",
    "- A table's own keys are called *Primary Key* (Primary Key)\n",
    "- The *keys of other tables* are called *Foreign Key* (Foreign Key)\n",
    "- The *tables are related through keys*\n",
    "\n",
    "> The foreign key references the primary key in the other table"
   ]
  },
  {
   "cell_type": "markdown",
   "id": "f75a55f08d114124a4931472839e1231",
   "metadata": {
    "editable": true,
    "slideshow": {
     "slide_type": "subslide"
    },
    "tags": [
     "remove-cell",
     "translated_en"
    ],
    "translation": {
     "lang": "de",
     "src_hash": "9b8497d71db92957319460ebd315fcaad7b11cdfad145aea157d03c1198a7adb",
     "updated_at_iso": "2025-08-16T17:30:57.452408+00:00"
    }
   },
   "source": [
    "## The Role of Keys\n",
    "\n",
    "Keys define the so-called integrity constraints:\n",
    "\n",
    "<div class=\"flex-row\">\n",
    "  <div class=\"col1\">\n",
    "\n",
    "**Primary keys**\n",
    "\n",
    "- Represent the *integrity of individual tables*\n",
    "- *Local integrity*\n",
    "\n",
    "  </div>\n",
    "  <div class=\"col1\"> \n",
    "\n",
    "**Foreign keys**\n",
    "\n",
    "- Represent the *integrity of the entire database system*\n",
    "- *Global integrity*\n",
    "\n",
    "  </div>\n",
    "</div>"
   ]
  },
  {
   "cell_type": "markdown",
   "id": "07ee68a38d684077bc268400525a3b85",
   "metadata": {
    "editable": true,
    "slideshow": {
     "slide_type": "slide"
    },
    "tags": [
     "remove-cell",
     "translated_en"
    ],
    "translation": {
     "lang": "de",
     "src_hash": "72493ed848d1ef0844489481754b61383b87f7a709eae4d673ea0b1af7c62576",
     "updated_at_iso": "2025-08-16T17:31:01.892313+00:00"
    }
   },
   "source": [
    "## Lesson Learned\n",
    "\n",
    "<script>setSectionBackground('#66ccffff');</script>\n",
    "<div class=\"flex-row\">\n",
    "<div class=\"col2\">\n",
    "\n",
    "</div>\n",
    "<div class=\"col3\">\n",
    "    <figure class=\"mj-fig\">\n",
    "        <img src=\"images/10b_RelationaleDatenbanken/procrastbrain.png\" class=\"mj-fig-img\">\n",
    "        <figcaption class=\"mj-fig-cap\">\n",
    "            https://youtu.be/arj7oStGLkU\n",
    "        </figcaption>\n",
    "    </figure>\n",
    "  </div>\n",
    "</div>"
   ]
  },
  {
   "cell_type": "markdown",
   "id": "370a0c53f85249be94cd0213ab44e160",
   "metadata": {
    "slideshow": {
     "slide_type": "subslide"
    },
    "tags": [
     "remove-cell",
     "translated_en"
    ],
    "translation": {
     "lang": "de",
     "src_hash": "80d25e743f01301999f6aa13a5e6b365cfdf3e0bc3a396307fa9b3cdfede27de",
     "updated_at_iso": "2025-08-16T17:31:07.831399+00:00"
    }
   },
   "source": [
    "## Lessons Learned - Prokrastination\n",
    "\n",
    "<script>setSectionBackground('#66ccffff');</script>\n",
    "\n",
    "<center>\n",
    "<figure class=\"vcent\">\n",
    "    <img src=\"images/10b_RelationaleDatenbanken/timing0.svg\" style=\" width: 90%; z-index: -1;\" alt=\"Flashcards\">\n",
    "</figure>\n",
    "</center>\n",
    "\n",
    "- Some procrastination is normal and often part of working life (it follows from prioritization)\n",
    "- Procrastination is very dangerous when we misestimate the effort and it turns out to be larger than the available time"
   ]
  },
  {
   "cell_type": "markdown",
   "id": "1658b85b947246ffad2b8f3719fb6a7e",
   "metadata": {
    "editable": true,
    "slideshow": {
     "slide_type": "subslide"
    },
    "tags": [
     "remove-cell",
     "translated_en"
    ],
    "translation": {
     "lang": "de",
     "src_hash": "494e995afa6e630f975ed8f40a45c4dfc6b56a7a5b6e3a202b32635403889daf",
     "updated_at_iso": "2025-08-16T17:31:12.333835+00:00"
    }
   },
   "source": [
    "## Lessons Learned - Time Management\n",
    "\n",
    "<script>setSectionBackground('#66ccffff');</script>\n",
    "\n",
    "<center>\n",
    "<figure class=\"vcent\">\n",
    "    <img src=\"images/10b_RelationaleDatenbanken/timing1.svg\" style=\" width: 90%; z-index: -1;\" alt=\"Flashcards\">\n",
    "</figure>\n",
    "</center>"
   ]
  },
  {
   "cell_type": "markdown",
   "id": "5de99c39a54e44efb0ad6942ee9872cf",
   "metadata": {
    "editable": true,
    "slideshow": {
     "slide_type": "skip"
    },
    "tags": [
     "translated_en"
    ],
    "translation": {
     "lang": "de",
     "src_hash": "a6a9a180b362f4ba713a3331085a1d5694ab2d54f7fb0ff1c75a69c892271444",
     "updated_at_iso": "2025-08-16T17:31:44.135143+00:00"
    }
   },
   "source": [
    "## Quiz\n",
    "\n",
    "\n",
    "```{quizdown}\n",
    "    ---\n",
    "    shuffleQuestions: true\n",
    "    shuffleAnswers: true\n",
    "    ---\n",
    "\n",
    "    ### Which Python packages are used to load CSV data from the Internet?\n",
    "\n",
    "    - [x] `urllib` and `pandas`\n",
    "    - [ ] `requests` and `numpy`\n",
    "    - [ ] `json` and `matplotlib`\n",
    "    - [ ] `sqlite3` and `os`\n",
    "\n",
    "    ### What is SQL?\n",
    "    - [x] A language for querying and manipulating databases\n",
    "    - [ ] A program for data visualization\n",
    "    - [ ] A programming language like Python\n",
    "    - [ ] A data format like JSON\n",
    "\n",
    "    ### What is SQLite?\n",
    "\n",
    "    - [x] A local relational database without a server\n",
    "    - [ ] A cloud database service\n",
    "    - [ ] A NoSQL database system\n",
    "    - [ ] A data visualization tool\n",
    "\n",
    "    ### Sort the following lines for saving a Pandas table to SQLite:\n",
    "\n",
    "    ```python\n",
    "    import sqlite3\n",
    "    import pandas as pd\n",
    "    ```\n",
    "    1. `df = pd.DataFrame({'col1': [1, 2], 'col2': [3, 4]})`\n",
    "    2. `con = sqlite3.connect(\"test.sqlite\")`\n",
    "    3. `df.to_sql(\"tabelle\", con, if_exists=\"replace\")`\n",
    "\n",
    "    ### Which error is in this example?\n",
    "\n",
    "    ```python\n",
    "    con = sqlite3.connect(\"test.sqlite\")\n",
    "    df.to_sql(\"tabelle\", con, if_exists=\"append\")\n",
    "    ```\n",
    "\n",
    "    - [ ] `sqlite3` is not imported\n",
    "    - [ ] The database name is too short\n",
    "    - [x] No error - the code is correct\n",
    "    - [ ] `to_sql` does not exist\n",
    "\n",
    "    ### What does the SQL command `SELECT * FROM baustellen;` do?\n",
    "\n",
    "    - [ ] Deletes all data from the table\n",
    "    - [x] Returns all columns and rows of the table\n",
    "    - [ ] Creates a new table\n",
    "    - [ ] Counts the rows in the table\n",
    "\n",
    "\n",
    "    ### How do you execute an SQL command in Python?\n",
    "\n",
    "    - [x] With `cur.execute(sql)` after creating a cursor\n",
    "    - [ ] With `con.run(sql)`\n",
    "    - [ ] With `sqlite3.query(sql)`\n",
    "    - [ ] With `pd.sql(sql)`\n",
    "\n",
    "\n",
    "    ### Sort the following lines for an SQL query:\n",
    "\n",
    "    ```python\n",
    "    con = sqlite3.connect(\"test.sqlite\")\n",
    "    ```\n",
    "\n",
    "    1. `cur = con.cursor()`\n",
    "    2. `sql = 'SELECT * FROM tabelle;'`\n",
    "    3. `for row in cur.execute(sql):`\n",
    "    4. `    print(row)`\n",
    "\n",
    "    ### Which SQL command filters Baustellen with a construction start date from 2023?\n",
    "\n",
    "    - [ ] `FILTER baubeginn >= '2023-01-01'`\n",
    "    - [x] `WHERE baubeginn >= '2023-01-01 00:00:00+01'`\n",
    "    - [ ] `IF baubeginn >= '2023-01-01'`\n",
    "    - [ ] `SELECT baubeginn >= '2023-01-01'`\n",
    "\n",
    "    ### How do you combine multiple conditions in SQL?\n",
    "\n",
    "    - [x] With `AND`, `OR`, `NOT`\n",
    "    - [ ] With `&&`, `||`, `!`\n",
    "    - [ ] With `+`, `-`, `*`\n",
    "    - [ ] With `COMBINE`, `MERGE`, `JOIN`\n",
    "\n",
    "\n",
    "    ### Which error is in this SQL example?\n",
    "\n",
    "    ```sql\n",
    "    SELECT * FROM baustellen\n",
    "    WHERE baubeginn = '2023-01-01' AND bauende = '2024-01-01'\n",
    "    ```\n",
    "\n",
    "    - [ ] `AND` is not allowed\n",
    "    - [ ] Date format is wrong\n",
    "    - [x] No error - the code is correct\n",
    "    - [ ] `WHERE` must be at the end\n",
    "\n",
    "\n",
    "    ### What does the SQL function `count(*)` do?\n",
    "\n",
    "    - [ ] Sums all values\n",
    "    - [x] Counts the number of rows\n",
    "    - [ ] Finds the maximum value\n",
    "    - [ ] Calculates the average\n",
    "\n",
    "\n",
    "    ### Which aggregate functions are in SQL?\n",
    "\n",
    "    - [x] `min()`, `max()`, `avg()`, `sum()`, `count()`\n",
    "    - [ ] `first()`, `last()`, `middle()`\n",
    "    - [ ] `add()`, `subtract()`, `multiply()`\n",
    "    - [ ] `top()`, `bottom()`, `center()`\n",
    "\n",
    "\n",
    "    ### Sort the following parts of an SQL aggregate query:\n",
    "\n",
    "    1. `SELECT sparte, count(*), avg(baudauer)`\n",
    "    2. `FROM baustellen`\n",
    "    3. `GROUP BY sparte`\n",
    "\n",
    "\n",
    "    ### What does `GROUP BY sparte` do in an SQL query?\n",
    "\n",
    "    - [ ] Sorts by category\n",
    "    - [x] Groups rows with the same category\n",
    "    - [ ] Filters by category\n",
    "    - [ ] Deletes duplicate categories\n",
    "\n",
    "\n",
    "    ### How do you sort results in SQL in descending order?\n",
    "\n",
    "    - [ ] `SORT BY spalte DOWN`\n",
    "    - [x] `ORDER BY spalte DESC`\n",
    "    - [ ] `ARRANGE BY spalte REVERSE`\n",
    "    - [ ] `DESCEND BY spalte`\n",
    "\n",
    "\n",
    "    ### What does `LIMIT 3` do in an SQL query?\n",
    "\n",
    "    - [ ] Limits to 3 columns\n",
    "    - [x] Returns at most 3 result rows\n",
    "    - [ ] Sorts the first 3 entries\n",
    "    - [ ] Filters for values smaller than 3\n",
    "\n",
    "\n",
    "    ### Which error is in this SQL example?\n",
    "\n",
    "    ```sql\n",
    "    SELECT sparte, count(*)\n",
    "    FROM baustellen\n",
    "    ORDER BY count(*)\n",
    "    GROUP BY sparte\n",
    "    ```\n",
    "\n",
    "    - [x] `ORDER BY` must come after `GROUP BY`\n",
    "    - [ ] `count(*)` cannot be sorted\n",
    "    - [ ] `GROUP BY` is in the wrong position\n",
    "    - [ ] A `WHERE` is missing\n",
    "\n",
    "\n",
    "    ### What does a `JOIN` do in SQL?\n",
    "\n",
    "    - [ ] Combines columns of a table\n",
    "    - [x] Joins data from multiple tables\n",
    "    - [ ] Sorts table data\n",
    "    - [ ] Deletes duplicate entries\n",
    "\n",
    "\n",
    "    ### Why are table prefixes like `b.spalte` used in JOINs?\n",
    "\n",
    "    - [ ] To beautify the code\n",
    "    - [x] To uniquely identify columns with the same name\n",
    "    - [ ] To speed up the query\n",
    "    - [ ] For error handling\n",
    "\n",
    "\n",
    "    ### What does `DISTINCT` do in an SQL query?\n",
    "\n",
    "    - [ ] Sorts the results\n",
    "    - [ ] Limits the number of results\n",
    "    - [x] Removes duplicate rows from the results\n",
    "    - [ ] Joins multiple tables\n",
    "\n",
    "\n",
    "    ### What is the difference between INNER JOIN and LEFT JOIN?\n",
    "    - [x] INNER JOIN returns only matching rows, LEFT JOIN returns all rows from the left table\n",
    "    - [ ] LEFT JOIN returns only matching rows, INNER JOIN returns all rows from the left table\n",
    "    - [ ] There is no difference, both are the same\n",
    "    - [ ] INNER JOIN is faster than LEFT JOIN\n",
    "\n",
    "\n",
    "    ### Sort the following parts of a JOIN query:\n",
    "\n",
    "    1. `SELECT b.spalte1, a.spalte2`\n",
    "    2. `FROM baustellen AS b`\n",
    "    3. `JOIN adressenliste AS a`\n",
    "    4. `WHERE b.id = a.id`\n",
    "\n",
    "\n",
    "    ### What is the difference between different JOIN types?\n",
    "\n",
    "    - [x] They determine which rows are returned when there is no match\n",
    "    - [ ] They influence the speed of the query\n",
    "    - [ ] They change the sorting of the results\n",
    "    - [ ] They determine the number of joined tables\n",
    "\n",
    "\n",
    "    ### Which error is in this JOIN example?\n",
    "\n",
    "    ```sql\n",
    "    SELECT * FROM baustellen\n",
    "    NATURAL JOIN adressenliste, gemeinden\n",
    "    ```\n",
    "\n",
    "    - [ ] `NATURAL JOIN` does not exist\n",
    "    - [ ] Too many tables in the JOIN\n",
    "    - [x] Potential cross-join due to multiple tables without explicit conditions\n",
    "    - [ ] Falsche Syntax bei `NATURAL JOIN`\n",
    "\n",
    "\n",
    "```"
   ]
  },
  {
   "cell_type": "markdown",
   "id": "12b8734885be4d899b2b2886e9c8d206",
   "metadata": {
    "slideshow": {
     "slide_type": "slide"
    },
    "tags": [
     "remove-cell",
     "translated_en"
    ],
    "translation": {
     "lang": "de",
     "src_hash": "d2b7467259ef9f52d61ecf9953374631953b152baba6f1edeaac46d4c3d40a0b",
     "updated_at_iso": "2025-08-16T17:31:47.746614+00:00"
    }
   },
   "source": [
    "<div class=\"vslide\">\n",
    "  <div class=\"vslide-title\">\n",
    "    <p style=\"font-family: Protomolecule; font-size: 2.3em; margin: 0px auto; text-align: center; width: 100%;\">Questions?</p>\n",
    "  </div>\n",
    "  <script>setSectionBackground('#000000', 'images/mj_questions1.mp4');</script>\n",
    "</div>"
   ]
  }
 ],
 "metadata": {
  "kernelspec": {
   "display_name": "Python 3 (ipykernel)",
   "language": "python",
   "name": "python3"
  },
  "language_info": {
   "codemirror_mode": {
    "name": "ipython",
    "version": 3
   },
   "file_extension": ".py",
   "mimetype": "text/x-python",
   "name": "python",
   "nbconvert_exporter": "python",
   "pygments_lexer": "ipython3",
   "version": "3.12.10"
  },
  "rise": {
   "auto_select": "none",
   "center": false,
   "enable_chalkboard": true,
   "header": "<img src=\"images/pd_logo.svg\" class=\"header_title_logo\"><img src=\"images/ai4sc_logo_v2.svg\" class=\"header_ai4sc_logo\">",
   "scroll": true,
   "show_buttons_on_startup": false,
   "slideNumber": true,
   "theme": "white"
  }
 },
 "nbformat": 4,
 "nbformat_minor": 4
}
