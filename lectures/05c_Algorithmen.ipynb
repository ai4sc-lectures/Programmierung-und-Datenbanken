{
 "cells": [
  {
   "cell_type": "markdown",
   "metadata": {
    "editable": true,
    "slideshow": {
     "slide_type": "slide"
    },
    "tags": [
     "remove-cell"
    ]
   },
   "source": [
    "<div class=\"vslide\">\n",
    "  <div class=\"vslide-title\">\n",
    "    <p style=\"font-family: Protomolecule; font-size: 2.3em; line-height: 90%; margin: 0px auto; text-align: center; width: 100%;\"><span style=\"letter-spacing: .04rem;\">programmierung</span><br><span style=\"letter-spacing: .0rem;\">und datenbanken</span></p>\n",
    "<p class=\"author\" style=\"font-family: Protomolecule; margin: 0px auto;  text-align: center; width: 100%; font-size: 1.2em;\">Joern Ploennigs</p>\n",
    "<p class=\"subtitle\" style=\"font-family: Protomolecule; margin: 1em auto; text-align: center; width: 100%; font-size: 1.2em;\">Algorithmen</p>\n",
    "  </div>\n",
    "<script>\n",
    "  function setSectionBackground(c,v){\n",
    "    let e=document.currentScript.previousElementSibling;\n",
    "    while(e&&e.tagName!=='SECTION')e=e.parentElement;\n",
    "    if(e){\n",
    "      if(c)e.setAttribute('data-background-color',c);\n",
    "      if(v){\n",
    "        e.setAttribute('data-background-video',v);\n",
    "        e.setAttribute('data-background-video-loop','true');\n",
    "        e.setAttribute('data-background-video-muted','true');\n",
    "      }\n",
    "    }\n",
    "  }\n",
    "  setSectionBackground('#000000', 'images/05b_Algorithmen/mj_title.mp4');\n",
    "</script>\n",
    "<style>\n",
    ".flex-row{display:flex; gap:2rem; align-items:flex-start; justify-content:space-between;}\n",
    ".flex-row .col1{flex:1; min-width:10px}\n",
    ".flex-row .col2{flex:2; min-width:10px}\n",
    ".flex-row .col3{flex:3; min-width:10px}\n",
    ".flex-row .col4{flex:4; min-width:10px}\n",
    ".flex-row .col5{flex:5; min-width:10px}\n",
    ".flex-row .col6{flex:6; min-width:10px}\n",
    ".flex-row .col7{flex:7; min-width:10px}\n",
    ".vcent{display:flex; align-items:center; justify-content:center}\n",
    "</style>\n",
    "</div>"
   ]
  },
  {
   "cell_type": "markdown",
   "metadata": {
    "slideshow": {
     "slide_type": "skip"
    }
   },
   "source": [
    "# Algorithmen"
   ]
  },
  {
   "cell_type": "markdown",
   "metadata": {
    "slideshow": {
     "slide_type": "skip"
    }
   },
   "source": [
    "![](images/05c_Algorithmen/mj_title_band.jpg)\n",
    "\n",
    "> Everything should be made as simple as possible, but not simpler.\n",
    ">\n",
    "> — Albert Einstein"
   ]
  },
  {
   "cell_type": "markdown",
   "metadata": {
    "slideshow": {
     "slide_type": "skip"
    }
   },
   "source": [
    "## <a href=\"/lec_slides/05c_Algorithmen.slides.html\">Folien</a>\n",
    "<iframe src=\"/lec_slides/05c_Algorithmen.slides.html\" width=\"750\" height=\"500\"></iframe>"
   ]
  },
  {
   "cell_type": "markdown",
   "metadata": {
    "slideshow": {
     "slide_type": "slide"
    },
    "tags": [
     "remove-cell"
    ]
   },
   "source": [
    "## Ablauf\n",
    "\n",
    "![](images/partA_6.svg)"
   ]
  },
  {
   "cell_type": "markdown",
   "metadata": {
    "slideshow": {
     "slide_type": "skip"
    }
   },
   "source": [
    "## Komplexe Datenstruktur - Bäume"
   ]
  },
  {
   "cell_type": "markdown",
   "metadata": {
    "slideshow": {
     "slide_type": "skip"
    }
   },
   "source": [
    "Eine weitere wichtige Komplexe (zusammengesetzte) Datenstruktur sind Bäume. Sie werden insbesondere für effizientes Suchen benutzt."
   ]
  },
  {
   "cell_type": "markdown",
   "metadata": {
    "slideshow": {
     "slide_type": "skip"
    }
   },
   "source": [
    "Wir definieren den folgenden Baum"
   ]
  },
  {
   "attachments": {},
   "cell_type": "markdown",
   "metadata": {
    "slideshow": {
     "slide_type": "skip"
    }
   },
   "source": [
    "<center><img src=\"https://mermaid.ink/svg/pako:eNptj8EKgzAQRH8l7GkDekhE0Rx68g_aYy7BrFUwKjY5FPHfm2pbKLinmXnDsrtCM1kCBffFzB271XpkcYREFJJzlqYXxgrEgvODHHrPM8TsJK4Qq2_8v0eU0ZU_9nE7E3k0-SmSAlEKziEBR4szvY3nru-iBt-RIw0qSkutCYPXoMctVk3w0_U5NqD8EiiBMFvjqe5NfNSBas3woO0FhYI-BA\" width=\"40%\"></center>"
   ]
  },
  {
   "cell_type": "markdown",
   "metadata": {
    "slideshow": {
     "slide_type": "skip"
    }
   },
   "source": [
    "Wir stellen den Baum hier als Dictionaries dar, bei denen wir den Wert semantisch als `wert` und die Unterbäume mit `links` und `rechts` bezeichnen. Durch Einrücken wird die Struktur sichtbarer. Weggelassene Felder sind automatisch `None`."
   ]
  },
  {
   "cell_type": "code",
   "execution_count": null,
   "metadata": {
    "slideshow": {
     "slide_type": "skip"
    }
   },
   "outputs": [],
   "source": [
    "baum = {\n",
    "        \"wert\": 12,\n",
    "        \"links\":{\n",
    "                \"wert\": 6,\n",
    "                \"links\": {\"wert\":  3},\n",
    "                \"rechts\":{\"wert\":  9}\n",
    "        },\n",
    "        \"rechts\":{\n",
    "                \"wert\": 18,\n",
    "                \"links\": {\"wert\": 15},\n",
    "                \"rechts\":{\"wert\": 21}\n",
    "        }\n",
    "}"
   ]
  },
  {
   "cell_type": "markdown",
   "metadata": {
    "slideshow": {
     "slide_type": "skip"
    }
   },
   "source": [
    "Wenn wir den Baum durchlaufen (traversen) wollen, brauchen wir eine rekursive Funktion. Sie lassen sich nicht in Loops umwandeln. Die rekursiven Funktionen arbeiten dabei auf dem angegebenen Knoten und rufen sich dann selbst mit dem entsprechenden Teilbaum der Kinder auf."
   ]
  },
  {
   "cell_type": "code",
   "execution_count": null,
   "metadata": {
    "slideshow": {
     "slide_type": "skip"
    }
   },
   "outputs": [],
   "source": [
    "def traverse(tree):\n",
    "\twert=tree[\"wert\"]                 # der aktuelle Wert\n",
    "\tprint(wert)                       # gebe den aktuellen Wert aus\n",
    "\tif \"links\" in tree:               # wenn der unterbaum links definiert ist\n",
    "\t\ttraverse(tree[\"links\"])       # rufe die Funktion rekursiv auf\n",
    "\tif \"rechts\" in tree:              # wenn der unterbaum rechts definiert ist\n",
    "\t\ttraverse(tree[\"rechts\"])      # rufe die Funktion rekursiv auf"
   ]
  },
  {
   "cell_type": "code",
   "execution_count": null,
   "metadata": {
    "slideshow": {
     "slide_type": "skip"
    }
   },
   "outputs": [],
   "source": [
    "traverse(baum)"
   ]
  },
  {
   "cell_type": "markdown",
   "metadata": {
    "slideshow": {
     "slide_type": "skip"
    }
   },
   "source": [
    "Wenn wir den Baum rekursiv durchlaufen (traversen), dann sehen wir, dass wir den Baum von oben nach unten, links vor rechts durchlaufen. Wir fangen also beim Wurzelknoten 12 an, und gehen dann links tiefer zur 6 von dort links tiefer zur 3, dann rechts zur l, weil kein tieferes Element existiert, u.s.w."
   ]
  },
  {
   "cell_type": "markdown",
   "metadata": {
    "slideshow": {
     "slide_type": "skip"
    }
   },
   "source": [
    "## Sortier-Algorithmen"
   ]
  },
  {
   "cell_type": "markdown",
   "metadata": {
    "slideshow": {
     "slide_type": "skip"
    }
   },
   "source": [
    "### Bubble Sort"
   ]
  },
  {
   "cell_type": "markdown",
   "metadata": {
    "slideshow": {
     "slide_type": "skip"
    }
   },
   "source": [
    "Das Sortieren von Elementen in einer Liste ist eine übliche Aufgabe beim Programmieren. Hierfür gibt es einige Standard-Algorithmen, die man kennen sollte.\n",
    "\n",
    "Bubble Sort ist einer der einfachsten Sortieralgorithmen. Hierbei wird jedes Element der Liste durchlaufen und mit dem nächsten Element verglichen. Ist das zweite Element kleiner als das erste wird die Position getauscht. Die Liste wird so lange wieder und wieder durchlaufen bis dieser Fall nicht mehr auftritt."
   ]
  },
  {
   "cell_type": "code",
   "execution_count": null,
   "metadata": {
    "slideshow": {
     "slide_type": "skip"
    }
   },
   "outputs": [],
   "source": [
    "def bubbleSort(numbers):\n",
    "    for i in range(len(numbers)-1):\n",
    "        for j in range(0, len(numbers)-i-1):\n",
    "            if numbers[j] > numbers[j + 1] :\n",
    "                numbers[j], numbers[j + 1] = numbers[j + 1], numbers[j]"
   ]
  },
  {
   "cell_type": "code",
   "execution_count": null,
   "metadata": {
    "slideshow": {
     "slide_type": "skip"
    }
   },
   "outputs": [],
   "source": [
    "zahlenfolge = [12, 6, 3, 9, 18, 15, 21]\n",
    "\n",
    "bubbleSort(zahlenfolge)\n",
    "\n",
    "zahlenfolge"
   ]
  },
  {
   "cell_type": "markdown",
   "metadata": {
    "slideshow": {
     "slide_type": "skip"
    }
   },
   "source": [
    "Es ist zu beachten, das Bubble Sort die Liste direkt modifiziert, also die vorherige Reihenfolge geändert wird."
   ]
  },
  {
   "cell_type": "markdown",
   "metadata": {
    "slideshow": {
     "slide_type": "skip"
    }
   },
   "source": [
    "### QuickSort"
   ]
  },
  {
   "cell_type": "markdown",
   "metadata": {
    "slideshow": {
     "slide_type": "skip"
    }
   },
   "source": [
    "QuickSort ist ein Divide-and-Conquer-Algorithmus. Er wählt ein Element aus der Liste als zentrales Element und erzeugt dann jeweils eine Liste der Elemente die Kleiner sind als das zentrale Element und eine die Größer sind. Diese zwei Teillisten werden dann wieder mit QuickSort sortiert, bis die Teillisten die Größe 1 erreichen. So wird das Sortierproblem sukzessive immer kleiner."
   ]
  },
  {
   "cell_type": "code",
   "execution_count": null,
   "metadata": {
    "slideshow": {
     "slide_type": "skip"
    }
   },
   "outputs": [],
   "source": [
    "def quickSort(elements):\n",
    "    less = []\n",
    "    equal = []\n",
    "    greater = []\n",
    "\n",
    "    if len(elements) > 1:\n",
    "        pivot = elements[len(elements) % 2]\n",
    "        for x in elements:\n",
    "            if x < pivot:\n",
    "                less.append(x)\n",
    "            elif x == pivot:\n",
    "                equal.append(x)\n",
    "            elif x > pivot:\n",
    "                greater.append(x)\n",
    "        return quickSort(less) + equal + quickSort(greater)\n",
    "    else:  # Falls nur ein oder kein Element in der list ist\n",
    "        return elements"
   ]
  },
  {
   "cell_type": "markdown",
   "metadata": {
    "slideshow": {
     "slide_type": "skip"
    }
   },
   "source": [
    "Das Ergebnis ist eine sortierte Liste welche neu ist und zugewiesen werden muss."
   ]
  },
  {
   "cell_type": "code",
   "execution_count": null,
   "metadata": {
    "slideshow": {
     "slide_type": "skip"
    }
   },
   "outputs": [],
   "source": [
    "zahlenfolge = [12, 6, 3, 9, 18, 15, 21]\n",
    "\n",
    "zahlenfolge=quickSort(zahlenfolge)\n",
    "\n",
    "zahlenfolge"
   ]
  },
  {
   "cell_type": "markdown",
   "metadata": {
    "slideshow": {
     "slide_type": "skip"
    }
   },
   "source": [
    "### Insertion Sort"
   ]
  },
  {
   "cell_type": "markdown",
   "metadata": {
    "slideshow": {
     "slide_type": "skip"
    }
   },
   "source": [
    "\n",
    "Ein weiterer Algorithmus zum Sortieren ist Insertion-Sort. Er basiert auf der menschlichen Strategie Karten zu sortieren, indem wir die Werte dort einfügen, wo sie am besten passen."
   ]
  },
  {
   "cell_type": "code",
   "execution_count": null,
   "metadata": {
    "slideshow": {
     "slide_type": "skip"
    }
   },
   "outputs": [],
   "source": [
    "def insertion_sort(arr):\n",
    "    for i in range(1, len(arr)): # Iteriere durch alle elemente\n",
    "        key = arr[i]\n",
    "        # Bewege alle elemente von arr[0..i-1], die größer als\n",
    "        # das aktuelle element key eine position vor die aktuelle\n",
    "        j = i-1\n",
    "        while j >= 0 and key < arr[j] :\n",
    "            arr[j+1] = arr[j]\n",
    "            j -= 1\n",
    "        arr[j+1] = key"
   ]
  },
  {
   "cell_type": "markdown",
   "metadata": {
    "slideshow": {
     "slide_type": "skip"
    }
   },
   "source": [
    "Das Ergebnis ist die korrekt sortierte Liste. Auch wieder direkt modifiziert."
   ]
  },
  {
   "cell_type": "code",
   "execution_count": null,
   "metadata": {
    "slideshow": {
     "slide_type": "skip"
    }
   },
   "outputs": [],
   "source": [
    "zahlenfolge = [12, 6, 3, 9, 18, 15, 21]\n",
    "\n",
    "insertion_sort(zahlenfolge)\n",
    "\n",
    "zahlenfolge"
   ]
  },
  {
   "cell_type": "markdown",
   "metadata": {
    "slideshow": {
     "slide_type": "skip"
    }
   },
   "source": [
    "### Python Standardfunktion `sorted`"
   ]
  },
  {
   "cell_type": "markdown",
   "metadata": {
    "slideshow": {
     "slide_type": "skip"
    }
   },
   "source": [
    "Die Lösung im Programmieralltag ist die in Python eingebaute Funktion `sorted()`. Hier wird die Liste nicht modifiziert und muss neu zugewiesen werden."
   ]
  },
  {
   "cell_type": "code",
   "execution_count": null,
   "metadata": {
    "slideshow": {
     "slide_type": "skip"
    }
   },
   "outputs": [],
   "source": [
    "zahlenfolge = [12, 6, 3, 9, 18, 15, 21]\n",
    "\n",
    "zahlenfolge=sorted(zahlenfolge)\n",
    "\n",
    "zahlenfolge"
   ]
  },
  {
   "cell_type": "markdown",
   "metadata": {
    "slideshow": {
     "slide_type": "skip"
    }
   },
   "source": [
    "### Performancevergleich der Sortierfunktionen"
   ]
  },
  {
   "cell_type": "markdown",
   "metadata": {
    "slideshow": {
     "slide_type": "skip"
    }
   },
   "source": [
    "Im Performancevergleich der Funktionen schneidet Bubble-Sort schlechter ab als Insertion-Sort. Die eingebaute Funktion `sorted()` ist deutlich schneller als beide. Sie nutzt den Timsort-Algorithmus (eine Variante von insertion_sort) und ist in C implementiert."
   ]
  },
  {
   "cell_type": "code",
   "execution_count": null,
   "metadata": {
    "slideshow": {
     "slide_type": "skip"
    }
   },
   "outputs": [],
   "source": [
    "%timeit bubbleSort([12, 6, 3, 9, 18, 15, 21])"
   ]
  },
  {
   "cell_type": "code",
   "execution_count": null,
   "metadata": {
    "slideshow": {
     "slide_type": "skip"
    }
   },
   "outputs": [],
   "source": [
    "%timeit quickSort([12, 6, 3, 9, 18, 15, 21])"
   ]
  },
  {
   "cell_type": "code",
   "execution_count": null,
   "metadata": {
    "slideshow": {
     "slide_type": "skip"
    }
   },
   "outputs": [],
   "source": [
    "%timeit insertion_sort([12, 6, 3, 9, 18, 15, 21])"
   ]
  },
  {
   "cell_type": "code",
   "execution_count": null,
   "metadata": {
    "slideshow": {
     "slide_type": "skip"
    }
   },
   "outputs": [],
   "source": [
    "%timeit sorted([12, 6, 3, 9, 18, 15, 21])"
   ]
  },
  {
   "cell_type": "markdown",
   "metadata": {
    "slideshow": {
     "slide_type": "skip"
    }
   },
   "source": [
    "Dieses Ergebnis bestätigt sich, wenn wir ein deutlich größere Sequenz sortieren. Wir erzeugen eine große Zahlenfolge mit 2.500 Elementen mit `range()` und kehren diese mit `reverse()` in der Reihenfolge um."
   ]
  },
  {
   "cell_type": "code",
   "execution_count": null,
   "metadata": {
    "slideshow": {
     "slide_type": "skip"
    }
   },
   "outputs": [],
   "source": [
    "zahlenfolge_gross = list(range(2500))\n",
    "zahlenfolge_gross.reverse()"
   ]
  },
  {
   "cell_type": "code",
   "execution_count": null,
   "metadata": {
    "slideshow": {
     "slide_type": "skip"
    }
   },
   "outputs": [],
   "source": [
    "%timeit bubbleSort(zahlenfolge_gross)"
   ]
  },
  {
   "cell_type": "code",
   "execution_count": null,
   "metadata": {
    "slideshow": {
     "slide_type": "skip"
    }
   },
   "outputs": [],
   "source": [
    "%timeit quickSort(zahlenfolge_gross)"
   ]
  },
  {
   "cell_type": "code",
   "execution_count": null,
   "metadata": {
    "slideshow": {
     "slide_type": "skip"
    }
   },
   "outputs": [],
   "source": [
    "%timeit insertion_sort(zahlenfolge_gross)"
   ]
  },
  {
   "cell_type": "code",
   "execution_count": null,
   "metadata": {
    "slideshow": {
     "slide_type": "skip"
    }
   },
   "outputs": [],
   "source": [
    "%timeit sorted(zahlenfolge_gross)"
   ]
  },
  {
   "cell_type": "markdown",
   "metadata": {
    "slideshow": {
     "slide_type": "skip"
    }
   },
   "source": [
    "Hier zeigt sich erneut, dass BubbleSort am schlechtesten abscheidet aufgrund der vielen Vergleiche. Quick Sort schneidet besser ab, weil es das Problem in kleinere Probleme unterteilt. Insertion Sort ist allerdings immer noch performanter. Am schnellsten löst das Problem die eingebaute `sorted()` Funktion, welche auch auf dem Insertion Sort Algorithmus basiert."
   ]
  },
  {
   "cell_type": "markdown",
   "metadata": {
    "slideshow": {
     "slide_type": "skip"
    }
   },
   "source": [
    "## Suchen von Elementen in Listen"
   ]
  },
  {
   "cell_type": "markdown",
   "metadata": {
    "slideshow": {
     "slide_type": "skip"
    }
   },
   "source": [
    "### Vollständige Suche"
   ]
  },
  {
   "cell_type": "markdown",
   "metadata": {
    "slideshow": {
     "slide_type": "skip"
    }
   },
   "source": [
    "Auch das Suchen und Finden von Elementen in Listen ist ein tägliche Aufgabe. Auch hier gibt es typische Algorithmen.\n",
    "\n",
    "Der naive Ansatz ist die vollständige Suche, indem wir in einer For-Each-Schleife durch alle Elemente in einer Liste iterieren, um zu sehen ob das Element irgendwo zu finden ist."
   ]
  },
  {
   "cell_type": "code",
   "execution_count": null,
   "metadata": {
    "slideshow": {
     "slide_type": "skip"
    }
   },
   "outputs": [],
   "source": [
    "def contains(list, x):\n",
    "\tfor l in list:\t\n",
    "\t\tif(l == x):\n",
    "\t\t\treturn True\n",
    "\treturn False"
   ]
  },
  {
   "cell_type": "markdown",
   "metadata": {
    "slideshow": {
     "slide_type": "skip"
    }
   },
   "source": [
    "Suchen wir als Beispiel ob 15 in unserer unsortierten Zahlenfolge `[12, 6, 3, 9, 18, 15, 21]`. Es ist das vorletzte Element in der Liste, also müssen wir durch alle vorherigen Elemente iterieren."
   ]
  },
  {
   "cell_type": "code",
   "execution_count": null,
   "metadata": {
    "slideshow": {
     "slide_type": "skip"
    }
   },
   "outputs": [],
   "source": [
    "zahlenfolge = [12, 6, 3, 9, 18, 15, 21]\n",
    "\n",
    "contains(zahlenfolge, 15)"
   ]
  },
  {
   "cell_type": "markdown",
   "metadata": {
    "slideshow": {
     "slide_type": "skip"
    }
   },
   "source": [
    "Wenn wir nach 1 suchen, wird korrekt zurückgegeben, dass die Zahl nicht in der Liste ist. Hierfür haben wir aber alle Elemente aus der Liste mit 1 vergleichen müssen."
   ]
  },
  {
   "cell_type": "code",
   "execution_count": null,
   "metadata": {
    "slideshow": {
     "slide_type": "skip"
    }
   },
   "outputs": [],
   "source": [
    "contains(zahlenfolge, 1)"
   ]
  },
  {
   "cell_type": "markdown",
   "metadata": {
    "slideshow": {
     "slide_type": "skip"
    }
   },
   "source": [
    "### Suchen mit Binary-Search"
   ]
  },
  {
   "cell_type": "markdown",
   "metadata": {
    "slideshow": {
     "slide_type": "skip"
    }
   },
   "source": [
    "Binary-Search ist ein Divide-and-Conquer-Algorithmus zum Suchen in einer *sortierten* Liste. Er greift aus der Liste immer das mittlere Element heraus und entscheidet, ob das gesuchte Element kleiner oder größer ist und fäht dann mit der Teilliste rechts oder links fort. Dadurch kann es weite Teile der Liste ignorieren und die Anzahl der Vergleiche minimieren."
   ]
  },
  {
   "cell_type": "code",
   "execution_count": null,
   "metadata": {
    "slideshow": {
     "slide_type": "skip"
    }
   },
   "outputs": [],
   "source": [
    "def binarySearch_sub(arr, suchwert, low, high):\n",
    "    while low <= high: # Wiederhole bis low und high sich treffen\n",
    "        mid = low + (high - low)//2  # ganzzahlige division durch zwei\n",
    "        # Wenn gefunden, so gebe den index aus\n",
    "        if arr[mid] == suchwert:\n",
    "            return mid\n",
    "        # Wenn das element kleiner als der suchwert ist, \n",
    "        # dann kann es nur im linken teilarray sein\n",
    "        elif arr[mid] > suchwert:\n",
    "            return binarySearch_sub(arr, suchwert, low, mid - 1)\n",
    "        # Sonst ist das element größer als der suchwert und \n",
    "        # dieser muss im rechten teilarray sein\n",
    "        else:\n",
    "            return binarySearch_sub(arr,  suchwert, mid + 1, high)\n",
    "    # Wenn gar nichts gefunden wurde gebe die Position -1 aus\n",
    "    return -1\n",
    "\n",
    "def binarySearch(arr, suchwert):\n",
    "    # Da Binary-Search eine sortierte Zahlenfolge braucht. Sortiert man die Zahlen vorher.\n",
    "    arr_sorted = sorted(arr)\n",
    "    return binarySearch_sub(arr_sorted, suchwert, 0, len(arr_sorted))"
   ]
  },
  {
   "cell_type": "markdown",
   "metadata": {
    "slideshow": {
     "slide_type": "skip"
    }
   },
   "source": [
    "Die Rückgabewert einer Binary-Search ist üblicherweise der Index der gefundenen Zahl"
   ]
  },
  {
   "cell_type": "code",
   "execution_count": null,
   "metadata": {
    "slideshow": {
     "slide_type": "skip"
    }
   },
   "outputs": [],
   "source": [
    "binarySearch(zahlenfolge, 15)"
   ]
  },
  {
   "cell_type": "markdown",
   "metadata": {
    "slideshow": {
     "slide_type": "skip"
    }
   },
   "source": [
    "Wenn gar nichts gefunden wurde, wird die Position -1 ausgegeben"
   ]
  },
  {
   "cell_type": "code",
   "execution_count": null,
   "metadata": {
    "slideshow": {
     "slide_type": "skip"
    }
   },
   "outputs": [],
   "source": [
    "binarySearch(zahlenfolge, 1)"
   ]
  },
  {
   "cell_type": "markdown",
   "metadata": {
    "slideshow": {
     "slide_type": "skip"
    }
   },
   "source": [
    "### Suchen mit binären Suchbäumen"
   ]
  },
  {
   "cell_type": "markdown",
   "metadata": {
    "slideshow": {
     "slide_type": "skip"
    }
   },
   "source": [
    "Der am Anfang aufgestellte Datenstruktur Baum stellt einen binären Suchbaum dar und kann zur Suche verwendet werden. Wir nutzen hierbei aus, dass dieser *bereits sortiert* ist. Dann können wir eine neue Suchfunktion definieren, welche konzeptionell dem Binary Search entspricht."
   ]
  },
  {
   "cell_type": "code",
   "execution_count": null,
   "metadata": {
    "slideshow": {
     "slide_type": "skip"
    }
   },
   "outputs": [],
   "source": [
    "def suchBaum(tree, suchwert):\n",
    "\twert=tree[\"wert\"]       # der aktuelle Wert\n",
    "\tif wert == suchwert: \n",
    "\t\treturn True\n",
    "\tif suchwert < wert and \"links\" in tree:\n",
    "\t\treturn suchBaum(tree[\"links\"], suchwert)\n",
    "\telif suchwert > wert and \"rechts\" in tree:\n",
    "\t\treturn suchBaum(tree[\"rechts\"], suchwert)\n",
    "\telse:\n",
    "\t\treturn False"
   ]
  },
  {
   "cell_type": "code",
   "execution_count": null,
   "metadata": {
    "slideshow": {
     "slide_type": "skip"
    }
   },
   "outputs": [],
   "source": [
    "suchBaum(baum, 15)"
   ]
  },
  {
   "cell_type": "code",
   "execution_count": null,
   "metadata": {
    "slideshow": {
     "slide_type": "skip"
    }
   },
   "outputs": [],
   "source": [
    "suchBaum(baum, 1)"
   ]
  },
  {
   "cell_type": "markdown",
   "metadata": {
    "slideshow": {
     "slide_type": "skip"
    }
   },
   "source": [
    "### Binäre Suchbäume erstellen"
   ]
  },
  {
   "cell_type": "markdown",
   "metadata": {
    "slideshow": {
     "slide_type": "skip"
    }
   },
   "source": [
    "Die Suche in einem binären Suchbaum ist an sich nicht schneller als beim Binary-Search in einer sortierten Liste. Allerdings ist das Sortieren der Liste sehr aufwendig. Auch das Einfügen neuer Elemente ist sehr langsam da hierfür erst ein Binary-Search durchgeführt werden muss, um die Einfügeposition zu finden und dann muss die komplette Liste (sofern als Array implementiert) kopiert werden, weil sie ja ein Element größer wird. Das kostet insbesondere bei sehr großen Listen mit über 10.000 Elementen sehr viel Performance.\n",
    "\n",
    "Bei der Nutzung eines binären Suchbaums kann man hingegen auch beim Einfügen ausnutzen, dass er immer sortiert ist. Dadurch nutzen wir auch beim Einfügen den Binary-Search Algorithmus. Insbesondere bei wachsenden Datenstrukturen die sortiert vorliegen müssen, macht das Suchbäume äußerst effektiv. Zum Einfügen können wir die Funktion `suchBaum()` so umschreiben, dass sie den Wert immer als neuen Blattknoten einfügt."
   ]
  },
  {
   "cell_type": "code",
   "execution_count": null,
   "metadata": {
    "slideshow": {
     "slide_type": "skip"
    }
   },
   "outputs": [],
   "source": [
    "def erweitereBaum(tree, neuer_wert):\t\n",
    "    wert=tree[\"wert\"]       # der aktuelle Wert\n",
    "    if wert == neuer_wert: \n",
    "        return #  wir brechen ab da der Wert schon enthalten ist und nicht hinzugefügt werden muss\n",
    "    elif neuer_wert < wert:\n",
    "        if \"links\" not in tree: # wenn es noch kein linken unterbaum gibt\n",
    "            tree[\"links\"]={\"wert\":neuer_wert} # füge einen neuen Knoten links unter dem aktuellen hinzu\n",
    "        else:\n",
    "            return erweitereBaum(tree[\"links\"], neuer_wert)\n",
    "    else: # sonst suche weiter nach Einfügeposition\n",
    "        if \"rechts\" not in tree: # wenn es noch kein rechten unterbaum gibt\n",
    "            tree[\"rechts\"]={\"wert\":neuer_wert} # füge einen neuen Knoten rechts unter dem aktuellen hinzu\n",
    "        else:\n",
    "            return erweitereBaum(tree[\"rechts\"], neuer_wert)"
   ]
  },
  {
   "cell_type": "code",
   "execution_count": null,
   "metadata": {
    "slideshow": {
     "slide_type": "skip"
    }
   },
   "outputs": [],
   "source": [
    "baum2 = {\"wert\": 12} # Wir initialisieren den Baum mit 12\n",
    "for wert in [12, 6, 3, 9, 18, 15, 21]: # wir fügen die Werte des Suchbaums am Anfang hinzu\n",
    "    erweitereBaum(baum2, wert)"
   ]
  },
  {
   "cell_type": "markdown",
   "metadata": {
    "slideshow": {
     "slide_type": "skip"
    }
   },
   "source": [
    "Es gilt zu beachten, dass der Baum direkt modifiziert wird.\n",
    "\n",
    "Um zu prüfen ob der neue Baum genauso aussieht wie der am Anfang dargestellte Baum `baum` geben wir beide mit `print()` aus."
   ]
  },
  {
   "cell_type": "code",
   "execution_count": null,
   "metadata": {
    "slideshow": {
     "slide_type": "skip"
    }
   },
   "outputs": [],
   "source": [
    "print(baum)"
   ]
  },
  {
   "cell_type": "code",
   "execution_count": null,
   "metadata": {
    "slideshow": {
     "slide_type": "skip"
    }
   },
   "outputs": [],
   "source": [
    "print(baum2)"
   ]
  },
  {
   "cell_type": "markdown",
   "metadata": {
    "slideshow": {
     "slide_type": "skip"
    }
   },
   "source": [
    "### Suchen mit Python in Listen"
   ]
  },
  {
   "cell_type": "markdown",
   "metadata": {
    "slideshow": {
     "slide_type": "skip"
    }
   },
   "source": [
    "Im Alltag kann die in Python eingebaute Suche mit `15 in zahlenfolge` genutzt werden."
   ]
  },
  {
   "cell_type": "code",
   "execution_count": null,
   "metadata": {
    "slideshow": {
     "slide_type": "skip"
    }
   },
   "outputs": [],
   "source": [
    "15 in zahlenfolge"
   ]
  },
  {
   "cell_type": "markdown",
   "metadata": {
    "slideshow": {
     "slide_type": "skip"
    }
   },
   "source": [
    "### Suchen in Python mit Sets"
   ]
  },
  {
   "cell_type": "markdown",
   "metadata": {
    "slideshow": {
     "slide_type": "skip"
    }
   },
   "source": [
    "Insbesondere bei großen Listen (>> 100) lohnt sich die Umwandlung in ein Set. Diese sind optimiert für die Abfrage, ob ein Element bereits enthalten ist. Hierfür werden Hashing-Algorithmen  und meist Sortierbäume verwendet, welche erlauben nur einen Teil der Elemente zu durchsuchen."
   ]
  },
  {
   "cell_type": "code",
   "execution_count": null,
   "metadata": {
    "slideshow": {
     "slide_type": "skip"
    }
   },
   "outputs": [],
   "source": [
    "zahlenset = set(zahlenfolge)"
   ]
  },
  {
   "cell_type": "code",
   "execution_count": null,
   "metadata": {
    "slideshow": {
     "slide_type": "skip"
    }
   },
   "outputs": [],
   "source": [
    "15 in zahlenset"
   ]
  },
  {
   "cell_type": "markdown",
   "metadata": {
    "slideshow": {
     "slide_type": "skip"
    }
   },
   "source": [
    "### Performancevergleich der Suchfunktionen"
   ]
  },
  {
   "cell_type": "markdown",
   "metadata": {
    "slideshow": {
     "slide_type": "skip"
    }
   },
   "source": [
    "Im Performancevergleich siegt wieder die eingebaute Suche mit `15 in zahlenfolge`. Die Performance der vollständigen Suche mit `contains` ist besser als die Suche mit Binary-Search oder die im Suchbaum. Wenn auch geschlagen von der internen Suche in Listen und in Sets.\n",
    "\n",
    "Das ist dem kleinen Beispiel gescholten und liegt an dem zusätzlichen Overhead durch die Datenstruktur und den rekursiven Funktionsaufruf. Insbesondere bei sehr großen Listen sind Suchbäume und Binary-Search deutlich effektiver als die vollständige Suche."
   ]
  },
  {
   "cell_type": "code",
   "execution_count": null,
   "metadata": {
    "slideshow": {
     "slide_type": "skip"
    }
   },
   "outputs": [],
   "source": [
    "%timeit contains(zahlenfolge, 15)"
   ]
  },
  {
   "cell_type": "code",
   "execution_count": null,
   "metadata": {
    "slideshow": {
     "slide_type": "skip"
    }
   },
   "outputs": [],
   "source": [
    "%timeit binarySearch(zahlenfolge, 15)"
   ]
  },
  {
   "cell_type": "code",
   "execution_count": null,
   "metadata": {
    "slideshow": {
     "slide_type": "skip"
    }
   },
   "outputs": [],
   "source": [
    "%timeit suchBaum(baum, 15)"
   ]
  },
  {
   "cell_type": "code",
   "execution_count": null,
   "metadata": {
    "slideshow": {
     "slide_type": "skip"
    }
   },
   "outputs": [],
   "source": [
    "%timeit 15 in zahlenfolge"
   ]
  },
  {
   "cell_type": "code",
   "execution_count": null,
   "metadata": {
    "slideshow": {
     "slide_type": "skip"
    }
   },
   "outputs": [],
   "source": [
    "%timeit 15 in zahlenset"
   ]
  },
  {
   "cell_type": "markdown",
   "metadata": {
    "slideshow": {
     "slide_type": "skip"
    }
   },
   "source": [
    "Vergleichen wir noch einmal ein sehr großes Beispiel mit 100.000 Elementen. Wir erzeugen eine sehr große Zahlenfolge mit `range()` und kehren diese mit `reverse()` in der Reihenfolge um."
   ]
  },
  {
   "cell_type": "code",
   "execution_count": null,
   "metadata": {
    "slideshow": {
     "slide_type": "skip"
    }
   },
   "outputs": [],
   "source": [
    "zahlenfolge_gross = list(range(100000))\n",
    "zahlenfolge_gross.reverse()"
   ]
  },
  {
   "cell_type": "markdown",
   "metadata": {
    "slideshow": {
     "slide_type": "skip"
    }
   },
   "source": [
    "Wir erstellen das set der Zahlenfolge."
   ]
  },
  {
   "cell_type": "code",
   "execution_count": null,
   "metadata": {
    "slideshow": {
     "slide_type": "skip"
    }
   },
   "outputs": [],
   "source": [
    "zahlenset_gross = set(zahlenfolge_gross)"
   ]
  },
  {
   "cell_type": "markdown",
   "metadata": {
    "slideshow": {
     "slide_type": "skip"
    }
   },
   "source": [
    "Um den Suchbaum zu erstellen ist es nicht sehr effizient die Elemente in sortierter Ordnung hinzuzufügen oder in umgekehrter Reihenfolge wie in diesem Fall. Das würde dazu führen, dass der Baum unbalanciert  ist und einfach nur eine verkettete Liste darstellt. Um sicher zu stellen, dass der Baum gut balanziert ist, fügen wir die Elemente in optimaler Ordnung hinzu, welches die gleiche Ordnung ist die ein Binary-Search Algorithmus durchläuft. Es gibt zusätzliche Suchbäume, die sich automatisch ausbalanzieren, das sind sogenannte [balanzierte Suchbäume](https://de.wikipedia.org/wiki/Balancierter_Baum). Sie führen aber für die hier behandelten Beispiel zu weit."
   ]
  },
  {
   "cell_type": "code",
   "execution_count": null,
   "metadata": {
    "slideshow": {
     "slide_type": "skip"
    }
   },
   "outputs": [],
   "source": [
    "# Um sicher zu stellen, dass der Baum gut balanziert ist \n",
    "# initialisieren den Baum in der Hälfte\n",
    "# und fügen dann die Teilbäume in der Reihenfolge der binären suche hinzu\n",
    "baum_gross = {\"wert\": zahlenfolge_gross[len(zahlenfolge_gross)//2]}\n",
    "step = len(zahlenfolge_gross)//4\n",
    "while step>0:\n",
    "    idx=step\n",
    "    while idx < len(zahlenfolge_gross):\n",
    "        erweitereBaum(baum_gross, zahlenfolge_gross[idx])\n",
    "        idx=idx+step\n",
    "    step = step // 2"
   ]
  },
  {
   "cell_type": "code",
   "execution_count": null,
   "metadata": {
    "slideshow": {
     "slide_type": "skip"
    }
   },
   "outputs": [],
   "source": [
    "%timeit contains(zahlenfolge_gross, 15)"
   ]
  },
  {
   "cell_type": "code",
   "execution_count": null,
   "metadata": {
    "slideshow": {
     "slide_type": "skip"
    }
   },
   "outputs": [],
   "source": [
    "%timeit binarySearch(zahlenfolge_gross, 15)"
   ]
  },
  {
   "cell_type": "code",
   "execution_count": null,
   "metadata": {
    "slideshow": {
     "slide_type": "skip"
    }
   },
   "outputs": [],
   "source": [
    "%timeit suchBaum(baum_gross, 15)"
   ]
  },
  {
   "cell_type": "code",
   "execution_count": null,
   "metadata": {
    "slideshow": {
     "slide_type": "skip"
    }
   },
   "outputs": [],
   "source": [
    "%timeit 15 in zahlenfolge_gross"
   ]
  },
  {
   "cell_type": "code",
   "execution_count": null,
   "metadata": {
    "slideshow": {
     "slide_type": "skip"
    }
   },
   "outputs": [],
   "source": [
    "%timeit 15 in zahlenset_gross"
   ]
  },
  {
   "cell_type": "markdown",
   "metadata": {
    "slideshow": {
     "slide_type": "skip"
    }
   },
   "source": [
    "Das Ergebnis sieht hier ganz anders aus. Jetzt scheidet `contains()` deutlich schlechter ab und Binay-Search ist jetzt um Größenordnungen besser. Sogar in einigen Durchläufen besser als die interne Suchfunktion von Python in Listen, weil dies auch eine vollständige Suche in C ist. Am Besten schneidet allerdings der Suchbaum ab, da er ja immer sortiert ist und somit den Binary-Search-Algorithmus ohne Sortieren ausführen kann. Nur die Suche im Set ist noch einmal um eine Größenordnung besser."
   ]
  },
  {
   "cell_type": "markdown",
   "metadata": {
    "slideshow": {
     "slide_type": "slide"
    },
    "tags": [
     "remove-cell"
    ]
   },
   "source": [
    "## Algorithmen\n",
    "\n",
    "<div class=\"alert alert-block alert-success\">\n",
    "<b>📘 Definition: Algorithmen</b>\n",
    "\n",
    "Algorithmen sind wohldefinierte, eindeutige Handlungsanweisungen.\n",
    "</div>\n",
    "\n",
    "- Bekannte Beispiele:\n",
    "  - Schriftliche Division\n",
    "  - Dreieckskonstruktion\n",
    "- In der Informatik-Praxis: computerausführbar und endlich\n",
    "- Programmieren bedeutet Algorithmen und Datenstrukturen so zu kombinieren, dass man von der gewünschten Eingabe zur gewünschten Ausgabe kommt."
   ]
  },
  {
   "cell_type": "markdown",
   "metadata": {
    "slideshow": {
     "slide_type": "subslide"
    },
    "tags": [
     "remove-cell"
    ]
   },
   "source": [
    "## Beispiel für Teile und Herrsche – Binäre Suche\n",
    "\n",
    "<div class=\"flex-row\">\n",
    "  <div class=\"col1\">\n",
    "\n",
    "- Finde den Index einer Zahl in einer Liste (z. B. um zu prüfen ob die Zahl in einer Menge (set) vorkommt)\n",
    "\n",
    "- Anstatt die ganze Liste zu durchsuchen, teil man die Liste rekursiv in zwei Teile und schaut ob die gesuchte Zahl gleich (gefunden), größer (rechts) oder kleiner (links) in der Liste ist\n",
    "\n",
    "    <figure class=\"mj-fig\">\n",
    "        <img src=\"images/05c_Algorithmen/bin_suche.svg\" class=\"mj-fig-img\">\n",
    "    </figure>\n",
    "\n",
    "  </div>\n",
    "  <div class=\"col1\"> \n",
    "    <figure class=\"mj-fig\">\n",
    "        <img src=\"images/05c_Algorithmen/bin_suche.png\" class=\"mj-fig-img\">\n",
    "    </figure>\n",
    "  </div>\n",
    "</div>"
   ]
  },
  {
   "cell_type": "markdown",
   "metadata": {
    "slideshow": {
     "slide_type": "subslide"
    },
    "tags": [
     "remove-cell"
    ]
   },
   "source": [
    "## Heuristiken\n",
    "\n",
    "- Basieren nicht auf wohldefinierten oder eindeutigen Schritten, sondern auf praktischen Erfahrungen\n",
    "\n",
    "- Versuchen schnell ein hinreichend korrektes Ergebnis zu erreichen. *KEINE* Garantie die optimale Lösung zu finden.\n",
    "\n",
    "- Beispiel:\n",
    "  - Die Schätzung eines Experten\n",
    "  - Schrittweises Annähern"
   ]
  },
  {
   "cell_type": "markdown",
   "metadata": {
    "slideshow": {
     "slide_type": "subslide"
    },
    "tags": [
     "remove-cell"
    ]
   },
   "source": [
    "## Exkurs – Beispiel für eine Heuristik: A*Star Suchalgorithmus\n",
    "\n",
    "<div class=\"flex-row\">\n",
    "  <div class=\"col1\">\n",
    "\n",
    "- Die Wegsuche gehört zu den komplexesten Problemen in der Informatik (NP-Komplex: Aufgrund des kombinatorischen Problems)\n",
    "\n",
    "- A* ist eine Heuristik um den kürzesten Weg zwischen zwei Punkten in einem Feld mit Hindernissen zu finden\n",
    "\n",
    "  <figure class=\"mj-fig\">\n",
    "      <img src=\"images/05c_Algorithmen/astar.svg\" class=\"mj-fig-img\">\n",
    "  </figure>\n",
    "\n",
    "  </div>\n",
    "  <div class=\"col1\"> \n",
    "    <figure class=\"mj-fig\">\n",
    "        <img src=\"images/05c_Algorithmen/astar.gif\" class=\"mj-fig-img\">\n",
    "    </figure>\n",
    "  </div>\n",
    "</div>"
   ]
  },
  {
   "cell_type": "markdown",
   "metadata": {
    "slideshow": {
     "slide_type": "subslide"
    },
    "tags": [
     "remove-cell"
    ]
   },
   "source": [
    "## Beispielproblem - Befindet sich ein Punkt X in einem Polygon?\n",
    "\n",
    "- Ein Polygon ist ein beliebiges Vieleck\n",
    "\n",
    "- Die Lösung dieses Problems ist ein häufiger Teil von Berechnungen in den Bau- und Umweltwissenschaften, z. B. um zu testen, ob ein geplantes Objekt in einem Naturschutzgebiet liegt.\n",
    "\n",
    "![Polygon Beispiel](https://upload.wikimedia.org/wikipedia/commons/1/1f/Assorted_polygons.svg)\n"
   ]
  },
  {
   "cell_type": "markdown",
   "metadata": {
    "slideshow": {
     "slide_type": "subslide"
    },
    "tags": [
     "remove-cell"
    ]
   },
   "source": [
    "## Hörsaalfrage\n",
    "\n",
    "<script>setSectionBackground('#FFD966');</script>\n",
    "<div class=\"flex-row\">\n",
    "  <div class=\"col4 vcent\">\n",
    "\n",
    "Wie kann ich bestimmen ob ein Punkt in einem Polygon liegt?\n",
    "\n",
    "  </div>\n",
    "  <div class=\"col6\"> \n",
    "    <figure class=\"mj-fig\">\n",
    "        <img src=\"images/05c_Algorithmen/polymap.png\" class=\"mj-fig-img\">\n",
    "        <figcaption class=\"mj-fig-cap\">\n",
    "            Google Maps\n",
    "        </figcaption>\n",
    "    </figure>\n",
    "  </div>\n",
    "</div>"
   ]
  },
  {
   "cell_type": "markdown",
   "metadata": {
    "slideshow": {
     "slide_type": "subslide"
    },
    "tags": [
     "remove-cell"
    ]
   },
   "source": [
    "## Beispielproblem - Was sind unsere Aus- und Eingaben?\n",
    "\n",
    "<div class=\"flex-row\">\n",
    "  <div class=\"col1\">\n",
    "\n",
    "Eingaben:\n",
    "- Die Position des Punktes `x`\n",
    "- Ein Linienzug der den Rand des Polygons beschreibt\n",
    "  - Eine Liste von verbundenen, aufeinanderfolgenden Linien\n",
    "\n",
    "Ausgaben:\n",
    "- Ein Boolean\n",
    "\n",
    "  </div>\n",
    "  <div class=\"col1\"> \n",
    "    <figure class=\"mj-fig\">\n",
    "      <img src=\"images/05c_Algorithmen/polymap2.png\" class=\"mj-fig-img\">\n",
    "      <figcaption class=\"mj-fig-cap\">\n",
    "          Google Maps\n",
    "      </figcaption>\n",
    "    </figure>\n",
    "  </div>\n",
    "</div>"
   ]
  },
  {
   "cell_type": "markdown",
   "metadata": {
    "slideshow": {
     "slide_type": "subslide"
    },
    "tags": [
     "remove-cell"
    ]
   },
   "source": [
    "## Beispielproblem - Entwerfen eines Algorithmus\n",
    "\n",
    "- Was sind Berechnungen, die man auf Punkten und Linien ausführen kann?\n",
    "\n",
    "- Wir können prüfen ob der Punkt genau auf einer Linie liegt.\n",
    "- Wir können prüfen auf welcher Seite einer Linie ein Punkt liegt.\n",
    "\n",
    "- Reicht Punkt 2 aus? Für konvexe Flächen - ja, befindet sich der Punkt auf der gleichen Seite aller Linien des Polygons, befindet er sich im Polygon.\n",
    "\n",
    "- Trifft aber nicht für konkave Flächen zu => es handelt sich also um eine Heuristik!\n",
    "\n",
    "<div class=\"flex-row\">\n",
    "  <div class=\"col1\"></div>\n",
    "  <div class=\"col1\">\n",
    "<figure class=\"mj-fig\">\n",
    "    <img src=\"images/05c_Algorithmen/konvex.svg\" class=\"mj-fig-img\">\n",
    "    <figcaption class=\"mj-fig-cap\">\n",
    "        Konvexes Polygon\n",
    "    </figcaption>\n",
    "</figure>\n",
    "  </div>\n",
    "  <div class=\"col1\"></div>\n",
    "  <div class=\"col1\"> \n",
    "<figure class=\"mj-fig\">\n",
    "    <img src=\"images/05c_Algorithmen/konkav.svg\" class=\"mj-fig-img\">\n",
    "    <figcaption class=\"mj-fig-cap\">\n",
    "        Konkav Polygon\n",
    "    </figcaption>\n",
    "</figure>\n",
    "  </div>\n",
    "  <div class=\"col1\"></div>\n",
    "</div>"
   ]
  },
  {
   "cell_type": "markdown",
   "metadata": {
    "slideshow": {
     "slide_type": "subslide"
    },
    "tags": [
     "remove-cell"
    ]
   },
   "source": [
    "## Beispielproblem - Entwerfen eines Algorithmus\n",
    "\n",
    "- Entwurf bedeutet oft ein Problem aus verschiedenen Richtungen zu betrachten und neue Berechnungsperspektiven zu finden.\n",
    "\n",
    "- Hier: Die Krux ist ob eine Fläche konkav oder konvex ist. Man bestimmt diese Eigenschaften durch das Ziehen von Linien und Schnitttests.\n",
    "\n",
    "- Liegt der Schlüssel zu diesem Problem also in den Schnitttests zwischen Linien?\n",
    "\n",
    "- Gibt es eine Linie vom gesuchten Punkt `X` zu einem anderen Punkt `Y`, deren Schnittpunkte mit den Polygon-Linien eine Antwort auf die Fragestellung geben?"
   ]
  },
  {
   "cell_type": "markdown",
   "metadata": {
    "slideshow": {
     "slide_type": "subslide"
    },
    "tags": [
     "remove-cell"
    ]
   },
   "source": [
    "## Beispielproblem - Entwerfen eines Algorithmus\n",
    "\n",
    "- Die Antwort: Jeder beliebige Punkt außerhalb des Polygons!\n",
    "\n",
    "- Liegt Punkt `X` innerhalb des Polygons dann wird die gezogene Linie die Grenze mindestens einmal schneiden.\n",
    "\n",
    "- Läuft die gezogene Linie zufällig durch einen konkaven Bereich dann wird es zwei weitere Schnittpunkte geben, für insgesamt 3 Schnittpunkte, oder 5, oder …\n",
    "\n",
    "- Liegt der Punkt `X` außerhalb wird es also entweder keine Schnittpunkte geben, oder 2, oder 4, oder …\n",
    "\n",
    "- **Das Problem kann also auf die Anzahl von Schnittpunkten reduziert werden!**"
   ]
  },
  {
   "cell_type": "markdown",
   "metadata": {
    "slideshow": {
     "slide_type": "subslide"
    },
    "tags": [
     "remove-cell"
    ]
   },
   "source": [
    "## Beispielproblem - Beispiel\n",
    "\n",
    "<figure class=\"mj-fig\">\n",
    "    <img src=\"images/05c_Algorithmen/konvex_algo.svg\" class=\"mj-fig-img\">\n",
    "</figure>"
   ]
  },
  {
   "cell_type": "markdown",
   "metadata": {
    "slideshow": {
     "slide_type": "subslide"
    },
    "tags": [
     "remove-cell"
    ]
   },
   "source": [
    "## Beispielproblem - Als Programmablaufplan aufzeichnen\n",
    "\n",
    "<figure class=\"mj-fig\">\n",
    "    <img src=\"images/05c_Algorithmen/polyalg.svg\" class=\"mj-fig-img\">\n",
    "</figure>\n",
    "\n",
    "*Beispiele für:*\n",
    "- Strahl 1 hat 1 Schnittpunkt → ungerade = innenliegend\n",
    "- Strahl 2 hat 3 Schnittpunkte → ungerade = innenliegend  \n",
    "- Strahl 3 hat 5 Schnittpunkte → ungerade = innenliegend\n"
   ]
  },
  {
   "cell_type": "markdown",
   "metadata": {
    "slideshow": {
     "slide_type": "subslide"
    },
    "tags": [
     "remove-cell"
    ]
   },
   "source": [
    "## Rekursion - Beispiel: Tree Traversal\n",
    "\n",
    "<div class=\"flex-row\">\n",
    "  <div class=\"col1\">\n",
    "\n",
    "*Baum:* Datenstruktur, in der jedes Element auf weitere Unterelemente verweisen kann.\n",
    "\n",
    "Nun wollen wir eine Funktion auf jedes Element im Baum anwenden.\n",
    "\n",
    "*Simpelste Repräsentation eines Baumes:*\n",
    "- Ein Tupel mit einem Wert und einer Liste\n",
    "- Diese Liste enthält Tupel mit jeweils einem Wert und einer Liste (Rekursive Datenstruktur!)\n",
    "\n",
    "```\n",
    "       12\n",
    "      /  \\\n",
    "     6    18\n",
    "    / \\   / \\\n",
    "   3   9 15  21\n",
    "```\n",
    "\n",
    "  </div>\n",
    "  <div class=\"col1\"> \n",
    "<div style=\"font-size: smaller;\">\n",
    "\n",
    "```python\n",
    "baum = (12, [\n",
    "        (6,[\n",
    "            (3,[]),\n",
    "            (9,[])\n",
    "        ]),\n",
    "        (18,[\n",
    "            (15,[]),\n",
    "            (21,[])\n",
    "        ])\n",
    "])\n",
    "```\n",
    "</div>\n",
    "\n",
    "  </div>\n",
    "</div>"
   ]
  },
  {
   "cell_type": "markdown",
   "metadata": {
    "slideshow": {
     "slide_type": "subslide"
    },
    "tags": [
     "remove-cell"
    ]
   },
   "source": [
    "## Rekursion - Beispiel: Tree Traversal\n",
    "\n",
    "Traversals sind Funktionen welche den Baum durchlaufen, z.B. um Elemente zu suchen."
   ]
  },
  {
   "cell_type": "code",
   "execution_count": null,
   "metadata": {
    "slideshow": {
     "slide_type": "skip"
    },
    "tags": [
     "remove-cell"
    ]
   },
   "outputs": [],
   "source": [
    "def traverse(tree):\n",
    "    wert = tree[0]  # der aktuelle Wert\n",
    "    print(wert)     # gebe den aktuellen Wert aus\n",
    "    if tree[1]:     # wenn Kinder definiert sind\n",
    "        for child in tree[1]:  # iteriere durch alle Kinder\n",
    "            traverse(child)    # und rufe die Funktion rekursiv auf\n",
    "\n",
    "traverse(baum)"
   ]
  },
  {
   "cell_type": "markdown",
   "metadata": {
    "slideshow": {
     "slide_type": "subslide"
    },
    "tags": [
     "remove-cell"
    ]
   },
   "source": [
    "## Informatik-Exkurs: Sortieren\n",
    "\n",
    "- Speziell das Sortieren von Listen, unabhängig vom Datentyp\n",
    "- Eine der Standard-Anwendungen für Schleifen und Rekursion\n",
    "- Die Lösung im Programmieralltag: `sorted()`\n",
    "- Aber: Gutes Beispiel für strukturiertes Informatik-Problem"
   ]
  },
  {
   "cell_type": "markdown",
   "metadata": {
    "slideshow": {
     "slide_type": "subslide"
    },
    "tags": [
     "remove-cell"
    ]
   },
   "source": [
    "## Sortieren - Algorithmus 1: Bubble Sort\n",
    "\n",
    "- Jedes Element der Liste wird durchlaufen und mit dem nächsten Element verglichen.\n",
    "- Ist das zweite Element kleiner als das erste wird die Position getauscht.\n",
    "- Die Liste wird immer wieder durchlaufen bis dieser Fall nicht mehr auftritt.\n",
    "\n",
    "```python\n",
    "def bubbleSort(numbers):\n",
    "    for i in range(len(numbers)-1):\n",
    "        for j in range(0, len(numbers)-i-1):\n",
    "            if numbers[j] > numbers[j + 1]:\n",
    "                numbers[j], numbers[j + 1] = numbers[j + 1], numbers[j]\n",
    "```"
   ]
  },
  {
   "cell_type": "markdown",
   "metadata": {
    "slideshow": {
     "slide_type": "subslide"
    },
    "tags": [
     "remove-cell"
    ]
   },
   "source": [
    "## Sortieren - Algorithmus 2: Quick Sort\n",
    "\n",
    "Das Grundprinzip ist das Aufteilen der Liste:\n",
    "\n",
    "1. Das erste Element der Liste als „Pivot\"-Element abspeichern.\n",
    "2. Dann wird die Liste durchlaufen und jedes Element mit dem Pivot verglichen.\n",
    "3. Einsortiert in eine von drei Listen: Kleiner, Gleich und Größer.\n",
    "4. Dann wird Quick Sort rekursiv auf die Listen Kleiner und Größer ausgeführt.\n",
    "5. Am Ende werden alle Listen rekursiv wieder zusammengeführt."
   ]
  },
  {
   "cell_type": "markdown",
   "metadata": {
    "slideshow": {
     "slide_type": "subslide"
    },
    "tags": [
     "remove-cell"
    ]
   },
   "source": [
    "## Informatik-Exkurs: Suchen\n",
    "\n",
    "- Speziell das Suchen auf sortierten Listen und Bäumen\n",
    "- Meist kennt man die Anzahl an Elementen, weiß also genau wo z.B. die Mitte ist.\n",
    "- Spätere Vorlesungen: In echten Anwendungen haben Datensätze oft mehr als nur einen Wert (Tabellen anstatt Listen), hier arbeitet man meist mit Indexierung."
   ]
  },
  {
   "cell_type": "markdown",
   "metadata": {
    "slideshow": {
     "slide_type": "subslide"
    },
    "tags": [
     "remove-cell"
    ]
   },
   "source": [
    "## Suchen - Suche in Listen\n",
    "\n",
    "Die einfachste Methode: *lineare Suche*\n",
    "\n",
    "```python\n",
    "def contains(list, x):\n",
    "    for l in list:\n",
    "        if(l == x):\n",
    "            return True\n",
    "    return False\n",
    "```"
   ]
  },
  {
   "cell_type": "markdown",
   "metadata": {
    "slideshow": {
     "slide_type": "subslide"
    },
    "tags": [
     "remove-cell"
    ]
   },
   "source": [
    "## Suchen - Suche in Listen\n",
    "\n",
    "Das optimale Verfahren: *Binäre Suche*\n",
    "\n",
    "- Deutlich komplexerer Code\n",
    "- *Idee:* Mittleres Element der Liste finden, dann mit dem gesuchten Wert vergleichen\n",
    "- Wert kleiner: Selbes Verfahren für die erste Hälfte der Liste\n",
    "- Wert größer: Selbes Verfahren für die zweite Hälfte der Liste\n",
    "- Implementation meistens über Rekursion"
   ]
  },
  {
   "cell_type": "markdown",
   "metadata": {
    "slideshow": {
     "slide_type": "subslide"
    },
    "tags": [
     "remove-cell"
    ]
   },
   "source": [
    "## Suchen - Suchen in Bäumen\n",
    "\n",
    "Strategien um einen unsortierten Baum zu durchsuchen:\n",
    "\n",
    "- *Breitensuche:* Vom Ursprung beginnend jede „Ebene\" des Baumes von links nach rechts durchlaufen.\n",
    "- *Tiefensuche:* Einem Pfad vom Ursprung bis zum Ende folgen, dann schrittweise rückwärts gehen bis sich weitere Pfade anbieten."
   ]
  },
  {
   "cell_type": "markdown",
   "metadata": {
    "slideshow": {
     "slide_type": "subslide"
    },
    "tags": [
     "remove-cell"
    ]
   },
   "source": [
    "## Suchen - Suchen in Bäumen\n",
    "\n",
    "- In sortierten Bäumen (Suchbäumen) kann das Ergebnis extrem effizient gefunden werden, da nur ein Pfad durchlaufen werden muss.\n",
    "\n",
    "- *Wie sortiert man einen Baum?* "
   ]
  },
  {
   "cell_type": "markdown",
   "metadata": {
    "slideshow": {
     "slide_type": "subslide"
    },
    "tags": [
     "remove-cell"
    ]
   },
   "source": [
    "## Erstellen eines binären Suchbaums\n",
    "\n",
    "*Ausgangsliste:* 12 6 18 15 3 21 9\n",
    "\n",
    "<div class=\"flex-row\">\n",
    "  <div class=\"col1\">\n",
    "\n",
    "*Schritt 1:* 12 als Wurzel setzen\n",
    "```\n",
    "12\n",
    "```\n",
    "\n",
    "  </div>\n",
    "  <div class=\"col1\"> \n",
    "\n",
    "*Schritt 3:* 18 > 12, rechts einfügen\n",
    "```\n",
    "   12\n",
    "  /  \\\n",
    " 6    18\n",
    "```\n",
    "\n",
    "  </div>\n",
    "</div>\n",
    "\n",
    "<div class=\"flex-row\">\n",
    "  <div class=\"col1\">\n",
    "\n",
    "*Schritt 2:* 6 < 12, links einfügen\n",
    "```\n",
    "   12\n",
    "  /\n",
    " 6\n",
    "```\n",
    "\n",
    "  </div>\n",
    "  <div class=\"col1\"> \n",
    "\n",
    "*Schritt 4:* 15 > 12, aber 15 < 18\n",
    "```\n",
    "   12\n",
    "  /  \\\n",
    " 6    18\n",
    "     /\n",
    "    15\n",
    "```\n",
    "\n",
    "  </div>\n",
    "</div>\n"
   ]
  },
  {
   "cell_type": "markdown",
   "metadata": {
    "slideshow": {
     "slide_type": "subslide"
    },
    "tags": [
     "remove-cell"
    ]
   },
   "source": [
    "## Suchbaum - Fortsetzung\n",
    "\n",
    "<div class=\"flex-row\">\n",
    "  <div class=\"col1\">\n",
    "\n",
    "*Schritt 5:* 3 < 12 und 3 < 6\n",
    "```\n",
    "   12\n",
    "  /  \\\n",
    " 6    18\n",
    "/    /\n",
    "3   15\n",
    "```\n",
    "\n",
    "  </div>\n",
    "  <div class=\"col1\"> \n",
    "\n",
    "*Schritt 7:* 9 < 12 aber 9 > 6\n",
    "```\n",
    "   12\n",
    "  /  \\\n",
    " 6    18\n",
    "/ \\  /  \\\n",
    "3  9 15  21\n",
    "```\n",
    "\n",
    "  </div>\n",
    "</div>\n",
    "\n",
    "\n",
    "<div class=\"flex-row\">\n",
    "  <div class=\"col1\">\n",
    "\n",
    "\n",
    "*Schritt 6:* 21 > 12 und 21 > 18\n",
    "```\n",
    "   12\n",
    "  /  \\\n",
    " 6    18\n",
    "/    /  \\\n",
    "3   15   21\n",
    "```\n",
    "\n",
    "  </div>\n",
    "  <div class=\"col1\"> \n",
    "\n",
    "\n",
    "*Fertiger Suchbaum!*\n",
    "\n",
    "  </div>\n",
    "</div>"
   ]
  },
  {
   "cell_type": "markdown",
   "metadata": {
    "slideshow": {
     "slide_type": "subslide"
    },
    "tags": [
     "remove-cell"
    ]
   },
   "source": [
    "## Exkurs: Komplexität und effiziente Algorithmen\n",
    "\n",
    "- Die eigentliche Berechnungszeit ergibt sich erst durch die genauen Eingabedaten und den genutzten Prozessor.\n",
    "\n",
    "- Formal ist Effizienz stattdessen eher eine Anstiegskurve, welche eine relative Schätzung abgibt wie viel länger ein Algorithmus bei mehr Eingabedaten rechnen muss.\n",
    "\n",
    "- *Notation:* $O(x)$, wobei $x$ die Menge der nötigen Rechenschritte angibt.\n",
    "\n",
    "- Für Bäume und Listen hängt diese von der Anzahl an Elementen ab (Variable $n$)."
   ]
  },
  {
   "cell_type": "markdown",
   "metadata": {
    "slideshow": {
     "slide_type": "subslide"
    },
    "tags": [
     "remove-cell"
    ]
   },
   "source": [
    "## Komplexität - Vergleich der Algorithmen\n",
    "\n",
    "<div class=\"flex-row\">\n",
    "  <div class=\"col1\">\n",
    "\n",
    "*Suchverfahren:*\n",
    "- Lineare Suche\n",
    "  $$O(n)$$\n",
    "\n",
    "- Binäre Suche\n",
    "  $$O(log(n))$$\n",
    "\n",
    "  </div>\n",
    "  <div class=\"col1\"> \n",
    "\n",
    "*Sortierverfahren:*\n",
    "- Bubble Sort\n",
    "  $$O(n^2)$$\n",
    "\n",
    "- Quick Sort\n",
    "  $$O(n \\cdot log(n))$$\n",
    "\n",
    "  </div>\n",
    "</div>"
   ]
  },
  {
   "cell_type": "markdown",
   "metadata": {
    "slideshow": {
     "slide_type": "skip"
    }
   },
   "source": [
    "## Quiz\n",
    "\n",
    "\n",
    "```{quizdown}\n",
    "    ---\n",
    "    shuffleQuestions: true\n",
    "    shuffleAnswers: true\n",
    "    ---\n",
    "\n",
    "    ### Was ist ein Algorithmus?\n",
    "    - [x] Eine Schritt-für-Schritt-Anleitung zur Lösung eines Problems\n",
    "    - [ ] Ein zufälliger Code ohne Struktur\n",
    "    - [ ] Eine Art von Datenbank\n",
    "    - [ ] Ein grafisches Design-Tool\n",
    "\n",
    "    ### Welche der folgenden Eigenschaften hat ein guter Algorithmus?\n",
    "    - [x] Er ist effizient und löst das Problem in akzeptabler Zeit\n",
    "    - [ ] Er ist immer kompliziert und schwer zu verstehen\n",
    "    - [ ] Er benötigt keine Eingaben\n",
    "    - [ ] Er kann nur auf Zahlen angewendet werden\n",
    "\n",
    "    ### Was ist ein typischer Anwendungsbereich von Bäumen in der Informatik?\n",
    "    - [x] Effizientes Suchen\n",
    "    - [ ] Textformatierung\n",
    "    - [ ] Dateikompression\n",
    "    - [ ] Netzwerkanalyse\n",
    "\n",
    "    ### Was ist ein Baum in der Informatik?\n",
    "    - [x] Eine hierarchische Datenstruktur mit Knoten\n",
    "    - [ ] Eine Schleife mit mehreren Bedingungen\n",
    "    - [ ] Eine spezielle Liste mit fester Länge\n",
    "    - [ ] Ein Zahlenarray mit zufälliger Reihenfolge\n",
    "\n",
    "    ### Sortiere die folgenden Zeilen, um eine rekursive Funktion zur Traversierung eines binären Baums korrekt aufzubauen:\n",
    "    ```python\n",
    "    # Gegeben ist: tree = {\"wert\": 5, \"links\": {\"wert\": 3}, \"rechts\": {\"wert\": 7}}\n",
    "    ```\n",
    "    1. `def traverse(tree):`\n",
    "    2. `  print(tree[\"wert\"])`\n",
    "    3. `  if \"links\" in tree:`\n",
    "    4. `    traverse(tree[\"links\"])`\n",
    "    5. `  if \"rechts\" in tree:`\n",
    "    6. `    traverse(tree[\"rechts\"])`\n",
    "\n",
    "    ### Welcher Fehler steckt in diesem Beispiel?\n",
    "    ```python\n",
    "    def traverse(tree):\n",
    "        print(tree[\"wert\"])\n",
    "        traverse(tree[\"links\"])\n",
    "        traverse(tree[\"rechts\"])\n",
    "    ```\n",
    "    - [x] Es fehlt die Prüfung, ob \"links\" oder \"rechts\" überhaupt vorhanden sind\n",
    "    - [ ] Die Funktion darf nicht rekursiv aufgerufen werden\n",
    "    - [ ] Der `print`-Befehl ist falsch eingerückt\n",
    "    - [ ] Python kennt keine Dictionaries\n",
    "\n",
    "    ### Wie funktioniert Bubble Sort?\n",
    "    - [x] Elemente werden paarweise verglichen und bei Bedarf getauscht\n",
    "    - [x] Die Liste wird mehrfach durchlaufen, bis keine Vertauschung mehr nötig ist\n",
    "    - [ ] Alle Elemente werden sofort sortiert\n",
    "    - [ ] Nur gerade Zahlen werden betrachtet\n",
    "\n",
    "    ### Warum ist Bubble Sort ineffizient für große Datenmengen?\n",
    "    - [x] Weil viele Vergleiche und Tauschvorgänge nötig sind\n",
    "    - [ ] Weil Python keine Listen verarbeiten kann\n",
    "    - [ ] Weil es keine `for`-Schleifen verwendet\n",
    "    - [ ] Weil die Elemente gelöscht werden\n",
    "\n",
    "    ### Wie funktioniert QuickSort?\n",
    "    - [x] Wählt ein Pivot-Element, teilt in kleinere und größere Teilmengen und sortiert rekursiv\n",
    "    - [x] Nutzt das Divide-and-Conquer-Prinzip\n",
    "    - [ ] Tauscht benachbarte Elemente mehrfach aus\n",
    "    - [ ] Sortiert nur durch Anhängen an eine Liste\n",
    "\n",
    "    ### Sortiere die folgenden Zeilen, um eine vereinfachte QuickSort-Funktion korrekt zu bauen:\n",
    "    ```python\n",
    "    # Annahme: Liste besteht nur aus Zahlen\n",
    "    ```\n",
    "    1. `def quicksort(arr):`\n",
    "    2. `  if len(arr) <= 1:`\n",
    "    3. `    return arr`\n",
    "    4. `  pivot = arr[0]`\n",
    "    5. `  less = [x for x in arr[1:] if x <= pivot]`\n",
    "    6. `  greater = [x for x in arr[1:] if x > pivot]`\n",
    "    7. `  return quicksort(less) + [pivot] + quicksort(greater)`\n",
    "\n",
    "    ### Wie funktioniert Insertion Sort?\n",
    "    - [x] Elemente werden an der richtigen Stelle in eine bereits sortierte Teilliste eingefügt\n",
    "    - [ ] Jedes Element wird mit einem zufälligen verglichen\n",
    "    - [ ] Alle Elemente werden gleichzeitig verschoben\n",
    "    - [ ] Die Liste wird rückwärts durchlaufen und sortiert\n",
    "\n",
    "    ### Was ist der Hauptunterschied zwischen Insertion Sort und Bubble Sort?\n",
    "    - [x] Insertion Sort fügt Elemente korrekt ein, Bubble Sort vertauscht sie wiederholt\n",
    "    - [ ] Insertion Sort verwendet keine Schleifen\n",
    "    - [ ] Bubble Sort nutzt keinen Vergleich\n",
    "    - [ ] Insertion Sort kann nur auf Zeichenketten angewendet werden\n",
    "\n",
    "    ### Welcher Fehler steckt in diesem Beispiel?\n",
    "    ```python\n",
    "    zahlenfolge = [4, 2, 1]\n",
    "    zahlenfolge = zahlenfolge.sort()\n",
    "    ```\n",
    "    - [x] `sort()` verändert die Liste in-place und gibt `None` zurück – `zahlenfolge` wird `None`\n",
    "    - [ ] `sort()` ist nicht erlaubt auf Listen\n",
    "    - [ ] Listen dürfen nicht sortiert werden\n",
    "    - [ ] `sorted()` wäre hier schneller\n",
    "\n",
    "    ### Warum ist `sorted()` schneller als Bubble Sort oder Insertion Sort?\n",
    "    - [x] Es ist in C implementiert und verwendet eine optimierte Variante von `insert_sort`\n",
    "    - [ ] Es nutzt Zufallszahlen zum Sortieren\n",
    "    - [ ] Es verwendet keine Vergleiche\n",
    "    - [ ] Es sortiert nur die Hälfte der Liste\n",
    "\n",
    "```"
   ]
  },
  {
   "cell_type": "markdown",
   "metadata": {
    "slideshow": {
     "slide_type": "slide"
    },
    "tags": [
     "remove-cell"
    ]
   },
   "source": [
    "<div class=\"vslide\">\n",
    "  <div class=\"vslide-title\">\n",
    "    <p style=\"font-family: Protomolecule; font-size: 2.3em; margin: 0px auto; text-align: center; width: 100%;\">fragen?</p>\n",
    "  </div>\n",
    "  <script>setSectionBackground('#000000', 'images/mj_questions.mp4');</script>\n",
    "</div>"
   ]
  }
 ],
 "metadata": {
  "execution": {
   "timeout": 120
  },
  "kernelspec": {
   "display_name": "Python 3 (ipykernel)",
   "language": "python",
   "name": "python3"
  },
  "language_info": {
   "codemirror_mode": {
    "name": "ipython",
    "version": 3
   },
   "file_extension": ".py",
   "mimetype": "text/x-python",
   "name": "python",
   "nbconvert_exporter": "python",
   "pygments_lexer": "ipython3",
   "version": "3.12.10"
  },
  "rise": {
   "auto_select": "none",
   "center": false,
   "enable_chalkboard": true,
   "header": "<img src=\"images/pd_logo.svg\" class=\"header_title_logo\"><img src=\"images/ai4sc_logo_v2.svg\" class=\"header_ai4sc_logo\">",
   "scroll": true,
   "show_buttons_on_startup": false,
   "slideNumber": true,
   "theme": "white"
  },
  "vscode": {
   "interpreter": {
    "hash": "c6f6ea9c9385f57658f4c302ffd3b717b6cd59b095fbd1c55795f0b67656eecd"
   }
  }
 },
 "nbformat": 4,
 "nbformat_minor": 4
}
