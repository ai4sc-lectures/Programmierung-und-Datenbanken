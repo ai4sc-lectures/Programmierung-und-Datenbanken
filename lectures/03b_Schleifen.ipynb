{
 "cells": [
  {
   "cell_type": "markdown",
   "metadata": {},
   "source": [
    "# Schleifen"
   ]
  },
  {
   "cell_type": "markdown",
   "metadata": {},
   "source": [
    "Oft müssen im Code verschiedene Blöcke mehrmals durchgeführt werden. Ist die Anzahl oder die Menge der Wiederholungen vorher bekannt, verwendet man dafür den `for`-Loop. Man unterscheidet zwei Arten von For-Loops:\n",
    "\n",
    "- For-Loop:\t\t\tWiederhole die Schleife genau $n$ mal\n",
    "- For-Each-Loop (Iterator):\tWiederhole die Schleife für jedes Element in einer Sequenz"
   ]
  },
  {
   "cell_type": "markdown",
   "metadata": {},
   "source": [
    "## For-Loop bei bekannter Anzahl an Wiederholungen"
   ]
  },
  {
   "cell_type": "markdown",
   "metadata": {},
   "source": [
    "### For-Each-Loop bei Sequenzen"
   ]
  },
  {
   "cell_type": "markdown",
   "metadata": {},
   "source": [
    "\n",
    "Der `for`-Loop in Python ist ein For-Each-Loop. Er iteriert immer durch eine Sequenz an Werten, wie z.B. eine Liste. Die Variable des *Iterators* `e` enthält dabei den aktuellen Wert der Sequenz `seq`. Hiermit lässt sich sehr leicht durch Listen iterieren."
   ]
  },
  {
   "cell_type": "code",
   "execution_count": null,
   "metadata": {},
   "outputs": [],
   "source": [
    "seq = ['a','b','c']\n",
    "for e in seq:\n",
    "\tprint(e)"
   ]
  },
  {
   "cell_type": "markdown",
   "metadata": {},
   "source": [
    "oder Tupels"
   ]
  },
  {
   "cell_type": "code",
   "execution_count": null,
   "metadata": {},
   "outputs": [],
   "source": [
    "seq = ('a','b','c')\n",
    "for e in seq:\n",
    "\tprint(e)"
   ]
  },
  {
   "cell_type": "markdown",
   "metadata": {},
   "source": [
    "### For-Loop bei bekannter Anzahl $n$ an Wiederholungen"
   ]
  },
  {
   "cell_type": "markdown",
   "metadata": {},
   "source": [
    "Der `for`-Loop in Python kann auch als klassischer For-Loop verwendet werden, bei der man $n$-mal etwas wiederholt. Dazu erzeugt man mit der `range(n)` Funktion eine Folge an Zahlen, durch die dann wie gewohnt als For-Each-Loop iteriert wird. Der Iterator `i` nimmt dabei den Wert des Zählindexes an."
   ]
  },
  {
   "cell_type": "code",
   "execution_count": null,
   "metadata": {},
   "outputs": [],
   "source": [
    "n = 3\n",
    "seq = range(n)\n",
    "for i in seq:\n",
    "\tprint(i)"
   ]
  },
  {
   "cell_type": "markdown",
   "metadata": {},
   "source": [
    "Der Unterschied wird klarer, wenn man sich ansieht, wie man mit einem nummerierten Index durch die obige Sequenz einer Liste laufen würde. Hierfür bestimmt man die Länge der Sequenz mit `len()`, erzeugt einen numerischen Iterator mit `range()` und greift dann auf die indizierten Werte der Liste mit `seq[i]` zu. Dies entspricht einem klassischen for-Loop durch ein Array, wie er z.B. in C oder Java zu finden ist."
   ]
  },
  {
   "cell_type": "code",
   "execution_count": null,
   "metadata": {},
   "outputs": [],
   "source": [
    "seq = ['a','b','c']\n",
    "for i in range(len(seq)):\n",
    "    wert = seq[i]\n",
    "    print(f\"Index: {i}; Wert {wert}\")"
   ]
  },
  {
   "cell_type": "markdown",
   "metadata": {},
   "source": [
    "Da dies sehr umständlich ist, bietet Python die `enumerate`-Funktion als Vereinfachung an. Sie macht aus einer beliebigen Sequenz eine nummerierte Sequenz macht. Das ist Sinnvoll, wenn man den Index `i` noch aus anderem Grund braucht."
   ]
  },
  {
   "cell_type": "code",
   "execution_count": null,
   "metadata": {},
   "outputs": [],
   "source": [
    "seq = ['a','b','c']\n",
    "for i, wert in enumerate(seq):\n",
    "\tprint(f\"Index: {i}; Wert {wert}\")"
   ]
  },
  {
   "cell_type": "markdown",
   "metadata": {},
   "source": [
    "### For-Each-Loop bei Dictionaries"
   ]
  },
  {
   "cell_type": "markdown",
   "metadata": {},
   "source": [
    "Auch durch Dictionaries kann man mit einem For-Loop iterieren. Hierfür kann man entweder durch die Schlüssel iterieren und dann den Wert separat über `seq[key]` nachschlagen."
   ]
  },
  {
   "cell_type": "code",
   "execution_count": null,
   "metadata": {},
   "outputs": [],
   "source": [
    "seq = {\"key1\":\"wert1\", \"key2\":\"wert2\", \"key3\":\"wert3\"}\n",
    "for key in seq:\n",
    "    wert = seq[key]\n",
    "    print(f\"Schlüssel: {key}; Wert {wert}\")"
   ]
  },
  {
   "cell_type": "markdown",
   "metadata": {},
   "source": [
    "oder man iteriert gleich durch alle Schlüssel-Wert-Tupel."
   ]
  },
  {
   "cell_type": "code",
   "execution_count": null,
   "metadata": {},
   "outputs": [],
   "source": [
    "for key, wert in seq.items():\n",
    "    print(f\"Schlüssel: {key}; Wert {wert}\")"
   ]
  },
  {
   "cell_type": "markdown",
   "metadata": {},
   "source": [
    "### For-Loop Beispiel"
   ]
  },
  {
   "cell_type": "markdown",
   "metadata": {},
   "source": [
    "Damit kann man dann zum Beispiel eine Liste an Messwerten aus imperialen Fuß in metrische Meter umrechnen."
   ]
  },
  {
   "cell_type": "code",
   "execution_count": null,
   "metadata": {},
   "outputs": [],
   "source": [
    "measurements_feet =  [4.2, 2.3, 6.2, 10.5]\t# Eingabe\n",
    "measurements_meter = []\t\t\t\t\t\t# Ergebnisse\n",
    "for feets in measurements_feet:\n",
    "\tmeasurements_meter.append(0.3048 * feets)\n",
    "\n",
    "print(measurements_meter)"
   ]
  },
  {
   "cell_type": "markdown",
   "metadata": {},
   "source": [
    "In Python gibt es für solche einfachen For-Loops auch wieder eine Kurzschreibweise als Syntax-Zucker."
   ]
  },
  {
   "cell_type": "code",
   "execution_count": null,
   "metadata": {},
   "outputs": [],
   "source": [
    "measurements_meter = [0.3048 * feets for feets in measurements_feet]\n",
    "\n",
    "print(measurements_meter)"
   ]
  },
  {
   "cell_type": "markdown",
   "metadata": {},
   "source": [
    "## While-Loops bei unbekanner Schleifenlänge"
   ]
  },
  {
   "cell_type": "markdown",
   "metadata": {},
   "source": [
    "While-Loops werden primär verwendet, wenn die Länge der Schleife am Anfang noch nicht bekannt ist. Dabei wird die Schleife so lange wiederholt, wie eine bestimmte Bedingung gegeben ist. Man unterscheidet in der Informatik die Typen:\n",
    "\n",
    "-  While-Loop: \t\t\tWiederhole solange eine Bedingung wahr ist (ggf. nie)\n",
    "-  Do-While-Loop:\t\tWiederhole bis eine Bedingung falsch ist (d.h. mindestens einmal)\n",
    "-  Repeat-Until-Loop:   Wiederhole bis eine Bedingung wahr wird (d.h. mindestens einmal)"
   ]
  },
  {
   "cell_type": "markdown",
   "metadata": {},
   "source": [
    "### While-Loop"
   ]
  },
  {
   "cell_type": "markdown",
   "metadata": {},
   "source": [
    "Im While-Loop kann die Bedingung schon am Anfang falsch sein. Die Schleife muss also nicht ausgeführt werden."
   ]
  },
  {
   "cell_type": "code",
   "execution_count": null,
   "metadata": {},
   "outputs": [],
   "source": [
    "n = 3\n",
    "while n > 0:\n",
    "\t\tprint(f\"Die While-Schleife wird ausgeführt wenn die Bedingung am Anfang der Schleife {n} > 0 wahr ist\")\n",
    "\t\tn -= 1 # wir zählen die variable n runter"
   ]
  },
  {
   "cell_type": "markdown",
   "metadata": {},
   "source": [
    "Die While-Schleife wird 3-mal ausgeführt da die Bedingung wahr ist und wir bis 0 runter zählen"
   ]
  },
  {
   "cell_type": "markdown",
   "metadata": {},
   "source": [
    "Die While-Schleife wird nicht ausgeführt, da n bereits 0 ist"
   ]
  },
  {
   "cell_type": "code",
   "execution_count": null,
   "metadata": {},
   "outputs": [],
   "source": [
    "n = 0\n",
    "while n > 0:\n",
    "\t\tprint(f\"Die While-Schleife wird ausgeführt wenn die Bedingung am Anfang der Schleife {n} > 0 wahr ist\")\n",
    "\t\tn -= 1 # wir zählen die variable n runter"
   ]
  },
  {
   "cell_type": "markdown",
   "metadata": {},
   "source": [
    "### Do-While-Loops"
   ]
  },
  {
   "cell_type": "markdown",
   "metadata": {},
   "source": [
    "Im Do-While-Loop wird die Bedingung erst am Ende geprüft. Die Schleife wird also immer mindestens einmal durchlaufen. Das ist jedoch identisch im Verhalten mit einem While-Loop bei der die Bedingung am Anfang als True gesetzt wurde und in der Schleife geändert wird."
   ]
  },
  {
   "cell_type": "code",
   "execution_count": null,
   "metadata": {},
   "outputs": [],
   "source": [
    "n = 3\n",
    "bedingung = True # Bedingung ist immer als True innitialisiert\n",
    "while bedingung:\n",
    "\tn -= 1 # wir zählen die variable n runter\n",
    "\tbedingung = n > 0 # Die bedingung wird erst am Ende der schleife neu gesetzt\n",
    "\tprint(f\"Die Do-While-Schleife wird mindestens einmal ausgeführt bis die Bedingung am Ende der Schleife {n} > 0 wahr ist\")"
   ]
  },
  {
   "cell_type": "markdown",
   "metadata": {},
   "source": [
    "Die Do-While-Schleife wird auch 3 mal ausgeführt da die Bedingung wahr ist und wir bis 0 runter zählen"
   ]
  },
  {
   "cell_type": "markdown",
   "metadata": {},
   "source": [
    "Die Do-While-Schleife wird einmal ausgeführt, obwohl n bereits 0 ist."
   ]
  },
  {
   "cell_type": "code",
   "execution_count": null,
   "metadata": {},
   "outputs": [],
   "source": [
    "n = 0\n",
    "bedingung = True # Bedingung ist immer als True innitialisiert\n",
    "while bedingung:\n",
    "\tn -= 1 # wir zählen die variable n runter\n",
    "\tbedingung = n > 0 # Die bedingung wird erst am Ende der schleife neu gesetzt\n",
    "\tprint(f\"Die Do-While-Schleife wird mindestens einmal ausgeführt bis die Bedingung am Ende der Schleife {n} > 0 wahr ist\")"
   ]
  },
  {
   "cell_type": "markdown",
   "metadata": {},
   "source": [
    "### Repeat-Until-Loop"
   ]
  },
  {
   "cell_type": "markdown",
   "metadata": {},
   "source": [
    "Beim Repeat-Until-Loop wird die Bedingung auch erst am Ende geprüft. Die Schleife wird also auch immer mindestens einmal durchlaufen. Die Schleife wird allerdings wiederholt bis die Bedingung Wahr wird. Es ist also eine Negation des Do-While-Loops.\n"
   ]
  },
  {
   "cell_type": "code",
   "execution_count": null,
   "metadata": {},
   "outputs": [],
   "source": [
    "n = -3\n",
    "bedingung = False # Bedingung ist immer als False innitialisiert\n",
    "while not bedingung:  # wird aber im while negiert\n",
    "\tn += 1 # wir zählen die variable n HOCH\n",
    "\tbedingung = n > 0 # Die bedingung wird erst am Ende der schleife neu gesetzt\n",
    "\tprint(f\"Die Repeat-Until-Schleife wird mindestens einmal ausgeführt bis die Bedingung am Ende der Schleife {n} > 0 falsch ist\")"
   ]
  },
  {
   "cell_type": "markdown",
   "metadata": {},
   "source": [
    "Die Repeat-Until-Schleife wird 3 mal ausgeführt, da die Bedingung am Anfang falsch ist und wir bis 0 hoch zählen."
   ]
  },
  {
   "cell_type": "markdown",
   "metadata": {},
   "source": [
    "Die Do-While-Schleife wird einmal ausgeführt, da n am Ende der Schleife > 0 ist."
   ]
  },
  {
   "cell_type": "code",
   "execution_count": null,
   "metadata": {},
   "outputs": [],
   "source": [
    "n = 0\n",
    "bedingung = False # Bedingung ist immer als False innitialisiert\n",
    "while not bedingung:  # wird aber im while negiert\n",
    "\tn += 1 # wir zählen die variable n HOCH\n",
    "\tbedingung = n > 0 # Die bedingung wird erst am Ende der schleife neu gesetzt\n",
    "\tprint(f\"Die Repeat-Until-Schleife wird mindestens einmal ausgeführt bis die Bedingung am Ende der Schleife {n} > 0 falsch ist\")"
   ]
  },
  {
   "cell_type": "markdown",
   "metadata": {},
   "source": [
    "### Endloos-Schleifen"
   ]
  },
  {
   "cell_type": "markdown",
   "metadata": {},
   "source": [
    ":::{warning} \n",
    "While-Schleifen haben keine maximale Wiederholungsanzahl. Sie können potentiell für immer laufen, wenn sich die Bedingung nie ändert. \n",
    "Es ist daher immer wichtig zu durchdenken, ob es den Fall gibt in dem sich die Bedingung nicht ändern kann und dann eine zweite Abbruchbedingung (z.B. maximale Iterationen, maximale Zeit, etc.) hinzuzufügen.\n",
    ":::"
   ]
  },
  {
   "cell_type": "markdown",
   "metadata": {},
   "source": [
    "Wir schauen uns unsere `while_loop`-Funktion noch einmal an. Wie könnte diese Funktion zu einer Endlosschleife werden?"
   ]
  },
  {
   "cell_type": "code",
   "execution_count": null,
   "metadata": {},
   "outputs": [],
   "source": [
    "while n > 0:\n",
    "\tprint(f\"Die While-Schleife wird ausgeführt wenn die Bedingung am Anfang der Schleife {n} > 0 wahr ist\")\n",
    "\tn -= 1 # wir zählen die variable n runter"
   ]
  },
  {
   "cell_type": "markdown",
   "metadata": {},
   "source": [
    "Es sieht erstmal so aus, als ob das nicht möglich ist. Wir werden dennoch sicherheitshalber eine zweite Variante mit zusätzlicher Abbruchbedingung definieren."
   ]
  },
  {
   "cell_type": "code",
   "execution_count": null,
   "metadata": {},
   "outputs": [],
   "source": [
    "def while_loop_mit_abbruch(n, max_iterations=99):\n",
    "\titerations = 0\n",
    "\twhile n > 0 and iterations < max_iterations:\n",
    "\t\tprint(f\"Die While-Schleife wird ausgeführt wenn die Bedingung am Anfang der Schleife {n} > 0 wahr ist\")\n",
    "\t\tn -= 1 # wir zählen die variable n runter\n",
    "\t\titerations += 1\n",
    "\tprint(f\"Die While-Schleife wurde nach {iterations} von {max_iterations} beendet\")"
   ]
  },
  {
   "cell_type": "markdown",
   "metadata": {},
   "source": [
    "Der obige Testfall mit 3 scheint zu funktionieren."
   ]
  },
  {
   "cell_type": "code",
   "execution_count": null,
   "metadata": {},
   "outputs": [],
   "source": [
    "while_loop_mit_abbruch(3)"
   ]
  },
  {
   "cell_type": "markdown",
   "metadata": {},
   "source": [
    "Was passiert allerdings wenn wir die Funktion mit Unendlich (Infinity) initialisieren? Die Subtraktion/Addition einer Zahl, ungleich Unendlich, zu Unendlich ist Unendlich. Die Variable `n` wird sich also nie ändern."
   ]
  },
  {
   "cell_type": "code",
   "execution_count": null,
   "metadata": {
    "tags": [
     "output_scroll"
    ]
   },
   "outputs": [],
   "source": [
    "import math # die Zahl unendlich ist in der math bibliothek definiert\n",
    "\n",
    "while_loop_mit_abbruch(math.inf)"
   ]
  },
  {
   "cell_type": "markdown",
   "metadata": {},
   "source": [
    "### Schleifen vorzeitig abbrechen oder Elemente überspringen"
   ]
  },
  {
   "cell_type": "markdown",
   "metadata": {},
   "source": [
    "Manchmal möchte man eine for/while-Schleife verfrüht abbrechen. Hierfür bietet Python den `break`–Befehl. Er bricht die Wiederholschleife an der aktuellen Position ab (ähnlich wie repeat in einer Funktion). Damit lassen sich zusätzliche Abbruchbedingungen in der Schleife implementieren.\n",
    "\n",
    "Der `continue`-Befehl bricht die Schleife nicht ab, sondern beginnt direkt die nächste Iteration. Das ist sinnvoll wenn z.B. eine Filterbedingung nicht erfüllt ist.\n",
    "\n",
    "Der folgende Loop soll das erste essbare Ding in meinem Rucksack finden."
   ]
  },
  {
   "cell_type": "code",
   "execution_count": null,
   "metadata": {},
   "outputs": [],
   "source": [
    "dinge_in_meinem_rucksack = [\"Papier\", \"Stift\", \"Apfel\", \"Brot\", \"Messer\"]\n",
    "essbares = {\"Apfel\", \"Brot\"}\n",
    "essbar = None\n",
    "\n",
    "for ding in dinge_in_meinem_rucksack:   # Finde das erste essbare Ding in meinem Rucksack\n",
    "\tif ding not in essbares:\n",
    "\t\tprint(f\"Überspringe {ding}\")\n",
    "\t\tcontinue\n",
    "\tprint(f\"Essbares gefunden {ding}\")\n",
    "\tessbar = ding\n",
    "\tbreak\n",
    "\n",
    "print(\"\")\n",
    "print(f\"Ergebnis ist {essbar}\")"
   ]
  },
  {
   "cell_type": "markdown",
   "metadata": {},
   "source": [
    "Wir sehen, dass der Loop `Papier` und `Stift` überspringt und nicht `\"Essbares gefunden Papier\"` schreibt. \n",
    "\n",
    "Sobald der Loop etwas Essbares gefunden hat, so gibt er `\"Essbares gefunden Apfel\"` aus und beendet den Loop, obwohl noch `Brot` und `Messer` im Rucksack sind.\n",
    "\n",
    "Beides sind typische Befehle, um die Performance von Loops zu verbessern."
   ]
  },
  {
   "cell_type": "markdown",
   "metadata": {},
   "source": [
    "### Endlosschleifen mit Timeout"
   ]
  },
  {
   "cell_type": "markdown",
   "metadata": {},
   "source": [
    "Mit `break` lassen sich zusätzliche Abbruchbedingungen realisieren, wie z.B. eine maximale Ausführzeit. Z.B. definieren wie einen zusätzlichen Timeout in einer Endlosschleife von 10 Sekunden mit Hilfe der `time()`-Funktion aus dem Paket `time`, welche die aktuelle Zeit (seit 1970) in Sekunden ausgibt."
   ]
  },
  {
   "cell_type": "code",
   "execution_count": null,
   "metadata": {},
   "outputs": [],
   "source": [
    "import time\n",
    "\n",
    "iterations = 0\n",
    "start = time.time() # wir speichern die Anfangszeit\n",
    "while True:         # DAS IST EINE ENDLOSSCHLEIFE\n",
    "\titerations += 1\n",
    "\telapsed = time.time() - start  # wir berechnen die Zeitdifferenz in Sekunden\n",
    "\tif elapsed > 3:\n",
    "\t\tprint(f\"Timeout after {elapsed}s and {iterations} iterations\")\n",
    "\t\tbreak       # Wir brechen die Schleife ab"
   ]
  },
  {
   "cell_type": "markdown",
   "metadata": {},
   "source": [
    "Das ist allerdings keine gute Methode um ein Programm eine Zeit lang zu unterbrechen. Dafür sollten Sie lieber die `sleep()` Funktion aus dem Paket `time` nutzen. Beachten Sie die Ausführungszeit unter der Zelle."
   ]
  },
  {
   "cell_type": "code",
   "execution_count": null,
   "metadata": {},
   "outputs": [],
   "source": [
    "start = time.time()              # wir speichern die Anfangszeit\n",
    "\n",
    "time.sleep(3)                    # wir schlafen 3s\n",
    "\n",
    "print(f\"Sleeped for {time.time() - start}s\")  # wir geben die Zeitdifferenz aus"
   ]
  }
 ],
 "metadata": {
  "kernelspec": {
   "display_name": "Python 3.9.10 ('base')",
   "language": "python",
   "name": "python3"
   },
"rise": {
   "auto_select": "none",
   "center": false,
   "enable_chalkboard": true,
   "header": "<img src=\"images/pd_logo.svg\" class=\"header_title_logo\"><img src=\"images/ai4sc_logo_v2.svg\" class=\"header_ai4sc_logo\">",
   "scroll": true,
   "show_buttons_on_startup": false,
   "slideNumber": true,
   "theme": "white"
  },
  "language_info": {
   "codemirror_mode": {
    "name": "ipython",
    "version": 3
   },
   "file_extension": ".py",
   "mimetype": "text/x-python",
   "name": "python",
   "nbconvert_exporter": "python",
   "pygments_lexer": "ipython3",
   "version": "3.11.6"
  },
  "orig_nbformat": 4,
  "vscode": {
   "interpreter": {
    "hash": "6d5b4c1aed727cf1aeefa5ce625efdd40a732dd8ec11ef525b58c5aca2b06a32"
   }
  }
 },
 "nbformat": 4,
 "nbformat_minor": 2
}
