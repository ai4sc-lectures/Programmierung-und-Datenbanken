{
 "cells": [
  {
   "cell_type": "markdown",
   "metadata": {
    "editable": true,
    "slideshow": {
     "slide_type": "slide"
    },
    "tags": [
     "remove-cell"
    ]
   },
   "source": [
    "<div class=\"vslide\">\n",
    "  <div class=\"vslide-title\">\n",
    "    <p style=\"font-family: Protomolecule; font-size: 2.3em; line-height: 90%; margin: 0px auto; text-align: center; width: 100%;\"><span style=\"letter-spacing: .04rem;\">programmierung</span><br><span style=\"letter-spacing: .0rem;\">und datenbanken</span></p>\n",
    "<p class=\"author\" style=\"font-family: Protomolecule; margin: 0px auto;  text-align: center; width: 100%; font-size: 1.2em;\">Joern Ploennigs</p>\n",
    "<p class=\"subtitle\" style=\"font-family: Protomolecule; margin: 1em auto; text-align: center; width: 100%; font-size: 1.2em;\">Schleifen</p>\n",
    "  </div>\n",
    "<script>\n",
    "  function setSectionBackground(c,v){\n",
    "    let e=document.currentScript.previousElementSibling;\n",
    "    while(e&&e.tagName!=='SECTION')e=e.parentElement;\n",
    "    if(e){\n",
    "      if(c)e.setAttribute('data-background-color',c);\n",
    "      if(v){\n",
    "        e.setAttribute('data-background-video',v);\n",
    "        e.setAttribute('data-background-video-loop','true');\n",
    "        e.setAttribute('data-background-video-muted','true');\n",
    "      }\n",
    "    }\n",
    "  }\n",
    "  setSectionBackground('#000000', 'images/03b_Schleifen/mj_title.mp4');\n",
    "</script>\n",
    "<style>\n",
    ".flex-row{display:flex; gap:1rem; align-items:flex-start; justify-content:space-between;}\n",
    ".flex-row .col1{flex:1; min-width:10px}\n",
    ".flex-row .col2{flex:2; min-width:10px}\n",
    ".flex-row .col3{flex:3; min-width:10px}\n",
    ".flex-row .col4{flex:4; min-width:10px}\n",
    ".flex-row .col5{flex:5; min-width:10px}\n",
    ".flex-row .col6{flex:6; min-width:10px}\n",
    ".flex-row .col7{flex:7; min-width:10px}\n",
    "</style>\n",
    "</div>"
   ]
  },
  {
   "cell_type": "markdown",
   "metadata": {
    "slideshow": {
     "slide_type": "skip"
    }
   },
   "source": [
    "# Schleifen"
   ]
  },
  {
   "cell_type": "markdown",
   "metadata": {
    "slideshow": {
     "slide_type": "skip"
    }
   },
   "source": [
    "![](images/03b_Schleifen/mj_title.png)\n",
    "\n",
    "> Insanity is doing the same thing over and over again and expecting different results.\n",
    ">\n",
    "> — Albert Einstein"
   ]
  },
  {
   "cell_type": "markdown",
   "metadata": {
    "slideshow": {
     "slide_type": "skip"
    }
   },
   "source": [
    "## <a href=\"/lec_slides/03b_Schleifen.slides.html\">Folien</a>\n",
    "<iframe src=\"/lec_slides/03b_Schleifen.slides.html\" width=\"750\" height=\"500\"></iframe>"
   ]
  },
  {
   "cell_type": "markdown",
   "metadata": {
    "slideshow": {
     "slide_type": "slide"
    },
    "tags": [
     "remove-cell"
    ]
   },
   "source": [
    "## Ablauf\n",
    "\n",
    "![](images/partA_4.svg)"
   ]
  },
  {
   "cell_type": "markdown",
   "metadata": {
    "slideshow": {
     "slide_type": "skip"
    }
   },
   "source": [
    "Oft müssen im Code verschiedene Blöcke mehrmals durchgeführt werden. Ist die Anzahl oder die Menge der Wiederholungen vorher bekannt, verwendet man dafür den `for`-Loop. Man unterscheidet zwei Arten von For-Loops:\n",
    "\n",
    "- For-Loop:\t\t\tWiederhole die Schleife genau $n$ mal\n",
    "- For-Each-Loop (Iterator):\tWiederhole die Schleife für jedes Element in einer Sequenz"
   ]
  },
  {
   "cell_type": "markdown",
   "metadata": {
    "slideshow": {
     "slide_type": "skip"
    }
   },
   "source": [
    "## Wiederholungen mit bekannter Anzahl"
   ]
  },
  {
   "cell_type": "markdown",
   "metadata": {
    "slideshow": {
     "slide_type": "skip"
    }
   },
   "source": [
    "### For-Each-Loop bei Sequenzen"
   ]
  },
  {
   "cell_type": "markdown",
   "metadata": {
    "slideshow": {
     "slide_type": "skip"
    }
   },
   "source": [
    "\n",
    "Der `for`-Loop in Python ist ein For-Each-Loop. Er iteriert immer durch eine Sequenz an Werten, wie z.B. eine Liste. Die Variable des *Iterators* `e` enthält dabei den aktuellen Wert der Sequenz `seq`. Hiermit lässt sich sehr leicht durch Listen iterieren."
   ]
  },
  {
   "cell_type": "code",
   "execution_count": null,
   "metadata": {
    "slideshow": {
     "slide_type": "skip"
    }
   },
   "outputs": [],
   "source": [
    "seq = ['a','b','c']\n",
    "for e in seq:\n",
    "\tprint(e)"
   ]
  },
  {
   "cell_type": "markdown",
   "metadata": {
    "slideshow": {
     "slide_type": "skip"
    }
   },
   "source": [
    "oder Tupels"
   ]
  },
  {
   "cell_type": "code",
   "execution_count": null,
   "metadata": {
    "slideshow": {
     "slide_type": "skip"
    }
   },
   "outputs": [],
   "source": [
    "seq = ('a','b','c')\n",
    "for e in seq:\n",
    "\tprint(e)"
   ]
  },
  {
   "cell_type": "markdown",
   "metadata": {
    "slideshow": {
     "slide_type": "skip"
    }
   },
   "source": [
    "### For-Loop bei bekannter Anzahl $n$ an Wiederholungen"
   ]
  },
  {
   "cell_type": "markdown",
   "metadata": {
    "slideshow": {
     "slide_type": "skip"
    }
   },
   "source": [
    "Der `for`-Loop in Python kann auch als klassischer For-Loop verwendet werden, bei der man $n$-mal etwas wiederholt. Dazu erzeugt man mit der `range(n)` Funktion eine Folge an Zahlen, durch die dann wie gewohnt als For-Each-Loop iteriert wird. Der Iterator `i` nimmt dabei den Wert des Zählindexes an."
   ]
  },
  {
   "cell_type": "code",
   "execution_count": null,
   "metadata": {
    "slideshow": {
     "slide_type": "skip"
    }
   },
   "outputs": [],
   "source": [
    "n = 3\n",
    "seq = range(n)\n",
    "for i in seq:\n",
    "\tprint(i)"
   ]
  },
  {
   "cell_type": "markdown",
   "metadata": {
    "slideshow": {
     "slide_type": "skip"
    }
   },
   "source": [
    "Der Unterschied wird klarer, wenn man sich ansieht, wie man mit einem nummerierten Index durch die obige Sequenz einer Liste laufen würde. Hierfür bestimmt man die Länge der Sequenz mit `len()`, erzeugt einen numerischen Iterator mit `range()` und greift dann auf die indizierten Werte der Liste mit `seq[i]` zu. Dies entspricht einem klassischen for-Loop durch ein Array, wie er z.B. in C oder Java zu finden ist."
   ]
  },
  {
   "cell_type": "code",
   "execution_count": null,
   "metadata": {
    "slideshow": {
     "slide_type": "skip"
    }
   },
   "outputs": [],
   "source": [
    "seq = ['a','b','c']\n",
    "for i in range(len(seq)):\n",
    "    wert = seq[i]\n",
    "    print(f\"Index: {i}; Wert {wert}\")"
   ]
  },
  {
   "cell_type": "markdown",
   "metadata": {
    "slideshow": {
     "slide_type": "skip"
    }
   },
   "source": [
    "Da dies sehr umständlich ist, bietet Python die `enumerate`-Funktion als Vereinfachung an. Sie macht aus einer beliebigen Sequenz eine nummerierte Sequenz macht. Das ist Sinnvoll, wenn man den Index `i` noch aus anderem Grund braucht."
   ]
  },
  {
   "cell_type": "code",
   "execution_count": null,
   "metadata": {
    "slideshow": {
     "slide_type": "skip"
    }
   },
   "outputs": [],
   "source": [
    "seq = ['a','b','c']\n",
    "for i, wert in enumerate(seq):\n",
    "\tprint(f\"Index: {i}; Wert {wert}\")"
   ]
  },
  {
   "cell_type": "markdown",
   "metadata": {
    "slideshow": {
     "slide_type": "skip"
    }
   },
   "source": [
    "### For-Each-Loop bei Dictionaries"
   ]
  },
  {
   "cell_type": "markdown",
   "metadata": {
    "slideshow": {
     "slide_type": "skip"
    }
   },
   "source": [
    "Auch durch Dictionaries kann man mit einem For-Loop iterieren. Hierfür kann man entweder durch die Schlüssel iterieren und dann den Wert separat über `seq[key]` nachschlagen."
   ]
  },
  {
   "cell_type": "code",
   "execution_count": null,
   "metadata": {
    "slideshow": {
     "slide_type": "skip"
    }
   },
   "outputs": [],
   "source": [
    "seq = {\"key1\":\"wert1\", \"key2\":\"wert2\", \"key3\":\"wert3\"}\n",
    "for key in seq:\n",
    "    wert = seq[key]\n",
    "    print(f\"Schlüssel: {key}; Wert {wert}\")"
   ]
  },
  {
   "cell_type": "markdown",
   "metadata": {
    "slideshow": {
     "slide_type": "skip"
    }
   },
   "source": [
    "oder man iteriert gleich durch alle Schlüssel-Wert-Tupel."
   ]
  },
  {
   "cell_type": "code",
   "execution_count": null,
   "metadata": {
    "slideshow": {
     "slide_type": "skip"
    }
   },
   "outputs": [],
   "source": [
    "for key, wert in seq.items():\n",
    "    print(f\"Schlüssel: {key}; Wert {wert}\")"
   ]
  },
  {
   "cell_type": "markdown",
   "metadata": {
    "slideshow": {
     "slide_type": "skip"
    }
   },
   "source": [
    "### For-Loop Beispiel"
   ]
  },
  {
   "cell_type": "markdown",
   "metadata": {
    "slideshow": {
     "slide_type": "skip"
    }
   },
   "source": [
    "Damit kann man dann zum Beispiel eine Liste an Messwerten aus imperialen Fuß in metrische Meter umrechnen."
   ]
  },
  {
   "cell_type": "code",
   "execution_count": null,
   "metadata": {
    "slideshow": {
     "slide_type": "skip"
    }
   },
   "outputs": [],
   "source": [
    "measurements_feet =  [4.2, 2.3, 6.2, 10.5]\t# Eingabe\n",
    "measurements_meter = []\t\t\t\t\t\t# Ergebnisse\n",
    "for feets in measurements_feet:\n",
    "\tmeasurements_meter.append(0.3048 * feets)\n",
    "\n",
    "print(measurements_meter)"
   ]
  },
  {
   "cell_type": "markdown",
   "metadata": {
    "slideshow": {
     "slide_type": "skip"
    }
   },
   "source": [
    "In Python gibt es für solche einfachen For-Loops auch wieder eine Kurzschreibweise als Syntax-Zucker."
   ]
  },
  {
   "cell_type": "code",
   "execution_count": null,
   "metadata": {
    "slideshow": {
     "slide_type": "skip"
    }
   },
   "outputs": [],
   "source": [
    "measurements_meter = [0.3048 * feets for feets in measurements_feet]\n",
    "\n",
    "print(measurements_meter)"
   ]
  },
  {
   "cell_type": "markdown",
   "metadata": {
    "slideshow": {
     "slide_type": "skip"
    }
   },
   "source": [
    "## Wiederholungen mit unbekanner Anzahl"
   ]
  },
  {
   "cell_type": "markdown",
   "metadata": {
    "slideshow": {
     "slide_type": "skip"
    }
   },
   "source": [
    "While-Loops werden primär verwendet, wenn die Länge der Schleife am Anfang noch nicht bekannt ist. Dabei wird die Schleife so lange wiederholt, wie eine bestimmte Bedingung gegeben ist. Man unterscheidet in der Informatik die Typen:\n",
    "\n",
    "-  While-Loop: \t\t\tWiederhole solange eine Bedingung wahr ist (ggf. nie)\n",
    "-  Do-While-Loop:\t\tWiederhole bis eine Bedingung falsch ist (d.h. mindestens einmal)\n",
    "-  Repeat-Until-Loop:   Wiederhole bis eine Bedingung wahr wird (d.h. mindestens einmal)"
   ]
  },
  {
   "cell_type": "markdown",
   "metadata": {
    "slideshow": {
     "slide_type": "skip"
    }
   },
   "source": [
    "### While-Loop"
   ]
  },
  {
   "cell_type": "markdown",
   "metadata": {
    "slideshow": {
     "slide_type": "skip"
    }
   },
   "source": [
    "Im While-Loop kann die Bedingung schon am Anfang falsch sein. Die Schleife muss also nicht ausgeführt werden."
   ]
  },
  {
   "cell_type": "code",
   "execution_count": null,
   "metadata": {
    "slideshow": {
     "slide_type": "skip"
    }
   },
   "outputs": [],
   "source": [
    "n = 3\n",
    "while n > 0:\n",
    "\t\tprint(f\"Die While-Schleife wird ausgeführt wenn die Bedingung am Anfang der Schleife {n} > 0 wahr ist\")\n",
    "\t\tn -= 1 # wir zählen die variable n runter"
   ]
  },
  {
   "cell_type": "markdown",
   "metadata": {
    "slideshow": {
     "slide_type": "skip"
    }
   },
   "source": [
    "Die While-Schleife wird 3-mal ausgeführt da die Bedingung wahr ist und wir bis 0 runter zählen"
   ]
  },
  {
   "cell_type": "markdown",
   "metadata": {
    "slideshow": {
     "slide_type": "skip"
    }
   },
   "source": [
    "Die While-Schleife wird nicht ausgeführt, da n bereits 0 ist"
   ]
  },
  {
   "cell_type": "code",
   "execution_count": null,
   "metadata": {
    "slideshow": {
     "slide_type": "skip"
    }
   },
   "outputs": [],
   "source": [
    "n = 0\n",
    "while n > 0:\n",
    "\t\tprint(f\"Die While-Schleife wird ausgeführt wenn die Bedingung am Anfang der Schleife {n} > 0 wahr ist\")\n",
    "\t\tn -= 1 # wir zählen die variable n runter"
   ]
  },
  {
   "cell_type": "markdown",
   "metadata": {
    "slideshow": {
     "slide_type": "skip"
    }
   },
   "source": [
    "### Do-While-Loops"
   ]
  },
  {
   "cell_type": "markdown",
   "metadata": {
    "slideshow": {
     "slide_type": "skip"
    }
   },
   "source": [
    "Im Do-While-Loop wird die Bedingung erst am Ende geprüft. Die Schleife wird also immer mindestens einmal durchlaufen. Das ist jedoch identisch im Verhalten mit einem While-Loop bei der die Bedingung am Anfang als True gesetzt wurde und in der Schleife geändert wird."
   ]
  },
  {
   "cell_type": "code",
   "execution_count": null,
   "metadata": {
    "slideshow": {
     "slide_type": "skip"
    }
   },
   "outputs": [],
   "source": [
    "n = 3\n",
    "bedingung = True # Bedingung ist immer als True innitialisiert\n",
    "while bedingung:\n",
    "\tn -= 1 # wir zählen die variable n runter\n",
    "\tbedingung = n > 0 # Die bedingung wird erst am Ende der schleife neu gesetzt\n",
    "\tprint(f\"Die Do-While-Schleife wird mindestens einmal ausgeführt bis die Bedingung am Ende der Schleife {n} > 0 wahr ist\")"
   ]
  },
  {
   "cell_type": "markdown",
   "metadata": {
    "slideshow": {
     "slide_type": "skip"
    }
   },
   "source": [
    "Die Do-While-Schleife wird auch 3 mal ausgeführt da die Bedingung wahr ist und wir bis 0 runter zählen"
   ]
  },
  {
   "cell_type": "markdown",
   "metadata": {
    "slideshow": {
     "slide_type": "skip"
    }
   },
   "source": [
    "Die Do-While-Schleife wird einmal ausgeführt, obwohl n bereits 0 ist."
   ]
  },
  {
   "cell_type": "code",
   "execution_count": null,
   "metadata": {
    "slideshow": {
     "slide_type": "skip"
    }
   },
   "outputs": [],
   "source": [
    "n = 0\n",
    "bedingung = True # Bedingung ist immer als True innitialisiert\n",
    "while bedingung:\n",
    "\tn -= 1 # wir zählen die variable n runter\n",
    "\tbedingung = n > 0 # Die bedingung wird erst am Ende der schleife neu gesetzt\n",
    "\tprint(f\"Die Do-While-Schleife wird mindestens einmal ausgeführt bis die Bedingung am Ende der Schleife {n} > 0 wahr ist\")"
   ]
  },
  {
   "cell_type": "markdown",
   "metadata": {
    "slideshow": {
     "slide_type": "skip"
    }
   },
   "source": [
    "### Repeat-Until-Loop"
   ]
  },
  {
   "cell_type": "markdown",
   "metadata": {
    "slideshow": {
     "slide_type": "skip"
    }
   },
   "source": [
    "Beim Repeat-Until-Loop wird die Bedingung auch erst am Ende geprüft. Die Schleife wird also auch immer mindestens einmal durchlaufen. Die Schleife wird allerdings wiederholt bis die Bedingung Wahr wird. Es ist also eine Negation des Do-While-Loops.\n"
   ]
  },
  {
   "cell_type": "code",
   "execution_count": null,
   "metadata": {
    "slideshow": {
     "slide_type": "skip"
    }
   },
   "outputs": [],
   "source": [
    "n = -3\n",
    "bedingung = False # Bedingung ist immer als False innitialisiert\n",
    "while not bedingung:  # wird aber im while negiert\n",
    "\tn += 1 # wir zählen die variable n HOCH\n",
    "\tbedingung = n > 0 # Die bedingung wird erst am Ende der schleife neu gesetzt\n",
    "\tprint(f\"Die Repeat-Until-Schleife wird mindestens einmal ausgeführt bis die Bedingung am Ende der Schleife {n} > 0 falsch ist\")"
   ]
  },
  {
   "cell_type": "markdown",
   "metadata": {
    "slideshow": {
     "slide_type": "skip"
    }
   },
   "source": [
    "Die Repeat-Until-Schleife wird 3 mal ausgeführt, da die Bedingung am Anfang falsch ist und wir bis 0 hoch zählen."
   ]
  },
  {
   "cell_type": "markdown",
   "metadata": {
    "slideshow": {
     "slide_type": "skip"
    }
   },
   "source": [
    "Die Do-While-Schleife wird einmal ausgeführt, da n am Ende der Schleife > 0 ist."
   ]
  },
  {
   "cell_type": "code",
   "execution_count": null,
   "metadata": {
    "slideshow": {
     "slide_type": "skip"
    }
   },
   "outputs": [],
   "source": [
    "n = 0\n",
    "bedingung = False # Bedingung ist immer als False innitialisiert\n",
    "while not bedingung:  # wird aber im while negiert\n",
    "\tn += 1 # wir zählen die variable n HOCH\n",
    "\tbedingung = n > 0 # Die bedingung wird erst am Ende der schleife neu gesetzt\n",
    "\tprint(f\"Die Repeat-Until-Schleife wird mindestens einmal ausgeführt bis die Bedingung am Ende der Schleife {n} > 0 falsch ist\")"
   ]
  },
  {
   "cell_type": "markdown",
   "metadata": {
    "slideshow": {
     "slide_type": "skip"
    }
   },
   "source": [
    "### Endloos-Schleifen"
   ]
  },
  {
   "cell_type": "markdown",
   "metadata": {
    "slideshow": {
     "slide_type": "skip"
    }
   },
   "source": [
    ":::{warning} \n",
    "While-Schleifen haben keine maximale Wiederholungsanzahl. Sie können potentiell für immer laufen, wenn sich die Bedingung nie ändert. \n",
    "Es ist daher immer wichtig zu durchdenken, ob es den Fall gibt in dem sich die Bedingung nicht ändern kann und dann eine zweite Abbruchbedingung (z.B. maximale Iterationen, maximale Zeit, etc.) hinzuzufügen.\n",
    ":::"
   ]
  },
  {
   "cell_type": "markdown",
   "metadata": {
    "slideshow": {
     "slide_type": "skip"
    }
   },
   "source": [
    "Wir schauen uns unsere `while_loop`-Funktion noch einmal an. Wie könnte diese Funktion zu einer Endlosschleife werden?"
   ]
  },
  {
   "cell_type": "code",
   "execution_count": null,
   "metadata": {
    "slideshow": {
     "slide_type": "skip"
    }
   },
   "outputs": [],
   "source": [
    "while n > 0:\n",
    "\tprint(f\"Die While-Schleife wird ausgeführt wenn die Bedingung am Anfang der Schleife {n} > 0 wahr ist\")\n",
    "\tn -= 1 # wir zählen die variable n runter"
   ]
  },
  {
   "cell_type": "markdown",
   "metadata": {
    "slideshow": {
     "slide_type": "skip"
    }
   },
   "source": [
    "Es sieht erstmal so aus, als ob das nicht möglich ist. Wir werden dennoch sicherheitshalber eine zweite Variante mit zusätzlicher Abbruchbedingung definieren."
   ]
  },
  {
   "cell_type": "code",
   "execution_count": null,
   "metadata": {
    "slideshow": {
     "slide_type": "skip"
    }
   },
   "outputs": [],
   "source": [
    "def while_loop_mit_abbruch(n, max_iterations=99):\n",
    "\titerations = 0\n",
    "\twhile n > 0 and iterations < max_iterations:\n",
    "\t\tprint(f\"Die While-Schleife wird ausgeführt wenn die Bedingung am Anfang der Schleife {n} > 0 wahr ist\")\n",
    "\t\tn -= 1 # wir zählen die variable n runter\n",
    "\t\titerations += 1\n",
    "\tprint(f\"Die While-Schleife wurde nach {iterations} von {max_iterations} beendet\")"
   ]
  },
  {
   "cell_type": "markdown",
   "metadata": {
    "slideshow": {
     "slide_type": "skip"
    }
   },
   "source": [
    "Der obige Testfall mit 3 scheint zu funktionieren."
   ]
  },
  {
   "cell_type": "code",
   "execution_count": null,
   "metadata": {
    "slideshow": {
     "slide_type": "skip"
    }
   },
   "outputs": [],
   "source": [
    "while_loop_mit_abbruch(3)"
   ]
  },
  {
   "cell_type": "markdown",
   "metadata": {
    "slideshow": {
     "slide_type": "skip"
    }
   },
   "source": [
    "Was passiert allerdings wenn wir die Funktion mit Unendlich (Infinity) initialisieren? Die Subtraktion/Addition einer Zahl, ungleich Unendlich, zu Unendlich ist Unendlich. Die Variable `n` wird sich also nie ändern."
   ]
  },
  {
   "cell_type": "code",
   "execution_count": null,
   "metadata": {
    "slideshow": {
     "slide_type": "skip"
    },
    "tags": [
     "output_scroll"
    ]
   },
   "outputs": [],
   "source": [
    "import math # die Zahl unendlich ist in der math bibliothek definiert\n",
    "\n",
    "while_loop_mit_abbruch(math.inf)"
   ]
  },
  {
   "cell_type": "markdown",
   "metadata": {
    "slideshow": {
     "slide_type": "skip"
    }
   },
   "source": [
    "### Schleifen vorzeitig abbrechen oder Elemente überspringen"
   ]
  },
  {
   "cell_type": "markdown",
   "metadata": {
    "slideshow": {
     "slide_type": "skip"
    }
   },
   "source": [
    "Manchmal möchte man eine for/while-Schleife verfrüht abbrechen. Hierfür bietet Python den `break`–Befehl. Er bricht die Wiederholschleife an der aktuellen Position ab (ähnlich wie repeat in einer Funktion). Damit lassen sich zusätzliche Abbruchbedingungen in der Schleife implementieren.\n",
    "\n",
    "Der `continue`-Befehl bricht die Schleife nicht ab, sondern beginnt direkt die nächste Iteration. Das ist sinnvoll wenn z.B. eine Filterbedingung nicht erfüllt ist.\n",
    "\n",
    "Der folgende Loop soll das erste essbare Ding in meinem Rucksack finden."
   ]
  },
  {
   "cell_type": "code",
   "execution_count": null,
   "metadata": {
    "slideshow": {
     "slide_type": "skip"
    }
   },
   "outputs": [],
   "source": [
    "dinge_in_meinem_rucksack = [\"Papier\", \"Stift\", \"Apfel\", \"Brot\", \"Messer\"]\n",
    "essbares = {\"Apfel\", \"Brot\"}\n",
    "essbar = None\n",
    "\n",
    "for ding in dinge_in_meinem_rucksack:   # Finde das erste essbare Ding in meinem Rucksack\n",
    "\tif ding not in essbares:\n",
    "\t\tprint(f\"Überspringe {ding}\")\n",
    "\t\tcontinue\n",
    "\tprint(f\"Essbares gefunden {ding}\")\n",
    "\tessbar = ding\n",
    "\tbreak\n",
    "\n",
    "print(\"\")\n",
    "print(f\"Ergebnis ist {essbar}\")"
   ]
  },
  {
   "cell_type": "markdown",
   "metadata": {
    "slideshow": {
     "slide_type": "skip"
    }
   },
   "source": [
    "Wir sehen, dass der Loop `Papier` und `Stift` überspringt und nicht `\"Essbares gefunden Papier\"` schreibt. \n",
    "\n",
    "Sobald der Loop etwas Essbares gefunden hat, so gibt er `\"Essbares gefunden Apfel\"` aus und beendet den Loop, obwohl noch `Brot` und `Messer` im Rucksack sind.\n",
    "\n",
    "Beides sind typische Befehle, um die Performance von Loops zu verbessern."
   ]
  },
  {
   "cell_type": "markdown",
   "metadata": {
    "slideshow": {
     "slide_type": "skip"
    }
   },
   "source": [
    "### Endlosschleifen mit Timeout"
   ]
  },
  {
   "cell_type": "markdown",
   "metadata": {
    "slideshow": {
     "slide_type": "skip"
    }
   },
   "source": [
    "Mit `break` lassen sich zusätzliche Abbruchbedingungen realisieren, wie z.B. eine maximale Ausführzeit. Z.B. definieren wie einen zusätzlichen Timeout in einer Endlosschleife von 10 Sekunden mit Hilfe der `time()`-Funktion aus dem Paket `time`, welche die aktuelle Zeit (seit 1970) in Sekunden ausgibt."
   ]
  },
  {
   "cell_type": "code",
   "execution_count": null,
   "metadata": {
    "slideshow": {
     "slide_type": "skip"
    }
   },
   "outputs": [],
   "source": [
    "import time\n",
    "\n",
    "iterations = 0\n",
    "start = time.time() # wir speichern die Anfangszeit\n",
    "while True:         # DAS IST EINE ENDLOSSCHLEIFE\n",
    "\titerations += 1\n",
    "\telapsed = time.time() - start  # wir berechnen die Zeitdifferenz in Sekunden\n",
    "\tif elapsed > 3:\n",
    "\t\tprint(f\"Timeout after {elapsed}s and {iterations} iterations\")\n",
    "\t\tbreak       # Wir brechen die Schleife ab"
   ]
  },
  {
   "cell_type": "markdown",
   "metadata": {
    "slideshow": {
     "slide_type": "skip"
    }
   },
   "source": [
    "Das ist allerdings keine gute Methode um ein Programm eine Zeit lang zu unterbrechen. Dafür sollten Sie lieber die `sleep()` Funktion aus dem Paket `time` nutzen. Beachten Sie die Ausführungszeit unter der Zelle."
   ]
  },
  {
   "cell_type": "code",
   "execution_count": null,
   "metadata": {
    "slideshow": {
     "slide_type": "skip"
    }
   },
   "outputs": [],
   "source": [
    "start = time.time()              # wir speichern die Anfangszeit\n",
    "\n",
    "time.sleep(3)                    # wir schlafen 3s\n",
    "\n",
    "print(f\"Sleeped for {time.time() - start}s\")  # wir geben die Zeitdifferenz aus"
   ]
  },
  {
   "cell_type": "markdown",
   "metadata": {
    "slideshow": {
     "slide_type": "slide"
    },
    "tags": [
     "remove-cell"
    ]
   },
   "source": [
    "## Ablauf\n",
    "\n",
    "![](images/partA_4.svg)"
   ]
  },
  {
   "cell_type": "markdown",
   "metadata": {
    "slideshow": {
     "slide_type": "slide"
    },
    "tags": [
     "remove-cell"
    ]
   },
   "source": [
    "## Schleifen\n",
    "\n",
    "Schleifen sind ein wichtiger Ansatz in der Programmierung, um wiederholende oder inkrementelle Lösungen zu realisieren.\n",
    "\n",
    "In Python sind verfügbar:\n",
    "- `for` (Entspricht For-Each-Loop)\n",
    "- `while` (Entspricht While-Loop)\n",
    "\n",
    "Wichtige Eigenschaften:\n",
    "- Funktionieren genau wie alle anderen Steueranweisungen durch Einrückungen nach einer einzeiligen Definition\n",
    "- Anders als in Funktionen sind Variablen aus Schleifen auch außerhalb der Schleife verfügbar!\n",
    "- Die anderen Loop-Varianten sind zwar nicht explizit vorhanden, aber funktionell nachbildbar"
   ]
  },
  {
   "cell_type": "markdown",
   "metadata": {
    "slideshow": {
     "slide_type": "subslide"
    },
    "tags": [
     "remove-cell"
    ]
   },
   "source": [
    "## Schleifen - FOR-Loop\n",
    "\n",
    "Der for-Loop wiederholt ein Block an Statements für alle Elemente in einer Sequenz. Element ist dabei eine Variable die immer mit dem aktuellen Element aus der Sequenz belegt wird.\n",
    "\n",
    "```python\n",
    "for Element in Sequenz:\n",
    "    # Statement\n",
    "```"
   ]
  },
  {
   "cell_type": "markdown",
   "metadata": {
    "slideshow": {
     "slide_type": "subslide"
    },
    "tags": [
     "remove-cell"
    ]
   },
   "source": [
    "## Schleifen - FOR-Each-Loop Beispiel\n",
    "\n",
    "Der for-Loop in Python ist ein For-Each-Loop. Er iteriert immer durch eine Sequenz an Werten, wie z.B. eine Liste. Die Variable des Iterators `e` enthält dabei den aktuellen Wert der Liste `seq`.\n",
    "\n",
    "<div class=\"flex-row\">\n",
    "\n",
    "<div class=\"col1\">\n",
    "\n",
    "```python\n",
    "seq = ['a','b','c']\n",
    "for e in seq:\n",
    "    print(e)\n",
    "```\n",
    "\n",
    "</div>\n",
    "\n",
    "<div class=\"col1\">\n",
    "\n",
    "Ausgabe:\n",
    "```\n",
    "a\n",
    "b\n",
    "c\n",
    "```\n",
    "\n",
    "</div>\n",
    "\n",
    "</div>"
   ]
  },
  {
   "cell_type": "markdown",
   "metadata": {
    "slideshow": {
     "slide_type": "subslide"
    },
    "tags": [
     "remove-cell"
    ]
   },
   "source": [
    "## Schleifen - FOR-Loop Beispiel\n",
    "\n",
    "Der for-Loop in Python kann auch als klassischer For-Loop verwendet werden, bei der man n-mal etwas wiederholt. Dazu erzeugt man mit der `range(n)`-Funktion eine Folge an Zahlen, durch die dann das For-Each-Loop iteriert wird.\n",
    "\n",
    "<div class=\"flex-row\">\n",
    "\n",
    "<div class=\"col1\">\n",
    "\n",
    "```python\n",
    "n = 3\n",
    "seq = range(n)\n",
    "for e in seq:\n",
    "    print(e)\n",
    "```\n",
    "\n",
    "</div>\n",
    "\n",
    "<div class=\"col1\">\n",
    "\n",
    "Ausgabe:\n",
    "```\n",
    "0\n",
    "1\n",
    "2\n",
    "```\n",
    "\n",
    "</div>\n",
    "\n",
    "</div>"
   ]
  },
  {
   "cell_type": "markdown",
   "metadata": {
    "slideshow": {
     "slide_type": "subslide"
    },
    "tags": [
     "remove-cell"
    ]
   },
   "source": [
    "## Schleifen - FOR-Loop Beispiel\n",
    "\n",
    "Damit kann man dann zum Beispiel eine Liste an Messwerten aus imperialen Fuß in metrische Meter umwandeln.\n",
    "\n",
    "```python\n",
    "measurements_feet = [4.2, 2.3, 6.2, 10.5]  # Eingabe\n",
    "measurements_meter = []  # Ergebnisse\n",
    "\n",
    "for feets in measurements_feet:\n",
    "    measurements_meter.append(0.3048 * feets)\n",
    "\n",
    "print(measurements_meter)\n",
    "```\n",
    "\n",
    "Ausgabe:\n",
    "```\n",
    "[1.2801600000000002, 0.70104, 1.88976, 3.2004]\n",
    "```"
   ]
  },
  {
   "cell_type": "markdown",
   "metadata": {
    "slideshow": {
     "slide_type": "slide"
    },
    "tags": [
     "remove-cell"
    ]
   },
   "source": [
    "## Schleifen - WHILE-Loop\n",
    "\n",
    "Die while-Loop-Schleife wird so lange ausgeführt so lange bis eine Bedingung wahr ist. Da diese am Anfang geprüft wird und von Anfang an falsch sein kann, muss der Inhalt nicht ausgeführt werden.\n",
    "\n",
    "```python\n",
    "while Bedingung:\n",
    "    # Statement\n",
    "```\n",
    "\n",
    "Wie beim if wird die Bedingung auf seinen Wahrheitswert geprüft:\n",
    "- Ist dieser `True` läuft die Schleife einmal durch, woraufhin wieder geprüft wird\n",
    "- Ist dieser `False` endet die Schleife und der Code wird nicht (noch einmal) ausgeführt"
   ]
  },
  {
   "cell_type": "markdown",
   "metadata": {
    "slideshow": {
     "slide_type": "subslide"
    },
    "tags": [
     "remove-cell"
    ]
   },
   "source": [
    "## Schleifen - While-Loop vs. Do-While-Loop vs. Repeat-Until\n",
    "\n",
    "<div class=\"flex-row\">\n",
    "\n",
    "<div class=\"col1\">\n",
    "\n",
    "**While-Loop**\n",
    "\n",
    "Im While-Loop kann die Bedingung schon am Anfang falsch sein. Die Schleife muss also nicht ausgeführt werden.\n",
    "\n",
    "```python\n",
    "Bedingung = True/False\n",
    "while Bedingung:\n",
    "    # Statement\n",
    "    Bedingung = False\n",
    "```\n",
    "\n",
    "</div>\n",
    "\n",
    "<div class=\"col1\">\n",
    "\n",
    "**Do-While-Loop**\n",
    "\n",
    "Im Do-While-Loop wird die Bedingung erst am Ende geprüft. Die Schleife wird also immer mindestens einmal durchlaufen.\n",
    "\n",
    "```python\n",
    "Bedingung = True\n",
    "while Bedingung:\n",
    "    # Statement\n",
    "    Bedingung = False\n",
    "```\n",
    "\n",
    "</div>\n",
    "\n",
    "<div class=\"col1\">\n",
    "\n",
    "**Repeat-Until-Loop**\n",
    "\n",
    "Beim Repeat-Until-Loop wird die Bedingung auch erst am Ende geprüft. Die Schleife wird wiederholt bis die Bedingung wahr wird.\n",
    "\n",
    "```python\n",
    "Bedingung = False\n",
    "while not Bedingung:\n",
    "    # Statement\n",
    "    Bedingung = True\n",
    "```\n",
    "\n",
    "</div>\n",
    "\n",
    "</div>"
   ]
  },
  {
   "cell_type": "markdown",
   "metadata": {
    "slideshow": {
     "slide_type": "skip"
    }
   },
   "source": [
    "## Schleifen - Endlosschleifen!\n",
    "\n",
    "While-Schleifen haben keine maximale Wiederholungsanzahl. Sie können potentiell für immer laufen, wenn sich die Bedingung nie ändert.\n",
    "\n",
    "<div class=\"alert alert-block alert-info\">\n",
    "    <b>⚠️ Achtung:</b> Es ist daher immer wichtig zu durchdenken, ob es den Fall gibt in dem sich die Bedingung nicht ändern kann und dann eine zweite Abbruchsbedingung hinzuzufügen.\n",
    "</div>\n",
    "\n",
    "```python\n",
    "Bedingung = True\n",
    "while Bedingung:  # DAS IST EINE ENDLOSSCHLEIFE\n",
    "    # Statement\n",
    "    Bedingung = True  # Bedingung ändert sich nie!\n",
    "```"
   ]
  },
  {
   "cell_type": "markdown",
   "metadata": {
    "slideshow": {
     "slide_type": "skip"
    }
   },
   "source": [
    "## Schleifen - Schleife verfrüht abbrechen\n",
    "\n",
    "`break`-Befehl: Bricht die Wiederholschleife an der aktuellen Position ab\n",
    "\n",
    "`continue`-Befehl: Bricht die Schleife nicht ab, sondern beginnt direkt die nächste Iteration\n",
    "\n",
    "```python\n",
    "dinge_in_meinem_rucksack = [\"Papier\", \"Stift\", \"Apfel\", \"Brot\", \"Messer\"]\n",
    "essbares = {\"Apfel\", \"Brot\"}\n",
    "essbar = None\n",
    "\n",
    "for ding in dinge_in_meinem_rucksack:  # Finde das erste essbare Ding\n",
    "    if ding not in essbares:\n",
    "        print(f\"Überspringe {ding}\")\n",
    "        continue\n",
    "    print(f\"Essbares gefunden {ding}\")\n",
    "    essbar = ding\n",
    "    break\n",
    "\n",
    "print(essbar)\n",
    "```"
   ]
  },
  {
   "cell_type": "markdown",
   "metadata": {
    "slideshow": {
     "slide_type": "skip"
    }
   },
   "source": [
    "## Schleifen - Schleife verfrüht abbrechen\n",
    "\n",
    "Mit `break` lassen sich zusätzliche Abbruchbedingungen realisieren, wie z.B. eine maximale Ausführzeit. Hier definieren wir einen zusätzlichen Timeout in einer Endlosschleife von 3 Sekunden:\n",
    "\n",
    "```python\n",
    "import time\n",
    "\n",
    "iterations = 0\n",
    "start = time.time()\n",
    "\n",
    "while True:  # DAS IST EINE ENDLOSSCHLEIFE\n",
    "    iterations += 1\n",
    "    elapsed = time.time() - start\n",
    "    \n",
    "    if elapsed > 3:\n",
    "        print(f\"Timeout after {iterations} iterations\")\n",
    "        break\n",
    "```"
   ]
  },
  {
   "cell_type": "markdown",
   "metadata": {
    "slideshow": {
     "slide_type": "slide"
    },
    "tags": [
     "remove-cell"
    ]
   },
   "source": [
    "## Programmflusskontrolle\n",
    "\n",
    "Wir kennen nun zwei Werkzeuge:\n",
    "\n",
    "<div class=\"flex-row\">\n",
    "<div class=\"col1\">\n",
    "\n",
    "Bedingte Ausführung:\n",
    "- `if`, `else`, `elif`\n",
    "\n",
    "</div>\n",
    "<div class=\"col1\">\n",
    "\n",
    "Mehrfachausführung:\n",
    "- `while`, `for`\n",
    "\n",
    "</div>\n",
    "</div>\n",
    "\n",
    "Jedes Programm, was jemals auf einem Computer ausgeführt wurde, könnte mit diesen Mitteln geschrieben werden.\n"
   ]
  },
  {
   "cell_type": "markdown",
   "metadata": {
    "slideshow": {
     "slide_type": "skip"
    }
   },
   "source": [
    "## Quiz\n",
    "\n",
    "\n",
    "```{quizdown}\n",
    "\t---\n",
    "\tshuffleQuestions: true\n",
    "\tshuffleAnswers: true\n",
    "\t---\n",
    "\n",
    "    ### Warum werden Schleifen in Programmen verwendet?\n",
    "\n",
    "    - [x] Um Anweisungen mehrfach auszuführen  \n",
    "    - [ ] Um Programme zu beenden  \n",
    "    - [ ] Um Fehler im Code zu suchen  \n",
    "    - [ ] Um Funktionen zu definieren\n",
    "\n",
    "    ### Was ist typisch für eine `for`-Schleife?\n",
    "\n",
    "    - [x] Sie wiederholt Anweisungen für eine Sequenz oder Anzahl  \n",
    "    - [ ] Sie führt Anweisungen nur einmal aus  \n",
    "    - [ ] Sie erzeugt automatisch Variablen  \n",
    "    - [ ] Sie wird immer mit `if` kombiniert\n",
    "\n",
    "    ### Wie funktioniert ein For-Each-Loop in Python?\n",
    "\n",
    "    - [x] Er iteriert direkt über die Elemente einer Sequenz  \n",
    "    - [ ] Er zählt von 1 bis 100  \n",
    "    - [ ] Er verändert automatisch alle Elemente  \n",
    "    - [ ] Er wird nur für Zahlen verwendet\n",
    "\n",
    "    ### Was enthält die Schleifenvariable bei einem For-Each-Loop?\n",
    "\n",
    "    - [x] Das aktuelle Element aus der Sequenz  \n",
    "    - [ ] Die Länge der Sequenz  \n",
    "    - [ ] Den Index des vorherigen Elements  \n",
    "    - [ ] Immer eine Zahl\n",
    "\n",
    "    ### Wozu wird `range(n)` in Python verwendet?\n",
    "\n",
    "    - [x] Um eine Sequenz von Zahlen von 0 bis n-1 zu erzeugen\n",
    "    - [ ] Um eine Sequenz von Zahlen von 0 bis n zu erzeugen\n",
    "    - [ ] Um eine Liste mit n Nullen zu erstellen  \n",
    "    - [ ] Um Strings zu vergleichen  \n",
    "    - [ ] Um Bedingungen auszuwerten\n",
    "\n",
    "    ### Was macht `enumerate()` in Python?\n",
    "    - [x] Erzeugt eine Sequenz mit Index und Element  \n",
    "    - [ ] Sortiert eine Liste alphabetisch  \n",
    "    - [ ] Entfernt Duplikate aus einem Dictionary  \n",
    "    - [ ] Wandelt Strings in Zahlen um\n",
    "\n",
    "    ### Wie kann man durch ein Dictionary iterieren?\n",
    "    - [x] Mit einer Schleife über die Schlüssel  \n",
    "    - [x] Mit einer Schleife über Schlüssel-Wert-Paare mit `items()`\n",
    "    - [ ] Nur mit einer While-Schleife  \n",
    "    - [ ] Nur durch Umwandlung in eine Liste\n",
    "\n",
    "    ### Sortiere die folgenden Zeilen, um eine gültige `for`-Schleife zu schreiben, die alle geraden Zahlen von 0 bis 10 (inklusive) ausgibt:\n",
    "    1. `for i in range(0, 11, 2):`\n",
    "    2. `  print(i)`\n",
    "\n",
    "    ### Sortiere die folgenden Zeilen, um alle Elemente einer Liste mit `for` und einer Bedingung auszugeben. Gegeben ist:\n",
    "    ```python\n",
    "    zahlen = [3, 6, 9, 12, 15]\n",
    "    ```\n",
    "    1. `for z in zahlen:`\n",
    "    2. `  if z > 8:`\n",
    "    3. `    print(z)`\n",
    "\n",
    "    ### Sortiere die folgenden Zeilen, um die Schlüssel und Werte eines Dictionary korrekt auszugeben und dabei nur Werte größer als 20 zu drucken. Gegeben ist:\n",
    "    ```python\n",
    "    person = {\"name\": \"Anna\", \"alter\": 30, \"punkte\": 18}\n",
    "    ```\n",
    "    1. `for key, value in person.items():`\n",
    "    2. `  if isinstance(value, int) and value > 20:`\n",
    "    3. `    print(f\"{key}: {value}\")`\n",
    "\n",
    "    ### Sortiere die folgenden Zeilen, um `enumerate()` korrekt zu nutzen und das Element mit Index auszugeben, wenn der Index ungerade ist. Gegeben ist:\n",
    "    ```python\n",
    "    tiere = [\"Katze\", \"Hund\", \"Maus\", \"Vogel\"]\n",
    "    ```\n",
    "    1. `for i, tier in enumerate(tiere):`\n",
    "    2. `  if i % 2 == 1:`\n",
    "    3. `    print(f\"{i}: {tier}\")`\n",
    "\n",
    "```"
   ]
  },
  {
   "cell_type": "markdown",
   "metadata": {
    "slideshow": {
     "slide_type": "slide"
    },
    "tags": [
     "remove-cell"
    ]
   },
   "source": [
    "<div class=\"vslide\">\n",
    "  <div class=\"questions\" style=\"letter-spacing: 0.03em; font-family: Protomolecule; font-size: 2.3em; position: absolute; top: 50%; left: 50%; transform: translate(-50%, -50%); color: black; z-index: 5;\">fragen?</div>\n",
    "<script>setSectionBackground('#000000', 'images/mj_questions.mp4');</script>\n",
    "</div>"
   ]
  }
 ],
 "metadata": {
  "kernelspec": {
   "display_name": "Python 3 (ipykernel)",
   "language": "python",
   "name": "python3"
  },
  "language_info": {
   "codemirror_mode": {
    "name": "ipython",
    "version": 3
   },
   "file_extension": ".py",
   "mimetype": "text/x-python",
   "name": "python",
   "nbconvert_exporter": "python",
   "pygments_lexer": "ipython3",
   "version": "3.12.10"
  },
  "rise": {
   "auto_select": "none",
   "center": false,
   "enable_chalkboard": true,
   "header": "<img src=\"images/pd_logo.svg\" class=\"header_title_logo\"><img src=\"images/ai4sc_logo_v2.svg\" class=\"header_ai4sc_logo\">",
   "scroll": true,
   "show_buttons_on_startup": false,
   "slideNumber": true,
   "theme": "white"
  }
 },
 "nbformat": 4,
 "nbformat_minor": 4
}
