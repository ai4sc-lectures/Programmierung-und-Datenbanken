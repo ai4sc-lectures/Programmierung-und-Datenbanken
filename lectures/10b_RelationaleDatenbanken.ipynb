{
 "cells": [
  {
   "cell_type": "markdown",
   "metadata": {
    "editable": true,
    "slideshow": {
     "slide_type": "slide"
    },
    "tags": [
     "remove-cell"
    ]
   },
   "source": [
    "<div class=\"vslide\">\n",
    "  <div class=\"vslide-title\">\n",
    "    <p style=\"font-family: Protomolecule; font-size: 2.3em; line-height: 90%; margin: 0px auto; text-align: center; width: 100%;\"><span style=\"letter-spacing: .04rem;\">programmierung</span><br><span style=\"letter-spacing: .0rem;\">und datenbanken</span></p>\n",
    "<p class=\"author\" style=\"font-family: Protomolecule; margin: 0px auto;  text-align: center; width: 100%; font-size: 1.2em;\">Joern Ploennigs</p>\n",
    "<p class=\"subtitle\" style=\"font-family: Protomolecule; margin: 1em auto; text-align: center; width: 100%; font-size: 1.2em;\">Relationale Datenbanken</p>\n",
    "  </div>\n",
    "<script>\n",
    "  function setSectionBackground(c,v){\n",
    "    let e=document.currentScript.previousElementSibling;\n",
    "    while(e&&e.tagName!=='SECTION')e=e.parentElement;\n",
    "    if(e){\n",
    "      if(c)e.setAttribute('data-background-color',c);\n",
    "      if(v){\n",
    "        e.setAttribute('data-background-video',v);\n",
    "        e.setAttribute('data-background-video-loop','true');\n",
    "        e.setAttribute('data-background-video-muted','true');\n",
    "      }\n",
    "    }\n",
    "  }\n",
    "  setSectionBackground('#000000', 'images/10b_RelationaleDatenbanken/mj_title.mp4');\n",
    "</script>\n",
    "<style>\n",
    ".flex-row{display:flex; gap:2rem; align-items:flex-start; justify-content:space-between;}\n",
    ".flex-row .col1{flex:1; min-width:10px}\n",
    ".flex-row .col2{flex:2; min-width:10px}\n",
    ".flex-row .col3{flex:3; min-width:10px}\n",
    ".flex-row .col4{flex:4; min-width:10px}\n",
    ".flex-row .col5{flex:5; min-width:10px}\n",
    ".flex-row .col6{flex:6; min-width:10px}\n",
    ".flex-row .col7{flex:7; min-width:10px}\n",
    ".vcent{display:flex; align-items:center; justify-content:center}\n",
    "</style>\n",
    "</div>"
   ]
  },
  {
   "cell_type": "markdown",
   "metadata": {
    "editable": true,
    "slideshow": {
     "slide_type": "skip"
    },
    "tags": []
   },
   "source": [
    "# Relationale Datenbanken"
   ]
  },
  {
   "cell_type": "markdown",
   "metadata": {
    "editable": true,
    "slideshow": {
     "slide_type": "skip"
    },
    "tags": []
   },
   "source": [
    "![](images/10b_RelationaleDatenbanken/mj_title_band.jpg)\n",
    "\n",
    "> If you think you understand SQL, you’re probably wrong.\n",
    ">\n",
    "> - C. J. Date"
   ]
  },
  {
   "cell_type": "markdown",
   "metadata": {
    "editable": true,
    "slideshow": {
     "slide_type": "skip"
    },
    "tags": []
   },
   "source": [
    "## <a href=\"/lec_slides/10b_RelationaleDatenbanken.slides.html\">Folien</a>\n",
    "<iframe src=\"/lec_slides/10b_RelationaleDatenbanken.slides.html\" width=\"750\" height=\"500\"></iframe>"
   ]
  },
  {
   "cell_type": "markdown",
   "metadata": {
    "editable": true,
    "slideshow": {
     "slide_type": "slide"
    },
    "tags": [
     "remove-cell"
    ]
   },
   "source": [
    "## Ablauf\n",
    "\n",
    "![](images/partB_2.svg)"
   ]
  },
  {
   "cell_type": "markdown",
   "metadata": {
    "slideshow": {
     "slide_type": "skip"
    }
   },
   "source": [
    "## Einführung in relationale Datenbanken\n",
    "\n",
    "Relationale Datenbanken bilden das Fundament moderner Informationssysteme und sind aus der heutigen Ingenieurspraxis nicht mehr wegzudenken. Eine relationale Datenbank ist ein Datenbanksystem, das Informationen in Tabellen speichert, wobei die Daten als Tupel organisiert sind und jede Spalte einen definierten Datentyp besitzt. Diese strukturierte Herangehensweise ermöglicht es Ingenieuren, komplexe Datenbestände effizient zu verwalten und sinnvoll miteinander zu verknüpfen.\n",
    "\n",
    "<div class=\"alert alert-block alert-success\">\n",
    "<b>📘 Definition: Relationale Datenbank</b>\n",
    "\n",
    "Eine relationale Datenbank ist ein *Datenbanksystem*, das Informationen in *Tabellen* (Relationen) speichert, wobei die Daten als *Tupel* (Zeilen) organisiert sind und jede Spalte (Attribut) einen definierten Datentyp besitzt.\n",
    "</div>\n",
    "\n",
    "Der Begriff \"Relation\" stammt aus der Mathematik und bezeichnet eine Tabelle mit all ihren Datenzeilen. Eine relationale Datenbank besteht somit aus einer Sammlung von Tabellen, die logisch miteinander verbunden sind. Für Ingenieure bedeutet dies beispielsweise, dass Projektdaten, Materiallisten und Kostenkalkulationen in separaten, aber verknüpften Tabellen gespeichert werden können.\n"
   ]
  },
  {
   "cell_type": "markdown",
   "metadata": {
    "slideshow": {
     "slide_type": "skip"
    }
   },
   "source": [
    "## Tabellenstruktur und Grundbegriffe\n",
    "\n",
    "Jede Tabelle in einer relationalen Datenbank besitzt einen eindeutigen Namen (*Relationennamen*), der ihren Inhalt beschreibt. Die *Relation* selbst steht für die Gesamtheit aller Datentupel in dieser Tabelle. Ein *Tupel* entspricht einer einzelnen Zeile und besteht aus einer Abfolge von Attributwerten. Die Bedeutung dieser Werte wird durch das *Relationenschema* festgelegt, welches die Spaltennamen und deren Anordnung definiert.\n",
    "\n",
    "<div class=\"flex-row\">\n",
    "  <div class=\"col1\"></div>\n",
    "  <div class=\"col2\"> \n",
    "\n",
    "| Attribut 1   | Attribut 2 | Attribut 3 |\n",
    "|--------------|------------|------------|\n",
    "| Attributwert |     ...    |     ...    |\n",
    "| Attributwert |     ...    |     ...    |\n",
    "\n",
    "  </div>\n",
    "  <div class=\"col1\"></div>\n",
    "</div>\n",
    "\n",
    "In der Umwelttechnik könnte eine Tabelle \"Messstationen\" beispielsweise Informationen über verschiedene Überwachungsstandorte enthalten. Jede Zeile würde eine konkrete Messstation repräsentieren, während die Spalten Eigenschaften wie Standort, Installationsdatum oder Sensortyp beschreiben."
   ]
  },
  {
   "cell_type": "markdown",
   "metadata": {
    "slideshow": {
     "slide_type": "skip"
    }
   },
   "source": [
    "## Eindeutige Schlüssel\n",
    "\n",
    "Relationale Datenbanken sind nach festen Prinzpien aufgebaut. Meist sind Informationen über verschiedene Tabellen verteilt (Baustellen, Adressen, Aufträge, etc.) und müssen in Zusammenhang gesetzt werden, um daraus anwendbares Wissen abzuleiten. Dies geschieht über *Schlüsselattribute*. Das sind spezielle Spalten, die zur eindeutigen Identifikation von Datensätzen dienen. Diese Attribute sind eindeutig zuordenbar und existieren in der Tabelle *nur einmal*, wodurch sie eine zuverlässige Identifikation jedes Tupels ermöglichen. Zeilennummern eignen sich nicht als Schlüssel, da sie bei Löschvorgängen verändert werden können und somit ihre Eindeutigkeit verlieren.\n",
    "\n",
    "Schlüssel können als einzelnes Attribut definiert werden oder sich aus einer Menge von Attributen zusammensetzen. Besonders verbreitet sind:\n",
    "- *Einzelnes Attribut* oder *Menge von Attributen*\n",
    "- *Unique ID (UID)* - einzelnes Attribut\n",
    "- *Globally Unique IDs (GUID)* - global eindeutig\n",
    "- *UUID* (universally unique identifier) - ISO Standard\n"
   ]
  },
  {
   "cell_type": "markdown",
   "metadata": {
    "slideshow": {
     "slide_type": "skip"
    }
   },
   "source": [
    "Die Stärke relationaler Datenbanken liegt in der Möglichkeit, Tabellen über Schlüssel zu verknüpfen. Dabei werden die eigenen Schlüssel einer Tabelle als *Primärschlüssel* bezeichnet, während Schlüssel anderer Tabellen als *Fremdschlüssel* fungieren. Der Fremdschlüssel verweist dabei immer auf den Primärschlüssel in der anderen Tabelle.\n",
    "\n",
    "Diese Verknüpfung lässt sich am Beispiel von Gemeinden und Bauwerken veranschaulichen. Die Bauwerke-Tabelle enthält neben der eigenen BauwerksID auch die GemeindeID als Fremdschlüssel. Dadurch wird eine logische Verbindung zur Gemeinden-Tabelle hergestellt, ohne dass Gemeindeinformationen in der Bauwerke-Tabelle wiederholt werden müssen. Ein Bauingenieur kann so beispielsweise alle Hotels in Dummerstorf finden, indem er Bauwerke mit dem Typ \"Hotel\" und der entsprechenden GemeindeID abfragt.\n",
    "\n",
    "<div class=\"flex-row\">\n",
    "  <div class=\"col1\">\n",
    "\n",
    "**Gemeinden Tabelle**\n",
    "\n",
    "| GemeindeID | Name | Einwohner |\n",
    "|---|--------------|-------|\n",
    "| 1 | Dummerstorf  | 7.329 |\n",
    "| 2 | Graal-Müritz | 4.278 |\n",
    "| 3 | Sanitz       | 5.831 |\n",
    "\n",
    "<br/> Primärschlüssel: GemeindeID\n",
    "\n",
    "  </div>\n",
    "  <div class=\"col1\"> \n",
    "\n",
    "**Bauwerke Tabelle**\n",
    "\n",
    "| BauwerksID | Bauwerkstyp | GemeindeID |\n",
    "|------------|-------------|------------|\n",
    "| 5000       | Tankstelle  | 2 |\n",
    "| 5001       | Hotel       | 1 |\n",
    "| 5002       | Kirche      | 2 |\n",
    "\n",
    "<br/> Fremdschlüssel: GemeindeID\n",
    "\n",
    "  </div>\n",
    "</div>"
   ]
  },
  {
   "cell_type": "markdown",
   "metadata": {
    "slideshow": {
     "slide_type": "skip"
    }
   },
   "source": [
    "## Integritätsbedingungen und Datenqualität\n",
    "\n",
    "Schlüssel definieren wichtige Integritätsbedingungen, die die Qualität und Konsistenz der Daten sicherstellen. Primärschlüssel gewährleisten die *lokale Integrität* der einzelnen Tabelle, indem sie verhindern, dass identische Datensätze mehrfach gespeichert werden. Fremdschlüssel hingegen sichern die *globale Integrität* des gesamten Datenbanksystems, indem sie gewährleisten, dass alle Verweise zwischen Tabellen gültig bleiben.\n",
    "\n",
    "Für Ingenieure ist diese Integrität von entscheidender Bedeutung. In einer Baudatenbank muss beispielsweise sichergestellt sein, dass jeder Verweis auf ein Baumaterial tatsächlich zu einem existierenden Material führt. Ein ungültiger Verweis könnte zu Fehlern in der Kostenberechnung oder Materialbeschaffung führen. Ebenso kritisch ist in der Umwelttechnik die korrekte Zuordnung von Messdaten zu ihren Herkunftsstationen, um falsche Schlüsse über Umweltbedingungen zu vermeiden.\n",
    "\n",
    "Die Tabellen werden somit über Schlüssel in Beziehung gesetzt, wodurch ein zusammenhängendes und konsistentes Datenmodell entsteht, das die Grundlage für zuverlässige ingenieurtechnische Entscheidungen bildet."
   ]
  },
  {
   "cell_type": "markdown",
   "metadata": {
    "editable": true,
    "jp-MarkdownHeadingCollapsed": true,
    "slideshow": {
     "slide_type": "subslide"
    },
    "tags": [
     "remove-cell"
    ]
   },
   "source": [
    "## Relationale Datenbanken\n",
    "\n",
    "<script>setSectionBackground('#E2F0D9');</script>\n",
    "<div class=\"flex-row\">\n",
    "  <div class=\"col4 vcent\">\n",
    "\n",
    "  </div>\n",
    "  <div class=\"col6\"> \n",
    "    <figure class=\"mj-fig\">\n",
    "        <img src=\"images/10b_RelationaleDatenbanken/mj_databank2.png\" class=\"mj-fig-img\">\n",
    "        <figcaption class=\"mj-fig-cap\">\n",
    "            Midjourney: Relational Database\n",
    "        </figcaption>\n",
    "    </figure>\n",
    "  </div>\n",
    "</div>"
   ]
  },
  {
   "cell_type": "markdown",
   "metadata": {
    "editable": true,
    "slideshow": {
     "slide_type": "subslide"
    },
    "tags": [
     "remove-cell"
    ]
   },
   "source": [
    "## Relationale Datenbanken - Grundkonzepte\n",
    "\n",
    "<div class=\"alert alert-block alert-success\">\n",
    "<b>📘 Definition: Relationale Datenbank</b>\n",
    "\n",
    "Eine relationale Datenbank ist ein *Datenbanksystem*, das Informationen in *Tabellen* (Relationen) speichert, wobei die Daten als *Tupel* (Zeilen) organisiert sind und jede Spalte (Attribut) einen definierten Datentyp besitzt.\n",
    "</div>\n",
    "\n",
    "<div class=\"flex-row\">\n",
    "  <div class=\"col1\">\n",
    "\n",
    "- Daten sind in Tabellenstrukturen (Schemata) organisiert\n",
    "- *Relation* ist hierbei der Begriff für eine Tabelle\n",
    "- Eine *relationale Datenbank* ist eine Menge von Tabellen\n",
    "\n",
    "  </div>\n",
    "  <div class=\"col1\"> \n",
    "\n",
    "| Spalte 1 | Spalte 2 | Spalte 3 |\n",
    "|----------|----------|----------|\n",
    "| Zeile 1  | ...      | ...      |\n",
    "| Zeile 2  | ...      | ...      |\n",
    "\n",
    "  </div>\n",
    "</div>"
   ]
  },
  {
   "cell_type": "markdown",
   "metadata": {
    "editable": true,
    "slideshow": {
     "slide_type": "subslide"
    },
    "tags": [
     "remove-cell"
    ]
   },
   "source": [
    "## Relationale Datenbanken - Grundbegriffe\n",
    "\n",
    "<div class=\"flex-row\">\n",
    "  <div class=\"col1\">\n",
    "\n",
    "- Jede Tabelle hat einen *Relationennamen* (Tabellennamen)\n",
    "- *Relation* steht für die Gesamtheit der Datentupel (Alle Zeilen)\n",
    "- Jedes *Tupel* an Daten besteht aus einer Abfolge von Attributwerten (Einzelne Zeile)\n",
    "- Reihenfolge festgelegt durch *Relationenschema* (Spaltennamen)\n",
    "\n",
    "  </div>\n",
    "  <div class=\"col1\"> \n",
    "\n",
    "| Attribut 1   | Attribut 2 | Attribut 3 |\n",
    "|--------------|------------|------------|\n",
    "| Attributwert |     ...    |     ...    |\n",
    "| Attributwert |     ...    |     ...    |\n",
    "\n",
    "  </div>\n",
    "</div>"
   ]
  },
  {
   "cell_type": "markdown",
   "metadata": {
    "editable": true,
    "slideshow": {
     "slide_type": "subslide"
    },
    "tags": [
     "remove-cell"
    ]
   },
   "source": [
    "## Beispiel: OpenData Hanse-Stadt Rostock\n",
    "\n",
    "Informationen sind meist über verschiedene Tabellen verteilt und müssen oft zusammengeführt verarbeitet werden, um daraus anwendbares Wissen abzuleiten.\n",
    "\n",
    "- Beispiel: https://www.opendata-hro.de\n",
    "    - Bebauungspläne\n",
    "    - Gemeinden  \n",
    "    - Baustellen\n",
    "    - Bodenrichtwerte\n",
    "    - Adressenliste"
   ]
  },
  {
   "cell_type": "markdown",
   "metadata": {
    "editable": true,
    "slideshow": {
     "slide_type": "subslide"
    },
    "tags": [
     "remove-cell"
    ]
   },
   "source": [
    "## Schlüsselattribute\n",
    "\n",
    "<div class=\"flex-row\">\n",
    "  <div class=\"col1\">\n",
    "\n",
    "- Gewisse *Attribute (Spalten)* können als *Schlüssel* markiert werden\n",
    "- Schlüssel sind meist *eindeutig (unique)* zuordenbar\n",
    "- Sie existieren in der Tabelle nur *einmal*\n",
    "- Man kann damit die *Zeile (Tupel) identifizieren*\n",
    "- Zeilennummern eignen sich nicht (können gelöscht werden)\n",
    "\n",
    "  </div>\n",
    "  <div class=\"col1\"> \n",
    "\n",
    "Schlüsseltypen:\n",
    "- *Einzelnes Attribut* oder *Menge von Attributen*\n",
    "- *Unique ID (UID)* - einzelnes Attribut\n",
    "- *Globally Unique IDs (GUID)* - global eindeutig\n",
    "- *UUID* (universally unique identifier) - ISO Standard\n",
    "\n",
    "  </div>\n",
    "</div>"
   ]
  },
  {
   "cell_type": "markdown",
   "metadata": {
    "editable": true,
    "slideshow": {
     "slide_type": "subslide"
    },
    "tags": [
     "remove-cell"
    ]
   },
   "source": [
    "## Schlüsselattribute - Beispiel\n",
    "\n",
    "**Gemeinden Tabelle**\n",
    "\n",
    "| GemeindeID | Name | Einwohner |\n",
    "|------------|------|-----------|\n",
    "| 1 | Dummerstorf | 7.329 |\n",
    "| 2 | Graal-Müritz | 4.278 |\n",
    "| 3 | Sanitz | 5.831 |\n",
    "\n",
    "<br/> Schlüssel: GemeindeID"
   ]
  },
  {
   "cell_type": "markdown",
   "metadata": {
    "editable": true,
    "slideshow": {
     "slide_type": "subslide"
    },
    "tags": [
     "remove-cell"
    ]
   },
   "source": [
    "## Verweise über Schlüssel\n",
    "\n",
    "<div class=\"flex-row\">\n",
    "  <div class=\"col1\">\n",
    "\n",
    "**Gemeinden Tabelle**\n",
    "\n",
    "| GemeindeID | Name | Einwohner |\n",
    "|---|--------------|-------|\n",
    "| 1 | Dummerstorf  | 7.329 |\n",
    "| 2 | Graal-Müritz | 4.278 |\n",
    "| 3 | Sanitz       | 5.831 |\n",
    "\n",
    "<br/> Primärschlüssel: GemeindeID\n",
    "\n",
    "  </div>\n",
    "  <div class=\"col1\"> \n",
    "\n",
    "**Bauwerke Tabelle**\n",
    "\n",
    "| BauwerksID | Bauwerkstyp | GemeindeID |\n",
    "|------------|-------------|------------|\n",
    "| 5000       | Tankstelle  | 2 |\n",
    "| 5001       | Hotel       | 1 |\n",
    "| 5002       | Kirche      | 2 |\n",
    "\n",
    "\n",
    "<br/> Fremdschlüssel: GemeindeID\n",
    "\n",
    "  </div>\n",
    "</div>"
   ]
  },
  {
   "cell_type": "markdown",
   "metadata": {
    "editable": true,
    "slideshow": {
     "slide_type": "subslide"
    },
    "tags": [
     "remove-cell"
    ]
   },
   "source": [
    "## Schlüsselkonzepte\n",
    "\n",
    "- Die *Schlüssel anderer Tabellen* kann man nutzen um auf Tupel in diesen zu verweisen\n",
    "- Die *eigenen Schlüssel* einer Tabelle heißen *Primärschlüssel* (Primary Key)\n",
    "- Die *Schlüssel anderer Tabellen* heißen *Fremdschlüssel* (Foreign Key)\n",
    "- Die *Tabellen werden über Schlüssel in Beziehung gesetzt*\n",
    "\n",
    "> Der Fremdschlüssel verweist auf den Primärschlüssel in der anderen Tabelle"
   ]
  },
  {
   "cell_type": "markdown",
   "metadata": {
    "editable": true,
    "slideshow": {
     "slide_type": "subslide"
    },
    "tags": [
     "remove-cell"
    ]
   },
   "source": [
    "## Die Rolle von Schlüsseln\n",
    "\n",
    "Schlüssel definieren sogenannte Integritätsbedingungen:\n",
    "\n",
    "<div class=\"flex-row\">\n",
    "  <div class=\"col1\">\n",
    "\n",
    "**Primärschlüssel**\n",
    "\n",
    "- Stehen für die *Integrität der einzelnen Tabelle*\n",
    "- *Lokale Integrität*\n",
    "\n",
    "  </div>\n",
    "  <div class=\"col1\"> \n",
    "\n",
    "**Fremdschlüssel**\n",
    "\n",
    "- Stehen für die *Integrität des gesamten Datenbanksystems*\n",
    "- *Globale Integrität*\n",
    "\n",
    "  </div>\n",
    "</div>"
   ]
  },
  {
   "cell_type": "markdown",
   "metadata": {
    "editable": true,
    "slideshow": {
     "slide_type": "slide"
    },
    "tags": [
     "remove-cell"
    ]
   },
   "source": [
    "## Lesson Learned\n",
    "\n",
    "<script>setSectionBackground('#66ccffff');</script>\n",
    "<div class=\"flex-row\">\n",
    "<div class=\"col2\">\n",
    "\n",
    "</div>\n",
    "<div class=\"col3\">\n",
    "    <figure class=\"mj-fig\">\n",
    "        <img src=\"images/10b_RelationaleDatenbanken/procrastbrain.png\" class=\"mj-fig-img\">\n",
    "        <figcaption class=\"mj-fig-cap\">\n",
    "            https://youtu.be/arj7oStGLkU\n",
    "        </figcaption>\n",
    "    </figure>\n",
    "  </div>\n",
    "</div>"
   ]
  },
  {
   "cell_type": "markdown",
   "metadata": {
    "slideshow": {
     "slide_type": "subslide"
    },
    "tags": [
     "remove-cell"
    ]
   },
   "source": [
    "## Lessons Learned - Prokrastination\n",
    "\n",
    "<script>setSectionBackground('#66ccffff');</script>\n",
    "\n",
    "<center>\n",
    "<figure class=\"vcent\">\n",
    "    <img src=\"images/10b_RelationaleDatenbanken/timing0.svg\" style=\" width: 90%; z-index: -1;\" alt=\"Lernkarten\">\n",
    "</figure>\n",
    "</center>\n",
    "\n",
    "- Etwas Prokrastination ist normal und oft Teil des Arbeitslebens (folgt aus Priotisierung)\n",
    "- Prokrastination ist sehr gefährlich, wenn wir den Aufwand falsch einschätzen und sich als grösser herausstellt als die verfügbare Zeit ist"
   ]
  },
  {
   "cell_type": "markdown",
   "metadata": {
    "editable": true,
    "slideshow": {
     "slide_type": "subslide"
    },
    "tags": [
     "remove-cell"
    ]
   },
   "source": [
    "## Lessons Learned - Zeitmanagement\n",
    "\n",
    "<script>setSectionBackground('#66ccffff');</script>\n",
    "\n",
    "<center>\n",
    "<figure class=\"vcent\">\n",
    "    <img src=\"images/10b_RelationaleDatenbanken/timing1.svg\" style=\" width: 90%; z-index: -1;\" alt=\"Lernkarten\">\n",
    "</figure>\n",
    "</center>"
   ]
  },
  {
   "cell_type": "markdown",
   "metadata": {
    "editable": true,
    "slideshow": {
     "slide_type": "skip"
    },
    "tags": []
   },
   "source": [
    "## Quiz\n",
    "\n",
    "\n",
    "```{quizdown}\n",
    "    ---\n",
    "    shuffleQuestions: true\n",
    "    shuffleAnswers: true\n",
    "    ---\n",
    "\n",
    "    ### Welche Python-Pakete werden zum Laden von CSV-Daten aus dem Internet verwendet?\n",
    "\n",
    "    - [x] `urllib` und `pandas`\n",
    "    - [ ] `requests` und `numpy`\n",
    "    - [ ] `json` und `matplotlib`\n",
    "    - [ ] `sqlite3` und `os`\n",
    "\n",
    "    ### Was ist SQL?\n",
    "    - [x] Eine Sprache zur Abfrage und Manipulation von Datenbanken\n",
    "    - [ ] Ein Programm zur Datenvisualisierung\n",
    "    - [ ] Eine Programmiersprache wie Python\n",
    "    - [ ] Ein Datenformat wie JSON\n",
    "\n",
    "    ### Was ist SQLite?\n",
    "\n",
    "    - [x] Eine lokale relationale Datenbank ohne Server\n",
    "    - [ ] Ein Cloud-Datenbank-Service\n",
    "    - [ ] Ein NoSQL-Datenbanksystem\n",
    "    - [ ] Ein Datenvisualisierungstool\n",
    "\n",
    "    ### Sortiere die folgenden Zeilen für das Speichern einer Pandas-Tabelle in SQLite:\n",
    "\n",
    "    ```python\n",
    "    import sqlite3\n",
    "    import pandas as pd\n",
    "    ```\n",
    "    1. `df = pd.DataFrame({'col1': [1, 2], 'col2': [3, 4]})`\n",
    "    2. `con = sqlite3.connect(\"test.sqlite\")`\n",
    "    3. `df.to_sql(\"tabelle\", con, if_exists=\"replace\")`\n",
    "\n",
    "    ### Welcher Fehler steckt in diesem Beispiel?\n",
    "\n",
    "    ```python\n",
    "    con = sqlite3.connect(\"test.sqlite\")\n",
    "    df.to_sql(\"tabelle\", con, if_exists=\"append\")\n",
    "    ```\n",
    "\n",
    "    - [ ] `sqlite3` ist nicht importiert\n",
    "    - [ ] Der Datenbankname ist zu kurz\n",
    "    - [x] Kein Fehler - der Code ist korrekt\n",
    "    - [ ] `to_sql` existiert nicht\n",
    "\n",
    "    ### Was macht der SQL-Befehl `SELECT * FROM baustellen;`?\n",
    "\n",
    "    - [ ] Löscht alle Daten aus der Tabelle\n",
    "    - [x] Gibt alle Spalten und Zeilen der Tabelle zurück\n",
    "    - [ ] Erstellt eine neue Tabelle\n",
    "    - [ ] Zählt die Zeilen in der Tabelle\n",
    "\n",
    "\n",
    "    ### Wie führt man einen SQL-Befehl in Python aus?\n",
    "\n",
    "    - [x] Mit `cur.execute(sql)` nach Erstellung eines Cursors\n",
    "    - [ ] Mit `con.run(sql)`\n",
    "    - [ ] Mit `sqlite3.query(sql)`\n",
    "    - [ ] Mit `pd.sql(sql)`\n",
    "\n",
    "\n",
    "    ### Sortiere die folgenden Zeilen für eine SQL-Abfrage:\n",
    "\n",
    "    ```python\n",
    "    con = sqlite3.connect(\"test.sqlite\")\n",
    "    ```\n",
    "\n",
    "    1. `cur = con.cursor()`\n",
    "    2. `sql = 'SELECT * FROM tabelle;'`\n",
    "    3. `for row in cur.execute(sql):`\n",
    "    4. `    print(row)`\n",
    "\n",
    "    ### Welcher SQL-Befehl filtert Baustellen mit Baubeginn ab 2023?\n",
    "\n",
    "    - [ ] `FILTER baubeginn >= '2023-01-01'`\n",
    "    - [x] `WHERE baubeginn >= '2023-01-01 00:00:00+01'`\n",
    "    - [ ] `IF baubeginn >= '2023-01-01'`\n",
    "    - [ ] `SELECT baubeginn >= '2023-01-01'`\n",
    "\n",
    "    ### Wie verknüpft man mehrere Bedingungen in SQL?\n",
    "\n",
    "    - [x] Mit `AND`, `OR`, `NOT`\n",
    "    - [ ] Mit `&&`, `||`, `!`\n",
    "    - [ ] Mit `+`, `-`, `*`\n",
    "    - [ ] Mit `COMBINE`, `MERGE`, `JOIN`\n",
    "\n",
    "\n",
    "    ### Welcher Fehler steckt in diesem SQL-Beispiel?\n",
    "\n",
    "    ```sql\n",
    "    SELECT * FROM baustellen\n",
    "    WHERE baubeginn = '2023-01-01' AND bauende = '2024-01-01'\n",
    "    ```\n",
    "\n",
    "    - [ ] `AND` ist nicht erlaubt\n",
    "    - [ ] Datumsformat ist falsch\n",
    "    - [x] Kein Fehler - der Code ist korrekt\n",
    "    - [ ] `WHERE` muss am Ende stehen\n",
    "\n",
    "\n",
    "    ### Was macht die SQL-Funktion `count(*)`?\n",
    "\n",
    "    - [ ] Summiert alle Werte\n",
    "    - [x] Zählt die Anzahl der Zeilen\n",
    "    - [ ] Findet den Maximalwert\n",
    "    - [ ] Berechnet den Durchschnitt\n",
    "\n",
    "\n",
    "    ### Welche Aggregatfunktionen gibt es in SQL?\n",
    "\n",
    "    - [x] `min()`, `max()`, `avg()`, `sum()`, `count()`\n",
    "    - [ ] `first()`, `last()`, `middle()`\n",
    "    - [ ] `add()`, `subtract()`, `multiply()`\n",
    "    - [ ] `top()`, `bottom()`, `center()`\n",
    "\n",
    "\n",
    "    ### Sortiere die folgenden Teile einer SQL-Aggregationsabfrage:\n",
    "\n",
    "    1. `SELECT sparte, count(*), avg(baudauer)`\n",
    "    2. `FROM baustellen`\n",
    "    3. `GROUP BY sparte`\n",
    "\n",
    "\n",
    "    ### Was macht `GROUP BY sparte` in einer SQL-Abfrage?\n",
    "\n",
    "    - [ ] Sortiert nach Sparte\n",
    "    - [x] Fasst Zeilen mit gleicher Sparte zusammen\n",
    "    - [ ] Filtert nach Sparte\n",
    "    - [ ] Löscht doppelte Sparten\n",
    "\n",
    "\n",
    "    ### Wie sortiert man Ergebnisse in SQL absteigend?\n",
    "\n",
    "    - [ ] `SORT BY spalte DOWN`\n",
    "    - [x] `ORDER BY spalte DESC`\n",
    "    - [ ] `ARRANGE BY spalte REVERSE`\n",
    "    - [ ] `DESCEND BY spalte`\n",
    "\n",
    "\n",
    "    ### Was bewirkt `LIMIT 3` in einer SQL-Abfrage?\n",
    "\n",
    "    - [ ] Begrenzt auf 3 Spalten\n",
    "    - [x] Gibt maximal 3 Ergebniszeilen zurück\n",
    "    - [ ] Sortiert die ersten 3 Einträge\n",
    "    - [ ] Filtert nach Werten kleiner 3\n",
    "\n",
    "\n",
    "    ### Welcher Fehler steckt in diesem SQL-Beispiel?\n",
    "\n",
    "    ```sql\n",
    "    SELECT sparte, count(*)\n",
    "    FROM baustellen\n",
    "    ORDER BY count(*)\n",
    "    GROUP BY sparte\n",
    "    ```\n",
    "\n",
    "    - [x] `ORDER BY` muss nach `GROUP BY` stehen\n",
    "    - [ ] `count(*)` kann nicht sortiert werden\n",
    "    - [ ] `GROUP BY` ist falsch positioniert\n",
    "    - [ ] Es fehlt ein `WHERE`\n",
    "\n",
    "\n",
    "    ### Was macht ein `JOIN` in SQL?\n",
    "\n",
    "    - [ ] Kombiniert Spalten einer Tabelle\n",
    "    - [x] Verknüpft Daten aus mehreren Tabellen\n",
    "    - [ ] Sortiert Tabellendaten\n",
    "    - [ ] Löscht doppelte Einträge\n",
    "\n",
    "\n",
    "    ### Warum verwendet man Tabellenpräfixe wie `b.spalte` bei JOINs?\n",
    "\n",
    "    - [ ] Zur Verschönerung des Codes\n",
    "    - [x] Zur eindeutigen Identifikation bei gleichnamigen Spalten\n",
    "    - [ ] Zur Beschleunigung der Abfrage\n",
    "    - [ ] Zur Fehlerbehandlung\n",
    "\n",
    "\n",
    "    ### Was macht `DISTINCT` in einer SQL-Abfrage?\n",
    "\n",
    "    - [ ] Sortiert die Ergebnisse\n",
    "    - [ ] Begrenzt die Anzahl der Ergebnisse\n",
    "    - [x] Entfernt doppelte Zeilen aus den Ergebnissen\n",
    "    - [ ] Verbindet mehrere Tabellen\n",
    "\n",
    "    ### Was ist der Unterschied zwischen INNER JOIN und LEFT JOIN?\n",
    "    - [x] INNER JOIN gibt nur übereinstimmende Zeilen zurück, LEFT JOIN alle Zeilen der linken Tabelle\n",
    "    - [ ] LEFT JOIN gibt nur übereinstimmende Zeilen zurück, INNER JOIN alle Zeilen der linken Tabelle\n",
    "    - [ ] Es gibt keinen Unterschied, beide sind gleich\n",
    "    - [ ] INNER JOIN ist schneller als LEFT JOIN\n",
    "\n",
    "\n",
    "    ### Sortiere die folgenden Teile einer JOIN-Abfrage:\n",
    "\n",
    "    1. `SELECT b.spalte1, a.spalte2`\n",
    "    2. `FROM baustellen AS b`\n",
    "    3. `JOIN adressenliste AS a`\n",
    "    4. `WHERE b.id = a.id`\n",
    "\n",
    "\n",
    "    ### Was ist der Unterschied zwischen verschiedenen JOIN-Typen?\n",
    "\n",
    "    - [x] Sie bestimmen, welche Zeilen bei fehlenden Übereinstimmungen zurückgegeben werden\n",
    "    - [ ] Sie beeinflussen die Geschwindigkeit der Abfrage\n",
    "    - [ ] Sie ändern die Sortierung der Ergebnisse\n",
    "    - [ ] Sie bestimmen die Anzahl der verknüpften Tabellen\n",
    "\n",
    "\n",
    "    ### Welcher Fehler steckt in diesem JOIN-Beispiel?\n",
    "\n",
    "    ```sql\n",
    "    SELECT * FROM baustellen\n",
    "    NATURAL JOIN adressenliste, gemeinden\n",
    "    ```\n",
    "\n",
    "    - [ ] `NATURAL JOIN` existiert nicht\n",
    "    - [ ] Zu viele Tabellen im JOIN\n",
    "    - [x] Potentielle Kreuzverknüpfung durch mehrere Tabellen ohne explizite Bedingungen\n",
    "    - [ ] Falsche Syntax bei `NATURAL JOIN`\n",
    "\n",
    "\n",
    "```"
   ]
  },
  {
   "cell_type": "markdown",
   "metadata": {
    "slideshow": {
     "slide_type": "slide"
    },
    "tags": [
     "remove-cell"
    ]
   },
   "source": [
    "<div class=\"vslide\">\n",
    "  <div class=\"vslide-title\">\n",
    "    <p style=\"font-family: Protomolecule; font-size: 2.3em; margin: 0px auto; text-align: center; width: 100%;\">fragen?</p>\n",
    "  </div>\n",
    "  <script>setSectionBackground('#000000', 'images/mj_questions.mp4');</script>\n",
    "</div>"
   ]
  }
 ],
 "metadata": {
  "kernelspec": {
   "display_name": "Python 3 (ipykernel)",
   "language": "python",
   "name": "python3"
  },
  "language_info": {
   "codemirror_mode": {
    "name": "ipython",
    "version": 3
   },
   "file_extension": ".py",
   "mimetype": "text/x-python",
   "name": "python",
   "nbconvert_exporter": "python",
   "pygments_lexer": "ipython3",
   "version": "3.12.10"
  },
  "rise": {
   "auto_select": "none",
   "center": false,
   "enable_chalkboard": true,
   "header": "<img src=\"images/pd_logo.svg\" class=\"header_title_logo\"><img src=\"images/ai4sc_logo_v2.svg\" class=\"header_ai4sc_logo\">",
   "scroll": true,
   "show_buttons_on_startup": false,
   "slideNumber": true,
   "theme": "white"
  }
 },
 "nbformat": 4,
 "nbformat_minor": 4
}