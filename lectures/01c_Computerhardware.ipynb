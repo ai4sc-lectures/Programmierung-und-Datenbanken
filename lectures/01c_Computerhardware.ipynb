{
 "cells": [
  {
   "cell_type": "markdown",
   "id": "9f425d98-ff8b-452a-aec5-69f93dde62d8",
   "metadata": {
    "editable": true,
    "slideshow": {
     "slide_type": "slide"
    },
    "tags": [
     "remove-cell"
    ]
   },
   "source": [
    "<div class=\"vslide\">\n",
    "  <div class=\"vslide-title\">\n",
    "    <p style=\"font-family: Protomolecule; font-size: 2.3em; line-height: 90%; margin: 0px auto; text-align: center; width: 100%;\"><span style=\"letter-spacing: .04rem;\">programmierung</span><br><span style=\"letter-spacing: .0rem;\">und datenbanken</span></p>\n",
    "<p class=\"author\" style=\"font-family: Protomolecule; margin: 0px auto;  text-align: center; width: 100%; font-size: 1.2em;\">Joern Ploennigs</p>\n",
    "<p class=\"subtitle\" style=\"font-family: Protomolecule; margin: 1em auto; text-align: center; width: 100%; font-size: 1.2em;\">Computerhardware</p>\n",
    "  </div>\n",
    "<script>\n",
    "  function setSectionBackground(c,v){\n",
    "    let e=document.currentScript.previousElementSibling;\n",
    "    while(e&&e.tagName!=='SECTION')e=e.parentElement;\n",
    "    if(e){\n",
    "      if(c)e.setAttribute('data-background-color',c);\n",
    "      if(v){\n",
    "        e.setAttribute('data-background-video',v);\n",
    "        e.setAttribute('data-background-video-loop','true');\n",
    "        e.setAttribute('data-background-video-muted','true');\n",
    "      }\n",
    "    }\n",
    "  }\n",
    "  setSectionBackground('#000000', 'images/01c_Computerhardware/mj_title.mp4');\n",
    "</script>\n",
    "<style>\n",
    ".flex-row{display:flex; gap:2rem; align-items:flex-start; justify-content:space-between;}\n",
    ".flex-row .col1{flex:1; min-width:10px}\n",
    ".flex-row .col2{flex:2; min-width:10px}\n",
    ".flex-row .col3{flex:3; min-width:10px}\n",
    ".flex-row .col4{flex:4; min-width:10px}\n",
    ".flex-row .col5{flex:5; min-width:10px}\n",
    ".flex-row .col6{flex:6; min-width:10px}\n",
    ".flex-row .col7{flex:7; min-width:10px}\n",
    ".vcent{display:flex; align-items:center; justify-content:center}\n",
    "</style>\n",
    "</div>"
   ]
  },
  {
   "cell_type": "markdown",
   "id": "948875af",
   "metadata": {
    "editable": true,
    "slideshow": {
     "slide_type": "skip"
    },
    "tags": []
   },
   "source": [
    "# Computerhardware"
   ]
  },
  {
   "cell_type": "markdown",
   "id": "9ae339a8-3e41-4515-a74a-c9d70fdc4186",
   "metadata": {
    "editable": true,
    "raw_mimetype": "",
    "slideshow": {
     "slide_type": "skip"
    },
    "tags": []
   },
   "source": [
    "![](images/01c_Computerhardware/mj_title_band.jpg)\n",
    "\n",
    "> Never trust a computer you can’t throw out a window.\n",
    "> \n",
    "> — Steve Wozniak"
   ]
  },
  {
   "cell_type": "markdown",
   "id": "554b63b9-c908-4a46-9157-6928f4cfbd28",
   "metadata": {
    "editable": true,
    "slideshow": {
     "slide_type": "skip"
    },
    "tags": []
   },
   "source": [
    "## <a href=\"/lec_slides/01c_Computerhardware.slides.html\">Folien</a>\n",
    "<iframe src=\"/lec_slides/01c_Computerhardware.slides.html\" width=\"750\" height=\"500\"></iframe>"
   ]
  },
  {
   "cell_type": "markdown",
   "id": "5f1c64ce",
   "metadata": {
    "editable": true,
    "slideshow": {
     "slide_type": "slide"
    },
    "tags": [
     "remove-cell"
    ]
   },
   "source": [
    "## Ablauf\n",
    "\n",
    "![](images/01c_Computerhardware/partA_2.svg) "
   ]
  },
  {
   "cell_type": "markdown",
   "id": "4a3d513a",
   "metadata": {
    "editable": true,
    "slideshow": {
     "slide_type": "slide"
    },
    "tags": []
   },
   "source": [
    "## Definition: Computer"
   ]
  },
  {
   "cell_type": "markdown",
   "id": "7f50ddc4-1b57-4302-b1d1-37b910d831e8",
   "metadata": {
    "editable": true,
    "slideshow": {
     "slide_type": ""
    },
    "tags": []
   },
   "source": [
    "Computer sind heutzutage allgegenwärtig und erfüllen in unserem Alltag viele Aufgaben. Sie sind formal definiert als"
   ]
  },
  {
   "cell_type": "markdown",
   "id": "17e51bff-6037-43c6-a6f6-d288f01fdc79",
   "metadata": {
    "editable": true,
    "slideshow": {
     "slide_type": ""
    },
    "tags": []
   },
   "source": [
    "\n",
    "<div class=\"alert alert-block alert-success\">\n",
    "<b>📘 Definition: Computer</b>\n",
    "\n",
    "Ein Computer ist ein Gerät, das mittels programmierbarer Rechenvorschriften Daten verarbeitet\n",
    "</div>"
   ]
  },
  {
   "cell_type": "markdown",
   "id": "4cc830bb-bcb9-43e1-89ed-bb985b7159d0",
   "metadata": {
    "editable": true,
    "slideshow": {
     "slide_type": "slide"
    },
    "tags": [
     "remove-cell"
    ]
   },
   "source": [
    "## Hörsaalfrage\n",
    "\n",
    "<script>setSectionBackground('#FFD966');</script>\n",
    "<div class=\"flex-row\">\n",
    "  <div class=\"col4 vcent\">\n",
    "\n",
    "Welche Computer-Arten gibt es?\n",
    "\n",
    "  </div>\n",
    "  <div class=\"col6\"> \n",
    "    <figure class=\"mj-fig\">\n",
    "        <img src=\"images/01c_Computerhardware/image_3.png\" class=\"mj-fig-img\">\n",
    "        <figcaption class=\"mj-fig-cap\">\n",
    "            Midjourney: A Mona Lisa-style painting with a goat taking a photo with an iPad\n",
    "        </figcaption>\n",
    "    </figure>\n",
    "  </div>\n",
    "</div>"
   ]
  },
  {
   "cell_type": "markdown",
   "id": "cc084f2b-1a94-4895-a4dd-dc3d7eedbe52",
   "metadata": {
    "editable": true,
    "slideshow": {
     "slide_type": "subslide"
    },
    "tags": [
     "remove-cell"
    ]
   },
   "source": [
    "## Computerarten"
   ]
  },
  {
   "cell_type": "markdown",
   "id": "67658447-7a0c-4e14-abd0-cf479584d630",
   "metadata": {
    "editable": true,
    "slideshow": {
     "slide_type": "skip"
    },
    "tags": []
   },
   "source": [
    "Computer kommen heutzutage fast überall vor. Es gibt viele verschiedene Arten von Computern, die auf unterschiedliche Anwendungen spezialisiert sind. Dennoch basieren alle auf den gleichen Hardwareaufbau."
   ]
  },
  {
   "cell_type": "markdown",
   "id": "f4480917-f337-4cff-95da-86059b7e1603",
   "metadata": {
    "editable": true,
    "raw_mimetype": "",
    "slideshow": {
     "slide_type": ""
    },
    "tags": []
   },
   "source": [
    "- Supercomputer – Spezielle Computer mit sehr vielen CPUs und GPUs zur hochparallelen Verarbeitung komplexer Probleme (z.B. Wettersimulation)\n",
    "- Mainframe – Spezielle Großrechner mit sehr hoher Zuverlässigkeit z.B. in Banken\n",
    "- Server – Computer in Rechenzentren ohne Bildschirm für das Internet oder Cloud-Computing\n",
    "- Personal Computer (PC) – Desktop Computer in Büros oder daheim für Arbeit, Spielen, etc.\n",
    "- Laptops – Mobile Computer unterwegs fürs arbeiten, spielen, studieren\n",
    "- Smartphones – Mobiler Rechner mit Touchscreen und wenig Telefonfunktion\n",
    "- Tablets – Mobiler Computer mit viel Touchscreen und ohne Telefonfunktion\n",
    "- Eingebettete Computer – kleine Rechner in Autos, Robotern und Smart-Homes "
   ]
  },
  {
   "cell_type": "markdown",
   "id": "bc0a5f5e-469d-4e98-904a-0d4891bd1b86",
   "metadata": {
    "editable": true,
    "slideshow": {
     "slide_type": "slide"
    },
    "tags": [
     "remove-cell"
    ]
   },
   "source": [
    "## Hörsaalfrage\n",
    "\n",
    "<script>setSectionBackground('#FFD966');</script>\n",
    "<div class=\"flex-row\">\n",
    "  <div class=\"col4 vcent\">\n",
    "\n",
    "Aus welcher Hardware besteht ein Computer? \n",
    " \n",
    "  </div>\n",
    "  <div class=\"col6\"> \n",
    "    <figure class=\"mj-fig\">\n",
    "        <img src=\"images/01c_Computerhardware/image_4.jpg\" class=\"mj-fig-img\">\n",
    "        <figcaption class=\"mj-fig-cap\">\n",
    "            DALL-E 2: Early designs of the iPhone by Leonardo da Vinci\n",
    "        </figcaption>\n",
    "    </figure>\n",
    "  </div>\n",
    "</div>"
   ]
  },
  {
   "cell_type": "markdown",
   "id": "e628851f-fb1d-4ee3-8328-f5e1f67d2bb1",
   "metadata": {
    "editable": true,
    "slideshow": {
     "slide_type": "subslide"
    },
    "tags": []
   },
   "source": [
    "## Computer Aufbau"
   ]
  },
  {
   "cell_type": "markdown",
   "id": "557c804d-0d14-49d4-8637-33bcf9aa0389",
   "metadata": {
    "editable": true,
    "slideshow": {
     "slide_type": ""
    },
    "tags": []
   },
   "source": [
    "<img src=\"images/01c_Computerhardware/computer_hardware.svg\" style=\"width: 60%; display: block; margin: 0 auto;\" alt=\"Image\">"
   ]
  },
  {
   "cell_type": "markdown",
   "id": "722f354d-85c3-40ca-9dff-96c3b2b3866c",
   "metadata": {
    "editable": true,
    "slideshow": {
     "slide_type": ""
    },
    "tags": []
   },
   "source": [
    "Die Kernmodule eines Computers sind:\n",
    "\n",
    "- die CPU als zentrale Recheneinheit, \n",
    "- die GPU für graphische Anwendungen, \n",
    "- der RAM als Arbeitsspeicher und \n",
    "- ein Harddrive (HDD) oder Solid State Drive (SSD)"
   ]
  },
  {
   "cell_type": "markdown",
   "id": "d8df5597-2472-494d-8d53-3c878506fe51",
   "metadata": {
    "editable": true,
    "slideshow": {
     "slide_type": "subslide"
    },
    "tags": [
     "remove-cell"
    ]
   },
   "source": [
    "## Computer Aufbau Speicherdauer"
   ]
  },
  {
   "cell_type": "markdown",
   "id": "ae601f17-c423-4ec4-ad07-3d7e3dffe6c3",
   "metadata": {
    "editable": true,
    "slideshow": {
     "slide_type": ""
    },
    "tags": [
     "remove-cell"
    ]
   },
   "source": [
    "<img src=\"images/01c_Computerhardware/computer_hardware2.svg\" style=\"width: 60%; display: block; margin: 0 auto;\" alt=\"Image\">"
   ]
  },
  {
   "cell_type": "markdown",
   "id": "2f241345-da31-4b2e-8048-df115fa3fb96",
   "metadata": {
    "editable": true,
    "slideshow": {
     "slide_type": ""
    },
    "tags": []
   },
   "source": [
    "Der Computer hat ähnliche Gedächtnisarten wie der Mensch:\n",
    "- CPU und GPU haben kleine Register und Cache Speicher (Ultra-Kurzzeitgedächtnis)\n",
    "- Der RAM ist ein volatiler Speicher, d.h. der Inhalt geht beim ausschalten verloren (Kurzzeitgedächtnis)\n",
    "- Die HDD/SSD ist ein permanenter Speicher, d.h. der Inhalt bleibt erhalten (Langzeitgedächtnis)"
   ]
  },
  {
   "cell_type": "markdown",
   "id": "89024374-0a3e-4677-9201-93ecc17a10c9",
   "metadata": {
    "editable": true,
    "jp-MarkdownHeadingCollapsed": true,
    "slideshow": {
     "slide_type": "skip"
    },
    "tags": []
   },
   "source": [
    "### Zentrale Verarbeitungseinheit CPU\n",
    "Die CPU (Central Processing Unit) ist die Recheneinheit des Computers und ist zuständig für die Ausführung von Anwendungen und von Berechnungen und Operationen zuständig. Sie bearbeitet eine Sequenz an Befehlen in Form eines Computerprogramms. Moderne CPUs bestehen aus wenigen Rechenkernen (2-32) mit sehr hoher Leistungsfähigkeit um komplexe Berechnungen sehr schnell auszuführen. Eine CPU besteht aus Millionen an Transistoren die nur wenige Nanometer (1000000nm=1cm) groß sind. Wenige Transistoren können nur eine einzelne logische Operation berechnen.\n",
    "\n",
    "### Grafikkarte GPU\n",
    "Die Grafikkarte GPU (Graphic Processing Unit) ist verantwortlich für die Verarbeitung von Grafiken (2D, 3D und Videos) und parallelen Berechnungen. In einigen Computern ist die GPU in die CPU integriert, während Gaming-Computer und Workstations oft separate, leistungsstarke Grafikkarten verwenden. Moderne GPUs bestehen aus tausenden sehr einfachen Recheneinheiten, die nur wenig Rechenleistung und Speicher haben, aber durch die Anzahl sehr viele parallele Berechnungen ausführen können im Gegensatz zur CPU.\n",
    "\n",
    "### Arbeitsspeicher RAM\n",
    "Der RAM (Random Access Memory) ist der temporäre Speicher, in dem Daten und Programme während des Betriebs geladen werden. Ein größerer RAM ermöglicht schnellere Leistung und Multitasking-Fähigkeiten.\n",
    "\n",
    "### Festspeicher HDD/SSD \n",
    "HDD und SSD (Hard Disk Drive / Solid State Drive) sind die dauerhaften Speicher des Computers, auf dem das Betriebssystem, Programme und Daten gespeichert werden. HDDs (Festplattenlaufwerke) speichern Daten auf rotierenden Scheiben, während SSDs (Solid-State-Laufwerke) Flash-Speicher verwenden und in der Regel schneller sind.\n",
    "\n",
    "### Mainboard mit dem Kommunikationsbus\n",
    "Das Mainboard ist die Hauptplatine des Computers, auf der CPU, RAM, GPU und andere Komponenten angeschlossen sind. Die Komponenten tauschen Informationen über ein Kommunikationsbus aus.\n"
   ]
  },
  {
   "cell_type": "markdown",
   "id": "1802de1e-e4df-4214-a5d4-6cf2ac2f6bce",
   "metadata": {
    "editable": true,
    "slideshow": {
     "slide_type": "slide"
    },
    "tags": [
     "remove-cell"
    ]
   },
   "source": [
    "## CPU – Central Processing Unit\n",
    "<div class=\"flex-row\">\n",
    "  <div class=\"col4\">\n",
    "    <ul><li>Die CPU ist die Recheneinheit des Computers um Daten zu verarbeiten</li>\n",
    "        <li>Sie bearbeitet eine Sequenz an Befehlen (Ein Programm)</li>\n",
    "        <br/>\n",
    "        <li>Eine CPU besteht aus Millionen an Transistoren die nur wenige Nanometer (1000000nm=1cm) groß sind</li>\n",
    "        <li>Wenige Transistoren können nur eine einzelne logische Operation berechnen</li>\n",
    "        <ul>\n",
    "  </div>\n",
    "  <div class=\"col6\"> \n",
    "    <figure class=\"mj-fig\">\n",
    "        <img src=\"images/01c_Computerhardware/image_5.jpg\" class=\"mj-fig-img\">\n",
    "        <figcaption class=\"mj-fig-cap\">\n",
    "            https://www.ial-fa.com/blog/wafer-lot-acceptance-to-mil-std-883\n",
    "        </figcaption>\n",
    "    </figure>\n",
    "  </div>\n",
    "</div>"
   ]
  },
  {
   "cell_type": "markdown",
   "id": "a7ff02da-6099-4341-a02e-5593c4608bab",
   "metadata": {
    "editable": true,
    "slideshow": {
     "slide_type": "slide"
    },
    "tags": [
     "remove-cell"
    ]
   },
   "source": [
    "## Binären Zahlen\n",
    "\n",
    "- Computer speichern, verarbeiten & kommunizieren Daten als binären Zahlen, weil Transistoren in einem Gatter nur logische Operationen ausführen können.\n",
    "- binarius – Zweifach, doppelt\n",
    "- Das kleinste mögliche (nützliche) System von Zeichen\n",
    "\n",
    "- Mögliche Repräsentationen von Binärcode:\n",
    "  - 0 / 1\n",
    "  - Falsch / Wahr\n",
    "  - Aus / An"
   ]
  },
  {
   "cell_type": "markdown",
   "id": "89bf1cbe",
   "metadata": {
    "editable": true,
    "slideshow": {
     "slide_type": "subslide"
    },
    "tags": [
     "remove-cell"
    ]
   },
   "source": [
    "## Achtung: Der Unterschied im Computer\n",
    "\n",
    "<div style=\"overflow: hidden;\">\n",
    "  <div style=\"float: left; width: 30%;\">\n",
    "\n",
    "Aufgrund der binären Darstellung werden übliche Einheitenvorsätze wie Kilo-, Mega-, etc. auf Basis von 1024 und nicht auf Basis von 1000 definiert\n",
    "\n",
    "  </div>\n",
    "  <div style=\"float: left; width: 70%;\">\n",
    "\n",
    "| Einheit      | Abkürzung | Dezimal Wert  | Binär (IEC)      | Abkürzung | Binär (Bytes)       |\n",
    "|--------------|-----------|---------------|------------------|-----------|---------------------|\n",
    "| Kilobyte     | kB        | 1.000         | Kibibyte         | KiB       | 1.024               |\n",
    "| Megabyte     | MB        | 1.000.000     | Mebibyte         | MiB       | 1.048.576           |\n",
    "| Gigabyte     | GB        | 1.000$^3$     | Gibibyte         | GiB       | 1.024$^3$           |\n",
    "| Terabyte     | TB        | 1.000$^4$     | Tebibyte         | TiB       | 1.024$^4$           |\n",
    "\n",
    "  </div>\n",
    "</div>"
   ]
  },
  {
   "cell_type": "markdown",
   "id": "f64b20f5",
   "metadata": {
    "editable": true,
    "slideshow": {
     "slide_type": "skip"
    },
    "tags": []
   },
   "source": [
    "## Binären Zahlen\n",
    "\n",
    "Computer speichern, verarbeiten und übertragen Daten in Form von binären Zahlen. Dies liegt daran, dass Transistoren in der CPU nur zwei Zustände unterscheiden können und somit ausschließlich logische Operationen ausführen. Das Wort „binär“ stammt vom lateinischen „binarius“ und bedeutet „zweifach“ oder „doppelt“. Das binäre System ist das kleinste sinnvolle Zahlensystem und verwendet nur zwei verschiedene Zeichen: 0 und 1. Diese beiden Werte können auf unterschiedliche Weise interpretiert werden, zum Beispiel als „aus“ und „an“, „falsch“ und „wahr“ oder einfach als die Zahlen 0 und 1. Durch die Kombination vieler solcher binärer Stellen (Bits) lassen sich komplexe Daten und Informationen im Computer darstellen und verarbeiten.\n",
    "\n",
    "<div class=\"alert alert-block alert-warning\">\n",
    "<b>⚠️ Achtung:</b> Aufgrund der binären Darstellung werden übliche Einheitenvorsätze wie Kilo-, Mega-, etc. auf Basis von 1024 und nicht auf Basis von 1000 definiert.\n",
    "\n",
    "| Einheit      | Abkürzung | Dezimal Wert  | Binär (IEC)      | Abkürzung | Binär (Bytes)       |\n",
    "|--------------|-----------|---------------|------------------|-----------|---------------------|\n",
    "| Kilobyte     | kB        | 1.000         | Kibibyte         | KiB       | 1.024               |\n",
    "| Megabyte     | MB        | 1.000.000     | Mebibyte         | MiB       | 1.048.576           |\n",
    "| Gigabyte     | GB        | 1.000$^3$     | Gibibyte         | GiB       | 1.024$^3$           |\n",
    "| Terabyte     | TB        | 1.000$^4$     | Tebibyte         | TiB       | 1.024$^4$           |\n",
    "\n",
    "</div>"
   ]
  },
  {
   "cell_type": "markdown",
   "id": "54ad57dc-6479-4ea6-b305-105cf4322c41",
   "metadata": {
    "editable": true,
    "slideshow": {
     "slide_type": "slide"
    },
    "tags": [
     "remove-cell"
    ]
   },
   "source": [
    "## Hörsaalfrage\n",
    "\n",
    "<script>setSectionBackground('#FFD966');</script>\n",
    "<div class=\"flex-row\">\n",
    "  <div class=\"col4 vcent\">\n",
    "\n",
    "***Wie Weit kann man mit 10 Fingern Zählen?***\n",
    "\n",
    "  </div>\n",
    "  <div class=\"col6\">\n",
    "    <figure class=\"mj-fig\">\n",
    "        <img src=\"images/01c_Computerhardware/image_6.png\" class=\"mj-fig-img\">\n",
    "        <figcaption class=\"mj-fig-cap\">\n",
    "            Midjourney: Counting with two hands\n",
    "        </figcaption>\n",
    "    </figure>\n",
    "  </div>\n",
    "</div>"
   ]
  },
  {
   "cell_type": "markdown",
   "id": "c9fc2091-b8be-4834-bfa9-13180b18b928",
   "metadata": {
    "editable": true,
    "slideshow": {
     "slide_type": "subslide"
    },
    "tags": [
     "remove-cell"
    ]
   },
   "source": [
    "## Binären Zahlen - Ganze Zahlen\n",
    "\n",
    "<div class=\"flex-row\">\n",
    "  <div class=\"col4 vcent\">\n",
    "\n",
    "- Unsere dezimalen Zahlen lassen sich als Binärzahlen codieren\n",
    "- Binärzahlen erlauben dieselben bekannten Grundrechenarten wie Dezimalzahlen also Addition, Subtraktion, Multiplikation und Division\n",
    "- So kann der Computer mit dezimalen Zahlen rechnen\n",
    "\n",
    "- Im Computer werden Zahlen auch oft hexagonal (Basis 16) codiert, da sich somit ein  Byte (8 Bits) in 2 Zeichen beschreiben lassen\n",
    "\n",
    "  </div>\n",
    "  <div class=\"col6\">\n",
    "\n",
    "| Dezimal | Binär      | Hexadezimal |\n",
    "|---------|------------|-------------|\n",
    "| 0       | 0000       | 0           |\n",
    "| 1       | 0001       | 1           |\n",
    "| 2       | 0010       | 2           |\n",
    "| 3       | 0011       | 3           |\n",
    "| 4       | 0100       | 4           |\n",
    "| 5       | 0101       | 5           |\n",
    "| 6       | 0110       | 6           |\n",
    "| 7       | 0111       | 7           |\n",
    "| 8       | 1000       | 8           |\n",
    "| 9       | 1001       | 9           |\n",
    "| 10      | 1010       | A           |\n",
    "| 11      | 1011       | B           |\n",
    "| 12      | 1100       | C           |\n",
    "| 13      | 1101       | D           |\n",
    "| 14      | 1110       | E           |\n",
    "| 15      | 1111       | F           |\n",
    "\n",
    "  </div>\n",
    "</div>"
   ]
  },
  {
   "cell_type": "markdown",
   "id": "29b59d48",
   "metadata": {
    "editable": true,
    "slideshow": {
     "slide_type": "skip"
    },
    "tags": []
   },
   "source": [
    "### Darstellung von ganzen Zahlen im Binärsystem\n",
    "\n",
    "Grundsätzlich werden ganze Zahlen im Computer in dem Binärsystem dargestellt. Hierfür wird das Dezimalsystem, das auf der Basis 10 beruht und die Ziffern 0 bis 9 verwendet, in das Binärsystem auf der Basis 2 mit den Ziffern 0 und 1 umgerechnet. Jede Stelle einer Binärzahl entspricht einer Potenz von 2, beginnend ganz rechts mit $2^0$. Um eine Dezimalzahl in eine Binärzahl umzuwandeln, wird die Zahl in Summen von Zweierpotenzen zerlegt.\n",
    "\n",
    "| Dezimal | Binär      | Hexadezimal |\n",
    "|---------|------------|-------------|\n",
    "| 0       | 0000       | 0           |\n",
    "| 1       | 0001       | 1           |\n",
    "| 2       | 0010       | 2           |\n",
    "| 3       | 0011       | 3           |\n",
    "| 4       | 0100       | 4           |\n",
    "| 5       | 0101       | 5           |\n",
    "| 6       | 0110       | 6           |\n",
    "| 7       | 0111       | 7           |\n",
    "| 8       | 1000       | 8           |\n",
    "| 9       | 1001       | 9           |\n",
    "| 10      | 1010       | A           |\n",
    "| 11      | 1011       | B           |\n",
    "| 12      | 1100       | C           |\n",
    "| 13      | 1101       | D           |\n",
    "| 14      | 1110       | E           |\n",
    "| 15      | 1111       | F           |\n",
    "\n",
    "**Beispiel:** Die Dezimalzahl 13 wird so binär dargestellt:\n",
    "- Zerlegung in Zweierpotenzen: \n",
    "  $13 = 8 + 4 + 1 = 2^3 + 2^2 + 2^0$\n",
    "- In Binärform wird dies als $1101$ geschrieben. Jede Stelle (von rechts nach links) steht für $2^0$, $2^1$, $2^2$, $2^3$, usw. Die Ziffer ist 1, wenn die jeweilige Potenz in der Zahl enthalten ist, sonst 0.\n",
    "- Man schreibt auch $13_{10} = 1101_2$, also 13 zur Basis 10 und 1101 zur Basis 2.\n",
    "\n",
    "\n",
    "So kann jede beliebige Zahl als Folge von Nullen und Einsen dargestellt werden. Computer speichern und verarbeiten Zahlen intern immer in dieser binären Form."
   ]
  },
  {
   "cell_type": "markdown",
   "id": "37e5fc12",
   "metadata": {
    "editable": true,
    "slideshow": {
     "slide_type": ""
    },
    "tags": [
     "remove-cell"
    ]
   },
   "source": [
    "## Binären Zahlen – Gleitkommazahl\n",
    "\n",
    "\n",
    "<div class=\"flex-row\">\n",
    "  <div class=\"col1\">\n",
    "\n",
    "\n",
    "- Reelle Zahlen können im Computer nicht exakt dargestellt werden, da sie unendlich viele Nachkommastellen haben können (z. B. $1/3$, $\\pi$)\n",
    "- Computer verwenden daher näherungsweise Gleitkommazahlen (floating point) in Exponentialschreibweise: $\\pm m \\times 2^e$\n",
    "\n",
    "- Zerlegung: Vorzeichenbit, Exponent (mit Bias), Mantisse (Binär)\n",
    "\n",
    "<div class=\"alert alert-block alert-warning\">\n",
    "<b>⚠️ Achtung:</b> Begrenzte Anzahl an Stellen → Rundungsfehler!\n",
    "</div>\n",
    "\n",
    "  </div>\n",
    "  <div class=\"col1\">\n",
    "\n",
    "**Beispiel:** Wir möchten die Zahl $-13,25$ als Gleitkommazahl im Format $\\pm m \\times 2^e$ darstellen:\n",
    "\n",
    "1. *Vorzeichen:* Die Zahl ist negativ, also $1$.\n",
    "2. *Dezimalzahl in Binärform:* $13,25_{10} = 1101,01_2$\n",
    "3. *Exponentialverschiebung:* $1101,01_2 = 1,10101_2 \\times 2^3$\n",
    "4. *Zerlegung* in Mantisse: $1,10101_2$ und Exponent: $3$\n",
    "5. *Ergebnis:* $-13,25 = -1,10101_2 \\times 2^3$\n",
    "\n",
    "Im IEEE 754 Standard werden die Bits zusätzlich aufgefüllt, so dass sie in die 32 oder 64 Bit passen.\n",
    "\n",
    "- Vorzeichenbit: $1$ (negativ)\n",
    "- Exponent mit Bias: $3 + 127 = 130_{10}$ ($10000010_2$)\n",
    "- Mantisse mit Nullen aufgefüllt: $10101000000000000000000$\n",
    "- Die Binärdarstellung im Speicher lautet also: `1 10000010 10101000000000000000000`\n",
    "\n",
    "  </div>\n",
    "</div>"
   ]
  },
  {
   "cell_type": "markdown",
   "id": "f3e17bed",
   "metadata": {
    "editable": true,
    "slideshow": {
     "slide_type": "skip"
    },
    "tags": []
   },
   "source": [
    "### Darstellung von reellen Zahlen im Binärsystem\n",
    "\n",
    "Reelle Zahlen können im Computer nicht exakt dargestellt werden, da sie oft viele und bis zu unendlich viele Nachkommastellen besitzen können (z. B. $1/3$, $\\pi$). Stattdessen verwendet der Computer eine angenäherte Darstellung, die sogenannte Gleitkommazahl (engl. *floating point number*). Diese basiert auf einer Exponentialschreibweise, ähnlich wie in der Mathematik:\n",
    "\n",
    "$$\n",
    "\\pm\\ m \\times 10^e\n",
    "$$\n",
    "\n",
    "wobei $m$ die Mantisse, $e$ der Exponent und das Vorzeichen $\\pm$ ist. Im Computer wird jedoch das Binärsystem verwendet, daher lautet die Darstellung:\n",
    "\n",
    "$$\n",
    "\\pm\\ m \\times 2^e\n",
    "$$\n",
    "\n",
    "Hierbei ist $m$ die Binärmantisse (zwischen 1 und 2), $e$ der Binärexponent. \n",
    "\n",
    "**Beispiel:** Wir möchten die Zahl $-13,25$ als Gleitkommazahl im Format $\\pm m \\times 2^e$ darstellen:\n",
    "\n",
    "1. *Vorzeichen:* Die Zahl ist negativ, also $1$.\n",
    "2. *Dezimalzahl in Binärform:* $13,25_{10} = 1101,01_2$\n",
    "3. *Exponentialverschiebung:* $1101,01_2 = 1,10101_2 \\times 2^3$\n",
    "4. *Zerlegung* in Mantisse: $1,10101_2$ und Exponent: $3$\n",
    "5. *Ergebnis:* $-13,25 = -1,10101_2 \\times 2^3$\n",
    "\n",
    "In der Praxis werden die Zahlen meist im standartisierten IEEE 754 Standard als 32-Bit-Gleitkommazahl (*float*) oder 64-Bit (*double*) gespeichert. Dabei werden die Bits zusätzlich aufgefüllt, so dass sie in die 32 oder 64 Bit passen. Dadurch ändert sich die Darstellung etwas:\n",
    "\n",
    "- Vorzeichenbit: $1$ (negativ)\n",
    "- Exponent mit Bias: $3 + 127 = 130_{10}$ ($10000010_2$)\n",
    "- Mantisse mit Nullen aufgefüllt: $10101000000000000000000$\n",
    "- Die Binärdarstellung im Speicher lautet also: `1 10000010 10101000000000000000000`\n",
    "\n",
    "So werden beliebige reelle Zahlen im Computer als Gleitkommazahlen nach IEEE 754 gespeichert.\n",
    "\n",
    "<div class=\"alert alert-block alert-warning\">\n",
    "<b>⚠️ Grenzen</b>\n",
    "\n",
    "Begrenzte Anzahl an Bits können nicht alle reellen Zahlen exakt dargestellt werden. Es kommt zu Rundungsfehlern und einer endlichen Genauigkeit.\n",
    "\n",
    "</div>"
   ]
  },
  {
   "cell_type": "markdown",
   "id": "289386e9-c004-4cd5-aba0-b4afd2e503d5",
   "metadata": {
    "editable": true,
    "slideshow": {
     "slide_type": "subslide"
    },
    "tags": [
     "remove-cell"
    ]
   },
   "source": [
    "## Abbildung von Zeichen im Computer\n",
    "\n",
    "<div class=\"flex-row\">\n",
    "  <div class=\"col3\">\n",
    "\n",
    "- Buchstaben in Texten werden im Computer binär codiert\n",
    "- ASCII: Textzeichen gespeichert in 8 Binärwerten (8 Bit = 1 Byte)\n",
    "- Binäre Codierung zieht sich vom niedrigsten Hardwarelevel bis hoch zur alltäglichen Anwendung\n",
    "\n",
    "  </div>\n",
    "    <div class=\"col7\">\n",
    "\n",
    "| Char | Dezimal | Binär      | Char | Dezimal | Binär      |  Char | Dezimal | Binär      |\n",
    "|----------------|---------|------------|---------------|---------|------------|------------------|---------|------------|\n",
    "| a              | 97      | 01100001   | A             | 65      | 01000001   | 0                | 48      | 00110000   |\n",
    "| b              | 98      | 01100010   | B             | 66      | 01000010   | 1                | 49      | 00110001   |\n",
    "| c              | 99      | 01100011   | C             | 67      | 01000011   | 2                | 50      | 00110010   |\n",
    "| d              | 100     | 01100100   | D             | 68      | 01000100   | 3                | 51      | 00110011   |\n",
    "| e              | 101     | 01100101   | E             | 69      | 01000101   | 4                | 52      | 00110100   |\n",
    "| f              | 102     | 01100110   | F             | 70      | 01000110   | 5                | 53      | 00110101   |\n",
    "| g              | 103     | 01100111   | G             | 71      | 01000111   | 6                | 54      | 00110110   |\n",
    "| h              | 104     | 01101000   | H             | 72      | 01001000   | 7                | 55      | 00110111   |\n",
    "| i              | 105     | 01101001   | I             | 73      | 01001001   | 8                | 56      | 00111000   |\n",
    "| j              | 106     | 01101010   | J             | 74      | 01001010   | 9                | 57      | 00111001   |\n",
    "| k              | 107     | 01101011   | K             | 75      | 01001011   | !                | 33      | 00100001   |\n",
    "| l              | 108     | 01101100   | L             | 76      | 01001100   | ?                | 63      | 00111111   |\n",
    "| m              | 109     | 01101101   | M             | 77      | 01001101   | .                | 46      | 00101110   |\n",
    "| n              | 110     | 01101110   | N             | 78      | 01001110   | ,                | 44      | 00101100   |\n",
    "| o              | 111     | 01101111   | O             | 79      | 01001111   | Space     | 32      | 00100000   |\n",
    " \n",
    "  </div>\n",
    "</div>"
   ]
  },
  {
   "cell_type": "markdown",
   "id": "78599e54",
   "metadata": {
    "editable": true,
    "slideshow": {
     "slide_type": "skip"
    },
    "tags": []
   },
   "source": [
    "### Abbildung von Zeichen im Computer\n",
    "\n",
    "Text wird im Computer als Folge von Zahlen gespeichert, die wiederum binär codiert sind. Jeder Buchstabe, jedes Satzzeichen und jedes andere Zeichen wird durch eine bestimmte Zahl dargestellt. Diese Zuordnung ist in sogenannten Zeichencodierungen wie ASCII oder Unicode festgelegt.\n",
    "\n",
    "| Kleinbuchstabe | Dezimal | Binär      | Großbuchstabe | Dezimal | Binär      |  Zahlen/Sonderz. | Dezimal | Binär      |\n",
    "|----------------|---------|------------|---------------|---------|------------|------------------|---------|------------|\n",
    "| a              | 97      | 01100001   | A             | 65      | 01000001   | 0                | 48      | 00110000   |\n",
    "| b              | 98      | 01100010   | B             | 66      | 01000010   | 1                | 49      | 00110001   |\n",
    "| c              | 99      | 01100011   | C             | 67      | 01000011   | 2                | 50      | 00110010   |\n",
    "| d              | 100     | 01100100   | D             | 68      | 01000100   | 3                | 51      | 00110011   |\n",
    "| e              | 101     | 01100101   | E             | 69      | 01000101   | 4                | 52      | 00110100   |\n",
    "| f              | 102     | 01100110   | F             | 70      | 01000110   | 5                | 53      | 00110101   |\n",
    "| g              | 103     | 01100111   | G             | 71      | 01000111   | 6                | 54      | 00110110   |\n",
    "| h              | 104     | 01101000   | H             | 72      | 01001000   | 7                | 55      | 00110111   |\n",
    "| i              | 105     | 01101001   | I             | 73      | 01001001   | 8                | 56      | 00111000   |\n",
    "| j              | 106     | 01101010   | J             | 74      | 01001010   | 9                | 57      | 00111001   |\n",
    "| k              | 107     | 01101011   | K             | 75      | 01001011   | !                | 33      | 00100001   |\n",
    "| l              | 108     | 01101100   | L             | 76      | 01001100   | ?                | 63      | 00111111   |\n",
    "| m              | 109     | 01101101   | M             | 77      | 01001101   | .                | 46      | 00101110   |\n",
    "| n              | 110     | 01101110   | N             | 78      | 01001110   | ,                | 44      | 00101100   |\n",
    "| o              | 111     | 01101111   | O             | 79      | 01001111   | (Leerstelle)     | 32      | 00100000   |\n",
    "\n",
    "Moderne Computer verwenden oft Unicode (z. B. UTF-8), um auch Zeichen aus anderen Sprachen und Sonderzeichen darstellen zu können. Auch hier werden die Zeichen in Zahlen übersetzt und dann binär gespeichert. So zieht sich die binäre Codierung von Zeichen durch alle Ebenen der Computertechnik, vom Speichern im RAM bis zur Darstellung in der GPU zur Anzeige auf dem Bildschirm."
   ]
  },
  {
   "cell_type": "markdown",
   "id": "a8cd78c5-d5fd-47d8-876e-526e89aba630",
   "metadata": {
    "editable": true,
    "slideshow": {
     "slide_type": "subslide"
    },
    "tags": [
     "remove-cell"
    ]
   },
   "source": [
    "## Abbildung von Bildern im Computer\n",
    "\n",
    "<div class=\"flex-row\">\n",
    "  <div class=\"col4 vcent\">\n",
    "\n",
    "- Bilder werden im Computer auch binär codiert\n",
    "\n",
    "- Hierbei wird ein Bild in Pixel eingeteilt (Auflösung)\n",
    "- Die Farbe in jedem Pixel wird dann als Zahl gespeichert,  z.B. True Color RGB (16,777,216 colour variations):\n",
    "  - Blau  – 0 … 256  (= 1 Byte)\n",
    "  - Grün – 0 … 256  (= 1 Byte)\n",
    "  - Rot    – 0 … 256  (= 1 Byte)\n",
    "\n",
    "- Die Zahlen werden dann binär codiert, z.B. als 24 Bit  (1 Byte = 8 Bit;    3 * 8 Bit = 24 Bit)\n",
    "\n",
    "  </div>\n",
    "    <div class=\"col6\">\n",
    "    <figure>\n",
    "      <img src=\"images/01c_Computerhardware/image_10.png\" style=\" height: 100%; z-index: -1;\" alt=\"Image\">\n",
    "      <figcaption>Mahmut Sinecen: Digital Image Processing with MATLAB, 2015</figcaption>\n",
    "    </figure>\n",
    "  </div>\n",
    "</div>"
   ]
  },
  {
   "cell_type": "markdown",
   "id": "d054d132",
   "metadata": {
    "editable": true,
    "slideshow": {
     "slide_type": "skip"
    },
    "tags": []
   },
   "source": [
    "### Abbildung von Bildern im Computer\n",
    "\n",
    "Bilder werden im Computer als eine Sammlung von kleinen Bildpunkten, sogenannten Pixeln, gespeichert. Jedes Pixel stellt einen winzigen Teil des Bildes dar und besitzt eine bestimmte Farbe. Um ein Bild digital zu speichern, wird das Bild zunächst in ein Raster aus Pixeln mit einer bestimmten Auflösung (z. B. 1920 × 1080 Pixel) unterteilt.\n",
    "\n",
    "![© Mahmut Sinecen: Digital Image Processing with MATLAB, 2015](images/01c_Computerhardware/image_10.png)\n",
    "\n",
    "Die Farbe jedes Pixels wird durch Zahlenwerte beschrieben. Bei Farbbildern wird häufig das RGB-Farbmodell verwendet, bei dem jede Farbe aus den drei Grundfarben Rot, Grün und Blau zusammengesetzt wird. Für jede dieser Farben wird ein Zahlenwert gespeichert, meist im Bereich von 0 bis 255 (das entspricht 1 Byte pro Farbkanal). Ein einzelnes Pixel benötigt somit 3 Byte (24 Bit), um alle Farbinformationen zu speichern.\n",
    "\n",
    "**Beispiel:** Ein Pixel mit den Werten Rot = 120, Grün = 200, Blau = 150 wird im Computer als drei Zahlen gespeichert. Diese Zahlen werden wiederum in Binärzahlen umgewandelt, z. B.  \n",
    "- 120 (Rot) → 01111000  \n",
    "- 200 (Grün) → 11001000  \n",
    "- 150 (Blau) → 10010110  \n",
    "\n",
    "Alle Pixel eines Bildes werden so als lange Folge von Binärzahlen im Speicher abgelegt. Dadurch kann der Computer das Bild rekonstruieren, anzeigen oder weiterverarbeiten."
   ]
  },
  {
   "cell_type": "markdown",
   "id": "3bc4c425-6550-4363-9a3f-e6472d30fb59",
   "metadata": {
    "editable": true,
    "slideshow": {
     "slide_type": "subslide"
    },
    "tags": [
     "remove-cell"
    ]
   },
   "source": [
    "## Achtung: Der Unterschied im Computer\n",
    "\n",
    "<div class=\"flex-row\">\n",
    "  <div class=\"col4\">\n",
    "\n",
    "Aufgrund der binären Darstellung werden übliche Einheitenvorsätze wie Kilo-, Mega-, etc. auf Basis von 1024 und nicht auf Basis von 1000 definiert\n",
    "\n",
    "  </div>\n",
    "    <div class=\"col6\">\n",
    "\n",
    "| Einheit      | Name Binär   | Dezimal (1000er)         | Ausgeschrieben Dezimal         | Binär (1024er)            | Ausgeschrieben Binär           |\n",
    "|--------------|--------------|-------------------------|-------------------------------|---------------------------|-------------------------------|\n",
    "| Kilobyte     | Kibibyte     | 1 KB = $10^3$ B          | 1.000 B                   | 1 KiB = $2^{10}$ B           | 1.024 B                   |\n",
    "| Megabyte     | Mebibyte     | 1 MB = $10^6$ B          | 1.000.000 B               | 1 MiB = $2^{20}$ B           | 1.048.576 B               |\n",
    "| Gigabyte     | Gibibyte     | 1 GB = $10^9$ B          | 1.000.000.000 B           | 1 GiB = $2^{30}$ B           | 1.073.741.824 B           |\n",
    "| Terabyte     | Tebibyte     | 1 TB = $10^{12}$ B         | 1.000.000.000.000 B       | 1 TiB = $2^{40}$ B           | 1.099.511.627.776 B       |\n",
    "\n",
    "\n",
    "  </div>\n",
    "</div>"
   ]
  },
  {
   "cell_type": "markdown",
   "id": "70af499f-6852-4026-b3e4-82047f07cf19",
   "metadata": {
    "editable": true,
    "slideshow": {
     "slide_type": "subslide"
    },
    "tags": [
     "remove-cell"
    ]
   },
   "source": [
    "## Daten Wachstum\n",
    "\n",
    "- Die Größe der erzeugten Daten wächst zunehmend\n",
    "- Sie werden in Zukunft vor sehr vielen Daten konfrontiert werden\n",
    "- Der Computer muss Ihnen helfen diese Daten zu analysieren durch Informatik\n",
    "\n",
    "<center>\n",
    "<figure class=\"vcent\">\n",
    "    <img src=\"images/01c_Computerhardware/image_13.png\" style=\" height: 100%; z-index: -1;\" alt=\"Image\">\n",
    "    <figcaption>Worldwide IDC Global DataSphere Forecast, 2022–2026</figcaption>\n",
    "</figure>\n",
    "</center>"
   ]
  },
  {
   "cell_type": "markdown",
   "id": "b38e499a-8149-4302-b9b7-2166245b2861",
   "metadata": {
    "editable": true,
    "jp-MarkdownHeadingCollapsed": true,
    "slideshow": {
     "slide_type": "slide"
    },
    "tags": [
     "remove-cell"
    ]
   },
   "source": [
    "## Hörsaalfrage\n",
    "\n",
    "<script>setSectionBackground('#FFD966');</script>\n",
    "<div class=\"flex-row\">\n",
    "  <div class=\"col4 vcent\">\n",
    "\n",
    "***Wie viele Sensoren hat ein Supermarkt?***\n",
    "\n",
    "  </div>\n",
    "  <div class=\"col6\"> \n",
    "    <figure class=\"mj-fig\">\n",
    "        <img src=\"images/01c_Computerhardware/image_15.jpg\" class=\"mj-fig-img\">\n",
    "        <figcaption class=\"mj-fig-cap\">\n",
    "            Midjourney: An alien supermarket filled with exotic food\n",
    "        </figcaption>\n",
    "    </figure>\n",
    "  </div>\n",
    "</div>"
   ]
  },
  {
   "cell_type": "markdown",
   "id": "335f0446-5ccf-4377-9cd0-47707875988c",
   "metadata": {
    "editable": true,
    "slideshow": {
     "slide_type": "subslide"
    },
    "tags": [
     "remove-cell"
    ]
   },
   "source": [
    "\n",
    "## Beispiel – Tesco Irland\n",
    "\n",
    "- Die Supermarktkette Tesco hat sehr früh in Sensoren und Monitoringsysteme der Supermärkte mit dem Ziel Energie einzusparen investiert \n",
    "- Die gesammelten Daten wurden so schnell so groß, dass niemand sie analysieren konnte\n",
    "- Durch maschinelle Lernmodelle konnte IBM Research die Daten analysieren und half Ihnen 20% des Kühlbedarfs einzusparen\n",
    "\n",
    "<center>\n",
    "<figure class=\"vcent\">\n",
    "    <img src=\"images/01c_Computerhardware/tesco.svg\" style=\" width: 90%; z-index: -1;\" alt=\"Tesco\">\n",
    "</figure>\n",
    "</center>\n"
   ]
  },
  {
   "cell_type": "markdown",
   "id": "52aa7aac",
   "metadata": {
    "editable": true,
    "slideshow": {
     "slide_type": "slide"
    },
    "tags": [
     "remove-cell"
    ]
   },
   "source": [
    "## Lessons Learned\n",
    "\n",
    "<script>setSectionBackground('#66ccffff');</script>\n",
    "<div class=\"flex-row\">\n",
    "  <div class=\"col4 vcent\">\n",
    "\n",
    "- „Lessons Learned“ sind kurze off-topic Themen, von denen ich wünschte irgendjemand hätte mir das als Student gesagt\n",
    "- Meist in der Mitte der Vorlesung um diese aufzulockern\n",
    "- Dieses Semester primär Softskill-Themen; Nächstes Semester Survival-Tipps fürs Berufsleben\n",
    "\n",
    "  </div>\n",
    "  <div class=\"col6\"> \n",
    "    <figure class=\"mj-fig\">\n",
    "        <img src=\"images/01c_Computerhardware/mj_teddy.png\" class=\"mj-fig-img\">\n",
    "        <figcaption class=\"mj-fig-cap\">\n",
    "            DALL-E 2: Teddy bears mixing sparkling chemicals as mad scientists, steampunk\n",
    "        </figcaption>\n",
    "    </figure>\n",
    "  </div>\n",
    "</div>\n"
   ]
  },
  {
   "cell_type": "markdown",
   "id": "b96e80f6",
   "metadata": {
    "editable": true,
    "slideshow": {
     "slide_type": "subslide"
    },
    "tags": [
     "remove-cell"
    ]
   },
   "source": [
    "## Lesson Learned\n",
    "\n",
    "<script>setSectionBackground('#66ccffff');</script>\n",
    "<div class=\"flex-row\">\n",
    "  <div class=\"col4 vcent\">\n",
    "\n",
    "Welche Gedächtnisarten kennen Sie?\n",
    "\n",
    "  </div>\n",
    "  <div class=\"col6\"> \n",
    "    <figure class=\"mj-fig\">\n",
    "        <img src=\"images/01c_Computerhardware/image_1.jpg\" class=\"mj-fig-img\">\n",
    "        <figcaption class=\"mj-fig-cap\">\n",
    "            DALL-E 2: 1980s illustration of a face with a visible brain that’s exploding\n",
    "        </figcaption>\n",
    "    </figure>\n",
    "  </div>\n",
    "</div>\n"
   ]
  },
  {
   "cell_type": "markdown",
   "id": "3c1a72f1",
   "metadata": {
    "editable": true,
    "slideshow": {
     "slide_type": "subslide"
    },
    "tags": [
     "remove-cell"
    ]
   },
   "source": [
    "## Lessons Learned - Gedächtnis\n",
    "\n",
    "<script>setSectionBackground('#66ccffff');</script>\n",
    "\n",
    "<center>\n",
    "<figure class=\"vcent\">\n",
    "    <img src=\"images/01c_Computerhardware/gedaechnis.svg\" style=\" width: 80%; z-index: -1;\" alt=\"Gedaechnisarten\">\n",
    "</figure>\n",
    "</center>\n",
    "\n",
    "- Wissen braucht Zeit sich zu verfestigen\n",
    "- Nutzen sie Ihr Unterbewusstsein, d. h. Informationen sammeln und reifen lassen\n",
    "- Intervalllernen ist, wie im Sport, der effektivste Weg etwas langfristig zu lernen\n"
   ]
  },
  {
   "cell_type": "markdown",
   "id": "92ed5b7f",
   "metadata": {
    "editable": true,
    "slideshow": {
     "slide_type": "skip"
    },
    "tags": []
   },
   "source": [
    "\n",
    "## Quiz\n",
    "```{quizdown}\n",
    "    ---\n",
    "    shuffleQuestions: true\n",
    "    shuffleAnswers: true\n",
    "    ---\n",
    "\n",
    "    ### Was ist ein Computer?\n",
    "    - [ ] Ein Gerät, das nur zur Anzeige von Informationen dient  \n",
    "    - [x] Ein Gerät, das mittels programmierbarer Rechenvorschriften Daten verarbeitet  \n",
    "    - [ ] Ein Speichermedium  \n",
    "    - [ ] Ein Peripheriegerät wie Drucker oder Scanner\n",
    "\n",
    "    ### Welche der folgenden Aussagen über Supercomputer ist korrekt?\n",
    "    - [x] Sie besitzen viele CPUs und GPUs zur parallelen Verarbeitung komplexer Aufgaben  \n",
    "    - [ ] Sie sind für den Heimgebrauch gedacht  \n",
    "    - [ ] Sie haben eine geringere Leistung als Laptops  \n",
    "    - [ ] Sie dienen ausschließlich der Textverarbeitung\n",
    "\n",
    "    ### Welche Aussage über Server ist korrekt?\n",
    "    - [ ] Server besitzen immer einen Bildschirm  \n",
    "    - [ ] Server sind nur für Gaming geeignet  \n",
    "    - [x] Server werden in Rechenzentren für Internet- und Cloud-Dienste eingesetzt  \n",
    "    - [ ] Server sind ausschließlich mobile Geräte\n",
    "\n",
    "    ### Welche dieser Geräte zählen zu den Personal Computern?\n",
    "    - [x] Desktop-Computer  \n",
    "    - [ ] Mainframes  \n",
    "    - [ ] Supercomputer  \n",
    "    - [ ] Smartphones \n",
    "    - [x] Laptops\n",
    "\n",
    "    ### Was zählt zu den Kernmodulen eines Computers?\n",
    "    - [x] CPU  \n",
    "    - [x] GPU  \n",
    "    - [x] RAM  \n",
    "    - [x] HDD oder SSD\n",
    "\n",
    "    ### Was ist der Unterschied zwischen RAM und SSD?\n",
    "    - [ ] RAM ist ein permanenter Speicher, SSD ein flüchtiger Speicher  \n",
    "    - [x] RAM ist ein flüchtiger Speicher, SSD ist ein permanenter Speicher  \n",
    "    - [ ] Beide sind gleich aufgebaut  \n",
    "    - [ ] RAM wird nur in Smartphones verwendet\n",
    "\n",
    "    ### Welche Aussagen zur CPU sind korrekt?\n",
    "    - [x] Führt Programme und Berechnungen aus  \n",
    "    - [x] Besteht aus Millionen von Transistoren  \n",
    "    - [ ] Ist nur für die Bildausgabe zuständig  \n",
    "    - [x] Hat oft mehrere Rechenkerne\n",
    "\n",
    "    ### Was beschreibt am besten die Funktion einer GPU?\n",
    "    - [x] Verarbeitung von 2D, 3D und Video-Grafiken  \n",
    "    - [ ] Steuerung von Netzwerken  \n",
    "    - [ ] Verwaltung von Benutzerdaten  \n",
    "    - [x] Durchführung paralleler Berechnungen mit vielen einfachen Kernen\n",
    "\n",
    "    ### Welcher dieser Speicher ist flüchtig und verliert seine Daten beim Ausschalten?\n",
    "    - [ ] SSD  \n",
    "    - [ ] HDD  \n",
    "    - [x] RAM  \n",
    "    - [x] Register\n",
    "\n",
    "    ### Warum arbeiten Computer mit binären Zahlen?\n",
    "    - [x] Weil Transistoren nur zwei Zustände unterscheiden können  \n",
    "    - [ ] Weil Dezimalzahlen zu unsicher sind  \n",
    "    - [ ] Weil binäre Zahlen leichter lesbar sind  \n",
    "    - [ ] Weil sie farblich besser kodiert werden können\n",
    "\n",
    "    ### Welche Zeichen verwendet das Binärsystem?\n",
    "    - [x] 0 und 1  \n",
    "    - [ ] 1 und 2  \n",
    "    - [ ] A und B  \n",
    "    - [ ] F und T\n",
    "\n",
    "    ### Was kann ein Bit im binären System darstellen?\n",
    "    - [x] An oder Aus  \n",
    "    - [x] Wahr oder Falsch  \n",
    "    - [x] 0 oder 1  \n",
    "    - [ ] 0 bis 9\n",
    "\n",
    "    ### Welche Basis hat das Binärsystem?\n",
    "    - [x] 2  \n",
    "    - [ ] 8  \n",
    "    - [ ] 10  \n",
    "    - [ ] 16\n",
    "\n",
    "    ### Wie wird ein Zeichen wie „A“ im Computer gespeichert?\n",
    "    - [ ] Als Farbe  \n",
    "    - [x] Als Zahl, die dann binär codiert wird  \n",
    "    - [ ] Als Bild  \n",
    "    - [ ] Direkt als Buchstabe\n",
    "\n",
    "    ### Was ist ein Pixel?\n",
    "    - [x] Der kleinste Bildpunkt eines digitalen Bildes  \n",
    "    - [ ] Ein Farbmodell  \n",
    "    - [ ] Ein Softwarefilter  \n",
    "    - [ ] Eine Dateiendung\n",
    "\n",
    "    ### Wie wird die Farbe eines Pixels im RGB-Modell gespeichert?\n",
    "    - [ ] Als eine Zahl zwischen 0 und 10  \n",
    "    - [x] Als drei Zahlen für Rot, Grün und Blau im Bereich 0–255  \n",
    "    - [ ] Als Buchstaben „R“, „G“ und „B“  \n",
    "    - [ ] Nur als Graustufe zwischen 0 und 1\n",
    "\n",
    "    ### Warum können reelle Zahlen nicht exakt im Computer dargestellt werden?\n",
    "    - [x] Weil sie unendlich viele Nachkommastellen haben können  \n",
    "    - [x] Weil der Speicherplatz im Computer begrenzt ist  \n",
    "    - [ ] Weil sie keine Binärdarstellung besitzen  \n",
    "    - [ ] Weil Gleitkommazahlen nur ganze Zahlen speichern\n",
    "\n",
    "    ### Wie lautet die allgemeine Form der Gleitkommazahl im Computer?\n",
    "    - [ ] ± m × 10^e  \n",
    "    - [x] ± m × 2^e  \n",
    "    - [ ] ± e × 2^m  \n",
    "    - [ ] ± m × e^2\n",
    "\n",
    "    ### Was ist eine Gleitkommazahl?\n",
    "    - [x] Eine Zahl in der Form: Vorzeichen × Mantisse × 2^Exponent  \n",
    "    - [ ] Eine feste ganze Zahl  \n",
    "    - [ ] Eine Zahl mit nur zwei Nachkommastellen  \n",
    "    - [ ] Eine Zahl, die nur für Grafiken verwendet wird\n",
    "\n",
    "    ### Wozu braucht man den Exponenten bei Gleitkommazahlen?\n",
    "    - [x] Um Zahlen sehr groß oder sehr klein darstellen zu können  \n",
    "    - [ ] Um Farben im Bild zu codieren  \n",
    "    - [ ] Um Rechenzeit zu sparen  \n",
    "\n",
    "    ### Was bedeutet IEEE 754?\n",
    "    - [x] Ein Standard zur Speicherung von Gleitkommazahlen  \n",
    "    - [ ] Eine Programmiersprache  \n",
    "    - [ ] Eine Methode zur Speicherung von Bildern  \n",
    "    - [ ] Ein Internetprotokoll\n",
    "\n",
    "    ### Wie merkt sich der Computer das Vorzeichen bei einer Gleitkommazahl?\n",
    "    - [x] Mit einem einzelnen Bit (0 = positiv, 1 = negativ)  \n",
    "    - [ ] Mit einem Kommazeichen  \n",
    "    - [ ] Mit einem Sonderzeichen wie „-”  \n",
    "    - [ ] Er erkennt das automatisch\n",
    "```"
   ]
  },
  {
   "cell_type": "markdown",
   "id": "6b32d9cb",
   "metadata": {
    "editable": true,
    "slideshow": {
     "slide_type": "slide"
    },
    "tags": [
     "remove-cell"
    ]
   },
   "source": [
    "<div class=\"vslide\">\n",
    "  <div class=\"vslide-title\">\n",
    "    <p style=\"font-family: Protomolecule; font-size: 2.3em; margin: 0px auto; text-align: center; width: 100%;\">fragen?</p>\n",
    "  </div>\n",
    "  <script>setSectionBackground('#000000', 'images/01c_Computerhardware/mj_questions.mp4');</script>\n",
    "</div>"
   ]
  }
 ],
 "metadata": {
  "kernelspec": {
   "display_name": "Python 3 (ipykernel)",
   "language": "python",
   "name": "python3"
  },
  "language_info": {
   "codemirror_mode": {
    "name": "ipython",
    "version": 3
   },
   "file_extension": ".py",
   "mimetype": "text/x-python",
   "name": "python",
   "nbconvert_exporter": "python",
   "pygments_lexer": "ipython3",
   "version": "3.12.10"
  },
  "rise": {
   "auto_select": "none",
   "center": false,
   "enable_chalkboard": true,
   "footer": "<img src=\"images/pd_logo.svg\" class=\"header_title_logo\"><img src=\"images/ai4sc_logo_v2.svg\" class=\"header_ai4sc_logo\">",
   "logo": "images/ai4sc_logo_v2.svg",
   "scroll": true,
   "show_buttons_on_startup": false,
   "slideNumber": true,
   "theme": "white"
  }
 },
 "nbformat": 4,
 "nbformat_minor": 5
}
