{
 "cells": [
  {
   "cell_type": "markdown",
   "id": "9f425d98-ff8b-452a-aec5-69f93dde62d8",
   "metadata": {
    "editable": true,
    "slideshow": {
     "slide_type": "slide"
    },
    "tags": [
     "remove-cell"
    ]
   },
   "source": [
    "<div style=\"position: relative; height: 100vh; overflow: hidden;\">\n",
    "  <div style=\"position: relative; z-index: 1; color: black; padding: 2em; background-color: rgba(255, 255, 255, 0.6);\">\n",
    "    <p style=\"font-family: Protomolecule; font-size: 2.3em; line-height: 90%; margin: 0 auto; text-align: center; width: 100%;\"><span style=\"letter-spacing: .04rem;\">programmierung</span><br><span style=\"letter-spacing: .0rem;\">und datenbanken</span></p>\n",
    "<p class=\"author\" style=\"font-family: Protomolecule; margin: 0px auto;  text-align: center; width: 100%; font-size: 1.2em;\">Joern Ploennigs</p>\n",
    "<p class=\"subtitle\" style=\"font-family: Protomolecule; font-size: larger; margin: 1em auto; text-align: center; width: 100%; font-size: 1.2em;\">Computerhardware</p>\n",
    "  </div>\n",
    "    <video autoplay muted loop playsinline\n",
    "         style=\"position: absolute; top: 0; left: 0; min-width: 100%; min-height: 100%; object-fit: cover; z-index: -1;\">\n",
    "    <source src=\"images/01c_Computerhardware/mj_title.mp4\" type=\"video/mp4\">\n",
    "    Your browser does not support the video tag.\n",
    "  </video>\n",
    "</div>"
   ]
  },
  {
   "cell_type": "markdown",
   "id": "948875af",
   "metadata": {
    "editable": true,
    "slideshow": {
     "slide_type": "skip"
    },
    "tags": []
   },
   "source": [
    "# Computerhardware"
   ]
  },
  {
   "cell_type": "markdown",
   "id": "9ae339a8-3e41-4515-a74a-c9d70fdc4186",
   "metadata": {
    "editable": true,
    "raw_mimetype": "",
    "slideshow": {
     "slide_type": "skip"
    },
    "tags": []
   },
   "source": [
    "![](images/01d_Programmiersprachen/mj_title.png)\n",
    "> Never trust a computer you can’t throw out a window.\n",
    "> \n",
    "> — Steve Wozniak"
   ]
  },
  {
   "cell_type": "markdown",
   "id": "554b63b9-c908-4a46-9157-6928f4cfbd28",
   "metadata": {
    "editable": true,
    "slideshow": {
     "slide_type": "skip"
    },
    "tags": []
   },
   "source": [
    "## <a href=\"/lec_slides/01c_Computerhardware.slides.html\">Folien</a>\n",
    "<iframe src=\"/lec_slides/01c_Computerhardware.slides.html\" width=\"750\" height=\"500\"></iframe>"
   ]
  },
  {
   "cell_type": "markdown",
   "id": "5f1c64ce",
   "metadata": {
    "editable": true,
    "slideshow": {
     "slide_type": "slide"
    },
    "tags": [
     "remove-cell"
    ]
   },
   "source": [
    "## Ablauf\n",
    "\n",
    "![](images/partA_2.svg)"
   ]
  },
  {
   "cell_type": "markdown",
   "id": "4a3d513a",
   "metadata": {
    "editable": true,
    "slideshow": {
     "slide_type": "slide"
    },
    "tags": [
     "remove-cell"
    ]
   },
   "source": [
    "## Definition: Computer\n",
    "\n",
    "<div class=\"alert alert-block alert-success\">\n",
    "<b>📘 Definition: Computer</b>\n",
    "\n",
    "Ein Computer ist ein Gerät, das mittels programmierbarer Rechenvorschriften Daten verarbeitet\n",
    "</div>"
   ]
  },
  {
   "cell_type": "markdown",
   "id": "43c6ada3-4cb9-4f5b-b0b8-c5af3ec5adc5",
   "metadata": {
    "editable": true,
    "slideshow": {
     "slide_type": "slide"
    },
    "tags": [
     "remove-cell"
    ]
   },
   "source": [
    "<div style=\"position: absolute;top:-10%;left:-10%;width: 120%;height: 120%;background-color: #FFD966;z-index: -2;\"></div>\n",
    "\n",
    "<div style=\"float:right;width:60%;height: 100%;\">\n",
    "<img src=\"images/01c_Computerhardware/image_3.png\" style=\"top: 0px;position: fixed;width: max(60vw, 100vh);height: max(60vw, 100vh);z-index: -1;\" alt=\"Image\">\n",
    "<div style=\"position:fixed;background-color:rgba(255, 255, 255, 0.5);font-size:small !important;padding:4px;right:0px;top:20px;z-index:1;font-family:'IBM Plex Sans', sans-serif !important;font-weight:lighter\">© Midjourney: A Mona Lisa-style painting with a goat taking a photo with an iPad</div>\n",
    "</div>\n",
    "\n",
    "## Hörsaalfrage\n",
    "\n",
    "***Welche Computer-Arten gibt es?***"
   ]
  },
  {
   "cell_type": "markdown",
   "id": "4cc830bb-bcb9-43e1-89ed-bb985b7159d0",
   "metadata": {
    "editable": true,
    "slideshow": {
     "slide_type": "slide"
    },
    "tags": []
   },
   "source": [
    "<div style=\"position: absolute;top:-10%;left:-10%;width: 120%;height: 120%;background-color: #FFD966;z-index: -2;\"></div>\n",
    "\n",
    "<div style=\"overflow: hidden;\">\n",
    "  <div style=\"float: left; width: 30%; text-align: center;\">\n",
    "\n",
    "## Hörsaalfrage\n",
    "\n",
    "**Welche Computer-Arten gibt es?**\n",
    "\n",
    "  </div>\n",
    "  <div style=\"float: right; width: 60%;\">\n",
    "    <img src=\"images/01c_Computerhardware/image_3.png\" style=\"max-width: max(60vw, 100vh);max-height: max(60vw, 100vh);z-index: -1;\">\n",
    "    <div style=\"margin-top:-64px;background-color:rgba(255, 255, 255, 0.5);font-size:small !important;padding:4px;right:0px;z-index:1;font-family:'IBM Plex Sans', sans-serif !important;font-weight:lighter\">© Midjourney: A Mona Lisa-style painting with a goat taking a photo with an iPad</div>\n",
    "  </div>\n",
    "</div>"
   ]
  },
  {
   "cell_type": "markdown",
   "id": "3c4319e1-2546-418d-aff9-46d08163f6cf",
   "metadata": {
    "editable": true,
    "jp-MarkdownHeadingCollapsed": true,
    "slideshow": {
     "slide_type": "slide"
    },
    "tags": []
   },
   "source": [
    "## Hörsaalfrage\n",
    "\n",
    "<div style=\"display: flex; align-items: flex-start;\">\n",
    "  <div style=\"flex: 1; padding-right: 20px;\">\n",
    "\n",
    "**Welche Computer-Arten gibt es?**\n",
    "\n",
    "Programming is the process of creating instructions for computers to execute. Key concepts include:\n",
    "\n",
    "- **Variables**: Storage containers for data\n",
    "- **Functions**: Reusable blocks of code\n",
    "- **Control Flow**: Decision-making in programs\n",
    "\n",
    "  </div>\n",
    "  <div style=\"flex: 1;\">\n",
    "    \n",
    "![Programming Flowchart](images/01c_Computerhardware/image_3.png)\n",
    "    \n",
    "  </div>\n",
    "</div>"
   ]
  },
  {
   "cell_type": "markdown",
   "id": "cc084f2b-1a94-4895-a4dd-dc3d7eedbe52",
   "metadata": {
    "editable": true,
    "slideshow": {
     "slide_type": "subslide"
    },
    "tags": []
   },
   "source": [
    "## Computerarten\n",
    "\n",
    "- Supercomputer – Spezielle Computer mit sehr vielen CPUs und GPUs zur hochparallelen Verarbeitung komplexer Probleme (z. B. Wettersimulation)\n",
    "- Mainframe – Spezielle Großrechner mit sehr hoher Zuverlässigkeit z. B. in Banken\n",
    "- Server – Computer in Rechenzentren ohne Bildschirm für das Internet oder Cloud-Computing\n",
    "- Personal Computer (PC) – Desktop Computer in Büros oder daheim für Arbeit, Spielen, etc.\n",
    "- Laptops – Mobile Computer unterwegs fürs arbeiten, spielen, studieren\n",
    "- Smartphones – Mobiler Rechner mit Touchscreen und wenig Telefonfunktion\n",
    "- Tablets – Mobiler Computer mit viel Touchscreen und ohne Telefonfunktion\n",
    "- Eingebettete Computer – kleine Rechner in Autos, Robotern und Smart-Homes"
   ]
  },
  {
   "cell_type": "markdown",
   "id": "bc0a5f5e-469d-4e98-904a-0d4891bd1b86",
   "metadata": {
    "editable": true,
    "slideshow": {
     "slide_type": "slide"
    },
    "tags": [
     "remove-cell"
    ]
   },
   "source": [
    "## Hörsaalfrage\n",
    "\n",
    "<div style=\"float:right;width:60%;height: 100%;\">\n",
    "<img src=\"images/01c_Computerhardware/image_4.jpg\" style=\"top: 0px;position: fixed;width: max(60vw, 100vh);height: max(60vw, 100vh);z-index: -1;\" alt=\"Image\">\n",
    "<div style=\"position:fixed;background-color:rgba(255, 255, 255, 0.5);font-size:small !important;padding:4px;right:0px;top:20px;z-index:1;font-family:'IBM Plex Sans', sans-serif !important;font-weight:lighter\">© DALL-E 2: Early designs of the iPhone by Leonardo da Vinci</div>\n",
    "</div>\n",
    "\n",
    "***Aus welcher Hardware besteht ein Computer?***"
   ]
  },
  {
   "cell_type": "markdown",
   "id": "e628851f-fb1d-4ee3-8328-f5e1f67d2bb1",
   "metadata": {
    "editable": true,
    "slideshow": {
     "slide_type": "subslide"
    },
    "tags": []
   },
   "source": [
    "## Computer Aufbau"
   ]
  },
  {
   "cell_type": "markdown",
   "id": "557c804d-0d14-49d4-8637-33bcf9aa0389",
   "metadata": {
    "editable": true,
    "slideshow": {
     "slide_type": ""
    },
    "tags": []
   },
   "source": [
    "![Computeraufbau](images/01c_Computerhardware/computer_hardware.svg)"
   ]
  },
  {
   "cell_type": "markdown",
   "id": "722f354d-85c3-40ca-9dff-96c3b2b3866c",
   "metadata": {
    "editable": true,
    "slideshow": {
     "slide_type": ""
    },
    "tags": []
   },
   "source": [
    "Die Kernmodule eines Computers sind:\n",
    "\n",
    "- die CPU als zentrale Recheneinheit, \n",
    "- die GPU für graphische Anwendungen, \n",
    "- der RAM als Arbeitsspeicher und \n",
    "- ein Harddrive (HDD) oder Solid State Drive (SSD)"
   ]
  },
  {
   "cell_type": "markdown",
   "id": "89024374-0a3e-4677-9201-93ecc17a10c9",
   "metadata": {
    "editable": true,
    "jp-MarkdownHeadingCollapsed": true,
    "slideshow": {
     "slide_type": "skip"
    },
    "tags": []
   },
   "source": [
    "## Zentrale Verarbeitungseinheit CPU\n",
    "Die CPU (Central Processing Unit) ist die Recheneinheit des Computers und ist zuständig für die Ausführung von Anwendungen und von Berechnungen und Operationen zuständig. Sie bearbeitet eine Sequenz an Befehlen in Form eines Computerprogramms. Moderne CPUs bestehen aus wenigen Rechenkernen (2-32) mit sehr hoher Leistungsfähigkeit um komplexe Berechnungen sehr schnell auszuführen. Eine CPU besteht aus Millionen an Transistoren die nur wenige Nanometer (1000000nm=1cm) groß sind. Wenige Transistoren können nur eine einzelne logische Operation berechnen.\n",
    "\n",
    "## Grafikkarte GPU\n",
    "Die Grafikkarte GPU (Graphic Processing Unit) ist verantwortlich für die Verarbeitung von Grafiken (2D, 3D und Videos) und parallelen Berechnungen. In einigen Computern ist die GPU in die CPU integriert, während Gaming-Computer und Workstations oft separate, leistungsstarke Grafikkarten verwenden. Moderne GPUs bestehen aus tausenden sehr einfachen Recheneinheiten, die nur wenig Rechenleistung und Speicher haben, aber durch die Anzahl sehr viele parallele Berechnungen ausführen können im Gegensatz zur CPU.\n",
    "\n",
    "## Arbeitsspeicher RAM\n",
    "Der RAM (Random Access Memory) ist der temporäre Speicher, in dem Daten und Programme während des Betriebs geladen werden. Ein größerer RAM ermöglicht schnellere Leistung und Multitasking-Fähigkeiten.\n",
    "\n",
    "## Festspeicher HDD/SSD \n",
    "HDD und SSD (Hard Disk Drive / Solid State Drive) sind die dauerhaften Speicher des Computers, auf dem das Betriebssystem, Programme und Daten gespeichert werden. HDDs (Festplattenlaufwerke) speichern Daten auf rotierenden Scheiben, während SSDs (Solid-State-Laufwerke) Flash-Speicher verwenden und in der Regel schneller sind.\n",
    "\n",
    "## Mainboard mit dem Kommunikationsbus\n",
    "Das Mainboard ist die Hauptplatine des Computers, auf der CPU, RAM, GPU und andere Komponenten angeschlossen sind. Die Komponenten tauschen Informationen über ein Kommunikationsbus aus.\n"
   ]
  },
  {
   "cell_type": "markdown",
   "id": "bffdb35b-819b-4dc0-9789-471416511d51",
   "metadata": {
    "editable": true,
    "slideshow": {
     "slide_type": "subslide"
    },
    "tags": []
   },
   "source": [
    "## Computer Aufbau Speicherdauer"
   ]
  },
  {
   "cell_type": "markdown",
   "id": "9753a580-51a9-46c2-a0dc-d2cdf050709a",
   "metadata": {
    "editable": true,
    "slideshow": {
     "slide_type": ""
    },
    "tags": []
   },
   "source": [
    "![Computeraufbau](images/01c_Computerhardware/computer_hardware2.svg)"
   ]
  },
  {
   "cell_type": "markdown",
   "id": "763cfe05-ebd7-48a0-b72d-a158107ebf13",
   "metadata": {
    "editable": true,
    "slideshow": {
     "slide_type": ""
    },
    "tags": []
   },
   "source": [
    "Der Computer hat ähnliche Gedächtnisarten wie der Mensch:\n",
    "- CPU und GPU haben kleine Register und Cache Speicher (Ultra-Kurzzeitgedächtnis)\n",
    "- Der RAM ist ein volatiler Speicher, d.h. der Inhalt geht beim ausschalten verloren (Kurzzeitgedächtnis)\n",
    "- Die HDD/SSD ist ein permanenter Speicher, d.h. der Inhalt bleibt erhalten (Langzeitgedächtnis)"
   ]
  },
  {
   "cell_type": "markdown",
   "id": "4d1cb0c9-10d4-4ccc-98de-395970a2e87f",
   "metadata": {
    "editable": true,
    "slideshow": {
     "slide_type": "slide"
    },
    "tags": []
   },
   "source": [
    "## CPU – Central Processing Unit\n",
    "<div style=\"float:right;width:60%;height: 100%;\">\n",
    "<img src=\"images/01c_Computerhardware/image_5.jpg\" style=\"top: 0px;position: fixed;width: max(60vw, 100vh);height: max(60vw, 100vh);z-index: -1;\" alt=\"Image\">\n",
    "<div style=\"position:fixed;background-color:rgba(255, 255, 255, 0.5);font-size:small !important;padding:4px;right:0px;top:20px;z-index:1;font-family:'IBM Plex Sans', sans-serif !important;font-weight:lighter\">© https://www.ial-fa.com/blog/wafer-lot-acceptance-to-mil-std-883</div>\n",
    "</div>"
   ]
  },
  {
   "cell_type": "markdown",
   "id": "1802de1e-e4df-4214-a5d4-6cf2ac2f6bce",
   "metadata": {
    "editable": true,
    "slideshow": {
     "slide_type": "slide"
    },
    "tags": []
   },
   "source": [
    "## CPU – Central Processing Unit\n",
    "<div style=\"overflow: hidden;\">\n",
    "  <div style=\"float: left; width: 30%;\">\n",
    "    <ul><li>Die CPU ist die Recheneinheit des Computers um Daten zu verarbeiten</li>\n",
    "        <li>Sie bearbeitet eine Sequenz an Befehlen (Ein Programm)</li>\n",
    "<li></li>\n",
    "<li>Eine CPU besteht aus Millionen an Transistoren die nur wenige Nanometer (1000000nm=1cm) groß sind</li>\n",
    "<li>Wenige Transistoren können nur eine einzelne logische Operation berechnen</li>\n",
    "        <ul>\n",
    "  </div>\n",
    "  <div style=\"float: right; width: 60%; text-align: center;\">\n",
    "    <img src=\"images/01c_Computerhardware/image_5.jpg\">\n",
    "    <div style=\"margin-top:-64px;background-color:rgba(255, 255, 255, 0.5);font-size:small !important;padding:4px;right:0px;z-index:1;font-family:'IBM Plex Sans', sans-serif !important;font-weight:lighter\">© https://www.ial-fa.com/blog/wafer-lot-acceptance-to-mil-std-883</div>\n",
    "  </div>\n",
    "</div>"
   ]
  },
  {
   "cell_type": "markdown",
   "id": "a7ff02da-6099-4341-a02e-5593c4608bab",
   "metadata": {
    "editable": true,
    "slideshow": {
     "slide_type": "slide"
    },
    "tags": []
   },
   "source": [
    "## Binären Zahlen\n",
    "\n",
    "- Computer speichern, verarbeiten & kommunizieren Daten als binären Zahlen, weil Transistoren in einem Gatter nur logische Operationen ausführen können.\n",
    "- binarius – Zweifach, doppelt\n",
    "- Das kleinste mögliche (nützliche) System von Zeichen\n",
    "\n",
    "- Mögliche Repräsentationen von Binärcode:\n",
    "  - 0 / 1\n",
    "  - Falsch / Wahr\n",
    "  - Aus / An"
   ]
  },
  {
   "cell_type": "markdown",
   "id": "54ad57dc-6479-4ea6-b305-105cf4322c41",
   "metadata": {
    "editable": true,
    "slideshow": {
     "slide_type": "slide"
    },
    "tags": [
     "remove-cell"
    ]
   },
   "source": [
    "## Hörsaalfrage\n",
    "\n",
    "<div style=\"float:right;width:60%;height: 100%;\">\n",
    "<img src=\"images/01c_Computerhardware/image_6.png\" style=\"top: 0px;position: fixed;width: max(60vw, 100vh);height: max(60vw, 100vh);z-index: -1;\" alt=\"Image\">\n",
    "<div style=\"position:fixed;background-color:rgba(255, 255, 255, 0.5);font-size:small !important;padding:4px;right:0px;top:20px;z-index:1;font-family:'IBM Plex Sans', sans-serif !important;font-weight:lighter\">© Midjourney: Counting with two hands</div>\n",
    "</div>\n",
    "\n",
    "***Wie Weit kann man mit 10 Fingern Zählen?***"
   ]
  },
  {
   "cell_type": "markdown",
   "id": "c9fc2091-b8be-4834-bfa9-13180b18b928",
   "metadata": {},
   "source": [
    "## Binären Zahlen  – Mathematik\n",
    "<div style=\"float:right;width:60%;height: 100%;\">\n",
    "<img src=\"images/01c_Computerhardware/binaertable.svg\" style=\"top: 0px;position: fixed;width: max(60vw, 100vh);height: max(60vw, 100vh);z-index: -1;\" alt=\"Image\">\n",
    "<div style=\"position:fixed;background-color:rgba(255, 255, 255, 0.5);font-size:small !important;padding:4px;right:0px;top:20px;z-index:1;font-family:'IBM Plex Sans', sans-serif !important;font-weight:lighter\">© Wikipedia</div>\n",
    "</div>\n",
    "\n",
    "- Unsere dezimalen Zahlen lassen sich als Binärzahlen codieren\n",
    "- Binärzahlen erlauben dieselben bekannten Grundrechenarten wie Dezimalzahlen also Addition, Subtraktion, Multiplikation und Division\n",
    "- So kann der Computer mit dezimalen Zahlen rechnen\n",
    "\n",
    "- Im Computer werden Zahlen auch oft hexagonal (Basis 16) codiert, da sich somit ein  Byte (8 Bits) in 2 Zeichen beschreiben lassen"
   ]
  },
  {
   "cell_type": "markdown",
   "id": "289386e9-c004-4cd5-aba0-b4afd2e503d5",
   "metadata": {
    "editable": true,
    "slideshow": {
     "slide_type": "subslide"
    },
    "tags": []
   },
   "source": [
    "## Abbildung von Zeichen im Computer\n",
    "<div style=\"float:right;width:60%;height: 100%;\">\n",
    "<img src=\"images/01c_Computerhardware/image_9.png\" style=\"top: 0px;position: fixed;width: max(60vw, 100vh);height: max(60vw, 100vh);z-index: -1;\" alt=\"Image\">\n",
    "<div style=\"position:fixed;background-color:rgba(255, 255, 255, 0.5);font-size:small !important;padding:4px;right:0px;top:20px;z-index:1;font-family:'IBM Plex Sans', sans-serif !important;font-weight:lighter\">© Wikipedia</div>\n",
    "</div>\n",
    "\n",
    "- Buchstaben in Texten werden im Computer binär codiert\n",
    "- ASCII: Textzeichen gespeichert in 8 Binärwerten (8 Bit = 1 Byte)\n",
    "- Binäre Codierung zieht sich vom niedrigsten Hardwarelevel bis hoch zur alltäglichen Anwendung"
   ]
  },
  {
   "cell_type": "markdown",
   "id": "a8cd78c5-d5fd-47d8-876e-526e89aba630",
   "metadata": {
    "editable": true,
    "slideshow": {
     "slide_type": "slide"
    },
    "tags": []
   },
   "source": [
    "## Abbildung von Bildern im Computer\n",
    "<div style=\"float:right;width:60%;height: 100%;\">\n",
    "<img src=\"images/01c_Computerhardware/image_10.png\" style=\"top: 0px;position: fixed;width: max(60vw, 100vh);height: max(60vw, 100vh);z-index: -1;\" alt=\"Image\">\n",
    "<div style=\"position:fixed;background-color:rgba(255, 255, 255, 0.5);font-size:small !important;padding:4px;right:0px;top:20px;z-index:1;font-family:'IBM Plex Sans', sans-serif !important;font-weight:lighter\">© Mahmut Sinecen: Digital Image Processing with MATLAB, 2015</div>\n",
    "</div>\n",
    "\n",
    "- Bilder werden im Computer auch binär codiert\n",
    "\n",
    "- Hierbei wird ein Bild in Pixel eingeteilt (Auflösung)\n",
    "- Die Farbe in jedem Pixel wird dann als Zahl gespeichert,  z. B. True Color RGB (16,777,216 colour variations):\n",
    "  - Blau  – 0 … 256  (= 1 Byte)\n",
    "  - Grün – 0 … 256  (= 1 Byte)\n",
    "  - Rot    – 0 … 256  (= 1 Byte)\n",
    "\n",
    "- Die Zahlen werden dann binär codiert, z. B. als 24 Bit  (1 Byte = 8 Bit;    3 * 8 Bit = 24 Bit)"
   ]
  },
  {
   "cell_type": "markdown",
   "id": "3bc4c425-6550-4363-9a3f-e6472d30fb59",
   "metadata": {
    "editable": true,
    "slideshow": {
     "slide_type": "slide"
    },
    "tags": []
   },
   "source": [
    "## Achtung: Der Unterschied im Computer\n",
    "<div style=\"float:right;width:60%;height: 100%;\">\n",
    "<img src=\"images/01c_Computerhardware/image_11.png\" style=\"top: 0px;position: fixed;width: max(60vw, 100vh);height: max(60vw, 100vh);z-index: -1;\" alt=\"Image\">\n",
    "<div style=\"position:fixed;background-color:rgba(255, 255, 255, 0.5);font-size:small !important;padding:4px;right:0px;top:20px;z-index:1;font-family:'IBM Plex Sans', sans-serif !important;font-weight:lighter\">© Wikipedia</div>\n",
    "</div>\n",
    "\n",
    "Aufgrund der binären Darstellung werden übliche Einheitenvorsätze wie Kilo-, Mega-, etc. auf Basis von 1024 und nicht auf Basis von 1000 definiert"
   ]
  },
  {
   "cell_type": "markdown",
   "id": "70af499f-6852-4026-b3e4-82047f07cf19",
   "metadata": {
    "editable": true,
    "slideshow": {
     "slide_type": "subslide"
    },
    "tags": []
   },
   "source": [
    "## Daten Wachstum\n",
    "\n",
    "- Die Größe der erzeugten Daten wächst zunehmend\n",
    "- Sie werden in Zukunft vor sehr vielen Daten konfrontiert werden\n",
    "- Der Computer muss Ihnen helfen diese Daten zu analysieren durch Informatik\n",
    "\n",
    "![Worldwide IDC Global DataSphere Forecast, 2022–2026](images/01c_Computerhardware/image_13.png)"
   ]
  },
  {
   "cell_type": "markdown",
   "id": "b38e499a-8149-4302-b9b7-2166245b2861",
   "metadata": {
    "editable": true,
    "jp-MarkdownHeadingCollapsed": true,
    "slideshow": {
     "slide_type": "slide"
    },
    "tags": [
     "remove-cell"
    ]
   },
   "source": [
    "## Hörsaalfrage\n",
    "\n",
    "<div style=\"float:right;width:60%;height: 100%;\">\n",
    "<img src=\"images/01c_Computerhardware/image_15.png\" style=\"top: 0px;position: fixed;width: max(60vw, 100vh);height: max(60vw, 100vh);z-index: -1;\" alt=\"Image\">\n",
    "<div style=\"position:fixed;background-color:rgba(255, 255, 255, 0.5);font-size:small !important;padding:4px;right:0px;top:20px;z-index:1;font-family:'IBM Plex Sans', sans-serif !important;font-weight:lighter\">© Midjourney: An alien supermarket filled with exotic food</div>\n",
    "</div>\n",
    "\n",
    "***Wie viele Sensoren hat ein Supermarkt?***"
   ]
  },
  {
   "cell_type": "markdown",
   "id": "335f0446-5ccf-4377-9cd0-47707875988c",
   "metadata": {
    "editable": true,
    "slideshow": {
     "slide_type": "subslide"
    },
    "tags": [
     "remove-cell"
    ]
   },
   "source": [
    "\n",
    "## Beispiel – Tesco Irland\n",
    "\n",
    "- Die Supermarktkette Tesco hat sehr früh in Sensoren und Monitoringsysteme der Supermärkte mit dem Ziel Energie einzusparen investiert \n",
    "- Die gesammelten Daten wurden so schnell so groß, dass niemand sie analysieren konnte\n",
    "- Durch maschinelle Lernmodelle konnte IBM Research die Daten analysieren und half Ihnen 20% des Kühlbedarfs einzusparen\n",
    "\n",
    "![](images/01c_Computerhardware/tesco.svg)\n"
   ]
  },
  {
   "cell_type": "markdown",
   "id": "6b32d9cb",
   "metadata": {
    "editable": true,
    "slideshow": {
     "slide_type": "slide"
    },
    "tags": [
     "remove-cell"
    ]
   },
   "source": [
    "<div style=\"position: relative; height: 100vh; overflow: hidden;\">\n",
    "  <div class=\"questions\" style=\"letter-spacing: 0.03em; font-family: Protomolecule; font-size: 2.3em; position: absolute; top: 50%; left: 50%; transform: translate(-50%, -50%); color: black; z-index: 5;\">fragen?</div>\n",
    "    <video autoplay muted loop playsinline\n",
    "         style=\"position: absolute; top: 0; left: 0; min-width: 100%; min-height: 100%; object-fit: cover; z-index: -1;\">\n",
    "    <source src=\"images/mj_questions.mp4\" type=\"video/mp4\">\n",
    "    Your browser does not support the video tag.\n",
    "  </video>\n",
    "</div>"
   ]
  }
 ],
 "metadata": {
  "kernelspec": {
   "display_name": "Python 3 (ipykernel)",
   "language": "python",
   "name": "python3"
  },
  "language_info": {
   "codemirror_mode": {
    "name": "ipython",
    "version": 3
   },
   "file_extension": ".py",
   "mimetype": "text/x-python",
   "name": "python",
   "nbconvert_exporter": "python",
   "pygments_lexer": "ipython3",
   "version": "3.12.10"
  },
  "rise": {
   "auto_select": "none",
   "center": false,
   "enable_chalkboard": true,
   "footer": "<img src=\"images/pd_logo.svg\" class=\"header_title_logo\"><img src=\"images/ai4sc_logo_v2.svg\" class=\"header_ai4sc_logo\">",
   "scroll": true,
   "show_buttons_on_startup": false,
   "slideNumber": true,
   "theme": "white"
  }
 },
 "nbformat": 4,
 "nbformat_minor": 5
}
