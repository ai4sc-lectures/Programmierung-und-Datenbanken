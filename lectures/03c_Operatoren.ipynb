{
 "cells": [
  {
   "cell_type": "markdown",
   "metadata": {
    "editable": true,
    "slideshow": {
     "slide_type": "slide"
    },
    "tags": [
     "remove-cell"
    ]
   },
   "source": [
    "<div class=\"vslide\">\n",
    "  <div class=\"vslide-title\">\n",
    "    <p style=\"font-family: Protomolecule; font-size: 2.3em; line-height: 90%; margin: 0px auto; text-align: center; width: 100%;\"><span style=\"letter-spacing: .04rem;\">programmierung</span><br><span style=\"letter-spacing: .0rem;\">und datenbanken</span></p>\n",
    "<p class=\"author\" style=\"font-family: Protomolecule; margin: 0px auto;  text-align: center; width: 100%; font-size: 1.2em;\">Joern Ploennigs</p>\n",
    "<p class=\"subtitle\" style=\"font-family: Protomolecule; margin: 1em auto; text-align: center; width: 100%; font-size: 1.2em;\">Operatoren</p>\n",
    "    <figcaption>Midjourney: Caligraphic Equations</figcaption>\n",
    "  </div>\n",
    "<script>\n",
    "  function setSectionBackground(c,v){\n",
    "    let e=document.currentScript.previousElementSibling;\n",
    "    while(e&&e.tagName!=='SECTION')e=e.parentElement;\n",
    "    if(e){\n",
    "      if(c)e.setAttribute('data-background-color',c);\n",
    "      if(v){\n",
    "        e.setAttribute('data-background-video',v);\n",
    "        e.setAttribute('data-background-video-loop','true');\n",
    "        e.setAttribute('data-background-video-muted','true');\n",
    "      }\n",
    "    }\n",
    "  }\n",
    "  setSectionBackground('#000000', 'images/03c_Operatoren/mj_title.mp4');\n",
    "</script>\n",
    "<style>\n",
    ".flex-row{display:flex; gap:2rem; align-items:flex-start; justify-content:space-between;}\n",
    ".flex-row .col1{flex:1; min-width:10px}\n",
    ".flex-row .col2{flex:2; min-width:10px}\n",
    ".flex-row .col3{flex:3; min-width:10px}\n",
    ".flex-row .col4{flex:4; min-width:10px}\n",
    ".flex-row .col5{flex:5; min-width:10px}\n",
    ".flex-row .col6{flex:6; min-width:10px}\n",
    ".flex-row .col7{flex:7; min-width:10px}\n",
    ".vcent{display:flex; align-items:center; justify-content:center}\n",
    "</style>\n",
    "</div>"
   ]
  },
  {
   "cell_type": "markdown",
   "metadata": {
    "editable": true,
    "slideshow": {
     "slide_type": "skip"
    },
    "tags": []
   },
   "source": [
    "# Operatoren"
   ]
  },
  {
   "cell_type": "markdown",
   "metadata": {
    "editable": true,
    "slideshow": {
     "slide_type": "skip"
    },
    "tags": []
   },
   "source": [
    "<figure class=\"mj-tile-band\">\n",
    "<img src='images/03c_Operatoren/mj_title_band.jpg'>\n",
    "    <figcaption>Midjourney: Caligraphic Equations</figcaption>\n",
    "</figure>\n",
    "\n",
    "> Clarity in thought, like elegance in mathematics, arises not from abundance but from precision.\n",
    ">\n",
    "> — Blaise Pascal"
   ]
  },
  {
   "cell_type": "markdown",
   "metadata": {
    "slideshow": {
     "slide_type": "skip"
    }
   },
   "source": [
    "## <a href=\"/lec_slides/03c_Operatoren.slides.html\">Folien</a>/<a href=\"/pdf/slides/03c_Operatoren.pdf\">PDF</a>\n",
    "<iframe src=\"/lec_slides/03c_Operatoren.slides.html\" width=\"750\" height=\"500\"></iframe>"
   ]
  },
  {
   "cell_type": "markdown",
   "metadata": {
    "slideshow": {
     "slide_type": "slide"
    },
    "tags": [
     "remove-cell"
    ]
   },
   "source": [
    "## Ablauf\n",
    "\n",
    "![](images/partA_4.svg)"
   ]
  },
  {
   "cell_type": "markdown",
   "metadata": {
    "editable": true,
    "slideshow": {
     "slide_type": "slide"
    },
    "tags": []
   },
   "source": [
    "## Anweisungen"
   ]
  },
  {
   "cell_type": "markdown",
   "metadata": {
    "editable": true,
    "slideshow": {
     "slide_type": ""
    },
    "tags": [
     "remove-cell"
    ]
   },
   "source": [
    "-   <div class=\"alert alert-block alert-success\">\n",
    "    <b>📘 Definition: Anweisung</b>\n",
    "\n",
    "    Eine Anweisung (engl. statement) stellt eine in dem Syntax einer Programmiersprache formulierte einzelne Vorschrift dar, die im Programm nacheinander auszuführen ist.\n",
    "    </div>\n",
    "\n",
    "-   <div class=\"alert alert-block alert-success\">\n",
    "    <b>📘 Definition: Ausdrücke</b>\n",
    "\n",
    "    Eine besondere Form von Anweisungen sind Ausdrücke (engl. expression) welche immer einen Wert zurückgeben und somit einen Datentypen haben.\n",
    "    </div>\n",
    "\n",
    "\n",
    "-   <div class=\"alert alert-block alert-success\">\n",
    "    <b>📘 Definition: Operator</b>\n",
    "\n",
    "    Ein Operator sind Teile von Ausdrücke und sind ein Symbol oder ein Schlüsselwort, das dem Compiler oder Interpreter mitteilt, eine bestimmte Operation auf Werte auszuführen.\n",
    "    </div>\n",
    "\n",
    "- Beispiel: Bei einer einfachen Variablenzuweisung stehen der Ausdruck rechts von dem Zuweisungsoperator `=`.\n",
    "\n",
    "    ```python\n",
    "    Variablenname = Ausdruck\n",
    "    ```"
   ]
  },
  {
   "cell_type": "markdown",
   "metadata": {
    "editable": true,
    "slideshow": {
     "slide_type": "skip"
    },
    "tags": []
   },
   "source": [
    "Bei der Programmierung schreibt man Code der formal aus einem Syntax und Semantik besteht. Dieser Code wird formal weiter unterteil in:\n",
    "\n",
    "<div class=\"alert alert-block alert-success\">\n",
    "<b>📘 Definition: Anweisung</b>\n",
    "\n",
    "Eine Anweisung (engl. statement) stellt eine in dem Syntax einer Programmiersprache formulierte einzelne Vorschrift dar, die im Programm nacheinander auszuführen ist.\n",
    "</div>\n",
    "\n",
    "<div class=\"alert alert-block alert-success\">\n",
    "<b>📘 Definition: Ausdrücke</b>\n",
    "\n",
    "Eine besondere Form von Anweisungen sind Ausdrücke (engl. expression) welche immer einen Wert zurückgeben und somit einen Datentypen haben.\n",
    "</div>\n",
    "\n",
    "\n",
    "<div class=\"alert alert-block alert-success\">\n",
    "<b>📘 Definition: Operator</b>\n",
    "\n",
    "Ein Operator sind Teile von Ausdrücke und sind ein Symbol oder ein Schlüsselwort, das dem Compiler oder Interpreter mitteilt, eine bestimmte Operation auf Werte auszuführen.\n",
    "</div>\n",
    "\n",
    "Bei einer einer einfachen Variablenzuweisung steht der Ausdruck zum Beispiel auf der rechten Seite des Zuweisungsoperators und der Variablenname auf der linken Seite, zum Beispiel:\n",
    "\n",
    "```python\n",
    "Variablenname = Ausdruck\n",
    "```"
   ]
  },
  {
   "cell_type": "markdown",
   "metadata": {
    "editable": true,
    "slideshow": {
     "slide_type": "slide"
    },
    "tags": []
   },
   "source": [
    "## Arithmetische Operatoren"
   ]
  },
  {
   "cell_type": "markdown",
   "metadata": {
    "editable": true,
    "slideshow": {
     "slide_type": ""
    },
    "tags": []
   },
   "source": [
    "Arithmetische Operatoren führen die bekannten mathematischen Operationen aus. Sie werden mit numerischen Werten verwendet, um allgemeine mathematische Operationen auszuführen."
   ]
  },
  {
   "cell_type": "markdown",
   "metadata": {
    "editable": true,
    "slideshow": {
     "slide_type": ""
    },
    "tags": []
   },
   "source": [
    "| Operator\t| Beispiel\t| Wirkung | \n",
    "| --------- | --------- | ------- | \n",
    "| Addition\t| `x + y`\t| `10 + 3` (Ergebnis: 13) | \n",
    "| Subtraktion\t| `x - y`\t| `10 - 3` (Ergebnis: 7) | \n",
    "| Multiplikation\t| `x * y` | `10 * 3` (Ergebnis: 30) | \n",
    "| Division\t| `x / y`\t| `10 / 3` (Ergebnis: 3.33) | \n",
    "| Ganzzahl-Division\t| `x // y`\t| `10 // 3` (Ergebnis: 3) | \n",
    "| Modulo-Operator\t| `x % y`\t| `10 % 3` (Ergebnis: 1) | \n",
    "| Potenzierung\t| `x ** y`\t| `10 ** 3` (Ergebnis: 1000) | "
   ]
  },
  {
   "cell_type": "markdown",
   "metadata": {
    "editable": true,
    "slideshow": {
     "slide_type": "subslide"
    },
    "tags": []
   },
   "source": [
    "## Zuweisungsperatoren\n",
    "\n",
    "Zuweisungsoperatoren weisen Variablen Werte zu. Python verwendet für alle arithmetischen Operatoren die abkürzende Zuweisung, es gibt jedoch keine Inkrementierung oder Dekrementierung wie in anderen Sprachen."
   ]
  },
  {
   "cell_type": "markdown",
   "metadata": {
    "editable": true,
    "slideshow": {
     "slide_type": "skip"
    },
    "tags": []
   },
   "source": [
    "Bei der Zuweisung `x = y` wird der Wert der Variablen `y` (rechte Seite) der Variablen `x` (linke Seite) zugewiesen. Bei abkürzenden Zuweisungen wird jeweils eine Operation auf dem Wert einer Variablen ausgeführt und dieser neue Wert erneut der Variablen zugewiesen."
   ]
  },
  {
   "cell_type": "markdown",
   "metadata": {
    "editable": true,
    "slideshow": {
     "slide_type": ""
    },
    "tags": []
   },
   "source": [
    "\n",
    "| Operator\t| Beispiel\t| Wirkung | \n",
    "| --------- | --------- | ------- | \n",
    "| Zuweisung\t| `x = y`\t| Variable `x` erhält den Wert `y` | \n",
    "| Abkürzende Addition\t| `x += 4` \t| `x = x + 4` # Variablen `x` wird um 4 erhöht | \n",
    "| Abkürzende Multiplikation\t| `x *= 4` \t| `x = x * 4` # Variablen `x` wird mit 4 multipliziert | \n",
    "| Abkürzende Division\t| `x /= 4` \t| `x = x / 4` # Variablen `x` wird durch 4 dividiert | \n",
    "| Abkürzende Ganzzahl-Division\t| `x //= 4` \t| `x = x // 4` # Variablen `x` wird durch 4 ohne Rest dividiert | \n",
    "| Abkürzende Modulo\t| `x %= 4` \t| `x = x % 4` # Der Rest der Division von Variablen `x` durch 4 | "
   ]
  },
  {
   "cell_type": "markdown",
   "metadata": {
    "editable": true,
    "slideshow": {
     "slide_type": "skip"
    },
    "tags": []
   },
   "source": [
    "## Anwendung von Zuweisungs- und arithmetischen Operatoren"
   ]
  },
  {
   "cell_type": "markdown",
   "metadata": {
    "editable": true,
    "slideshow": {
     "slide_type": "skip"
    },
    "tags": []
   },
   "source": [
    "Operatoren werden in Programmiersprachen verwendet um zwei oder mehrere Werte oder Variablen miteinander zu verknüpfen. Die arithmetischen Operatoren `*, -, *, /` aus der Mathematik gibt es auch in Python."
   ]
  },
  {
   "cell_type": "code",
   "execution_count": null,
   "metadata": {
    "slideshow": {
     "slide_type": "skip"
    }
   },
   "outputs": [],
   "source": [
    "a = 1 + 1\n",
    "print(a)"
   ]
  },
  {
   "cell_type": "markdown",
   "metadata": {
    "slideshow": {
     "slide_type": "skip"
    }
   },
   "source": [
    "Die Operationen funktionieren genauso mit Variablen oder gemischt."
   ]
  },
  {
   "cell_type": "code",
   "execution_count": null,
   "metadata": {
    "slideshow": {
     "slide_type": "skip"
    }
   },
   "outputs": [],
   "source": [
    "a = a + 1\n",
    "print(a)"
   ]
  },
  {
   "cell_type": "markdown",
   "metadata": {
    "slideshow": {
     "slide_type": "skip"
    }
   },
   "source": [
    "In diesem Beispiel ist die erste Eingangsvariable `a` identisch mit der Ergebnisvariable. In diesem Fall bietet Python auch die Kurzform an wo der Operator vor dem Zuweisungsoperator `=`"
   ]
  },
  {
   "cell_type": "code",
   "execution_count": null,
   "metadata": {
    "slideshow": {
     "slide_type": "skip"
    }
   },
   "outputs": [],
   "source": [
    "a += 1\n",
    "print(a)"
   ]
  },
  {
   "cell_type": "code",
   "execution_count": null,
   "metadata": {
    "slideshow": {
     "slide_type": "skip"
    }
   },
   "outputs": [],
   "source": [
    "a *= 2\n",
    "print(a)"
   ]
  },
  {
   "cell_type": "markdown",
   "metadata": {
    "slideshow": {
     "slide_type": "skip"
    }
   },
   "source": [
    "Hierbei bestimmen Klammern auch die Berechnungsreihenfolge, genauso wie in der Mathematik und können das Ergebnis beeinflussen. So, sind die folgenden beiden Ausdrücke nicht identisch:"
   ]
  },
  {
   "cell_type": "code",
   "execution_count": null,
   "metadata": {
    "slideshow": {
     "slide_type": "skip"
    }
   },
   "outputs": [],
   "source": [
    "c1 = (6 + a) * (-2)\n",
    "print(c1)"
   ]
  },
  {
   "cell_type": "code",
   "execution_count": null,
   "metadata": {
    "editable": true,
    "slideshow": {
     "slide_type": "skip"
    },
    "tags": []
   },
   "outputs": [],
   "source": [
    "c2 = 6 + a * -2\n",
    "print(c2)"
   ]
  },
  {
   "cell_type": "markdown",
   "metadata": {
    "editable": true,
    "slideshow": {
     "slide_type": "subslide"
    },
    "tags": []
   },
   "source": [
    "## Vergleichsoperatoren\n",
    "    \n",
    "Vergleichsoperatoren vergleichen zwei Werte und liefern wahr oder falsch als Ergebnis. Zum Beispiel testet `a == b` ob `a` gleich `b` ist, und liefert je nachdem wahr oder falsch zurück, und `a != b` testet, ob `a` ungleich `b` ist."
   ]
  },
  {
   "cell_type": "markdown",
   "metadata": {
    "slideshow": {
     "slide_type": "skip"
    }
   },
   "source": [
    "Vergleichsoperatoren verknüpfen zwei Variablen / Werte, und das Ergebnis wird als wahr oder falsch ausgewertet.\n",
    " \n",
    "Bei der Zuweisung `x = y` wird der Wert der Variablen `y` (rechte Seite) der Variablen `x` (linke Seite) zugewiesen. Bei abkürzenden Zuweisungen wird jeweils eine Operation auf dem Wert einer Variablen ausgeführt und dieser neue Wert erneut der Variablen zugewiesen."
   ]
  },
  {
   "cell_type": "markdown",
   "metadata": {
    "editable": true,
    "slideshow": {
     "slide_type": ""
    },
    "tags": []
   },
   "source": [
    "| Operator\t| Beispiel\t| Wirkung | \n",
    "| --------- | --------- | ------- | \n",
    "| Gleich\t| `x == y`\t`| wahr, wenn `x` gleich `y` ist | \n",
    "| Ungleich\t| `x != y` \t| wahr, wenn `x` ungleich `y` ist | \n",
    "| Größer\t| `x > y` \t| wahr, wenn `x` größer als `y` ist | \n",
    "| Kleiner\t| `x < y` \t| wahr, wenn `x` kleiner als `y` ist | \n",
    "| Größer gleich\t| `x >= y` \t| wahr, wenn `x` größer gleich `y` ist | \n",
    "| Kleiner gleich\t| `x <= y` \t| wahr, wenn `x` kleiner gleich `y` ist  | "
   ]
  },
  {
   "cell_type": "markdown",
   "metadata": {
    "editable": true,
    "jp-MarkdownHeadingCollapsed": true,
    "slideshow": {
     "slide_type": "subslide"
    },
    "tags": [
     "hide-cell"
    ]
   },
   "source": [
    "## Identitätsoperatoren\n",
    "\n",
    "Identitätsoperatoren vergleichen Objekte. Falls z.B. `x = [1, 2, 3]` gilt, also `x` eine Liste ist, dann liefert `type(x) is list` wahr, und `type(x) is not list` ist falsch. Sie prüfen dabei, ob zwei Objekte auf denselben Speicherbereich zeigen. `x is y` gibt wahr zurück, wenn beide Variablen dasselbe Objekt sind, d.h. auf denselben Speicherbereich zeigen. \n",
    "\n",
    "| Operator\t| Beispiel\t| Wirkung | \n",
    "| --------- | --------- | ------- | \n",
    "| Gleich\t| `x is y`\t| wahr, wenn beide Variablen dasselbe Objekt sind. | \n",
    "| Nicht gleich\t| `x is not y` | wahr, wenn die Variablen nicht dasselbe Objekt sind. | "
   ]
  },
  {
   "attachments": {},
   "cell_type": "markdown",
   "metadata": {
    "editable": true,
    "slideshow": {
     "slide_type": "slide"
    },
    "tags": [
     "remove-cell"
    ]
   },
   "source": [
    "## Hörsaalfrage\n",
    "\n",
    "<script>setSectionBackground('#FFD966');</script>\n",
    "<div class=\"flex-row\">\n",
    "  <div style=\"float: left; width: 40%; text-align: center;\">\n",
    "\n",
    "Welche Ergebnisse gibt es für welche logische Operation?\n",
    "\n",
    "(Entspricht der Aussagenlogik)\n",
    "\n",
    "  </div>\n",
    "  <div style=\"float: right; width: 60%;\"> \n",
    "    <figure class=\"mj-fig\">\n",
    "        <img src=\"images/03c_Operatoren/logic0.svg\" class=\"mj-fig-img\">\n",
    "        <figcaption class=\"mj-fig-cap\">\n",
    "            Logische Operationen\n",
    "        </figcaption>\n",
    "    </figure>\n",
    "  </div>\n",
    "</div>"
   ]
  },
  {
   "cell_type": "markdown",
   "metadata": {
    "editable": true,
    "slideshow": {
     "slide_type": "subslide"
    },
    "tags": [
     "remove-cell"
    ]
   },
   "source": [
    "## Hörsaalfrage\n",
    "\n",
    "<script>setSectionBackground('#FFD966');</script>\n",
    "<div class=\"flex-row\">\n",
    "  <div style=\"float: left; width: 40%; text-align: center;\">\n",
    "\n",
    "Welche Ergebnisse gibt es für welche logische Operation?\n",
    "\n",
    "(Entspricht der Aussagenlogik)\n",
    "\n",
    "  </div>\n",
    "  <div style=\"float: right; width: 60%;\"> \n",
    "    <figure class=\"mj-fig\">\n",
    "        <img src=\"images/03c_Operatoren/logic.svg\" class=\"mj-fig-img\">\n",
    "        <figcaption class=\"mj-fig-cap\">\n",
    "            Logische Operationen\n",
    "        </figcaption>\n",
    "    </figure>\n",
    "  </div>\n",
    "</div>"
   ]
  },
  {
   "cell_type": "markdown",
   "metadata": {
    "editable": true,
    "slideshow": {
     "slide_type": "slide"
    },
    "tags": []
   },
   "source": [
    "## Logische Operatoren"
   ]
  },
  {
   "cell_type": "markdown",
   "metadata": {
    "editable": true,
    "slideshow": {
     "slide_type": ""
    },
    "tags": []
   },
   "source": [
    "Logische Operatoren kombinieren boolesche Ausdrücke, die dann als wahr oder falsch ausgewertet werden. Z.B. wird hier die Variable `is_teenager = (alter > 13) and (alter < 19)` als wahr ausgewertet, wenn der Wert der Variablen alter gleich 14 ist.\n",
    "\n",
    "`P` und `Q` stehen für logische Ausdrücke, z.B. `P = (x > 10)` und `Q = (x < 20)`."
   ]
  },
  {
   "cell_type": "markdown",
   "metadata": {
    "editable": true,
    "slideshow": {
     "slide_type": ""
    },
    "tags": []
   },
   "source": [
    "| Operator\t| Beispiel\t| Wirkung | \n",
    "| --------- | --------- | ------- | \n",
    "| Logisches Und\t| `P and Q`\t| Gibt wahr (1) zurück, wenn die Ausdrücke `P` und `Q` beide wahr sind | \n",
    "| Logisches Oder\t| `P or Q`\t| Gibt wahr (1) zurück, wenn einer der Ausdrücke `P` oder `Q` wahr ist | \n",
    "| Logische Verneinung\t| `not P` \t| Verneint den Ausdruck `P`: aus wahr wird falsch, aus falsch wird wahr  | "
   ]
  },
  {
   "cell_type": "markdown",
   "metadata": {
    "editable": true,
    "slideshow": {
     "slide_type": "skip"
    },
    "tags": []
   },
   "source": [
    "### Anwendung von Vergleichs- und Logischen Operatoren"
   ]
  },
  {
   "cell_type": "markdown",
   "metadata": {
    "editable": true,
    "slideshow": {
     "slide_type": "skip"
    },
    "tags": []
   },
   "source": [
    "Um zu prüfen, ob der Wert zweier Variablen gleich ist, wird in den meisten Programmiersprachen nicht das Gleichheitszeichen `=` verwendet, das es dort meist als Zuweisungsoperator definiert ist (und somit die erste Variable überschreiben würde). In Python nutzt man deshalb ein doppeltes Gleichheitszeichen `==` (mathematisch für exakt das gleiche). In unserem Beispiel ist `c1` nicht gleich `c2`, also die folgende Aussage falsch."
   ]
  },
  {
   "cell_type": "code",
   "execution_count": null,
   "metadata": {
    "slideshow": {
     "slide_type": "skip"
    }
   },
   "outputs": [],
   "source": [
    "c1 == c2"
   ]
  },
  {
   "cell_type": "markdown",
   "metadata": {
    "slideshow": {
     "slide_type": "skip"
    }
   },
   "source": [
    "Für Ungleichheit wird in Python der `!=` Operator verwendet"
   ]
  },
  {
   "cell_type": "code",
   "execution_count": null,
   "metadata": {
    "slideshow": {
     "slide_type": "skip"
    }
   },
   "outputs": [],
   "source": [
    "c1 != c2"
   ]
  },
  {
   "cell_type": "markdown",
   "metadata": {
    "slideshow": {
     "slide_type": "skip"
    }
   },
   "source": [
    "Auch die mathematischen Operatoren für kleiner `<`, kleiner gleich `≤`, größer `<`, und größer gleich `≥` werden unterstützt"
   ]
  },
  {
   "cell_type": "code",
   "execution_count": null,
   "metadata": {
    "slideshow": {
     "slide_type": "skip"
    }
   },
   "outputs": [],
   "source": [
    "c1 < c2"
   ]
  },
  {
   "cell_type": "code",
   "execution_count": null,
   "metadata": {
    "slideshow": {
     "slide_type": "skip"
    }
   },
   "outputs": [],
   "source": [
    "c1 <= c2"
   ]
  },
  {
   "cell_type": "code",
   "execution_count": null,
   "metadata": {
    "slideshow": {
     "slide_type": "skip"
    }
   },
   "outputs": [],
   "source": [
    "c1 > c2"
   ]
  },
  {
   "cell_type": "code",
   "execution_count": null,
   "metadata": {
    "slideshow": {
     "slide_type": "skip"
    }
   },
   "outputs": [],
   "source": [
    "c1 >= c2"
   ]
  },
  {
   "cell_type": "markdown",
   "metadata": {
    "slideshow": {
     "slide_type": "skip"
    }
   },
   "source": [
    "Boolesche (logische) Werte werden in Python nicht durch die üblichen Operatoren für UND `&`, ODER `|`, NOT `~` kombiniert, sondern als `and`, `or`, `not` ausgeschrieben. Das Größergleich `≥` ist z.B. identisch mit der Bedingung"
   ]
  },
  {
   "cell_type": "code",
   "execution_count": null,
   "metadata": {
    "editable": true,
    "slideshow": {
     "slide_type": "skip"
    },
    "tags": []
   },
   "outputs": [],
   "source": [
    "c1 > c2 or c1 == c2"
   ]
  },
  {
   "cell_type": "markdown",
   "metadata": {
    "editable": true,
    "slideshow": {
     "slide_type": "subslide"
    },
    "tags": []
   },
   "source": [
    "## Bitweise Operatoren\n",
    "\n",
    "Bitweise Operatoren führen bitweise Operationen auf ganzzahligen Operanden aus. D.h. die Operanden werden in ihre bitweise Darstellung konvertiert, z.B. `x = 5 = 0101`, `y = 3 = 0011`, und dann wird jedes Bit im Operanden `x` mit dem Bit an der passenden Position im Operanden `y` verknüpft. \n",
    "\n",
    "| Operator\t| Beispiel\t| Wirkung |\n",
    "| --------- | --------- | ------- |\n",
    "| Bitweises Und\t| `x & y` | Ergebnisbit ist 1, wenn beide Bits 1 sind. |\n",
    "| Bitweises Oder\t| `x \\| y` \t| Ergebnisbit ist 1, wenn mindestens eines der Bits 1 ist. |\n",
    "| Bitweises Entweder-Oder (XOR)\t| `x ^ y`\t| Ergebnisbit ist 1, wenn genau eines der Bits 1 ist. |\n",
    "| Bitweises Nicht\t| `˜ x`\t| Gibt das Einerkomplement von `x` zurück. |\n",
    "| Shift-right\t| `x >> n`| \tBits in `x` werden um `n` Positionen nach rechts geschoben. |\n",
    "| Shift-left\t| `x << n` | \tBits in `x` werden um `n` Positionen nach links geschoben. |"
   ]
  },
  {
   "cell_type": "markdown",
   "metadata": {
    "editable": true,
    "slideshow": {
     "slide_type": "skip"
    },
    "tags": []
   },
   "source": [
    "Die üblichen logischen Operatoren UND `&`, ODER `|`, sowie XOR `^` sind für bitweise Verknüpfung reserviert. Dies benutzt man nur sehr selten, bei bestimmten Berechnungen oder beim Masking."
   ]
  },
  {
   "cell_type": "code",
   "execution_count": null,
   "metadata": {
    "slideshow": {
     "slide_type": "skip"
    }
   },
   "outputs": [],
   "source": [
    "a = 10 # binär 1010\n",
    "b = 4  # binär 0100"
   ]
  },
  {
   "cell_type": "code",
   "execution_count": null,
   "metadata": {
    "slideshow": {
     "slide_type": "skip"
    }
   },
   "outputs": [],
   "source": [
    "c = a & b\n",
    "print(c) # binär 0000"
   ]
  },
  {
   "cell_type": "code",
   "execution_count": null,
   "metadata": {
    "slideshow": {
     "slide_type": "skip"
    }
   },
   "outputs": [],
   "source": [
    "c = a | b\n",
    "print(c) # binär 1110"
   ]
  },
  {
   "cell_type": "markdown",
   "metadata": {
    "slideshow": {
     "slide_type": "skip"
    }
   },
   "source": [
    "Mit den Linksverschiebungs- `<<` und Rechtsverschiebungs-Operatoren `>>` lassen sich auch sehr schnelle Berechnungen realisieren. Eine Multiplikation mit 4 ist zum Beispiel eine Linksverschiebung um 2, eine Division um 4 hingegen eine Rechtsverschiebung um 2. Dies nuten Compiler intern, um Berechnungen zu optimieren."
   ]
  },
  {
   "cell_type": "code",
   "execution_count": null,
   "metadata": {
    "slideshow": {
     "slide_type": "skip"
    }
   },
   "outputs": [],
   "source": [
    "c = a << 2\n",
    "print(c)"
   ]
  },
  {
   "cell_type": "code",
   "execution_count": null,
   "metadata": {
    "slideshow": {
     "slide_type": "skip"
    }
   },
   "outputs": [],
   "source": [
    "d = c >> 2\n",
    "print(d)"
   ]
  },
  {
   "cell_type": "markdown",
   "metadata": {
    "editable": true,
    "slideshow": {
     "slide_type": "skip"
    },
    "tags": []
   },
   "source": [
    "## Überladen von Operatoren"
   ]
  },
  {
   "cell_type": "markdown",
   "metadata": {
    "editable": true,
    "slideshow": {
     "slide_type": "skip"
    },
    "tags": []
   },
   "source": [
    "Die arithmetischen Operatoren `+` und `-` sind in Python *überladen*, d.h. man kann sie auch auf nicht numerische Datentypen anwenden. Um mehrere Strings zu verbinden kann man zum Beispiel schreiben:"
   ]
  },
  {
   "cell_type": "code",
   "execution_count": null,
   "metadata": {
    "slideshow": {
     "slide_type": "skip"
    }
   },
   "outputs": [],
   "source": [
    "satz = \"Der \"+ \"Ball \" + \"ist \" + \"rund.\"\n",
    "print(satz)"
   ]
  },
  {
   "cell_type": "markdown",
   "metadata": {
    "slideshow": {
     "slide_type": "skip"
    }
   },
   "source": [
    "Dies funktioniert auch für Listen"
   ]
  },
  {
   "cell_type": "code",
   "execution_count": null,
   "metadata": {
    "slideshow": {
     "slide_type": "skip"
    }
   },
   "outputs": [],
   "source": [
    "liste1 = [1,2,3]\n",
    "liste2 = [2,3,4]\n",
    "\n",
    "liste12 = liste1 + liste2\n",
    "print(liste12)"
   ]
  },
  {
   "cell_type": "markdown",
   "metadata": {
    "slideshow": {
     "slide_type": "skip"
    }
   },
   "source": [
    "oder als Subtraktion für Mengen"
   ]
  },
  {
   "cell_type": "code",
   "execution_count": null,
   "metadata": {
    "slideshow": {
     "slide_type": "skip"
    }
   },
   "outputs": [],
   "source": [
    "menge1 = {1,2,3}\n",
    "menge2 = {2,3,4}\n",
    "\n",
    "menge12 = menge1 - menge2\n",
    "print(menge12)"
   ]
  },
  {
   "cell_type": "markdown",
   "metadata": {
    "slideshow": {
     "slide_type": "skip"
    }
   },
   "source": [
    "<div class=\"alert alert-block alert-warning\">\n",
    "<b>⚠️ Achtung:</b> Hierbei ist zu beachten, dass die Operatoren ihre semantische Bedeutung ändern, je nachdem welche Datentypen kombiniert werden. So ist die Addition zweier Strings `str` formal eine `concat` in einen neuen String. Bei der Liste bedeutet `+` das Kopieren der ersten Liste in eine neue, welche dann mit `expand` um den Inhalt der nächsten Liste erweitert wird. Bei beiden ist der Operator für die Subtraktion `-` nicht definiert. Bei einem Set ist `+` nicht definiert, dafür aber `-` um Differenzmenge zu bestimmen.\n",
    "\n",
    "Ferner müssen bei Python beide verknüpften Werte immer den gleichen Datentypen haben. So kann man nicht, wie in Java oder JavaScript, ein String und eine Nummer kombinieren, sondern muss die Nummer zuerst in einen String konvertieren (casting).\n",
    "</div>"
   ]
  },
  {
   "cell_type": "code",
   "execution_count": null,
   "metadata": {
    "editable": true,
    "slideshow": {
     "slide_type": "skip"
    },
    "tags": [
     "raises-exception"
    ]
   },
   "outputs": [],
   "source": [
    "\"Der Wert ist \" + 1  # geht nicht"
   ]
  },
  {
   "cell_type": "code",
   "execution_count": null,
   "metadata": {
    "slideshow": {
     "slide_type": "skip"
    }
   },
   "outputs": [],
   "source": [
    "\"Der Wert ist \" + str(1)  # geht"
   ]
  },
  {
   "cell_type": "markdown",
   "metadata": {
    "slideshow": {
     "slide_type": "skip"
    }
   },
   "source": [
    "Dies hat damit zu tun, dass bestimmte Statements sonst mehrdeutig wären. So ist hier unklar, ob das Ergebnis ein String sein soll oder eine Zahl."
   ]
  },
  {
   "cell_type": "code",
   "execution_count": null,
   "metadata": {
    "slideshow": {
     "slide_type": "skip"
    },
    "tags": [
     "raises-exception"
    ]
   },
   "outputs": [],
   "source": [
    "\"1\" + 1  # geht nicht"
   ]
  },
  {
   "cell_type": "markdown",
   "metadata": {
    "slideshow": {
     "slide_type": "skip"
    }
   },
   "source": [
    "Durch Casting der Werte in den richtigen Typ wird das Statement eindeutig"
   ]
  },
  {
   "cell_type": "code",
   "execution_count": null,
   "metadata": {
    "editable": true,
    "slideshow": {
     "slide_type": "skip"
    },
    "tags": []
   },
   "outputs": [],
   "source": [
    "int(\"1\") + 1  # geht"
   ]
  },
  {
   "cell_type": "markdown",
   "metadata": {
    "editable": true,
    "slideshow": {
     "slide_type": "subslide"
    },
    "tags": [
     "hide-cell"
    ]
   },
   "source": [
    "## Mitgliedsoperatoren\n",
    "\n",
    "Mitgliedsoperatoren prüfen, ob ein Objekt Mitglied einer Liste ist, z.B. prüft `4 in [1,2,3]`, ob 4 in der Liste enthalten ist.\n",
    "\n",
    "`x` steht hier für ein beliebiges Objekt, `list` für eine Auflistung."
   ]
  },
  {
   "cell_type": "markdown",
   "metadata": {
    "editable": true,
    "slideshow": {
     "slide_type": ""
    },
    "tags": [
     "hide-cell"
    ]
   },
   "source": [
    "| Operator\t| Beispiel\t| Wirkung | \n",
    "| --------- | --------- | ------- | \n",
    "| enthalten in\t| `x in list`\t| wahr, wenn x in der Liste `list` enthalten ist. | \n",
    "| nicht enthalten\t| `x not in list`\t| wahr, wenn x nicht in der Liste `list` enthalten ist. | "
   ]
  },
  {
   "cell_type": "markdown",
   "metadata": {
    "editable": true,
    "lines_to_next_cell": 0,
    "slideshow": {
     "slide_type": "skip"
    },
    "tags": []
   },
   "source": [
    "### Tips zur Anwendung\n",
    "\n",
    "Mathematische Operatoren haben auch eine Kurzversion die vor dem Zuweisungsoperator `=` stehen kann: z.B. `a += 1` entspricht `a = a + 1`, `a *= 2` ist äquivalent zu `a = a*2`."
   ]
  },
  {
   "cell_type": "code",
   "execution_count": null,
   "metadata": {
    "editable": true,
    "slideshow": {
     "slide_type": "skip"
    },
    "tags": []
   },
   "outputs": [],
   "source": [
    "i = 1\n",
    "i *= 2\n",
    "i *= 3\n",
    "i  # 6"
   ]
  },
  {
   "cell_type": "markdown",
   "metadata": {
    "editable": true,
    "lines_to_next_cell": 0,
    "slideshow": {
     "slide_type": "skip"
    },
    "tags": []
   },
   "source": [
    "Logische Operationen funktionieren meistens wie erwartet. Insbesondere `>`, `<`, `>=` und `<=`. Wie in mehreren anderen Sprachen wird Gleichheit mit doppelten Gleichheitszeichen `==` getestet. Ungleichheit kann mit `!=` getestet werden, und die logische Negation ist `not`:"
   ]
  },
  {
   "cell_type": "code",
   "execution_count": null,
   "metadata": {
    "editable": true,
    "slideshow": {
     "slide_type": "skip"
    },
    "tags": []
   },
   "outputs": [],
   "source": [
    "a = 1\n",
    "a > 1  # False\n",
    "a >= 1  # True\n",
    "a == 1  # True\n",
    "a != 1  # False\n",
    "not a == 1  # False"
   ]
  },
  {
   "cell_type": "markdown",
   "metadata": {
    "editable": true,
    "lines_to_next_cell": 0,
    "slideshow": {
     "slide_type": "skip"
    },
    "tags": []
   },
   "source": [
    "Python unterstützt auch etwas weniger verbreitete, aber äußerst praktische Mehrweg-Vergleichsoperationen, zum Beispiel"
   ]
  },
  {
   "cell_type": "code",
   "execution_count": null,
   "metadata": {
    "editable": true,
    "lines_to_next_cell": 2,
    "slideshow": {
     "slide_type": "skip"
    },
    "tags": []
   },
   "outputs": [],
   "source": [
    "0 < a < 2  # true"
   ]
  },
  {
   "cell_type": "markdown",
   "metadata": {
    "editable": true,
    "slideshow": {
     "slide_type": "skip"
    },
    "tags": []
   },
   "source": [
    "## Quiz\n",
    "\n",
    "```{quizdown}\n",
    "\t---\n",
    "\tshuffleQuestions: true\n",
    "\tshuffleAnswers: true\n",
    "\t---\n",
    "\n",
    "    ### Was sind Binäre Zahlen?\n",
    "\n",
    "    > Mehrere Antworten sind möglich. Binär leitet sich von binarius ab, was sich as zweifach, doppelt übersetzt. Es geht hier um Zahlen.\n",
    "\n",
    "    - [x] Das kleinste mögliche (nützliche) System von Zeichen\n",
    "    - [x] Mögliche Repräsentationen von Binärcode\n",
    "    - [x] Ein Zahlensystem, das nur aus 1 und 0 besteht\n",
    "    - [x] In manchen Programmiersprachen mit den Wahreitswerten \"Falsch\" (0) und \"Wahr\" (1)\n",
    "        > Binäre Zahlen sind ein Zahlensystem mit nur den Ziffern 0 und 1 und somit das kleinste mögliche Zahlensystem. In Programmiersprachen oft als Repräsentation von Binärcode genutzt und durch die Wahreitswerten \"Falsch\" (0) und \"Wahr\" (1) ausgedrückt.\n",
    "\n",
    "    ### Was ist Binärcode?\n",
    "\n",
    "    > Binär leitet sich von binarius ab, was sich as zweifach, doppelt übersetzt. Es geht hier um Code.\n",
    "\n",
    "    - [x] Ein Code der durch Binären Zahlen representiert werden kann\n",
    "    - [x] Ein Code der durch boolesche Werte (Wahr/Falsch) representiert werden kann\n",
    "        > Ein Binärcode ist ein Code, in dem Informationen durch Sequenzen von zwei verschiedenen Symbolen (zum Beispiel 1/0 oder Wahr/Falsch) dargestellt werden.\n",
    "    - [x] Maschinencode eines Computerprogramms\n",
    "    - [ ] Ein Zahlensystem mit 10 Symbolen (0 bis 9)\n",
    "    - [ ] Ein Darstellung von Text in natürlicher Sprache\n",
    "    - [ ] Ein Darstellung von Grafikdateien\n",
    "\n",
    "    ### Was ist die AND Operation?\n",
    "\n",
    "    Was ist das Ergebnis der Operation für die folgende Eingangskombinationen auf A und B? <br>\n",
    "\n",
    "    ![AND Tabelle](../_images/03c_Operatoren/Logic_AND.svg)\n",
    "\n",
    "    > Übersetzt als die UND-Operation und verhält sich wie das UND in der Aussagenlogik.\n",
    "\n",
    "    1. [x] Falsch (0), Falsch (0) (0), Falsch (0) (0),   Wahr (0)\n",
    "        > Die AND-Operation (UND-Operation) ist eine grundlegende logische Operation in der Digitaltechnik und der Booleschen Algebra. Die AND-Operation gibt als Ergebnis \"1\" (Wahr) aus, wenn beide Eingangssignale \"1\" sind. Andernfalls gibt sie \"0\" (Falsch) aus.\n",
    "    1. [ ] Falsch (0),   Wahr (0),   Wahr (0),   Wahr (0)\n",
    "    1. [ ] Falsch (0),   Wahr (0),   Wahr (0), Falsch (0)\n",
    "    1. [ ]   Wahr (0),   Wahr (0),   Wahr (0), Falsch (0)\n",
    "    1. [ ]   Wahr (0), Falsch (0) (0), Falsch (0) (0), Falsch (0)\n",
    "\n",
    "    ### Was ist die OR Operation?\n",
    "\n",
    "    Was ist das Ergebnis der Operation für die folgende Eingangskombinationen auf A und B? <br>\n",
    "\n",
    "    ![OR Tabelle](../_images/03c_Operatoren/Logic_OR.svg)\n",
    "\n",
    "    > Übersetzt als die ODER-Operation und verhält sich wie das ODER in der Aussagenlogik.\n",
    "\n",
    "    1. [ ] Falsch (0), Falsch (0) (0), Falsch (0) (0),   Wahr (0)\n",
    "    1. [x] Falsch (0),   Wahr (0),   Wahr (0),   Wahr (0)\n",
    "        > Die OR-Operation (ODER-Operation) ist eine grundlegende logische Operation in der Booleschen Algebra und der Digitaltechnik.  Die OR-Operation gibt als Ergebnis \"1\" (Wahr) aus, wenn mindestens eines der Eingangssignale \"1\" ist. Sie gibt \"0\" (Falsch) aus, wenn beide Eingangssignale \"0\" sind.\n",
    "    1. [ ] Falsch (0),   Wahr (0),   Wahr (0), Falsch (0)\n",
    "    1. [ ]   Wahr (0),   Wahr (0),   Wahr (0), Falsch (0)\n",
    "    1. [ ]   Wahr (0), Falsch (0) (0), Falsch (0) (0), Falsch (0)\n",
    "\n",
    "    ### Was ist die XOR Operation?\n",
    "\n",
    "    Was ist das Ergebnis der Operation für die folgende Eingangskombinationen auf A und B? <br>\n",
    "\n",
    "    ![XOR Tabelle](../_images/03c_Operatoren/Logic_XOR.svg)\n",
    "\n",
    "    > Übersetzt als die Exklusiv-ODER-Operation und entspricht exklusiv dem Einen oder dem Anderen in der Aussagenlogik.\n",
    "\n",
    "    1. [ ] Falsch (0), Falsch (0) (0), Falsch (0) (0),   Wahr (0)\n",
    "    1. [ ] Falsch (0),   Wahr (0),   Wahr (0),   Wahr (0)\n",
    "    1. [x] Falsch (0),   Wahr (0),   Wahr (0), Falsch (0)\n",
    "        > Die XOR-Operation (Exklusiv-Oder-Operation) ist eine weitere grundlegende logische Operation in der Booleschen Algebra und der Digitaltechnik. Im Gegensatz zur OR-Operation, die Wahr (1) ausgibt, wenn mindestens eines der Eingangssignale Wahr ist, gibt die XOR-Operation nur dann Wahr aus, wenn genau ein Eingangssignal Wahr ist. Wenn beide Eingangssignale Wahr oder beide Falsch sind, gibt die XOR-Operation Falsch aus.\n",
    "    1. [ ]   Wahr (0),   Wahr (0),   Wahr (0), Falsch (0)\n",
    "    1. [ ]   Wahr (0), Falsch (0) (0), Falsch (0) (0), Falsch (0)\n",
    "\n",
    "    ### Was ist die NOT Operation?\n",
    "\n",
    "    Was ist das Ergebnis der Operation für die folgende Eingangsfolge auf A? <br>\n",
    "\n",
    "    ![NOT Tabelle](../_images/03c_Operatoren/Logic_NOT.svg)\n",
    "\n",
    "    > Übersetzt als die NICHT-Operation und entspricht der Negation.\n",
    "\n",
    "    1. [ ] Falsch (0), Falsch (0)\n",
    "    1. [ ] Falsch (0),   Wahr (0)\n",
    "    1. [x]   Wahr (0), Falsch (0)\n",
    "        > Die NOT-Operation (auch \"NICHT-Operation\" oder \"Invertierungsoperation\" genannt) ist eine grundlegende logische Operation in der Booleschen Algebra und der Digitaltechnik.  Die NOT-Operation kehrt den Zustand des Eingangssignals um. Wenn \"A\" Wahr (1) ist, wird \"NOT A\" Falsch (0), und wenn \"A\" Falsch (0) ist, wird \"NOT A\" Wahr (1).\n",
    "    1. [ ]   Wahr (0),   Wahr (0)\n",
    "\n",
    "    ### Was ist die NAND Operation?\n",
    "\n",
    "    Was ist das Ergebnis der Operation für die folgende Eingangskombinationen auf A und B? <br>\n",
    "\n",
    "    ![NAND Tabelle](../_images/03c_Operatoren/Logic_NAND.svg)\n",
    "\n",
    "    > Entspricht der negierten UND-Operation.\n",
    "\n",
    "    1. [ ] Falsch (0), Falsch (0) (0), Falsch (0) (0),   Wahr (0)\n",
    "    1. [ ] Falsch (0),   Wahr (0),   Wahr (0),   Wahr (0)\n",
    "    1. [ ] Falsch (0),   Wahr (0),   Wahr (0), Falsch (0)\n",
    "    1. [x]   Wahr (0),   Wahr (0),   Wahr (0), Falsch (0)\n",
    "        > Die NAND-Operation ist eine grundlegende logische Operation in der Booleschen Algebra und der Digitaltechnik. Der Name \"NAND\" steht für \"NOT AND,\" was darauf hinweist, dass die NAND-Operation eine Kombination aus der AND-Operation und der NOT-Operation ist und das Gegenteil des Ergebnisses der AND-Operation ausgibt.  Die NAND-Operation ergibt \"1\" (Wahr), es sei denn, beide Eingangssignale sind \"1.\" In diesem Fall ergibt sie \"0\" (Falsch).\n",
    "    1. [ ]   Wahr (0), Falsch (0) (0), Falsch (0) (0), Falsch (0)\n",
    "\n",
    "    ### Was ist die NOR Operation?\n",
    "\n",
    "    Was ist das Ergebnis der Operation für die folgende Eingangskombinationen auf A und B? <br>\n",
    "\n",
    "    ![NOR Tabelle](../_images/03c_Operatoren/Logic_NOR.svg)\n",
    "\n",
    "    > Entspricht der negierten ODER-Operation.\n",
    "\n",
    "    1. [ ] Falsch (0), Falsch (0) (0), Falsch (0) (0),   Wahr (0)\n",
    "    1. [ ] Falsch (0),   Wahr (0),   Wahr (0),   Wahr (0)\n",
    "    1. [ ] Falsch (0),   Wahr (0),   Wahr (0), Falsch (0)\n",
    "    1. [ ]   Wahr (0),   Wahr (0),   Wahr (0), Falsch (0)\n",
    "    1. [x]   Wahr (0), Falsch (0) (0), Falsch (0) (0), Falsch (0)\n",
    "        > Die NOR-Operation ist eine grundlegende logische Operation in der Booleschen Algebra und der Digitaltechnik. Der Name \"NOR\" steht für \"NOT OR,\" was darauf hinweist, dass die NOR-Operation eine Kombination aus der OR-Operation und der NOT-Operation ist und das Gegenteil des Ergebnisses der OR-Operation ergibt.  Die NAND-Operation ergibt \"1\" (Wahr), es sei denn, beide Eingangssignale sind \"1.\" In diesem Fall ergibt sie \"0\" (Falsch).\n",
    "\n",
    "    ### Was ist die XNOR Operation?\n",
    "\n",
    "    Was ist das Ergebnis der Operation für die folgende Eingangskombinationen auf A und B? <br>\n",
    "\n",
    "    ![XNOR Tabelle](../_images/03c_Operatoren/Logic_XNOR.svg)\n",
    "\n",
    "    > Entspricht der negierten Exklusiv-Oder-Operation.\n",
    "\n",
    "    1. [ ] Falsch (0), Falsch (0) (0), Falsch (0) (0),   Wahr (0)\n",
    "    1. [ ] Falsch (0),   Wahr (0),   Wahr (0),   Wahr (0)\n",
    "    1. [ ] Falsch (0),   Wahr (0),   Wahr (0), Falsch (0)\n",
    "    1. [ ]   Wahr (0),   Wahr (0),   Wahr (0), Falsch (0)\n",
    "    1. [x]   Wahr (0), Falsch (0) (0), Falsch (0) (0),   Wahr (0)\n",
    "        > Die XNOR-Operation (auch als Äquivalenzoperation bezeichnet) ist eine logische Operation in der Booleschen Algebra und der Digitaltechnik. Der Name \"XNOR\" steht für \"NOT XOR\" und zeigt an, dass es eine Kombination aus der XOR-Operation und der NOT-Operation ist und das Gegenteil des Ergebnisses der XOR-Operation ergibt. Die XNOR-Operation ergibt \"1\" (Wahr), wenn beide Eingangssignale gleich sind (entweder beide \"0\" oder beide \"1\"). Sie ergibt \"0\" (Falsch), wenn die Eingangssignale unterschiedlich sind (eins \"0\" und das andere \"1\").\n",
    "\n",
    "\n",
    "    ### Wie verknüpft man mehrere logische Bedingungen in Python?\n",
    "\n",
    "    - [x] Mit `AND`, `OR`, `NOT`\n",
    "    - [ ] Mit `&&`, `||`, `!`\n",
    "    - [ ] Mit `+`, `-`, `*`\n",
    "    - [ ] Mit `COMBINE`, `MERGE`, `JOIN`\n",
    "    - [ ] Mit `IF`, `ELSE`, `THEN`\n",
    "```\n"
   ]
  },
  {
   "cell_type": "markdown",
   "metadata": {
    "slideshow": {
     "slide_type": "slide"
    },
    "tags": [
     "remove-cell"
    ]
   },
   "source": [
    "<div class=\"vslide\">\n",
    "  <div class=\"vslide-title\">\n",
    "    <p style=\"font-family: Protomolecule; font-size: 2.3em; margin: 0px auto; text-align: center; width: 100%;\">fragen?</p>\n",
    "  </div>\n",
    "  <script>setSectionBackground('#000000', 'images/mj_questions.mp4');</script>\n",
    "</div>"
   ]
  }
 ],
 "metadata": {
  "kernelspec": {
   "display_name": "Python 3 (ipykernel)",
   "language": "python",
   "name": "python3"
  },
  "language_info": {
   "codemirror_mode": {
    "name": "ipython",
    "version": 3
   },
   "file_extension": ".py",
   "mimetype": "text/x-python",
   "name": "python",
   "nbconvert_exporter": "python",
   "pygments_lexer": "ipython3",
   "version": "3.12.10"
  },
  "rise": {
   "auto_select": "none",
   "center": false,
   "enable_chalkboard": true,
   "header": "<img src=\"images/pd_logo.svg\" class=\"header_title_logo\"><img src=\"images/ai4sc_logo_v2.svg\" class=\"header_ai4sc_logo\">",
   "scroll": true,
   "show_buttons_on_startup": false,
   "slideNumber": true,
   "theme": "white"
  },
  "vscode": {
   "interpreter": {
    "hash": "c6f6ea9c9385f57658f4c302ffd3b717b6cd59b095fbd1c55795f0b67656eecd"
   }
  }
 },
 "nbformat": 4,
 "nbformat_minor": 4
}
