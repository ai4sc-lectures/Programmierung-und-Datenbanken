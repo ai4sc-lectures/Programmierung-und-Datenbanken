{
 "cells": [
  {
   "cell_type": "markdown",
   "metadata": {
    "editable": true,
    "slideshow": {
     "slide_type": "slide"
    },
    "tags": [
     "remove-cell"
    ]
   },
   "source": [
    "<div class=\"vslide\">\n",
    "  <div class=\"vslide-title\">\n",
    "    <p style=\"font-family: Protomolecule; font-size: 2.3em; line-height: 90%; margin: 0px auto; text-align: center; width: 100%;\"><span style=\"letter-spacing: .04rem;\">programmierung</span><br><span style=\"letter-spacing: .0rem;\">und datenbanken</span></p>\n",
    "<p class=\"author\" style=\"font-family: Protomolecule; margin: 0px auto;  text-align: center; width: 100%; font-size: 1.2em;\">Joern Ploennigs</p>\n",
    "<p class=\"subtitle\" style=\"font-family: Protomolecule; margin: 1em auto; text-align: center; width: 100%; font-size: 1.2em;\">Datenbanktypen</p>\n",
    "    <figcaption>Midjourney: Database Tree, ref. Gustav Klimt</figcaption>\n",
    "  </div>\n",
    "<script>\n",
    "  function setSectionBackground(c,v){\n",
    "    let e=document.currentScript.previousElementSibling;\n",
    "    while(e&&e.tagName!=='SECTION')e=e.parentElement;\n",
    "    if(e){\n",
    "      if(c)e.setAttribute('data-background-color',c);\n",
    "      if(v){\n",
    "        e.setAttribute('data-background-video',v);\n",
    "        e.setAttribute('data-background-video-loop','true');\n",
    "        e.setAttribute('data-background-video-muted','true');\n",
    "      }\n",
    "    }\n",
    "  }\n",
    "  setSectionBackground('#000000', 'images/10a_Datenbanktypen/mj_title.mp4');\n",
    "</script>\n",
    "<style>\n",
    ".flex-row{display:flex; gap:2rem; align-items:flex-start; justify-content:space-between;}\n",
    ".flex-row .col1{flex:1; min-width:10px}\n",
    ".flex-row .col2{flex:2; min-width:10px}\n",
    ".flex-row .col3{flex:3; min-width:10px}\n",
    ".flex-row .col4{flex:4; min-width:10px}\n",
    ".flex-row .col5{flex:5; min-width:10px}\n",
    ".flex-row .col6{flex:6; min-width:10px}\n",
    ".flex-row .col7{flex:7; min-width:10px}\n",
    ".vcent{display:flex; align-items:center; justify-content:center}\n",
    "</style>\n",
    "</div>"
   ]
  },
  {
   "cell_type": "markdown",
   "metadata": {
    "editable": true,
    "slideshow": {
     "slide_type": "skip"
    },
    "tags": []
   },
   "source": [
    "# Datenbanktypen"
   ]
  },
  {
   "cell_type": "markdown",
   "metadata": {
    "editable": true,
    "slideshow": {
     "slide_type": "skip"
    },
    "tags": []
   },
   "source": [
    "<figure class=\"mj-tile-band\">\n",
    "    <img src='images/10a_Datenbanktypen/mj_title_band.jpg'>\n",
    "    <figcaption>Midjourney: Database Tree, ref. Gustav Klimt</figcaption>\n",
    "</figure>\n",
    "\n",
    "> Eventually, you have to throw the data over a wall.\n",
    ">\n",
    "> — Pat Helland"
   ]
  },
  {
   "cell_type": "markdown",
   "metadata": {
    "editable": true,
    "slideshow": {
     "slide_type": "skip"
    },
    "tags": []
   },
   "source": [
    "## <a href=\"/lec_slides/10a_Datenbanktypen.slides.html\">Folien</a>/<a href=\"/pdf/slides/10a_Datenbanktypen.pdf\">PDF</a>\n",
    "<iframe src=\"/lec_slides/10a_Datenbanktypen.slides.html\" width=\"750\" height=\"500\"></iframe>"
   ]
  },
  {
   "cell_type": "markdown",
   "metadata": {
    "editable": true,
    "slideshow": {
     "slide_type": "slide"
    },
    "tags": [
     "remove-cell"
    ]
   },
   "source": [
    "## Ablauf\n",
    "\n",
    "![](images/partB_2.svg)"
   ]
  },
  {
   "cell_type": "markdown",
   "metadata": {
    "slideshow": {
     "slide_type": "skip"
    }
   },
   "source": [
    "## Grundlagen und Definitionen\n",
    "\n",
    "In vielen Softwarelösungen sind die zu verwaltenden Daten so groß, dass es nicht mehr effizient ist, sie in Dateien zu verwalten. Stattdessen speichert man sie in Datenbanken. Datenbanken ermöglichen es verschiedenen Anwendungen, gleichzeitig auf dieselben Daten zuzugreifen, ohne dass Konflikte entstehen. Sie können sehr große Datenmengen verwalten und organisieren diese in strukturierte Formate. Datenbanken sind wie folgt definiert:\n",
    "\n",
    "<div class=\"alert alert-block alert-success\">\n",
    "<b>📘 Definition: Datenbank</b>\n",
    "\n",
    "Unter einer *Datenbank (DB)* versteht man die logisch zusammengehörenden Daten, die von einem *DBMS (Datenbankmanagementsystem)* verwaltet werden\n",
    "</div>\n",
    "\n",
    "<div class=\"alert alert-block alert-success\">\n",
    "<b>📘 Definition: Datenbanksystem</b>\n",
    "\n",
    "Datenbank und Datenbankmanagementsystem zusammen bezeichnet man als *Datenbanksystem*\n",
    "</div>\n",
    "\n",
    "Eine Datenbank umfasst alle logisch zusammengehörenden Daten, die von einem Datenbankmanagementsystem verwaltet werden. Das Datenbanksystem bezeichnet die Kombination aus Datenbank und DBMS. Zur Datenbank gehören neben den eigentlichen Nutzdaten auch alle verwaltungstechnischen Objekte wie Indizes und Logdateien, die das System für eine effiziente Verwaltung benötigt. Die langfristige Speicherung wird durch Persistierung gewährleistet, während Indexierung schnelle Suchvorgänge ermöglicht. Transaktionen sorgen für sichere Datenänderungen, und Logs dokumentieren alle Operationen nachvollziehbar. \n",
    "\n",
    "Für Ingenieure bedeutet dies beispielsweise, dass Projektdaten, Kostenschätzungen und Zeitpläne zentral verwaltet werden können, wobei verschiedene Teammitglieder gleichzeitig arbeiten können, ohne dass Dateninkonsistenzen auftreten."
   ]
  },
  {
   "cell_type": "markdown",
   "metadata": {
    "slideshow": {
     "slide_type": "skip"
    }
   },
   "source": [
    "## Dateien versus Datenbanken\n",
    "\n",
    "Bei dateibasierten Systemen strukturiert jede Anwendung ihre Daten individuell nach eigenen Anforderungen. Dies führt häufig zu Redundanzen und Inkonsistenzen, da dieselben Informationen in verschiedenen Formaten mehrfach gespeichert werden. Datenbanken lösen dieses Problem durch eine einheitliche Datenstruktur, auf die alle Anwendungen zugreifen. Das DBMS koordiniert alle Zugriffe und stellt sicher, dass Änderungen synchronisiert und protokolliert werden.\n",
    "\n",
    "Ein praktisches Beispiel aus dem Bauingenieurwesen zeigt den Unterschied deutlich: Traditionell könnte die Buchhaltung Kostendaten in Excel verwalten, während die Projektleitung separate Zeitpläne in spezieller Software führt. Bei einem datenbankbasierten Ansatz greifen beide auf dieselbe zentrale Datenquelle zu, wodurch automatisch konsistente und aktuelle Berichte über Projektkosten und Fortschritt erstellt werden können.\n",
    "\n",
    "\n",
    "<div class=\"flex-row\">\n",
    "  <div class=\"col1\">\n",
    "\n",
    "![](images/10a_Datenbanktypen/basic_files.svg)\n",
    "\n",
    "  </div>\n",
    "  <div class=\"col1\"> \n",
    "\n",
    "![](images/10a_Datenbanktypen/basic_database.svg)\n",
    "\n",
    "  </div>\n",
    "</div>\n"
   ]
  },
  {
   "cell_type": "markdown",
   "metadata": {
    "slideshow": {
     "slide_type": "skip"
    }
   },
   "source": [
    "## Die Codd'schen Regeln\n",
    "\n",
    "Edgar Codd definierte neun grundlegende Prinzipien für Datenbanksysteme. Seine Motivation war es, klare, überprüfbare Kriterien zu definieren, die Datenbanken erfüllen müssen. Aus dieser Überprüfung leitete er präzise Regeln ab, die sicherstellen sollten, dass ein System Konsistenz, Datenunabhängigkeit und deklarativen Zugriff konsequent umsetzt.\n",
    "\n",
    "- *Integration*: einheitliche, nichtredundante Datenverwaltung\n",
    "- *Operationen*: Speichern, Suchen, Ändern\n",
    "- *Katalog*: Zugriffe auf Datenbankbeschreibungen im Data Dictionary\n",
    "- *Benutzersichten*: Jeder Nutzer sieht die Daten die er sehen darf in der Art wie er sie sehen möchte\n",
    "- *Integritätssicherung*: Korrektheit des Datenbankinhalts\n",
    "- *Datenschutz*: Ausschluss unauthorisierter Zugriffe, nur berechtigte Nutzer\n",
    "- *Transaktionen*: mehrere DB-Operationen als Funktionseinheit (ganz oder gar nicht)\n",
    "- *Synchronisation*: parallele Transaktionen koordinieren\n",
    "- *Datensicherung*: Wiederherstellung von Daten nach Systemfehlern"
   ]
  },
  {
   "cell_type": "markdown",
   "metadata": {
    "slideshow": {
     "slide_type": "skip"
    }
   },
   "source": [
    "## Datenbanktypen\n",
    "\n",
    "Über die Jahrzehnte haben sich unterschiedliche Datenbanktypen herausgebildet, die für unterschiedliche Daten und Anwendungen besonders geeignet sind.\n",
    "\n",
    "![Verteilung der Datenbanktypen](images/10a_Datenbanktypen/databases.svg)\n"
   ]
  },
  {
   "cell_type": "markdown",
   "metadata": {
    "slideshow": {
     "slide_type": "skip"
    }
   },
   "source": [
    "### Relationale Datenbanken\n",
    "\n",
    "Relationale Datenbankmanagementsysteme dominieren seit den 1980er Jahren und basieren auf dem tabellenorientierten Datenmodell. Jede Tabelle besitzt ein festes Schema mit definierten Spalten und Datentypen. Diese starke Strukturierung macht relationale Datenbanken ideal für gut strukturierte Geschäftsdaten.\n",
    "\n",
    "SQL dient als Standardsprache für alle Datenbankoperationen. Eine typische Anwendung ist eine Projektdatenbank mit Tabellen für Projekte, Mitarbeiter, Materialien und Kosten, wobei komplexe Abfragen wie \"alle Projekte über Budget mit Laufzeit über sechs Monate\" einfach realisierbar sind.\n",
    "\n",
    "Populäre Systeme: Oracle, MySQL, Microsoft SQL Server, PostgreSQL, IBM Db2"
   ]
  },
  {
   "cell_type": "markdown",
   "metadata": {
    "slideshow": {
     "slide_type": "skip"
    }
   },
   "source": [
    "### NoSQL-Datenbanken\n",
    "\n",
    "NoSQL-Systeme verzichten auf das relationale Datenmodell und haben seit 2009 stark an Bedeutung gewonnen. Sie entstanden als Antwort auf die Herausforderungen moderner Webanwendungen, die hohe Skalierbarkeit, Fehlertoleranz und die Verarbeitung von Big Data erfordern. Besonders wichtig ist ihre Fähigkeit, semi-strukturierte Daten wie JSON zu handhaben, die sich nicht in ein starres Tabellenschema pressen lassen.\n",
    "\n",
    "Populäre Systeme: MongoDB, CouchDB, Cassandra, Redis, Neo4j, Amazon DynamoDB, HBase, OrientDB"
   ]
  },
  {
   "cell_type": "markdown",
   "metadata": {
    "slideshow": {
     "slide_type": "skip"
    }
   },
   "source": [
    "### Dokumentenorientierte Datenbanken\n",
    "\n",
    "Document Stores bieten maximale Flexibilität durch schemafreie Organisation. Datensätze können völlig unterschiedliche Strukturen haben, Spalten können verschiedene Datentypen enthalten oder sogar Arrays aufnehmen. Die Verschachtelung ermöglicht hierarchische Datenstrukturen, die meist in JSON-Format dargestellt werden.\n",
    "\n",
    "Für Umweltingenieure ist dies besonders wertvoll bei der Dokumentation von Umweltproben, wo verschiedene Standorte unterschiedliche Messparameter haben können. Ein Gewässerstandort könnte pH-Wert, Temperatur und Sauerstoffgehalt messen, während ein anderer zusätzlich Schwermetallkonzentrationen erfasst. Jeder Standort kann seine spezifische Datenstruktur in der dokumentenorientierten Datenbank abbilden.\n",
    "\n",
    "Populäre Systeme: MongoDB, Amazon DynamoDB, Databricks, Azure Cosmos DB, Couchbase"
   ]
  },
  {
   "cell_type": "markdown",
   "metadata": {
    "slideshow": {
     "slide_type": "skip"
    }
   },
   "source": [
    "### Key-Value Datenbanken\n",
    "\n",
    "Key-Value Stores funktionieren ähnlich wie Python-Dictionaries und speichern einfache Schlüssel-Wert-Paare. Ihre Einfachheit macht sie attraktiv für ressourcenbegrenzte Systeme wie embedded PCs und für die schnelle Entwicklung von Web-Interfaces. Sie eignen sich besonders für Caching-Anwendungen und Session-Management.\n",
    "\n",
    "In Smart-Building-Systemen können Sensordaten effizient als Key-Value-Paare gespeichert werden. Ein Temperatursensor in Raum 101 würde unter dem Schlüssel \"Sensor_Raum_101_Temperatur\" den aktuellen Wert speichern, was schnelle Zugriffe für die Gebäudesteuerung ermöglicht.\n",
    "\n",
    "Populäre Systeme: Redis, Amazon DynamoDB, Azure Cosmos DB, Memcached, Hazelcast\n"
   ]
  },
  {
   "cell_type": "markdown",
   "metadata": {
    "slideshow": {
     "slide_type": "skip"
    }
   },
   "source": [
    "### Suchmaschinen-Datenbanken\n",
    "\n",
    "Diese spezialisierten NoSQL-Systeme sind für die Suche in Textinhalten optimiert. Sie unterstützen komplexe Suchbegriffe mit booleschen Operatoren, führen Volltextsuchen durch und können Wörter auf ihre Stammformen reduzieren. Die Ergebnisse werden nach Relevanz sortiert und können gruppiert werden, wobei die Suche auf mehrere Server verteilt werden kann.\n",
    "\n",
    "Umweltbehörden profitieren besonders von solchen Systemen, wenn sie tausende von Gutachten, Berichten und Studien durchsuchbar machen müssen. Eine Suchanfrage nach Grundwasserkontaminationen in Industriegebieten würde alle relevanten Dokumente finden und nach ihrer Relevanz für die spezifische Fragestellung sortieren.\n",
    "\n",
    "Populäre Systeme: Elasticsearch, Splunk, Solr, OpenSearch, MarkLogic"
   ]
  },
  {
   "cell_type": "markdown",
   "metadata": {
    "slideshow": {
     "slide_type": "skip"
    }
   },
   "source": [
    "### Graphdatenbanken\n",
    "\n",
    "Graph-Datenbanken modellieren Daten als Netzwerk von Knoten und Verbindungen, wodurch sie sich ideal für die Analyse von Beziehungen eignen. Sie ermöglichen Netzwerkanalysen, die Modellierung sozialer Strukturen und die Entwicklung von Empfehlungssystemen.\n",
    "\n",
    "Bei Bauprojekten können Graphdatenbanken die komplexen Abhängigkeiten zwischen Infrastrukturelementen abbilden. In einer Stadtsanierung würden Knoten Straßen, Gebäude und Versorgungsleitungen repräsentieren, während die Verbindungen die Abhängigkeiten zwischen den Sanierungsarbeiten darstellen. Dies ermöglicht eine optimale Planung der Arbeitsreihenfolge.\n"
   ]
  },
  {
   "cell_type": "markdown",
   "metadata": {
    "slideshow": {
     "slide_type": "skip"
    }
   },
   "source": [
    "### Auswahlkriterien für Datenbanktypen\n",
    "\n",
    "Die Wahl des geeigneten Datenbanktyps hängt von mehreren Faktoren ab. Strukturierte Daten mit klaren Beziehungen eignen sich für relationale Datenbanken, während flexible oder sich ändernde Datenstrukturen NoSQL-Lösungen favorisieren. Skalierungsanforderungen spielen eine wichtige Rolle, ebenso wie die Komplexität der benötigten Abfragen.\n",
    "\n",
    "Moderne Infrastrukturprojekte nutzen häufig mehrere Datenbanktypen gleichzeitig. Ein Smart-City-Projekt könnte relationale Datenbanken für Verwaltungsdaten, Graphdatenbanken für Verkehrsflussanalysen, Key-Value-Stores für Sensor-Caching und Suchmaschinen-Datenbanken für die Dokumentenverwaltung kombinieren."
   ]
  },
  {
   "cell_type": "markdown",
   "metadata": {
    "editable": true,
    "slideshow": {
     "slide_type": "slide"
    },
    "tags": [
     "remove-cell"
    ]
   },
   "source": [
    "## Datenbanken Definition \n",
    "\n",
    "<div class=\"alert alert-block alert-success\">\n",
    "<b>📘 Definition: Datenbank</b>\n",
    "\n",
    "Unter einer *Datenbank (DB)* versteht man die logisch zusammengehörenden Daten, die von einem *DBMS (Datenbankmanagementsystem)* verwaltet werden\n",
    "</div>\n",
    "\n",
    "<div class=\"alert alert-block alert-success\">\n",
    "<b>📘 Definition: Datenbanksystem</b>\n",
    "\n",
    "Datenbank und Datenbankmanagementsystem zusammen bezeichnet man als *Datenbanksystem*\n",
    "</div>\n",
    "\n",
    "Zur Datenbank gehören neben den reinen 'Nutzdaten' auch die für die Verwaltung vom Datenbankmanagementsystem angelegten Objekte (beispielsweise Indizes und Logdateien)\n"
   ]
  },
  {
   "attachments": {},
   "cell_type": "markdown",
   "metadata": {
    "editable": true,
    "slideshow": {
     "slide_type": "subslide"
    },
    "tags": [
     "remove-cell"
    ]
   },
   "source": [
    "## Warum bringen wir Geld „auf die Bank\"?\n",
    "\n",
    "<div class=\"flex-row\">\n",
    "  <div class=\"col4\">\n",
    "\n",
    "- Zentrale und langfristige Aufbewahrung\n",
    "- Sicherung vor Verlusten\n",
    "- Effizienz durch spezielles Dienstleistungsangebot (Daueraufträge, Portfolio, …)\n",
    "- Übersicht behalten\n",
    "- Vernetzung mit dem globalen Finanznetzwerk\n",
    "\n",
    "  </div>\n",
    "  <div class=\"col6\"> \n",
    "    <figure class=\"mj-fig\">\n",
    "        <img src=\"images/10a_Datenbanktypen/mj_thief.png\" class=\"mj-fig-img\">\n",
    "        <figcaption class=\"mj-fig-cap\">\n",
    "            Midjourney: thief breaking into a bank safe\n",
    "        </figcaption>\n",
    "    </figure>\n",
    "  </div>\n",
    "</div>"
   ]
  },
  {
   "attachments": {},
   "cell_type": "markdown",
   "metadata": {
    "editable": true,
    "slideshow": {
     "slide_type": "subslide"
    },
    "tags": [
     "remove-cell"
    ]
   },
   "source": [
    "## Warum bringen wir Daten auf die „Bank\"? \n",
    "\n",
    "- *Effizienter* speichern und laden von Daten durch verschiedenen Clients (Webserver, Geräte, etc.)\n",
    "- *Verwaltung* von sehr (sehr) großen Datenmengen (Skalierbarkeit)\n",
    "- *Organisation* der Daten in vorgegebene Datenstrukturen (Normalisierung)\n",
    "- *Langfristiges* speichern der Daten (Persistierung)\n",
    "- *Schnelles* suchen der Daten durch Indexierung\n",
    "- *Abgesicherte* Prozesse zum Ändern der Daten (Transaktionen)\n",
    "- *Nachvollziehbares* Verändern von Daten durch Transaktions-Logs\n",
    "- *Automatische* Datenanalyse (OLAP)"
   ]
  },
  {
   "attachments": {},
   "cell_type": "markdown",
   "metadata": {
    "editable": true,
    "slideshow": {
     "slide_type": "subslide"
    },
    "tags": [
     "remove-cell"
    ]
   },
   "source": [
    "## Grundkonzepte Dateien\n",
    "\n",
    "- Struktur: Jede Anwendung strukturiert die Daten entsprechend der darin vorkommenden Datenarten (Format, Struktur …).\n",
    "- Dateisystem: Jede Anwendung legt die Daten entsprechend seiner Anforderungen (Zugriff, Endung, Ort …) ab.\n",
    "\n",
    "![](images/10a_Datenbanktypen/basic_files.svg)"
   ]
  },
  {
   "cell_type": "markdown",
   "metadata": {
    "editable": true,
    "slideshow": {
     "slide_type": "subslide"
    },
    "tags": [
     "remove-cell"
    ]
   },
   "source": [
    "## Grundkonzepte Datenbanken\n",
    "\n",
    "- Struktur: Alle Anwendung nutzen die gleiche Struktur die in der Datenbank modelliert wurde\n",
    "- Dateisystem: Alle Anwendungen greifen auf die gleichen Daten zu. Zugriffe werden durch Transaktionen synchronisiert und protokolliert.\n",
    "\n",
    "![](images/10a_Datenbanktypen/basic_database.svg)"
   ]
  },
  {
   "cell_type": "markdown",
   "metadata": {
    "editable": true,
    "slideshow": {
     "slide_type": "subslide"
    },
    "tags": [
     "remove-cell"
    ]
   },
   "source": [
    "## Die Codd'schen Regeln (Codd, 1985, 1990) \n",
    "\n",
    "- *Integration*: einheitliche, nichtredundante Datenverwaltung\n",
    "- *Operationen*: Speichern, Suchen, Ändern\n",
    "- *Katalog*: Zugriffe auf Datenbankbeschreibungen im Data Dictionary\n",
    "- *Benutzersichten*: Jeder Nutzer sieht die Daten die er sehen darf in der Art wie er sie sehen möchte\n",
    "- *Integritätssicherung*: Korrektheit des Datenbankinhalts\n",
    "- *Datenschutz*: Ausschluss unauthorisierter Zugriffe, nur berechtigte Nutzer\n",
    "- *Transaktionen*: mehrere DB-Operationen als Funktionseinheit (ganz oder gar nicht)\n",
    "- *Synchronisation*: parallele Transaktionen koordinieren\n",
    "- *Datensicherung*: Wiederherstellung von Daten nach Systemfehlern"
   ]
  },
  {
   "cell_type": "markdown",
   "metadata": {
    "editable": true,
    "slideshow": {
     "slide_type": "slide"
    },
    "tags": [
     "remove-cell"
    ]
   },
   "source": [
    "## Datenbanken Typen - Übersicht\n",
    "\n",
    "![Verteilung der Datenbanktypen](images/10a_Datenbanktypen/databases.svg)"
   ]
  },
  {
   "cell_type": "markdown",
   "metadata": {
    "editable": true,
    "slideshow": {
     "slide_type": "subslide"
    },
    "tags": [
     "remove-cell"
    ]
   },
   "source": [
    "## Relationale Datenbanken \n",
    "\n",
    "*RDBMS* werden bereits seit Anfang der 1980er Jahre verwendet und basieren auf dem relationalen (=tabellenorientierten) Datenmodell\n",
    "- Das Schema einer Tabelle (=Relationenschema) ist definiert durch den Tabellennamen und eine fixe Anzahl von Attributen (=Spalten) mit entsprechenden Datentypen\n",
    "- Da Daten in Tabellen organisiert werden, sind sie stark strukturiert mit einer durch die Tabelle definierten Struktur (Normalisierung)\n",
    "- Die Standardsprache zum Aufbau/Änderung/Löschen ist *SQL*\n",
    "\n",
    "- Populäre Systeme: Oracle, MySQL, Microsoft SQL Server, PostgreSQL, IBM Db2"
   ]
  },
  {
   "cell_type": "markdown",
   "metadata": {
    "editable": true,
    "slideshow": {
     "slide_type": "subslide"
    },
    "tags": [
     "remove-cell"
    ]
   },
   "source": [
    "## NoSQL Datenbanken \n",
    "\n",
    "*NoSQL* Datenbankmanagementsysteme sind Datenbanken die kein relationales (=tabellenorientierten) Datenmodell verwenden und damit in der Regel auch kein SQL unterstützen\n",
    "\n",
    "- Sie finden seit etwa *2009* zunehmend Verbreitung\n",
    "\n",
    "- Populäre Systeme: MongoDB, CouchDB, Cassandra, Redis, Neo4j, Amazon DynamoDB, HBase, OrientDB\n",
    "\n",
    "- *Hauptgründe*:\n",
    "  - Hohe Anforderungen an Skalierbarkeit\n",
    "  - Fehlertoleranz moderner Web-Applikationen\n",
    "  - Big Data Szenarien\n",
    "  - Daten sind oft nur semi-strukturiert (lassen sich nicht in ein Schema pressen)\n"
   ]
  },
  {
   "cell_type": "markdown",
   "metadata": {
    "editable": true,
    "slideshow": {
     "slide_type": "subslide"
    },
    "tags": [
     "remove-cell"
    ]
   },
   "source": [
    "## Dokumentenorientierte Datenbanken \n",
    "\n",
    "*Document Stores* zeichnen sich durch eine *schemafreie* Organisation der Daten aus:\n",
    "\n",
    "- Datensätze haben keine einheitliche Struktur\n",
    "- Die Typen der Werte einzelner Spalten können pro Datensatz unterschiedlich sein\n",
    "- Spalten können mehr als einen Wert haben (Arrays)\n",
    "- Datensätze können eine verschachtelte Struktur haben\n",
    "- Zur Darstellung der „Dokumente\" wird meist *JSON* verwendet\n",
    "\n",
    "- Populäre Systeme: MongoDB, Amazon DynamoDB, Databricks, Azure Cosmos DB, Couchbase\n"
   ]
  },
  {
   "cell_type": "markdown",
   "metadata": {
    "editable": true,
    "slideshow": {
     "slide_type": "subslide"
    },
    "tags": [
     "remove-cell"
    ]
   },
   "source": [
    "## Key-Value Datenbanken \n",
    "\n",
    "*Key-Value Stores* sind die wohl einfachste Form von Datenbankmanagementsystemen\n",
    "- Sie können lediglich Paare von Schlüsseln und Werten abspeichern, sowie die Werte anhand des Schlüssels wieder zurückliefern\n",
    "- Damit ähneln sie dem *dict* in Python\n",
    "- Diese Einfachheit macht sie attraktiv für:\n",
    "  - Ressourcenbegrenzte Systeme wie embedded PCs\n",
    "  - Entwicklung von Web-Interfaces\n",
    "\n",
    "- Populäre Systeme: Redis, Amazon DynamoDB, Azure Cosmos DB, Memcached, Hazelcast"
   ]
  },
  {
   "cell_type": "markdown",
   "metadata": {
    "editable": true,
    "slideshow": {
     "slide_type": "subslide"
    },
    "tags": [
     "remove-cell"
    ]
   },
   "source": [
    "## Suchmaschinen Datenbanken \n",
    "\n",
    "*Suchmaschinen* sind NoSQL DBMS spezialisiert auf die Suche nach Dateninhalten wie Text:\n",
    "\n",
    "- Features\n",
    "    - Unterstützung komplexer Suchbegriffe\n",
    "    - Volltextsuche\n",
    "    - Stemming (Stammformreduktion eines Wortes)\n",
    "    - Ergebnisreihung\n",
    "    - Gruppierung von Suchergebnissen\n",
    "    - Verteilte Suche für hohe Skalierbarkeit\n",
    "\n",
    "- Populäre Systeme: Elasticsearch, Splunk, Solr, OpenSearch, MarkLogic"
   ]
  },
  {
   "cell_type": "markdown",
   "metadata": {
    "editable": true,
    "slideshow": {
     "slide_type": "subslide"
    },
    "tags": [
     "remove-cell"
    ]
   },
   "source": [
    "## Graphdatenbanken \n",
    "\n",
    "*Graph DBMS* stellen Datensätze in Form von *Knoten (Nodes)* und *Beziehungen (Edges)* zueinander dar\n",
    "- Sie ermöglichen insbesondere die *Modellierung von Verbindungen*\n",
    "- Ideal für Netzwerkanalysen, soziale Netzwerke, Empfehlungssysteme\n",
    "- Populäre Systeme: Neo4j, Microsoft Azure Cosmos DB, Virtuoso, IBM KITT"
   ]
  },
  {
   "cell_type": "markdown",
   "metadata": {
    "editable": true,
    "slideshow": {
     "slide_type": "subslide"
    },
    "tags": [
     "remove-cell"
    ]
   },
   "source": [
    "## Datenbanken Typen in der Vorlesung \n",
    "\n",
    "- Fokus auf: *Relationale DB* (71.9%)\n",
    "    - Einfach zu benutzen\n",
    "    - Meist verbreitet\n",
    "    - Solide Grundlage\n",
    "\n",
    "- Auch: Key-Value DB:\n",
    "    - Einfache Konzepte\n",
    "    - Praktische Übungen"
   ]
  },
  {
   "cell_type": "markdown",
   "metadata": {
    "editable": true,
    "slideshow": {
     "slide_type": "subslide"
    },
    "tags": [
     "remove-cell"
    ]
   },
   "source": [
    "## Datenbanken in Python \n",
    "\n",
    "<div class=\"flex-row\">\n",
    "  <div class=\"col1\">\n",
    "\n",
    "- Zugriff über jeweils passende Bibliothek der Datenbank\n",
    "- Oracle, Redis, MongoDB, etc.\n",
    "\n",
    "  </div>\n",
    "  <div class=\"col1\">\n",
    "\n",
    "```python\n",
    "from replit import db\n",
    "\n",
    "# Daten speichern\n",
    "db[\"entry\"] = 5\n",
    "\n",
    "# Daten abrufen\n",
    "value = db[\"entry\"]\n",
    "print(value)  # Output: 5\n",
    "```\n",
    "\n",
    "  </div>\n",
    "</div>\n"
   ]
  },
  {
   "cell_type": "markdown",
   "metadata": {
    "editable": true,
    "slideshow": {
     "slide_type": "skip"
    },
    "tags": []
   },
   "source": [
    "## Quiz\n",
    "\n",
    "\n",
    "```{quizdown}\n",
    "    ---\n",
    "    shuffleQuestions: true\n",
    "    shuffleAnswers: true\n",
    "    ---\n",
    "\n",
    "    ### Welche Python-Pakete werden zum Laden von CSV-Daten aus dem Internet verwendet?\n",
    "\n",
    "    - [x] `urllib` und `pandas`\n",
    "    - [ ] `requests` und `numpy`\n",
    "    - [ ] `json` und `matplotlib`\n",
    "    - [ ] `sqlite3` und `os`\n",
    "\n",
    "    ### Was ist SQL?\n",
    "    - [x] Eine Sprache zur Abfrage und Manipulation von Datenbanken\n",
    "    - [ ] Ein Programm zur Datenvisualisierung\n",
    "    - [ ] Eine Programmiersprache wie Python\n",
    "    - [ ] Ein Datenformat wie JSON\n",
    "\n",
    "    ### Was ist SQLite?\n",
    "\n",
    "    - [x] Eine lokale relationale Datenbank ohne Server\n",
    "    - [ ] Ein Cloud-Datenbank-Service\n",
    "    - [ ] Ein NoSQL-Datenbanksystem\n",
    "    - [ ] Ein Datenvisualisierungstool\n",
    "\n",
    "    ### Sortiere die folgenden Zeilen für das Speichern einer Pandas-Tabelle in SQLite:\n",
    "\n",
    "    ```python\n",
    "    import sqlite3\n",
    "    import pandas as pd\n",
    "    ```\n",
    "    1. `df = pd.DataFrame({'col1': [1, 2], 'col2': [3, 4]})`\n",
    "    2. `con = sqlite3.connect(\"test.sqlite\")`\n",
    "    3. `df.to_sql(\"tabelle\", con, if_exists=\"replace\")`\n",
    "\n",
    "    ### Welcher Fehler steckt in diesem Beispiel?\n",
    "\n",
    "    ```python\n",
    "    con = sqlite3.connect(\"test.sqlite\")\n",
    "    df.to_sql(\"tabelle\", con, if_exists=\"append\")\n",
    "    ```\n",
    "\n",
    "    - [ ] `sqlite3` ist nicht importiert\n",
    "    - [ ] Der Datenbankname ist zu kurz\n",
    "    - [x] Kein Fehler - der Code ist korrekt\n",
    "    - [ ] `to_sql` existiert nicht\n",
    "\n",
    "    ### Was macht der SQL-Befehl `SELECT * FROM baustellen;`?\n",
    "\n",
    "    - [ ] Löscht alle Daten aus der Tabelle\n",
    "    - [x] Gibt alle Spalten und Zeilen der Tabelle zurück\n",
    "    - [ ] Erstellt eine neue Tabelle\n",
    "    - [ ] Zählt die Zeilen in der Tabelle\n",
    "\n",
    "\n",
    "    ### Wie führt man einen SQL-Befehl in Python aus?\n",
    "\n",
    "    - [x] Mit `cur.execute(sql)` nach Erstellung eines Cursors\n",
    "    - [ ] Mit `con.run(sql)`\n",
    "    - [ ] Mit `sqlite3.query(sql)`\n",
    "    - [ ] Mit `pd.sql(sql)`\n",
    "\n",
    "\n",
    "    ### Sortiere die folgenden Zeilen für eine SQL-Abfrage:\n",
    "\n",
    "    ```python\n",
    "    con = sqlite3.connect(\"test.sqlite\")\n",
    "    ```\n",
    "\n",
    "    1. `cur = con.cursor()`\n",
    "    2. `sql = 'SELECT * FROM tabelle;'`\n",
    "    3. `for row in cur.execute(sql):`\n",
    "    4. `    print(row)`\n",
    "\n",
    "    ### Welcher SQL-Befehl filtert Baustellen mit Baubeginn ab 2023?\n",
    "\n",
    "    - [ ] `FILTER baubeginn >= '2023-01-01'`\n",
    "    - [x] `WHERE baubeginn >= '2023-01-01 00:00:00+01'`\n",
    "    - [ ] `IF baubeginn >= '2023-01-01'`\n",
    "    - [ ] `SELECT baubeginn >= '2023-01-01'`\n",
    "\n",
    "    ### Wie verknüpft man mehrere Bedingungen in SQL?\n",
    "\n",
    "    - [x] Mit `AND`, `OR`, `NOT`\n",
    "    - [ ] Mit `&&`, `||`, `!`\n",
    "    - [ ] Mit `+`, `-`, `*`\n",
    "    - [ ] Mit `COMBINE`, `MERGE`, `JOIN`\n",
    "\n",
    "\n",
    "    ### Welcher Fehler steckt in diesem SQL-Beispiel?\n",
    "\n",
    "    ```sql\n",
    "    SELECT * FROM baustellen\n",
    "    WHERE baubeginn = '2023-01-01' AND bauende = '2024-01-01'\n",
    "    ```\n",
    "\n",
    "    - [ ] `AND` ist nicht erlaubt\n",
    "    - [ ] Datumsformat ist falsch\n",
    "    - [x] Kein Fehler - der Code ist korrekt\n",
    "    - [ ] `WHERE` muss am Ende stehen\n",
    "\n",
    "\n",
    "    ### Was macht die SQL-Funktion `count(*)`?\n",
    "\n",
    "    - [ ] Summiert alle Werte\n",
    "    - [x] Zählt die Anzahl der Zeilen\n",
    "    - [ ] Findet den Maximalwert\n",
    "    - [ ] Berechnet den Durchschnitt\n",
    "\n",
    "\n",
    "    ### Welche Aggregatfunktionen gibt es in SQL?\n",
    "\n",
    "    - [x] `min()`, `max()`, `avg()`, `sum()`, `count()`\n",
    "    - [ ] `first()`, `last()`, `middle()`\n",
    "    - [ ] `add()`, `subtract()`, `multiply()`\n",
    "    - [ ] `top()`, `bottom()`, `center()`\n",
    "\n",
    "\n",
    "    ### Sortiere die folgenden Teile einer SQL-Aggregationsabfrage:\n",
    "\n",
    "    1. `SELECT sparte, count(*), avg(baudauer)`\n",
    "    2. `FROM baustellen`\n",
    "    3. `GROUP BY sparte`\n",
    "\n",
    "\n",
    "    ### Was macht `GROUP BY sparte` in einer SQL-Abfrage?\n",
    "\n",
    "    - [ ] Sortiert nach Sparte\n",
    "    - [x] Fasst Zeilen mit gleicher Sparte zusammen\n",
    "    - [ ] Filtert nach Sparte\n",
    "    - [ ] Löscht doppelte Sparten\n",
    "\n",
    "\n",
    "    ### Wie sortiert man Ergebnisse in SQL absteigend?\n",
    "\n",
    "    - [ ] `SORT BY spalte DOWN`\n",
    "    - [x] `ORDER BY spalte DESC`\n",
    "    - [ ] `ARRANGE BY spalte REVERSE`\n",
    "    - [ ] `DESCEND BY spalte`\n",
    "\n",
    "\n",
    "    ### Was bewirkt `LIMIT 3` in einer SQL-Abfrage?\n",
    "\n",
    "    - [ ] Begrenzt auf 3 Spalten\n",
    "    - [x] Gibt maximal 3 Ergebniszeilen zurück\n",
    "    - [ ] Sortiert die ersten 3 Einträge\n",
    "    - [ ] Filtert nach Werten kleiner 3\n",
    "\n",
    "\n",
    "    ### Welcher Fehler steckt in diesem SQL-Beispiel?\n",
    "\n",
    "    ```sql\n",
    "    SELECT sparte, count(*)\n",
    "    FROM baustellen\n",
    "    ORDER BY count(*)\n",
    "    GROUP BY sparte\n",
    "    ```\n",
    "\n",
    "    - [x] `ORDER BY` muss nach `GROUP BY` stehen\n",
    "    - [ ] `count(*)` kann nicht sortiert werden\n",
    "    - [ ] `GROUP BY` ist falsch positioniert\n",
    "    - [ ] Es fehlt ein `WHERE`\n",
    "\n",
    "\n",
    "    ### Was macht ein `JOIN` in SQL?\n",
    "\n",
    "    - [ ] Kombiniert Spalten einer Tabelle\n",
    "    - [x] Verknüpft Daten aus mehreren Tabellen\n",
    "    - [ ] Sortiert Tabellendaten\n",
    "    - [ ] Löscht doppelte Einträge\n",
    "\n",
    "\n",
    "    ### Warum verwendet man Tabellenpräfixe wie `b.spalte` bei JOINs?\n",
    "\n",
    "    - [ ] Zur Verschönerung des Codes\n",
    "    - [x] Zur eindeutigen Identifikation bei gleichnamigen Spalten\n",
    "    - [ ] Zur Beschleunigung der Abfrage\n",
    "    - [ ] Zur Fehlerbehandlung\n",
    "\n",
    "\n",
    "    ### Was macht `DISTINCT` in einer SQL-Abfrage?\n",
    "\n",
    "    - [ ] Sortiert die Ergebnisse\n",
    "    - [ ] Begrenzt die Anzahl der Ergebnisse\n",
    "    - [x] Entfernt doppelte Zeilen aus den Ergebnissen\n",
    "    - [ ] Verbindet mehrere Tabellen\n",
    "\n",
    "    ### Was ist der Unterschied zwischen INNER JOIN und LEFT JOIN?\n",
    "    - [x] INNER JOIN gibt nur übereinstimmende Zeilen zurück, LEFT JOIN alle Zeilen der linken Tabelle\n",
    "    - [ ] LEFT JOIN gibt nur übereinstimmende Zeilen zurück, INNER JOIN alle Zeilen der linken Tabelle\n",
    "    - [ ] Es gibt keinen Unterschied, beide sind gleich\n",
    "    - [ ] INNER JOIN ist schneller als LEFT JOIN\n",
    "\n",
    "\n",
    "    ### Sortiere die folgenden Teile einer JOIN-Abfrage:\n",
    "\n",
    "    1. `SELECT b.spalte1, a.spalte2`\n",
    "    2. `FROM baustellen AS b`\n",
    "    3. `JOIN adressenliste AS a`\n",
    "    4. `WHERE b.id = a.id`\n",
    "\n",
    "\n",
    "    ### Was ist der Unterschied zwischen verschiedenen JOIN-Typen?\n",
    "\n",
    "    - [x] Sie bestimmen, welche Zeilen bei fehlenden Übereinstimmungen zurückgegeben werden\n",
    "    - [ ] Sie beeinflussen die Geschwindigkeit der Abfrage\n",
    "    - [ ] Sie ändern die Sortierung der Ergebnisse\n",
    "    - [ ] Sie bestimmen die Anzahl der verknüpften Tabellen\n",
    "\n",
    "\n",
    "    ### Welcher Fehler steckt in diesem JOIN-Beispiel?\n",
    "\n",
    "    ```sql\n",
    "    SELECT * FROM baustellen\n",
    "    NATURAL JOIN adressenliste, gemeinden\n",
    "    ```\n",
    "\n",
    "    - [ ] `NATURAL JOIN` existiert nicht\n",
    "    - [ ] Zu viele Tabellen im JOIN\n",
    "    - [x] Potentielle Kreuzverknüpfung durch mehrere Tabellen ohne explizite Bedingungen\n",
    "    - [ ] Falsche Syntax bei `NATURAL JOIN`\n",
    "\n",
    "\n",
    "```"
   ]
  },
  {
   "cell_type": "markdown",
   "metadata": {
    "slideshow": {
     "slide_type": "slide"
    },
    "tags": [
     "remove-cell"
    ]
   },
   "source": [
    "<div class=\"vslide\">\n",
    "  <div class=\"vslide-title\">\n",
    "    <p style=\"font-family: Protomolecule; font-size: 2.3em; margin: 0px auto; text-align: center; width: 100%;\">fragen?</p>\n",
    "  </div>\n",
    "  <script>setSectionBackground('#000000', 'images/mj_questions.mp4');</script>\n",
    "</div>"
   ]
  }
 ],
 "metadata": {
  "kernelspec": {
   "display_name": "Python 3 (ipykernel)",
   "language": "python",
   "name": "python3"
  },
  "language_info": {
   "codemirror_mode": {
    "name": "ipython",
    "version": 3
   },
   "file_extension": ".py",
   "mimetype": "text/x-python",
   "name": "python",
   "nbconvert_exporter": "python",
   "pygments_lexer": "ipython3",
   "version": "3.12.10"
  },
  "rise": {
   "auto_select": "none",
   "center": false,
   "enable_chalkboard": true,
   "header": "<img src=\"images/pd_logo.svg\" class=\"header_title_logo\"><img src=\"images/ai4sc_logo_v2.svg\" class=\"header_ai4sc_logo\">",
   "scroll": true,
   "show_buttons_on_startup": false,
   "slideNumber": true,
   "theme": "white"
  }
 },
 "nbformat": 4,
 "nbformat_minor": 4
}
