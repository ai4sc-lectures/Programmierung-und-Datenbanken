{
 "cells": [
  {
   "cell_type": "markdown",
   "id": "9f425d98-ff8b-452a-aec5-69f93dde62d8",
   "metadata": {
    "editable": true,
    "slideshow": {
     "slide_type": "slide"
    },
    "tags": [
     "remove-cell"
    ]
   },
   "source": [
    "<div style=\"position: relative; height: 100vh; overflow: hidden;\">\n",
    "  <div style=\"position: relative; z-index: 1; color: black; padding: 2em; background-color: rgba(255, 255, 255, 0.6);\">\n",
    "    <p style=\"font-family: Protomolecule; font-size: 2.3em; line-height: 90%; margin: 0 auto; text-align: center; width: 100%;\"><span style=\"letter-spacing: .04rem;\">programmierung</span><br><span style=\"letter-spacing: .0rem;\">und datenbanken</span></p>\n",
    "<p class=\"author\" style=\"font-family: Protomolecule; margin: 0px auto;  text-align: center; width: 100%; font-size: 1.2em;\">Joern Ploennigs</p>\n",
    "<p class=\"subtitle\" style=\"font-family: Protomolecule; font-size: larger; margin: 1em auto; text-align: center; width: 100%; font-size: 1.2em;\">Softwarearchitektur</p>\n",
    "  </div>\n",
    "    <video autoplay muted loop playsinline\n",
    "         style=\"position: absolute; top: 0; left: 0; min-width: 100%; min-height: 100%; object-fit: cover; z-index: -1;\">\n",
    "    <source src=\"images/02a_Softwarearchitektur/mj_title.mp4\" type=\"video/mp4\">\n",
    "    Your browser does not support the video tag.\n",
    "  </video>\n",
    "</div>"
   ]
  },
  {
   "cell_type": "markdown",
   "id": "948875af",
   "metadata": {
    "editable": true,
    "slideshow": {
     "slide_type": "skip"
    },
    "tags": []
   },
   "source": [
    "# Softwarearchitektur"
   ]
  },
  {
   "cell_type": "markdown",
   "id": "9ae339a8-3e41-4515-a74a-c9d70fdc4186",
   "metadata": {
    "editable": true,
    "raw_mimetype": "",
    "slideshow": {
     "slide_type": "skip"
    },
    "tags": []
   },
   "source": [
    "![](images/02a_Softwarearchitektur/mj_title.png)\n",
    "> Good architecture is not just about structure - it’s about intention. In code as in buildings, clarity and purpose leave the longest legacy\n",
    "> \n",
    "> — Louis Kahn"
   ]
  },
  {
   "cell_type": "markdown",
   "id": "554b63b9-c908-4a46-9157-6928f4cfbd28",
   "metadata": {
    "editable": true,
    "slideshow": {
     "slide_type": "skip"
    },
    "tags": []
   },
   "source": [
    "## <a href=\"/lec_slides/01e_Softwarearchitektur.slides.html\">Folien</a>\n",
    "<iframe src=\"/lec_slides/01e_Softwarearchitektur.slides.html\" width=\"750\" height=\"500\"></iframe>"
   ]
  },
  {
   "cell_type": "markdown",
   "id": "5f1c64ce",
   "metadata": {
    "editable": true,
    "slideshow": {
     "slide_type": "slide"
    },
    "tags": [
     "remove-cell"
    ]
   },
   "source": [
    "## Ablauf\n",
    "\n",
    "![](images/partA_2.svg)"
   ]
  },
  {
   "cell_type": "markdown",
   "id": "4a3d513a",
   "metadata": {
    "editable": true,
    "slideshow": {
     "slide_type": "slide"
    },
    "tags": [
     "remove-cell"
    ]
   },
   "source": [
    "## Monolithische, maschinennahe Software vor 1950\n",
    "\n",
    "<div style=\"display: flex; gap: 2em;\">\n",
    "  <div style=\"width: 50%;\">\n",
    "    <ul>\n",
    "      <li>Die ersten Programme wurden direkt in binärem Maschinencode geschrieben.</li>\n",
    "      <li>Die Software war monolithisch, d.h. es gab keine Trennung von Funktionalitäten.</li>\n",
    "      <li>Die Software war eng an die Hardware gebunden.</li>\n",
    "      <li style=\"color: orange\">Problem: Änderungen an der Hardware erforderten oft eine komplette Neuprogrammierung.</li>\n",
    "    </ul>\n",
    "  </div>\n",
    "  <div style=\"width: 50%;\">\n",
    "    <img src=\"images/02a_Softwarearchitektur/archi_1.svg\" alt=\"Monolithische Software\">\n",
    "  </div>\n",
    "</div>"
   ]
  },
  {
   "cell_type": "markdown",
   "id": "45d58d34-23e5-4479-9c15-79585575e5d8",
   "metadata": {
    "editable": true,
    "slideshow": {
     "slide_type": "skip"
    },
    "tags": []
   },
   "source": [
    "## Monolithische, maschinennahe Software vor 1950\n",
    "\n",
    "Über die Jahre haben sich die Softwarearchitekturen den modernen Anforderungen angepasst. Dadurch haben sich auch neue Programmiersprachen und Softwarearchitekturen entwickelt.\n",
    "\n",
    "Die ersten Programme wurden direkt in Maschinencode geschrieben.\n",
    "\n",
    "![Monolithische, Maschinennahe Software](images/software_assembler.png)\n",
    "\n",
    "Problem: Wenn die Hardware sich geändert  hat und eine neue Maschinensprache gesprochen wurde so mussten  Programme angepasst oder neu  geschrieben werden\n"
   ]
  },
  {
   "cell_type": "markdown",
   "id": "25162f80",
   "metadata": {
    "editable": true,
    "slideshow": {
     "slide_type": "subslide"
    },
    "tags": [
     "remove-cell"
    ]
   },
   "source": [
    "## Aufteilung in Betriebssysteme und monolithischer Software seit 1960\n",
    "\n",
    "<div style=\"display: flex; gap: 2em;\">\n",
    "  <div style=\"width: 50%;\">\n",
    "    <ul>\n",
    "      <li>Betriebssysteme wurden eingeführt, um die Hardware zu abstrahieren. </li>\n",
    "      <li>Betriebssysteme abstrahieren Standardaufgaben (z.B. Dateiverwaltung)</li>\n",
    "      <li>Hardware wird durch Treiber abstrahiert</li>\n",
    "      <li>Änderungen an Hardware erfordern nur neue Treiber</li>\n",
    "      <li style=\"color: orange\">Problem: Die Programme sind immer noch schwer zu schreiben, weil sie sehr low-level sind und sehr gutes Verständnis von Hardwarefunktionen erfordern.</li>\n",
    "    </ul>\n",
    "  </div>\n",
    "  <div style=\"width: 50%;\">\n",
    "    <img src=\"images/02a_Softwarearchitektur/archi_3.svg\" alt=\"Betriebssysteme\">\n",
    "  </div>\n",
    "</div>"
   ]
  },
  {
   "cell_type": "markdown",
   "id": "689cfa33-cc8e-4dcb-9c32-01a2a08a4b10",
   "metadata": {
    "editable": true,
    "slideshow": {
     "slide_type": "skip"
    },
    "tags": []
   },
   "source": [
    "## Aufteilung in Betriebssysteme und Monolithische Software ab ca. 1960\n",
    "\n",
    "Betriebssysteme wurden eingeführt um Standardaufgaben zu erfüllen und die Hardware zu abstrahieren. Dies geschieht durch hardwarespezifische Treiber.\n",
    "\n",
    "Wenn sich die Hardware ändert, so wird dies mit neuen Treibern unterstützt. Das Programm muss nicht angepasst werden.\n",
    "\n",
    "![Aufteilung in Betriebssysteme und Monolithische Software](images/software_betriebssysteme.png)\n",
    "\n",
    "Problem: Die Programme sind sehr schwer zu schreiben, weil sie sehr gutes Verständnis der Hardware erfordern."
   ]
  },
  {
   "cell_type": "markdown",
   "id": "4296ae97",
   "metadata": {
    "editable": true,
    "slideshow": {
     "slide_type": "subslide"
    },
    "tags": [
     "remove-cell"
    ]
   },
   "source": [
    "## Einführung von höheren Programmiersprachen 1970\n",
    "\n",
    "<div style=\"display: flex; gap: 2em;\">\n",
    "  <div style=\"width: 50%;\">\n",
    "    <ul>\n",
    "      <li>Um die Programmierung zu vereinfachen, wurden höhere Programmiersprachen eingeführt.</li>\n",
    "      <li>Höhere Programmiersprachen müssen mit Compilern in Maschinensprache übersetzt werden.</li>\n",
    "      <li>Höhere Programmiersprachen sind meist ‘natürlichsprachlicher’</li>\n",
    "      <li style=\"color: orange\">Problem: Wechsel zwischen Betriebssysteme erfordert mindestens neue Compilierung, meist Umschrieben.</li>\n",
    "    </ul>\n",
    "  </div>\n",
    "  <div style=\"width: 50%;\">\n",
    "    <img src=\"images/02a_Softwarearchitektur/archi_5.svg\" alt=\"Höheren Programmiersprachen\">\n",
    "  </div>\n",
    "</div>"
   ]
  },
  {
   "cell_type": "markdown",
   "id": "0426581c-7d0b-495a-8f59-30700ab68369",
   "metadata": {
    "editable": true,
    "slideshow": {
     "slide_type": "skip"
    },
    "tags": []
   },
   "source": [
    "## Entwicklung von höheren Programmiersprachen ab ca. 1970\n",
    "\n",
    "Um die Programmierung zu vereinfachen, wurden ‘natürlichsprachlicher’ höhere Programmiersprachen eingeführt. Sie müssen mit Compilern in Maschinensprache übersetzt werden.\n",
    "\n",
    "![Entwicklung von höheren Programmiersprachen](images/software_hoeher.png)\n",
    "\n",
    "Problem: Wenn sich die Betriebssysteme ändern, so funktionieren Programme nicht und müssen entweder neu Kompiliert werden oder umgeschrieben werden.\n"
   ]
  },
  {
   "cell_type": "markdown",
   "id": "cea62fdb",
   "metadata": {
    "editable": true,
    "slideshow": {
     "slide_type": "subslide"
    },
    "tags": [
     "remove-cell"
    ]
   },
   "source": [
    "## Virtualisierung monolithischer Software seit 1995\n",
    "\n",
    "<div style=\"display: flex; gap: 2em;\">\n",
    "  <div style=\"width: 50%;\">\n",
    "    <ul>\n",
    "      <li>Virtuelle Laufzeitumgebungen abstrahieren die Betriebssysteme.</li>\n",
    "      <li>Virtuelle Laufzeitumgebungen compilierten Code in Echtzeit (Java) oder interpretieren ihn (Python)</li>\n",
    "      <li style=\"color: orange\">Problem: Mit dem Internet entwickelte sich der Bedarf auf Inhalte mobil zuzugreifen.</li>\n",
    "    </ul>\n",
    "  </div>\n",
    "  <div style=\"width: 50%;\">\n",
    "    <img src=\"../slides/images/02a_Softwarearchitektur/archi_7.svg\" alt=\"Virtualisierung\">\n",
    "  </div>\n",
    "</div>"
   ]
  },
  {
   "cell_type": "markdown",
   "id": "b8378cdf-4949-4008-9485-ab0a6bba3c50",
   "metadata": {
    "editable": true,
    "slideshow": {
     "slide_type": "skip"
    },
    "tags": []
   },
   "source": [
    "## Virtualisierung Monolithischer Software ab ca. 1995\n",
    "\n",
    "Virtuelle Laufzeitumgebungen abstrahieren die Betriebssysteme und compilieren Code in Echtzeit (Java) oder interpretieren ihn (Python)\n",
    "\n",
    "![Virtualisierung Monolithischer Software](images/software_virtualisierung.png)\n",
    "\n",
    "Problem: Mit dem Internet entwickelte sich der Bedarf nicht nur Text und Bilder zu teilen, sondern auch Inhalte auf Webseiten dynamisch anzupassen und kleinere (bis größere) Programme auszuführen. Um von verschiedenen Geräten auf die Daten zuzugreifen, braucht man einen zentralen Punkt um die Daten zu speichern und komplexere Berechnungen auszuführen.\n"
   ]
  },
  {
   "cell_type": "markdown",
   "id": "7d367b34",
   "metadata": {
    "editable": true,
    "slideshow": {
     "slide_type": "subslide"
    },
    "tags": [
     "remove-cell"
    ]
   },
   "source": [
    "## Verteilte, Virtualisierte Software im Internet seit 2000\n",
    "\n",
    "<div style=\"display: flex; gap: 2em;\">\n",
    "  <div style=\"width: 50%;\">\n",
    "    <ul>\n",
    "      <li>Backend Webserver stellen  die Webseiten zur Verfügung</li>\n",
    "      <li>Separate Datenbankserver verwalten die Langzeitdaten</li>\n",
    "      <li>Frontend Apps visualisieren die Inhalte</li>\n",
    "      <li>Frontend Apps interagieren mit den Nutzern</li>\n",
    "      <li>Frontend Apps machen nur leichte Berechnungen</li>\n",
    "      <li style=\"color: orange\">Problem: Im Internet greifen oft sehr viele Nutzer gleichzeitig auf die gleichen Server (Seiten) zu. Um diese nicht zu überlasten, brauchte man Wege diese bei Bedarf schnell zu duplizieren.</li>\n",
    "    </ul>\n",
    "  </div>\n",
    "  <div style=\"width: 50%;\">\n",
    "    <img src=\"images/02a_Softwarearchitektur/archi_8.svg\" alt=\"Verteilte Software\">\n",
    "  </div>\n",
    "</div>"
   ]
  },
  {
   "cell_type": "markdown",
   "id": "fb101ace-e6e3-4c6b-a899-f2373bacf5e6",
   "metadata": {
    "editable": true,
    "slideshow": {
     "slide_type": "skip"
    },
    "tags": []
   },
   "source": [
    "## Verteilte, Virtualisierte Software im Internet ab ca. 2000\n",
    "\n",
    "Frontend Webseiten visualisieren die Inhalte und interagieren mit den Nutzern. Leichte Berechnungen werden hier gemacht werden.\n",
    "\n",
    "Backend Webserver stellen  die Webseiten zur Verfügung und verwalten die Langzeitdaten  in Datenbanken.\n",
    "\n",
    "![Verteilte, Virtualisierte Software](images/software_apps.png)\n",
    "\n",
    "Problem: Im Internet greifen oft sehr viele Nutzer gleichzeitig auf die gleichen Server (Seiten) zu. Um diese nicht zu überlasten, brauchte man Wege diese bei Bedarf schnell zu duplizieren. Mit der Entwicklung von mobilen Geräten (Smart Phones, Tablets, etc.) gab es immer mehr relativ kleine spezialisierte Anwendungen (Apps)  Hier kann der Bedarf an Rechenkapazitäten dynamisch schnell wachsen und man benötigte auch dynamisch skallierbare Server."
   ]
  },
  {
   "cell_type": "markdown",
   "id": "fa9a9d74",
   "metadata": {
    "editable": true,
    "slideshow": {
     "slide_type": "subslide"
    },
    "tags": [
     "remove-cell"
    ]
   },
   "source": [
    "## Verteilte, Virtualisierte Apps und Cloud Software seit den 2010\n",
    "\n",
    "<div style=\"display: flex; gap: 2em;\">\n",
    "  <div style=\"width: 50%;\">\n",
    "    <ul>\n",
    "      <li>Betriebssystem und Programme werden in Images gebündelt</li>\n",
    "      <li>Images können auf Servern schnell verteilt werden</li>\n",
    "      <li>Dadurch können Server bei Bedarf (Ansturm) schnell hochgefahren werden</li>\n",
    "      <li>Apps und Websites lösen vollständig traditionelle monolithische Programme ab</li>\n",
    "      <li>Dadurch liegen Daten selten auf einem einzelnen Rechner</li>\n",
    "      <li style=\"color: orange\">Problem: Im Internet greifen oft sehr viele Nutzer gleichzeitig auf die gleichen Server (Seiten) zu. Um diese nicht zu überlasten, brauchte man Wege diese bei Bedarf schnell zu duplizieren.</li>\n",
    "    </ul>\n",
    "  </div>\n",
    "  <div style=\"width: 50%;\">\n",
    "    <img src=\"../slides/images/02a_Softwarearchitektur/archi_10.svg\" alt=\"Images und Cloud Software\">\n",
    "  </div>\n",
    "</div>"
   ]
  },
  {
   "cell_type": "markdown",
   "id": "127396e1-5840-4026-b777-5b2f291a5eab",
   "metadata": {
    "editable": true,
    "slideshow": {
     "slide_type": "skip"
    },
    "tags": []
   },
   "source": [
    "## Verteilte, Virtualisierte Apps und Cloud Software ab ca. 2010\n",
    "\n",
    "<!-- ![Alt text](images/software_apps_prob.png) -->\n",
    "\n",
    "Apps und Websites lösen vollständig traditionelle monolithische Programme ab. Sie laufen nicht mehr vollständig auf einem einzigen Computer, sondern haben Benutzeroberflächen auf mobilen Geräten und die Daten in der Cloud.\n",
    "\n",
    "Um Webserver und Berechnungen in der Cloud besser zu skalieren, bündelt man Programme mit dem Betriebssystem in Images und virtualisiert Hardware. Dadurch kann man sehr schnell Programme mit dem kompletten Betriebssystem auf vielen Rechnern verteilen.\n",
    "\n",
    "![Verteilte, Virtualisierte Apps und Cloud](images/software_cloud.png)"
   ]
  },
  {
   "cell_type": "markdown",
   "id": "6b49a962",
   "metadata": {
    "editable": true,
    "slideshow": {
     "slide_type": "slide"
    },
    "tags": []
   },
   "source": [
    "## Klassifikation der Programmiersprachen nach historischer Anwendung\n",
    "\n",
    "Spezifische Programmiersprachen haben sich entsprechend den Architekturen entwickelt. Deshalb änderten sich auch über die Zeit die beliebten Programmiersprachen.\n",
    "\n",
    "![Klassifikation der Programmiersprachen](images/02a_Softwarearchitektur/archi_11.svg)\n"
   ]
  },
  {
   "cell_type": "markdown",
   "id": "6b32d9cb",
   "metadata": {
    "editable": true,
    "slideshow": {
     "slide_type": "slide"
    },
    "tags": [
     "remove-cell"
    ]
   },
   "source": [
    "<div style=\"position: relative; height: 100vh; overflow: hidden;\">\n",
    "  <div class=\"questions\" style=\"letter-spacing: 0.03em; font-family: Protomolecule; font-size: 2.3em; position: absolute; top: 50%; left: 50%; transform: translate(-50%, -50%); color: black; z-index: 5;\">fragen?</div>\n",
    "    <video autoplay muted loop playsinline\n",
    "         style=\"position: absolute; top: 0; left: 0; min-width: 100%; min-height: 100%; object-fit: cover; z-index: -1;\">\n",
    "    <source src=\"images/mj_questions.mp4\" type=\"video/mp4\">\n",
    "    Your browser does not support the video tag.\n",
    "  </video>\n",
    "</div>"
   ]
  }
 ],
 "metadata": {
  "kernelspec": {
   "display_name": "Python 3 (ipykernel)",
   "language": "python",
   "name": "python3"
   },
"rise": {
   "auto_select": "none",
   "center": false,
   "enable_chalkboard": true,
   "header": "<img src=\"images/pd_logo.svg\" class=\"header_title_logo\"><img src=\"images/ai4sc_logo_v2.svg\" class=\"header_ai4sc_logo\">",
   "scroll": true,
   "show_buttons_on_startup": false,
   "slideNumber": true,
   "theme": "white"
  },
  "language_info": {
   "codemirror_mode": {
    "name": "ipython",
    "version": 3
   },
   "file_extension": ".py",
   "mimetype": "text/x-python",
   "name": "python",
   "nbconvert_exporter": "python",
   "pygments_lexer": "ipython3",
   "version": "3.12.8"
  }
 },
 "nbformat": 4,
 "nbformat_minor": 5
}
