{
 "cells": [
  {
   "cell_type": "markdown",
   "id": "9f425d98-ff8b-452a-aec5-69f93dde62d8",
   "metadata": {
    "editable": true,
    "slideshow": {
     "slide_type": "slide"
    },
    "tags": [
     "remove-cell"
    ]
   },
   "source": [
    "<div style=\"position: relative; height: 100vh; overflow: hidden;\">\n",
    "  <div style=\"position: relative; z-index: 1; color: black; padding: 2em; background-color: rgba(255, 255, 255, 0.6);\">\n",
    "    <p style=\"font-family: Protomolecule; font-size: 2.3em; line-height: 90%; margin: 0 auto; text-align: center; width: 100%;\"><span style=\"letter-spacing: .04rem;\">programmierung</span><br><span style=\"letter-spacing: .0rem;\">und datenbanken</span></p>\n",
    "<p class=\"author\" style=\"font-family: Protomolecule; margin: 0px auto;  text-align: center; width: 100%; font-size: 1.2em;\">Joern Ploennigs</p>\n",
    "<p class=\"subtitle\" style=\"font-family: Protomolecule; font-size: larger; margin: 1em auto; text-align: center; width: 100%; font-size: 1.2em;\">Programmiersprachen</p>\n",
    "  </div>\n",
    "    <video autoplay muted loop playsinline\n",
    "         style=\"position: absolute; top: 0; left: 0; min-width: 100%; min-height: 100%; object-fit: cover; z-index: -1;\">\n",
    "    <source src=\"images/01d_Programmiersprachen/mj_title.mp4\" type=\"video/mp4\">\n",
    "    Your browser does not support the video tag.\n",
    "  </video>\n",
    "</div>"
   ]
  },
  {
   "cell_type": "markdown",
   "id": "948875af",
   "metadata": {
    "editable": true,
    "slideshow": {
     "slide_type": "skip"
    },
    "tags": []
   },
   "source": [
    "# Programmiersprachen"
   ]
  },
  {
   "cell_type": "markdown",
   "id": "9ae339a8-3e41-4515-a74a-c9d70fdc4186",
   "metadata": {
    "editable": true,
    "raw_mimetype": "",
    "slideshow": {
     "slide_type": "skip"
    },
    "tags": []
   },
   "source": [
    "![](images/01d_Programmiersprachen/mj_title.png)\n",
    "> There are only two kinds of languages: the ones people complain about and the ones nobody uses.\n",
    "> \n",
    "> — Bjarne Stroustrup (creator of C++)"
   ]
  },
  {
   "cell_type": "markdown",
   "id": "554b63b9-c908-4a46-9157-6928f4cfbd28",
   "metadata": {
    "editable": true,
    "slideshow": {
     "slide_type": "skip"
    },
    "tags": [
     "remove-cell"
    ]
   },
   "source": [
    "## <a href=\"/lec_slides/01d_Programmiersprachen.slides.html\">Folien</a>\n",
    "<iframe src=\"/lec_slides/01d_Programmiersprachen.slides.html\" width=\"750\" height=\"500\"></iframe>"
   ]
  },
  {
   "cell_type": "markdown",
   "id": "55e4ac95-9b27-4932-aaf2-df5fd889960a",
   "metadata": {
    "editable": true,
    "slideshow": {
     "slide_type": "skip"
    },
    "tags": []
   },
   "source": [
    "## <a href=\"/slides/01d_Programmiersprachen.html\">Folien</a>\n",
    "<iframe src=\"/slides/01d_Programmiersprachen.html\" width=\"750\" height=\"500\"></iframe>"
   ]
  },
  {
   "cell_type": "markdown",
   "id": "5f1c64ce",
   "metadata": {
    "editable": true,
    "slideshow": {
     "slide_type": "slide"
    },
    "tags": [
     "remove-cell"
    ]
   },
   "source": [
    "## Ablauf\n",
    "\n",
    "![](images/partA_2.svg)"
   ]
  },
  {
   "cell_type": "markdown",
   "id": "4a3d513a",
   "metadata": {
    "editable": true,
    "jp-MarkdownHeadingCollapsed": true,
    "slideshow": {
     "slide_type": "slide"
    },
    "tags": [
     "remove-cell"
    ]
   },
   "source": [
    "## Programmiersprachen\n",
    "\n",
    "\n",
    "<div class=\"alert alert-block alert-success\">\n",
    "<b>📘 Definition: Programmiersprache</b>\n",
    "\n",
    "Eine Programmiersprache ist eine formale Sprache für die Erstellung von Programmen zur Datenverarbeitung an einem Computer. Sie ist durch ihren Zeichensatz, Syntax und ihre Semantik definiert.\n",
    "</div>\n",
    "\n",
    "Die Programmiersprache erlaubt es dem Menschen (Programmierer), dem Computer in einer „verständlichen” Form ein Programm zu erstellen."
   ]
  },
  {
   "cell_type": "markdown",
   "id": "4d1cb0c9-10d4-4ccc-98de-395970a2e87f",
   "metadata": {
    "editable": true,
    "slideshow": {
     "slide_type": "slide"
    },
    "tags": []
   },
   "source": [
    "## 1. Generationen der Programmiersprachen\n",
    "\n",
    "Maschinenorientierte Sprachen sind Programmiersprachen, die ein Prozessor direkt ausführen kann und meist nur für den Prozessortyp verständlich sind. Der Programmcode wird Maschinencode genannt und ist binär (0/1) codiert. \n",
    "\n",
    "```\n",
    "  1101 0000 0000 0111 1011\n",
    "  1011 1111 1110 1000 1010\n",
    "  1101 0010 0000 0111 1111\n",
    "```"
   ]
  },
  {
   "cell_type": "markdown",
   "id": "a7ff02da-6099-4341-a02e-5593c4608bab",
   "metadata": {
    "editable": true,
    "slideshow": {
     "slide_type": "subslide"
    },
    "tags": []
   },
   "source": [
    "## 2. Generationen der Programmiersprachen\n",
    "\n",
    "Assemblersprachen nutzen Abkürzungen (ADD, MOV, …) für Maschienenbefehle eines bestimmten Prozessortyps. Der Quelltext eines Assemblerprogramms wird mit Hilfe einer Übersetzungssoftware (Assembler) in Maschinencode übersetzt.\n",
    "\n",
    "```nasm\n",
    "  CLO\n",
    "  MOV AL, 2     ;kopiert 2 in Register AL\n",
    "  ADD AL, 3     ;Addiert 3 zu Register AL\n",
    "  END\n",
    "```\n"
   ]
  },
  {
   "cell_type": "markdown",
   "id": "289386e9-c004-4cd5-aba0-b4afd2e503d5",
   "metadata": {
    "editable": true,
    "slideshow": {
     "slide_type": "subslide"
    },
    "tags": []
   },
   "source": [
    "## 3. Generationen der Programmiersprachen\n",
    "\n",
    "Höhere Programmiersprachen: orientieren sich am Menschen, dem Programmierer. Ein sogenannter Compiler übersetzt den gegebenen abstrakteren Befehlssatz in den Maschinencode der gegebenen Zielarchitektur oder in eine Zwischensprache.\n",
    "\n",
    "```python\n",
    "  while i < 20:\n",
    "      x = x + i * i\n",
    "      if x > 100:\n",
    "          i = i + 3\n",
    "```\n"
   ]
  },
  {
   "cell_type": "markdown",
   "id": "a8cd78c5-d5fd-47d8-876e-526e89aba630",
   "metadata": {
    "editable": true,
    "slideshow": {
     "slide_type": "slide"
    },
    "tags": []
   },
   "source": [
    "## Die beliebtesten Programmiersprachen"
   ]
  },
  {
   "cell_type": "markdown",
   "id": "3bc4c425-6550-4363-9a3f-e6472d30fb59",
   "metadata": {
    "editable": true,
    "slideshow": {
     "slide_type": "skip"
    },
    "tags": []
   },
   "source": [
    "Durch die Änderungen der Anforderungen an Software entwickeln sich nicht nur die Softwarearchitekturen sondern auch neue Programmiersprachen die an Popularität gewinnen. So wurden zuerst traditionelle Anwendungssprachen (C++) ersetzt durch Serversprachen wie Java und dann durch Websprachen (PHP, Perl, JavaScript). Über die letzten 20 Jahren hat sich in diesem Bereich vor allem JavaScript durchgesetzt da es Client- und Serverseitig eingesetzt werden kann. Seit 2017 gewinnt vor allem Python massiv an popularität, da es insbesondere im KI-Bereich eingesetzt wird."
   ]
  },
  {
   "cell_type": "markdown",
   "id": "70af499f-6852-4026-b3e4-82047f07cf19",
   "metadata": {
    "editable": true,
    "slideshow": {
     "slide_type": ""
    },
    "tags": []
   },
   "source": [
    "- Durch ändernden Anforderungen an Softwarearchitekturen entwickelten sich neue Programmiersprachen\n",
    "- Traditionelle Anwendungssprachen wie C++ wurden durch Serversprachen wie Java abgelöst.\n",
    "- Später folgte ein Übergang zu Websprachen wie PHP, Perl und JavaScript.\n",
    "- In den letzten 20 Jahren hat sich JavaScript durch das Internet durchgesetzt.\n",
    "- Seit 2017 erlebt Python einen starken Popularitätsanstieg durch seine Nutzung im KI-Bereich."
   ]
  },
  {
   "cell_type": "markdown",
   "id": "c88bf7e9-7e58-4aba-9ef5-7306b5ac0c42",
   "metadata": {
    "editable": true,
    "slideshow": {
     "slide_type": ""
    },
    "tags": []
   },
   "source": [
    "<video width=\"584\" height=\"315\" controls>\n",
    "  <source src=\"../_images/top_prog_languages.mp4\" type=\"video/mp4\">\n",
    "  Your browser does not support the video tag.\n",
    "</video>"
   ]
  },
  {
   "cell_type": "markdown",
   "id": "b38e499a-8149-4302-b9b7-2166245b2861",
   "metadata": {
    "editable": true,
    "slideshow": {
     "slide_type": "slide"
    },
    "tags": []
   },
   "source": [
    "## Python"
   ]
  },
  {
   "cell_type": "markdown",
   "id": "335f0446-5ccf-4377-9cd0-47707875988c",
   "metadata": {
    "editable": true,
    "slideshow": {
     "slide_type": "skip"
    },
    "tags": []
   },
   "source": [
    "Python hat in den letzten Jahren zunehmend an Popularität gewonnen, ist allerdings älter als Java, C# und JavaScript. Die Popularität ist zum einen darauf zurück zu führen, dass die Sprache sehr auf Lesbarkeit und Einfachheit ausgelegt ist und dadurch sehr leicht zu erlernen ist. Ferner gibt es durch ihr Alter heutzutage sehr viele Bibliotheken und für fast jedes Problem eine existierende Lösung. Dadurch ist Python auch sehr vielseitig einsetzbar ist."
   ]
  },
  {
   "cell_type": "markdown",
   "id": "0a9a1596-a7f8-49df-a1e4-e6f6341f51d4",
   "metadata": {
    "editable": true,
    "slideshow": {
     "slide_type": ""
    },
    "tags": [
     "remove-cell"
    ]
   },
   "source": [
    "- Python ist die Spache in den Data Science und KI-Wissenschaften\n",
    "- Python wird in Data Science sehr oft verwendet. Sie hat sehr viele Bibliotheken zur Analyse von Daten. \n",
    "Heutzutage gibt es in Python Bibliotheken für fast jedes Anwendungsgebiet.\n",
    "- Google Trend `data science` worldwide"
   ]
  },
  {
   "cell_type": "markdown",
   "id": "9c45a17e-4a7a-4b09-9a37-ee8aa4734d79",
   "metadata": {
    "editable": true,
    "slideshow": {
     "slide_type": ""
    },
    "tags": []
   },
   "source": [
    "<script type=\"text/javascript\" src=\"https://ssl.gstatic.com/trends_nrtr/4116_RC01/embed_loader.js\"></script>\n",
    "<div style=\"display: flex; gap: 2em;\">\n",
    "  <div style=\"width: 50%;\">\n",
    "    <script type=\"text/javascript\">\n",
    "  trends.embed.renderExploreWidget(\"TIMESERIES\", {\"comparisonItem\":[{\"keyword\":\"/m/0jt3_q3\",\"geo\":\"\",\"time\":\"2004-01-01 2025-08-01\"}],\"category\":0,\"property\":\"\"}, {\"exploreQuery\":\"date=all&q=%2Fm%2F0jt3_q3&hl=de\",\"guestPath\":\"https://trends.google.de:443/trends/embed/\"});\n",
    "    </script>\n",
    "  </div>\n",
    "  <div style=\"width: 50%;\">\n",
    "    <script type=\"text/javascript\">\n",
    "  trends.embed.renderExploreWidget(\"TIMESERIES\", {\"comparisonItem\":[{\"keyword\":\"/m/05z1_\",\"geo\":\"\",\"time\":\"2004-01-01 2025-08-01\"}],\"category\":0,\"property\":\"\"}, {\"exploreQuery\":\"date=all&q=%2Fm%2F05z1_\",\"guestPath\":\"https://trends.google.de:443/trends/embed/\"});\n",
    "    </script>\n",
    "  </div>\n",
    "</div>"
   ]
  },
  {
   "cell_type": "markdown",
   "id": "6b32d9cb",
   "metadata": {
    "editable": true,
    "slideshow": {
     "slide_type": "slide"
    },
    "tags": [
     "remove-cell"
    ]
   },
   "source": [
    "<div style=\"position: relative; height: 100vh; overflow: hidden;\">\n",
    "  <div class=\"questions\" style=\"letter-spacing: 0.03em; font-family: Protomolecule; font-size: 2.3em; position: absolute; top: 50%; left: 50%; transform: translate(-50%, -50%); color: black; z-index: 5;\">fragen?</div>\n",
    "    <video autoplay muted loop playsinline\n",
    "         style=\"position: absolute; top: 0; left: 0; min-width: 100%; min-height: 100%; object-fit: cover; z-index: -1;\">\n",
    "    <source src=\"images/mj_questions.mp4\" type=\"video/mp4\">\n",
    "    Your browser does not support the video tag.\n",
    "  </video>\n",
    "</div>"
   ]
  }
 ],
 "metadata": {
  "kernelspec": {
   "display_name": "Python 3 (ipykernel)",
   "language": "python",
   "name": "python3"
  },
  "language_info": {
   "codemirror_mode": {
    "name": "ipython",
    "version": 3
   },
   "file_extension": ".py",
   "mimetype": "text/x-python",
   "name": "python",
   "nbconvert_exporter": "python",
   "pygments_lexer": "ipython3",
   "version": "3.12.10"
  },
  "rise": {
   "auto_select": "none",
   "center": false,
   "enable_chalkboard": true,
   "header": "<img src=\"images/pd_logo.svg\" class=\"header_title_logo\"><img src=\"images/ai4sc_logo_v2.svg\" class=\"header_ai4sc_logo\">",
   "scroll": true,
   "show_buttons_on_startup": false,
   "slideNumber": true,
   "theme": "white"
  }
 },
 "nbformat": 4,
 "nbformat_minor": 5
}
