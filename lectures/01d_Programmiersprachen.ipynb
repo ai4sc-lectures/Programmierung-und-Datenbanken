{
 "cells": [
  {
   "cell_type": "markdown",
   "id": "9f425d98-ff8b-452a-aec5-69f93dde62d8",
   "metadata": {
    "editable": true,
    "slideshow": {
     "slide_type": "slide"
    },
    "tags": [
     "remove-cell"
    ]
   },
   "source": [
    "<div class=\"vslide\">\n",
    "  <div class=\"vslide-title\">\n",
    "    <p style=\"font-family: Protomolecule; font-size: 2.3em; line-height: 90%; margin: 0px auto; text-align: center; width: 100%;\"><span style=\"letter-spacing: .04rem;\">programmierung</span><br><span style=\"letter-spacing: .0rem;\">und datenbanken</span></p>\n",
    "<p class=\"author\" style=\"font-family: Protomolecule; margin: 0px auto;  text-align: center; width: 100%; font-size: 1.2em;\">Joern Ploennigs</p>\n",
    "<p class=\"subtitle\" style=\"font-family: Protomolecule; margin: 1em auto; text-align: center; width: 100%; font-size: 1.2em;\">Programmiersprachen</p>\n",
    "    <figcaption>Midjourney: P+D Code Rain, ref. Matrix Code Rain</figcaption>\n",
    "  </div>\n",
    "<script>\n",
    "  function setSectionBackground(c,v){\n",
    "    let e=document.currentScript.previousElementSibling;\n",
    "    while(e&&e.tagName!=='SECTION')e=e.parentElement;\n",
    "    if(e){\n",
    "      if(c)e.setAttribute('data-background-color',c);\n",
    "      if(v){\n",
    "        e.setAttribute('data-background-video',v);\n",
    "        e.setAttribute('data-background-video-loop','true');\n",
    "        e.setAttribute('data-background-video-muted','true');\n",
    "      }\n",
    "    }\n",
    "  }\n",
    "  setSectionBackground('#000000', 'images/01d_Programmiersprachen/mj_title.mp4');\n",
    "</script>\n",
    "<style>\n",
    ".flex-row{display:flex; gap:2rem; align-items:flex-start; justify-content:space-between;}\n",
    ".flex-row .col1{flex:1; min-width:10px}\n",
    ".flex-row .col2{flex:2; min-width:10px}\n",
    ".flex-row .col3{flex:3; min-width:10px}\n",
    ".flex-row .col4{flex:4; min-width:10px}\n",
    ".flex-row .col5{flex:5; min-width:10px}\n",
    ".flex-row .col6{flex:6; min-width:10px}\n",
    ".flex-row .col7{flex:7; min-width:10px}\n",
    ".vcent{display:flex; align-items:center; justify-content:center}\n",
    "</style>\n",
    "</div>"
   ]
  },
  {
   "cell_type": "markdown",
   "id": "948875af",
   "metadata": {
    "editable": true,
    "slideshow": {
     "slide_type": "skip"
    },
    "tags": []
   },
   "source": [
    "# Programmiersprachen"
   ]
  },
  {
   "cell_type": "markdown",
   "id": "9ae339a8-3e41-4515-a74a-c9d70fdc4186",
   "metadata": {
    "editable": true,
    "raw_mimetype": "",
    "slideshow": {
     "slide_type": "skip"
    },
    "tags": []
   },
   "source": [
    "<figure class=\"mj-tile-band\">\n",
    "<img src='images/01d_Programmiersprachen/mj_title_band.jpg'>\n",
    "<figcaption>Midjourney: Skyscraper City Code Rain, ref. Matrix Code Rain</figcaption>\n",
    "</figure>\n",
    "\n",
    "> There are only two kinds of programming languages: the ones people complain about and the ones nobody uses.\n",
    "> \n",
    "> — Bjarne Stroustrup (creator of C++)"
   ]
  },
  {
   "cell_type": "markdown",
   "id": "554b63b9-c908-4a46-9157-6928f4cfbd28",
   "metadata": {
    "editable": true,
    "slideshow": {
     "slide_type": "skip"
    }
   },
   "source": [
    "## <a href=\"/lec_slides/01d_Programmiersprachen.slides.html\">Folien</a>/<a href=\"/pdf/slides/01d_Programmiersprachen.pdf\">PDF</a>\n",
    "<iframe src=\"/lec_slides/01d_Programmiersprachen.slides.html\" width=\"750\" height=\"500\"></iframe>"
   ]
  },
  {
   "cell_type": "markdown",
   "id": "5f1c64ce",
   "metadata": {
    "editable": true,
    "slideshow": {
     "slide_type": "slide"
    },
    "tags": [
     "remove-cell"
    ]
   },
   "source": [
    "## Ablauf\n",
    "\n",
    "![](images/partA_2.svg)"
   ]
  },
  {
   "cell_type": "markdown",
   "id": "4a3d513a",
   "metadata": {
    "editable": true,
    "slideshow": {
     "slide_type": "slide"
    },
    "tags": [
     "remove-cell"
    ]
   },
   "source": [
    "## Programmiersprachen\n",
    "\n",
    "\n",
    "<div class=\"alert alert-block alert-success\">\n",
    "<b>📘 Definition: Programmiersprache</b>\n",
    "\n",
    "Eine Programmiersprache ist eine formale Sprache für die Erstellung von Programmen zur Datenverarbeitung an einem Computer. Sie ist durch ihren Zeichensatz, Syntax und ihre Semantik definiert.\n",
    "</div>\n",
    "\n",
    "Die Programmiersprache erlaubt es dem Menschen (Programmierer), dem Computer in einer „verständlichen” Form ein Programm zu erstellen."
   ]
  },
  {
   "cell_type": "markdown",
   "id": "4d1cb0c9-10d4-4ccc-98de-395970a2e87f",
   "metadata": {
    "editable": true,
    "slideshow": {
     "slide_type": "slide"
    },
    "tags": []
   },
   "source": [
    "## Generationen der Programmiersprachen\n",
    "\n",
    "1. **Generation** - Zuerst wurden Computer direkt in binärem *Maschinencode* programmiert, die ein Prozessor direkt ausführen kann, aber meist nur ein Prozessortyp vertehen können.\n",
    "\n",
    "    ```\n",
    "      1101 0000 0000 0111 1011\n",
    "      1011 1111 1110 1000 1010\n",
    "      1101 0010 0000 0111 1111\n",
    "    ```"
   ]
  },
  {
   "cell_type": "markdown",
   "id": "a7ff02da-6099-4341-a02e-5593c4608bab",
   "metadata": {
    "editable": true,
    "slideshow": {
     "slide_type": "fragment"
    },
    "tags": []
   },
   "source": [
    "2. **Generation** – *Assemblersprachen* nutzen Maschienenbefehle (ADD, MOV, …) eines bestimmten Prozessortyps. Die Befehle werden mit Hilfe einer Übersetzungssoftware (Assembler) in Maschinencode übersetzt.\n",
    "\n",
    "    ```nasm\n",
    "      CLO\n",
    "      MOV AL, 2     ; kopiert 2 in Register AL\n",
    "      ADD AL, 3     ; addiert 3 zu Register AL\n",
    "      END\n",
    "    ```"
   ]
  },
  {
   "cell_type": "markdown",
   "id": "289386e9-c004-4cd5-aba0-b4afd2e503d5",
   "metadata": {
    "editable": true,
    "slideshow": {
     "slide_type": "fragment"
    },
    "tags": []
   },
   "source": [
    "3. **Generation** - *Höhere Programmiersprachen* sind menschenlesbar und näher an natürlicher Sprache. Ein Compiler übersetzt den Code in den Maschinencode.\n",
    "\n",
    "    ```python\n",
    "      while i < 20:\n",
    "          x = x + i * i\n",
    "          if x > 100:\n",
    "              i = i + 3\n",
    "    ```"
   ]
  },
  {
   "cell_type": "markdown",
   "id": "a8cd78c5-d5fd-47d8-876e-526e89aba630",
   "metadata": {
    "editable": true,
    "slideshow": {
     "slide_type": "slide"
    },
    "tags": []
   },
   "source": [
    "## Die beliebtesten Programmiersprachen"
   ]
  },
  {
   "cell_type": "markdown",
   "id": "3bc4c425-6550-4363-9a3f-e6472d30fb59",
   "metadata": {
    "editable": true,
    "slideshow": {
     "slide_type": "skip"
    },
    "tags": []
   },
   "source": [
    "Durch die Änderungen der Anforderungen an Software entwickeln sich nicht nur die Softwarearchitekturen sondern auch neue Programmiersprachen die an Popularität gewinnen. So wurden zuerst traditionelle Anwendungssprachen (C++) ersetzt durch Serversprachen wie Java und dann durch Websprachen (PHP, Perl, JavaScript). Über die letzten 20 Jahren hat sich in diesem Bereich vor allem JavaScript durchgesetzt da es Client- und Serverseitig eingesetzt werden kann. Seit 2017 gewinnt vor allem Python massiv an popularität, da es insbesondere im KI-Bereich eingesetzt wird."
   ]
  },
  {
   "cell_type": "markdown",
   "id": "70af499f-6852-4026-b3e4-82047f07cf19",
   "metadata": {
    "editable": true,
    "slideshow": {
     "slide_type": ""
    },
    "tags": []
   },
   "source": [
    "- Neue Programmiersprachen entwickeln sich ständig um ändernden Anforderungen entwickelten sich \n",
    "- Traditionelle Anwendungssprachen wie C++ wurden durch Serversprachen wie Java abgelöst.\n",
    "- Später folgte ein Übergang zu Websprachen wie PHP, Perl und JavaScript.\n",
    "- In den letzten Jahren wurde JavaScript für Webseiten beliebt.\n",
    "- Seit 2017 wird Python immer Beliebter durch die Nutzung für KI."
   ]
  },
  {
   "cell_type": "markdown",
   "id": "c88bf7e9-7e58-4aba-9ef5-7306b5ac0c42",
   "metadata": {
    "editable": true,
    "slideshow": {
     "slide_type": ""
    },
    "tags": []
   },
   "source": [
    "<video width=\"584\" height=\"315\" controls class=\"vcent\">\n",
    "  <source src='images/01d_Programmiersprachen/top_prog_languages.mp4' type=\"video/mp4\">\n",
    "  Your browser does not support the video tag.\n",
    "</video>"
   ]
  },
  {
   "cell_type": "markdown",
   "id": "b38e499a-8149-4302-b9b7-2166245b2861",
   "metadata": {
    "editable": true,
    "slideshow": {
     "slide_type": "slide"
    },
    "tags": []
   },
   "source": [
    "## Python"
   ]
  },
  {
   "cell_type": "markdown",
   "id": "335f0446-5ccf-4377-9cd0-47707875988c",
   "metadata": {
    "editable": true,
    "slideshow": {
     "slide_type": "skip"
    },
    "tags": []
   },
   "source": [
    "Python hat in den letzten Jahren zunehmend an Popularität gewonnen, ist allerdings älter als Java, C# und JavaScript. Die Popularität ist zum einen darauf zurück zu führen, dass die Sprache sehr auf Lesbarkeit und Einfachheit ausgelegt ist und dadurch sehr leicht zu erlernen ist. Ferner gibt es durch ihr Alter heutzutage sehr viele Bibliotheken und für fast jedes Problem eine existierende Lösung. Dadurch ist Python auch sehr vielseitig einsetzbar ist."
   ]
  },
  {
   "cell_type": "markdown",
   "id": "0a9a1596-a7f8-49df-a1e4-e6f6341f51d4",
   "metadata": {
    "editable": true,
    "slideshow": {
     "slide_type": ""
    },
    "tags": [
     "remove-cell"
    ]
   },
   "source": [
    "- Python ist die Spache in den Data Science und KI-Wissenschaften\n",
    "- Heutzutage gibt es Python-Bibliotheken für fast jedes Anwendungsgebiet\n",
    "- Google Trend `data science` worldwide"
   ]
  },
  {
   "cell_type": "markdown",
   "id": "9c45a17e-4a7a-4b09-9a37-ee8aa4734d79",
   "metadata": {
    "editable": true,
    "slideshow": {
     "slide_type": ""
    },
    "tags": []
   },
   "source": [
    "<script type=\"text/javascript\" src=\"https://ssl.gstatic.com/trends_nrtr/4116_RC01/embed_loader.js\"></script>\n",
    "<div class=\"flex-row\">\n",
    "  <div style=\"flex: 1; height: 60vh;\">\n",
    "    <script type=\"text/javascript\"  style=\"width: 100%; height: 60vh;\">\n",
    "  trends.embed.renderExploreWidget(\"TIMESERIES\", {\"comparisonItem\":[{\"keyword\":\"/m/0jt3_q3\",\"geo\":\"\",\"time\":\"2004-01-01 2025-08-01\"}],\"category\":0,\"property\":\"\"}, {\"exploreQuery\":\"date=all&q=%2Fm%2F0jt3_q3&hl=de\",\"guestPath\":\"https://trends.google.de:443/trends/embed/\"});\n",
    "    </script>\n",
    "  </div>\n",
    "  <div style=\"flex: 1; height: 60vh;\">\n",
    "    <script type=\"text/javascript\" style=\"width: 100%; height: 60vh;\">\n",
    "  trends.embed.renderExploreWidget(\"TIMESERIES\", {\"comparisonItem\":[{\"keyword\":\"/m/05z1_\",\"geo\":\"\",\"time\":\"2004-01-01 2025-08-01\"}],\"category\":0,\"property\":\"\"}, {\"exploreQuery\":\"date=all&q=%2Fm%2F05z1_\",\"guestPath\":\"https://trends.google.de:443/trends/embed/\"});\n",
    "    </script>\n",
    "  </div>\n",
    "</div>"
   ]
  },
  {
   "cell_type": "markdown",
   "id": "5ebcb682",
   "metadata": {
    "slideshow": {
     "slide_type": "skip"
    }
   },
   "source": [
    "## Quiz\n",
    "\n",
    "\n",
    "```{quizdown}\n",
    "    ---\n",
    "    shuffleQuestions: true\n",
    "    shuffleAnswers: true\n",
    "    ---\n",
    "\n",
    "    ### Was ist eine Programmiersprache?\n",
    "    - [x] Eine formale Sprache zur Erstellung von Programmen  \n",
    "    - [ ] Eine spezielle Hardwarekomponente  \n",
    "    - [ ] Eine visuelle Darstellung von Daten  \n",
    "    - [ ] Ein Dateiformat für Textverarbeitung\n",
    "\n",
    "    ### Welche Merkmale definieren eine Programmiersprache?\n",
    "    - [x] Zeichensatz\n",
    "    - [x] Syntax\n",
    "    - [x] Semantik\n",
    "    - [ ] Farbschema\n",
    "\n",
    "    ### Was zeichnet Programmiersprachen der 1. Generation aus?\n",
    "    - [x] Binär codierter Maschinencode  \n",
    "    - [ ] Verwendung von Hochsprachen wie Python  \n",
    "    - [ ] Direkte Mensch-zu-Mensch-Kommunikation  \n",
    "    - [ ] Nutzung von HTML\n",
    "\n",
    "    ### Wodurch zeichnen sich Assemblersprachen aus?\n",
    "    - [ ] Sie sind unabhängig von der Hardwarearchitektur  \n",
    "    - [x] Sie müssen in Maschinencode übersetzt werden  \n",
    "    - [ ] Sie werden direkt vom Browser interpretiert\n",
    "    - [ ] Sie sind eine Form von natürlicher Sprache\n",
    "\n",
    "    ### Was kennzeichnet Programmiersprachen der 3. Generation?\n",
    "    - [x] Sie sind menschenlesbar und näher an natürlicher Sprache  \n",
    "    - [ ] Sie benötigen keine Übersetzung in Maschinencode  \n",
    "    - [x] Sie nutzen Compiler oder Interpreter zur Übersetzung  \n",
    "    - [ ] Sie bestehen nur aus Nullen und Einsen\n",
    "\n",
    "    ### Warum entwickeln sich neue Programmiersprachen?\n",
    "    - [x] Wegen neuer Anforderungen an Softwareentwicklung  \n",
    "    - [ ] Weil alte Sprachen nicht mehr funktionieren  \n",
    "    - [ ] Um Grafiken besser darzustellen  \n",
    "    - [ ] Für die Steuerung von Monitoren\n",
    "\n",
    "    ### Welche Faktoren beeinflussen die Beliebtheit einer Programmiersprache?\n",
    "    - [x] Community-Unterstützung  \n",
    "    - [x] Anwendungsbereiche  \n",
    "    - [x] Tools und Frameworks  \n",
    "    - [ ] Die Farbe des Logos\n",
    "\n",
    "```"
   ]
  },
  {
   "cell_type": "markdown",
   "id": "6b32d9cb",
   "metadata": {
    "editable": true,
    "slideshow": {
     "slide_type": "slide"
    },
    "tags": [
     "remove-cell"
    ]
   },
   "source": [
    "<div class=\"vslide\">\n",
    "  <div class=\"vslide-title\">\n",
    "    <p style=\"font-family: Protomolecule; font-size: 2.3em; margin: 0px auto; text-align: center; width: 100%;\">fragen?</p>\n",
    "  </div>\n",
    "  <script>setSectionBackground('#000000', 'images/mj_questions.mp4');</script>\n",
    "</div>"
   ]
  }
 ],
 "metadata": {
  "kernelspec": {
   "display_name": "Python 3 (ipykernel)",
   "language": "python",
   "name": "python3"
  },
  "language_info": {
   "codemirror_mode": {
    "name": "ipython",
    "version": 3
   },
   "file_extension": ".py",
   "mimetype": "text/x-python",
   "name": "python",
   "nbconvert_exporter": "python",
   "pygments_lexer": "ipython3",
   "version": "3.11.6"
  },
  "rise": {
   "auto_select": "none",
   "center": false,
   "enable_chalkboard": true,
   "header": "<img src=\"images/pd_logo.svg\" class=\"header_title_logo\"><img src=\"images/ai4sc_logo_v2.svg\" class=\"header_ai4sc_logo\">",
   "scroll": true,
   "show_buttons_on_startup": false,
   "slideNumber": true,
   "theme": "white"
  }
 },
 "nbformat": 4,
 "nbformat_minor": 5
}
