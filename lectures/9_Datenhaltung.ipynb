{
 "cells": [
  {
   "cell_type": "markdown",
   "metadata": {
    "slideshow": {
     "slide_type": "slide"
    },
    "tags": [
     "remove-cell"
    ]
   },
   "source": [
    "<div class=\"vslide\">\n",
    "  <div class=\"vslide-title\">\n",
    "    <p style=\"font-family: Protomolecule; font-size: 2.3em; line-height: 90%; margin: 0px auto; text-align: center; width: 100%;\"><span style=\"letter-spacing: .04rem;\">programmierung</span><br><span style=\"letter-spacing: .0rem;\">und datenbanken</span></p>\n",
    "<p class=\"author\" style=\"font-family: Protomolecule; margin: 0px auto;  text-align: center; width: 100%; font-size: 1.2em;\">Joern Ploennigs</p>\n",
    "<p class=\"subtitle\" style=\"font-family: Protomolecule; margin: 1em auto; text-align: center; width: 100%; font-size: 1.2em;\">Datenhaltung</p>\n",
    "  </div>\n",
    "<script>\n",
    "  function setSectionBackground(c,v){\n",
    "    let e=document.currentScript.previousElementSibling;\n",
    "    while(e&&e.tagName!=='SECTION')e=e.parentElement;\n",
    "    if(e){\n",
    "      if(c)e.setAttribute('data-background-color',c);\n",
    "      if(v){\n",
    "        e.setAttribute('data-background-video',v);\n",
    "        e.setAttribute('data-background-video-loop','true');\n",
    "        e.setAttribute('data-background-video-muted','true');\n",
    "      }\n",
    "    }\n",
    "  }\n",
    "  setSectionBackground('#000000', 'images/9_Datenhaltung/mj_title.mp4');\n",
    "</script>\n",
    "<style>\n",
    ".flex-row{display:flex; gap:1rem; align-items:flex-start; justify-content:space-between;}\n",
    ".flex-row .col1{flex:1; min-width:10px}\n",
    ".flex-row .col2{flex:2; min-width:10px}\n",
    ".flex-row .col3{flex:3; min-width:10px}\n",
    ".flex-row .col4{flex:4; min-width:10px}\n",
    ".flex-row .col5{flex:5; min-width:10px}\n",
    ".flex-row .col6{flex:6; min-width:10px}\n",
    ".vcent{display:flex; align-items:center; justify-content:center}\n",
    ".flex-row .col7{flex:7; min-width:10px}\n",
    "</style>\n",
    "</div>"
   ]
  },
  {
   "cell_type": "markdown",
   "metadata": {
    "slideshow": {
     "slide_type": "skip"
    }
   },
   "source": [
    "# Umgang mit Dateien"
   ]
  },
  {
   "cell_type": "markdown",
   "metadata": {
    "slideshow": {
     "slide_type": "skip"
    }
   },
   "source": [
    "![](images/9_Datenhaltung/mj_title.png)\n",
    "\n",
    "> We don’t have better algorithms. We just have more data.\n",
    ">\n",
    "> - Peter Norvig"
   ]
  },
  {
   "cell_type": "markdown",
   "metadata": {
    "slideshow": {
     "slide_type": "skip"
    }
   },
   "source": [
    "## <a href=\"/lec_slides/9_Datenhaltung.slides.html\">Folien</a>\n",
    "<iframe src=\"/lec_slides/9_Datenhaltung.slides.html\" width=\"750\" height=\"500\"></iframe>"
   ]
  },
  {
   "cell_type": "markdown",
   "metadata": {
    "slideshow": {
     "slide_type": "slide"
    },
    "tags": [
     "remove-cell"
    ]
   },
   "source": [
    "## Ablauf\n",
    "\n",
    "![](images/partB_1.svg)"
   ]
  },
  {
   "cell_type": "markdown",
   "metadata": {
    "slideshow": {
     "slide_type": "skip"
    }
   },
   "source": [
    "In Programmen müssen regelmäßig Daten geladen und gespeichert werden. Dies geschieht in Computern in Dateien, welche in Verzeichnissen organisiert sind. In der letztem Abschnitt zu Paketen haben wir bereits einige Beispiele gesehen die mit Dateien arbeiten. Diese wollen wir nun detaillierter kennen lernen."
   ]
  },
  {
   "cell_type": "markdown",
   "metadata": {
    "slideshow": {
     "slide_type": "skip"
    }
   },
   "source": [
    "## Dateien lesen"
   ]
  },
  {
   "cell_type": "markdown",
   "metadata": {
    "slideshow": {
     "slide_type": "skip"
    }
   },
   "source": [
    "Eine typische Aufgabe ist es Dateien zu laden. Hierfür bietet Python die `open()`-Funktion mit dem Kürzel `r` (read). Hierfür gibt man der `open()`-Funktion den Pfad der zu ladenden Datei an und auch den Datentyp der Datei also ob die Datei eine Textdatei ist `t` oder eine binäre Datei `b` ist.\n",
    "\n",
    "Die `open()`-Funktion verwendet man meist im `with`-Konstrukt, welcher die Datei einer Variable zuordnet (`fi`) und die Datei nach Beendigung des Blocks auch automatisch schließt. Zum lesen des Inhalts der Datei nutzen wir die `read()` des Dateiobjektes."
   ]
  },
  {
   "cell_type": "code",
   "execution_count": null,
   "metadata": {
    "slideshow": {
     "slide_type": "skip"
    }
   },
   "outputs": [],
   "source": [
    "with open(\"geometry/shapes/Line.py\", \"tr\") as fi:\n",
    "    dateinhalt=fi.read()\n",
    "    print(f\"Datentyp Datei {type(fi)}\")\n",
    "    print(f\"Datentyp Variable {type(dateinhalt)}\\n\")\n",
    "    print(dateinhalt)"
   ]
  },
  {
   "cell_type": "markdown",
   "metadata": {
    "slideshow": {
     "slide_type": "skip"
    }
   },
   "source": [
    "In gleicher Form kann man auch binäre Dateien einlesen. Dafür tauschen wir den Dateityp `t` mit binär aus `b` und laden die Datei. Wir sehen, dass jetzt der Datentyp der geladenen Dateinhalts zu `byte` wechselt. Printen wir den Dateinhalt sehen wir auch direkt die Sonderzeichen in der Datei wie `\\r` und `\\n` welche für den Zeilenumbruch stehen."
   ]
  },
  {
   "cell_type": "code",
   "execution_count": null,
   "metadata": {
    "slideshow": {
     "slide_type": "skip"
    }
   },
   "outputs": [],
   "source": [
    "with open(\"geometry/shapes/Line.py\", \"br\") as fi:\n",
    "    dateinhalt=fi.read()\n",
    "    print(f\"Datentyp Datei {type(fi)}\")\n",
    "    print(f\"Datentyp Variable {type(dateinhalt)}\\n\")\n",
    "    print(dateinhalt)"
   ]
  },
  {
   "cell_type": "markdown",
   "metadata": {
    "slideshow": {
     "slide_type": "skip"
    }
   },
   "source": [
    "## Dateien schreiben"
   ]
  },
  {
   "cell_type": "markdown",
   "metadata": {
    "slideshow": {
     "slide_type": "skip"
    }
   },
   "source": [
    "In gleicher Weise können wir mit der `open()`-Funktion auch neue Dateien erzeugen. Hierfür nutzen wir das Kürzel `w` (write). Auch hier werden Textdateien mit `t` und binäre Dateien mit `b` unterschieden. Zum Schreiben der Datei nutzen wir die `write()`-Methode des Dateiobjektes `fo`."
   ]
  },
  {
   "cell_type": "code",
   "execution_count": null,
   "metadata": {
    "slideshow": {
     "slide_type": "skip"
    }
   },
   "outputs": [],
   "source": [
    "with open(\"meineDatei.txt\", \"tw\") as fo:\n",
    "    dateinhalt=\"Meine eigener Inhalt\"\n",
    "    fo.write(dateinhalt)"
   ]
  },
  {
   "cell_type": "markdown",
   "metadata": {
    "slideshow": {
     "slide_type": "skip"
    }
   },
   "source": [
    "Zum überprüfen lesen wir die Datei wieder."
   ]
  },
  {
   "cell_type": "code",
   "execution_count": null,
   "metadata": {
    "slideshow": {
     "slide_type": "skip"
    }
   },
   "outputs": [],
   "source": [
    "with open(\"meineDatei.txt\", \"tr\") as fi:\n",
    "    print(fi.read())"
   ]
  },
  {
   "cell_type": "markdown",
   "metadata": {
    "slideshow": {
     "slide_type": "skip"
    }
   },
   "source": [
    "Wichtig zu wissen ist, dass die Datei vollständig überschrieben wird."
   ]
  },
  {
   "cell_type": "code",
   "execution_count": null,
   "metadata": {
    "slideshow": {
     "slide_type": "skip"
    }
   },
   "outputs": [],
   "source": [
    "with open(\"meineDatei.txt\", \"tw\") as fo:\n",
    "    dateinhalt=\"Neuer Inhalt\"\n",
    "    fo.write(dateinhalt)"
   ]
  },
  {
   "cell_type": "code",
   "execution_count": null,
   "metadata": {
    "slideshow": {
     "slide_type": "skip"
    }
   },
   "outputs": [],
   "source": [
    "with open(\"meineDatei.txt\", \"tr\") as fi:\n",
    "    print(fi.read())"
   ]
  },
  {
   "cell_type": "markdown",
   "metadata": {
    "slideshow": {
     "slide_type": "skip"
    }
   },
   "source": [
    "## Datei existenz testen"
   ]
  },
  {
   "cell_type": "markdown",
   "metadata": {
    "slideshow": {
     "slide_type": "skip"
    }
   },
   "source": [
    "Häufig will man testen ob eine Datei bereits existiert und dementsprechend diese laden oder z.B. neu erzeugen. Solche und andere Funktionen bietet die Standardbibliothek `os` die wir bereits kennen gelernt haben."
   ]
  },
  {
   "cell_type": "code",
   "execution_count": null,
   "metadata": {
    "slideshow": {
     "slide_type": "skip"
    }
   },
   "outputs": [],
   "source": [
    "import os\n",
    "\n",
    "if os.path.exists(\"meineDatei.txt\"):\n",
    "    print(\"Datei existiert\")\n",
    "else:\n",
    "    print(\"Datei existiert noch nicht\")"
   ]
  },
  {
   "cell_type": "markdown",
   "metadata": {
    "slideshow": {
     "slide_type": "skip"
    }
   },
   "source": [
    "## Dateien auflisten"
   ]
  },
  {
   "cell_type": "markdown",
   "metadata": {
    "slideshow": {
     "slide_type": "skip"
    }
   },
   "source": [
    "Zum Auflisten aller Dateien in einem Verzeichnis `folder` können wir die Funktion `os.listdir()` benutzen. Mit der Funktion `os.path.isfile()` können wir prüfen ob der Name auf eine Datei oder ein Verzeichnis ist. Ist es eine Datei, so können wir diese mit der `open`-Funktion öffnen, um z.B. alle Dateien zu laden und die Anzahl der Code-Zeilen zu berechnen. Dafür nutzen wir anstatt der `read`-Funktion die `readlines`-Funktion um alle Zeilen einzeln in einer Liste zu erhalten."
   ]
  },
  {
   "cell_type": "code",
   "execution_count": null,
   "metadata": {
    "slideshow": {
     "slide_type": "skip"
    }
   },
   "outputs": [],
   "source": [
    "import os\n",
    "\n",
    "folder = \"geometry/shapes/\"\n",
    "files = 0\n",
    "codelines = 0\n",
    "for count, name in enumerate(os.listdir(folder)):\n",
    "\tif os.path.isfile(os.path.join(folder, name)):\n",
    "\t\twith open(os.path.join(folder, name), \"tr\") as fi:\n",
    "\t\t\tcodelines += len(fi.readlines())\n",
    "\t\t\tfiles += 1\n",
    "\n",
    "print(f\"{codelines} Codezeilen in {files} Dateien\")"
   ]
  },
  {
   "cell_type": "markdown",
   "metadata": {
    "slideshow": {
     "slide_type": "skip"
    }
   },
   "source": [
    "## Dateien löschen"
   ]
  },
  {
   "cell_type": "markdown",
   "metadata": {
    "slideshow": {
     "slide_type": "skip"
    }
   },
   "source": [
    "Die `os`-Paket bietet auch Funktionen, um Dateien zu löschen. Selbstverständlich sollte die mit Vorsicht verwendet werdet werden."
   ]
  },
  {
   "cell_type": "code",
   "execution_count": null,
   "metadata": {
    "slideshow": {
     "slide_type": "skip"
    }
   },
   "outputs": [],
   "source": [
    "os.remove(\"meineDatei.txt\")"
   ]
  },
  {
   "cell_type": "markdown",
   "metadata": {
    "slideshow": {
     "slide_type": "skip"
    }
   },
   "source": [
    "## Typische textuelle Dateiformate"
   ]
  },
  {
   "cell_type": "markdown",
   "metadata": {
    "slideshow": {
     "slide_type": "skip"
    }
   },
   "source": [
    "### TXT-Dateien"
   ]
  },
  {
   "cell_type": "markdown",
   "metadata": {
    "slideshow": {
     "slide_type": "skip"
    }
   },
   "source": [
    "Eine der einfachsten Formate um Texte auf dem Computer zu Speichern sind Text-Dateien. Sie haben meist die Dateiendung `.txt`. Diese Dateiänderung haben wir bereits oben genutzt."
   ]
  },
  {
   "cell_type": "markdown",
   "metadata": {
    "slideshow": {
     "slide_type": "skip"
    }
   },
   "source": [
    "### JSON-Dateien"
   ]
  },
  {
   "cell_type": "markdown",
   "metadata": {
    "slideshow": {
     "slide_type": "skip"
    }
   },
   "source": [
    "Heutzutage werden strukturierte Informationen oft im `JSON`-Format ausgetauscht. Insbesondere viele APIs von Webserver im Internet nutzen diesen Standard. Er hat den Vorteil, dass die Daten durch den Menschen lesbar bleiben und somit auch vom Webdeveloper interpretiert werden können. Im Kern ähnelt der Standard der Darstellung von `dict` in Python.\n",
    "\n",
    "Wir können zum Beispiel den Datensatz zu einer Person in dem folgendem `dict` speichern."
   ]
  },
  {
   "cell_type": "code",
   "execution_count": null,
   "metadata": {
    "slideshow": {
     "slide_type": "skip"
    }
   },
   "outputs": [],
   "source": [
    "person={\n",
    "\t\"firstName\": \"John\",\n",
    "\t\"lastName\": \"Smith\",\n",
    "\t\"isAlive\": True,\n",
    "\t\"age\": 25,\n",
    "\t\"address\": {\n",
    "\t\t\"streetAddress\": \"21 2nd Street\",\n",
    "\t\t\"city\": \"New York\",\n",
    "\t\t\"state\": \"NY\",\n",
    "\t\t\"postalCode\": \"10021-3100\" \n",
    "\t},\n",
    " \t\"children\": [],\n",
    "\t\"spouse\": None\n",
    "}"
   ]
  },
  {
   "cell_type": "markdown",
   "metadata": {
    "slideshow": {
     "slide_type": "skip"
    }
   },
   "source": [
    "Mit Hilfe des `json`-Pakets lässt sich dieser Datensatz jetzt einfach in ein `JSON` String umwandeln und in eine Datei schreiben."
   ]
  },
  {
   "cell_type": "code",
   "execution_count": null,
   "metadata": {
    "slideshow": {
     "slide_type": "skip"
    }
   },
   "outputs": [],
   "source": [
    "import json\n",
    "\n",
    "with open(\"person.json\", \"tw\") as fo:\n",
    "    json.dump(person, fo, indent=2)"
   ]
  },
  {
   "cell_type": "markdown",
   "metadata": {
    "slideshow": {
     "slide_type": "skip"
    }
   },
   "source": [
    "Schauen wir uns einmal die Datei an. Da es eine textuelle Datei ist, können wir sie mit `open(name, \"tr\")` laden."
   ]
  },
  {
   "cell_type": "code",
   "execution_count": null,
   "metadata": {
    "slideshow": {
     "slide_type": "skip"
    }
   },
   "outputs": [],
   "source": [
    "with open(\"person.json\", \"tr\") as fi:\n",
    "    dateinhalt=fi.read()\n",
    "    print(dateinhalt)"
   ]
  },
  {
   "cell_type": "markdown",
   "metadata": {
    "slideshow": {
     "slide_type": "skip"
    }
   },
   "source": [
    "Wir sehen, dass die JSON-Representation dem oben definiertem Dictionary `person` sehr ähnlich ist. Die einzigen unterschiede sind, dass das in Pyton Großgeschriebene `True` hier klein geschrieben wird und das `none` aus Python mit `null` ersetzt wurde. Die Struktur beider Repräsentationen ist jedoch identisch. \n",
    "\n",
    "Aus dieser Textdatei können wir jetzt unseren Datensatz direkt als `dict` wieder laden. Zur Darstellung nutzen wir diesmal pretty Print, weil es besser zu lesen ist."
   ]
  },
  {
   "cell_type": "code",
   "execution_count": null,
   "metadata": {
    "slideshow": {
     "slide_type": "skip"
    }
   },
   "outputs": [],
   "source": [
    "from pprint import pprint\n",
    "\n",
    "with open(\"person.json\", \"tr\") as fi:\n",
    "    person_geladen=json.load(fi)\n",
    "    print(f\"Datentyp {type(person_geladen)}\")\n",
    "    pprint(person_geladen)"
   ]
  },
  {
   "cell_type": "markdown",
   "metadata": {
    "slideshow": {
     "slide_type": "skip"
    }
   },
   "source": [
    "Das geladene `dict` entspricht unserem ursprünglichem Dictionary `person`. Es hat sich zwar die Reihenfolge der Einträge geändert, aber dies ist nicht garantiert in J"
   ]
  },
  {
   "attachments": {},
   "cell_type": "markdown",
   "metadata": {
    "slideshow": {
     "slide_type": "skip"
    }
   },
   "source": [
    "## GeoJSON-Dateien"
   ]
  },
  {
   "cell_type": "markdown",
   "metadata": {
    "slideshow": {
     "slide_type": "skip"
    }
   },
   "source": [
    "Eine besondere Variante des JSON-Formates das insbesondere für die Umweltinformatik relevant ist, ist das standartisierte [GeoJSON-Format](https://geojson.org/). Dieses auf JSON-basierende Format definiert wie bestimmte Geometrische Objekte wie Punkt, Linien und Polygone in JSON dargestellt werden sollen. Jedes Element wird dabei als JSON-Objekt (`dict` in Python) beschrieben und definiert die Attribute `type` und `coordinates`."
   ]
  },
  {
   "cell_type": "markdown",
   "metadata": {
    "slideshow": {
     "slide_type": "skip"
    }
   },
   "source": [
    "Ein Punkt ist dabei definiert als Element mit dem Typen `Point` und zwei Koordinaten."
   ]
  },
  {
   "cell_type": "code",
   "execution_count": null,
   "metadata": {
    "slideshow": {
     "slide_type": "skip"
    }
   },
   "outputs": [],
   "source": [
    "punkt = {\n",
    "    \"type\": \"Point\",\n",
    "    \"coordinates\": [12.095843457646907, 54.075229197333016]\n",
    "}"
   ]
  },
  {
   "cell_type": "markdown",
   "metadata": {
    "slideshow": {
     "slide_type": "skip"
    }
   },
   "source": [
    "Eine Linie ist gegeben als `LineString` mit einer Liste an Punkt-Koordinaten, welche meist die Anfangs- und End-Koordinaten sind. Werden im `LineString` mehr als zwei Koordinaten angegeben haben wir eine Linienkette."
   ]
  },
  {
   "cell_type": "code",
   "execution_count": null,
   "metadata": {
    "slideshow": {
     "slide_type": "skip"
    }
   },
   "outputs": [],
   "source": [
    "linie_oki_auf = {\n",
    "    \"type\": \"LineString\",\n",
    "    \"coordinates\": [\n",
    "        [ 12.095844241344963, 54.075206445655795 ],\n",
    "        [ 12.09606074723871, 54.075028604743636 ],\n",
    "        [ 12.09593084370266, 54.074930156768204 ],\n",
    "        [ 12.096282665780166, 54.07495873846247 ],\n",
    "        [ 12.096558710795335, 54.07507941651065 ],\n",
    "        [ 12.096840168457192, 54.074863466071434 ],\n",
    "        [ 12.098052601464076, 54.07534617726671 ],\n",
    "        [ 12.098187917647891, 54.07534617726671 ],\n",
    "        [ 12.098317821183883, 54.07541286718799 ],\n",
    "        [ 12.098377360305278, 54.075339825840246 ],\n",
    "        [ 12.098501851194726, 54.0753779343855 ]\n",
    "    ]\n",
    "}"
   ]
  },
  {
   "cell_type": "markdown",
   "metadata": {
    "slideshow": {
     "slide_type": "skip"
    }
   },
   "source": [
    "Ein Polygon ist definiert mit dem Typ `Polygon` wessen Koordinaten geben ist als Liste einer oder meherer Linienketten, welche geschlossen sind, so dass der Endpunkt mit dem Startpunkt übereinstimmt."
   ]
  },
  {
   "cell_type": "code",
   "execution_count": null,
   "metadata": {
    "slideshow": {
     "slide_type": "skip"
    }
   },
   "outputs": [],
   "source": [
    "campus = { \n",
    "    \"type\": \"Polygon\",\n",
    "    \"coordinates\": [\n",
    "        [\n",
    "            [ 12.093402064538196, 54.07479416035679 ],\n",
    "            [ 12.094194380118807, 54.074246433609375 ],\n",
    "            [ 12.094578770845374, 54.074103747303894 ] ,\n",
    "            [ 12.095018074534778, 54.074191200259065 ],\n",
    "            [ 12.095661340649713, 54.074435147002276 ],\n",
    "            [ 12.096328140890677, 54.073947252082434 ],\n",
    "            [ 12.098359920447564, 54.075010487417984 ],\n",
    "            [ 12.098822758261605, 54.07471591412107 ],\n",
    "            [ 12.099866104521425, 54.07523141601854 ],\n",
    "            [ 12.09959938442529, 54.075383303749476 ],\n",
    "            [ 12.100462302384159, 54.075700885391115 ],\n",
    "            [ 12.098869826513692, 54.0770356222489 ],\n",
    "            [ 12.09752838132394, 54.076602988106 ],\n",
    "            [ 12.095394620552042, 54.076082900668524 ],\n",
    "            [ 12.09422575895411, 54.07581595060367 ],\n",
    "            [ 12.094743509729398, 54.07538790639916 ],\n",
    "            [ 12.093402064538196, 54.07479416035679 ]\n",
    "        ]\n",
    "    ]\n",
    "}"
   ]
  },
  {
   "cell_type": "markdown",
   "metadata": {
    "slideshow": {
     "slide_type": "skip"
    }
   },
   "source": [
    "Da viele Objekte ja nicht neben der Geometrie auch noch weitere Attribute haben, gibt es das Hilfsobjekt `Feature` indem es das Attribute `properties` gibt in dem man eigenen Meta-Daten definieren kann. So können wir uns ein GeoJSON-Objekt definieren, um die Position des OKI zu speichern."
   ]
  },
  {
   "cell_type": "code",
   "execution_count": null,
   "metadata": {
    "slideshow": {
     "slide_type": "skip"
    }
   },
   "outputs": [],
   "source": [
    "oki = {\n",
    "  \"type\": \"Feature\",\n",
    "  \"geometry\": {\n",
    "    \"type\": \"Point\",\n",
    "    \"coordinates\": [12.095843457646907, 54.075229197333016]\n",
    "  },\n",
    "  \"properties\": {\n",
    "    \"name\": \"OKI\",\n",
    "    \"addresse\": \"Justus-von-Liebig-Weg 2\",\n",
    "    \"stadt\": \"Rostock\",\n",
    "    \"postleitzahl\": \"18059\",\n",
    "    \"land\": \"Deutschland\"\n",
    "  }\n",
    "}\n",
    "\n",
    "auf = {\n",
    "  \"type\": \"Feature\",\n",
    "  \"geometry\": {\n",
    "    \"type\": \"Point\",\n",
    "    \"coordinates\": [12.098494794410726, 54.075390284810425]\n",
    "  },\n",
    "  \"properties\": {\n",
    "    \"name\": \"AUF\",\n",
    "    \"addresse\": \"Justus-von-Liebig-Weg 6\",\n",
    "    \"stadt\": \"Rostock\",\n",
    "    \"postleitzahl\":\"18059\",\n",
    "    \"land\": \"Deutschland\"\n",
    "  }\n",
    "}\n",
    "\n",
    "weg_oki_auf = {\n",
    "  \"type\": \"Feature\",\n",
    "  \"geometry\": linie_oki_auf,\n",
    "  \"properties\": {\n",
    "    \"name\": \"Weg OKI zu AUF\",\n",
    "    \"stadt\": \"Rostock\",\n",
    "    \"postleitzahl\":\"18059\",\n",
    "    \"land\": \"Deutschland\"\n",
    "  }\n",
    "}\n",
    "    \n",
    "campus_auf = {\n",
    "  \"type\": \"Feature\",\n",
    "  \"geometry\": campus,\n",
    "  \"properties\": {\n",
    "    \"name\": \"Campus\",\n",
    "    \"stadt\": \"Rostock\",\n",
    "    \"postleitzahl\":\"18059\",\n",
    "    \"land\": \"Deutschland\"\n",
    "  }\n",
    "}"
   ]
  },
  {
   "attachments": {},
   "cell_type": "markdown",
   "metadata": {
    "slideshow": {
     "slide_type": "skip"
    }
   },
   "source": [
    "Eine Sammlung an `Features` wird in einer `FeatureCollection` abgelegt. Sie besitzt neben dem `type` die Liste `features`."
   ]
  },
  {
   "cell_type": "code",
   "execution_count": null,
   "metadata": {
    "slideshow": {
     "slide_type": "skip"
    }
   },
   "outputs": [],
   "source": [
    "features = {\n",
    "  \"type\": \"FeatureCollection\",\n",
    "  \"features\": [\n",
    "    oki,\n",
    "    auf,\n",
    "    weg_oki_auf,\n",
    "    campus_auf\n",
    "  ]\n",
    "}"
   ]
  },
  {
   "attachments": {},
   "cell_type": "markdown",
   "metadata": {
    "slideshow": {
     "slide_type": "skip"
    }
   },
   "source": [
    "Zur Verarbeitung dieser GeoJSON-Objekte in Python können wir das Paket `geojson` nutzen. Wir installieren diese wieder mit `pip`."
   ]
  },
  {
   "cell_type": "code",
   "execution_count": null,
   "metadata": {
    "slideshow": {
     "slide_type": "skip"
    }
   },
   "outputs": [],
   "source": [
    "pip install geojson  --quiet"
   ]
  },
  {
   "attachments": {},
   "cell_type": "markdown",
   "metadata": {
    "slideshow": {
     "slide_type": "skip"
    }
   },
   "source": [
    "Das Paket `geojson` bietet uns auch Standardklassen für Punkte, Linien und Polygone an, die wir uns zuvor selbst als [Klassen](7a_Object.html) definiert hatten. Aufgrund des umfangreichen Angebots and Paketen für Python lassen sich häufig auch Pakete finden, die entsprechende Klassen für die eigenen Problemstellungen bieten, so dass sich immer eine Suche lohnt. Ein Punkt in GeoJSON erzeugen wir mit dem Paket durch"
   ]
  },
  {
   "cell_type": "code",
   "execution_count": null,
   "metadata": {
    "slideshow": {
     "slide_type": "skip"
    }
   },
   "outputs": [],
   "source": [
    "from geojson import Point\n",
    "\n",
    "geojson_punkt=Point((12.095843457646907, 54.075229197333016))\n",
    "print(type(geojson_punkt))\n",
    "print(geojson_punkt)"
   ]
  },
  {
   "attachments": {},
   "cell_type": "markdown",
   "metadata": {
    "slideshow": {
     "slide_type": "skip"
    }
   },
   "source": [
    "Neue Instanzen lassen sich auch direkt aus dem JSON erzeugen. Hierfür benutzen wir die `loads`-Funktion des Pakets. Sie wandelt einen JSON-String in ein Objekt um. Um den JSON-String zu erzeugen, wandeln wir das Dictionary `punkt` in ein String um mit der Funktion `json.dumps()`."
   ]
  },
  {
   "cell_type": "code",
   "execution_count": null,
   "metadata": {
    "slideshow": {
     "slide_type": "skip"
    }
   },
   "outputs": [],
   "source": [
    "import geojson\n",
    "import json\n",
    "\n",
    "json_str=json.dumps(punkt)\n",
    "gson_punkt=geojson.loads(json_str)\n",
    "\n",
    "print(type(gson_punkt))\n",
    "print(gson_punkt)"
   ]
  },
  {
   "attachments": {},
   "cell_type": "markdown",
   "metadata": {
    "slideshow": {
     "slide_type": "skip"
    }
   },
   "source": [
    "So lässt sich auch unser ganze Feature Collection laden."
   ]
  },
  {
   "cell_type": "code",
   "execution_count": null,
   "metadata": {
    "slideshow": {
     "slide_type": "skip"
    }
   },
   "outputs": [],
   "source": [
    "import geojson\n",
    "import json\n",
    "\n",
    "json_str=json.dumps(features)\n",
    "gson_features=geojson.loads(json_str)\n",
    "\n",
    "print(type(gson_features))\n",
    "print(gson_features)"
   ]
  },
  {
   "attachments": {},
   "cell_type": "markdown",
   "metadata": {
    "slideshow": {
     "slide_type": "skip"
    }
   },
   "source": [
    "Der Vorteil von GeoJSON-Objekten ist, dass wiederum viele weitere Pakete existieren, um dieses Format zu analysieren. Wollen wir zum Beispile unsere Feature Collection auf einer Karte visualisieren, können wir das Paket `geojsonio` nutzen."
   ]
  },
  {
   "cell_type": "code",
   "execution_count": null,
   "metadata": {
    "slideshow": {
     "slide_type": "skip"
    }
   },
   "outputs": [],
   "source": [
    "pip install geojsonio  --quiet"
   ]
  },
  {
   "cell_type": "code",
   "execution_count": null,
   "metadata": {
    "slideshow": {
     "slide_type": "skip"
    },
    "tags": [
     "hide-output"
    ]
   },
   "outputs": [],
   "source": [
    "import geojsonio\n",
    "\n",
    "geojsonio.display(json_str)"
   ]
  },
  {
   "attachments": {},
   "cell_type": "markdown",
   "metadata": {
    "slideshow": {
     "slide_type": "skip"
    }
   },
   "source": [
    "Wenn wir dem Link folgen kommen wir zu einer Webseite die uns die Polygone, Linie und Punkte anzeigt."
   ]
  },
  {
   "cell_type": "markdown",
   "metadata": {
    "slideshow": {
     "slide_type": "skip"
    }
   },
   "source": [
    "![Campus](images/campus.png)"
   ]
  },
  {
   "attachments": {},
   "cell_type": "markdown",
   "metadata": {
    "slideshow": {
     "slide_type": "skip"
    }
   },
   "source": [
    "Weitere Anwendungen von GeoJSON werden wir in der Übung kennen lernen."
   ]
  },
  {
   "attachments": {},
   "cell_type": "markdown",
   "metadata": {
    "slideshow": {
     "slide_type": "skip"
    }
   },
   "source": [
    "## XML"
   ]
  },
  {
   "cell_type": "markdown",
   "metadata": {
    "slideshow": {
     "slide_type": "skip"
    }
   },
   "source": [
    "XML ist ein anderes sehr weit verbreitetes Dateiformat. Alle Webseiten im Internet nutzen z.B. dieses Format. Es ist älter als JSON und immer noch sehr beliebt, weil es erlaubt Schemata (XLS) zu definieren, gegen diese die Datei validiert werden kann. So kann man z.B. sicher stellen das HTML-Dateien korrekt sind.\n",
    "\n",
    "Mit Hilfe der externen Pakete `dicttoxml` und `xmltodict` können XML-Dateien auch einfach geschrieben und gelesen werden. Wir installieren sie mit `pip`."
   ]
  },
  {
   "cell_type": "code",
   "execution_count": null,
   "metadata": {
    "slideshow": {
     "slide_type": "skip"
    },
    "tags": []
   },
   "outputs": [],
   "source": [
    "pip install dicttoxml xmltodict  --quiet"
   ]
  },
  {
   "cell_type": "code",
   "execution_count": null,
   "metadata": {
    "slideshow": {
     "slide_type": "skip"
    },
    "tags": [
     "remove-cell"
    ]
   },
   "outputs": [],
   "source": [
    "import dicttoxml\n",
    "\n",
    "with open(\"person.xml\", \"bw\") as fo:\n",
    "    fo.write(dicttoxml.dicttoxml(person, custom_root=\"person\"))"
   ]
  },
  {
   "cell_type": "code",
   "execution_count": null,
   "metadata": {
    "slideshow": {
     "slide_type": "skip"
    }
   },
   "outputs": [],
   "source": [
    "with open(\"person.xml\", \"tr\") as fi:\n",
    "    dateinhalt = fi.read()\n",
    "    print(dateinhalt)"
   ]
  },
  {
   "cell_type": "code",
   "execution_count": null,
   "metadata": {
    "slideshow": {
     "slide_type": "skip"
    }
   },
   "outputs": [],
   "source": [
    "import xmltodict\n",
    "\n",
    "with open(\"person.xml\", \"tr\") as fi:\n",
    "    person_geladen = xmltodict.parse(fi.read(), xml_attribs=False)\n",
    "    print(f\"Datentyp {type(person_geladen)}\")\n",
    "    pprint(person_geladen)"
   ]
  },
  {
   "cell_type": "markdown",
   "metadata": {
    "slideshow": {
     "slide_type": "skip"
    }
   },
   "source": [
    "Auch hier entspricht das geladene `dict` unserem ursprünglichem."
   ]
  },
  {
   "cell_type": "markdown",
   "metadata": {
    "slideshow": {
     "slide_type": "skip"
    }
   },
   "source": [
    "### CSV-Dateien"
   ]
  },
  {
   "cell_type": "markdown",
   "metadata": {
    "slideshow": {
     "slide_type": "skip"
    }
   },
   "source": [
    "Tabellen und Messwerte werden häufig als CSV-Dateien ausgetauscht. Dies ist ein sehr einfaches Format bei dem in der ersten Zeile der Text-Datei die Spaltennamen stehen und dann in jeder Zeile steht eine Reihe der Tabelle. Alle Werte werden durch Kommata `,` getrennt. Da das Komma im Deutschen als Dezimaltrennzeichen genutzt wird, wird hier häufig ein `;` oder Tabulator `\\t` genutzt.\n",
    "\n",
    "Zum Verarbeiten von Tabellen nutzt man in Python meist die `pandas`-Bibliothek. Wollen wir zum Beispiel den Datensatz zweier Personen speichern, so wandeln wir diesen zuerst in eine `pandas`-Tabelle (DataFrame) um."
   ]
  },
  {
   "cell_type": "code",
   "execution_count": null,
   "metadata": {
    "slideshow": {
     "slide_type": "skip"
    }
   },
   "outputs": [],
   "source": [
    "leute=[\n",
    "    {\"FirstName\":\"John\", \"LastName\":\"Smith\", \"IsAlive\":True, \"Age\":25},\n",
    "    {\"FirstName\":\"Mary\", \"LastName\":\"Sue\", \"IsAlive\":True, \"Age\":30}\n",
    "]"
   ]
  },
  {
   "cell_type": "code",
   "execution_count": null,
   "metadata": {
    "slideshow": {
     "slide_type": "skip"
    }
   },
   "outputs": [],
   "source": [
    "import pandas as pd\n",
    "\n",
    "tabelle=pd.DataFrame(leute)\n",
    "tabelle"
   ]
  },
  {
   "cell_type": "markdown",
   "metadata": {
    "slideshow": {
     "slide_type": "skip"
    }
   },
   "source": [
    "Diesen können wir jetzt als CSV-Datei speichern."
   ]
  },
  {
   "cell_type": "code",
   "execution_count": null,
   "metadata": {
    "slideshow": {
     "slide_type": "skip"
    }
   },
   "outputs": [],
   "source": [
    "tabelle.to_csv(\"leute.csv\", index=False) # index=False sorgt dafür dass die Zeilennummern 0 und 1 weggelassen werden"
   ]
  },
  {
   "cell_type": "markdown",
   "metadata": {
    "slideshow": {
     "slide_type": "skip"
    }
   },
   "source": [
    "Wir lesen probeweise die Datei wieder ein. Da sie text-basiert ist können wir `open()` mit `tr` nutzen."
   ]
  },
  {
   "cell_type": "code",
   "execution_count": null,
   "metadata": {
    "slideshow": {
     "slide_type": "skip"
    }
   },
   "outputs": [],
   "source": [
    "with open(\"leute.csv\", \"tr\") as fi:\n",
    "    dateinhalt = fi.read()\n",
    "    print(dateinhalt)"
   ]
  },
  {
   "cell_type": "markdown",
   "metadata": {
    "slideshow": {
     "slide_type": "skip"
    }
   },
   "source": [
    "Wir können jetzt die CSV-Datei wieder in eine Tabelle laden."
   ]
  },
  {
   "cell_type": "code",
   "execution_count": null,
   "metadata": {
    "slideshow": {
     "slide_type": "skip"
    }
   },
   "outputs": [],
   "source": [
    "tabelle_gelesen = pd.read_csv(\"leute.csv\")\n",
    "tabelle_gelesen"
   ]
  },
  {
   "cell_type": "markdown",
   "metadata": {
    "slideshow": {
     "slide_type": "skip"
    }
   },
   "source": [
    "und zu dem Dictionary zurückverwandeln"
   ]
  },
  {
   "cell_type": "code",
   "execution_count": null,
   "metadata": {
    "slideshow": {
     "slide_type": "skip"
    }
   },
   "outputs": [],
   "source": [
    "tabelle_gelesen.to_dict(\"records\")"
   ]
  },
  {
   "cell_type": "code",
   "execution_count": null,
   "metadata": {
    "slideshow": {
     "slide_type": "skip"
    },
    "tags": [
     "remove-cell"
    ]
   },
   "outputs": [],
   "source": [
    "# wir löschen die Datei\n",
    "os.remove(\"leute.csv\")"
   ]
  },
  {
   "cell_type": "markdown",
   "metadata": {
    "slideshow": {
     "slide_type": "skip"
    }
   },
   "source": [
    "## Typische binäre Dateiformate\n",
    "### XLS-Dateien"
   ]
  },
  {
   "cell_type": "markdown",
   "metadata": {
    "slideshow": {
     "slide_type": "skip"
    }
   },
   "source": [
    "Diese CSV-Dateien können wir auch einfach in andere Programme wie Microsoft Excel einlesen oder von dort aus speichern. Das Hausformat von Excel sind `.xlsx` Dateien. Diese können wir mit dem Paket `openpyxl` auch direkt aus pandas heraus schreiben. Wir installieren uns `openpyxl` mit ´pip`."
   ]
  },
  {
   "cell_type": "code",
   "execution_count": null,
   "metadata": {
    "slideshow": {
     "slide_type": "skip"
    }
   },
   "outputs": [],
   "source": [
    "pip install openpyxl  --quiet"
   ]
  },
  {
   "cell_type": "markdown",
   "metadata": {
    "slideshow": {
     "slide_type": "skip"
    }
   },
   "source": [
    "Nach der installation können wir einfach die Tabelle als Excel-Datei exportieren."
   ]
  },
  {
   "cell_type": "code",
   "execution_count": null,
   "metadata": {
    "slideshow": {
     "slide_type": "skip"
    }
   },
   "outputs": [],
   "source": [
    "tabelle.to_excel(\"leute.xlsx\", index=False) # index=False sorgt dafür dass die Zeilennummer weggelassen wird"
   ]
  },
  {
   "cell_type": "markdown",
   "metadata": {
    "slideshow": {
     "slide_type": "skip"
    }
   },
   "source": [
    "Diese Datei ist erstmal eine binäre Datei. Wir können sie also nicht mit `open()` und `tr` lesen, sondern müssen die binäre Variante mit `br` nehmen."
   ]
  },
  {
   "cell_type": "code",
   "execution_count": null,
   "metadata": {
    "slideshow": {
     "slide_type": "skip"
    },
    "tags": [
     "output_scroll"
    ]
   },
   "outputs": [],
   "source": [
    "with open(\"leute.xlsx\", \"br\") as fi:\n",
    "    dateinhalt = fi.read()\n",
    "    print(dateinhalt)"
   ]
  },
  {
   "cell_type": "markdown",
   "metadata": {
    "slideshow": {
     "slide_type": "skip"
    }
   },
   "source": [
    "Was wir sehen sind viele unverständliche binäre Zeichen. Dahinter steckt in diesem Fall eine komprimierte ZIP-Datei, da das `.xlsx`-Dateiformat eigentlich nur eine ZIP-Datei ist die mehrere XML-Dateien enthält."
   ]
  },
  {
   "cell_type": "markdown",
   "metadata": {
    "slideshow": {
     "slide_type": "skip"
    }
   },
   "source": [
    "### ZIP-Dateien"
   ]
  },
  {
   "cell_type": "markdown",
   "metadata": {
    "slideshow": {
     "slide_type": "skip"
    }
   },
   "source": [
    "ZIP-Dateien sind Dateien, welche andere Dateien und Verzeichnisse enthalten und diese komprimieren. Dadurch können mehrere Dateien in einer einzigen zusammengefasst werden und verbrauchen weniger Speicher. Deshalb werden ZIP-Dateien gerne im Versand mehrere Dateien verwendet.\n",
    "\n",
    "Auch die `.xlsx` Datei von Excel ist eine verkappte ZIP-Datei, die mehrere XML-Dateien in dem offenen Office-Format enthält.\n",
    "\n",
    "Dies lässt sich zeigen in dem wir die Datei in eine ZIP-Datei umbenennen mit `os.rename()`."
   ]
  },
  {
   "cell_type": "code",
   "execution_count": null,
   "metadata": {
    "slideshow": {
     "slide_type": "skip"
    }
   },
   "outputs": [],
   "source": [
    "os.rename(\"leute.xlsx\", \"leute.zip\")"
   ]
  },
  {
   "cell_type": "markdown",
   "metadata": {
    "slideshow": {
     "slide_type": "skip"
    }
   },
   "source": [
    "Wollen wir die Dateien in der Zip-Datei sehen, so können wir diese mit dem `ZipFile`-Objekt des Standardpaktes `zipfile` öffnen. Es funktioniert genauso wie `open()` nur für ZIP-Dateien. Mit der Methode `namelist` können wir alle Dateien in der Zip-Datei auflisten."
   ]
  },
  {
   "cell_type": "code",
   "execution_count": null,
   "metadata": {
    "slideshow": {
     "slide_type": "skip"
    }
   },
   "outputs": [],
   "source": [
    "import zipfile\n",
    "\n",
    "with zipfile.ZipFile(\"leute.zip\",'r') as zipdatei:\n",
    "    for fname in zipdatei.namelist():\n",
    "        print(fname)"
   ]
  },
  {
   "cell_type": "markdown",
   "metadata": {
    "slideshow": {
     "slide_type": "skip"
    }
   },
   "source": [
    "Um aus der Zip-Datei eine einzelne Datei zu lesen, können wir die `read()`-Methode nutzen. Laden wir z.B. die 'xl/worksheets/sheet1.xml' welche unsere Daten enthält so sehen wir unsere Daten in der typischen XML-Struktur."
   ]
  },
  {
   "cell_type": "code",
   "execution_count": null,
   "metadata": {
    "slideshow": {
     "slide_type": "skip"
    }
   },
   "outputs": [],
   "source": [
    "import zipfile\n",
    "from pprint import pprint\n",
    "\n",
    "with zipfile.ZipFile(\"leute.zip\",'r') as zipdatei:\n",
    "    xmldatei = zipdatei.read(\"xl/worksheets/sheet1.xml\")\n",
    "    print(xmldatei)"
   ]
  },
  {
   "cell_type": "markdown",
   "metadata": {
    "slideshow": {
     "slide_type": "skip"
    }
   },
   "source": [
    "Mit der `parse`-Funktion des `xmltodict`-Paketes können wir diese XML-Datei zum Beispiel in ein ´dict´ in Python umwandeln."
   ]
  },
  {
   "cell_type": "code",
   "execution_count": null,
   "metadata": {
    "slideshow": {
     "slide_type": "skip"
    }
   },
   "outputs": [],
   "source": [
    "xmldict = xmltodict.parse(xmldatei, xml_attribs=False)\n",
    "pprint(xmldict)"
   ]
  },
  {
   "cell_type": "markdown",
   "metadata": {
    "slideshow": {
     "slide_type": "skip"
    }
   },
   "source": [
    "Unser ursprüngliches Dictionary `leute`, welches wir oben definiert haben ist in diesem Dictionary nicht mehr erkenntlich. Das liegt daran, dass dieses Format von Microsoft Excel definiert wurde und nicht speziel für unseren Zweck ausgelegt ist. Wichtig ist allerdings, dass das Format durchaus durch Menschen lesbar ist, so dass heutzutage viele andere Tools, wie LibreOffice, Google Docs, etc. dieses Format lesen und schreiben können. Das ist ein wichtiger Grund für die Nutzung von offenen XML-Formaten."
   ]
  },
  {
   "cell_type": "code",
   "execution_count": null,
   "metadata": {
    "slideshow": {
     "slide_type": "skip"
    },
    "tags": [
     "remove-cell"
    ]
   },
   "outputs": [],
   "source": [
    "# wir löschen die temporären datei\n",
    "os.remove(\"person.json\")\n",
    "os.remove(\"person.xml\")\n",
    "os.remove(\"leute.zip\")"
   ]
  },
  {
   "cell_type": "markdown",
   "metadata": {
    "slideshow": {
     "slide_type": "skip"
    }
   },
   "source": [
    "## Quiz\n",
    "\n",
    "\n",
    "```{quizdown}\n",
    "    ---\n",
    "    shuffleQuestions: true\n",
    "    shuffleAnswers: true\n",
    "    ---\n",
    "\n",
    "    ### Warum werden in Programmen häufig Dateien verwendet?\n",
    "    - [x] Um Daten dauerhaft zu speichern\n",
    "    - [ ] Um den Code schneller auszuführen\n",
    "    - [ ] Um Variablen automatisch zu initialisieren\n",
    "    - [ ] Um grafische Oberflächen zu erstellen\n",
    "\n",
    "    ### Wo befinden sich Dateien in einem Computer?\n",
    "    - [x] In Verzeichnissen (Ordnern)\n",
    "    - [ ] Im RAM\n",
    "    - [ ] In der CPU\n",
    "    - [ ] Nur in der Cloud\n",
    "\n",
    "    ### Welche der folgenden Aussagen zum Umgang mit Dateien in Python ist korrekt?\n",
    "    - [x] Man sollte Dateien nach dem Öffnen immer schließen oder `with` verwenden.\n",
    "    - [ ] Dateien können ohne Pfadangabe nur aus dem Internet geladen werden.\n",
    "    - [ ] Es gibt keine Möglichkeit, Dateien zeilenweise zu lesen.\n",
    "    - [ ] Python unterstützt keinen Schreibmodus.\n",
    "\n",
    "    ### Was macht der folgende Code?\n",
    "    ```python\n",
    "    with open(\"notizen.txt\", \"r\") as f:\n",
    "        zeilen = f.readlines()\n",
    "    ```\n",
    "    - [x] Er liest alle Zeilen der Datei `notizen.txt` in eine Liste ein.\n",
    "    - [ ] Er schreibt alle Zeilen in die Datei.\n",
    "    - [ ] Er löscht die Datei.\n",
    "    - [ ] Er gibt jede Zeile sofort auf dem Bildschirm aus.\n",
    "\n",
    "    ### Was bewirkt die Funktion `open(\"datei.txt\", \"r\")` in Python?\n",
    "    - [x] Sie öffnet die Datei `datei.txt` zum Lesen.\n",
    "    - [ ] Sie erstellt eine neue Datei mit dem Namen `datei.txt`.\n",
    "    - [ ] Sie öffnet die Datei `datei.txt` zum Schreiben.\n",
    "    - [ ] Sie löscht den Inhalt der Datei `datei.txt`.\n",
    "\n",
    "    ### Was passiert, wenn die Datei nicht existiert und `open(\"nichtda.txt\", \"r\")` ausgeführt wird?\n",
    "    - [x] Es wird eine Fehlermeldung `FileNotFoundError` ausgelöst.\n",
    "    - [ ] Eine leere Datei wird erstellt.\n",
    "    - [ ] Das Programm läuft normal weiter.\n",
    "    - [ ] Die Datei wird automatisch im Schreibmodus geöffnet.\n",
    "\n",
    "    ### Welcher Fehler steckt in diesem Beispiel?\n",
    "    ```python\n",
    "    file = open(\"daten.txt\", \"r\"\n",
    "    data = file.read()\n",
    "    ```\n",
    "    - [x] Eine schließende Klammer fehlt in der `open`-Funktion.\n",
    "    - [ ] Der Dateiname ist ungültig.\n",
    "    - [ ] `read()` kann nur auf binäre Dateien angewendet werden.\n",
    "    - [ ] `open` ist kein gültiger Befehl.\n",
    "\n",
    "\n",
    "    ### Welcher Modus öffnet eine Datei zum Schreiben und überschreibt den Inhalt?\n",
    "    - [x] \"w\"\n",
    "    - [ ] \"r\"\n",
    "    - [ ] \"a\"\n",
    "    - [ ] \"x\"\n",
    "\n",
    "    ### Was passiert bei folgendem Code, wenn die Datei bereits existiert?\n",
    "    ```python\n",
    "    with open(\"ausgabe.txt\", \"w\") as f:\n",
    "        f.write(\"Hallo Welt\")\n",
    "    ```\n",
    "    - [x] Der alte Inhalt der Datei wird gelöscht und überschrieben.\n",
    "    - [ ] Es wird ein Fehler ausgelöst.\n",
    "    - [ ] Der neue Text wird an das Ende der Datei angehängt.\n",
    "    - [ ] Die Datei wird nicht verändert.\n",
    "\n",
    "    ### Wie prüft man in Python, ob eine Datei existiert?\n",
    "    - [x] Mit `os.path.exists(\"datei.txt\")`\n",
    "    - [ ] Mit `open(\"datei.txt\")`\n",
    "    - [ ] Mit `exists(\"datei.txt\")`\n",
    "    - [ ] Mit `os.exist(\"datei.txt\")`\n",
    "\n",
    "    ### Was ist notwendig, um `os.path.exists` nutzen zu können?\n",
    "    - [x] Das Modul `os` muss importiert werden.\n",
    "    - [ ] Das Modul `datetime` muss importiert werden.\n",
    "    - [ ] Es braucht keine Imports.\n",
    "    - [ ] `os.path.exists` ist eine eingebaute Funktion.\n",
    "\n",
    "    ### Welche Funktion listet alle Dateien in einem Verzeichnis auf?\n",
    "    - [x] `os.listdir()`\n",
    "    - [ ] `os.showfiles()`\n",
    "    - [ ] `os.files()`\n",
    "    - [ ] `list.files()`\n",
    "\n",
    "    ### Wie kann man mit Python nur `.txt`-Dateien aus einem Ordner auflisten?\n",
    "    - [x] Mit einer Kombination aus `os.listdir()` und einer Filterung per Schleife\n",
    "    - [ ] Nur mit `os.gettxtfiles()`\n",
    "    - [ ] Automatisch mit `open(\"*.txt\")`\n",
    "    - [ ] Mit `file.list(\"*.txt\")`\n",
    "\n",
    "    ### Wie löscht man eine Datei in Python?\n",
    "    - [x] Mit `os.remove(\"datei.txt\")`\n",
    "    - [ ] Mit `os.delete(\"datei.txt\")`\n",
    "    - [ ] Mit `os.clear(\"datei.txt\")`\n",
    "    - [ ] Mit `os.erase(\"datei.txt\")`\n",
    "\n",
    "    ### Wie lädt man eine JSON-Datei in Python?\n",
    "    - [x] Mit `json.load(open(\"datei.json\"))`\n",
    "    - [ ] Mit `json.read(\"datei.json\")`\n",
    "    - [ ] Mit `json.load(\"datei.json\")`\n",
    "    - [ ] Mit `json.open(\"datei.json\")`\n",
    "\n",
    "    ### Was ist der Zweck von `json.dump()`?\n",
    "    - [x] Um Python-Objekte in eine JSON-Datei zu schreiben.\n",
    "    - [ ] Um JSON-Daten zu lesen.\n",
    "    - [ ] Um JSON-Daten zu löschen.\n",
    "    - [ ] Um JSON-Daten zu formatieren.\n",
    "\n",
    "    ### Was ist JSON?\n",
    "    - [x] Ein textbasiertes Format zum Austausch von Daten.\n",
    "    - [ ] Ein binäres Dateiformat.\n",
    "    - [ ] Ein Bildformat\n",
    "\n",
    "    ### Was sind textbasierte Dateien?\n",
    "    - [ ] *.png\n",
    "    - [x] *.csv\n",
    "    - [x] *.xml\n",
    "    - [x] *.json\n",
    "    - [ ] *.jpg\n",
    "\n",
    "    ### Was ist der Unterschied zwischen JSON und XML?\n",
    "    - [x] JSON ist einfacher und kompakter, XML ist umfangreicher und flexibler.\n",
    "    - [ ] JSON ist älter als XML.\n",
    "    - [ ] XML ist einfacher zu lesen als JSON.\n",
    "    - [ ] JSON kann keine verschachtelten Strukturen darstellen.\n",
    "\n",
    "```"
   ]
  },
  {
   "cell_type": "markdown",
   "metadata": {
    "slideshow": {
     "slide_type": "slide"
    },
    "tags": [
     "remove-cell"
    ]
   },
   "source": [
    "<div class=\"vslide\">\n",
    "  <div class=\"vslide-title\">\n",
    "    <p style=\"font-family: Protomolecule; font-size: 2.3em; margin: 0px auto; text-align: center; width: 100%;\">fragen?</p>\n",
    "  </div>\n",
    "  <script>setSectionBackground('#000000', 'images/mj_questions.mp4');</script>\n",
    "</div>"
   ]
  }
 ],
 "metadata": {
  "kernelspec": {
   "display_name": "Python 3 (ipykernel)",
   "language": "python",
   "name": "python3"
  },
  "language_info": {
   "codemirror_mode": {
    "name": "ipython",
    "version": 3
   },
   "file_extension": ".py",
   "mimetype": "text/x-python",
   "name": "python",
   "nbconvert_exporter": "python",
   "pygments_lexer": "ipython3",
   "version": "3.12.10"
  },
  "rise": {
   "auto_select": "none",
   "center": false,
   "enable_chalkboard": true,
   "header": "<img src=\"images/pd_logo.svg\" class=\"header_title_logo\"><img src=\"images/ai4sc_logo_v2.svg\" class=\"header_ai4sc_logo\">",
   "scroll": true,
   "show_buttons_on_startup": false,
   "slideNumber": true,
   "theme": "white"
  },
  "vscode": {
   "interpreter": {
    "hash": "c6f6ea9c9385f57658f4c302ffd3b717b6cd59b095fbd1c55795f0b67656eecd"
   }
  }
 },
 "nbformat": 4,
 "nbformat_minor": 4
}
