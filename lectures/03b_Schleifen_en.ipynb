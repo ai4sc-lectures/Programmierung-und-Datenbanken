{
 "cells": [
  {
   "cell_type": "markdown",
   "id": "90aeed5d006e4c78a2c9b079d4780d8b",
   "metadata": {
    "slideshow": {
     "slide_type": "skip"
    },
    "tags": [
     "translated_en"
    ],
    "translation": {
     "lang": "de",
     "src_hash": "054ee94c27228532b75c867f0cf7e953ba8acd8ca8716c78964339a3ead3fa1a",
     "updated_at_iso": "2025-08-16T15:24:47.024733+00:00"
    }
   },
   "source": [
    "# Loops"
   ]
  },
  {
   "cell_type": "markdown",
   "id": "b837164a6a7b4b16a2917189138e54e4",
   "metadata": {
    "slideshow": {
     "slide_type": "skip"
    },
    "tags": [
     "translated_en"
    ],
    "translation": {
     "lang": "de",
     "src_hash": "9066752e8418573e0f2bcbe0cfd3fd04a0684da98c2e0dc7c99539dad477c507",
     "updated_at_iso": "2025-08-16T15:24:54.207310+00:00"
    }
   },
   "source": [
    "<figure class=\"mj-tile-band\">\n",
    "<img src='images/03b_Schleifen/mj_title_band.jpg'>\n",
    "<figcaption>Midjourney: Loops, ref. Robert Delaunay</figcaption>\n",
    "</figure>\n",
    "\n",
    "> Insanity is doing the same thing over and over again and expecting different results.\n",
    ">\n",
    "> — Albert Einstein"
   ]
  },
  {
   "cell_type": "markdown",
   "id": "1cdd7c6f97944611b1e450722e80d900",
   "metadata": {
    "slideshow": {
     "slide_type": "skip"
    },
    "tags": [
     "translated_en"
    ],
    "translation": {
     "lang": "de",
     "src_hash": "bd97493dfb5ac03d407b32ff6e07ddbcc8336a3185957ba4198ec6a5d9ff251b",
     "updated_at_iso": "2025-08-16T15:24:58.714247+00:00"
    }
   },
   "source": [
    "## <a href=\"../lec_slides/03b_Schleifen.slides.html\">Slides</a>/<a href=\"../pdf/slides/03b_Schleifen.pdf\">PDF</a>\n",
    "<iframe src=\"../lec_slides/03b_Schleifen.slides.html\" width=\"750\" height=\"500\"></iframe>"
   ]
  },
  {
   "cell_type": "markdown",
   "id": "855803dc592c4bbe9139ae05abf3ba6b",
   "metadata": {
    "slideshow": {
     "slide_type": "skip"
    },
    "tags": [
     "translated_en"
    ],
    "translation": {
     "lang": "de",
     "src_hash": "7b4c5ac85e59cba515f94d9ab56e58a22bd001e674df14c9b5ae2829509c10a6",
     "updated_at_iso": "2025-08-16T15:25:07.356232+00:00"
    }
   },
   "source": [
    "Often, blocks of code need to be executed multiple times. If the number or amount of repetitions is known beforehand, use the `for`-Loop for that. There are two types of For-Loops:\n",
    "\n",
    "- For-Loop: Repeat the loop exactly $n$ times\n",
    "- For-Each-Loop (Iterator): Repeat the loop for each element in a sequence"
   ]
  },
  {
   "cell_type": "markdown",
   "id": "aad19020070c443fba3d920ca5ca7f9e",
   "metadata": {
    "slideshow": {
     "slide_type": "skip"
    },
    "tags": [
     "translated_en"
    ],
    "translation": {
     "lang": "de",
     "src_hash": "0c22d4c610a1e68287ae2a271aaeae36dfb87445ce98cec5a1b3825baed4a7b1",
     "updated_at_iso": "2025-08-16T15:25:12.645977+00:00"
    }
   },
   "source": [
    "## Repetitions with a Known Count"
   ]
  },
  {
   "cell_type": "markdown",
   "id": "12c44f833b7b491e881d1f4c426b7791",
   "metadata": {
    "slideshow": {
     "slide_type": "skip"
    },
    "tags": [
     "translated_en"
    ],
    "translation": {
     "lang": "de",
     "src_hash": "61aeedfc82b58339717bafa4ac0a1f65b7ee1c9da67ab13279fd9b6b8a530fa6",
     "updated_at_iso": "2025-08-16T15:25:17.657261+00:00"
    }
   },
   "source": [
    "### For-Each Loop Over Sequences"
   ]
  },
  {
   "cell_type": "markdown",
   "id": "9ae5399b7c79413690ac13ab84000dbf",
   "metadata": {
    "slideshow": {
     "slide_type": "skip"
    },
    "tags": [
     "translated_en"
    ],
    "translation": {
     "lang": "de",
     "src_hash": "54075bcb2cea534f590f79b54eead4c68b8b44092ee47cf887ccd50395da6251",
     "updated_at_iso": "2025-08-16T15:25:23.817372+00:00"
    }
   },
   "source": [
    "The `for` loop in Python is a for-each loop. It always iterates through a sequence of values, such as a list. The variable of the *iterator* `e` contains the current value of the sequence `seq`. This makes it very easy to iterate through lists."
   ]
  },
  {
   "cell_type": "code",
   "execution_count": null,
   "id": "8a7f26aa84b14845969b34333c34f31e",
   "metadata": {
    "slideshow": {
     "slide_type": "skip"
    },
    "tags": [
     "translated_en"
    ],
    "translation": {
     "lang": "de",
     "src_hash": "ff8a1e9acee79e62245f0b665275e5890d3022a9767195fc026c78a6267e154b",
     "updated_at_iso": "2025-08-16T15:25:26.671973+00:00"
    }
   },
   "outputs": [],
   "source": [
    "seq = ['a','b','c']\n",
    "for e in seq:\n",
    "\tprint(e)"
   ]
  },
  {
   "cell_type": "markdown",
   "id": "88c8c225674941e9bf9c958d5d45880f",
   "metadata": {
    "slideshow": {
     "slide_type": "skip"
    },
    "tags": [
     "translated_en"
    ],
    "translation": {
     "lang": "de",
     "src_hash": "bf93d74d3c0590c7eb13a9f96447444812ae6b515bd9e2bf18f95b41e37930b9",
     "updated_at_iso": "2025-08-16T15:25:28.553508+00:00"
    }
   },
   "source": [
    "or tuples"
   ]
  },
  {
   "cell_type": "code",
   "execution_count": null,
   "id": "ae23b657e3a94ca9b13b9974051b54af",
   "metadata": {
    "slideshow": {
     "slide_type": "skip"
    },
    "tags": [
     "translated_en"
    ],
    "translation": {
     "lang": "de",
     "src_hash": "9de532866278a93c474a2fc5bb66c690167f315391455ee1be0cb0a74b3e8d50",
     "updated_at_iso": "2025-08-16T15:25:30.777406+00:00"
    }
   },
   "outputs": [],
   "source": [
    "seq = ('a','b','c')\n",
    "for e in seq:\n",
    "\tprint(e)"
   ]
  },
  {
   "cell_type": "markdown",
   "id": "e1d104fa3b364a4f96e312331bdef3b0",
   "metadata": {
    "slideshow": {
     "slide_type": "skip"
    },
    "tags": [
     "translated_en"
    ],
    "translation": {
     "lang": "de",
     "src_hash": "b5696e069302f91796c7b754ef091a930a9a9c533a13a1d8039de31e27f9d2bd",
     "updated_at_iso": "2025-08-16T15:25:33.942384+00:00"
    }
   },
   "source": [
    "### For loop with a known number of iterations $n$"
   ]
  },
  {
   "cell_type": "markdown",
   "id": "3a8fcd506a8c4fed8089060d02c4c9ae",
   "metadata": {
    "slideshow": {
     "slide_type": "skip"
    },
    "tags": [
     "translated_en"
    ],
    "translation": {
     "lang": "de",
     "src_hash": "f13481e3ccaa2d95d110a9db70634709121f3b614037de4a47a0f4fc7f7f3e90",
     "updated_at_iso": "2025-08-16T15:25:41.023795+00:00"
    }
   },
   "source": [
    "The `for` loop in Python can also be used as a classic for loop, in which you repeat something $n$ times. To do this, you generate a sequence of numbers with the `range(n)` function, over which you then iterate as usual in a for-each loop. The iterator `i` takes on the value of the counting index."
   ]
  },
  {
   "cell_type": "code",
   "execution_count": null,
   "id": "e52c4c942f6a49098c191010bf164bd2",
   "metadata": {
    "slideshow": {
     "slide_type": "skip"
    },
    "tags": [
     "translated_en"
    ],
    "translation": {
     "lang": "de",
     "src_hash": "66ba04841534ded1da07ada71cacbea898005d4eac1f4f318f797e3b5881e4c0",
     "updated_at_iso": "2025-08-16T15:25:45.474991+00:00"
    }
   },
   "outputs": [],
   "source": [
    "n = 3\n",
    "seq = range(n)\n",
    "for i in seq:\n",
    "\tprint(i)"
   ]
  },
  {
   "cell_type": "markdown",
   "id": "49732a60e72d424396a323155c2b0670",
   "metadata": {
    "slideshow": {
     "slide_type": "skip"
    },
    "tags": [
     "translated_en"
    ],
    "translation": {
     "lang": "de",
     "src_hash": "d4cd17f272fba6fe667fdd5c2bb4ca5cf25866395fb838acb8b26ce6cce9c06f",
     "updated_at_iso": "2025-08-16T15:25:51.399221+00:00"
    }
   },
   "source": [
    "The difference becomes clearer when you look at how you would iterate through the above list using a numbered index. To do this, determine the length of the sequence with `len()`, generate a numeric iterator with `range()`, and then access the list's indexed values with `seq[i]`. This corresponds to a classic for-loop over an array, as you would find, for example, in C or Java."
   ]
  },
  {
   "cell_type": "code",
   "execution_count": null,
   "id": "cac1674935d2414c8f1706798da70e98",
   "metadata": {
    "slideshow": {
     "slide_type": "skip"
    },
    "tags": [
     "translated_en"
    ],
    "translation": {
     "lang": "de",
     "src_hash": "a4119f5c1566ce446785dd5848b50cbac2adc16461e540eaea09665ef89ae73f",
     "updated_at_iso": "2025-08-16T15:25:58.113493+00:00"
    }
   },
   "outputs": [],
   "source": [
    "seq = ['a','b','c']\n",
    "for i in range(len(seq)):\n",
    "    value = seq[i]\n",
    "    print(f\"Index: {i}; Wert {value}\")"
   ]
  },
  {
   "cell_type": "markdown",
   "id": "1e24463fac084ba5b8f17ed52a7b304d",
   "metadata": {
    "slideshow": {
     "slide_type": "skip"
    },
    "tags": [
     "translated_en"
    ],
    "translation": {
     "lang": "de",
     "src_hash": "dd3fdbf513ed1a567a491bace81355139a975afef7cbf0d56b16be4b578bbaf4",
     "updated_at_iso": "2025-08-16T15:26:02.966087+00:00"
    }
   },
   "source": [
    "Since this is quite cumbersome, Python offers the `enumerate` function as a simplification. It turns any sequence into a numbered sequence. This is useful if you also need the index `i` for another reason."
   ]
  },
  {
   "cell_type": "code",
   "execution_count": null,
   "id": "2b33e384a1f34d6381b15d8f4f9f2ef9",
   "metadata": {
    "slideshow": {
     "slide_type": "skip"
    },
    "tags": [
     "translated_en"
    ],
    "translation": {
     "lang": "de",
     "src_hash": "b1d79020490873c8057ca7f20314f24517babc5be8342369441f7e6876b69971",
     "updated_at_iso": "2025-08-16T15:26:07.398510+00:00"
    }
   },
   "outputs": [],
   "source": [
    "sequence = ['a', 'b', 'c']\n",
    "for i, value in enumerate(sequence):\n",
    "\tprint(f\"Index: {i}; Value {value}\")"
   ]
  },
  {
   "cell_type": "markdown",
   "id": "037b214ec2da4f5b999e29d448d442b4",
   "metadata": {
    "slideshow": {
     "slide_type": "skip"
    },
    "tags": [
     "translated_en"
    ],
    "translation": {
     "lang": "de",
     "src_hash": "af0f5ebc7dc3652c62d039c90175f598f90a615b70d70653afe4e75ef5f75aa6",
     "updated_at_iso": "2025-08-16T15:26:10.119259+00:00"
    }
   },
   "source": [
    "### For-Each Loop with Dictionaries"
   ]
  },
  {
   "cell_type": "markdown",
   "id": "982490eb9ee942b7ae97149edfe2d093",
   "metadata": {
    "slideshow": {
     "slide_type": "skip"
    },
    "tags": [
     "translated_en"
    ],
    "translation": {
     "lang": "de",
     "src_hash": "0c2320b634e949300f205595fe3de9580aa3ddc3ffbbe26c0802948140229f1d",
     "updated_at_iso": "2025-08-16T15:26:16.226639+00:00"
    }
   },
   "source": [
    "You can also iterate over dictionaries with a for loop. For this, you can either iterate over the keys and then look up the corresponding value via `seq[key]`."
   ]
  },
  {
   "cell_type": "code",
   "execution_count": null,
   "id": "3036800055b14dfa876791af26507558",
   "metadata": {
    "slideshow": {
     "slide_type": "skip"
    },
    "tags": [
     "translated_en"
    ],
    "translation": {
     "lang": "de",
     "src_hash": "beaa4544d9fae7ff76bc7f9d458372ecefbe8d3746c27a72ad62014cd3b460f9",
     "updated_at_iso": "2025-08-16T15:26:22.689685+00:00"
    }
   },
   "outputs": [],
   "source": [
    "seq = {\"key1\":\"wert1\", \"key2\":\"wert2\", \"key3\":\"wert3\"}\n",
    "for key in seq:\n",
    "    value = seq[key]\n",
    "    print(f\"Schlüssel: {key}; Wert {value}\")"
   ]
  },
  {
   "cell_type": "markdown",
   "id": "fd13c181a63d44c7bf046b2c4627176f",
   "metadata": {
    "slideshow": {
     "slide_type": "skip"
    },
    "tags": [
     "translated_en"
    ],
    "translation": {
     "lang": "de",
     "src_hash": "cd534cabcf0e04b45e1e661ccfa3e8eb3e8c7b4038b1b47652eba80a498487f7",
     "updated_at_iso": "2025-08-16T15:26:26.473409+00:00"
    }
   },
   "source": [
    "Or one can iterate directly over all key-value pairs."
   ]
  },
  {
   "cell_type": "code",
   "execution_count": null,
   "id": "4897282639084f8abe4350522fa313f1",
   "metadata": {
    "slideshow": {
     "slide_type": "skip"
    },
    "tags": [
     "translated_en"
    ],
    "translation": {
     "lang": "de",
     "src_hash": "3ec5be1a82a765e1c38c1453903cb4ea85628f67d12d87e0880c41bca71286ed",
     "updated_at_iso": "2025-08-16T15:26:31.467138+00:00"
    }
   },
   "outputs": [],
   "source": [
    "for key, value in seq.items():\n",
    "    print(f\"Schlüssel: {key}; Wert {value}\")"
   ]
  },
  {
   "cell_type": "markdown",
   "id": "652eb6b33e824fd9b7a17c683cfb42b2",
   "metadata": {
    "slideshow": {
     "slide_type": "skip"
    },
    "tags": [
     "translated_en"
    ],
    "translation": {
     "lang": "de",
     "src_hash": "86c17e6324a8db677586aff39c2c855c7a71881aa814ed7f2dc45ac89139d81c",
     "updated_at_iso": "2025-08-16T15:26:33.514387+00:00"
    }
   },
   "source": [
    "### For-Loop Example"
   ]
  },
  {
   "cell_type": "markdown",
   "id": "ae53027a78494ee5b11948fae8a4b9e8",
   "metadata": {
    "slideshow": {
     "slide_type": "skip"
    },
    "tags": [
     "translated_en"
    ],
    "translation": {
     "lang": "de",
     "src_hash": "24f4aaab8636fa95b3bc7eff2897eadd3c7ad1efc08c4dec7cfdd392c39e5307",
     "updated_at_iso": "2025-08-16T15:26:36.276711+00:00"
    }
   },
   "source": [
    "This can then be used, for example, to convert a list of measurements from imperial feet into metric meters."
   ]
  },
  {
   "cell_type": "code",
   "execution_count": null,
   "id": "345d441696d24b03afc0cdf866a98433",
   "metadata": {
    "slideshow": {
     "slide_type": "skip"
    },
    "tags": [
     "translated_en"
    ],
    "translation": {
     "lang": "de",
     "src_hash": "5e5b3b1158028eff7789ac73de12e53034ac019b30ac01fbe73aaa8ba3df9e6f",
     "updated_at_iso": "2025-08-16T15:26:41.624203+00:00"
    }
   },
   "outputs": [],
   "source": [
    "feet_measurements = [4.2, 2.3, 6.2, 10.5]  # Input\n",
    "meters_measurements = []                        # Results\n",
    "for feet in feet_measurements:\n",
    "    meters_measurements.append(0.3048 * feet)\n",
    "\n",
    "print(meters_measurements)"
   ]
  },
  {
   "cell_type": "markdown",
   "id": "8e525e3234be4a2e974234f18570b53e",
   "metadata": {
    "slideshow": {
     "slide_type": "skip"
    },
    "tags": [
     "translated_en"
    ],
    "translation": {
     "lang": "de",
     "src_hash": "ace1ecad3245511a000579a7ac6ce97ff6acfb2bf7366ec4bff701aa08efdd68",
     "updated_at_iso": "2025-08-16T15:26:46.071761+00:00"
    }
   },
   "source": [
    "In Python there's also a shorthand for such simple for-loops, a form of syntactic sugar."
   ]
  },
  {
   "cell_type": "code",
   "execution_count": null,
   "id": "59255db0c9cc4a6cbd53968b45c38ea0",
   "metadata": {
    "slideshow": {
     "slide_type": "skip"
    },
    "tags": [
     "translated_en"
    ],
    "translation": {
     "lang": "de",
     "src_hash": "4a4dcc848abc14c863f120550fea08a58b147728ccd878dd4f6b2e101b1316c4",
     "updated_at_iso": "2025-08-16T15:26:51.906980+00:00"
    }
   },
   "outputs": [],
   "source": [
    "measurements_meter = [0.3048 * feets for feets in measurements_feet]\n",
    "\n",
    "print(measurements_meter)"
   ]
  },
  {
   "cell_type": "markdown",
   "id": "d780560748f54c74adf477d539cedaf4",
   "metadata": {
    "slideshow": {
     "slide_type": "skip"
    },
    "tags": [
     "translated_en"
    ],
    "translation": {
     "lang": "de",
     "src_hash": "880d5f33dd10a7fd64d523c4adc05fab31080ee2833e63cb6e2502e4f2aed901",
     "updated_at_iso": "2025-08-16T15:26:55.582066+00:00"
    }
   },
   "source": [
    "## Unknown Number of Repetitions"
   ]
  },
  {
   "cell_type": "markdown",
   "id": "a9c1d3011c504dde89c4e5176f959ed4",
   "metadata": {
    "slideshow": {
     "slide_type": "skip"
    },
    "tags": [
     "translated_en"
    ],
    "translation": {
     "lang": "de",
     "src_hash": "faa3ba191b007863b60e8e7e3324e027fb83905b16c32e488f194af4428a648d",
     "updated_at_iso": "2025-08-16T15:27:02.224664+00:00"
    }
   },
   "source": [
    "While loops are primarily used when the length of the loop is not known at the outset. The loop is repeated as long as a certain condition holds. In computer science, the following types are distinguished:\n",
    "\n",
    "- While loop: Repeat as long as a condition is true (possibly never)\n",
    "- Do-While loop: Repeat until a condition is false (i.e., at least once)\n",
    "- Repeat-Until loop: Repeat until a condition becomes true (i.e., at least once)"
   ]
  },
  {
   "cell_type": "markdown",
   "id": "ffa6f3c47ec84783a5e2e44f03c5a959",
   "metadata": {
    "slideshow": {
     "slide_type": "skip"
    },
    "tags": [
     "translated_en"
    ],
    "translation": {
     "lang": "de",
     "src_hash": "e2738e5e521136eaadff1a5b2091933f79c10211de1042a032de3e6fa2fd8514",
     "updated_at_iso": "2025-08-16T15:27:05.913819+00:00"
    }
   },
   "source": [
    "### While-Loop"
   ]
  },
  {
   "cell_type": "markdown",
   "id": "120581d742ea4329ab60f331e97ade8a",
   "metadata": {
    "slideshow": {
     "slide_type": "skip"
    },
    "tags": [
     "translated_en"
    ],
    "translation": {
     "lang": "de",
     "src_hash": "138b2121eaa4e67d6f3094dc53121faf2f8adb1e751c7d2a0a67d4fecfea5f4b",
     "updated_at_iso": "2025-08-16T15:27:08.736688+00:00"
    }
   },
   "source": [
    "In a while loop, the condition may already be false at the start. The loop therefore does not need to be executed."
   ]
  },
  {
   "cell_type": "code",
   "execution_count": null,
   "id": "c0f8e20a53c344aa803d768bada6b429",
   "metadata": {
    "slideshow": {
     "slide_type": "skip"
    },
    "tags": [
     "translated_en"
    ],
    "translation": {
     "lang": "de",
     "src_hash": "5a2af4833067984b74f854f0747d31bc9859779fde6ef132ddc0420e61b59499",
     "updated_at_iso": "2025-08-16T15:37:18.472213+00:00"
    }
   },
   "outputs": [],
   "source": [
    "count = 3\n",
    "while count > 0:\n",
    "\t\tprint(f\"Die While-Schleife wird ausgeführt wenn die Bedingung am Anfang der Schleife {count} > 0 wahr ist\")\n",
    "\t\tcount -= 1  # we decrement the variable count"
   ]
  },
  {
   "cell_type": "markdown",
   "id": "267fa00f82f74fc3a5caeda1d7d83e00",
   "metadata": {
    "slideshow": {
     "slide_type": "skip"
    },
    "tags": [
     "translated_en"
    ],
    "translation": {
     "lang": "de",
     "src_hash": "093f6014dfec571f92b5c54b0949b7362e495fedac01a1989ab4ab6ae09f08e5",
     "updated_at_iso": "2025-08-16T15:37:22.295162+00:00"
    }
   },
   "source": [
    "The while loop runs three times because the condition is true and we count down to zero."
   ]
  },
  {
   "cell_type": "markdown",
   "id": "d7b7625e6d2e4c67b1db2481cdab8380",
   "metadata": {
    "slideshow": {
     "slide_type": "skip"
    },
    "tags": [
     "translated_en"
    ],
    "translation": {
     "lang": "de",
     "src_hash": "86d156e9a112f7461473f051fcabd8b1d8b84b3e25785aa990d82387fbf5dc2b",
     "updated_at_iso": "2025-08-16T15:37:25.042017+00:00"
    }
   },
   "source": [
    "The while loop is not executed because n is already 0."
   ]
  },
  {
   "cell_type": "code",
   "execution_count": null,
   "id": "ddbda1d44c6a428a8812a8fd12f02cb0",
   "metadata": {
    "slideshow": {
     "slide_type": "skip"
    },
    "tags": [
     "translated_en"
    ],
    "translation": {
     "lang": "de",
     "src_hash": "39182402be90b8f4189577637a6a009d5cda672f158fe8480f7b0cf4651a6684",
     "updated_at_iso": "2025-08-16T15:37:34.587260+00:00"
    }
   },
   "outputs": [],
   "source": [
    "count = 0\n",
    "while count > 0:\n",
    "\t\tprint(f\"Die While-Schleife wird ausgeführt wenn die Bedingung am Anfang der Schleife {count} > 0 wahr ist\")\n",
    "\t\tcount -= 1 # we count the variable count down"
   ]
  },
  {
   "cell_type": "markdown",
   "id": "bd8acd987a5b4960b547c50493a3c7d1",
   "metadata": {
    "slideshow": {
     "slide_type": "skip"
    },
    "tags": [
     "translated_en"
    ],
    "translation": {
     "lang": "de",
     "src_hash": "6863091044bf4960829e6904f9f471d744a8ec035efb6c3a7b0b78fbc9a3202a",
     "updated_at_iso": "2025-08-16T15:37:36.963550+00:00"
    }
   },
   "source": [
    "### Do-While-Loops"
   ]
  },
  {
   "cell_type": "markdown",
   "id": "730c6f62b92e48e0bdf02396eeb1642a",
   "metadata": {
    "slideshow": {
     "slide_type": "skip"
    },
    "tags": [
     "translated_en"
    ],
    "translation": {
     "lang": "de",
     "src_hash": "07bc5cb0c95d894212d5e4b0313dedd1a06047bc16e67e8cfab4925d00f46548",
     "updated_at_iso": "2025-08-16T15:37:39.763656+00:00"
    }
   },
   "source": [
    "In a do-while loop, the condition is checked only at the end. The loop is therefore always executed at least once. However, this behavior is identical to a while loop in which the condition is set to true at the beginning and is changed inside the loop."
   ]
  },
  {
   "cell_type": "code",
   "execution_count": null,
   "id": "b1cb7d45918f4e16ac5f4ddd1cb5e71d",
   "metadata": {
    "slideshow": {
     "slide_type": "skip"
    },
    "tags": [
     "translated_en"
    ],
    "translation": {
     "lang": "de",
     "src_hash": "ba884230b94951b266c84574cec43b41bb7c14b343c1332e7d3128fbc05e6f79",
     "updated_at_iso": "2025-08-16T15:37:51.138302+00:00"
    }
   },
   "outputs": [],
   "source": [
    "n = 3\n",
    "condition = True # Condition is always initialized as True\n",
    "while condition:\n",
    "\tn -= 1 # we decrement the variable n\n",
    "\tcondition = n > 0 # The condition is only updated at the end of the loop\n",
    "\tprint(f\"Die Do-While-Schleife wird mindestens einmal ausgeführt bis die Bedingung am Ende der Schleife {n} > 0 wahr ist\")"
   ]
  },
  {
   "cell_type": "markdown",
   "id": "f4177c1d3c5240edb0a1df1034c2ed54",
   "metadata": {
    "slideshow": {
     "slide_type": "skip"
    },
    "tags": [
     "translated_en"
    ],
    "translation": {
     "lang": "de",
     "src_hash": "8d73ecd04e3486fe4e22f83053281594d5a7e485cb311df39686ab0ad8be9e12",
     "updated_at_iso": "2025-08-16T15:37:54.159404+00:00"
    }
   },
   "source": [
    "The do-while loop is also executed three times because the condition is true and we count down to zero."
   ]
  },
  {
   "cell_type": "markdown",
   "id": "d0fac79746ef4b1fb8367cee13f693ca",
   "metadata": {
    "slideshow": {
     "slide_type": "skip"
    },
    "tags": [
     "translated_en"
    ],
    "translation": {
     "lang": "de",
     "src_hash": "cf9637d0457cba64a6f69af09b6007f3cddb2e531cb5f0c848971c0f7322cf51",
     "updated_at_iso": "2025-08-16T15:37:57.214180+00:00"
    }
   },
   "source": [
    "The do-while loop runs once even though n is already 0."
   ]
  },
  {
   "cell_type": "code",
   "execution_count": null,
   "id": "c5601d049996468c879c3c60f949e757",
   "metadata": {
    "slideshow": {
     "slide_type": "skip"
    },
    "tags": [
     "translated_en"
    ],
    "translation": {
     "lang": "de",
     "src_hash": "ec1c1f3806b225ecb98f65b25a3e3ac1e3d1780732285deac58023d15294db24",
     "updated_at_iso": "2025-08-16T15:38:05.185235+00:00"
    }
   },
   "outputs": [],
   "source": [
    "counter = 0\n",
    "condition = True  # Condition is always initialized as True\n",
    "while condition:\n",
    "    counter -= 1  # we decrement the counter variable\n",
    "    condition = counter > 0  # The condition is only updated at the end of the loop\n",
    "    print(f\"The do-while loop will be executed at least once until the condition at the end of the loop {counter} > 0 is true\")"
   ]
  },
  {
   "cell_type": "markdown",
   "id": "52f4ece6494c4947ae6060691000944e",
   "metadata": {
    "slideshow": {
     "slide_type": "skip"
    },
    "tags": [
     "translated_en"
    ],
    "translation": {
     "lang": "de",
     "src_hash": "1e0c9cb56efc1e381df6948e42b76426115c085b4f2c935ae76bee0be832a853",
     "updated_at_iso": "2025-08-16T15:38:06.548854+00:00"
    }
   },
   "source": [
    "### Repeat-Until-Loop"
   ]
  },
  {
   "cell_type": "markdown",
   "id": "a10755e60d4b485cbfce84d4003a8d79",
   "metadata": {
    "slideshow": {
     "slide_type": "skip"
    },
    "tags": [
     "translated_en"
    ],
    "translation": {
     "lang": "de",
     "src_hash": "071953c7e37cb08b5f5f3f97149e6cfdf2e3c197d779f435a7cd1cf1edd74ff6",
     "updated_at_iso": "2025-08-16T15:38:14.577047+00:00"
    }
   },
   "source": [
    "In a repeat-until loop, the condition is only checked at the end. Thus the loop is always executed at least once. However, the loop is repeated until the condition becomes true. So it is the negation of a do-while loop."
   ]
  },
  {
   "cell_type": "code",
   "execution_count": null,
   "id": "91fbb0c0b6974febaa19b60829e5f82d",
   "metadata": {
    "slideshow": {
     "slide_type": "skip"
    },
    "tags": [
     "translated_en"
    ],
    "translation": {
     "lang": "de",
     "src_hash": "0f351d5b3af14d99b0e71aa78b31f799ecd9475b940d934222b564f98e5c365d",
     "updated_at_iso": "2025-08-16T15:38:24.299032+00:00"
    }
   },
   "outputs": [],
   "source": [
    "counter = -3\n",
    "condition = False  # Condition is always initialized as False\n",
    "while not condition:  # but negated in the while\n",
    "\tcounter += 1  # we increment the counter variable upwards\n",
    "\tcondition = counter > 0  # The condition is updated only at the end of the loop\n",
    "\tprint(f\"Die Repeat-Until-Schleife wird mindestens einmal ausgeführt bis die Bedingung am Ende der Schleife {counter} > 0 falsch ist\")"
   ]
  },
  {
   "cell_type": "markdown",
   "id": "a082b9429d044d5ca6d85c4e711be0bc",
   "metadata": {
    "slideshow": {
     "slide_type": "skip"
    },
    "tags": [
     "translated_en"
    ],
    "translation": {
     "lang": "de",
     "src_hash": "29c7c945207f786438c264e3e5e0be0af4ecd8e4b051cd18fe636a798f94e85d",
     "updated_at_iso": "2025-08-16T15:38:32.273727+00:00"
    }
   },
   "source": [
    "The repeat-until loop runs three times because the condition at the beginning is false and we count up to 0."
   ]
  },
  {
   "cell_type": "markdown",
   "id": "07428bac990e46baab08298d88d991e7",
   "metadata": {
    "slideshow": {
     "slide_type": "skip"
    },
    "tags": [
     "translated_en"
    ],
    "translation": {
     "lang": "de",
     "src_hash": "9588f5a10e4b306bcc54d8fb0e662b5b7043b58b7c1b2955d4d8e74cd895c53d",
     "updated_at_iso": "2025-08-16T15:38:35.159108+00:00"
    }
   },
   "source": [
    "The do-while loop will run once, since n is greater than 0 at the end of the loop."
   ]
  },
  {
   "cell_type": "code",
   "execution_count": null,
   "id": "faf133dd4cdd4ca49d70a98e4e9e413a",
   "metadata": {
    "slideshow": {
     "slide_type": "skip"
    },
    "tags": [
     "translated_en"
    ],
    "translation": {
     "lang": "de",
     "src_hash": "6a116212da9b1c41e937b50f4b4bda07bdf72f6e889c5985ae150bc179b63cd0",
     "updated_at_iso": "2025-08-16T15:38:48.730290+00:00"
    }
   },
   "outputs": [],
   "source": [
    "count = 0\n",
    "condition = False  # Condition is always initialized as False\n",
    "while not condition:  # but negated in the loop\n",
    "    count += 1  # we count up the variable count\n",
    "    condition = count > 0  # The condition is only updated at the end of the loop\n",
    "    print(f\"Die Repeat-Until-Schleife wird mindestens einmal ausgeführt bis die Bedingung am Ende der Schleife {count} > 0 falsch ist\")"
   ]
  },
  {
   "cell_type": "markdown",
   "id": "12f6245cb5924ea48b49dddf4e923bf9",
   "metadata": {
    "slideshow": {
     "slide_type": "skip"
    },
    "tags": [
     "translated_en"
    ],
    "translation": {
     "lang": "de",
     "src_hash": "173aeb052210db426367ce4f2250f4362bd6ad9f9e0821b59cea3c67ef2c329b",
     "updated_at_iso": "2025-08-16T15:38:51.641713+00:00"
    }
   },
   "source": [
    "### Endless Loops"
   ]
  },
  {
   "cell_type": "markdown",
   "id": "96eea15eccf74934804ddb3b82ebdce9",
   "metadata": {
    "slideshow": {
     "slide_type": "skip"
    },
    "tags": [
     "translated_en"
    ],
    "translation": {
     "lang": "de",
     "src_hash": "0032b101719221d7a9b488657ca80584c2ba9e024a7c99941275f7bcab486f47",
     "updated_at_iso": "2025-08-16T15:38:58.478592+00:00"
    }
   },
   "source": [
    "::: {warning}\n",
    "While loops have no maximum number of repetitions. They can potentially run forever if the condition never changes. Therefore it is always important to think through whether there exists a case in which the condition cannot change, and then to add a second termination condition (e.g., maximum iterations, maximum time, etc.).\n",
    ":::"
   ]
  },
  {
   "cell_type": "markdown",
   "id": "642bd1e779294d9f8f03f6c88187a50f",
   "metadata": {
    "slideshow": {
     "slide_type": "skip"
    },
    "tags": [
     "translated_en"
    ],
    "translation": {
     "lang": "de",
     "src_hash": "ed442675589b254cc6b291140a1c3079d5b0d7a349dc921ffb2239739a025116",
     "updated_at_iso": "2025-08-16T15:39:02.820554+00:00"
    }
   },
   "source": [
    "Let's take another look at our `while_loop` function. How could this function become an infinite loop?"
   ]
  },
  {
   "cell_type": "code",
   "execution_count": null,
   "id": "de6241db2cf54349a865ffa3745a11fc",
   "metadata": {
    "slideshow": {
     "slide_type": "skip"
    },
    "tags": [
     "translated_en"
    ],
    "translation": {
     "lang": "de",
     "src_hash": "713065bdba54989d8ef0e40e47a1a15c02281c24a7f6e7cf2b3589b26614ed42",
     "updated_at_iso": "2025-08-16T15:39:07.887430+00:00"
    }
   },
   "outputs": [],
   "source": [
    "while n > 0:\n",
    "\tprint(f\"Die While-Schleife wird ausgeführt wenn die Bedingung am Anfang der Schleife {n} > 0 wahr ist\")\n",
    "\tn -= 1  # we decrement the variable n"
   ]
  },
  {
   "cell_type": "markdown",
   "id": "dbb3c1da202a4c1d85e4021267e25b49",
   "metadata": {
    "slideshow": {
     "slide_type": "skip"
    },
    "tags": [
     "translated_en"
    ],
    "translation": {
     "lang": "de",
     "src_hash": "42728038de4a1f0dd88e5c46a17a05c962f799fdfed4d455a30eb283823b9c86",
     "updated_at_iso": "2025-08-16T15:39:11.086640+00:00"
    }
   },
   "source": [
    "It looks like this isn’t possible at first glance. Nevertheless, as a precaution, we will define a second variant with an additional termination condition."
   ]
  },
  {
   "cell_type": "code",
   "execution_count": null,
   "id": "845d9eddedc04b54a362bd25ef9bd8df",
   "metadata": {
    "slideshow": {
     "slide_type": "skip"
    },
    "tags": [
     "translated_en"
    ],
    "translation": {
     "lang": "de",
     "src_hash": "bcbfa824070766aff6fd656434ca7249235e396afbd492d00a6e902afd59e7c4",
     "updated_at_iso": "2025-08-16T15:39:17.520545+00:00"
    }
   },
   "outputs": [],
   "source": [
    "def while_loop_with_break(n, max_iterations=99):\n",
    "\titerations = 0\n",
    "\twhile n > 0 and iterations < max_iterations:\n",
    "\t\tprint(f\"Die While-Schleife wird ausgeführt wenn die Bedingung am Anfang der Schleife {n} > 0 wahr ist\")\n",
    "\t\tn -= 1 # we count the variable n down\n",
    "\t\titerations += 1\n",
    "\tprint(f\"Die While-Schleife wurde nach {iterations} von {max_iterations} beendet\")"
   ]
  },
  {
   "cell_type": "markdown",
   "id": "d4ea7a5f28b648fcabccc56dc8a83ad7",
   "metadata": {
    "slideshow": {
     "slide_type": "skip"
    },
    "tags": [
     "translated_en"
    ],
    "translation": {
     "lang": "de",
     "src_hash": "db3b989cb64ce319ec5046de394c53755ce57c854d34e59d34e24c0fd0eb51f1",
     "updated_at_iso": "2025-08-16T15:39:19.537003+00:00"
    }
   },
   "source": [
    "The above test case with 3 seems to be working."
   ]
  },
  {
   "cell_type": "code",
   "execution_count": null,
   "id": "855522e847994ae28bf7cbe2453dbc0f",
   "metadata": {
    "slideshow": {
     "slide_type": "skip"
    },
    "tags": [
     "translated_en"
    ],
    "translation": {
     "lang": "de",
     "src_hash": "54d7804b1aa7ec1326f8c53e7224fb1ddc542c5035a20d679d6d72dfee656eff",
     "updated_at_iso": "2025-08-16T15:39:25.417796+00:00"
    }
   },
   "outputs": [],
   "source": [
    "while_loop_with_break(3)"
   ]
  },
  {
   "cell_type": "markdown",
   "id": "04200909cc514b958e7c43f298fecb6f",
   "metadata": {
    "slideshow": {
     "slide_type": "skip"
    },
    "tags": [
     "translated_en"
    ],
    "translation": {
     "lang": "de",
     "src_hash": "0519669c024e41ac801134428ed2b2b7448738141eaabb96bc3332a29bcfaf27",
     "updated_at_iso": "2025-08-16T15:39:30.274581+00:00"
    }
   },
   "source": [
    "But what happens if we initialize the function with infinity (Infinity)? Subtracting or adding any finite number to infinity yields infinity. The variable `n` will therefore never change."
   ]
  },
  {
   "cell_type": "code",
   "execution_count": null,
   "id": "2cd383961a2640cba2bb6b31d0c4b2a5",
   "metadata": {
    "slideshow": {
     "slide_type": "skip"
    },
    "tags": [
     "output_scroll",
     "translated_en"
    ],
    "translation": {
     "lang": "de",
     "src_hash": "ce0c240594771ec506327a25232d0c0ca7d0f29648151d5b6ce080578bbb039d",
     "updated_at_iso": "2025-08-16T15:39:35.993263+00:00"
    }
   },
   "outputs": [],
   "source": [
    "import math  # the number infinity is defined in the math library\n",
    "\n",
    "while_loop_with_break(math.inf)"
   ]
  },
  {
   "cell_type": "markdown",
   "id": "f756b7cff0124f9a8565b0672d7fcb15",
   "metadata": {
    "slideshow": {
     "slide_type": "skip"
    },
    "tags": [
     "translated_en"
    ],
    "translation": {
     "lang": "de",
     "src_hash": "d9027b97be5289889025179ab3c6a5792bee26302bf77f814cf6e90dbd8d5614",
     "updated_at_iso": "2025-08-16T15:39:38.422722+00:00"
    }
   },
   "source": [
    "### Break out of loops early or skip elements"
   ]
  },
  {
   "cell_type": "markdown",
   "id": "74f5c30535294210bc8d9fefb9d636a9",
   "metadata": {
    "slideshow": {
     "slide_type": "skip"
    },
    "tags": [
     "translated_en"
    ],
    "translation": {
     "lang": "de",
     "src_hash": "7bb9de08592e6d4a408e54116255a9d0863ae027b9e3e9fd07e560c2ce98575c",
     "updated_at_iso": "2025-08-16T15:39:50.778638+00:00"
    }
   },
   "source": [
    "Sometimes you want to prematurely break out of a for/while loop. Python provides the `break` statement for this. It breaks out of the loop at the current position (similar to repeat in a function). This allows you to implement additional termination conditions in the loop.\n",
    "\n",
    "The `continue` statement does not break out of the loop, but immediately starts the next iteration. This is useful, for example, when a filter condition is not met.\n",
    "\n",
    "The following loop should find the first edible thing in my backpack."
   ]
  },
  {
   "cell_type": "code",
   "execution_count": null,
   "id": "f33df399664c4f41b8f511125e2ba6ad",
   "metadata": {
    "slideshow": {
     "slide_type": "skip"
    },
    "tags": [
     "translated_en"
    ],
    "translation": {
     "lang": "de",
     "src_hash": "48ede472628c7a0bf81f47a456e3f475ffe091ec81eacad8b3795b796365cbd0",
     "updated_at_iso": "2025-08-16T15:39:59.947749+00:00"
    }
   },
   "outputs": [],
   "source": [
    "things_in_my_backpack = [\"Papier\", \"Stift\", \"Apfel\", \"Brot\", \"Messer\"]\n",
    "edibles = {\"Apfel\", \"Brot\"}\n",
    "edible = None\n",
    "\n",
    "for item in things_in_my_backpack:   # Find the first edible item in my backpack\n",
    "\tif item not in edibles:\n",
    "\t\tprint(f\"Überspringe {item}\")\n",
    "\t\tcontinue\n",
    "\tprint(f\"Essbares gefunden {item}\")\n",
    "\tedible = item\n",
    "\tbreak\n",
    "\n",
    "print(\"\")\n",
    "print(f\"Ergebnis ist {edible}\")"
   ]
  },
  {
   "cell_type": "markdown",
   "id": "add8018301d3497589dd197ca54286ee",
   "metadata": {
    "slideshow": {
     "slide_type": "skip"
    },
    "tags": [
     "translated_en"
    ],
    "translation": {
     "lang": "de",
     "src_hash": "223d2c51cd897c4b1efea3cdca3265996beb1b01fdb2bb615aef2c0c74897ab9",
     "updated_at_iso": "2025-08-16T15:40:13.166523+00:00"
    }
   },
   "source": [
    "We see that the loop over `Papier` and `Stift` skips them and does not write `\"Essbares gefunden Papier\"`.\n",
    "\n",
    "As soon as the loop finds some edible item, it outputs `\"Essbares gefunden Apfel\"` and ends the loop, even though `Brot` and `Messer` are still in the backpack.\n",
    "\n",
    "Both are common commands to improve the performance of loops."
   ]
  },
  {
   "cell_type": "markdown",
   "id": "c7e53be0bfed4f4cac33bcce6dc2f970",
   "metadata": {
    "slideshow": {
     "slide_type": "skip"
    },
    "tags": [
     "translated_en"
    ],
    "translation": {
     "lang": "de",
     "src_hash": "35bc4b02b91df7ade3f3a3fba800c8c7b2d2145497f1b3bdfe15b58bef64c3b8",
     "updated_at_iso": "2025-08-16T15:40:15.909640+00:00"
    }
   },
   "source": [
    "### Infinite loops with a timeout"
   ]
  },
  {
   "cell_type": "markdown",
   "id": "f1655d7637724208beb9c85d38e9d1f6",
   "metadata": {
    "slideshow": {
     "slide_type": "skip"
    },
    "tags": [
     "translated_en"
    ],
    "translation": {
     "lang": "de",
     "src_hash": "b435aee1c9a0e279c51f212168c445fb8db9389769f72d2fd6572b7ee9adb221",
     "updated_at_iso": "2025-08-16T15:40:21.933718+00:00"
    }
   },
   "source": [
    "With `break` you can implement additional termination conditions, such as a maximum execution time. For example, define an additional timeout in an infinite loop of 10 seconds using the `time()` function from the `time` package, which returns the current time (since 1970) in seconds."
   ]
  },
  {
   "cell_type": "code",
   "execution_count": null,
   "id": "de42ba07ba284ca1b1bf591d9941c68c",
   "metadata": {
    "slideshow": {
     "slide_type": "skip"
    },
    "tags": [
     "translated_en"
    ],
    "translation": {
     "lang": "de",
     "src_hash": "21340323f883012675b6d06fc823cb15aaf1d93efb2069c3e35cdc3dee95536f",
     "updated_at_iso": "2025-08-16T15:40:26.964334+00:00"
    }
   },
   "outputs": [],
   "source": [
    "import time\n",
    "\n",
    "iterations = 0\n",
    "start = time.time() # we store the start time\n",
    "while True:         # THIS IS AN INFINITE LOOP\n",
    "\titerations += 1\n",
    "\telapsed = time.time() - start  # we calculate the time difference in seconds\n",
    "\tif elapsed > 3:\n",
    "\t\tprint(f\"Timeout after {elapsed}s and {iterations} iterations\")\n",
    "\t\tbreak       # We break the loop"
   ]
  },
  {
   "cell_type": "markdown",
   "id": "6d7e8083cd8d4d9e9adedd9803d89ac5",
   "metadata": {
    "slideshow": {
     "slide_type": "skip"
    },
    "tags": [
     "translated_en"
    ],
    "translation": {
     "lang": "de",
     "src_hash": "7f29014e538e809b01886e98bd56775b24f751b2beb30f3dec58a806bbd2a95b",
     "updated_at_iso": "2025-08-16T15:40:35.371538+00:00"
    }
   },
   "source": [
    "However, this isn't a good way to pause a program for a while. For that, you should instead use the `sleep()` function from the `time` package. Note the execution time below the cell."
   ]
  },
  {
   "cell_type": "code",
   "execution_count": null,
   "id": "ba5939e879ea43829ec6c7e795f39309",
   "metadata": {
    "slideshow": {
     "slide_type": "skip"
    },
    "tags": [
     "translated_en"
    ],
    "translation": {
     "lang": "de",
     "src_hash": "f36c239967b31d6962952b2282e84056af3dbe8c72dc99acc3f2466acf4fe11e",
     "updated_at_iso": "2025-08-16T15:40:41.547419+00:00"
    }
   },
   "outputs": [],
   "source": [
    "start = time.time()              # we store the start time\n",
    "\n",
    "time.sleep(3)                    # we sleep for 3 seconds\n",
    "\n",
    "print(f\"Sleeped for {time.time() - start}s\")  # we print the time difference"
   ]
  },
  {
   "cell_type": "markdown",
   "id": "3be3a43537f8498b8fb778ae281f2bbc",
   "metadata": {
    "editable": true,
    "slideshow": {
     "slide_type": "slide"
    },
    "tags": [
     "remove-cell",
     "translated_en"
    ],
    "translation": {
     "lang": "de",
     "src_hash": "1923eaf85b2f75d16249acd058c26e96d1b3ee915ead7548cd182e9b2e2590cb",
     "updated_at_iso": "2025-08-16T15:40:53.012773+00:00"
    }
   },
   "source": [
    "<div class=\"vslide\">\n",
    "  <div class=\"vslide-title\">\n",
    "    <p style=\"font-family: Protomolecule; font-size: 2.3em; line-height: 90%; margin: 0px auto; text-align: center; width: 100%;\"><span style=\"letter-spacing: .04rem;\">Programming</span><br><span style=\"letter-spacing: .0rem;\">and Databases</span></p>\n",
    "<p class=\"author\" style=\"font-family: Protomolecule; margin: 0px auto;  text-align: center; width: 100%; font-size: 1.2em;\">Joern Ploennigs</p>\n",
    "<p class=\"subtitle\" style=\"font-family: Protomolecule; margin: 1em auto; text-align: center; width: 100%; font-size: 1.2em;\">Loops</p>\n",
    "    <figcaption>Midjourney: Loops, ref. Robert Delaunay</figcaption>\n",
    "  </div>\n",
    "<script>\n",
    "  function setSectionBackground(c,v){\n",
    "    let e=document.currentScript.previousElementSibling;\n",
    "    while(e&&e.tagName!=='SECTION')e=e.parentElement;\n",
    "    if(e){\n",
    "      if(c)e.setAttribute('data-background-color',c);\n",
    "      if(v){\n",
    "        e.setAttribute('data-background-video',v);\n",
    "        e.setAttribute('data-background-video-loop','true');\n",
    "        e.setAttribute('data-background-video-muted','true');\n",
    "      }\n",
    "    }\n",
    "  }\n",
    "  setSectionBackground('#000000', 'images/03b_Schleifen/mj_title.mp4');\n",
    "</script>\n",
    "<style>\n",
    ".flex-row{display:flex; gap:2rem; align-items:flex-start; justify-content:space-between;}\n",
    ".flex-row .col1{flex:1; min-width:10px}\n",
    ".flex-row .col2{flex:2; min-width:10px}\n",
    ".flex-row .col3{flex:3; min-width:10px}\n",
    ".flex-row .col4{flex:4; min-width:10px}\n",
    ".flex-row .col5{flex:5; min-width:10px}\n",
    ".flex-row .col6{flex:6; min-width:10px}\n",
    ".flex-row .col7{flex:7; min-width:10px}\n",
    ".vcent{display:flex; align-items:center; justify-content:center}\n",
    "</style>\n",
    "</div>"
   ]
  },
  {
   "cell_type": "markdown",
   "id": "4a956534c2ed40e696797a708549fcb6",
   "metadata": {
    "slideshow": {
     "slide_type": "slide"
    },
    "tags": [
     "remove-cell",
     "translated_en"
    ],
    "translation": {
     "lang": "de",
     "src_hash": "713bea4d88df0c1dabd9f1a7de5f9dfbde9e125a22daa59f11ec200a910d49ec",
     "updated_at_iso": "2025-08-16T15:40:55.251700+00:00"
    }
   },
   "source": [
    "## Process\n",
    "\n",
    "![](images/partA_4.svg)"
   ]
  },
  {
   "cell_type": "markdown",
   "id": "36dfcbb33dbc482fb82b2a18592edfe3",
   "metadata": {
    "slideshow": {
     "slide_type": "slide"
    },
    "tags": [
     "remove-cell",
     "translated_en"
    ],
    "translation": {
     "lang": "de",
     "src_hash": "0640ade34547b9fcc5f9f80aeca2de2ae02b39cc6f3f911513cc1998b100a17a",
     "updated_at_iso": "2025-08-16T15:41:02.522157+00:00"
    }
   },
   "source": [
    "## Loops\n",
    "\n",
    "Loops are an important approach in programming to implement repetitive or incremental solutions.\n",
    "\n",
    "In Python, the following are available:\n",
    "- `for` (equivalent to a for-each loop)\n",
    "- `while` (equivalent to a while loop)\n",
    "\n",
    "Important properties:\n",
    "- They work exactly like all other control statements, using indentation for the block that follows the header line\n",
    "- Unlike in functions, loop variables are also accessible outside the loop!\n",
    "- The other loop variants are not explicitly present, but can be functionally emulated"
   ]
  },
  {
   "cell_type": "markdown",
   "id": "fca92ecb6c7d44e8921cb5e03b917275",
   "metadata": {
    "slideshow": {
     "slide_type": "subslide"
    },
    "tags": [
     "remove-cell",
     "translated_en"
    ],
    "translation": {
     "lang": "de",
     "src_hash": "3d94b12e6dfc0be950827f65662dc93cfa75ae81e2e7132430218966729f32f4",
     "updated_at_iso": "2025-08-16T15:41:14.631747+00:00"
    }
   },
   "source": [
    "## For Loops - FOR Loop\n",
    "\n",
    "The for loop repeats a block of statements for all elements in a sequence. Element is a variable that is always bound to the current element from the sequence.\n",
    "\n",
    "```python\n",
    "for Element in Sequenz:\n",
    "    # Statement\n",
    "```"
   ]
  },
  {
   "cell_type": "markdown",
   "id": "b2b32730051346e380b4ac90c94fb23e",
   "metadata": {
    "slideshow": {
     "slide_type": "subslide"
    },
    "tags": [
     "remove-cell",
     "translated_en"
    ],
    "translation": {
     "lang": "de",
     "src_hash": "f3dd06df9c807a2bfe7eb458a0b5520102d0ead7707d5d779f203577f2144620",
     "updated_at_iso": "2025-08-16T15:41:21.562420+00:00"
    }
   },
   "source": [
    "## Loops - For-each Loop Example\n",
    "\n",
    "The for loop in Python is a for-each loop. It always iterates through a sequence of values, such as a list. The iterator variable `e` contains the current value from the list `seq`.\n",
    "\n",
    "<div class=\"flex-row\">\n",
    "\n",
    "<div class=\"col1\">\n",
    "\n",
    "```python\n",
    "seq = ['a','b','c']\n",
    "for e in seq:\n",
    "    print(e)\n",
    "```\n",
    "\n",
    "</div>\n",
    "\n",
    "<div class=\"col1\">\n",
    "\n",
    "Output:\n",
    "```\n",
    "a\n",
    "b\n",
    "c\n",
    "```\n",
    "\n",
    "</div>\n",
    "\n",
    "</div>"
   ]
  },
  {
   "cell_type": "markdown",
   "id": "2f38fc73e4774ccba1b77c224659b94f",
   "metadata": {
    "slideshow": {
     "slide_type": "subslide"
    },
    "tags": [
     "remove-cell",
     "translated_en"
    ],
    "translation": {
     "lang": "de",
     "src_hash": "6ee85a2ce946fc31235aa5e301cd5debfa3690226d8a5f3ae75ad86f8e3d8074",
     "updated_at_iso": "2025-08-16T15:41:29.058612+00:00"
    }
   },
   "source": [
    "## Loops - FOR-Loop Example\n",
    "\n",
    "The for loop in Python can also be used as a traditional for loop, in which you repeat something n times. To do this, you generate a sequence of numbers with the `range(n)` function, through which the for-each loop then iterates.\n",
    "\n",
    "<div class=\"flex-row\">\n",
    "\n",
    "<div class=\"col1\">\n",
    "\n",
    "```python\n",
    "n = 3\n",
    "seq = range(n)\n",
    "for e in seq:\n",
    "    print(e)\n",
    "```\n",
    "\n",
    "</div>\n",
    "\n",
    "<div class=\"col1\">\n",
    "\n",
    "Output:\n",
    "```\n",
    "0\n",
    "1\n",
    "2\n",
    "```\n",
    "\n",
    "</div>\n",
    "\n",
    "</div>"
   ]
  },
  {
   "cell_type": "markdown",
   "id": "0f9deca18d2d455d8017bfcb5871e0df",
   "metadata": {
    "slideshow": {
     "slide_type": "subslide"
    },
    "tags": [
     "remove-cell",
     "translated_en"
    ],
    "translation": {
     "lang": "de",
     "src_hash": "7ec7b0ac90574e3664b09a9091dbecfc800d59abb0124f32eced4bac8c14489a",
     "updated_at_iso": "2025-08-16T15:41:37.573792+00:00"
    }
   },
   "source": [
    "## Loops - FOR Loop Example\n",
    "\n",
    "This can be used, for example, to convert a list of measurements from feet in the imperial system to metres.\n",
    "\n",
    "```python\n",
    "measurements_feet = [4.2, 2.3, 6.2, 10.5]  # Input\n",
    "measurements_meter = []  # Results\n",
    "\n",
    "for feets in measurements_feet:\n",
    "    measurements_meter.append(0.3048 * feets)\n",
    "\n",
    "print(measurements_meter)\n",
    "```\n",
    "\n",
    "Output:\n",
    "```\n",
    "[1.2801600000000002, 0.70104, 1.88976, 3.2004]\n",
    "```"
   ]
  },
  {
   "cell_type": "markdown",
   "id": "cfe414332a3d4245bc58a8d4377d0e95",
   "metadata": {
    "slideshow": {
     "slide_type": "slide"
    },
    "tags": [
     "remove-cell",
     "translated_en"
    ],
    "translation": {
     "lang": "de",
     "src_hash": "7ca9ee8a25a717660b5da5a448985e6d8461670a096a1e4c6a23402d7f9dc49e",
     "updated_at_iso": "2025-08-16T15:41:46.711086+00:00"
    }
   },
   "source": [
    "## Loops - WHILE Loop\n",
    "\n",
    "The while loop runs as long as a condition is true. Since this is evaluated at the start and can be false from the outset, the body may not be executed.\n",
    "\n",
    "```python\n",
    "while condition:\n",
    "    # statement\n",
    "```\n",
    "\n",
    "As with an if statement, the condition is evaluated for its truth value:\n",
    "- If this is `True`, the loop runs once, after which it is checked again\n",
    "- If this is `False`, the loop ends and the code is not (re)executed"
   ]
  },
  {
   "cell_type": "markdown",
   "id": "2c4f5e48b4c443dcba9fcd414f28f494",
   "metadata": {
    "slideshow": {
     "slide_type": "subslide"
    },
    "tags": [
     "remove-cell",
     "translated_en"
    ],
    "translation": {
     "lang": "de",
     "src_hash": "12cb6e6d6fcf2b48d8932ea9730ad2b56623c46582d0c509023e2b8362eac367",
     "updated_at_iso": "2025-08-16T15:41:58.770367+00:00"
    }
   },
   "source": [
    "## Loops - While Loop vs. Do-While Loop vs. Repeat-Until\n",
    "\n",
    "<div class=\"flex-row\">\n",
    "\n",
    "<div class=\"col1\">\n",
    "\n",
    "**While loop**\n",
    "\n",
    "In a while loop, the condition can be false right from the start. So the loop does not have to be executed.\n",
    "\n",
    "```python\n",
    "Bedingung = True/False\n",
    "while Bedingung:\n",
    "    # Statement\n",
    "    Bedingung = False\n",
    "```\n",
    "\n",
    "</div>\n",
    "\n",
    "<div class=\"col1\">\n",
    "\n",
    "**Do-While loop**\n",
    "\n",
    "In a do-while loop, the condition is checked only at the end. The loop is therefore always executed at least once.\n",
    "\n",
    "```python\n",
    "Bedingung = True\n",
    "while Bedingung:\n",
    "    # Statement\n",
    "    Bedingung = False\n",
    "```\n",
    "\n",
    "</div>\n",
    "\n",
    "<div class=\"col1\">\n",
    "\n",
    "**Repeat-Until loop**\n",
    "\n",
    "In a Repeat-Until loop, the condition is also checked only at the end. The loop is repeated until the condition becomes true.\n",
    "\n",
    "```python\n",
    "Bedingung = False\n",
    "while not Bedingung:\n",
    "    # Statement\n",
    "    Bedingung = True\n",
    "```\n",
    "\n",
    "</div>\n",
    "\n",
    "</div>"
   ]
  },
  {
   "cell_type": "markdown",
   "id": "cfaf94632d1e45f0ad31886a3cdb8a40",
   "metadata": {
    "slideshow": {
     "slide_type": "skip"
    },
    "tags": [
     "translated_en"
    ],
    "translation": {
     "lang": "de",
     "src_hash": "efe58a343c2958eed30aca4bf69926777c39ef7524f9f7f71d4f265fb3ca1e37",
     "updated_at_iso": "2025-08-16T15:42:09.548788+00:00"
    }
   },
   "source": [
    "## Loops - Infinite Loops!\n",
    "\n",
    "While loops have no maximum number of iterations. They can potentially run forever if the condition never changes.\n",
    "\n",
    "<div class=\"alert alert-block alert-info\">\n",
    "    <b>⚠️ Warning:</b> It is therefore always important to consider whether there is a case where the condition cannot change and then add a second exit condition.\n",
    "</div>\n",
    "\n",
    "```python\n",
    "Condition = True\n",
    "while Condition:  # THIS IS AN INFINITE LOOP\n",
    "    # Statement\n",
    "    Condition = True  # Condition never changes!\n",
    "```"
   ]
  },
  {
   "cell_type": "markdown",
   "id": "65dc95271e014d2bad493a1fa54162d5",
   "metadata": {
    "slideshow": {
     "slide_type": "skip"
    },
    "tags": [
     "translated_en"
    ],
    "translation": {
     "lang": "de",
     "src_hash": "6df8fca4cf7c748f84610c0fa066b810112374498902ee84177f114e3b2273a2",
     "updated_at_iso": "2025-08-16T15:42:21.142539+00:00"
    }
   },
   "source": [
    "## Loops - Breaking out of a loop early\n",
    "\n",
    "`break`-Befehl: Aborts the loop at its current position\n",
    "\n",
    "`continue`-Befehl: Does not abort the loop, but immediately starts the next iteration\n",
    "\n",
    "```python\n",
    "things_in_my_backpack = [\"Paper\", \"Pen\", \"Apple\", \"Bread\", \"Knife\"]\n",
    "edibles = {\"Apple\", \"Bread\"}\n",
    "edible = None\n",
    "\n",
    "for item in things_in_my_backpack:  # Find the first edible item\n",
    "    if item not in edibles:\n",
    "        print(f\"Skipping {item}\")\n",
    "        continue\n",
    "    print(f\"Edible found: {item}\")\n",
    "    edible = item\n",
    "    break\n",
    "\n",
    "print(edible)\n",
    "```"
   ]
  },
  {
   "cell_type": "markdown",
   "id": "497c75f1ce454595bed34f1c87276ce4",
   "metadata": {
    "slideshow": {
     "slide_type": "skip"
    },
    "tags": [
     "translated_en"
    ],
    "translation": {
     "lang": "de",
     "src_hash": "058a248586c50b43a5bc205a12ed0627ef8f2dae62dc60526be9919d4b64a58c",
     "updated_at_iso": "2025-08-16T15:42:26.247012+00:00"
    }
   },
   "source": [
    "## Loops - Breaking out of a loop early\n",
    "\n",
    "With `break` you can implement additional termination conditions, such as a maximum execution time. Here we define an additional timeout in an infinite loop of 3 seconds:\n",
    "\n",
    "```python\n",
    "import time\n",
    "\n",
    "iterations = 0\n",
    "start = time.time()\n",
    "\n",
    "while True:  # THIS IS AN INFINITE LOOP\n",
    "    iterations += 1\n",
    "    elapsed = time.time() - start\n",
    "    \n",
    "    if elapsed > 3:\n",
    "        print(f\"Timeout after {iterations} iterations\")\n",
    "        break\n",
    "```"
   ]
  },
  {
   "cell_type": "markdown",
   "id": "598adcf7cf2243d4a2583d8f166772b2",
   "metadata": {
    "slideshow": {
     "slide_type": "slide"
    },
    "tags": [
     "remove-cell",
     "translated_en"
    ],
    "translation": {
     "lang": "de",
     "src_hash": "6733694cacf27c00e2748778a570cfee8d88900d0ea3a2a160653a698b22909c",
     "updated_at_iso": "2025-08-16T15:42:35.609911+00:00"
    }
   },
   "source": [
    "## Program Flow Control\n",
    "\n",
    "We now know two tools:\n",
    "\n",
    "<div class=\"flex-row\">\n",
    "<div class=\"col1\">\n",
    "\n",
    "Conditional execution:\n",
    "- `if`, `else`, `elif`\n",
    "\n",
    "</div>\n",
    "<div class=\"col1\">\n",
    "\n",
    "Looping:\n",
    "- `while`, `for`\n",
    "\n",
    "</div>\n",
    "</div>\n",
    "\n",
    "Every program that has ever run on a computer could be written with these tools."
   ]
  },
  {
   "cell_type": "markdown",
   "id": "7459229faff24e6c8c9324343da8b0f6",
   "metadata": {
    "slideshow": {
     "slide_type": "skip"
    },
    "tags": [
     "translated_en"
    ],
    "translation": {
     "lang": "de",
     "src_hash": "359de0dc873d44a14fdd64d15d8653cd9ebc3d7838381b72068b18a886504df7",
     "updated_at_iso": "2025-08-16T15:43:04.554196+00:00"
    }
   },
   "source": [
    "## Quiz\n",
    "\n",
    "\n",
    "```{quizdown}\n",
    "\t---\n",
    "\tshuffleQuestions: true\n",
    "\tshuffleAnswers: true\n",
    "\t---\n",
    "\n",
    "    ### Why are loops used in programs?\n",
    "\n",
    "    - [x] To execute statements multiple times\n",
    "    - [ ] To terminate programs\n",
    "    - [ ] To look for errors in the code\n",
    "    - [ ] To define functions\n",
    "\n",
    "    ### What is typical for a `for` loop?\n",
    "\n",
    "    - [x] It repeats statements for a sequence or a count\n",
    "    - [ ] It only executes statements once\n",
    "    - [ ] It automatically creates variables\n",
    "    - [ ] It is always combined with `if`\n",
    "\n",
    "    ### How does a For-Each-Loop in Python work?\n",
    "\n",
    "    - [x] It iterates directly over the elements of a sequence\n",
    "    - [ ] It counts from 1 to 100\n",
    "    - [ ] It automatically changes all elements\n",
    "    - [ ] It is only used for numbers\n",
    "\n",
    "    ### What does the loop variable contain in a For-Each-Loop?\n",
    "\n",
    "    - [x] The current element from the sequence\n",
    "    - [ ] The length of the sequence\n",
    "    - [ ] The index of the previous element\n",
    "    - [ ] Always a number\n",
    "\n",
    "    ### What is `range(n)` used for in Python?\n",
    "\n",
    "    - [x] To generate a sequence of numbers from 0 to n-1\n",
    "    - [ ] To generate a sequence of numbers from 0 to n\n",
    "    - [ ] To create a list with n zeros\n",
    "    - [ ] To compare strings\n",
    "    - [ ] To evaluate conditions\n",
    "\n",
    "    ### What does `enumerate()` do in Python?\n",
    "    - [x] Creates a sequence with index and element\n",
    "    - [ ] Sorts a list alphabetically\n",
    "    - [ ] Removes duplicates from a dictionary\n",
    "    - [ ] Converts strings to numbers\n",
    "\n",
    "    ### How can you iterate through a dictionary?\n",
    "    - [x] With a loop over the keys\n",
    "    - [x] With a loop over key-value pairs using `items()`\n",
    "    - [ ] Only with a While loop\n",
    "    - [ ] Only by converting to a list\n",
    "\n",
    "    ### Sort the following lines to write a valid `for` loop that prints all even numbers from 0 to 10 (inclusive):\n",
    "    1. `for i in range(0, 11, 2):`\n",
    "    2. `  print(i)`\n",
    "\n",
    "    ### Sort the following lines to print all elements of a list with `for` and a condition. Given is:\n",
    "    ```python\n",
    "    zahlen = [3, 6, 9, 12, 15]\n",
    "    ```\n",
    "    1. `for z in zahlen:`\n",
    "    2. `  if z > 8:`\n",
    "    3. `    print(z)`\n",
    "\n",
    "    ### Sort the following lines to correctly output the keys and values of a dictionary and print only values greater than 20. Given is:\n",
    "    ```python\n",
    "    person = {\"name\": \"Anna\", \"alter\": 30, \"punkte\": 18}\n",
    "    ```\n",
    "    1. `for key, value in person.items():`\n",
    "    2. `  if isinstance(value, int) and value > 20:`\n",
    "    3. `    print(f\"{key}: {value}\")`\n",
    "\n",
    "    ### Sort the following lines to correctly use `enumerate()` and print the element with its index when the index is odd. Given is:\n",
    "    ```python\n",
    "    tiere = [\"Katze\", \"Hund\", \"Maus\", \"Vogel\"]\n",
    "    ```\n",
    "    1. `for i, tier in enumerate(tiere):`\n",
    "    2. `  if i % 2 == 1:`\n",
    "    3. `    print(f\"{i}: {tier}\")`\n",
    "\n",
    "```"
   ]
  },
  {
   "cell_type": "markdown",
   "id": "0bd2069ecb984a4f91c847c1a1d8fc77",
   "metadata": {
    "slideshow": {
     "slide_type": "slide"
    },
    "tags": [
     "remove-cell",
     "translated_en"
    ],
    "translation": {
     "lang": "de",
     "src_hash": "6c47c9c5e22e398d6d55c2dbfa96ba3e23395799a375dd673ba6dd35d4ac27a7",
     "updated_at_iso": "2025-08-16T15:43:08.455625+00:00"
    }
   },
   "source": [
    "<div class=\"vslide\">\n",
    "  <div class=\"questions\" style=\"letter-spacing: 0.03em; font-family: Protomolecule; font-size: 2.3em; position: absolute; top: 50%; left: 50%; transform: translate(-50%, -50%); color: black; z-index: 5;\">questions?</div>\n",
    "<script>setSectionBackground('#000000', 'images/mj_questions.mp4');</script>\n",
    "</div>"
   ]
  }
 ],
 "metadata": {
  "kernelspec": {
   "display_name": "Python 3 (ipykernel)",
   "language": "python",
   "name": "python3"
  },
  "language_info": {
   "codemirror_mode": {
    "name": "ipython",
    "version": 3
   },
   "file_extension": ".py",
   "mimetype": "text/x-python",
   "name": "python",
   "nbconvert_exporter": "python",
   "pygments_lexer": "ipython3",
   "version": "3.11.6"
  },
  "rise": {
   "auto_select": "none",
   "center": false,
   "enable_chalkboard": true,
   "header": "<img src=\"images/pd_logo.svg\" class=\"header_title_logo\"><img src=\"images/ai4sc_logo_v2.svg\" class=\"header_ai4sc_logo\">",
   "scroll": true,
   "show_buttons_on_startup": false,
   "slideNumber": true,
   "theme": "white"
  }
 },
 "nbformat": 4,
 "nbformat_minor": 4
}
