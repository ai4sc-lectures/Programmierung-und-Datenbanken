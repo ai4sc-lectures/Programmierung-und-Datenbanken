{
 "cells": [
  {
   "cell_type": "markdown",
   "id": "ce191c23",
   "metadata": {
    "editable": true,
    "slideshow": {
     "slide_type": "slide"
    },
    "tags": [
     "remove-cell"
    ]
   },
   "source": [
    "<div class=\"vslide\">\n",
    "  <div class=\"vslide-title\">\n",
    "    <p style=\"font-family: Protomolecule; font-size: 2.3em; line-height: 90%; margin: 0px auto; text-align: center; width: 100%;\"><span style=\"letter-spacing: .04rem;\">programmierung</span><br><span style=\"letter-spacing: .0rem;\">und datenbanken</span></p>\n",
    "<p class=\"author\" style=\"font-family: Protomolecule; margin: 0px auto;  text-align: center; width: 100%; font-size: 1.2em;\">Joern Ploennigs</p>\n",
    "<p class=\"subtitle\" style=\"font-family: Protomolecule; margin: 1em auto; text-align: center; width: 100%; font-size: 1.2em;\">ueberblick</p>\n",
    "  </div>\n",
    "<script>\n",
    "  function setSectionBackground(c, v, w){\n",
    "    let e = document.currentScript.previousElementSibling;\n",
    "    while (e && e.tagName !== 'SECTION') e = e.parentElement;\n",
    "    if (!e) return;\n",
    "    if (c) e.setAttribute('data-background-color', c);\n",
    "    if (v) {\n",
    "      e.setAttribute('data-background-video', v);\n",
    "      e.setAttribute('data-background-video-loop', 'true');\n",
    "      e.setAttribute('data-background-video-muted', 'true');\n",
    "    }\n",
    "    if (w) {\n",
    "      const d = e.querySelector('div');\n",
    "      if (d) d.style.backgroundColor = 'rgba(255,255,255,0.6)';\n",
    "    }\n",
    "  }\n",
    "  setSectionBackground('#000000', 'images/01a_Ueberblick/mj_title.mp4');\n",
    "</script>\n",
    "<style>\n",
    ".flex-row{display:flex; gap:2rem; align-items:flex-start; justify-content:space-between;}\n",
    ".flex-row .col1{flex:1; min-width:10px}\n",
    ".flex-row .col2{flex:2; min-width:10px}\n",
    ".flex-row .col3{flex:3; min-width:10px}\n",
    ".flex-row .col4{flex:4; min-width:10px}\n",
    ".flex-row .col5{flex:5; min-width:10px}\n",
    ".flex-row .col6{flex:6; min-width:10px}\n",
    ".flex-row .col7{flex:7; min-width:10px}\n",
    ".vcent{display:flex; align-items:center; justify-content:center}\n",
    "</style>\n",
    "</div>"
   ]
  },
  {
   "cell_type": "markdown",
   "id": "2eb17605",
   "metadata": {
    "editable": true,
    "slideshow": {
     "slide_type": "skip"
    },
    "tags": []
   },
   "source": [
    "# Überblick"
   ]
  },
  {
   "cell_type": "markdown",
   "id": "4435e0ea",
   "metadata": {
    "editable": true,
    "slideshow": {
     "slide_type": "skip"
    },
    "tags": []
   },
   "source": [
    "![](images/01a_Ueberblick/mj_title_band.jpg)\n",
    "\n",
    "> I never wrote things down to remember; I always wrote things down so I could forget.\n",
    "> \n",
    "> — Matthew McConaughey"
   ]
  },
  {
   "cell_type": "markdown",
   "id": "cd44185d",
   "metadata": {
    "editable": true,
    "slideshow": {
     "slide_type": "skip"
    },
    "tags": []
   },
   "source": [
    "## <a href=\"../lec_slides/01a_Ueberblick.slides.html\">Folien</a>/<a href=\"../pdf/slides/01a_Ueberblick.pdf\">PDF</a>\n",
    "<iframe src=\"../lec_slides/01a_Ueberblick.slides.html\" width=\"750\" height=\"500\"></iframe>"
   ]
  },
  {
   "cell_type": "markdown",
   "id": "e0881cd8",
   "metadata": {
    "editable": true,
    "slideshow": {
     "slide_type": "slide"
    },
    "tags": []
   },
   "source": [
    "## Vorstellung \n",
    "\n",
    "<div class=\"flex-row\">\n",
    "  <div class=\"col6\">\n",
    "\n",
    "![](images/01a_Ueberblick/Ploennigs.jpg)\n",
    "</div>\n",
    "<div class=\"col4\">\n",
    "\n",
    "Prof. Dr.-Ing. habil. Jörn Plönnigs\n",
    "\n",
    "KI für Digitales Bauen\n",
    "<br>\n",
    "<br>\n",
    "Büro: Justus-von-Liebig-Weg 2, Raum 114\n",
    "\n",
    "Email: Joern.Ploennigs@uni-rostock.de\n",
    "\n",
    "Telefon: 0381 498-3500\n",
    "\n",
    "  </div>\n",
    "</div>"
   ]
  },
  {
   "cell_type": "markdown",
   "id": "96e9d54e",
   "metadata": {
    "editable": true,
    "slideshow": {
     "slide_type": "subslide"
    },
    "tags": []
   },
   "source": [
    "## Zielsetzung\n",
    "\n",
    "<div class=\"flex-row\">\n",
    "  <div class=\"col4\">\n",
    "\n",
    "- Verständnis und Kenntnisse der Grundlagen der Programmierung und Datenbanken aneignen\n",
    "- Aneignen praktischer Fähigkeiten, um ingenieurtechnische Probleme mit Software zu lösen\n",
    "- Kennenlernen aktueller Ansätze und Technologien in Softwareentwicklung\n",
    "\n",
    "</div>\n",
    "<div class=\"col6\">\n",
    "\n",
    "![](images/01a_Ueberblick/mj_target.png)\n",
    "\n",
    "  </div>\n",
    "</div>"
   ]
  },
  {
   "cell_type": "markdown",
   "id": "9923f2b8",
   "metadata": {
    "editable": true,
    "slideshow": {
     "slide_type": "slide"
    },
    "tags": []
   },
   "source": [
    "## Themen\n",
    "\n",
    "![](images/01a_Ueberblick/ablauf.svg)"
   ]
  },
  {
   "cell_type": "markdown",
   "id": "66031069",
   "metadata": {
    "editable": true,
    "slideshow": {
     "slide_type": "subslide"
    },
    "tags": []
   },
   "source": [
    "## Ablauf\n",
    "\n",
    "![](images/01a_Ueberblick/ablauf2.svg)"
   ]
  },
  {
   "cell_type": "markdown",
   "id": "5103a934",
   "metadata": {
    "editable": true,
    "slideshow": {
     "slide_type": "subslide"
    },
    "tags": []
   },
   "source": [
    "## Übungen\n",
    "\n",
    "![](images/01a_Ueberblick/ablauf3.svg)"
   ]
  },
  {
   "cell_type": "markdown",
   "id": "871d75f8",
   "metadata": {
    "editable": true,
    "slideshow": {
     "slide_type": "subslide"
    },
    "tags": []
   },
   "source": [
    "## Vorlesungsfolien\n",
    "\n",
    "<div class=\"flex-row\">\n",
    "  <div class=\"col6\">\n",
    "\n",
    "![](images/01a_Ueberblick/image_4.png)\n",
    "\n",
    "</div>\n",
    "<div class=\"col4\">\n",
    "\n",
    "![https://studip.uni-rostock.de](images/01a_Ueberblick/image_2.png)\n",
    "\n",
    "  </div>\n",
    "</div>"
   ]
  },
  {
   "cell_type": "markdown",
   "id": "2bb033af",
   "metadata": {
    "editable": true,
    "slideshow": {
     "slide_type": "subslide"
    },
    "tags": []
   },
   "source": [
    "## Vorlesungsdokumentation\n",
    "\n",
    "<div class=\"flex-row\">\n",
    "  <div class=\"col6\">\n",
    "\n",
    "![](images/01a_Ueberblick/webpage.png)\n",
    "\n",
    "</div>\n",
    "<div class=\"col4\">\n",
    "\n",
    "![https://ai4sc-lectures.github.io/ ](images/01a_Ueberblick/image_5.png)\n",
    "\n",
    "  </div>\n",
    "</div>"
   ]
  },
  {
   "cell_type": "markdown",
   "id": "4a4308ca",
   "metadata": {
    "editable": true,
    "slideshow": {
     "slide_type": "subslide"
    },
    "tags": []
   },
   "source": [
    "## Übungen\n",
    "\n",
    "<div class=\"flex-row\">\n",
    "  <div class=\"col6\">\n",
    "\n",
    "![](images/01a_Ueberblick/python-in-notebook.png)\n",
    "\n",
    "</div>\n",
    "<div class=\"col4\">\n",
    "\n",
    "Ab nächster Woche\n",
    "\n",
    "- Konsultation (PC-Pool 1)\n",
    "  Mittwoch 11:15 - 12:45 Uhr\n",
    "- Digitale Übung:\n",
    "  - Online Umgebung\n",
    "  - Übungsvideos\n",
    "\n",
    "  </div>\n",
    "</div>"
   ]
  },
  {
   "cell_type": "markdown",
   "id": "e7e65e28",
   "metadata": {
    "editable": true,
    "slideshow": {
     "slide_type": "slide"
    },
    "tags": []
   },
   "source": [
    "<script>setSectionBackground('#333333');</script>\n",
    "<div class=\"flex-row\">\n",
    "  <div class=\"col4 vcent\">\n",
    "\n",
    "# Übung\n",
    "\n",
    "  </div>\n",
    "  <div class=\"col6\"> \n",
    "    <figure class=\"mj-fig\">\n",
    "        <img src=\"images/01a_Ueberblick/mj_train.png\" class=\"mj-fig-img\">\n",
    "        <figcaption class=\"mj-fig-cap\">\n",
    "            Midjourney: Repeat \n",
    "        </figcaption>\n",
    "    </figure>\n",
    "  </div>\n",
    "</div>"
   ]
  },
  {
   "cell_type": "markdown",
   "id": "c2be1645",
   "metadata": {
    "editable": true,
    "slideshow": {
     "slide_type": "subslide"
    },
    "tags": []
   },
   "source": [
    "## Vorstellung \n",
    "\n",
    "<div class=\"flex-row\">\n",
    "  <div class=\"col3\">\n",
    "\n",
    "![](images/01a_Ueberblick/Markus_Berger.jpg)\n",
    "\n",
    "  </div>\n",
    "  <div class=\"col2\">\n",
    "\n",
    "Dr.-Ing. Markus Berger\n",
    "\n",
    "KI für Digitales Bauen\n",
    "<br>\n",
    "<br>\n",
    "Büro: Justus-von-Liebig-Weg 2, Raum 107\n",
    "\n",
    "Email: Markus.Berger@uni-rostock.de\n",
    "\n",
    "Telefon: 0381 498-3503\n",
    "\n",
    "  </div>\n",
    "</div>"
   ]
  },
  {
   "cell_type": "markdown",
   "id": "3fc5f321",
   "metadata": {
    "editable": true,
    "slideshow": {
     "slide_type": "subslide"
    },
    "tags": []
   },
   "source": [
    "## Zielsetzung\n",
    "\n",
    "<div class=\"flex-row\">\n",
    "  <div class=\"col2\">\n",
    "\n",
    "In der Vorlesung gelernte Programmierkonzepte\n",
    "- wiederholt praktisch anwenden\n",
    "- auf andere Probleme beziehen\n",
    "\n",
    "  </div>\n",
    "  <div class=\"col3\">\n",
    "    <figure class=\"mj-fig\">\n",
    "        <img src=\"images/01a_Ueberblick/mj_student.png\" class=\"mj-fig-img\">\n",
    "        <figcaption class=\"mj-fig-cap\">\n",
    "            Midjourney: Student aiming for a goal\n",
    "        </figcaption>\n",
    "    </figure>\n",
    "  </div>\n",
    "</div>"
   ]
  },
  {
   "cell_type": "markdown",
   "id": "7a449758",
   "metadata": {
    "editable": true,
    "slideshow": {
     "slide_type": "subslide"
    },
    "tags": []
   },
   "source": [
    "## Zielsetzung 2\n",
    "\n",
    "Warum Programmieren lernen als Ingenieur?\n",
    "\n",
    "- Verständnis der Grundelemente des Programmierens\n",
    "- Kenntnis der üblichen Schritte in einem Softwareprojekt\n",
    "- Erfahrung mit dem Suchen nach Lösungen\n",
    "- Strategien Erlernen wie Probleme behandelt werden können\n",
    "\n",
    "- Im späteren Verlauf: Die Systematik hinter Software verstehen.\n",
    "\n",
    "- Grundlagen aneignen - von denen aus weitergearbeitet werden kann!"
   ]
  },
  {
   "cell_type": "markdown",
   "id": "bcc855c1",
   "metadata": {
    "editable": true,
    "slideshow": {
     "slide_type": "subslide"
    },
    "tags": []
   },
   "source": [
    "## Ablauf - Zwei Teile\n",
    "\n",
    "<div class=\"flex-row\">\n",
    "  <div class=\"col2\">\n",
    "\n",
    "*Übungsvideo*\n",
    "\n",
    "- Ansehen\n",
    "- Selbst mitprogrammieren um die Ansätze zu Erlernen\n",
    "\n",
    "  </div>\n",
    "  <div class=\"col2\">\n",
    "\n",
    "*Aufgabe*\n",
    "\n",
    "- Eigene Lösungen überlegen oder recherchieren\n",
    "\n",
    "  </div>\n",
    "</div>\n",
    "\n",
    "<br/>\n",
    "\n",
    "- Beide Teile müssen abgegeben werden!\n",
    "- Gruppenarbeit ist nicht vorgesehen!"
   ]
  },
  {
   "cell_type": "markdown",
   "id": "ef4842ca",
   "metadata": {
    "editable": true,
    "slideshow": {
     "slide_type": "subslide"
    },
    "tags": []
   },
   "source": [
    "## Konsultation\n",
    "\n",
    "<div class=\"flex-row\">\n",
    "  <div class=\"col2\">\n",
    "\n",
    "Fragen an: Markus Berger \n",
    "\n",
    "Betreuung von Abgaben: Clemens Kujat (Hilfskraft)\n",
    "\n",
    "Ab nächster Woche\n",
    "\n",
    "- Mittwoch 11:15–12:45 Uhr in PC-Pool 1 und über Zoom\n",
    "- Klären von Fragen zu den Videos und den Aufgaben\n",
    "\n",
    "  </div>\n",
    "  <div class=\"col2\">\n",
    "\n",
    "Markus.Berger@uni-rostock.de\n",
    "\n",
    "Clemens.kujat@uni-rostock.de\n",
    "\n",
    "  </div>\n",
    "</div>"
   ]
  },
  {
   "cell_type": "markdown",
   "id": "80d95f55",
   "metadata": {
    "editable": true,
    "slideshow": {
     "slide_type": "slide"
    },
    "tags": []
   },
   "source": [
    "## Abgabe\n",
    "<div class=\"flex-row\">\n",
    "  <div class=\"col2\">\n",
    "\n",
    "Übungsvideos:\n",
    "\n",
    "- Veröffentlichung immer Dienstags\n",
    "- Konsultation immer Mittwochs\n",
    "- Abgabe immer Montags\n",
    "\n",
    "  </div>\n",
    "  <div class=\"col3\">\n",
    "    <figure class=\"mj-fig\">\n",
    "      <img src=\"images/01a_Ueberblick/mj_student2.png\" class=\"mj-fig-img\">\n",
    "      <figcaption class=\"mj-fig-cap\">\n",
    "          Midjourney: Student with a deadline\n",
    "      </figcaption>\n",
    "    </figure>\n",
    "  </div>\n",
    "</div>"
   ]
  },
  {
   "cell_type": "markdown",
   "id": "d704853a",
   "metadata": {
    "editable": true,
    "slideshow": {
     "slide_type": "subslide"
    },
    "tags": []
   },
   "source": [
    "## Prüfungszulassung\n",
    "<div class=\"flex-row\">\n",
    "  <div class=\"col2\">\n",
    "\n",
    "- Hausaufgaben werden nicht benotet\n",
    "- Bewertet stattdessen mit Erfüllt / Nicht-Erfüllt der Aufgabe (Pro gesamter Übung, keine Teilleistungen)\n",
    "\n",
    "- Am Ende des Semesters müssen mindestens 50% der Übungen erfüllt sein\n",
    "- Umfangreichere Aufgaben bringen dabei mehr Prozente\n",
    "\n",
    "  </div>\n",
    "  <div class=\"col2\">\n",
    "\n",
    "| Thema                                   | Gewichtung |\n",
    "|----------------------------------------|------------|\n",
    "| **Grundlagen**   |         |\n",
    "| Python & Datentypen                    | 5%         |\n",
    "| Operatoren, Verzweigungen & Schleifen  | 5%         |\n",
    "| Funktionen & Objekte                   | 5%         |\n",
    "| Algorithmen                            | 5%         |\n",
    "| **Erweitertes**   |         |\n",
    "| Fehler & Tests | 15%        |\n",
    "| Entwurf        | 15%        |\n",
    "| Datenhaltung   | 20%        |\n",
    "| **Erweitertes**   |         |\n",
    "| Datenbankanfragen | 15%        |\n",
    "| Datenbankentwurf  | 15%        |\n",
    "\n",
    "  </div>\n",
    "</div>"
   ]
  },
  {
   "cell_type": "markdown",
   "id": "6e3610d8",
   "metadata": {
    "editable": true,
    "slideshow": {
     "slide_type": "subslide"
    },
    "tags": []
   },
   "source": [
    "## Online Python IDE - Jupyter Books\n",
    "\n",
    "![](images/01a_Ueberblick/jupyterlab-markdown.png)"
   ]
  },
  {
   "cell_type": "markdown",
   "id": "d9b648c0",
   "metadata": {
    "editable": true,
    "slideshow": {
     "slide_type": "subslide"
    },
    "tags": []
   },
   "source": [
    "## Anmeldung bei Jupyter & Abgabe\n",
    "\n",
    "<div class=\"flex-row\">\n",
    "  <div class=\"col6 vcent\">\n",
    "\n",
    "- Account erstellen in der ***nächsten Woche*** unter: <br>[https://ml-lab.ai4sc-lectures.auf.uni-rostock.de/](https://ml-lab.ai4sc-lectures.auf.uni-rostock.de/)\n",
    "\n",
    "- Mit folgendem Nutzernamen: „vorname_nachname“\n",
    "\n",
    "- Einführung dann im ersten Übungsvideo\n",
    "\n",
    "  </div>\n",
    "  <div class=\"col4\"> \n",
    "    <figure class=\"mj-fig\">\n",
    "        <img src=\"images/01a_Ueberblick/login.png\" class=\"mj-fig-img\">\n",
    "    </figure>\n",
    "  </div>\n",
    "</div>"
   ]
  },
  {
   "cell_type": "markdown",
   "id": "dd737625",
   "metadata": {
    "editable": true,
    "slideshow": {
     "slide_type": "subslide"
    },
    "tags": []
   },
   "source": [
    "## Hinweis: KI\n",
    "\n",
    "- Mächtige Tools für die Programmierung – wenn man weiß wie man sie benutzt\n",
    "\n",
    "- Grundverständnis von Python hilft enorm bei der Benutzung dieser Tools\n",
    "- Am Ende eine Extra-Vorlesung + Übung dazu\n",
    "\n",
    "- Aber: Während der Klausur müsst ihr signifikantes Programmierverständnis zeigen, also sind die Übungen unbedingt selbst zu erfüllen!"
   ]
  },
  {
   "cell_type": "markdown",
   "id": "6f9fd833",
   "metadata": {
    "editable": true,
    "slideshow": {
     "slide_type": "slide"
    },
    "tags": []
   },
   "source": [
    "# Hausaufgaben\n",
    "\n",
    "<figcaption class=\"mj-slide-cap\">Midjourney: Programming in Python</figcaption>\n",
    "\n",
    "<script>setSectionBackground('#333333', 'images/01a_Ueberblick/mj_python.mp4', true);</script>"
   ]
  },
  {
   "cell_type": "markdown",
   "id": "7971cf40",
   "metadata": {
    "editable": true,
    "slideshow": {
     "slide_type": "subslide"
    },
    "tags": []
   },
   "source": [
    "## Abrufen von Aufgaben"
   ]
  },
  {
   "cell_type": "markdown",
   "id": "bf137447",
   "metadata": {
    "editable": true,
    "slideshow": {
     "slide_type": ""
    },
    "tags": []
   },
   "source": [
    "Hausaufgaben können auf der JupyterLab-Plattform herunterladen, bearbeiten und abgeben werden\n",
    "- Menüpunkt `Nbgrader/Assignments` → wichtigste Option, zeigt die Seite mit den Aufgaben\n",
    "- Menüpunkt `Nbgrader/Courses` → listet alle belegten Kurse\n",
    "- Menüpunkt `Nbgrader/Formgrader` → nur für Lehrende, zum Einsehen und Bewerten der studentischen Abgaben"
   ]
  },
  {
   "cell_type": "markdown",
   "id": "2b49977e",
   "metadata": {
    "editable": true,
    "slideshow": {
     "slide_type": ""
    },
    "tags": []
   },
   "source": [
    "![Nbgrader menu](images/01a_Ueberblick/nbgrader_menu.png)"
   ]
  },
  {
   "cell_type": "markdown",
   "id": "7c7cf0b0",
   "metadata": {
    "editable": true,
    "slideshow": {
     "slide_type": "subslide"
    },
    "tags": []
   },
   "source": [
    "- Menüpunkt `Nbgrader/Assignments` → Ansicht der aktuellen Aufgaben öffnet sich\n",
    "- Mit „fetch“ → ausgewählte Aufgabe herunterladen"
   ]
  },
  {
   "cell_type": "markdown",
   "id": "3589fd47",
   "metadata": {
    "editable": true,
    "slideshow": {
     "slide_type": ""
    },
    "tags": []
   },
   "source": [
    "![Nbgrader: Available assignments](images/01a_Ueberblick/nbgrader_menu_assignments.png)"
   ]
  },
  {
   "cell_type": "markdown",
   "id": "ef91f79b",
   "metadata": {
    "editable": true,
    "slideshow": {
     "slide_type": "subslide"
    },
    "tags": []
   },
   "source": [
    "- Nach dem Herunterladen erscheint die Aufgabe in der Liste „Downloaded Assignments“\n",
    "- Klick auf den blauen Aufgabennamen → öffnet den Unterordner der Aufgabe\n",
    "- Im Unterordner: alle Notebooks und zugehörigen Dateien sichtbar"
   ]
  },
  {
   "cell_type": "markdown",
   "id": "0abf0cf9",
   "metadata": {
    "editable": true,
    "slideshow": {
     "slide_type": ""
    },
    "tags": []
   },
   "source": [
    "![Nbgrader: Downloaded Assignments](images/01a_Ueberblick/nbgrader_menu_assignments2.png)"
   ]
  },
  {
   "cell_type": "markdown",
   "id": "0ba18a5a",
   "metadata": {
    "editable": true,
    "slideshow": {
     "slide_type": "subslide"
    },
    "tags": []
   },
   "source": [
    "## Bearbeiten von Aufgaben"
   ]
  },
  {
   "cell_type": "markdown",
   "id": "37407d95",
   "metadata": {
    "editable": true,
    "slideshow": {
     "slide_type": ""
    },
    "tags": []
   },
   "source": [
    "- Lesen sie die Aufgabenstellung durch\n",
    "- Ersetzen Sie `YOUR CODE HERE` mit richtigem Code\n",
    "- Ersetzen Sie `YOUR ANSWER HERE` mit einer Textantwort\n",
    "- Löschen sie ggf. `raise NotImplementedError()`.\n",
    "- Führen sie die Zelle mit `Shift+Enter` aus.\n",
    "- Achten Sie darauf, dass die Ausführung erfolgreich war."
   ]
  },
  {
   "cell_type": "markdown",
   "id": "e891abdc",
   "metadata": {
    "editable": true,
    "slideshow": {
     "slide_type": ""
    },
    "tags": []
   },
   "source": [
    "![Nbgrader menu](images/01a_Ueberblick/nbgrader_notebook2.png)"
   ]
  },
  {
   "cell_type": "markdown",
   "id": "f6fd3e4e",
   "metadata": {
    "editable": true,
    "slideshow": {
     "slide_type": "subslide"
    },
    "tags": []
   },
   "source": [
    "- Auf jede zu ergänzende Code-Zelle folg eine Test-Zelle.\n",
    "- Diese können Sie nicht bearbeiten.\n",
    "- Aber die Ausführung zeigt Ihne ob sie richtig lagen."
   ]
  },
  {
   "cell_type": "markdown",
   "id": "05f96264",
   "metadata": {
    "editable": true,
    "slideshow": {
     "slide_type": ""
    },
    "tags": []
   },
   "source": [
    "![Nbgrader menu](images/01a_Ueberblick/nbgrader_notebook2.png)"
   ]
  },
  {
   "cell_type": "markdown",
   "id": "3c61d09e",
   "metadata": {
    "editable": true,
    "slideshow": {
     "slide_type": "subslide"
    },
    "tags": []
   },
   "source": [
    "## Einreichen von Aufgaben"
   ]
  },
  {
   "cell_type": "markdown",
   "id": "c1f87310",
   "metadata": {
    "editable": true,
    "slideshow": {
     "slide_type": ""
    },
    "tags": []
   },
   "source": [
    "- Vor Abgabe jedes Notebook validieren\n",
    "- Schaltfläche im Menü zum Starten der `Validierung` verwenden\n",
    "    - Erfolgreiche Validierung → Meldung: “Success! Your notebook passes all the tests.”\n",
    "    - Fehlgeschlagene Validierung → Bericht mit den aufgetretenen Fehlern wird angezeigt"
   ]
  },
  {
   "cell_type": "markdown",
   "id": "47790e3e",
   "metadata": {
    "editable": true,
    "slideshow": {
     "slide_type": ""
    },
    "tags": []
   },
   "source": [
    "![Nbgrader menu](images/01a_Ueberblick/nbgrader_validate.png)"
   ]
  },
  {
   "cell_type": "markdown",
   "id": "3f107ff0",
   "metadata": {
    "editable": true,
    "slideshow": {
     "slide_type": "subslide"
    },
    "tags": []
   },
   "source": [
    "- Nach erfolgreicher Validierung aller Notebooks → Schaltfläche „Submit“ betätigen\n",
    "- Aufgabe wird eingereicht\n",
    "- Eingereichte Aufgabe erscheint in der Liste „Submitted Assignments“"
   ]
  },
  {
   "cell_type": "markdown",
   "id": "e9fc1164",
   "metadata": {
    "editable": true,
    "slideshow": {
     "slide_type": ""
    },
    "tags": []
   },
   "source": [
    "![Nbgrader menu](images/01a_Ueberblick/nbgrader_menu_assignments2.png)"
   ]
  },
  {
   "cell_type": "markdown",
   "id": "574a8a68",
   "metadata": {
    "editable": true,
    "jp-MarkdownHeadingCollapsed": true,
    "slideshow": {
     "slide_type": "slide"
    },
    "tags": []
   },
   "source": [
    "## Server herunterfahren\n",
    "\n",
    "- JupyterLab-Umgebung ordnungsgemäß beenden, wenn die Arbeit abgeschlossen ist\n",
    "- Über Menüpunkt `File/Hub Control Panel` in die Serverkontrollansicht wechseln\n",
    "- Server mit `Stop my Server` beenden"
   ]
  },
  {
   "cell_type": "markdown",
   "id": "0ecda652",
   "metadata": {
    "editable": true,
    "slideshow": {
     "slide_type": "slide"
    },
    "tags": []
   },
   "source": [
    "# Motivation\n",
    "\n",
    "<figcaption class=\"mj-slide-cap\">Midjourney: Programming in Python</figcaption>\n",
    "\n",
    "<script>setSectionBackground('#333333', 'images/01a_Ueberblick/mj_motivation.mp4', true);</script>"
   ]
  },
  {
   "cell_type": "markdown",
   "id": "2383aa80",
   "metadata": {
    "slideshow": {
     "slide_type": "slide"
    },
    "tags": [
     "remove-cell"
    ]
   },
   "source": [
    "## Hörsaalfrage\n",
    "\n",
    "<script>setSectionBackground('#FFD966');</script>\n",
    "<div class=\"flex-row\">\n",
    "  <div class=\"col4 vcent\">\n",
    "\n",
    "Was ist „Informatik“?\n",
    " \n",
    "  </div>\n",
    "  <div class=\"col6\"> \n",
    "    <figure class=\"mj-fig\">\n",
    "        <img src=\"images/01a_Ueberblick/dijkstra.jpg\" class=\"mj-fig-img\">\n",
    "        <figcaption class=\"mj-fig-cap\">\n",
    "            ”Computer science is no more about computers than astronomy is about telescopes.“, Edsger W. Dijkstra\n",
    "        </figcaption>\n",
    "    </figure>\n",
    "  </div>\n",
    "</div>"
   ]
  },
  {
   "cell_type": "markdown",
   "id": "580da650",
   "metadata": {
    "slideshow": {
     "slide_type": "subslide"
    },
    "tags": [
     "remove-cell"
    ]
   },
   "source": [
    "## Definition - Informatik\n",
    "\n",
    "<div class=\"alert alert-block alert-success\">\n",
    "<b>📘 Definition: Informatik</b>\n",
    "\n",
    "Informatik ist die Wissenschaft von der systematischen Verarbeitung von Informationen.\n",
    "\n",
    "Ursprung: Mathematik (Logik, Algorithmen) + Elektrotechnik (Hardware)\n",
    "</div>\n"
   ]
  },
  {
   "cell_type": "markdown",
   "id": "671572c1",
   "metadata": {
    "slideshow": {
     "slide_type": "subslide"
    },
    "tags": [
     "remove-cell"
    ]
   },
   "source": [
    "## Wo brauchen Ingenieure Informatik?\n",
    "\n",
    "<div class=\"flex-row\">\n",
    "  <div class=\"col1\">\n",
    "\n",
    "![](images/01b_Anwendungen/step_design.png)\n",
    "\n",
    "- Computer Aided Design\n",
    "- Virtuelle Umgebungen\n",
    "- Tragwerksplanung\n",
    "- ...\n",
    "\n",
    "  </div>\n",
    "<div class=\"flex-row\">\n",
    "  <div class=\"col1\">\n",
    "\n",
    "![](images/01b_Anwendungen/step_bau.png)\n",
    "\n",
    "\n",
    "- Bauprozessautomation\n",
    "- Messungen zur Abnahme\n",
    "- Baurobotik\n",
    "- ...\n",
    "\n",
    "  </div>\n",
    "<div class=\"flex-row\">\n",
    "  <div class=\"col1\">\n",
    "\n",
    "![](images/01b_Anwendungen/step_operate.png)\n",
    "\n",
    "\n",
    "- Geoinformationsysteme\n",
    "- Facility Management\n",
    "- Gebäudeautomation\n",
    "- ...\n",
    "\n",
    "  </div>\n",
    "</div>"
   ]
  },
  {
   "cell_type": "markdown",
   "id": "ebab9e84",
   "metadata": {
    "editable": true,
    "slideshow": {
     "slide_type": "subslide"
    },
    "tags": []
   },
   "source": [
    "## Entwurf: CAD - Computer Aided Design\n",
    "\n",
    "<div class=\"flex-row\">\n",
    "  <div class=\"col3\">\n",
    "  \n",
    "![https://www.autodesk.com/campaigns/revit-lt](images/01a_Ueberblick/use_case_cad.png)\n",
    "\n",
    "  </div>\n",
    "  <div class=\"col2\">\n",
    "\n",
    "Software-Anwendungen zum Entwerfen, Konstruieren und Präsentieren von Konstruktionszeichnungen und Karten, sowohl für 2D- als auch für 3D-Modelle. \n",
    "(SoftSelect Glossar / Lexikon)\n",
    "\n",
    "  </div>\n",
    "</div>"
   ]
  },
  {
   "cell_type": "markdown",
   "id": "c0e656b1",
   "metadata": {
    "editable": true,
    "slideshow": {
     "slide_type": "subslide"
    },
    "tags": []
   },
   "source": [
    "## Entwurf: Virtuelle Umgebungen\n",
    "\n",
    "<div class=\"flex-row\">\n",
    "  <div class=\"col2\">\n",
    "Anwendungen, die es erlauben Entwürfe in VR (Virtual Reality) oder AR (Augmented Reality) zu visualisieren und zu erkunden.\n",
    "  </div>\n",
    "  <div class=\"col3\">\n",
    "\n",
    "![http://www.firstinvision.de/aut_de_xhtml-4-produkte.php?entryId=cascados-8](images/01a_Ueberblick/use_case_render.jpg)\n",
    "\n",
    "  </div>\n",
    "</div>"
   ]
  },
  {
   "cell_type": "markdown",
   "id": "14fdf617",
   "metadata": {
    "editable": true,
    "slideshow": {
     "slide_type": "subslide"
    },
    "tags": []
   },
   "source": [
    "## Entwurf: Tragwerksplanung\n",
    "\n",
    "<div class=\"flex-row\">\n",
    "  <div class=\"col3\">\n",
    "\n",
    "![https://www.die.de/all-images](images/01a_Ueberblick/use_case_static.png)\n",
    "\n",
    "  </div>\n",
    "  <div class=\"col2\">\n",
    "\n",
    "Ziel seiner Tragwerksplanung ist es, die erforderliche Tragfähigkeit und Gebrauchstauglichkeit einer Baukonstruktion während der vorgesehenen Lebensdauer mit den Forderungen nach Wirtschaftlichkeit und Ästhetik in Einklang zu bringen.\n",
    "[DeWiki](https://dewiki.de/Lexikon/Tragwerksplaner)\n",
    "\n",
    "  </div>\n",
    "</div>"
   ]
  },
  {
   "cell_type": "markdown",
   "id": "b53ca0d3",
   "metadata": {
    "editable": true,
    "slideshow": {
     "slide_type": "subslide"
    },
    "tags": []
   },
   "source": [
    "## Bau: Bauprozessautomatisierung\n",
    "\n",
    "<div class=\"flex-row\">\n",
    "  <div class=\"col2\">\n",
    "\n",
    "Automatisierung verschiedener Schritte\n",
    "\n",
    "- Bautagebuch\n",
    "- Bauzeitenmanagement\n",
    "- Bauprojektmanagement\n",
    "\n",
    "  </div>\n",
    "  <div class=\"col3\">\n",
    "\n",
    "![https://baugorilla.com/produkt/bautagebuch-app](images/01a_Ueberblick/use_case_report.png)\n",
    "\n",
    "  </div>\n",
    "</div>"
   ]
  },
  {
   "cell_type": "markdown",
   "id": "e92125e4",
   "metadata": {
    "editable": true,
    "slideshow": {
     "slide_type": "subslide"
    },
    "tags": []
   },
   "source": [
    "## Bau: Baurobotik\n",
    "\n",
    "<div class=\"flex-row\">\n",
    "  <div class=\"col3\">\n",
    "    <video controls autoplay muted class=\"mj-fig-img\">\n",
    "      <source src=\"images/01a_Ueberblick/Baubot.mp4\" type=\"video/mp4\">\n",
    "      Your browser does not support the video tag.\n",
    "    </video>\n",
    "  </div>\n",
    "  <div class=\"col2\">\n",
    "\n",
    "Das Einsatzgebiet von Robotern im Bauhauptgewerbe ist grundsätzlich unabhängig vom bauspezifischen Geschäftsmodell bzw. unabhängig vom Segment, der Aktivität und der eigentlichen Arbeitstätigkeiten.\n",
    "\n",
    "  </div>\n",
    "</div>"
   ]
  },
  {
   "cell_type": "markdown",
   "id": "acd1bb03",
   "metadata": {
    "editable": true,
    "slideshow": {
     "slide_type": "subslide"
    },
    "tags": []
   },
   "source": [
    "## Betrieb: GIS - Geoinformationssystem\n",
    "\n",
    "<div class=\"flex-row\">\n",
    "  <div class=\"col2\">\n",
    "\n",
    "Geoinformationssysteme sind Informationssysteme zur Erfassung, Bearbeitung, Organisation, Analyse und Präsentation räumlicher Daten.\n",
    "[DeWiki](https://dewiki.de/Lexikon/Geoinformationssystem)\n",
    "\n",
    "  </div>\n",
    "  <div class=\"col3\">\n",
    "\n",
    "![](images/01a_Ueberblick/use_case_gis.png)\n",
    "\n",
    "  </div>\n",
    "</div>"
   ]
  },
  {
   "cell_type": "markdown",
   "id": "9fbfc864",
   "metadata": {
    "editable": true,
    "slideshow": {
     "slide_type": "subslide"
    },
    "tags": []
   },
   "source": [
    "## Betrieb: Gebäudeautomation\n",
    "\n",
    "<div class=\"flex-row\">\n",
    "  <div class=\"col3\">\n",
    "    <video width=\"560\" height=\"315\" controls autoplay muted>\n",
    "      <source src=\"images/01a_Ueberblick/MunchDigitalTwin.mp4\" type=\"video/mp4\">\n",
    "      Your browser does not support the video tag.\n",
    "    </video>\n",
    "  </div>\n",
    "  <div class=\"col2\">\n",
    "\n",
    "Gesamtheit von Überwachungs-, Steuer-, Regel- und Optimierungseinrichtungen in Gebäuden.\n",
    "[DeWiki](https://dewiki.de/Lexikon/Gebäudeautomation)\n",
    "\n",
    "  </div>\n",
    "</div>"
   ]
  },
  {
   "cell_type": "markdown",
   "id": "857aa7b2",
   "metadata": {
    "editable": true,
    "slideshow": {
     "slide_type": "subslide"
    },
    "tags": []
   },
   "source": [
    "## Betrieb: CAFM - Computer Aided Facility Management\n",
    "\n",
    "<div class=\"flex-row\">\n",
    "  <div class=\"col2\">\n",
    "\n",
    "Facilitymanagement bezeichnet die Verwaltung und Bewirtschaftung von Gebäuden sowie deren technischen Anlagen und Einrichtungen (englisch facilities). CAFM ist die Unterstützung des Facilitymanagements durch ein Computerprogramm.\n",
    "[DeWiki](https://dewiki.de/Lexikon/Facilitymanagement)\n",
    "\n",
    "  </div>\n",
    "  <div class=\"col3\">\n",
    "    <video width=\"560\" height=\"315\" controls autoplay muted>\n",
    "      <source src=\"images/01a_Ueberblick/DynamicSpacePlanning.mov\" type=\"video/mp4\">\n",
    "      Your browser does not support the video tag.\n",
    "    </video>\n",
    "  </div>\n",
    "</div>"
   ]
  },
  {
   "cell_type": "markdown",
   "id": "38e42643-cf43-4054-86ca-df0f8aa6f5e1",
   "metadata": {
    "editable": true,
    "slideshow": {
     "slide_type": "subslide"
    },
    "tags": []
   },
   "source": [
    "## Literaturempfehlungen\n",
    "\n",
    "- [Python 3: das umfassende Handbuch; Ernesti, Johannes, Kaiser, Peter, 2020](https://find.ub.uni-rostock.de/id%7Bcolon%7D169925365X)\n",
    "- [Datenbanken: Konzepte und Sprachen; Saake, Gunter, Sattler, Kai-Uwe, Heuer, Andreas, 2018](https://find.ub.uni-rostock.de/id%7Bcolon%7D1632747588)\n",
    "\n",
    "- Empfehlung: Verschiedene Online-Tutorials nutzen!\n",
    "[https://docs.python.org/3/tutorial/](https://docs.python.org/3/tutorial/) & [https://www.w3schools.com/python/](https://www.w3schools.com/python/) \n",
    "\n",
    "- Langfristig am wichtigsten: Ins kalte Wasser springen!"
   ]
  },
  {
   "cell_type": "markdown",
   "id": "ad7fd43b-1195-47dc-94e8-ac3cce7ffa0a",
   "metadata": {
    "editable": true,
    "slideshow": {
     "slide_type": "slide"
    },
    "tags": [
     "remove-cell"
    ]
   },
   "source": [
    "<div class=\"vslide\">\n",
    "  <div class=\"vslide-title\">\n",
    "    <p style=\"font-family: Protomolecule; font-size: 2.3em; margin: 0px auto; text-align: center; width: 100%;\">fragen?</p>\n",
    "  </div>\n",
    "  <script>setSectionBackground('#000000', 'images/01a_Ueberblick/mj_questions.mp4');</script>\n",
    "</div>"
   ]
  }
 ],
 "metadata": {
  "celltoolbar": "Slideshow",
  "kernelspec": {
   "display_name": "Python 3 (ipykernel)",
   "language": "python",
   "name": "python3"
  },
  "language_info": {
   "codemirror_mode": {
    "name": "ipython",
    "version": 3
   },
   "file_extension": ".py",
   "mimetype": "text/x-python",
   "name": "python",
   "nbconvert_exporter": "python",
   "pygments_lexer": "ipython3",
   "version": "3.12.10"
  },
  "rise": {
   "auto_select": "none",
   "center": false,
   "enable_chalkboard": true,
   "header": "<img src=\"images/pd_logo.svg\" class=\"header_title_logo\"><img src=\"images/ai4sc_logo_v2.svg\" class=\"header_ai4sc_logo\">",
   "scroll": true,
   "show_buttons_on_startup": false,
   "slideNumber": true,
   "theme": "white"
  }
 },
 "nbformat": 4,
 "nbformat_minor": 5
}
