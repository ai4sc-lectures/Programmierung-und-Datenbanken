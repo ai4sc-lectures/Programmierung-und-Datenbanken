{
 "cells": [
  {
   "cell_type": "markdown",
   "metadata": {
    "editable": true,
    "slideshow": {
     "slide_type": "slide"
    },
    "tags": [
     "remove-cell"
    ]
   },
   "source": [
    "<div class=\"vslide\">\n",
    "  <div class=\"vslide-title\">\n",
    "    <p style=\"font-family: Protomolecule; font-size: 2.3em; line-height: 90%; margin: 0px auto; text-align: center; width: 100%;\"><span style=\"letter-spacing: .04rem;\">programmierung</span><br><span style=\"letter-spacing: .0rem;\">und datenbanken</span></p>\n",
    "<p class=\"author\" style=\"font-family: Protomolecule; margin: 0px auto;  text-align: center; width: 100%; font-size: 1.2em;\">Joern Ploennigs</p>\n",
    "<p class=\"subtitle\" style=\"font-family: Protomolecule; margin: 1em auto; text-align: center; width: 100%; font-size: 1.2em;\">Verzweigung</p>\n",
    "  </div>\n",
    "<script>\n",
    "  function setSectionBackground(c,v){\n",
    "    let e=document.currentScript.previousElementSibling;\n",
    "    while(e&&e.tagName!=='SECTION')e=e.parentElement;\n",
    "    if(e){\n",
    "      if(c)e.setAttribute('data-background-color',c);\n",
    "      if(v){\n",
    "        e.setAttribute('data-background-video',v);\n",
    "        e.setAttribute('data-background-video-loop','true');\n",
    "        e.setAttribute('data-background-video-muted','true');\n",
    "      }\n",
    "    }\n",
    "  }\n",
    "  setSectionBackground('#000000', 'images/03a_Verzweigung/mj_title.mp4');\n",
    "</script>\n",
    "<style>\n",
    ".flex-row{display:flex; gap:2rem; align-items:flex-start; justify-content:space-between;}\n",
    ".flex-row .col1{flex:1; min-width:10px}\n",
    ".flex-row .col2{flex:2; min-width:10px}\n",
    ".flex-row .col3{flex:3; min-width:10px}\n",
    ".flex-row .col4{flex:4; min-width:10px}\n",
    ".flex-row .col5{flex:5; min-width:10px}\n",
    ".flex-row .col6{flex:6; min-width:10px}\n",
    ".flex-row .col7{flex:7; min-width:10px}\n",
    ".vcent{display:flex; align-items:center; justify-content:center}\n",
    "</style>\n",
    "</div>"
   ]
  },
  {
   "cell_type": "markdown",
   "metadata": {
    "slideshow": {
     "slide_type": "skip"
    }
   },
   "source": [
    "# Verzweigungen"
   ]
  },
  {
   "cell_type": "markdown",
   "metadata": {
    "slideshow": {
     "slide_type": "skip"
    }
   },
   "source": [
    "![](images/03a_Verzweigung/mj_title.png)\n",
    "\n",
    "> When you come to a fork in the road, take it. \n",
    ">\n",
    "> — Yogi Berra"
   ]
  },
  {
   "cell_type": "markdown",
   "metadata": {
    "editable": true,
    "slideshow": {
     "slide_type": "skip"
    },
    "tags": []
   },
   "source": [
    "## <a href=\"/lec_slides/03a_Verzweigung.slides.html\">Folien</a>\n",
    "<iframe src=\"/lec_slides/03a_Verzweigung.slides.html\" width=\"750\" height=\"500\"></iframe>"
   ]
  },
  {
   "cell_type": "markdown",
   "metadata": {
    "slideshow": {
     "slide_type": "slide"
    },
    "tags": [
     "remove-cell"
    ]
   },
   "source": [
    "## Ablauf\n",
    "\n",
    "![](images/partA_4.svg)"
   ]
  },
  {
   "cell_type": "markdown",
   "metadata": {
    "editable": true,
    "slideshow": {
     "slide_type": "skip"
    },
    "tags": []
   },
   "source": [
    "## Bedingtes Verzweigen"
   ]
  },
  {
   "cell_type": "markdown",
   "metadata": {
    "editable": true,
    "slideshow": {
     "slide_type": "skip"
    },
    "tags": []
   },
   "source": [
    "Ein Computer muss oft entscheiden wie Informationen verarbeitet werden sollen. Dafür muss er im Programm die Möglichkeit haben, bestimmte Statements oder Programmteile nur in bestimmten Fällen auszuführen. Hierfür bieten alle Programmiersprachen das Konzept der Verzweigung an."
   ]
  },
  {
   "cell_type": "markdown",
   "metadata": {
    "editable": true,
    "slideshow": {
     "slide_type": "skip"
    },
    "tags": []
   },
   "source": [
    "Die Einfachste Form der Verzweigung sind bedingte Verzweigungen, welche einen Code-Block nur bei Zutreffen einer logischen Bedingung ausführen. In Python ist dafür die `if`-Anweisung (Wenn-Dann) vorgesehen, welche einem Statement vorsteht, welches nur bei Zutreffen einer Bedingung ausgeführt wird. Es ist üblich die Statements auf eine neue Zeile zu schreiben. Dann *müssen* sie eingerückt werden."
   ]
  },
  {
   "cell_type": "code",
   "execution_count": null,
   "metadata": {
    "editable": true,
    "slideshow": {
     "slide_type": "skip"
    },
    "tags": []
   },
   "outputs": [],
   "source": [
    "bedingung=True\n",
    "if bedingung:\n",
    "    # wird nur ausgeführt wenn Bedingung True ist\n",
    "    print(f\"Der Block mit 'bedingung={bedingung}' wurde ausgeführt. 1\")\n",
    "\n",
    "bedingung=False\n",
    "if bedingung:\n",
    "    # wird nur ausgeführt wenn Bedingung True ist\n",
    "    print(f\"Der Block mit 'bedingung={bedingung}' wurde ausgeführt. 2\")"
   ]
  },
  {
   "cell_type": "markdown",
   "metadata": {
    "editable": true,
    "slideshow": {
     "slide_type": "skip"
    },
    "tags": []
   },
   "source": [
    ":::{info} In englischen Veröffentlichungen in der Informatik wird häufig auch im Schreiben das Wort `iff` verwendet, was für \"if-and-only-if\" steht und explizit aussagt, dass eine strikte logische Aussage gemacht wird und keine Natürlichsprachliches weiches `if` verwendet wird. :::"
   ]
  },
  {
   "cell_type": "markdown",
   "metadata": {
    "slideshow": {
     "slide_type": "skip"
    }
   },
   "source": [
    "\n",
    "\n",
    "Mit dem logischen Operator `not` kann man die Bedingungen negieren und mit `and`, `or` und Klammern kombinieren."
   ]
  },
  {
   "cell_type": "code",
   "execution_count": null,
   "metadata": {
    "slideshow": {
     "slide_type": "skip"
    }
   },
   "outputs": [],
   "source": [
    "bedingung=True\n",
    "if not bedingung:\n",
    "    # wird nur ausgeführt wenn Bedingung True ist\n",
    "    print(f\"Der Block mit 'bedingung={bedingung}' wurde ausgeführt.\")\n",
    "\n",
    "bedingung=0\n",
    "if bedingung:\n",
    "    # wird nur ausgeführt wenn Bedingung equivalent mit True ist\n",
    "    print(f\"Der Block mit 'bedingung'={bedingung} wurde ausgeführt.\")\n",
    "\n",
    "bedingung=2\n",
    "if bedingung:\n",
    "    # wird nur ausgeführt wenn Bedingung equivalent mit True ist\n",
    "    print(f\"Der Block mit 'bedingung'={bedingung} wurde ausgeführt.\")\n",
    "\n",
    "if not bedingung:\n",
    "    # wird nur ausgeführt wenn Bedingung True ist\n",
    "    print(f\"Der Block mit 'bedingung={bedingung}' wurde ausgeführt.\")"
   ]
  },
  {
   "cell_type": "markdown",
   "metadata": {
    "slideshow": {
     "slide_type": "skip"
    }
   },
   "source": [
    "Strings die leer und die Länge 0 haben entsprechen dem logischen Wert `False` und nicht leere dem logischen Wert `True`."
   ]
  },
  {
   "cell_type": "code",
   "execution_count": null,
   "metadata": {
    "slideshow": {
     "slide_type": "skip"
    }
   },
   "outputs": [],
   "source": [
    "bedingung='' # leerer String\n",
    "if bedingung:\n",
    "    # wird nur ausgeführt wenn Bedingung equivalent mit True ist\n",
    "    print(f\"Der Block mit 'bedingung'={bedingung} wurde ausgeführt.\")\n",
    "\n",
    "bedingung=' '\n",
    "if bedingung:\n",
    "    # wird nur ausgeführt wenn Bedingung equivalent mit True ist\n",
    "    print(f\"Der Block mit 'bedingung'={bedingung} wurde ausgeführt.\")"
   ]
  },
  {
   "cell_type": "markdown",
   "metadata": {
    "slideshow": {
     "slide_type": "skip"
    }
   },
   "source": [
    "Das gleiche gilt für Listen und Dictionaries, wenn diese leer sind (`False`) oder befüllt (`True`)."
   ]
  },
  {
   "cell_type": "code",
   "execution_count": null,
   "metadata": {
    "slideshow": {
     "slide_type": "skip"
    }
   },
   "outputs": [],
   "source": [
    "bedingung=[] # leerer Liste\n",
    "if bedingung:\n",
    "    # wird nur ausgeführt wenn Bedingung equivalent mit True ist\n",
    "    print(f\"Der Block mit 'bedingung'={bedingung} wurde ausgeführt.\")\n",
    "\n",
    "bedingung=['nicht_leer'] # nicht leere Liste \n",
    "if bedingung:\n",
    "    # wird nur ausgeführt wenn Bedingung equivalent mit True ist\n",
    "    print(f\"Der Block mit 'bedingung'={bedingung} wurde ausgeführt.\")"
   ]
  },
  {
   "cell_type": "markdown",
   "metadata": {
    "slideshow": {
     "slide_type": "skip"
    }
   },
   "source": [
    "Damit lässt sich im Code schnell prüfen ob z.B. bereits Elemente in einer Liste enthalten sind und diese z.B. weiterverarbeitet werden sollen.\n",
    "\n",
    "Bei komplexeren Datentypen, wie Objekten, die den Wert `None` annehmen können, wird dieser auch als `False` interpretiert und alles andere als `True`, womit man wiederum prüfen kann, ob die Variable schon belegt worden ist."
   ]
  },
  {
   "cell_type": "code",
   "execution_count": null,
   "metadata": {
    "slideshow": {
     "slide_type": "skip"
    }
   },
   "outputs": [],
   "source": [
    "bedingung=None # nicht belegt\n",
    "if bedingung:\n",
    "    # wird nur ausgeführt wenn Bedingung equivalent mit True ist\n",
    "    print(f\"Der Block mit 'bedingung'={bedingung} wurde ausgeführt.\")\n",
    "\n",
    "bedingung=\"nicht_None\" # belegt\n",
    "if bedingung:\n",
    "    # wird nur ausgeführt wenn Bedingung equivalent mit True ist\n",
    "    print(f\"Der Block mit 'bedingung'={bedingung} wurde ausgeführt.\")\n",
    "\n",
    "bedingung=None # nicht belegt\n",
    "if bedingung is not None:\n",
    "    # wird nur ausgeführt wenn Bedingung equivalent mit True ist\n",
    "    print(f\"Der Block mit 'bedingung'={bedingung} wurde ausgeführt.\")\n",
    "\n",
    "bedingung=\"nicht_None\" # belegt\n",
    "if bedingung is not None:\n",
    "    # wird nur ausgeführt wenn Bedingung equivalent mit True ist\n",
    "    print(f\"Der Block mit 'bedingung'={bedingung} wurde ausgeführt.\")"
   ]
  },
  {
   "cell_type": "markdown",
   "metadata": {
    "slideshow": {
     "slide_type": "skip"
    }
   },
   "source": [
    "## Die Alternative"
   ]
  },
  {
   "cell_type": "markdown",
   "metadata": {
    "slideshow": {
     "slide_type": "skip"
    }
   },
   "source": [
    "Oft kommt es vor, dass nicht nur etwas ausgeführt werden soll, wenn die Bedingung wahr ist, sondern im anderen Fall auch etwas ausgeführt werden soll. Dafür gibt es die `else`-Anweisung, welche ausschließlich nach einem `if` folgen darf und bei mehreren Zeilen auf gleicher Höhe eingerückt werden muss, wie das `if` welches es beschließt."
   ]
  },
  {
   "cell_type": "code",
   "execution_count": null,
   "metadata": {
    "slideshow": {
     "slide_type": "skip"
    }
   },
   "outputs": [],
   "source": [
    "bedingung=True\n",
    "if bedingung:\n",
    "    # wird nur ausgeführt wenn Bedingung True ist\n",
    "    print(f\"Der Block mit 'bedingung={bedingung}' wurde ausgeführt.\")\n",
    "else:\n",
    "    # wird nur ausgeführt wenn Bedingung False ist\n",
    "    print(f\"Der alternative Block mit 'bedingung={bedingung}' wurde ausgeführt.\")"
   ]
  },
  {
   "cell_type": "code",
   "execution_count": null,
   "metadata": {
    "slideshow": {
     "slide_type": "skip"
    }
   },
   "outputs": [],
   "source": [
    "bedingung=False\n",
    "if bedingung:\n",
    "    # wird nur ausgeführt wenn Bedingung True ist\n",
    "    print(f\"Der Block mit 'bedingung={bedingung}' wurde ausgeführt.\")\n",
    "else:\n",
    "    # wird nur ausgeführt wenn Bedingung False ist\n",
    "    print(f\"Der alternative Block mit 'bedingung={bedingung}' wurde ausgeführt.\")"
   ]
  },
  {
   "cell_type": "markdown",
   "metadata": {
    "slideshow": {
     "slide_type": "skip"
    }
   },
   "source": [
    "Ein typisches Beispiel ist das Abfangen von Divisionen durch 0. Da man bei Berechnungen nicht immer garantieren kann, dass der Nenner 0 sein kann. Da diese nicht definiert ist, führt sie zu einem Programmfehler und ggf. zu einem Programmabsturz."
   ]
  },
  {
   "cell_type": "code",
   "execution_count": null,
   "metadata": {
    "editable": true,
    "slideshow": {
     "slide_type": "skip"
    },
    "tags": [
     "raises-exception"
    ]
   },
   "outputs": [],
   "source": [
    "zaehler = 5\n",
    "nenner = 0\n",
    "ergebnis = zaehler / nenner"
   ]
  },
  {
   "cell_type": "markdown",
   "metadata": {
    "slideshow": {
     "slide_type": "skip"
    }
   },
   "source": [
    "Um dies abzufangen können wir eine `if-else`-Verzweigung nutzen und dem Ergebnis den Wert `None` (im Sinne von 'nicht definiert') zuweisen."
   ]
  },
  {
   "cell_type": "code",
   "execution_count": null,
   "metadata": {
    "editable": true,
    "slideshow": {
     "slide_type": "skip"
    },
    "tags": []
   },
   "outputs": [],
   "source": [
    "nenner = 0\n",
    "if nenner: # der Wahrheitswert eines int-Wertes ist False bei 0 und Wahr für != 0 \n",
    "\tergebnis = zaehler / nenner\n",
    "else:\n",
    "\tprint(\"Teilung durch 0\")\n",
    "\tergebnis = None\n",
    "print(f\"Das Ergebnis von {zaehler}/{nenner} = {ergebnis}\")"
   ]
  },
  {
   "cell_type": "markdown",
   "metadata": {
    "slideshow": {
     "slide_type": "skip"
    }
   },
   "source": [
    "Da man ferner bei Python durch die dynamische Typisierung gar nicht garantieren kann, dass `zaehler` und `nenner` vom richtigen Datentyp `int` sind, ist es sinnvoll eine Typprüfung hinzuzufügen. Hierfür prüfen wir zuerst den Datentyp mit der bekannten Funktion `type()` bevor wir die Prüfung auf 0-Teilung machen. Dafür verschachteln wir die `if-else` Bedingungen."
   ]
  },
  {
   "cell_type": "code",
   "execution_count": null,
   "metadata": {
    "slideshow": {
     "slide_type": "skip"
    }
   },
   "outputs": [],
   "source": [
    "zaehler = 'keine_zahl'\n",
    "nenner = 0\n",
    "if type(zaehler) == int:\n",
    "    if type(nenner) == int:\n",
    "        if nenner: # der Wahrheitswert eines int-Wertes ist False bei 0 und Wahr für != 0 \n",
    "            ergebnis = zaehler / nenner\n",
    "        else:\n",
    "            print(\"Teilung durch 0\")\n",
    "            ergebnis = None\n",
    "    else:\n",
    "        print(f\"Nenner nicht vom Datentyp `int`, sondern vom Typ {type(nenner)}\")\n",
    "        ergebnis = None\n",
    "else:\n",
    "    print(f\"Zaehler nicht vom Datentyp `int`, sondern vom Typ {type(zaehler)}\")\n",
    "    ergebnis = None\n",
    "\n",
    "print(f\"Das Ergebnis von {zaehler}/{nenner} = {ergebnis}\")"
   ]
  },
  {
   "cell_type": "markdown",
   "metadata": {
    "slideshow": {
     "slide_type": "skip"
    }
   },
   "source": [
    "## Alternatives Verzweigen"
   ]
  },
  {
   "cell_type": "markdown",
   "metadata": {
    "slideshow": {
     "slide_type": "skip"
    }
   },
   "source": [
    "Gibt es wie im letzten Beispiel mehrere verschachtelte Alternativen, so wird der Code sehr schnell unübersichtlich und man braucht eine kompaktere Schreibweise. Hierfür gibt es in Python die `elif`-Anweisung, welche einfach nur eine Kurzform von `else if` ist und keines weiteren Einrückens bedarf. So, kann man den vorherigen Code leserlicher schreiben als:"
   ]
  },
  {
   "cell_type": "code",
   "execution_count": null,
   "metadata": {
    "slideshow": {
     "slide_type": "skip"
    }
   },
   "outputs": [],
   "source": [
    "zaehler = 'keine_zahl'\n",
    "nenner = 0\n",
    "ergebnis = None\n",
    "if not isinstance(nenner, int):\n",
    "    print(f\"Nenner nicht vom Datentyp `int`, sondern vom Typ {type(nenner)}\")\n",
    "elif not isinstance(zaehler, int):\n",
    "    print(f\"Zaehler nicht vom Datentyp `int`, sondern vom Typ {type(zaehler)}\")\n",
    "elif not nenner:\n",
    "    print(\"Teilung durch 0\")\n",
    "else:\n",
    "    ergebnis = zaehler / nenner\n",
    "\n",
    "print(f\"Das Ergebnis von {zaehler}/{nenner} = {ergebnis}\")"
   ]
  },
  {
   "cell_type": "markdown",
   "metadata": {
    "slideshow": {
     "slide_type": "skip"
    }
   },
   "source": [
    "Hierbei haben wir:\n",
    "-  als erstes die Bedingung `type(zaehler) == int` ersetzt durch die Standardfunktion `isinstance(zaehler, int)` welche identisch ist und einfacher zu lesen.\n",
    "-  wir haben alle Fehlerfälle zuerst bearbeitet, um sicher zu stellen, dass sie vor Ausführung der Berechnung abgefragt werden\n",
    "-  so prüfen wir erst ob der `zaehler` nicht vom Datentyp `int` ist und geben in diesem Fall eine Fehlermeldung aus\n",
    "-  Ist das nicht der Fall, so könnte `nenner` nicht vom Datentyp `int` sein und würden in diesem Fall eine andere Fehlermeldung ausgeben\n",
    "-  dann muss muss der `nenner` vom Datentyp `int` sein und wir prüfen ob er 0 ist mit einer entsprechenden Fehlermeldung\n",
    "-  da in allen drei Fällen das `ergebnis` den Wert `None` hat, haben wir diese Zuweisung vor den `if`-Block gesetzt\n",
    "-  der letzte `else` Block wird nur erreicht, wenn all dies nicht zutrifft, also `zaehler` und `nenner` vom Datentypen `int` und `nenner` nicht 0 ist. Nur in diesem Fall wird `ergebnis` mit dem Wert der Teilung belegt"
   ]
  },
  {
   "cell_type": "markdown",
   "metadata": {
    "editable": true,
    "slideshow": {
     "slide_type": "skip"
    },
    "tags": []
   },
   "source": [
    "<div class=\"alert alert-block alert-info\">\n",
    "    <b>ℹ️ Info:</b> Hierbei ist zu beachten, dass wir absichtlich die Fehlermeldung \"Teilung durch 0\" nach hinten bewegt haben. Es wäre auch möglich mit der Bedingung `if not nenner` in der originalen Reihenfolge zu starten. Hier gäbe es allerdings die Gefahr, dass Aufgrund der Wahrheitswerte anderer Datentypen auch z.B. eine leere Liste diese Bedingung korrekt erfüllen wurde. Wir bekommen in diesem Fall eine falsche Fehlermeldung angezeigt (\"Teilung durch 0\" statt \"Nenner vom Datentyp `int`\"), wie folgendes Beispiel zeigt. Das ist eine der typischen Gefahren von dynamisch typisierten Sprachen. Grundsätzlich sind deshalb Datentyp-Prüfungen immer zuerst zu machen.\n",
    "</div>"
   ]
  },
  {
   "cell_type": "code",
   "execution_count": null,
   "metadata": {
    "editable": true,
    "slideshow": {
     "slide_type": "skip"
    },
    "tags": []
   },
   "outputs": [],
   "source": [
    "zaehler = 10\n",
    "nenner = []\n",
    "ergebnis = None\n",
    "if not nenner:\n",
    "    print(\"Teilung durch 0\")\n",
    "elif not isinstance(nenner, int):\n",
    "    print(f\"Nenner nicht vom Datentyp `int`, sondern vom Typ {type(nenner)}\")\n",
    "elif not isinstance(zaehler, int):\n",
    "    print(f\"Zaehler nicht vom Datentyp `int`, sondern vom Typ {type(zaehler)}\")\n",
    "else:\n",
    "    ergebnis = zaehler / nenner\n",
    "\n",
    "print(f\"Das Ergebnis von {zaehler}/{nenner} = {ergebnis}\")"
   ]
  },
  {
   "cell_type": "markdown",
   "metadata": {
    "slideshow": {
     "slide_type": "slide"
    },
    "tags": [
     "remove-cell"
    ]
   },
   "source": [
    "## Ablauf\n",
    "\n",
    "![](images/partA_4.svg)"
   ]
  },
  {
   "cell_type": "markdown",
   "metadata": {
    "slideshow": {
     "slide_type": "slide"
    },
    "tags": [
     "remove-cell"
    ]
   },
   "source": [
    "## Bedingtes Verzweigen\n",
    "\n",
    "- Wir können Steueranweisungen benutzen, die basierend auf einer Bedingung ein bestimmtes Statement „ansteuern\".\n",
    "\n",
    "- Diese Bedingungen sind Statements deren Ausgabe ein Boolean-Wert (True oder False) ist:\n",
    "    - `True` - Logische Werte\n",
    "    - `a` - Variablen Werte, wenn a mit einem Bool belegt wurde, bzw. das Bool-Äquivalent von a\n",
    "    - `2 < 5` - Alle Vergleichsoperatoren"
   ]
  },
  {
   "cell_type": "markdown",
   "metadata": {
    "slideshow": {
     "slide_type": "subslide"
    },
    "tags": [
     "remove-cell"
    ]
   },
   "source": [
    "## Wenn … Dann …\n",
    "\n",
    "- Die Grundform solcher Verzweigungen ist:\n",
    "  > „Wenn die Bedingung zutrifft, dann führe folgende Statements aus\"\n",
    "\n",
    "- Oft folgt außerdem ein „sonst führe stattdessen folgendes Statement aus\"\n",
    "\n",
    "- Python kennt drei Anweisungen zur Verzweigung:\n",
    "    - `if` - wenn\n",
    "    - `else` - sonst  \n",
    "    - `elif` - kurz für else-if"
   ]
  },
  {
   "cell_type": "markdown",
   "metadata": {
    "slideshow": {
     "slide_type": "subslide"
    },
    "tags": [
     "remove-cell"
    ]
   },
   "source": [
    "## IF-Statement\n",
    "\n",
    "- Die If-Anweisung ist nötig, um eine Verzweigung zu beginnen.\n",
    "\n",
    "- Wichtig: Der bedingte Code-Block muss eingerückt werden\n",
    "\n",
    "```python\n",
    "if Bedingung:\n",
    "    # dann führe den folgenden Block nur aus wenn die Bedingung wahr ist\n",
    "    Statement1\n",
    "    Statement2\n",
    "    # ...\n",
    "```\n",
    "\n",
    "Ist die Bedingung `True`, werden die eingerückten Statements ausgeführt."
   ]
  },
  {
   "cell_type": "markdown",
   "metadata": {
    "slideshow": {
     "slide_type": "subslide"
    },
    "tags": [
     "remove-cell"
    ]
   },
   "source": [
    "## Beispiel: IF-Statement zum Überspringen von Code\n",
    "\n",
    "```python\n",
    "activateOutput = True\n",
    "a = 10\n",
    "b = 13\n",
    "c = math.sqrt(a**2 + b**2) # Pythagoras\n",
    "\n",
    "if activateOutput:\n",
    "    print(\"Seitenlänge:\" + str(c))\n",
    "    umfang = a + b + c\n",
    "    # ...\n",
    "```\n"
   ]
  },
  {
   "cell_type": "markdown",
   "metadata": {
    "slideshow": {
     "slide_type": "subslide"
    },
    "tags": [
     "remove-cell"
    ]
   },
   "source": [
    "## Alternativen\n",
    "\n",
    "- `else` folgt nur auf ein `if`\n",
    "- Wird ausgeführt wenn die im `if` angegebene Bedingung `false` zurückgibt\n",
    "- Benötigt ebenso Einrückung des bedingten Code-Blocks\n",
    "\n",
    "```python\n",
    "if Bedingung:\n",
    "    # dann führe den folgenden Block nur aus wenn Bedingung wahr ist\n",
    "    Statement1\n",
    "    Statement2\n",
    "    # ...\n",
    "else:\n",
    "    Statement1b\n",
    "    # ...\n",
    "```"
   ]
  },
  {
   "cell_type": "markdown",
   "metadata": {
    "slideshow": {
     "slide_type": "subslide"
    },
    "tags": [
     "remove-cell"
    ]
   },
   "source": [
    "### Beispiel: Division durch 0 abfangen (Einfache Verzweigung)\n",
    "\n",
    "Implizite Version\n",
    "```python\n",
    "a = 5\n",
    "b = 0\n",
    "if b:  # der Wahrheitswert eines int-Wertes ist false bei 0 und Wahr für != 0\n",
    "    c = a / b\n",
    "else:\n",
    "    print(\"Division by Zero\")\n",
    "    c = None\n",
    "```"
   ]
  },
  {
   "cell_type": "markdown",
   "metadata": {
    "slideshow": {
     "slide_type": "subslide"
    },
    "tags": [
     "remove-cell"
    ]
   },
   "source": [
    "### Beispiel: Division durch 0 abfangen (Einfache Verzweigung)\n",
    "\n",
    "Explizite Version\n",
    "```python\n",
    "a = 5\n",
    "b = 0\n",
    "if b != 0: # Expliziter Wahrheitswert\n",
    "    c = a / b\n",
    "else:\n",
    "    print(\"Division by Zero\")\n",
    "    c = None\n",
    "```"
   ]
  },
  {
   "cell_type": "markdown",
   "metadata": {
    "slideshow": {
     "slide_type": "subslide"
    },
    "tags": [
     "remove-cell"
    ]
   },
   "source": [
    "## Verschachtelte Verzweigungen\n",
    "\n",
    "Durch mehrfaches Einrücken können wir Verzweigungen in Verzweigungen definieren:\n",
    "\n",
    "```python\n",
    "if Condition1:\n",
    "    StatementA\n",
    "else:\n",
    "    if Condition2:\n",
    "        StatementB\n",
    "    else:\n",
    "        StatementC\n",
    "```"
   ]
  },
  {
   "cell_type": "markdown",
   "metadata": {
    "slideshow": {
     "slide_type": "subslide"
    },
    "tags": [
     "remove-cell"
    ]
   },
   "source": [
    "### Beispiel: Vorzeichen testen (Verschachtelte Verzweigung)\n",
    "\n",
    "```python\n",
    "if a < 0:\n",
    "    print(\"Number is negative\")\n",
    "else:\n",
    "    if a > 0:\n",
    "        print(\"Number is positive\")\n",
    "    else:\n",
    "        print(\"Number is zero\")\n",
    "```"
   ]
  },
  {
   "cell_type": "markdown",
   "metadata": {
    "editable": true,
    "slideshow": {
     "slide_type": "slide"
    },
    "tags": [
     "remove-cell"
    ]
   },
   "source": [
    "## Mehrfachverzweigung: ELIF-Statement\n",
    "\n",
    "- Anstatt einer `else`-Anweisung können wir die `elif`-Anweisung verwenden, welche wie `if` eine Bedingung hat.\n",
    "\n",
    "- Auf eine `elif`-Anweisung können folgen:\n",
    "    - Eine weitere `elif`-Anweisung\n",
    "    - `else`-Anweisung - wird aufgerufen wenn keine der bisherigen Anweisungen zutraf\n",
    "    - Keine Anweisung – zweite Variante vom optionalen Code"
   ]
  },
  {
   "cell_type": "markdown",
   "metadata": {
    "editable": true,
    "slideshow": {
     "slide_type": "subslide"
    },
    "tags": [
     "remove-cell"
    ]
   },
   "source": [
    "### Beispiel: Vorzeichen testen (Mehrfachverzweigung)\n",
    "\n",
    "```python\n",
    "if a < 0:\n",
    "    print(\"Number is negative\")\n",
    "elif a > 0:\n",
    "    print(\"Number is positive\")\n",
    "else:\n",
    "    print(\"Number is zero\")\n",
    "```\n",
    "\n",
    "Viel sauberer und lesbarer als verschachtelte if-else Statements!"
   ]
  },
  {
   "cell_type": "markdown",
   "metadata": {
    "editable": true,
    "slideshow": {
     "slide_type": "subslide"
    }
   },
   "source": [
    "## Viele Alternativen\n",
    "\n",
    "In Python 3.10 wurde das Match-Statement eingeführt, was es in vielen anderen Sprachen bereits gibt. Es erlaub eine Variable mit mehren möglichen Werten zu vergleichen.\n",
    "\n",
    "<div class=\"flex-row\">\n",
    "<div class=\"col1\">\n",
    "    \n",
    "Traditionell (viele elif):\n",
    "```python\n",
    "if Variable == ValueA:\n",
    "    StatementA\n",
    "elif Variable == ValueB:\n",
    "    StatementB\n",
    "else:\n",
    "    StatementC\n",
    "```\n",
    "\n",
    "</div>\n",
    "<div class=\"col1\">\n",
    "\n",
    "Neu (match-case):\n",
    "```python\n",
    "match Variable:\n",
    "    case ValueA:\n",
    "        StatementA\n",
    "    case ValueB:\n",
    "        StatementB\n",
    "    case _:\n",
    "        StatementC\n",
    "```\n",
    "\n",
    "</div>\n",
    "</div>"
   ]
  },
  {
   "cell_type": "markdown",
   "metadata": {
    "slideshow": {
     "slide_type": "slide"
    },
    "tags": [
     "remove-cell"
    ]
   },
   "source": [
    "## Lesson Learned\n",
    "\n",
    "<script>setSectionBackground('#66ccffff');</script>\n",
    "<div class=\"flex-row\">\n",
    "<div class=\"col2\">\n",
    "\n",
    "Welche Lerntypen gibt es?\n",
    "\n",
    "</div>\n",
    "<div class=\"col3\">\n",
    "    <figure class=\"mj-fig\">\n",
    "        <img src=\"images/02x_Lerntypen/mj_title.mp4\" class=\"mj-fig-img\">\n",
    "        <figcaption class=\"mj-fig-cap\">\n",
    "            Midjourney: Six Sense\n",
    "        </figcaption>\n",
    "    </figure>\n",
    "  </div>\n",
    "</div>"
   ]
  },
  {
   "cell_type": "markdown",
   "metadata": {
    "slideshow": {
     "slide_type": "subslide"
    },
    "tags": [
     "remove-cell"
    ]
   },
   "source": [
    "## Lesson Learned - Notizen\n",
    "\n",
    "<script>setSectionBackground('#66ccffff');</script>\n",
    "\n",
    "![](images/03x_Nacharbeit/process.svg)\n",
    "\n",
    "- Sie sollten sich immer Notizen machen (weil wir uns geschriebenes taktil und visuell besser merken)\n",
    "- Sie sollten nicht die Folien abschreiben, sondern eher Schlüsselinformationen, Begriffe und Fragen\n",
    "- Sie sollten sich die Zeit nehmen um Notizen nachzuarbeiten, Fragen zu klären und Inhalte selbst zu strukturieren\n"
   ]
  },
  {
   "cell_type": "markdown",
   "metadata": {
    "slideshow": {
     "slide_type": "subslide"
    },
    "tags": [
     "remove-cell"
    ]
   },
   "source": [
    "## Nacharbeit\n",
    "\n",
    "<script>setSectionBackground('#66ccffff');</script>\n",
    "\n",
    "- **S**urvey (Überblick gewinnen): Blättert durch ein Thema und gewinnt einen Überblick\n",
    "- **Q**uestion (Fragen): Notiert euch Fragen zu Punkten die ihr nicht versteht.\n",
    "- **R**ead (Lesen): Lest eure Notizen durch; Hebt Schlüsselwörter hervor; Recherchiert zu den Fragen.\n",
    "- **R**ecite (Wiedergeben): Rekapituliert jeden Abschnitt (Inhalt, Schlüsselwörter, Zusammenhänge). Strukturiert euch die Inhalte, z.B. mit Mindmaps. Wiederholt Gelerntes mehrmals (Karteikarten).\n",
    "- **R**eview (Rückblick): Wiederholt gedanklich die wichtigsten Punkte und beantwortet eure Fragen.\n",
    "\n",
    "<div class=\"flex-row\">\n",
    "  <div class=\"col1\">\n",
    "\n",
    "[![https://youtu.be/n0ql-yeY9u0](https://img.youtube.com/vi/n0ql-yeY9u0/0.jpg)](https://www.youtube.com/watch?v=n0ql-yeY9u0)\n",
    "\n",
    "  </div>\n",
    "  <div class=\"col1\"> \n",
    "\n",
    "[![https://youtu.be/NONST7mwhX8](https://img.youtube.com/vi/NONST7mwhX8/0.jpg)](https://www.youtube.com/watch?v=NONST7mwhX8)\n",
    "\n",
    "  </div>\n",
    "</div>"
   ]
  },
  {
   "cell_type": "markdown",
   "metadata": {
    "editable": true,
    "slideshow": {
     "slide_type": "skip"
    },
    "tags": []
   },
   "source": [
    "## Quiz\n",
    "\n",
    "```{quizdown}\n",
    "\t---\n",
    "\tshuffleQuestions: true\n",
    "\tshuffleAnswers: true\n",
    "\t---\n",
    "\n",
    "    ### Was macht eine `if`-Anweisung in Python?\n",
    "    - [x] Führt einen Block aus, wenn die Bedingung wahr ist  \n",
    "    - [ ] Wiederholt Code mehrfach  \n",
    "    - [ ] Beendet das Programm  \n",
    "    - [ ] Fragt den Nutzer nach einer Eingabe\n",
    "\n",
    "    ### Welche Syntax ist korrekt für eine `if`-Bedingung in Python?\n",
    "    - [x] if x > 5:  \n",
    "    - [ ] if (x > 5)  \n",
    "    - [ ] if x > 5 then  \n",
    "    - [ ] if x > 5 {}\n",
    "\n",
    "    ### Was passiert bei der Bedingung `if not x:` in Python?\n",
    "    - [x] Der Codeblock wird ausgeführt, wenn `x` als False interpretiert wird  \n",
    "    - [ ] Der Codeblock wird bei `x == True` ausgeführt  \n",
    "    - [ ] Die Variable `x` wird gelöscht  \n",
    "    - [ ] Python erzeugt einen Fehler\n",
    "\n",
    "    ### Welche dieser Werte gelten in Python als `False`?\n",
    "    - [x] Leere Liste `[]`  \n",
    "    - [x] Der Wert `None`  \n",
    "    - [x] Leerer String `\"\"`  \n",
    "    - [ ] Die Zahl `1`\n",
    "\n",
    "    ### Wann wird ein `else`-Block in Python ausgeführt?\n",
    "    - [x] Wenn die `if`-Bedingung nicht zutrifft  \n",
    "    - [ ] Wenn die `if`-Bedingung wahr ist  \n",
    "    - [ ] Immer, wenn ein Fehler auftritt  \n",
    "    - [ ] Direkt nach dem Start des Programms\n",
    "\n",
    "    ### Wofür wird `else` häufig verwendet?\n",
    "    - [x] Um einen alternativen Code auszuführen  \n",
    "    - [ ] Um Funktionen zu definieren  \n",
    "    - [ ] Um Variablen zu löschen  \n",
    "    - [ ] Um Einrückungen zu prüfen\n",
    "\n",
    "    ### Was ist `elif` in Python?\n",
    "    - [x] Kurzform für „else if“  \n",
    "    - [ ] Eine Methode zur String-Verarbeitung  \n",
    "    - [ ] Ein logischer Operator  \n",
    "    - [ ] Ein alternativer Schleifentyp\n",
    "\n",
    "    ### Warum ist `elif` nützlich?\n",
    "    - [x] Es macht den Code kürzer und übersichtlicher  \n",
    "    - [ ] Es ersetzt die `while`-Schleife  \n",
    "    - [ ] Es deaktiviert `else`  \n",
    "    - [ ] Es zwingt Python zum Neustart\n",
    "\n",
    "    ### Was macht `isinstance(x, int)`?\n",
    "    - [x] Prüft, ob `x` vom Typ `int` ist  \n",
    "    - [ ] Wandelt `x` in einen `int` um  \n",
    "    - [ ] Löscht die Variable `x`  \n",
    "    - [ ] Erzeugt eine neue Instanz\n",
    "\n",
    "    ### Warum ist Typprüfung in Python nützlich?\n",
    "    - [x] Um Fehler zu vermeiden, z. B. bei Division durch 0  \n",
    "    - [ ] Weil Python stark typisiert ist  \n",
    "    - [ ] Um Variablen in Funktionen zu kopieren  \n",
    "    - [ ] Um Schleifen zu beenden\n",
    "\n",
    "    ### Sortiere die folgenden Zeilen, um ein korrekt eingerücktes `if-else`-Statement zu erhalten. Geben ist:\n",
    "    ```python\n",
    "    a = 3\n",
    "    b = 5\n",
    "    ```\n",
    "    1. `if a < b:`\n",
    "    2. `  print(\"a ist kleiner als b\")`\n",
    "    3. `else:`\n",
    "    4. `  print(\"a ist größer oder gleich b\")`\n",
    "\n",
    "    ### Sortiere die Zeilen korrekt für eine Funktion mit `if` und `return`:\n",
    "    1. `  if x > 0:`\n",
    "    2. `    return \"positiv\"`\n",
    "    3. `  else:`\n",
    "    4. `    return \"nicht positiv\"`\n",
    "\n",
    "\n",
    "    ### Bringe die `if-elif-else`-Struktur in korrekte Reihenfolge:\n",
    "    1. `if note == 1:`\n",
    "    2. `  print(\"sehr gut\")`\n",
    "    3. `elif note >= 4:`\n",
    "    4. `  print(\"bestanden\")`\n",
    "    5. `else:`\n",
    "    6. `  print(\"nicht bestanden\")`\n",
    "\n",
    "\n",
    "    ### Welcher Fehler ist in folgendem Code enthalten?\n",
    "    ```python\n",
    "    if x > 5\n",
    "        print(\"x ist größer als 5\")\n",
    "    ```\n",
    "    - [x] Der Doppelpunkt `:` nach der Bedingung fehlt\n",
    "    - [ ] Die Einrückung ist zu groß\n",
    "    - [ ] `if` darf nicht mit `>` kombiniert werden\n",
    "    - [ ] `print` darf nicht in einer `if`-Anweisung stehen\n",
    "\n",
    "\n",
    "    ### Was stimmt bei diesem Code nicht?\n",
    "    ```python\n",
    "    if y == 10:\n",
    "    print(\"y ist gleich 10\")\n",
    "    ```\n",
    "    - [x] Die Zeile mit `print` ist nicht eingerückt\n",
    "    - [ ] Der Vergleichsoperator `==` ist ungültig\n",
    "    - [ ] Die `if`-Bedingung darf kein `:` enthalten\n",
    "    - [ ] Strings müssen in Hochkommas stehen\n",
    "\n",
    "\n",
    "    ### Wo ist der Fehler in diesem Code?\n",
    "    ```python\n",
    "    if x > 5:\n",
    "        return True\n",
    "    else\n",
    "        return False\n",
    "    ```\n",
    "    - [x] Nach `else` fehlt ein Doppelpunkt `:`\n",
    "    - [ ] `return` darf nicht in `if` stehen\n",
    "    - [ ] Funktionen dürfen kein `if` enthalten\n",
    "    - [ ] Die Klammern bei `test` sind falsch\n",
    "\n",
    "\n",
    "    ### Welcher Fehler steckt in diesem Beispiel?\n",
    "    ```python\n",
    "    if x = 5:\n",
    "        print(\"x ist 5\")\n",
    "    ```\n",
    "    - [x] Es wird `=` (Zuweisung) statt `==` (Vergleich) verwendet\n",
    "    - [ ] `x` ist kein gültiger Variablenname\n",
    "    - [ ] Der `print`-Befehl ist veraltet\n",
    "    - [ ] Zahlen dürfen nicht verglichen werden\n",
    "\n",
    "\n",
    "```"
   ]
  },
  {
   "cell_type": "markdown",
   "metadata": {
    "editable": true,
    "slideshow": {
     "slide_type": "slide"
    },
    "tags": [
     "remove-cell"
    ]
   },
   "source": [
    "<div class=\"vslide\">\n",
    "  <div class=\"questions\" style=\"letter-spacing: 0.03em; font-family: Protomolecule; font-size: 2.3em; position: absolute; top: 50%; left: 50%; transform: translate(-50%, -50%); color: black; z-index: 5;\">fragen?</div>\n",
    "<script>setSectionBackground('#000000', 'images/mj_questions.mp4');</script>\n",
    "</div>"
   ]
  }
 ],
 "metadata": {
  "kernelspec": {
   "display_name": "base",
   "language": "python",
   "name": "python3"
  },
  "language_info": {
   "codemirror_mode": {
    "name": "ipython",
    "version": 3
   },
   "file_extension": ".py",
   "mimetype": "text/x-python",
   "name": "python",
   "nbconvert_exporter": "python",
   "pygments_lexer": "ipython3",
   "version": "3.12.2"
  },
  "rise": {
   "auto_select": "none",
   "center": false,
   "enable_chalkboard": true,
   "header": "<img src=\"images/pd_logo.svg\" class=\"header_title_logo\"><img src=\"images/ai4sc_logo_v2.svg\" class=\"header_ai4sc_logo\">",
   "scroll": true,
   "show_buttons_on_startup": false,
   "slideNumber": true,
   "theme": "white"
  }
 },
 "nbformat": 4,
 "nbformat_minor": 4
}
