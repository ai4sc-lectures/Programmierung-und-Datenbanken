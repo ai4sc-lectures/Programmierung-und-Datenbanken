{
 "cells": [
  {
   "cell_type": "code",
   "execution_count": null,
   "id": "e5911898dad7414e83f522f04dd4d5ef",
   "metadata": {
    "editable": true,
    "slideshow": {
     "slide_type": ""
    },
    "tags": [
     "translated_en"
    ],
    "translation": {
     "lang": "de",
     "src_hash": "6a6290bbb3d550c626108e56b7e8edd13d551646e9cb07c4c97810c0e63b8f7f",
     "updated_at_iso": "2025-08-16T14:43:09.283980+00:00"
    }
   },
   "outputs": [],
   "source": [
    "import os\n",
    "import re\n",
    "import random\n",
    "from copy import copy\n",
    "\n",
    "import requests\n",
    "from bs4 import BeautifulSoup\n",
    "\n",
    "from IPython.display import HTML\n",
    "from PIL import Image\n",
    "\n",
    "import numpy as np\n",
    "import pandas as pd\n",
    "\n",
    "import matplotlib.pyplot as plt\n",
    "from matplotlib import animation\n",
    "from matplotlib.pyplot import figure\n",
    "import matplotlib.image as image\n",
    "from matplotlib.cbook import get_sample_data\n",
    "from matplotlib.offsetbox import OffsetImage, AnnotationBbox\n",
    "import bar_chart_race as bcr"
   ]
  },
  {
   "cell_type": "code",
   "execution_count": null,
   "id": "d5546ed27fb245d888229e12f8550ecf",
   "metadata": {
    "tags": [
     "translated_en"
    ],
    "translation": {
     "lang": "de",
     "src_hash": "134f7b0fa8c94997aa6f65d3b4fbd2db6afdffd7e9bc9d324820992d6bc64e34",
     "updated_at_iso": "2025-08-16T14:43:13.600700+00:00"
    }
   },
   "outputs": [],
   "source": [
    "base_url = \"https://www.tiobe.com/tiobe-index/\"\n",
    "\n",
    "r = requests.get(url=base_url)\n",
    "soup = BeautifulSoup(r.text, \"lxml\")\n",
    "\n",
    "src_icons = [img.get(\"src\") for img in soup.find(\"tbody\").find_all(\"img\") if 'tiobe-index' in img.get(\"src\")]\n",
    "src_icons"
   ]
  },
  {
   "cell_type": "code",
   "execution_count": null,
   "id": "e9e54e3e80ab4eaa8ba359ac7941905d",
   "metadata": {
    "tags": [
     "translated_en"
    ],
    "translation": {
     "lang": "de",
     "src_hash": "cb6adcc1574b608a4fc6370bdac2f11e05bf1896dd92869a8277b74c963fc015",
     "updated_at_iso": "2025-08-16T14:43:17.818397+00:00"
    }
   },
   "outputs": [],
   "source": [
    "def download_icon(file_name, url):\n",
    "    if not os.path.exists(file_name):\n",
    "        print(f\"[INFO] starting work with url {url}\")\n",
    "        r = requests.get(url)\n",
    "        print(f\"[INFO] request status: {r.status_code}\")\n",
    "        with open(file_name, \"wb\") as f:\n",
    "            print(f\"[INFO] saving file: {file_name}\")\n",
    "            f.write(r.content)\n",
    "        print(\"--------------------- Saved! --------------------\")\n",
    "\n",
    "for icon in src_icons:\n",
    "    file_name = \"picons/\"+icon.split(\"/\")[-1]\n",
    "    url = \"https://www.tiobe.com/\" + icon\n",
    "    if not os.path.exists(file_name):\n",
    "        download_icon(file_name, url)"
   ]
  },
  {
   "cell_type": "code",
   "execution_count": null,
   "id": "9ce60881f8c047b0ac24400ae7b0ba5b",
   "metadata": {
    "tags": [
     "translated_en"
    ],
    "translation": {
     "lang": "de",
     "src_hash": "6408566ff88a7385cab06e9b7f8a95e1512f769bd5ea93d57cf248ac7fee1937",
     "updated_at_iso": "2025-08-16T14:43:20.745633+00:00"
    }
   },
   "outputs": [],
   "source": [
    "icon_list_names = os.listdir('picons')"
   ]
  },
  {
   "cell_type": "code",
   "execution_count": null,
   "id": "bbf0105d235044ab8fcdfaa6949d659a",
   "metadata": {
    "tags": [
     "translated_en"
    ],
    "translation": {
     "lang": "de",
     "src_hash": "bd364d9a9d1075a308afd2aa199c144454347472685677a0d01d3d4638170663",
     "updated_at_iso": "2025-08-16T14:43:23.091064+00:00"
    }
   },
   "outputs": [],
   "source": [
    "df = pd.read_csv(\"picons/MostPopularProgrammingLanguages2000to2021.csv\")\n",
    "df.head()"
   ]
  },
  {
   "cell_type": "code",
   "execution_count": null,
   "id": "2dcf4a17e17143e89afdb776d9fb6792",
   "metadata": {
    "tags": [
     "translated_en"
    ],
    "translation": {
     "lang": "de",
     "src_hash": "a1a28ac7c1a38a05c9c7d63790199b6cacbd6a03acda70ce3886e85f7c9aa05e",
     "updated_at_iso": "2025-08-16T14:43:25.221529+00:00"
    }
   },
   "outputs": [],
   "source": [
    "data = df.drop([\"Date\"], axis=1)"
   ]
  },
  {
   "cell_type": "code",
   "execution_count": null,
   "id": "6561f95315fb45e5b3d4b99ae6094cff",
   "metadata": {
    "tags": [
     "translated_en"
    ],
    "translation": {
     "lang": "de",
     "src_hash": "6e63017b89c0ec7ab1a2751abf88f7168cfa1d1101d94bc5e4ab8a7bfd8bc50e",
     "updated_at_iso": "2025-08-16T14:43:29.800285+00:00"
    }
   },
   "outputs": [],
   "source": [
    "tmp_names = {\"C/C++\": \"picons/C.png\", \"C#\": \"picons/C_.png\", \"Delphi/Pascal\": \"picons/Delphi_Object_Pascal.png\", \"Visual Basic\": \"picons/Visual_Basic.png\", \"Matlab\": 'picons/MATLAB.png'}"
   ]
  },
  {
   "cell_type": "code",
   "execution_count": null,
   "id": "4c54da73b4da4a69be96ea272ad61a50",
   "metadata": {
    "tags": [
     "translated_en"
    ],
    "translation": {
     "lang": "de",
     "src_hash": "cdfa0990d9b494ea95a4d50e9e7ec86e00cdbe0b94074e7d19d614dab0dd4987",
     "updated_at_iso": "2025-08-16T14:43:33.083766+00:00"
    }
   },
   "outputs": [],
   "source": [
    "names = {k: f\"picons/{k}.png\" for k in data.columns if f\"{k}.png\" in icon_list_names}\n",
    "names.update(tmp_names)\n",
    "names"
   ]
  },
  {
   "cell_type": "code",
   "execution_count": null,
   "id": "2e28aa9db3fe4333803619b52338e47d",
   "metadata": {
    "tags": [
     "translated_en"
    ],
    "translation": {
     "lang": "de",
     "src_hash": "8496ce7203c76fb15fc51222ec45ae9f499c3bf69e1e281bcc836d3e077a7e30",
     "updated_at_iso": "2025-08-16T14:43:36.201458+00:00"
    }
   },
   "outputs": [],
   "source": [
    "image_data = {k: OffsetImage(Image.open(name)) for k, name in names.items()}\n",
    "image_data"
   ]
  },
  {
   "cell_type": "code",
   "execution_count": null,
   "id": "8682ee50a11a457ab93d8e630927342c",
   "metadata": {
    "tags": [
     "translated_en"
    ],
    "translation": {
     "lang": "de",
     "src_hash": "25169a536c9ae69d8d5b5efb27c92882d9fc3c72b641a7834b8a65f5125bcaeb",
     "updated_at_iso": "2025-08-16T14:43:40.453852+00:00"
    }
   },
   "outputs": [],
   "source": [
    "test = df.set_index(df.Date)\n",
    "test = test.iloc[:, 1:]\n",
    "new_table = test.astype(float)\n",
    "\n",
    "top_6 = set()\n",
    "for index, row in new_table.iterrows():\n",
    "    top_6 |= set(row[row > 0].sort_values(ascending=False).head(6).index)\n",
    "\n",
    "new_table = new_table[top_6]\n",
    "new_table.head()"
   ]
  },
  {
   "cell_type": "code",
   "execution_count": null,
   "id": "6229f786742f45a198d26cba730f432c",
   "metadata": {
    "tags": [
     "translated_en"
    ],
    "translation": {
     "lang": "de",
     "src_hash": "35261f9552e8367c0bcc504ed793e904fa85f0c27a3d1ea0fd334f10b660f9c9",
     "updated_at_iso": "2025-08-16T14:43:44.981094+00:00"
    }
   },
   "outputs": [],
   "source": [
    "bcr.bar_chart_race(df = new_table, \n",
    "                   sort='desc',\n",
    "                   title='Top 10 Programming Languages from 2004 - 2022 (in percent)',\n",
    "                   fixed_max = False,\n",
    "                   steps_per_period = 6,\n",
    "                   dpi = 180,\n",
    "                   period_length = 100,\n",
    "                   filename = 'images/01d_Programmiersprachen_ani/top_prog_languages.mp4')"
   ]
  },
  {
   "cell_type": "code",
   "execution_count": null,
   "id": "3ec7b3aaaa394efe9b3d4589701e7701",
   "metadata": {
    "tags": [
     "translated_en"
    ],
    "translation": {
     "lang": "de",
     "src_hash": "e3b0c44298fc1c149afbf4c8996fb92427ae41e4649b934ca495991b7852b855",
     "updated_at_iso": "2025-08-16T14:43:44.981551+00:00"
    }
   },
   "outputs": [],
   "source": []
  }
 ],
 "metadata": {
  "kernelspec": {
   "display_name": "Python 3 (ipykernel)",
   "language": "python",
   "name": "python3"
  },
  "language_info": {
   "codemirror_mode": {
    "name": "ipython",
    "version": 3
   },
   "file_extension": ".py",
   "mimetype": "text/x-python",
   "name": "python",
   "nbconvert_exporter": "python",
   "pygments_lexer": "ipython3",
   "version": "3.12.10"
  },
  "rise": {
   "auto_select": "none",
   "center": false,
   "enable_chalkboard": true,
   "header": "<img src=\"images/pd_logo.svg\" class=\"header_title_logo\"><img src=\"images/ai4sc_logo_v2.svg\" class=\"header_ai4sc_logo\">",
   "scroll": true,
   "show_buttons_on_startup": false,
   "slideNumber": true,
   "theme": "white"
  },
  "vscode": {
   "interpreter": {
    "hash": "913d9683cfbf6f62280cd71bf9407148e586f91ba46a2e23b8a80a029789dab0"
   }
  }
 },
 "nbformat": 4,
 "nbformat_minor": 4
}
