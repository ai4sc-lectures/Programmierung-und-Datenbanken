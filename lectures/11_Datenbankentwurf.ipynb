{
 "cells": [
  {
   "cell_type": "markdown",
   "metadata": {
    "editable": true,
    "slideshow": {
     "slide_type": "slide"
    },
    "tags": [
     "remove-cell"
    ]
   },
   "source": [
    "<div class=\"vslide\">\n",
    "  <div class=\"vslide-title\">\n",
    "    <p style=\"font-family: Protomolecule; font-size: 2.3em; line-height: 90%; margin: 0px auto; text-align: center; width: 100%;\"><span style=\"letter-spacing: .04rem;\">programmierung</span><br><span style=\"letter-spacing: .0rem;\">und datenbanken</span></p>\n",
    "<p class=\"author\" style=\"font-family: Protomolecule; margin: 0px auto;  text-align: center; width: 100%; font-size: 1.2em;\">Joern Ploennigs</p>\n",
    "<p class=\"subtitle\" style=\"font-family: Protomolecule; margin: 1em auto; text-align: center; width: 100%; font-size: 1.2em;\">Datenbankentwurf</p>\n",
    "  </div>\n",
    "<script>\n",
    "  function setSectionBackground(c,v){\n",
    "    let e=document.currentScript.previousElementSibling;\n",
    "    while(e&&e.tagName!=='SECTION')e=e.parentElement;\n",
    "    if(e){\n",
    "      if(c)e.setAttribute('data-background-color',c);\n",
    "      if(v){\n",
    "        e.setAttribute('data-background-video',v);\n",
    "        e.setAttribute('data-background-video-loop','true');\n",
    "        e.setAttribute('data-background-video-muted','true');\n",
    "      }\n",
    "    }\n",
    "  }\n",
    "  setSectionBackground('#000000', 'images/11_Datenbankentwurf/mj_title.mp4');\n",
    "</script>\n",
    "<style>\n",
    ".flex-row{display:flex; gap:2rem; align-items:flex-start; justify-content:space-between;}\n",
    ".flex-row .col1{flex:1; min-width:10px}\n",
    ".flex-row .col2{flex:2; min-width:10px}\n",
    ".flex-row .col3{flex:3; min-width:10px}\n",
    ".flex-row .col4{flex:4; min-width:10px}\n",
    ".flex-row .col5{flex:5; min-width:10px}\n",
    ".flex-row .col6{flex:6; min-width:10px}\n",
    ".flex-row .col7{flex:7; min-width:10px}\n",
    ".vcent{display:flex; align-items:center; justify-content:center}\n",
    "</style>\n",
    "</div>"
   ]
  },
  {
   "cell_type": "markdown",
   "metadata": {
    "slideshow": {
     "slide_type": "skip"
    }
   },
   "source": [
    "# Entwurf relationaler Datenbanken"
   ]
  },
  {
   "cell_type": "markdown",
   "metadata": {
    "slideshow": {
     "slide_type": "skip"
    }
   },
   "source": [
    "![](images/11_Datenbankentwurf/mj_title.png)\n",
    "\n",
    "> Simple things should be simple. Complex things should be possible.\n",
    ">\n",
    "> - Alan Kay"
   ]
  },
  {
   "cell_type": "markdown",
   "metadata": {
    "slideshow": {
     "slide_type": "skip"
    }
   },
   "source": [
    "## <a href=\"/lec_slides/11_Datenbankentwurf.slides.html\">Folien</a>\n",
    "<iframe src=\"/lec_slides/11_Datenbankentwurf.slides.html\" width=\"750\" height=\"500\"></iframe>"
   ]
  },
  {
   "cell_type": "markdown",
   "metadata": {
    "slideshow": {
     "slide_type": "slide"
    },
    "tags": [
     "remove-cell"
    ]
   },
   "source": [
    "## Ablauf\n",
    "\n",
    "![](images/partB_3.svg)"
   ]
  },
  {
   "attachments": {},
   "cell_type": "markdown",
   "metadata": {
    "slideshow": {
     "slide_type": "skip"
    }
   },
   "source": [
    "## Entwurfsvorgehen"
   ]
  },
  {
   "attachments": {},
   "cell_type": "markdown",
   "metadata": {
    "slideshow": {
     "slide_type": "skip"
    }
   },
   "source": [
    "Das klassische Entwurfsvorgehen von Datenbanken ähnelt dem Wasserfallmodell beim Softwareentwurf. Hierbei werden zuerst die Anforderungen und Anwendungsfälle\n",
    "- Anforderungsanalyse: Welche Anforderungen und Anwendungsfälle stellen sich an die DB?\n",
    "- Konzeptioneller Entwurf: Grobentwurf in dem im ER-Diagram die benötigten Entitäten, Attribute und Relationen abgebildet werden\n",
    "- Logischer Entwurf: Detailentwurf des konkreten Datenbankschematas für eine spezielles DBMS das die wirklichen Tabellen in der DB abbildet und normalisiert wird\n",
    "- Physikalischer Entwurf: Finale Festlegungen von Primärindexen und zusätzlicher Suchindexe zur Zugriffsoptimierung\n",
    "- Implementation und Test: Erstellung der Datenbank mit SQL\n",
    "- Einsatz und Wartung: Verwendung der Datenbank\n",
    "\n",
    "Entscheidend in dem Vorgehen ist, dass es mit dem Konzeptioneller Entwurf einen Grobentwurf gibt, in der die funktional notwendigen Entitäten entworfen werden und einen nachfolgenden Detailentwurf mit dem Logischen und Physikalischen Entwurf, in dem die eigentlichen Tabellen in einem DBMS abgeleitet werden, welche sich meist unterscheiden, wie nachfolgend dargestellt."
   ]
  },
  {
   "attachments": {},
   "cell_type": "markdown",
   "metadata": {
    "slideshow": {
     "slide_type": "skip"
    }
   },
   "source": [
    "![Schritte im Datenbankentwurf](images/dbentwurf.png)"
   ]
  },
  {
   "attachments": {},
   "cell_type": "markdown",
   "metadata": {
    "slideshow": {
     "slide_type": "skip"
    }
   },
   "source": [
    "## ER-Diagramme"
   ]
  },
  {
   "attachments": {},
   "cell_type": "markdown",
   "metadata": {
    "slideshow": {
     "slide_type": "skip"
    }
   },
   "source": [
    "Zur Darstellung der Entwürfe von Datenbanken nutzt man Entity-Relationship Diagramme. In ihnen visualisiert man die Entitäten mit Ihnen Attributen und die Relationen zwischen den Entitäten. Es gibt verschiedene varianten von ER-Diagrammen, wie in der folgenden Abbildung dargestellt. Gemein ist allen, dass sie Entitäten, Attribute (hier nicht dargestellt) und Relationen mit Kardinalitäten darstellen. Sie unterscheiden sich primär in der Notation, als im Gebrauch von Symbolen."
   ]
  },
  {
   "attachments": {},
   "cell_type": "markdown",
   "metadata": {
    "slideshow": {
     "slide_type": "skip"
    }
   },
   "source": [
    "![ER-Diagramme in unterschiedlichen Notationen (https://de.wikipedia.org/wiki/Datei:ERD_Darstellungen.png)](images/er-diagramme.png)"
   ]
  },
  {
   "attachments": {},
   "cell_type": "markdown",
   "metadata": {
    "slideshow": {
     "slide_type": "skip"
    }
   },
   "source": [
    "Wir benutzen im Folgenden die UML-Notation, welche auf UML-Klassendiagrammen basiert.\n",
    "\n",
    "Klassen erhalten die Anmerkung `<<Entity>>` um sie von normalen Klassen abzugrenzen\n",
    "- Attribute (Tabellenspalten) werden als Klassenattribute mit ihrem Datentyp dargestellt\n",
    "- Primärschlüssel werden mit PK gekennzeichnet\n",
    "- Relationship-Attribute (Fremdschlüssel) werden mit Assoziationen modelliert\n",
    "- Die Leserichtung von Relationstypen wird mit `<<` oder `>>` angegeben\n",
    "- Zahlen an Relationships geben die Kardinalität an\n",
    "\n",
    "Ein wichtiger Unterschied zu UML-Diagrammen ist, dass es in ER-Diagrammen keine Methoden, Vererbung, Polymorphismus, Kapzelung, Klassenhierarchien gibt. Wir wenden also entsprechende Symbole nicht an.\n",
    "\n",
    "Ein einfaches Beispiel stellt das folgende Bild dar. Wir haben eine Person, die in einem Ort wohnt. Die Person hat die Attribute Ausweisnummer und einen Namen. Wir nutzen die Ausweisnummer als Primärschlüssel, da sie eindeutig ist. Der Ort hat eine Postleitzahl und einen Namen. Die Postleitzahl dient hier als Primärschlüssel der einfachheit halber (Da eine Postleitzahl viele Gemeinden umfassen kann oder ein Ort mehrere Postleitzahlen haben kann ist dies nicht ideal). Als Relation kennzeichnen wir hier, dass eine Person in genau einem Ort wohnt. Zu beachten ist hier die Leserichtung `>>` und die Kardinalitäten 1 zu 1 die am Anfang und Ende der Relation stehen."
   ]
  },
  {
   "attachments": {},
   "cell_type": "markdown",
   "metadata": {
    "slideshow": {
     "slide_type": "skip"
    }
   },
   "source": [
    "<center><img src=\"https://mermaid.ink/svg/pako:eNqNUEFqAzEM_IrROTn0akIg0FsLXZpb8UWslazBloMtE9Kwf8lb-rKKZk0p9BCYgzQeeYa5wpg9gYUxYq3PAY8Fk-Ovm1H4UGiUkNm8vnduoFKVcPDkwKzXy_BWxFhzzhOLCWy22y7_-XY5unbyjs2GWIJcfsV3VCmBj2bX6plC5ZYSFTO8_CtiTNQf5r-eGulBw6Chh1wlUpBPnOKDZrACTZYweK1PrYx2IROpBqyOng7YojhwPKsUm-T9hUewUhqtoJ08Ci2Fgz1grMqekD9y7vv8DX4bo1o\" width=\"350\"></center>"
   ]
  },
  {
   "attachments": {},
   "cell_type": "markdown",
   "metadata": {
    "slideshow": {
     "slide_type": "skip"
    }
   },
   "source": [
    "## Kardinalitäten"
   ]
  },
  {
   "attachments": {},
   "cell_type": "markdown",
   "metadata": {
    "slideshow": {
     "slide_type": "skip"
    }
   },
   "source": [
    "In ER-Diagrammen spielt dabei insbesondere die Kardinalität von Relationen eine wichtige Rolle, da sich daraus unterschiedliche Tabellendarstellungen ableiten. Die Kardinalitäten beschreiben die Anzahl an minimalen und maximalen möglichen Beziehungen zwischen Entitäten für diese Beziehung. Grundsätzlich unterscheidet man die folgenden Kardinalitäten:"
   ]
  },
  {
   "attachments": {},
   "cell_type": "markdown",
   "metadata": {
    "slideshow": {
     "slide_type": "skip"
    }
   },
   "source": [
    "<table>\n",
    "    <tr>\n",
    "        <td style=\"width: 10%\">Kardinalität</td>\n",
    "        <td style=\"width: 40%\">Beispiel</td>\n",
    "        <td style=\"width: 50%\">ER-Diagramm</td>\n",
    "    </tr>\n",
    "    <tr>\n",
    "        <td>1 zu 1</td>\n",
    "        <td>Eine Person ist geboren in minimal einem, maximal einem Ort.</td>\n",
    "        <td><img src=\"https://mermaid.ink/svg/pako:eNqNjzEOwjAMRa8SeW4H1gh1YkQCwYaymMYtkdqkSpyhqnoXzsLJMNAKsSF7sL_--7InqIMl0FB3mNLOYRuxN_5xV9LWRarZBa_2p1U7UkwiGNgYUGW5DIfISquWriGSV86rqlqBd_CCTav46e2WPDsev-b5l5LYf5BXQQE9xR6dlWcEUnIZ36gnA1pGSw3mjg0YP4sVM4fz6GvQHDMVkAeLTMv7oBvskqgD-ksI6z4_AW2lcZg\"></td>\n",
    "    </tr>\n",
    "    <tr>\n",
    "        <td>1 zu 0..1</td>\n",
    "        <td>Eine Person ist gestorben in minimal Null, maximal einem Ort.</td>\n",
    "        <td><img src=\"https://mermaid.ink/svg/pako:eNqNkLEKwkAMhl_lyNyCrkfp5CgousktsZfWg_au3KVDKX0Xn8UnM2qLuEky_PnJF5JMUAVLoKFqMaWdwyZiZ_zjriSti1SxC17tT6t3pJjEMLA1oPJcxEbEIbLSqqHEIV7JK-dVWa7Ie_QCTqv5yaIgz47Hb_P8S8ngf5BXQAYdxQ6dlXMEUrIb36gjA1qkpRqHlg0YP0srDhzOo69Acxwog6G3yLQ8AHSNbRK3R38JYa3nJ20xcn4\"></td>\n",
    "    </tr>\n",
    "    <tr>\n",
    "        <td>1 zu 0..*</td>\n",
    "        <td>Eine Person macht Ferien in minimal Null, maximal vielen Orten.</td>\n",
    "        <td><img src=\"https://mermaid.ink/svg/pako:eNqNkL0KQjEMhV8lZBQVXYs4OQqKbtIltlELt630poPIfRefxScz_lzETXqG00O-NOkVXfaMBl1DbbsIdCwUbbrfQOVDYSchJ1hu-mzNpdXA4tQijEZqJuPxQP2qCBiI5E4CtTRU9xASzOc9-Hrgg1_78K3ZjJMEuXyLu19Ke_-DPA8OMXKJFLwupRDohHLiyBaNWs8Hqo1YtKnTUqqSt5fk0EipPMR69iT8-QY0B2paTc-Udjn39-4BWmFz8w\"></td>\n",
    "    </tr>\n",
    "    <tr>\n",
    "        <td>1 zu 1..*</td>\n",
    "        <td>Eine Person war bereits in minimal einem, maximal vielen Orten.</td>\n",
    "        <td><img src=\"https://mermaid.ink/svg/pako:eNqNT0EKwkAM_MqSo7QFr0vpyaOg6E32ErqpLrS7ZZsipfQvvsWXmWqLeJPMYTLMDMkIZbAEGsoau27n8BqxMf75UALrIpXsglf706odKXYiGNgaUGk6kyzbCD9EVlrdMSrnVVGs_nfvkhpX8YM8J8-Oh695-k1J5T-ReSCBhmKDzsovElJyGN-oIQNaqKUK-5oNGD-JFXsO58GXoDn2lEDfWmRavgddYd2J2qK_hLDu0wtjFnCG\"></td>\n",
    "    </tr>\n",
    "</table>"
   ]
  },
  {
   "attachments": {},
   "cell_type": "markdown",
   "metadata": {
    "slideshow": {
     "slide_type": "skip"
    }
   },
   "source": [
    "Es ist dabei zu beachten, dass die Leserichtung (`<<` oder `>>`) wichtig ist, da keine Aussage über die Kardinalität der Gegenrichtung gemacht wird! Es wird in dem obigen Beispiel also nur eine Aussage gemacht, in wie vielen Orten *eine* Person war und nicht darüber wie *viele* Personen in Orten sein können."
   ]
  },
  {
   "attachments": {},
   "cell_type": "markdown",
   "metadata": {
    "slideshow": {
     "slide_type": "skip"
    }
   },
   "source": [
    "## Beispiel: ER Konzeptentwurf für Geometrieobjekte"
   ]
  },
  {
   "attachments": {},
   "cell_type": "markdown",
   "metadata": {
    "slideshow": {
     "slide_type": "skip"
    }
   },
   "source": [
    "Als Entwurfsbeispiel greifen wir auf die im Kapitel [Objektorientierung](7a_Objects.html) behandelten Beispiel der Geometrieobjekte. Wir haben die Klassen `Point`, `Line` und `Polygon` mit den Varianten `Triangle`, `Tetragon` und `Pentagon`.\n",
    "\n",
    "Der `Point` hat als Attribute die `x` und `y` Koordinaten vom Datentyp `float`, welche beide als `public` gekapselt sind, da mit `+` annotiert. Ferner gibt es unterschiedliche Methoden in `Point`, `Line` und `Polygon` zur Berechnung der Distanz, Fläche und Länge der jeweiligen Objekte.\n",
    "\n",
    "Im UML Diagramm haben wir dargestellt, dass ein `Polygon` die Aggregations-Assoziation mit der Multiplizität `1` zu `3..*` zur Klasse `Point` hat, also ein Polygon mit mindestens drei Punkten verknüpft ist. Die `Line` ist wiederum assoziiert mit dem Punkt `Point` mit der Multiplizität `1` zu `2`, also sind einer Linie genau zwei Punkte zugeordnet. \n",
    "\n",
    "Die Klassen `Triangle`, `Tetragon` und `Pentagon` sind Unterklassen von `Polygon`, welche keine weitere Funktionalität hinzufügen."
   ]
  },
  {
   "attachments": {},
   "cell_type": "markdown",
   "metadata": {
    "slideshow": {
     "slide_type": "skip"
    }
   },
   "source": [
    "<center><img src=\"https://mermaid.ink/svg/pako:eNptUcFqwzAM_RWjU7o1hW03s-OOOxS20zAEEStpwJGDrcBCl3-fkyxlKfFJ7-m9JxldofSWQEPpMMa3BuuArWGV3syos29Yrguj1GPlPIr6vsPDDdsmCnJJ2ew7LPy4DXRD7VndMpMLA2F2-EcURZRQFNlewHvDtHE74loud9p5vjLwbEDluU_VU6pmr1ZpxyBHRWy34pfT6WGjX5fVqpskcZUv7OtPnqvP0CDXjvZaJAEntNM7E8vUgyO0FFpsbDrC_CsDcqGWDOhUWqqwd2LA8Jik2Iv_GLgELaGnI_SdRaG_s4Gu0MXEdshf3q94_AW6H5O5\"  width=\"400\"></center>"
   ]
  },
  {
   "attachments": {},
   "cell_type": "markdown",
   "metadata": {
    "slideshow": {
     "slide_type": "skip"
    }
   },
   "source": [
    "Um für diese Objekte ein Datenbankschema zu entwerfen, führen wir sie in ein ER-Diagram über, indem wir die oben dargestellten Konvertierungsregeln anwenden. \n",
    "- Wir annotieren die Klassen als erstes mit `<<Entity>>`, um sie als solches zu kennzeichnen. \n",
    "- Wir entfernen alle Methoden, da ER-Diagramme sie nicht unterstützen.\n",
    "- Wir entfernen alle Kapselungsannotationen `+`, `-` oder `#` vor Attributen\n",
    "- Wir fügen Primärschlüssel zu allen Entitäten hinzu\n",
    "- Wir wandeln die Speziellen Assoziationstypen Aggregation und Composition in einfache Assoziationen um\n",
    "\n",
    "Da es in ER-Diagrammen und DBMS keine Vererbung gibt, müssen wir uns überlegen wie wir mit den Unterklassen `Triangle`, `Tetragon` und `Pentagon` verfahren. Eine Möglichkeit wäre es für jede eine neue Entität einzuführen, die genauso wie ein Polygon aufgebaut ist. Das führt aber zu mehreren redundant aufgebauten Tabellen. Dies ist notwendig wenn die Unterklassen eigene Attribute einführen würden. Da sie das allerdings nicht tun, brauchen wir auch auch keine separaten Entitäten, sondern können Sie in der generischen Entität Polygon mit aufnehmen, indem wir das Attribut `PolygonType` einführen, in dem wir speichern können, ob es sich um ein `Triangle`, `Tetragon`, `Pentagon` oder Untertyp handelt.\n",
    "\n",
    "Wir erhalten den folgenden Konzeptentwurf:\n",
    "\n",
    "<center><img src=\"https://mermaid.ink/svg/pako:eNqVUk1rwzAM_StCx9EWxm6m9NTLWA-h62n4osVKZ5bYwZGhofS_7Lfsl83Nx0ZIDysIIz-_Jz0ZnTH3hlFhXlLTbC0dA1XafX9BCmMD52K9g91-xHbWWQaNjxphuRySLLpPAQWNUBA28M4WNpt_SdiZmaDz0svOI9bHes1OrLR_3D6skyufn7eQvYxPl2m9ruMd9TKfzknBPorSk8DpFtjOWvdjanxarR4m4_uyPaaPVRCrIrmT2fgD4y7DneKG5UbC-Hpo61-TuMCKQ0XWpAVIjSCZkw-uWKNKqeGCYikatbtSKYp_bV2OSkLkBcbakPCwMqgKKpuE1uTevB_vlx87g-rt\" width=\"500\"></center>\n",
    "\n",
    "In dem Konzeptentwurf gibt es drei Entitätstypen. Die Entität `Point` besitzt weiterhin `x` und `y`-Koordinate als die Attribute vom Datentyp `float`. Die Entität `Line` besitzt zwei Relationen zu `Point` für den Start-Punkt und End-Punkt. Die Entität `Polygon` hat die Relation mit der Kardinalität `1` zu `3..*` zu Punkt, umfasst also mindestens drei Punkte. Sie hat auch ein neues Attribut `PolygonType` vom Datentyp `str` um den Untertyp zu speichern. Für alle drei Entitäten haben wir einen numerischen Primärschlüssel definiert, da numerische Indexe sind mit am effizientesten sind."
   ]
  },
  {
   "attachments": {},
   "cell_type": "markdown",
   "metadata": {
    "slideshow": {
     "slide_type": "skip"
    }
   },
   "source": [
    "## Normalisierung von Konzeptentwürfen zu Logischen Entwürfen"
   ]
  },
  {
   "attachments": {},
   "cell_type": "markdown",
   "metadata": {
    "slideshow": {
     "slide_type": "skip"
    }
   },
   "source": [
    "Die Normalisierung ist ein wichtiger Schritt im Prozess der Abbildung eines Konzeptionellen Datenmodells auf ein Logisches und Physikalisches Datenmodell. Sie hat den Zweck, Redundanzen (mehrfaches Festhalten des gleichen Sachverhalts) zu minimieren, indem neue Tabellen erzeugt und durch neue Relationen verknüpft werden für\n",
    "- komplexe Attribute (Listen, Dictionaries)\n",
    "- Relationen mit hoher Kardinalität\n",
    "- Redundante Daten (z.B. Polygontyp)"
   ]
  },
  {
   "attachments": {},
   "cell_type": "markdown",
   "metadata": {
    "slideshow": {
     "slide_type": "skip"
    }
   },
   "source": [
    "Man unterscheidet dabei verschiedene Normalformen mit fortschreitend strengeren Bedingungen an das Datenbankschema:\n",
    "- 1NF - 1. Normalform: Alle Attributwerte sind atomar - das heißt, dass jede Information innerhalb einer Tabelle eine eigene Tabellenspalte bekommt und zusammenhängende Informationen, wie zum Beispiel die Postleitzahl und der Ort, oder komplexe Attribute wie Listen oder Diktionaries nicht in einer Tabellenspalte gespeichert werden.\n",
    "- 2NF - 2. Normalform: Nicht-Schlüssel Attribute sind von allen Primärschlüsseln voll funktional abhängig - das heißt, dass nur Informationen die funktional zusammen hängen in einer Entität gespeichert werden. Zum Beispiel wird zu einer Rechnung nicht direkt der Name des Kunden gespeichert, sondern diese gehören zu einer separaten Entität Kunde, da ein Kunde ja mehrere Rechnungen haben kann. Wenn man ein ER-Diagramms erstellt und über die Entitäten nachdenkt, so wendet man meist automatisch die 2. Normalform an.\n",
    "- 3NF - 3. Normalform: Nicht-Schlüssel Attribute sind nur von Primärschlüssel abhängig - das heißt, dass redundante Attribute die zusammengehören zusammen abgespeichert werden. So treten Postleitszahlen und Ortsnahmen paarweise auf und sollten eine separate Entität bilden. \n",
    "- BCNF - Boyce-Codd-Normalform: Alle Attribute von denen Attribute abhängen sind Schlüssel - das heißt, dass wenn mehre Fremdschlüssel in einer Entität auftreten und diese voneinander abhängen, so wird diese Abhängigkeit auch wieder in eine Entität ausgelagert. Speichert man zum Beispiel Ortsnahmen und Postleitzahlen in separaten Entitäten (Weil sich ja Ortsnamen doppeln), so darf man nicht die Fremdschlüssel PLZ und Ortsname in der Kundenentität speichern, sondern braucht immer noch die Entität PLZ-Ortsname.\n",
    "- 4NF - 4. Normalform: Es gibt nur noch triviale mehrwertige Abhängigkeiten - das heißt, dass wenn mehrwertig Attribute mit Fremdschlüssel oder anderen mehrwertigen Attributen auftreten, mit denen sie funktional nichts zu tun haben, so werden diese ausgelagert. Zum Beispiel ist es in der 4NF falsch bei einer Bestellung die Lieferanschrift, Kundennummer und die Artikelnummern in einer Tabelle zu speichern, da die Lieferanschrift mit der Kundennummer zusammenhängt, aber nicht mit den Artikelnummern. Korrekt sind zwei Tabellen mit Lieferanschrift und Kundennummer und eine mit Artikelnummer und Kundennummer.\n",
    "- 5NF - 5. Normalform: Es gibt keine mehrwertigen Abhängigkeiten, die voneinander abhängig sind  - das heißt das jeder Zusammenhang zwischen einem Attributen und Fremdschlüssel in eine eigene Tabelle ausgelagert wird.\n",
    "\n",
    "Meistens sind nur die ersten drei Normalformen im Datenbankentwurf relevant. Höhere Normalformen resultieren in sehr vielen kleinteiligen Tabellen, die auch für einfache Anfragen immer durch Joints zusammengesetzt werden müssen, was die Benutzbarkeit drastisch einschränkt."
   ]
  },
  {
   "attachments": {},
   "cell_type": "markdown",
   "metadata": {
    "slideshow": {
     "slide_type": "skip"
    }
   },
   "source": [
    "An unserem Geometrie-Beispiel wollen wir uns einige Beispiele anschauen, für eine Verletzung der 1. bis 3. Normalform.\n",
    "\n",
    "Im dem folgenden ER-Diagramm verletzen wir die 1. Normalform, da wir ein komplexes Attribut `List<Punkt>` definieren, statt dieses als Relation aufzulösen."
   ]
  },
  {
   "attachments": {},
   "cell_type": "markdown",
   "metadata": {
    "slideshow": {
     "slide_type": "skip"
    }
   },
   "source": [
    "<center><img src=\"https://mermaid.ink/svg/pako:eNpVjzEOgzAMRa8See4JEGJiqcqA2q3KYiWGRgUHgTMgBGfpWXqyhpYMtb5k--l_yV7AeEuQgelwmkqH7Yi95vdLRVk3khHnWVXXxL4-Vftubj0vif6U58TiZC6Kf-5YUuJcqvqiWR1VuUm2OvBTNjXsjVJy1awZTtDT2KOz8cJlj2mQB_WkIYujpQZDJxo0r9GKQfxtZgOZjIFOEAaLQsdPkDXYTZEOyHfv075-AHfmYNg\" width=\"200\"></center>"
   ]
  },
  {
   "attachments": {},
   "cell_type": "markdown",
   "metadata": {
    "slideshow": {
     "slide_type": "skip"
    }
   },
   "source": [
    "Im zweiten ER-Diagramm verletzen wir die 2. Normalform verletzt, da wir die Koordinaten des Start- und End-Punktes direkt in der Linie speichern, obwohl diese Punkte darstellen und somit einen funktionalen Zusammenhang haben. Hier ist die Lösung diese in die Entität `Punkt` auszulagern und Relationen zu erzeugen."
   ]
  },
  {
   "cell_type": "markdown",
   "metadata": {
    "slideshow": {
     "slide_type": "skip"
    }
   },
   "source": [
    "\n",
    "<center><img src=\"https://mermaid.ink/svg/pako:eNp1kEEKg0AMRa8yZO0JRFy5KXVR2l0ZKMGJ7YBmZMxARbxLz9KTdWxrQbCQRfL-_5BkhMoZghSqBvu-sHj12Gp-PlQsYz1VYh2r8riwt0-Vli2NC_tUlhGLlSHP19yyzH7aFeqwX0t141BUL-jlcv8vDVsSsdnOzMIvMWmGBFryLVoTz4w7K6VBbtSShjS2hmoMjWjQPEUrBnGngStIxQdKIHQGhb6PgbTGpo-0Qz47t8zTCyn2gtQ\" width=\"200\"></center>\n"
   ]
  },
  {
   "attachments": {},
   "cell_type": "markdown",
   "metadata": {
    "slideshow": {
     "slide_type": "skip"
    }
   },
   "source": [
    "Im letzten Beispiel speichern wir fehlerhaft das Attribut PolygonTyp in der Entität Punkt, obwohl sie zu der Entität Polygon gehört.\n",
    "\n",
    "<center><img src=\"https://mermaid.ink/svg/pako:eNqVUctqwzAQ_JVljyUJLrmJkFMupT2Ypqeii2rJqageRl5BRfC_9Fv6ZV0ci2LopbCI0czuMiNdsYvaoMDOqXE8WXVJysvw_QVc2ibTkY0Bnp4rN_dBm8MHXSt3q8PBBLJUjsc1bwNBG_l8OEH7uNZ6FxXB519kWZMjJd7iyiWGlzJUbapgkUDivUTYbhnsd7s7xrNVEJB9z84Jfu0tUW6T_wozT6zisBGZm6Z5kwE36E3yymp-Vl4L7IXejTcSBUNtepUdSZRh4laVKZ5L6FBQymaDedCKzPIRKHrlRmYHFV5jrPfpB_QlrEw\" width=\"400\"></center>"
   ]
  },
  {
   "attachments": {},
   "cell_type": "markdown",
   "metadata": {
    "slideshow": {
     "slide_type": "skip"
    }
   },
   "source": [
    "## Normalisierung von Kardinalitäten"
   ]
  },
  {
   "attachments": {},
   "cell_type": "markdown",
   "metadata": {
    "slideshow": {
     "slide_type": "skip"
    }
   },
   "source": [
    "Entsprechend der 1. Normalform müssen wir Kardinalitäten entsprechend ihrer Ordnung unterschiedlich abbilden. Dabei können einfache Kardinalitäten (0 oder 1) als Attribut gespeichert werden, wärend höhere Kardinalitäten `>1` als Relation in einer neuen Entität abgebildet werden. Hierbei spielt es im Logischen und Physikalischen Entwurf eine Rolle ob ein Attribut beim speichern einer neuen Entität in der Datenbank nicht angegeben werden muss (`Nullable`) oder zwingend angeben werden muss (`Not Null`)."
   ]
  },
  {
   "attachments": {},
   "cell_type": "markdown",
   "metadata": {
    "slideshow": {
     "slide_type": "skip"
    }
   },
   "source": [
    "<table>\n",
    "    <tr>\n",
    "        <td style=\"width: 10%\">Kardinalität</td>\n",
    "        <td style=\"width: 40%\">Beispiel</td>\n",
    "        <td style=\"width: 50%\">ER-Diagramm</td>\n",
    "    </tr>\n",
    "    <tr>\n",
    "        <td>1 zu 1</td>\n",
    "        <td>Die Relationen werden durch Fremdschlüssel in der Entität von der die Relation startet `>>` abgebildet. Der Fremdschlüssel ist `Not Null`, also ein Eintrag muss IMMER vorhanden sein.</td>\n",
    "        <td><img src=\"https://mermaid.ink/svg/pako:eNp1UMtqQjEQ_ZVh1rpwG8SVCGKx0u5KNtOb0QZyJ5I7WYjcf-m3-GWNmiAihbOYnJxHMmfsomM02AUahqWnQ6LeyuUXCpxP3KmPAm8fjdtxGgphcWYRptM6vCcFAwf-jokFvMBi0Qy34Go7N_KO-ZxFvZ4e4ju8aDWsl7DbvF7WorXAagPbqLDNITTZ-NxcnvZvLbxGF_lT6YgT7Dn15F3ZUkmC8mX94Z4tmjI63lMOatHKVUpZ4-dJOjSaMk8wHx0p172i2VMYCnsk-Yqxncc_DKqVow\"></td>\n",
    "    </tr>\n",
    "    <tr>\n",
    "        <td>1 zu 0..1</td>\n",
    "        <td>Die Relation wird mit Fremdschlüssel in der Entität abgebildet. Der Fremdschlüssel ist `Nullable`, also ein Eintrag muss NICHT vorhanden sein.</td>\n",
    "        <td><img src=\"https://mermaid.ink/svg/pako:eNp1UMFqQjEQ_JVlj0WFXoN4koJYWmlvkkt8WW0gbyPJ5iDy_sVv6Zd1W19aRApzmExmZ5I9Y5c8ocEuulKWwR2y6y1_XkDhQ6ZOQmJ4fmvahnJRweKjRZhOv8ls9qD8NQsYOFCRlHfEEBgWizb1kz7Onpt4xXxOLEFOf-YrAss4sFrCZn1_-Vu1Ynhaw0uN0e0iNeNw263P-7cY7sPVflOraTjBnnLvgtd1aRbo3-WDerJolHrauxrFouVBra5Kej9xh0ZypQnWo3dC44LR7F0sqh4db1Nq5-ELDQSZBA\" ></td>\n",
    "    </tr>\n",
    "    <tr>\n",
    "        <td>1 zu 0..*</td>\n",
    "        <td>Die Relation wird als neue Entität mit Fremdschlüssels abgebildet.</td>\n",
    "        <td><img src=\"https://mermaid.ink/svg/pako:eNqVUctKA0EQ_JWmz8nB6xICQhAkgkHxInNpd3rdgXmE2Z5DCPsvfotfZrsPkhg9CH2oqX5U9fQR62QZK6w9dd3G0XumYOLnB2hYl7kWlyI8PM3cUAc7zl2Kx5kcY7XiKE4O6_Ul76JMDfcb2G3nZD-DMQcGbwzCcjmB29LouJa8MFQ6GwLVrUDJnsrbpZvHLH9agWsvWv67kXPJH260R124CKflRu2znn98x7DLy7AK3G2v8yp0ontcYOAcyFk9lKqAmpKWAxusFFpuqHgxaOJ3KRVJz4dYYyW58ALL3pLwdFqsGvKdsnuKrynN7_4L_TzJhQ\"></td>\n",
    "    </tr>\n",
    "    <tr>\n",
    "        <td>1 zu 1..*</td>\n",
    "        <td>Die Relation wird als neue Entität mit Fremdschlüssels abgebildet. Mindestens ein Eintrag sollte vorhanden sein (Das ist eine Konsistenzregel, die sich in einer DBMS nicht erzwingen lässt (es gibt sonst ein Henne-Ei-Problem).).</td>\n",
    "        <td><img src=\"https://mermaid.ink/svg/pako:eNqVkc1qwzAMx19F6NweejWlMCiF0cHKdhu-iFhZDYldHPlQSt5lz7Inq2jiNl23w8AH-a-vn6QTVtExGqwa6rq1p89ErQ3fX6DP-cSV-Bjg5a1olzjYcepiOBVxeMslB_FyXK3udR9kTHhew25bnH0xBh9YXFiE-Xw0nnKt5fbUCIPR2kBX4Z7lNcmfIPBIouG_Y0wb_mDRHGXwAW6jDb0nOf9Yxm0S2Gwf3dpnM8XDGbacWvJO76RtQKlkzy1bNGo6rinrUtCGXkMpS3w_hgqNpMwzzAdHwuNl0dTUdKoeKHzEWP79GZXPyXc\"></td>\n",
    "    </tr>\n",
    "</table>"
   ]
  },
  {
   "attachments": {},
   "cell_type": "markdown",
   "metadata": {
    "slideshow": {
     "slide_type": "skip"
    }
   },
   "source": [
    "## Beispiel Geometrie"
   ]
  },
  {
   "attachments": {},
   "cell_type": "markdown",
   "metadata": {
    "slideshow": {
     "slide_type": "skip"
    }
   },
   "source": [
    "Um den oben erstellten Konzeptentwurf für die Geometrieobjekte in ein Logischen Entwurf zu überführen, müssen wir den Entwurf normalisieren. Schauen wir uns den Entwurf noch einmal an.\n",
    "\n",
    "<center><img src=\"https://mermaid.ink/svg/pako:eNqVUk1rwzAM_StCx9EWxm6m9NTLWA-h62n4osVKZ5bYwZGhofS_7Lfsl83Nx0ZIDysIIz-_Jz0ZnTH3hlFhXlLTbC0dA1XafX9BCmMD52K9g91-xHbWWQaNjxphuRySLLpPAQWNUBA28M4WNpt_SdiZmaDz0svOI9bHes1OrLR_3D6skyufn7eQvYxPl2m9ruMd9TKfzknBPorSk8DpFtjOWvdjanxarR4m4_uyPaaPVRCrIrmT2fgD4y7DneKG5UbC-Hpo61-TuMCKQ0XWpAVIjSCZkw-uWKNKqeGCYikatbtSKYp_bV2OSkLkBcbakPCwMqgKKpuE1uTevB_vlx87g-rt\" width=\"500\"></center>"
   ]
  },
  {
   "attachments": {},
   "cell_type": "markdown",
   "metadata": {
    "slideshow": {
     "slide_type": "skip"
    }
   },
   "source": [
    "Wir haben die drei Entitäten `Linie`, `Punkt` und `Polygon` mit zwei 1:1-Relationen von `Linie` zu `Punkt` und einer 1:3..*-Relationen von `Polygon` zu `Punkt`.\n",
    "\n",
    "Wenden wir zuerst die Regeln der 1NF an und lösen diese Relationen auf entsprechend der oben gennanten Tabelle, so können wir die zwei 1:1-Relationen von `Linie` zu `Punkt` durch Fremdschlüssel in der Entität `Linie` darstellen.\n",
    "\n",
    "Die 1:3..*-Relationen von `Polygon` zu `Punkt` hingegen ist entsprechend der 1NF nicht direkt abbildbar, da wir eine Multiplizität größer 1 haben und wir müssen eine neue Entität einführen. Diese Entität (Tabelle) listet welche Polygone, welche Punkte benutzen. Die neue Entität enthät also die zwei Fremdschlüssel und einen neuen Primärschlüssel. Im Logischen Entwurf führen wir auch die Fremdschlüssel als Attribut mit auf, um diese Eindeutig mit darzustellen."
   ]
  },
  {
   "attachments": {},
   "cell_type": "markdown",
   "metadata": {
    "slideshow": {
     "slide_type": "skip"
    }
   },
   "source": [
    "<center><img src=\"https://mermaid.ink/svg/pako:eNqVk0FqwzAQRa8yaJ0sujUmq7RQEoJJuireqNY4FZUlI49KTchdepaerLIVNzi22xoGIc38j56k0YllRiCLWKZ4Va0lP1pepPrrE3wIaTEjaTRs911uK7VESNldymC5vEwSp98IIqiIW0IBLyhhtfqXBbUYGFqWYDt1uRBxjJok1VdtCKmp0ePjGpLNsHRouMKODxvYGdo5pYayey2mROc-WyubwZYYP47A5cpwgo9xpFCs_0Ixqj4aPQumdYzgVGS76lNdTm4cLun2QYOvraF_2DgGV-SekH5sPcW43Rvf_XjbCz3rjKPuUfGmgSf64noTv7VF93gjXcEWrEBbcCn8F_Jc4E9Dr1hgyiI_FZhzpyhlqW6k3JE51DpjEVmHC-ZKwQkvn45FOVeVz5ZcPxvTrc_fQ2JraQ\"></center>"
   ]
  },
  {
   "attachments": {},
   "cell_type": "markdown",
   "metadata": {
    "slideshow": {
     "slide_type": "skip"
    }
   },
   "source": [
    "In diesem Entwurf ist die 2NF und 3NF ist breits erfüllt.\n",
    "\n",
    "Allerdings haben wir viele Dopplungen (Redundanzen) bei dem Attribut `PolygonTyp`, welche ja nur die Werte `Triangle`, `Tetragon` und `Pentagon` annehmen kann, aber jedes mal als neuer String gespeichert werden muss. Gleichzeitig wollen wir ja auch, dass dieses Attribut nur diese Werte annimmt und nicht mit Kauderwelsch gefüllt wird. Deshalb ist es sinnvoll hier die Werte zu begrenzen und die Dopplung von Strings zu vermeiden indem wir eine neue Entität `PolygonType` einführen. Diese definiert die Grundtypen `Triangle`, `Tetragon` und `Pentagon` und weißt ihnen einen numerischen Primärschlüssel zu, den wir in der Entität `Polygon` als Fremdschlüssel referenzieren.\n",
    "\n",
    "Zu guter letzt definieren wir noch für alle Attribute und Fremdschlüssel ob sie `Nullable` oder `NotNull` sind.\n",
    "\n",
    "Wir erhalten den finalen Logischen Entwurf:"
   ]
  },
  {
   "cell_type": "markdown",
   "metadata": {
    "slideshow": {
     "slide_type": "skip"
    }
   },
   "source": [
    "<center><img src=\"https://mermaid.ink/svg/pako:eNqVVEFugzAQ_MrK5-TQK0I5pZWqRBFKeqp8cfGSWDV2BOuqKOIvfUtfVoMhVQKhDbIs450RM7M2J5ZaiSxiqRZluVRiX4icm-8v8EOqAlNS1sB62--tlVEInD1wBvN5t0iceSeIoCRREEp4QwWLxb8oaOSA0GoJtFO_F0YcoyFF1S82DGWowePzEpLVsLRrdIUvPq1gY2njtB7CHo28BaovtbWwO7Ql1s8j4jJtBcHnuKRQrP6SYnW1t-YuMS3jRlZd9aU6esBEECGp664GcltD3904BpdnXiadaReIcbonfvj5-kBcUCf8Qvc0braoRXOCp82OOh12byqNc2pobrvycRx8S0dttdT7uxj6dO2tpAI2IscRvWzGcixyoaS_9acmLc7ogDlyFvmlxEw4TZxxU3uocGR3lUlZRIXDGXNHKQi7_0S_eRTm1Vr_mgldYv0DvTmt6A\"></center>"
   ]
  },
  {
   "attachments": {},
   "cell_type": "markdown",
   "metadata": {
    "slideshow": {
     "slide_type": "skip"
    }
   },
   "source": [
    "Wichtig zu erkennen in dem logischen Entwurf ist, dass wir jetzt nur noch 1:1-Relationen haben, also alle höherwertigen Kardinalitäten aufgelößt haben. Zusätzlich haben wir Redundanzen aufgelößt und haben jetzt ein sehr effizienten Datenbankentwurf.\n",
    "\n",
    "Im Physikalischen Entwurf würde man diesem Entwurf jetzt noch weitere Informationen hinzufügen, wie zum Beispiel zusätzliche Zugangangsbeschränkungen oder Abfrageindizies. Zugangsbeschränkungen gibt es in den meisten DBMS nur auf Entitätsebene und nicht auf Attributsebene (wie in UML), man kann also Beschränken welche Nutzer, welche Tabellen sehen, lesen, erzeugen, oder verändern können, aber nicht welche Spalten sie sehen. \n",
    "\n",
    "Beim Entwurf von Abfrageindizies ist die Regel, dass man versucht alle häufig genutzten `WHERE`-Bedingungen, die man in `SELECT`-Anfragen in SQL benutzt, durch entsprechende Indizies beschleunigt werden.\n",
    "\n",
    "Damit sind wir auch schon direkt im SQL Thema wo wir uns mit der Erzeugung von Tabellen beschäftigen wollen."
   ]
  },
  {
   "attachments": {},
   "cell_type": "markdown",
   "metadata": {
    "slideshow": {
     "slide_type": "skip"
    }
   },
   "source": [
    "## Tabellen mit SQL implementieren"
   ]
  },
  {
   "attachments": {},
   "cell_type": "markdown",
   "metadata": {
    "slideshow": {
     "slide_type": "skip"
    }
   },
   "source": [
    "SQL erlaubt es uns nicht nur Daten aus bestehenden Tabellen abzufragen, sondern auch neue Tabellen zu erzeugen und diese zu verändern. Wir wollen diese Funktionalität im folgenden nutzen, um unseren Logischen Entwurf für die Geometrieobjekte zu implementieren.\n",
    "\n",
    "Hierfür nutzen wir wieder SQLite und erzeugen uns eine neue Datenbank `geometry.sqlite`. Wir setzten uns auch direkt einen Kursor `cur`, um SQL Befehle auf der Datenbank auszuführen."
   ]
  },
  {
   "cell_type": "code",
   "execution_count": null,
   "metadata": {
    "slideshow": {
     "slide_type": "skip"
    }
   },
   "outputs": [],
   "source": [
    "import sqlite3\n",
    "\n",
    "# Create a SQL connection to our SQLite database\n",
    "con = sqlite3.connect(\"geometry.sqlite\")\n",
    "cur = con.cursor()"
   ]
  },
  {
   "attachments": {},
   "cell_type": "markdown",
   "metadata": {
    "slideshow": {
     "slide_type": "skip"
    }
   },
   "source": [
    "Als erstes müssen wir die generischen Datentypen des logischen Entwurfs auf die konkreten Datentypen von SQLite abbilden. Grundsätzlich unterscheiden die Datentypen sich für jedes DBMS etwas und man muss immer schauen, welche Datentypen am besten geeignet ist. SQLite beschränkt sich auf relativ wenige Datentypen, welche gut mit den primitiven Datentypen von Python überein stimmen. Die folgende Tabelle vergleicht die Datentypen von SQLite mit Python."
   ]
  },
  {
   "attachments": {},
   "cell_type": "markdown",
   "metadata": {
    "slideshow": {
     "slide_type": "skip"
    }
   },
   "source": [
    "|       | SQLite | Python |\n",
    "|----|-----|----|\n",
    "| Boolean       | (INTEGER) | bool | \n",
    "| Ganzzahl | INTEGER | int | \n",
    "| Gleitkommazahl | REAL | float | \n",
    "| Interpretiert beliebige Dateneingaben als Zahl | NUMERIC | - | \n",
    "| Text-String, gespeichert in UTF-8 oder UTF-16 | TEXT | str | \n",
    "| Beliebiger Block an Binärdaten | BLOB | bytes | \n",
    "| Keine Daten | NULL | None | \n"
   ]
  },
  {
   "attachments": {},
   "cell_type": "markdown",
   "metadata": {
    "slideshow": {
     "slide_type": "skip"
    }
   },
   "source": [
    "Besonderheit hier ist der `NUMERIC` Datentyp, welcher dazu da ist, dass Zahlen aus Texteingaben automatisch in die passende Zahlenrepräsentation in der Datenbank umgewandelt wird. Der `NULL` Wert ist in der Tabelle kein Datentyp an sich sondern wird benutzt beim Laden von Daten in Tabellen fehlende Werte zu übertragen.\n",
    "\n",
    "Mit diesen Datentypen und dem ER-Diagramm des Logischen Entwurfsmodells oben können wir jetzt unsere Tabellen erzeugen. Dies geschieht in SQL mit dem `CREATE TABLE` Befehl auf welchen der Tabellenname (Entitätsname) folgt und dann in Klammern, die einzelnen Attribute. Für die fünf Entitäten ergeben sich die folgenden SQL Befehle."
   ]
  },
  {
   "cell_type": "code",
   "execution_count": null,
   "metadata": {
    "slideshow": {
     "slide_type": "skip"
    }
   },
   "outputs": [],
   "source": [
    "sql='''\n",
    "CREATE TABLE Points (\n",
    "  point_id INTEGER,\n",
    "  x REAL,\n",
    "  y REAL\n",
    ");\n",
    "\n",
    "CREATE TABLE Lines (\n",
    "  lines_id INTEGER,\n",
    "  start INTEGER,\n",
    "  end INTEGER\n",
    ");\n",
    "\n",
    "CREATE TABLE PolygonTypes (\n",
    "  polygontype_id INTEGER,\n",
    "  name TEXT\n",
    ");\n",
    "\n",
    "CREATE TABLE Polygons (\n",
    "  polygon_id INTEGER,\n",
    "  polygontype INTEGER\n",
    ");\n",
    "\n",
    "CREATE TABLE PolygonPoints (\n",
    "  polypoint_id INTEGER,\n",
    "  polygon_id INTEGER,\n",
    "  point_id INTEGER\n",
    ");\n",
    "'''"
   ]
  },
  {
   "attachments": {},
   "cell_type": "markdown",
   "metadata": {
    "slideshow": {
     "slide_type": "skip"
    }
   },
   "source": [
    "Prinzipiell könnten wir diese Befehle bereits an die SQLite DB senden und die Tabellen anlegen. Allerdings fehlen hier noch die Deklarierung der Primär- und Fremdschlüssel sowie die `Not Null` Constraints.\n",
    "\n",
    "Hierfür ergänzen wir die Zeilen der Attribute welche als Primärschlüssel dienen mit der Anmerkung `PRIMARY KEY`. In unserm Beispiel definieren wir den Schlüssel als `AUTOINCREMENT`, das heißt, dass neuen Daten die ohne Schlüssel hinzugefügt werden, automatisch ein Schlüssel zugewiesen wird.\n",
    "\n",
    "Die Fremdschlüssel definieren wir als zusätzlichen Constraint (Bedingung) indem wir angeben welche Attribute Fremdschlüssel sind und auf welche Tabelle und Schlüsselattribute diese sich beziehen. Der Fremdschlüssel `polytype` in der Tabelle `Polygons` verweißt zum Beispiel auf den Primärschlüssel `polytype_id` in der Tabelle `PolygonTypes`. Mehrfachnennungen sind hier möglich wie das Beispiel für den `start` und `end` Point in der Tabelle `Lines` zeigt.\n",
    "\n",
    "Wir annotieren weiterhin alle Attribute und Fremdschlüssel die nicht Null sein dürfen mit `NOT NULL`. Primärschlüssel dürfen nie null sein, weshalb wir diese Annotation nicht brauchen.\n",
    "\n",
    "Damit ergibt sich unser vervollständigtes SQL-Skript zum Erzeugen aller Tabellen zu:"
   ]
  },
  {
   "cell_type": "code",
   "execution_count": null,
   "metadata": {
    "slideshow": {
     "slide_type": "skip"
    }
   },
   "outputs": [],
   "source": [
    "sql='''\n",
    "CREATE TABLE Points (\n",
    "  point_id INTEGER PRIMARY KEY AUTOINCREMENT,\n",
    "  x REAL NOT NULL,\n",
    "  y REAL NOT NULL\n",
    ");\n",
    "\n",
    "CREATE TABLE Lines (\n",
    "  lines_id INTEGER PRIMARY KEY AUTOINCREMENT,\n",
    "  start INTEGER NOT NULL,\n",
    "  end INTEGER NOT NULL,\n",
    "  FOREIGN KEY(start,end) REFERENCES Points(point_id,point_id)\n",
    ");\n",
    "\n",
    "CREATE TABLE PolygonTypes (\n",
    "  polytype_id INTEGER PRIMARY KEY AUTOINCREMENT,\n",
    "  name TEXT\n",
    ");\n",
    "\n",
    "CREATE TABLE Polygons (\n",
    "  polygon_id INTEGER PRIMARY KEY AUTOINCREMENT,\n",
    "  polytype INTEGER,\n",
    "  FOREIGN KEY(polytype) REFERENCES PolygonTypes(polytype_id)\n",
    ");\n",
    "\n",
    "CREATE TABLE PolygonPoints (\n",
    "  polypoint_id INTEGER PRIMARY KEY AUTOINCREMENT,\n",
    "  polygon_id INTEGER,\n",
    "  point_id INTEGER,\n",
    "  FOREIGN KEY(polygon_id) REFERENCES Polygons(polygon_id),\n",
    "  FOREIGN KEY(point_id) REFERENCES Points(point_id)\n",
    ");\n",
    "'''"
   ]
  },
  {
   "attachments": {},
   "cell_type": "markdown",
   "metadata": {
    "slideshow": {
     "slide_type": "skip"
    }
   },
   "source": [
    "Da dieses SQL-Script mehrere Befehle enthält, können wir es nicht mit `cur.execute(sql)` an die Datenbank senden, sondern benutzen"
   ]
  },
  {
   "cell_type": "code",
   "execution_count": null,
   "metadata": {
    "slideshow": {
     "slide_type": "skip"
    },
    "tags": [
     "remove-output"
    ]
   },
   "outputs": [],
   "source": [
    "cur.executescript(sql)"
   ]
  },
  {
   "attachments": {},
   "cell_type": "markdown",
   "metadata": {
    "slideshow": {
     "slide_type": "skip"
    }
   },
   "source": [
    "Um zu prüfen ob unsere Tabellen angelegt worden sind, können wir alle Tabellen in der SQLite Datebank abfragen mit:"
   ]
  },
  {
   "cell_type": "code",
   "execution_count": null,
   "metadata": {
    "slideshow": {
     "slide_type": "skip"
    }
   },
   "outputs": [],
   "source": [
    "sql=\"SELECT name FROM sqlite_schema WHERE type='table' ORDER BY name;\"\n",
    "\n",
    "rows=cur.execute(sql)\n",
    "for row in rows:\n",
    "    print(row)"
   ]
  },
  {
   "attachments": {},
   "cell_type": "markdown",
   "metadata": {
    "slideshow": {
     "slide_type": "skip"
    }
   },
   "source": [
    "## Daten hinzufügen"
   ]
  },
  {
   "attachments": {},
   "cell_type": "markdown",
   "metadata": {
    "slideshow": {
     "slide_type": "skip"
    }
   },
   "source": [
    "Im nächsten Schritt wollen wir einige Werte in die Datenbank laden. Dies geschieht mit dem SQL Befehl `INSERT INTO` mit dem Tabellennamen und den einzutragenden Werten, in genau der Reihenfolge der vorher deklarierten Spalten (also point_id, x, y).\n",
    "\n",
    "Zum Beispiel wollen wir zwei Punkte mit den Koordinaten (54.083336, 12.108811) und (12.094167, 54.075211). Dabei geben wir auch den Wert des Primärindex als 1 und 2 mit an:"
   ]
  },
  {
   "cell_type": "code",
   "execution_count": null,
   "metadata": {
    "slideshow": {
     "slide_type": "skip"
    }
   },
   "outputs": [],
   "source": [
    "sql=\"\"\"\n",
    "INSERT INTO Points VALUES(1, 54.083336, 12.108811);\n",
    "INSERT INTO Points VALUES(2, 12.094167, 54.075211);\n",
    "\"\"\""
   ]
  },
  {
   "cell_type": "code",
   "execution_count": null,
   "metadata": {
    "slideshow": {
     "slide_type": "skip"
    },
    "tags": [
     "remove-output"
    ]
   },
   "outputs": [],
   "source": [
    "cur.executescript(sql)"
   ]
  },
  {
   "attachments": {},
   "cell_type": "markdown",
   "metadata": {
    "slideshow": {
     "slide_type": "skip"
    }
   },
   "source": [
    "Dieser Primärindex muss einmalig sein. Wollen wir zum Beispiel die gleichen Punkte noch einmal erzeugen, so gibt uns die Datenbank eine Fehlermeldung zurück, dass die Punkte schon existieren."
   ]
  },
  {
   "cell_type": "code",
   "execution_count": null,
   "metadata": {
    "slideshow": {
     "slide_type": "skip"
    },
    "tags": [
     "raises-exception"
    ]
   },
   "outputs": [],
   "source": [
    "cur.executescript(sql)"
   ]
  },
  {
   "attachments": {},
   "cell_type": "markdown",
   "metadata": {
    "slideshow": {
     "slide_type": "skip"
    }
   },
   "source": [
    "Wollen wir von der Spaltenreihenfolge abweichen oder Werte weglassen. So können wir die zu schreibenden Spaltennamen am `INSERT` Befehl auch mit angeben. Lassen wir eine Spalte weg, so wird sie mit `NULL` beschrieben, sofern die Spalte Nullwerte erlaubt. Da wir bei der Tabellendeklaration den Primärschlüssel `point_id` als `AUTOINCREMENT` deklariert haben, müssen wir diesen nicht unbedingt mit angeben. Ihm wird dann automatisch ein Wert zugewiesen."
   ]
  },
  {
   "cell_type": "code",
   "execution_count": null,
   "metadata": {
    "slideshow": {
     "slide_type": "skip"
    },
    "tags": [
     "remove-output"
    ]
   },
   "outputs": [],
   "source": [
    "sql=\"INSERT INTO Points(x, y) VALUES(54.083336, 12.108811);\"\n",
    "cur.execute(sql)"
   ]
  },
  {
   "attachments": {},
   "cell_type": "markdown",
   "metadata": {
    "slideshow": {
     "slide_type": "skip"
    }
   },
   "source": [
    "Hier haben wir allerdings das Problem, dass wir den Wert nicht kennen und somit auch später als Fremdschlüssel nicht weiter verwenden können. In Python wird dieser im Cursor gespeichert unter"
   ]
  },
  {
   "cell_type": "code",
   "execution_count": null,
   "metadata": {
    "slideshow": {
     "slide_type": "skip"
    }
   },
   "outputs": [],
   "source": [
    "cur.lastrowid"
   ]
  },
  {
   "attachments": {},
   "cell_type": "markdown",
   "metadata": {
    "slideshow": {
     "slide_type": "skip"
    }
   },
   "source": [
    "Als nächstes wollen wir eine Linie zwischen dem Punkt (54.083336, 12.108811) und (12.094167, 54.075211) erzeugen. Dies können wir nicht direkt mit den Koordinaten, sondern müssen die Fremdschlüssel der Punkte nutzen, welche wir beim erzeugen zugewiesen haben. Also 1 und 2."
   ]
  },
  {
   "cell_type": "code",
   "execution_count": null,
   "metadata": {
    "slideshow": {
     "slide_type": "skip"
    }
   },
   "outputs": [],
   "source": [
    "sql=\"INSERT INTO Lines(start, end) VALUES(1, 2);\"\n",
    "cur.execute(sql)\n",
    "cur.lastrowid"
   ]
  },
  {
   "attachments": {},
   "cell_type": "markdown",
   "metadata": {
    "slideshow": {
     "slide_type": "skip"
    }
   },
   "source": [
    "Bevor wir ein Polygon erzeugen können müssen wir erst den Polygontyp in der Tabelle `PolygonTypes` deklarieren. Zum Beispiel sagen wir, dass es den Polygontyp \"Dreieck\" gibt mit dem Primärschlüsselwert 0."
   ]
  },
  {
   "cell_type": "code",
   "execution_count": null,
   "metadata": {
    "slideshow": {
     "slide_type": "skip"
    }
   },
   "outputs": [],
   "source": [
    "sql='INSERT INTO PolygonTypes VALUES(0, \"Dreieck\");'\n",
    "cur.execute(sql)\n",
    "cur.lastrowid"
   ]
  },
  {
   "attachments": {},
   "cell_type": "markdown",
   "metadata": {
    "slideshow": {
     "slide_type": "skip"
    }
   },
   "source": [
    "Jetzt erzeugen wir den Eintrag für das Polygon in der Tabelle `Polygon`. Hier gibt es nur den Primärschlüssel, z.B. 33 und den Fremdschlüssel 0 für den Polygontyp."
   ]
  },
  {
   "cell_type": "code",
   "execution_count": null,
   "metadata": {
    "slideshow": {
     "slide_type": "skip"
    }
   },
   "outputs": [],
   "source": [
    "sql='INSERT INTO Polygons VALUES(33, 0);'\n",
    "cur.execute(sql)\n",
    "cur.lastrowid"
   ]
  },
  {
   "attachments": {},
   "cell_type": "markdown",
   "metadata": {
    "slideshow": {
     "slide_type": "skip"
    }
   },
   "source": [
    "Wollen wir zum Beispiel ein Polygon für einen nicht existenten Polygontypen mit dem Fremdschlüssel 6 erzeugen, so gibt uns die Datenbank eine Fehlermeldung zurück."
   ]
  },
  {
   "cell_type": "code",
   "execution_count": null,
   "metadata": {
    "slideshow": {
     "slide_type": "skip"
    },
    "tags": [
     "raises-exception"
    ]
   },
   "outputs": [],
   "source": [
    "sql='INSERT INTO Polygons VALUES(66, 6);'\n",
    "cur.execute(sql)\n",
    "cur.lastrowid"
   ]
  },
  {
   "attachments": {},
   "cell_type": "markdown",
   "metadata": {
    "slideshow": {
     "slide_type": "skip"
    }
   },
   "source": [
    "Hier sieht man die Datenbank die Integrität der Daten absichert und uns vor der Eingabe falscher Daten abhält.\n",
    "\n",
    "Allerdings ist unser Polygon noch nicht fertig definiert und wir müssen noch die dem Polygon zugehörigen Punkte verknüpfen. Dies machen wir durch drei Eintragungen in der Tabelle `PolygonPoints` unter Angabe der neuen Primärschlüssel (331, 332, 333), des Fremdschlüssel für das Polygon 33 und der Fremdschlüssel für die drei Punkte (1,2,3)."
   ]
  },
  {
   "cell_type": "code",
   "execution_count": null,
   "metadata": {
    "slideshow": {
     "slide_type": "skip"
    }
   },
   "outputs": [],
   "source": [
    "sql=\"\"\"INSERT INTO PolygonPoints VALUES(331, 33, 1);\n",
    "INSERT INTO PolygonPoints VALUES(332, 33, 2);\n",
    "INSERT INTO PolygonPoints VALUES(333, 33, 3);\n",
    "\"\"\"\n",
    "cur.executescript(sql)\n",
    "cur.lastrowid"
   ]
  },
  {
   "attachments": {},
   "cell_type": "markdown",
   "metadata": {
    "slideshow": {
     "slide_type": "skip"
    }
   },
   "source": [
    "## Daten löschen"
   ]
  },
  {
   "attachments": {},
   "cell_type": "markdown",
   "metadata": {
    "slideshow": {
     "slide_type": "skip"
    }
   },
   "source": [
    "Um Einträge aus einer Tabelle zu löschen verwendet man in SQL den `DELETE FROM` Befehl mit der Tabelle und einer `WHERE`-Bedingung, welche angibt welche Einträge zu löschen sind. Wollen wir zum Beispiel die eben verknüpften Punkte aus der Tabelle `PolygonPoints` wieder löschen so können wir schreiben, dass wir alle Zeilen löschen, wo die refernzierte Polygon die `polygon_id` 33 hat."
   ]
  },
  {
   "cell_type": "code",
   "execution_count": null,
   "metadata": {
    "slideshow": {
     "slide_type": "skip"
    },
    "tags": []
   },
   "outputs": [],
   "source": [
    "sql=\"DELETE FROM PolygonPoints WHERE polygon_id=33;\"\n",
    "cur.execute(sql)\n",
    "cur.lastrowid # gibt uns die zuletzt gelöschte Zeile zurück"
   ]
  },
  {
   "attachments": {},
   "cell_type": "markdown",
   "metadata": {
    "slideshow": {
     "slide_type": "skip"
    }
   },
   "source": [
    "## Tabellen umbenennen und verändern"
   ]
  },
  {
   "attachments": {},
   "cell_type": "markdown",
   "metadata": {
    "slideshow": {
     "slide_type": "skip"
    }
   },
   "source": [
    "Machmal ist es notwendig Tabellen zu sichern oder SQL Abfragen mit SQL Select zu \"materialisieren\", also als neue Tabelle zu speichern. Dafür können wir den `CREATE TABLE ... AS` mit einem `SELECT` benutzen. Dies ist sinnvoll um zum Beispiel eine Kopie einer Tabelle zu erzeugen, bevor man z.B. Änderungen vornimmt. Man beachte"
   ]
  },
  {
   "cell_type": "code",
   "execution_count": null,
   "metadata": {
    "slideshow": {
     "slide_type": "skip"
    },
    "tags": [
     "remove-output"
    ]
   },
   "outputs": [],
   "source": [
    "sql=\"CREATE TABLE PointsCopy AS SELECT * FROM Points;\"\n",
    "cur.execute(sql)"
   ]
  },
  {
   "attachments": {},
   "cell_type": "markdown",
   "metadata": {
    "slideshow": {
     "slide_type": "skip"
    }
   },
   "source": [
    "Möchte man eine Tabelle umbennenen so nutzt man dafür den `ALTER TABLE ... RENAME` Befehl in SQL. Um die Tabelle `Points` nach `Punkte` umzubenennen, schreiben wir"
   ]
  },
  {
   "cell_type": "code",
   "execution_count": null,
   "metadata": {
    "slideshow": {
     "slide_type": "skip"
    },
    "tags": [
     "remove-output"
    ]
   },
   "outputs": [],
   "source": [
    "sql=\"ALTER TABLE Points RENAME TO Punkte;\"\n",
    "cur.execute(sql)"
   ]
  },
  {
   "attachments": {},
   "cell_type": "markdown",
   "metadata": {
    "slideshow": {
     "slide_type": "skip"
    }
   },
   "source": [
    "Auf ähnliche Weise können wir auch Spalten in Tabellen umbenennen oder neue Spalten hinzufügen. Wollen wir zum Beispiel beim Polygontypen eine neue Spalte hinzufügen, welche die maximale Anzahl an Punkten enthält so geschieht dies wie folgt:"
   ]
  },
  {
   "cell_type": "code",
   "execution_count": null,
   "metadata": {
    "slideshow": {
     "slide_type": "skip"
    },
    "tags": [
     "remove-output"
    ]
   },
   "outputs": [],
   "source": [
    "sql=\"ALTER TABLE PolygonTypes ADD COLUMN maxPoints INTEGER DEFAULT 0;\"\n",
    "cur.execute(sql)"
   ]
  },
  {
   "attachments": {},
   "cell_type": "markdown",
   "metadata": {
    "slideshow": {
     "slide_type": "skip"
    }
   },
   "source": [
    "Es ist zu beachten, dass dies die Spalte zwar anlegt aber keine Werte schreibt. Deshalb weisen wir hier der Spalten den Standartwert 0 mit `DEFAULT 0` zu."
   ]
  },
  {
   "attachments": {},
   "cell_type": "markdown",
   "metadata": {
    "slideshow": {
     "slide_type": "skip"
    }
   },
   "source": [
    "## Tabellen löschen"
   ]
  },
  {
   "attachments": {},
   "cell_type": "markdown",
   "metadata": {
    "slideshow": {
     "slide_type": "skip"
    }
   },
   "source": [
    "SQL bietet natürlich auch einen Befehl um Tabellen vollständig zu löschen. Möchte man nur alle Daten aus einer Tabelle löschen aber die Definition der Tabelle behalten (wenn man zum Beispiel die Daten austauscht), so kann man den `DELETE FROM` ohne `WHERE`-Bedingung nutzen. Dies nennt man auch Truncating einer Tabelle."
   ]
  },
  {
   "cell_type": "code",
   "execution_count": null,
   "metadata": {
    "slideshow": {
     "slide_type": "skip"
    },
    "tags": []
   },
   "outputs": [],
   "source": [
    "sql=\"DELETE FROM PointsCopy;\"\n",
    "cur.execute(sql)"
   ]
  },
  {
   "attachments": {},
   "cell_type": "markdown",
   "metadata": {
    "slideshow": {
     "slide_type": "skip"
    }
   },
   "source": [
    "Möchte man eine Tabelle vollständig löschen so nutzt man den `DROP TABLE` Befehl. Hier nutzen wir den optionalen Zusatz `IF EXISTS` um sicherzustellen, das die Tabelle nur gelöscht wird, wenn sie existiert."
   ]
  },
  {
   "cell_type": "code",
   "execution_count": null,
   "metadata": {
    "slideshow": {
     "slide_type": "skip"
    }
   },
   "outputs": [],
   "source": [
    "sql='''\n",
    "DROP TABLE IF EXISTS PointsCopy;\n",
    "DROP TABLE IF EXISTS Punkte;\n",
    "DROP TABLE IF EXISTS Lines;\n",
    "DROP TABLE IF EXISTS PolygonTypes;\n",
    "DROP TABLE IF EXISTS Polygons;\n",
    "DROP TABLE IF EXISTS PolygonPoints;\n",
    "'''"
   ]
  },
  {
   "cell_type": "code",
   "execution_count": null,
   "metadata": {
    "slideshow": {
     "slide_type": "skip"
    },
    "tags": [
     "remove-output"
    ]
   },
   "outputs": [],
   "source": [
    "cur.executescript(sql)"
   ]
  },
  {
   "attachments": {},
   "cell_type": "markdown",
   "metadata": {
    "slideshow": {
     "slide_type": "skip"
    }
   },
   "source": [
    "Damit haben wir die Exkursion in SQL zum Umgang mit Datenbanken abgeschlossen. Zuletzt müssen wir die Verbindung zur Datenbank noch mit `close()` schließen."
   ]
  },
  {
   "cell_type": "code",
   "execution_count": null,
   "metadata": {
    "slideshow": {
     "slide_type": "skip"
    }
   },
   "outputs": [],
   "source": [
    "cur.close()\n",
    "con.close()"
   ]
  },
  {
   "attachments": {},
   "cell_type": "markdown",
   "metadata": {
    "editable": true,
    "slideshow": {
     "slide_type": "skip"
    },
    "tags": []
   },
   "source": [
    "## Anmerkung zu Tabellen in SQLite speichern mit Pandas\n",
    "\n",
    ":::{note}\n",
    "In der letzten Übung haben wir Tabellen direkt mit Pandas in SQLite erzeugt. Das ist durchaus sinnvoll, wenn man größere Datensätze mal schnell sicher in einer Datenbank speichern möchte. Es ist aber darauf hinzuweisen, dass die von Pandas erzeugten Tabellen keine Relationen mit Fremdschlüssel, Constraints (z.B. NotNull) oder Suchindizies definieren. Die resultierenden Tabellen sind also keinesfalls 3NF-Konform und optimiert für die Abfrage und das speichern großer Datenmengen in praktischen Anwendungen. Hier ist immer zu empfehlen einen richtigen ER-Entwurf zu machen. Die Tabellen mit `CREATE` mit allen Relationen, Constraints und Indizies zu erzeugen und dann erst mit Pandas Daten in die bestehenden Tabellen zu laden.\n",
    ":::"
   ]
  },
  {
   "cell_type": "markdown",
   "metadata": {
    "editable": true,
    "slideshow": {
     "slide_type": "slide"
    },
    "tags": [
     "remove-cell"
    ]
   },
   "source": [
    "## Entwurfsvorgehen bei Datenbanken\n",
    "\n",
    "Das klassische Entwurfsvorgehen ähnelt dem Wasserfallmodell beim Softwareentwurf\n",
    "\n",
    "1. *Anforderungsanalyse*: Welche Anforderungen und Anwendungsfälle stellen sich an die DB?\n",
    "2. *Konzeptioneller Entwurf*: Grobentwurf im ER-Diagramm mit Entitäten, Attributen und Relationen\n",
    "3. *Logischer Entwurf*: Detailentwurf des konkreten Datenbankschemas für spezielle DBMS\n",
    "4. *Physikalischer Entwurf*: Primärindexe und Suchindexe zur Zugriffsoptimierung\n",
    "5. *Implementation*: Erstellung der Datenbank mit SQL\n",
    "6. *Wartung*: Verwendung der Datenbank\n",
    "\n"
   ]
  },
  {
   "cell_type": "markdown",
   "metadata": {
    "editable": true,
    "slideshow": {
     "slide_type": "subslide"
    },
    "tags": [
     "remove-cell"
    ]
   },
   "source": [
    "## Entity-Relationship Modell - Einführung\n",
    "\n",
    "- Entity-Relationship Modelle entwerfen das Datenmodell einer Datenbank\n",
    "- Legen fest: *was*, *wie* und mit *welchen Zusammenhängen* gespeichert wird\n",
    "- Häufig in Dokumentationen und Ausschreibungen von Software zu finden\n",
    "- Entwickelt 1976 von Peter Chen: *\"The Entity-Relationship Model\"*\n",
    "- *Verschiedene Varianten* von ER-Diagrammen existieren"
   ]
  },
  {
   "cell_type": "markdown",
   "metadata": {
    "editable": true,
    "slideshow": {
     "slide_type": "subslide"
    },
    "tags": [
     "remove-cell"
    ]
   },
   "source": [
    "## ER-Modell - Grundbegriffe\n",
    "\n",
    "<div class=\"flex-row\">\n",
    "  <div class=\"col1\">\n",
    "\n",
    "*Zentrale Konzepte:*\n",
    "\n",
    "- *Entitätstyp (Entity Type)*: Klasse von Objekten (Beispiel: Punkt, Linie, Polygon)\n",
    "\n",
    "- *Entität (Entity)*: Einzelnes identifizierbares Objekt (Beispiel: Ein einzelner Punkt)\n",
    "\n",
    "  </div>\n",
    "  <div class=\"col1\"> \n",
    "\n",
    "*Weitere Komponenten:*\n",
    "\n",
    "- *Attribute*: Eigenschaften einer Entität (Beispiel: x,y-Koordinaten eines Punktes)\n",
    "\n",
    "- *Beziehung (Relationship)*: Zusammenhänge zwischen Entitäten (Beispiel: Punkt 0,0 \"gehört_zu\" Linie 1)\n",
    "\n",
    "  </div>\n",
    "</div>"
   ]
  },
  {
   "cell_type": "markdown",
   "metadata": {
    "editable": true,
    "slideshow": {
     "slide_type": "subslide"
    },
    "tags": [
     "remove-cell"
    ]
   },
   "source": [
    "## Diagrammarten - Verschiedene Notationen \n",
    "\n",
    "<div class=\"flex-row\">\n",
    "  <div class=\"col1\">\n",
    "\n",
    "*Historische Entwicklung:*\n",
    "- *Chen-Notation* (Peter Chen, 1976)\n",
    "- *IDEF1X* (USA Behörden Standard, 1985)  \n",
    "- *Bachman-Notation* (Charles Bachman, 1969)\n",
    "- *Krähenfuß-Notation* (Gordon Everest, 1976)\n",
    "- *(min, max)-Notation* (Jean-Raymond Abrial, 1974)\n",
    "\n",
    "*Moderne Ansätze:*\n",
    "- *UML* als ISO-Standard (Ersatz für ER-Diagramme)\n",
    "\n",
    "  </div>\n",
    "  <div class=\"col1\"> \n",
    "    <figure class=\"mj-fig\">\n",
    "        <img src=\"images/10_Datenbanken/notation.png\" class=\"mj-fig-img\" style=\"height: 60vh\">\n",
    "        <figcaption class=\"mj-fig-cap\">\n",
    "            https://de.wikipedia.org/wiki/Datei:ERD_Darstellungen.png\n",
    "        </figcaption>\n",
    "    </figure>\n",
    "  </div>\n",
    "</div>"
   ]
  },
  {
   "cell_type": "markdown",
   "metadata": {
    "editable": true,
    "slideshow": {
     "slide_type": "subslide"
    },
    "tags": [
     "remove-cell"
    ]
   },
   "source": [
    "## Begriffsunterschiede - Terminologie\n",
    "\n",
    "| Objektorientierung | Relationale Datenbank | ER-Diagramme |\n",
    "|--|--|--|\n",
    "| Objektinstanz | Datentupel | Entität |\n",
    "| Klassen | Relationen | Entitätstyp |\n",
    "| Klassendefinition | Relationenschema | Entity-Relationship-Modell |\n",
    "| Attribute | Attribute | Attribute |\n",
    "| Assoziation | Fremdschlüssel | Relationen |\n",
    "| Multiplizitäten | - | Kardinalitäten |\n"
   ]
  },
  {
   "cell_type": "markdown",
   "metadata": {
    "editable": true,
    "slideshow": {
     "slide_type": "subslide"
    },
    "tags": [
     "remove-cell"
    ]
   },
   "source": [
    "## OOP vs. Relationale Datenbanken - Vergleich\n",
    "\n",
    "<div class=\"flex-row\">\n",
    "  <div class=\"col1\">\n",
    "\n",
    "**Objektorientierung:**\n",
    "\n",
    "- ✅ Modellierung als Objekte\n",
    "- ✅ Attribute\n",
    "- ✅ Methoden\n",
    "- ✅ Vererbung\n",
    "- ✅ Polymorphismus\n",
    "- ✅ Generalisierung\n",
    "- ✅ Aggregation\n",
    "- ✅ Kapselung\n",
    "\n",
    "  </div>\n",
    "  <div class=\"col1\"> \n",
    "\n",
    "**Relationale Datenbanken:**\n",
    "\n",
    "- ✅ Modellierung als Relationen\n",
    "- ✅ Attribute\n",
    "- ❌ Methoden\n",
    "- ❌ Vererbung\n",
    "- ❌ Polymorphismus\n",
    "- ❌ Generalisierung\n",
    "- ❌ Aggregation\n",
    "- ✅ Kapselung\n",
    "\n",
    "  </div>\n",
    "</div>"
   ]
  },
  {
   "cell_type": "markdown",
   "metadata": {
    "editable": true,
    "slideshow": {
     "slide_type": "subslide"
    },
    "tags": [
     "remove-cell"
    ]
   },
   "source": [
    "## Objektorientierter Softwareentwurf\n",
    "\n",
    "Im objektorientierten Softwareentwurf wird ein *Programm aus Objekten* modelliert:\n",
    "\n",
    "- *Klassendefinition*: Wie sind Objekte in Form von Klassen definiert?\n",
    "- *Attribute und Methoden*: Welche Eigenschaften und Verhalten besitzen sie?\n",
    "- *Vererbung*: Wie bauen Klassen aufeinander auf?\n",
    "- *Statische Beziehungen*: Wie stehen sie in Referenz zueinander?\n",
    "- *Dynamische Interaktion*: Wie interagieren sie zur Laufzeit?\n",
    "\n",
    "*Modellierungssprache*: UML-Diagramme\n"
   ]
  },
  {
   "cell_type": "markdown",
   "metadata": {
    "editable": true,
    "slideshow": {
     "slide_type": "subslide"
    },
    "tags": [
     "remove-cell"
    ]
   },
   "source": [
    "## Datenbankentwurf \n",
    "\n",
    "Im Datenbankentwurf wird eine *Datenbank aus Entitäten* modelliert:\n",
    "\n",
    "- *Entitätstypen*: Wie sind sie in Form von Tabellen definiert?\n",
    "- *Attribute*: Welche Eigenschaften besitzen Entitäten als Spalten?\n",
    "- *Statische Beziehungen*: Wie stehen sie in Relation zueinander?\n",
    "\n",
    "*Modellierungssprache*: Entity-Relationship Diagramme"
   ]
  },
  {
   "cell_type": "markdown",
   "metadata": {
    "editable": true,
    "slideshow": {
     "slide_type": "subslide"
    },
    "tags": [
     "remove-cell"
    ]
   },
   "source": [
    "## UML für ER-Diagramme - Besonderheiten\n",
    "\n",
    "<div class=\"flex-row\">\n",
    "  <div class=\"col1\">\n",
    "\n",
    "- Klassen mit `<<Entity>>` annotieren\n",
    "- Attribute als Klassenattribute mit Datentyp\n",
    "- *PK* kennzeichnet Primärschlüssel\n",
    "- Fremdschlüssel als Assoziationen\n",
    "- Leserichtung: `<<` oder `>>`\n",
    "- Zahlen geben *Kardinalität* an\n",
    "- *Keine Methoden!*\n",
    "\n",
    "  </div>\n",
    "  <div class=\"col1\"> \n",
    "\n",
    "<img src=\"https://mermaid.ink/svg/pako:eNqVUctqwzAQ_JVljyUJLrmJkFMupT2Ypqeii2rJqageRl5BRfC_9Fv6ZV0ci2LopbCI0czuMiNdsYvaoMDOqXE8WXVJysvw_QVc2ibTkY0Bnp4rN_dBm8MHXSt3q8PBBLJUjsc1bwNBG_l8OEH7uNZ6FxXB519kWZMjJd7iyiWGlzJUbapgkUDivUTYbhnsd7s7xrNVEJB9z84Jfu0tUW6T_wozT6zisBGZm6Z5kwE36E3yymp-Vl4L7IXejTcSBUNtepUdSZRh4laVKZ5L6FBQymaDedCKzPIRKHrlRmYHFV5jrPfpB_QlrEw\">\n",
    "\n",
    "  </div>\n",
    "</div>"
   ]
  },
  {
   "cell_type": "markdown",
   "metadata": {
    "editable": true,
    "slideshow": {
     "slide_type": "subslide"
    },
    "tags": [
     "remove-cell"
    ]
   },
   "source": [
    "## Kardinalitäten (Multiplizitäten)\n",
    "\n",
    "<table>\n",
    "    <tr>\n",
    "        <td style=\"width: 30%\">Kardinalität</td>\n",
    "        <td style=\"width: 70%\">ER-Diagramm</td>\n",
    "    </tr>\n",
    "    <tr>\n",
    "        <td>1 zu 1: Eine Person ist geboren in minimal einem, maximal einem Ort</td>\n",
    "        <td><img src=\"https://mermaid.ink/svg/pako:eNp1UMtqQjEQ_ZVh1rpwG8SVCGKx0u5KNtOb0QZyJ5I7WYjcf-m3-GWNmiAihbOYnJxHMmfsomM02AUahqWnQ6LeyuUXCpxP3KmPAm8fjdtxGgphcWYRptM6vCcFAwf-jokFvMBi0Qy34Go7N_KO-ZxFvZ4e4ju8aDWsl7DbvF7WorXAagPbqLDNITTZ-NxcnvZvLbxGF_lT6YgT7Dn15F3ZUkmC8mX94Z4tmjI63lMOatHKVUpZ4-dJOjSaMk8wHx0p172i2VMYCnsk-Yqxncc_DKqVow\" style=\"height:10vh;text-align:center;\"></td>\n",
    "    </tr>\n",
    "    <tr>\n",
    "        <td>1 zu 0..1: Eine Person ist gestorben in minimal Null, maximal einem Ort</td>\n",
    "        <td><img src=\"https://mermaid.ink/svg/pako:eNp1UMFqQjEQ_JVlj0WFXoN4koJYWmlvkkt8WW0gbyPJ5iDy_sVv6Zd1W19aRApzmExmZ5I9Y5c8ocEuulKWwR2y6y1_XkDhQ6ZOQmJ4fmvahnJRweKjRZhOv8ls9qD8NQsYOFCRlHfEEBgWizb1kz7Onpt4xXxOLEFOf-YrAss4sFrCZn1_-Vu1Ynhaw0uN0e0iNeNw263P-7cY7sPVflOraTjBnnLvgtd1aRbo3-WDerJolHrauxrFouVBra5Kej9xh0ZypQnWo3dC44LR7F0sqh4db1Nq5-ELDQSZBA\" style=\"height:10vh;text-align:center;\"></td>\n",
    "    </tr>\n",
    "    <tr>\n",
    "        <td>1 zu 0..*: Eine Person macht Ferien in minimal Null, maximal vielen Orten</td>\n",
    "        <td><img src=\"https://mermaid.ink/svg/pako:eNqVUctKA0EQ_JWmz8nB6xICQhAkgkHxInNpd3rdgXmE2Z5DCPsvfotfZrsPkhg9CH2oqX5U9fQR62QZK6w9dd3G0XumYOLnB2hYl7kWlyI8PM3cUAc7zl2Kx5kcY7XiKE4O6_Ul76JMDfcb2G3nZD-DMQcGbwzCcjmB29LouJa8MFQ6GwLVrUDJnsrbpZvHLH9agWsvWv67kXPJH260R124CKflRu2znn98x7DLy7AK3G2v8yp0ontcYOAcyFk9lKqAmpKWAxusFFpuqHgxaOJ3KRVJz4dYYyW58ALL3pLwdFqsGvKdsnuKrynN7_4L_TzJhQ\" style=\"height:10vh;text-align:center;\"></td>\n",
    "    </tr>\n",
    "    <tr>\n",
    "        <td>1 zu 1..*: Eine Person war bereits in minimal einem, maximal vielen Orten</td>\n",
    "        <td><img src=\"https://mermaid.ink/svg/pako:eNqVkc1qwzAMx19F6NweejWlMCiF0cHKdhu-iFhZDYldHPlQSt5lz7Inq2jiNl23w8AH-a-vn6QTVtExGqwa6rq1p89ErQ3fX6DP-cSV-Bjg5a1olzjYcepiOBVxeMslB_FyXK3udR9kTHhew25bnH0xBh9YXFiE-Xw0nnKt5fbUCIPR2kBX4Z7lNcmfIPBIouG_Y0wb_mDRHGXwAW6jDb0nOf9Yxm0S2Gwf3dpnM8XDGbacWvJO76RtQKlkzy1bNGo6rinrUtCGXkMpS3w_hgqNpMwzzAdHwuNl0dTUdKoeKHzEWP79GZXPyXc\" style=\"height:10vh;text-align:center;\"></td>\n",
    "    </tr>\n",
    "</table>\n",
    "\n",
    "> *Wichtig*: Gegenrichtung macht keine Aussage über Kardinalität!\n"
   ]
  },
  {
   "cell_type": "markdown",
   "metadata": {
    "editable": true,
    "slideshow": {
     "slide_type": "subslide"
    },
    "tags": [
     "remove-cell"
    ]
   },
   "source": [
    "## Vom Konzeptionellem Modell zum Logischen Modell\n",
    "\n",
    "- Unterschiedliche DBMS bieten unterschiedliche Datentypen\n",
    "- Komplexe Attribute (Listen, Dictionary) können nicht direkt abgespeichert werden\n",
    "- Relationen mit Multiplizitäten >1 können nicht in einer Tabelle mit der Entität abgespeichert werden\n",
    "- Redundante Daten (z.B. Polygontyp oder Adressen) mit immer den gleichen Werten kosten unnötig Speicher und sind schlecht zu pflegen (Aktualisierung an vielen Stellen)\n",
    "- Diese Beschränkungen führen dazu dass Konzeptionelle Datenmodelle oft nicht direkt in einer Datenbank abbildbar sind\n"
   ]
  },
  {
   "cell_type": "markdown",
   "metadata": {
    "editable": true,
    "slideshow": {
     "slide_type": "slide"
    },
    "tags": [
     "remove-cell"
    ]
   },
   "source": [
    "## Normalisierung\n",
    "\n",
    "<div class=\"alert alert-block alert-success\">\n",
    "<b>📘 Definition: Normalisierung</b>\n",
    "\n",
    "Die Normalisierung ist ein wichtiger Schritt im Prozess der Abbildung eines Konzeptionellen Datenmodells auf ein Logisches und Physikalisches Datenmodell. Sie hat den Zweck, Redundanzen (mehrfaches Festhalten des gleichen Sachverhalts) zu minimieren, indem:\n",
    "</div>\n",
    "\n",
    "- komplexe Attribute in neue Tabellen ausgelagert werden\n",
    "- Relationen mit hoher Kardinalität in neue Tabellen ausgelagert werden\n",
    "- Redundante Daten (z.B. Polygontyp) in neue Tabellen ausgelagert werden\n"
   ]
  },
  {
   "cell_type": "markdown",
   "metadata": {
    "editable": true,
    "slideshow": {
     "slide_type": "subslide"
    },
    "tags": [
     "remove-cell"
    ]
   },
   "source": [
    "## Normalformen\n",
    "\n",
    "Verschiedene Normalformen mit fortschreitend strengeren Bedingungen an das Datenbankschema:\n",
    "\n",
    "- *1. Normalform:* Alle Attributwerte sind atomar (nicht komplex)\n",
    "- *2. Normalform:* Nicht-Schlüssel Attribute sind von allen Primärschlüsseln voll abhängig\n",
    "- *3. Normalform:* Nicht-Schlüssel Attribute sind nur von Primärschlüssel abhängig\n",
    "- *Boyce-Codd-Normalform:* Alle Attribute von denen Attribute abhängen sind Schlüssel\n",
    "- *4. Normalform:* Es gibt nur noch triviale mehrwertige Abhängigkeiten\n",
    "- *5. Normalform:* Es gibt keine mehrwertigen Abhängigkeiten, die voneinander abhängig sind\n",
    "\n",
    "Dies sorgt für sehr viele, sehr stark vereinfachten Tabellen, die wieder zu größeren Relationen zusammengesetzt werden können.\n",
    "\n",
    "*Meistens sind nur die ersten drei Normalformen im Datenbank-Alltag relevant.*"
   ]
  },
  {
   "cell_type": "markdown",
   "metadata": {
    "editable": true,
    "slideshow": {
     "slide_type": "subslide"
    },
    "tags": [
     "remove-cell"
    ]
   },
   "source": [
    "## Erste Normalform\n",
    "\n",
    "- *Beispiel:* Erste Normalform verletzt\n",
    "- *Fehler:* List<Punkt> als Attribut statt Relation\n",
    "\n",
    "<div class=\"flex-row\">\n",
    "  <div class=\"col1\">\n",
    "\n",
    "```sql\n",
    "-- Falsch: Komplexe Attribute\n",
    "CREATE TABLE Polygon (\n",
    "    id INT PRIMARY KEY,\n",
    "    punkte LIST<Punkt>  -- Verletzt 1NF\n",
    ");\n",
    "```\n",
    "\n",
    "  </div>\n",
    "  <div class=\"col1\"> \n",
    "\n",
    "```sql\n",
    "-- Richtig: Atomare Attribute\n",
    "CREATE TABLE Polygon (\n",
    "    id INT PRIMARY KEY\n",
    ");\n",
    "\n",
    "CREATE TABLE PolygonPunkte (\n",
    "    polygon_id INT,\n",
    "    punkt_id INT,\n",
    "    FOREIGN KEY (polygon_id) REFERENCES Polygon(id),\n",
    "    FOREIGN KEY (punkt_id) REFERENCES Punkt(id)\n",
    ");\n",
    "```\n",
    "\n",
    "  </div>\n",
    "</div>"
   ]
  },
  {
   "cell_type": "markdown",
   "metadata": {
    "editable": true,
    "slideshow": {
     "slide_type": "subslide"
    },
    "tags": [
     "remove-cell"
    ]
   },
   "source": [
    "## Zweite Normalform\n",
    "\n",
    "- *Beispiel:* Zweite Normalform verletzt\n",
    "- *Fehler:* Punkt nicht ausgelagert\n",
    "\n",
    "\n",
    "<div class=\"flex-row\">\n",
    "  <div class=\"col1\">\n",
    "\n",
    "```sql\n",
    "-- Falsch: Nicht voll abhängig vom Primärschlüssel\n",
    "CREATE TABLE Linie (\n",
    "    id INT PRIMARY KEY,\n",
    "    start_x FLOAT,\n",
    "    start_y FLOAT,\n",
    "    end_x FLOAT,\n",
    "    end_y FLOAT\n",
    ");\n",
    "```\n",
    "\n",
    "  </div>\n",
    "  <div class=\"col1\"> \n",
    "\n",
    "```sql\n",
    "-- Richtig: Punkte ausgelagert\n",
    "CREATE TABLE Punkt (\n",
    "    id INT PRIMARY KEY,\n",
    "    x FLOAT,\n",
    "    y FLOAT\n",
    ");\n",
    "\n",
    "CREATE TABLE Linie (\n",
    "    id INT PRIMARY KEY,\n",
    "    start_punkt_id INT NOT NULL,\n",
    "    end_punkt_id INT NOT NULL,\n",
    "    FOREIGN KEY (start_punkt_id) REFERENCES Punkt(id),\n",
    "    FOREIGN KEY (end_punkt_id) REFERENCES Punkt(id)\n",
    ");\n",
    "```\n",
    "\n",
    "  </div>\n",
    "</div>\n"
   ]
  },
  {
   "cell_type": "markdown",
   "metadata": {
    "editable": true,
    "slideshow": {
     "slide_type": "subslide"
    },
    "tags": [
     "remove-cell"
    ]
   },
   "source": [
    "## Dritte Normalform\n",
    "\n",
    "- *Beispiel:* Dritte Normalform verletzt\n",
    "- *Fehler:* PolygonTyp von Polygon abhängig\n",
    "\n",
    "<div class=\"flex-row\">\n",
    "  <div class=\"col1\">\n",
    "\n",
    "```sql\n",
    "-- Falsch: Transitive Abhängigkeit\n",
    "CREATE TABLE Polygon (\n",
    "    id INT PRIMARY KEY,\n",
    "    typ_name VARCHAR(50),\n",
    "    typ_beschreibung VARCHAR(200)\n",
    ");\n",
    "```\n",
    "\n",
    "  </div>\n",
    "  <div class=\"col1\"> \n",
    "\n",
    "```sql\n",
    "-- Richtig: PolygonTyp ausgelagert\n",
    "CREATE TABLE PolygonTyp (\n",
    "    id INT PRIMARY KEY,\n",
    "    name VARCHAR(50),\n",
    "    beschreibung VARCHAR(200)\n",
    ");\n",
    "\n",
    "CREATE TABLE Polygon (\n",
    "    id INT PRIMARY KEY,\n",
    "    typ_id INT,\n",
    "    FOREIGN KEY (typ_id) REFERENCES PolygonTyp(id)\n",
    ");\n",
    "```\n",
    "\n",
    "  </div>\n",
    "</div>\n"
   ]
  },
  {
   "cell_type": "markdown",
   "metadata": {
    "editable": true,
    "slideshow": {
     "slide_type": "subslide"
    },
    "tags": [
     "remove-cell"
    ]
   },
   "source": [
    "## Kardinalitäten (Multiplizitäten)\n",
    "\n",
    "Kardinalitäten werden unterschiedlich abgebildet:\n",
    "- *1 zu 1:* Relation wird mit Fremdschlüssel in der Entität abgebildet. Der Fremdschlüssel darf NICHT NULL\n",
    "- *1 zu 0..1:* Relation wird mit Fremdschlüssel in der Entität abgebildet. Der Fremdschlüssel darf NULL\n",
    "- *1 zu 0...*:* Relation wird als neue Entität mit Fremdschlüssels abgebildet\n",
    "- *1 zu 1...*:* Relation wird als neue Entität mit Fremdschlüssels abgebildet. Mindestens ein Eintrag sollte vorhanden sein\n"
   ]
  },
  {
   "cell_type": "markdown",
   "metadata": {
    "editable": true,
    "slideshow": {
     "slide_type": "slide"
    },
    "tags": [
     "remove-cell"
    ]
   },
   "source": [
    "## Hörsaalfrage\n",
    "\n",
    "<script>setSectionBackground('#FFD966');</script>\n",
    "<div class=\"flex-row\">\n",
    "  <div class=\"col4 vcent\">\n",
    "\n",
    "Welche Tabellen brauchen wir für unser Geometriebeispiel?\n",
    "\n",
    "  </div>\n",
    "  <div class=\"col6\"> \n",
    "    <figure class=\"mj-fig\">\n",
    "    <img src=\"https://mermaid.ink/svg/pako:eNp9VF1vmzAU_SvWlSp1G40guPlAe9m6PVTbtKjb04QUuXADloxNbSM1zfLfazBEkEb1C9f3nnuOfWxzgEzlCAlkghnzjbNCsyqVxI2rK_KVGSQFqgqt3pMOgsZXuwnZKC4tOfhUOz7thGKWPL_J7EeZnBvLZIbXXfsHXzmmcsz8k0ucEAuUhS2vL6M3SuwLJScNTCMb4F1iuzVWb7dvKNxG71RVK8MtdxwaBWsDU_K63-xAn0KUAlE3Ny6KXeS3n5C6_fbYbuEe-LEDzkdAt29tA4IyH4nfyxI17xwhJUfNdFbuyU6rahCeruLzf8f7V3MmC4GXSu602OWuDUrrS744sPjqn4w5l3H7wIvSvgf4_Wgbg-8hvmSNxUFlwutx90aZDAWasdiU_hw4Fp3InAN77RZ3lvTI708Nd0fsjBYnH3rLBm9ZjS-XKhvmmgQK5Z9J7_A46XEPmNnR8ZymvUlPjbucl7V_8GHtbdSzlap6bAwEUGieQ2J1gwFUqCvWTqG79SnYEitMIXFhjjvWCJtCKo-urWbyn1LV0KlVU5SQ7JgwbtbUuTOjf_qnrHZ3FPWdaqSFJA5pRwLJAZ4hieLFLIppSFd0Ea0jGi4C2ENCw9mcrtfrRbS6jcP5MqbHAF463XC2Wt6GbkSrJZ1HlMYBYM6t0r_630_7Ob4C5I5vIg\" class=\"mj-fig-img\" style=\"height:60vh\">\n",
    "    </figure>\n",
    "  </div>\n",
    "</div>"
   ]
  },
  {
   "cell_type": "markdown",
   "metadata": {
    "editable": true,
    "slideshow": {
     "slide_type": "subslide"
    },
    "tags": [
     "remove-cell"
    ]
   },
   "source": [
    "## Hörsaalfrage\n",
    "\n",
    "<script>setSectionBackground('#FFD966');</script>\n",
    "<div class=\"flex-row\">\n",
    "  <div class=\"col4\">\n",
    "\n",
    "Durch Normalisierung erhalten wir *fünf Tabellen:*\n",
    "\n",
    "- *Punkt:* Besitzt die Attribute x,y-Koordinate, Datentyp float\n",
    "- *Linie:* Start- und End-Punkt sind Fremdschlüssel die NichtNull sind da eine 1-1-Relation vorliegt\n",
    "- *Polygon:* Eine Tabelle mit PK und FK auf den PolynomTypen, die Punkte sind extern\n",
    "- *PolygonTyp:* Eine Tabelle der redundanten Polygontypen mit Name (Dreieck, Viereck, etc.) und PK\n",
    "- *PolygonPunkte:* Eine Tabelle die für jeden Polygon FK, die zugehörigen Punkte FK listet, da eine 3..* Relation vorlag\n",
    "- *Für alle fünf* brauchen wir einen Primärschlüssel (Immer Not Null)\n",
    "\n",
    "  </div>\n",
    "  <div class=\"col6\"> \n",
    "    <figure class=\"mj-fig\">\n",
    "    <img src=\"https://mermaid.ink/svg/pako:eNp9VF1vmzAU_SvWlSp1G40guPlAe9m6PVTbtKjb04QUuXADloxNbSM1zfLfazBEkEb1C9f3nnuOfWxzgEzlCAlkghnzjbNCsyqVxI2rK_KVGSQFqgqt3pMOgsZXuwnZKC4tOfhUOz7thGKWPL_J7EeZnBvLZIbXXfsHXzmmcsz8k0ucEAuUhS2vL6M3SuwLJScNTCMb4F1iuzVWb7dvKNxG71RVK8MtdxwaBWsDU_K63-xAn0KUAlE3Ny6KXeS3n5C6_fbYbuEe-LEDzkdAt29tA4IyH4nfyxI17xwhJUfNdFbuyU6rahCeruLzf8f7V3MmC4GXSu602OWuDUrrS744sPjqn4w5l3H7wIvSvgf4_Wgbg-8hvmSNxUFlwutx90aZDAWasdiU_hw4Fp3InAN77RZ3lvTI708Nd0fsjBYnH3rLBm9ZjS-XKhvmmgQK5Z9J7_A46XEPmNnR8ZymvUlPjbucl7V_8GHtbdSzlap6bAwEUGieQ2J1gwFUqCvWTqG79SnYEitMIXFhjjvWCJtCKo-urWbyn1LV0KlVU5SQ7JgwbtbUuTOjf_qnrHZ3FPWdaqSFJA5pRwLJAZ4hieLFLIppSFd0Ea0jGi4C2ENCw9mcrtfrRbS6jcP5MqbHAF463XC2Wt6GbkSrJZ1HlMYBYM6t0r_630_7Ob4C5I5vIg\" class=\"mj-fig-img\" style=\"height:60vh\">\n",
    "    </figure>\n",
    "  </div>\n",
    "</div>\n"
   ]
  },
  {
   "cell_type": "markdown",
   "metadata": {
    "editable": true,
    "slideshow": {
     "slide_type": "slide"
    },
    "tags": [
     "remove-cell"
    ]
   },
   "source": [
    "## Tabellen mit SQL anlegen \n",
    "\n",
    "<script>setSectionBackground('#E2F0D9');</script>\n",
    "<div class=\"flex-row\">\n",
    "  <div class=\"col4 vcent\">\n",
    "\n",
    "  </div>\n",
    "  <div class=\"col6\"> \n",
    "    <figure class=\"mj-fig\">\n",
    "        <img src=\"images/10_Datenbanken/mj_babel2.png\" class=\"mj-fig-img\">\n",
    "        <figcaption class=\"mj-fig-cap\">\n",
    "            Midjourney: Construction plan of the tower of babel\n",
    "        </figcaption>\n",
    "    </figure>\n",
    "  </div>\n",
    "</div>"
   ]
  },
  {
   "cell_type": "markdown",
   "metadata": {
    "editable": true,
    "slideshow": {
     "slide_type": "subslide"
    },
    "tags": [
     "remove-cell"
    ]
   },
   "source": [
    "## Letzter Schritt: Implementierung des ER-Diagrammes\n",
    "\n",
    "Abbilden des ER-Modells auf SQL-Befehle zum Erzeugen der Tabellen\n",
    "\n",
    "- Erstellen der Tabellen\n",
    "- Für jedes Attribut jeder Relation einen sinnvollen Datentyp finden\n",
    "- Festlegen ob Attribute Nullbar oder Nicht Null sind\n",
    "- Festlegen des Primärschlüssel\n",
    "- Festlegen von Fremdschlüssel\n",
    "- Deklarieren zusätzlicher Suchindexe zur Performanceoptimierung\n",
    "- Definition von Zugriffsrechten\n",
    "\n",
    "Um die Tabelle zu erstellen, benötigt man den `CREATE TABLE SQL`-Befehl.\n",
    "\n",
    "*Dieser fügt noch keine Daten ein, sondern erstellt nur ein leeres Grundgerüst.*"
   ]
  },
  {
   "cell_type": "markdown",
   "metadata": {
    "editable": true,
    "slideshow": {
     "slide_type": "subslide"
    },
    "tags": [
     "remove-cell"
    ]
   },
   "source": [
    "## DDL - Data Definition Language\n",
    "\n",
    "Erlaubt Operationen auf den Definitionen von Datenstrukturen:\n",
    "\n",
    "<div class=\"flex-row\">\n",
    "  <div class=\"col1\">\n",
    "\n",
    "- `CREATE` – Tabellen erzeugen\n",
    "- `ALTER` – Tabellen verändern\n",
    "- `DROP` – Tabellen löschen\n",
    "- `TRUNC` – Daten aber nicht die Tabelle löschen\n",
    "\n",
    "  </div>\n",
    "  <div class=\"col1\"> \n",
    "\n",
    "Die möglichen Datenstrukturen sind dabei:\n",
    "\n",
    "- `TABLE` – Tabellen zum speichern von Daten\n",
    "- `VIEW` – Dynamisch generierte Ansichten auf Tabellen\n",
    "- `MATERIALIZED VIEW` – Tabellen die sich aus anderen Tabellen ableiten\n",
    "\n",
    "  </div>\n",
    "</div>\n"
   ]
  },
  {
   "cell_type": "markdown",
   "metadata": {
    "editable": true,
    "slideshow": {
     "slide_type": "slide"
    },
    "tags": [
     "remove-cell"
    ]
   },
   "source": [
    "## Tabellen erstellen in SQL\n",
    "\n",
    "```sql\n",
    "CREATE TABLE table_name (\n",
    "    attribute1_name attribute1_type attribute1_constraints,\n",
    "    attribute2_name attribute2_type attribute2_constraints,\n",
    "    …,\n",
    "    table_constraints\n",
    ")\n",
    "```"
   ]
  },
  {
   "cell_type": "markdown",
   "metadata": {
    "editable": true,
    "slideshow": {
     "slide_type": "subslide"
    },
    "tags": [
     "remove-cell"
    ]
   },
   "source": [
    "## Datentypen in SQLite vs. Python\n",
    "\n",
    "| SQLite | Python | Beschreibung |\n",
    "|-----|----|-----|\n",
    "| `Boolean (INTEGER)` | `bool` | Wahrheitswerte |\n",
    "| `INTEGER` | `int` | Ganzzahl |\n",
    "| `REAL` | `float` | Gleitkommazahl |\n",
    "| `NUMERIC` | - | Interpretiert beliebige Dateneingaben als Zahl |\n",
    "| `TEXT` | `str` | Text-String, gespeichert in UTF-8 oder UTF-16 |\n",
    "| `BLOB` | `bytes` | Beliebiger Block an Binärdaten |\n",
    "| `NULL` | `None` | Keine Daten |"
   ]
  },
  {
   "cell_type": "markdown",
   "metadata": {
    "editable": true,
    "slideshow": {
     "slide_type": "subslide"
    },
    "tags": [
     "remove-cell"
    ]
   },
   "source": [
    "## Beispiel: Tabellen erstellen in SQLite\n",
    "\n",
    "Für unser Geometriebeispiel ergeben sich folgende CREATE TABLE Statements:\n",
    "\n",
    "```sql\n",
    "CREATE TABLE Points (\n",
    "    point_id INTEGER,\n",
    "    x REAL,\n",
    "    y REAL\n",
    ");\n",
    "\n",
    "CREATE TABLE Lines (\n",
    "    lines_id INTEGER,\n",
    "    start INTEGER,\n",
    "    end INTEGER\n",
    ");\n",
    "```"
   ]
  },
  {
   "cell_type": "markdown",
   "metadata": {
    "editable": true,
    "slideshow": {
     "slide_type": "subslide"
    },
    "tags": [
     "remove-cell"
    ]
   },
   "source": [
    "## Schlüssel und Constraints in SQL\n",
    "\n",
    "- Primär- und Sekundärschlüssel werden meistens durch INTEGER-Spalten abgebildet.\n",
    "\n",
    "- Der Primärschlüssel jeder Relation muss speziell markiert werden durch den PRIMARY KEY Constraint.\n",
    "\n",
    "- Weitere Constraints die beim Einfügen neuer Daten eingehalten werden:\n",
    "\n",
    "- `NOT NULL` – Werte dürfen nicht null sein\n",
    "- `AUTOINCREMENT` – Numerische Primärschlüssel werden automatisch berechnet\n",
    "- `UNIQUE` – Werte müssen eindeutig sein, keine Dopplungen erlaubt\n",
    "- `CHECKED` – Zusätzliche logische Bedingung für neue Werte\n",
    "- `FOREIGN KEY` – Wert eines existierenden Fremdschlüssels"
   ]
  },
  {
   "cell_type": "markdown",
   "metadata": {
    "editable": true,
    "slideshow": {
     "slide_type": "subslide"
    },
    "tags": [
     "remove-cell"
    ]
   },
   "source": [
    "## Beispiel: Primärschlüssel, Fremdschlüssel und Constraints\n",
    "\n",
    "```sql\n",
    "CREATE TABLE Points (\n",
    "    point_id INTEGER PRIMARY KEY AUTOINCREMENT,\n",
    "    x REAL NOT NULL,\n",
    "    y REAL NOT NULL\n",
    ");\n",
    "\n",
    "CREATE TABLE Lines (\n",
    "    lines_id INTEGER PRIMARY KEY AUTOINCREMENT,\n",
    "    start INTEGER NOT NULL,\n",
    "    end INTEGER NOT NULL,\n",
    "    FOREIGN KEY(start) REFERENCES Points(point_id),\n",
    "    FOREIGN KEY(end) REFERENCES Points(point_id)\n",
    ");\n",
    "```"
   ]
  },
  {
   "cell_type": "markdown",
   "metadata": {
    "editable": true,
    "slideshow": {
     "slide_type": "slide"
    },
    "tags": [
     "remove-cell"
    ]
   },
   "source": [
    "## CREATE TABLE erweiterte Funktionen\n",
    "\n",
    "Zusätzliche Optionen:\n",
    "\n",
    "- `DEFAULT`: Standardwert für neue Elemente festlegen\n",
    "- `WITHOUT ROWID`: Tabellen die nicht durchnummeriert werden\n",
    "- `STRICT`: Tabelle forciert Datentypen strikt"
   ]
  },
  {
   "cell_type": "markdown",
   "metadata": {
    "editable": true,
    "slideshow": {
     "slide_type": "subslide"
    },
    "tags": [
     "remove-cell"
    ]
   },
   "source": [
    "## Daten zu Tabellen hinzufügen\n",
    "\n",
    "Daten werden in Tabellen mit dem SQL-Befehl `INSERT` hinzugefügt\n",
    "\n",
    "<div class=\"flex-row\">\n",
    "  <div class=\"col1\">\n",
    "\n",
    "Daten hinzufügen in der Reihenfolge der Spaltennamen:\n",
    "\n",
    "```sql\n",
    "INSERT INTO Points VALUES(1, 54.083336, 12.108811);\n",
    "INSERT INTO Points VALUES(2, 12.094167, 54.075211);\n",
    "INSERT INTO Lines VALUES(1, 1, 2);\n",
    "```\n",
    "\n",
    "  </div>\n",
    "  <div class=\"col1\"> \n",
    "\n",
    "oder mit expliziten Spaltennamen:\n",
    "\n",
    "```sql\n",
    "INSERT INTO Points(x, y) VALUES(54.083336, 12.108811);\n",
    "INSERT INTO Points(x, y) VALUES(12.094167, 54.075211);\n",
    "INSERT INTO Lines(start, end) VALUES(1, 2);\n",
    "```\n",
    "\n",
    "  </div>\n",
    "</div>\n"
   ]
  },
  {
   "cell_type": "markdown",
   "metadata": {
    "editable": true,
    "slideshow": {
     "slide_type": "subslide"
    },
    "tags": [
     "remove-cell"
    ]
   },
   "source": [
    "## Tabelle aus bestehenden Daten erstellen\n",
    "\n",
    "```sql\n",
    "CREATE TABLE tablename AS\n",
    "SELECT … FROM … WHERE …\n",
    "```\n",
    "\n",
    "Hat keinen Primärschlüssel, kann nur nachträglich definiert werden"
   ]
  },
  {
   "cell_type": "markdown",
   "metadata": {
    "editable": true,
    "slideshow": {
     "slide_type": "subslide"
    },
    "tags": [
     "remove-cell"
    ]
   },
   "source": [
    "## ALTER TABLE - Statement\n",
    "\n",
    "Ändern von Tabellen und Spaltennamen, Hinzufügen und Löschen von Spalten\n",
    "\n",
    "```sql\n",
    "ALTER TABLE tablename TO newtablename\n",
    "```\n",
    "\n",
    "<br/>\n",
    "Beispiel:\n",
    "```sql\n",
    "ALTER TABLE Points RENAME TO Punkte\n",
    "```"
   ]
  },
  {
   "cell_type": "markdown",
   "metadata": {
    "editable": true,
    "slideshow": {
     "slide_type": "subslide"
    },
    "tags": [
     "remove-cell"
    ]
   },
   "source": [
    "## ALTER TABLE - Beispiel\n",
    "\n",
    "Besitzer zu Kunde umbenennen, Spalte für Kontonummer hinzufügen\n",
    "\n",
    "```sql\n",
    "ALTER TABLE tablename ADD COLUMN column_name column_type\n",
    "```\n",
    "\n",
    "<br/>\n",
    "Beispiel:\n",
    "```sql\n",
    "ALTER TABLE PolygonType ADD COLUMN maxPoints INTEGER\n",
    "```"
   ]
  },
  {
   "cell_type": "markdown",
   "metadata": {
    "editable": true,
    "slideshow": {
     "slide_type": "subslide"
    },
    "tags": [
     "remove-cell"
    ]
   },
   "source": [
    "## DROP TABLE - Statement\n",
    "\n",
    "Das Löschen von kompletten Tabellen.\n",
    "\n",
    "```sql\n",
    "DROP TABLE tablename\n",
    "```\n",
    "\n",
    "<br/>\n",
    "Beispiel:\n",
    "```sql\n",
    "DROP TABLE Points\n",
    "```"
   ]
  },
  {
   "cell_type": "markdown",
   "metadata": {
    "editable": true,
    "slideshow": {
     "slide_type": "skip"
    },
    "tags": []
   },
   "source": [
    "## Quiz\n",
    "\n",
    "\n",
    "```{quizdown}\n",
    "    ---\n",
    "    shuffleQuestions: true\n",
    "    shuffleAnswers: true\n",
    "    ---\n",
    "\n",
    "\n",
    "    ### Welche Schritte gehören zum klassischen Datenbankentwurf?\n",
    "\n",
    "    - [x] Anforderungsanalyse, Konzeptioneller Entwurf, Logischer Entwurf\n",
    "    - [ ] Nur Konzeptioneller und Physikalischer Entwurf\n",
    "    - [x] Physikalischer Entwurf, Implementation und Test\n",
    "    - [ ] Nur Implementation und Wartung\n",
    "\n",
    "\n",
    "    ### Was ist der Hauptunterschied zwischen konzeptionellem und logischem Entwurf?\n",
    "\n",
    "    - [x] Konzeptioneller Entwurf ist ein Grobentwurf, logischer ein Detailentwurf\n",
    "    - [ ] Konzeptioneller Entwurf verwendet SQL, logischer nicht\n",
    "    - [ ] Es gibt keinen Unterschied\n",
    "    - [ ] Logischer Entwurf kommt vor dem konzeptionellen\n",
    "\n",
    "\n",
    "    ### Sortiere die Schritte des Datenbankentwurfs in der richtigen Reihenfolge:\n",
    "\n",
    "    1. Anforderungsanalyse\n",
    "    2. Konzeptioneller Entwurf\n",
    "    3. Logischer Entwurf\n",
    "    4. Physikalischer Entwurf\n",
    "    5. Implementation und Test\n",
    "\n",
    "\n",
    "    ### Was kennzeichnet eine Entität in der UML-Notation für ER-Diagramme?\n",
    "\n",
    "    - [x] Die Anmerkung `<<Entity>>`\n",
    "    - [ ] Der Name `Entity`\n",
    "    - [ ] Die Anmerkung `<Table>`\n",
    "    - [ ] Das spezielles Symbol `ER`\n",
    "    - [ ] Keine besondere Kennzeichnung\n",
    "\n",
    "\n",
    "    ### Welche UML-Elemente werden in ER-Diagrammen NICHT verwendet?\n",
    "\n",
    "    - [x] Methoden und Vererbung\n",
    "    - [ ] Attribute und Klassen\n",
    "    - [x] Polymorphismus und Kapselung\n",
    "    - [ ] Assoziationen\n",
    "\n",
    "\n",
    "    ### Was bedeutet das Zeichen `>>` in einer Relation?\n",
    "\n",
    "    - [x] Die Relation wird von links nach rechts gelesen\n",
    "    - [ ] Die Relation ist bidirektional\n",
    "    - [ ] Es ist ein Fehler in der Notation\n",
    "    - [ ] Die Relation wird von rechts nach links gelesen\n",
    "\n",
    "\n",
    "    ### Was bedeutet die Kardinalität \"1 zu 0..*\"?\n",
    "\n",
    "    - [x] Eine Entität kann mit null bis vielen anderen verknüpft sein\n",
    "    - [ ] Eine Entität muss mit mindestens einer anderen verknüpft sein\n",
    "    - [ ] Genau eine Verknüpfung ist erlaubt\n",
    "    - [ ] Die Kardinalität ist ungültig\n",
    "\n",
    "\n",
    "    ### Bei welcher Kardinalität werden neue Tabellen für Relationen benötigt?\n",
    "\n",
    "    - [ ] 1 zu 1\n",
    "    - [ ] 1 zu 0..1\n",
    "    - [x] 1 zu 0..*\n",
    "    - [x] 1 zu 1..*\n",
    "\n",
    "\n",
    "    ### Welcher Fehler steckt in diesem ER-Diagramm-Fragment?\n",
    "    ```\n",
    "    Person >>wohnt in>> Ort\n",
    "    1                    1..*\n",
    "    ```\n",
    "\n",
    "    - [x] Die Leserichtung macht bei dieser Kardinalität keinen Sinn\n",
    "    - [ ] Personen können nicht in Orten wohnen\n",
    "    - [ ] Die Notation ist völlig falsch\n",
    "    - [ ] Es fehlen Attribute\n",
    "\n",
    "\n",
    "    ### Was ist das Ziel der Normalisierung?\n",
    "\n",
    "    - [x] Redundanzen minimieren\n",
    "    - [x] Datenintegrität sicherstellen\n",
    "    - [ ] Abfragen verlangsamen\n",
    "    - [ ] Mehr Tabellen erstellen\n",
    "\n",
    "\n",
    "    ### Was verlangt die 1. Normalform (1NF)?\n",
    "\n",
    "    - [x] Alle Attributwerte sind atomar\n",
    "    - [ ] Alle Attribute sind Primärschlüssel\n",
    "    - [x] Keine komplexen Attribute wie Listen\n",
    "    - [ ] Mindestens drei Tabellen\n",
    "\n",
    "\n",
    "    ### Welche Normalform wird verletzt, wenn Kundendaten direkt in der Rechnungstabelle gespeichert werden?\n",
    "\n",
    "    - [ ] 1NF\n",
    "    - [x] 2NF\n",
    "    - [ ] 3NF\n",
    "    - [ ] Keine Verletzung\n",
    "\n",
    "\n",
    "    ### Sortiere die Normalformen nach ihrer Strenge (von weniger zu mehr streng):\n",
    "\n",
    "    1. 1NF (Erste Normalform)\n",
    "    2. 2NF (Zweite Normalform) \n",
    "    3. 3NF (Dritte Normalform)\n",
    "    4. BCNF (Boyce-Codd-Normalform)\n",
    "\n",
    "\n",
    "    ### Welcher Fehler steckt in diesem Tabellenentwurf?\n",
    "    ```sql\n",
    "    CREATE TABLE Kunden (\n",
    "      id INTEGER,\n",
    "      name TEXT,\n",
    "      adressen LIST<TEXT>\n",
    "    )\n",
    "    ```\n",
    "\n",
    "    - [x] Das Attribut `adressen` verletzt die 1NF (nicht atomar)\n",
    "    - [ ] Der Datentyp INTEGER ist falsch\n",
    "    - [ ] Es fehlt ein Primärschlüssel\n",
    "    - [ ] Der Tabellenname ist ungültig\n",
    "\n",
    "\n",
    "    ### Wie wird eine 1:1-Relation in Tabellen abgebildet?\n",
    "\n",
    "    - [x] Durch Fremdschlüssel in einer der Tabellen\n",
    "    - [ ] Durch eine separate Relationstabelle\n",
    "    - [ ] Durch Duplizierung aller Attribute\n",
    "    - [ ] Gar nicht, da ungültig\n",
    "\n",
    "\n",
    "    ### Wann ist ein Fremdschlüssel \"Nullable\"?\n",
    "\n",
    "    - [x] Bei Kardinalität 1 zu 0..1\n",
    "    - [ ] Bei Kardinalität 1 zu 1\n",
    "    - [x] Wenn die Beziehung optional ist\n",
    "    - [ ] Niemals\n",
    "\n",
    "\n",
    "    ### Sortiere diese Schritte zur Normalisierung einer 1:n-Relation:\n",
    "\n",
    "    1. Neue Relationstabelle erstellen\n",
    "    2. Fremdschlüssel zu beiden ursprünglichen Tabellen hinzufügen\n",
    "    3. Primärschlüssel für die Relationstabelle definieren\n",
    "    4. Kardinalität überprüfen\n",
    "\n",
    "\n",
    "    ### Welcher SQL-Befehl erstellt eine neue Tabelle?\n",
    "\n",
    "    - [x] CREATE TABLE\n",
    "    - [ ] INSERT TABLE\n",
    "    - [ ] NEW TABLE\n",
    "    - [ ] MAKE TABLE\n",
    "\n",
    "\n",
    "    ### Was bewirkt AUTOINCREMENT bei einem Primärschlüssel?\n",
    "\n",
    "    - [x] Automatische Zuweisung eindeutiger Werte\n",
    "    - [ ] Automatisches Löschen alter Einträge\n",
    "    - [x] Erleichtert das Einfügen neuer Datensätze\n",
    "    - [ ] Verhindert Datenänderungen\n",
    "\n",
    "\n",
    "    ### Welcher Fehler steckt in diesem SQL-Code?\n",
    "    ```sql\n",
    "    CREATE TABLE Points (\n",
    "      point_id INTEGER PRIMARY KEY,\n",
    "      x REAL NOT NULL,\n",
    "      y REAL NOT NULL,\n",
    "      FOREIGN KEY(x) REFERENCES Lines(line_id)\n",
    "    )\n",
    "    ```\n",
    "\n",
    "    - [x] Ein Attribut (x) kann nicht gleichzeitig Koordinate und Fremdschlüssel sein\n",
    "    - [ ] REAL ist kein gültiger Datentyp\n",
    "    - [ ] PRIMARY KEY ist falsch geschrieben\n",
    "    - [ ] NOT NULL ist überflüssig\n",
    "\n",
    "\n",
    "    ### Sortiere diese SQL-Befehle in der logischen Reihenfolge für das Erstellen einer Datenbank:\n",
    "\n",
    "    1. CREATE TABLE für Hauptentitäten\n",
    "    2. CREATE TABLE für Fremdschlüssel-abhängige Tabellen  \n",
    "    3. INSERT Grunddaten\n",
    "    4. INSERT verknüpfte Daten\n",
    "\n",
    "\n",
    "    ### Mit welchem SQL-Befehl fügt man Daten hinzu?\n",
    "\n",
    "    - [x] INSERT INTO\n",
    "    - [ ] ADD DATA\n",
    "    - [ ] CREATE DATA\n",
    "    - [ ] PUT INTO\n",
    "\n",
    "\n",
    "    ### Was passiert bei diesem SQL-Befehl?\n",
    "    ```sql\n",
    "    DELETE FROM Points WHERE x > 50;\n",
    "    ```\n",
    "\n",
    "    - [x] Alle Punkte mit x-Koordinate > 50 werden gelöscht\n",
    "    - [ ] Die Tabelle Points wird gelöscht\n",
    "    - [ ] Nur der erste gefundene Punkt wird gelöscht\n",
    "    - [ ] Es ist ein Syntaxfehler\n",
    "\n",
    "\n",
    "    ### Welcher Fehler steckt in diesem INSERT-Statement?\n",
    "    ```sql\n",
    "    INSERT INTO Lines VALUES(1, 99, 100);\n",
    "    ```\n",
    "    *Angenommen, die Punkte mit ID 99 und 100 existieren nicht*\n",
    "\n",
    "    - [x] Fremdschlüssel-Constraint wird verletzt\n",
    "    - [ ] Zu viele Werte angegeben\n",
    "    - [ ] INTEGER ist kein gültiger Datentyp\n",
    "    - [ ] INSERT ist falsch geschrieben\n",
    "\n",
    "    ### Sortiere diese Schritte zum sicheren Löschen von Daten:\n",
    "\n",
    "    1. Backup der Tabelle erstellen\n",
    "    2. DELETE-Statement mit WHERE-Bedingung testen\n",
    "    3. Tatsächliches Löschen durchführen  \n",
    "    4. Ergebnis überprüfen\n",
    "\n",
    "    ### Mit welchem Befehl benennt man eine Tabelle um?\n",
    "\n",
    "    - [x] ALTER TABLE ... RENAME TO\n",
    "    - [ ] CHANGE TABLE NAME\n",
    "    - [ ] RENAME TABLE\n",
    "    - [ ] UPDATE TABLE NAME\n",
    "\n",
    "    ### Was ist der Unterschied zwischen DELETE FROM table und DROP TABLE?\n",
    "\n",
    "    - [x] DELETE löscht nur Daten, DROP löscht die ganze Tabelle\n",
    "    - [ ] Es gibt keinen Unterschied\n",
    "    - [x] DROP entfernt auch die Tabellenstruktur\n",
    "    - [ ] DELETE ist schneller\n",
    "\n",
    "    ### Welcher Fehler steckt in diesem ALTER-Statement?\n",
    "    ```sql\n",
    "    ALTER TABLE Points ADD COLUMN z REAL;\n",
    "    ```\n",
    "    *Angenommen, es gibt bereits Daten in der Tabelle*\n",
    "\n",
    "    - [ ] ADD COLUMN ist falsch\n",
    "    - [ ] REAL ist kein gültiger Datentyp  \n",
    "    - [x] Es fehlt ein DEFAULT-Wert für bestehende Zeilen\n",
    "    - [ ] Der Spaltenname z ist zu kurz\n",
    "\n",
    "    ### Sortiere diese Schritte zur sicheren Tabellenmodifikation:\n",
    "\n",
    "    1. Backup der Tabelle erstellen\n",
    "    2. ALTER-Statement planen\n",
    "    3. Änderung durchführen\n",
    "    4. Datenintegrität prüfen\n",
    "```"
   ]
  },
  {
   "cell_type": "markdown",
   "metadata": {
    "editable": true,
    "slideshow": {
     "slide_type": "slide"
    },
    "tags": [
     "remove-cell"
    ]
   },
   "source": [
    "<div class=\"vslide\">\n",
    "  <div class=\"vslide-title\">\n",
    "    <p style=\"font-family: Protomolecule; font-size: 2.3em; margin: 0px auto; text-align: center; width: 100%;\">fragen?</p>\n",
    "  </div>\n",
    "  <script>setSectionBackground('#000000', 'images/mj_questions.mp4');</script>\n",
    "</div>"
   ]
  }
 ],
 "metadata": {
  "kernelspec": {
   "display_name": "Python 3 (ipykernel)",
   "language": "python",
   "name": "python3"
  },
  "language_info": {
   "codemirror_mode": {
    "name": "ipython",
    "version": 3
   },
   "file_extension": ".py",
   "mimetype": "text/x-python",
   "name": "python",
   "nbconvert_exporter": "python",
   "pygments_lexer": "ipython3",
   "version": "3.12.10"
  },
  "rise": {
   "auto_select": "none",
   "center": false,
   "enable_chalkboard": true,
   "header": "<img src=\"images/pd_logo.svg\" class=\"header_title_logo\"><img src=\"images/ai4sc_logo_v2.svg\" class=\"header_ai4sc_logo\">",
   "scroll": true,
   "show_buttons_on_startup": false,
   "slideNumber": true,
   "theme": "white"
  },
  "vscode": {
   "interpreter": {
    "hash": "c6f6ea9c9385f57658f4c302ffd3b717b6cd59b095fbd1c55795f0b67656eecd"
   }
  }
 },
 "nbformat": 4,
 "nbformat_minor": 4
}
