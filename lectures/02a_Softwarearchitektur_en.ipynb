{
 "cells": [
  {
   "cell_type": "markdown",
   "id": "9f425d98-ff8b-452a-aec5-69f93dde62d8",
   "metadata": {
    "editable": true,
    "slideshow": {
     "slide_type": "slide"
    },
    "tags": [
     "remove-cell",
     "translated_en"
    ],
    "translation": {
     "lang": "de",
     "src_hash": "ec41d577bf19a65b3b559c46799d75f009745ef02c4bdb62f8430a25c3393342",
     "updated_at_iso": "2025-08-16T09:31:01.972319+00:00"
    }
   },
   "source": [
    "<div class=\"vslide\">\n",
    "  <div class=\"vslide-title\">\n",
    "    <p style=\"font-family: Protomolecule; font-size: 2.3em; line-height: 90%; margin: 0px auto; text-align: center; width: 100%;\"><span style=\"letter-spacing: .04rem;\">Programming</span><br><span style=\"letter-spacing: .0rem;\">and databases</span></p>\n",
    "<p class=\"author\" style=\"font-family: Protomolecule; margin: 0px auto;  text-align: center; width: 100%; font-size: 1.2em;\">Joern Ploennigs</p>\n",
    "<p class=\"subtitle\" style=\"font-family: Protomolecule; margin: 1em auto; text-align: center; width: 100%; font-size: 1.2em;\">Software Architecture</p>\n",
    "    <figcaption class=\"mj-slide-cap\">Midjourney: Soft Architecture</figcaption>\n",
    "  </div>\n",
    "<script>\n",
    "  function setSectionBackground(c,v){\n",
    "    let e=document.currentScript.previousElementSibling;\n",
    "    while(e&&e.tagName!=='SECTION')e=e.parentElement;\n",
    "    if(e){\n",
    "      if(c)e.setAttribute('data-background-color',c);\n",
    "      if(v){\n",
    "        e.setAttribute('data-background-video',v);\n",
    "        e.setAttribute('data-background-video-loop','true');\n",
    "        e.setAttribute('data-background-video-muted','true');\n",
    "      }\n",
    "    }\n",
    "  }\n",
    "  setSectionBackground('#000000', 'images/02a_Softwarearchitektur/mj_title.mp4');\n",
    "</script>\n",
    "<style>\n",
    ".flex-row{display:flex; gap:2rem; align-items:flex-start; justify-content:space-between;}\n",
    ".flex-row .col1{flex:1; min-width:10px}\n",
    ".flex-row .col2{flex:2; min-width:10px}\n",
    ".flex-row .col3{flex:3; min-width:10px}\n",
    ".flex-row .col4{flex:4; min-width:10px}\n",
    ".flex-row .col5{flex:5; min-width:10px}\n",
    ".flex-row .col6{flex:6; min-width:10px}\n",
    ".flex-row .col7{flex:7; min-width:10px}\n",
    ".vcent{display:flex; align-items:center; justify-content:center}\n",
    "</style>\n",
    "</div>"
   ]
  },
  {
   "cell_type": "markdown",
   "id": "948875af",
   "metadata": {
    "editable": true,
    "slideshow": {
     "slide_type": "skip"
    },
    "tags": [
     "translated_en"
    ],
    "translation": {
     "lang": "de",
     "src_hash": "7ca4de49b2390f844ef562653ab682197c1a0d3f1d63cd3c79e2a2476100c500",
     "updated_at_iso": "2025-08-16T09:31:03.968397+00:00"
    }
   },
   "source": [
    "# Software architecture"
   ]
  },
  {
   "cell_type": "markdown",
   "id": "9ae339a8-3e41-4515-a74a-c9d70fdc4186",
   "metadata": {
    "editable": true,
    "raw_mimetype": "",
    "slideshow": {
     "slide_type": "skip"
    },
    "tags": [
     "translated_en"
    ],
    "translation": {
     "lang": "de",
     "src_hash": "66dcf53a39ddf0919b4aae83e89be59d0648213ab747d5bdece36002ca0b946e",
     "updated_at_iso": "2025-08-16T09:31:07.325363+00:00"
    }
   },
   "source": [
    "<figure class=\"mj-tile-band\">\n",
    "<img src='images/02a_Softwarearchitektur/mj_title_band.jpg'>\n",
    "<figcaption>Midjourney: Soft Architecture</figcaption>\n",
    "</figure>\n",
    "\n",
    "> Good architecture is not just about structure - it’s about intention. In code as in buildings, clarity and purpose leave the longest legacy\n",
    "> \n",
    "> — Louis Kahn"
   ]
  },
  {
   "cell_type": "markdown",
   "id": "554b63b9-c908-4a46-9157-6928f4cfbd28",
   "metadata": {
    "editable": true,
    "slideshow": {
     "slide_type": "skip"
    },
    "tags": [
     "translated_en"
    ],
    "translation": {
     "lang": "de",
     "src_hash": "96d8133a8139caecdb06a774987a03f40381773a5028f5973d9611d94127a077",
     "updated_at_iso": "2025-08-16T09:31:11.783603+00:00"
    }
   },
   "source": [
    "## <a href=\"../lec_slides/02a_Softwarearchitektur.slides.html\">Slides</a>/<a href=\"../pdf/slides/02a_Softwarearchitektur.pdf\">PDF</a>\n",
    "<iframe src=\"../lec_slides/02a_Softwarearchitektur.slides.html\" width=\"750\" height=\"500\"></iframe>"
   ]
  },
  {
   "cell_type": "markdown",
   "id": "98411366",
   "metadata": {
    "slideshow": {
     "slide_type": "subslide"
    },
    "tags": [
     "remove-cell",
     "translated_en"
    ],
    "translation": {
     "lang": "de",
     "src_hash": "1fdb945a74a30b3d000b155ce78ba995f95e341000b0c2590333c16bceac68d6",
     "updated_at_iso": "2025-08-16T09:31:20.694067+00:00"
    }
   },
   "source": [
    "## Recap: In-class Question\n",
    "\n",
    "<script>setSectionBackground('#FFD966');</script>\n",
    "<div class=\"flex-row\">\n",
    "  <div class=\"col4 vcent\">\n",
    "\n",
    "What is 'computer science'?\n",
    " \n",
    "  </div>\n",
    "  <div class=\"col6\"> \n",
    "    <figure class=\"mj-fig\">\n",
    "        <img src=\"images/01a_Ueberblick/dijkstra.jpg\" class=\"mj-fig-img\">\n",
    "        <figcaption class=\"mj-fig-cap\">\n",
    "            \"Computer science is no more about computers than astronomy is about telescopes.\" — Edsger W. Dijkstra\n",
    "        </figcaption>\n",
    "    </figure>\n",
    "  </div>\n",
    "</div>"
   ]
  },
  {
   "cell_type": "markdown",
   "id": "ba0a71ae",
   "metadata": {
    "slideshow": {
     "slide_type": "subslide"
    },
    "tags": [
     "remove-cell",
     "translated_en"
    ],
    "translation": {
     "lang": "de",
     "src_hash": "4228bc6c52c67209ccb23006e7f7f171f39b84dee0ca7dc010aa92a755334573",
     "updated_at_iso": "2025-08-16T09:31:25.925361+00:00"
    }
   },
   "source": [
    "## Review: Definition - Computer Science\n",
    "\n",
    "<script>setSectionBackground('#FFD966');</script>\n",
    "<div class=\"alert alert-block alert-success\">\n",
    "<b>📘 Definition: Computer Science</b>\n",
    "\n",
    "Computer science is the science of the systematic processing of information.\n",
    "\n",
    "Origin: Mathematics (logic, algorithms) + Electrical Engineering (hardware)\n",
    "</div>"
   ]
  },
  {
   "cell_type": "markdown",
   "id": "2898887f",
   "metadata": {
    "slideshow": {
     "slide_type": "subslide"
    },
    "tags": [
     "remove-cell",
     "translated_en"
    ],
    "translation": {
     "lang": "de",
     "src_hash": "c77f73b43e0376495ac0269a5bff9d0949e464fbae268c62d2b1e6f0b5be475c",
     "updated_at_iso": "2025-08-16T09:31:31.421657+00:00"
    }
   },
   "source": [
    "## Review: Lecture Hall Question\n",
    "\n",
    "<script>setSectionBackground('#FFD966');</script>\n",
    "<div class=\"flex-row\">\n",
    "  <div class=\"col4 vcent\">\n",
    "\n",
    "What hardware makes up a computer? \n",
    " \n",
    "  </div>\n",
    "  <div class=\"col6\"> \n",
    "    <figure class=\"mj-fig\">\n",
    "        <img src=\"images/01c_Computerhardware/image_4.jpg\" class=\"mj-fig-img\">\n",
    "        <figcaption class=\"mj-fig-cap\">\n",
    "            DALL-E 2: Early designs of the iPhone by Leonardo da Vinci\n",
    "        </figcaption>\n",
    "    </figure>\n",
    "  </div>\n",
    "</div>"
   ]
  },
  {
   "cell_type": "markdown",
   "id": "417a8446",
   "metadata": {
    "slideshow": {
     "slide_type": "subslide"
    },
    "tags": [
     "remove-cell",
     "translated_en"
    ],
    "translation": {
     "lang": "de",
     "src_hash": "a4d28772aa31f49d569cf99a51e37a6f2a745dd7e1d90e7caa1a82e21447d62d",
     "updated_at_iso": "2025-08-16T09:31:36.376180+00:00"
    }
   },
   "source": [
    "## Recap: Computer Hardware\n",
    "\n",
    "<script>setSectionBackground('#FFD966');</script>\n",
    "<img src=\"images/01c_Computerhardware/computer_hardware2.svg\" style=\"width: 60%; display: block; margin: 0 auto;\" alt=\"Image\">"
   ]
  },
  {
   "cell_type": "markdown",
   "id": "6e9ba359",
   "metadata": {
    "slideshow": {
     "slide_type": "subslide"
    },
    "tags": [
     "remove-cell",
     "translated_en"
    ],
    "translation": {
     "lang": "de",
     "src_hash": "47f5239bf65086c2f6c4b8378a5f1341b284a284d2f89280eeca60144a24c2a0",
     "updated_at_iso": "2025-08-16T09:31:41.767076+00:00"
    }
   },
   "source": [
    "## Recap: In-Class Question\n",
    "\n",
    "<script>setSectionBackground('#FFD966');</script>\n",
    "<div class=\"flex-row\">\n",
    "  <div class=\"col4 vcent\">\n",
    "\n",
    "What are binary numbers?\n",
    " \n",
    "  </div>\n",
    "  <div class=\"col6\"> \n",
    "    <figure class=\"mj-fig\">\n",
    "        <img src=\"images/02a_Softwarearchitektur/mj_datariver.png\" class=\"mj-fig-img\">\n",
    "        <figcaption class=\"mj-fig-cap\">\n",
    "            DALL·E 2: River of data flowing between computers in matrix style\n",
    "        </figcaption>\n",
    "    </figure>\n",
    "  </div>\n",
    "</div>"
   ]
  },
  {
   "cell_type": "markdown",
   "id": "1d2d8888",
   "metadata": {
    "slideshow": {
     "slide_type": "subslide"
    },
    "tags": [
     "remove-cell",
     "translated_en"
    ],
    "translation": {
     "lang": "de",
     "src_hash": "eceabb596b843504e51cbd546a961f71e4168668e31dd47ddb7ad860bd099ec5",
     "updated_at_iso": "2025-08-16T09:31:50.377797+00:00"
    }
   },
   "source": [
    "## Binary Numbers\n",
    "\n",
    "<script>setSectionBackground('#FFD966');</script>\n",
    "\n",
    "- Computers store, process, and communicate data as binary numbers, because transistors in a logic gate can only perform logical operations.\n",
    "- binarius – twofold, double\n",
    "- The smallest possible (useful) character set\n",
    "\n",
    "- Possible representations of binary code:\n",
    "  - 0 / 1\n",
    "  - False / True\n",
    "  - Off / On"
   ]
  },
  {
   "cell_type": "markdown",
   "id": "5f1c64ce",
   "metadata": {
    "editable": true,
    "slideshow": {
     "slide_type": "slide"
    },
    "tags": [
     "remove-cell",
     "translated_en"
    ],
    "translation": {
     "lang": "de",
     "src_hash": "7de898e41c28575b1cc285ef0a4fa78e45b97631311e80d15d592d5315ba0d5a",
     "updated_at_iso": "2025-08-16T09:31:53.171013+00:00"
    }
   },
   "source": [
    "## Process\n",
    "\n",
    "![](images/partA_2.svg)"
   ]
  },
  {
   "cell_type": "markdown",
   "id": "4a3d513a",
   "metadata": {
    "editable": true,
    "slideshow": {
     "slide_type": "slide"
    },
    "tags": [
     "remove-cell",
     "translated_en"
    ],
    "translation": {
     "lang": "de",
     "src_hash": "a455f3728afd91781873bdc8aa359bf788dac745119b064ab4fda495bf8313ae",
     "updated_at_iso": "2025-08-16T09:32:00.320091+00:00"
    }
   },
   "source": [
    "## Monolithic, machine-oriented software before 1950\n",
    "\n",
    "<div class=\"flex-row\">\n",
    "  <div class=\"col1\">\n",
    "    <ul>\n",
    "      <li>The first programs were written directly in binary machine code.</li>\n",
    "      <li>The software was monolithic, i.e., there was no separation of functionalities.</li>\n",
    "      <li>The software was tightly bound to the hardware.</li>\n",
    "      <li style=\"color: orange\">Problem: Changes to the hardware often required a complete reprogramming.</li>\n",
    "    </ul>\n",
    "  </div>\n",
    "  <div class=\"col1\">\n",
    "    <img src=\"images/02a_Softwarearchitektur/archi_1.svg\" alt=\"Monolithic software\">\n",
    "  </div>\n",
    "</div>"
   ]
  },
  {
   "cell_type": "markdown",
   "id": "45d58d34-23e5-4479-9c15-79585575e5d8",
   "metadata": {
    "editable": true,
    "slideshow": {
     "slide_type": "skip"
    },
    "tags": [
     "translated_en"
    ],
    "translation": {
     "lang": "de",
     "src_hash": "16187181c583d87a40bbb5e88fe4a6235e799c4966a9bfffd73a7bd06dfe2e45",
     "updated_at_iso": "2025-08-16T09:32:10.246342+00:00"
    }
   },
   "source": [
    "## Monolithic, machine-oriented software before 1950\n",
    "\n",
    "<div class=\"flex-row\">\n",
    "  <div class=\"col1\">\n",
    "Over the years, software architectures have adapted to modern requirements. As a result, new programming languages and software architectures have also developed. The first programs were written directly in binary machine code. This code was written with specialized machines that communicated directly with the hardware. The software was monolithic, i.e., there was no separation of functionality. All functions were combined in a single program. This software was tightly bound to the hardware, which meant that it ran only on a specific hardware platform.\n",
    "\n",
    "Problem: The problem arose that programs for new hardware typically had to be completely rewritten or heavily modified.\n",
    "  </div>\n",
    "  <div class=\"col1\">\n",
    "    <img src=\"images/02a_Softwarearchitektur/archi_1.svg\" alt=\"Monolithic software\">\n",
    "  </div>\n",
    "</div>"
   ]
  },
  {
   "cell_type": "markdown",
   "id": "25162f80",
   "metadata": {
    "editable": true,
    "slideshow": {
     "slide_type": "subslide"
    },
    "tags": [
     "remove-cell",
     "translated_en"
    ],
    "translation": {
     "lang": "de",
     "src_hash": "7e34ada4758ec70be5029fad2fe8106d5ebb9ad79aaa1f60c5f394c1fa48f0e7",
     "updated_at_iso": "2025-08-16T09:32:22.690859+00:00"
    }
   },
   "source": [
    "## Division into operating systems and monolithic software since 1960\n",
    "\n",
    "<div class=\"flex-row\">\n",
    "  <div class=\"col1\">\n",
    "    <ul>\n",
    "      <li>Operating systems were introduced to abstract the hardware.</li>\n",
    "      <li>Operating systems abstract standard tasks (e.g., file management).</li>\n",
    "      <li>Hardware is abstracted by drivers.</li>\n",
    "      <li>Changes to hardware require only new drivers.</li>\n",
    "      <li style=\"color: orange\">Problem: Programs are still hard to write because they are very low-level and require a deep understanding of hardware functions.</li>\n",
    "    </ul>\n",
    "  </div>\n",
    "  <div class=\"col1\">\n",
    "    <img src=\"images/02a_Softwarearchitektur/archi_3.svg\" alt=\"Operating systems\">\n",
    "  </div>\n",
    "</div>"
   ]
  },
  {
   "cell_type": "markdown",
   "id": "689cfa33-cc8e-4dcb-9c32-01a2a08a4b10",
   "metadata": {
    "editable": true,
    "slideshow": {
     "slide_type": "skip"
    },
    "tags": [
     "translated_en"
    ],
    "translation": {
     "lang": "de",
     "src_hash": "9193d84fb32ebf5ff74f147ffa9d7a4fc9348d70d0834cf15b89a4b6740ad66b",
     "updated_at_iso": "2025-08-16T09:32:33.295562+00:00"
    }
   },
   "source": [
    "## Division into Operating Systems and Monolithic Software from around 1960\n",
    "\n",
    "<div class=\"flex-row\">\n",
    "  <div class=\"col1\">\n",
    "Operating systems were introduced to fulfill standard tasks (file management, memory management, display, etc.) and to abstract the hardware. This is done through hardware-specific drivers. This means that with new hardware, only the driver needs to be replaced, which provides the same functions as the old driver. The program does not need to be modified.\n",
    "\n",
    "Problem: The programs are very hard to write because they require a very good understanding of the hardware, the drivers, and the operating system functions. They are very low-level and offer little abstraction.\n",
    "  </div>\n",
    "  <div class=\"col1\">\n",
    "    <img src=\"images/02a_Softwarearchitektur/archi_3.svg\" alt=\"Operating Systems\">\n",
    "  </div>\n",
    "</div>"
   ]
  },
  {
   "cell_type": "markdown",
   "id": "4296ae97",
   "metadata": {
    "editable": true,
    "slideshow": {
     "slide_type": "subslide"
    },
    "tags": [
     "remove-cell",
     "translated_en"
    ],
    "translation": {
     "lang": "de",
     "src_hash": "7ee7bef88c4d38c0c5390f9231301dc6c1a4e7933fabff8b2e87c7a7cd0c0401",
     "updated_at_iso": "2025-08-16T09:32:42.628893+00:00"
    }
   },
   "source": [
    "## Introduction of higher programming languages in 1970\n",
    "\n",
    "<div class=\"flex-row\">\n",
    "  <div class=\"col1\">\n",
    "    <ul>\n",
    "      <li>To simplify programming, higher-level programming languages were introduced.</li>\n",
    "      <li>Higher-level programming languages must be translated into machine code by compilers.</li>\n",
    "      <li>Higher-level programming languages are usually closer to natural language.</li>\n",
    "      <li style=\"color: orange\">Problem: Switching between operating systems requires at least a recompilation, usually a rewrite.</li>\n",
    "    </ul>\n",
    "  </div>\n",
    "  <div class=\"col1\">\n",
    "    <img src=\"images/02a_Softwarearchitektur/archi_5.svg\" alt=\"Higher-level programming languages\">\n",
    "  </div>\n",
    "</div>"
   ]
  },
  {
   "cell_type": "markdown",
   "id": "0426581c-7d0b-495a-8f59-30700ab68369",
   "metadata": {
    "editable": true,
    "slideshow": {
     "slide_type": "skip"
    },
    "tags": [
     "translated_en"
    ],
    "translation": {
     "lang": "de",
     "src_hash": "43d123cc0785a2a67b3805c34ca5e633ef99773243cd12ec6dc90a760b02c3dc",
     "updated_at_iso": "2025-08-16T09:32:56.444266+00:00"
    }
   },
   "source": [
    "## Development of higher-level programming languages from around 1970\n",
    "\n",
    "<div class=\"flex-row\">\n",
    "  <div class=\"col1\">\n",
    "To simplify programming, higher-level programming languages were introduced that use more 'natural-language-like' commands. They must be translated into machine language by compilers or interpreters. They are, however, specific to the operating system and the drivers used to access their specific functions. This means that programs written for a particular operating system and drivers cannot easily run on another operating system.\n",
    "\n",
    "Problem: When operating systems change, programs do not run and must either be recompiled or rewritten.\n",
    "    </ul>\n",
    "  </div>\n",
    "  <div class=\"col1\">\n",
    "    <img src=\"images/02a_Softwarearchitektur/archi_5.svg\" alt=\"Higher-level programming languages\">\n",
    "  </div>\n",
    "</div>"
   ]
  },
  {
   "cell_type": "markdown",
   "id": "cea62fdb",
   "metadata": {
    "editable": true,
    "slideshow": {
     "slide_type": "subslide"
    },
    "tags": [
     "remove-cell",
     "translated_en"
    ],
    "translation": {
     "lang": "de",
     "src_hash": "eb4f271abf521334fdd3b9c9e7525ffcc671b44f9a2d5e2f0ddb530b606411da",
     "updated_at_iso": "2025-08-16T09:33:06.331881+00:00"
    }
   },
   "source": [
    "## Virtualization of Monolithic Software since 1995\n",
    "\n",
    "<div class=\"flex-row\">\n",
    "  <div class=\"col1\">\n",
    "    <ul>\n",
    "      <li>Virtual runtime environments abstract away the operating systems.</li>\n",
    "      <li>Virtual runtime environments compile code in real time (Java) or interpret it (Python).</li>\n",
    "      <li style=\"color: orange\">Problem: With the Internet, the demand to access content on mobile devices emerged.</li>\n",
    "    </ul>\n",
    "  </div>\n",
    "  <div class=\"col1\">\n",
    "    <img src=\"images/02a_Softwarearchitektur/archi_7.svg\" alt=\"Virtualization\">\n",
    "  </div>\n",
    "</div>"
   ]
  },
  {
   "cell_type": "markdown",
   "id": "b8378cdf-4949-4008-9485-ab0a6bba3c50",
   "metadata": {
    "editable": true,
    "slideshow": {
     "slide_type": "skip"
    },
    "tags": [
     "translated_en"
    ],
    "translation": {
     "lang": "de",
     "src_hash": "47f711cab152ccfd5b8a787f0ba52c2f4f9c6682e911d8e1d07bfd9d924c0870",
     "updated_at_iso": "2025-08-16T09:33:17.765052+00:00"
    }
   },
   "source": [
    "## Virtualization of Monolithic Software Starting Around 1995\n",
    "\n",
    "<div class=\"flex-row\">\n",
    "  <div class=\"col1\">\n",
    "To reduce dependence on operating systems, virtual runtime environments were introduced. They abstract the operating systems and enable code to be compiled in real time (e.g., Java) or interpreted (e.g., Python). This allows programs to run on different operating systems without being rewritten.\n",
    "\n",
    "This also made it easier to develop new operating systems, which is why Android and iOS for mobile devices emerged, devices that rely heavily on virtualization.\n",
    "\n",
    "Problem: With the Internet, the need arose not only to share text and images, but also to dynamically adapt content on web pages and run smaller (to larger) programs. To access the data from different devices, a central point is needed to store the data and perform more complex computations.\n",
    "  </div>\n",
    "  <div class=\"col1\">\n",
    "    <img src=\"images/02a_Softwarearchitektur/archi_7.svg\" alt=\"Virtualization\">\n",
    "  </div>\n",
    "</div>"
   ]
  },
  {
   "cell_type": "markdown",
   "id": "7d367b34",
   "metadata": {
    "editable": true,
    "slideshow": {
     "slide_type": "subslide"
    },
    "tags": [
     "remove-cell",
     "translated_en"
    ],
    "translation": {
     "lang": "de",
     "src_hash": "cbdb69283aeb953b61ec5bd9a18699e7d48e17acd49c3624caadc6c7983ca041",
     "updated_at_iso": "2025-08-16T09:33:32.123804+00:00"
    }
   },
   "source": [
    "## Distributed, Virtualized Software on the Internet Since 2000\n",
    "\n",
    "<div class=\"flex-row\">\n",
    "  <div class=\"col1\">\n",
    "    <ul>\n",
    "      <li>Backend web servers make the web pages available</li>\n",
    "      <li>Separate database servers manage the long-term data</li>\n",
    "      <li>Frontend apps visualize the content</li>\n",
    "      <li>Frontend apps interact with users</li>\n",
    "      <li>Frontend apps perform only lightweight computations</li>\n",
    "      <li style=\"color: orange\">Problem: On the Internet, a large number of users often access the same servers (pages) simultaneously. To avoid overloading them, ways were needed to rapidly replicate them on demand.</li>\n",
    "    </ul>\n",
    "  </div>\n",
    "  <div class=\"col1\">\n",
    "    <img src=\"images/02a_Softwarearchitektur/archi_8.svg\" alt=\"Distributed software\">\n",
    "  </div>\n",
    "</div>"
   ]
  },
  {
   "cell_type": "markdown",
   "id": "fb101ace-e6e3-4c6b-a899-f2373bacf5e6",
   "metadata": {
    "editable": true,
    "slideshow": {
     "slide_type": "skip"
    },
    "tags": [
     "translated_en"
    ],
    "translation": {
     "lang": "de",
     "src_hash": "00d4f838f60154c53854cb62a6348ebcc4454378418d28baebee86adb93dd733",
     "updated_at_iso": "2025-08-16T09:33:46.551028+00:00"
    }
   },
   "source": [
    "## Distributed, Virtualized Software on the Internet from around 2000\n",
    "\n",
    "<div class=\"flex-row\">\n",
    "  <div class=\"col1\">\n",
    "On the Internet, traditional monolithic software applications that ran on a single computer no longer worked well. There arose a need for applications that could run on multiple, partly mobile devices and use the same data. For this, distributed software architecture was developed. \n",
    "\n",
    "This architecture separates the frontend applications from the backend servers. The frontend applications are responsible for presenting content and interacting with users, while the backend servers provide the web pages and manage long-term data in databases. This separation makes it possible for frontend applications (websites or apps) to visualize the content and interact with users without needing direct access to the databases.\n",
    "\n",
    "Problem: On the Internet, many users often access the same servers (pages) simultaneously. To avoid overloading them, ways to duplicate these on demand quickly were needed. With the development of mobile devices (smartphones, tablets, etc.), there were increasingly many relatively small specialized applications (apps). Here the demand for computing capacity can grow dynamically and quickly, and dynamically scalable servers were also needed.\n",
    "  </div>\n",
    "  <div class=\"col1\">\n",
    "    <img src=\"images/02a_Softwarearchitektur/archi_8.svg\" alt=\"Distributed software\">\n",
    "  </div>\n",
    "</div>"
   ]
  },
  {
   "cell_type": "markdown",
   "id": "fa9a9d74",
   "metadata": {
    "editable": true,
    "slideshow": {
     "slide_type": "subslide"
    },
    "tags": [
     "remove-cell",
     "translated_en"
    ],
    "translation": {
     "lang": "de",
     "src_hash": "ffebd20bfad9c8297aba2c25c3d19874f90144f635b05b8e90e5422d309ebb01",
     "updated_at_iso": "2025-08-16T09:33:55.773293+00:00"
    }
   },
   "source": [
    "## Distributed, Virtualized Apps and Cloud Software since the 2010s\n",
    "\n",
    "<div class=\"flex-row\">\n",
    "  <div class=\"col1\">\n",
    "    <ul>\n",
    "      <li>Operating systems and applications are packaged into images.</li>\n",
    "      <li>Images can be rapidly distributed across servers.</li>\n",
    "      <li>As a result, servers can be quickly brought up on demand to handle traffic surges.</li>\n",
    "      <li>Apps and websites completely replace traditional monolithic applications.</li>\n",
    "      <li>As a result, data rarely reside on a single machine.</li>\n",
    "      <li style=\"color: orange\">Problem: On the Internet, many users often access the same servers (pages) simultaneously. To avoid overloading them, ways to quickly duplicate them on demand were needed.</li>\n",
    "    </ul>\n",
    "  </div>\n",
    "  <div class=\"col1\">\n",
    "    <img src=\"images/02a_Softwarearchitektur/archi_10.svg\" alt=\"Images and cloud software\">\n",
    "  </div>\n",
    "</div>"
   ]
  },
  {
   "cell_type": "markdown",
   "id": "127396e1-5840-4026-b777-5b2f291a5eab",
   "metadata": {
    "editable": true,
    "slideshow": {
     "slide_type": "skip"
    },
    "tags": [
     "translated_en"
    ],
    "translation": {
     "lang": "de",
     "src_hash": "f7511a72cfc0e7e8207aeba9f1fcc9e27e74e55db5ab60445fc6f608695be426",
     "updated_at_iso": "2025-08-16T09:34:11.474218+00:00"
    }
   },
   "source": [
    "## Distributed, Virtualized Apps and Cloud Software from around 2010\n",
    "\n",
    "<div class=\"flex-row\">\n",
    "  <div class=\"col1\">\n",
    "Apps and websites completely replace traditional monolithic programs. They no longer run entirely on a single computer, but have user interfaces on mobile devices and data in the cloud. This also requires improving the scalability and flexibility of Internet applications to respond quickly to high user volumes. To scale web servers and cloud computations more effectively, programs with the operating system are packaged into images and hardware is virtualized. This enables distributing programs with the complete operating system across many machines very quickly.\n",
    "\n",
    "Problem: The resulting modern distributed applications exhibit very high complexity. There are many specialized programming languages and sub-architectures to solve individual problems within them.\n",
    "  </div>\n",
    "  <div class=\"col1\">\n",
    "    <img src=\"images/02a_Softwarearchitektur/archi_10.svg\" alt=\"Images and Cloud Software\">\n",
    "  </div>\n",
    "</div>"
   ]
  },
  {
   "cell_type": "markdown",
   "id": "6b49a962",
   "metadata": {
    "editable": true,
    "slideshow": {
     "slide_type": "slide"
    },
    "tags": [
     "translated_en"
    ],
    "translation": {
     "lang": "de",
     "src_hash": "420df1a4033ba2457b8ea097f2fbb5b6f1f6c4625c5b0abe8cb376367f33cb2d",
     "updated_at_iso": "2025-08-16T09:34:16.928309+00:00"
    }
   },
   "source": [
    "## Classification of Programming Languages by Historical Usage\n",
    "\n",
    "Programming languages have evolved over time in line with architectures. Consequently, the popular programming languages have changed over the years.\n",
    "\n",
    "![Classification of Programming Languages](images/02a_Softwarearchitektur/archi_11.svg)"
   ]
  },
  {
   "cell_type": "markdown",
   "id": "1a1b7747-359c-42b3-bd72-48ae17ecc042",
   "metadata": {
    "slideshow": {
     "slide_type": "skip"
    },
    "tags": [
     "translated_en"
    ],
    "translation": {
     "lang": "de",
     "src_hash": "1e73554fb10f70acc72066fa231fc17482459b0b9374a9d581347c32fe9f2fd7",
     "updated_at_iso": "2025-08-16T09:34:36.388737+00:00"
    }
   },
   "source": [
    "## Quiz\n",
    "\n",
    "\n",
    "```{quizdown}\n",
    "    ---\n",
    "    shuffleQuestions: true\n",
    "    shuffleAnswers: true\n",
    "    ---\n",
    "\n",
    "    ### What was typical for software before 1950?\n",
    "    - [x] Directly written in binary machine code  \n",
    "    - [x] Monolithic structure without functional separation  \n",
    "    - [x] Tight coupling to specific hardware  \n",
    "    - [ ] Use of cloud-based microservices\n",
    "\n",
    "    ### What main problem arose from the tight coupling of software and hardware?\n",
    "    - [x] Changes to hardware often required a complete reprogramming  \n",
    "    - [ ] Software was not executable  \n",
    "    - [ ] It was not possible to use memory  \n",
    "    - [ ] Software was too slow for deployment\n",
    "\n",
    "    ### Why were operating systems introduced from the 1960s onwards?\n",
    "    - [x] To abstract hardware functions  \n",
    "    - [x] To take over standard tasks such as file management  \n",
    "    - [ ] To completely replace hardware  \n",
    "    - [ ] To make games more efficient\n",
    "\n",
    "    ### What role do drivers play in modern operating systems?\n",
    "    - [x] They allow hardware to be exchanged without changing the program  \n",
    "    - [ ] They store programs in RAM  \n",
    "    - [ ] They provide the GUI  \n",
    "    - [ ] They are optional for hardware control\n",
    "\n",
    "    ### Why were higher programming languages introduced?\n",
    "    - [x] To simplify programming  \n",
    "    - [ ] To write machine code directly  \n",
    "    - [x] To make programs more human-readable  \n",
    "    - [ ] To avoid compilers\n",
    "\n",
    "    ### What is a disadvantage of higher programming languages?\n",
    "    - [x] Programs must be recompiled or rewritten for each operating system  \n",
    "    - [ ] They cannot process numbers  \n",
    "    - [ ] They are too close to the hardware  \n",
    "    - [ ] They do not work on modern computers\n",
    "\n",
    "    ### What task do virtual runtime environments perform?\n",
    "    - [x] They abstraхt the operating system  \n",
    "    - [x] They interpret or compile code at runtime  \n",
    "    - [ ] They completely replace the compiler  \n",
    "    - [ ] They manage file access over the network\n",
    "\n",
    "    ### Why did the need for virtualization rise from around 1995?\n",
    "    - [ ] Because servers stopped functioning  \n",
    "    - [x] Because content needed to be available over the Internet on mobile devices  \n",
    "    - [ ] Because there were no compilers anymore  \n",
    "    - [ ] Because operating systems were abolished\n",
    "\n",
    "    ### What tasks does the frontend handle in distributed web software?\n",
    "    - [x] Visualization of content  \n",
    "    - [x] Interaction with users  \n",
    "    - [ ] Management of long-term data  \n",
    "    - [ ] Control of server hardware\n",
    "\n",
    "    ### What challenge occurred with web servers handling many simultaneous users?\n",
    "    - [x] Risk of server overload  \n",
    "    - [ ] Security vulnerabilities in CSS  \n",
    "    - [x] Need for rapid scaling (scaling out)  \n",
    "    - [ ] No possibility of storing data\n",
    "\n",
    "    ### How do images help with scaling cloud applications?\n",
    "    - [x] Programs and operating systems are bundled  \n",
    "    - [x] They can be quickly distributed to servers  \n",
    "    - [ ] Images replace the user interface  \n",
    "    - [ ] They enable code analysis by AI\n",
    "\n",
    "    ### What is a feature of modern apps and cloud software?\n",
    "    - [ ] They are installed and run locally  \n",
    "    - [ ] They run only on one computer  \n",
    "    - [x] They are distributed and store data in the cloud  \n",
    "    - [x] They replace monolithic software\n",
    "\n",
    "    ### How do programming languages relate to software architecture?\n",
    "    - [x] They have evolved together with architectural patterns  \n",
    "    - [x] Popular languages depend on the type of architecture  \n",
    "    - [ ] They have no relation to architecture  \n",
    "    - [ ] Only object-oriented languages can be used\n",
    "\n",
    "```"
   ]
  },
  {
   "cell_type": "markdown",
   "id": "6b32d9cb",
   "metadata": {
    "editable": true,
    "slideshow": {
     "slide_type": "slide"
    },
    "tags": [
     "remove-cell",
     "translated_en"
    ],
    "translation": {
     "lang": "de",
     "src_hash": "c25076a964bd586ff0eab235a4779d625eb5ad068def549dbdf61d9537458627",
     "updated_at_iso": "2025-08-16T09:34:39.699172+00:00"
    }
   },
   "source": [
    "<div class=\"vslide\">\n",
    "  <div class=\"vslide-title\">\n",
    "    <p style=\"font-family: Protomolecule; font-size: 2.3em; margin: 0px auto; text-align: center; width: 100%;\">Questions?</p>\n",
    "  </div>\n",
    "<script>setSectionBackground('#000000', 'images/mj_questions3.mp4');</script>\n",
    "</div>"
   ]
  }
 ],
 "metadata": {
  "kernelspec": {
   "display_name": "Python 3 (ipykernel)",
   "language": "python",
   "name": "python3"
  },
  "language_info": {
   "codemirror_mode": {
    "name": "ipython",
    "version": 3
   },
   "file_extension": ".py",
   "mimetype": "text/x-python",
   "name": "python",
   "nbconvert_exporter": "python",
   "pygments_lexer": "ipython3",
   "version": "3.12.10"
  },
  "rise": {
   "auto_select": "none",
   "center": false,
   "enable_chalkboard": true,
   "header": "<img src=\"images/pd_logo.svg\" class=\"header_title_logo\"><img src=\"images/ai4sc_logo_v2.svg\" class=\"header_ai4sc_logo\">",
   "scroll": true,
   "show_buttons_on_startup": false,
   "slideNumber": true,
   "theme": "white"
  }
 },
 "nbformat": 4,
 "nbformat_minor": 5
}
