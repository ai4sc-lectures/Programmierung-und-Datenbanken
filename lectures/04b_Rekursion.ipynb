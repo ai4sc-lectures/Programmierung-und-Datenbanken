{
 "cells": [
  {
   "cell_type": "markdown",
   "metadata": {
    "editable": true,
    "slideshow": {
     "slide_type": "skip"
    },
    "tags": []
   },
   "source": [
    "# Rekursive Funktionen"
   ]
  },
  {
   "cell_type": "markdown",
   "metadata": {
    "slideshow": {
     "slide_type": "skip"
    }
   },
   "source": [
    "<figure class=\"mj-tile-band\">\n",
    "    <img src='images/04b_Rekursion/mj_title_band.jpg'>\n",
    "    <figcaption>Midjourney: Fractal</figcaption>\n",
    "</figure>\n",
    "\n",
    "> History repeats itself, first as tragedy, second as farce.\n",
    ">\n",
    "> — Karl Marx"
   ]
  },
  {
   "cell_type": "markdown",
   "metadata": {
    "slideshow": {
     "slide_type": "skip"
    }
   },
   "source": [
    "## <a href=\"../lec_slides/04b_Rekursion.slides.html\">Folien</a>/<a href=\"../pdf/slides/04b_Rekursion.pdf\">PDF</a>\n",
    "<iframe src=\"../lec_slides/04b_Rekursion.slides.html\" width=\"750\" height=\"500\"></iframe>"
   ]
  },
  {
   "cell_type": "markdown",
   "metadata": {
    "slideshow": {
     "slide_type": "skip"
    }
   },
   "source": [
    "Rekursive Funktionen sind Funktionen, die sich selbst aufrufen. Als Rekursion (lateinisch recurrere 'zurücklaufen') wird ein unendlicher Vorgang, der sich selbst als Teil enthält oder mithilfe von sich selbst definierbar ist, bezeichnet. \n",
    "\n",
    "Rekursionen werden insbesondere bei Divide-and-Conquer-Algorithmen oder bei kombinatorischen Problemen verwendet."
   ]
  },
  {
   "cell_type": "markdown",
   "metadata": {
    "slideshow": {
     "slide_type": "skip"
    }
   },
   "source": [
    "Um in Python eine rekursive Funktion zu definieren, brauchen wir nur eine Funktion, die sich selbst aufruft."
   ]
  },
  {
   "cell_type": "code",
   "execution_count": 1,
   "metadata": {
    "slideshow": {
     "slide_type": "skip"
    }
   },
   "outputs": [],
   "source": [
    "def rekursive_funktion():\n",
    "\t# Statement\n",
    "\trekursive_funktion() # Wir rufen uns selbst (als funktion) nocheinmal auf"
   ]
  },
  {
   "cell_type": "markdown",
   "metadata": {
    "slideshow": {
     "slide_type": "skip"
    }
   },
   "source": [
    "Mit rekursiven Funktionen lassen sich zum Beispiel Schleifen implementieren."
   ]
  },
  {
   "cell_type": "code",
   "execution_count": 2,
   "metadata": {
    "slideshow": {
     "slide_type": "skip"
    }
   },
   "outputs": [],
   "source": [
    "def while_loop(n): # n als die maximale tiefe der rekursion\n",
    "\tif n > 0:\n",
    "\t\tprint(f\"Die Funktion wird rekursiv ausgeführt bis die Bedingung am Anfang der Schleife {n} > 0 wahr ist\")\n",
    "\t\twhile_loop(n - 1) # wir zählen die variable n runter"
   ]
  },
  {
   "cell_type": "markdown",
   "metadata": {
    "slideshow": {
     "slide_type": "skip"
    }
   },
   "source": [
    "Die rekursive Funktion wird 3-mal ausgeführt da die Bedingung wahr ist und wir bis 0 runter zählen. Genauso wie bei der While-Schleife."
   ]
  },
  {
   "cell_type": "code",
   "execution_count": 3,
   "metadata": {
    "slideshow": {
     "slide_type": "skip"
    }
   },
   "outputs": [
    {
     "name": "stdout",
     "output_type": "stream",
     "text": [
      "Die Funktion wird rekursiv ausgeführt bis die Bedingung am Anfang der Schleife 3 > 0 wahr ist\n",
      "Die Funktion wird rekursiv ausgeführt bis die Bedingung am Anfang der Schleife 2 > 0 wahr ist\n",
      "Die Funktion wird rekursiv ausgeführt bis die Bedingung am Anfang der Schleife 1 > 0 wahr ist\n"
     ]
    }
   ],
   "source": [
    "while_loop(3)"
   ]
  },
  {
   "cell_type": "markdown",
   "metadata": {
    "slideshow": {
     "slide_type": "skip"
    }
   },
   "source": [
    "Damit zeigt sich, dass sich Schleifen sich immer als Rekursion implementieren lassen. Etwas was funktionsorientierte Programmiersprachen nutzen, die nur Funktionen kennen."
   ]
  },
  {
   "cell_type": "markdown",
   "metadata": {
    "slideshow": {
     "slide_type": "skip"
    }
   },
   "source": [
    "## Beispiel Rekursiver Funktion - Fakultät"
   ]
  },
  {
   "cell_type": "markdown",
   "metadata": {
    "slideshow": {
     "slide_type": "skip"
    }
   },
   "source": [
    "Das Standardbeispiel einer rekursiven Funktion ist die Berechnung der Fakultät einer Zahl. Sie ist definiert als Produkt der natürlichen Zahlen von 1 bis $n$.\n",
    "\n",
    "$n! = 1 \\cdot 2 \\cdot 3 \\cdots n = \\prod_{k=1}^n k$"
   ]
  },
  {
   "cell_type": "code",
   "execution_count": 4,
   "metadata": {
    "slideshow": {
     "slide_type": "skip"
    }
   },
   "outputs": [],
   "source": [
    "def factorial_recursiv(x):\n",
    "    if x > 1:\n",
    "        return x * factorial_recursiv(x-1)\n",
    "    else:\n",
    "        return 1"
   ]
  },
  {
   "cell_type": "markdown",
   "metadata": {
    "slideshow": {
     "slide_type": "skip"
    }
   },
   "source": [
    "Die Fakultät der Zahl 10 ist definiert als:"
   ]
  },
  {
   "cell_type": "code",
   "execution_count": 5,
   "metadata": {
    "slideshow": {
     "slide_type": "skip"
    }
   },
   "outputs": [
    {
     "data": {
      "text/plain": [
       "3628800"
      ]
     },
     "execution_count": 5,
     "metadata": {},
     "output_type": "execute_result"
    }
   ],
   "source": [
    "10 * 9 * 8 * 7 * 6 * 5 * 4 * 3 * 2 * 1"
   ]
  },
  {
   "cell_type": "markdown",
   "metadata": {
    "slideshow": {
     "slide_type": "skip"
    }
   },
   "source": [
    "was identisch ist mit dem Ergebnis unserer Funktion"
   ]
  },
  {
   "cell_type": "code",
   "execution_count": 6,
   "metadata": {
    "slideshow": {
     "slide_type": "skip"
    }
   },
   "outputs": [
    {
     "data": {
      "text/plain": [
       "3628800"
      ]
     },
     "execution_count": 6,
     "metadata": {},
     "output_type": "execute_result"
    }
   ],
   "source": [
    "factorial_recursiv(10)"
   ]
  },
  {
   "cell_type": "markdown",
   "metadata": {
    "slideshow": {
     "slide_type": "skip"
    }
   },
   "source": [
    "Wenn wir die Funktion aufrufen, so ruft diese sich wiederholt selbst auf und zählt dabei von `x=10` runter bis zu 1. Jeder Funktionsaufruf kann dabei als Klammer gesehen werden, so dass am Ende die folgende Berechnung durchgeführt ist, die mit der obigen Berechnung übereinstimmt."
   ]
  },
  {
   "cell_type": "code",
   "execution_count": 7,
   "metadata": {
    "slideshow": {
     "slide_type": "skip"
    }
   },
   "outputs": [
    {
     "data": {
      "text/plain": [
       "3628800"
      ]
     },
     "execution_count": 7,
     "metadata": {},
     "output_type": "execute_result"
    }
   ],
   "source": [
    "10 * (9 * (8 * (7 * (6 * (5 * (4 * (3 * (2 * (1)))))))))"
   ]
  },
  {
   "cell_type": "markdown",
   "metadata": {
    "slideshow": {
     "slide_type": "skip"
    }
   },
   "source": [
    "Dieses einfache Beispiel kann auch durch eine Schleife implementiert werden."
   ]
  },
  {
   "cell_type": "code",
   "execution_count": 8,
   "metadata": {
    "slideshow": {
     "slide_type": "skip"
    }
   },
   "outputs": [],
   "source": [
    "def factorial_schleife(x):\n",
    "    res = x\n",
    "    i = x - 1\n",
    "    while i > 1:\n",
    "        res *= i\n",
    "        i -= 1\n",
    "    return res"
   ]
  },
  {
   "cell_type": "code",
   "execution_count": 9,
   "metadata": {
    "slideshow": {
     "slide_type": "skip"
    }
   },
   "outputs": [
    {
     "data": {
      "text/plain": [
       "3628800"
      ]
     },
     "execution_count": 9,
     "metadata": {},
     "output_type": "execute_result"
    }
   ],
   "source": [
    "factorial_schleife(10)"
   ]
  },
  {
   "cell_type": "markdown",
   "metadata": {
    "slideshow": {
     "slide_type": "skip"
    }
   },
   "source": [
    "Dies ist meist performanter, da Funktionen grundsätzlich etwas länger zum Ausführen brauchen, da sie ja z.B. ihr eigenen Variablenbereich haben und auf dem Stack laufen (siehe nächsten Abschnitt).\n",
    "\n",
    "Wir machen einmal einen Laufzeitvergleich mit der `timeit` Funktion des Jupyter Notebooks. Dies ruft die Funktion mehrmals auf und berechnet die durchschnittliche Ausführzeit."
   ]
  },
  {
   "cell_type": "code",
   "execution_count": 10,
   "metadata": {
    "slideshow": {
     "slide_type": "skip"
    }
   },
   "outputs": [
    {
     "name": "stdout",
     "output_type": "stream",
     "text": [
      "172 μs ± 1.35 μs per loop (mean ± std. dev. of 7 runs, 10,000 loops each)\n"
     ]
    }
   ],
   "source": [
    "%timeit factorial_recursiv(1000)"
   ]
  },
  {
   "cell_type": "code",
   "execution_count": 11,
   "metadata": {
    "slideshow": {
     "slide_type": "skip"
    }
   },
   "outputs": [
    {
     "name": "stdout",
     "output_type": "stream",
     "text": [
      "169 μs ± 1.29 μs per loop (mean ± std. dev. of 7 runs, 10,000 loops each)\n"
     ]
    }
   ],
   "source": [
    "%timeit factorial_schleife(1000)"
   ]
  },
  {
   "cell_type": "markdown",
   "metadata": {
    "slideshow": {
     "slide_type": "skip"
    }
   },
   "source": [
    "Wir sehen, dass die Schleifenvariante etwas schneller ist als die rekursive Variante.\n",
    "\n",
    "Allerdings sind rekursive Funktionen meist lesbarer und können nicht immer in Schleifen aufgelöst werden, wenn z.B. mehrere Variablen manipuliert werden. "
   ]
  },
  {
   "cell_type": "markdown",
   "metadata": {
    "slideshow": {
     "slide_type": "skip"
    }
   },
   "source": [
    "## Endlosrekursion, Stack und Heap"
   ]
  },
  {
   "cell_type": "markdown",
   "metadata": {
    "slideshow": {
     "slide_type": "skip"
    }
   },
   "source": [
    ":::{warning} Da rekursive Funktionen den Schleifen konzeptionell ähneln, gibt es hier auch dasselbe Problem von Endlosrekursionen. Wie bei while-Schleifen können rekursive Funktionen sich *theoretisch* endlos verzweigen!\n",
    "\n",
    "Deshalb **muss mindestens ein** Pfad in der Funktion nicht rekursiv sein.\n",
    ":::"
   ]
  },
  {
   "cell_type": "markdown",
   "metadata": {
    "slideshow": {
     "slide_type": "skip"
    }
   },
   "source": [
    "*Praktisch* kommt es allerdings bei endloser Rekursion zu Stack-Overflow-Fehlern. Das liegt daran, dass Python nachvollziehen muss, welche Funktion welche andere aufgerufen hat, um beim Beenden in die richtige Funktion und Position zurückzukehren. Das geschieht über eine Liste, die sich *Stack* nennt. \n",
    "\n",
    "Der *Stack* ist eine LIFO-Liste (Last In First Out) bei der das letzte Element das hinzugefügt wird (die neu aufgerufene Funktion) auch das erste sein muss, was entfernt wird (wenn die neu aufgerufene Funktion wird beendet). Quasi wie ein Bücherstapel. Der Stack wird bei endloser Rekursion so groß, dass er nicht mehr in den vorgesehenen Speicher passt, was der Stack-Overflow-Fehler ist.\n",
    "\n",
    "Nebenbei, die Variablen werden nicht im Stack abgespeichert, sondern liegen im *Heap*. Dieser kann im Vergleich zum Stack so groß werden wie der Arbeitsspeicher und gleicht mehr einer FIFO-Liste (First In First Out), da Speicher von alten Variablen, die nicht mehr Gültigkeit haben frei gegeben werden."
   ]
  },
  {
   "cell_type": "markdown",
   "metadata": {
    "slideshow": {
     "slide_type": "skip"
    }
   },
   "source": [
    "Ein Stack-Overflow-Fehler ist ein **kritischer Programmfehler**, der nicht abgefangen werden kann, sondern immer zum Beenden des Programmes führt. Als Beispiel rufen wir unser als erste definierte rekursive Funktion auf und sehen die Fehlermeldung vom Absturz des Python-Kernels."
   ]
  },
  {
   "cell_type": "code",
   "execution_count": 12,
   "metadata": {
    "slideshow": {
     "slide_type": "skip"
    }
   },
   "outputs": [],
   "source": [
    "# Wenn wir die folgende Funktion ausführen erhalten wir die darunter stehende Fehlermeldung\n",
    "\n",
    "#rekursive_funktion()"
   ]
  },
  {
   "cell_type": "markdown",
   "metadata": {
    "slideshow": {
     "slide_type": "skip"
    }
   },
   "source": [
    "<span style='color: red'>Canceled future for execute_request message before replies were done</span>\n",
    "\n",
    "<span style='color: red'>Der Kernel ist beim Ausführen von Code in der aktuellen Zelle oder einer vorherigen Zelle abgestürzt. Bitte überprüfen Sie den Code in der/den Zelle(n), um eine mögliche Fehlerursache zu identifizieren. Klicken Sie hier, um weitere Informationen zu erhalten. Weitere Details finden Sie in Jupyter log.</span>"
   ]
  },
  {
   "cell_type": "markdown",
   "metadata": {
    "slideshow": {
     "slide_type": "slide"
    },
    "tags": [
     "remove-cell"
    ]
   },
   "source": [
    "<div class=\"vslide\">\n",
    "  <div class=\"vslide-title\">\n",
    "    <p style=\"font-family: Protomolecule; font-size: 2.3em; line-height: 90%; margin: 0px auto; text-align: center; width: 100%;\"><span style=\"letter-spacing: .04rem;\">programmierung</span><br><span style=\"letter-spacing: .0rem;\">und datenbanken</span></p>\n",
    "<p class=\"author\" style=\"font-family: Protomolecule; margin: 0px auto;  text-align: center; width: 100%; font-size: 1.2em;\">Joern Ploennigs</p>\n",
    "<p class=\"subtitle\" style=\"font-family: Protomolecule; margin: 1em auto; text-align: center; width: 100%; font-size: 1.2em;\">Rekursion</p>\n",
    "    <figcaption>Midjourney: Fractal</figcaption>\n",
    "  </div>\n",
    "<script>\n",
    "  function setSectionBackground(c, v, w){\n",
    "    let e = document.currentScript.previousElementSibling;\n",
    "    while (e && e.tagName !== 'SECTION') e = e.parentElement;\n",
    "    if (!e) return;\n",
    "    if (c) e.setAttribute('data-background-color', c);\n",
    "    if (v) {\n",
    "      e.setAttribute('data-background-video', v);\n",
    "      e.setAttribute('data-background-video-loop', 'true');\n",
    "      e.setAttribute('data-background-video-muted', 'true');\n",
    "    }\n",
    "    if (w) {\n",
    "      const d = e.querySelector('div');\n",
    "      if (d) d.style.backgroundColor = 'rgba(255,255,255,0.6)';\n",
    "    }\n",
    "  }\n",
    "  setSectionBackground('#000000', 'images/04b_Rekursion/mj_title.mp4');\n",
    "</script>\n",
    "<style>\n",
    ".flex-row{display:flex; gap:2rem; align-items:flex-start; justify-content:space-between;}\n",
    ".flex-row .col1{flex:1; min-width:10px}\n",
    ".flex-row .col2{flex:2; min-width:10px}\n",
    ".flex-row .col3{flex:3; min-width:10px}\n",
    ".flex-row .col4{flex:4; min-width:10px}\n",
    ".flex-row .col5{flex:5; min-width:10px}\n",
    ".flex-row .col6{flex:6; min-width:10px}\n",
    ".flex-row .col7{flex:7; min-width:10px}\n",
    ".vcent{display:flex; align-items:center; justify-content:center}\n",
    "</style>\n",
    "</div>"
   ]
  },
  {
   "cell_type": "markdown",
   "metadata": {
    "slideshow": {
     "slide_type": "slide"
    },
    "tags": [
     "remove-cell"
    ]
   },
   "source": [
    "## Ablauf\n",
    "\n",
    "![](images/partA_5.svg)"
   ]
  },
  {
   "cell_type": "markdown",
   "metadata": {
    "slideshow": {
     "slide_type": "slide"
    },
    "tags": [
     "remove-cell"
    ]
   },
   "source": [
    "## Rekursion - Allgemein\n",
    "\n",
    "<div class=\"alert alert-block alert-success\">\n",
    "<b>📘 Definition: Rekursion</b>\n",
    "\n",
    "Rekursion (lateinisch *recurrere* – ‚zurücklaufen‘) ist ein prinzipiell unendlicher Vorgang, der sich selbst als Teil enthält oder mithilfe von sich selbst definierbar ist. In der Informatik geschieht Rekursion immer dann, wenn eine Funktion *sich selbst aufruft*.\n",
    "</div>\n",
    "\n",
    "- Typische Anwendungen sind Divide-and-Conquer-Algorithmen und Kombinatorische Probleme\n"
   ]
  },
  {
   "cell_type": "markdown",
   "metadata": {
    "slideshow": {
     "slide_type": "subslide"
    },
    "tags": [
     "remove-cell"
    ]
   },
   "source": [
    "## Rekursion in Python\n",
    "\n",
    "Rekursion in Python erreicht man indem eine Funktion sich selbst wieder aufruft.\n",
    "\n",
    "```python\n",
    "def rekursive_funktion():\n",
    "    Statement1\n",
    "    rekursive_funktion()\n",
    "```"
   ]
  },
  {
   "cell_type": "markdown",
   "metadata": {
    "slideshow": {
     "slide_type": "subslide"
    },
    "tags": [
     "remove-cell"
    ]
   },
   "source": [
    "### Beispiel: Fakultät\n",
    "\n",
    "Die Fakultät einer Zahl ist definiert als Produkt der natürlichen Zahlen von $1$ bis $n$\n",
    "\n",
    "```python\n",
    "def factorial_recursiv(x):\n",
    "    if x > 1:\n",
    "        return x * factorial_recursiv(x - 1)\n",
    "    else:\n",
    "        return 1\n",
    "```"
   ]
  },
  {
   "cell_type": "markdown",
   "metadata": {
    "slideshow": {
     "slide_type": "subslide"
    },
    "tags": [
     "remove-cell"
    ]
   },
   "source": [
    "## Achtung: Endlosrekursion\n",
    "\n",
    "- Bei rekursiven Funktionen gibt es das selbe Problem, wie bei while-Schleifen: Sie können sich (theoretisch) endlos verzweigen!\n",
    "\n",
    "- Deshalb sollte mindestens ein Pfad in der Funktion nicht rekursiv sein.\n"
   ]
  },
  {
   "cell_type": "markdown",
   "metadata": {
    "slideshow": {
     "slide_type": "slide"
    },
    "tags": [
     "remove-cell"
    ]
   },
   "source": [
    "## Hintergrund: Stack Overflow Fehler\n",
    "\n",
    "<div class=\"flex-row\">\n",
    "<div class=\"col1\">\n",
    "\n",
    "- Der Stack ist eine Liste in der nachvollzogen wird welche Funktionen gerade aufgerufen wurden\n",
    "- Damit ist bekannt, wohin man zurückkehrt, wenn eine Funktion beendet wird\n",
    "- Bei endloser Rekursion, wird die Liste unendlich groß\n",
    "\n",
    "</div>\n",
    "<div class=\"col1\">\n",
    "<figure class=\"mj-fig\">\n",
    "    <img src=\"images/04b_Rekursion/stack_1.svg\" class=\"mj-fig-img\">\n",
    "</figure>\n",
    "</div>\n",
    "</div>"
   ]
  },
  {
   "cell_type": "markdown",
   "metadata": {
    "slideshow": {
     "slide_type": "subslide"
    },
    "tags": [
     "remove-cell"
    ]
   },
   "source": [
    "## Hintergrund: Stack Overflow Fehler\n",
    "\n",
    "<div class=\"flex-row\">\n",
    "<div class=\"col1\">\n",
    "\n",
    "- Der Stack ist eine Liste in der nachvollzogen wird welche Funktionen gerade aufgerufen wurden\n",
    "- Damit ist bekannt, wohin man zurückkehrt, wenn eine Funktion beendet wird\n",
    "- Bei endloser Rekursion, wird die Liste unendlich groß\n",
    "\n",
    "\n",
    "- Es kommt bei endloser Rekursion zu Stack-Overflow-Fehlern\n",
    "- Es kommt zum harten Absturz des Programmes\n",
    "\n",
    "</div>\n",
    "<div class=\"col1\">\n",
    "<figure class=\"mj-fig\">\n",
    "    <img src=\"images/04b_Rekursion/stack_2.svg\" class=\"mj-fig-img\">\n",
    "</figure>\n",
    "</div>\n",
    "</div>"
   ]
  },
  {
   "cell_type": "markdown",
   "metadata": {
    "slideshow": {
     "slide_type": "subslide"
    },
    "tags": [
     "remove-cell"
    ]
   },
   "source": [
    "## Heap vs Stack\n",
    "\n",
    "<div class=\"flex-row\">\n",
    "<div class=\"col1\">\n",
    "\n",
    "<div class=\"alert alert-block alert-success\">\n",
    "<b>📘 Definition: Stack</b>\n",
    "\n",
    "Der Stack ist ein Speicherbereich, in dem Funktionsaufrufe und deren lokale Variablen nach dem LIFO-Prinzip (Last In First Out) verwaltet werden. Jeder neue Funktionsaufruf wird oben auf den Stack gelegt und beim Beenden wieder entfernt. Ist der Stack voll, kommt es zum StackOverflow-Fehler.\n",
    "</div>\n",
    "\n",
    "- Für Funktionsaufrufe\n",
    "- LIFO-Prinzip\n",
    "- Begrenzter Speicher\n",
    "\n",
    "</div>\n",
    "<div class=\"col1\">\n",
    "\n",
    "<div class=\"alert alert-block alert-success\">\n",
    "<b>📘 Definition: Heap</b>\n",
    "\n",
    "Als Heap bezeichnet man einen Speicherbereich, in dem Variablen verwaltet werden. Der Heap ist im Gegensatz zum Stack nicht begrenzt sondern wächst dynamisch mit dem Bedarf. Speicher im Heap wird nach dem FIFO-Prinzip (First In First Out) verwaltet und muss explizit freigegeben werden.\n",
    "</div>\n",
    "\n",
    "- Für Variablen\n",
    "- FIFO-ähnlich\n",
    "- Dynamisch groß (RAM)\n",
    "\n",
    "</div>\n",
    "</div>"
   ]
  },
  {
   "cell_type": "markdown",
   "metadata": {
    "slideshow": {
     "slide_type": "slide"
    },
    "tags": [
     "remove-cell"
    ]
   },
   "source": [
    "## Lesson Learned\n",
    "<figcaption class=\"mj-slide-cap\">Midjourney: Six Sense</figcaption>\n",
    "\n",
    "<script>setSectionBackground('#66ccffff', 'images/02b_Wissenspyramide/mj_senses.mp4', true);</script>\n",
    "\n",
    "<div class=\"flex-row\">\n",
    "<div class=\"col2\">\n",
    "\n",
    "Welche Lerntypen gibt es?\n",
    "\n",
    "</div>\n",
    "<div class=\"col3\">\n",
    "    <!--<figure class=\"mj-fig\">\n",
    "    <video controls autoplay muted class=\"mj-fig-img\">\n",
    "      <source src=\"images/02b_Wissenspyramide/mj_senses.mp4\" type=\"video/mp4\">\n",
    "      Your browser does not support the video tag.\n",
    "    </video>\n",
    "        <figcaption class=\"mj-fig-cap\">\n",
    "            Midjourney: Six Sense\n",
    "        </figcaption>\n",
    "    </figure>-->\n",
    "  </div>\n",
    "</div>"
   ]
  },
  {
   "cell_type": "markdown",
   "metadata": {
    "slideshow": {
     "slide_type": "subslide"
    },
    "tags": [
     "remove-cell"
    ]
   },
   "source": [
    "## Lesson Learned - Nacharbeit\n",
    "\n",
    "<script>setSectionBackground('#66ccffff');</script>\n",
    "\n",
    "- **S**urvey (Überblick gewinnen): Blättert durch ein Thema und gewinnt einen Überblick\n",
    "- **Q**uestion (Fragen): Notiert euch Fragen zu Punkten die ihr nicht versteht.\n",
    "- **R**ead (Lesen): Lest eure Notizen durch; Hebt Schlüsselwörter hervor; Recherchiert zu den Fragen.\n",
    "- **R**ecite (Wiedergeben): Rekapituliert jeden Abschnitt (Inhalt, Schlüsselwörter, Zusammenhänge). Strukturiert euch die Inhalte, z.B. mit Mindmaps. Wiederholt Gelerntes mehrmals (Karteikarten).\n",
    "- **R**eview (Rückblick): Wiederholt gedanklich die wichtigsten Punkte und beantwortet eure Fragen.\n",
    "\n",
    "<div class=\"flex-row\">\n",
    "  <div class=\"col1\">\n",
    "\n",
    "[![https://youtu.be/n0ql-yeY9u0](https://img.youtube.com/vi/n0ql-yeY9u0/0.jpg)](https://www.youtube.com/watch?v=n0ql-yeY9u0)\n",
    "\n",
    "  </div>\n",
    "  <div class=\"col1\"> \n",
    "\n",
    "[![https://youtu.be/NONST7mwhX8](https://img.youtube.com/vi/NONST7mwhX8/0.jpg)](https://www.youtube.com/watch?v=NONST7mwhX8)\n",
    "\n",
    "  </div>\n",
    "</div>"
   ]
  },
  {
   "cell_type": "markdown",
   "metadata": {
    "slideshow": {
     "slide_type": "subslide"
    },
    "tags": [
     "remove-cell"
    ]
   },
   "source": [
    "## Mindmap\n",
    "\n",
    "<script>setSectionBackground('#66ccffff');</script>\n",
    "\n",
    "- Man arbeitet von innen nach außen\n",
    "- Reduziert Themen auf einzelne Begriffe\n",
    "- Man entwickelt automatisch eine Struktur\n",
    "- Nutzt Farben und Symbole\n",
    "- Verweise zwischen Begriffen erschaffen\n",
    "\n",
    "<center>\n",
    "<figure class=\"vcent\">\n",
    "    <img src=\"images/04b_Rekursion/image_1.jpg\" style=\" width: 60%; z-index: -1;\" alt=\"Mindmap\">\n",
    "</figure>\n",
    "</center>\n"
   ]
  },
  {
   "cell_type": "markdown",
   "metadata": {
    "slideshow": {
     "slide_type": "slide"
    },
    "tags": [
     "remove-cell"
    ]
   },
   "source": [
    "<div class=\"vslide\">\n",
    "  <div class=\"vslide-title\">\n",
    "    <p style=\"font-family: Protomolecule; font-size: 2.3em; margin: 0px auto; text-align: center; width: 100%;\">fragen?</p>\n",
    "  </div>\n",
    "  <script>setSectionBackground('#000000', 'images/mj_questions1.mp4');</script>\n",
    "</div>"
   ]
  }
 ],
 "metadata": {
  "kernelspec": {
   "display_name": "base",
   "language": "python",
   "name": "python3"
  },
  "language_info": {
   "codemirror_mode": {
    "name": "ipython",
    "version": 3
   },
   "file_extension": ".py",
   "mimetype": "text/x-python",
   "name": "python",
   "nbconvert_exporter": "python",
   "pygments_lexer": "ipython3",
   "version": "3.12.2"
  },
  "rise": {
   "auto_select": "none",
   "center": false,
   "enable_chalkboard": true,
   "header": "<img src=\"images/pd_logo.svg\" class=\"header_title_logo\"><img src=\"images/ai4sc_logo_v2.svg\" class=\"header_ai4sc_logo\">",
   "scroll": true,
   "show_buttons_on_startup": false,
   "slideNumber": true,
   "theme": "white"
  }
 },
 "nbformat": 4,
 "nbformat_minor": 4
}
