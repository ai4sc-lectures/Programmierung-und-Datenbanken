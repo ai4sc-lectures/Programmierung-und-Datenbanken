{
 "cells": [
  {
   "cell_type": "markdown",
   "metadata": {
    "editable": true,
    "slideshow": {
     "slide_type": "slide"
    },
    "tags": [
     "remove-cell"
    ]
   },
   "source": [
    "<div class=\"vslide\">\n",
    "  <div class=\"vslide-title\">\n",
    "    <p style=\"font-family: Protomolecule; font-size: 2.3em; line-height: 90%; margin: 0px auto; text-align: center; width: 100%;\"><span style=\"letter-spacing: .04rem;\">programmierung</span><br><span style=\"letter-spacing: .0rem;\">und datenbanken</span></p>\n",
    "<p class=\"author\" style=\"font-family: Protomolecule; margin: 0px auto;  text-align: center; width: 100%; font-size: 1.2em;\">Joern Ploennigs</p>\n",
    "<p class=\"subtitle\" style=\"font-family: Protomolecule; margin: 1em auto; text-align: center; width: 100%; font-size: 1.2em;\">Debugging</p>\n",
    "  </div>\n",
    "<script>\n",
    "  function setSectionBackground(c,v){\n",
    "    let e=document.currentScript.previousElementSibling;\n",
    "    while(e&&e.tagName!=='SECTION')e=e.parentElement;\n",
    "    if(e){\n",
    "      if(c)e.setAttribute('data-background-color',c);\n",
    "      if(v){\n",
    "        e.setAttribute('data-background-video',v);\n",
    "        e.setAttribute('data-background-video-loop','true');\n",
    "        e.setAttribute('data-background-video-muted','true');\n",
    "      }\n",
    "    }\n",
    "  }\n",
    "  setSectionBackground('#000000', 'images/06c_Debugging/mj_title.mp4');\n",
    "</script>\n",
    "<style>\n",
    ".flex-row{display:flex; gap:2rem; align-items:flex-start; justify-content:space-between;}\n",
    ".flex-row .col1{flex:1; min-width:10px}\n",
    ".flex-row .col2{flex:2; min-width:10px}\n",
    ".flex-row .col3{flex:3; min-width:10px}\n",
    ".flex-row .col4{flex:4; min-width:10px}\n",
    ".flex-row .col5{flex:5; min-width:10px}\n",
    ".flex-row .col6{flex:6; min-width:10px}\n",
    ".flex-row .col7{flex:7; min-width:10px}\n",
    ".vcent{display:flex; align-items:center; justify-content:center}\n",
    "</style>\n",
    "</div>"
   ]
  },
  {
   "cell_type": "markdown",
   "metadata": {
    "slideshow": {
     "slide_type": "skip"
    }
   },
   "source": [
    "# Debugging"
   ]
  },
  {
   "cell_type": "markdown",
   "metadata": {
    "slideshow": {
     "slide_type": "skip"
    }
   },
   "source": [
    "![](images/06c_Debugging/mj_title_band.jpg)\n",
    "\n",
    "> Everyone knows that debugging is twice as hard as writing a program in the first place.\n",
    ">\n",
    "> — Brian Kernighan"
   ]
  },
  {
   "cell_type": "markdown",
   "metadata": {
    "slideshow": {
     "slide_type": "skip"
    }
   },
   "source": [
    "## <a href=\"/lec_slides/06c_Debugging.slides.html\">Folien</a>\n",
    "<iframe src=\"/lec_slides/06c_Debugging.slides.html\" width=\"750\" height=\"500\"></iframe>"
   ]
  },
  {
   "cell_type": "markdown",
   "metadata": {
    "slideshow": {
     "slide_type": "slide"
    },
    "tags": [
     "remove-cell"
    ]
   },
   "source": [
    "## Ablauf\n",
    "\n",
    "![](images/partA_7.svg)"
   ]
  },
  {
   "cell_type": "markdown",
   "metadata": {
    "editable": true,
    "slideshow": {
     "slide_type": "skip"
    },
    "tags": []
   },
   "source": [
    "## Debugging mit `print()`"
   ]
  },
  {
   "cell_type": "markdown",
   "metadata": {
    "slideshow": {
     "slide_type": "skip"
    }
   },
   "source": [
    "Logische Fehler treten häufig erst dynamisch auf und lassen sich nicht durch statische Code-Analyse durch Lint-Tools finden. Hier muss man dann den aktuellen Programmfluss nachvollziehen. Dies nennt man Debugging. Die einfachste Form ist das `print`-Debugging bei der man den Code mit `print()`-Befehlen zuspammt.\n",
    "\n",
    "Wir erweitern mal unsere Divisionsfunktion mit schönen vielen `print()`-Statements. Üblich ist es zum Beispiel, die Eingangsparameter auszugeben, Fehler und Warnungen auszugeben, als auch dann Ergebnisse zu loggen."
   ]
  },
  {
   "cell_type": "code",
   "execution_count": null,
   "metadata": {
    "slideshow": {
     "slide_type": "skip"
    }
   },
   "outputs": [],
   "source": [
    "def division(zaehler, nenner):\n",
    "    print(f\"Debug: Eingabe Zaehler: {zaehler}\")\n",
    "    print(f\"Debug: Eingabe Nenner: {nenner}\")\n",
    "    if not isinstance(nenner, (int, float)):\n",
    "        print(f\"Error: Nenner nicht vom Datentyp `int` oder `float`, sondern vom Typ {type(nenner)}\")\n",
    "        raise ValueError(f\"Nenner nicht vom Datentyp `int` oder `float`, sondern vom Typ {type(nenner)}\")\n",
    "    elif not isinstance(zaehler, (int, float)):\n",
    "        print(f\"Error: Zaehler nicht vom Datentyp `int` oder `float`, sondern vom Typ {type(zaehler)}\")\n",
    "        raise ValueError(f\"Zaehler nicht vom Datentyp `int` oder `float`, sondern vom Typ {type(zaehler)}\")\n",
    "    elif not nenner:\n",
    "        print(\"Warning: Division durch 0\")\n",
    "        return None\n",
    "    else:\n",
    "        ergebnis = zaehler / nenner\n",
    "        print(f\"Info: Das Ergebnis von {zaehler}/{nenner} = {ergebnis}\")\n",
    "        return ergebnis"
   ]
  },
  {
   "cell_type": "markdown",
   "metadata": {
    "slideshow": {
     "slide_type": "skip"
    }
   },
   "source": [
    "Jetzt können wir insbesondere im Fehlerfall sehr gut nachvollziehen was genau geschehen ist. Zum Beispiel bei der Division durch 0."
   ]
  },
  {
   "cell_type": "code",
   "execution_count": null,
   "metadata": {
    "slideshow": {
     "slide_type": "skip"
    }
   },
   "outputs": [],
   "source": [
    "division(10, 0)"
   ]
  },
  {
   "cell_type": "markdown",
   "metadata": {
    "slideshow": {
     "slide_type": "skip"
    }
   },
   "source": [
    "Allerdings haben wir auch im korrekten Fall sehr viele Ausgaben. Das kann sehr störend sein, weil man dann richtige Fehler sehr schnell übersieht. Zum Beispiel erzeugen wir zehn Divisionen, von der eine eine Division durch 0 war."
   ]
  },
  {
   "cell_type": "code",
   "execution_count": null,
   "metadata": {
    "slideshow": {
     "slide_type": "skip"
    }
   },
   "outputs": [],
   "source": [
    "for nenner in range(-2, 8):\n",
    "    division(10, nenner)"
   ]
  },
  {
   "cell_type": "markdown",
   "metadata": {
    "slideshow": {
     "slide_type": "skip"
    }
   },
   "source": [
    "## Debugging mit `logging`"
   ]
  },
  {
   "cell_type": "markdown",
   "metadata": {
    "slideshow": {
     "slide_type": "skip"
    }
   },
   "source": [
    "Deshalb verwendet man bei komplexeren Programmen meist ein `logging`-Paket. Diese erlauben es `print`-Statements Kategorien zuzuordnen und anhand dieser zu filtern. In der Python-Bibliothek `logging` sind die Kategorien: `debug`, `info`, `warning`, `error` und `critical`."
   ]
  },
  {
   "cell_type": "code",
   "execution_count": null,
   "metadata": {
    "slideshow": {
     "slide_type": "skip"
    }
   },
   "outputs": [],
   "source": [
    "import logging\n",
    "\n",
    "log=logging.getLogger(\"meinlog\")\n",
    "\n",
    "def division(zaehler, nenner):\n",
    "    log.debug(f\"Eingabe Zaehler: {zaehler}\")\n",
    "    log.debug(f\"Eingabe Nenner: {nenner}\")\n",
    "    if not isinstance(nenner, (int, float)):\n",
    "        log.error(f\"Nenner nicht vom Datentyp `int` oder `float`, sondern vom Typ {type(nenner)}\")\n",
    "        raise ValueError(f\"Nenner nicht vom Datentyp `int` oder `float`, sondern vom Typ {type(nenner)}\")\n",
    "    elif not isinstance(zaehler, (int, float)):\n",
    "        log.error(f\"Zaehler nicht vom Datentyp `int` oder `float`, sondern vom Typ {type(zaehler)}\")\n",
    "        raise ValueError(f\"Zaehler nicht vom Datentyp `int` oder `float`, sondern vom Typ {type(zaehler)}\")\n",
    "    elif not nenner:\n",
    "        log.warning(\"Division durch 0\")\n",
    "        return None\n",
    "    else:\n",
    "        ergebnis = zaehler / nenner\n",
    "        log.info(f\"Das Ergebnis von {zaehler}/{nenner} = {ergebnis}\")\n",
    "        return ergebnis"
   ]
  },
  {
   "cell_type": "markdown",
   "metadata": {
    "slideshow": {
     "slide_type": "skip"
    }
   },
   "source": [
    "Wenn wir jetzt die Funktion aufrufen, sehen wir nur noch die Division durch 0 Warnung."
   ]
  },
  {
   "cell_type": "code",
   "execution_count": null,
   "metadata": {
    "slideshow": {
     "slide_type": "skip"
    }
   },
   "outputs": [],
   "source": [
    "log.setLevel(logging.WARNING)\n",
    "for nenner in range(-2, 8):\n",
    "    division(10, nenner)"
   ]
  },
  {
   "cell_type": "markdown",
   "metadata": {
    "slideshow": {
     "slide_type": "skip"
    }
   },
   "source": [
    "Wir können allerdings bei Bedarf, wie bei der Fehlersuche den Loglevel auch erhöhen. Zum Beispiel wollen wir alle Debug-Nachrichten erhalten."
   ]
  },
  {
   "cell_type": "code",
   "execution_count": null,
   "metadata": {
    "slideshow": {
     "slide_type": "skip"
    }
   },
   "outputs": [],
   "source": [
    "log.setLevel(logging.DEBUG)\n",
    "for nenner in range(-2, 8):\n",
    "    division(10, nenner)"
   ]
  },
  {
   "cell_type": "markdown",
   "metadata": {
    "slideshow": {
     "slide_type": "skip"
    }
   },
   "source": [
    "Ferner erlaub das Logging auch automatisch weitere Informationen hinzuzufügen. Wir sehen im Log oben bereits, das nicht nur das Level (INFO, DEBUG, WARNING) sondern auch den Namen des Loggers (meinlog). Wir können dieses Format anpassen um z.B. auch die Zeit auszugeben, was insbesondere wichtig ist um zu verstehen wann etwas passiert ist."
   ]
  },
  {
   "cell_type": "code",
   "execution_count": null,
   "metadata": {
    "slideshow": {
     "slide_type": "skip"
    }
   },
   "outputs": [],
   "source": [
    "sh=logging.StreamHandler()\n",
    "formatter = logging.Formatter('%(asctime)s  %(name)s  %(levelname)s: %(message)s')\n",
    "sh.setFormatter(formatter)\n",
    "log.addHandler(sh)\n",
    "log.setLevel(logging.INFO)\n",
    "\n",
    "for nenner in range(-2, 8):\n",
    "    division(10, nenner)"
   ]
  },
  {
   "cell_type": "markdown",
   "metadata": {
    "slideshow": {
     "slide_type": "skip"
    }
   },
   "source": [
    "In der Praxis wird das Logging sehr häufig insbesondere in Cloud-Anwendungen verwendet. Da diese ja keine Bildschirme haben, müssen Fehler in Logs gesucht werden. Solange alles ok ist, läuft so eine Anwendung dann z.B. im Log-Level `INFO`, mit nur wenig Ausgaben. Tritt ein Fehler auf, so wird der Server auf das Log-Level `DEBUG` gesetzt und man sucht in den detaillierten Logs dann nach Informationen, um den Fehler einzugrenzen."
   ]
  },
  {
   "cell_type": "markdown",
   "metadata": {
    "slideshow": {
     "slide_type": "skip"
    }
   },
   "source": [
    "## Debugging durch Debug-Oberflächen"
   ]
  },
  {
   "cell_type": "markdown",
   "metadata": {
    "slideshow": {
     "slide_type": "skip"
    }
   },
   "source": [
    "Viele integrierte Entwicklungsumgebungen (IDE) bieten an direkt Debugger auszuführen. Diese Debugger erlauben es die dynamische Ausführung des Codes zu unterbrechen. Ziel ist es kurz vor Auftreten des Fehlers die Ausführung anzuhalten, um dann das Fehlerverhalten genau beobachten zu können.\n",
    "\n",
    "Dabei werden meist zwei Formen der Unterbrechung unterstützt:\n",
    "-  Die Unterbrechung in bestimmten Code-Zeilen mit Hilfe von Breakpoints.\n",
    "-  Die Unterbrechung bei bestimmten Exceptions."
   ]
  },
  {
   "cell_type": "markdown",
   "metadata": {
    "slideshow": {
     "slide_type": "skip"
    }
   },
   "source": [
    "### Debugging in Jupyter-Notebooks in VSCode"
   ]
  },
  {
   "cell_type": "markdown",
   "metadata": {
    "slideshow": {
     "slide_type": "skip"
    }
   },
   "source": [
    "Die Debug-Oberflächen sehen je nach IDE etwas anders aus, verfügen aber über ähnliche Funktionen. Dieses Jupyter Notebook wurde in VSCode geschrieben, welches wir als erstes Beispiel betrachten."
   ]
  },
  {
   "cell_type": "markdown",
   "metadata": {
    "slideshow": {
     "slide_type": "skip"
    }
   },
   "source": [
    "Dafür kann man meist in der IDE links neben eine Zeile klicken um einen Breakpoint <span style=\"color: red\">⬤</span> zu setzen. Wir setzen dafür einen Breakpoint auf die Zeile 11 auf die Ausgabe der Warnung."
   ]
  },
  {
   "attachments": {},
   "cell_type": "markdown",
   "metadata": {
    "slideshow": {
     "slide_type": "skip"
    }
   },
   "source": [
    "![](images/debug_vscode_1.png)"
   ]
  },
  {
   "cell_type": "markdown",
   "metadata": {
    "slideshow": {
     "slide_type": "skip"
    }
   },
   "source": [
    "Dann wird der Code in einer speziellen Debugumgebung ausgeführt, die es erlaub die Ausführung zu unterbrechen. In unserm Notebook in VSCode starten wird diese durch das Symbol <img src=\"images/debug_vscode_2.png\" style=\"height: 2ex\">."
   ]
  },
  {
   "cell_type": "code",
   "execution_count": null,
   "metadata": {
    "slideshow": {
     "slide_type": "skip"
    }
   },
   "outputs": [],
   "source": [
    "def division(zaehler, nenner):\n",
    "    log.debug(f\"Eingabe Zaehler: {zaehler}\")\n",
    "    log.debug(f\"Eingabe Nenner: {nenner}\")\n",
    "    if not isinstance(nenner, (int, float)):\n",
    "        log.error(f\"Nenner nicht vom Datentyp `int` oder `float`, sondern vom Typ {type(nenner)}\")\n",
    "        raise ValueError(f\"Nenner nicht vom Datentyp `int` oder `float`, sondern vom Typ {type(nenner)}\")\n",
    "    elif not isinstance(zaehler, (int, float)):\n",
    "        log.error(f\"Zaehler nicht vom Datentyp `int` oder `float`, sondern vom Typ {type(zaehler)}\")\n",
    "        raise ValueError(f\"Zaehler nicht vom Datentyp `int` oder `float`, sondern vom Typ {type(zaehler)}\")\n",
    "    elif not nenner:\n",
    "        log.warning(\"Division durch 0\")\n",
    "        return None\n",
    "    else:\n",
    "        ergebnis = zaehler / nenner\n",
    "        log.info(f\"Das Ergebnis von {zaehler}/{nenner} = {ergebnis}\")\n",
    "        return ergebnis\n",
    "\n",
    "division(10, 0)"
   ]
  },
  {
   "cell_type": "markdown",
   "metadata": {
    "slideshow": {
     "slide_type": "skip"
    }
   },
   "source": [
    "Dies startet den Debug-Modus. In diesem wird die aktuelle Zeile vorgehoben als auch die aktuellen Variablen im Speicher angezeigt."
   ]
  },
  {
   "attachments": {},
   "cell_type": "markdown",
   "metadata": {
    "slideshow": {
     "slide_type": "skip"
    }
   },
   "source": [
    "![Debuggin in VS Code](images/debug_vscode_3.png)"
   ]
  },
  {
   "cell_type": "markdown",
   "metadata": {
    "slideshow": {
     "slide_type": "skip"
    }
   },
   "source": [
    "In der Debugumgebung kann man dann Zeile für Zeile vorgehen durch drücken von <img src=\"images/debug_vscode_2.png\" style=\"height: 2ex\"> und damit nachvollziehen wie das Programm bearbeitet wird und welche Variablen sich ändern."
   ]
  },
  {
   "cell_type": "markdown",
   "metadata": {
    "slideshow": {
     "slide_type": "skip"
    },
    "tags": [
     "remove-cell"
    ]
   },
   "source": [
    "### Debugging in repl.it"
   ]
  },
  {
   "cell_type": "markdown",
   "metadata": {
    "slideshow": {
     "slide_type": "skip"
    },
    "tags": [
     "remove-cell"
    ]
   },
   "source": [
    "In repl.it sieht die Debugging-Oberfläche ähnlich aus. Wir setzen einen Breakpoint <span style=\"color: red\">⬤</span> durch klicken auf die Zeile 11 auf die Ausgabe der Warnung."
   ]
  },
  {
   "attachments": {},
   "cell_type": "markdown",
   "metadata": {
    "slideshow": {
     "slide_type": "skip"
    },
    "tags": [
     "remove-cell"
    ]
   },
   "source": [
    "![](images/debug_replit_1.png)"
   ]
  },
  {
   "cell_type": "markdown",
   "metadata": {
    "slideshow": {
     "slide_type": "skip"
    },
    "tags": [
     "remove-cell"
    ]
   },
   "source": [
    "Die Debugumgebung wird durch <img src=\"images/debug_replit_2.png\" height=\"2ex\"> gestartet. Sie erlaub die Ausführung zu starten, einzelne Zeilen auszuführen, den Schritt zu überspringen oder bis zum Breakpoint auszuführen (links nach rechts)."
   ]
  },
  {
   "attachments": {},
   "cell_type": "markdown",
   "metadata": {
    "slideshow": {
     "slide_type": "skip"
    },
    "tags": [
     "remove-cell"
    ]
   },
   "source": [
    "![](images/debug_replit_3.png)"
   ]
  },
  {
   "cell_type": "markdown",
   "metadata": {
    "slideshow": {
     "slide_type": "skip"
    },
    "tags": [
     "remove-cell"
    ]
   },
   "source": [
    "Auch hier werden die aktuellen Variablen angezeigt als auch der Stack."
   ]
  },
  {
   "attachments": {},
   "cell_type": "markdown",
   "metadata": {
    "editable": true,
    "slideshow": {
     "slide_type": "skip"
    },
    "tags": [
     "remove-cell"
    ]
   },
   "source": [
    "![](images/debug_replit_4.png)"
   ]
  },
  {
   "cell_type": "markdown",
   "metadata": {
    "slideshow": {
     "slide_type": "skip"
    }
   },
   "source": [
    "## Quiz\n",
    "\n",
    "\n",
    "```{quizdown}\n",
    "    ---\n",
    "    shuffleQuestions: true\n",
    "    shuffleAnswers: true\n",
    "    ---\n",
    "\n",
    "    ### Was versteht man unter Debugging?\n",
    "    - [x] Das Finden und Beheben von Fehlern im Programmcode\n",
    "    - [ ] Die Optimierung des Programmcodes\n",
    "    - [ ] Das Schreiben von Dokumentation\n",
    "    - [ ] Das Formatieren von Quellcode\n",
    "\n",
    "    ### Warum reicht statische Code-Analyse allein nicht aus?\n",
    "    - [x] Weil logische Fehler zur Laufzeit auftreten können\n",
    "    - [ ] Weil sie keine Sicherheitslücken erkennt\n",
    "    - [ ] Weil sie den Code langsamer macht\n",
    "    - [ ] Weil sie nicht mit Python funktioniert\n",
    "\n",
    "    ### Was ist `print`-Debugging?\n",
    "    - [x] Das Einfügen von `print()`-Befehlen zur Laufzeitanalyse\n",
    "    - [ ] Das Entfernen aller `print()`-Befehle\n",
    "    - [ ] Ein automatisiertes Debugging-Verfahren\n",
    "    - [ ] Ein grafischer Debugger\n",
    "\n",
    "    ### Was ist der Zweck von `logging` in Python?\n",
    "    - [x] Protokollierung von Ereignissen und Fehlern\n",
    "    - [ ] Optimierung der Programmausführung\n",
    "    - [ ] Erstellen von Benutzeroberflächen\n",
    "    - [ ] Automatisches Testen von Funktionen\n",
    "\n",
    "    ### Sortiere die folgenden Zeilen, um einen vollständigen `try-except`-Block korrekt aufzubauen\n",
    "\n",
    "    1. `def division(zaehler, nenner):`\n",
    "    2. `    print(f\"Debug: Eingabe Zaehler: {zaehler}\")`\n",
    "    3. `    print(f\"Debug: Eingabe Nenner: {nenner}\")`\n",
    "    4. `    if not isinstance(nenner, (int, float)):`\n",
    "    5. `        print(f\"Error: Nenner nicht vom Datentyp `int` oder `float`, sondern vom Typ {type(nenner)}\")`\n",
    "    6. `        raise ValueError(f\"Nenner nicht vom Datentyp `int` oder `float`, sondern vom Typ {type(nenner)}\")`\n",
    "    7. `    elif not isinstance(zaehler, (int, float)):`\n",
    "    8. `        print(f\"Error: Zaehler nicht vom Datentyp `int` oder `float`, sondern vom Typ {type(zaehler)}\")`\n",
    "    9. `        raise ValueError(f\"Zaehler nicht vom Datentyp `int` oder `float`, sondern vom Typ {type(zaehler)}\")`\n",
    "    10. `    elif not nenner:`\n",
    "    11. `        print(\"Warning: Division durch 0\")`\n",
    "    12. `        return None`\n",
    "    13. `    else:`\n",
    "    14. `        ergebnis = zaehler / nenner`\n",
    "    15. `        print(f\"Info: Das Ergebnis von {zaehler}/{nenner} = {ergebnis}\")`\n",
    "    16. `        return ergebnis`\n",
    "\n",
    "\n",
    "    ### Was passiert bei einer Division durch Null im folgenden Code?\n",
    "    ```python\n",
    "    def division(zaehler, nenner):\n",
    "        print(f\"Debug: Eingabe Zaehler: {zaehler}\")\n",
    "        print(f\"Debug: Eingabe Nenner: {nenner}\")\n",
    "        if not isinstance(nenner, (int, float)):\n",
    "            ...\n",
    "        elif not nenner:\n",
    "            print(\"Warning: Division durch 0\")\n",
    "            return None\n",
    "    ```\n",
    "    - [x] Eine Warnung wird ausgegeben und `None` zurückgegeben.\n",
    "    - [ ] Es erfolgt ein Abbruch durch `ZeroDivisionError`.\n",
    "    - [ ] Es wird 0 zurückgegeben.\n",
    "    - [ ] Der Nenner wird automatisch auf 1 gesetzt.\n",
    "\n",
    "```"
   ]
  },
  {
   "cell_type": "markdown",
   "metadata": {
    "slideshow": {
     "slide_type": "slide"
    },
    "tags": [
     "remove-cell"
    ]
   },
   "source": [
    "<div class=\"vslide\">\n",
    "  <div class=\"vslide-title\">\n",
    "    <p style=\"font-family: Protomolecule; font-size: 2.3em; margin: 0px auto; text-align: center; width: 100%;\">fragen?</p>\n",
    "  </div>\n",
    "  <script>setSectionBackground('#000000', 'images/mj_questions.mp4');</script>\n",
    "</div>"
   ]
  }
 ],
 "metadata": {
  "kernelspec": {
   "display_name": "Python 3 (ipykernel)",
   "language": "python",
   "name": "python3"
  },
  "language_info": {
   "codemirror_mode": {
    "name": "ipython",
    "version": 3
   },
   "file_extension": ".py",
   "mimetype": "text/x-python",
   "name": "python",
   "nbconvert_exporter": "python",
   "pygments_lexer": "ipython3",
   "version": "3.12.10"
  },
  "rise": {
   "auto_select": "none",
   "center": false,
   "enable_chalkboard": true,
   "header": "<img src=\"images/pd_logo.svg\" class=\"header_title_logo\"><img src=\"images/ai4sc_logo_v2.svg\" class=\"header_ai4sc_logo\">",
   "scroll": true,
   "show_buttons_on_startup": false,
   "slideNumber": true,
   "theme": "white"
  },
  "vscode": {
   "interpreter": {
    "hash": "c6f6ea9c9385f57658f4c302ffd3b717b6cd59b095fbd1c55795f0b67656eecd"
   }
  }
 },
 "nbformat": 4,
 "nbformat_minor": 4
}
