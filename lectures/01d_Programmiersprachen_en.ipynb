{
 "cells": [
  {
   "cell_type": "markdown",
   "id": "9f425d98-ff8b-452a-aec5-69f93dde62d8",
   "metadata": {
    "editable": true,
    "slideshow": {
     "slide_type": "slide"
    },
    "tags": [
     "remove-cell",
     "translated_en"
    ],
    "translation": {
     "lang": "de",
     "src_hash": "1d3a1fa026ee2918358572fbd36439cac384cf885f95debfe570b7e977d7bd3f",
     "updated_at_iso": "2025-08-16T09:28:20.574771+00:00"
    }
   },
   "source": [
    "<div class=\"vslide\">\n",
    "  <div class=\"vslide-title\">\n",
    "    <p style=\"font-family: Protomolecule; font-size: 2.3em; line-height: 90%; margin: 0px auto; text-align: center; width: 100%;\"><span style=\"letter-spacing: .04rem;\">Programming</span><br><span style=\"letter-spacing: .0rem;\">Databases</span></p>\n",
    "<p class=\"author\" style=\"font-family: Protomolecule; margin: 0px auto;  text-align: center; width: 100%; font-size: 1.2em;\">Joern Ploennigs</p>\n",
    "<p class=\"subtitle\" style=\"font-family: Protomolecule; margin: 1em auto; text-align: center; width: 100%; font-size: 1.2em;\">Programming Languages</p>\n",
    "    <figcaption>Midjourney: P+D Code Rain, ref. Matrix Code Rain</figcaption>\n",
    "  </div>\n",
    "<script>\n",
    "  function setSectionBackground(c,v){\n",
    "    let e=document.currentScript.previousElementSibling;\n",
    "    while(e&&e.tagName!=='SECTION')e=e.parentElement;\n",
    "    if(e){\n",
    "      if(c)e.setAttribute('data-background-color',c);\n",
    "      if(v){\n",
    "        e.setAttribute('data-background-video',v);\n",
    "        e.setAttribute('data-background-video-loop','true');\n",
    "        e.setAttribute('data-background-video-muted','true');\n",
    "      }\n",
    "    }\n",
    "  }\n",
    "  setSectionBackground('#000000', 'images/01d_Programmiersprachen/mj_title.mp4');\n",
    "</script>\n",
    "<style>\n",
    ".flex-row{display:flex; gap:2rem; align-items:flex-start; justify-content:space-between;}\n",
    ".flex-row .col1{flex:1; min-width:10px}\n",
    ".flex-row .col2{flex:2; min-width:10px}\n",
    ".flex-row .col3{flex:3; min-width:10px}\n",
    ".flex-row .col4{flex:4; min-width:10px}\n",
    ".flex-row .col5{flex:5; min-width:10px}\n",
    ".flex-row .col6{flex:6; min-width:10px}\n",
    ".flex-row .col7{flex:7; min-width:10px}\n",
    ".vcent{display:flex; align-items:center; justify-content:center}\n",
    "</style>\n",
    "</div>"
   ]
  },
  {
   "cell_type": "markdown",
   "id": "948875af",
   "metadata": {
    "editable": true,
    "slideshow": {
     "slide_type": "skip"
    },
    "tags": [
     "translated_en"
    ],
    "translation": {
     "lang": "de",
     "src_hash": "473e4da0b3759278321dce83535a5671580f91e1f39708cdae7b56b78efda8df",
     "updated_at_iso": "2025-08-16T09:28:22.688667+00:00"
    }
   },
   "source": [
    "# Programming Languages"
   ]
  },
  {
   "cell_type": "markdown",
   "id": "9ae339a8-3e41-4515-a74a-c9d70fdc4186",
   "metadata": {
    "editable": true,
    "raw_mimetype": "",
    "slideshow": {
     "slide_type": "skip"
    },
    "tags": [
     "translated_en"
    ],
    "translation": {
     "lang": "de",
     "src_hash": "2b2d10581bf974643f305a77a7fdc21c62c6266e283ea8fda5e23e619a525fc5",
     "updated_at_iso": "2025-08-16T09:28:26.327782+00:00"
    }
   },
   "source": [
    "<figure class=\"mj-tile-band\">\n",
    "<img src='images/01d_Programmiersprachen/mj_title_band.jpg'>\n",
    "<figcaption>Midjourney: Skyscraper City Code Rain, ref. Matrix Code Rain</figcaption>\n",
    "</figure>\n",
    "\n",
    "> There are only two kinds of programming languages: the ones people complain about and the ones nobody uses.\n",
    "> \n",
    "> — Bjarne Stroustrup (creator of C++)"
   ]
  },
  {
   "cell_type": "markdown",
   "id": "554b63b9-c908-4a46-9157-6928f4cfbd28",
   "metadata": {
    "editable": true,
    "slideshow": {
     "slide_type": "skip"
    },
    "tags": [
     "translated_en"
    ],
    "translation": {
     "lang": "de",
     "src_hash": "f47da6dcfadfa8cff44a2be263d29b8841183e84e42beb34f72774c925c8ad69",
     "updated_at_iso": "2025-08-16T09:28:31.855828+00:00"
    }
   },
   "source": [
    "## <a href=\"../lec_slides/01d_Programmiersprachen.slides.html\">Slides</a>/<a href=\"../pdf/slides/01d_Programmiersprachen.pdf\">PDF</a>\n",
    "<iframe src=\"../lec_slides/01d_Programmiersprachen.slides.html\" width=\"750\" height=\"500\"></iframe>"
   ]
  },
  {
   "cell_type": "markdown",
   "id": "5f1c64ce",
   "metadata": {
    "editable": true,
    "slideshow": {
     "slide_type": "slide"
    },
    "tags": [
     "remove-cell",
     "translated_en"
    ],
    "translation": {
     "lang": "de",
     "src_hash": "7de898e41c28575b1cc285ef0a4fa78e45b97631311e80d15d592d5315ba0d5a",
     "updated_at_iso": "2025-08-16T09:28:35.130303+00:00"
    }
   },
   "source": [
    "## Workflow\n",
    "\n",
    "![](images/partA_2.svg)"
   ]
  },
  {
   "cell_type": "markdown",
   "id": "4a3d513a",
   "metadata": {
    "editable": true,
    "slideshow": {
     "slide_type": "slide"
    },
    "tags": [
     "remove-cell",
     "translated_en"
    ],
    "translation": {
     "lang": "de",
     "src_hash": "4f57f9db0b07eff24d3f7fe56e0c3e50a6c5b85c4d3dfb177d1e12d155dfdb05",
     "updated_at_iso": "2025-08-16T09:28:41.303522+00:00"
    }
   },
   "source": [
    "## Programming Languages\n",
    "\n",
    "<div class=\"alert alert-block alert-success\">\n",
    "<b>📘 Definition: Programming Language</b>\n",
    "\n",
    "A programming language is a formal language for creating programs for data processing on a computer. It is defined by its character set, syntax, and semantics.\n",
    "</div>\n",
    "\n",
    "The programming language enables humans (programmers) to create a program for the computer in a human-readable form."
   ]
  },
  {
   "cell_type": "markdown",
   "id": "4d1cb0c9-10d4-4ccc-98de-395970a2e87f",
   "metadata": {
    "editable": true,
    "slideshow": {
     "slide_type": "slide"
    },
    "tags": [
     "translated_en"
    ],
    "translation": {
     "lang": "de",
     "src_hash": "d47ce5ecefb6844ecbac2c67d334db4b4051dca1ab188522951e9dadf582c5fb",
     "updated_at_iso": "2025-08-16T09:28:50.268596+00:00"
    }
   },
   "source": [
    "## Generations of Programming Languages\n",
    "\n",
    "1. **Generation** - At first, computers were programmed directly in binary *machine code* that a processor could execute directly, but it could usually understand only a single processor type.\n",
    "\n",
    "    ```\n",
    "      1101 0000 0000 0111 1011\n",
    "      1011 1111 1110 1000 1010\n",
    "      1101 0010 0000 0111 1111\n",
    "    ```"
   ]
  },
  {
   "cell_type": "markdown",
   "id": "a7ff02da-6099-4341-a02e-5593c4608bab",
   "metadata": {
    "editable": true,
    "slideshow": {
     "slide_type": "fragment"
    },
    "tags": [
     "translated_en"
    ],
    "translation": {
     "lang": "de",
     "src_hash": "6173b4b631ac0fb30cfa25d0c8fddeb701da1611d2718b3455b4732907fc0f1e",
     "updated_at_iso": "2025-08-16T09:28:58.904537+00:00"
    }
   },
   "source": [
    "2. **Generation** – *assembly languages* use machine instructions (ADD, MOV, …) for a specific processor type. The instructions are translated into machine code with the help of an assembler.\n",
    "\n",
    "    ```nasm\n",
    "      CLO\n",
    "      MOV AL, 2      ; copies 2 into register AL\n",
    "      ADD AL, 3      ; adds 3 to register AL\n",
    "      END\n",
    "    ```"
   ]
  },
  {
   "cell_type": "markdown",
   "id": "289386e9-c004-4cd5-aba0-b4afd2e503d5",
   "metadata": {
    "editable": true,
    "slideshow": {
     "slide_type": "fragment"
    },
    "tags": [
     "translated_en"
    ],
    "translation": {
     "lang": "de",
     "src_hash": "ab63bcecf4815341d3abad351d00645b41baadb7aca9954cacb51425df209d7f",
     "updated_at_iso": "2025-08-16T09:29:06.770380+00:00"
    }
   },
   "source": [
    "3. **Generation** - *High-level programming languages* are human-readable and closer to natural language. A compiler translates the code into machine code.\n",
    "\n",
    "```python\n",
    "  while i < 20:\n",
    "      x = x + i * i\n",
    "      if x > 100:\n",
    "          i = i + 3\n",
    "```"
   ]
  },
  {
   "cell_type": "markdown",
   "id": "a8cd78c5-d5fd-47d8-876e-526e89aba630",
   "metadata": {
    "editable": true,
    "slideshow": {
     "slide_type": "slide"
    },
    "tags": [
     "translated_en"
    ],
    "translation": {
     "lang": "de",
     "src_hash": "d75f1417ab77cb5d1586911067a31d2ccc00b50fc4254482741842365721e79e",
     "updated_at_iso": "2025-08-16T09:29:08.671982+00:00"
    }
   },
   "source": [
    "## The Most Popular Programming Languages"
   ]
  },
  {
   "cell_type": "markdown",
   "id": "3bc4c425-6550-4363-9a3f-e6472d30fb59",
   "metadata": {
    "editable": true,
    "slideshow": {
     "slide_type": "skip"
    },
    "tags": [
     "translated_en"
    ],
    "translation": {
     "lang": "de",
     "src_hash": "2528d16f7eed0a441cffbe1e8d300fb6b773f14045b8d01732f23347a9a33240",
     "updated_at_iso": "2025-08-16T09:29:13.993935+00:00"
    }
   },
   "source": [
    "Changes in software requirements not only drive software architectures to evolve, but also bring new programming languages that gain in popularity. Initially, traditional application languages (C++) were replaced by server-side languages like Java, and then by web languages (PHP, Perl, JavaScript). Over the past 20 years, JavaScript has established itself in this area, mainly because it can be used on both the client and server sides. Since 2017, Python has gained enormous popularity, particularly because it is widely used in the AI field."
   ]
  },
  {
   "cell_type": "markdown",
   "id": "70af499f-6852-4026-b3e4-82047f07cf19",
   "metadata": {
    "editable": true,
    "slideshow": {
     "slide_type": ""
    },
    "tags": [
     "translated_en"
    ],
    "translation": {
     "lang": "de",
     "src_hash": "3a92ac33cdff1cb0242d3df51964a858178b74b9dea920c0f2ca2170e4fd4502",
     "updated_at_iso": "2025-08-16T09:29:19.155827+00:00"
    }
   },
   "source": [
    "- New programming languages constantly evolve to meet changing requirements.\n",
    "- Traditional application languages like C++ were replaced by server-side languages like Java.\n",
    "- Later, there was a shift to web languages such as PHP, Perl, and JavaScript.\n",
    "- In recent years, JavaScript has become popular for websites.\n",
    "- Since 2017, Python has become increasingly popular due to its use in AI."
   ]
  },
  {
   "cell_type": "markdown",
   "id": "c88bf7e9-7e58-4aba-9ef5-7306b5ac0c42",
   "metadata": {
    "editable": true,
    "slideshow": {
     "slide_type": ""
    },
    "tags": [
     "translated_en"
    ],
    "translation": {
     "lang": "de",
     "src_hash": "b7453bf70df6b9eb3a685c748a5734b1a27259de9824f6b895d3c09e1748d2a5",
     "updated_at_iso": "2025-08-16T09:29:21.293445+00:00"
    }
   },
   "source": [
    "<video width=\"584\" height=\"315\" controls class=\"vcent\">\n",
    "  <source src='images/01d_Programmiersprachen/top_prog_languages.mp4' type=\"video/mp4\">\n",
    "  Your browser does not support the video tag.\n",
    "</video>"
   ]
  },
  {
   "cell_type": "markdown",
   "id": "b38e499a-8149-4302-b9b7-2166245b2861",
   "metadata": {
    "editable": true,
    "slideshow": {
     "slide_type": "slide"
    },
    "tags": [
     "translated_en"
    ],
    "translation": {
     "lang": "de",
     "src_hash": "a1e59f5ee37b45566c05b80113826d69f2d979eaddc49afb16f36a9593b28150",
     "updated_at_iso": "2025-08-16T09:29:23.287276+00:00"
    }
   },
   "source": [
    "## Python"
   ]
  },
  {
   "cell_type": "markdown",
   "id": "335f0446-5ccf-4377-9cd0-47707875988c",
   "metadata": {
    "editable": true,
    "slideshow": {
     "slide_type": "skip"
    },
    "tags": [
     "translated_en"
    ],
    "translation": {
     "lang": "de",
     "src_hash": "02d7e76e238fa76a3e24c20c729896dbba8ba3101a10c127ac514586dfcd3251",
     "updated_at_iso": "2025-08-16T09:29:30.646517+00:00"
    }
   },
   "source": [
    "Python has gained popularity in recent years, although it is older than Java, C#, and JavaScript. Its popularity stems, on the one hand, from the language being designed with a strong emphasis on readability and simplicity, which makes it very easy to learn. Moreover, due to its age there are now many libraries, and for almost every problem there is an existing solution. As a result, Python is also highly versatile."
   ]
  },
  {
   "cell_type": "markdown",
   "id": "0a9a1596-a7f8-49df-a1e4-e6f6341f51d4",
   "metadata": {
    "editable": true,
    "slideshow": {
     "slide_type": ""
    },
    "tags": [
     "remove-cell",
     "translated_en"
    ],
    "translation": {
     "lang": "de",
     "src_hash": "3f299d0ef6366b80c3f801a604c01e95313fb4baea83f6af17ce6fd9881b8cc7",
     "updated_at_iso": "2025-08-16T09:29:37.215828+00:00"
    }
   },
   "source": [
    "- Python is the language of data science and AI\n",
    "- Nowadays there are Python libraries for almost every application area\n",
    "- Google Trends `data science` worldwide"
   ]
  },
  {
   "cell_type": "markdown",
   "id": "9c45a17e-4a7a-4b09-9a37-ee8aa4734d79",
   "metadata": {
    "editable": true,
    "slideshow": {
     "slide_type": ""
    },
    "tags": [
     "translated_en"
    ],
    "translation": {
     "lang": "de",
     "src_hash": "f08c2b66c0c431b9644bd4a62e1b6bc0c3ba73e54be5b04e291ba39ae8498983",
     "updated_at_iso": "2025-08-16T09:29:54.669968+00:00"
    }
   },
   "source": [
    "<script type=\"text/javascript\" src=\"https://ssl.gstatic.com/trends_nrtr/4116_RC01/embed_loader.js\"></script>\n",
    "<div class=\"flex-row\">\n",
    "  <div style=\"flex: 1; height: 60vh;\">\n",
    "    <script type=\"text/javascript\"  style=\"width: 100%; height: 60vh;\">\n",
    "  trends.embed.renderExploreWidget(\"TIMESERIES\", {\"comparisonItem\":[{\"keyword\":\"/m/0jt3_q3\",\"geo\":\"\",\"time\":\"2004-01-01 2025-08-01\"}],\"category\":0,\"property\":\"\"}, {\"exploreQuery\":\"date=all&q=%2Fm%2F0jt3_q3&hl=de\",\"guestPath\":\"https://trends.google.de:443/trends/embed/\"});\n",
    "    </script>\n",
    "  </div>\n",
    "  <div style=\"flex: 1; height: 60vh;\">\n",
    "    <script type=\"text/javascript\" style=\"width: 100%; height: 60vh;\">\n",
    "  trends.embed.renderExploreWidget(\"TIMESERIES\", {\"comparisonItem\":[{\"keyword\":\"/m/05z1_\",\"geo\":\"\",\"time\":\"2004-01-01 2025-08-01\"}],\"category\":0,\"property\":\"\"}, {\"exploreQuery\":\"date=all&q=%2Fm%2F05z1_\",\"guestPath\":\"https://trends.google.de:443/trends/embed/\"});\n",
    "    </script>\n",
    "  </div>\n",
    "</div>"
   ]
  },
  {
   "cell_type": "markdown",
   "id": "5ebcb682",
   "metadata": {
    "slideshow": {
     "slide_type": "skip"
    },
    "tags": [
     "translated_en"
    ],
    "translation": {
     "lang": "de",
     "src_hash": "686e490a5a9f41b3dfe8032b282afbaef53b9ef1e732007d4b629828e8c44a3b",
     "updated_at_iso": "2025-08-16T09:30:08.188519+00:00"
    }
   },
   "source": [
    "## Quiz\n",
    "\n",
    "\n",
    "```{quizdown}\n",
    "    ---\n",
    "    shuffleQuestions: true\n",
    "    shuffleAnswers: true\n",
    "    ---\n",
    "\n",
    "    ### What is a programming language?\n",
    "    - [x] A formal language for creating programs\n",
    "    - [ ] A special hardware component\n",
    "    - [ ] A visual representation of data\n",
    "    - [ ] A file format for word processing\n",
    "\n",
    "    ### Which features define a programming language?\n",
    "    - [x] Character set\n",
    "    - [x] Syntax\n",
    "    - [x] Semantics\n",
    "    - [ ] Color scheme\n",
    "\n",
    "    ### What characterizes first-generation programming languages?\n",
    "    - [x] Binary-encoded machine code\n",
    "    - [ ] Use of high-level languages like Python\n",
    "    - [ ] Direct human-to-human communication\n",
    "    - [ ] Use of HTML\n",
    "\n",
    "    ### What characterizes assembly languages?\n",
    "    - [ ] They are independent of the hardware architecture\n",
    "    - [x] They must be translated into machine code\n",
    "    - [ ] They are interpreted directly by the browser\n",
    "    - [ ] They are a form of natural language\n",
    "\n",
    "    ### What characterizes third-generation programming languages?\n",
    "    - [x] They are human-readable and closer to natural language\n",
    "    - [ ] They do not require translation into machine code\n",
    "    - [x] They use compilers or interpreters for translation\n",
    "    - [ ] They consist only of zeros and ones\n",
    "\n",
    "    ### Why do new programming languages emerge?\n",
    "    - [x] Because of new requirements in software development\n",
    "    - [ ] Because old languages no longer work\n",
    "    - [ ] To display graphics better\n",
    "    - [ ] For controlling monitors\n",
    "\n",
    "    ### Which factors influence the popularity of a programming language?\n",
    "    - [x] Community support\n",
    "    - [x] Application areas\n",
    "    - [x] Tools and frameworks\n",
    "    - [ ] The color of the logo\n",
    "\n",
    "```"
   ]
  },
  {
   "cell_type": "markdown",
   "id": "6b32d9cb",
   "metadata": {
    "editable": true,
    "slideshow": {
     "slide_type": "slide"
    },
    "tags": [
     "remove-cell",
     "translated_en"
    ],
    "translation": {
     "lang": "de",
     "src_hash": "d2b7467259ef9f52d61ecf9953374631953b152baba6f1edeaac46d4c3d40a0b",
     "updated_at_iso": "2025-08-16T09:30:11.925258+00:00"
    }
   },
   "source": [
    "<div class=\"vslide\">\n",
    "  <div class=\"vslide-title\">\n",
    "    <p style=\"font-family: Protomolecule; font-size: 2.3em; margin: 0px auto; text-align: center; width: 100%;\">Questions?</p>\n",
    "  </div>\n",
    "  <script>setSectionBackground('#000000', 'images/mj_questions.mp4');</script>\n",
    "</div>"
   ]
  }
 ],
 "metadata": {
  "kernelspec": {
   "display_name": "Python 3 (ipykernel)",
   "language": "python",
   "name": "python3"
  },
  "language_info": {
   "codemirror_mode": {
    "name": "ipython",
    "version": 3
   },
   "file_extension": ".py",
   "mimetype": "text/x-python",
   "name": "python",
   "nbconvert_exporter": "python",
   "pygments_lexer": "ipython3",
   "version": "3.11.6"
  },
  "rise": {
   "auto_select": "none",
   "center": false,
   "enable_chalkboard": true,
   "header": "<img src=\"images/pd_logo.svg\" class=\"header_title_logo\"><img src=\"images/ai4sc_logo_v2.svg\" class=\"header_ai4sc_logo\">",
   "scroll": true,
   "show_buttons_on_startup": false,
   "slideNumber": true,
   "theme": "white"
  }
 },
 "nbformat": 4,
 "nbformat_minor": 5
}
