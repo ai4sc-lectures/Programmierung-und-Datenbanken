{
 "cells": [
  {
   "cell_type": "code",
   "execution_count": null,
   "metadata": {
    "editable": true,
    "slideshow": {
     "slide_type": ""
    },
    "tags": []
   },
   "outputs": [],
   "source": [
    "import os\n",
    "import re\n",
    "import random\n",
    "from copy import copy\n",
    "\n",
    "import requests\n",
    "from bs4 import BeautifulSoup\n",
    "\n",
    "from IPython.display import HTML\n",
    "from PIL import Image\n",
    "\n",
    "import numpy as np\n",
    "import pandas as pd\n",
    "\n",
    "import matplotlib.pyplot as plt\n",
    "from matplotlib import animation\n",
    "from matplotlib.pyplot import figure\n",
    "import matplotlib.image as image\n",
    "from matplotlib.cbook import get_sample_data\n",
    "from matplotlib.offsetbox import OffsetImage, AnnotationBbox\n",
    "import bar_chart_race as bcr"
   ]
  },
  {
   "cell_type": "code",
   "execution_count": null,
   "metadata": {},
   "outputs": [],
   "source": [
    "base_url = \"https://www.tiobe.com/tiobe-index/\"\n",
    "\n",
    "r = requests.get(url=base_url)\n",
    "soup = BeautifulSoup(r.text, \"lxml\")\n",
    "\n",
    "src_icons = [img.get(\"src\") for img in soup.find(\"tbody\").find_all(\"img\") if 'tiobe-index' in img.get(\"src\")]\n",
    "src_icons"
   ]
  },
  {
   "cell_type": "code",
   "execution_count": null,
   "metadata": {},
   "outputs": [],
   "source": [
    "def download_icon(file_name, url):\n",
    "    if not os.path.exists(file_name):\n",
    "        print(f\"[INFO] starting work with url {url}\")\n",
    "        r = requests.get(url)\n",
    "        print(f\"[INFO] request status: {r.status_code}\")\n",
    "        with open(file_name, \"wb\") as f:\n",
    "            print(f\"[INFO] saving file: {file_name}\")\n",
    "            f.write(r.content)\n",
    "        print(\"--------------------- Saved! --------------------\")\n",
    "\n",
    "for icon in src_icons:\n",
    "    file_name = \"picons/\"+icon.split(\"/\")[-1]\n",
    "    url = \"https://www.tiobe.com/\" + icon\n",
    "    if not os.path.exists(file_name):\n",
    "        download_icon(file_name, url)"
   ]
  },
  {
   "cell_type": "code",
   "execution_count": null,
   "metadata": {},
   "outputs": [],
   "source": [
    "icon_list_names = os.listdir('picons')"
   ]
  },
  {
   "cell_type": "code",
   "execution_count": null,
   "metadata": {},
   "outputs": [],
   "source": [
    "df = pd.read_csv(\"picons/MostPopularProgrammingLanguages2000to2021.csv\")\n",
    "df.head()"
   ]
  },
  {
   "cell_type": "code",
   "execution_count": null,
   "metadata": {},
   "outputs": [],
   "source": [
    "data = df.drop([\"Date\"], axis=1)"
   ]
  },
  {
   "cell_type": "code",
   "execution_count": null,
   "metadata": {},
   "outputs": [],
   "source": [
    "tmp_names = {\"C/C++\": \"picons/C.png\", \"C#\": \"picons/C_.png\", \"Delphi/Pascal\": \"picons/Delphi_Object_Pascal.png\", \"Visual Basic\": \"picons/Visual_Basic.png\", \"Matlab\": 'picons/MATLAB.png'}"
   ]
  },
  {
   "cell_type": "code",
   "execution_count": null,
   "metadata": {},
   "outputs": [],
   "source": [
    "names = {k: f\"picons/{k}.png\" for k in data.columns if f\"{k}.png\" in icon_list_names}\n",
    "names.update(tmp_names)\n",
    "names"
   ]
  },
  {
   "cell_type": "code",
   "execution_count": null,
   "metadata": {},
   "outputs": [],
   "source": [
    "image_data = {k: OffsetImage(Image.open(name)) for k, name in names.items()}\n",
    "image_data"
   ]
  },
  {
   "cell_type": "code",
   "execution_count": null,
   "metadata": {},
   "outputs": [],
   "source": [
    "test = df.set_index(df.Date)\n",
    "test = test.iloc[:, 1:]\n",
    "new_table = test.astype(float)\n",
    "\n",
    "top_6 = set()\n",
    "for index, row in new_table.iterrows():\n",
    "    top_6 |= set(row[row > 0].sort_values(ascending=False).head(6).index)\n",
    "\n",
    "new_table = new_table[top_6]\n",
    "new_table.head()"
   ]
  },
  {
   "cell_type": "code",
   "execution_count": null,
   "metadata": {},
   "outputs": [],
   "source": [
    "bcr.bar_chart_race(df = new_table, \n",
    "                   sort='desc',\n",
    "                   title='Top 10 Programming Languages from 2004 - 2022 (in percent)',\n",
    "                   fixed_max = False,\n",
    "                   steps_per_period = 6,\n",
    "                   dpi = 180,\n",
    "                   period_length = 100,\n",
    "                   filename = 'images/top_prog_languages.mp4')"
   ]
  },
  {
   "cell_type": "code",
   "execution_count": null,
   "metadata": {},
   "outputs": [],
   "source": []
  }
 ],
 "metadata": {
  "kernelspec": {
   "display_name": "Python 3 (ipykernel)",
   "language": "python",
   "name": "python3"
  },
  "language_info": {
   "codemirror_mode": {
    "name": "ipython",
    "version": 3
   },
   "file_extension": ".py",
   "mimetype": "text/x-python",
   "name": "python",
   "nbconvert_exporter": "python",
   "pygments_lexer": "ipython3",
   "version": "3.12.10"
  },
  "rise": {
   "auto_select": "none",
   "center": false,
   "enable_chalkboard": true,
   "header": "<img src=\"images/pd_logo.svg\" class=\"header_title_logo\"><img src=\"images/ai4sc_logo_v2.svg\" class=\"header_ai4sc_logo\">",
   "scroll": true,
   "show_buttons_on_startup": false,
   "slideNumber": true,
   "theme": "white"
  },
  "vscode": {
   "interpreter": {
    "hash": "913d9683cfbf6f62280cd71bf9407148e586f91ba46a2e23b8a80a029789dab0"
   }
  }
 },
 "nbformat": 4,
 "nbformat_minor": 4
}
