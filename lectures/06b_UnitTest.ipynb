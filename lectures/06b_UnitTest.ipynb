{
 "cells": [
  {
   "cell_type": "markdown",
   "metadata": {
    "editable": true,
    "slideshow": {
     "slide_type": "slide"
    },
    "tags": [
     "remove-cell"
    ]
   },
   "source": [
    "<div class=\"vslide\">\n",
    "  <div class=\"vslide-title\">\n",
    "    <p style=\"font-family: Protomolecule; font-size: 2.3em; line-height: 90%; margin: 0px auto; text-align: center; width: 100%;\"><span style=\"letter-spacing: .04rem;\">programmierung</span><br><span style=\"letter-spacing: .0rem;\">und datenbanken</span></p>\n",
    "<p class=\"author\" style=\"font-family: Protomolecule; margin: 0px auto;  text-align: center; width: 100%; font-size: 1.2em;\">Joern Ploennigs</p>\n",
    "<p class=\"subtitle\" style=\"font-family: Protomolecule; margin: 1em auto; text-align: center; width: 100%; font-size: 1.2em;\">Unit-Tests</p>\n",
    "  </div>\n",
    "<script>\n",
    "  function setSectionBackground(c,v){\n",
    "    let e=document.currentScript.previousElementSibling;\n",
    "    while(e&&e.tagName!=='SECTION')e=e.parentElement;\n",
    "    if(e){\n",
    "      if(c)e.setAttribute('data-background-color',c);\n",
    "      if(v){\n",
    "        e.setAttribute('data-background-video',v);\n",
    "        e.setAttribute('data-background-video-loop','true');\n",
    "        e.setAttribute('data-background-video-muted','true');\n",
    "      }\n",
    "    }\n",
    "  }\n",
    "  setSectionBackground('#000000', 'images/06b_UnitTest/mj_title.mp4');\n",
    "</script>\n",
    "<style>\n",
    ".flex-row{display:flex; gap:2rem; align-items:flex-start; justify-content:space-between;}\n",
    ".flex-row .col1{flex:1; min-width:10px}\n",
    ".flex-row .col2{flex:2; min-width:10px}\n",
    ".flex-row .col3{flex:3; min-width:10px}\n",
    ".flex-row .col4{flex:4; min-width:10px}\n",
    ".flex-row .col5{flex:5; min-width:10px}\n",
    ".flex-row .col6{flex:6; min-width:10px}\n",
    ".flex-row .col7{flex:7; min-width:10px}\n",
    ".vcent{display:flex; align-items:center; justify-content:center}\n",
    "</style>\n",
    "</div>"
   ]
  },
  {
   "cell_type": "markdown",
   "metadata": {
    "editable": true,
    "slideshow": {
     "slide_type": "skip"
    },
    "tags": []
   },
   "source": [
    "# Unit-Tests"
   ]
  },
  {
   "cell_type": "markdown",
   "metadata": {
    "slideshow": {
     "slide_type": "skip"
    }
   },
   "source": [
    "![](images/06b_UnitTest/mj_title.png)\n",
    "\n",
    "> The only way to go fast is to go well.\n",
    ">\n",
    "> - Robert C. Martin"
   ]
  },
  {
   "cell_type": "markdown",
   "metadata": {
    "slideshow": {
     "slide_type": "skip"
    }
   },
   "source": [
    "## <a href=\"/lec_slides/06b_UnitTest.slides.html\">Folien</a>\n",
    "<iframe src=\"/lec_slides/06b_UnitTest.slides.html\" width=\"750\" height=\"500\"></iframe>"
   ]
  },
  {
   "cell_type": "markdown",
   "metadata": {
    "slideshow": {
     "slide_type": "slide"
    },
    "tags": [
     "remove-cell"
    ]
   },
   "source": [
    "## Ablauf\n",
    "\n",
    "![](images/partA_7.svg)"
   ]
  },
  {
   "cell_type": "markdown",
   "metadata": {
    "slideshow": {
     "slide_type": "skip"
    }
   },
   "source": [
    "## Funktionstest"
   ]
  },
  {
   "cell_type": "markdown",
   "metadata": {
    "slideshow": {
     "slide_type": "skip"
    }
   },
   "source": [
    "Unit-Tests sind zum Vermeiden und Diagnostizieren von Fehlern sehr wichtig. Ein Unit-Test testet ein einzelnes Code-Modul, wie z.B. eine Funktion oder eine Klasse. \n",
    "\n",
    "Zum Testen verwendet man in Python meist spezielle Pakete wie `unittest` oder `nosetest`, welche dann automatisch bei Code-Änderungen ausgeführt werden. Einfache Tests können direkt in den Code geschrieben werden. Hierfür ist der `assert` Befehl da. Er prüft, ob eine Testbedingung erfüllt ist (assert) und löst eine `AssertionError` Exception aus, wenn dies nicht der Fall ist.\n",
    "\n",
    "Wir wollen zum Beispiel die [zuvor definierte Divisionsfunktion](6_Exceptions.html#Exceptions_selbst_erzeugen) `division()` testen."
   ]
  },
  {
   "cell_type": "code",
   "execution_count": null,
   "metadata": {
    "slideshow": {
     "slide_type": "skip"
    }
   },
   "outputs": [],
   "source": [
    "def division(zaehler, nenner):\n",
    "    if not isinstance(nenner, (int, float)):\n",
    "        raise ValueError(f\"Nenner nicht vom Datentyp `int` oder `float`\")\n",
    "    elif not isinstance(zaehler, (int, float)):\n",
    "        raise ValueError(f\"Zaehler nicht vom Datentyp `int` oder `float`\")\n",
    "    elif not nenner:\n",
    "        print(\"Warnung Division durch 0\")\n",
    "        return None\n",
    "    else:\n",
    "        ergebnis = zaehler / nenner\n",
    "        print(f\"Das Ergebnis von {zaehler}/{nenner} = {ergebnis}\")\n",
    "        return ergebnis"
   ]
  },
  {
   "cell_type": "markdown",
   "metadata": {
    "slideshow": {
     "slide_type": "skip"
    }
   },
   "source": [
    "Hierfür schreiben wir als erstes einen *Funktionstest*. Diese überprüfen die korrekte Funktion eines Moduls mit mehreren Eingaben, für die wir das korrekte Ergebnis kennen. Hier macht man meist mehrere Tests, um sicherzustellen, dass man nicht `zufällig` das richtige Ergebnis bekommt, sondern für verschiedene Kombinationen."
   ]
  },
  {
   "attachments": {},
   "cell_type": "markdown",
   "metadata": {
    "slideshow": {
     "slide_type": "skip"
    }
   },
   "source": [
    "<center><img src=\"https://mermaid.ink/svg/pako:eNptj0trAjEUhf9KuCuFEargJrSCokihuKh0NZlFas44wcyN5FGx4n9vrC100bs65_Kd-7jQzhuQpH3Qx068vCoWpeKgXj1v1vPF6vE9zD41OofwNH64OQZzMZNmKEajmRCn2tgPG63n5h4-3fsY1PO37e-MgJQDi2kz_NmQzg4iitY6J9kzqpiCP-Bb_0XwP0IV9Qi9tqYcf7kFFKUOPRTJIg1anV1SpPhaUJ2T3555RzKFjIry0eiEpdXl7Z5kq13E9QvkMFg7\" width=\"30%\"></center>"
   ]
  },
  {
   "cell_type": "code",
   "execution_count": null,
   "metadata": {
    "slideshow": {
     "slide_type": "skip"
    }
   },
   "outputs": [],
   "source": [
    "def test_funktion(): # Die übliche Notation für Tests in Python ist die Funktionsnamen mit `test_` zu beginnen\n",
    "    assert division(10, 2) == 5\n",
    "    assert division(10, 5) == 2\n",
    "    assert division(50, 1) == 50\n",
    "    assert division(50, 5) == 10"
   ]
  },
  {
   "cell_type": "code",
   "execution_count": null,
   "metadata": {
    "slideshow": {
     "slide_type": "skip"
    }
   },
   "outputs": [],
   "source": [
    "test_funktion()"
   ]
  },
  {
   "cell_type": "markdown",
   "metadata": {
    "slideshow": {
     "slide_type": "skip"
    }
   },
   "source": [
    "## Grenzwerttest"
   ]
  },
  {
   "cell_type": "markdown",
   "metadata": {
    "slideshow": {
     "slide_type": "skip"
    }
   },
   "source": [
    "Ein weiterer wichtiger Test ist der *Grenzwerttest*. Hier prüft man ob Eingaben im Grenzwertbereich korrekt behandelt werden. Zum Beispiel ob positiv oder negativ Unendlich behandelt werden oder ob die Division durch 0 behandelt wird. Wir haben oben beim Erstellen der Funktion definiert, dass bei einer Division durch 0 die Funktion den Wert `None` ausgeben soll."
   ]
  },
  {
   "attachments": {},
   "cell_type": "markdown",
   "metadata": {
    "slideshow": {
     "slide_type": "skip"
    }
   },
   "source": [
    "<center><img src=\"https://mermaid.ink/svg/pako:eNptT8uKAjEQ_JXQJ4UR9Bp2BUURQTwoe3Eyh17T4wQznSGPFRX_feO6ggf7VFVd1Y8r7J0mkHDw2DVitVEscoVeOV-uF5Pp_OPbjy9IjSX_ORreGRNzJsOqLwaDsRCnUpsfE4zj6hE-PXTqlZOv7XOGp5g8i7Vjqvr_S-LZkgiiNtZKzo0iRO-O9IdfLfTeAgW05Fs0Ot9_vQcUxIZaUiAz1FRjslGB4lu2Yopue-Y9yOgTFZA6jZFmBvPnLcgabchqh7xz7slvv-QCXy0\" width=\"30%\"></center>"
   ]
  },
  {
   "cell_type": "code",
   "execution_count": null,
   "metadata": {
    "slideshow": {
     "slide_type": "skip"
    }
   },
   "outputs": [],
   "source": [
    "import math # die Zahl unendlich ist in der math bibliothek definiert\n",
    "\n",
    "def test_grenzwert():\n",
    "    assert division(math.inf, 1) == math.inf\n",
    "    assert division(math.inf, 100) == math.inf\n",
    "    assert math.isnan(division(math.inf, math.inf)) # Das prüfen auf nan (not a number) ist nur durch die funktion `isnan` moeglich\n",
    "    assert division(1, math.inf) == 0\n",
    "    assert division(100, 0) is None"
   ]
  },
  {
   "cell_type": "code",
   "execution_count": null,
   "metadata": {
    "slideshow": {
     "slide_type": "skip"
    }
   },
   "outputs": [],
   "source": [
    "test_grenzwert()"
   ]
  },
  {
   "cell_type": "markdown",
   "metadata": {
    "slideshow": {
     "slide_type": "skip"
    }
   },
   "source": [
    "## Datentyptest"
   ]
  },
  {
   "cell_type": "markdown",
   "metadata": {
    "slideshow": {
     "slide_type": "skip"
    }
   },
   "source": [
    "Da Python dynamische Datentypen unterstützt ist es sehr wichtig *Datentyptest*. Hierbei wird getetstet ob die Funktion falsche Datentypen als Eingabe richtig behandelt. "
   ]
  },
  {
   "attachments": {},
   "cell_type": "markdown",
   "metadata": {
    "slideshow": {
     "slide_type": "skip"
    }
   },
   "source": [
    "<center><img src=\"https://mermaid.ink/svg/pako:eNptT8tqAkEQ_JWhLyqskPOQCIpLCIQcIvGQHQ_tTm92yGzPMo-oEf89s1HBg32qKqq6qCPUThNI-PLYt-L1XbHIF8ZV-fL2PF-Uj1s_-0VqLfmnUYh-NAhMzJk_bCZiOp0Jsau0-THBON6c87uzTuNq_rG6vlmjTVTua-rj4JxcquLBkgiiMdZKdkxFbnHf9I9vLXTfAgV05Ds0Oq84DgEFsaWOFMgMNTWYbFSg-JStmKJbHbgGGX2iAlKvMdLSYN7fgWzQhqz2yJ_OXfnpD57_Yc8\" width=\"30%\"></center>"
   ]
  },
  {
   "cell_type": "markdown",
   "metadata": {
    "slideshow": {
     "slide_type": "skip"
    }
   },
   "source": [
    "\n",
    "\n",
    "Hierbei können wir nicht direkt `assert` nutzen da es ja unseren Code zum Absturz bringt."
   ]
  },
  {
   "cell_type": "code",
   "execution_count": null,
   "metadata": {
    "slideshow": {
     "slide_type": "skip"
    },
    "tags": [
     "raises-exception"
    ]
   },
   "outputs": [],
   "source": [
    "assert division(\"falscher typ\", 1) is ValueError"
   ]
  },
  {
   "cell_type": "markdown",
   "metadata": {
    "slideshow": {
     "slide_type": "skip"
    }
   },
   "source": [
    "Stattdessen nutzen wir im Test einen `try-except`-Block und die `else`-Anweisung. Sie wird nur dann ausgeführt, wenn im `try`-Block *keine* Exception auftritt, was im Testfall ja unerwünscht ist, also `raise` wir in diesem Fall ein AssertionError, da der Testfall scheitert. Ferner prüfen wir, ob die geworfene Exception der Funktion auch den richtigen Typen `TypeError` hat."
   ]
  },
  {
   "cell_type": "code",
   "execution_count": null,
   "metadata": {
    "slideshow": {
     "slide_type": "skip"
    }
   },
   "outputs": [],
   "source": [
    "def test_datentyp():\n",
    "    # wir testen den Zähler\n",
    "    try:  \n",
    "        division(\"falscher typ\", 1)\n",
    "    except Exception as e:\n",
    "        assert isinstance(e, ValueError)\n",
    "    else:\n",
    "        raise AssertionError(\"Datatype\")\n",
    "    # den zweiten Fall des Nenners\n",
    "    try:\n",
    "        division(10, \"falscher typ\")\n",
    "    except Exception as e:\n",
    "        assert isinstance(e, ValueError)\n",
    "    else:\n",
    "        raise AssertionError(\"Datatype\")"
   ]
  },
  {
   "cell_type": "code",
   "execution_count": null,
   "metadata": {
    "slideshow": {
     "slide_type": "skip"
    }
   },
   "outputs": [],
   "source": [
    "test_datentyp()"
   ]
  },
  {
   "cell_type": "markdown",
   "metadata": {
    "slideshow": {
     "slide_type": "skip"
    }
   },
   "source": [
    "## Mit Tests bei Code-Änderungen Fehler erkennen"
   ]
  },
  {
   "cell_type": "markdown",
   "metadata": {
    "slideshow": {
     "slide_type": "skip"
    }
   },
   "source": [
    "Diese Unit-Tests haben wir absichtlich als Funktion definiert, so dass wir sie nun bei Code-Änderungen immer wieder durchführen können. So kann man dann testen, ob die Implementation die gestellten Erwartungen überhaupt oder immer noch erfüllt.\n",
    "\n",
    "Wird zum Beispiel die Divisionsfunktion durch eine triviale Implementation überschrieben."
   ]
  },
  {
   "cell_type": "code",
   "execution_count": null,
   "metadata": {
    "slideshow": {
     "slide_type": "skip"
    }
   },
   "outputs": [],
   "source": [
    "def division(zaehler, nenner):\n",
    "    return zaehler / nenner"
   ]
  },
  {
   "cell_type": "markdown",
   "metadata": {
    "slideshow": {
     "slide_type": "skip"
    }
   },
   "source": [
    "So funktioniert immer noch unser Funktionstest. Weshalb es meistens nicht hinreichend ist, nur diesen zu implementieren oder bei der Entwicklung nur die Funktion zu prüfen."
   ]
  },
  {
   "cell_type": "code",
   "execution_count": null,
   "metadata": {
    "slideshow": {
     "slide_type": "skip"
    }
   },
   "outputs": [],
   "source": [
    "test_funktion()"
   ]
  },
  {
   "cell_type": "markdown",
   "metadata": {
    "slideshow": {
     "slide_type": "skip"
    }
   },
   "source": [
    "Der Grenzwerttest wird allerdings jetzt eine Ausnahme werfen."
   ]
  },
  {
   "cell_type": "code",
   "execution_count": null,
   "metadata": {
    "slideshow": {
     "slide_type": "skip"
    },
    "tags": [
     "raises-exception"
    ]
   },
   "outputs": [],
   "source": [
    "test_grenzwert()"
   ]
  },
  {
   "cell_type": "markdown",
   "metadata": {
    "slideshow": {
     "slide_type": "skip"
    }
   },
   "source": [
    "Auch der Datentyptest ist nicht erfolgreich, weil wir ja definiert haben, dass bei falschen Eingabedatentypen ein `ValueError` erzeugt werden soll, wir aber einen `TypeError` erhalten."
   ]
  },
  {
   "cell_type": "code",
   "execution_count": null,
   "metadata": {
    "slideshow": {
     "slide_type": "skip"
    },
    "tags": [
     "raises-exception"
    ]
   },
   "outputs": [],
   "source": [
    "test_datentyp()"
   ]
  },
  {
   "cell_type": "markdown",
   "metadata": {
    "editable": true,
    "slideshow": {
     "slide_type": "slide"
    },
    "tags": [
     "remove-cell"
    ]
   },
   "source": [
    "## Umgang mit Programmfehlern - Strategien\n",
    "\n",
    "5 Hauptstrategien:\n",
    "\n",
    "1. Fehlervermeidung\n",
    "2. Fehlererkennung\n",
    "3. Fehlerbehebung\n",
    "4. Fehlerbehandlung\n",
    "5. Fehlerausschluss\n",
    "\n",
    "Jede Strategie hat ihre eigenen Methoden und Werkzeuge\n"
   ]
  },
  {
   "cell_type": "markdown",
   "metadata": {
    "editable": true,
    "slideshow": {
     "slide_type": "subslide"
    },
    "tags": [
     "remove-cell"
    ]
   },
   "source": [
    "## 1. Fehlervermeidung\n",
    "\n",
    "- Grundprinzip: Beginnt mit Erfahrung darüber, wo Fehler entstehen können\n",
    "\n",
    "- Strategien für sicheren Code:\n",
    "    - *Code Reviews* → Jede Codezeile wird von einem anderen Programmierer geprüft\n",
    "    - *Test-Driven Development* → Man schreibt den Test vor dem eigentlichen Code\n",
    "    - *Full Test Coverage* → Jede Codezeile sollte mindestens einen Test haben\n",
    "\n",
    "- Achtung: Vorbeugung kann viel Vorarbeit bedeuten"
   ]
  },
  {
   "cell_type": "markdown",
   "metadata": {
    "editable": true,
    "slideshow": {
     "slide_type": "subslide"
    },
    "tags": [
     "remove-cell"
    ]
   },
   "source": [
    "## 2. Fehlererkennung\n",
    "\n",
    "Verschiedene Fehlertypen erfordern verschiedene Werkzeuge\n",
    "\n",
    "<div class=\"flex-row\">\n",
    "<div class=\"col1\">\n",
    "\n",
    "Syntaktische Fehler:\n",
    "- Automatisch in der IDE erkannt\n",
    "\n",
    "</div>\n",
    "<div class=\"col1\">\n",
    "\n",
    "Statische Fehler:\n",
    "- Mittels *Lint-Tools* (statische Code-Analyse)\n",
    "- Regelbasierte Verfahren\n",
    "- Moderne IDEs nutzen intern Lint-Tools\n",
    "\n",
    "</div>\n",
    "<div class=\"col1\">\n",
    "\n",
    "Dynamische Fehler:\n",
    "- Prüfen durch *automatisch ausgeführte Unit-Tests*\n",
    "- Nach jeder Code-Änderung\n",
    "- Testen Funktionen/Methoden systematisch\n",
    "\n",
    "</div>\n",
    "</div>"
   ]
  },
  {
   "cell_type": "markdown",
   "metadata": {
    "editable": true,
    "slideshow": {
     "slide_type": "subslide"
    },
    "tags": [
     "remove-cell"
    ]
   },
   "source": [
    "## 2. Fehlererkennung – Unit-Tests\n",
    "\n",
    "<div class=\"alert alert-block alert-success\">\n",
    "<b>📘 Definition: Unit-Test</b>\n",
    "\n",
    "Unit-Tests sind zusätzlich geschriebener Code, der nur zum Testen eines Moduls (Funktion, Klassen, Module) geschrieben wurde.\n",
    "</div>\n",
    "\n",
    "- Wichtige Eigenschaften:\n",
    "    - Oft ist Test-Code umfangreicher als der zu testende Code\n",
    "    - *Ziel:* Prüfen ob Modul gewünschte Funktion korrekt ausführt\n",
    "    - *White-Box-Test:* Modul mit bestimmten Eingaben aufrufen\n",
    "    - Erwartete Ausgaben oder Exceptions prüfen\n",
    "    - Sollte *automatisierte Ausgeführt* werden nach jeder Code-Änderung\n"
   ]
  },
  {
   "cell_type": "markdown",
   "metadata": {
    "editable": true,
    "slideshow": {
     "slide_type": "subslide"
    },
    "tags": [
     "remove-cell"
    ]
   },
   "source": [
    "## 2. Fehlererkennung – Unit-Test Typen\n",
    "\n",
    "<div class=\"flex-row\">\n",
    "<div class=\"col1\">\n",
    "\n",
    "**Funktionstests**\n",
    "\n",
    "Korrekte Erfüllung der Funktion\n",
    "\n",
    "\n",
    "Beispiel: Division-Modul\n",
    "```python\n",
    "zaehler = 10\n",
    "nenner = 2\n",
    "ergebnis = division(zaehler, nenner)\n",
    "assert ergebnis==5 # Erwartet: 5\n",
    "```\n",
    "\n",
    "</div>\n",
    "<div class=\"col1\">\n",
    "\n",
    "**Grenzwerttests**\n",
    "\n",
    "Korrekter Umgang mit Grenzwerten\n",
    "\n",
    "```python\n",
    "zaehler = 10\n",
    "nenner = 0\n",
    "ergebnis = division(zaehler, nenner)\n",
    "assert ergebnis==None # Erwartet: None\n",
    "```\n",
    "</div>\n",
    "<div class=\"col1\">\n",
    "\n",
    "**Datentyptests**\n",
    "\n",
    "Korrekter Umgang mit unerwarteten Eingaben\n",
    "\n",
    "```python\n",
    "zaehler = 'keine_zahl'\n",
    "nenner = 0\n",
    "try:\n",
    "    ergebnis = division(zaehler, nenner)\n",
    "    assert False # We let the test fail \n",
    "except TypeError as e:\n",
    "    # Erwartet: TypeError\n",
    "```\n",
    "</div>\n",
    "</div>"
   ]
  },
  {
   "cell_type": "markdown",
   "metadata": {
    "editable": true,
    "slideshow": {
     "slide_type": "subslide"
    },
    "tags": [
     "remove-cell"
    ]
   },
   "source": [
    "## 3. Fehlerbehebung - Grundlagen\n",
    "\n",
    "<div class=\"alert alert-block alert-success\">\n",
    "<b>📘 Definition: Debugging</b>\n",
    "\n",
    "Debugging ist das systematische Suchen und Beheben von Fehlern.\n",
    "</div>\n",
    "\n",
    "- Methoden:\n",
    "    - Logging-Nachrichten zur Verfolgung des Programmflusses\n",
    "    - Debugger für detaillierte Analyse\n",
    "\n",
    "- Debugger-Funktionen:\n",
    "    - Schrittweise Ausführung von Codezeilen\n",
    "    - Überwachen von Variablenwerten\n",
    "    - Dynamisches Einfügen von Code"
   ]
  },
  {
   "cell_type": "markdown",
   "metadata": {
    "editable": true,
    "slideshow": {
     "slide_type": "subslide"
    },
    "tags": [
     "remove-cell"
    ]
   },
   "source": [
    "## 3. Fehlerbehebung – In Python\n",
    "\n",
    "- Das systematische Debugging ist eine Kernkompetenz jeden Programmierers\n",
    "- Python Debugging-Tools\n",
    "    - Standard-Debugger: pdb (Python-Modul)\n",
    "    - IDE-eigene Debugger (oft benutzerfreundlicher)\n",
    "- Mehr Details dazu in der Übung!"
   ]
  },
  {
   "cell_type": "markdown",
   "metadata": {
    "editable": true,
    "slideshow": {
     "slide_type": "subslide"
    },
    "tags": [
     "remove-cell"
    ]
   },
   "source": [
    "## 4. Fehlerbehandlung - Auf alles vorbereitet sein\n",
    "\n",
    "<div class=\"flex-row\">\n",
    "<div class=\"col1\">\n",
    "\n",
    "- Realität: Allen Bemühungen zum Trotz werden in realen Programmen Fehler zur Laufzeit auftreten\n",
    "\n",
    "- Ziel:\n",
    "    - Fehler abfangen und behandeln\n",
    "    - Programm läuft weiter oder beendet kontrolliert\n",
    "\n",
    "</div>\n",
    "<div class=\"col1\">\n",
    "\n",
    "- Mechanismus:\n",
    "    - Dynamischer Fehler → *Exception* wird erzeugt\n",
    "    - Python-Werkzeuge: `try`, `except`, `raise`\n",
    "\n",
    "</div>\n",
    "</div>"
   ]
  },
  {
   "cell_type": "markdown",
   "metadata": {
    "editable": true,
    "slideshow": {
     "slide_type": "subslide"
    },
    "tags": [
     "remove-cell"
    ]
   },
   "source": [
    "## 4. Fehlerbehandlung - In Python\n",
    "\n",
    "- `try:` Enthält ein (vermutlich fehleranfälliges) Stück Programmcode\n",
    "- `except:` Tritt im try-Block ein bestimmter Fehler (Exception) auf, wird dieser beendet und der passende except-Block aufgerufen.\n",
    "- `raise:` Wird in einem except-Block aufgerufen um eine Exception weiterzugeben\n",
    "- `finally:` Wird nach dem Ende des try-Blocks aufgerufen, egal ob es einen Fehler gab oder nicht\n",
    "- `else:` optional definiert nach allen except-Blöcken, wird ausgeführt falls im try-Block keine Exception auftritt\n"
   ]
  },
  {
   "cell_type": "markdown",
   "metadata": {
    "editable": true,
    "slideshow": {
     "slide_type": "slide"
    },
    "tags": [
     "remove-cell"
    ]
   },
   "source": [
    "## Semantische Fehler - Exceptions\n",
    "\n",
    "<div class=\"flex-row\">\n",
    "<div class=\"col1\">\n",
    "\n",
    "- *Exception*-Mechanismus:\n",
    "    - Unterbrechen normalen Programmverlauf\n",
    "    - Kommunizieren Fehler mit Fehlermeldung\n",
    "    - Verhindern unkontrolliertes Abstürzen\n",
    "    - Werden im *Stack nach oben weitergegeben*\n",
    "    - Bis sie abgefangen oder Programm abstürzt\n",
    "\n",
    "- Ziel: Programm in lauffähigen Zustand halten\n",
    "\n",
    "</div>\n",
    "<div class=\"col1\">\n",
    "<figure class=\"mj-fig\">\n",
    "    <img src=\"images/06b_UnitTest/stack3.svg\" class=\"mj-fig-img\">\n",
    "</figure>\n",
    "</div>\n",
    "</div>"
   ]
  },
  {
   "cell_type": "markdown",
   "metadata": {
    "editable": true,
    "slideshow": {
     "slide_type": "subslide"
    },
    "tags": [
     "remove-cell"
    ]
   },
   "source": [
    "## Semantische Fehler – Exceptions abfangen\n",
    "\n",
    "<div class=\"flex-row\">\n",
    "<div class=\"col1\">\n",
    "\n",
    "Bekannte Exceptions sollten immer abgefangen werden\n",
    "\n",
    "Python `try-except`-Block:\n",
    "```python\n",
    "try:\n",
    "    # Block mit erwarteter Exception\n",
    "    ergebnis = zaehler / nenner\n",
    "except:\n",
    "    # Fehlerbehandlung\n",
    "    print(\"Division durch 0\")\n",
    "    ergebnis = None\n",
    "```\n",
    "\n",
    "</div>\n",
    "<div class=\"col1\">\n",
    "<figure class=\"mj-fig\">\n",
    "    <img src=\"images/06b_UnitTest/stack4.svg\" class=\"mj-fig-img\">\n",
    "</figure>\n",
    "</div>\n",
    "</div>"
   ]
  },
  {
   "cell_type": "markdown",
   "metadata": {
    "editable": true,
    "slideshow": {
     "slide_type": "subslide"
    },
    "tags": [
     "remove-cell"
    ]
   },
   "source": [
    "## Semantische Fehler - Exception-Ebenen\n",
    "\n",
    "<div class=\"flex-row\">\n",
    "<div class=\"col1\">\n",
    "\n",
    "Exceptions werden auf mehreren Ebenen genutzt:\n",
    "\n",
    "- Betriebssystem - Vordefinierte System-Exceptions\n",
    "- Programmiersprache - Eingebaute Language-Exceptions  \n",
    "- Eigener Code - Selbst definierte Exceptions\n",
    "\n",
    "</div>\n",
    "<div class=\"col1\">\n",
    "\n",
    "Einsatzgebiete (wo Fehler wahrscheinlich sind):\n",
    "- Kommunikation mit externen Quellen\n",
    "- Lesen von Dateien\n",
    "- Nutzereingaben\n",
    "- Netzwerkverbindungen\n",
    "\n",
    "</div>\n",
    "</div>"
   ]
  },
  {
   "cell_type": "markdown",
   "metadata": {
    "editable": true,
    "slideshow": {
     "slide_type": "subslide"
    },
    "tags": [
     "remove-cell"
    ]
   },
   "source": [
    "## 4. Fehlerbehandlung - Beispiel: Division durch 0\n",
    "\n",
    "<script>setSectionBackground('#FFD966');</script>\n",
    "<div class=\"flex-row\">\n",
    "<div class=\"col1\">\n",
    "\n",
    "```python\n",
    "zaehler = 12\n",
    "nenner = 0\n",
    "\n",
    "try:\n",
    "    ergebnis = zaehler / nenner\n",
    "except:\n",
    "    print(\"Exception\")\n",
    "```\n",
    "\n",
    "</div>\n",
    "<div class=\"col1\">\n",
    "\n",
    "*Frage:* Welche Exceptions können hier geworfen werden?\n",
    "\n",
    "</div>\n",
    "</div>"
   ]
  },
  {
   "cell_type": "markdown",
   "metadata": {
    "editable": true,
    "slideshow": {
     "slide_type": "subslide"
    },
    "tags": [
     "remove-cell"
    ]
   },
   "source": [
    "## 4. Fehlerbehandlung - Beispiel: Division durch 0\n",
    "\n",
    "<div class=\"flex-row\">\n",
    "<div class=\"col1\">\n",
    "\n",
    "```python\n",
    "zaehler = 12\n",
    "nenner = 0\n",
    "\n",
    "try:\n",
    "    ergebnis = zaehler / nenner\n",
    "except:\n",
    "    print(\"Exception\")\n",
    "```\n",
    "\n",
    "</div>\n",
    "<div class=\"col1\">\n",
    "\n",
    "*Frage:* Welche Exceptions können hier geworfen werden?\n",
    "\n",
    "Mögliche Exceptions:\n",
    "- `ZeroDivisionError` - Division durch 0\n",
    "- `TypeError` - Falscher Datentyp\n",
    "- `NameError` - Variable nicht definiert\n",
    "\n",
    "</div>\n",
    "</div>"
   ]
  },
  {
   "cell_type": "markdown",
   "metadata": {
    "editable": true,
    "slideshow": {
     "slide_type": "subslide"
    },
    "tags": [
     "remove-cell"
    ]
   },
   "source": [
    "## 4. Fehlerbehandlung - Exceptions propagieren\n",
    "\n",
    "- Wichtiges Konzept in komplexerer Software\n",
    "- Wir können Fehler zwar lokal behandeln, wollen aber dennoch die \"oberen Ebenen\" des Programmes darüber informieren.\n",
    "- Die `raise`-Anweisung \"wirft\" dafür aus einem `except`-Block eine Exception weiter nach oben.\n"
   ]
  },
  {
   "cell_type": "markdown",
   "metadata": {
    "editable": true,
    "slideshow": {
     "slide_type": "subslide"
    },
    "tags": [
     "remove-cell"
    ]
   },
   "source": [
    "## 4. Fehlerbehandlung - Beispiel: Exception weiterreichen\n",
    "\n",
    "```python\n",
    "def count_up_and_down(x):\n",
    "    if x <= 0:\n",
    "        raise ValueError(\"No negative values allowed\")\n",
    "    \n",
    "    # Verknüpft vorwärts- und rückwärts-Liste\n",
    "    return list(range(x)) + list(reversed(list(range(x-1))))\n",
    "\n",
    "try:\n",
    "    print(count_up_and_down(-6))\n",
    "except ValueError:\n",
    "    print(\"That value was invalid.\")\n",
    "```\n"
   ]
  },
  {
   "cell_type": "markdown",
   "metadata": {
    "editable": true,
    "slideshow": {
     "slide_type": "slide"
    },
    "tags": [
     "remove-cell"
    ]
   },
   "source": [
    "## 5. Fehlerausschluss - Korrektheit von Programmen mathematisch beweisen\n",
    "\n",
    "- Gewisser Programmcode kann mittels *mathematischen Beweises* validiert werden\n",
    "- *Hoare-Kalkül:* Programm Zeile für Zeile mit mathematischer Logik formalisieren\n",
    "- Von vorne nach hinten durch das gesamte Programm\n",
    "\n",
    "- *Problem:* Für die meisten Anwendungen zu zeitaufwendig und komplex\n",
    "\n",
    "- *Einsatz:* Nur bei kritischen Systemen (Medizintechnik, Luftfahrt, etc.)\n",
    "  "
   ]
  },
  {
   "cell_type": "markdown",
   "metadata": {
    "slideshow": {
     "slide_type": "skip"
    }
   },
   "source": [
    "## Quiz\n",
    "\n",
    "\n",
    "```{quizdown}\n",
    "    \n",
    "    shuffleQuestions: true\n",
    "    shuffleAnswers: true\n",
    "    \n",
    "\n",
    "    ### Was ist ein Bug?\n",
    "    - [x] Ein unbeabsichtigter Fehler im Programm.\n",
    "    - [ ] Ein spezielles Feature eines Debuggers.\n",
    "    - [ ] Ein Programm, das andere Programme testet.\n",
    "    - [ ] Eine Funktion, die besonders schwer zu verstehen ist.\n",
    "\n",
    "    ### Was ist ein Unit-Test in Python?\n",
    "    - [x] Ein Test für eine einzelne Funktion oder Klasse\n",
    "    - [ ] Ein Test für ein ganzes Programm\n",
    "    - [ ] Ein visuelles Testwerkzeug\n",
    "    - [ ] Eine Form der Dokumentation\n",
    "\n",
    "    ### Was passiert, wenn ein `assert` fehlschlägt?\n",
    "    - [ ] Der Test wird übersprungen\n",
    "    - [x] Es wird eine `AssertionError` ausgelöst\n",
    "    - [ ] Der Code läuft trotzdem weiter\n",
    "    - [ ] Das Programm wird beendet, ohne Fehlermeldung\n",
    "\n",
    "    ### Warum verwendet man Unit-Tests?\n",
    "    - [x] Um Fehler frühzeitig zu erkennen\n",
    "    - [ ] Um Code automatisch zu formatieren\n",
    "    - [ ] Um den Speicherverbrauch zu senken\n",
    "    - [ ] Um die Benutzeroberfläche zu verbessern\n",
    "\n",
    "    ### Welche Pakete werden in Python häufig für Unit-Tests verwendet?\n",
    "    - [x] `unittest`\n",
    "    - [x] `nosetest`\n",
    "    - [ ] `math`\n",
    "    - [ ] `pytest-ui`\n",
    "\n",
    "    ### Welche Arten von Teststrategien gibt es?\n",
    "    - [x] Grenzwerttest\n",
    "    - [x] Funktionstest\n",
    "    - [x] Datentyptest\n",
    "    - [ ] Syntaxtest\n",
    "\n",
    "```"
   ]
  },
  {
   "cell_type": "markdown",
   "metadata": {
    "slideshow": {
     "slide_type": "slide"
    },
    "tags": [
     "remove-cell"
    ]
   },
   "source": [
    "<div class=\"vslide\">\n",
    "  <div class=\"vslide-title\">\n",
    "    <p style=\"font-family: Protomolecule; font-size: 2.3em; margin: 0px auto; text-align: center; width: 100%;\">fragen?</p>\n",
    "  </div>\n",
    "  <script>setSectionBackground('#000000', 'images/mj_questions.mp4');</script>\n",
    "</div>"
   ]
  }
 ],
 "metadata": {
  "kernelspec": {
   "display_name": "Python 3 (ipykernel)",
   "language": "python",
   "name": "python3"
  },
  "language_info": {
   "codemirror_mode": {
    "name": "ipython",
    "version": 3
   },
   "file_extension": ".py",
   "mimetype": "text/x-python",
   "name": "python",
   "nbconvert_exporter": "python",
   "pygments_lexer": "ipython3",
   "version": "3.12.10"
  },
  "rise": {
   "auto_select": "none",
   "center": false,
   "enable_chalkboard": true,
   "header": "<img src=\"images/pd_logo.svg\" class=\"header_title_logo\"><img src=\"images/ai4sc_logo_v2.svg\" class=\"header_ai4sc_logo\">",
   "scroll": true,
   "show_buttons_on_startup": false,
   "slideNumber": true,
   "theme": "white"
  },
  "vscode": {
   "interpreter": {
    "hash": "c6f6ea9c9385f57658f4c302ffd3b717b6cd59b095fbd1c55795f0b67656eecd"
   }
  }
 },
 "nbformat": 4,
 "nbformat_minor": 4
}