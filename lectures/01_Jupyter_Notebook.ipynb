{
 "cells": [
  {
   "cell_type": "markdown",
   "id": "ce191c23",
   "metadata": {
    "editable": true,
    "slideshow": {
     "slide_type": ""
    },
    "tags": [
     "remove-cell"
    ]
   },
   "source": [
    "<center><img src=\"images/ML_video_w_s.webp\" style=\"margin: 20 auto;\"></center>\n",
    "<p style=\"font-family: Protomolecule; font-size: 2.3em; line-height: 90%; margin: 0 auto; text-align: center; width: 100%;\"><span style=\"letter-spacing: .1rem;\">Machine</span><br><span style=\"letter-spacing: -.1rem;\">Learning</span></p>\n",
    "<p class=\"author\" style=\"font-family: Protomolecule; margin: 0px auto;  text-align: center; width: 100%; font-size: 1.2em;\">Joern Ploennigs</p>\n",
    "<p class=\"subtitle\" style=\"font-family: Protomolecule; font-size: larger; margin: 1em auto; text-align: center; width: 100%; font-size: 1.2em;\">Jupyter Notebooks</p>"
   ]
  },
  {
   "cell_type": "markdown",
   "id": "2eb17605",
   "metadata": {
    "editable": true,
    "slideshow": {
     "slide_type": "skip"
    },
    "tags": []
   },
   "source": [
    "# Jupyter Notebooks"
   ]
  },
  {
   "cell_type": "markdown",
   "id": "4435e0ea",
   "metadata": {
    "editable": true,
    "slideshow": {
     "slide_type": "skip"
    },
    "tags": []
   },
   "source": [
    "![](images/midjourney_paper_notebook.png)\n",
    "> I never wrote things down to remember; I always wrote things down so I could forget.\n",
    "> \n",
    "> — Matthew McConaughey"
   ]
  },
  {
   "cell_type": "markdown",
   "id": "daf05082",
   "metadata": {
    "editable": true,
    "slideshow": {
     "slide_type": "skip"
    },
    "tags": []
   },
   "source": [
    "In den letzten Jahren ist es immer beliebter geworden, Python über eine interaktive webbasierte Umgebung _Jupyter Notebook_ zu verwenden. Notebooks bestehen aus _Code-Zellen_ und _Markdown-Zellen_ (Text-Zellen). Code-Zellen können Code enthalten, der mit einem einfachen Klick (oder Tastenkombinationen, z.B. `Shift-Enter`) ausgeführt werden kann. Der Code wird durch `ipython` ausgeführt, was eine Erweiterung von Python ist, die eine interaktive, schrittweise Programmierung erlaubt. Die Markdown-Zellen enthalten Markdown-Text und können durch einen ähnlichen Klick oder eine Tastenkombination gerendert werden. Der große Vorteil von Notebooks ist das sofortige Feedback: Man kann den Code ein paar Zeilen auf einmal schreiben, diese ausführen und sofort potenzielle Fehler korrigieren. Das macht Notebooks zu einer beliebten Methode für Data Science und Maschinellem Lernen in Python, da man leicht Code, Ausgaben und textliche Erklärungen in einem Notebook mischen kann, den Code dynamisch entwickeln kann und das Ergebnis in HTML-Seiten oder ein PDF-Dokument umwandeln kann, zur Dokumentation. Aber Notebooks sind nicht die Lösung für jedes Problem, so ist es nicht einfach Benutzerinteraktion zu realisieren. Notebooks erlauben auch das Ausführen von Zellen in beliebiger Reihenfolge, was zu Fehlern führen kann, die man in der traditionellen Codierung nicht sieht."
   ]
  },
  {
   "cell_type": "markdown",
   "id": "cd44185d",
   "metadata": {
    "editable": true,
    "slideshow": {
     "slide_type": "skip"
    },
    "tags": []
   },
   "source": [
    "## <a href=\"/lec_slides/01_Jupyter_Notebook.slides.html\">Folien</a>\n",
    "<iframe src=\"/lec_slides/01_Jupyter_Notebook.slides.html\" width=\"750\" height=\"500\"></iframe>"
   ]
  },
  {
   "cell_type": "markdown",
   "id": "be546246",
   "metadata": {
    "slideshow": {
     "slide_type": "slide"
    }
   },
   "source": [
    "## Oberfläche"
   ]
  },
  {
   "cell_type": "markdown",
   "id": "e0881cd8",
   "metadata": {},
   "source": [
    "\n",
    "Die Notebooks werden in einem Webbrowser angezeigt und laufen entweder auf einem lokalem Notebook-Server oder auf einem Server in der Cloud. Eine Ausführungsumgebung für Notebooks ist JupyterLab. Das ist ein Notebook-Server der vor allem erlaubt mit mehreren Notebooks komfortabel zu arbeiten."
   ]
  },
  {
   "cell_type": "markdown",
   "id": "77763884",
   "metadata": {
    "editable": true,
    "slideshow": {
     "slide_type": "subslide"
    },
    "tags": []
   },
   "source": [
    "```{figure} images/python-in-notebook.png\n",
    ":name: python-in-notebook\n",
    ":alt: Python running in jupyterlab notebook\n",
    ":align: center\n",
    ":width: 400px\n",
    ":figwidth: 50%\n",
    "\n",
    "Oberfläche von Jupyter-Lab mit einem Jupyter-Notebook. Der Code befindet sich in der Code-Zelle, die Ausgabe ist darunter sichtbar.\n",
    "```"
   ]
  },
  {
   "cell_type": "markdown",
   "id": "2b12750d-2360-4553-8042-d9982f5a2584",
   "metadata": {
    "editable": true,
    "slideshow": {
     "slide_type": "-"
    },
    "tags": []
   },
   "source": [
    "Die Notebook-Zellen können entweder Code oder Markdown-Text enthalten. Die Abbildung rechts zeigt drei Zellen in _Jupyterlab_. Die Zelle, die mit einer blauen Leiste links markiert ist, ist die aktive Zelle, in der man Code oder Text schreiben und bearbeiten kann. Dies ist derzeit eine Markdown-Zelle, wie im Dropdown-Menü oben rechts sichtbar (grün unterstrichen). Markdown ist eine vereinfachte Auszeichnungssprache, um Texte zu schreiben und zu formatieren. Hierbei verwendet man einfache Sonderzeichen, um Überschriften zu definieren oder Text zu formatieren. Ein Überblick über den Syntax findet sich [hier](https://www.markdownguide.org/basic-syntax/). Als praktische Implikation kann man in Markdown Zellen auch HTML einfügen und so praktisch Webseiten erstellen."
   ]
  },
  {
   "cell_type": "markdown",
   "id": "aeb25959-1434-48d9-86d5-640818ddd574",
   "metadata": {
    "editable": true,
    "slideshow": {
     "slide_type": "subslide"
    },
    "tags": []
   },
   "source": [
    "Zellen können mit dem \"Ausführen\"-Dreieck ▶ in der Mitte der Iconleiste (grün unterstrichen) ausgeführt werden. Einfacher ist es sich anzugewöhnen die Zellen mit `Shift-Enter` zu schließen. Dadurch wird enthaltender Code ausgeführt oder der Markdown-Text gerendert."
   ]
  },
  {
   "cell_type": "markdown",
   "id": "11df60f0",
   "metadata": {
    "editable": true,
    "slideshow": {
     "slide_type": ""
    },
    "tags": []
   },
   "source": [
    "```{figure} images/jupyterlab-markdown.png\n",
    ":name: jupyterlab-markdown\n",
    ":alt: Jupyterlab Markdown\n",
    ":align: center\n",
    ":width: 400px\n",
    ":figwidth: 50%\n",
    "\n",
    "Das Hinzufügen von Markdown zu Notebooks. Man kann den Zellentyp aus dem Dropdown-Menü oben rechts auswählen und anschließend das Markdown mit dem Pfeil-Symbol ▶ rendern (beide unterstrichen), oder einfacher mit `Shift-Enter`.\n",
    "```"
   ]
  },
  {
   "cell_type": "markdown",
   "id": "e186165f",
   "metadata": {
    "editable": true,
    "slideshow": {
     "slide_type": "-"
    },
    "tags": []
   },
   "source": [
    "Unten sehen wir eine Code-Zelle, die bereits ausgeführt wurde. Code-Zellen können an den Klammern links erkannt werden, die Zahl in der Klammer `[7]` bedeutet, dass diese Zelle als 7. Zelle in diesem Notebook ausgeführt wurde. Wenn der Code irgendwelche Ausgaben erzeugt, sind diese auch darunter sichtbar. Das visuelle Layout und die Menüs sind etwas anders, wenn Notebooks außerhalb von _Jupyterlab_ verwendet werden."
   ]
  },
  {
   "cell_type": "markdown",
   "id": "37c856cf-25c7-4038-a2b0-abee70b5be47",
   "metadata": {
    "editable": true,
    "slideshow": {
     "slide_type": "slide"
    },
    "tags": []
   },
   "source": [
    "## Jupyter Notebooks und Python installieren"
   ]
  },
  {
   "cell_type": "markdown",
   "id": "fe726981-e5df-418c-b24a-3646ee60d239",
   "metadata": {
    "editable": true,
    "slideshow": {
     "slide_type": ""
    },
    "tags": []
   },
   "source": [
    "Möchte man Jupyter Notebooks lokal ausführen, so muss man zuerst Python installieren. Python ist sehr beliebt um einfache Skripte für Betriebssystem (OS)-bezogene Aufgaben zu schreiben, deshalb kann bereits eine Version von Python installiert sein. Das sollte man prüfen, um Probleme zu vermeiden.\n",
    "\n",
    "Für Maschinelles Lernen ist es empfohlen einen guten Paketmanager für Python zu installieren, der beim Installieren von genutzten Paketen auch Abhängigkeiten auflöst. Hier ist im Bereich des Maschinellen Lernens _Anaconda_ oder _Miniconda_ sehr beliebt. Anaconda ist ein Paketmanager für Python, der insbesondere beliebte Bibliotheken und viele andere verwandte Tools enthält. Sie müssen den [Anaconda-Installer](https://www.anaconda.com/products/individual) herunterladen und auf Ihrem Computer ausführen. Wählen Sie die Standardeinstellungen, es sei denn, Sie wissen, was Sie tun."
   ]
  },
  {
   "cell_type": "markdown",
   "id": "3e8a2451",
   "metadata": {
    "editable": true,
    "slideshow": {
     "slide_type": ""
    },
    "tags": []
   },
   "source": [
    "```{figure} images/anaconda-navigator.png\n",
    ":name: anaconda-navigator\n",
    ":width: 400px\n",
    ":align: center\n",
    "\n",
    "Anaconda Navigator in Windows\n",
    "```"
   ]
  },
  {
   "cell_type": "markdown",
   "id": "5aae41a5",
   "metadata": {
    "editable": true,
    "slideshow": {
     "slide_type": "subslide"
    },
    "tags": []
   },
   "source": [
    "Auf Windows und Mac OS installiert Anaconda den _Anaconda Navigator_, eine grafische Benutzeroberfläche, die es Ihnen ermöglicht, auf die wichtigsten mit Anaconda verbundenen Programme zuzugreifen. Dazu gehören _JupyterLab_ und _Jupyter Notebooks_ für interaktives Codieren, der Texteditor _Spyder_ und eine Anaconda-fähige Befehlszeilenschnittstelle. Letztere ist nützlich, wenn Sie Python-Programme von der Befehlszeile ausführen möchten.\n",
    "\n",
    "Anaconda ermöglicht es auch, verschiedene Versionen von Python und anderen Paketen gleichzeitig über _Umgebungen_ installiert zu halten. Sie können sich Umgebungen als verschiedene Ordner vorstellen, die verschiedene Versionen der Software enthalten. Wenn es jedoch das erste Mal ist, dass Sie Anaconda auf Ihrem Computer installieren, müssen Sie keine Umgebungen einrichten."
   ]
  },
  {
   "cell_type": "markdown",
   "id": "73b71035",
   "metadata": {
    "editable": true,
    "slideshow": {
     "slide_type": "subslide"
    },
    "tags": []
   },
   "source": [
    "Python kann auf verschiedene Arten verwendet werden. Der traditionelle Weg besteht darin, einen Texteditor oder eine IDE zu verwenden, um ein Python-Programm zu schreiben (typischerweise mit der Dateierweiterung _.py_) und das Programm von der Befehlszeile aus auszuführen. Moderne IDEs unterstützen auch die Ausführung von Code mit einem einzigen Klick. Die Befehlszeile ist der bevorzugte Weg, um Python-Code (oder jeden anderen Programmcode) für Aufgaben auszuführen, die lange dauern oder im Hintergrund ohne Benutzerinteraktion laufen. Wenn Sie Anaconda verwenden, sollten Sie das entsprechende Anaconda-Befehlsfenster verwenden, um Python-Programme auszuführen."
   ]
  },
  {
   "cell_type": "markdown",
   "id": "acf0a6ec",
   "metadata": {
    "editable": true,
    "slideshow": {
     "slide_type": "slide"
    },
    "tags": []
   },
   "source": [
    "## Hausaufgaben"
   ]
  },
  {
   "cell_type": "markdown",
   "id": "27bdceac",
   "metadata": {
    "editable": true,
    "slideshow": {
     "slide_type": "subslide"
    },
    "tags": []
   },
   "source": [
    "### Abrufen von Aufgaben"
   ]
  },
  {
   "cell_type": "markdown",
   "id": "91c2b807",
   "metadata": {
    "editable": true,
    "slideshow": {
     "slide_type": ""
    },
    "tags": []
   },
   "source": [
    "Die Hausaufgaben können auf der JupyterLab-Platform heruntergeladen, bearbeitet und abgegeben werden. Hierfür dient der Menüpunkt \"Nbgrader\". Die Option \"Assignments\" ist die wichtigste, da sie die Seite mit den Aufgaben anzeigt. Die Option \"Courses\" zeigt alle Kurse an denen man Teilnimmt. Die Option \"Formgrader\" nutzen Lehrende, um die Aufgaben der Studenten einzusehen."
   ]
  },
  {
   "cell_type": "markdown",
   "id": "bacacfb4",
   "metadata": {
    "editable": true,
    "slideshow": {
     "slide_type": ""
    },
    "tags": []
   },
   "source": [
    "![Nbgrader menu](images/nbgrader_menu.png)"
   ]
  },
  {
   "cell_type": "markdown",
   "id": "b7c9593d",
   "metadata": {
    "editable": true,
    "slideshow": {
     "slide_type": "subslide"
    },
    "tags": []
   },
   "source": [
    "Wählt man im \"Nbgrader\" Menu die Option \"Assignments\" so öffnet sich die Ansicht der aktuellen Aufgaben. Im Beispiel wird eine Aufgabe angezeigt. Durch betätigen von \"fetch\" wird die ausgewählte Aufgabe heruntergeladen."
   ]
  },
  {
   "cell_type": "markdown",
   "id": "b8bdda8f",
   "metadata": {
    "editable": true,
    "slideshow": {
     "slide_type": ""
    },
    "tags": []
   },
   "source": [
    "![Nbgrader: Available assignments](images/nbgrader_menu_assignments.png)"
   ]
  },
  {
   "cell_type": "markdown",
   "id": "49d270b1",
   "metadata": {
    "editable": true,
    "slideshow": {
     "slide_type": "subslide"
    },
    "tags": []
   },
   "source": [
    "Sie erscheint dadurch zum einen in der Liste der „Downloaded Assignments“. Durch Klick auf den blauen Namen der Aufgabe wird der Unterordner der Aufgabe geöffnet und angezeigt. Hier werden dann alle Notebooks und zugehörigen Dateien angezeigt."
   ]
  },
  {
   "cell_type": "markdown",
   "id": "fb8a87cf",
   "metadata": {
    "editable": true,
    "slideshow": {
     "slide_type": ""
    },
    "tags": []
   },
   "source": [
    "![Nbgrader: Downloaded Assignments](images/nbgrader_menu_assignments2.png)"
   ]
  },
  {
   "cell_type": "markdown",
   "id": "fed01179",
   "metadata": {
    "editable": true,
    "slideshow": {
     "slide_type": "subslide"
    },
    "tags": []
   },
   "source": [
    "### Bearbeiten von Aufgaben"
   ]
  },
  {
   "cell_type": "markdown",
   "id": "29c6b8f3",
   "metadata": {
    "editable": true,
    "slideshow": {
     "slide_type": ""
    },
    "tags": []
   },
   "source": [
    "Lesen sie zuerst die Aufgabenstellung durch. In den Code-Zellen finden Sie dann einen Abschnitt `YOUR CODE HERE` or \"YOUR ANSWER HERE\". Löschen sie auch die ggf. folgende Zeile `raise NotImplementedError()`. Wenn Sie die Zelle erfolgreich bearbeitet haben, können Sie diese mit `Shift+Enter` ausführen. Achten Sie darauf, dass die Ausführung erfolgreich war."
   ]
  },
  {
   "cell_type": "markdown",
   "id": "c87191de",
   "metadata": {
    "editable": true,
    "slideshow": {
     "slide_type": ""
    },
    "tags": []
   },
   "source": [
    "![Nbgrader menu](images/nbgrader_notebook.png)"
   ]
  },
  {
   "cell_type": "markdown",
   "id": "45f0a9fc",
   "metadata": {
    "editable": true,
    "slideshow": {
     "slide_type": "subslide"
    },
    "tags": []
   },
   "source": [
    "Auf jede zu ergänzende Code-Zelle folg normalerweise eine Test-Zelle. Diese können Sie nicht bearbeiten."
   ]
  },
  {
   "cell_type": "markdown",
   "id": "2cf6f9a9",
   "metadata": {
    "editable": true,
    "slideshow": {
     "slide_type": ""
    },
    "tags": []
   },
   "source": [
    "![Nbgrader menu](images/nbgrader_notebook2.png)"
   ]
  },
  {
   "cell_type": "markdown",
   "id": "71827491",
   "metadata": {
    "editable": true,
    "slideshow": {
     "slide_type": ""
    },
    "tags": []
   },
   "source": [
    "Bevor Studierende ihre Aufgabe einreichen, kann die Funktion des Notebooks überprüft werden. Hierfür sollte es zum einen mit einem neuen Python-Kernel vollständig ausgeführt werden. In dem Notebook sollte dafür das &#9193; Icon in der Iconbar von dem Notebook mit dem Titel **Restart the kernel and run all cells** aufgerufen werden oder im Menü die Option `Kernel>Restart Kernel and Run all Cells...` ausgeführt werden. Dadurch wird das Notebook einmal komplett neu ausgeführt und Ihr könnt sicherstellen, dass keine Fehler durch fehlende temporäre Variablen bei der Bewertung auftreten."
   ]
  },
  {
   "cell_type": "markdown",
   "id": "1fd5851f",
   "metadata": {
    "editable": true,
    "slideshow": {
     "slide_type": "subslide"
    },
    "tags": []
   },
   "source": [
    "### Einreichen von Aufgaben"
   ]
  },
  {
   "cell_type": "markdown",
   "id": "21adb018",
   "metadata": {
    "editable": true,
    "slideshow": {
     "slide_type": ""
    },
    "tags": []
   },
   "source": [
    "Vor dem Einreichen der Aufgaben sollte jedes Notebook validiert werden. Hierfür kann die Schaltfläche im Menu betätigt werden. Ist die Überprüfung erfolgreich, erscheint die Nachricht: \"Success! Your notebook passes all the tests.\"; wenn die Validierung nicht erfolgreich ist, wird ein Bericht mit den Fehlern angezeit."
   ]
  },
  {
   "cell_type": "markdown",
   "id": "1121a6fc",
   "metadata": {
    "editable": true,
    "slideshow": {
     "slide_type": ""
    },
    "tags": []
   },
   "source": [
    "![Nbgrader menu](images/nbgrader_validate.png)"
   ]
  },
  {
   "cell_type": "markdown",
   "id": "17daadf0",
   "metadata": {
    "editable": true,
    "slideshow": {
     "slide_type": "subslide"
    },
    "tags": []
   },
   "source": [
    "Sobald alle Notebooks validiert wurden, kann die Schaltfläche „Submit“ betätigt werden. Dadurch wird die Aufgabe eingereicht und in die Liste der eingereichten Aufgaben aufgenommen."
   ]
  },
  {
   "cell_type": "markdown",
   "id": "d6252210",
   "metadata": {
    "editable": true,
    "slideshow": {
     "slide_type": ""
    },
    "tags": []
   },
   "source": [
    "![Nbgrader menu](images/nbgrader_menu_assignments2.png)"
   ]
  },
  {
   "cell_type": "markdown",
   "id": "c28e8636",
   "metadata": {
    "editable": true,
    "slideshow": {
     "slide_type": ""
    },
    "tags": []
   },
   "source": [
    "\n",
    "Auch nach der Abgabe kann eine Aufgabe noch bearbeitet und über \"„Submit“\" erneut abgegeben werden. Alle Versionen einer Abgabe werden in der Liste der abgegebenen Aufgaben angezeigt. Wenn die Lehrkraft die Aufgabe abholt, erhält sie automatisch die neueste Version der Abgabe.\n",
    "\n",
    "Das Feedback und die Bewertung für die Aufgabe kann über \"Feedback abrufen\" eingesehen werden, sobald sie veröffentlicht wurde."
   ]
  },
  {
   "cell_type": "markdown",
   "id": "19ed5bfa",
   "metadata": {
    "editable": true,
    "slideshow": {
     "slide_type": "subslide"
    },
    "tags": []
   },
   "source": [
    "## Server herunterfahren\n",
    "Die JupyterLab umgebung sollte ordnungsgemäß beendet werden, wenn die Arbeit abgeschlossen worden ist. Hierfür sollte man über die Option \"Hub Control Panel\" (File -> Hub Control Panel) in die Serverkontrollansicht wechseln. Hier kann der Server mit \"Stop my Server\" beendet werden."
   ]
  },
  {
   "cell_type": "markdown",
   "id": "ad7fd43b-1195-47dc-94e8-ac3cce7ffa0a",
   "metadata": {
    "editable": true,
    "slideshow": {
     "slide_type": "slide"
    },
    "tags": [
     "remove-cell"
    ]
   },
   "source": [
    "<div id=\"tsparticles_question\" style=\"width: 100%; height:5em; background-color: white;\">\n",
    "    <div class=\"questions\" style=\"letter-spacing: 0.03em; font-family: Protomolecule; font-size: 2.3em; position: absolute; top: 50%; left: 50%; transform: translate(-50%, -50%); color: black; z-index: 5;\">f&nbsp;&nbsp;r&nbsp;&nbsp;a&nbsp;&nbsp;g&nbsp;&nbsp;e&nbsp;&nbsp;n&nbsp;&nbsp;?</div>\n",
    "</div>"
   ]
  }
 ],
 "metadata": {
  "celltoolbar": "Slideshow",
  "kernelspec": {
   "display_name": "Python 3 (ipykernel)",
   "language": "python",
   "name": "python3"
   },
"rise": {
   "auto_select": "none",
   "center": false,
   "enable_chalkboard": true,
   "header": "<img src=\"images/pd_logo.svg\" class=\"header_title_logo\"><img src=\"images/ai4sc_logo_v2.svg\" class=\"header_ai4sc_logo\">",
   "scroll": true,
   "show_buttons_on_startup": false,
   "slideNumber": true,
   "theme": "white"
  },
  "language_info": {
   "codemirror_mode": {
    "name": "ipython",
    "version": 3
   },
   "file_extension": ".py",
   "mimetype": "text/x-python",
   "name": "python",
   "nbconvert_exporter": "python",
   "pygments_lexer": "ipython3",
   "version": "3.12.8"
  }
 },
 "nbformat": 4,
 "nbformat_minor": 5
}
