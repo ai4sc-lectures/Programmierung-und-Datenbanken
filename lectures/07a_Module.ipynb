{
 "cells": [
  {
   "cell_type": "markdown",
   "metadata": {
    "editable": true,
    "slideshow": {
     "slide_type": "slide"
    },
    "tags": [
     "remove-cell"
    ]
   },
   "source": [
    "<div class=\"vslide\">\n",
    "  <div class=\"vslide-title\">\n",
    "    <p style=\"font-family: Protomolecule; font-size: 2.3em; line-height: 90%; margin: 0px auto; text-align: center; width: 100%;\"><span style=\"letter-spacing: .04rem;\">programmierung</span><br><span style=\"letter-spacing: .0rem;\">und datenbanken</span></p>\n",
    "<p class=\"author\" style=\"font-family: Protomolecule; margin: 0px auto;  text-align: center; width: 100%; font-size: 1.2em;\">Joern Ploennigs</p>\n",
    "<p class=\"subtitle\" style=\"font-family: Protomolecule; margin: 1em auto; text-align: center; width: 100%; font-size: 1.2em;\">Modularisierung</p>\n",
    "  </div>\n",
    "<script>\n",
    "  function setSectionBackground(c,v){\n",
    "    let e=document.currentScript.previousElementSibling;\n",
    "    while(e&&e.tagName!=='SECTION')e=e.parentElement;\n",
    "    if(e){\n",
    "      if(c)e.setAttribute('data-background-color',c);\n",
    "      if(v){\n",
    "        e.setAttribute('data-background-video',v);\n",
    "        e.setAttribute('data-background-video-loop','true');\n",
    "        e.setAttribute('data-background-video-muted','true');\n",
    "      }\n",
    "    }\n",
    "  }\n",
    "  setSectionBackground('#000000', 'images/07a_Module/mj_title.mp4');\n",
    "</script>\n",
    "<style>\n",
    ".flex-row{display:flex; gap:2rem; align-items:flex-start; justify-content:space-between;}\n",
    ".flex-row .col1{flex:1; min-width:10px}\n",
    ".flex-row .col2{flex:2; min-width:10px}\n",
    ".flex-row .col3{flex:3; min-width:10px}\n",
    ".flex-row .col4{flex:4; min-width:10px}\n",
    ".flex-row .col5{flex:5; min-width:10px}\n",
    ".flex-row .col6{flex:6; min-width:10px}\n",
    ".flex-row .col7{flex:7; min-width:10px}\n",
    ".vcent{display:flex; align-items:center; justify-content:center}\n",
    "</style>\n",
    "</div>"
   ]
  },
  {
   "cell_type": "markdown",
   "metadata": {
    "slideshow": {
     "slide_type": "skip"
    }
   },
   "source": [
    "# Modularisierung"
   ]
  },
  {
   "cell_type": "markdown",
   "metadata": {
    "slideshow": {
     "slide_type": "skip"
    }
   },
   "source": [
    "![](images/07a_Module/mj_title_band.jpg)\n",
    "\n",
    "> Write programs that do one thing and do it well.\n",
    ">\n",
    "> - Doug McIlroy"
   ]
  },
  {
   "cell_type": "markdown",
   "metadata": {
    "slideshow": {
     "slide_type": "skip"
    }
   },
   "source": [
    "## <a href=\"/lec_slides/07a_Module.slides.html\">Folien</a>\n",
    "<iframe src=\"/lec_slides/07a_Module.slides.html\" width=\"750\" height=\"500\"></iframe>"
   ]
  },
  {
   "cell_type": "markdown",
   "metadata": {
    "slideshow": {
     "slide_type": "slide"
    },
    "tags": [
     "remove-cell"
    ]
   },
   "source": [
    "## Ablauf\n",
    "\n",
    "![](images/07a_Module/partB_1.svg)"
   ]
  },
  {
   "cell_type": "markdown",
   "metadata": {
    "slideshow": {
     "slide_type": "skip"
    }
   },
   "source": [
    "## Code in Dateien, Module und Pakete aufteilen"
   ]
  },
  {
   "cell_type": "markdown",
   "metadata": {
    "slideshow": {
     "slide_type": "skip"
    }
   },
   "source": [
    "Größere Programme enthalten oft dutzende Klassen mit hunderten Funktionen und vielen tausend Zeilen Code. Hier wird es sehr schnell schwer einen Überblick zu behalten, wenn alle Klassen in einer Datei definiert sind. Insbesondere wenn verschiedene Programmierer an verschiedenen Stellen im Programm arbeiten, kommt es dann sehr schnell zu Versionskonflikten, wenn Leute an ähnlichen Dateien arbeiten.\n",
    "\n",
    "Um dies organisiert und übersichtlich zu halten, wird Code in mehrere Dateien mit der Erweiterung `.py` aufgespalten. Dabei ist es üblich jeweils eine Datei\n",
    "-  pro Klasse, wenn Klassen definiert werden\n",
    "-  pro Thema, wenn Hilfsfunktionen definiert werden (z.B. Mathematik-Funktionen, …)\n",
    "-  pro Aufgabenbereich, wenn (z.B. Laden von Daten getrennt von deren Verarbeitung. So kann man z.B. später andere Verarbeitungsschritte definieren und das Laden wiederverwenden)"
   ]
  },
  {
   "cell_type": "markdown",
   "metadata": {
    "slideshow": {
     "slide_type": "skip"
    }
   },
   "source": [
    "Speichern wir jede Klasse der Geometrieelemente aus dem Teil der [Klassendefinition](7a_Objects.ipynb) aus der letzten Vorlesung so hätten wir dann z.B. eine Projektstruktur entsprechend:"
   ]
  },
  {
   "attachments": {},
   "cell_type": "markdown",
   "metadata": {
    "slideshow": {
     "slide_type": "skip"
    }
   },
   "source": [
    "- 📁 geometry\n",
    "    - 📄 [ImmutablePoint.py](points/ImmutablePoint.py)\n",
    "    - 📄 [Point.py](points/Point.py)\n",
    "    - 📄 [Line.py](shapes/Line.py)\n",
    "    - 📄 [Pentagon.py](shapes/Pentagon.py)\n",
    "    - 📄 [Polygon.py](shapes/Polygon.py)\n",
    "    - 📄 [Tetragon.py](shapes/Tetragon.py)\n",
    "    - 📄 [Triangle.py](shapes/Triangle.py)\n",
    "\n",
    "<!-- <center><img src=\"images/07a_Module/files.png\" style=\"width: 40ex\"></center> -->"
   ]
  },
  {
   "cell_type": "markdown",
   "metadata": {
    "slideshow": {
     "slide_type": "skip"
    }
   },
   "source": [
    "Dabei enthält jede Datei nur den Code der gleichnamigen Klasse, auch wenn dies nur wenige Zeilen sind, wie im Fall der Klassen `Triangle`, `Tetragon` und `Pentagon`. Entscheidend ist, dass wenn ein Programmierer nach dem Code für eine Klasse sucht, er genau sieht in welcher Datei dieser zu finden ist und nicht groß suchen muss.\n",
    "\n",
    "Noch größere Projekte spalten man in mehrere *Module* indem man weitere Unterverzeichnisse anlegt. So wollen wir z.B. alle generischen Klassen für Punkte in das Verzeichnis `points` gruppieren und alle geometrischen Formen in das Verzeichnis `shapes`. So lassen sich größere Projekte gut strukturieren.\n",
    "\n",
    "Die Summe aller Module formt dann ein *Package*. In diesem Fall das Package `geometry`, welches wir in verschiedenen Implementierungen wieder verwenden können."
   ]
  },
  {
   "cell_type": "markdown",
   "metadata": {
    "slideshow": {
     "slide_type": "skip"
    }
   },
   "source": [
    "- 📁 geometry\n",
    "    - 📁 points\n",
    "        - 📄 [ImmutablePoint.py](geometry/points/ImmutablePoint.py)\n",
    "        - 📄 [Point.py](geometry/points/Point.py)\n",
    "    - 📁 shapes\n",
    "        - 📄 [Line.py](geometry/shapes/Line.py)\n",
    "        - 📄 [Pentagon.py](geometry/shapes/Pentagon.py)\n",
    "        - 📄 [Polygon.py](geometry/shapes/Polygon.py)\n",
    "        - 📄 [Tetragon.py](geometry/shapes/Tetragon.py)\n",
    "        - 📄 [Triangle.py](geometry/shapes/Triangle.py)\n",
    "\n",
    "<!-- <center><img src=\"images/07a_Module/shapes.png\" style=\"width: 40ex\"></center> -->"
   ]
  },
  {
   "cell_type": "markdown",
   "metadata": {
    "slideshow": {
     "slide_type": "skip"
    }
   },
   "source": [
    "## `main()` - Der Startpunkt eines Programmes "
   ]
  },
  {
   "cell_type": "markdown",
   "metadata": {
    "slideshow": {
     "slide_type": "skip"
    }
   },
   "source": [
    "Wenn Code über mehrere Dateien verteilt ist, braucht Python einen Hinweis welcher Code ausgeführt werden soll. Hierfür definiert man die spezielle Einstiegsfunktion `main()`. Sie gibt es in fast allen Programmiersprachen und gibt immer den Startpunkt eines Programms an.\n",
    "\n",
    "In Python hat sie entweder keine Argumente oder sie erhält diese dynamisch, wenn sie vom Nutzer / von einem anderen Programm aufgerufen wird (a.k.a. Kommandozeilenargumente)."
   ]
  },
  {
   "cell_type": "code",
   "execution_count": null,
   "metadata": {
    "slideshow": {
     "slide_type": "skip"
    }
   },
   "outputs": [],
   "source": [
    "def main():\n",
    "\tprint(\"This is the main function\")"
   ]
  },
  {
   "cell_type": "markdown",
   "metadata": {
    "slideshow": {
     "slide_type": "skip"
    }
   },
   "source": [
    "Allerdings möchte man vermeiden, dass die Funktion `main()` auch aufgerufen wird, wenn die Python-Datei zum Beispiel als Bibliothek eingebunden wird, wo man nur an den Funktionen interessiert ist. Deshalb nutzt man am Ende einer Datei mit einer `main()`-Funktion die folgende Verzweigung."
   ]
  },
  {
   "cell_type": "code",
   "execution_count": null,
   "metadata": {
    "slideshow": {
     "slide_type": "skip"
    }
   },
   "outputs": [],
   "source": [
    "if __name__ == \"__main__\":\n",
    "\tmain()"
   ]
  },
  {
   "cell_type": "markdown",
   "metadata": {
    "slideshow": {
     "slide_type": "skip"
    }
   },
   "source": [
    "Sie nutzt aus, dass der Wert der Standardvariable `__name__` in der Hauptdatei immer `'__main__'` lautet. Während sie in einer importierten Datei den Namen der Hauptdatei angibt."
   ]
  },
  {
   "cell_type": "markdown",
   "metadata": {
    "slideshow": {
     "slide_type": "skip"
    }
   },
   "source": [
    "## Importieren von Modulen"
   ]
  },
  {
   "cell_type": "markdown",
   "metadata": {
    "slideshow": {
     "slide_type": "skip"
    }
   },
   "source": [
    "Um zu vermeiden, dass ständig unnötiger Code geladen wird lädt Python diesen Code nicht automatisch. Wollen wir also den Code in unseren Dateien, Modulen und Packages nutzen so müssen wir vorher Python anweisen diesen zu laden. Dieses *Importieren* weist man mit dem Befehl `import` an.\n",
    "\n",
    "Ein einfacher Import ist der import ganzer Pakete. Dies geschieht, indem wir `import` und dem Paketnamen schreiben."
   ]
  },
  {
   "cell_type": "code",
   "execution_count": null,
   "metadata": {
    "slideshow": {
     "slide_type": "skip"
    }
   },
   "outputs": [],
   "source": [
    "import geometry.points.ImmutablePoint\n",
    "import geometry.shapes.Line\n",
    "\n",
    "def main():\n",
    "\tpoint_1 = geometry.points.ImmutablePoint.ImmutablePoint(x=54.083336, y=12.108811)\n",
    "\tpoint_2 = geometry.points.ImmutablePoint.ImmutablePoint(y=12.094167, x=54.075211)\n",
    "\tlinie_1 = geometry.shapes.Line.Line(start=point_1, end=point_2)\n",
    "\tprint(f\"Die Länge der Linie zwischen Punkt 1 und 2 ist: {linie_1.length()}\")\n",
    "\n",
    "if __name__ == \"__main__\":\n",
    "\tmain()"
   ]
  },
  {
   "cell_type": "markdown",
   "metadata": {
    "slideshow": {
     "slide_type": "skip"
    }
   },
   "source": [
    "Der Nachteil des Imports ganzer Pakete ist, dass wenn wir hieraus einzelne Klassen referenzieren wollen, die sich in Untermodulen befinden, so müssen wir den kompletten Pfad der Klasse angeben. In dem Beispiel oben zum Beispiel `geometry.points.ImmutablePoint.ImmutablePoint`."
   ]
  },
  {
   "cell_type": "markdown",
   "metadata": {
    "slideshow": {
     "slide_type": "skip"
    }
   },
   "source": [
    "Deshalb importiert man meist einzelne Module indem man den Pfad eines Moduls angibt, wie zum Beispiel `geometry.points.ImmutablePoint.ImmutablePoint`. Hierbei kann man den importierten Modulen auch neue Namen geben wie `point` oder `line` in dem Beispiel unten."
   ]
  },
  {
   "cell_type": "code",
   "execution_count": null,
   "metadata": {
    "slideshow": {
     "slide_type": "skip"
    }
   },
   "outputs": [],
   "source": [
    "import geometry.points.ImmutablePoint as point\n",
    "import geometry.shapes.Line as line\n",
    "\n",
    "def main():\n",
    "\tpoint_1 = point.ImmutablePoint(x=54.083336, y=12.108811)\n",
    "\tpoint_2 = point.ImmutablePoint(y=12.094167, x=54.075211)\n",
    "\tlinie_1 = line.Line(start=point_1, end=point_2)\n",
    "\tprint(f\"Die Länge der Linie zwischen Punkt 1 und 2 ist: {linie_1.length()}\")\n",
    "\n",
    "if __name__ == \"__main__\":\n",
    "\tmain()"
   ]
  },
  {
   "cell_type": "markdown",
   "metadata": {
    "slideshow": {
     "slide_type": "skip"
    }
   },
   "source": [
    "Alternativ lassen sich auch Teile eines Moduls mit dem Platzhalter `*` und dem Befehl `from` importieren. Alle Elemente werden mit dem Platzhalter `*` importiert. Spezifische Elemente wie einzelne Klassen können auch direkt angegeben werden, wie im folgenden Beispiel `Line`."
   ]
  },
  {
   "cell_type": "code",
   "execution_count": null,
   "metadata": {
    "slideshow": {
     "slide_type": "skip"
    }
   },
   "outputs": [],
   "source": [
    "from geometry.points.ImmutablePoint import *\n",
    "from geometry.shapes.Line import Line\n",
    "\n",
    "def main():\n",
    "\tpoint_1 = ImmutablePoint(x=54.083336, y=12.108811)\n",
    "\tpoint_2 = ImmutablePoint(y=12.094167, x=54.075211)\n",
    "\tlinie_1 = Line(start=point_1, end=point_2)\n",
    "\tprint(f\"Die Länge der Linie zwischen Punkt 1 und 2 ist: {linie_1.length()}\")\n",
    "\n",
    "if __name__ == \"__main__\":\n",
    "\tmain()"
   ]
  },
  {
   "cell_type": "markdown",
   "metadata": {
    "slideshow": {
     "slide_type": "skip"
    }
   },
   "source": [
    "## Standard Paktete aus Python importieren"
   ]
  },
  {
   "cell_type": "markdown",
   "metadata": {
    "slideshow": {
     "slide_type": "skip"
    }
   },
   "source": [
    "Python beinhaltet viele [Standardpakete](https://python.readthedocs.io/en/latest/library/index.html) für typische Aufgaben. Für die Bau- und Umweltinformatik sind die folgenden am sinnvollsten:"
   ]
  },
  {
   "cell_type": "markdown",
   "metadata": {
    "slideshow": {
     "slide_type": "skip"
    }
   },
   "source": [
    "| packet |   description |\n",
    "| ------ | ------------- |\n",
    "| collections | Mehr komplexe Datentypen zum zählen, sortieren     |\n",
    "| http   | Funktionen des HTTP-Internetprotokolls wie Web-Server   |\n",
    "| json   | Funktionen um Objekte als Text abzuspeichern            |\n",
    "| logging| Funktionen um Logs zu schreiben                         |\n",
    "| math   | Mathematische Funktionen                                |\n",
    "| os     | Funktionen um Dateien zu finden, laden und speichern     |\n",
    "| pickle | Funktionen um Objekte binär abzuspeichern               |\n",
    "| pprint | print-Funktionen um Objekte schöner (pretty) auszugeben |\n",
    "| random | Funktionen zum Erzeugen von Zufallszahlen               |\n",
    "| re     | Funktionen für Reguläre Ausdrücke um Text zu suchen     |\n",
    "| sys    | Funktionen um Systeminformationen zu erhalten           |\n",
    "| time   | Funktionen für Zeit und Datumsangaben                   |\n",
    "| timeit | Funktionen um die Performance von Funktionen zu testen  |\n",
    "|traceback| Funktionen um den Stack aufzulisten                    |\n",
    "| urllib | Funktionen um ULRs im Internet zu laden und verarbeiten |"
   ]
  },
  {
   "cell_type": "markdown",
   "metadata": {
    "slideshow": {
     "slide_type": "skip"
    }
   },
   "source": [
    "Von der Liste haben wir die Bibliotheken `math`, `time`, `timeit`, `traceback` und `logging` schon kennen gelernt und benutzt. Die anderen Pakete bieten allerdings weitere sinnvolle Funktionen.\n",
    "\n",
    " Wollen wir zum Beispiel alle Dateien in einem Verzeichnis auflisten, so nutzen wir das Paket `os`."
   ]
  },
  {
   "cell_type": "code",
   "execution_count": null,
   "metadata": {
    "slideshow": {
     "slide_type": "skip"
    }
   },
   "outputs": [],
   "source": [
    "import os\n",
    "\n",
    "folder = \"geometry/shapes/\"\n",
    "for count, filename in enumerate(os.listdir(folder)):\n",
    "\tif os.path.isfile(os.path.join(folder, filename)):\n",
    "\t\tpath = os.path.join(folder, filename)\n",
    "\t\tprint(path)"
   ]
  },
  {
   "cell_type": "markdown",
   "metadata": {
    "slideshow": {
     "slide_type": "skip"
    }
   },
   "source": [
    "Viele Webseiten bieten Programmierschnittstellen an, so genannte APIs, da diese APIs auch von den eigenen Webseiten genutzt werden, um Daten nachzuladen, die auf der Webseite angezeigt werden. Die APIs nutzen meist das JSON-Format um Daten auszutauschen. Dies ist ein Text-basiertes Dateiformat, das in Python sehr stark dem `dict`-Datentyp ähnelt, aber auch alle anderen primitiven und zusammengesetzten Datentypen von Python unterstützt. \n",
    "\n",
    "Wir möchten zum Beispiel die Wetterdaten einer Wetterstation in Deutschland analysieren. Diese Daten bekommen wir beim [Deutschen Wetterdiest](https://www.dwd.de). Diese Daten kann man sich auch von der [API](https://dwd.api.bund.dev/) herunterladen. Hierfür braucht man die ID (Identifikationsnummer) einer Wetterstation welche [hier](https://www.dwd.de/DE/leistungen/klimadatendeutschland/statliste/statlex_html.html?view=nasPublication&nn=16102) zu finden ist. Wir nehmen als Beispiel eine Station im Hansaviertel in Rostock mit der ID `12495`.\n",
    "\n",
    "Dann kann man die Wetterdaten mit Python mit Hilfe des Paketes `urllib` von der API laden. Das JSON-Format können wir mit dem `json` Paket verarbeiten. Wir laden dazu zuerst vom Deutschen Wetterdienst ein binäres Datenpaket vom Datentype `bytes`. Dieses konvertieren wir mit der Funktion `loads` aus dem `json` Paket in ein Python `dict`. Um das schöner lesbar auszugeben, nutzen wir die Funktion `pprint` aus dem Paket `pprint` (pretty-print)."
   ]
  },
  {
   "cell_type": "code",
   "execution_count": null,
   "metadata": {
    "slideshow": {
     "slide_type": "skip"
    },
    "tags": [
     "output_scroll"
    ]
   },
   "outputs": [],
   "source": [
    "import urllib.request\n",
    "import json\n",
    "import pprint\n",
    "\n",
    "stationID='12495' # Rostock-Hansaviertel\n",
    "with urllib.request.urlopen(f'https://dwd.api.proxy.bund.dev/v30/stationOverviewExtended?stationIds={stationID}') as f:\n",
    "    data=f.read() # Dies gibt uns ein binären Datentyp zurück\n",
    "    wetter=json.loads(data) # Wir konvertieren den binären Datentyp in ein dict\n",
    "    pprint.pprint(wetter, indent=2, compact=True)"
   ]
  },
  {
   "cell_type": "markdown",
   "metadata": {
    "slideshow": {
     "slide_type": "skip"
    }
   },
   "source": [
    "<!-- Einen eigenen Webserver können wir mit dem Paket `http.server` starten.\n",
    "\n",
    "import http.server as server\n",
    "\n",
    "server_object = server.HTTPServer(server_address=('', 80), \tRequestHandlerClass=server.CGIHTTPRequestHandler)\n",
    "\n",
    "server_object.serve_forever()\n",
    "\n",
    "-->"
   ]
  },
  {
   "cell_type": "markdown",
   "metadata": {
    "slideshow": {
     "slide_type": "skip"
    }
   },
   "source": [
    "## Externe Pakete installieren und importieren"
   ]
  },
  {
   "cell_type": "markdown",
   "metadata": {
    "slideshow": {
     "slide_type": "skip"
    }
   },
   "source": [
    "Die Stärke von Python ist allerdings die riesige Auswahl an vorhandenen Paketen. Für die meisten Anwendungszwecke gibt es entsprechende Python Packages. Ein solches Verzeichnis is [PyPi](https://pypi.org/) das über 400.000 Pakete listet."
   ]
  },
  {
   "cell_type": "markdown",
   "metadata": {
    "slideshow": {
     "slide_type": "skip"
    }
   },
   "source": [
    "Die Installation neuer Pakete für Python ist einfach. Hierfür öffnet man ein Terminal (Kommandozeile) und gibt den Befehl `pip install <packetname>` ein. \n",
    "\n",
    "Zum Beispiel wollen wir die eben geladenen Wetterdaten anzeigen. Hierfür nutzen wir:\n",
    "- zuerst das Paket `pandas` zum Erzeugen einer Tabelle aus den Wetterdaten. \n",
    "- dann nutzen wir das Paket `plotly` zum Zeichnen eines Diagramms. \n",
    "- zuletzt erzeugen wir uns einen Webserver mit `dash` der uns das Diagramm immer anzeigt\n",
    "\n",
    "Alles drei installieren wir mit `pip`. Wir können das in einem Aufruf machen. Wir nutzen den `--quiet` Switch, um die Ausgabe zu reduzieren."
   ]
  },
  {
   "cell_type": "code",
   "execution_count": null,
   "metadata": {
    "slideshow": {
     "slide_type": "skip"
    }
   },
   "outputs": [],
   "source": [
    "pip install pandas plotly dash  --quiet"
   ]
  },
  {
   "cell_type": "markdown",
   "metadata": {
    "slideshow": {
     "slide_type": "skip"
    }
   },
   "source": [
    "Jetzt laden wir beide Pakete, wobei man üblicher Weise `pandas` die Abkürzung `pd` zuweist und Plotly Express, welches einfach zu bedienen ist, die Abkürzung `px`."
   ]
  },
  {
   "cell_type": "code",
   "execution_count": null,
   "metadata": {
    "slideshow": {
     "slide_type": "skip"
    }
   },
   "outputs": [],
   "source": [
    "import pandas as pd\n",
    "import plotly.express as px\n",
    "import dash"
   ]
  },
  {
   "cell_type": "markdown",
   "metadata": {
    "slideshow": {
     "slide_type": "skip"
    }
   },
   "source": [
    "Nun wandeln wir die tageweise Wettervorhersage `days` der Daten von der Wetterstation mit der `stationID` zuerst in eine Tabelle um, da diese von Plotly express verarbeitet werden kann. Tabellen heißen in Pandas DataFrames (allgemein werden so Tabellen in der Data Science genannt). Wir erzeugen also aus der Wettervorhersage ein neue Objektinstanz vom Typ `DataFrame` via"
   ]
  },
  {
   "cell_type": "code",
   "execution_count": null,
   "metadata": {
    "slideshow": {
     "slide_type": "skip"
    },
    "tags": [
     "output_scroll"
    ]
   },
   "outputs": [],
   "source": [
    "df = pd.DataFrame(wetter[stationID]['days'])\n",
    "df"
   ]
  },
  {
   "cell_type": "markdown",
   "metadata": {
    "slideshow": {
     "slide_type": "skip"
    }
   },
   "source": [
    "Nun plotten wir die Daten `df` als LinienDiagramm mit Hilfe von Plotly wobei wir als `x`-Axe das Datum wählen (`dayDate`) und als `y`-Axe die minimale Temperatur `temperatureMin` und maximale Temperatur `temperatureMax`."
   ]
  },
  {
   "cell_type": "code",
   "execution_count": null,
   "metadata": {
    "slideshow": {
     "slide_type": "skip"
    }
   },
   "outputs": [],
   "source": [
    "fig=px.line(df, x=\"dayDate\", y=[\"temperatureMin\", \"temperatureMax\"])\n",
    "fig.show(renderer=\"svg\")"
   ]
  },
  {
   "cell_type": "markdown",
   "metadata": {
    "slideshow": {
     "slide_type": "skip"
    }
   },
   "source": [
    "Zuletzt wollen wir dieses Diagramm in einer Webseite auf einem Webserver anzeigen. Hier nutzen wir das Paket `dash` welches erlaubt eine Webseite mit Python-Befehlen zu erzeugen und darin interaktive Diagramme von Plotly mit anzuzeigen."
   ]
  },
  {
   "cell_type": "code",
   "execution_count": null,
   "metadata": {
    "slideshow": {
     "slide_type": "skip"
    }
   },
   "outputs": [],
   "source": [
    "import dash\n",
    "\n",
    "app = dash.Dash()"
   ]
  },
  {
   "cell_type": "code",
   "execution_count": null,
   "metadata": {
    "slideshow": {
     "slide_type": "skip"
    },
    "tags": [
     "remove-cell"
    ]
   },
   "outputs": [],
   "source": [
    "pip install jupyter_dash  --quiet"
   ]
  },
  {
   "cell_type": "code",
   "execution_count": null,
   "metadata": {
    "slideshow": {
     "slide_type": "skip"
    },
    "tags": [
     "remove-cell"
    ]
   },
   "outputs": [],
   "source": [
    "# und ersetzen das Dash objekt\n",
    "from jupyter_dash import JupyterDash\n",
    "\n",
    "app = JupyterDash()"
   ]
  },
  {
   "cell_type": "markdown",
   "metadata": {
    "slideshow": {
     "slide_type": "skip"
    }
   },
   "source": [
    "Dann erzeugen wir eine Webseite mit einer Überschrift (`H1`), welche den Plot als `Graph` enthält."
   ]
  },
  {
   "cell_type": "code",
   "execution_count": null,
   "metadata": {
    "slideshow": {
     "slide_type": "skip"
    }
   },
   "outputs": [],
   "source": [
    "app.layout = dash.html.Div(children = [\n",
    "    dash.html.H1(children='Wetter in Rostock'),\n",
    "    dash.dcc.Graph(id=\"fare_vs_age\", figure=fig)\n",
    "])"
   ]
  },
  {
   "cell_type": "markdown",
   "metadata": {
    "slideshow": {
     "slide_type": "skip"
    }
   },
   "source": [
    "Und starten den Webserver."
   ]
  },
  {
   "cell_type": "code",
   "execution_count": null,
   "metadata": {
    "slideshow": {
     "slide_type": "skip"
    }
   },
   "outputs": [],
   "source": [
    "app.run_server()"
   ]
  },
  {
   "cell_type": "markdown",
   "metadata": {
    "slideshow": {
     "slide_type": "skip"
    }
   },
   "source": [
    "Dies startet einen Webserver auf den wir in einem Browser unter `http://127.0.0.1:8083/` zugreifen können. Er zeigt uns eine Webseite mit einem interaktiven Diagramm welches die Wetterdaten anzeigt."
   ]
  },
  {
   "cell_type": "markdown",
   "metadata": {
    "editable": true,
    "slideshow": {
     "slide_type": "skip"
    },
    "tags": []
   },
   "source": [
    "![](images/07a_Module/wetter.png)"
   ]
  },
  {
   "cell_type": "markdown",
   "metadata": {
    "editable": true,
    "slideshow": {
     "slide_type": "slide"
    },
    "tags": [
     "remove-cell"
    ]
   },
   "source": [
    "## Organisieren von Projekten über mehrere Dateien\n",
    "\n",
    "<div class=\"flex-row\">\n",
    "  <div class=\"col1\">\n",
    "\n",
    "Herausforderungen großer Programme:\n",
    "\n",
    "- Dutzende Klassen mit hunderten Funktionen\n",
    "- Viele tausende Zeilen Code\n",
    "- Schwer Überblick zu behalten\n",
    "- Versionskonflikte bei mehreren Programmierern\n",
    "\n",
    "  </div>\n",
    "  <div class=\"col1\"> \n",
    "\n",
    "Lösung - Code aufteilen in .py Dateien:\n",
    "\n",
    "- *Pro Klasse* eine Datei (bei Klassendefinitionen)\n",
    "- *Pro Thema* eine Datei (z.B. Mathematik-Funktionen)\n",
    "- *Pro Aufgabenbereich* eine Datei (z.B. Laden vs. Verarbeitung)\n",
    "\n",
    "  </div>\n",
    "</div>"
   ]
  },
  {
   "cell_type": "markdown",
   "metadata": {
    "editable": true,
    "slideshow": {
     "slide_type": "subslide"
    },
    "tags": [
     "remove-cell"
    ]
   },
   "source": [
    "## Die main()-Funktion als Standardfunktion\n",
    "\n",
    "Woher weiß Python was ausgeführt werden soll?\n",
    "\n",
    "- Eine bestimmte Datei als *Zentrum des Projektes* deklarieren\n",
    "- Diese enthält eine spezielle Funktion namens `main()`\n",
    "- Existiert in fast jeder Programmiersprache\n",
    "- Gibt den *Startpunkt des Programms* an\n",
    "- Kann keine oder dynamische Argumente erhalten (Kommandozeilenargumente)"
   ]
  },
  {
   "cell_type": "markdown",
   "metadata": {
    "editable": true,
    "slideshow": {
     "slide_type": "subslide"
    },
    "tags": [
     "remove-cell"
    ]
   },
   "source": [
    "## Die main()-Funktion in Python\n",
    "\n",
    "<div class=\"flex-row\">\n",
    "  <div class=\"col1\">\n",
    "\n",
    "Verschiedene Ausführungsmöglichkeiten:\n",
    "1. Als Skript in Kommandozeile/Gesamtprogramm\n",
    "2. Importiert in interaktive Python-Konsole  \n",
    "3. Importiert in andere Python-Datei\n",
    "\n",
    "Problem: In Fall 1 wollen wir das gesamte Skript, in Fall 2+3 nur Teile nutzen\n",
    "\n",
    "Die Lösung - Variable `__name__`:\n",
    "\n",
    "  </div>\n",
    "  <div class=\"col1\"> \n",
    "\n",
    "```python\n",
    "def main():\n",
    "    print(\"This is the main function\")\n",
    "\n",
    "if __name__ == \"__main__\":\n",
    "    main()  # nur bei direktem Aufruf\n",
    "```\n",
    "\n",
    "  </div>\n",
    "</div>"
   ]
  },
  {
   "cell_type": "markdown",
   "metadata": {
    "editable": true,
    "slideshow": {
     "slide_type": "subslide"
    },
    "tags": [
     "remove-cell"
    ]
   },
   "source": [
    "## Best Practice für main()-Funktion\n",
    "\n",
    "Was gehört VOR die main()-Definition:\n",
    "\n",
    "<div class=\"flex-row\">\n",
    "  <div class=\"col1\">\n",
    "\n",
    "✅ Nur erlaubt:\n",
    "- Funktionsdefinitionen\n",
    "- Klassendefinitionen\n",
    "\n",
    "  </div>\n",
    "  <div class=\"col1\"> \n",
    "\n",
    "❌ Vermeiden:\n",
    "- Variablenbelegungen (globale Variablen)\n",
    "- Funktionsaufrufe (Nebeneffekte)\n",
    "\n",
    "  </div>\n",
    "</div>\n",
    "\n",
    "Vorteile dieser Struktur:\n",
    "- Programmfluss wird übersichtlicher\n",
    "- Programm einfach modifizierbar\n",
    "- Programm besser weiterverwendbar\n"
   ]
  },
  {
   "cell_type": "markdown",
   "metadata": {
    "editable": true,
    "slideshow": {
     "slide_type": "slide"
    },
    "tags": [
     "remove-cell"
    ]
   },
   "source": [
    "## Programmfluss über mehrere Dateien\n",
    "\n",
    "- Jetzt haben wir einen zentralen Startpunkt.\n",
    "\n",
    "- Wie rufen wir Code aus anderen Dateien auf?\n",
    "\n",
    "- Jede Programmiersprache hat Befehle zum Laden externen Codes:\n",
    "    - `import` und `include` (Python)\n",
    "    - Spezielle \"Header-Dateien\" die Zusammenhänge zwischen Dateien definieren"
   ]
  },
  {
   "cell_type": "markdown",
   "metadata": {
    "editable": true,
    "slideshow": {
     "slide_type": "subslide"
    },
    "tags": [
     "remove-cell"
    ]
   },
   "source": [
    "## Programmfluss in Python - import Statement\n",
    "\n",
    "<div class=\"flex-row\">\n",
    "  <div class=\"col1\">\n",
    "\n",
    "Strategie:\n",
    "- Eine .py-Datei enthält `main()` (Fall 1)\n",
    "- Alle anderen ohne `main()` oder mit `__name__` ignoriert (Fall 3)\n",
    "- `import`-Statement lädt externe Dateien\n",
    "\n",
    "- *Achtung:* Kompletter Code wird ausgeführt, auch Variablen und Funktionsaufrufe!\n",
    "\n",
    "  </div>\n",
    "  <div class=\"col1\"> \n",
    "\n",
    "```python\n",
    "import external_file\n",
    "\n",
    "def main():\n",
    "    print(\"This is the main function\")\n",
    "```\n",
    "Variablen/Funktionen/Klassen aus `external_file.py` werden in Objekt `external_file` abgelegt\n",
    "\n",
    "  </div>\n",
    "</div>\n"
   ]
  },
  {
   "cell_type": "markdown",
   "metadata": {
    "editable": true,
    "slideshow": {
     "slide_type": "subslide"
    },
    "tags": [
     "remove-cell"
    ]
   },
   "source": [
    "## Import externer Bibliotheken (Packages)\n",
    "\n",
    "*Terminologie:*\n",
    "- *Module:* Importierte Skripte\n",
    "- *Namespace:* Das entstehende Objekt (Typ: module)\n",
    "- *Package:* Modul mit weiteren Untermodulen\n"
   ]
  },
  {
   "cell_type": "markdown",
   "metadata": {
    "editable": true,
    "slideshow": {
     "slide_type": "subslide"
    },
    "tags": [
     "remove-cell"
    ]
   },
   "source": [
    "## Grundlagen der Projektstruktur\n",
    "\n",
    "<div class=\"flex-row\">\n",
    "  <div class=\"col1\">\n",
    "\n",
    "**Allgemeine Struktur**\n",
    "\n",
    "```\n",
    "main.py [enthält main()]\n",
    "├── module1.py\n",
    "├── module2.py  \n",
    "└── helpers.py\n",
    "```\n",
    "\n",
    "Code in `main.py`\n",
    "```python\n",
    "import module1\n",
    "import module2\n",
    "import helpers\n",
    "```\n",
    "\n",
    "  </div>\n",
    "  <div class=\"col1\"> \n",
    "\n",
    "**Beispiel - Stadtprojekt**\n",
    "\n",
    "```\n",
    "city.py\n",
    "├── buildings.py\n",
    "├── streets.py\n",
    "└── geometry.py\n",
    "```\n",
    "\n",
    "Code in `main.py`\n",
    "```python\n",
    "import buildings\n",
    "import streets\n",
    "import geometry\n",
    "```\n",
    "\n",
    "  </div>\n",
    "</div>"
   ]
  },
  {
   "cell_type": "markdown",
   "metadata": {
    "editable": true,
    "slideshow": {
     "slide_type": "subslide"
    },
    "tags": [
     "remove-cell"
    ]
   },
   "source": [
    "## Das import-Statement: Erweiterte Nutzungen\n",
    "\n",
    "- Die Import-Funktionen von Python sind komplex und vielschichtig.\n",
    "- Im Alltag trifft man aber meistens nur auf folgende zusätzliche Konstrukte:\n",
    "    - `from-import`-Statement: Importiert ein Submodul oder ein Teil eines Moduls direkt, ohne den übergeordneten Namespace\n",
    "    - `from-import-as`-Statement: Arbeitet genauso, benennt aber das importierte Objekt um\n",
    "\n",
    "```python\n",
    "from external_file import external_function as ext_func\n",
    "```"
   ]
  },
  {
   "cell_type": "markdown",
   "metadata": {
    "editable": true,
    "slideshow": {
     "slide_type": "slide"
    },
    "tags": [
     "remove-cell"
    ]
   },
   "source": [
    "## Import-Statements – Das Tor zur Welt\n",
    "\n",
    "- Wir können nicht nur unsere eigenen Pakete importieren – sondern auch Pakete die von anderen Personen/Organisationen öffentlich gemacht wurden!\n",
    "\n",
    "- Es gibt mehrere Möglichkeiten auf Pakete zuzugreifen:\n",
    "- Paket ist in Python mitgeliefert\n",
    "- Direkt als .py-Dateien / Ordner mit .py Dateien herunterladen \n",
    "- Einen Package-Manager (pip, uv) benutzen (Besser!)"
   ]
  },
  {
   "cell_type": "markdown",
   "metadata": {
    "editable": true,
    "slideshow": {
     "slide_type": "subslide"
    },
    "tags": [
     "remove-cell"
    ]
   },
   "source": [
    "## Packages - Die eigentliche Macht von Python\n",
    "\n",
    "- Pythons Platzierung als populärste Programmiersprache der Welt basiert vor allem darauf, dass es sich zu einer Interface- und Pipeline-Sprache entwickelt hat.\n",
    "- Fast jedes durch einen Computer lösbares Problem kann durch das geschickte Verschalten der richtigen Python-Packages gelöst werden.\n",
    "- Die offizielle Anlaufstelle für Packages, der Python Package Index (PyPI), führt derzeit über 418.000 frei verfügbare Pakete.\n",
    "- Diese können in den meisten Fällen mit einem einzigen Befehl/Klick installiert werden\n",
    "\n",
    "<center><a href=\"https://pypi.org\"><img src=\"images/07a_Module/pip.png\" style=\"width:400px;\"></a></center>\n"
   ]
  },
  {
   "cell_type": "markdown",
   "metadata": {
    "slideshow": {
     "slide_type": "slide"
    },
    "tags": [
     "remove-cell"
    ]
   },
   "source": [
    "## Lesson Learned\n",
    "\n",
    "<script>setSectionBackground('#66ccffff');</script>\n",
    "<div class=\"flex-row\">\n",
    "<div class=\"col2\">\n",
    "\n",
    "Wie priotisiert man richtig?\n",
    "\n",
    "</div>\n",
    "<div class=\"col3\">\n",
    "    <figure class=\"mj-fig\">\n",
    "        <img src=\"images/07a_Module/eisenhower.jpg\" class=\"mj-fig-img\">\n",
    "        <figcaption class=\"mj-fig-cap\">\n",
    "            “I have two kinds of problems, the urgent and the important. The urgent are not important, and the important are never urgent.”, Eisenhower\n",
    "        </figcaption>\n",
    "    </figure>\n",
    "  </div>\n",
    "</div>"
   ]
  },
  {
   "cell_type": "markdown",
   "metadata": {
    "slideshow": {
     "slide_type": "subslide"
    },
    "tags": [
     "remove-cell"
    ]
   },
   "source": [
    "## Lesson Learned - Priorisierung\n",
    "\n",
    "<script>setSectionBackground('#66ccffff');</script>\n",
    "\n",
    "<div class=\"flex-row\">\n",
    "  <div class=\"col1\">\n",
    "\n",
    "- Beim Eisenhauer-Schreibtisch unterteilt man in dringend und wichtig\n",
    "- Man bearbeitet zuerst die dringenden, wichtigen\n",
    "\n",
    "  </div>\n",
    "  <div class=\"col1\">\n",
    "    <figure class=\"mj-fig\">\n",
    "        <img src=\"images/07a_Module/priotisierung.svg\" class=\"mj-fig-img\">\n",
    "    </figure>\n",
    "  </div>\n",
    "</div>"
   ]
  },
  {
   "cell_type": "markdown",
   "metadata": {
    "slideshow": {
     "slide_type": "slide"
    },
    "tags": [
     "remove-cell"
    ]
   },
   "source": [
    "<div class=\"vslide\">\n",
    "  <div class=\"vslide-title\">\n",
    "    <p style=\"font-family: Protomolecule; font-size: 2.3em; margin: 0px auto; text-align: center; width: 100%;\">fragen?</p>\n",
    "  </div>\n",
    "  <script>setSectionBackground('#000000', 'images/mj_questions.mp4');</script>\n",
    "</div>"
   ]
  }
 ],
 "metadata": {
  "kernelspec": {
   "display_name": "Python 3 (ipykernel)",
   "language": "python",
   "name": "python3"
  },
  "language_info": {
   "codemirror_mode": {
    "name": "ipython",
    "version": 3
   },
   "file_extension": ".py",
   "mimetype": "text/x-python",
   "name": "python",
   "nbconvert_exporter": "python",
   "pygments_lexer": "ipython3",
   "version": "3.12.10"
  },
  "rise": {
   "auto_select": "none",
   "center": false,
   "enable_chalkboard": true,
   "header": "<img src=\"images/pd_logo.svg\" class=\"header_title_logo\"><img src=\"images/ai4sc_logo_v2.svg\" class=\"header_ai4sc_logo\">",
   "scroll": true,
   "show_buttons_on_startup": false,
   "slideNumber": true,
   "theme": "white"
  },
  "vscode": {
   "interpreter": {
    "hash": "c6f6ea9c9385f57658f4c302ffd3b717b6cd59b095fbd1c55795f0b67656eecd"
   }
  }
 },
 "nbformat": 4,
 "nbformat_minor": 4
}