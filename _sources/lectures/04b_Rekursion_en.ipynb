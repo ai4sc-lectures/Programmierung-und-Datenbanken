{
 "cells": [
  {
   "cell_type": "markdown",
   "id": "ab1d6fa2ac4842ea9ce581ba08eb1e0c",
   "metadata": {
    "editable": true,
    "slideshow": {
     "slide_type": "skip"
    },
    "tags": [
     "translated_en"
    ],
    "translation": {
     "lang": "de",
     "src_hash": "a21f2215c68a33730dba204d70e8bcd8419a1e61a0ffc4112b08834978fa3704",
     "updated_at_iso": "2025-08-16T15:49:47.339841+00:00"
    }
   },
   "source": [
    "# Recursive Functions"
   ]
  },
  {
   "cell_type": "markdown",
   "id": "e5cdb9c4a49242d7a6b08ca6c18a7e92",
   "metadata": {
    "slideshow": {
     "slide_type": "skip"
    },
    "tags": [
     "translated_en"
    ],
    "translation": {
     "lang": "de",
     "src_hash": "b3cdfc9982c0f2e860cfdf3c6d55a39be353f44b25355a87b5e45522fc89a62f",
     "updated_at_iso": "2025-08-16T15:49:52.465851+00:00"
    }
   },
   "source": [
    "<figure class=\"mj-tile-band\">\n",
    "    <img src='images/04b_Rekursion/mj_title_band.jpg'>\n",
    "    <figcaption>Midjourney: Fractal</figcaption>\n",
    "</figure>\n",
    "\n",
    "> History repeats itself, first as tragedy, second as farce.\n",
    ">\n",
    "> — Karl Marx"
   ]
  },
  {
   "cell_type": "markdown",
   "id": "9ec26741e1a343c1bd9a167adcdb3fb6",
   "metadata": {
    "slideshow": {
     "slide_type": "skip"
    },
    "tags": [
     "translated_en"
    ],
    "translation": {
     "lang": "de",
     "src_hash": "103e3323f6445a905f52611924c27c59d0db588c38f81b999b0358e300b2bea3",
     "updated_at_iso": "2025-08-16T15:49:58.808222+00:00"
    }
   },
   "source": [
    "## <a href=\"../lec_slides/04b_Rekursion.slides.html\">Slides</a>/<a href=\"../pdf/slides/04b_Rekursion.pdf\">PDF</a>\n",
    "<iframe src=\"../lec_slides/04b_Rekursion.slides.html\" width=\"750\" height=\"500\"></iframe>"
   ]
  },
  {
   "cell_type": "markdown",
   "id": "c98751831d7149b38a0711e7102419ab",
   "metadata": {
    "slideshow": {
     "slide_type": "skip"
    },
    "tags": [
     "translated_en"
    ],
    "translation": {
     "lang": "de",
     "src_hash": "79d3c871ebf5b5380a815815bfdd9e657fac1861629112529fe319595f8d2f6d",
     "updated_at_iso": "2025-08-16T15:50:05.608351+00:00"
    }
   },
   "source": [
    "Recursive functions are functions that call themselves. Recursion (from Latin recurrere 'to run back') refers to an infinite process that contains itself as part or that can be defined using itself.\n",
    "\n",
    "Recursion is used particularly in divide-and-conquer algorithms or in combinatorial problems."
   ]
  },
  {
   "cell_type": "markdown",
   "id": "c37d065b537741988d09e38a4b55e31c",
   "metadata": {
    "slideshow": {
     "slide_type": "skip"
    },
    "tags": [
     "translated_en"
    ],
    "translation": {
     "lang": "de",
     "src_hash": "0f7dc87d0e764ed4c689d31218f43fa04bd278ebc6203d2202cd02fa33630446",
     "updated_at_iso": "2025-08-16T15:50:08.050667+00:00"
    }
   },
   "source": [
    "To define a recursive function in Python, we only need a function that calls itself."
   ]
  },
  {
   "cell_type": "code",
   "execution_count": 1,
   "id": "42c63808a6304e0697c8cb8b73425823",
   "metadata": {
    "slideshow": {
     "slide_type": "skip"
    },
    "tags": [
     "translated_en"
    ],
    "translation": {
     "lang": "de",
     "src_hash": "f6845a5e1b7dc8f7e73babaa460910e7e1416546fbe9a9b2a2cb14a5ee76a7bb",
     "updated_at_iso": "2025-08-16T15:50:12.426217+00:00"
    }
   },
   "outputs": [],
   "source": [
    "def recursive_function():\n",
    "\t# Statement\n",
    "\trecursive_function() # We call ourselves again (as a function) once more"
   ]
  },
  {
   "cell_type": "markdown",
   "id": "5b53bad3dffb4f939f041c962a4a485f",
   "metadata": {
    "slideshow": {
     "slide_type": "skip"
    },
    "tags": [
     "translated_en"
    ],
    "translation": {
     "lang": "de",
     "src_hash": "57780b41176c32bf558b861004068cf7804a7f0ffbbfdd12006ef3d8478f7d61",
     "updated_at_iso": "2025-08-16T15:50:14.577637+00:00"
    }
   },
   "source": [
    "For example, recursive functions can be used to implement loops."
   ]
  },
  {
   "cell_type": "code",
   "execution_count": 2,
   "id": "fd255b49e358423b96bedcac14073fcb",
   "metadata": {
    "slideshow": {
     "slide_type": "skip"
    },
    "tags": [
     "translated_en"
    ],
    "translation": {
     "lang": "de",
     "src_hash": "f0de5a859ead3196ead5107efe39bf2226c67ec90d52257ef1dad4844dfef922",
     "updated_at_iso": "2025-08-16T15:50:21.048695+00:00"
    }
   },
   "outputs": [],
   "source": [
    "def while_loop(n):  # n as the maximum recursion depth\n",
    "\tif n > 0:\n",
    "\t\tprint(f\"Die Funktion wird rekursiv ausgeführt bis die Bedingung am Anfang der Schleife {n} > 0 wahr ist\")\n",
    "\t\twhile_loop(n - 1)  # we decrement the variable n"
   ]
  },
  {
   "cell_type": "markdown",
   "id": "63c2b1a0679741bd80e1c686e866639f",
   "metadata": {
    "slideshow": {
     "slide_type": "skip"
    },
    "tags": [
     "translated_en"
    ],
    "translation": {
     "lang": "de",
     "src_hash": "bb815011d28a1f9759dd242619cc8a635875befaf436ef1ec23f812aaec8849a",
     "updated_at_iso": "2025-08-16T15:50:25.021876+00:00"
    }
   },
   "source": [
    "The recursive function is executed three times because the condition is true and we count down to zero. Just like with the while loop."
   ]
  },
  {
   "cell_type": "code",
   "execution_count": 3,
   "id": "364925812d06497ea69fcedebc0e4c53",
   "metadata": {
    "slideshow": {
     "slide_type": "skip"
    },
    "tags": [
     "translated_en"
    ],
    "translation": {
     "lang": "de",
     "src_hash": "85d85f61dd04e277fac88f3564c9242a8da1ecd18dd6648494f98647bfcb3e0a",
     "updated_at_iso": "2025-08-16T15:50:26.967814+00:00"
    }
   },
   "outputs": [
    {
     "name": "stdout",
     "output_type": "stream",
     "text": [
      "Die Funktion wird rekursiv ausgeführt bis die Bedingung am Anfang der Schleife 3 > 0 wahr ist\n",
      "Die Funktion wird rekursiv ausgeführt bis die Bedingung am Anfang der Schleife 2 > 0 wahr ist\n",
      "Die Funktion wird rekursiv ausgeführt bis die Bedingung am Anfang der Schleife 1 > 0 wahr ist\n"
     ]
    }
   ],
   "source": [
    "while_loop(3)"
   ]
  },
  {
   "cell_type": "markdown",
   "id": "e6af18a4c05b45f7b55dc719956adf76",
   "metadata": {
    "slideshow": {
     "slide_type": "skip"
    },
    "tags": [
     "translated_en"
    ],
    "translation": {
     "lang": "de",
     "src_hash": "65b85ed9a086e2e7c16a59799c5eeabfc798e9a8c906b958b1cd3e4e2d339192",
     "updated_at_iso": "2025-08-16T15:50:31.675803+00:00"
    }
   },
   "source": [
    "Thus it becomes evident that loops can always be implemented by recursion—something used by functional programming languages, which only know functions."
   ]
  },
  {
   "cell_type": "markdown",
   "id": "e3e5a934dd8546629538c12d5b4f5c32",
   "metadata": {
    "slideshow": {
     "slide_type": "skip"
    },
    "tags": [
     "translated_en"
    ],
    "translation": {
     "lang": "de",
     "src_hash": "efa8371bbc6f8c66db045c5da4fc6a96fd64c16df19494560a3b479fbec11d20",
     "updated_at_iso": "2025-08-16T15:50:35.407798+00:00"
    }
   },
   "source": [
    "## Example of a Recursive Function - Factorial"
   ]
  },
  {
   "cell_type": "markdown",
   "id": "ad8f099430ad45d69a554ea20026a1bf",
   "metadata": {
    "slideshow": {
     "slide_type": "skip"
    },
    "tags": [
     "translated_en"
    ],
    "translation": {
     "lang": "de",
     "src_hash": "616877f42c954aed163b5c88c4ea57027540a30da0d10374a71a6d59c71377fe",
     "updated_at_iso": "2025-08-16T15:50:39.155984+00:00"
    }
   },
   "source": [
    "The standard example of a recursive function is the calculation of the factorial of a number. It is defined as the product of the natural numbers from 1 to $n$.\n",
    "\n",
    "$n! = 1 \\cdot 2 \\cdot 3 \\cdots n = \\prod_{k=1}^n k$"
   ]
  },
  {
   "cell_type": "code",
   "execution_count": 4,
   "id": "fdce86c194194d28882951738ea6ecd0",
   "metadata": {
    "slideshow": {
     "slide_type": "skip"
    },
    "tags": [
     "translated_en"
    ],
    "translation": {
     "lang": "de",
     "src_hash": "62a318233aaf78d9841414d7624295a5062389ceeda36b424a57c245fb05d307",
     "updated_at_iso": "2025-08-16T15:50:44.138220+00:00"
    }
   },
   "outputs": [],
   "source": [
    "def factorial_recursive(x):\n",
    "    if x > 1:\n",
    "        return x * factorial_recursive(x-1)\n",
    "    else:\n",
    "        return 1"
   ]
  },
  {
   "cell_type": "markdown",
   "id": "1051256cd9a442a4b4caf91b625b66de",
   "metadata": {
    "slideshow": {
     "slide_type": "skip"
    },
    "tags": [
     "translated_en"
    ],
    "translation": {
     "lang": "de",
     "src_hash": "b2c4ad52c0a645ccc1cabb4677f53357cf7e4a46b4d38d7a8274ffcd13b3f618",
     "updated_at_iso": "2025-08-16T15:50:45.854048+00:00"
    }
   },
   "source": [
    "The factorial of the number 10 is defined as:"
   ]
  },
  {
   "cell_type": "code",
   "execution_count": 5,
   "id": "88a0994e7ee145079e8bcdf988a7fd29",
   "metadata": {
    "slideshow": {
     "slide_type": "skip"
    },
    "tags": [
     "translated_en"
    ],
    "translation": {
     "lang": "de",
     "src_hash": "1db87c35debdae9dc912e442a01c0db6efc1734203554165761f17cc2b17521d",
     "updated_at_iso": "2025-08-16T15:50:48.682132+00:00"
    }
   },
   "outputs": [
    {
     "data": {
      "text/plain": [
       "3628800"
      ]
     },
     "execution_count": 5,
     "metadata": {},
     "output_type": "execute_result"
    }
   ],
   "source": [
    "10 * 9 * 8 * 7 * 6 * 5 * 4 * 3 * 2 * 1"
   ]
  },
  {
   "cell_type": "markdown",
   "id": "484e4d04cb2b4cfe8ee3c9407c123cb6",
   "metadata": {
    "slideshow": {
     "slide_type": "skip"
    },
    "tags": [
     "translated_en"
    ],
    "translation": {
     "lang": "de",
     "src_hash": "a18b3d73b988af3b43e34428b9ad6f47297ce5ad61bb5adb8cfa13f6ae5a6d96",
     "updated_at_iso": "2025-08-16T15:50:52.261740+00:00"
    }
   },
   "source": [
    "which is identical to the output of our function"
   ]
  },
  {
   "cell_type": "code",
   "execution_count": 6,
   "id": "1e5004cd194a4551aebb5360a0639aa1",
   "metadata": {
    "slideshow": {
     "slide_type": "skip"
    },
    "tags": [
     "translated_en"
    ],
    "translation": {
     "lang": "de",
     "src_hash": "4b4ab44b9731bd64c2c7d41646f636b564e169ac5f295988e3a2be5e20974c25",
     "updated_at_iso": "2025-08-16T15:50:56.665971+00:00"
    }
   },
   "outputs": [
    {
     "data": {
      "text/plain": [
       "3628800"
      ]
     },
     "execution_count": 6,
     "metadata": {},
     "output_type": "execute_result"
    }
   ],
   "source": [
    "factorial_recursiv(10)"
   ]
  },
  {
   "cell_type": "markdown",
   "id": "beffd2089f5846b7a81ed6977472549a",
   "metadata": {
    "slideshow": {
     "slide_type": "skip"
    },
    "tags": [
     "translated_en"
    ],
    "translation": {
     "lang": "de",
     "src_hash": "46795d8e8b17adbf7e8e8cfb20f898fa8c0e08a898aec2e7afba99ee008f18c4",
     "updated_at_iso": "2025-08-16T15:51:03.220158+00:00"
    }
   },
   "source": [
    "When we call the function, it calls itself recursively and counts down from `x=10` to 1. Each function call can be viewed as a pair of parentheses, so that, in the end, the following calculation is performed, which matches the calculation above."
   ]
  },
  {
   "cell_type": "code",
   "execution_count": 7,
   "id": "bd514b647a6a4f93954960fb0009e861",
   "metadata": {
    "slideshow": {
     "slide_type": "skip"
    },
    "tags": [
     "translated_en"
    ],
    "translation": {
     "lang": "de",
     "src_hash": "c2378e475f8300c70645511c86da6149f65db1b1002b6c50299ffceec4db2474",
     "updated_at_iso": "2025-08-16T15:51:06.865703+00:00"
    }
   },
   "outputs": [
    {
     "data": {
      "text/plain": [
       "3628800"
      ]
     },
     "execution_count": 7,
     "metadata": {},
     "output_type": "execute_result"
    }
   ],
   "source": [
    "10 * (9 * (8 * (7 * (6 * (5 * (4 * (3 * (2 * (1)))))))))"
   ]
  },
  {
   "cell_type": "markdown",
   "id": "1f4fc345546c478ba9b0955837fadd1b",
   "metadata": {
    "slideshow": {
     "slide_type": "skip"
    },
    "tags": [
     "translated_en"
    ],
    "translation": {
     "lang": "de",
     "src_hash": "49564b612dfa4dc5117c6124522685a990e49b2209fce27ef2bfa74ed1db9a7a",
     "updated_at_iso": "2025-08-16T15:51:09.108377+00:00"
    }
   },
   "source": [
    "This simple example can also be implemented using a loop."
   ]
  },
  {
   "cell_type": "code",
   "execution_count": 8,
   "id": "d9bad774dcfa4a9cb8cfa018b0469a80",
   "metadata": {
    "slideshow": {
     "slide_type": "skip"
    },
    "tags": [
     "translated_en"
    ],
    "translation": {
     "lang": "de",
     "src_hash": "20d64f94a38c4a89ee7cfce16b04e0581b07087a8a449cf55394391d34154e59",
     "updated_at_iso": "2025-08-16T15:51:15.719436+00:00"
    }
   },
   "outputs": [],
   "source": [
    "def factorial_loop(x):\n",
    "    result = x\n",
    "    index = x - 1\n",
    "    while index > 1:\n",
    "        result *= index\n",
    "        index -= 1\n",
    "    return result"
   ]
  },
  {
   "cell_type": "code",
   "execution_count": 9,
   "id": "d23c7323063d40398c3841da4b3839e1",
   "metadata": {
    "slideshow": {
     "slide_type": "skip"
    },
    "tags": [
     "translated_en"
    ],
    "translation": {
     "lang": "de",
     "src_hash": "33c0fa64b3a58da4b34df80cb05395743f193bf1c554f5f4eecaa4e703ac1edc",
     "updated_at_iso": "2025-08-16T15:51:19.087604+00:00"
    }
   },
   "outputs": [
    {
     "data": {
      "text/plain": [
       "3628800"
      ]
     },
     "execution_count": 9,
     "metadata": {},
     "output_type": "execute_result"
    }
   ],
   "source": [
    "factorial_loop(10)"
   ]
  },
  {
   "cell_type": "markdown",
   "id": "32f55a1863f64b9780c985a534506da8",
   "metadata": {
    "slideshow": {
     "slide_type": "skip"
    },
    "tags": [
     "translated_en"
    ],
    "translation": {
     "lang": "de",
     "src_hash": "d7f03602fc634414330a205b5394ec09b24b61912b7fd084fe72ac6e393df1ad",
     "updated_at_iso": "2025-08-16T15:51:33.882667+00:00"
    }
   },
   "source": [
    "This is usually more performant, as functions generally take a bit longer to execute, since they have their own local variable scope and run on the stack (see the next section).\n",
    "\n",
    "We'll perform a runtime comparison once using the `timeit` function in the Jupyter Notebook. It calls the function several times and computes the average execution time."
   ]
  },
  {
   "cell_type": "code",
   "execution_count": 10,
   "id": "c69dc550e2b64dbdbb9adab38673fa8d",
   "metadata": {
    "slideshow": {
     "slide_type": "skip"
    },
    "tags": [
     "translated_en"
    ],
    "translation": {
     "lang": "de",
     "src_hash": "df47b2acb0a5295818f96739e7d79d1b424b794f90e164d14ccc48f739ae59aa",
     "updated_at_iso": "2025-08-16T15:51:38.251510+00:00"
    }
   },
   "outputs": [
    {
     "name": "stdout",
     "output_type": "stream",
     "text": [
      "172 μs ± 1.35 μs per loop (mean ± std. dev. of 7 runs, 10,000 loops each)\n"
     ]
    }
   ],
   "source": [
    "%timeit factorial_recursive(1000)"
   ]
  },
  {
   "cell_type": "code",
   "execution_count": 11,
   "id": "ad43b65816594a28b1829a6f1ec05887",
   "metadata": {
    "slideshow": {
     "slide_type": "skip"
    },
    "tags": [
     "translated_en"
    ],
    "translation": {
     "lang": "de",
     "src_hash": "a1adfcf1ec8789eed6b37f6449b09601f5896e689de40d322060c81c95485a0b",
     "updated_at_iso": "2025-08-16T15:51:41.303663+00:00"
    }
   },
   "outputs": [
    {
     "name": "stdout",
     "output_type": "stream",
     "text": [
      "169 μs ± 1.29 μs per loop (mean ± std. dev. of 7 runs, 10,000 loops each)\n"
     ]
    }
   ],
   "source": [
    "%timeit factorial_loop(1000)"
   ]
  },
  {
   "cell_type": "markdown",
   "id": "ded77b705a83420fa3c90a0320697a44",
   "metadata": {
    "slideshow": {
     "slide_type": "skip"
    },
    "tags": [
     "translated_en"
    ],
    "translation": {
     "lang": "de",
     "src_hash": "a8cf5deaf3298f63bd960900e45143edb7e9960484879ffe5739e2c97708372c",
     "updated_at_iso": "2025-08-16T15:51:45.874744+00:00"
    }
   },
   "source": [
    "We see that the loop-based variant is somewhat faster than the recursive variant.\n",
    "\n",
    "However, recursive functions are usually more readable and cannot always be expressed with loops, for example when several variables are manipulated."
   ]
  },
  {
   "cell_type": "markdown",
   "id": "0f1f2724ac324469bc0fa4ed30564ac4",
   "metadata": {
    "slideshow": {
     "slide_type": "skip"
    },
    "tags": [
     "translated_en"
    ],
    "translation": {
     "lang": "de",
     "src_hash": "a033bf983944981b91867cceb4f90e0b01b425bccddcc35bf01afc1d6bcad123",
     "updated_at_iso": "2025-08-16T15:51:48.375247+00:00"
    }
   },
   "source": [
    "## Infinite Recursion, Stack and Heap"
   ]
  },
  {
   "cell_type": "markdown",
   "id": "b0f84ef75d46426487e42271267a7669",
   "metadata": {
    "slideshow": {
     "slide_type": "skip"
    },
    "tags": [
     "translated_en"
    ],
    "translation": {
     "lang": "de",
     "src_hash": "aa76956169337449a7ef718a6eaa6bbf676ba792c5fb35b19c1496ab815302ad",
     "updated_at_iso": "2025-08-16T15:51:55.269025+00:00"
    }
   },
   "source": [
    ":::{warning} Since recursive functions conceptually resemble loops, the same problem of infinite recursion arises here as well. As with while loops, recursive functions can *theoretically* diverge indefinitely!\n",
    "\n",
    "Therefore **at least one** path in the function must not be recursive.\n",
    ":::"
   ]
  },
  {
   "cell_type": "markdown",
   "id": "f7ff1c5d1ec2441da62559ce569a0bf4",
   "metadata": {
    "slideshow": {
     "slide_type": "skip"
    },
    "tags": [
     "translated_en"
    ],
    "translation": {
     "lang": "de",
     "src_hash": "cd1d940cbf8104bcd94a727af4f1e778595442f6f38cec9eda5e0c57e1c5bb33",
     "updated_at_iso": "2025-08-16T15:52:09.574311+00:00"
    }
   },
   "source": [
    "*Practically*, however, endless recursion leads to stack overflow errors. This happens because Python has to keep track of which function called which other function in order to return to the correct function and position when it finishes. This is done via a list called the *Stack*.\n",
    "\n",
    "The *Stack* is a LIFO list (Last In First Out) where the last element added (the newly called function) must also be the first one removed (when the newly called function ends). It’s basically like a stack of books. The *Stack* grows so large with endless recursion that it no longer fits in the allocated memory, which is the stack overflow error.\n",
    "\n",
    "By the way, the variables are not stored on the *Stack*, but reside in the *Heap*. The *Heap*, in comparison to the *Stack*, can grow as large as the available memory and more closely resembles a FIFO list (First In, First Out), since memory from old variables that are no longer valid is freed."
   ]
  },
  {
   "cell_type": "markdown",
   "id": "ff47c189ac9542a5859b1de9bda53816",
   "metadata": {
    "slideshow": {
     "slide_type": "skip"
    },
    "tags": [
     "translated_en"
    ],
    "translation": {
     "lang": "de",
     "src_hash": "d70be17ebd32f3bd5844f336ef1f447179094444c9b9c6f80bd981c2797c601f",
     "updated_at_iso": "2025-08-16T15:52:17.063329+00:00"
    }
   },
   "source": [
    "A stack overflow error is a **critical programming error** that cannot be caught, but always leads to the termination of the program. As an example, we invoke our first-defined recursive function and see the error message from the Python kernel crash."
   ]
  },
  {
   "cell_type": "code",
   "execution_count": 12,
   "id": "c6c2bb8f99d84c40b51205f2eaeae094",
   "metadata": {
    "slideshow": {
     "slide_type": "skip"
    },
    "tags": [
     "translated_en"
    ],
    "translation": {
     "lang": "de",
     "src_hash": "ca142984e2ea9eac8da92991bb204e07a46a423ee2ff1b0751b84617ab22c837",
     "updated_at_iso": "2025-08-16T15:52:25.930353+00:00"
    }
   },
   "outputs": [],
   "source": [
    "# If we run the following function, we will receive the error message below\n",
    "\n",
    "#recursive_function()"
   ]
  },
  {
   "cell_type": "markdown",
   "id": "cd402f14c0374dc787c100dc8c500312",
   "metadata": {
    "slideshow": {
     "slide_type": "skip"
    },
    "tags": [
     "translated_en"
    ],
    "translation": {
     "lang": "de",
     "src_hash": "7415cf86a7a91e1f5dff13309c5b857e2db1a940e2529b7755a9f28d403de6f6",
     "updated_at_iso": "2025-08-16T15:52:32.039584+00:00"
    }
   },
   "source": [
    "<span style='color: red'>Canceled future for execute_request message before replies were done</span>\n",
    "\n",
    "<span style='color: red'>The kernel has crashed while executing code in the current cell or a previous cell. Please check the code in the cell(s) to identify a possible cause of the error. Click here to obtain more information. For more details, see the Jupyter log.</span>"
   ]
  },
  {
   "cell_type": "markdown",
   "id": "8dd627ed9eac4e358de37c4f0509105d",
   "metadata": {
    "slideshow": {
     "slide_type": "slide"
    },
    "tags": [
     "remove-cell",
     "translated_en"
    ],
    "translation": {
     "lang": "de",
     "src_hash": "bd0ea5a5fa3596650b23f87ffd8221be2368da9465a8e5d9f32d1ec8ec70bd9b",
     "updated_at_iso": "2025-08-16T15:52:45.740520+00:00"
    }
   },
   "source": [
    "<div class=\"vslide\">\n",
    "  <div class=\"vslide-title\">\n",
    "    <p style=\"font-family: Protomolecule; font-size: 2.3em; line-height: 90%; margin: 0px auto; text-align: center; width: 100%;\"><span style=\"letter-spacing: .04rem;\">Programming</span><br><span style=\"letter-spacing: .0rem;\">Databases</span></p>\n",
    "<p class=\"author\" style=\"font-family: Protomolecule; margin: 0px auto;  text-align: center; width: 100%; font-size: 1.2em;\">Joern Ploennigs</p>\n",
    "<p class=\"subtitle\" style=\"font-family: Protomolecule; margin: 1em auto; text-align: center; width: 100%; font-size: 1.2em;\">Recursion</p>\n",
    "    <figcaption>Midjourney: Fractal</figcaption>\n",
    "  </div>\n",
    "<script>\n",
    "  function setSectionBackground(c, v, w){\n",
    "    let e = document.currentScript.previousElementSibling;\n",
    "    while (e && e.tagName !== 'SECTION') e = e.parentElement;\n",
    "    if (!e) return;\n",
    "    if (c) e.setAttribute('data-background-color', c);\n",
    "    if (v) {\n",
    "      e.setAttribute('data-background-video', v);\n",
    "      e.setAttribute('data-background-video-loop', 'true');\n",
    "      e.setAttribute('data-background-video-muted', 'true');\n",
    "    }\n",
    "    if (w) {\n",
    "      const d = e.querySelector('div');\n",
    "      if (d) d.style.backgroundColor = 'rgba(255,255,255,0.6)';\n",
    "    }\n",
    "  }\n",
    "  setSectionBackground('#000000', 'images/04b_Rekursion/mj_title.mp4');\n",
    "</script>\n",
    "<style>\n",
    ".flex-row{display:flex; gap:2rem; align-items:flex-start; justify-content:space-between;}\n",
    ".flex-row .col1{flex:1; min-width:10px}\n",
    ".flex-row .col2{flex:2; min-width:10px}\n",
    ".flex-row .col3{flex:3; min-width:10px}\n",
    ".flex-row .col4{flex:4; min-width:10px}\n",
    ".flex-row .col5{flex:5; min-width:10px}\n",
    ".flex-row .col6{flex:6; min-width:10px}\n",
    ".flex-row .col7{flex:7; min-width:10px}\n",
    ".vcent{display:flex; align-items:center; justify-content:center}\n",
    "</style>\n",
    "</div>"
   ]
  },
  {
   "cell_type": "markdown",
   "id": "f8c940f1e7b84db59afb57cb451ca992",
   "metadata": {
    "slideshow": {
     "slide_type": "slide"
    },
    "tags": [
     "remove-cell",
     "translated_en"
    ],
    "translation": {
     "lang": "de",
     "src_hash": "c2b83799e91cb0b8df2934fd61c369c82b7696c0bab27d78f69459b26eea7122",
     "updated_at_iso": "2025-08-16T15:52:48.791476+00:00"
    }
   },
   "source": [
    "## Process\n",
    "\n",
    "![](images/partA_5.svg)"
   ]
  },
  {
   "cell_type": "markdown",
   "id": "4fb59fd13d164123b52eefad6544484d",
   "metadata": {
    "slideshow": {
     "slide_type": "slide"
    },
    "tags": [
     "remove-cell",
     "translated_en"
    ],
    "translation": {
     "lang": "de",
     "src_hash": "d81ed4dd56c394f138bf876c61fc2c82747b43e5bd59dc4a5da3199ff61ba081",
     "updated_at_iso": "2025-08-16T15:52:55.347231+00:00"
    }
   },
   "source": [
    "## Recursion - General\n",
    "\n",
    "<div class=\"alert alert-block alert-success\">\n",
    "<b>📘 Definition: Recursion</b>\n",
    "\n",
    "Recursion (Latin *recurrere* – 'to run back') is an essentially endless process that contains itself as part or can be defined using itself. In computer science, recursion occurs whenever a function *calls itself*.\n",
    "</div>\n",
    "\n",
    "- Typical applications are divide-and-conquer algorithms and combinatorial problems"
   ]
  },
  {
   "cell_type": "markdown",
   "id": "4e4d12db502741a38f8d49a448525469",
   "metadata": {
    "slideshow": {
     "slide_type": "subslide"
    },
    "tags": [
     "remove-cell",
     "translated_en"
    ],
    "translation": {
     "lang": "de",
     "src_hash": "eeebfff2755898bc53a80620df4e551481fc5e4f498fd91414c0e6bfac783d25",
     "updated_at_iso": "2025-08-16T15:53:00.424136+00:00"
    }
   },
   "source": [
    "## Recursion in Python\n",
    "\n",
    "In Python, recursion is achieved by a function calling itself.\n",
    "\n",
    "```python\n",
    "def recursive_function():\n",
    "    Statement1\n",
    "    recursive_function()\n",
    "```"
   ]
  },
  {
   "cell_type": "markdown",
   "id": "b2c3a88bf4a341358aa4a94b15d2f92d",
   "metadata": {
    "slideshow": {
     "slide_type": "subslide"
    },
    "tags": [
     "remove-cell",
     "translated_en"
    ],
    "translation": {
     "lang": "de",
     "src_hash": "ac081e2793b5a5f1e2402e6070f731a0f62b03129ff1fe7a552b586ad1e13055",
     "updated_at_iso": "2025-08-16T15:53:06.129956+00:00"
    }
   },
   "source": [
    "### Example: Factorial\n",
    "\n",
    "The factorial of a number is defined as the product of the natural numbers from 1 to n\n",
    "\n",
    "```python\n",
    "def factorial_recursiv(x):\n",
    "    if x > 1:\n",
    "        return x * factorial_recursiv(x - 1)\n",
    "    else:\n",
    "        return 1\n",
    "```"
   ]
  },
  {
   "cell_type": "markdown",
   "id": "858bccf664b647dcb13516ecf8231736",
   "metadata": {
    "slideshow": {
     "slide_type": "subslide"
    },
    "tags": [
     "remove-cell",
     "translated_en"
    ],
    "translation": {
     "lang": "de",
     "src_hash": "b350af9701f9784c342ebc00d04c4fe161f31f0d7960fdbd1165a6a97081bc9b",
     "updated_at_iso": "2025-08-16T15:53:12.771728+00:00"
    }
   },
   "source": [
    "## Warning: Infinite recursion\n",
    "\n",
    "- With recursive functions there is the same problem as with while loops: they can (theoretically) branch out forever!\n",
    "\n",
    "- Therefore, at least one path through the function should not be recursive."
   ]
  },
  {
   "cell_type": "markdown",
   "id": "b046227b9ee948f19675022bbfbf35f0",
   "metadata": {
    "slideshow": {
     "slide_type": "slide"
    },
    "tags": [
     "remove-cell",
     "translated_en"
    ],
    "translation": {
     "lang": "de",
     "src_hash": "e079da67860f0d587650d65c469879fb7221dcb47313b1864e0df913041698d2",
     "updated_at_iso": "2025-08-16T15:53:18.375559+00:00"
    }
   },
   "source": [
    "## Background: Stack Overflow Error\n",
    "\n",
    "<div class=\"flex-row\">\n",
    "<div class=\"col1\">\n",
    "\n",
    "- The stack is a list that records which functions are currently being called\n",
    "- This tells you where to return to when a function finishes\n",
    "- In the case of infinite recursion, the list grows without bound\n",
    "\n",
    "</div>\n",
    "<div class=\"col1\">\n",
    "<figure class=\"mj-fig\">\n",
    "    <img src=\"images/04b_Rekursion/stack_1.svg\" class=\"mj-fig-img\">\n",
    "</figure>\n",
    "</div>\n",
    "</div>"
   ]
  },
  {
   "cell_type": "markdown",
   "id": "f1115f413864402ba9d4c5f0723df5aa",
   "metadata": {
    "slideshow": {
     "slide_type": "subslide"
    },
    "tags": [
     "remove-cell",
     "translated_en"
    ],
    "translation": {
     "lang": "de",
     "src_hash": "3ea17efca23057a6eaf0c1533acfb92c6c9dd64bc127dc5f6261ce7c451609f3",
     "updated_at_iso": "2025-08-16T15:53:26.037996+00:00"
    }
   },
   "source": [
    "## Background: Stack Overflow Errors\n",
    "\n",
    "<div class=\"flex-row\">\n",
    "<div class=\"col1\">\n",
    "\n",
    "- The stack is a list that records which functions are currently being called\n",
    "- This determines where to return to when a function finishes\n",
    "- In the case of infinite recursion, the list can grow without bound\n",
    "\n",
    "\n",
    "- Infinite recursion leads to stack overflow errors\n",
    "- It results in a hard crash of the program\n",
    "\n",
    "</div>\n",
    "<div class=\"col1\">\n",
    "<figure class=\"mj-fig\">\n",
    "    <img src=\"images/04b_Rekursion/stack_2.svg\" class=\"mj-fig-img\">\n",
    "</figure>\n",
    "</div>\n",
    "</div>"
   ]
  },
  {
   "cell_type": "markdown",
   "id": "fe91bbc7f1ba49d9afac568c1b01dd54",
   "metadata": {
    "slideshow": {
     "slide_type": "subslide"
    },
    "tags": [
     "remove-cell",
     "translated_en"
    ],
    "translation": {
     "lang": "de",
     "src_hash": "05283459b5d8e01f0f2f951db5165e67c56590612736185f9f0ad97e7aa7e507",
     "updated_at_iso": "2025-08-16T15:53:35.264788+00:00"
    }
   },
   "source": [
    "## Heap vs Stack\n",
    "\n",
    "<div class=\"flex-row\">\n",
    "<div class=\"col1\">\n",
    "\n",
    "<div class=\"alert alert-block alert-success\">\n",
    "<b>📘 Definition: Stack</b>\n",
    "\n",
    "The stack is a region of memory in which function calls and their local variables are managed according to the LIFO principle (Last In, First Out). Each new function call is pushed onto the top of the stack and removed again when it finishes. If the stack becomes full, a stack overflow error occurs.\n",
    "</div>\n",
    "\n",
    "- For function calls\n",
    "- LIFO principle\n",
    "- Limited memory\n",
    "\n",
    "</div>\n",
    "<div class=\"col1\">\n",
    "\n",
    "<div class=\"alert alert-block alert-success\">\n",
    "<b>📘 Definition: Heap</b>\n",
    "\n",
    "The heap refers to a region of memory where variables are managed. The heap, in contrast to the stack, is not limited but grows dynamically with demand. Memory on the heap is managed in a FIFO-like manner and must be explicitly freed.\n",
    "</div>\n",
    "\n",
    "- For variables\n",
    "- FIFO-like\n",
    "- Dynamically sized (RAM)\n",
    "\n",
    "</div>\n",
    "</div>"
   ]
  },
  {
   "cell_type": "markdown",
   "id": "b0137f2c752e4459a327de4595e198cb",
   "metadata": {
    "slideshow": {
     "slide_type": "slide"
    },
    "tags": [
     "remove-cell",
     "translated_en"
    ],
    "translation": {
     "lang": "de",
     "src_hash": "2dab28b5106cd5527801577b935eee10fb216d94dba41e3874523c8b190a0a92",
     "updated_at_iso": "2025-08-16T15:53:41.930437+00:00"
    }
   },
   "source": [
    "## Lesson Learned\n",
    "<figcaption class=\"mj-slide-cap\">Midjourney: Six Sense</figcaption>\n",
    "\n",
    "<script>setSectionBackground('#66ccffff', 'images/02b_Wissenspyramide/mj_senses.mp4', true);</script>\n",
    "\n",
    "<div class=\"flex-row\">\n",
    "<div class=\"col2\">\n",
    "\n",
    "What learning styles are there?\n",
    "\n",
    "</div>\n",
    "<div class=\"col3\">\n",
    "    <!--<figure class=\"mj-fig\">\n",
    "    <video controls autoplay muted class=\"mj-fig-img\">\n",
    "      <source src=\"images/02b_Wissenspyramide/mj_senses.mp4\" type=\"video/mp4\">\n",
    "      Your browser does not support the video tag.\n",
    "    </video>\n",
    "        <figcaption class=\"mj-fig-cap\">\n",
    "            Midjourney: Six Sense\n",
    "        </figcaption>\n",
    "    </figure>-->\n",
    "  </div>\n",
    "</div>"
   ]
  },
  {
   "cell_type": "markdown",
   "id": "4a126cf5d6354d049b9a0cb39e54adaf",
   "metadata": {
    "slideshow": {
     "slide_type": "subslide"
    },
    "tags": [
     "remove-cell",
     "translated_en"
    ],
    "translation": {
     "lang": "de",
     "src_hash": "a6ebcdce139b49932e78f93072b763ff0dcf7bec92ab6a7f05bcc46ac8df44e6",
     "updated_at_iso": "2025-08-16T15:53:57.044951+00:00"
    }
   },
   "source": [
    "## Lesson Learned - Follow-Up\n",
    "\n",
    "<script>setSectionBackground('#66ccffff');</script>\n",
    "\n",
    "- **S**urvey (Gain an overview): Skim through a topic to gain an overview\n",
    "- **Q**uestion (Questions): Note down questions about points you don’t understand.\n",
    "- **R**ead (Read): Read through your notes; highlight keywords; research the questions.\n",
    "- **R**ecite (Recite): Recapitulate each section (content, keywords, connections). Organize the material, e.g., with mind maps. Repeat what you’ve learned several times (flashcards).\n",
    "- **R**eview (Reflect): Mentally review the key points and answer your questions.\n",
    "\n",
    "<div class=\"flex-row\">\n",
    "  <div class=\"col1\">\n",
    "\n",
    "[![https://youtu.be/n0ql-yeY9u0](https://img.youtube.com/vi/n0ql-yeY9u0/0.jpg)](https://www.youtube.com/watch?v=n0ql-yeY9u0)\n",
    "\n",
    "  </div>\n",
    "  <div class=\"col1\"> \n",
    "\n",
    "[![https://youtu.be/NONST7mwhX8](https://img.youtube.com/vi/NONST7mwhX8/0.jpg)](https://www.youtube.com/watch?v=NONST7mwhX8)\n",
    "\n",
    "  </div>\n",
    "</div>"
   ]
  },
  {
   "cell_type": "markdown",
   "id": "126c90f15a334a6c89acf7ad60a47a90",
   "metadata": {
    "slideshow": {
     "slide_type": "subslide"
    },
    "tags": [
     "remove-cell",
     "translated_en"
    ],
    "translation": {
     "lang": "de",
     "src_hash": "75595cbf690f5ae8023509e08bee32f810f6622bb61c2fa96d1bf6f410da53e2",
     "updated_at_iso": "2025-08-16T15:54:02.708264+00:00"
    }
   },
   "source": [
    "## Mind Map\n",
    "\n",
    "<script>setSectionBackground('#66ccffff');</script>\n",
    "\n",
    "- Work from the inside out\n",
    "- Reduces topics to individual terms\n",
    "- A structure forms automatically\n",
    "- Uses colors and symbols\n",
    "- Creates connections between concepts\n",
    "\n",
    "<center>\n",
    "<figure class=\"vcent\">\n",
    "    <img src=\"images/04b_Rekursion/image_1.jpg\" style=\" width: 60%; z-index: -1;\" alt=\"Mind map\">\n",
    "</figure>\n",
    "</center>"
   ]
  },
  {
   "cell_type": "markdown",
   "id": "767e6135bc3e461e99f8d30411c17956",
   "metadata": {
    "slideshow": {
     "slide_type": "slide"
    },
    "tags": [
     "remove-cell",
     "translated_en"
    ],
    "translation": {
     "lang": "de",
     "src_hash": "d2b7467259ef9f52d61ecf9953374631953b152baba6f1edeaac46d4c3d40a0b",
     "updated_at_iso": "2025-08-16T15:54:07.145748+00:00"
    }
   },
   "source": [
    "<div class=\"vslide\">\n",
    "  <div class=\"vslide-title\">\n",
    "    <p style=\"font-family: Protomolecule; font-size: 2.3em; margin: 0px auto; text-align: center; width: 100%;\">Questions?</p>\n",
    "  </div>\n",
    "  <script>setSectionBackground('#000000', 'images/mj_questions.mp4');</script>\n",
    "</div>"
   ]
  }
 ],
 "metadata": {
  "kernelspec": {
   "display_name": "base",
   "language": "python",
   "name": "python3"
  },
  "language_info": {
   "codemirror_mode": {
    "name": "ipython",
    "version": 3
   },
   "file_extension": ".py",
   "mimetype": "text/x-python",
   "name": "python",
   "nbconvert_exporter": "python",
   "pygments_lexer": "ipython3",
   "version": "3.12.2"
  },
  "rise": {
   "auto_select": "none",
   "center": false,
   "enable_chalkboard": true,
   "header": "<img src=\"images/pd_logo.svg\" class=\"header_title_logo\"><img src=\"images/ai4sc_logo_v2.svg\" class=\"header_ai4sc_logo\">",
   "scroll": true,
   "show_buttons_on_startup": false,
   "slideNumber": true,
   "theme": "white"
  }
 },
 "nbformat": 4,
 "nbformat_minor": 4
}
