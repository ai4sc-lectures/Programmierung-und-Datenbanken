{
 "cells": [
  {
   "cell_type": "markdown",
   "id": "98ee1a9d31c34dcbb92c77345ab2ad81",
   "metadata": {
    "editable": true,
    "slideshow": {
     "slide_type": "slide"
    },
    "tags": [
     "remove-cell",
     "translated_en"
    ],
    "translation": {
     "lang": "de",
     "src_hash": "ae85041b6ffc49d1270d081b82e0fc700626079ffbb678df7e8246891d29b96f",
     "updated_at_iso": "2025-08-16T15:08:29.606179+00:00"
    }
   },
   "source": [
    "<div class=\"vslide\">\n",
    "  <div class=\"vslide-title\">\n",
    "    <p style=\"font-family: Protomolecule; font-size: 2.3em; line-height: 90%; margin: 0px auto; text-align: center; width: 100%;\"><span style=\"letter-spacing: .04rem;\">Programming</span><br><span style=\"letter-spacing: .0rem;\">and databases</span></p>\n",
    "<p class=\"author\" style=\"font-family: Protomolecule; margin: 0px auto;  text-align: center; width: 100%; font-size: 1.2em;\">Joern Ploennigs</p>\n",
    "<p class=\"subtitle\" style=\"font-family: Protomolecule; margin: 1em auto; text-align: center; width: 100%; font-size: 1.2em;\">Operators</p>\n",
    "    <figcaption>Midjourney: Caligraphic Equations</figcaption>\n",
    "  </div>\n",
    "<script>\n",
    "  function setSectionBackground(c,v){\n",
    "    let e=document.currentScript.previousElementSibling;\n",
    "    while(e&&e.tagName!=='SECTION')e=e.parentElement;\n",
    "    if(e){\n",
    "      if(c)e.setAttribute('data-background-color',c);\n",
    "      if(v){\n",
    "        e.setAttribute('data-background-video',v);\n",
    "        e.setAttribute('data-background-video-loop','true');\n",
    "        e.setAttribute('data-background-video-muted','true');\n",
    "      }\n",
    "    }\n",
    "  }\n",
    "  setSectionBackground('#000000', 'images/03a_Operatoren/mj_title.mp4');\n",
    "</script>\n",
    "<style>\n",
    ".flex-row{display:flex; gap:2rem; align-items:flex-start; justify-content:space-between;}\n",
    ".flex-row .col1{flex:1; min-width:10px}\n",
    ".flex-row .col2{flex:2; min-width:10px}\n",
    ".flex-row .col3{flex:3; min-width:10px}\n",
    ".flex-row .col4{flex:4; min-width:10px}\n",
    ".flex-row .col5{flex:5; min-width:10px}\n",
    ".flex-row .col6{flex:6; min-width:10px}\n",
    ".flex-row .col7{flex:7; min-width:10px}\n",
    ".vcent{display:flex; align-items:center; justify-content:center}\n",
    "</style>\n",
    "</div>"
   ]
  },
  {
   "cell_type": "markdown",
   "id": "f84d4eef9daf459182c2812b48c9422a",
   "metadata": {
    "editable": true,
    "slideshow": {
     "slide_type": "skip"
    },
    "tags": [
     "translated_en"
    ],
    "translation": {
     "lang": "de",
     "src_hash": "f12fd6b76a283033a1a5b33bae5e9c718a77efc47cd62d75ba302b16d4d8fd8b",
     "updated_at_iso": "2025-08-16T15:08:31.527862+00:00"
    }
   },
   "source": [
    "# Operators"
   ]
  },
  {
   "cell_type": "markdown",
   "id": "5f9ec9356d95468e8fe6c6c119c3305e",
   "metadata": {
    "editable": true,
    "slideshow": {
     "slide_type": "skip"
    },
    "tags": [
     "translated_en"
    ],
    "translation": {
     "lang": "de",
     "src_hash": "af7baafa6e4f68edf3e15f1f2c340044c334a6e8b0e03b73edd1854184432a15",
     "updated_at_iso": "2025-08-16T15:08:35.498213+00:00"
    }
   },
   "source": [
    "<figure class=\"mj-tile-band\">\n",
    "<img src='images/03a_Operatoren/mj_title_band.jpg'>\n",
    "    <figcaption>Midjourney: Caligraphic Equations</figcaption>\n",
    "</figure>\n",
    "\n",
    "> Clarity in thought, like elegance in mathematics, arises not from abundance but from precision.\n",
    ">\n",
    "> — Blaise Pascal"
   ]
  },
  {
   "cell_type": "markdown",
   "id": "27706867260249aa9117b575f52a7626",
   "metadata": {
    "slideshow": {
     "slide_type": "skip"
    },
    "tags": [
     "translated_en"
    ],
    "translation": {
     "lang": "de",
     "src_hash": "1fe81b963bb908827da938af3cebb6b9fa52b4f200f6cc61197596d5de466b58",
     "updated_at_iso": "2025-08-16T15:08:38.862321+00:00"
    }
   },
   "source": [
    "## <a href=\"../lec_slides/03a_Operatoren.slides.html\">Slides</a>/<a href=\"../pdf/slides/03a_Operatoren.pdf\">PDF</a>\n",
    "<iframe src=\"../lec_slides/03a_Operatoren.slides.html\" width=\"750\" height=\"500\"></iframe>"
   ]
  },
  {
   "cell_type": "markdown",
   "id": "5e2e00790b8d4e068f375392c14ac1e8",
   "metadata": {
    "slideshow": {
     "slide_type": "subslide"
    },
    "tags": [
     "remove-cell",
     "translated_en"
    ],
    "translation": {
     "lang": "de",
     "src_hash": "051b54894f70c1f4911fe83be6ee0f537d02b657180d4419e2dad808d6e9ac6d",
     "updated_at_iso": "2025-08-16T15:08:44.635292+00:00"
    }
   },
   "source": [
    "## Recap: In-Class Question\n",
    "\n",
    "<script>setSectionBackground('#FFD966');</script>\n",
    "<div class=\"flex-row\">\n",
    "  <div class=\"col4 vcent\">\n",
    "\n",
    "What levels does the knowledge pyramid have?\n",
    " \n",
    "  </div>\n",
    "  <div class=\"col6\"> \n",
    "    <figure class=\"mj-fig\">\n",
    "        <img src=\"images/03a_Operatoren/mj_tower.png\" class=\"mj-fig-img\">\n",
    "        <figcaption class=\"mj-fig-cap\">\n",
    "            Midjourney: Tower of Babel\n",
    "        </figcaption>\n",
    "    </figure>\n",
    "  </div>\n",
    "</div>"
   ]
  },
  {
   "cell_type": "markdown",
   "id": "29f545ed18e8446aa26968412b8130d1",
   "metadata": {
    "slideshow": {
     "slide_type": "subslide"
    },
    "tags": [
     "remove-cell",
     "translated_en"
    ],
    "translation": {
     "lang": "de",
     "src_hash": "143c682f8ec1ca059cfc93db5b324034033c3c900085efa69438a5a6cfd6b5c3",
     "updated_at_iso": "2025-08-16T15:08:52.492319+00:00"
    }
   },
   "source": [
    "## Review: Knowledge Pyramid\n",
    "\n",
    "<script>setSectionBackground('#FFD966');</script>\n",
    "\n",
    "<div class=\"flex-row\">\n",
    "<div class=\"col1\">\n",
    "\n",
    "The knowledge pyramid is a model for representing the emergence of knowledge. \n",
    "\n",
    "The four element types: *Signs, Data, Information,* and *Knowledge* are represented as four levels of a pyramid.\n",
    "\n",
    "Signs form the base and knowledge the apex of the pyramid.\n",
    "\n",
    "</div>\n",
    "<div class=\"col1\">\n",
    "\n",
    "![](images/02b_Wissenspyramide/pyramide1.svg)\n",
    "\n",
    "</div>\n",
    "</div>"
   ]
  },
  {
   "cell_type": "markdown",
   "id": "f143c0be532d416d91de87a634d3f9a9",
   "metadata": {
    "slideshow": {
     "slide_type": "subslide"
    },
    "tags": [
     "remove-cell",
     "translated_en"
    ],
    "translation": {
     "lang": "de",
     "src_hash": "092cb403028f655bd98c9c3b2a89afe6c9ee5c2ffd92f4f17632cc395e9ebc76",
     "updated_at_iso": "2025-08-16T15:09:02.006553+00:00"
    }
   },
   "source": [
    "## Review: Lecture Hall Question\n",
    "\n",
    "<script>setSectionBackground('#FFD966');</script>\n",
    "<div class=\"flex-row\">\n",
    "  <div class=\"col4 vcent\">\n",
    "\n",
    "What data types are there in programming languages?\n",
    " \n",
    "  </div>\n",
    "  <div class=\"col6\"> \n",
    "    <figure class=\"mj-fig\">\n",
    "        <img src=\"images/03a_Operatoren/mj_avocado.png\" class=\"mj-fig-img\">\n",
    "        <figcaption class=\"mj-fig-cap\">\n",
    "            DALL·E 2: A chair in the shape of a avocado\n",
    "        </figcaption>\n",
    "    </figure>\n",
    "  </div>\n",
    "</div>"
   ]
  },
  {
   "cell_type": "markdown",
   "id": "22fb699fda014ff5a04f428bad9b18be",
   "metadata": {
    "slideshow": {
     "slide_type": "subslide"
    },
    "tags": [
     "remove-cell",
     "translated_en"
    ],
    "translation": {
     "lang": "de",
     "src_hash": "3964b635e924973d7f08649bd13719de6c00078b784c02201cd572b1eddf0eb1",
     "updated_at_iso": "2025-08-16T15:09:06.172651+00:00"
    }
   },
   "source": [
    "## Wiederholung: Datentyp\n",
    "\n",
    "<script>setSectionBackground('#FFD966');</script>\n",
    "\n",
    "<div class=\"flex-row\">\n",
    "  <div class=\"col2\">\n",
    "\n",
    "The data type specifies what kind of data it describes (data contract) and which operations can be performed on it.\n",
    " \n",
    "  </div>\n",
    "  <div class=\"col4\"> \n",
    "    <figure class=\"mj-fig\">\n",
    "        <img src=\"images/03a_Operatoren/datentypen.svg\" class=\"mj-fig-img\">\n",
    "    </figure>\n",
    "  </div>\n",
    "</div>"
   ]
  },
  {
   "cell_type": "markdown",
   "id": "81b93c8a891847a0a39056e98cc391cf",
   "metadata": {
    "slideshow": {
     "slide_type": "subslide"
    },
    "tags": [
     "remove-cell",
     "translated_en"
    ],
    "translation": {
     "lang": "de",
     "src_hash": "862816d18d513f0cb531b9ae450ef499c78df69fe9d67cd616d6232657b102fe",
     "updated_at_iso": "2025-08-16T15:09:13.934286+00:00"
    }
   },
   "source": [
    "## Review: In-class Question\n",
    "\n",
    "<script>setSectionBackground('#FFD966');</script>\n",
    "<div class=\"flex-row\">\n",
    "  <div class=\"col4 vcent\">\n",
    "\n",
    "What data types are there in Python?\n",
    "\n",
    "  </div>\n",
    "  <div class=\"col6\"> \n",
    "    <figure class=\"mj-fig\">\n",
    "        <img src=\"images/03a_Operatoren/mj_python.png\" class=\"mj-fig-img\">\n",
    "        <figcaption class=\"mj-fig-cap\">\n",
    "            Midjourney: A python programming a robot\n",
    "        </figcaption>\n",
    "    </figure>\n",
    "  </div>\n",
    "</div>"
   ]
  },
  {
   "cell_type": "markdown",
   "id": "a09c7365be1945d08f4a624fc031ae47",
   "metadata": {
    "slideshow": {
     "slide_type": "subslide"
    },
    "tags": [
     "remove-cell",
     "translated_en"
    ],
    "translation": {
     "lang": "de",
     "src_hash": "2ea3e0472c613b78006363d20e5d39ae5410f24eab6f39c1220754e562de8734",
     "updated_at_iso": "2025-08-16T15:09:18.892731+00:00"
    }
   },
   "source": [
    "## Recap: Data Types - Python\n",
    "\n",
    "<script>setSectionBackground('#FFD966');</script>\n",
    "\n",
    "<div class=\"flex-row\">\n",
    "  <div class=\"col2\">\n",
    "\n",
    "Python simplifies some data types.\n",
    " \n",
    "  </div>\n",
    "  <div class=\"col4\"> \n",
    "    <figure class=\"mj-fig\">\n",
    "        <img src=\"images/03a_Operatoren/datentypen_python.svg\" class=\"mj-fig-img\">\n",
    "    </figure>\n",
    "  </div>\n",
    "</div>"
   ]
  },
  {
   "cell_type": "markdown",
   "id": "580bdee905474c4291d4b84b1b70f562",
   "metadata": {
    "slideshow": {
     "slide_type": "slide"
    },
    "tags": [
     "remove-cell",
     "translated_en"
    ],
    "translation": {
     "lang": "de",
     "src_hash": "713bea4d88df0c1dabd9f1a7de5f9dfbde9e125a22daa59f11ec200a910d49ec",
     "updated_at_iso": "2025-08-16T15:09:23.417963+00:00"
    }
   },
   "source": [
    "## Process\n",
    "\n",
    "![](images/partA_4.svg)"
   ]
  },
  {
   "cell_type": "markdown",
   "id": "a496a406b003498daf93e712f16cccff",
   "metadata": {
    "editable": true,
    "slideshow": {
     "slide_type": "slide"
    },
    "tags": [
     "translated_en"
    ],
    "translation": {
     "lang": "de",
     "src_hash": "eabd8bd8a57a0dc359ac4baaf9b57266f7ecdd9611112a71c4e3dfb716b3ca8c",
     "updated_at_iso": "2025-08-16T15:09:26.650917+00:00"
    }
   },
   "source": [
    "## Instructions"
   ]
  },
  {
   "cell_type": "markdown",
   "id": "249e9b818ef74e9f92f32918366db50d",
   "metadata": {
    "editable": true,
    "slideshow": {
     "slide_type": ""
    },
    "tags": [
     "remove-cell",
     "translated_en"
    ],
    "translation": {
     "lang": "de",
     "src_hash": "38759d8e1cb2024de988b00d26eea9950b50977f6c26a84d7e65bd5a3cca92be",
     "updated_at_iso": "2025-08-16T15:09:38.821422+00:00"
    }
   },
   "source": [
    "-   <div class=\"alert alert-block alert-success\">\n",
    "    <b>📘 Definition: Statement</b>\n",
    "\n",
    "    A statement is a single instruction formulated in the syntax of a programming language that is executed sequentially in the program.\n",
    "    </div>\n",
    "\n",
    "-   <div class=\"alert alert-block alert-success\">\n",
    "    <b>📘 Definition: Expressions</b>\n",
    "\n",
    "    A special form of statements are expressions, which always return a value and thus have a data type.\n",
    "    </div>\n",
    "\n",
    "\n",
    "-   <div class=\"alert alert-block alert-success\">\n",
    "    <b>📘 Definition: Operator</b>\n",
    "\n",
    "    An operator is a part of expressions and is a symbol or keyword that tells the compiler or interpreter to perform a specific operation on values.\n",
    "    </div>\n",
    "\n",
    "- Example: In a simple variable assignment, the expression appears to the right of the assignment operator `=`.\n",
    "\n",
    "    ```python\n",
    "    VariableName = Expression\n",
    "    ```"
   ]
  },
  {
   "cell_type": "markdown",
   "id": "0b69e06fed904a95bc694111776814f4",
   "metadata": {
    "editable": true,
    "slideshow": {
     "slide_type": "skip"
    },
    "tags": [
     "translated_en"
    ],
    "translation": {
     "lang": "de",
     "src_hash": "b07cad2024f33fa245f2270bae058faed763bbc6c03e71efefc6c15c9f002fdd",
     "updated_at_iso": "2025-08-16T15:09:54.685061+00:00"
    }
   },
   "source": [
    "In programming, code is written that has a formal syntax and semantics. This code is formally subdivided into:\n",
    "\n",
    "<div class=\"alert alert-block alert-success\">\n",
    "<b>📘 Definition: Statement</b>\n",
    "\n",
    "A statement (English: statement) is a single directive formulated in the syntax of a programming language that is to be executed sequentially in the program.\n",
    "</div>\n",
    "\n",
    "<div class=\"alert alert-block alert-success\">\n",
    "<b>📘 Definition: Expressions</b>\n",
    "\n",
    "An expression (English: expression) is a special form of a statement that always returns a value and thus has a data type.\n",
    "</div>\n",
    "\n",
    "\n",
    "<div class=\"alert alert-block alert-success\">\n",
    "<b>📘 Definition: Operator</b>\n",
    "\n",
    "An operator is a part of expressions and is a symbol or keyword that tells the compiler or interpreter to perform a specific operation on values.\n",
    "</div>\n",
    "\n",
    "In a simple variable assignment, for example, the expression appears on the right-hand side of the assignment operator and the variable name on the left-hand side, for example:\n",
    "\n",
    "```python\n",
    "VariableName = Expression\n",
    "```"
   ]
  },
  {
   "cell_type": "markdown",
   "id": "a065c4b9594041feaf8cf0552412dd7c",
   "metadata": {
    "editable": true,
    "slideshow": {
     "slide_type": "slide"
    },
    "tags": [
     "translated_en"
    ],
    "translation": {
     "lang": "de",
     "src_hash": "97975dbed3e679870a166f2158eba1f8ae9c52ea9911074bb1bbf7cda8133af8",
     "updated_at_iso": "2025-08-16T15:09:56.019680+00:00"
    }
   },
   "source": [
    "## Arithmetic Operators"
   ]
  },
  {
   "cell_type": "markdown",
   "id": "a6b782d36755458c8f35187d5b75ab17",
   "metadata": {
    "editable": true,
    "slideshow": {
     "slide_type": ""
    },
    "tags": [
     "translated_en"
    ],
    "translation": {
     "lang": "de",
     "src_hash": "190f4e9e4127c5876627bbcf103e6f886186f0097d69a4dd1ba743475c45e3ff",
     "updated_at_iso": "2025-08-16T15:10:00.118010+00:00"
    }
   },
   "source": [
    "Arithmetic operators perform the standard mathematical operations. They are used with numeric values to perform general mathematical operations."
   ]
  },
  {
   "cell_type": "markdown",
   "id": "53bf1e1583c846239d5168d09974a64d",
   "metadata": {
    "editable": true,
    "slideshow": {
     "slide_type": ""
    },
    "tags": [
     "translated_en"
    ],
    "translation": {
     "lang": "de",
     "src_hash": "ecdf412b9c3b11af903af229ca97813eeee6d379ccdd251f422e9c458208af32",
     "updated_at_iso": "2025-08-16T15:10:05.621100+00:00"
    }
   },
   "source": [
    "| Operator | Example | Effect |\n",
    "| --------- | --------- | ------- |\n",
    "| Addition | `x + y` | `10 + 3` (Result: 13) |\n",
    "| Subtraction | `x - y` | `10 - 3` (Result: 7) |\n",
    "| Multiplication | `x * y` | `10 * 3` (Result: 30) |\n",
    "| Division | `x / y` | `10 / 3` (Result: 3.33) |\n",
    "| Integer Division | `x // y` | `10 // 3` (Result: 3) |\n",
    "| Modulo Operator | `x % y` | `10 % 3` (Result: 1) |\n",
    "| Exponentiation | `x ** y` | `10 ** 3` (Result: 1000) |"
   ]
  },
  {
   "cell_type": "markdown",
   "id": "7ddc1de11cee4126b31cb6cccfb2dce6",
   "metadata": {
    "editable": true,
    "slideshow": {
     "slide_type": "subslide"
    },
    "tags": [
     "translated_en"
    ],
    "translation": {
     "lang": "de",
     "src_hash": "82b22a612d4221cc9eb471aa1635df8fc1379f45a8eaf89ab8d312c9486128c1",
     "updated_at_iso": "2025-08-16T15:10:10.113753+00:00"
    }
   },
   "source": [
    "## Assignment Operators\n",
    "\n",
    "Assignment operators assign values to variables. Python uses augmented assignment for all arithmetic operations; however, there is no increment or decrement like in other languages."
   ]
  },
  {
   "cell_type": "markdown",
   "id": "3ca7152d3d12467b9c472867143344b6",
   "metadata": {
    "editable": true,
    "slideshow": {
     "slide_type": "skip"
    },
    "tags": [
     "translated_en"
    ],
    "translation": {
     "lang": "de",
     "src_hash": "cb4f04bf3fad1c0310e63457b213b1d405e2a68a5054851a2caee43fbbca0a1b",
     "updated_at_iso": "2025-08-16T15:10:16.074242+00:00"
    }
   },
   "source": [
    "With the assignment `x = y`, the value of the variable `y` (right-hand side) is assigned to the variable `x` (left-hand side). With short-hand (compound) assignments, an operation is performed on the value of a variable, and this new value is assigned back to the variable."
   ]
  },
  {
   "cell_type": "markdown",
   "id": "8266d01e0ab243138861a42c833d8071",
   "metadata": {
    "editable": true,
    "slideshow": {
     "slide_type": ""
    },
    "tags": [
     "translated_en"
    ],
    "translation": {
     "lang": "de",
     "src_hash": "a5c34b758a19e8af8057839689b6f0b0a82b07b1e7e36ca599bd15d43981459b",
     "updated_at_iso": "2025-08-16T15:10:29.101541+00:00"
    }
   },
   "source": [
    "| Operator | Example | Effect |\n",
    "| --------- | --------- | ------- |\n",
    "| Assignment | `x = y` | Variable `x` receives the value `y` |\n",
    "| Augmented addition | `x += 4` | `x = x + 4` # Variable `x` is increased by 4 |\n",
    "| Augmented multiplication | `x *= 4` | `x = x * 4` # Variable `x` is multiplied by 4 |\n",
    "| Augmented division | `x /= 4` | `x = x / 4` # Variable `x` is divided by 4 |\n",
    "| Augmented floor division | `x //= 4` | `x = x // 4` # Variable `x` is floor-divided by 4 |\n",
    "| Augmented modulo | `x %= 4` | `x = x % 4` # The remainder of dividing variable `x` by 4 |"
   ]
  },
  {
   "cell_type": "markdown",
   "id": "e16e78ac74934fb18ba7718ab9b9af2e",
   "metadata": {
    "editable": true,
    "slideshow": {
     "slide_type": "skip"
    },
    "tags": [
     "translated_en"
    ],
    "translation": {
     "lang": "de",
     "src_hash": "01e3f1e62f2d6a9686e289d493d1d7bb7cf2d9bb8fea03712db70537fc25eb27",
     "updated_at_iso": "2025-08-16T15:10:32.052181+00:00"
    }
   },
   "source": [
    "## Use of Assignment and Arithmetic Operators"
   ]
  },
  {
   "cell_type": "markdown",
   "id": "fe8f7031813448f4aa15eaeeda0a3479",
   "metadata": {
    "editable": true,
    "slideshow": {
     "slide_type": "skip"
    },
    "tags": [
     "translated_en"
    ],
    "translation": {
     "lang": "de",
     "src_hash": "d4a8ba677a9a4c6dd25c93ee295e16f711b0419baaa74939683046e545c210a4",
     "updated_at_iso": "2025-08-16T15:10:35.878915+00:00"
    }
   },
   "source": [
    "Operators are used in programming languages to combine two or more values or variables. The arithmetic operators `*, -, *, /` from mathematics are also available in Python."
   ]
  },
  {
   "cell_type": "code",
   "execution_count": null,
   "id": "14b2983d536142d5bad98142b858bb00",
   "metadata": {
    "slideshow": {
     "slide_type": "skip"
    },
    "tags": [
     "translated_en"
    ],
    "translation": {
     "lang": "de",
     "src_hash": "b768399693ab2137492b0b8d41d0dfb8487280bdbfa283870f583da54d825069",
     "updated_at_iso": "2025-08-16T15:10:37.531741+00:00"
    }
   },
   "outputs": [],
   "source": [
    "a = 1 + 1\n",
    "print(a)"
   ]
  },
  {
   "cell_type": "markdown",
   "id": "9c33d90731da4f73b55ffc2028714b18",
   "metadata": {
    "slideshow": {
     "slide_type": "skip"
    },
    "tags": [
     "translated_en"
    ],
    "translation": {
     "lang": "de",
     "src_hash": "f55d5302faa18454aa030444ee6609b4fad5200124bbd23061c073d09752080e",
     "updated_at_iso": "2025-08-16T15:10:41.350833+00:00"
    }
   },
   "source": [
    "The operations work just as well with variables or mixed."
   ]
  },
  {
   "cell_type": "code",
   "execution_count": null,
   "id": "90d548f95e9a40d39c69df76d802aeeb",
   "metadata": {
    "slideshow": {
     "slide_type": "skip"
    },
    "tags": [
     "translated_en"
    ],
    "translation": {
     "lang": "de",
     "src_hash": "425c7d8025d6b42f8046c4d822990a35ed2ca639469dd027e1e168ab9ab17915",
     "updated_at_iso": "2025-08-16T15:10:43.504191+00:00"
    }
   },
   "outputs": [],
   "source": [
    "a = a + 1\n",
    "print(a)"
   ]
  },
  {
   "cell_type": "markdown",
   "id": "c4e9865f09154feba12259e05e34f84b",
   "metadata": {
    "slideshow": {
     "slide_type": "skip"
    },
    "tags": [
     "translated_en"
    ],
    "translation": {
     "lang": "de",
     "src_hash": "a2d70b9ddcf27ee62389dc1ecd81b243b6791dd8dfced0e63379ea4766cd2965",
     "updated_at_iso": "2025-08-16T15:10:50.774432+00:00"
    }
   },
   "source": [
    "In this example, the first input variable `a` is identical to the result variable. In this case, Python also offers the shorthand where the operator precedes the assignment operator `=`."
   ]
  },
  {
   "cell_type": "code",
   "execution_count": null,
   "id": "e88742a0a05345458c8745a5aa727537",
   "metadata": {
    "slideshow": {
     "slide_type": "skip"
    },
    "tags": [
     "translated_en"
    ],
    "translation": {
     "lang": "de",
     "src_hash": "25836393f868e233bdaa24a31b8cedab711af8a2b6097b2a25fa9ca78a492cbe",
     "updated_at_iso": "2025-08-16T15:10:54.462335+00:00"
    }
   },
   "outputs": [],
   "source": [
    "a += 1\n",
    "print(a)"
   ]
  },
  {
   "cell_type": "code",
   "execution_count": null,
   "id": "dcb1333ed4634034b2157e666921285b",
   "metadata": {
    "slideshow": {
     "slide_type": "skip"
    },
    "tags": [
     "translated_en"
    ],
    "translation": {
     "lang": "de",
     "src_hash": "3b288572bbb969234aae49db417316b4069e5de5fed2fb73cde31fad4e825b84",
     "updated_at_iso": "2025-08-16T15:10:56.161686+00:00"
    }
   },
   "outputs": [],
   "source": [
    "a *= 2\n",
    "print(a)"
   ]
  },
  {
   "cell_type": "markdown",
   "id": "a3c05355183d448e927b1dfe3c0d4c21",
   "metadata": {
    "slideshow": {
     "slide_type": "skip"
    },
    "tags": [
     "translated_en"
    ],
    "translation": {
     "lang": "de",
     "src_hash": "d437f079b925084774c012429cbaf815171cac49bfdad83e262ffd33492a9de2",
     "updated_at_iso": "2025-08-16T15:11:01.525266+00:00"
    }
   },
   "source": [
    "Here, parentheses also determine the order of operations, just as in mathematics, and can affect the result. Thus, are the following two expressions not identical:"
   ]
  },
  {
   "cell_type": "code",
   "execution_count": null,
   "id": "35a685b7791341c99f4fa8375db9eb0d",
   "metadata": {
    "slideshow": {
     "slide_type": "skip"
    },
    "tags": [
     "translated_en"
    ],
    "translation": {
     "lang": "de",
     "src_hash": "c15a79ff3f3f4c81bf262c431b5f41db38165b46fc66c21d761a0eb6dd90b021",
     "updated_at_iso": "2025-08-16T15:11:04.050461+00:00"
    }
   },
   "outputs": [],
   "source": [
    "c1 = (6 + a) * (-2)\n",
    "print(c1)"
   ]
  },
  {
   "cell_type": "code",
   "execution_count": null,
   "id": "e9e19b737c6741d28939da7714a82bf9",
   "metadata": {
    "editable": true,
    "slideshow": {
     "slide_type": "skip"
    },
    "tags": [
     "translated_en"
    ],
    "translation": {
     "lang": "de",
     "src_hash": "84fdca45ebff2c05113cc9746f9ec87813a5abe5d20410271af275037a7adb25",
     "updated_at_iso": "2025-08-16T15:11:06.326128+00:00"
    }
   },
   "outputs": [],
   "source": [
    "c2 = 6 + a * -2\n",
    "print(c2)"
   ]
  },
  {
   "cell_type": "markdown",
   "id": "1c604edfaa234c7ebd44bbcd621ca391",
   "metadata": {
    "editable": true,
    "slideshow": {
     "slide_type": "subslide"
    },
    "tags": [
     "translated_en"
    ],
    "translation": {
     "lang": "de",
     "src_hash": "8524b6f274b47e8d54000dbfe6b2b48798e8109ab0265c87880845b21c5323ce",
     "updated_at_iso": "2025-08-16T15:11:10.243455+00:00"
    }
   },
   "source": [
    "## Comparison Operators\n",
    "\n",
    "Comparison operators compare two values and return true or false as a result. For example, `a == b` tests whether `a` is equal to `b`, and returns true or false accordingly, while `a != b` tests whether `a` is not equal to `b`."
   ]
  },
  {
   "cell_type": "markdown",
   "id": "8cd778e2aa1741b98b4beb9c9ec0bbef",
   "metadata": {
    "slideshow": {
     "slide_type": "skip"
    },
    "tags": [
     "translated_en"
    ],
    "translation": {
     "lang": "de",
     "src_hash": "af7d0cedb0b4a392e104fd3024ff7dc6b4977089b790ebcdafed88c2f7d1440e",
     "updated_at_iso": "2025-08-16T15:11:17.376479+00:00"
    }
   },
   "source": [
    "Comparison operators compare two variables/values, and the result is evaluated as true or false.\n",
    "\n",
    "With the assignment `x = y`, the value of the variable `y` (right-hand side) is assigned to the variable `x` (left-hand side). For shorthand/compound assignments, an operation is performed on the value of a variable, and this new value is reassigned to the variable."
   ]
  },
  {
   "cell_type": "markdown",
   "id": "07597f8437a44b709e3e014858588702",
   "metadata": {
    "editable": true,
    "slideshow": {
     "slide_type": ""
    },
    "tags": [
     "translated_en"
    ],
    "translation": {
     "lang": "de",
     "src_hash": "12d2ce947490bbc3a5b762fa4bc9150e750249ba570918fbbba01d83b18d7254",
     "updated_at_iso": "2025-08-16T15:11:25.691015+00:00"
    }
   },
   "source": [
    "| Operator | Example | Effect |\n",
    "| -------- | --------- | ------ |\n",
    "| Equals | `x == y` | true if `x` is equal to `y` |\n",
    "| Not equal | `x != y` | true if `x` is not equal to `y` |\n",
    "| Greater than | `x > y` | true if `x` is greater than `y` |\n",
    "| Less than | `x < y` | true if `x` is less than `y` |\n",
    "| Greater than or equal to | `x >= y` | true if `x` is greater than or equal to `y` |\n",
    "| Less than or equal to | `x <= y` | true if `x` is less than or equal to `y` |"
   ]
  },
  {
   "cell_type": "markdown",
   "id": "26fb51e6819543d09a758993d52e99cd",
   "metadata": {
    "editable": true,
    "jp-MarkdownHeadingCollapsed": true,
    "slideshow": {
     "slide_type": "subslide"
    },
    "tags": [
     "hide-cell",
     "translated_en"
    ],
    "translation": {
     "lang": "de",
     "src_hash": "6684e8573e116087b8cc02cb7e5a7efdfa8801e6919da2ae8c68f4291824051e",
     "updated_at_iso": "2025-08-16T15:11:35.281177+00:00"
    }
   },
   "source": [
    "## Identity Operators\n",
    "\n",
    "Identity operators compare objects. For example, if `x = [1, 2, 3]` holds, i.e., `x` is a list, then `type(x) is list` evaluates to true, and `type(x) is not list` is false. They check whether two objects refer to the same memory location. `x is y` returns true when both variables refer to the same object, i.e., point to the same memory location. \n",
    "\n",
    "| Operator | Example | Effect |\n",
    "| --------- | --------- | ------- |\n",
    "| Is | `x is y` | true if both variables refer to the same object. |\n",
    "| Is not | `x is not y` | true if the variables do not refer to the same object. |"
   ]
  },
  {
   "cell_type": "markdown",
   "id": "f365e451f142454d964356dc267ca21f",
   "metadata": {
    "editable": true,
    "slideshow": {
     "slide_type": "slide"
    },
    "tags": [
     "remove-cell",
     "translated_en"
    ],
    "translation": {
     "lang": "de",
     "src_hash": "e4d0b26d6fcf3fe48e0a226ecc6351340d7e6dd34d45bb7112faaf9f5d4cbf3f",
     "updated_at_iso": "2025-08-16T15:11:41.474996+00:00"
    }
   },
   "source": [
    "## Lecture hall question\n",
    "\n",
    "<script>setSectionBackground('#FFD966');</script>\n",
    "<div class=\"flex-row\">\n",
    "  <div style=\"float: left; width: 40%; text-align: center;\">\n",
    "\n",
    "What outcomes do you get for each logical operation?\n",
    "\n",
    "(Corresponds to propositional logic)\n",
    "\n",
    "  </div>\n",
    "  <div style=\"float: right; width: 60%;\"> \n",
    "    <figure class=\"mj-fig\">\n",
    "        <img src=\"images/03a_Operatoren/logic0.svg\" class=\"mj-fig-img\">\n",
    "        <figcaption class=\"mj-fig-cap\">\n",
    "            Logical operations\n",
    "        </figcaption>\n",
    "    </figure>\n",
    "  </div>\n",
    "</div>"
   ]
  },
  {
   "cell_type": "markdown",
   "id": "4ae78c3dfff243a8acb8539a2974d26a",
   "metadata": {
    "editable": true,
    "slideshow": {
     "slide_type": "subslide"
    },
    "tags": [
     "remove-cell",
     "translated_en"
    ],
    "translation": {
     "lang": "de",
     "src_hash": "fa7ca0573b6e116824e99d58b0253cc8b8f39a0df10d1b50d651234ebf7beeed",
     "updated_at_iso": "2025-08-16T15:11:48.110866+00:00"
    }
   },
   "source": [
    "## Lecture Hall Question\n",
    "\n",
    "<script>setSectionBackground('#FFD966');</script>\n",
    "<div class=\"flex-row\">\n",
    "  <div style=\"float: left; width: 40%; text-align: center;\">\n",
    "\n",
    "What results are there for each logical operation?\n",
    "\n",
    "(Corresponds to propositional logic)\n",
    "\n",
    "  </div>\n",
    "  <div style=\"float: right; width: 60%;\"> \n",
    "    <figure class=\"mj-fig\">\n",
    "        <img src=\"images/03a_Operatoren/logic.svg\" class=\"mj-fig-img\">\n",
    "        <figcaption class=\"mj-fig-cap\">\n",
    "            Logical Operations\n",
    "        </figcaption>\n",
    "    </figure>\n",
    "  </div>\n",
    "</div>"
   ]
  },
  {
   "cell_type": "markdown",
   "id": "8c2318a5f6164c21b66b492b64d76fbe",
   "metadata": {
    "editable": true,
    "slideshow": {
     "slide_type": "slide"
    },
    "tags": [
     "translated_en"
    ],
    "translation": {
     "lang": "de",
     "src_hash": "70e7f7e592ff65215b7918c083f6411998b37f0ef30bfff5c2b6857745417e2f",
     "updated_at_iso": "2025-08-16T15:11:49.619744+00:00"
    }
   },
   "source": [
    "## Logical Operators"
   ]
  },
  {
   "cell_type": "markdown",
   "id": "662061df38d844678755408f3e34db9b",
   "metadata": {
    "editable": true,
    "slideshow": {
     "slide_type": ""
    },
    "tags": [
     "translated_en"
    ],
    "translation": {
     "lang": "de",
     "src_hash": "605944e8c19a517e211623922f4ec5d0a14b50cd1396969aaa2e55378c473e24",
     "updated_at_iso": "2025-08-16T15:11:56.483162+00:00"
    }
   },
   "source": [
    "Logical operators combine boolean expressions, which are then evaluated as true or false. For example, here the variable `is_teenager = (alter > 13) and (alter < 19)` is evaluated as true when the value of the variable alter is equal to 14.\n",
    "\n",
    "`P` and `Q` stand for logical expressions, e.g. `P = (x > 10)` and `Q = (x < 20)`."
   ]
  },
  {
   "cell_type": "markdown",
   "id": "3384f70aba444ced96b44dcf7519f312",
   "metadata": {
    "editable": true,
    "slideshow": {
     "slide_type": ""
    },
    "tags": [
     "translated_en"
    ],
    "translation": {
     "lang": "de",
     "src_hash": "9e8f4136e648bba1c412203675f0eaa9c39293938d3c58db024bc1fac842b0a0",
     "updated_at_iso": "2025-08-16T15:12:04.113067+00:00"
    }
   },
   "source": [
    "| Operator | Example | Effect |\n",
    "| --------- | --------- | ------- |\n",
    "| Logical AND | `P and Q` | Returns true (1) if both expressions `P` and `Q` are true. |\n",
    "| Logical OR | `P or Q` | Returns true (1) if either expression `P` or `Q` is true. |\n",
    "| Logical NOT | `not P` | Negates the expression `P`: true becomes false, false becomes true. |"
   ]
  },
  {
   "cell_type": "markdown",
   "id": "004cfa656c4e418e80fd72c483ebb772",
   "metadata": {
    "editable": true,
    "slideshow": {
     "slide_type": "skip"
    },
    "tags": [
     "translated_en"
    ],
    "translation": {
     "lang": "de",
     "src_hash": "0b8b2d4340ccd0f4138b077ac3182c8b9cbba3d4106b7923a938d4d34c4e39fc",
     "updated_at_iso": "2025-08-16T15:12:06.617368+00:00"
    }
   },
   "source": [
    "### Applications of Comparison and Logical Operators"
   ]
  },
  {
   "cell_type": "markdown",
   "id": "f5f563f979ae433e9743ed2575e40a57",
   "metadata": {
    "editable": true,
    "slideshow": {
     "slide_type": "skip"
    },
    "tags": [
     "translated_en"
    ],
    "translation": {
     "lang": "de",
     "src_hash": "36b61ab7d063a5e245eb38d1ccec50509c7dd01379d3ff22c06cdc9cab0d4896",
     "updated_at_iso": "2025-08-16T15:12:13.229503+00:00"
    }
   },
   "source": [
    "To determine if two variables have equal values, in most programming languages you do not use the equals sign `=`, since it is typically defined there as the assignment operator (and would thus overwrite the first variable). In Python, therefore a double equals sign `==` is used (mathematically for exactly the same). In our example, `c1` is not equal to `c2`, so the following statement is false."
   ]
  },
  {
   "cell_type": "code",
   "execution_count": null,
   "id": "23d53330099348e79fbca0f6be354976",
   "metadata": {
    "slideshow": {
     "slide_type": "skip"
    },
    "tags": [
     "translated_en"
    ],
    "translation": {
     "lang": "de",
     "src_hash": "5a28821299fccfb8c458ac33902591dbb99fd2bb89ba6c11c0a4437a2e7971f5",
     "updated_at_iso": "2025-08-16T15:12:15.353569+00:00"
    }
   },
   "outputs": [],
   "source": [
    "c1 == c2"
   ]
  },
  {
   "cell_type": "markdown",
   "id": "0b7bddaf50ec44439b358c7298c6bacd",
   "metadata": {
    "slideshow": {
     "slide_type": "skip"
    },
    "tags": [
     "translated_en"
    ],
    "translation": {
     "lang": "de",
     "src_hash": "793db326afff2f9a03d51a3fdb3fe26c71ba4e7022370211e2deed6f82c53d37",
     "updated_at_iso": "2025-08-16T15:12:18.138418+00:00"
    }
   },
   "source": [
    "In Python, the `!=` operator is used for inequality."
   ]
  },
  {
   "cell_type": "code",
   "execution_count": null,
   "id": "1e79807a9a6e464ba759c4cecdfa1b34",
   "metadata": {
    "slideshow": {
     "slide_type": "skip"
    },
    "tags": [
     "translated_en"
    ],
    "translation": {
     "lang": "de",
     "src_hash": "ba844c24231cfa29b45906a1758221a32790c8378c00e92ce1c23d2753bb3374",
     "updated_at_iso": "2025-08-16T15:12:20.455001+00:00"
    }
   },
   "outputs": [],
   "source": [
    "c1 != c2"
   ]
  },
  {
   "cell_type": "markdown",
   "id": "ec2c2fa11cc34038a40a3db1d22d9d10",
   "metadata": {
    "slideshow": {
     "slide_type": "skip"
    },
    "tags": [
     "translated_en"
    ],
    "translation": {
     "lang": "de",
     "src_hash": "0eaf34a4f6d948027cb7290c6719c3e41238e76f42719cea3913081118693c2b",
     "updated_at_iso": "2025-08-16T15:12:33.819509+00:00"
    }
   },
   "source": [
    "Also the mathematical operators for less than `<`, less than or equal to `≤`, greater than `<`, and greater than or equal to `≥` are supported."
   ]
  },
  {
   "cell_type": "code",
   "execution_count": null,
   "id": "add6276e72a54821b36382e80b214581",
   "metadata": {
    "slideshow": {
     "slide_type": "skip"
    },
    "tags": [
     "translated_en"
    ],
    "translation": {
     "lang": "de",
     "src_hash": "8c899d17d46285efb90b3516f80795ed337ab47b1b3b0b0dfe90f16acef5d3ef",
     "updated_at_iso": "2025-08-16T15:12:35.708886+00:00"
    }
   },
   "outputs": [],
   "source": [
    "c1 < c2"
   ]
  },
  {
   "cell_type": "code",
   "execution_count": null,
   "id": "f64d02f0d46c48b69855c07693d9b225",
   "metadata": {
    "slideshow": {
     "slide_type": "skip"
    },
    "tags": [
     "translated_en"
    ],
    "translation": {
     "lang": "de",
     "src_hash": "6d50b1cbac521b2484154f8c1fe5d08009ec823006e50948ed283b777212bc83",
     "updated_at_iso": "2025-08-16T15:12:37.702911+00:00"
    }
   },
   "outputs": [],
   "source": [
    "c1 <= c2"
   ]
  },
  {
   "cell_type": "code",
   "execution_count": null,
   "id": "75cd6c8e6a7846db97b6322a9e9a20fc",
   "metadata": {
    "slideshow": {
     "slide_type": "skip"
    },
    "tags": [
     "translated_en"
    ],
    "translation": {
     "lang": "de",
     "src_hash": "27ab3c085aec405d18782c0f324e6051b2df1783911b81809125f40d1d45ce4d",
     "updated_at_iso": "2025-08-16T15:12:41.372067+00:00"
    }
   },
   "outputs": [],
   "source": [
    "c1 > c2"
   ]
  },
  {
   "cell_type": "code",
   "execution_count": null,
   "id": "d0871162f4834e39ab95c1d633edb84b",
   "metadata": {
    "slideshow": {
     "slide_type": "skip"
    },
    "tags": [
     "translated_en"
    ],
    "translation": {
     "lang": "de",
     "src_hash": "3b26058a5fa3f79232e7d7c7b9de7ec030bd2512557b73b69aae127d8812fb6c",
     "updated_at_iso": "2025-08-16T15:12:43.015190+00:00"
    }
   },
   "outputs": [],
   "source": [
    "c1 >= c2"
   ]
  },
  {
   "cell_type": "markdown",
   "id": "5cff32deca5a45dd83ab24ebfcf7b66e",
   "metadata": {
    "slideshow": {
     "slide_type": "skip"
    },
    "tags": [
     "translated_en"
    ],
    "translation": {
     "lang": "de",
     "src_hash": "92f3e381427cf8d179bef842deea3088e0863cc9d00ec0492835ea61afdd184e",
     "updated_at_iso": "2025-08-16T15:12:52.430641+00:00"
    }
   },
   "source": [
    "Boolean (logical) values in Python are not combined using the usual operators for AND `&`, OR `|`, NOT `~`, but are written out as `and`, `or`, `not`. The greater-than-or-equal-to `≥` is, for example, identical to the condition"
   ]
  },
  {
   "cell_type": "code",
   "execution_count": null,
   "id": "ad8a8bc216934f3f827f8036eaccd981",
   "metadata": {
    "editable": true,
    "slideshow": {
     "slide_type": "skip"
    },
    "tags": [
     "translated_en"
    ],
    "translation": {
     "lang": "de",
     "src_hash": "26441ff76d1d904d827096989c1bfc606639465374e9a9efef90c3e7ce2ff71b",
     "updated_at_iso": "2025-08-16T15:12:54.120673+00:00"
    }
   },
   "outputs": [],
   "source": [
    "c1 > c2 or c1 == c2"
   ]
  },
  {
   "cell_type": "markdown",
   "id": "8a78baac663244e09048718c36eafd4c",
   "metadata": {
    "editable": true,
    "slideshow": {
     "slide_type": "subslide"
    },
    "tags": [
     "translated_en"
    ],
    "translation": {
     "lang": "de",
     "src_hash": "e824bf193bc95fd3aea18d32e378896793f9a2f4e30a8d79374174e77a4427d3",
     "updated_at_iso": "2025-08-16T15:13:07.098158+00:00"
    }
   },
   "source": [
    "## Bitwise Operators\n",
    "\n",
    "Bitwise operators perform bitwise operations on integer operands. In other words, the operands are converted to their binary representations, e.g., `x = 5 = 0101`, `y = 3 = 0011`, and then each bit in operand `x` is combined with the bit at the corresponding position in operand `y`.\n",
    "\n",
    "| Operator | Example | Effect |\n",
    "| --------- | --------- | ------- |\n",
    "| Bitwise AND | `x & y` | The resulting bit is 1 if both bits are 1. |\n",
    "| Bitwise OR | `x | y` | The resulting bit is 1 if at least one of the bits is 1. |\n",
    "| Bitwise XOR (Exclusive OR) | `x ^ y` | The resulting bit is 1 if exactly one of the bits is 1. |\n",
    "| Bitwise NOT | `~x` | Returns the one's complement of `x`. |\n",
    "| Right shift | `x >> n` | The bits in `x` are shifted to the right by `n` positions. |\n",
    "| Left shift | `x << n` | The bits in `x` are shifted to the left by `n` positions. |"
   ]
  },
  {
   "cell_type": "markdown",
   "id": "bb014ab98b854f32b3106b558280be47",
   "metadata": {
    "editable": true,
    "slideshow": {
     "slide_type": "skip"
    },
    "tags": [
     "translated_en"
    ],
    "translation": {
     "lang": "de",
     "src_hash": "848831d6fa9ca996a355c4b34169f673639a1c9de8f455cad4e261d557d9d028",
     "updated_at_iso": "2025-08-16T15:13:17.788653+00:00"
    }
   },
   "source": [
    "The usual logical operators AND `&`, OR `|`, and XOR `^` are reserved for bitwise operations. These are used only very rarely, in certain calculations or for masking."
   ]
  },
  {
   "cell_type": "code",
   "execution_count": null,
   "id": "8446887a7b3b4795a837470a19f6765c",
   "metadata": {
    "slideshow": {
     "slide_type": "skip"
    },
    "tags": [
     "translated_en"
    ],
    "translation": {
     "lang": "de",
     "src_hash": "de87b00c83f6ec6ad48138e6d238c0b7fd4962a827460bbc5d9667d914d42742",
     "updated_at_iso": "2025-08-16T15:13:21.838424+00:00"
    }
   },
   "outputs": [],
   "source": [
    "a = 10  # binary 1010\n",
    "b = 4   # binary 0100"
   ]
  },
  {
   "cell_type": "code",
   "execution_count": null,
   "id": "e0c8295b793b4c95be09e8be442a7041",
   "metadata": {
    "slideshow": {
     "slide_type": "skip"
    },
    "tags": [
     "translated_en"
    ],
    "translation": {
     "lang": "de",
     "src_hash": "444e478a976a08fde037183aba3bc29a18caea0710f14db72f1e9f877fbfc94f",
     "updated_at_iso": "2025-08-16T15:13:25.873658+00:00"
    }
   },
   "outputs": [],
   "source": [
    "c = a & b\n",
    "print(c) # binary 0000"
   ]
  },
  {
   "cell_type": "code",
   "execution_count": null,
   "id": "69d4b1c64be1457ca96295e8b064926d",
   "metadata": {
    "slideshow": {
     "slide_type": "skip"
    },
    "tags": [
     "translated_en"
    ],
    "translation": {
     "lang": "de",
     "src_hash": "1659695bb76a05ea0dbb9f66ba5ef15ea0a39aaa240cae9c99bfd0c0a6188d52",
     "updated_at_iso": "2025-08-16T15:13:29.711246+00:00"
    }
   },
   "outputs": [],
   "source": [
    "c = a | b\n",
    "print(c) # binary 1110"
   ]
  },
  {
   "cell_type": "markdown",
   "id": "e9e7ed0b027f4480a08ba4a61b666466",
   "metadata": {
    "slideshow": {
     "slide_type": "skip"
    },
    "tags": [
     "translated_en"
    ],
    "translation": {
     "lang": "de",
     "src_hash": "acd5d29e9bbd68b9165076629ffd4ca5e6e57ed20d1eed121043400442220f63",
     "updated_at_iso": "2025-08-16T15:13:39.967724+00:00"
    }
   },
   "source": [
    "With the left-shift `<<` and right-shift operators `>>`, very fast calculations can also be performed. For example, multiplying by 4 is a left shift by 2, while dividing by 4 is a right shift by 2. This is used internally by compilers to optimize calculations."
   ]
  },
  {
   "cell_type": "code",
   "execution_count": null,
   "id": "2895e59235fb4939bb526fd664333cd6",
   "metadata": {
    "slideshow": {
     "slide_type": "skip"
    },
    "tags": [
     "translated_en"
    ],
    "translation": {
     "lang": "de",
     "src_hash": "775e7e63dac9ba8b921fc5e898e828e67c0b6cbc311ba5b22031d871f47a516b",
     "updated_at_iso": "2025-08-16T15:13:42.573821+00:00"
    }
   },
   "outputs": [],
   "source": [
    "c = a << 2\n",
    "print(c)"
   ]
  },
  {
   "cell_type": "code",
   "execution_count": null,
   "id": "255299f76ec04a67a77bfbf9b1b23d44",
   "metadata": {
    "slideshow": {
     "slide_type": "skip"
    },
    "tags": [
     "translated_en"
    ],
    "translation": {
     "lang": "de",
     "src_hash": "14d392726d2cbc451a608a4d11582a765cdc9e2b4a92dea7f6e566a08c751075",
     "updated_at_iso": "2025-08-16T15:13:46.212409+00:00"
    }
   },
   "outputs": [],
   "source": [
    "d = c >> 2\n",
    "print(d)"
   ]
  },
  {
   "cell_type": "markdown",
   "id": "62d47b36af554f1c86b4a159b6068252",
   "metadata": {
    "editable": true,
    "slideshow": {
     "slide_type": "skip"
    },
    "tags": [
     "translated_en"
    ],
    "translation": {
     "lang": "de",
     "src_hash": "c3b3225e4e1b5b3b2d16b3c8de832cc61e55a52e1cd9d25da9df3f33db22aede",
     "updated_at_iso": "2025-08-16T15:13:48.113992+00:00"
    }
   },
   "source": [
    "## Operator Overloading"
   ]
  },
  {
   "cell_type": "markdown",
   "id": "0e1d9be43633456fbfb27e7234be01c7",
   "metadata": {
    "editable": true,
    "slideshow": {
     "slide_type": "skip"
    },
    "tags": [
     "translated_en"
    ],
    "translation": {
     "lang": "de",
     "src_hash": "1b53b2f4f9386bab4019466c9bef60137553d01db238b84603f31f467e4ebcf0",
     "updated_at_iso": "2025-08-16T15:13:53.261962+00:00"
    }
   },
   "source": [
    "The arithmetic operators `+` and `-` are in Python *overloaded*, i.e., you can also apply them to non-numeric data types. To concatenate multiple strings, for example you can write:"
   ]
  },
  {
   "cell_type": "code",
   "execution_count": null,
   "id": "448d2aa1f97945569c94c54de94193c1",
   "metadata": {
    "slideshow": {
     "slide_type": "skip"
    },
    "tags": [
     "translated_en"
    ],
    "translation": {
     "lang": "de",
     "src_hash": "3277bc83b892aaab766820e2d0b4f240ace5ebd9fce81381a1f4c8a14e1012f4",
     "updated_at_iso": "2025-08-16T15:13:56.466335+00:00"
    }
   },
   "outputs": [],
   "source": [
    "sentence = \"Der \"+ \"Ball \" + \"ist \" + \"rund.\"\n",
    "print(sentence)"
   ]
  },
  {
   "cell_type": "markdown",
   "id": "88c3b44427b142b79347527e640ced4a",
   "metadata": {
    "slideshow": {
     "slide_type": "skip"
    },
    "tags": [
     "translated_en"
    ],
    "translation": {
     "lang": "de",
     "src_hash": "a539e5991489c392698a0589771e9c018e33e9dc1138e70f97e7827789256781",
     "updated_at_iso": "2025-08-16T15:13:57.872443+00:00"
    }
   },
   "source": [
    "This also works for lists."
   ]
  },
  {
   "cell_type": "code",
   "execution_count": null,
   "id": "05f15a16965f4043b7a5fa0a42a87bff",
   "metadata": {
    "slideshow": {
     "slide_type": "skip"
    },
    "tags": [
     "translated_en"
    ],
    "translation": {
     "lang": "de",
     "src_hash": "f90399ed406f7f159506a1fa04ab85f7aeac1cef31987d176903d7cbe612e2c1",
     "updated_at_iso": "2025-08-16T15:14:02.022312+00:00"
    }
   },
   "outputs": [],
   "source": [
    "list1 = [1,2,3]\n",
    "list2 = [2,3,4]\n",
    "\n",
    "list12 = list1 + list2\n",
    "print(list12)"
   ]
  },
  {
   "cell_type": "markdown",
   "id": "c81bcd02fa5647a4a127ca6ff8c21c66",
   "metadata": {
    "slideshow": {
     "slide_type": "skip"
    },
    "tags": [
     "translated_en"
    ],
    "translation": {
     "lang": "de",
     "src_hash": "bc909a17fc234ab62e5f3bf995b86fed64e451bc36f00f41acc26eef8e4825dd",
     "updated_at_iso": "2025-08-16T15:14:09.961628+00:00"
    }
   },
   "source": [
    "or as set difference."
   ]
  },
  {
   "cell_type": "code",
   "execution_count": null,
   "id": "d16a5ebab2cd43cf81d193b2e2ed344f",
   "metadata": {
    "slideshow": {
     "slide_type": "skip"
    },
    "tags": [
     "translated_en"
    ],
    "translation": {
     "lang": "de",
     "src_hash": "2143cac4edb45de446dc9add2ad7b311066c6fc442e9ff27b02a81a3e110c238",
     "updated_at_iso": "2025-08-16T15:14:13.554482+00:00"
    }
   },
   "outputs": [],
   "source": [
    "set1 = {1, 2, 3}\n",
    "set2 = {2, 3, 4}\n",
    "\n",
    "set12 = set1 - set2\n",
    "print(set12)"
   ]
  },
  {
   "cell_type": "markdown",
   "id": "573c02f0ae684c58ba85e0d16b29f172",
   "metadata": {
    "slideshow": {
     "slide_type": "skip"
    },
    "tags": [
     "translated_en"
    ],
    "translation": {
     "lang": "de",
     "src_hash": "d88d27ac9f187d4ef5ac190b6c57e3c95c0b016f85f6271e380299859d1bf7c2",
     "updated_at_iso": "2025-08-16T15:14:21.897988+00:00"
    }
   },
   "source": [
    "<div class=\"alert alert-block alert-warning\">\n",
    "<b>⚠️ Attention:</b> It should be noted that operators change their semantic meaning depending on which data types are combined. For example, the addition of two strings `str` is formally a `concat` into a new string. For lists, `+` means copying the first list into a new one, which is then expanded with the contents of the next list using `expand`. For both, the subtraction operator `-` is not defined. For a set, `+` is not defined, but `-` is used to determine the difference (set difference).\n",
    "\n",
    "Furthermore, in Python both operands must always have the same data type. As in Java or JavaScript, you cannot combine a string and a number; you must first convert the number to a string (casting).\n",
    "</div>"
   ]
  },
  {
   "cell_type": "code",
   "execution_count": null,
   "id": "0b5ef7477dd0471cb0d4a503f1921dab",
   "metadata": {
    "editable": true,
    "slideshow": {
     "slide_type": "skip"
    },
    "tags": [
     "raises-exception",
     "translated_en"
    ],
    "translation": {
     "lang": "de",
     "src_hash": "5e749e013ced5cbe1ca87caf0fbd6d570c2d0b3f45bd7d0d6c3cb213af0976b6",
     "updated_at_iso": "2025-08-16T15:14:30.114074+00:00"
    }
   },
   "outputs": [],
   "source": [
    "\"Der Wert ist \" + 1  # doesn't work"
   ]
  },
  {
   "cell_type": "code",
   "execution_count": null,
   "id": "d81e3a00ddd6459ab8887660a2ef0fe6",
   "metadata": {
    "slideshow": {
     "slide_type": "skip"
    },
    "tags": [
     "translated_en"
    ],
    "translation": {
     "lang": "de",
     "src_hash": "47cc6e4a777dcef5b4f450d303e011c6dda7feaa4bece2c222f833e17753d70d",
     "updated_at_iso": "2025-08-16T15:14:35.574334+00:00"
    }
   },
   "outputs": [],
   "source": [
    "\"Der Wert ist \" + str(1)  # works"
   ]
  },
  {
   "cell_type": "markdown",
   "id": "14cd88196a154a3d8ab10f0a2de38901",
   "metadata": {
    "slideshow": {
     "slide_type": "skip"
    },
    "tags": [
     "translated_en"
    ],
    "translation": {
     "lang": "de",
     "src_hash": "c487a69ddbdc7f7b1de7e9ad6b3ba700858928a0f4bdc228c0bb0d17f4f0afff",
     "updated_at_iso": "2025-08-16T15:14:38.407264+00:00"
    }
   },
   "source": [
    "This is because certain statements would otherwise be ambiguous. Here it is unclear whether the result should be a string or a number."
   ]
  },
  {
   "cell_type": "code",
   "execution_count": null,
   "id": "1ade8ca7ea954d53ac930e5a075c870c",
   "metadata": {
    "slideshow": {
     "slide_type": "skip"
    },
    "tags": [
     "raises-exception",
     "translated_en"
    ],
    "translation": {
     "lang": "de",
     "src_hash": "36cbdc5483279f11dd385da693657f23f5dd144e320ffd14fc2958b50d5abcef",
     "updated_at_iso": "2025-08-16T15:14:41.439763+00:00"
    }
   },
   "outputs": [],
   "source": [
    "\"1\" + 1  # does not work"
   ]
  },
  {
   "cell_type": "markdown",
   "id": "76a192acd348446aa4c27c54e4bcab47",
   "metadata": {
    "slideshow": {
     "slide_type": "skip"
    },
    "tags": [
     "translated_en"
    ],
    "translation": {
     "lang": "de",
     "src_hash": "954703d31011a5575ee96a11b3a4477e3b646c5a19036409c5ec5802fb8c7284",
     "updated_at_iso": "2025-08-16T15:14:43.616674+00:00"
    }
   },
   "source": [
    "Casting the values to the correct type makes the statement unambiguous."
   ]
  },
  {
   "cell_type": "code",
   "execution_count": null,
   "id": "f30fc8e59c1645b1a4fab9fb57605634",
   "metadata": {
    "editable": true,
    "slideshow": {
     "slide_type": "skip"
    },
    "tags": [
     "translated_en"
    ],
    "translation": {
     "lang": "de",
     "src_hash": "95b54f670c69155adb4dfeaa9670322fb3713c84c58232115a81f49cceab5723",
     "updated_at_iso": "2025-08-16T15:14:46.313631+00:00"
    }
   },
   "outputs": [],
   "source": [
    "int(\"1\") + 1  # works"
   ]
  },
  {
   "cell_type": "markdown",
   "id": "4e5afe210e054898afbce488e8905a72",
   "metadata": {
    "editable": true,
    "slideshow": {
     "slide_type": "subslide"
    },
    "tags": [
     "hide-cell",
     "translated_en"
    ],
    "translation": {
     "lang": "de",
     "src_hash": "626c6dcc27290626ce5ef5abb2e9264adebf67ff129e6976f85e9a2027513899",
     "updated_at_iso": "2025-08-16T15:14:59.664539+00:00"
    }
   },
   "source": [
    "## Membership operators\n",
    "\n",
    "Membership operators check whether an object is a member of a list, e.g., `4 in [1,2,3]` checks whether 4 is contained in the list.\n",
    "\n",
    "`x` here stands for an arbitrary object, and `list` for a collection."
   ]
  },
  {
   "cell_type": "markdown",
   "id": "a78cfecdb6274bd19702a67804cb9a7b",
   "metadata": {
    "editable": true,
    "slideshow": {
     "slide_type": ""
    },
    "tags": [
     "hide-cell",
     "translated_en"
    ],
    "translation": {
     "lang": "de",
     "src_hash": "a721c283f706bcbbda0670e4db89862f6d3c1418c679b8c3b15cf0ed47a24618",
     "updated_at_iso": "2025-08-16T15:15:04.886357+00:00"
    }
   },
   "source": [
    "| Operator | Example | Effect |\n",
    "| --------- | --------- | ------- |\n",
    "| in | `x in list` | True if x is in the list `list`. |\n",
    "| not in | `x not in list` | True if x is not in the list `list`. |"
   ]
  },
  {
   "cell_type": "markdown",
   "id": "342dea89a45e47c0beafa89f01956ab2",
   "metadata": {
    "editable": true,
    "lines_to_next_cell": 0,
    "slideshow": {
     "slide_type": "skip"
    },
    "tags": [
     "translated_en"
    ],
    "translation": {
     "lang": "de",
     "src_hash": "ed8a7e94290e9fe7d904fa9b255643b3cbbd07bf5c65f03d1c09fb0def7dcd77",
     "updated_at_iso": "2025-08-16T15:15:13.451505+00:00"
    }
   },
   "source": [
    "### Tips for Use\n",
    "\n",
    "Mathematical operators also have a shorthand form that can appear before the assignment operator `=`: e.g., `a += 1` corresponds to `a = a + 1`, and `a *= 2` is equivalent to `a = a*2`."
   ]
  },
  {
   "cell_type": "code",
   "execution_count": null,
   "id": "5df220c522624e2b8f7fce278e03dccc",
   "metadata": {
    "editable": true,
    "slideshow": {
     "slide_type": "skip"
    },
    "tags": [
     "translated_en"
    ],
    "translation": {
     "lang": "de",
     "src_hash": "0d34a7ace2b0f551bfb14ed30b109bc7a2890352679b6aa42e30bfa563069dcc",
     "updated_at_iso": "2025-08-16T15:15:16.817910+00:00"
    }
   },
   "outputs": [],
   "source": [
    "i = 1\n",
    "i *= 2\n",
    "i *= 3\n",
    "i  # 6"
   ]
  },
  {
   "cell_type": "markdown",
   "id": "8d2ea62155d447b49507a0e0caa9ea83",
   "metadata": {
    "editable": true,
    "lines_to_next_cell": 0,
    "slideshow": {
     "slide_type": "skip"
    },
    "tags": [
     "translated_en"
    ],
    "translation": {
     "lang": "de",
     "src_hash": "0da77b0bdbd600f2444d80ecff05cb9a057e8730c23ff75296adbe8f99e6b2bd",
     "updated_at_iso": "2025-08-16T15:15:21.630048+00:00"
    }
   },
   "source": [
    "Logical operations usually work as expected. In particular, `>`, `<`, `>=`, and `<=`. As in many other languages, equality is tested with the double equals sign `==`. Inequality can be tested with `!=`, and the logical negation is `not`:"
   ]
  },
  {
   "cell_type": "code",
   "execution_count": null,
   "id": "a2ef6eee42314d829d2b35689fae472e",
   "metadata": {
    "editable": true,
    "slideshow": {
     "slide_type": "skip"
    },
    "tags": [
     "translated_en"
    ],
    "translation": {
     "lang": "de",
     "src_hash": "93353d46eb44670a5bf77980ad00620a3b8b7cf96701162e1c5b1c833e12aad2",
     "updated_at_iso": "2025-08-16T15:15:24.374283+00:00"
    }
   },
   "outputs": [],
   "source": [
    "a = 1\n",
    "a > 1  # False\n",
    "a >= 1  # True\n",
    "a == 1  # True\n",
    "a != 1  # False\n",
    "not a == 1  # False"
   ]
  },
  {
   "cell_type": "markdown",
   "id": "6ab397c0e40c4ec2b74a36254349c987",
   "metadata": {
    "editable": true,
    "lines_to_next_cell": 0,
    "slideshow": {
     "slide_type": "skip"
    },
    "tags": [
     "translated_en"
    ],
    "translation": {
     "lang": "de",
     "src_hash": "9220dcdbbfacab65756eef1ace4b775f69954f5446c9f86b0546a4397f99e541",
     "updated_at_iso": "2025-08-16T15:15:28.580880+00:00"
    }
   },
   "source": [
    "Python also supports somewhat less common, yet extremely practical reusable comparison operations, for example"
   ]
  },
  {
   "cell_type": "code",
   "execution_count": null,
   "id": "182ad97fbebf4408a74a93d99f83f416",
   "metadata": {
    "editable": true,
    "lines_to_next_cell": 2,
    "slideshow": {
     "slide_type": "skip"
    },
    "tags": [
     "translated_en"
    ],
    "translation": {
     "lang": "de",
     "src_hash": "1c2049f4677125a06286d854c95dbe64ebf5c550f60cdf5c427b6ca487615bf9",
     "updated_at_iso": "2025-08-16T15:15:30.601111+00:00"
    }
   },
   "outputs": [],
   "source": [
    "0 < a < 2  # true"
   ]
  },
  {
   "cell_type": "markdown",
   "id": "1db5f0931de046469249603cc657f956",
   "metadata": {
    "editable": true,
    "slideshow": {
     "slide_type": "skip"
    },
    "tags": [
     "translated_en"
    ],
    "translation": {
     "lang": "de",
     "src_hash": "c9e09430b0b9b488c2d205489becbabca00623d123bf58d24357751e4c89e78e",
     "updated_at_iso": "2025-08-16T15:16:30.723685+00:00"
    }
   },
   "source": [
    "## Quiz\n",
    "\n",
    "```{quizdown}\n",
    "\t---\n",
    "\tshuffleQuestions: true\n",
    "\tshuffleAnswers: true\n",
    "\t---\n",
    "\n",
    "    ### What are Binary Numbers?\n",
    "\n",
    "    > Multiple answers are possible. Binary derives from binarius, which translates to \"twofold\" or \"double.\" This is about numbers.\n",
    "\n",
    "    - [x] The smallest possible (useful) system of symbols\n",
    "    - [x] Possible representations of binary code\n",
    "    - [x] A numeral system that consists only of 1 and 0\n",
    "    - [x] In some programming languages with the truth values \"False\" (0) and \"True\" (1)\n",
    "        > Binary numbers are a numeral system with only the digits 0 and 1 and thus the smallest possible numeral system. In programming languages they are often used as representations of binary code and expressed by the truth values \"False\" (0) and \"True\" (1).\n",
    "\n",
    "    ### What is Binary Code?\n",
    "\n",
    "    > Binary derives from binarius, meaning twofold/double. This is about code.\n",
    "\n",
    "    - [x] A code that can be represented by binary numbers\n",
    "    - [x] A code that can be represented by boolean values (True/False)\n",
    "        > A binary code is a code in which information is represented by sequences of two different symbols (for example 1/0 or True/False).\n",
    "    - [x] Machine code of a computer program\n",
    "    - [ ] A numeral system with 10 symbols (0 to 9)\n",
    "    - [ ] A representation of text in natural language\n",
    "    - [ ] A representation of graphic files\n",
    "\n",
    "    ### What is the AND Operation?\n",
    "\n",
    "    What is the result of the operation for the following input combinations on A and B? <br>\n",
    "\n",
    "    ![AND table](../_images/03a_Operatoren/Logic_AND.svg)\n",
    "\n",
    "    > Translated as the AND operation and behaves like the AND in propositional logic.\n",
    "\n",
    "    1. [x] False (0), False (0) (0), False (0) (0),   True (0)\n",
    "        > The AND operation (AND operation) is a fundamental logical operation in digital electronics and Boolean algebra. The AND operation yields \"1\" (True) as a result when both input signals are \"1.\" Otherwise it yields \"0\" (False).\n",
    "    1. [ ] False (0),   True (0),   True (0),   True (0)\n",
    "    1. [ ] False (0),   True (0),   True (0), False (0)\n",
    "    1. [ ]   True (0),   True (0),   True (0), False (0)\n",
    "\n",
    "    ### What is the OR Operation?\n",
    "\n",
    "    What is the result of the operation for the following input combinations on A and B? <br>\n",
    "\n",
    "    ![OR table](../_images/03a_Operatoren/Logic_OR.svg)\n",
    "\n",
    "    > Translated as the OR operation and behaves like the OR in propositional logic.\n",
    "\n",
    "    1. [ ] False (0), False (0) (0), False (0) (0),   True (0)\n",
    "    1. [x] False (0),   True (0),   True (0),   True (0)\n",
    "        > The OR operation (OR operation) is a fundamental logical operation in Boolean algebra and digital technology.  The OR operation yields the result \"1\" (True) when at least one of the input signals is \"1.\" It yields \"0\" (False) when both input signals are \"0.\"\n",
    "    1. [ ] False (0),   True (0),   True (0), Falsch (0)\n",
    "    1. [ ]   True (0),   True (0),   True (0), Falsch (0)\n",
    "    1. [ ]   True (0), False (0) (0), False (0) (0), False (0)\n",
    "\n",
    "    ### What is the XOR Operation?\n",
    "\n",
    "    What is the result of the operation for the following input combinations on A and B? <br>\n",
    "\n",
    "    ![XOR table](../_images/03a_Operatoren/Logic_XOR.svg)\n",
    "\n",
    "    > Translated as the Exclusive OR operation and corresponds exclusively to the One or the Other in propositional logic.\n",
    "\n",
    "    1. [ ] False (0), False (0) (0), False (0) (0),   True (0)\n",
    "    1. [ ] False (0),   True (0),   True (0),   True (0)\n",
    "    1. [x] False (0),   True (0),   True (0), False (0)\n",
    "        > The XOR operation (Exclusive OR operation) is another fundamental logical operation in Boolean algebra and digital technology. In contrast to the OR operation, which yields True (1) when at least one input signal is True, the XOR operation only yields True when exactly one input signal is True. If both input signals are True or both are False, the XOR operation yields False.\n",
    "    1. [ ]   True (0),   True (0),   True (0), False (0)\n",
    "    1. [ ]   True (0), False (0) (0), False (0) (0), False (0)\n",
    "\n",
    "    ### What is the NOT Operation?\n",
    "\n",
    "    What is the result of the operation for the following input sequence on A? <br>\n",
    "\n",
    "    ![NOT table](../_images/03a_Operatoren/Logic_NOT.svg)\n",
    "\n",
    "    > Translated as the NOT operation and corresponds to negation.\n",
    "\n",
    "    1. [ ] False (0), False (0)\n",
    "    1. [ ] False (0),   True (0)\n",
    "    1. [x]   True (0), False (0)\n",
    "        > The NOT operation (also called \"NOT operation\" or \"inversion operation\") is a fundamental logical operation in Boolean algebra and digital technology.  The NOT operation inverts the state of the input signal. If \"A\" is True (1), then \"NOT A\" is False (0), and if \"A\" is False (0), then \"NOT A\" is True (1).\n",
    "    1. [ ]   True (0),   True (0)\n",
    "\n",
    "    ### What is the NAND Operation?\n",
    "\n",
    "    What is the result of the operation for the following input combinations on A and B? <br>\n",
    "\n",
    "    ![NAND table](../_images/03a_Operatoren/Logic_NAND.svg)\n",
    "\n",
    "    > Corresponds to the negated AND operation.\n",
    "\n",
    "    1. [ ] False (0), False (0) (0), False (0) (0),   True (0)\n",
    "    1. [ ] False (0),   True (0),   True (0),   True (0)\n",
    "    1. [ ] False (0),   True (0),   True (0), False (0)\n",
    "    1. [x]   True (0),   True (0),   True (0), False (0)\n",
    "        > The NAND operation is a fundamental logical operation in Boolean algebra and digital technology. The name \"NAND\" stands for \"NOT AND,\" which indicates that the NAND operation is a combination of the AND operation and the NOT operation and outputs the opposite of the result of the AND operation. The NAND operation yields \"1\" (True), unless both input signals are \"1.\" In that case it yields \"0\" (False).\n",
    "    1. [ ]   True (0), False (0) (0), False (0) (0), False (0)\n",
    "\n",
    "    ### What is the NOR Operation?\n",
    "\n",
    "    What is the result of the operation for the following input combinations on A and B? <br>\n",
    "\n",
    "    ![NOR table](../_images/03a_Operatoren/Logic_NOR.svg)\n",
    "\n",
    "    > Translates to the negated OR operation.\n",
    "\n",
    "    1. [ ] False (0), False (0) (0), False (0) (0),   True (0)\n",
    "    1. [ ] False (0),   True (0),   True (0),   True (0)\n",
    "    1. [ ] False (0),   True (0),   True (0), Falsch (0)\n",
    "    1. [ ]   True (0),   True (0),   True (0), Falsch (0)\n",
    "    1. [x]   True (0), False (0) (0), Falsch (0) (0), Falsch (0)\n",
    "        > The NOR operation is a fundamental logical operation in Boolean algebra and digital technology. The name \"NOR\" stands for \"NOT OR,\" which indicates that the NOR operation is a combination of the OR operation and the NOT operation and is the opposite of the result of the OR operation. The NAND operation yields \"1\" (True), unless both input signals are \"1.\" In this case it yields \"0\" (False).\n",
    "\n",
    "    ### What is the XNOR Operation?\n",
    "\n",
    "    What is the result of the operation for the following input combinations on A and B? <br>\n",
    "\n",
    "    ![XNOR table](../_images/03a_Operatoren/Logic_XNOR.svg)\n",
    "\n",
    "    > Translates to the negated Exclusive OR operation.\n",
    "\n",
    "    1. [ ] False (0), False (0) (0), False (0) (0),   True (0)\n",
    "    1. [ ] False (0),   True (0),   True (0),   True (0)\n",
    "    1. [ ] False (0),   True (0),   True (0), Falsch (0)\n",
    "    1. [ ]   True (0),   True (0),   True (0), Falsch (0)\n",
    "    1. [x]   True (0), False (0) (0), Falsch (0) (0),   True (0)\n",
    "        > The XNOR operation (also known as the equivalence operation) is a logical operation in Boolean algebra and digital technology. The name \"XNOR\" stands for \"NOT XOR\" and indicates that it is a combination of the XOR operation and the NOT operation and yields the opposite of the XOR result. The XNOR operation yields \"1\" (True) when both input signals are the same (either both \"0\" or both \"1\"). It yields \"0\" (False) when the input signals are different (one \"0\" and the other \"1\").\n",
    "\n",
    "    ### How do you combine multiple logical conditions in Python?\n",
    "\n",
    "    - [x] With `AND`, `OR`, `NOT`\n",
    "    - [ ] With `&&`, `||`, `!`\n",
    "    - [ ] With `+`, `-`, `*`\n",
    "    - [ ] With `COMBINE`, `MERGE`, `JOIN`\n",
    "    - [ ] With `IF`, `ELSE`, `THEN`\n",
    "```"
   ]
  },
  {
   "cell_type": "markdown",
   "id": "393effdfd33946e4b187ceef78ef6969",
   "metadata": {
    "slideshow": {
     "slide_type": "slide"
    },
    "tags": [
     "remove-cell",
     "translated_en"
    ],
    "translation": {
     "lang": "de",
     "src_hash": "d2b7467259ef9f52d61ecf9953374631953b152baba6f1edeaac46d4c3d40a0b",
     "updated_at_iso": "2025-08-16T15:16:34.502862+00:00"
    }
   },
   "source": [
    "<div class=\"vslide\">\n",
    "  <div class=\"vslide-title\">\n",
    "    <p style=\"font-family: Protomolecule; font-size: 2.3em; margin: 0px auto; text-align: center; width: 100%;\">Questions?</p>\n",
    "  </div>\n",
    "  <script>setSectionBackground('#000000', 'images/mj_questions.mp4');</script>\n",
    "</div>"
   ]
  }
 ],
 "metadata": {
  "kernelspec": {
   "display_name": "Python 3 (ipykernel)",
   "language": "python",
   "name": "python3"
  },
  "language_info": {
   "codemirror_mode": {
    "name": "ipython",
    "version": 3
   },
   "file_extension": ".py",
   "mimetype": "text/x-python",
   "name": "python",
   "nbconvert_exporter": "python",
   "pygments_lexer": "ipython3",
   "version": "3.12.10"
  },
  "rise": {
   "auto_select": "none",
   "center": false,
   "enable_chalkboard": true,
   "header": "<img src=\"images/pd_logo.svg\" class=\"header_title_logo\"><img src=\"images/ai4sc_logo_v2.svg\" class=\"header_ai4sc_logo\">",
   "scroll": true,
   "show_buttons_on_startup": false,
   "slideNumber": true,
   "theme": "white"
  },
  "vscode": {
   "interpreter": {
    "hash": "c6f6ea9c9385f57658f4c302ffd3b717b6cd59b095fbd1c55795f0b67656eecd"
   }
  }
 },
 "nbformat": 4,
 "nbformat_minor": 4
}
