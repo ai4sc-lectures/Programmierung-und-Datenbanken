{
 "cells": [
  {
   "cell_type": "markdown",
   "id": "903ec45c3621489586ba3a2c72e874a7",
   "metadata": {
    "editable": true,
    "slideshow": {
     "slide_type": "slide"
    },
    "tags": [
     "remove-cell",
     "translated_en"
    ],
    "translation": {
     "lang": "de",
     "src_hash": "87c25c20a8cda02775a5e1b1ab52f7f1425a98b5f66823d1a5c4a19d00f9a68e",
     "updated_at_iso": "2025-08-16T17:22:45.443934+00:00"
    }
   },
   "source": [
    "<div class=\"vslide\">\n",
    "  <div class=\"vslide-title\">\n",
    "    <p style=\"font-family: Protomolecule; font-size: 2.3em; line-height: 90%; margin: 0px auto; text-align: center; width: 100%;\"><span style=\"letter-spacing: .04rem;\">Programming</span><br><span style=\"letter-spacing: .0rem;\">and Databases</span></p>\n",
    "<p class=\"author\" style=\"font-family: Protomolecule; margin: 0px auto;  text-align: center; width: 100%; font-size: 1.2em;\">Joern Ploennigs</p>\n",
    "<p class=\"subtitle\" style=\"font-family: Protomolecule; margin: 1em auto; text-align: center; width: 100%; font-size: 1.2em;\">Database types</p>\n",
    "    <figcaption>Midjourney: Database Tree, ref. Gustav Klimt</figcaption>\n",
    "  </div>\n",
    "<script>\n",
    "  function setSectionBackground(c,v){\n",
    "    let e=document.currentScript.previousElementSibling;\n",
    "    while(e&&e.tagName!=='SECTION')e=e.parentElement;\n",
    "    if(e){\n",
    "      if(c)e.setAttribute('data-background-color',c);\n",
    "      if(v){\n",
    "        e.setAttribute('data-background-video',v);\n",
    "        e.setAttribute('data-background-video-loop','true');\n",
    "        e.setAttribute('data-background-video-muted','true');\n",
    "      }\n",
    "    }\n",
    "  }\n",
    "  setSectionBackground('#000000', 'images/10a_Datenbanktypen/mj_title.mp4');\n",
    "</script>\n",
    "<style>\n",
    ".flex-row{display:flex; gap:2rem; align-items:flex-start; justify-content:space-between;}\n",
    ".flex-row .col1{flex:1; min-width:10px}\n",
    ".flex-row .col2{flex:2; min-width:10px}\n",
    ".flex-row .col3{flex:3; min-width:10px}\n",
    ".flex-row .col4{flex:4; min-width:10px}\n",
    ".flex-row .col5{flex:5; min-width:10px}\n",
    ".flex-row .col6{flex:6; min-width:10px}\n",
    ".flex-row .col7{flex:7; min-width:10px}\n",
    ".vcent{display:flex; align-items:center; justify-content:center}\n",
    "</style>\n",
    "</div>"
   ]
  },
  {
   "cell_type": "markdown",
   "id": "b397c229426b4b8cabda0b867c8c7a74",
   "metadata": {
    "editable": true,
    "slideshow": {
     "slide_type": "skip"
    },
    "tags": [
     "translated_en"
    ],
    "translation": {
     "lang": "de",
     "src_hash": "26ecc22098339a5a4bfa7c33f393f7f92c67efefcbbafbf3f1267922cd67a416",
     "updated_at_iso": "2025-08-16T17:22:47.218611+00:00"
    }
   },
   "source": [
    "# Database types"
   ]
  },
  {
   "cell_type": "markdown",
   "id": "e3757727a45241c1a10768c0faf5b3cf",
   "metadata": {
    "editable": true,
    "slideshow": {
     "slide_type": "skip"
    },
    "tags": [
     "translated_en"
    ],
    "translation": {
     "lang": "de",
     "src_hash": "057db2f195aa9e971e189411b53bdc8304f5d5d6c82dcbe23967b3ab96f55e9d",
     "updated_at_iso": "2025-08-16T17:22:52.672436+00:00"
    }
   },
   "source": [
    "<figure class=\"mj-tile-band\">\n",
    "    <img src='images/10a_Datenbanktypen/mj_title_band.jpg'>\n",
    "    <figcaption>Midjourney: Database Tree, ref. Gustav Klimt</figcaption>\n",
    "</figure>\n",
    "\n",
    "> Eventually, you have to throw the data over a wall.\n",
    ">\n",
    "> — Pat Helland"
   ]
  },
  {
   "cell_type": "markdown",
   "id": "1972751ed65c4f0ca04436fc931e5167",
   "metadata": {
    "editable": true,
    "slideshow": {
     "slide_type": "skip"
    },
    "tags": [
     "translated_en"
    ],
    "translation": {
     "lang": "de",
     "src_hash": "8e539f5cb63153e39259b7111ee38270dcd45d762b4937e2f9dbe0a08704ced5",
     "updated_at_iso": "2025-08-16T17:23:00.030826+00:00"
    }
   },
   "source": [
    "## <a href=\"../lec_slides/10a_Datenbanktypen.slides.html\">Slides</a>/<a href=\"../pdf/slides/10a_Datenbanktypen.pdf\">PDF</a>\n",
    "<iframe src=\"../lec_slides/10a_Datenbanktypen.slides.html\" width=\"750\" height=\"500\"></iframe>"
   ]
  },
  {
   "cell_type": "markdown",
   "id": "4010bd7e08244d1b8e577e256212e89d",
   "metadata": {
    "editable": true,
    "slideshow": {
     "slide_type": "subslide"
    },
    "tags": [
     "remove-cell",
     "translated_en"
    ],
    "translation": {
     "lang": "de",
     "src_hash": "7fa84cb826d78841c614f118e88f96de969ff50f8b1e2d346e47023ce51a640a",
     "updated_at_iso": "2025-08-16T17:23:06.293168+00:00"
    }
   },
   "source": [
    "## Recap: Lecture Hall Question\n",
    "\n",
    "<script>setSectionBackground('#FFD966');</script>\n",
    "<div class=\"flex-row\">\n",
    "  <div class=\"col4 vcent\">\n",
    "\n",
    "What are inheritance, generalization, encapsulation, and polymorphism?\n",
    " \n",
    "  </div>\n",
    "  <div class=\"col6\"> \n",
    "    <figure class=\"mj-fig\">\n",
    "        <img src=\"images/10a_Datenbanktypen/mj_object.png\" class=\"mj-fig-img\">\n",
    "        <figcaption class=\"mj-fig-cap\">\n",
    "            Midjourney: Object oriented man\n",
    "        </figcaption>\n",
    "    </figure>\n",
    "  </div>\n",
    "</div>"
   ]
  },
  {
   "cell_type": "markdown",
   "id": "4638be3ca5e54a0b8e32fcd7e20648ef",
   "metadata": {
    "editable": true,
    "slideshow": {
     "slide_type": "subslide"
    },
    "tags": [
     "remove-cell",
     "translated_en"
    ],
    "translation": {
     "lang": "de",
     "src_hash": "d95856e5180530e2fc76603ed034515dcdb3fe449fcaebfbd6fd8b77e9a960d8",
     "updated_at_iso": "2025-08-16T17:23:14.432050+00:00"
    }
   },
   "source": [
    "## Recap: Object Properties\n",
    "\n",
    "<script>setSectionBackground('#FFD966');</script>\n",
    "\n",
    "| Inheritance | Generalization | Polymorphism | Encapsulation |\n",
    "|--|--|-|--|\n",
    "| Attributes and methods of parent classes are inherited by child classes. This helps avoid redundancies and errors. | Commonalities are implemented in generalized parent classes | Child classes can override methods and thus redefine them. | Encapsulation of data and methods in objects is a protective mechanism to limit faulty changes.  |"
   ]
  },
  {
   "cell_type": "markdown",
   "id": "f20c9dada8504b1fb3d0f67cc10b4dff",
   "metadata": {
    "editable": true,
    "slideshow": {
     "slide_type": "subslide"
    },
    "tags": [
     "remove-cell",
     "translated_en"
    ],
    "translation": {
     "lang": "de",
     "src_hash": "4ed081a94067f273fae5b0f0e0f96b6bb5034f03f6cc4f27d77d8b10fbd248a0",
     "updated_at_iso": "2025-08-16T17:23:22.408135+00:00"
    }
   },
   "source": [
    "## Recap: In-Class Question\n",
    "\n",
    "<script>setSectionBackground('#FFD966');</script>\n",
    "<div class=\"flex-row\">\n",
    "  <div class=\"col4 vcent\">\n",
    "\n",
    "What is the Waterfall Method?\n",
    " \n",
    "  </div>\n",
    "  <div class=\"col6\"> \n",
    "    <figure class=\"mj-fig\">\n",
    "        <img src=\"images/10a_Datenbanktypen/mj_waterfall.png\" class=\"mj-fig-img\">\n",
    "        <figcaption class=\"mj-fig-cap\">\n",
    "            Midjourney: Waterfall \n",
    "        </figcaption>\n",
    "    </figure>\n",
    "  </div>\n",
    "</div>"
   ]
  },
  {
   "cell_type": "markdown",
   "id": "43610f4c206b44b2a9f8db8746ab10d3",
   "metadata": {
    "editable": true,
    "slideshow": {
     "slide_type": "subslide"
    },
    "tags": [
     "remove-cell",
     "translated_en"
    ],
    "translation": {
     "lang": "de",
     "src_hash": "1b09222f79e91362dbb3ee117c0454c57940b9d2eab31d82751da45d0d6c2d69",
     "updated_at_iso": "2025-08-16T17:23:30.148162+00:00"
    }
   },
   "source": [
    "## Linear Method - Waterfall Method\n",
    "\n",
    "<script>setSectionBackground('#FFD966');</script>\n",
    "<div class=\"flex-row\">\n",
    "<div class=\"col1\">\n",
    "\n",
    "- Traditional model that is still often required in the procurement of large systems\n",
    "\n",
    "- Development is divided into several sequential steps, and each step must be completed before the next\n",
    "\n",
    "- User involvement only in the requirements definition\n",
    "\n",
    "- Each activity is documented — well suited for tenders (after the requirements definition or the design, ISO 9000)\n",
    "\n",
    "</div>\n",
    "  <div class=\"col1\">\n",
    "    <figure class=\"mj-fig\">\n",
    "        <img src=\"images/05a_Softwareentwurf/waterflow.svg\" class=\"mj-fig-img\" style=\"height: 80%\">\n",
    "    </figure>\n",
    "  </div>\n",
    "</div>"
   ]
  },
  {
   "cell_type": "markdown",
   "id": "8e8c3c2a9d0643b7913298fde0b6d80d",
   "metadata": {
    "editable": true,
    "slideshow": {
     "slide_type": "subslide"
    },
    "tags": [
     "remove-cell",
     "translated_en"
    ],
    "translation": {
     "lang": "de",
     "src_hash": "500750a6d9c943912982ab4c5f830c01cccfcadfa90c52a6f802159180d0ee17",
     "updated_at_iso": "2025-08-16T17:23:36.838258+00:00"
    }
   },
   "source": [
    "## Recap: In-Class Question\n",
    "\n",
    "<script>setSectionBackground('#FFD966');</script>\n",
    "<div class=\"flex-row\">\n",
    "  <div class=\"col4 vcent\">\n",
    "\n",
    "What is the Agile method?\n",
    " \n",
    "  </div>\n",
    "  <div class=\"col6\"> \n",
    "    <figure class=\"mj-fig\">\n",
    "        <img src=\"images/10a_Datenbanktypen/mj_agile.png\" class=\"mj-fig-img\">\n",
    "        <figcaption class=\"mj-fig-cap\">\n",
    "            Midjourney: Sprinter and Waterfall \n",
    "        </figcaption>\n",
    "    </figure>\n",
    "  </div>\n",
    "</div>"
   ]
  },
  {
   "cell_type": "markdown",
   "id": "58e18ea47fae4c7297edabaf35b313ec",
   "metadata": {
    "editable": true,
    "slideshow": {
     "slide_type": "subslide"
    },
    "tags": [
     "remove-cell",
     "translated_en"
    ],
    "translation": {
     "lang": "de",
     "src_hash": "80aaa300aab918bdd7dac10dc068a90e948b2e1ca4783a805cce7d8ff69f9ea3",
     "updated_at_iso": "2025-08-16T17:23:46.868922+00:00"
    }
   },
   "source": [
    "## Agile Method\n",
    "\n",
    "<script>setSectionBackground('#FFD966');</script>\n",
    "<div class=\"flex-row\">\n",
    "<div class=\"col1\">\n",
    "\n",
    "- A modern method to adapt to constantly changing requirements\n",
    "\n",
    "- The goal of incremental development of the solution is to keep the effort and complexity of individual steps in check\n",
    "\n",
    "- Starts with a simple and extensible implementation (MVP – Minimum Viable Product)\n",
    "\n",
    "- Incremental expansion and improvement of the product with regular releases (usually every 3 months)\n",
    "\n",
    "- Design flaws in early iterations can lead to a complete redesign\n",
    "\n",
    "</div>\n",
    "  <div class=\"col1\">\n",
    "    <figure class=\"mj-fig\">\n",
    "        <img src=\"images/05a_Softwareentwurf/agile.svg\" class=\"mj-fig-img\" style=\"height: 80%\">\n",
    "    </figure>\n",
    "  </div>\n",
    "</div>"
   ]
  },
  {
   "cell_type": "markdown",
   "id": "55198004a2f94935aab5495cd5c553f7",
   "metadata": {
    "editable": true,
    "slideshow": {
     "slide_type": "slide"
    },
    "tags": [
     "remove-cell",
     "translated_en"
    ],
    "translation": {
     "lang": "de",
     "src_hash": "5f0f77748ead25e93792437404a4592d83c4c93acca06563dc1493df65d1f714",
     "updated_at_iso": "2025-08-16T17:23:49.451974+00:00"
    }
   },
   "source": [
    "## Process\n",
    "\n",
    "![](images/partB_2.svg)"
   ]
  },
  {
   "cell_type": "markdown",
   "id": "05a74d54c0194c72b5aa4cc1cc4e5a4a",
   "metadata": {
    "slideshow": {
     "slide_type": "skip"
    },
    "tags": [
     "translated_en"
    ],
    "translation": {
     "lang": "de",
     "src_hash": "bdcb885f0b3a0ffbbd0a431498aa9769822fa60ba2276979421cc14d15712e96",
     "updated_at_iso": "2025-08-16T17:24:03.984451+00:00"
    }
   },
   "source": [
    "## Fundamentals and Definitions\n",
    "\n",
    "In many software solutions, the data to be managed are so large that it is no longer efficient to manage them in files. Instead, they are stored in databases. Databases allow different applications to access the same data concurrently without conflicts. They can manage very large data volumes and organize them into structured formats. Databases are defined as follows:\n",
    "\n",
    "<div class=\"alert alert-block alert-success\">\n",
    "<b>📘 Definition: Database</b>\n",
    "\n",
    "A *Database (DB)* refers to the logically related data that are managed by a *DBMS (Database Management System)*.\n",
    "</div>\n",
    "\n",
    "<div class=\"alert alert-block alert-success\">\n",
    "<b>📘 Definition: Database System</b>\n",
    "\n",
    "A database and a DBMS together are referred to as a *Database System*.\n",
    "</div>\n",
    "\n",
    "A database comprises all logically related data that are managed by a database management system. The database system denotes the combination of database and DBMS. In addition to the actual user data, the database includes all administrative objects such as indexes and log files that the system needs for efficient management. Long-term storage is ensured through persistence, while indexing enables fast search operations. Transactions ensure safe data changes, and logs document all operations in a traceable manner. \n",
    "\n",
    "For engineers this means, for example, that project data, cost estimates, and schedules can be centrally managed, with multiple team members able to work concurrently without data inconsistencies arising."
   ]
  },
  {
   "cell_type": "markdown",
   "id": "ce66125dd3b440a99fa4e3e937872df8",
   "metadata": {
    "slideshow": {
     "slide_type": "skip"
    },
    "tags": [
     "translated_en"
    ],
    "translation": {
     "lang": "de",
     "src_hash": "a1198719136a00aa0f118b26e484591b859f995987d2960787be90a81ada629c",
     "updated_at_iso": "2025-08-16T17:24:12.855888+00:00"
    }
   },
   "source": [
    "## File-Based Systems versus Databases\n",
    "\n",
    "In file-based systems, each application structures its data independently according to its own requirements. This often leads to redundancies and inconsistencies, as the same information is stored in multiple formats. Databases solve this problem with a unified data structure that all applications access. The DBMS coordinates all accesses and ensures that changes are synchronized and logged.\n",
    "\n",
    "A practical example from civil engineering clearly shows the difference: Traditionally, accounting might manage cost data in Excel, while project management maintains separate schedules in specialized software. In a database-based approach, both access the same central data source, which automatically produces consistent and up-to-date reports on project costs and progress.\n",
    "\n",
    "<div class=\"flex-row\">\n",
    "  <div class=\"col1\">\n",
    "\n",
    "![](images/10a_Datenbanktypen/basic_files.svg)\n",
    "\n",
    "  </div>\n",
    "  <div class=\"col1\"> \n",
    "\n",
    "![](images/10a_Datenbanktypen/basic_database.svg)\n",
    "\n",
    "  </div>\n",
    "</div>"
   ]
  },
  {
   "cell_type": "markdown",
   "id": "dca878a0817d46bb8efe776c70045b53",
   "metadata": {
    "slideshow": {
     "slide_type": "skip"
    },
    "tags": [
     "translated_en"
    ],
    "translation": {
     "lang": "de",
     "src_hash": "96dd9b6b5ad0e218e217473f434cc68781c901571fb403fa6f174fbe2457dcaf",
     "updated_at_iso": "2025-08-16T17:24:29.683329+00:00"
    }
   },
   "source": [
    "## Codd's Rules\n",
    "\n",
    "Edgar Codd defined nine fundamental principles for database systems. His motivation was to define clear, verifiable criteria that databases must satisfy. From this examination he derived precise rules designed to ensure that a system consistently implements data integrity, data independence, and declarative access.\n",
    "\n",
    "- *Integration*: unified, non-redundant data management\n",
    "- *Operations*: Storing, Searching, Updating\n",
    "- *Catalog*: Access to database descriptions in the data dictionary\n",
    "- *User Views*: Each user sees only the data they are permitted to view, in the way they want to view it\n",
    "- *Integrity Assurance*: Correctness of the database contents\n",
    "- *Data Security*: Prevention of unauthorized access; only authorized users\n",
    "- *Transactions*: multiple database operations as a single unit (all or nothing)\n",
    "- *Synchronization*: coordinating concurrent transactions\n",
    "- *Data Recovery*: Restoring data after system failures"
   ]
  },
  {
   "cell_type": "markdown",
   "id": "ddf31726cf2445f3b0a417ff69a8e0ca",
   "metadata": {
    "editable": true,
    "slideshow": {
     "slide_type": "skip"
    },
    "tags": [
     "translated_en"
    ],
    "translation": {
     "lang": "de",
     "src_hash": "1c04673d838b698cfd6353433c17993403ae506a91f46c77def2e6707c0f28a9",
     "updated_at_iso": "2025-08-16T17:24:33.492086+00:00"
    }
   },
   "source": [
    "## Database Types\n",
    "\n",
    "Over the decades, different database types have emerged that are particularly well suited for different kinds of data and applications.\n",
    "\n",
    "![Distribution of database types](images/10a_Datenbanktypen/databases.svg)"
   ]
  },
  {
   "cell_type": "markdown",
   "id": "b286b40e87ab4724b5c89a18dffa8640",
   "metadata": {
    "editable": true,
    "slideshow": {
     "slide_type": "skip"
    },
    "tags": [
     "translated_en"
    ],
    "translation": {
     "lang": "de",
     "src_hash": "a008811b278e422cdfa60cdf6bb12c8bdb1c5d4fdfb823a276720b8ceede2f0e",
     "updated_at_iso": "2025-08-16T17:24:39.847650+00:00"
    }
   },
   "source": [
    "### Relational Databases\n",
    "\n",
    "Relational database management systems have dominated since the 1980s and are based on the tabular data model. Each table has a fixed schema with defined columns and data types. This strong structuring makes relational databases ideal for well-structured business data.\n",
    "\n",
    "SQL serves as the standard language for all database operations. A typical application is a project database with tables for projects, employees, materials, and costs, where complex queries such as \"all projects that are over budget and have a duration of more than six months\" are easily realizable.\n",
    "\n",
    "Popular systems: Oracle, MySQL, Microsoft SQL Server, PostgreSQL, IBM Db2"
   ]
  },
  {
   "cell_type": "markdown",
   "id": "5d93c818ee104ff192e8f94e7c2140e0",
   "metadata": {
    "editable": true,
    "slideshow": {
     "slide_type": "skip"
    },
    "tags": [
     "translated_en"
    ],
    "translation": {
     "lang": "de",
     "src_hash": "1664a3ca60fb0c88adceafe294d6e5f0cf09129681be966bc2b12c35953ca57a",
     "updated_at_iso": "2025-08-16T17:24:46.020084+00:00"
    }
   },
   "source": [
    "### NoSQL Databases\n",
    "\n",
    "NoSQL systems dispense with the relational data model and have grown in importance since 2009. They emerged in response to the challenges of modern web applications that require high scalability, fault tolerance, and the processing of big data. Their ability to handle semi-structured data such as JSON, which cannot be squeezed into a rigid tabular schema, is particularly important.\n",
    "\n",
    "Popular systems: MongoDB, CouchDB, Cassandra, Redis, Neo4j, Amazon DynamoDB, HBase, OrientDB"
   ]
  },
  {
   "cell_type": "markdown",
   "id": "fb71e6fec6614c2caaf332483b939411",
   "metadata": {
    "slideshow": {
     "slide_type": "skip"
    },
    "tags": [
     "translated_en"
    ],
    "translation": {
     "lang": "de",
     "src_hash": "48c43059ec678295faf2ef47595b932407607b4ff6e9eb871cc662685d609c44",
     "updated_at_iso": "2025-08-16T17:24:55.833803+00:00"
    }
   },
   "source": [
    "### Document-oriented Databases\n",
    "\n",
    "Document stores offer maximum flexibility through schema-free organization. Documents can have completely different structures; fields can contain different data types or even include arrays. Nesting enables hierarchical data structures, usually represented in JSON format.\n",
    "\n",
    "For environmental engineers, this is especially valuable for documenting environmental samples, where different sites may have different measurement parameters. One aquatic site could measure pH, temperature, and dissolved oxygen, while another site also records heavy metal concentrations. Each site can map its specific data structure in the document-oriented database.\n",
    "\n",
    "Popular systems: MongoDB, Amazon DynamoDB, Databricks, Azure Cosmos DB, Couchbase"
   ]
  },
  {
   "cell_type": "markdown",
   "id": "ac6b56fabd404526b5a0b6cbb45f76d6",
   "metadata": {
    "slideshow": {
     "slide_type": "skip"
    },
    "tags": [
     "translated_en"
    ],
    "translation": {
     "lang": "de",
     "src_hash": "2f7683aa471fdaa383bf2dc069b619d574ab809d6c1bb917194227e83cfb311d",
     "updated_at_iso": "2025-08-16T17:25:03.398707+00:00"
    }
   },
   "source": [
    "### Key-Value Databases\n",
    "\n",
    "Key-Value Stores work similarly to Python dictionaries and store simple key-value pairs. Their simplicity makes them attractive for resource-constrained systems like embedded PCs and for rapid development of web interfaces. They are particularly suitable for caching applications and session management.\n",
    "\n",
    "In smart-building systems, sensor data can be stored efficiently as key-value pairs. A temperature sensor in Room 101 would store the current value under the key \"Sensor_Room_101_Temperature\", enabling quick access for building control.\n",
    "\n",
    "Popular systems: Redis, Amazon DynamoDB, Azure Cosmos DB, Memcached, Hazelcast"
   ]
  },
  {
   "cell_type": "markdown",
   "id": "0ffed7e8f2bf45d59cde470f5733c96b",
   "metadata": {
    "slideshow": {
     "slide_type": "skip"
    },
    "tags": [
     "translated_en"
    ],
    "translation": {
     "lang": "de",
     "src_hash": "5885cd53adfc84bd59285fb5bec2a62c4cb6d8441e0ed0879b2b9697cb5bfdaf",
     "updated_at_iso": "2025-08-16T17:25:12.422341+00:00"
    }
   },
   "source": [
    "### Search Engine Databases\n",
    "\n",
    "These specialized NoSQL systems are optimized for searching text content. They support complex search terms with boolean operators, perform full-text searches, and can stem words to their root forms. The results are sorted by relevance and can be grouped, with the search distributed across multiple servers.\n",
    "\n",
    "Environmental agencies benefit particularly from such systems when they need to make thousands of assessments, reports, and studies searchable. A search query for groundwater contamination in industrial areas would find all relevant documents and rank them by their relevance to the specific question.\n",
    "\n",
    "Popular systems: Elasticsearch, Splunk, Solr, OpenSearch, MarkLogic"
   ]
  },
  {
   "cell_type": "markdown",
   "id": "62683b7edf8d41ab83f804319721e15e",
   "metadata": {
    "slideshow": {
     "slide_type": "skip"
    },
    "tags": [
     "translated_en"
    ],
    "translation": {
     "lang": "de",
     "src_hash": "2ea0a0864eb4fcaf1c1c3a6012fc5ef8d73af41329fa9348d2503cb2f2a1a6bc",
     "updated_at_iso": "2025-08-16T17:25:22.672538+00:00"
    }
   },
   "source": [
    "### Graph databases\n",
    "\n",
    "Graph databases model data as a network of nodes and edges, making them ideal for analyzing relationships. They enable network analyses, the modeling of social structures, and the development of recommender systems.\n",
    "\n",
    "In construction projects, graph databases can map the complex dependencies between infrastructure elements. In an urban redevelopment, nodes would represent streets, buildings, and utility lines, while the connections would represent the dependencies between the renovation tasks. This enables optimal planning of the sequence of work."
   ]
  },
  {
   "cell_type": "markdown",
   "id": "0b833f4438c248779dade10628aff81c",
   "metadata": {
    "slideshow": {
     "slide_type": "skip"
    },
    "tags": [
     "translated_en"
    ],
    "translation": {
     "lang": "de",
     "src_hash": "7127bc8e38d32a273d48cae399dcc241940e751926278e91f649005afb384033",
     "updated_at_iso": "2025-08-16T17:25:30.706096+00:00"
    }
   },
   "source": [
    "### Selection Criteria for Database Types\n",
    "\n",
    "The choice of the appropriate database type depends on several factors. Structured data with clearly defined relationships is well suited for relational databases, while flexible or evolving data structures favor NoSQL solutions. Scaling requirements play an important role, as does the complexity of the queries required.\n",
    "\n",
    "Modern infrastructure projects often use multiple database types simultaneously. A Smart City project could combine relational databases for administrative data, graph databases for traffic-flow analyses, key-value stores for sensor caching, and search-engine databases for document management."
   ]
  },
  {
   "cell_type": "markdown",
   "id": "1e50dc3c29ea4e47b891ee9b0eee6117",
   "metadata": {
    "editable": true,
    "slideshow": {
     "slide_type": "slide"
    },
    "tags": [
     "remove-cell",
     "translated_en"
    ],
    "translation": {
     "lang": "de",
     "src_hash": "fc0e65abdf66f7bf12f2750a277b7c2ef10c790a27cbe3216e7ea657e639443a",
     "updated_at_iso": "2025-08-16T17:25:40.138049+00:00"
    }
   },
   "source": [
    "## Database Definition\n",
    "\n",
    "<div class=\"alert alert-block alert-success\">\n",
    "<b>📘 Definition: Database</b>\n",
    "\n",
    "A database (DB) refers to the logically related data that is managed by a *DBMS (Database Management System)*.\n",
    "</div>\n",
    "\n",
    "<div class=\"alert alert-block alert-success\">\n",
    "<b>📘 Definition: Database System</b>\n",
    "\n",
    "A database and the database management system together are referred to as a *Database System*.\n",
    "</div>\n",
    "\n",
    "In addition to the pure 'user data', a database also includes the objects created for the DBMS to manage (for example, indexes and log files)."
   ]
  },
  {
   "cell_type": "markdown",
   "id": "c1b00e3950874559a361860ccea9a7b0",
   "metadata": {
    "editable": true,
    "slideshow": {
     "slide_type": "subslide"
    },
    "tags": [
     "remove-cell",
     "translated_en"
    ],
    "translation": {
     "lang": "de",
     "src_hash": "8b66d378f0f90db0f8af4be0fd0fbc8a8e6204337abfd7849ec67b3098d8b509",
     "updated_at_iso": "2025-08-16T17:25:51.727987+00:00"
    }
   },
   "source": [
    "## Why do we put money in the bank?\n",
    "\n",
    "<div class=\"flex-row\">\n",
    "  <div class=\"col4\">\n",
    "\n",
    "- Centralized and long-term storage\n",
    "- Protection against losses\n",
    "- Efficiency through specialized service offerings (standing orders, portfolio, …)\n",
    "- Keeping an overview\n",
    "- Networking with the global financial network\n",
    "\n",
    "  </div>\n",
    "  <div class=\"col6\"> \n",
    "    <figure class=\"mj-fig\">\n",
    "        <img src=\"images/10a_Datenbanktypen/mj_thief.png\" class=\"mj-fig-img\">\n",
    "        <figcaption class=\"mj-fig-cap\">\n",
    "            Midjourney: thief breaking into a bank safe\n",
    "        </figcaption>\n",
    "    </figure>\n",
    "  </div>\n",
    "</div>"
   ]
  },
  {
   "cell_type": "markdown",
   "id": "cf9925f56e9a45f8bfdda9d8066701bb",
   "metadata": {
    "editable": true,
    "slideshow": {
     "slide_type": "subslide"
    },
    "tags": [
     "remove-cell",
     "translated_en"
    ],
    "translation": {
     "lang": "de",
     "src_hash": "eea6f19735e42329a2cc573b045dcc1fcff29937f9ec905eb28a3d3e312eed4b",
     "updated_at_iso": "2025-08-16T17:26:03.055199+00:00"
    }
   },
   "source": [
    "## Why do we put data into the 'bank'?\n",
    "\n",
    "- *Efficiently* store and load data across different clients (web servers, devices, etc.)\n",
    "- *Management* of very (very) large data volumes (scalability)\n",
    "- *Organization* of the data into predefined data structures (normalization)\n",
    "- *Long-term* storage of the data (persistence)\n",
    "- *Fast* search of the data through indexing\n",
    "- *Safeguarded* processes for changing data (transactions)\n",
    "- *Auditable* changes to data via transaction logs\n",
    "- *Automatic* data analysis (OLAP)"
   ]
  },
  {
   "cell_type": "markdown",
   "id": "f7b345b7a87e41a7805d59f7e4fc8751",
   "metadata": {
    "editable": true,
    "slideshow": {
     "slide_type": "subslide"
    },
    "tags": [
     "remove-cell",
     "translated_en"
    ],
    "translation": {
     "lang": "de",
     "src_hash": "82551fb58e98ebf95fbc490f97d98d44276553bcec2d8d7692f940e2baad588a",
     "updated_at_iso": "2025-08-16T17:26:09.334061+00:00"
    }
   },
   "source": [
    "## Core Concepts: Files\n",
    "\n",
    "- Structure: Each application structures the data according to the data types present therein (format, structure, …).\n",
    "- File system: Each application stores the data according to its requirements (access, extension, location, …).\n",
    "\n",
    "![](images/10a_Datenbanktypen/basic_files.svg)"
   ]
  },
  {
   "cell_type": "markdown",
   "id": "211e87855d744fee82d2eb35beb38764",
   "metadata": {
    "editable": true,
    "slideshow": {
     "slide_type": "subslide"
    },
    "tags": [
     "remove-cell",
     "translated_en"
    ],
    "translation": {
     "lang": "de",
     "src_hash": "84f579592973d210b2399b57433868b03ae50465534c8fdb0452e02e6b0f1ebd",
     "updated_at_iso": "2025-08-16T17:26:15.372328+00:00"
    }
   },
   "source": [
    "## Core Concepts of Databases\n",
    "\n",
    "- Structure: All applications use the same structure that is modeled in the database\n",
    "- File system: All applications access the same data. Accesses are synchronized and logged via transactions.\n",
    "\n",
    "![](images/10a_Datenbanktypen/basic_database.svg)"
   ]
  },
  {
   "cell_type": "markdown",
   "id": "1186638a52a141138e75dc48288f7cb0",
   "metadata": {
    "editable": true,
    "slideshow": {
     "slide_type": "subslide"
    },
    "tags": [
     "remove-cell",
     "translated_en"
    ],
    "translation": {
     "lang": "de",
     "src_hash": "ebe0dabd81dd1530f2c34daff86d737b584e24e55233dbf52f6aaa92fcf4f98e",
     "updated_at_iso": "2025-08-16T17:26:25.714870+00:00"
    }
   },
   "source": [
    "## The Codd Rules (Codd, 1985, 1990)\n",
    "\n",
    "- *Integration*: unified, non-redundant data management\n",
    "- *Operations*: Store, Search, Modify\n",
    "- *Catalog*: Access to database descriptions in the Data Dictionary\n",
    "- *User Views*: Each user sees the data they are allowed to see, in the way they want to view it\n",
    "- *Integrity*: Correctness of the database contents\n",
    "- *Data Security*: Prevention of unauthorized access; only authorized users\n",
    "- *Transactions*: Multiple DB operations as a single unit (all or nothing)\n",
    "- *Synchronization*: Coordinating parallel transactions\n",
    "- *Backup and Recovery*: Recovery of data after system failures"
   ]
  },
  {
   "cell_type": "markdown",
   "id": "f325202966db42cfa82c7e0c527d0374",
   "metadata": {
    "editable": true,
    "slideshow": {
     "slide_type": "slide"
    },
    "tags": [
     "remove-cell",
     "translated_en"
    ],
    "translation": {
     "lang": "de",
     "src_hash": "2339d1da544f68917b1906e337585751b578d58ef75434e9545f7b2a8cc24aab",
     "updated_at_iso": "2025-08-16T17:26:29.186898+00:00"
    }
   },
   "source": [
    "## Database Types - Overview\n",
    "\n",
    "![Distribution of database types](images/10a_Datenbanktypen/databases.svg)"
   ]
  },
  {
   "cell_type": "markdown",
   "id": "fa893f8bb36c49c3bfa27931e7ddad34",
   "metadata": {
    "editable": true,
    "slideshow": {
     "slide_type": "subslide"
    },
    "tags": [
     "remove-cell",
     "translated_en"
    ],
    "translation": {
     "lang": "de",
     "src_hash": "088f33e2b732a77cb43cfc1f83019d79047df3aaab157b4a230180c338016be2",
     "updated_at_iso": "2025-08-16T17:26:35.326436+00:00"
    }
   },
   "source": [
    "## Relational Databases\n",
    "\n",
    "*RDBMS* have been in use since the early 1980s and are based on the relational (= tabular) data model\n",
    "- The schema of a table (= relation schema) is defined by the table name and a fixed set of attributes (= columns) with corresponding data types\n",
    "- Because data are organized in tables, they are highly structured with a structure defined by the table (normalization)\n",
    "- The standard language for creating/modifying/deleting is *SQL*\n",
    "\n",
    "- Popular systems: Oracle, MySQL, Microsoft SQL Server, PostgreSQL, IBM Db2"
   ]
  },
  {
   "cell_type": "markdown",
   "id": "bb9aaeb8ac264a66ad29111d7c5f06cb",
   "metadata": {
    "editable": true,
    "slideshow": {
     "slide_type": "subslide"
    },
    "tags": [
     "remove-cell",
     "translated_en"
    ],
    "translation": {
     "lang": "de",
     "src_hash": "5852168bfbdceaaf3132e806770a176e2488ed51d948da70c27da6fe14de8c2d",
     "updated_at_iso": "2025-08-16T17:26:46.020327+00:00"
    }
   },
   "source": [
    "## NoSQL Databases\n",
    "\n",
    "*NoSQL* database management systems are databases that do not use a relational (= table-oriented) data model and therefore typically do not support SQL.\n",
    "\n",
    "- They have been increasingly widespread since around *2009*.\n",
    "- Popular systems: MongoDB, CouchDB, Cassandra, Redis, Neo4j, Amazon DynamoDB, HBase, OrientDB\n",
    "- *Main reasons*:\n",
    "  - High scalability requirements\n",
    "  - Fault tolerance of modern web applications\n",
    "  - Big data scenarios\n",
    "  - Data is often only semi-structured (they do not fit neatly into a schema)"
   ]
  },
  {
   "cell_type": "markdown",
   "id": "b1ddabdd7b6240c18b2925ab0c25d798",
   "metadata": {
    "editable": true,
    "slideshow": {
     "slide_type": "subslide"
    },
    "tags": [
     "remove-cell",
     "translated_en"
    ],
    "translation": {
     "lang": "de",
     "src_hash": "28a585ae61abaa3f6bd544435c189eacd571fecf4ee0c07d82207eefa6cbcf7a",
     "updated_at_iso": "2025-08-16T17:26:54.222504+00:00"
    }
   },
   "source": [
    "## Document-oriented Databases\n",
    "\n",
    "*Document Stores* are characterized by a *schema-free* organization of the data:\n",
    "\n",
    "- Documents have no uniform structure\n",
    "- The data types of values in individual fields can vary from document to document\n",
    "- Fields can contain more than one value (arrays)\n",
    "- Documents can have a nested structure\n",
    "- To represent the “documents,” JSON is most commonly used\n",
    "\n",
    "- Popular systems: MongoDB, Amazon DynamoDB, Databricks, Azure Cosmos DB, Couchbase"
   ]
  },
  {
   "cell_type": "markdown",
   "id": "020464004a134ca3b8c8c8172307447e",
   "metadata": {
    "editable": true,
    "slideshow": {
     "slide_type": "subslide"
    },
    "tags": [
     "remove-cell",
     "translated_en"
    ],
    "translation": {
     "lang": "de",
     "src_hash": "25a5c98c929faeda3ef51648f21950b724f445e2f7d7be9750d097db83b40c1a",
     "updated_at_iso": "2025-08-16T17:27:03.600018+00:00"
    }
   },
   "source": [
    "## Key-Value Databases\n",
    "\n",
    "- Key-Value stores are arguably the simplest form of database management systems\n",
    "- They can store only key–value pairs, and retrieve the values by key\n",
    "- They thus resemble Python's *dict*\n",
    "- This simplicity makes them attractive for:\n",
    "  - resource-constrained systems such as embedded PCs\n",
    "  - development of web interfaces\n",
    "\n",
    "- Popular systems: Redis, Amazon DynamoDB, Azure Cosmos DB, Memcached, Hazelcast"
   ]
  },
  {
   "cell_type": "markdown",
   "id": "44c0c1078ac048e98160a5183a67247d",
   "metadata": {
    "editable": true,
    "slideshow": {
     "slide_type": "subslide"
    },
    "tags": [
     "remove-cell",
     "translated_en"
    ],
    "translation": {
     "lang": "de",
     "src_hash": "3775a93d7528b158b2e3321701cc6da347ad2b36f3c22d5282aa93e0b10eb443",
     "updated_at_iso": "2025-08-16T17:27:10.348238+00:00"
    }
   },
   "source": [
    "## Search Engine Databases\n",
    "\n",
    "*Search engines* are NoSQL DBMS specialized in searching data content such as text:\n",
    "\n",
    "- Features\n",
    "    - Support for complex search terms\n",
    "    - Full-text search\n",
    "    - Stemming (reduction to the word stem)\n",
    "    - Result ranking\n",
    "    - Grouping of search results\n",
    "    - Distributed search for high scalability\n",
    "\n",
    "- Popular systems: Elasticsearch, Splunk, Solr, OpenSearch, MarkLogic"
   ]
  },
  {
   "cell_type": "markdown",
   "id": "9d16c9b49fd54e0ab5c08d9f44a68af4",
   "metadata": {
    "editable": true,
    "slideshow": {
     "slide_type": "subslide"
    },
    "tags": [
     "remove-cell",
     "translated_en"
    ],
    "translation": {
     "lang": "de",
     "src_hash": "84d5956834c7b70ef8504a5df6f8f0cf21f9d891fa69e0c4f3506d5784b3318d",
     "updated_at_iso": "2025-08-16T17:27:17.424678+00:00"
    }
   },
   "source": [
    "## Graph Databases\n",
    "\n",
    "*Graph DBMS* represent data as *nodes (Nodes)* and *relationships (Edges)* to each other\n",
    "- They enable, in particular, the *modeling of connections*\n",
    "- Ideal for network analysis, social networks, and recommendation systems\n",
    "- Popular systems: Neo4j, Microsoft Azure Cosmos DB, Virtuoso, IBM KITT"
   ]
  },
  {
   "cell_type": "markdown",
   "id": "69e245ff7f2d4867b00e77bc4d460332",
   "metadata": {
    "editable": true,
    "slideshow": {
     "slide_type": "subslide"
    },
    "tags": [
     "remove-cell",
     "translated_en"
    ],
    "translation": {
     "lang": "de",
     "src_hash": "829ee17bfba808a2e80187350645444cbfdb4e4a4f5f204fde095a097e00ed57",
     "updated_at_iso": "2025-08-16T17:27:23.863341+00:00"
    }
   },
   "source": [
    "## Database Types in the Lecture\n",
    "\n",
    "- Focus on: *Relational DB* (71.9%)\n",
    "    - Easy to use\n",
    "    - Most widely used\n",
    "    - Solid foundation\n",
    "\n",
    "- Also: Key-Value DB:\n",
    "    - Simple concepts\n",
    "    - Practical exercises"
   ]
  },
  {
   "cell_type": "markdown",
   "id": "e9d79ac454c041549963d661c841ede7",
   "metadata": {
    "editable": true,
    "slideshow": {
     "slide_type": "subslide"
    },
    "tags": [
     "remove-cell",
     "translated_en"
    ],
    "translation": {
     "lang": "de",
     "src_hash": "1da144da6aac15f1acb1db57b7f3357ca90ea3e6c6d5feea545c25e9baa48f35",
     "updated_at_iso": "2025-08-16T17:27:29.538934+00:00"
    }
   },
   "source": [
    "## Databases in Python\n",
    "\n",
    "<div class=\"flex-row\">\n",
    "  <div class=\"col1\">\n",
    "\n",
    "- Access via the appropriate library for each database\n",
    "- Oracle, Redis, MongoDB, etc.\n",
    "\n",
    "  </div>\n",
    "  <div class=\"col1\">\n",
    "\n",
    "```python\n",
    "from replit import db\n",
    "\n",
    "# Save data\n",
    "db[\"entry\"] = 5\n",
    "\n",
    "# Retrieve data\n",
    "value = db[\"entry\"]\n",
    "print(value)  # Output: 5\n",
    "```\n",
    "\n",
    "  </div>\n",
    "</div>"
   ]
  },
  {
   "cell_type": "markdown",
   "id": "d9344f203a8b4320b12f38b2b1e18f60",
   "metadata": {
    "editable": true,
    "slideshow": {
     "slide_type": "skip"
    },
    "tags": [
     "translated_en"
    ],
    "translation": {
     "lang": "de",
     "src_hash": "a6a9a180b362f4ba713a3331085a1d5694ab2d54f7fb0ff1c75a69c892271444",
     "updated_at_iso": "2025-08-16T17:27:59.706457+00:00"
    }
   },
   "source": [
    "## Quiz\n",
    "\n",
    "\n",
    "```{quizdown}\n",
    "    ---\n",
    "    shuffleQuestions: true\n",
    "    shuffleAnswers: true\n",
    "    ---\n",
    "\n",
    "    ### Welche Python-Pakete werden zum Laden von CSV-Daten aus dem Internet verwendet?\n",
    "\n",
    "    - [x] `urllib` und `pandas`\n",
    "    - [ ] `requests` und `numpy`\n",
    "    - [ ] `json` und `matplotlib`\n",
    "    - [ ] `sqlite3` und `os`\n",
    "\n",
    "    ### Was ist SQL?\n",
    "    - [x] Eine Sprache zur Abfrage und Manipulation von Datenbanken\n",
    "    - [ ] Ein Programm zur Datenvisualisierung\n",
    "    - [ ] Eine Programmiersprache wie Python\n",
    "    - [ ] Ein Datenformat wie JSON\n",
    "\n",
    "    ### Was ist SQLite?\n",
    "\n",
    "    - [x] Eine lokale relationale Datenbank ohne Server\n",
    "    - [ ] Ein Cloud-Datenbank-Service\n",
    "    - [ ] Ein NoSQL-Datenbanksystem\n",
    "    - [ ] Ein Datenvisualisierungstool\n",
    "\n",
    "    ### Sortiere die folgenden Zeilen für das Speichern einer Pandas-Tabelle in SQLite:\n",
    "\n",
    "    ```python\n",
    "    import sqlite3\n",
    "    import pandas as pd\n",
    "    ```\n",
    "    1. `df = pd.DataFrame({'col1': [1, 2], 'col2': [3, 4]})`\n",
    "    2. `con = sqlite3.connect(\"test.sqlite\")`\n",
    "    3. `df.to_sql(\"tabelle\", con, if_exists=\"replace\")`\n",
    "\n",
    "    ### Welcher Fehler steckt in diesem Beispiel?\n",
    "\n",
    "    ```python\n",
    "    con = sqlite3.connect(\"test.sqlite\")\n",
    "    df.to_sql(\"tabelle\", con, if_exists=\"append\")\n",
    "    ```\n",
    "\n",
    "    - [ ] `sqlite3` ist nicht importiert\n",
    "    - [ ] Der Datenbankname ist zu kurz\n",
    "    - [x] Kein Fehler - der Code ist korrekt\n",
    "    - [ ] `to_sql` existiert nicht\n",
    "\n",
    "    ### Was macht der SQL-Befehl `SELECT * FROM baustellen;`?\n",
    "\n",
    "    - [ ] Löscht alle Daten aus der Tabelle\n",
    "    - [x] Gibt alle Spalten und Zeilen der Tabelle zurück\n",
    "    - [ ] Erstellt eine neue Tabelle\n",
    "    - [ ] Zählt die Zeilen in der Tabelle\n",
    "\n",
    "\n",
    "    ### Wie führt man einen SQL-Befehl in Python aus?\n",
    "\n",
    "    - [x] Mit `cur.execute(sql)` nach Erstellung eines Cursors\n",
    "    - [ ] Mit `con.run(sql)`\n",
    "    - [ ] Mit `sqlite3.query(sql)`\n",
    "    - [ ] Mit `pd.sql(sql)`\n",
    "\n",
    "\n",
    "    ### Sortiere die folgenden Zeilen für eine SQL-Abfrage:\n",
    "\n",
    "    ```python\n",
    "    con = sqlite3.connect(\"test.sqlite\")\n",
    "    ```\n",
    "\n",
    "    1. `cur = con.cursor()`\n",
    "    2. `sql = 'SELECT * FROM tabelle;'`\n",
    "    3. `for row in cur.execute(sql):`\n",
    "    4. `    print(row)`\n",
    "\n",
    "    ### Welcher SQL-Befehl filtert Baustellen mit Baubeginn ab 2023?\n",
    "\n",
    "    - [ ] `FILTER baubeginn >= '2023-01-01'`\n",
    "    - [x] `WHERE baubeginn >= '2023-01-01 00:00:00+01'`\n",
    "    - [ ] `IF baubeginn >= '2023-01-01'`\n",
    "    - [ ] `SELECT baubeginn >= '2023-01-01'`\n",
    "\n",
    "    ### Wie verknüpft man mehrere Bedingungen in SQL?\n",
    "\n",
    "    - [x] Mit `AND`, `OR`, `NOT`\n",
    "    - [ ] Mit `&&`, `||`, `!`\n",
    "    - [ ] Mit `+`, `-`, `*`\n",
    "    - [ ] Mit `COMBINE`, `MERGE`, `JOIN`\n",
    "\n",
    "\n",
    "    ### Welcher Fehler steckt in diesem SQL-Beispiel?\n",
    "\n",
    "    ```sql\n",
    "    SELECT * FROM baustellen\n",
    "    WHERE baubeginn = '2023-01-01' AND bauende = '2024-01-01'\n",
    "    ```\n",
    "\n",
    "    - [ ] `AND` ist nicht erlaubt\n",
    "    - [ ] Datumsformat ist falsch\n",
    "    - [x] Kein Fehler - der Code ist korrekt\n",
    "    - [ ] `WHERE` muss am Ende stehen\n",
    "\n",
    "\n",
    "    ### Was macht die SQL-Funktion `count(*)`?\n",
    "\n",
    "    - [ ] Summiert alle Werte\n",
    "    - [x] Zählt die Anzahl der Zeilen\n",
    "    - [ ] Findet den Maximalwert\n",
    "    - [ ] Berechnet den Durchschnitt\n",
    "\n",
    "\n",
    "    ### Welche Aggregatfunktionen gibt es in SQL?\n",
    "\n",
    "    - [x] `min()`, `max()`, `avg()`, `sum()`, `count()`\n",
    "    - [ ] `first()`, `last()`, `middle()`\n",
    "    - [ ] `add()`, `subtract()`, `multiply()`\n",
    "    - [ ] `top()`, `bottom()`, `center()`\n",
    "\n",
    "\n",
    "    ### Sortiere die folgenden Teile einer SQL-Aggregationsabfrage:\n",
    "\n",
    "    1. `SELECT sparte, count(*), avg(baudauer)`\n",
    "    2. `FROM baustellen`\n",
    "    3. `GROUP BY sparte`\n",
    "\n",
    "\n",
    "    ### Was macht `GROUP BY sparte` in einer SQL-Abfrage?\n",
    "\n",
    "    - [ ] Sortiert nach Sparte\n",
    "    - [x] Fasst Zeilen mit gleicher Sparte zusammen\n",
    "    - [ ] Filtert nach Sparte\n",
    "    - [ ] Löscht doppelte Sparten\n",
    "\n",
    "\n",
    "    ### Wie sortiert man Ergebnisse in SQL absteigend?\n",
    "\n",
    "    - [ ] `SORT BY spalte DOWN`\n",
    "    - [x] `ORDER BY spalte DESC`\n",
    "    - [ ] `ARRANGE BY spalte REVERSE`\n",
    "    - [ ] `DESCEND BY spalte`\n",
    "\n",
    "\n",
    "    ### Was bewirkt `LIMIT 3` in einer SQL-Abfrage?\n",
    "\n",
    "    - [ ] Begrenzt auf 3 Spalten\n",
    "    - [x] Gibt maximal 3 Ergebniszeilen zurück\n",
    "    - [ ] Sortiert die ersten 3 Einträge\n",
    "    - [ ] Filtert nach Werten kleiner 3\n",
    "\n",
    "\n",
    "    ### Welcher Fehler steckt in diesem SQL-Beispiel?\n",
    "\n",
    "    ```sql\n",
    "    SELECT sparte, count(*)\n",
    "    FROM baustellen\n",
    "    ORDER BY count(*)\n",
    "    GROUP BY sparte\n",
    "    ```\n",
    "\n",
    "    - [x] `ORDER BY` muss nach `GROUP BY` stehen\n",
    "    - [ ] `count(*)` kann nicht sortiert werden\n",
    "    - [ ] `GROUP BY` ist falsch positioniert\n",
    "    - [ ] Es fehlt ein `WHERE`\n",
    "\n",
    "\n",
    "    ### Was macht ein `JOIN` in SQL?\n",
    "\n",
    "    - [ ] Kombiniert Spalten einer Tabelle\n",
    "    - [x] Verknüpft Daten aus mehreren Tabellen\n",
    "    - [ ] Sortiert Tabellendaten\n",
    "    - [ ] Löscht doppelte Einträge\n",
    "\n",
    "\n",
    "    ### Warum verwendet man Tabellenpräfixe wie `b.spalte` bei JOINs?\n",
    "\n",
    "    - [ ] Zur Verschönerung des Codes\n",
    "    - [x] Zur eindeutigen Identifikation bei gleichnamigen Spalten\n",
    "    - [ ] Zur Beschleunigung der Abfrage\n",
    "    - [ ] Zur Fehlerbehandlung\n",
    "\n",
    "\n",
    "    ### Was macht `DISTINCT` in einer SQL-Abfrage?\n",
    "\n",
    "    - [ ] Sortiert die Ergebnisse\n",
    "    - [ ] Begrenzt die Anzahl der Ergebnisse\n",
    "    - [x] Entfernt doppelte Zeilen aus den Ergebnissen\n",
    "    - [ ] Verbindet mehrere Tabellen\n",
    "\n",
    "    ### Was ist der Unterschied zwischen INNER JOIN und LEFT JOIN?\n",
    "    - [x] INNER JOIN gibt nur übereinstimmende Zeilen zurück, LEFT JOIN alle Zeilen der linken Tabelle\n",
    "    - [ ] LEFT JOIN gibt nur übereinstimmende Zeilen zurück, INNER JOIN alle Zeilen der linken Tabelle\n",
    "    - [ ] Es gibt keinen Unterschied, beide sind gleich\n",
    "    - [ ] INNER JOIN ist schneller als LEFT JOIN\n",
    "\n",
    "\n",
    "    ### Sortiere die folgenden Teile einer JOIN-Abfrage:\n",
    "\n",
    "    1. `SELECT b.spalte1, a.spalte2`\n",
    "    2. `FROM baustellen AS b`\n",
    "    3. `JOIN adressenliste AS a`\n",
    "    4. `WHERE b.id = a.id`\n",
    "\n",
    "\n",
    "    ### Was ist der Unterschied zwischen verschiedenen JOIN-Typen?\n",
    "\n",
    "    - [x] Sie bestimmen, welche Zeilen bei fehlenden Übereinstimmungen zurückgegeben werden\n",
    "    - [ ] Sie beeinflussen die Geschwindigkeit der Abfrage\n",
    "    - [ ] Sie ändern die Sortierung der Ergebnisse\n",
    "    - [ ] Sie bestimmen die Anzahl der verknüpften Tabellen\n",
    "\n",
    "\n",
    "    ### Welcher Fehler steckt in diesem JOIN-Beispiel?\n",
    "\n",
    "    ```sql\n",
    "    SELECT * FROM baustellen\n",
    "    NATURAL JOIN adressenliste, gemeinden\n",
    "    ```\n",
    "\n",
    "    - [ ] `NATURAL JOIN` existiert nicht\n",
    "    - [ ] Zu viele Tabellen im JOIN\n",
    "    - [x] Potentielle Kreuzverknüpfung durch mehrere Tabellen ohne explizite Bedingungen\n",
    "    - [ ] Falsche Syntax bei `NATURAL JOIN`\n",
    "\n",
    "\n",
    "```"
   ]
  },
  {
   "cell_type": "markdown",
   "id": "2ff6dafb989d4eccafdb383ad77541bd",
   "metadata": {
    "slideshow": {
     "slide_type": "slide"
    },
    "tags": [
     "remove-cell",
     "translated_en"
    ],
    "translation": {
     "lang": "de",
     "src_hash": "d2b7467259ef9f52d61ecf9953374631953b152baba6f1edeaac46d4c3d40a0b",
     "updated_at_iso": "2025-08-16T17:28:16.479589+00:00"
    }
   },
   "source": [
    "<div class=\"vslide\">\n",
    "  <div class=\"vslide-title\">\n",
    "    <p style=\"font-family: Protomolecule; font-size: 2.3em; margin: 0px auto; text-align: center; width: 100%;\">Questions?</p>\n",
    "  </div>\n",
    "  <script>setSectionBackground('#000000', 'images/mj_questions.mp4');</script>\n",
    "</div>"
   ]
  }
 ],
 "metadata": {
  "kernelspec": {
   "display_name": "Python 3 (ipykernel)",
   "language": "python",
   "name": "python3"
  },
  "language_info": {
   "codemirror_mode": {
    "name": "ipython",
    "version": 3
   },
   "file_extension": ".py",
   "mimetype": "text/x-python",
   "name": "python",
   "nbconvert_exporter": "python",
   "pygments_lexer": "ipython3",
   "version": "3.12.10"
  },
  "rise": {
   "auto_select": "none",
   "center": false,
   "enable_chalkboard": true,
   "header": "<img src=\"images/pd_logo.svg\" class=\"header_title_logo\"><img src=\"images/ai4sc_logo_v2.svg\" class=\"header_ai4sc_logo\">",
   "scroll": true,
   "show_buttons_on_startup": false,
   "slideNumber": true,
   "theme": "white"
  }
 },
 "nbformat": 4,
 "nbformat_minor": 4
}
