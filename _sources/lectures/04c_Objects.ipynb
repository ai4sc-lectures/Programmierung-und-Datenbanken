{
 "cells": [
  {
   "cell_type": "markdown",
   "metadata": {
    "editable": true,
    "slideshow": {
     "slide_type": "slide"
    },
    "tags": [
     "remove-cell"
    ]
   },
   "source": [
    "<div class=\"vslide\">\n",
    "  <div class=\"vslide-title\">\n",
    "    <p style=\"font-family: Protomolecule; font-size: 2.3em; line-height: 90%; margin: 0px auto; text-align: center; width: 100%;\"><span style=\"letter-spacing: .04rem;\">programmierung</span><br><span style=\"letter-spacing: .0rem;\">und datenbanken</span></p>\n",
    "<p class=\"author\" style=\"font-family: Protomolecule; margin: 0px auto;  text-align: center; width: 100%; font-size: 1.2em;\">Joern Ploennigs</p>\n",
    "<p class=\"subtitle\" style=\"font-family: Protomolecule; margin: 1em auto; text-align: center; width: 100%; font-size: 1.2em;\">Objekte</p>\n",
    "  </div>\n",
    "<script>\n",
    "  function setSectionBackground(c,v){\n",
    "    let e=document.currentScript.previousElementSibling;\n",
    "    while(e&&e.tagName!=='SECTION')e=e.parentElement;\n",
    "    if(e){\n",
    "      if(c)e.setAttribute('data-background-color',c);\n",
    "      if(v){\n",
    "        e.setAttribute('data-background-video',v);\n",
    "        e.setAttribute('data-background-video-loop','true');\n",
    "        e.setAttribute('data-background-video-muted','true');\n",
    "      }\n",
    "    }\n",
    "  }\n",
    "  setSectionBackground('#000000', 'images/04c_Objects/mj_title.mp4');\n",
    "</script>\n",
    "<style>\n",
    ".flex-row{display:flex; gap:2rem; align-items:flex-start; justify-content:space-between;}\n",
    ".flex-row .col1{flex:1; min-width:10px}\n",
    ".flex-row .col2{flex:2; min-width:10px}\n",
    ".flex-row .col3{flex:3; min-width:10px}\n",
    ".flex-row .col4{flex:4; min-width:10px}\n",
    ".flex-row .col5{flex:5; min-width:10px}\n",
    ".flex-row .col6{flex:6; min-width:10px}\n",
    ".flex-row .col7{flex:7; min-width:10px}\n",
    ".vcent{display:flex; align-items:center; justify-content:center}\n",
    "</style>\n",
    "</div>"
   ]
  },
  {
   "cell_type": "markdown",
   "metadata": {
    "slideshow": {
     "slide_type": "skip"
    }
   },
   "source": [
    "# Objekte"
   ]
  },
  {
   "cell_type": "markdown",
   "metadata": {
    "slideshow": {
     "slide_type": "skip"
    }
   },
   "source": [
    "![](images/04c_Objects/mj_title.png)\n",
    "\n",
    "> The best way to predict the future is to invent it — and then encapsulate it in objects.\n",
    ">\n",
    "> - Alan Kay"
   ]
  },
  {
   "cell_type": "markdown",
   "metadata": {
    "slideshow": {
     "slide_type": "skip"
    }
   },
   "source": [
    "## <a href=\"/lec_slides/04c_Objects.slides.html\">Folien</a>\n",
    "<iframe src=\"/lec_slides/04c_Objects.slides.html\" width=\"750\" height=\"500\"></iframe>"
   ]
  },
  {
   "cell_type": "markdown",
   "metadata": {
    "slideshow": {
     "slide_type": "slide"
    },
    "tags": [
     "remove-cell"
    ]
   },
   "source": [
    "## Ablauf\n",
    "\n",
    "![](images/partA_6.svg)"
   ]
  },
  {
   "cell_type": "markdown",
   "metadata": {
    "slideshow": {
     "slide_type": "skip"
    }
   },
   "source": [
    "Objektorientierte Programmierung (OOP) ist ein Programmierparadigma das annimmt, dass ein Programm ausschließlich aus *Objekten* besteht, die miteinander kooperativ interagieren. Jedes Objekt verfügt über *Attribute* (Eigenschaften) und *Methoden*. Die Attribute definieren dabei über ihre Werte den Zustand eines Objektes, die Methoden die möglichen Zustandsänderungen (Handlungen) eines Objektes.\n",
    "\n",
    "Die Objektorientierung löst dabei einige Problem im Umgang mit sich oft wiederholenden Datenstrukturen in großen Programmen."
   ]
  },
  {
   "cell_type": "markdown",
   "metadata": {
    "slideshow": {
     "slide_type": "skip"
    }
   },
   "source": [
    "## Herausforderungen mit sich stark wiederholenden Datenstrukturen"
   ]
  },
  {
   "cell_type": "markdown",
   "metadata": {
    "slideshow": {
     "slide_type": "skip"
    }
   },
   "source": [
    "### Das syntaktische Problem"
   ]
  },
  {
   "cell_type": "markdown",
   "metadata": {
    "slideshow": {
     "slide_type": "skip"
    }
   },
   "source": [
    "Objekte werden verwendet, um festzulegen wie sich stark wiederholende Datenstrukturen gespeichert werden. Hierbei geht es darum, dass der Syntax der Datenstruktur eindeutig ist.\n",
    "\n",
    "Wächst das Programm an, so wächst auch die Menge der Variablen und Datenstrukturen\n",
    "-  zur Speicherung von Daten\n",
    "-  zur Kontrolle des Programmflusses\n",
    "-  zum Abspeichern von Zuständen\n",
    "-  zum Verarbeiten von Ein- und Ausgaben\n",
    "\n",
    "Dabei basieren die zugrundeliegenden Elemente meist auf sich wiederholenden Datenstrukturen. Analysiert man z.B. Baupläne oder Karten so verwaltet man viele Punkt-Koordinaten. Hierbei kann man allerdings eine Koordinate unterschiedlich z.B. als Tupel oder als Liste ausdrücken."
   ]
  },
  {
   "cell_type": "code",
   "execution_count": null,
   "metadata": {
    "slideshow": {
     "slide_type": "skip"
    }
   },
   "outputs": [],
   "source": [
    "point_1 = (54.083336, 12.108811)\n",
    "point_2 = [12.094167, 54.075211]"
   ]
  },
  {
   "cell_type": "markdown",
   "metadata": {
    "slideshow": {
     "slide_type": "skip"
    }
   },
   "source": [
    "Will man diese Punkte verarbeiten so ergeben sich ggf. Probleme da beide unterschiedliche Datentypen besitzen. Das ist das syntaktische Problem im Umgang mit Variablen in großen Programmen. Hier will man den Syntax der Datenstruktur definieren können."
   ]
  },
  {
   "cell_type": "markdown",
   "metadata": {
    "slideshow": {
     "slide_type": "skip"
    }
   },
   "source": [
    "### Das semantische Problem"
   ]
  },
  {
   "cell_type": "markdown",
   "metadata": {
    "slideshow": {
     "slide_type": "skip"
    }
   },
   "source": [
    "Objekte werden auch verwendet, um die Semantik von Werten einer Datenstrukturen eindeutig zu definieren.\n",
    "\n",
    "Haben wir uns z.B. darauf geeinigt, dass wir ein Punkt syntaktisch durch ein Tupel repräsentieren, so ist die Bedeutung der Werte dennoch nicht bekannt."
   ]
  },
  {
   "cell_type": "code",
   "execution_count": null,
   "metadata": {
    "slideshow": {
     "slide_type": "skip"
    }
   },
   "outputs": [],
   "source": [
    "point_1 = (54.083336, 12.108811)\n",
    "point_2 = (12.094167, 54.075211)"
   ]
  },
  {
   "cell_type": "markdown",
   "metadata": {
    "slideshow": {
     "slide_type": "skip"
    }
   },
   "source": [
    "Ein anderer Programmierer wird hier aber ggf. nicht die semantische Bedeutung verstehen. In diesem Beispiel kann man vermuten, dass der erste Wert die `x`-Koordinate ist und der zweite die `y`-Koordinate. Vieleicht ist es aber auch andersherum. Ggf. handelt es sich aber nicht um ein kartesisches Koordinatensystem, sondern um ein radiales. Um solche Unklarheiten zu beseitigen, will man der Datenstruktur eine klare semantische Definition geben, wo eindeutig ist, was die Werte bedeuten."
   ]
  },
  {
   "cell_type": "markdown",
   "metadata": {
    "slideshow": {
     "slide_type": "skip"
    }
   },
   "source": [
    "### Das Verhaltensproblem"
   ]
  },
  {
   "cell_type": "markdown",
   "metadata": {
    "slideshow": {
     "slide_type": "skip"
    }
   },
   "source": [
    "Objekte werden zudem verwendet, um die Funktionen zur Verarbeitung der Datenstrukturen direkt mit dieser zu bündeln, so dass die Datenstruktur nur jene Funktionen anbietet, welche auch sinnvoll anwendbar sind.\n",
    "\n",
    "Definieren wir z.B. eine Funktion, um die Distanz zweier Punkte zu berechnen:"
   ]
  },
  {
   "cell_type": "code",
   "execution_count": null,
   "metadata": {
    "editable": true,
    "slideshow": {
     "slide_type": "skip"
    },
    "tags": []
   },
   "outputs": [],
   "source": [
    "import math\n",
    "\n",
    "def distance(a, b):\n",
    "    return math.sqrt((a[0]-b[0])**2 + (a[1]-b[1])**2)"
   ]
  },
  {
   "cell_type": "markdown",
   "metadata": {
    "slideshow": {
     "slide_type": "skip"
    }
   },
   "source": [
    "Diese Funktion kann man aufgrund der dynamischen Typisierung in Python ja auch auf andere Datenstrukturen anwenden, z.B. auf eine Line. Das führt zu semantischen oder logischen Fehlern. Um das zu vermeiden, müsste man für jede Variante eine andere Funktion definieren, diese zuordbar benennen und viele Datentyp-Tests vornehmen. Einfacher ist es, sicher zu stellen, dass eine solche Funktion nur für die entsprechende Datenstruktur verfügbar ist."
   ]
  },
  {
   "cell_type": "markdown",
   "metadata": {
    "slideshow": {
     "slide_type": "skip"
    }
   },
   "source": [
    "## Objektorientierung"
   ]
  },
  {
   "cell_type": "markdown",
   "metadata": {
    "slideshow": {
     "slide_type": "skip"
    }
   },
   "source": [
    "## Klassen deklarieren"
   ]
  },
  {
   "cell_type": "markdown",
   "metadata": {
    "slideshow": {
     "slide_type": "skip"
    }
   },
   "source": [
    "Anstatt unübersichtlich viele verstreute Datenstrukturen und Funktionen zu benutzen, gruppieren wir diese in Objekte. \n",
    "Da wir die Datenstrukturen normieren wollen, muss wir die Struktur dieser Objekte vor Verwendung definiert werden. Dies geschieht über *Klassen*, welche eine Art Bauplan für die damit normierten Objekte darstellt. Eine Klasse definiert:\n",
    "\n",
    "-   welche Attribute (Eigenschaften) ein Objekt dieser Klasse besitzt\n",
    "-   und welche Methoden (Funktionen) ein Objekt der Klasse bereitstellt"
   ]
  },
  {
   "cell_type": "markdown",
   "metadata": {
    "slideshow": {
     "slide_type": "skip"
    }
   },
   "source": [
    "Der erste Schritt zu einem Objekt ist das Definieren einer neuen Klasse für den Typ des Objektes. Dies geschieht über den `class`-Kennwort auf welches der Klassenname folgt. Danach wird wie die Klassendefinition eingerückt. Diese legt fest welche Attribute und Methoden die Klasse besitzt."
   ]
  },
  {
   "cell_type": "code",
   "execution_count": null,
   "metadata": {
    "slideshow": {
     "slide_type": "skip"
    }
   },
   "outputs": [],
   "source": [
    "class Klassenname:\n",
    "    # Klassendefinition\n",
    "    pass"
   ]
  },
  {
   "cell_type": "markdown",
   "metadata": {
    "slideshow": {
     "slide_type": "skip"
    }
   },
   "source": [
    "### Konstruktor"
   ]
  },
  {
   "cell_type": "markdown",
   "metadata": {
    "slideshow": {
     "slide_type": "skip"
    }
   },
   "source": [
    "Eine der wichtigsten Methoden einer Klasse ist der Konstruktor `__init__()`. Das ist eine spezielle Methode, die festlegt, wie eine neue Instanz der Klasse erzeugt werden kann. Er wird genutzt, um Attribute initial zuzuweisen als auch Initialisierungsschritte (Tests, Berechnungen, Konfiguration, etc.) durchzuführen.\n",
    "\n",
    "Jede Klasse muss genau einen Konstruktor haben. Wird dieser nicht definiert, so wird ein leerer Konstruktor von Python erzeugt, der nichts macht, wie das folgende Beispiel."
   ]
  },
  {
   "cell_type": "code",
   "execution_count": null,
   "metadata": {
    "slideshow": {
     "slide_type": "skip"
    }
   },
   "outputs": [],
   "source": [
    "class Klassenname:\n",
    "    # Leerer Konstruktor\n",
    "    def __init__(self):\n",
    "        pass"
   ]
  },
  {
   "cell_type": "markdown",
   "metadata": {
    "slideshow": {
     "slide_type": "skip"
    }
   },
   "source": [
    "### Instanzattribute"
   ]
  },
  {
   "cell_type": "markdown",
   "metadata": {
    "slideshow": {
     "slide_type": "skip"
    }
   },
   "source": [
    "Der Konstruktor wird als Funktion `__init__(self)` mit dem Parameter `self` definiert. `self` ist dabei eine Selbst-Referenz auf die neue Instanz der Klasse. Sie dient dazu, dass man Instanzattribute direkt beim Erzeugen der Instanz zuweisen kann. *Instanzattribute* sind Attribute, die in jeder Instanz unterschiedlich sein können, also wenn es individuelle Werte der Eigenschaft gibt.\n",
    "\n",
    "Definieren wir z.B. die Klasse eines Punktes mit `x`- und `y`-Koordinaten. Da jede Instanz diese beiden Koordinaten haben muss und sie auch für jede Instanz unterschiedlich sein können, weisen wir sie bereits im Konstruktor als Instanzattribute zu. Damit ist festgelegt, dass jede Instanz der Klasse diese Attribute hat."
   ]
  },
  {
   "cell_type": "code",
   "execution_count": null,
   "metadata": {
    "slideshow": {
     "slide_type": "skip"
    }
   },
   "outputs": [],
   "source": [
    "class Point:\n",
    "    # Konstruktor\n",
    "    def __init__(self, x, y):\n",
    "        self.x = x\n",
    "        self.y = y"
   ]
  },
  {
   "cell_type": "markdown",
   "metadata": {
    "slideshow": {
     "slide_type": "skip"
    }
   },
   "source": [
    "Die Zuweisung erfolgt hierbei über den Punkt-Syntax bei dem ein Punkt die Instanzvariable (`self`) von dem Attributnamen `x` trennt. `self.x` ist somit eine Referenz auf das Attribut `x` der Instanz `self`. Die Zuweisung `self.x = x` bedeutet, dass wir dem neuen Instanzattribut `x` der Instanz `self` den Wert der Variablen `x` zuweise. Obwohl beide gleich heißen, sind sie nicht die gleiche Variable, weil `self.x` ja ein Attribut der Instanz ist und `x` ein Parameter der Funktion ist und nur in dieser gültig ist."
   ]
  },
  {
   "cell_type": "markdown",
   "metadata": {
    "slideshow": {
     "slide_type": "skip"
    }
   },
   "source": [
    "Da `__init__()` eine Funktion ist, wenn auch besonders, kann man auch Defaults definieren. Wollen wir z.B. definieren wir, dass `x` und `y` mit 0 initialisiert werden, wenn sie nicht angegeben werden, so können wir auch dies als Defaultwerte deklarieren"
   ]
  },
  {
   "cell_type": "code",
   "execution_count": null,
   "metadata": {
    "slideshow": {
     "slide_type": "skip"
    }
   },
   "outputs": [],
   "source": [
    "class Point:\n",
    "    # Konstruktor\n",
    "    def __init__(self, x = 0.0, y = 0.0):\n",
    "        self.x = x\n",
    "        self.y = y"
   ]
  },
  {
   "cell_type": "markdown",
   "metadata": {
    "slideshow": {
     "slide_type": "skip"
    }
   },
   "source": [
    "### Klassenattribute"
   ]
  },
  {
   "cell_type": "markdown",
   "metadata": {
    "slideshow": {
     "slide_type": "skip"
    }
   },
   "source": [
    "Neben Instanzattributen gibt es auch *Klassenattribute*. Dies sind Attribute, welche für alle Instanzen einer Klasse den gleichen Wert haben sollen. "
   ]
  },
  {
   "cell_type": "code",
   "execution_count": null,
   "metadata": {
    "slideshow": {
     "slide_type": "skip"
    }
   },
   "outputs": [],
   "source": [
    "class Point:\n",
    "    # Attribut aller Instanzen\n",
    "    unit = \"m\""
   ]
  },
  {
   "cell_type": "markdown",
   "metadata": {
    "slideshow": {
     "slide_type": "skip"
    }
   },
   "source": [
    ":::{warning}\n",
    "*Klassenattribute* gelten für alle Instanzen. Insbesondere bei zusammengesetzten Datentypen bedeutet das, wenn eine Instanz den Wert ändert, so ändert er sich in allen anderen Instanzen auch.\n",
    ":::"
   ]
  },
  {
   "cell_type": "markdown",
   "metadata": {
    "slideshow": {
     "slide_type": "skip"
    }
   },
   "source": [
    "### Methoden"
   ]
  },
  {
   "cell_type": "markdown",
   "metadata": {
    "slideshow": {
     "slide_type": "skip"
    }
   },
   "source": [
    "Klassen definieren häufig auch eigene Methoden, also Funktionen die speziell nur auf Instanzen dieser Klasse angewendet werden sollen und nicht auf andere Objekte.\n",
    "\n",
    "Methoden werden als Funktionen innerhalb der Einrückung der Klassendefinition deklariert. Diese Methoden sind dann in allen Instanzen verfügbar. Methoden besitzen immer `self` als ersten Parameter. Auch hier ist das eine Referenz auf die aktuelle Instanz. Dadurch kann man dann auf die Attribute oder andere Methoden zugreifen.\n",
    "\n",
    "So können wir zum Beispiel die am Anfang definierte `distance`-Funktion als Methode definieren, dass sie nun die Distanz zweier Punkte `self` und `other` berechnen."
   ]
  },
  {
   "cell_type": "code",
   "execution_count": null,
   "metadata": {
    "editable": true,
    "slideshow": {
     "slide_type": "skip"
    },
    "tags": []
   },
   "outputs": [],
   "source": [
    "class Point:\n",
    "    # Attribut aller Instanzen\n",
    "    unit = \"m\"\n",
    "    \n",
    "    # Konstruktor\n",
    "    def __init__(self, x, y):\n",
    "        self.x = x\n",
    "        self.y = y\n",
    "\n",
    "    # Eigene Methode\n",
    "    def distance(self, other):\n",
    "        return math.sqrt((self.x - other.x)**2 + (self.y - other.y)**2)"
   ]
  },
  {
   "cell_type": "markdown",
   "metadata": {
    "slideshow": {
     "slide_type": "skip"
    }
   },
   "source": [
    "## Klasseninstanzen"
   ]
  },
  {
   "cell_type": "markdown",
   "metadata": {
    "slideshow": {
     "slide_type": "skip"
    }
   },
   "source": [
    "Objekte selbst sind immer Instanzen einer Klasse (die Klasse ist ja nur ein Bauplan). Eine Klasse kann beliebig viele Instanzen haben oder gar keine. Alle Instanzen sind gleich aufgebaut, besitzen aber nicht unbedingt die gleiche Werte in den Attributen.\n",
    "\n",
    "Mit der neuen Klasse `Punkt` können wir nun die Punkte am Anfang jetzt syntaktisch, semantisch und im Verhalten eindeutig definieren. Dabei erzeugen wir Instanzen der Klasse nicht direkt mit dem Konstruktor sondern indem wir den Klassennahmen wie eine Funktion aufrufen, mit den Parametern des Konstruktors. Dabei wird der `self`-Parameter weggelassen (er wird von Python zugewiesen).\n",
    "\n",
    "Dabei können wir die Parameter auch bennenen und so semantische Unklarheiten umgehen."
   ]
  },
  {
   "cell_type": "code",
   "execution_count": null,
   "metadata": {
    "slideshow": {
     "slide_type": "skip"
    }
   },
   "outputs": [],
   "source": [
    "point_1 = Point(x=54.083336, y=12.108811)\n",
    "point_2 = Point(y=12.094167, x=54.075211) # bei bennanten Parametern können wir die Reihenfolge verändern"
   ]
  },
  {
   "cell_type": "markdown",
   "metadata": {
    "slideshow": {
     "slide_type": "skip"
    }
   },
   "source": [
    "Auch die Werte des Objektes sind nun semantisch klar definiert. Wir können auf sie mit dem Punkt-Syntax zugreifen, wobei der Variablenname des Objektes links steht und der Attributname rechts. Um auf das Attribut `x` zuzugreifen schreiben wir"
   ]
  },
  {
   "cell_type": "code",
   "execution_count": null,
   "metadata": {
    "slideshow": {
     "slide_type": "skip"
    }
   },
   "outputs": [],
   "source": [
    "point_1.x"
   ]
  },
  {
   "cell_type": "markdown",
   "metadata": {
    "slideshow": {
     "slide_type": "skip"
    }
   },
   "source": [
    "Das funktioniert auch für die Klassenattribute. In voller Schönheit können wir dann z.B. schreiben"
   ]
  },
  {
   "cell_type": "code",
   "execution_count": null,
   "metadata": {
    "slideshow": {
     "slide_type": "skip"
    }
   },
   "outputs": [],
   "source": [
    "print(f\"Der Punkt liegt bei x: {point_1.x} {point_1.unit}; y: {point_1.y} {point_1.unit}\")"
   ]
  },
  {
   "cell_type": "markdown",
   "metadata": {
    "slideshow": {
     "slide_type": "skip"
    }
   },
   "source": [
    "In gleicher Weise können wir den Attributen neue Werte zuweisen."
   ]
  },
  {
   "cell_type": "code",
   "execution_count": null,
   "metadata": {
    "slideshow": {
     "slide_type": "skip"
    }
   },
   "outputs": [],
   "source": [
    "point_1.x = 54.08\n",
    "point_1.y = 12.11"
   ]
  },
  {
   "cell_type": "code",
   "execution_count": null,
   "metadata": {
    "slideshow": {
     "slide_type": "skip"
    }
   },
   "outputs": [],
   "source": [
    "print(f\"Der Punkt liegt bei x: {point_1.x} {point_1.unit}; y: {point_1.y} {point_1.unit}\")"
   ]
  },
  {
   "cell_type": "markdown",
   "metadata": {
    "slideshow": {
     "slide_type": "skip"
    }
   },
   "source": [
    "Mit dem Punkt-Syntax können wir auch die Methoden aufrufen. Wollen wir die Distanz von `point_1` und `point_2` berechnen, so schreiben wir"
   ]
  },
  {
   "cell_type": "code",
   "execution_count": null,
   "metadata": {
    "slideshow": {
     "slide_type": "skip"
    }
   },
   "outputs": [],
   "source": [
    "point_1.distance(point_2)"
   ]
  },
  {
   "cell_type": "markdown",
   "metadata": {
    "slideshow": {
     "slide_type": "skip"
    }
   },
   "source": [
    "## Referenzen"
   ]
  },
  {
   "cell_type": "markdown",
   "metadata": {
    "slideshow": {
     "slide_type": "skip"
    }
   },
   "source": [
    "In Programmen stehen Objekte meist im Zusammenhang. Z.B. besteht eine Linie aus zwei Punkten. Diesen Zusammenhang zweier Objekt-Klassen bezeichnet man als Referenz. Diesen Zusammenhang zweier Objekt-Klassen bezeichnet man als Referenz."
   ]
  },
  {
   "cell_type": "markdown",
   "metadata": {
    "slideshow": {
     "slide_type": "skip"
    }
   },
   "source": [
    "Um Referenzen in Python zu erstellen, erstellt man einfach ein Attribut vom Datentyp des anderen Objektes. So kann eine Linie als Verbindung zweier Punkte definiert werden mit der Länge berechnet durch die zuvor definierte Methode `distance`."
   ]
  },
  {
   "cell_type": "code",
   "execution_count": null,
   "metadata": {
    "slideshow": {
     "slide_type": "skip"
    }
   },
   "outputs": [],
   "source": [
    "class Line:\n",
    "    def __init__(self, start: Point, end: Point):\n",
    "        self.start = start\n",
    "        self.end = end\n",
    "\n",
    "    def length(self):\n",
    "        return self.start.distance(self.end)"
   ]
  },
  {
   "cell_type": "code",
   "execution_count": null,
   "metadata": {
    "slideshow": {
     "slide_type": "skip"
    }
   },
   "outputs": [],
   "source": [
    "linie_1 = Line(start=point_1, end=point_2)"
   ]
  },
  {
   "cell_type": "code",
   "execution_count": null,
   "metadata": {
    "slideshow": {
     "slide_type": "skip"
    }
   },
   "outputs": [],
   "source": [
    "linie_1.length()"
   ]
  },
  {
   "cell_type": "markdown",
   "metadata": {
    "slideshow": {
     "slide_type": "skip"
    }
   },
   "source": [
    "## Kapzelung von Attributen und Methoden"
   ]
  },
  {
   "cell_type": "markdown",
   "metadata": {
    "slideshow": {
     "slide_type": "skip"
    }
   },
   "source": [
    "Häufig möchte man in der Programmierung Kontrolle darüber haben ob und wie Attribute verändert werden und wer welche Methoden aufrufen darf.\n",
    "\n",
    "Hierfür erlaubt Python die Unterscheidung in *private*, *protected* und *public* Attribute und Methoden. Wenn nicht anders festgelegt sind alle Attribute und Methoden *public*. Ein *public* Attribut oder Methode ist außerhalb der Klasse für alle sichtbar, lesbar und veränderbar. Das haben wir oben genutzt um oben `point_1.x` auszulesen und mit `point_1.x = 54.08` einen neuen Wert zuzuweisen. Damit diese Attribute oder Methoden nicht mehr zugreifbar sind müssen wir sie als *private* oder *protected* deklarieren, womit sie nur innerhalb der Klasse (*private*) oder Unterklasse (*protected*) über `self` zugreifbar sind. Um ein Attribut oder Methode als privat zu deklarieren fügen wir dem Namen ein `__` am Anfang hinzu oder ein `_` für protected.\n",
    "\n",
    "Zum Beispiel wollen wir sicherstellen, dass die Position des Objektes `Point` nach Erstellung nicht mehr veränderbar ist. Ein solches unveränderliches Objekt nennt man *immutable*. Ein Grund dafür kann sein, dass eine Änderung Inkonsistenzen und potenzielle Fehler erzeugen würden. Wollen wir z.B. ein Rechteck aus den Punkten erzeugen, so müssen wir in der Init-Funktion prüfen, ob alle Linien rechtwinklig sind. Wären die Punkte verschiebbar, so müssten wir bei einer Änderung entweder neu prüfen oder wir verbieten die Veränderung einfach.\n",
    "\n",
    "Um sicher zu stellen, dass niemand mehr die Koordinaten ändern kann, müssen wir `x` und `y` als privat zu deklarieren, indem wir sie in `__x` und `__y` benennen. Jetzt kann aber niemand außerhalb der Instanz die Werte lesen. Um das zu ermöglichen definieren wir zwei public Getter-Methoden `get_x()` und `get_y()` die nur den Wert zurück geben. Sollten wir den Wert veränderbar machen, müssten wir auch noch Setter-Methoden definieren, welche die Werte setzen würden. "
   ]
  },
  {
   "cell_type": "code",
   "execution_count": null,
   "metadata": {
    "editable": true,
    "slideshow": {
     "slide_type": "skip"
    },
    "tags": []
   },
   "outputs": [],
   "source": [
    "class ImmutablePoint:\n",
    "    unit = \"m\"\n",
    "    \n",
    "    def __init__(self, x, y):\n",
    "        self.__x = x\n",
    "        self.__y = y\n",
    "\n",
    "    def distance(self, other):\n",
    "        return math.sqrt((self.__x - other.__x)**2 + (self.__y - other.__y)**2)\n",
    "\n",
    "    def get_x(self):\n",
    "        return self.__x\n",
    "\n",
    "    def get_y(self):\n",
    "        return self.__y"
   ]
  },
  {
   "cell_type": "markdown",
   "metadata": {
    "slideshow": {
     "slide_type": "skip"
    }
   },
   "source": [
    "Definieren wir nun wieder unsere zwei Instanzen"
   ]
  },
  {
   "cell_type": "code",
   "execution_count": null,
   "metadata": {
    "slideshow": {
     "slide_type": "skip"
    }
   },
   "outputs": [],
   "source": [
    "point_1 = ImmutablePoint(54.083336, 12.108811)"
   ]
  },
  {
   "cell_type": "markdown",
   "metadata": {
    "slideshow": {
     "slide_type": "skip"
    }
   },
   "source": [
    "und versuchen den Wert `__x` oder `__y` zu lesen, so erhalten wir nun eine Fehlermeldung. "
   ]
  },
  {
   "cell_type": "code",
   "execution_count": null,
   "metadata": {
    "slideshow": {
     "slide_type": "skip"
    },
    "tags": [
     "raises-exception"
    ]
   },
   "outputs": [],
   "source": [
    "print(f\"Der Punkt liegt bei x: {point_1.__x} {point_1.unit}; y: {point_1.__y} {point_1.unit}\")"
   ]
  },
  {
   "cell_type": "markdown",
   "metadata": {
    "slideshow": {
     "slide_type": "skip"
    }
   },
   "source": [
    "Zum Auslesen der Werte müssen wir stattdessen die Getter-Methode benutzen."
   ]
  },
  {
   "cell_type": "code",
   "execution_count": null,
   "metadata": {
    "slideshow": {
     "slide_type": "skip"
    }
   },
   "outputs": [],
   "source": [
    "print(f\"Der Punkt liegt bei x: {point_1.get_x()} {point_1.unit}; y: {point_1.get_y()} {point_1.unit}\")"
   ]
  },
  {
   "cell_type": "markdown",
   "metadata": {
    "slideshow": {
     "slide_type": "skip"
    }
   },
   "source": [
    "Wir können die Werte auch nicht verändern. Wir können es zwar versuchen:"
   ]
  },
  {
   "cell_type": "code",
   "execution_count": null,
   "metadata": {
    "slideshow": {
     "slide_type": "skip"
    }
   },
   "outputs": [],
   "source": [
    "point_1.__x = 54.08\n",
    "point_1.__y = 12.11"
   ]
  },
  {
   "cell_type": "markdown",
   "metadata": {
    "slideshow": {
     "slide_type": "skip"
    }
   },
   "source": [
    "aber es hat keine Auswirkung."
   ]
  },
  {
   "cell_type": "code",
   "execution_count": null,
   "metadata": {
    "slideshow": {
     "slide_type": "skip"
    }
   },
   "outputs": [],
   "source": [
    "print(f\"Der Punkt liegt bei x: {point_1.get_x()} {point_1.unit}; y: {point_1.get_y()} {point_1.unit}\")"
   ]
  },
  {
   "cell_type": "markdown",
   "metadata": {
    "slideshow": {
     "slide_type": "skip"
    }
   },
   "source": [
    "## Vererbung, Generalisierung und Polymorphismus"
   ]
  },
  {
   "cell_type": "markdown",
   "metadata": {
    "slideshow": {
     "slide_type": "skip"
    }
   },
   "source": [
    "Vererbung ist eine der wichtigsten Eigenschaften von Objektorientierung. Ziel der Vererbung ist es Attribute und Methoden, die in vielen ähnlichen Klassen vorkommen nur einmal definieren zu müssen. \n",
    "\n",
    "Hierfür unterteilt man die Klassen in *Oberklassen* (Eltern) welche Attribute und Methoden an *Unterklassen* (Kinder) vererben. Das heißt jede Unterklasse (Kind) besitzt alle Attribute und Methoden der Oberklasse (Eltern), wir müssen sie also nicht noch einmal definieren. Neue Attribute und Methoden, die für eine Unterklasse definiert werden, werden jedoch nicht an die Eltern oder Geschwister übertragen. Deshalb spricht man bei den Unterklassen von einer *Spezialisierung* und den Oberklassen von einer *Generalisierung*, da sie für mehrere Klassen gelten.\n",
    "\n",
    "Zum Beispiel stellen wir fest, dass verschiedenen geometrischen Objekte wie Dreieck, Viereck, Fünfeck, etc. alle Polygone darstellen, welche sich aus mit Linien verbundene Punkte darstellen. Dreieck, Viereck, Fünfeck sind hierbei Spezialisierungen der Klasse Polygon. Wir definieren also zuerst die generische Klasse `Polygon` welche als Instanzattribut eine `list` von mehr als 2 `ImmutablePoint` akzeptiert und als privates Attribut `__points` abspeichert. Wir definieren weiterhin ein optionales Attribut `name` welches public und veränderbar ist."
   ]
  },
  {
   "cell_type": "code",
   "execution_count": null,
   "metadata": {
    "slideshow": {
     "slide_type": "skip"
    }
   },
   "outputs": [],
   "source": [
    "from typing import List\n",
    "\n",
    "class Polygon:\n",
    "    def __init__(self, points: List[Point], name=\"Polygon\"):\n",
    "        if not isinstance(points, list):\n",
    "            raise TypeError(\"points not of type list\")\n",
    "        if not len(points) > 2:\n",
    "            raise TypeError(\"points need to contain at least 2 Points\")\n",
    "        for point in points:\n",
    "            if not isinstance(point, ImmutablePoint):\n",
    "                raise TypeError(\"Point not of type ImmutablePoint\")\n",
    "        self.__points = points\n",
    "        self.name = name\n",
    "\n",
    "    def get_points(self):\n",
    "        return self.__points\n",
    "\n",
    "    # Fläche des Polygons entsprechend der Gaußsche Trapezformel\n",
    "    def area(self):\n",
    "        n = len(self.__points) # of corners\n",
    "        area = 0.0\n",
    "        for i in range(n):\n",
    "            j = (i + 1) % n\n",
    "            area += self.__points[i].get_x() * self.__points[j].get_y()\n",
    "            area -= self.__points[j].get_x() * self.__points[i].get_y()\n",
    "        area = abs(area) / 2.0\n",
    "        return area\n",
    "\n",
    "    # Überschriebene Standardmethode zur Erzeugung eines Strings\n",
    "    def __str__(self):\n",
    "        description = f\"{self.name} has an area of {self.area()} and is defined by\\n\" # \\n ist ein Zeilenumbruch\n",
    "        for i,point in enumerate(self.__points):\n",
    "            description += f\"  Point {i} at x: {point.get_x()} {point.unit}; y: {point.get_y()} {point.unit}\\n\"\n",
    "        return description"
   ]
  },
  {
   "cell_type": "markdown",
   "metadata": {
    "slideshow": {
     "slide_type": "skip"
    }
   },
   "source": [
    "Hierbei überschreiben wir auch die Standardmethode `__str__(self)` eines Objektes, welche immer aufgerufen wird, wenn das Objekt in einen String konvertiert werden soll. Die Funktion wird auch von der `print()`-Anweisung genutzt, weshalb wir diese lesbarer gestalten können. Dieses Fähigkeit des Überschreiben von Methoden nennt man *Polymorphismus* oder auch *Methodenüberladung* (Overloading). Damit haben wir alle Programmierparadigmen der Objektorientierung kennen gelernt."
   ]
  },
  {
   "cell_type": "markdown",
   "metadata": {
    "slideshow": {
     "slide_type": "skip"
    }
   },
   "source": [
    "| Vererbung | Generalisierung | Polymorphismus | Kapzelung |\n",
    "|--|--|-|--|\n",
    "| Attribute und Methoden von Elternklassen werden an Kinder vererbt. Das hilft Redundanzen und Fehler zu vermeiden. | Gemeinsamkeiten werden in generalisierten Eltern-Klassen implementiert | Kinderklassen können Methoden überschreiben und somit umdefinieren. | Kapselung von Daten und Methoden in Objekten ist ein Schutzmechanismus, um schadhafte Änderungen einzuschränken.  |"
   ]
  },
  {
   "cell_type": "markdown",
   "metadata": {
    "slideshow": {
     "slide_type": "skip"
    }
   },
   "source": [
    "\n",
    "Wir definieren auch die Funktion `area()` welches die Fläche des Polygons (konkav und ohne Löcher) mit der [Gaußchen Trapezformel](https://de.wikipedia.org/wiki/Gau%C3%9Fsche_Trapezformel) berechnet."
   ]
  },
  {
   "cell_type": "markdown",
   "metadata": {
    "slideshow": {
     "slide_type": "skip"
    }
   },
   "source": [
    "Jetzt wollen wir die Untertypen Dreieck, Viereck und Fünfeck definieren. Hierzu geben wir beim Deklarieren der neuen Klasse die Oberklasse in Klammern mit an. Wir können dann auch einen neuen Konstruktor definieren (sonst wird der der Oberklasse genommen). Dabei müssen wir immer den Konstruktor der Oberklasse mit aufrufen, welche wir mit der Funktion `super()` erhalten. Wir definieren z.B Konstruktoren welche genau die richtige Anzahl an Punkten akzeptiert."
   ]
  },
  {
   "cell_type": "code",
   "execution_count": null,
   "metadata": {
    "slideshow": {
     "slide_type": "skip"
    }
   },
   "outputs": [],
   "source": [
    "class Triangle(Polygon):\n",
    "    def __init__(self, p1, p2, p3, name= \"Triangle\"):\n",
    "        super().__init__(points=[p1, p2, p3], name=name)\n",
    "\n",
    "class Tetragon(Polygon):\n",
    "    def __init__(self, p1, p2, p3, p4, name= \"Tetragon\"):\n",
    "        super().__init__(points=[p1, p2, p3, p4], name=name)\n",
    "\n",
    "class Pentagon(Polygon):\n",
    "    def __init__(self, p1, p2, p3, p4, p5, name=\"Pentagon\"):\n",
    "        super().__init__(points=[p1, p2, p3, p4, p5], name=name)\n"
   ]
  },
  {
   "cell_type": "markdown",
   "metadata": {
    "slideshow": {
     "slide_type": "skip"
    }
   },
   "source": [
    "Das entscheidende bei der Vererbung ist nun, dass alle Instanzen von `Triangle`, `Tetragon` oder `Pentagon` die Attribute `__points` (es ist allerdings nicht sichtbar), `name` und die Methoden `get_points` und `__str__` haben.\n",
    "\n",
    "Definieren wir z.B. ein Dreieck und wenden darauf `print()` an, so wird intern die geerbte Funktion `__str__` der Oberklasse `Polygon` angewendet."
   ]
  },
  {
   "cell_type": "code",
   "execution_count": null,
   "metadata": {
    "slideshow": {
     "slide_type": "skip"
    }
   },
   "outputs": [],
   "source": [
    "dreieck_1 = Triangle(ImmutablePoint(0,0), ImmutablePoint(1,1),ImmutablePoint(2,0), \"Dreieck\")\n",
    "print(dreieck_1)\n",
    "dreieck_1.area()"
   ]
  },
  {
   "cell_type": "markdown",
   "metadata": {
    "slideshow": {
     "slide_type": "skip"
    }
   },
   "source": [
    "Das Gleiche funktioniert auch für Vierecke und Fünfecke:"
   ]
  },
  {
   "cell_type": "code",
   "execution_count": null,
   "metadata": {
    "slideshow": {
     "slide_type": "skip"
    }
   },
   "outputs": [],
   "source": [
    "viereck_1 = Tetragon(ImmutablePoint(0,0), ImmutablePoint(0,1),ImmutablePoint(1,1), ImmutablePoint(1,0), \"Viereck\")\n",
    "print(viereck_1)\n",
    "viereck_1.area()"
   ]
  },
  {
   "cell_type": "code",
   "execution_count": null,
   "metadata": {
    "editable": true,
    "slideshow": {
     "slide_type": "skip"
    },
    "tags": []
   },
   "outputs": [],
   "source": [
    "fuenfeck_1 = Pentagon(ImmutablePoint(0,0), ImmutablePoint(-1,1),ImmutablePoint(1,2), ImmutablePoint(2,1), ImmutablePoint(2,0), \"Fünfeck\")\n",
    "print(fuenfeck_1)\n",
    "fuenfeck_1.area()"
   ]
  },
  {
   "cell_type": "markdown",
   "metadata": {
    "editable": true,
    "slideshow": {
     "slide_type": "slide"
    },
    "tags": [
     "remove-cell"
    ]
   },
   "source": [
    "## Zielsetzung\n",
    "\n",
    "- Lernen der Grundidee der Objektorientierung  \n",
    "- Ein grundsätzliches Verständnis der Programmierung mit Objekten  \n",
    "- Datentypen vs. Klassen  \n",
    "- Funktionen vs. Methoden\n",
    "\n",
    "- Einführung in erweiterte Konzepte wie z.B. Vererbung"
   ]
  },
  {
   "cell_type": "markdown",
   "metadata": {
    "slideshow": {
     "slide_type": "slide"
    },
    "tags": [
     "remove-cell"
    ]
   },
   "source": [
    "## Objektorientierte Programmierung\n",
    "\n",
    "<div class=\"alert alert-block alert-success\">\n",
    "<b>📘 Definition: Objektorientierte Programmierung</b>\n",
    "\n",
    "Objektorientierte Programmierung (OOP) ist ein Programmierparadigma das annimmt, dass ein Programm ausschließlich aus Objekten besteht, die miteinander kooperativ interagieren.\n",
    "</div>\n",
    "\n",
    "Jedes Objekt verfügt über:\n",
    "- *Attribute* (Eigenschaften): Definiert den Wert  über den Zustand eines Objektes.\n",
    "- *Methoden* definieren die möglichen Zustandsänderungen (Handlungen) eines Objektes."
   ]
  },
  {
   "cell_type": "markdown",
   "metadata": {
    "slideshow": {
     "slide_type": "subslide"
    },
    "tags": [
     "remove-cell"
    ]
   },
   "source": [
    "## Warum Objekte – Das syntaktische Problem wiederholter Datenstrukturen\n",
    "\n",
    "- Objekte werden verwendet, um festzulegen wie sich wiederholen Datenstrukturen gespeichert werden.\n",
    "\n",
    "- Wächst das Programm an, so wächst auch die Menge der Variablen und Datenstrukturen\n",
    "    - zur Speicherung von Daten\n",
    "    - zur Kontrolle des Programmflusses\n",
    "    - zum Abspeichern von Zuständen\n",
    "    - zum Verarbeiten von Ein- und Ausgaben\n",
    "- Die zugrundeliegenden Elemente basieren meist auf sich wiederholenden Datenstrukturen. \n",
    "- Z.B. Punkt-Koordinaten in Baupläne oder Karten könnte man als Tupel oder Liste ausdrücken.\n",
    "\n",
    "```python\n",
    "punkt_1 = (54.083336, 12.108811) # Was ist der richtige Syntax?\n",
    "punkt_2 = [12.108811, 54.083336]\n",
    "```"
   ]
  },
  {
   "cell_type": "markdown",
   "metadata": {
    "slideshow": {
     "slide_type": "subslide"
    },
    "tags": [
     "remove-cell"
    ]
   },
   "source": [
    "## Warum Objekte – Das semantische Problem wiederholter Datenstrukturen\n",
    "\n",
    "- Objekte werden auch verwendet, um die Semantik von Werten einer Datenstruktur eindeutig zu definieren.\n",
    "\n",
    "- Haben wir uns z.B. darauf geeinigt, dass wir ein Punkt syntaktisch durch ein Tupel repräsentieren, so ist die Bedeutung der Werte dennoch nicht bekannt\n",
    "\n",
    "```python\n",
    "punkt_1 = (54.083336, 12.108811) # Was ist die Semantik dieser Werte?\n",
    "punkt_2 = (12.108811, 54.083336) # Also was ist Latitude, was Longitude?\n",
    "```"
   ]
  },
  {
   "cell_type": "markdown",
   "metadata": {
    "editable": true,
    "slideshow": {
     "slide_type": "subslide"
    },
    "tags": [
     "remove-cell"
    ]
   },
   "source": [
    "## Warum Objekte – Das Verhaltensproblem wiederholter Datenstrukturen\n",
    "\n",
    "- Objekte bündeln Funktionen und Datenstrukturen.\n",
    "\n",
    "- Eine Distanzfunktion kann auf falsche Datenstrukturen angewendet werden, z.B. auf Linien statt Punkte.\n",
    "\n",
    "```python\n",
    "def distanz(a, b):\n",
    "    return math.sqrt((a[0]-b[0])**2 + (a[1]-b[1])**2)\n",
    "\n",
    "punkt_1 = (54.083336, 12.108811)\n",
    "punkt_2 = (12.108811, 54.083336)\n",
    "\n",
    "distanz(punkt_1, punkt_2)\n",
    "\n",
    "linie_1 = [(54.08, 12.11), (54.10, 12.11)]\n",
    "linie_2 = [(12.11, 54.08), (12.20, 54.10)]\n",
    "\n",
    "distanz(linie_1, linie_2)\n",
    "```"
   ]
  },
  {
   "cell_type": "markdown",
   "metadata": {
    "slideshow": {
     "slide_type": "slide"
    },
    "tags": [
     "remove-cell"
    ]
   },
   "source": [
    "## Grundlagen der Objektorientierung\n",
    "\n",
    "- Anstatt unübersichtlich viele verstreute Datenstrukturen und Funktionen zu benutzen, gruppieren wir diese in Objekte.\n",
    "\n",
    "- Die Struktur dieser Objekte wird in Form von *Klassen* definiert, welche eine Art Bauplan darstellt. Eine Klasse definiert:\n",
    "    - welche *Attribute* (Variablen / Eigenschaften) ein Objekt dieser Klasse besitzt.\n",
    "    - welche *Methoden* (Funktionen) ein Objekt der Klasse bereit stellt"
   ]
  },
  {
   "cell_type": "markdown",
   "metadata": {
    "slideshow": {
     "slide_type": "subslide"
    },
    "tags": [
     "remove-cell"
    ]
   },
   "source": [
    "## Klassen und Instanzen\n",
    "\n",
    "- Objekte sind *Instanzen* einer Klasse (die Klasse ist ja nur ein Bauplan). \n",
    "- Eine Klasse kann beliebig viele Instanzen haben. \n",
    "- Alle Instanzen sind gleich aufgebaut\n",
    "- Instanzen besitzen aber nicht unbedingt die gleichen Werte in den Attributen.\n",
    "\n",
    "<div class=\"flex-row\">\n",
    "<div class=\"col1\">\n",
    "\n",
    "![](https://mermaid.ink/svg/pako:eNp9kT1vgzAQhv-KdTNBODh8eOjQdkFtl6pT4wwWNmAJ7MiYfoTw32sgZKyX8z3vvXfS3QilERIoVK35LhtuHXr8YBr599LyvpfHNZyYXqlQVpZOGY1e31dS4GOhe8f1BeHTDek70ndngdFu93BVvUOb-GX09TZnM_5XAwHUVgmgzg4ygE7ajs8pjLObgWtkJxlQ_xWy4kPrGDA9eduZ609jus1pzVA3QCve9j4bzoI7-ax4bXl3p1ZqIe2TGbQDSiKyNAE6wg9QHCchjj3MSIJzTKIkgN-5KtyTPM8TnB3iaJ_GZArgssyNwiydJS_gPI3IwfeTQjlj39b9L2eY_gD5vnxs)\n",
    "\n",
    "</div>\n",
    "<div class=\"col1\">\n",
    "\n",
    "![](https://mermaid.ink/svg/pako:eNp9kTtvgzAQgP8KupkgG8zDHjq0XaK2UlV1aslgYQNWwY6M6SOE_15eyRhPvu_uu5PuBiiMkMCgbMxPUXPrvPv3XHvTe2p418nP115_uUOuVyiUlYVTRnvPbyvZ47XEw4cN6A3oq7XH3m53d1adm7Kd4_rkfRt93kZctFs14ENllQDmbC99aKVt-RzCMNs5uFq2Mgc2fYUsed-4HHI9TtqR6w9j2otpTV_VwEredFPUHwV38lHxyvL2Sq3UQtoH02sHLEZoaQJsgF9gOEoCHBFEMpJgiglKfPgDRlAQEkppgrM4QmEakdGH0zIXBVk6p2iYJDSNaIx9kEI5Y1_W1S8XGP8BBLJ6eQ)\n",
    "\n",
    "</div>\n",
    "</div>"
   ]
  },
  {
   "cell_type": "markdown",
   "metadata": {
    "slideshow": {
     "slide_type": "subslide"
    },
    "tags": [
     "remove-cell"
    ]
   },
   "source": [
    "## Objektorientierung in Python\n",
    "\n",
    "- Python ist von Grund auf objektorientiert – ein Fakt den wir bisher ignoriert haben\n",
    "\n",
    "- Alle Datentypen in Python sind Objekte (deshalb haben sie ja auch eigene Methoden)\n",
    "- Selbst definierte Klassen sind immer ein zusammengesetzter (komplexer) Datentyp\n",
    "    - Jeder Datentyp hat: Wert, Typ, Identität\n",
    "    - Variablen sind Referenzen"
   ]
  },
  {
   "cell_type": "markdown",
   "metadata": {
    "slideshow": {
     "slide_type": "slide"
    },
    "tags": [
     "remove-cell"
    ]
   },
   "source": [
    "## Klassen definieren\n",
    "\n",
    "Der erste Schritt zu einem Objekt ist das Definieren einer neuen Klasse für den Typ des Objektes. Dies geschieht über das `class`-Kennwort:\n",
    "\n",
    "```python\n",
    "class Klassenname:\n",
    "    # Klassendefinition\n",
    "```"
   ]
  },
  {
   "cell_type": "markdown",
   "metadata": {
    "slideshow": {
     "slide_type": "subslide"
    },
    "tags": [
     "remove-cell"
    ]
   },
   "source": [
    "## Konstruktoren mit der init-Methode\n",
    "\n",
    "Der Konstruktor `__init__()` ist eine spezielle Methode, die festlegt wie eine neue Instanz der Klasse erzeugt wird.\n",
    "\n",
    "```python\n",
    "class Punkt:\n",
    "    # Konstruktor\n",
    "    def __init__(self, x, y):\n",
    "        self.x = x\n",
    "        self.y = y\n",
    "```\n",
    "\n",
    "- `self` beschreibt eine Selbst-Referenz auf die neue Instanz der Klasse\n",
    "- Auf die Attribute einer Instanz kann durch den Punkt-Syntax zugegriffen werden\n",
    "- `self.x` ist somit eine Referenz auf das Attribut x der Instanz\n",
    "- `self.x = x` bedeutet dass wir den Wert der Variablen x dem neuen Instanzattribut x zuweisen\n",
    "- Da `__init__` eine Funktion ist, kann man auch Defaults definieren"
   ]
  },
  {
   "cell_type": "markdown",
   "metadata": {
    "slideshow": {
     "slide_type": "subslide"
    },
    "tags": [
     "remove-cell"
    ]
   },
   "source": [
    "## Instanzen erzeugen\n",
    "\n",
    "Instanzen der Klasse werden erzeugt indem der Klassenname wie ein Funktionsname benutzt wird.\n",
    "\n",
    "Um Instanzen zu erstellen wird der Klassenname wie ein Funktionsname benutzt (dies ruft den Konstruktor impliziert auf). Hierbei wird der `self`-Parameter nicht mit angegeben.\n",
    "\n",
    "```python\n",
    "punkt_1 = Punkt(54.083336, 12.108811)\n",
    "punkt_2 = Punkt(12.108811, 54.083336)\n",
    "```"
   ]
  },
  {
   "cell_type": "markdown",
   "metadata": {
    "slideshow": {
     "slide_type": "subslide"
    },
    "tags": [
     "remove-cell"
    ]
   },
   "source": [
    "## Attribute auf Instanzebene\n",
    "\n",
    "- Instanzattribute können in jeder Instanz unterschiedlich sein\n",
    "- Ändert eine Instanz das Attribut, so wirkt sich die Änderung nicht auf andere Instanzen aus (Isolierung)\n",
    "- Sie werden in dem Konstruktor `__init__` definiert\n",
    "\n",
    "```python\n",
    "class Punkt:\n",
    "    # Konstruktor\n",
    "    def __init__(self, x, y):\n",
    "        self.x = x\n",
    "        self.y = y\n",
    "```"
   ]
  },
  {
   "cell_type": "markdown",
   "metadata": {
    "slideshow": {
     "slide_type": "subslide"
    },
    "tags": [
     "remove-cell"
    ]
   },
   "source": [
    "## Attribute auf Klassenebene\n",
    "\n",
    "- Klassenattribute sind Attribute welche für alle Instanzen einer Klasse den gleichen Wert haben\n",
    "- Sie werden unter dem `class`-Kennwort wie eine Variable definiert\n",
    "- *Wichtig!* Sie gelten für alle Instanzen, wenn also eine Instanz den Wert ändert, so ändert er sich in allen anderen Instanzen\n",
    "\n",
    "```python\n",
    "class Punkt:\n",
    "    # Attribut aller Instanzen\n",
    "    einheit = \"m\"\n",
    "```"
   ]
  },
  {
   "cell_type": "markdown",
   "metadata": {
    "editable": true,
    "slideshow": {
     "slide_type": "subslide"
    },
    "tags": [
     "remove-cell"
    ]
   },
   "source": [
    "## Methoden\n",
    "\n",
    "- Methoden werden wie Funktionen mit dem Schlüsselwort `def` definiert, auf der gleichen Ebene eingerückt wie die Klasse\n",
    "- Diese Methoden sind dann in allen Instanzen verfügbar\n",
    "- Methoden besitzen immer `self` als ersten Parameter (Referenz auf aktuelle Instanz)\n",
    "- Dadurch kann man dann auf die Attribute oder andere Methoden zugreifen\n",
    "- Man kann Parametern der Methoden auch Defaults zuweisen\n",
    "\n",
    "```python\n",
    "class Punkt:\n",
    "    # Methode\n",
    "    def distanz(self, punkt_2):\n",
    "        return math.sqrt((self.x - punkt_2.x)**2 + (self.y - punkt_2.y)**2)\n",
    "```"
   ]
  },
  {
   "cell_type": "markdown",
   "metadata": {
    "slideshow": {
     "slide_type": "subslide"
    },
    "tags": [
     "remove-cell"
    ]
   },
   "source": [
    "## Methoden aufrufen\n",
    "\n",
    "Klassenmethoden sind in allen Instanzen verfügbar. Sie werden durch den Punkt-Syntax aufgerufen:\n",
    "\n",
    "```python\n",
    "punkt_1.distanz()\n",
    "```\n",
    "\n",
    "Auf gleiche Weise kann auch auf Attribute zugegriffen werden:\n",
    "\n",
    "```python\n",
    "print(punkt_1.x, punkt_1.y)\n",
    "```\n",
    "\n",
    "und diese verändert werden:\n",
    "\n",
    "```python\n",
    "punkt_1.x = 20\n",
    "```"
   ]
  },
  {
   "cell_type": "markdown",
   "metadata": {
    "editable": true,
    "slideshow": {
     "slide_type": "skip"
    },
    "tags": []
   },
   "source": [
    "## Quiz\n",
    "\n",
    "\n",
    "```{quizdown}\n",
    "\t\n",
    "\tshuffleQuestions: true\n",
    "\tshuffleAnswers: true\n",
    "\t\n",
    "\n",
    "    ### Was beschreibt ein Objekt in der objektorientierten Programmierung?\n",
    "    - [x] Eine Einheit mit Zustand (Attribute) und Verhalten (Methoden)\n",
    "    - [ ] Eine reine Datenstruktur ohne Funktionen\n",
    "    - [ ] Nur eine Methode in einem Programm\n",
    "    - [ ] Eine Zeile in einer Datenbank\n",
    "\n",
    "    ### Wozu dienen Methoden in einem Objekt?\n",
    "    - [x] Zur Änderung des Objektzustands\n",
    "    - [ ] Zur Definition von Klassen\n",
    "    - [ ] Zum Kompilieren des Codes\n",
    "    - [ ] Zur Initialisierung von Attributen\n",
    "\n",
    "    ### Warum verwendet man Objekte bei wiederholenden Datenstrukturen?\n",
    "    - [x] Um missverständliche Strukturen zu vermeiden\n",
    "    - [x] Um redundante Strukturen zu vermeiden\n",
    "    - [ ] Um Daten alphabetisch zu sortieren\n",
    "    - [ ] Um den Programmfluss zu verlangsamen\n",
    "\n",
    "    ### Welcher Nachteil ergibt sich aus unterschiedlichen Datentypen wie Liste und Tupel zur Darstellung eines Punkts?\n",
    "    - [x] Sie haben unterschiedliche Syntax und Verhalten\n",
    "    - [x] Sie führen zu uneinheitlichem Zugriff\n",
    "    - [ ] Sie sind nicht speicherbar in Python\n",
    "    - [ ] Sie brauchen zwingend gleiche Länge\n",
    "\n",
    "    ### Warum helfen Objekte bei semantischen Problemen?\n",
    "    - [x] Sie machen Bedeutung der Werte durch Attributnamen klar\n",
    "    - [ ] Sie ersetzen alle Werte automatisch durch Strings\n",
    "    - [ ] Sie benötigen keine Werte zur Laufzeit\n",
    "    - [ ] Sie wandeln alles in Listen um\n",
    "\n",
    "    ### Warum kann die Funktion `distance(a, b)` problematisch sein?\n",
    "    ```python\n",
    "    def distance(a, b):\n",
    "        return math.sqrt((a[0]-b[0])**2 + (a[1]-b[1])**2)\n",
    "    ```\n",
    "    - [x] Sie ist nicht auf einen bestimmten Typ beschränkt\n",
    "    - [ ] Sie verwendet `math` und das ist nicht erlaubt\n",
    "    - [ ] Sie benötigt Strings statt Zahlen\n",
    "    - [ ] Sie berechnet die Distanz nicht korrekt\n",
    "\n",
    "    ### Sortiere die folgenden Zeilen, um eine einfache Klasse `Punkt` korrekt zu definieren:\n",
    "    ```python\n",
    "    # Instanziiere ein Objekt\n",
    "    ```\n",
    "    1. `class Punkt:`\n",
    "    2. `  def __init__(self, x, y):`\n",
    "    3. `    self.x = x`\n",
    "    4. `    self.y = y`\n",
    "    5. `p = Punkt(1, 2)`\n",
    "\n",
    "    ### Welcher Fehler steckt in diesem Beispiel?\n",
    "    ```python\n",
    "    class Hund:\n",
    "        def bellen():\n",
    "            print(\"Wuff\")\n",
    "\n",
    "    h = Hund()\n",
    "    h.bellen()\n",
    "    ```\n",
    "    - [x] Der Methode fehlt der Parameter `self`\n",
    "    - [ ] Die Methode heißt falsch\n",
    "    - [ ] Die Klasse `Hund` darf nicht so definiert werden\n",
    "    - [ ] Methoden dürfen nicht `print` verwenden\n",
    "\n",
    "    ### Welcher Fehler kann in folgendem Beispiel auftreten?\n",
    "    ```python\n",
    "    import math\n",
    "\n",
    "    def distance(a, b):\n",
    "        return math.sqrt((a[0]-b[0])**2 + (a[1]-b[1])**2)\n",
    "\n",
    "    print(distance(\"Berlin\", \"Paris\"))\n",
    "    ```\n",
    "    - [x] Strings sind keine gültigen Punktkoordinaten\n",
    "    - [ ] Der Funktionsname ist reserviert\n",
    "    - [ ] `math.sqrt` funktioniert nicht\n",
    "    - [ ] Die Funktion hat keine Rückgabe\n",
    "\n",
    "\n",
    "    ### Was ist der Zweck des Konstruktors `__init__()`?\n",
    "    - [x] Initialisierung von Attributen beim Erzeugen eines Objekts\n",
    "    - [x] Durchführung von Startaufgaben wie Berechnungen oder Prüfungen\n",
    "    - [ ] Erstellen von Klassennamen\n",
    "    - [ ] Kompilieren von Methoden\n",
    "\n",
    "    ### Was passiert, wenn kein Konstruktor definiert wird?\n",
    "    - [x] Python erzeugt automatisch einen leeren Konstruktor\n",
    "    - [ ] Das Programm wird nicht ausgeführt\n",
    "    - [ ] Es wird ein Fehler geworfen\n",
    "    - [ ] Alle Attribute werden automatisch gesetzt\n",
    "\n",
    "    ### Was beschreibt ein Instanzattribut?\n",
    "    - [x] Eine Eigenschaft, die in jeder Objektinstanz unterschiedlich sein kann\n",
    "    - [ ] Eine Eigenschaft, die alle Klassen gemeinsam haben\n",
    "    - [ ] Ein Modul-Import\n",
    "    - [ ] Eine Klasse im Konstruktor\n",
    "\n",
    "    ### Warum verwendet man `self` im Konstruktor?\n",
    "    - [x] Um Attribute der Instanz zu definieren\n",
    "    - [ ] Um Klassenmethoden zu importieren\n",
    "    - [ ] Um globale Variablen zu ersetzen\n",
    "    - [ ] Um den Konstruktor aufzurufen\n",
    "\n",
    "    ### Warum verwendet man Klassen in Python?\n",
    "    - [x] Um Objekte zu strukturieren und Daten + Verhalten zu bündeln\n",
    "    - [x] Um einen Bauplan für gleichartige Objekte zu schaffen\n",
    "    - [ ] Um schneller zu kompilieren\n",
    "    - [ ] Um Variablennamen zu ersetzen\n",
    "\n",
    "    ### Was gehört typischerweise zur Definition einer Klasse?\n",
    "    - [x] Welche Attribute ein Objekt hat\n",
    "    - [x] Welche Methoden ein Objekt bereitstellt\n",
    "    - [ ] Welche Module importiert werden\n",
    "    - [ ] Welche Variablen global verfügbar sind\n",
    "\n",
    "    ### Sortiere die folgenden Zeilen, um eine vollständige Klasse `Hund` mit Konstruktor zu definieren:\n",
    "    ```python\n",
    "    # Erzeuge ein Objekt mit Eigenschaften\n",
    "    ```\n",
    "    1. `class Hund:`\n",
    "    2. `  def __init__(self, name):`\n",
    "    3. `    self.name = name`\n",
    "    4. `mein_hund = Hund(\"Fiffi\")`\n",
    "\n",
    "\n",
    "    ### Was passiert, wenn bei folgender Klasse keine Argumente übergeben werden?\n",
    "    ```python\n",
    "    class Point:\n",
    "        def __init__(self, x = 0.0, y = 0.0):\n",
    "            self.x = x\n",
    "            self.y = y\n",
    "\n",
    "    p = Point()\n",
    "    ```\n",
    "    - [x] Die Werte `0.0` werden für `x` und `y` verwendet\n",
    "    - [ ] Es wird ein Fehler ausgegeben\n",
    "    - [ ] Die Attribute bleiben undefiniert\n",
    "    - [ ] Die Konstruktion ist in Python nicht erlaubt\n",
    "\n",
    "    ### Was ist ein Klassenattribut?\n",
    "    - [x] Ein Attribut, das allen Instanzen einer Klasse gemeinsam ist\n",
    "    - [ ] Ein Attribut, das innerhalb der Methode `__init__()` definiert wird\n",
    "    - [ ] Eine Methode mit Funktionsinhalt\n",
    "    - [ ] Ein lokal verwendetes Attribut\n",
    "\n",
    "    ### Welche Gefahr besteht bei veränderlichen Klassenattributen?\n",
    "    - [x] Änderungen durch eine Instanz wirken sich auf alle anderen aus\n",
    "    - [ ] Sie sind nicht zugänglich von Methoden\n",
    "    - [ ] Sie werden nicht gespeichert\n",
    "    - [ ] Sie führen zu Syntaxfehlern\n",
    "\n",
    "    ### Was ist eine Methode in einer Klasse?\n",
    "    - [x] Eine Funktion, die auf eine Instanz der Klasse angewendet wird\n",
    "    - [ ] Eine globale Funktion\n",
    "    - [ ] Eine Variable mit Funktionsinhalt\n",
    "    - [ ] Eine Schleife mit Klassenname\n",
    "\n",
    "    ### Warum hat eine Methode in einer Klasse immer `self` als ersten Parameter?\n",
    "    - [x] Damit sie auf Attribute der Instanz zugreifen kann\n",
    "    - [ ] Damit der Konstruktor korrekt aufgerufen wird\n",
    "    - [ ] Damit man sie nur einmal aufrufen kann\n",
    "    - [ ] Damit sie von außen nicht sichtbar ist\n",
    "\n",
    "    ### Was ist eine Klasseninstanz?\n",
    "    - [x] Ein konkretes Objekt, das nach dem Bauplan der Klasse erstellt wurde\n",
    "    - [ ] Eine Methode einer Klasse\n",
    "    - [ ] Eine spezielle Variable im Konstruktor\n",
    "    - [ ] Eine Liste von Methoden\n",
    "\n",
    "    ### Wie wird eine Instanz einer Klasse erzeugt?\n",
    "    - [x] Durch Aufruf des Klassennamens mit passenden Argumenten\n",
    "    - [ ] Durch Aufruf von `__init__()` direkt\n",
    "    - [ ] Durch eine Zuweisung im Konstruktor\n",
    "    - [ ] Durch Deklaration mit `new`\n",
    "\n",
    "    ### Was ist der Vorteil benannter Parameter bei der Objekterzeugung?\n",
    "    - [x] Die Reihenfolge der Argumente spielt keine Rolle mehr\n",
    "    - [ ] Die Parameter werden automatisch validiert\n",
    "    - [ ] Es wird automatisch `self` übergeben\n",
    "    - [ ] Nur benannte Parameter sind erlaubt in Python\n",
    "\n",
    "    ### Wie greift man auf das Attribut `x` eines Objekts `p` zu?\n",
    "    - [x] Mit `p.x`\n",
    "    - [ ] Mit `x.p`\n",
    "    - [ ] Mit `p->x`\n",
    "    - [ ] Mit `get(x, p)`\n",
    "\n",
    "    ### Was gibt folgender Ausdruck zurück?\n",
    "    ```python\n",
    "    point_1.unit\n",
    "    ```\n",
    "    - [x] Das Klassenattribut `unit` von `point_1`\n",
    "    - [ ] Den Standardwert von `x`\n",
    "    - [ ] Die Methode `unit()` als Funktion\n",
    "    - [ ] Eine Fehlermeldung\n",
    "\n",
    "    ### Was passiert bei folgender Anweisung?\n",
    "    ```python\n",
    "    point_1.x = 54.08\n",
    "    ```\n",
    "    - [x] Der Wert des Attributs `x` von `point_1` wird auf `54.08` gesetzt\n",
    "    - [ ] Es wird ein neues Attribut `x` erstellt\n",
    "    - [ ] Das Klassenattribut wird überschrieben\n",
    "    - [ ] Eine neue Instanz wird erzeugt\n",
    "\n",
    "    ### Was ist Polymorphismus?\n",
    "    - [x] Die Fähigkeit, dass verschiedene Klassen die gleiche Methode unterschiedlich implementieren\n",
    "    - [ ] Eine spezielle Art von Schleife\n",
    "    - [ ] Eine Methode, die nur in einer Klasse existiert\n",
    "    - [ ] Eine Variable, die mehrere Typen annehmen kann\n",
    "\n",
    "    ### Was ist Kapselung?\n",
    "    - [x] Das Verbergen von Implementierungsdetails und Zugriff auf Attribute über Methoden\n",
    "    - [ ] Eine spezielle Art von Datenstruktur\n",
    "    - [ ] Eine Methode, die nur in einer Klasse existiert\n",
    "    - [ ] Eine Variable, die nur innerhalb der Klasse sichtbar ist\n",
    "\n",
    "    ### Was ist Vererbung?\n",
    "    - [x] Die Möglichkeit, eine Klasse von einer anderen abzuleiten und deren Eigenschaften zu übernehmen\n",
    "    - [ ] Eine spezielle Art von Schleife\n",
    "    - [ ] Eine Methode, die nur in einer Klasse existiert\n",
    "    - [ ] Eine Variable, die mehrere Typen annehmen kann\n",
    "    - [ ] Eine Klasse, die keine Attribute hat\n",
    "\n",
    "    ### Was sind objektorientierte Programmierparadigmen?\n",
    "    - [x] Polymorphismus\n",
    "    - [x] Kapselung\n",
    "    - [ ] Multiplizität\n",
    "    - [ ] Redundanz\n",
    "    - [x] Vererbung\n",
    "    - [x] Generalisierung\n",
    "    - [ ] Spezialisierung\n",
    "\n",
    "    ### Was ist UML?\n",
    "    - [x] Eine grafische Notation für Software-Design\n",
    "    - [ ] Die Programmiersprache\n",
    "    - [ ] Die Datenbank-Sprache\n",
    "    - [ ] Eine Art von Algorithmus \n",
    "```"
   ]
  },
  {
   "cell_type": "markdown",
   "metadata": {
    "slideshow": {
     "slide_type": "slide"
    },
    "tags": [
     "remove-cell"
    ]
   },
   "source": [
    "<div class=\"vslide\">\n",
    "  <div class=\"vslide-title\">\n",
    "    <p style=\"font-family: Protomolecule; font-size: 2.3em; margin: 0px auto; text-align: center; width: 100%;\">fragen?</p>\n",
    "  </div>\n",
    "  <script>setSectionBackground('#000000', 'images/mj_questions.mp4');</script>\n",
    "</div>"
   ]
  }
 ],
 "metadata": {
  "kernelspec": {
   "display_name": "Python 3 (ipykernel)",
   "language": "python",
   "name": "python3"
  },
  "language_info": {
   "codemirror_mode": {
    "name": "ipython",
    "version": 3
   },
   "file_extension": ".py",
   "mimetype": "text/x-python",
   "name": "python",
   "nbconvert_exporter": "python",
   "pygments_lexer": "ipython3",
   "version": "3.12.10"
  },
  "rise": {
   "auto_select": "none",
   "center": false,
   "enable_chalkboard": true,
   "header": "<img src=\"images/pd_logo.svg\" class=\"header_title_logo\"><img src=\"images/ai4sc_logo_v2.svg\" class=\"header_ai4sc_logo\">",
   "scroll": true,
   "show_buttons_on_startup": false,
   "slideNumber": true,
   "theme": "white"
  },
  "vscode": {
   "interpreter": {
    "hash": "c6f6ea9c9385f57658f4c302ffd3b717b6cd59b095fbd1c55795f0b67656eecd"
   }
  }
 },
 "nbformat": 4,
 "nbformat_minor": 4
}
