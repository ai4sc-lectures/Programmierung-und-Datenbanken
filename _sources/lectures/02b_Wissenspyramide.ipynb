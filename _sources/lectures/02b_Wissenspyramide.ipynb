{
 "cells": [
  {
   "cell_type": "markdown",
   "id": "9f425d98-ff8b-452a-aec5-69f93dde62d8",
   "metadata": {
    "editable": true,
    "slideshow": {
     "slide_type": "slide"
    },
    "tags": [
     "remove-cell"
    ]
   },
   "source": [
    "<div class=\"vslide\">\n",
    "  <div class=\"vslide-title\">\n",
    "    <p style=\"font-family: Protomolecule; font-size: 2.3em; line-height: 90%; margin: 0px auto; text-align: center; width: 100%;\"><span style=\"letter-spacing: .04rem;\">programmierung</span><br><span style=\"letter-spacing: .0rem;\">und datenbanken</span></p>\n",
    "<p class=\"author\" style=\"font-family: Protomolecule; margin: 0px auto;  text-align: center; width: 100%; font-size: 1.2em;\">Joern Ploennigs</p>\n",
    "<p class=\"subtitle\" style=\"font-family: Protomolecule; margin: 1em auto; text-align: center; width: 100%; font-size: 1.2em;\">Wissenspyramide</p>\n",
    "  </div>\n",
    "<script>\n",
    "  function setSectionBackground(c,v){\n",
    "    let e=document.currentScript.previousElementSibling;\n",
    "    while(e&&e.tagName!=='SECTION')e=e.parentElement;\n",
    "    if(e){\n",
    "      if(c)e.setAttribute('data-background-color',c);\n",
    "      if(v){\n",
    "        e.setAttribute('data-background-video',v);\n",
    "        e.setAttribute('data-background-video-loop','true');\n",
    "        e.setAttribute('data-background-video-muted','true');\n",
    "      }\n",
    "    }\n",
    "  }\n",
    "  setSectionBackground('#000000', 'images/02b_Wissenspyramide/mj_title.mp4');\n",
    "</script>\n",
    "<style>\n",
    ".flex-row{display:flex; gap:2rem; align-items:flex-start; justify-content:space-between;}\n",
    ".flex-row .col1{flex:1; min-width:10px}\n",
    ".flex-row .col2{flex:2; min-width:10px}\n",
    ".flex-row .col3{flex:3; min-width:10px}\n",
    ".flex-row .col4{flex:4; min-width:10px}\n",
    ".flex-row .col5{flex:5; min-width:10px}\n",
    ".flex-row .col6{flex:6; min-width:10px}\n",
    ".flex-row .col7{flex:7; min-width:10px}\n",
    ".vcent{display:flex; align-items:center; justify-content:center}\n",
    "</style>\n",
    "</div>"
   ]
  },
  {
   "cell_type": "markdown",
   "id": "948875af",
   "metadata": {
    "editable": true,
    "slideshow": {
     "slide_type": "skip"
    },
    "tags": []
   },
   "source": [
    "# Wissenspyramide"
   ]
  },
  {
   "cell_type": "markdown",
   "id": "9ae339a8-3e41-4515-a74a-c9d70fdc4186",
   "metadata": {
    "editable": true,
    "raw_mimetype": "",
    "slideshow": {
     "slide_type": "skip"
    },
    "tags": []
   },
   "source": [
    "![](images/02b_Wissenspyramide/mj_title.png)\n",
    "\n",
    "> The purpose of computing is insight, not numbers.\n",
    "> \n",
    "> — Richard Hamming"
   ]
  },
  {
   "cell_type": "markdown",
   "id": "554b63b9-c908-4a46-9157-6928f4cfbd28",
   "metadata": {
    "editable": true,
    "slideshow": {
     "slide_type": "skip"
    },
    "tags": []
   },
   "source": [
    "## <a href=\"/lec_slides/02b_Wissenspyramide.slides.html\">Folien</a>\n",
    "<iframe src=\"/lec_slides/02b_Wissenspyramide.slides.html\" width=\"750\" height=\"500\"></iframe>"
   ]
  },
  {
   "cell_type": "markdown",
   "id": "5f1c64ce",
   "metadata": {
    "editable": true,
    "slideshow": {
     "slide_type": "slide"
    },
    "tags": [
     "remove-cell"
    ]
   },
   "source": [
    "## Ablauf\n",
    "\n",
    "![](images/partA_2.svg)"
   ]
  },
  {
   "cell_type": "markdown",
   "id": "54ecae80",
   "metadata": {
    "editable": true,
    "slideshow": {
     "slide_type": "skip"
    },
    "tags": []
   },
   "source": [
    "## Wissenspyramide\n",
    "\n",
    "Die Wissenspyradmide ist ein Modell zur Darstellung der Extraktion von Wissen durch Computer. Sie dient gut der Erklärung einger Grundbegriffe der Informatik wie Zeichen, Syntax, Daten, Semantik, Informaitonen, Datenverarbeitung und Wissen. Diese Begriffe werden pyramidenförmig als 4 Ebenen und Transformationsprozesse dargestellt.\n",
    "\n",
    "![Wissenspyramide](images/wissenspyramide.svg)"
   ]
  },
  {
   "cell_type": "markdown",
   "id": "08211cb2",
   "metadata": {
    "editable": true,
    "slideshow": {
     "slide_type": "slide"
    },
    "tags": [
     "remove-cell"
    ]
   },
   "source": [
    "## Wissenspyramide\n",
    "\n",
    "<div class=\"flex-row\">\n",
    "<div class=\"col1\">\n",
    "\n",
    "Die Wissenspyradmide ist ein Modell zur Darstellung der Entstehung von Wissen. \n",
    "\n",
    "Die vier Elementtypen: *Zeichen, Daten, Informationen* und *Wissen* werden pyramidenförmig als 4 Ebenen dargestellt.\n",
    "\n",
    "Zeichen formen die Basis und das Wissen  die Spitze der Pyramide.\n",
    "\n",
    "</div>\n",
    "<div class=\"col1\">\n",
    "\n",
    "![](images/02b_Wissenspyramide/pyramide1.svg)\n",
    "\n",
    "</div>\n",
    "</div>"
   ]
  },
  {
   "cell_type": "markdown",
   "id": "d405f03f",
   "metadata": {
    "editable": true,
    "slideshow": {
     "slide_type": "skip"
    },
    "tags": []
   },
   "source": [
    "## Zeichen\n",
    "\n",
    "Zeichen formen die Basis der Pyramide. Sie sind die kleinsten Einheiten der Information und dienen als Grundlage für die Darstellung von Daten und Informationen. Zeichen können Buchstaben, Ziffern, Sonderzeichen oder Steuerzeichen sein.\n",
    "\n",
    "<div class=\"alert alert-block alert-success\">\n",
    "<b>📘 Definition: Zeichen</b>\n",
    "\n",
    "Ein Zeichen codiert einen einzelnen Buchstaben, eine Ziffer, ein Sonderzeichen oder ein Steuerzeichen. \n",
    "</div>\n",
    "\n",
    "> Beispiel 1: *Deutsches Alphabet:* mit Umlauten und Zahlen, Satztrennungs und -endzeichen. \n",
    ">\n",
    "> Zeichensatz: `abcdefgijklmnopqrstuvwxyzABCDEFGHIJKLMNOPQRSTUVWXYZäöüßÄÖÜ0123456789,:;-.!?`\n",
    "\n",
    "> Beispiel 2: *ASCII-Text* (ISO 8859-1) ist eine Codierung von 256 darstellbare Zeichen in 8 Bits. (Ursprünglich waren es nur 128 Zeichen in 7 Bits.)"
   ]
  },
  {
   "cell_type": "markdown",
   "id": "ab2d7663",
   "metadata": {
    "editable": true,
    "slideshow": {
     "slide_type": "subslide"
    },
    "tags": [
     "remove-cell"
    ]
   },
   "source": [
    "\n",
    "## Zeichen\n",
    "\n",
    "<div class=\"flex-row\">\n",
    "<div class=\"col1\">\n",
    "\n",
    "<div class=\"alert alert-block alert-success\">\n",
    "<b>📘 Definition: Zeichen</b>\n",
    "\n",
    "Ein Zeichen codiert einen einzelnen Buchstaben, eine Ziffer, ein Sonderzeichen oder ein Steuerzeichen. \n",
    "</div>\n",
    "\n",
    "-  Bsp. 1: Deutsches Alphabet mit Umlauten und Zahlen, Satztrennungs und -endzeichen\n",
    "Zeichensatz: `abcdefgijklmnopqrstuvwxyz ABCDEFGHIJKLMNOPQRSTUVWXYZ äöüßÄÖÜ0123456789,:;-.!?`\n",
    "-  Bsp. 2: ASCII-Text (ISO 8859-1) ist eine Codierung von 256 darstellbare Zeichen in 8 Bits. (Ursprünglich waren es nur 128 Zeichen in 7 Bits.)\n",
    "</div>\n",
    "<div class=\"col1\">\n",
    "\n",
    "![](images/02b_Wissenspyramide/pyramide2.svg)\n",
    "\n",
    "</div>\n",
    "</div>\n"
   ]
  },
  {
   "cell_type": "markdown",
   "id": "37819a26",
   "metadata": {
    "editable": true,
    "slideshow": {
     "slide_type": "skip"
    },
    "tags": []
   },
   "source": [
    "## Syntax\n",
    "\n",
    "Syntax wird benötigt um Zeichen in Daten zu überführen.\n",
    "\n",
    "<div class=\"alert alert-block alert-success\">\n",
    "<b>📘 Definition: Syntax</b>\n",
    "\n",
    "Formale Regeln, die definieren, wie wohlgeformte Ausdrücke auf Basis eines Zeichensatzes gebildet werden.\n",
    "</div>\n",
    "\n",
    "\n",
    "> Beispiel 1: *Deutsche Grammatik:* \n",
    "Ein Satz besteht aus mehreren Wörtern mit mehreren alpha-numerischen Zeichen aus `a-zA-Z0-9`. Zwei Worte sind durch ein Leerzeichen getrennt. Ein Wort kann mit einem Satztrennungszeichen aus `,:;-` beendet werden, außer am Ende des Satzes. Jeder Satz endet mit einem Satzendzeichen aus `.!?`\n",
    "\n",
    "> Beispiel 2: *HTML (Internetseite)* - Die Syntax-Definition einer HTML Datei ist grob: Jede Zeile enthält eine beliebige Folge von ASCII Zeichen. Jede Zeile endet mit einem Zeilenvorschub 10 (Linux) oder Wagenrücklauf 13 und Zeilenvorschub 10 (Windows). Eine Zeile kann einen HTML-Tag enthalten, der immer mit dem Zeichen `<` beginnt, darauf folgt der Elementname und ggf. Attribute und endet mit `>`.\n",
    "\n"
   ]
  },
  {
   "cell_type": "markdown",
   "id": "31dedd7a",
   "metadata": {
    "editable": true,
    "slideshow": {
     "slide_type": "subslide"
    },
    "tags": [
     "remove-cell"
    ]
   },
   "source": [
    "\n",
    "## Syntax\n",
    "\n",
    "<div class=\"flex-row\">\n",
    "<div class=\"col1\">\n",
    "\n",
    "<div class=\"alert alert-block alert-success\">\n",
    "<b>📘 Definition: Syntax</b>\n",
    "\n",
    "Formale Regeln, die definieren, wie wohlgeformte Ausdrücke auf Basis eines Zeichensatzes gebildet werden.\n",
    "</div>\n",
    "\n",
    "-  Bsp. 1: Dt. Grammatik - \n",
    "Satz Regeln:\n",
    "    - 1+ Wort mit je 2+ alpha-num. Zeichen\n",
    "    - Leerzeichen trennt 2 Worte\n",
    "    - `,:;-` trennen Satzteile\n",
    "    - `.!?` beendet einen Satz\n",
    "-  Bsp. 2: HTML (Internetseite):\n",
    "    - Jede Zeile enthält ASCII Zeichen\n",
    "    - Zeilenvorschub trennt Zeilen\n",
    "    - Zeile enthalten Text oder HTML-Tag, der mit `<` beginnt und mit `>` endet\n",
    "</div>\n",
    "<div class=\"col1\">\n",
    "\n",
    "![](images/02b_Wissenspyramide/pyramide3.svg)\n",
    "\n",
    "</div>\n",
    "</div>\n"
   ]
  },
  {
   "cell_type": "markdown",
   "id": "6a90355c",
   "metadata": {
    "editable": true,
    "slideshow": {
     "slide_type": "skip"
    },
    "tags": []
   },
   "source": [
    "## Daten\n",
    "\n",
    "Daten werden aus Zeichen extrahiert, sie sind eine Vorform von Informationen.\n",
    "\n",
    "<div class=\"alert alert-block alert-success\">\n",
    "<b>📘 Definition: Daten</b>\n",
    "\n",
    "Eine wiederholt interpretierbare Darstellung von Information in formalisierter Art, geeignet zur Kommunikation, Interpretation oder Verarbeitung.\n",
    "</div>\n",
    "\n",
    "> Beispiel 1: Ein entsprechend unseren Regeln syntaktisch korrekter Satz lautet z.B. „Ich Bahnhof nur verstehe.“ Dieser macht allerdings keinen Sinn.\n",
    "\n",
    "> Beispiel 2: HTML-Baum (DOM) - Ein Syntax-Baum der die Verschachtelung der HTML-Tags abbildet. Zum Beispiel wird die folgenden Tags in eine Tabelle, mit Zeilen (`<TR>`) und zwei Zellen (`<TD>`) in einem Baum abgebildet.\n",
    "\n",
    "```html\n",
    "<table width=\"300\">\n",
    "    <tr height=\"50\">\n",
    "        <td>Name</td>\n",
    "        <td>Birthday</td>\n",
    "    </tr>\n",
    "</table>\n",
    "```\n",
    "\n",
    "<center><img src=\"https://mermaid.ink/svg/pako:eNpdjjEOgzAMRa8SeYahHTN04gbtljC42BSkJCDXGSrE3WtQp3qwrPefrL_BsBCDh5fgOrlHF4uzUXwmDufuXdvejEhQ6X-pnEzpEpT-2fVg0EBmyTiTvd4OI4JOnDmCt5N4xJo0Qiy7qVh1uX_KAF6lcgN1JVTuZrRSGfyI6c37F5AmNoE\" height=\"200px\"></center>\n",
    "\n",
    "\n"
   ]
  },
  {
   "cell_type": "markdown",
   "id": "de661e4e",
   "metadata": {
    "editable": true,
    "slideshow": {
     "slide_type": "subslide"
    },
    "tags": [
     "remove-cell"
    ]
   },
   "source": [
    "\n",
    "## Daten\n",
    "\n",
    "<div class=\"flex-row\">\n",
    "<div class=\"col1\">\n",
    "\n",
    "<div class=\"alert alert-block alert-success\">\n",
    "<b>📘 Definition: Daten</b>\n",
    "\n",
    "Eine wiederholt interpretierbare Darstellung von Information in formalisierter Art, geeignet zur Kommunikation, Interpretation oder Verarbeitung.\n",
    "</div>\n",
    "\n",
    "-  Bsp. 1: Formal korrekter Satz. \n",
    "z.B. „ Ich Bahnhof nur verstehe.\"\n",
    "\n",
    "-  Bsp. 2: HTML Textdatei (*.html).\n",
    "</div>\n",
    "<div class=\"col1\">\n",
    "\n",
    "![](images/02b_Wissenspyramide/pyramide4.svg)\n",
    "\n",
    "</div>\n",
    "</div>\n"
   ]
  },
  {
   "cell_type": "markdown",
   "id": "0cd2d501",
   "metadata": {
    "editable": true,
    "slideshow": {
     "slide_type": "skip"
    },
    "tags": []
   },
   "source": [
    "## Semantik\n",
    "\n",
    "In der Kommunikation ist es nicht nur notwendig formal korrekte Inhalte zu formulieren, sondern es ist auch wichtig die Bedeutung der Inhalte zu kennen und interpretieren zu können, das geschieht durch Semantik. \n",
    "\n",
    "<div class=\"alert alert-block alert-success\">\n",
    "<b>📘 Definition: Semantik</b>\n",
    "\n",
    "Vorgaben für die Interpretation von Daten.\n",
    "</div>\n",
    "\n",
    "> Beispiel 1: So muss in einem Satz nicht nur der Satzbau stimmen, sondern es muss auch die Bedeutung der Worte bekannt sein. Im deutschem Wörterbuch steht z.B. die Definition von “Bahnhof”: Gesamtkomplex einer Bahnstation mit Gleisanlagen und zugehörigen Gebäuden; zum Bahnhof gehörendes Gebäude mit [großer] Halle, in der sich die Schalter für Fahrkarten und Gepäck, Wartesäle, Geschäfte o. Ä. befinden.\n",
    "\n",
    "> Beispiel 2: Bedeutung der HTML Elemente (https://www.w3schools.com/html/)\n",
    ">\n",
    "> - `<table>` Tabelle\n",
    ">\n",
    "> - `<td>` Tabellen Zeile\n",
    ">\n",
    "> - `<td>` Tabellen Zelle\n",
    "\n",
    "\n"
   ]
  },
  {
   "cell_type": "markdown",
   "id": "92e1d7fc",
   "metadata": {
    "editable": true,
    "slideshow": {
     "slide_type": "subslide"
    },
    "tags": [
     "remove-cell"
    ]
   },
   "source": [
    "\n",
    "## Semantik\n",
    "\n",
    "<div class=\"flex-row\">\n",
    "<div class=\"col1\">\n",
    "\n",
    "<div class=\"alert alert-block alert-success\">\n",
    "<b>📘 Definition: Semantik</b>\n",
    "\n",
    "Vorgaben für die Interpretation von Daten.\n",
    "</div>\n",
    "\n",
    "-  Bsp. 1: Deutsches Wörterbuch. Z.B. Definition von \"Bahnhof\" im Duden:\n",
    "    - Gesamtkomplex einer Bahnstation mit Gleisanlagen und zugehörigen Gebäuden\n",
    "    - zum Bahnhof gehörendes Gebäude mit [großer] Halle\n",
    "- Bsp. 2: HTML Elemente\n",
    "  - `<p>` definiert einen Absatz\n",
    "  - `<img>` definiert ein Bild\n",
    "  - `<table>` definiert eine Tabelle\n",
    "  - ...\n",
    "</div>\n",
    "<div class=\"col1\">\n",
    "\n",
    "![](images/02b_Wissenspyramide/pyramide5.svg)\n",
    "\n",
    "</div>\n",
    "</div>\n"
   ]
  },
  {
   "cell_type": "markdown",
   "id": "84aa2144",
   "metadata": {
    "editable": true,
    "slideshow": {
     "slide_type": "skip"
    },
    "tags": []
   },
   "source": [
    "## Informationen\n",
    "\n",
    "Informationen haben einen spezifischen Sinn und Zweck.\n",
    "\n",
    "<div class=\"alert alert-block alert-success\">\n",
    "<b>📘 Definition: Informationen</b>\n",
    "\n",
    "Daten, die mit Sinn und Zweck versehen sind. Sie haben Bedeutung und sind für einen bestimmten Zweck organisiert. Informationen zum Beispiel sind eine Sammlung von Daten mit  zugehörigen Erklärungen, Interpretationen und anderes Textmaterial, die ein bestimmtes Objekt, Ereignis oder einen bestimmten Prozess betreffen.\n",
    "</div>\n",
    "\n",
    "> Beispiel 1: Korrekter deutscher Satz z.B. „Ich verstehen nur Bahnhof.\" ist zwar syntaktisch korrekt und wir kennen die Bedeutung jedes Wortes. Allerdings bleibt der Satz für Ausländer unverständlich, weil ihnen der Kontext fehlt die Redewendung zu verstehen.\n",
    "\n",
    "> Beispiel 2: Interpretierter HTML-Baum. Zum Beispiel wird in dem oben dargestelltem HTML-Baum die Information der Breite der Tabelle auf alle Zeilen vererbt und die Höhe der Zeile auf alle Zellen.\n",
    "\n",
    "<center><img src=\"https://mermaid.ink/svg/pako:eNp1j8EKgzAMhl-l5KzgNnYpuJNvsN2sh8xEW7AqNWUM8d3XyWDssBxC-L8vkKzQTsSgoQ84W3WrzKhSCd4HrveuHo7ElqeiaFSeXxILtYRvqiy73kp5LprPbtg9oUMt9J8efylk4Dl4dJSOWd-uAbHs2YBOI3GHcRADZtySilGm63NsQUuInEGcCYUrh-kND7rDYeHtBZVGRlI\" height=\"200px\"></center>"
   ]
  },
  {
   "cell_type": "markdown",
   "id": "162f02c0",
   "metadata": {
    "editable": true,
    "slideshow": {
     "slide_type": "subslide"
    },
    "tags": [
     "remove-cell"
    ]
   },
   "source": [
    "\n",
    "## Informationen\n",
    "\n",
    "<div class=\"flex-row\">\n",
    "<div class=\"col1\">\n",
    "\n",
    "<div class=\"alert alert-block alert-success\">\n",
    "<b>📘 Definition: Informationen</b>\n",
    "\n",
    "Daten, die mit Sinn und Zweck versehen sind. Sie haben Bedeutung und sind für einen bestimmten Zweck organisiert. Informationen zum Beispiel sind eine Sammlung von Daten mit  zugehörigen Erklärungen, Interpretationen und anderes Textmaterial, die ein bestimmtes Objekt, Ereignis oder einen bestimmten Prozess betreffen.\n",
    "</div>\n",
    "\n",
    "\n",
    "-  Bsp. 1: Korrekter deutscher Satz\n",
    "z.B. „Ich verstehe nur Bahnhof.\"\n",
    "- Bsp. 2: HTML Textdatei (*.html).\n",
    "</div>\n",
    "<div class=\"col1\">\n",
    "\n",
    "![](images/02b_Wissenspyramide/pyramide6.svg)\n",
    "\n",
    "</div>\n",
    "</div>\n"
   ]
  },
  {
   "cell_type": "markdown",
   "id": "c710bd40",
   "metadata": {
    "editable": true,
    "slideshow": {
     "slide_type": "skip"
    },
    "tags": []
   },
   "source": [
    "## Verarbeitung\n",
    "\n",
    "Informationen müssen erst verarbeitet werden, um sie zu verknüpfen und Wissen abzuleiten.\n",
    "\n",
    "<div class=\"alert alert-block alert-success\">\n",
    "<b>📘 Definition: Verarbeitung</b>\n",
    "\n",
    "Verknüpfung von Informationen durch Algorithmen, Erfahrungen, Werte und Fachkentnissen.\n",
    "</div>\n",
    "\n",
    "> Beispiel 1: Deutsche haben die Erfahrung, dass „Ich verstehen nur Bahnhof.“ eine Redewendung ist.\n",
    "\n",
    "> Beispiel 2: Webbrowser - Ein Webbrower interpretiert die HTML-Tags und berechtet zum Beispiel die beste Breite der Zellen, da er weiß, dass es zwei Zellen in der Zeile gibt.\n",
    "\n",
    "<center><img src=\"https://mermaid.ink/svg/pako:eNp9j8EKgzAQRH8l7FlBW7wE7Mk_aG-Jh61ZTcCopBtKEf-9qQg9tXNYltk3sLNCNxsCCUPAxYpboyeRxHgfSe1TPJ1hW5-LohV5fkm3oDh8XWHJDZbrqmiPbNg5NqVic3Bl9Yc7_eIgA0_BozPpwfWT0sCWPGmQaTXUYxxZg562hGLk-fqaOpAcImUQF4NMjcNUzYPscXzQ9gYhbkx4\" height=\"200px\"></center>"
   ]
  },
  {
   "cell_type": "markdown",
   "id": "237af166",
   "metadata": {
    "editable": true,
    "slideshow": {
     "slide_type": "subslide"
    },
    "tags": [
     "remove-cell"
    ]
   },
   "source": [
    "## Verarbeitung\n",
    "\n",
    "<div class=\"flex-row\">\n",
    "<div class=\"col1\">\n",
    "\n",
    "<div class=\"alert alert-block alert-success\">\n",
    "<b>📘 Definition: Verarbeitung</b>\n",
    "\n",
    "Verknüpfung von Informationen durch Algorithmen, Erfahrungen, Werte und Fachkentnissen.\n",
    "</div>\n",
    "\n",
    "- Bsp. 1: Deutsche haben die Erfahrung, dass „Ich verstehen nur Bahnhof.\" eine Redewendung ist.\n",
    "- Bsp. 2: Webbrowser: Ein Webbrower interpretiert die HTML-Tags und render daraus eine Webseite\n",
    "</div>\n",
    "<div class=\"col1\">\n",
    "\n",
    "![](images/02b_Wissenspyramide/pyramide7.svg)\n",
    "\n",
    "</div>\n",
    "</div>"
   ]
  },
  {
   "cell_type": "markdown",
   "id": "9acb9133",
   "metadata": {
    "editable": true,
    "slideshow": {
     "slide_type": "skip"
    },
    "tags": []
   },
   "source": [
    "## Wissen\n",
    "\n",
    "Wissen ist die höchste Form der Datenverarbeitung und erfordert, die erfolgreiche verwendung von Syntax, Semantik, und Verarbeitung.\n",
    "\n",
    "\n",
    "<div class=\"alert alert-block alert-success\">\n",
    "<b>📘 Definition: Wissen</b>\n",
    "\n",
    "Die gesammelten, verknüpften Informationen über einen bestimmten Sachverhalt, integriert mit persönlichen Erfahrungen. Das Wissen weißt eine wesentlich höhere Komplexität als die Information auf und ist eines der höchsten Güter einer Unternehmung. Mittels Wissen lassen sich Entscheidungen treffen und Aktionen einleiten.\n",
    "</div>\n",
    "\n",
    "\n",
    "> Beispiel 1: „Ich verstehen nur Bahnhof.“ bedeutet nichts verstehen oder verstehen wollen.\n",
    "\n",
    "> Beispiel 2: Fertig gerenderte Tabelle\n",
    "  <table width=\"300\" border=\"1\" style=\"width: 300px\">\n",
    "    <tr height=\"50\">\n",
    "      <td>Name</td>\n",
    "      <td>Birthdate</td>\n",
    "    </tr>\n",
    "  </table>"
   ]
  },
  {
   "cell_type": "markdown",
   "id": "27faaf96",
   "metadata": {
    "editable": true,
    "slideshow": {
     "slide_type": "subslide"
    },
    "tags": [
     "remove-cell"
    ]
   },
   "source": [
    "## Wissen\n",
    "\n",
    "<div class=\"flex-row\">\n",
    "<div class=\"col1\">\n",
    "\n",
    "<div class=\"alert alert-block alert-success\">\n",
    "<b>📘 Definition: Wissen</b>\n",
    "\n",
    "Die gesammelten, verknüpften Informationen über einen bestimmten Sachverhalt, integriert mit persönlichen Erfahrungen. Das Wissen weißt eine wesentlich höhere Komplexität als die Information auf und ist eines der höchsten Güter einer Unternehmung. Mittels Wissen lassen sich Entscheidungen treffen und Aktionen einleiten.\n",
    "</div>\n",
    "\n",
    "- Bsp. 1: „Ich verstehen nur Bahnhof.\" bedeutet nichts verstehen oder verstehen wollen.\n",
    "- Bsp. 2: Fertig gerenderte Webseite\n",
    "</div>\n",
    "<div class=\"col1\">\n",
    "\n",
    "![](images/02b_Wissenspyramide/pyramide8.svg)\n",
    "\n",
    "</div>\n",
    "</div>"
   ]
  },
  {
   "cell_type": "markdown",
   "id": "16017d10",
   "metadata": {
    "slideshow": {
     "slide_type": "slide"
    },
    "tags": [
     "remove-cell"
    ]
   },
   "source": [
    "## Hörsaalfrage\n",
    "\n",
    "<script>setSectionBackground('#FFD966');</script>\n",
    "<div class=\"flex-row\">\n",
    "<div class=\"col2\">\n",
    "\n",
    "Was sind in dem Bild die Zeichen?\n",
    "\n",
    "</div>\n",
    "<div class=\"col3\">\n",
    "    <figure class=\"mj-fig\">\n",
    "        <img src=\"images/02b_Wissenspyramide/hyroglyphe.jpg\" class=\"mj-fig-img\">\n",
    "        <figcaption class=\"mj-fig-cap\">\n",
    "            https://www.planet-wissen.de/geschichte/antike/hieroglyphen\n",
    "        </figcaption>\n",
    "    </figure>\n",
    "  </div>\n",
    "</div>\n"
   ]
  },
  {
   "cell_type": "markdown",
   "id": "8312fb5f",
   "metadata": {
    "editable": true,
    "slideshow": {
     "slide_type": "subslide"
    },
    "tags": [
     "remove-cell"
    ]
   },
   "source": [
    "## Hörsaalfrage\n",
    "\n",
    "<script>setSectionBackground('#FFD966');</script>\n",
    "<div class=\"flex-row\">\n",
    "<div class=\"col2\">\n",
    "\n",
    "Was ist in dem Bild der Syntax?\n",
    "\n",
    "</div>\n",
    "<div class=\"col3\">\n",
    "    <figure class=\"mj-fig\">\n",
    "        <img src=\"images/02b_Wissenspyramide/hyroglyphe.jpg\" class=\"mj-fig-img\">\n",
    "        <figcaption class=\"mj-fig-cap\">\n",
    "            https://www.planet-wissen.de/geschichte/antike/hieroglyphen\n",
    "        </figcaption>\n",
    "    </figure>\n",
    "  </div>\n",
    "</div>"
   ]
  },
  {
   "cell_type": "markdown",
   "id": "4e476a54",
   "metadata": {
    "slideshow": {
     "slide_type": "subslide"
    },
    "tags": [
     "remove-cell"
    ]
   },
   "source": [
    "## Hörsaalfrage\n",
    "\n",
    "<script>setSectionBackground('#FFD966');</script>\n",
    "<div class=\"flex-row\">\n",
    "<div class=\"col2\">\n",
    "\n",
    "Was ist in dem Bild die Semantik?\n",
    "\n",
    "</div>\n",
    "<div class=\"col3\">\n",
    "    <figure class=\"mj-fig\">\n",
    "        <img src=\"images/02b_Wissenspyramide/hyroglyphe.jpg\" class=\"mj-fig-img\">\n",
    "        <figcaption class=\"mj-fig-cap\">\n",
    "            https://www.planet-wissen.de/geschichte/antike/hieroglyphen\n",
    "        </figcaption>\n",
    "    </figure>\n",
    "  </div>\n",
    "</div>"
   ]
  },
  {
   "cell_type": "markdown",
   "id": "041bfc34",
   "metadata": {
    "slideshow": {
     "slide_type": "subslide"
    },
    "tags": [
     "remove-cell"
    ]
   },
   "source": [
    "## Hörsaalfrage\n",
    "\n",
    "<script>setSectionBackground('#FFD966');</script>\n",
    "<div class=\"flex-row\">\n",
    "<div class=\"col2\">\n",
    "\n",
    "Was ist in dem Bild die Verarbeitung?\n",
    "\n",
    "</div>\n",
    "<div class=\"col3\">\n",
    "    <figure class=\"mj-fig\">\n",
    "        <img src=\"images/02b_Wissenspyramide/hyroglyphe.jpg\" class=\"mj-fig-img\">\n",
    "        <figcaption class=\"mj-fig-cap\">\n",
    "            https://www.planet-wissen.de/geschichte/antike/hieroglyphen\n",
    "        </figcaption>\n",
    "    </figure>\n",
    "  </div>\n",
    "</div>"
   ]
  },
  {
   "cell_type": "markdown",
   "id": "d557bc30",
   "metadata": {
    "slideshow": {
     "slide_type": "subslide"
    },
    "tags": [
     "remove-cell"
    ]
   },
   "source": [
    "## Antworten: Hieroglyphen\n",
    "\n",
    "<div class=\"flex-row\">\n",
    "<div class=\"col2\">\n",
    "\n",
    "- Zeichen: Jede Hieroglyphe stellt ein Zeichen dar\n",
    "- Syntax: Die Hieroglyphen sind in Spalten angeordnet. Wir lesen sie von oben nach unten und von rechts nach links.\n",
    "- Semantik: Jede Hieroglyphe hat eine kontextspezifische Bedeutung welche  Bildzeichen, Lautzeichen oder Deutzeichen darstellen können.\n",
    "- Verarbeitung: Die Hieroglyphen können nur in Ihrem Kontext korrekt Interpretiert werden.\n",
    "\n",
    "</div>\n",
    "<div class=\"col3\">\n",
    "\n",
    "![https://www.planet-wissen.de/geschichte/antike/hieroglyphen](images/02b_Wissenspyramide/hyroglyphe2.jpg)\n",
    "\n",
    "</div>\n",
    "</div>"
   ]
  },
  {
   "cell_type": "markdown",
   "id": "7b3fb0c7",
   "metadata": {
    "slideshow": {
     "slide_type": "subslide"
    }
   },
   "source": [
    "\n",
    "## Syntax einer Programmiersprache\n",
    "\n",
    "<div class=\"flex-row\">\n",
    "<div class=\"col2\">\n",
    "\n",
    "<div class=\"alert alert-block alert-success\">\n",
    "<b>📘 Definition: Syntax in Programmiersprachen</b>\n",
    "\n",
    "Formaler Regelsatz, der definiert, wie der Computer die Programmiersprache interpretieren soll. Der Syntax umfasst meist Regeln zur Definition von Befehlen (Wörter), Variablen (Werte), Code-Blöcken (Sätze).\n",
    "</div>\n",
    "\n",
    "</div>\n",
    "<div class=\"col3\">\n",
    "\n",
    "![Python Syntax Elemente](images/01d_Programmiersprachen/syntax.svg)\n",
    "\n",
    "</div>\n",
    "</div>"
   ]
  },
  {
   "cell_type": "markdown",
   "id": "6446cdb0",
   "metadata": {
    "slideshow": {
     "slide_type": "subslide"
    }
   },
   "source": [
    "\n",
    "## Semantik einer Programmiersprache\n",
    "\n",
    "<div class=\"flex-row\">\n",
    "<div class=\"col2\">\n",
    "\n",
    "<div class=\"alert alert-block alert-success\">\n",
    "<b>📘 Definition: Semantik in Programmiersprachen</b>\n",
    "\n",
    "Definition der Bedeutung der Sprachelemente und der zulässigen Kombinationen von Elementen.\n",
    "</div>\n",
    "\n",
    "</div>\n",
    "<div class=\"col3\">\n",
    "\n",
    "![Python Semantische Elemente](images/01d_Programmiersprachen/semantik.svg)\n",
    "\n",
    "</div>\n",
    "</div>"
   ]
  },
  {
   "cell_type": "markdown",
   "id": "4d989b2d",
   "metadata": {
    "slideshow": {
     "slide_type": "slide"
    },
    "tags": [
     "remove-cell"
    ]
   },
   "source": [
    "## Hörsaalfrage\n",
    "\n",
    "<script>setSectionBackground('#FFD966');</script>\n",
    "<div class=\"flex-row\">\n",
    "<div class=\"col2\">\n",
    "\n",
    "Welche Sinne haben wir?\n",
    "\n",
    "</div>\n",
    "<div class=\"col3\">\n",
    "    <figure class=\"mj-fig\">\n",
    "        <img src=\"images/02x_Lerntypen/mj_title.mp4\" class=\"mj-fig-img\">\n",
    "        <figcaption class=\"mj-fig-cap\">\n",
    "            Midjourney: Six Sense\n",
    "        </figcaption>\n",
    "    </figure>\n",
    "  </div>\n",
    "</div>"
   ]
  },
  {
   "cell_type": "markdown",
   "id": "8fa9facb",
   "metadata": {
    "slideshow": {
     "slide_type": "subslide"
    },
    "tags": [
     "remove-cell"
    ]
   },
   "source": [
    "## Lessons Learned - Lerntypen\n",
    "\n",
    "![](images/02x_Lerntypen/lerntypen.svg)\n",
    "\n",
    "- Jeder von uns hat bevorzugte Sinneskanäle\n",
    "- Über diese nehmen wir bevorzugt Informationen auf und senden diese aus\n",
    "- Dies kann man gezielt zum Lernen nutzen\n",
    "- Am effektivsten lernt man wenn man verschiedene Kanäle nutzt\n",
    "\n",
    "<script>setSectionBackground('#66ccffff');</script>\n"
   ]
  },
  {
   "cell_type": "markdown",
   "id": "22c2f33c",
   "metadata": {
    "slideshow": {
     "slide_type": "subslide"
    },
    "tags": [
     "remove-cell"
    ]
   },
   "source": [
    "## Lessons Learned - Lerntyp Testen\n",
    "\n",
    "<script>setSectionBackground('#66ccffff');</script>\n",
    "\n",
    "<div class=\"flex-row\">\n",
    "<div class=\"col2\">\n",
    "\n",
    "- Mit dem folgenden Test können Sie feststellen, zu welchem Lerntyp Sie neigen. Setzen Sie hierfür, ohne lange zu überlegen, für jede Frage jeweils ein Kreuz in eines der nummerierten Felder.\n",
    "\n",
    "- Zählen Sie nun zusammen, wie häufig Sie Antworten der Kategorien 1, 2 und 3 angekreuzt haben. Tragen Sie die Summe für jede der Kategorien in folgende Tabelle ein.\n",
    "\n",
    "</div>\n",
    "<div class=\"col3\">\n",
    "\n",
    "![](images/02x_Lerntypen/test.svg)\n",
    "\n",
    "</div>\n",
    "</div>\n"
   ]
  },
  {
   "cell_type": "markdown",
   "id": "ee684e4e",
   "metadata": {
    "slideshow": {
     "slide_type": "subslide"
    },
    "tags": [
     "remove-cell"
    ]
   },
   "source": [
    "## Lessons Learned - Typspezifisch lernen\n",
    "\n",
    "<script>setSectionBackground('#66ccffff');</script>\n",
    "\n",
    "<div class=\"flex-row\">\n",
    "<div class=\"col1\">\n",
    "\n",
    "**Der haptische Lerntyp** lernt am besten, wenn er etwas anfassen oder praktisch ausprobieren kann. \n",
    "\n",
    "- Probieren Sie Dinge aus\n",
    "- Fassen Sie Dinge an\n",
    "- Bewegen Sie sich beim Lernen. \n",
    "- Machen Sie einen Spaziergang\n",
    "- Erstellen Sie Karteikarten\n",
    "- Basteln Sie Modelle\n",
    "- Erstellen Sie Lernposter\n",
    "- Schreiben Sie mit\n",
    "\n",
    "</div>\n",
    "<div class=\"col1\">\n",
    "\n",
    "**Der auditive Lerntyp** lernt am besten, wenn er etwas hört. \n",
    "\n",
    "- Formulieren sie Lernstoff als Lernsätze \n",
    "- Sagen Sie sich diese laut auf\n",
    "- Nehmen Sie Lernstoff mit dem Smartphone auf und wiederholen Sie ihn über Kopfhörer \n",
    "- Sprechen Sie mit anderen\n",
    "- Suchen Sie sich Lerngruppen\n",
    "- Suchen Sie sich ruhige Orte ohne Ablenkung\n",
    "\n",
    "</div>\n",
    "<div class=\"col1\">\n",
    "\n",
    "**Der visuelle Lerntyp** lernt am besten, wenn er etwas sieht.\n",
    "\n",
    "- Schreiben Sie in Stichworten mit\n",
    "- Erstellen Sie sich Abbildungen\n",
    "- Suchen Sie nach passenden Vorstellungsbildern\n",
    "- Nutzen Sie Vorstellungsräume\n",
    "- Visualisieren Sie Zusammenhänge in Skizzen, Bildern und Übersichten\n",
    "- Sehen Sie sich Übersichten und Schemata wiederholt an\n",
    "\n",
    "</div>\n",
    "</div>"
   ]
  },
  {
   "cell_type": "markdown",
   "id": "d3998647",
   "metadata": {
    "slideshow": {
     "slide_type": "skip"
    }
   },
   "source": [
    "\n",
    "## Quiz\n",
    "\n",
    "\n",
    "```{quizdown}\n",
    "\t---\n",
    "\tshuffleQuestions: true\n",
    "\tshuffleAnswers: true\n",
    "\t---\n",
    "\n",
    "    ### Ordne die Elemente der Wissenspyramide in der Reihenfolge von 1 bis 7 an.\n",
    "\n",
    "    ![Wissenspyramide Quizz](../_images/wissenspyramide_quizz1.png)\n",
    "\n",
    "    1. Zeichen\n",
    "    2. Syntax\n",
    "    3. Daten\n",
    "    4. Semantik\n",
    "    5. Information\n",
    "    6. Verarbeitung\n",
    "    7. Wissen\n",
    "\n",
    "\n",
    "    ### Was sind Zeichen?\n",
    "\n",
    "    - [X] Ein einzelner Buchstabe\n",
    "    - [X] Eine Ziffer\n",
    "    - [X] Ein Satzzeichen\n",
    "    - [ ] Ein Wort\n",
    "    - [ ] Ein Satz\n",
    "\n",
    "\n",
    "    ### Was ist Syntax?\n",
    "\n",
    "    1. [x] Formale Regeln, die definieren, wie wohlgeformte Ausdrücke auf Basis eines Zeichensatzes gebildet werden.\n",
    "    1. [ ] Vorgaben für die Interpretation von Daten.\n",
    "    1. [ ] Verknüpfung von Informationen durch Algorithmen, Erfahrungen, Werte und Fachkentnissen.\n",
    "\n",
    "\n",
    "    ### Was sind Daten?\n",
    "\n",
    "    1. [ ] Einzelnen Buchstaben, eine Ziffer, ein Sonderzeichen oder ein Steuerzeichen.\n",
    "    1. [x] Eine wiederholt interpretierbare Darstellung von Information in formalisierter Art.\n",
    "    1. [ ] Daten, die mit Sinn und Zweck versehen sind. Sie haben Bedeutung und sind für einen bestimmten Zweck organisiert.\n",
    "    1. [ ] Die gesammelten, verknüpften Informationen über einen bestimmten Sachverhalt, integriert mit persönlichen Erfahrungen.\n",
    "\n",
    "\n",
    "    ### Was ist Semantik?\n",
    "\n",
    "    1. [ ] Formale Regeln, die definieren, wie wohlgeformte Ausdrücke auf Basis eines Zeichensatzes gebildet werden.\n",
    "    1. [x] Vorgaben für die Interpretation von Daten.\n",
    "    1. [ ] Verknüpfung von Informationen durch Algorithmen, Erfahrungen, Werte und Fachkentnissen.\n",
    "\n",
    "\n",
    "    ### Was sind Informationen?\n",
    "\n",
    "    1. [ ] Formale Regeln, die definieren, wie wohlgeformte Ausdrücke auf Basis eines Zeichensatzes gebildet werden.\n",
    "    1. [ ] Eine wiederholt interpretierbare Darstellung von Information in formalisierter Art.\n",
    "    1. [x] Daten, die mit Sinn und Zweck versehen sind. Sie haben Bedeutung und sind für einen bestimmten Zweck organisiert.\n",
    "    1. [ ] Die gesammelten, verknüpften Informationen über einen bestimmten Sachverhalt, integriert mit persönlichen Erfahrungen.\n",
    "\n",
    "\n",
    "    ### Was ist Verarbeitung?\n",
    "\n",
    "    1. [ ] Formale Regeln, die definieren, wie wohlgeformte Ausdrücke auf Basis eines Zeichensatzes gebildet werden.\n",
    "    1. [ ] Vorgaben für die Interpretation von Daten.\n",
    "    1. [x] Verknüpfung von Informationen durch Algorithmen, Erfahrungen, Werte und Fachkentnissen.\n",
    "\n",
    "\n",
    "    ### Was ist Wissen?\n",
    "\n",
    "    1. [ ] Formale Regeln, die definieren, wie wohlgeformte Ausdrücke auf Basis eines Zeichensatzes gebildet werden.\n",
    "    1. [ ] Eine wiederholt interpretierbare Darstellung von Information in formalisierter Art.\n",
    "    1. [ ] Daten, die mit Sinn und Zweck versehen sind. Sie haben Bedeutung und sind für einen bestimmten Zweck organisiert.\n",
    "    1. [x] Die gesammelten, verknüpften Informationen über einen bestimmten Sachverhalt, integriert mit persönlichen Erfahrungen.\n",
    "\n",
    "\n",
    "    ### Was sind in dem Bild die Zeichen?\n",
    "\n",
    "    ![Quelle: https://www.planet-wissen.de/geschichte/antike/hieroglyphen](../_images/hieroglyphs.png)\n",
    "\n",
    "    1. [x] Jede Hieroglyphe\n",
    "      > Jede Hieroglyphen stellt ein Zeichen dar\n",
    "    1. [ ] Jede Spalte\n",
    "    1. [ ] Bedeutung der Hieroglyphe\n",
    "    1. [ ] Kontext aller Hieroglyphen\n",
    "\n",
    "\n",
    "    ### Was ist in dem Bild der Syntax?\n",
    "\n",
    "    ![Quelle: https://www.planet-wissen.de/geschichte/antike/hieroglyphen](../_images/hieroglyphs.png)\n",
    "\n",
    "    1. [ ] Jede Hieroglyphe\n",
    "    1. [x] Jede Spalte\n",
    "      > Die Hieroglyphen sind in Spalten angeordnet. Wir lesen sie von oben nach unten und von rechts nach links.\n",
    "    1. [ ] Bedeutung der Hieroglyphe\n",
    "    1. [ ] Kontext aller Hieroglyphen\n",
    "\n",
    "    ### Was ist in dem Bild die Semantik?\n",
    "\n",
    "    ![Quelle: https://www.planet-wissen.de/geschichte/antike/hieroglyphen](../_images/hieroglyphs.png)\n",
    "\n",
    "    1. [ ] Jede Hieroglyphe\n",
    "    1. [ ] Jede Spalte\n",
    "    1. [x] Bedeutung der Hieroglyphe\n",
    "      > Jede Hieroglyphen hat eine kontextspezifische Bedeutung welche  Bildzeichen, Lautzeichen oder Deutzeichen darstellen können.\n",
    "    1. [ ] Kontext aller Hieroglyphen\n",
    "\n",
    "    ### Was ist in dem Bild die Verarbeitung?\n",
    "\n",
    "    ![Quelle: https://www.planet-wissen.de/geschichte/antike/hieroglyphen](../_images/hieroglyphs.png)\n",
    "\n",
    "    1. [ ] Jede Hieroglyphe\n",
    "    1. [ ] Jede Spalte\n",
    "    1. [ ] Bedeutung der Hieroglyphe\n",
    "    1. [x] Kontext aller Hieroglyphen\n",
    "      > Die Hieroglyphen können nur in Ihrem Kontext korrekt Interpretiert werden.\n",
    "```"
   ]
  },
  {
   "cell_type": "markdown",
   "id": "6b32d9cb",
   "metadata": {
    "editable": true,
    "slideshow": {
     "slide_type": "slide"
    },
    "tags": [
     "remove-cell"
    ]
   },
   "source": [
    "<div class=\"vslide\">\n",
    "  <div class=\"questions\" style=\"letter-spacing: 0.03em; font-family: Protomolecule; font-size: 2.3em; position: absolute; top: 50%; left: 50%; transform: translate(-50%, -50%); color: black; z-index: 5;\">fragen?</div>\n",
    "<script>setSectionBackground('#000000', 'images/mj_questions.mp4');</script>\n",
    "</div>"
   ]
  }
 ],
 "metadata": {
  "kernelspec": {
   "display_name": "Python 3 (ipykernel)",
   "language": "python",
   "name": "python3"
  },
  "language_info": {
   "codemirror_mode": {
    "name": "ipython",
    "version": 3
   },
   "file_extension": ".py",
   "mimetype": "text/x-python",
   "name": "python",
   "nbconvert_exporter": "python",
   "pygments_lexer": "ipython3",
   "version": "3.12.10"
  },
  "rise": {
   "auto_select": "none",
   "center": false,
   "enable_chalkboard": true,
   "header": "<img src=\"images/pd_logo.svg\" class=\"header_title_logo\"><img src=\"images/ai4sc_logo_v2.svg\" class=\"header_ai4sc_logo\">",
   "height": "2160",
   "scroll": true,
   "show_buttons_on_startup": false,
   "slideNumber": true,
   "theme": "white",
   "width": "3840"
  }
 },
 "nbformat": 4,
 "nbformat_minor": 5
}
