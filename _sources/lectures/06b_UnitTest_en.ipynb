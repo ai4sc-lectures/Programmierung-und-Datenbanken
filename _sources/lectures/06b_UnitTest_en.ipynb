{
 "cells": [
  {
   "cell_type": "markdown",
   "id": "19d8750ba1d5419c9c9123621756c71c",
   "metadata": {
    "editable": true,
    "slideshow": {
     "slide_type": "slide"
    },
    "tags": [
     "remove-cell",
     "translated_en"
    ],
    "translation": {
     "lang": "de",
     "src_hash": "9f0c6e2ee4d091509aeeadd936fdedd07e5f12f2858c4b12b8b94fbfff6b4264",
     "updated_at_iso": "2025-08-16T16:42:22.666204+00:00"
    }
   },
   "source": [
    "<div class=\"vslide\">\n",
    "  <div class=\"vslide-title\">\n",
    "    <p style=\"font-family: Protomolecule; font-size: 2.3em; line-height: 90%; margin: 0px auto; text-align: center; width: 100%;\"><span style=\"letter-spacing: .04rem;\">Programming</span><br><span style=\"letter-spacing: .0rem;\">and databases</span></p>\n",
    "<p class=\"author\" style=\"font-family: Protomolecule; margin: 0px auto;  text-align: center; width: 100%; font-size: 1.2em;\">Joern Ploennigs</p>\n",
    "<p class=\"subtitle\" style=\"font-family: Protomolecule; margin: 1em auto; text-align: center; width: 100%; font-size: 1.2em;\">Unit-Tests</p>\n",
    "<figcaption>Midjourney: Waves testing a boat, ref. Hokusai</figcaption>\n",
    "  </div>\n",
    "<script>\n",
    "  function setSectionBackground(c,v){\n",
    "    let e=document.currentScript.previousElementSibling;\n",
    "    while(e&&e.tagName!=='SECTION')e=e.parentElement;\n",
    "    if(e){\n",
    "      if(c)e.setAttribute('data-background-color',c);\n",
    "      if(v){\n",
    "        e.setAttribute('data-background-video',v);\n",
    "        e.setAttribute('data-background-video-loop','true');\n",
    "        e.setAttribute('data-background-video-muted','true');\n",
    "      }\n",
    "    }\n",
    "  }\n",
    "  setSectionBackground('#000000', 'images/06b_UnitTest/mj_title.mp4');\n",
    "</script>\n",
    "<style>\n",
    ".flex-row{display:flex; gap:2rem; align-items:flex-start; justify-content:space-between;}\n",
    ".flex-row .col1{flex:1; min-width:10px}\n",
    ".flex-row .col2{flex:2; min-width:10px}\n",
    ".flex-row .col3{flex:3; min-width:10px}\n",
    ".flex-row .col4{flex:4; min-width:10px}\n",
    ".flex-row .col5{flex:5; min-width:10px}\n",
    ".flex-row .col6{flex:6; min-width:10px}\n",
    ".flex-row .col7{flex:7; min-width:10px}\n",
    ".vcent{display:flex; align-items:center; justify-content:center}\n",
    "</style>\n",
    "</div>"
   ]
  },
  {
   "cell_type": "markdown",
   "id": "05020e25904b496f9b21c4e3c34dfbc9",
   "metadata": {
    "editable": true,
    "slideshow": {
     "slide_type": "skip"
    },
    "tags": [
     "translated_en"
    ],
    "translation": {
     "lang": "de",
     "src_hash": "9184c4fad5d70d7e6fe5c3e92f260c062baa953e8f1e3d02e2366cbc29446739",
     "updated_at_iso": "2025-08-16T16:42:25.889350+00:00"
    }
   },
   "source": [
    "# Unit tests"
   ]
  },
  {
   "cell_type": "markdown",
   "id": "330123a9c5ff49299f8c4e99757fdce7",
   "metadata": {
    "slideshow": {
     "slide_type": "skip"
    },
    "tags": [
     "translated_en"
    ],
    "translation": {
     "lang": "de",
     "src_hash": "2cc0003897c6bdf2ac89301d936194f6a3583252b360033c224c4310c85a46a2",
     "updated_at_iso": "2025-08-16T16:42:29.671625+00:00"
    }
   },
   "source": [
    "<figure class=\"mj-tile-band\">\n",
    "    <img src='images/06b_UnitTest/mj_title_band.jpg'>\n",
    "    <figcaption>Midjourney: Waves testing a boat, ref. Hokusai</figcaption>\n",
    "</figure>\n",
    "\n",
    "> The only way to go fast is to go well.\n",
    ">\n",
    "> — Robert C. Martin"
   ]
  },
  {
   "cell_type": "markdown",
   "id": "a0318956473d46809168953c98a457d3",
   "metadata": {
    "slideshow": {
     "slide_type": "skip"
    },
    "tags": [
     "translated_en"
    ],
    "translation": {
     "lang": "de",
     "src_hash": "c7a9b3c1cdabf008ace2d55762f83503dc24a149ed61e5ce2a5b052c4fdc91d9",
     "updated_at_iso": "2025-08-16T16:42:32.740332+00:00"
    }
   },
   "source": [
    "## <a href=\"/lec_slides/06b_UnitTest.slides.html\">Slides</a>/<a href=\"/pdf/slides/06b_UnitTest.pdf\">PDF</a>\n",
    "<iframe src=\"/lec_slides/06b_UnitTest.slides.html\" width=\"750\" height=\"500\"></iframe>"
   ]
  },
  {
   "cell_type": "markdown",
   "id": "853533368133430ebe81d5066edda826",
   "metadata": {
    "slideshow": {
     "slide_type": "slide"
    },
    "tags": [
     "remove-cell",
     "translated_en"
    ],
    "translation": {
     "lang": "de",
     "src_hash": "1d0c33e5a4df96f1cffb5f04c147ce2dd746b3569804e70ee2d814f533ad4eb2",
     "updated_at_iso": "2025-08-16T16:42:35.573611+00:00"
    }
   },
   "source": [
    "## Procedure\n",
    "\n",
    "![](images/partA_7.svg)"
   ]
  },
  {
   "cell_type": "markdown",
   "id": "ff57ab8fb9674fa1aee7d217d564c8b3",
   "metadata": {
    "slideshow": {
     "slide_type": "skip"
    },
    "tags": [
     "translated_en"
    ],
    "translation": {
     "lang": "de",
     "src_hash": "5afa6eef01c4c5df5201d2faf2e1beccb77f19f767fb118985abd229090e1d9c",
     "updated_at_iso": "2025-08-16T16:42:37.800685+00:00"
    }
   },
   "source": [
    "## Functional test"
   ]
  },
  {
   "cell_type": "markdown",
   "id": "671444e8212a4eef81bf08091855a7c8",
   "metadata": {
    "slideshow": {
     "slide_type": "skip"
    },
    "tags": [
     "translated_en"
    ],
    "translation": {
     "lang": "de",
     "src_hash": "e63bd78d3874f698fd3315df73b2fc91bac2dc6417e99b9bb05aa056e97fc03a",
     "updated_at_iso": "2025-08-16T16:42:45.049159+00:00"
    }
   },
   "source": [
    "Unit tests are very important for preventing and diagnosing errors. A unit test tests a single code module, such as a function or a class. \n",
    "\n",
    "For testing, Python typically uses dedicated packages like `unittest` or `nosetest`, which are then executed automatically when code changes. Simple tests can be written directly in the code. For this, the `assert` statement is used. It checks whether a test condition is met (assert) and raises an `AssertionError` exception if this is not the case.\n",
    "\n",
    "We want, for example, to test the [previously defined division function](6_Exceptions.html#Exceptions_selbst_erzeugen) `division()`."
   ]
  },
  {
   "cell_type": "code",
   "execution_count": null,
   "id": "1208a16ecd5a494dad25fcc944619795",
   "metadata": {
    "slideshow": {
     "slide_type": "skip"
    },
    "tags": [
     "translated_en"
    ],
    "translation": {
     "lang": "de",
     "src_hash": "2a0ae63dbc469fd3e78e88766dc849fc5e85fd5e11c8e985443480762ef88c9b",
     "updated_at_iso": "2025-08-16T16:43:00.383221+00:00"
    }
   },
   "outputs": [],
   "source": [
    "def divide(numerator, denominator):\n",
    "    if not isinstance(denominator, (int, float)):\n",
    "        raise ValueError(f\"Nenner nicht vom Datentyp `int` oder `float`\")\n",
    "    elif not isinstance(numerator, (int, float)):\n",
    "        raise ValueError(f\"Zaehler nicht vom Datentyp `int` oder `float`\")\n",
    "    elif not denominator:\n",
    "        print(\"Warnung Division durch 0\")\n",
    "        return None\n",
    "    else:\n",
    "        result = numerator / denominator\n",
    "        print(f\"Das Ergebnis von {numerator}/{denominator} = {result}\")\n",
    "        return result"
   ]
  },
  {
   "cell_type": "markdown",
   "id": "ef99d4faf70a47a3887d7d519bd71211",
   "metadata": {
    "slideshow": {
     "slide_type": "skip"
    },
    "tags": [
     "translated_en"
    ],
    "translation": {
     "lang": "de",
     "src_hash": "15b3294e7fa3accd2eff71852f351106a75b3ffbc77681c168238ff5c3c3bc4a",
     "updated_at_iso": "2025-08-16T16:43:07.060205+00:00"
    }
   },
   "source": [
    "For this, we first write a *functional test*. These tests verify the correct functioning of a module with multiple inputs for which we know the correct result. Here you usually perform several tests to ensure that you don't get the correct result by chance, but rather for different combinations."
   ]
  },
  {
   "cell_type": "markdown",
   "id": "8ceb171c082d43b2b7f42dcf79227b44",
   "metadata": {
    "slideshow": {
     "slide_type": "skip"
    },
    "tags": [
     "translated_en"
    ],
    "translation": {
     "lang": "de",
     "src_hash": "5da4f8e8dc87ca6632e51ce200186818fc80cf5a9602107475bea2bdc08b6f16",
     "updated_at_iso": "2025-08-16T16:43:10.537432+00:00"
    }
   },
   "source": [
    "<center><img src=\"https://mermaid.ink/svg/pako:eNptj0trAjEUhf9KuCuFEargJrSCokihuKh0NZlFas44wcyN5FGx4n9vrC100bs65_Kd-7jQzhuQpH3Qx068vCoWpeKgXj1v1vPF6vE9zD41OofwNH64OQZzMZNmKEajmRCn2tgPG63n5h4-3fsY1PO37e-MgJQDi2kz_NmQzg4iitY6J9kzqpiCP-Bb_0XwP0IV9Qi9tqYcf7kFFKUOPRTJIg1anV1SpPhaUJ2T3555RzKFjIry0eiEpdXl7Z5kq13E9QvkMFg7\" width=\"30%\"></center>"
   ]
  },
  {
   "cell_type": "code",
   "execution_count": null,
   "id": "017931f191b8485b9208729cb5a3649a",
   "metadata": {
    "slideshow": {
     "slide_type": "skip"
    },
    "tags": [
     "translated_en"
    ],
    "translation": {
     "lang": "de",
     "src_hash": "1571ffb2e9028fd93bd959261b3ec5967d30920af19297192020750a6c20b625",
     "updated_at_iso": "2025-08-16T16:43:14.225850+00:00"
    }
   },
   "outputs": [],
   "source": [
    "def test_function(): # The usual notation for tests in Python is to have function names starting with `test_`\n",
    "    assert division(10, 2) == 5\n",
    "    assert division(10, 5) == 2\n",
    "    assert division(50, 1) == 50\n",
    "    assert division(50, 5) == 10"
   ]
  },
  {
   "cell_type": "code",
   "execution_count": null,
   "id": "8409a3a7e6424407913f800620c1a20e",
   "metadata": {
    "slideshow": {
     "slide_type": "skip"
    },
    "tags": [
     "translated_en"
    ],
    "translation": {
     "lang": "de",
     "src_hash": "81c75108d4b29507f9167e01c7ebec6e0abab80b19aff6784277dac4213d3c24",
     "updated_at_iso": "2025-08-16T16:43:17.899849+00:00"
    }
   },
   "outputs": [],
   "source": [
    "test_function()"
   ]
  },
  {
   "cell_type": "markdown",
   "id": "ce879011ce904bdba193bfc9908563f1",
   "metadata": {
    "slideshow": {
     "slide_type": "skip"
    },
    "tags": [
     "translated_en"
    ],
    "translation": {
     "lang": "de",
     "src_hash": "c43a95a1831fd65bfab96672b1f52bf5e623bbd8e578a5de11c8cd806b217f51",
     "updated_at_iso": "2025-08-16T16:43:21.491944+00:00"
    }
   },
   "source": [
    "## Limit Test"
   ]
  },
  {
   "cell_type": "markdown",
   "id": "63cb546616a4410b8bd28a4f1c340421",
   "metadata": {
    "slideshow": {
     "slide_type": "skip"
    },
    "tags": [
     "translated_en"
    ],
    "translation": {
     "lang": "de",
     "src_hash": "41083b1bea5ea86f5d8b9072dd2e9036aca55af740c42581264ba94d09be8910",
     "updated_at_iso": "2025-08-16T16:43:27.269136+00:00"
    }
   },
   "source": [
    "Another important test is the *boundary value test*. Here you check whether inputs in the boundary value range are handled correctly. For example, whether positive or negative infinity is handled, or whether division by zero is handled. We defined above, when creating the function, that in the case of a division by zero the function should output the value `None`."
   ]
  },
  {
   "cell_type": "markdown",
   "id": "d8de892892064ebbb890501387029b20",
   "metadata": {
    "slideshow": {
     "slide_type": "skip"
    },
    "tags": [
     "translated_en"
    ],
    "translation": {
     "lang": "de",
     "src_hash": "8f0acd75dbfe424aeff6fa2717c195c65803584b479b16a62355a448ceabc7a6",
     "updated_at_iso": "2025-08-16T16:43:35.265006+00:00"
    }
   },
   "source": [
    "<center><img src=\"https://mermaid.ink/svg/pako:eNptT8uKAjEQ_JXQJ4UR9Bp2BUURQTwoe3Eyh17T4wQznSGPFRX_feO6ggf7VFVd1Y8r7J0mkHDw2DVitVEscoVeOV-uF5Pp_OPbjy9IjSX_ORreGRNzJsOqLwaDsRCnUpsfE4zj6hE-PXTqlZOv7XOGp5g8i7Vjqvr_S-LZkgiiNtZKzo0iRO-O9IdfLfTeAgW05Fs0Ot9_vQcUxIZaUiAz1FRjslGB4lu2Yopue-Y9yOgTFZA6jZFmBvPnLcgabchqh7xz7slvv-QCXy0\" width=\"30%\"></center>"
   ]
  },
  {
   "cell_type": "code",
   "execution_count": null,
   "id": "8525a64a9d2249368f6eecf8f2f5926b",
   "metadata": {
    "slideshow": {
     "slide_type": "skip"
    },
    "tags": [
     "translated_en"
    ],
    "translation": {
     "lang": "de",
     "src_hash": "0aca6b0a6044495ec45e31a91c13af5ab7193e8f21a298ee00a53f9d44d94ab4",
     "updated_at_iso": "2025-08-16T16:43:40.952038+00:00"
    }
   },
   "outputs": [],
   "source": [
    "import math # Infinity is defined in the math library\n",
    "\n",
    "def test_limit():\n",
    "    assert division(math.inf, 1) == math.inf\n",
    "    assert division(math.inf, 100) == math.inf\n",
    "    assert math.isnan(division(math.inf, math.inf)) # Checking for nan (not a number) is only possible through the `isnan` function\n",
    "    assert division(1, math.inf) == 0\n",
    "    assert division(100, 0) is None"
   ]
  },
  {
   "cell_type": "code",
   "execution_count": null,
   "id": "58fe15a271c44e34995c71b9f8bce033",
   "metadata": {
    "slideshow": {
     "slide_type": "skip"
    },
    "tags": [
     "translated_en"
    ],
    "translation": {
     "lang": "de",
     "src_hash": "15a01ad9130df6c3bb1c27ba5d7c0d3a6dd4528e23c0efab0005f2f9c0455430",
     "updated_at_iso": "2025-08-16T16:43:45.691299+00:00"
    }
   },
   "outputs": [],
   "source": [
    "test_limit_value()"
   ]
  },
  {
   "cell_type": "markdown",
   "id": "4cf850b5b16f4607b59ccf9c90460f7b",
   "metadata": {
    "slideshow": {
     "slide_type": "skip"
    },
    "tags": [
     "translated_en"
    ],
    "translation": {
     "lang": "de",
     "src_hash": "4327cd18717e358828e32c8283be5ad4545c7611c111bdf6568cc33a77f96264",
     "updated_at_iso": "2025-08-16T16:43:50.670170+00:00"
    }
   },
   "source": [
    "## Data Type Test"
   ]
  },
  {
   "cell_type": "markdown",
   "id": "e167db0a8dc845888173f35cb6beadc9",
   "metadata": {
    "slideshow": {
     "slide_type": "skip"
    },
    "tags": [
     "translated_en"
    ],
    "translation": {
     "lang": "de",
     "src_hash": "b5af6afe18d36f7270a05803d1e43dffa66ea6869690c388df3282d358d03227",
     "updated_at_iso": "2025-08-16T16:43:58.355738+00:00"
    }
   },
   "source": [
    "Since Python supports dynamic typing, *type testing* is very important. This involves testing whether the function handles inputs with incorrect data types correctly."
   ]
  },
  {
   "cell_type": "markdown",
   "id": "9b2aba149fd34c6c850bb1d25a4bb0f2",
   "metadata": {
    "slideshow": {
     "slide_type": "skip"
    },
    "tags": [
     "translated_en"
    ],
    "translation": {
     "lang": "de",
     "src_hash": "d6b610bdcdfa0d22fa6cb78e49f43a3910cc8101cb51814bbecfcbd021330518",
     "updated_at_iso": "2025-08-16T16:44:03.286793+00:00"
    }
   },
   "source": [
    "<center><img src=\"https://mermaid.ink/svg/pako:eNptT8tqAkEQ_JWhLyqskPOQCIpLCIQcIvGQHQ_tTm92yGzPMo-oEf89s1HBg32qKqq6qCPUThNI-PLYt-L1XbHIF8ZV-fL2PF-Uj1s_-0VqLfmnUYh-NAhMzJk_bCZiOp0Jsau0-THBON6c87uzTuNq_rG6vlmjTVTua-rj4JxcquLBkgiiMdZKdkxFbnHf9I9vLXTfAgV05Ds0Oq84DgEFsaWOFMgMNTWYbFSg-JStmKJbHbgGGX2iAlKvMdLSYN7fgWzQhqz2yJ_OXfnpD57_Yc8\" width=\"30%\"></center>"
   ]
  },
  {
   "cell_type": "markdown",
   "id": "40201517f5994b44bd4dec10962778bc",
   "metadata": {
    "slideshow": {
     "slide_type": "skip"
    },
    "tags": [
     "translated_en"
    ],
    "translation": {
     "lang": "de",
     "src_hash": "d159b39cd7e3fb9ae71d689759197e4e8f9bd23ab9652646217b7e4050651d4b",
     "updated_at_iso": "2025-08-16T16:44:06.345909+00:00"
    }
   },
   "source": [
    "We can't directly use `assert` here, because it would crash our code."
   ]
  },
  {
   "cell_type": "code",
   "execution_count": null,
   "id": "b486bdaf2aaa4e49b5155fa2769a3f77",
   "metadata": {
    "slideshow": {
     "slide_type": "skip"
    },
    "tags": [
     "raises-exception",
     "translated_en"
    ],
    "translation": {
     "lang": "de",
     "src_hash": "45f3fe486b9de7f1560ab009c1299e1d7300eccfc54e66569239537a9948ad42",
     "updated_at_iso": "2025-08-16T16:44:10.334961+00:00"
    }
   },
   "outputs": [],
   "source": [
    "assert division(\"falscher typ\", 1) is ValueError"
   ]
  },
  {
   "cell_type": "markdown",
   "id": "4607880aa2ba46cea605606a787e951c",
   "metadata": {
    "slideshow": {
     "slide_type": "skip"
    },
    "tags": [
     "translated_en"
    ],
    "translation": {
     "lang": "de",
     "src_hash": "22b385adb9650eae75d2b58250a63128769cbaddadd4a4c9c4fcc60657dc3cc2",
     "updated_at_iso": "2025-08-16T16:44:16.480415+00:00"
    }
   },
   "source": [
    "Instead, in the test we use a `try-except` block and the `else` clause. It will only be executed if in the `try` block *no* exception occurs, which is undesirable in the test case, so we raise an `AssertionError` in this case, since the test case fails. Furthermore, we check whether the exception thrown by the function also has the correct type `TypeError`."
   ]
  },
  {
   "cell_type": "code",
   "execution_count": null,
   "id": "30d506628b3547d6bd9a33720b449403",
   "metadata": {
    "slideshow": {
     "slide_type": "skip"
    },
    "tags": [
     "translated_en"
    ],
    "translation": {
     "lang": "de",
     "src_hash": "01e1851d2ad09c076a7add30e4c0f810bbb81e6e1dd25538886d8782a64668fe",
     "updated_at_iso": "2025-08-16T16:44:23.592551+00:00"
    }
   },
   "outputs": [],
   "source": [
    "def test_datatype():\n",
    "    # we test the numerator\n",
    "    try:  \n",
    "        division(\"falscher typ\", 1)\n",
    "    except Exception as e:\n",
    "        assert isinstance(e, ValueError)\n",
    "    else:\n",
    "        raise AssertionError(\"Datatype\")\n",
    "    # the second case of the denominator\n",
    "    try:\n",
    "        division(10, \"falscher typ\")\n",
    "    except Exception as e:\n",
    "        assert isinstance(e, ValueError)\n",
    "    else:\n",
    "        raise AssertionError(\"Datatype\")"
   ]
  },
  {
   "cell_type": "code",
   "execution_count": null,
   "id": "b2f68420ef9342d4a101f581665aad9a",
   "metadata": {
    "slideshow": {
     "slide_type": "skip"
    },
    "tags": [
     "translated_en"
    ],
    "translation": {
     "lang": "de",
     "src_hash": "05c4a87ac73f944e72cfe73c95c1633fe9369c62e4153961ae247814461956a7",
     "updated_at_iso": "2025-08-16T16:44:29.183241+00:00"
    }
   },
   "outputs": [],
   "source": [
    "test_data_type()"
   ]
  },
  {
   "cell_type": "markdown",
   "id": "408a4eeb4a9640d7821e64d893113b8d",
   "metadata": {
    "slideshow": {
     "slide_type": "skip"
    },
    "tags": [
     "translated_en"
    ],
    "translation": {
     "lang": "de",
     "src_hash": "cc3b9f53bd6c833e78ad3eff2000cf899718cddd2497bffb2cbf3a8a13d4193a",
     "updated_at_iso": "2025-08-16T16:44:31.766702+00:00"
    }
   },
   "source": [
    "## Detecting Errors in Code Changes with Tests"
   ]
  },
  {
   "cell_type": "markdown",
   "id": "17aada82957a4765ad0a499d6185985d",
   "metadata": {
    "slideshow": {
     "slide_type": "skip"
    },
    "tags": [
     "translated_en"
    ],
    "translation": {
     "lang": "de",
     "src_hash": "33565c47cb58b539fe14b717304cd0f808e553b5fbb307eb5143c28403466c66",
     "updated_at_iso": "2025-08-16T16:44:38.000730+00:00"
    }
   },
   "source": [
    "We deliberately defined these unit tests as functions so that we can run them repeatedly whenever the code changes. This allows us to test whether the implementation actually meets the stated expectations, or still does so.\n",
    "\n",
    "For example, will the division function be overwritten by a trivial implementation?"
   ]
  },
  {
   "cell_type": "code",
   "execution_count": null,
   "id": "872e9d382379446684edda4ebc773b58",
   "metadata": {
    "slideshow": {
     "slide_type": "skip"
    },
    "tags": [
     "translated_en"
    ],
    "translation": {
     "lang": "de",
     "src_hash": "d5043426bcdc7d15c6919b6b1410233e83e6a4a71d800659ec114defaaa2fadc",
     "updated_at_iso": "2025-08-16T16:44:42.091328+00:00"
    }
   },
   "outputs": [],
   "source": [
    "def divide(numerator, denominator):\n",
    "    return numerator / denominator"
   ]
  },
  {
   "cell_type": "markdown",
   "id": "59a520c57d654c7294213ef594bf253d",
   "metadata": {
    "slideshow": {
     "slide_type": "skip"
    },
    "tags": [
     "translated_en"
    ],
    "translation": {
     "lang": "de",
     "src_hash": "b7bb21c591adcdbc6e7c7c0a50f24ba96e6789a13127271bdd6a4594a36b8a8a",
     "updated_at_iso": "2025-08-16T16:44:45.358034+00:00"
    }
   },
   "source": [
    "This is still how our functional test works. That’s why it’s usually not enough to implement only this test or to only verify the function during development."
   ]
  },
  {
   "cell_type": "code",
   "execution_count": null,
   "id": "f72ed73ea7c1483fb05d40aeb5c9e23e",
   "metadata": {
    "slideshow": {
     "slide_type": "skip"
    },
    "tags": [
     "translated_en"
    ],
    "translation": {
     "lang": "de",
     "src_hash": "81c75108d4b29507f9167e01c7ebec6e0abab80b19aff6784277dac4213d3c24",
     "updated_at_iso": "2025-08-16T16:44:49.256034+00:00"
    }
   },
   "outputs": [],
   "source": [
    "test_function()"
   ]
  },
  {
   "cell_type": "markdown",
   "id": "c41f61f5393d40e0a38c79c33e8ad1a2",
   "metadata": {
    "slideshow": {
     "slide_type": "skip"
    },
    "tags": [
     "translated_en"
    ],
    "translation": {
     "lang": "de",
     "src_hash": "e3f8f25d41cd584c6b0aaa3397bd9f280be483739fbaef2154913b59c883546d",
     "updated_at_iso": "2025-08-16T16:44:53.045359+00:00"
    }
   },
   "source": [
    "However, the boundary-value test will now throw an exception."
   ]
  },
  {
   "cell_type": "code",
   "execution_count": null,
   "id": "cd5d514592344f569151b9da51faf770",
   "metadata": {
    "slideshow": {
     "slide_type": "skip"
    },
    "tags": [
     "raises-exception",
     "translated_en"
    ],
    "translation": {
     "lang": "de",
     "src_hash": "15a01ad9130df6c3bb1c27ba5d7c0d3a6dd4528e23c0efab0005f2f9c0455430",
     "updated_at_iso": "2025-08-16T16:44:57.864981+00:00"
    }
   },
   "outputs": [],
   "source": [
    "test_grenzwert()"
   ]
  },
  {
   "cell_type": "markdown",
   "id": "9c9006b2c6524886b73cda60f2e8d368",
   "metadata": {
    "slideshow": {
     "slide_type": "skip"
    },
    "tags": [
     "translated_en"
    ],
    "translation": {
     "lang": "de",
     "src_hash": "537c7619f3dbf28078425b8408a70dfaef6143ca00b3671a43f0e4fc2d7436da",
     "updated_at_iso": "2025-08-16T16:45:01.267738+00:00"
    }
   },
   "source": [
    "The data type test isn't successful either, since we've defined that a `ValueError` should be raised for incorrect input data types, but we're getting a `TypeError`."
   ]
  },
  {
   "cell_type": "code",
   "execution_count": null,
   "id": "d02d266595a74937a003b841cf3607b1",
   "metadata": {
    "slideshow": {
     "slide_type": "skip"
    },
    "tags": [
     "raises-exception",
     "translated_en"
    ],
    "translation": {
     "lang": "de",
     "src_hash": "05c4a87ac73f944e72cfe73c95c1633fe9369c62e4153961ae247814461956a7",
     "updated_at_iso": "2025-08-16T16:45:04.365718+00:00"
    }
   },
   "outputs": [],
   "source": [
    "test_data_type()"
   ]
  },
  {
   "cell_type": "markdown",
   "id": "45ab3ac67e02482ba7bc536578bbfbfa",
   "metadata": {
    "editable": true,
    "slideshow": {
     "slide_type": "slide"
    },
    "tags": [
     "remove-cell",
     "translated_en"
    ],
    "translation": {
     "lang": "de",
     "src_hash": "28f02b32bf8efa7ed9838e316323a0d54fc48e4e5337b145d65b0265a22bc004",
     "updated_at_iso": "2025-08-16T16:45:11.568288+00:00"
    }
   },
   "source": [
    "## Strategies for dealing with programming errors\n",
    "\n",
    "5 main strategies:\n",
    "\n",
    "1. Error prevention\n",
    "2. Error detection\n",
    "3. Bug fixing\n",
    "4. Error handling\n",
    "5. Error exclusion\n",
    "\n",
    "Each strategy has its own methods and tools"
   ]
  },
  {
   "cell_type": "markdown",
   "id": "1213e60253e749dca0cca3204cd46576",
   "metadata": {
    "editable": true,
    "slideshow": {
     "slide_type": "subslide"
    },
    "tags": [
     "remove-cell",
     "translated_en"
    ],
    "translation": {
     "lang": "de",
     "src_hash": "1e9bc28a264438a60e5c606c32a5eccfb1774ea18683621d649c39bd9e3e3265",
     "updated_at_iso": "2025-08-16T16:45:19.371989+00:00"
    }
   },
   "source": [
    "## 1. Error Prevention\n",
    "\n",
    "- Core principle: Start with knowledge of where errors can occur\n",
    "\n",
    "- Strategies for safe code:\n",
    "    - *Code Reviews* → Each line of code is reviewed by a different programmer\n",
    "    - *Test-Driven Development* → You write the test before the actual code\n",
    "    - *Full Test Coverage* → Every line of code should have at least one test\n",
    "\n",
    "- Note: Prevention can require a lot of upfront work"
   ]
  },
  {
   "cell_type": "markdown",
   "id": "233b29294dfc4f80983dc2e951764657",
   "metadata": {
    "editable": true,
    "slideshow": {
     "slide_type": "subslide"
    },
    "tags": [
     "remove-cell",
     "translated_en"
    ],
    "translation": {
     "lang": "de",
     "src_hash": "e38cade8bbab98da33617f324467cb5cecd7c59921365fc3afe79e60eb8d0519",
     "updated_at_iso": "2025-08-16T16:45:27.615285+00:00"
    }
   },
   "source": [
    "## 2. Error Detection\n",
    "\n",
    "Different types of errors require different tools\n",
    "\n",
    "<div class=\"flex-row\">\n",
    "<div class=\"col1\">\n",
    "\n",
    "Syntax errors:\n",
    "- Automatically detected in the IDE\n",
    "\n",
    "</div>\n",
    "<div class=\"col1\">\n",
    "\n",
    "Static errors:\n",
    "- Via *lint tools* (static code analysis)\n",
    "- Rule-based approaches\n",
    "- Modern IDEs internally use lint tools\n",
    "\n",
    "</div>\n",
    "<div class=\"col1\">\n",
    "\n",
    "Dynamic errors:\n",
    "- Checked by *automatically executed unit tests*\n",
    "- After every code change\n",
    "- Systematically test functions/methods\n",
    "\n",
    "</div>\n",
    "</div>"
   ]
  },
  {
   "cell_type": "markdown",
   "id": "753b02ba4a7b40d3b1d1d20f3161065e",
   "metadata": {
    "editable": true,
    "slideshow": {
     "slide_type": "subslide"
    },
    "tags": [
     "remove-cell",
     "translated_en"
    ],
    "translation": {
     "lang": "de",
     "src_hash": "0ea85d6c09ac14831bd61c7aebfa4c0879268da832796e8443cc13f646e83ac7",
     "updated_at_iso": "2025-08-16T16:45:36.479505+00:00"
    }
   },
   "source": [
    "## 2. Error Detection – Unit Tests\n",
    "\n",
    "<div class=\"alert alert-block alert-success\">\n",
    "<b>📘 Definition: Unit-Test</b>\n",
    "\n",
    "Unit tests are additional code written solely to test a module (function, class, module).\n",
    "</div>\n",
    "\n",
    "- Key properties:\n",
    "    - Often the test code is more extensive than the code being tested\n",
    "    - *Goal:* Verify that the module correctly performs the desired function\n",
    "    - *White-box test:* Call the module with specific inputs\n",
    "    - Check expected outputs or exceptions\n",
    "    - Should be executed automatically after every code change"
   ]
  },
  {
   "cell_type": "markdown",
   "id": "6ab9dea8d1da467fb598cb4fad20415f",
   "metadata": {
    "editable": true,
    "slideshow": {
     "slide_type": "subslide"
    },
    "tags": [
     "remove-cell",
     "translated_en"
    ],
    "translation": {
     "lang": "de",
     "src_hash": "e6481bf17d4888fad256e9e903dd3f8b964bae3f5773a41e60511d7e080736dd",
     "updated_at_iso": "2025-08-16T16:45:50.327654+00:00"
    }
   },
   "source": [
    "## 2. Error Detection – Unit Test Types\n",
    "\n",
    "<div class=\"flex-row\">\n",
    "<div class=\"col1\">\n",
    "\n",
    "**Functional Tests**\n",
    "\n",
    "Correct implementation of the function\n",
    "\n",
    "\n",
    "Example: Division module\n",
    "```python\n",
    "numerator = 10\n",
    "denominator = 2\n",
    "result = division(numerator, denominator)\n",
    "assert result == 5  # Expected: 5\n",
    "```\n",
    "\n",
    "</div>\n",
    "<div class=\"col1\">\n",
    "\n",
    "**Boundary Value Tests**\n",
    "\n",
    "Correct handling of boundary values\n",
    "\n",
    "```python\n",
    "numerator = 10\n",
    "denominator = 0\n",
    "result = division(numerator, denominator)\n",
    "assert result == None  # Expected: None\n",
    "```\n",
    "</div>\n",
    "<div class=\"col1\">\n",
    "\n",
    "**Data Type Tests**\n",
    "\n",
    "Correct handling of unexpected inputs\n",
    "\n",
    "```python\n",
    "numerator = 'not_a_number'\n",
    "denominator = 0\n",
    "try:\n",
    "    result = division(numerator, denominator)\n",
    "    assert False  # We let the test fail \n",
    "except TypeError as e:\n",
    "    # Expected: TypeError\n",
    "```\n",
    "</div>\n",
    "</div>"
   ]
  },
  {
   "cell_type": "markdown",
   "id": "72794163d0d54c989394ad4d04c2fdf9",
   "metadata": {
    "editable": true,
    "slideshow": {
     "slide_type": "subslide"
    },
    "tags": [
     "remove-cell",
     "translated_en"
    ],
    "translation": {
     "lang": "de",
     "src_hash": "18535fb18c5d7ad33c5c131953c0b6eaa4d5187319efa35122fcabb6e517b9c1",
     "updated_at_iso": "2025-08-16T16:45:56.657306+00:00"
    }
   },
   "source": [
    "## 3. Debugging - Fundamentals\n",
    "\n",
    "<div class=\"alert alert-block alert-success\">\n",
    "<b>📘 Definition: Debugging</b>\n",
    "\n",
    "Debugging is the systematic search for and fixing of errors.\n",
    "</div>\n",
    "\n",
    "- Methods:\n",
    "    - Logging messages to trace the program flow\n",
    "    - Debugger for detailed analysis\n",
    "\n",
    "- Debugger features:\n",
    "    - Step-by-step execution of code lines\n",
    "    - Monitoring variable values\n",
    "    - Dynamically inserting code"
   ]
  },
  {
   "cell_type": "markdown",
   "id": "fdad23e17ea5445190b2bf53c15940ab",
   "metadata": {
    "editable": true,
    "slideshow": {
     "slide_type": "subslide"
    },
    "tags": [
     "remove-cell",
     "translated_en"
    ],
    "translation": {
     "lang": "de",
     "src_hash": "aea2ff0d0b57142916bee66088ad57b899743196f4b9a310a8d195f060cb4105",
     "updated_at_iso": "2025-08-16T16:46:04.364963+00:00"
    }
   },
   "source": [
    "## 3. Debugging in Python\n",
    "\n",
    "- Systematic debugging is a core skill for every programmer\n",
    "- Python debugging tools\n",
    "    - Standard debugger: pdb (Python module)\n",
    "    - IDE-specific debugger (often more user-friendly)\n",
    "- More details on this in the exercise!"
   ]
  },
  {
   "cell_type": "markdown",
   "id": "29a917e153fd4609afd9eae51ef20000",
   "metadata": {
    "editable": true,
    "slideshow": {
     "slide_type": "subslide"
    },
    "tags": [
     "remove-cell",
     "translated_en"
    ],
    "translation": {
     "lang": "de",
     "src_hash": "b7c138a2f6b9184b5b30948322d75472763f02711f1920abd2ef395f76b593d2",
     "updated_at_iso": "2025-08-16T16:46:11.307482+00:00"
    }
   },
   "source": [
    "## 4. Error Handling - Ready for Anything\n",
    "\n",
    "<div class=\"flex-row\">\n",
    "<div class=\"col1\">\n",
    "\n",
    "- Reality: Despite all efforts, runtime errors will occur in real-world programs\n",
    "\n",
    "- Goal:\n",
    "    - Catch and handle errors\n",
    "    - The program continues to run or terminates in a controlled manner\n",
    "\n",
    "</div>\n",
    "<div class=\"col1\">\n",
    "\n",
    "- Mechanism:\n",
    "    - Runtime error → *Exception* is raised\n",
    "    - Python tools: `try`, `except`, `raise`\n",
    "\n",
    "</div>\n",
    "</div>"
   ]
  },
  {
   "cell_type": "markdown",
   "id": "58cdf718f94e41948c914002cdcff1d3",
   "metadata": {
    "editable": true,
    "slideshow": {
     "slide_type": "subslide"
    },
    "tags": [
     "remove-cell",
     "translated_en"
    ],
    "translation": {
     "lang": "de",
     "src_hash": "6f9d99c8a63a2365cca923d8701a00681ff23452b35e5bc9874e0c901dc9b3e7",
     "updated_at_iso": "2025-08-16T16:46:18.175313+00:00"
    }
   },
   "source": [
    "## 4. Error Handling - In Python\n",
    "\n",
    "- `try:` Contains a block of code that may raise an exception\n",
    "- `except:` If a specific error (Exception) occurs in the try block, it is caught and the corresponding except block is executed\n",
    "- `raise:` Is used inside an except block to re-raise an exception\n",
    "- `finally:` Is executed after the end of the try block, regardless of whether an error occurred\n",
    "- `else:` Optional, defined after all the except blocks; it runs if no exception occurs in the try block"
   ]
  },
  {
   "cell_type": "markdown",
   "id": "07170c9fbb0449f9b5d33c7a9f8ffdd1",
   "metadata": {
    "editable": true,
    "slideshow": {
     "slide_type": "slide"
    },
    "tags": [
     "remove-cell",
     "translated_en"
    ],
    "translation": {
     "lang": "de",
     "src_hash": "51e26aaec8560300a71b82953d0e603b6226105d41943e7f9099beec65edbe63",
     "updated_at_iso": "2025-08-16T16:46:26.367754+00:00"
    }
   },
   "source": [
    "## Semantic Errors - Exceptions\n",
    "\n",
    "<div class=\"flex-row\">\n",
    "<div class=\"col1\">\n",
    "\n",
    "- *Exception*-Mechanismus:\n",
    "    - Interrupt normal program flow\n",
    "    - Communicate errors with an error message\n",
    "    - Prevent uncontrolled crashes\n",
    "    - Are propagated up the *call stack*\n",
    "    - Until they are caught or the program crashes\n",
    "\n",
    "- Goal: keep the program in a running state\n",
    "\n",
    "</div>\n",
    "<div class=\"col1\">\n",
    "<figure class=\"mj-fig\">\n",
    "    <img src=\"images/06b_UnitTest/stack3.svg\" class=\"mj-fig-img\">\n",
    "</figure>\n",
    "</div>\n",
    "</div>"
   ]
  },
  {
   "cell_type": "markdown",
   "id": "c5d588feadcb476d9606b86ce2fcddce",
   "metadata": {
    "editable": true,
    "slideshow": {
     "slide_type": "subslide"
    },
    "tags": [
     "remove-cell",
     "translated_en"
    ],
    "translation": {
     "lang": "de",
     "src_hash": "8f0a6616fc79c24627a71436d81fa56069f11680945c32fa50bec01d4ffffdbd",
     "updated_at_iso": "2025-08-16T16:46:36.104013+00:00"
    }
   },
   "source": [
    "## Semantic Errors – Catching Exceptions\n",
    "\n",
    "<div class=\"flex-row\">\n",
    "<div class=\"col1\">\n",
    "\n",
    "Expected exceptions should always be caught\n",
    "\n",
    "Python `try-except` block:\n",
    "```python\n",
    "try:\n",
    "    # Block with the expected exception\n",
    "    ergebnis = zaehler / nenner\n",
    "except:\n",
    "    # Error handling\n",
    "    print(\"Division by 0\")\n",
    "    ergebnis = None\n",
    "```\n",
    "\n",
    "</div>\n",
    "<div class=\"col1\">\n",
    "<figure class=\"mj-fig\">\n",
    "    <img src=\"images/06b_UnitTest/stack4.svg\" class=\"mj-fig-img\">\n",
    "</figure>\n",
    "</div>\n",
    "</div>"
   ]
  },
  {
   "cell_type": "markdown",
   "id": "00523087537b43b3bb24feb4059761c4",
   "metadata": {
    "editable": true,
    "slideshow": {
     "slide_type": "subslide"
    },
    "tags": [
     "remove-cell",
     "translated_en"
    ],
    "translation": {
     "lang": "de",
     "src_hash": "97dfcf728c57a69ba484e374c0303f2837a27ee63e23a52c06f7a70494e41f03",
     "updated_at_iso": "2025-08-16T16:46:48.866850+00:00"
    }
   },
   "source": [
    "## Semantic Errors - Exception Levels\n",
    "\n",
    "<div class=\"flex-row\">\n",
    "<div class=\"col1\">\n",
    "\n",
    "Exceptions are used at multiple levels:\n",
    "\n",
    "- Operating system - Predefined system exceptions\n",
    "- Programming language - Built-in language exceptions  \n",
    "- Custom code - Self-defined exceptions\n",
    "\n",
    "</div>\n",
    "<div class=\"col1\">\n",
    "\n",
    "Use cases (where errors are likely to occur):\n",
    "- Communication with external sources\n",
    "- Reading files\n",
    "- User input\n",
    "- Network connections\n",
    "\n",
    "</div>\n",
    "</div>"
   ]
  },
  {
   "cell_type": "markdown",
   "id": "bed21881110248d3b791f20801916680",
   "metadata": {
    "editable": true,
    "slideshow": {
     "slide_type": "subslide"
    },
    "tags": [
     "remove-cell",
     "translated_en"
    ],
    "translation": {
     "lang": "de",
     "src_hash": "29f6f9e01936116f1c05f56f82da5d54f495d1dd0f5bc570a79b71ca84638604",
     "updated_at_iso": "2025-08-16T16:46:55.371739+00:00"
    }
   },
   "source": [
    "## 4. Error handling - Example: Division by zero\n",
    "\n",
    "<script>setSectionBackground('#FFD966');</script>\n",
    "<div class=\"flex-row\">\n",
    "<div class=\"col1\">\n",
    "\n",
    "```python\n",
    "zaehler = 12\n",
    "nenner = 0\n",
    "\n",
    "try:\n",
    "    ergebnis = zaehler / nenner\n",
    "except:\n",
    "    print(\"Exception\")\n",
    "```\n",
    "\n",
    "</div>\n",
    "<div class=\"col1\">\n",
    "\n",
    "*Question:* Which exceptions can be raised here?\n",
    "\n",
    "</div>\n",
    "</div>"
   ]
  },
  {
   "cell_type": "markdown",
   "id": "fdaa96da68d6482f97a83bb26eb71b5f",
   "metadata": {
    "editable": true,
    "slideshow": {
     "slide_type": "subslide"
    },
    "tags": [
     "remove-cell",
     "translated_en"
    ],
    "translation": {
     "lang": "de",
     "src_hash": "93dde56efc895d6346f0f045990ced0098008f6d3d662241759b91b3c2b35f41",
     "updated_at_iso": "2025-08-16T16:57:02.047439+00:00"
    }
   },
   "source": [
    "## 4. Error handling - Example: Division by 0\n",
    "\n",
    "<div class=\"flex-row\">\n",
    "<div class=\"col1\">\n",
    "\n",
    "```python\n",
    "zaehler = 12\n",
    "nenner = 0\n",
    "\n",
    "try:\n",
    "    ergebnis = zaehler / nenner\n",
    "except:\n",
    "    print(\"Exception\")\n",
    "```\n",
    "\n",
    "</div>\n",
    "<div class=\"col1\">\n",
    "\n",
    "*Question:* Which exceptions can be raised here?\n",
    "\n",
    "Possible exceptions:\n",
    "- `ZeroDivisionError` - division by zero\n",
    "- `TypeError` - wrong data type\n",
    "- `NameError` - variable not defined\n",
    "\n",
    "</div>\n",
    "</div>"
   ]
  },
  {
   "cell_type": "markdown",
   "id": "b2f9edfe3c0c484ab786455a1a245365",
   "metadata": {
    "editable": true,
    "slideshow": {
     "slide_type": "subslide"
    },
    "tags": [
     "remove-cell",
     "translated_en"
    ],
    "translation": {
     "lang": "de",
     "src_hash": "e02e981990a4cc05ec005c9b1cf962094593ace71460fea5ff1ce510e236351e",
     "updated_at_iso": "2025-08-16T16:57:08.634527+00:00"
    }
   },
   "source": [
    "## 4. Error handling - Propagating exceptions\n",
    "\n",
    "- An important concept in more complex software\n",
    "- We can handle errors locally, but we still want to inform the higher levels of the program about them.\n",
    "- The `raise` statement propagates an exception upward from an `except` block."
   ]
  },
  {
   "cell_type": "markdown",
   "id": "8f16290282294f50ab280e3a3573bdd4",
   "metadata": {
    "editable": true,
    "slideshow": {
     "slide_type": "subslide"
    },
    "tags": [
     "remove-cell",
     "translated_en"
    ],
    "translation": {
     "lang": "de",
     "src_hash": "7a2b6a7dbb593886344bf6e45d293184c5b084a73960e3558fe26176bb225e0f",
     "updated_at_iso": "2025-08-16T16:57:17.420718+00:00"
    }
   },
   "source": [
    "## 4. Error handling - Example: Propagating an exception\n",
    "\n",
    "```python\n",
    "def count_up_and_down(x):\n",
    "    if x <= 0:\n",
    "        raise ValueError(\"No negative values allowed\")\n",
    "    \n",
    "    # Verknüpft vorwärts- und rückwärts-Liste\n",
    "    return list(range(x)) + list(reversed(list(range(x-1))))\n",
    "\n",
    "try:\n",
    "    print(count_up_and_down(-6))\n",
    "except ValueError:\n",
    "    print(\"That value was invalid.\")\n",
    "```"
   ]
  },
  {
   "cell_type": "markdown",
   "id": "37b733f7f6814d2ca3016b2d8138a8bb",
   "metadata": {
    "editable": true,
    "slideshow": {
     "slide_type": "slide"
    },
    "tags": [
     "remove-cell",
     "translated_en"
    ],
    "translation": {
     "lang": "de",
     "src_hash": "33fb0d89c46d2ba34483acffdc74c600f05b7ab89e7c08058b0fdb56ce3c5989",
     "updated_at_iso": "2025-08-16T16:57:26.409698+00:00"
    }
   },
   "source": [
    "## 5. Error Elimination — Proving Program Correctness Mathematically\n",
    "\n",
    "- Some program code can be validated through *mathematical proof*\n",
    "- *Hoare calculus:* Formalize the program line by line with mathematical logic\n",
    "- From the beginning to the end of the entire program\n",
    "\n",
    "- *Problem:* For most applications, too time-consuming and complex\n",
    "\n",
    "- *Use:* Only for critical systems (medical technology, aviation, etc.)"
   ]
  },
  {
   "cell_type": "markdown",
   "id": "c4b91d7eb479475fbd1a1220b96d52b2",
   "metadata": {
    "slideshow": {
     "slide_type": "skip"
    },
    "tags": [
     "translated_en"
    ],
    "translation": {
     "lang": "de",
     "src_hash": "1ccb9f1f28e0f8c7e858bbd4a780bfa2b0925adf89c616036bca89d75add3bb3",
     "updated_at_iso": "2025-08-16T16:57:46.702346+00:00"
    }
   },
   "source": [
    "## Quiz\n",
    "\n",
    "\n",
    "```{quizdown}\n",
    "    \n",
    "    shuffleQuestions: true\n",
    "    shuffleAnswers: true\n",
    "    \n",
    "\n",
    "    ### What is a bug?\n",
    "    - [x] An unintended error in the program.\n",
    "    - [ ] A special feature of a debugger.\n",
    "    - [ ] A program that tests other programs.\n",
    "    - [ ] A function that is particularly hard to understand.\n",
    "\n",
    "    ### What is a unit test in Python?\n",
    "    - [x] A test for a single function or class\n",
    "    - [ ] A test for an entire program\n",
    "    - [ ] A visual testing tool\n",
    "    - [ ] A form of documentation\n",
    "\n",
    "    ### What happens if an `assert` fails?\n",
    "    - [ ] The test is skipped\n",
    "    - [x] An `AssertionError` is raised\n",
    "    - [ ] The code continues to run\n",
    "    - [ ] The program ends without an error message\n",
    "\n",
    "    ### Why are unit tests used?\n",
    "    - [x] To detect errors early\n",
    "    - [ ] To automatically format code\n",
    "    - [ ] To reduce memory usage\n",
    "    - [ ] To improve the user interface\n",
    "\n",
    "    ### Which packages are commonly used in Python for unit testing?\n",
    "    - [x] `unittest`\n",
    "    - [x] `nosetest`\n",
    "    - [ ] `math`\n",
    "    - [ ] `pytest-ui`\n",
    "\n",
    "    ### What types of testing strategies are there?\n",
    "    - [x] Boundary value test\n",
    "    - [x] Functional test\n",
    "    - [x] Data type test\n",
    "    - [ ] Syntax test\n",
    "\n",
    "```"
   ]
  },
  {
   "cell_type": "markdown",
   "id": "7da84ea274484152a2dff167c9a338ce",
   "metadata": {
    "slideshow": {
     "slide_type": "slide"
    },
    "tags": [
     "remove-cell",
     "translated_en"
    ],
    "translation": {
     "lang": "de",
     "src_hash": "d2b7467259ef9f52d61ecf9953374631953b152baba6f1edeaac46d4c3d40a0b",
     "updated_at_iso": "2025-08-16T16:57:50.206025+00:00"
    }
   },
   "source": [
    "<div class=\"vslide\">\n",
    "  <div class=\"vslide-title\">\n",
    "    <p style=\"font-family: Protomolecule; font-size: 2.3em; margin: 0px auto; text-align: center; width: 100%;\">Questions?</p>\n",
    "  </div>\n",
    "  <script>setSectionBackground('#000000', 'images/mj_questions.mp4');</script>\n",
    "</div>"
   ]
  }
 ],
 "metadata": {
  "kernelspec": {
   "display_name": "Python 3 (ipykernel)",
   "language": "python",
   "name": "python3"
  },
  "language_info": {
   "codemirror_mode": {
    "name": "ipython",
    "version": 3
   },
   "file_extension": ".py",
   "mimetype": "text/x-python",
   "name": "python",
   "nbconvert_exporter": "python",
   "pygments_lexer": "ipython3",
   "version": "3.12.10"
  },
  "rise": {
   "auto_select": "none",
   "center": false,
   "enable_chalkboard": true,
   "header": "<img src=\"images/pd_logo.svg\" class=\"header_title_logo\"><img src=\"images/ai4sc_logo_v2.svg\" class=\"header_ai4sc_logo\">",
   "scroll": true,
   "show_buttons_on_startup": false,
   "slideNumber": true,
   "theme": "white"
  },
  "vscode": {
   "interpreter": {
    "hash": "c6f6ea9c9385f57658f4c302ffd3b717b6cd59b095fbd1c55795f0b67656eecd"
   }
  }
 },
 "nbformat": 4,
 "nbformat_minor": 4
}
