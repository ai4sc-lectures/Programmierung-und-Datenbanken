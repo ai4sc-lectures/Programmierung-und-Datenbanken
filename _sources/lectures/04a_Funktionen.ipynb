{
 "cells": [
  {
   "cell_type": "markdown",
   "metadata": {
    "slideshow": {
     "slide_type": "skip"
    }
   },
   "source": [
    "# Funktionen"
   ]
  },
  {
   "cell_type": "markdown",
   "metadata": {
    "slideshow": {
     "slide_type": "skip"
    }
   },
   "source": [
    "<figure class=\"mj-tile-band\">\n",
    "    <img src='images/04a_Funktionen/mj_title_band.jpg'>\n",
    "    <figcaption>Midjourney: Functional Lines, ref. C.E.B. Reas</figcaption>\n",
    "</figure>\n",
    "\n",
    "> A function of good software is to make the complex appear simple.\n",
    ">\n",
    "> — Grady Booch"
   ]
  },
  {
   "cell_type": "markdown",
   "metadata": {
    "slideshow": {
     "slide_type": "skip"
    }
   },
   "source": [
    "## <a href=\"../lec_slides/04a_Funktionen.slides.html\">Folien</a>/<a href=\"../pdf/slides/04a_Funktionen.pdf\">PDF</a>\n",
    "<iframe src=\"../lec_slides/04a_Funktionen.slides.html\" width=\"750\" height=\"500\"></iframe>"
   ]
  },
  {
   "cell_type": "markdown",
   "metadata": {
    "slideshow": {
     "slide_type": "skip"
    }
   },
   "source": [
    "## Funktionsdefinition und Funktionsaufruf"
   ]
  },
  {
   "cell_type": "markdown",
   "metadata": {
    "slideshow": {
     "slide_type": "skip"
    }
   },
   "source": [
    "Alle höheren Programmiersprachen erlauben die Definition von Funktionen (oder Prozeduren), um sich ständig wiederholenden Code nur einmal schreiben zu müssen und komplexe Programme zu strukturieren."
   ]
  },
  {
   "cell_type": "markdown",
   "metadata": {
    "slideshow": {
     "slide_type": "skip"
    }
   },
   "source": [
    "Funktionen werden in Python mit dem Schlüsselwort `def` definiert. Sie haben einen `funktionsnamen` und können mehrere Argumente als Eingabe in einer Klammer haben. Die Deklaration der Funktion wird mit `:` beendet. Der Körper der Funktion, also der Teil, welcher beim Aufrufen der Funktion ausgeführt werden soll, muss immer eingerückt werden."
   ]
  },
  {
   "cell_type": "code",
   "execution_count": null,
   "metadata": {
    "slideshow": {
     "slide_type": "skip"
    }
   },
   "outputs": [],
   "source": [
    "def funktionsname(argument1, argument2):\n",
    "    # Funktionskörper\n",
    "    print(\"Der Datentyp von Argument 1 ist \"+str(type(argument1)))\n",
    "    print(\"Der Datentyp von Argument 2 ist \"+str(type(argument2)))"
   ]
  },
  {
   "cell_type": "markdown",
   "metadata": {
    "slideshow": {
     "slide_type": "skip"
    }
   },
   "source": [
    "Hierbei müssen alle Teile der Funktion gleich eingerückt werden. Der folgende Code ist z.B. syntaktisch falsch"
   ]
  },
  {
   "cell_type": "code",
   "execution_count": null,
   "metadata": {
    "slideshow": {
     "slide_type": "skip"
    },
    "tags": [
     "raises-exception"
    ]
   },
   "outputs": [],
   "source": [
    "def funktionsname(argument1, argument):\n",
    "    # Funktionskörper\n",
    "    print(\"Der Datentyp von Argument 1 ist \"+str(type(argument1)))\n",
    "        print(\"Der Datentyp von Argument 2 ist \"+str(type(argument2)))"
   ]
  },
  {
   "cell_type": "markdown",
   "metadata": {
    "slideshow": {
     "slide_type": "skip"
    }
   },
   "source": [
    "Beim Aufruf der Funktion durch den `funktionsname(wert1, wert2)` müssen die Argumente mit Eingabewerten belegt werden. Die Argumente in Python werden wie andere Variablen dynamisch typisiert (Wir wissen also nicht unbedingt welchen Datentyp sie später haben werden. Das ist eine typische Fehlerquelle).\n"
   ]
  },
  {
   "cell_type": "code",
   "execution_count": null,
   "metadata": {
    "slideshow": {
     "slide_type": "skip"
    }
   },
   "outputs": [],
   "source": [
    "funktionsname(\"wert1\", 2)"
   ]
  },
  {
   "cell_type": "markdown",
   "metadata": {
    "slideshow": {
     "slide_type": "skip"
    }
   },
   "source": [
    "Das entscheidende ist, dass die Argumente ihre Werte ändern können."
   ]
  },
  {
   "cell_type": "code",
   "execution_count": null,
   "metadata": {
    "slideshow": {
     "slide_type": "skip"
    }
   },
   "outputs": [],
   "source": [
    "funktionsname(\"anderer wert \", \"noch ein anderer\")"
   ]
  },
  {
   "cell_type": "markdown",
   "metadata": {
    "slideshow": {
     "slide_type": "skip"
    }
   },
   "source": [
    "## Ergebnisrückgabe"
   ]
  },
  {
   "cell_type": "markdown",
   "metadata": {
    "slideshow": {
     "slide_type": "skip"
    }
   },
   "source": [
    "Die Anweisung `return` wird in Funktionen benutzt, um die Ausführung einer Funktion zu beenden und den zugewiesenen Wert(e) als Ergebnis der Funktion zurückzugeben."
   ]
  },
  {
   "cell_type": "code",
   "execution_count": null,
   "metadata": {
    "slideshow": {
     "slide_type": "skip"
    }
   },
   "outputs": [],
   "source": [
    "def funktion_mit_einer_ausgabe():\n",
    "    return \"Ausgabewert\"\n",
    "    print(\"Dieser Teil wird nicht ausgeführt\")\n",
    "    return \"Anderer Ausgabewert\""
   ]
  },
  {
   "cell_type": "code",
   "execution_count": null,
   "metadata": {
    "slideshow": {
     "slide_type": "skip"
    }
   },
   "outputs": [],
   "source": [
    "ergebnis = funktion_mit_einer_ausgabe()\n",
    "ergebnis"
   ]
  },
  {
   "cell_type": "markdown",
   "metadata": {
    "slideshow": {
     "slide_type": "skip"
    }
   },
   "source": [
    "Wir sehen, dass das Ergebnis `Ausgabewert` ist und die `print()` Funktion nicht aufgerufen worden ist."
   ]
  },
  {
   "cell_type": "markdown",
   "metadata": {
    "slideshow": {
     "slide_type": "skip"
    }
   },
   "source": [
    "Es können mehrere Ausgabewerte mit `return` zurückgegeben werden."
   ]
  },
  {
   "cell_type": "code",
   "execution_count": null,
   "metadata": {
    "slideshow": {
     "slide_type": "skip"
    }
   },
   "outputs": [],
   "source": [
    "def funktion_mit_zwei_ausgaben():\n",
    "    return \"Ausgabewert1\", \"Ausgabewert2\""
   ]
  },
  {
   "cell_type": "code",
   "execution_count": null,
   "metadata": {
    "slideshow": {
     "slide_type": "skip"
    }
   },
   "outputs": [],
   "source": [
    "ergebnis = funktion_mit_zwei_ausgaben()\n",
    "ergebnis"
   ]
  },
  {
   "cell_type": "markdown",
   "metadata": {
    "slideshow": {
     "slide_type": "skip"
    }
   },
   "source": [
    "Das Ergebnis von Funktionen mit mehreren Rückgaben ist ein Tuple."
   ]
  },
  {
   "cell_type": "code",
   "execution_count": null,
   "metadata": {
    "slideshow": {
     "slide_type": "skip"
    }
   },
   "outputs": [],
   "source": [
    "type(ergebnis)"
   ]
  },
  {
   "cell_type": "markdown",
   "metadata": {
    "slideshow": {
     "slide_type": "skip"
    }
   },
   "source": [
    "Auf die einzelnen Werte im Tuple kann durch den Index zugegriffen werden. Zur Erinnerung der Index einer Liste oder eines Tuples startet mit 0."
   ]
  },
  {
   "cell_type": "code",
   "execution_count": null,
   "metadata": {
    "slideshow": {
     "slide_type": "skip"
    }
   },
   "outputs": [],
   "source": [
    "ergebnis[0]"
   ]
  },
  {
   "cell_type": "markdown",
   "metadata": {
    "slideshow": {
     "slide_type": "skip"
    }
   },
   "source": [
    "Das Tuple kann allerdings auch durch Mehrfachzuweisung verhindert werden. Bei einer Mehrfachzuweisung listet man mehrere durch Komma getrennte Variablen links von der Zuweisung auf. "
   ]
  },
  {
   "cell_type": "code",
   "execution_count": null,
   "metadata": {
    "slideshow": {
     "slide_type": "skip"
    }
   },
   "outputs": [],
   "source": [
    "ergebnis1, ergebnis2 = funktion_mit_zwei_ausgaben()\n",
    "print(ergebnis1)\n",
    "print(ergebnis2)\n",
    "print(type(ergebnis1))\n",
    "print(type(ergebnis2))"
   ]
  },
  {
   "cell_type": "markdown",
   "metadata": {
    "slideshow": {
     "slide_type": "skip"
    }
   },
   "source": [
    "## Variablengültigkeit"
   ]
  },
  {
   "cell_type": "markdown",
   "metadata": {
    "slideshow": {
     "slide_type": "skip"
    }
   },
   "source": [
    "Variablen innerhalb von Funktionen sind nicht global gültig. So sind die Variablen der Argumente nur innerhalb der Funktion gültig. Auch neue Variablen, die in der Funktion definiert werden, sind nicht außerhalb der Funktion gültig. So sind in der folgenden Funktion:"
   ]
  },
  {
   "cell_type": "code",
   "execution_count": null,
   "metadata": {
    "slideshow": {
     "slide_type": "skip"
    }
   },
   "outputs": [],
   "source": [
    "def meine_funktion(argument):\n",
    "    interne_variable = \"geheim\"\n",
    "    print(\"Der Wert von argument innerhalb der Funktion ist \"+str(argument))\n",
    "    print(\"Der Wert von intern innerhalb der Funktion ist \"+str(interne_variable))"
   ]
  },
  {
   "cell_type": "markdown",
   "metadata": {
    "slideshow": {
     "slide_type": "skip"
    }
   },
   "source": [
    "die Werte von `argument` und `intern` innerhalb der Funktion definiert und werden im ´print()´ Statement ausgegeben."
   ]
  },
  {
   "cell_type": "code",
   "execution_count": null,
   "metadata": {
    "slideshow": {
     "slide_type": "skip"
    }
   },
   "outputs": [],
   "source": [
    "meine_funktion(\"argument_wert\")"
   ]
  },
  {
   "cell_type": "markdown",
   "metadata": {
    "slideshow": {
     "slide_type": "skip"
    }
   },
   "source": [
    "Die Variablen `argument` und `interne_variable` sind nach dem Ausführen der Funktion allerdings nicht global verfügbar."
   ]
  },
  {
   "cell_type": "code",
   "execution_count": null,
   "metadata": {
    "slideshow": {
     "slide_type": "skip"
    },
    "tags": [
     "raises-exception"
    ]
   },
   "outputs": [],
   "source": [
    "print(argument)"
   ]
  },
  {
   "cell_type": "code",
   "execution_count": null,
   "metadata": {
    "slideshow": {
     "slide_type": "skip"
    },
    "tags": [
     "raises-exception"
    ]
   },
   "outputs": [],
   "source": [
    "print(interne_variable)"
   ]
  },
  {
   "cell_type": "markdown",
   "metadata": {
    "slideshow": {
     "slide_type": "skip"
    }
   },
   "source": [
    "Die erlaubt es auch Variablennamen außerhalb der Funktion zu definieren, welche innerhalb der Funktion einen anderen Wert haben können. So bleibt der Wert von `argument` unverändert."
   ]
  },
  {
   "cell_type": "code",
   "execution_count": null,
   "metadata": {
    "slideshow": {
     "slide_type": "skip"
    }
   },
   "outputs": [],
   "source": [
    "argument = 6 # orginalwert\n",
    "print(\"Der Wert von argument vor der Funktion ist \"+str(argument))\n",
    "meine_funktion(4)\n",
    "print(\"Der Wert von argument nach der Funktion ist immer noch \"+str(argument))"
   ]
  },
  {
   "cell_type": "markdown",
   "metadata": {
    "slideshow": {
     "slide_type": "skip"
    }
   },
   "source": [
    "## Veränderte und unveränderte Argumente"
   ]
  },
  {
   "cell_type": "markdown",
   "metadata": {
    "slideshow": {
     "slide_type": "skip"
    }
   },
   "source": [
    "Grundsätzlich werden Modifikationen an Argumenten primitiver Datentypen innerhalb der Funktion nicht übernommen (pass-by-value). So, lässt sich innerhalb der Funktion auch Argumenten neue Werte zuweisen."
   ]
  },
  {
   "cell_type": "code",
   "execution_count": null,
   "metadata": {
    "slideshow": {
     "slide_type": "skip"
    }
   },
   "outputs": [],
   "source": [
    "def meine_funktion(argument):\n",
    "    print(\"Der Wert von argument am Anfang der Funktion ist \"+str(argument))\n",
    "    argument = 3\n",
    "    print(\"Der Wert von argument am Ende der Funktion ist \"+str(argument))\n",
    "\n",
    "argument = 6 # orginalwert\n",
    "print(\"Der Wert von argument vor der Funktion ist \"+str(argument))\n",
    "meine_funktion(argument)\n",
    "print(\"Der Wert von argument nach der Funktion ist immer noch \"+str(argument))"
   ]
  },
  {
   "cell_type": "markdown",
   "metadata": {
    "slideshow": {
     "slide_type": "skip"
    }
   },
   "source": [
    "Das funktioniert auch bei komplexen Datentypen, wie `list`, `set`, `dict`, sofern sie komplett neu zugewiesen werden."
   ]
  },
  {
   "cell_type": "code",
   "execution_count": null,
   "metadata": {
    "slideshow": {
     "slide_type": "skip"
    }
   },
   "outputs": [],
   "source": [
    "def meine_funktion(argument):\n",
    "    print(\"Der Wert von argument am Anfang der Funktion ist \"+str(argument))\n",
    "    argument = [3]\n",
    "    print(\"Der Wert von argument am Ende der Funktion ist \"+str(argument))\n",
    "\n",
    "argument = [6] # orginalwert\n",
    "print(\"Der Wert von argument vor der Funktion ist \"+str(argument))\n",
    "meine_funktion(argument)\n",
    "print(\"Der Wert von argument nach der Funktion ist immer noch \"+str(argument))"
   ]
  },
  {
   "cell_type": "markdown",
   "metadata": {
    "slideshow": {
     "slide_type": "skip"
    }
   },
   "source": [
    "Werden sie allerdings nur modifiziert (pass-by-reference), so sind diese Änderungen auch global."
   ]
  },
  {
   "cell_type": "code",
   "execution_count": null,
   "metadata": {
    "slideshow": {
     "slide_type": "skip"
    }
   },
   "outputs": [],
   "source": [
    "def meine_funktion(argument):\n",
    "    print(\"Der Wert von argument am Anfang der Funktion ist \"+str(argument))\n",
    "    argument.append(3) # Wir fügen 3 der liste hinzu\n",
    "    print(\"Der Wert von argument am Ende der Funktion ist \"+str(argument))\n",
    "\n",
    "argument = [6] # orginalwert\n",
    "print(\"Der Wert von argument vor der Funktion ist \"+str(argument))\n",
    "meine_funktion(argument)\n",
    "print(\"Der Wert von argument nach der Funktion ist auf einmal \"+str(argument))"
   ]
  },
  {
   "cell_type": "markdown",
   "metadata": {
    "slideshow": {
     "slide_type": "skip"
    }
   },
   "source": [
    "<div class=\"alert alert-block alert-warning\">\n",
    "<b>⚠️ Achtung:</b> Das kann sehr schnell zu Fehlern führen, wenn man unbeabsichtigt globale Datenstrukturen verändert.\n",
    "</div>"
   ]
  },
  {
   "cell_type": "markdown",
   "metadata": {
    "editable": true,
    "slideshow": {
     "slide_type": "slide"
    },
    "tags": [
     "remove-cell"
    ]
   },
   "source": [
    "<div class=\"vslide\">\n",
    "  <div class=\"vslide-title\">\n",
    "    <p style=\"font-family: Protomolecule; font-size: 2.3em; line-height: 90%; margin: 0px auto; text-align: center; width: 100%;\"><span style=\"letter-spacing: .04rem;\">programmierung</span><br><span style=\"letter-spacing: .0rem;\">und datenbanken</span></p>\n",
    "<p class=\"author\" style=\"font-family: Protomolecule; margin: 0px auto;  text-align: center; width: 100%; font-size: 1.2em;\">Joern Ploennigs</p>\n",
    "<p class=\"subtitle\" style=\"font-family: Protomolecule; margin: 1em auto; text-align: center; width: 100%; font-size: 1.2em;\">Funktionen</p>\n",
    "    <figcaption>Midjourney: Functional Lines, ref. C.E.B. Reas</figcaption>\n",
    "  </div>\n",
    "<script>\n",
    "  function setSectionBackground(c,v){\n",
    "    let e=document.currentScript.previousElementSibling;\n",
    "    while(e&&e.tagName!=='SECTION')e=e.parentElement;\n",
    "    if(e){\n",
    "      if(c)e.setAttribute('data-background-color',c);\n",
    "      if(v){\n",
    "        e.setAttribute('data-background-video',v);\n",
    "        e.setAttribute('data-background-video-loop','true');\n",
    "        e.setAttribute('data-background-video-muted','true');\n",
    "      }\n",
    "    }\n",
    "  }\n",
    "  setSectionBackground('#000000', 'images/04a_Funktionen/mj_title.mp4');\n",
    "</script>\n",
    "<style>\n",
    ".flex-row{display:flex; gap:2rem; align-items:flex-start; justify-content:space-between;}\n",
    ".flex-row .col1{flex:1; min-width:10px}\n",
    ".flex-row .col2{flex:2; min-width:10px}\n",
    ".flex-row .col3{flex:3; min-width:10px}\n",
    ".flex-row .col4{flex:4; min-width:10px}\n",
    ".flex-row .col5{flex:5; min-width:10px}\n",
    ".flex-row .col6{flex:6; min-width:10px}\n",
    ".flex-row .col7{flex:7; min-width:10px}\n",
    ".vcent{display:flex; align-items:center; justify-content:center}\n",
    "</style>\n",
    "</div>"
   ]
  },
  {
   "cell_type": "markdown",
   "metadata": {
    "slideshow": {
     "slide_type": "subslide"
    },
    "tags": [
     "remove-cell"
    ]
   },
   "source": [
    "## Wiederholung: Hörsaalfrage\n",
    "\n",
    "<script>setSectionBackground('#FFD966');</script>\n",
    "<div class=\"flex-row\">\n",
    "  <div class=\"col4 vcent\">\n",
    "\n",
    "Wofür verwendet man if, elif, else?\n",
    " \n",
    "  </div>\n",
    "  <div class=\"col6\"> \n",
    "    <figure class=\"mj-fig\">\n",
    "        <img src=\"images/04a_Funktionen/mj_yinyang.jpg\" class=\"mj-fig-img\">\n",
    "        <figcaption class=\"mj-fig-cap\">\n",
    "            DALL·E 2: Yin and Yang in a ceramic dish\n",
    "        </figcaption>\n",
    "    </figure>\n",
    "  </div>\n",
    "</div>"
   ]
  },
  {
   "cell_type": "markdown",
   "metadata": {
    "slideshow": {
     "slide_type": "subslide"
    },
    "tags": [
     "remove-cell"
    ]
   },
   "source": [
    "## Wiederholung: IF, IFEL, ELSE\n",
    "\n",
    "<script>setSectionBackground('#FFD966');</script>\n",
    "\n",
    "```python\n",
    "if, elif, else sind Befehle zum Verzweigen von Programmen in Python\n",
    "\n",
    "if Bedingung1:\n",
    "    print(\"Wird ausgeführt wenn Bedingung1 wahr ist\")\n",
    "elif Bedingung2:\n",
    "    print(\"Wird ausgeführt wenn Bedingung1 falsch ist und Bedingung2 wahr ist\")\n",
    "else:\n",
    "    print(\"Wird ausgeführt wenn Bedingung1 falsch ist und Bedingung2 falsch ist\")\n",
    "```"
   ]
  },
  {
   "cell_type": "markdown",
   "metadata": {
    "slideshow": {
     "slide_type": "subslide"
    },
    "tags": [
     "remove-cell"
    ]
   },
   "source": [
    "## Wiederholung: Hörsaalfrage\n",
    "\n",
    "<script>setSectionBackground('#FFD966');</script>\n",
    "<div class=\"flex-row\">\n",
    "  <div class=\"col4 vcent\">\n",
    "\n",
    "Welche Loop Typen gibt es?\n",
    " \n",
    "  </div>\n",
    "  <div class=\"col6\"> \n",
    "    <figure class=\"mj-fig\">\n",
    "        <img src=\"images/04a_Funktionen/mj_loop.png\" class=\"mj-fig-img\">\n",
    "        <figcaption class=\"mj-fig-cap\">\n",
    "            Midjourney: Loop\n",
    "        </figcaption>\n",
    "    </figure>\n",
    "  </div>\n",
    "</div>"
   ]
  },
  {
   "cell_type": "markdown",
   "metadata": {
    "slideshow": {
     "slide_type": "subslide"
    },
    "tags": [
     "remove-cell"
    ]
   },
   "source": [
    "## Wiederholung: Schleifen\n",
    "\n",
    "<script>setSectionBackground('#FFD966');</script>\n",
    "\n",
    "Schleifen sind ein wichtiger Ansatz in der Programmierung, um wiederholende oder inkrementelle Lösungen zu realisieren.\n",
    "\n",
    "In Python sind verfügbar:\n",
    "- `for` (Entspricht For-Each-Loop)\n",
    "- `while` (Entspricht While-Loop)\n",
    "\n",
    "Wichtige Eigenschaften:\n",
    "- Funktionieren genau wie alle anderen Steueranweisungen durch Einrückungen nach einer einzeiligen Definition\n",
    "- Anders als in Funktionen sind Variablen aus Schleifen auch außerhalb der Schleife verfügbar!\n",
    "- Die anderen Loop-Varianten sind zwar nicht explizit vorhanden, aber funktionell nachbildbar"
   ]
  },
  {
   "cell_type": "markdown",
   "metadata": {
    "slideshow": {
     "slide_type": "subslide"
    },
    "tags": [
     "remove-cell"
    ]
   },
   "source": [
    "## Wiederholung: While-Loops\n",
    "\n",
    "<script>setSectionBackground('#FFD966');</script>\n",
    "\n",
    "<div class=\"flex-row\">\n",
    "\n",
    "<div class=\"col1\">\n",
    "\n",
    "**While-Loop**\n",
    "\n",
    "Im While-Loop kann die Bedingung schon am Anfang falsch sein. Die Schleife muss also nicht ausgeführt werden.\n",
    "\n",
    "```python\n",
    "Bedingung = True/False\n",
    "while Bedingung:\n",
    "    # Statement\n",
    "    Bedingung = False\n",
    "```\n",
    "\n",
    "</div>\n",
    "\n",
    "<div class=\"col1\">\n",
    "\n",
    "**Do-While-Loop**\n",
    "\n",
    "Im Do-While-Loop wird die Bedingung erst am Ende geprüft. Die Schleife wird also immer mindestens einmal durchlaufen.\n",
    "\n",
    "```python\n",
    "Bedingung = True\n",
    "while Bedingung:\n",
    "    # Statement\n",
    "    Bedingung = False\n",
    "```\n",
    "\n",
    "</div>\n",
    "\n",
    "<div class=\"col1\">\n",
    "\n",
    "**Repeat-Until-Loop**\n",
    "\n",
    "Beim Repeat-Until-Loop wird die Bedingung auch erst am Ende geprüft. Die Schleife wird wiederholt bis die Bedingung wahr wird.\n",
    "\n",
    "```python\n",
    "Bedingung = False\n",
    "while not Bedingung:\n",
    "    # Statement\n",
    "    Bedingung = True\n",
    "```\n",
    "\n",
    "</div>\n",
    "\n",
    "</div>\n"
   ]
  },
  {
   "cell_type": "markdown",
   "metadata": {
    "slideshow": {
     "slide_type": "slide"
    },
    "tags": [
     "remove-cell"
    ]
   },
   "source": [
    "## Ablauf\n",
    "\n",
    "![](images/partA_5.svg)"
   ]
  },
  {
   "cell_type": "markdown",
   "metadata": {
    "editable": true,
    "slideshow": {
     "slide_type": "slide"
    },
    "tags": [
     "remove-cell"
    ]
   },
   "source": [
    "## Funktionen – Mathematisch\n",
    "\n",
    "Funktionen setzen in Programmiersprachen das mathematische Konzept der Funktion um.  \n",
    "Sie stellen eine Abbildung von einer Eingabemenge auf eine Ausgabemenge dar.\n",
    "\n",
    "Abbildung: Eine Funktion $f$ ordnet jedem Element $x$ einer Definitionsmenge $D$ ein Element $y$ einer Zielmenge $Z$ zu.  \n",
    "\n",
    "$$ f : D \\to Z, \\quad x \\mapsto y $$"
   ]
  },
  {
   "cell_type": "markdown",
   "metadata": {
    "editable": true,
    "slideshow": {
     "slide_type": "subslide"
    },
    "tags": [
     "remove-cell"
    ]
   },
   "source": [
    "## Funktionen – Programmierung\n",
    "\n",
    "<div class=\"alert alert-block alert-success\">\n",
    "<b>📘 Definition: Funktion</b>\n",
    "\n",
    "Wiederverwendbarer Programmcode, der eine bestimmte Aufgabe ausführt.\n",
    "</div>\n",
    "\n",
    "- Nehmen ein Tupel an Eingabewerten (*Argumente*)\n",
    "- Führen eine festgelegte Folge von Ausdrücken und Zuweisungen aus\n",
    "- Geben ein Tupel an Ausgabewerten zurück (*Rückgabewerte*)\n",
    "- Werden nur ausgeführt, wenn sie in einem Ausdruck **aufgerufen** werden"
   ]
  },
  {
   "cell_type": "markdown",
   "metadata": {
    "editable": true,
    "slideshow": {
     "slide_type": "subslide"
    },
    "tags": [
     "remove-cell"
    ]
   },
   "source": [
    "## Funktionen in Python\n",
    "\n",
    "```python\n",
    "# Codeblock der Funktionsdefinition\n",
    "def funktionsname(arg1, arg2): # <- funktionsname ist wählbar, arg1 und arg2 sind Argumente (Parameter)\n",
    "    statement1 # <- Codeblock beginnt hier und ist eingerückt\n",
    "    statement2 # <- noch Teil des eingerückten Codeblocks\n",
    "```\n",
    "\n",
    "- Funktionsdefinitionen beginnen mit `def`\n",
    "- Es folgen Name, Argumente und ein `:`\n",
    "- Argumente gelten im gesamten Funktionskörper\n",
    "- Beim Aufruf werden die Argumente mit Eingabedaten belegt"
   ]
  },
  {
   "cell_type": "markdown",
   "metadata": {
    "editable": true,
    "slideshow": {
     "slide_type": "subslide"
    },
    "tags": [
     "remove-cell"
    ]
   },
   "source": [
    "## Funktionen mit Ausgabe\n",
    "\n",
    "```python\n",
    "def funktionsname(arg1):\n",
    "    statement1\n",
    "    return ausgabewert\n",
    "```\n",
    "\n",
    "- `return` beendet die Ausführung und liefert Ausgabewerte zurück\n",
    "- „Zurückgeben“ heißt: Der Rückgabewert ersetzt den Funktionsaufruf im ursprünglichen Ausdruck\n",
    "- Ist kein `return` definiert, gibt die Funktion `None` zurück"
   ]
  },
  {
   "cell_type": "markdown",
   "metadata": {
    "editable": true,
    "slideshow": {
     "slide_type": "subslide"
    },
    "tags": [
     "remove-cell"
    ]
   },
   "source": [
    "## Beispiel – Verdopplung eines Werts\n",
    "\n",
    "<div class=\"flex-row\">\n",
    "<div class=\"col1\">\n",
    "\n",
    "Multiplikation\n",
    "\n",
    "```python\n",
    "x = arg1 * 2   # 4\n",
    "x = arg1 * 4   # 16\n",
    "x = arg1 * 8   # 128\n",
    "```\n",
    "</div>\n",
    "<div class=\"col1\">\n",
    "\n",
    "Bitshift (schneller)\n",
    "\n",
    "```python\n",
    "def mal2(arg1):\n",
    "    return arg1 << 1\n",
    "\n",
    "x = arg1 << 1   # $2^1$\n",
    "x = arg1 << 2   # $2^2$\n",
    "x = arg1 << 3   # $2^3$\n",
    "```\n",
    "</div>\n",
    "</div>"
   ]
  },
  {
   "cell_type": "markdown",
   "metadata": {
    "editable": true,
    "slideshow": {
     "slide_type": "subslide"
    },
    "tags": [
     "remove-cell"
    ]
   },
   "source": [
    "## Beispiel – Euklidische Distanz\n",
    "\n",
    "```python\n",
    "from math import sqrt\n",
    "\n",
    "def distance(a1, a2, b1, b2):\n",
    "    return sqrt((a1 - b1)**2 + (a2 - b2)**2)\n",
    "\n",
    "a1, a2 = 2, 3\n",
    "b1, b2 = 6, 6\n",
    "x = distance(a1, a2, b1, b2)  # 5.0\n",
    "```"
   ]
  },
  {
   "cell_type": "markdown",
   "metadata": {
    "editable": true,
    "slideshow": {
     "slide_type": "subslide"
    },
    "tags": [
     "remove-cell"
    ]
   },
   "source": [
    "## Standardwerte bei Parametern\n",
    "\n",
    "```python\n",
    "def funktionsname(arg1, arg2=\"default\"):\n",
    "    return statement1\n",
    "```\n",
    "\n",
    "- Argumente können Standardwerte besitzen\n",
    "- Beim Aufruf optional; übergebene Werte überschreiben den Standard"
   ]
  },
  {
   "cell_type": "markdown",
   "metadata": {
    "editable": true,
    "slideshow": {
     "slide_type": "subslide"
    },
    "tags": [
     "remove-cell"
    ]
   },
   "source": [
    "## Beispiel – Maßeinheit an Zahl anhängen\n",
    "\n",
    "```python\n",
    "def measurement(number, unit=\"meters\"):\n",
    "    return str(number) + \" \" + unit\n",
    "\n",
    "x = measurement(12)        # \"12 meters\"\n",
    "x = measurement(5.5, \"kg\") # \"5.5 kg\"\n",
    "```"
   ]
  },
  {
   "cell_type": "markdown",
   "metadata": {
    "editable": true,
    "slideshow": {
     "slide_type": "subslide"
    },
    "tags": [
     "remove-cell"
    ]
   },
   "source": [
    "## Übergabe von Argumentwerten (Konzepte)\n",
    "\n",
    "<div class=\"flex-row\">\n",
    "<div class=\"col1\">\n",
    "\n",
    "**Pass-by-value**\n",
    "\n",
    "- Nur **Werte** werden kopiert\n",
    "- Übergabe-Variablen sind in der Funktion nicht zugreifbar\n",
    "- „Sicherer“, da keine unerwartete Neubindung\n",
    "</div>\n",
    "<div class=\"col1\">\n",
    "\n",
    "**Pass-by-reference**\n",
    "\n",
    "- Referenz auf die **gleichen Daten**\n",
    "- Werte in der Funktion veränderbar\n",
    "- Spart Zeit und Speicher\n",
    "</div>\n",
    "</div>"
   ]
  },
  {
   "cell_type": "markdown",
   "metadata": {
    "editable": true,
    "slideshow": {
     "slide_type": "subslide"
    },
    "tags": [
     "remove-cell"
    ]
   },
   "source": [
    "## Übergabe von Argumentwerten in Python\n",
    "\n",
    "- Mischvariante, oft „**Pass-by-assignment**“ genannt\n",
    "- **Mutable** Datentypen: verhalten sich wie *pass-by-reference*\n",
    "- **Immutable** Datentypen: verhalten sich wie *pass-by-value*\n",
    "- Wird eine *mutable* Variable **neu gebunden**, wirkt das **nicht** außerhalb"
   ]
  },
  {
   "cell_type": "markdown",
   "metadata": {
    "editable": true,
    "slideshow": {
     "slide_type": "slide"
    },
    "tags": [
     "remove-cell"
    ]
   },
   "source": [
    "## Built-in Funktionen\n",
    "\n",
    "Python hat eine umfangreiche Liste eingebauter Funktionen.\n",
    "\n",
    "| Funktion                               | Zweck                          |\n",
    "|:---------------------------------------|:-------------------------------|\n",
    "| `print()`, `input()`                   | Ausgabe, Eingabe               |\n",
    "| `id()`, `type()`                       | Variablen ID, Datentyp         |\n",
    "| `int()`, `str()`, `float()`            | Datentyp-Konvertierung         |\n",
    "| `list()`, `tuple()`, `set()`, `dict()` | Komplexe Datentypen            |\n",
    "| `len()`                                | Länge eines komplexen Datentyps|\n",
    "| `abs()`, `max()`, `min()`              | Mathematische Grundfunktionen  |\n",
    "| `exit()`                               | Programm beenden               |\n",
    "| `sorted()`                             | Sortieren                      |\n",
    "| …                                      |                                |\n"
   ]
  },
  {
   "cell_type": "markdown",
   "metadata": {
    "editable": true,
    "slideshow": {
     "slide_type": "subslide"
    },
    "tags": [
     "remove-cell"
    ]
   },
   "source": [
    "## Wozu werden Funktionen genutzt?\n",
    "\n",
    "- Übersichtlichkeit, Modularität, Wiederverwendbarkeit  \n",
    "  *„Write once, use anywhere“*\n",
    "- Moderner Stil: Programme so weit wie möglich in **grundlegende Funktionen** aufteilen"
   ]
  },
  {
   "cell_type": "markdown",
   "metadata": {
    "editable": true,
    "slideshow": {
     "slide_type": "skip"
    },
    "tags": []
   },
   "source": [
    "## Quiz\n",
    "\n",
    "\n",
    "```{quizdown}\n",
    "\t\n",
    "\tshuffleQuestions: true\n",
    "\tshuffleAnswers: true\n",
    "\t\n",
    "\n",
    "    ### Wozu dienen Funktionen in Python?\n",
    "    - [x] Um wiederverwendbaren Code zu strukturieren  \n",
    "    - [x] Um Programme übersichtlicher zu machen  \n",
    "    - [ ] Um den Code schneller zu machen  \n",
    "    - [ ] Um Datenbanken zu erstellen\n",
    "\n",
    "    ### Wie beginnt eine Funktionsdefinition in Python?\n",
    "    - [x] Mit dem Schlüsselwort `def`  \n",
    "    - [ ] Mit `function`  \n",
    "    - [ ] Mit `define()`  \n",
    "    - [ ] Mit `func`\n",
    "\n",
    "    ### Was passiert, wenn der Funktionskörper nicht richtig eingerückt ist?\n",
    "    - [x] Es gibt einen Syntaxfehler  \n",
    "    - [ ] Die Funktion wird ignoriert  \n",
    "    - [ ] Die Funktion wird als globale Funktion gespeichert  \n",
    "    - [ ] Python rückt den Code automatisch ein\n",
    "\n",
    "    ### Was macht `return` in einer Funktion?\n",
    "    - [x] Beendet die Funktion und gibt einen Wert zurück  \n",
    "    - [ ] Gibt automatisch alle Argumente aus  \n",
    "    - [ ] Wiederholt die Funktion  \n",
    "    - [ ] Überspringt den Rest des Codes\n",
    "\n",
    "    ### Was passiert, wenn mehrere Werte mit `return` zurückgegeben werden?\n",
    "    - [x] Es wird ein Tuple zurückgegeben  \n",
    "    - [ ] Nur der erste Wert wird zurückgegeben  \n",
    "    - [ ] Es entsteht ein Fehler  \n",
    "    - [ ] Alle Werte werden automatisch ausgedruckt\n",
    "\n",
    "    ### Wo sind Variablen gültig, die innerhalb einer Funktion definiert wurden?\n",
    "    - [x] Nur innerhalb der Funktion  \n",
    "    - [ ] Im gesamten Programm  \n",
    "    - [ ] Innerhalb von Schleifen  \n",
    "    - [ ] Im gesamten Modul\n",
    "\n",
    "    ### Was passiert mit einer Variable `x`, die in einer Funktion definiert ist?\n",
    "    - [x] Sie existiert nur während der Funktionsausführung  \n",
    "    - [ ] Sie überschreibt globale Variablen automatisch  \n",
    "    - [ ] Sie wird zu einer globalen Konstante  \n",
    "    - [ ] Sie bleibt im Speicher bis das Programm beendet ist\n",
    "\n",
    "    ### Was passiert mit primitiven Datentypen, wenn sie einer Funktion übergeben und dort verändert werden?\n",
    "    - [x] Die Änderung bleibt lokal innerhalb der Funktion  \n",
    "    - [ ] Die ursprüngliche Variable wird immer überschrieben  \n",
    "    - [ ] Python speichert die Änderung automatisch global  \n",
    "    - [ ] Die Funktion gibt automatisch eine Kopie zurück\n",
    "\n",
    "    ### Was passiert, wenn man eine Liste in einer Funktion **modifiziert**, aber nicht neu zuweist?\n",
    "    - [x] Die Änderung wirkt sich auch außerhalb der Funktion aus  \n",
    "    - [ ] Die Liste wird automatisch kopiert  \n",
    "    - [ ] Die Funktion erzeugt eine neue Liste  \n",
    "    - [ ] Es entsteht ein Fehler\n",
    "\n",
    "    ### Wie verhält sich eine Liste, die in einer Funktion **neu zugewiesen** wird?\n",
    "    - [x] Die globale Liste bleibt unverändert\n",
    "    - [ ] Die globale Liste wird überschrieben\n",
    "    - [ ] Sie kann nicht innerhalb einer Funktion verwendet werden  \n",
    "    - [ ] Python blockiert diese Zuweisung\n",
    "\n",
    "    ### Wie läuft ein Python-Programm grundsätzlich ab?\n",
    "    - [x] Zeile für Zeile, von oben nach unten  \n",
    "    - [ ] Zufällig, abhängig vom Interpreter  \n",
    "    - [ ] Erst am Ende, dann rückwärts  \n",
    "    - [ ] Von Funktionen zu Hauptprogramm\n",
    "\n",
    "    ### Was passiert, wenn eine Funktion definiert, aber nicht aufgerufen wird?\n",
    "    - [x] Der Code in der Funktion wird übersprungen  \n",
    "    - [ ] Die Funktion wird trotzdem automatisch ausgeführt  \n",
    "    - [ ] Der Code wird nur beim nächsten Neustart ausgeführt  \n",
    "    - [ ] Python zeigt eine Warnung\n",
    "\n",
    "    ### Was passiert beim Funktionsaufruf?\n",
    "    - [x] Der Funktionscode wird an dieser Stelle ausgeführt  \n",
    "    - [ ] Nur die Rückgabe wird berechnet  \n",
    "    - [ ] Nur die letzte Zeile der Funktion wird ausgeführt  \n",
    "    - [ ] Python pausiert das Hauptprogramm\n",
    "\n",
    "    ### Was ist eine rekursive Funktion?\n",
    "    - [x] Eine Funktion, die sich selbst aufruft\n",
    "    - [ ] Eine Funktion, die nur einmal aufgerufen werden darf\n",
    "    - [ ] Eine Funktion ohne Parameter\n",
    "    - [ ] Eine spezielle Schleifenfunktion in Python\n",
    "\n",
    "    ### Welcher Fehler steckt in diesem Beispiel?\n",
    "    ```python\n",
    "    def rekursive_funktion():\n",
    "        rekursive_funktion()\n",
    "    ```\n",
    "    - [x] Es fehlt die Abbruchbedingung, dadurch entsteht eine Endlosschleife\n",
    "    - [ ] Der Funktionsname ist ungültig\n",
    "    - [ ] Python erlaubt keine Selbstaufrufe\n",
    "    - [ ] Die Funktion muss einen Parameter haben\n",
    "\n",
    "    ### Sortiere die folgenden Zeilen, um eine einfache rekursive Funktion korrekt zu implementieren:\n",
    "    ```python\n",
    "    n = 3\n",
    "    ```\n",
    "    1. `def count_down(n):`\n",
    "    2. `  if n <= 0:`\n",
    "    3. `    print(\"Fertig!\")`\n",
    "    4. `  else:`\n",
    "    5. `    print(n)`\n",
    "    6. `    count_down(n - 1)`\n",
    "\n",
    "```"
   ]
  },
  {
   "cell_type": "markdown",
   "metadata": {
    "slideshow": {
     "slide_type": "slide"
    },
    "tags": [
     "remove-cell"
    ]
   },
   "source": [
    "<div class=\"vslide\">\n",
    "  <div class=\"vslide-title\">\n",
    "    <p style=\"font-family: Protomolecule; font-size: 2.3em; margin: 0px auto; text-align: center; width: 100%;\">fragen?</p>\n",
    "  </div>\n",
    "  <script>setSectionBackground('#000000', 'images/mj_questions.mp4');</script>\n",
    "</div>"
   ]
  }
 ],
 "metadata": {
  "kernelspec": {
   "display_name": "Python 3 (ipykernel)",
   "language": "python",
   "name": "python3"
  },
  "language_info": {
   "codemirror_mode": {
    "name": "ipython",
    "version": 3
   },
   "file_extension": ".py",
   "mimetype": "text/x-python",
   "name": "python",
   "nbconvert_exporter": "python",
   "pygments_lexer": "ipython3",
   "version": "3.11.6"
  },
  "rise": {
   "auto_select": "none",
   "center": false,
   "enable_chalkboard": true,
   "header": "<img src=\"images/pd_logo.svg\" class=\"header_title_logo\"><img src=\"images/ai4sc_logo_v2.svg\" class=\"header_ai4sc_logo\">",
   "scroll": true,
   "show_buttons_on_startup": false,
   "slideNumber": true,
   "theme": "white"
  },
  "vscode": {
   "interpreter": {
    "hash": "6d5b4c1aed727cf1aeefa5ce625efdd40a732dd8ec11ef525b58c5aca2b06a32"
   }
  }
 },
 "nbformat": 4,
 "nbformat_minor": 4
}
