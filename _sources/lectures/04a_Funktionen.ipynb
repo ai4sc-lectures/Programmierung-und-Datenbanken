{
 "cells": [
  {
   "cell_type": "markdown",
   "metadata": {},
   "source": [
    "# Funktionen"
   ]
  },
  {
   "cell_type": "markdown",
   "metadata": {},
   "source": [
    "## Funktionsdefinition und Funktionsaufruf"
   ]
  },
  {
   "cell_type": "markdown",
   "metadata": {},
   "source": [
    "Alle höheren Programmiersprachen erlauben die Definition von Funktionen (oder Prozeduren), um sich ständig wiederholenden Code nur einmal schreiben zu müssen und komplexe Programme zu strukturieren."
   ]
  },
  {
   "cell_type": "markdown",
   "metadata": {},
   "source": [
    "Funktionen werden in Python mit dem Schlüsselwort `def` definiert. Sie haben einen `funktionsnamen` und können mehrere Argumente als Eingabe in einer Klammer haben. Die Deklaration der Funktion wird mit `:` beendet. Der Körper der Funktion, also der Teil, welcher beim Aufrufen der Funktion ausgeführt werden soll, muss immer eingerückt werden."
   ]
  },
  {
   "cell_type": "code",
   "execution_count": null,
   "metadata": {},
   "outputs": [],
   "source": [
    "def funktionsname(argument1, argument2):\n",
    "    # Funktionskörper\n",
    "    print(\"Der Datentyp von Argument 1 ist \"+str(type(argument1)))\n",
    "    print(\"Der Datentyp von Argument 2 ist \"+str(type(argument2)))"
   ]
  },
  {
   "cell_type": "markdown",
   "metadata": {},
   "source": [
    "Hierbei müssen alle Teile der Funktion gleich eingerückt werden. Der folgende Code ist z.B. syntaktisch falsch"
   ]
  },
  {
   "cell_type": "code",
   "execution_count": null,
   "metadata": {
    "tags": [
     "raises-exception"
    ]
   },
   "outputs": [],
   "source": [
    "def funktionsname(argument1, argument):\n",
    "    # Funktionskörper\n",
    "    print(\"Der Datentyp von Argument 1 ist \"+str(type(argument1)))\n",
    "        print(\"Der Datentyp von Argument 2 ist \"+str(type(argument2)))"
   ]
  },
  {
   "cell_type": "markdown",
   "metadata": {},
   "source": [
    "Beim Aufruf der Funktion durch den `funktionsname(wert1, wert2)` müssen die Argumente mit Eingabewerten belegt werden. Die Argumente in Python werden wie andere Variablen dynamisch typisiert (Wir wissen also nicht unbedingt welchen Datentyp sie später haben werden. Das ist eine typische Fehlerquelle).\n"
   ]
  },
  {
   "cell_type": "code",
   "execution_count": null,
   "metadata": {},
   "outputs": [],
   "source": [
    "funktionsname(\"wert1\", 2)"
   ]
  },
  {
   "cell_type": "markdown",
   "metadata": {},
   "source": [
    "Das entscheidende ist, dass die Argumente ihre Werte ändern können."
   ]
  },
  {
   "cell_type": "code",
   "execution_count": null,
   "metadata": {},
   "outputs": [],
   "source": [
    "funktionsname(\"anderer wert \", \"noch ein anderer\")"
   ]
  },
  {
   "cell_type": "markdown",
   "metadata": {},
   "source": [
    "## Ergebnisrückgabe"
   ]
  },
  {
   "cell_type": "markdown",
   "metadata": {},
   "source": [
    "Die Anweisung `return` wird in Funktionen benutzt, um die Ausführung einer Funktion zu beenden und den zugewiesenen Wert(e) als Ergebnis der Funktion zurückzugeben."
   ]
  },
  {
   "cell_type": "code",
   "execution_count": null,
   "metadata": {},
   "outputs": [],
   "source": [
    "def funktion_mit_einer_ausgabe():\n",
    "    return \"Ausgabewert\"\n",
    "    print(\"Dieser Teil wird nicht ausgeführt\")\n",
    "    return \"Anderer Ausgabewert\""
   ]
  },
  {
   "cell_type": "code",
   "execution_count": null,
   "metadata": {},
   "outputs": [],
   "source": [
    "ergebnis = funktion_mit_einer_ausgabe()\n",
    "ergebnis"
   ]
  },
  {
   "cell_type": "markdown",
   "metadata": {},
   "source": [
    "Wir sehen, dass das Ergebnis `Ausgabewert` ist und die `print()` Funktion nicht aufgerufen worden ist."
   ]
  },
  {
   "cell_type": "markdown",
   "metadata": {},
   "source": [
    "Es können mehrere Ausgabewerte mit `return` zurückgegeben werden."
   ]
  },
  {
   "cell_type": "code",
   "execution_count": null,
   "metadata": {},
   "outputs": [],
   "source": [
    "def funktion_mit_zwei_ausgaben():\n",
    "    return \"Ausgabewert1\", \"Ausgabewert2\""
   ]
  },
  {
   "cell_type": "code",
   "execution_count": null,
   "metadata": {},
   "outputs": [],
   "source": [
    "ergebnis = funktion_mit_zwei_ausgaben()\n",
    "ergebnis"
   ]
  },
  {
   "cell_type": "markdown",
   "metadata": {},
   "source": [
    "Das Ergebnis von Funktionen mit mehreren Rückgaben ist ein Tuple."
   ]
  },
  {
   "cell_type": "code",
   "execution_count": null,
   "metadata": {},
   "outputs": [],
   "source": [
    "type(ergebnis)"
   ]
  },
  {
   "cell_type": "markdown",
   "metadata": {},
   "source": [
    "Auf die einzelnen Werte im Tuple kann durch den Index zugegriffen werden. Zur Erinnerung der Index einer Liste oder eines Tuples startet mit 0."
   ]
  },
  {
   "cell_type": "code",
   "execution_count": null,
   "metadata": {},
   "outputs": [],
   "source": [
    "ergebnis[0]"
   ]
  },
  {
   "cell_type": "markdown",
   "metadata": {},
   "source": [
    "Das Tuple kann allerdings auch durch Mehrfachzuweisung verhindert werden. Bei einer Mehrfachzuweisung listet man mehrere durch Komma getrennte Variablen links von der Zuweisung auf. "
   ]
  },
  {
   "cell_type": "code",
   "execution_count": null,
   "metadata": {},
   "outputs": [],
   "source": [
    "ergebnis1, ergebnis2 = funktion_mit_zwei_ausgaben()\n",
    "print(ergebnis1)\n",
    "print(ergebnis2)\n",
    "print(type(ergebnis1))\n",
    "print(type(ergebnis2))"
   ]
  },
  {
   "cell_type": "markdown",
   "metadata": {},
   "source": [
    "## Variablengültigkeit"
   ]
  },
  {
   "cell_type": "markdown",
   "metadata": {},
   "source": [
    "Variablen innerhalb von Funktionen sind nicht global gültig. So sind die Variablen der Argumente nur innerhalb der Funktion gültig. Auch neue Variablen, die in der Funktion definiert werden, sind nicht außerhalb der Funktion gültig. So sind in der folgenden Funktion:"
   ]
  },
  {
   "cell_type": "code",
   "execution_count": null,
   "metadata": {},
   "outputs": [],
   "source": [
    "def meine_funktion(argument):\n",
    "    interne_variable = \"geheim\"\n",
    "    print(\"Der Wert von argument innerhalb der Funktion ist \"+str(argument))\n",
    "    print(\"Der Wert von intern innerhalb der Funktion ist \"+str(interne_variable))"
   ]
  },
  {
   "cell_type": "markdown",
   "metadata": {},
   "source": [
    "die Werte von `argument` und `intern` innerhalb der Funktion definiert und werden im ´print()´ Statement ausgegeben."
   ]
  },
  {
   "cell_type": "code",
   "execution_count": null,
   "metadata": {},
   "outputs": [],
   "source": [
    "meine_funktion(\"argument_wert\")"
   ]
  },
  {
   "cell_type": "markdown",
   "metadata": {},
   "source": [
    "Die Variablen `argument` und `interne_variable` sind nach dem Ausführen der Funktion allerdings nicht global verfügbar."
   ]
  },
  {
   "cell_type": "code",
   "execution_count": null,
   "metadata": {
    "tags": [
     "raises-exception"
    ]
   },
   "outputs": [],
   "source": [
    "print(argument)"
   ]
  },
  {
   "cell_type": "code",
   "execution_count": null,
   "metadata": {
    "tags": [
     "raises-exception"
    ]
   },
   "outputs": [],
   "source": [
    "print(interne_variable)"
   ]
  },
  {
   "cell_type": "markdown",
   "metadata": {},
   "source": [
    "Die erlaubt es auch Variablennamen außerhalb der Funktion zu definieren, welche innerhalb der Funktion einen anderen Wert haben können. So bleibt der Wert von `argument` unverändert."
   ]
  },
  {
   "cell_type": "code",
   "execution_count": null,
   "metadata": {},
   "outputs": [],
   "source": [
    "argument = 6 # orginalwert\n",
    "print(\"Der Wert von argument vor der Funktion ist \"+str(argument))\n",
    "meine_funktion(4)\n",
    "print(\"Der Wert von argument nach der Funktion ist immer noch \"+str(argument))"
   ]
  },
  {
   "cell_type": "markdown",
   "metadata": {},
   "source": [
    "## Veränderte und unveränderte Argumente"
   ]
  },
  {
   "cell_type": "markdown",
   "metadata": {},
   "source": [
    "Grundsätzlich werden Modifikationen an Argumenten primitiver Datentypen innerhalb der Funktion nicht übernommen (pass-by-value). So, lässt sich innerhalb der Funktion auch Argumenten neue Werte zuweisen."
   ]
  },
  {
   "cell_type": "code",
   "execution_count": null,
   "metadata": {},
   "outputs": [],
   "source": [
    "def meine_funktion(argument):\n",
    "    print(\"Der Wert von argument am Anfang der Funktion ist \"+str(argument))\n",
    "    argument = 3\n",
    "    print(\"Der Wert von argument am Ende der Funktion ist \"+str(argument))\n",
    "\n",
    "argument = 6 # orginalwert\n",
    "print(\"Der Wert von argument vor der Funktion ist \"+str(argument))\n",
    "meine_funktion(argument)\n",
    "print(\"Der Wert von argument nach der Funktion ist immer noch \"+str(argument))"
   ]
  },
  {
   "cell_type": "markdown",
   "metadata": {},
   "source": [
    "Das funktioniert auch bei komplexen Datentypen, wie `list`, `set`, `dict`, sofern sie komplett neu zugewiesen werden."
   ]
  },
  {
   "cell_type": "code",
   "execution_count": null,
   "metadata": {},
   "outputs": [],
   "source": [
    "def meine_funktion(argument):\n",
    "    print(\"Der Wert von argument am Anfang der Funktion ist \"+str(argument))\n",
    "    argument = [3]\n",
    "    print(\"Der Wert von argument am Ende der Funktion ist \"+str(argument))\n",
    "\n",
    "argument = [6] # orginalwert\n",
    "print(\"Der Wert von argument vor der Funktion ist \"+str(argument))\n",
    "meine_funktion(argument)\n",
    "print(\"Der Wert von argument nach der Funktion ist immer noch \"+str(argument))"
   ]
  },
  {
   "cell_type": "markdown",
   "metadata": {},
   "source": [
    "Werden sie allerdings nur modifiziert (pass-by-reference), so sind diese Änderungen auch global."
   ]
  },
  {
   "cell_type": "code",
   "execution_count": null,
   "metadata": {},
   "outputs": [],
   "source": [
    "def meine_funktion(argument):\n",
    "    print(\"Der Wert von argument am Anfang der Funktion ist \"+str(argument))\n",
    "    argument.append(3) # Wir fügen 3 der liste hinzu\n",
    "    print(\"Der Wert von argument am Ende der Funktion ist \"+str(argument))\n",
    "\n",
    "argument = [6] # orginalwert\n",
    "print(\"Der Wert von argument vor der Funktion ist \"+str(argument))\n",
    "meine_funktion(argument)\n",
    "print(\"Der Wert von argument nach der Funktion ist auf einmal \"+str(argument))"
   ]
  },
  {
   "cell_type": "markdown",
   "metadata": {},
   "source": [
    ":::{warning}\n",
    "\n",
    "Das kann sehr schnell zu Fehlern führen, wenn man unbeabsichtigt globale Datenstrukturen verändert.\n",
    "\n",
    ":::"
   ]
  },
  {
   "cell_type": "markdown",
   "metadata": {},
   "source": [
    "## Quiz\n",
    "\n",
    "\n",
    "```{quizdown}\n",
    "\t---\n",
    "\tshuffleQuestions: true\n",
    "\tshuffleAnswers: true\n",
    "\t---\n",
    "\n",
    "    ### Wozu dienen Funktionen in Python?\n",
    "    - [x] Um wiederverwendbaren Code zu strukturieren  \n",
    "    - [x] Um Programme übersichtlicher zu machen  \n",
    "    - [ ] Um den Code schneller zu machen  \n",
    "    - [ ] Um Datenbanken zu erstellen\n",
    "\n",
    "    ### Wie beginnt eine Funktionsdefinition in Python?\n",
    "    - [x] Mit dem Schlüsselwort `def`  \n",
    "    - [ ] Mit `function`  \n",
    "    - [ ] Mit `define()`  \n",
    "    - [ ] Mit `func`\n",
    "\n",
    "    ### Was passiert, wenn der Funktionskörper nicht richtig eingerückt ist?\n",
    "    - [x] Es gibt einen Syntaxfehler  \n",
    "    - [ ] Die Funktion wird ignoriert  \n",
    "    - [ ] Die Funktion wird als globale Funktion gespeichert  \n",
    "    - [ ] Python rückt den Code automatisch ein\n",
    "\n",
    "    ### Was macht `return` in einer Funktion?\n",
    "    - [x] Beendet die Funktion und gibt einen Wert zurück  \n",
    "    - [ ] Gibt automatisch alle Argumente aus  \n",
    "    - [ ] Wiederholt die Funktion  \n",
    "    - [ ] Überspringt den Rest des Codes\n",
    "\n",
    "    ### Was passiert, wenn mehrere Werte mit `return` zurückgegeben werden?\n",
    "    - [x] Es wird ein Tuple zurückgegeben  \n",
    "    - [ ] Nur der erste Wert wird zurückgegeben  \n",
    "    - [ ] Es entsteht ein Fehler  \n",
    "    - [ ] Alle Werte werden automatisch ausgedruckt\n",
    "\n",
    "    ### Wo sind Variablen gültig, die innerhalb einer Funktion definiert wurden?\n",
    "    - [x] Nur innerhalb der Funktion  \n",
    "    - [ ] Im gesamten Programm  \n",
    "    - [ ] Innerhalb von Schleifen  \n",
    "    - [ ] Im gesamten Modul\n",
    "\n",
    "    ### Was passiert mit einer Variable `x`, die in einer Funktion definiert ist?\n",
    "    - [x] Sie existiert nur während der Funktionsausführung  \n",
    "    - [ ] Sie überschreibt globale Variablen automatisch  \n",
    "    - [ ] Sie wird zu einer globalen Konstante  \n",
    "    - [ ] Sie bleibt im Speicher bis das Programm beendet ist\n",
    "\n",
    "    ### Was passiert mit primitiven Datentypen, wenn sie einer Funktion übergeben und dort verändert werden?\n",
    "    - [x] Die Änderung bleibt lokal innerhalb der Funktion  \n",
    "    - [ ] Die ursprüngliche Variable wird immer überschrieben  \n",
    "    - [ ] Python speichert die Änderung automatisch global  \n",
    "    - [ ] Die Funktion gibt automatisch eine Kopie zurück\n",
    "\n",
    "    ### Was passiert, wenn man eine Liste in einer Funktion **modifiziert**, aber nicht neu zuweist?\n",
    "    - [x] Die Änderung wirkt sich auch außerhalb der Funktion aus  \n",
    "    - [ ] Die Liste wird automatisch kopiert  \n",
    "    - [ ] Die Funktion erzeugt eine neue Liste  \n",
    "    - [ ] Es entsteht ein Fehler\n",
    "\n",
    "    ### Wie verhält sich eine Liste, die in einer Funktion **neu zugewiesen** wird?\n",
    "    - [x] Die globale Liste bleibt unverändert\n",
    "    - [ ] Die globale Liste wird überschrieben\n",
    "    - [ ] Sie kann nicht innerhalb einer Funktion verwendet werden  \n",
    "    - [ ] Python blockiert diese Zuweisung\n",
    "\n",
    "    ### Wie läuft ein Python-Programm grundsätzlich ab?\n",
    "    - [x] Zeile für Zeile, von oben nach unten  \n",
    "    - [ ] Zufällig, abhängig vom Interpreter  \n",
    "    - [ ] Erst am Ende, dann rückwärts  \n",
    "    - [ ] Von Funktionen zu Hauptprogramm\n",
    "\n",
    "    ### Was passiert, wenn eine Funktion definiert, aber nicht aufgerufen wird?\n",
    "    - [x] Der Code in der Funktion wird übersprungen  \n",
    "    - [ ] Die Funktion wird trotzdem automatisch ausgeführt  \n",
    "    - [ ] Der Code wird nur beim nächsten Neustart ausgeführt  \n",
    "    - [ ] Python zeigt eine Warnung\n",
    "\n",
    "    ### Was passiert beim Funktionsaufruf?\n",
    "    - [x] Der Funktionscode wird an dieser Stelle ausgeführt  \n",
    "    - [ ] Nur die Rückgabe wird berechnet  \n",
    "    - [ ] Nur die letzte Zeile der Funktion wird ausgeführt  \n",
    "    - [ ] Python pausiert das Hauptprogramm\n",
    "\n",
    "    ### Was ist eine rekursive Funktion?\n",
    "    - [x] Eine Funktion, die sich selbst aufruft\n",
    "    - [ ] Eine Funktion, die nur einmal aufgerufen werden darf\n",
    "    - [ ] Eine Funktion ohne Parameter\n",
    "    - [ ] Eine spezielle Schleifenfunktion in Python\n",
    "\n",
    "    ### Welcher Fehler steckt in diesem Beispiel?\n",
    "    ```python\n",
    "    def rekursive_funktion():\n",
    "        rekursive_funktion()\n",
    "    ```\n",
    "    - [x] Es fehlt die Abbruchbedingung, dadurch entsteht eine Endlosschleife\n",
    "    - [ ] Der Funktionsname ist ungültig\n",
    "    - [ ] Python erlaubt keine Selbstaufrufe\n",
    "    - [ ] Die Funktion muss einen Parameter haben\n",
    "\n",
    "    ### Sortiere die folgenden Zeilen, um eine einfache rekursive Funktion korrekt zu implementieren:\n",
    "    ```python\n",
    "    n = 3\n",
    "    ```\n",
    "    1. `def count_down(n):`\n",
    "    2. `  if n <= 0:`\n",
    "    3. `    print(\"Fertig!\")`\n",
    "    4. `  else:`\n",
    "    5. `    print(n)`\n",
    "    6. `    count_down(n - 1)`\n",
    "\n",
    "```"
   ]
  }
 ],
 "metadata": {
  "kernelspec": {
   "display_name": "Python 3 (ipykernel)",
   "language": "python",
   "name": "python3"
  },
  "language_info": {
   "codemirror_mode": {
    "name": "ipython",
    "version": 3
   },
   "file_extension": ".py",
   "mimetype": "text/x-python",
   "name": "python",
   "nbconvert_exporter": "python",
   "pygments_lexer": "ipython3",
   "version": "3.12.10"
  },
  "rise": {
   "auto_select": "none",
   "center": false,
   "enable_chalkboard": true,
   "header": "<img src=\"images/pd_logo.svg\" class=\"header_title_logo\"><img src=\"images/ai4sc_logo_v2.svg\" class=\"header_ai4sc_logo\">",
   "scroll": true,
   "show_buttons_on_startup": false,
   "slideNumber": true,
   "theme": "white"
  },
  "vscode": {
   "interpreter": {
    "hash": "6d5b4c1aed727cf1aeefa5ce625efdd40a732dd8ec11ef525b58c5aca2b06a32"
   }
  }
 },
 "nbformat": 4,
 "nbformat_minor": 4
}
