{
 "cells": [
  {
   "cell_type": "markdown",
   "id": "9f425d98-ff8b-452a-aec5-69f93dde62d8",
   "metadata": {
    "editable": true,
    "slideshow": {
     "slide_type": "slide"
    },
    "tags": [
     "remove-cell",
     "translated_en"
    ],
    "translation": {
     "lang": "de",
     "src_hash": "ee713e7ae759a777ef3dfc33a67e675144c48090eb1345f1a03996904a3c9c3c",
     "updated_at_iso": "2025-08-16T09:19:33.160596+00:00"
    }
   },
   "source": [
    "<div class=\"vslide\">\n",
    "  <div class=\"vslide-title\">\n",
    "    <p style=\"font-family: Protomolecule; font-size: 2.3em; line-height: 90%; margin: 0px auto; text-align: center; width: 100%;\"><span style=\"letter-spacing: .04rem;\">Programming</span><br><span style=\"letter-spacing: .0rem;\">and Databases</span></p>\n",
    "<p class=\"author\" style=\"font-family: Protomolecule; margin: 0px auto;  text-align: center; width: 100%; font-size: 1.2em;\">Joern Ploennigs</p>\n",
    "<p class=\"subtitle\" style=\"font-family: Protomolecule; margin: 1em auto; text-align: center; width: 100%; font-size: 1.2em;\">Computer hardware</p>\n",
    "    <figcaption>Midjourney: Man Computer, ref. Fritz Kahn</figcaption>\n",
    "  </div>\n",
    "<script>\n",
    "  function setSectionBackground(c,v){\n",
    "    let e=document.currentScript.previousElementSibling;\n",
    "    while(e&&e.tagName!=='SECTION')e=e.parentElement;\n",
    "    if(e){\n",
    "      if(c)e.setAttribute('data-background-color',c);\n",
    "      if(v){\n",
    "        e.setAttribute('data-background-video',v);\n",
    "        e.setAttribute('data-background-video-loop','true');\n",
    "        e.setAttribute('data-background-video-muted','true');\n",
    "      }\n",
    "    }\n",
    "  }\n",
    "  setSectionBackground('#000000', 'images/01c_Computerhardware/mj_title.mp4');\n",
    "</script>\n",
    "<style>\n",
    ".flex-row{display:flex; gap:2rem; align-items:flex-start; justify-content:space-between;}\n",
    ".flex-row .col1{flex:1; min-width:10px}\n",
    ".flex-row .col2{flex:2; min-width:10px}\n",
    ".flex-row .col3{flex:3; min-width:10px}\n",
    ".flex-row .col4{flex:4; min-width:10px}\n",
    ".flex-row .col5{flex:5; min-width:10px}\n",
    ".flex-row .col6{flex:6; min-width:10px}\n",
    ".flex-row .col7{flex:7; min-width:10px}\n",
    ".vcent{display:flex; align-items:center; justify-content:center}\n",
    "</style>\n",
    "</div>"
   ]
  },
  {
   "cell_type": "markdown",
   "id": "948875af",
   "metadata": {
    "editable": true,
    "slideshow": {
     "slide_type": "skip"
    },
    "tags": [
     "translated_en"
    ],
    "translation": {
     "lang": "de",
     "src_hash": "e010116762449736f698484c21fc5358967760af515d43c1892336ab52d18a06",
     "updated_at_iso": "2025-08-16T09:19:35.233357+00:00"
    }
   },
   "source": [
    "# Computer hardware"
   ]
  },
  {
   "cell_type": "markdown",
   "id": "9ae339a8-3e41-4515-a74a-c9d70fdc4186",
   "metadata": {
    "editable": true,
    "raw_mimetype": "",
    "slideshow": {
     "slide_type": "skip"
    },
    "tags": [
     "translated_en"
    ],
    "translation": {
     "lang": "de",
     "src_hash": "b2c60a73a3d26832cce88c05340c92ab13fc293b0e85def34515b2c2cb5dfcaa",
     "updated_at_iso": "2025-08-16T09:19:38.555012+00:00"
    }
   },
   "source": [
    "<figure class=\"mj-tile-band\">\n",
    "<img src='images/01c_Computerhardware/mj_title_band.jpg'>\n",
    "<figcaption>Midjourney: Man Computer, ref. Fritz Kahn</figcaption>\n",
    "</figure>\n",
    "\n",
    "> Never trust a computer you can’t throw out a window.\n",
    "> \n",
    "> — Steve Wozniak"
   ]
  },
  {
   "cell_type": "markdown",
   "id": "554b63b9-c908-4a46-9157-6928f4cfbd28",
   "metadata": {
    "editable": true,
    "slideshow": {
     "slide_type": "skip"
    },
    "tags": [
     "translated_en"
    ],
    "translation": {
     "lang": "de",
     "src_hash": "a5c936e79866cfb2c907f49067118a9e7713a7c08246df0c056c5a4e622ff2b5",
     "updated_at_iso": "2025-08-16T09:19:43.001691+00:00"
    }
   },
   "source": [
    "## <a href=\"../lec_slides/01c_Computerhardware.slides.html\">Slides</a>/<a href=\"../pdf/slides/01c_Computerhardware.pdf\">PDF</a>\n",
    "<iframe src=\"../lec_slides/01c_Computerhardware.slides.html\" width=\"750\" height=\"500\"></iframe>"
   ]
  },
  {
   "cell_type": "markdown",
   "id": "5f1c64ce",
   "metadata": {
    "editable": true,
    "slideshow": {
     "slide_type": "slide"
    },
    "tags": [
     "remove-cell",
     "translated_en"
    ],
    "translation": {
     "lang": "de",
     "src_hash": "4fbeeffc1757fa356f0865df4f5f1c18011444c0ca3bbc4fe555841665d11ef2",
     "updated_at_iso": "2025-08-16T09:19:46.443005+00:00"
    }
   },
   "source": [
    "## Process\n",
    "\n",
    "![](images/partA_2.svg)"
   ]
  },
  {
   "cell_type": "markdown",
   "id": "4a3d513a",
   "metadata": {
    "editable": true,
    "slideshow": {
     "slide_type": "slide"
    },
    "tags": [
     "translated_en"
    ],
    "translation": {
     "lang": "de",
     "src_hash": "bead63abe5615ab5e657594af863f66d8221a595474f2ff1cfe9c6ae8da8eb6c",
     "updated_at_iso": "2025-08-16T09:19:48.400015+00:00"
    }
   },
   "source": [
    "## Definition: Computer"
   ]
  },
  {
   "cell_type": "markdown",
   "id": "7f50ddc4-1b57-4302-b1d1-37b910d831e8",
   "metadata": {
    "editable": true,
    "slideshow": {
     "slide_type": ""
    },
    "tags": [
     "translated_en"
    ],
    "translation": {
     "lang": "de",
     "src_hash": "b04063a2aac41d54b1b52a44c3df791d6ee88f19b00836ffcff9c5595076ab29",
     "updated_at_iso": "2025-08-16T09:19:52.105144+00:00"
    }
   },
   "source": [
    "Computers are ubiquitous nowadays and perform many tasks in our daily lives. They are formally defined as"
   ]
  },
  {
   "cell_type": "markdown",
   "id": "17e51bff-6037-43c6-a6f6-d288f01fdc79",
   "metadata": {
    "editable": true,
    "slideshow": {
     "slide_type": ""
    },
    "tags": [
     "translated_en"
    ],
    "translation": {
     "lang": "de",
     "src_hash": "98375e71d0e66600a5573fc7e426ab465fb65254cad56455ef608b76c83ebfa1",
     "updated_at_iso": "2025-08-16T09:19:56.654878+00:00"
    }
   },
   "source": [
    "<div class=\"alert alert-block alert-success\">\n",
    "<b>📘 Definition: Computer</b>\n",
    "\n",
    "A computer is a device that processes data using programmable calculation rules.\n",
    "</div>"
   ]
  },
  {
   "cell_type": "markdown",
   "id": "4cc830bb-bcb9-43e1-89ed-bb985b7159d0",
   "metadata": {
    "editable": true,
    "slideshow": {
     "slide_type": "slide"
    },
    "tags": [
     "remove-cell",
     "translated_en"
    ],
    "translation": {
     "lang": "de",
     "src_hash": "3adc883156475f9f3aad1757482dba76bbb67288db143ee69f7fda4b2207f2dc",
     "updated_at_iso": "2025-08-16T09:20:00.326189+00:00"
    }
   },
   "source": [
    "## Lecture Hall Question\n",
    "\n",
    "<script>setSectionBackground('#FFD966');</script>\n",
    "<div class=\"flex-row\">\n",
    "  <div class=\"col4 vcent\">\n",
    "\n",
    "What types of computers are there?\n",
    "\n",
    "  </div>\n",
    "  <div class=\"col6\"> \n",
    "    <figure class=\"mj-fig\">\n",
    "        <img src=\"images/01c_Computerhardware/image_3.png\" class=\"mj-fig-img\">\n",
    "        <figcaption class=\"mj-fig-cap\">\n",
    "            Midjourney: A Mona Lisa-style painting with a goat taking a photo with an iPad\n",
    "        </figcaption>\n",
    "    </figure>\n",
    "  </div>\n",
    "</div>"
   ]
  },
  {
   "cell_type": "markdown",
   "id": "cc084f2b-1a94-4895-a4dd-dc3d7eedbe52",
   "metadata": {
    "editable": true,
    "slideshow": {
     "slide_type": "subslide"
    },
    "tags": [
     "remove-cell",
     "translated_en"
    ],
    "translation": {
     "lang": "de",
     "src_hash": "81c9e56a0b630e4289a3b442a5bebdf90143a9eb73982f21dad1d8f8e41e59ad",
     "updated_at_iso": "2025-08-16T09:20:02.082133+00:00"
    }
   },
   "source": [
    "## Types of Computers"
   ]
  },
  {
   "cell_type": "markdown",
   "id": "67658447-7a0c-4e14-abd0-cf479584d630",
   "metadata": {
    "editable": true,
    "slideshow": {
     "slide_type": "skip"
    },
    "tags": [
     "translated_en"
    ],
    "translation": {
     "lang": "de",
     "src_hash": "c29500e3f9723cbee3e267abadded2e2424789e87569344cb8659d16b88cafbf",
     "updated_at_iso": "2025-08-16T09:20:05.824943+00:00"
    }
   },
   "source": [
    "Computers are now found almost everywhere. There are many different kinds of computers that are specialized for different applications. Nevertheless, all of them are based on the same hardware architecture."
   ]
  },
  {
   "cell_type": "markdown",
   "id": "f4480917-f337-4cff-95da-86059b7e1603",
   "metadata": {
    "editable": true,
    "raw_mimetype": "",
    "slideshow": {
     "slide_type": ""
    },
    "tags": [
     "translated_en"
    ],
    "translation": {
     "lang": "de",
     "src_hash": "24c81e7718b9a70b288ec668df4502ca2dc06f286bd7b2488e8072b3bcfa10de",
     "updated_at_iso": "2025-08-16T09:20:12.189120+00:00"
    }
   },
   "source": [
    "- Supercomputer – Special-purpose computers with very many CPUs and GPUs for highly parallel processing of complex problems (e.g., weather simulations)\n",
    "- Mainframe – Special-purpose large machines with very high reliability, e.g., in banks\n",
    "- Server – Computers in data centers without a display for the Internet or cloud computing\n",
    "- Personal Computer (PC) – Desktop computers in offices or at home for work, gaming, etc.\n",
    "- Laptops – Mobile computers on the go for work, gaming, studying\n",
    "- Smartphones – Mobile devices with a touchscreen and limited phone functionality\n",
    "- Tablets – Mobile computers with large touchscreens and no phone functionality\n",
    "- Embedded Computers – Small computers in cars, robots, and smart homes"
   ]
  },
  {
   "cell_type": "markdown",
   "id": "bc0a5f5e-469d-4e98-904a-0d4891bd1b86",
   "metadata": {
    "editable": true,
    "slideshow": {
     "slide_type": "slide"
    },
    "tags": [
     "remove-cell",
     "translated_en"
    ],
    "translation": {
     "lang": "de",
     "src_hash": "89ed640dcfc3abad1255d66f6bf49d1ebf78d99063982fd66bbf671d0650c488",
     "updated_at_iso": "2025-08-16T09:20:17.879116+00:00"
    }
   },
   "source": [
    "## Lecture Hall Question\n",
    "\n",
    "<script>setSectionBackground('#FFD966');</script>\n",
    "<div class=\"flex-row\">\n",
    "  <div class=\"col4 vcent\">\n",
    "\n",
    "What hardware makes up a computer?\n",
    "\n",
    "  </div>\n",
    "  <div class=\"col6\"> \n",
    "    <figure class=\"mj-fig\">\n",
    "        <img src=\"images/01c_Computerhardware/image_4.jpg\" class=\"mj-fig-img\">\n",
    "        <figcaption class=\"mj-fig-cap\">\n",
    "            DALL-E 2: Early designs of the iPhone by Leonardo da Vinci\n",
    "        </figcaption>\n",
    "    </figure>\n",
    "  </div>\n",
    "</div>"
   ]
  },
  {
   "cell_type": "markdown",
   "id": "e628851f-fb1d-4ee3-8328-f5e1f67d2bb1",
   "metadata": {
    "editable": true,
    "slideshow": {
     "slide_type": "subslide"
    },
    "tags": [
     "translated_en"
    ],
    "translation": {
     "lang": "de",
     "src_hash": "6f8cd8ab57094cb021171bcacc66cc39623a34d83696f407741a55044a96772b",
     "updated_at_iso": "2025-08-16T09:20:21.956802+00:00"
    }
   },
   "source": [
    "## PC Build"
   ]
  },
  {
   "cell_type": "markdown",
   "id": "557c804d-0d14-49d4-8637-33bcf9aa0389",
   "metadata": {
    "editable": true,
    "slideshow": {
     "slide_type": ""
    },
    "tags": [
     "translated_en"
    ],
    "translation": {
     "lang": "de",
     "src_hash": "ce988845903087a4e618410a3e7bfc4626df49682f950c6567cd623f24f16a6f",
     "updated_at_iso": "2025-08-16T09:20:24.964454+00:00"
    }
   },
   "source": [
    "<img src=\"images/01c_Computerhardware/computer_hardware.svg\" style=\"width: 60%; display: block; margin: 0 auto;\" alt=\"Image\">"
   ]
  },
  {
   "cell_type": "markdown",
   "id": "722f354d-85c3-40ca-9dff-96c3b2b3866c",
   "metadata": {
    "editable": true,
    "slideshow": {
     "slide_type": ""
    },
    "tags": [
     "translated_en"
    ],
    "translation": {
     "lang": "de",
     "src_hash": "c06a53ad37f4e2a0a9010a7d00a527b47fa6bdd13628b6418ea71194922c4483",
     "updated_at_iso": "2025-08-16T09:20:31.959213+00:00"
    }
   },
   "source": [
    "The core components of a computer are:\n",
    "\n",
    "- the CPU as the central processing unit,\n",
    "- the GPU for graphical applications,\n",
    "- the RAM as the main memory, and\n",
    "- a hard drive (HDD) or solid-state drive (SSD)"
   ]
  },
  {
   "cell_type": "markdown",
   "id": "d8df5597-2472-494d-8d53-3c878506fe51",
   "metadata": {
    "editable": true,
    "slideshow": {
     "slide_type": "subslide"
    },
    "tags": [
     "remove-cell",
     "translated_en"
    ],
    "translation": {
     "lang": "de",
     "src_hash": "c80e76ac4f176c90e13f88027df1393c8b76f5f69de2980075da65fda47469ba",
     "updated_at_iso": "2025-08-16T09:20:35.367927+00:00"
    }
   },
   "source": [
    "## Computer Architecture: Storage Duration"
   ]
  },
  {
   "cell_type": "markdown",
   "id": "ae601f17-c423-4ec4-ad07-3d7e3dffe6c3",
   "metadata": {
    "editable": true,
    "slideshow": {
     "slide_type": ""
    },
    "tags": [
     "remove-cell",
     "translated_en"
    ],
    "translation": {
     "lang": "de",
     "src_hash": "3cdcf9f69dee66fa8c1fe2323ec103462f15dcc8324e50486313c230ff2f7a78",
     "updated_at_iso": "2025-08-16T09:20:39.163562+00:00"
    }
   },
   "source": [
    "<img src=\"images/01c_Computerhardware/computer_hardware2.svg\" style=\"width: 60%; display: block; margin: 0 auto;\" alt=\"Image\">"
   ]
  },
  {
   "cell_type": "markdown",
   "id": "2f241345-da31-4b2e-8048-df115fa3fb96",
   "metadata": {
    "editable": true,
    "slideshow": {
     "slide_type": ""
    },
    "tags": [
     "translated_en"
    ],
    "translation": {
     "lang": "de",
     "src_hash": "880fa4241e56f236451cd2fac69c71aa078349181c73367b2e9320dc16d2748d",
     "updated_at_iso": "2025-08-16T09:20:46.646984+00:00"
    }
   },
   "source": [
    "The computer has memory types similar to those of humans:\n",
    "- CPUs and GPUs have small registers and cache memory (ultra-short-term memory)\n",
    "- RAM is volatile memory, i.e., its contents are lost when powered off (short-term memory)\n",
    "- The HDD/SSD is non-volatile storage, i.e., its contents remain (long-term memory)"
   ]
  },
  {
   "cell_type": "markdown",
   "id": "89024374-0a3e-4677-9201-93ecc17a10c9",
   "metadata": {
    "editable": true,
    "jp-MarkdownHeadingCollapsed": true,
    "slideshow": {
     "slide_type": "skip"
    },
    "tags": [
     "translated_en"
    ],
    "translation": {
     "lang": "de",
     "src_hash": "26f8045c6f38c02c453b375f4fcc920431a1d4ed30c352f9876573d7223d8b0e",
     "updated_at_iso": "2025-08-16T09:21:03.220677+00:00"
    }
   },
   "source": [
    "### Central Processing Unit (CPU)\n",
    "The CPU (Central Processing Unit) is the computer's processing unit and is responsible for executing applications, calculations, and operations. It processes a sequence of instructions in the form of a computer program. Modern CPUs consist of a few processing cores (2–32) with very high performance to execute complex calculations quickly. A CPU consists of millions of transistors that are only a few nanometers (1000000nm = 1cm) in size. A few transistors can perform only a single logical operation.\n",
    "\n",
    "### Graphics Card (GPU)\n",
    "The graphics card GPU (Graphic Processing Unit) is responsible for processing graphics (2D, 3D, and videos) and parallel computations. In some computers, the GPU is integrated into the CPU, while gaming PCs and workstations often use separate, powerful graphics cards. Modern GPUs consist of thousands of very simple processing units that have little computing power and memory, but thanks to their quantity they can perform many parallel computations, in contrast to the CPU.\n",
    "\n",
    "### RAM (Random Access Memory)\n",
    "RAM (Random Access Memory) is the temporary storage in which data and programs are loaded during operation. A larger RAM enables faster performance and multitasking capabilities.\n",
    "\n",
    "### Hard Disk Drive / Solid State Drive\n",
    "HDDs and SSDs (Hard Disk Drive / Solid State Drive) are the computer's non-volatile storage, where the operating system, programs, and data are stored. HDDs (hard disk drives) store data on rotating disks, while SSDs (solid-state drives) use flash memory and are generally faster.\n",
    "\n",
    "### Motherboard with the Communication Bus\n",
    "The motherboard is the main circuit board of the computer, on which the CPU, RAM, GPU and other components are connected. The components exchange information via a communication bus."
   ]
  },
  {
   "cell_type": "markdown",
   "id": "1802de1e-e4df-4214-a5d4-6cf2ac2f6bce",
   "metadata": {
    "editable": true,
    "slideshow": {
     "slide_type": "slide"
    },
    "tags": [
     "remove-cell",
     "translated_en"
    ],
    "translation": {
     "lang": "de",
     "src_hash": "8c188f9a0d2fc9f7bbbe2606d18f91c68fce68f898fa7f65da31657a316d38bd",
     "updated_at_iso": "2025-08-16T09:21:14.023325+00:00"
    }
   },
   "source": [
    "## CPU – Central Processing Unit\n",
    "<div class=\"flex-row\">\n",
    "  <div class=\"col4\">\n",
    "    <ul><li>The CPU is the computer's processing unit that processes data</li>\n",
    "        <li>It processes a sequence of instructions (a program)</li>\n",
    "        <br/>\n",
    "        <li>A CPU consists of millions of transistors that are only a few nanometers in size (1000000nm=1cm)</li>\n",
    "        <li>A few transistors can perform only one logical operation</li>\n",
    "        <ul>\n",
    "  </div>\n",
    "  <div class=\"col6\"> \n",
    "    <figure class=\"mj-fig\">\n",
    "        <img src=\"images/01c_Computerhardware/image_5.jpg\" class=\"mj-fig-img\">\n",
    "        <figcaption class=\"mj-fig-cap\">\n",
    "            https://www.ial-fa.com/blog/wafer-lot-acceptance-to-mil-std-883\n",
    "        </figcaption>\n",
    "    </figure>\n",
    "  </div>\n",
    "</div>"
   ]
  },
  {
   "cell_type": "markdown",
   "id": "a7ff02da-6099-4341-a02e-5593c4608bab",
   "metadata": {
    "editable": true,
    "slideshow": {
     "slide_type": "slide"
    },
    "tags": [
     "remove-cell",
     "translated_en"
    ],
    "translation": {
     "lang": "de",
     "src_hash": "387da2a2ec808e7da7670c40bfd458e3c804e126484ea15fdabe0e4fe3d234c3",
     "updated_at_iso": "2025-08-16T09:21:20.646435+00:00"
    }
   },
   "source": [
    "## Binary Numbers\n",
    "\n",
    "- Computers store, process & communicate data as binary numbers, because transistors in a gate can only perform logical operations.\n",
    "- binarius – dual, double\n",
    "- The smallest possible (useful) system of characters\n",
    "\n",
    "- Possible representations of binary code:\n",
    "  - 0 / 1\n",
    "  - False / True\n",
    "  - Off / On"
   ]
  },
  {
   "cell_type": "markdown",
   "id": "89bf1cbe",
   "metadata": {
    "editable": true,
    "slideshow": {
     "slide_type": "subslide"
    },
    "tags": [
     "remove-cell",
     "translated_en"
    ],
    "translation": {
     "lang": "de",
     "src_hash": "402b1c1a8f2ba71d0c8d66e6548a099c018e518efda7f9a679341178ea4afe49",
     "updated_at_iso": "2025-08-16T09:21:36.517136+00:00"
    }
   },
   "source": [
    "## Note: The Difference in Computing\n",
    "\n",
    "<div style=\"overflow: hidden;\">\n",
    "  <div style=\"float: left; width: 30%;\">\n",
    "\n",
    "Due to the binary representation, common unit prefixes such as kilo-, mega-, etc. are defined based on 1024 rather than 1000.\n",
    "\n",
    "  </div>\n",
    "  <div style=\"float: left; width: 70%;\">\n",
    "\n",
    "| Unit         | Abbreviation | Decimal Value  | Binary (IEC)      | Abbreviation | Binary (Bytes)       |\n",
    "|--------------|--------------|----------------|---------------------|--------------|------------------------|\n",
    "| Kilobyte     | kB           | 1,000          | Kibibyte            | KiB          | 1,024                  |\n",
    "| Megabyte     | MB           | 1,000,000      | Mebibyte            | MiB          | 1,048,576              |\n",
    "| Gigabyte     | GB           | 1,000^3          | Gibibyte            | GiB          | 1,024^3                |\n",
    "| Terabyte     | TB           | 1,000^4          | Tebibyte            | TiB          | 1,024^4                |\n",
    "\n",
    "  </div>\n",
    "</div>"
   ]
  },
  {
   "cell_type": "markdown",
   "id": "f64b20f5",
   "metadata": {
    "editable": true,
    "slideshow": {
     "slide_type": "skip"
    },
    "tags": [
     "translated_en"
    ],
    "translation": {
     "lang": "de",
     "src_hash": "06d02fcd681e6320cec75502a2d857c23d69c68dc1c37c94e89821addb343bdd",
     "updated_at_iso": "2025-08-16T09:22:03.919079+00:00"
    }
   },
   "source": [
    "## Binary Numbers\n",
    "\n",
    "Computers store, process, and transmit data in the form of binary numbers. This is because transistors in the CPU can only distinguish two states and thus perform only logical operations. The word “binary” comes from the Latin “binarius” and means “twofold” or “double.” The binary system is the smallest meaningful numeral system and uses only two distinct symbols: 0 and 1. These two values can be interpreted in different ways, for example as “off” and “on,” “false” and “true,” or simply as the numbers 0 and 1. By combining many such binary digits (bits), complex data and information can be represented and processed in computers.\n",
    "\n",
    "<div class=\"alert alert-block alert-warning\">\n",
    "<b>⚠️ Attention:</b> Due to the binary representation, common unit prefixes such as kilo-, mega-, etc. are defined based on 1024 rather than 1000.\n",
    "\n",
    "| Unit       | Abbreviation | Decimal Value  | Binary (IEC)      | Abbreviation | Binary (Bytes)       |\n",
    "|------------|--------------|----------------|---------------------|--------------|------------------------|\n",
    "| Kilobyte   | kB           | 1,000          | Kibibyte            | KiB          | 1,024                  |\n",
    "| Megabyte   | MB           | 1,000,000      | Mebibyte            | MiB          | 1,048,576              |\n",
    "| Gigabyte   | GB           | 1,000,000,000  | Gibibyte            | GiB          | 1,073,741,824          |\n",
    "| Terabyte   | TB           | 1,000,000,000,000 | Tebibyte            | TiB          | 1,099,511,627,776      |\n",
    "</div>"
   ]
  },
  {
   "cell_type": "markdown",
   "id": "54ad57dc-6479-4ea6-b305-105cf4322c41",
   "metadata": {
    "editable": true,
    "slideshow": {
     "slide_type": "slide"
    },
    "tags": [
     "remove-cell",
     "translated_en"
    ],
    "translation": {
     "lang": "de",
     "src_hash": "2c4d4267601584ff153d4ff000f2946ab49c2ad65308f541f65545f1210e6948",
     "updated_at_iso": "2025-08-16T09:22:10.109089+00:00"
    }
   },
   "source": [
    "## Lecture Hall Question\n",
    "\n",
    "<script>setSectionBackground('#FFD966');</script>\n",
    "<div class=\"flex-row\">\n",
    "  <div class=\"col4 vcent\">\n",
    "\n",
    "***How far can you count with ten fingers?***\n",
    "\n",
    "  </div>\n",
    "  <div class=\"col6\">\n",
    "    <figure class=\"mj-fig\">\n",
    "        <img src=\"images/01c_Computerhardware/image_6.png\" class=\"mj-fig-img\">\n",
    "        <figcaption class=\"mj-fig-cap\">\n",
    "            Midjourney: Counting with two hands\n",
    "        </figcaption>\n",
    "    </figure>\n",
    "  </div>\n",
    "</div>"
   ]
  },
  {
   "cell_type": "markdown",
   "id": "c9fc2091-b8be-4834-bfa9-13180b18b928",
   "metadata": {
    "editable": true,
    "slideshow": {
     "slide_type": "subslide"
    },
    "tags": [
     "remove-cell",
     "translated_en"
    ],
    "translation": {
     "lang": "de",
     "src_hash": "0bfa818dd8e3b8330760c3a42a93a608937e4486e0b7a3f6284ce37dc7796aae",
     "updated_at_iso": "2025-08-16T09:22:22.000794+00:00"
    }
   },
   "source": [
    "## Binary Numbers - Integers\n",
    "\n",
    "<div class=\"flex-row\">\n",
    "  <div class=\"col4 vcent\">\n",
    "\n",
    "- Our decimal numbers can be encoded as binary numbers\n",
    "- Binary numbers allow the same well-known basic arithmetic operations as decimal numbers, namely addition, subtraction, multiplication, and division\n",
    "- This is how the computer can perform calculations with decimal numbers\n",
    "\n",
    "- In computers, numbers are also often encoded in hexadecimal (base 16), since a byte (8 bits) can be represented by two characters\n",
    "\n",
    "  </div>\n",
    "  <div class=\"col6\">\n",
    "\n",
    "| Decimal | Binary      | Hexadecimal |\n",
    "|---------|------------|-------------|\n",
    "| 0       | 0000       | 0           |\n",
    "| 1       | 0001       | 1           |\n",
    "| 2       | 0010       | 2           |\n",
    "| 3       | 0011       | 3           |\n",
    "| 4       | 0100       | 4           |\n",
    "| 5       | 0101       | 5           |\n",
    "| 6       | 0110       | 6           |\n",
    "| 7       | 0111       | 7           |\n",
    "| 8       | 1000       | 8           |\n",
    "| 9       | 1001       | 9           |\n",
    "| 10      | 1010       | A           |\n",
    "| 11      | 1011       | B           |\n",
    "| 12      | 1100       | C           |\n",
    "| 13      | 1101       | D           |\n",
    "| 14      | 1110       | E           |\n",
    "| 15      | 1111       | F           |\n",
    "\n",
    "  </div>\n",
    "</div>"
   ]
  },
  {
   "cell_type": "markdown",
   "id": "29b59d48",
   "metadata": {
    "editable": true,
    "slideshow": {
     "slide_type": "skip"
    },
    "tags": [
     "translated_en"
    ],
    "translation": {
     "lang": "de",
     "src_hash": "b09b7f89fdb8e503f4ace9b39e23e0224de95710dc6cc5d2d5cb5b0721ad59c8",
     "updated_at_iso": "2025-08-16T09:22:36.604856+00:00"
    }
   },
   "source": [
    "### Representation of integers in the binary system\n",
    "\n",
    "In principle, integers in a computer are represented in the binary system. For this, the decimal system, which is based on base 10 and uses the digits 0 through 9, is converted to the binary system based on base 2 with the digits 0 and 1. Each place value of a binary number corresponds to a power of 2, starting at the far right with $2^0$. To convert a decimal number to a binary number, the number is decomposed into sums of powers of two.\n",
    "\n",
    "| Decimal | Binary      | Hexadecimal |\n",
    "|---------|-------------|-------------|\n",
    "| 0       | 0000        | 0           |\n",
    "| 1       | 0001        | 1           |\n",
    "| 2       | 0010        | 2           |\n",
    "| 3       | 0011        | 3           |\n",
    "| 4       | 0100        | 4           |\n",
    "| 5       | 0101        | 5           |\n",
    "| 6       | 0110        | 6           |\n",
    "| 7       | 0111        | 7           |\n",
    "| 8       | 1000        | 8           |\n",
    "| 9       | 1001        | 9           |\n",
    "| 10      | 1010        | A           |\n",
    "| 11      | 1011        | B           |\n",
    "| 12      | 1100        | C           |\n",
    "| 13      | 1101        | D           |\n",
    "| 14      | 1110        | E           |\n",
    "| 15      | 1111        | F           |\n",
    "\n",
    "**Example:** The decimal number 13 is represented in binary as follows:\n",
    "- Decomposition into powers of two: \n",
    "  $13 = 8 + 4 + 1 = 2^3 + 2^2 + 2^0$\n",
    "- In binary this is written as $1101$. Each place (from right to left) corresponds to $2^0$, $2^1$, $2^2$, $2^3$, etc. The digit is 1 if the respective power is contained in the number, otherwise 0.\n",
    "- We also write $13_{10} = 1101_2$, i.e., 13 in base 10 and 1101 in base 2.\n",
    "\n",
    "Thus any number can be represented as a sequence of zeros and ones. Computers store and process numbers internally always in this binary form."
   ]
  },
  {
   "cell_type": "markdown",
   "id": "37e5fc12",
   "metadata": {
    "editable": true,
    "slideshow": {
     "slide_type": ""
    },
    "tags": [
     "remove-cell",
     "translated_en"
    ],
    "translation": {
     "lang": "de",
     "src_hash": "fb0e1bea0252e40e6222ce3fd450d09e9523f4718a364ad3064322e2143e74aa",
     "updated_at_iso": "2025-08-16T09:22:50.074544+00:00"
    }
   },
   "source": [
    "## Binary Numbers – Floating-Point\n",
    "\n",
    "<div class=\"flex-row\">\n",
    "  <div class=\"col1\">\n",
    "\n",
    "- Real numbers cannot be represented exactly in a computer, because they can have infinitely many decimal digits (e.g., $1/3$, $\\pi$)\n",
    "- Computers therefore use approximate floating-point numbers in exponential notation: $\\pm m \\times 2^e$\n",
    "\n",
    "- Decomposition: sign bit, exponent (with bias), mantissa (binary)\n",
    "\n",
    "<div class=\"alert alert-block alert-warning\">\n",
    "<b>⚠️ Attention:</b> Limited number of digits → rounding errors!\n",
    "</div>\n",
    "\n",
    "  </div>\n",
    "  <div class=\"col1\">\n",
    "\n",
    "**Example:** We want to represent the number $-13.25$ as a floating-point number in the format $\\pm m \\times 2^e$:\n",
    "\n",
    "1. *Sign:* The number is negative, so 1.\n",
    "2. *Decimal number in binary form:* $13.25_{10} = 1101.01_2$\n",
    "3. *Exponent shift:* $1101.01_2 = 1.10101_2 \\times 2^3$\n",
    "4. *Decomposition* into mantissa: $1.10101_2$ and exponent: $3$\n",
    "5. *Result:* $-13.25 = -1.10101_2 \\times 2^3$\n",
    "\n",
    "In the IEEE 754 standard the bits are padded with zeros so that they fit into 32- or 64-bit representations.\n",
    "\n",
    "- Sign bit: 1 (negative)\n",
    "- Exponent with bias: 3 + 127 = 130_{10}$ (10000010_2)\n",
    "- Mantissa padded with zeros: 10101000000000000000000\n",
    "- The binary representation in memory is therefore: `1 10000010 10101000000000000000000`\n",
    "\n",
    "  </div>\n",
    "</div>"
   ]
  },
  {
   "cell_type": "markdown",
   "id": "f3e17bed",
   "metadata": {
    "editable": true,
    "slideshow": {
     "slide_type": "skip"
    },
    "tags": [
     "translated_en"
    ],
    "translation": {
     "lang": "de",
     "src_hash": "2c4c65bc6e257e5a4fe0730dba4f6c99d558af5748aaed49bed4304d728b6306",
     "updated_at_iso": "2025-08-16T09:23:07.951394+00:00"
    }
   },
   "source": [
    "### Representation of real numbers in the binary system\n",
    "\n",
    "Real numbers cannot be represented exactly in a computer, because they often have many and even infinitely many digits after the decimal point (e.g., 1/3, π). Instead, the computer uses an approximate representation, the so-called floating-point number. This is based on an exponential notation, similar to mathematics:\n",
    "\n",
    "$$\n",
    "\\pm\\ m \\times 10^e\n",
    "$$\n",
    "\n",
    "where \\(m\\) is the mantissa, \\(e\\) the exponent, and the sign is \\(\\pm\\). In a computer, however, the binary system is used, therefore the representation is:\n",
    "\n",
    "$$\n",
    "\\pm\\ m \\times 2^e\n",
    "$$\n",
    "\n",
    "Here \\(m\\) is the binary mantissa (between 1 and 2), \\(e\\) the binary exponent. \n",
    "\n",
    "**Example:** We want to represent the number \\(-13.25\\) as a floating-point number in the format \\(\\pm m \\times 2^e\\):\n",
    "\n",
    "1. *Sign:* The number is negative, so 1.\n",
    "2. *Decimal number in binary form:* \\(13.25_{10} = 1101.01_2\\)\n",
    "3. *Exponent shift:* \\(1101.01_2 = 1.10101_2 \\times 2^3\\)\n",
    "4. *Decomposition* into mantissa: \\(1.10101_2\\) and exponent: \\(3\\)\n",
    "5. *Result:* \\(-13.25 = -1.10101_2 \\times 2^3\\)\n",
    "\n",
    "In practice, the numbers are usually stored in the standardized IEEE 754 standard as 32-bit floating-point numbers (*float*) or 64-bit (*double*). In doing so, the bits are padded so that they fit into 32 or 64 bits. This changes the representation somewhat:\n",
    "\n",
    "- Sign bit: \\(1\\) (negative)\n",
    "- Exponent with bias: \\(3 + 127 = 130_{10}\\) (\\(10000010_2\\))\n",
    "- Mantissa padded with zeros: \\(10101000000000000000000\\)\n",
    "- The binary representation in memory is therefore: `1 10000010 10101000000000000000000`\n",
    "\n",
    "Thus, arbitrary real numbers in the computer are stored as IEEE 754 floating-point numbers.\n",
    "\n",
    "<div class=\"alert alert-block alert-warning\">\n",
    "<b>⚠️ Limits</b>\n",
    "\n",
    "A limited number of bits cannot represent all real numbers exactly. It results in rounding errors and finite precision.\n",
    "\n",
    "</div>"
   ]
  },
  {
   "cell_type": "markdown",
   "id": "289386e9-c004-4cd5-aba0-b4afd2e503d5",
   "metadata": {
    "editable": true,
    "slideshow": {
     "slide_type": "subslide"
    },
    "tags": [
     "remove-cell",
     "translated_en"
    ],
    "translation": {
     "lang": "de",
     "src_hash": "6344ecd05eababdc8d0bb2c3d1e3b2588590ca8d4b3a5a61d222affef6935411",
     "updated_at_iso": "2025-08-16T09:23:32.031568+00:00"
    }
   },
   "source": [
    "## Character Representation in Computers\n",
    "\n",
    "<div class=\"flex-row\">\n",
    "  <div class=\"col3\">\n",
    "\n",
    "- Characters in text are encoded in binary in computers\n",
    "- ASCII: Text characters are stored in 8 binary values (8 bits = 1 byte)\n",
    "- Binary encoding extends from the lowest hardware level up to everyday applications\n",
    "\n",
    "  </div>\n",
    "    <div class=\"col7\">\n",
    "\n",
    "| Char | Decimal | Binary | Char | Decimal | Binary |  Char | Decimal | Binary |\n",
    "|----------------|---------|------------|---------------|---------|------------|------------------|---------|------------|\n",
    "| a              | 97      | 01100001   | A             | 65      | 01000001   | 0                | 48      | 00110000   |\n",
    "| b              | 98      | 01100010   | B             | 66      | 01000010   | 1                | 49      | 00110001   |\n",
    "| c              | 99      | 01100011   | C             | 67      | 01000011   | 2                | 50      | 00110010   |\n",
    "| d              | 100     | 01100100   | D             | 68      | 01000100   | 3                | 51      | 00110011   |\n",
    "| e              | 101     | 01100101   | E             | 69      | 01000101   | 4                | 52      | 00110100   |\n",
    "| f              | 102     | 01100110   | F             | 70      | 01000110   | 5                | 53      | 00110101   |\n",
    "| g              | 103     | 01100111   | G             | 71      | 01000111   | 6                | 54      | 00110110   |\n",
    "| h              | 104     | 01101000   | H             | 72      | 01001000   | 7                | 55      | 00110111   |\n",
    "| i              | 105     | 01101001   | I             | 73      | 01001001   | 8                | 56      | 00111000   |\n",
    "| j              | 106     | 01101010   | J             | 74      | 01001010   | 9                | 57      | 00111001   |\n",
    "| k              | 107     | 01101011   | K             | 75      | 01001011   | !                | 33      | 00100001   |\n",
    "| l              | 108     | 01101100   | L             | 76      | 01001100   | ?                | 63      | 00111111   |\n",
    "| m              | 109     | 01101101   | M             | 77      | 01001101   | .                | 46      | 00101110   |\n",
    "| n              | 110     | 01101110   | N             | 78      | 01001110   | ,                | 44      | 00101100   |\n",
    "| o              | 111     | 01101111   | O             | 79      | 01001111   | Space            | 32      | 00100000   |\n",
    " \n",
    "  </div>\n",
    "</div>"
   ]
  },
  {
   "cell_type": "markdown",
   "id": "78599e54",
   "metadata": {
    "editable": true,
    "slideshow": {
     "slide_type": "skip"
    },
    "tags": [
     "translated_en"
    ],
    "translation": {
     "lang": "de",
     "src_hash": "28c920714ed42b5b3fd85c9edd59e65066898dff722e5431b1ad30ce7168b5fd",
     "updated_at_iso": "2025-08-16T09:23:44.856267+00:00"
    }
   },
   "source": [
    "### Representation of Characters in Computers\n",
    "\n",
    "Text is stored in a computer as a sequence of numbers, which are in turn binary-coded. Each letter, every punctuation mark, and every other character is represented by a specific number. This mapping is defined in so-called character encodings such as ASCII or Unicode.\n",
    "\n",
    "| Lowercase letter | Decimal | Binary      | Uppercase letter | Decimal | Binary      | Digits/Special characters | Decimal | Binary      |\n",
    "|------------------|---------|-------------|------------------|---------|-------------|---------------------------|---------|-------------|\n",
    "| a                | 97      | 01100001    | A                | 65      | 01000001    | 0                         | 48      | 00110000    |\n",
    "| b                | 98      | 01100010    | B                | 66      | 01000010    | 1                         | 49      | 00110001    |\n",
    "| c                | 99      | 01100011    | C                | 67      | 01000011    | 2                         | 50      | 00110010    |\n",
    "| d                | 100     | 01100100    | D                | 68      | 01000100    | 3                         | 51      | 00110011    |\n",
    "| e                | 101     | 01100101    | E                | 69      | 01000101    | 4                         | 52      | 00110100    |\n",
    "| f                | 102     | 01100110    | F                | 70      | 01000110    | 5                         | 53      | 00110101    |\n",
    "| g                | 103     | 01100111    | G                | 71      | 01000111    | 6                         | 54      | 00110110    |\n",
    "| h                | 104     | 01101000    | H                | 72      | 01001000    | 7                         | 55      | 00110111    |\n",
    "| i                | 105     | 01101001    | I                | 73      | 01001001    | 8                         | 56      | 00111000    |\n",
    "| j                | 106     | 01101010    | J                | 74      | 01001010    | 9                         | 57      | 00111001    |\n",
    "| k                | 107     | 01101011    | K                | 75      | 01001011    | !                         | 33      | 00100001    |\n",
    "| l                | 108     | 01101100    | L                | 76      | 01001100    | ?                         | 63      | 00111111    |\n",
    "| m                | 109     | 01101101    | M                | 77      | 01001101    | .                         | 46      | 00101110    |\n",
    "| n                | 110     | 01101110    | N                | 78      | 01001110    | ,                         | 44      | 00101100    |\n",
    "| o                | 111     | 01101111    | O                | 79      | 01001111    | (space)                   | 32      | 00100000    |\n",
    "\n",
    "Modern computers often use Unicode (e.g., UTF-8) to be able to represent characters from other languages and special characters. Here too, the characters are represented as numbers and then stored in binary. Thus the binary encoding of characters runs through all levels of computer technology, from storage in RAM to rendering in the GPU for display on the screen."
   ]
  },
  {
   "cell_type": "markdown",
   "id": "a8cd78c5-d5fd-47d8-876e-526e89aba630",
   "metadata": {
    "editable": true,
    "slideshow": {
     "slide_type": "subslide"
    },
    "tags": [
     "remove-cell",
     "translated_en"
    ],
    "translation": {
     "lang": "de",
     "src_hash": "048bdbbfe44e034cb9dadd67081071ce10fb34bbf51d0578bf930b3913871269",
     "updated_at_iso": "2025-08-16T09:23:54.614806+00:00"
    }
   },
   "source": [
    "## Image Representation in Computers\n",
    "\n",
    "<div class=\"flex-row\">\n",
    "  <div class=\"col4 vcent\">\n",
    "\n",
    "- Images are also stored in binary form in a computer\n",
    "\n",
    "- In this process, an image is divided into pixels (resolution)\n",
    "- The color in each pixel is then stored as a number, e.g., true color RGB (16,777,216 color variations):\n",
    "  - Blue  – 0 … 256  (= 1 Byte)\n",
    "  - Green – 0 … 256  (= 1 Byte)\n",
    "  - Red    – 0 … 256  (= 1 Byte)\n",
    "\n",
    "- The numbers are then encoded in binary, e.g., as 24 bits  (1 Byte = 8 Bits;    3 × 8 Bits = 24 Bits)\n",
    "\n",
    "  </div>\n",
    "    <div class=\"col6\">\n",
    "    <figure>\n",
    "      <img src=\"images/01c_Computerhardware/image_10.png\" style=\" height: 100%; z-index: -1;\" alt=\"Image\">\n",
    "      <figcaption>Mahmut Sinecen: Digital Image Processing with MATLAB, 2015</figcaption>\n",
    "    </figure>\n",
    "  </div>\n",
    "</div>"
   ]
  },
  {
   "cell_type": "markdown",
   "id": "d054d132",
   "metadata": {
    "editable": true,
    "slideshow": {
     "slide_type": "skip"
    },
    "tags": [
     "translated_en"
    ],
    "translation": {
     "lang": "de",
     "src_hash": "91b06e46add5b7cd6873d4ed8dedace902f0db7233028e75d047bced29dd06ff",
     "updated_at_iso": "2025-08-16T09:24:09.564389+00:00"
    }
   },
   "source": [
    "### Image representation on a computer\n",
    "\n",
    "Images are stored on a computer as a collection of small picture elements, called pixels. Each pixel represents a tiny part of the image and has a specific color. To digitally store an image, the image is first divided into a grid of pixels with a specific resolution (e.g., 1920 × 1080 pixels).\n",
    "\n",
    "![© Mahmut Sinecen: Digital Image Processing with MATLAB, 2015](images/01c_Computerhardware/image_10.png)\n",
    "\n",
    "The color of each pixel is described by numeric values. For color images, the RGB color model is often used, in which each color is composed of the three primary colors red, green, and blue. For each of these colors, a numeric value is stored, usually in the range from 0 to 255 (that corresponds to 1 byte per color channel). A single pixel thus requires 3 bytes (24 bits) to store all color information.\n",
    "\n",
    "**Example:** A pixel with values Red = 120, Green = 200, Blue = 150 is stored in the computer as three numbers. These numbers are subsequently converted into binary numbers, e.g.  \n",
    "- 120 (Red) → 01111000  \n",
    "- 200 (Green) → 11001000  \n",
    "- 150 (Blue) → 10010110  \n",
    "\n",
    "All pixels of an image are stored in memory as a long sequence of binary numbers in this way. This allows the computer to reconstruct, display, or further process the image."
   ]
  },
  {
   "cell_type": "markdown",
   "id": "3bc4c425-6550-4363-9a3f-e6472d30fb59",
   "metadata": {
    "editable": true,
    "slideshow": {
     "slide_type": "subslide"
    },
    "tags": [
     "remove-cell",
     "translated_en"
    ],
    "translation": {
     "lang": "de",
     "src_hash": "6e5375cda158309ee9dec91ad1734cced2d5b0cad00eb6739896ced0eccdb907",
     "updated_at_iso": "2025-08-16T09:24:26.419986+00:00"
    }
   },
   "source": [
    "## Attention: The Difference in Computing\n",
    "\n",
    "<div class=\"flex-row\">\n",
    "  <div class=\"col4\">\n",
    "\n",
    "Due to the binary representation, common unit prefixes such as kilo-, mega-, etc. are defined on the basis of 1024 and not on the basis of 1000\n",
    "\n",
    "  </div>\n",
    "    <div class=\"col6\">\n",
    "\n",
    "| Unit      | Binary Name   | Decimal (base-1000)         | Decimal, written out         | Binary (base-1024)            | Binary, written out           |\n",
    "|--------------|--------------|-------------------------|-------------------------------|---------------------------|-------------------------------|\n",
    "| Kilobyte     | Kibibyte     | 1 KB = $10^3$ B          | 1,000 B                   | 1 KiB = $2^{10}$ B           | 1,024 B                   |\n",
    "| Megabyte     | Mebibyte     | 1 MB = $10^6$ B          | 1,000,000 B               | 1 MiB = $2^{20}$ B           | 1,048,576 B               |\n",
    "| Gigabyte     | Gibibyte     | 1 GB = $10^9$ B          | 1,000,000,000 B           | 1 GiB = $2^{30}$ B           | 1,073,741,824 B           |\n",
    "| Terabyte     | Tebibyte     | 1 TB = $10^{12}$ B         | 1,000,000,000,000 B       | 1 TiB = $2^{40}$ B           | 1,099,511,627,776 B       |\n",
    "\n",
    "\n",
    "  </div>\n",
    "</div>"
   ]
  },
  {
   "cell_type": "markdown",
   "id": "70af499f-6852-4026-b3e4-82047f07cf19",
   "metadata": {
    "editable": true,
    "slideshow": {
     "slide_type": "subslide"
    },
    "tags": [
     "remove-cell",
     "translated_en"
    ],
    "translation": {
     "lang": "de",
     "src_hash": "99f7676ac3f84a3f545b2b0a0793c3d131083f817ee6d1168e064fdbb53ec439",
     "updated_at_iso": "2025-08-16T09:24:33.866885+00:00"
    }
   },
   "source": [
    "## Data Growth\n",
    "\n",
    "- The amount of data generated is increasing.\n",
    "- In the future you will face large amounts of data.\n",
    "- The computer must help you analyze this data using computer science\n",
    "\n",
    "<center>\n",
    "<figure class=\"vcent\">\n",
    "    <img src=\"images/01c_Computerhardware/image_13.png\" style=\" height: 100%; z-index: -1;\" alt=\"Image\">\n",
    "    <figcaption>Worldwide IDC Global DataSphere Forecast, 2022–2026</figcaption>\n",
    "</figure>\n",
    "</center>"
   ]
  },
  {
   "cell_type": "markdown",
   "id": "b38e499a-8149-4302-b9b7-2166245b2861",
   "metadata": {
    "editable": true,
    "jp-MarkdownHeadingCollapsed": true,
    "slideshow": {
     "slide_type": "slide"
    },
    "tags": [
     "remove-cell",
     "translated_en"
    ],
    "translation": {
     "lang": "de",
     "src_hash": "1e845beabefa419e8c36a9256249c2b3ab2466b009651a86b75c5ad315a69470",
     "updated_at_iso": "2025-08-16T09:24:40.041491+00:00"
    }
   },
   "source": [
    "## Lecture Hall Question\n",
    "\n",
    "<script>setSectionBackground('#FFD966');</script>\n",
    "<div class=\"flex-row\">\n",
    "  <div class=\"col4 vcent\">\n",
    "\n",
    "***How many sensors does a supermarket have?***\n",
    "\n",
    "  </div>\n",
    "  <div class=\"col6\"> \n",
    "    <figure class=\"mj-fig\">\n",
    "        <img src=\"images/01c_Computerhardware/image_15.jpg\" class=\"mj-fig-img\">\n",
    "        <figcaption class=\"mj-fig-cap\">\n",
    "            Midjourney: An alien supermarket filled with exotic food\n",
    "        </figcaption>\n",
    "    </figure>\n",
    "  </div>\n",
    "</div>"
   ]
  },
  {
   "cell_type": "markdown",
   "id": "335f0446-5ccf-4377-9cd0-47707875988c",
   "metadata": {
    "editable": true,
    "slideshow": {
     "slide_type": "subslide"
    },
    "tags": [
     "remove-cell",
     "translated_en"
    ],
    "translation": {
     "lang": "de",
     "src_hash": "e69faa9e066732713e4153cc18010d385b7f4d78cb31f1c480be2b147f7c6f30",
     "updated_at_iso": "2025-08-16T09:24:47.725502+00:00"
    }
   },
   "source": [
    "## Example – Tesco Ireland\n",
    "\n",
    "- The supermarket chain Tesco invested early in sensors and monitoring systems across its stores with the goal of saving energy.\n",
    "- The collected data grew so quickly and to such a scale that no one could analyze it.\n",
    "- Using machine learning models, IBM Research was able to analyze the data and helped them cut cooling demand by 20%.\n",
    "\n",
    "<center>\n",
    "<figure class=\"vcent\">\n",
    "    <img src=\"images/01c_Computerhardware/tesco.svg\" style=\" width: 90%; z-index: -1;\" alt=\"Tesco\">\n",
    "</figure>\n",
    "</center>"
   ]
  },
  {
   "cell_type": "markdown",
   "id": "52aa7aac",
   "metadata": {
    "editable": true,
    "slideshow": {
     "slide_type": "slide"
    },
    "tags": [
     "remove-cell",
     "translated_en"
    ],
    "translation": {
     "lang": "de",
     "src_hash": "898d7d8846ec2800e5b06fca161398540cbc7b77639acab8b3d05ff2870bad9e",
     "updated_at_iso": "2025-08-16T09:24:57.512840+00:00"
    }
   },
   "source": [
    "## Lessons Learned\n",
    "\n",
    "<script>setSectionBackground('#66ccffff');</script>\n",
    "<div class=\"flex-row\">\n",
    "  <div class=\"col4 vcent\">\n",
    "\n",
    "- \"Lessons Learned\" are short off-topic digressions that I wish someone had told me about when I was a student\n",
    "- Usually in the middle of lectures to lighten things up\n",
    "- This semester has focused primarily on soft-skills topics; next semester, survival tips for the professional world\n",
    "\n",
    "  </div>\n",
    "  <div class=\"col6\"> \n",
    "    <figure class=\"mj-fig\">\n",
    "        <img src=\"images/01c_Computerhardware/mj_teddy.png\" class=\"mj-fig-img\">\n",
    "        <figcaption class=\"mj-fig-cap\">\n",
    "            DALL-E 2: Teddy bears mixing sparkling chemicals as mad scientists, steampunk\n",
    "        </figcaption>\n",
    "    </figure>\n",
    "  </div>\n",
    "</div>"
   ]
  },
  {
   "cell_type": "markdown",
   "id": "b96e80f6",
   "metadata": {
    "editable": true,
    "slideshow": {
     "slide_type": "subslide"
    },
    "tags": [
     "remove-cell",
     "translated_en"
    ],
    "translation": {
     "lang": "de",
     "src_hash": "618cc300b11d486077b9cc684f1ff592bcbd9d51729c0d9b56d4d34a233a512e",
     "updated_at_iso": "2025-08-16T09:25:02.916656+00:00"
    }
   },
   "source": [
    "## Lesson Learned\n",
    "\n",
    "<script>setSectionBackground('#66ccffff');</script>\n",
    "<div class=\"flex-row\">\n",
    "  <div class=\"col4 vcent\">\n",
    "\n",
    "What types of memory are you familiar with?\n",
    "\n",
    "  </div>\n",
    "  <div class=\"col6\"> \n",
    "    <figure class=\"mj-fig\">\n",
    "        <img src=\"images/01c_Computerhardware/image_1.jpg\" class=\"mj-fig-img\">\n",
    "        <figcaption class=\"mj-fig-cap\">\n",
    "            DALL-E 2: 1980s illustration of a face with a visible brain that’s exploding\n",
    "        </figcaption>\n",
    "    </figure>\n",
    "  </div>\n",
    "</div>"
   ]
  },
  {
   "cell_type": "markdown",
   "id": "3c1a72f1",
   "metadata": {
    "editable": true,
    "slideshow": {
     "slide_type": "subslide"
    },
    "tags": [
     "remove-cell",
     "translated_en"
    ],
    "translation": {
     "lang": "de",
     "src_hash": "babb1d5e16965755765dea43f86dbd44f30c5826626ab6127fa94cf31cf53365",
     "updated_at_iso": "2025-08-16T09:25:13.635670+00:00"
    }
   },
   "source": [
    "## Lessons Learned - Memory\n",
    "\n",
    "<script>setSectionBackground('#66ccffff');</script>\n",
    "\n",
    "<center>\n",
    "<figure class=\"vcent\">\n",
    "    <img src=\"images/01c_Computerhardware/gedaechnis.svg\" style=\" width: 80%; z-index: -1;\" alt=\"Gedaechnisarten\">\n",
    "</figure>\n",
    "</center>\n",
    "\n",
    "- Knowledge takes time to consolidate.\n",
    "- Tap into your subconscious, i.e., gather information and let it mature.\n",
    "- Interval learning is, just as in sports, the most effective way to learn something in the long term."
   ]
  },
  {
   "cell_type": "markdown",
   "id": "92ed5b7f",
   "metadata": {
    "editable": true,
    "slideshow": {
     "slide_type": "skip"
    },
    "tags": [
     "translated_en"
    ],
    "translation": {
     "lang": "de",
     "src_hash": "90ed1d91d9634a29e5ad81d94888c1c509f6daecaaad3fa1ab7340c5baf96e80",
     "updated_at_iso": "2025-08-16T09:25:33.220084+00:00"
    }
   },
   "source": [
    "## Quiz\n",
    "```{quizdown}\n",
    "    ---\n",
    "    shuffleQuestions: true\n",
    "    shuffleAnswers: true\n",
    "    ---\n",
    "\n",
    "    ### What is a computer?\n",
    "    - [ ] A device that serves only to display information\n",
    "    - [x] A device that processes data using programmable computing rules\n",
    "    - [ ] A storage medium\n",
    "    - [ ] A peripheral device such as a printer or scanner\n",
    "\n",
    "    ### Which of the following statements about supercomputers is correct?\n",
    "    - [x] They have many CPUs and GPUs for parallel processing of complex tasks\n",
    "    - [ ] They are intended for home use\n",
    "    - [ ] They have lower performance than laptops\n",
    "    - [ ] They are used exclusively for word processing\n",
    "\n",
    "    ### Which statement about servers is correct?\n",
    "    - [ ] Servers always have a display\n",
    "    - [ ] Servers are only suitable for gaming\n",
    "    - [x] Servers are used in data centers for Internet and cloud services\n",
    "    - [ ] Servers are exclusively mobile devices\n",
    "\n",
    "    ### Which of these devices count as personal computers?\n",
    "    - [x] Desktop computers\n",
    "    - [ ] Mainframes\n",
    "    - [ ] Supercomputers\n",
    "    - [ ] Smartphones\n",
    "    - [x] Laptops\n",
    "\n",
    "    ### What counts as the core modules of a computer?\n",
    "    - [x] CPU\n",
    "    - [x] GPU\n",
    "    - [x] RAM\n",
    "    - [x] HDD or SSD\n",
    "\n",
    "    ### What is the difference between RAM and SSD?\n",
    "    - [ ] RAM is permanent storage, SSD is volatile storage\n",
    "    - [x] RAM is volatile storage, SSD is permanent storage\n",
    "    - [ ] Both are built the same\n",
    "    - [ ] RAM is only used in smartphones\n",
    "\n",
    "    ### Which statements about the CPU are correct?\n",
    "    - [x] Executes programs and computations\n",
    "    - [x] Consists of millions of transistors\n",
    "    - [ ] Is only responsible for image output\n",
    "    - [x] Often has multiple cores\n",
    "\n",
    "    ### What describes the function of a GPU best?\n",
    "    - [x] Processing of 2D, 3D and video graphics\n",
    "    - [ ] Networking\n",
    "    - [ ] Managing user data\n",
    "    - [x] Performing parallel computations with many simple cores\n",
    "\n",
    "    ### Which of these memories is volatile and loses its data when powered off?\n",
    "    - [ ] SSD\n",
    "    - [ ] HDD\n",
    "    - [x] RAM\n",
    "    - [x] Register\n",
    "\n",
    "    ### Why do computers work with binary numbers?\n",
    "    - [x] Because transistors can distinguish only two states\n",
    "    - [ ] Because decimal numbers are less secure\n",
    "    - [ ] Because binary numbers are easier to read\n",
    "    - [ ] Because they can be coded more colorfully\n",
    "\n",
    "    ### Which symbols does the binary system use?\n",
    "    - [x] 0 and 1\n",
    "    - [ ] 1 and 2\n",
    "    - [ ] A and B\n",
    "    - [ ] F and T\n",
    "\n",
    "    ### What can a bit represent in the binary system?\n",
    "    - [x] On or off\n",
    "    - [x] True or false\n",
    "    - [x] 0 or 1\n",
    "    - [ ] 0 to 9\n",
    "\n",
    "    ### Which base does the binary system have?\n",
    "    - [x] 2\n",
    "    - [ ] 8\n",
    "    - [ ] 10\n",
    "    - [ ] 16\n",
    "\n",
    "    ### How is a character like “A” stored in a computer?\n",
    "    - [ ] As a color\n",
    "    - [x] As a number that is then encoded in binary\n",
    "    - [ ] As an image\n",
    "    - [ ] Directly as a letter\n",
    "\n",
    "    ### What is a pixel?\n",
    "    - [x] The smallest picture element of a digital image\n",
    "    - [ ] A color model\n",
    "    - [ ] A software filter\n",
    "    - [ ] A file extension\n",
    "\n",
    "    ### How is the color of a pixel stored in the RGB model?\n",
    "    - [ ] As a number between 0 and 10\n",
    "    - [x] As three numbers for red, green and blue in the range 0–255\n",
    "    - [ ] As the letters \"R\", \"G\" and \"B\"\n",
    "    - [ ] Only as a grayscale value between 0 and 1\n",
    "\n",
    "    ### Why can't real numbers be represented exactly in a computer?\n",
    "    - [x] Because they can have infinitely many decimal places\n",
    "    - [x] Because computer memory is limited\n",
    "    - [ ] Because they have no binary representation\n",
    "    - [ ] Because floating-point numbers store only integers\n",
    "\n",
    "    ### What is the general form of a floating-point number in a computer?\n",
    "    - [ ] ± m × 10^e\n",
    "    - [x] ± m × 2^e\n",
    "    - [ ] ± e × 2^m\n",
    "    - [ ] ± m × e^2\n",
    "\n",
    "    ### What is a floating-point number?\n",
    "    - [x] A number in the form: sign × mantissa × 2^exponent\n",
    "    - [ ] A fixed integer\n",
    "    - [ ] A number with only two decimal places\n",
    "    - [ ] A number that is used only for graphics\n",
    "\n",
    "    ### Why is the exponent needed for floating-point numbers?\n",
    "    - [x] To be able to represent numbers very large or very small\n",
    "    - [ ] To encode colors in an image\n",
    "    - [ ] To save computation time\n",
    "\n",
    "    ### What does IEEE 754 mean?\n",
    "    - [x] A standard for storing floating-point numbers\n",
    "    - [ ] A programming language\n",
    "    - [ ] A method for storing images\n",
    "    - [ ] An internet protocol\n",
    "\n",
    "    ### How does the computer store the sign of a floating-point number?\n",
    "    - [x] With a single bit (0 = positive, 1 = negative)\n",
    "    - [ ] With a decimal point\n",
    "    - [ ] With a special character such as \"-\"\n",
    "    - [ ] It detects it automatically\n",
    "```"
   ]
  },
  {
   "cell_type": "markdown",
   "id": "6b32d9cb",
   "metadata": {
    "editable": true,
    "slideshow": {
     "slide_type": "slide"
    },
    "tags": [
     "remove-cell",
     "translated_en"
    ],
    "translation": {
     "lang": "de",
     "src_hash": "2f1383abb2da877d7e88dff214e03c7af821d7bc9b71f43b715939ddc605d2b5",
     "updated_at_iso": "2025-08-16T09:25:37.395849+00:00"
    }
   },
   "source": [
    "<div class=\"vslide\">\n",
    "  <div class=\"vslide-title\">\n",
    "    <p style=\"font-family: Protomolecule; font-size: 2.3em; margin: 0px auto; text-align: center; width: 100%;\">Questions?</p>\n",
    "  </div>\n",
    "<script>setSectionBackground('#000000', 'images/mj_questions2.mp4');</script>\n",
    "</div>"
   ]
  }
 ],
 "metadata": {
  "kernelspec": {
   "display_name": "Python 3 (ipykernel)",
   "language": "python",
   "name": "python3"
  },
  "language_info": {
   "codemirror_mode": {
    "name": "ipython",
    "version": 3
   },
   "file_extension": ".py",
   "mimetype": "text/x-python",
   "name": "python",
   "nbconvert_exporter": "python",
   "pygments_lexer": "ipython3",
   "version": "3.12.10"
  },
  "rise": {
   "auto_select": "none",
   "center": false,
   "enable_chalkboard": true,
   "footer": "<img src=\"images/pd_logo.svg\" class=\"header_title_logo\"><img src=\"images/ai4sc_logo_v2.svg\" class=\"header_ai4sc_logo\">",
   "logo": "images/ai4sc_logo_v2.svg",
   "scroll": true,
   "show_buttons_on_startup": false,
   "slideNumber": true,
   "theme": "white"
  }
 },
 "nbformat": 4,
 "nbformat_minor": 5
}
