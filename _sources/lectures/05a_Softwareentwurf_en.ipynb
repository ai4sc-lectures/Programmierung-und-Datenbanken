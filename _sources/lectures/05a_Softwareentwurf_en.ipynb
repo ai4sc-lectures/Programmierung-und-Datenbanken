{
 "cells": [
  {
   "cell_type": "markdown",
   "id": "58a98a18",
   "metadata": {
    "editable": true,
    "slideshow": {
     "slide_type": "slide"
    },
    "tags": [
     "remove-cell",
     "translated_en"
    ],
    "translation": {
     "lang": "de",
     "src_hash": "3e87dace73e49e3238f41d40204445a89742883620a4267913ac5085c7543fdb",
     "updated_at_iso": "2025-08-16T10:42:05.284713+00:00"
    }
   },
   "source": [
    "<div class=\"vslide\">\n",
    "  <div class=\"vslide-title\">\n",
    "    <p style=\"font-family: Protomolecule; font-size: 2.3em; line-height: 90%; margin: 0px auto; text-align: center; width: 100%;\"><span style=\"letter-spacing: .04rem;\">Programming</span><br><span style=\"letter-spacing: .0rem;\">and Databases</span></p>\n",
    "<p class=\"author\" style=\"font-family: Protomolecule; margin: 0px auto;  text-align: center; width: 100%; font-size: 1.2em;\">Joern Ploennigs</p>\n",
    "<p class=\"subtitle\" style=\"font-family: Protomolecule; margin: 1em auto; text-align: center; width: 100%; font-size: 1.2em;\">Software Design</p>\n",
    "    <figcaption>Midjourney: Waterfall in the Chinese mountain range</figcaption>\n",
    "  </div>\n",
    "<script>\n",
    "  function setSectionBackground(c,v){\n",
    "    let e=document.currentScript.previousElementSibling;\n",
    "    while(e&&e.tagName!=='SECTION')e=e.parentElement;\n",
    "    if(e){\n",
    "      if(c)e.setAttribute('data-background-color',c);\n",
    "      if(v){\n",
    "        e.setAttribute('data-background-video',v);\n",
    "        e.setAttribute('data-background-video-loop','true');\n",
    "        e.setAttribute('data-background-video-muted','true');\n",
    "      }\n",
    "    }\n",
    "  }\n",
    "  setSectionBackground('#000000', 'images/05a_Softwareentwurf/mj_title.mp4');\n",
    "</script>\n",
    "<style>\n",
    ".flex-row{display:flex; gap:2rem; align-items:flex-start; justify-content:space-between;}\n",
    ".flex-row .col1{flex:1; min-width:10px}\n",
    ".flex-row .col2{flex:2; min-width:10px}\n",
    ".flex-row .col3{flex:3; min-width:10px}\n",
    ".flex-row .col4{flex:4; min-width:10px}\n",
    ".flex-row .col5{flex:5; min-width:10px}\n",
    ".flex-row .col6{flex:6; min-width:10px}\n",
    ".flex-row .col7{flex:7; min-width:10px}\n",
    ".vcent{display:flex; align-items:center; justify-content:center}\n",
    "</style>\n",
    "</div>"
   ]
  },
  {
   "cell_type": "markdown",
   "id": "6114743a",
   "metadata": {
    "editable": true,
    "slideshow": {
     "slide_type": "skip"
    },
    "tags": [
     "translated_en"
    ],
    "translation": {
     "lang": "de",
     "src_hash": "48b2bb37190f23a1bc4fc833e43fc03701733be45e6c89c91e15c0880d51a621",
     "updated_at_iso": "2025-08-16T10:42:06.933031+00:00"
    }
   },
   "source": [
    "# Software Design"
   ]
  },
  {
   "cell_type": "markdown",
   "id": "bbd92669",
   "metadata": {
    "editable": true,
    "slideshow": {
     "slide_type": "skip"
    },
    "tags": [
     "translated_en"
    ],
    "translation": {
     "lang": "de",
     "src_hash": "836734645b24b7f4768be75710fefb0b38bae5fd01c7ee88cc455119e45bc7ef",
     "updated_at_iso": "2025-08-16T10:42:11.844435+00:00"
    }
   },
   "source": [
    "<figure class=\"mj-tile-band\">\n",
    "    <img src='images/05a_Softwareentwurf/mj_title_band.jpg'>\n",
    "    <figcaption>Midjourney: Waterfall in chinese mountain range</figcaption>\n",
    "</figure>\n",
    "\n",
    "> Architecture is about the important stuff — whatever that is.\n",
    ">\n",
    "> — Ralph Johnson"
   ]
  },
  {
   "cell_type": "markdown",
   "id": "3b291148",
   "metadata": {
    "editable": true,
    "slideshow": {
     "slide_type": "skip"
    },
    "tags": [
     "translated_en"
    ],
    "translation": {
     "lang": "de",
     "src_hash": "ce950888879659e8eaecac7141392d701dd664ad764410b77ec9dc3755c48fe6",
     "updated_at_iso": "2025-08-16T10:42:15.353395+00:00"
    }
   },
   "source": [
    "## <a href=\"/lec_slides/05a_Softwareentwurf.slides.html\">Slides</a>/<a href=\"/pdf/slides/05a_Softwareentwurf.pdf\">PDF</a>\n",
    "<iframe src=\"/lec_slides/05a_Softwareentwurf.slides.html\" width=\"750\" height=\"500\"></iframe>"
   ]
  },
  {
   "cell_type": "markdown",
   "id": "6d50964d",
   "metadata": {
    "slideshow": {
     "slide_type": "subslide"
    },
    "tags": [
     "remove-cell",
     "translated_en"
    ],
    "translation": {
     "lang": "de",
     "src_hash": "862816d18d513f0cb531b9ae450ef499c78df69fe9d67cd616d6232657b102fe",
     "updated_at_iso": "2025-08-16T10:42:23.366834+00:00"
    }
   },
   "source": [
    "## Recap: In-Class Question\n",
    "\n",
    "<script>setSectionBackground('#FFD966');</script>\n",
    "<div class=\"flex-row\">\n",
    "  <div class=\"col4 vcent\">\n",
    "\n",
    "What data types are there in Python?\n",
    " \n",
    "  </div>\n",
    "  <div class=\"col6\"> \n",
    "    <figure class=\"mj-fig\">\n",
    "        <img src=\"images/03a_Operatoren/mj_python.png\" class=\"mj-fig-img\">\n",
    "        <figcaption class=\"mj-fig-cap\">\n",
    "            Midjourney: A python programming a robot\n",
    "        </figcaption>\n",
    "    </figure>\n",
    "  </div>\n",
    "</div>"
   ]
  },
  {
   "cell_type": "markdown",
   "id": "95c31705",
   "metadata": {
    "slideshow": {
     "slide_type": "subslide"
    },
    "tags": [
     "remove-cell",
     "translated_en"
    ],
    "translation": {
     "lang": "de",
     "src_hash": "2ea3e0472c613b78006363d20e5d39ae5410f24eab6f39c1220754e562de8734",
     "updated_at_iso": "2025-08-16T10:42:32.057895+00:00"
    }
   },
   "source": [
    "## Recap: Data Types - Python\n",
    "\n",
    "<script>setSectionBackground('#FFD966');</script>\n",
    "\n",
    "<div class=\"flex-row\">\n",
    "  <div class=\"col2\">\n",
    "\n",
    "Python simplifies some data types.\n",
    " \n",
    "  </div>\n",
    "  <div class=\"col4\"> \n",
    "    <figure class=\"mj-fig\">\n",
    "        <img src=\"images/03a_Operatoren/datentypen_python.svg\" class=\"mj-fig-img\">\n",
    "    </figure>\n",
    "  </div>\n",
    "</div>"
   ]
  },
  {
   "cell_type": "markdown",
   "id": "fc31cac9",
   "metadata": {
    "slideshow": {
     "slide_type": "subslide"
    },
    "tags": [
     "remove-cell",
     "translated_en"
    ],
    "translation": {
     "lang": "de",
     "src_hash": "f2dd50b5a3a578999b4062dd606b9790f7aff14270814b7dc971e4cf73a6c07c",
     "updated_at_iso": "2025-08-16T10:42:40.603116+00:00"
    }
   },
   "source": [
    "## Recap: Lecture Hall Question\n",
    "\n",
    "<script>setSectionBackground('#FFD966');</script>\n",
    "<div class=\"flex-row\">\n",
    "  <div class=\"col4 vcent\">\n",
    "\n",
    "What are objects? \n",
    "Generalization, encapsulation, polymorphism?\n",
    " \n",
    "  </div>\n",
    "  <div class=\"col6\"> \n",
    "    <figure class=\"mj-fig\">\n",
    "        <img src=\"images/10a_Datenbanktypen/mj_object.png\" class=\"mj-fig-img\">\n",
    "        <figcaption class=\"mj-fig-cap\">\n",
    "            Midjourney: Object-oriented man\n",
    "        </figcaption>\n",
    "    </figure>\n",
    "  </div>\n",
    "</div>"
   ]
  },
  {
   "cell_type": "markdown",
   "id": "0c3e56e6",
   "metadata": {
    "slideshow": {
     "slide_type": "subslide"
    },
    "tags": [
     "remove-cell",
     "translated_en"
    ],
    "translation": {
     "lang": "de",
     "src_hash": "21ebd83f6ce15e0905e1c764f7e2ca9c8c376e2f7f28a7b385ec550b1e916367",
     "updated_at_iso": "2025-08-16T10:42:52.796377+00:00"
    }
   },
   "source": [
    "## Recap: Object-Oriented Programming\n",
    "\n",
    "<div class=\"alert alert-block alert-success\">\n",
    "<b>📘 Definition: Object-Oriented Programming</b>\n",
    "\n",
    "Object-Oriented Programming (OOP) is a programming paradigm that assumes that a program consists exclusively of objects that interact cooperatively with one another.\n",
    "</div>\n",
    "\n",
    "Each object has:\n",
    "- *Attributes* (Properties): Defines the value of the object's state.\n",
    "- *Methods* define the possible state changes (actions) of an object."
   ]
  },
  {
   "cell_type": "markdown",
   "id": "8a5c978b",
   "metadata": {
    "tags": [
     "translated_en"
    ],
    "translation": {
     "lang": "de",
     "src_hash": "dbb72f0241209e00dea89cfd3288b973426bb6fa76eb5fb5dfee64c069a906f9",
     "updated_at_iso": "2025-08-16T10:42:59.309511+00:00"
    }
   },
   "source": [
    "## Recap: In-Class Question\n",
    "\n",
    "<script>setSectionBackground('#FFD966');</script>\n",
    "<div class=\"flex-row\">\n",
    "  <div class=\"col4 vcent\">\n",
    "\n",
    "What are the four fundamental elements of a program?\n",
    " \n",
    "  </div>\n",
    "  <div class=\"col6\"> \n",
    "    <figure class=\"mj-fig\">\n",
    "        <img src=\"images/05a_Softwareentwurf/mj_fundamentals.png\" class=\"mj-fig-img\">\n",
    "        <figcaption class=\"mj-fig-cap\">\n",
    "            Midjourney: Fundamentals of a Programming Language\n",
    "        </figcaption>\n",
    "    </figure>\n",
    "  </div>\n",
    "</div>"
   ]
  },
  {
   "cell_type": "markdown",
   "id": "23a997d8",
   "metadata": {
    "tags": [
     "translated_en"
    ],
    "translation": {
     "lang": "de",
     "src_hash": "77d16d73cae6dc04aa131eb3bb3f3dd9d820ef7fd4330f376523dc06ae19008e",
     "updated_at_iso": "2025-08-16T10:43:07.361987+00:00"
    }
   },
   "source": [
    "## Recap: Program Elements\n",
    "\n",
    "<script>setSectionBackground('#FFD966');</script>\n",
    "\n",
    "- We all know the fundamental building blocks of a program:\n",
    "  - Statements\n",
    "  - Functions\n",
    "  - Branching\n",
    "  - Loops & Recursion\n",
    "\n",
    "- We know how to design algorithms and combine these elements."
   ]
  },
  {
   "cell_type": "markdown",
   "id": "e645335c",
   "metadata": {
    "editable": true,
    "slideshow": {
     "slide_type": "slide"
    },
    "tags": [
     "remove-cell",
     "translated_en"
    ],
    "translation": {
     "lang": "de",
     "src_hash": "87e9d4b462e721cbe2846d75db398ae3910dd563f57295fef452f0d72e1f4299",
     "updated_at_iso": "2025-08-16T10:43:10.074968+00:00"
    }
   },
   "source": [
    "## Procedure\n",
    "\n",
    "![](images/partA_6.svg)"
   ]
  },
  {
   "cell_type": "markdown",
   "id": "a314c890-bbc3-47b9-8418-4b84fb8cc309",
   "metadata": {
    "editable": true,
    "slideshow": {
     "slide_type": "skip"
    },
    "tags": [
     "translated_en"
    ],
    "translation": {
     "lang": "de",
     "src_hash": "b067f96bcd7cb077614497a0101a8dd90dbb40bc72aa6e7a9ea070ee98d2bb9b",
     "updated_at_iso": "2025-08-16T10:43:12.239413+00:00"
    }
   },
   "source": [
    "## Object-Oriented Software Design with UML"
   ]
  },
  {
   "cell_type": "markdown",
   "id": "6b31caf2-1f9a-4ebc-bd6a-0f001558a034",
   "metadata": {
    "editable": true,
    "slideshow": {
     "slide_type": "skip"
    },
    "tags": [
     "translated_en"
    ],
    "translation": {
     "lang": "de",
     "src_hash": "2e4e6316bf6a7e59da42e9790b1109616b0ebd54088b49f7580762bc9e56909b",
     "updated_at_iso": "2025-08-16T10:43:21.164586+00:00"
    }
   },
   "source": [
    "In object-oriented software design, a program is designed to consist solely of objects. In this context, one usually uses the modeling language [UML](https://de.wikipedia.org/wiki/Unified_Modeling_Language); classes can also be designed visually.\n",
    "\n",
    "In design, one models how:\n",
    "- these objects are defined as classes,\n",
    "- which attributes and methods they possess,\n",
    "- how these classes build on one another (inheritance),\n",
    "- as well as how they relate to each other in static relationships (references),\n",
    "- and how they interact dynamically (behavior)."
   ]
  },
  {
   "cell_type": "markdown",
   "id": "0cc34b7d-f2bb-4c5f-91f0-08aad77850e3",
   "metadata": {
    "editable": true,
    "slideshow": {
     "slide_type": "skip"
    },
    "tags": [
     "translated_en"
    ],
    "translation": {
     "lang": "de",
     "src_hash": "d04b24058bcb2e276d87e1a3db1399e587cbfe12d4db302b91ab49b0018e6854",
     "updated_at_iso": "2025-08-16T10:43:24.888112+00:00"
    }
   },
   "source": [
    "## Classes, Attributes, and Methods"
   ]
  },
  {
   "cell_type": "markdown",
   "id": "9c9fe5bd-8984-4760-aeab-d99da769c1dd",
   "metadata": {
    "editable": true,
    "slideshow": {
     "slide_type": "skip"
    },
    "tags": [
     "translated_en"
    ],
    "translation": {
     "lang": "de",
     "src_hash": "0142b72ebbc08ba0726daa4fe9729333cc99fd4af239c7ab818e3814b7e494bd",
     "updated_at_iso": "2025-08-16T10:43:33.037389+00:00"
    }
   },
   "source": [
    "A class here is only a rectangle with three compartments. In the first compartment you write the class name. In the second compartment you list all primitive attributes of a class (which do not represent references). The third compartment contains all the methods of the class. For the previously defined `Point` with the attributes `x` and `y` and the `distance()` method to another point, the class in UML looks like this:"
   ]
  },
  {
   "attachments": {},
   "cell_type": "markdown",
   "id": "e67369e5-fdc6-475c-8722-9c0efb0f12fb",
   "metadata": {
    "editable": true,
    "slideshow": {
     "slide_type": "skip"
    },
    "tags": [
     "translated_en"
    ],
    "translation": {
     "lang": "de",
     "src_hash": "f682c09ae454defb8970dd732a8ba7add9511724b569122f732482213bbc4228",
     "updated_at_iso": "2025-08-16T10:43:37.040285+00:00"
    }
   },
   "source": [
    "<center><img src=\"https://mermaid.ink/svg/pako:eNpdjk0OAiEMRq9CutI4J2DtAUzcGTYNFCWBMoGSOJnM3UVGXdhV30t_vhVsdgQabMRazwHvBZNh1WsYdcmBZd2NUicfM4p6_vHyYxeqIFs6jL3j7jeYIFFJGFz_NI4ZkAclMqB768hji2LA8HsUm-Trwha0lEYTtNmh0CcbaI-xdjsj33L-8vYCAldBOA\" width=\"150\"></center>"
   ]
  },
  {
   "cell_type": "markdown",
   "id": "9262c168-0f09-408f-8a28-43dce89f46d8",
   "metadata": {
    "editable": true,
    "slideshow": {
     "slide_type": "skip"
    },
    "tags": [
     "translated_en"
    ],
    "translation": {
     "lang": "de",
     "src_hash": "c2f24812850ca907b95495bd9b8f3e0c41571c4d4a810afab9425b28c7c63e7a",
     "updated_at_iso": "2025-08-16T10:43:39.696979+00:00"
    }
   },
   "source": [
    "## References"
   ]
  },
  {
   "cell_type": "markdown",
   "id": "6784a5ca-2e84-4f11-8a74-bef8e9a7f3ba",
   "metadata": {
    "editable": true,
    "slideshow": {
     "slide_type": "skip"
    },
    "tags": [
     "translated_en"
    ],
    "translation": {
     "lang": "de",
     "src_hash": "25e81f6b7bf342496d0cfd532837898cae9cdae848469af3735e52b35afa19c1",
     "updated_at_iso": "2025-08-16T10:43:50.961672+00:00"
    }
   },
   "source": [
    "A very important task in UML is visualizing dependencies between classes in the form of references. In UML, references are distinguished by the type of ownership, i.e., whether an object is part of another and can exist without it (Aggregation) or cannot exist without it (Composition), or is completely independent (Association). For this, UML defines different arrow types. Here, you can indicate the multiplicity (the number of instances) of the source and target classes on the lines."
   ]
  },
  {
   "attachments": {},
   "cell_type": "markdown",
   "id": "1be48465-0cdd-4847-9b8f-cd14937bf729",
   "metadata": {
    "editable": true,
    "slideshow": {
     "slide_type": "skip"
    },
    "tags": [
     "translated_en"
    ],
    "translation": {
     "lang": "de",
     "src_hash": "ecdac4b3192e48715e28fd6edf028c92c2f176a01f3cad0c31f007d1fccc77f6",
     "updated_at_iso": "2025-08-16T10:43:57.774065+00:00"
    }
   },
   "source": [
    "<center><table><tr>\n",
    "<td style=\"border: none;\"><img src=\"https://mermaid.ink/svg/pako:eNpljj0KwzAMha8iNJYk0NVb2t6gWxEEESuuwT_BsYcScvc6bTpVg3jv00PSimPUggpHx8tys2wSewpQ60Pguveh_0eXLzrmQHgmhNi2u-q6UzVHDhT0xiQxnG0MgA16SZ6trlfXfQlhfooXQlWllomLy4QUthrlkuP9FUZUORVpsMyasxx_oprYLZXOHB4x_vz2BiRzRRk\" width=\"150\"></td>\n",
    "<td style=\"border: none;\"><img src=\"https://mermaid.ink/svg/pako:eNpljjEKwzAMRa9iNIYk0NVbm96gWxEEESutwbZMbA8l5O512nSqBvH_00fSCpMYBg2To5Sulh4LeQyq1oeoYe_j-R9dvuiYK4QTgmq6bld931Rz5JRWg_goyWYrAVrwvHiyph5d9x0I-cmeEXSVhmcqLiNg2GqUSpbbK0yg81K4hRINZT7eBD2TS5VGCneRn9_e4yBE4A\" width=\"150\"></td>\n",
    "<td style=\"border: none;\"><img src=\"https://mermaid.ink/svg/pako:eNpljkELwjAMhf9KeUfZBl57EKb-A28SkNBmWlhbWduDjP13O50ncwjvfXkkmWGiFWiYkVM6O75P7CmoWh-iTmu_9f_o-EXbXBH2BNW2h1V13a6aLae06lOKxnF2MaCBl8mzs_XovO4g5Id4IegqrQxcxkygsNQolxwvr2Cg81SkQXlazrK9CT3wmCp9crjG-PPLG-QFRN0\" width=\"150\"></td>\n",
    "</tr>\n",
    "</table></center>"
   ]
  },
  {
   "cell_type": "markdown",
   "id": "323a2028-e510-417c-ab95-6b185caa0285",
   "metadata": {
    "editable": true,
    "slideshow": {
     "slide_type": "skip"
    },
    "tags": [
     "translated_en"
    ],
    "translation": {
     "lang": "de",
     "src_hash": "ea1c5e64baf0cb187fd64c10a08cd0bf458b2fc0b4721f2c93c295b0cc35fd36",
     "updated_at_iso": "2025-08-16T10:44:04.447976+00:00"
    }
   },
   "source": [
    "The previously defined class `Line` includes the `start` and `end` points. This represents an *aggregation* in UML, because the points belong to the line, but can also exist independently (we don’t need a line to define a point). The multiplicity here is that for each instance of `Line` there are two instances of the `Point` class."
   ]
  },
  {
   "attachments": {},
   "cell_type": "markdown",
   "id": "ad48ae84-68d7-4148-86a0-ac51e8bb32aa",
   "metadata": {
    "editable": true,
    "slideshow": {
     "slide_type": "skip"
    },
    "tags": [
     "translated_en"
    ],
    "translation": {
     "lang": "de",
     "src_hash": "7a3b18b15d1a64676fded9a811d6c0dfe455b2f235adcb9bb27049d126041403",
     "updated_at_iso": "2025-08-16T10:44:08.817010+00:00"
    }
   },
   "source": [
    "<center><img src=\"https://mermaid.ink/svg/pako:eNpdT0EKwkAM_ErISbEe9Lhnjx4Eb7KX0E3rwjYrbQoW6d8NqxY1p5lhZsI8sM6B0WGdaBgOkdqeOi9gVxQ45Sj6eCkAmyZlUrj_8WnhIQ5KUvOq5NYvff4uPEZhWAotklhava5-vcXlcecR8nZraG-odIIDe9FrBSwBK-y47ygGm1BKPeqVO_boDAZuaEzq0ctsVho1nyep0Wk_coXjLZDyezS6htJg6o3kkvOHz0_cjFoV\" width=\"150\"></center>"
   ]
  },
  {
   "cell_type": "markdown",
   "id": "9a31eceb-a030-49e3-8cd5-d8d2c8d7f48c",
   "metadata": {
    "editable": true,
    "slideshow": {
     "slide_type": "skip"
    },
    "tags": [
     "translated_en"
    ],
    "translation": {
     "lang": "de",
     "src_hash": "fcc1333bceec07f4bedd82c3dada9da203dfe2763549a5b3d6358fff6811a74a",
     "updated_at_iso": "2025-08-16T10:44:10.928266+00:00"
    }
   },
   "source": [
    "## Inheritance"
   ]
  },
  {
   "cell_type": "markdown",
   "id": "20d281fa-563a-4f45-8fd3-809a9c137801",
   "metadata": {
    "editable": true,
    "slideshow": {
     "slide_type": "skip"
    },
    "tags": [
     "translated_en"
    ],
    "translation": {
     "lang": "de",
     "src_hash": "b9f775907351fb7de3b89445162133fbe1478fe916eccf50e7bf44351c282e23",
     "updated_at_iso": "2025-08-16T10:44:19.706181+00:00"
    }
   },
   "source": [
    "An important aspect of working with UML is inheritance. In UML, inheritance is drawn with a filled triangle '▲' at the superclass (it's not an arrow). For example, to express that `Triangle`, `Tetragon`, and `Pentagon` are subclasses of the `Polygon`, we can draw."
   ]
  },
  {
   "attachments": {},
   "cell_type": "markdown",
   "id": "2622e0e4-0121-40a7-ba50-2110e24a155a",
   "metadata": {
    "editable": true,
    "slideshow": {
     "slide_type": "skip"
    },
    "tags": [
     "translated_en"
    ],
    "translation": {
     "lang": "de",
     "src_hash": "fb8c82de36e63065c6ef832ed37b94879076b503f7a60f83b9351bb35d3f8331",
     "updated_at_iso": "2025-08-16T10:44:24.257542+00:00"
    }
   },
   "source": [
    "<center><img src=\"https://mermaid.ink/svg/pako:eNptjz0KwzAMha9iNLU0vYDp2AME2qkYjIiVNOCfYMtDSHP3OkkDHaJFet-T4GmCJhgCCY3FlO49dhGd8qLUSkQd7NgFL6YNLnXBSHg6_wGtE0etdzZvbT-9fa5X8Yw9-s7SkUUccVEHXk2eFw8qcBQd9qZkXbMo4Dc5UiDLaKjFbFmB8nNZxczhMfoGJMdMFeTBINPvO5At2lTogP4Vwq7nLzIuVXA\" width=\"300\"></center>"
   ]
  },
  {
   "cell_type": "markdown",
   "id": "c339bb4c-6ea9-451e-abc7-e5a2093fd5c1",
   "metadata": {
    "editable": true,
    "slideshow": {
     "slide_type": "skip"
    },
    "tags": [
     "translated_en"
    ],
    "translation": {
     "lang": "de",
     "src_hash": "5b2886b4db21b51f17c7a1aeb673fcfb70d99c7c83278dd97a6642e3f183e369",
     "updated_at_iso": "2025-08-16T10:44:27.241209+00:00"
    }
   },
   "source": [
    "If we combine the individual elements, the UML diagram of our class model looks as follows:"
   ]
  },
  {
   "attachments": {},
   "cell_type": "markdown",
   "id": "677ed3c1-2c94-417e-bd97-667a35f19714",
   "metadata": {
    "editable": true,
    "slideshow": {
     "slide_type": "skip"
    },
    "tags": [
     "translated_en"
    ],
    "translation": {
     "lang": "de",
     "src_hash": "7848f76ebf3ab1c3161fcda3beb58dd3696679786171b05e59035f32632fab43",
     "updated_at_iso": "2025-08-16T10:44:34.348847+00:00"
    }
   },
   "source": [
    "<center><img src=\"https://mermaid.ink/svg/pako:eNptUcFqwzAM_RWjU7o1hW03s-OOOxS20zAEEStpwJGDrcBCl3-fkyxlKfFJ7-m9JxldofSWQEPpMMa3BuuArWGV3syos29Yrguj1GPlPIr6vsPDDdsmCnJJ2ew7LPy4DXRD7VndMpMLA2F2-EcURZRQFNlewHvDtHE74loud9p5vjLwbEDluU_VU6pmr1ZpxyBHRWy34pfT6WGjX5fVqpskcZUv7OtPnqvP0CDXjvZaJAEntNM7E8vUgyO0FFpsbDrC_CsDcqGWDOhUWqqwd2LA8Jik2Iv_GLgELaGnI_SdRaG_s4Gu0MXEdshf3q94_AW6H5O5\"  width=\"300\"></center>"
   ]
  },
  {
   "cell_type": "markdown",
   "id": "e0c29bcb-3890-419e-b012-ed29af8079dc",
   "metadata": {
    "editable": true,
    "slideshow": {
     "slide_type": "skip"
    },
    "tags": [
     "translated_en"
    ],
    "translation": {
     "lang": "de",
     "src_hash": "d241dff37368acd55bdd39860e9bd2198715a8cc3ddb4fad1d59b0ce835f942d",
     "updated_at_iso": "2025-08-16T10:44:43.496050+00:00"
    }
   },
   "source": [
    "Based on this UML diagram, a programmer would understand the relationships between the classes and could implement them accordingly. They are particularly well suited for defining and communicating such data structures.\n",
    "\n",
    "We can now further refine this model and introduce additional, more specific classes for triangles, such as right-angled (Right), acute (Acute), and obtuse (Obtuse) triangles, which can be scalene, isosceles, or equilateral. Similarly, we can classify quadrilaterals into trapezoids, parallelograms, and kites, with the specialization rhombus, rectangle, and square."
   ]
  },
  {
   "attachments": {},
   "cell_type": "markdown",
   "id": "fc7baf59-c52e-4a4c-840d-f4f2a63046b5",
   "metadata": {
    "editable": true,
    "slideshow": {
     "slide_type": "skip"
    },
    "tags": [
     "translated_en"
    ],
    "translation": {
     "lang": "de",
     "src_hash": "fb78e3f7e9297e739aba6381c8f882c07e3d00dc365ff3c6d6c1450ab13e0701",
     "updated_at_iso": "2025-08-16T10:44:48.823493+00:00"
    }
   },
   "source": [
    "<center><img src=\"https://mermaid.ink/svg/pako:eNp9k01PwzAMhv9KlNMG6yTgVnFBggMCiWnbCVWqTOt1kdJkSxyJMfbfyZp2NFW1nmK_j1-7-TjyQpfIU15IsPZZQGWgzhTzX5NhCy0UHUOGsduN1EDsexAfLnEpLIEqcNLUTUP-FBvKQ6UVu3j6KjAIk2kvkeeWTJ5PxgzehcKoWqKqaDtgm_4s4_cZZ0mi_erOr5ralPkZDc0YqjKGH-bzm4jvhk3Z7ozYDg_Zx98kYWsjQFUSg9RFQVsV4IfDfCmqLV0DPr7I2asWT4WjFohcA_VqtS1Qou23is2HYL9l1GQI9joPkiygL3snJBAakGP7g2TgHI1oC1R01tof78iggfeTKPX_jYyBtYEd_owpb6IbODIJ4nKr6y_XnuSZHEkH61bAgnoHPOYYE5ewPcC989e7lUKTvsBnvEZTgyj9I2xudcZpizVmPPXLEjfgJGU8UyePgiO9OqiCp2QczrjblX7j22fL0w1I67M7UJ9ad_HpD1l7PXc\"></center>"
   ]
  },
  {
   "cell_type": "markdown",
   "id": "03d5e0ac-175e-477c-bc63-323d94a1aec0",
   "metadata": {
    "editable": true,
    "slideshow": {
     "slide_type": "skip"
    },
    "tags": [
     "translated_en"
    ],
    "translation": {
     "lang": "de",
     "src_hash": "68b59232e3dcbe732d34c9f3dcb548e2568cbcb53e3566025184532ba112533f",
     "updated_at_iso": "2025-08-16T10:44:54.540590+00:00"
    }
   },
   "source": [
    "Each instance of these special classes inherits the functions `area()` and `__str__()`. So with a single generic implementation of `area()` for computing the area of a polygon, we only needed to implement one method that covers the area calculation for all geometric primitive elements, without having to write another line of code for this.\n",
    "\n",
    "Along the inheritance hierarchy, one could now define additional attributes and methods that can perform specific calculations or, for example, test whether the points, lines, and angles meet the corresponding conditions. However, this is outside the scope of this example."
   ]
  },
  {
   "cell_type": "markdown",
   "id": "412b7a45",
   "metadata": {
    "slideshow": {
     "slide_type": "skip"
    },
    "tags": [
     "translated_en"
    ],
    "translation": {
     "lang": "de",
     "src_hash": "a7f0aeead799f89b50a9a63419bda812f6aad33f1da14ae51584f748101715c2",
     "updated_at_iso": "2025-08-16T10:45:10.129092+00:00"
    }
   },
   "source": [
    "## Design Approach in Software Development\n",
    "\n",
    "Software is today developed almost exclusively in teams over extended periods. This teamwork requires a well-thought-out project plan that defines both the structural composition of the software and the timing of the development. Software design therefore comprises two essential components: the blueprint in the form of the class design and the development workflow planning as the programming approach.\n",
    "\n",
    "The approach to software design shows remarkable similarities to established practices in civil and environmental engineering. Just as in building a bridge or a wastewater treatment plant, in software development the requirements must be clearly defined, a structured design must be created, and the implementation must be systematically planned. These parallels help to better understand the principles of software design.\n",
    "\n",
    "A structured approach is essential because it enables teamwork, ensures quality, and keeps costs under control. Without systematic planning, development processes often become chaotic, leading to faulty software, missed deadlines, and budget problems."
   ]
  },
  {
   "cell_type": "markdown",
   "id": "7d792fc5",
   "metadata": {
    "slideshow": {
     "slide_type": "skip"
    },
    "tags": [
     "translated_en"
    ],
    "translation": {
     "lang": "de",
     "src_hash": "ce67817b7f7adb5abb7c05a4b1b73a89b2aed285a995d787fbfabe959f689a25",
     "updated_at_iso": "2025-08-16T10:45:39.393858+00:00"
    }
   },
   "source": [
    "## The Phases of Software Development\n",
    "\n",
    "### Requirements Definition\n",
    "\n",
    "The first phase focuses on precisely defining what the software is supposed to do. Here, both functional aspects and constraints are defined. In civil engineering, this corresponds to the project specification, which documents the functions and constraints the structure must satisfy.\n",
    "\n",
    "For a bridge, for example, the permissible traffic loads, the span to be crossed, and the required service life are defined. For a wastewater treatment plant, the number of residents to be connected, the required level of treatment, and the limits to be met are specified. Likewise, in software development all functional requirements, performance parameters, and technical constraints must be clearly articulated.\n",
    "\n",
    "### Design Phase\n",
    "\n",
    "The design defines how the software should be structurally built. This phase is divided into high-level design, where the software is divided into logical modules, and detailed design, which specifies when which components will be developed by whom.\n",
    "\n",
    "In civil engineering, this corresponds to architectural design and planning. In building construction, the basic structure with foundation, the shell, and the interior fit-out is planned first, before details such as reinforcement drawings and installations are prepared. Similarly, in software development the overall architecture is designed first, before the individual classes and their interfaces are defined.\n",
    "\n",
    "### Implementation Phase\n",
    "\n",
    "Implementation encompasses both the coding of the individual software components and their integration into a functioning overall system. During implementation, the individual classes and modules are programmed according to the design specifications. The subsequent integration brings these parts together into the finished solution.\n",
    "\n",
    "In construction, different trades work in parallel on their respective tasks before their work is coordinated and brought together. In a water infrastructure project, for example, pumping stations, pipelines, and control systems are initially built separately and then connected to form a functioning water supply system.\n",
    "\n",
    "### Acceptance and Testing\n",
    "\n",
    "The acceptance phase ensures that the finished software meets all requirements. This happens in several stages: first, individual modules are tested in isolation; then the interaction between modules is tested; and finally the entire system is tested under real-world conditions.\n",
    "\n",
    "This approach corresponds to commissioning of the building, where progress also proceeds in stages. In a wastewater treatment plant, for example, individual pumps are first tested for their function, then the interaction of control, pumps, and sensors is tested, and finally the entire plant is commissioned under real conditions."
   ]
  },
  {
   "cell_type": "markdown",
   "id": "7b491e32",
   "metadata": {
    "slideshow": {
     "slide_type": "skip"
    },
    "tags": [
     "translated_en"
    ],
    "translation": {
     "lang": "de",
     "src_hash": "dc43f2f80697f5916ad6193730c11443afd0c7fc69a137e0c33f9f58b1901684",
     "updated_at_iso": "2025-08-16T10:45:47.442881+00:00"
    }
   },
   "source": [
    "## Waterfall Method - The Traditional Development Model\n",
    "\n",
    "The Waterfall Method represents the traditional approach to software development and is still frequently demanded in tenders for large systems. Its hallmark is the strictly sequential execution of the development phases, with each phase fully completed before the next begins.\n",
    "\n",
    "This method is characterized by limited user involvement, primarily confined to requirements definition. Each activity is thoroughly documented, which makes the method particularly suitable for tenders and ISO 9000-compliant developments.\n",
    "\n",
    "![](images/05a_Softwareentwurf/waterflow.svg)\n",
    "\n",
    "The major advantage of this method lies in its predictability and structured approach. Costs and schedules can be estimated precisely, and the comprehensive documentation meets all formal requirements. However, the sequential nature means that errors from early phases are only discovered very late, which can lead to expensive rework.\n",
    "\n",
    "The Waterfall Method corresponds to the traditional construction approach. For a highway bridge, all requirements are first defined in the tender, then the complete planning from structural analysis to execution planning is carried out before actual construction begins. Only after the completion of the entire structure are the load tests and acceptance performed."
   ]
  },
  {
   "cell_type": "markdown",
   "id": "15387920",
   "metadata": {
    "slideshow": {
     "slide_type": "skip"
    },
    "tags": [
     "translated_en"
    ],
    "translation": {
     "lang": "de",
     "src_hash": "32c1bf319b4925d06e7e6b3804a259be7259995243945caea961d397e1bc1c0d",
     "updated_at_iso": "2025-08-16T10:45:56.525797+00:00"
    }
   },
   "source": [
    "## V-Model - Development with Systematic Test Planning\n",
    "\n",
    "The V-Model was specifically designed for the development of safety-critical software and is primarily used in the automotive and aerospace industries. It extends the Waterfall model with a systematic test planning that begins during the development phase.\n",
    "\n",
    "The characteristic V-shaped model clearly separates development activities from testing activities. While the actual development takes place on the left side, the corresponding tests are defined and carried out on the right side. Each development phase has its corresponding testing phase, resulting in high test coverage.\n",
    "\n",
    "![](images/05a_Softwareentwurf/vmodel.svg)\n",
    "\n",
    "The V-Model offers the advantage of systematic quality assurance with high traceability. However, it is more resource-intensive than other methods and is therefore primarily suited for areas where safety and reliability are the highest priority.\n",
    "\n",
    "In tunnel construction, a safety-critical area of civil engineering, a similar approach is taken. Already during the planning of the safety systems, the corresponding test procedures are defined. For each fire detector, it is determined how it will be tested; for the interaction between fire detection and ventilation control, integration tests are planned; and for the overall system, a complete evacuation drill with the fire department is designed."
   ]
  },
  {
   "cell_type": "markdown",
   "id": "ffac5ac5",
   "metadata": {
    "slideshow": {
     "slide_type": "skip"
    },
    "tags": [
     "translated_en"
    ],
    "translation": {
     "lang": "de",
     "src_hash": "f8c8c2a5950a1385330c0793a193af7511bc0a9599e2903f3f08785120ab2622",
     "updated_at_iso": "2025-08-16T10:46:06.030219+00:00"
    }
   },
   "source": [
    "## Agile Method - Flexibility Through Iterative Development\n",
    "\n",
    "The agile method represents a modern response to the challenges of rapidly changing requirements. Instead of planning a complete system from start to finish, it is developed incrementally and continuously improved.\n",
    "\n",
    "The agile approach begins with a Minimum Viable Product, the simplest working version of the software. This is then extended and improved in regular cycles, with each iteration adding new features or optimizing existing ones. Development cycles are typically short and usually last only a few months.\n",
    "\n",
    "![](images/05a_Softwareentwurf/agile.svg)\n",
    "\n",
    "The major advantage of the agile method lies in its flexibility and the possibility of receiving feedback early. Users can test already working versions and provide suggestions for improvements. This reduces the risk of developing away from actual needs.\n",
    "\n",
    "However, the agile method also carries risks. Design flaws in early iterations can lead to the need to overhaul the entire architecture. Additionally, cost and schedule planning is more difficult because the final product is not fully specified at the start of the project.\n",
    "\n",
    "An example from the construction industry is modular construction, which is becoming increasingly popular, especially in timber construction. Instead of planning and building a structure in its entirety, individual modules are planned first, which can be combined with each other repeatedly. The modules can be assembled and tested individually before they are put together in the final building."
   ]
  },
  {
   "cell_type": "markdown",
   "id": "84c64a77",
   "metadata": {
    "slideshow": {
     "slide_type": "skip"
    },
    "tags": [
     "translated_en"
    ],
    "translation": {
     "lang": "de",
     "src_hash": "5376311e43df96f07d188aca1348dff58865f5c0af05cd1750d451009c7bb006",
     "updated_at_iso": "2025-08-16T10:46:13.962534+00:00"
    }
   },
   "source": [
    "## Approach Selection in Practice\n",
    "\n",
    "The choice of the appropriate development methodology depends heavily on the project context. For standardized systems with clear requirements, the Waterfall method is suitable, while safety-critical applications require the V-Model's systematic test planning. Agile methods are ideal for innovative projects with evolving requirements.\n",
    "\n",
    "In engineering practice, hybrid approaches are often sensible. A tunnel project could, for example, plan the basic construction according to the Waterfall model, develop the safety systems according to the V-Model, and implement the operations management software in an agile manner."
   ]
  },
  {
   "cell_type": "markdown",
   "id": "fe3fb017",
   "metadata": {
    "editable": true,
    "slideshow": {
     "slide_type": "slide"
    },
    "tags": [
     "remove-cell",
     "translated_en"
    ],
    "translation": {
     "lang": "de",
     "src_hash": "d97c3687f74a592aba8b648c14fff99655112dca123ff776778635dd644aa1d5",
     "updated_at_iso": "2025-08-16T10:46:23.369884+00:00"
    }
   },
   "source": [
    "## Modeling with Objects\n",
    "\n",
    "- Our perception and our thinking rely on recognizing objects. This requires that we can separate an object from other objects (e.g., a chair and a table).\n",
    "- Replicating this perception and this understanding of the world in a computer is called *Modeling*.\n",
    "- Since our perception is based on objects, it is natural to use objects for modeling as well.\n",
    "- The objects in the world interact; we must also model this behavior.\n",
    "  \n",
    "<div class=\"alert alert-block alert-success\">\n",
    "<b>📘 Definition: Model</b>\n",
    "\n",
    "A model is an abstract, simplified representation of a system (usually from reality).\n",
    "</div>"
   ]
  },
  {
   "cell_type": "markdown",
   "id": "b24dcbc3",
   "metadata": {
    "editable": true,
    "slideshow": {
     "slide_type": "subslide"
    },
    "tags": [
     "remove-cell",
     "translated_en"
    ],
    "translation": {
     "lang": "de",
     "src_hash": "66b2de4db76ef3a392251eea298043f945dd56b634fe903ac5c71c6122b93962",
     "updated_at_iso": "2025-08-16T10:46:28.732555+00:00"
    }
   },
   "source": [
    "## Lecture Hall Question\n",
    "\n",
    "<script>setSectionBackground('#FFD966');</script>\n",
    "<div class=\"flex-row\">\n",
    "  <div class=\"col4 vcent\">\n",
    "\n",
    "*What do these elements have in common?*\n",
    "\n",
    "  </div>\n",
    "  <div class=\"col6\"> \n",
    "    <figure class=\"mj-fig\">\n",
    "        <img src=\"images/05a_Softwareentwurf/elemente.svg\" class=\"mj-fig-img\">\n",
    "    </figure>\n",
    "  </div>\n",
    "</div>"
   ]
  },
  {
   "cell_type": "markdown",
   "id": "5bec18bc",
   "metadata": {
    "editable": true,
    "slideshow": {
     "slide_type": "subslide"
    },
    "tags": [
     "remove-cell",
     "translated_en"
    ],
    "translation": {
     "lang": "de",
     "src_hash": "584f631c3c1081cd576d18b3268497681ae4245ee2cb4ba68a677e17420c0ddb",
     "updated_at_iso": "2025-08-16T10:46:39.011829+00:00"
    }
   },
   "source": [
    "## Lecture Hall Question\n",
    "\n",
    "<script>setSectionBackground('#FFD966');</script>\n",
    "<div class=\"flex-row\">\n",
    "  <div class=\"col4\">\n",
    "\n",
    "- These are all *geometric objects*\n",
    "- They all consist of *points* that are connected by *lines*\n",
    "- We can leverage this in modeling and define classes so that they exploit the *commonality*\n",
    "\n",
    "  </div>\n",
    "  <div class=\"col6\"> \n",
    "    <figure class=\"mj-fig\">\n",
    "        <img src=\"images/05a_Softwareentwurf/elemente.svg\" class=\"mj-fig-img\">\n",
    "    </figure>\n",
    "  </div>\n",
    "</div>"
   ]
  },
  {
   "cell_type": "markdown",
   "id": "8564df26",
   "metadata": {
    "editable": true,
    "slideshow": {
     "slide_type": "subslide"
    },
    "tags": [
     "remove-cell",
     "translated_en"
    ],
    "translation": {
     "lang": "de",
     "src_hash": "5b6efeda8d3a69c9466beedf04d92a6403c7726b2bf2720ead5d69418a72792e",
     "updated_at_iso": "2025-08-16T10:46:53.806895+00:00"
    }
   },
   "source": [
    "## Object-Oriented Software Design\n",
    "\n",
    "<div class=\"alert alert-block alert-success\">\n",
    "<b>📘 Definition: Object-Oriented Software Design</b>\n",
    "\n",
    "In object-oriented software design, a program is designed to consist solely of *objects*.\n",
    "</div>\n",
    "\n",
    "- The software design is closely mirrored by the approach engineers use when designing plans.\n",
    "- The usual modeling language is *UML diagrams*.\n",
    "- One models in the design how:\n",
    "    - objects in the form of *classes* are defined,\n",
    "    - which *attributes and methods* they possess,\n",
    "    - how these classes build upon one another (*inheritance*),\n",
    "    - as well as how they stand in static relationships with each other (*references*)\n",
    "    - and how they interact dynamically (*behavior*)"
   ]
  },
  {
   "cell_type": "markdown",
   "id": "47e3dde3",
   "metadata": {
    "editable": true,
    "slideshow": {
     "slide_type": "subslide"
    },
    "tags": [
     "remove-cell",
     "translated_en"
    ],
    "translation": {
     "lang": "de",
     "src_hash": "9a734d44a7f717ec6b10e63f1610c9df6fb7053b7ee6cdc7aab760313dfc445e",
     "updated_at_iso": "2025-08-16T10:47:01.208791+00:00"
    }
   },
   "source": [
    "## Referenzen\n",
    "\n",
    "<div class=\"flex-row\">\n",
    "<div class=\"col1\">\n",
    "\n",
    "- In programs, objects are usually related to one another. For example, a line consists of two points.\n",
    "- This relationship between two object classes is called a *reference*.\n",
    "- References in Python are created as attributes whose type is that of the other object.\n",
    "\n",
    "</div>\n",
    "<div class=\"col1\">\n",
    "\n",
    "```python\n",
    "class Line:\n",
    "    def __init__(self, start, end):\n",
    "        self.start = start\n",
    "        self.end = end\n",
    "\n",
    "    def length(self):\n",
    "        return self.start.distance(self.end)\n",
    "```\n",
    "\n",
    "</div>\n",
    "</div>"
   ]
  },
  {
   "cell_type": "markdown",
   "id": "bad7ea7a",
   "metadata": {
    "editable": true,
    "slideshow": {
     "slide_type": "subslide"
    },
    "tags": [
     "remove-cell",
     "translated_en"
    ],
    "translation": {
     "lang": "de",
     "src_hash": "7f6ccbc29a6273c9e971e65ffef5d99e7a8b2b62b9898037b0a29ad12b90abdf",
     "updated_at_iso": "2025-08-16T10:47:14.966378+00:00"
    }
   },
   "source": [
    "## Inheritance\n",
    "\n",
    "- Similar objects often share similar properties and methods. For example, all geometric elements consist of points that are connected by lines.\n",
    "- To avoid having to redefine these attributes and methods each time, and potentially make mistakes in the process, there is *inheritance* in OOP.\n",
    "- OOP allows defining specialized *subclasses*, or generalized *superclasses*.\n",
    "- The subclass (specialized class) possesses the methods and attributes of the generalized superclass (base class).\n",
    "- Also called *inheritance*, inspired by genetics."
   ]
  },
  {
   "cell_type": "markdown",
   "id": "2a9a9c15",
   "metadata": {
    "editable": true,
    "slideshow": {
     "slide_type": "subslide"
    },
    "tags": [
     "remove-cell",
     "translated_en"
    ],
    "translation": {
     "lang": "de",
     "src_hash": "efdb3324de2e1c6e31f7fa3e4511ce5fa942e1c6876d9bf02567b7879ed82797",
     "updated_at_iso": "2025-08-16T10:47:24.273191+00:00"
    }
   },
   "source": [
    "## Example Inheritance\n",
    "\n",
    "<div class=\"flex-row\">\n",
    "<div class=\"col1\"></div>\n",
    "<div class=\"col4\">\n",
    "\n",
    "<img src=\"https://mermaid.ink/svg/pako:eNptkT9vgzAQxb8KupkgA-aPPWRou1bqkKnyYuELsQR2ZIzUlPLdayi0idRb7Hvvfu8ke4LGKgQOTSeH4UXL1slemCiU0g4br62Jnk4_yjoTvdnu1lojzL14clqatsMHDb2T6-QdjMbLO3rnosPh6_gXvVob_o-1pzxYEEPrtALu3Ygx9Oh6ubQwLZAAf8EeBfBwVXiWY-cFCDMH7CrNu7X9Tjo7thfgZ9kNoRuvSnrcXuZXdWgUumc7Gg88Y-UaAnyCD-BpXiZpTgmtaZmylJLg3oBTkmSUMVamdZGTrMrpHMPnupckdVWQUFmWFaxiZR0DKu2te91-Zznmb1rAhx8\">\n",
    "\n",
    "</div>\n",
    "<div class=\"col1\"></div>\n",
    "</div>"
   ]
  },
  {
   "cell_type": "markdown",
   "id": "7a21d5b9",
   "metadata": {
    "editable": true,
    "slideshow": {
     "slide_type": "slide"
    },
    "tags": [
     "remove-cell",
     "translated_en"
    ],
    "translation": {
     "lang": "de",
     "src_hash": "f01e7276d7d234bc9dd48a7f5fefe323c60657ed758ee8a59026dc0a77ab129c",
     "updated_at_iso": "2025-08-16T10:47:38.741582+00:00"
    }
   },
   "source": [
    "## Polymorphism\n",
    "\n",
    "- An object of a *derived class* can always also be regarded as an instance of the *base class*.\n",
    "\n",
    "- The derived class can *override* the inherited methods/attributes of the *base class* and thus redefine them.\n",
    "\n",
    "- In statically typed languages, moreover: A variable that can hold an object of the *base class* can also store an object of a *derived class*."
   ]
  },
  {
   "cell_type": "markdown",
   "id": "1ff4278c",
   "metadata": {
    "editable": true,
    "slideshow": {
     "slide_type": "subslide"
    },
    "tags": [
     "remove-cell",
     "translated_en"
    ],
    "translation": {
     "lang": "de",
     "src_hash": "79056008eeec623b547cccd7dfc4b3c599360644fcb8735ba71cfbd757cf2e09",
     "updated_at_iso": "2025-08-16T10:47:53.652863+00:00"
    }
   },
   "source": [
    "## Data Encapsulation\n",
    "\n",
    "- The goal of *Datenkapselung* is to have control over which attributes are readable or writable and how this can be achieved\n",
    "- Furthermore one controls whether attributes are only *readable* or also *writable*. For this, attributes are declared as *private* and are then readable only through getter functions and modifiable through setter functions.\n",
    "- For this, one declares attributes or methods as:\n",
    "    - *private* – Only the instance of the same class can access\n",
    "    - *protected* – Only the instance of the same class or a subclass can access\n",
    "    - *public* – Everyone can access"
   ]
  },
  {
   "cell_type": "markdown",
   "id": "20ee0eef",
   "metadata": {
    "editable": true,
    "slideshow": {
     "slide_type": "subslide"
    },
    "tags": [
     "remove-cell",
     "translated_en"
    ],
    "translation": {
     "lang": "de",
     "src_hash": "76ec1d0858a92a64f9a82dbe7a27277909fd35e94db1295390ac11b978053fee",
     "updated_at_iso": "2025-08-16T10:48:03.184054+00:00"
    }
   },
   "source": [
    "## Dynamic behavior in classes\n",
    "\n",
    "- In OOP it is assumed that classes are *static* and there are no attributes or methods other than those defined in the class.\n",
    "\n",
    "- Python offers a higher degree of dynamism than other programming languages:\n",
    "  - Dynamic typing of variables\n",
    "  - Dynamic binding of methods and attributes\n",
    "  - We can even add attributes and methods ourselves if they are not defined in the class.\n",
    "  - Thus, for example, at runtime we can create references between objects that have no relation to the predefined data model."
   ]
  },
  {
   "cell_type": "markdown",
   "id": "8f5eb7fa",
   "metadata": {
    "slideshow": {
     "slide_type": "slide"
    },
    "tags": [
     "remove-cell",
     "translated_en"
    ],
    "translation": {
     "lang": "de",
     "src_hash": "54498def37ff54249fc88f7e9c404ffb9733b38787c591ca371b94557aae7a76",
     "updated_at_iso": "2025-08-16T10:48:14.410910+00:00"
    }
   },
   "source": [
    "## Object-Oriented Programming Paradigms\n",
    "\n",
    "| Inheritance | Generalization | Polymorphism | Encapsulation |\n",
    "|--|--|-|--|\n",
    "| Attributes and methods from parent classes are inherited by child classes. This helps avoid redundancies and errors. | Commonalities are implemented in generalized parent classes. | Child classes can override methods and thus redefine them. | Encapsulation of data and methods in objects is a protective mechanism to prevent faulty changes. |"
   ]
  },
  {
   "cell_type": "markdown",
   "id": "d6b23bac",
   "metadata": {
    "editable": true,
    "slideshow": {
     "slide_type": "slide"
    },
    "tags": [
     "remove-cell",
     "translated_en"
    ],
    "translation": {
     "lang": "de",
     "src_hash": "f262161fb672a2fa8f778d07866884487319486358f679173aa1f991202d099e",
     "updated_at_iso": "2025-08-16T10:48:34.325931+00:00"
    }
   },
   "source": [
    "## Unified Modeling Language - Fundamentals\n",
    "\n",
    "<div class=\"flex-row\">\n",
    "<div class=\"col1\">\n",
    "\n",
    "- *UML (Unified Modeling Language)* is an ISO standard for describing software designs\n",
    "- It is used for the design, procurement, implementation, and documentation of:\n",
    "    - functionalities\n",
    "    - structures\n",
    "    - business processes\n",
    "    - user interactions\n",
    "\n",
    "</div>\n",
    "\n",
    "<div class=\"col1\">\n",
    "\n",
    "The standard comprises 13 diagram types, the most common:\n",
    "- *Class diagrams* (For class and data structures)\n",
    "- *Activity diagrams* (For general processes and algorithms)\n",
    "- *Sequence diagrams* (For interactions)\n",
    "- *Use-case diagrams* (For users and use cases)\n",
    "\n",
    "</div>\n",
    "</div>"
   ]
  },
  {
   "cell_type": "markdown",
   "id": "c2cafa9d",
   "metadata": {
    "editable": true,
    "slideshow": {
     "slide_type": "subslide"
    },
    "tags": [
     "remove-cell",
     "translated_en"
    ],
    "translation": {
     "lang": "de",
     "src_hash": "5962b250876f6c3d7860563959210f2b36a791462a7f591fc6e1ac94fb8fd9e8",
     "updated_at_iso": "2025-08-16T10:48:42.703856+00:00"
    }
   },
   "source": [
    "## UML Class Diagram\n",
    "\n",
    "- The *most commonly used diagram* in object-oriented modeling\n",
    "\n",
    "- In a class diagram, the following are modeled:\n",
    "  - Classes with: attributes, methods\n",
    "  - Relationships\n",
    "  - Hierarchies and inheritances"
   ]
  },
  {
   "cell_type": "markdown",
   "id": "e488df44",
   "metadata": {
    "editable": true,
    "slideshow": {
     "slide_type": "subslide"
    },
    "tags": [
     "remove-cell",
     "translated_en"
    ],
    "translation": {
     "lang": "de",
     "src_hash": "46647db36eacaf316cff014049a0a41208771e6bb4e54dbd6c69c095e696ab09",
     "updated_at_iso": "2025-08-16T10:48:57.236020+00:00"
    }
   },
   "source": [
    "## Class Diagram – Inheritance\n",
    "\n",
    "<div class=\"flex-row\">\n",
    "<div class=\"col1\">\n",
    "\n",
    "- *Inheritance* is drawn in UML by a reference with a *filled triangle \"▲\"* at the superclass.\n",
    "\n",
    "- To illustrate, for example, that `Triangle`, `Tetragon`, and `Pentagon` are subclasses of the Polygon, we can draw:\n",
    "\n",
    "</div>\n",
    "<div class=\"col1\">\n",
    "\n",
    "<img src=\"https://mermaid.ink/svg/pako:eNptkcFqwzAMhl8l6LSxNNiJmzo-7LDtOtihp2EYplbTQGIXxYF1Xd99SZOUZUwILH3SLxn7DDtvERTsatO2L5UpyTTaRb3ZinAXKu-ip-1Irj3Rm69PpXcjmhIVPRhCc3f_l2r90XsbaAyGht-ztlQZV9a4YBjI3BZMO9GFkY101kWr1ffj8kaz_J_SPGVRghhKqiyoQB3G0CA1ZkjhPIg0hAM2qEH1ocW96eqgQbtLLzsa9-59MyvJd-UB1N7UbZ91R2sCTg96o4TOIj37zgVQacGvQ0Cd4RMUz_KEZ4IJKXJecMHyGE6gBEtSURRFzuU6Y-kmE5cYvq57WSI3a9Ybz6TMWC5lDGir4Ol1-tThuPwAlpuYcw\" style=\"height: 60vh;\">\n",
    "\n",
    "</div>\n",
    "</div>"
   ]
  },
  {
   "cell_type": "markdown",
   "id": "82b8ffe3",
   "metadata": {
    "editable": true,
    "slideshow": {
     "slide_type": "subslide"
    },
    "tags": [
     "remove-cell",
     "translated_en"
    ],
    "translation": {
     "lang": "de",
     "src_hash": "8e8c1b5dfc103e919f974a6dcd4640bb4019927f2ff861e33dff92431be76834",
     "updated_at_iso": "2025-08-16T10:49:09.309230+00:00"
    }
   },
   "source": [
    "## Class Diagram - References\n",
    "\n",
    "<div class=\"flex-row\">\n",
    "<div class=\"col1\">\n",
    "\n",
    "- *References* are indicated in UML with lines between objects. The type of line and the arrow indicate the type of reference.\n",
    "\n",
    "- In UML, references are distinguished by the type of *ownership*:\n",
    "  - *Aggregated* - an object is part of another and can exist without it\n",
    "  - *Composition* - cannot exist without this\n",
    "  - *Association* - completely independent\n",
    "\n",
    "- *Numbers* on the references indicate the *multiplicity*, i.e., how many objects are involved in this relation.\n",
    "\n",
    "</div>\n",
    "<div class=\"col1\">\n",
    "\n",
    "<img src=\"https://mermaid.ink/svg/pako:eNplUctugzAQ_BVrT2lLkAFjwNf22Eo9V75YeHlIYEfGSEkR_14H0ipt5-LZ0c7Oar1AbTWCgHpQ0_TSq9apURoSsCnktTdIll254mlA0_ru8LBLqzT33e-2N_5XezNY5cn5n3K5U3Q_eWVqPGz2v5O3DSQkEsjj8RhYGtgeJEgwOh8RNBoiaF2vQXg3YwQjulFdS9i2keA7HFGCCFRjo-bBS5BmDbaTMh_Wjt9OZ-e2A9GoYQrVfNLK4-0wP6oLgeie7Ww8iIzSbQiIBc4gkozHScYoKxlPqoRRHsEFBKNxyqqq4kmZZzQtMrZG8Lnl0rgschqQcp7nrEqLCFD33rq32-dcn_ULxVV9zA\" style=\"height: 60vh;\">\n",
    "\n",
    "</div>\n",
    "</div>"
   ]
  },
  {
   "cell_type": "markdown",
   "id": "bad6598c",
   "metadata": {
    "editable": true,
    "jp-MarkdownHeadingCollapsed": true,
    "slideshow": {
     "slide_type": "subslide"
    },
    "tags": [
     "remove-cell",
     "translated_en"
    ],
    "translation": {
     "lang": "de",
     "src_hash": "ef06df98a2dd0a2b88da330aa15c5d13087ab47a1fba4864e2cb900cb3f039bf",
     "updated_at_iso": "2025-08-16T10:49:24.601870+00:00"
    }
   },
   "source": [
    "## Class Diagram - Complete Example\n",
    "\n",
    "<div class=\"flex-row\">\n",
    "<div class=\"col1\">\n",
    "\n",
    "- *Klassendiagramme* can get quite large fairly quickly\n",
    "\n",
    "- They are very well suited to represent the *(data) model*\n",
    "\n",
    "</div>\n",
    "<div class=\"col5\">\n",
    "\n",
    "<img src=\"https://mermaid.ink/svg/pako:eNp9VF1vmzAU_SvWlSp1G40guPlAe9m6PVTbtKjb04QUuXADloxNbSM1zfLfazBEkEb1C9f3nnuOfWxzgEzlCAlkghnzjbNCsyqVxI2rK_KVGSQFqgqt3pMOgsZXuwnZKC4tOfhUOz7thGKWPL_J7EeZnBvLZIbXXfsHXzmmcsz8k0ucEAuUhS2vL6M3SuwLJScNTCMb4F1iuzVWb7dvKNxG71RVK8MtdxwaBWsDU_K63-xAn0KUAlE3Ny6KXeS3n5C6_fbYbuEe-LEDzkdAt29tA4IyH4nfyxI17xwhJUfNdFbuyU6rahCeruLzf8f7V3MmC4GXSu602OWuDUrrS744sPjqn4w5l3H7wIvSvgf4_Wgbg-8hvmSNxUFlwutx90aZDAWasdiU_hw4Fp3InAN77RZ3lvTI708Nd0fsjBYnH3rLBm9ZjS-XKhvmmgQK5Z9J7_A46XEPmNnR8ZymvUlPjbucl7V_8GHtbdSzlap6bAwEUGieQ2J1gwFUqCvWTqG79SnYEitMIXFhjjvWCJtCKo-urWbyn1LV0KlVU5SQ7JgwbtbUuTOjf_qnrHZ3FPWdaqSFJA5pRwLJAZ4hieLFLIppSFd0Ea0jGi4C2ENCw9mcrtfrRbS6jcP5MqbHAF463XC2Wt6GbkSrJZ1HlMYBYM6t0r_630_7Ob4C5I5vIg\" style=\"height: 60vh;\">\n",
    "\n",
    "</div>\n",
    "</div>"
   ]
  },
  {
   "cell_type": "markdown",
   "id": "db48b005",
   "metadata": {
    "editable": true,
    "slideshow": {
     "slide_type": "subslide"
    },
    "tags": [
     "remove-cell",
     "translated_en"
    ],
    "translation": {
     "lang": "de",
     "src_hash": "84252c4bc8c0002e628c3d46783da3a086db9c7a517b8d0113157bc9eb11a2dd",
     "updated_at_iso": "2025-08-16T10:49:32.746877+00:00"
    }
   },
   "source": [
    "## Application Example – BIM (Building Information Models)\n",
    "\n",
    "<div class=\"flex-row\">\n",
    "<div class=\"col6\">\n",
    "\n",
    "- Construction drawings are nowadays stored as *IFC (Industry Foundation Classes)*\n",
    "- *IFC* is an object-oriented model, with inheritance, specialization, generalization, and polymorphism\n",
    "- It is, among other things, documented in *UML*\n",
    "\n",
    "</div>\n",
    "<div class=\"col4\">\n",
    "\n",
    "![Polygon Classes](images/05a_Softwareentwurf/ifc_classes.jpg)\n",
    "\n",
    "</div>\n",
    "</div>"
   ]
  },
  {
   "cell_type": "markdown",
   "id": "e86c47a4",
   "metadata": {
    "editable": true,
    "slideshow": {
     "slide_type": "slide"
    },
    "tags": [
     "remove-cell",
     "translated_en"
    ],
    "translation": {
     "lang": "de",
     "src_hash": "54867d63f869952e18992fd09134044946238f66fb1fc9b8c198be3b9ed5c7c8",
     "updated_at_iso": "2025-08-16T10:49:36.254872+00:00"
    }
   },
   "source": [
    "## Design Approach\n",
    "\n",
    "<script>setSectionBackground('#FFD966');</script>\n",
    "<div class=\"flex-row\">\n",
    "  <div class=\"col4 vcent\">\n",
    "\n",
    "  </div>\n",
    "  <div class=\"col6\"> \n",
    "    <figure class=\"mj-fig\">\n",
    "        <img src=\"images/05a_Softwareentwurf/waterfall.png\" class=\"mj-fig-img\">\n",
    "        <figcaption class=\"mj-fig-cap\">\n",
    "            Midjourney: Software Waterfall\n",
    "        </figcaption>\n",
    "    </figure>\n",
    "  </div>\n",
    "</div>"
   ]
  },
  {
   "cell_type": "markdown",
   "id": "f93e2f7e",
   "metadata": {
    "editable": true,
    "slideshow": {
     "slide_type": "subslide"
    },
    "tags": [
     "remove-cell",
     "translated_en"
    ],
    "translation": {
     "lang": "de",
     "src_hash": "c85e2c03fd6cd4d175309bc0291270fa2a265ba1fb755ef185685c61afd0bc8f",
     "updated_at_iso": "2025-08-16T10:49:50.850328+00:00"
    }
   },
   "source": [
    "## Software Design\n",
    "\n",
    "- Software is rarely developed alone, but often in a team over a longer period.  \n",
    "- For this, a project plan is needed that describes how the software should be developed in a division-of-labor fashion.  \n",
    "- Creating this project plan is called *Software Design*.  \n",
    "- The process closely resembles the *design methodology in environmental and civil engineering*.  \n",
    "- The project plan comprises:  \n",
    "  - the *class design* (blueprint)  \n",
    "  - the *programming approach* (construction scheduling)"
   ]
  },
  {
   "cell_type": "markdown",
   "id": "1b2c8be4",
   "metadata": {
    "editable": true,
    "slideshow": {
     "slide_type": "subslide"
    },
    "tags": [
     "remove-cell",
     "translated_en"
    ],
    "translation": {
     "lang": "de",
     "src_hash": "98ea0ad92de161826d4bb2091328c56a8148b15061798c292f32ba4bb16a8ee0",
     "updated_at_iso": "2025-08-16T10:50:02.369681+00:00"
    }
   },
   "source": [
    "## Software Design - Phases\n",
    "\n",
    "<div class=\"flex-row\">\n",
    "<div class=\"col1\">\n",
    "\n",
    "- *Requirements definition* \n",
    "  – Definition of which functions and constraints are to be implemented\n",
    "\n",
    "- *Design*\n",
    "  - Software class design\n",
    "  - Implementation planning – What will be done when, by whom, and how it will be implemented\n",
    "\n",
    "</div>\n",
    "<div class=\"col1\">\n",
    "\n",
    "- *Execution*\n",
    "  - Implementation – Programming of the individual classes and modules\n",
    "  - Integration – Bringing the modules together into the finished solution\n",
    "\n",
    "- *Acceptance* – Testing of the finished software product\n",
    "  - Module testing – Unit testing of modules\n",
    "  - Integration testing – Testing the integration of modules\n",
    "  - System testing – Testing the complete set of modules\n",
    "\n",
    "</div>\n",
    "</div>"
   ]
  },
  {
   "cell_type": "markdown",
   "id": "e1f041c9",
   "metadata": {
    "editable": true,
    "slideshow": {
     "slide_type": "subslide"
    },
    "tags": [
     "remove-cell",
     "translated_en"
    ],
    "translation": {
     "lang": "de",
     "src_hash": "3b2ce6b2f41cb8364c2b55b128484a7f122ada64e8269c7ad8e28b6442c0f864",
     "updated_at_iso": "2025-08-16T10:50:15.481204+00:00"
    }
   },
   "source": [
    "## Comparison: Software Engineering vs. Civil Engineering\n",
    "\n",
    "<div class=\"flex-row\">\n",
    "<div class=\"col1\">\n",
    "\n",
    "**Software design**\n",
    "\n",
    "- *Requirements definition:* Definition of which functions and constraints are implemented\n",
    "\n",
    "</div>\n",
    "<div class=\"col1\">\n",
    "\n",
    "**Civil Engineering**\n",
    "\n",
    "- *Tender specification:* Documenting which functions and constraints the building must satisfy\n",
    "\n",
    "</div>\n",
    "</div>\n",
    "\n",
    "<div class=\"flex-row\">\n",
    "<div class=\"col1\">\n",
    "\n",
    "- *Design*\n",
    "  - Module design – Definition of which parts the software has\n",
    "  - Class design – Definition of how the software is structured into classes\n",
    "  - Implementation planning – What will be implemented when, by whom, and how\n",
    "\n",
    "</div>\n",
    "<div class=\"col1\">\n",
    "\n",
    "- *Design*\n",
    "  - Architecture and high-level design – Definition of how the building is roughly structured\n",
    "  - Detail design and trades planning - Definition of how parts and the trades are implemented\n",
    "  - Execution planning – What will be built when, by whom, and how built\n",
    "\n",
    "</div>\n",
    "</div>"
   ]
  },
  {
   "cell_type": "markdown",
   "id": "5c39d0bc",
   "metadata": {
    "editable": true,
    "slideshow": {
     "slide_type": "subslide"
    },
    "tags": [
     "remove-cell",
     "translated_en"
    ],
    "translation": {
     "lang": "de",
     "src_hash": "a50cbe681166f571235fe1dbe1541af92bc739f1cba4c57892f44c18cccbd49a",
     "updated_at_iso": "2025-08-16T10:50:40.641740+00:00"
    }
   },
   "source": [
    "## Comparison: Software Engineering vs. Civil Engineering (Continued)\n",
    "\n",
    "<div class=\"flex-row\">\n",
    "<div class=\"col1\">\n",
    "\n",
    "**Software Design (Continued)**\n",
    "\n",
    "- *Execution*\n",
    "  - Implementation – programming the individual classes & modules\n",
    "  - Integration – bringing the modules together into the finished solution\n",
    "\n",
    "</div>\n",
    "<div class=\"col1\">\n",
    "\n",
    "**Civil Engineering (Continued)**\n",
    "\n",
    "- *Execution*\n",
    "  - Individual trades are implemented\n",
    "  - Integrate trades in construction, such as integrating energy and water with climate control\n",
    "\n",
    "</div>\n",
    "</div>\n",
    "\n",
    "<div class=\"flex-row\">\n",
    "<div class=\"col1\">\n",
    "\n",
    "- *Acceptance*\n",
    "  - Module test – unit testing of modules\n",
    "  - Integration test – testing the combination of modules\n",
    "  - System test – testing the entirety of the modules\n",
    "\n",
    "</div>\n",
    "<div class=\"col1\">\n",
    "\n",
    "- *Acceptance*\n",
    "  - Acceptance of individual trades\n",
    "  - Test several trades together\n",
    "  - Handover of the entire building\n",
    "\n",
    "</div>\n",
    "</div>"
   ]
  },
  {
   "cell_type": "markdown",
   "id": "134f061b",
   "metadata": {
    "editable": true,
    "slideshow": {
     "slide_type": "subslide"
    },
    "tags": [
     "remove-cell",
     "translated_en"
    ],
    "translation": {
     "lang": "de",
     "src_hash": "4fb8d43f23a0b3d1bbb84267ca1dc370597832a7f3f58030f326251b6e34746c",
     "updated_at_iso": "2025-08-16T10:50:52.280710+00:00"
    }
   },
   "source": [
    "## Linear Method - Waterfall Method\n",
    "\n",
    "<div class=\"flex-row\">\n",
    "<div class=\"col1\">\n",
    "\n",
    "- Traditional model that is still frequently required in tenders for large systems\n",
    "- Development is divided into several sequential steps, and each step must be completed before the next\n",
    "- User involvement only in the requirements definition\n",
    "- Each activity is documented → Well suited for tenders (after the requirements definition or the design, ISO 9000)\n",
    "\n",
    "</div>\n",
    "  <div class=\"col1\">\n",
    "    <figure class=\"mj-fig\">\n",
    "        <img src=\"images/05a_Softwareentwurf/waterflow.svg\" class=\"mj-fig-img\" style=\"height: 80%\">\n",
    "    </figure>\n",
    "  </div>\n",
    "</div>"
   ]
  },
  {
   "cell_type": "markdown",
   "id": "146aee71",
   "metadata": {
    "editable": true,
    "slideshow": {
     "slide_type": "subslide"
    },
    "tags": [
     "remove-cell",
     "translated_en"
    ],
    "translation": {
     "lang": "de",
     "src_hash": "3972755aa1a209f155c0fea1f35fd7f3918a08b58ed448034c711acccd8f78f5",
     "updated_at_iso": "2025-08-16T10:51:00.154915+00:00"
    }
   },
   "source": [
    "## V-Model\n",
    "\n",
    "<div class=\"flex-row\">\n",
    "<div class=\"col1\">\n",
    "\n",
    "- Primarily used in the development of safety-critical software (cars, aircraft, etc.)\n",
    "\n",
    "- Separates development (left side) and testing activities (right side)\n",
    "\n",
    "- Tests are defined early in the development phase\n",
    "\n",
    "- Goal: high test coverage\n",
    "\n",
    "- User involvement in requirements definition and in acceptance testing\n",
    "\n",
    "</div>\n",
    "  <div class=\"col1\">\n",
    "    <figure class=\"mj-fig\">\n",
    "        <img src=\"images/05a_Softwareentwurf/vmodel.svg\" class=\"mj-fig-img\" style=\"height: 80%\">\n",
    "    </figure>\n",
    "  </div>\n",
    "</div>"
   ]
  },
  {
   "cell_type": "markdown",
   "id": "43562188",
   "metadata": {
    "editable": true,
    "jp-MarkdownHeadingCollapsed": true,
    "slideshow": {
     "slide_type": "subslide"
    },
    "tags": [
     "remove-cell",
     "translated_en"
    ],
    "translation": {
     "lang": "de",
     "src_hash": "b76a70989019f123f5d51231c3c175e8ec4a9d73a1fb7a9d974144aa0178e918",
     "updated_at_iso": "2025-08-16T10:51:09.867798+00:00"
    }
   },
   "source": [
    "## Agile Method\n",
    "\n",
    "<div class=\"flex-row\">\n",
    "<div class=\"col1\">\n",
    "\n",
    "- Modern method to adapt to constantly changing requirements\n",
    "\n",
    "- The goal is incremental development of the solution to keep the effort and the complexity of individual steps in check\n",
    "\n",
    "- Starts with a simple and extensible implementation (MVP – Minimum Viable Product)\n",
    "\n",
    "- Incremental expansion and improvement of the product with regular releases (usually every 3 months)\n",
    "\n",
    "- Design flaws in the early iterations can lead to a complete redesign\n",
    "\n",
    "</div>\n",
    "  <div class=\"col1\">\n",
    "    <figure class=\"mj-fig\">\n",
    "        <img src=\"images/05a_Softwareentwurf/agile.svg\" class=\"mj-fig-img\" style=\"height: 80%\">\n",
    "    </figure>\n",
    "  </div>\n",
    "</div>"
   ]
  },
  {
   "cell_type": "markdown",
   "id": "401bbdef-1517-41f3-816a-b6e78622a578",
   "metadata": {
    "editable": true,
    "slideshow": {
     "slide_type": "skip"
    },
    "tags": [
     "translated_en"
    ],
    "translation": {
     "lang": "de",
     "src_hash": "2b6e1817175d5e6be74a06753a5b37b8993bbdf2839db62a2a18abdeda38813f",
     "updated_at_iso": "2025-08-16T10:51:29.665554+00:00"
    }
   },
   "source": [
    "## Quiz\n",
    "\n",
    "```{quizdown}\n",
    "\t---\n",
    "\tshuffleQuestions: true\n",
    "\tshuffleAnswers: true\n",
    "\t---\n",
    "\n",
    "    ### What is the main purpose of flowcharts?\n",
    "    - [x] The translation of a real-world problem into individual program steps\n",
    "    - [ ] Writing efficient code\n",
    "    - [ ] Documentation of finished programs\n",
    "    - [ ] Visualization of data structures\n",
    "\n",
    "    ### What shape do start and end elements in flowcharts have?\n",
    "    - [x] Elements with rounded corners\n",
    "    - [ ] Rectangular elements\n",
    "    - [ ] Rhombuses\n",
    "    - [ ] Circles\n",
    "\n",
    "    ### What shape do statements in flowcharts have?\n",
    "    - [x] Rectangular elements\n",
    "    - [ ] Rhombuses\n",
    "    - [ ] Circles\n",
    "    - [ ] Elements with rounded corners\n",
    "\n",
    "    ### Sort the following flowchart elements by their typical order:\n",
    "    1. `Start (rounded rectangle)`\n",
    "    2. `Input (Rhombus)`\n",
    "    3. `Processing (Rectangle)`\n",
    "    4. `Decision (Diamond)`\n",
    "    5. `End (rounded rectangle)`\n",
    "\n",
    "    ### What mistake is present in this flowchart?\n",
    "    ```mermaid\n",
    "    graph TD\n",
    "        A[Start] --> B{Eingabe}\n",
    "        B --> C[Verarbeitung]\n",
    "        C --> D{Entscheidung}\n",
    "        D --> B\n",
    "    ```\n",
    "    - [x] Input is depicted with the wrong shape (Rhombus instead of parallelogram)\n",
    "    - [ ] The arrow direction is incorrect\n",
    "    - [ ] The start element is missing\n",
    "    - [ ] Decisions cannot lead back to inputs\n",
    "\n",
    "    ### What shape is used for if statements?\n",
    "    - [x] Diamond\n",
    "    - [ ] Rectangle\n",
    "    - [ ] Rhombus\n",
    "    - [ ] Circle\n",
    "\n",
    "    ### What characterizes subroutine elements in flowcharts?\n",
    "    - [x] Rectangular shape with a double line\n",
    "    - [ ] Circular shape\n",
    "    - [ ] Dashed lines\n",
    "    - [ ] Shaded rectangles\n",
    "\n",
    "```"
   ]
  },
  {
   "cell_type": "markdown",
   "id": "ca139770",
   "metadata": {
    "slideshow": {
     "slide_type": "slide"
    },
    "tags": [
     "remove-cell",
     "translated_en"
    ],
    "translation": {
     "lang": "de",
     "src_hash": "d2b7467259ef9f52d61ecf9953374631953b152baba6f1edeaac46d4c3d40a0b",
     "updated_at_iso": "2025-08-16T10:51:35.989454+00:00"
    }
   },
   "source": [
    "<div class=\"vslide\">\n",
    "  <div class=\"vslide-title\">\n",
    "    <p style=\"font-family: Protomolecule; font-size: 2.3em; margin: 0px auto; text-align: center; width: 100%;\">Questions?</p>\n",
    "  </div>\n",
    "  <script>setSectionBackground('#000000', 'images/mj_questions.mp4');</script>\n",
    "</div>"
   ]
  }
 ],
 "metadata": {
  "kernelspec": {
   "display_name": "Python 3 (ipykernel)",
   "language": "python",
   "name": "python3"
  },
  "language_info": {
   "codemirror_mode": {
    "name": "ipython",
    "version": 3
   },
   "file_extension": ".py",
   "mimetype": "text/x-python",
   "name": "python",
   "nbconvert_exporter": "python",
   "pygments_lexer": "ipython3",
   "version": "3.12.10"
  }
 },
 "nbformat": 4,
 "nbformat_minor": 5
}
