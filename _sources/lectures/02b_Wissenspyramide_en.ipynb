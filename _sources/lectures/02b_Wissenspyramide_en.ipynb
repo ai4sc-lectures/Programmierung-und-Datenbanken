{
 "cells": [
  {
   "cell_type": "markdown",
   "id": "9f425d98-ff8b-452a-aec5-69f93dde62d8",
   "metadata": {
    "editable": true,
    "slideshow": {
     "slide_type": "slide"
    },
    "tags": [
     "remove-cell",
     "translated_en"
    ],
    "translation": {
     "lang": "de",
     "src_hash": "ec030eee24a88c7062415c59a893d7736b53d54b5653cd8faa3074ea92ab8345",
     "updated_at_iso": "2025-08-16T09:34:57.287377+00:00"
    }
   },
   "source": [
    "<div class=\"vslide\">\n",
    "  <div class=\"vslide-title\">\n",
    "    <p style=\"font-family: Protomolecule; font-size: 2.3em; line-height: 90%; margin: 0px auto; text-align: center; width: 100%;\"><span style=\"letter-spacing: .04rem;\">Programming</span><br><span style=\"letter-spacing: .0rem;\">Databases</span></p>\n",
    "<p class=\"author\" style=\"font-family: Protomolecule; margin: 0px auto;  text-align: center; width: 100%; font-size: 1.2em;\">Joern Ploennigs</p>\n",
    "<p class=\"subtitle\" style=\"font-family: Protomolecule; margin: 1em auto; text-align: center; width: 100%; font-size: 1.2em;\">Knowledge Pyramid</p>\n",
    "    <figcaption>Midjourney: Tower of Babel with modern construction, ref. Pieter Bruegel</figcaption>\n",
    "  </div>\n",
    "<script>\n",
    "  function setSectionBackground(c, v, w){\n",
    "    let e = document.currentScript.previousElementSibling;\n",
    "    while (e && e.tagName !== 'SECTION') e = e.parentElement;\n",
    "    if (!e) return;\n",
    "    if (c) e.setAttribute('data-background-color', c);\n",
    "    if (v) {\n",
    "      e.setAttribute('data-background-video', v);\n",
    "      e.setAttribute('data-background-video-loop', 'true');\n",
    "      e.setAttribute('data-background-video-muted', 'true');\n",
    "    }\n",
    "    if (w) {\n",
    "      const d = e.querySelector('div');\n",
    "      if (d) d.style.backgroundColor = 'rgba(255,255,255,0.6)';\n",
    "    }\n",
    "  }\n",
    "  setSectionBackground('#000000', 'images/02b_Wissenspyramide/mj_title.mp4');\n",
    "</script>\n",
    "<style>\n",
    ".flex-row{display:flex; gap:2rem; align-items:flex-start; justify-content:space-between;}\n",
    ".flex-row .col1{flex:1; min-width:10px}\n",
    ".flex-row .col2{flex:2; min-width:10px}\n",
    ".flex-row .col3{flex:3; min-width:10px}\n",
    ".flex-row .col4{flex:4; min-width:10px}\n",
    ".flex-row .col5{flex:5; min-width:10px}\n",
    ".flex-row .col6{flex:6; min-width:10px}\n",
    ".flex-row .col7{flex:7; min-width:10px}\n",
    ".vcent{display:flex; align-items:center; justify-content:center}\n",
    "</style>\n",
    "</div>"
   ]
  },
  {
   "cell_type": "markdown",
   "id": "948875af",
   "metadata": {
    "editable": true,
    "slideshow": {
     "slide_type": "skip"
    },
    "tags": [
     "translated_en"
    ],
    "translation": {
     "lang": "de",
     "src_hash": "9f01f5667dd39731230ef97b6d7a5e49f0ac9219d60cc8081ed26b973f850249",
     "updated_at_iso": "2025-08-16T09:34:59.526950+00:00"
    }
   },
   "source": [
    "# Knowledge Pyramid"
   ]
  },
  {
   "cell_type": "markdown",
   "id": "9ae339a8-3e41-4515-a74a-c9d70fdc4186",
   "metadata": {
    "editable": true,
    "raw_mimetype": "",
    "slideshow": {
     "slide_type": "skip"
    },
    "tags": [
     "translated_en"
    ],
    "translation": {
     "lang": "de",
     "src_hash": "9fa8c0622ca491499ffda4833c8d7b3b456813b9a1a4617453be951ddb8b44a1",
     "updated_at_iso": "2025-08-16T09:35:03.762355+00:00"
    }
   },
   "source": [
    "<figure class=\"mj-tile-band\">\n",
    "<img src='images/02b_Wissenspyramide/mj_title_band.jpg'>\n",
    "<figcaption>Midjourney: \"Tower of Babel\" with modern construction, ref. Pieter Bruegel</figcaption>\n",
    "</figure>\n",
    "\n",
    "> The purpose of computing is insight, not numbers.\n",
    "> \n",
    "> — Richard Hamming"
   ]
  },
  {
   "cell_type": "markdown",
   "id": "554b63b9-c908-4a46-9157-6928f4cfbd28",
   "metadata": {
    "editable": true,
    "slideshow": {
     "slide_type": "skip"
    },
    "tags": [
     "translated_en"
    ],
    "translation": {
     "lang": "de",
     "src_hash": "c2b739884da4a2bd5fab22de897b659f3ffa4413df656a1fe9fa059e61250f80",
     "updated_at_iso": "2025-08-16T09:35:08.064156+00:00"
    }
   },
   "source": [
    "## <a href=\"../lec_slides/02b_Wissenspyramide.slides.html\">Slides</a>/<a href=\"../pdf/slides/02b_Wissenspyramide.pdf\">PDF</a>\n",
    "<iframe src=\"../lec_slides/02b_Wissenspyramide.slides.html\" width=\"750\" height=\"500\"></iframe>"
   ]
  },
  {
   "cell_type": "markdown",
   "id": "5f1c64ce",
   "metadata": {
    "editable": true,
    "slideshow": {
     "slide_type": "slide"
    },
    "tags": [
     "remove-cell",
     "translated_en"
    ],
    "translation": {
     "lang": "de",
     "src_hash": "7de898e41c28575b1cc285ef0a4fa78e45b97631311e80d15d592d5315ba0d5a",
     "updated_at_iso": "2025-08-16T09:35:10.822852+00:00"
    }
   },
   "source": [
    "## Process\n",
    "\n",
    "![](images/partA_2.svg)"
   ]
  },
  {
   "cell_type": "markdown",
   "id": "54ecae80",
   "metadata": {
    "editable": true,
    "slideshow": {
     "slide_type": "skip"
    },
    "tags": [
     "translated_en"
    ],
    "translation": {
     "lang": "de",
     "src_hash": "07514404856d933710f14ffa4f171475fdbbf85801d61e337f531b4bdf64d685",
     "updated_at_iso": "2025-08-16T09:35:17.586421+00:00"
    }
   },
   "source": [
    "## Knowledge Pyramid\n",
    "\n",
    "The knowledge pyramid is a model for illustrating the extraction of knowledge by computers. It is well suited for explaining some fundamental concepts of computer science, such as characters, syntax, data, semantics, information, data processing, and knowledge. These concepts are arranged pyramid-style into four levels and transformation processes.\n",
    "\n",
    "![Knowledge Pyramid](images/02b_Wissenspyramide/wissenspyramide.svg)"
   ]
  },
  {
   "cell_type": "markdown",
   "id": "08211cb2",
   "metadata": {
    "editable": true,
    "slideshow": {
     "slide_type": "slide"
    },
    "tags": [
     "remove-cell",
     "translated_en"
    ],
    "translation": {
     "lang": "de",
     "src_hash": "82ebce919f37e9aee3a1677b690fdcc8b52ab0100b2c0f76baf5161cbb1ac9a2",
     "updated_at_iso": "2025-08-16T09:35:30.169816+00:00"
    }
   },
   "source": [
    "## Knowledge Pyramid\n",
    "\n",
    "<div class=\"flex-row\">\n",
    "<div class=\"col1\">\n",
    "\n",
    "The Wissenspyradmide is a model for representing the emergence of knowledge. \n",
    "\n",
    "The four element types: *Signs, Data, Information, and Knowledge* are represented pyramidically as four levels.\n",
    "\n",
    "Signs form the base and knowledge forms the apex of the pyramid.\n",
    "\n",
    "</div>\n",
    "<div class=\"col1\">\n",
    "\n",
    "![](images/02b_Wissenspyramide/pyramide1.svg)\n",
    "\n",
    "</div>\n",
    "</div>"
   ]
  },
  {
   "cell_type": "markdown",
   "id": "d405f03f",
   "metadata": {
    "editable": true,
    "slideshow": {
     "slide_type": "skip"
    },
    "tags": [
     "translated_en"
    ],
    "translation": {
     "lang": "de",
     "src_hash": "2567a2e0c0aaec8a721f8e347c648cf4520cdb2b1ad9d91875b974cda0f1c8d0",
     "updated_at_iso": "2025-08-16T09:35:41.450692+00:00"
    }
   },
   "source": [
    "## Characters\n",
    "\n",
    "Characters form the basis of the pyramid. They are the smallest units of information and serve as the foundation for representing data and information. Characters can be letters, digits, special characters, or control characters.\n",
    "\n",
    "<div class=\"alert alert-block alert-success\">\n",
    "<b>📘 Definition: Characters</b>\n",
    "\n",
    "A character encodes a single letter, a digit, a special character, or a control character. \n",
    "</div>\n",
    "\n",
    "> Example 1: *German alphabet:* with umlauts and digits, sentence separators and sentence-ending marks. \n",
    ">\n",
    "> Character set: `abcdefgijklmnopqrstuvwxyzABCDEFGHIJKLMNOPQRSTUVWXYZäöüßÄÖÜ0123456789,:;-.!?`\n",
    "\n",
    "> Example 2: *ASCII text* (ISO 8859-1) is an encoding of 256 representable characters in 8 bits. (Originally there were only 128 characters in 7 bits.)"
   ]
  },
  {
   "cell_type": "markdown",
   "id": "ab2d7663",
   "metadata": {
    "editable": true,
    "slideshow": {
     "slide_type": "subslide"
    },
    "tags": [
     "remove-cell",
     "translated_en"
    ],
    "translation": {
     "lang": "de",
     "src_hash": "b3fd3a435077510ba4a3c631576355f2a2091cef75408288d5dcbaa95bcd01a7",
     "updated_at_iso": "2025-08-16T09:35:51.785957+00:00"
    }
   },
   "source": [
    "## Characters\n",
    "\n",
    "<div class=\"flex-row\">\n",
    "<div class=\"col1\">\n",
    "\n",
    "<div class=\"alert alert-block alert-success\">\n",
    "<b>📘 Definition: Characters</b>\n",
    "\n",
    "A character encodes a single letter, a digit, a special character, or a control character. \n",
    "</div>\n",
    "\n",
    "- Example 1: German alphabet with umlauts and numbers, sentence separators and end-of-sentence marks\n",
    "Character set: `abcdefgijklmnopqrstuvwxyz ABCDEFGHIJKLMNOPQRSTUVWXYZ äöüßÄÖÜ0123456789,:;-.!?`\n",
    "- Example 2: ASCII text (ISO 8859-1) is an encoding of 256 representable characters in 8 bits. (Originally there were only 128 characters in 7 bits.)\n",
    "</div>\n",
    "<div class=\"col1\">\n",
    "\n",
    "![](images/02b_Wissenspyramide/pyramide2.svg)\n",
    "\n",
    "</div>\n",
    "</div>"
   ]
  },
  {
   "cell_type": "markdown",
   "id": "37819a26",
   "metadata": {
    "editable": true,
    "slideshow": {
     "slide_type": "skip"
    },
    "tags": [
     "translated_en"
    ],
    "translation": {
     "lang": "de",
     "src_hash": "49458ab662bc5742621d77f095c01bbce150961972bb4e5a33c588a8358e3a16",
     "updated_at_iso": "2025-08-16T09:36:03.592153+00:00"
    }
   },
   "source": [
    "## Syntax\n",
    "\n",
    "Syntax is needed to convert characters into data.\n",
    "\n",
    "<div class=\"alert alert-block alert-success\">\n",
    "<b>📘 Definition: Syntax</b>\n",
    "\n",
    "Formal rules that define how well-formed expressions are formed based on a character set.\n",
    "</div>\n",
    "\n",
    "\n",
    "> Beispiel 1: *Deutsche Grammatik:* \n",
    "Ein Satz besteht aus mehreren Wörtern mit mehreren alpha-numerischen Zeichen aus `a-zA-Z0-9`. Zwei Worte sind durch ein Leerzeichen getrennt. Ein Wort kann mit einem Satztrennungszeichen aus `,:;-` beendet werden, außer am Ende des Satzes. Jeder Satz endet mit einem Satzendzeichen aus `.!?`\n",
    "\n",
    "> Example 1: *German Grammar:* \n",
    "A sentence consists of several words formed from alphanumeric characters from `a-zA-Z0-9`. Two words are separated by a space. A word can be terminated by a sentence-ending punctuation mark from `,:;-`, except at the end of the sentence. Each sentence ends with a sentence-ending punctuation mark from `.!?`\n",
    "\n",
    "\n",
    "> Beispiel 2: *HTML (Internetseite)* - Die Syntax-Definition einer HTML Datei ist grob: Jede Zeile enthält eine beliebige Folge von ASCII Zeichen. Jede Zeile endet mit einem Zeilenvorschub 10 (Linux) oder Wagenrücklauf 13 und Zeilenvorschub 10 (Windows). Eine Zeile kann einen HTML-Tag enthalten, der immer mit dem Zeichen `<` beginnt, darauf folgt der Elementname und ggf. Attribute und endet mit `>`.\n",
    "\n",
    "> Example 2: *HTML (Web page)* - The syntax definition of an HTML file is roughly: Each line contains an arbitrary sequence of ASCII characters. Each line ends with a line feed 10 (Linux) or carriage return 13 and line feed 10 (Windows). A line can contain an HTML tag, which always begins with the character `<`, followed by the element name and possibly attributes, and ends with `>`."
   ]
  },
  {
   "cell_type": "markdown",
   "id": "31dedd7a",
   "metadata": {
    "editable": true,
    "slideshow": {
     "slide_type": "subslide"
    },
    "tags": [
     "remove-cell",
     "translated_en"
    ],
    "translation": {
     "lang": "de",
     "src_hash": "ae9d0f66c014c5ee06916daef1206b42aae52e7382973df7dee0992403df24b9",
     "updated_at_iso": "2025-08-16T09:36:16.991837+00:00"
    }
   },
   "source": [
    "## Syntax\n",
    "\n",
    "<div class=\"flex-row\">\n",
    "<div class=\"col1\">\n",
    "\n",
    "<div class=\"alert alert-block alert-success\">\n",
    "<b>📘 Definition: Syntax</b>\n",
    "\n",
    "Formal rules that define how well-formed expressions are formed from a given character set.\n",
    "</div>\n",
    "\n",
    "- Example 1: German grammar - \n",
    "Sentence rules:\n",
    "    - One or more words, each consisting of two or more alphanumeric characters\n",
    "    - A space separates two words\n",
    "    - `,:;-` separate sentence parts\n",
    "    - `.!?` ends a sentence\n",
    "- Example 2: HTML (web page):\n",
    "    - Each line contains ASCII characters\n",
    "    - Line breaks separate lines\n",
    "    - A line contains text or an HTML tag that begins with `<` and ends with `>`\n",
    "\n",
    "</div>\n",
    "<div class=\"col1\">\n",
    "\n",
    "![](images/02b_Wissenspyramide/pyramide3.svg)\n",
    "\n",
    "</div>\n",
    "</div>"
   ]
  },
  {
   "cell_type": "markdown",
   "id": "6a90355c",
   "metadata": {
    "editable": true,
    "slideshow": {
     "slide_type": "skip"
    },
    "tags": [
     "translated_en"
    ],
    "translation": {
     "lang": "de",
     "src_hash": "d7d80a8b337e5efb3d8890527cfa793eaf13d4716a03bc09ea88e1b307a3a42f",
     "updated_at_iso": "2025-08-16T09:36:33.568529+00:00"
    }
   },
   "source": [
    "## Data\n",
    "\n",
    "Data are extracted from characters; they are a precursor to information.\n",
    "\n",
    "<div class=\"alert alert-block alert-success\">\n",
    "<b>📘 Definition: Data</b>\n",
    "\n",
    "A representation of information in a formalized form that can be interpreted repeatedly, suitable for communication, interpretation, or processing.\n",
    "</div>\n",
    "\n",
    "> Example 1: A sentence that is syntactically correct according to our rules would be, for example, “I only understand the train station.” This, however, does not make sense.\n",
    "\n",
    "> Example 2: HTML tree (DOM) - A syntax tree that represents the nesting of HTML tags. For example, the following tags are mapped into a table, with rows (`<TR>`) and two cells (`<TD>`) in a tree.\n",
    "\n",
    "```html\n",
    "<table width=\"300\">\n",
    "    <tr height=\"50\">\n",
    "        <td>Name</td>\n",
    "        <td>Birthday</td>\n",
    "    </tr>\n",
    "</table>\n",
    "```\n",
    "\n",
    "<center><img src=\"https://mermaid.ink/svg/pako:eNpdjjEOgzAMRa8SeYahHTN04gbtljC42BSkJCDXGSrE3WtQp3qwrPefrL_BsBCDh5fgOrlHF4uzUXwmDufuXdvejEhQ6X-pnEzpEpT-2fVg0EBmyTiTvd4OI4JOnDmCt5N4xJo0Qiy7qVh1uX_KAF6lcgN1JVTuZrRSGfyI6c37F5AmNoE\" height=\"200px\"></center>"
   ]
  },
  {
   "cell_type": "markdown",
   "id": "de661e4e",
   "metadata": {
    "editable": true,
    "slideshow": {
     "slide_type": "subslide"
    },
    "tags": [
     "remove-cell",
     "translated_en"
    ],
    "translation": {
     "lang": "de",
     "src_hash": "4ecbb50e75f7f1a20b8a712f42b3583e6076038154f17150e67be9d286f5073b",
     "updated_at_iso": "2025-08-16T09:36:58.458438+00:00"
    }
   },
   "source": [
    "## Data\n",
    "\n",
    "<div class=\"flex-row\">\n",
    "<div class=\"col1\">\n",
    "\n",
    "<div class=\"alert alert-block alert-success\">\n",
    "<b>📘 Definition: Data</b>\n",
    "\n",
    "A representation of information that can be interpreted repeatedly in a formalized manner, suitable for communication, interpretation, or processing.\n",
    "</div>\n",
    "\n",
    "- Example 1: Formally correct sentence.\n",
    "  e.g., \"I only understand Bahnhof.\"\n",
    "\n",
    "- Example 2: HTML text file (*.html).\n",
    "</div>\n",
    "<div class=\"col1\">\n",
    "\n",
    "![](images/02b_Wissenspyramide/pyramide4.svg)\n",
    "\n",
    "</div>\n",
    "</div>"
   ]
  },
  {
   "cell_type": "markdown",
   "id": "0cd2d501",
   "metadata": {
    "editable": true,
    "slideshow": {
     "slide_type": "skip"
    },
    "tags": [
     "translated_en"
    ],
    "translation": {
     "lang": "de",
     "src_hash": "6ab30116415f1d6df8873cc5a4d6261bb1533c027e4d1815d8d9f61d145c5eca",
     "updated_at_iso": "2025-08-16T09:37:10.842181+00:00"
    }
   },
   "source": [
    "## Semantics\n",
    "\n",
    "In communication, it is not only necessary to formulate formally correct content, but it is also important to know the meaning of the content and to be able to interpret it; that is what semantics is.\n",
    "\n",
    "<div class=\"alert alert-block alert-success\">\n",
    "<b>📘 Definition: Semantics</b>\n",
    "\n",
    "Guidelines for the interpretation of data.\n",
    "</div>\n",
    "\n",
    "> Example 1: In a sentence, not only must the syntax be correct, but the meaning of the words must also be known. In the German dictionary, for example, the definition of “Bahnhof” is: the overall complex of a railway station with tracks and associated buildings; a building belonging to the station with a [large] hall, in which the counters for tickets and luggage, waiting rooms, shops or the like are located.\n",
    "\n",
    "> Example 2: Meaning of the HTML elements (https://www.w3schools.com/html/)\n",
    ">\n",
    "> - `<table>` table\n",
    ">\n",
    "> - `<td>` table row\n",
    ">\n",
    "> - `<td>` table cell"
   ]
  },
  {
   "cell_type": "markdown",
   "id": "92e1d7fc",
   "metadata": {
    "editable": true,
    "slideshow": {
     "slide_type": "subslide"
    },
    "tags": [
     "remove-cell",
     "translated_en"
    ],
    "translation": {
     "lang": "de",
     "src_hash": "ad7b86a9465aa02f8e910c54412cb7e6197b00c42676e285daa049ebeb8f09e0",
     "updated_at_iso": "2025-08-16T09:37:19.453126+00:00"
    }
   },
   "source": [
    "## Semantics\n",
    "\n",
    "<div class=\"flex-row\">\n",
    "<div class=\"col1\">\n",
    "\n",
    "<div class=\"alert alert-block alert-success\">\n",
    "<b>📘 Definition: Semantics</b>\n",
    "\n",
    "Guidelines for interpreting data.\n",
    "</div>\n",
    "\n",
    "- Example 1: German dictionary. For example, the definition of \"Bahnhof\" in Duden:\n",
    "    - The entire complex of a railway station with track facilities and associated buildings\n",
    "    - a building belonging to the station with a [large] hall\n",
    "- Example 2: HTML elements\n",
    "  - `<p>` defines a paragraph\n",
    "  - `<img>` defines an image\n",
    "  - `<table>` defines a table\n",
    "  - ...\n",
    "</div>\n",
    "<div class=\"col1\">\n",
    "\n",
    "![](images/02b_Wissenspyramide/pyramide5.svg)\n",
    "\n",
    "</div>\n",
    "</div>"
   ]
  },
  {
   "cell_type": "markdown",
   "id": "84aa2144",
   "metadata": {
    "editable": true,
    "slideshow": {
     "slide_type": "skip"
    },
    "tags": [
     "translated_en"
    ],
    "translation": {
     "lang": "de",
     "src_hash": "4b5c34d2a1e5d67f66f9cfcce1791897e165b2677053c59236244cfa7f83534e",
     "updated_at_iso": "2025-08-16T09:37:38.490211+00:00"
    }
   },
   "source": [
    "## Information\n",
    "\n",
    "Information has a specific meaning and purpose.\n",
    "\n",
    "<div class=\"alert alert-block alert-success\">\n",
    "<b>📘 Definition: Information</b>\n",
    "\n",
    "Data that are given meaning and purpose. They have meaning and are organized for a specific purpose. Information, for example, is a collection of data with accompanying explanations, interpretations, and other text material that pertain to a particular object, event, or process.\n",
    "</div>\n",
    "\n",
    "> Example 1: A correct German sentence, e.g., „Ich verstehen nur Bahnhof.\" is syntactically correct and we know the meaning of each word. However, the sentence remains incomprehensible to foreigners because they lack the context to understand the expression.\n",
    "\n",
    "> Example 2: Interpreted HTML tree. For example, in the HTML tree shown above, the information about the table's width is inherited by all rows, and the height of the row is inherited by all cells.\n",
    "\n",
    "<center><img src=\"https://mermaid.ink/svg/pako:eNp1j8EKgzAMhl-l5KzgNnYpuJNvsN2sh8xEW7AqNWUM8d3XyWDssBxC-L8vkKzQTsSgoQ84W3WrzKhSCd4HrveuHo7ElqeiaFSeXxILtYRvqiy73kp5LprPbtg9oUMt9J8efylk4Dl4dJSOWd-uAbHs2YBOI3GHcRADZtySilGm63NsQUuInEGcCYUrh-kND7rDYeHtBZVGRlI\" height=\"200px\"></center>"
   ]
  },
  {
   "cell_type": "markdown",
   "id": "162f02c0",
   "metadata": {
    "editable": true,
    "slideshow": {
     "slide_type": "subslide"
    },
    "tags": [
     "remove-cell",
     "translated_en"
    ],
    "translation": {
     "lang": "de",
     "src_hash": "df4c71a6c081cf37ca1b72c972fa8c92ef3548db28734a79f3a4ccd650b711fc",
     "updated_at_iso": "2025-08-16T09:37:51.644557+00:00"
    }
   },
   "source": [
    "## Information\n",
    "\n",
    "<div class=\"flex-row\">\n",
    "<div class=\"col1\">\n",
    "\n",
    "<div class=\"alert alert-block alert-success\">\n",
    "<b>📘 Definition: Information</b>\n",
    "\n",
    "Data that have meaning and are organized for a specific purpose. For example, information is a collection of data with accompanying explanations, interpretations, and other textual material that relate to a particular object, event, or process.\n",
    "</div>\n",
    "\n",
    "\n",
    "- Example 1: Correct German sentence\n",
    "e.g., \"I have no idea what you're talking about.\"\n",
    "- Example 2: HTML text file (*.html).\n",
    "</div>\n",
    "<div class=\"col1\">\n",
    "\n",
    "![](images/02b_Wissenspyramide/pyramide6.svg)\n",
    "\n",
    "</div>\n",
    "</div>"
   ]
  },
  {
   "cell_type": "markdown",
   "id": "c710bd40",
   "metadata": {
    "editable": true,
    "slideshow": {
     "slide_type": "skip"
    },
    "tags": [
     "translated_en"
    ],
    "translation": {
     "lang": "de",
     "src_hash": "3c9fc4f9b490651aa6c6c233d61f4996236c5f14b68c5ffacb04520b22e8d0fa",
     "updated_at_iso": "2025-08-16T09:38:06.546219+00:00"
    }
   },
   "source": [
    "## Processing\n",
    "\n",
    "Information must first be processed to link them and derive knowledge.\n",
    "\n",
    "<div class=\"alert alert-block alert-success\">\n",
    "<b>📘 Definition: Processing</b>\n",
    "\n",
    "Linking information through algorithms, experiences, values, and domain knowledge.\n",
    "</div>\n",
    "\n",
    "> Example 1: Germans know from experience that “Ich verstehe nur Bahnhof.” is an idiom.\n",
    "\n",
    "> Example 2: Web browsers - A web browser interprets the HTML tags and, for example, determines the best width for the cells, because it knows that there are two cells in the row.\n",
    "\n",
    "<center><img src=\"https://mermaid.ink/svg/pako:eNp9j8EKgzAQRH8l7FlBW7wE7Mk_aG-Jh61ZTcCopBtKEf-9qQg9tXNYltk3sLNCNxsCCUPAxYpboyeRxHgfSe1TPJ1hW5-LohV5fkm3oDh8XWHJDZbrqmiPbNg5NqVic3Bl9Yc7_eIgA0_BozPpwfWT0sCWPGmQaTXUYxxZg562hGLk-fqaOpAcImUQF4NMjcNUzYPscXzQ9gYhbkx4\" height=\"200px\"></center>"
   ]
  },
  {
   "cell_type": "markdown",
   "id": "237af166",
   "metadata": {
    "editable": true,
    "slideshow": {
     "slide_type": "subslide"
    },
    "tags": [
     "remove-cell",
     "translated_en"
    ],
    "translation": {
     "lang": "de",
     "src_hash": "bbf29b7856365c45d3b1a6656273137bf8ff01abee3b10b6b17542353cdd1d31",
     "updated_at_iso": "2025-08-16T09:38:18.627998+00:00"
    }
   },
   "source": [
    "## Processing\n",
    "\n",
    "<div class=\"flex-row\">\n",
    "<div class=\"col1\">\n",
    "\n",
    "<div class=\"alert alert-block alert-success\">\n",
    "<b>📘 Definition: Processing</b>\n",
    "\n",
    "Linking information through algorithms, experiences, values, and domain knowledge.\n",
    "</div>\n",
    "\n",
    "- Example 1: Germans know that the expression \"Ich verstehe nur Bahnhof\" is an idiom.\n",
    "- Example 2: Web browser: A web browser interprets the HTML tags and renders a webpage from them\n",
    "</div>\n",
    "<div class=\"col1\">\n",
    "\n",
    "![](images/02b_Wissenspyramide/pyramide7.svg)\n",
    "\n",
    "</div>\n",
    "</div>"
   ]
  },
  {
   "cell_type": "markdown",
   "id": "9acb9133",
   "metadata": {
    "editable": true,
    "slideshow": {
     "slide_type": "skip"
    },
    "tags": [
     "translated_en"
    ],
    "translation": {
     "lang": "de",
     "src_hash": "31b4b9b16d44407b6520e840e71e00454da6a68ebe267dfcd8fadbf51ae50708",
     "updated_at_iso": "2025-08-16T09:38:31.529663+00:00"
    }
   },
   "source": [
    "## Knowledge\n",
    "\n",
    "Knowledge is the highest form of data processing and requires the successful use of syntax, semantics, and processing.\n",
    "\n",
    "\n",
    "<div class=\"alert alert-block alert-success\">\n",
    "<b>📘 Definition: Knowledge</b>\n",
    "\n",
    "The collected, interconnected information about a particular matter, integrated with personal experiences. Knowledge exhibits a substantially higher complexity than information and is one of the most valuable assets of an enterprise. Through knowledge, decisions can be made and actions can be initiated.\n",
    "</div>\n",
    "\n",
    "\n",
    "> Example 1: „Ich verstehen nur Bahnhof.“ means not understanding anything or not wanting to understand.\n",
    "\n",
    "> Example 2: Fully rendered table\n",
    "  <table width=\"300\" border=\"1\" style=\"width: 300px\">\n",
    "    <tr height=\"50\">\n",
    "      <td>Name</td>\n",
    "      <td>Birthdate</td>\n",
    "    </tr>\n",
    "  </table>"
   ]
  },
  {
   "cell_type": "markdown",
   "id": "27faaf96",
   "metadata": {
    "editable": true,
    "slideshow": {
     "slide_type": "subslide"
    },
    "tags": [
     "remove-cell",
     "translated_en"
    ],
    "translation": {
     "lang": "de",
     "src_hash": "0e9d44119b2c1639a321da8e17bacb9756f6c3528b4ea717687c8c8dfb8dd382",
     "updated_at_iso": "2025-08-16T09:38:51.944685+00:00"
    }
   },
   "source": [
    "## Knowledge\n",
    "\n",
    "<div class=\"flex-row\">\n",
    "<div class=\"col1\">\n",
    "\n",
    "<div class=\"alert alert-block alert-success\">\n",
    "<b>📘 Definition: Knowledge</b>\n",
    "\n",
    "The collected, interconnected information about a specific subject, integrated with personal experience. Knowledge has a considerably higher level of complexity than information and is one of the company's most valuable assets. Through knowledge, decisions can be made and actions initiated.\n",
    "</div>\n",
    "\n",
    "- Example 1: \"I don't understand a thing.\" This means not understanding anything or wanting to understand.\n",
    "- Example 2: A fully rendered website\n",
    "</div>\n",
    "<div class=\"col1\">\n",
    "\n",
    "![](images/02b_Wissenspyramide/pyramide8.svg)\n",
    "\n",
    "</div>\n",
    "</div>"
   ]
  },
  {
   "cell_type": "markdown",
   "id": "16017d10",
   "metadata": {
    "slideshow": {
     "slide_type": "slide"
    },
    "tags": [
     "remove-cell",
     "translated_en"
    ],
    "translation": {
     "lang": "de",
     "src_hash": "73b2dc4d5c15902e799f89cd8b65e9afb2c3e44933420f5cb55072b402010b66",
     "updated_at_iso": "2025-08-16T09:38:58.871988+00:00"
    }
   },
   "source": [
    "## Lecture Hall Question\n",
    "\n",
    "<script>setSectionBackground('#FFD966');</script>\n",
    "<div class=\"flex-row\">\n",
    "<div class=\"col2\">\n",
    "\n",
    "What are the signs shown in the image?\n",
    "\n",
    "</div>\n",
    "<div class=\"col3\">\n",
    "    <figure class=\"mj-fig\">\n",
    "        <img src=\"images/02b_Wissenspyramide/hyroglyphe.jpg\" class=\"mj-fig-img\">\n",
    "        <figcaption class=\"mj-fig-cap\">\n",
    "            https://www.planet-wissen.de/geschichte/antike/hieroglyphen\n",
    "        </figcaption>\n",
    "    </figure>\n",
    "  </div>\n",
    "</div>"
   ]
  },
  {
   "cell_type": "markdown",
   "id": "8312fb5f",
   "metadata": {
    "editable": true,
    "slideshow": {
     "slide_type": "subslide"
    },
    "tags": [
     "remove-cell",
     "translated_en"
    ],
    "translation": {
     "lang": "de",
     "src_hash": "b66cb2f8f7045fe065a2aa029a38cfa779df69f260e49f50af19f097f9639274",
     "updated_at_iso": "2025-08-16T09:39:04.891362+00:00"
    }
   },
   "source": [
    "## Lecture Hall Question\n",
    "\n",
    "<script>setSectionBackground('#FFD966');</script>\n",
    "<div class=\"flex-row\">\n",
    "<div class=\"col2\">\n",
    "\n",
    "What syntax is shown in the image?\n",
    "\n",
    "</div>\n",
    "<div class=\"col3\">\n",
    "    <figure class=\"mj-fig\">\n",
    "        <img src=\"images/02b_Wissenspyramide/hyroglyphe.jpg\" class=\"mj-fig-img\">\n",
    "        <figcaption class=\"mj-fig-cap\">\n",
    "            https://www.planet-wissen.de/geschichte/antike/hieroglyphen\n",
    "        </figcaption>\n",
    "    </figure>\n",
    "  </div>\n",
    "</div>"
   ]
  },
  {
   "cell_type": "markdown",
   "id": "4e476a54",
   "metadata": {
    "slideshow": {
     "slide_type": "subslide"
    },
    "tags": [
     "remove-cell",
     "translated_en"
    ],
    "translation": {
     "lang": "de",
     "src_hash": "f1d46885359dcca06e8e278b5d613914b022487db4e851abf2ca7972e3723eb7",
     "updated_at_iso": "2025-08-16T09:39:12.623201+00:00"
    }
   },
   "source": [
    "## Lecture Hall Question\n",
    "\n",
    "<script>setSectionBackground('#FFD966');</script>\n",
    "<div class=\"flex-row\">\n",
    "<div class=\"col2\">\n",
    "\n",
    "What is the semantic content of the image?\n",
    "\n",
    "</div>\n",
    "<div class=\"col3\">\n",
    "    <figure class=\"mj-fig\">\n",
    "        <img src=\"images/02b_Wissenspyramide/hyroglyphe.jpg\" class=\"mj-fig-img\">\n",
    "        <figcaption class=\"mj-fig-cap\">\n",
    "            https://www.planet-wissen.de/geschichte/antike/hieroglyphen\n",
    "        </figcaption>\n",
    "    </figure>\n",
    "  </div>\n",
    "</div>"
   ]
  },
  {
   "cell_type": "markdown",
   "id": "041bfc34",
   "metadata": {
    "slideshow": {
     "slide_type": "subslide"
    },
    "tags": [
     "remove-cell",
     "translated_en"
    ],
    "translation": {
     "lang": "de",
     "src_hash": "d2e47267ebe88271040f6e5d703d926b67ee96b70fdf51817e7b7f8dcfd101d5",
     "updated_at_iso": "2025-08-16T09:39:18.314883+00:00"
    }
   },
   "source": [
    "## Lecture question\n",
    "\n",
    "<script>setSectionBackground('#FFD966');</script>\n",
    "<div class=\"flex-row\">\n",
    "<div class=\"col2\">\n",
    "\n",
    "What processing is shown in the image?\n",
    "\n",
    "</div>\n",
    "<div class=\"col3\">\n",
    "    <figure class=\"mj-fig\">\n",
    "        <img src=\"images/02b_Wissenspyramide/hyroglyphe.jpg\" class=\"mj-fig-img\">\n",
    "        <figcaption class=\"mj-fig-cap\">\n",
    "            https://www.planet-wissen.de/geschichte/antike/hieroglyphen\n",
    "        </figcaption>\n",
    "    </figure>\n",
    "  </div>\n",
    "</div>"
   ]
  },
  {
   "cell_type": "markdown",
   "id": "d557bc30",
   "metadata": {
    "slideshow": {
     "slide_type": "subslide"
    },
    "tags": [
     "remove-cell",
     "translated_en"
    ],
    "translation": {
     "lang": "de",
     "src_hash": "25f707c8fd7e37b5a7e3972730eecc0bca0c144ee5fb810f153abb3e97ddc418",
     "updated_at_iso": "2025-08-16T09:39:30.890821+00:00"
    }
   },
   "source": [
    "## Answers: Hieroglyphs\n",
    "\n",
    "<div class=\"flex-row\">\n",
    "<div class=\"col2\">\n",
    "\n",
    "- Character: Each hieroglyph represents a character\n",
    "- Syntax: The hieroglyphs are arranged in columns. We read them from top to bottom and from right to left.\n",
    "- Semantics: Each hieroglyph has a context-specific meaning which can represent pictographs, phonetic signs, or determinatives.\n",
    "- Processing: The hieroglyphs can only be correctly interpreted in their context.\n",
    "\n",
    "</div>\n",
    "<div class=\"col3\">\n",
    "\n",
    "![https://www.planet-wissen.de/geschichte/antike/hieroglyphen](images/02b_Wissenspyramide/hyroglyphe2.jpg)\n",
    "\n",
    "</div>\n",
    "</div>"
   ]
  },
  {
   "cell_type": "markdown",
   "id": "7b3fb0c7",
   "metadata": {
    "slideshow": {
     "slide_type": "subslide"
    },
    "tags": [
     "translated_en"
    ],
    "translation": {
     "lang": "de",
     "src_hash": "21b53576b80d4d9df31fe43449364525ea65c4cd19015b44b1dbb881a051ba30",
     "updated_at_iso": "2025-08-16T09:39:37.403598+00:00"
    }
   },
   "source": [
    "## Syntax of a Programming Language\n",
    "\n",
    "<div class=\"flex-row\">\n",
    "<div class=\"col2\">\n",
    "\n",
    "<div class=\"alert alert-block alert-success\">\n",
    "<b>📘 Definition: Syntax in Programming Languages</b>\n",
    "\n",
    "A formal set of rules that defines how the computer should interpret the programming language. The syntax typically includes rules for defining commands (keywords), variables (values), and code blocks (statements).\n",
    "</div>\n",
    "\n",
    "</div>\n",
    "<div class=\"col3\">\n",
    "\n",
    "![Python Syntax Elements](images/02b_Wissenspyramide/syntax.svg)\n",
    "\n",
    "</div>\n",
    "</div>"
   ]
  },
  {
   "cell_type": "markdown",
   "id": "6446cdb0",
   "metadata": {
    "slideshow": {
     "slide_type": "subslide"
    },
    "tags": [
     "translated_en"
    ],
    "translation": {
     "lang": "de",
     "src_hash": "096ab26004afdea83dbe0128fe84376b358aaec6299948576b6544d74689b213",
     "updated_at_iso": "2025-08-16T09:39:43.628792+00:00"
    }
   },
   "source": [
    "## Semantics of a programming language\n",
    "\n",
    "<div class=\"flex-row\">\n",
    "<div class=\"col2\">\n",
    "\n",
    "<div class=\"alert alert-block alert-success\">\n",
    "<b>📘 Definition: Semantics in programming languages</b>\n",
    "\n",
    "Definition of the meaning of language elements and the permissible combinations of elements.\n",
    "</div>\n",
    "\n",
    "</div>\n",
    "<div class=\"col3\">\n",
    "\n",
    "![Python Semantic Elements](images/02b_Wissenspyramide/semantik.svg)\n",
    "\n",
    "</div>\n",
    "</div>"
   ]
  },
  {
   "cell_type": "markdown",
   "id": "4d989b2d",
   "metadata": {
    "slideshow": {
     "slide_type": "slide"
    },
    "tags": [
     "remove-cell",
     "translated_en"
    ],
    "translation": {
     "lang": "de",
     "src_hash": "e20c0012ab84a05c67f8d4617a3d274273845743ca2ca9030ab9fbc7d80caa3c",
     "updated_at_iso": "2025-08-16T09:39:48.944770+00:00"
    }
   },
   "source": [
    "## Lesson Learned\n",
    "<figcaption class=\"mj-slide-cap\">Midjourney: Six Sense</figcaption>\n",
    "\n",
    "<script>setSectionBackground('#66ccffff', 'images/02b_Wissenspyramide/mj_senses.mp4', true);</script>\n",
    "\n",
    "<div class=\"flex-row\">\n",
    "<div class=\"col2\">\n",
    "\n",
    "What senses do we have?\n",
    "\n",
    "</div>\n",
    "<div class=\"col3\">\n",
    "    <!--<figure class=\"mj-fig\">\n",
    "    <video controls autoplay muted class=\"mj-fig-img\">\n",
    "      <source src=\"images/02b_Wissenspyramide/mj_senses.mp4\" type=\"video/mp4\">\n",
    "      Your browser does not support the video tag.\n",
    "    </video>\n",
    "        <figcaption class=\"mj-fig-cap\">\n",
    "            Midjourney: Six Sense\n",
    "        </figcaption>\n",
    "    </figure>-->\n",
    "  </div>\n",
    "</div>"
   ]
  },
  {
   "cell_type": "markdown",
   "id": "8fa9facb",
   "metadata": {
    "slideshow": {
     "slide_type": "subslide"
    },
    "tags": [
     "remove-cell",
     "translated_en"
    ],
    "translation": {
     "lang": "de",
     "src_hash": "f48b178b0ec620a15d0abaf2b53acbf51d32f2a12d99f4e438f79a9de9635870",
     "updated_at_iso": "2025-08-16T09:39:54.400367+00:00"
    }
   },
   "source": [
    "## Lessons Learned - Learning Styles\n",
    "\n",
    "<script>setSectionBackground('#66ccffff');</script>\n",
    "\n",
    "<div class=\"flex-row\">\n",
    "<div class=\"col3\">\n",
    "\n",
    "![](images/02b_Wissenspyramide/lerntypen.svg)\n",
    "\n",
    "</div>\n",
    "<div class=\"col2\">\n",
    "\n",
    "- Each of us has preferred sensory channels\n",
    "- We tend to receive and transmit information through these channels\n",
    "- This can be used intentionally for learning\n",
    "- The most effective learning occurs when you use multiple channels\n",
    "\n",
    "</div>\n",
    "</div>"
   ]
  },
  {
   "cell_type": "markdown",
   "id": "22c2f33c",
   "metadata": {
    "slideshow": {
     "slide_type": "subslide"
    },
    "tags": [
     "remove-cell",
     "translated_en"
    ],
    "translation": {
     "lang": "de",
     "src_hash": "0fa360e420e6d1bf760469ea5b61883aff4639f4b970dce88893c9824c347b08",
     "updated_at_iso": "2025-08-16T09:40:03.919999+00:00"
    }
   },
   "source": [
    "## Lessons Learned – Learning Style Testing\n",
    "\n",
    "<script>setSectionBackground('#66ccffff');</script>\n",
    "\n",
    "<div class=\"flex-row\">\n",
    "<div class=\"col2\">\n",
    "\n",
    "- Using the following test, you can determine which learning style you tend to have. For each question, without overthinking it, place a cross in one of the numbered boxes.\n",
    "\n",
    "- Now tally how often you marked answers from categories 1, 2, and 3. Enter the totals for each category in the table below.\n",
    "\n",
    "</div>\n",
    "<div class=\"col3\">\n",
    "\n",
    "![](images/02b_Wissenspyramide/test.svg)\n",
    "\n",
    "</div>\n",
    "</div>"
   ]
  },
  {
   "cell_type": "markdown",
   "id": "ee684e4e",
   "metadata": {
    "slideshow": {
     "slide_type": "subslide"
    },
    "tags": [
     "remove-cell",
     "translated_en"
    ],
    "translation": {
     "lang": "de",
     "src_hash": "e9738178b51c0c187da2c1f0f757dd7b8ab734c2c2edee696b42a1b8f22204bf",
     "updated_at_iso": "2025-08-16T09:40:15.229175+00:00"
    }
   },
   "source": [
    "## Lessons Learned — Tailoring to Learning Styles\n",
    "\n",
    "<script>setSectionBackground('#66ccffff');</script>\n",
    "\n",
    "<div class=\"flex-row\">\n",
    "<div class=\"col1\">\n",
    "\n",
    "**The tactile learner** learns best when they can touch or try things out. \n",
    "\n",
    "- Try things out\n",
    "- Touch things\n",
    "- Move while learning\n",
    "- Take a walk\n",
    "- Create flashcards\n",
    "- Make models\n",
    "- Create study posters\n",
    "- Write by hand\n",
    "\n",
    "</div>\n",
    "<div class=\"col1\">\n",
    "\n",
    "**The auditory learner** learns best when they hear something. \n",
    "\n",
    "- Phrase the material as short learning statements\n",
    "- Read them aloud to yourself\n",
    "- Record the material on your smartphone and replay it via headphones\n",
    "- Talk with others\n",
    "- Find study groups\n",
    "- Find quiet places without distractions\n",
    "\n",
    "</div>\n",
    "<div class=\"col1\">\n",
    "\n",
    "**The visual learner** learns best when they can see something.\n",
    "\n",
    "- Take notes in bullet form\n",
    "- Create illustrations\n",
    "- Look for suitable mental images\n",
    "- Use visual aids\n",
    "- Visualize connections in sketches, pictures, and summaries\n",
    "- Review overviews and diagrams repeatedly\n",
    "\n",
    "</div>\n",
    "</div>"
   ]
  },
  {
   "cell_type": "markdown",
   "id": "d3998647",
   "metadata": {
    "slideshow": {
     "slide_type": "skip"
    },
    "tags": [
     "translated_en"
    ],
    "translation": {
     "lang": "de",
     "src_hash": "5e8a16aa524a791b434a12828825ded82fae736de8324c0fbf914752c4182093",
     "updated_at_iso": "2025-08-16T09:40:49.912097+00:00"
    }
   },
   "source": [
    "## Quiz\n",
    "\n",
    "\n",
    "```{quizdown}\n",
    "\t---\n",
    "\tshuffleQuestions: true\n",
    "\tshuffleAnswers: true\n",
    "\t---\n",
    "\n",
    "    ### Arrange the elements of the knowledge pyramid in order from 1 to 7.\n",
    "\n",
    "    ![Knowledge pyramid quiz](../_images/02b_Wissenspyramide/wissenspyramide_quizz1.png)\n",
    "\n",
    "    1. Signs\n",
    "    2. Syntax\n",
    "    3. Data\n",
    "    4. Semantics\n",
    "    5. Information\n",
    "    6. Processing\n",
    "    7. Knowledge\n",
    "\n",
    "\n",
    "    ### What are signs?\n",
    "\n",
    "    - [X] A single letter\n",
    "    - [X] A digit\n",
    "    - [X] A punctuation mark\n",
    "    - [ ] A word\n",
    "    - [ ] A sentence\n",
    "\n",
    "\n",
    "    ### What is syntax?\n",
    "\n",
    "    1. [x] Formal rules that define how well-formed expressions are formed based on a character set.\n",
    "    1. [ ] Guidelines for the interpretation of data.\n",
    "    1. [ ] Linking of information through algorithms, experiences, values and domain knowledge.\n",
    "\n",
    "\n",
    "    ### What are data?\n",
    "\n",
    "    1. [ ] Individual letters, a digit, a special character or a control character.\n",
    "    1. [x] A repeatedly interpretable representation of information in a formalized form.\n",
    "    1. [ ] Data that has meaning and is organized for a specific purpose. It has meaning and is organized for a specific purpose.\n",
    "    1. [ ] The collected, interconnected information about a particular fact, integrated with personal experiences.\n",
    "\n",
    "\n",
    "    ### What is semantics?\n",
    "\n",
    "    1. [ ] Formal rules that define how well-formed expressions are formed based on a character set.\n",
    "    1. [x] Guidelines for interpreting data.\n",
    "    1. [ ] Linking of information through algorithms, experiences, values and domain knowledge.\n",
    "\n",
    "\n",
    "    ### What is information?\n",
    "\n",
    "    1. [ ] Formal rules that define how well-formed expressions are formed based on a character set.\n",
    "    1. [ ] A repeatedly interpretable representation of information in a formalized form.\n",
    "    1. [x] Data that has meaning and is organized for a specific purpose.\n",
    "    1. [ ] The collected, interconnected information about a particular fact, integrated with personal experiences.\n",
    "\n",
    "\n",
    "    ### What is processing?\n",
    "\n",
    "    1. [ ] Formal rules that define how well-formed expressions are formed based on a character set.\n",
    "    1. [ ] Guidelines for interpreting data.\n",
    "    1. [x] Linking of information through algorithms, experiences, values and domain knowledge.\n",
    "\n",
    "\n",
    "    ### What is knowledge?\n",
    "\n",
    "    1. [ ] Formal rules that define how well-formed expressions are formed based on a character set.\n",
    "    1. [ ] A repeatedly interpretable representation of information in a formalized form.\n",
    "    1. [ ] Data that has meaning and is organized for a specific purpose.\n",
    "    1. [x] The collected, interconnected information about a particular fact, integrated with personal experiences.\n",
    "\n",
    "\n",
    "    ### What are the signs in the image?\n",
    "\n",
    "    ![Source: https://www.planet-wissen.de/geschichte/antike/hieroglyphen](../_images/02b_Wissenspyramide/hieroglyphs.png)\n",
    "\n",
    "    1. [x] Each hieroglyph\n",
    "      > Each hieroglyph represents a sign\n",
    "    1. [ ] Each column\n",
    "    1. [ ] Meaning of the hieroglyph\n",
    "    1. [ ] Context of all hieroglyphs\n",
    "\n",
    "\n",
    "    ### What is in the image of the syntax?\n",
    "\n",
    "    ![Source: https://www.planet-wissen.de/geschichte/antike/hieroglyphen](../_images/02b_Wissenspyramide/hieroglyphs.png)\n",
    "\n",
    "    1. [ ] Each hieroglyph\n",
    "    1. [x] Each column\n",
    "      > The hieroglyphs are arranged in columns. We read them from top to bottom and from right to left.\n",
    "    1. [ ] Meaning of the hieroglyph\n",
    "    1. [ ] Context of all hieroglyphs\n",
    "\n",
    "    ### What is in the image the semantics?\n",
    "\n",
    "    ![Source: https://www.planet-wissen.de/geschichte/antike/hieroglyphen](../_images/02b_Wissenspyramide/hieroglyphs.png)\n",
    "\n",
    "    1. [ ] Each hieroglyph\n",
    "    1. [ ] Each column\n",
    "    1. [x] Meaning of the hieroglyph\n",
    "      > Each hieroglyph has a context-specific meaning which can represent pictographic signs, phonetic signs, or determinatives.\n",
    "    1. [ ] Context of all hieroglyphs\n",
    "\n",
    "    ### What is in the image the processing?\n",
    "\n",
    "    ![Source: https://www.planet-wissen.de/geschichte/antike/hieroglyphen](../_images/02b_Wissenspyramide/hieroglyphs.png)\n",
    "\n",
    "    1. [ ] Each hieroglyph\n",
    "    1. [ ] Each column\n",
    "    1. [ ] Meaning of the hieroglyph\n",
    "    1. [x] Context of all hieroglyphs\n",
    "      > The hieroglyphs can only be interpreted correctly in their context.\n",
    "```"
   ]
  },
  {
   "cell_type": "markdown",
   "id": "6b32d9cb",
   "metadata": {
    "editable": true,
    "slideshow": {
     "slide_type": "slide"
    },
    "tags": [
     "remove-cell",
     "translated_en"
    ],
    "translation": {
     "lang": "de",
     "src_hash": "c25076a964bd586ff0eab235a4779d625eb5ad068def549dbdf61d9537458627",
     "updated_at_iso": "2025-08-16T09:40:56.221393+00:00"
    }
   },
   "source": [
    "<div class=\"vslide\">\n",
    "  <div class=\"vslide-title\">\n",
    "    <p style=\"font-family: Protomolecule; font-size: 2.3em; margin: 0px auto; text-align: center; width: 100%;\">Questions?</p>\n",
    "  </div>\n",
    "<script>setSectionBackground('#000000', 'images/mj_questions3.mp4');</script>\n",
    "</div>"
   ]
  }
 ],
 "metadata": {
  "kernelspec": {
   "display_name": "Python 3 (ipykernel)",
   "language": "python",
   "name": "python3"
  },
  "language_info": {
   "codemirror_mode": {
    "name": "ipython",
    "version": 3
   },
   "file_extension": ".py",
   "mimetype": "text/x-python",
   "name": "python",
   "nbconvert_exporter": "python",
   "pygments_lexer": "ipython3",
   "version": "3.12.10"
  },
  "rise": {
   "auto_select": "none",
   "center": false,
   "enable_chalkboard": true,
   "header": "<img src=\"images/pd_logo.svg\" class=\"header_title_logo\"><img src=\"images/ai4sc_logo_v2.svg\" class=\"header_ai4sc_logo\">",
   "height": "2160",
   "scroll": true,
   "show_buttons_on_startup": false,
   "slideNumber": true,
   "theme": "white",
   "width": "3840"
  }
 },
 "nbformat": 4,
 "nbformat_minor": 5
}
