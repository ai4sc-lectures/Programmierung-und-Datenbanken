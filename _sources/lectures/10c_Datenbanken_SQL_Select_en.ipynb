{
 "cells": [
  {
   "cell_type": "markdown",
   "id": "a38bd8541ef241d0a95be99dc67b82c9",
   "metadata": {
    "editable": true,
    "slideshow": {
     "slide_type": "slide"
    },
    "tags": [
     "remove-cell",
     "translated_en"
    ],
    "translation": {
     "lang": "de",
     "src_hash": "167b991a96f9d4fd7b82970b560de9d2653f53537d3c0932e6ee84a5b0e8e81a",
     "updated_at_iso": "2025-08-16T17:32:03.289623+00:00"
    }
   },
   "source": [
    "<div class=\"vslide\">\n",
    "  <div class=\"vslide-title\">\n",
    "    <p style=\"font-family: Protomolecule; font-size: 2.3em; line-height: 90%; margin: 0px auto; text-align: center; width: 100%;\"><span style=\"letter-spacing: .04rem;\">Programming</span><br><span style=\"letter-spacing: .0rem;\">and databases</span></p>\n",
    "<p class=\"author\" style=\"font-family: Protomolecule; margin: 0px auto;  text-align: center; width: 100%; font-size: 1.2em;\">Joern Ploennigs</p>\n",
    "<p class=\"subtitle\" style=\"font-family: Protomolecule; margin: 1em auto; text-align: center; width: 100%; font-size: 1.2em;\">SQL Select</p>\n",
    "    <figcaption>Midjourney: Deep Dive into a Busy Scene</figcaption>\n",
    "  </div>\n",
    "<script>\n",
    "  function setSectionBackground(c,v){\n",
    "    let e=document.currentScript.previousElementSibling;\n",
    "    while(e&&e.tagName!=='SECTION')e=e.parentElement;\n",
    "    if(e){\n",
    "      if(c)e.setAttribute('data-background-color',c);\n",
    "      if(v){\n",
    "        e.setAttribute('data-background-video',v);\n",
    "        e.setAttribute('data-background-video-loop','true');\n",
    "        e.setAttribute('data-background-video-muted','true');\n",
    "      }\n",
    "    }\n",
    "  }\n",
    "  setSectionBackground('#000000', 'images/10c_Datenbanken_SQL_Select/mj_title.mp4');\n",
    "</script>\n",
    "<style>\n",
    ".flex-row{display:flex; gap:2rem; align-items:flex-start; justify-content:space-between;}\n",
    ".flex-row .col1{flex:1; min-width:10px}\n",
    ".flex-row .col2{flex:2; min-width:10px}\n",
    ".flex-row .col3{flex:3; min-width:10px}\n",
    ".flex-row .col4{flex:4; min-width:10px}\n",
    ".flex-row .col5{flex:5; min-width:10px}\n",
    ".flex-row .col6{flex:6; min-width:10px}\n",
    ".flex-row .col7{flex:7; min-width:10px}\n",
    ".vcent{display:flex; align-items:center; justify-content:center}\n",
    "</style>\n",
    "</div>"
   ]
  },
  {
   "cell_type": "markdown",
   "id": "ca4da517f96243a7a5d1b09498b66bd3",
   "metadata": {
    "editable": true,
    "slideshow": {
     "slide_type": "skip"
    },
    "tags": [
     "translated_en"
    ],
    "translation": {
     "lang": "de",
     "src_hash": "d7d4ecd71658f06fc5326a76c7641105d075bae7db311cc27c0d42c983289c99",
     "updated_at_iso": "2025-08-16T17:32:06.490143+00:00"
    }
   },
   "source": [
    "# Analyzing Tables with SQL"
   ]
  },
  {
   "cell_type": "markdown",
   "id": "da165c9744d04f12a439784a9eef068c",
   "metadata": {
    "editable": true,
    "slideshow": {
     "slide_type": "skip"
    },
    "tags": [
     "translated_en"
    ],
    "translation": {
     "lang": "de",
     "src_hash": "70e1f8d717b964777d44bba0bd6bfbcc3e37e225172613cfc01867be33bcd815",
     "updated_at_iso": "2025-08-16T17:32:12.609487+00:00"
    }
   },
   "source": [
    "<figure class=\"mj-tile-band\">\n",
    "    <img src='images/10c_Datenbanken_SQL_Select/mj_title_band.jpg'>\n",
    "    <figcaption>Midjourney: Deep Dive in a Hidden-Object Picture</figcaption>\n",
    "</figure>\n",
    "\n",
    "> If you think you understand SQL, you’re probably wrong.\n",
    ">\n",
    "> — C. J. Date"
   ]
  },
  {
   "cell_type": "markdown",
   "id": "9d7cc1acd2454639bb3b31e7ced125b9",
   "metadata": {
    "editable": true,
    "slideshow": {
     "slide_type": "skip"
    },
    "tags": [
     "translated_en"
    ],
    "translation": {
     "lang": "de",
     "src_hash": "016713bdf50b42c90c2510496ff657ff69f62313a5718c78c66b06d0936fcddb",
     "updated_at_iso": "2025-08-16T17:32:17.447999+00:00"
    }
   },
   "source": [
    "## <a href=\"/lec_slides/10c_Datenbanken_SQL_Select.slides.html\">Slides</a>/<a href=\"/pdf/slides/10c_Datenbanken_SQL_Select.pdf\">PDF</a>\n",
    "<iframe src=\"/lec_slides/10c_Datenbanken_SQL_Select.slides.html\" width=\"750\" height=\"500\"></iframe>"
   ]
  },
  {
   "cell_type": "markdown",
   "id": "0de3eb4515fe411ba272e31e63e0867d",
   "metadata": {
    "editable": true,
    "slideshow": {
     "slide_type": "slide"
    },
    "tags": [
     "remove-cell",
     "translated_en"
    ],
    "translation": {
     "lang": "de",
     "src_hash": "5f0f77748ead25e93792437404a4592d83c4c93acca06563dc1493df65d1f714",
     "updated_at_iso": "2025-08-16T17:32:19.835382+00:00"
    }
   },
   "source": [
    "## Procedure\n",
    "\n",
    "![](images/partB_2.svg)"
   ]
  },
  {
   "cell_type": "markdown",
   "id": "af9baeb52d4943a5827b74f5cc8b9934",
   "metadata": {
    "slideshow": {
     "slide_type": "skip"
    },
    "tags": [
     "translated_en"
    ],
    "translation": {
     "lang": "de",
     "src_hash": "5174cf86c2e8e43ac6a3fb83274c3bbdf849ddad5fda33a01b8fed76e60d70f6",
     "updated_at_iso": "2025-08-16T17:32:21.906123+00:00"
    }
   },
   "source": [
    "## Practical example"
   ]
  },
  {
   "cell_type": "markdown",
   "id": "48af3ea9e9594d3690e56838b823ccb5",
   "metadata": {
    "slideshow": {
     "slide_type": "skip"
    },
    "tags": [
     "translated_en"
    ],
    "translation": {
     "lang": "de",
     "src_hash": "2088daded2d762cd01f4f3b83eed435396f41dd3c002fa543d3530008c99a9f1",
     "updated_at_iso": "2025-08-16T17:32:41.706067+00:00"
    }
   },
   "source": [
    "Information is, in practice, usually distributed across different systems and tables and must often be merged and processed to derive actionable knowledge.\n",
    "\n",
    "The Hanseatic City of Rostock offers, for example, many relevant data for civil and environmental engineers on the [OpenData Portal Rostock](https://www.opendata-hro.de).\n",
    "\n",
    "There we get, for example:\n",
    "- the [list of all construction sites](https://www.opendata-hro.de/dataset/baustellen)\n",
    "- the [list of all streets and addresses](https://www.opendata-hro.de/dataset/adressenliste)\n",
    "- the [list of all municipalities](https://www.opendata-hro.de/dataset/gemeinden_mecklenburg-vorpommern) \n",
    "<!-- - the [list of all Bodenrichtwerte](https://www.opendata-hro.de/dataset/bodenrichtwerte_2022)\n",
    "\n",
    "The population density of the districts, in turn, we obtain on the state site (https://www.laiv-mv.de/Statistik/Zahlen-und-Fakten/Gesellschaft-&-Staat/Bevoelkerung/). \n",
    "\n",
    "# See https://www.opendata-hro.de/dataset/bodenrichtwerte_2022\n",
    "with urllib.request.urlopen(f'https://geo.sv.rostock.de/download/opendata/bodenrichtwerte_2022/bodenrichtwerte_2022.csv') as f:\n",
    "    bodenrichtwerte=pd.read_csv(f, usecols=[\"gesl\", \"genu\", \"ortst\", \"wnum\", \"gema\", \"flae\", \"typ\", \"brw\", \"nuta\", \"entw\", \"geometrie_wkt\"])\n",
    "bodenrichtwerte.head()\n",
    "\n",
    "# See https://www.laiv-mv.de/Statistik/Zahlen-und-Fakten/Gesellschaft-&-Staat/Bevoelkerung/\n",
    "with urllib.request.urlopen(f'https://www.laiv-mv.de/static/LAIV/Statistik/Dateien/Publikationen/A%20I%20Bev%C3%B6lkerungsstand/A123/2022/A123%202022%2021.xlsx') as f:\n",
    "    bevoelkerung=pd.read_excel(f.read(), sheet_name=\"2\", header=1, usecols=range(7), skiprows=range(2,9)) # choose sheet 2, the first 7 columns, and skip rows 2-9\n",
    "bevoelkerung.columns=[c.replace(\"-\\n\", \"\").replace(\"\\n\", \"\") for c in bevoelkerung.columns] # remove line breaks in the column names\n",
    "bevoelkerung.head()\n",
    "\n",
    "-->"
   ]
  },
  {
   "cell_type": "markdown",
   "id": "7169fe68f4444ba1ba7b15f3e677a9e1",
   "metadata": {
    "slideshow": {
     "slide_type": "skip"
    },
    "tags": [
     "translated_en"
    ],
    "translation": {
     "lang": "de",
     "src_hash": "7c02cdd38a9319a3cfef02fa49c307573eae61c950b0b14ea14278ecf9ff63b8",
     "updated_at_iso": "2025-08-16T17:32:45.808554+00:00"
    }
   },
   "source": [
    "As shown in the previous examples, we can also download and display the data quite simply in Python. For this, we use the CSV format offered on the websites and the Python packages `urllib` and `pandas`. We first open the file from the Internet with `urllib.request.urlopen` and then load it into Pandas as a table with `pd.read_csv(f)`. Finally, we display the first 5 rows of the table with `.head()`."
   ]
  },
  {
   "cell_type": "code",
   "execution_count": null,
   "id": "a8a3ff78877144c9b0096420759813cd",
   "metadata": {
    "slideshow": {
     "slide_type": "skip"
    },
    "tags": [
     "translated_en"
    ],
    "translation": {
     "lang": "de",
     "src_hash": "afdf3647c95a23b8b55c7d9179abd0570b979db2a5d80324aa6cd11a48077074",
     "updated_at_iso": "2025-08-16T17:32:47.964623+00:00"
    }
   },
   "outputs": [],
   "source": [
    "import urllib.request\n",
    "import pandas as pd"
   ]
  },
  {
   "cell_type": "code",
   "execution_count": null,
   "id": "f7f2de3a30c14b1b8d7d666a1cd06d38",
   "metadata": {
    "slideshow": {
     "slide_type": "skip"
    },
    "tags": [
     "output_scroll",
     "translated_en"
    ],
    "translation": {
     "lang": "de",
     "src_hash": "7cf78da369bf6bbaa8b8936be04e98f013ad7bf2f391b0e1df7b301e5f0e8d63",
     "updated_at_iso": "2025-08-16T17:32:56.130803+00:00"
    }
   },
   "outputs": [],
   "source": [
    "# See https://www.opendata-hro.de/dataset/baustellen\n",
    "with urllib.request.urlopen(f'https://geo.sv.rostock.de/download/opendata/baustellen/baustellen.csv') as f:\n",
    "    construction_sites = pd.read_csv(f, usecols=[\"latitude\", \"longitude\", \"strasse_schluessel\", \"sparte\", \"von\", \"nach\", \"baubeginn\", \"bauende\", \"verkehrsbeeintraechtigungen\", \"baumassnahme\"]) #, parse_dates=[\"baubeginn\", \"bauende\"]\n",
    "construction_sites.head()"
   ]
  },
  {
   "cell_type": "code",
   "execution_count": null,
   "id": "f3092ac0828e45daaf8b2b65e4cca05d",
   "metadata": {
    "slideshow": {
     "slide_type": "skip"
    },
    "tags": [
     "output_scroll",
     "translated_en"
    ],
    "translation": {
     "lang": "de",
     "src_hash": "025bf9c9fe4ee53f777f544e75d0aec6f7f4543a92988595389944ce5ac9983d",
     "updated_at_iso": "2025-08-16T17:33:01.690260+00:00"
    }
   },
   "outputs": [],
   "source": [
    "# See https://geo.sv.rostock.de/download/opendata/adressenliste\n",
    "with urllib.request.urlopen(f'https://geo.sv.rostock.de/download/opendata/adressenliste/adressenliste.csv') as f:\n",
    "    address_list = pd.read_csv(f, usecols=[\"municipality_key\", \"subdistrict_name\", \"street_name\", \"street_key\", \"house_number\", \"house_number_suffix\", \"postal_code\"])\n",
    "address_list.head()"
   ]
  },
  {
   "cell_type": "code",
   "execution_count": null,
   "id": "e1c5a957080c4ba9955151c1c8253542",
   "metadata": {
    "slideshow": {
     "slide_type": "skip"
    },
    "tags": [
     "output_scroll",
     "translated_en"
    ],
    "translation": {
     "lang": "de",
     "src_hash": "43e77fa5565fad85e5a695a38c0263542613f542baf9427624c5df8a50f3f6ca",
     "updated_at_iso": "2025-08-16T17:33:08.022209+00:00"
    }
   },
   "outputs": [],
   "source": [
    "# See https://www.opendata-hro.de/dataset/gemeinden_mecklenburg-vorpommern\n",
    "with urllib.request.urlopen(f'https://geo.sv.rostock.de/download/opendata/gemeinden_mecklenburg-vorpommern/gemeinden_mecklenburg-vorpommern.csv') as f:\n",
    "    municipalities = pd.read_csv(f, usecols=[\"kreis_name\", \"kreis_schluessel\", \"gemeindeverband_name\", \"gemeindeverband_schluessel\", \"gemeinde_name\", \"gemeinde_schluessel\", \"st_transform\"])\n",
    "municipalities.head()"
   ]
  },
  {
   "cell_type": "markdown",
   "id": "55a82c2df44143479243f4c632838905",
   "metadata": {
    "slideshow": {
     "slide_type": "skip"
    },
    "tags": [
     "translated_en"
    ],
    "translation": {
     "lang": "de",
     "src_hash": "c547a048bd9a89f1e9e5a06fe9fdee0cac251ffb2a84f912fb8e3b1f33895045",
     "updated_at_iso": "2025-08-16T17:33:12.783815+00:00"
    }
   },
   "source": [
    "When we compare the tables, we find that each has a somewhat different structure and usually provides only part of the information. For example, if we want to know the population density in the city districts with construction sites, that information cannot be derived immediately."
   ]
  },
  {
   "cell_type": "markdown",
   "id": "1c746381012f47658e4464f64a54e512",
   "metadata": {
    "slideshow": {
     "slide_type": "skip"
    },
    "tags": [
     "translated_en"
    ],
    "translation": {
     "lang": "de",
     "src_hash": "33a2e2e5cdd88f7573786f4513a42d059ba6ca2f7805f700bce3ead71f4b485a",
     "updated_at_iso": "2025-08-16T17:33:15.565384+00:00"
    }
   },
   "source": [
    "## Saving Tables to SQLite with Pandas"
   ]
  },
  {
   "cell_type": "markdown",
   "id": "29fb5e06feb1496085d2a2408437b4b6",
   "metadata": {
    "slideshow": {
     "slide_type": "skip"
    },
    "tags": [
     "translated_en"
    ],
    "translation": {
     "lang": "de",
     "src_hash": "bb0e6cb6904e89d2bcbe123ca3876e242c344dec8990b72da66b217d7e0560fc",
     "updated_at_iso": "2025-08-16T17:33:19.506950+00:00"
    }
   },
   "source": [
    "To store this data long-term, we want to set up a database. Since the data already exist as tables, we’ll use a relational database. A very simple, local relational database that runs without a server is SQLite. It is already included in Python. We create a new database by opening a connection to a new database file."
   ]
  },
  {
   "cell_type": "code",
   "execution_count": null,
   "id": "c3a4f5abbdf8464bb70495d96e249309",
   "metadata": {
    "slideshow": {
     "slide_type": "skip"
    },
    "tags": [
     "translated_en"
    ],
    "translation": {
     "lang": "de",
     "src_hash": "39a0273631390c0922b59bd36a2ff0aab5deda39bb627eb7d44c77212fbc5274",
     "updated_at_iso": "2025-08-16T17:33:22.193596+00:00"
    }
   },
   "outputs": [],
   "source": [
    "import sqlite3\n",
    "\n",
    "# Create a SQL connection to our SQLite database\n",
    "con = sqlite3.connect(\"opendatahro.sqlite\")"
   ]
  },
  {
   "cell_type": "markdown",
   "id": "3a9eac0c65bb4ca2956a99471ca8b9e7",
   "metadata": {
    "slideshow": {
     "slide_type": "skip"
    },
    "tags": [
     "translated_en"
    ],
    "translation": {
     "lang": "de",
     "src_hash": "208b045dc4413687ebc2fbf2187eee85f12a058159758980b268d61dd5c1889d",
     "updated_at_iso": "2025-08-16T17:33:26.829833+00:00"
    }
   },
   "source": [
    "We'll explore later how to create tables directly with SQL. Pandas already has this function built in, so we can store our table directly in the SQLite database."
   ]
  },
  {
   "cell_type": "code",
   "execution_count": null,
   "id": "1b0094680bf44cdd89bf2a9e35a39f78",
   "metadata": {
    "slideshow": {
     "slide_type": "skip"
    },
    "tags": [
     "translated_en"
    ],
    "translation": {
     "lang": "de",
     "src_hash": "f53d2e5283e172d795512d80b9ed77e73e544ea662b301df8d1b631aa7cf11b4",
     "updated_at_iso": "2025-08-16T17:33:34.551242+00:00"
    }
   },
   "outputs": [],
   "source": [
    "construction_sites.to_sql(\"baustellen\", con, if_exists=\"replace\")\n",
    "address_list.to_sql(\"adressenliste\", con, if_exists=\"replace\")\n",
    "municipalities.to_sql(\"gemeinden\", con, if_exists=\"replace\")"
   ]
  },
  {
   "cell_type": "markdown",
   "id": "25da0d8a9b8e45af99fe5aee6458be0e",
   "metadata": {
    "slideshow": {
     "slide_type": "skip"
    },
    "tags": [
     "translated_en"
    ],
    "translation": {
     "lang": "de",
     "src_hash": "dd636e24bf394820dbfb4ced87efc9ae228070c8aa953756298efad66ed6fcf4",
     "updated_at_iso": "2025-08-16T17:33:37.575682+00:00"
    }
   },
   "source": [
    "## Querying data from tables using `SELECT`"
   ]
  },
  {
   "cell_type": "markdown",
   "id": "6b347345ee0246dfa36226d641e971eb",
   "metadata": {
    "slideshow": {
     "slide_type": "skip"
    },
    "tags": [
     "translated_en"
    ],
    "translation": {
     "lang": "de",
     "src_hash": "c9a56355e60de6c94791f6808d0169b5d14b4bfaf78a045848610315b91e62ca",
     "updated_at_iso": "2025-08-16T17:33:45.740948+00:00"
    }
   },
   "source": [
    "SQL is the standard language for working with relational databases. It offers various commands to define tables, store data in them, and query the data. The latter is done with the `SELECT` command. SQL is somewhat oriented toward natural language. In SQL, you basically query data from a specific table (`FROM`). For example, to query all columns from a table, we use the command with the wildcard `*` (i.e., all columns)."
   ]
  },
  {
   "cell_type": "code",
   "execution_count": null,
   "id": "e714e99f5d19461cac171664104775f1",
   "metadata": {
    "slideshow": {
     "slide_type": "skip"
    },
    "tags": [
     "translated_en"
    ],
    "translation": {
     "lang": "de",
     "src_hash": "8c2fe245fdb83361964c3e1bdcd3e9020805152971dceb937fa89e5d3ba50bb6",
     "updated_at_iso": "2025-08-16T17:33:48.795150+00:00"
    }
   },
   "outputs": [],
   "source": [
    "sql='SELECT * FROM baustellen;'"
   ]
  },
  {
   "cell_type": "markdown",
   "id": "b122817a6746477993e9e54e838e0cc3",
   "metadata": {
    "slideshow": {
     "slide_type": "skip"
    },
    "tags": [
     "translated_en"
    ],
    "translation": {
     "lang": "de",
     "src_hash": "c524b4c65fb40eb056ef27865041f94d47ee196e7c0d0e0ebaf00c759aad0589",
     "updated_at_iso": "2025-08-16T17:33:53.301568+00:00"
    }
   },
   "source": [
    "To send the SQL command to the database, we create a new cursor `cur` from our database connection `con`. With `cur.execute(sql)` we execute the SQL command, and the database starts sending back all the results of the query to us, row by row. The cursor always points to the current row. This is meant to avoid sending all data—which can be a very large number of rows—at once and thereby potentially overloading the network or the program."
   ]
  },
  {
   "cell_type": "code",
   "execution_count": null,
   "id": "165dfce6008c43c6a83a148324b191c5",
   "metadata": {
    "slideshow": {
     "slide_type": "skip"
    },
    "tags": [
     "output_scroll",
     "translated_en"
    ],
    "translation": {
     "lang": "de",
     "src_hash": "25918f1f513d3aa2b645f1c63c88d498bac8d55aadd5858d5946e4725c4955bb",
     "updated_at_iso": "2025-08-16T17:33:56.455217+00:00"
    }
   },
   "outputs": [],
   "source": [
    "cur = con.cursor()\n",
    "\n",
    "rows=cur.execute(sql)\n",
    "for row in rows:\n",
    "    print(row)\n",
    "print(type(row))"
   ]
  },
  {
   "cell_type": "markdown",
   "id": "b229ed7aa8234e3c839c51072e457f87",
   "metadata": {
    "slideshow": {
     "slide_type": "skip"
    },
    "tags": [
     "translated_en"
    ],
    "translation": {
     "lang": "de",
     "src_hash": "4dfdea4356484523bd6cf10b50cd6e91f2aa5ecd1e7b26a65d3dd99ea5bdb48e",
     "updated_at_iso": "2025-08-16T17:34:01.667397+00:00"
    }
   },
   "source": [
    "As we can see, we get each row back as a tuple. In this case, we do not know the column names of the values. We can query them from the cursor with"
   ]
  },
  {
   "cell_type": "code",
   "execution_count": null,
   "id": "2a1b93256a244cb88e86e2a63ec1c240",
   "metadata": {
    "slideshow": {
     "slide_type": "skip"
    },
    "tags": [
     "translated_en"
    ],
    "translation": {
     "lang": "de",
     "src_hash": "a093afc93aed9e422ba8ed234aeb5f55270062e257b929b3aeb77cc35bbec5b4",
     "updated_at_iso": "2025-08-16T17:34:03.874316+00:00"
    }
   },
   "outputs": [],
   "source": [
    "cur.description"
   ]
  },
  {
   "cell_type": "markdown",
   "id": "a3ec24895d4c4cfc8e2e0dfc65916b01",
   "metadata": {
    "slideshow": {
     "slide_type": "skip"
    },
    "tags": [
     "translated_en"
    ],
    "translation": {
     "lang": "de",
     "src_hash": "01cd000c914bc894d060d7920cd647c071fad7a66927cceb28c8ad03c54ef033",
     "updated_at_iso": "2025-08-16T17:34:09.070032+00:00"
    }
   },
   "source": [
    "Typically, you don't fetch all columns of a table using the wildcard `*`, but instead specify the columns you want to receive. This way you can avoid unnecessary data transfer."
   ]
  },
  {
   "cell_type": "code",
   "execution_count": null,
   "id": "e8260ad79d0043d8883f7234dc393543",
   "metadata": {
    "slideshow": {
     "slide_type": "skip"
    },
    "tags": [
     "output_scroll",
     "translated_en"
    ],
    "translation": {
     "lang": "de",
     "src_hash": "6e6f2109fc83aa9b574348c166f244d4eaf2d6c5cbca6db9cba69650140c556b",
     "updated_at_iso": "2025-08-16T17:34:13.267695+00:00"
    }
   },
   "outputs": [],
   "source": [
    "sql='SELECT strasse_schluessel, sparte, latitude, longitude, baumassnahme FROM baustellen;'\n",
    "for row in cur.execute(sql):\n",
    "    print(row)"
   ]
  },
  {
   "cell_type": "markdown",
   "id": "41f5255f636a451ba4fd6d1b64357b49",
   "metadata": {
    "slideshow": {
     "slide_type": "skip"
    },
    "tags": [
     "translated_en"
    ],
    "translation": {
     "lang": "de",
     "src_hash": "08f7b89a559a61df7ee9ea710a5e3b9c8338d0a4f0c04e9d730045eca92043fc",
     "updated_at_iso": "2025-08-16T17:34:15.340012+00:00"
    }
   },
   "source": [
    "## Filtering results with `WHERE`"
   ]
  },
  {
   "cell_type": "markdown",
   "id": "51dc86ca3c284f0c9be4469e46396908",
   "metadata": {
    "slideshow": {
     "slide_type": "skip"
    },
    "tags": [
     "translated_en"
    ],
    "translation": {
     "lang": "de",
     "src_hash": "185a499e3ee69c43350b5ea00612347b08fd9be5c25b15cb7e4ca9fd46f2d4d0",
     "updated_at_iso": "2025-08-16T17:34:21.466914+00:00"
    }
   },
   "source": [
    "Often you want to retrieve only certain rows from a table in a database. This selection is defined using the SQL command `WHERE` and additional logical comparison operators.\n",
    "\n",
    "For example, if we want only the construction sites that have a construction start date in 2023, we can define"
   ]
  },
  {
   "cell_type": "code",
   "execution_count": null,
   "id": "25444a19e2e94e7aaa49dddbb61ec2c8",
   "metadata": {
    "slideshow": {
     "slide_type": "skip"
    },
    "tags": [
     "output_scroll",
     "translated_en"
    ],
    "translation": {
     "lang": "de",
     "src_hash": "36e97aeeeb7577d5671343685fba339c90302cea924c6f4b9ca2870375029610",
     "updated_at_iso": "2025-08-16T17:34:26.325714+00:00"
    }
   },
   "outputs": [],
   "source": [
    "sql='''SELECT strasse_schluessel, sparte, latitude, longitude, baumassnahme, baubeginn, bauende\n",
    "       FROM baustellen\n",
    "       WHERE baubeginn >= '2023-01-01 00:00:00+01';'''\n",
    "for row in cur.execute(sql):\n",
    "    print(row)"
   ]
  },
  {
   "cell_type": "markdown",
   "id": "8a5e372b829c42e4a19b90574b431947",
   "metadata": {
    "slideshow": {
     "slide_type": "skip"
    },
    "tags": [
     "translated_en"
    ],
    "translation": {
     "lang": "de",
     "src_hash": "17a9ddcfff59e8176aa9d61d6728d73222dd173e9e259d2c57b096b2f63dc502",
     "updated_at_iso": "2025-08-16T17:34:35.287317+00:00"
    }
   },
   "source": [
    "Multiple conditions can be combined using logical operators such as 'AND', 'OR' or 'NOT'. If we want all construction sites that started and were completed in the first quarter of 2023, we write it like this"
   ]
  },
  {
   "cell_type": "code",
   "execution_count": null,
   "id": "e30f2815192545fc9a516c0606856d7a",
   "metadata": {
    "slideshow": {
     "slide_type": "skip"
    },
    "tags": [
     "translated_en"
    ],
    "translation": {
     "lang": "de",
     "src_hash": "5b8fd84085f06a3721acce6a41cad7132c14bd1bfffdc1bad33cf90e0f9dfddb",
     "updated_at_iso": "2025-08-16T17:34:40.417222+00:00"
    }
   },
   "outputs": [],
   "source": [
    "sql='''SELECT strasse_schluessel, sparte, latitude, longitude, baumassnahme, baubeginn, bauende\n",
    "       FROM baustellen\n",
    "       WHERE baubeginn >= '2023-01-01 00:00:00+01' AND bauende < '2024-04-01 00:00:00+01';'''\n",
    "for row in cur.execute(sql):\n",
    "    print(row)"
   ]
  },
  {
   "cell_type": "markdown",
   "id": "b32ebc2ad2d4435a89edae169a602dce",
   "metadata": {
    "slideshow": {
     "slide_type": "skip"
    },
    "tags": [
     "translated_en"
    ],
    "translation": {
     "lang": "de",
     "src_hash": "59f106e44998a8db8462f94a970d3b70c7f2916c36523dc8bba91eb6f4652c9a",
     "updated_at_iso": "2025-08-16T17:34:44.309448+00:00"
    }
   },
   "source": [
    "## Data Aggregation"
   ]
  },
  {
   "cell_type": "markdown",
   "id": "dbe08ffb699f47a993f0d27f4bbced80",
   "metadata": {
    "slideshow": {
     "slide_type": "skip"
    },
    "tags": [
     "translated_en"
    ],
    "translation": {
     "lang": "de",
     "src_hash": "7bff6cd9e6a093d02cde3608a82715162ccd1cd50afeb45ebbb21c40e8fe4c4f",
     "updated_at_iso": "2025-08-16T17:34:48.408435+00:00"
    }
   },
   "source": [
    "Since the results are delivered row by row, the total number of results isn't necessarily known in advance. Therefore, all relational databases support the aggregate function `count(*)` to return the number of rows in the result set."
   ]
  },
  {
   "cell_type": "code",
   "execution_count": null,
   "id": "4b76083986b74b17996bcb67c120bd11",
   "metadata": {
    "slideshow": {
     "slide_type": "skip"
    },
    "tags": [
     "translated_en"
    ],
    "translation": {
     "lang": "de",
     "src_hash": "84a804de1f710b7aa406d9a4d5f9c5a9f91c60f08fdb8221fde8278c2eae34cf",
     "updated_at_iso": "2025-08-16T17:34:54.530761+00:00"
    }
   },
   "outputs": [],
   "source": [
    "sql='SELECT count(*) FROM baustellen;'\n",
    "\n",
    "for row in cur.execute(sql):\n",
    "    print(row)"
   ]
  },
  {
   "cell_type": "markdown",
   "id": "8453604bba644c1a8853a494405356a1",
   "metadata": {
    "slideshow": {
     "slide_type": "skip"
    },
    "tags": [
     "translated_en"
    ],
    "translation": {
     "lang": "de",
     "src_hash": "5a4913c39b2bb6bb850605e7ce0dd3b8b7700bb2345c1c39d299de7f9d73dfee",
     "updated_at_iso": "2025-08-16T17:34:56.886932+00:00"
    }
   },
   "source": [
    "Here we only get back a single result line with the number of rows in the table."
   ]
  },
  {
   "cell_type": "markdown",
   "id": "3af453d5e8e24b98a901ef55fc1a1906",
   "metadata": {
    "slideshow": {
     "slide_type": "skip"
    },
    "tags": [
     "translated_en"
    ],
    "translation": {
     "lang": "de",
     "src_hash": "9325557e397036b40489900e33ee595112c5a60fad669361058af6fd7cc69c65",
     "updated_at_iso": "2025-08-16T17:35:02.213320+00:00"
    }
   },
   "source": [
    "In addition, SQL supports many aggregate functions. For example, if we want to identify the earliest construction start date for all sites in our sample dataset, we use the `min()` function with the corresponding column name."
   ]
  },
  {
   "cell_type": "code",
   "execution_count": null,
   "id": "505480a53da444feb0e6d25ae6b61028",
   "metadata": {
    "slideshow": {
     "slide_type": "skip"
    },
    "tags": [
     "translated_en"
    ],
    "translation": {
     "lang": "de",
     "src_hash": "44edc998b1a18d3bb58170e6a5e7b9370cb4aa86bd4c7db1468fa65d44d578e2",
     "updated_at_iso": "2025-08-16T17:35:06.853407+00:00"
    }
   },
   "outputs": [],
   "source": [
    "sql='SELECT min(baubeginn) FROM baustellen;'\n",
    "\n",
    "for row in cur.execute(sql):\n",
    "    print(row)"
   ]
  },
  {
   "cell_type": "markdown",
   "id": "bdc302baccff4e40babc83f08ef7525a",
   "metadata": {
    "slideshow": {
     "slide_type": "skip"
    },
    "tags": [
     "translated_en"
    ],
    "translation": {
     "lang": "de",
     "src_hash": "08fe61d1ecd095bc7f5ba737ff00e99e504a1193a90d4412aa0d11477aaeb9d0",
     "updated_at_iso": "2025-08-16T17:35:16.139600+00:00"
    }
   },
   "source": [
    "We again obtain a result that includes the date. The key is that these aggregate functions are executed directly in the database. So we do not have to download all the data to obtain simple metrics such as the count, the minimum, or the maximum of columns. In doing so, we can also perform multiple aggregations in a single query and perform mathematical calculations. The following example gives us the number of construction sites as well as the earliest start date and the latest end date, along with the construction duration. We calculate the construction duration directly in the database as the arithmetic average `avg` of the difference between end date and start date in days in the Julian calendar."
   ]
  },
  {
   "cell_type": "code",
   "execution_count": null,
   "id": "02050fa5d1e64e66becf3ae5872f9084",
   "metadata": {
    "slideshow": {
     "slide_type": "skip"
    },
    "tags": [
     "translated_en"
    ],
    "translation": {
     "lang": "de",
     "src_hash": "4c7318f867aa8a6bf429245e674cd855a1da5c93ddd59efe2fd1a09e9a1b374a",
     "updated_at_iso": "2025-08-16T17:35:20.750293+00:00"
    }
   },
   "outputs": [],
   "source": [
    "sql='''SELECT sparte, count(*), min(baubeginn), max(bauende), avg(JulianDay(bauende)-JulianDay(baubeginn))\n",
    "       FROM baustellen;'''\n",
    "\n",
    "for row in cur.execute(sql):\n",
    "    print(row)"
   ]
  },
  {
   "cell_type": "markdown",
   "id": "9af35a053b8145a09ef24424bea7a30c",
   "metadata": {
    "slideshow": {
     "slide_type": "skip"
    },
    "tags": [
     "translated_en"
    ],
    "translation": {
     "lang": "de",
     "src_hash": "858165050eb8204bd96f0760ae6b590ee174c1b5894116797e6a39ab70d14283",
     "updated_at_iso": "2025-08-16T17:35:22.927787+00:00"
    }
   },
   "source": [
    "## Extracting Statistics with Group Aggregation, Sorting, and Limiting"
   ]
  },
  {
   "cell_type": "markdown",
   "id": "3ea479d0c000442fb269d71b66358854",
   "metadata": {
    "slideshow": {
     "slide_type": "skip"
    },
    "tags": [
     "translated_en"
    ],
    "translation": {
     "lang": "de",
     "src_hash": "78c66c5bb33794a6940190f3463a8b6c578627195cff728a8df26f89780d1364",
     "updated_at_iso": "2025-08-16T17:35:33.242366+00:00"
    }
   },
   "source": [
    "The last example already shows how we can use SQL to calculate statistics of data in a database. This becomes especially interesting when we combine it with grouping. Groupings aggregate the queried rows in the table along the specified column names into groups. If, for example, we want to know the average construction duration per `sparte`, we can group by this column and determine the average duration for each group. For this, SQL provides the `GROUP BY` clause, with which we specify the column by which to group."
   ]
  },
  {
   "cell_type": "code",
   "execution_count": null,
   "id": "6491492427af4ef08ec4eb47ad991183",
   "metadata": {
    "slideshow": {
     "slide_type": "skip"
    },
    "tags": [
     "translated_en"
    ],
    "translation": {
     "lang": "de",
     "src_hash": "63725c24a0ea234a8257ea48c3e610e2b9078d99fa5cc012377459b91d2a5211",
     "updated_at_iso": "2025-08-16T17:35:38.262115+00:00"
    }
   },
   "outputs": [],
   "source": [
    "sql='''SELECT sparte, count(*), min(baubeginn), max(bauende), avg(JulianDay(bauende)-JulianDay(baubeginn))\n",
    "       FROM baustellen \n",
    "       GROUP BY sparte;'''\n",
    "\n",
    "for row in cur.execute(sql):\n",
    "    print(row)"
   ]
  },
  {
   "cell_type": "markdown",
   "id": "ad092d45c82040f7b0325d53f76cf694",
   "metadata": {
    "slideshow": {
     "slide_type": "skip"
    },
    "tags": [
     "translated_en"
    ],
    "translation": {
     "lang": "de",
     "src_hash": "9d2aca31b5b4c83d24f9acc04d9fd54a597d94666bfe9a6e8c687866cfc7cc83",
     "updated_at_iso": "2025-08-16T17:35:49.417603+00:00"
    }
   },
   "source": [
    "We now see that 'Hochbau' forms the largest group with 29 lines (construction sites), followed by Straßenbau with 14 lines. Hochbau requires Hochbau with 507 days, almost twice as long as Straßenbau with 274 days.\n",
    "\n",
    "(As we pull the data daily from Opendata-HRO, these sample numbers may indeed change over time.)"
   ]
  },
  {
   "cell_type": "markdown",
   "id": "6eb317f58ffc4948b225d737ef94892a",
   "metadata": {
    "slideshow": {
     "slide_type": "skip"
    },
    "tags": [
     "translated_en"
    ],
    "translation": {
     "lang": "de",
     "src_hash": "8926c8117009f36ae8f62c44bbbeaf2f6ab3cb6f1aa266858f0b62a0e724345d",
     "updated_at_iso": "2025-08-16T17:35:53.340257+00:00"
    }
   },
   "source": [
    "To sort the results, SQL provides the `ORDER BY` clause. If we want to sort the results by duration in descending order (`DESC`), we write:"
   ]
  },
  {
   "cell_type": "code",
   "execution_count": null,
   "id": "ffbff6e362554cbfbd94687efff78bb0",
   "metadata": {
    "slideshow": {
     "slide_type": "skip"
    },
    "tags": [
     "translated_en"
    ],
    "translation": {
     "lang": "de",
     "src_hash": "d594b8c1a0e100de411ddcb92716875acaaecad1ae75f23f05db03015989322f",
     "updated_at_iso": "2025-08-16T17:35:58.896102+00:00"
    }
   },
   "outputs": [],
   "source": [
    "sql='''SELECT sparte, count(*), min(baubeginn), max(bauende), avg(JulianDay(bauende)-JulianDay(baubeginn)) as Baudauer \n",
    "       FROM baustellen \n",
    "       GROUP BY sparte\n",
    "       ORDER BY Baudauer DESC;'''  # ASC - Ascending, DESC - Descending\n",
    "\n",
    "for row in cur.execute(sql):\n",
    "    print(row)"
   ]
  },
  {
   "cell_type": "markdown",
   "id": "acb4d6f31fbc483c8f53fb489245b571",
   "metadata": {
    "slideshow": {
     "slide_type": "skip"
    },
    "tags": [
     "translated_en"
    ],
    "translation": {
     "lang": "de",
     "src_hash": "b5b87a683cc52d3f027237a8bd61e317af6ce4880c08b889e6a594f6724773b8",
     "updated_at_iso": "2025-08-16T17:36:03.652662+00:00"
    }
   },
   "source": [
    "If we're only interested in the top 3, we can use `LIMIT` to cap the number of results returned."
   ]
  },
  {
   "cell_type": "code",
   "execution_count": null,
   "id": "71719e4329f44bbf85ff9685991b043f",
   "metadata": {
    "slideshow": {
     "slide_type": "skip"
    },
    "tags": [
     "translated_en"
    ],
    "translation": {
     "lang": "de",
     "src_hash": "f04fccb55b6ea49992e07bd8023f356108ec6fd7624d12bb475305d7043ea33d",
     "updated_at_iso": "2025-08-16T17:36:08.152947+00:00"
    }
   },
   "outputs": [],
   "source": [
    "sql='''SELECT sparte, count(*), min(baubeginn), max(bauende), avg(JulianDay(bauende)-JulianDay(baubeginn)) as Baudauer \n",
    "       FROM baustellen \n",
    "       GROUP BY sparte\n",
    "       ORDER BY Baudauer DESC\n",
    "       LIMIT 3;'''\n",
    "\n",
    "for row in cur.execute(sql):\n",
    "    print(row)"
   ]
  },
  {
   "cell_type": "markdown",
   "id": "a0850869578f4776863b69356bbba3c1",
   "metadata": {
    "slideshow": {
     "slide_type": "skip"
    },
    "tags": [
     "translated_en"
    ],
    "translation": {
     "lang": "de",
     "src_hash": "0254bc9253395e921758f2ff6fbb304f600f2050ce5e4febb9a54a6b00456589",
     "updated_at_iso": "2025-08-16T17:36:10.615699+00:00"
    }
   },
   "source": [
    "## Joining data from multiple tables and querying at the same time with `JOIN`"
   ]
  },
  {
   "cell_type": "markdown",
   "id": "a69c34483ce3487cad2d36a2d27d3d22",
   "metadata": {
    "slideshow": {
     "slide_type": "skip"
    },
    "tags": [
     "translated_en"
    ],
    "translation": {
     "lang": "de",
     "src_hash": "aaeb012c372bde1ede21b1ab6d02f9fbe6d15b29d260ed66c2239a1f7ae2d306",
     "updated_at_iso": "2025-08-16T17:36:19.792906+00:00"
    }
   },
   "source": [
    "In our example we don’t know the street names of the construction site, only an obscure ID called `strasse_schluessel`. We also find this in the `adressenliste` table together with the desired street name. So we must now perform a query across both tables jointly in order to also learn the street for the construction sites. To do this one uses the SQL command `JOIN` and specifies where (`WHERE`) the results should be joined by providing an equality condition. Since the column `strasse_schluessel` appears in both tables and it isn’t entirely clear which one it refers to, you now also qualify the column names with the table using dot notation, i.e.:"
   ]
  },
  {
   "cell_type": "code",
   "execution_count": null,
   "id": "4c43f415dc6a4dce80f80603e21b65a2",
   "metadata": {
    "slideshow": {
     "slide_type": "skip"
    },
    "tags": [
     "output_scroll",
     "translated_en"
    ],
    "translation": {
     "lang": "de",
     "src_hash": "b301beb47ca80356d6c570cb799449316d3ced2f1cc6b78fae7bad7cf8b45f07",
     "updated_at_iso": "2025-08-16T17:36:25.770176+00:00"
    }
   },
   "outputs": [],
   "source": [
    "sql='''SELECT baustellen.strasse_schluessel, baustellen.sparte, baustellen.latitude, baustellen.longitude, baustellen.baumassnahme, baustellen.baubeginn, baustellen.bauende, \n",
    "              adressenliste.gemeindeteil_name, adressenliste.strasse_name \n",
    "       FROM baustellen \n",
    "       JOIN adressenliste \n",
    "       WHERE baustellen.strasse_schluessel=adressenliste.strasse_schluessel;'''\n",
    "for row in cur.execute(sql):\n",
    "    print(row)"
   ]
  },
  {
   "cell_type": "markdown",
   "id": "ff4a8e01d0b34c18940e148a0ef0af76",
   "metadata": {
    "slideshow": {
     "slide_type": "skip"
    },
    "tags": [
     "translated_en"
    ],
    "translation": {
     "lang": "de",
     "src_hash": "7bad4aa8956b1afe64797f389dbb5389ed76403131cbe074860ea22eb63a98fa",
     "updated_at_iso": "2025-08-16T17:36:30.359147+00:00"
    }
   },
   "source": [
    "Since constantly repeating table names is very tedious to type, SQL also lets you use shorter names for columns and tables with the `AS` keyword."
   ]
  },
  {
   "cell_type": "code",
   "execution_count": null,
   "id": "18e2cf0423bf425594c4ff2fe5ad8589",
   "metadata": {
    "slideshow": {
     "slide_type": "skip"
    },
    "tags": [
     "output_scroll",
     "translated_en"
    ],
    "translation": {
     "lang": "de",
     "src_hash": "cb0b444c6ee6a5752fdaa1151e6813a7ce2304173fc118a95a2081f6ca9d1a8e",
     "updated_at_iso": "2025-08-16T17:36:35.840802+00:00"
    }
   },
   "outputs": [],
   "source": [
    "sql='''SELECT b.strasse_schluessel, b.sparte, b.latitude, b.longitude, b.baumassnahme, b.baubeginn, b.bauende, \n",
    "              a.gemeindeteil_name, a.strasse_name \n",
    "       FROM baustellen AS b \n",
    "       JOIN adressenliste AS a\n",
    "       WHERE b.strasse_schluessel=a.strasse_schluessel;'''\n",
    "for row in cur.execute(sql):\n",
    "    print(row)"
   ]
  },
  {
   "cell_type": "markdown",
   "id": "524badf79e4e45ff93168dd6658b013d",
   "metadata": {
    "slideshow": {
     "slide_type": "skip"
    },
    "tags": [
     "translated_en"
    ],
    "translation": {
     "lang": "de",
     "src_hash": "030d433e815bb2e205d24e2d9039dbe8f1f3bf586cbeb13861e214dfcecc7fc2",
     "updated_at_iso": "2025-08-16T17:36:40.746804+00:00"
    }
   },
   "source": [
    "However, there are now too many duplicates in our results, because each result row from the table `baustellen` is joined with every row from the table `adressenliste`, since in the latter a street with the same `strasse_schluessel` occurs multiple times. We want to filter out these duplicates using the SQL command `DISTINCT`."
   ]
  },
  {
   "cell_type": "code",
   "execution_count": null,
   "id": "5e2429fda8e641baa22bf0b4d84addc5",
   "metadata": {
    "slideshow": {
     "slide_type": "skip"
    },
    "tags": [
     "output_scroll",
     "translated_en"
    ],
    "translation": {
     "lang": "de",
     "src_hash": "478aef69d017cdcf3cb23ee00ae913ec35c784cf23ab51c348f58ab9d07431e1",
     "updated_at_iso": "2025-08-16T17:36:45.750008+00:00"
    }
   },
   "outputs": [],
   "source": [
    "sql='''SELECT DISTINCT b.strasse_schluessel, b.sparte, b.latitude, b.longitude, b.baumassnahme, a.gemeindeteil_name, a.strasse_name \n",
    "       FROM baustellen AS b\n",
    "       JOIN adressenliste AS a\n",
    "       WHERE b.strasse_schluessel=a.strasse_schluessel;'''\n",
    "for row in cur.execute(sql):\n",
    "    print(row)"
   ]
  },
  {
   "cell_type": "markdown",
   "id": "3abdb1b8da054cd5ba53257a4dae4da9",
   "metadata": {
    "slideshow": {
     "slide_type": "skip"
    },
    "tags": [
     "translated_en"
    ],
    "translation": {
     "lang": "de",
     "src_hash": "b5d3866219c4a1d5bf421e754fa6b5cd6f5903051c39647788eda1110318d354",
     "updated_at_iso": "2025-08-16T17:36:56.071186+00:00"
    }
   },
   "source": [
    "Now we already know the correct street name for every construction site, but we are missing the municipality. To address this, we link the data to the table `gemeinden`. For this, we include the additional table in the `JOIN` and define the further join condition on the column `gemeinde_schluessel`."
   ]
  },
  {
   "cell_type": "code",
   "execution_count": null,
   "id": "d151679e3a30405880160f4fdf6221b7",
   "metadata": {
    "slideshow": {
     "slide_type": "skip"
    },
    "tags": [
     "output_scroll",
     "translated_en"
    ],
    "translation": {
     "lang": "de",
     "src_hash": "a3dd3d094130ab92dd1ee91c9b306c9dad5c82dfc2506c955945246665ab7293",
     "updated_at_iso": "2025-08-16T17:37:02.244210+00:00"
    }
   },
   "outputs": [],
   "source": [
    "sql='''SELECT DISTINCT b.strasse_schluessel, b.sparte, b.latitude, b.longitude, b.baumassnahme, a.gemeindeteil_name, a.strasse_name, g.gemeinde_name\n",
    "       FROM baustellen AS b\n",
    "       JOIN adressenliste AS a, gemeinden AS g\n",
    "       WHERE b.strasse_schluessel=a.strasse_schluessel AND a.gemeinde_schluessel=g.gemeinde_schluessel;'''\n",
    "for row in cur.execute(sql):\n",
    "    print(row)"
   ]
  },
  {
   "cell_type": "markdown",
   "id": "73145106c2e742b6b634985ef6b73c50",
   "metadata": {
    "slideshow": {
     "slide_type": "skip"
    },
    "tags": [
     "translated_en"
    ],
    "translation": {
     "lang": "de",
     "src_hash": "c2d2cdfc05604c74d9abd66959346a210ac7a4343b8a397ac935360368318af9",
     "updated_at_iso": "2025-08-16T17:37:12.497812+00:00"
    }
   },
   "source": [
    "There are [different types of joins](https://www.w3schools.com/sql/sql_join.asp) depending on whether you want only the results for which there are:\n",
    "- Entries exist in both tables (INNER, Default)\n",
    "- Entries exist in at least the first table (RIGHT)\n",
    "- Entries exist in at least the second table (LEFT)\n",
    "- Entries exist in at least the second table (OUTER)\n",
    "\n",
    "The `NATURAL JOIN` types simplify the writing. In a `NATURAL JOIN`, the columns are matched that have identical names. It thus only works if the columns in the tables being joined have identical names and all other columns have different names, which is somewhat less common."
   ]
  },
  {
   "cell_type": "code",
   "execution_count": null,
   "id": "366107794b584449b2cde5310f990148",
   "metadata": {
    "slideshow": {
     "slide_type": "skip"
    },
    "tags": [
     "output_scroll",
     "translated_en"
    ],
    "translation": {
     "lang": "de",
     "src_hash": "27b3c11ad5d126f2427122c4f13cdd92dc8345265fba7ce84f2e0e7252f2e4a2",
     "updated_at_iso": "2025-08-16T17:37:16.290033+00:00"
    }
   },
   "outputs": [],
   "source": [
    "sqlNJ='''SELECT DISTINCT strasse_schluessel, sparte, latitude, longitude, baumassnahme, gemeindeteil_name, strasse_name, gemeinde_name\n",
    "       FROM baustellen\n",
    "       NATURAL JOIN adressenliste, gemeinden;'''\n",
    "for row in cur.execute(sqlNJ):\n",
    "    print(row)"
   ]
  },
  {
   "cell_type": "markdown",
   "id": "5666d226eee040699346dfeca898c88e",
   "metadata": {
    "slideshow": {
     "slide_type": "skip"
    },
    "tags": [
     "translated_en"
    ],
    "translation": {
     "lang": "de",
     "src_hash": "98e3e5a65403c96254810a39bea02f2a9ceeeb1254d100df0f83d6b4cfbf7dc3",
     "updated_at_iso": "2025-08-16T17:37:22.263704+00:00"
    }
   },
   "source": [
    ":::{warning}\n",
    "It doesn't work in this example either. Some results are indeed returned, but noticeably more than in the last join. The municipalities are cross-joined here. Thus, the `NATURAL JOIN` should be used with caution.\n",
    ":::"
   ]
  },
  {
   "cell_type": "markdown",
   "id": "78fd4e861182407abebbd2271833f7d9",
   "metadata": {
    "slideshow": {
     "slide_type": "skip"
    },
    "tags": [
     "translated_en"
    ],
    "translation": {
     "lang": "de",
     "src_hash": "31c783ba9706695938a7a69e05a4b909495af07e49de1377a057b316b760ffd1",
     "updated_at_iso": "2025-08-16T17:37:25.196598+00:00"
    }
   },
   "source": [
    "## Query data with SQL and Pandas and visualize with GeoJSON"
   ]
  },
  {
   "cell_type": "markdown",
   "id": "c173c87d552044b9b4add35780ff86c7",
   "metadata": {
    "slideshow": {
     "slide_type": "skip"
    },
    "tags": [
     "translated_en"
    ],
    "translation": {
     "lang": "de",
     "src_hash": "4f7ddebeca6473c5d6b850f11c18eb518b9a6bf79f4a8940b376247703a371b4",
     "updated_at_iso": "2025-08-16T17:37:32.823535+00:00"
    }
   },
   "source": [
    "We already created the tables in the SQLite database at the start using Pandas. We can also use Pandas to load data from a SQL query directly into a DataFrame (Pandas table).\n",
    "\n",
    "Let's combine the examples and display all construction sites with street and municipality in the first quarter of 2023 on a map. The SQL query for this looks as follows:"
   ]
  },
  {
   "cell_type": "code",
   "execution_count": null,
   "id": "8a89922fad7a43df8958ff543b85c404",
   "metadata": {
    "slideshow": {
     "slide_type": "skip"
    },
    "tags": [
     "translated_en"
    ],
    "translation": {
     "lang": "de",
     "src_hash": "b79e85071ca9ba7f6ab232fdcbbdd909acc3abbf74792a46038c4d3779999de9",
     "updated_at_iso": "2025-08-16T17:37:39.244484+00:00"
    }
   },
   "outputs": [],
   "source": [
    "sql='''SELECT DISTINCT b.strasse_schluessel, b.sparte, b.latitude, b.longitude, b.baumassnahme, b.baubeginn, b.bauende, a.gemeindeteil_name, a.strasse_name, g.gemeinde_name\n",
    "       FROM baustellen AS b\n",
    "       JOIN adressenliste AS a, gemeinden AS g\n",
    "       WHERE b.strasse_schluessel=a.strasse_schluessel AND a.gemeinde_schluessel=g.gemeinde_schluessel\n",
    "         AND b.baubeginn >= '2023-01-01 00:00:00+01' AND b.bauende < '2024-04-01 00:00:00+01';'''"
   ]
  },
  {
   "cell_type": "markdown",
   "id": "b1825a5b523e42b5b027e1f17233e3c0",
   "metadata": {
    "slideshow": {
     "slide_type": "skip"
    },
    "tags": [
     "translated_en"
    ],
    "translation": {
     "lang": "de",
     "src_hash": "b303308c5c6243b498b7c8c183e6f92c564e472371ceff75331f3cc75220ff2a",
     "updated_at_iso": "2025-08-16T17:37:43.617878+00:00"
    }
   },
   "source": [
    "We execute the SQL query directly using the Pandas function `pd.read_sql(sql, con)` and generate a DataFrame containing the data we want."
   ]
  },
  {
   "cell_type": "code",
   "execution_count": null,
   "id": "edbe84f9a2d34545acdf3e3a9e3c7b67",
   "metadata": {
    "slideshow": {
     "slide_type": "skip"
    },
    "tags": [
     "output_scroll",
     "translated_en"
    ],
    "translation": {
     "lang": "de",
     "src_hash": "13b4411417fe3798f2dcdd1030c3155049eb65f3a43b8cfc2c05ab57d749d4fe",
     "updated_at_iso": "2025-08-16T17:37:47.226947+00:00"
    }
   },
   "outputs": [],
   "source": [
    "construction_sites_with_street = pd.read_sql(sql, con)\n",
    "construction_sites_with_street"
   ]
  },
  {
   "cell_type": "markdown",
   "id": "650fc2a05a3a484f991ea6e9c0ca4073",
   "metadata": {
    "slideshow": {
     "slide_type": "skip"
    },
    "tags": [
     "translated_en"
    ],
    "translation": {
     "lang": "de",
     "src_hash": "ee8fc2b75b524d03b652436b521c0c5b9ce2a886c5bf549b2b657c345da5e832",
     "updated_at_iso": "2025-08-16T17:37:51.291341+00:00"
    }
   },
   "source": [
    "The table already contains the latitude and longitude. With the `pandas_geojson` package, we can convert the DataFrame into a GeoJSON FeatureCollection. We first install the package with pip."
   ]
  },
  {
   "cell_type": "code",
   "execution_count": null,
   "id": "c8c5e2660809427b890e2704dbd40166",
   "metadata": {
    "slideshow": {
     "slide_type": "skip"
    },
    "tags": [
     "translated_en"
    ],
    "translation": {
     "lang": "de",
     "src_hash": "4e8b2a7f3c510a9a2dc624272cef022eb5a87077c271e25e655e616fd93e5aed",
     "updated_at_iso": "2025-08-16T17:37:55.033428+00:00"
    }
   },
   "outputs": [],
   "source": [
    "Please provide the Python code snippet that contains German variable names, function/class names, docstrings, and inline comments for translation. The command you posted ('pip install pandas_geojson --quiet') is not Python code to translate."
   ]
  },
  {
   "cell_type": "code",
   "execution_count": null,
   "id": "0ac8ee4dfc3747e6980da720cac8db61",
   "metadata": {
    "slideshow": {
     "slide_type": "skip"
    },
    "tags": [
     "translated_en"
    ],
    "translation": {
     "lang": "de",
     "src_hash": "aa192d26b97736447a61930905609e894fce5a2b0f7be54121b9ecbf8681aedb",
     "updated_at_iso": "2025-08-16T17:37:59.946393+00:00"
    }
   },
   "outputs": [],
   "source": [
    "from pandas_geojson import to_geojson\n",
    "\n",
    "geo_json = to_geojson(df=construction_sites_with_street, lat='latitude', lon='longitude',\n",
    "                 properties=['strasse_name','sparte','baumassnahme', 'baubeginn', 'bauende'])"
   ]
  },
  {
   "cell_type": "markdown",
   "id": "89877652ecb747c490158d5d3b3f5176",
   "metadata": {
    "slideshow": {
     "slide_type": "skip"
    },
    "tags": [
     "translated_en"
    ],
    "translation": {
     "lang": "de",
     "src_hash": "745f1e5da1e0bb917c2e802c9906d4d4965ef10f88aeedcd1e11cd39415d00af",
     "updated_at_iso": "2025-08-16T17:38:03.159656+00:00"
    }
   },
   "source": [
    "Now we can visualize the construction sites on a map using the well-known package `geojsonio`."
   ]
  },
  {
   "cell_type": "code",
   "execution_count": null,
   "id": "81ee1d5e15fb41e3b763a2aea1385e75",
   "metadata": {
    "slideshow": {
     "slide_type": "skip"
    },
    "tags": [
     "hide-output",
     "translated_en"
    ],
    "translation": {
     "lang": "de",
     "src_hash": "eaf92362cee2252825d1e52f91a37497e90b286a54e0c069405ced35efb4b3c2",
     "updated_at_iso": "2025-08-16T17:38:05.917004+00:00"
    }
   },
   "outputs": [],
   "source": [
    "import json\n",
    "import geojsonio\n",
    "\n",
    "geojsonio.display(json.dumps(geo_json))"
   ]
  },
  {
   "cell_type": "markdown",
   "id": "0038a7edecea4329ba17c01b8f820d7e",
   "metadata": {
    "editable": true,
    "slideshow": {
     "slide_type": "skip"
    },
    "tags": [
     "translated_en"
    ],
    "translation": {
     "lang": "de",
     "src_hash": "c54e183716b98575e7ffa879c8a475513f6bdcc144d9d35e7cd95ed0e778b147",
     "updated_at_iso": "2025-08-16T17:38:09.314757+00:00"
    }
   },
   "source": [
    "![Construction sites](images/10c_Datenbanken_SQL_Select/baustellen.png)"
   ]
  },
  {
   "cell_type": "markdown",
   "id": "d8e834731c6a4f7c8d26ea4997332b3e",
   "metadata": {
    "editable": true,
    "slideshow": {
     "slide_type": "skip"
    },
    "tags": [
     "remove-cell",
     "translated_en"
    ],
    "translation": {
     "lang": "de",
     "src_hash": "61decb3fe3716f9a41928ed4dfdf67e2ac6d00214a9b6e33204f262ec60681e4",
     "updated_at_iso": "2025-08-16T17:38:13.088461+00:00"
    }
   },
   "source": [
    "## SQL - Structured Query Language\n",
    "\n",
    "<script>setSectionBackground('#E2F0D9');</script>\n",
    "<div class=\"flex-row\">\n",
    "  <div class=\"col4 vcent\">\n",
    "\n",
    "  </div>\n",
    "  <div class=\"col6\"> \n",
    "    <figure class=\"mj-fig\">\n",
    "        <img src=\"images/10c_Datenbanken_SQL_Select/mj_sql.png\" class=\"mj-fig-img\">\n",
    "        <figcaption class=\"mj-fig-cap\">\n",
    "            Midjourney: Structured Query Language\n",
    "        </figcaption>\n",
    "    </figure>\n",
    "  </div>\n",
    "</div>"
   ]
  },
  {
   "cell_type": "markdown",
   "id": "718ee791c0834266aa9bfd3998989218",
   "metadata": {
    "editable": true,
    "slideshow": {
     "slide_type": "subslide"
    },
    "tags": [
     "remove-cell",
     "translated_en"
    ],
    "translation": {
     "lang": "de",
     "src_hash": "f2b3d63043c9590ed6d0c4ef61274703891f42ff7c1ba71cd3670000fbc1d8c1",
     "updated_at_iso": "2025-08-16T17:38:20.462568+00:00"
    }
   },
   "source": [
    "## How do you obtain data from the tables?\n",
    "\n",
    "- The tables are not read sequentially like files, but we perform *query operations*.\n",
    "- These compute a new *result table* from a set of tables.\n",
    "- These operations can be combined in a way similar to familiar arithmetic operations.\n",
    "- So we use a system of computations over tables: a *relational algebra*"
   ]
  },
  {
   "cell_type": "markdown",
   "id": "264feb3459844c07af5b33618b43c5aa",
   "metadata": {
    "editable": true,
    "slideshow": {
     "slide_type": "subslide"
    },
    "tags": [
     "remove-cell",
     "translated_en"
    ],
    "translation": {
     "lang": "de",
     "src_hash": "d1752da8b0d091c7993916aa458409a834791db447c7aed9117ce3432bffdb32",
     "updated_at_iso": "2025-08-16T17:38:28.246706+00:00"
    }
   },
   "source": [
    "## How do we put these into practice?\n",
    "\n",
    "- Historically, dedicated *query languages* have developed here, rather than just add-on functions and libraries in other programming languages\n",
    "- The most popular of these languages is the *Structured Query Language (SQL)*\n",
    "- It has a syntax specifically designed for the operations allowed here\n",
    "- In practice, it is considerably more focused than Python"
   ]
  },
  {
   "cell_type": "markdown",
   "id": "f0eeb566289340dd8801007fdc7f1c7b",
   "metadata": {
    "editable": true,
    "slideshow": {
     "slide_type": "subslide"
    },
    "tags": [
     "remove-cell",
     "translated_en"
    ],
    "translation": {
     "lang": "de",
     "src_hash": "fe002e4af2e3f4069f86dcdb355f80786a1332630d2d727dc2f6216e5b89dc8e",
     "updated_at_iso": "2025-08-16T17:38:35.614941+00:00"
    }
   },
   "source": [
    "## SQL (Structured Query Language)\n",
    "\n",
    "- *1975* SEQUEL = Structured English Query Language\n",
    "- *since 1986* SQL ANSI standard, since 1987 ISO standard\n",
    "- *1992* SQL 2 (SQL-92) new ISO standard\n",
    "- *1999* SQL 3 (SQL:1999) new ISO standard\n",
    "- *2016* SQL 7 (SQL:2011) new ISO standard\n",
    "- *2019* SQL 9 (SQL:2019) stable release\n",
    "- *SQL:2016* ISO/IEC 9075-1:2016 is the current ISO standard"
   ]
  },
  {
   "cell_type": "markdown",
   "id": "b4d6921efe2547a3af033103699f65a3",
   "metadata": {
    "editable": true,
    "slideshow": {
     "slide_type": "subslide"
    },
    "tags": [
     "remove-cell",
     "translated_en"
    ],
    "translation": {
     "lang": "de",
     "src_hash": "686af9963c9a1ed7b50c66e09ec8f79e645b1d94fea9acf047f9ac5eef39c645",
     "updated_at_iso": "2025-08-16T17:38:44.734241+00:00"
    }
   },
   "source": [
    "## Projection\n",
    "\n",
    "<div class=\"flex-row\">\n",
    "  <div class=\"col1\">\n",
    "\n",
    "- Given the relation Municipalities {MunicipalityID, Name, Population}\n",
    "- Projection means selecting certain columns by explicit listing\n",
    "- Example: MunicipalityID, Name\n",
    "\n",
    "  </div>\n",
    "  <div class=\"col1\"> \n",
    "\n",
    "| MunicipalityID | Name | Population |\n",
    "|---|--------------|-------|\n",
    "| 1 | Dummerstorf  | 7,329 |\n",
    "| 2 | Graal-Müritz | 4,278 |\n",
    "| 3 | Sanitz       | 5,831 |\n",
    "\n",
    "  </div>\n",
    "</div>"
   ]
  },
  {
   "cell_type": "markdown",
   "id": "de3bf3aa0aa94a1597665503d3697b39",
   "metadata": {
    "editable": true,
    "slideshow": {
     "slide_type": "subslide"
    },
    "tags": [
     "remove-cell",
     "translated_en"
    ],
    "translation": {
     "lang": "de",
     "src_hash": "3a33462c619164ccb382f7d7289db1dc59387ccacaa62ce7455aa8fcfde09c0d",
     "updated_at_iso": "2025-08-16T17:38:58.008802+00:00"
    }
   },
   "source": [
    "## Projection in SQL\n",
    "\n",
    "<div class=\"flex-row\">\n",
    "  <div class=\"col1\">\n",
    "\n",
    "*Syntax:*\n",
    "```sql\n",
    "SELECT … FROM …\n",
    "```\n",
    "\n",
    "<br/>\n",
    "- *SELECT* – Selects the required columns (using * selects all columns)\n",
    "- *FROM* – Specifies the relations from which to select\n",
    "\n",
    "<br/>\n",
    "```sql\n",
    "SELECT GemeindeID, Name \n",
    "FROM Gemeinden\n",
    "```\n",
    "\n",
    "  </div>\n",
    "  <div class=\"col1\"> \n",
    "\n",
    "*Result:*\n",
    "<br/>\n",
    "\n",
    "| MunicipalityID | Name |\n",
    "|---|--------------|\n",
    "| 1 | Dummerstorf |\n",
    "| 2 | Graal-Müritz |\n",
    "| 3 | Sanitz |\n",
    "\n",
    "  </div>\n",
    "</div>"
   ]
  },
  {
   "cell_type": "markdown",
   "id": "b8b1283dd3ee44d8a844b9dc1dabe674",
   "metadata": {
    "editable": true,
    "slideshow": {
     "slide_type": "subslide"
    },
    "tags": [
     "remove-cell",
     "translated_en"
    ],
    "translation": {
     "lang": "de",
     "src_hash": "39331925b5a95916f1e95dd17355a030be93e6ccbda4957eb548bbabf8ee9745",
     "updated_at_iso": "2025-08-16T17:39:09.472019+00:00"
    }
   },
   "source": [
    "## Selection\n",
    "\n",
    "<div class=\"flex-row\">\n",
    "  <div class=\"col1\">\n",
    "\n",
    "- *Selection* means selecting specific rows based on a condition\n",
    "- For the conditions, as usual, comparison operators are used\n",
    "- Condition: Population > 5000\n",
    "\n",
    "  </div>\n",
    "  <div class=\"col1\"> \n",
    "\n",
    "| Municipality ID | Name | Population |\n",
    "|---|--------------|--------|\n",
    "| 1 | Dummerstorf | 7,329 |\n",
    "| ~~2~~ | ~~Graal-Müritz~~ | ~~4,278~~ |\n",
    "| 3 | Sanitz | 5,831 |\n",
    "\n",
    "  </div>\n",
    "</div>"
   ]
  },
  {
   "cell_type": "markdown",
   "id": "13e82162dad44f62954269e721a8e63d",
   "metadata": {
    "editable": true,
    "slideshow": {
     "slide_type": "subslide"
    },
    "tags": [
     "remove-cell",
     "translated_en"
    ],
    "translation": {
     "lang": "de",
     "src_hash": "a8ddfad4a58523ac462f3336f5227b9719f79cdf252ca315cab12ca02e3e720f",
     "updated_at_iso": "2025-08-16T17:39:30.348026+00:00"
    }
   },
   "source": [
    "## Selection in SQL\n",
    "\n",
    "<div class=\"flex-row\">\n",
    "  <div class=\"col1\">\n",
    "\n",
    "*Syntax:*\n",
    "```sql\n",
    "SELECT … FROM … WHERE …\n",
    "```\n",
    "\n",
    "<br/>\n",
    "- *WHERE* – filters the rows in the selected tables according to specified conditions\n",
    "\n",
    "<br/>\n",
    "*Example:*\n",
    "```sql\n",
    "SELECT * FROM Gemeinden \n",
    "WHERE Einwohner > 5000\n",
    "```\n",
    "\n",
    "  </div>\n",
    "  <div class=\"col1\"> \n",
    "\n",
    "| Municipality ID | Name | Population |\n",
    "|---|--------------|-------|\n",
    "| 1 | Dummerstorf | 7.329 |\n",
    "| 3 | Sanitz | 5.831 |\n",
    "\n",
    "  </div>\n",
    "</div>"
   ]
  },
  {
   "cell_type": "markdown",
   "id": "3a7c6e6859b94feeae1ee08f9e7e4599",
   "metadata": {
    "editable": true,
    "slideshow": {
     "slide_type": "subslide"
    },
    "tags": [
     "remove-cell",
     "translated_en"
    ],
    "translation": {
     "lang": "de",
     "src_hash": "bf2303220658e662000a0fe62ef902af0b20a02e902a2a64e14b6cb26299d11c",
     "updated_at_iso": "2025-08-16T17:39:43.083108+00:00"
    }
   },
   "source": [
    "## Natural Join\n",
    "\n",
    "With a *JOIN*, we combine rows from both tables wherever foreign keys and primary keys match.\n",
    "\n",
    "<div class=\"flex-row\">\n",
    "  <div class=\"col1\">\n",
    "\n",
    "**Municipalities Table**\n",
    "\n",
    "| MunicipalityID | Name | Population |\n",
    "|---|--------------|----------|\n",
    "| 1 | Dummerstorf  | 7,329 |\n",
    "| 2 | Graal-Müritz | 4,278 |\n",
    "| 3 | Sanitz       | 5,831 |\n",
    "\n",
    "<br/> Primary key: MunicipalityID\n",
    "\n",
    "  </div>\n",
    "  <div class=\"col1\"> \n",
    "\n",
    "**Buildings Table**\n",
    "\n",
    "| BuildingID | Building Type | MunicipalityID |\n",
    "|------------|-------------|------------|\n",
    "| 5000       | Gas Station  | 2 |\n",
    "| 5001       | Hotel        | 1 |\n",
    "| 5002       | Church       | 2 |\n",
    "\n",
    "\n",
    "<br/> Foreign Key: MunicipalityID\n",
    "\n",
    "  </div>\n",
    "</div>"
   ]
  },
  {
   "cell_type": "markdown",
   "id": "603840e0d90c4cc9a49da77a8df0203c",
   "metadata": {
    "editable": true,
    "slideshow": {
     "slide_type": "subslide"
    },
    "tags": [
     "remove-cell",
     "translated_en"
    ],
    "translation": {
     "lang": "de",
     "src_hash": "d1682897cdd7c0ce0beafd443447a46e02f84bfe4d79fcf104c2a6156499646c",
     "updated_at_iso": "2025-08-16T17:39:58.798254+00:00"
    }
   },
   "source": [
    "## Natural Join - Result\n",
    "\n",
    "Joining tables by matching columns:\n",
    "\n",
    "<div class=\"flex-row\">\n",
    "  <div class=\"col1\">\n",
    "\n",
    "**Municipalities table**\n",
    "\n",
    "| MunicipalityID | Name | Population |\n",
    "|---|--------------|-------|\n",
    "| 1 | Dummerstorf  | 7.329 |\n",
    "| 2 | Graal-Müritz | 4.278 |\n",
    "| 3 | Sanitz       | 5.831 |\n",
    "\n",
    "<br/> Primary key: MunicipalityID\n",
    "\n",
    "  </div>\n",
    "  <div class=\"col1\"> \n",
    "\n",
    "**Buildings table**\n",
    "\n",
    "| BuildingID | Building Type | MunicipalityID |\n",
    "|------------|-------------|------------|\n",
    "| 5000       | Gas Station  | 2 |\n",
    "| 5001       | Hotel       | 1 |\n",
    "| 5002       | Church      | 2 |\n",
    "\n",
    "\n",
    "<br/> Foreign key: MunicipalityID\n",
    "\n",
    "  </div>\n",
    "</div>\n",
    "\n",
    "Result\n",
    "\n",
    "| BuildingID | Building Type | MunicipalityID | Name | Population |\n",
    "|--|--|--|--|--|\n",
    "| 5000 | Gas Station | 2 | Graal-Müritz | 4.278 |\n",
    "| 5001 | Hotel | 1 | Dummerstorf | 7.329 |\n",
    "| 5002 | Church | 2 | Graal-Müritz | 4.278 |\n",
    "\n",
    "*Important:* Tuples whose attribute value in the respective column of the other relation does not appear will also not appear in the result table.\n",
    "\n",
    "In the example: Sanitz does not appear in the result because none of the existing buildings are built here."
   ]
  },
  {
   "cell_type": "markdown",
   "id": "53daba8b98ad413c999a764126c1187d",
   "metadata": {
    "editable": true,
    "slideshow": {
     "slide_type": "subslide"
    },
    "tags": [
     "remove-cell",
     "translated_en"
    ],
    "translation": {
     "lang": "de",
     "src_hash": "f272a4dd2d12ada67dae7e8d33bff7008dab1253c0097cff287dbde9548181a3",
     "updated_at_iso": "2025-08-16T17:40:05.176836+00:00"
    }
   },
   "source": [
    "## Natural Join - in SQL\n",
    "\n",
    "*Syntax:*\n",
    "```sql\n",
    "SELECT … FROM … NATURAL JOIN\n",
    "```\n",
    "\n",
    "<br/>\n",
    "- *NATURAL JOIN* – Connects two tables via the natural join\n",
    "\n",
    "<br/>\n",
    "*Example:*\n",
    "```sql\n",
    "SELECT * FROM Bauwerke \n",
    "NATURAL JOIN Gemeinden\n",
    "```"
   ]
  },
  {
   "cell_type": "markdown",
   "id": "2210592d486e43d095ec9c43118ffab7",
   "metadata": {
    "editable": true,
    "slideshow": {
     "slide_type": "subslide"
    },
    "tags": [
     "remove-cell",
     "translated_en"
    ],
    "translation": {
     "lang": "de",
     "src_hash": "a563a2ad4d8cd8d839c00b78cbbca0aaa5190234d3bcc18b3e991f0184194290",
     "updated_at_iso": "2025-08-16T17:40:14.674000+00:00"
    }
   },
   "source": [
    "## Other join forms in SQL\n",
    "\n",
    "*Kreuzprodukt:*\n",
    "```sql\n",
    "SELECT … FROM Table1, Table2\n",
    "```\n",
    "\n",
    "<br/>\n",
    "- If you separate with a comma instead of NATURAL JOIN, a *Cross product* is formed – all rows are joined with all rows!\n",
    "\n",
    "<br/>\n",
    "*Sinnvoll um mehrere Tabellen nach bestimmten Bedingungen zu kombinieren:*\n",
    "```sql\n",
    "SELECT … FROM Table1, Table2 \n",
    "WHERE Table1.Foreign = Table2.Primary\n",
    "```\n",
    "\n",
    "Can this also produce the NATURAL JOIN?"
   ]
  },
  {
   "cell_type": "markdown",
   "id": "521a3b5a9cc74c37baf7cb3622f9ec29",
   "metadata": {
    "editable": true,
    "slideshow": {
     "slide_type": "subslide"
    },
    "tags": [
     "remove-cell",
     "translated_en"
    ],
    "translation": {
     "lang": "de",
     "src_hash": "726850a988f07c37804549caeb5fd62cbbaa7a11775a7300fb3e4ee3506e8cff",
     "updated_at_iso": "2025-08-16T17:40:24.376610+00:00"
    }
   },
   "source": [
    "## Renaming\n",
    "\n",
    "<div class=\"flex-row\">\n",
    "  <div class=\"col1\">\n",
    "\n",
    "- Sometimes the same attribute values in different tables have different meanings, especially when forming joins.\n",
    "- Given the relation Buildings {BuildingID, BuildingType, Name}\n",
    "- Join: Buildings × Municipalities\n",
    "- Columns: BuildingID, BuildingType, Name\n",
    "- *Renaming:* Name → MunicipalityName\n",
    "\n",
    "  </div>\n",
    "  <div class=\"col1\"> \n",
    "\n",
    "| BuildingID | BuildingType | MunicipalityName |\n",
    "|------|------------|--------------|\n",
    "| 5000 | Gas Station | Graal-Müritz |\n",
    "| 5001 | Hotel      | Dummerstorf |\n",
    "| 5002 | Church     | Graal-Müritz |\n",
    "\n",
    "  </div>\n",
    "</div>"
   ]
  },
  {
   "cell_type": "markdown",
   "id": "17701ccb4eac4962be767830c9b03396",
   "metadata": {
    "editable": true,
    "slideshow": {
     "slide_type": "subslide"
    },
    "tags": [
     "remove-cell",
     "translated_en"
    ],
    "translation": {
     "lang": "de",
     "src_hash": "65e56a0f97ab3e0ef5466b933c9e373d34797d0e7fba89dbdc5edab3f6ce3175",
     "updated_at_iso": "2025-08-16T17:40:37.323232+00:00"
    }
   },
   "source": [
    "## Aliasing in SQL\n",
    "\n",
    "*With the `AS` keyword:*\n",
    "```sql\n",
    "SELECT tbl1.attr1 AS IdentificationNumber \n",
    "FROM Table1 AS tbl1\n",
    "```\n",
    "\n",
    "<br/>\n",
    "*The example from earlier:*\n",
    "```sql\n",
    "SELECT StructureID, StructureType, Name AS MunicipalityName\n",
    "FROM Structures\n",
    "NATURAL JOIN Municipalities\n",
    "```\n",
    "\n",
    "<br/>\n",
    "This is possible in both the `SELECT` and the `FROM` clauses by using the `AS` keyword."
   ]
  },
  {
   "cell_type": "markdown",
   "id": "8ed26d87602443e8ac0c09cc03f36bc1",
   "metadata": {
    "editable": true,
    "slideshow": {
     "slide_type": "slide"
    },
    "tags": [
     "remove-cell",
     "translated_en"
    ],
    "translation": {
     "lang": "de",
     "src_hash": "92678f562f3fb815947a1d54d7f2798241d24e3124a41d79b030edd574a2222b",
     "updated_at_iso": "2025-08-16T17:40:46.804042+00:00"
    }
   },
   "source": [
    "## Aggregate Functions\n",
    "\n",
    "<div class=\"flex-row\">\n",
    "  <div class=\"col1\">\n",
    "\n",
    "- Aggregate column values according to a defined procedure\n",
    "- They typically form a 1×1 table as the result\n",
    "- If more than one value should appear, it must be aggregated according to a defined condition\n",
    "- If there is a condition, the rows represent different cases\n",
    "- *Common aggregate functions:* sums or counts\n",
    "\n",
    "  </div>\n",
    "  <div class=\"col1\"> \n",
    "\n",
    "| MunicipalityID | Name | Population |\n",
    "|--|--|--|\n",
    "| 1 | Dummerstorf | 7,329 |\n",
    "| 2 | Graal-Müritz | 4,278 |\n",
    "| 3 | Sanitz | 5,831 |\n",
    "\n",
    "<br/>\n",
    "*Sum: 17,438*\n",
    "\n",
    "  </div>\n",
    "</div>"
   ]
  },
  {
   "cell_type": "markdown",
   "id": "3a8a2efa2dcf467aa5adf57bf8efe50e",
   "metadata": {
    "editable": true,
    "slideshow": {
     "slide_type": "subslide"
    },
    "tags": [
     "remove-cell",
     "translated_en"
    ],
    "translation": {
     "lang": "de",
     "src_hash": "7eea4d869ae816eefacade20c7f8a4398bee60bb8a92be2123fd3ef14781b15f",
     "updated_at_iso": "2025-08-16T17:40:55.392580+00:00"
    }
   },
   "source": [
    "## Aggregate Functions in SQL\n",
    "\n",
    "<div class=\"flex-row\">\n",
    "  <div class=\"col1\">\n",
    "\n",
    "*COUNT function* counts the number of rows:\n",
    "```sql\n",
    "SELECT COUNT(GemeindeID) FROM Gemeinden\n",
    "```\n",
    "\n",
    "  </div>\n",
    "  <div class=\"col1\"> \n",
    "\n",
    "    *COUNT: 3*\n",
    "\n",
    "  </div>\n",
    "</div>\n",
    "\n",
    "<div class=\"flex-row\">\n",
    "  <div class=\"col1\">\n",
    "\n",
    "*SUM function* sums a column numerically:\n",
    "```sql\n",
    "SELECT SUM(Einwohner) FROM Gemeinden\n",
    "```\n",
    "\n",
    "  </div>\n",
    "  <div class=\"col1\"> \n",
    "\n",
    "    *SUM: 17,438*\n",
    "\n",
    "  </div>\n",
    "</div>"
   ]
  },
  {
   "cell_type": "markdown",
   "id": "8d054e67dc6548048af168c6958b01e0",
   "metadata": {
    "editable": true,
    "slideshow": {
     "slide_type": "subslide"
    },
    "tags": [
     "remove-cell",
     "translated_en"
    ],
    "translation": {
     "lang": "de",
     "src_hash": "6760e3448d2c125ce80dc5e3d7579532bb3dcb2d343e45f337bf14cec04dce77",
     "updated_at_iso": "2025-08-16T17:41:07.739469+00:00"
    }
   },
   "source": [
    "## Conditional Aggregation - in SQL\n",
    "\n",
    "- When you aggregate by a particular attribute, only those rows that share the same attribute value are aggregated (summed, counted, averaged, etc.).\n",
    "- For this, the GROUP BY clause in SQL is used.\n",
    "\n",
    "*Example:* A table named Mitarbeiter contains honorarium payments to employees; for each payment there is a row. One now wants to output the average honorarium for each employee.\n",
    "\n",
    "Gegeben die Relation Mitarbeiter{MitarbeiterID, Name, Honorar}\n",
    "\n",
    "```sql\n",
    "SELECT MitarbeiterID, Name, AVG(Honorar) \n",
    "FROM Mitarbeiter\n",
    "GROUP BY MitarbeiterID\n",
    "```"
   ]
  },
  {
   "cell_type": "markdown",
   "id": "3e008b94e027415982161a1cd1516812",
   "metadata": {
    "editable": true,
    "slideshow": {
     "slide_type": "subslide"
    },
    "tags": [
     "remove-cell",
     "translated_en"
    ],
    "translation": {
     "lang": "de",
     "src_hash": "47bbd165320f061f22e1ac03ff451bc8800be605d10cdf1cdb0a3dfd10ec1bb8",
     "updated_at_iso": "2025-08-16T17:41:16.214737+00:00"
    }
   },
   "source": [
    "## Further operations: Sorting & Count\n",
    "\n",
    "*Sorting:*\n",
    "```sql\n",
    "SELECT * FROM Gemeinden \n",
    "ORDER BY Einwohner DESC\n",
    "```\n",
    "\n",
    "<br/>\n",
    "- `ORDER BY` with `ASC` (ascending) or `DESC` (descending)\n",
    "\n",
    "<br/>\n",
    "*Limiting the result set:*\n",
    "```sql\n",
    "SELECT * FROM Gemeinden \n",
    "ORDER BY Einwohner DESC \n",
    "LIMIT 2\n",
    "```\n",
    "\n",
    "<br/>\n",
    "- `LIMIT` truncates the result set to a certain number of elements\n",
    "- Here: The two municipalities with the highest population"
   ]
  },
  {
   "cell_type": "markdown",
   "id": "4054140e4bb34684a25b57d88c6be8a1",
   "metadata": {
    "editable": true,
    "slideshow": {
     "slide_type": "subslide"
    },
    "tags": [
     "remove-cell",
     "translated_en"
    ],
    "translation": {
     "lang": "de",
     "src_hash": "19d65b444a11d88b7ffb5feaab802f3e7e6ea9231125ffd289fde3a61dfa294e",
     "updated_at_iso": "2025-08-16T17:41:28.778299+00:00"
    }
   },
   "source": [
    "## Combining Conditions\n",
    "\n",
    "Conditions can be combined, just like in Python, with `AND` and `OR`:\n",
    "\n",
    "<div class=\"flex-row\">\n",
    "  <div class=\"col1\">\n",
    "\n",
    "```sql\n",
    "SELECT * FROM Bauwerke \n",
    "NATURAL JOIN Gemeinden\n",
    "WHERE Einwohner > 5000 AND Bauwerkstyp = \"Hotel\"\n",
    "```\n",
    "\n",
    "  </div>\n",
    "  <div class=\"col1\"> \n",
    "\n",
    "*Result:*\n",
    "| BuildingID | BuildingType | MunicipalityID | Name | Population |\n",
    "|--|--|--|--|--|\n",
    "| 5001 | Hotel | 1 | Dummerstorf | 7,329 |\n",
    "\n",
    "  </div>\n",
    "</div>"
   ]
  },
  {
   "cell_type": "markdown",
   "id": "13b83a2ab9f5489a93b03961b98fa773",
   "metadata": {
    "editable": true,
    "slideshow": {
     "slide_type": "subslide"
    },
    "tags": [
     "remove-cell",
     "translated_en"
    ],
    "translation": {
     "lang": "de",
     "src_hash": "85695f8bf9cc053f21a57dc2c695d870f1dfb813b66757f0fdc519a14cb341d5",
     "updated_at_iso": "2025-08-16T17:41:37.279179+00:00"
    }
   },
   "source": [
    "## Outlook: SQL - More than a Query Language\n",
    "\n",
    "*So far:* Only a single aspect of SQL (`SELECT` …)\n",
    "\n",
    "SQL offers far more functionalities:\n",
    "- *DML (Data Manipulation Language):*\n",
    "  - Querying and modifying data in tables (`SELECT, UPDATE, DELETE` ...)\n",
    "\n",
    "- *DDL (Data Definition Language):*\n",
    "  - Defining and managing schemas and tables (`CREATE, ALTER, DROP` …)\n",
    "\n",
    "- *DCL (Data Control Language):*\n",
    "  - User privileges (`GRANT, REVOKE` …)\n",
    "  - Transaction control (`COMMIT, ROLLBACK` …)"
   ]
  },
  {
   "cell_type": "markdown",
   "id": "e9d1c053a44349b9ad27a02b4eedcf82",
   "metadata": {
    "editable": true,
    "slideshow": {
     "slide_type": "skip"
    },
    "tags": [
     "translated_en"
    ],
    "translation": {
     "lang": "de",
     "src_hash": "a6a9a180b362f4ba713a3331085a1d5694ab2d54f7fb0ff1c75a69c892271444",
     "updated_at_iso": "2025-08-16T17:42:14.698504+00:00"
    }
   },
   "source": [
    "## Quiz\n",
    "\n",
    "\n",
    "```{quizdown}\n",
    "    ---\n",
    "    shuffleQuestions: true\n",
    "    shuffleAnswers: true\n",
    "    ---\n",
    "\n",
    "    ### Which Python packages are used to load CSV data from the Internet?\n",
    "\n",
    "    - [x] `urllib` and `pandas`\n",
    "    - [ ] `requests` and `numpy`\n",
    "    - [ ] `json` and `matplotlib`\n",
    "    - [ ] `sqlite3` and `os`\n",
    "\n",
    "    ### What is SQL?\n",
    "    - [x] A language for querying and manipulating databases\n",
    "    - [ ] A program for data visualization\n",
    "    - [ ] A programming language like Python\n",
    "    - [ ] A data format like JSON\n",
    "\n",
    "    ### What is SQLite?\n",
    "\n",
    "    - [x] A local relational database without a server\n",
    "    - [ ] A cloud database service\n",
    "    - [ ] A NoSQL database system\n",
    "    - [ ] A data visualization tool\n",
    "\n",
    "    ### Sort the following lines for storing a Pandas table in SQLite:\n",
    "\n",
    "    ```python\n",
    "    import sqlite3\n",
    "    import pandas as pd\n",
    "    ```\n",
    "    1. `df = pd.DataFrame({'col1': [1, 2], 'col2': [3, 4]})`\n",
    "    2. `con = sqlite3.connect(\"test.sqlite\")`\n",
    "    3. `df.to_sql(\"tabelle\", con, if_exists=\"replace\")`\n",
    "\n",
    "    ### Which error is in this example?\n",
    "\n",
    "    ```python\n",
    "    con = sqlite3.connect(\"test.sqlite\")\n",
    "    df.to_sql(\"tabelle\", con, if_exists=\"append\")\n",
    "    ```\n",
    "\n",
    "    - [ ] `sqlite3` is not imported\n",
    "    - [ ] The database name is too short\n",
    "    - [x] No error - the code is correct\n",
    "    - [ ] `to_sql` does not exist\n",
    "\n",
    "    ### What does the SQL command `SELECT * FROM baustellen;` do?\n",
    "\n",
    "    - [ ] Deletes all data from the table\n",
    "    - [x] Returns all columns and rows of the table\n",
    "    - [ ] Creates a new table\n",
    "    - [ ] Counts the rows in the table\n",
    "\n",
    "\n",
    "    ### How do you execute an SQL command in Python?\n",
    "\n",
    "    - [x] With `cur.execute(sql)` after creating a cursor\n",
    "    - [ ] With `con.run(sql)`\n",
    "    - [ ] With `sqlite3.query(sql)`\n",
    "    - [ ] With `pd.sql(sql)`\n",
    "\n",
    "\n",
    "    ### Sort the following lines for an SQL query:\n",
    "\n",
    "    ```python\n",
    "    con = sqlite3.connect(\"test.sqlite\")\n",
    "    ```\n",
    "\n",
    "    1. `cur = con.cursor()`\n",
    "    2. `sql = 'SELECT * FROM tabelle;'`\n",
    "    3. `for row in cur.execute(sql):`\n",
    "    4. `    print(row)`\n",
    "\n",
    "    ### Which SQL command filters construction sites with a construction start from 2023?\n",
    "\n",
    "    - [ ] `FILTER baubeginn >= '2023-01-01'`\n",
    "    - [x] `WHERE baubeginn >= '2023-01-01 00:00:00+01'`\n",
    "    - [ ] `IF baubeginn >= '2023-01-01'`\n",
    "    - [ ] `SELECT baubeginn >= '2023-01-01'`\n",
    "\n",
    "    ### How do you combine multiple conditions in SQL?\n",
    "\n",
    "    - [x] With `AND`, `OR`, `NOT`\n",
    "    - [ ] With `&&`, `||`, `!`\n",
    "    - [ ] With `+`, `-`, `*`\n",
    "    - [ ] With `COMBINE`, `MERGE`, `JOIN`\n",
    "\n",
    "\n",
    "    ### Which error is in this SQL example?\n",
    "\n",
    "    ```sql\n",
    "    SELECT * FROM baustellen\n",
    "    WHERE baubeginn = '2023-01-01' AND bauende = '2024-01-01'\n",
    "    ```\n",
    "\n",
    "    - [ ] `AND` is not allowed\n",
    "    - [ ] Date format is incorrect\n",
    "    - [x] No error - the code is correct\n",
    "    - [ ] `WHERE` must come at the end\n",
    "\n",
    "\n",
    "    ### What does the SQL function `count(*)` do?\n",
    "\n",
    "    - [ ] Sums all values\n",
    "    - [x] Counts the number of rows\n",
    "    - [ ] Finds the maximum value\n",
    "    - [ ] Calculates the average\n",
    "\n",
    "\n",
    "    ### Which aggregate functions exist in SQL?\n",
    "\n",
    "    - [x] `min()`, `max()`, `avg()`, `sum()`, `count()`\n",
    "    - [ ] `first()`, `last()`, `middle()`\n",
    "    - [ ] `add()`, `subtract()`, `multiply()`\n",
    "    - [ ] `top()`, `bottom()`, `center()`\n",
    "\n",
    "\n",
    "    ### Sort the following parts of an SQL aggregation query:\n",
    "\n",
    "    1. `SELECT sparte, count(*), avg(baudauer)`\n",
    "    2. `FROM baustellen`\n",
    "    3. `GROUP BY sparte`\n",
    "\n",
    "\n",
    "    ### What does `GROUP BY sparte` do in an SQL query?\n",
    "\n",
    "    - [ ] Sorts by category\n",
    "    - [x] Groups rows with the same category\n",
    "    - [ ] Filters by category\n",
    "    - [ ] Deletes duplicate categories\n",
    "\n",
    "\n",
    "    ### How do you sort results in SQL in descending order?\n",
    "\n",
    "    - [ ] `SORT BY spalte DOWN`\n",
    "    - [x] `ORDER BY spalte DESC`\n",
    "    - [ ] `ARRANGE BY spalte REVERSE`\n",
    "    - [ ] `DESCEND BY spalte`\n",
    "\n",
    "\n",
    "    ### What does `LIMIT 3` do in an SQL query?\n",
    "\n",
    "    - [ ] Limits to 3 columns\n",
    "    - [x] Returns at most 3 result rows\n",
    "    - [ ] Sorts the first 3 entries\n",
    "    - [ ] Filters by values less than 3\n",
    "\n",
    "\n",
    "    ### Which error is in this SQL example?\n",
    "\n",
    "    ```sql\n",
    "    SELECT sparte, count(*)\n",
    "    FROM baustellen\n",
    "    ORDER BY count(*)\n",
    "    GROUP BY sparte\n",
    "    ```\n",
    "\n",
    "    - [x] `ORDER BY` must come after `GROUP BY`\n",
    "    - [ ] `count(*)` cannot be sorted\n",
    "    - [ ] `GROUP BY` is positioned incorrectly\n",
    "    - [ ] A `WHERE` is missing\n",
    "\n",
    "\n",
    "    ### What does a `JOIN` do in SQL?\n",
    "\n",
    "    - [ ] Combines columns of a table\n",
    "    - [x] Joins data from multiple tables\n",
    "    - [ ] Sorts table data\n",
    "    - [ ] Deletes duplicate entries\n",
    "\n",
    "\n",
    "    ### Why do you use table prefixes like `b.spalte` in JOINs?\n",
    "\n",
    "    - [ ] To beautify the code\n",
    "    - [x] To uniquely identify columns with the same name\n",
    "    - [ ] To speed up the query\n",
    "    - [ ] For error handling\n",
    "\n",
    "\n",
    "    ### What does `DISTINCT` do in a SQL query?\n",
    "\n",
    "    - [ ] Sorts the results\n",
    "    - [ ] Limits the number of results\n",
    "    - [x] Removes duplicate rows from the results\n",
    "    - [ ] Joins multiple tables\n",
    "\n",
    "\n",
    "    ### What is the difference between INNER JOIN and LEFT JOIN?\n",
    "    - [x] INNER JOIN returns only matching rows, LEFT JOIN returns all rows from the left table\n",
    "    - [ ] LEFT JOIN returns only matching rows, INNER JOIN returns all rows from the left table\n",
    "    - [ ] There is no difference, both are the same\n",
    "    - [ ] INNER JOIN is faster than LEFT JOIN\n",
    "\n",
    "\n",
    "    ### Sort the following parts of a JOIN query:\n",
    "\n",
    "    1. `SELECT b.spalte1, a.spalte2`\n",
    "    2. `FROM baustellen AS b`\n",
    "    3. `JOIN adressenliste AS a`\n",
    "    4. `WHERE b.id = a.id`\n",
    "\n",
    "\n",
    "    ### What is the difference between different JOIN types?\n",
    "\n",
    "    - [x] They determine which rows are returned when there are no matches\n",
    "    - [ ] They affect the speed of the query\n",
    "    - [ ] They change the ordering of the results\n",
    "    - [ ] They determine the number of joined tables\n",
    "\n",
    "\n",
    "    ### Which error is in this JOIN example?\n",
    "\n",
    "    ```sql\n",
    "    SELECT * FROM baustellen\n",
    "    NATURAL JOIN adressenliste, gemeinden\n",
    "    ```\n",
    "\n",
    "    - [ ] `NATURAL JOIN` does not exist\n",
    "    - [ ] Too many tables in the JOIN\n",
    "    - [x] Potential cross join with multiple tables without explicit conditions\n",
    "    - [ ] Incorrect syntax with `NATURAL JOIN`\n",
    "\n",
    "\n",
    "```"
   ]
  },
  {
   "cell_type": "markdown",
   "id": "ca2809969d844fa99dbff845ff746f87",
   "metadata": {
    "slideshow": {
     "slide_type": "slide"
    },
    "tags": [
     "remove-cell",
     "translated_en"
    ],
    "translation": {
     "lang": "de",
     "src_hash": "d2b7467259ef9f52d61ecf9953374631953b152baba6f1edeaac46d4c3d40a0b",
     "updated_at_iso": "2025-08-16T17:42:19.570581+00:00"
    }
   },
   "source": [
    "<div class=\"vslide\">\n",
    "  <div class=\"vslide-title\">\n",
    "    <p style=\"font-family: Protomolecule; font-size: 2.3em; margin: 0px auto; text-align: center; width: 100%;\">Questions?</p>\n",
    "  </div>\n",
    "  <script>setSectionBackground('#000000', 'images/mj_questions.mp4');</script>\n",
    "</div>"
   ]
  }
 ],
 "metadata": {
  "kernelspec": {
   "display_name": "Python 3 (ipykernel)",
   "language": "python",
   "name": "python3"
  },
  "language_info": {
   "codemirror_mode": {
    "name": "ipython",
    "version": 3
   },
   "file_extension": ".py",
   "mimetype": "text/x-python",
   "name": "python",
   "nbconvert_exporter": "python",
   "pygments_lexer": "ipython3",
   "version": "3.12.10"
  },
  "rise": {
   "auto_select": "none",
   "center": false,
   "enable_chalkboard": true,
   "header": "<img src=\"images/pd_logo.svg\" class=\"header_title_logo\"><img src=\"images/ai4sc_logo_v2.svg\" class=\"header_ai4sc_logo\">",
   "scroll": true,
   "show_buttons_on_startup": false,
   "slideNumber": true,
   "theme": "white"
  }
 },
 "nbformat": 4,
 "nbformat_minor": 4
}
