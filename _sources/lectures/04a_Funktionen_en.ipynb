{
 "cells": [
  {
   "cell_type": "markdown",
   "id": "1de6325972a9497fab46d55e09641895",
   "metadata": {
    "slideshow": {
     "slide_type": "skip"
    },
    "tags": [
     "translated_en"
    ],
    "translation": {
     "lang": "de",
     "src_hash": "f7dad4a8905d866973d047141ef27a8368d0642e6864650b7187864323013bbc",
     "updated_at_iso": "2025-08-16T15:43:10.213785+00:00"
    }
   },
   "source": [
    "# Functions"
   ]
  },
  {
   "cell_type": "markdown",
   "id": "bed87b5aa21a441ea7faa94e552506a7",
   "metadata": {
    "slideshow": {
     "slide_type": "skip"
    },
    "tags": [
     "translated_en"
    ],
    "translation": {
     "lang": "de",
     "src_hash": "ae2f2c28988e01efb3c97f5a506bdac6d6f83ea27d5a37de14249032d6c7594f",
     "updated_at_iso": "2025-08-16T15:43:13.510752+00:00"
    }
   },
   "source": [
    "<figure class=\"mj-tile-band\">\n",
    "    <img src='images/04a_Funktionen/mj_title_band.jpg'>\n",
    "    <figcaption>Midjourney: Functional Lines, ref. C.E.B. Reas</figcaption>\n",
    "</figure>\n",
    "\n",
    "> A function of good software is to make the complex appear simple.\n",
    ">\n",
    "> — Grady Booch"
   ]
  },
  {
   "cell_type": "markdown",
   "id": "70e27858345047b08d9b8cd92121785c",
   "metadata": {
    "slideshow": {
     "slide_type": "skip"
    },
    "tags": [
     "translated_en"
    ],
    "translation": {
     "lang": "de",
     "src_hash": "fde60da6ab175eb3021a3067abfcf54df9e566f4d1573761440776f6a72baa2d",
     "updated_at_iso": "2025-08-16T15:43:17.321312+00:00"
    }
   },
   "source": [
    "## <a href=\"/lec_slides/04a_Funktionen.slides.html\">Slides</a>/<a href=\"/pdf/slides/04a_Funktionen.pdf\">PDF</a>\n",
    "<iframe src=\"/lec_slides/04a_Funktionen.slides.html\" width=\"750\" height=\"500\"></iframe>"
   ]
  },
  {
   "cell_type": "markdown",
   "id": "7beeca5ee4f1416197b76d6f2c5ea7e6",
   "metadata": {
    "slideshow": {
     "slide_type": "skip"
    },
    "tags": [
     "translated_en"
    ],
    "translation": {
     "lang": "de",
     "src_hash": "89e90818e23aece5407c18d59172b2eca7fa3e481e9e54c94eab9358d62dcd85",
     "updated_at_iso": "2025-08-16T15:43:19.483705+00:00"
    }
   },
   "source": [
    "## Function Definition and Function Call"
   ]
  },
  {
   "cell_type": "markdown",
   "id": "d9565cf047294a6ba1dec386b97efff3",
   "metadata": {
    "slideshow": {
     "slide_type": "skip"
    },
    "tags": [
     "translated_en"
    ],
    "translation": {
     "lang": "de",
     "src_hash": "5d7eb8714fd05981ec466b3afc4272a58102ed3ce8b03646110c66973182fe0f",
     "updated_at_iso": "2025-08-16T15:43:23.497570+00:00"
    }
   },
   "source": [
    "All higher-level programming languages allow the definition of functions (or procedures) to avoid having to write repetitive code and to structure complex programs."
   ]
  },
  {
   "cell_type": "markdown",
   "id": "dff68d1649fe43709c01557f14495088",
   "metadata": {
    "slideshow": {
     "slide_type": "skip"
    },
    "tags": [
     "translated_en"
    ],
    "translation": {
     "lang": "de",
     "src_hash": "fa832d0f887b18ad84dceee44875c9bafaa5189c2426a14b448af2680455b02a",
     "updated_at_iso": "2025-08-16T15:43:29.027435+00:00"
    }
   },
   "source": [
    "Functions in Python are defined with the keyword `def`. They have a `function name` and can take multiple arguments as input in parentheses. The function declaration is terminated with `:`. The body of the function, i.e., the part that should be executed when the function is called, must always be indented."
   ]
  },
  {
   "cell_type": "code",
   "execution_count": null,
   "id": "d46cf8bcd28b42b0bea0c746f60bb205",
   "metadata": {
    "slideshow": {
     "slide_type": "skip"
    },
    "tags": [
     "translated_en"
    ],
    "translation": {
     "lang": "de",
     "src_hash": "5ca957139187b0c98189ba10a8261270fb44597b974f2e1fbe8b43c8a81db95d",
     "updated_at_iso": "2025-08-16T15:43:36.060928+00:00"
    }
   },
   "outputs": [],
   "source": [
    "def function_name(argument1, argument2):\n",
    "    # Function body\n",
    "    print(\"Der Datentyp von Argument 1 ist \"+str(type(argument1)))\n",
    "    print(\"Der Datentyp von Argument 2 ist \"+str(type(argument2)))"
   ]
  },
  {
   "cell_type": "markdown",
   "id": "f0f25c49087540e8aff3268cc5f091a7",
   "metadata": {
    "slideshow": {
     "slide_type": "skip"
    },
    "tags": [
     "translated_en"
    ],
    "translation": {
     "lang": "de",
     "src_hash": "1325afa5c8675e28e8b783c6a4827207b4ed450948fac6706a56a08bf6eb110b",
     "updated_at_iso": "2025-08-16T15:43:39.486123+00:00"
    }
   },
   "source": [
    "All parts of the function must be indented to the same level. The following code is, for instance, syntactically incorrect."
   ]
  },
  {
   "cell_type": "code",
   "execution_count": null,
   "id": "43d9eaa97a0040de8ff94c3ddd5af89e",
   "metadata": {
    "slideshow": {
     "slide_type": "skip"
    },
    "tags": [
     "raises-exception",
     "translated_en"
    ],
    "translation": {
     "lang": "de",
     "src_hash": "189c443eff39339e3ec7e7ae34650deafb5a5f69a0b5f5856b8abfa68d5050de",
     "updated_at_iso": "2025-08-16T15:43:45.741459+00:00"
    }
   },
   "outputs": [],
   "source": [
    "def function_name(argument1, argument2):\n",
    "    # Function body\n",
    "    print(\"Der Datentyp von Argument 1 ist \"+str(type(argument1)))\n",
    "    print(\"Der Datentyp von Argument 2 ist \"+str(type(argument2)))"
   ]
  },
  {
   "cell_type": "markdown",
   "id": "51e733f5b0744a28bdb107ca276c1a87",
   "metadata": {
    "slideshow": {
     "slide_type": "skip"
    },
    "tags": [
     "translated_en"
    ],
    "translation": {
     "lang": "de",
     "src_hash": "164a129facf8260bf9258f52de9f3b714dbd64d0d922a7978c35fc95f23a3479",
     "updated_at_iso": "2025-08-16T15:43:55.301455+00:00"
    }
   },
   "source": [
    "When calling the function with `funktionsname(wert1, wert2)`, the arguments must be provided with input values. The arguments in Python are dynamically typed, like other variables (So we don't necessarily know which data type they will have later. This is a common source of errors)."
   ]
  },
  {
   "cell_type": "code",
   "execution_count": null,
   "id": "3d05b7af780648e2b1479cd2f5ba499a",
   "metadata": {
    "slideshow": {
     "slide_type": "skip"
    },
    "tags": [
     "translated_en"
    ],
    "translation": {
     "lang": "de",
     "src_hash": "6f7e8fed2fe098d23076f3423e6a4d5ac2dc9ca005efc8bb2079f7568285b266",
     "updated_at_iso": "2025-08-16T15:44:02.046320+00:00"
    }
   },
   "outputs": [],
   "source": [
    "function_name(\"wert1\", 2)"
   ]
  },
  {
   "cell_type": "markdown",
   "id": "caca531cf01d4b0587f79abfa5518ad5",
   "metadata": {
    "slideshow": {
     "slide_type": "skip"
    },
    "tags": [
     "translated_en"
    ],
    "translation": {
     "lang": "de",
     "src_hash": "0e3ac0bc12a3eacc2c219acfd6673866eeb44f952e8f88cd9173f8e0423bfddf",
     "updated_at_iso": "2025-08-16T15:44:04.879970+00:00"
    }
   },
   "source": [
    "The crucial thing is that the arguments can change their values."
   ]
  },
  {
   "cell_type": "code",
   "execution_count": null,
   "id": "a1ae06be45eb4ec38f1405ddff8b84c1",
   "metadata": {
    "slideshow": {
     "slide_type": "skip"
    },
    "tags": [
     "translated_en"
    ],
    "translation": {
     "lang": "de",
     "src_hash": "cf613eb600fc5cfe943378f6e737b017447850bf32b5857685e3973f2c337fbc",
     "updated_at_iso": "2025-08-16T15:44:10.412602+00:00"
    }
   },
   "outputs": [],
   "source": [
    "function_name(\"anderer wert \", \"noch ein anderer\")"
   ]
  },
  {
   "cell_type": "markdown",
   "id": "f1b475f23a8546069b23a171b22a4fd0",
   "metadata": {
    "slideshow": {
     "slide_type": "skip"
    },
    "tags": [
     "translated_en"
    ],
    "translation": {
     "lang": "de",
     "src_hash": "215dae3b98a649921a0adf6bc8562f2a91033bf2d1db55bae17a27ae9cce3de0",
     "updated_at_iso": "2025-08-16T15:44:13.993284+00:00"
    }
   },
   "source": [
    "## Return of Results"
   ]
  },
  {
   "cell_type": "markdown",
   "id": "05b6dd7858a747fc93e2330c143d016b",
   "metadata": {
    "slideshow": {
     "slide_type": "skip"
    },
    "tags": [
     "translated_en"
    ],
    "translation": {
     "lang": "de",
     "src_hash": "ba144c872f8aa084d76cdec69f0625d8e598a1836b12c2bcbd40e51b6c4c82ec",
     "updated_at_iso": "2025-08-16T15:44:17.519154+00:00"
    }
   },
   "source": [
    "The return statement is used in functions to terminate the execution of a function and return the assigned value(s) as the function's result."
   ]
  },
  {
   "cell_type": "code",
   "execution_count": null,
   "id": "c4fff2850bd64b11b2cc05bc5bfd2c38",
   "metadata": {
    "slideshow": {
     "slide_type": "skip"
    },
    "tags": [
     "translated_en"
    ],
    "translation": {
     "lang": "de",
     "src_hash": "ca21db699af0c58c3e683463e05c1d06109cea10bcb1f6ac823a5df6c7216f8c",
     "updated_at_iso": "2025-08-16T15:44:20.990723+00:00"
    }
   },
   "outputs": [],
   "source": [
    "def function_with_one_output():\n",
    "    return \"Ausgabewert\"\n",
    "    print(\"Dieser Teil wird nicht ausgeführt\")\n",
    "    return \"Anderer Ausgabewert\""
   ]
  },
  {
   "cell_type": "code",
   "execution_count": null,
   "id": "641997302d1d4ae4a45ab5ac63e2fe1a",
   "metadata": {
    "slideshow": {
     "slide_type": "skip"
    },
    "tags": [
     "translated_en"
    ],
    "translation": {
     "lang": "de",
     "src_hash": "138d696142f7e319638120aba5454689dc79199520b8d6d74f00a6405a80f91e",
     "updated_at_iso": "2025-08-16T15:44:23.597490+00:00"
    }
   },
   "outputs": [],
   "source": [
    "result = function_with_one_output()\n",
    "result"
   ]
  },
  {
   "cell_type": "markdown",
   "id": "cccd2a5ae4e148ebafb9e47e4f15c67d",
   "metadata": {
    "slideshow": {
     "slide_type": "skip"
    },
    "tags": [
     "translated_en"
    ],
    "translation": {
     "lang": "de",
     "src_hash": "e50b1c227d6154f015dc3bb83202af43aa163f70248eec1a7c3c34a18dccf2d8",
     "updated_at_iso": "2025-08-16T15:44:26.140766+00:00"
    }
   },
   "source": [
    "We can see that the result is `Ausgabewert` and the `print()` function has not been called."
   ]
  },
  {
   "cell_type": "markdown",
   "id": "ce68cc2516fb4d19a01e01c2fe862427",
   "metadata": {
    "slideshow": {
     "slide_type": "skip"
    },
    "tags": [
     "translated_en"
    ],
    "translation": {
     "lang": "de",
     "src_hash": "a2f59846ee2bded71dda125ca570f8a2386c627c3de4df5a03e7202010ce1d5a",
     "updated_at_iso": "2025-08-16T15:44:28.858067+00:00"
    }
   },
   "source": [
    "Multiple return values can be returned using `return`."
   ]
  },
  {
   "cell_type": "code",
   "execution_count": null,
   "id": "5792a25acb7943eebdd2c4c06827268f",
   "metadata": {
    "slideshow": {
     "slide_type": "skip"
    },
    "tags": [
     "translated_en"
    ],
    "translation": {
     "lang": "de",
     "src_hash": "9bad850df182c943465e2361b2ecd2b56dbb51bc85dcd7025e755598d9852d47",
     "updated_at_iso": "2025-08-16T15:44:32.278958+00:00"
    }
   },
   "outputs": [],
   "source": [
    "def function_with_two_outputs():\n",
    "    return \"Ausgabewert1\", \"Ausgabewert2\""
   ]
  },
  {
   "cell_type": "code",
   "execution_count": null,
   "id": "4bac4821125e4019b190e47d93ab4fb6",
   "metadata": {
    "slideshow": {
     "slide_type": "skip"
    },
    "tags": [
     "translated_en"
    ],
    "translation": {
     "lang": "de",
     "src_hash": "619de61538cd13c7c8eb8b74dda6c3f91e2377c54a2a5dcff52a96d8d86db918",
     "updated_at_iso": "2025-08-16T15:44:35.196124+00:00"
    }
   },
   "outputs": [],
   "source": [
    "result = function_with_two_outputs()\n",
    "result"
   ]
  },
  {
   "cell_type": "markdown",
   "id": "d2e3a87b309244afb285ccdb8156bed8",
   "metadata": {
    "slideshow": {
     "slide_type": "skip"
    },
    "tags": [
     "translated_en"
    ],
    "translation": {
     "lang": "de",
     "src_hash": "4de6a3ad2f464ef2cd7e1954821c8175dbe5ad35286e3c227c106c2ffb01f072",
     "updated_at_iso": "2025-08-16T15:44:37.584756+00:00"
    }
   },
   "source": [
    "The result of functions that return multiple values is a tuple."
   ]
  },
  {
   "cell_type": "code",
   "execution_count": null,
   "id": "3aa6f89100d1436ca7ab8beb787794d0",
   "metadata": {
    "slideshow": {
     "slide_type": "skip"
    },
    "tags": [
     "translated_en"
    ],
    "translation": {
     "lang": "de",
     "src_hash": "247d142fc7a87c10ad3da7838ad96a4dac31b42127dcf3481b5b92ad4e57490b",
     "updated_at_iso": "2025-08-16T15:44:39.934778+00:00"
    }
   },
   "outputs": [],
   "source": [
    "type(result)"
   ]
  },
  {
   "cell_type": "markdown",
   "id": "64d11d731dcb4d30bb78e8877b320ef4",
   "metadata": {
    "slideshow": {
     "slide_type": "skip"
    },
    "tags": [
     "translated_en"
    ],
    "translation": {
     "lang": "de",
     "src_hash": "f6b36c54987c856925a88df64eeb474e762bf31fbf3c572cd13fc07b74fdaadc",
     "updated_at_iso": "2025-08-16T15:44:42.681043+00:00"
    }
   },
   "source": [
    "You can access the individual values in a tuple by their index. For reference, the index of a list or tuple starts at 0."
   ]
  },
  {
   "cell_type": "code",
   "execution_count": null,
   "id": "02b0a856e01449cb939a440caba93ad3",
   "metadata": {
    "slideshow": {
     "slide_type": "skip"
    },
    "tags": [
     "translated_en"
    ],
    "translation": {
     "lang": "de",
     "src_hash": "bb3b1dc37097a0b323b59549d5986c46ab8564751f138357e80428401eabf337",
     "updated_at_iso": "2025-08-16T15:44:46.355312+00:00"
    }
   },
   "outputs": [],
   "source": [
    "result[0]"
   ]
  },
  {
   "cell_type": "markdown",
   "id": "65d03ec2d8ea41d3ad26513296de482e",
   "metadata": {
    "slideshow": {
     "slide_type": "skip"
    },
    "tags": [
     "translated_en"
    ],
    "translation": {
     "lang": "de",
     "src_hash": "52be23080a81b486060736f18cfe11bf0024e1b6a7e06a59a7e69d40812d3eb3",
     "updated_at_iso": "2025-08-16T15:44:53.450991+00:00"
    }
   },
   "source": [
    "The tuple can, however, also be prevented by multiple assignment. In a multiple assignment, you list several variables separated by commas on the left-hand side of the assignment."
   ]
  },
  {
   "cell_type": "code",
   "execution_count": null,
   "id": "3189688e4400461294eb4653b2e3d0a9",
   "metadata": {
    "slideshow": {
     "slide_type": "skip"
    },
    "tags": [
     "translated_en"
    ],
    "translation": {
     "lang": "de",
     "src_hash": "58d3310f47935a93b1f6a0c41beb732bec3791d1c276b82c85dd8d5af893b619",
     "updated_at_iso": "2025-08-16T15:44:56.125953+00:00"
    }
   },
   "outputs": [],
   "source": [
    "result1, result2 = function_with_two_outputs()\n",
    "print(result1)\n",
    "print(result2)\n",
    "print(type(result1))\n",
    "print(type(result2))"
   ]
  },
  {
   "cell_type": "markdown",
   "id": "bd5df7e0c5c743d5a9eab59b10d2e7c1",
   "metadata": {
    "slideshow": {
     "slide_type": "skip"
    },
    "tags": [
     "translated_en"
    ],
    "translation": {
     "lang": "de",
     "src_hash": "39c3d0a68b5daa89986c275393a7c8508ed2407cadf45d7c0681f9d7c64cab60",
     "updated_at_iso": "2025-08-16T15:44:59.504551+00:00"
    }
   },
   "source": [
    "## Variable Validity"
   ]
  },
  {
   "cell_type": "markdown",
   "id": "ab8d7005a3c643ddb017a7685341554d",
   "metadata": {
    "slideshow": {
     "slide_type": "skip"
    },
    "tags": [
     "translated_en"
    ],
    "translation": {
     "lang": "de",
     "src_hash": "07778bf715637676d7f13b660dd7b7ff07441840079b5eca8ef638c5e53d909d",
     "updated_at_iso": "2025-08-16T15:45:04.305766+00:00"
    }
   },
   "source": [
    "Variables inside functions are not globally valid. The variables for the arguments are valid only within the function. New variables defined inside the function are also not valid outside the function. This is how it works in the following function:"
   ]
  },
  {
   "cell_type": "code",
   "execution_count": null,
   "id": "1893d2ee62f64ee6b156f62cc1634175",
   "metadata": {
    "slideshow": {
     "slide_type": "skip"
    },
    "tags": [
     "translated_en"
    ],
    "translation": {
     "lang": "de",
     "src_hash": "751b8cace29ba2d855f36842174e2844215fecd52f59652318a4598e6ae71e63",
     "updated_at_iso": "2025-08-16T15:45:15.426774+00:00"
    }
   },
   "outputs": [],
   "source": [
    "def my_function(argument):\n",
    "    internal_variable = \"geheim\"\n",
    "    print(\"Der Wert von argument innerhalb der Funktion ist \"+str(argument))\n",
    "    print(\"Der Wert von internal_variable innerhalb der Funktion ist \"+str(internal_variable))"
   ]
  },
  {
   "cell_type": "markdown",
   "id": "8d81d6ff00b14758b3dc4df9f999e459",
   "metadata": {
    "slideshow": {
     "slide_type": "skip"
    },
    "tags": [
     "translated_en"
    ],
    "translation": {
     "lang": "de",
     "src_hash": "d5cf095bb0809e423c3bca0c54d31ded32cd00dadb2d7095cabecd1878df5aaf",
     "updated_at_iso": "2025-08-16T15:45:19.239322+00:00"
    }
   },
   "source": [
    "The values of `argument` and `intern` are defined inside the function and are printed by the `print()` statement."
   ]
  },
  {
   "cell_type": "code",
   "execution_count": null,
   "id": "0f6e84ee858d4ac3ac0946b6e0000ecb",
   "metadata": {
    "slideshow": {
     "slide_type": "skip"
    },
    "tags": [
     "translated_en"
    ],
    "translation": {
     "lang": "de",
     "src_hash": "7ce6d116227f707808bd54dd06838183a0a9e66238bb91c40716e5212636be45",
     "updated_at_iso": "2025-08-16T15:45:25.035550+00:00"
    }
   },
   "outputs": [],
   "source": [
    "my_function(\"argument_wert\")"
   ]
  },
  {
   "cell_type": "markdown",
   "id": "bacda4c1f72d45ceb058ee2f9651e84d",
   "metadata": {
    "slideshow": {
     "slide_type": "skip"
    },
    "tags": [
     "translated_en"
    ],
    "translation": {
     "lang": "de",
     "src_hash": "def097918b22aadc62f4721b01710c9dd7828a7de39d6bb11448145dcad36a37",
     "updated_at_iso": "2025-08-16T15:45:27.703778+00:00"
    }
   },
   "source": [
    "However, the variables `argument` and `interne_variable` are not globally available after the function has been executed."
   ]
  },
  {
   "cell_type": "code",
   "execution_count": null,
   "id": "e73387fd930c4198bb23c7e45a2db413",
   "metadata": {
    "slideshow": {
     "slide_type": "skip"
    },
    "tags": [
     "raises-exception",
     "translated_en"
    ],
    "translation": {
     "lang": "de",
     "src_hash": "fc800da6b4fd8a65e47c29f6b1f890634d4dc55b785366ccdd1bc7eba1d0b959",
     "updated_at_iso": "2025-08-16T15:45:29.947035+00:00"
    }
   },
   "outputs": [],
   "source": [
    "print(argument)"
   ]
  },
  {
   "cell_type": "code",
   "execution_count": null,
   "id": "b5d628c5a4054fd7915e418212507cde",
   "metadata": {
    "slideshow": {
     "slide_type": "skip"
    },
    "tags": [
     "raises-exception",
     "translated_en"
    ],
    "translation": {
     "lang": "de",
     "src_hash": "ecec0d562fabb4545da17f1328da32716208386c47ab639b46c578aef60d3787",
     "updated_at_iso": "2025-08-16T15:45:31.520054+00:00"
    }
   },
   "outputs": [],
   "source": [
    "print(internal_variable)"
   ]
  },
  {
   "cell_type": "markdown",
   "id": "854f3b32c37b42e3a582d2918f208dd8",
   "metadata": {
    "slideshow": {
     "slide_type": "skip"
    },
    "tags": [
     "translated_en"
    ],
    "translation": {
     "lang": "de",
     "src_hash": "e5f3251c875a55df7f179dd252ce219f3c4e3d1a4bfbea4a6257f1bc78212757",
     "updated_at_iso": "2025-08-16T15:45:34.900342+00:00"
    }
   },
   "source": [
    "It also allows defining variable names outside the function that can have a different value inside the function. This keeps the value of `argument` unchanged."
   ]
  },
  {
   "cell_type": "code",
   "execution_count": null,
   "id": "bfcb77c61e484c40ba768c396e7fccd6",
   "metadata": {
    "slideshow": {
     "slide_type": "skip"
    },
    "tags": [
     "translated_en"
    ],
    "translation": {
     "lang": "de",
     "src_hash": "fc4dbb5621f3b51da7a15f7ff760d1495c365510f46877a90791d13c6742c5b3",
     "updated_at_iso": "2025-08-16T15:45:42.435988+00:00"
    }
   },
   "outputs": [],
   "source": [
    "argument = 6  # original value\n",
    "print(\"Der Wert von argument vor der Funktion ist \"+str(argument))\n",
    "my_function(4)\n",
    "print(\"Der Wert von argument nach der Funktion ist immer noch \"+str(argument))"
   ]
  },
  {
   "cell_type": "markdown",
   "id": "cc09ad20a38941eb8293b1690cb6639d",
   "metadata": {
    "slideshow": {
     "slide_type": "skip"
    },
    "tags": [
     "translated_en"
    ],
    "translation": {
     "lang": "de",
     "src_hash": "c8b3fb14147097cdbd7ec2e079b4d9174fc12151301fb1add9147a40507ccb32",
     "updated_at_iso": "2025-08-16T15:45:45.784760+00:00"
    }
   },
   "source": [
    "## Modified and Unmodified Arguments"
   ]
  },
  {
   "cell_type": "markdown",
   "id": "c69bfa142dc646bfad96eb3f4237ad82",
   "metadata": {
    "slideshow": {
     "slide_type": "skip"
    },
    "tags": [
     "translated_en"
    ],
    "translation": {
     "lang": "de",
     "src_hash": "a7147be1497eaf7901a39af82628770d18f714b6778845df5647ea39690b25ea",
     "updated_at_iso": "2025-08-16T15:45:53.973671+00:00"
    }
   },
   "source": [
    "As a rule, modifications to primitive-type arguments inside a function are not carried over (pass-by-value). Thus, inside the function you can also assign new values to the arguments."
   ]
  },
  {
   "cell_type": "code",
   "execution_count": null,
   "id": "4374029839024aeeb8ad20c151fdd4f7",
   "metadata": {
    "slideshow": {
     "slide_type": "skip"
    },
    "tags": [
     "translated_en"
    ],
    "translation": {
     "lang": "de",
     "src_hash": "a421f94498298233a4a8adac7b94ac407776ca764c1365abc1baff311e7de3ab",
     "updated_at_iso": "2025-08-16T15:46:03.754943+00:00"
    }
   },
   "outputs": [],
   "source": [
    "def my_function(argument):\n",
    "    print(\"Der Wert von argument am Anfang der Funktion ist \"+str(argument))\n",
    "    argument = 3\n",
    "    print(\"Der Wert von argument am Ende der Funktion ist \"+str(argument))\n",
    "\n",
    "argument = 6  # original value\n",
    "print(\"Der Wert von argument vor der Funktion ist \"+str(argument))\n",
    "my_function(argument)\n",
    "print(\"Der Wert von argument nach der Funktion ist immer noch \"+str(argument))"
   ]
  },
  {
   "cell_type": "markdown",
   "id": "4cc91ad19663442a99614b863abdc176",
   "metadata": {
    "slideshow": {
     "slide_type": "skip"
    },
    "tags": [
     "translated_en"
    ],
    "translation": {
     "lang": "de",
     "src_hash": "41527f9e4948311eb9ff8dbd356e12b7aa947acd987e82ec3440825123339b63",
     "updated_at_iso": "2025-08-16T15:46:08.050011+00:00"
    }
   },
   "source": [
    "This also works with complex data types, such as `list`, `set`, and `dict`, as long as they are completely reassigned."
   ]
  },
  {
   "cell_type": "code",
   "execution_count": null,
   "id": "a1a430fb07b2492eab55c67832855f0d",
   "metadata": {
    "slideshow": {
     "slide_type": "skip"
    },
    "tags": [
     "translated_en"
    ],
    "translation": {
     "lang": "de",
     "src_hash": "6e927e902f6fff6638c486a6c1f26a5d026bcc5e748e42d9c7be8d9293a33a8a",
     "updated_at_iso": "2025-08-16T15:46:16.015618+00:00"
    }
   },
   "outputs": [],
   "source": [
    "def my_function(argument):\n",
    "    print(\"Der Wert von argument am Anfang der Funktion ist \"+str(argument))\n",
    "    argument = [3]\n",
    "    print(\"Der Wert von argument am Ende der Funktion ist \"+str(argument))\n",
    "\n",
    "argument = [6] # original value\n",
    "print(\"Der Wert von argument vor der Funktion ist \"+str(argument))\n",
    "my_function(argument)\n",
    "print(\"Der Wert von argument nach der Funktion ist immer noch \"+str(argument))"
   ]
  },
  {
   "cell_type": "markdown",
   "id": "06a8ee9cafdf4decb11ac2b0848516a1",
   "metadata": {
    "slideshow": {
     "slide_type": "skip"
    },
    "tags": [
     "translated_en"
    ],
    "translation": {
     "lang": "de",
     "src_hash": "53fb749139afe4199701f05f8ba6f95ba7c26b00087bc2ec872ff0c8538b71f3",
     "updated_at_iso": "2025-08-16T15:46:19.466712+00:00"
    }
   },
   "source": [
    "However, if they are modified only by pass-by-reference, these changes are global as well."
   ]
  },
  {
   "cell_type": "code",
   "execution_count": null,
   "id": "f556bd2d75734ac3a18431273f40a89d",
   "metadata": {
    "slideshow": {
     "slide_type": "skip"
    },
    "tags": [
     "translated_en"
    ],
    "translation": {
     "lang": "de",
     "src_hash": "137bfe52e455521ba33dcc8b31bf3b2e1f52abea158a1d4acd4234e3a637524a",
     "updated_at_iso": "2025-08-16T15:46:33.906436+00:00"
    }
   },
   "outputs": [],
   "source": [
    "def my_function(argument):\n",
    "    print(\"Der Wert von argument am Anfang der Funktion ist \"+str(argument))\n",
    "    argument.append(3)  # We append 3 to the list\n",
    "    print(\"Der Wert von argument am Ende der Funktion ist \"+str(argument))\n",
    "\n",
    "argument = [6]  # original value\n",
    "print(\"Der Wert von argument vor der Funktion ist \"+str(argument))\n",
    "my_function(argument)\n",
    "print(\"Der Wert von argument nach der Funktion ist auf einmal \"+str(argument))"
   ]
  },
  {
   "cell_type": "markdown",
   "id": "20f3ef8cc3e045a9be98ba40faf14d5f",
   "metadata": {
    "slideshow": {
     "slide_type": "skip"
    },
    "tags": [
     "translated_en"
    ],
    "translation": {
     "lang": "de",
     "src_hash": "068637b66edcbdaa49081be215c9b2ce0ffd8a14ce089902733ada6a8498b784",
     "updated_at_iso": "2025-08-16T15:46:37.682738+00:00"
    }
   },
   "source": [
    "<div class=\"alert alert-block alert-warning\">\n",
    "<b>⚠️ Warning:</b> This can quickly lead to errors if you unintentionally modify global data structures.\n",
    "</div>"
   ]
  },
  {
   "cell_type": "markdown",
   "id": "156455ef5c83400893438b7563e16dbd",
   "metadata": {
    "editable": true,
    "slideshow": {
     "slide_type": "slide"
    },
    "tags": [
     "remove-cell",
     "translated_en"
    ],
    "translation": {
     "lang": "de",
     "src_hash": "365b54f34a713b5a56c9c4e095b6ba0a1a61d14be7356c76c562b2f51f1cbaf7",
     "updated_at_iso": "2025-08-16T15:46:48.879265+00:00"
    }
   },
   "source": [
    "<div class=\"vslide\">\n",
    "  <div class=\"vslide-title\">\n",
    "    <p style=\"font-family: Protomolecule; font-size: 2.3em; line-height: 90%; margin: 0px auto; text-align: center; width: 100%;\"><span style=\"letter-spacing: .04rem;\">Programming</span><br><span style=\"letter-spacing: .0rem;\">and Databases</span></p>\n",
    "<p class=\"author\" style=\"font-family: Protomolecule; margin: 0px auto;  text-align: center; width: 100%; font-size: 1.2em;\">Joern Ploennigs</p>\n",
    "<p class=\"subtitle\" style=\"font-family: Protomolecule; margin: 1em auto; text-align: center; width: 100%; font-size: 1.2em;\">Functions</p>\n",
    "    <figcaption>Midjourney: Functional Lines, ref. C.E.B. Reas</figcaption>\n",
    "  </div>\n",
    "<script>\n",
    "  function setSectionBackground(c,v){\n",
    "    let e=document.currentScript.previousElementSibling;\n",
    "    while(e&&e.tagName!=='SECTION')e=e.parentElement;\n",
    "    if(e){\n",
    "      if(c)e.setAttribute('data-background-color',c);\n",
    "      if(v){\n",
    "        e.setAttribute('data-background-video',v);\n",
    "        e.setAttribute('data-background-video-loop','true');\n",
    "        e.setAttribute('data-background-video-muted','true');\n",
    "      }\n",
    "    }\n",
    "  }\n",
    "  setSectionBackground('#000000', 'images/04a_Funktionen/mj_title.mp4');\n",
    "</script>\n",
    "<style>\n",
    ".flex-row{display:flex; gap:2rem; align-items:flex-start; justify-content:space-between;}\n",
    ".flex-row .col1{flex:1; min-width:10px}\n",
    ".flex-row .col2{flex:2; min-width:10px}\n",
    ".flex-row .col3{flex:3; min-width:10px}\n",
    ".flex-row .col4{flex:4; min-width:10px}\n",
    ".flex-row .col5{flex:5; min-width:10px}\n",
    ".flex-row .col6{flex:6; min-width:10px}\n",
    ".flex-row .col7{flex:7; min-width:10px}\n",
    ".vcent{display:flex; align-items:center; justify-content:center}\n",
    "</style>\n",
    "</div>"
   ]
  },
  {
   "cell_type": "markdown",
   "id": "5fba7551b68045a09f61eca7a507a80c",
   "metadata": {
    "slideshow": {
     "slide_type": "subslide"
    },
    "tags": [
     "remove-cell",
     "translated_en"
    ],
    "translation": {
     "lang": "de",
     "src_hash": "3fd44d9e2803f1f296fbd17ecf399538c52c57e96cb2ea1e644937e0b845d0f2",
     "updated_at_iso": "2025-08-16T15:46:53.559346+00:00"
    }
   },
   "source": [
    "## Wiederholung: Hörsaalfrage\n",
    "\n",
    "<script>setSectionBackground('#FFD966');</script>\n",
    "<div class=\"flex-row\">\n",
    "  <div class=\"col4 vcent\">\n",
    "\n",
    "What are if, elif, and else used for?\n",
    " \n",
    "  </div>\n",
    "  <div class=\"col6\"> \n",
    "    <figure class=\"mj-fig\">\n",
    "        <img src=\"images/04a_Funktionen/mj_yinyang.jpg\" class=\"mj-fig-img\">\n",
    "        <figcaption class=\"mj-fig-cap\">\n",
    "            DALL·E 2: Yin and Yang in a ceramic dish\n",
    "        </figcaption>\n",
    "    </figure>\n",
    "  </div>\n",
    "</div>"
   ]
  },
  {
   "cell_type": "markdown",
   "id": "2cb9699713484f68bbfa6e1b0f4410b6",
   "metadata": {
    "slideshow": {
     "slide_type": "subslide"
    },
    "tags": [
     "remove-cell",
     "translated_en"
    ],
    "translation": {
     "lang": "de",
     "src_hash": "de6e382c23947e20308e5cc1ec4a83c4bca3d694bac2b5caafc0ea60ef7acb00",
     "updated_at_iso": "2025-08-16T15:47:06.312560+00:00"
    }
   },
   "source": [
    "## Recap: IF, ELIF, ELSE\n",
    "\n",
    "<script>setSectionBackground('#FFD966');</script>\n",
    "\n",
    "```python\n",
    "if, elif, else are commands for branching programs in Python\n",
    "\n",
    "if Condition1:\n",
    "    print(\"Will run when Condition1 is true\")\n",
    "elif Condition2:\n",
    "    print(\"Will run when Condition1 is false and Condition2 is true\")\n",
    "else:\n",
    "    print(\"Will run when Condition1 is false and Condition2 is false\")\n",
    "```"
   ]
  },
  {
   "cell_type": "markdown",
   "id": "4cc6486e86724205825ed19826e3a3bc",
   "metadata": {
    "slideshow": {
     "slide_type": "subslide"
    },
    "tags": [
     "remove-cell",
     "translated_en"
    ],
    "translation": {
     "lang": "de",
     "src_hash": "88b048c451e81d7c384fbd61c2133fa65c807ed957f13acedd6e1ccc839fd809",
     "updated_at_iso": "2025-08-16T15:47:12.788687+00:00"
    }
   },
   "source": [
    "## Recap: In-Class Question\n",
    "\n",
    "<script>setSectionBackground('#FFD966');</script>\n",
    "<div class=\"flex-row\">\n",
    "  <div class=\"col4 vcent\">\n",
    "\n",
    "What loop types exist?\n",
    " \n",
    "  </div>\n",
    "  <div class=\"col6\"> \n",
    "    <figure class=\"mj-fig\">\n",
    "        <img src=\"images/04a_Funktionen/mj_loop.png\" class=\"mj-fig-img\">\n",
    "        <figcaption class=\"mj-fig-cap\">\n",
    "            Midjourney: Loop\n",
    "        </figcaption>\n",
    "    </figure>\n",
    "  </div>\n",
    "</div>"
   ]
  },
  {
   "cell_type": "markdown",
   "id": "73ec41d60d08470eb1935959234b3036",
   "metadata": {
    "slideshow": {
     "slide_type": "subslide"
    },
    "tags": [
     "remove-cell",
     "translated_en"
    ],
    "translation": {
     "lang": "de",
     "src_hash": "3c35ad53b0171fc11b78e982cc59061d8b367bd0cae9e8de03213da41ea6fbcf",
     "updated_at_iso": "2025-08-16T15:47:21.806933+00:00"
    }
   },
   "source": [
    "## Recap: Loops\n",
    "\n",
    "<script>setSectionBackground('#FFD966');</script>\n",
    "\n",
    "Loops are an important concept in programming for implementing repetitive or incremental solutions.\n",
    "\n",
    "In Python, the following are available:\n",
    "- `for` (equivalent to a for-each loop)\n",
    "- `while` (equivalent to a while loop)\n",
    "\n",
    "Key properties:\n",
    "- They work exactly like all other control statements—by indentation after a header line\n",
    "- Unlike in functions, variables from loops are also available outside the loop!\n",
    "- The other loop variants aren’t explicitly present either, but can be emulated functionally"
   ]
  },
  {
   "cell_type": "markdown",
   "id": "9597cf3fdf854ff980f094d8b27e3b8a",
   "metadata": {
    "slideshow": {
     "slide_type": "subslide"
    },
    "tags": [
     "remove-cell",
     "translated_en"
    ],
    "translation": {
     "lang": "de",
     "src_hash": "98c7c5693c05171637fcf0cc949175595fa2700dd54988e7111296a9e28f6996",
     "updated_at_iso": "2025-08-16T15:47:33.089881+00:00"
    }
   },
   "source": [
    "## Recap: While loops\n",
    "\n",
    "<script>setSectionBackground('#FFD966');</script>\n",
    "\n",
    "<div class=\"flex-row\">\n",
    "\n",
    "<div class=\"col1\">\n",
    "\n",
    "**While loop**\n",
    "\n",
    "In a While loop, the condition can be false right at the start. So the loop does not have to be executed.\n",
    "\n",
    "```python\n",
    "Condition = True/False\n",
    "while Condition:\n",
    "    # Statement\n",
    "    Condition = False\n",
    "```\n",
    "\n",
    "</div>\n",
    "\n",
    "<div class=\"col1\">\n",
    "\n",
    "**Do-While loop**\n",
    "\n",
    "In a Do-While loop, the condition is checked only at the end. The loop is therefore always executed at least once.\n",
    "\n",
    "```python\n",
    "Condition = True\n",
    "while Condition:\n",
    "    # Statement\n",
    "    Condition = False\n",
    "```\n",
    "\n",
    "</div>\n",
    "\n",
    "<div class=\"col1\">\n",
    "\n",
    "**Repeat-Until loop**\n",
    "\n",
    "In a Repeat-Until loop, the condition is also checked only at the end. The loop repeats until the condition becomes true.\n",
    "\n",
    "```python\n",
    "Condition = False\n",
    "while not Condition:\n",
    "    # Statement\n",
    "    Condition = True\n",
    "```\n",
    "\n",
    "</div>\n",
    "\n",
    "</div>"
   ]
  },
  {
   "cell_type": "markdown",
   "id": "9709978e571847ca96bb55f240deb8c4",
   "metadata": {
    "slideshow": {
     "slide_type": "slide"
    },
    "tags": [
     "remove-cell",
     "translated_en"
    ],
    "translation": {
     "lang": "de",
     "src_hash": "c2b83799e91cb0b8df2934fd61c369c82b7696c0bab27d78f69459b26eea7122",
     "updated_at_iso": "2025-08-16T15:47:35.724221+00:00"
    }
   },
   "source": [
    "## Process\n",
    "\n",
    "![](images/partA_5.svg)"
   ]
  },
  {
   "cell_type": "markdown",
   "id": "8ab8439c13e54d10ae30eff6add1061d",
   "metadata": {
    "editable": true,
    "slideshow": {
     "slide_type": "slide"
    },
    "tags": [
     "remove-cell",
     "translated_en"
    ],
    "translation": {
     "lang": "de",
     "src_hash": "2329dd113895f46ab272269c964bcd01e7b0e0eaf067be1a04de29826d7e1d9d",
     "updated_at_iso": "2025-08-16T15:47:40.231813+00:00"
    }
   },
   "source": [
    "## Functions – Mathematical\n",
    "\n",
    "Functions in programming languages implement the mathematical concept of a function.  \n",
    "They represent a mapping from an input set to an output set.\n",
    "\n",
    "Mapping: A function $f$ assigns to every element $x$ of a domain $D$ an element $y$ of a codomain $Z$.  \n",
    "\n",
    "$$ f : D \\to Z, \\quad x \\mapsto y $$"
   ]
  },
  {
   "cell_type": "markdown",
   "id": "e99c3ef474bc4fe2ba9793f571393963",
   "metadata": {
    "editable": true,
    "slideshow": {
     "slide_type": "subslide"
    },
    "tags": [
     "remove-cell",
     "translated_en"
    ],
    "translation": {
     "lang": "de",
     "src_hash": "9dcb8dabc655a6f03337984842c4175e1a415c7cd63ca0848ff778e5b4f5b1dc",
     "updated_at_iso": "2025-08-16T15:47:46.419777+00:00"
    }
   },
   "source": [
    "## Functions – Programming\n",
    "\n",
    "<div class=\"alert alert-block alert-success\">\n",
    "<b>📘 Definition: Function</b>\n",
    "\n",
    "Reusable code that performs a specific task.\n",
    "</div>\n",
    "\n",
    "- Take a tuple of input values (*arguments*)\n",
    "- Execute a fixed sequence of expressions and assignments\n",
    "- Return a tuple of output values (*return values*)\n",
    "- Are only executed when they are **called** in an expression"
   ]
  },
  {
   "cell_type": "markdown",
   "id": "6c1a6284312444a9bddf8dc809e34387",
   "metadata": {
    "editable": true,
    "slideshow": {
     "slide_type": "subslide"
    },
    "tags": [
     "remove-cell",
     "translated_en"
    ],
    "translation": {
     "lang": "de",
     "src_hash": "b646db498cd277e56a4201e01dde95aec834137afb60f5ba57ea37f4c30e9f60",
     "updated_at_iso": "2025-08-16T15:47:53.168816+00:00"
    }
   },
   "source": [
    "## Functions in Python\n",
    "\n",
    "```python\n",
    "# Code block of the function definition\n",
    "def functionname(arg1, arg2): # <- the function name is selectable, arg1 and arg2 are arguments (parameters)\n",
    "    statement1 # <- The code block starts here and is indented\n",
    "    statement2 # <- Still part of the indented code block\n",
    "```\n",
    "\n",
    "- Function definitions begin with `def`\n",
    "- It is followed by a name, arguments and a `:`\n",
    "- Arguments are in scope for the entire function body\n",
    "- When called, the arguments are bound to input data"
   ]
  },
  {
   "cell_type": "markdown",
   "id": "8ded9c32e0a04f6da6011ebd1bb31401",
   "metadata": {
    "editable": true,
    "slideshow": {
     "slide_type": "subslide"
    },
    "tags": [
     "remove-cell",
     "translated_en"
    ],
    "translation": {
     "lang": "de",
     "src_hash": "e4437b74207aee43abfbfa62831ac4812501d109feda08639aafbf5f81b77c9b",
     "updated_at_iso": "2025-08-16T15:48:03.303713+00:00"
    }
   },
   "source": [
    "## Functions with a Return Value\n",
    "\n",
    "```python\n",
    "def functionName(arg1):\n",
    "    statement1\n",
    "    return outputValue\n",
    "```\n",
    "\n",
    "- `return` ends execution and returns the output value(s)\n",
    "- `Returning` means: The return value replaces the function call in the original expression\n",
    "- If no `return` is specified, the function returns `None`"
   ]
  },
  {
   "cell_type": "markdown",
   "id": "cdc17a3d056e4ec88573a6edc3ad43b8",
   "metadata": {
    "editable": true,
    "slideshow": {
     "slide_type": "subslide"
    },
    "tags": [
     "remove-cell",
     "translated_en"
    ],
    "translation": {
     "lang": "de",
     "src_hash": "4e163d6941b1b64b7cdb2bd943b98dc0178512d1f3fe9134e8920bfb2fef4e1d",
     "updated_at_iso": "2025-08-16T15:48:12.119035+00:00"
    }
   },
   "source": [
    "## Example – Doubling a Value\n",
    "\n",
    "<div class=\"flex-row\">\n",
    "<div class=\"col1\">\n",
    "\n",
    "Multiplication\n",
    "\n",
    "```python\n",
    "x = arg1 * 2   # 4\n",
    "x = arg1 * 4   # 16\n",
    "x = arg1 * 8   # 128\n",
    "```\n",
    "</div>\n",
    "<div class=\"col1\">\n",
    "\n",
    "Bit shifting (faster)\n",
    "\n",
    "```python\n",
    "def times2(arg1):\n",
    "    return arg1 << 1\n",
    "\n",
    "x = arg1 << 1   # $2^1$\n",
    "x = arg1 << 2   # $2^2$\n",
    "x = arg1 << 3   # $2^3$\n",
    "```\n",
    "</div>\n",
    "</div>"
   ]
  },
  {
   "cell_type": "markdown",
   "id": "9ed482552c95406b8262a4355d93b81d",
   "metadata": {
    "editable": true,
    "slideshow": {
     "slide_type": "subslide"
    },
    "tags": [
     "remove-cell",
     "translated_en"
    ],
    "translation": {
     "lang": "de",
     "src_hash": "2a2fd59bcd9a899f96a3e9ccc2b609e2bab658235e5dea22f087c154e8411fdc",
     "updated_at_iso": "2025-08-16T15:48:16.773977+00:00"
    }
   },
   "source": [
    "## Example – Euclidean distance\n",
    "\n",
    "```python\n",
    "from math import sqrt\n",
    "\n",
    "def distance(a1, a2, b1, b2):\n",
    "    return sqrt((a1 - b1)**2 + (a2 - b2)**2)\n",
    "\n",
    "a1, a2 = 2, 3\n",
    "b1, b2 = 6, 6\n",
    "x = distance(a1, a2, b1, b2)  # 5.0\n",
    "```"
   ]
  },
  {
   "cell_type": "markdown",
   "id": "219cb90ae73b47d2b0f43367ba3f8d8b",
   "metadata": {
    "editable": true,
    "slideshow": {
     "slide_type": "subslide"
    },
    "tags": [
     "remove-cell",
     "translated_en"
    ],
    "translation": {
     "lang": "de",
     "src_hash": "6f921085c804b02ae036fe0cad27fe6ccf83c8db1ba2177b080a57aebe503aa9",
     "updated_at_iso": "2025-08-16T15:48:22.803214+00:00"
    }
   },
   "source": [
    "## Default values for parameters\n",
    "\n",
    "```python\n",
    "def funktionsname(arg1, arg2=\"default\"):\n",
    "    return statement1\n",
    "```\n",
    "\n",
    "- Arguments can have default values\n",
    "- They are optional when calling; provided values override the default"
   ]
  },
  {
   "cell_type": "markdown",
   "id": "41d7ac5a81dd454bbce12ea55ffeb3a1",
   "metadata": {
    "editable": true,
    "slideshow": {
     "slide_type": "subslide"
    },
    "tags": [
     "remove-cell",
     "translated_en"
    ],
    "translation": {
     "lang": "de",
     "src_hash": "2b739bd77830b2bef77df82164d75c11600a898c6552496e7abc63e55c94ba12",
     "updated_at_iso": "2025-08-16T15:48:28.392258+00:00"
    }
   },
   "source": [
    "## Example – Appending a unit to a number\n",
    "\n",
    "```python\n",
    "def measurement(number, unit=\"meters\"):\n",
    "    return str(number) + \" \" + unit\n",
    "\n",
    "x = measurement(12)        # \"12 meters\"\n",
    "x = measurement(5.5, \"kg\") # \"5.5 kg\"\n",
    "```"
   ]
  },
  {
   "cell_type": "markdown",
   "id": "baa0e329ad364db393018c07f40d3f5f",
   "metadata": {
    "editable": true,
    "slideshow": {
     "slide_type": "subslide"
    },
    "tags": [
     "remove-cell",
     "translated_en"
    ],
    "translation": {
     "lang": "de",
     "src_hash": "55a7772bf3bfc9a089b31bdc41ccf5165428c298b59735bbac0e5c69bfc249cf",
     "updated_at_iso": "2025-08-16T15:48:37.853339+00:00"
    }
   },
   "source": [
    "## Passing Argument Values (Concepts)\n",
    "\n",
    "<div class=\"flex-row\">\n",
    "<div class=\"col1\">\n",
    "\n",
    "**Pass-by-value**\n",
    "\n",
    "- Only **values** are copied\n",
    "- The passed-in variables are not accessible inside the function\n",
    "- Safer, since there is no unexpected rebinding\n",
    "</div>\n",
    "<div class=\"col1\">\n",
    "\n",
    "**Pass-by-reference**\n",
    "\n",
    "- Reference to the **same data**\n",
    "- Values inside the function can be modified\n",
    "- Saves time and memory\n",
    "</div>\n",
    "</div>"
   ]
  },
  {
   "cell_type": "markdown",
   "id": "2165f6eb459840adb9cc9071a7ea48ee",
   "metadata": {
    "editable": true,
    "slideshow": {
     "slide_type": "subslide"
    },
    "tags": [
     "remove-cell",
     "translated_en"
    ],
    "translation": {
     "lang": "de",
     "src_hash": "8d4a7fff4fab8a8701936643d5bdd9552f9518f05e45fd185e8b4e36bb017639",
     "updated_at_iso": "2025-08-16T15:48:46.364829+00:00"
    }
   },
   "source": [
    "## Passing Argument Values in Python\n",
    "\n",
    "- Hybrid variant, often called \"**pass-by-assignment**\"\n",
    "- **Mutable** data types: behave like *pass-by-reference*\n",
    "- **Immutable** data types: behave like *pass-by-value*\n",
    "- If a *mutable* variable is rebound, it has no effect outside its scope"
   ]
  },
  {
   "cell_type": "markdown",
   "id": "5211cb2232ad4e0f892358a5dd75e579",
   "metadata": {
    "editable": true,
    "slideshow": {
     "slide_type": "slide"
    },
    "tags": [
     "remove-cell",
     "translated_en"
    ],
    "translation": {
     "lang": "de",
     "src_hash": "f4e857eafa88bb0373d28bcd2379dc4960f9e15c76c9ea35247409d3b2d34d8a",
     "updated_at_iso": "2025-08-16T15:48:53.316789+00:00"
    }
   },
   "source": [
    "## Built-in Functions\n",
    "\n",
    "Python has an extensive list of built-in functions.\n",
    "\n",
    "| Function                               | Purpose                          |\n",
    "|:---------------------------------------|:-------------------------------|\n",
    "| `print()`, `input()`                   | Output, input                    |\n",
    "| `id()`, `type()`                       | Variable IDs, data types         |\n",
    "| `int()`, `str()`, `float()`            | Data type conversion             |\n",
    "| `list()`, `tuple()`, `set()`, `dict()` | Complex data types               |\n",
    "| `len()`                                | Length of a complex data type    |\n",
    "| `abs()`, `max()`, `min()`              | Mathematical basic functions      |\n",
    "| `exit()`                               | Exit the program                 |\n",
    "| `sorted()`                             | Sorting                           |\n",
    "| …                                      |                                   |"
   ]
  },
  {
   "cell_type": "markdown",
   "id": "b98e67fbc5704298a095eb369526ad78",
   "metadata": {
    "editable": true,
    "slideshow": {
     "slide_type": "subslide"
    },
    "tags": [
     "remove-cell",
     "translated_en"
    ],
    "translation": {
     "lang": "de",
     "src_hash": "cc85cbe0a600bb6e42a9f340cd2e370dc4ebf93d9e06b8e9e84fbd70c3f4cce9",
     "updated_at_iso": "2025-08-16T15:49:03.409611+00:00"
    }
   },
   "source": [
    "## What are functions used for?\n",
    "\n",
    "- Readability, modularity, and reusability  \n",
    "  *\"Write once, run anywhere\"*\n",
    "- Modern style: break programs down into as many **core functions** as possible"
   ]
  },
  {
   "cell_type": "markdown",
   "id": "30f52e34ae4c46cc8e6d373cebe3e258",
   "metadata": {
    "editable": true,
    "slideshow": {
     "slide_type": "skip"
    },
    "tags": [
     "translated_en"
    ],
    "translation": {
     "lang": "de",
     "src_hash": "425c27c0e5db65eabb8a829edd865f84474732fb8e9daa8895bc265c42d1b5de",
     "updated_at_iso": "2025-08-16T15:49:39.544252+00:00"
    }
   },
   "source": [
    "## Quiz\n",
    "\n",
    "\n",
    "```{quizdown}\n",
    "\t\n",
    "\tshuffleQuestions: true\n",
    "\tshuffleAnswers: true\n",
    "\t\n",
    "\n",
    "    ### What are functions used for in Python?\n",
    "    - [x] To structure reusable code  \n",
    "    - [x] To make programs clearer  \n",
    "    - [ ] To make the code faster  \n",
    "    - [ ] To create databases\n",
    "\n",
    "    ### How does a function definition begin in Python?\n",
    "    - [x] With the keyword `def`  \n",
    "    - [ ] With `function`  \n",
    "    - [ ] With `define()`  \n",
    "    - [ ] With `func`\n",
    "\n",
    "    ### What happens if the function body is not properly indented?\n",
    "    - [x] There is a syntax error  \n",
    "    - [ ] The function is ignored  \n",
    "    - [ ] The function is stored as a global function  \n",
    "    - [ ] Python automatically indents the code\n",
    "\n",
    "    ### What does `return` do in a function?\n",
    "    - [x] Ends the function and returns a value  \n",
    "    - [ ] Automatically prints all arguments  \n",
    "    - [ ] Repeats the function  \n",
    "    - [ ] Skips the rest of the code\n",
    "\n",
    "    ### What happens when multiple values are returned with `return`?\n",
    "    - [x] A tuple is returned  \n",
    "    - [ ] Only the first value is returned  \n",
    "    - [ ] An error occurs  \n",
    "    - [ ] All values are automatically printed\n",
    "\n",
    "    ### Where are variables valid that were defined inside a function?\n",
    "    - [x] Only inside the function  \n",
    "    - [ ] In the entire program  \n",
    "    - [ ] Inside loops  \n",
    "    - [ ] In the entire module\n",
    "\n",
    "    ### What happens to a variable `x` that is defined inside a function?\n",
    "    - [x] It exists only during the function execution  \n",
    "    - [ ] It automatically overwrites global variables  \n",
    "    - [ ] It becomes a global constant  \n",
    "    - [ ] It stays in memory until the program ends\n",
    "\n",
    "    ### What happens to primitive data types when they are passed to a function and modified there?\n",
    "    - [x] The change remains local to the function  \n",
    "    - [ ] The original variable is always overwritten  \n",
    "    - [ ] Python stores the change automatically globally  \n",
    "    - [ ] The function automatically returns a copy\n",
    "\n",
    "    ### What happens if you modify a list in a function **modified**, but do not reassign it?\n",
    "    - [x] The change also affects outside the function  \n",
    "    - [ ] The list is automatically copied  \n",
    "    - [ ] The function creates a new list  \n",
    "    - [ ] An error occurs\n",
    "\n",
    "    ### How does a list behave if it is **reassigned** in a function?\n",
    "    - [x] The global list remains unchanged\n",
    "    - [ ] The global list is overwritten\n",
    "    - [ ] It cannot be used inside a function  \n",
    "    - [ ] Python blocks this assignment\n",
    "\n",
    "    ### How does a Python program generally execute?\n",
    "    - [x] Line by line, from top to bottom  \n",
    "    - [ ] Randomly, depending on the interpreter  \n",
    "    - [ ] Only at the end, then backwards  \n",
    "    - [ ] From functions to the main program\n",
    "\n",
    "    ### What happens if a function is defined but not called?\n",
    "    - [x] The code in the function is skipped  \n",
    "    - [ ] The function is executed automatically anyway  \n",
    "    - [ ] The code is only run on the next restart  \n",
    "    - [ ] Python shows a warning\n",
    "\n",
    "    ### What happens on function call?\n",
    "    - [x] The function code is executed at this point  \n",
    "    - [ ] Only the return value is computed  \n",
    "    - [ ] Only the last line of the function is executed  \n",
    "    - [ ] Python pauses the main program\n",
    "\n",
    "    ### What is a recursive function?\n",
    "    - [x] A function that calls itself\n",
    "    - [ ] A function that may be called only once\n",
    "    - [ ] A function without parameters\n",
    "    - [ ] A special looping function in Python\n",
    "\n",
    "    ### What error is in this example?\n",
    "    ```python\n",
    "    def rekursive_funktion():\n",
    "        rekursive_funktion()\n",
    "    ```\n",
    "    - [x] It lacks a termination condition, causing an infinite loop\n",
    "    - [ ] The function name is invalid\n",
    "    - [ ] Python does not allow self-calls\n",
    "    - [ ] The function must have a parameter\n",
    "\n",
    "    ### Sort the following lines to correctly implement a simple recursive function:\n",
    "    ```python\n",
    "    n = 3\n",
    "    ```\n",
    "    1. `def count_down(n):`\n",
    "    2. `  if n <= 0:`\n",
    "    3. `    print(\"Fertig!\")`\n",
    "    4. `  else:`\n",
    "    5. `    print(n)`\n",
    "    6. `    count_down(n - 1)`\n",
    "\n",
    "```"
   ]
  },
  {
   "cell_type": "markdown",
   "id": "3d83964e0c2d43cebe4ec93328295aaf",
   "metadata": {
    "slideshow": {
     "slide_type": "slide"
    },
    "tags": [
     "remove-cell",
     "translated_en"
    ],
    "translation": {
     "lang": "de",
     "src_hash": "d2b7467259ef9f52d61ecf9953374631953b152baba6f1edeaac46d4c3d40a0b",
     "updated_at_iso": "2025-08-16T15:49:43.558343+00:00"
    }
   },
   "source": [
    "<div class=\"vslide\">\n",
    "  <div class=\"vslide-title\">\n",
    "    <p style=\"font-family: Protomolecule; font-size: 2.3em; margin: 0px auto; text-align: center; width: 100%;\">Questions?</p>\n",
    "  </div>\n",
    "  <script>setSectionBackground('#000000', 'images/mj_questions.mp4');</script>\n",
    "</div>"
   ]
  }
 ],
 "metadata": {
  "kernelspec": {
   "display_name": "Python 3 (ipykernel)",
   "language": "python",
   "name": "python3"
  },
  "language_info": {
   "codemirror_mode": {
    "name": "ipython",
    "version": 3
   },
   "file_extension": ".py",
   "mimetype": "text/x-python",
   "name": "python",
   "nbconvert_exporter": "python",
   "pygments_lexer": "ipython3",
   "version": "3.11.6"
  },
  "rise": {
   "auto_select": "none",
   "center": false,
   "enable_chalkboard": true,
   "header": "<img src=\"images/pd_logo.svg\" class=\"header_title_logo\"><img src=\"images/ai4sc_logo_v2.svg\" class=\"header_ai4sc_logo\">",
   "scroll": true,
   "show_buttons_on_startup": false,
   "slideNumber": true,
   "theme": "white"
  },
  "vscode": {
   "interpreter": {
    "hash": "6d5b4c1aed727cf1aeefa5ce625efdd40a732dd8ec11ef525b58c5aca2b06a32"
   }
  }
 },
 "nbformat": 4,
 "nbformat_minor": 4
}
