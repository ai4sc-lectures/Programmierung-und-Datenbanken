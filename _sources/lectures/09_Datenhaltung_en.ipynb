{
 "cells": [
  {
   "cell_type": "markdown",
   "id": "1ca9fd2ad98c43139ab1190c6eb3d57a",
   "metadata": {
    "editable": true,
    "slideshow": {
     "slide_type": "slide"
    },
    "tags": [
     "remove-cell",
     "translated_en"
    ],
    "translation": {
     "lang": "de",
     "src_hash": "d3ec6ddd96168a9c91a2d0c8fe4ab9375d176318b93c4ef2273c8ef1e70e5cae",
     "updated_at_iso": "2025-08-16T17:08:48.911497+00:00"
    }
   },
   "source": [
    "<div class=\"vslide\">\n",
    "  <div class=\"vslide-title\">\n",
    "    <p style=\"font-family: Protomolecule; font-size: 2.3em; line-height: 90%; margin: 0px auto; text-align: center; width: 100%;\"><span style=\"letter-spacing: .04rem;\">programming</span><br><span style=\"letter-spacing: .0rem;\">and databases</span></p>\n",
    "<p class=\"author\" style=\"font-family: Protomolecule; margin: 0px auto;  text-align: center; width: 100%; font-size: 1.2em;\">Joern Ploennigs</p>\n",
    "<p class=\"subtitle\" style=\"font-family: Protomolecule; margin: 1em auto; text-align: center; width: 100%; font-size: 1.2em;\">Data storage</p>\n",
    "    <figcaption>Midjourney: Librarian, ref. Giuseppe Arcimboldo</figcaption>\n",
    "  </div>\n",
    "<script>\n",
    "  function setSectionBackground(c,v){\n",
    "    let e=document.currentScript.previousElementSibling;\n",
    "    while(e&&e.tagName!=='SECTION')e=e.parentElement;\n",
    "    if(e){\n",
    "      if(c)e.setAttribute('data-background-color',c);\n",
    "      if(v){\n",
    "        e.setAttribute('data-background-video',v);\n",
    "        e.setAttribute('data-background-video-loop','true');\n",
    "        e.setAttribute('data-background-video-muted','true');\n",
    "      }\n",
    "    }\n",
    "  }\n",
    "  setSectionBackground('#000000', 'images/09_Datenhaltung/mj_title.mp4');\n",
    "</script>\n",
    "<style>\n",
    ".flex-row{display:flex; gap:2rem; align-items:flex-start; justify-content:space-between;}\n",
    ".flex-row .col1{flex:1; min-width:10px}\n",
    ".flex-row .col2{flex:2; min-width:10px}\n",
    ".flex-row .col3{flex:3; min-width:10px}\n",
    ".flex-row .col4{flex:4; min-width:10px}\n",
    ".flex-row .col5{flex:5; min-width:10px}\n",
    ".flex-row .col6{flex:6; min-width:10px}\n",
    ".flex-row .col7{flex:7; min-width:10px}\n",
    ".vcent{display:flex; align-items:center; justify-content:center}\n",
    "</style>\n",
    "</div>"
   ]
  },
  {
   "cell_type": "markdown",
   "id": "7a47272eaa994b68815105057f1d336f",
   "metadata": {
    "editable": true,
    "slideshow": {
     "slide_type": "skip"
    },
    "tags": [
     "translated_en"
    ],
    "translation": {
     "lang": "de",
     "src_hash": "390b23ddc28ff78c29d1477fdc42bd851c4235491c21926398a80bbf45bc6b50",
     "updated_at_iso": "2025-08-16T17:08:52.153844+00:00"
    }
   },
   "source": [
    "# Working with Files"
   ]
  },
  {
   "cell_type": "markdown",
   "id": "aab63629928e4db4b5bfd9971c2751e7",
   "metadata": {
    "slideshow": {
     "slide_type": "skip"
    },
    "tags": [
     "translated_en"
    ],
    "translation": {
     "lang": "de",
     "src_hash": "40be2644d2f3f2ec4075fdb72e727366753830611a2868a7fe5080a1b3c78a2d",
     "updated_at_iso": "2025-08-16T17:08:55.585187+00:00"
    }
   },
   "source": [
    "<figure class=\"mj-tile-band\">\n",
    "    <img src='images/09_Datenhaltung/mj_title_band.jpg'>\n",
    "    <figcaption>Midjourney: Librarian, ref. Giuseppe Arcimboldo</figcaption>\n",
    "</figure>\n",
    "\n",
    "> We don’t have better algorithms. We just have more data.\n",
    ">\n",
    "> — Peter Norvig"
   ]
  },
  {
   "cell_type": "markdown",
   "id": "2de5cf439c5f423987cb3b0617e7a6ef",
   "metadata": {
    "slideshow": {
     "slide_type": "skip"
    },
    "tags": [
     "translated_en"
    ],
    "translation": {
     "lang": "de",
     "src_hash": "0d1164d9e70eed2f2783be7d6ab5d4f5e667a93f8715f3ee84c8bcd592629529",
     "updated_at_iso": "2025-08-16T17:08:59.882870+00:00"
    }
   },
   "source": [
    "## <a href=\"../lec_slides/09_Datenhaltung.slides.html\">Slides</a>/<a href=\"../pdf/slides/09_Datenhaltung.pdf\">PDF</a>\n",
    "<iframe src=\"../lec_slides/09_Datenhaltung.slides.html\" width=\"750\" height=\"500\"></iframe>"
   ]
  },
  {
   "cell_type": "markdown",
   "id": "b270e64ea40f43618ebe0883cdd1a7d1",
   "metadata": {
    "slideshow": {
     "slide_type": "slide"
    },
    "tags": [
     "remove-cell",
     "translated_en"
    ],
    "translation": {
     "lang": "de",
     "src_hash": "d8f4d61e0eefd23fbe16a5496f79f0e30a86a4cc3dc4ab6fa992563035c24ac9",
     "updated_at_iso": "2025-08-16T17:09:02.171476+00:00"
    }
   },
   "source": [
    "## Process\n",
    "\n",
    "![](images/partB_1.svg)"
   ]
  },
  {
   "cell_type": "markdown",
   "id": "519b66e4f2b046889528cb76f126698e",
   "metadata": {
    "slideshow": {
     "slide_type": "skip"
    },
    "tags": [
     "translated_en"
    ],
    "translation": {
     "lang": "de",
     "src_hash": "3b3c1b518f2562f65ae5073cd25ebbfda0e1beff2498c317ea15c16745ef1d68",
     "updated_at_iso": "2025-08-16T17:09:08.402904+00:00"
    }
   },
   "source": [
    "In programs, data must be loaded and saved regularly. This is done on computers using files that are organized into directories. In the previous section on packages, we have already seen some examples that work with files. We now want to explore them in more detail."
   ]
  },
  {
   "cell_type": "markdown",
   "id": "aba8544c165846bbbf61ffa3fe09c49e",
   "metadata": {
    "slideshow": {
     "slide_type": "skip"
    },
    "tags": [
     "translated_en"
    ],
    "translation": {
     "lang": "de",
     "src_hash": "7d7c7673144697be896b34989022b376eb39093884eeeae396adad5e414dae5b",
     "updated_at_iso": "2025-08-16T17:09:10.242333+00:00"
    }
   },
   "source": [
    "## Reading Files"
   ]
  },
  {
   "cell_type": "markdown",
   "id": "6e1e4d4987544e618d054d1cdadc13b2",
   "metadata": {
    "slideshow": {
     "slide_type": "skip"
    },
    "tags": [
     "translated_en"
    ],
    "translation": {
     "lang": "de",
     "src_hash": "f3b553b59e2993a77432b594d2bbe020b1866716153525fbf444af0b0d417f5d",
     "updated_at_iso": "2025-08-16T17:09:19.518534+00:00"
    }
   },
   "source": [
    "A typical task is loading files. For this, Python provides the `open()` function with the `r` (read) flag. For this, you pass to the `open()` function the path of the file to be loaded and also the mode of the file, i.e., whether the file is a text file `t` or a binary file `b`.\n",
    "\n",
    "The `open()` function is usually used within the `with` construct, which assigns the file to a variable (`fi`) and automatically closes the file after the block ends. To read the contents of the file, we use the `read()` method of the file object."
   ]
  },
  {
   "cell_type": "code",
   "execution_count": null,
   "id": "84e43887fd58451ebd3dfe145c9484cd",
   "metadata": {
    "slideshow": {
     "slide_type": "skip"
    },
    "tags": [
     "translated_en"
    ],
    "translation": {
     "lang": "de",
     "src_hash": "62b0e87abcb40d069f3d90397d3f9d11552710efe098e30979d5b054506dbe93",
     "updated_at_iso": "2025-08-16T17:09:28.139248+00:00"
    }
   },
   "outputs": [],
   "source": [
    "with open(\"geometry/shapes/Line.py\", \"tr\") as fi:\n",
    "    file_contents = fi.read()\n",
    "    print(f\"File type {type(fi)}\")\n",
    "    print(f\"Type of variable {type(file_contents)}\\n\")\n",
    "    print(file_contents)"
   ]
  },
  {
   "cell_type": "markdown",
   "id": "e40de61d377248fb93238910017b4660",
   "metadata": {
    "slideshow": {
     "slide_type": "skip"
    },
    "tags": [
     "translated_en"
    ],
    "translation": {
     "lang": "de",
     "src_hash": "86bfc08c81f43fc136abdac74896c54619eff2ef0366a3f53c1fbd252152ac8f",
     "updated_at_iso": "2025-08-16T17:09:33.589523+00:00"
    }
   },
   "source": [
    "In the same way, binary files can also be read. For this, we replace the file type `t` with the binary `b` and load the file. We can see that the data type of the loaded file contents now changes to `byte`. If we print the file contents, we also immediately see the special characters in the file such as `\\r` and `\\n`, which denote line breaks."
   ]
  },
  {
   "cell_type": "code",
   "execution_count": null,
   "id": "f3e4d0faa67745b3b608809f7ece493c",
   "metadata": {
    "slideshow": {
     "slide_type": "skip"
    },
    "tags": [
     "translated_en"
    ],
    "translation": {
     "lang": "de",
     "src_hash": "b9d10485bed5ce279dd799308923bf4df4c83d01e64ce5b7d32382d693706e50",
     "updated_at_iso": "2025-08-16T17:09:42.508610+00:00"
    }
   },
   "outputs": [],
   "source": [
    "with open(\"geometry/shapes/Line.py\", \"br\") as fi:\n",
    "    file_content = fi.read()\n",
    "    print(f\"Data type of file {type(fi)}\")\n",
    "    print(f\"Data type of variable {type(file_content)}\\n\")\n",
    "    print(file_content)"
   ]
  },
  {
   "cell_type": "markdown",
   "id": "459f0b5ab1d54dd3bab5546ba7ff7614",
   "metadata": {
    "slideshow": {
     "slide_type": "skip"
    },
    "tags": [
     "translated_en"
    ],
    "translation": {
     "lang": "de",
     "src_hash": "40391abf343f61855ecf7438a33159d199279679533366ec206e901bd5cb7514",
     "updated_at_iso": "2025-08-16T17:09:44.121480+00:00"
    }
   },
   "source": [
    "## Writing files"
   ]
  },
  {
   "cell_type": "markdown",
   "id": "cbf8a9829231410aa8b941cd96eecd38",
   "metadata": {
    "slideshow": {
     "slide_type": "skip"
    },
    "tags": [
     "translated_en"
    ],
    "translation": {
     "lang": "de",
     "src_hash": "e2510c0aa49e97cd387a22f2d77841d71381403d5fd8712ecaf680b63f923e5d",
     "updated_at_iso": "2025-08-16T17:09:48.206851+00:00"
    }
   },
   "source": [
    "In the same way, we can also create new files using the `open()` function. For this, we use the shorthand `w` (write). Here too, text files are distinguished with `t` and binary files with `b`. To write the file, we use the `write()` method of the file object `fo`."
   ]
  },
  {
   "cell_type": "code",
   "execution_count": null,
   "id": "800ccbdd78fb412285b93434c90113cb",
   "metadata": {
    "slideshow": {
     "slide_type": "skip"
    },
    "tags": [
     "translated_en"
    ],
    "translation": {
     "lang": "de",
     "src_hash": "ca76f616e5d6d64b4a9d1db47146504a068f6a436e7ac2179be202038d3d4503",
     "updated_at_iso": "2025-08-16T17:09:55.525513+00:00"
    }
   },
   "outputs": [],
   "source": [
    "with open(\"meineDatei.txt\", \"tw\") as fo:\n",
    "    fileContent = \"Meine eigener Inhalt\"\n",
    "    fo.write(fileContent)"
   ]
  },
  {
   "cell_type": "markdown",
   "id": "f9523fd5bbe34d5aaf7fd5a6cc0dc013",
   "metadata": {
    "slideshow": {
     "slide_type": "skip"
    },
    "tags": [
     "translated_en"
    ],
    "translation": {
     "lang": "de",
     "src_hash": "5716e025a179581d6dea546def1e82c1ef57fdf1f677ac9bd60dc082304f4091",
     "updated_at_iso": "2025-08-16T17:09:58.994842+00:00"
    }
   },
   "source": [
    "To verify, we read the file again."
   ]
  },
  {
   "cell_type": "code",
   "execution_count": null,
   "id": "03d2646d0a96428eaf8dfe797498c8d1",
   "metadata": {
    "slideshow": {
     "slide_type": "skip"
    },
    "tags": [
     "translated_en"
    ],
    "translation": {
     "lang": "de",
     "src_hash": "0eeeadaf0bb859f9955d1cd0161feb9251146c89ccab46453243d686f361ffd3",
     "updated_at_iso": "2025-08-16T17:10:03.840880+00:00"
    }
   },
   "outputs": [],
   "source": [
    "with open(\"meineDatei.txt\", \"tr\") as f:\n",
    "    print(f.read())"
   ]
  },
  {
   "cell_type": "markdown",
   "id": "ef467f3a60844676b4f5097edc341a5d",
   "metadata": {
    "slideshow": {
     "slide_type": "skip"
    },
    "tags": [
     "translated_en"
    ],
    "translation": {
     "lang": "de",
     "src_hash": "053fe4f59ffd1c34598c9239bf9fb7971397307d8a9058e8ce47e8154ed19745",
     "updated_at_iso": "2025-08-16T17:10:06.928994+00:00"
    }
   },
   "source": [
    "It's important to note that the file will be overwritten completely."
   ]
  },
  {
   "cell_type": "code",
   "execution_count": null,
   "id": "4bf9fa19b5f84bad9ff0d3b0af6fde24",
   "metadata": {
    "slideshow": {
     "slide_type": "skip"
    },
    "tags": [
     "translated_en"
    ],
    "translation": {
     "lang": "de",
     "src_hash": "e63cb38fabce0bbe3739d207201894352236981af92c90dccf767cfaf09ce85e",
     "updated_at_iso": "2025-08-16T17:10:12.502441+00:00"
    }
   },
   "outputs": [],
   "source": [
    "with open(\"meineDatei.txt\", \"tw\") as fo:\n",
    "    date_content = \"Neuer Inhalt\"\n",
    "    fo.write(date_content)"
   ]
  },
  {
   "cell_type": "code",
   "execution_count": null,
   "id": "ec3bba1f9f4e452d9f82cfe6a56daba5",
   "metadata": {
    "slideshow": {
     "slide_type": "skip"
    },
    "tags": [
     "translated_en"
    ],
    "translation": {
     "lang": "de",
     "src_hash": "0eeeadaf0bb859f9955d1cd0161feb9251146c89ccab46453243d686f361ffd3",
     "updated_at_iso": "2025-08-16T17:10:17.300035+00:00"
    }
   },
   "outputs": [],
   "source": [
    "with open(\"meineDatei.txt\", \"tr\") as fi:\n",
    "    print(fi.read())"
   ]
  },
  {
   "cell_type": "markdown",
   "id": "8aeddfb8a084427d84d631119f2a7f68",
   "metadata": {
    "slideshow": {
     "slide_type": "skip"
    },
    "tags": [
     "translated_en"
    ],
    "translation": {
     "lang": "de",
     "src_hash": "b558d98b19878798c2a95800d617442ad1d3f8c38f6209674887eb273563a624",
     "updated_at_iso": "2025-08-16T17:10:22.449872+00:00"
    }
   },
   "source": [
    "## File existence test"
   ]
  },
  {
   "cell_type": "markdown",
   "id": "7633c52839ab4f3fa2d7e5e577b6190c",
   "metadata": {
    "slideshow": {
     "slide_type": "skip"
    },
    "tags": [
     "translated_en"
    ],
    "translation": {
     "lang": "de",
     "src_hash": "99330f6516694733755f9868f0cf8ca46035f4808fd7b59ed993ff0f754dbfc6",
     "updated_at_iso": "2025-08-16T17:10:27.619754+00:00"
    }
   },
   "source": [
    "Often you want to check whether a file already exists and load it accordingly or, for example, recreate it. The standard library `os`, which we have already learned about, offers such functions and more."
   ]
  },
  {
   "cell_type": "code",
   "execution_count": null,
   "id": "ac1b5b3736d0430abde680bd97f037ee",
   "metadata": {
    "slideshow": {
     "slide_type": "skip"
    },
    "tags": [
     "translated_en"
    ],
    "translation": {
     "lang": "de",
     "src_hash": "24b39446b107d09dc0a244b2c13b818a5275d43fbea93c46f458131ceb12bc11",
     "updated_at_iso": "2025-08-16T17:10:31.298306+00:00"
    }
   },
   "outputs": [],
   "source": [
    "import os\n",
    "\n",
    "if os.path.exists(\"meineDatei.txt\"):\n",
    "    print(\"Datei existiert\")\n",
    "else:\n",
    "    print(\"Datei existiert noch nicht\")"
   ]
  },
  {
   "cell_type": "markdown",
   "id": "9caa2eceeefb431cb89e677a0451b634",
   "metadata": {
    "slideshow": {
     "slide_type": "skip"
    },
    "tags": [
     "translated_en"
    ],
    "translation": {
     "lang": "de",
     "src_hash": "54452b7a40b952a7bc777342e8f13199e36a14222cab1be1544e11864f0b43c4",
     "updated_at_iso": "2025-08-16T17:10:33.378555+00:00"
    }
   },
   "source": [
    "## List files"
   ]
  },
  {
   "cell_type": "markdown",
   "id": "3201095596124444a322afc431559895",
   "metadata": {
    "slideshow": {
     "slide_type": "skip"
    },
    "tags": [
     "translated_en"
    ],
    "translation": {
     "lang": "de",
     "src_hash": "d53bc036a525be23db0b386e519a9b957758403d190220df8ae98b9cb23cde55",
     "updated_at_iso": "2025-08-16T17:10:41.571389+00:00"
    }
   },
   "source": [
    "To list all files in a directory named `folder`, we can use the `os.listdir()` function. With the `os.path.isfile()` function, we can check whether the name refers to a file or a directory. If it is a file, we can open it with the `open` function to, for example, load its contents and compute the number of lines of code. For this, we use the `readlines` function instead of the `read` function to obtain all lines individually in a list."
   ]
  },
  {
   "cell_type": "code",
   "execution_count": null,
   "id": "f707bc3e375e4441a90f6f6088b1a59f",
   "metadata": {
    "slideshow": {
     "slide_type": "skip"
    },
    "tags": [
     "translated_en"
    ],
    "translation": {
     "lang": "de",
     "src_hash": "efccfa3c65b67731e661e443e0692d53ce74db0b5409bae2fcf00efae9c576fe",
     "updated_at_iso": "2025-08-16T17:10:50.749473+00:00"
    }
   },
   "outputs": [],
   "source": [
    "import os\n",
    "\n",
    "folder = \"geometry/shapes/\"\n",
    "files = 0\n",
    "codelines = 0\n",
    "for count, name in enumerate(os.listdir(folder)):\n",
    "\tif os.path.isfile(os.path.join(folder, name)):\n",
    "\t\twith open(os.path.join(folder, name), \"tr\") as fi:\n",
    "\t\t\tcodelines += len(fi.readlines())\n",
    "\t\t\tfiles += 1\n",
    "\n",
    "print(f\"{codelines} Codezeilen in {files} Dateien\")"
   ]
  },
  {
   "cell_type": "markdown",
   "id": "65aa0d1ff09643afb4de327261ec5ed8",
   "metadata": {
    "slideshow": {
     "slide_type": "skip"
    },
    "tags": [
     "translated_en"
    ],
    "translation": {
     "lang": "de",
     "src_hash": "9165a5bc91d1b5db5ef92655f0cda2c4c4acba6c91be14c19f5753a58e497d36",
     "updated_at_iso": "2025-08-16T17:10:52.232583+00:00"
    }
   },
   "source": [
    "## Delete files"
   ]
  },
  {
   "cell_type": "markdown",
   "id": "f472ad8f70cc49cc9c1ddf1cb32b02f6",
   "metadata": {
    "slideshow": {
     "slide_type": "skip"
    },
    "tags": [
     "translated_en"
    ],
    "translation": {
     "lang": "de",
     "src_hash": "c5bf11468b893ed8123e822658f15e4f4635298d45c7e45810757f2bc9c28d22",
     "updated_at_iso": "2025-08-16T17:10:55.707668+00:00"
    }
   },
   "source": [
    "The `os` package also provides functions for deleting files. Of course, these should be used with caution."
   ]
  },
  {
   "cell_type": "code",
   "execution_count": null,
   "id": "2e7ada7dcb3c47dea75d3874367cd49b",
   "metadata": {
    "slideshow": {
     "slide_type": "skip"
    },
    "tags": [
     "translated_en"
    ],
    "translation": {
     "lang": "de",
     "src_hash": "0b2fef78a760796ff737dd78767e5e9578182c87f671d5c38e82c6b8b1bad6fe",
     "updated_at_iso": "2025-08-16T17:10:58.527549+00:00"
    }
   },
   "outputs": [],
   "source": [
    "os.remove(\"meineDatei.txt\")"
   ]
  },
  {
   "cell_type": "markdown",
   "id": "d3a74816cef84cea98a0d6a7713138fb",
   "metadata": {
    "slideshow": {
     "slide_type": "skip"
    },
    "tags": [
     "translated_en"
    ],
    "translation": {
     "lang": "de",
     "src_hash": "bc22e055ec9196cf968f9374f59bdf272a082e31758729c04026368815901e12",
     "updated_at_iso": "2025-08-16T17:11:02.544240+00:00"
    }
   },
   "source": [
    "## Common text file formats"
   ]
  },
  {
   "cell_type": "markdown",
   "id": "2ce74d9aa15f402687f4cfcc70b17156",
   "metadata": {
    "slideshow": {
     "slide_type": "skip"
    },
    "tags": [
     "translated_en"
    ],
    "translation": {
     "lang": "de",
     "src_hash": "7cd09ec39ce31445663731d69129a576bd3ef79f40ac20f6c8531e3e912e6a7b",
     "updated_at_iso": "2025-08-16T17:11:05.539073+00:00"
    }
   },
   "source": [
    "### TXT files"
   ]
  },
  {
   "cell_type": "markdown",
   "id": "5e14863651494a898431008defc5df31",
   "metadata": {
    "slideshow": {
     "slide_type": "skip"
    },
    "tags": [
     "translated_en"
    ],
    "translation": {
     "lang": "de",
     "src_hash": "c3354710e08eb1c94cad108d075662e01ced1a852b71d6b0b196f9c361fdcf67",
     "updated_at_iso": "2025-08-16T17:11:10.451072+00:00"
    }
   },
   "source": [
    "One of the simplest formats for saving text on a computer is text files. They usually have the file extension `.txt`. We have already used this file extension change above."
   ]
  },
  {
   "cell_type": "markdown",
   "id": "7d585209cd704b33aac09bdf953fd4fc",
   "metadata": {
    "slideshow": {
     "slide_type": "skip"
    },
    "tags": [
     "translated_en"
    ],
    "translation": {
     "lang": "de",
     "src_hash": "8da65b4dc33bb8fb414b84e9f6709c3043417dc7b9f72b0c0773622764d79f1a",
     "updated_at_iso": "2025-08-16T17:11:12.696156+00:00"
    }
   },
   "source": [
    "### JSON files"
   ]
  },
  {
   "cell_type": "markdown",
   "id": "6069b45fdb894879a2ef21f61fb37538",
   "metadata": {
    "slideshow": {
     "slide_type": "skip"
    },
    "tags": [
     "translated_en"
    ],
    "translation": {
     "lang": "de",
     "src_hash": "e4eef7d62c8e5d3b236ad6b254e010b681aa6e16bbf9187ece85caeba5176a9f",
     "updated_at_iso": "2025-08-16T17:11:18.044731+00:00"
    }
   },
   "source": [
    "Nowadays, structured information is often exchanged in the `JSON` format. In particular, many APIs of web servers on the Internet use this standard. It has the advantage that the data remains readable by humans and can thus be interpreted by web developers. At its core, the standard resembles the representation of a `dict` in Python.\n",
    "\n",
    "For example, we can store the data record for a person in the following `dict`."
   ]
  },
  {
   "cell_type": "code",
   "execution_count": null,
   "id": "18dd12255efd4e4c9d5e2beea1e04a53",
   "metadata": {
    "slideshow": {
     "slide_type": "skip"
    },
    "tags": [
     "translated_en"
    ],
    "translation": {
     "lang": "de",
     "src_hash": "6533f0037d23ee29158a130c09819e0d498ccffcc894ea895e55c77eedd4fb33",
     "updated_at_iso": "2025-08-16T17:11:22.827983+00:00"
    }
   },
   "outputs": [],
   "source": [
    "person={\n",
    "\t\"firstName\": \"John\",\n",
    "\t\"lastName\": \"Smith\",\n",
    "\t\"isAlive\": True,\n",
    "\t\"age\": 25,\n",
    "\t\"address\": {\n",
    "\t\t\"streetAddress\": \"21 2nd Street\",\n",
    "\t\t\"city\": \"New York\",\n",
    "\t\t\"state\": \"NY\",\n",
    "\t\t\"postalCode\": \"10021-3100\" \n",
    "\t},\n",
    " \t\"children\": [],\n",
    "\t\"spouse\": None\n",
    "}"
   ]
  },
  {
   "cell_type": "markdown",
   "id": "dead6cf8523347a5aa21b0f1e725fa47",
   "metadata": {
    "slideshow": {
     "slide_type": "skip"
    },
    "tags": [
     "translated_en"
    ],
    "translation": {
     "lang": "de",
     "src_hash": "d9feecef582c92e8640557e57b890d645ba2a920698f706a09fe87fafc015d35",
     "updated_at_iso": "2025-08-16T17:11:26.550106+00:00"
    }
   },
   "source": [
    "Using the `json` package, this dataset can now be easily converted into a `JSON` string and written to a file."
   ]
  },
  {
   "cell_type": "code",
   "execution_count": null,
   "id": "1267bdf2bfb947eab065ab1016d35343",
   "metadata": {
    "slideshow": {
     "slide_type": "skip"
    },
    "tags": [
     "translated_en"
    ],
    "translation": {
     "lang": "de",
     "src_hash": "f58e2ae04f6190b543bbffa7005b54bc5a64d3108e60482fda8526085cccdfe8",
     "updated_at_iso": "2025-08-16T17:11:29.858702+00:00"
    }
   },
   "outputs": [],
   "source": [
    "import json\n",
    "\n",
    "with open(\"person.json\", \"tw\") as fo:\n",
    "    json.dump(person, fo, indent=2)"
   ]
  },
  {
   "cell_type": "markdown",
   "id": "e9ddc52807c84b8f9771a7a721577df5",
   "metadata": {
    "slideshow": {
     "slide_type": "skip"
    },
    "tags": [
     "translated_en"
    ],
    "translation": {
     "lang": "de",
     "src_hash": "a743920063ef9bdd9ee35a681d112a88d168ec1d088df2915d14c83ae755d61c",
     "updated_at_iso": "2025-08-16T17:11:34.631468+00:00"
    }
   },
   "source": [
    "Let's take a look at the file. Since it's a text file, we can load it with `open(name, \"tr\")`."
   ]
  },
  {
   "cell_type": "code",
   "execution_count": null,
   "id": "139b5fd1f9d54ceab104600e50770c38",
   "metadata": {
    "slideshow": {
     "slide_type": "skip"
    },
    "tags": [
     "translated_en"
    ],
    "translation": {
     "lang": "de",
     "src_hash": "ed3f24ec4f895a589238f0800cc8bc44d31c639c4f3eb463f19175bc4a21839d",
     "updated_at_iso": "2025-08-16T17:11:42.760091+00:00"
    }
   },
   "outputs": [],
   "source": [
    "with open(\"person.json\", \"tr\") as file:\n",
    "    date_content = file.read()\n",
    "    print(date_content)"
   ]
  },
  {
   "cell_type": "markdown",
   "id": "939d60aaff8446a8bf1d2295ec74864e",
   "metadata": {
    "slideshow": {
     "slide_type": "skip"
    },
    "tags": [
     "translated_en"
    ],
    "translation": {
     "lang": "de",
     "src_hash": "fbb505b7db8985c6896a27a9d63f25c33768c341c5f1442d61fdeef19bf2069e",
     "updated_at_iso": "2025-08-16T17:11:51.254071+00:00"
    }
   },
   "source": [
    "We can see that the JSON representation is very similar to the dictionary `person` defined above. The only differences are that the capitalized `True` in Python is written in lowercase here, and the `None` from Python has been replaced with `null`. The structure of both representations is, however, identical.\n",
    "\n",
    "From this text file we can now load our dataset directly back as a `dict`. For display we will use pretty print this time, because it is easier to read."
   ]
  },
  {
   "cell_type": "code",
   "execution_count": null,
   "id": "3d7a4dfcf89c476b92569e66f181b68a",
   "metadata": {
    "slideshow": {
     "slide_type": "skip"
    },
    "tags": [
     "translated_en"
    ],
    "translation": {
     "lang": "de",
     "src_hash": "d1d988ee8c5a31e53535f6d8e3e4a6c4f98366e1de39aefbc17fd055b559110c",
     "updated_at_iso": "2025-08-16T17:12:01.547346+00:00"
    }
   },
   "outputs": [],
   "source": [
    "from pprint import pprint\n",
    "\n",
    "with open(\"person.json\", \"tr\") as fi:\n",
    "    person_loaded = json.load(fi)\n",
    "    print(f\"Datentyp {type(person_loaded)}\")\n",
    "    pprint(person_loaded)"
   ]
  },
  {
   "cell_type": "markdown",
   "id": "64433db84e3b4acf869578e9647d0321",
   "metadata": {
    "slideshow": {
     "slide_type": "skip"
    },
    "tags": [
     "translated_en"
    ],
    "translation": {
     "lang": "de",
     "src_hash": "26ccb270356bc1227ca5494164173754a7779700df6dec921c7f5b7e30f0adb5",
     "updated_at_iso": "2025-08-16T17:12:12.653052+00:00"
    }
   },
   "source": [
    "The loaded `dict` corresponds to our original dictionary `person`. Although the order of the entries has changed, this is not guaranteed in J."
   ]
  },
  {
   "cell_type": "markdown",
   "id": "2c0c805cf1114dbc845594766673b947",
   "metadata": {
    "slideshow": {
     "slide_type": "skip"
    },
    "tags": [
     "translated_en"
    ],
    "translation": {
     "lang": "de",
     "src_hash": "30b557586f8fca7aeb986d3569081da14d250cc0929e09935086952b25f3ae8c",
     "updated_at_iso": "2025-08-16T17:12:16.616203+00:00"
    }
   },
   "source": [
    "## GeoJSON files"
   ]
  },
  {
   "cell_type": "markdown",
   "id": "fe239ac7a5e94055ac8a0e0676bfce1d",
   "metadata": {
    "slideshow": {
     "slide_type": "skip"
    },
    "tags": [
     "translated_en"
    ],
    "translation": {
     "lang": "de",
     "src_hash": "6936906aa2200e1023c0377a3c7e1486e14236dfa71e528889f373d7074b498a",
     "updated_at_iso": "2025-08-16T17:12:23.353583+00:00"
    }
   },
   "source": [
    "A special variant of the JSON format that is especially relevant for environmental informatics is the standardized [GeoJSON format](https://geojson.org/). This JSON-based format defines how certain geometric objects such as points, lines, and polygons should be represented in JSON. Each element is described as a JSON object (`dict` in Python) and defines the attributes `type` and `coordinates`."
   ]
  },
  {
   "cell_type": "markdown",
   "id": "507ebfb8360f493096b513a8d77bfd2f",
   "metadata": {
    "slideshow": {
     "slide_type": "skip"
    },
    "tags": [
     "translated_en"
    ],
    "translation": {
     "lang": "de",
     "src_hash": "ef8886be637555a387115ff67cf8467cf8984be81c821aee182a6e46a2ea0655",
     "updated_at_iso": "2025-08-16T17:12:25.560467+00:00"
    }
   },
   "source": [
    "A point is defined here as an element of type `Point` with two coordinates."
   ]
  },
  {
   "cell_type": "code",
   "execution_count": null,
   "id": "06a65c7c58044275986b7f7066890486",
   "metadata": {
    "slideshow": {
     "slide_type": "skip"
    },
    "tags": [
     "translated_en"
    ],
    "translation": {
     "lang": "de",
     "src_hash": "9b3a426becd13b4c110f9ab8945cc9287efec7b89e63e1d7768194923b8c27d5",
     "updated_at_iso": "2025-08-16T17:12:28.555095+00:00"
    }
   },
   "outputs": [],
   "source": [
    "point = {\n",
    "    \"type\": \"Point\",\n",
    "    \"coordinates\": [12.095843457646907, 54.075229197333016]\n",
    "}"
   ]
  },
  {
   "cell_type": "markdown",
   "id": "effa9672dc2e4857bc9ba8d7bd9e494b",
   "metadata": {
    "slideshow": {
     "slide_type": "skip"
    },
    "tags": [
     "translated_en"
    ],
    "translation": {
     "lang": "de",
     "src_hash": "c1c69989e0846ca51748edf7b12427e12d09c5c58e694932b6fe06c999014100",
     "updated_at_iso": "2025-08-16T17:12:31.853853+00:00"
    }
   },
   "source": [
    "A line is given as a `LineString` with a list of point coordinates, which are usually the start and end coordinates. If the `LineString` contains more than two coordinates, we have a polyline."
   ]
  },
  {
   "cell_type": "code",
   "execution_count": null,
   "id": "a93bc30d8d88474f89066a0d74a35a11",
   "metadata": {
    "slideshow": {
     "slide_type": "skip"
    },
    "tags": [
     "translated_en"
    ],
    "translation": {
     "lang": "de",
     "src_hash": "a47776a8dab25413dbd6d3a5cede32da4635ada9487052219e43d1662e4a27a4",
     "updated_at_iso": "2025-08-16T17:12:38.226716+00:00"
    }
   },
   "outputs": [],
   "source": [
    "line_oki_on = {\n",
    "    \"type\": \"LineString\",\n",
    "    \"coordinates\": [\n",
    "        [ 12.095844241344963, 54.075206445655795 ],\n",
    "        [ 12.09606074723871, 54.075028604743636 ],\n",
    "        [ 12.09593084370266, 54.074930156768204 ],\n",
    "        [ 12.096282665780166, 54.07495873846247 ],\n",
    "        [ 12.096558710795335, 54.07507941651065 ],\n",
    "        [ 12.096840168457192, 54.074863466071434 ],\n",
    "        [ 12.098052601464076, 54.07534617726671 ],\n",
    "        [ 12.098187917647891, 54.07534617726671 ],\n",
    "        [ 12.098317821183883, 54.07541286718799 ],\n",
    "        [ 12.098377360305278, 54.075339825840246 ],\n",
    "        [ 12.098501851194726, 54.0753779343855 ]\n",
    "    ]\n",
    "}"
   ]
  },
  {
   "cell_type": "markdown",
   "id": "014efd7eda624cbf93401a3a2090162a",
   "metadata": {
    "slideshow": {
     "slide_type": "skip"
    },
    "tags": [
     "translated_en"
    ],
    "translation": {
     "lang": "de",
     "src_hash": "a5aa0ddd22cd0bd6b5f00de03eb7813b5df8324013fcad3c2e2aded9ef14ae9a",
     "updated_at_iso": "2025-08-16T17:12:46.954218+00:00"
    }
   },
   "source": [
    "A polygon is defined with the type `Polygon`, whose coordinates are given as a list of one or more closed line strings, such that the end point coincides with the start point."
   ]
  },
  {
   "cell_type": "code",
   "execution_count": null,
   "id": "554f30428f044ffd8ff966e139fea952",
   "metadata": {
    "slideshow": {
     "slide_type": "skip"
    },
    "tags": [
     "translated_en"
    ],
    "translation": {
     "lang": "de",
     "src_hash": "670977e8e0caa4e2c16182076b337ff32b2abbcd376b92835462aa9a295ae76b",
     "updated_at_iso": "2025-08-16T17:12:53.239910+00:00"
    }
   },
   "outputs": [],
   "source": [
    "campus = { \n",
    "    \"type\": \"Polygon\",\n",
    "    \"coordinates\": [\n",
    "        [\n",
    "            [ 12.093402064538196, 54.07479416035679 ],\n",
    "            [ 12.094194380118807, 54.074246433609375 ],\n",
    "            [ 12.094578770845374, 54.074103747303894 ] ,\n",
    "            [ 12.095018074534778, 54.074191200259065 ],\n",
    "            [ 12.095661340649713, 54.074435147002276 ],\n",
    "            [ 12.096328140890677, 54.073947252082434 ],\n",
    "            [ 12.098359920447564, 54.075010487417984 ],\n",
    "            [ 12.098822758261605, 54.07471591412107 ],\n",
    "            [ 12.099866104521425, 54.07523141601854 ],\n",
    "            [ 12.09959938442529, 54.075383303749476 ],\n",
    "            [ 12.100462302384159, 54.075700885391115 ],\n",
    "            [ 12.098869826513692, 54.0770356222489 ],\n",
    "            [ 12.09752838132394, 54.076602988106 ],\n",
    "            [ 12.095394620552042, 54.076082900668524 ],\n",
    "            [ 12.09422575895411, 54.07581595060367 ],\n",
    "            [ 12.094743509729398, 54.07538790639916 ],\n",
    "            [ 12.093402064538196, 54.07479416035679 ]\n",
    "        ]\n",
    "    ]\n",
    "}"
   ]
  },
  {
   "cell_type": "markdown",
   "id": "bae9eac8f47e428a84d7106228684ee3",
   "metadata": {
    "slideshow": {
     "slide_type": "skip"
    },
    "tags": [
     "translated_en"
    ],
    "translation": {
     "lang": "de",
     "src_hash": "87ba637fc9fa34f4ebe5ef6e152d2795e2f36558f087b0cdb89117b4b8939ecc",
     "updated_at_iso": "2025-08-16T17:12:59.090333+00:00"
    }
   },
   "source": [
    "Since many objects not only have geometry but also additional attributes, there is the helper object `Feature`, which provides the `properties` attribute where you can define your own metadata. This way we can define a GeoJSON object to store the position of the OKI."
   ]
  },
  {
   "cell_type": "code",
   "execution_count": null,
   "id": "a60409c7cd0245d597d05f7f95ba77e2",
   "metadata": {
    "slideshow": {
     "slide_type": "skip"
    },
    "tags": [
     "translated_en"
    ],
    "translation": {
     "lang": "de",
     "src_hash": "e472d609efc81ad64be61569932f58fcfcb1cba378a0a2c0b6c9c534dd01ddbc",
     "updated_at_iso": "2025-08-16T17:13:16.930787+00:00"
    }
   },
   "outputs": [],
   "source": [
    "oki_feature = {\n",
    "  \"type\": \"Feature\",\n",
    "  \"geometry\": {\n",
    "    \"type\": \"Point\",\n",
    "    \"coordinates\": [12.095843457646907, 54.075229197333016]\n",
    "  },\n",
    "  \"properties\": {\n",
    "    \"name\": \"OKI\",\n",
    "    \"addresse\": \"Justus-von-Liebig-Weg 2\",\n",
    "    \"stadt\": \"Rostock\",\n",
    "    \"postleitzahl\": \"18059\",\n",
    "    \"land\": \"Deutschland\"\n",
    "  }\n",
    "}\n",
    "\n",
    "auf_feature = {\n",
    "  \"type\": \"Feature\",\n",
    "  \"geometry\": {\n",
    "    \"type\": \"Point\",\n",
    "    \"coordinates\": [12.098494794410726, 54.075390284810425]\n",
    "  },\n",
    "  \"properties\": {\n",
    "    \"name\": \"AUF\",\n",
    "    \"addresse\": \"Justus-von-Liebig-Weg 6\",\n",
    "    \"stadt\": \"Rostock\",\n",
    "    \"postleitzahl\":\"18059\",\n",
    "    \"land\": \"Deutschland\"\n",
    "  }\n",
    "}\n",
    "\n",
    "oki_to_auf_route = {\n",
    "  \"type\": \"Feature\",\n",
    "  \"geometry\": line_oki_to_auf,\n",
    "  \"properties\": {\n",
    "    \"name\": \"Weg OKI zu AUF\",\n",
    "    \"stadt\": \"Rostock\",\n",
    "    \"postleitzahl\":\"18059\",\n",
    "    \"land\": \"Deutschland\"\n",
    "  }\n",
    "}\n",
    "    \n",
    "campus_to_auf = {\n",
    "  \"type\": \"Feature\",\n",
    "  \"geometry\": campus,\n",
    "  \"properties\": {\n",
    "    \"name\": \"Campus\",\n",
    "    \"stadt\": \"Rostock\",\n",
    "    \"postleitzahl\":\"18059\",\n",
    "    \"land\": \"Deutschland\"\n",
    "  }\n",
    "}"
   ]
  },
  {
   "cell_type": "markdown",
   "id": "32ceaecd3bb74d9fa63cc595283e191d",
   "metadata": {
    "slideshow": {
     "slide_type": "skip"
    },
    "tags": [
     "translated_en"
    ],
    "translation": {
     "lang": "de",
     "src_hash": "6e3ec5a48ba81718975729ac2a2404a4e28eb6545d9e8f38d5a1bc71ea0307e3",
     "updated_at_iso": "2025-08-16T17:13:21.109359+00:00"
    }
   },
   "source": [
    "A collection of `Features` is stored in a `FeatureCollection`. It includes, besides the `type`, the `features` list."
   ]
  },
  {
   "cell_type": "code",
   "execution_count": null,
   "id": "8349a5133ad94ae0a3a41093914c43e4",
   "metadata": {
    "slideshow": {
     "slide_type": "skip"
    },
    "tags": [
     "translated_en"
    ],
    "translation": {
     "lang": "de",
     "src_hash": "f27d06b3f14d751f1494758f2549067c62221b839813dfebd134ba1905d6ef46",
     "updated_at_iso": "2025-08-16T17:13:30.230179+00:00"
    }
   },
   "outputs": [],
   "source": [
    "features = {\n",
    "  \"type\": \"FeatureCollection\",\n",
    "  \"features\": [\n",
    "    oki,\n",
    "    on,\n",
    "    path_oki_on,\n",
    "    campus_on\n",
    "  ]\n",
    "}"
   ]
  },
  {
   "cell_type": "markdown",
   "id": "a39cf5a22b73459db9fde8b995ea322b",
   "metadata": {
    "slideshow": {
     "slide_type": "skip"
    },
    "tags": [
     "translated_en"
    ],
    "translation": {
     "lang": "de",
     "src_hash": "fe629ba01bef095d2559acb7e9ebef4652a947540c7a3e66d1446a9a92538de6",
     "updated_at_iso": "2025-08-16T17:13:33.952714+00:00"
    }
   },
   "source": [
    "To process these GeoJSON objects in Python, we can use the `geojson` package. We'll install it again with `pip`."
   ]
  },
  {
   "cell_type": "code",
   "execution_count": null,
   "id": "3a39835740074608bfa6baf07bf93079",
   "metadata": {
    "slideshow": {
     "slide_type": "skip"
    },
    "tags": [
     "translated_en"
    ],
    "translation": {
     "lang": "de",
     "src_hash": "b42284c0d384d3cc143ac5a237f105635f39b7f3c0eb0ea994f70f8c1d71d27c",
     "updated_at_iso": "2025-08-16T17:13:37.800170+00:00"
    }
   },
   "outputs": [],
   "source": [
    "The input is a shell command, not Python code. Please provide the Python source you’d like translated (German to English for variable names, function/class names, docstrings, and inline comments)."
   ]
  },
  {
   "cell_type": "markdown",
   "id": "10bf4ae2cb4d4c5a94e2222a44a57c7f",
   "metadata": {
    "slideshow": {
     "slide_type": "skip"
    },
    "tags": [
     "translated_en"
    ],
    "translation": {
     "lang": "de",
     "src_hash": "6703a27e8d07d5540064ac780bd5923ac1b93add6491ee72d8d65a9a245f3da7",
     "updated_at_iso": "2025-08-16T17:13:50.060476+00:00"
    }
   },
   "source": [
    "The `geojson` package also provides standard classes for points, lines, and polygons, which we had previously defined ourselves as [classes](7a_Object.html). Due to the broad range of Python packages, you can often find packages that provide corresponding classes for your own problems, so a search is always worthwhile. A point in GeoJSON is created using the package."
   ]
  },
  {
   "cell_type": "code",
   "execution_count": null,
   "id": "4dacf37e5b7a45feb2707dcf4fb56459",
   "metadata": {
    "slideshow": {
     "slide_type": "skip"
    },
    "tags": [
     "translated_en"
    ],
    "translation": {
     "lang": "de",
     "src_hash": "0dadc5a6ec51d58973983c1c21d062425a69949c76c175f97ee102e0036075a7",
     "updated_at_iso": "2025-08-16T17:13:53.880789+00:00"
    }
   },
   "outputs": [],
   "source": [
    "from geojson import Point\n",
    "\n",
    "geojson_point = Point((12.095843457646907, 54.075229197333016))\n",
    "print(type(geojson_point))\n",
    "print(geojson_point)"
   ]
  },
  {
   "cell_type": "markdown",
   "id": "e99e433099994323a23cc6c02cf34d4d",
   "metadata": {
    "slideshow": {
     "slide_type": "skip"
    },
    "tags": [
     "translated_en"
    ],
    "translation": {
     "lang": "de",
     "src_hash": "d74fdf9b7c203756217ccb15c86db8f821dc97fad67bd5c34d87e499acf5353e",
     "updated_at_iso": "2025-08-16T17:13:57.740041+00:00"
    }
   },
   "source": [
    "New instances can also be created directly from JSON. For this, we use the package's `loads` function. It converts a JSON string into an object. To create the JSON string, we convert the dictionary `punkt` into a string using the `json.dumps()` function."
   ]
  },
  {
   "cell_type": "code",
   "execution_count": null,
   "id": "423c23aaadff49ee95c05abc4c4b382c",
   "metadata": {
    "slideshow": {
     "slide_type": "skip"
    },
    "tags": [
     "translated_en"
    ],
    "translation": {
     "lang": "de",
     "src_hash": "826e6b43791b468dbcfbbb42dc6d243d53a3e9cb9e99d1209b62bcd7f04eb126",
     "updated_at_iso": "2025-08-16T17:14:02.751883+00:00"
    }
   },
   "outputs": [],
   "source": [
    "import geojson\n",
    "import json\n",
    "\n",
    "json_str = json.dumps(point)\n",
    "geojson_point = geojson.loads(json_str)\n",
    "\n",
    "print(type(geojson_point))\n",
    "print(geojson_point)"
   ]
  },
  {
   "cell_type": "markdown",
   "id": "8baa15ab4b2947c59983be4ec40f1895",
   "metadata": {
    "slideshow": {
     "slide_type": "skip"
    },
    "tags": [
     "translated_en"
    ],
    "translation": {
     "lang": "de",
     "src_hash": "3d4affb88144b3887fd51f938ceda0abed7ee5f4f9995f5b4da6e5fdf9618168",
     "updated_at_iso": "2025-08-16T17:14:07.715670+00:00"
    }
   },
   "source": [
    "This is how our entire Feature Collection can be loaded as well."
   ]
  },
  {
   "cell_type": "code",
   "execution_count": null,
   "id": "d88c0e6185024fddb6aeca7ddf22cdf1",
   "metadata": {
    "slideshow": {
     "slide_type": "skip"
    },
    "tags": [
     "translated_en"
    ],
    "translation": {
     "lang": "de",
     "src_hash": "6754ade225fad1047d3962329f2aa114e909ef8addc667713a722db53fa60310",
     "updated_at_iso": "2025-08-16T17:14:13.029091+00:00"
    }
   },
   "outputs": [],
   "source": [
    "import geojson\n",
    "import json\n",
    "\n",
    "json_str=json.dumps(features)\n",
    "gson_features=geojson.loads(json_str)\n",
    "\n",
    "print(type(gson_features))\n",
    "print(gson_features)"
   ]
  },
  {
   "cell_type": "markdown",
   "id": "4e61c84b64f5473c9ddddbe1f0cd7e95",
   "metadata": {
    "slideshow": {
     "slide_type": "skip"
    },
    "tags": [
     "translated_en"
    ],
    "translation": {
     "lang": "de",
     "src_hash": "e0785a6c9bedbba2e1d93c6b40b85be6223eea53bc31484afd83fde75f576413",
     "updated_at_iso": "2025-08-16T17:14:19.067047+00:00"
    }
   },
   "source": [
    "The advantage of GeoJSON objects is that there are many other packages available to analyze this format. If we want to visualize our feature collection on a map, we can use the `geojsonio` package."
   ]
  },
  {
   "cell_type": "code",
   "execution_count": null,
   "id": "9fe75d3804644f238a8ce571536ecd6e",
   "metadata": {
    "slideshow": {
     "slide_type": "skip"
    },
    "tags": [
     "translated_en"
    ],
    "translation": {
     "lang": "de",
     "src_hash": "59da9db11d2ae04260ed58c9a0dae1e822bccf00533249c6c9748f17a80d466c",
     "updated_at_iso": "2025-08-16T17:14:26.264841+00:00"
    }
   },
   "outputs": [],
   "source": [
    "# pip install geojsonio  --quiet"
   ]
  },
  {
   "cell_type": "code",
   "execution_count": null,
   "id": "7733c7f0d6d44109838882c313da68a5",
   "metadata": {
    "slideshow": {
     "slide_type": "skip"
    },
    "tags": [
     "hide-output",
     "translated_en"
    ],
    "translation": {
     "lang": "de",
     "src_hash": "f7dad537cd6a6a5805012447b40b1970be022b8eb0d9094864dccdc2a440db8e",
     "updated_at_iso": "2025-08-16T17:14:28.145461+00:00"
    }
   },
   "outputs": [],
   "source": [
    "import geojsonio\n",
    "\n",
    "geojsonio.display(json_str)"
   ]
  },
  {
   "cell_type": "markdown",
   "id": "f42bfa4a0c464550b28cc3eed91caac4",
   "metadata": {
    "slideshow": {
     "slide_type": "skip"
    },
    "tags": [
     "translated_en"
    ],
    "translation": {
     "lang": "de",
     "src_hash": "b2c57d84e017f54d5424dab480a0f013d10b140d1be1d31d3c8fac338ff8fef3",
     "updated_at_iso": "2025-08-16T17:14:31.975310+00:00"
    }
   },
   "source": [
    "If we follow the link, we reach a webpage that displays the polygons, the line, and the points."
   ]
  },
  {
   "cell_type": "markdown",
   "id": "05244d35c89b4b90a4ea16255d65118a",
   "metadata": {
    "slideshow": {
     "slide_type": "skip"
    },
    "tags": [
     "translated_en"
    ],
    "translation": {
     "lang": "de",
     "src_hash": "b0ff42a1facdf93d12f764825b7025169412c2988bc3253297192232befaa103",
     "updated_at_iso": "2025-08-16T17:14:34.561150+00:00"
    }
   },
   "source": [
    "![Campus](images/09_Datenhaltung/campus.png)"
   ]
  },
  {
   "cell_type": "markdown",
   "id": "93a732e48f5d432ea0bf60efba7e6ba3",
   "metadata": {
    "slideshow": {
     "slide_type": "skip"
    },
    "tags": [
     "translated_en"
    ],
    "translation": {
     "lang": "de",
     "src_hash": "72876b7869545103064dea6df67f26c18f7db4f5c71a9f565718bd8fd7892d2b",
     "updated_at_iso": "2025-08-16T17:14:39.360406+00:00"
    }
   },
   "source": [
    "We will learn about additional applications of GeoJSON during the exercise."
   ]
  },
  {
   "cell_type": "markdown",
   "id": "5bfd4c69a4da4ad49c4017a00bb8d20b",
   "metadata": {
    "slideshow": {
     "slide_type": "skip"
    },
    "tags": [
     "translated_en"
    ],
    "translation": {
     "lang": "de",
     "src_hash": "a203a2352c859094c12c91c4893d9414105afb2e1d37a4a2add90b6e693fc097",
     "updated_at_iso": "2025-08-16T17:14:41.048246+00:00"
    }
   },
   "source": [
    "## XML"
   ]
  },
  {
   "cell_type": "markdown",
   "id": "5cec3152a38f4ce183e9d6b3a995a306",
   "metadata": {
    "slideshow": {
     "slide_type": "skip"
    },
    "tags": [
     "translated_en"
    ],
    "translation": {
     "lang": "de",
     "src_hash": "6a4ed09524ba46b826e50e4fe746737d73dfd5beeaaf95201eb208ff15854a9f",
     "updated_at_iso": "2025-08-16T17:14:51.632317+00:00"
    }
   },
   "source": [
    "XML is another very widespread file format. All websites on the Internet use, for example, this format. It is older than JSON and still very popular because it allows schemas (XLS) to be defined, against which the file can be validated. This ensures, for example, that HTML files are valid.\n",
    "\n",
    "With the help of the external packages `dicttoxml` and `xmltodict`, XML files can also be written and read easily. We install them with `pip`."
   ]
  },
  {
   "cell_type": "code",
   "execution_count": null,
   "id": "17094f56afbe4b4db063568d0ddaf53b",
   "metadata": {
    "slideshow": {
     "slide_type": "skip"
    },
    "tags": [
     "translated_en"
    ],
    "translation": {
     "lang": "de",
     "src_hash": "628b0a13496971942086be189d86260a3fae06669170a636455174e8b2d1f368",
     "updated_at_iso": "2025-08-16T17:14:58.389497+00:00"
    }
   },
   "outputs": [],
   "source": [
    "import subprocess\n",
    "subprocess.run([\"pip\", \"install\", \"dicttoxml\", \"xmltodict\", \"--quiet\"], check=True)"
   ]
  },
  {
   "cell_type": "code",
   "execution_count": null,
   "id": "23b088356fb240a58f079255f4e59aa8",
   "metadata": {
    "slideshow": {
     "slide_type": "skip"
    },
    "tags": [
     "remove-cell",
     "translated_en"
    ],
    "translation": {
     "lang": "de",
     "src_hash": "561c6ecadede2c594ffad3c05a06a373f55f1f0cf388fe337c43ba76135c7140",
     "updated_at_iso": "2025-08-16T17:15:04.291807+00:00"
    }
   },
   "outputs": [],
   "source": [
    "import dicttoxml\n",
    "\n",
    "with open(\"person.xml\", \"bw\") as fo:\n",
    "    fo.write(dicttoxml.dicttoxml(person, custom_root=\"person\"))"
   ]
  },
  {
   "cell_type": "code",
   "execution_count": null,
   "id": "292346a8d20d4ab2a8f2cbbb0598809b",
   "metadata": {
    "slideshow": {
     "slide_type": "skip"
    },
    "tags": [
     "translated_en"
    ],
    "translation": {
     "lang": "de",
     "src_hash": "313006baaa6d825cb909abfeb638f5628531caf45daba0983d580f89f32a2fd0",
     "updated_at_iso": "2025-08-16T17:15:13.650680+00:00"
    }
   },
   "outputs": [],
   "source": [
    "with open(\"person.xml\", \"tr\") as fi:\n",
    "    date_content = fi.read()\n",
    "    print(date_content)"
   ]
  },
  {
   "cell_type": "code",
   "execution_count": null,
   "id": "9008875c216044689339dd724cd10f6e",
   "metadata": {
    "slideshow": {
     "slide_type": "skip"
    },
    "tags": [
     "translated_en"
    ],
    "translation": {
     "lang": "de",
     "src_hash": "815ed1115bf4badb5f5254ea0774bc6cd3237e8f91e09938580155ea6dc939bc",
     "updated_at_iso": "2025-08-16T17:15:28.001916+00:00"
    }
   },
   "outputs": [],
   "source": [
    "import xmltodict\n",
    "from pprint import pprint\n",
    "\n",
    "with open(\"person.xml\", \"rt\") as fi:\n",
    "    person_loaded = xmltodict.parse(fi.read(), xml_attribs=False)\n",
    "    print(f\"Datentyp {type(person_loaded)}\")\n",
    "    pprint(person_loaded)"
   ]
  },
  {
   "cell_type": "markdown",
   "id": "5081076a9c1c4a348e58722e67bb1962",
   "metadata": {
    "slideshow": {
     "slide_type": "skip"
    },
    "tags": [
     "translated_en"
    ],
    "translation": {
     "lang": "de",
     "src_hash": "537ced0c6ecbc26a123daadafb1548c9f38e320f66115d0787ffce9da76ba005",
     "updated_at_iso": "2025-08-16T17:15:33.607164+00:00"
    }
   },
   "source": [
    "Here too, the loaded `dict` matches our original."
   ]
  },
  {
   "cell_type": "markdown",
   "id": "fd18009c3ea243e4a5ede4905c650358",
   "metadata": {
    "slideshow": {
     "slide_type": "skip"
    },
    "tags": [
     "translated_en"
    ],
    "translation": {
     "lang": "de",
     "src_hash": "f277e0671c224c0cb70792b994d2e0186d023866266b0f54d5735a40258b4a09",
     "updated_at_iso": "2025-08-16T17:15:35.165060+00:00"
    }
   },
   "source": [
    "### CSV files"
   ]
  },
  {
   "cell_type": "markdown",
   "id": "1ebced80ddca4e0cb4599e9f63c00538",
   "metadata": {
    "slideshow": {
     "slide_type": "skip"
    },
    "tags": [
     "translated_en"
    ],
    "translation": {
     "lang": "de",
     "src_hash": "3b524ea1e9e1efd69597255e0d1a7870d69db9ebec0bd89900fc231cef055c64",
     "updated_at_iso": "2025-08-16T17:15:41.433882+00:00"
    }
   },
   "source": [
    "Tables and measurements are frequently exchanged as CSV files. This is a very simple format in which the first line of the text file contains the column names, and then each line represents a row of the table. All values are separated by commas `,`. Since the comma is used as the decimal separator in German, a `;` or a tab character `\\t` is often used here.\n",
    "\n",
    "For processing tables, Python typically uses the `pandas` library. For example, if we want to store the data set of two people, we first convert it into a `pandas` DataFrame."
   ]
  },
  {
   "cell_type": "code",
   "execution_count": null,
   "id": "abde4ff2c13d4abbac6424f5f0e7d6c1",
   "metadata": {
    "slideshow": {
     "slide_type": "skip"
    },
    "tags": [
     "translated_en"
    ],
    "translation": {
     "lang": "de",
     "src_hash": "8eff63bc8a8819277f815a5ab62f72c501827e3ccaa1a83985a7dbdb95cecfb3",
     "updated_at_iso": "2025-08-16T17:15:45.355562+00:00"
    }
   },
   "outputs": [],
   "source": [
    "people=[\n",
    "    {\"FirstName\":\"John\", \"LastName\":\"Smith\", \"IsAlive\":True, \"Age\":25},\n",
    "    {\"FirstName\":\"Mary\", \"LastName\":\"Sue\", \"IsAlive\":True, \"Age\":30}\n",
    "]"
   ]
  },
  {
   "cell_type": "code",
   "execution_count": null,
   "id": "fb1013f2d1e6495fa5986576f899681d",
   "metadata": {
    "slideshow": {
     "slide_type": "skip"
    },
    "tags": [
     "translated_en"
    ],
    "translation": {
     "lang": "de",
     "src_hash": "c22585fa2563f975733a7c8af005361e006e479d10ce7738ad33ced794d4af1c",
     "updated_at_iso": "2025-08-16T17:16:18.627987+00:00"
    }
   },
   "outputs": [],
   "source": [
    "import pandas as pd\n",
    "\n",
    "table = pd.DataFrame(people)\n",
    "table"
   ]
  },
  {
   "cell_type": "markdown",
   "id": "d8f8453b439046dea5d0b0f1a71af270",
   "metadata": {
    "slideshow": {
     "slide_type": "skip"
    },
    "tags": [
     "translated_en"
    ],
    "translation": {
     "lang": "de",
     "src_hash": "56bd17d78439052215ca463d9e8f2424c7080db0430f34f07db1f8c0af7554cc",
     "updated_at_iso": "2025-08-16T17:16:21.947668+00:00"
    }
   },
   "source": [
    "We can now save these as a CSV file."
   ]
  },
  {
   "cell_type": "code",
   "execution_count": null,
   "id": "c507d0933d18458985154af93b9d0a49",
   "metadata": {
    "slideshow": {
     "slide_type": "skip"
    },
    "tags": [
     "translated_en"
    ],
    "translation": {
     "lang": "de",
     "src_hash": "93476cd40bc138259045039fda0011f3ddea98025c6b8e2e661d826da0103dcc",
     "updated_at_iso": "2025-08-16T17:16:26.428270+00:00"
    }
   },
   "outputs": [],
   "source": [
    "table.to_csv(\"leute.csv\", index=False) # index=False ensures that the row indices 0 and 1 are omitted"
   ]
  },
  {
   "cell_type": "markdown",
   "id": "7789a08ae60e4df7b60ea662ae7abf55",
   "metadata": {
    "slideshow": {
     "slide_type": "skip"
    },
    "tags": [
     "translated_en"
    ],
    "translation": {
     "lang": "de",
     "src_hash": "6b8dc418c4b6c783c9809a58da6ac69d439b521236d45e75d1893ba23b7d81aa",
     "updated_at_iso": "2025-08-16T17:16:30.734621+00:00"
    }
   },
   "source": [
    "We'll read the file back in as a test. Since it's text-based, we can use `open()` with `tr`."
   ]
  },
  {
   "cell_type": "code",
   "execution_count": null,
   "id": "9247f332200e490b8b80aaea753027d8",
   "metadata": {
    "slideshow": {
     "slide_type": "skip"
    },
    "tags": [
     "translated_en"
    ],
    "translation": {
     "lang": "de",
     "src_hash": "c5b87cb3d50b91954abf1b020799ac32542d8c1e839b67041ffcfa2101ef6d08",
     "updated_at_iso": "2025-08-16T17:16:38.428154+00:00"
    }
   },
   "outputs": [],
   "source": [
    "with open(\"leute.csv\", \"tr\") as fi:\n",
    "    date_content = fi.read()\n",
    "    print(date_content)"
   ]
  },
  {
   "cell_type": "markdown",
   "id": "df249fbb8d0b4bb19a7d3744ad677662",
   "metadata": {
    "slideshow": {
     "slide_type": "skip"
    },
    "tags": [
     "translated_en"
    ],
    "translation": {
     "lang": "de",
     "src_hash": "9e7021768ce4e6750241fede65603c7e543197d146b04361e70d313375a6130a",
     "updated_at_iso": "2025-08-16T17:16:40.262466+00:00"
    }
   },
   "source": [
    "We can now load the CSV file back into a table."
   ]
  },
  {
   "cell_type": "code",
   "execution_count": null,
   "id": "8db91fc10ada43deb89fb2d876229920",
   "metadata": {
    "slideshow": {
     "slide_type": "skip"
    },
    "tags": [
     "translated_en"
    ],
    "translation": {
     "lang": "de",
     "src_hash": "7caf9fa9bb37c04dc38da30a92a2c79f200d91febfd34987e2b498a758dcf3c6",
     "updated_at_iso": "2025-08-16T17:16:44.597149+00:00"
    }
   },
   "outputs": [],
   "source": [
    "table_read = pd.read_csv(\"leute.csv\")\n",
    "table_read"
   ]
  },
  {
   "cell_type": "markdown",
   "id": "8c785966cbac466d91c22465a751d9d3",
   "metadata": {
    "slideshow": {
     "slide_type": "skip"
    },
    "tags": [
     "translated_en"
    ],
    "translation": {
     "lang": "de",
     "src_hash": "6fcc77dc080913e4e1bf235959b2f0ef358f9cf4546da3bf7895d906c48c4d97",
     "updated_at_iso": "2025-08-16T17:16:50.392236+00:00"
    }
   },
   "source": [
    "And convert it back into the Dictionary."
   ]
  },
  {
   "cell_type": "code",
   "execution_count": null,
   "id": "0be54c7c70264543a897cd2d7a5175b0",
   "metadata": {
    "slideshow": {
     "slide_type": "skip"
    },
    "tags": [
     "translated_en"
    ],
    "translation": {
     "lang": "de",
     "src_hash": "67ea2719e9732675a2762c2630d4586da91533475a173eb4237dac149a4c615d",
     "updated_at_iso": "2025-08-16T17:16:53.395471+00:00"
    }
   },
   "outputs": [],
   "source": [
    "table_read.to_dict(\"records\")"
   ]
  },
  {
   "cell_type": "code",
   "execution_count": null,
   "id": "1bc7d79b9f884900a3465ab817174cd1",
   "metadata": {
    "slideshow": {
     "slide_type": "skip"
    },
    "tags": [
     "remove-cell",
     "translated_en"
    ],
    "translation": {
     "lang": "de",
     "src_hash": "3bad14a5a36c4a472859eedf12fa306d331699aa5f45d452e95b725376656b58",
     "updated_at_iso": "2025-08-16T17:16:56.057774+00:00"
    }
   },
   "outputs": [],
   "source": [
    "# we delete the file\n",
    "os.remove(\"leute.csv\")"
   ]
  },
  {
   "cell_type": "markdown",
   "id": "b21903df88254feaabdc256d4fc38fed",
   "metadata": {
    "slideshow": {
     "slide_type": "skip"
    },
    "tags": [
     "translated_en"
    ],
    "translation": {
     "lang": "de",
     "src_hash": "7be472ff257fd8a89d8b19c5d91f539d82e28e1b2ef811b9e0b84f0069513a6d",
     "updated_at_iso": "2025-08-16T17:16:57.686741+00:00"
    }
   },
   "source": [
    "## Typical binary file formats\n",
    "### XLS files"
   ]
  },
  {
   "cell_type": "markdown",
   "id": "a5be5759d5e844fbafb60e49ba5dd1c4",
   "metadata": {
    "slideshow": {
     "slide_type": "skip"
    },
    "tags": [
     "translated_en"
    ],
    "translation": {
     "lang": "de",
     "src_hash": "8533b934bf97849125b473b65f9570fb0a6407e084b5e1b58a4dd5df2c2a8cc2",
     "updated_at_iso": "2025-08-16T17:17:05.618990+00:00"
    }
   },
   "source": [
    "These CSV files can also be easily opened in other programs such as Microsoft Excel, or saved from there. Excel’s native format is `.xlsx` files. We can also write these directly from pandas using the `openpyxl` package. We install `openpyxl` using `pip`."
   ]
  },
  {
   "cell_type": "code",
   "execution_count": null,
   "id": "8dceaef827d04a2386bcd59de241aef2",
   "metadata": {
    "slideshow": {
     "slide_type": "skip"
    },
    "tags": [
     "translated_en"
    ],
    "translation": {
     "lang": "de",
     "src_hash": "888b6008bc0c1fb298e33c12235da7c6a69c5c854f472993f61b7864597cdef5",
     "updated_at_iso": "2025-08-16T17:17:14.445991+00:00"
    }
   },
   "outputs": [],
   "source": [
    "Please provide the Python code containing German variable names, function/class names, docstrings, or inline comments that you would like translated. I will translate only those elements to natural English without altering the program logic."
   ]
  },
  {
   "cell_type": "markdown",
   "id": "275b9691eb01435aac3813445f692ecf",
   "metadata": {
    "slideshow": {
     "slide_type": "skip"
    },
    "tags": [
     "translated_en"
    ],
    "translation": {
     "lang": "de",
     "src_hash": "ab98752764ba3f5d55e90b9538b88e27ab999063e6d4e543f7c798ac1fc485e1",
     "updated_at_iso": "2025-08-16T17:17:16.918940+00:00"
    }
   },
   "source": [
    "After the installation, we can simply export the table as an Excel file."
   ]
  },
  {
   "cell_type": "code",
   "execution_count": null,
   "id": "f684857b04494ffca2a67a54a5a16370",
   "metadata": {
    "slideshow": {
     "slide_type": "skip"
    },
    "tags": [
     "translated_en"
    ],
    "translation": {
     "lang": "de",
     "src_hash": "9188adef68fbec234058e2ef23c3445a8fb687f1545653895ade26dcffc7f371",
     "updated_at_iso": "2025-08-16T17:17:22.876768+00:00"
    }
   },
   "outputs": [],
   "source": [
    "table.to_excel(\"leute.xlsx\", index=False)  # index=False ensures that the row index is omitted"
   ]
  },
  {
   "cell_type": "markdown",
   "id": "99c6cea4b4404a549bddcd1fcfd907a3",
   "metadata": {
    "slideshow": {
     "slide_type": "skip"
    },
    "tags": [
     "translated_en"
    ],
    "translation": {
     "lang": "de",
     "src_hash": "66574d18d0b627f146f35ef48b7716058240820747118d6e2e02498fe4535bf9",
     "updated_at_iso": "2025-08-16T17:17:27.524008+00:00"
    }
   },
   "source": [
    "This file is currently a binary file. We can't read it with `open()` and `tr`, so we have to use the binary variant with `br`."
   ]
  },
  {
   "cell_type": "code",
   "execution_count": null,
   "id": "e063b323834a442499f9f1333cc2e53f",
   "metadata": {
    "slideshow": {
     "slide_type": "skip"
    },
    "tags": [
     "output_scroll",
     "translated_en"
    ],
    "translation": {
     "lang": "de",
     "src_hash": "c590d7d5c374f4870c94305a68aef250d148f3d3163d268612f02a03fd8de2e6",
     "updated_at_iso": "2025-08-16T17:17:37.219061+00:00"
    }
   },
   "outputs": [],
   "source": [
    "with open(\"leute.xlsx\", \"br\") as fi:\n",
    "    file_content = fi.read()\n",
    "    print(file_content)"
   ]
  },
  {
   "cell_type": "markdown",
   "id": "ff59c55dc1b74d2f90b6e4edb57df611",
   "metadata": {
    "slideshow": {
     "slide_type": "skip"
    },
    "tags": [
     "translated_en"
    ],
    "translation": {
     "lang": "de",
     "src_hash": "73fe6086615ffee6c29b5e66341b54205d7f478e6c2d0878f35f83df15d0a567",
     "updated_at_iso": "2025-08-16T17:17:42.238340+00:00"
    }
   },
   "source": [
    "What we're seeing is a lot of unreadable binary data. Behind it, in this case, lies a compressed ZIP file, since the `.xlsx` file format is actually just a ZIP file that contains several XML files."
   ]
  },
  {
   "cell_type": "markdown",
   "id": "7d22f6eed08a4885872b553c7b2b3941",
   "metadata": {
    "slideshow": {
     "slide_type": "skip"
    },
    "tags": [
     "translated_en"
    ],
    "translation": {
     "lang": "de",
     "src_hash": "6667dc26cc1d51046fc6e83677d5ca7206d386e6a31e81d43ff8713d98a24daf",
     "updated_at_iso": "2025-08-16T17:17:43.583842+00:00"
    }
   },
   "source": [
    "### ZIP files"
   ]
  },
  {
   "cell_type": "markdown",
   "id": "d10d294fa41144b9a19a548b77f82275",
   "metadata": {
    "slideshow": {
     "slide_type": "skip"
    },
    "tags": [
     "translated_en"
    ],
    "translation": {
     "lang": "de",
     "src_hash": "d7b9bbb922105e0792d89bb919e3bea5d7f3c8103b6b57ab85aedbfc786bd186",
     "updated_at_iso": "2025-08-16T17:17:49.640935+00:00"
    }
   },
   "source": [
    "ZIP files are files that contain other files and directories and compress them. This allows multiple files to be consolidated into a single file and to take up less space. Therefore ZIP files are commonly used when sending multiple files.\n",
    "\n",
    "Also, the `.xlsx` file from Excel is a disguised ZIP file that contains several XML files in the Open XML format.\n",
    "\n",
    "This can be shown by renaming the file to a .zip file with `os.rename()`."
   ]
  },
  {
   "cell_type": "code",
   "execution_count": null,
   "id": "fb17260914b0422fa9bf0f33f86d39ea",
   "metadata": {
    "slideshow": {
     "slide_type": "skip"
    },
    "tags": [
     "translated_en"
    ],
    "translation": {
     "lang": "de",
     "src_hash": "f2b5760814d4116dfa28a6c3766acc2af4ce246fa80eecc2c892c4fd588bd015",
     "updated_at_iso": "2025-08-16T17:17:51.335863+00:00"
    }
   },
   "outputs": [],
   "source": [
    "os.rename(\"leute.xlsx\", \"leute.zip\")"
   ]
  },
  {
   "cell_type": "markdown",
   "id": "148c4308d53d47f184acf20ab5c7fc0f",
   "metadata": {
    "slideshow": {
     "slide_type": "skip"
    },
    "tags": [
     "translated_en"
    ],
    "translation": {
     "lang": "de",
     "src_hash": "c5677177b86f6f133328af9872bbe52365379f375935917eaa49128458c0a8e5",
     "updated_at_iso": "2025-08-16T17:17:58.944751+00:00"
    }
   },
   "source": [
    "If we want to view the files in the ZIP file, we can open them with the `ZipFile` object from the standard library's `zipfile` module. It works just like `open()`, but for ZIP files. With the `namelist` method, we can list all the files in the ZIP file."
   ]
  },
  {
   "cell_type": "code",
   "execution_count": null,
   "id": "de343ea97287459cb110ec308ca0fb33",
   "metadata": {
    "slideshow": {
     "slide_type": "skip"
    },
    "tags": [
     "translated_en"
    ],
    "translation": {
     "lang": "de",
     "src_hash": "9bfe80f93b1ceafb1c2e78f62080e775b5bb36955aaa8495ae5b5d8226686e66",
     "updated_at_iso": "2025-08-16T17:18:03.020080+00:00"
    }
   },
   "outputs": [],
   "source": [
    "import zipfile\n",
    "\n",
    "with zipfile.ZipFile(\"leute.zip\",'r') as zip_file:\n",
    "    for fname in zip_file.namelist():\n",
    "        print(fname)"
   ]
  },
  {
   "cell_type": "markdown",
   "id": "b43ed90d27de47d299cc5ffa5c7be4bc",
   "metadata": {
    "slideshow": {
     "slide_type": "skip"
    },
    "tags": [
     "translated_en"
    ],
    "translation": {
     "lang": "de",
     "src_hash": "dafcf2196722fb77a4819bdd8ce134f1c38c1828c18d974495aba96ffe5c1659",
     "updated_at_iso": "2025-08-16T17:18:07.817810+00:00"
    }
   },
   "source": [
    "To read a single file from the ZIP file, we can use the `read()` method. For example, loading `xl/worksheets/sheet1.xml`, which contains our data, will show our data in the typical XML structure."
   ]
  },
  {
   "cell_type": "code",
   "execution_count": null,
   "id": "a9da972f65e24f57a1b3e1113204f033",
   "metadata": {
    "slideshow": {
     "slide_type": "skip"
    },
    "tags": [
     "translated_en"
    ],
    "translation": {
     "lang": "de",
     "src_hash": "3f3064e05d1e679a2c717f8e4f885295a048b0d6bdfe05a5774b46ba2fd5c533",
     "updated_at_iso": "2025-08-16T17:18:17.051071+00:00"
    }
   },
   "outputs": [],
   "source": [
    "import zipfile\n",
    "from pprint import pprint\n",
    "\n",
    "with zipfile.ZipFile(\"leute.zip\",'r') as zip_file:\n",
    "    xml_file = zip_file.read(\"xl/worksheets/sheet1.xml\")\n",
    "    print(xml_file)"
   ]
  },
  {
   "cell_type": "markdown",
   "id": "cc5fc631a4ae43c3aa4b01f14bb0a338",
   "metadata": {
    "slideshow": {
     "slide_type": "skip"
    },
    "tags": [
     "translated_en"
    ],
    "translation": {
     "lang": "de",
     "src_hash": "c8f255b57f0e6f381e3d1e92331e54f0fc7bcce44c6d8ade3ad9400f9468c7d1",
     "updated_at_iso": "2025-08-16T17:18:21.722757+00:00"
    }
   },
   "source": [
    "Using the `parse` function of the `xmltodict` package, for example, we can convert this XML file into a `dict` in Python."
   ]
  },
  {
   "cell_type": "code",
   "execution_count": null,
   "id": "cb2938ce4c5c4e36921d61130e588f26",
   "metadata": {
    "slideshow": {
     "slide_type": "skip"
    },
    "tags": [
     "translated_en"
    ],
    "translation": {
     "lang": "de",
     "src_hash": "0cdea83f9dd80a1df65e7485ad46dd7dc2bf940dda14bd4ee9731c10cde7c401",
     "updated_at_iso": "2025-08-16T17:18:24.315659+00:00"
    }
   },
   "outputs": [],
   "source": [
    "xml_dict = xmltodict.parse(xml_file, xml_attribs=False)\n",
    "pprint(xml_dict)"
   ]
  },
  {
   "cell_type": "markdown",
   "id": "6a63245d2f114b008985df418b0eeae5",
   "metadata": {
    "slideshow": {
     "slide_type": "skip"
    },
    "tags": [
     "translated_en"
    ],
    "translation": {
     "lang": "de",
     "src_hash": "36571f9dcb3eef58d03811c86380d27b2895a6584fdfbd4ffa0f7f1268cb43b5",
     "updated_at_iso": "2025-08-16T17:18:31.267206+00:00"
    }
   },
   "source": [
    "Our original dictionary `leute`, which we defined above, is no longer evident in this dictionary. That's because this format was defined by Microsoft Excel and not specifically designed for our purposes. However, it's important to note that the format is indeed human-readable, so today many other tools, such as LibreOffice, Google Docs, etc., can read and write this format. This is an important reason for using open XML formats."
   ]
  },
  {
   "cell_type": "code",
   "execution_count": null,
   "id": "ec4b0432ce764678ba694e0387f4d88f",
   "metadata": {
    "slideshow": {
     "slide_type": "skip"
    },
    "tags": [
     "remove-cell",
     "translated_en"
    ],
    "translation": {
     "lang": "de",
     "src_hash": "4e64191ebe1cb0ec0937d0d7b0c880f4d0522028d6cd02b7b92f32127df6e80c",
     "updated_at_iso": "2025-08-16T17:18:35.556382+00:00"
    }
   },
   "outputs": [],
   "source": [
    "# we delete the temporary files\n",
    "os.remove(\"person.json\")\n",
    "os.remove(\"person.xml\")\n",
    "os.remove(\"leute.zip\")"
   ]
  },
  {
   "cell_type": "markdown",
   "id": "6a9b049253764f93b55769270ff65b6f",
   "metadata": {
    "editable": true,
    "slideshow": {
     "slide_type": "slide"
    },
    "tags": [
     "remove-cell",
     "translated_en"
    ],
    "translation": {
     "lang": "de",
     "src_hash": "dc14f6a79484d35f02f46a9244b07374e980c1ed2f269ad46ecfd7a51bd7cd3a",
     "updated_at_iso": "2025-08-16T17:18:49.281955+00:00"
    }
   },
   "source": [
    "## Where is our data stored?\n",
    "\n",
    "<div class=\"flex-row\">\n",
    "  <div class=\"col1\">\n",
    "  \n",
    "**Smartphones and Tablets**\n",
    "- Use: Apps that are as simple to use as possible and highly focused\n",
    "- Data: Data are stored per-app on the device's built-in storage\n",
    "\n",
    "  </div>\n",
    "  <div class=\"col1\">\n",
    "\n",
    "**Desktop PCs**\n",
    "- Use: Nowadays mostly used as a workstation or hobby machine\n",
    "- Data: Data reside in folder structures, stored on local drives\n",
    "\n",
    "  </div>\n",
    "  <div class=\"col1\">\n",
    "\n",
    "**Web and Cloud Applications**\n",
    "- Use: Everywhere—from apps to high-performance computing\n",
    "- Data: Data reside in globally distributed server farms, usually managed by large corporations\n",
    "\n",
    "  </div>\n",
    "</div>"
   ]
  },
  {
   "cell_type": "markdown",
   "id": "6018575726f6490186b0008b9a3b56b6",
   "metadata": {
    "editable": true,
    "slideshow": {
     "slide_type": "slide"
    },
    "tags": [
     "remove-cell",
     "translated_en"
    ],
    "translation": {
     "lang": "de",
     "src_hash": "ba98452ff96e769c309f00550d57b9ee64d053945d2da8b5cbb592d5f95ebb54",
     "updated_at_iso": "2025-08-16T17:18:57.007930+00:00"
    }
   },
   "source": [
    "## Lecture Hall Question\n",
    "\n",
    "<script>setSectionBackground('#FFD966');</script>\n",
    "<div class=\"flex-row\">\n",
    "  <div class=\"col4 vcent\">\n",
    "\n",
    "- What hardware makes up a computer?\n",
    "- How do these compare to human memory?\n",
    "\n",
    "  </div>\n",
    "  <div class=\"col6\"> \n",
    "    <figure class=\"mj-fig\">\n",
    "        <img src=\"images/09_Datenhaltung/image_4.jpg\" class=\"mj-fig-img\">\n",
    "        <figcaption class=\"mj-fig-cap\">\n",
    "            DALL-E 2: Early designs of the iPhone by Leonardo da Vinci\n",
    "        </figcaption>\n",
    "    </figure>\n",
    "  </div>\n",
    "</div>"
   ]
  },
  {
   "cell_type": "markdown",
   "id": "02901f907d05495dba61ad3d1bb9c257",
   "metadata": {
    "editable": true,
    "slideshow": {
     "slide_type": "subslide"
    },
    "tags": [
     "remove-cell",
     "translated_en"
    ],
    "translation": {
     "lang": "de",
     "src_hash": "6ccc76c81c8bc2a8d0c7be8b672e411a98ccd2d44a5c0c8ae5ffc7ad4218e64f",
     "updated_at_iso": "2025-08-16T17:19:08.044443+00:00"
    }
   },
   "source": [
    "## Introduction - Where is data stored in a computer?\n",
    "\n",
    "<img src=\"images/09_Datenhaltung/computer_hardware2.svg\" style=\"width: 60%; display: block; margin: 0 auto;\" alt=\"Image\">\n",
    "\n",
    "The computer has memory types similar to those of humans:\n",
    "- CPUs and GPUs have small registers and cache memory (ultra-short-term memory)\n",
    "- RAM is volatile memory, i.e., its contents are lost when the power is turned off (short-term memory)\n",
    "- The HDD/SSD is non-volatile storage, i.e., the contents remain intact (long-term memory)"
   ]
  },
  {
   "cell_type": "markdown",
   "id": "26765949fdce49aabe1d06d187c5197c",
   "metadata": {
    "editable": true,
    "slideshow": {
     "slide_type": "subslide"
    },
    "tags": [
     "remove-cell",
     "translated_en"
    ],
    "translation": {
     "lang": "de",
     "src_hash": "45661917a6cd8c08c106493488af628348b25bc69bfba9c224b52ab065f5d2fc",
     "updated_at_iso": "2025-08-16T17:19:20.549240+00:00"
    }
   },
   "source": [
    "## CPU Register & Cache - Storage at the Processor Level\n",
    "\n",
    "- *Register* – The memory used by the CPU for calculations (very small)\n",
    "- *Cache* – Here code and data are prefetched (caching), which will likely be used soon or which should be written elsewhere\n",
    "\n",
    "- Characteristics:\n",
    "    - Very fast, on-processor memory\n",
    "    - Expensive, extremely small capacity\n",
    "    - Must operate at roughly the same speed as the arithmetic unit to avoid creating a bottleneck"
   ]
  },
  {
   "cell_type": "markdown",
   "id": "f2a2626e7e044f99aac95da81bc77d83",
   "metadata": {
    "editable": true,
    "slideshow": {
     "slide_type": "subslide"
    },
    "tags": [
     "remove-cell",
     "translated_en"
    ],
    "translation": {
     "lang": "de",
     "src_hash": "65b2f0bb2c03d1f50bbbcc25126ed45353d8fa36c107dbc30a0ba66b1cfa909a",
     "updated_at_iso": "2025-08-16T17:19:34.233737+00:00"
    }
   },
   "source": [
    "## RAM - Random Access Memory\n",
    "\n",
    "- Also known as \"Direct-access memory\" or \"Working memory\"\n",
    "- Read-write memory that does not have to be read sequentially; data can be addressed directly by its address\n",
    "- These accesses are fast; blocks can be addressed efficiently\n",
    "- Nowadays most commonly used in the context of CPU- or GPU-near memory, i.e., it holds the data currently in use, which would be lost if power were lost"
   ]
  },
  {
   "cell_type": "markdown",
   "id": "b272d72aa61f49b0897987d37d19d9f4",
   "metadata": {
    "editable": true,
    "slideshow": {
     "slide_type": "subslide"
    },
    "tags": [
     "remove-cell",
     "translated_en"
    ],
    "translation": {
     "lang": "de",
     "src_hash": "89552dfd631bb51c0019c7317f9968507ad29ced38052b1a82067f96691cc9fe",
     "updated_at_iso": "2025-08-16T17:19:43.090359+00:00"
    }
   },
   "source": [
    "## How is data organized in RAM?\n",
    "\n",
    "- The memory cells in RAM are divided into addressable blocks\n",
    "- The operating system assigns each running program as many blocks as it needs\n",
    "- Programs organize these blocks into *Stack* and *Heap*:\n",
    "  - *Stack* contains the function calls and important (simple) variables\n",
    "  - *Heap* contains all other variables\n",
    "\n",
    "- Each variable in code consists of:\n",
    "    - a reference (pointer) to that address\n",
    "    - the size of the variable in memory (determined by the data type)\n",
    "    - in garbage-collected languages (Python, Java, JavaScript, etc.) there is for each variable also a counter of how often the variable is used"
   ]
  },
  {
   "cell_type": "markdown",
   "id": "51d71b07ed3447908cfd26fcb26be8e4",
   "metadata": {
    "editable": true,
    "slideshow": {
     "slide_type": "subslide"
    },
    "tags": [
     "remove-cell",
     "translated_en"
    ],
    "translation": {
     "lang": "de",
     "src_hash": "938c90819034be09842b44dd916bace5133aba90e1a1089bd14d23ff0457f719",
     "updated_at_iso": "2025-08-16T17:19:52.969296+00:00"
    }
   },
   "source": [
    "## HDD/SSD – Hard Disk Drive / Solid State Drive\n",
    "\n",
    "<div class=\"flex-row\">\n",
    "  <div class=\"col1\">\n",
    "\n",
    "**Hard Disk Drive (HDD)**\n",
    "- Data is stored magnetically on the storage medium\n",
    "- Can last for many years\n",
    "- Susceptible to shocks\n",
    "\n",
    "  </div>\n",
    "  <div class=\"col1\"> \n",
    "\n",
    "**Solid State Drive (SSD)**\n",
    "- Data is stored in electrical charges\n",
    "- Can last several years, but will eventually discharge\n",
    "- Erasing uses a voltage spike (flash) → Flash memory\n",
    "\n",
    "  </div>\n",
    "  <div class=\"col1\"> \n",
    "\n",
    "**Magnetic tapes**\n",
    "- Data is magnetically stored on plastic tapes\n",
    "- The data can last for many decades\n",
    "- Are still used for backups today\n",
    "- Inexpensive, but very slow\n",
    "\n",
    "  </div>\n",
    "</div>"
   ]
  },
  {
   "cell_type": "markdown",
   "id": "223a03e13b6846e0b075f995fdd872d1",
   "metadata": {
    "editable": true,
    "slideshow": {
     "slide_type": "subslide"
    },
    "tags": [
     "remove-cell",
     "translated_en"
    ],
    "translation": {
     "lang": "de",
     "src_hash": "04362bf653cc5775b0018cb5f9fc772d126ac82b22e800a43a6730f2691e3e25",
     "updated_at_iso": "2025-08-16T17:19:58.822714+00:00"
    }
   },
   "source": [
    "## How is data organized in long-term storage?\n",
    "\n",
    "- The memory cells in long-term storage are also divided into addressable blocks.\n",
    "- The operating system organizes these blocks and keeps track of which data is stored where (e.g., which blocks belong to which file)\n",
    "- This organizational structure is called a *file system*"
   ]
  },
  {
   "cell_type": "markdown",
   "id": "7c74d1b8f655457fa4e8e3aeadb1b0a3",
   "metadata": {
    "editable": true,
    "slideshow": {
     "slide_type": "slide"
    },
    "tags": [
     "remove-cell",
     "translated_en"
    ],
    "translation": {
     "lang": "de",
     "src_hash": "83967f98b4a307b0809b179503e1a529d01a8628f3ce030f2033c9a280fb88e9",
     "updated_at_iso": "2025-08-16T17:20:08.173031+00:00"
    }
   },
   "source": [
    "## File System - Desktop PCs: Files in Folder Structures\n",
    "\n",
    "- Hierarchical (like in office filing) organized into drives (volumes), folders & files\n",
    "- Data is stored in files\n",
    "- These are placed in folder hierarchies (tree structures!)\n",
    "- They are identified by folder paths and names\n",
    "\n",
    "<br/>\n",
    "<div class=\"flex-row\">\n",
    "<div class=\"col4\">\n",
    "\n",
    "*Advantages:*\n",
    "- This allows a very large number of files to be organized\n",
    "\n",
    "</div>\n",
    "<div class=\"col4\"> \n",
    "\n",
    "*Disadvantages:*\n",
    "- Can quickly become hard to navigate\n",
    "- Programs can read almost anything\n",
    "\n",
    "</div>\n",
    "</div>\n",
    "\n",
    "<center>\n",
    "<img src=\"images/09_Datenhaltung/oscomp.png\" alt=\"OS File Systems\" style=\"height: 40vh;\">\n",
    "</center>"
   ]
  },
  {
   "cell_type": "markdown",
   "id": "9f117fed99454a558fee901a6d238acd",
   "metadata": {
    "editable": true,
    "slideshow": {
     "slide_type": "subslide"
    },
    "tags": [
     "remove-cell",
     "translated_en"
    ],
    "translation": {
     "lang": "de",
     "src_hash": "a4511e5be396ce17887a25ed922556b2292f20091a070028b4fd9e2ce6f1ed69",
     "updated_at_iso": "2025-08-16T17:20:19.678143+00:00"
    }
   },
   "source": [
    "## File System - Smartphones & Tablets: App-specific Storage\n",
    "\n",
    "- Data are typically assigned to apps (encapsulated)\n",
    "- This way the app doesn't see the full file system (and the user often doesn't either)\n",
    "- This reduces the app's ability to mess things up and improves security\n",
    "\n",
    "<br/>\n",
    "<div class=\"flex-row\">\n",
    "  <div class=\"col1\">\n",
    "\n",
    "*Advantages:*\n",
    "- More intuitive use with fewer files per app\n",
    "- Increased security\n",
    "\n",
    "  </div>\n",
    "  <div class=\"col1\"> \n",
    "\n",
    "*Disadvantage:*\n",
    "- It is difficult to sync files between apps\n",
    "\n",
    "  </div>\n",
    "</div>"
   ]
  },
  {
   "cell_type": "markdown",
   "id": "bab81e96cbd343f19ab7b2cc631bf1ad",
   "metadata": {
    "editable": true,
    "slideshow": {
     "slide_type": "subslide"
    },
    "tags": [
     "remove-cell",
     "translated_en"
    ],
    "translation": {
     "lang": "de",
     "src_hash": "50b7b7c73ad49047afdbe9d5230eef4ea8769c5046bd1af6588bda0cb8925557",
     "updated_at_iso": "2025-08-16T17:20:31.295750+00:00"
    }
   },
   "source": [
    "## File System - Cloud: Databases\n",
    "\n",
    "- Data cannot be stored locally\n",
    "- They are usually stored only in databases — see the next lecture\n",
    "\n",
    "<br/>\n",
    "<div class=\"flex-row\">\n",
    "  <div class=\"col1\">\n",
    "\n",
    "*Advantages:*\n",
    "- Programs and data are physically separated\n",
    "- Many program instances can access the same data\n",
    "- Can be added or removed arbitrarily\n",
    "\n",
    "  </div>\n",
    "  <div class=\"col1\">\n",
    "\n",
    "*Disadvantages:*\n",
    "- Harder to configure and debug\n",
    "- A certain loss of control\n",
    "\n",
    "  </div>\n",
    "</div>"
   ]
  },
  {
   "cell_type": "markdown",
   "id": "9a4a75c0d794405b93cb0e21204443fd",
   "metadata": {
    "editable": true,
    "slideshow": {
     "slide_type": "subslide"
    },
    "tags": [
     "remove-cell",
     "translated_en"
    ],
    "translation": {
     "lang": "de",
     "src_hash": "464ef433e0783cff484ae8333b38f24d173b16a66c918318b073551e57b9e402",
     "updated_at_iso": "2025-08-16T17:20:40.878591+00:00"
    }
   },
   "source": [
    "## File System - in Python\n",
    "\n",
    "- Python generalizes working with file systems as much as possible\n",
    "- Many different functions and libraries! `os`, `io`, `open()`, `fileinput` …\n",
    "- Different levels of abstraction – from direct string-based read operations to the hierarchical, object-oriented representations of entire directory structures\n",
    "- Files are rarely read \"as a whole\" (inefficient for large files), but line by line, character by character, or also selectively, e.g., through a table of contents"
   ]
  },
  {
   "cell_type": "markdown",
   "id": "47140d901207485f87f32d5b6bdecb94",
   "metadata": {
    "editable": true,
    "slideshow": {
     "slide_type": "slide"
    },
    "tags": [
     "remove-cell",
     "translated_en"
    ],
    "translation": {
     "lang": "de",
     "src_hash": "078ff3965931ddfb2b4431373b449fb2da4ccbc744983b444c06398f408caf84",
     "updated_at_iso": "2025-08-16T17:20:49.899614+00:00"
    }
   },
   "source": [
    "## File formats – Rough categorization\n",
    "\n",
    "<div class=\"flex-row\">\n",
    "  <div class=\"col1\">\n",
    "\n",
    "*Text*\n",
    "- The file is a large string\n",
    "- Can be read by humans and software\n",
    "- Usually results in larger files\n",
    "- Easier to debug since readable\n",
    "- Good for structured content (e.g., text, attributes, statistics)\n",
    "- Additional structure is added via syntax rules (e.g., .csv, .json, …)\n",
    "\n",
    "  </div>\n",
    "  <div class=\"col1\"> \n",
    "\n",
    "*Binary*\n",
    "- The file is a byte array\n",
    "- Only readable by software, not by humans\n",
    "- Usually results in smaller files\n",
    "- Harder to debug since not readable\n",
    "- Good for unstructured and large content (e.g., to display images and videos)\n",
    "- File extensions indicate which programs the files are associated with\n",
    "\n",
    "  </div>\n",
    "</div>"
   ]
  },
  {
   "cell_type": "markdown",
   "id": "45ed6a3acf764c5db15c03c3ac9dcaf6",
   "metadata": {
    "editable": true,
    "slideshow": {
     "slide_type": "subslide"
    },
    "tags": [
     "remove-cell",
     "translated_en"
    ],
    "translation": {
     "lang": "de",
     "src_hash": "b60b28d35692244e038d810fa0aefdc302a25f066eeaa6dffe5672d1be7c4828",
     "updated_at_iso": "2025-08-16T17:20:58.379082+00:00"
    }
   },
   "source": [
    "## Data formats for BU engineers - Type 1: Geometric Model Formats\n",
    "\n",
    "- Vector and raster data defined using a coordinate system\n",
    "- Different dimensionalities (2D, 2.5D, 3D, …)\n",
    "\n",
    "- Commonly used formats:\n",
    "    - *2D Design Formats:* DWG, DXF, SVG, PDF, PNG, TIFF\n",
    "    - *3D Design Formats:* IFC (STEP), IFC (XML), IFC (JSON), DWG, DXF, OBJ, 3DS\n",
    "    - *Geospatial Data Formats:* Shapefile, GML (XML), KML (XML), GeoTIFF, GeoJSON (JSON)"
   ]
  },
  {
   "cell_type": "markdown",
   "id": "d923fdf878ed4b5b89cdf66302b4eb81",
   "metadata": {
    "editable": true,
    "slideshow": {
     "slide_type": "subslide"
    },
    "tags": [
     "remove-cell",
     "translated_en"
    ],
    "translation": {
     "lang": "de",
     "src_hash": "6cb26f9563aa96e4353c6f275a667dbb8f7a00300041f0199c6c4d964ff8ce2e",
     "updated_at_iso": "2025-08-16T17:21:03.475478+00:00"
    }
   },
   "source": [
    "## Data formats for BU engineers — Type 2: Attribute formats\n",
    "\n",
    "- Descriptive, non-geometric data for a specific context\n",
    "- Often organized as tables or lists of data objects\n",
    "\n",
    "- Commonly used formats:\n",
    "    - CSV, ODF (XML), XLSX (XML), XLS, JSON\n",
    "    - Different levels of complexity"
   ]
  },
  {
   "cell_type": "markdown",
   "id": "c0bbd6a058a14390ad6185855546d3ed",
   "metadata": {
    "editable": true,
    "slideshow": {
     "slide_type": "subslide"
    },
    "tags": [
     "remove-cell",
     "translated_en"
    ],
    "translation": {
     "lang": "de",
     "src_hash": "1e829400361fc21143b9385734fc205611a4a8aeba012002718b7fcbb969a2d3",
     "updated_at_iso": "2025-08-16T17:21:11.036874+00:00"
    }
   },
   "source": [
    "## Data formats for BU Engineers - Type 3: Geometry formats\n",
    "\n",
    "- Geometric data are usually mathematical, and there is no single clearly defined path\n",
    "- Graphic formats define such 'styles', e.g., for points, lines, polygons, etc.\n",
    "\n",
    "- Commonly used formats:\n",
    "    - CSS, SLD (XML), ArcGIS Styles (*.lyr)"
   ]
  },
  {
   "cell_type": "markdown",
   "id": "bd7d7e96841b46a1956feb3d0b99a151",
   "metadata": {
    "editable": true,
    "slideshow": {
     "slide_type": "subslide"
    },
    "tags": [
     "remove-cell",
     "translated_en"
    ],
    "translation": {
     "lang": "de",
     "src_hash": "ff81c0fdefb9cda586006cdb5cb2f8ef5f6f70592685e972f92505e6f58b35c0",
     "updated_at_iso": "2025-08-16T17:21:17.043714+00:00"
    }
   },
   "source": [
    "## Data Formats for Civil Engineers - Type 4: Topology Formats\n",
    "\n",
    "- Geometry by adjacency relations instead of coordinate systems\n",
    "- Nodes, edges, meshes, grids\n",
    "\n",
    "- Commonly used formats:\n",
    "    - GML (XML), TopoJSON (JSON)"
   ]
  },
  {
   "cell_type": "markdown",
   "id": "16eba8a70a5a409f8b13baa46c666817",
   "metadata": {
    "editable": true,
    "slideshow": {
     "slide_type": "subslide"
    },
    "tags": [
     "remove-cell",
     "translated_en"
    ],
    "translation": {
     "lang": "de",
     "src_hash": "b9bb7827fe3e6c7a5be2cf3f21114d55cf15bccde783f8ff8020cc3c6a67ce78",
     "updated_at_iso": "2025-08-16T17:21:28.438318+00:00"
    }
   },
   "source": [
    "## Exchange formats - JSON (JavaScript Object Notation)\n",
    "\n",
    "<div class=\"flex-row\">\n",
    "  <div class=\"col1\">\n",
    "\n",
    "- A human- and machine-readable, structured data format\n",
    "- Primarily used as an interchange format\n",
    "- Implemented using key-value pairs (similar to Python dictionaries)\n",
    "- Allows mapping of all data types from Python:\n",
    "  - Number\n",
    "  - String\n",
    "  - Boolean\n",
    "  - List\n",
    "  - Dict\n",
    "  - None (null)\n",
    "\n",
    "  </div>\n",
    "  <div class=\"col1\"> \n",
    "\n",
    "```json\n",
    "{\n",
    "  \"firstName\": \"John\",\n",
    "  \"lastName\": \"Smith\",\n",
    "  \"isAlive\": true,\n",
    "  \"age\": 25,\n",
    "  \"address\": {\n",
    "    \"streetAddress\": \"21 2nd Street\",\n",
    "    \"city\": \"New York\",\n",
    "    \"state\": \"NY\",\n",
    "    \"postalCode\": \"10021-3100\"\n",
    "  },\n",
    "  \"children\": [ ],\n",
    "  \"spouse\": null\n",
    "}\n",
    "```\n",
    "\n",
    "  </div>\n",
    "</div>"
   ]
  },
  {
   "cell_type": "markdown",
   "id": "3afa0aea12874845b39f17a7d805afb5",
   "metadata": {
    "editable": true,
    "slideshow": {
     "slide_type": "subslide"
    },
    "tags": [
     "remove-cell",
     "translated_en"
    ],
    "translation": {
     "lang": "de",
     "src_hash": "dde696828db31ea626928267343730f5cdd9792532a9d02f9e20350bb28c799f",
     "updated_at_iso": "2025-08-16T17:21:40.948268+00:00"
    }
   },
   "source": [
    "## Exchange formats - XML (Extensible Markup Language)\n",
    "\n",
    "<div class=\"flex-row\">\n",
    "  <div class=\"col1\">\n",
    "\n",
    "- Markup languages allow marking up parts of a text to add additional (mostly machine-readable) information and semantics\n",
    "- XML is in this context a meta-language that allows such languages to be defined\n",
    "- Markup here is done through opening and closing tags, which are enclosed by `<` and `>`\n",
    "\n",
    "- Examples of XML-related languages:\n",
    "    - HTML\n",
    "    - XHR (XML HTTP Request)\n",
    "    - GML\n",
    "\n",
    "  </div>\n",
    "  <div class=\"col1\"> \n",
    "\n",
    "```xml\n",
    "<person>\n",
    "  <name> John </name>\n",
    "  <isAlive> true </isAlive>\n",
    "  <age> 25 </age>\n",
    "  <address>\n",
    "    <cityStreet> New York, 21 2nd Street </cityStreet>\n",
    "    <postalCode> 10021-3100 </postalCode>\n",
    "  </address>\n",
    "  <children> </children>\n",
    "  <spouse> </spouse>\n",
    "</person>\n",
    "```\n",
    "\n",
    "  </div>\n",
    "</div>"
   ]
  },
  {
   "cell_type": "markdown",
   "id": "f21e8e7573194a3a8a752b2a400c21f6",
   "metadata": {
    "editable": true,
    "slideshow": {
     "slide_type": "subslide"
    },
    "tags": [
     "remove-cell",
     "translated_en"
    ],
    "translation": {
     "lang": "de",
     "src_hash": "757515f24f3adffb8b4b7d4e57ecc4e3819e602ede071fc08f3ad18dac138fa3",
     "updated_at_iso": "2025-08-16T17:21:47.169840+00:00"
    }
   },
   "source": [
    "## Exchange formats - CSV (Comma-Separated Values)\n",
    "\n",
    "<div class=\"flex-row\">\n",
    "  <div class=\"col1\">\n",
    "\n",
    "- Textual representation of structured data (tables, lists, etc.)\n",
    "- Table rows and columns are separated by delimiter characters\n",
    "- Delimiter characters can be semicolon, comma, tab, etc.\n",
    "\n",
    "  </div>\n",
    "  <div class=\"col1\"> \n",
    "\n",
    "```\n",
    "FirstName;LastName;IsAlive;Age\n",
    "John;Smith;true;25\n",
    "Mary;Sue;true;30\n",
    "```\n",
    "\n",
    "  </div>\n",
    "</div>"
   ]
  },
  {
   "cell_type": "markdown",
   "id": "ff6f80dd31b34dffafcd34e93875f42b",
   "metadata": {
    "slideshow": {
     "slide_type": "slide"
    },
    "tags": [
     "remove-cell",
     "translated_en"
    ],
    "translation": {
     "lang": "de",
     "src_hash": "33e7e41eff8f761ec679e691c7082ad2762a676f84fb452cc4a9e533a5d4b220",
     "updated_at_iso": "2025-08-16T17:21:57.038376+00:00"
    }
   },
   "source": [
    "## Lesson Learned\n",
    "\n",
    "<script>setSectionBackground('#66ccffff');</script>\n",
    "<div class=\"flex-row\">\n",
    "<div class=\"col2\">\n",
    "\n",
    "\n",
    "</div>\n",
    "<div class=\"col3\">\n",
    "    <figure class=\"mj-fig\">\n",
    "        <img src=\"images/09_Datenhaltung/mj_title.png\" class=\"mj-fig-img\">\n",
    "        <figcaption class=\"mj-fig-cap\">\n",
    "            Midjourney: Wilhelm Tell's son with an apple on his head, an arrow stuck in it\n",
    "        </figcaption>\n",
    "    </figure>\n",
    "  </div>\n",
    "</div>"
   ]
  },
  {
   "cell_type": "markdown",
   "id": "401c89cbb4d34dec90654079ddbc2ba4",
   "metadata": {
    "slideshow": {
     "slide_type": "subslide"
    },
    "tags": [
     "remove-cell",
     "translated_en"
    ],
    "translation": {
     "lang": "de",
     "src_hash": "c7c4e4571197dde8da4973a99e5bdf8539f2f8c94ff88f7d07d267b5fb5a170f",
     "updated_at_iso": "2025-08-16T17:22:09.697965+00:00"
    }
   },
   "source": [
    "## Lesson Learned - Goal Setting\n",
    "\n",
    "<script>setSectionBackground('#66ccffff');</script>\n",
    "\n",
    "- **S**pecific: describe the goal clearly and precisely in just two sentences.\n",
    "- **M**easurable: The goal's attainment can be determined quantitatively or qualitatively.\n",
    "- **A**ttractive: The attainment of the goal is desirable for YOU (I-perspective).\n",
    "- **R**ealistic: The goal is ambitious and achievable.\n",
    "- **T**ime-bound: A concrete deadline by which the goal should be achieved."
   ]
  },
  {
   "cell_type": "markdown",
   "id": "f30b5443651a4f2f890469dec5ea1b93",
   "metadata": {
    "editable": true,
    "slideshow": {
     "slide_type": "skip"
    },
    "tags": [
     "translated_en"
    ],
    "translation": {
     "lang": "de",
     "src_hash": "18a909f755944779e1ed37420b30b603441a942f79598b67b8f8e0a778dbec45",
     "updated_at_iso": "2025-08-16T17:22:35.515245+00:00"
    }
   },
   "source": [
    "## Quiz\n",
    "\n",
    "\n",
    "```{quizdown}\n",
    "    ---\n",
    "    shuffleQuestions: true\n",
    "    shuffleAnswers: true\n",
    "    ---\n",
    "\n",
    "    ### Why are files commonly used in programs?\n",
    "    - [x] To store data permanently\n",
    "    - [ ] To execute the code faster\n",
    "    - [ ] To automatically initialize variables\n",
    "    - [ ] To create graphical user interfaces\n",
    "\n",
    "    ### Where are files located on a computer?\n",
    "    - [x] In directories (folders)\n",
    "    - [ ] In RAM\n",
    "    - [ ] In the CPU\n",
    "    - [ ] Only in the cloud\n",
    "\n",
    "    ### Which of the following statements about handling files in Python is correct?\n",
    "    - [x] You should always close files after opening or use `with`.\n",
    "    - [ ] Files can only be loaded from the Internet without specifying a path.\n",
    "    - [ ] There is no way to read files line by line.\n",
    "    - [ ] Python does not support a write mode.\n",
    "\n",
    "    ### What does the following code do?\n",
    "    ```python\n",
    "    with open(\"notizen.txt\", \"r\") as f:\n",
    "        zeilen = f.readlines()\n",
    "    ```\n",
    "    - [x] It reads all lines of the file `notizen.txt` into a list.\n",
    "    - [ ] It writes all lines to the file.\n",
    "    - [ ] It deletes the file.\n",
    "    - [ ] It prints each line to the screen immediately.\n",
    "\n",
    "    ### What does the function `open(\"datei.txt\", \"r\")` do in Python?\n",
    "    - [x] It opens the file `datei.txt` for reading.\n",
    "    - [ ] It creates a new file named `datei.txt`.\n",
    "    - [ ] It opens the file `datei.txt` for writing.\n",
    "    - [ ] It deletes the contents of `datei.txt`.\n",
    "\n",
    "    ### What happens if the file does not exist and `open(\"nichtda.txt\", \"r\")` is executed?\n",
    "    - [x] A `FileNotFoundError` is raised.\n",
    "    - [ ] An empty file is created.\n",
    "    - [ ] The program continues normally.\n",
    "    - [ ] The file is automatically opened in write mode.\n",
    "\n",
    "    ### What error is in this example?\n",
    "    ```python\n",
    "    file = open(\"daten.txt\", \"r\"\n",
    "    data = file.read()\n",
    "    ```\n",
    "    - [x] A closing parenthesis is missing in the `open` function.\n",
    "    - [ ] The filename is invalid.\n",
    "    - [ ] `read()` can only be applied to binary files.\n",
    "    - [ ] `open` is not a valid command.\n",
    "\n",
    "\n",
    "    ### Which mode opens a file for writing and overwrites its contents?\n",
    "    - [x] \"w\"\n",
    "    - [ ] \"r\"\n",
    "    - [ ] \"a\"\n",
    "    - [ ] \"x\"\n",
    "\n",
    "    ### What happens in the following code if the file already exists?\n",
    "    ```python\n",
    "    with open(\"ausgabe.txt\", \"w\") as f:\n",
    "        f.write(\"Hallo Welt\")\n",
    "    ```\n",
    "    - [x] The old contents of the file are deleted and overwritten.\n",
    "    - [ ] An error is raised.\n",
    "    - [ ] The new text is appended to the end of the file.\n",
    "    - [ ] The file is not changed.\n",
    "\n",
    "    ### How do you check in Python whether a file exists?\n",
    "    - [x] With `os.path.exists(\"datei.txt\")`\n",
    "    - [ ] With `open(\"datei.txt\")`\n",
    "    - [ ] With `exists(\"datei.txt\")`\n",
    "    - [ ] With `os.exist(\"datei.txt\")`\n",
    "\n",
    "    ### What is necessary to be able to use `os.path.exists`?\n",
    "    - [x] The `os` module must be imported.\n",
    "    - [ ] The `datetime` module must be imported.\n",
    "    - [ ] No imports are required.\n",
    "    - [ ] `os.path.exists` is a built-in function.\n",
    "\n",
    "    ### Which function lists all files in a directory?\n",
    "    - [x] `os.listdir()`\n",
    "    - [ ] `os.showfiles()`\n",
    "    - [ ] `os.files()`\n",
    "    - [ ] `list.files()`\n",
    "\n",
    "    ### How can you list only `.txt` files from a folder with Python?\n",
    "    - [x] By combining `os.listdir()` with filtering in a loop\n",
    "    - [ ] Only with `os.gettxtfiles()`\n",
    "    - [ ] Automatically with `open(\"*.txt\")`\n",
    "    - [ ] With `file.list(\"*.txt\")`\n",
    "\n",
    "    ### How do you delete a file in Python?\n",
    "    - [x] With `os.remove(\"datei.txt\")`\n",
    "    - [ ] With `os.delete(\"datei.txt\")`\n",
    "    - [ ] With `os.clear(\"datei.txt\")`\n",
    "    - [ ] With `os.erase(\"datei.txt\")`\n",
    "\n",
    "    ### How do you load a JSON file in Python?\n",
    "    - [x] With `json.load(open(\"datei.json\"))`\n",
    "    - [ ] With `json.read(\"datei.json\")`\n",
    "    - [ ] With `json.load(\"datei.json\")`\n",
    "    - [ ] With `json.open(\"datei.json\")`\n",
    "\n",
    "    ### What is the purpose of `json.dump()`?\n",
    "    - [x] To write Python objects to a JSON file.\n",
    "    - [ ] To read JSON data.\n",
    "    - [ ] To delete JSON data.\n",
    "    - [ ] To format JSON data.\n",
    "\n",
    "    ### What is JSON?\n",
    "    - [x] A text-based format for exchanging data.\n",
    "    - [ ] A binary file format.\n",
    "    - [ ] An image format\n",
    "\n",
    "    ### What are text-based files?\n",
    "    - [ ] *.png\n",
    "    - [x] *.csv\n",
    "    - [x] *.xml\n",
    "    - [x] *.json\n",
    "    - [ ] *.jpg\n",
    "\n",
    "    ### What is the difference between JSON and XML?\n",
    "    - [x] JSON is simpler and more compact, XML is more extensive and flexible.\n",
    "    - [ ] JSON is older than XML.\n",
    "    - [ ] XML is easier to read than JSON.\n",
    "    - [ ] JSON cannot represent nested structures.\n",
    "\n",
    "```"
   ]
  },
  {
   "cell_type": "markdown",
   "id": "d4df32099e9c44c2988d9a8fb368fc05",
   "metadata": {
    "slideshow": {
     "slide_type": "slide"
    },
    "tags": [
     "remove-cell",
     "translated_en"
    ],
    "translation": {
     "lang": "de",
     "src_hash": "d2b7467259ef9f52d61ecf9953374631953b152baba6f1edeaac46d4c3d40a0b",
     "updated_at_iso": "2025-08-16T17:22:38.479747+00:00"
    }
   },
   "source": [
    "<div class=\"vslide\">\n",
    "  <div class=\"vslide-title\">\n",
    "    <p style=\"font-family: Protomolecule; font-size: 2.3em; margin: 0px auto; text-align: center; width: 100%;\">questions?</p>\n",
    "  </div>\n",
    "  <script>setSectionBackground('#000000', 'images/mj_questions.mp4');</script>\n",
    "</div>"
   ]
  }
 ],
 "metadata": {
  "kernelspec": {
   "display_name": "Python 3 (ipykernel)",
   "language": "python",
   "name": "python3"
  },
  "language_info": {
   "codemirror_mode": {
    "name": "ipython",
    "version": 3
   },
   "file_extension": ".py",
   "mimetype": "text/x-python",
   "name": "python",
   "nbconvert_exporter": "python",
   "pygments_lexer": "ipython3",
   "version": "3.12.10"
  },
  "rise": {
   "auto_select": "none",
   "center": false,
   "enable_chalkboard": true,
   "header": "<img src=\"images/pd_logo.svg\" class=\"header_title_logo\"><img src=\"images/ai4sc_logo_v2.svg\" class=\"header_ai4sc_logo\">",
   "scroll": true,
   "show_buttons_on_startup": false,
   "slideNumber": true,
   "theme": "white"
  }
 },
 "nbformat": 4,
 "nbformat_minor": 4
}
