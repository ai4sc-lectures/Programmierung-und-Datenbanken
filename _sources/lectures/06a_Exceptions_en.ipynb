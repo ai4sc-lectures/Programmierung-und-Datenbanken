{
 "cells": [
  {
   "cell_type": "markdown",
   "id": "2b2e658377d84c0fa53b4b5a9846a76e",
   "metadata": {
    "editable": true,
    "slideshow": {
     "slide_type": "slide"
    },
    "tags": [
     "remove-cell",
     "translated_en"
    ],
    "translation": {
     "lang": "de",
     "src_hash": "b9be622f93b36f84bed04778b74fa721f889dac3df04c9113850d2baa6976736",
     "updated_at_iso": "2025-08-16T16:29:59.911880+00:00"
    }
   },
   "source": [
    "<div class=\"vslide\">\n",
    "  <div class=\"vslide-title\">\n",
    "    <p style=\"font-family: Protomolecule; font-size: 2.3em; line-height: 90%; margin: 0px auto; text-align: center; width: 100%;\"><span style=\"letter-spacing: .04rem;\">Programming</span><br><span style=\"letter-spacing: .0rem;\">and Databases</span></p>\n",
    "<p class=\"author\" style=\"font-family: Protomolecule; margin: 0px auto;  text-align: center; width: 100%; font-size: 1.2em;\">Joern Ploennigs</p>\n",
    "<p class=\"subtitle\" style=\"font-family: Protomolecule; margin: 1em auto; text-align: center; width: 100%; font-size: 1.2em;\">Exceptions</p>\n",
    "<figcaption>Midjourney: Exception in Time, ref. Salvador Dalí</figcaption>\n",
    "  </div>\n",
    "<script>\n",
    "  function setSectionBackground(c,v){\n",
    "    let e=document.currentScript.previousElementSibling;\n",
    "    while(e&&e.tagName!=='SECTION')e=e.parentElement;\n",
    "    if(e){\n",
    "      if(c)e.setAttribute('data-background-color',c);\n",
    "      if(v){\n",
    "        e.setAttribute('data-background-video',v);\n",
    "        e.setAttribute('data-background-video-loop','true');\n",
    "        e.setAttribute('data-background-video-muted','true');\n",
    "      }\n",
    "    }\n",
    "  }\n",
    "  setSectionBackground('#000000', 'images/06a_Exceptions/mj_title.mp4');\n",
    "</script>\n",
    "<style>\n",
    ".flex-row{display:flex; gap:2rem; align-items:flex-start; justify-content:space-between;}\n",
    ".flex-row .col1{flex:1; min-width:10px}\n",
    ".flex-row .col2{flex:2; min-width:10px}\n",
    ".flex-row .col3{flex:3; min-width:10px}\n",
    ".flex-row .col4{flex:4; min-width:10px}\n",
    ".flex-row .col5{flex:5; min-width:10px}\n",
    ".flex-row .col6{flex:6; min-width:10px}\n",
    ".flex-row .col7{flex:7; min-width:10px}\n",
    ".vcent{display:flex; align-items:center; justify-content:center}\n",
    "</style>\n",
    "</div>"
   ]
  },
  {
   "cell_type": "markdown",
   "id": "7ea7271941164210a6ecda3bfabf4e51",
   "metadata": {
    "editable": true,
    "slideshow": {
     "slide_type": "skip"
    },
    "tags": [
     "translated_en"
    ],
    "translation": {
     "lang": "de",
     "src_hash": "0a8bb9ccf901031f5f82f83efb5d451f4ca4c33a13a24f0666cf09b4f14a4195",
     "updated_at_iso": "2025-08-16T16:30:02.204812+00:00"
    }
   },
   "source": [
    "# Exceptions"
   ]
  },
  {
   "cell_type": "markdown",
   "id": "cc80088876884c358f1b926695e6ff4c",
   "metadata": {
    "slideshow": {
     "slide_type": "skip"
    },
    "tags": [
     "translated_en"
    ],
    "translation": {
     "lang": "de",
     "src_hash": "5d7df20dff92bab6ec01750d3f96c5eff08b374891ca8e736ac539f464d34f31",
     "updated_at_iso": "2025-08-16T16:30:06.392329+00:00"
    }
   },
   "source": [
    "<figure class=\"mj-tile-band\">\n",
    "    <img src='images/06a_Exceptions/mj_title_band.jpg'>\n",
    "    <figcaption>Midjourney: Exception in Time, ref. Salvador Dalí</figcaption>\n",
    "</figure>\n",
    "\n",
    "> Anything that can go wrong, will go wrong.\n",
    ">\n",
    "> — Murphy’s Law #1"
   ]
  },
  {
   "cell_type": "markdown",
   "id": "7c17ff687db944cf8a9fac1d6e6aa63b",
   "metadata": {
    "slideshow": {
     "slide_type": "skip"
    },
    "tags": [
     "translated_en"
    ],
    "translation": {
     "lang": "de",
     "src_hash": "69985da214452b8bc63d82dd7a52d979d8dc3e5352eb92cdc034786518016089",
     "updated_at_iso": "2025-08-16T16:30:10.444426+00:00"
    }
   },
   "source": [
    "## <a href=\"/lec_slides/06a_Exceptions.slides.html\">Slides</a>/<a href=\"/pdf/slides/06a_Exceptions.pdf\">PDF</a>\n",
    "<iframe src=\"/lec_slides/06a_Exceptions.slides.html\" width=\"750\" height=\"500\"></iframe>"
   ]
  },
  {
   "cell_type": "markdown",
   "id": "54a2ce10d7914cc8a8ef054d8888f1ff",
   "metadata": {
    "slideshow": {
     "slide_type": "subslide"
    },
    "tags": [
     "remove-cell",
     "translated_en"
    ],
    "translation": {
     "lang": "de",
     "src_hash": "051b54894f70c1f4911fe83be6ee0f537d02b657180d4419e2dad808d6e9ac6d",
     "updated_at_iso": "2025-08-16T16:30:15.901277+00:00"
    }
   },
   "source": [
    "## Recap: Lecture Hall Question\n",
    "\n",
    "<script>setSectionBackground('#FFD966');</script>\n",
    "<div class=\"flex-row\">\n",
    "  <div class=\"col4 vcent\">\n",
    "\n",
    "What levels does the knowledge pyramid have?\n",
    " \n",
    "  </div>\n",
    "  <div class=\"col6\"> \n",
    "    <figure class=\"mj-fig\">\n",
    "        <img src=\"images/03a_Operatoren/mj_tower.png\" class=\"mj-fig-img\">\n",
    "        <figcaption class=\"mj-fig-cap\">\n",
    "            Midjourney: Tower of Babel\n",
    "        </figcaption>\n",
    "    </figure>\n",
    "  </div>\n",
    "</div>"
   ]
  },
  {
   "cell_type": "markdown",
   "id": "0fc0945879de42f0810ce80eb7e7ddc5",
   "metadata": {
    "slideshow": {
     "slide_type": "subslide"
    },
    "tags": [
     "remove-cell",
     "translated_en"
    ],
    "translation": {
     "lang": "de",
     "src_hash": "143c682f8ec1ca059cfc93db5b324034033c3c900085efa69438a5a6cfd6b5c3",
     "updated_at_iso": "2025-08-16T16:30:28.089459+00:00"
    }
   },
   "source": [
    "## Review: Knowledge Pyramid\n",
    "\n",
    "<script>setSectionBackground('#FFD966');</script>\n",
    "\n",
    "<div class=\"flex-row\">\n",
    "<div class=\"col1\">\n",
    "\n",
    "The Wissenspyradmide is a model for representing the emergence of knowledge. \n",
    "\n",
    "The four element types: *Signs, Data, Information* and *Knowledge* are shown pyramid-shaped as four levels.\n",
    "\n",
    "Signs form the base and *Knowledge* the tip of the pyramid.\n",
    "\n",
    "</div>\n",
    "<div class=\"col1\">\n",
    "\n",
    "![](images/02b_Wissenspyramide/pyramide1.svg)\n",
    "\n",
    "</div>\n",
    "</div>"
   ]
  },
  {
   "cell_type": "markdown",
   "id": "e238dc1473c1407790bf00a8b2596964",
   "metadata": {
    "slideshow": {
     "slide_type": "subslide"
    },
    "tags": [
     "remove-cell",
     "translated_en"
    ],
    "translation": {
     "lang": "de",
     "src_hash": "dbb72f0241209e00dea89cfd3288b973426bb6fa76eb5fb5dfee64c069a906f9",
     "updated_at_iso": "2025-08-16T16:30:34.160205+00:00"
    }
   },
   "source": [
    "## Recap: Lecture Hall Question\n",
    "\n",
    "<script>setSectionBackground('#FFD966');</script>\n",
    "<div class=\"flex-row\">\n",
    "  <div class=\"col4 vcent\">\n",
    "\n",
    "What are the four fundamental elements of a program?\n",
    " \n",
    "  </div>\n",
    "  <div class=\"col6\"> \n",
    "    <figure class=\"mj-fig\">\n",
    "        <img src=\"images/05a_Softwareentwurf/mj_fundamentals.png\" class=\"mj-fig-img\">\n",
    "        <figcaption class=\"mj-fig-cap\">\n",
    "            Midjourney: Fundamentals of a Programming Language\n",
    "        </figcaption>\n",
    "    </figure>\n",
    "  </div>\n",
    "</div>"
   ]
  },
  {
   "cell_type": "markdown",
   "id": "6b95b2088c114464b0032950779afef5",
   "metadata": {
    "slideshow": {
     "slide_type": "subslide"
    },
    "tags": [
     "remove-cell",
     "translated_en"
    ],
    "translation": {
     "lang": "de",
     "src_hash": "77d16d73cae6dc04aa131eb3bb3f3dd9d820ef7fd4330f376523dc06ae19008e",
     "updated_at_iso": "2025-08-16T16:30:41.340136+00:00"
    }
   },
   "source": [
    "## Recap: Program Elements\n",
    "\n",
    "<script>setSectionBackground('#FFD966');</script>\n",
    "\n",
    "- We all know the basic building blocks of a program:\n",
    "  - Statements\n",
    "  - Functions\n",
    "  - Branching\n",
    "  - Loops & Recursion\n",
    "\n",
    "- We know how to plan algorithms and combine these elements."
   ]
  },
  {
   "cell_type": "markdown",
   "id": "ba00c0f7fa064cb4afcf6c13c06d44fc",
   "metadata": {
    "slideshow": {
     "slide_type": "slide"
    },
    "tags": [
     "remove-cell",
     "translated_en"
    ],
    "translation": {
     "lang": "de",
     "src_hash": "1d0c33e5a4df96f1cffb5f04c147ce2dd746b3569804e70ee2d814f533ad4eb2",
     "updated_at_iso": "2025-08-16T16:30:43.827961+00:00"
    }
   },
   "source": [
    "## Process\n",
    "\n",
    "![](images/partA_7.svg)"
   ]
  },
  {
   "cell_type": "markdown",
   "id": "597c4825019e46acbab0b48ebd7f8a2c",
   "metadata": {
    "slideshow": {
     "slide_type": "skip"
    },
    "tags": [
     "translated_en"
    ],
    "translation": {
     "lang": "de",
     "src_hash": "3766a1f05163819a7deebc33b32d2f7f65b5df498ab007d71dfde4d1e263672a",
     "updated_at_iso": "2025-08-16T16:30:46.438539+00:00"
    }
   },
   "source": [
    "## Handling errors with exceptions"
   ]
  },
  {
   "cell_type": "markdown",
   "id": "b7b3a77272234d30a1f0bddbe67de964",
   "metadata": {
    "slideshow": {
     "slide_type": "skip"
    },
    "tags": [
     "translated_en"
    ],
    "translation": {
     "lang": "de",
     "src_hash": "c93aa90ac0296742309333a9fb2dceb8419f71000e36eaeb8bee94cec809f392",
     "updated_at_iso": "2025-08-16T16:31:09.505538+00:00"
    }
   },
   "source": [
    "Exceptions interrupt the normal flow of a program in the event of an error. They are used to communicate the error in the program (they usually include an error message) and are used to prevent the program from crashing uncontrollably in the event of an error.\n",
    "\n",
    "Known exceptions should always be caught. In Python they are caught by the `try-except` block. This starts with a `try` and ends with an `except`. After the `try` follows the block with the known (or unknown) exception. After the `except` follows the block for error handling.\n",
    "\n",
    "It should be noted that with exceptions there is no value assignment (the value is not known). Let's again consider the division by 0 known from branching [Verzweigung bekannte Division durch 0](4a_Verzweigung.html#elif_-_Für_noch_mehr_Alternativen) with its various error cases of zero division and incorrect input data types. Without precisely specifying these error cases we can write."
   ]
  },
  {
   "cell_type": "code",
   "execution_count": null,
   "id": "0e9e72090c4849d4a12955ed9027fc5b",
   "metadata": {
    "slideshow": {
     "slide_type": "skip"
    },
    "tags": [
     "translated_en"
    ],
    "translation": {
     "lang": "de",
     "src_hash": "383b1e5f03c69935eebd2fdc6079f5be4a298c05b6eecd69dcceda0a0ba8313c",
     "updated_at_iso": "2025-08-16T16:31:17.831207+00:00"
    }
   },
   "outputs": [],
   "source": [
    "numerator = 10\n",
    "denominator = 0\n",
    "result = None\n",
    "try:\n",
    "    # Block with a known exception\n",
    "    result = numerator / denominator\n",
    "    # This part is executed only if no exception occurred\n",
    "    print(\"Die Division war erfolgreich\")\n",
    "except:\n",
    "    # Error handling\n",
    "    print(\"Divisionsfehler\")\n",
    "\n",
    "print(f\"Das Ergebnis von {numerator}/{denominator} = {result}\")"
   ]
  },
  {
   "cell_type": "markdown",
   "id": "6936af9969fe411a94d9437eb3cdee68",
   "metadata": {
    "slideshow": {
     "slide_type": "skip"
    },
    "tags": [
     "translated_en"
    ],
    "translation": {
     "lang": "de",
     "src_hash": "23b8fca9982f3efc7a2d8b339df154232c462b0712cffc69ebc65650bda6c654",
     "updated_at_iso": "2025-08-16T16:31:23.905839+00:00"
    }
   },
   "source": [
    "The `except` in the above case is untyped. This allows catching all errors that can occur (including unknown ones). Consequently, the `try-except` block also catches errors of the wrong data type."
   ]
  },
  {
   "cell_type": "code",
   "execution_count": null,
   "id": "1bcf3d1cebb146ccb37571c215f207ea",
   "metadata": {
    "slideshow": {
     "slide_type": "skip"
    },
    "tags": [
     "translated_en"
    ],
    "translation": {
     "lang": "de",
     "src_hash": "1b6c9cc7690d58f4b5427ed570a18c6fdab836a37876cda0739e237b232041ae",
     "updated_at_iso": "2025-08-16T16:31:32.407542+00:00"
    }
   },
   "outputs": [],
   "source": [
    "numerator = 'keine_zahl'\n",
    "denominator = 2\n",
    "result = None\n",
    "try:\n",
    "    result = numerator / denominator\n",
    "except:\n",
    "    print(\"Divisionsfehler\")\n",
    "\n",
    "print(f\"Das Ergebnis von {numerator}/{denominator} = {result}\")"
   ]
  },
  {
   "cell_type": "markdown",
   "id": "58517283a7d8499993ea9f068eb14720",
   "metadata": {
    "slideshow": {
     "slide_type": "skip"
    },
    "tags": [
     "translated_en"
    ],
    "translation": {
     "lang": "de",
     "src_hash": "18d0e6c3038f0108853b5cbae4ad3fb630ce22afd34b739154c3b2d92594ffc6",
     "updated_at_iso": "2025-08-16T16:31:38.769945+00:00"
    }
   },
   "source": [
    "The problem here is that we don’t get any information about the exception. Therefore it’s always sensible to catch the exact exception and display the error message. The most general type of error in Python is the `Exception`, which we catch as a variable named `e` as follows."
   ]
  },
  {
   "cell_type": "code",
   "execution_count": null,
   "id": "7311f3977eba45ec884ec6797f7f4a74",
   "metadata": {
    "slideshow": {
     "slide_type": "skip"
    },
    "tags": [
     "translated_en"
    ],
    "translation": {
     "lang": "de",
     "src_hash": "0a80b07b69f37a23ab71bdfe2f841e38f2030c3bcd9b26429eebfd3c66a9ed7b",
     "updated_at_iso": "2025-08-16T16:31:44.357490+00:00"
    }
   },
   "outputs": [],
   "source": [
    "numerator = 'keine_zahl'\n",
    "denominator = 0\n",
    "result = None\n",
    "try:\n",
    "    result = numerator / denominator\n",
    "except Exception as e:\n",
    "    print(f\"Divisionsfehler mit Fehler vom Typ `{type(e)}` und Meldung `{e}`\")\n",
    "\n",
    "print(f\"Das Ergebnis von {numerator}/{denominator} = {result}\")"
   ]
  },
  {
   "cell_type": "markdown",
   "id": "2d3a190b7e2441279b223bcacba041d0",
   "metadata": {
    "slideshow": {
     "slide_type": "skip"
    },
    "tags": [
     "translated_en"
    ],
    "translation": {
     "lang": "de",
     "src_hash": "369399c4dc3f29bdfa2a3e6d9edb39cfc178721fd47bcd501521ae3ee1b5b522",
     "updated_at_iso": "2025-08-16T16:31:50.402886+00:00"
    }
   },
   "source": [
    "If the exceptions are known, they should also be handled by type in order to display specific messages."
   ]
  },
  {
   "cell_type": "code",
   "execution_count": null,
   "id": "efaed472063e4f569da40f8f917cbf1b",
   "metadata": {
    "slideshow": {
     "slide_type": "skip"
    },
    "tags": [
     "translated_en"
    ],
    "translation": {
     "lang": "de",
     "src_hash": "929586875c7690494af4457c82433119917bb7f368709314ebd03490e7196ab3",
     "updated_at_iso": "2025-08-16T16:32:00.978096+00:00"
    }
   },
   "outputs": [],
   "source": [
    "numerator = 'keine_zahl'\n",
    "denominator = 0\n",
    "result = None\n",
    "try:\n",
    "    result = numerator / denominator\n",
    "except TypeError as e:\n",
    "    print(f\"Zaehler oder Nenner nicht vom Datentyp `int`\")\n",
    "except ZeroDivisionError as e:\n",
    "    print(\"Teilung durch 0\")\n",
    "\n",
    "print(f\"Das Ergebnis von {numerator}/{denominator} = {result}\")"
   ]
  },
  {
   "cell_type": "markdown",
   "id": "f9bf4d5b0149473ab7f3ef8e86be801f",
   "metadata": {
    "editable": true,
    "slideshow": {
     "slide_type": "skip"
    },
    "tags": [
     "translated_en"
    ],
    "translation": {
     "lang": "de",
     "src_hash": "67969cbfdd11d7989cd1310f83562643cf4c62191f2c00dbaded7c3eefb654dd",
     "updated_at_iso": "2025-08-16T16:32:10.918187+00:00"
    }
   },
   "source": [
    "The `try-except` block also supports the `else` clause, which is always executed when *no* exception occurs. In addition, there is the `finally` clause, which *always* executes, i.e., in both the error-free case and in the case of an error.\n",
    "\n",
    "For example, if you want to perform output only when the `try` block has succeeded, use `else`."
   ]
  },
  {
   "cell_type": "code",
   "execution_count": null,
   "id": "c8e0a961accd4920983994ac39dbfdd4",
   "metadata": {
    "slideshow": {
     "slide_type": "skip"
    },
    "tags": [
     "translated_en"
    ],
    "translation": {
     "lang": "de",
     "src_hash": "5d025e0dadfbda579da28663760e14fb30e2d88698ed6730747133914bd8b821",
     "updated_at_iso": "2025-08-16T16:32:20.590089+00:00"
    }
   },
   "outputs": [],
   "source": [
    "numerator = 2\n",
    "denominator = 1\n",
    "result = None\n",
    "try:\n",
    "    result = numerator / denominator\n",
    "except TypeError as e:\n",
    "    print(f\"Zaehler oder Nenner nicht vom Datentyp `int`\")\n",
    "except ZeroDivisionError as e:\n",
    "    print(\"Teilung durch 0\")\n",
    "else:\n",
    "    print(f\"Die Division war erfolgreich und resultiert in {numerator}/{denominator} = {result}\")"
   ]
  },
  {
   "cell_type": "markdown",
   "id": "5319ec8ac1c6491fb1bd448793477f2f",
   "metadata": {
    "slideshow": {
     "slide_type": "skip"
    },
    "tags": [
     "translated_en"
    ],
    "translation": {
     "lang": "de",
     "src_hash": "30632ce562c27c16f72b3a8105a4559037e3040dbd509dfd3a7da8fd444d697d",
     "updated_at_iso": "2025-08-16T16:32:29.814972+00:00"
    }
   },
   "source": [
    "If you want something to always be executed, you can use `finally`. This is commonly used to perform steps that should also be done in the event of an error, e.g., to close connections to files or to a database, so that they do not remain open indefinitely (and eventually cause errors)."
   ]
  },
  {
   "cell_type": "code",
   "execution_count": null,
   "id": "e5d0ab55bc1841a2bcb5cc1fd6a394ea",
   "metadata": {
    "slideshow": {
     "slide_type": "skip"
    },
    "tags": [
     "translated_en"
    ],
    "translation": {
     "lang": "de",
     "src_hash": "0ee1464c6eeb6e81f3b79676c8cd0dbcbacbfeb908617172ec290096cf6a1b4f",
     "updated_at_iso": "2025-08-16T16:32:38.665054+00:00"
    }
   },
   "outputs": [],
   "source": [
    "numerator = 'keine_zahl'\n",
    "denominator = 0\n",
    "result = None\n",
    "try:\n",
    "    result = numerator / denominator\n",
    "except TypeError as e:\n",
    "    print(f\"Zaehler oder Nenner nicht vom Datentyp `int`\")\n",
    "except ZeroDivisionError as e:\n",
    "    print(\"Teilung durch 0\")\n",
    "finally:\n",
    "    print(f\"Das Ergebnis von {numerator}/{denominator} = {result}\")"
   ]
  },
  {
   "cell_type": "markdown",
   "id": "5bfc86178c9840e3ba725079affbda05",
   "metadata": {
    "slideshow": {
     "slide_type": "skip"
    },
    "tags": [
     "translated_en"
    ],
    "translation": {
     "lang": "de",
     "src_hash": "98ec9e2360f1919d7bd406583605058ec7cc2d52f7f2bfd4b1547b6cba64eff8",
     "updated_at_iso": "2025-08-16T16:32:41.247805+00:00"
    }
   },
   "source": [
    "## Creating your own exceptions"
   ]
  },
  {
   "cell_type": "markdown",
   "id": "e15b4396e313477285213e9df0365993",
   "metadata": {
    "slideshow": {
     "slide_type": "skip"
    },
    "tags": [
     "translated_en"
    ],
    "translation": {
     "lang": "de",
     "src_hash": "87fddd1b7c531d3225890f348d02b81912d284bbaad8e0907bd28b45e884f645",
     "updated_at_iso": "2025-08-16T16:32:49.998905+00:00"
    }
   },
   "source": [
    "Exceptions can also be raised with `raise`. This is useful when in your own code errors may occur that need to be handled elsewhere. Here, an error type must be specified. Either you use the most general error type `Exception`, a suitable standard Python error, or a user-defined one. It is usually advisable to use more specific error types, since the type of the error helps a lot when handling and debugging.\n",
    "\n",
    "Let's define, as an example, our own division function with clear error handling for whether the numerator or denominator is of the wrong type. Here we want to raise a `ValueError` instead of a `TypeError`. For a division by zero, instead of raising an error, the value `None` should be returned."
   ]
  },
  {
   "cell_type": "code",
   "execution_count": null,
   "id": "a4e2b51ca492484e8cef6a5d3cf48780",
   "metadata": {
    "slideshow": {
     "slide_type": "skip"
    },
    "tags": [
     "translated_en"
    ],
    "translation": {
     "lang": "de",
     "src_hash": "ee2336c8b61e6a72dd638933160ac67a401cb92969723d2b798c25383db469f0",
     "updated_at_iso": "2025-08-16T16:32:56.135293+00:00"
    }
   },
   "outputs": [],
   "source": [
    "def division(numerator, denominator):\n",
    "    if not isinstance(denominator, (int, float)):\n",
    "        raise ValueError(\"Denominator not of type `int` or `float`\")\n",
    "    elif not isinstance(numerator, (int, float)):\n",
    "        raise ValueError(\"Numerator not of type `int` or `float`\")\n",
    "    elif denominator == 0:\n",
    "        print(\"Warning division by 0\")\n",
    "        return None\n",
    "    else:\n",
    "        result = numerator / denominator\n",
    "        print(f\"The result of {numerator}/{denominator} = {result}\")\n",
    "        return result"
   ]
  },
  {
   "cell_type": "code",
   "execution_count": null,
   "id": "4ba419a82aba429cbdb0e68bee58bfc9",
   "metadata": {
    "slideshow": {
     "slide_type": "skip"
    },
    "tags": [
     "raises-exception",
     "translated_en"
    ],
    "translation": {
     "lang": "de",
     "src_hash": "453fbf99aa3a9d4349d1bb8fad0b78c1d446c2cdc5b03c93603d674394dcb026",
     "updated_at_iso": "2025-08-16T16:33:01.508844+00:00"
    }
   },
   "outputs": [],
   "source": [
    "numerator = 'keine_zahl'\n",
    "denominator = 0\n",
    "\n",
    "result = division(numerator, denominator)"
   ]
  },
  {
   "cell_type": "code",
   "execution_count": null,
   "id": "6aa9f662f7274ea18c481ded86c85e6c",
   "metadata": {
    "slideshow": {
     "slide_type": "skip"
    },
    "tags": [
     "translated_en"
    ],
    "translation": {
     "lang": "de",
     "src_hash": "a9641afac73dd875a7dece2ef4cd73282957c2de47accd246ef99397cd9e49b5",
     "updated_at_iso": "2025-08-16T16:33:03.875253+00:00"
    }
   },
   "outputs": [],
   "source": [
    "numerator = 10\n",
    "denominator = 2"
   ]
  },
  {
   "cell_type": "code",
   "execution_count": null,
   "id": "5d636e762d75421093b8d7a74ea6e492",
   "metadata": {
    "slideshow": {
     "slide_type": "skip"
    },
    "tags": [
     "translated_en"
    ],
    "translation": {
     "lang": "de",
     "src_hash": "1e8c88177052ac6cd4cd54c77a1d5efe2602b0207a9956e47eebc365bf6d5c9a",
     "updated_at_iso": "2025-08-16T16:33:08.391742+00:00"
    }
   },
   "outputs": [],
   "source": [
    "numerator = 10\n",
    "denominator = 1\n",
    "\n",
    "result = division(numerator, denominator)"
   ]
  },
  {
   "cell_type": "markdown",
   "id": "b963687312f5468986de28fa92b908b0",
   "metadata": {
    "slideshow": {
     "slide_type": "skip"
    },
    "tags": [
     "translated_en"
    ],
    "translation": {
     "lang": "de",
     "src_hash": "79d3068f49e560885f960828f5df80bd95d546ef9384c0fb1cd411e943299471",
     "updated_at_iso": "2025-08-16T16:33:10.498754+00:00"
    }
   },
   "source": [
    "### Error handling for functions on the stack"
   ]
  },
  {
   "cell_type": "markdown",
   "id": "b20644ac34474b9880ff3972fff00320",
   "metadata": {
    "slideshow": {
     "slide_type": "skip"
    },
    "tags": [
     "translated_en"
    ],
    "translation": {
     "lang": "de",
     "src_hash": "826cce5b2b2765d30bae59d6dae972a9c4a16550f63cd8c5f24c269e72595b59",
     "updated_at_iso": "2025-08-16T16:33:23.342777+00:00"
    }
   },
   "source": [
    "Exceptions are propagated up the call stack (the order of function calls) until they are either caught and handled or the program crashes when the end of the call stack is reached. The goal of catching and handling exceptions is to bring the program back to a state where it can continue running.\n",
    "\n",
    "As an example, we want to define a recursive function that prints an error when the recursion depth becomes too large in order to avoid a stack overflow error. We will use the factorial function from the [Recursion example](5b_Rekursion.html) to illustrate this."
   ]
  },
  {
   "cell_type": "code",
   "execution_count": null,
   "id": "c2245a97f7444b7d85edd8d437e10492",
   "metadata": {
    "slideshow": {
     "slide_type": "skip"
    },
    "tags": [
     "translated_en"
    ],
    "translation": {
     "lang": "de",
     "src_hash": "dc922a97cd2a5a00d981ec1d0a129e7b63cfff339e8da0c1d0d0914bef509fa3",
     "updated_at_iso": "2025-08-16T16:33:30.044445+00:00"
    }
   },
   "outputs": [],
   "source": [
    "def factorial_recursive(x, depth=1):\n",
    "    if depth > 20:\n",
    "        raise RecursionError(\"Recursion zu tief\")\n",
    "    if x > 1:\n",
    "        return x * factorial_recursive(x-1, depth+1)\n",
    "    else:\n",
    "        return 1"
   ]
  },
  {
   "cell_type": "code",
   "execution_count": null,
   "id": "bc8fe010794d4c10933580e0b8c969c2",
   "metadata": {
    "slideshow": {
     "slide_type": "skip"
    },
    "tags": [
     "translated_en"
    ],
    "translation": {
     "lang": "de",
     "src_hash": "5978fa36c3cefc6e51ce08f832175cc37138d61858045a76d829b74cf789838b",
     "updated_at_iso": "2025-08-16T16:33:33.153035+00:00"
    }
   },
   "outputs": [],
   "source": [
    "factorial_recursive(20)"
   ]
  },
  {
   "cell_type": "code",
   "execution_count": null,
   "id": "fa504fbdcce74b3d8dc88b71dda701f2",
   "metadata": {
    "slideshow": {
     "slide_type": "skip"
    },
    "tags": [
     "raises-exception",
     "translated_en"
    ],
    "translation": {
     "lang": "de",
     "src_hash": "a7b8eba9d44d965872b59a860e7f9c1154be4e9a7317f8514e858b1fccf63088",
     "updated_at_iso": "2025-08-16T16:33:55.114821+00:00"
    }
   },
   "outputs": [],
   "source": [
    "factorial_recursive(21)"
   ]
  },
  {
   "cell_type": "markdown",
   "id": "de44c63bc5a243a3b84ad9621d9a7e6d",
   "metadata": {
    "editable": true,
    "slideshow": {
     "slide_type": "skip"
    },
    "tags": [
     "translated_en"
    ],
    "translation": {
     "lang": "de",
     "src_hash": "7e890ea75829e20a21c50eaf1d7e5d131632673ad2f0b6305889d1185a3829ce",
     "updated_at_iso": "2025-08-16T16:34:02.416375+00:00"
    }
   },
   "source": [
    "In the error message above, the program itself hangs (however, the entire kernel doesn't crash, as with a stack overflow error). To avoid that, we need to catch the error with a `try-except`. In the error message above, the stack trace is already starting to appear, i.e., the list of function calls that has been collected on the stack."
   ]
  },
  {
   "cell_type": "code",
   "execution_count": null,
   "id": "25009d93f2ea494cb29dd6dd451b9086",
   "metadata": {
    "editable": true,
    "slideshow": {
     "slide_type": "skip"
    },
    "tags": [
     "translated_en"
    ],
    "translation": {
     "lang": "de",
     "src_hash": "b0b9e825b06058f433729b712cae145769a987671416e06ec9cf096393c4619d",
     "updated_at_iso": "2025-08-16T16:34:06.603483+00:00"
    }
   },
   "outputs": [],
   "source": [
    "import traceback\n",
    "try:\n",
    "    factorial_recursive(21)\n",
    "except RecursionError as e:\n",
    "    print(e)\n",
    "    traceback.print_exc()"
   ]
  },
  {
   "cell_type": "markdown",
   "id": "0a03cdcb76264e10ad7d81d4a312998d",
   "metadata": {
    "editable": true,
    "slideshow": {
     "slide_type": "skip"
    },
    "tags": [
     "translated_en"
    ],
    "translation": {
     "lang": "de",
     "src_hash": "81accae85008b5008d7de641198619006c989c8dc3455795bc22724236c7b820",
     "updated_at_iso": "2025-08-16T16:34:08.697237+00:00"
    }
   },
   "source": [
    "## Debugging with `print()`"
   ]
  },
  {
   "cell_type": "markdown",
   "id": "67d82e13ac064653a9d65c38914f60de",
   "metadata": {
    "slideshow": {
     "slide_type": "skip"
    },
    "tags": [
     "translated_en"
    ],
    "translation": {
     "lang": "de",
     "src_hash": "2ee9d69cb575367a2c09065e72520923e0d8e492aee23c0f475c0ea7a8b4a4b8",
     "updated_at_iso": "2025-08-16T16:34:20.308846+00:00"
    }
   },
   "source": [
    "Logical errors often only occur dynamically and cannot be found by static code analysis via lint tools. Here you have to trace the current program flow. This is called debugging. The simplest form is the `print` debugging, where you flood the code with `print()` statements.\n",
    "\n",
    "Let's extend our division function with lots of `print()` statements. It's common, for example, to print the input parameters, to print errors and warnings, and then to log the results."
   ]
  },
  {
   "cell_type": "code",
   "execution_count": null,
   "id": "acb9a3509bac40c3a1443177f376b183",
   "metadata": {
    "slideshow": {
     "slide_type": "skip"
    },
    "tags": [
     "translated_en"
    ],
    "translation": {
     "lang": "de",
     "src_hash": "df0c6310724fb21e55b7ba9f331c5f391f7d3d334a7aac3f53e622a0af9d69f6",
     "updated_at_iso": "2025-08-16T16:34:37.074878+00:00"
    }
   },
   "outputs": [],
   "source": [
    "def division(numerator, denominator):\n",
    "    print(f\"Debug: Input Numerator: {numerator}\")\n",
    "    print(f\"Debug: Input Denominator: {denominator}\")\n",
    "    if not isinstance(denominator, (int, float)):\n",
    "        print(f\"Error: Denominator not of type `int` or `float`, but of type {type(denominator)}\")\n",
    "        raise ValueError(f\"Denominator not of type `int` or `float`, but of type {type(denominator)}\")\n",
    "    elif not isinstance(numerator, (int, float)):\n",
    "        print(f\"Error: Numerator not of type `int` or `float`, but of type {type(numerator)}\")\n",
    "        raise ValueError(f\"Numerator not of type `int` or `float`, but of type {type(numerator)}\")\n",
    "    elif not denominator:\n",
    "        print(\"Warning: Division by 0\")\n",
    "        return None\n",
    "    else:\n",
    "        result = numerator / denominator\n",
    "        print(f\"Info: The result of {numerator}/{denominator} = {result}\")\n",
    "        return result"
   ]
  },
  {
   "cell_type": "markdown",
   "id": "858bd5374e9b43f4a6f0928ee563c84d",
   "metadata": {
    "slideshow": {
     "slide_type": "skip"
    },
    "tags": [
     "translated_en"
    ],
    "translation": {
     "lang": "de",
     "src_hash": "54ab1068ec39e190edc8384dd548fd985862c1af3c02b1261c657b9547594657",
     "updated_at_iso": "2025-08-16T16:34:42.688359+00:00"
    }
   },
   "source": [
    "Now we can, in particular, clearly trace exactly what happened in the event of an error. For example, in the case of division by zero."
   ]
  },
  {
   "cell_type": "code",
   "execution_count": null,
   "id": "151fb02b1c864c499ab2cc99d4edcc73",
   "metadata": {
    "slideshow": {
     "slide_type": "skip"
    },
    "tags": [
     "translated_en"
    ],
    "translation": {
     "lang": "de",
     "src_hash": "a18c1d5c348a2ffc1bdab2689c9dff35294c85b235d547dab3f72e9de6122ce2",
     "updated_at_iso": "2025-08-16T16:34:45.669754+00:00"
    }
   },
   "outputs": [],
   "source": [
    "division(10, 0)"
   ]
  },
  {
   "cell_type": "markdown",
   "id": "c7fed343259b4e93aafb4170400d0e2f",
   "metadata": {
    "slideshow": {
     "slide_type": "skip"
    },
    "tags": [
     "translated_en"
    ],
    "translation": {
     "lang": "de",
     "src_hash": "f3d988b70fcb308b71600f42fa9934d3c54cafbbe6ac1a37643923750ba555e1",
     "updated_at_iso": "2025-08-16T16:34:52.162946+00:00"
    }
   },
   "source": [
    "However, we also have a lot of output even in the correct case. That can be very distracting, because you can miss real errors very quickly. For example, we perform ten divisions, one of which was a division by zero."
   ]
  },
  {
   "cell_type": "code",
   "execution_count": null,
   "id": "96b2ece55ec04a5e9b68b0c9ea803785",
   "metadata": {
    "slideshow": {
     "slide_type": "skip"
    },
    "tags": [
     "translated_en"
    ],
    "translation": {
     "lang": "de",
     "src_hash": "468a998c1316edd2dbe819cae7b8a2e6b666da0b8357bfb4a306cddbb9672ae9",
     "updated_at_iso": "2025-08-16T16:34:57.436196+00:00"
    }
   },
   "outputs": [],
   "source": [
    "for denominator in range(-2, 8):\n",
    "    division(10, denominator)"
   ]
  },
  {
   "cell_type": "markdown",
   "id": "964a26f4eb5145228c9a4185ce3e8736",
   "metadata": {
    "slideshow": {
     "slide_type": "skip"
    },
    "tags": [
     "translated_en"
    ],
    "translation": {
     "lang": "de",
     "src_hash": "19feebbeb438681a3dc8af51461aa5fe3c1584012df0dd1b7c8fbdd82d0b1073",
     "updated_at_iso": "2025-08-16T16:34:59.504112+00:00"
    }
   },
   "source": [
    "## Debugging with `logging`"
   ]
  },
  {
   "cell_type": "markdown",
   "id": "ce92f7acd28540479de82e971a632777",
   "metadata": {
    "slideshow": {
     "slide_type": "skip"
    },
    "tags": [
     "translated_en"
    ],
    "translation": {
     "lang": "de",
     "src_hash": "cfe9b426de7c46a7b33553ec4b44f37c9b1d48a9034bd72ec4759d1387a0605e",
     "updated_at_iso": "2025-08-16T16:35:05.709430+00:00"
    }
   },
   "source": [
    "Therefore, in more complex programs, one usually uses a `logging` package. They allow you to assign categories to `print` statements and filter by those categories. In the Python library `logging`, the categories are: `debug`, `info`, `warning`, `error`, and `critical`."
   ]
  },
  {
   "cell_type": "code",
   "execution_count": null,
   "id": "af4336b218d24106b6ac4a0c1f7f57b7",
   "metadata": {
    "slideshow": {
     "slide_type": "skip"
    },
    "tags": [
     "translated_en"
    ],
    "translation": {
     "lang": "de",
     "src_hash": "6baaaee36a5abb34d2f3cf69991a6a1f7a1ab3a760276f720a1da4b983845a03",
     "updated_at_iso": "2025-08-16T16:35:18.469724+00:00"
    }
   },
   "outputs": [],
   "source": [
    "import logging\n",
    "\n",
    "log = logging.getLogger(\"meinlog\")\n",
    "\n",
    "def division(numerator, denominator):\n",
    "    log.debug(f\"Eingabe Zaehler: {numerator}\")\n",
    "    log.debug(f\"Eingabe Nenner: {denominator}\")\n",
    "    if not isinstance(denominator, (int, float)):\n",
    "        log.error(f\"Nenner nicht vom Datentyp `int` oder `float`, sondern vom Typ {type(denominator)}\")\n",
    "        raise ValueError(f\"Nenner nicht vom Datentyp `int` oder `float`, sondern vom Typ {type(denominator)}\")\n",
    "    elif not isinstance(numerator, (int, float)):\n",
    "        log.error(f\"Zaehler nicht vom Datentyp `int` oder `float`, sondern vom Typ {type(numerator)}\")\n",
    "        raise ValueError(f\"Zaehler nicht vom Datentyp `int` oder `float`, sondern vom Typ {type(numerator)}\")\n",
    "    elif not denominator:\n",
    "        log.warning(\"Division durch 0\")\n",
    "        return None\n",
    "    else:\n",
    "        result = numerator / denominator\n",
    "        log.info(f\"Das Ergebnis von {numerator}/{denominator} = {result}\")\n",
    "        return result"
   ]
  },
  {
   "cell_type": "markdown",
   "id": "b8f6b92ecf194993a0f07b3106f4130f",
   "metadata": {
    "slideshow": {
     "slide_type": "skip"
    },
    "tags": [
     "translated_en"
    ],
    "translation": {
     "lang": "de",
     "src_hash": "690992a0719cfaeeba1a79cbe73371edcc01eaa56f9779a2e6183e8939dc178c",
     "updated_at_iso": "2025-08-16T16:35:22.360107+00:00"
    }
   },
   "source": [
    "If we call the function now, we only see the division-by-zero warning."
   ]
  },
  {
   "cell_type": "code",
   "execution_count": null,
   "id": "63da094d82d743749faaa0ae359b8cfb",
   "metadata": {
    "slideshow": {
     "slide_type": "skip"
    },
    "tags": [
     "translated_en"
    ],
    "translation": {
     "lang": "de",
     "src_hash": "50c6f6aff70b40faa47b464d16cca2c5ae572d93c68189ef45bd4ac280cfef4a",
     "updated_at_iso": "2025-08-16T16:35:25.705921+00:00"
    }
   },
   "outputs": [],
   "source": [
    "log.setLevel(logging.WARNING)\n",
    "for denominator in range(-2, 8):\n",
    "    division(10, denominator)"
   ]
  },
  {
   "cell_type": "markdown",
   "id": "b402eeff869f4237a03f1d9162132027",
   "metadata": {
    "slideshow": {
     "slide_type": "skip"
    },
    "tags": [
     "translated_en"
    ],
    "translation": {
     "lang": "de",
     "src_hash": "a5e6a94a319937a1a2086ea95074c5fd3fb6bf1d34a6b9f93b3927e41e0cefbb",
     "updated_at_iso": "2025-08-16T16:35:28.912065+00:00"
    }
   },
   "source": [
    "However, if needed, just like during debugging, we can also raise the log level. For example, we want to receive all debug messages."
   ]
  },
  {
   "cell_type": "code",
   "execution_count": null,
   "id": "1aa0bcb511fc44c8b490832acfcd56ec",
   "metadata": {
    "slideshow": {
     "slide_type": "skip"
    },
    "tags": [
     "translated_en"
    ],
    "translation": {
     "lang": "de",
     "src_hash": "777911f4d4dc1ce7db7646599b047e4a47ac3fdf8fe30dd4db5425f83282e5bf",
     "updated_at_iso": "2025-08-16T16:35:32.905842+00:00"
    }
   },
   "outputs": [],
   "source": [
    "log.setLevel(logging.DEBUG)\n",
    "for denominator in range(-2, 8):\n",
    "    division(10, denominator)"
   ]
  },
  {
   "cell_type": "markdown",
   "id": "29db8fc182c84966aa79dd2feb60e824",
   "metadata": {
    "slideshow": {
     "slide_type": "skip"
    },
    "tags": [
     "translated_en"
    ],
    "translation": {
     "lang": "de",
     "src_hash": "e59d164253cefb0e863b54851248ce296f7114c60a71d33239e4386547325a66",
     "updated_at_iso": "2025-08-16T16:35:41.116528+00:00"
    }
   },
   "source": [
    "Furthermore, logging can automatically include additional information as well. We can already see in the log above that not only the level (INFO, DEBUG, WARNING) but also the logger name (meinlog) are included. We can customize this format to, for example, also output the timestamp, which is especially important for understanding when something happened."
   ]
  },
  {
   "cell_type": "code",
   "execution_count": null,
   "id": "8f8f21ce34a4412c800249a252d315af",
   "metadata": {
    "slideshow": {
     "slide_type": "skip"
    },
    "tags": [
     "translated_en"
    ],
    "translation": {
     "lang": "de",
     "src_hash": "9547cb31e47237de1a263704857f6acc8c358e95ce46170eccdc5206d69fc86b",
     "updated_at_iso": "2025-08-16T16:35:51.950341+00:00"
    }
   },
   "outputs": [],
   "source": [
    "sh = logging.StreamHandler()\n",
    "formatter = logging.Formatter('%(asctime)s  %(name)s  %(levelname)s: %(message)s')\n",
    "sh.setFormatter(formatter)\n",
    "log.addHandler(sh)\n",
    "log.setLevel(logging.INFO)\n",
    "\n",
    "for denominator in range(-2, 8):\n",
    "    divide(10, denominator)"
   ]
  },
  {
   "cell_type": "markdown",
   "id": "eeb7b082f8d24673aa00bdd502a1eaa5",
   "metadata": {
    "slideshow": {
     "slide_type": "skip"
    },
    "tags": [
     "translated_en"
    ],
    "translation": {
     "lang": "de",
     "src_hash": "956e9a35b949b52d7fff85af00ec99439fc1cc267826e1c9e9dd327c51af34a0",
     "updated_at_iso": "2025-08-16T16:35:57.789090+00:00"
    }
   },
   "source": [
    "In practice, logging is very commonly used, especially in cloud applications. Since they don’t have screens, errors have to be found in the logs. As long as everything is okay, the application runs at the log level `INFO`, with only a small amount of output. If an error occurs, the server is set to the log level `DEBUG`, and one then searches the detailed logs for information to narrow down the error."
   ]
  },
  {
   "cell_type": "markdown",
   "id": "d34a275c106c4d1d836a1668be2611d0",
   "metadata": {
    "slideshow": {
     "slide_type": "skip"
    },
    "tags": [
     "translated_en"
    ],
    "translation": {
     "lang": "de",
     "src_hash": "7cd82465fa79437f3f0e0f3fd9e7987588a577e8cf09abcc2b9aed690d6ca35b",
     "updated_at_iso": "2025-08-16T16:36:00.480877+00:00"
    }
   },
   "source": [
    "## Debugging via Debug Interfaces"
   ]
  },
  {
   "cell_type": "markdown",
   "id": "bee7d0cab38747a9b6b8be7d54384e14",
   "metadata": {
    "slideshow": {
     "slide_type": "skip"
    },
    "tags": [
     "translated_en"
    ],
    "translation": {
     "lang": "de",
     "src_hash": "37ca911dfcd596c2f06cd8ce99247bb59ab76f1e2d1292c32f1d013ce69de312",
     "updated_at_iso": "2025-08-16T16:36:09.834389+00:00"
    }
   },
   "source": [
    "Many integrated development environments (IDEs) offer the ability to run the debugger directly. These debuggers allow you to interrupt the dynamic execution of the code. The goal is to pause execution just before the error occurs, so you can observe the error behavior in detail.\n",
    "\n",
    "There are usually two forms of interruption supported:\n",
    "- Pausing at specific lines of code using breakpoints.\n",
    "- Pausing on specific exceptions."
   ]
  },
  {
   "cell_type": "markdown",
   "id": "0b404dbd16774355912d14e95e174297",
   "metadata": {
    "slideshow": {
     "slide_type": "skip"
    },
    "tags": [
     "translated_en"
    ],
    "translation": {
     "lang": "de",
     "src_hash": "9bc628257e24bbda60b6bb19e6e846f4048efc4e3ed60908ec99c968e5b3253e",
     "updated_at_iso": "2025-08-16T16:36:11.821124+00:00"
    }
   },
   "source": [
    "### Debugging in Jupyter-Notebooks in VSCode"
   ]
  },
  {
   "cell_type": "markdown",
   "id": "01bd7b04568a4197a94db02054504744",
   "metadata": {
    "slideshow": {
     "slide_type": "skip"
    },
    "tags": [
     "translated_en"
    ],
    "translation": {
     "lang": "de",
     "src_hash": "f8f2e4a43c4c3bb4b0dda78c9ae3a7d2c4e64af263b80a7ac56b941b0cf4f46a",
     "updated_at_iso": "2025-08-16T16:36:16.058057+00:00"
    }
   },
   "source": [
    "The debugging interfaces look somewhat different depending on the IDE, but they have similar features. This Jupyter Notebook was written in VS Code, which we will use as the first example."
   ]
  },
  {
   "cell_type": "markdown",
   "id": "f0b8d4c6f87a4932b23de0741b6630f7",
   "metadata": {
    "slideshow": {
     "slide_type": "skip"
    },
    "tags": [
     "translated_en"
    ],
    "translation": {
     "lang": "de",
     "src_hash": "df25ce9fc98d2081477976d437f35a04ef85bfb97f7b1522c8c53a4aeb0d620d",
     "updated_at_iso": "2025-08-16T16:36:24.925431+00:00"
    }
   },
   "source": [
    "In most IDEs, you can usually click to the left of a line to set a breakpoint <span style=\"color: red\">⬤</span>. We'll set a breakpoint on line 11 at the point where the warning is emitted."
   ]
  },
  {
   "cell_type": "markdown",
   "id": "154a75037f904ed2b06ec9656cbce87e",
   "metadata": {
    "slideshow": {
     "slide_type": "skip"
    },
    "tags": [
     "translated_en"
    ],
    "translation": {
     "lang": "de",
     "src_hash": "3b5ee95530a17b5c854b3b2ac9c0af86e1e8de3a9e0ae154dc2d63013386690e",
     "updated_at_iso": "2025-08-16T16:36:26.797129+00:00"
    }
   },
   "source": [
    "![](images/06a_Exceptions/debug_vscode_1.png)"
   ]
  },
  {
   "cell_type": "markdown",
   "id": "55e582a57e8f4ee9855ff23ed690f4ce",
   "metadata": {
    "slideshow": {
     "slide_type": "skip"
    },
    "tags": [
     "translated_en"
    ],
    "translation": {
     "lang": "de",
     "src_hash": "bde1fb1e31041f0b68669f5dd25c84d714109b1c7757a4153bcbde61502c4ad0",
     "updated_at_iso": "2025-08-16T16:36:32.912136+00:00"
    }
   },
   "source": [
    "The code is then executed in a special debugging environment that allows the execution to be interrupted. In our notebook in VSCode, it is started by the symbol <img src=\"images/06a_Exceptions/debug_vscode_2.png\" style=\"height: 2ex\">."
   ]
  },
  {
   "cell_type": "code",
   "execution_count": null,
   "id": "8676aa8fb6b3415cae978e3045b1bdb7",
   "metadata": {
    "slideshow": {
     "slide_type": "skip"
    },
    "tags": [
     "translated_en"
    ],
    "translation": {
     "lang": "de",
     "src_hash": "9ca93bd95b346f436109b524c2a54939c5f70c91f10c6277a04307527c82cb9d",
     "updated_at_iso": "2025-08-16T16:36:49.415242+00:00"
    }
   },
   "outputs": [],
   "source": [
    "def divide(numerator, denominator):\n",
    "    log.debug(f\"Eingabe Zaehler: {numerator}\")\n",
    "    log.debug(f\"Eingabe Nenner: {denominator}\")\n",
    "    if not isinstance(denominator, (int, float)):\n",
    "        log.error(f\"Nenner nicht vom Datentyp `int` oder `float`, sondern vom Typ {type(denominator)}\")\n",
    "        raise ValueError(f\"Nenner nicht vom Datentyp `int` oder `float`, sondern vom Typ {type(denominator)}\")\n",
    "    elif not isinstance(numerator, (int, float)):\n",
    "        log.error(f\"Zaehler nicht vom Datentyp `int` oder `float`, sondern vom Typ {type(numerator)}\")\n",
    "        raise ValueError(f\"Zaehler nicht vom Datentyp `int` oder `float`, sondern vom Typ {type(numerator)}\")\n",
    "    elif not denominator:\n",
    "        log.warning(\"Division durch 0\")\n",
    "        return None\n",
    "    else:\n",
    "        result = numerator / denominator\n",
    "        log.info(f\"Das Ergebnis von {numerator}/{denominator} = {result}\")\n",
    "        return result\n",
    "\n",
    "divide(10, 0)"
   ]
  },
  {
   "cell_type": "markdown",
   "id": "c7d2095d9a5744b9b10dc2fd3279c116",
   "metadata": {
    "slideshow": {
     "slide_type": "skip"
    },
    "tags": [
     "translated_en"
    ],
    "translation": {
     "lang": "de",
     "src_hash": "0ad95025a1119c4a8423d0e25838c61e5523d3537c3d67433253d18554d1869e",
     "updated_at_iso": "2025-08-16T16:36:52.940269+00:00"
    }
   },
   "source": [
    "This starts the debug mode. In this mode, the current line is highlighted, and the current variables in memory are displayed."
   ]
  },
  {
   "cell_type": "markdown",
   "id": "80024d0924e547ccbe4ac3e837c7bd8a",
   "metadata": {
    "slideshow": {
     "slide_type": "skip"
    },
    "tags": [
     "translated_en"
    ],
    "translation": {
     "lang": "de",
     "src_hash": "7b82c109c5f0c4f27b6f5a47bc0ba3de37e1f00033b78bb7640c6eef2b4e68b6",
     "updated_at_iso": "2025-08-16T16:36:57.583641+00:00"
    }
   },
   "source": [
    "![Debugging in VS Code](images/06a_Exceptions/debug_vscode_3.png)"
   ]
  },
  {
   "cell_type": "markdown",
   "id": "2c6d34e4f56f4279a855f8b8fb116c19",
   "metadata": {
    "slideshow": {
     "slide_type": "skip"
    },
    "tags": [
     "translated_en"
    ],
    "translation": {
     "lang": "de",
     "src_hash": "dff59a320804ba2d061b358fbd828d49a0c05e7db2e80c59bebf4a54a2c0fc5c",
     "updated_at_iso": "2025-08-16T16:37:01.736758+00:00"
    }
   },
   "source": [
    "In the debugging environment, you can then step through the code line by line by pressing <img src=\"images/06a_Exceptions/debug_vscode_2.png\" style=\"height: 2ex\"> and thereby see how the program is executed and which variables change."
   ]
  },
  {
   "cell_type": "markdown",
   "id": "820965e4f0794e7383abd93d834d5201",
   "metadata": {
    "editable": true,
    "slideshow": {
     "slide_type": "skip"
    },
    "tags": [
     "remove-cell",
     "translated_en"
    ],
    "translation": {
     "lang": "de",
     "src_hash": "51f29867629114ab4693f1bc20409cf952161ee67c4099bb5d933a02d42fddbc",
     "updated_at_iso": "2025-08-16T16:37:03.782674+00:00"
    }
   },
   "source": [
    "### Debugging in repl.it"
   ]
  },
  {
   "cell_type": "markdown",
   "id": "0ec387d176974b7abbc9d646b2f7d08f",
   "metadata": {
    "editable": true,
    "slideshow": {
     "slide_type": "skip"
    },
    "tags": [
     "remove-cell",
     "translated_en"
    ],
    "translation": {
     "lang": "de",
     "src_hash": "6515cffaf08426a8559bbfabd8ccc9fd08f844440c8a7909d2dc191d387dffbe",
     "updated_at_iso": "2025-08-16T16:37:12.787367+00:00"
    }
   },
   "source": [
    "In Repl.it, the debugging interface looks similar. We set a breakpoint <span style=\"color: red\">⬤</span> by clicking on line 11 in the warning output."
   ]
  },
  {
   "cell_type": "markdown",
   "id": "c8f50167cb9340db9f57f9ef26aa4e52",
   "metadata": {
    "editable": true,
    "slideshow": {
     "slide_type": "skip"
    },
    "tags": [
     "remove-cell",
     "translated_en"
    ],
    "translation": {
     "lang": "de",
     "src_hash": "a75a28d6be667f76ec4258c6889f50d6d48b852c8bd082a923b18fda6f87fde9",
     "updated_at_iso": "2025-08-16T16:37:14.559999+00:00"
    }
   },
   "source": [
    "![](images/06a_Exceptions/debug_replit_1.png)"
   ]
  },
  {
   "cell_type": "markdown",
   "id": "0befbd9173ed43538fe0a9eb4d0f1d67",
   "metadata": {
    "slideshow": {
     "slide_type": "skip"
    },
    "tags": [
     "remove-cell",
     "translated_en"
    ],
    "translation": {
     "lang": "de",
     "src_hash": "83a03d131ecf2c7acecae2d761ca5644a9545057618586821e2bb5c7af703acd",
     "updated_at_iso": "2025-08-16T16:37:22.299245+00:00"
    }
   },
   "source": [
    "The debugging environment is started by <img src=\"images/06a_Exceptions/debug_replit_2.png\" height=\"2ex\">. It allows you to start execution, run individual lines, skip the step, or run up to the breakpoint (left to right)."
   ]
  },
  {
   "cell_type": "markdown",
   "id": "2b30430f8fae49a0a107771f963a2df1",
   "metadata": {
    "slideshow": {
     "slide_type": "skip"
    },
    "tags": [
     "remove-cell",
     "translated_en"
    ],
    "translation": {
     "lang": "de",
     "src_hash": "8a6d01c211e8ad342b9a11f2b154112625d9de5707cdf5e4e3314f71693bd083",
     "updated_at_iso": "2025-08-16T16:37:24.794012+00:00"
    }
   },
   "source": [
    "![](images/06a_Exceptions/debug_replit_3.png)"
   ]
  },
  {
   "cell_type": "markdown",
   "id": "240df8b98cc148bfb6ffb8423bf84353",
   "metadata": {
    "slideshow": {
     "slide_type": "skip"
    },
    "tags": [
     "remove-cell",
     "translated_en"
    ],
    "translation": {
     "lang": "de",
     "src_hash": "53020305ca61c54838f866b5b7859d002953d9301a64323d167af3876bb0a53a",
     "updated_at_iso": "2025-08-16T16:37:27.578568+00:00"
    }
   },
   "source": [
    "Here too, both the current variables and the stack are displayed."
   ]
  },
  {
   "cell_type": "markdown",
   "id": "4562e9d992414f13aa3800c5a93a1e4a",
   "metadata": {
    "editable": true,
    "slideshow": {
     "slide_type": "skip"
    },
    "tags": [
     "remove-cell",
     "translated_en"
    ],
    "translation": {
     "lang": "de",
     "src_hash": "00e3f9023a1376e72e7b82cc76d86befe81b6095b3e1ae73a0e2a1782ea346c6",
     "updated_at_iso": "2025-08-16T16:37:31.134032+00:00"
    }
   },
   "source": [
    "![](images/06a_Exceptions/debug_replit_4.png)"
   ]
  },
  {
   "cell_type": "markdown",
   "id": "4ab0775c11b047b59d03dac885dbdcd1",
   "metadata": {
    "editable": true,
    "slideshow": {
     "slide_type": "slide"
    },
    "tags": [
     "remove-cell",
     "translated_en"
    ],
    "translation": {
     "lang": "de",
     "src_hash": "d92b76d54b960647875ec0d7a2616140309023f5b0fba2f82314f54b3fe4b834",
     "updated_at_iso": "2025-08-16T16:37:45.016713+00:00"
    }
   },
   "source": [
    "## Why do we make mistakes?\n",
    "\n",
    "<div class=\"flex-row\">\n",
    "<div class=\"col1\">\n",
    "\n",
    "*Deliberate mistakes occur when:*\n",
    "\n",
    "- we consciously ignore facts and trust our gut instincts\n",
    "- when we run tests to test whether a program handles these errors\n",
    "- through targeted sabotage (insider threat in information security)\n",
    "\n",
    "</div>\n",
    "<div class=\"col1\">\n",
    "\n",
    "*Unintentional mistakes occur, among other things, due to:*\n",
    "\n",
    "- false assumptions, for example, because the requirements were not analyzed sufficiently or because not all error cases were considered\n",
    "- inattention (careless mistakes) due to fatigue, time pressure, or lack of interest\n",
    "- because we reach cognitive/physical limits (e.g., optical illusions)\n",
    "\n",
    "</div>\n",
    "</div>"
   ]
  },
  {
   "cell_type": "markdown",
   "id": "54b8b8730c8447afb2b160fabf04168a",
   "metadata": {
    "editable": true,
    "slideshow": {
     "slide_type": "subslide"
    },
    "tags": [
     "remove-cell",
     "translated_en"
    ],
    "translation": {
     "lang": "de",
     "src_hash": "6d63bed8fb3fd0ead3a841958a7281dd965d9b4092a75083392fd8db270bd155",
     "updated_at_iso": "2025-08-16T16:37:54.539388+00:00"
    }
   },
   "source": [
    "## Mistakes Are Human\n",
    "\n",
    "- *Computers are human-made*\n",
    "- The mental models of others have (often subtle) differences from our own, e.g. due to:\n",
    "  - Age\n",
    "  - Background\n",
    "  - Education\n",
    "  - Experience\n",
    "  - Culture\n",
    "- Most everyday mistakes happen at the *interface between us and the internal processes*: user interfaces, hardware, etc."
   ]
  },
  {
   "cell_type": "markdown",
   "id": "b5bfeadb30844f34a466b0f68f09713f",
   "metadata": {
    "editable": true,
    "slideshow": {
     "slide_type": "subslide"
    },
    "tags": [
     "remove-cell",
     "translated_en"
    ],
    "translation": {
     "lang": "de",
     "src_hash": "783068727321217fcde913ccfb7c8465c5de864122be87c05239f2b44a89b0bf",
     "updated_at_iso": "2025-08-16T16:37:59.549537+00:00"
    }
   },
   "source": [
    "## Lecture Hall Question\n",
    "\n",
    "<script>setSectionBackground('#FFD966');</script>\n",
    "<div class=\"flex-row\">\n",
    "  <div class=\"col4 vcent\">\n",
    "\n",
    "**What does this symbol mean?**\n",
    "\n",
    "  </div>\n",
    "  <div class=\"col6\"> \n",
    "    <figure class=\"mj-fig\">\n",
    "        <img src=\"images/06a_Exceptions/diskette.png\" class=\"mj-fig-img\">\n",
    "        <figcaption class=\"mj-fig-cap\">\n",
    "            icon-icons.com\n",
    "        </figcaption>\n",
    "    </figure>\n",
    "  </div>\n",
    "</div>"
   ]
  },
  {
   "cell_type": "markdown",
   "id": "17d24d32b0bc4e6c80c6ba27c8d8d2ef",
   "metadata": {
    "editable": true,
    "slideshow": {
     "slide_type": "subslide"
    },
    "tags": [
     "remove-cell",
     "translated_en"
    ],
    "translation": {
     "lang": "de",
     "src_hash": "d54f2e6c7c5454c23478f8ba5051fbd755e00e774a7ed5e5045f14fcdaf329e5",
     "updated_at_iso": "2025-08-16T16:38:05.977891+00:00"
    }
   },
   "source": [
    "## What does this symbol mean?\n",
    "\n",
    "- The floppy disk icon is commonly used to save.\n",
    "- It originally comes from the 1990s when data was still stored on floppy disks.\n",
    "- Nowadays many people don't have this context and can't intuitively interpret the symbol.\n",
    "- An example of different mental models across generations\n",
    "\n",
    "<div class=\"flex-row\">\n",
    "  <div class=\"col1\"> \n",
    "    <figure class=\"mj-fig\">\n",
    "        <img src=\"images/06a_Exceptions/diskette.png\" class=\"mj-fig-img\">\n",
    "        <figcaption class=\"mj-fig-cap\">\n",
    "            icon-icons.com\n",
    "        </figcaption>\n",
    "    </figure>\n",
    "  </div>\n",
    "  <div class=\"col1\"> \n",
    "    <figure class=\"mj-fig\">\n",
    "        <img src=\"images/06a_Exceptions/diskette2.jpg\" class=\"mj-fig-img\">\n",
    "        <figcaption class=\"mj-fig-cap\">\n",
    "            www.pxfuel.com\n",
    "        </figcaption>\n",
    "    </figure>\n",
    "  </div>\n",
    "</div>"
   ]
  },
  {
   "cell_type": "markdown",
   "id": "655f8d75e9664d809fa0293ca21a76ba",
   "metadata": {
    "editable": true,
    "slideshow": {
     "slide_type": "subslide"
    },
    "tags": [
     "remove-cell",
     "translated_en"
    ],
    "translation": {
     "lang": "de",
     "src_hash": "2e95f7f7aece9ca102c97171bdc20c19a46990ae2f55e0027be1ad0422ff84cc",
     "updated_at_iso": "2025-08-16T16:38:14.701434+00:00"
    }
   },
   "source": [
    "## When do computers make mistakes?\n",
    "\n",
    "- Computers very rarely make errors (e.g., bit flips due to cosmic rays, errors in floating-point calculations, integer overflows, errors in data transmission or storage)\n",
    "- Most of the time, however, it is the user or programmer who made the errors possible (wrong data types, poor exception or error handling)\n",
    "- The real question is: Are there errors in the system beyond our own program code?"
   ]
  },
  {
   "cell_type": "markdown",
   "id": "f814eaf7e04345b5810f0d823d3da00c",
   "metadata": {
    "editable": true,
    "slideshow": {
     "slide_type": "slide"
    },
    "tags": [
     "remove-cell",
     "translated_en"
    ],
    "translation": {
     "lang": "de",
     "src_hash": "3917fc6045650f023787da4f2ead979e0605efb1d06758e7aa3c9d2521ff0d48",
     "updated_at_iso": "2025-08-16T16:38:24.135836+00:00"
    }
   },
   "source": [
    "## How to prevent errors?\n",
    "\n",
    "- *Using an Integrated Development Environment (IDE)*\n",
    "  - Automatic detection of syntax errors\n",
    "  - Code completion\n",
    "  - Code generation (e.g., from diagrams)\n",
    "- *Comprehensive planning of the software, including requirements analysis, software design, test design, etc.*\n",
    "- *TESTING, TESTING, TESTING* using specific test cases (unit tests)!\n",
    "  - Not just pure functional testing (does it do what it’s supposed to?)"
   ]
  },
  {
   "cell_type": "markdown",
   "id": "84733cc8f4a5477ca6d0bdd865c9c20c",
   "metadata": {
    "editable": true,
    "slideshow": {
     "slide_type": "subslide"
    },
    "tags": [
     "remove-cell",
     "translated_en"
    ],
    "translation": {
     "lang": "de",
     "src_hash": "38293922bccca5251d00782b4334d5681994df6921a69dfb5a921bb7ffbf2b49",
     "updated_at_iso": "2025-08-16T16:38:41.109201+00:00"
    }
   },
   "source": [
    "## Types of Errors\n",
    "\n",
    "<div class=\"flex-row\">\n",
    "<div class=\"col3\">\n",
    "\n",
    "*Along the Knowledge Pyramid:*\n",
    "- *Lexical* – Code contains invalid characters or strings\n",
    "- *Syntactic* – Code combines lexically valid tokens in an invalid way\n",
    "- *Semantic* – Code is semantically valid, but does not produce any results/crashes\n",
    "- *Logical* – Code is semantically valid, but does not solve the given problem\n",
    "\n",
    "</div>\n",
    "<div class=\"col2\">\n",
    "\n",
    "![Knowledge Pyramid](images/wissenspyramide.svg)\n",
    "\n",
    "</div>\n",
    "</div>"
   ]
  },
  {
   "cell_type": "markdown",
   "id": "f16bf94817064f348602d274c4a75c73",
   "metadata": {
    "editable": true,
    "slideshow": {
     "slide_type": "subslide"
    },
    "tags": [
     "remove-cell",
     "translated_en"
    ],
    "translation": {
     "lang": "de",
     "src_hash": "f84343963ce04d32260c23ed07af801ea85c32736da03a9016eb669faded1343",
     "updated_at_iso": "2025-08-16T16:38:53.336059+00:00"
    }
   },
   "source": [
    "## Other classifications of errors\n",
    "\n",
    "<div class=\"flex-row\">\n",
    "<div class=\"col1\">\n",
    "\n",
    "*By frequency and reproducibility:*\n",
    "\n",
    "- *Deterministic errors* - occur every time and can be reproduced\n",
    "- *Sporadic errors* - occur only rarely and under special conditions. They are difficult to reproduce\n",
    "\n",
    "</div>\n",
    "<div class=\"col1\">\n",
    "\n",
    "*By occurrence:*\n",
    "\n",
    "- *Static errors* - Directly observable in the code as written\n",
    "- *Dynamic errors* - Only occur during program execution\n",
    "\n",
    "</div>\n",
    "</div>"
   ]
  },
  {
   "cell_type": "markdown",
   "id": "4a5d947eeecf422a85f7042fb3afb092",
   "metadata": {
    "editable": true,
    "slideshow": {
     "slide_type": "subslide"
    },
    "tags": [
     "remove-cell",
     "translated_en"
    ],
    "translation": {
     "lang": "de",
     "src_hash": "41cb32a4b59b8bcb013c38929fc2e713c5fbbd46fdbad305d97c2071740b1a76",
     "updated_at_iso": "2025-08-16T16:39:06.686728+00:00"
    }
   },
   "source": [
    "## Lexical & Syntactic Errors\n",
    "\n",
    "- Are in most cases *static* and *deterministic*\n",
    "- Produce an error message *every time*\n",
    "  - Even in the IDE, during compilation or after execution\n",
    "- *These error messages can, however, be misleading!*"
   ]
  },
  {
   "cell_type": "markdown",
   "id": "9e8b793ea9114445a6511d8eb123cbc1",
   "metadata": {
    "editable": true,
    "slideshow": {
     "slide_type": "subslide"
    },
    "tags": [
     "remove-cell",
     "translated_en"
    ],
    "translation": {
     "lang": "de",
     "src_hash": "aa4677f8f7e6c57e3a3119aa4df0add645fccdbc860680b37d3fe07af2b79133",
     "updated_at_iso": "2025-08-16T16:39:20.082386+00:00"
    }
   },
   "source": [
    "## Lexical & Syntactic Errors - Examples\n",
    "\n",
    "- A *keyword* is misspelled\n",
    "- *Unclosed* quotation marks or parentheses\n",
    "- Forgetting a *colon* after a condition or function\n",
    "- *Incorrect indentation* after a condition, loop, or function\n",
    "- If applicable, also incorrect indentation due to *tabs vs. spaces*"
   ]
  },
  {
   "cell_type": "markdown",
   "id": "d2c7e7fac9904260a00b05d956e0710a",
   "metadata": {
    "editable": true,
    "slideshow": {
     "slide_type": "subslide"
    },
    "tags": [
     "remove-cell",
     "translated_en"
    ],
    "translation": {
     "lang": "de",
     "src_hash": "caf1756e6e559ead8f37f0737a594f8b1096c6161eeec67e6f3f102ca45bbd93",
     "updated_at_iso": "2025-08-16T16:39:26.558547+00:00"
    }
   },
   "source": [
    "## Lexical & Syntactic Errors - Handling\n",
    "\n",
    "- *First look:* In which line did the error occur?\n",
    "- Does the *text of the error message* give a hint?\n",
    "- Is the error in the line, or is the error only a *symptom* and the real error lies in the previous line?\n",
    "- Normally *easy to fix* and go through the code line by line backwards from the error line\n",
    "- If not: *Refactoring* - restructure the code for better readability without changing its behavior"
   ]
  },
  {
   "cell_type": "markdown",
   "id": "045c31c7b158425282dcdbce6ca82a0f",
   "metadata": {
    "editable": true,
    "slideshow": {
     "slide_type": "subslide"
    },
    "tags": [
     "remove-cell",
     "translated_en"
    ],
    "translation": {
     "lang": "de",
     "src_hash": "6b1610b2e1e4f2b13e2c33701c77f6c2d437f0d0e4f39d07c7440a8c3bb11834",
     "updated_at_iso": "2025-08-16T16:39:35.641094+00:00"
    }
   },
   "source": [
    "## Semantic Errors - Fundamentals\n",
    "\n",
    "- Arise from the *faulty application* of syntactically correct program structures to a specific problem\n",
    "- Semantic errors can be *recognizable* or *unrecognizable*. They are always deterministic, but can occur statically or dynamically\n",
    "- *Recognizable errors* are errors of which one knows that they can occur (e.g., division by zero, no Internet connection, etc.)\n",
    "  - They should *always* be caught and handled\n",
    "- *Unrecognized errors* are unknown during the creation of the program. Significantly harder to catch"
   ]
  },
  {
   "cell_type": "markdown",
   "id": "bffaa4d07b8143708d3255273ecec53d",
   "metadata": {
    "editable": true,
    "slideshow": {
     "slide_type": "subslide"
    },
    "tags": [
     "remove-cell",
     "translated_en"
    ],
    "translation": {
     "lang": "de",
     "src_hash": "abea63432a1dacd55f3bac3b461caefa0e7f28b632cd938509326bf5fcad8c54",
     "updated_at_iso": "2025-08-16T16:39:45.358361+00:00"
    }
   },
   "source": [
    "## Semantic Errors - Examples\n",
    "\n",
    "- An *variable is invoked as a function*  \n",
    "  *(static, deterministic)*\n",
    "- An *operator is used with a value of the wrong type*  \n",
    "  *(static or dynamic, deterministic)*\n",
    "- An *value of the wrong type* is passed to a function  \n",
    "  *(static or dynamic, deterministic)*\n",
    "- A *division by zero* occurs  \n",
    "  *(dynamic, deterministic)*"
   ]
  },
  {
   "cell_type": "markdown",
   "id": "61b1aae684054abf9eae041a50cddbbc",
   "metadata": {
    "editable": true,
    "slideshow": {
     "slide_type": "subslide"
    },
    "tags": [
     "remove-cell",
     "translated_en"
    ],
    "translation": {
     "lang": "de",
     "src_hash": "ca6336744eb0b9e6b3ba03031d167c31b189e09cf2f0858a1db01a72a85ac39f",
     "updated_at_iso": "2025-08-16T16:39:56.944955+00:00"
    }
   },
   "source": [
    "## Semantic Errors - Handling\n",
    "\n",
    "*First step: Understanding the error message*\n",
    "\n",
    "- *Ideal case:* Indicates the exact problem\n",
    "- *Usually:* Provides clues about a problem\n",
    "  - Location\n",
    "  - Type of problem\n",
    "  - The affected variable/operation\n",
    "- *Often:* The error message is only a symptom of the underlying problem"
   ]
  },
  {
   "cell_type": "markdown",
   "id": "f68d29ebd773430f8bab2ac4f5a09a6f",
   "metadata": {
    "editable": true,
    "slideshow": {
     "slide_type": "subslide"
    },
    "tags": [
     "remove-cell",
     "translated_en"
    ],
    "translation": {
     "lang": "de",
     "src_hash": "3d2ffc7380a21c1a94f1ac2552f719fc95b3556acc7388d3607a3d537fd8358c",
     "updated_at_iso": "2025-08-16T16:40:05.855022+00:00"
    }
   },
   "source": [
    "## Semantic Errors - Handling (2)\n",
    "\n",
    "*If the error message does not provide enough information:*\n",
    "\n",
    "- *Log the program flow* to understand it better:\n",
    "  - Add more output (e.g., via the `print()` function)\n",
    "  - Check variable states or verify whether certain lines are reached\n",
    "\n",
    "- *Use debugging tools*:\n",
    "  - Pause the program flow at certain points (*Breakpoints*)\n",
    "  - Step through the program flow\n",
    "  - *Watch variables* at that moment"
   ]
  },
  {
   "cell_type": "markdown",
   "id": "4e0d0703ef3e42a387383d3cb415821b",
   "metadata": {
    "editable": true,
    "slideshow": {
     "slide_type": "subslide"
    },
    "tags": [
     "remove-cell",
     "translated_en"
    ],
    "translation": {
     "lang": "de",
     "src_hash": "6f21bfd95b7392a0c6a76821f50bce84a92ad9e9437f18f71325e1a663ee4bff",
     "updated_at_iso": "2025-08-16T16:40:16.970495+00:00"
    }
   },
   "source": [
    "## Logical Errors – Fundamentals\n",
    "\n",
    "*Arise from:*\n",
    "- Errors in the *program logic*\n",
    "- A *faulty mental model*\n",
    "- A fundamental *design flaw*\n",
    "- *Careless mistakes* in translating from design to implementation\n",
    "\n",
    "*Characteristics:*\n",
    "- They *rarely produce exceptions* but rather incorrect behavior/results\n",
    "- They often go *undetected* and only manifest dynamically at runtime\n",
    "- They can be *deterministic* or *sporadic*"
   ]
  },
  {
   "cell_type": "markdown",
   "id": "732952ca062048feb2d9bd825a699bfe",
   "metadata": {
    "editable": true,
    "slideshow": {
     "slide_type": "subslide"
    },
    "tags": [
     "remove-cell",
     "translated_en"
    ],
    "translation": {
     "lang": "de",
     "src_hash": "c8a3a4f4a53d57f5ba4f9daf00e0d7c1336dde0d4521c7ed2024adb13f728414",
     "updated_at_iso": "2025-08-16T16:40:30.586036+00:00"
    }
   },
   "source": [
    "## Logical Errors - Examples\n",
    "\n",
    "<div class=\"flex-row\">\n",
    "<div class=\"col1\">\n",
    "\n",
    "*Deterministische Fehler:*\n",
    "\n",
    "- Using the *wrong factor* in a unit conversion\n",
    "- Using the *wrong type of loop* or incorrect nesting\n",
    "- Using the *wrong time zone* when writing sensor data\n",
    "\n",
    "</div>\n",
    "<div class=\"col1\">\n",
    "\n",
    "*Sporadische Fehler:*\n",
    "\n",
    "- Issues with *Daylight Saving Time conversions* for sensor data\n",
    "- The condition in a loop has cases in which it is *always true* and thus becomes endless\n",
    "\n",
    "</div>\n",
    "</div>"
   ]
  },
  {
   "cell_type": "markdown",
   "id": "bb5c0662cdd34bd0b8d0c06207911990",
   "metadata": {
    "editable": true,
    "slideshow": {
     "slide_type": "subslide"
    },
    "tags": [
     "remove-cell",
     "translated_en"
    ],
    "translation": {
     "lang": "de",
     "src_hash": "2e09a7dded19245451c25639266b628eb7a341a4a3ff08f6676ad97daf663989",
     "updated_at_iso": "2025-08-16T16:40:49.402434+00:00"
    }
   },
   "source": [
    "## Handling of Logical Errors\n",
    "\n",
    "<div class=\"flex-row\">\n",
    "<div class=\"col1\">\n",
    "\n",
    "*Deterministische Fehler:*\n",
    "\n",
    "- *Create test cases* to reproduce when and how unexpected behavior occurs\n",
    "- *Use the debugger* to trace the execution and isolate the root cause of the error\n",
    "- Track values *systematically* and verify correctness step by step\n",
    "\n",
    "</div>\n",
    "<div class=\"col1\">\n",
    "\n",
    "*Sporadische Fehler:*\n",
    "\n",
    "- Identify the error state via *Logging* (`print()`) so that it becomes reproducible\n",
    "- *Conditional breakpoints* in debugging (the program only stops when an error condition is present)\n",
    "\n",
    "</div>\n",
    "</div>"
   ]
  },
  {
   "cell_type": "markdown",
   "id": "5957aad83f9b460aa8fe248078a1f88c",
   "metadata": {
    "editable": true,
    "slideshow": {
     "slide_type": "slide"
    },
    "tags": [
     "remove-cell",
     "translated_en"
    ],
    "translation": {
     "lang": "de",
     "src_hash": "b49c3ca45d17de5785ace13bc5c86f0d575d22a6bef226f0a90e747ebfdbc97c",
     "updated_at_iso": "2025-08-16T16:41:05.074557+00:00"
    }
   },
   "source": [
    "## Note: Warnings in the IDE or from the compiler\n",
    "\n",
    "- Warnings point to code that *appears syntactically and semantically correct*, but will probably not fulfill its purpose\n",
    "- They are based, for example, on *empirical evidence*\n",
    "- They can help *detect semantic and logical errors early*"
   ]
  },
  {
   "cell_type": "markdown",
   "id": "0d543a73525c43f3b45181534c3adbe3",
   "metadata": {
    "slideshow": {
     "slide_type": "slide"
    },
    "tags": [
     "remove-cell",
     "translated_en"
    ],
    "translation": {
     "lang": "de",
     "src_hash": "f38ec48174f8e5bcf534012c0c4bf6b771c5e3c502989cf9d19b4d82ef107574",
     "updated_at_iso": "2025-08-16T16:41:09.537266+00:00"
    }
   },
   "source": [
    "## Lesson Learned\n",
    "\n",
    "<script>setSectionBackground('#66ccffff');</script>\n",
    "<div class=\"flex-row\">\n",
    "<div class=\"col2\">\n",
    "\n",
    "What is feedback good for?\n",
    "\n",
    "</div>\n",
    "<div class=\"col3\">\n",
    "    <figure class=\"mj-fig\">\n",
    "        <img src=\"images/06a_Exceptions/dorian.jpg\" class=\"mj-fig-img\">\n",
    "        <figcaption class=\"mj-fig-cap\">\n",
    "            Midjourney: Dorian Gray looking at his picture seeing an old monster\n",
    "        </figcaption>\n",
    "    </figure>\n",
    "  </div>\n",
    "</div>"
   ]
  },
  {
   "cell_type": "markdown",
   "id": "02030b4b43844db9b0131f448f4b30d6",
   "metadata": {
    "editable": true,
    "slideshow": {
     "slide_type": "subslide"
    },
    "tags": [
     "remove-cell",
     "translated_en"
    ],
    "translation": {
     "lang": "de",
     "src_hash": "16dd308531620adcd6e58bbfe3c47500a98f1a939243ed0bf89b4939a41c5fd5",
     "updated_at_iso": "2025-08-16T16:41:19.829579+00:00"
    }
   },
   "source": [
    "## Lesson Learned - Self and Others' Perception\n",
    "\n",
    "<script>setSectionBackground('#66ccffff');</script>\n",
    "\n",
    "<div class=\"flex-row\">\n",
    "  <div class=\"col1\">\n",
    "\n",
    "- Our self-image never quite matches the image others have of us, because we bring our experiences and thoughts into it\n",
    "- The image others have of us is formed solely through observation and descriptions of us\n",
    "- Feedback is crucial for aligning self-image and the image others have of us\n",
    "\n",
    "  </div>\n",
    "  <div class=\"col1\">\n",
    "    <figure class=\"mj-fig\">\n",
    "        <img src=\"images/06a_Exceptions/feedback.png\" class=\"mj-fig-img\">\n",
    "    </figure>\n",
    "  </div>\n",
    "</div>"
   ]
  },
  {
   "cell_type": "markdown",
   "id": "82640b3a9841426ea06d3695b58ab1f4",
   "metadata": {
    "editable": true,
    "slideshow": {
     "slide_type": "skip"
    },
    "tags": [
     "translated_en"
    ],
    "translation": {
     "lang": "de",
     "src_hash": "e166eb892391d046bffa5a0c406d5bcfe1fd115862ec55989a6ebad0d8b85cec",
     "updated_at_iso": "2025-08-16T16:42:04.880163+00:00"
    }
   },
   "source": [
    "## Quiz\n",
    "\n",
    "\n",
    "```{quizdown}\n",
    "    ---\n",
    "    shuffleQuestions: true\n",
    "    shuffleAnswers: true\n",
    "    ---\n",
    "\n",
    "    ### What is an exception in Python?\n",
    "    - [x] An exception that interrupts the normal flow of the program\n",
    "    - [ ] A special case in loops\n",
    "    - [ ] A warning that can be ignored\n",
    "    - [ ] A global variable\n",
    "\n",
    "    ### Why are `try-except` blocks used?\n",
    "    - [x] To respond to errors in a controlled manner\n",
    "    - [x] To prevent the program from crashing\n",
    "    - [ ] To initialize variables\n",
    "    - [ ] To automatically repeat functions\n",
    "\n",
    "    ### What happens when an exception occurs in the `try` block?\n",
    "    - [x] The code in the `except` block is executed\n",
    "    - [ ] The `try` block is ignored\n",
    "    - [ ] The program ends automatically\n",
    "    - [ ] The error is always ignored\n",
    "\n",
    "    ### Sort the following lines to form a complete `try-except` block correctly:\n",
    "    ```python\n",
    "    # Annahme: fehlerhafte Division\n",
    "    ```\n",
    "    1. `try:`\n",
    "    2. `  ergebnis = 10 / 0`\n",
    "    3. `  print(\"Ergebnis:\", ergebnis)`\n",
    "    4. `except:`\n",
    "    5. `  print(\"Fehler bei der Division\")`\n",
    "\n",
    "    ### Which error is demonstrated in this example?\n",
    "    ```python\n",
    "    x = 10\n",
    "    y = 0\n",
    "    z = x / y\n",
    "    print(\"Ergebnis:\", z)\n",
    "    ```\n",
    "    - [x] Division by zero leads to a `ZeroDivisionError` exception\n",
    "    - [ ] `print` may not be used inside try blocks\n",
    "    - [ ] `x` must not be 10\n",
    "    - [ ] `y` must be declared as a string\n",
    "\n",
    "    ### What is the advantage of using `Exception as e`?\n",
    "    - [x] You can explicitly print the type and error message of the exception\n",
    "    - [ ] This automatically solves the exception\n",
    "    - [ ] The code becomes shorter\n",
    "    - [ ] `as` is mandatory in every error handling\n",
    "\n",
    "    ### Why should known exception types (like `TypeError`) be caught explicitly?\n",
    "    - [x] To handle different errors specifically\n",
    "    - [ ] Because Python wouldn't work otherwise\n",
    "    - [ ] To make the output nicer\n",
    "    - [ ] This is only necessary for `int` values\n",
    "\n",
    "    ### Sort the following lines to correctly build a typed error handling for divisions:\n",
    "    ```python\n",
    "    # Example with division by 0 and wrong type\n",
    "    ```\n",
    "    1. `try:`\n",
    "    2. `  ergebnis = \"zehn\" / 0`\n",
    "    3. `except TypeError:`\n",
    "    4. `  print(\"Falscher Datentyp\")`\n",
    "    5. `except ZeroDivisionError:`\n",
    "    6. `  print(\"Division durch 0\")`\n",
    "\n",
    "    ### When is the `else` block executed in `try-except-else`?\n",
    "    - [x] Only when no exception occurs in the `try` block\n",
    "    - [ ] If any error occurs\n",
    "    - [ ] Always after the `except`\n",
    "    - [ ] If `print()` is used in the `try`\n",
    "\n",
    "    ### What does a `finally` block do in Python?\n",
    "    - [x] The code in the `finally` is executed **always** – regardless of error or not\n",
    "    - [ ] The code is skipped on errors\n",
    "    - [ ] Only used with networking\n",
    "    - [ ] Used to initialize variables\n",
    "\n",
    "    ### When should you raise your own exceptions with `raise`?\n",
    "    - [x] If you want to clearly mark errors and propagate them\n",
    "    - [ ] If you want to break out of a loop\n",
    "    - [ ] Only for syntax errors\n",
    "    - [ ] Only for debugging purposes\n",
    "\n",
    "    ### Why is it sensible to use specific error types like `ValueError`?\n",
    "    - [x] So errors can be handled and differentiated more precisely\n",
    "    - [ ] So `try` blocks become shorter\n",
    "    - [ ] So the program runs faster\n",
    "    - [ ] Because `Exception` is not allowed in Python\n",
    "\n",
    "    ### Which error is demonstrated in this example?\n",
    "    ```python\n",
    "    if not isinstance(x, int):\n",
    "        raise \"Fehler\"\n",
    "    ```\n",
    "    - [x] `raise` expects an exception object, not a string\n",
    "    - [ ] `raise` is not a valid Python keyword\n",
    "    - [ ] Strings may not be compared with `if`\n",
    "    - [ ] `int` is not a valid type\n",
    "\n",
    "    ### Sort the following lines to define a safe division function with error handling:\n",
    "    ```python\n",
    "    # Example with division by 0 and type checking\n",
    "    ```\n",
    "    1. `def division(zaehler, nenner):`\n",
    "    2. `  if not isinstance(zaehler, (int, float)):` \n",
    "    3. `    raise ValueError(\"Zaehler ist ungültig\")`\n",
    "    4. `  if nenner == 0:`\n",
    "    5. `    return None`\n",
    "    6. `  return zaehler / nenner`\n",
    "\n",
    "    ### How do exceptions behave in a function call stack?\n",
    "    - [x] They bubble up until they are handled or crash the program\n",
    "    - [ ] They disappear after the first function call\n",
    "    - [ ] They only cause an error in the current function\n",
    "    - [ ] They are automatically ignored\n",
    "\n",
    "    ### What does the following line do in a recursive function?\n",
    "    ```python\n",
    "    raise RecursionError(\"Recursion too deep\")\n",
    "    ```\n",
    "    - [x] It deliberately raises an error when recursion depth is too deep\n",
    "    - [ ] It prevents an exception\n",
    "    - [ ] It ends the recursion successfully\n",
    "    - [ ] It converts the return value into an exception\n",
    "\n",
    "    ### What is the stack?\n",
    "    - [x] A data structure that stores function calls\n",
    "    - [ ] A list of all variables in the program\n",
    "    - [ ] A special data type for loops\n",
    "    - [ ] A type of exception\n",
    "\n",
    "    ### What is the heap?\n",
    "    - [x] A memory area for dynamically created objects\n",
    "    - [ ] A special kind of loop\n",
    "    - [ ] A data type for numbers\n",
    "    - [ ] A region for global variables\n",
    "\n",
    "    ### What is the difference between Stack and Heap?\n",
    "    - [x] Stack stores function calls, Heap stores dynamically created objects\n",
    "    - [ ] Stack is faster, Heap slower\n",
    "    - [ ] Stack is for loops, Heap for conditions\n",
    "    - [ ] Stack is for global variables, Heap for local\n",
    "```"
   ]
  },
  {
   "cell_type": "markdown",
   "id": "7a788a10adb44aaea6ba61497cebefdf",
   "metadata": {
    "editable": true,
    "slideshow": {
     "slide_type": "slide"
    },
    "tags": [
     "remove-cell",
     "translated_en"
    ],
    "translation": {
     "lang": "de",
     "src_hash": "d2b7467259ef9f52d61ecf9953374631953b152baba6f1edeaac46d4c3d40a0b",
     "updated_at_iso": "2025-08-16T16:42:08.480040+00:00"
    }
   },
   "source": [
    "<div class=\"vslide\">\n",
    "  <div class=\"vslide-title\">\n",
    "    <p style=\"font-family: Protomolecule; font-size: 2.3em; margin: 0px auto; text-align: center; width: 100%;\">Questions?</p>\n",
    "  </div>\n",
    "  <script>setSectionBackground('#000000', 'images/mj_questions.mp4');</script>\n",
    "</div>"
   ]
  }
 ],
 "metadata": {
  "kernelspec": {
   "display_name": "Python 3 (ipykernel)",
   "language": "python",
   "name": "python3"
  },
  "language_info": {
   "codemirror_mode": {
    "name": "ipython",
    "version": 3
   },
   "file_extension": ".py",
   "mimetype": "text/x-python",
   "name": "python",
   "nbconvert_exporter": "python",
   "pygments_lexer": "ipython3",
   "version": "3.11.6"
  },
  "rise": {
   "auto_select": "none",
   "center": false,
   "enable_chalkboard": true,
   "header": "<img src=\"images/pd_logo.svg\" class=\"header_title_logo\"><img src=\"images/ai4sc_logo_v2.svg\" class=\"header_ai4sc_logo\">",
   "scroll": true,
   "show_buttons_on_startup": false,
   "slideNumber": true,
   "theme": "white"
  },
  "vscode": {
   "interpreter": {
    "hash": "6d5b4c1aed727cf1aeefa5ce625efdd40a732dd8ec11ef525b58c5aca2b06a32"
   }
  }
 },
 "nbformat": 4,
 "nbformat_minor": 4
}
