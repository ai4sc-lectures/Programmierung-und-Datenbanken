{
 "cells": [
  {
   "cell_type": "markdown",
   "id": "56fb113c3fdf44eb85768b01596bc8ca",
   "metadata": {
    "editable": true,
    "slideshow": {
     "slide_type": "slide"
    },
    "tags": [
     "remove-cell",
     "translated_en"
    ],
    "translation": {
     "lang": "de",
     "src_hash": "d5002e04f565b89f328c5ea6079a90882d268a590b6b0c14643aad4367546203",
     "updated_at_iso": "2025-08-16T16:57:59.805147+00:00"
    }
   },
   "source": [
    "<div class=\"vslide\">\n",
    "  <div class=\"vslide-title\">\n",
    "    <p style=\"font-family: Protomolecule; font-size: 2.3em; line-height: 90%; margin: 0px auto; text-align: center; width: 100%;\"><span style=\"letter-spacing: .04rem;\">Programming</span><br><span style=\"letter-spacing: .0rem;\">and Databases</span></p>\n",
    "<p class=\"author\" style=\"font-family: Protomolecule; margin: 0px auto;  text-align: center; width: 100%; font-size: 1.2em;\">Joern Ploennigs</p>\n",
    "<p class=\"subtitle\" style=\"font-family: Protomolecule; margin: 1em auto; text-align: center; width: 100%; font-size: 1.2em;\">Debugging</p>\n",
    "<figcaption>Midjourney: Waves testing a boat, ref. Hokusai</figcaption>\n",
    "  </div>\n",
    "<script>\n",
    "  function setSectionBackground(c,v){\n",
    "    let e=document.currentScript.previousElementSibling;\n",
    "    while(e&&e.tagName!=='SECTION')e=e.parentElement;\n",
    "    if(e){\n",
    "      if(c)e.setAttribute('data-background-color',c);\n",
    "      if(v){\n",
    "        e.setAttribute('data-background-video',v);\n",
    "        e.setAttribute('data-background-video-loop','true');\n",
    "        e.setAttribute('data-background-video-muted','true');\n",
    "      }\n",
    "    }\n",
    "  }\n",
    "  setSectionBackground('#000000', 'images/06c_Debugging/mj_title.mp4');\n",
    "</script>\n",
    "<style>\n",
    ".flex-row{display:flex; gap:2rem; align-items:flex-start; justify-content:space-between;}\n",
    ".flex-row .col1{flex:1; min-width:10px}\n",
    ".flex-row .col2{flex:2; min-width:10px}\n",
    ".flex-row .col3{flex:3; min-width:10px}\n",
    ".flex-row .col4{flex:4; min-width:10px}\n",
    ".flex-row .col5{flex:5; min-width:10px}\n",
    ".flex-row .col6{flex:6; min-width:10px}\n",
    ".flex-row .col7{flex:7; min-width:10px}\n",
    ".vcent{display:flex; align-items:center; justify-content:center}\n",
    "</style>\n",
    "</div>"
   ]
  },
  {
   "cell_type": "markdown",
   "id": "40465c6a89ca4ffd86ec0b60d6059c3c",
   "metadata": {
    "slideshow": {
     "slide_type": "skip"
    },
    "tags": [
     "translated_en"
    ],
    "translation": {
     "lang": "de",
     "src_hash": "301d13fbc59cc58a5b09e34a50f95a90cc3edf462279126511460b0e87dab5ac",
     "updated_at_iso": "2025-08-16T16:58:02.634850+00:00"
    }
   },
   "source": [
    "# Debugging"
   ]
  },
  {
   "cell_type": "markdown",
   "id": "062e94169f264d6a9ca4b2313134641a",
   "metadata": {
    "slideshow": {
     "slide_type": "skip"
    },
    "tags": [
     "translated_en"
    ],
    "translation": {
     "lang": "de",
     "src_hash": "0cb5e96986f51f39f8c8a1bd4e25e98ab903433940ed206b7f8c8e71e269319b",
     "updated_at_iso": "2025-08-16T16:58:05.051094+00:00"
    }
   },
   "source": [
    "![](images/06c_Debugging/mj_title_band.jpg)\n",
    "\n",
    "> Everyone knows that debugging is twice as hard as writing a program in the first place.\n",
    ">\n",
    "> — Brian Kernighan"
   ]
  },
  {
   "cell_type": "markdown",
   "id": "25cbeb92fa824a7fbe681c86e3595f84",
   "metadata": {
    "slideshow": {
     "slide_type": "skip"
    },
    "tags": [
     "translated_en"
    ],
    "translation": {
     "lang": "de",
     "src_hash": "b0876a89d7a7ffa0beb48ddab60e85f6f532571e5f0cd83d03763e7a0b5ba87c",
     "updated_at_iso": "2025-08-16T16:58:10.252968+00:00"
    }
   },
   "source": [
    "## <a href=\"/lec_slides/06c_Debugging.slides.html\">Slides</a>/<a href=\"/pdf/slides/06c_Debugging.pdf\">PDF</a>\n",
    "<iframe src=\"/lec_slides/06c_Debugging.slides.html\" width=\"750\" height=\"500\"></iframe>"
   ]
  },
  {
   "cell_type": "markdown",
   "id": "262522ff008f4e2dbe2dd8256b733744",
   "metadata": {
    "slideshow": {
     "slide_type": "slide"
    },
    "tags": [
     "remove-cell",
     "translated_en"
    ],
    "translation": {
     "lang": "de",
     "src_hash": "1d0c33e5a4df96f1cffb5f04c147ce2dd746b3569804e70ee2d814f533ad4eb2",
     "updated_at_iso": "2025-08-16T16:58:12.809770+00:00"
    }
   },
   "source": [
    "## Process\n",
    "\n",
    "![](images/partA_7.svg)"
   ]
  },
  {
   "cell_type": "markdown",
   "id": "4fee437b8d7f4f13844c20e592520a7c",
   "metadata": {
    "editable": true,
    "slideshow": {
     "slide_type": "skip"
    },
    "tags": [
     "translated_en"
    ],
    "translation": {
     "lang": "de",
     "src_hash": "81accae85008b5008d7de641198619006c989c8dc3455795bc22724236c7b820",
     "updated_at_iso": "2025-08-16T16:58:14.654085+00:00"
    }
   },
   "source": [
    "## Debugging with `print()`"
   ]
  },
  {
   "cell_type": "markdown",
   "id": "940eb3ac3c044c658d5abeb7e9fc9034",
   "metadata": {
    "slideshow": {
     "slide_type": "skip"
    },
    "tags": [
     "translated_en"
    ],
    "translation": {
     "lang": "de",
     "src_hash": "2ee9d69cb575367a2c09065e72520923e0d8e492aee23c0f475c0ea7a8b4a4b8",
     "updated_at_iso": "2025-08-16T16:58:22.140358+00:00"
    }
   },
   "source": [
    "Logical errors often only surface dynamically and cannot be found by static code analysis using lint tools. Here you have to trace the actual program flow. This is called debugging. The simplest form is print debugging, where you flood the code with `print()` statements.\n",
    "\n",
    "We'll extend our division function with plenty of `print()` statements. For example, it's common to print the input parameters, print errors and warnings, and also log the results."
   ]
  },
  {
   "cell_type": "code",
   "execution_count": null,
   "id": "6a25834ab620463e9835c9741b82e58c",
   "metadata": {
    "slideshow": {
     "slide_type": "skip"
    },
    "tags": [
     "translated_en"
    ],
    "translation": {
     "lang": "de",
     "src_hash": "df0c6310724fb21e55b7ba9f331c5f391f7d3d334a7aac3f53e622a0af9d69f6",
     "updated_at_iso": "2025-08-16T16:58:36.774978+00:00"
    }
   },
   "outputs": [],
   "source": [
    "def division(numerator, denominator):\n",
    "    print(f\"Debug: Eingabe Zaehler: {numerator}\")\n",
    "    print(f\"Debug: Eingabe Nenner: {denominator}\")\n",
    "    if not isinstance(denominator, (int, float)):\n",
    "        print(f\"Error: Nenner nicht vom Datentyp `int` oder `float`, sondern vom Typ {type(denominator)}\")\n",
    "        raise ValueError(f\"Nenner nicht vom Datentyp `int` oder `float`, sondern vom Typ {type(denominator)}\")\n",
    "    elif not isinstance(numerator, (int, float)):\n",
    "        print(f\"Error: Zaehler nicht vom Datentyp `int` oder `float`, sondern vom Typ {type(numerator)}\")\n",
    "        raise ValueError(f\"Zaehler nicht vom Datentyp `int` oder `float`, sondern vom Typ {type(numerator)}\")\n",
    "    elif not denominator:\n",
    "        print(\"Warning: Division durch 0\")\n",
    "        return None\n",
    "    else:\n",
    "        result = numerator / denominator\n",
    "        print(f\"Info: Das Ergebnis von {numerator}/{denominator} = {result}\")\n",
    "        return result"
   ]
  },
  {
   "cell_type": "markdown",
   "id": "f93f7d8e834c4f3aa6ae64126d06def5",
   "metadata": {
    "slideshow": {
     "slide_type": "skip"
    },
    "tags": [
     "translated_en"
    ],
    "translation": {
     "lang": "de",
     "src_hash": "54ab1068ec39e190edc8384dd548fd985862c1af3c02b1261c657b9547594657",
     "updated_at_iso": "2025-08-16T16:58:39.486101+00:00"
    }
   },
   "source": [
    "Now we can clearly understand exactly what happened, especially in the event of an error. For example, in the case of division by zero."
   ]
  },
  {
   "cell_type": "code",
   "execution_count": null,
   "id": "8c85f15a288744e9bf3f70bbd347badf",
   "metadata": {
    "slideshow": {
     "slide_type": "skip"
    },
    "tags": [
     "translated_en"
    ],
    "translation": {
     "lang": "de",
     "src_hash": "a18c1d5c348a2ffc1bdab2689c9dff35294c85b235d547dab3f72e9de6122ce2",
     "updated_at_iso": "2025-08-16T16:58:41.970752+00:00"
    }
   },
   "outputs": [],
   "source": [
    "division(10, 0)"
   ]
  },
  {
   "cell_type": "markdown",
   "id": "707c527c98c0414db2655a0e091e961e",
   "metadata": {
    "slideshow": {
     "slide_type": "skip"
    },
    "tags": [
     "translated_en"
    ],
    "translation": {
     "lang": "de",
     "src_hash": "f3d988b70fcb308b71600f42fa9934d3c54cafbbe6ac1a37643923750ba555e1",
     "updated_at_iso": "2025-08-16T16:58:50.383829+00:00"
    }
   },
   "source": [
    "However, even when things are correct, we still have a lot of output. That can be very distracting, because you can miss real errors very quickly. For example, we perform ten divisions, one of which was a division by zero."
   ]
  },
  {
   "cell_type": "code",
   "execution_count": null,
   "id": "922a9445d30f413fbac389e32f3e21dc",
   "metadata": {
    "slideshow": {
     "slide_type": "skip"
    },
    "tags": [
     "translated_en"
    ],
    "translation": {
     "lang": "de",
     "src_hash": "468a998c1316edd2dbe819cae7b8a2e6b666da0b8357bfb4a306cddbb9672ae9",
     "updated_at_iso": "2025-08-16T16:58:53.634772+00:00"
    }
   },
   "outputs": [],
   "source": [
    "for denominator in range(-2, 8):\n",
    "    division(10, denominator)"
   ]
  },
  {
   "cell_type": "markdown",
   "id": "bf0dfa871c2e4a22baeebe891e5be264",
   "metadata": {
    "slideshow": {
     "slide_type": "skip"
    },
    "tags": [
     "translated_en"
    ],
    "translation": {
     "lang": "de",
     "src_hash": "19feebbeb438681a3dc8af51461aa5fe3c1584012df0dd1b7c8fbdd82d0b1073",
     "updated_at_iso": "2025-08-16T16:58:55.513070+00:00"
    }
   },
   "source": [
    "## Debugging with `logging`"
   ]
  },
  {
   "cell_type": "markdown",
   "id": "c3156f9c333349dfbe0e741492d5f120",
   "metadata": {
    "slideshow": {
     "slide_type": "skip"
    },
    "tags": [
     "translated_en"
    ],
    "translation": {
     "lang": "de",
     "src_hash": "cfe9b426de7c46a7b33553ec4b44f37c9b1d48a9034bd72ec4759d1387a0605e",
     "updated_at_iso": "2025-08-16T16:59:02.502440+00:00"
    }
   },
   "source": [
    "Therefore, for more complex programs, one typically uses a `logging` package. These allow `print` statements to be assigned to categories and filtered by them. In the Python library `logging`, the categories are: `debug`, `info`, `warning`, `error`, and `critical`."
   ]
  },
  {
   "cell_type": "code",
   "execution_count": null,
   "id": "d8c8047546d34848869cb06a13e41d21",
   "metadata": {
    "slideshow": {
     "slide_type": "skip"
    },
    "tags": [
     "translated_en"
    ],
    "translation": {
     "lang": "de",
     "src_hash": "6baaaee36a5abb34d2f3cf69991a6a1f7a1ab3a760276f720a1da4b983845a03",
     "updated_at_iso": "2025-08-16T16:59:23.177707+00:00"
    }
   },
   "outputs": [],
   "source": [
    "import logging\n",
    "\n",
    "log = logging.getLogger(\"meinlog\")\n",
    "\n",
    "def division(numerator, denominator):\n",
    "    log.debug(f\"Eingabe Zaehler: {numerator}\")\n",
    "    log.debug(f\"Eingabe Nenner: {denominator}\")\n",
    "    if not isinstance(denominator, (int, float)):\n",
    "        log.error(f\"Nenner nicht vom Datentyp `int` oder `float`, sondern vom Typ {type(denominator)}\")\n",
    "        raise ValueError(f\"Nenner nicht vom Datentyp `int` oder `float`, sondern vom Typ {type(denominator)}\")\n",
    "    elif not isinstance(numerator, (int, float)):\n",
    "        log.error(f\"Zaehler nicht vom Datentyp `int` oder `float`, sondern vom Typ {type(numerator)}\")\n",
    "        raise ValueError(f\"Zaehler nicht vom Datentyp `int` oder `float`, sondern vom Typ {type(numerator)}\")\n",
    "    elif not denominator:\n",
    "        log.warning(\"Division durch 0\")\n",
    "        return None\n",
    "    else:\n",
    "        result = numerator / denominator\n",
    "        log.info(f\"Das Ergebnis von {numerator}/{denominator} = {result}\")\n",
    "        return result"
   ]
  },
  {
   "cell_type": "markdown",
   "id": "6a32b33ca1b8489486873a2867528dfc",
   "metadata": {
    "slideshow": {
     "slide_type": "skip"
    },
    "tags": [
     "translated_en"
    ],
    "translation": {
     "lang": "de",
     "src_hash": "690992a0719cfaeeba1a79cbe73371edcc01eaa56f9779a2e6183e8939dc178c",
     "updated_at_iso": "2025-08-16T16:59:27.729932+00:00"
    }
   },
   "source": [
    "If we call the function now, we only see the division-by-zero warning."
   ]
  },
  {
   "cell_type": "code",
   "execution_count": null,
   "id": "b9e46e11331249c29fa7cc1ba9f591e7",
   "metadata": {
    "slideshow": {
     "slide_type": "skip"
    },
    "tags": [
     "translated_en"
    ],
    "translation": {
     "lang": "de",
     "src_hash": "50c6f6aff70b40faa47b464d16cca2c5ae572d93c68189ef45bd4ac280cfef4a",
     "updated_at_iso": "2025-08-16T16:59:33.298390+00:00"
    }
   },
   "outputs": [],
   "source": [
    "log.setLevel(logging.WARNING)\n",
    "for denominator in range(-2, 8):\n",
    "    division(10, denominator)"
   ]
  },
  {
   "cell_type": "markdown",
   "id": "04635fdf35d348158779c8dbda1e8e54",
   "metadata": {
    "slideshow": {
     "slide_type": "skip"
    },
    "tags": [
     "translated_en"
    ],
    "translation": {
     "lang": "de",
     "src_hash": "a5e6a94a319937a1a2086ea95074c5fd3fb6bf1d34a6b9f93b3927e41e0cefbb",
     "updated_at_iso": "2025-08-16T16:59:37.631950+00:00"
    }
   },
   "source": [
    "We can, if needed, raise the log level, as we do during troubleshooting. For example, we want to receive all debug messages."
   ]
  },
  {
   "cell_type": "code",
   "execution_count": null,
   "id": "0efe1189bbb943ee98ca8b38152aa292",
   "metadata": {
    "slideshow": {
     "slide_type": "skip"
    },
    "tags": [
     "translated_en"
    ],
    "translation": {
     "lang": "de",
     "src_hash": "777911f4d4dc1ce7db7646599b047e4a47ac3fdf8fe30dd4db5425f83282e5bf",
     "updated_at_iso": "2025-08-16T16:59:46.206086+00:00"
    }
   },
   "outputs": [],
   "source": [
    "log.setLevel(logging.DEBUG)\n",
    "for denominator in range(-2, 8):\n",
    "    division(10, denominator)"
   ]
  },
  {
   "cell_type": "markdown",
   "id": "4e74236d1a134741b24adb55791a9ac8",
   "metadata": {
    "slideshow": {
     "slide_type": "skip"
    },
    "tags": [
     "translated_en"
    ],
    "translation": {
     "lang": "de",
     "src_hash": "e59d164253cefb0e863b54851248ce296f7114c60a71d33239e4386547325a66",
     "updated_at_iso": "2025-08-16T16:59:51.817709+00:00"
    }
   },
   "source": [
    "Moreover, logging can automatically include additional information. We can already see in the log above that it’s not only the level (INFO, DEBUG, WARNING) but also the name of the logger (meinlog). We can customize this format to, for example, also output the timestamp, which is especially important for understanding when something happened."
   ]
  },
  {
   "cell_type": "code",
   "execution_count": null,
   "id": "3ffbc7f0e0314c1fa54ba313139c8a68",
   "metadata": {
    "slideshow": {
     "slide_type": "skip"
    },
    "tags": [
     "translated_en"
    ],
    "translation": {
     "lang": "de",
     "src_hash": "9547cb31e47237de1a263704857f6acc8c358e95ce46170eccdc5206d69fc86b",
     "updated_at_iso": "2025-08-16T16:59:58.449173+00:00"
    }
   },
   "outputs": [],
   "source": [
    "sh = logging.StreamHandler()\n",
    "formatter = logging.Formatter('%(asctime)s  %(name)s  %(levelname)s: %(message)s')\n",
    "sh.setFormatter(formatter)\n",
    "log.addHandler(sh)\n",
    "log.setLevel(logging.INFO)\n",
    "\n",
    "for denominator in range(-2, 8):\n",
    "    division(10, denominator)"
   ]
  },
  {
   "cell_type": "markdown",
   "id": "f89ad8ed6e13446a999326b0fd58cd9e",
   "metadata": {
    "slideshow": {
     "slide_type": "skip"
    },
    "tags": [
     "translated_en"
    ],
    "translation": {
     "lang": "de",
     "src_hash": "956e9a35b949b52d7fff85af00ec99439fc1cc267826e1c9e9dd327c51af34a0",
     "updated_at_iso": "2025-08-16T17:00:05.589025+00:00"
    }
   },
   "source": [
    "In practice, logging is widely used, especially in cloud applications. Since they don’t have screens, errors must be searched for in the logs. As long as everything is fine, an application runs, for example, at the `INFO` log level, with only a small amount of output. When an error occurs, the server is set to the `DEBUG` log level, and one then looks in the detailed logs for information to narrow down the error."
   ]
  },
  {
   "cell_type": "markdown",
   "id": "6c22f5e346444394bb66e5d69f538b99",
   "metadata": {
    "slideshow": {
     "slide_type": "skip"
    },
    "tags": [
     "translated_en"
    ],
    "translation": {
     "lang": "de",
     "src_hash": "7cd82465fa79437f3f0e0f3fd9e7987588a577e8cf09abcc2b9aed690d6ca35b",
     "updated_at_iso": "2025-08-16T17:00:09.247241+00:00"
    }
   },
   "source": [
    "## Debugging via Debug Interfaces"
   ]
  },
  {
   "cell_type": "markdown",
   "id": "c8826ea2ba7345c7a2bd3672e9b16287",
   "metadata": {
    "slideshow": {
     "slide_type": "skip"
    },
    "tags": [
     "translated_en"
    ],
    "translation": {
     "lang": "de",
     "src_hash": "37ca911dfcd596c2f06cd8ce99247bb59ab76f1e2d1292c32f1d013ce69de312",
     "updated_at_iso": "2025-08-16T17:00:15.607647+00:00"
    }
   },
   "source": [
    "Many integrated development environments (IDEs) offer to run the debugger directly. These debuggers allow the dynamic execution of the code to be interrupted. The goal is to pause execution just before the error occurs, in order to observe the error behavior closely.\n",
    "\n",
    "There are typically two forms of interruption supported:\n",
    "-  Pausing at specific lines of code with the help of breakpoints.\n",
    "-  Pausing on specific exceptions."
   ]
  },
  {
   "cell_type": "markdown",
   "id": "3d6ddf14bed94897a118dfc0e111fc66",
   "metadata": {
    "slideshow": {
     "slide_type": "skip"
    },
    "tags": [
     "translated_en"
    ],
    "translation": {
     "lang": "de",
     "src_hash": "9bc628257e24bbda60b6bb19e6e846f4048efc4e3ed60908ec99c968e5b3253e",
     "updated_at_iso": "2025-08-16T17:00:19.887620+00:00"
    }
   },
   "source": [
    "### Debugging Jupyter Notebooks in VS Code"
   ]
  },
  {
   "cell_type": "markdown",
   "id": "c574533b8cf54c6692ddf5ff60ff64ba",
   "metadata": {
    "slideshow": {
     "slide_type": "skip"
    },
    "tags": [
     "translated_en"
    ],
    "translation": {
     "lang": "de",
     "src_hash": "f8f2e4a43c4c3bb4b0dda78c9ae3a7d2c4e64af263b80a7ac56b941b0cf4f46a",
     "updated_at_iso": "2025-08-16T17:00:28.116116+00:00"
    }
   },
   "source": [
    "The debugging interfaces look somewhat different depending on the IDE, but they offer similar features. This Jupyter Notebook was written in VSCode, which we will treat as the first example."
   ]
  },
  {
   "cell_type": "markdown",
   "id": "054afae7f89844c69cc4b71d1a9d073b",
   "metadata": {
    "slideshow": {
     "slide_type": "skip"
    },
    "tags": [
     "translated_en"
    ],
    "translation": {
     "lang": "de",
     "src_hash": "df25ce9fc98d2081477976d437f35a04ef85bfb97f7b1522c8c53a4aeb0d620d",
     "updated_at_iso": "2025-08-16T17:00:34.184097+00:00"
    }
   },
   "source": [
    "In most IDEs you can usually click to the left of a line to set a breakpoint <span style=\"color: red\">⬤</span>. We will set a breakpoint on line 11 for the warning output."
   ]
  },
  {
   "cell_type": "markdown",
   "id": "ddcf6ee03ff044389218e42b1b768643",
   "metadata": {
    "slideshow": {
     "slide_type": "skip"
    },
    "tags": [
     "translated_en"
    ],
    "translation": {
     "lang": "de",
     "src_hash": "6ed57db1152d1ff70f5715bbade9fe8c0b6b4dcef0fa67919d43bb821e185d24",
     "updated_at_iso": "2025-08-16T17:00:37.224181+00:00"
    }
   },
   "source": [
    "![](images/debug_vscode_1.png)"
   ]
  },
  {
   "cell_type": "markdown",
   "id": "38611ca06b2a42cda8e5bab1e0f3d3a5",
   "metadata": {
    "slideshow": {
     "slide_type": "skip"
    },
    "tags": [
     "translated_en"
    ],
    "translation": {
     "lang": "de",
     "src_hash": "aa23204f629d26c949ec14b5495d855b29b40b2f236cbe6c48591059fb8e06bc",
     "updated_at_iso": "2025-08-16T17:00:43.812025+00:00"
    }
   },
   "source": [
    "Then the code is executed in a special debugging environment that allows you to interrupt the execution. In our notebook in VSCode, this is started by the symbol <img src=\"images/debug_vscode_2.png\" style=\"height: 2ex\">."
   ]
  },
  {
   "cell_type": "code",
   "execution_count": null,
   "id": "0ea595e9e5c84033ad1add49137b6d8e",
   "metadata": {
    "slideshow": {
     "slide_type": "skip"
    },
    "tags": [
     "translated_en"
    ],
    "translation": {
     "lang": "de",
     "src_hash": "9ca93bd95b346f436109b524c2a54939c5f70c91f10c6277a04307527c82cb9d",
     "updated_at_iso": "2025-08-16T17:00:58.911932+00:00"
    }
   },
   "outputs": [],
   "source": [
    "def division(numerator, denominator):\n",
    "    log.debug(f\"Eingabe Zaehler: {numerator}\")\n",
    "    log.debug(f\"Eingabe Nenner: {denominator}\")\n",
    "    if not isinstance(denominator, (int, float)):\n",
    "        log.error(f\"Nenner nicht vom Datentyp `int` oder `float`, sondern vom Typ {type(denominator)}\")\n",
    "        raise ValueError(f\"Nenner nicht vom Datentyp `int` oder `float`, sondern vom Typ {type(denominator)}\")\n",
    "    elif not isinstance(numerator, (int, float)):\n",
    "        log.error(f\"Zaehler nicht vom Datentyp `int` oder `float`, sondern vom Typ {type(numerator)}\")\n",
    "        raise ValueError(f\"Zaehler nicht vom Datentyp `int` oder `float`, sondern vom Typ {type(numerator)}\")\n",
    "    elif not denominator:\n",
    "        log.warning(\"Division durch 0\")\n",
    "        return None\n",
    "    else:\n",
    "        result = numerator / denominator\n",
    "        log.info(f\"Das Ergebnis von {numerator}/{denominator} = {result}\")\n",
    "        return result\n",
    "\n",
    "division(10, 0)"
   ]
  },
  {
   "cell_type": "markdown",
   "id": "98e339192be9424e8af261ab4245088d",
   "metadata": {
    "slideshow": {
     "slide_type": "skip"
    },
    "tags": [
     "translated_en"
    ],
    "translation": {
     "lang": "de",
     "src_hash": "0ad95025a1119c4a8423d0e25838c61e5523d3537c3d67433253d18554d1869e",
     "updated_at_iso": "2025-08-16T17:01:02.472486+00:00"
    }
   },
   "source": [
    "This starts the debugging mode. In this mode, the current line is highlighted and the current variables in memory are displayed."
   ]
  },
  {
   "cell_type": "markdown",
   "id": "261bf234805540ba9beb8f782469f192",
   "metadata": {
    "slideshow": {
     "slide_type": "skip"
    },
    "tags": [
     "translated_en"
    ],
    "translation": {
     "lang": "de",
     "src_hash": "223ce6cc2f1338fa80d382d009f04b134d4693a168bbe6a3608e34427bba69dc",
     "updated_at_iso": "2025-08-16T17:01:05.514120+00:00"
    }
   },
   "source": [
    "![Debugging in VS Code](images/debug_vscode_3.png)"
   ]
  },
  {
   "cell_type": "markdown",
   "id": "6142c1761b804bbaa5967cb930242bd9",
   "metadata": {
    "slideshow": {
     "slide_type": "skip"
    },
    "tags": [
     "translated_en"
    ],
    "translation": {
     "lang": "de",
     "src_hash": "bad5d4a42401d7fe7fa4b785ac8fb3599f5e81c041365d74c84359fe462cc4be",
     "updated_at_iso": "2025-08-16T17:01:10.608533+00:00"
    }
   },
   "source": [
    "In the debugging environment you can then step through it line by line by pressing the <img src=\"images/debug_vscode_2.png\" style=\"height: 2ex\">, and thereby trace how the program is executed and which variables change."
   ]
  },
  {
   "cell_type": "markdown",
   "id": "fe2e170fba234e47a3e5598165e373f9",
   "metadata": {
    "slideshow": {
     "slide_type": "skip"
    },
    "tags": [
     "remove-cell",
     "translated_en"
    ],
    "translation": {
     "lang": "de",
     "src_hash": "51f29867629114ab4693f1bc20409cf952161ee67c4099bb5d933a02d42fddbc",
     "updated_at_iso": "2025-08-16T17:01:13.381591+00:00"
    }
   },
   "source": [
    "### Debugging in repl.it"
   ]
  },
  {
   "cell_type": "markdown",
   "id": "8f51828927db42ab8d5419f3e1f61d93",
   "metadata": {
    "slideshow": {
     "slide_type": "skip"
    },
    "tags": [
     "remove-cell",
     "translated_en"
    ],
    "translation": {
     "lang": "de",
     "src_hash": "6515cffaf08426a8559bbfabd8ccc9fd08f844440c8a7909d2dc191d387dffbe",
     "updated_at_iso": "2025-08-16T17:01:19.965201+00:00"
    }
   },
   "source": [
    "In repl.it, the debugging interface looks similar. We set a breakpoint <span style=\"color: red\">⬤</span> by clicking on line 11 in the warning output."
   ]
  },
  {
   "cell_type": "markdown",
   "id": "32f432aeac8644cd88e76edfa3cac09f",
   "metadata": {
    "slideshow": {
     "slide_type": "skip"
    },
    "tags": [
     "remove-cell",
     "translated_en"
    ],
    "translation": {
     "lang": "de",
     "src_hash": "8a2a6b22b64fef2583151fac3f5126f874c28309bce64e356630866cf496366e",
     "updated_at_iso": "2025-08-16T17:01:22.195066+00:00"
    }
   },
   "source": [
    "![](images/debug_replit_1.png)"
   ]
  },
  {
   "cell_type": "markdown",
   "id": "711a6f79153143c99017684c7d17573f",
   "metadata": {
    "slideshow": {
     "slide_type": "skip"
    },
    "tags": [
     "remove-cell",
     "translated_en"
    ],
    "translation": {
     "lang": "de",
     "src_hash": "8d7ec6791ed35251e2afc663b316c52c1ec8b0446e35ccafb3bdb3c59511592c",
     "updated_at_iso": "2025-08-16T17:01:28.703500+00:00"
    }
   },
   "source": [
    "The debugging environment is started by <img src=\"images/debug_replit_2.png\" height=\"2ex\">. It lets you start execution, run individual lines, skip a step, or run to the breakpoint (left to right)."
   ]
  },
  {
   "cell_type": "markdown",
   "id": "5170f44271374bf5891778b4337339d3",
   "metadata": {
    "slideshow": {
     "slide_type": "skip"
    },
    "tags": [
     "remove-cell",
     "translated_en"
    ],
    "translation": {
     "lang": "de",
     "src_hash": "7687aa0f44b4460514114cb2b082126cbab368ed09af85bf638f3e490e8983ad",
     "updated_at_iso": "2025-08-16T17:01:30.479587+00:00"
    }
   },
   "source": [
    "![](images/debug_replit_3.png)"
   ]
  },
  {
   "cell_type": "markdown",
   "id": "7abdb154dcb647efa096f9fbe711fe45",
   "metadata": {
    "slideshow": {
     "slide_type": "skip"
    },
    "tags": [
     "remove-cell",
     "translated_en"
    ],
    "translation": {
     "lang": "de",
     "src_hash": "53020305ca61c54838f866b5b7859d002953d9301a64323d167af3876bb0a53a",
     "updated_at_iso": "2025-08-16T17:01:33.041686+00:00"
    }
   },
   "source": [
    "Here too, both the current variables and the stack are displayed."
   ]
  },
  {
   "cell_type": "markdown",
   "id": "61fe5d9ff48a46259a135c9ca1960658",
   "metadata": {
    "editable": true,
    "slideshow": {
     "slide_type": "skip"
    },
    "tags": [
     "remove-cell",
     "translated_en"
    ],
    "translation": {
     "lang": "de",
     "src_hash": "5203bbf3881362f066d5de4633596bbb329efecedf062db550e8b93036492519",
     "updated_at_iso": "2025-08-16T17:01:34.998940+00:00"
    }
   },
   "source": [
    "![](images/debug_replit_4.png)"
   ]
  },
  {
   "cell_type": "markdown",
   "id": "e834205a077a46f7be548446dafb71ba",
   "metadata": {
    "slideshow": {
     "slide_type": "skip"
    },
    "tags": [
     "translated_en"
    ],
    "translation": {
     "lang": "de",
     "src_hash": "29ad624bf7d729ada8352cbb8908795e631330f8d52e2f44905b352933d3b245",
     "updated_at_iso": "2025-08-16T17:01:52.653356+00:00"
    }
   },
   "source": [
    "## Quiz\n",
    "\n",
    "```{quizdown}\n",
    "    ---\n",
    "    shuffleQuestions: true\n",
    "    shuffleAnswers: true\n",
    "    ---\n",
    "\n",
    "    ### What is debugging?\n",
    "    - [x] Finding and fixing bugs in the program code\n",
    "    - [ ] The optimization of the program code\n",
    "    - [ ] Writing documentation\n",
    "    - [ ] Formatting source code\n",
    "\n",
    "    ### Why isn't static code analysis alone sufficient?\n",
    "    - [x] Because logical errors can occur at runtime\n",
    "    - [ ] Because it doesn't detect security vulnerabilities\n",
    "    - [ ] Because it makes the code slower\n",
    "    - [ ] Because it doesn't work with Python\n",
    "\n",
    "    ### What is `print` debugging?\n",
    "    - [x] Inserting `print()` statements for runtime analysis\n",
    "    - [ ] Removing all `print()` statements\n",
    "    - [ ] An automated debugging method\n",
    "    - [ ] A graphical debugger\n",
    "\n",
    "    ### What is the purpose of `logging` in Python?\n",
    "    - [x] Logging events and errors\n",
    "    - [ ] Optimizing program execution\n",
    "    - [ ] Creating user interfaces\n",
    "    - [ ] Automatically testing functions\n",
    "\n",
    "    ### Sort the following lines to correctly construct a complete `try-except` block\n",
    "\n",
    "    1. `def division(zaehler, nenner):`\n",
    "    2. `    print(f\"Debug: Eingabe Zaehler: {zaehler}\")`\n",
    "    3. `    print(f\"Debug: Eingabe Nenner: {nenner}\")`\n",
    "    4. `    if not isinstance(nenner, (int, float)):`\n",
    "    5. `        print(f\"Error: Nenner nicht vom Datentyp `int` oder `float`, sondern vom Typ {type(nenner)}\")`\n",
    "    6. `        raise ValueError(f\"Nenner nicht vom Datentyp `int` oder `float`, sondern vom Typ {type(nenner)}\")`\n",
    "    7. `    elif not isinstance(zaehler, (int, float)):`\n",
    "    8. `        print(f\"Error: Zaehler nicht vom Datentyp `int` oder `float`, sondern vom Typ {type(zaehler)}\")`\n",
    "    9. `        raise ValueError(f\"Zaehler nicht vom Datentyp `int` oder `float`, sondern vom Typ {type(zaehler)}\")`\n",
    "    10. `    elif not nenner:`\n",
    "    11. `        print(\"Warning: Division durch 0\")`\n",
    "    12. `        return None`\n",
    "    13. `    else:`\n",
    "    14. `        ergebnis = zaehler / nenner`\n",
    "    15. `        print(f\"Info: Das Ergebnis von {zaehler}/{nenner} = {ergebnis}\")`\n",
    "    16. `        return ergebnis`\n",
    "\n",
    "\n",
    "    ### What happens with a division by zero in the following code?\n",
    "    ```python\n",
    "    def division(zaehler, nenner):\n",
    "        print(f\"Debug: Eingabe Zaehler: {zaehler}\")\n",
    "        print(f\"Debug: Eingabe Nenner: {nenner}\")\n",
    "        if not isinstance(nenner, (int, float)):\n",
    "            ...\n",
    "        elif not nenner:\n",
    "            print(\"Warning: Division durch 0\")\n",
    "            return None\n",
    "    ```\n",
    "    - [x] A warning is printed and `None` is returned.\n",
    "    - [ ] A `ZeroDivisionError` is raised.\n",
    "    - [ ] 0 is returned.\n",
    "    - [ ] The denominator is automatically set to 1.\n",
    "\n",
    "```"
   ]
  },
  {
   "cell_type": "markdown",
   "id": "819dd499bb664d72b6cadd2f4b6457a9",
   "metadata": {
    "slideshow": {
     "slide_type": "slide"
    },
    "tags": [
     "remove-cell",
     "translated_en"
    ],
    "translation": {
     "lang": "de",
     "src_hash": "d2b7467259ef9f52d61ecf9953374631953b152baba6f1edeaac46d4c3d40a0b",
     "updated_at_iso": "2025-08-16T17:01:56.351360+00:00"
    }
   },
   "source": [
    "<div class=\"vslide\">\n",
    "  <div class=\"vslide-title\">\n",
    "    <p style=\"font-family: Protomolecule; font-size: 2.3em; margin: 0px auto; text-align: center; width: 100%;\">Questions?</p>\n",
    "  </div>\n",
    "  <script>setSectionBackground('#000000', 'images/mj_questions.mp4');</script>\n",
    "</div>"
   ]
  }
 ],
 "metadata": {
  "kernelspec": {
   "display_name": "Python 3 (ipykernel)",
   "language": "python",
   "name": "python3"
  },
  "language_info": {
   "codemirror_mode": {
    "name": "ipython",
    "version": 3
   },
   "file_extension": ".py",
   "mimetype": "text/x-python",
   "name": "python",
   "nbconvert_exporter": "python",
   "pygments_lexer": "ipython3",
   "version": "3.12.10"
  },
  "rise": {
   "auto_select": "none",
   "center": false,
   "enable_chalkboard": true,
   "header": "<img src=\"images/pd_logo.svg\" class=\"header_title_logo\"><img src=\"images/ai4sc_logo_v2.svg\" class=\"header_ai4sc_logo\">",
   "scroll": true,
   "show_buttons_on_startup": false,
   "slideNumber": true,
   "theme": "white"
  },
  "vscode": {
   "interpreter": {
    "hash": "c6f6ea9c9385f57658f4c302ffd3b717b6cd59b095fbd1c55795f0b67656eecd"
   }
  }
 },
 "nbformat": 4,
 "nbformat_minor": 4
}
