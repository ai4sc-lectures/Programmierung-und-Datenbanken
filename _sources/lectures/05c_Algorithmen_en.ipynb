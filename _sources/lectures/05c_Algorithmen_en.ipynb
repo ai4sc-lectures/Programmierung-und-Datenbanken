{
 "cells": [
  {
   "cell_type": "markdown",
   "id": "a86aee41dcd04f0d9c82b74aa95415b1",
   "metadata": {
    "editable": true,
    "slideshow": {
     "slide_type": "slide"
    },
    "tags": [
     "remove-cell",
     "translated_en"
    ],
    "translation": {
     "lang": "de",
     "src_hash": "fa5bfd732001a0c33e1d4330e1285a1959f020e6aeacb504b754336a16bb7c8e",
     "updated_at_iso": "2025-08-16T16:15:48.302297+00:00"
    }
   },
   "source": [
    "<div class=\"vslide\">\n",
    "  <div class=\"vslide-title\">\n",
    "    <p style=\"font-family: Protomolecule; font-size: 2.3em; line-height: 90%; margin: 0px auto; text-align: center; width: 100%;\"><span style=\"letter-spacing: .04rem;\">Programming</span><br><span style=\"letter-spacing: .0rem;\">and databases</span></p>\n",
    "<p class=\"author\" style=\"font-family: Protomolecule; margin: 0px auto;  text-align: center; width: 100%; font-size: 1.2em;\">Joern Ploennigs</p>\n",
    "<p class=\"subtitle\" style=\"font-family: Protomolecule; margin: 1em auto; text-align: center; width: 100%; font-size: 1.2em;\">Algorithms</p>\n",
    "    <figcaption>Midjourney: Two Towers, ref. M.C. Escher</figcaption>\n",
    "  </div>\n",
    "<script>\n",
    "  function setSectionBackground(c,v){\n",
    "    let e=document.currentScript.previousElementSibling;\n",
    "    while(e&&e.tagName!=='SECTION')e=e.parentElement;\n",
    "    if(e){\n",
    "      if(c)e.setAttribute('data-background-color',c);\n",
    "      if(v){\n",
    "        e.setAttribute('data-background-video',v);\n",
    "        e.setAttribute('data-background-video-loop','true');\n",
    "        e.setAttribute('data-background-video-muted','true');\n",
    "      }\n",
    "    }\n",
    "  }\n",
    "  setSectionBackground('#000000', 'images/05c_Algorithmen/mj_title.mp4');\n",
    "</script>\n",
    "<style>\n",
    ".flex-row{display:flex; gap:2rem; align-items:flex-start; justify-content:space-between;}\n",
    ".flex-row .col1{flex:1; min-width:10px}\n",
    ".flex-row .col2{flex:2; min-width:10px}\n",
    ".flex-row .col3{flex:3; min-width:10px}\n",
    ".flex-row .col4{flex:4; min-width:10px}\n",
    ".flex-row .col5{flex:5; min-width:10px}\n",
    ".flex-row .col6{flex:6; min-width:10px}\n",
    ".flex-row .col7{flex:7; min-width:10px}\n",
    ".vcent{display:flex; align-items:center; justify-content:center}\n",
    "</style>\n",
    "</div>"
   ]
  },
  {
   "cell_type": "markdown",
   "id": "55f01fd01ef14bf48b5327f62d06de36",
   "metadata": {
    "slideshow": {
     "slide_type": "skip"
    },
    "tags": [
     "translated_en"
    ],
    "translation": {
     "lang": "de",
     "src_hash": "4ea29ecb245be505dd8feb3f0cc3a9795b2247d8b257b53dee1e4b3241f25564",
     "updated_at_iso": "2025-08-16T16:15:49.951733+00:00"
    }
   },
   "source": [
    "# Algorithms"
   ]
  },
  {
   "cell_type": "markdown",
   "id": "6e6af59794db4df08aeddd183b2f921c",
   "metadata": {
    "slideshow": {
     "slide_type": "skip"
    },
    "tags": [
     "translated_en"
    ],
    "translation": {
     "lang": "de",
     "src_hash": "56bd0b947dc5af2a0d6e0edac4e19f8be4c37f275022af26dc6711d0b8f1a2e4",
     "updated_at_iso": "2025-08-16T16:15:53.666607+00:00"
    }
   },
   "source": [
    "<figure class=\"mj-tile-band\">\n",
    "    <img src='images/05c_Algorithmen/mj_title_band.jpg'>\n",
    "    <figcaption>Midjourney: Two Towers, ref. M.C. Escher</figcaption>\n",
    "</figure>\n",
    "\n",
    "> Everything should be made as simple as possible, but not simpler.\n",
    ">\n",
    "> — Albert Einstein"
   ]
  },
  {
   "cell_type": "markdown",
   "id": "ebec35214d4b465a87e36591c84e9546",
   "metadata": {
    "slideshow": {
     "slide_type": "skip"
    },
    "tags": [
     "translated_en"
    ],
    "translation": {
     "lang": "de",
     "src_hash": "70bee1c44c4ad647eeff278cf360e7ebc36eef0aa9c6f8e9726508738a5746eb",
     "updated_at_iso": "2025-08-16T16:16:00.624949+00:00"
    }
   },
   "source": [
    "## <a href=\"../lec_slides/05c_Algorithmen.slides.html\">Slides</a>/<a href=\"../pdf/slides/05c_Algorithmen.pdf\">PDF</a>\n",
    "<iframe src=\"../lec_slides/05c_Algorithmen.slides.html\" width=\"750\" height=\"500\"></iframe>"
   ]
  },
  {
   "cell_type": "markdown",
   "id": "24a99a57e1174bfab81408953753228f",
   "metadata": {
    "slideshow": {
     "slide_type": "slide"
    },
    "tags": [
     "remove-cell",
     "translated_en"
    ],
    "translation": {
     "lang": "de",
     "src_hash": "87e9d4b462e721cbe2846d75db398ae3910dd563f57295fef452f0d72e1f4299",
     "updated_at_iso": "2025-08-16T16:16:03.782944+00:00"
    }
   },
   "source": [
    "## Process\n",
    "\n",
    "![](images/partA_6.svg)"
   ]
  },
  {
   "cell_type": "markdown",
   "id": "57df36fd26bc493e8abab3da97119e25",
   "metadata": {
    "slideshow": {
     "slide_type": "skip"
    },
    "tags": [
     "translated_en"
    ],
    "translation": {
     "lang": "de",
     "src_hash": "a355365d1872cf5f8ddd1af332a097c269acd6ac2e7ccca702fce7412d76bafc",
     "updated_at_iso": "2025-08-16T16:16:08.823652+00:00"
    }
   },
   "source": [
    "## Complex Data Structure - Trees"
   ]
  },
  {
   "cell_type": "markdown",
   "id": "fa3ccf9aa866458e892563e3e91c0c30",
   "metadata": {
    "slideshow": {
     "slide_type": "skip"
    },
    "tags": [
     "translated_en"
    ],
    "translation": {
     "lang": "de",
     "src_hash": "6220b7feba83fe222fb90c8f286f0acc9259b4d9e12c68863dfc5e205267938d",
     "updated_at_iso": "2025-08-16T16:16:21.142160+00:00"
    }
   },
   "source": [
    "Trees are another important complex (composite) data structures."
   ]
  },
  {
   "cell_type": "markdown",
   "id": "83aeed13117e4b52b3aa306079d92052",
   "metadata": {
    "slideshow": {
     "slide_type": "skip"
    },
    "tags": [
     "translated_en"
    ],
    "translation": {
     "lang": "de",
     "src_hash": "269d52fa8db1fb46b3df71c1ec9b18dcfe7183d40d8b24714486599757266f08",
     "updated_at_iso": "2025-08-16T16:16:22.996597+00:00"
    }
   },
   "source": [
    "We define the following tree."
   ]
  },
  {
   "cell_type": "markdown",
   "id": "89c2de1786414d45a4bdc88573d137fb",
   "metadata": {
    "slideshow": {
     "slide_type": "skip"
    },
    "tags": [
     "translated_en"
    ],
    "translation": {
     "lang": "de",
     "src_hash": "611e2790733e7487ce5cd0648102b3be30e570f0bb0a10c1b7ebcef7d7f8cc1d",
     "updated_at_iso": "2025-08-16T16:16:27.684369+00:00"
    }
   },
   "source": [
    "<center><img src=\"https://mermaid.ink/svg/pako:eNptj8EKgzAQRH8l7GkDekhE0Rx68g_aYy7BrFUwKjY5FPHfm2pbKLinmXnDsrtCM1kCBffFzB271XpkcYREFJJzlqYXxgrEgvODHHrPM8TsJK4Qq2_8v0eU0ZU_9nE7E3k0-SmSAlEKziEBR4szvY3nru-iBt-RIw0qSkutCYPXoMctVk3w0_U5NqD8EiiBMFvjqe5NfNSBas3woO0FhYI-BA\" width=\"40%\"></center>"
   ]
  },
  {
   "cell_type": "markdown",
   "id": "35b9edd87a5440aa83c1bb66628fa465",
   "metadata": {
    "slideshow": {
     "slide_type": "skip"
    },
    "tags": [
     "translated_en"
    ],
    "translation": {
     "lang": "de",
     "src_hash": "4e085817c68b18b671d7c117fb5eb2e7c7293bd12e3184b905ce99f340f2262e",
     "updated_at_iso": "2025-08-16T16:16:34.021120+00:00"
    }
   },
   "source": [
    "We represent the tree here as dictionaries, in which we semantically label the value as `wert` and the subtrees as `links` and `rechts`. Indentation makes the structure more visible. Omitted fields are automatically `None`."
   ]
  },
  {
   "cell_type": "code",
   "execution_count": null,
   "id": "657e5a0d41254b3c84fc6e86ed5b820e",
   "metadata": {
    "slideshow": {
     "slide_type": "skip"
    },
    "tags": [
     "translated_en"
    ],
    "translation": {
     "lang": "de",
     "src_hash": "d64fc4aaf5aeadb97ce86fe161b93b95ec45bef0791b1b2891e3a717962c3c06",
     "updated_at_iso": "2025-08-16T16:16:39.927316+00:00"
    }
   },
   "outputs": [],
   "source": [
    "tree = {\n",
    "        \"wert\": 12,\n",
    "        \"links\":{\n",
    "                \"wert\": 6,\n",
    "                \"links\": {\"wert\":  3},\n",
    "                \"rechts\":{\"wert\":  9}\n",
    "        },\n",
    "        \"rechts\":{\n",
    "                \"wert\": 18,\n",
    "                \"links\": {\"wert\": 15},\n",
    "                \"rechts\":{\"wert\": 21}\n",
    "        }\n",
    "}"
   ]
  },
  {
   "cell_type": "markdown",
   "id": "d09b76515f4f4ca4981b3384bf4e235d",
   "metadata": {
    "slideshow": {
     "slide_type": "skip"
    },
    "tags": [
     "translated_en"
    ],
    "translation": {
     "lang": "de",
     "src_hash": "196054b998510772992ebc3583a53e11769ed5215fc0e0057dae15c57992153c",
     "updated_at_iso": "2025-08-16T16:16:49.441436+00:00"
    }
   },
   "source": [
    "If we want to traverse the tree, we need a recursive function. Recursive functions cannot be transformed into loops. The recursive functions operate on the specified node and then call themselves with the corresponding subtree of its children."
   ]
  },
  {
   "cell_type": "code",
   "execution_count": null,
   "id": "1eff487dc9b2464882baac0eeccce309",
   "metadata": {
    "slideshow": {
     "slide_type": "skip"
    },
    "tags": [
     "translated_en"
    ],
    "translation": {
     "lang": "de",
     "src_hash": "9d9e47af49c25b637f32721ba994345f1179e47a9a8a7e4d00d6957108e93f90",
     "updated_at_iso": "2025-08-16T16:16:56.810120+00:00"
    }
   },
   "outputs": [],
   "source": [
    "def traverse(tree):\n",
    "\tvalue = tree[\"wert\"]                 # the current value\n",
    "\tprint(value)                          # print the current value\n",
    "\tif \"links\" in tree:                   # if the left subtree is defined\n",
    "\t\ttraverse(tree[\"links\"])           # call the function recursively\n",
    "\tif \"rechts\" in tree:                  # if the right subtree is defined\n",
    "\t\ttraverse(tree[\"rechts\"])          # call the function recursively"
   ]
  },
  {
   "cell_type": "code",
   "execution_count": null,
   "id": "9539f1dac10c44b0a6db854c1e3986bc",
   "metadata": {
    "slideshow": {
     "slide_type": "skip"
    },
    "tags": [
     "translated_en"
    ],
    "translation": {
     "lang": "de",
     "src_hash": "c9eb9b671a8e13cdb1db9d9619013ac6f15e20e5457f306661a74171b9d8513c",
     "updated_at_iso": "2025-08-16T16:17:00.173020+00:00"
    }
   },
   "outputs": [],
   "source": [
    "traverse(tree)"
   ]
  },
  {
   "cell_type": "markdown",
   "id": "7eed98985dc24d97b3c0c60cfcfb1826",
   "metadata": {
    "slideshow": {
     "slide_type": "skip"
    },
    "tags": [
     "translated_en"
    ],
    "translation": {
     "lang": "de",
     "src_hash": "24debbcda2d0234369329598b0c432355a58bb2db16e492764ab9118f5a9cfb4",
     "updated_at_iso": "2025-08-16T16:17:12.155178+00:00"
    }
   },
   "source": [
    "If we traverse the tree recursively (traversal), we see that we visit the tree from top to bottom, left before right. So we start at the root node 12, then go left to 6, then further left to 3, then right to l, because there is no deeper element, and so on."
   ]
  },
  {
   "cell_type": "markdown",
   "id": "58f3c578823749e5b60e94e853bdae0d",
   "metadata": {
    "slideshow": {
     "slide_type": "skip"
    },
    "tags": [
     "translated_en"
    ],
    "translation": {
     "lang": "de",
     "src_hash": "9478a8eb75d113744dfae36a4b83cb1eaf7722e48d74c0d1a190b2b2eaa53268",
     "updated_at_iso": "2025-08-16T16:17:14.237648+00:00"
    }
   },
   "source": [
    "## Sorting Algorithms"
   ]
  },
  {
   "cell_type": "markdown",
   "id": "ae1a99a8b1204233b06cd1a98d101ea1",
   "metadata": {
    "slideshow": {
     "slide_type": "skip"
    },
    "tags": [
     "translated_en"
    ],
    "translation": {
     "lang": "de",
     "src_hash": "d4e8e2bcbd5f30b528a1d96a9b55ce6fa0b9071c94f99c005f69443fc16ab825",
     "updated_at_iso": "2025-08-16T16:17:16.221171+00:00"
    }
   },
   "source": [
    "### Bubble Sort"
   ]
  },
  {
   "cell_type": "markdown",
   "id": "9caab57ef6b64b1ca7b52b872c7ff9ba",
   "metadata": {
    "slideshow": {
     "slide_type": "skip"
    },
    "tags": [
     "translated_en"
    ],
    "translation": {
     "lang": "de",
     "src_hash": "c94107b7ac80b7f7ca739927e2f882feca6faf25c6605ddf7414ae8dc948f2f3",
     "updated_at_iso": "2025-08-16T16:17:21.853361+00:00"
    }
   },
   "source": [
    "Sorting elements in a list is a common task in programming. There are a few standard algorithms you should know for this.\n",
    "\n",
    "Bubble Sort is one of the simplest sorting algorithms. In this approach, each element of the list is traversed and compared with the next element. If the second element is smaller than the first, their positions are swapped. The list is traversed over and over until this condition no longer holds."
   ]
  },
  {
   "cell_type": "code",
   "execution_count": null,
   "id": "ce62f3a0a5a94e919b25af6831abc116",
   "metadata": {
    "slideshow": {
     "slide_type": "skip"
    },
    "tags": [
     "translated_en"
    ],
    "translation": {
     "lang": "de",
     "src_hash": "21756ee01b36251f26471b024fe8bdce50d0a76a28323e3ca68d388116f48e54",
     "updated_at_iso": "2025-08-16T16:17:26.319261+00:00"
    }
   },
   "outputs": [],
   "source": [
    "def bubbleSort(numbers):\n",
    "    for i in range(len(numbers)-1):\n",
    "        for j in range(0, len(numbers)-i-1):\n",
    "            if numbers[j] > numbers[j + 1] :\n",
    "                numbers[j], numbers[j + 1] = numbers[j + 1], numbers[j]"
   ]
  },
  {
   "cell_type": "code",
   "execution_count": null,
   "id": "6f0ff5f46f5440f1932a7edee0d2ab7c",
   "metadata": {
    "slideshow": {
     "slide_type": "skip"
    },
    "tags": [
     "translated_en"
    ],
    "translation": {
     "lang": "de",
     "src_hash": "6570cca68bb617ba517ebc80c3dcdf4122de5b113f58213f03f2cec29278d4f3",
     "updated_at_iso": "2025-08-16T16:17:30.158303+00:00"
    }
   },
   "outputs": [],
   "source": [
    "number_sequence = [12, 6, 3, 9, 18, 15, 21]\n",
    "\n",
    "bubble_sort(number_sequence)\n",
    "\n",
    "number_sequence"
   ]
  },
  {
   "cell_type": "markdown",
   "id": "f0edc15c3fba4f81a3310fd5adb03b36",
   "metadata": {
    "slideshow": {
     "slide_type": "skip"
    },
    "tags": [
     "translated_en"
    ],
    "translation": {
     "lang": "de",
     "src_hash": "84236d66e8849155e61e01f946577299f6c54c5a0b5f459c56ed94b283ae11c7",
     "updated_at_iso": "2025-08-16T16:17:33.055139+00:00"
    }
   },
   "source": [
    "It should be noted that Bubble Sort directly modifies the list, i.e., the previous order is changed."
   ]
  },
  {
   "cell_type": "markdown",
   "id": "f434e823e2454f4098d3f0e8ff0fbacb",
   "metadata": {
    "slideshow": {
     "slide_type": "skip"
    },
    "tags": [
     "translated_en"
    ],
    "translation": {
     "lang": "de",
     "src_hash": "2590c9a5b6786e077ece810745226f9a0321fc21c6cdd7d41a1d7b4e98a51c5e",
     "updated_at_iso": "2025-08-16T16:17:35.328991+00:00"
    }
   },
   "source": [
    "### QuickSort"
   ]
  },
  {
   "cell_type": "markdown",
   "id": "c052efc345684e6ab283e958f66242b7",
   "metadata": {
    "slideshow": {
     "slide_type": "skip"
    },
    "tags": [
     "translated_en"
    ],
    "translation": {
     "lang": "de",
     "src_hash": "6255e5519bbcca5b7ffc6b1236f6b74d54c2e57e0ccd5180c7b525884dc518b5",
     "updated_at_iso": "2025-08-16T16:17:43.512259+00:00"
    }
   },
   "source": [
    "Quicksort is a divide-and-conquer algorithm. It selects an element from the list as the pivot element and then creates two lists: one containing the elements smaller than the pivot and one containing the elements larger. These two sublists are then sorted again with Quicksort until the sublists reach size 1. This way, the sorting problem becomes progressively smaller."
   ]
  },
  {
   "cell_type": "code",
   "execution_count": null,
   "id": "12ad4f758d4d4993a1d12b942a517055",
   "metadata": {
    "slideshow": {
     "slide_type": "skip"
    },
    "tags": [
     "translated_en"
    ],
    "translation": {
     "lang": "de",
     "src_hash": "86a97c1da29a208be630a727058fda9a4358c51e737b5dc8a82a66319e347df6",
     "updated_at_iso": "2025-08-16T16:17:48.405874+00:00"
    }
   },
   "outputs": [],
   "source": [
    "def quickSort(elements):\n",
    "    less = []\n",
    "    equal = []\n",
    "    greater = []\n",
    "\n",
    "    if len(elements) > 1:\n",
    "        pivot = elements[len(elements) % 2]\n",
    "        for x in elements:\n",
    "            if x < pivot:\n",
    "                less.append(x)\n",
    "            elif x == pivot:\n",
    "                equal.append(x)\n",
    "            elif x > pivot:\n",
    "                greater.append(x)\n",
    "        return quickSort(less) + equal + quickSort(greater)\n",
    "    else:  # If there is only one or no element in the list\n",
    "        return elements"
   ]
  },
  {
   "cell_type": "markdown",
   "id": "5a74358d008b4b34a9fef86f211c99d9",
   "metadata": {
    "slideshow": {
     "slide_type": "skip"
    },
    "tags": [
     "translated_en"
    ],
    "translation": {
     "lang": "de",
     "src_hash": "a471e61be51c218ce0657698d44f2d8dd5a2b44571ad48139edaa696a368a0fe",
     "updated_at_iso": "2025-08-16T16:17:52.022513+00:00"
    }
   },
   "source": [
    "The result is a new sorted list that must be assigned."
   ]
  },
  {
   "cell_type": "code",
   "execution_count": null,
   "id": "bebc9cbad563445494bbea0ef4d1b5a6",
   "metadata": {
    "slideshow": {
     "slide_type": "skip"
    },
    "tags": [
     "translated_en"
    ],
    "translation": {
     "lang": "de",
     "src_hash": "a27a35c2aaf5b604bdda22b9cdc758231c4b302d80fa62a11cc425775022eb87",
     "updated_at_iso": "2025-08-16T16:17:56.651927+00:00"
    }
   },
   "outputs": [],
   "source": [
    "sequence = [12, 6, 3, 9, 18, 15, 21]\n",
    "\n",
    "sequence = quickSort(sequence)\n",
    "\n",
    "sequence"
   ]
  },
  {
   "cell_type": "markdown",
   "id": "dd7fb87258a64dac9fb03ae927c48433",
   "metadata": {
    "slideshow": {
     "slide_type": "skip"
    },
    "tags": [
     "translated_en"
    ],
    "translation": {
     "lang": "de",
     "src_hash": "ae5fcb195095aae6eaeceadea9a19d735be45c0d0642dbc806d51a1f4526e263",
     "updated_at_iso": "2025-08-16T16:17:58.321796+00:00"
    }
   },
   "source": [
    "### Insertion Sort"
   ]
  },
  {
   "cell_type": "markdown",
   "id": "59f4fe153df348b89ba3a56ee08d13ca",
   "metadata": {
    "slideshow": {
     "slide_type": "skip"
    },
    "tags": [
     "translated_en"
    ],
    "translation": {
     "lang": "de",
     "src_hash": "1ea3f23cf4e7c68c95e9003f329e8cbc2426439f3ff9cd1ff445db02dd77f378",
     "updated_at_iso": "2025-08-16T16:18:01.706857+00:00"
    }
   },
   "source": [
    "Another sorting algorithm is insertion sort. It is based on the human strategy of sorting cards by inserting each value into the position where it fits best."
   ]
  },
  {
   "cell_type": "code",
   "execution_count": null,
   "id": "ad0f4fdf66854eedbf7a8647402e504e",
   "metadata": {
    "slideshow": {
     "slide_type": "skip"
    },
    "tags": [
     "translated_en"
    ],
    "translation": {
     "lang": "de",
     "src_hash": "9ddf98f2c80544ac23f4a78e817030f8de9d44d2ec849da56c4bb19887e84435",
     "updated_at_iso": "2025-08-16T16:18:07.693880+00:00"
    }
   },
   "outputs": [],
   "source": [
    "def insertion_sort(arr):\n",
    "    for i in range(1, len(arr)): # Iterate through all elements\n",
    "        key = arr[i]\n",
    "        # Move all elements of arr[0..i-1], that are greater than\n",
    "        # the current element key one position ahead of their current position\n",
    "        j = i-1\n",
    "        while j >= 0 and key < arr[j] :\n",
    "            arr[j+1] = arr[j]\n",
    "            j -= 1\n",
    "        arr[j+1] = key"
   ]
  },
  {
   "cell_type": "markdown",
   "id": "a81a72e87c314f419971121dfc6b5009",
   "metadata": {
    "slideshow": {
     "slide_type": "skip"
    },
    "tags": [
     "translated_en"
    ],
    "translation": {
     "lang": "de",
     "src_hash": "49e088ec2ee77500d77cfc2607a21243cce72537ae03cfd80c72ae699f10c941",
     "updated_at_iso": "2025-08-16T16:18:11.479114+00:00"
    }
   },
   "source": [
    "The result is the correctly sorted list, and it has been directly modified again."
   ]
  },
  {
   "cell_type": "code",
   "execution_count": null,
   "id": "3a5a0c0c80ee4f8ebb4542fb96dd5f3a",
   "metadata": {
    "slideshow": {
     "slide_type": "skip"
    },
    "tags": [
     "translated_en"
    ],
    "translation": {
     "lang": "de",
     "src_hash": "226fc5ef61afde64315e8cb94c2e6406d70327ccb5f3d5675c4d6349ca2c377b",
     "updated_at_iso": "2025-08-16T16:18:15.938946+00:00"
    }
   },
   "outputs": [],
   "source": [
    "number_sequence = [12, 6, 3, 9, 18, 15, 21]\n",
    "\n",
    "insertion_sort(number_sequence)\n",
    "\n",
    "number_sequence"
   ]
  },
  {
   "cell_type": "markdown",
   "id": "f5e32a10ce8f406ca0967fafd03c86b5",
   "metadata": {
    "slideshow": {
     "slide_type": "skip"
    },
    "tags": [
     "translated_en"
    ],
    "translation": {
     "lang": "de",
     "src_hash": "7b0e0d4256ce03a4db3728cbc661d0501bd9d9838a48386dcc1f5e674f31c5b3",
     "updated_at_iso": "2025-08-16T16:18:18.243202+00:00"
    }
   },
   "source": [
    "### Python built-in function `sorted`"
   ]
  },
  {
   "cell_type": "markdown",
   "id": "9a5b6eb32a724c12943e5e6daab3ce89",
   "metadata": {
    "slideshow": {
     "slide_type": "skip"
    },
    "tags": [
     "translated_en"
    ],
    "translation": {
     "lang": "de",
     "src_hash": "f01b085acd420af59604baaba4b00a1494794c520f805ae3b43b74604f6b050d",
     "updated_at_iso": "2025-08-16T16:18:21.816572+00:00"
    }
   },
   "source": [
    "The standard solution in everyday programming is Python's built-in function `sorted()`. Here the list is not modified and must be reassigned."
   ]
  },
  {
   "cell_type": "code",
   "execution_count": null,
   "id": "4d2022c24a2346f4a759902e5a6cc766",
   "metadata": {
    "slideshow": {
     "slide_type": "skip"
    },
    "tags": [
     "translated_en"
    ],
    "translation": {
     "lang": "de",
     "src_hash": "860684c97f996c465ce3957f59a7e6b32f19088383c5e7f1b30f5f68e224c095",
     "updated_at_iso": "2025-08-16T16:18:24.380082+00:00"
    }
   },
   "outputs": [],
   "source": [
    "sequence = [12, 6, 3, 9, 18, 15, 21]\n",
    "\n",
    "sequence = sorted(sequence)\n",
    "\n",
    "sequence"
   ]
  },
  {
   "cell_type": "markdown",
   "id": "3cc60275550e42a1b46d78f70c44d3ce",
   "metadata": {
    "slideshow": {
     "slide_type": "skip"
    },
    "tags": [
     "translated_en"
    ],
    "translation": {
     "lang": "de",
     "src_hash": "59c68a7287d7642df6b43275c6273a0812489c6d3f62c0e65f3acac1e16e5841",
     "updated_at_iso": "2025-08-16T16:18:26.391890+00:00"
    }
   },
   "source": [
    "### Performance comparison of the sorting functions"
   ]
  },
  {
   "cell_type": "markdown",
   "id": "1e95892784ea43b89f4c5b5fc879b8c4",
   "metadata": {
    "slideshow": {
     "slide_type": "skip"
    },
    "tags": [
     "translated_en"
    ],
    "translation": {
     "lang": "de",
     "src_hash": "2a1e90fc6313d43f02f02121ab48c547a8bd1e1ba5096b328c633253bfaf1ec4",
     "updated_at_iso": "2025-08-16T16:19:31.850522+00:00"
    }
   },
   "source": [
    "In a performance comparison of the functions, Bubble sort performs worse than insertion sort. The built-in function `sorted()` is clearly faster than both. It uses the TimSort algorithm (a variant of insertion sort) and is implemented in C."
   ]
  },
  {
   "cell_type": "code",
   "execution_count": null,
   "id": "952a70e0ce3441b196be552ff5f067eb",
   "metadata": {
    "slideshow": {
     "slide_type": "skip"
    },
    "tags": [
     "translated_en"
    ],
    "translation": {
     "lang": "de",
     "src_hash": "76dbdcfa984ca57138f5645e972eb2a766abda887a9fbf09bbdc7fa10c62530d",
     "updated_at_iso": "2025-08-16T16:19:36.076845+00:00"
    }
   },
   "outputs": [],
   "source": [
    "%timeit bubbleSort([12, 6, 3, 9, 18, 15, 21])"
   ]
  },
  {
   "cell_type": "code",
   "execution_count": null,
   "id": "24d0046495254fdeab5d34a66423a0f4",
   "metadata": {
    "slideshow": {
     "slide_type": "skip"
    },
    "tags": [
     "translated_en"
    ],
    "translation": {
     "lang": "de",
     "src_hash": "ecce225d88eb04294377423b8f1b8f2417ddebebb68991922c24d16a94e5177c",
     "updated_at_iso": "2025-08-16T16:19:40.876039+00:00"
    }
   },
   "outputs": [],
   "source": [
    "%timeit quickSort([12, 6, 3, 9, 18, 15, 21])"
   ]
  },
  {
   "cell_type": "code",
   "execution_count": null,
   "id": "b85d279320d74cdc808c9ff3ba65257d",
   "metadata": {
    "slideshow": {
     "slide_type": "skip"
    },
    "tags": [
     "translated_en"
    ],
    "translation": {
     "lang": "de",
     "src_hash": "58d6a9201cf51a289c6e06a0cc5341c5967f580c01b5f18b81c28d01c50c5b68",
     "updated_at_iso": "2025-08-16T16:19:45.070476+00:00"
    }
   },
   "outputs": [],
   "source": [
    "%timeit insertion_sort([12, 6, 3, 9, 18, 15, 21])"
   ]
  },
  {
   "cell_type": "code",
   "execution_count": null,
   "id": "0354e3a3ade24a7ba0a3bfcb30236cf7",
   "metadata": {
    "slideshow": {
     "slide_type": "skip"
    },
    "tags": [
     "translated_en"
    ],
    "translation": {
     "lang": "de",
     "src_hash": "0a327ca36854d3cf8d5217982f4a5f2a0cd1bebc1674d515270bf272ef513297",
     "updated_at_iso": "2025-08-16T16:19:47.146874+00:00"
    }
   },
   "outputs": [],
   "source": [
    "%timeit sorted([12, 6, 3, 9, 18, 15, 21])"
   ]
  },
  {
   "cell_type": "markdown",
   "id": "7b090090fe834392acc31c26e9d8512a",
   "metadata": {
    "slideshow": {
     "slide_type": "skip"
    },
    "tags": [
     "translated_en"
    ],
    "translation": {
     "lang": "de",
     "src_hash": "d8b87353e1a7008777027b2253be1da8303c0d4cb472f361e1dafac98aa23f85",
     "updated_at_iso": "2025-08-16T16:19:51.540633+00:00"
    }
   },
   "source": [
    "This result holds when sorting a considerably larger sequence. We generate a large sequence of 2,500 numbers with `range()` and reverse it with `reverse()` to invert the order."
   ]
  },
  {
   "cell_type": "code",
   "execution_count": null,
   "id": "5945f2da45b841f08207be2c82572096",
   "metadata": {
    "slideshow": {
     "slide_type": "skip"
    },
    "tags": [
     "translated_en"
    ],
    "translation": {
     "lang": "de",
     "src_hash": "fc705db5dd771e5b3fe84352cdc017c29c3abf761fffa10d25f2d0beec6db4a5",
     "updated_at_iso": "2025-08-16T16:19:54.593335+00:00"
    }
   },
   "outputs": [],
   "source": [
    "large_number_sequence = list(range(2500))\n",
    "large_number_sequence.reverse()"
   ]
  },
  {
   "cell_type": "code",
   "execution_count": null,
   "id": "d08e19493b7f459cb03b57cd0aab97a5",
   "metadata": {
    "slideshow": {
     "slide_type": "skip"
    },
    "tags": [
     "translated_en"
    ],
    "translation": {
     "lang": "de",
     "src_hash": "bdc40ff32ea651d6cd5b44b4030964ce8cdf399ef9413af78fff17a8a6dd95aa",
     "updated_at_iso": "2025-08-16T16:20:06.859455+00:00"
    }
   },
   "outputs": [],
   "source": [
    "%timeit bubble_sort(numbers_sequence_large)"
   ]
  },
  {
   "cell_type": "code",
   "execution_count": null,
   "id": "6cd3da34d1d346c69596989044d91a5b",
   "metadata": {
    "slideshow": {
     "slide_type": "skip"
    },
    "tags": [
     "translated_en"
    ],
    "translation": {
     "lang": "de",
     "src_hash": "25e0ae3175deba09f4620b5451d1a3526e705da574b7381f59f6bdabb19c7212",
     "updated_at_iso": "2025-08-16T16:20:12.172064+00:00"
    }
   },
   "outputs": [],
   "source": [
    "%timeit quick_sort(large_number_sequence)"
   ]
  },
  {
   "cell_type": "code",
   "execution_count": null,
   "id": "ab2fcdc68f8841e983301be170965964",
   "metadata": {
    "slideshow": {
     "slide_type": "skip"
    },
    "tags": [
     "translated_en"
    ],
    "translation": {
     "lang": "de",
     "src_hash": "400f3302d04379075c2d496c8c9fafadc94bf6a2c65b5a96ecd99e954d7a35c8",
     "updated_at_iso": "2025-08-16T16:20:15.071903+00:00"
    }
   },
   "outputs": [],
   "source": [
    "%timeit insertion_sort(large_number_sequence)"
   ]
  },
  {
   "cell_type": "code",
   "execution_count": null,
   "id": "5fa87620f67d4247859f293aa87bdc4f",
   "metadata": {
    "slideshow": {
     "slide_type": "skip"
    },
    "tags": [
     "translated_en"
    ],
    "translation": {
     "lang": "de",
     "src_hash": "f07e122a87248aa4ce33aafd61e8002ee90e6eb256add9016ba9fd294c9179ae",
     "updated_at_iso": "2025-08-16T16:20:18.757934+00:00"
    }
   },
   "outputs": [],
   "source": [
    "%timeit sorted(large_number_sequence)"
   ]
  },
  {
   "cell_type": "markdown",
   "id": "b902712157c84534be6cf26f3bf44c03",
   "metadata": {
    "slideshow": {
     "slide_type": "skip"
    },
    "tags": [
     "translated_en"
    ],
    "translation": {
     "lang": "de",
     "src_hash": "7f14ff54efac037f2e0356cc5888bfaa446f2b1021d9aef7f068ee2973919752",
     "updated_at_iso": "2025-08-16T16:20:26.329714+00:00"
    }
   },
   "source": [
    "Here it becomes evident once again that BubbleSort performs the worst due to the many comparisons. Quick Sort fares better because it divides the problem into smaller subproblems. Insertion Sort, however, is still more efficient. The built-in `sorted()` function, which is also based on the insertion sort algorithm, solves the problem the fastest."
   ]
  },
  {
   "cell_type": "markdown",
   "id": "d89852be7f2d4ed9b69acea45839dae0",
   "metadata": {
    "slideshow": {
     "slide_type": "skip"
    },
    "tags": [
     "translated_en"
    ],
    "translation": {
     "lang": "de",
     "src_hash": "973f5a928efdf318562fbc30f6f6df6b2f836fbe0999eeb44af86cf4a7773f49",
     "updated_at_iso": "2025-08-16T16:20:30.211753+00:00"
    }
   },
   "source": [
    "## Finding Elements in Lists"
   ]
  },
  {
   "cell_type": "markdown",
   "id": "defb0cfbc7484e63947ffd4dfaf88110",
   "metadata": {
    "slideshow": {
     "slide_type": "skip"
    },
    "tags": [
     "translated_en"
    ],
    "translation": {
     "lang": "de",
     "src_hash": "e753b5449cb8f7f56ce3750b9344a8ef84b640e76248a015c31572fe4ebfd8e4",
     "updated_at_iso": "2025-08-16T16:20:33.506933+00:00"
    }
   },
   "source": [
    "### Full-Text Search"
   ]
  },
  {
   "cell_type": "markdown",
   "id": "6144d3c54bac452388fce08642d7d19c",
   "metadata": {
    "slideshow": {
     "slide_type": "skip"
    },
    "tags": [
     "translated_en"
    ],
    "translation": {
     "lang": "de",
     "src_hash": "778d99996cc1ff0015e9a76085cafbb8b5e4688c74f87d0619ff4e0953db8074",
     "updated_at_iso": "2025-08-16T16:20:38.625788+00:00"
    }
   },
   "source": [
    "Searching for and locating elements in lists is also a daily task. There are typical algorithms here as well.\n",
    "\n",
    "The naive approach is brute-force search: we iterate through every element in a list with a for-each loop to see if the element can be found anywhere."
   ]
  },
  {
   "cell_type": "code",
   "execution_count": null,
   "id": "015ff60817e34f42b1cd3d43eebdb913",
   "metadata": {
    "slideshow": {
     "slide_type": "skip"
    },
    "tags": [
     "translated_en"
    ],
    "translation": {
     "lang": "de",
     "src_hash": "61539eab8c5be8ae2f9945853566a7fae58fc3b4cb487a50af91605dc0835f10",
     "updated_at_iso": "2025-08-16T16:20:48.352576+00:00"
    }
   },
   "outputs": [],
   "source": [
    "def contains(list, x):\n",
    "    for l in list:\n",
    "        if(l == x):\n",
    "            return True\n",
    "    return False"
   ]
  },
  {
   "cell_type": "markdown",
   "id": "f71b51ff821a49608ea865dcb09e8aed",
   "metadata": {
    "slideshow": {
     "slide_type": "skip"
    },
    "tags": [
     "translated_en"
    ],
    "translation": {
     "lang": "de",
     "src_hash": "03303ed3d55130622df2bab938a1b82572b49f59add6db5f77913975e8afde1d",
     "updated_at_iso": "2025-08-16T16:20:54.025778+00:00"
    }
   },
   "source": [
    "Let's use 15 as an example to check whether it is in our unsorted sequence of numbers `[12, 6, 3, 9, 18, 15, 21]`. It is the penultimate element in the list, so we must iterate through all the preceding elements."
   ]
  },
  {
   "cell_type": "code",
   "execution_count": null,
   "id": "101f4db6a3884543afade9515929a246",
   "metadata": {
    "slideshow": {
     "slide_type": "skip"
    },
    "tags": [
     "translated_en"
    ],
    "translation": {
     "lang": "de",
     "src_hash": "511e2adc05db19841d8f1466b16ae707e2557300caef2147884d22f6eec4d305",
     "updated_at_iso": "2025-08-16T16:20:57.669997+00:00"
    }
   },
   "outputs": [],
   "source": [
    "number_sequence = [12, 6, 3, 9, 18, 15, 21]\n",
    "\n",
    "contains(number_sequence, 15)"
   ]
  },
  {
   "cell_type": "markdown",
   "id": "7e45a3c75fcd43f993df8d1bc6cc3daa",
   "metadata": {
    "slideshow": {
     "slide_type": "skip"
    },
    "tags": [
     "translated_en"
    ],
    "translation": {
     "lang": "de",
     "src_hash": "45c01786f8ac8b85e09681e79b35e70692a895d6f662f2a1ff44fa42c38d5a70",
     "updated_at_iso": "2025-08-16T16:21:01.154764+00:00"
    }
   },
   "source": [
    "If we search for 1, it correctly returns that the number is not in the list. However, to determine this, we had to compare every element of the list with 1."
   ]
  },
  {
   "cell_type": "code",
   "execution_count": null,
   "id": "4e9f82abd2d94ee0a018cca4fb34b91d",
   "metadata": {
    "slideshow": {
     "slide_type": "skip"
    },
    "tags": [
     "translated_en"
    ],
    "translation": {
     "lang": "de",
     "src_hash": "d7a6ea7cdd2b5253818a9463ead766eceee68c5049b8e34267a84ad843e98ff9",
     "updated_at_iso": "2025-08-16T16:21:04.038797+00:00"
    }
   },
   "outputs": [],
   "source": [
    "contains(number_sequence, 1)"
   ]
  },
  {
   "cell_type": "markdown",
   "id": "af18113d20a24cf89cd0caa13a988fff",
   "metadata": {
    "slideshow": {
     "slide_type": "skip"
    },
    "tags": [
     "translated_en"
    ],
    "translation": {
     "lang": "de",
     "src_hash": "223f7a5d56ed2e90c85837e454a49ff7c4ca05bc4dfb54090d764f4cdb6807af",
     "updated_at_iso": "2025-08-16T16:21:06.640947+00:00"
    }
   },
   "source": [
    "### Searching with Binary Search"
   ]
  },
  {
   "cell_type": "markdown",
   "id": "997197428117408da27de61e561fb9b6",
   "metadata": {
    "slideshow": {
     "slide_type": "skip"
    },
    "tags": [
     "translated_en"
    ],
    "translation": {
     "lang": "de",
     "src_hash": "918ea4fa278a1a95fcf94faa348a23dbd04e798ef00fe40ac10b971423dc500d",
     "updated_at_iso": "2025-08-16T16:21:13.450264+00:00"
    }
   },
   "source": [
    "Binary search is a divide-and-conquer algorithm for searching in a *sorted* list. It always selects the middle element from the list and decides whether the element being searched for is smaller or larger, and then continues with the sublist to the right or left. This allows it to ignore large parts of the list and minimize the number of comparisons."
   ]
  },
  {
   "cell_type": "code",
   "execution_count": null,
   "id": "b9696a4e0d3d460799dfb2d91f24359a",
   "metadata": {
    "slideshow": {
     "slide_type": "skip"
    },
    "tags": [
     "translated_en"
    ],
    "translation": {
     "lang": "de",
     "src_hash": "83c991db584512f5e69c7341fbb5ca9488747e0c59d3a9d10f092c5e6ac1f831",
     "updated_at_iso": "2025-08-16T16:21:28.794929+00:00"
    }
   },
   "outputs": [],
   "source": [
    "def binary_search_sub(array, target, low, high):\n",
    "    while low <= high:  # Repeat until low and high meet\n",
    "        mid = low + (high - low)//2  # integer division by two\n",
    "        # If found, return the index\n",
    "        if array[mid] == target:\n",
    "            return mid\n",
    "        # If the element is smaller than the target,\n",
    "        # then it can only be in the left subarray\n",
    "        elif array[mid] > target:\n",
    "            return binary_search_sub(array, target, low, mid - 1)\n",
    "        # Otherwise the element is larger than the target\n",
    "        # and this must be in the right subarray\n",
    "        else:\n",
    "            return binary_search_sub(array, target, mid + 1, high)\n",
    "    # If nothing found, return the position -1\n",
    "    return -1\n",
    "\n",
    "def binary_search(array, target):\n",
    "    # Since binary search requires a sorted sequence of numbers, sort the numbers beforehand.\n",
    "    array_sorted = sorted(array)\n",
    "    return binary_search_sub(array_sorted, target, 0, len(array_sorted))"
   ]
  },
  {
   "cell_type": "markdown",
   "id": "9c5c6f7fb0e84e8cbfef631b1c8b104e",
   "metadata": {
    "slideshow": {
     "slide_type": "skip"
    },
    "tags": [
     "translated_en"
    ],
    "translation": {
     "lang": "de",
     "src_hash": "a572fe5abfbd404035084df82dc20fe430b6e6d34a18e6613a77456f24c01ecf",
     "updated_at_iso": "2025-08-16T16:21:31.395603+00:00"
    }
   },
   "source": [
    "The return value of a binary search is usually the index of the found number."
   ]
  },
  {
   "cell_type": "code",
   "execution_count": null,
   "id": "c370ba2b31ff4dd6b218c27b9289ff44",
   "metadata": {
    "slideshow": {
     "slide_type": "skip"
    },
    "tags": [
     "translated_en"
    ],
    "translation": {
     "lang": "de",
     "src_hash": "e999e2e557d3132f117041a4abe4176d1a1c692459ad2a4e19b4f51e7f499fc5",
     "updated_at_iso": "2025-08-16T16:21:36.934593+00:00"
    }
   },
   "outputs": [],
   "source": [
    "binarySearch(number_sequence, 15)"
   ]
  },
  {
   "cell_type": "markdown",
   "id": "24dd0dc0e001442885be734e21fe44b7",
   "metadata": {
    "slideshow": {
     "slide_type": "skip"
    },
    "tags": [
     "translated_en"
    ],
    "translation": {
     "lang": "de",
     "src_hash": "ec1f34340b3f9b2849271bdb1fc179379f57708d0ce5ccac8b281555bfb34181",
     "updated_at_iso": "2025-08-16T16:21:39.873689+00:00"
    }
   },
   "source": [
    "If nothing is found at all, the position -1 is returned."
   ]
  },
  {
   "cell_type": "code",
   "execution_count": null,
   "id": "2e9bd142cf104c479d0c78fc0676ca84",
   "metadata": {
    "slideshow": {
     "slide_type": "skip"
    },
    "tags": [
     "translated_en"
    ],
    "translation": {
     "lang": "de",
     "src_hash": "3843743684faa4580564f8bcd8fd61767e6746577a3b84c53cd7e27558ef4de8",
     "updated_at_iso": "2025-08-16T16:21:42.703249+00:00"
    }
   },
   "outputs": [],
   "source": [
    "binarySearch(number_sequence, 1)"
   ]
  },
  {
   "cell_type": "markdown",
   "id": "b248275305a240e6b6e07ed0c3b5ab5a",
   "metadata": {
    "slideshow": {
     "slide_type": "skip"
    },
    "tags": [
     "translated_en"
    ],
    "translation": {
     "lang": "de",
     "src_hash": "721309992c37f09cdc91e039b4c1ff7ffea36f237c87769d39d2d3735a8b9b8b",
     "updated_at_iso": "2025-08-16T16:21:47.394149+00:00"
    }
   },
   "source": [
    "### Searching with Binary Search Trees"
   ]
  },
  {
   "cell_type": "markdown",
   "id": "87150647aa2747a7ac22ff844a9d8ef8",
   "metadata": {
    "slideshow": {
     "slide_type": "skip"
    },
    "tags": [
     "translated_en"
    ],
    "translation": {
     "lang": "de",
     "src_hash": "b48093252f64d824d0658c296f269f3b4e725a5f53af3302ff6d60ddfcfe05c0",
     "updated_at_iso": "2025-08-16T16:21:55.675065+00:00"
    }
   },
   "source": [
    "The tree data structure introduced at the beginning represents a binary search tree and can be used for searching. We take advantage of the fact that it is *already sorted*. Then we can define a new search function that conceptually corresponds to binary search."
   ]
  },
  {
   "cell_type": "code",
   "execution_count": null,
   "id": "318a77e5447744c185e2ec14bca83d0c",
   "metadata": {
    "slideshow": {
     "slide_type": "skip"
    },
    "tags": [
     "translated_en"
    ],
    "translation": {
     "lang": "de",
     "src_hash": "1ddbfae4ef283020d7503cf0afb62cde13e9fff0edddbaa16ac54dbe7458114d",
     "updated_at_iso": "2025-08-16T16:22:03.957530+00:00"
    }
   },
   "outputs": [],
   "source": [
    "def searchTree(tree, target_value):\n",
    "    value = tree[\"wert\"]       # the current value\n",
    "    if value == target_value:\n",
    "        return True\n",
    "    if target_value < value and \"links\" in tree:\n",
    "        return searchTree(tree[\"links\"], target_value)\n",
    "    elif target_value > value and \"rechts\" in tree:\n",
    "        return searchTree(tree[\"rechts\"], target_value)\n",
    "    else:\n",
    "        return False"
   ]
  },
  {
   "cell_type": "code",
   "execution_count": null,
   "id": "0b5b6be5795d45feb2a919016fcecd6e",
   "metadata": {
    "slideshow": {
     "slide_type": "skip"
    },
    "tags": [
     "translated_en"
    ],
    "translation": {
     "lang": "de",
     "src_hash": "83bc42dcebecd1bf81101f94e630c0b7c9c7031b186c82abe2fdbbc829d3af72",
     "updated_at_iso": "2025-08-16T16:22:06.853074+00:00"
    }
   },
   "outputs": [],
   "source": [
    "searchTree(tree, 15)"
   ]
  },
  {
   "cell_type": "code",
   "execution_count": null,
   "id": "9148726edbff4feb889712c5422cef55",
   "metadata": {
    "slideshow": {
     "slide_type": "skip"
    },
    "tags": [
     "translated_en"
    ],
    "translation": {
     "lang": "de",
     "src_hash": "7b94483f73c711668782d7f468e5cd6216b29f51ecab5675a88335a275d38f8b",
     "updated_at_iso": "2025-08-16T16:22:09.259682+00:00"
    }
   },
   "outputs": [],
   "source": [
    "findTree(tree, 1)"
   ]
  },
  {
   "cell_type": "markdown",
   "id": "56dad3cec306406297b35b01b9c3e4b5",
   "metadata": {
    "slideshow": {
     "slide_type": "skip"
    },
    "tags": [
     "translated_en"
    ],
    "translation": {
     "lang": "de",
     "src_hash": "d335a1cd61e39cba8afaafc293ab1e3b982f9fe3859d542d4ef48545461ab8f0",
     "updated_at_iso": "2025-08-16T16:22:11.473913+00:00"
    }
   },
   "source": [
    "### Creating Binary Search Trees"
   ]
  },
  {
   "cell_type": "markdown",
   "id": "c324597fd4264c5da47ec49c8abda3b9",
   "metadata": {
    "slideshow": {
     "slide_type": "skip"
    },
    "tags": [
     "translated_en"
    ],
    "translation": {
     "lang": "de",
     "src_hash": "27fe03dd16f263b83afd99b000d0f193cd894f193ebbc74411e43ed16f1f8b39",
     "updated_at_iso": "2025-08-16T16:22:20.837778+00:00"
    }
   },
   "source": [
    "Searching in a binary search tree is, in itself, not faster than binary search in a sorted list. However, sorting the list is very expensive. Inserting new elements is also very slow, because you first have to perform a binary search to find the insertion position, and then the entire list must be copied (if implemented as an array) since it becomes one element larger. This costs a lot of performance, especially for very large lists with more than 10,000 elements.\n",
    "\n",
    "With the use of a binary search tree, on the other hand, you can also take advantage of the fact that it is always sorted when inserting. As a result, we also use the binary-search algorithm during insertion. Especially for growing data structures that must be kept sorted, search trees are extremely effective. For insertion, we can rewrite the function `suchBaum()` so that it always inserts the value as a new leaf node."
   ]
  },
  {
   "cell_type": "code",
   "execution_count": null,
   "id": "3f64e1ac032b42938579397ccf0f3031",
   "metadata": {
    "slideshow": {
     "slide_type": "skip"
    },
    "tags": [
     "translated_en"
    ],
    "translation": {
     "lang": "de",
     "src_hash": "c61a8cf7eb623218662ed11b3b904b91bddb7c8ffdfe673300b5b2d183dcfd42",
     "updated_at_iso": "2025-08-16T16:22:40.396908+00:00"
    }
   },
   "outputs": [],
   "source": [
    "def extend_tree(tree, new_value):\n",
    "    value = tree[\"wert\"]       # the current value\n",
    "    if value == new_value: \n",
    "        return #  we stop here because the value is already contained and does not need to be added\n",
    "    elif new_value < value:\n",
    "        if \"links\" not in tree: # if there is no left subtree yet\n",
    "            tree[\"links\"] = {\"wert\": new_value} # add a new node to the left of the current\n",
    "        else:\n",
    "            return extend_tree(tree[\"links\"], new_value)\n",
    "    else: # otherwise continue searching for insertion position\n",
    "        if \"rechts\" not in tree: # if there is no right subtree yet\n",
    "            tree[\"rechts\"] = {\"wert\": new_value} # add a new node to the right of the current\n",
    "        else:\n",
    "            return extend_tree(tree[\"rechts\"], new_value)"
   ]
  },
  {
   "cell_type": "code",
   "execution_count": null,
   "id": "9ec664047043415da104762a2f760278",
   "metadata": {
    "slideshow": {
     "slide_type": "skip"
    },
    "tags": [
     "translated_en"
    ],
    "translation": {
     "lang": "de",
     "src_hash": "ba7ade3564569ba7cc89e4ff9012aaf32aa39151991feba6c0f8110e830fc452",
     "updated_at_iso": "2025-08-16T16:22:53.735493+00:00"
    }
   },
   "outputs": [],
   "source": [
    "tree2 = {\"wert\": 12} # We initialize the tree with 12\n",
    "for value in [12, 6, 3, 9, 18, 15, 21]: # we add the values of the search tree at the start\n",
    "    extendTree(tree2, value)"
   ]
  },
  {
   "cell_type": "markdown",
   "id": "6dd046698f8641ad8bc81a4e11f16fd5",
   "metadata": {
    "slideshow": {
     "slide_type": "skip"
    },
    "tags": [
     "translated_en"
    ],
    "translation": {
     "lang": "de",
     "src_hash": "357a973753dd54767b79ccf4cd74edc29de7f4ca13c44338a5821801b795e26e",
     "updated_at_iso": "2025-08-16T16:22:57.754058+00:00"
    }
   },
   "source": [
    "Please note that the tree is modified in place.\n",
    "\n",
    "To check whether the new tree looks the same as the tree `baum` shown at the beginning, we print both with `print()`."
   ]
  },
  {
   "cell_type": "code",
   "execution_count": null,
   "id": "e15e558ef6f64907a3340ec1b5592e83",
   "metadata": {
    "slideshow": {
     "slide_type": "skip"
    },
    "tags": [
     "translated_en"
    ],
    "translation": {
     "lang": "de",
     "src_hash": "e7ebfc79336aaa90f5824f8c4d00d3192e0d797c3c9b93a35e62f088e228716f",
     "updated_at_iso": "2025-08-16T16:23:00.673872+00:00"
    }
   },
   "outputs": [],
   "source": [
    "print(tree)"
   ]
  },
  {
   "cell_type": "code",
   "execution_count": null,
   "id": "9453b0a6af8944d1a56db680199ae5f4",
   "metadata": {
    "slideshow": {
     "slide_type": "skip"
    },
    "tags": [
     "translated_en"
    ],
    "translation": {
     "lang": "de",
     "src_hash": "e71837599baf9efe1c35372f9351967921f28059ed81c3e07d41bf0986fab5a3",
     "updated_at_iso": "2025-08-16T16:23:03.604169+00:00"
    }
   },
   "outputs": [],
   "source": [
    "print(tree2)"
   ]
  },
  {
   "cell_type": "markdown",
   "id": "0312a4ab8f144d6f85292ced47089369",
   "metadata": {
    "slideshow": {
     "slide_type": "skip"
    },
    "tags": [
     "translated_en"
    ],
    "translation": {
     "lang": "de",
     "src_hash": "70e3281678c86cfa79b9cc8955bccdac2e7c07dfcd8a5af7b2bbe8239da790d8",
     "updated_at_iso": "2025-08-16T16:23:06.610866+00:00"
    }
   },
   "source": [
    "### Searching in Lists with Python"
   ]
  },
  {
   "cell_type": "markdown",
   "id": "732ccda5f36c4461a930a34f2fde0547",
   "metadata": {
    "slideshow": {
     "slide_type": "skip"
    },
    "tags": [
     "translated_en"
    ],
    "translation": {
     "lang": "de",
     "src_hash": "b54a724b35e31268fd73aeaee072a9add609b0613ddeb98aaa63dabac19e7cee",
     "updated_at_iso": "2025-08-16T16:23:10.835570+00:00"
    }
   },
   "source": [
    "In everyday use, Python's built-in membership test can be used with `15 in zahlenfolge`."
   ]
  },
  {
   "cell_type": "code",
   "execution_count": null,
   "id": "918f1ac6c7f74a3da5883e5875304300",
   "metadata": {
    "slideshow": {
     "slide_type": "skip"
    },
    "tags": [
     "translated_en"
    ],
    "translation": {
     "lang": "de",
     "src_hash": "a838cdba8d04076122e0c4776aebb9f6cc0a6bc9eefff9dd46d948cf0fdd87b1",
     "updated_at_iso": "2025-08-16T16:23:15.527536+00:00"
    }
   },
   "outputs": [],
   "source": [
    "Please provide the Python code containing German variable names, function/class names, docstrings, or inline comments that you want translated."
   ]
  },
  {
   "cell_type": "markdown",
   "id": "bcaba1e569c64d73b4aa5f8b21f6fa6b",
   "metadata": {
    "slideshow": {
     "slide_type": "skip"
    },
    "tags": [
     "translated_en"
    ],
    "translation": {
     "lang": "de",
     "src_hash": "27818e24860495e50ad89e51f1414defd58d182db65c50da0d0010992ab7b8e1",
     "updated_at_iso": "2025-08-16T16:23:18.719564+00:00"
    }
   },
   "source": [
    "### Searching in Python with Sets"
   ]
  },
  {
   "cell_type": "markdown",
   "id": "6b2c6c49ee5d45aab6ee55a52a34d10c",
   "metadata": {
    "slideshow": {
     "slide_type": "skip"
    },
    "tags": [
     "translated_en"
    ],
    "translation": {
     "lang": "de",
     "src_hash": "11285b521535f76fb61d32db7d77e218abe16b0524c37b6de66531c61d979dd0",
     "updated_at_iso": "2025-08-16T16:23:26.396905+00:00"
    }
   },
   "source": [
    "Especially for large lists (well over 100), converting to a set is worthwhile. These are optimized for checking whether an element is already contained. For this purpose, hashing algorithms and typically binary search trees are used, which allow only a subset of the elements to be searched."
   ]
  },
  {
   "cell_type": "code",
   "execution_count": null,
   "id": "57a5df87a77f4d67a68f9237c3445a2a",
   "metadata": {
    "slideshow": {
     "slide_type": "skip"
    },
    "tags": [
     "translated_en"
    ],
    "translation": {
     "lang": "de",
     "src_hash": "5d5a326f24ede3e13521702906150519153dcc287759f3629952bfef67253254",
     "updated_at_iso": "2025-08-16T16:23:28.955316+00:00"
    }
   },
   "outputs": [],
   "source": [
    "number_set = set(number_sequence)"
   ]
  },
  {
   "cell_type": "code",
   "execution_count": null,
   "id": "4f5d9fa7cf4747bbbda48655f493ec3e",
   "metadata": {
    "slideshow": {
     "slide_type": "skip"
    },
    "tags": [
     "translated_en"
    ],
    "translation": {
     "lang": "de",
     "src_hash": "86ba0aa1bdbec6debaacb4f766cfa3b22c560acf70a81897dda5e989a3be6036",
     "updated_at_iso": "2025-08-16T16:23:34.015977+00:00"
    }
   },
   "outputs": [],
   "source": [
    "15 in number_set"
   ]
  },
  {
   "cell_type": "markdown",
   "id": "3f7719c680934e688040bda9bd5aa237",
   "metadata": {
    "slideshow": {
     "slide_type": "skip"
    },
    "tags": [
     "translated_en"
    ],
    "translation": {
     "lang": "de",
     "src_hash": "b5aab49d164fa9139f3eea8d9d6bd0159b8047f3b1bcc6e57de8019475e749d1",
     "updated_at_iso": "2025-08-16T16:23:36.551693+00:00"
    }
   },
   "source": [
    "### Performance comparison of the search functions"
   ]
  },
  {
   "cell_type": "markdown",
   "id": "5121427f52c94b29ae5d4916889bee25",
   "metadata": {
    "slideshow": {
     "slide_type": "skip"
    },
    "tags": [
     "translated_en"
    ],
    "translation": {
     "lang": "de",
     "src_hash": "37c0aea94d4424b49f0bbf753d8d9cdd756be71c6f3a855e7e0aef5b59a3e5f6",
     "updated_at_iso": "2025-08-16T16:23:49.417223+00:00"
    }
   },
   "source": [
    "In performance comparisons, the built-in search with `15 in zahlenfolge` wins again. The performance of the full search with `contains` is better than the search with binary search or the one in the search tree, although it is also surpassed by the internal search in lists and in sets.\n",
    "\n",
    "This is due to the small example and to the extra overhead from the data structure and the recursive function call. Especially for very large lists, search trees and binary search are significantly more efficient than the full search."
   ]
  },
  {
   "cell_type": "code",
   "execution_count": null,
   "id": "ce5a2fbcc8fa4c76b1f14d5acc67a98b",
   "metadata": {
    "slideshow": {
     "slide_type": "skip"
    },
    "tags": [
     "translated_en"
    ],
    "translation": {
     "lang": "de",
     "src_hash": "31788a9325d482302738f23f38775b470073164f826e354803983bcd7a5951f6",
     "updated_at_iso": "2025-08-16T16:23:52.997276+00:00"
    }
   },
   "outputs": [],
   "source": [
    "%timeit contains(number_sequence, 15)"
   ]
  },
  {
   "cell_type": "code",
   "execution_count": null,
   "id": "8e23f371f4a740d28ed69e316e9b7770",
   "metadata": {
    "slideshow": {
     "slide_type": "skip"
    },
    "tags": [
     "translated_en"
    ],
    "translation": {
     "lang": "de",
     "src_hash": "df6f0db51c0a0411b8b390475b7e67ba41cf5aa90b9e0c5bb28910cc92054ac9",
     "updated_at_iso": "2025-08-16T16:23:56.091744+00:00"
    }
   },
   "outputs": [],
   "source": [
    "%timeit binarySearch(number_sequence, 15)"
   ]
  },
  {
   "cell_type": "code",
   "execution_count": null,
   "id": "bb7ea5e0c8054e6bac3fc10d32f16d4a",
   "metadata": {
    "slideshow": {
     "slide_type": "skip"
    },
    "tags": [
     "translated_en"
    ],
    "translation": {
     "lang": "de",
     "src_hash": "4d481aedd445fe450235b15abd6dd25bafb4c9d272a62e01d7683c595b123a73",
     "updated_at_iso": "2025-08-16T16:24:02.381923+00:00"
    }
   },
   "outputs": [],
   "source": [
    "%timeit searchTree(tree, 15)"
   ]
  },
  {
   "cell_type": "code",
   "execution_count": null,
   "id": "e1de7cce19af48feb1094a41b9215664",
   "metadata": {
    "slideshow": {
     "slide_type": "skip"
    },
    "tags": [
     "translated_en"
    ],
    "translation": {
     "lang": "de",
     "src_hash": "873bdbad24c3b244067139b806f4449cfdd4da35b583dac3e807842783be3ac3",
     "updated_at_iso": "2025-08-16T16:24:09.139470+00:00"
    }
   },
   "outputs": [],
   "source": [
    "%timeit 15 in number_sequence"
   ]
  },
  {
   "cell_type": "code",
   "execution_count": null,
   "id": "39036fb05b64407fb3930e104e17919c",
   "metadata": {
    "slideshow": {
     "slide_type": "skip"
    },
    "tags": [
     "translated_en"
    ],
    "translation": {
     "lang": "de",
     "src_hash": "9e5dbbe21cff95bc437846df179e53a53911fbb5b8cbaae10ec4a2ef12ca31d9",
     "updated_at_iso": "2025-08-16T16:24:13.937963+00:00"
    }
   },
   "outputs": [],
   "source": [
    "%timeit 15 in number_set"
   ]
  },
  {
   "cell_type": "markdown",
   "id": "296c80ae31d04b5880ab3f9521dee4fb",
   "metadata": {
    "slideshow": {
     "slide_type": "skip"
    },
    "tags": [
     "translated_en"
    ],
    "translation": {
     "lang": "de",
     "src_hash": "c929f70791b1e738ec3936a061586bbf048859f2062e58961e73eb6312dba911",
     "updated_at_iso": "2025-08-16T16:24:20.678138+00:00"
    }
   },
   "source": [
    "Let's compare once more a very large example with 100,000 elements. We generate a very large sequence of numbers with `range()` and reverse its order using `reverse()`."
   ]
  },
  {
   "cell_type": "code",
   "execution_count": null,
   "id": "260ebe2e7f894a449c7aff065834c289",
   "metadata": {
    "slideshow": {
     "slide_type": "skip"
    },
    "tags": [
     "translated_en"
    ],
    "translation": {
     "lang": "de",
     "src_hash": "496b24cee97f3e8a97b0d29eb5cc5c794c0fd9b891ecaf6fffab6e684eccee0e",
     "updated_at_iso": "2025-08-16T16:24:23.939548+00:00"
    }
   },
   "outputs": [],
   "source": [
    "large_number_sequence = list(range(100000))\n",
    "large_number_sequence.reverse()"
   ]
  },
  {
   "cell_type": "markdown",
   "id": "c2f3d412913e47c4b64c1d22b6132248",
   "metadata": {
    "slideshow": {
     "slide_type": "skip"
    },
    "tags": [
     "translated_en"
    ],
    "translation": {
     "lang": "de",
     "src_hash": "5b6632ebbabf76086835e22db08e845ed0e78a38d9800f7e2507d95b34ae8001",
     "updated_at_iso": "2025-08-16T16:24:26.689923+00:00"
    }
   },
   "source": [
    "We are constructing the set of the sequence."
   ]
  },
  {
   "cell_type": "code",
   "execution_count": null,
   "id": "96eb89031f5c4ecebf37975522c26bc5",
   "metadata": {
    "slideshow": {
     "slide_type": "skip"
    },
    "tags": [
     "translated_en"
    ],
    "translation": {
     "lang": "de",
     "src_hash": "cc9086be34063294d369a3d6c2cc80ffeeb268e955097349f1a7357fe7126bac",
     "updated_at_iso": "2025-08-16T16:24:31.747234+00:00"
    }
   },
   "outputs": [],
   "source": [
    "number_set_large = set(number_sequence_large)"
   ]
  },
  {
   "cell_type": "markdown",
   "id": "99e6dcd168724f30b932b80730c01721",
   "metadata": {
    "slideshow": {
     "slide_type": "skip"
    },
    "tags": [
     "translated_en"
    ],
    "translation": {
     "lang": "de",
     "src_hash": "018cda4c0c47e5ea26fba03f3ef634e9574cf219eeabaacb3596b32eba4c85a5",
     "updated_at_iso": "2025-08-16T16:24:45.535317+00:00"
    }
   },
   "source": [
    "To create the search tree, it is not very efficient to add the elements in sorted order or in reverse order, as in this case. That would cause the tree to be unbalanced and simply represent a linked list. To ensure that the tree is well-balanced, we add the elements in the optimal order, which is the same order that a binary search algorithm traverses. There are additional trees that balance themselves automatically; these are the so-called [balanced search trees](https://de.wikipedia.org/wiki/Balancierter_Baum). However, they would go too far for the examples discussed here."
   ]
  },
  {
   "cell_type": "code",
   "execution_count": null,
   "id": "368c6077527644609323142ffdc18158",
   "metadata": {
    "slideshow": {
     "slide_type": "skip"
    },
    "tags": [
     "translated_en"
    ],
    "translation": {
     "lang": "de",
     "src_hash": "e7f57921b387e17218b0a6eec520587fddfe3e50800a60a3ff83b00c30af29d5",
     "updated_at_iso": "2025-08-16T16:25:00.484497+00:00"
    }
   },
   "outputs": [],
   "source": [
    "# To ensure that the tree is well balanced\n",
    "# initialize the tree in the middle\n",
    "# and then insert the subtrees in the order of binary search\n",
    "tree_large = {\"wert\": large_numbers_sequence[len(large_numbers_sequence)//2]}\n",
    "step = len(large_numbers_sequence)//4\n",
    "while step > 0:\n",
    "    idx = step\n",
    "    while idx < len(large_numbers_sequence):\n",
    "        insert_into_tree(tree_large, large_numbers_sequence[idx])\n",
    "        idx = idx + step\n",
    "    step = step // 2"
   ]
  },
  {
   "cell_type": "code",
   "execution_count": null,
   "id": "34a9d486512844ba8f5ee5f7458782a3",
   "metadata": {
    "slideshow": {
     "slide_type": "skip"
    },
    "tags": [
     "translated_en"
    ],
    "translation": {
     "lang": "de",
     "src_hash": "c8b45bc38cff75cc53b10f0e665e393bfce39a110895851538ec9c9a34786bbb",
     "updated_at_iso": "2025-08-16T16:25:06.164048+00:00"
    }
   },
   "outputs": [],
   "source": [
    "%timeit contains(large_number_sequence, 15)"
   ]
  },
  {
   "cell_type": "code",
   "execution_count": null,
   "id": "873cd37955c741ee8fe3c67339f82819",
   "metadata": {
    "slideshow": {
     "slide_type": "skip"
    },
    "tags": [
     "translated_en"
    ],
    "translation": {
     "lang": "de",
     "src_hash": "41668776421058dd957d806d574b319f75ec7703c70037ecd8399aa4da6dcc21",
     "updated_at_iso": "2025-08-16T16:25:13.084858+00:00"
    }
   },
   "outputs": [],
   "source": [
    "%timeit binarySearch(large_number_sequence, 15)"
   ]
  },
  {
   "cell_type": "code",
   "execution_count": null,
   "id": "f1f4d37011f34fb79313f66f0c7ecdce",
   "metadata": {
    "slideshow": {
     "slide_type": "skip"
    },
    "tags": [
     "translated_en"
    ],
    "translation": {
     "lang": "de",
     "src_hash": "20891ec7883a9ef3cfb7539a7bf4d6ecf4a2632a500d5883ac28e9312e6bd6a6",
     "updated_at_iso": "2025-08-16T16:25:18.719270+00:00"
    }
   },
   "outputs": [],
   "source": [
    "%timeit find_tree(large_tree, 15)"
   ]
  },
  {
   "cell_type": "code",
   "execution_count": null,
   "id": "d1f2978979c24565a0274dbe39b4076d",
   "metadata": {
    "slideshow": {
     "slide_type": "skip"
    },
    "tags": [
     "translated_en"
    ],
    "translation": {
     "lang": "de",
     "src_hash": "2f32c5811e1ef3c7b1c285a854d9b8936ada53fc3f14e603472a10215fb79c69",
     "updated_at_iso": "2025-08-16T16:25:22.411397+00:00"
    }
   },
   "outputs": [],
   "source": [
    "%timeit 15 in large_number_sequence"
   ]
  },
  {
   "cell_type": "code",
   "execution_count": null,
   "id": "572222f4dd0c471d98d9552ca0f7e694",
   "metadata": {
    "slideshow": {
     "slide_type": "skip"
    },
    "tags": [
     "translated_en"
    ],
    "translation": {
     "lang": "de",
     "src_hash": "f376d61c6bd1bcd5cdbef77931ee85f258ac1ae3ccb81df8ed47f74f5ff3824b",
     "updated_at_iso": "2025-08-16T16:25:26.086205+00:00"
    }
   },
   "outputs": [],
   "source": [
    "%timeit 15 in numberset_large"
   ]
  },
  {
   "cell_type": "markdown",
   "id": "799472d86f8748f5a638db320c6f5540",
   "metadata": {
    "slideshow": {
     "slide_type": "skip"
    },
    "tags": [
     "translated_en"
    ],
    "translation": {
     "lang": "de",
     "src_hash": "b47cb634a40d7a87bac2933eb8c4ee697b0b50b329a84872da8342c5db7bf1e4",
     "updated_at_iso": "2025-08-16T16:25:36.451433+00:00"
    }
   },
   "source": [
    "The result looks quite different here. Now `contains()` performs noticeably worse, and Binary Search is now orders of magnitude better. In fact, in some runs it’s even better than Python’s built-in search for lists, since that is also a full search in C. The best results, however, are achieved by the search tree, since it is always sorted and thus can run the Binary Search algorithm without sorting. Only the lookup in a set is another order of magnitude better still."
   ]
  },
  {
   "cell_type": "markdown",
   "id": "a939533536d045d38f679df2c4ae0de6",
   "metadata": {
    "slideshow": {
     "slide_type": "slide"
    },
    "tags": [
     "remove-cell",
     "translated_en"
    ],
    "translation": {
     "lang": "de",
     "src_hash": "e6fc2e6beae3fda3a9aacc7ccd47511f109b430c2dc6f872a88f2afa29a39658",
     "updated_at_iso": "2025-08-16T16:25:44.408184+00:00"
    }
   },
   "source": [
    "## Algorithms\n",
    "\n",
    "<div class=\"alert alert-block alert-success\">\n",
    "<b>📘 Definition: Algorithms</b>\n",
    "\n",
    "Algorithms are well-defined, unambiguous instructions.\n",
    "</div>\n",
    "\n",
    "- Known examples:\n",
    "  - Long division\n",
    "  - Triangle construction\n",
    "- In computer science practice: computer-executable and terminating\n",
    "- Programming means combining algorithms and data structures in such a way that you obtain the desired input to the desired output."
   ]
  },
  {
   "cell_type": "markdown",
   "id": "171f9f03e4a44c92bced29b8f6c94e92",
   "metadata": {
    "slideshow": {
     "slide_type": "subslide"
    },
    "tags": [
     "remove-cell",
     "translated_en"
    ],
    "translation": {
     "lang": "de",
     "src_hash": "e5ca0272e3a434618ecc8df45d143e29ba74781802f7b2d546d4c178d3e8151a",
     "updated_at_iso": "2025-08-16T16:25:55.201919+00:00"
    }
   },
   "source": [
    "## Example for Divide and Conquer – Binary Search\n",
    "\n",
    "<div class=\"flex-row\">\n",
    "  <div class=\"col1\">\n",
    "\n",
    "- Find the index of a number in a list (e.g., to check whether the number occurs in a set)\n",
    "\n",
    "- Instead of searching the entire list, you split the list recursively into two parts and check whether the searched number is equal (found), greater (to the right), or smaller (to the left) in the list\n",
    "\n",
    "    <figure class=\"mj-fig\">\n",
    "        <img src=\"images/05c_Algorithmen/bin_suche.svg\" class=\"mj-fig-img\">\n",
    "    </figure>\n",
    "\n",
    "  </div>\n",
    "  <div class=\"col1\"> \n",
    "    <figure class=\"mj-fig\">\n",
    "        <img src=\"images/05c_Algorithmen/bin_suche.png\" class=\"mj-fig-img\">\n",
    "    </figure>\n",
    "  </div>\n",
    "</div>"
   ]
  },
  {
   "cell_type": "markdown",
   "id": "e7ef1eeb6058407ca5e1381ecff68744",
   "metadata": {
    "slideshow": {
     "slide_type": "subslide"
    },
    "tags": [
     "remove-cell",
     "translated_en"
    ],
    "translation": {
     "lang": "de",
     "src_hash": "ebfdb3c454b35416de4c7a3d1ce0ef83f6d7bdb90afcd60a8d4f131be3c8f579",
     "updated_at_iso": "2025-08-16T16:26:09.079215+00:00"
    }
   },
   "source": [
    "## Heuristics\n",
    "\n",
    "- They are not based on well-defined or unambiguous steps, but on practical experience\n",
    "\n",
    "- They aim to quickly achieve a sufficiently accurate result. There is *no* guarantee to find the optimal solution.\n",
    "\n",
    "- Example:\n",
    "  - An expert's estimate\n",
    "  - Stepwise approximation"
   ]
  },
  {
   "cell_type": "markdown",
   "id": "7f21577819624c9797ef8166b1987979",
   "metadata": {
    "slideshow": {
     "slide_type": "subslide"
    },
    "tags": [
     "remove-cell",
     "translated_en"
    ],
    "translation": {
     "lang": "de",
     "src_hash": "52d061c86646895308dccd5b3cb347fc55ad17539da1368198f3f60b27f98e69",
     "updated_at_iso": "2025-08-16T16:26:19.616992+00:00"
    }
   },
   "source": [
    "## Excursus – Example of a heuristic: the A* search algorithm\n",
    "\n",
    "<div class=\"flex-row\">\n",
    "  <div class=\"col1\">\n",
    "\n",
    "- Pathfinding is one of the most complex problems in computer science (NP-complete: due to the combinatorial nature of the problem)\n",
    "\n",
    "- A* is a heuristic for finding the shortest path between two points in a grid with obstacles\n",
    "\n",
    "  <figure class=\"mj-fig\">\n",
    "      <img src=\"images/05c_Algorithmen/astar.svg\" class=\"mj-fig-img\">\n",
    "  </figure>\n",
    "\n",
    "  </div>\n",
    "  <div class=\"col1\"> \n",
    "    <figure class=\"mj-fig\">\n",
    "        <img src=\"images/05c_Algorithmen/astar.gif\" class=\"mj-fig-img\">\n",
    "    </figure>\n",
    "  </div>\n",
    "</div>"
   ]
  },
  {
   "cell_type": "markdown",
   "id": "25d41eb21a984483aec7b92319e1c2d8",
   "metadata": {
    "slideshow": {
     "slide_type": "subslide"
    },
    "tags": [
     "remove-cell",
     "translated_en"
    ],
    "translation": {
     "lang": "de",
     "src_hash": "c18bbebe40a0563ec24beedcdce128deaccf7725a06a1429ec1770bd9db7ad0d",
     "updated_at_iso": "2025-08-16T16:26:30.893832+00:00"
    }
   },
   "source": [
    "## Example problem - Is a point X inside a polygon?\n",
    "\n",
    "- A polygon is an arbitrary polygon\n",
    "\n",
    "- The solution to this problem is a common part of calculations in civil engineering and environmental sciences, e.g., to test whether a proposed project lies within a nature reserve.\n",
    "\n",
    "![Polygon example](https://upload.wikimedia.org/wikipedia/commons/1/1f/Assorted_polygons.svg)"
   ]
  },
  {
   "cell_type": "markdown",
   "id": "6c9d1c9d06ee45d79dd575451dcba2ae",
   "metadata": {
    "slideshow": {
     "slide_type": "subslide"
    },
    "tags": [
     "remove-cell",
     "translated_en"
    ],
    "translation": {
     "lang": "de",
     "src_hash": "a2c9088b359ddf9cd2440555c334ed3ed9dd5752ddd22bacd70c473b2ec099fc",
     "updated_at_iso": "2025-08-16T16:26:35.483311+00:00"
    }
   },
   "source": [
    "## Lecture Hall Question\n",
    "\n",
    "<script>setSectionBackground('#FFD966');</script>\n",
    "<div class=\"flex-row\">\n",
    "  <div class=\"col4 vcent\">\n",
    "\n",
    "How can I determine whether a point lies inside a polygon?\n",
    "\n",
    "  </div>\n",
    "  <div class=\"col6\"> \n",
    "    <figure class=\"mj-fig\">\n",
    "        <img src=\"images/05c_Algorithmen/polymap.png\" class=\"mj-fig-img\">\n",
    "        <figcaption class=\"mj-fig-cap\">\n",
    "            Google Maps\n",
    "        </figcaption>\n",
    "    </figure>\n",
    "  </div>\n",
    "</div>"
   ]
  },
  {
   "cell_type": "markdown",
   "id": "8d5caaf0e9f14c2dbbb0f97115479a42",
   "metadata": {
    "slideshow": {
     "slide_type": "subslide"
    },
    "tags": [
     "remove-cell",
     "translated_en"
    ],
    "translation": {
     "lang": "de",
     "src_hash": "06c850d5bcc1645c9c401dcdd45d8e2a6a8770942b39c394ea7709cb84ad17f0",
     "updated_at_iso": "2025-08-16T16:26:44.993490+00:00"
    }
   },
   "source": [
    "## Example problem - What are our inputs and outputs?\n",
    "\n",
    "<div class=\"flex-row\">\n",
    "  <div class=\"col1\">\n",
    "\n",
    "Inputs:\n",
    "- The position of the point `x`\n",
    "- A polyline describing the boundary of the polygon\n",
    "  - A list of connected, consecutive lines\n",
    "\n",
    "Outputs:\n",
    "- A Boolean\n",
    "\n",
    "  </div>\n",
    "  <div class=\"col1\"> \n",
    "    <figure class=\"mj-fig\">\n",
    "      <img src=\"images/05c_Algorithmen/polymap2.png\" class=\"mj-fig-img\">\n",
    "      <figcaption class=\"mj-fig-cap\">\n",
    "          Google Maps\n",
    "      </figcaption>\n",
    "    </figure>\n",
    "  </div>\n",
    "</div>"
   ]
  },
  {
   "cell_type": "markdown",
   "id": "cdf15f5e472842d9a39fd479e28b5963",
   "metadata": {
    "slideshow": {
     "slide_type": "subslide"
    },
    "tags": [
     "remove-cell",
     "translated_en"
    ],
    "translation": {
     "lang": "de",
     "src_hash": "e4881be3bfe0b4cee26227e5b4da49f1d8cf224ba0a803d93f60fc3b2464e7b0",
     "updated_at_iso": "2025-08-16T16:26:54.665750+00:00"
    }
   },
   "source": [
    "## Example problem - Designing an algorithm\n",
    "\n",
    "- What computations can be performed on points and lines?\n",
    "\n",
    "- We can check whether a point lies exactly on a line.\n",
    "- We can check on which side of a line a point lies.\n",
    "\n",
    "- Is Point 2 sufficient? For convex shapes – yes; if the point lies on the same side of all lines of the polygon, it lies inside the polygon.\n",
    "\n",
    "- But this does not hold for concave shapes => it is thus a heuristic!\n",
    "\n",
    "<div class=\"flex-row\">\n",
    "  <div class=\"col1\"></div>\n",
    "  <div class=\"col1\">\n",
    "<figure class=\"mj-fig\">\n",
    "    <img src=\"images/05c_Algorithmen/konvex.svg\" class=\"mj-fig-img\">\n",
    "    <figcaption class=\"mj-fig-cap\">\n",
    "        Convex polygon\n",
    "    </figcaption>\n",
    "</figure>\n",
    "  </div>\n",
    "  <div class=\"col1\"></div>\n",
    "  <div class=\"col1\"> \n",
    "<figure class=\"mj-fig\">\n",
    "    <img src=\"images/05c_Algorithmen/konkav.svg\" class=\"mj-fig-img\">\n",
    "    <figcaption class=\"mj-fig-cap\">\n",
    "        Concave polygon\n",
    "    </figcaption>\n",
    "</figure>\n",
    "  </div>\n",
    "  <div class=\"col1\"></div>\n",
    "</div>"
   ]
  },
  {
   "cell_type": "markdown",
   "id": "ff6b2621a5ed42e6a6c6734ba7bb8624",
   "metadata": {
    "slideshow": {
     "slide_type": "subslide"
    },
    "tags": [
     "remove-cell",
     "translated_en"
    ],
    "translation": {
     "lang": "de",
     "src_hash": "0c1e49775b77167906595d35bfaad8147b8cb7e61f55660ca918123f7ecd12b4",
     "updated_at_iso": "2025-08-16T16:27:01.775377+00:00"
    }
   },
   "source": [
    "## Example Problem - Designing an Algorithm\n",
    "\n",
    "- Designing often means looking at a problem from different angles and finding new computational perspectives.\n",
    "\n",
    "- Here: The crux is whether a region is concave or convex. One determines these properties by drawing lines and performing intersection tests.\n",
    "\n",
    "- Is the key to this problem therefore in the intersection tests between lines?\n",
    "\n",
    "- Is there a line from the point in question `X` to another point `Y`, whose intersections with the polygon's edges provide an answer to the question?"
   ]
  },
  {
   "cell_type": "markdown",
   "id": "b563426ffc2e404db01c481d16826db8",
   "metadata": {
    "slideshow": {
     "slide_type": "subslide"
    },
    "tags": [
     "remove-cell",
     "translated_en"
    ],
    "translation": {
     "lang": "de",
     "src_hash": "35a95993c0ce1519d113bf5f9b112a6de3c7c10cfb78a1dee7243a7fa4d4b141",
     "updated_at_iso": "2025-08-16T16:27:09.206607+00:00"
    }
   },
   "source": [
    "## Example Problem - Designing an Algorithm\n",
    "\n",
    "- The answer: Any point outside the polygon!\n",
    "\n",
    "- If the point `X` lies inside the polygon, the drawn line will intersect the boundary at least once.\n",
    "\n",
    "- If the drawn line passes randomly through a concave region, there will be two more intersection points, for a total of 3 intersection points, or 5, or …\n",
    "\n",
    "- If the point `X` lies outside, there will thus be either no intersection points, or 2, or 4, or …\n",
    "\n",
    "- **Thus the problem can be reduced to the number of intersection points!**"
   ]
  },
  {
   "cell_type": "markdown",
   "id": "ee14a3c31f784f83b3e391f907380443",
   "metadata": {
    "slideshow": {
     "slide_type": "subslide"
    },
    "tags": [
     "remove-cell",
     "translated_en"
    ],
    "translation": {
     "lang": "de",
     "src_hash": "b08411c0001783fd7561156732b642dc9125dbb2d7dbf5694f5ad1c508a2a2dd",
     "updated_at_iso": "2025-08-16T16:27:13.162345+00:00"
    }
   },
   "source": [
    "## Example problem – example\n",
    "\n",
    "<figure class=\"mj-fig\">\n",
    "    <img src=\"images/05c_Algorithmen/konvex_algo.svg\" class=\"mj-fig-img\">\n",
    "</figure>"
   ]
  },
  {
   "cell_type": "markdown",
   "id": "f1ca1176a95f42efaa41327d101b056e",
   "metadata": {
    "slideshow": {
     "slide_type": "subslide"
    },
    "tags": [
     "remove-cell",
     "translated_en"
    ],
    "translation": {
     "lang": "de",
     "src_hash": "0c7efe6433947fe8ae22c073a1c959c0d22d38cfd418a120ccbff166fd3195d9",
     "updated_at_iso": "2025-08-16T16:27:20.392702+00:00"
    }
   },
   "source": [
    "## Example problem - Draw as a program flowchart\n",
    "\n",
    "<figure class=\"mj-fig\">\n",
    "    <img src=\"images/05c_Algorithmen/polyalg.svg\" class=\"mj-fig-img\">\n",
    "</figure>\n",
    "\n",
    "*Examples for:*\n",
    "- Ray 1 has 1 intersection point → odd = inside\n",
    "- Ray 2 has 3 intersection points → odd = inside\n",
    "- Ray 3 has 5 intersection points → odd = inside"
   ]
  },
  {
   "cell_type": "markdown",
   "id": "533fbb3374824edeb8119752a320b838",
   "metadata": {
    "slideshow": {
     "slide_type": "subslide"
    },
    "tags": [
     "remove-cell",
     "translated_en"
    ],
    "translation": {
     "lang": "de",
     "src_hash": "d6c027e2611ea000820c33ddab7f3c072f843b972bd43db6ee40988babe76ac4",
     "updated_at_iso": "2025-08-16T16:27:30.805212+00:00"
    }
   },
   "source": [
    "## Recursion - Example: Tree Traversal\n",
    "\n",
    "<div class=\"flex-row\">\n",
    "  <div class=\"col1\">\n",
    "\n",
    "*Tree:* A data structure in which each element can refer to further subelements.\n",
    "\n",
    "Now we want to apply a function to every element in the tree.\n",
    "\n",
    "*Simplest representation of a tree:*\n",
    "- A tuple with a value and a list\n",
    "- This list contains tuples, each with a value and a list (a recursive data structure!)\n",
    "\n",
    "```\n",
    "       12\n",
    "      /  \\\n",
    "     6    18\n",
    "    / \\   / \\\n",
    "   3   9 15  21\n",
    "```\n",
    "\n",
    "  </div>\n",
    "  <div class=\"col1\"> \n",
    "<div style=\"font-size: smaller;\">\n",
    "\n",
    "```python\n",
    "baum = (12, [\n",
    "        (6,[\n",
    "            (3,[]),\n",
    "            (9,[])\n",
    "        ]),\n",
    "        (18,[\n",
    "            (15,[]),\n",
    "            (21,[])\n",
    "        ])\n",
    "])\n",
    "```\n",
    "</div>\n",
    "\n",
    "  </div>\n",
    "</div>"
   ]
  },
  {
   "cell_type": "markdown",
   "id": "7519f45f4bba4760bedf2032aefa73a7",
   "metadata": {
    "slideshow": {
     "slide_type": "subslide"
    },
    "tags": [
     "remove-cell",
     "translated_en"
    ],
    "translation": {
     "lang": "de",
     "src_hash": "f46ae37e64b69e243a3590c2b6f9de9b616c16d243dbf3f5a56583ae57217345",
     "updated_at_iso": "2025-08-16T16:27:35.109634+00:00"
    }
   },
   "source": [
    "## Recursion - Example: Tree Traversal\n",
    "\n",
    "Traversals are functions that traverse the tree, e.g., to search for elements."
   ]
  },
  {
   "cell_type": "code",
   "execution_count": null,
   "id": "7795fb42187d4837a51ffa8768a96eb3",
   "metadata": {
    "slideshow": {
     "slide_type": "skip"
    },
    "tags": [
     "remove-cell",
     "translated_en"
    ],
    "translation": {
     "lang": "de",
     "src_hash": "42f7e4a6ca7c100445849865ace1c767cd4119c8ae4df745019929d3bf20d5ff",
     "updated_at_iso": "2025-08-16T16:27:44.311431+00:00"
    }
   },
   "outputs": [],
   "source": [
    "def traverse(tree):\n",
    "    value = tree[0]  # the current value\n",
    "    print(value)     # print the current value\n",
    "    if tree[1]:     # if children are defined\n",
    "        for child in tree[1]:  # iterate through all children\n",
    "            traverse(child)    # and call the function recursively\n",
    "\n",
    "traverse(tree)"
   ]
  },
  {
   "cell_type": "markdown",
   "id": "2e39fe67f5a74c3ca97eb34a435ee99a",
   "metadata": {
    "slideshow": {
     "slide_type": "subslide"
    },
    "tags": [
     "remove-cell",
     "translated_en"
    ],
    "translation": {
     "lang": "de",
     "src_hash": "14d777fa0b9bc308b6cff78f6988017394d903167d4cbb8c76301159beb0f7fc",
     "updated_at_iso": "2025-08-16T16:27:50.211176+00:00"
    }
   },
   "source": [
    "## CS Aside: Sorting\n",
    "\n",
    "- Specifically the sorting of lists, regardless of data type\n",
    "- One of the standard use cases for loops and recursion\n",
    "- The go-to solution in everyday programming: `sorted()`\n",
    "- But: a good example of a structured computer science problem"
   ]
  },
  {
   "cell_type": "markdown",
   "id": "d89e3fe5f1f74ef0996ef6c32644b70e",
   "metadata": {
    "slideshow": {
     "slide_type": "subslide"
    },
    "tags": [
     "remove-cell",
     "translated_en"
    ],
    "translation": {
     "lang": "de",
     "src_hash": "4271f9c3b81421db1520ace6d657dfb9dff54dc6bf94230e63798e3039050be8",
     "updated_at_iso": "2025-08-16T16:27:57.899878+00:00"
    }
   },
   "source": [
    "## Sorting - Algorithm 1: Bubble Sort\n",
    "\n",
    "- Each element in the list is traversed and compared with the next element.\n",
    "- If the next element is smaller than the current one, swap their positions.\n",
    "- The list is repeatedly traversed until no swaps occur.\n",
    "\n",
    "```python\n",
    "def bubbleSort(numbers):\n",
    "    for i in range(len(numbers)-1):\n",
    "        for j in range(0, len(numbers)-i-1):\n",
    "            if numbers[j] > numbers[j + 1]:\n",
    "                numbers[j], numbers[j + 1] = numbers[j + 1], numbers[j]\n",
    "```"
   ]
  },
  {
   "cell_type": "markdown",
   "id": "e9b00552f0854d29b64250128a0ee7bc",
   "metadata": {
    "slideshow": {
     "slide_type": "subslide"
    },
    "tags": [
     "remove-cell",
     "translated_en"
    ],
    "translation": {
     "lang": "de",
     "src_hash": "1c5e5624f1420af44769d2c32ca3c7c8230befd6d42e89843ec0196095f6611b",
     "updated_at_iso": "2025-08-16T16:28:03.517137+00:00"
    }
   },
   "source": [
    "## Sorting - Algorithm 2: Quick Sort\n",
    "\n",
    "The basic principle is partitioning the list:\n",
    "\n",
    "1. Store the first element of the list as the pivot element.\n",
    "2. Then traverse the list and compare each element with the pivot.\n",
    "3. Insert into one of three lists: Smaller, Equal, and Greater.\n",
    "4. Then Quick Sort is applied recursively to the Smaller and Greater lists.\n",
    "5. In the end, all the lists are recursively merged back together."
   ]
  },
  {
   "cell_type": "markdown",
   "id": "c3999520889b4f9aacb2d93c1937e250",
   "metadata": {
    "slideshow": {
     "slide_type": "subslide"
    },
    "tags": [
     "remove-cell",
     "translated_en"
    ],
    "translation": {
     "lang": "de",
     "src_hash": "71079b261e85cc3d32d9a2d39116283a24cd48de9404e9936e19cb6d26ea7f25",
     "updated_at_iso": "2025-08-16T16:28:11.013672+00:00"
    }
   },
   "source": [
    "## Computer Science Digression: Searching\n",
    "\n",
    "- Specifically searching on sorted lists and trees\n",
    "- Most of the time you know the number of elements, so you know exactly where the middle is, for example.\n",
    "- Later lectures: In real-world applications, datasets often have more than one value (tables instead of lists); here one typically works with indexing."
   ]
  },
  {
   "cell_type": "markdown",
   "id": "b2c46a7a92a949dfa5c6f59e8b4b65fa",
   "metadata": {
    "slideshow": {
     "slide_type": "subslide"
    },
    "tags": [
     "remove-cell",
     "translated_en"
    ],
    "translation": {
     "lang": "de",
     "src_hash": "48ebe5bc112b16e8c2fb95f4f38120ac931760edece91bb6a68af35eecb58e6f",
     "updated_at_iso": "2025-08-16T16:28:17.726093+00:00"
    }
   },
   "source": [
    "## Searches - Searching in Lists\n",
    "\n",
    "The simplest method: *linear search*\n",
    "\n",
    "```python\n",
    "def contains(list, x):\n",
    "    for l in list:\n",
    "        if(l == x):\n",
    "            return True\n",
    "    return False\n",
    "```"
   ]
  },
  {
   "cell_type": "markdown",
   "id": "6ccad9f5f9574e32950ca3d4792f7ef7",
   "metadata": {
    "slideshow": {
     "slide_type": "subslide"
    },
    "tags": [
     "remove-cell",
     "translated_en"
    ],
    "translation": {
     "lang": "de",
     "src_hash": "18661129cfe9c1ce7b5d59d9f42b9f782ae47a2822d1047cbbe2d85ef9745194",
     "updated_at_iso": "2025-08-16T16:28:28.391026+00:00"
    }
   },
   "source": [
    "## Searching - Searching in Lists\n",
    "\n",
    "The optimal method: *Binary search*\n",
    "\n",
    "- Significantly more complex code\n",
    "- *Idea:* Find the middle element of the list, then compare it with the target value\n",
    "- If the value is smaller: use the same procedure for the first half of the list\n",
    "- If the value is larger: use the same procedure for the second half of the list\n",
    "- The implementation is usually via recursion"
   ]
  },
  {
   "cell_type": "markdown",
   "id": "b9033a4a4a21415d8f2f83a133c74b21",
   "metadata": {
    "slideshow": {
     "slide_type": "subslide"
    },
    "tags": [
     "remove-cell",
     "translated_en"
    ],
    "translation": {
     "lang": "de",
     "src_hash": "12596cf0654c17fa3b2870fbcc42e26907d06a3925407fbd39f19d27d855f685",
     "updated_at_iso": "2025-08-16T16:28:37.375082+00:00"
    }
   },
   "source": [
    "## Search - Searching in Trees\n",
    "\n",
    "Strategies for searching an unordered tree:\n",
    "\n",
    "- *Breadth-first search:* Beginning at the root, traverse each level of the tree from left to right.\n",
    "- *Depth-first search:* Follow a path from the root to the end, then backtrack step by step until more paths become available."
   ]
  },
  {
   "cell_type": "markdown",
   "id": "8b353748bc6246aa9580382142f42417",
   "metadata": {
    "slideshow": {
     "slide_type": "subslide"
    },
    "tags": [
     "remove-cell",
     "translated_en"
    ],
    "translation": {
     "lang": "de",
     "src_hash": "216eddc80527e9b4ad68c30651adb9157217a874749f0832630ba25f8671d28b",
     "updated_at_iso": "2025-08-16T16:28:42.476435+00:00"
    }
   },
   "source": [
    "## Searching - Searching in Trees\n",
    "\n",
    "- In sorted trees (search trees), the result can be found extremely efficiently, since only a single path needs to be traversed.\n",
    "\n",
    "- *How do you sort a tree?*"
   ]
  },
  {
   "cell_type": "markdown",
   "id": "c043db4ca6ad40fda551f38627b019d6",
   "metadata": {
    "slideshow": {
     "slide_type": "subslide"
    },
    "tags": [
     "remove-cell",
     "translated_en"
    ],
    "translation": {
     "lang": "de",
     "src_hash": "12e78350e6bd3d7807762ecafe9cc00152097a2f1cb9057e9c22bbad713c2cd1",
     "updated_at_iso": "2025-08-16T16:28:50.977586+00:00"
    }
   },
   "source": [
    "## Creating a Binary Search Tree\n",
    "\n",
    "*Initial list:* 12 6 18 15 3 21 9\n",
    "\n",
    "<div class=\"flex-row\">\n",
    "  <div class=\"col1\">\n",
    "\n",
    "*Step 1:* Set 12 as the root\n",
    "```\n",
    "12\n",
    "```\n",
    "\n",
    "  </div>\n",
    "  <div class=\"col1\"> \n",
    "\n",
    "*Step 3:* 18 > 12, insert on the right\n",
    "```\n",
    "   12\n",
    "  /  \\\n",
    " 6    18\n",
    "```\n",
    "\n",
    "  </div>\n",
    "</div>\n",
    "\n",
    "<div class=\"flex-row\">\n",
    "  <div class=\"col1\">\n",
    "\n",
    "*Step 2:* 6 < 12, insert on the left\n",
    "```\n",
    "   12\n",
    "  /\n",
    " 6\n",
    "```\n",
    "\n",
    "  </div>\n",
    "  <div class=\"col1\"> \n",
    "\n",
    "*Step 4:* 15 > 12, but 15 < 18\n",
    "```\n",
    "   12\n",
    "  /  \\\n",
    " 6    18\n",
    "     /\n",
    "    15\n",
    "```\n",
    "\n",
    "  </div>\n",
    "</div>"
   ]
  },
  {
   "cell_type": "markdown",
   "id": "3c8430eb664848919d1dcb61c383b6eb",
   "metadata": {
    "slideshow": {
     "slide_type": "subslide"
    },
    "tags": [
     "remove-cell",
     "translated_en"
    ],
    "translation": {
     "lang": "de",
     "src_hash": "993c6d8bcd4e6d5e1a9308ec740538d269d850119f76a92d8a31ac48ab9a3d81",
     "updated_at_iso": "2025-08-16T16:29:01.716282+00:00"
    }
   },
   "source": [
    "## Search Tree - Continuation\n",
    "\n",
    "<div class=\"flex-row\">\n",
    "  <div class=\"col1\">\n",
    "\n",
    "*Step 5:* 3 < 12 and 3 < 6\n",
    "```\n",
    "   12\n",
    "  /  \\\n",
    " 6    18\n",
    "/    /\n",
    "3   15\n",
    "```\n",
    "\n",
    "  </div>\n",
    "  <div class=\"col1\"> \n",
    "\n",
    "*Step 7:* 9 < 12 but 9 > 6\n",
    "```\n",
    "   12\n",
    "  /  \\\n",
    " 6    18\n",
    "/ \\  /  \\\n",
    "3  9 15  21\n",
    "```\n",
    "\n",
    "  </div>\n",
    "</div>\n",
    "\n",
    "\n",
    "<div class=\"flex-row\">\n",
    "  <div class=\"col1\">\n",
    "\n",
    "\n",
    "*Step 6:* 21 > 12 and 21 > 18\n",
    "```\n",
    "   12\n",
    "  /  \\\n",
    " 6    18\n",
    "/    /  \\\n",
    "3   15   21\n",
    "```\n",
    "\n",
    "  </div>\n",
    "  <div class=\"col1\"> \n",
    "\n",
    "\n",
    "*Finished search tree!*\n",
    "\n",
    "  </div>\n",
    "</div>"
   ]
  },
  {
   "cell_type": "markdown",
   "id": "5ba479775f2944a89c8922e2bdd118dd",
   "metadata": {
    "slideshow": {
     "slide_type": "subslide"
    },
    "tags": [
     "remove-cell",
     "translated_en"
    ],
    "translation": {
     "lang": "de",
     "src_hash": "6a3c6d2f0e4dd292b4a0898c305b4870d28bd2f4cf7e10159adb75c2774de4b9",
     "updated_at_iso": "2025-08-16T16:29:08.424024+00:00"
    }
   },
   "source": [
    "## As an aside: Complexity and Efficient Algorithms\n",
    "\n",
    "- The actual computation time is determined only by the exact input data and the processor used.\n",
    "\n",
    "- Formally, efficiency is better described as an increasing curve that provides a relative estimate of how much longer an algorithm must run as the input data grows.\n",
    "\n",
    "- *Notation:* $O(x)$, where $x$ denotes the amount of necessary computation steps.\n",
    "\n",
    "- For trees and lists, this depends on the number of elements (variable $n$)."
   ]
  },
  {
   "cell_type": "markdown",
   "id": "d5bc17b3321d40a4bd48202e6c601ce2",
   "metadata": {
    "slideshow": {
     "slide_type": "subslide"
    },
    "tags": [
     "remove-cell",
     "translated_en"
    ],
    "translation": {
     "lang": "de",
     "src_hash": "e8801243693b5390acd3eab9c7d73ab574f1b3018e9f0971ea0f644a147dcb4b",
     "updated_at_iso": "2025-08-16T16:29:15.253986+00:00"
    }
   },
   "source": [
    "## Complexity - Comparison of Algorithms\n",
    "\n",
    "<div class=\"flex-row\">\n",
    "  <div class=\"col1\">\n",
    "\n",
    "*Search algorithms:*\n",
    "- Linear search\n",
    "  $$O(n)$$\n",
    "\n",
    "- Binary search\n",
    "  $$O(log(n))$$\n",
    "\n",
    "  </div>\n",
    "  <div class=\"col1\"> \n",
    "\n",
    "*Sorting algorithms:*\n",
    "- Bubble Sort\n",
    "  $$O(n^2)$$\n",
    "\n",
    "- Quick Sort\n",
    "  $$O(n \\cdot log(n))$$\n",
    "\n",
    "  </div>\n",
    "</div>"
   ]
  },
  {
   "cell_type": "markdown",
   "id": "08aabb6f83684ea8bfc60664a5505e7e",
   "metadata": {
    "slideshow": {
     "slide_type": "skip"
    },
    "tags": [
     "translated_en"
    ],
    "translation": {
     "lang": "de",
     "src_hash": "35247f4af5e9d272ba9dc5d8ee3d8edeb2e9e5aa7456452e34e0ff37cae8afa0",
     "updated_at_iso": "2025-08-16T16:29:41.852114+00:00"
    }
   },
   "source": [
    "## Quiz\n",
    "\n",
    "\n",
    "```{quizdown}\n",
    "    ---\n",
    "    shuffleQuestions: true\n",
    "    shuffleAnswers: true\n",
    "    ---\n",
    "\n",
    "    ### What is an algorithm?\n",
    "    - [x] A step-by-step guide to solving a problem\n",
    "    - [ ] A random code without structure\n",
    "    - [ ] A kind of database\n",
    "    - [ ] A graphical design tool\n",
    "\n",
    "    ### Which of the following properties does a good algorithm have?\n",
    "    - [x] It is efficient and solves the problem in acceptable time\n",
    "    - [ ] It is always complicated and hard to understand\n",
    "    - [ ] It requires no inputs\n",
    "    - [ ] It can only be applied to numbers\n",
    "\n",
    "    ### What is a typical application area of trees in computer science?\n",
    "    - [x] Efficient searching\n",
    "    - [ ] Text formatting\n",
    "    - [ ] Data compression\n",
    "    - [ ] Network analysis\n",
    "\n",
    "    ### What is a tree in computer science?\n",
    "    - [x] A hierarchical data structure with nodes\n",
    "    - [ ] A loop with several conditions\n",
    "    - [ ] A special fixed-length list\n",
    "    - [ ] An array of numbers in random order\n",
    "\n",
    "    ### Sort the following lines to correctly build a recursive function for traversing a binary tree:\n",
    "    ```python\n",
    "    # Given: tree = {\"wert\": 5, \"links\": {\"wert\": 3}, \"rechts\": {\"wert\": 7}}\n",
    "    ```\n",
    "    1. `def traverse(tree):`\n",
    "    2. `  print(tree[\"wert\"])`\n",
    "    3. `  if \"links\" in tree:`\n",
    "    4. `    traverse(tree[\"links\"])`\n",
    "    5. `  if \"rechts\" in tree:`\n",
    "    6. `    traverse(tree[\"rechts\"])`\n",
    "\n",
    "    ### What is the bug in this example?\n",
    "    ```python\n",
    "    def traverse(tree):\n",
    "        print(tree[\"wert\"])\n",
    "        traverse(tree[\"links\"])\n",
    "        traverse(tree[\"rechts\"])\n",
    "    ```\n",
    "    - [x] There is no check to see if \"left\" or \"right\" exist at all\n",
    "    - [ ] The function is not allowed to be called recursively\n",
    "    - [ ] The print statement is misindented\n",
    "    - [ ] Python does not know dictionaries\n",
    "\n",
    "    ### How does Bubble Sort work?\n",
    "    - [x] Elements are compared in pairs and swapped if needed\n",
    "    - [x] The list is traversed multiple times until no swap is needed\n",
    "    - [ ] All elements are sorted immediately\n",
    "    - [ ] Only even numbers are considered\n",
    "\n",
    "    ### Why is Bubble Sort inefficient for large data sets?\n",
    "    - [x] Because many comparisons and swaps are required\n",
    "    - [ ] Because Python cannot process lists\n",
    "    - [ ] Because it uses no for-loops\n",
    "    - [ ] Because the elements are deleted\n",
    "\n",
    "    ### How does QuickSort work?\n",
    "    - [x] It selects a pivot element, partitions into smaller and larger subsets, and sorts recursively\n",
    "    - [x] It uses the divide-and-conquer principle\n",
    "    - [ ] It swaps adjacent elements multiple times\n",
    "    - [ ] It sorts only by appending to a list\n",
    "\n",
    "    ### Sort the following lines to correctly build a simplified QuickSort function:\n",
    "    ```python\n",
    "    # Assume: list consists only of numbers\n",
    "    ```\n",
    "    1. `def quicksort(arr):`\n",
    "    2. `  if len(arr) <= 1:`\n",
    "    3. `    return arr`\n",
    "    4. `  pivot = arr[0]`\n",
    "    5. `  less = [x for x in arr[1:] if x <= pivot]`\n",
    "    6. `  greater = [x for x in arr[1:] if x > pivot]`\n",
    "    7. `  return quicksort(less) + [pivot] + quicksort(greater)`\n",
    "\n",
    "    ### How does Insertion Sort work?\n",
    "    - [x] Elements are inserted at the correct place in a already sorted sublist\n",
    "    - [ ] Each element is compared with a random element\n",
    "    - [ ] All elements are moved simultaneously\n",
    "    - [ ] The list is traversed in reverse and sorted\n",
    "\n",
    "    ### What is the main difference between Insertion Sort and Bubble Sort?\n",
    "    - [x] Insertion Sort inserts elements correctly, Bubble Sort swaps them repeatedly\n",
    "    - [ ] Insertion Sort uses no loops\n",
    "    - [ ] Bubble Sort uses no comparisons\n",
    "    - [ ] Insertion Sort can only be applied to strings\n",
    "\n",
    "    ### What is the bug in this example?\n",
    "    ```python\n",
    "    nums = [4, 2, 1]\n",
    "    nums = nums.sort()\n",
    "    ```\n",
    "    - [x] `sort()` mutates the list in-place and returns `None` – `nums` becomes `None`\n",
    "    - [ ] `sort()` is not allowed on lists\n",
    "    - [ ] Lists may not be sorted\n",
    "    - [ ] `sorted()` would be faster here\n",
    "\n",
    "    ### Why is `sorted()` faster than Bubble Sort or Insertion Sort?\n",
    "    - [x] It is implemented in C and uses an optimized variant of `insert_sort`\n",
    "    - [ ] It uses random numbers to sort\n",
    "    - [ ] It uses no comparisons\n",
    "    - [ ] It sorts only half of the list\n",
    "\n",
    "```"
   ]
  },
  {
   "cell_type": "markdown",
   "id": "6f36adfb9fee4650bae316a6a47ddbe1",
   "metadata": {
    "slideshow": {
     "slide_type": "slide"
    },
    "tags": [
     "remove-cell",
     "translated_en"
    ],
    "translation": {
     "lang": "de",
     "src_hash": "d2b7467259ef9f52d61ecf9953374631953b152baba6f1edeaac46d4c3d40a0b",
     "updated_at_iso": "2025-08-16T16:29:46.539188+00:00"
    }
   },
   "source": [
    "<div class=\"vslide\">\n",
    "  <div class=\"vslide-title\">\n",
    "    <p style=\"font-family: Protomolecule; font-size: 2.3em; margin: 0px auto; text-align: center; width: 100%;\">Questions?</p>\n",
    "  </div>\n",
    "  <script>setSectionBackground('#000000', 'images/mj_questions.mp4');</script>\n",
    "</div>"
   ]
  }
 ],
 "metadata": {
  "execution": {
   "timeout": 120
  },
  "kernelspec": {
   "display_name": "Python 3 (ipykernel)",
   "language": "python",
   "name": "python3"
  },
  "language_info": {
   "codemirror_mode": {
    "name": "ipython",
    "version": 3
   },
   "file_extension": ".py",
   "mimetype": "text/x-python",
   "name": "python",
   "nbconvert_exporter": "python",
   "pygments_lexer": "ipython3",
   "version": "3.12.10"
  },
  "rise": {
   "auto_select": "none",
   "center": false,
   "enable_chalkboard": true,
   "header": "<img src=\"images/pd_logo.svg\" class=\"header_title_logo\"><img src=\"images/ai4sc_logo_v2.svg\" class=\"header_ai4sc_logo\">",
   "scroll": true,
   "show_buttons_on_startup": false,
   "slideNumber": true,
   "theme": "white"
  },
  "vscode": {
   "interpreter": {
    "hash": "c6f6ea9c9385f57658f4c302ffd3b717b6cd59b095fbd1c55795f0b67656eecd"
   }
  }
 },
 "nbformat": 4,
 "nbformat_minor": 4
}
