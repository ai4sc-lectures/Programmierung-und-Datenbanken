{
 "cells": [
  {
   "cell_type": "markdown",
   "id": "ce191c23",
   "metadata": {
    "editable": true,
    "slideshow": {
     "slide_type": "slide"
    },
    "tags": [
     "remove-cell",
     "translated_en"
    ],
    "translation": {
     "lang": "de",
     "src_hash": "09aae0bd75758e34d2b2d78f9001a9f6fd91decfd253dde4460557953b6a869a",
     "updated_at_iso": "2025-08-16T09:13:28.754890+00:00"
    }
   },
   "source": [
    "<div class=\"vslide\">\n",
    "  <div class=\"vslide-title\">\n",
    "    <p style=\"font-family: Protomolecule; font-size: 2.3em; line-height: 90%; margin: 0px auto; text-align: center; width: 100%;\"><span style=\"letter-spacing: .04rem;\">Programming</span><br><span style=\"letter-spacing: .0rem;\">and Databases</span></p>\n",
    "<p class=\"author\" style=\"font-family: Protomolecule; margin: 0px auto;  text-align: center; width: 100%; font-size: 1.2em;\">Joern Ploennigs</p>\n",
    "<p class=\"subtitle\" style=\"font-family: Protomolecule; margin: 1em auto; text-align: center; width: 100%; font-size: 1.2em;\">Overview</p>\n",
    "  </div>\n",
    "<script>\n",
    "  function setSectionBackground(c, v, w){\n",
    "    let e = document.currentScript.previousElementSibling;\n",
    "    while (e && e.tagName !== 'SECTION') e = e.parentElement;\n",
    "    if (!e) return;\n",
    "    if (c) e.setAttribute('data-background-color', c);\n",
    "    if (v) {\n",
    "      e.setAttribute('data-background-video', v);\n",
    "      e.setAttribute('data-background-video-loop', 'true');\n",
    "      e.setAttribute('data-background-video-muted', 'true');\n",
    "    }\n",
    "    if (w) {\n",
    "      const d = e.querySelector('div');\n",
    "      if (d) d.style.backgroundColor = 'rgba(255,255,255,0.6)';\n",
    "    }\n",
    "  }\n",
    "  setSectionBackground('#000000', 'images/01a_Ueberblick/mj_title.mp4');\n",
    "</script>\n",
    "<style>\n",
    ".flex-row{display:flex; gap:2rem; align-items:flex-start; justify-content:space-between;}\n",
    ".flex-row .col1{flex:1; min-width:10px}\n",
    ".flex-row .col2{flex:2; min-width:10px}\n",
    ".flex-row .col3{flex:3; min-width:10px}\n",
    ".flex-row .col4{flex:4; min-width:10px}\n",
    ".flex-row .col5{flex:5; min-width:10px}\n",
    ".flex-row .col6{flex:6; min-width:10px}\n",
    ".flex-row .col7{flex:7; min-width:10px}\n",
    ".vcent{display:flex; align-items:center; justify-content:center}\n",
    "</style>\n",
    "</div>"
   ]
  },
  {
   "cell_type": "markdown",
   "id": "2eb17605",
   "metadata": {
    "editable": true,
    "slideshow": {
     "slide_type": "skip"
    },
    "tags": [
     "translated_en"
    ],
    "translation": {
     "lang": "de",
     "src_hash": "fdd02315cf58c1692ef7d169f96bb8eaed1dc119a1ffd49dd83d7aa171071215",
     "updated_at_iso": "2025-08-16T09:13:31.143135+00:00"
    }
   },
   "source": [
    "# Overview"
   ]
  },
  {
   "cell_type": "markdown",
   "id": "4435e0ea",
   "metadata": {
    "editable": true,
    "slideshow": {
     "slide_type": "skip"
    },
    "tags": [
     "translated_en"
    ],
    "translation": {
     "lang": "de",
     "src_hash": "f86339a9b735c2d4402314cc24f69528b2c16c939597337f60f91b7ffa86024b",
     "updated_at_iso": "2025-08-16T09:13:33.892012+00:00"
    }
   },
   "source": [
    "![](images/01a_Ueberblick/mj_title_band.jpg)\n",
    "\n",
    "> I never wrote things down to remember; I always wrote things down so I could forget.\n",
    "> \n",
    "> — Matthew McConaughey"
   ]
  },
  {
   "cell_type": "markdown",
   "id": "cd44185d",
   "metadata": {
    "editable": true,
    "slideshow": {
     "slide_type": "skip"
    },
    "tags": [
     "translated_en"
    ],
    "translation": {
     "lang": "de",
     "src_hash": "b09bfa85947c730e3872a6556b02210dbd886cfd0e1b377f60c2e077d608d9a1",
     "updated_at_iso": "2025-08-16T09:13:38.593382+00:00"
    }
   },
   "source": [
    "## <a href=\"/lec_slides/01a_Ueberblick.slides.html\">Slides</a>/<a href=\"/pdf/slides/01a_Ueberblick.pdf\">PDF</a>\n",
    "<iframe src=\"/lec_slides/01a_Ueberblick.slides.html\" width=\"750\" height=\"500\"></iframe>"
   ]
  },
  {
   "cell_type": "markdown",
   "id": "e0881cd8",
   "metadata": {
    "editable": true,
    "slideshow": {
     "slide_type": "slide"
    },
    "tags": [
     "translated_en"
    ],
    "translation": {
     "lang": "de",
     "src_hash": "be2f74acd28a8b69e9345f0590b17bb51c2b2bc8151625a5135fb9ba9b4feb7a",
     "updated_at_iso": "2025-08-16T09:13:46.253939+00:00"
    }
   },
   "source": [
    "## Introduction\n",
    "\n",
    "<div class=\"flex-row\">\n",
    "  <div class=\"col6\">\n",
    "\n",
    "![](images/01a_Ueberblick/Ploennigs.jpg)\n",
    "</div>\n",
    "<div class=\"col4\">\n",
    "\n",
    "Prof. Dr.-Ing. habil. Jörn Plönnigs\n",
    "\n",
    "AI for Digital Construction\n",
    "<br>\n",
    "<br>\n",
    "Office: Justus-von-Liebig-Weg 2, Room 114\n",
    "\n",
    "Email: Joern.Ploennigs@uni-rostock.de\n",
    "\n",
    "Phone: 0381 498-3500\n",
    "\n",
    "  </div>\n",
    "</div>"
   ]
  },
  {
   "cell_type": "markdown",
   "id": "96e9d54e",
   "metadata": {
    "editable": true,
    "slideshow": {
     "slide_type": "subslide"
    },
    "tags": [
     "translated_en"
    ],
    "translation": {
     "lang": "de",
     "src_hash": "4b617dd96b755cff331d369035406491a92a367e554481319dc47cee5fcfaadd",
     "updated_at_iso": "2025-08-16T09:13:52.193774+00:00"
    }
   },
   "source": [
    "## Objectives\n",
    "\n",
    "<div class=\"flex-row\">\n",
    "  <div class=\"col4\">\n",
    "\n",
    "- Develop an understanding of and proficiency in the fundamentals of programming and databases\n",
    "- Acquire practical skills to solve engineering problems using software\n",
    "- Familiarize yourself with current approaches and technologies in software development\n",
    "\n",
    "  </div>\n",
    "<div class=\"col6\">\n",
    "\n",
    "![](images/01a_Ueberblick/mj_target.png)\n",
    "\n",
    "  </div>\n",
    "</div>"
   ]
  },
  {
   "cell_type": "markdown",
   "id": "9923f2b8",
   "metadata": {
    "editable": true,
    "slideshow": {
     "slide_type": "slide"
    },
    "tags": [
     "translated_en"
    ],
    "translation": {
     "lang": "de",
     "src_hash": "491a0e0ecab7cdedcdf7732dd22ef2a752d2df3bddc67cedbefe5914371412ed",
     "updated_at_iso": "2025-08-16T09:13:55.218576+00:00"
    }
   },
   "source": [
    "## Topics\n",
    "\n",
    "![](images/01a_Ueberblick/ablauf.svg)"
   ]
  },
  {
   "cell_type": "markdown",
   "id": "66031069",
   "metadata": {
    "editable": true,
    "slideshow": {
     "slide_type": "subslide"
    },
    "tags": [
     "translated_en"
    ],
    "translation": {
     "lang": "de",
     "src_hash": "3a84a765f63de505344dd315afbc2e5870d0075cf54c97be0b51731311244a06",
     "updated_at_iso": "2025-08-16T09:13:58.780103+00:00"
    }
   },
   "source": [
    "## Process\n",
    "\n",
    "![](images/01a_Ueberblick/ablauf2.svg)"
   ]
  },
  {
   "cell_type": "markdown",
   "id": "5103a934",
   "metadata": {
    "editable": true,
    "slideshow": {
     "slide_type": "subslide"
    },
    "tags": [
     "translated_en"
    ],
    "translation": {
     "lang": "de",
     "src_hash": "86d6b33b4112712a7f12ece392daa9fc90b3e6f1394cee2b6348d00df7700c3c",
     "updated_at_iso": "2025-08-16T09:14:00.347932+00:00"
    }
   },
   "source": [
    "## Exercises\n",
    "\n",
    "![](images/01a_Ueberblick/ablauf3.svg)"
   ]
  },
  {
   "cell_type": "markdown",
   "id": "871d75f8",
   "metadata": {
    "editable": true,
    "slideshow": {
     "slide_type": "subslide"
    },
    "tags": [
     "translated_en"
    ],
    "translation": {
     "lang": "de",
     "src_hash": "6ee83ffaafee5120475111a4fd2067e26468849dba864c11e469ca7af978737e",
     "updated_at_iso": "2025-08-16T09:14:04.834831+00:00"
    }
   },
   "source": [
    "## Lecture Slides\n",
    "\n",
    "<div class=\"flex-row\">\n",
    "  <div class=\"col6\">\n",
    "\n",
    "![](images/01a_Ueberblick/image_4.png)\n",
    "\n",
    "</div>\n",
    "<div class=\"col4\">\n",
    "\n",
    "![https://studip.uni-rostock.de](images/01a_Ueberblick/image_2.png)\n",
    "\n",
    "  </div>\n",
    "</div>"
   ]
  },
  {
   "cell_type": "markdown",
   "id": "2bb033af",
   "metadata": {
    "editable": true,
    "slideshow": {
     "slide_type": "subslide"
    },
    "tags": [
     "translated_en"
    ],
    "translation": {
     "lang": "de",
     "src_hash": "be3c90afb54b71ade2dd955059c05907af78a4bc8d0900752a5e9733b1c1ecde",
     "updated_at_iso": "2025-08-16T09:14:08.548687+00:00"
    }
   },
   "source": [
    "## Lecture Documentation\n",
    "\n",
    "<div class=\"flex-row\">\n",
    "  <div class=\"col6\">\n",
    "\n",
    "![](images/01a_Ueberblick/webpage.png)\n",
    "\n",
    "</div>\n",
    "<div class=\"col4\">\n",
    "\n",
    "![https://ai4sc-lectures.github.io/ ](images/01a_Ueberblick/image_5.png)\n",
    "\n",
    "  </div>\n",
    "</div>"
   ]
  },
  {
   "cell_type": "markdown",
   "id": "4a4308ca",
   "metadata": {
    "editable": true,
    "slideshow": {
     "slide_type": "subslide"
    },
    "tags": [
     "translated_en"
    ],
    "translation": {
     "lang": "de",
     "src_hash": "6f17b0200b6bc6b5d09e66d7ca3d981014a5254d33099390d9af90672424c0c3",
     "updated_at_iso": "2025-08-16T09:14:18.038973+00:00"
    }
   },
   "source": [
    "## Exercises\n",
    "\n",
    "<div class=\"flex-row\">\n",
    "  <div class=\"col6\">\n",
    "\n",
    "![](images/01a_Ueberblick/python-in-notebook.png)\n",
    "\n",
    "</div>\n",
    "<div class=\"col4\">\n",
    "\n",
    "Starting next week\n",
    "\n",
    "- Office hours (PC Pool 1)\n",
    "  Wednesday 11:15 AM – 12:45 PM\n",
    "- Digital exercises:\n",
    "  - Online environment\n",
    "  - Tutorial videos\n",
    "\n",
    "  </div>\n",
    "</div>"
   ]
  },
  {
   "cell_type": "markdown",
   "id": "e7e65e28",
   "metadata": {
    "editable": true,
    "slideshow": {
     "slide_type": "slide"
    },
    "tags": [
     "translated_en"
    ],
    "translation": {
     "lang": "de",
     "src_hash": "a8899aeb13233b3d7f58885fa2ee3b68644f487b2334e7895647c0a238767bb5",
     "updated_at_iso": "2025-08-16T09:14:25.099010+00:00"
    }
   },
   "source": [
    "<script>setSectionBackground('#333333');</script>\n",
    "<div class=\"flex-row\">\n",
    "  <div class=\"col4 vcent\">\n",
    "\n",
    "# Exercise\n",
    "\n",
    "  </div>\n",
    "  <div class=\"col6\"> \n",
    "    <figure class=\"mj-fig\">\n",
    "        <img src=\"images/01a_Ueberblick/mj_train.png\" class=\"mj-fig-img\">\n",
    "        <figcaption class=\"mj-fig-cap\">\n",
    "            Midjourney: Repeat \n",
    "        </figcaption>\n",
    "    </figure>\n",
    "  </div>\n",
    "</div>"
   ]
  },
  {
   "cell_type": "markdown",
   "id": "c2be1645",
   "metadata": {
    "editable": true,
    "slideshow": {
     "slide_type": "subslide"
    },
    "tags": [
     "translated_en"
    ],
    "translation": {
     "lang": "de",
     "src_hash": "8fe469a3f80d65313a41fb688afa6e34ba6dae86f7d095eee79ed7536363545c",
     "updated_at_iso": "2025-08-16T09:14:33.500336+00:00"
    }
   },
   "source": [
    "## Introduction\n",
    "\n",
    "<div class=\"flex-row\">\n",
    "  <div class=\"col3\">\n",
    "\n",
    "![](images/01a_Ueberblick/Markus_Berger.jpg)\n",
    "\n",
    "  </div>\n",
    "  <div class=\"col2\">\n",
    "\n",
    "Dr.-Ing. Markus Berger\n",
    "\n",
    "AI for Digital Construction\n",
    "<br>\n",
    "<br>\n",
    "Office: Justus-von-Liebig-Weg 2, Room 107\n",
    "\n",
    "Email: Markus.Berger@uni-rostock.de\n",
    "\n",
    "Phone: 0381 498-3503\n",
    "\n",
    "  </div>\n",
    "</div>"
   ]
  },
  {
   "cell_type": "markdown",
   "id": "3fc5f321",
   "metadata": {
    "editable": true,
    "slideshow": {
     "slide_type": "subslide"
    },
    "tags": [
     "translated_en"
    ],
    "translation": {
     "lang": "de",
     "src_hash": "009fd49eec475a87768aec5c82122ce7541969294114d682f3743bc054a503d7",
     "updated_at_iso": "2025-08-16T09:14:42.644850+00:00"
    }
   },
   "source": [
    "## Objectives\n",
    "\n",
    "<div class=\"flex-row\">\n",
    "  <div class=\"col2\">\n",
    "\n",
    "Programming concepts learned in the lecture\n",
    "- apply them repeatedly in practice\n",
    "- apply them to other problems\n",
    "\n",
    "  </div>\n",
    "  <div class=\"col3\">\n",
    "    <figure class=\"mj-fig\">\n",
    "        <img src=\"images/01a_Ueberblick/mj_student.png\" class=\"mj-fig-img\">\n",
    "        <figcaption class=\"mj-fig-cap\">\n",
    "            Midjourney: Student aiming for a goal\n",
    "        </figcaption>\n",
    "    </figure>\n",
    "  </div>\n",
    "</div>"
   ]
  },
  {
   "cell_type": "markdown",
   "id": "7a449758",
   "metadata": {
    "editable": true,
    "slideshow": {
     "slide_type": "subslide"
    },
    "tags": [
     "translated_en"
    ],
    "translation": {
     "lang": "de",
     "src_hash": "f42c7e09fd077277372682966daf66a31311f8e616f574ed328fe822db441c71",
     "updated_at_iso": "2025-08-16T09:14:50.873354+00:00"
    }
   },
   "source": [
    "## Objective 2\n",
    "\n",
    "Why learn programming as an engineer?\n",
    "\n",
    "- Understanding the basic elements of programming\n",
    "- Knowledge of the typical steps in a software project\n",
    "- Experience in finding solutions\n",
    "- Learn strategies for addressing problems\n",
    "\n",
    "- In the later stages: understand the systematic nature behind software.\n",
    "\n",
    "- Master the basics — from which you can continue to build!"
   ]
  },
  {
   "cell_type": "markdown",
   "id": "bcc855c1",
   "metadata": {
    "editable": true,
    "slideshow": {
     "slide_type": "subslide"
    },
    "tags": [
     "translated_en"
    ],
    "translation": {
     "lang": "de",
     "src_hash": "837ccb1a4b7c54e2532c5057a9d87cb87d2def54ab62475dc48aa6831ae21a9b",
     "updated_at_iso": "2025-08-16T09:15:01.262887+00:00"
    }
   },
   "source": [
    "## Process - Two Parts\n",
    "\n",
    "<div class=\"flex-row\">\n",
    "  <div class=\"col2\">\n",
    "\n",
    "*Tutorial video*\n",
    "\n",
    "- Watch\n",
    "- Code along to learn the approaches\n",
    "\n",
    "  </div>\n",
    "  <div class=\"col2\">\n",
    "\n",
    "*Assignment*\n",
    "\n",
    "- Think up your own solutions or research them\n",
    "\n",
    "  </div>\n",
    "</div>\n",
    "\n",
    "<br/>\n",
    "\n",
    "- Both parts must be submitted!\n",
    "- Group work is not planned!"
   ]
  },
  {
   "cell_type": "markdown",
   "id": "ef4842ca",
   "metadata": {
    "editable": true,
    "slideshow": {
     "slide_type": "subslide"
    },
    "tags": [
     "translated_en"
    ],
    "translation": {
     "lang": "de",
     "src_hash": "45e115819d9f1117cb8e9f667b71bc200dabcb086c8d90da1f5cc65019a83085",
     "updated_at_iso": "2025-08-16T09:15:09.254993+00:00"
    }
   },
   "source": [
    "## Consultation\n",
    "\n",
    "<div class=\"flex-row\">\n",
    "  <div class=\"col2\">\n",
    "\n",
    "Questions for: Markus Berger\n",
    "\n",
    "Assistance with submissions: Clemens Kujat (TA)\n",
    "\n",
    "Starting next week\n",
    "\n",
    "- Wednesday 11:15–12:45 in PC-Pool 1 and via Zoom\n",
    "- Clarification of questions about the videos and the assignments\n",
    "\n",
    "  </div>\n",
    "  <div class=\"col2\">\n",
    "\n",
    "Markus.Berger@uni-rostock.de\n",
    "\n",
    "Clemens.kujat@uni-rostock.de\n",
    "\n",
    "  </div>\n",
    "</div>"
   ]
  },
  {
   "cell_type": "markdown",
   "id": "80d95f55",
   "metadata": {
    "editable": true,
    "slideshow": {
     "slide_type": "slide"
    },
    "tags": [
     "translated_en"
    ],
    "translation": {
     "lang": "de",
     "src_hash": "8786e8a2b9a572992d3d99e8b4606c8eff201da65a89914a8a1bff9c8ef419ec",
     "updated_at_iso": "2025-08-16T09:15:17.896412+00:00"
    }
   },
   "source": [
    "## Submission\n",
    "<div class=\"flex-row\">\n",
    "  <div class=\"col2\">\n",
    "\n",
    "Practice videos:\n",
    "\n",
    "- Video releases every Tuesday\n",
    "- Consultations every Wednesday\n",
    "- Submissions due every Monday\n",
    "\n",
    "  </div>\n",
    "  <div class=\"col3\">\n",
    "    <figure class=\"mj-fig\">\n",
    "      <img src=\"images/01a_Ueberblick/mj_student2.png\" class=\"mj-fig-img\">\n",
    "      <figcaption class=\"mj-fig-cap\">\n",
    "          Midjourney: Student with a deadline\n",
    "      </figcaption>\n",
    "    </figure>\n",
    "  </div>\n",
    "</div>"
   ]
  },
  {
   "cell_type": "markdown",
   "id": "d704853a",
   "metadata": {
    "editable": true,
    "slideshow": {
     "slide_type": "subslide"
    },
    "tags": [
     "translated_en"
    ],
    "translation": {
     "lang": "de",
     "src_hash": "8b6be53e9814034750d84769f76d33537e5cea0ec5c5206dd99b7d20cb1165ff",
     "updated_at_iso": "2025-08-16T09:15:34.050824+00:00"
    }
   },
   "source": [
    "## Exam Eligibility\n",
    "<div class=\"flex-row\">\n",
    "  <div class=\"col2\">\n",
    "\n",
    "- Homework assignments are not graded\n",
    "- Instead, they are graded as Met / Not Met for the exercise as a whole (no partial submissions)\n",
    "\n",
    "- By the end of the semester, at least 50% of the exercises must be completed\n",
    "- More extensive tasks carry a larger share of the grade\n",
    "\n",
    "  </div>\n",
    "  <div class=\"col2\">\n",
    "\n",
    "| Topic                                   | Weighting |\n",
    "|----------------------------------------|------------|\n",
    "| **Foundations**   |         |\n",
    "| Python & Data Types                    | 5%         |\n",
    "| Operators, Conditionals & Loops        | 5%         |\n",
    "| Functions & Objects                   | 5%         |\n",
    "| Algorithms                            | 5%         |\n",
    "| **Advanced**   |         |\n",
    "| Errors & Tests | 15%        |\n",
    "| Design        | 15%        |\n",
    "| Data Management   | 20%        |\n",
    "| **Advanced**   |         |\n",
    "| Database Queries | 15%        |\n",
    "| Database Design  | 15%        |\n",
    "\n",
    "  </div>\n",
    "</div>"
   ]
  },
  {
   "cell_type": "markdown",
   "id": "6e3610d8",
   "metadata": {
    "editable": true,
    "slideshow": {
     "slide_type": "subslide"
    },
    "tags": [
     "translated_en"
    ],
    "translation": {
     "lang": "de",
     "src_hash": "9fa73514beb62a7325f5e31f64af63d0162ac77490518b27fb30cd544045bfa5",
     "updated_at_iso": "2025-08-16T09:15:36.781121+00:00"
    }
   },
   "source": [
    "## Online Python IDE - Jupyter Books\n",
    "\n",
    "![](images/01a_Ueberblick/jupyterlab-markdown.png)"
   ]
  },
  {
   "cell_type": "markdown",
   "id": "d9b648c0",
   "metadata": {
    "editable": true,
    "slideshow": {
     "slide_type": "subslide"
    },
    "tags": [
     "translated_en"
    ],
    "translation": {
     "lang": "de",
     "src_hash": "406aab1449dffe9161fa3043da64cf9d4f139ae4f62d574ae55f3721162e6766",
     "updated_at_iso": "2025-08-16T09:15:46.495230+00:00"
    }
   },
   "source": [
    "## Sign up for Jupyter & Submission\n",
    "\n",
    "<div class=\"flex-row\">\n",
    "  <div class=\"col6 vcent\">\n",
    "\n",
    "- Create the account in the coming week at: <br>[https://ml-lab.ai4sc-lectures.auf.uni-rostock.de/](https://ml-lab.ai4sc-lectures.auf.uni-rostock.de/)\n",
    "\n",
    "- With the following username: 'firstname_lastname'\n",
    "\n",
    "- An introduction will then be in the first exercise video\n",
    "\n",
    "  </div>\n",
    "  <div class=\"col4\"> \n",
    "    <figure class=\"mj-fig\">\n",
    "        <img src=\"images/01a_Ueberblick/login.png\" class=\"mj-fig-img\">\n",
    "    </figure>\n",
    "  </div>\n",
    "</div>"
   ]
  },
  {
   "cell_type": "markdown",
   "id": "dd737625",
   "metadata": {
    "editable": true,
    "slideshow": {
     "slide_type": "subslide"
    },
    "tags": [
     "translated_en"
    ],
    "translation": {
     "lang": "de",
     "src_hash": "af22710fc6dbafa82f082367f75636912f3bfeb6e1cf39bfa8fc5666ae70ef73",
     "updated_at_iso": "2025-08-16T09:15:54.395946+00:00"
    }
   },
   "source": [
    "## Note: AI\n",
    "\n",
    "- Powerful tools for programming – when you know how to use them\n",
    "- A basic understanding of Python goes a long way in using these tools\n",
    "- At the end, an extra lecture and exercise on the topic\n",
    "- But: During the exam you must demonstrate a solid understanding of programming, so the exercises must be completed by you yourselves!"
   ]
  },
  {
   "cell_type": "markdown",
   "id": "6f9fd833",
   "metadata": {
    "editable": true,
    "slideshow": {
     "slide_type": "slide"
    },
    "tags": [
     "translated_en"
    ],
    "translation": {
     "lang": "de",
     "src_hash": "476b7fe0b447637f23e0f244667e792f0c4b01153c7a4ce3ddd0e953fbe90c59",
     "updated_at_iso": "2025-08-16T09:15:58.233138+00:00"
    }
   },
   "source": [
    "# Homework\n",
    "\n",
    "<figcaption class=\"mj-slide-cap\">Midjourney: Programming in Python</figcaption>\n",
    "\n",
    "<script>setSectionBackground('#333333', 'images/01a_Ueberblick/mj_python.mp4', true);</script>"
   ]
  },
  {
   "cell_type": "markdown",
   "id": "7971cf40",
   "metadata": {
    "editable": true,
    "slideshow": {
     "slide_type": "subslide"
    },
    "tags": [
     "translated_en"
    ],
    "translation": {
     "lang": "de",
     "src_hash": "c53f73d3b02b7a808a439687a7c1ccec57255a0e12a316a611598f23b831e7c4",
     "updated_at_iso": "2025-08-16T09:16:00.165911+00:00"
    }
   },
   "source": [
    "## Fetching tasks"
   ]
  },
  {
   "cell_type": "markdown",
   "id": "bf137447",
   "metadata": {
    "editable": true,
    "slideshow": {
     "slide_type": ""
    },
    "tags": [
     "translated_en"
    ],
    "translation": {
     "lang": "de",
     "src_hash": "234e6cb3595a3821c6cc93a20eb54fb142c736574056709dedce2a15a4166143",
     "updated_at_iso": "2025-08-16T09:16:07.524322+00:00"
    }
   },
   "source": [
    "Assignments can be downloaded, edited, and submitted on the JupyterLab platform\n",
    "- Menu item `Nbgrader/Assignments` → the main option, showing the page with the assignments\n",
    "- Menu item `Nbgrader/Courses` → lists all enrolled courses\n",
    "- Menu item `Nbgrader/Formgrader` → only for instructors, for viewing and grading student submissions"
   ]
  },
  {
   "cell_type": "markdown",
   "id": "2b49977e",
   "metadata": {
    "editable": true,
    "slideshow": {
     "slide_type": ""
    },
    "tags": [
     "translated_en"
    ],
    "translation": {
     "lang": "de",
     "src_hash": "b6dc22c877c1d46877a97a577f958a9ee1e3868220737bcd78f9f75a2382bd48",
     "updated_at_iso": "2025-08-16T09:16:09.845470+00:00"
    }
   },
   "source": [
    "![Nbgrader menu](images/01a_Ueberblick/nbgrader_menu.png)"
   ]
  },
  {
   "cell_type": "markdown",
   "id": "7c7cf0b0",
   "metadata": {
    "editable": true,
    "slideshow": {
     "slide_type": "subslide"
    },
    "tags": [
     "translated_en"
    ],
    "translation": {
     "lang": "de",
     "src_hash": "d183b07e28ca7fb463f7a0a7f19baf40d7fd5cdb2ee0f09a3a8c907732f3bddf",
     "updated_at_iso": "2025-08-16T09:16:13.981993+00:00"
    }
   },
   "source": [
    "- Menu item `Nbgrader/Assignments` → the current assignments view opens\n",
    "- Using `fetch` → download the selected assignment"
   ]
  },
  {
   "cell_type": "markdown",
   "id": "3589fd47",
   "metadata": {
    "editable": true,
    "slideshow": {
     "slide_type": ""
    },
    "tags": [
     "translated_en"
    ],
    "translation": {
     "lang": "de",
     "src_hash": "ff8f041dc88e08101c79311ccfebad0d0a371defd0a5320b605f44f952751060",
     "updated_at_iso": "2025-08-16T09:16:16.904068+00:00"
    }
   },
   "source": [
    "![Nbgrader: Available assignments](images/01a_Ueberblick/nbgrader_menu_assignments.png)"
   ]
  },
  {
   "cell_type": "markdown",
   "id": "ef91f79b",
   "metadata": {
    "editable": true,
    "slideshow": {
     "slide_type": "subslide"
    },
    "tags": [
     "translated_en"
    ],
    "translation": {
     "lang": "de",
     "src_hash": "2bdf5328e87c3ea4089be873be3a6df828b899fe9e43ba568a0bec53a6ecd7b2",
     "updated_at_iso": "2025-08-16T09:16:23.156560+00:00"
    }
   },
   "source": [
    "- After downloading, the assignment appears in the \"Downloaded Assignments\" list\n",
    "- Click the blue assignment name → opens the assignment's subfolder\n",
    "- In the subfolder: all notebooks and related files are visible"
   ]
  },
  {
   "cell_type": "markdown",
   "id": "0abf0cf9",
   "metadata": {
    "editable": true,
    "slideshow": {
     "slide_type": ""
    },
    "tags": [
     "translated_en"
    ],
    "translation": {
     "lang": "de",
     "src_hash": "a5daef513dbb042a24d48800fd71a916d40b45b775a8b73235d5f58469ce267a",
     "updated_at_iso": "2025-08-16T09:16:25.568103+00:00"
    }
   },
   "source": [
    "![Nbgrader: Downloaded Assignments](images/01a_Ueberblick/nbgrader_menu_assignments2.png)"
   ]
  },
  {
   "cell_type": "markdown",
   "id": "0ba18a5a",
   "metadata": {
    "editable": true,
    "slideshow": {
     "slide_type": "subslide"
    },
    "tags": [
     "translated_en"
    ],
    "translation": {
     "lang": "de",
     "src_hash": "83b3f960d85ad08f9093d597297c680128610a28140e3d83116f4f3d472ff132",
     "updated_at_iso": "2025-08-16T09:16:29.191500+00:00"
    }
   },
   "source": [
    "## Editing Tasks"
   ]
  },
  {
   "cell_type": "markdown",
   "id": "37407d95",
   "metadata": {
    "editable": true,
    "slideshow": {
     "slide_type": ""
    },
    "tags": [
     "translated_en"
    ],
    "translation": {
     "lang": "de",
     "src_hash": "6ff74eb4a858960299c362d4a594b3cdb6282ed39d9663239f2728cccb8222e4",
     "updated_at_iso": "2025-08-16T09:16:34.737183+00:00"
    }
   },
   "source": [
    "- Read the task description.\n",
    "- Replace `YOUR CODE HERE` with the correct code.\n",
    "- Replace `YOUR ANSWER HERE` with a text answer.\n",
    "- Delete the `raise NotImplementedError()` if applicable.\n",
    "- Run the cell with `Shift+Enter`.\n",
    "- Ensure the execution was successful."
   ]
  },
  {
   "cell_type": "markdown",
   "id": "e891abdc",
   "metadata": {
    "editable": true,
    "slideshow": {
     "slide_type": ""
    },
    "tags": [
     "translated_en"
    ],
    "translation": {
     "lang": "de",
     "src_hash": "b30b12365801802e2f7f686bbe1a66a438197e837998d3172a6bd6151298f7b1",
     "updated_at_iso": "2025-08-16T09:16:43.007172+00:00"
    }
   },
   "source": [
    "![Nbgrader menu](images/01a_Ueberblick/nbgrader_notebook2.png)"
   ]
  },
  {
   "cell_type": "markdown",
   "id": "f6fd3e4e",
   "metadata": {
    "editable": true,
    "slideshow": {
     "slide_type": "subslide"
    },
    "tags": [
     "translated_en"
    ],
    "translation": {
     "lang": "de",
     "src_hash": "960fc1bd0dcccee7319bc8c2fe66c8e0f29762a9a51db191318c10221631dc18",
     "updated_at_iso": "2025-08-16T09:16:51.693212+00:00"
    }
   },
   "source": [
    "- For every code cell that needs to be completed, a test cell follows.\n",
    "- These cannot be edited.\n",
    "- But running them will show you whether they are correct."
   ]
  },
  {
   "cell_type": "markdown",
   "id": "05f96264",
   "metadata": {
    "editable": true,
    "slideshow": {
     "slide_type": ""
    },
    "tags": [
     "translated_en"
    ],
    "translation": {
     "lang": "de",
     "src_hash": "b30b12365801802e2f7f686bbe1a66a438197e837998d3172a6bd6151298f7b1",
     "updated_at_iso": "2025-08-16T09:16:54.568869+00:00"
    }
   },
   "source": [
    "![Nbgrader menu](images/01a_Ueberblick/nbgrader_notebook2.png)"
   ]
  },
  {
   "cell_type": "markdown",
   "id": "3c61d09e",
   "metadata": {
    "editable": true,
    "slideshow": {
     "slide_type": "subslide"
    },
    "tags": [
     "translated_en"
    ],
    "translation": {
     "lang": "de",
     "src_hash": "993769efeef8ac9c6ecde91f9d9cf1761515c4a4705e75f606ecb33b098a2396",
     "updated_at_iso": "2025-08-16T09:16:56.577988+00:00"
    }
   },
   "source": [
    "## Submitting Assignments"
   ]
  },
  {
   "cell_type": "markdown",
   "id": "c1f87310",
   "metadata": {
    "editable": true,
    "slideshow": {
     "slide_type": ""
    },
    "tags": [
     "translated_en"
    ],
    "translation": {
     "lang": "de",
     "src_hash": "75b19023475c0725a2a2ca4341df7dfc9db9d0f347c182bdc84ac16575a6cc21",
     "updated_at_iso": "2025-08-16T09:17:05.344482+00:00"
    }
   },
   "source": [
    "- Validate every notebook before submission\n",
    "- Use the `Validation` button in the menu to start the validation\n",
    "    - Successful validation → message: “Success! Your notebook passes all the tests.”\n",
    "    - Failed validation → a report of the errors that occurred is displayed"
   ]
  },
  {
   "cell_type": "markdown",
   "id": "47790e3e",
   "metadata": {
    "editable": true,
    "slideshow": {
     "slide_type": ""
    },
    "tags": [
     "translated_en"
    ],
    "translation": {
     "lang": "de",
     "src_hash": "2d93caa3a9f4122fcfeee0cc13b2440ac10e74f3db3ba4008e5ef4e3ff11cc6d",
     "updated_at_iso": "2025-08-16T09:17:08.358380+00:00"
    }
   },
   "source": [
    "![Nbgrader menu](images/01a_Ueberblick/nbgrader_validate.png)"
   ]
  },
  {
   "cell_type": "markdown",
   "id": "3f107ff0",
   "metadata": {
    "editable": true,
    "slideshow": {
     "slide_type": "subslide"
    },
    "tags": [
     "translated_en"
    ],
    "translation": {
     "lang": "de",
     "src_hash": "697f0a64f983cdb70a030219adab72054546a907741271d0e55293ddd05071bd",
     "updated_at_iso": "2025-08-16T09:17:11.730052+00:00"
    }
   },
   "source": [
    "- After successful validation of all notebooks → press the 'Submit' button\n",
    "- The assignment is submitted\n",
    "- The submitted assignment appears in the \"Submitted Assignments\" list"
   ]
  },
  {
   "cell_type": "markdown",
   "id": "e9fc1164",
   "metadata": {
    "editable": true,
    "slideshow": {
     "slide_type": ""
    },
    "tags": [
     "translated_en"
    ],
    "translation": {
     "lang": "de",
     "src_hash": "76e6774724fb361ecdc32df7f271e56c3208def2c74a24ae1f8c5e88509a0819",
     "updated_at_iso": "2025-08-16T09:17:15.202245+00:00"
    }
   },
   "source": [
    "![Nbgrader menu](images/01a_Ueberblick/nbgrader_menu_assignments2.png)"
   ]
  },
  {
   "cell_type": "markdown",
   "id": "574a8a68",
   "metadata": {
    "editable": true,
    "jp-MarkdownHeadingCollapsed": true,
    "slideshow": {
     "slide_type": "slide"
    },
    "tags": [
     "translated_en"
    ],
    "translation": {
     "lang": "de",
     "src_hash": "f909b9dc571be2a798a5bc155bb72187634033bd8e02679af9f8f9f6e39f6794",
     "updated_at_iso": "2025-08-16T09:17:20.119865+00:00"
    }
   },
   "source": [
    "## Shut down the server\n",
    "\n",
    "- Shut down the JupyterLab environment properly when you are finished with your work\n",
    "- Use the menu item `File/Hub Control Panel` to switch to the Server Control view\n",
    "- Shut down the server with `Stop my Server`"
   ]
  },
  {
   "cell_type": "markdown",
   "id": "0ecda652",
   "metadata": {
    "editable": true,
    "slideshow": {
     "slide_type": "slide"
    },
    "tags": [
     "translated_en"
    ],
    "translation": {
     "lang": "de",
     "src_hash": "3ef4213d55d81ce24f22a9ab845abfbe317a4616ae9d8e7bb7d607eea04b54ec",
     "updated_at_iso": "2025-08-16T09:17:24.420726+00:00"
    }
   },
   "source": [
    "# Motivation\n",
    "\n",
    "<figcaption class=\"mj-slide-cap\">Midjourney: Programming in Python</figcaption>\n",
    "\n",
    "<script>setSectionBackground('#333333', 'images/01a_Ueberblick/mj_motivation.mp4', true);</script>"
   ]
  },
  {
   "cell_type": "markdown",
   "id": "2383aa80",
   "metadata": {
    "slideshow": {
     "slide_type": "slide"
    },
    "tags": [
     "remove-cell",
     "translated_en"
    ],
    "translation": {
     "lang": "de",
     "src_hash": "730702d2fba27a2e9c4cda91c315bfad0ddf9bbfe80e68f3701b469d62313f0a",
     "updated_at_iso": "2025-08-16T09:17:42.567590+00:00"
    }
   },
   "source": [
    "## Lecture Hall Question\n",
    "\n",
    "<script>setSectionBackground('#FFD966');</script>\n",
    "<div class=\"flex-row\">\n",
    "  <div class=\"col4 vcent\">\n",
    "\n",
    "What is computer science?\n",
    "\n",
    "  </div>\n",
    "  <div class=\"col6\"> \n",
    "    <figure class=\"mj-fig\">\n",
    "        <img src=\"images/01a_Ueberblick/dijkstra.jpg\" class=\"mj-fig-img\">\n",
    "        <figcaption class=\"mj-fig-cap\">\n",
    "            \"Computer science is no more about computers than astronomy is about telescopes.\" — Edsger W. Dijkstra\n",
    "        </figcaption>\n",
    "    </figure>\n",
    "  </div>\n",
    "</div>"
   ]
  },
  {
   "cell_type": "markdown",
   "id": "580da650",
   "metadata": {
    "slideshow": {
     "slide_type": "subslide"
    },
    "tags": [
     "remove-cell",
     "translated_en"
    ],
    "translation": {
     "lang": "de",
     "src_hash": "9a7f42279edb9822b189ec28cc105f56edcf57a9c893b102efce16f3e62f8528",
     "updated_at_iso": "2025-08-16T09:17:47.988274+00:00"
    }
   },
   "source": [
    "## Definition - Computer Science\n",
    "\n",
    "<div class=\"alert alert-block alert-success\">\n",
    "<b>📘 Definition: Computer Science</b>\n",
    "\n",
    "Computer science is the science of the systematic processing of information.\n",
    "\n",
    "Origin: Mathematics (logic, algorithms) + Electrical Engineering (hardware)\n",
    "</div>"
   ]
  },
  {
   "cell_type": "markdown",
   "id": "671572c1",
   "metadata": {
    "slideshow": {
     "slide_type": "subslide"
    },
    "tags": [
     "remove-cell",
     "translated_en"
    ],
    "translation": {
     "lang": "de",
     "src_hash": "fce667c98ec8d2eb44b064c90f351d92f00adad10c20cd3b27e4006cea63fda9",
     "updated_at_iso": "2025-08-16T09:17:57.625930+00:00"
    }
   },
   "source": [
    "## Where do engineers need computer science?\n",
    "\n",
    "<div class=\"flex-row\">\n",
    "  <div class=\"col1\">\n",
    "\n",
    "![](images/01b_Anwendungen/step_design.png)\n",
    "\n",
    "- Computer-Aided Design\n",
    "- Virtual environments\n",
    "- Structural engineering\n",
    "- ...\n",
    "\n",
    "  </div>\n",
    "<div class=\"flex-row\">\n",
    "  <div class=\"col1\">\n",
    "\n",
    "![](images/01b_Anwendungen/step_bau.png)\n",
    "\n",
    "\n",
    "- Construction process automation\n",
    "- Acceptance measurements\n",
    "- Construction robotics\n",
    "- ...\n",
    "\n",
    "  </div>\n",
    "<div class=\"flex-row\">\n",
    "  <div class=\"col1\">\n",
    "\n",
    "![](images/01b_Anwendungen/step_operate.png)\n",
    "\n",
    "\n",
    "- Geographic Information Systems\n",
    "- Facility management\n",
    "- Building automation\n",
    "- ...\n",
    "\n",
    "  </div>\n",
    "</div>"
   ]
  },
  {
   "cell_type": "markdown",
   "id": "ebab9e84",
   "metadata": {
    "editable": true,
    "slideshow": {
     "slide_type": "subslide"
    },
    "tags": [
     "translated_en"
    ],
    "translation": {
     "lang": "de",
     "src_hash": "052f7dc719a59fce7418bbb6653fb78c3f955303e6acbce04b3e701ce004d95a",
     "updated_at_iso": "2025-08-16T09:18:06.935380+00:00"
    }
   },
   "source": [
    "## Draft: CAD - Computer Aided Design\n",
    "\n",
    "<div class=\"flex-row\">\n",
    "  <div class=\"col3\">\n",
    "  \n",
    "![https://www.autodesk.com/campaigns/revit-lt](images/01a_Ueberblick/use_case_cad.png)\n",
    "\n",
    "  </div>\n",
    "  <div class=\"col2\">\n",
    "\n",
    "Software applications for designing, drafting, and presenting engineering drawings and plans, for both 2D and 3D models.\n",
    "(SoftSelect Glossary / Lexicon)\n",
    "\n",
    "  </div>\n",
    "</div>"
   ]
  },
  {
   "cell_type": "markdown",
   "id": "c0e656b1",
   "metadata": {
    "editable": true,
    "slideshow": {
     "slide_type": "subslide"
    },
    "tags": [
     "translated_en"
    ],
    "translation": {
     "lang": "de",
     "src_hash": "b2ea521ddf5842beb2b33d1b5a4801eba4ce51c204877b56768081cd89ebbe8a",
     "updated_at_iso": "2025-08-16T09:18:16.141468+00:00"
    }
   },
   "source": [
    "## Draft: Virtual Environments\n",
    "\n",
    "<div class=\"flex-row\">\n",
    "  <div class=\"col2\">\n",
    "Applications that allow visualizing and exploring designs in VR (Virtual Reality) or AR (Augmented Reality).\n",
    "  </div>\n",
    "  <div class=\"col3\">\n",
    "\n",
    "![http://www.firstinvision.de/aut_de_xhtml-4-produkte.php?entryId=cascados-8](images/01a_Ueberblick/use_case_render.jpg)\n",
    "\n",
    "  </div>\n",
    "</div>"
   ]
  },
  {
   "cell_type": "markdown",
   "id": "14fdf617",
   "metadata": {
    "editable": true,
    "slideshow": {
     "slide_type": "subslide"
    },
    "tags": [
     "translated_en"
    ],
    "translation": {
     "lang": "de",
     "src_hash": "3b88ea80f51dfeb239fb3d0dd1cf70bad2c013d89df5eb429accc44ec824feef",
     "updated_at_iso": "2025-08-16T09:18:26.915447+00:00"
    }
   },
   "source": [
    "## Design: Structural Engineering\n",
    "\n",
    "<div class=\"flex-row\">\n",
    "  <div class=\"col3\">\n",
    "\n",
    "![https://www.die.de/all-images](images/01a_Ueberblick/use_case_static.png)\n",
    "\n",
    "  </div>\n",
    "  <div class=\"col2\">\n",
    "\n",
    "The aim of his structural design is to balance the required load-bearing capacity and serviceability of a building structure during its intended service life with the demands of economy and aesthetics.\n",
    "[German Wiki](https://dewiki.de/Lexikon/Tragwerksplaner)\n",
    "\n",
    "  </div>\n",
    "</div>"
   ]
  },
  {
   "cell_type": "markdown",
   "id": "b53ca0d3",
   "metadata": {
    "editable": true,
    "slideshow": {
     "slide_type": "subslide"
    },
    "tags": [
     "translated_en"
    ],
    "translation": {
     "lang": "de",
     "src_hash": "ac67207146fcd2d654939f1ffc991d73b15993f7d30de701e46416d54096a136",
     "updated_at_iso": "2025-08-16T09:18:36.724785+00:00"
    }
   },
   "source": [
    "## Construction: Automating the Construction Process\n",
    "\n",
    "<div class=\"flex-row\">\n",
    "  <div class=\"col2\">\n",
    "\n",
    "Automation of various steps\n",
    "\n",
    "- Daily construction log\n",
    "- Construction scheduling\n",
    "- Construction project management\n",
    "\n",
    "  </div>\n",
    "  <div class=\"col3\">\n",
    "\n",
    "![https://baugorilla.com/produkt/bautagebuch-app](images/01a_Ueberblick/use_case_report.png)\n",
    "\n",
    "  </div>\n",
    "</div>"
   ]
  },
  {
   "cell_type": "markdown",
   "id": "e92125e4",
   "metadata": {
    "editable": true,
    "slideshow": {
     "slide_type": "subslide"
    },
    "tags": [
     "translated_en"
    ],
    "translation": {
     "lang": "de",
     "src_hash": "dc462c867262ca6995e0262de28d47a7880b76da3f8eb9bd7694603b8b26f437",
     "updated_at_iso": "2025-08-16T09:18:43.457769+00:00"
    }
   },
   "source": [
    "## Construction: Construction Robotics\n",
    "\n",
    "<div class=\"flex-row\">\n",
    "  <div class=\"col3\">\n",
    "    <video controls autoplay muted class=\"mj-fig-img\">\n",
    "      <source src=\"images/01a_Ueberblick/Baubot.mp4\" type=\"video/mp4\">\n",
    "      Your browser does not support the video tag.\n",
    "    </video>\n",
    "  </div>\n",
    "  <div class=\"col2\">\n",
    "\n",
    "The scope of application for robots in the construction industry is fundamentally independent of the construction-specific business model, i.e., independent of the segment, the activity, and the actual tasks involved.\n",
    "\n",
    "  </div>\n",
    "</div>"
   ]
  },
  {
   "cell_type": "markdown",
   "id": "acd1bb03",
   "metadata": {
    "editable": true,
    "slideshow": {
     "slide_type": "subslide"
    },
    "tags": [
     "translated_en"
    ],
    "translation": {
     "lang": "de",
     "src_hash": "4bebc47e9091b4fdeaf82e4a092c3865182149d602e6e4cb06a2fc7ab9fe6180",
     "updated_at_iso": "2025-08-16T09:18:50.363586+00:00"
    }
   },
   "source": [
    "## Operations: GIS - Geoinformation Systems\n",
    "\n",
    "<div class=\"flex-row\">\n",
    "  <div class=\"col2\">\n",
    "\n",
    "Geoinformation systems are information systems for the capture, processing, organization, analysis, and presentation of spatial data.\n",
    "[DeWiki](https://dewiki.de/Lexikon/Geoinformationssystem)\n",
    "\n",
    "  </div>\n",
    "  <div class=\"col3\">\n",
    "\n",
    "![](images/01a_Ueberblick/use_case_gis.png)\n",
    "\n",
    "  </div>\n",
    "</div>"
   ]
  },
  {
   "cell_type": "markdown",
   "id": "9fbfc864",
   "metadata": {
    "editable": true,
    "slideshow": {
     "slide_type": "subslide"
    },
    "tags": [
     "translated_en"
    ],
    "translation": {
     "lang": "de",
     "src_hash": "b90c698605b05ac7ed284e6c4c2907a49237cee824210e29fae749425a71a20f",
     "updated_at_iso": "2025-08-16T09:18:58.792122+00:00"
    }
   },
   "source": [
    "## Operation: Building Automation\n",
    "\n",
    "<div class=\"flex-row\">\n",
    "  <div class=\"col3\">\n",
    "    <video width=\"560\" height=\"315\" controls autoplay muted>\n",
    "      <source src=\"images/01a_Ueberblick/MunchDigitalTwin.mp4\" type=\"video/mp4\">\n",
    "      Your browser does not support the video tag.\n",
    "    </video>\n",
    "  </div>\n",
    "  <div class=\"col2\">\n",
    "\n",
    "The totality of monitoring, control, regulation, and optimization systems in buildings.\n",
    "[DeWiki](https://dewiki.de/Lexikon/Gebäudeautomation)\n",
    "\n",
    "  </div>\n",
    "</div>"
   ]
  },
  {
   "cell_type": "markdown",
   "id": "857aa7b2",
   "metadata": {
    "editable": true,
    "slideshow": {
     "slide_type": "subslide"
    },
    "tags": [
     "translated_en"
    ],
    "translation": {
     "lang": "de",
     "src_hash": "c249b51b3143bdd2e165473602d461585f5bc8659dfdb3c8ee01fec8705393f9",
     "updated_at_iso": "2025-08-16T09:19:09.740898+00:00"
    }
   },
   "source": [
    "## Operation: CAFM - Computer-Aided Facility Management\n",
    "\n",
    "<div class=\"flex-row\">\n",
    "  <div class=\"col2\">\n",
    "\n",
    "Facility management refers to the administration and operation of buildings as well as their technical systems and facilities (English: facilities). CAFM is the computer-aided support of facility management.\n",
    "[DeWiki](https://dewiki.de/Lexikon/Facilitymanagement)\n",
    "\n",
    "  </div>\n",
    "  <div class=\"col3\">\n",
    "    <video width=\"560\" height=\"315\" controls autoplay muted>\n",
    "      <source src=\"images/01a_Ueberblick/DynamicSpacePlanning.mov\" type=\"video/mp4\">\n",
    "      Your browser does not support the video tag.\n",
    "    </video>\n",
    "  </div>\n",
    "</div>"
   ]
  },
  {
   "cell_type": "markdown",
   "id": "38e42643-cf43-4054-86ca-df0f8aa6f5e1",
   "metadata": {
    "editable": true,
    "slideshow": {
     "slide_type": "subslide"
    },
    "tags": [
     "translated_en"
    ],
    "translation": {
     "lang": "de",
     "src_hash": "491d13e4b6262ca91c6b0e40b6784e101dc78b6435c915b32df21f8d0cfd7568",
     "updated_at_iso": "2025-08-16T09:19:18.107601+00:00"
    }
   },
   "source": [
    "## Literature recommendations\n",
    "\n",
    "- [Python 3: The Comprehensive Handbook; Ernesti, Johannes, Kaiser, Peter, 2020](https://find.ub.uni-rostock.de/id%7Bcolon%7D169925365X)\n",
    "- [Databases: Concepts and Languages; Saake, Gunter, Sattler, Kai-Uwe, Heuer, Andreas, 2018](https://find.ub.uni-rostock.de/id%7Bcolon%7D1632747588)\n",
    "\n",
    "- Recommendation: Use various online tutorials!\n",
    "[https://docs.python.org/3/tutorial/](https://docs.python.org/3/tutorial/) & [https://www.w3schools.com/python/](https://www.w3schools.com/python/)\n",
    "\n",
    "- In the long run, the most important thing: dive in at the deep end!"
   ]
  },
  {
   "cell_type": "markdown",
   "id": "ad7fd43b-1195-47dc-94e8-ac3cce7ffa0a",
   "metadata": {
    "editable": true,
    "slideshow": {
     "slide_type": "slide"
    },
    "tags": [
     "remove-cell",
     "translated_en"
    ],
    "translation": {
     "lang": "de",
     "src_hash": "0d1875115e580afa9dbcc84291705d70e1bc26ff179e870a7dc6a3981068e655",
     "updated_at_iso": "2025-08-16T09:19:21.739298+00:00"
    }
   },
   "source": [
    "<div class=\"vslide\">\n",
    "  <div class=\"vslide-title\">\n",
    "    <p style=\"font-family: Protomolecule; font-size: 2.3em; margin: 0px auto; text-align: center; width: 100%;\">Questions?</p>\n",
    "  </div>\n",
    "  <script>setSectionBackground('#000000', 'images/01a_Ueberblick/mj_questions.mp4');</script>\n",
    "</div>"
   ]
  }
 ],
 "metadata": {
  "celltoolbar": "Slideshow",
  "kernelspec": {
   "display_name": "Python 3 (ipykernel)",
   "language": "python",
   "name": "python3"
  },
  "language_info": {
   "codemirror_mode": {
    "name": "ipython",
    "version": 3
   },
   "file_extension": ".py",
   "mimetype": "text/x-python",
   "name": "python",
   "nbconvert_exporter": "python",
   "pygments_lexer": "ipython3",
   "version": "3.12.10"
  },
  "rise": {
   "auto_select": "none",
   "center": false,
   "enable_chalkboard": true,
   "header": "<img src=\"images/pd_logo.svg\" class=\"header_title_logo\"><img src=\"images/ai4sc_logo_v2.svg\" class=\"header_ai4sc_logo\">",
   "scroll": true,
   "show_buttons_on_startup": false,
   "slideNumber": true,
   "theme": "white"
  }
 },
 "nbformat": 4,
 "nbformat_minor": 5
}
