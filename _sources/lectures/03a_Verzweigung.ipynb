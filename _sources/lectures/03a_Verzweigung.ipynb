{
 "cells": [
  {
   "cell_type": "markdown",
   "metadata": {},
   "source": [
    "# Verzweigungen"
   ]
  },
  {
   "cell_type": "markdown",
   "metadata": {},
   "source": [
    "### `if`  die Wenn-Dann Verzweigung"
   ]
  },
  {
   "cell_type": "markdown",
   "metadata": {},
   "source": [
    "Oft ist es Notwendig in Programmen auch Entscheidungen zu treffen und bestimmte Statements nur in bestimmten Fällen auszuführen. Hierfür bieten alle Programmiersprachen unterschiedliche Möglichkeiten den Programmcode zu Verzweigen."
   ]
  },
  {
   "cell_type": "markdown",
   "metadata": {},
   "source": [
    "Die Einfachste Form der Verzweigung sind bedingte Verzweigungen, welche einen Code-Block nur bei Zutreffen einer logischen Bedingung ausführen. In Python ist dafür die `if`-Anweisung (Wenn-Dann) vorgesehen, welche einem Statement vorsteht, welches nur bei Zutreffen einer Bedingung ausgeführt wird. Es ist üblich die Statements auf eine neue Zeile zu schreiben. Dann *müssen* sie eingerückt werden."
   ]
  },
  {
   "cell_type": "code",
   "execution_count": 11,
   "metadata": {},
   "outputs": [
    {
     "name": "stdout",
     "output_type": "stream",
     "text": [
      "Der Block mit 'bedingung=True' wurde ausgeführt. 1\n"
     ]
    }
   ],
   "source": [
    "bedingung=True\n",
    "if bedingung:\n",
    "    # wird nur ausgeführt wenn Bedingung True ist\n",
    "    print(f\"Der Block mit 'bedingung={bedingung}' wurde ausgeführt. 1\")\n",
    "\n",
    "bedingung=False\n",
    "if bedingung:\n",
    "    # wird nur ausgeführt wenn Bedingung True ist\n",
    "    print(f\"Der Block mit 'bedingung={bedingung}' wurde ausgeführt. 2\")"
   ]
  },
  {
   "cell_type": "markdown",
   "metadata": {},
   "source": [
    ":::{info} In englischen Veröffentlichungen in der Informatik wird häufig auch im Schreiben das Wort `iff` verwendet, was für \"if-and-only-if\" steht und explizit aussagt, dass eine strikte logische Aussage gemacht wird und keine Natürlichsprachliches weiches `if` verwendet wird. :::"
   ]
  },
  {
   "cell_type": "markdown",
   "metadata": {},
   "source": [
    "\n",
    "\n",
    "Mit dem logischen Operator `not` kann man die Bedingungen negieren und mit `and`, `or` und Klammern kombinieren."
   ]
  },
  {
   "cell_type": "code",
   "execution_count": 14,
   "metadata": {},
   "outputs": [
    {
     "name": "stdout",
     "output_type": "stream",
     "text": [
      "Der Block mit 'bedingung'=2 wurde ausgeführt.\n"
     ]
    }
   ],
   "source": [
    "bedingung=True\n",
    "if not bedingung:\n",
    "    # wird nur ausgeführt wenn Bedingung True ist\n",
    "    print(f\"Der Block mit 'bedingung={bedingung}' wurde ausgeführt.\")\n",
    "\n",
    "bedingung=0\n",
    "if bedingung:\n",
    "    # wird nur ausgeführt wenn Bedingung equivalent mit True ist\n",
    "    print(f\"Der Block mit 'bedingung'={bedingung} wurde ausgeführt.\")\n",
    "\n",
    "bedingung=2\n",
    "if bedingung:\n",
    "    # wird nur ausgeführt wenn Bedingung equivalent mit True ist\n",
    "    print(f\"Der Block mit 'bedingung'={bedingung} wurde ausgeführt.\")\n",
    "\n",
    "if not bedingung:\n",
    "    # wird nur ausgeführt wenn Bedingung True ist\n",
    "    print(f\"Der Block mit 'bedingung={bedingung}' wurde ausgeführt.\")"
   ]
  },
  {
   "cell_type": "markdown",
   "metadata": {},
   "source": [
    "Strings die leer und die Länge 0 haben entsprechen dem logischen Wert `False` und nicht leere dem logischen Wert `True`."
   ]
  },
  {
   "cell_type": "code",
   "execution_count": 18,
   "metadata": {},
   "outputs": [
    {
     "name": "stdout",
     "output_type": "stream",
     "text": [
      "Der Block mit 'bedingung'=  wurde ausgeführt.\n"
     ]
    }
   ],
   "source": [
    "bedingung='' # leerer String\n",
    "if bedingung:\n",
    "    # wird nur ausgeführt wenn Bedingung equivalent mit True ist\n",
    "    print(f\"Der Block mit 'bedingung'={bedingung} wurde ausgeführt.\")\n",
    "\n",
    "bedingung=' '\n",
    "if bedingung:\n",
    "    # wird nur ausgeführt wenn Bedingung equivalent mit True ist\n",
    "    print(f\"Der Block mit 'bedingung'={bedingung} wurde ausgeführt.\")"
   ]
  },
  {
   "cell_type": "markdown",
   "metadata": {},
   "source": [
    "Das gleiche gilt für Listen und Dictionaries, wenn diese leer sind (`False`) oder befüllt (`True`)."
   ]
  },
  {
   "cell_type": "code",
   "execution_count": 19,
   "metadata": {},
   "outputs": [
    {
     "name": "stdout",
     "output_type": "stream",
     "text": [
      "Der Block mit 'bedingung'=['nicht_leer'] wurde ausgeführt.\n"
     ]
    }
   ],
   "source": [
    "bedingung=[] # leerer Liste\n",
    "if bedingung:\n",
    "    # wird nur ausgeführt wenn Bedingung equivalent mit True ist\n",
    "    print(f\"Der Block mit 'bedingung'={bedingung} wurde ausgeführt.\")\n",
    "\n",
    "bedingung=['nicht_leer'] # nicht leere Liste \n",
    "if bedingung:\n",
    "    # wird nur ausgeführt wenn Bedingung equivalent mit True ist\n",
    "    print(f\"Der Block mit 'bedingung'={bedingung} wurde ausgeführt.\")"
   ]
  },
  {
   "cell_type": "markdown",
   "metadata": {},
   "source": [
    "Damit lässt sich im Code schnell prüfen ob z.B. bereits Elemente in einer Liste enthalten sind und diese z.B. weiterverarbeitet werden sollen.\n",
    "\n",
    "Bei komplexeren Datentypen, wie Objekten, die den Wert `None` annehmen können, wird dieser auch als `False` interpretiert und alles andere als `True`, womit man wiederum prüfen kann, ob die Variable schon belegt worden ist."
   ]
  },
  {
   "cell_type": "code",
   "execution_count": 22,
   "metadata": {},
   "outputs": [
    {
     "name": "stdout",
     "output_type": "stream",
     "text": [
      "Der Block mit 'bedingung'=nicht_None wurde ausgeführt.\n",
      "Der Block mit 'bedingung'=nicht_None wurde ausgeführt.\n"
     ]
    }
   ],
   "source": [
    "bedingung=None # nicht belegt\n",
    "if bedingung:\n",
    "    # wird nur ausgeführt wenn Bedingung equivalent mit True ist\n",
    "    print(f\"Der Block mit 'bedingung'={bedingung} wurde ausgeführt.\")\n",
    "\n",
    "bedingung=\"nicht_None\" # belegt\n",
    "if bedingung:\n",
    "    # wird nur ausgeführt wenn Bedingung equivalent mit True ist\n",
    "    print(f\"Der Block mit 'bedingung'={bedingung} wurde ausgeführt.\")\n",
    "\n",
    "bedingung=None # nicht belegt\n",
    "if bedingung is not None:\n",
    "    # wird nur ausgeführt wenn Bedingung equivalent mit True ist\n",
    "    print(f\"Der Block mit 'bedingung'={bedingung} wurde ausgeführt.\")\n",
    "\n",
    "bedingung=\"nicht_None\" # belegt\n",
    "if bedingung is not None:\n",
    "    # wird nur ausgeführt wenn Bedingung equivalent mit True ist\n",
    "    print(f\"Der Block mit 'bedingung'={bedingung} wurde ausgeführt.\")"
   ]
  },
  {
   "cell_type": "markdown",
   "metadata": {},
   "source": [
    "### `else` - Die Alternative"
   ]
  },
  {
   "cell_type": "markdown",
   "metadata": {},
   "source": [
    "Oft kommt es vor, dass nicht nur etwas ausgeführt werden soll, wenn die Bedingung wahr ist, sondern im anderen Fall auch etwas ausgeführt werden soll. Dafür gibt es die `else`-Anweisung, welche ausschließlich nach einem `if` folgen darf und bei mehreren Zeilen auf gleicher Höhe eingerückt werden muss, wie das `if` welches es beschließt."
   ]
  },
  {
   "cell_type": "code",
   "execution_count": 25,
   "metadata": {},
   "outputs": [
    {
     "name": "stdout",
     "output_type": "stream",
     "text": [
      "Der Block mit 'bedingung=True' wurde ausgeführt.\n"
     ]
    }
   ],
   "source": [
    "bedingung=True\n",
    "if bedingung:\n",
    "    # wird nur ausgeführt wenn Bedingung True ist\n",
    "    print(f\"Der Block mit 'bedingung={bedingung}' wurde ausgeführt.\")\n",
    "else:\n",
    "    # wird nur ausgeführt wenn Bedingung False ist\n",
    "    print(f\"Der alternative Block mit 'bedingung={bedingung}' wurde ausgeführt.\")"
   ]
  },
  {
   "cell_type": "code",
   "execution_count": null,
   "metadata": {},
   "outputs": [],
   "source": [
    "bedingung=False\n",
    "if bedingung:\n",
    "    # wird nur ausgeführt wenn Bedingung True ist\n",
    "    print(f\"Der Block mit 'bedingung={bedingung}' wurde ausgeführt.\")\n",
    "else:\n",
    "    # wird nur ausgeführt wenn Bedingung False ist\n",
    "    print(f\"Der alternative Block mit 'bedingung={bedingung}' wurde ausgeführt.\")"
   ]
  },
  {
   "cell_type": "markdown",
   "metadata": {},
   "source": [
    "Ein typisches Beispiel ist das Abfangen von Divisionen durch 0. Da man bei Berechnungen nicht immer garantieren kann, dass der Nenner 0 sein kann. Da diese nicht definiert ist, führt sie zu einem Programmfehler und ggf. zu einem Programmabsturz."
   ]
  },
  {
   "cell_type": "code",
   "execution_count": 27,
   "metadata": {
    "tags": [
     "raises-exception"
    ]
   },
   "outputs": [
    {
     "ename": "ZeroDivisionError",
     "evalue": "division by zero",
     "output_type": "error",
     "traceback": [
      "\u001b[0;31m---------------------------------------------------------------------------\u001b[0m",
      "\u001b[0;31mZeroDivisionError\u001b[0m                         Traceback (most recent call last)",
      "Cell \u001b[0;32mIn[27], line 3\u001b[0m\n\u001b[1;32m      1\u001b[0m zaehler \u001b[38;5;241m=\u001b[39m \u001b[38;5;241m5\u001b[39m\n\u001b[1;32m      2\u001b[0m nenner \u001b[38;5;241m=\u001b[39m \u001b[38;5;241m0\u001b[39m\n\u001b[0;32m----> 3\u001b[0m ergebnis \u001b[38;5;241m=\u001b[39m \u001b[43mzaehler\u001b[49m\u001b[43m \u001b[49m\u001b[38;5;241;43m/\u001b[39;49m\u001b[43m \u001b[49m\u001b[43mnenner\u001b[49m\n",
      "\u001b[0;31mZeroDivisionError\u001b[0m: division by zero"
     ]
    }
   ],
   "source": [
    "zaehler = 5\n",
    "nenner = 0\n",
    "ergebnis = zaehler / nenner"
   ]
  },
  {
   "cell_type": "markdown",
   "metadata": {},
   "source": [
    "Um dies abzufangen können wir eine `if-else`-Verzweigung nutzen und dem Ergebnis den Wert `None` (im Sinne von 'nicht definiert') zuweisen."
   ]
  },
  {
   "cell_type": "code",
   "execution_count": 29,
   "metadata": {},
   "outputs": [
    {
     "name": "stdout",
     "output_type": "stream",
     "text": [
      "Teilung durch 0\n",
      "Das Ergebnis von 5/0 = None\n"
     ]
    }
   ],
   "source": [
    "nenner = 0\n",
    "if nenner: # der Wahrheitswert eines int-Wertes ist False bei 0 und Wahr für != 0 \n",
    "\tergebnis = zaehler / nenner\n",
    "else:\n",
    "\tprint(\"Teilung durch 0\")\n",
    "\tergebnis = None\n",
    "print(f\"Das Ergebnis von {zaehler}/{nenner} = {ergebnis}\")"
   ]
  },
  {
   "cell_type": "markdown",
   "metadata": {},
   "source": [
    "Da man ferner bei Python durch die dynamische Typisierung gar nicht garantieren kann, dass `zaehler` und `nenner` vom richtigen Datentyp `int` sind, ist es sinnvoll eine Typprüfung hinzuzufügen. Hierfür prüfen wir zuerst den Datentyp mit der bekannten Funktion `type()` bevor wir die Prüfung auf 0-Teilung machen. Dafür verschachteln wir die `if-else` Bedingungen."
   ]
  },
  {
   "cell_type": "code",
   "execution_count": 30,
   "metadata": {},
   "outputs": [
    {
     "name": "stdout",
     "output_type": "stream",
     "text": [
      "Zaehler nicht vom Datentyp `int`, sondern vom Typ <class 'str'>\n",
      "Das Ergebnis von keine_zahl/0 = None\n"
     ]
    }
   ],
   "source": [
    "zaehler = 'keine_zahl'\n",
    "nenner = 0\n",
    "if type(zaehler) == int:\n",
    "    if type(nenner) == int:\n",
    "        if nenner: # der Wahrheitswert eines int-Wertes ist False bei 0 und Wahr für != 0 \n",
    "            ergebnis = zaehler / nenner\n",
    "        else:\n",
    "            print(\"Teilung durch 0\")\n",
    "            ergebnis = None\n",
    "    else:\n",
    "        print(f\"Nenner nicht vom Datentyp `int`, sondern vom Typ {type(nenner)}\")\n",
    "        ergebnis = None\n",
    "else:\n",
    "    print(f\"Zaehler nicht vom Datentyp `int`, sondern vom Typ {type(zaehler)}\")\n",
    "    ergebnis = None\n",
    "\n",
    "print(f\"Das Ergebnis von {zaehler}/{nenner} = {ergebnis}\")"
   ]
  },
  {
   "cell_type": "markdown",
   "metadata": {},
   "source": [
    "### `elif` - Für noch mehr Alternativen"
   ]
  },
  {
   "cell_type": "markdown",
   "metadata": {},
   "source": [
    "Gibt es wie im letzten Beispiel mehrere verschachtelte Alternativen, so wird der Code sehr schnell unübersichtlich und man braucht eine kompaktere Schreibweise. Hierfür gibt es in Python die `elif`-Anweisung, welche einfach nur eine Kurzform von `else if` ist und keines weiteren Einrückens bedarf. So, kann man den vorherigen Code leserlicher schreiben als:"
   ]
  },
  {
   "cell_type": "code",
   "execution_count": 35,
   "metadata": {},
   "outputs": [
    {
     "name": "stdout",
     "output_type": "stream",
     "text": [
      "Teilung durch 0\n",
      "Das Ergebnis von keine_zahl/0 = None\n"
     ]
    }
   ],
   "source": [
    "zaehler = 'keine_zahl'\n",
    "nenner = 0\n",
    "ergebnis = None\n",
    "if not isinstance(nenner, int):\n",
    "    print(f\"Nenner nicht vom Datentyp `int`, sondern vom Typ {type(nenner)}\")\n",
    "elif not isinstance(zaehler, int):\n",
    "    print(f\"Zaehler nicht vom Datentyp `int`, sondern vom Typ {type(zaehler)}\")\n",
    "elif not nenner:\n",
    "    print(\"Teilung durch 0\")\n",
    "else:\n",
    "    ergebnis = zaehler / nenner\n",
    "\n",
    "print(f\"Das Ergebnis von {zaehler}/{nenner} = {ergebnis}\")"
   ]
  },
  {
   "cell_type": "markdown",
   "metadata": {},
   "source": [
    "Hierbei haben wir:\n",
    "-  als erstes die Bedingung `type(zaehler) == int` ersetzt durch die Standardfunktion `isinstance(zaehler, int)` welche identisch ist und einfacher zu lesen.\n",
    "-  wir haben alle Fehlerfälle zuerst bearbeitet, um sicher zu stellen, dass sie vor Ausführung der Berechnung abgefragt werden\n",
    "-  so prüfen wir erst ob der `zaehler` nicht vom Datentyp `int` ist und geben in diesem Fall eine Fehlermeldung aus\n",
    "-  Ist das nicht der Fall, so könnte `nenner` nicht vom Datentyp `int` sein und würden in diesem Fall eine andere Fehlermeldung ausgeben\n",
    "-  dann muss muss der `nenner` vom Datentyp `int` sein und wir prüfen ob er 0 ist mit einer entsprechenden Fehlermeldung\n",
    "-  da in allen drei Fällen das `ergebnis` den Wert `None` hat, haben wir diese Zuweisung vor den `if`-Block gesetzt\n",
    "-  der letzte `else` Block wird nur erreicht, wenn all dies nicht zutrifft, also `zaehler` und `nenner` vom Datentypen `int` und `nenner` nicht 0 ist. Nur in diesem Fall wird `ergebnis` mit dem Wert der Teilung belegt"
   ]
  },
  {
   "cell_type": "markdown",
   "metadata": {},
   "source": [
    ":::{note}\n",
    "Hierbei ist zu beachten, dass wir absichtlich die Fehlermeldung \"Teilung durch 0\" nach hinten bewegt haben. Es wäre auch möglich mit der Bedingung `if not nenner` in der originalen Reihenfolge zu starten. Hier gäbe es allerdings die Gefahr, dass Aufgrund der Wahrheitswerte anderer Datentypen auch z.B. eine leere Liste diese Bedingung korrekt erfüllen wurde. Wir bekommen in diesem Fall eine falsche Fehlermeldung angezeigt (\"Teilung durch 0\" statt \"Nenner vom Datentyp `int`\"), wie folgendes Beispiel zeigt. Das ist eine der typischen Gefahren von dynamisch typisierten Sprachen. Grundsätzlich sind deshalb Datentyp-Prüfungen immer zuerst zu machen.\n",
    ":::"
   ]
  },
  {
   "cell_type": "code",
   "execution_count": 36,
   "metadata": {},
   "outputs": [
    {
     "name": "stdout",
     "output_type": "stream",
     "text": [
      "Teilung durch 0\n",
      "Das Ergebnis von 10/[] = None\n"
     ]
    }
   ],
   "source": [
    "zaehler = 10\n",
    "nenner = []\n",
    "ergebnis = None\n",
    "if not nenner:\n",
    "    print(\"Teilung durch 0\")\n",
    "elif not isinstance(nenner, int):\n",
    "    print(f\"Nenner nicht vom Datentyp `int`, sondern vom Typ {type(nenner)}\")\n",
    "elif not isinstance(zaehler, int):\n",
    "    print(f\"Zaehler nicht vom Datentyp `int`, sondern vom Typ {type(zaehler)}\")\n",
    "else:\n",
    "    ergebnis = zaehler / nenner\n",
    "\n",
    "print(f\"Das Ergebnis von {zaehler}/{nenner} = {ergebnis}\")"
   ]
  },
  {
   "cell_type": "markdown",
   "metadata": {},
   "source": [
    "### `match` - Bei vielen Alternativen einer Variable"
   ]
  },
  {
   "cell_type": "markdown",
   "metadata": {},
   "source": [
    "In vielen Programmiersprachen gibt es zum Behandeln vieler Alternativen einer einzelnen Variable die `match`-Anweisung. Sie gibt es erst seit der Version 3.10 in Python. Damit kann ein solcher Fall etwas kompakter als mit `elif`-Anweisungen behandelt werden."
   ]
  },
  {
   "cell_type": "code",
   "execution_count": null,
   "metadata": {},
   "outputs": [],
   "source": [
    "variable = \"c\"\n",
    "match(variable):\n",
    "    case \"a\": # if variable == \"a\"\n",
    "        print(\"Wert war 'a'\")\n",
    "    case \"b\": # elif variable == \"b\"\n",
    "        print(\"Wert war 'b'\")\n",
    "    case \"c\": # elif variable == \"c\"\n",
    "        print(\"Wert war 'c'\")\n",
    "    case _:   # else\n",
    "        print(\"Wert war nicht 'a', 'b' oder 'c'\")"
   ]
  },
  {
   "cell_type": "markdown",
   "metadata": {},
   "source": [
    "## Quiz\n",
    "\n",
    "```{quizdown}\n",
    "\t---\n",
    "\tshuffleQuestions: true\n",
    "\tshuffleAnswers: true\n",
    "\t---\n",
    "\n",
    "    ### Was macht eine `if`-Anweisung in Python?\n",
    "    - [x] Führt einen Block aus, wenn die Bedingung wahr ist  \n",
    "    - [ ] Wiederholt Code mehrfach  \n",
    "    - [ ] Beendet das Programm  \n",
    "    - [ ] Fragt den Nutzer nach einer Eingabe\n",
    "\n",
    "    ### Welche Syntax ist korrekt für eine `if`-Bedingung in Python?\n",
    "    - [x] if x > 5:  \n",
    "    - [ ] if (x > 5)  \n",
    "    - [ ] if x > 5 then  \n",
    "    - [ ] if x > 5 {}\n",
    "\n",
    "    ### Was passiert bei der Bedingung `if not x:` in Python?\n",
    "    - [x] Der Codeblock wird ausgeführt, wenn `x` als False interpretiert wird  \n",
    "    - [ ] Der Codeblock wird bei `x == True` ausgeführt  \n",
    "    - [ ] Die Variable `x` wird gelöscht  \n",
    "    - [ ] Python erzeugt einen Fehler\n",
    "\n",
    "    ### Welche dieser Werte gelten in Python als `False`?\n",
    "    - [x] Leere Liste `[]`  \n",
    "    - [x] Der Wert `None`  \n",
    "    - [x] Leerer String `\"\"`  \n",
    "    - [ ] Die Zahl `1`\n",
    "\n",
    "    ### Wann wird ein `else`-Block in Python ausgeführt?\n",
    "    - [x] Wenn die `if`-Bedingung nicht zutrifft  \n",
    "    - [ ] Wenn die `if`-Bedingung wahr ist  \n",
    "    - [ ] Immer, wenn ein Fehler auftritt  \n",
    "    - [ ] Direkt nach dem Start des Programms\n",
    "\n",
    "    ### Wofür wird `else` häufig verwendet?\n",
    "    - [x] Um einen alternativen Code auszuführen  \n",
    "    - [ ] Um Funktionen zu definieren  \n",
    "    - [ ] Um Variablen zu löschen  \n",
    "    - [ ] Um Einrückungen zu prüfen\n",
    "\n",
    "    ### Was ist `elif` in Python?\n",
    "    - [x] Kurzform für „else if“  \n",
    "    - [ ] Eine Methode zur String-Verarbeitung  \n",
    "    - [ ] Ein logischer Operator  \n",
    "    - [ ] Ein alternativer Schleifentyp\n",
    "\n",
    "    ### Warum ist `elif` nützlich?\n",
    "    - [x] Es macht den Code kürzer und übersichtlicher  \n",
    "    - [ ] Es ersetzt die `while`-Schleife  \n",
    "    - [ ] Es deaktiviert `else`  \n",
    "    - [ ] Es zwingt Python zum Neustart\n",
    "\n",
    "    ### Was macht `isinstance(x, int)`?\n",
    "    - [x] Prüft, ob `x` vom Typ `int` ist  \n",
    "    - [ ] Wandelt `x` in einen `int` um  \n",
    "    - [ ] Löscht die Variable `x`  \n",
    "    - [ ] Erzeugt eine neue Instanz\n",
    "\n",
    "    ### Warum ist Typprüfung in Python nützlich?\n",
    "    - [x] Um Fehler zu vermeiden, z. B. bei Division durch 0  \n",
    "    - [ ] Weil Python stark typisiert ist  \n",
    "    - [ ] Um Variablen in Funktionen zu kopieren  \n",
    "    - [ ] Um Schleifen zu beenden\n",
    "\n",
    "    ### Sortiere die folgenden Zeilen, um ein korrekt eingerücktes `if-else`-Statement zu erhalten. Geben ist:\n",
    "    ```python\n",
    "    a = 3\n",
    "    b = 5\n",
    "    ```\n",
    "    1. `if a < b:`\n",
    "    2. `  print(\"a ist kleiner als b\")`\n",
    "    3. `else:`\n",
    "    4. `  print(\"a ist größer oder gleich b\")`\n",
    "\n",
    "    ### Sortiere die Zeilen korrekt für eine Funktion mit `if` und `return`:\n",
    "    1. `  if x > 0:`\n",
    "    2. `    return \"positiv\"`\n",
    "    3. `  else:`\n",
    "    4. `    return \"nicht positiv\"`\n",
    "\n",
    "\n",
    "    ### Bringe die `if-elif-else`-Struktur in korrekte Reihenfolge:\n",
    "    1. `if note == 1:`\n",
    "    2. `  print(\"sehr gut\")`\n",
    "    3. `elif note >= 4:`\n",
    "    4. `  print(\"bestanden\")`\n",
    "    5. `else:`\n",
    "    6. `  print(\"nicht bestanden\")`\n",
    "\n",
    "\n",
    "    ### Welcher Fehler ist in folgendem Code enthalten?\n",
    "    ```python\n",
    "    if x > 5\n",
    "        print(\"x ist größer als 5\")\n",
    "    ```\n",
    "    - [x] Der Doppelpunkt `:` nach der Bedingung fehlt\n",
    "    - [ ] Die Einrückung ist zu groß\n",
    "    - [ ] `if` darf nicht mit `>` kombiniert werden\n",
    "    - [ ] `print` darf nicht in einer `if`-Anweisung stehen\n",
    "\n",
    "\n",
    "    ### Was stimmt bei diesem Code nicht?\n",
    "    ```python\n",
    "    if y == 10:\n",
    "    print(\"y ist gleich 10\")\n",
    "    ```\n",
    "    - [x] Die Zeile mit `print` ist nicht eingerückt\n",
    "    - [ ] Der Vergleichsoperator `==` ist ungültig\n",
    "    - [ ] Die `if`-Bedingung darf kein `:` enthalten\n",
    "    - [ ] Strings müssen in Hochkommas stehen\n",
    "\n",
    "\n",
    "    ### Wo ist der Fehler in diesem Code?\n",
    "    ```python\n",
    "    if x > 5:\n",
    "        return True\n",
    "    else\n",
    "        return False\n",
    "    ```\n",
    "    - [x] Nach `else` fehlt ein Doppelpunkt `:`\n",
    "    - [ ] `return` darf nicht in `if` stehen\n",
    "    - [ ] Funktionen dürfen kein `if` enthalten\n",
    "    - [ ] Die Klammern bei `test` sind falsch\n",
    "\n",
    "\n",
    "    ### Welcher Fehler steckt in diesem Beispiel?\n",
    "    ```python\n",
    "    if x = 5:\n",
    "        print(\"x ist 5\")\n",
    "    ```\n",
    "    - [x] Es wird `=` (Zuweisung) statt `==` (Vergleich) verwendet\n",
    "    - [ ] `x` ist kein gültiger Variablenname\n",
    "    - [ ] Der `print`-Befehl ist veraltet\n",
    "    - [ ] Zahlen dürfen nicht verglichen werden\n",
    "\n",
    "\n",
    "```"
   ]
  }
 ],
 "metadata": {
  "kernelspec": {
   "display_name": "Python 3 (ipykernel)",
   "language": "python",
   "name": "python3"
  },
  "language_info": {
   "codemirror_mode": {
    "name": "ipython",
    "version": 3
   },
   "file_extension": ".py",
   "mimetype": "text/x-python",
   "name": "python",
   "nbconvert_exporter": "python",
   "pygments_lexer": "ipython3",
   "version": "3.12.10"
  },
  "rise": {
   "auto_select": "none",
   "center": false,
   "enable_chalkboard": true,
   "header": "<img src=\"images/pd_logo.svg\" class=\"header_title_logo\"><img src=\"images/ai4sc_logo_v2.svg\" class=\"header_ai4sc_logo\">",
   "scroll": true,
   "show_buttons_on_startup": false,
   "slideNumber": true,
   "theme": "white"
  },
  "vscode": {
   "interpreter": {
    "hash": "6d5b4c1aed727cf1aeefa5ce625efdd40a732dd8ec11ef525b58c5aca2b06a32"
   }
  }
 },
 "nbformat": 4,
 "nbformat_minor": 4
}
