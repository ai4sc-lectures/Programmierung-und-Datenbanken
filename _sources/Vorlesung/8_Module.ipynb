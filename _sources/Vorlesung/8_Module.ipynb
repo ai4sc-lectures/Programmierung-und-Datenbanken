{
 "cells": [
  {
   "cell_type": "markdown",
   "metadata": {},
   "source": [
    "# Pakete"
   ]
  },
  {
   "cell_type": "markdown",
   "metadata": {},
   "source": [
    "## Code in Dateien, Module und Pakete aufteilen"
   ]
  },
  {
   "cell_type": "markdown",
   "metadata": {},
   "source": [
    "Größere Programme enthalten oft dutzende Klassen mit hunderten Funktionen und vielen tausend Zeilen Code. Hier wird es sehr schnell schwer einen Überblick zu behalten, wenn alle Klassen in einer Datei definiert sind. Insbesondere wenn verschiedene Programmierer an verschiedenen Stellen im Programm arbeiten, kommt es dann sehr schnell zu Versionskonflikten, wenn Leute an ähnlichen Dateien arbeiten.\n",
    "\n",
    "Um dies organisiert und übersichtlich zu halten, wird Code in mehrere Dateien mit der Erweiterung `.py` aufgespalten. Dabei ist es üblich jeweils eine Datei\n",
    "-  pro Klasse, wenn Klassen definiert werden\n",
    "-  pro Thema, wenn Hilfsfunktionen definiert werden (z.B. Mathematik-Funktionen, …)\n",
    "-  pro Aufgabenbereich, wenn (z.B. Laden von Daten getrennt von deren Verarbeitung. So kann man z.B. später andere Verarbeitungsschritte definieren und das Laden wiederverwenden)"
   ]
  },
  {
   "cell_type": "markdown",
   "metadata": {},
   "source": [
    "Speichern wir jede Klasse der Geometrieelemente aus dem Teil der [Klassendefinition](7a_Objects.ipynb) aus der letzten Vorlesung so hätten wir dann z.B. eine Projektstruktur entsprechend:"
   ]
  },
  {
   "cell_type": "markdown",
   "metadata": {},
   "source": [
    "- 📁 geometry\n",
    "    - 📄 [ImmutablePoint.py](geometry/points/ImmutablePoint.py)\n",
    "    - 📄 [Point.py](geometry/points/Point.py)\n",
    "    - 📄 [Line.py](geometry/shapes/Line.py)\n",
    "    - 📄 [Pentagon.py](geometry/shapes/Pentagon.py)\n",
    "    - 📄 [Polygon.py](geometry/shapes/Polygon.py)\n",
    "    - 📄 [Tetragon.py](geometry/shapes/Tetragon.py)\n",
    "    - 📄 [Triangle.py](geometry/shapes/Triangle.py)\n",
    "\n",
    "<!-- <center><img src=\"images/files.png\" style=\"width: 40ex\"></center> -->"
   ]
  },
  {
   "cell_type": "markdown",
   "metadata": {},
   "source": [
    "Dabei enthält jede Datei nur den Code der gleichnamigen Klasse, auch wenn dies nur wenige Zeilen sind, wie im Fall der Klassen `Triangle`, `Tetragon` und `Pentagon`. Entscheidend ist, dass wenn ein Programmierer nach dem Code für eine Klasse sucht, er genau sieht in welcher Datei dieser zu finden ist und nicht groß suchen muss.\n",
    "\n",
    "Noch größere Projekte spalten man in mehrere *Module* indem man weitere Unterverzeichnisse anlegt. So wollen wir z.B. alle generischen Klassen für Punkte in das Verzeichnis `points` gruppieren und alle geometrischen Formen in das Verzeichnis `shapes`. So lassen sich größere Projekte gut strukturieren.\n",
    "\n",
    "Die Summe aller Module formt dann ein *Package*. In diesem Fall das Package `geometry`, welches wir in verschiedenen Implementierungen wieder verwenden können."
   ]
  },
  {
   "cell_type": "markdown",
   "metadata": {},
   "source": [
    "- 📁 geometry\n",
    "    - 📁 points\n",
    "        - 📄 [ImmutablePoint.py](geometry/points/ImmutablePoint.py)\n",
    "        - 📄 [Point.py](geometry/points/Point.py)\n",
    "    - 📁 shapes\n",
    "        - 📄 [Line.py](geometry/shapes/Line.py)\n",
    "        - 📄 [Pentagon.py](geometry/shapes/Pentagon.py)\n",
    "        - 📄 [Polygon.py](geometry/shapes/Polygon.py)\n",
    "        - 📄 [Tetragon.py](geometry/shapes/Tetragon.py)\n",
    "        - 📄 [Triangle.py](geometry/shapes/Triangle.py)\n",
    "\n",
    "<!-- <center><img src=\"images/shapes.png\" style=\"width: 40ex\"></center> -->"
   ]
  },
  {
   "cell_type": "markdown",
   "metadata": {},
   "source": [
    "## `main()` - Der Startpunkt eines Programmes "
   ]
  },
  {
   "cell_type": "markdown",
   "metadata": {},
   "source": [
    "Wenn Code über mehrere Dateien verteilt ist, braucht Python einen Hinweis welcher Code ausgeführt werden soll. Hierfür definiert man die spezielle Einstiegsfunktion `main()`. Sie gibt es in fast allen Programmiersprachen und gibt immer den Startpunkt eines Programms an.\n",
    "\n",
    "In Python hat sie entweder keine Argumente oder sie erhält diese dynamisch, wenn sie vom Nutzer / von einem anderen Programm aufgerufen wird (a.k.a. Kommandozeilenargumente)."
   ]
  },
  {
   "cell_type": "code",
   "execution_count": 1,
   "metadata": {},
   "outputs": [],
   "source": [
    "def main():\n",
    "\tprint(\"This is the main function\")"
   ]
  },
  {
   "cell_type": "markdown",
   "metadata": {},
   "source": [
    "Allerdings möchte man vermeiden, dass die Funktion `main()` auch aufgerufen wird, wenn die Python-Datei zum Beispiel als Bibliothek eingebunden wird, wo man nur an den Funktionen interessiert ist. Deshalb nutzt man am Ende einer Datei mit einer `main()`-Funktion die folgende Verzweigung."
   ]
  },
  {
   "cell_type": "code",
   "execution_count": 2,
   "metadata": {},
   "outputs": [
    {
     "name": "stdout",
     "output_type": "stream",
     "text": [
      "This is the main function\n"
     ]
    }
   ],
   "source": [
    "if __name__ == \"__main__\":\n",
    "\tmain()"
   ]
  },
  {
   "cell_type": "markdown",
   "metadata": {},
   "source": [
    "Sie nutzt aus, dass der Wert der Standardvariable `__name__` in der Hauptdatei immer `'__main__'` lautet. Während sie in einer importierten Datei den Namen der Hauptdatei angibt."
   ]
  },
  {
   "cell_type": "markdown",
   "metadata": {},
   "source": [
    "## Importieren von Modulen"
   ]
  },
  {
   "cell_type": "markdown",
   "metadata": {},
   "source": [
    "Um zu vermeiden, dass ständig unnötiger Code geladen wird lädt Python diesen Code nicht automatisch. Wollen wir also den Code in unseren Dateien, Modulen und Packages nutzen so müssen wir vorher Python anweisen diesen zu laden. Dieses *Importieren* weist man mit dem Befehl `import` an.\n",
    "\n",
    "Ein einfacher Import ist der import ganzer Pakete. Dies geschieht, indem wir `import` und dem Paketnamen schreiben."
   ]
  },
  {
   "cell_type": "code",
   "execution_count": 3,
   "metadata": {},
   "outputs": [
    {
     "name": "stdout",
     "output_type": "stream",
     "text": [
      "Die Länge der Linie zwischen Punkt 1 und 2 ist: 0.016747010509340444\n"
     ]
    }
   ],
   "source": [
    "import geometry.points.ImmutablePoint\n",
    "import geometry.shapes.Line\n",
    "\n",
    "def main():\n",
    "\tpoint_1 = geometry.points.ImmutablePoint.ImmutablePoint(x=54.083336, y=12.108811)\n",
    "\tpoint_2 = geometry.points.ImmutablePoint.ImmutablePoint(y=12.094167, x=54.075211)\n",
    "\tlinie_1 = geometry.shapes.Line.Line(start=point_1, end=point_2)\n",
    "\tprint(f\"Die Länge der Linie zwischen Punkt 1 und 2 ist: {linie_1.length()}\")\n",
    "\n",
    "if __name__ == \"__main__\":\n",
    "\tmain()"
   ]
  },
  {
   "cell_type": "markdown",
   "metadata": {},
   "source": [
    "Der Nachteil des Imports ganzer Pakete ist, dass wenn wir hieraus einzelne Klassen referenzieren wollen, die sich in Untermodulen befinden, so müssen wir den kompletten Pfad der Klasse angeben. In dem Beispiel oben zum Beispiel `geometry.points.ImmutablePoint.ImmutablePoint`."
   ]
  },
  {
   "cell_type": "markdown",
   "metadata": {},
   "source": [
    "Deshalb importiert man meist einzelne Module indem man den Pfad eines Moduls angibt, wie zum Beispiel `geometry.points.ImmutablePoint.ImmutablePoint`. Hierbei kann man den importierten Modulen auch neue Namen geben wie `point` oder `line` in dem Beispiel unten."
   ]
  },
  {
   "cell_type": "code",
   "execution_count": 4,
   "metadata": {},
   "outputs": [
    {
     "name": "stdout",
     "output_type": "stream",
     "text": [
      "Die Länge der Linie zwischen Punkt 1 und 2 ist: 0.016747010509340444\n"
     ]
    }
   ],
   "source": [
    "import geometry.points.ImmutablePoint as point\n",
    "import geometry.shapes.Line as line\n",
    "\n",
    "def main():\n",
    "\tpoint_1 = point.ImmutablePoint(x=54.083336, y=12.108811)\n",
    "\tpoint_2 = point.ImmutablePoint(y=12.094167, x=54.075211)\n",
    "\tlinie_1 = line.Line(start=point_1, end=point_2)\n",
    "\tprint(f\"Die Länge der Linie zwischen Punkt 1 und 2 ist: {linie_1.length()}\")\n",
    "\n",
    "if __name__ == \"__main__\":\n",
    "\tmain()"
   ]
  },
  {
   "cell_type": "markdown",
   "metadata": {},
   "source": [
    "Alternativ lassen sich auch Teile eines Moduls mit dem Platzhalter `*` und dem Befehl `from` importieren. Alle Elemente werden mit dem Platzhalter `*` importiert. Spezifische Elemente wie einzelne Klassen können auch direkt angegeben werden, wie im folgenden Beispiel `Line`."
   ]
  },
  {
   "cell_type": "code",
   "execution_count": 5,
   "metadata": {},
   "outputs": [
    {
     "name": "stdout",
     "output_type": "stream",
     "text": [
      "Die Länge der Linie zwischen Punkt 1 und 2 ist: 0.016747010509340444\n"
     ]
    }
   ],
   "source": [
    "from geometry.points.ImmutablePoint import *\n",
    "from geometry.shapes.Line import Line\n",
    "\n",
    "def main():\n",
    "\tpoint_1 = ImmutablePoint(x=54.083336, y=12.108811)\n",
    "\tpoint_2 = ImmutablePoint(y=12.094167, x=54.075211)\n",
    "\tlinie_1 = Line(start=point_1, end=point_2)\n",
    "\tprint(f\"Die Länge der Linie zwischen Punkt 1 und 2 ist: {linie_1.length()}\")\n",
    "\n",
    "if __name__ == \"__main__\":\n",
    "\tmain()"
   ]
  },
  {
   "cell_type": "markdown",
   "metadata": {},
   "source": [
    "## Standard Paktete aus Python importieren"
   ]
  },
  {
   "cell_type": "markdown",
   "metadata": {},
   "source": [
    "Python beinhaltet viele [Standardpakete](https://python.readthedocs.io/en/latest/library/index.html) für typische Aufgaben. Für die Bau- und Umweltinformatik sind die folgenden am sinnvollsten:"
   ]
  },
  {
   "cell_type": "markdown",
   "metadata": {},
   "source": [
    "| packet |   description |\n",
    "| ------ | ------------- |\n",
    "| collections | Mehr komplexe Datentypen zum zählen, sortieren     |\n",
    "| http   | Funktionen des HTTP-Internetprotokolls wie Web-Server   |\n",
    "| json   | Funktionen um Objekte als Text abzuspeichern            |\n",
    "| logging| Funktionen um Logs zu schreiben                         |\n",
    "| math   | Mathematische Funktionen                                |\n",
    "| os     | Funktionen um Dateien zu finden, laden und speichern     |\n",
    "| pickle | Funktionen um Objekte binär abzuspeichern               |\n",
    "| pprint | print-Funktionen um Objekte schöner (pretty) auszugeben |\n",
    "| random | Funktionen zum Erzeugen von Zufallszahlen               |\n",
    "| re     | Funktionen für Reguläre Ausdrücke um Text zu suchen     |\n",
    "| sys    | Funktionen um Systeminformationen zu erhalten           |\n",
    "| time   | Funktionen für Zeit und Datumsangaben                   |\n",
    "| timeit | Funktionen um die Performance von Funktionen zu testen  |\n",
    "|traceback| Funktionen um den Stack aufzulisten                    |\n",
    "| urllib | Funktionen um ULRs im Internet zu laden und verarbeiten |"
   ]
  },
  {
   "cell_type": "markdown",
   "metadata": {},
   "source": [
    "Von der Liste haben wir die Bibliotheken `math`, `time`, `timeit`, `traceback` und `logging` schon kennen gelernt und benutzt. Die anderen Pakete bieten allerdings weitere sinnvolle Funktionen.\n",
    "\n",
    " Wollen wir zum Beispiel alle Dateien in einem Verzeichnis auflisten, so nutzen wir das Paket `os`."
   ]
  },
  {
   "cell_type": "code",
   "execution_count": 6,
   "metadata": {},
   "outputs": [
    {
     "name": "stdout",
     "output_type": "stream",
     "text": [
      "geometry/shapes/Line.py\n",
      "geometry/shapes/Pentagon.py\n",
      "geometry/shapes/Polygon.py\n",
      "geometry/shapes/Tetragon.py\n",
      "geometry/shapes/Triangle.py\n",
      "geometry/shapes/__pycache__\n"
     ]
    }
   ],
   "source": [
    "import os\n",
    "folder = \"geometry/shapes/\"\n",
    "for count, filename in enumerate(os.listdir(folder)):\n",
    "\tpath = os.path.join(folder, filename)\n",
    "\tprint(path)"
   ]
  },
  {
   "cell_type": "markdown",
   "metadata": {},
   "source": [
    "Viele Webseiten bieten Programmierschnittstellen an, so genannte APIs, da diese APIs auch von den eigenen Webseiten genutzt werden, um Daten nachzuladen, die auf der Webseite angezeigt werden. Die APIs nutzen meist das JSON-Format um Daten auszutauschen. Dies ist ein Text-basiertes Dateiformat, das in Python sehr stark dem `dict`-Datentyp ähnelt, aber auch alle anderen primitiven und zusammengesetzten Datentypen von Python unterstützt. \n",
    "\n",
    "Wir möchten zum Beispiel die Wetterdaten einer Wetterstation in Deutschland analysieren. Diese Daten bekommen wir beim [Deutschen Wetterdiest](https://www.dwd.de). Diese Daten kann man sich auch von der [API](https://dwd.api.bund.dev/) herunterladen. Hierfür braucht man die ID (Identifikationsnummer) einer Wetterstation welche [hier](https://www.dwd.de/DE/leistungen/klimadatendeutschland/statliste/statlex_html.html?view=nasPublication&nn=16102) zu finden ist. Wir nehmen als Beispiel eine Station im Hansaviertel in Rostock mit der ID `12495`.\n",
    "\n",
    "Dann kann man die Wetterdaten mit Python mit Hilfe des Paketes `urllib` von der API laden. Das JSON-Format können wir mit dem `json` Paket verarbeiten. Wir laden dazu zuerst vom Deutschen Wetterdienst ein binäres Datenpaket vom Datentype `bytes`. Dieses konvertieren wir mit der Funktion `loads` aus dem `json` Paket in ein Python `dict`. Um das schöner lesbar auszugeben, nutzen wir die Funktion `pprint` aus dem Paket `pprint` (pretty-print)."
   ]
  },
  {
   "cell_type": "code",
   "execution_count": 7,
   "metadata": {
    "tags": [
     "output_scroll"
    ]
   },
   "outputs": [
    {
     "name": "stdout",
     "output_type": "stream",
     "text": [
      "{ '12495': { 'days': [ { 'dayDate': '2022-12-11',\n",
      "                         'icon': 14,\n",
      "                         'icon1': None,\n",
      "                         'icon2': None,\n",
      "                         'moonPhase': 4,\n",
      "                         'moonrise': 1670777475000,\n",
      "                         'moonset': 1670750973000,\n",
      "                         'precipitation': 5,\n",
      "                         'stationId': None,\n",
      "                         'sunrise': 1670739865000,\n",
      "                         'sunset': 1670768579000,\n",
      "                         'sunshine': 0,\n",
      "                         'temperatureMax': -15,\n",
      "                         'temperatureMin': -43,\n",
      "                         'windDirection': 3480,\n",
      "                         'windGust': 408,\n",
      "                         'windSpeed': 241},\n",
      "                       { 'dayDate': '2022-12-12',\n",
      "                         'icon': 14,\n",
      "                         'icon1': None,\n",
      "                         'icon2': None,\n",
      "                         'moonPhase': 5,\n",
      "                         'moonrise': 1670868029000,\n",
      "                         'moonset': 1670839150000,\n",
      "                         'precipitation': 52,\n",
      "                         'stationId': None,\n",
      "                         'sunrise': 1670826325000,\n",
      "                         'sunset': 1670854976000,\n",
      "                         'sunshine': 0,\n",
      "                         'temperatureMax': -13,\n",
      "                         'temperatureMin': -39,\n",
      "                         'windDirection': 2490,\n",
      "                         'windGust': 352,\n",
      "                         'windSpeed': 167},\n",
      "                       { 'dayDate': '2022-12-13',\n",
      "                         'icon': 22,\n",
      "                         'icon1': None,\n",
      "                         'icon2': None,\n",
      "                         'moonPhase': 5,\n",
      "                         'moonrise': 1670958722000,\n",
      "                         'moonset': 1670926892000,\n",
      "                         'precipitation': 15,\n",
      "                         'stationId': None,\n",
      "                         'sunrise': 1670912782000,\n",
      "                         'sunset': 1670941377000,\n",
      "                         'sunshine': 540,\n",
      "                         'temperatureMax': -14,\n",
      "                         'temperatureMin': -59,\n",
      "                         'windDirection': 2580,\n",
      "                         'windGust': 408,\n",
      "                         'windSpeed': 185},\n",
      "                       { 'dayDate': '2022-12-14',\n",
      "                         'icon': 14,\n",
      "                         'icon1': None,\n",
      "                         'icon2': None,\n",
      "                         'moonPhase': 5,\n",
      "                         'moonrise': 1671049428000,\n",
      "                         'moonset': 1671014328000,\n",
      "                         'precipitation': 20,\n",
      "                         'stationId': None,\n",
      "                         'sunrise': 1670999236000,\n",
      "                         'sunset': 1671027781000,\n",
      "                         'sunshine': 1020,\n",
      "                         'temperatureMax': -42,\n",
      "                         'temperatureMin': -87,\n",
      "                         'windDirection': 1430,\n",
      "                         'windGust': 352,\n",
      "                         'windSpeed': 130},\n",
      "                       { 'dayDate': '2022-12-15',\n",
      "                         'icon': 14,\n",
      "                         'icon1': None,\n",
      "                         'icon2': None,\n",
      "                         'moonPhase': 5,\n",
      "                         'moonrise': 1671140123000,\n",
      "                         'moonset': 1671101572000,\n",
      "                         'precipitation': 13,\n",
      "                         'stationId': None,\n",
      "                         'sunrise': 1671085688000,\n",
      "                         'sunset': 1671114188000,\n",
      "                         'sunshine': 0,\n",
      "                         'temperatureMax': -24,\n",
      "                         'temperatureMin': -44,\n",
      "                         'windDirection': 2570,\n",
      "                         'windGust': 241,\n",
      "                         'windSpeed': 93},\n",
      "                       { 'dayDate': '2022-12-16',\n",
      "                         'icon': 14,\n",
      "                         'icon1': None,\n",
      "                         'icon2': None,\n",
      "                         'moonPhase': 6,\n",
      "                         'moonrise': 1671230852000,\n",
      "                         'moonset': 1671188717000,\n",
      "                         'precipitation': 42,\n",
      "                         'stationId': None,\n",
      "                         'sunrise': 1671172137000,\n",
      "                         'sunset': 1671200598000,\n",
      "                         'sunshine': 0,\n",
      "                         'temperatureMax': -31,\n",
      "                         'temperatureMin': -53,\n",
      "                         'windDirection': 80,\n",
      "                         'windGust': 259,\n",
      "                         'windSpeed': 111},\n",
      "                       { 'dayDate': '2022-12-17',\n",
      "                         'icon': 14,\n",
      "                         'icon1': None,\n",
      "                         'icon2': None,\n",
      "                         'moonPhase': 6,\n",
      "                         'moonrise': 1671321697000,\n",
      "                         'moonset': 1671275838000,\n",
      "                         'precipitation': 15,\n",
      "                         'stationId': None,\n",
      "                         'sunrise': 1671258582000,\n",
      "                         'sunset': 1671287012000,\n",
      "                         'sunshine': 0,\n",
      "                         'temperatureMax': -48,\n",
      "                         'temperatureMin': -66,\n",
      "                         'windDirection': 3340,\n",
      "                         'windGust': 259,\n",
      "                         'windSpeed': 111},\n",
      "                       { 'dayDate': '2022-12-18',\n",
      "                         'icon': 4,\n",
      "                         'icon1': None,\n",
      "                         'icon2': None,\n",
      "                         'moonPhase': 6,\n",
      "                         'moonrise': 1671321697000,\n",
      "                         'moonset': 1671362993000,\n",
      "                         'precipitation': 3,\n",
      "                         'stationId': None,\n",
      "                         'sunrise': 1671345025000,\n",
      "                         'sunset': 1671373430000,\n",
      "                         'sunshine': 0,\n",
      "                         'temperatureMax': -45,\n",
      "                         'temperatureMin': -71,\n",
      "                         'windDirection': 2040,\n",
      "                         'windGust': 241,\n",
      "                         'windSpeed': 93},\n",
      "                       { 'dayDate': '2022-12-19',\n",
      "                         'icon': 3,\n",
      "                         'icon1': None,\n",
      "                         'icon2': None,\n",
      "                         'moonPhase': 6,\n",
      "                         'moonrise': 1671412775000,\n",
      "                         'moonset': 1671450258000,\n",
      "                         'precipitation': 0,\n",
      "                         'stationId': None,\n",
      "                         'sunrise': 1671431465000,\n",
      "                         'sunset': 1671459851000,\n",
      "                         'sunshine': 1500,\n",
      "                         'temperatureMax': -30,\n",
      "                         'temperatureMin': -60,\n",
      "                         'windDirection': 2440,\n",
      "                         'windGust': 278,\n",
      "                         'windSpeed': 130},\n",
      "                       { 'dayDate': '2022-12-20',\n",
      "                         'icon': 3,\n",
      "                         'icon1': None,\n",
      "                         'icon2': None,\n",
      "                         'moonPhase': 7,\n",
      "                         'moonrise': 1671504145000,\n",
      "                         'moonset': 1671537743000,\n",
      "                         'precipitation': 0,\n",
      "                         'stationId': None,\n",
      "                         'sunrise': 1671517901000,\n",
      "                         'sunset': 1671546275000,\n",
      "                         'sunshine': 1260,\n",
      "                         'temperatureMax': -16,\n",
      "                         'temperatureMin': -49,\n",
      "                         'windDirection': 2250,\n",
      "                         'windGust': 296,\n",
      "                         'windSpeed': 111}],\n",
      "             'forecast1': { 'dewPoint2m': [ -53, -53, -53, -53, -54, -54, -52,\n",
      "                                            -52, -52, -53, -52, -51, -51, -47,\n",
      "                                            -44, -42, -39, -36, -33, -32, -32,\n",
      "                                            -32, -31, -29, -29, -28, -28, -29,\n",
      "                                            -29, -29, -29, -31, -32, -35, -37,\n",
      "                                            -41, -42, -44, -44, -46, -47, -50,\n",
      "                                            -53, -55, -60, -61, -62, -65, -66,\n",
      "                                            -69, -72, -75, -77],\n",
      "                            'humidity': [ 900, 893, 893, 900, 893, 886, 907,\n",
      "                                          907, 900, 900, 907, 914, 907, 907,\n",
      "                                          914, 914, 908, 915, 922, 928, 922,\n",
      "                                          908, 908, 922, 915, 908, 902, 902,\n",
      "                                          889, 895, 895, 895, 888, 875, 875,\n",
      "                                          843, 843, 830, 836, 818, 817, 817,\n",
      "                                          805, 816, 816, 834, 859, 853, 865,\n",
      "                                          852, 858, 858, 871],\n",
      "                            'icon': [ 22, 32767, 32767, 32767, 32767, 32767, 15,\n",
      "                                      32767, 32767, 32767, 32767, 32767, 15,\n",
      "                                      32767, 32767, 32767, 32767, 32767, 14,\n",
      "                                      32767, 14, 14, 14, 14, 14, 14, 14, 14, 14,\n",
      "                                      14, 14, 14, 14, 14, 14, 14, 14, 14, 14,\n",
      "                                      14, 14, 14, 14, 14, 14, 14, 14, 14, 14,\n",
      "                                      14, 22, 22, 22, 22, 22, 22, 22, 14, 14,\n",
      "                                      22, 14, 14, 22, 22, 4, 4, 4, 4, 4, 4, 4,\n",
      "                                      4, 4],\n",
      "                            'isDay': [ False, False, False, False, False, False,\n",
      "                                       False, False, False, False, False, False,\n",
      "                                       True, False, False, False, False, False,\n",
      "                                       False, False, False, False, False, False,\n",
      "                                       False, False, False, False, False, False,\n",
      "                                       False, False, True, True, True, True,\n",
      "                                       True, True, True, True, False, False,\n",
      "                                       False, False, False, False, False, False,\n",
      "                                       False, False, False, False, False, False,\n",
      "                                       False, False, True, True, True, True,\n",
      "                                       True, True, True, True, False, False,\n",
      "                                       False, False, False, False, False, False,\n",
      "                                       False],\n",
      "                            'precipitationProbablity': None,\n",
      "                            'precipitationProbablityIndex': None,\n",
      "                            'precipitationTotal': [ 32767, 32767, 32767, 32767,\n",
      "                                                    32767, 32767, 32767, 32767,\n",
      "                                                    32767, 32767, 32767, 32767,\n",
      "                                                    32767, 32767, 32767, 32767,\n",
      "                                                    32767, 32767, 32767, 32767,\n",
      "                                                    1, 1, 1, 1, 1, 1, 1, 1, 1,\n",
      "                                                    1, 1, 1, 1, 1, 2, 1, 1, 2,\n",
      "                                                    4, 5, 5, 5, 5, 5, 2, 2, 2,\n",
      "                                                    1, 1, 1, 1, 1, 1, 1, 1, 1,\n",
      "                                                    1, 1, 1, 1, 1, 1, 1, 1, 0,\n",
      "                                                    0, 0, 0, 0, 0, 0, 0, 0],\n",
      "                            'start': 1670713200000,\n",
      "                            'stationId': '12495',\n",
      "                            'surfacePressure': [ 10009, 10015, 10018, 10019,\n",
      "                                                 10017, 10021, 10019, 10022,\n",
      "                                                 10023, 10022, 10023, 10024,\n",
      "                                                 10025, 10026, 10025, 10026,\n",
      "                                                 10027, 10025, 10029, 10031,\n",
      "                                                 10032, 10034, 10035, 10037,\n",
      "                                                 10042, 10043, 10047, 10052,\n",
      "                                                 10057, 10060, 10063, 10067,\n",
      "                                                 10071, 10075, 10081, 10088,\n",
      "                                                 10092, 10096, 10100, 10106,\n",
      "                                                 10109, 10111, 10113, 10118,\n",
      "                                                 10124, 10127, 10128, 10131,\n",
      "                                                 10135, 10136, 10138, 10140,\n",
      "                                                 10142],\n",
      "                            'temperature': [ 32767, -15, 32767, 32767, 32767,\n",
      "                                             32767, 32767, -22, 32767, 32767,\n",
      "                                             32767, 32767, 32767, -30, 32767,\n",
      "                                             32767, 32767, 32767, 32767, -43,\n",
      "                                             32767, -39, -38, -38, -39, -39,\n",
      "                                             -38, -39, -39, -38, -39, -39, -39,\n",
      "                                             -38, -34, -32, -30, -26, -24, -22,\n",
      "                                             -22, -21, -19, -18, -18, -17, -15,\n",
      "                                             -14, -15, -13, -14, -14, -16, -16,\n",
      "                                             -17, -19, -18, -19, -19, -20, -19,\n",
      "                                             -20, -23, -24, -28, -33, -37, -42,\n",
      "                                             -44, -47, -48, -52, -55, -59, -67,\n",
      "                                             -70, -71, -77, -80, -82, -87, -86,\n",
      "                                             -83, -75, -68, -63, -57, -58, -60,\n",
      "                                             -60, -58, -58, -52, -48, -47, -45,\n",
      "                                             -43, -42, -44, -40, -37, -36, -35,\n",
      "                                             -35, -36, -34, -34, -28, -26, -25,\n",
      "                                             -24, -24, -27, -32, -34, -34, -36,\n",
      "                                             -39, -39, -40, -39, -41, -44, -43,\n",
      "                                             -40, -36, -39, -41, -42, -37, -37,\n",
      "                                             -35, -32, -31, -32, -34, -35, -40,\n",
      "                                             -42, -42, -43, -44, -47, -48, -51,\n",
      "                                             -53, -53, -56, -56, -55, -56, -58,\n",
      "                                             -57, -55, -57, -52, -48, -49, -48,\n",
      "                                             -48, -50, -54, -55, -58, -57, -58,\n",
      "                                             -61, -61, -64, -66, -63, -66, -68,\n",
      "                                             -70, -71, -71, -68, -66, -63, -57,\n",
      "                                             -52, -48, -48, -45, -47, -50, -53,\n",
      "                                             -54, -56, -57, -57, -58, -58, -60,\n",
      "                                             -60, -59, -59, -59, -60, -60, -60,\n",
      "                                             -59, -55, -49, -41, -37, -30, -30,\n",
      "                                             -33, -36, -38, -38, -40, -43, -44,\n",
      "                                             -45, -45, -47, -47, -47, -48, -48,\n",
      "                                             -49, -48, -46, -42, -37, -30, -25,\n",
      "                                             -19, -16, -16, -18, -21, -24, -29,\n",
      "                                             -26, -30, -33, -34, -37, -37],\n",
      "                            'temperatureStd': [ 0, 0, 0, 0, 0, 0, 0, 0, 0, 0, 0,\n",
      "                                                0, 0, 0, 0, 0, 0, 0, 0, 0, 0,\n",
      "                                                10, 10, 9, 10, 11, 10, 10, 11,\n",
      "                                                11, 12, 12, 12, 11, 10, 9, 9, 9,\n",
      "                                                9, 9, 9, 9, 10, 10, 9, 9, 9, 9,\n",
      "                                                9, 9, 10, 9, 9, 9, 9, 10, 9, 10,\n",
      "                                                10, 9, 9, 9, 9, 9, 9, 9, 11, 13,\n",
      "                                                13, 13, 14, 15, 15, 15, 16, 16,\n",
      "                                                17, 16, 17, 17, 17, 16, 15, 14,\n",
      "                                                13, 12, 12, 12, 12, 12, 14, 15,\n",
      "                                                17, 17, 18, 18, 18, 18, 18, 18,\n",
      "                                                18, 18, 18, 18, 19, 18, 17, 17,\n",
      "                                                16, 16, 14, 14, 13, 12, 14, 17,\n",
      "                                                18, 18, 18, 18, 19, 19, 20, 20,\n",
      "                                                20, 19, 20, 20, 20, 21, 20, 20,\n",
      "                                                20, 20, 21, 21, 20, 20, 20, 22,\n",
      "                                                22, 24, 24, 24, 23, 22, 24, 24,\n",
      "                                                23, 23, 24, 24, 23, 21, 22, 19,\n",
      "                                                18, 19, 19, 18, 18, 17, 18, 19,\n",
      "                                                20, 20, 21, 21, 22, 22, 22, 22,\n",
      "                                                22, 21, 22, 22, 23, 22, 22, 19,\n",
      "                                                20, 20, 20, 19, 19, 19, 20, 21,\n",
      "                                                22, 22, 22, 22, 23, 23, 23, 23,\n",
      "                                                23, 24, 24, 24, 24, 24, 23, 22,\n",
      "                                                21, 20, 18, 18, 18, 19, 20, 21,\n",
      "                                                22, 23, 23, 23, 23, 24, 23, 24,\n",
      "                                                24, 24, 25, 25, 24, 23, 23, 22,\n",
      "                                                22, 22, 22, 22, 22, 22, 23, 23,\n",
      "                                                24, 24, 24, 24, 25, 25],\n",
      "                            'timeStep': 3600000,\n",
      "                            'windDirection': None,\n",
      "                            'windGust': None,\n",
      "                            'windSpeed': None},\n",
      "             'forecast2': { 'dewPoint2m': [ -88, -99, -101, -85, -79, -74, -62,\n",
      "                                            -58, -52, -50, -50, -47, -50, -53,\n",
      "                                            -55, -50, -45, -42, -37, -38, -42,\n",
      "                                            -42, -50, -53, -58, -60, -59, -61,\n",
      "                                            -63, -66, -67, -72, -78, -78, -70,\n",
      "                                            -62, -61, -66, -68, -72, -73, -74,\n",
      "                                            -68, -63, -59, -62, -63, -64, -66,\n",
      "                                            -69, -60, -51, -50, -57, -59, -60],\n",
      "                            'humidity': [ 876, 875, 868, 844, 864, 884, 892,\n",
      "                                          886, 893, 893, 887, 848, 842, 867,\n",
      "                                          886, 934, 963, 993, 1000, 949, 949,\n",
      "                                          1000, 978, 1000, 985, 985, 985, 913,\n",
      "                                          906, 941, 955, 955, 926, 947, 948,\n",
      "                                          899, 899, 912, 919, 912, 898, 898,\n",
      "                                          905, 821, 822, 834, 866, 879, 872,\n",
      "                                          852, 840, 787, 787, 810, 822, 840],\n",
      "                            'icon': [ 3, 3, 3, 3, 3, 14, 14, 14, 14, 14, 14, 14,\n",
      "                                      4, 4, 4, 14, 14, 14, 14, 14, 14, 14, 14,\n",
      "                                      14, 14, 4, 14, 14, 14, 14, 14, 14, 14, 4,\n",
      "                                      4, 4, 4, 4, 4, 4, 4, 4, 4, 3, 3, 3, 3, 3,\n",
      "                                      3, 3, 3, 3, 3, 3, 3, 3],\n",
      "                            'isDay': [ False, False, True, True, True, False,\n",
      "                                       False, False, False, False, True, True,\n",
      "                                       True, False, False, False, False, False,\n",
      "                                       True, True, True, False, False, False,\n",
      "                                       False, False, True, True, True, False,\n",
      "                                       False, False, False, False, False, True,\n",
      "                                       True, False, False, False, False, False,\n",
      "                                       False, True, True, False, False, False,\n",
      "                                       False, False, False, True, True, False,\n",
      "                                       False, False],\n",
      "                            'precipitationProbablity': None,\n",
      "                            'precipitationProbablityIndex': None,\n",
      "                            'precipitationTotal': [ 0, 0, 0, 0, 0, 6, 9, 5, 3,\n",
      "                                                    3, 3, 3, 0, 0, 0, 1, 3, 7,\n",
      "                                                    8, 7, 6, 4, 4, 3, 1, 0, 4,\n",
      "                                                    2, 3, 1, 1, 3, 3, 0, 0, 0,\n",
      "                                                    0, 0, 0, 0, 0, 0, 0, 0, 0,\n",
      "                                                    0, 0, 0, 0, 0, 0, 0, 0, 0,\n",
      "                                                    0, 0],\n",
      "                            'start': 1670972400000,\n",
      "                            'stationId': '12495',\n",
      "                            'surfacePressure': [ 10140, 10137, 10129, 10111,\n",
      "                                                 10089, 10069, 10047, 10051,\n",
      "                                                 10053, 10070, 10084, 10093,\n",
      "                                                 10101, 10102, 10096, 10105,\n",
      "                                                 10096, 10082, 10092, 10106,\n",
      "                                                 10110, 10117, 10132, 10144,\n",
      "                                                 10163, 10189, 10204, 10218,\n",
      "                                                 10230, 10246, 10253, 10277,\n",
      "                                                 10284, 10279, 10288, 10285,\n",
      "                                                 10284, 10286, 10286, 10286,\n",
      "                                                 10280, 10282, 10284, 10281,\n",
      "                                                 10280, 10280, 10277, 10274,\n",
      "                                                 10270, 10260, 10254, 10245,\n",
      "                                                 10244, 10229, 10226, 10221],\n",
      "                            'temperature': [],\n",
      "                            'temperatureStd': [],\n",
      "                            'timeStep': 10800000,\n",
      "                            'windDirection': None,\n",
      "                            'windGust': None,\n",
      "                            'windSpeed': None},\n",
      "             'forecastStart': None,\n",
      "             'threeHourSummaries': None,\n",
      "             'warnings': []}}\n"
     ]
    }
   ],
   "source": [
    "import urllib.request\n",
    "import json\n",
    "import pprint\n",
    "\n",
    "stationID='12495' # Rostock-Hansaviertel\n",
    "with urllib.request.urlopen(f'https://dwd.api.proxy.bund.dev/v30/stationOverviewExtended?stationIds={stationID}') as f:\n",
    "    data=f.read() # Dies gibt uns ein binären Datentyp zurück\n",
    "    wetter=json.loads(data) # Wir konvertieren den binären Datentyp in ein dict\n",
    "    pprint.pprint(wetter, indent=2, compact=True)"
   ]
  },
  {
   "cell_type": "markdown",
   "metadata": {},
   "source": [
    "<!-- Einen eigenen Webserver können wir mit dem Paket `http.server` starten.\n",
    "\n",
    "import http.server as server\n",
    "\n",
    "server_object = server.HTTPServer(server_address=('', 80), \tRequestHandlerClass=server.CGIHTTPRequestHandler)\n",
    "\n",
    "server_object.serve_forever()\n",
    "\n",
    "-->"
   ]
  },
  {
   "cell_type": "markdown",
   "metadata": {},
   "source": [
    "## Externe Pakete installieren und importieren"
   ]
  },
  {
   "cell_type": "markdown",
   "metadata": {},
   "source": [
    "Die Stärke von Python ist allerdings die riesige Auswahl an vorhandenen Paketen. Für die meisten Anwendungszwecke gibt es entsprechende Python Packages. Ein solches Verzeichnis is [PyPi](https://pypi.org/) das über 400.000 Pakete listet."
   ]
  },
  {
   "cell_type": "markdown",
   "metadata": {},
   "source": [
    "Die Installation neuer Pakete für Python ist einfach. Hierfür öffnet man ein Terminal (Kommandozeile) und gibt den Befehl `pip install <packetname>` ein. \n",
    "\n",
    "Zum Beispiel wollen wir die eben geladenen Wetterdaten anzeigen. Hierfür nutzen wir:\n",
    "- zuerst das Paket `pandas` zum Erzeugen einer Tabelle aus den Wetterdaten. \n",
    "- dann nutzen wir das Paket `plotly` zum Zeichnen eines Diagramms. \n",
    "- zuletzt erzeugen wir uns einen Webserver mit `dash` der uns das Diagramm immer anzeigt\n",
    "\n",
    "Alles drei installieren wir mit `pip`."
   ]
  },
  {
   "cell_type": "code",
   "execution_count": 8,
   "metadata": {},
   "outputs": [
    {
     "name": "stdout",
     "output_type": "stream",
     "text": [
      "Requirement already satisfied: pandas in c:\\users\\ploennigs\\miniconda3\\envs\\lehre\\lib\\site-packages (1.5.2)\n",
      "Requirement already satisfied: plotly in c:\\users\\ploennigs\\miniconda3\\envs\\lehre\\lib\\site-packages (5.11.0)\n",
      "Requirement already satisfied: dash in c:\\users\\ploennigs\\miniconda3\\envs\\lehre\\lib\\site-packages (2.7.0)\n",
      "Requirement already satisfied: jupyter_dash in c:\\users\\ploennigs\\miniconda3\\envs\\lehre\\lib\\site-packages (0.4.2)\n",
      "Requirement already satisfied: python-dateutil>=2.8.1 in c:\\users\\ploennigs\\miniconda3\\envs\\lehre\\lib\\site-packages (from pandas) (2.8.2)\n",
      "Requirement already satisfied: pytz>=2020.1 in c:\\users\\ploennigs\\miniconda3\\envs\\lehre\\lib\\site-packages (from pandas) (2022.1)\n",
      "Requirement already satisfied: numpy>=1.21.0 in c:\\users\\ploennigs\\miniconda3\\envs\\lehre\\lib\\site-packages (from pandas) (1.23.4)\n",
      "Requirement already satisfied: tenacity>=6.2.0 in c:\\users\\ploennigs\\miniconda3\\envs\\lehre\\lib\\site-packages (from plotly) (8.1.0)\n",
      "Requirement already satisfied: Flask>=1.0.4 in c:\\users\\ploennigs\\miniconda3\\envs\\lehre\\lib\\site-packages (from dash) (2.2.2)\n",
      "Requirement already satisfied: dash-core-components==2.0.0 in c:\\users\\ploennigs\\miniconda3\\envs\\lehre\\lib\\site-packages (from dash) (2.0.0)\n",
      "Requirement already satisfied: dash-table==5.0.0 in c:\\users\\ploennigs\\miniconda3\\envs\\lehre\\lib\\site-packages (from dash) (5.0.0)\n",
      "Requirement already satisfied: dash-html-components==2.0.0 in c:\\users\\ploennigs\\miniconda3\\envs\\lehre\\lib\\site-packages (from dash) (2.0.0)\n",
      "Requirement already satisfied: retrying in c:\\users\\ploennigs\\miniconda3\\envs\\lehre\\lib\\site-packages (from jupyter_dash) (1.3.4)\n",
      "Requirement already satisfied: ipykernel in c:\\users\\ploennigs\\miniconda3\\envs\\lehre\\lib\\site-packages (from jupyter_dash) (6.15.2)\n",
      "Requirement already satisfied: requests in c:\\users\\ploennigs\\miniconda3\\envs\\lehre\\lib\\site-packages (from jupyter_dash) (2.28.1)\n",
      "Requirement already satisfied: nest-asyncio in c:\\users\\ploennigs\\miniconda3\\envs\\lehre\\lib\\site-packages (from jupyter_dash) (1.5.5)\n",
      "Requirement already satisfied: ipython in c:\\users\\ploennigs\\miniconda3\\envs\\lehre\\lib\\site-packages (from jupyter_dash) (8.4.0)\n",
      "Requirement already satisfied: ansi2html in c:\\users\\ploennigs\\miniconda3\\envs\\lehre\\lib\\site-packages (from jupyter_dash) (1.8.0)\n",
      "Requirement already satisfied: itsdangerous>=2.0 in c:\\users\\ploennigs\\miniconda3\\envs\\lehre\\lib\\site-packages (from Flask>=1.0.4->dash) (2.1.2)\n",
      "Requirement already satisfied: Werkzeug>=2.2.2 in c:\\users\\ploennigs\\miniconda3\\envs\\lehre\\lib\\site-packages (from Flask>=1.0.4->dash) (2.2.2)\n",
      "Requirement already satisfied: Jinja2>=3.0 in c:\\users\\ploennigs\\miniconda3\\envs\\lehre\\lib\\site-packages (from Flask>=1.0.4->dash) (3.0.3)\n",
      "Requirement already satisfied: click>=8.0 in c:\\users\\ploennigs\\miniconda3\\envs\\lehre\\lib\\site-packages (from Flask>=1.0.4->dash) (8.1.3)\n",
      "Requirement already satisfied: six>=1.5 in c:\\users\\ploennigs\\miniconda3\\envs\\lehre\\lib\\site-packages (from python-dateutil>=2.8.1->pandas) (1.16.0)\n",
      "Requirement already satisfied: traitlets>=5.1.0 in c:\\users\\ploennigs\\miniconda3\\envs\\lehre\\lib\\site-packages (from ipykernel->jupyter_dash) (5.1.1)\n",
      "Requirement already satisfied: tornado>=6.1 in c:\\users\\ploennigs\\miniconda3\\envs\\lehre\\lib\\site-packages (from ipykernel->jupyter_dash) (6.2)\n",
      "Requirement already satisfied: matplotlib-inline>=0.1 in c:\\users\\ploennigs\\miniconda3\\envs\\lehre\\lib\\site-packages (from ipykernel->jupyter_dash) (0.1.6)\n",
      "Requirement already satisfied: debugpy>=1.0 in c:\\users\\ploennigs\\miniconda3\\envs\\lehre\\lib\\site-packages (from ipykernel->jupyter_dash) (1.5.1)\n",
      "Requirement already satisfied: psutil in c:\\users\\ploennigs\\miniconda3\\envs\\lehre\\lib\\site-packages (from ipykernel->jupyter_dash) (5.9.0)\n",
      "Requirement already satisfied: packaging in c:\\users\\ploennigs\\miniconda3\\envs\\lehre\\lib\\site-packages (from ipykernel->jupyter_dash) (21.3)\n",
      "Requirement already satisfied: jupyter-client>=6.1.12 in c:\\users\\ploennigs\\miniconda3\\envs\\lehre\\lib\\site-packages (from ipykernel->jupyter_dash) (7.3.5)\n",
      "Requirement already satisfied: pyzmq>=17 in c:\\users\\ploennigs\\miniconda3\\envs\\lehre\\lib\\site-packages (from ipykernel->jupyter_dash) (23.2.0)\n",
      "Requirement already satisfied: pygments>=2.4.0 in c:\\users\\ploennigs\\miniconda3\\envs\\lehre\\lib\\site-packages (from ipython->jupyter_dash) (2.11.2)\n",
      "Requirement already satisfied: colorama in c:\\users\\ploennigs\\miniconda3\\envs\\lehre\\lib\\site-packages (from ipython->jupyter_dash) (0.4.5)\n",
      "Requirement already satisfied: jedi>=0.16 in c:\\users\\ploennigs\\miniconda3\\envs\\lehre\\lib\\site-packages (from ipython->jupyter_dash) (0.18.1)\n",
      "Requirement already satisfied: backcall in c:\\users\\ploennigs\\miniconda3\\envs\\lehre\\lib\\site-packages (from ipython->jupyter_dash) (0.2.0)\n",
      "Requirement already satisfied: pickleshare in c:\\users\\ploennigs\\miniconda3\\envs\\lehre\\lib\\site-packages (from ipython->jupyter_dash) (0.7.5)\n",
      "Requirement already satisfied: decorator in c:\\users\\ploennigs\\miniconda3\\envs\\lehre\\lib\\site-packages (from ipython->jupyter_dash) (5.1.1)\n",
      "Requirement already satisfied: setuptools>=18.5 in c:\\users\\ploennigs\\miniconda3\\envs\\lehre\\lib\\site-packages (from ipython->jupyter_dash) (63.4.1)\n",
      "Requirement already satisfied: prompt-toolkit!=3.0.0,!=3.0.1,<3.1.0,>=2.0.0 in c:\\users\\ploennigs\\miniconda3\\envs\\lehre\\lib\\site-packages (from ipython->jupyter_dash) (3.0.20)\n",
      "Requirement already satisfied: stack-data in c:\\users\\ploennigs\\miniconda3\\envs\\lehre\\lib\\site-packages (from ipython->jupyter_dash) (0.2.0)\n",
      "Requirement already satisfied: charset-normalizer<3,>=2 in c:\\users\\ploennigs\\miniconda3\\envs\\lehre\\lib\\site-packages (from requests->jupyter_dash) (2.0.4)\n",
      "Requirement already satisfied: urllib3<1.27,>=1.21.1 in c:\\users\\ploennigs\\miniconda3\\envs\\lehre\\lib\\site-packages (from requests->jupyter_dash) (1.26.11)\n",
      "Requirement already satisfied: certifi>=2017.4.17 in c:\\users\\ploennigs\\miniconda3\\envs\\lehre\\lib\\site-packages (from requests->jupyter_dash) (2022.9.24)\n",
      "Requirement already satisfied: idna<4,>=2.5 in c:\\users\\ploennigs\\miniconda3\\envs\\lehre\\lib\\site-packages (from requests->jupyter_dash) (3.3)\n",
      "Requirement already satisfied: parso<0.9.0,>=0.8.0 in c:\\users\\ploennigs\\miniconda3\\envs\\lehre\\lib\\site-packages (from jedi>=0.16->ipython->jupyter_dash) (0.8.3)\n",
      "Requirement already satisfied: MarkupSafe>=2.0 in c:\\users\\ploennigs\\miniconda3\\envs\\lehre\\lib\\site-packages (from Jinja2>=3.0->Flask>=1.0.4->dash) (2.1.1)\n",
      "Requirement already satisfied: jupyter-core>=4.9.2 in c:\\users\\ploennigs\\miniconda3\\envs\\lehre\\lib\\site-packages (from jupyter-client>=6.1.12->ipykernel->jupyter_dash) (4.11.1)\n",
      "Requirement already satisfied: entrypoints in c:\\users\\ploennigs\\miniconda3\\envs\\lehre\\lib\\site-packages (from jupyter-client>=6.1.12->ipykernel->jupyter_dash) (0.4)\n",
      "Requirement already satisfied: wcwidth in c:\\users\\ploennigs\\miniconda3\\envs\\lehre\\lib\\site-packages (from prompt-toolkit!=3.0.0,!=3.0.1,<3.1.0,>=2.0.0->ipython->jupyter_dash) (0.2.5)\n",
      "Requirement already satisfied: pyparsing!=3.0.5,>=2.0.2 in c:\\users\\ploennigs\\miniconda3\\envs\\lehre\\lib\\site-packages (from packaging->ipykernel->jupyter_dash) (3.0.9)\n",
      "Requirement already satisfied: asttokens in c:\\users\\ploennigs\\miniconda3\\envs\\lehre\\lib\\site-packages (from stack-data->ipython->jupyter_dash) (2.0.5)\n",
      "Requirement already satisfied: pure-eval in c:\\users\\ploennigs\\miniconda3\\envs\\lehre\\lib\\site-packages (from stack-data->ipython->jupyter_dash) (0.2.2)\n",
      "Requirement already satisfied: executing in c:\\users\\ploennigs\\miniconda3\\envs\\lehre\\lib\\site-packages (from stack-data->ipython->jupyter_dash) (0.8.3)\n",
      "Requirement already satisfied: pywin32>=1.0 in c:\\users\\ploennigs\\miniconda3\\envs\\lehre\\lib\\site-packages (from jupyter-core>=4.9.2->jupyter-client>=6.1.12->ipykernel->jupyter_dash) (302)\n",
      "Note: you may need to restart the kernel to use updated packages.\n"
     ]
    }
   ],
   "source": [
    "pip install pandas plotly dash jupyter_dash"
   ]
  },
  {
   "cell_type": "markdown",
   "metadata": {},
   "source": [
    "Jetzt laden wir beide Pakete, wobei man üblicher Weise `pandas` die Abkürzung `pd` zuweist und Plotly Express, welches einfach zu bedienen ist, die Abkürzung `px`."
   ]
  },
  {
   "cell_type": "code",
   "execution_count": 9,
   "metadata": {},
   "outputs": [],
   "source": [
    "import pandas as pd\n",
    "import plotly.express as px\n",
    "import dash"
   ]
  },
  {
   "cell_type": "markdown",
   "metadata": {},
   "source": [
    "Nun wandeln wir die tageweise Wettervorhersage `days` der Daten von der Wetterstation mit der `stationID` zuerst in eine Tabelle um, da diese von Plotly express verarbeitet werden kann. Tabellen heißen in Pandas DataFrames (allgemein werden so Tabellen in der Data Science genannt). Wir erzeugen also aus der Wettervorhersage ein neue Objektinstanz vom Typ `DataFrame` via"
   ]
  },
  {
   "cell_type": "code",
   "execution_count": 10,
   "metadata": {},
   "outputs": [
    {
     "data": {
      "text/html": [
       "<div>\n",
       "<style scoped>\n",
       "    .dataframe tbody tr th:only-of-type {\n",
       "        vertical-align: middle;\n",
       "    }\n",
       "\n",
       "    .dataframe tbody tr th {\n",
       "        vertical-align: top;\n",
       "    }\n",
       "\n",
       "    .dataframe thead th {\n",
       "        text-align: right;\n",
       "    }\n",
       "</style>\n",
       "<table border=\"1\" class=\"dataframe\">\n",
       "  <thead>\n",
       "    <tr style=\"text-align: right;\">\n",
       "      <th></th>\n",
       "      <th>stationId</th>\n",
       "      <th>dayDate</th>\n",
       "      <th>temperatureMin</th>\n",
       "      <th>temperatureMax</th>\n",
       "      <th>icon</th>\n",
       "      <th>icon1</th>\n",
       "      <th>icon2</th>\n",
       "      <th>precipitation</th>\n",
       "      <th>windSpeed</th>\n",
       "      <th>windGust</th>\n",
       "      <th>windDirection</th>\n",
       "      <th>sunshine</th>\n",
       "      <th>sunrise</th>\n",
       "      <th>sunset</th>\n",
       "      <th>moonrise</th>\n",
       "      <th>moonset</th>\n",
       "      <th>moonPhase</th>\n",
       "    </tr>\n",
       "  </thead>\n",
       "  <tbody>\n",
       "    <tr>\n",
       "      <th>0</th>\n",
       "      <td>None</td>\n",
       "      <td>2022-12-11</td>\n",
       "      <td>-43</td>\n",
       "      <td>-15</td>\n",
       "      <td>14</td>\n",
       "      <td>None</td>\n",
       "      <td>None</td>\n",
       "      <td>5</td>\n",
       "      <td>241</td>\n",
       "      <td>408</td>\n",
       "      <td>3480</td>\n",
       "      <td>0</td>\n",
       "      <td>1670739865000</td>\n",
       "      <td>1670768579000</td>\n",
       "      <td>1670777475000</td>\n",
       "      <td>1670750973000</td>\n",
       "      <td>4</td>\n",
       "    </tr>\n",
       "    <tr>\n",
       "      <th>1</th>\n",
       "      <td>None</td>\n",
       "      <td>2022-12-12</td>\n",
       "      <td>-39</td>\n",
       "      <td>-13</td>\n",
       "      <td>14</td>\n",
       "      <td>None</td>\n",
       "      <td>None</td>\n",
       "      <td>52</td>\n",
       "      <td>167</td>\n",
       "      <td>352</td>\n",
       "      <td>2490</td>\n",
       "      <td>0</td>\n",
       "      <td>1670826325000</td>\n",
       "      <td>1670854976000</td>\n",
       "      <td>1670868029000</td>\n",
       "      <td>1670839150000</td>\n",
       "      <td>5</td>\n",
       "    </tr>\n",
       "    <tr>\n",
       "      <th>2</th>\n",
       "      <td>None</td>\n",
       "      <td>2022-12-13</td>\n",
       "      <td>-59</td>\n",
       "      <td>-14</td>\n",
       "      <td>22</td>\n",
       "      <td>None</td>\n",
       "      <td>None</td>\n",
       "      <td>15</td>\n",
       "      <td>185</td>\n",
       "      <td>408</td>\n",
       "      <td>2580</td>\n",
       "      <td>540</td>\n",
       "      <td>1670912782000</td>\n",
       "      <td>1670941377000</td>\n",
       "      <td>1670958722000</td>\n",
       "      <td>1670926892000</td>\n",
       "      <td>5</td>\n",
       "    </tr>\n",
       "    <tr>\n",
       "      <th>3</th>\n",
       "      <td>None</td>\n",
       "      <td>2022-12-14</td>\n",
       "      <td>-87</td>\n",
       "      <td>-42</td>\n",
       "      <td>14</td>\n",
       "      <td>None</td>\n",
       "      <td>None</td>\n",
       "      <td>20</td>\n",
       "      <td>130</td>\n",
       "      <td>352</td>\n",
       "      <td>1430</td>\n",
       "      <td>1020</td>\n",
       "      <td>1670999236000</td>\n",
       "      <td>1671027781000</td>\n",
       "      <td>1671049428000</td>\n",
       "      <td>1671014328000</td>\n",
       "      <td>5</td>\n",
       "    </tr>\n",
       "    <tr>\n",
       "      <th>4</th>\n",
       "      <td>None</td>\n",
       "      <td>2022-12-15</td>\n",
       "      <td>-44</td>\n",
       "      <td>-24</td>\n",
       "      <td>14</td>\n",
       "      <td>None</td>\n",
       "      <td>None</td>\n",
       "      <td>13</td>\n",
       "      <td>93</td>\n",
       "      <td>241</td>\n",
       "      <td>2570</td>\n",
       "      <td>0</td>\n",
       "      <td>1671085688000</td>\n",
       "      <td>1671114188000</td>\n",
       "      <td>1671140123000</td>\n",
       "      <td>1671101572000</td>\n",
       "      <td>5</td>\n",
       "    </tr>\n",
       "    <tr>\n",
       "      <th>5</th>\n",
       "      <td>None</td>\n",
       "      <td>2022-12-16</td>\n",
       "      <td>-53</td>\n",
       "      <td>-31</td>\n",
       "      <td>14</td>\n",
       "      <td>None</td>\n",
       "      <td>None</td>\n",
       "      <td>42</td>\n",
       "      <td>111</td>\n",
       "      <td>259</td>\n",
       "      <td>80</td>\n",
       "      <td>0</td>\n",
       "      <td>1671172137000</td>\n",
       "      <td>1671200598000</td>\n",
       "      <td>1671230852000</td>\n",
       "      <td>1671188717000</td>\n",
       "      <td>6</td>\n",
       "    </tr>\n",
       "    <tr>\n",
       "      <th>6</th>\n",
       "      <td>None</td>\n",
       "      <td>2022-12-17</td>\n",
       "      <td>-66</td>\n",
       "      <td>-48</td>\n",
       "      <td>14</td>\n",
       "      <td>None</td>\n",
       "      <td>None</td>\n",
       "      <td>15</td>\n",
       "      <td>111</td>\n",
       "      <td>259</td>\n",
       "      <td>3340</td>\n",
       "      <td>0</td>\n",
       "      <td>1671258582000</td>\n",
       "      <td>1671287012000</td>\n",
       "      <td>1671321697000</td>\n",
       "      <td>1671275838000</td>\n",
       "      <td>6</td>\n",
       "    </tr>\n",
       "    <tr>\n",
       "      <th>7</th>\n",
       "      <td>None</td>\n",
       "      <td>2022-12-18</td>\n",
       "      <td>-71</td>\n",
       "      <td>-45</td>\n",
       "      <td>4</td>\n",
       "      <td>None</td>\n",
       "      <td>None</td>\n",
       "      <td>3</td>\n",
       "      <td>93</td>\n",
       "      <td>241</td>\n",
       "      <td>2040</td>\n",
       "      <td>0</td>\n",
       "      <td>1671345025000</td>\n",
       "      <td>1671373430000</td>\n",
       "      <td>1671321697000</td>\n",
       "      <td>1671362993000</td>\n",
       "      <td>6</td>\n",
       "    </tr>\n",
       "    <tr>\n",
       "      <th>8</th>\n",
       "      <td>None</td>\n",
       "      <td>2022-12-19</td>\n",
       "      <td>-60</td>\n",
       "      <td>-30</td>\n",
       "      <td>3</td>\n",
       "      <td>None</td>\n",
       "      <td>None</td>\n",
       "      <td>0</td>\n",
       "      <td>130</td>\n",
       "      <td>278</td>\n",
       "      <td>2440</td>\n",
       "      <td>1500</td>\n",
       "      <td>1671431465000</td>\n",
       "      <td>1671459851000</td>\n",
       "      <td>1671412775000</td>\n",
       "      <td>1671450258000</td>\n",
       "      <td>6</td>\n",
       "    </tr>\n",
       "    <tr>\n",
       "      <th>9</th>\n",
       "      <td>None</td>\n",
       "      <td>2022-12-20</td>\n",
       "      <td>-49</td>\n",
       "      <td>-16</td>\n",
       "      <td>3</td>\n",
       "      <td>None</td>\n",
       "      <td>None</td>\n",
       "      <td>0</td>\n",
       "      <td>111</td>\n",
       "      <td>296</td>\n",
       "      <td>2250</td>\n",
       "      <td>1260</td>\n",
       "      <td>1671517901000</td>\n",
       "      <td>1671546275000</td>\n",
       "      <td>1671504145000</td>\n",
       "      <td>1671537743000</td>\n",
       "      <td>7</td>\n",
       "    </tr>\n",
       "  </tbody>\n",
       "</table>\n",
       "</div>"
      ],
      "text/plain": [
       "  stationId     dayDate  temperatureMin  temperatureMax  icon icon1 icon2  \\\n",
       "0      None  2022-12-11             -43             -15    14  None  None   \n",
       "1      None  2022-12-12             -39             -13    14  None  None   \n",
       "2      None  2022-12-13             -59             -14    22  None  None   \n",
       "3      None  2022-12-14             -87             -42    14  None  None   \n",
       "4      None  2022-12-15             -44             -24    14  None  None   \n",
       "5      None  2022-12-16             -53             -31    14  None  None   \n",
       "6      None  2022-12-17             -66             -48    14  None  None   \n",
       "7      None  2022-12-18             -71             -45     4  None  None   \n",
       "8      None  2022-12-19             -60             -30     3  None  None   \n",
       "9      None  2022-12-20             -49             -16     3  None  None   \n",
       "\n",
       "   precipitation  windSpeed  windGust  windDirection  sunshine        sunrise  \\\n",
       "0              5        241       408           3480         0  1670739865000   \n",
       "1             52        167       352           2490         0  1670826325000   \n",
       "2             15        185       408           2580       540  1670912782000   \n",
       "3             20        130       352           1430      1020  1670999236000   \n",
       "4             13         93       241           2570         0  1671085688000   \n",
       "5             42        111       259             80         0  1671172137000   \n",
       "6             15        111       259           3340         0  1671258582000   \n",
       "7              3         93       241           2040         0  1671345025000   \n",
       "8              0        130       278           2440      1500  1671431465000   \n",
       "9              0        111       296           2250      1260  1671517901000   \n",
       "\n",
       "          sunset       moonrise        moonset  moonPhase  \n",
       "0  1670768579000  1670777475000  1670750973000          4  \n",
       "1  1670854976000  1670868029000  1670839150000          5  \n",
       "2  1670941377000  1670958722000  1670926892000          5  \n",
       "3  1671027781000  1671049428000  1671014328000          5  \n",
       "4  1671114188000  1671140123000  1671101572000          5  \n",
       "5  1671200598000  1671230852000  1671188717000          6  \n",
       "6  1671287012000  1671321697000  1671275838000          6  \n",
       "7  1671373430000  1671321697000  1671362993000          6  \n",
       "8  1671459851000  1671412775000  1671450258000          6  \n",
       "9  1671546275000  1671504145000  1671537743000          7  "
      ]
     },
     "execution_count": 10,
     "metadata": {},
     "output_type": "execute_result"
    }
   ],
   "source": [
    "df = pd.DataFrame(wetter[stationID]['days'])\n",
    "df"
   ]
  },
  {
   "cell_type": "markdown",
   "metadata": {},
   "source": [
    "Nun plotten wir die Daten `df` als LinienDiagramm mit Hilfe von Plotly wobei wir als `x`-Axe das Datum wählen (`dayDate`) und als `y`-Axe die minimale Temperatur `temperatureMin` und maximale Temperatur `temperatureMax`."
   ]
  },
  {
   "cell_type": "code",
   "execution_count": 11,
   "metadata": {},
   "outputs": [
    {
     "data": {
      "application/vnd.plotly.v1+json": {
       "config": {
        "plotlyServerURL": "https://plot.ly"
       },
       "data": [
        {
         "hovertemplate": "variable=temperatureMin<br>dayDate=%{x}<br>value=%{y}<extra></extra>",
         "legendgroup": "temperatureMin",
         "line": {
          "color": "#636efa",
          "dash": "solid"
         },
         "marker": {
          "symbol": "circle"
         },
         "mode": "lines",
         "name": "temperatureMin",
         "orientation": "v",
         "showlegend": true,
         "type": "scatter",
         "x": [
          "2022-12-11",
          "2022-12-12",
          "2022-12-13",
          "2022-12-14",
          "2022-12-15",
          "2022-12-16",
          "2022-12-17",
          "2022-12-18",
          "2022-12-19",
          "2022-12-20"
         ],
         "xaxis": "x",
         "y": [
          -43,
          -39,
          -59,
          -87,
          -44,
          -53,
          -66,
          -71,
          -60,
          -49
         ],
         "yaxis": "y"
        },
        {
         "hovertemplate": "variable=temperatureMax<br>dayDate=%{x}<br>value=%{y}<extra></extra>",
         "legendgroup": "temperatureMax",
         "line": {
          "color": "#EF553B",
          "dash": "solid"
         },
         "marker": {
          "symbol": "circle"
         },
         "mode": "lines",
         "name": "temperatureMax",
         "orientation": "v",
         "showlegend": true,
         "type": "scatter",
         "x": [
          "2022-12-11",
          "2022-12-12",
          "2022-12-13",
          "2022-12-14",
          "2022-12-15",
          "2022-12-16",
          "2022-12-17",
          "2022-12-18",
          "2022-12-19",
          "2022-12-20"
         ],
         "xaxis": "x",
         "y": [
          -15,
          -13,
          -14,
          -42,
          -24,
          -31,
          -48,
          -45,
          -30,
          -16
         ],
         "yaxis": "y"
        }
       ],
       "layout": {
        "legend": {
         "title": {
          "text": "variable"
         },
         "tracegroupgap": 0
        },
        "margin": {
         "t": 60
        },
        "template": {
         "data": {
          "bar": [
           {
            "error_x": {
             "color": "#2a3f5f"
            },
            "error_y": {
             "color": "#2a3f5f"
            },
            "marker": {
             "line": {
              "color": "#E5ECF6",
              "width": 0.5
             },
             "pattern": {
              "fillmode": "overlay",
              "size": 10,
              "solidity": 0.2
             }
            },
            "type": "bar"
           }
          ],
          "barpolar": [
           {
            "marker": {
             "line": {
              "color": "#E5ECF6",
              "width": 0.5
             },
             "pattern": {
              "fillmode": "overlay",
              "size": 10,
              "solidity": 0.2
             }
            },
            "type": "barpolar"
           }
          ],
          "carpet": [
           {
            "aaxis": {
             "endlinecolor": "#2a3f5f",
             "gridcolor": "white",
             "linecolor": "white",
             "minorgridcolor": "white",
             "startlinecolor": "#2a3f5f"
            },
            "baxis": {
             "endlinecolor": "#2a3f5f",
             "gridcolor": "white",
             "linecolor": "white",
             "minorgridcolor": "white",
             "startlinecolor": "#2a3f5f"
            },
            "type": "carpet"
           }
          ],
          "choropleth": [
           {
            "colorbar": {
             "outlinewidth": 0,
             "ticks": ""
            },
            "type": "choropleth"
           }
          ],
          "contour": [
           {
            "colorbar": {
             "outlinewidth": 0,
             "ticks": ""
            },
            "colorscale": [
             [
              0,
              "#0d0887"
             ],
             [
              0.1111111111111111,
              "#46039f"
             ],
             [
              0.2222222222222222,
              "#7201a8"
             ],
             [
              0.3333333333333333,
              "#9c179e"
             ],
             [
              0.4444444444444444,
              "#bd3786"
             ],
             [
              0.5555555555555556,
              "#d8576b"
             ],
             [
              0.6666666666666666,
              "#ed7953"
             ],
             [
              0.7777777777777778,
              "#fb9f3a"
             ],
             [
              0.8888888888888888,
              "#fdca26"
             ],
             [
              1,
              "#f0f921"
             ]
            ],
            "type": "contour"
           }
          ],
          "contourcarpet": [
           {
            "colorbar": {
             "outlinewidth": 0,
             "ticks": ""
            },
            "type": "contourcarpet"
           }
          ],
          "heatmap": [
           {
            "colorbar": {
             "outlinewidth": 0,
             "ticks": ""
            },
            "colorscale": [
             [
              0,
              "#0d0887"
             ],
             [
              0.1111111111111111,
              "#46039f"
             ],
             [
              0.2222222222222222,
              "#7201a8"
             ],
             [
              0.3333333333333333,
              "#9c179e"
             ],
             [
              0.4444444444444444,
              "#bd3786"
             ],
             [
              0.5555555555555556,
              "#d8576b"
             ],
             [
              0.6666666666666666,
              "#ed7953"
             ],
             [
              0.7777777777777778,
              "#fb9f3a"
             ],
             [
              0.8888888888888888,
              "#fdca26"
             ],
             [
              1,
              "#f0f921"
             ]
            ],
            "type": "heatmap"
           }
          ],
          "heatmapgl": [
           {
            "colorbar": {
             "outlinewidth": 0,
             "ticks": ""
            },
            "colorscale": [
             [
              0,
              "#0d0887"
             ],
             [
              0.1111111111111111,
              "#46039f"
             ],
             [
              0.2222222222222222,
              "#7201a8"
             ],
             [
              0.3333333333333333,
              "#9c179e"
             ],
             [
              0.4444444444444444,
              "#bd3786"
             ],
             [
              0.5555555555555556,
              "#d8576b"
             ],
             [
              0.6666666666666666,
              "#ed7953"
             ],
             [
              0.7777777777777778,
              "#fb9f3a"
             ],
             [
              0.8888888888888888,
              "#fdca26"
             ],
             [
              1,
              "#f0f921"
             ]
            ],
            "type": "heatmapgl"
           }
          ],
          "histogram": [
           {
            "marker": {
             "pattern": {
              "fillmode": "overlay",
              "size": 10,
              "solidity": 0.2
             }
            },
            "type": "histogram"
           }
          ],
          "histogram2d": [
           {
            "colorbar": {
             "outlinewidth": 0,
             "ticks": ""
            },
            "colorscale": [
             [
              0,
              "#0d0887"
             ],
             [
              0.1111111111111111,
              "#46039f"
             ],
             [
              0.2222222222222222,
              "#7201a8"
             ],
             [
              0.3333333333333333,
              "#9c179e"
             ],
             [
              0.4444444444444444,
              "#bd3786"
             ],
             [
              0.5555555555555556,
              "#d8576b"
             ],
             [
              0.6666666666666666,
              "#ed7953"
             ],
             [
              0.7777777777777778,
              "#fb9f3a"
             ],
             [
              0.8888888888888888,
              "#fdca26"
             ],
             [
              1,
              "#f0f921"
             ]
            ],
            "type": "histogram2d"
           }
          ],
          "histogram2dcontour": [
           {
            "colorbar": {
             "outlinewidth": 0,
             "ticks": ""
            },
            "colorscale": [
             [
              0,
              "#0d0887"
             ],
             [
              0.1111111111111111,
              "#46039f"
             ],
             [
              0.2222222222222222,
              "#7201a8"
             ],
             [
              0.3333333333333333,
              "#9c179e"
             ],
             [
              0.4444444444444444,
              "#bd3786"
             ],
             [
              0.5555555555555556,
              "#d8576b"
             ],
             [
              0.6666666666666666,
              "#ed7953"
             ],
             [
              0.7777777777777778,
              "#fb9f3a"
             ],
             [
              0.8888888888888888,
              "#fdca26"
             ],
             [
              1,
              "#f0f921"
             ]
            ],
            "type": "histogram2dcontour"
           }
          ],
          "mesh3d": [
           {
            "colorbar": {
             "outlinewidth": 0,
             "ticks": ""
            },
            "type": "mesh3d"
           }
          ],
          "parcoords": [
           {
            "line": {
             "colorbar": {
              "outlinewidth": 0,
              "ticks": ""
             }
            },
            "type": "parcoords"
           }
          ],
          "pie": [
           {
            "automargin": true,
            "type": "pie"
           }
          ],
          "scatter": [
           {
            "fillpattern": {
             "fillmode": "overlay",
             "size": 10,
             "solidity": 0.2
            },
            "type": "scatter"
           }
          ],
          "scatter3d": [
           {
            "line": {
             "colorbar": {
              "outlinewidth": 0,
              "ticks": ""
             }
            },
            "marker": {
             "colorbar": {
              "outlinewidth": 0,
              "ticks": ""
             }
            },
            "type": "scatter3d"
           }
          ],
          "scattercarpet": [
           {
            "marker": {
             "colorbar": {
              "outlinewidth": 0,
              "ticks": ""
             }
            },
            "type": "scattercarpet"
           }
          ],
          "scattergeo": [
           {
            "marker": {
             "colorbar": {
              "outlinewidth": 0,
              "ticks": ""
             }
            },
            "type": "scattergeo"
           }
          ],
          "scattergl": [
           {
            "marker": {
             "colorbar": {
              "outlinewidth": 0,
              "ticks": ""
             }
            },
            "type": "scattergl"
           }
          ],
          "scattermapbox": [
           {
            "marker": {
             "colorbar": {
              "outlinewidth": 0,
              "ticks": ""
             }
            },
            "type": "scattermapbox"
           }
          ],
          "scatterpolar": [
           {
            "marker": {
             "colorbar": {
              "outlinewidth": 0,
              "ticks": ""
             }
            },
            "type": "scatterpolar"
           }
          ],
          "scatterpolargl": [
           {
            "marker": {
             "colorbar": {
              "outlinewidth": 0,
              "ticks": ""
             }
            },
            "type": "scatterpolargl"
           }
          ],
          "scatterternary": [
           {
            "marker": {
             "colorbar": {
              "outlinewidth": 0,
              "ticks": ""
             }
            },
            "type": "scatterternary"
           }
          ],
          "surface": [
           {
            "colorbar": {
             "outlinewidth": 0,
             "ticks": ""
            },
            "colorscale": [
             [
              0,
              "#0d0887"
             ],
             [
              0.1111111111111111,
              "#46039f"
             ],
             [
              0.2222222222222222,
              "#7201a8"
             ],
             [
              0.3333333333333333,
              "#9c179e"
             ],
             [
              0.4444444444444444,
              "#bd3786"
             ],
             [
              0.5555555555555556,
              "#d8576b"
             ],
             [
              0.6666666666666666,
              "#ed7953"
             ],
             [
              0.7777777777777778,
              "#fb9f3a"
             ],
             [
              0.8888888888888888,
              "#fdca26"
             ],
             [
              1,
              "#f0f921"
             ]
            ],
            "type": "surface"
           }
          ],
          "table": [
           {
            "cells": {
             "fill": {
              "color": "#EBF0F8"
             },
             "line": {
              "color": "white"
             }
            },
            "header": {
             "fill": {
              "color": "#C8D4E3"
             },
             "line": {
              "color": "white"
             }
            },
            "type": "table"
           }
          ]
         },
         "layout": {
          "annotationdefaults": {
           "arrowcolor": "#2a3f5f",
           "arrowhead": 0,
           "arrowwidth": 1
          },
          "autotypenumbers": "strict",
          "coloraxis": {
           "colorbar": {
            "outlinewidth": 0,
            "ticks": ""
           }
          },
          "colorscale": {
           "diverging": [
            [
             0,
             "#8e0152"
            ],
            [
             0.1,
             "#c51b7d"
            ],
            [
             0.2,
             "#de77ae"
            ],
            [
             0.3,
             "#f1b6da"
            ],
            [
             0.4,
             "#fde0ef"
            ],
            [
             0.5,
             "#f7f7f7"
            ],
            [
             0.6,
             "#e6f5d0"
            ],
            [
             0.7,
             "#b8e186"
            ],
            [
             0.8,
             "#7fbc41"
            ],
            [
             0.9,
             "#4d9221"
            ],
            [
             1,
             "#276419"
            ]
           ],
           "sequential": [
            [
             0,
             "#0d0887"
            ],
            [
             0.1111111111111111,
             "#46039f"
            ],
            [
             0.2222222222222222,
             "#7201a8"
            ],
            [
             0.3333333333333333,
             "#9c179e"
            ],
            [
             0.4444444444444444,
             "#bd3786"
            ],
            [
             0.5555555555555556,
             "#d8576b"
            ],
            [
             0.6666666666666666,
             "#ed7953"
            ],
            [
             0.7777777777777778,
             "#fb9f3a"
            ],
            [
             0.8888888888888888,
             "#fdca26"
            ],
            [
             1,
             "#f0f921"
            ]
           ],
           "sequentialminus": [
            [
             0,
             "#0d0887"
            ],
            [
             0.1111111111111111,
             "#46039f"
            ],
            [
             0.2222222222222222,
             "#7201a8"
            ],
            [
             0.3333333333333333,
             "#9c179e"
            ],
            [
             0.4444444444444444,
             "#bd3786"
            ],
            [
             0.5555555555555556,
             "#d8576b"
            ],
            [
             0.6666666666666666,
             "#ed7953"
            ],
            [
             0.7777777777777778,
             "#fb9f3a"
            ],
            [
             0.8888888888888888,
             "#fdca26"
            ],
            [
             1,
             "#f0f921"
            ]
           ]
          },
          "colorway": [
           "#636efa",
           "#EF553B",
           "#00cc96",
           "#ab63fa",
           "#FFA15A",
           "#19d3f3",
           "#FF6692",
           "#B6E880",
           "#FF97FF",
           "#FECB52"
          ],
          "font": {
           "color": "#2a3f5f"
          },
          "geo": {
           "bgcolor": "white",
           "lakecolor": "white",
           "landcolor": "#E5ECF6",
           "showlakes": true,
           "showland": true,
           "subunitcolor": "white"
          },
          "hoverlabel": {
           "align": "left"
          },
          "hovermode": "closest",
          "mapbox": {
           "style": "light"
          },
          "paper_bgcolor": "white",
          "plot_bgcolor": "#E5ECF6",
          "polar": {
           "angularaxis": {
            "gridcolor": "white",
            "linecolor": "white",
            "ticks": ""
           },
           "bgcolor": "#E5ECF6",
           "radialaxis": {
            "gridcolor": "white",
            "linecolor": "white",
            "ticks": ""
           }
          },
          "scene": {
           "xaxis": {
            "backgroundcolor": "#E5ECF6",
            "gridcolor": "white",
            "gridwidth": 2,
            "linecolor": "white",
            "showbackground": true,
            "ticks": "",
            "zerolinecolor": "white"
           },
           "yaxis": {
            "backgroundcolor": "#E5ECF6",
            "gridcolor": "white",
            "gridwidth": 2,
            "linecolor": "white",
            "showbackground": true,
            "ticks": "",
            "zerolinecolor": "white"
           },
           "zaxis": {
            "backgroundcolor": "#E5ECF6",
            "gridcolor": "white",
            "gridwidth": 2,
            "linecolor": "white",
            "showbackground": true,
            "ticks": "",
            "zerolinecolor": "white"
           }
          },
          "shapedefaults": {
           "line": {
            "color": "#2a3f5f"
           }
          },
          "ternary": {
           "aaxis": {
            "gridcolor": "white",
            "linecolor": "white",
            "ticks": ""
           },
           "baxis": {
            "gridcolor": "white",
            "linecolor": "white",
            "ticks": ""
           },
           "bgcolor": "#E5ECF6",
           "caxis": {
            "gridcolor": "white",
            "linecolor": "white",
            "ticks": ""
           }
          },
          "title": {
           "x": 0.05
          },
          "xaxis": {
           "automargin": true,
           "gridcolor": "white",
           "linecolor": "white",
           "ticks": "",
           "title": {
            "standoff": 15
           },
           "zerolinecolor": "white",
           "zerolinewidth": 2
          },
          "yaxis": {
           "automargin": true,
           "gridcolor": "white",
           "linecolor": "white",
           "ticks": "",
           "title": {
            "standoff": 15
           },
           "zerolinecolor": "white",
           "zerolinewidth": 2
          }
         }
        },
        "xaxis": {
         "anchor": "y",
         "domain": [
          0,
          1
         ],
         "title": {
          "text": "dayDate"
         }
        },
        "yaxis": {
         "anchor": "x",
         "domain": [
          0,
          1
         ],
         "title": {
          "text": "value"
         }
        }
       }
      }
     },
     "metadata": {},
     "output_type": "display_data"
    }
   ],
   "source": [
    "fig=px.line(df, x=\"dayDate\", y=[\"temperatureMin\", \"temperatureMax\"])\n",
    "fig.show()"
   ]
  },
  {
   "cell_type": "markdown",
   "metadata": {},
   "source": [
    "Zuletzt wollen wir dieses Diagramm in einer Webseite auf einem Webserver anzeigen. Hier nutzen wir das Paket `dash` welches erlaubt eine Webseite mit Python-Befehlen zu erzeugen und darin interaktive Diagramme von Plotly mit anzuzeigen."
   ]
  },
  {
   "cell_type": "code",
   "execution_count": 12,
   "metadata": {},
   "outputs": [],
   "source": [
    "import dash\n",
    "\n",
    "app = dash.Dash()"
   ]
  },
  {
   "cell_type": "code",
   "execution_count": 13,
   "metadata": {
    "tags": [
     "remove-cell"
    ]
   },
   "outputs": [],
   "source": [
    "# da dies ein Jupyter Notebook ist nutzen wir eine besondere Version von Dash\n",
    "from jupyter_dash import JupyterDash\n",
    "\n",
    "app = JupyterDash()"
   ]
  },
  {
   "cell_type": "markdown",
   "metadata": {},
   "source": [
    "Dann erzeugen wir eine Webseite mit einer Überschrift (`H1`), welche den Plot als `Graph` enthält."
   ]
  },
  {
   "cell_type": "code",
   "execution_count": 14,
   "metadata": {},
   "outputs": [],
   "source": [
    "app.layout = dash.html.Div(children = [\n",
    "    dash.html.H1(children='Wetter in Rostock'),\n",
    "    dash.dcc.Graph(id=\"fare_vs_age\", figure=fig)\n",
    "])"
   ]
  },
  {
   "cell_type": "markdown",
   "metadata": {},
   "source": [
    "Und starten den Webserver."
   ]
  },
  {
   "cell_type": "code",
   "execution_count": 15,
   "metadata": {},
   "outputs": [
    {
     "name": "stdout",
     "output_type": "stream",
     "text": [
      "Dash app running on http://127.0.0.1:8050/\n"
     ]
    }
   ],
   "source": [
    "app.run_server()"
   ]
  },
  {
   "cell_type": "markdown",
   "metadata": {},
   "source": [
    "Dies startet einen Webserver auf den wir in einem Browser unter `http://127.0.0.1:8083/` zugreifen können. Er zeigt uns eine Webseite mit einem interaktiven Diagramm welches die Wetterdaten anzeigt."
   ]
  },
  {
   "cell_type": "markdown",
   "metadata": {},
   "source": [
    "![](images/wetter.png)"
   ]
  }
 ],
 "metadata": {
  "kernelspec": {
   "display_name": "Python 3.10.6 ('lehre')",
   "language": "python",
   "name": "python3"
  },
  "language_info": {
   "codemirror_mode": {
    "name": "ipython",
    "version": 3
   },
   "file_extension": ".py",
   "mimetype": "text/x-python",
   "name": "python",
   "nbconvert_exporter": "python",
   "pygments_lexer": "ipython3",
   "version": "3.10.6"
  },
  "orig_nbformat": 4,
  "vscode": {
   "interpreter": {
    "hash": "c6f6ea9c9385f57658f4c302ffd3b717b6cd59b095fbd1c55795f0b67656eecd"
   }
  }
 },
 "nbformat": 4,
 "nbformat_minor": 2
}
