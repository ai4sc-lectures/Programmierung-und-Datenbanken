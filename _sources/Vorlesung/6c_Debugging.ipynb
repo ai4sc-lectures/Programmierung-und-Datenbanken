{
 "cells": [
  {
   "cell_type": "markdown",
   "metadata": {},
   "source": [
    "# Debugging"
   ]
  },
  {
   "cell_type": "markdown",
   "metadata": {},
   "source": [
    "## Debugging mit `print()`"
   ]
  },
  {
   "cell_type": "markdown",
   "metadata": {},
   "source": [
    "Logische Fehler treten häufig erst dynamisch auf und lassen sich nicht durch statische Code-Analyse durch Lint-Tools finden. Hier muss man dann den aktuellen Programmfluss nachvollziehen. Dies nennt man Debugging. Die einfachste Form ist das `print`-Debugging bei der man den Code mit `print()`-Befehlen zuspammt.\n",
    "\n",
    "Wir erweitern mal unsere Divisionsfunktion mit schönen vielen `print()`-Statements. Üblich ist es zum Beispiel, die Eingangsparameter auszugeben, Fehler und Warnungen auszugeben, als auch dann Ergebnisse zu loggen."
   ]
  },
  {
   "cell_type": "code",
   "execution_count": 1,
   "metadata": {},
   "outputs": [],
   "source": [
    "def division(zaehler, nenner):\n",
    "    print(f\"Debug: Eingabe Zaehler: {zaehler}\")\n",
    "    print(f\"Debug: Eingabe Nenner: {nenner}\")\n",
    "    if not isinstance(nenner, (int, float)):\n",
    "        print(f\"Error: Nenner nicht vom Datentyp `int` oder `float`, sondern vom Typ {type(nenner)}\")\n",
    "        raise ValueError(f\"Nenner nicht vom Datentyp `int` oder `float`, sondern vom Typ {type(nenner)}\")\n",
    "    elif not isinstance(zaehler, (int, float)):\n",
    "        print(f\"Error: Zaehler nicht vom Datentyp `int` oder `float`, sondern vom Typ {type(zaehler)}\")\n",
    "        raise ValueError(f\"Zaehler nicht vom Datentyp `int` oder `float`, sondern vom Typ {type(zaehler)}\")\n",
    "    elif not nenner:\n",
    "        print(\"Warning: Division durch 0\")\n",
    "        return None\n",
    "    else:\n",
    "        ergebnis = zaehler / nenner\n",
    "        print(f\"Info: Das Ergebnis von {zaehler}/{nenner} = {ergebnis}\")\n",
    "        return ergebnis"
   ]
  },
  {
   "cell_type": "markdown",
   "metadata": {},
   "source": [
    "Jetzt können wir insbesondere im Fehlerfall sehr gut nachvollziehen was genau geschehen ist. Zum Beispiel bei der Division durch 0."
   ]
  },
  {
   "cell_type": "code",
   "execution_count": 2,
   "metadata": {},
   "outputs": [
    {
     "name": "stdout",
     "output_type": "stream",
     "text": [
      "Debug: Eingabe Zaehler: 10\n",
      "Debug: Eingabe Nenner: 0\n",
      "Warning: Division durch 0\n"
     ]
    }
   ],
   "source": [
    "division(10, 0)"
   ]
  },
  {
   "cell_type": "markdown",
   "metadata": {},
   "source": [
    "Allerdings haben wir auch im korrekten Fall sehr viele Ausgaben. Das kann sehr störend sein, weil man dann richtige Fehler sehr schnell übersieht. Zum Beispiel erzeugen wir zehn Divisionen, von der eine eine Division durch 0 war."
   ]
  },
  {
   "cell_type": "code",
   "execution_count": 3,
   "metadata": {},
   "outputs": [
    {
     "name": "stdout",
     "output_type": "stream",
     "text": [
      "Debug: Eingabe Zaehler: 10\n",
      "Debug: Eingabe Nenner: -2\n",
      "Info: Das Ergebnis von 10/-2 = -5.0\n",
      "Debug: Eingabe Zaehler: 10\n",
      "Debug: Eingabe Nenner: -1\n",
      "Info: Das Ergebnis von 10/-1 = -10.0\n",
      "Debug: Eingabe Zaehler: 10\n",
      "Debug: Eingabe Nenner: 0\n",
      "Warning: Division durch 0\n",
      "Debug: Eingabe Zaehler: 10\n",
      "Debug: Eingabe Nenner: 1\n",
      "Info: Das Ergebnis von 10/1 = 10.0\n",
      "Debug: Eingabe Zaehler: 10\n",
      "Debug: Eingabe Nenner: 2\n",
      "Info: Das Ergebnis von 10/2 = 5.0\n",
      "Debug: Eingabe Zaehler: 10\n",
      "Debug: Eingabe Nenner: 3\n",
      "Info: Das Ergebnis von 10/3 = 3.3333333333333335\n",
      "Debug: Eingabe Zaehler: 10\n",
      "Debug: Eingabe Nenner: 4\n",
      "Info: Das Ergebnis von 10/4 = 2.5\n",
      "Debug: Eingabe Zaehler: 10\n",
      "Debug: Eingabe Nenner: 5\n",
      "Info: Das Ergebnis von 10/5 = 2.0\n",
      "Debug: Eingabe Zaehler: 10\n",
      "Debug: Eingabe Nenner: 6\n",
      "Info: Das Ergebnis von 10/6 = 1.6666666666666667\n",
      "Debug: Eingabe Zaehler: 10\n",
      "Debug: Eingabe Nenner: 7\n",
      "Info: Das Ergebnis von 10/7 = 1.4285714285714286\n"
     ]
    }
   ],
   "source": [
    "for nenner in range(-2, 8):\n",
    "    division(10, nenner)"
   ]
  },
  {
   "cell_type": "markdown",
   "metadata": {},
   "source": [
    "## Debugging mit `logging`"
   ]
  },
  {
   "cell_type": "markdown",
   "metadata": {},
   "source": [
    "Deshalb verwendet man bei komplexeren Programmen meist ein `logging`-Paket. Diese erlauben es `print`-Statements Kategorien zuzuordnen und anhand dieser zu filtern. In der Python-Bibliothek `logging` sind die Kategorien: `debug`, `info`, `warning`, `error` und `critical`."
   ]
  },
  {
   "cell_type": "code",
   "execution_count": 4,
   "metadata": {},
   "outputs": [],
   "source": [
    "import logging\n",
    "\n",
    "log=logging.getLogger(\"meinlog\")\n",
    "\n",
    "def division(zaehler, nenner):\n",
    "    log.debug(f\"Eingabe Zaehler: {zaehler}\")\n",
    "    log.debug(f\"Eingabe Nenner: {nenner}\")\n",
    "    if not isinstance(nenner, (int, float)):\n",
    "        log.error(f\"Nenner nicht vom Datentyp `int` oder `float`, sondern vom Typ {type(nenner)}\")\n",
    "        raise ValueError(f\"Nenner nicht vom Datentyp `int` oder `float`, sondern vom Typ {type(nenner)}\")\n",
    "    elif not isinstance(zaehler, (int, float)):\n",
    "        log.error(f\"Zaehler nicht vom Datentyp `int` oder `float`, sondern vom Typ {type(zaehler)}\")\n",
    "        raise ValueError(f\"Zaehler nicht vom Datentyp `int` oder `float`, sondern vom Typ {type(zaehler)}\")\n",
    "    elif not nenner:\n",
    "        log.warning(\"Division durch 0\")\n",
    "        return None\n",
    "    else:\n",
    "        ergebnis = zaehler / nenner\n",
    "        log.info(f\"Das Ergebnis von {zaehler}/{nenner} = {ergebnis}\")\n",
    "        return ergebnis"
   ]
  },
  {
   "cell_type": "markdown",
   "metadata": {},
   "source": [
    "Wenn wir jetzt die Funktion aufrufen, sehen wir nur noch die Division durch 0 Warnung."
   ]
  },
  {
   "cell_type": "code",
   "execution_count": 5,
   "metadata": {},
   "outputs": [
    {
     "name": "stderr",
     "output_type": "stream",
     "text": [
      "Division durch 0\n"
     ]
    }
   ],
   "source": [
    "log.setLevel(logging.WARNING)\n",
    "for nenner in range(-2, 8):\n",
    "    division(10, nenner)"
   ]
  },
  {
   "cell_type": "markdown",
   "metadata": {},
   "source": [
    "Wir können allerdings bei Bedarf, wie bei der Fehlersuche den Loglevel auch erhöhen. Zum Beispiel wollen wir alle Debug-Nachrichten erhalten."
   ]
  },
  {
   "cell_type": "code",
   "execution_count": 6,
   "metadata": {},
   "outputs": [
    {
     "name": "stderr",
     "output_type": "stream",
     "text": [
      "Division durch 0\n"
     ]
    }
   ],
   "source": [
    "log.setLevel(logging.DEBUG)\n",
    "for nenner in range(-2, 8):\n",
    "    division(10, nenner)"
   ]
  },
  {
   "cell_type": "markdown",
   "metadata": {},
   "source": [
    "Ferner erlaub das Logging auch automatisch weitere Informationen hinzuzufügen. Wir sehen im Log oben bereits, das nicht nur das Level (INFO, DEBUG, WARNING) sondern auch den Namen des Loggers (meinlog). Wir können dieses Format anpassen um z.B. auch die Zeit auszugeben, was insbesondere wichtig ist um zu verstehen wann etwas passiert ist."
   ]
  },
  {
   "cell_type": "code",
   "execution_count": null,
   "metadata": {},
   "outputs": [
    {
     "name": "stderr",
     "output_type": "stream",
     "text": [
      "2022-11-30 00:00:54,433  meinlog  INFO: Das Ergebnis von 10/-2 = -5.0\n",
      "2022-11-30 00:00:54,433  meinlog  INFO: Das Ergebnis von 10/-1 = -10.0\n",
      "2022-11-30 00:00:54,433  meinlog  WARNING: Division durch 0\n",
      "2022-11-30 00:00:54,434  meinlog  INFO: Das Ergebnis von 10/1 = 10.0\n",
      "2022-11-30 00:00:54,434  meinlog  INFO: Das Ergebnis von 10/2 = 5.0\n",
      "2022-11-30 00:00:54,435  meinlog  INFO: Das Ergebnis von 10/3 = 3.3333333333333335\n",
      "2022-11-30 00:00:54,435  meinlog  INFO: Das Ergebnis von 10/4 = 2.5\n",
      "2022-11-30 00:00:54,435  meinlog  INFO: Das Ergebnis von 10/5 = 2.0\n",
      "2022-11-30 00:00:54,435  meinlog  INFO: Das Ergebnis von 10/6 = 1.6666666666666667\n",
      "2022-11-30 00:00:54,436  meinlog  INFO: Das Ergebnis von 10/7 = 1.4285714285714286\n"
     ]
    }
   ],
   "source": [
    "sh=logging.StreamHandler()\n",
    "formatter = logging.Formatter('%(asctime)s  %(name)s  %(levelname)s: %(message)s')\n",
    "sh.setFormatter(formatter)\n",
    "log.addHandler(sh)\n",
    "log.setLevel(logging.INFO)\n",
    "\n",
    "for nenner in range(-2, 8):\n",
    "    division(10, nenner)"
   ]
  },
  {
   "cell_type": "markdown",
   "metadata": {},
   "source": [
    "In der Praxis wird das Logging sehr häufig insbesondere in Cloud-Anwendungen verwendet. Da diese ja keine Bildschirme haben, müssen Fehler in Logs gesucht werden. Solange alles ok ist, läuft so eine Anwendung dann z.B. im Log-Level `INFO`, mit nur wenig Ausgaben. Tritt ein Fehler auf, so wird der Server auf das Log-Level `DEBUG` gesetzt und man sucht in den detaillierten Logs dann nach Informationen, um den Fehler einzugrenzen."
   ]
  },
  {
   "cell_type": "markdown",
   "metadata": {},
   "source": [
    "## Debugging durch Debug-Oberflächen"
   ]
  },
  {
   "cell_type": "markdown",
   "metadata": {},
   "source": [
    "Viele integrierte Entwicklungsumgebungen (IDE) bieten an direkt Debugger auszuführen. Diese Debugger erlauben es die dynamische Ausführung des Codes zu unterbrechen. Ziel ist es kurz vor Auftreten des Fehlers die Ausführung anzuhalten, um dann das Fehlerverhalten genau beobachten zu können.\n",
    "\n",
    "Dabei werden meist zwei Formen der Unterbrechung unterstützt:\n",
    "-  Die Unterbrechung in bestimmten Code-Zeilen mit Hilfe von Breakpoints.\n",
    "-  Die Unterbrechung bei bestimmten Exceptions."
   ]
  },
  {
   "cell_type": "markdown",
   "metadata": {},
   "source": [
    "### Debugging in Jupyter-Notebooks in VSCode"
   ]
  },
  {
   "cell_type": "markdown",
   "metadata": {},
   "source": [
    "Die Debug-Oberflächen sehen je nach IDE etwas anders aus, verfügen aber über ähnliche Funktionen. Dieses Jupyter Notebook wurde in VSCode geschrieben, welches wir als erstes Beispiel betrachten."
   ]
  },
  {
   "cell_type": "markdown",
   "metadata": {},
   "source": [
    "Dafür kann man meist in der IDE links neben eine Zeile klicken um einen Breakpoint <span style=\"color: red\">⬤</span> zu setzen. Wir setzen dafür einen Breakpoint auf die Zeile 11 auf die Ausgabe der Warnung."
   ]
  },
  {
   "attachments": {},
   "cell_type": "markdown",
   "metadata": {},
   "source": [
    "![](images/debug_vscode_1.png)"
   ]
  },
  {
   "cell_type": "markdown",
   "metadata": {},
   "source": [
    "Dann wird der Code in einer speziellen Debugumgebung ausgeführt, die es erlaub die Ausführung zu unterbrechen. In unserm Notebook in VSCode starten wird diese durch das Symbol <img src=\"images/debug_vscode_2.png\" style=\"height: 2ex\">."
   ]
  },
  {
   "cell_type": "code",
   "execution_count": 8,
   "metadata": {},
   "outputs": [
    {
     "name": "stderr",
     "output_type": "stream",
     "text": [
      "2022-11-30 00:00:54,485  meinlog  WARNING: Division durch 0\n"
     ]
    }
   ],
   "source": [
    "def division(zaehler, nenner):\n",
    "    log.debug(f\"Eingabe Zaehler: {zaehler}\")\n",
    "    log.debug(f\"Eingabe Nenner: {nenner}\")\n",
    "    if not isinstance(nenner, (int, float)):\n",
    "        log.error(f\"Nenner nicht vom Datentyp `int` oder `float`, sondern vom Typ {type(nenner)}\")\n",
    "        raise ValueError(f\"Nenner nicht vom Datentyp `int` oder `float`, sondern vom Typ {type(nenner)}\")\n",
    "    elif not isinstance(zaehler, (int, float)):\n",
    "        log.error(f\"Zaehler nicht vom Datentyp `int` oder `float`, sondern vom Typ {type(zaehler)}\")\n",
    "        raise ValueError(f\"Zaehler nicht vom Datentyp `int` oder `float`, sondern vom Typ {type(zaehler)}\")\n",
    "    elif not nenner:\n",
    "        log.warning(\"Division durch 0\")\n",
    "        return None\n",
    "    else:\n",
    "        ergebnis = zaehler / nenner\n",
    "        log.info(f\"Das Ergebnis von {zaehler}/{nenner} = {ergebnis}\")\n",
    "        return ergebnis\n",
    "\n",
    "division(10, 0)"
   ]
  },
  {
   "cell_type": "markdown",
   "metadata": {},
   "source": [
    "Dies startet den Debug-Modus. In diesem wird die aktuelle Zeile vorgehoben als auch die aktuellen Variablen im Speicher angezeigt."
   ]
  },
  {
   "attachments": {},
   "cell_type": "markdown",
   "metadata": {},
   "source": [
    "![Debuggin in VS Code](images/debug_vscode_3.png)"
   ]
  },
  {
   "cell_type": "markdown",
   "metadata": {},
   "source": [
    "In der Debugumgebung kann man dann Zeile für Zeile vorgehen durch drücken von <img src=\"images/debug_vscode_2.png\" style=\"height: 2ex\"> und damit nachvollziehen wie das Programm bearbeitet wird und welche Variablen sich ändern."
   ]
  },
  {
   "cell_type": "markdown",
   "metadata": {},
   "source": [
    "### Debugging in repl.it"
   ]
  },
  {
   "cell_type": "markdown",
   "metadata": {},
   "source": [
    "In repl.it sieht die Debugging-Oberfläche ähnlich aus. Wir setzen einen Breakpoint <span style=\"color: red\">⬤</span> durch klicken auf die Zeile 11 auf die Ausgabe der Warnung."
   ]
  },
  {
   "attachments": {},
   "cell_type": "markdown",
   "metadata": {},
   "source": [
    "![](images/debug_replit_1.png)"
   ]
  },
  {
   "cell_type": "markdown",
   "metadata": {},
   "source": [
    "Die Debugumgebung wird durch  <img src=\"images/debug_replit_2.png\" height=\"20px\"> gestartet. Sie erlaub die Ausführung zu starten, einzelne Zeilen auszuführen, den Schritt zu überspringen oder bis zum Breakpoint auszuführen (links nach rechts)."
   ]
  },
  {
   "attachments": {},
   "cell_type": "markdown",
   "metadata": {},
   "source": [
    "![](images/debug_replit_3.png)"
   ]
  },
  {
   "cell_type": "markdown",
   "metadata": {},
   "source": [
    "Auch hier werden die aktuellen Variablen angezeigt als auch der Stack."
   ]
  },
  {
   "attachments": {},
   "cell_type": "markdown",
   "metadata": {},
   "source": [
    "![](images/debug_replit_4.png)"
   ]
  }
 ],
 "metadata": {
  "kernelspec": {
   "display_name": "lehre",
   "language": "python",
   "name": "python3"
  },
  "language_info": {
   "codemirror_mode": {
    "name": "ipython",
    "version": 3
   },
   "file_extension": ".py",
   "mimetype": "text/x-python",
   "name": "python",
   "nbconvert_exporter": "python",
   "pygments_lexer": "ipython3",
   "version": "3.10.6 | packaged by conda-forge | (main, Oct  7 2022, 20:14:50) [MSC v.1916 64 bit (AMD64)]"
  },
  "orig_nbformat": 4,
  "vscode": {
   "interpreter": {
    "hash": "c6f6ea9c9385f57658f4c302ffd3b717b6cd59b095fbd1c55795f0b67656eecd"
   }
  }
 },
 "nbformat": 4,
 "nbformat_minor": 2
}
