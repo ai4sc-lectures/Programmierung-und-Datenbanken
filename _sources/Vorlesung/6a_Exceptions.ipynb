{
 "cells": [
  {
   "cell_type": "markdown",
   "metadata": {},
   "source": [
    "# Exceptions"
   ]
  },
  {
   "cell_type": "markdown",
   "metadata": {},
   "source": [
    "## Fehler mit Exceptions behandeln"
   ]
  },
  {
   "cell_type": "markdown",
   "metadata": {},
   "source": [
    "Exceptions unterbrechen den normalen Verlauf eines Programmes in einem Fehlerfall. Sie dienen dazu den Fehler zu im Programm zu kommunizieren (haben meist eine Fehlermeldung) und werden genutzt um im Fehlerfall unkontrolliertes Abstürzen des Programmes zu verhindern.\n",
    "\n",
    "Bekannte Exceptions sollten immer abgefangen. In Python werden sie durch den `try-except`-Block abgefangen. Dieser startet mit einem `try` und endet mit einem `except`. Nach dem `try´ folgt der Block mit der bekannten (oder unbekannten) Exception. Nach dem `except` folgt der Block zur Fehlerbehandlung.\n",
    "\n",
    "Es ist zu beachten, dass bei Exceptions keine Wertzuweisung stattfindet (der Wert ist ja nicht bekannt). Betrachten wir mal wieder, die aus der [Verzweigung bekannte Division durch 0](4_Verzweigung.html#elif_-_Für_noch_mehr_Alternativen) mit ihren verschiedenen Fehlerfällen der Null-Division und falscher Datentypen der Eingaben. Ohne diese Fehlerfälle genau zu spezifieren können wir schreiben."
   ]
  },
  {
   "cell_type": "code",
   "execution_count": 1,
   "metadata": {},
   "outputs": [
    {
     "name": "stdout",
     "output_type": "stream",
     "text": [
      "Divisionsfehler\n",
      "Das Ergebnis von 10/0 = None\n"
     ]
    }
   ],
   "source": [
    "zaehler = 10\n",
    "nenner = 0\n",
    "ergebnis = None\n",
    "try:\n",
    "    # Block mit bekannter Exception\n",
    "    ergebnis = zaehler / nenner\n",
    "    # Dieser Teil wird nur ausgeführt wenn keine Exception auftrat\n",
    "    print(\"Die Division war erfolgreich\")\n",
    "except:\n",
    "    # Fehlerbehandlung\n",
    "    print(\"Divisionsfehler\")\n",
    "\n",
    "print(f\"Das Ergebnis von {zaehler}/{nenner} = {ergebnis}\")"
   ]
  },
  {
   "cell_type": "markdown",
   "metadata": {},
   "source": [
    "Das `except` is in dem obigen Fall untypisiert. Damit lassen sich alle Fehler die auftreten können abfangen (auch unbekannte). Damit fängt der `try-except`-Block auch Fehler im Datentypen ab."
   ]
  },
  {
   "cell_type": "code",
   "execution_count": 2,
   "metadata": {},
   "outputs": [
    {
     "name": "stdout",
     "output_type": "stream",
     "text": [
      "Divisionsfehler\n",
      "Das Ergebnis von keine_zahl/0 = None\n"
     ]
    }
   ],
   "source": [
    "zaehler = 'keine_zahl'\n",
    "nenner = 0\n",
    "ergebnis = None\n",
    "try:\n",
    "    ergebnis = zaehler / nenner\n",
    "except:\n",
    "    print(\"Divisionsfehler\")\n",
    "\n",
    "print(f\"Das Ergebnis von {zaehler}/{nenner} = {ergebnis}\")"
   ]
  },
  {
   "cell_type": "markdown",
   "metadata": {},
   "source": [
    "Das Problem hierbei ist dass wir keine Information über die Exception erhalten. Deshalb ist es immer sinnvoll die genaue Exception abzufangen und die Fehlermeldung auszugeben. Der allgemeinste Fehlertyp in Python ist die `Exception` welche wir wie folgt als Variable `e` abfangen."
   ]
  },
  {
   "cell_type": "code",
   "execution_count": 3,
   "metadata": {},
   "outputs": [
    {
     "name": "stdout",
     "output_type": "stream",
     "text": [
      "Divisionsfehler mit Fehler vom typ `<class 'TypeError'>` und Meldung `unsupported operand type(s) for /: 'str' and 'int'`\n",
      "Das Ergebnis von keine_zahl/0 = None\n"
     ]
    }
   ],
   "source": [
    "zaehler = 'keine_zahl'\n",
    "nenner = 0\n",
    "ergebnis = None\n",
    "try:\n",
    "    ergebnis = zaehler / nenner\n",
    "except Exception as e:\n",
    "    print(f\"Divisionsfehler mit Fehler vom typ `{type(e)}` und Meldung `{e}`\")\n",
    "\n",
    "print(f\"Das Ergebnis von {zaehler}/{nenner} = {ergebnis}\")"
   ]
  },
  {
   "cell_type": "markdown",
   "metadata": {},
   "source": [
    "Sind die Exceptions bekannt sollten sie auch typisiert behandelt werden, um spezifische Meldungen auszugeben."
   ]
  },
  {
   "cell_type": "code",
   "execution_count": 4,
   "metadata": {},
   "outputs": [
    {
     "name": "stdout",
     "output_type": "stream",
     "text": [
      "Zaehler oder Nenner nicht vom Datentyp `int`\n",
      "Das Ergebnis von keine_zahl/0 = None\n"
     ]
    }
   ],
   "source": [
    "zaehler = 'keine_zahl'\n",
    "nenner = 0\n",
    "ergebnis = None\n",
    "try:\n",
    "    ergebnis = zaehler / nenner\n",
    "except TypeError as e:\n",
    "    print(f\"Zaehler oder Nenner nicht vom Datentyp `int`\")\n",
    "except ZeroDivisionError as e:\n",
    "    print(\"Teilung durch 0\")\n",
    "\n",
    "print(f\"Das Ergebnis von {zaehler}/{nenner} = {ergebnis}\")"
   ]
  },
  {
   "cell_type": "markdown",
   "metadata": {},
   "source": [
    "Der `try-except`-Block unterstütz auch die `else`-Anweisung, welche immer ausgeführt wird wenn **keine** Exception auftritt. Ferner gibt es die `finally`-Anweisung welche **immer** ausgeführt wird also im fehlerfreien Fall und im Fehlerfall.\n",
    "\n",
    "Soll zum Beispiel eine Ausgabe nur gemacht werden wenn der `try`-Block erfolgreich war nutzen wir `else`."
   ]
  },
  {
   "cell_type": "code",
   "execution_count": 5,
   "metadata": {},
   "outputs": [
    {
     "name": "stdout",
     "output_type": "stream",
     "text": [
      "Zaehler oder Nenner nicht vom Datentyp `int`\n"
     ]
    }
   ],
   "source": [
    "zaehler = 'keine_zahl'\n",
    "nenner = 0\n",
    "ergebnis = None\n",
    "try:\n",
    "    ergebnis = zaehler / nenner\n",
    "except TypeError as e:\n",
    "    print(f\"Zaehler oder Nenner nicht vom Datentyp `int`\")\n",
    "except ZeroDivisionError as e:\n",
    "    print(\"Teilung durch 0\")\n",
    "else:\n",
    "    print(f\"Die Division war erfolgreich und resultiert in {zaehler}/{nenner} = {ergebnis}\")"
   ]
  },
  {
   "cell_type": "markdown",
   "metadata": {},
   "source": [
    "Soll immer eine Ausgabe erfolgen können wir `finally` verwenden."
   ]
  },
  {
   "cell_type": "code",
   "execution_count": 6,
   "metadata": {},
   "outputs": [
    {
     "name": "stdout",
     "output_type": "stream",
     "text": [
      "Zaehler oder Nenner nicht vom Datentyp `int`\n",
      "Das Ergebnis von keine_zahl/0 = None\n"
     ]
    }
   ],
   "source": [
    "zaehler = 'keine_zahl'\n",
    "nenner = 0\n",
    "ergebnis = None\n",
    "try:\n",
    "    ergebnis = zaehler / nenner\n",
    "except TypeError as e:\n",
    "    print(f\"Zaehler oder Nenner nicht vom Datentyp `int`\")\n",
    "except ZeroDivisionError as e:\n",
    "    print(\"Teilung durch 0\")\n",
    "finally:\n",
    "    print(f\"Das Ergebnis von {zaehler}/{nenner} = {ergebnis}\")"
   ]
  },
  {
   "cell_type": "markdown",
   "metadata": {},
   "source": [
    "## Exceptions selbst erzeugen"
   ]
  },
  {
   "cell_type": "markdown",
   "metadata": {},
   "source": [
    "Exceptions können auch selbst mit `raise` erzeugt werden. Das ist sinnvoll wenn in dem eigenen Code Fehler auftreten können, die woanders behandelt werden müssen. Hierbei muss ein Fehlertyp angegeben werden. Entweder man nutzt den allgemeinsten Fehlertyp `Exception`, einen passenden Standardfehler von Python oder einen selbst definierten. Es ist ratsam meist spezifische Fehlertypen zu nutzen, da der Typ des Fehlers viel beim Behandeln und Debuggen hilft. \n",
    "\n",
    "Definieren wir als Beispiel unsere eigene Divisionsfunktion mit klarer Fehlerbenenung ob Zähler oder Nenner vom falschen Typ sind. Hier wollen wir dass anstatt des `TypeError` ein `ValueError` erzeugt wird. Bei einer Division durch 0 soll anstatt eines Fehlers der Wert `None` zurück gegeben werden."
   ]
  },
  {
   "cell_type": "code",
   "execution_count": 7,
   "metadata": {},
   "outputs": [],
   "source": [
    "def division(zaehler, nenner):\n",
    "    if not isinstance(nenner, (int, float)):\n",
    "        raise ValueError(f\"Nenner nicht vom Datentyp `int` oder `float`\")\n",
    "    elif not isinstance(zaehler, (int, float)):\n",
    "        raise ValueError(f\"Zaehler nicht vom Datentyp `int` oder `float`\")\n",
    "    elif not nenner:\n",
    "        print(\"Warnung Division durch 0\")\n",
    "        return None\n",
    "    else:\n",
    "        ergebnis = zaehler / nenner\n",
    "        print(f\"Das Ergebnis von {zaehler}/{nenner} = {ergebnis}\")\n",
    "        return ergebnis"
   ]
  },
  {
   "cell_type": "code",
   "execution_count": 8,
   "metadata": {
    "tags": [
     "raises-exception"
    ]
   },
   "outputs": [
    {
     "ename": "ValueError",
     "evalue": "Zaehler nicht vom Datentyp `int` oder `float`",
     "output_type": "error",
     "traceback": [
      "\u001b[0;31m---------------------------------------------------------------------------\u001b[0m",
      "\u001b[0;31mValueError\u001b[0m                                Traceback (most recent call last)",
      "Cell \u001b[0;32mIn [8], line 4\u001b[0m\n\u001b[1;32m      1\u001b[0m zaehler \u001b[39m=\u001b[39m \u001b[39m'\u001b[39m\u001b[39mkeine_zahl\u001b[39m\u001b[39m'\u001b[39m\n\u001b[1;32m      2\u001b[0m nenner \u001b[39m=\u001b[39m \u001b[39m0\u001b[39m\n\u001b[0;32m----> 4\u001b[0m ergebnis \u001b[39m=\u001b[39m division(zaehler, nenner)\n",
      "Cell \u001b[0;32mIn [7], line 5\u001b[0m, in \u001b[0;36mdivision\u001b[0;34m(zaehler, nenner)\u001b[0m\n\u001b[1;32m      3\u001b[0m     \u001b[39mraise\u001b[39;00m \u001b[39mValueError\u001b[39;00m(\u001b[39mf\u001b[39m\u001b[39m\"\u001b[39m\u001b[39mNenner nicht vom Datentyp `int` oder `float`\u001b[39m\u001b[39m\"\u001b[39m)\n\u001b[1;32m      4\u001b[0m \u001b[39melif\u001b[39;00m \u001b[39mnot\u001b[39;00m \u001b[39misinstance\u001b[39m(zaehler, (\u001b[39mint\u001b[39m, \u001b[39mfloat\u001b[39m)):\n\u001b[0;32m----> 5\u001b[0m     \u001b[39mraise\u001b[39;00m \u001b[39mValueError\u001b[39;00m(\u001b[39mf\u001b[39m\u001b[39m\"\u001b[39m\u001b[39mZaehler nicht vom Datentyp `int` oder `float`\u001b[39m\u001b[39m\"\u001b[39m)\n\u001b[1;32m      6\u001b[0m \u001b[39melif\u001b[39;00m \u001b[39mnot\u001b[39;00m nenner:\n\u001b[1;32m      7\u001b[0m     \u001b[39mprint\u001b[39m(\u001b[39m\"\u001b[39m\u001b[39mWarnung Division durch 0\u001b[39m\u001b[39m\"\u001b[39m)\n",
      "\u001b[0;31mValueError\u001b[0m: Zaehler nicht vom Datentyp `int` oder `float`"
     ]
    }
   ],
   "source": [
    "zaehler = 'keine_zahl'\n",
    "nenner = 0\n",
    "\n",
    "ergebnis = division(zaehler, nenner)"
   ]
  },
  {
   "cell_type": "code",
   "execution_count": 9,
   "metadata": {},
   "outputs": [],
   "source": [
    "zaehler= 10\n",
    "nenner = 2"
   ]
  },
  {
   "cell_type": "code",
   "execution_count": 10,
   "metadata": {},
   "outputs": [
    {
     "name": "stdout",
     "output_type": "stream",
     "text": [
      "Das Ergebnis von 10/1 = 10.0\n"
     ]
    }
   ],
   "source": [
    "zaehler = 10\n",
    "nenner = 1\n",
    "\n",
    "ergebnis = division(zaehler, nenner)"
   ]
  },
  {
   "cell_type": "markdown",
   "metadata": {},
   "source": [
    "### Fehlerbehandlung bei Funktionen im Stack"
   ]
  },
  {
   "cell_type": "markdown",
   "metadata": {},
   "source": [
    "Exceptions werden im Stack (Aufrufreihenfolge der Funktionen) nach oben weiter gegeben, bis sie entweder abgefangen und behandelt werden oder das Programm abstürzt, wenn das Ende des Stacks erreicht wird. Ziel des Abfangen und Behandeln von Exceptions ist es das Programm zurück in einen Zustand zu bringen in dem es weiterlaufen kann.\n",
    "\n",
    "Als Beispiel wollen wir eine rekursive Funktion definieren welche uns einen Fehler ausgibt, wenn die Rekurssionstiefe zu groß wird um einen Stack-Overflow-Fehler zu vermeiden. Wir nutzen als Beispiel die Fakultät aus dem Rekursions Beispiel."
   ]
  },
  {
   "cell_type": "code",
   "execution_count": 11,
   "metadata": {},
   "outputs": [],
   "source": [
    "def factorial_recursiv(x, depth=1):\n",
    "    if depth > 20:\n",
    "        raise RecursionError(\"Recursion zu tief\")\n",
    "    if x > 1:\n",
    "        return x * factorial_recursiv(x-1, depth+1)\n",
    "    else:\n",
    "        return 1"
   ]
  },
  {
   "cell_type": "code",
   "execution_count": 12,
   "metadata": {},
   "outputs": [
    {
     "data": {
      "text/plain": [
       "2432902008176640000"
      ]
     },
     "execution_count": 12,
     "metadata": {},
     "output_type": "execute_result"
    }
   ],
   "source": [
    "factorial_recursiv(20)"
   ]
  },
  {
   "cell_type": "code",
   "execution_count": 13,
   "metadata": {
    "tags": [
     "raises-exception"
    ]
   },
   "outputs": [
    {
     "ename": "RecursionError",
     "evalue": "Recursion zu tief",
     "output_type": "error",
     "traceback": [
      "\u001b[0;31m---------------------------------------------------------------------------\u001b[0m",
      "\u001b[0;31mRecursionError\u001b[0m                            Traceback (most recent call last)",
      "Cell \u001b[0;32mIn [13], line 1\u001b[0m\n\u001b[0;32m----> 1\u001b[0m factorial_recursiv(\u001b[39m21\u001b[39;49m)\n",
      "Cell \u001b[0;32mIn [11], line 5\u001b[0m, in \u001b[0;36mfactorial_recursiv\u001b[0;34m(x, depth)\u001b[0m\n\u001b[1;32m      3\u001b[0m     \u001b[39mraise\u001b[39;00m \u001b[39mRecursionError\u001b[39;00m(\u001b[39m\"\u001b[39m\u001b[39mRecursion zu tief\u001b[39m\u001b[39m\"\u001b[39m)\n\u001b[1;32m      4\u001b[0m \u001b[39mif\u001b[39;00m x \u001b[39m>\u001b[39m \u001b[39m1\u001b[39m:\n\u001b[0;32m----> 5\u001b[0m     \u001b[39mreturn\u001b[39;00m x \u001b[39m*\u001b[39m factorial_recursiv(x\u001b[39m-\u001b[39;49m\u001b[39m1\u001b[39;49m, depth\u001b[39m+\u001b[39;49m\u001b[39m1\u001b[39;49m)\n\u001b[1;32m      6\u001b[0m \u001b[39melse\u001b[39;00m:\n\u001b[1;32m      7\u001b[0m     \u001b[39mreturn\u001b[39;00m \u001b[39m1\u001b[39m\n",
      "Cell \u001b[0;32mIn [11], line 5\u001b[0m, in \u001b[0;36mfactorial_recursiv\u001b[0;34m(x, depth)\u001b[0m\n\u001b[1;32m      3\u001b[0m     \u001b[39mraise\u001b[39;00m \u001b[39mRecursionError\u001b[39;00m(\u001b[39m\"\u001b[39m\u001b[39mRecursion zu tief\u001b[39m\u001b[39m\"\u001b[39m)\n\u001b[1;32m      4\u001b[0m \u001b[39mif\u001b[39;00m x \u001b[39m>\u001b[39m \u001b[39m1\u001b[39m:\n\u001b[0;32m----> 5\u001b[0m     \u001b[39mreturn\u001b[39;00m x \u001b[39m*\u001b[39m factorial_recursiv(x\u001b[39m-\u001b[39;49m\u001b[39m1\u001b[39;49m, depth\u001b[39m+\u001b[39;49m\u001b[39m1\u001b[39;49m)\n\u001b[1;32m      6\u001b[0m \u001b[39melse\u001b[39;00m:\n\u001b[1;32m      7\u001b[0m     \u001b[39mreturn\u001b[39;00m \u001b[39m1\u001b[39m\n",
      "    \u001b[0;31m[... skipping similar frames: factorial_recursiv at line 5 (17 times)]\u001b[0m\n",
      "Cell \u001b[0;32mIn [11], line 5\u001b[0m, in \u001b[0;36mfactorial_recursiv\u001b[0;34m(x, depth)\u001b[0m\n\u001b[1;32m      3\u001b[0m     \u001b[39mraise\u001b[39;00m \u001b[39mRecursionError\u001b[39;00m(\u001b[39m\"\u001b[39m\u001b[39mRecursion zu tief\u001b[39m\u001b[39m\"\u001b[39m)\n\u001b[1;32m      4\u001b[0m \u001b[39mif\u001b[39;00m x \u001b[39m>\u001b[39m \u001b[39m1\u001b[39m:\n\u001b[0;32m----> 5\u001b[0m     \u001b[39mreturn\u001b[39;00m x \u001b[39m*\u001b[39m factorial_recursiv(x\u001b[39m-\u001b[39;49m\u001b[39m1\u001b[39;49m, depth\u001b[39m+\u001b[39;49m\u001b[39m1\u001b[39;49m)\n\u001b[1;32m      6\u001b[0m \u001b[39melse\u001b[39;00m:\n\u001b[1;32m      7\u001b[0m     \u001b[39mreturn\u001b[39;00m \u001b[39m1\u001b[39m\n",
      "Cell \u001b[0;32mIn [11], line 3\u001b[0m, in \u001b[0;36mfactorial_recursiv\u001b[0;34m(x, depth)\u001b[0m\n\u001b[1;32m      1\u001b[0m \u001b[39mdef\u001b[39;00m \u001b[39mfactorial_recursiv\u001b[39m(x, depth\u001b[39m=\u001b[39m\u001b[39m1\u001b[39m):\n\u001b[1;32m      2\u001b[0m     \u001b[39mif\u001b[39;00m depth \u001b[39m>\u001b[39m \u001b[39m20\u001b[39m:\n\u001b[0;32m----> 3\u001b[0m         \u001b[39mraise\u001b[39;00m \u001b[39mRecursionError\u001b[39;00m(\u001b[39m\"\u001b[39m\u001b[39mRecursion zu tief\u001b[39m\u001b[39m\"\u001b[39m)\n\u001b[1;32m      4\u001b[0m     \u001b[39mif\u001b[39;00m x \u001b[39m>\u001b[39m \u001b[39m1\u001b[39m:\n\u001b[1;32m      5\u001b[0m         \u001b[39mreturn\u001b[39;00m x \u001b[39m*\u001b[39m factorial_recursiv(x\u001b[39m-\u001b[39m\u001b[39m1\u001b[39m, depth\u001b[39m+\u001b[39m\u001b[39m1\u001b[39m)\n",
      "\u001b[0;31mRecursionError\u001b[0m: Recursion zu tief"
     ]
    }
   ],
   "source": [
    "factorial_recursiv(21)"
   ]
  },
  {
   "cell_type": "markdown",
   "metadata": {},
   "source": [
    "In der obigen Fehlermeldung bringt das Programm selbst zum erliegen (es stürtzt allerdings nicht der ganze Kernel ab, wie beim Stack-Overflow-Fehler). Um das zu vermeiden müssen wir den Fehler mit `try-except` abfangen. In der Fehlermeldung oben deutet sich schon der Stack-Trace an, also die Liste der Funktionsaufrufe die auf dem Stack gesammelt wurde. "
   ]
  },
  {
   "cell_type": "code",
   "execution_count": 14,
   "metadata": {},
   "outputs": [
    {
     "name": "stdout",
     "output_type": "stream",
     "text": [
      "Recursion zu tief\n"
     ]
    },
    {
     "name": "stderr",
     "output_type": "stream",
     "text": [
      "Traceback (most recent call last):\n",
      "  File \"<ipython-input-14-5ee89209e701>\", line 3, in <module>\n",
      "    factorial_recursiv(21)\n",
      "  File \"<ipython-input-11-4da5d69fe3e0>\", line 5, in factorial_recursiv\n",
      "    return x * factorial_recursiv(x-1, depth+1)\n",
      "  File \"<ipython-input-11-4da5d69fe3e0>\", line 5, in factorial_recursiv\n",
      "    return x * factorial_recursiv(x-1, depth+1)\n",
      "  File \"<ipython-input-11-4da5d69fe3e0>\", line 5, in factorial_recursiv\n",
      "    return x * factorial_recursiv(x-1, depth+1)\n",
      "  [Previous line repeated 17 more times]\n",
      "  File \"<ipython-input-11-4da5d69fe3e0>\", line 3, in factorial_recursiv\n",
      "    raise RecursionError(\"Recursion zu tief\")\n",
      "RecursionError: Recursion zu tief\n"
     ]
    }
   ],
   "source": [
    "import traceback\n",
    "try:\n",
    "    factorial_recursiv(21)\n",
    "except RecursionError as e:\n",
    "    print(e)\n",
    "    traceback.print_exc()"
   ]
  }
 ],
 "metadata": {
  "kernelspec": {
   "display_name": "Python 3.9.10 ('base')",
   "language": "python",
   "name": "python3"
  },
  "language_info": {
   "codemirror_mode": {
    "name": "ipython",
    "version": 3
   },
   "file_extension": ".py",
   "mimetype": "text/x-python",
   "name": "python",
   "nbconvert_exporter": "python",
   "pygments_lexer": "ipython3",
   "version": "3.9.10"
  },
  "orig_nbformat": 4,
  "vscode": {
   "interpreter": {
    "hash": "6d5b4c1aed727cf1aeefa5ce625efdd40a732dd8ec11ef525b58c5aca2b06a32"
   }
  }
 },
 "nbformat": 4,
 "nbformat_minor": 2
}
