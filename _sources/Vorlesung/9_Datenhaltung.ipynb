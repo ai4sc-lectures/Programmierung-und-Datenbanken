{
 "cells": [
  {
   "cell_type": "markdown",
   "metadata": {},
   "source": [
    "# Datenhaltung"
   ]
  },
  {
   "cell_type": "markdown",
   "metadata": {},
   "source": [
    "In Programmen müssen regelmäßig Daten geladen und gespeichert werden. Dies geschieht in Computern in Dateien, welche in Verzeichnissen organisiert sind. In der letztem Abschnitt zu Paketen haben wir bereits einige Beispiele gesehen die mit Dateien arbeiten. Diese wollen wir nun detaillierter kennen lernen."
   ]
  },
  {
   "cell_type": "markdown",
   "metadata": {},
   "source": [
    "## Umgang mit Dateien"
   ]
  },
  {
   "cell_type": "markdown",
   "metadata": {},
   "source": [
    "### Dateien lesen"
   ]
  },
  {
   "cell_type": "markdown",
   "metadata": {},
   "source": [
    "Eine typische Aufgabe ist es Dateien zu laden. Hierfür bietet Python die `open()`-Funktion mit dem Kürzel `r` (read). Hierfür gibt man der `open()`-Funktion den Pfad der zu ladenden Datei an und auch den Datentyp der Datei also ob die Datei eine Textdatei ist `t` oder eine binäre Datei `b` ist.\n",
    "\n",
    "Die `open()`-Funktion verwendet man meist im `with`-Konstrukt, welcher die Datei einer Variable zuordnet (`fi`) und die Datei nach Beendigung des Blocks auch automatisch schließt. Zum lesen des Inhalts der Datei nutzen wir die `read()` des Dateiobjektes."
   ]
  },
  {
   "cell_type": "code",
   "execution_count": 1,
   "metadata": {},
   "outputs": [
    {
     "name": "stdout",
     "output_type": "stream",
     "text": [
      "Datentyp Datei <class '_io.TextIOWrapper'>\n",
      "Datentyp Variable <class 'str'>\n",
      "from geometry.points.ImmutablePoint import ImmutablePoint\n",
      "\n",
      "class Line:\n",
      "    def __init__(self, start: ImmutablePoint, end: ImmutablePoint):\n",
      "        self.start = start\n",
      "        self.end = end\n",
      "\n",
      "    def length(self):\n",
      "        return self.start.distance(self.end)\n"
     ]
    }
   ],
   "source": [
    "with open(\"geometry/shapes/Line.py\", \"tr\") as fi:\n",
    "    dateinhalt=fi.read()\n",
    "    print(f\"Datentyp Datei {type(fi)}\")\n",
    "    print(f\"Datentyp Variable {type(dateinhalt)}\")\n",
    "    print(dateinhalt)"
   ]
  },
  {
   "cell_type": "markdown",
   "metadata": {},
   "source": [
    "In gleicher Form kann man auch binäre Dateien einlesen. Dafür tauschen wir den Dateityp `t` mit binär aus `b` und laden die Datei. Wir sehen, dass jetzt der Datentyp der geladenen Dateinhalts zu `byte` wechselt. Printen wir den Dateinhalt sehen wir auch direkt die Sonderzeichen in der Datei wie `\\r` und `\\n` welche für den Zeilenumbruch stehen."
   ]
  },
  {
   "cell_type": "code",
   "execution_count": 2,
   "metadata": {},
   "outputs": [
    {
     "name": "stdout",
     "output_type": "stream",
     "text": [
      "Datentyp Datei <class '_io.BufferedReader'>\n",
      "Datentyp Variable <class 'bytes'>\n",
      "b'from geometry.points.ImmutablePoint import ImmutablePoint\\r\\n\\r\\nclass Line:\\r\\n    def __init__(self, start: ImmutablePoint, end: ImmutablePoint):\\r\\n        self.start = start\\r\\n        self.end = end\\r\\n\\r\\n    def length(self):\\r\\n        return self.start.distance(self.end)'\n"
     ]
    }
   ],
   "source": [
    "with open(\"geometry/shapes/Line.py\", \"br\") as fi:\n",
    "    dateinhalt=fi.read()\n",
    "    print(f\"Datentyp Datei {type(fi)}\")\n",
    "    print(f\"Datentyp Variable {type(dateinhalt)}\")\n",
    "    print(dateinhalt)"
   ]
  },
  {
   "cell_type": "markdown",
   "metadata": {},
   "source": [
    "### Dateien schreiben"
   ]
  },
  {
   "cell_type": "markdown",
   "metadata": {},
   "source": [
    "In gleicher Weise können wir mit der `open()`-Funktion auch neue Dateien erzeugen. Hierfür nutzen wir das Kürzel `w` (write). Auch hier werden Textdateien mit `t` und binäre Dateien mit `b` unterschieden. Zum Schreiben der Datei nutzen wir die `write()`-Methode des Dateiobjektes `fo`."
   ]
  },
  {
   "cell_type": "code",
   "execution_count": 3,
   "metadata": {},
   "outputs": [],
   "source": [
    "with open(\"meineDatei.txt\", \"tw\") as fo:\n",
    "    dateinhalt=\"Meine eigener Inhalt\"\n",
    "    fo.write(dateinhalt)"
   ]
  },
  {
   "cell_type": "markdown",
   "metadata": {},
   "source": [
    "Zum überprüfen lesen wir die Datei wieder."
   ]
  },
  {
   "cell_type": "code",
   "execution_count": 4,
   "metadata": {},
   "outputs": [
    {
     "name": "stdout",
     "output_type": "stream",
     "text": [
      "Meine eigener Inhalt\n"
     ]
    }
   ],
   "source": [
    "with open(\"meineDatei.txt\", \"tr\") as fi:\n",
    "    print(fi.read())"
   ]
  },
  {
   "cell_type": "markdown",
   "metadata": {},
   "source": [
    "Wichtig zu wissen ist, dass die Datei vollständig überschrieben wird."
   ]
  },
  {
   "cell_type": "code",
   "execution_count": 5,
   "metadata": {},
   "outputs": [],
   "source": [
    "with open(\"meineDatei.txt\", \"tw\") as fo:\n",
    "    dateinhalt=\"Neuer Inhalt\"\n",
    "    fo.write(dateinhalt)"
   ]
  },
  {
   "cell_type": "code",
   "execution_count": 6,
   "metadata": {},
   "outputs": [
    {
     "name": "stdout",
     "output_type": "stream",
     "text": [
      "Neuer Inhalt\n"
     ]
    }
   ],
   "source": [
    "with open(\"meineDatei.txt\", \"tr\") as fi:\n",
    "    print(fi.read())"
   ]
  },
  {
   "cell_type": "markdown",
   "metadata": {},
   "source": [
    "### Datei existenz testen"
   ]
  },
  {
   "cell_type": "markdown",
   "metadata": {},
   "source": [
    "Häufig will man testen ob eine Datei bereits existiert und dementsprechend diese laden oder z.B. neu erzeugen. Solche und andere Funktionen bietet die Standardbibliothek `os` die wir bereits kennen gelernt haben."
   ]
  },
  {
   "cell_type": "code",
   "execution_count": 7,
   "metadata": {},
   "outputs": [
    {
     "name": "stdout",
     "output_type": "stream",
     "text": [
      "Datei existiert\n"
     ]
    }
   ],
   "source": [
    "if os.path.exists(\"meineDatei.txt\"):\n",
    "    print(\"Datei existiert\")\n",
    "else:\n",
    "    print(\"Datei existiert noch nicht\")"
   ]
  },
  {
   "cell_type": "markdown",
   "metadata": {},
   "source": [
    "### Dateien auflisten"
   ]
  },
  {
   "cell_type": "markdown",
   "metadata": {},
   "source": [
    "Im letzten Abschitt haben wir bereits die Funktion `os.listdir` zum Auflisten aller Dateien in einem Verzeichnis kennen gelern. Wir können diese nun mit der `open`-Funktion verbinden, um z.B. alle Dateien zu laden und die Anzahl der Code-Zeilen zu berechnen. Dafür nutzen wir anstatt der `read`-Funktion die `readlines`-Funktion um alle Zeilen einzeln in einer Liste zu erhalten."
   ]
  },
  {
   "cell_type": "code",
   "execution_count": 8,
   "metadata": {},
   "outputs": [
    {
     "name": "stdout",
     "output_type": "stream",
     "text": [
      "60 Codezeilen in 5 Dateien\n"
     ]
    }
   ],
   "source": [
    "import os\n",
    "\n",
    "folder = \"geometry/shapes/\"\n",
    "codelines = 0\n",
    "files = os.listdir(folder)\n",
    "for count, filename in enumerate(files):\n",
    "\twith open(os.path.join(folder, filename), \"tr\") as fi:\n",
    "\t\tcodelines += len(fi.readlines())\n",
    "\n",
    "print(f\"{codelines} Codezeilen in {len(files)} Dateien\")"
   ]
  },
  {
   "cell_type": "markdown",
   "metadata": {},
   "source": [
    "### Dateien löschen"
   ]
  },
  {
   "cell_type": "markdown",
   "metadata": {},
   "source": [
    "Die `os`-Paket bietet auch Funktionen, um Dateien zu löschen. Selbstverständlich sollte die mit Vorsicht verwendet werdet werden."
   ]
  },
  {
   "cell_type": "code",
   "execution_count": 9,
   "metadata": {},
   "outputs": [],
   "source": [
    "os.remove(\"meineDatei.txt\")"
   ]
  },
  {
   "cell_type": "markdown",
   "metadata": {},
   "source": [
    "## Typische textuelle Dateiformate"
   ]
  },
  {
   "cell_type": "markdown",
   "metadata": {},
   "source": [
    "### txt-Dateien"
   ]
  },
  {
   "cell_type": "markdown",
   "metadata": {},
   "source": [
    "Eine der einfachsten Formate um Texte auf dem Computer zu Speichern sind Text-Dateien. Sie haben meist die Dateiendung `.txt`. Diese Dateiänderung haben wir bereits oben genutzt."
   ]
  },
  {
   "cell_type": "markdown",
   "metadata": {},
   "source": [
    "### JSON-Dateien"
   ]
  },
  {
   "cell_type": "markdown",
   "metadata": {},
   "source": [
    "Heutzutage werden strukturierte Informationen oft im `JSON`-Format ausgetauscht. Insbesondere viele APIs von Webserver im Internet nutzen diesen Standard. Er hat den Vorteil, dass die Daten durch den Menschen lesbar bleiben und somit auch vom Webdeveloper interpretiert werden können. Im Kern ähnelt der Standard der Darstellung von `dict` in Python.\n",
    "\n",
    "Wir können zum Beispiel den Datensatz zu einer Person in dem folgendem dict speichern."
   ]
  },
  {
   "cell_type": "code",
   "execution_count": 10,
   "metadata": {},
   "outputs": [],
   "source": [
    "person={  \n",
    "\t\"firstName\": \"John\",\n",
    "\t\"lastName\": \"Smith\",\n",
    "\t\"isAlive\": True,\n",
    "\t\"age\": 25,\n",
    "\t\"address\": {\n",
    "\t\t\"streetAddress\": \"21 2nd Street\",\n",
    "\t\t\"city\": \"New York\",\n",
    "\t\t\"state\": \"NY\",\n",
    "\t\t\"postalCode\": \"10021-3100\" \n",
    "\t},\n",
    " \t\"children\": [ ],\n",
    "\t\"spouse\": None\n",
    "}"
   ]
  },
  {
   "cell_type": "markdown",
   "metadata": {},
   "source": [
    "Mit Hilfe des `json`-Pakets lässt sich dieser Datensatz jetzt einfach in ein `JSON` String umwandeln und in eine Datei schreiben."
   ]
  },
  {
   "cell_type": "code",
   "execution_count": 11,
   "metadata": {},
   "outputs": [],
   "source": [
    "import json\n",
    "\n",
    "with open(\"person.json\", \"tw\") as fo:\n",
    "    json.dump(person, fo)"
   ]
  },
  {
   "cell_type": "markdown",
   "metadata": {},
   "source": [
    "Schauen wir uns einmal die Datei an"
   ]
  },
  {
   "cell_type": "code",
   "execution_count": 12,
   "metadata": {},
   "outputs": [
    {
     "name": "stdout",
     "output_type": "stream",
     "text": [
      "{\"firstName\": \"John\", \"lastName\": \"Smith\", \"isAlive\": true, \"age\": 25, \"address\": {\"streetAddress\": \"21 2nd Street\", \"city\": \"New York\", \"state\": \"NY\", \"postalCode\": \"10021-3100\"}, \"children\": [], \"spouse\": null}\n"
     ]
    }
   ],
   "source": [
    "with open(\"person.json\", \"tr\") as fi:\n",
    "    dateinhalt=fi.read()\n",
    "    print(dateinhalt)"
   ]
  },
  {
   "cell_type": "markdown",
   "metadata": {},
   "source": [
    "Aus dieser Textdatei können wir jetzt unseren Datensatz direkt als `dict` wieder laden."
   ]
  },
  {
   "cell_type": "code",
   "execution_count": 13,
   "metadata": {},
   "outputs": [
    {
     "name": "stdout",
     "output_type": "stream",
     "text": [
      "Datentyp <class 'dict'>\n",
      "{'firstName': 'John', 'lastName': 'Smith', 'isAlive': True, 'age': 25, 'address': {'streetAddress': '21 2nd Street', 'city': 'New York', 'state': 'NY', 'postalCode': '10021-3100'}, 'children': [], 'spouse': None}\n"
     ]
    }
   ],
   "source": [
    "with open(\"person.json\", \"tr\") as fi:\n",
    "    person_geladen=json.load(fi)\n",
    "    print(f\"Datentyp {type(person_geladen)}\")\n",
    "    print(person_geladen)"
   ]
  },
  {
   "cell_type": "code",
   "execution_count": 14,
   "metadata": {
    "tags": [
     "remove-cell"
    ]
   },
   "outputs": [],
   "source": [
    "# wir löschen die datei\n",
    "os.remove(\"person.json\")"
   ]
  },
  {
   "cell_type": "markdown",
   "metadata": {},
   "source": [
    "### XML-Dateien"
   ]
  },
  {
   "cell_type": "markdown",
   "metadata": {},
   "source": [
    "XML ist ein anderes sehr weit verbreitetes Dateiformat. Alle Webseiten im Internet nutzen z.B. dieses Format. Es ist älter als JSON und immer noch sehr beliebt, weil es erlaubt Schemata (XLS) zu definieren, gegen diese die Datei validiert werden kann. So kann man z.B. sicher stellen das HTML-Dateien korrekt sind.\n",
    "\n",
    "Mit Hilfe der externen Pakete `dicttoxml` und `xmltodict` können XML-Dateien auch einfach geschrieben und gelesen werden."
   ]
  },
  {
   "cell_type": "code",
   "execution_count": 15,
   "metadata": {},
   "outputs": [],
   "source": [
    "import dicttoxml\n",
    "\n",
    "with open(\"person.xml\", \"bw\") as fo:\n",
    "    fo.write(dicttoxml.dicttoxml(person, custom_root=\"person\"))"
   ]
  },
  {
   "cell_type": "code",
   "execution_count": 16,
   "metadata": {},
   "outputs": [
    {
     "name": "stdout",
     "output_type": "stream",
     "text": [
      "<?xml version=\"1.0\" encoding=\"UTF-8\" ?><person><firstName type=\"str\">John</firstName><lastName type=\"str\">Smith</lastName><isAlive type=\"bool\">true</isAlive><age type=\"int\">25</age><address type=\"dict\"><streetAddress type=\"str\">21 2nd Street</streetAddress><city type=\"str\">New York</city><state type=\"str\">NY</state><postalCode type=\"str\">10021-3100</postalCode></address><children type=\"list\"></children><spouse type=\"null\"></spouse></person>\n"
     ]
    }
   ],
   "source": [
    "with open(\"person.xml\", \"tr\") as fi:\n",
    "    dateinhalt=fi.read()\n",
    "    print(dateinhalt)"
   ]
  },
  {
   "cell_type": "code",
   "execution_count": 17,
   "metadata": {},
   "outputs": [
    {
     "name": "stdout",
     "output_type": "stream",
     "text": [
      "Datentyp <class 'dict'>\n",
      "{'person': {'firstName': {'@type': 'str', '#text': 'John'}, 'lastName': {'@type': 'str', '#text': 'Smith'}, 'isAlive': {'@type': 'bool', '#text': 'true'}, 'age': {'@type': 'int', '#text': '25'}, 'address': {'@type': 'dict', 'streetAddress': {'@type': 'str', '#text': '21 2nd Street'}, 'city': {'@type': 'str', '#text': 'New York'}, 'state': {'@type': 'str', '#text': 'NY'}, 'postalCode': {'@type': 'str', '#text': '10021-3100'}}, 'children': {'@type': 'list'}, 'spouse': {'@type': 'null'}}}\n"
     ]
    }
   ],
   "source": [
    "import xmltodict\n",
    "\n",
    "with open(\"person.xml\", \"tr\") as fi:\n",
    "    person_geladen=xmltodict.parse(fi.read())\n",
    "    print(f\"Datentyp {type(person_geladen)}\")\n",
    "    print(person_geladen)"
   ]
  },
  {
   "cell_type": "code",
   "execution_count": 18,
   "metadata": {
    "tags": [
     "remove-cell"
    ]
   },
   "outputs": [],
   "source": [
    "# wir löschen die datei\n",
    "os.remove(\"person.xml\")"
   ]
  },
  {
   "cell_type": "markdown",
   "metadata": {},
   "source": [
    "### CSV-Dateien"
   ]
  },
  {
   "cell_type": "markdown",
   "metadata": {},
   "source": [
    "Tabellen und Messwerte werden häufig als CSV-Dateien ausgetauscht. Dies ist ein sehr einfaches Format bei dem in der ersten Zeile der Text-Datei die Spaltennamen stehen und dann in jeder Zeile steht eine Reihe der Tabelle. Alle Werte werden durch Kommata `,` getrennt. Da das Komma im Deutschen als Dezimaltrennzeichen genutzt wird, wird hier häufig ein `;` oder Tabulator `\\t` genutzt.\n",
    "\n",
    "Zum Verarbeiten von Tabellen nutzt man in Python meist die `pandas`-Bibliothek. Wollen wir zum Beispiel den Datensatz zweier Personen speichern, so wandeln wir diesen zuerst in eine `pandas`-Tabelle (DataFrame) um."
   ]
  },
  {
   "cell_type": "code",
   "execution_count": 23,
   "metadata": {},
   "outputs": [],
   "source": [
    "leute=[\n",
    "    {\"FirstName\":\"John\", \"LastName\":\"Smith\", \"IsAlive\":True, \"Age\":25},\n",
    "    {\"FirstName\":\"Mary\", \"LastName\":\"Sue\", \"IsAlive\":True, \"Age\":30}\n",
    "]"
   ]
  },
  {
   "cell_type": "code",
   "execution_count": 34,
   "metadata": {},
   "outputs": [
    {
     "data": {
      "text/html": [
       "<div>\n",
       "<style scoped>\n",
       "    .dataframe tbody tr th:only-of-type {\n",
       "        vertical-align: middle;\n",
       "    }\n",
       "\n",
       "    .dataframe tbody tr th {\n",
       "        vertical-align: top;\n",
       "    }\n",
       "\n",
       "    .dataframe thead th {\n",
       "        text-align: right;\n",
       "    }\n",
       "</style>\n",
       "<table border=\"1\" class=\"dataframe\">\n",
       "  <thead>\n",
       "    <tr style=\"text-align: right;\">\n",
       "      <th></th>\n",
       "      <th>FirstName</th>\n",
       "      <th>LastName</th>\n",
       "      <th>IsAlive</th>\n",
       "      <th>Age</th>\n",
       "    </tr>\n",
       "  </thead>\n",
       "  <tbody>\n",
       "    <tr>\n",
       "      <th>0</th>\n",
       "      <td>John</td>\n",
       "      <td>Smith</td>\n",
       "      <td>True</td>\n",
       "      <td>25</td>\n",
       "    </tr>\n",
       "    <tr>\n",
       "      <th>1</th>\n",
       "      <td>Mary</td>\n",
       "      <td>Sue</td>\n",
       "      <td>True</td>\n",
       "      <td>30</td>\n",
       "    </tr>\n",
       "  </tbody>\n",
       "</table>\n",
       "</div>"
      ],
      "text/plain": [
       "  FirstName LastName  IsAlive  Age\n",
       "0      John    Smith     True   25\n",
       "1      Mary      Sue     True   30"
      ]
     },
     "execution_count": 34,
     "metadata": {},
     "output_type": "execute_result"
    }
   ],
   "source": [
    "import pandas as pd\n",
    "\n",
    "tabelle=pd.DataFrame(leute)\n",
    "tabelle"
   ]
  },
  {
   "cell_type": "markdown",
   "metadata": {},
   "source": [
    "Diesen können wir jetzt als CSV-Datei speichern."
   ]
  },
  {
   "cell_type": "code",
   "execution_count": 51,
   "metadata": {},
   "outputs": [],
   "source": [
    "tabelle.to_csv(\"leute.csv\", index=False) # index=False sorgt dafür dass die Zeilennummer weggelassen wird"
   ]
  },
  {
   "cell_type": "markdown",
   "metadata": {},
   "source": [
    "Wir lesen probeweise die Datei wieder ein. Da sie text-basiert ist können wir `open()` mit `tr` nutzen."
   ]
  },
  {
   "cell_type": "code",
   "execution_count": 52,
   "metadata": {},
   "outputs": [
    {
     "name": "stdout",
     "output_type": "stream",
     "text": [
      "FirstName,LastName,IsAlive,Age\n",
      "John,Smith,True,25\n",
      "Mary,Sue,True,30\n",
      "\n"
     ]
    }
   ],
   "source": [
    "with open(\"leute.csv\", \"tr\") as fi:\n",
    "    dateinhalt=fi.read()\n",
    "    print(dateinhalt)"
   ]
  },
  {
   "cell_type": "markdown",
   "metadata": {},
   "source": [
    "Wir können jetzt die CSV-Datei wieder in eine Tabelle laden."
   ]
  },
  {
   "cell_type": "code",
   "execution_count": 53,
   "metadata": {},
   "outputs": [
    {
     "data": {
      "text/html": [
       "<div>\n",
       "<style scoped>\n",
       "    .dataframe tbody tr th:only-of-type {\n",
       "        vertical-align: middle;\n",
       "    }\n",
       "\n",
       "    .dataframe tbody tr th {\n",
       "        vertical-align: top;\n",
       "    }\n",
       "\n",
       "    .dataframe thead th {\n",
       "        text-align: right;\n",
       "    }\n",
       "</style>\n",
       "<table border=\"1\" class=\"dataframe\">\n",
       "  <thead>\n",
       "    <tr style=\"text-align: right;\">\n",
       "      <th></th>\n",
       "      <th>FirstName</th>\n",
       "      <th>LastName</th>\n",
       "      <th>IsAlive</th>\n",
       "      <th>Age</th>\n",
       "    </tr>\n",
       "  </thead>\n",
       "  <tbody>\n",
       "    <tr>\n",
       "      <th>0</th>\n",
       "      <td>John</td>\n",
       "      <td>Smith</td>\n",
       "      <td>True</td>\n",
       "      <td>25</td>\n",
       "    </tr>\n",
       "    <tr>\n",
       "      <th>1</th>\n",
       "      <td>Mary</td>\n",
       "      <td>Sue</td>\n",
       "      <td>True</td>\n",
       "      <td>30</td>\n",
       "    </tr>\n",
       "  </tbody>\n",
       "</table>\n",
       "</div>"
      ],
      "text/plain": [
       "  FirstName LastName  IsAlive  Age\n",
       "0      John    Smith     True   25\n",
       "1      Mary      Sue     True   30"
      ]
     },
     "execution_count": 53,
     "metadata": {},
     "output_type": "execute_result"
    }
   ],
   "source": [
    "tabelle_gelesen = pd.read_csv(\"leute.csv\")\n",
    "tabelle_gelesen"
   ]
  },
  {
   "cell_type": "markdown",
   "metadata": {},
   "source": [
    "und zu dem Dictionary zurückverwandeln"
   ]
  },
  {
   "cell_type": "code",
   "execution_count": 50,
   "metadata": {},
   "outputs": [
    {
     "data": {
      "text/plain": [
       "[{'FirstName': 'John', 'LastName': 'Smith', 'IsAlive': True, 'Age': 25},\n",
       " {'FirstName': 'Mary', 'LastName': 'Sue', 'IsAlive': True, 'Age': 30}]"
      ]
     },
     "execution_count": 50,
     "metadata": {},
     "output_type": "execute_result"
    }
   ],
   "source": [
    "tabelle_gelesen.to_dict(\"records\")"
   ]
  },
  {
   "cell_type": "code",
   "execution_count": 54,
   "metadata": {
    "tags": [
     "remove-cell"
    ]
   },
   "outputs": [],
   "source": [
    "# wir löschen die datei\n",
    "os.remove(\"leute.csv\")"
   ]
  }
 ],
 "metadata": {
  "kernelspec": {
   "display_name": "Python 3.10.6 ('lehre')",
   "language": "python",
   "name": "python3"
  },
  "language_info": {
   "codemirror_mode": {
    "name": "ipython",
    "version": 3
   },
   "file_extension": ".py",
   "mimetype": "text/x-python",
   "name": "python",
   "nbconvert_exporter": "python",
   "pygments_lexer": "ipython3",
   "version": "3.10.6"
  },
  "orig_nbformat": 4,
  "vscode": {
   "interpreter": {
    "hash": "c6f6ea9c9385f57658f4c302ffd3b717b6cd59b095fbd1c55795f0b67656eecd"
   }
  }
 },
 "nbformat": 4,
 "nbformat_minor": 2
}
