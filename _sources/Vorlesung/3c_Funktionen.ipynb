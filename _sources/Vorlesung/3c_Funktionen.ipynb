{
 "cells": [
  {
   "cell_type": "markdown",
   "metadata": {},
   "source": [
    "# Funktionen"
   ]
  },
  {
   "cell_type": "markdown",
   "metadata": {},
   "source": [
    "## Funktionsdefinition und Funktionsaufruf"
   ]
  },
  {
   "cell_type": "markdown",
   "metadata": {},
   "source": [
    "Alle höheren Programmiersprachen erlauben die Definition von Funktionen (oder Prozeduren), um sich ständig wiederholenden Code nur einmal schreiben zu müssen und komplexe Programme zu strukturieren."
   ]
  },
  {
   "cell_type": "markdown",
   "metadata": {},
   "source": [
    "Funktionen werden in Python mit dem Schlüsselwort `def` definiert. Sie haben einen `funktionsnamen` und können mehrere Argumente als Eingabe in einer Klammer haben. Die Deklaration der Funktion wird mit `:` beendet. Der Körper der Funktion, also der Teil, welcher beim Aufrufen der Funktion ausgeführt werden soll, muss immer eingerückt werden."
   ]
  },
  {
   "cell_type": "code",
   "execution_count": 3,
   "metadata": {},
   "outputs": [],
   "source": [
    "def funktionsname(argument1, argument2):\n",
    "    # Funktionskörper\n",
    "    print(\"Der Datentyp von Argument 1 ist \"+str(type(argument1)))\n",
    "    print(\"Der Datentyp von Argument 2 ist \"+str(type(argument2)))"
   ]
  },
  {
   "cell_type": "markdown",
   "metadata": {},
   "source": [
    "Hierbei müssen alle Teile der Funktion gleich eingerückt werden. Der folgende Code ist z.B. syntaktisch falsch"
   ]
  },
  {
   "cell_type": "code",
   "execution_count": 4,
   "metadata": {
    "tags": [
     "raises-exception"
    ]
   },
   "outputs": [
    {
     "ename": "IndentationError",
     "evalue": "unexpected indent (<ipython-input-4-fb0ee95bdd75>, line 4)",
     "output_type": "error",
     "traceback": [
      "\u001b[0;36m  Cell \u001b[0;32mIn [4], line 4\u001b[0;36m\u001b[0m\n\u001b[0;31m    print(\"Der Datentyp von Argument 2 ist \"+str(type(argument2)))\u001b[0m\n\u001b[0m    ^\u001b[0m\n\u001b[0;31mIndentationError\u001b[0m\u001b[0;31m:\u001b[0m unexpected indent\n"
     ]
    }
   ],
   "source": [
    "def funktionsname(argument1, argument):\n",
    "    # Funktionskörper\n",
    "    print(\"Der Datentyp von Argument 1 ist \"+str(type(argument1)))\n",
    "        print(\"Der Datentyp von Argument 2 ist \"+str(type(argument2)))"
   ]
  },
  {
   "cell_type": "markdown",
   "metadata": {},
   "source": [
    "Beim Aufruf der Funktion durch den `funktionsname(wert1, wert2)` müssen die Argumente mit Eingabewerten belegt werden. Die Argumente in Python werden wie andere Variablen dynamisch typisiert (Wir wissen also nicht unbedingt welchen Datentyp sie später haben werden. Das ist eine typische Fehlerquelle).\n"
   ]
  },
  {
   "cell_type": "code",
   "execution_count": 5,
   "metadata": {},
   "outputs": [
    {
     "name": "stdout",
     "output_type": "stream",
     "text": [
      "Der Datentyp von Argument 1 ist <class 'str'>\n",
      "Der Datentyp von Argument 2 ist <class 'int'>\n"
     ]
    }
   ],
   "source": [
    "funktionsname(\"wert1\", 2)"
   ]
  },
  {
   "cell_type": "markdown",
   "metadata": {},
   "source": [
    "Das entscheidende ist, dass die Argumente ihre Werte ändern können."
   ]
  },
  {
   "cell_type": "code",
   "execution_count": 6,
   "metadata": {},
   "outputs": [
    {
     "name": "stdout",
     "output_type": "stream",
     "text": [
      "Der Datentyp von Argument 1 ist <class 'str'>\n",
      "Der Datentyp von Argument 2 ist <class 'str'>\n"
     ]
    }
   ],
   "source": [
    "funktionsname(\"anderer wert \", \"noch ein anderer\")"
   ]
  },
  {
   "cell_type": "markdown",
   "metadata": {},
   "source": [
    "## Ergebnisrückgabe"
   ]
  },
  {
   "cell_type": "markdown",
   "metadata": {},
   "source": [
    "Die Anweisung `return` wird in Funktionen benutzt, um die Ausführung einer Funktion zu beenden und den zugewiesenen Wert(e) als Ergebnis der Funktion zurückzugeben."
   ]
  },
  {
   "cell_type": "code",
   "execution_count": 7,
   "metadata": {},
   "outputs": [],
   "source": [
    "def funktion_mit_einer_ausgabe():\n",
    "    return \"Ausgabewert\"\n",
    "    print(\"Dieser Teil wird nicht ausgeführt\")\n",
    "    return \"Anderer Ausgabewert\""
   ]
  },
  {
   "cell_type": "code",
   "execution_count": 8,
   "metadata": {},
   "outputs": [
    {
     "data": {
      "text/plain": [
       "'Ausgabewert'"
      ]
     },
     "execution_count": 8,
     "metadata": {},
     "output_type": "execute_result"
    }
   ],
   "source": [
    "ergebnis = funktion_mit_einer_ausgabe()\n",
    "ergebnis"
   ]
  },
  {
   "cell_type": "markdown",
   "metadata": {},
   "source": [
    "Wir sehen, dass das Ergebnis `Ausgabewert` ist und die `print()` Funktion nicht aufgerufen worden ist."
   ]
  },
  {
   "cell_type": "markdown",
   "metadata": {},
   "source": [
    "Es können mehrere Ausgabewerte mit `return` zurückgegeben werden."
   ]
  },
  {
   "cell_type": "code",
   "execution_count": 9,
   "metadata": {},
   "outputs": [],
   "source": [
    "def funktion_mit_zwei_ausgaben():\n",
    "    return \"Ausgabewert1\", \"Ausgabewert2\""
   ]
  },
  {
   "cell_type": "code",
   "execution_count": 10,
   "metadata": {},
   "outputs": [
    {
     "data": {
      "text/plain": [
       "('Ausgabewert1', 'Ausgabewert2')"
      ]
     },
     "execution_count": 10,
     "metadata": {},
     "output_type": "execute_result"
    }
   ],
   "source": [
    "ergebnis = funktion_mit_zwei_ausgaben()\n",
    "ergebnis"
   ]
  },
  {
   "cell_type": "markdown",
   "metadata": {},
   "source": [
    "Das Ergebnis von Funktionen mit mehreren Rückgaben ist ein Tuple."
   ]
  },
  {
   "cell_type": "code",
   "execution_count": 11,
   "metadata": {},
   "outputs": [
    {
     "data": {
      "text/plain": [
       "tuple"
      ]
     },
     "execution_count": 11,
     "metadata": {},
     "output_type": "execute_result"
    }
   ],
   "source": [
    "type(ergebnis)"
   ]
  },
  {
   "cell_type": "markdown",
   "metadata": {},
   "source": [
    "Auf die einzelnen Werte im Tuple kann durch den Index zugegriffen werden. Zur Erinnerung der Index einer Liste oder eines Tuples startet mit 0."
   ]
  },
  {
   "cell_type": "code",
   "execution_count": 12,
   "metadata": {},
   "outputs": [
    {
     "data": {
      "text/plain": [
       "'Ausgabewert1'"
      ]
     },
     "execution_count": 12,
     "metadata": {},
     "output_type": "execute_result"
    }
   ],
   "source": [
    "ergebnis[0]"
   ]
  },
  {
   "cell_type": "markdown",
   "metadata": {},
   "source": [
    "Das Tuple kann allerdings auch durch Mehrfachzuweisung verhindert werden. Bei einer Mehrfachzuweisung listet man mehrere durch Komma getrennte Variablen links von der Zuweisung auf. "
   ]
  },
  {
   "cell_type": "code",
   "execution_count": 13,
   "metadata": {},
   "outputs": [
    {
     "name": "stdout",
     "output_type": "stream",
     "text": [
      "Ausgabewert1\n",
      "Ausgabewert2\n",
      "<class 'str'>\n",
      "<class 'str'>\n"
     ]
    }
   ],
   "source": [
    "ergebnis1, ergebnis2 = funktion_mit_zwei_ausgaben()\n",
    "print(ergebnis1)\n",
    "print(ergebnis2)\n",
    "print(type(ergebnis1))\n",
    "print(type(ergebnis2))"
   ]
  },
  {
   "cell_type": "markdown",
   "metadata": {},
   "source": [
    "## Variablengültigkeit"
   ]
  },
  {
   "cell_type": "markdown",
   "metadata": {},
   "source": [
    "Variablen innerhalb von Funktionen sind nicht global gültig. So sind die Variablen der Argumente nur innerhalb der Funktion gültig. Auch neue Variablen, die in der Funktion definiert werden, sind nicht außerhalb der Funktion gültig. So sind in der folgenden Funktion:"
   ]
  },
  {
   "cell_type": "code",
   "execution_count": 14,
   "metadata": {},
   "outputs": [],
   "source": [
    "def meine_funktion(argument):\n",
    "    interne_variable = \"geheim\"\n",
    "    print(\"Der Wert von argument innerhalb der Funktion ist \"+str(argument))\n",
    "    print(\"Der Wert von intern innerhalb der Funktion ist \"+str(interne_variable))"
   ]
  },
  {
   "cell_type": "markdown",
   "metadata": {},
   "source": [
    "die Werte von `argument` und `intern` innerhalb der Funktion definiert und werden im ´print()´ Statement ausgegeben."
   ]
  },
  {
   "cell_type": "code",
   "execution_count": 15,
   "metadata": {},
   "outputs": [
    {
     "name": "stdout",
     "output_type": "stream",
     "text": [
      "Der Wert von argument innerhalb der Funktion ist argument_wert\n",
      "Der Wert von intern innerhalb der Funktion ist geheim\n"
     ]
    }
   ],
   "source": [
    "meine_funktion(\"argument_wert\")"
   ]
  },
  {
   "cell_type": "markdown",
   "metadata": {},
   "source": [
    "Die Variablen `argument` und `interne_variable` sind nach dem Ausführen der Funktion allerdings nicht global verfügbar."
   ]
  },
  {
   "cell_type": "code",
   "execution_count": 19,
   "metadata": {
    "tags": [
     "raises-exception"
    ]
   },
   "outputs": [
    {
     "ename": "NameError",
     "evalue": "name 'argument' is not defined",
     "output_type": "error",
     "traceback": [
      "\u001b[0;31m---------------------------------------------------------------------------\u001b[0m",
      "\u001b[0;31mNameError\u001b[0m                                 Traceback (most recent call last)",
      "Cell \u001b[0;32mIn [19], line 1\u001b[0m\n\u001b[0;32m----> 1\u001b[0m \u001b[39mprint\u001b[39m(argument)\n",
      "\u001b[0;31mNameError\u001b[0m: name 'argument' is not defined"
     ]
    }
   ],
   "source": [
    "print(argument)"
   ]
  },
  {
   "cell_type": "code",
   "execution_count": null,
   "metadata": {
    "tags": [
     "raises-exception"
    ]
   },
   "outputs": [],
   "source": [
    "print(interne_variable)"
   ]
  },
  {
   "cell_type": "markdown",
   "metadata": {},
   "source": [
    "Die erlaubt es auch Variablennamen außerhalb der Funktion zu definieren, welche innerhalb der Funktion einen anderen Wert haben können. So bleibt der Wert von `argument` unverändert."
   ]
  },
  {
   "cell_type": "code",
   "execution_count": 20,
   "metadata": {},
   "outputs": [
    {
     "name": "stdout",
     "output_type": "stream",
     "text": [
      "Der Wert von argument vor der Funktion ist 6\n",
      "Der Wert von argument innerhalb der Funktion ist 6\n",
      "Der Wert von intern innerhalb der Funktion ist geheim\n",
      "Der Wert von argument nach der Funktion ist immer noch 6\n"
     ]
    }
   ],
   "source": [
    "argument = 6 # orginalwert\n",
    "print(\"Der Wert von argument vor der Funktion ist \"+str(argument))\n",
    "meine_funktion(argument)\n",
    "print(\"Der Wert von argument nach der Funktion ist immer noch \"+str(argument))"
   ]
  },
  {
   "cell_type": "markdown",
   "metadata": {},
   "source": [
    "## Veränderte und unveränderte Argumente"
   ]
  },
  {
   "cell_type": "markdown",
   "metadata": {},
   "source": [
    "Grundsätzlich werden Modifikationen an Argumenten primitiver Datentypen innerhalb der Funktion nicht übernommen (pass-by-value). So, lässt sich innerhalb der Funktion auch Argumenten neue Werte zuweisen."
   ]
  },
  {
   "cell_type": "code",
   "execution_count": 21,
   "metadata": {},
   "outputs": [
    {
     "name": "stdout",
     "output_type": "stream",
     "text": [
      "Der Wert von argument vor der Funktion ist 6\n",
      "Der Wert von argument am Anfang der Funktion ist 6\n",
      "Der Wert von argument am Ende der Funktion ist 3\n",
      "Der Wert von argument nach der Funktion ist immer noch 6\n"
     ]
    }
   ],
   "source": [
    "def meine_funktion(argument):\n",
    "    print(\"Der Wert von argument am Anfang der Funktion ist \"+str(argument))\n",
    "    argument = 3\n",
    "    print(\"Der Wert von argument am Ende der Funktion ist \"+str(argument))\n",
    "\n",
    "argument = 6 # orginalwert\n",
    "print(\"Der Wert von argument vor der Funktion ist \"+str(argument))\n",
    "meine_funktion(argument)\n",
    "print(\"Der Wert von argument nach der Funktion ist immer noch \"+str(argument))"
   ]
  },
  {
   "cell_type": "markdown",
   "metadata": {},
   "source": [
    "Das funktioniert auch bei komplexen Datentypen, wie `list`, `set`, `dict`, sofern sie komplett neu zugewiesen werden."
   ]
  },
  {
   "cell_type": "code",
   "execution_count": 22,
   "metadata": {},
   "outputs": [
    {
     "name": "stdout",
     "output_type": "stream",
     "text": [
      "Der Wert von argument vor der Funktion ist [6]\n",
      "Der Wert von argument am Anfang der Funktion ist [6]\n",
      "Der Wert von argument am Ende der Funktion ist [3]\n",
      "Der Wert von argument nach der Funktion ist immer noch [6]\n"
     ]
    }
   ],
   "source": [
    "def meine_funktion(argument):\n",
    "    print(\"Der Wert von argument am Anfang der Funktion ist \"+str(argument))\n",
    "    argument = [3]\n",
    "    print(\"Der Wert von argument am Ende der Funktion ist \"+str(argument))\n",
    "\n",
    "argument = [6] # orginalwert\n",
    "print(\"Der Wert von argument vor der Funktion ist \"+str(argument))\n",
    "meine_funktion(argument)\n",
    "print(\"Der Wert von argument nach der Funktion ist immer noch \"+str(argument))"
   ]
  },
  {
   "cell_type": "markdown",
   "metadata": {},
   "source": [
    "Werden sie allerdings nur modifiziert (pass-by-reference), so sind diese Änderungen auch global."
   ]
  },
  {
   "cell_type": "code",
   "execution_count": 23,
   "metadata": {},
   "outputs": [
    {
     "name": "stdout",
     "output_type": "stream",
     "text": [
      "Der Wert von argument vor der Funktion ist [6]\n",
      "Der Wert von argument am Anfang der Funktion ist [6]\n",
      "Der Wert von argument am Ende der Funktion ist [6, 3]\n",
      "Der Wert von argument nach der Funktion ist auf einmal [6, 3]\n"
     ]
    }
   ],
   "source": [
    "def meine_funktion(argument):\n",
    "    print(\"Der Wert von argument am Anfang der Funktion ist \"+str(argument))\n",
    "    argument.append(3) # Wir fügen 3 der liste hinzu\n",
    "    print(\"Der Wert von argument am Ende der Funktion ist \"+str(argument))\n",
    "    \n",
    "argument = [6] # orginalwert\n",
    "print(\"Der Wert von argument vor der Funktion ist \"+str(argument))\n",
    "meine_funktion(argument)\n",
    "print(\"Der Wert von argument nach der Funktion ist auf einmal \"+str(argument))"
   ]
  },
  {
   "cell_type": "markdown",
   "metadata": {},
   "source": [
    ":::{warning} \n",
    "Das kann sehr schnell zu Fehlern führen, wenn man unbeabsichtigt globale Datenstrukturen verändert.\n",
    ":::"
   ]
  }
 ],
 "metadata": {
  "kernelspec": {
   "display_name": "Python 3.9.10 ('base')",
   "language": "python",
   "name": "python3"
  },
  "language_info": {
   "codemirror_mode": {
    "name": "ipython",
    "version": 3
   },
   "file_extension": ".py",
   "mimetype": "text/x-python",
   "name": "python",
   "nbconvert_exporter": "python",
   "pygments_lexer": "ipython3",
   "version": "3.9.10"
  },
  "orig_nbformat": 4,
  "vscode": {
   "interpreter": {
    "hash": "6d5b4c1aed727cf1aeefa5ce625efdd40a732dd8ec11ef525b58c5aca2b06a32"
   }
  }
 },
 "nbformat": 4,
 "nbformat_minor": 2
}
