{
 "cells": [
  {
   "cell_type": "markdown",
   "metadata": {},
   "source": [
    "# Objekte"
   ]
  },
  {
   "cell_type": "markdown",
   "metadata": {},
   "source": [
    "Objektorientierte Programmierung (OOP) ist ein Programmierparadigma das annimmt dass ein Programm ausschließlich aus **Objekten** die miteinander kooperativ interagieren. Jedes Objekt verfügt über **Attribute** (Eigenschaften) und **Methoden**. Die Attribute definieren dabei über ihre Werte den Zustand eines Objektes, die Methoden die möglichen Zustandsänderungen (Handlungen) eines Objektes.\n",
    "\n",
    "Die Objektorientierung löst dabei einige Problem im Umgang mit sich oft wiederholenden Datenstrukturen in großen Programmen."
   ]
  },
  {
   "cell_type": "markdown",
   "metadata": {},
   "source": [
    "## Herausforderungen mit sich stark wiederholenden Datenstrukturen"
   ]
  },
  {
   "cell_type": "markdown",
   "metadata": {},
   "source": [
    "### Das syntaktische Problem"
   ]
  },
  {
   "cell_type": "markdown",
   "metadata": {},
   "source": [
    "Objekte werden verwendet, um festzulegen wie Datenstrukturen die sich wiederholen gespeichert werden. Hierbei geht es darum, dass der Syntax der Datenstruktur eindeutig ist.\n",
    "\n",
    "Wächst das Programm an, so wächst auch die Menge der Variablen und Datenstrukturen\n",
    "-  zur Speicherung von Daten\n",
    "-  zur Kontrolle des Programmflusses\n",
    "-  zum Abspeichern von Zuständen\n",
    "-  zum Verarbeiten von Ein- und Ausgaben\n",
    "\n",
    "Dabei basieren die zugrundeliegenden Elemente meist auf sich wiederholenden Datenstrukturen. Analysiert man z.B. Baupläne oder Karten so verwaltet man viele Punkt-Koordinaten. Hierbei kann man allerdings ein Koordinate unterschiedlich z.B. als Tupel oder als Liste ausdrücken."
   ]
  },
  {
   "cell_type": "code",
   "execution_count": 63,
   "metadata": {},
   "outputs": [],
   "source": [
    "point_1 = (54.083336, 12.108811)\n",
    "point_2 = [12.094167, 54.075211]"
   ]
  },
  {
   "cell_type": "markdown",
   "metadata": {},
   "source": [
    "### Das semantische Problem"
   ]
  },
  {
   "cell_type": "markdown",
   "metadata": {},
   "source": [
    "Objekte werden auch verwendet, um die Semantik von Werten einer Datenstrukturen eindeutig zu definieren.\n",
    "\n",
    "Haben wir uns z.B. darauf geeinigt, dass wir ein Punkt syntaktisch durch ein Tupel repräsentieren, so ist die Bedeutung der Werte dennoch nicht bekannt."
   ]
  },
  {
   "cell_type": "code",
   "execution_count": 64,
   "metadata": {},
   "outputs": [],
   "source": [
    "point_1 = (54.083336, 12.108811)\n",
    "point_2 = (12.094167, 54.075211)"
   ]
  },
  {
   "cell_type": "markdown",
   "metadata": {},
   "source": [
    "Ein anderer Programmierer wird hier aber ggf. nicht die semantische Bedeutung verstehen. In diesem Beispiel kann man vermuten, dass der erste Wert die `x`-Koordinate ist und der zweite die `y`-Koordinate. Vieleicht ist es aber auch andersherum. Ggf. handelt es sich aber auch garnicht um ein karthesisches Koordinatensystem sondern um ein radiales."
   ]
  },
  {
   "cell_type": "markdown",
   "metadata": {},
   "source": [
    "### Das Verhaltensproblem"
   ]
  },
  {
   "cell_type": "markdown",
   "metadata": {},
   "source": [
    "\n",
    "\n",
    "Objekte werden zudem verwendet, um die Funktionen zur Verarbeitung der Datenstrukturen direkt mit dieser zu bündeln, so dass die Datenstruktur nur jene Funktionen anbietet, welche auch sinnvoll anwendbar sind.\n",
    "\n",
    "Definieren wir z.B. eine Funktion um die Distanz zweier Punkte zu berechnen, so kann man aufgrund der dynamischen Typisierung in Python diese ja auch auf andere Datenstrukturen anwenden, z.B. auf eine Line. Was ein semantisch oder logischer Fehler wäre."
   ]
  },
  {
   "cell_type": "code",
   "execution_count": 65,
   "metadata": {},
   "outputs": [],
   "source": [
    "import math\n",
    "\n",
    "def distance(a, b):\n",
    "    return math.sqrt((a[0]-b[0])**2 + (a[1]-b[1])**2)"
   ]
  },
  {
   "cell_type": "markdown",
   "metadata": {},
   "source": [
    "## Objektorientierung"
   ]
  },
  {
   "cell_type": "markdown",
   "metadata": {},
   "source": [
    "## Klassen deklaration"
   ]
  },
  {
   "cell_type": "markdown",
   "metadata": {},
   "source": [
    "Anstatt unübersichtlich viele verstreute Datenstrukturen und Funktionen zu benutzen, gruppieren wir diese in Objekte. \n",
    "Da man ja normieren will, muss die Struktur dieser Objekte vor Verwendung definiert werden. Dies geschieht über **Klassen**, welche eine Art Bauplan für die damit normierten Objekte darstellt. Eine Klasse definiert:\n",
    "\n",
    "-   welche Attribute (Eigenschaften) ein Objekt dieser Klasse besitzt\n",
    "-   und welche Methoden (Funktionen) ein Objekt der Klasse bereit stellt"
   ]
  },
  {
   "cell_type": "markdown",
   "metadata": {},
   "source": [
    "Der erste Schritt zu einem Objekt ist das Definieren einer neuen Klasse für den Typ des Objektes. Dies geschieht über den `class`-Kennwort auf welches der Klassenname folgt. Danach wird wie die Klassendefinition eingerückt. Diese legt fest welche Attribute und Methoden die Klasse besitzt."
   ]
  },
  {
   "cell_type": "code",
   "execution_count": 66,
   "metadata": {},
   "outputs": [],
   "source": [
    "class Klassenname:\n",
    "    # Klassendefinition\n",
    "    pass"
   ]
  },
  {
   "cell_type": "markdown",
   "metadata": {},
   "source": [
    "### Konstruktor"
   ]
  },
  {
   "cell_type": "markdown",
   "metadata": {},
   "source": [
    "Eine der wichtigsten Methoden einer Klasse ist der Konstruktor `__init__()`. Das ist eine spezielle Methode, die festlegt wie eine neue Instanz der Klasse erzeugt werden kann. Er wird genutzt um Attribute initial zuzuweisen als auch Initialisierungsschritte (Tests, Berechnungen, Konfiguration, etc.) durchzuführen.\n",
    "\n",
    "Jede Klasse muss genau einen Konstruktur haben. Wird dieser nicht definiert, so wird ein leerer Konstruktor von Python erzeugt, der nichts macht, wie das folgende Beispiel."
   ]
  },
  {
   "cell_type": "code",
   "execution_count": 67,
   "metadata": {},
   "outputs": [],
   "source": [
    "class Klassenname:\n",
    "    # Leerer Konstruktor\n",
    "    def __init__(self):\n",
    "        pass"
   ]
  },
  {
   "cell_type": "markdown",
   "metadata": {},
   "source": [
    "### Instanzattribute"
   ]
  },
  {
   "cell_type": "markdown",
   "metadata": {},
   "source": [
    "Der Konstruktor wird als Funktion `__init__(self)` mit dem Parameter `self` definiert. `self` ist dabei eine Selbst-Referenz auf die neue Instanz der Klasse. Sie dient dazu, dass man Instanzattribute direkt beim Erzeugen der Instanz zuweisen kann. **Instanzattribute** sind Attribute die in jeder Instanz unterschiedlich sein können, also wenn es individuelle Werte der Eingenschaft gibt.\n",
    "\n",
    "Definieren wir z.B. die Klasse eines Punktes mit `x`- und `y`-Koordinaten. Da jede Instanz diese beiden Koordinaten haben muss und sie auch für jede Instanz unterschiedlich sein können, weisen wir sie bereits im Konstruktor als Instanzattribute zu. Damit ist festgelet, dass jede Instanz der Klasse diese Attribute hat."
   ]
  },
  {
   "cell_type": "code",
   "execution_count": 68,
   "metadata": {},
   "outputs": [],
   "source": [
    "class Point:\n",
    "    # Konstruktor\n",
    "    def __init__(self, x, y):\n",
    "        self.x = x\n",
    "        self.y = y"
   ]
  },
  {
   "cell_type": "markdown",
   "metadata": {},
   "source": [
    "Die Zuweisung erfolgt hierbei über den Punkt-Syntax bei dem ein Punkt die Instanzvariable (`self`) von dem Attributnamen `x` trennt. `self.x` ist somit eine Referenz auf das Attribut `x` der Instanz `self`. Die Zuweisung `self.x = x` bedeutet dass wir den Wert der Variablen `x` dem neuen Instanzattribut `x` zuweise. Obwohl beide gleich heißen sind sie nicht die gleiche Variable, weil `self.x` ja ein Attribut der Instanz ist und `x` ein Parameter der Funktion ist und nur in dieser gültig ist."
   ]
  },
  {
   "cell_type": "markdown",
   "metadata": {},
   "source": [
    "Da `__init__()` eine Funktion ist, wenn auch besonders, kann man auch Defaults definieren. Wollen wir z.B. definieren wir, dass `x` und `y` mit 0 initialisiert werden, wenn sie nicht angegeben werden, so können wir auch dies als Defaultwerte deklarieren"
   ]
  },
  {
   "cell_type": "code",
   "execution_count": 69,
   "metadata": {},
   "outputs": [],
   "source": [
    "class Point:\n",
    "    # Konstruktor\n",
    "    def __init__(self, x = 0.0, y = 0.0):\n",
    "        self.x = x\n",
    "        self.y = y"
   ]
  },
  {
   "cell_type": "markdown",
   "metadata": {},
   "source": [
    "### Klassenattribute"
   ]
  },
  {
   "cell_type": "markdown",
   "metadata": {},
   "source": [
    "Neben Instanzattributen gibt es auch **Klassenattribute**. Dies sind Attribute welche für alle Instanzen einer Klasse den gleichen Wert haben sollen. "
   ]
  },
  {
   "cell_type": "code",
   "execution_count": 70,
   "metadata": {},
   "outputs": [],
   "source": [
    "class Point:\n",
    "    # Attribut aller Instanzen\n",
    "    unit = \"m\""
   ]
  },
  {
   "cell_type": "markdown",
   "metadata": {},
   "source": [
    ":::{warning}\n",
    "**Klassenattribute** gelten für alle Instanzen. Insbesondere bei zusammengesetzten Datentypen bedeutet das, wenn eine Instanz den Wert ändert, so ändert er sich in allen anderen Instanzen auch.\n",
    ":::"
   ]
  },
  {
   "cell_type": "markdown",
   "metadata": {},
   "source": [
    "### Methoden"
   ]
  },
  {
   "cell_type": "markdown",
   "metadata": {},
   "source": [
    "Klassen definieren häufig auch eigene Methoden, also Funktionen die speziell nur auf Instanzen dieser Klasse angewendet werden sollen und nicht auf andere Objekte.\n",
    "\n",
    "Methoden werden als Funktionen innerhalb der Einrückung der Klassendefinition deklariert. Diese Methoden sind dann in allen Instanzen verfügbar. Methoden besitzen immer `self` als ersten Parameter. Auch hier ist das eine Referenz auf die aktuelle Instanz. Dadurch kann man dann auf die Attribute oder andere Methoden zugreifen.\n",
    "\n",
    "So können wir zum Beispiel die `distance`-Funktion vom Anfang als Methode definieren, dass sie nun die Distanz zweier Punkte `self` und `other` berechnen."
   ]
  },
  {
   "cell_type": "code",
   "execution_count": 71,
   "metadata": {},
   "outputs": [],
   "source": [
    "class Point:\n",
    "    # Attribut aller Instanzen\n",
    "    unit = \"m\"\n",
    "    \n",
    "    # Konstruktor\n",
    "    def __init__(self, x, y):\n",
    "        self.x = x\n",
    "        self.y = y\n",
    "\n",
    "    # Methode\n",
    "    def distance(self, other):\n",
    "        return math.sqrt((self.x - other.x)**2 + (self.y - other.y)**2)"
   ]
  },
  {
   "cell_type": "markdown",
   "metadata": {},
   "source": [
    "## Klasseninstanzen"
   ]
  },
  {
   "cell_type": "markdown",
   "metadata": {},
   "source": [
    "Objekte selbst sind immer Instanzen einer Klasse (die Klasse ist ja nur ein Bauplan). Eine Klasse kann beliebig viele Instanzen haben oder gar keine. Alle Instanzen sind gleich aufgebaut, besitzen aber nicht unbedingt die gleiche Werte in den Attributen.\n",
    "\n",
    "Mit der neuen Klasse `Punkt` können wir nun die Punkte am Anfang jetzt syntaktisch, semantisch und im Verhalten eindeutig definieren. Dabei erzeugen wir Instanzen der Klasse nicht direkt mit dem Konstruktor sondern indem wir den Klassennahmen wie eine Funktion aufrufen, mit den Parametern des Konstruktors. Dabei wird der `self`-Parameter weggelassen (er wird von Python zugewiesen).\n",
    "\n",
    "Dabei können wir die Parameter auch bennen und so semantische Unklarheiten umgehen."
   ]
  },
  {
   "cell_type": "code",
   "execution_count": 72,
   "metadata": {},
   "outputs": [],
   "source": [
    "point_1 = Point(x=54.083336, y=12.108811)\n",
    "point_2 = Point(y=12.094167, x=54.075211)"
   ]
  },
  {
   "cell_type": "markdown",
   "metadata": {},
   "source": [
    "Auch die Werte des Objektes sind nun semantisch klar definiert. Wir können auf sie mit dem Punkt-Syntax zugreifen, wobei der Variablenname des Objektes links steht und der Attributname rechts. Um auf das Attribut `x` zuzugreifen schreiben wir"
   ]
  },
  {
   "cell_type": "code",
   "execution_count": 73,
   "metadata": {},
   "outputs": [
    {
     "data": {
      "text/plain": [
       "54.083336"
      ]
     },
     "execution_count": 73,
     "metadata": {},
     "output_type": "execute_result"
    }
   ],
   "source": [
    "point_1.x"
   ]
  },
  {
   "cell_type": "markdown",
   "metadata": {},
   "source": [
    "Das funktioniert auch für die Klassenattribute. In voller Schönheit können wir dann z.B. schreiben"
   ]
  },
  {
   "cell_type": "code",
   "execution_count": 74,
   "metadata": {},
   "outputs": [
    {
     "name": "stdout",
     "output_type": "stream",
     "text": [
      "Der Punkt liegt bei x: 54.083336 m; y: 12.108811 m\n"
     ]
    }
   ],
   "source": [
    "print(f\"Der Punkt liegt bei x: {point_1.x} {point_1.unit}; y: {point_1.y} {point_1.unit}\")"
   ]
  },
  {
   "cell_type": "markdown",
   "metadata": {},
   "source": [
    "In gleicher Weise können wir den Attributen neue Werte zuweisen."
   ]
  },
  {
   "cell_type": "code",
   "execution_count": 75,
   "metadata": {},
   "outputs": [],
   "source": [
    "point_1.x = 54.08\n",
    "point_1.y = 12.11"
   ]
  },
  {
   "cell_type": "code",
   "execution_count": 76,
   "metadata": {},
   "outputs": [
    {
     "name": "stdout",
     "output_type": "stream",
     "text": [
      "Der Punkt liegt nun bei x: 54.08 m; y: 12.11 m\n"
     ]
    }
   ],
   "source": [
    "print(f\"Der Punkt liegt nun bei x: {point_1.x} {point_1.unit}; y: {point_1.y} {point_1.unit}\")"
   ]
  },
  {
   "cell_type": "markdown",
   "metadata": {},
   "source": [
    "Mit dem Punkt-Syntax können wir auch die Methoden aufrufen. Wollen wir die Distanz von `point_1` und `point_2` berechnen, so schreiben wir"
   ]
  },
  {
   "cell_type": "code",
   "execution_count": 77,
   "metadata": {},
   "outputs": [
    {
     "data": {
      "text/plain": [
       "0.016541414993884864"
      ]
     },
     "execution_count": 77,
     "metadata": {},
     "output_type": "execute_result"
    }
   ],
   "source": [
    "point_1.distance(point_2)"
   ]
  },
  {
   "cell_type": "markdown",
   "metadata": {},
   "source": [
    "## Referenzen"
   ]
  },
  {
   "cell_type": "code",
   "execution_count": 80,
   "metadata": {},
   "outputs": [],
   "source": [
    "class Line:\n",
    "    def __init__(self, start: Point, end: Point):\n",
    "        self.points = [start, end]\n",
    "\n",
    "    def length(self):\n",
    "        return self.points[0].distance(self.points[1])"
   ]
  },
  {
   "cell_type": "code",
   "execution_count": 83,
   "metadata": {},
   "outputs": [],
   "source": [
    "linie_1 = Line(start=point_1, end=point_2)"
   ]
  },
  {
   "cell_type": "code",
   "execution_count": 84,
   "metadata": {},
   "outputs": [
    {
     "data": {
      "text/plain": [
       "0.016541414993884864"
      ]
     },
     "execution_count": 84,
     "metadata": {},
     "output_type": "execute_result"
    }
   ],
   "source": [
    "linie_1.length()"
   ]
  },
  {
   "cell_type": "markdown",
   "metadata": {},
   "source": [
    "## Kapzelung"
   ]
  },
  {
   "cell_type": "markdown",
   "metadata": {},
   "source": [
    "immutable Punkt"
   ]
  },
  {
   "cell_type": "code",
   "execution_count": null,
   "metadata": {},
   "outputs": [],
   "source": [
    "class Punkt:\n",
    "    # Attribut aller Instanzen\n",
    "    unit = \"m\"\n",
    "    \n",
    "    # Konstruktor\n",
    "    def __init__(self, x, y):\n",
    "        self.__x = x\n",
    "        self.__y = y\n",
    "\n",
    "    # Methode\n",
    "    def distance(self, point_2):\n",
    "        return math.sqrt((self.__x - point_2.__x)**2 + (self.__y - point_2.__y)**2)\n",
    "    \n",
    "    def get_x(self):\n",
    "        return self.__x\n",
    "\n",
    "    def get_y(self):\n",
    "        return self.__y"
   ]
  },
  {
   "cell_type": "code",
   "execution_count": null,
   "metadata": {},
   "outputs": [],
   "source": [
    "point_1 = Punkt(54.083336, 12.108811)\n",
    "point_2 = Punkt(12.0941671, 54.075211)"
   ]
  },
  {
   "cell_type": "code",
   "execution_count": null,
   "metadata": {},
   "outputs": [],
   "source": [
    "print(f\"Der Punkt liegt bei x: {point_1.__x} {point_1.unit}; y: {point_1.__y} {point_1.unit}\")"
   ]
  },
  {
   "cell_type": "code",
   "execution_count": null,
   "metadata": {},
   "outputs": [],
   "source": [
    "print(f\"Der Punkt liegt bei x: {point_1.get_x()} {point_1.unit}; y: {point_1.get_y()} {point_1.unit}\")"
   ]
  },
  {
   "cell_type": "code",
   "execution_count": null,
   "metadata": {},
   "outputs": [],
   "source": [
    "class GeoKoordinate(Punkt):\n",
    "    # Attribut aller Instanzen\n",
    "    unit = \"m\"\n",
    "\n",
    "    def __init__(self, longitude, latitude):\n",
    "        super().__init__(longitude, latitude)\n",
    "\n",
    "    def get_longitude(self):\n",
    "        return self.get_x()\n",
    "\n",
    "    def get_latitude(self):\n",
    "        return self.get_y()"
   ]
  },
  {
   "cell_type": "code",
   "execution_count": null,
   "metadata": {},
   "outputs": [],
   "source": [
    "point_1 = GeoKoordinate(54.083336, 12.108811)"
   ]
  },
  {
   "cell_type": "code",
   "execution_count": null,
   "metadata": {},
   "outputs": [],
   "source": [
    "point_1.get_x()"
   ]
  },
  {
   "cell_type": "code",
   "execution_count": null,
   "metadata": {},
   "outputs": [],
   "source": [
    "point_1.get_latitude()"
   ]
  },
  {
   "cell_type": "code",
   "execution_count": null,
   "metadata": {},
   "outputs": [],
   "source": []
  }
 ],
 "metadata": {
  "kernelspec": {
   "display_name": "Python 3.10.6 ('lehre')",
   "language": "python",
   "name": "python3"
  },
  "language_info": {
   "codemirror_mode": {
    "name": "ipython",
    "version": 3
   },
   "file_extension": ".py",
   "mimetype": "text/x-python",
   "name": "python",
   "nbconvert_exporter": "python",
   "pygments_lexer": "ipython3",
   "version": "3.10.6"
  },
  "orig_nbformat": 4,
  "vscode": {
   "interpreter": {
    "hash": "c6f6ea9c9385f57658f4c302ffd3b717b6cd59b095fbd1c55795f0b67656eecd"
   }
  }
 },
 "nbformat": 4,
 "nbformat_minor": 2
}
